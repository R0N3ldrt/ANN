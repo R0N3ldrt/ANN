{
  "nbformat": 4,
  "nbformat_minor": 0,
  "metadata": {
    "colab": {
      "name": "Untitled8.ipynb",
      "provenance": [],
      "authorship_tag": "ABX9TyPxQkhTIswGtP37hUSbBvTX",
      "include_colab_link": true
    },
    "kernelspec": {
      "name": "python3",
      "display_name": "Python 3"
    },
    "language_info": {
      "name": "python"
    }
  },
  "cells": [
    {
      "cell_type": "markdown",
      "metadata": {
        "id": "view-in-github",
        "colab_type": "text"
      },
      "source": [
        "<a href=\"https://colab.research.google.com/github/R0N3ldrt/Thesis/blob/main/synthetic_constellation_v3.ipynb\" target=\"_parent\"><img src=\"https://colab.research.google.com/assets/colab-badge.svg\" alt=\"Open In Colab\"/></a>"
      ]
    },
    {
      "cell_type": "markdown",
      "source": [
        "# Synthetic Constellation"
      ],
      "metadata": {
        "id": "pGh8g-miYhWN"
      }
    },
    {
      "cell_type": "markdown",
      "source": [
        "# Loading Necesary Libraries"
      ],
      "metadata": {
        "id": "EnyBi7O6YtBK"
      }
    },
    {
      "cell_type": "code",
      "execution_count": 11,
      "metadata": {
        "id": "3CRIKozoYfn1"
      },
      "outputs": [],
      "source": [
        "# Importing necesary libraries\n",
        "# Libraries for correct code execution \n",
        "\n",
        "import os, time\n",
        "import pandas as pd\n",
        "import numpy as np\n",
        "import matplotlib.pyplot as plt\n",
        "import math\n",
        "import pickle\n",
        "import random\n",
        "import csv\n",
        "import re\n",
        "from tqdm import tqdm\n",
        "\n",
        "from random import random, gauss\n",
        "from math import modf, pi, cos, sin, sqrt\n",
        "from sklearn.model_selection import train_test_split\n",
        "from sklearn.preprocessing import MinMaxScaler\n",
        "from plotly.subplots import make_subplots\n",
        "\n",
        "import plotly.graph_objects as go\n",
        "import plotly.express as px\n",
        "from plotly.subplots import make_subplots\n",
        "\n",
        "from keras.models import Sequential\n",
        "from keras.layers import Dense,Conv2D, Flatten\n",
        "from keras.wrappers.scikit_learn import KerasRegressor\n",
        "from keras.callbacks import EarlyStopping\n",
        "from sklearn.mixture import GaussianMixture\n",
        "\n",
        "import warnings\n",
        "warnings.filterwarnings(\"ignore\")"
      ]
    },
    {
      "cell_type": "markdown",
      "source": [
        "# Load Enviroment"
      ],
      "metadata": {
        "id": "18mwd0RSYwZw"
      }
    },
    {
      "cell_type": "code",
      "source": [
        "# BLOQUE PARA USAR DESDE COLAB\n",
        "\n",
        "# Google drive loading as work station for local-usage of the files.\n",
        "from google.colab import drive\n",
        "drive.mount('/content/gdrive',force_remount= True)\n",
        "\n",
        "#-----------------------------------------------------------------------------"
      ],
      "metadata": {
        "colab": {
          "base_uri": "https://localhost:8080/"
        },
        "id": "YeY4YJAjY7dP",
        "outputId": "75e75687-197e-4cc2-fd38-617774767e62"
      },
      "execution_count": 12,
      "outputs": [
        {
          "output_type": "stream",
          "name": "stdout",
          "text": [
            "Mounted at /content/gdrive\n"
          ]
        }
      ]
    },
    {
      "cell_type": "code",
      "source": [
        "# Lista para cambiar los paths rapido.\n",
        "workers = [\"Ronald\", \"Local\"]\n",
        "\n",
        "# Change the number to change the paths.\n",
        "worker = workers[0]\n",
        "\n",
        "if worker == \"Ronald\":\n",
        "  path= \"/content/gdrive/MyDrive/Thesis_Workstation/ANN_dataset\"\n",
        "else: path = os.getcwd()"
      ],
      "metadata": {
        "id": "_Dd4TmFoY9yG"
      },
      "execution_count": 13,
      "outputs": []
    },
    {
      "cell_type": "markdown",
      "source": [
        "# Synthetic Constellation"
      ],
      "metadata": {
        "id": "uh1vXbd7kucq"
      }
    },
    {
      "cell_type": "code",
      "source": [
        "def synthetic_constellation(r_dispertion, n_samples=1, centroid = None, n_features = 2048, distribution_funct = 'uniform', power_val='-2'):\n",
        "  samples_per_square = int(n_features/16)\n",
        "\n",
        "  data = {}\n",
        "  if centroid == None: # default centroids\n",
        "    centroids = [(-3, 3), (-1, 3), (1, 3), (3, 3),\n",
        "                (-3, 1), (-1, 1), (1, 1), (3, 1),\n",
        "                (-3, -1), (-1, -1), (1, -1), (3, -1),\n",
        "                (-3, -3), (-1, -3), (1, -3), (3, -3)]\n",
        "\n",
        "  samples_per_square_cnt = 0\n",
        "\n",
        "  centroid_cnt = 0\n",
        "  \n",
        "  for feature_num in range(0, n_features):\n",
        "    sample_data = []\n",
        "\n",
        "    for sample in range(n_samples):\n",
        "      if r_dispertion == 0:\n",
        "        # Process for dispersion 0\n",
        "        if samples_per_square_cnt == samples_per_square-1 and samples_per_square != n_features:\n",
        "          centroid_cnt += 1\n",
        "          samples_per_square = samples_per_square + 128\n",
        "          r = centroids[centroid_cnt][0] #real\n",
        "          i = centroids[centroid_cnt][1] #imag\n",
        "\n",
        "          symbol = complex(r, i)\n",
        "\n",
        "        else: # First iteration (square 1)\n",
        "          r = centroids[centroid_cnt][0]\n",
        "          i = centroids[centroid_cnt][1]\n",
        "\n",
        "          symbol = complex(r, i)\n",
        "\n",
        "      else: # Process for dispersion > 0\n",
        "        if samples_per_square_cnt == samples_per_square-1 and samples_per_square != n_features:\n",
        "          centroid_cnt += 1\n",
        "          samples_per_square = samples_per_square + 128\n",
        "          if distribution_funct == 'uniform':\n",
        "            r_x, r_y = uniform_point(r=r_dispertion, xc=centroids[centroid_cnt][0], yc=centroids[centroid_cnt][1])\n",
        "          elif distribution_funct == 'non_uniform':\n",
        "            r_x, r_y = non_uniform_point(r=r_dispertion, xc=centroids[centroid_cnt][0], yc=centroids[centroid_cnt][1])\n",
        "          elif distribution_funct == 'gaussian':\n",
        "            r_x, r_y = gausian_point(r=r_dispertion, xc=centroids[centroid_cnt][0], yc=centroids[centroid_cnt][1])\n",
        "          \n",
        "          symbol = complex(r_x, r_y)\n",
        "        \n",
        "        else: # First iteration (square 1)\n",
        "          if distribution_funct == 'uniform':\n",
        "            r_x, r_y = uniform_point(r=r_dispertion, xc=centroids[centroid_cnt][0], yc=centroids[centroid_cnt][1])\n",
        "          elif distribution_funct == 'non_uniform':\n",
        "            r_x, r_y = non_uniform_point(r=r_dispertion, xc=centroids[centroid_cnt][0], yc=centroids[centroid_cnt][1])\n",
        "          elif distribution_funct == 'gaussian':\n",
        "            r_x, r_y = gausian_point(r=r_dispertion, xc=centroids[centroid_cnt][0], yc=centroids[centroid_cnt][1])\n",
        "\n",
        "          symbol = complex(r_x, r_y)\n",
        "\n",
        "      sample_data.append(symbol) #Adding values for the new constellation points\n",
        "    samples_per_square_cnt += 1    \n",
        "    if feature_num == 0:\n",
        "      data['sampleid'] = [(s_id+1) for s_id in range(n_samples)]\n",
        "      power = []\n",
        "      for s_id in range(n_samples): power.append(power_val)\n",
        "      data['power_dBm'] = power\n",
        "    data['o'+str(feature_num)] = sample_data\n",
        "\n",
        "  df = pd.DataFrame(data)\n",
        "  # Removing parenthesis of complex numbers\n",
        "  headers_names = list(df.columns)\n",
        "  for h in headers_names:\n",
        "    if h != 'sampleid' or h != 'power_dBm':\n",
        "      df[h] = df[h].apply(str).str.replace('\\(|\\)','')\n",
        "  return df\n"
      ],
      "metadata": {
        "id": "CfEjvpTJaGW0"
      },
      "execution_count": 14,
      "outputs": []
    },
    {
      "cell_type": "code",
      "source": [
        "def uniform_point(r=1, xc=0, yc=0):\n",
        "  r = r*sqrt(random())\n",
        "  theta = 2*pi*random()\n",
        "  return xc+r*cos(theta), yc+r*sin(theta)"
      ],
      "metadata": {
        "id": "P2cq9Ilxq7on"
      },
      "execution_count": 15,
      "outputs": []
    },
    {
      "cell_type": "code",
      "source": [
        "def non_uniform_point(r=1, xc=0, yc=0):\n",
        "  r = r*random()\n",
        "  theta = 2*pi*random()\n",
        "  return xc+r*cos(theta), yc+r*sin(theta)"
      ],
      "metadata": {
        "id": "jxYo8A_grqMn"
      },
      "execution_count": 16,
      "outputs": []
    },
    {
      "cell_type": "code",
      "source": [
        "def gausian_point(r=1, xc=0, yc=0):\n",
        "  r = r*sqrt(-2*math.log(random()))\n",
        "  theta = 2*pi*random()\n",
        "  return xc+r*cos(theta), yc+r*sin(theta)"
      ],
      "metadata": {
        "id": "v9w6-fV-eJsB"
      },
      "execution_count": 17,
      "outputs": []
    },
    {
      "cell_type": "code",
      "source": [
        "# Test distribution\n",
        "x_uni = []\n",
        "y_uni = []\n",
        "\n",
        "x_non_uni = []\n",
        "y_non_uni = []\n",
        "\n",
        "x_gauss = []\n",
        "y_gauss = []\n",
        "\n",
        "for i in range(0, 1000):\n",
        "\n",
        "  x_val, y_val = uniform_point(r=1, xc=0, yc=0)\n",
        "  x_uni.append(x_val)\n",
        "  y_uni.append(y_val)\n",
        "\n",
        "  x_val, y_val = non_uniform_point(r=1, xc=0, yc=0)\n",
        "  x_non_uni.append(x_val)\n",
        "  y_non_uni.append(y_val)\n",
        "\n",
        "  x_val, y_val = gausian_point(r=1, xc=0, yc=0)\n",
        "  x_gauss.append(x_val)\n",
        "  y_gauss.append(y_val)\n",
        "\n",
        "plt.subplots(figsize=(15, 5))\n",
        "\n",
        "plt.subplot(1, 3, 1)\n",
        "plt.scatter(x_uni, y_uni)\n",
        "plt.title('Uniform')\n",
        "plt.xlabel('reals')\n",
        "plt.ylabel('imags')\n",
        "\n",
        "plt.subplot(1, 3, 2)\n",
        "plt.scatter(x_non_uni, y_non_uni)\n",
        "plt.title('Non-Uniform')\n",
        "plt.xlabel('reals')\n",
        "plt.ylabel('imags')\n",
        "\n",
        "plt.subplot(1, 3, 3)\n",
        "plt.scatter(x_gauss, y_gauss)\n",
        "plt.title('Gaussian')\n",
        "plt.xlabel('reals')\n",
        "plt.ylabel('imags')\n",
        "\n",
        "\n",
        "plt.show()"
      ],
      "metadata": {
        "id": "SAkGbXU-nOui",
        "outputId": "d3860a93-7d24-49e4-ece1-afc38b51d7ce",
        "colab": {
          "base_uri": "https://localhost:8080/",
          "height": 350
        }
      },
      "execution_count": 18,
      "outputs": [
        {
          "output_type": "display_data",
          "data": {
            "text/plain": [
              "<Figure size 1080x360 with 3 Axes>"
            ],
            "image/png": "[encoded data removed]"
          },
          "metadata": {
            "needs_background": "light"
          }
        }
      ]
    },
    {
      "cell_type": "code",
      "source": [
        "synthetic_df = synthetic_constellation(r_dispertion=0.01, n_samples=1, centroid = None, n_features = 2048, distribution_funct = 'uniform', power_val='-2')\n",
        "display(synthetic_df)"
      ],
      "metadata": {
        "id": "ptkq1Yn3ch2g",
        "colab": {
          "base_uri": "https://localhost:8080/",
          "height": 191
        },
        "outputId": "0c1dfa45-bcb1-4f2e-8386-25d3e0af1701"
      },
      "execution_count": 19,
      "outputs": [
        {
          "output_type": "display_data",
          "data": {
            "text/plain": [
              "  sampleid power_dBm                                      o0  \\\n",
              "0        1        -2  -3.004614653972686+2.9974803964851557j   \n",
              "\n",
              "                                      o1  \\\n",
              "0  -3.0026838081637943+3.00717539302416j   \n",
              "\n",
              "                                        o2  \\\n",
              "0  -2.9903888868462642+3.0017219877806403j   \n",
              "\n",
              "                                        o3  \\\n",
              "0  -3.0037119169064237+2.9912910071033276j   \n",
              "\n",
              "                                       o4  \\\n",
              "0  -2.994128434982273+3.0015745638523494j   \n",
              "\n",
              "                                       o5  \\\n",
              "0  -2.999990745572519+2.9972914562289428j   \n",
              "\n",
              "                                        o6  \\\n",
              "0  -3.0068073946590474+3.0030524024300775j   \n",
              "\n",
              "                                       o7  ...  \\\n",
              "0  -2.999120708560751+2.9977821796194237j  ...   \n",
              "\n",
              "                                   o2038  \\\n",
              "0  2.999514685912926-2.9971281408696577j   \n",
              "\n",
              "                                    o2039  \\\n",
              "0  3.0059859270696534-3.0011726362557187j   \n",
              "\n",
              "                                    o2040  \\\n",
              "0  3.0066211740040356-2.9979538304295392j   \n",
              "\n",
              "                                   o2041  \\\n",
              "0  3.0062611408523043-2.997263516341391j   \n",
              "\n",
              "                                    o2042  \\\n",
              "0  2.9987783872274827-3.0085041267168324j   \n",
              "\n",
              "                                    o2043  \\\n",
              "0  3.0064795130931876-2.9982932146570938j   \n",
              "\n",
              "                                  o2044  \\\n",
              "0  3.002026818249406-3.009045282651392j   \n",
              "\n",
              "                                   o2045  \\\n",
              "0  3.009291706819248-2.9979712433396224j   \n",
              "\n",
              "                                   o2046                                o2047  \n",
              "0  2.9954267549891775-2.994035233244954j  2.996099414435081-2.99588274493921j  \n",
              "\n",
              "[1 rows x 2050 columns]"
            ],
            "text/html": [
              "\n",
              "  <div id=\"df-7d5b1348-598c-40e9-8074-1e2e43ce0985\">\n",
              "    <div class=\"colab-df-container\">\n",
              "      <div>\n",
              "<style scoped>\n",
              "    .dataframe tbody tr th:only-of-type {\n",
              "        vertical-align: middle;\n",
              "    }\n",
              "\n",
              "    .dataframe tbody tr th {\n",
              "        vertical-align: top;\n",
              "    }\n",
              "\n",
              "    .dataframe thead th {\n",
              "        text-align: right;\n",
              "    }\n",
              "</style>\n",
              "<table border=\"1\" class=\"dataframe\">\n",
              "  <thead>\n",
              "    <tr style=\"text-align: right;\">\n",
              "      <th></th>\n",
              "      <th>sampleid</th>\n",
              "      <th>power_dBm</th>\n",
              "      <th>o0</th>\n",
              "      <th>o1</th>\n",
              "      <th>o2</th>\n",
              "      <th>o3</th>\n",
              "      <th>o4</th>\n",
              "      <th>o5</th>\n",
              "      <th>o6</th>\n",
              "      <th>o7</th>\n",
              "      <th>...</th>\n",
              "      <th>o2038</th>\n",
              "      <th>o2039</th>\n",
              "      <th>o2040</th>\n",
              "      <th>o2041</th>\n",
              "      <th>o2042</th>\n",
              "      <th>o2043</th>\n",
              "      <th>o2044</th>\n",
              "      <th>o2045</th>\n",
              "      <th>o2046</th>\n",
              "      <th>o2047</th>\n",
              "    </tr>\n",
              "  </thead>\n",
              "  <tbody>\n",
              "    <tr>\n",
              "      <th>0</th>\n",
              "      <td>1</td>\n",
              "      <td>-2</td>\n",
              "      <td>-3.004614653972686+2.9974803964851557j</td>\n",
              "      <td>-3.0026838081637943+3.00717539302416j</td>\n",
              "      <td>-2.9903888868462642+3.0017219877806403j</td>\n",
              "      <td>-3.0037119169064237+2.9912910071033276j</td>\n",
              "      <td>-2.994128434982273+3.0015745638523494j</td>\n",
              "      <td>-2.999990745572519+2.9972914562289428j</td>\n",
              "      <td>-3.0068073946590474+3.0030524024300775j</td>\n",
              "      <td>-2.999120708560751+2.9977821796194237j</td>\n",
              "      <td>...</td>\n",
              "      <td>2.999514685912926-2.9971281408696577j</td>\n",
              "      <td>3.0059859270696534-3.0011726362557187j</td>\n",
              "      <td>3.0066211740040356-2.9979538304295392j</td>\n",
              "      <td>3.0062611408523043-2.997263516341391j</td>\n",
              "      <td>2.9987783872274827-3.0085041267168324j</td>\n",
              "      <td>3.0064795130931876-2.9982932146570938j</td>\n",
              "      <td>3.002026818249406-3.009045282651392j</td>\n",
              "      <td>3.009291706819248-2.9979712433396224j</td>\n",
              "      <td>2.9954267549891775-2.994035233244954j</td>\n",
              "      <td>2.996099414435081-2.99588274493921j</td>\n",
              "    </tr>\n",
              "  </tbody>\n",
              "</table>\n",
              "<p>1 rows × 2050 columns</p>\n",
              "</div>\n",
              "      <button class=\"colab-df-convert\" onclick=\"convertToInteractive('df-7d5b1348-598c-40e9-8074-1e2e43ce0985')\"\n",
              "              title=\"Convert this dataframe to an interactive table.\"\n",
              "              style=\"display:none;\">\n",
              "        \n",
              "  <svg xmlns=\"http://www.w3.org/2000/svg\" height=\"24px\"viewBox=\"0 0 24 24\"\n",
              "       width=\"24px\">\n",
              "    <path d=\"M0 0h24v24H0V0z\" fill=\"none\"/>\n",
              "    <path d=\"M18.56 5.44l.94 2.06.94-2.06 2.06-.94-2.06-.94-.94-2.06-.94 2.06-2.06.94zm-11 1L8.5 8.5l.94-2.06 2.06-.94-2.06-.94L8.5 2.5l-.94 2.06-2.06.94zm10 10l.94 2.06.94-2.06 2.06-.94-2.06-.94-.94-2.06-.94 2.06-2.06.94z\"/><path d=\"M17.41 7.96l-1.37-1.37c-.4-.4-.92-.59-1.43-.59-.52 0-1.04.2-1.43.59L10.3 9.45l-7.72 7.72c-.78.78-.78 2.05 0 2.83L4 21.41c.39.39.9.59 1.41.59.51 0 1.02-.2 1.41-.59l7.78-7.78 2.81-2.81c.8-.78.8-2.07 0-2.86zM5.41 20L4 18.59l7.72-7.72 1.47 1.35L5.41 20z\"/>\n",
              "  </svg>\n",
              "      </button>\n",
              "      \n",
              "  <style>\n",
              "    .colab-df-container {\n",
              "      display:flex;\n",
              "      flex-wrap:wrap;\n",
              "      gap: 12px;\n",
              "    }\n",
              "\n",
              "    .colab-df-convert {\n",
              "      background-color: #E8F0FE;\n",
              "      border: none;\n",
              "      border-radius: 50%;\n",
              "      cursor: pointer;\n",
              "      display: none;\n",
              "      fill: #1967D2;\n",
              "      height: 32px;\n",
              "      padding: 0 0 0 0;\n",
              "      width: 32px;\n",
              "    }\n",
              "\n",
              "    .colab-df-convert:hover {\n",
              "      background-color: #E2EBFA;\n",
              "      box-shadow: 0px 1px 2px rgba(60, 64, 67, 0.3), 0px 1px 3px 1px rgba(60, 64, 67, 0.15);\n",
              "      fill: #174EA6;\n",
              "    }\n",
              "\n",
              "    [theme=dark] .colab-df-convert {\n",
              "      background-color: #3B4455;\n",
              "      fill: #D2E3FC;\n",
              "    }\n",
              "\n",
              "    [theme=dark] .colab-df-convert:hover {\n",
              "      background-color: #434B5C;\n",
              "      box-shadow: 0px 1px 3px 1px rgba(0, 0, 0, 0.15);\n",
              "      filter: drop-shadow(0px 1px 2px rgba(0, 0, 0, 0.3));\n",
              "      fill: #FFFFFF;\n",
              "    }\n",
              "  </style>\n",
              "\n",
              "      <script>\n",
              "        const buttonEl =\n",
              "          document.querySelector('#df-7d5b1348-598c-40e9-8074-1e2e43ce0985 button.colab-df-convert');\n",
              "        buttonEl.style.display =\n",
              "          google.colab.kernel.accessAllowed ? 'block' : 'none';\n",
              "\n",
              "        async function convertToInteractive(key) {\n",
              "          const element = document.querySelector('#df-7d5b1348-598c-40e9-8074-1e2e43ce0985');\n",
              "          const dataTable =\n",
              "            await google.colab.kernel.invokeFunction('convertToInteractive',\n",
              "                                                     [key], {});\n",
              "          if (!dataTable) return;\n",
              "\n",
              "          const docLinkHtml = 'Like what you see? Visit the ' +\n",
              "            '<a target=\"_blank\" href=https://colab.research.google.com/notebooks/data_table.ipynb>data table notebook</a>'\n",
              "            + ' to learn more about interactive tables.';\n",
              "          element.innerHTML = '';\n",
              "          dataTable['output_type'] = 'display_data';\n",
              "          await google.colab.output.renderOutput(dataTable, element);\n",
              "          const docLink = document.createElement('div');\n",
              "          docLink.innerHTML = docLinkHtml;\n",
              "          element.appendChild(docLink);\n",
              "        }\n",
              "      </script>\n",
              "    </div>\n",
              "  </div>\n",
              "  "
            ]
          },
          "metadata": {}
        }
      ]
    },
    {
      "cell_type": "markdown",
      "source": [
        "# Test Runs"
      ],
      "metadata": {
        "id": "Sf_X4kQomt6R"
      }
    },
    {
      "cell_type": "code",
      "source": [
        "test_runs = {'uniform':[0.00000001, 0.01, 0.02, 0.03],\n",
        "             'non_uniform':[0.00000001, 0.01, 0.02, 0.03],\n",
        "             'gaussian':[0.00000001, 0.01, 0.02, 0.03]}\n",
        "\n",
        "for funct, radius in test_runs.items():\n",
        "  for r in radius:\n",
        "    synthetic_df = synthetic_constellation(r_dispertion=r, n_samples=50, centroid = None, n_features = 2048, distribution_funct = funct, power_val='-2')\n",
        "\n",
        "    filepath = path+'/synthetic_constellations/synthetic_cosntelation_radius_'+str(r)+'_funct_'+str(funct)+'.csv'\n",
        "    \n",
        "    synthetic_df.to_csv(filepath, index=False, encoding='utf-8-sig')   "
      ],
      "metadata": {
        "id": "Bl_fyMP2tLFS"
      },
      "execution_count": 20,
      "outputs": []
    }
  ]
}