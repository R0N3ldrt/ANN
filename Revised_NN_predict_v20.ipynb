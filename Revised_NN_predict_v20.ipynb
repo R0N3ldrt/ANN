{
  "nbformat": 4,
  "nbformat_minor": 0,
  "metadata": {
    "colab": {
      "name": "Untitled10.ipynb",
      "provenance": [],
      "authorship_tag": "ABX9TyNzuRRDtOj+XHn/lBKY2n0n",
      "include_colab_link": true
    },
    "kernelspec": {
      "name": "python3",
      "display_name": "Python 3"
    },
    "language_info": {
      "name": "python"
    }
  },
  "cells": [
    {
      "cell_type": "markdown",
      "metadata": {
        "id": "view-in-github",
        "colab_type": "text"
      },
      "source": [
        "<a href=\"https://colab.research.google.com/github/R0N3ldrt/Thesis/blob/main/Revised_NN_predict_v20.ipynb\" target=\"_parent\"><img src=\"https://colab.research.google.com/assets/colab-badge.svg\" alt=\"Open In Colab\"/></a>"
      ]
    },
    {
      "cell_type": "markdown",
      "source": [
        "# Traininig NN Spectrum"
      ],
      "metadata": {
        "id": "UT4kgsEJEpyY"
      }
    },
    {
      "cell_type": "markdown",
      "source": [
        "# Loading Necesary Libraries"
      ],
      "metadata": {
        "id": "qsIzw6RGEwWp"
      }
    },
    {
      "cell_type": "code",
      "execution_count": 156,
      "metadata": {
        "id": "0YnA2ltpEoSi"
      },
      "outputs": [],
      "source": [
        "# Importing necesary libraries\n",
        "# Libraries for correct code execution \n",
        "\n",
        "import os, time, joblib, io\n",
        "import pandas as pd\n",
        "import numpy as np\n",
        "import matplotlib.pyplot as plt\n",
        "import math\n",
        "import pickle\n",
        "import random\n",
        "import csv\n",
        "import re\n",
        "import array\n",
        "import seaborn as sns\n",
        "from tqdm import tqdm\n",
        "import tensorflow as tf\n",
        "import os.path\n",
        "import tensorflow\n",
        "\n",
        "from sklearn.metrics import r2_score\n",
        "from scipy import stats\n",
        "from functools import reduce\n",
        "from random import random, gauss\n",
        "from math import modf, pi, cos, sin, sqrt\n",
        "from sklearn.model_selection import train_test_split\n",
        "from sklearn.preprocessing import MinMaxScaler\n",
        "from sklearn.metrics import r2_score\n",
        "from plotly.subplots import make_subplots\n",
        "from scipy.signal import savgol_filter\n",
        "from scipy.stats.stats import pearsonr\n",
        "from scipy.stats import spearmanr\n",
        "\n",
        "import scipy.stats as st\n",
        "import plotly.graph_objects as go\n",
        "import plotly.express as px\n",
        "from plotly.subplots import make_subplots\n",
        "\n",
        "from keras.models import Sequential\n",
        "from keras.layers import Dense,Conv2D, Flatten\n",
        "from keras.wrappers.scikit_learn import KerasRegressor\n",
        "from keras.callbacks import EarlyStopping\n",
        "from sklearn.mixture import GaussianMixture\n",
        "import os, time, math, csv, joblib\n",
        "import pandas as pd\n",
        "import numpy as np\n",
        "import matplotlib.pyplot as plt\n",
        "import seaborn as sns\n",
        "from sklearn.model_selection import train_test_split\n",
        "from sklearn.preprocessing import MinMaxScaler\n",
        "from sklearn.mixture import GaussianMixture\n",
        "\n",
        "import os, time, math, csv, joblib\n",
        "import pandas as pd\n",
        "import numpy as np\n",
        "from sklearn.model_selection import train_test_split\n",
        "from sklearn.preprocessing import MinMaxScaler\n",
        "from sklearn.mixture import GaussianMixture\n",
        "\n",
        "import warnings\n",
        "warnings.filterwarnings(\"ignore\")\n",
        "\n",
        "sns.set_theme()"
      ]
    },
    {
      "cell_type": "markdown",
      "source": [
        "# Load Enviroment"
      ],
      "metadata": {
        "id": "o99IEHDfE2yy"
      }
    },
    {
      "cell_type": "code",
      "source": [
        "# BLOQUE PARA USAR DESDE COLAB\n",
        "\n",
        "# Google drive loading as work station for local-usage of the files.\n",
        "from google.colab import drive\n",
        "drive.mount('/content/gdrive',force_remount= True)\n",
        "\n",
        "#-----------------------------------------------------------------------------"
      ],
      "metadata": {
        "colab": {
          "base_uri": "https://localhost:8080/"
        },
        "id": "ruXEP78XE7E5",
        "outputId": "76994bed-d57a-4572-c0b7-7f22ffb83a6d"
      },
      "execution_count": 64,
      "outputs": [
        {
          "output_type": "stream",
          "name": "stdout",
          "text": [
            "Mounted at /content/gdrive\n"
          ]
        }
      ]
    },
    {
      "cell_type": "code",
      "source": [
        "# Lista para cambiar los paths rapido.\n",
        "workers = [\"Ronald\", \"Local\"]\n",
        "\n",
        "# Change the number to change the paths.\n",
        "worker = workers[0]\n",
        "\n",
        "if worker == \"Ronald\":\n",
        "  path = \"/content/gdrive/MyDrive/Thesis_Workstation/ANN_dataset\"\n",
        "else: path = os.getcwd()"
      ],
      "metadata": {
        "id": "1Y2-m9DsE74Z"
      },
      "execution_count": 65,
      "outputs": []
    },
    {
      "cell_type": "markdown",
      "source": [
        "# Get working_df"
      ],
      "metadata": {
        "id": "a9bZmAKqRtdK"
      }
    },
    {
      "cell_type": "markdown",
      "source": [
        "## Find cutoff index"
      ],
      "metadata": {
        "id": "W4h81smRSKUR"
      }
    },
    {
      "cell_type": "code",
      "source": [
        "def remove_tail(df, cut_val, sample_id):\n",
        "  columns_selected = []\n",
        "  old_val = 0\n",
        "  delta = 0\n",
        "  mid_point = int(df.shape[1]/2)\n",
        "  cols_headers  = list(df.columns.values)\n",
        "\n",
        "  for i in range(0, df.shape[1]):\n",
        "    if i == 0:\n",
        "      cell_val = df.iloc[[0], i]\n",
        "      old_val = cell_val[sample_id]\n",
        "    else:\n",
        "      cell_val = df.iloc[[0], i]\n",
        "      val = cell_val[sample_id]\n",
        "      delta = abs(old_val-val)\n",
        "      old_val = val\n",
        "      if delta > cut_val:\n",
        "        if i <= mid_point:\n",
        "          col_name_selected = cols_headers[i+2]\n",
        "        else:\n",
        "          col_name_selected = cols_headers[i-2]\n",
        "          col_name_selected = round(float(col_name_selected), 5)\n",
        "        columns_selected.append(col_name_selected)\n",
        "\n",
        "  return columns_selected"
      ],
      "metadata": {
        "id": "hgUHEniRSJil"
      },
      "execution_count": 66,
      "outputs": []
    },
    {
      "cell_type": "code",
      "source": [
        "# Removing tails conducting multiples loops with variable cutoff value until we get only two columns\n",
        "def remove_tail_main(df, cut_val, sample_id):\n",
        "  old_drop_cols = []\n",
        "  drop_cols = remove_tail(df, cut_val, sample_id)\n",
        "  while len(drop_cols) != 2:  \n",
        "    # If len of columns to be dropped are 0 the select the 2 values smaller and bigger of the previous iteration\n",
        "    if len(drop_cols) == 0 or len(drop_cols) == 1:\n",
        "      drop_cols = [np.min(old_drop_cols), np.max(old_drop_cols)]\n",
        "      break\n",
        "    else:\n",
        "      old_drop_cols = drop_cols\n",
        "      drop_cols = remove_tail(df, cut_val, sample_id)\n",
        "      cut_val += 2\n",
        "  return drop_cols"
      ],
      "metadata": {
        "id": "CNPLl420STJV"
      },
      "execution_count": 67,
      "outputs": []
    },
    {
      "cell_type": "code",
      "source": [
        "def get_working_data_idx_v2(df_mean_sample, sample_id, cut_val = 0):\n",
        "\n",
        "  df = df_mean_sample.iloc[[sample_id - 1]]\n",
        "\n",
        "  #agg_df = aggreagator_v2(df)\n",
        "  col_vals = remove_tail_main(df, cut_val=cut_val, sample_id=sample_id)\n",
        "\n",
        "  left_index_no = df.columns.get_loc(col_vals[0])\n",
        "  rigth_index_no = df.columns.get_loc(col_vals[1])\n",
        "\n",
        "  return left_index_no, rigth_index_no"
      ],
      "metadata": {
        "id": "WFhRhx5USZR7"
      },
      "execution_count": 68,
      "outputs": []
    },
    {
      "cell_type": "code",
      "source": [
        "def cut_off_idx(df): # return tuple with cut-off values (index_left_side, index_rigth_side)\n",
        "  df_mean_sample = df.groupby(['PBRS_id']).mean()\n",
        "  df_mean_sample = df_mean_sample.drop(['row', 'Channels', 'Distance_km', 'power_dBm'], axis = 1)\n",
        "\n",
        "  cut_points = {}\n",
        "  print('Calculating the cutoff values:')\n",
        "  for sample in tqdm(df_mean_sample.index):\n",
        "    left_index_no, rigth_index_no = get_working_data_idx_v2(df_mean_sample, sample_id = sample)\n",
        "    cut_points[sample] = (left_index_no, rigth_index_no)\n",
        "\n",
        "  left_cut_off = np.min([v[0] for k, v in cut_points.items()])\n",
        "  rigth_cut_off = np.max([v[1] for k, v in cut_points.items()])\n",
        "\n",
        "  cut_point = (left_cut_off, rigth_cut_off)\n",
        "  return cut_point"
      ],
      "metadata": {
        "id": "1tG_j9gRSeJ0"
      },
      "execution_count": 69,
      "outputs": []
    },
    {
      "cell_type": "markdown",
      "source": [
        "## Select working data"
      ],
      "metadata": {
        "id": "_2p4y95YSlGe"
      }
    },
    {
      "cell_type": "code",
      "source": [
        "def select_working_data(df, cut_point): # implement cut_off values and Smoothing original df after cutt-of\n",
        "  extra_info_df = df.iloc[:, 0:6]\n",
        "  data_df = df.iloc[:, cut_point[0]+6:cut_point[1]+6]\n",
        "  working_df = pd.merge(extra_info_df, data_df, left_index=True, right_index=True)\n",
        "  return working_df"
      ],
      "metadata": {
        "id": "TC0PK42wSnTw"
      },
      "execution_count": 70,
      "outputs": []
    },
    {
      "cell_type": "code",
      "source": [
        "def main_cutoff(input_path, manual_cutoff=(False, 0.05)):\n",
        "  print('Reading data from file...')\n",
        "\n",
        "  data = io.BytesIO(open(input_path, 'rb').read())\n",
        "  df = pd.read_excel(data, sheet_name='Sheet1', skiprows=1)\n",
        "  print('Cleaning data...')\n",
        "  #df.iloc[0].fillna(method='bfill', inplace=True)\n",
        "  #df.iloc[1:df.shape[0]].fillna(method='pad', inplace=True)\n",
        "\n",
        "  # Adding missing PBRS_id\n",
        "  snippet = []\n",
        "  val_cnt = 1\n",
        "  idx = 0\n",
        "  for sample in range(1, 101):\n",
        "    for sample_id in range(0, 25):\n",
        "      df.at[idx, 'PBRS_id'] = val_cnt\n",
        "      idx +=1\n",
        "      snippet.append(val_cnt)\n",
        "    val_cnt += 1\n",
        "  df['PBRS_id'] = df['PBRS_id'].astype(int)\n",
        "\n",
        "  df = df.dropna() # remove nan rows\n",
        "\n",
        "  if manual_cutoff[0] == False:\n",
        "    cut_point = cut_off_idx(df)\n",
        "  else:\n",
        "    #df = aggreagator_v2(df)\n",
        "    amt_col = df.shape[1]\n",
        "    m_cutoff_lower = int(amt_col*manual_cutoff[1])\n",
        "    m_cutoff_upper = int(amt_col-(amt_col*manual_cutoff[1]))\n",
        "    cut_point = (m_cutoff_lower, m_cutoff_upper)\n",
        "  working_df = select_working_data(df, cut_point)\n",
        "\n",
        "  return working_df"
      ],
      "metadata": {
        "id": "n5gp_DYpSqEV"
      },
      "execution_count": 163,
      "outputs": []
    },
    {
      "cell_type": "markdown",
      "source": [
        "## Run main cutoff"
      ],
      "metadata": {
        "id": "_IszMVtETKej"
      }
    },
    {
      "cell_type": "code",
      "source": [
        "'''\n",
        "input_path = path + \"/Spectrum/16QAM_v2/Copy of dataSet_gamma0_Spectrum31MHz_Samples_16QAM_75GHz_LongHaul_input_25x81km_primeStep.xlsx\"\n",
        "\n",
        "working_df = main_cutoff(input_path, manual_cutoff=(True, 0.1))\n",
        "working_df.to_csv(path+\"/Spectrum/NN/new_data_working_df.csv\", index=False)\n",
        "display(working_df)\n",
        "'''"
      ],
      "metadata": {
        "id": "0MCaO3l2TOEZ",
        "colab": {
          "base_uri": "https://localhost:8080/",
          "height": 522
        },
        "outputId": "f195ce77-8e97-4a6e-93f8-a27796fb1a7f"
      },
      "execution_count": 168,
      "outputs": [
        {
          "output_type": "stream",
          "name": "stdout",
          "text": [
            "Reading data from file...\n",
            "Cleaning data...\n"
          ]
        },
        {
          "output_type": "display_data",
          "data": {
            "text/plain": [
              "     row  PBRS_id  Channels  Distance_km  power_dBm  #span       -32  \\\n",
              "10    11        1         1          880          0     11 -4.288411   \n",
              "11    12        1         1          960          0     12 -4.313618   \n",
              "12    13        1         1         1040          0     13 -4.386294   \n",
              "13    14        1         1         1120          0     14 -4.345850   \n",
              "14    15        1         1         1200          0     15 -4.259259   \n",
              "..   ...      ...       ...          ...        ...    ...       ...   \n",
              "325  326       14         1           80          0      1 -7.865521   \n",
              "326  327       14         1          160          0      2 -7.882314   \n",
              "327  328       14         1          240          0      3 -7.973839   \n",
              "328  329       14         1          320          0      4 -7.883212   \n",
              "329  330       14         1          400          0      5 -7.848981   \n",
              "\n",
              "     -31.96875   -31.9375  -31.90625  ...     31.875   31.90625    31.9375  \\\n",
              "10   -3.866353  -8.848130  -4.040455  ... -45.552842 -48.710120 -40.455435   \n",
              "11   -3.805286  -8.717380  -4.020294  ... -57.273952 -43.979164 -40.902213   \n",
              "12   -3.844987  -8.714265  -4.047580  ... -44.205376 -43.300426 -44.166760   \n",
              "13   -3.815269  -8.769979  -4.074033  ... -43.279405 -41.611440 -41.096216   \n",
              "14   -3.782323  -8.739724  -3.961914  ... -39.606800 -53.647691 -39.069100   \n",
              "..         ...        ...        ...  ...        ...        ...        ...   \n",
              "325  -8.608569 -21.470186  -8.017949  ... -56.845026 -75.384181 -60.917859   \n",
              "326  -8.567324 -21.253700  -8.030925  ... -45.195908 -51.739517 -43.350686   \n",
              "327  -8.587559 -21.390277  -8.072506  ... -49.165181 -40.187150 -40.143274   \n",
              "328  -8.489211 -21.354756  -8.033088  ... -46.120927 -45.693955 -39.094330   \n",
              "329  -8.391406 -21.794588  -7.906356  ... -41.625089 -42.054263 -38.104620   \n",
              "\n",
              "      31.96875         32   32.03125    32.0625   32.09375     32.125  \\\n",
              "10  -39.471511 -46.199010 -38.975500 -44.621381 -41.036712 -39.731308   \n",
              "11  -37.723594 -42.126039 -41.831460 -48.702392 -40.710516 -39.620562   \n",
              "12  -37.847274 -42.042657 -44.773968 -58.640607 -43.571113 -40.165815   \n",
              "13  -40.228315 -43.807593 -53.669545 -43.850225 -46.754092 -40.471985   \n",
              "14  -37.870635 -39.188813 -41.754194 -55.710532 -41.542482 -51.266749   \n",
              "..         ...        ...        ...        ...        ...        ...   \n",
              "325 -53.688049 -62.125147 -58.475953 -56.330811 -57.658670 -53.354919   \n",
              "326 -49.316534 -60.500550 -49.901082 -48.216711 -42.867324 -45.515882   \n",
              "327 -46.927057 -48.104041 -59.518351 -53.018747 -38.980716 -38.870960   \n",
              "328 -47.674141 -41.369390 -58.507058 -58.631208 -36.862701 -40.935300   \n",
              "329 -54.339422 -48.282247 -45.385341 -55.849973 -35.124189 -39.770776   \n",
              "\n",
              "      32.15625  \n",
              "10  -47.848074  \n",
              "11  -41.943514  \n",
              "12  -39.548374  \n",
              "13  -41.334720  \n",
              "14  -41.266649  \n",
              "..         ...  \n",
              "325 -53.249599  \n",
              "326 -50.622444  \n",
              "327 -43.525852  \n",
              "328 -39.689240  \n",
              "329 -42.732076  \n",
              "\n",
              "[300 rows x 2060 columns]"
            ],
            "text/html": [
              "\n",
              "  <div id=\"df-673f66ae-6a7c-4b9c-9b0c-2159f9d93347\">\n",
              "    <div class=\"colab-df-container\">\n",
              "      <div>\n",
              "<style scoped>\n",
              "    .dataframe tbody tr th:only-of-type {\n",
              "        vertical-align: middle;\n",
              "    }\n",
              "\n",
              "    .dataframe tbody tr th {\n",
              "        vertical-align: top;\n",
              "    }\n",
              "\n",
              "    .dataframe thead th {\n",
              "        text-align: right;\n",
              "    }\n",
              "</style>\n",
              "<table border=\"1\" class=\"dataframe\">\n",
              "  <thead>\n",
              "    <tr style=\"text-align: right;\">\n",
              "      <th></th>\n",
              "      <th>row</th>\n",
              "      <th>PBRS_id</th>\n",
              "      <th>Channels</th>\n",
              "      <th>Distance_km</th>\n",
              "      <th>power_dBm</th>\n",
              "      <th>#span</th>\n",
              "      <th>-32</th>\n",
              "      <th>-31.96875</th>\n",
              "      <th>-31.9375</th>\n",
              "      <th>-31.90625</th>\n",
              "      <th>...</th>\n",
              "      <th>31.875</th>\n",
              "      <th>31.90625</th>\n",
              "      <th>31.9375</th>\n",
              "      <th>31.96875</th>\n",
              "      <th>32</th>\n",
              "      <th>32.03125</th>\n",
              "      <th>32.0625</th>\n",
              "      <th>32.09375</th>\n",
              "      <th>32.125</th>\n",
              "      <th>32.15625</th>\n",
              "    </tr>\n",
              "  </thead>\n",
              "  <tbody>\n",
              "    <tr>\n",
              "      <th>10</th>\n",
              "      <td>11</td>\n",
              "      <td>1</td>\n",
              "      <td>1</td>\n",
              "      <td>880</td>\n",
              "      <td>0</td>\n",
              "      <td>11</td>\n",
              "      <td>-4.288411</td>\n",
              "      <td>-3.866353</td>\n",
              "      <td>-8.848130</td>\n",
              "      <td>-4.040455</td>\n",
              "      <td>...</td>\n",
              "      <td>-45.552842</td>\n",
              "      <td>-48.710120</td>\n",
              "      <td>-40.455435</td>\n",
              "      <td>-39.471511</td>\n",
              "      <td>-46.199010</td>\n",
              "      <td>-38.975500</td>\n",
              "      <td>-44.621381</td>\n",
              "      <td>-41.036712</td>\n",
              "      <td>-39.731308</td>\n",
              "      <td>-47.848074</td>\n",
              "    </tr>\n",
              "    <tr>\n",
              "      <th>11</th>\n",
              "      <td>12</td>\n",
              "      <td>1</td>\n",
              "      <td>1</td>\n",
              "      <td>960</td>\n",
              "      <td>0</td>\n",
              "      <td>12</td>\n",
              "      <td>-4.313618</td>\n",
              "      <td>-3.805286</td>\n",
              "      <td>-8.717380</td>\n",
              "      <td>-4.020294</td>\n",
              "      <td>...</td>\n",
              "      <td>-57.273952</td>\n",
              "      <td>-43.979164</td>\n",
              "      <td>-40.902213</td>\n",
              "      <td>-37.723594</td>\n",
              "      <td>-42.126039</td>\n",
              "      <td>-41.831460</td>\n",
              "      <td>-48.702392</td>\n",
              "      <td>-40.710516</td>\n",
              "      <td>-39.620562</td>\n",
              "      <td>-41.943514</td>\n",
              "    </tr>\n",
              "    <tr>\n",
              "      <th>12</th>\n",
              "      <td>13</td>\n",
              "      <td>1</td>\n",
              "      <td>1</td>\n",
              "      <td>1040</td>\n",
              "      <td>0</td>\n",
              "      <td>13</td>\n",
              "      <td>-4.386294</td>\n",
              "      <td>-3.844987</td>\n",
              "      <td>-8.714265</td>\n",
              "      <td>-4.047580</td>\n",
              "      <td>...</td>\n",
              "      <td>-44.205376</td>\n",
              "      <td>-43.300426</td>\n",
              "      <td>-44.166760</td>\n",
              "      <td>-37.847274</td>\n",
              "      <td>-42.042657</td>\n",
              "      <td>-44.773968</td>\n",
              "      <td>-58.640607</td>\n",
              "      <td>-43.571113</td>\n",
              "      <td>-40.165815</td>\n",
              "      <td>-39.548374</td>\n",
              "    </tr>\n",
              "    <tr>\n",
              "      <th>13</th>\n",
              "      <td>14</td>\n",
              "      <td>1</td>\n",
              "      <td>1</td>\n",
              "      <td>1120</td>\n",
              "      <td>0</td>\n",
              "      <td>14</td>\n",
              "      <td>-4.345850</td>\n",
              "      <td>-3.815269</td>\n",
              "      <td>-8.769979</td>\n",
              "      <td>-4.074033</td>\n",
              "      <td>...</td>\n",
              "      <td>-43.279405</td>\n",
              "      <td>-41.611440</td>\n",
              "      <td>-41.096216</td>\n",
              "      <td>-40.228315</td>\n",
              "      <td>-43.807593</td>\n",
              "      <td>-53.669545</td>\n",
              "      <td>-43.850225</td>\n",
              "      <td>-46.754092</td>\n",
              "      <td>-40.471985</td>\n",
              "      <td>-41.334720</td>\n",
              "    </tr>\n",
              "    <tr>\n",
              "      <th>14</th>\n",
              "      <td>15</td>\n",
              "      <td>1</td>\n",
              "      <td>1</td>\n",
              "      <td>1200</td>\n",
              "      <td>0</td>\n",
              "      <td>15</td>\n",
              "      <td>-4.259259</td>\n",
              "      <td>-3.782323</td>\n",
              "      <td>-8.739724</td>\n",
              "      <td>-3.961914</td>\n",
              "      <td>...</td>\n",
              "      <td>-39.606800</td>\n",
              "      <td>-53.647691</td>\n",
              "      <td>-39.069100</td>\n",
              "      <td>-37.870635</td>\n",
              "      <td>-39.188813</td>\n",
              "      <td>-41.754194</td>\n",
              "      <td>-55.710532</td>\n",
              "      <td>-41.542482</td>\n",
              "      <td>-51.266749</td>\n",
              "      <td>-41.266649</td>\n",
              "    </tr>\n",
              "    <tr>\n",
              "      <th>...</th>\n",
              "      <td>...</td>\n",
              "      <td>...</td>\n",
              "      <td>...</td>\n",
              "      <td>...</td>\n",
              "      <td>...</td>\n",
              "      <td>...</td>\n",
              "      <td>...</td>\n",
              "      <td>...</td>\n",
              "      <td>...</td>\n",
              "      <td>...</td>\n",
              "      <td>...</td>\n",
              "      <td>...</td>\n",
              "      <td>...</td>\n",
              "      <td>...</td>\n",
              "      <td>...</td>\n",
              "      <td>...</td>\n",
              "      <td>...</td>\n",
              "      <td>...</td>\n",
              "      <td>...</td>\n",
              "      <td>...</td>\n",
              "      <td>...</td>\n",
              "    </tr>\n",
              "    <tr>\n",
              "      <th>325</th>\n",
              "      <td>326</td>\n",
              "      <td>14</td>\n",
              "      <td>1</td>\n",
              "      <td>80</td>\n",
              "      <td>0</td>\n",
              "      <td>1</td>\n",
              "      <td>-7.865521</td>\n",
              "      <td>-8.608569</td>\n",
              "      <td>-21.470186</td>\n",
              "      <td>-8.017949</td>\n",
              "      <td>...</td>\n",
              "      <td>-56.845026</td>\n",
              "      <td>-75.384181</td>\n",
              "      <td>-60.917859</td>\n",
              "      <td>-53.688049</td>\n",
              "      <td>-62.125147</td>\n",
              "      <td>-58.475953</td>\n",
              "      <td>-56.330811</td>\n",
              "      <td>-57.658670</td>\n",
              "      <td>-53.354919</td>\n",
              "      <td>-53.249599</td>\n",
              "    </tr>\n",
              "    <tr>\n",
              "      <th>326</th>\n",
              "      <td>327</td>\n",
              "      <td>14</td>\n",
              "      <td>1</td>\n",
              "      <td>160</td>\n",
              "      <td>0</td>\n",
              "      <td>2</td>\n",
              "      <td>-7.882314</td>\n",
              "      <td>-8.567324</td>\n",
              "      <td>-21.253700</td>\n",
              "      <td>-8.030925</td>\n",
              "      <td>...</td>\n",
              "      <td>-45.195908</td>\n",
              "      <td>-51.739517</td>\n",
              "      <td>-43.350686</td>\n",
              "      <td>-49.316534</td>\n",
              "      <td>-60.500550</td>\n",
              "      <td>-49.901082</td>\n",
              "      <td>-48.216711</td>\n",
              "      <td>-42.867324</td>\n",
              "      <td>-45.515882</td>\n",
              "      <td>-50.622444</td>\n",
              "    </tr>\n",
              "    <tr>\n",
              "      <th>327</th>\n",
              "      <td>328</td>\n",
              "      <td>14</td>\n",
              "      <td>1</td>\n",
              "      <td>240</td>\n",
              "      <td>0</td>\n",
              "      <td>3</td>\n",
              "      <td>-7.973839</td>\n",
              "      <td>-8.587559</td>\n",
              "      <td>-21.390277</td>\n",
              "      <td>-8.072506</td>\n",
              "      <td>...</td>\n",
              "      <td>-49.165181</td>\n",
              "      <td>-40.187150</td>\n",
              "      <td>-40.143274</td>\n",
              "      <td>-46.927057</td>\n",
              "      <td>-48.104041</td>\n",
              "      <td>-59.518351</td>\n",
              "      <td>-53.018747</td>\n",
              "      <td>-38.980716</td>\n",
              "      <td>-38.870960</td>\n",
              "      <td>-43.525852</td>\n",
              "    </tr>\n",
              "    <tr>\n",
              "      <th>328</th>\n",
              "      <td>329</td>\n",
              "      <td>14</td>\n",
              "      <td>1</td>\n",
              "      <td>320</td>\n",
              "      <td>0</td>\n",
              "      <td>4</td>\n",
              "      <td>-7.883212</td>\n",
              "      <td>-8.489211</td>\n",
              "      <td>-21.354756</td>\n",
              "      <td>-8.033088</td>\n",
              "      <td>...</td>\n",
              "      <td>-46.120927</td>\n",
              "      <td>-45.693955</td>\n",
              "      <td>-39.094330</td>\n",
              "      <td>-47.674141</td>\n",
              "      <td>-41.369390</td>\n",
              "      <td>-58.507058</td>\n",
              "      <td>-58.631208</td>\n",
              "      <td>-36.862701</td>\n",
              "      <td>-40.935300</td>\n",
              "      <td>-39.689240</td>\n",
              "    </tr>\n",
              "    <tr>\n",
              "      <th>329</th>\n",
              "      <td>330</td>\n",
              "      <td>14</td>\n",
              "      <td>1</td>\n",
              "      <td>400</td>\n",
              "      <td>0</td>\n",
              "      <td>5</td>\n",
              "      <td>-7.848981</td>\n",
              "      <td>-8.391406</td>\n",
              "      <td>-21.794588</td>\n",
              "      <td>-7.906356</td>\n",
              "      <td>...</td>\n",
              "      <td>-41.625089</td>\n",
              "      <td>-42.054263</td>\n",
              "      <td>-38.104620</td>\n",
              "      <td>-54.339422</td>\n",
              "      <td>-48.282247</td>\n",
              "      <td>-45.385341</td>\n",
              "      <td>-55.849973</td>\n",
              "      <td>-35.124189</td>\n",
              "      <td>-39.770776</td>\n",
              "      <td>-42.732076</td>\n",
              "    </tr>\n",
              "  </tbody>\n",
              "</table>\n",
              "<p>300 rows × 2060 columns</p>\n",
              "</div>\n",
              "      <button class=\"colab-df-convert\" onclick=\"convertToInteractive('df-673f66ae-6a7c-4b9c-9b0c-2159f9d93347')\"\n",
              "              title=\"Convert this dataframe to an interactive table.\"\n",
              "              style=\"display:none;\">\n",
              "        \n",
              "  <svg xmlns=\"http://www.w3.org/2000/svg\" height=\"24px\"viewBox=\"0 0 24 24\"\n",
              "       width=\"24px\">\n",
              "    <path d=\"M0 0h24v24H0V0z\" fill=\"none\"/>\n",
              "    <path d=\"M18.56 5.44l.94 2.06.94-2.06 2.06-.94-2.06-.94-.94-2.06-.94 2.06-2.06.94zm-11 1L8.5 8.5l.94-2.06 2.06-.94-2.06-.94L8.5 2.5l-.94 2.06-2.06.94zm10 10l.94 2.06.94-2.06 2.06-.94-2.06-.94-.94-2.06-.94 2.06-2.06.94z\"/><path d=\"M17.41 7.96l-1.37-1.37c-.4-.4-.92-.59-1.43-.59-.52 0-1.04.2-1.43.59L10.3 9.45l-7.72 7.72c-.78.78-.78 2.05 0 2.83L4 21.41c.39.39.9.59 1.41.59.51 0 1.02-.2 1.41-.59l7.78-7.78 2.81-2.81c.8-.78.8-2.07 0-2.86zM5.41 20L4 18.59l7.72-7.72 1.47 1.35L5.41 20z\"/>\n",
              "  </svg>\n",
              "      </button>\n",
              "      \n",
              "  <style>\n",
              "    .colab-df-container {\n",
              "      display:flex;\n",
              "      flex-wrap:wrap;\n",
              "      gap: 12px;\n",
              "    }\n",
              "\n",
              "    .colab-df-convert {\n",
              "      background-color: #E8F0FE;\n",
              "      border: none;\n",
              "      border-radius: 50%;\n",
              "      cursor: pointer;\n",
              "      display: none;\n",
              "      fill: #1967D2;\n",
              "      height: 32px;\n",
              "      padding: 0 0 0 0;\n",
              "      width: 32px;\n",
              "    }\n",
              "\n",
              "    .colab-df-convert:hover {\n",
              "      background-color: #E2EBFA;\n",
              "      box-shadow: 0px 1px 2px rgba(60, 64, 67, 0.3), 0px 1px 3px 1px rgba(60, 64, 67, 0.15);\n",
              "      fill: #174EA6;\n",
              "    }\n",
              "\n",
              "    [theme=dark] .colab-df-convert {\n",
              "      background-color: #3B4455;\n",
              "      fill: #D2E3FC;\n",
              "    }\n",
              "\n",
              "    [theme=dark] .colab-df-convert:hover {\n",
              "      background-color: #434B5C;\n",
              "      box-shadow: 0px 1px 3px 1px rgba(0, 0, 0, 0.15);\n",
              "      filter: drop-shadow(0px 1px 2px rgba(0, 0, 0, 0.3));\n",
              "      fill: #FFFFFF;\n",
              "    }\n",
              "  </style>\n",
              "\n",
              "      <script>\n",
              "        const buttonEl =\n",
              "          document.querySelector('#df-673f66ae-6a7c-4b9c-9b0c-2159f9d93347 button.colab-df-convert');\n",
              "        buttonEl.style.display =\n",
              "          google.colab.kernel.accessAllowed ? 'block' : 'none';\n",
              "\n",
              "        async function convertToInteractive(key) {\n",
              "          const element = document.querySelector('#df-673f66ae-6a7c-4b9c-9b0c-2159f9d93347');\n",
              "          const dataTable =\n",
              "            await google.colab.kernel.invokeFunction('convertToInteractive',\n",
              "                                                     [key], {});\n",
              "          if (!dataTable) return;\n",
              "\n",
              "          const docLinkHtml = 'Like what you see? Visit the ' +\n",
              "            '<a target=\"_blank\" href=https://colab.research.google.com/notebooks/data_table.ipynb>data table notebook</a>'\n",
              "            + ' to learn more about interactive tables.';\n",
              "          element.innerHTML = '';\n",
              "          dataTable['output_type'] = 'display_data';\n",
              "          await google.colab.output.renderOutput(dataTable, element);\n",
              "          const docLink = document.createElement('div');\n",
              "          docLink.innerHTML = docLinkHtml;\n",
              "          element.appendChild(docLink);\n",
              "        }\n",
              "      </script>\n",
              "    </div>\n",
              "  </div>\n",
              "  "
            ]
          },
          "metadata": {}
        }
      ]
    },
    {
      "cell_type": "markdown",
      "source": [
        "# Bootstrapping"
      ],
      "metadata": {
        "id": "S_ysZa0NcV0W"
      }
    },
    {
      "cell_type": "markdown",
      "source": [
        "## Get max and min values of each column"
      ],
      "metadata": {
        "id": "WcOO339iclrH"
      }
    },
    {
      "cell_type": "code",
      "source": [
        "def get_max_min_val_col(working_df):\n",
        "  distances = [x*80 for x in range(1, 26)]\n",
        "  data_working_df = working_df.iloc[:, 6:working_df.shape[1]]\n",
        "  h_list = list(data_working_df.columns.values)\n",
        "  max_min_col_dict = {header:[] for header in h_list}\n",
        "\n",
        "  for d in tqdm(distances):\n",
        "    boot_dist_df = working_df.loc[working_df['Distance_km'] == d]\n",
        "    for idx in range(6, boot_dist_df.shape[1]):\n",
        "      max_val_col = float(boot_dist_df.iloc[:, [idx]].quantile(0.1)) # max val in col\n",
        "      min_val_col = float(boot_dist_df.iloc[:, [idx]].quantile(0.9)) # min val in col\n",
        "      h = boot_dist_df.iloc[:, [idx]].columns # header of col\n",
        "      h = h[0]\n",
        "      max_min_col_dict[h].append((d, min_val_col, max_val_col))\n",
        "  return max_min_col_dict"
      ],
      "metadata": {
        "id": "aekr6Y0OcZ3w"
      },
      "execution_count": 73,
      "outputs": []
    },
    {
      "cell_type": "markdown",
      "source": [
        "## Create new samples using bootstrap technique"
      ],
      "metadata": {
        "id": "_0nAH77NcoA_"
      }
    },
    {
      "cell_type": "code",
      "source": [
        "#def create_bootstrap_samples(working_df, max_min_col_dict, target_amt_of_samples=100):\n",
        "def create_bootstrap_samples(working_df, target_amt_of_samples=100):\n",
        "  import random\n",
        "  row_data = []\n",
        "  PBRS_id_data = []\n",
        "  Distance_km_data = []\n",
        "  power_dBm_data = []\n",
        "  span_data = []\n",
        "  \n",
        "  distances = [x*80 for x in range(1, 26)]\n",
        "\n",
        "  h_list = list(working_df.columns.values)\n",
        "  new_data = {header:[] for header in h_list}\n",
        "\n",
        "  extra_h = ['row', 'PBRS_id', 'Channels', 'Distance_km', 'power_dBm', '#span']\n",
        "  for i in extra_h:\n",
        "    h_list.remove(i)\n",
        "\n",
        "  last_row_in_old_df_val = working_df.shape[0] + 1\n",
        "  #for new_sample in tqdm(range(num_of_new_samples)): # generating (num_of_new_samples) new samples for en data\n",
        "  for d in tqdm(distances):\n",
        "    current_distance_samples = working_df.loc[working_df['Distance_km'] == d]\n",
        "\n",
        "    for new_sample_cnt in range(1, target_amt_of_samples+1):\n",
        "      filtered_values = np.where((working_df['PBRS_id']==new_sample_cnt) & (working_df['Distance_km']== d))\n",
        "      if len(filtered_values[0]) == 0: # check if do not have already a value present\n",
        "        new_data['row'].append(last_row_in_old_df_val)\n",
        "        last_row_in_old_df_val += 1\n",
        "        new_data['PBRS_id'].append(new_sample_cnt)\n",
        "\n",
        "        new_data['Channels'].append(1)\n",
        "        new_data['Distance_km'].append(d)\n",
        "        new_data['power_dBm'].append(0)\n",
        "        new_data['#span'].append(int(d/80))\n",
        "\n",
        "        for h in h_list:\n",
        "          vals_list = current_distance_samples[str(h)].tolist()\n",
        "          random_val = random.choice(vals_list)\n",
        "          new_data[str(h)].append(random_val)\n",
        "\n",
        "        '''\n",
        "        for k, v in max_min_col_dict.items(): # header:(d, min_val_col, max_val_col)\n",
        "          for val in v:\n",
        "            if val[0] == d:\n",
        "              bootstrap_val = round(random.uniform(val[1], val[2]), 14)\n",
        "              new_data[str(k)].append(bootstrap_val)\n",
        "              break\n",
        "        '''\n",
        "  new_data_df = pd.DataFrame.from_dict(new_data)\n",
        "\n",
        "  return new_data_df"
      ],
      "metadata": {
        "id": "r9ZZQqZvup8A"
      },
      "execution_count": 176,
      "outputs": []
    },
    {
      "cell_type": "markdown",
      "source": [
        "## Combine previous df with bootstraped df"
      ],
      "metadata": {
        "id": "Yqct6pgmctpY"
      }
    },
    {
      "cell_type": "code",
      "source": [
        "'''\n",
        "input_path = path + \"/Spectrum/NN/new_data_working_df.csv\"\n",
        "working_df = pd.read_csv(input_path)\n",
        "working_df['Distance_km'] = working_df['Distance_km'].astype(int)\n",
        "\n",
        "#print('Get max min for each distance...')\n",
        "#max_min_col_dict = get_max_min_val_col(working_df)\n",
        "                                       \n",
        "print('Creating new samples...')\n",
        "new_data_df = create_bootstrap_samples(working_df, target_amt_of_samples=100)\n",
        "new_working_df = working_df.append(new_data_df)\n",
        "new_working_df = new_working_df.sort_values(['PBRS_id', 'Distance_km'], ascending=[True, True])\n",
        "\n",
        "new_working_df.to_csv(path + \"/Spectrum/NN/bootstraped_new_data_working_df.csv\", index=False)\n",
        "new_working_df\n",
        "'''"
      ],
      "metadata": {
        "colab": {
          "base_uri": "https://localhost:8080/",
          "height": 522
        },
        "id": "9tKTgUGSw0Ae",
        "outputId": "fd9a61d9-5f1b-4c20-c415-5ef30e8e2f81"
      },
      "execution_count": 177,
      "outputs": [
        {
          "output_type": "stream",
          "name": "stdout",
          "text": [
            "Creating new samples...\n"
          ]
        },
        {
          "output_type": "stream",
          "name": "stderr",
          "text": [
            "100%|██████████| 25/25 [00:38<00:00,  1.53s/it]\n"
          ]
        },
        {
          "output_type": "execute_result",
          "data": {
            "text/plain": [
              "       row  PBRS_id  Channels  Distance_km  power_dBm  #span        -32  \\\n",
              "0      301        1         1           80          0      1 -10.491669   \n",
              "88     389        1         1          160          0      2  -7.745044   \n",
              "176    477        1         1          240          0      3  -5.798784   \n",
              "264    565        1         1          320          0      4 -11.855434   \n",
              "352    653        1         1          400          0      5 -14.607697   \n",
              "...    ...      ...       ...          ...        ...    ...        ...   \n",
              "1847  2148      100         1         1680          0     21  -5.993146   \n",
              "1935  2236      100         1         1760          0     22  -7.186369   \n",
              "2023  2324      100         1         1840          0     23  -6.013048   \n",
              "2111  2412      100         1         1920          0     24 -12.564532   \n",
              "2199  2500      100         1         2000          0     25  -5.866647   \n",
              "\n",
              "      -31.96875   -31.9375  -31.90625  ...     31.875   31.90625    31.9375  \\\n",
              "0    -24.788990  -7.865921  -7.972531  ... -60.096647 -54.754780 -60.917859   \n",
              "88   -14.361110  -9.221630 -11.181389  ... -50.127708 -47.564960 -46.887077   \n",
              "176   -8.587559 -15.381452  -3.910673  ... -41.367358 -40.952325 -47.774484   \n",
              "264  -24.398515 -21.354756 -20.377997  ... -42.132182 -42.759255 -42.213528   \n",
              "352  -24.523284 -11.300845  -8.128802  ... -42.816171 -37.794891 -39.495485   \n",
              "...         ...        ...        ...  ...        ...        ...        ...   \n",
              "1847 -15.966866 -10.097579  -5.006026  ... -43.820937 -40.234703 -28.210701   \n",
              "1935  -9.142978 -18.714688  -5.932271  ... -42.447353 -41.772722 -38.644031   \n",
              "2023  -4.792800 -10.253523  -4.123721  ... -33.476343 -42.478623 -32.976384   \n",
              "2111 -14.617258 -10.019363  -6.783398  ... -44.083565 -45.197743 -34.114403   \n",
              "2199  -9.578823 -10.077724  -3.937355  ... -36.993641 -44.319529 -30.485551   \n",
              "\n",
              "       31.96875         32   32.03125    32.0625   32.09375     32.125  \\\n",
              "0    -63.596330 -54.160554 -67.065394 -65.198398 -57.658670 -61.611164   \n",
              "88   -40.883270 -49.155230 -38.403549 -48.216711 -40.447349 -45.515882   \n",
              "176  -47.918782 -41.011285 -44.523754 -47.367608 -41.399499 -56.211731   \n",
              "264  -43.249978 -47.998506 -44.084004 -45.288930 -49.211730 -43.624331   \n",
              "352  -41.503243 -46.590446 -37.250253 -47.256079 -48.911049 -45.298517   \n",
              "...         ...        ...        ...        ...        ...        ...   \n",
              "1847 -35.982701 -33.968972 -31.793775 -33.372435 -41.720079 -35.835164   \n",
              "1935 -45.130837 -33.348058 -49.057276 -31.979080 -31.047597 -35.219658   \n",
              "2023 -47.886963 -35.040083 -43.369900 -31.797359 -30.676750 -27.487513   \n",
              "2111 -31.805838 -36.240401 -28.887066 -30.719291 -47.546404 -35.628008   \n",
              "2199 -29.836097 -34.369159 -36.589444 -30.051952 -35.368822 -36.764360   \n",
              "\n",
              "       32.15625  \n",
              "0    -62.354193  \n",
              "88   -57.134960  \n",
              "176  -36.626820  \n",
              "264  -40.000700  \n",
              "352  -36.835328  \n",
              "...         ...  \n",
              "1847 -42.688574  \n",
              "1935 -33.284240  \n",
              "2023 -32.908134  \n",
              "2111 -34.095505  \n",
              "2199 -36.750157  \n",
              "\n",
              "[2500 rows x 2060 columns]"
            ],
            "text/html": [
              "\n",
              "  <div id=\"df-db4008a1-6c0a-45ec-a3f4-3670951937b8\">\n",
              "    <div class=\"colab-df-container\">\n",
              "      <div>\n",
              "<style scoped>\n",
              "    .dataframe tbody tr th:only-of-type {\n",
              "        vertical-align: middle;\n",
              "    }\n",
              "\n",
              "    .dataframe tbody tr th {\n",
              "        vertical-align: top;\n",
              "    }\n",
              "\n",
              "    .dataframe thead th {\n",
              "        text-align: right;\n",
              "    }\n",
              "</style>\n",
              "<table border=\"1\" class=\"dataframe\">\n",
              "  <thead>\n",
              "    <tr style=\"text-align: right;\">\n",
              "      <th></th>\n",
              "      <th>row</th>\n",
              "      <th>PBRS_id</th>\n",
              "      <th>Channels</th>\n",
              "      <th>Distance_km</th>\n",
              "      <th>power_dBm</th>\n",
              "      <th>#span</th>\n",
              "      <th>-32</th>\n",
              "      <th>-31.96875</th>\n",
              "      <th>-31.9375</th>\n",
              "      <th>-31.90625</th>\n",
              "      <th>...</th>\n",
              "      <th>31.875</th>\n",
              "      <th>31.90625</th>\n",
              "      <th>31.9375</th>\n",
              "      <th>31.96875</th>\n",
              "      <th>32</th>\n",
              "      <th>32.03125</th>\n",
              "      <th>32.0625</th>\n",
              "      <th>32.09375</th>\n",
              "      <th>32.125</th>\n",
              "      <th>32.15625</th>\n",
              "    </tr>\n",
              "  </thead>\n",
              "  <tbody>\n",
              "    <tr>\n",
              "      <th>0</th>\n",
              "      <td>301</td>\n",
              "      <td>1</td>\n",
              "      <td>1</td>\n",
              "      <td>80</td>\n",
              "      <td>0</td>\n",
              "      <td>1</td>\n",
              "      <td>-10.491669</td>\n",
              "      <td>-24.788990</td>\n",
              "      <td>-7.865921</td>\n",
              "      <td>-7.972531</td>\n",
              "      <td>...</td>\n",
              "      <td>-60.096647</td>\n",
              "      <td>-54.754780</td>\n",
              "      <td>-60.917859</td>\n",
              "      <td>-63.596330</td>\n",
              "      <td>-54.160554</td>\n",
              "      <td>-67.065394</td>\n",
              "      <td>-65.198398</td>\n",
              "      <td>-57.658670</td>\n",
              "      <td>-61.611164</td>\n",
              "      <td>-62.354193</td>\n",
              "    </tr>\n",
              "    <tr>\n",
              "      <th>88</th>\n",
              "      <td>389</td>\n",
              "      <td>1</td>\n",
              "      <td>1</td>\n",
              "      <td>160</td>\n",
              "      <td>0</td>\n",
              "      <td>2</td>\n",
              "      <td>-7.745044</td>\n",
              "      <td>-14.361110</td>\n",
              "      <td>-9.221630</td>\n",
              "      <td>-11.181389</td>\n",
              "      <td>...</td>\n",
              "      <td>-50.127708</td>\n",
              "      <td>-47.564960</td>\n",
              "      <td>-46.887077</td>\n",
              "      <td>-40.883270</td>\n",
              "      <td>-49.155230</td>\n",
              "      <td>-38.403549</td>\n",
              "      <td>-48.216711</td>\n",
              "      <td>-40.447349</td>\n",
              "      <td>-45.515882</td>\n",
              "      <td>-57.134960</td>\n",
              "    </tr>\n",
              "    <tr>\n",
              "      <th>176</th>\n",
              "      <td>477</td>\n",
              "      <td>1</td>\n",
              "      <td>1</td>\n",
              "      <td>240</td>\n",
              "      <td>0</td>\n",
              "      <td>3</td>\n",
              "      <td>-5.798784</td>\n",
              "      <td>-8.587559</td>\n",
              "      <td>-15.381452</td>\n",
              "      <td>-3.910673</td>\n",
              "      <td>...</td>\n",
              "      <td>-41.367358</td>\n",
              "      <td>-40.952325</td>\n",
              "      <td>-47.774484</td>\n",
              "      <td>-47.918782</td>\n",
              "      <td>-41.011285</td>\n",
              "      <td>-44.523754</td>\n",
              "      <td>-47.367608</td>\n",
              "      <td>-41.399499</td>\n",
              "      <td>-56.211731</td>\n",
              "      <td>-36.626820</td>\n",
              "    </tr>\n",
              "    <tr>\n",
              "      <th>264</th>\n",
              "      <td>565</td>\n",
              "      <td>1</td>\n",
              "      <td>1</td>\n",
              "      <td>320</td>\n",
              "      <td>0</td>\n",
              "      <td>4</td>\n",
              "      <td>-11.855434</td>\n",
              "      <td>-24.398515</td>\n",
              "      <td>-21.354756</td>\n",
              "      <td>-20.377997</td>\n",
              "      <td>...</td>\n",
              "      <td>-42.132182</td>\n",
              "      <td>-42.759255</td>\n",
              "      <td>-42.213528</td>\n",
              "      <td>-43.249978</td>\n",
              "      <td>-47.998506</td>\n",
              "      <td>-44.084004</td>\n",
              "      <td>-45.288930</td>\n",
              "      <td>-49.211730</td>\n",
              "      <td>-43.624331</td>\n",
              "      <td>-40.000700</td>\n",
              "    </tr>\n",
              "    <tr>\n",
              "      <th>352</th>\n",
              "      <td>653</td>\n",
              "      <td>1</td>\n",
              "      <td>1</td>\n",
              "      <td>400</td>\n",
              "      <td>0</td>\n",
              "      <td>5</td>\n",
              "      <td>-14.607697</td>\n",
              "      <td>-24.523284</td>\n",
              "      <td>-11.300845</td>\n",
              "      <td>-8.128802</td>\n",
              "      <td>...</td>\n",
              "      <td>-42.816171</td>\n",
              "      <td>-37.794891</td>\n",
              "      <td>-39.495485</td>\n",
              "      <td>-41.503243</td>\n",
              "      <td>-46.590446</td>\n",
              "      <td>-37.250253</td>\n",
              "      <td>-47.256079</td>\n",
              "      <td>-48.911049</td>\n",
              "      <td>-45.298517</td>\n",
              "      <td>-36.835328</td>\n",
              "    </tr>\n",
              "    <tr>\n",
              "      <th>...</th>\n",
              "      <td>...</td>\n",
              "      <td>...</td>\n",
              "      <td>...</td>\n",
              "      <td>...</td>\n",
              "      <td>...</td>\n",
              "      <td>...</td>\n",
              "      <td>...</td>\n",
              "      <td>...</td>\n",
              "      <td>...</td>\n",
              "      <td>...</td>\n",
              "      <td>...</td>\n",
              "      <td>...</td>\n",
              "      <td>...</td>\n",
              "      <td>...</td>\n",
              "      <td>...</td>\n",
              "      <td>...</td>\n",
              "      <td>...</td>\n",
              "      <td>...</td>\n",
              "      <td>...</td>\n",
              "      <td>...</td>\n",
              "      <td>...</td>\n",
              "    </tr>\n",
              "    <tr>\n",
              "      <th>1847</th>\n",
              "      <td>2148</td>\n",
              "      <td>100</td>\n",
              "      <td>1</td>\n",
              "      <td>1680</td>\n",
              "      <td>0</td>\n",
              "      <td>21</td>\n",
              "      <td>-5.993146</td>\n",
              "      <td>-15.966866</td>\n",
              "      <td>-10.097579</td>\n",
              "      <td>-5.006026</td>\n",
              "      <td>...</td>\n",
              "      <td>-43.820937</td>\n",
              "      <td>-40.234703</td>\n",
              "      <td>-28.210701</td>\n",
              "      <td>-35.982701</td>\n",
              "      <td>-33.968972</td>\n",
              "      <td>-31.793775</td>\n",
              "      <td>-33.372435</td>\n",
              "      <td>-41.720079</td>\n",
              "      <td>-35.835164</td>\n",
              "      <td>-42.688574</td>\n",
              "    </tr>\n",
              "    <tr>\n",
              "      <th>1935</th>\n",
              "      <td>2236</td>\n",
              "      <td>100</td>\n",
              "      <td>1</td>\n",
              "      <td>1760</td>\n",
              "      <td>0</td>\n",
              "      <td>22</td>\n",
              "      <td>-7.186369</td>\n",
              "      <td>-9.142978</td>\n",
              "      <td>-18.714688</td>\n",
              "      <td>-5.932271</td>\n",
              "      <td>...</td>\n",
              "      <td>-42.447353</td>\n",
              "      <td>-41.772722</td>\n",
              "      <td>-38.644031</td>\n",
              "      <td>-45.130837</td>\n",
              "      <td>-33.348058</td>\n",
              "      <td>-49.057276</td>\n",
              "      <td>-31.979080</td>\n",
              "      <td>-31.047597</td>\n",
              "      <td>-35.219658</td>\n",
              "      <td>-33.284240</td>\n",
              "    </tr>\n",
              "    <tr>\n",
              "      <th>2023</th>\n",
              "      <td>2324</td>\n",
              "      <td>100</td>\n",
              "      <td>1</td>\n",
              "      <td>1840</td>\n",
              "      <td>0</td>\n",
              "      <td>23</td>\n",
              "      <td>-6.013048</td>\n",
              "      <td>-4.792800</td>\n",
              "      <td>-10.253523</td>\n",
              "      <td>-4.123721</td>\n",
              "      <td>...</td>\n",
              "      <td>-33.476343</td>\n",
              "      <td>-42.478623</td>\n",
              "      <td>-32.976384</td>\n",
              "      <td>-47.886963</td>\n",
              "      <td>-35.040083</td>\n",
              "      <td>-43.369900</td>\n",
              "      <td>-31.797359</td>\n",
              "      <td>-30.676750</td>\n",
              "      <td>-27.487513</td>\n",
              "      <td>-32.908134</td>\n",
              "    </tr>\n",
              "    <tr>\n",
              "      <th>2111</th>\n",
              "      <td>2412</td>\n",
              "      <td>100</td>\n",
              "      <td>1</td>\n",
              "      <td>1920</td>\n",
              "      <td>0</td>\n",
              "      <td>24</td>\n",
              "      <td>-12.564532</td>\n",
              "      <td>-14.617258</td>\n",
              "      <td>-10.019363</td>\n",
              "      <td>-6.783398</td>\n",
              "      <td>...</td>\n",
              "      <td>-44.083565</td>\n",
              "      <td>-45.197743</td>\n",
              "      <td>-34.114403</td>\n",
              "      <td>-31.805838</td>\n",
              "      <td>-36.240401</td>\n",
              "      <td>-28.887066</td>\n",
              "      <td>-30.719291</td>\n",
              "      <td>-47.546404</td>\n",
              "      <td>-35.628008</td>\n",
              "      <td>-34.095505</td>\n",
              "    </tr>\n",
              "    <tr>\n",
              "      <th>2199</th>\n",
              "      <td>2500</td>\n",
              "      <td>100</td>\n",
              "      <td>1</td>\n",
              "      <td>2000</td>\n",
              "      <td>0</td>\n",
              "      <td>25</td>\n",
              "      <td>-5.866647</td>\n",
              "      <td>-9.578823</td>\n",
              "      <td>-10.077724</td>\n",
              "      <td>-3.937355</td>\n",
              "      <td>...</td>\n",
              "      <td>-36.993641</td>\n",
              "      <td>-44.319529</td>\n",
              "      <td>-30.485551</td>\n",
              "      <td>-29.836097</td>\n",
              "      <td>-34.369159</td>\n",
              "      <td>-36.589444</td>\n",
              "      <td>-30.051952</td>\n",
              "      <td>-35.368822</td>\n",
              "      <td>-36.764360</td>\n",
              "      <td>-36.750157</td>\n",
              "    </tr>\n",
              "  </tbody>\n",
              "</table>\n",
              "<p>2500 rows × 2060 columns</p>\n",
              "</div>\n",
              "      <button class=\"colab-df-convert\" onclick=\"convertToInteractive('df-db4008a1-6c0a-45ec-a3f4-3670951937b8')\"\n",
              "              title=\"Convert this dataframe to an interactive table.\"\n",
              "              style=\"display:none;\">\n",
              "        \n",
              "  <svg xmlns=\"http://www.w3.org/2000/svg\" height=\"24px\"viewBox=\"0 0 24 24\"\n",
              "       width=\"24px\">\n",
              "    <path d=\"M0 0h24v24H0V0z\" fill=\"none\"/>\n",
              "    <path d=\"M18.56 5.44l.94 2.06.94-2.06 2.06-.94-2.06-.94-.94-2.06-.94 2.06-2.06.94zm-11 1L8.5 8.5l.94-2.06 2.06-.94-2.06-.94L8.5 2.5l-.94 2.06-2.06.94zm10 10l.94 2.06.94-2.06 2.06-.94-2.06-.94-.94-2.06-.94 2.06-2.06.94z\"/><path d=\"M17.41 7.96l-1.37-1.37c-.4-.4-.92-.59-1.43-.59-.52 0-1.04.2-1.43.59L10.3 9.45l-7.72 7.72c-.78.78-.78 2.05 0 2.83L4 21.41c.39.39.9.59 1.41.59.51 0 1.02-.2 1.41-.59l7.78-7.78 2.81-2.81c.8-.78.8-2.07 0-2.86zM5.41 20L4 18.59l7.72-7.72 1.47 1.35L5.41 20z\"/>\n",
              "  </svg>\n",
              "      </button>\n",
              "      \n",
              "  <style>\n",
              "    .colab-df-container {\n",
              "      display:flex;\n",
              "      flex-wrap:wrap;\n",
              "      gap: 12px;\n",
              "    }\n",
              "\n",
              "    .colab-df-convert {\n",
              "      background-color: #E8F0FE;\n",
              "      border: none;\n",
              "      border-radius: 50%;\n",
              "      cursor: pointer;\n",
              "      display: none;\n",
              "      fill: #1967D2;\n",
              "      height: 32px;\n",
              "      padding: 0 0 0 0;\n",
              "      width: 32px;\n",
              "    }\n",
              "\n",
              "    .colab-df-convert:hover {\n",
              "      background-color: #E2EBFA;\n",
              "      box-shadow: 0px 1px 2px rgba(60, 64, 67, 0.3), 0px 1px 3px 1px rgba(60, 64, 67, 0.15);\n",
              "      fill: #174EA6;\n",
              "    }\n",
              "\n",
              "    [theme=dark] .colab-df-convert {\n",
              "      background-color: #3B4455;\n",
              "      fill: #D2E3FC;\n",
              "    }\n",
              "\n",
              "    [theme=dark] .colab-df-convert:hover {\n",
              "      background-color: #434B5C;\n",
              "      box-shadow: 0px 1px 3px 1px rgba(0, 0, 0, 0.15);\n",
              "      filter: drop-shadow(0px 1px 2px rgba(0, 0, 0, 0.3));\n",
              "      fill: #FFFFFF;\n",
              "    }\n",
              "  </style>\n",
              "\n",
              "      <script>\n",
              "        const buttonEl =\n",
              "          document.querySelector('#df-db4008a1-6c0a-45ec-a3f4-3670951937b8 button.colab-df-convert');\n",
              "        buttonEl.style.display =\n",
              "          google.colab.kernel.accessAllowed ? 'block' : 'none';\n",
              "\n",
              "        async function convertToInteractive(key) {\n",
              "          const element = document.querySelector('#df-db4008a1-6c0a-45ec-a3f4-3670951937b8');\n",
              "          const dataTable =\n",
              "            await google.colab.kernel.invokeFunction('convertToInteractive',\n",
              "                                                     [key], {});\n",
              "          if (!dataTable) return;\n",
              "\n",
              "          const docLinkHtml = 'Like what you see? Visit the ' +\n",
              "            '<a target=\"_blank\" href=https://colab.research.google.com/notebooks/data_table.ipynb>data table notebook</a>'\n",
              "            + ' to learn more about interactive tables.';\n",
              "          element.innerHTML = '';\n",
              "          dataTable['output_type'] = 'display_data';\n",
              "          await google.colab.output.renderOutput(dataTable, element);\n",
              "          const docLink = document.createElement('div');\n",
              "          docLink.innerHTML = docLinkHtml;\n",
              "          element.appendChild(docLink);\n",
              "        }\n",
              "      </script>\n",
              "    </div>\n",
              "  </div>\n",
              "  "
            ]
          },
          "metadata": {},
          "execution_count": 177
        }
      ]
    },
    {
      "cell_type": "markdown",
      "source": [
        "# New version train test split"
      ],
      "metadata": {
        "id": "Ev9ubh3SMjv1"
      }
    },
    {
      "cell_type": "markdown",
      "source": [
        "## Freq filter"
      ],
      "metadata": {
        "id": "bzpVjsjCMopE"
      }
    },
    {
      "cell_type": "code",
      "source": [
        "def frequencies_filter(df, num_selected_freq=20):\n",
        "  info_df = df.iloc[:, [0,1]]\n",
        "  data_df = df.iloc[:, 1:df.shape[1]]\n",
        "  span_val = int(data_df.shape[1]/num_selected_freq)\n",
        "  for i in range(0, num_selected_freq):\n",
        "    df2 = data_df.iloc[:, (i+1)*span_val].to_frame()\n",
        "    if i+1 == 1:\n",
        "      new_df = df2\n",
        "    else:\n",
        "      new_df = pd.merge(new_df, df2, left_index=True, right_index=True)\n",
        "  new_df = info_df.join(new_df)\n",
        "  \n",
        "  return new_df\n",
        "\n",
        "def get_data(working_df, distances, num_features = 20, span_length=80, min_dist = 0, max_dist = 2000):\n",
        "  X=None\n",
        "  Y=np.array([])\n",
        "  id_df = working_df.iloc[:, 1]\n",
        "  dist_df = working_df.iloc[:, 3]\n",
        "  freq_df = working_df.iloc[:, 6:working_df.shape[1]]\n",
        "\n",
        "  id_dist_df = pd.merge(id_df, dist_df, left_index=True, right_index=True)\n",
        "  samples_df = pd.merge(id_dist_df, freq_df, left_index=True, right_index=True)\n",
        "\n",
        "  if num_features != 'all':\n",
        "    samples_df = frequencies_filter(samples_df, num_selected_freq = num_features)\n",
        "  Y = samples_df.iloc[:, 1].to_numpy().astype('int').tolist()\n",
        "  X = samples_df.iloc[:, 2:samples_df.shape[1]]\n",
        "  \n",
        "  return X, Y, samples_df"
      ],
      "metadata": {
        "id": "RHzOnqrJK0PS"
      },
      "execution_count": 178,
      "outputs": []
    },
    {
      "cell_type": "code",
      "source": [
        "'''\n",
        "distances = [x*80 for x in range(1, 26)]\n",
        "X, Y, samples_filtered_df = get_data(working_df, distances, num_features = 20, span_length=80,  min_dist = 0, max_dist = 2000)\n",
        "samples_filtered_df\n",
        "'''"
      ],
      "metadata": {
        "colab": {
          "base_uri": "https://localhost:8080/",
          "height": 0
        },
        "id": "-Dcpip4xLiiF",
        "outputId": "b0b42ec0-ef8b-4bf9-92c7-5875c49ad8ad"
      },
      "execution_count": 179,
      "outputs": [
        {
          "output_type": "execute_result",
          "data": {
            "text/plain": [
              "'\\ndistances = [x*80 for x in range(1, 26)]\\nX, Y, samples_filtered_df = get_data(working_df, distances, num_features = 20, span_length=80,  min_dist = 0, max_dist = 2000)\\nsamples_filtered_df\\n'"
            ],
            "application/vnd.google.colaboratory.intrinsic+json": {
              "type": "string"
            }
          },
          "metadata": {},
          "execution_count": 179
        }
      ]
    },
    {
      "cell_type": "markdown",
      "source": [
        "## Reference split"
      ],
      "metadata": {
        "id": "uO_7vXK8h5Oi"
      }
    },
    {
      "cell_type": "code",
      "source": [
        "def get_reference_and_sample_data_split(samples_filtered_df, num_reference=30):\n",
        "  import random\n",
        "  num_of_ids = len(samples_filtered_df['PBRS_id'].unique())\n",
        "\n",
        "  l = list(range(1, num_of_ids+1))\n",
        "  random.shuffle(l)\n",
        "  reference_arr = (l[:num_reference]) # selecting first \"num_reference\" random values\n",
        "  sample_arr = l[-(num_of_ids-num_reference):]\n",
        "\n",
        "  reference_data_df = samples_filtered_df[samples_filtered_df['PBRS_id'].isin(reference_arr)]\n",
        "  sample_data_df = samples_filtered_df[samples_filtered_df['PBRS_id'].isin(sample_arr)]\n",
        "  reference_data_df = reference_data_df.sort_values(by='PBRS_id')\n",
        "  sample_data_df = sample_data_df.sort_values(by='PBRS_id')\n",
        "\n",
        "  reference_data_df = reference_data_df.sort_values(['PBRS_id', 'Distance_km'], ascending=[True, True])\n",
        "  sample_data_df = sample_data_df.sort_values(['PBRS_id', 'Distance_km'], ascending=[True, True])\n",
        "\n",
        "  return reference_data_df, sample_data_df"
      ],
      "metadata": {
        "id": "FHQMdm26gY16"
      },
      "execution_count": 180,
      "outputs": []
    },
    {
      "cell_type": "code",
      "source": [
        "#reference_freq_data_df, sample_freq_data_df = get_reference_and_sample_data_split(samples_filtered_df, num_reference=30)\n",
        "#sample_freq_data_df"
      ],
      "metadata": {
        "id": "MFA7ozeLgj6U"
      },
      "execution_count": 181,
      "outputs": []
    },
    {
      "cell_type": "markdown",
      "source": [
        "## features calc"
      ],
      "metadata": {
        "id": "tkfDFYgkmpgW"
      }
    },
    {
      "cell_type": "code",
      "source": [
        "#sample_freq_data_df\n",
        "#distance_reference_df\n",
        "#selected_rows = rows_training\n",
        "def get_features_funct(sample_freq_data_df, reference_freq_data_df, test_references_params, ci=False):\n",
        "  data_distance = []\n",
        "  data_mean = []\n",
        "  data_std = []\n",
        "  data_pearson_min = []\n",
        "  data_pearson_mean = []\n",
        "  data_pearson_max = []\n",
        "  data_CI_lower = []\n",
        "  data_CI_upper = []\n",
        "\n",
        "  if test_references_params[0] == True: # Test reference distance portion\n",
        "    reference_freq_data_df = reference_freq_data_df.loc[reference_freq_data_df['Distance_km'] == test_references_params[1]]\n",
        "\n",
        "  for row_idx in tqdm(range(0, sample_freq_data_df.shape[0])):\n",
        "    data_Y = sample_freq_data_df.iloc[row_idx,1] # distance of row selected\n",
        "    data_X = np.array(sample_freq_data_df.iloc[row_idx,2:sample_freq_data_df.shape[1]]) #array of data in row selected\n",
        "    data_distance.append(data_Y)\n",
        "    data_std.append(np.std(data_X))\n",
        "    data_mean.append(np.mean(data_X))\n",
        "\n",
        "    data_ci = st.t.interval(alpha=0.90, df=len(data_X)-1, loc=np.mean(data_X), scale=st.sem(data_X))\n",
        "    data_confidence_int_lower = data_ci[0]\n",
        "    data_confidence_int_upper = data_ci[1]\n",
        "\n",
        "    # Get reference data -----------------\n",
        "    distance_reference_df = reference_freq_data_df.loc[reference_freq_data_df['Distance_km'] == data_Y]\n",
        "    if distance_reference_df.empty:\n",
        "      distance_reference_df = reference_freq_data_df.copy()\n",
        "\n",
        "    pearson_vals = []\n",
        "    confidence_vals_lower = []\n",
        "    confidence_vals_upper = []\n",
        "    for reference_row in range(0, distance_reference_df.shape[0]):\n",
        "      reference_X = np.array(distance_reference_df.iloc[reference_row,2:distance_reference_df.shape[1]])\n",
        "      pearson_vals.append(round(pearsonr(data_X, reference_X)[0], 5))\n",
        "\n",
        "      reference_ci = st.t.interval(alpha=0.90, df=len(reference_X)-1, loc=np.mean(reference_X), scale=st.sem(reference_X))\n",
        "      reference_confidence_int_lower = reference_ci[0]\n",
        "      confidence_vals_lower.append(round(abs(reference_confidence_int_lower - data_confidence_int_lower), 5))\n",
        "      reference_confidence_int_upper = reference_ci[1]\n",
        "      confidence_vals_upper.append(round(abs(reference_confidence_int_upper - data_confidence_int_upper),5))\n",
        "\n",
        "    data_pearson_min.append(np.min(pearson_vals))\n",
        "    data_pearson_mean.append(np.mean(pearson_vals))    \n",
        "    data_pearson_max.append(np.max(pearson_vals))\n",
        "\n",
        "    data_CI_lower.append(np.min(confidence_vals_lower))\n",
        "    data_CI_upper.append(np.min(confidence_vals_upper))\n",
        "\n",
        "  if ci == False:\n",
        "    data = {'distance':data_distance,\n",
        "                    'mean':data_mean,\n",
        "                    'std':data_std,\n",
        "                    'pearson_min':data_pearson_min,\n",
        "                    'pearson_mean':data_pearson_mean,\n",
        "                    'pearson_max':data_pearson_max}\n",
        "  else:\n",
        "    data = {'distance':data_distance,\n",
        "                    'mean':data_mean,\n",
        "                    'std':data_std,\n",
        "                    'pearson_min':data_pearson_min,\n",
        "                    'pearson_mean':data_pearson_mean,\n",
        "                    'pearson_max':data_pearson_max,\n",
        "                    'delta_CI_min':data_CI_lower,\n",
        "                    'delta_CI_max':data_CI_upper}\n",
        "\n",
        "  data_df = pd.DataFrame(data)\n",
        "\n",
        "  return data_df"
      ],
      "metadata": {
        "id": "QWlMqlB-iCqd"
      },
      "execution_count": 182,
      "outputs": []
    },
    {
      "cell_type": "code",
      "source": [
        "'''\n",
        "test_references_params=(False, [80, 1040, 2000])\n",
        "\n",
        "features_df = get_features_funct(sample_freq_data_df, reference_freq_data_df, test_references_params)\n",
        "features_df\n",
        "'''"
      ],
      "metadata": {
        "colab": {
          "base_uri": "https://localhost:8080/",
          "height": 0
        },
        "id": "RhVtMRbMjfS_",
        "outputId": "76992878-e494-4aea-cc0a-41eebd33f5c6"
      },
      "execution_count": 183,
      "outputs": [
        {
          "output_type": "execute_result",
          "data": {
            "text/plain": [
              "'\\ntest_references_params=(False, [80, 1040, 2000])\\n\\nfeatures_df = get_features_funct(sample_freq_data_df, reference_freq_data_df, test_references_params)\\nfeatures_df\\n'"
            ],
            "application/vnd.google.colaboratory.intrinsic+json": {
              "type": "string"
            }
          },
          "metadata": {},
          "execution_count": 183
        }
      ]
    },
    {
      "cell_type": "markdown",
      "source": [
        "## train_test split"
      ],
      "metadata": {
        "id": "DgADpFdrmsr7"
      }
    },
    {
      "cell_type": "code",
      "source": [
        "def train_and_test_split_funct(features_df, test_size=0.2):\n",
        "  x_train, x_test, y_train, y_test = train_test_split(features_df.values[:, 1:features_df.values.shape[1]], features_df.values[:, 0], test_size=test_size, random_state=111)\n",
        "\n",
        "  scaler = MinMaxScaler()\n",
        "  data_scaler = scaler.fit(x_train)\n",
        "  \n",
        "  x_train = data_scaler.transform(x_train)\n",
        "  x_test = data_scaler.transform(x_test)\n",
        "  \n",
        "  joblib.dump(data_scaler, path+'/Spectrum/NN/revised_NNs/scaler_nn.joblib')\n",
        "\n",
        "  return x_train, y_train, x_test, y_test, data_scaler"
      ],
      "metadata": {
        "id": "AL-D-2L6aM2S"
      },
      "execution_count": 204,
      "outputs": []
    },
    {
      "cell_type": "code",
      "source": [
        "#x_train, y_train, x_test, y_test, data_scaler = train_and_test_split_funct(features_df, test_size=0.2)"
      ],
      "metadata": {
        "id": "sBGhsCzPo4J-"
      },
      "execution_count": 185,
      "outputs": []
    },
    {
      "cell_type": "markdown",
      "source": [
        "## main features train_test"
      ],
      "metadata": {
        "id": "745QnQ5NpIVy"
      }
    },
    {
      "cell_type": "code",
      "source": [
        "def main_features_train_test_split(input_path, num_features = 20, num_reference=30, test_size=0.2, test_references_params=(False, [80, 1040, 2000]), ci=False, split_done=False):\n",
        "  if split_done == False:\n",
        "    working_df = pd.read_csv(input_path)\n",
        "    working_df['Distance_km'] = working_df['Distance_km'].astype(int)\n",
        "\n",
        "    distances = [x*80 for x in range(1, 26)]\n",
        "    print('Obtaining data filtered by frequencies...')\n",
        "    X, Y, samples_filtered_df = get_data(working_df, distances, num_features = num_features, span_length=80,  min_dist = 0, max_dist = 2000) # get data filtered by frequencies\n",
        "    print('Obtaining reference and sample split...')\n",
        "    reference_freq_data_df, sample_freq_data_df = get_reference_and_sample_data_split(samples_filtered_df, num_reference=num_reference) # get reference and sample split\n",
        "    print('Calculating features...')\n",
        "    features_df = get_features_funct(sample_freq_data_df, reference_freq_data_df, test_references_params, ci=ci) # get features calc for samples\n",
        "\n",
        "    print('\\nObtaining train and test split...')\n",
        "    x_train, y_train, x_test, y_test, data_scaler = train_and_test_split_funct(features_df, test_size=test_size) # create train/test split and save scaler\n",
        "    \n",
        "    reference_freq_data_df.to_csv(path+\"/Spectrum/NN/revised_train_test_splits/mod_bootstraped_new_data_Reference_NN_freq_\"+str(num_features)+\"_reference_\"+str(num_reference)+\".csv\", header=True, index=False)\n",
        "    sample_freq_data_df.to_csv(path+\"/Spectrum/NN/revised_train_test_splits/mod_bootstraped_new_data_Sample_NN_freq_\"+str(num_features)+\"_reference_\"+str(num_reference)+\".csv\", header=True, index=False)\n",
        "    features_df.to_csv(path+\"/Spectrum/NN/revised_train_test_splits/mod_bootstraped_new_data_Features_NN_freq_\"+str(num_features)+\"_reference_\"+str(num_reference)+\".csv\", header=True, index=False)\n",
        "    print('Done')\n",
        "\n",
        "  else:\n",
        "    reference_freq_data_df = pd.read_csv(path+\"/Spectrum/NN/revised_train_test_splits/mod_bootstraped_new_data_Reference_NN_freq_\"+str(num_features)+\"_reference_\"+str(num_reference)+\".csv\")\n",
        "    sample_freq_data_df = pd.read_csv(path+\"/Spectrum/NN/revised_train_test_splits/mod_bootstraped_new_data_Sample_NN_freq_\"+str(num_features)+\"_reference_\"+str(num_reference)+\".csv\")\n",
        "    features_df = pd.read_csv(path+\"/Spectrum/NN/revised_train_test_splits/mod_bootstraped_new_data_Features_NN_freq_\"+str(num_features)+\"_reference_\"+str(num_reference)+\".csv\")\n",
        "    print('Obtaining train and test split...')\n",
        "    x_train, y_train, x_test, y_test, data_scaler = train_and_test_split_funct(features_df, test_size=test_size) # create train/test split and save scaler\n",
        "    print('Done')\n",
        "  \n",
        "  with open(path+'/Spectrum/NN/revised_train_test_splits/data_scaler_nn.pkl', 'wb') as pickle_file:\n",
        "    pickle.dump(data_scaler, pickle_file)\n",
        "    \n",
        "  return x_train, y_train, x_test, y_test, data_scaler, reference_freq_data_df, sample_freq_data_df"
      ],
      "metadata": {
        "id": "GDCtMc6spMJD"
      },
      "execution_count": 186,
      "outputs": []
    },
    {
      "cell_type": "code",
      "source": [
        "'''\n",
        "input_path = path + \"/Spectrum/NN/bootstraped_new_data_working_df.csv\"\n",
        "\n",
        "x_train, y_train, x_test, y_test, data_scaler, reference_freq_data_df, sample_freq_data_df = main_features_train_test_split(\n",
        "    input_path, num_features = 20, num_reference=30, test_size=0.2, test_references_params=(False, [80, 1040, 2000]), ci=True, split_done=False)\n",
        "'''"
      ],
      "metadata": {
        "colab": {
          "base_uri": "https://localhost:8080/",
          "height": 53
        },
        "id": "kmxzgXPbqZZq",
        "outputId": "61e2d04f-d4d7-4ce9-88b6-6f37ca7dd6fd"
      },
      "execution_count": 187,
      "outputs": [
        {
          "output_type": "execute_result",
          "data": {
            "text/plain": [
              "'\\ninput_path = path + \"/Spectrum/NN/bootstraped_new_data_working_df.csv\"\\n\\nx_train, y_train, x_test, y_test, data_scaler, reference_freq_data_df, sample_freq_data_df = main_features_train_test_split(\\n    input_path, num_features = 20, num_reference=30, test_size=0.2, test_references_params=(False, [80, 1040, 2000]), ci=True, split_done=False)\\n'"
            ],
            "application/vnd.google.colaboratory.intrinsic+json": {
              "type": "string"
            }
          },
          "metadata": {},
          "execution_count": 187
        }
      ]
    },
    {
      "cell_type": "markdown",
      "source": [
        "#Test new data"
      ],
      "metadata": {
        "id": "-4aouQ6qQRor"
      }
    },
    {
      "cell_type": "markdown",
      "source": [
        "## Neural Network"
      ],
      "metadata": {
        "id": "8Ou1UMjPtiWN"
      }
    },
    {
      "cell_type": "code",
      "source": [
        "def train_nn_model(x_train, y_train, x_test, y_test, nn_model, epochs, batch_size, params_callback=('loss', 200), monitor_model= False, verbose=0):\n",
        "  if monitor_model == False:\n",
        "    callback = tf.keras.callbacks.EarlyStopping(monitor=params_callback[0], patience=params_callback[1])\n",
        "    history = nn_model.fit(x_train, y_train, epochs=epochs, batch_size=batch_size, callbacks=[callback], validation_split=0.1, verbose=verbose) # , callbacks=[early_stopping], \n",
        "\n",
        "    nn_model.save(path+\"/Spectrum/NN/revised_NNs/NN_epochs_\"+str(epochs)+\".h5\")\n",
        "  else: \n",
        "    callback = tf.keras.callbacks.ModelCheckpoint(path+\"/Spectrum/NN/revised_NNs/monitor_best_NN_epochs_\"+str(epochs)+\".h5\", monitor='loss', verbose=0, save_best_only=True)\n",
        "    history = nn_model.fit(x_train, y_train, epochs=epochs, batch_size=batch_size, callbacks=[callback], shuffle=True, validation_data=(x_test, y_test), verbose=verbose) # , callbacks=[early_stopping], \n",
        "\n",
        "  return history, nn_model"
      ],
      "metadata": {
        "id": "RZvEAJUPIGCm"
      },
      "execution_count": null,
      "outputs": []
    },
    {
      "cell_type": "code",
      "source": [
        "def build_model(input_size, layer_units, summary=False):\n",
        "  x = tensorflow.keras.layers.Input(shape=(input_size,), name=\"nn_input\")\n",
        "\n",
        "  dense_layer1 = tensorflow.keras.layers.Dense(units=layer_units[0], activation='tanh', name=\"dense_1\")(x)\n",
        "  dense_layer2 = tensorflow.keras.layers.Dense(units=layer_units[1], activation='tanh', name=\"dense_2\")(dense_layer1)\n",
        "  dense_layer3 = tensorflow.keras.layers.Dense(units=layer_units[2], activation='tanh', name=\"dense_3\")(dense_layer2)\n",
        "  dense_layer4 = tensorflow.keras.layers.Dense(units=layer_units[3], activation='tanh', name=\"dense_4\")(dense_layer3)\n",
        "  dense_layer5 = tensorflow.keras.layers.Dense(units=layer_units[4], activation='tanh', name=\"dense_5\")(dense_layer4)\n",
        "  nn_output = tensorflow.keras.layers.Dense(units=layer_units[5], name=\"nn_output\")(dense_layer5)\n",
        "\n",
        "  nn_model = tensorflow.keras.models.Model(x, nn_output, name=\"nn_model\")\n",
        "  nn_model.compile(optimizer=tensorflow.keras.optimizers.RMSprop(), loss=tensorflow.keras.losses.MeanAbsoluteError())\n",
        "  if summary == True:\n",
        "    nn_model.summary()\n",
        "\n",
        "  return nn_model"
      ],
      "metadata": {
        "id": "raHIpg0KDxq6"
      },
      "execution_count": null,
      "outputs": []
    },
    {
      "cell_type": "markdown",
      "source": [
        "##Fail"
      ],
      "metadata": {
        "id": "hN2GNHYr7h3x"
      }
    },
    {
      "cell_type": "code",
      "source": [
        "# Import all needed libraries and sublibraries\n",
        "\n",
        "import tensorflow as tf\n",
        "\n",
        "from keras.models import Sequential\n",
        "from keras.layers import Dense\n",
        "from keras.callbacks import EarlyStopping\n",
        "from tensorflow.keras.optimizers import Adam\n",
        "\n",
        "import pandas as pd\n",
        "\n",
        "import sklearn\n",
        "from sklearn import preprocessing\n",
        "from sklearn.model_selection import train_test_split\n",
        "from sklearn.metrics import r2_score\n",
        "\n",
        "from matplotlib import pyplot as plt"
      ],
      "metadata": {
        "id": "-9eV2RF5yoHC"
      },
      "execution_count": null,
      "outputs": []
    },
    {
      "cell_type": "code",
      "source": [
        "input_path = path + \"/Spectrum/NN/bootstraped_new_data_working_df.csv\"\n",
        "\n",
        "ci = False # include or exclude CI calc\n",
        "\n",
        "parameters_freq_reference = (20, 30) #(num_frequencies, num_references)\n",
        "x_train, y_train, x_test, y_test, data_scaler, reference_freq_data_df, sample_freq_data_df = main_features_train_test_split(\n",
        "    input_path, num_features = parameters_freq_reference[0], num_reference=parameters_freq_reference[1], test_size=0.2, test_references_params=(False, [80, 1040, 2000]), ci=ci, split_done=False)\n",
        "\n",
        "\n",
        "# inverted_x_test = scaler.inverse_transform(x_test)"
      ],
      "metadata": {
        "colab": {
          "base_uri": "https://localhost:8080/"
        },
        "id": "hzS3fBany-eI",
        "outputId": "e2d527c6-6242-47c5-abc7-1548789475f2"
      },
      "execution_count": null,
      "outputs": [
        {
          "output_type": "stream",
          "name": "stdout",
          "text": [
            "Obtaining data filtered by frequencies...\n",
            "Obtaining reference and sample split...\n",
            "Calculating features...\n"
          ]
        },
        {
          "output_type": "stream",
          "name": "stderr",
          "text": [
            "100%|██████████| 1750/1750 [01:04<00:00, 27.33it/s]\n"
          ]
        },
        {
          "output_type": "stream",
          "name": "stdout",
          "text": [
            "\n",
            "Obtaining train and test split...\n",
            "Done\n"
          ]
        }
      ]
    },
    {
      "cell_type": "code",
      "source": [
        "if ci == False:\n",
        "  input_size = 5\n",
        "else:\n",
        "  input_size = 7\n",
        "\n",
        "#Defines linear regression model and its structure\n",
        "model = Sequential()\n",
        "model.add(Dense(76, input_shape=(input_size,), activation='tanh'))\n",
        "model.add(Dense(38, activation='tanh'))\n",
        "model.add(Dense(19, activation='tanh'))\n",
        "model.add(Dense(1,))\n",
        "\n",
        "#Compiles model\n",
        "opt = tf.keras.optimizers.RMSprop()\n",
        "model.compile(opt, 'mean_squared_error')\n",
        "\n",
        "#Fits model\n",
        "earlystop = EarlyStopping(monitor='val_loss', min_delta=0, patience=30, verbose=1, mode='auto')\n",
        "print('------------------Trainig------------------')\n",
        "history = model.fit(x_train, y_train, epochs = 1000, validation_split = 0.2, batch_size=8, callbacks = [earlystop], shuffle = True, verbose = 0)\n",
        "history_dict=history.history\n",
        "\n",
        "#Plots model's training cost/loss and model's validation split cost/loss\n",
        "loss_values = history_dict['loss']\n",
        "val_loss_values = history_dict['val_loss']\n",
        "\n",
        "plt.figure()\n",
        "plt.plot(loss_values,'bo',label='training loss')\n",
        "plt.plot(val_loss_values,'r',label='val training loss')\n",
        "plt.title('model loss')\n",
        "plt.ylabel('loss')\n",
        "plt.xlabel('epochs')\n",
        "plt.legend(['training loss', 'val training loss'], loc='best')\n",
        "\n",
        "# Runs model (the one with the activation function, although this doesn't really matter as they perform the same) \n",
        "# with its current weights on the training and testing data\n",
        "y_train_pred = model.predict(x_train)\n",
        "y_test_pred = model.predict(x_test)\n",
        "\n",
        "# Calculates and prints r2 score of training and testing data\n",
        "print(\"The R2 score on the Train set is:\\t{:0.3f}\".format(r2_score(y_train, y_train_pred)))\n",
        "print(\"The R2 score on the Test set is:\\t{:0.3f}\".format(r2_score(y_test, y_test_pred)))\n",
        "\n",
        "# train best than test overfitting"
      ],
      "metadata": {
        "colab": {
          "base_uri": "https://localhost:8080/",
          "height": 368
        },
        "id": "gc46KHVf_OH5",
        "outputId": "ba5b55d2-74e6-4cd3-fdb5-16e89eb24ee7"
      },
      "execution_count": null,
      "outputs": [
        {
          "output_type": "stream",
          "name": "stdout",
          "text": [
            "------------------Trainig lr------------------\n",
            "Epoch 942: early stopping\n",
            "The R2 score on the Train set is:\t-0.000\n",
            "The R2 score on the Test set is:\t-0.000\n"
          ]
        },
        {
          "output_type": "display_data",
          "data": {
            "text/plain": [
              "<Figure size 432x288 with 1 Axes>"
            ],
            "image/png": "[encoded data removed]"
          },
          "metadata": {
            "image/png": {
              "width": 392,
              "height": 282
            }
          }
        }
      ]
    },
    {
      "cell_type": "code",
      "source": [
        "df = pd.DataFrame(y_test, columns=['actual'])\n",
        "df.insert(1, 'pred', y_test_pred)\n",
        "df.insert(2, 'error', (df.actual-df.pred))\n",
        "\n",
        "df.query('actual == 1040.0')"
      ],
      "metadata": {
        "colab": {
          "base_uri": "https://localhost:8080/",
          "height": 426
        },
        "id": "1bUH_puT_gEB",
        "outputId": "f3ad92ac-9ae7-4a0c-c976-d121715cc6bc"
      },
      "execution_count": null,
      "outputs": [
        {
          "output_type": "execute_result",
          "data": {
            "text/plain": [
              "     actual         pred     error\n",
              "9    1040.0  1030.578857  9.421143\n",
              "26   1040.0  1030.578857  9.421143\n",
              "56   1040.0  1030.578857  9.421143\n",
              "61   1040.0  1030.578857  9.421143\n",
              "86   1040.0  1030.578857  9.421143\n",
              "136  1040.0  1030.578857  9.421143\n",
              "153  1040.0  1030.578857  9.421143\n",
              "165  1040.0  1030.578857  9.421143\n",
              "188  1040.0  1030.578857  9.421143\n",
              "286  1040.0  1030.578857  9.421143\n",
              "293  1040.0  1030.578857  9.421143\n",
              "336  1040.0  1030.578857  9.421143"
            ],
            "text/html": [
              "\n",
              "  <div id=\"df-e3d3c258-2ccc-4cbf-b42f-bd857eb76c23\">\n",
              "    <div class=\"colab-df-container\">\n",
              "      <div>\n",
              "<style scoped>\n",
              "    .dataframe tbody tr th:only-of-type {\n",
              "        vertical-align: middle;\n",
              "    }\n",
              "\n",
              "    .dataframe tbody tr th {\n",
              "        vertical-align: top;\n",
              "    }\n",
              "\n",
              "    .dataframe thead th {\n",
              "        text-align: right;\n",
              "    }\n",
              "</style>\n",
              "<table border=\"1\" class=\"dataframe\">\n",
              "  <thead>\n",
              "    <tr style=\"text-align: right;\">\n",
              "      <th></th>\n",
              "      <th>actual</th>\n",
              "      <th>pred</th>\n",
              "      <th>error</th>\n",
              "    </tr>\n",
              "  </thead>\n",
              "  <tbody>\n",
              "    <tr>\n",
              "      <th>9</th>\n",
              "      <td>1040.0</td>\n",
              "      <td>1030.578857</td>\n",
              "      <td>9.421143</td>\n",
              "    </tr>\n",
              "    <tr>\n",
              "      <th>26</th>\n",
              "      <td>1040.0</td>\n",
              "      <td>1030.578857</td>\n",
              "      <td>9.421143</td>\n",
              "    </tr>\n",
              "    <tr>\n",
              "      <th>56</th>\n",
              "      <td>1040.0</td>\n",
              "      <td>1030.578857</td>\n",
              "      <td>9.421143</td>\n",
              "    </tr>\n",
              "    <tr>\n",
              "      <th>61</th>\n",
              "      <td>1040.0</td>\n",
              "      <td>1030.578857</td>\n",
              "      <td>9.421143</td>\n",
              "    </tr>\n",
              "    <tr>\n",
              "      <th>86</th>\n",
              "      <td>1040.0</td>\n",
              "      <td>1030.578857</td>\n",
              "      <td>9.421143</td>\n",
              "    </tr>\n",
              "    <tr>\n",
              "      <th>136</th>\n",
              "      <td>1040.0</td>\n",
              "      <td>1030.578857</td>\n",
              "      <td>9.421143</td>\n",
              "    </tr>\n",
              "    <tr>\n",
              "      <th>153</th>\n",
              "      <td>1040.0</td>\n",
              "      <td>1030.578857</td>\n",
              "      <td>9.421143</td>\n",
              "    </tr>\n",
              "    <tr>\n",
              "      <th>165</th>\n",
              "      <td>1040.0</td>\n",
              "      <td>1030.578857</td>\n",
              "      <td>9.421143</td>\n",
              "    </tr>\n",
              "    <tr>\n",
              "      <th>188</th>\n",
              "      <td>1040.0</td>\n",
              "      <td>1030.578857</td>\n",
              "      <td>9.421143</td>\n",
              "    </tr>\n",
              "    <tr>\n",
              "      <th>286</th>\n",
              "      <td>1040.0</td>\n",
              "      <td>1030.578857</td>\n",
              "      <td>9.421143</td>\n",
              "    </tr>\n",
              "    <tr>\n",
              "      <th>293</th>\n",
              "      <td>1040.0</td>\n",
              "      <td>1030.578857</td>\n",
              "      <td>9.421143</td>\n",
              "    </tr>\n",
              "    <tr>\n",
              "      <th>336</th>\n",
              "      <td>1040.0</td>\n",
              "      <td>1030.578857</td>\n",
              "      <td>9.421143</td>\n",
              "    </tr>\n",
              "  </tbody>\n",
              "</table>\n",
              "</div>\n",
              "      <button class=\"colab-df-convert\" onclick=\"convertToInteractive('df-e3d3c258-2ccc-4cbf-b42f-bd857eb76c23')\"\n",
              "              title=\"Convert this dataframe to an interactive table.\"\n",
              "              style=\"display:none;\">\n",
              "        \n",
              "  <svg xmlns=\"http://www.w3.org/2000/svg\" height=\"24px\"viewBox=\"0 0 24 24\"\n",
              "       width=\"24px\">\n",
              "    <path d=\"M0 0h24v24H0V0z\" fill=\"none\"/>\n",
              "    <path d=\"M18.56 5.44l.94 2.06.94-2.06 2.06-.94-2.06-.94-.94-2.06-.94 2.06-2.06.94zm-11 1L8.5 8.5l.94-2.06 2.06-.94-2.06-.94L8.5 2.5l-.94 2.06-2.06.94zm10 10l.94 2.06.94-2.06 2.06-.94-2.06-.94-.94-2.06-.94 2.06-2.06.94z\"/><path d=\"M17.41 7.96l-1.37-1.37c-.4-.4-.92-.59-1.43-.59-.52 0-1.04.2-1.43.59L10.3 9.45l-7.72 7.72c-.78.78-.78 2.05 0 2.83L4 21.41c.39.39.9.59 1.41.59.51 0 1.02-.2 1.41-.59l7.78-7.78 2.81-2.81c.8-.78.8-2.07 0-2.86zM5.41 20L4 18.59l7.72-7.72 1.47 1.35L5.41 20z\"/>\n",
              "  </svg>\n",
              "      </button>\n",
              "      \n",
              "  <style>\n",
              "    .colab-df-container {\n",
              "      display:flex;\n",
              "      flex-wrap:wrap;\n",
              "      gap: 12px;\n",
              "    }\n",
              "\n",
              "    .colab-df-convert {\n",
              "      background-color: #E8F0FE;\n",
              "      border: none;\n",
              "      border-radius: 50%;\n",
              "      cursor: pointer;\n",
              "      display: none;\n",
              "      fill: #1967D2;\n",
              "      height: 32px;\n",
              "      padding: 0 0 0 0;\n",
              "      width: 32px;\n",
              "    }\n",
              "\n",
              "    .colab-df-convert:hover {\n",
              "      background-color: #E2EBFA;\n",
              "      box-shadow: 0px 1px 2px rgba(60, 64, 67, 0.3), 0px 1px 3px 1px rgba(60, 64, 67, 0.15);\n",
              "      fill: #174EA6;\n",
              "    }\n",
              "\n",
              "    [theme=dark] .colab-df-convert {\n",
              "      background-color: #3B4455;\n",
              "      fill: #D2E3FC;\n",
              "    }\n",
              "\n",
              "    [theme=dark] .colab-df-convert:hover {\n",
              "      background-color: #434B5C;\n",
              "      box-shadow: 0px 1px 3px 1px rgba(0, 0, 0, 0.15);\n",
              "      filter: drop-shadow(0px 1px 2px rgba(0, 0, 0, 0.3));\n",
              "      fill: #FFFFFF;\n",
              "    }\n",
              "  </style>\n",
              "\n",
              "      <script>\n",
              "        const buttonEl =\n",
              "          document.querySelector('#df-e3d3c258-2ccc-4cbf-b42f-bd857eb76c23 button.colab-df-convert');\n",
              "        buttonEl.style.display =\n",
              "          google.colab.kernel.accessAllowed ? 'block' : 'none';\n",
              "\n",
              "        async function convertToInteractive(key) {\n",
              "          const element = document.querySelector('#df-e3d3c258-2ccc-4cbf-b42f-bd857eb76c23');\n",
              "          const dataTable =\n",
              "            await google.colab.kernel.invokeFunction('convertToInteractive',\n",
              "                                                     [key], {});\n",
              "          if (!dataTable) return;\n",
              "\n",
              "          const docLinkHtml = 'Like what you see? Visit the ' +\n",
              "            '<a target=\"_blank\" href=https://colab.research.google.com/notebooks/data_table.ipynb>data table notebook</a>'\n",
              "            + ' to learn more about interactive tables.';\n",
              "          element.innerHTML = '';\n",
              "          dataTable['output_type'] = 'display_data';\n",
              "          await google.colab.output.renderOutput(dataTable, element);\n",
              "          const docLink = document.createElement('div');\n",
              "          docLink.innerHTML = docLinkHtml;\n",
              "          element.appendChild(docLink);\n",
              "        }\n",
              "      </script>\n",
              "    </div>\n",
              "  </div>\n",
              "  "
            ]
          },
          "metadata": {},
          "execution_count": 338
        }
      ]
    },
    {
      "cell_type": "markdown",
      "source": [
        "## Test Run"
      ],
      "metadata": {
        "id": "wjnCPh8ZbVvN"
      }
    },
    {
      "cell_type": "code",
      "source": [
        "# Load network\n",
        "from keras.models import Sequential\n",
        "from keras.layers import Dense,Conv2D, Flatten\n",
        "from keras.wrappers.scikit_learn import KerasRegressor\n",
        "from keras.callbacks import EarlyStopping\n",
        "from tqdm.keras import TqdmCallback\n",
        "\n",
        "def ann():\n",
        "  model = Sequential()\n",
        "  model.add(Dense(76, input_dim = 7, activation = 'tanh'))\n",
        "  model.add(Dense(38,activation='tanh'))\n",
        "  model.add(Dense(19,activation='tanh'))\n",
        "  model.add(Dense(1))\n",
        "  model.compile(loss ='mean_squared_error', optimizer = 'RMSprop')\n",
        "  return model\n",
        "\n",
        "def train_model(X_train, Y_train, num_of_freq_selected, reference_amt):\n",
        "  print('Training model (freq_'+str(num_of_freq_selected)+'_reference_'+str(reference_amt)+')...')\n",
        "  from keras.models import Sequential\n",
        "  from keras.layers import Dense,Conv2D, Flatten\n",
        "  from keras.wrappers.scikit_learn import KerasRegressor\n",
        "  from keras.callbacks import EarlyStopping\n",
        "  from tqdm.keras import TqdmCallback\n",
        "\n",
        "  print('Training model...')\n",
        "  model_ann = KerasRegressor(build_fn=ann,epochs=5000,batch_size=32, verbose=0)\n",
        "\n",
        "  callback = [EarlyStopping(monitor='loss', patience=500)]#, TqdmCallback(verbose=2)]\n",
        "  history = model_ann.fit(X_train, Y_train,  validation_split = 0.2, callbacks=callback)\n",
        "  \n",
        "  history_dict=history.history\n",
        "  loss_values = history_dict['loss']\n",
        "  val_loss_values = history_dict['val_loss']\n",
        "\n",
        "  plt.figure()\n",
        "  plt.plot(loss_values,'bo',label='training loss')\n",
        "  plt.plot(val_loss_values,'r',label='val training loss')\n",
        "  plt.title('model loss')\n",
        "  plt.ylabel('loss')\n",
        "  plt.xlabel('epochs')\n",
        "  plt.legend(['training loss', 'val training loss'], loc='best')\n",
        "\n",
        "  # Save model\n",
        "  pickle.dump(model_ann,open(path+\"/Spectrum/NN/revised_NNs/NN_model_freq_\"+str(num_of_freq_selected)+\"_reference_\"+str(reference_amt)+\".pkl\",\"wb\"))\n",
        "  model_ann.model.save(path+\"/Spectrum/NN/revised_NNs/pearson_new_data_NN_model_freq_\"+str(num_of_freq_selected)+\"_reference_\"+str(reference_amt)+\".h5\")\n",
        "  \n",
        "  return model_ann"
      ],
      "metadata": {
        "id": "ugxlmO5Pkrqf"
      },
      "execution_count": null,
      "outputs": []
    },
    {
      "cell_type": "code",
      "source": [
        "input_path = path + \"/Spectrum/NN/bootstraped_new_data_working_df.csv\"\n",
        "\n",
        "ci = True # include or exclude CI calc\n",
        "\n",
        "parameters_freq_reference = (50, 30) #(num_frequencies, num_references)\n",
        "x_train, y_train, x_test, y_test, data_scaler, reference_freq_data_df, sample_freq_data_df = main_features_train_test_split(\n",
        "    input_path, num_features = parameters_freq_reference[0], num_reference=parameters_freq_reference[1], test_size=0.2, test_references_params=(False, [80, 1040, 2000]), ci=ci, split_done=False)\n",
        "\n",
        "\n",
        "# inverted_x_test = scaler.inverse_transform(x_test)"
      ],
      "metadata": {
        "colab": {
          "base_uri": "https://localhost:8080/"
        },
        "id": "YOzRdfby-01w",
        "outputId": "bdd0d11e-bcb1-4fe3-dddd-b5bc74b28bb4"
      },
      "execution_count": null,
      "outputs": [
        {
          "output_type": "stream",
          "name": "stdout",
          "text": [
            "Obtaining data filtered by frequencies...\n",
            "Obtaining reference and sample split...\n",
            "Calculating features...\n"
          ]
        },
        {
          "output_type": "stream",
          "name": "stderr",
          "text": [
            "100%|██████████| 1750/1750 [00:58<00:00, 29.88it/s]\n"
          ]
        },
        {
          "output_type": "stream",
          "name": "stdout",
          "text": [
            "\n",
            "Obtaining train and test split...\n",
            "Done\n"
          ]
        }
      ]
    },
    {
      "cell_type": "code",
      "source": [
        "model_ann = train_model(x_train, y_train, parameters_freq_reference[0], parameters_freq_reference[1])"
      ],
      "metadata": {
        "colab": {
          "base_uri": "https://localhost:8080/",
          "height": 351
        },
        "id": "sPI1GZPT8OS3",
        "outputId": "e648e189-e248-415b-a944-f52c2b5333bc"
      },
      "execution_count": null,
      "outputs": [
        {
          "output_type": "stream",
          "name": "stdout",
          "text": [
            "Training model (freq_50_reference_30)...\n",
            "Training model...\n",
            "INFO:tensorflow:Assets written to: ram://9b42a18d-5187-4847-ba59-3a4b84318dbb/assets\n"
          ]
        },
        {
          "output_type": "display_data",
          "data": {
            "text/plain": [
              "<Figure size 432x288 with 1 Axes>"
            ],
            "image/png": "[encoded data removed]"
          },
          "metadata": {
            "image/png": {
              "width": 392,
              "height": 282
            }
          }
        }
      ]
    },
    {
      "cell_type": "code",
      "source": [
        "y_train_pred = model_ann.predict(x_train)\n",
        "y_test_pred = model_ann.predict(x_test)\n",
        "\n",
        "# Calculates and prints r2 score of training and testing data\n",
        "print(\"The R2 score on the Train set is:\\t{:0.3f}\".format(r2_score(y_train, y_train_pred)))\n",
        "print(\"The R2 score on the Test set is:\\t{:0.3f}\".format(r2_score(y_test, y_test_pred)))\n",
        "\n",
        "df = pd.DataFrame(y_test, columns=['actual'])\n",
        "df.insert(1, 'pred', y_test_pred)\n",
        "df.insert(2, 'error', (df.actual-df.pred))\n",
        "\n",
        "df.query('actual == 1040.0')"
      ],
      "metadata": {
        "colab": {
          "base_uri": "https://localhost:8080/",
          "height": 460
        },
        "id": "zfD6LGLw_kA0",
        "outputId": "dc7a0cec-f3bc-4fd6-d389-1a79b9d56995"
      },
      "execution_count": null,
      "outputs": [
        {
          "output_type": "stream",
          "name": "stdout",
          "text": [
            "The R2 score on the Train set is:\t-0.000\n",
            "The R2 score on the Test set is:\t-0.000\n"
          ]
        },
        {
          "output_type": "execute_result",
          "data": {
            "text/plain": [
              "     actual         pred     error\n",
              "9    1040.0  1030.781494  9.218506\n",
              "26   1040.0  1030.781494  9.218506\n",
              "56   1040.0  1030.781494  9.218506\n",
              "61   1040.0  1030.781494  9.218506\n",
              "86   1040.0  1030.781494  9.218506\n",
              "136  1040.0  1030.781494  9.218506\n",
              "153  1040.0  1030.781494  9.218506\n",
              "165  1040.0  1030.781494  9.218506\n",
              "188  1040.0  1030.781494  9.218506\n",
              "286  1040.0  1030.781494  9.218506\n",
              "293  1040.0  1030.781494  9.218506\n",
              "336  1040.0  1030.781494  9.218506"
            ],
            "text/html": [
              "\n",
              "  <div id=\"df-913d96a4-7b92-4dfd-93e2-99fccc8659f4\">\n",
              "    <div class=\"colab-df-container\">\n",
              "      <div>\n",
              "<style scoped>\n",
              "    .dataframe tbody tr th:only-of-type {\n",
              "        vertical-align: middle;\n",
              "    }\n",
              "\n",
              "    .dataframe tbody tr th {\n",
              "        vertical-align: top;\n",
              "    }\n",
              "\n",
              "    .dataframe thead th {\n",
              "        text-align: right;\n",
              "    }\n",
              "</style>\n",
              "<table border=\"1\" class=\"dataframe\">\n",
              "  <thead>\n",
              "    <tr style=\"text-align: right;\">\n",
              "      <th></th>\n",
              "      <th>actual</th>\n",
              "      <th>pred</th>\n",
              "      <th>error</th>\n",
              "    </tr>\n",
              "  </thead>\n",
              "  <tbody>\n",
              "    <tr>\n",
              "      <th>9</th>\n",
              "      <td>1040.0</td>\n",
              "      <td>1030.781494</td>\n",
              "      <td>9.218506</td>\n",
              "    </tr>\n",
              "    <tr>\n",
              "      <th>26</th>\n",
              "      <td>1040.0</td>\n",
              "      <td>1030.781494</td>\n",
              "      <td>9.218506</td>\n",
              "    </tr>\n",
              "    <tr>\n",
              "      <th>56</th>\n",
              "      <td>1040.0</td>\n",
              "      <td>1030.781494</td>\n",
              "      <td>9.218506</td>\n",
              "    </tr>\n",
              "    <tr>\n",
              "      <th>61</th>\n",
              "      <td>1040.0</td>\n",
              "      <td>1030.781494</td>\n",
              "      <td>9.218506</td>\n",
              "    </tr>\n",
              "    <tr>\n",
              "      <th>86</th>\n",
              "      <td>1040.0</td>\n",
              "      <td>1030.781494</td>\n",
              "      <td>9.218506</td>\n",
              "    </tr>\n",
              "    <tr>\n",
              "      <th>136</th>\n",
              "      <td>1040.0</td>\n",
              "      <td>1030.781494</td>\n",
              "      <td>9.218506</td>\n",
              "    </tr>\n",
              "    <tr>\n",
              "      <th>153</th>\n",
              "      <td>1040.0</td>\n",
              "      <td>1030.781494</td>\n",
              "      <td>9.218506</td>\n",
              "    </tr>\n",
              "    <tr>\n",
              "      <th>165</th>\n",
              "      <td>1040.0</td>\n",
              "      <td>1030.781494</td>\n",
              "      <td>9.218506</td>\n",
              "    </tr>\n",
              "    <tr>\n",
              "      <th>188</th>\n",
              "      <td>1040.0</td>\n",
              "      <td>1030.781494</td>\n",
              "      <td>9.218506</td>\n",
              "    </tr>\n",
              "    <tr>\n",
              "      <th>286</th>\n",
              "      <td>1040.0</td>\n",
              "      <td>1030.781494</td>\n",
              "      <td>9.218506</td>\n",
              "    </tr>\n",
              "    <tr>\n",
              "      <th>293</th>\n",
              "      <td>1040.0</td>\n",
              "      <td>1030.781494</td>\n",
              "      <td>9.218506</td>\n",
              "    </tr>\n",
              "    <tr>\n",
              "      <th>336</th>\n",
              "      <td>1040.0</td>\n",
              "      <td>1030.781494</td>\n",
              "      <td>9.218506</td>\n",
              "    </tr>\n",
              "  </tbody>\n",
              "</table>\n",
              "</div>\n",
              "      <button class=\"colab-df-convert\" onclick=\"convertToInteractive('df-913d96a4-7b92-4dfd-93e2-99fccc8659f4')\"\n",
              "              title=\"Convert this dataframe to an interactive table.\"\n",
              "              style=\"display:none;\">\n",
              "        \n",
              "  <svg xmlns=\"http://www.w3.org/2000/svg\" height=\"24px\"viewBox=\"0 0 24 24\"\n",
              "       width=\"24px\">\n",
              "    <path d=\"M0 0h24v24H0V0z\" fill=\"none\"/>\n",
              "    <path d=\"M18.56 5.44l.94 2.06.94-2.06 2.06-.94-2.06-.94-.94-2.06-.94 2.06-2.06.94zm-11 1L8.5 8.5l.94-2.06 2.06-.94-2.06-.94L8.5 2.5l-.94 2.06-2.06.94zm10 10l.94 2.06.94-2.06 2.06-.94-2.06-.94-.94-2.06-.94 2.06-2.06.94z\"/><path d=\"M17.41 7.96l-1.37-1.37c-.4-.4-.92-.59-1.43-.59-.52 0-1.04.2-1.43.59L10.3 9.45l-7.72 7.72c-.78.78-.78 2.05 0 2.83L4 21.41c.39.39.9.59 1.41.59.51 0 1.02-.2 1.41-.59l7.78-7.78 2.81-2.81c.8-.78.8-2.07 0-2.86zM5.41 20L4 18.59l7.72-7.72 1.47 1.35L5.41 20z\"/>\n",
              "  </svg>\n",
              "      </button>\n",
              "      \n",
              "  <style>\n",
              "    .colab-df-container {\n",
              "      display:flex;\n",
              "      flex-wrap:wrap;\n",
              "      gap: 12px;\n",
              "    }\n",
              "\n",
              "    .colab-df-convert {\n",
              "      background-color: #E8F0FE;\n",
              "      border: none;\n",
              "      border-radius: 50%;\n",
              "      cursor: pointer;\n",
              "      display: none;\n",
              "      fill: #1967D2;\n",
              "      height: 32px;\n",
              "      padding: 0 0 0 0;\n",
              "      width: 32px;\n",
              "    }\n",
              "\n",
              "    .colab-df-convert:hover {\n",
              "      background-color: #E2EBFA;\n",
              "      box-shadow: 0px 1px 2px rgba(60, 64, 67, 0.3), 0px 1px 3px 1px rgba(60, 64, 67, 0.15);\n",
              "      fill: #174EA6;\n",
              "    }\n",
              "\n",
              "    [theme=dark] .colab-df-convert {\n",
              "      background-color: #3B4455;\n",
              "      fill: #D2E3FC;\n",
              "    }\n",
              "\n",
              "    [theme=dark] .colab-df-convert:hover {\n",
              "      background-color: #434B5C;\n",
              "      box-shadow: 0px 1px 3px 1px rgba(0, 0, 0, 0.15);\n",
              "      filter: drop-shadow(0px 1px 2px rgba(0, 0, 0, 0.3));\n",
              "      fill: #FFFFFF;\n",
              "    }\n",
              "  </style>\n",
              "\n",
              "      <script>\n",
              "        const buttonEl =\n",
              "          document.querySelector('#df-913d96a4-7b92-4dfd-93e2-99fccc8659f4 button.colab-df-convert');\n",
              "        buttonEl.style.display =\n",
              "          google.colab.kernel.accessAllowed ? 'block' : 'none';\n",
              "\n",
              "        async function convertToInteractive(key) {\n",
              "          const element = document.querySelector('#df-913d96a4-7b92-4dfd-93e2-99fccc8659f4');\n",
              "          const dataTable =\n",
              "            await google.colab.kernel.invokeFunction('convertToInteractive',\n",
              "                                                     [key], {});\n",
              "          if (!dataTable) return;\n",
              "\n",
              "          const docLinkHtml = 'Like what you see? Visit the ' +\n",
              "            '<a target=\"_blank\" href=https://colab.research.google.com/notebooks/data_table.ipynb>data table notebook</a>'\n",
              "            + ' to learn more about interactive tables.';\n",
              "          element.innerHTML = '';\n",
              "          dataTable['output_type'] = 'display_data';\n",
              "          await google.colab.output.renderOutput(dataTable, element);\n",
              "          const docLink = document.createElement('div');\n",
              "          docLink.innerHTML = docLinkHtml;\n",
              "          element.appendChild(docLink);\n",
              "        }\n",
              "      </script>\n",
              "    </div>\n",
              "  </div>\n",
              "  "
            ]
          },
          "metadata": {},
          "execution_count": 349
        }
      ]
    },
    {
      "cell_type": "markdown",
      "source": [
        "## random search"
      ],
      "metadata": {
        "id": "u8BgSMEeCBaR"
      }
    },
    {
      "cell_type": "code",
      "source": [
        "!pip install keras-tuner -q"
      ],
      "metadata": {
        "id": "_E9j5cjiKiwA"
      },
      "execution_count": 193,
      "outputs": []
    },
    {
      "cell_type": "code",
      "source": [
        "import pandas as pd\n",
        "from tensorflow import keras\n",
        "from tensorflow.keras import layers\n",
        "from kerastuner.tuners import RandomSearch\n",
        "from tensorflow.keras import optimizers"
      ],
      "metadata": {
        "id": "bJ-f2VrFCDGL"
      },
      "execution_count": 194,
      "outputs": []
    },
    {
      "cell_type": "code",
      "source": [
        "def build_model(hp):\n",
        "    model = keras.Sequential()\n",
        "    model.add(tf.keras.layers.Dense(hp.Int('units_0', min_value=9, max_value=512, step=32), input_dim = 7, activation=\"relu\"))\n",
        "    for i in range(1, hp.Int('num_layers', 1, 8)):\n",
        "        model.add(\n",
        "            tf.keras.layers.Dense(\n",
        "                # Tune number of units separately.\n",
        "                units=hp.Int('units_' + str(i), min_value=9, max_value=512, step=32),\n",
        "                activation=\"relu\"),\n",
        "        )\n",
        "    model.add(tf.keras.layers.Dense(1, activation='linear'))\n",
        "    model.compile(\n",
        "        optimizer=tf.keras.optimizers.Adam(\n",
        "            hp.Choice('learning_rate', [1e-2, 1e-3, 1e-4])),\n",
        "        loss='mean_squared_error',\n",
        "        metrics=['mean_squared_error'])\n",
        "    return model"
      ],
      "metadata": {
        "id": "KU6wDUS4CDnw"
      },
      "execution_count": 195,
      "outputs": []
    },
    {
      "cell_type": "code",
      "source": [
        "import os.path \n",
        "for i in range(0, 20):\n",
        "  tunner_path = path+\"/Spectrum/NN/revised_NNs/tunner_search_\"+str(i)\n",
        "  isdir = os.path.isdir(tunner_path) \n",
        "  if isdir == False:\n",
        "    dir_tunner = tunner_path\n",
        "    break\n",
        "\n",
        "tuner = RandomSearch(\n",
        "    build_model,\n",
        "    objective='val_mean_squared_error',\n",
        "    max_trials=5,\n",
        "    executions_per_trial=3,\n",
        "    directory=dir_tunner,\n",
        "    project_name='Dist predictor')"
      ],
      "metadata": {
        "id": "pgRWm62XCKqb"
      },
      "execution_count": 196,
      "outputs": []
    },
    {
      "cell_type": "code",
      "source": [
        "tuner.search_space_summary()"
      ],
      "metadata": {
        "colab": {
          "base_uri": "https://localhost:8080/"
        },
        "id": "eZipSOp0ExhQ",
        "outputId": "0678e7ba-4203-4d62-e561-6c2dbba44ac5"
      },
      "execution_count": 197,
      "outputs": [
        {
          "output_type": "stream",
          "name": "stdout",
          "text": [
            "Search space summary\n",
            "Default search space size: 3\n",
            "units_0 (Int)\n",
            "{'default': None, 'conditions': [], 'min_value': 9, 'max_value': 512, 'step': 32, 'sampling': None}\n",
            "num_layers (Int)\n",
            "{'default': None, 'conditions': [], 'min_value': 1, 'max_value': 8, 'step': 1, 'sampling': None}\n",
            "learning_rate (Choice)\n",
            "{'default': 0.01, 'conditions': [], 'values': [0.01, 0.001, 0.0001], 'ordered': True}\n"
          ]
        }
      ]
    },
    {
      "cell_type": "code",
      "source": [
        "input_path = path + \"/Spectrum/NN/bootstraped_new_data_working_df.csv\"\n",
        "\n",
        "ci = True # include or exclude CI calc\n",
        "\n",
        "parameters_freq_reference = (30, 10) #(num_frequencies, num_references)\n",
        "\n",
        "x_train, y_train, x_test, y_test, data_scaler, reference_freq_data_df, sample_freq_data_df = main_features_train_test_split(\n",
        "    input_path, num_features = parameters_freq_reference[0], num_reference=parameters_freq_reference[1], test_size=0.2, test_references_params=(False, [80, 1040, 2000]), ci=ci, split_done=False)\n",
        "\n",
        "y_train_norm = (y_train - y_train.min())/ (y_train.max() - y_train.min())\n",
        "y_test_norm = (y_test - y_test.min())/ (y_test.max() - y_test.min())\n",
        "\n",
        "# inverted_x_test = scaler.inverse_transform(x_test)"
      ],
      "metadata": {
        "id": "Vn-hxlOFDny7",
        "colab": {
          "base_uri": "https://localhost:8080/"
        },
        "outputId": "3986f9bf-7df2-4b74-e895-014a2fb9db6e"
      },
      "execution_count": 205,
      "outputs": [
        {
          "output_type": "stream",
          "name": "stdout",
          "text": [
            "Obtaining data filtered by frequencies...\n",
            "Obtaining reference and sample split...\n",
            "Calculating features...\n"
          ]
        },
        {
          "output_type": "stream",
          "name": "stderr",
          "text": [
            "100%|██████████| 2250/2250 [00:40<00:00, 55.04it/s]\n"
          ]
        },
        {
          "output_type": "stream",
          "name": "stdout",
          "text": [
            "\n",
            "Obtaining train and test split...\n",
            "Done\n"
          ]
        }
      ]
    },
    {
      "cell_type": "code",
      "source": [
        "print('Evaluating hyperparameters...')\n",
        "tuner.search(x_train, y_train_norm,\n",
        "             epochs=200,\n",
        "             validation_data=(x_test, y_test_norm), verbose=0)\n",
        "print('Done')"
      ],
      "metadata": {
        "id": "LkqXhJuSCydr",
        "colab": {
          "base_uri": "https://localhost:8080/"
        },
        "outputId": "849429f8-3ab7-4923-824c-4dc3f80e1894"
      },
      "execution_count": null,
      "outputs": [
        {
          "output_type": "stream",
          "name": "stdout",
          "text": [
            "Evaluating hyperparameters...\n"
          ]
        }
      ]
    },
    {
      "cell_type": "code",
      "source": [
        "tuner.results_summary()"
      ],
      "metadata": {
        "id": "y-mq63ypFoeL"
      },
      "execution_count": null,
      "outputs": []
    },
    {
      "cell_type": "code",
      "source": [
        "# Get the top 2 models.\n",
        "models = tuner.get_best_models(num_models=2)\n",
        "best_model = models[0]\n",
        "# Build the model.\n",
        "# Needed for `Sequential` without specified `input_shape`.\n",
        "best_model.build(input_shape=(7))\n",
        "best_model.summary()"
      ],
      "metadata": {
        "id": "2qZkQdGZELZv"
      },
      "execution_count": null,
      "outputs": []
    },
    {
      "cell_type": "markdown",
      "source": [
        "## test model"
      ],
      "metadata": {
        "id": "wauNWQ3hqL9k"
      }
    },
    {
      "cell_type": "code",
      "source": [
        "if ci == False:\n",
        "  input_size = 5\n",
        "else:\n",
        "  input_size = 7\n",
        "\n",
        "#Defines linear regression model and its structure\n",
        "model = Sequential()\n",
        "model.add(Dense(329, input_shape=(input_size,), activation='relu'))\n",
        "model.add(Dense(361, activation='relu'))\n",
        "model.add(Dense(329, activation='relu'))\n",
        "model.add(Dense(489, activation='relu'))\n",
        "model.add(Dense(457, activation='relu'))\n",
        "model.add(Dense(41, activation='relu'))\n",
        "model.add(Dense(1, activation='linear'))\n",
        "\n",
        "#Compiles model\n",
        "opt = tf.keras.optimizers.Adam(0.01)\n",
        "model.compile(opt, 'mean_squared_error')\n",
        "\n",
        "#Fits model\n",
        "earlystop = EarlyStopping(monitor='val_loss', min_delta=0, patience=30, verbose=1, mode='auto')\n",
        "print('------------------Trainig------------------')\n",
        "history = model.fit(x_train, y_train_norm, epochs = 5000, validation_split = 0.2, batch_size=32, callbacks = [earlystop], shuffle = True, verbose = 0)\n",
        "history_dict=history.history\n",
        "\n",
        "#Plots model's training cost/loss and model's validation split cost/loss\n",
        "loss_values = history_dict['loss']\n",
        "val_loss_values = history_dict['val_loss']\n",
        "\n",
        "plt.figure()\n",
        "plt.plot(loss_values,'bo',label='training loss')\n",
        "plt.plot(val_loss_values,'r',label='val training loss')\n",
        "plt.title('model loss')\n",
        "plt.ylabel('loss')\n",
        "plt.xlabel('epochs')\n",
        "plt.legend(['training loss', 'val training loss'], loc='best')\n",
        "\n",
        "# Runs model (the one with the activation function, although this doesn't really matter as they perform the same) \n",
        "# with its current weights on the training and testing data\n",
        "y_train_pred = model.predict(x_train)\n",
        "y_test_pred = model.predict(x_test)\n",
        "\n",
        "# Calculates and prints r2 score of training and testing data\n",
        "print(\"The R2 score on the Train set is:\\t{:0.3f}\".format(r2_score(y_train, y_train_pred)))\n",
        "print(\"The R2 score on the Test set is:\\t{:0.3f}\".format(r2_score(y_test, y_test_pred)))\n",
        "\n",
        "# train best than test overfitting"
      ],
      "metadata": {
        "id": "qN_njsU8cz-i"
      },
      "execution_count": null,
      "outputs": []
    },
    {
      "cell_type": "code",
      "source": [
        "y_test_pred_denorm = (y_test_pred * ((y_test.max()-y_test.min())+y_test.min())\n",
        "y_test_denorm = (y_test_norm * ((y_test.max()-y_test.min())+y_test.min())\n",
        "\n",
        "# inverted_x_test = scaler.inverse_transform(x_test)\n",
        "df = pd.DataFrame(y_test_denorm, columns=['actual'])\n",
        "df.insert(1, 'pred', res_y_test_pred)\n",
        "df.insert(2, 'error', (df.actual-df.pred))\n",
        "\n",
        "df.query('actual == 80.0')"
      ],
      "metadata": {
        "id": "02rleTiec4pm"
      },
      "execution_count": null,
      "outputs": []
    },
    {
      "cell_type": "markdown",
      "source": [
        "## predict old"
      ],
      "metadata": {
        "id": "Bn8k73US8Lnk"
      }
    },
    {
      "cell_type": "code",
      "source": [
        "def predict_test(model_ann, X_test, Y_test, remove_outliers=5, params_freq_reference = (10, 30), all_plots=True, epochs_num=600, training_data=False):\n",
        "  print('Results (freq_'+str(params_freq_reference[0])+'_reference_'+str(params_freq_reference[1])+')')\n",
        "  # Predit\n",
        "  start_time = time.time()\n",
        "  Y_test_pred=model_ann.predict(X_test)\n",
        "  pred=list(Y_test_pred)\n",
        "\n",
        "  time_eval_ann=time.time()-start_time\n",
        "\n",
        "  dist_min=80\n",
        "  dist_max=2000\n",
        "\n",
        "  real=list(Y_test)\n",
        "  real_abs=np.add(dist_min,np.multiply((dist_max-dist_min),real)) # convert back to distances values from scalar\n",
        "  real_abs=[int(np.round(i)) for i in real_abs]\n",
        "  pred_abs=np.add(dist_min,np.multiply((dist_max-dist_min),pred)) # convert back to distances values from scalar\n",
        "\n",
        "  print('Real_abs:')\n",
        "  print(real_abs)\n",
        "  print('Pred_abs:')\n",
        "  print(pred_abs)\n",
        "\n",
        "  error=np.divide(np.abs(np.subtract(np.array(real_abs),np.array(pred_abs))),np.array(real_abs))\n",
        "  error_v2 = np.abs(np.subtract(np.array(real_abs),np.array(pred_abs)))\n",
        "\n",
        "  error_v2_Q1 = np.percentile(error_v2, remove_outliers, interpolation = 'midpoint')\n",
        "  error_v2_Q3 = np.percentile(error_v2, 100-remove_outliers,interpolation = 'midpoint')\n",
        "  error_v2_IQR = error_v2_Q3 - error_v2_Q1\n",
        "  error_v2_lower = error_v2_Q1-1.5*error_v2_IQR\n",
        "  error_v2_upper = error_v2_Q3+1.5*error_v2_IQR\n",
        "\n",
        "  error_v2_filtered = []\n",
        "  idx_cnt = 0\n",
        "  idx_filtered = []\n",
        "  for e in error_v2:\n",
        "    if e>=error_v2_lower and e<=error_v2_upper:\n",
        "      error_v2_filtered.append(e)\n",
        "      idx_filtered.append(idx_cnt)\n",
        "    idx_cnt += 1\n",
        "\n",
        "  filtered_real_abs = [real_abs[i] for i in idx_filtered]\n",
        "  filtered_pred_abs = [pred_abs[i] for i in idx_filtered]\n",
        "\n",
        "  if all_plots == True:\n",
        "    res=pd.DataFrame({\"dist\":real_abs,\"pred\":pred_abs,\"error\":error})\n",
        "    res.to_csv(path+\"/Spectrum/NN/revised_NN_results_error/mod_bootstraped_new_data_results_curve_freq_\"+str(params_freq_reference[0])+\"_reference_\"+str(params_freq_reference[1])+\".csv\", header=True, index=False)\n",
        "\n",
        "    res_v2=pd.DataFrame({\"dist\":real_abs,\"pred\":pred_abs,\"error\":error_v2})\n",
        "    res_v2.to_csv(path+\"/Spectrum/NN/revised_NN_results_error/mod_bootstraped_new_data_results_deltas_freq_\"+str(params_freq_reference[0])+\"_reference_\"+str(params_freq_reference[1])+\".csv\", header=True, index=False)\n",
        "    \n",
        "    plt.plot(real_abs,error,'bo')\n",
        "    plt.xlabel('Distances') \n",
        "    plt.ylabel('Error') \n",
        "    plt.title(\"Results Curve (freq_\"+str(params_freq_reference[0])+\"_reference_\"+str(params_freq_reference[1])+\")\")\n",
        "    plt.savefig(path+\"/Spectrum/NN/revised_NN_results_plots/mod_bootstraped_new_data_results_curve_freq_\"+str(params_freq_reference[0])+\"_reference_\"+str(params_freq_reference[1])+\".png\")\n",
        "    plt.show()\n",
        "    \n",
        "    plt.plot(real_abs,error_v2,'bo')\n",
        "    plt.xlabel('Distances') \n",
        "    plt.ylabel('Error') \n",
        "    plt.title(\"Results Deltas (freq_\"+str(params_freq_reference[0])+\"_reference_\"+str(params_freq_reference[1])+\")\")\n",
        "    plt.savefig(path+\"/Spectrum/NN/revised_NN_results_plots/bootstraped_new_data_results_deltas_freq_\"+str(params_freq_reference[0])+\"_reference_\"+str(params_freq_reference[1])+\".png\")\n",
        "\n",
        "    # Filtered Outliers\n",
        "    plt.plot(filtered_real_abs,error_v2_filtered,'bo')\n",
        "    plt.xlabel('Distances') \n",
        "    plt.ylabel('Error') \n",
        "    plt.title(\"Results Deltas Filtered (Outliers_Removed_\"+str(remove_outliers)+\"%_freq_\"+str(params_freq_reference[0])+\"_reference_\"+str(params_freq_reference[1])+\")\")\n",
        "    plt.savefig(path+\"/Spectrum/NN/revised_NN_results_plots/bootstraped_new_data_results_deltas_filtered_\"+str(remove_outliers)+\"%_freq_\"+str(params_freq_reference[0])+\"_reference_\"+str(params_freq_reference[1])+\".png\")\n",
        "    plt.show()\n",
        "  else:\n",
        "    res_v2=pd.DataFrame({\"dist\":filtered_real_abs,\"pred\":filtered_pred_abs,\"error\":error_v2_filtered})\n",
        "    # Filtered Outliers\n",
        "    plt.plot(filtered_real_abs,error_v2_filtered,'bo')\n",
        "    plt.xlabel('Distances') \n",
        "    plt.ylabel('Error') \n",
        "    plt.title(\"Results Deltas Filtered (Outliers_Removed_\"+str(remove_outliers)+\"%_freq_\"+str(params_freq_reference[0])+\"_reference_\"+str(params_freq_reference[1])+\")\")\n",
        "    if training_data == False:\n",
        "      res_v2.to_csv(path+\"/Spectrum/NN/revised_NN_results_error/mod_bootstraped_new_data_Testing_results_deltas_filtered_\"+str(remove_outliers)+\"%_freq_\"+str(params_freq_reference[0])+\"_reference_\"+str(params_freq_reference[1])+\"_epochs_\"+str(epochs_num)+\".csv\", header=True, index=False)\n",
        "      plt.savefig(path+\"/Spectrum/NN/revised_NN_results_plots/bootstraped_new_data_Testing_results_deltas_filtered_\"+str(remove_outliers)+\"%_freq_\"+str(params_freq_reference[0])+\"_reference_\"+str(params_freq_reference[1])+\"_epochs_\"+str(epochs_num)+\".png\")   \n",
        "    else:\n",
        "      res_v2.to_csv(path+\"/Spectrum/NN/revised_NN_results_error/mod_bootstraped_new_data_Training_results_deltas_filtered_\"+str(remove_outliers)+\"%_freq_\"+str(params_freq_reference[0])+\"_reference_\"+str(params_freq_reference[1])+\"_epochs_\"+str(epochs_num)+\".csv\", header=True, index=False)\n",
        "      plt.savefig(path+\"/Spectrum/NN/revised_NN_results_plots/bootstraped_new_data_Training_results_deltas_filtered_\"+str(remove_outliers)+\"%_freq_\"+str(params_freq_reference[0])+\"_reference_\"+str(params_freq_reference[1])+\"_epochs_\"+str(epochs_num)+\".png\")\n",
        "    plt.show()"
      ],
      "metadata": {
        "id": "b0T7NYELMqTY"
      },
      "execution_count": null,
      "outputs": []
    },
    {
      "cell_type": "markdown",
      "source": [
        "# Validation"
      ],
      "metadata": {
        "id": "2Kx_wOsmPX4i"
      }
    },
    {
      "cell_type": "code",
      "source": [
        "train_df = pd.read_csv(path+\"/Spectrum/NN/train_test_splits/mod_bootstraped_new_data_training_data_NN_freq_10_reference_30.csv\")\n",
        "test_df = pd.read_csv(path+\"/Spectrum/NN/train_test_splits/mod_bootstraped_new_data_testing_data_NN_freq_10_reference_30.csv\")\n",
        "\n",
        "reference_freq_data_df = pd.read_csv(path+\"/Spectrum/NN/train_test_splits/mod_bootstraped_new_data_Reference_NN_freq_10_reference_30.csv\")\n",
        "sample_freq_data_df = pd.read_csv(path+\"/Spectrum/NN/train_test_splits/mod_bootstraped_new_data_Sample_NN_freq_10_reference_30.csv\")\n",
        "\n",
        "with open(path+\"/Spectrum/NN/train_test_splits/mod_bootstraped_traininig_Rows_NN_freq_10_reference_30.pkl\", 'rb') as f:\n",
        "  rows_training = pickle.load(f)\n",
        "with open(path+\"/Spectrum/NN/train_test_splits/mod_bootstraped_testing_Rows_NN_freq_10_reference_30.pkl\", 'rb') as f:\n",
        "  rows_testing = pickle.load(f) "
      ],
      "metadata": {
        "id": "-s_khYUdNgcL"
      },
      "execution_count": null,
      "outputs": []
    },
    {
      "cell_type": "code",
      "source": [
        "# load best NN model\n",
        "new_model = tf.keras.models.load_model(path+\"/Spectrum/NN/revised_NNs/NN_epochs_2750.h5\")\n",
        "# Show the model architecture\n",
        "#new_model.summary()\n",
        "predictions = new_model.predict(x_test)\n",
        "predictions.shape\n",
        "#predict_test(nn_model, Y_test, X_test, remove_outliers=5, params_freq_reference = (10, 30), all_plots=False, epochs_num='test', training_data=False)"
      ],
      "metadata": {
        "id": "gZkyJtS3thhi",
        "outputId": "e1b461a2-1fbc-4580-9318-85394abdc2f6",
        "colab": {
          "base_uri": "https://localhost:8080/"
        }
      },
      "execution_count": null,
      "outputs": [
        {
          "output_type": "execute_result",
          "data": {
            "text/plain": [
              "(350, 1)"
            ]
          },
          "metadata": {},
          "execution_count": 49
        }
      ]
    },
    {
      "cell_type": "code",
      "source": [
        "#sample_freq_data_df\n",
        "#distance_reference_df\n",
        "#selected_rows = rows_training\n",
        "def get_features(sample_freq_data_df, reference_freq_data_df, selected_rows, test_references_params):\n",
        "  data_distance = []\n",
        "  data_mean = []\n",
        "  data_std = []\n",
        "  data_pearson_min = []\n",
        "  data_pearson_mean = []\n",
        "  data_pearson_max = []\n",
        "  data_CI_lower = []\n",
        "  data_CI_upper = []\n",
        "\n",
        "  if test_references_params[0] == True: # Test reference distance portion\n",
        "    reference_freq_data_df = reference_freq_data_df.loc[reference_freq_data_df['Distance_km'] == test_references_params[1]]\n",
        "\n",
        "  for row_idx in tqdm(selected_rows):\n",
        "    data_Y = sample_freq_data_df.iloc[row_idx,3] # distance of row selected\n",
        "    data_X = np.array(sample_freq_data_df.iloc[row_idx,6:sample_freq_data_df.shape[1]]) #array of data in row selected\n",
        "    data_distance.append(data_Y)\n",
        "    data_std.append(np.std(data_X))\n",
        "    data_mean.append(np.mean(data_X))\n",
        "\n",
        "    data_ci = st.t.interval(alpha=0.90, df=len(data_X)-1, loc=np.mean(data_X), scale=st.sem(data_X))\n",
        "    data_confidence_int_lower = data_ci[0]\n",
        "    data_confidence_int_upper = data_ci[1]\n",
        "\n",
        "    # Get reference data -----------------\n",
        "    distance_reference_df = reference_freq_data_df.loc[reference_freq_data_df['Distance_km'] == data_Y]\n",
        "    if distance_reference_df.empty:\n",
        "      distance_reference_df = reference_freq_data_df.copy()\n",
        "\n",
        "    pearson_vals = []\n",
        "    confidence_vals_lower = []\n",
        "    confidence_vals_upper = []\n",
        "    for reference_row in range(0, distance_reference_df.shape[0]):\n",
        "      reference_X = np.array(distance_reference_df.iloc[reference_row,6:distance_reference_df.shape[1]])\n",
        "      pearson_vals.append(round(pearsonr(data_X, reference_X)[0], 5))\n",
        "\n",
        "      reference_ci = st.t.interval(alpha=0.90, df=len(reference_X)-1, loc=np.mean(reference_X), scale=st.sem(reference_X))\n",
        "      reference_confidence_int_lower = reference_ci[0]\n",
        "      confidence_vals_lower.append(round(abs(reference_confidence_int_lower - data_confidence_int_lower), 5))\n",
        "      reference_confidence_int_upper = reference_ci[1]\n",
        "      confidence_vals_upper.append(round(abs(reference_confidence_int_upper - data_confidence_int_upper),5))\n",
        "\n",
        "    data_pearson_min.append(np.min(pearson_vals))\n",
        "    data_pearson_mean.append(np.mean(pearson_vals))    \n",
        "    data_pearson_max.append(np.max(pearson_vals))\n",
        "\n",
        "    data_CI_lower.append(np.min(confidence_vals_lower))\n",
        "    data_CI_upper.append(np.min(confidence_vals_upper))\n",
        "\n",
        "  data = {'distance':data_distance,\n",
        "                  'mean':data_mean,\n",
        "                  'std':data_std,\n",
        "                  'pearson_min':data_pearson_min,\n",
        "                  'pearson_mean':data_pearson_mean,\n",
        "                  'pearson_max':data_pearson_max,\n",
        "                  'delta_CI_min':data_CI_lower,\n",
        "                  'delta_CI_max':data_CI_upper}\n",
        "\n",
        "  data_df = pd.DataFrame(data)\n",
        "  \n",
        "  return data_df"
      ],
      "metadata": {
        "id": "y58J2G0v4pag"
      },
      "execution_count": null,
      "outputs": []
    },
    {
      "cell_type": "code",
      "source": [
        "num_of_freq_selected = 10\n",
        "reference_amt = 30\n",
        "\n",
        "# Load network\n",
        "from keras.models import load_model\n",
        "mm = KerasRegressor(build_fn=ann, epochs=2500, batch_size=8, verbose=0)\n",
        "mm.model = load_model(path+\"/Spectrum/NN/NNs/mod_bootstraped_final_new_data_NN_model_freq_10_reference_30.h5\")\n",
        "\n",
        "res = {}\n",
        "reference_test = [80, 1040, 2000]\n",
        "distances = [x*80 for x in range(1, 26)]\n",
        "\n",
        "for r in reference_test:\n",
        "  new_test_df = get_features(sample_freq_data_df, reference_freq_data_df, rows_testing, test_references_params=(True, r))\n",
        "  #new_test_df = test_df.copy()\n",
        "  \n",
        "  dist_min=80 # 80\n",
        "  dist_max=2000 # 2000\n",
        "\n",
        "  Y = new_test_df.iloc[:, 0].to_numpy()\n",
        "  X = new_test_df.iloc[:, 1:(new_test_df.shape[1])]\n",
        "\n",
        "  Y_test = (Y - Y.min())/ (Y.max() - Y.min())\n",
        "  X_test = (X-X.min())/ (X.max() - X.min())\n",
        "\n",
        "  predict_test(mm, Y_test, X_test, remove_outliers=5, params_freq_reference = (10, 30), all_plots=False, epochs_num='test', training_data=False)\n",
        "  # Prediction\n",
        "  Y_test_pred=mm.predict(X_test)\n",
        "  pred=list(Y_test_pred)\n",
        "  real=list(Y_test)\n",
        "  print(real)\n",
        "  print(pred)\n",
        "\n",
        "  real_abs=np.add(dist_min,np.multiply((dist_max-dist_min),real)) # convert back to distances values from scalar\n",
        "  real_abs=[int(np.round(i)) for i in real_abs]\n",
        "  pred_abs=np.add(dist_min,np.multiply((dist_max-dist_min),pred)) # convert back to distances values from scalar\n",
        "  \n",
        "  print(real_abs)\n",
        "  print(pred_abs)\n",
        "\n",
        "  real_split ={}\n",
        "  for d in distances:\n",
        "    matches = [i for i in range(0,len(real_abs)) if real_abs[i]==d]\n",
        "    real_split[d] = matches\n",
        "  \n",
        "  pred_res = []\n",
        "  pred_m = []\n",
        "  for d_real, matches_idx in real_split.items():\n",
        "    pred_m = [pred_abs[i] for i in matches_idx]\n",
        "    Q1 = np.percentile(pred_m, 25,interpolation = 'midpoint')\n",
        "    Q3 = np.percentile(pred_m, 75,interpolation = 'midpoint')\n",
        "\n",
        "    IQR = Q3 - Q1\n",
        "    upper = Q3+1.5*IQR\n",
        "    lower = Q1-1.5*IQR\n",
        "    filtered_pred_m = []\n",
        "    for v in pred_m:\n",
        "      if v <= upper and v >= lower:\n",
        "        filtered_pred_m.append(v)\n",
        "    pred_res.append(round(np.mean(filtered_pred_m), 5))\n",
        "  \n",
        "  res[r] = pred_res\n",
        "print('-----------------------------------------------------------------------')\n",
        "print('Resuslts')\n",
        "\n",
        "plt.figure(figsize=(15, 10))\n",
        "plt.plot(distances, distances,  linestyle='--')\n",
        "for re in reference_test:\n",
        "  plt.plot(distances, res[re], label='Reference '+str(re))\n",
        "\n",
        "plt.title('Real vs Predicted Distances')\n",
        "plt.xlabel('Real Distances')\n",
        "plt.ylabel('Predicted Distances')\n",
        "plt.xlim(np.min(distances)-25, np.max(distances)+25)\n",
        "plt.ylim(np.min(distances)-25, np.max(distances)+25)\n",
        "plt.yticks(distances)\n",
        "plt.xticks(distances)\n",
        "plt.legend(loc=\"best\")\n",
        "plt.show()\n",
        "\n",
        "for re in reference_test:\n",
        "  print(res[re])\n",
        "\n",
        "print('-----------------------------------------------------------------------')"
      ],
      "metadata": {
        "id": "UictGjFkIqr1",
        "colab": {
          "base_uri": "https://localhost:8080/",
          "height": 1000
        },
        "outputId": "2fd477ed-3460-4bf1-dadf-fcc29b8a9fc1"
      },
      "execution_count": null,
      "outputs": [
        {
          "output_type": "stream",
          "name": "stderr",
          "text": [
            "100%|██████████| 2350/2350 [01:58<00:00, 19.83it/s]\n"
          ]
        },
        {
          "output_type": "stream",
          "name": "stdout",
          "text": [
            "Results (freq_10_reference_30)\n",
            "Real_abs:\n",
            "[480, 640, 720, 880, 1280, 1440, 400, 160, 960, 1600, 960, 2000, 1600, 80, 800, 1360, 1200, 640, 1360, 320, 1040, 2000, 1760, 160, 1120, 1280, 320, 1200, 800, 1120, 1360, 1520, 1280, 480, 1440, 320, 160, 560, 1840, 1360, 480, 320, 1680, 1360, 1280, 960, 480, 560, 1920, 1440, 1040, 240, 1520, 80, 1840, 880, 640, 480, 960, 1680, 1600, 720, 640, 160, 400, 1280, 1840, 1280, 960, 880, 400, 1920, 1440, 1040, 1920, 1600, 1200, 1760, 1360, 1280, 1360, 1760, 1920, 640, 400, 1120, 560, 1280, 2000, 640, 800, 720, 720, 1760, 1920, 1680, 1600, 1040, 800, 1120, 960, 1680, 720, 320, 560, 1200, 480, 1120, 240, 2000, 1520, 880, 640, 1440, 1520, 400, 80, 720, 1360, 320, 1680, 400, 800, 960, 480, 320, 1360, 1120, 400, 400, 1520, 480, 800, 1840, 640, 480, 1040, 240, 1520, 1920, 1520, 1600, 1040, 1360, 1680, 720, 720, 1040, 160, 160, 1120, 880, 1840, 2000, 640, 560, 1280, 320, 1680, 80, 1280, 1200, 2000, 1920, 800, 80, 880, 320, 560, 1520, 1760, 480, 1920, 1360, 2000, 880, 1920, 160, 240, 1360, 1280, 1120, 160, 880, 1360, 800, 80, 2000, 1840, 640, 1040, 1760, 480, 480, 720, 1280, 1840, 1200, 560, 1200, 1920, 1760, 1760, 1920, 800, 1440, 1120, 1600, 1840, 1360, 480, 880, 1680, 640, 560, 320, 960, 240, 1440, 320, 960, 2000, 960, 1120, 640, 1920, 1280, 320, 960, 800, 320, 320, 640, 1440, 560, 880, 1600, 1200, 1920, 800, 480, 800, 880, 80, 160, 1520, 560, 1760, 480, 1920, 1680, 160, 1520, 1360, 160, 1120, 400, 720, 80, 1200, 1840, 1920, 720, 320, 1120, 1520, 2000, 1440, 2000, 1840, 1040, 1360, 800, 1280, 1680, 1200, 1120, 640, 320, 1120, 640, 720, 880, 320, 2000, 720, 2000, 1600, 800, 1840, 1440, 1680, 400, 560, 1120, 1200, 1200, 1760, 1600, 1360, 1120, 480, 1520, 1360, 160, 1200, 1200, 1920, 1600, 640, 1120, 1200, 2000, 1840, 160, 1040, 400, 640, 160, 1440, 640, 800, 480, 1280, 880, 800, 1600, 80, 1600, 1040, 1920, 1120, 1520, 1680, 480, 1200, 80, 560, 2000, 1440, 560, 320, 160, 1360, 480, 1200, 1040, 1120, 880, 1760, 1440, 1200, 1200, 1760, 1120, 1760, 80, 1360, 800, 1360, 1520, 1440, 800, 80, 960, 1280, 1040, 240, 880, 1440, 240, 720, 80, 560, 1680, 800, 480, 160, 240, 1520, 1360, 320, 640, 1680, 1680, 1040, 1040, 1600, 400, 1120, 1040, 1040, 1760, 160, 1760, 2000, 1120, 320, 480, 1360, 640, 1520, 1760, 560, 1120, 400, 960, 160, 1440, 880, 1760, 640, 720, 1600, 560, 80, 1680, 2000, 1920, 160, 1680, 80, 1920, 1680, 1040, 400, 160, 1280, 1200, 1520, 880, 1840, 880, 240, 1520, 80, 560, 1360, 1520, 1520, 960, 400, 880, 1680, 880, 1200, 1520, 1040, 640, 960, 720, 1600, 1360, 240, 960, 1440, 400, 560, 1600, 880, 1200, 1040, 400, 960, 480, 80, 1360, 800, 2000, 960, 1280, 2000, 1440, 1520, 1760, 1920, 1840, 560, 1680, 240, 640, 1760, 480, 1840, 320, 480, 240, 1760, 320, 400, 2000, 1600, 960, 1040, 160, 1280, 240, 720, 1680, 1120, 2000, 720, 880, 800, 800, 720, 1920, 1680, 1040, 320, 160, 640, 720, 1120, 1600, 240, 1360, 1680, 1440, 240, 160, 1760, 1600, 1360, 640, 640, 880, 880, 1280, 880, 880, 1520, 2000, 240, 720, 1280, 640, 560, 1680, 1360, 800, 1920, 1280, 1760, 480, 1200, 1280, 880, 1440, 400, 1200, 400, 800, 880, 1280, 1120, 1520, 1920, 1120, 480, 1040, 1920, 1840, 480, 640, 560, 720, 1360, 320, 1840, 800, 1040, 1360, 1120, 160, 400, 1040, 640, 560, 800, 560, 400, 1840, 1680, 880, 1760, 80, 1680, 1360, 960, 240, 1120, 800, 1200, 1280, 1520, 960, 1600, 160, 2000, 960, 1440, 240, 80, 80, 960, 160, 1440, 560, 2000, 880, 80, 320, 1920, 1120, 1280, 1840, 1920, 640, 1120, 480, 1520, 1520, 560, 1520, 720, 640, 400, 1600, 160, 1840, 80, 1200, 880, 720, 960, 1360, 640, 560, 960, 960, 1520, 1040, 1200, 480, 1760, 400, 1120, 480, 480, 880, 1600, 160, 720, 1680, 2000, 1120, 2000, 2000, 320, 1360, 800, 560, 400, 1600, 1200, 240, 1840, 320, 240, 880, 720, 1520, 800, 1840, 560, 1920, 1120, 320, 160, 320, 1840, 2000, 640, 1600, 1360, 400, 1760, 640, 800, 1680, 2000, 1280, 240, 560, 1840, 1360, 1120, 1680, 1600, 2000, 160, 1760, 80, 1840, 2000, 1360, 800, 960, 240, 800, 960, 240, 800, 1680, 320, 1200, 160, 560, 640, 720, 880, 1360, 1120, 880, 640, 400, 800, 1680, 880, 720, 880, 960, 160, 1600, 720, 1680, 80, 1440, 1440, 1920, 480, 1040, 1680, 240, 1520, 320, 160, 2000, 1760, 1920, 2000, 1280, 240, 1920, 320, 1360, 1360, 1200, 480, 1920, 1600, 2000, 1280, 880, 1600, 1760, 1680, 240, 1840, 1520, 1840, 720, 80, 1520, 880, 720, 480, 400, 80, 560, 1600, 1280, 1120, 1760, 640, 800, 1600, 160, 1520, 640, 1600, 800, 1520, 720, 400, 960, 1200, 720, 80, 800, 560, 240, 240, 320, 880, 1360, 800, 1120, 80, 1200, 1520, 480, 80, 960, 560, 400, 2000, 1440, 1120, 1200, 1440, 1440, 960, 1120, 1520, 960, 320, 1280, 80, 1040, 720, 960, 1600, 1360, 960, 1280, 640, 560, 1120, 800, 1120, 960, 1440, 1680, 400, 1440, 1680, 1360, 240, 320, 1520, 800, 80, 1600, 880, 560, 2000, 1200, 1120, 400, 240, 960, 1520, 1040, 1120, 240, 1520, 1920, 1200, 1280, 1920, 1600, 1200, 1680, 1200, 1920, 1520, 320, 1600, 960, 1200, 80, 160, 960, 1600, 560, 400, 80, 2000, 480, 720, 800, 1280, 1600, 1760, 560, 1040, 720, 240, 1280, 1360, 1120, 1840, 1200, 2000, 1040, 560, 480, 880, 1440, 160, 800, 480, 800, 800, 1200, 1040, 240, 160, 1200, 1920, 1040, 400, 560, 800, 1040, 800, 720, 960, 1680, 880, 640, 1520, 1440, 1600, 400, 1920, 1120, 2000, 1840, 1040, 1280, 1200, 960, 1040, 80, 320, 640, 720, 1600, 80, 480, 2000, 1760, 1520, 640, 720, 800, 1040, 480, 560, 1600, 1200, 800, 1440, 1440, 640, 1200, 1200, 560, 1920, 240, 880, 1440, 720, 720, 160, 720, 1680, 640, 1920, 1680, 80, 1200, 480, 640, 1840, 400, 1680, 560, 240, 1120, 1680, 1920, 1920, 1600, 960, 960, 1920, 400, 1440, 1520, 400, 160, 800, 1440, 240, 160, 1280, 160, 400, 560, 640, 1840, 1120, 720, 720, 1920, 2000, 1280, 1520, 1120, 400, 2000, 2000, 1440, 1600, 880, 1360, 80, 2000, 480, 1840, 1360, 1280, 240, 240, 1280, 1920, 1680, 400, 880, 1760, 480, 1520, 1520, 560, 800, 800, 1600, 800, 880, 1360, 1120, 1840, 1280, 480, 80, 320, 1840, 1200, 1920, 1120, 1440, 720, 480, 80, 2000, 1120, 160, 1200, 160, 480, 80, 1600, 1680, 80, 1360, 560, 1680, 1440, 640, 2000, 720, 1360, 480, 160, 1040, 1040, 1040, 1520, 480, 1600, 640, 1600, 1200, 720, 1760, 1760, 880, 720, 640, 560, 240, 480, 1120, 1360, 1200, 1040, 480, 1840, 960, 320, 1840, 1280, 400, 2000, 1280, 1520, 1280, 1040, 1280, 1440, 1520, 1280, 720, 240, 1680, 960, 640, 320, 560, 480, 960, 560, 1280, 960, 1040, 480, 400, 1600, 1520, 1440, 1920, 160, 320, 800, 1440, 640, 480, 1120, 800, 160, 560, 1600, 1920, 1120, 240, 1280, 800, 960, 720, 1280, 400, 1280, 1120, 1680, 240, 1120, 1840, 1920, 1280, 1440, 1040, 1840, 880, 1120, 1600, 1600, 1600, 1120, 1840, 800, 480, 1600, 960, 400, 880, 960, 320, 240, 160, 960, 2000, 800, 2000, 1280, 2000, 1760, 640, 1840, 400, 240, 720, 1360, 1520, 1680, 1280, 240, 1280, 320, 240, 1040, 1200, 240, 1280, 1040, 1280, 1840, 1440, 80, 1360, 720, 560, 1280, 1680, 1120, 880, 160, 1040, 1520, 240, 1600, 1360, 1120, 2000, 160, 1200, 480, 880, 880, 1200, 1600, 480, 1280, 1280, 1360, 640, 160, 1920, 1280, 880, 1520, 1600, 800, 880, 1920, 1600, 160, 160, 400, 1680, 960, 1520, 1440, 1840, 1520, 560, 960, 880, 1840, 720, 1120, 880, 720, 1280, 1760, 400, 880, 480, 1440, 1360, 1040, 1600, 960, 1520, 80, 1360, 1600, 880, 1280, 880, 480, 400, 400, 1520, 1360, 1520, 1600, 880, 1440, 2000, 1200, 1120, 720, 1200, 720, 80, 80, 160, 1440, 160, 1840, 1840, 640, 400, 2000, 1840, 560, 1840, 960, 480, 480, 1840, 240, 1520, 1760, 400, 1440, 80, 1760, 320, 640, 1360, 1840, 1520, 400, 1200, 1760, 2000, 960, 240, 240, 320, 960, 80, 560, 80, 720, 960, 320, 880, 1040, 400, 1120, 880, 880, 560, 1440, 1520, 1520, 1280, 400, 960, 1840, 1200, 800, 800, 1920, 1920, 1680, 1360, 640, 1600, 720, 1840, 880, 1200, 1680, 1680, 1200, 1440, 1680, 160, 1360, 640, 800, 1600, 1200, 640, 1280, 800, 1760, 1520, 560, 1440, 1440, 1120, 240, 1600, 560, 1360, 1040, 1840, 560, 1840, 320, 560, 1520, 640, 80, 1440, 1840, 1760, 160, 1840, 960, 1520, 80, 640, 480, 1680, 1120, 2000, 1200, 160, 800, 1520, 560, 240, 560, 80, 1040, 240, 1440, 2000, 400, 1280, 1920, 1360, 1920, 1120, 320, 800, 1200, 1120, 800, 800, 1600, 880, 80, 720, 800, 1120, 720, 400, 1040, 240, 560, 640, 640, 480, 80, 480, 1280, 2000, 880, 1120, 400, 1040, 880, 320, 1040, 1440, 1040, 1760, 320, 960, 1200, 1360, 400, 560, 1440, 880, 880, 1600, 240, 1680, 1280, 1680, 160, 1600, 1120, 1280, 1360, 1520, 1440, 480, 1280, 1360, 1520, 240, 240, 160, 1280, 160, 240, 80, 640, 1360, 1280, 400, 1600, 1760, 1840, 1120, 1200, 1920, 240, 1680, 1120, 960, 640, 1840, 640, 400, 1200, 1680, 1280, 880, 320, 1840, 1760, 2000, 1280, 2000, 1920, 1600, 1040, 480, 400, 960, 1520, 240, 640, 400, 320, 1440, 240, 1200, 1520, 880, 1200, 1120, 160, 1200, 1520, 400, 80, 640, 480, 400, 880, 1760, 960, 1280, 960, 1520, 1280, 640, 1440, 2000, 320, 480, 1600, 400, 1120, 1280, 1520, 480, 1040, 880, 720, 800, 1280, 800, 560, 1200, 320, 1280, 960, 480, 960, 320, 1680, 960, 80, 1920, 1440, 1920, 320, 1040, 2000, 880, 1760, 1440, 1680, 960, 560, 1680, 800, 160, 1840, 640, 640, 720, 1440, 1440, 1360, 880, 1920, 1600, 1120, 1680, 320, 80, 560, 1280, 1120, 640, 160, 1120, 1120, 800, 1120, 480, 1040, 240, 1520, 1520, 1760, 880, 880, 1680, 720, 1040, 1040, 720, 1040, 1520, 960, 1440, 1440, 960, 800, 1040, 1440, 720, 960, 1120, 1280, 480, 1600, 960, 480, 1600, 1440, 400, 880, 240, 1040, 1120, 800, 400, 1200, 1360, 1120, 1760, 240, 720, 1920, 1200, 1200, 320, 1520, 1120, 960, 320, 1840, 1360, 720, 1200, 1920, 1040, 1520, 2000, 1840, 1600, 960, 1680, 400, 1760, 1840, 2000, 1280, 480, 1680, 80, 1040, 320, 800, 320, 1360, 320, 1280, 560, 160, 160, 1520, 1680, 80, 1360, 880, 400, 400, 1440, 320, 2000, 960, 880, 1600, 1840, 160, 1920, 480, 1360, 1680, 1280, 1040, 160, 80, 800, 1760, 400, 1600, 1200, 1440, 960, 480, 1200, 1440, 800, 800, 800, 1520, 160, 1840, 1440, 880, 1680, 640, 720, 2000, 480, 1760, 640, 1840, 800, 1280, 720, 240, 1920, 560, 720, 1680, 160, 560, 2000, 1840, 800, 880, 1440, 1200, 1280, 960, 160, 1600, 2000, 320, 1360, 240, 1520, 1840, 1920, 1200, 1840, 960, 1920, 320, 160, 1680, 1760, 1040, 240, 400, 1040, 2000, 1840, 1520, 1840, 1040, 2000, 480, 1040, 560, 800, 560, 960, 880, 1760, 880, 1360, 1600, 80, 240, 240, 2000, 960, 1360, 880, 2000, 1760, 240, 640, 1120, 800, 1760, 960, 800, 560, 1040, 1920, 1520, 800, 1600, 560, 1120, 1680, 960, 640, 1840, 720, 400, 880, 1200, 480, 960, 1200, 1440, 1200, 1120, 1760, 1600, 960, 1600, 1200, 800, 1040, 1120, 1840, 80, 640, 1920, 720, 400, 1920, 160, 1040, 1120, 2000, 480, 1280, 960, 1440, 320, 880, 1200, 320, 2000, 1760, 880, 640, 1840, 160, 1360, 1280, 1120, 1760, 1360, 1520, 720, 1760, 1920, 560, 1200, 560, 960, 400, 1120, 560, 1200, 80, 1520, 1520, 1600, 1520, 640, 1120, 1440, 1760, 480, 1840, 1680, 1440, 960, 400, 160, 1040, 1280, 1280, 1680, 1280, 1280, 1440, 1440, 1120, 960, 1280, 1360, 1680, 1920, 160, 1520, 1360, 1840, 560, 1600, 1120, 1520, 400, 560, 800, 480, 2000, 1200, 560, 720, 1120, 1280, 1440, 1200, 1600, 160, 1440, 160, 80, 80, 1600, 640, 1040, 1760, 480, 80, 1040, 1920, 160, 1280, 640, 1280, 400, 1280, 1200, 1440, 1280, 1440, 1920, 400, 640, 1520, 1280, 1920, 160, 1680, 1360, 640, 2000, 1840, 400, 240, 80, 800, 1440, 800, 80, 1360, 240, 720, 2000, 1360, 1360, 1280, 560, 1760, 320, 160, 1120, 960, 640, 1360, 1360, 80, 240, 1120, 1200, 160, 1760, 960, 880, 1520, 1680, 800, 480, 160, 1280, 1280, 160, 160, 80, 1200, 1360, 2000, 880, 640, 320, 1040, 1200, 240, 1040, 1360, 2000, 880, 1760, 1120, 240, 160, 1440, 1840, 1760, 160, 80, 1840, 1200, 1600, 240, 1760, 1840, 720, 240, 320, 320, 1040, 240, 400, 1040, 160, 160, 1040, 1440, 1280, 320, 80, 800, 960, 1760, 880, 880, 560, 1280, 1680, 160, 960, 1120, 480, 1040, 1920, 960, 1920, 400, 1120, 640, 400, 1840, 1120, 1600, 960, 1920, 1680, 800, 1520, 240, 720, 1840, 320, 560, 80, 160, 1040, 160, 1760, 960, 800, 640, 2000, 1520, 1200, 2000, 1360, 880, 960, 480, 80, 1600, 1600, 80, 320, 560, 2000, 1840, 1280, 1360, 880, 880, 1760, 720, 1840, 80, 480, 1600, 640, 1520, 2000, 240, 1600, 1440, 1360, 480, 2000, 1520, 1520, 1360, 1120, 1520, 1280, 800, 1920, 880, 80, 80, 1040, 880, 1600, 1120, 880, 560, 640, 1120, 1840, 80, 1200, 1040, 960, 160, 1360, 480, 2000, 1200, 1760, 2000, 1280, 1600, 1280, 560, 640, 640, 1760, 1280, 640, 160, 1120, 1600, 1120, 1680, 1600, 320, 480, 1040, 1440, 240, 240, 1680, 1280, 720, 960, 240, 1280, 240, 480, 1040, 1200, 1920, 640, 240, 800, 240, 560, 640, 880, 1680, 1840, 1920, 1200, 160, 800, 720, 1360, 1520, 1200, 1440, 1760, 240, 240, 1760, 320, 1360, 720, 1360, 320, 2000, 160, 720, 1600, 1760, 480, 1120, 1040, 800, 320, 960, 2000, 1440, 800, 720, 320, 1680, 960, 1120, 1840, 1280, 400, 720, 1280, 1920, 320, 1520, 320, 1200, 240, 1040, 640, 240, 1120, 1920, 480, 240, 960, 80, 1920, 1120, 640, 1600, 80, 1360, 960, 1440, 240, 560, 480, 1200, 720, 480, 320, 400, 800, 160, 1280, 1760, 1120, 240, 1840, 1040, 400, 160, 400, 2000, 1120, 720, 1360, 240, 880, 800, 880, 1760, 1360, 160, 1680, 2000, 640, 320, 880, 1840, 880, 1040, 1120, 1840, 1760, 560, 640, 1600, 400, 1280, 1440, 1760, 720, 1760, 800, 640, 480, 720, 80]\n",
            "Pred_abs:\n",
            "[188.84201  177.6993   439.62567  ...  86.217514 274.5462   103.73361 ]\n"
          ]
        },
        {
          "output_type": "display_data",
          "data": {
            "text/plain": [
              "<Figure size 432x288 with 1 Axes>"
            ],
            "image/png": "[encoded data removed]"
          },
          "metadata": {
            "needs_background": "light"
          }
        },
        {
          "output_type": "stream",
          "name": "stdout",
          "text": [
            "[0.20833333333333334, 0.2916666666666667, 0.3333333333333333, 0.4166666666666667, 0.625, 0.7083333333333334, 0.16666666666666666, 0.041666666666666664, 0.4583333333333333, 0.7916666666666666, 0.4583333333333333, 1.0, 0.7916666666666666, 0.0, 0.375, 0.6666666666666666, 0.5833333333333334, 0.2916666666666667, 0.6666666666666666, 0.125, 0.5, 1.0, 0.875, 0.041666666666666664, 0.5416666666666666, 0.625, 0.125, 0.5833333333333334, 0.375, 0.5416666666666666, 0.6666666666666666, 0.75, 0.625, 0.20833333333333334, 0.7083333333333334, 0.125, 0.041666666666666664, 0.25, 0.9166666666666666, 0.6666666666666666, 0.20833333333333334, 0.125, 0.8333333333333334, 0.6666666666666666, 0.625, 0.4583333333333333, 0.20833333333333334, 0.25, 0.9583333333333334, 0.7083333333333334, 0.5, 0.08333333333333333, 0.75, 0.0, 0.9166666666666666, 0.4166666666666667, 0.2916666666666667, 0.20833333333333334, 0.4583333333333333, 0.8333333333333334, 0.7916666666666666, 0.3333333333333333, 0.2916666666666667, 0.041666666666666664, 0.16666666666666666, 0.625, 0.9166666666666666, 0.625, 0.4583333333333333, 0.4166666666666667, 0.16666666666666666, 0.9583333333333334, 0.7083333333333334, 0.5, 0.9583333333333334, 0.7916666666666666, 0.5833333333333334, 0.875, 0.6666666666666666, 0.625, 0.6666666666666666, 0.875, 0.9583333333333334, 0.2916666666666667, 0.16666666666666666, 0.5416666666666666, 0.25, 0.625, 1.0, 0.2916666666666667, 0.375, 0.3333333333333333, 0.3333333333333333, 0.875, 0.9583333333333334, 0.8333333333333334, 0.7916666666666666, 0.5, 0.375, 0.5416666666666666, 0.4583333333333333, 0.8333333333333334, 0.3333333333333333, 0.125, 0.25, 0.5833333333333334, 0.20833333333333334, 0.5416666666666666, 0.08333333333333333, 1.0, 0.75, 0.4166666666666667, 0.2916666666666667, 0.7083333333333334, 0.75, 0.16666666666666666, 0.0, 0.3333333333333333, 0.6666666666666666, 0.125, 0.8333333333333334, 0.16666666666666666, 0.375, 0.4583333333333333, 0.20833333333333334, 0.125, 0.6666666666666666, 0.5416666666666666, 0.16666666666666666, 0.16666666666666666, 0.75, 0.20833333333333334, 0.375, 0.9166666666666666, 0.2916666666666667, 0.20833333333333334, 0.5, 0.08333333333333333, 0.75, 0.9583333333333334, 0.75, 0.7916666666666666, 0.5, 0.6666666666666666, 0.8333333333333334, 0.3333333333333333, 0.3333333333333333, 0.5, 0.041666666666666664, 0.041666666666666664, 0.5416666666666666, 0.4166666666666667, 0.9166666666666666, 1.0, 0.2916666666666667, 0.25, 0.625, 0.125, 0.8333333333333334, 0.0, 0.625, 0.5833333333333334, 1.0, 0.9583333333333334, 0.375, 0.0, 0.4166666666666667, 0.125, 0.25, 0.75, 0.875, 0.20833333333333334, 0.9583333333333334, 0.6666666666666666, 1.0, 0.4166666666666667, 0.9583333333333334, 0.041666666666666664, 0.08333333333333333, 0.6666666666666666, 0.625, 0.5416666666666666, 0.041666666666666664, 0.4166666666666667, 0.6666666666666666, 0.375, 0.0, 1.0, 0.9166666666666666, 0.2916666666666667, 0.5, 0.875, 0.20833333333333334, 0.20833333333333334, 0.3333333333333333, 0.625, 0.9166666666666666, 0.5833333333333334, 0.25, 0.5833333333333334, 0.9583333333333334, 0.875, 0.875, 0.9583333333333334, 0.375, 0.7083333333333334, 0.5416666666666666, 0.7916666666666666, 0.9166666666666666, 0.6666666666666666, 0.20833333333333334, 0.4166666666666667, 0.8333333333333334, 0.2916666666666667, 0.25, 0.125, 0.4583333333333333, 0.08333333333333333, 0.7083333333333334, 0.125, 0.4583333333333333, 1.0, 0.4583333333333333, 0.5416666666666666, 0.2916666666666667, 0.9583333333333334, 0.625, 0.125, 0.4583333333333333, 0.375, 0.125, 0.125, 0.2916666666666667, 0.7083333333333334, 0.25, 0.4166666666666667, 0.7916666666666666, 0.5833333333333334, 0.9583333333333334, 0.375, 0.20833333333333334, 0.375, 0.4166666666666667, 0.0, 0.041666666666666664, 0.75, 0.25, 0.875, 0.20833333333333334, 0.9583333333333334, 0.8333333333333334, 0.041666666666666664, 0.75, 0.6666666666666666, 0.041666666666666664, 0.5416666666666666, 0.16666666666666666, 0.3333333333333333, 0.0, 0.5833333333333334, 0.9166666666666666, 0.9583333333333334, 0.3333333333333333, 0.125, 0.5416666666666666, 0.75, 1.0, 0.7083333333333334, 1.0, 0.9166666666666666, 0.5, 0.6666666666666666, 0.375, 0.625, 0.8333333333333334, 0.5833333333333334, 0.5416666666666666, 0.2916666666666667, 0.125, 0.5416666666666666, 0.2916666666666667, 0.3333333333333333, 0.4166666666666667, 0.125, 1.0, 0.3333333333333333, 1.0, 0.7916666666666666, 0.375, 0.9166666666666666, 0.7083333333333334, 0.8333333333333334, 0.16666666666666666, 0.25, 0.5416666666666666, 0.5833333333333334, 0.5833333333333334, 0.875, 0.7916666666666666, 0.6666666666666666, 0.5416666666666666, 0.20833333333333334, 0.75, 0.6666666666666666, 0.041666666666666664, 0.5833333333333334, 0.5833333333333334, 0.9583333333333334, 0.7916666666666666, 0.2916666666666667, 0.5416666666666666, 0.5833333333333334, 1.0, 0.9166666666666666, 0.041666666666666664, 0.5, 0.16666666666666666, 0.2916666666666667, 0.041666666666666664, 0.7083333333333334, 0.2916666666666667, 0.375, 0.20833333333333334, 0.625, 0.4166666666666667, 0.375, 0.7916666666666666, 0.0, 0.7916666666666666, 0.5, 0.9583333333333334, 0.5416666666666666, 0.75, 0.8333333333333334, 0.20833333333333334, 0.5833333333333334, 0.0, 0.25, 1.0, 0.7083333333333334, 0.25, 0.125, 0.041666666666666664, 0.6666666666666666, 0.20833333333333334, 0.5833333333333334, 0.5, 0.5416666666666666, 0.4166666666666667, 0.875, 0.7083333333333334, 0.5833333333333334, 0.5833333333333334, 0.875, 0.5416666666666666, 0.875, 0.0, 0.6666666666666666, 0.375, 0.6666666666666666, 0.75, 0.7083333333333334, 0.375, 0.0, 0.4583333333333333, 0.625, 0.5, 0.08333333333333333, 0.4166666666666667, 0.7083333333333334, 0.08333333333333333, 0.3333333333333333, 0.0, 0.25, 0.8333333333333334, 0.375, 0.20833333333333334, 0.041666666666666664, 0.08333333333333333, 0.75, 0.6666666666666666, 0.125, 0.2916666666666667, 0.8333333333333334, 0.8333333333333334, 0.5, 0.5, 0.7916666666666666, 0.16666666666666666, 0.5416666666666666, 0.5, 0.5, 0.875, 0.041666666666666664, 0.875, 1.0, 0.5416666666666666, 0.125, 0.20833333333333334, 0.6666666666666666, 0.2916666666666667, 0.75, 0.875, 0.25, 0.5416666666666666, 0.16666666666666666, 0.4583333333333333, 0.041666666666666664, 0.7083333333333334, 0.4166666666666667, 0.875, 0.2916666666666667, 0.3333333333333333, 0.7916666666666666, 0.25, 0.0, 0.8333333333333334, 1.0, 0.9583333333333334, 0.041666666666666664, 0.8333333333333334, 0.0, 0.9583333333333334, 0.8333333333333334, 0.5, 0.16666666666666666, 0.041666666666666664, 0.625, 0.5833333333333334, 0.75, 0.4166666666666667, 0.9166666666666666, 0.4166666666666667, 0.08333333333333333, 0.75, 0.0, 0.25, 0.6666666666666666, 0.75, 0.75, 0.4583333333333333, 0.16666666666666666, 0.4166666666666667, 0.8333333333333334, 0.4166666666666667, 0.5833333333333334, 0.75, 0.5, 0.2916666666666667, 0.4583333333333333, 0.3333333333333333, 0.7916666666666666, 0.6666666666666666, 0.08333333333333333, 0.4583333333333333, 0.7083333333333334, 0.16666666666666666, 0.25, 0.7916666666666666, 0.4166666666666667, 0.5833333333333334, 0.5, 0.16666666666666666, 0.4583333333333333, 0.20833333333333334, 0.0, 0.6666666666666666, 0.375, 1.0, 0.4583333333333333, 0.625, 1.0, 0.7083333333333334, 0.75, 0.875, 0.9583333333333334, 0.9166666666666666, 0.25, 0.8333333333333334, 0.08333333333333333, 0.2916666666666667, 0.875, 0.20833333333333334, 0.9166666666666666, 0.125, 0.20833333333333334, 0.08333333333333333, 0.875, 0.125, 0.16666666666666666, 1.0, 0.7916666666666666, 0.4583333333333333, 0.5, 0.041666666666666664, 0.625, 0.08333333333333333, 0.3333333333333333, 0.8333333333333334, 0.5416666666666666, 1.0, 0.3333333333333333, 0.4166666666666667, 0.375, 0.375, 0.3333333333333333, 0.9583333333333334, 0.8333333333333334, 0.5, 0.125, 0.041666666666666664, 0.2916666666666667, 0.3333333333333333, 0.5416666666666666, 0.7916666666666666, 0.08333333333333333, 0.6666666666666666, 0.8333333333333334, 0.7083333333333334, 0.08333333333333333, 0.041666666666666664, 0.875, 0.7916666666666666, 0.6666666666666666, 0.2916666666666667, 0.2916666666666667, 0.4166666666666667, 0.4166666666666667, 0.625, 0.4166666666666667, 0.4166666666666667, 0.75, 1.0, 0.08333333333333333, 0.3333333333333333, 0.625, 0.2916666666666667, 0.25, 0.8333333333333334, 0.6666666666666666, 0.375, 0.9583333333333334, 0.625, 0.875, 0.20833333333333334, 0.5833333333333334, 0.625, 0.4166666666666667, 0.7083333333333334, 0.16666666666666666, 0.5833333333333334, 0.16666666666666666, 0.375, 0.4166666666666667, 0.625, 0.5416666666666666, 0.75, 0.9583333333333334, 0.5416666666666666, 0.20833333333333334, 0.5, 0.9583333333333334, 0.9166666666666666, 0.20833333333333334, 0.2916666666666667, 0.25, 0.3333333333333333, 0.6666666666666666, 0.125, 0.9166666666666666, 0.375, 0.5, 0.6666666666666666, 0.5416666666666666, 0.041666666666666664, 0.16666666666666666, 0.5, 0.2916666666666667, 0.25, 0.375, 0.25, 0.16666666666666666, 0.9166666666666666, 0.8333333333333334, 0.4166666666666667, 0.875, 0.0, 0.8333333333333334, 0.6666666666666666, 0.4583333333333333, 0.08333333333333333, 0.5416666666666666, 0.375, 0.5833333333333334, 0.625, 0.75, 0.4583333333333333, 0.7916666666666666, 0.041666666666666664, 1.0, 0.4583333333333333, 0.7083333333333334, 0.08333333333333333, 0.0, 0.0, 0.4583333333333333, 0.041666666666666664, 0.7083333333333334, 0.25, 1.0, 0.4166666666666667, 0.0, 0.125, 0.9583333333333334, 0.5416666666666666, 0.625, 0.9166666666666666, 0.9583333333333334, 0.2916666666666667, 0.5416666666666666, 0.20833333333333334, 0.75, 0.75, 0.25, 0.75, 0.3333333333333333, 0.2916666666666667, 0.16666666666666666, 0.7916666666666666, 0.041666666666666664, 0.9166666666666666, 0.0, 0.5833333333333334, 0.4166666666666667, 0.3333333333333333, 0.4583333333333333, 0.6666666666666666, 0.2916666666666667, 0.25, 0.4583333333333333, 0.4583333333333333, 0.75, 0.5, 0.5833333333333334, 0.20833333333333334, 0.875, 0.16666666666666666, 0.5416666666666666, 0.20833333333333334, 0.20833333333333334, 0.4166666666666667, 0.7916666666666666, 0.041666666666666664, 0.3333333333333333, 0.8333333333333334, 1.0, 0.5416666666666666, 1.0, 1.0, 0.125, 0.6666666666666666, 0.375, 0.25, 0.16666666666666666, 0.7916666666666666, 0.5833333333333334, 0.08333333333333333, 0.9166666666666666, 0.125, 0.08333333333333333, 0.4166666666666667, 0.3333333333333333, 0.75, 0.375, 0.9166666666666666, 0.25, 0.9583333333333334, 0.5416666666666666, 0.125, 0.041666666666666664, 0.125, 0.9166666666666666, 1.0, 0.2916666666666667, 0.7916666666666666, 0.6666666666666666, 0.16666666666666666, 0.875, 0.2916666666666667, 0.375, 0.8333333333333334, 1.0, 0.625, 0.08333333333333333, 0.25, 0.9166666666666666, 0.6666666666666666, 0.5416666666666666, 0.8333333333333334, 0.7916666666666666, 1.0, 0.041666666666666664, 0.875, 0.0, 0.9166666666666666, 1.0, 0.6666666666666666, 0.375, 0.4583333333333333, 0.08333333333333333, 0.375, 0.4583333333333333, 0.08333333333333333, 0.375, 0.8333333333333334, 0.125, 0.5833333333333334, 0.041666666666666664, 0.25, 0.2916666666666667, 0.3333333333333333, 0.4166666666666667, 0.6666666666666666, 0.5416666666666666, 0.4166666666666667, 0.2916666666666667, 0.16666666666666666, 0.375, 0.8333333333333334, 0.4166666666666667, 0.3333333333333333, 0.4166666666666667, 0.4583333333333333, 0.041666666666666664, 0.7916666666666666, 0.3333333333333333, 0.8333333333333334, 0.0, 0.7083333333333334, 0.7083333333333334, 0.9583333333333334, 0.20833333333333334, 0.5, 0.8333333333333334, 0.08333333333333333, 0.75, 0.125, 0.041666666666666664, 1.0, 0.875, 0.9583333333333334, 1.0, 0.625, 0.08333333333333333, 0.9583333333333334, 0.125, 0.6666666666666666, 0.6666666666666666, 0.5833333333333334, 0.20833333333333334, 0.9583333333333334, 0.7916666666666666, 1.0, 0.625, 0.4166666666666667, 0.7916666666666666, 0.875, 0.8333333333333334, 0.08333333333333333, 0.9166666666666666, 0.75, 0.9166666666666666, 0.3333333333333333, 0.0, 0.75, 0.4166666666666667, 0.3333333333333333, 0.20833333333333334, 0.16666666666666666, 0.0, 0.25, 0.7916666666666666, 0.625, 0.5416666666666666, 0.875, 0.2916666666666667, 0.375, 0.7916666666666666, 0.041666666666666664, 0.75, 0.2916666666666667, 0.7916666666666666, 0.375, 0.75, 0.3333333333333333, 0.16666666666666666, 0.4583333333333333, 0.5833333333333334, 0.3333333333333333, 0.0, 0.375, 0.25, 0.08333333333333333, 0.08333333333333333, 0.125, 0.4166666666666667, 0.6666666666666666, 0.375, 0.5416666666666666, 0.0, 0.5833333333333334, 0.75, 0.20833333333333334, 0.0, 0.4583333333333333, 0.25, 0.16666666666666666, 1.0, 0.7083333333333334, 0.5416666666666666, 0.5833333333333334, 0.7083333333333334, 0.7083333333333334, 0.4583333333333333, 0.5416666666666666, 0.75, 0.4583333333333333, 0.125, 0.625, 0.0, 0.5, 0.3333333333333333, 0.4583333333333333, 0.7916666666666666, 0.6666666666666666, 0.4583333333333333, 0.625, 0.2916666666666667, 0.25, 0.5416666666666666, 0.375, 0.5416666666666666, 0.4583333333333333, 0.7083333333333334, 0.8333333333333334, 0.16666666666666666, 0.7083333333333334, 0.8333333333333334, 0.6666666666666666, 0.08333333333333333, 0.125, 0.75, 0.375, 0.0, 0.7916666666666666, 0.4166666666666667, 0.25, 1.0, 0.5833333333333334, 0.5416666666666666, 0.16666666666666666, 0.08333333333333333, 0.4583333333333333, 0.75, 0.5, 0.5416666666666666, 0.08333333333333333, 0.75, 0.9583333333333334, 0.5833333333333334, 0.625, 0.9583333333333334, 0.7916666666666666, 0.5833333333333334, 0.8333333333333334, 0.5833333333333334, 0.9583333333333334, 0.75, 0.125, 0.7916666666666666, 0.4583333333333333, 0.5833333333333334, 0.0, 0.041666666666666664, 0.4583333333333333, 0.7916666666666666, 0.25, 0.16666666666666666, 0.0, 1.0, 0.20833333333333334, 0.3333333333333333, 0.375, 0.625, 0.7916666666666666, 0.875, 0.25, 0.5, 0.3333333333333333, 0.08333333333333333, 0.625, 0.6666666666666666, 0.5416666666666666, 0.9166666666666666, 0.5833333333333334, 1.0, 0.5, 0.25, 0.20833333333333334, 0.4166666666666667, 0.7083333333333334, 0.041666666666666664, 0.375, 0.20833333333333334, 0.375, 0.375, 0.5833333333333334, 0.5, 0.08333333333333333, 0.041666666666666664, 0.5833333333333334, 0.9583333333333334, 0.5, 0.16666666666666666, 0.25, 0.375, 0.5, 0.375, 0.3333333333333333, 0.4583333333333333, 0.8333333333333334, 0.4166666666666667, 0.2916666666666667, 0.75, 0.7083333333333334, 0.7916666666666666, 0.16666666666666666, 0.9583333333333334, 0.5416666666666666, 1.0, 0.9166666666666666, 0.5, 0.625, 0.5833333333333334, 0.4583333333333333, 0.5, 0.0, 0.125, 0.2916666666666667, 0.3333333333333333, 0.7916666666666666, 0.0, 0.20833333333333334, 1.0, 0.875, 0.75, 0.2916666666666667, 0.3333333333333333, 0.375, 0.5, 0.20833333333333334, 0.25, 0.7916666666666666, 0.5833333333333334, 0.375, 0.7083333333333334, 0.7083333333333334, 0.2916666666666667, 0.5833333333333334, 0.5833333333333334, 0.25, 0.9583333333333334, 0.08333333333333333, 0.4166666666666667, 0.7083333333333334, 0.3333333333333333, 0.3333333333333333, 0.041666666666666664, 0.3333333333333333, 0.8333333333333334, 0.2916666666666667, 0.9583333333333334, 0.8333333333333334, 0.0, 0.5833333333333334, 0.20833333333333334, 0.2916666666666667, 0.9166666666666666, 0.16666666666666666, 0.8333333333333334, 0.25, 0.08333333333333333, 0.5416666666666666, 0.8333333333333334, 0.9583333333333334, 0.9583333333333334, 0.7916666666666666, 0.4583333333333333, 0.4583333333333333, 0.9583333333333334, 0.16666666666666666, 0.7083333333333334, 0.75, 0.16666666666666666, 0.041666666666666664, 0.375, 0.7083333333333334, 0.08333333333333333, 0.041666666666666664, 0.625, 0.041666666666666664, 0.16666666666666666, 0.25, 0.2916666666666667, 0.9166666666666666, 0.5416666666666666, 0.3333333333333333, 0.3333333333333333, 0.9583333333333334, 1.0, 0.625, 0.75, 0.5416666666666666, 0.16666666666666666, 1.0, 1.0, 0.7083333333333334, 0.7916666666666666, 0.4166666666666667, 0.6666666666666666, 0.0, 1.0, 0.20833333333333334, 0.9166666666666666, 0.6666666666666666, 0.625, 0.08333333333333333, 0.08333333333333333, 0.625, 0.9583333333333334, 0.8333333333333334, 0.16666666666666666, 0.4166666666666667, 0.875, 0.20833333333333334, 0.75, 0.75, 0.25, 0.375, 0.375, 0.7916666666666666, 0.375, 0.4166666666666667, 0.6666666666666666, 0.5416666666666666, 0.9166666666666666, 0.625, 0.20833333333333334, 0.0, 0.125, 0.9166666666666666, 0.5833333333333334, 0.9583333333333334, 0.5416666666666666, 0.7083333333333334, 0.3333333333333333, 0.20833333333333334, 0.0, 1.0, 0.5416666666666666, 0.041666666666666664, 0.5833333333333334, 0.041666666666666664, 0.20833333333333334, 0.0, 0.7916666666666666, 0.8333333333333334, 0.0, 0.6666666666666666, 0.25, 0.8333333333333334, 0.7083333333333334, 0.2916666666666667, 1.0, 0.3333333333333333, 0.6666666666666666, 0.20833333333333334, 0.041666666666666664, 0.5, 0.5, 0.5, 0.75, 0.20833333333333334, 0.7916666666666666, 0.2916666666666667, 0.7916666666666666, 0.5833333333333334, 0.3333333333333333, 0.875, 0.875, 0.4166666666666667, 0.3333333333333333, 0.2916666666666667, 0.25, 0.08333333333333333, 0.20833333333333334, 0.5416666666666666, 0.6666666666666666, 0.5833333333333334, 0.5, 0.20833333333333334, 0.9166666666666666, 0.4583333333333333, 0.125, 0.9166666666666666, 0.625, 0.16666666666666666, 1.0, 0.625, 0.75, 0.625, 0.5, 0.625, 0.7083333333333334, 0.75, 0.625, 0.3333333333333333, 0.08333333333333333, 0.8333333333333334, 0.4583333333333333, 0.2916666666666667, 0.125, 0.25, 0.20833333333333334, 0.4583333333333333, 0.25, 0.625, 0.4583333333333333, 0.5, 0.20833333333333334, 0.16666666666666666, 0.7916666666666666, 0.75, 0.7083333333333334, 0.9583333333333334, 0.041666666666666664, 0.125, 0.375, 0.7083333333333334, 0.2916666666666667, 0.20833333333333334, 0.5416666666666666, 0.375, 0.041666666666666664, 0.25, 0.7916666666666666, 0.9583333333333334, 0.5416666666666666, 0.08333333333333333, 0.625, 0.375, 0.4583333333333333, 0.3333333333333333, 0.625, 0.16666666666666666, 0.625, 0.5416666666666666, 0.8333333333333334, 0.08333333333333333, 0.5416666666666666, 0.9166666666666666, 0.9583333333333334, 0.625, 0.7083333333333334, 0.5, 0.9166666666666666, 0.4166666666666667, 0.5416666666666666, 0.7916666666666666, 0.7916666666666666, 0.7916666666666666, 0.5416666666666666, 0.9166666666666666, 0.375, 0.20833333333333334, 0.7916666666666666, 0.4583333333333333, 0.16666666666666666, 0.4166666666666667, 0.4583333333333333, 0.125, 0.08333333333333333, 0.041666666666666664, 0.4583333333333333, 1.0, 0.375, 1.0, 0.625, 1.0, 0.875, 0.2916666666666667, 0.9166666666666666, 0.16666666666666666, 0.08333333333333333, 0.3333333333333333, 0.6666666666666666, 0.75, 0.8333333333333334, 0.625, 0.08333333333333333, 0.625, 0.125, 0.08333333333333333, 0.5, 0.5833333333333334, 0.08333333333333333, 0.625, 0.5, 0.625, 0.9166666666666666, 0.7083333333333334, 0.0, 0.6666666666666666, 0.3333333333333333, 0.25, 0.625, 0.8333333333333334, 0.5416666666666666, 0.4166666666666667, 0.041666666666666664, 0.5, 0.75, 0.08333333333333333, 0.7916666666666666, 0.6666666666666666, 0.5416666666666666, 1.0, 0.041666666666666664, 0.5833333333333334, 0.20833333333333334, 0.4166666666666667, 0.4166666666666667, 0.5833333333333334, 0.7916666666666666, 0.20833333333333334, 0.625, 0.625, 0.6666666666666666, 0.2916666666666667, 0.041666666666666664, 0.9583333333333334, 0.625, 0.4166666666666667, 0.75, 0.7916666666666666, 0.375, 0.4166666666666667, 0.9583333333333334, 0.7916666666666666, 0.041666666666666664, 0.041666666666666664, 0.16666666666666666, 0.8333333333333334, 0.4583333333333333, 0.75, 0.7083333333333334, 0.9166666666666666, 0.75, 0.25, 0.4583333333333333, 0.4166666666666667, 0.9166666666666666, 0.3333333333333333, 0.5416666666666666, 0.4166666666666667, 0.3333333333333333, 0.625, 0.875, 0.16666666666666666, 0.4166666666666667, 0.20833333333333334, 0.7083333333333334, 0.6666666666666666, 0.5, 0.7916666666666666, 0.4583333333333333, 0.75, 0.0, 0.6666666666666666, 0.7916666666666666, 0.4166666666666667, 0.625, 0.4166666666666667, 0.20833333333333334, 0.16666666666666666, 0.16666666666666666, 0.75, 0.6666666666666666, 0.75, 0.7916666666666666, 0.4166666666666667, 0.7083333333333334, 1.0, 0.5833333333333334, 0.5416666666666666, 0.3333333333333333, 0.5833333333333334, 0.3333333333333333, 0.0, 0.0, 0.041666666666666664, 0.7083333333333334, 0.041666666666666664, 0.9166666666666666, 0.9166666666666666, 0.2916666666666667, 0.16666666666666666, 1.0, 0.9166666666666666, 0.25, 0.9166666666666666, 0.4583333333333333, 0.20833333333333334, 0.20833333333333334, 0.9166666666666666, 0.08333333333333333, 0.75, 0.875, 0.16666666666666666, 0.7083333333333334, 0.0, 0.875, 0.125, 0.2916666666666667, 0.6666666666666666, 0.9166666666666666, 0.75, 0.16666666666666666, 0.5833333333333334, 0.875, 1.0, 0.4583333333333333, 0.08333333333333333, 0.08333333333333333, 0.125, 0.4583333333333333, 0.0, 0.25, 0.0, 0.3333333333333333, 0.4583333333333333, 0.125, 0.4166666666666667, 0.5, 0.16666666666666666, 0.5416666666666666, 0.4166666666666667, 0.4166666666666667, 0.25, 0.7083333333333334, 0.75, 0.75, 0.625, 0.16666666666666666, 0.4583333333333333, 0.9166666666666666, 0.5833333333333334, 0.375, 0.375, 0.9583333333333334, 0.9583333333333334, 0.8333333333333334, 0.6666666666666666, 0.2916666666666667, 0.7916666666666666, 0.3333333333333333, 0.9166666666666666, 0.4166666666666667, 0.5833333333333334, 0.8333333333333334, 0.8333333333333334, 0.5833333333333334, 0.7083333333333334, 0.8333333333333334, 0.041666666666666664, 0.6666666666666666, 0.2916666666666667, 0.375, 0.7916666666666666, 0.5833333333333334, 0.2916666666666667, 0.625, 0.375, 0.875, 0.75, 0.25, 0.7083333333333334, 0.7083333333333334, 0.5416666666666666, 0.08333333333333333, 0.7916666666666666, 0.25, 0.6666666666666666, 0.5, 0.9166666666666666, 0.25, 0.9166666666666666, 0.125, 0.25, 0.75, 0.2916666666666667, 0.0, 0.7083333333333334, 0.9166666666666666, 0.875, 0.041666666666666664, 0.9166666666666666, 0.4583333333333333, 0.75, 0.0, 0.2916666666666667, 0.20833333333333334, 0.8333333333333334, 0.5416666666666666, 1.0, 0.5833333333333334, 0.041666666666666664, 0.375, 0.75, 0.25, 0.08333333333333333, 0.25, 0.0, 0.5, 0.08333333333333333, 0.7083333333333334, 1.0, 0.16666666666666666, 0.625, 0.9583333333333334, 0.6666666666666666, 0.9583333333333334, 0.5416666666666666, 0.125, 0.375, 0.5833333333333334, 0.5416666666666666, 0.375, 0.375, 0.7916666666666666, 0.4166666666666667, 0.0, 0.3333333333333333, 0.375, 0.5416666666666666, 0.3333333333333333, 0.16666666666666666, 0.5, 0.08333333333333333, 0.25, 0.2916666666666667, 0.2916666666666667, 0.20833333333333334, 0.0, 0.20833333333333334, 0.625, 1.0, 0.4166666666666667, 0.5416666666666666, 0.16666666666666666, 0.5, 0.4166666666666667, 0.125, 0.5, 0.7083333333333334, 0.5, 0.875, 0.125, 0.4583333333333333, 0.5833333333333334, 0.6666666666666666, 0.16666666666666666, 0.25, 0.7083333333333334, 0.4166666666666667, 0.4166666666666667, 0.7916666666666666, 0.08333333333333333, 0.8333333333333334, 0.625, 0.8333333333333334, 0.041666666666666664, 0.7916666666666666, 0.5416666666666666, 0.625, 0.6666666666666666, 0.75, 0.7083333333333334, 0.20833333333333334, 0.625, 0.6666666666666666, 0.75, 0.08333333333333333, 0.08333333333333333, 0.041666666666666664, 0.625, 0.041666666666666664, 0.08333333333333333, 0.0, 0.2916666666666667, 0.6666666666666666, 0.625, 0.16666666666666666, 0.7916666666666666, 0.875, 0.9166666666666666, 0.5416666666666666, 0.5833333333333334, 0.9583333333333334, 0.08333333333333333, 0.8333333333333334, 0.5416666666666666, 0.4583333333333333, 0.2916666666666667, 0.9166666666666666, 0.2916666666666667, 0.16666666666666666, 0.5833333333333334, 0.8333333333333334, 0.625, 0.4166666666666667, 0.125, 0.9166666666666666, 0.875, 1.0, 0.625, 1.0, 0.9583333333333334, 0.7916666666666666, 0.5, 0.20833333333333334, 0.16666666666666666, 0.4583333333333333, 0.75, 0.08333333333333333, 0.2916666666666667, 0.16666666666666666, 0.125, 0.7083333333333334, 0.08333333333333333, 0.5833333333333334, 0.75, 0.4166666666666667, 0.5833333333333334, 0.5416666666666666, 0.041666666666666664, 0.5833333333333334, 0.75, 0.16666666666666666, 0.0, 0.2916666666666667, 0.20833333333333334, 0.16666666666666666, 0.4166666666666667, 0.875, 0.4583333333333333, 0.625, 0.4583333333333333, 0.75, 0.625, 0.2916666666666667, 0.7083333333333334, 1.0, 0.125, 0.20833333333333334, 0.7916666666666666, 0.16666666666666666, 0.5416666666666666, 0.625, 0.75, 0.20833333333333334, 0.5, 0.4166666666666667, 0.3333333333333333, 0.375, 0.625, 0.375, 0.25, 0.5833333333333334, 0.125, 0.625, 0.4583333333333333, 0.20833333333333334, 0.4583333333333333, 0.125, 0.8333333333333334, 0.4583333333333333, 0.0, 0.9583333333333334, 0.7083333333333334, 0.9583333333333334, 0.125, 0.5, 1.0, 0.4166666666666667, 0.875, 0.7083333333333334, 0.8333333333333334, 0.4583333333333333, 0.25, 0.8333333333333334, 0.375, 0.041666666666666664, 0.9166666666666666, 0.2916666666666667, 0.2916666666666667, 0.3333333333333333, 0.7083333333333334, 0.7083333333333334, 0.6666666666666666, 0.4166666666666667, 0.9583333333333334, 0.7916666666666666, 0.5416666666666666, 0.8333333333333334, 0.125, 0.0, 0.25, 0.625, 0.5416666666666666, 0.2916666666666667, 0.041666666666666664, 0.5416666666666666, 0.5416666666666666, 0.375, 0.5416666666666666, 0.20833333333333334, 0.5, 0.08333333333333333, 0.75, 0.75, 0.875, 0.4166666666666667, 0.4166666666666667, 0.8333333333333334, 0.3333333333333333, 0.5, 0.5, 0.3333333333333333, 0.5, 0.75, 0.4583333333333333, 0.7083333333333334, 0.7083333333333334, 0.4583333333333333, 0.375, 0.5, 0.7083333333333334, 0.3333333333333333, 0.4583333333333333, 0.5416666666666666, 0.625, 0.20833333333333334, 0.7916666666666666, 0.4583333333333333, 0.20833333333333334, 0.7916666666666666, 0.7083333333333334, 0.16666666666666666, 0.4166666666666667, 0.08333333333333333, 0.5, 0.5416666666666666, 0.375, 0.16666666666666666, 0.5833333333333334, 0.6666666666666666, 0.5416666666666666, 0.875, 0.08333333333333333, 0.3333333333333333, 0.9583333333333334, 0.5833333333333334, 0.5833333333333334, 0.125, 0.75, 0.5416666666666666, 0.4583333333333333, 0.125, 0.9166666666666666, 0.6666666666666666, 0.3333333333333333, 0.5833333333333334, 0.9583333333333334, 0.5, 0.75, 1.0, 0.9166666666666666, 0.7916666666666666, 0.4583333333333333, 0.8333333333333334, 0.16666666666666666, 0.875, 0.9166666666666666, 1.0, 0.625, 0.20833333333333334, 0.8333333333333334, 0.0, 0.5, 0.125, 0.375, 0.125, 0.6666666666666666, 0.125, 0.625, 0.25, 0.041666666666666664, 0.041666666666666664, 0.75, 0.8333333333333334, 0.0, 0.6666666666666666, 0.4166666666666667, 0.16666666666666666, 0.16666666666666666, 0.7083333333333334, 0.125, 1.0, 0.4583333333333333, 0.4166666666666667, 0.7916666666666666, 0.9166666666666666, 0.041666666666666664, 0.9583333333333334, 0.20833333333333334, 0.6666666666666666, 0.8333333333333334, 0.625, 0.5, 0.041666666666666664, 0.0, 0.375, 0.875, 0.16666666666666666, 0.7916666666666666, 0.5833333333333334, 0.7083333333333334, 0.4583333333333333, 0.20833333333333334, 0.5833333333333334, 0.7083333333333334, 0.375, 0.375, 0.375, 0.75, 0.041666666666666664, 0.9166666666666666, 0.7083333333333334, 0.4166666666666667, 0.8333333333333334, 0.2916666666666667, 0.3333333333333333, 1.0, 0.20833333333333334, 0.875, 0.2916666666666667, 0.9166666666666666, 0.375, 0.625, 0.3333333333333333, 0.08333333333333333, 0.9583333333333334, 0.25, 0.3333333333333333, 0.8333333333333334, 0.041666666666666664, 0.25, 1.0, 0.9166666666666666, 0.375, 0.4166666666666667, 0.7083333333333334, 0.5833333333333334, 0.625, 0.4583333333333333, 0.041666666666666664, 0.7916666666666666, 1.0, 0.125, 0.6666666666666666, 0.08333333333333333, 0.75, 0.9166666666666666, 0.9583333333333334, 0.5833333333333334, 0.9166666666666666, 0.4583333333333333, 0.9583333333333334, 0.125, 0.041666666666666664, 0.8333333333333334, 0.875, 0.5, 0.08333333333333333, 0.16666666666666666, 0.5, 1.0, 0.9166666666666666, 0.75, 0.9166666666666666, 0.5, 1.0, 0.20833333333333334, 0.5, 0.25, 0.375, 0.25, 0.4583333333333333, 0.4166666666666667, 0.875, 0.4166666666666667, 0.6666666666666666, 0.7916666666666666, 0.0, 0.08333333333333333, 0.08333333333333333, 1.0, 0.4583333333333333, 0.6666666666666666, 0.4166666666666667, 1.0, 0.875, 0.08333333333333333, 0.2916666666666667, 0.5416666666666666, 0.375, 0.875, 0.4583333333333333, 0.375, 0.25, 0.5, 0.9583333333333334, 0.75, 0.375, 0.7916666666666666, 0.25, 0.5416666666666666, 0.8333333333333334, 0.4583333333333333, 0.2916666666666667, 0.9166666666666666, 0.3333333333333333, 0.16666666666666666, 0.4166666666666667, 0.5833333333333334, 0.20833333333333334, 0.4583333333333333, 0.5833333333333334, 0.7083333333333334, 0.5833333333333334, 0.5416666666666666, 0.875, 0.7916666666666666, 0.4583333333333333, 0.7916666666666666, 0.5833333333333334, 0.375, 0.5, 0.5416666666666666, 0.9166666666666666, 0.0, 0.2916666666666667, 0.9583333333333334, 0.3333333333333333, 0.16666666666666666, 0.9583333333333334, 0.041666666666666664, 0.5, 0.5416666666666666, 1.0, 0.20833333333333334, 0.625, 0.4583333333333333, 0.7083333333333334, 0.125, 0.4166666666666667, 0.5833333333333334, 0.125, 1.0, 0.875, 0.4166666666666667, 0.2916666666666667, 0.9166666666666666, 0.041666666666666664, 0.6666666666666666, 0.625, 0.5416666666666666, 0.875, 0.6666666666666666, 0.75, 0.3333333333333333, 0.875, 0.9583333333333334, 0.25, 0.5833333333333334, 0.25, 0.4583333333333333, 0.16666666666666666, 0.5416666666666666, 0.25, 0.5833333333333334, 0.0, 0.75, 0.75, 0.7916666666666666, 0.75, 0.2916666666666667, 0.5416666666666666, 0.7083333333333334, 0.875, 0.20833333333333334, 0.9166666666666666, 0.8333333333333334, 0.7083333333333334, 0.4583333333333333, 0.16666666666666666, 0.041666666666666664, 0.5, 0.625, 0.625, 0.8333333333333334, 0.625, 0.625, 0.7083333333333334, 0.7083333333333334, 0.5416666666666666, 0.4583333333333333, 0.625, 0.6666666666666666, 0.8333333333333334, 0.9583333333333334, 0.041666666666666664, 0.75, 0.6666666666666666, 0.9166666666666666, 0.25, 0.7916666666666666, 0.5416666666666666, 0.75, 0.16666666666666666, 0.25, 0.375, 0.20833333333333334, 1.0, 0.5833333333333334, 0.25, 0.3333333333333333, 0.5416666666666666, 0.625, 0.7083333333333334, 0.5833333333333334, 0.7916666666666666, 0.041666666666666664, 0.7083333333333334, 0.041666666666666664, 0.0, 0.0, 0.7916666666666666, 0.2916666666666667, 0.5, 0.875, 0.20833333333333334, 0.0, 0.5, 0.9583333333333334, 0.041666666666666664, 0.625, 0.2916666666666667, 0.625, 0.16666666666666666, 0.625, 0.5833333333333334, 0.7083333333333334, 0.625, 0.7083333333333334, 0.9583333333333334, 0.16666666666666666, 0.2916666666666667, 0.75, 0.625, 0.9583333333333334, 0.041666666666666664, 0.8333333333333334, 0.6666666666666666, 0.2916666666666667, 1.0, 0.9166666666666666, 0.16666666666666666, 0.08333333333333333, 0.0, 0.375, 0.7083333333333334, 0.375, 0.0, 0.6666666666666666, 0.08333333333333333, 0.3333333333333333, 1.0, 0.6666666666666666, 0.6666666666666666, 0.625, 0.25, 0.875, 0.125, 0.041666666666666664, 0.5416666666666666, 0.4583333333333333, 0.2916666666666667, 0.6666666666666666, 0.6666666666666666, 0.0, 0.08333333333333333, 0.5416666666666666, 0.5833333333333334, 0.041666666666666664, 0.875, 0.4583333333333333, 0.4166666666666667, 0.75, 0.8333333333333334, 0.375, 0.20833333333333334, 0.041666666666666664, 0.625, 0.625, 0.041666666666666664, 0.041666666666666664, 0.0, 0.5833333333333334, 0.6666666666666666, 1.0, 0.4166666666666667, 0.2916666666666667, 0.125, 0.5, 0.5833333333333334, 0.08333333333333333, 0.5, 0.6666666666666666, 1.0, 0.4166666666666667, 0.875, 0.5416666666666666, 0.08333333333333333, 0.041666666666666664, 0.7083333333333334, 0.9166666666666666, 0.875, 0.041666666666666664, 0.0, 0.9166666666666666, 0.5833333333333334, 0.7916666666666666, 0.08333333333333333, 0.875, 0.9166666666666666, 0.3333333333333333, 0.08333333333333333, 0.125, 0.125, 0.5, 0.08333333333333333, 0.16666666666666666, 0.5, 0.041666666666666664, 0.041666666666666664, 0.5, 0.7083333333333334, 0.625, 0.125, 0.0, 0.375, 0.4583333333333333, 0.875, 0.4166666666666667, 0.4166666666666667, 0.25, 0.625, 0.8333333333333334, 0.041666666666666664, 0.4583333333333333, 0.5416666666666666, 0.20833333333333334, 0.5, 0.9583333333333334, 0.4583333333333333, 0.9583333333333334, 0.16666666666666666, 0.5416666666666666, 0.2916666666666667, 0.16666666666666666, 0.9166666666666666, 0.5416666666666666, 0.7916666666666666, 0.4583333333333333, 0.9583333333333334, 0.8333333333333334, 0.375, 0.75, 0.08333333333333333, 0.3333333333333333, 0.9166666666666666, 0.125, 0.25, 0.0, 0.041666666666666664, 0.5, 0.041666666666666664, 0.875, 0.4583333333333333, 0.375, 0.2916666666666667, 1.0, 0.75, 0.5833333333333334, 1.0, 0.6666666666666666, 0.4166666666666667, 0.4583333333333333, 0.20833333333333334, 0.0, 0.7916666666666666, 0.7916666666666666, 0.0, 0.125, 0.25, 1.0, 0.9166666666666666, 0.625, 0.6666666666666666, 0.4166666666666667, 0.4166666666666667, 0.875, 0.3333333333333333, 0.9166666666666666, 0.0, 0.20833333333333334, 0.7916666666666666, 0.2916666666666667, 0.75, 1.0, 0.08333333333333333, 0.7916666666666666, 0.7083333333333334, 0.6666666666666666, 0.20833333333333334, 1.0, 0.75, 0.75, 0.6666666666666666, 0.5416666666666666, 0.75, 0.625, 0.375, 0.9583333333333334, 0.4166666666666667, 0.0, 0.0, 0.5, 0.4166666666666667, 0.7916666666666666, 0.5416666666666666, 0.4166666666666667, 0.25, 0.2916666666666667, 0.5416666666666666, 0.9166666666666666, 0.0, 0.5833333333333334, 0.5, 0.4583333333333333, 0.041666666666666664, 0.6666666666666666, 0.20833333333333334, 1.0, 0.5833333333333334, 0.875, 1.0, 0.625, 0.7916666666666666, 0.625, 0.25, 0.2916666666666667, 0.2916666666666667, 0.875, 0.625, 0.2916666666666667, 0.041666666666666664, 0.5416666666666666, 0.7916666666666666, 0.5416666666666666, 0.8333333333333334, 0.7916666666666666, 0.125, 0.20833333333333334, 0.5, 0.7083333333333334, 0.08333333333333333, 0.08333333333333333, 0.8333333333333334, 0.625, 0.3333333333333333, 0.4583333333333333, 0.08333333333333333, 0.625, 0.08333333333333333, 0.20833333333333334, 0.5, 0.5833333333333334, 0.9583333333333334, 0.2916666666666667, 0.08333333333333333, 0.375, 0.08333333333333333, 0.25, 0.2916666666666667, 0.4166666666666667, 0.8333333333333334, 0.9166666666666666, 0.9583333333333334, 0.5833333333333334, 0.041666666666666664, 0.375, 0.3333333333333333, 0.6666666666666666, 0.75, 0.5833333333333334, 0.7083333333333334, 0.875, 0.08333333333333333, 0.08333333333333333, 0.875, 0.125, 0.6666666666666666, 0.3333333333333333, 0.6666666666666666, 0.125, 1.0, 0.041666666666666664, 0.3333333333333333, 0.7916666666666666, 0.875, 0.20833333333333334, 0.5416666666666666, 0.5, 0.375, 0.125, 0.4583333333333333, 1.0, 0.7083333333333334, 0.375, 0.3333333333333333, 0.125, 0.8333333333333334, 0.4583333333333333, 0.5416666666666666, 0.9166666666666666, 0.625, 0.16666666666666666, 0.3333333333333333, 0.625, 0.9583333333333334, 0.125, 0.75, 0.125, 0.5833333333333334, 0.08333333333333333, 0.5, 0.2916666666666667, 0.08333333333333333, 0.5416666666666666, 0.9583333333333334, 0.20833333333333334, 0.08333333333333333, 0.4583333333333333, 0.0, 0.9583333333333334, 0.5416666666666666, 0.2916666666666667, 0.7916666666666666, 0.0, 0.6666666666666666, 0.4583333333333333, 0.7083333333333334, 0.08333333333333333, 0.25, 0.20833333333333334, 0.5833333333333334, 0.3333333333333333, 0.20833333333333334, 0.125, 0.16666666666666666, 0.375, 0.041666666666666664, 0.625, 0.875, 0.5416666666666666, 0.08333333333333333, 0.9166666666666666, 0.5, 0.16666666666666666, 0.041666666666666664, 0.16666666666666666, 1.0, 0.5416666666666666, 0.3333333333333333, 0.6666666666666666, 0.08333333333333333, 0.4166666666666667, 0.375, 0.4166666666666667, 0.875, 0.6666666666666666, 0.041666666666666664, 0.8333333333333334, 1.0, 0.2916666666666667, 0.125, 0.4166666666666667, 0.9166666666666666, 0.4166666666666667, 0.5, 0.5416666666666666, 0.9166666666666666, 0.875, 0.25, 0.2916666666666667, 0.7916666666666666, 0.16666666666666666, 0.625, 0.7083333333333334, 0.875, 0.3333333333333333, 0.875, 0.375, 0.2916666666666667, 0.20833333333333334, 0.3333333333333333, 0.0]\n",
            "[0.056688547, 0.05088505, 0.18730503, -0.022764564, 0.33106458, 0.25472215, 0.062185615, 0.12735781, 0.033443242, 0.43807518, 0.013545215, 0.28764537, 0.35912198, -0.0014359355, 0.22491793, 0.43343505, 0.30492723, 0.055793643, 0.66254973, 0.25571823, 0.0083376765, 0.2991042, 0.26864114, 0.14274268, 0.351481, 0.110037535, 0.08807039, 0.14833622, 0.19486672, 0.25625432, 0.02063775, 0.072086096, 0.012871683, 0.03949505, 0.28955603, 0.101399034, 0.012435347, 0.14857386, 0.45285955, -0.029553771, 0.035468757, -0.0022678375, 0.024604142, -0.0031186938, 0.09325093, 0.00974381, -0.009996504, 0.04429239, 0.2872085, 0.02082938, 0.7513498, 0.0053765476, 0.22372425, 0.010397583, 0.018831998, 0.27219227, 0.26752183, 0.41243213, 0.105532944, 0.59750074, -0.026688784, 0.16286673, 0.021881312, 0.09503204, 0.20071298, 0.067138225, 0.4180726, 0.48699003, -0.013987988, 0.15189609, 0.021268249, 0.30337054, 0.45539087, 0.2753781, 0.3579809, 0.3300181, 0.077789694, 0.027867764, 0.19746137, 0.25068167, 0.36913463, 0.42897084, 0.060738534, 0.19424304, 0.027098536, 0.27716473, -0.00513345, 0.2908381, 0.21521026, 0.012043238, 0.21703443, 0.07916361, 0.04217881, 0.24763334, 0.30337054, 0.02460426, -0.016032904, 0.3065073, 0.4980368, 0.25625432, 0.04056436, 0.31406993, 0.13343558, 0.028940082, 0.04429242, 0.2651414, 0.056688547, 0.04196635, 0.11742219, 0.056341976, -0.017341107, 0.17160021, 0.007961899, 0.024363488, 0.66320735, -0.015032947, 0.0034382641, 0.04217881, 0.28367496, 0.09376559, 0.35872048, 0.062185556, 0.20759246, 0.033443242, 0.00036481023, 0.17241794, 0.30285618, 0.21075828, 0.027098536, 0.08614215, 0.08765718, 0.14743614, 0.012270093, 0.18324329, 0.2642742, 0.079067916, 0.017870158, 0.009895831, -0.0009217262, 0.21173733, 0.28918907, -0.026688784, -0.008000135, -0.029553771, -0.00070261955, 0.16286673, 0.66440374, 0.25294885, 0.1125367, 0.06597307, 0.31205878, 0.27219227, 0.45285955, 0.7540543, 0.055793643, 0.14906408, -0.019655734, 0.25571823, 0.014186978, 0.006365955, 0.2740958, 0.21320672, 0.2991042, 0.035131693, 0.23013917, 0.010397583, 0.24790195, 0.11453095, 0.24591246, 0.035088986, 0.24763334, -0.016785473, 0.51868093, 0.128993, -0.015745312, 0.30567336, 0.26635104, 0.056541175, 0.24822149, 0.25402915, 0.09006643, 0.27716473, 0.12735781, 0.086707085, 0.022752196, -0.023029655, 0.12319364, 0.28764537, 0.41892773, 0.27236393, 0.0422917, 0.46786854, 0.25948524, 0.079067856, -0.002924353, 0.2740958, 0.3756735, 0.024301678, -0.021128505, 0.2651413, 0.22885674, 0.4036905, 0.7124405, 0.26635104, 0.006679386, -0.0057201385, 0.21075828, 0.20118767, 0.23917302, 0.66254973, 0.03949505, 0.24790189, 0.024604142, 0.007961899, 0.0317975, 0.17241788, 0.43604514, 0.13951768, 0.31056565, 0.026572436, 0.25433296, 0.4843169, 0.26638716, -0.028914928, 0.021881402, 0.060738534, 0.27952355, 0.08807039, 0.105532944, 0.23013917, -0.0022678971, 0.27439326, 0.044484794, 0.40147528, 0.21128426, 0.14071538, -0.016032904, 0.20210268, 0.4705867, 0.22491793, 0.014985263, -0.023029655, -0.022764564, 0.00872615, 0.125105, 0.106681675, -0.015762508, 0.24763338, -0.019649118, 0.035131693, 0.35313392, 0.06597307, 0.5781466, 0.19746123, 0.076444805, 0.35148102, 0.08380744, 0.10132615, 0.015951723, 0.077789694, 0.18324329, 0.43670782, -0.017210692, 0.11453095, 0.25625432, 0.3859427, 0.2991042, 0.49739328, 0.38104627, 0.018832058, 0.20163296, 0.11595468, 0.09341937, 0.09006643, 0.092181504, 0.26515612, -0.021230966, 0.055793643, 0.06676766, 0.09379125, -0.007767737, 0.035232067, 0.37520945, 0.18325998, 0.3876208, -0.017210662, 0.2876454, 0.3591225, 0.21703443, 0.45285955, 0.02082938, 0.041636497, 0.021268189, 0.0027939081, 0.2771646, 0.042471915, 0.2370497, 0.28201678, -0.026688784, 0.30285633, 0.19170247, 0.0032382905, 0.072086096, 0.30412844, -0.0015126169, 0.2651414, 0.21320672, 0.4422201, 0.24225056, -0.011035293, 0.09645316, 0.26515597, 0.38104627, 0.23917302, -0.002634883, 0.04229167, 0.15701433, 0.15746717, 0.09503204, 0.2895561, 0.26427403, 0.24898654, 0.14743614, 0.22570312, 0.27219242, 0.011017084, 0.43807524, 0.012361318, 0.3300181, 0.2753781, 0.26635104, -0.007493943, 0.26452437, 0.092181504, 0.25948524, 0.3487514, 0.0034382641, -0.0041790307, 0.056341976, 0.6324671, 0.24591246, 0.25571823, 0.2398026, 0.19404528, 0.07005346, 0.077789694, 0.32330292, 0.351481, 0.010237783, 0.4036905, 0.31056568, 0.14833626, 0.02896583, 0.2686411, 0.0071356893, 0.0034686923, 0.085184366, 0.36913463, 0.34676477, 0.02063775, 0.08765718, 0.029934466, 0.23013917, 0.013086289, 0.26116455, 0.33106458, 0.27835178, 0.24878675, 0.28356573, 0.024363488, 0.04921195, 0.10132615, 0.06711614, 0.21128426, 0.30993155, 0.006679237, 0.23057655, 0.08691275, 0.24878684, 0.072086066, 0.31621057, 0.25571823, 0.055793613, 0.092181414, 0.59750074, 0.3065073, 0.32330292, 0.32855242, 0.06899515, -0.026362985, 0.27537805, -0.008000135, 0.021975547, 0.05887863, 0.09628633, -0.015745342, 0.351481, 0.08807039, 0.12108986, -0.003118664, 0.27236393, -0.017341048, 0.3654397, -0.022606164, 0.0964531, -0.015032947, 0.1055329, 0.076444805, 0.18866555, 0.010237783, 0.42897084, 0.021881402, 0.04217881, 0.06793907, 0.24591243, -0.011027366, -0.025126725, 0.6561043, 0.21173733, -0.0015126169, 0.25558552, 0.06711614, 0.28720838, -0.00070267916, 0.26272693, 0.1969365, 0.14274256, 0.19228917, 0.02896583, 0.08216396, 0.27219227, 0.10608901, 0.15189609, 0.13951768, 0.26452437, 0.085184366, 0.0027939081, 0.43343508, 0.66320753, 0.28918877, 0.013545215, 0.027098536, -0.009142011, 0.35313392, 0.74073076, 0.26515612, 0.38594276, 0.008337617, 0.20511279, 0.26638696, -0.027332515, 0.43746358, 0.3041284, 0.04921195, 0.3617561, 0.23686361, 0.27099973, -0.021128625, 0.3300181, 0.37520945, 0.024301678, 0.019627333, 0.0034441352, 0.7253203, 0.03949505, 0.006365955, 0.19404523, 0.7472756, 0.24202022, -0.027357638, 0.25068167, 0.10665454, 0.45539087, -0.03524679, 0.24763334, 0.060738534, 0.45861194, -0.0051335394, 0.8002178, 1.2397766e-05, -0.014006078, 0.39665204, -0.009996384, 0.26800162, 0.026572436, 0.41243213, 0.03031382, 0.07281801, -0.00554353, 0.20837688, 0.25652987, 0.25330034, 0.055657804, 0.019627333, -0.002634883, 0.11003755, 0.24822149, 0.66440374, 0.30844584, 0.21075827, 0.34932148, -0.017210662, 0.15189584, 0.24898642, 0.22491792, 0.27999866, 0.43670782, 0.31406993, 0.2753781, 0.21808985, 0.20496503, 0.20511276, 0.04217881, 0.019354403, 0.24225056, 0.059374094, 0.25402915, 0.35313392, 0.28181562, 0.09377268, 0.076444715, 0.09628633, 0.021995753, 0.1159547, 0.018102199, 0.26427403, -0.022764564, 0.2627848, 0.09325093, 0.06833503, -0.037147075, 0.3859427, 0.24202022, 0.24353826, 0.13343558, 0.012871832, 0.05088505, 0.071035534, 0.25558552, 0.28367501, 0.006679386, 0.060856402, 0.2908381, 0.30807263, 0.14743614, 0.07298043, -0.021477371, 0.28356573, 0.036380768, 0.1969365, 0.4283849, 0.06899518, 0.0994387, 0.010237783, 0.37719506, 0.74004567, 0.28918907, 0.035131693, -0.026363045, 0.056688488, 0.32330292, 0.58022225, 0.18324329, -0.016785473, 0.055793643, 0.011630803, -0.027332425, -0.003118664, 0.114531055, 0.23917302, -0.008648515, 0.32330292, 0.43343508, 0.0071356893, 0.061337024, 0.24243794, 0.7513498, 0.012043238, 0.05894491, 0.09341937, 0.0027939081, -0.005928904, 0.34684318, 0.041636556, -0.037147075, 0.30832708, -0.0075435042, 0.5385363, 0.02063784, 0.04056436, 0.24822144, -0.026363045, 0.23013917, 0.02896583, 0.110037535, 0.3859427, 0.00974381, -0.0003784895, 0.009501785, 0.24202022, 0.031620085, 0.2368637, 0.09377268, -0.0014359355, 0.00872615, 0.7253203, 0.0588786, 0.2547222, 0.14906408, 0.2991042, 0.14071538, 0.006365955, 0.101399034, 0.035131693, 0.041966468, 0.7154689, -0.002598524, 0.43670782, -0.014006078, 0.48147786, 0.17713228, -0.03524679, 0.59764045, 0.24591243, 0.33253255, 0.04217881, -0.007767737, 0.020057917, 0.3300181, 0.09503204, 0.101896286, 0.16739579, -0.033555686, 0.74073076, 0.035232067, 0.26638696, 0.31621057, 0.20511279, 0.21128419, -0.008827001, -0.013987988, -0.0009217262, 0.2753781, 0.12148136, -0.019649118, 0.027867764, 0.18305096, 0.019354314, 0.014985263, 0.25948524, 0.24790189, 0.06793907, 0.12735772, 0.13343546, 0.29815766, 0.532625, -0.021230966, 0.43575767, 0.056341976, 0.073803544, 0.2963865, 0.20759246, 0.34867546, 0.006950408, 0.25330034, 0.21320672, 0.03031382, 0.34684375, 0.114531055, 0.24878684, -0.037147045, 0.07119396, 0.3080376, 0.012270093, 0.23917302, 0.011630803, 0.2872085, 0.04196635, -0.0055435896, 0.08691275, 0.2743934, 0.41892773, 0.28764537, 0.05088505, 0.20118773, 0.28367501, 0.0034441352, 0.027867854, -0.014624298, 0.24898654, 0.092181504, 0.5326251, 0.2506815, 0.059374094, 0.14906402, -0.002598554, -0.0031186938, 0.351481, 0.024604142, 0.11671567, 0.24202022, 0.1125367, 0.42897105, -0.0009977818, 0.29614908, 0.2991042, 0.19404523, 0.4980368, 0.7253203, 0.13951768, 0.23013915, 0.1055329, 0.066827446, -0.008648515, 0.30844584, 0.04029116, 0.042471915, 0.14274256, 0.07103565, -0.011035234, 0.035232067, 0.04596719, 0.6222656, 0.25625432, 0.37520945, 0.19424304, 0.18305096, 0.7472757, 0.041636497, 0.010237783, 0.0461798, 0.74073076, 0.26116455, 0.046669126, 0.29346606, -0.017210692, -0.00070261955, -0.008820355, 0.029934466, 0.024363488, 0.3579809, 0.0032382905, 0.75134957, 0.2757411, 0.24353826, 0.106681675, 0.044634074, -0.002634883, 0.34932148, 0.30807263, 0.007007301, 0.2565299, 0.37719506, -0.013921052, 0.43670782, 0.05256012, 0.022752196, 0.2963865, 0.7471975, 0.41243213, 0.010282695, -0.010154247, 0.5326251, 0.44922048, 0.06110984, -0.026688784, 0.01695326, 0.02460426, 0.009895831, 0.3756735, -0.0009217262, 0.41892773, -0.027332515, 0.09996709, -0.03524676, 0.14071515, 0.13343546, 0.24205562, 0.1969365, -0.0014359355, 0.20392406, 0.021995753, 0.22570321, 0.2562544, 0.7124405, 0.021881402, 0.19486672, 0.11671567, 0.08691275, -0.017341048, 0.007961899, 0.25330043, 0.24898654, 0.22372425, 0.071193874, 0.24243793, 0.0014998615, -0.033555686, 0.04617983, -0.008820355, 0.23013917, 0.14906408, 0.24353826, 0.09371436, 0.093765795, 0.28356573, 0.6625496, 0.080853105, 0.19170247, 0.036559075, 0.21320672, 0.08216396, 0.121089935, 0.013086289, 0.055657804, 0.25606167, 0.06899515, -0.015745342, 0.02082938, 0.2198989, 0.14833622, 0.029934466, -0.00495404, 0.013545275, 0.21075827, 0.08765718, 0.36175618, 0.044634074, 0.19228917, 0.0034382641, 0.017870218, 0.06462601, 0.43604514, 0.2981076, 0.30285633, 0.00974381, 0.09325093, -0.014624298, 0.0317975, 0.22084296, -0.011093438, -0.028914899, -0.027357638, -0.0057201385, 0.35872048, 0.006950408, 0.2547222, 0.2757411, 0.66254973, -0.013921052, -0.00554353, -0.0009217262, 0.09341937, 0.036559075, 0.29346606, 0.068335086, 0.0027939081, 0.34932148, 0.27113217, 0.22084294, -0.015032947, 0.015273988, 0.4360451, 0.2645244, 0.7513498, 0.74004567, 0.13951768, 0.5976399, 0.22885674, 0.26515612, 0.012932092, 0.28691643, -0.010154247, 0.74719745, 0.31406993, 0.07298043, 0.3579809, 0.22372425, 0.09376559, 0.20118767, 0.36175618, -0.030202895, 0.16739585, 0.1125367, 0.0014998615, 0.24225056, -0.015762508, 0.15701433, -0.0014359355, -0.00337106, 0.00036481023, -0.017210662, 0.24898654, 0.110037535, -0.026688814, 0.30807263, -0.022606164, 0.2753781, 0.18730503, 0.11742219, 0.33106458, 0.43343508, 0.09379125, -0.002598554, 0.21320672, 0.25652987, 0.24079624, 0.018383294, 0.23057655, 0.15189609, 0.40147525, 0.046669036, 0.34676477, 0.035468757, -0.008648515, 0.006679386, 0.20210268, 0.0083376765, 0.066827685, 0.09503204, 0.4283848, 0.51868093, 0.3065073, 0.1969365, 0.3486754, 0.21703443, -0.03202963, 0.23013915, 0.01992783, 0.26299518, 0.024604142, 0.010237783, 0.26427403, 0.33253255, 0.18866554, 0.663596, 0.06899515, 0.007007271, 0.21075827, 0.4843169, 0.3434908, 0.04229167, -0.019655675, -0.033555627, -0.013987988, 0.32330292, 0.06711614, 0.04029116, 0.26752183, 0.07916361, 0.43746376, -0.0014358759, 0.41243213, 0.106654674, 0.2686411, 0.26452437, 0.27236393, 0.01992783, 0.09943865, 0.09527466, 0.014985263, 0.20392406, 0.06793907, 0.024301678, 0.006679386, 0.6324671, 0.029934406, -0.011035234, 0.02896583, 0.14833622, 0.0027939081, 0.010282695, 0.24822149, 0.28356573, -0.03381774, -0.017210692, 0.10132615, 0.23980278, 0.04217881, 0.35872048, 0.007961899, 0.060856402, -0.012112558, 0.012361318, 0.34875143, -0.016785473, -0.014624298, 0.018832058, 0.004342377, -0.00070261955, 0.24591243, 0.0058476925, 0.74004567, 0.041636497, 0.3579809, 0.51868093, 0.29346603, 0.033443242, 0.2611645, 0.28691643, 0.027098536, 0.18866555, 0.106681675, 0.021268189, 0.06597307, 0.24898654, 0.31056568, 1.2397766e-05, 0.125105, 0.2506815, 0.1125367, 0.18305099, 0.21128426, 0.044484794, 0.26800144, 0.35148102, 0.13343546, 0.0461798, 0.43670782, -0.00337106, 0.33106458, 0.20274991, 0.22084296, -0.005929053, 0.2991042, 0.21521026, 0.28181565, 0.3300181, -0.022764564, -0.025505334, 0.006365955, 0.532625, 0.03949505, 0.4180726, 0.31621057, 0.012931913, 0.0053765476, 0.24822149, 0.09325087, 0.22885668, 0.014187008, 0.021268189, 0.06833503, 0.7124405, 0.25948524, 0.28918907, -0.0009216964, -0.00513345, 0.0994387, 0.012270093, 0.20118773, -0.008648515, 0.17160031, 0.25402915, -0.007493973, 0.23917285, 0.27952355, 0.41243213, 0.012361258, 0.028939992, 0.45861194, 0.4283848, 0.35798085, 0.7400457, -0.033817798, 0.0461798, -0.009996384, 0.085184366, 0.3876208, 0.2198989, 0.20496503, 0.042471915, -0.002634883, 0.035468757, -0.0075435042, 0.66359603, -0.012112707, -0.0009978116, -0.003118664, 0.018383324, -0.00070261955, 0.024363488, 0.15746717, -0.00337106, 0.035232067, 0.2963865, 0.079067916, 0.08691275, 0.09527454, 0.019627333, 0.27835172, 0.46754277, 0.14743614, -0.026688784, 0.2642742, 0.39508292, 0.12148136, -0.027332515, 0.42897084, 0.07281801, -0.027379662, 0.04217881, -0.014006168, 0.0317975, 0.009895831, 0.014985263, 0.0964531, -0.02955383, 0.30492723, 0.3065073, 0.12108986, 0.40854973, 0.26299518, 0.17241794, 0.26800162, 0.44922048, -0.015032947, 0.4843169, 0.25068167, 0.035089046, 0.067138225, 0.2753781, 0.09006643, 0.6324671, 0.5976399, 0.19228917, 0.223423, 1.2397766e-05, 0.5385363, 0.0014998615, 0.19424304, -0.00554353, 0.071035534, 0.17713228, 0.7253203, 0.0317975, 0.012931913, 0.26299518, 0.27835172, 0.41243213, 0.18305099, -0.016032904, 0.66320753, 0.036380857, 0.060856402, 0.20496503, -0.026311845, 0.011017084, 0.6324671, 0.021881402, 0.24205562, -0.026363045, 0.012270093, 0.08691275, 0.2560618, -0.026688784, 0.58022225, 0.31205887, 0.066827685, -0.019655675, 0.20759246, 0.36175618, 0.071193874, 0.110037535, 0.1969365, 0.012871683, 0.0071356297, 0.29815766, 0.09377268, 0.22084294, 0.18324329, 0.51868093, 0.27952355, 0.40147528, 0.09527466, 0.34349054, 0.15189609, 0.27716473, 0.20118773, 0.3300181, 0.35912198, 0.74004567, 0.25442687, 0.34676477, 0.07005346, 0.43746358, -0.013987988, 0.20837688, 0.30567324, 0.105532944, -0.0022678971, 0.20359144, 0.14274256, 0.26638696, -0.00337106, -0.02480483, 0.28764537, 0.067138225, 0.24202022, 0.30807263, 0.06486854, 0.4180726, 0.027098536, 0.09371436, 0.18730503, -0.0031186938, 0.20274997, 0.35313362, 0.7154689, 0.24353826, -0.021477371, 0.114531055, 0.10060313, 0.7513498, 0.7471975, 0.24822144, 0.44922048, 0.012452304, 0.2506815, 0.26800162, -0.033817798, 0.010397583, 0.62226564, -0.017210692, 0.20392406, 0.27952355, 0.30993164, 0.0071356893, 0.010237783, -0.0015126169, 0.27835178, 0.2645244, 0.24353826, -0.0003784895, 0.30285633, -0.007493943, -0.015745342, 0.20496503, 0.20210274, 0.25948524, 0.28356573, -0.009142011, 0.14833622, 0.20118773, 0.41243213, 0.44922048, 0.2908381, -0.029553771, 0.055793643, 0.076444715, 0.51868093, 0.110037535, 0.17160031, 0.66320735, 0.29810756, 0.49803746, 0.24790189, 0.060738534, 0.25330034, 0.009501845, 0.1125367, 0.021268189, 0.2757411, 0.013545275, -0.0009217262, 0.40147528, 0.106089026, 0.33253255, 0.14857386, 0.25433296, 0.30567336, 0.101896286, 0.06462577, -0.026362985, 0.04596719, 0.0461798, 0.37719506, 0.027867764, 0.24243794, 0.068335086, 0.0032382905, 0.52611566, 0.2963865, 0.20163299, 0.43807518, 0.26116455, 0.035089046, 0.10713051, -0.0031186938, 0.3950831, -0.027379662, 0.012871683, 0.27219242, 0.23057655, 0.006950408, 0.20071298, -0.03524679, 0.28367501, -0.017341048, -0.016032904, 0.086707056, 0.2368637, 0.29910424, 0.072980076, 0.25625432, 0.13343546, -0.030202895, 0.07916361, -0.011027336, 0.006365955, 0.061337024, 0.2547222, 0.046669126, 0.45861194, 0.25442684, 0.05088505, 0.006950408, 0.4843169, 0.34349054, 0.2039241, -0.002598524, 0.031620085, 0.121089935, 0.03949505, 0.101896346, 0.059374094, 0.46754265, 0.07281801, 0.0034440458, 0.28955603, 0.015951723, 0.7124405, 0.101399034, 0.19424304, 0.43343505, 0.45285955, 0.22372425, 0.08614215, 0.2370497, 0.2686411, 0.46914294, 0.36175618, 0.0937143, 0.015274048, 0.2743934, 0.26638696, 0.010397583, 0.21128426, 0.10713047, 0.18730503, 0.31127846, 0.026572496, 0.27219242, 0.3065073, 0.20837688, 0.48147786, 0.28356573, 0.14071538, -0.004178971, 0.2547222, -0.0009217262, 0.5781466, 0.110037535, -0.015032947, 0.7253203, 0.018832058, 0.26515597, -0.02480492, -0.008648515, 0.26635104, 0.43670782, 0.25558552, 0.6222656, 0.26752183, 0.39508292, 0.04217893, 0.106089026, -0.022764564, -0.033555686, -0.025126725, 0.27574104, 0.74719745, 0.18866554, 0.31406978, 0.076444715, 0.28367501, 0.26427403, 0.24898654, 0.43746358, 0.02896583, 0.021881312, 0.0900664, 0.19486672, 0.4036905, 0.035088986, 0.03179738, 0.022176504, 0.02082938, 0.2562544, -0.013921112, 0.43807518, -0.0051335394, 0.02063784, 0.32330292, 0.18324329, 0.011630803, 0.41892785, 0.044634014, 0.0027939081, 0.26452437, 0.012043238, 0.036559075, 0.18866555, 0.25442684, 0.01695326, -0.002634883, 0.101896346, 0.105532944, 0.5781466, 0.00872615, 0.15746717, 0.079067856, -0.025126755, 0.21989883, 0.28764537, 0.042471915, 0.09503204, 0.4980368, 0.66320735, 0.05894491, -0.013921112, -0.004178971, -0.0009978116, -0.008000046, 0.0053765476, 0.28955603, 0.38104627, 0.006950408, 0.012932092, 0.5802225, 0.3041284, 0.21173733, 0.48147786, 0.2743934, 0.7472756, -0.030202895, 0.19170249, -0.023029774, -0.02480483, 0.43746358, -0.037147075, 0.06711614, 0.07916361, 0.19486672, 0.22084296, -0.017210692, -0.015032947, 0.030596107, 0.24353826, 0.2560618, 0.018102199, 0.27236393, 0.03949511, -0.0014358759, -0.016785473, -0.021477371, 0.3876208, -0.022764564, 0.21075827, 0.18305099, 0.20163296, 0.17160021, 0.026572436, 0.7513498, 0.52611566, 0.3065073, 0.24763334, 0.04029116, 0.2611645, 0.23704983, 0.19746123, 0.1969365, 0.20392406, 0.024363488, 0.24790189, 0.30567324, 0.3285523, 0.015274048, 0.25558552, 0.44922048, -0.012112707, 0.009501845, 0.29346603, -0.007493943, -0.019655675, 0.62226564, 0.08216396, 0.036380768, 0.07005346, 0.7154689, 0.66254973, 0.28918907, 0.0937143, 0.09377268, 0.20496503, 0.7154689, 0.14274256, 0.24878684, 0.006365955, 0.044484794, 0.19746137, 0.48699006, 0.027098536, 0.43807518, 0.36805215, 0.3434908, 0.351481, 0.27113217, 0.51868093, 0.059374064, -0.025126725, 0.22084294, -0.027357638, 0.018102199, 0.41712567, 0.055793643, 0.08614209, 0.3487514, 0.30844584, 0.012931913, 0.086707056, 0.17241794, 0.4180726, 0.07281801, 0.21521045, 0.012871832, 0.106654674, 0.47058663, 0.2981076, 0.030596107, 0.25948524, 0.18305099, -0.013988018, 0.46754265, 0.009895831, 0.05088505, 0.20071298, -0.0022678375, 0.28181565, 0.005847633, 0.042471915, 0.035089046, 0.37520945, 0.20210268, 0.0071356893, 0.076444715, 0.024301678, 0.20274991, -0.0150330365, 0.015951812, 0.007961899, 0.14743614, 0.06899515, 0.010237783, 0.0034686923, 0.26116455, 0.0900664, 0.25433305, 0.22372425, -0.021477371, -0.007767737, 0.02082938, 0.24202022, 0.04029116, 0.24205562, 0.25330043, -0.005928904, 0.27716473, 0.110037535, 0.08216396, 0.032354116, 0.0083376765, -0.009142041, 0.07916355, 0.0994387, 0.22570312, 0.012270093, 0.14906408, 0.74719745, 0.114531055, 0.27409586, -0.008827001, 0.035468757, 0.26299518, 0.06676766, 0.29815763, 0.31127834, 0.085184366, 0.007007301, 0.4973933, 0.4422201, 0.044634074, 0.2753781, 0.24202022, -0.037147075, 0.30807263, -0.03381774, 0.35313362, 0.105532944, 0.0027939081, -0.012112707, 0.7472756, 0.06597307, 0.106089026, 0.007961899, 0.055793613, -0.002924353, 0.02082938, -0.00495407, -0.0031186938, 0.17160031, 0.28691635, -0.016032785, -0.021230996, 0.8002179, 0.114531055, -0.008820355, 0.3486754, 0.2740958, 0.27716473, 0.01810214, 0.08691275, 0.48147786, 0.04196635, 0.011017084, 0.09379095, 0.014985263, 0.04229167, 0.009895831, 0.072086096, 0.22372425, 0.021975547, 0.26278478, 0.04596719, 0.31406993, 0.13343546, 0.008337617, 0.25294885, 0.0461798, -0.008000046, 0.28918907, 0.04056436, 0.28955603, 0.45539087, 0.03344336, -0.011093408, 0.012452304, 0.18866555, 0.18730503, -0.008826941, 0.2198989, 0.22570312, 0.1474361, -0.026688814, 0.25433296, -0.016785473, 0.24225056, 0.024363488, 0.06899515, 0.24790189, 0.20359144, 0.019627184, 0.22084294, -0.02480483, 0.24243793, -0.030202895, 0.31621057, 0.74004567, 0.7124406, 0.10060306, -0.017210662, 0.22885674, 0.024301678, 0.34875143, 0.08807039, -0.03524679, 0.2562544, 0.013545275, 0.25571823, 0.29614908, 0.28367501, 0.1580289, -0.033555686, 0.47058663, 0.20163296, 0.20274997, 0.28764537, 0.018832058, 0.25330034, -0.008826941, 0.024604142, 0.06899515, 0.36543965, 0.41712564, 0.056341976, 0.7154689, 0.014985263, -0.00070261955, 0.013086289, 0.019627333, 0.27439326, 0.22491793, 0.18325998, -0.025505334, 0.04029116, 0.09325093, 0.071035534, 0.09503204, 0.12510483, 0.072086096, 0.092181504, 0.12319364, 0.022752196, 0.37520945, 0.006950408, 0.27099973, 0.036380857, -0.026311845, 0.21521026, 0.26638696, 0.14071538, -0.026688784, 0.26800162, 0.012435347, 0.060738653, 0.035468817, 0.19404523, 0.8002179, -0.021477371, 0.0083376765, 0.046669126, 0.006365955, 0.093419254, 0.07281801, 0.24243793, 0.06793907, 0.74719745, -0.033817798, 0.31127834, 0.056688547, 0.23704983, 0.024363488, -0.023029655, -0.02480483, 0.011017084, 0.035088986, -0.002634883, 0.106089026, 0.4973933, 0.28356573, -0.012112707, 0.081101, 0.0461798, -0.00337106, 0.079067856, 0.24763334, 0.05088502, 0.34349054, 0.012270093, 0.012871683, 0.27999866, 0.0053765476, 0.26635104, 0.3486754, 0.01992786, 0.5385363, 0.14274256, -0.015762508, 0.5326251, 0.101896346, 0.34676477, -0.027379662, 0.2547222, -0.030202925, -0.019655734, 0.26116455, -0.002634883, 0.021995753, 0.46914294, 0.073803544, 0.6625496, 0.015274048, 0.46754277, 0.3434908, 0.22885674, 0.4283848, 0.45861194, 0.033443242, 0.35798085, 0.06676766, 0.056541175, 0.35313392, 0.3654397, 0.7513498, 1.2427568e-05, -0.005928904, 0.0422917, 0.3876209, 0.29614908, 0.28918907, 0.34684375, 0.030596107, 0.5326251, -0.019649118, 0.20163296, 0.24591243, -0.011093438, 0.14906408, 0.105532944, 0.37520945, 0.09628633, 0.24790189, -0.029553771, -0.026688814, 0.12319364, 0.24822149, 0.20359138, 0.24202022, 0.04056436, 0.2963865, 0.086707085, 0.21521045, 0.01695317, 0.005847633, 0.044484794, 0.0071356893, 0.23013917, 0.7124405, 0.3617561, 0.7472757, 0.20392406, 0.019627333, 0.060856402, 0.5781466, 0.09341937, 0.32855242, 0.34867546, -0.028914928, 0.30993164, 0.055657804, 0.012043238, 0.26800162, 0.0461798, 0.20071298, 0.7407308, 0.26515597, 0.41243213, 0.31127834, 0.27113217, -0.033817798, 0.20210268, 0.25625432, 0.021975636, 0.3591225, 0.013545215, 0.24225056, 0.024301678, -0.008648515, 0.41470444, 0.22084294, 0.18324327, 0.010397553, 0.007961899, 0.47058663, 0.07916361, 0.20837688, 0.035131693, 0.09503204, 0.25294885, 0.48147804, 0.24202022, 0.25948524, 0.33106458, 0.033443242, 0.45539087, 0.25571823, 0.06110984, 0.2651413, 0.08807039, 0.34932148, 0.30807263, 0.06833503, 0.055793643, 0.29614908, 0.12510483, -0.025505334, 0.27952355, -0.021230966, 0.4678686, 0.3041284, 0.08216396, -0.027332515, 0.3966522, 0.010282755, 0.018383294, 0.27113217, -0.015762508, 0.055657804, 0.004342377, 0.0071356893, 0.04429239, 0.4283849, 0.0034382641, 0.5781466, 0.072086066, 0.25330034, 0.46754277, 0.081101, -0.007493973, 0.40147525, 0.2686411, 0.121089935, -0.002598524, 0.31406993, 0.25472215, 0.36175618, 0.18305096, 0.046669036, 0.24079624, 0.19228917, 0.48699003, 0.59750074, 0.012871683, 0.09325093, 0.02082941, 0.029934406, 0.22084294, 0.105532944, 0.7154689, 0.30285633, 0.014187008, 0.26635104, 0.009501785, 0.38594276, 0.2963865, 0.25442684, -0.0051335394, 0.20118773, 0.351481, 0.66320735, -0.005929053, 0.07103565, 0.34676477, -0.009996384, 0.2991042, 0.07298043, 0.2560618, -0.002924353, 0.21075828, 0.012932092, 0.2368637, 0.74719745, -0.026688784, -0.0015126169, 0.036380768, 0.06597307, 0.12319362, -0.0014358759, 0.021995753, 0.018102199, 0.25294885, 0.4036905, 0.24205562, -0.0075435042, 0.019627184, 0.060738653, 0.056541175, 0.09325093, -0.014006078, 0.067138225, 0.20071298, 0.48699003, -0.033555627, 0.2547222, 0.22570312, 0.31056565, 0.4422201, 0.020057917, 0.018102199, -0.03524679, 0.27952346, 0.28691643, 0.12735772, 0.27574104, 0.128993, -0.011035293, 0.34932148, 0.41892773, 0.2709999, 0.24353805, -0.0075435042, 0.22491792, -0.00495407, 0.20759246, -0.0009978116, -0.0031186938, 0.11742222, 0.16286665, 0.38104627, 0.022752196, 0.19746123, -0.021477371, 0.14906408, 0.07281801, 0.11453095, 0.09503204, 0.25625432, 0.105532944, 0.05088505, 0.1159547, 0.6222656, 0.00872615, 0.04921195, -0.007493973, 0.02896583, 0.076444715, 0.30832708, 0.055657804, 0.06110984, 0.3080376, 0.041636556, -0.023029774, 0.032354116, 0.012435347, 0.2506815, 0.7154689, 0.05887863, 0.046669126, 0.015951812, 0.26515597, 0.30285633, -0.00337106, 0.06833503, 0.055793643, 0.026572436, -0.008000046, 0.042471915, 0.066827685, -0.03202966, 0.3041284, 0.056341976, -0.037147075, 0.3654397, 0.74004567, 0.09377268, 0.06597304, 0.52611566, 0.34684375, 0.027867764, 0.061337054, 0.085184366, 0.26800162, 0.072980076, -0.016032785, 1.2427568e-05, 0.01695317, 0.4180726, 0.13343546, 0.009895831, 0.04029116, 0.21808991, 0.017870218, 0.066827446, 0.0034440458, 0.0083376765, 0.21832688, 0.12735772, 0.27835172, 0.23686361, 0.012932092, 0.06676766, -0.011027336, -0.023029655, 0.43604514, 0.30807263, 0.06110984, 0.2627848, 0.14906402, 0.7154689, 0.59750074, 0.046669126, 0.7253203, 0.19170247, 0.24205562, -0.008000135, 0.22885668, 0.31127834, 0.060856402, 0.027098536, -0.028914899, 0.012043238, 0.021268189, 0.101896286, 0.2562544, -0.016032904, 0.00974381, 0.26635104, 0.27574104, 0.011017084, 0.5976399, 0.005376607, 0.223423, 0.3756735, 0.08807039, 0.05894491, -0.0009978116, 0.1125367, 0.019627333, 0.056541264, 0.42897105, 0.26299518, 0.4980368, 0.26427403, -0.00337106, 0.5781466, 0.20210268, 0.21521045, -0.003118664, 0.74073076, 0.26638696, 0.121089935, 0.036559075, 0.43807518, 0.021995753, -0.0014358759, 0.026572496, 0.011630803, 0.4843169, 0.26800162, 0.2506815, 0.3041284, 0.27219242, 0.04596722, 0.24763338, 0.16286673, 0.4180726, 0.010397583, 0.035468757, 0.06793907, -0.014624298, 0.08765721, 0.6561043, 1.2427568e-05, -0.0003784895, 0.02082938, 0.28367501, 0.032354116, 0.28764537, 0.28918877, 0.2645244, 0.1159547, 0.21075827, 0.33253255, 0.29083812, 0.21703443, 0.2872085, 0.06110984, 0.010397553, 0.013086289, 0.26272693, 0.04596719, 0.32855242, -0.028914899, 0.28356573, 0.04429239, 0.05088502, -0.021230966, 0.29614908, 0.015951723, 0.2651414, 0.3065073, 0.26116455, 0.061337024, -0.025505334, -0.016785473, 0.3876208, 0.34875143, 0.4678686, 0.4843169, 0.067138225, 0.06793898, 0.27952346, 0.14857386, 0.081101, 0.007961899, 0.4036905, 0.2506815, 0.26427403, 0.2183269, 0.48147804, -0.010154247, 0.25625432, 0.29815763, 0.35912198, 0.08807039, 0.014985263, 0.008337617, 0.2895561, 0.20359138, 0.015273988, 0.59750074, 0.110037535, -0.027332515, 0.013545215, 0.059374064, 0.012932092, 0.11742219, 0.035468757, 0.7513498, -0.033555686, 0.30337048, 0.27236393, 0.24353805, -0.023029774, 0.24878684, 0.071035534, -0.007767737, 0.06833503, 0.5385363, 0.41712567, 0.4705867, 0.23704983, 0.06597307, 0.006679386, 0.1580289, 0.1159547, 0.46754277, 0.20210268, 0.2547222, 0.07281801, 0.09371436, -0.013921052, 0.09628633, 0.2743934, 0.19404523, 0.01992783, -0.003118664, -0.0055435896, 0.2991042, 0.125105, 0.18730503, -0.016032904, 0.01695317, 0.03949505, 0.19170249, 0.25294885, 0.34676477, -0.00554353, 0.0014998615, 0.6561043, 0.18866555, -0.011093438, 0.06462601, 0.08807039, -0.012112707, 0.013545215, 0.0964531, 0.106089026, 0.09006643, 0.1969365, 0.01992786, 0.11003755, 0.43670782, 0.04029116, 0.035088986, 0.114531055, 0.12148136, 0.059374094, -0.008000135, -0.014006168, 0.015273988, 0.04196635, 0.2872085, 0.23057655, 0.09371436, -0.008826941, -0.011027366, 0.76377326, 0.74004567, 0.007961899, 0.20118773, 0.12319364, 0.36913463, 0.055657804, -0.005720198, 0.03031382, -0.0051335394, 0.03949505, 0.2370497, -0.027332515, -0.019649118, 0.093765795, 0.18305096, -0.023029774, 0.05887863, -0.021477371, 0.28201678, -0.026362985, 0.10060313, 0.23917302, 0.26272696, 0.062185615, 0.061337054, 0.15701433, 0.056341976, 0.2198989, 0.27999866, 0.02063784, 0.11742222, 0.068335086, -0.008648515, 0.30567324, 0.027867764, 0.66254973, 0.125105, 0.30993164, 0.3810464, 0.20511276, 0.101399034, 0.28356573, 0.45285955, -0.022764564, 0.012452304, 0.31205887, 0.4586119, 0.7124406, 0.018383294, 0.06486854, 0.3300181, 0.20071298, 0.2740958, 0.036380768, 0.0034686923, -0.017210692, 0.4678686, 0.0994387, 0.018102199, 0.0032382905, 0.10132615, 0.012361258]\n",
            "[480, 640, 720, 880, 1280, 1440, 400, 160, 960, 1600, 960, 2000, 1600, 80, 800, 1360, 1200, 640, 1360, 320, 1040, 2000, 1760, 160, 1120, 1280, 320, 1200, 800, 1120, 1360, 1520, 1280, 480, 1440, 320, 160, 560, 1840, 1360, 480, 320, 1680, 1360, 1280, 960, 480, 560, 1920, 1440, 1040, 240, 1520, 80, 1840, 880, 640, 480, 960, 1680, 1600, 720, 640, 160, 400, 1280, 1840, 1280, 960, 880, 400, 1920, 1440, 1040, 1920, 1600, 1200, 1760, 1360, 1280, 1360, 1760, 1920, 640, 400, 1120, 560, 1280, 2000, 640, 800, 720, 720, 1760, 1920, 1680, 1600, 1040, 800, 1120, 960, 1680, 720, 320, 560, 1200, 480, 1120, 240, 2000, 1520, 880, 640, 1440, 1520, 400, 80, 720, 1360, 320, 1680, 400, 800, 960, 480, 320, 1360, 1120, 400, 400, 1520, 480, 800, 1840, 640, 480, 1040, 240, 1520, 1920, 1520, 1600, 1040, 1360, 1680, 720, 720, 1040, 160, 160, 1120, 880, 1840, 2000, 640, 560, 1280, 320, 1680, 80, 1280, 1200, 2000, 1920, 800, 80, 880, 320, 560, 1520, 1760, 480, 1920, 1360, 2000, 880, 1920, 160, 240, 1360, 1280, 1120, 160, 880, 1360, 800, 80, 2000, 1840, 640, 1040, 1760, 480, 480, 720, 1280, 1840, 1200, 560, 1200, 1920, 1760, 1760, 1920, 800, 1440, 1120, 1600, 1840, 1360, 480, 880, 1680, 640, 560, 320, 960, 240, 1440, 320, 960, 2000, 960, 1120, 640, 1920, 1280, 320, 960, 800, 320, 320, 640, 1440, 560, 880, 1600, 1200, 1920, 800, 480, 800, 880, 80, 160, 1520, 560, 1760, 480, 1920, 1680, 160, 1520, 1360, 160, 1120, 400, 720, 80, 1200, 1840, 1920, 720, 320, 1120, 1520, 2000, 1440, 2000, 1840, 1040, 1360, 800, 1280, 1680, 1200, 1120, 640, 320, 1120, 640, 720, 880, 320, 2000, 720, 2000, 1600, 800, 1840, 1440, 1680, 400, 560, 1120, 1200, 1200, 1760, 1600, 1360, 1120, 480, 1520, 1360, 160, 1200, 1200, 1920, 1600, 640, 1120, 1200, 2000, 1840, 160, 1040, 400, 640, 160, 1440, 640, 800, 480, 1280, 880, 800, 1600, 80, 1600, 1040, 1920, 1120, 1520, 1680, 480, 1200, 80, 560, 2000, 1440, 560, 320, 160, 1360, 480, 1200, 1040, 1120, 880, 1760, 1440, 1200, 1200, 1760, 1120, 1760, 80, 1360, 800, 1360, 1520, 1440, 800, 80, 960, 1280, 1040, 240, 880, 1440, 240, 720, 80, 560, 1680, 800, 480, 160, 240, 1520, 1360, 320, 640, 1680, 1680, 1040, 1040, 1600, 400, 1120, 1040, 1040, 1760, 160, 1760, 2000, 1120, 320, 480, 1360, 640, 1520, 1760, 560, 1120, 400, 960, 160, 1440, 880, 1760, 640, 720, 1600, 560, 80, 1680, 2000, 1920, 160, 1680, 80, 1920, 1680, 1040, 400, 160, 1280, 1200, 1520, 880, 1840, 880, 240, 1520, 80, 560, 1360, 1520, 1520, 960, 400, 880, 1680, 880, 1200, 1520, 1040, 640, 960, 720, 1600, 1360, 240, 960, 1440, 400, 560, 1600, 880, 1200, 1040, 400, 960, 480, 80, 1360, 800, 2000, 960, 1280, 2000, 1440, 1520, 1760, 1920, 1840, 560, 1680, 240, 640, 1760, 480, 1840, 320, 480, 240, 1760, 320, 400, 2000, 1600, 960, 1040, 160, 1280, 240, 720, 1680, 1120, 2000, 720, 880, 800, 800, 720, 1920, 1680, 1040, 320, 160, 640, 720, 1120, 1600, 240, 1360, 1680, 1440, 240, 160, 1760, 1600, 1360, 640, 640, 880, 880, 1280, 880, 880, 1520, 2000, 240, 720, 1280, 640, 560, 1680, 1360, 800, 1920, 1280, 1760, 480, 1200, 1280, 880, 1440, 400, 1200, 400, 800, 880, 1280, 1120, 1520, 1920, 1120, 480, 1040, 1920, 1840, 480, 640, 560, 720, 1360, 320, 1840, 800, 1040, 1360, 1120, 160, 400, 1040, 640, 560, 800, 560, 400, 1840, 1680, 880, 1760, 80, 1680, 1360, 960, 240, 1120, 800, 1200, 1280, 1520, 960, 1600, 160, 2000, 960, 1440, 240, 80, 80, 960, 160, 1440, 560, 2000, 880, 80, 320, 1920, 1120, 1280, 1840, 1920, 640, 1120, 480, 1520, 1520, 560, 1520, 720, 640, 400, 1600, 160, 1840, 80, 1200, 880, 720, 960, 1360, 640, 560, 960, 960, 1520, 1040, 1200, 480, 1760, 400, 1120, 480, 480, 880, 1600, 160, 720, 1680, 2000, 1120, 2000, 2000, 320, 1360, 800, 560, 400, 1600, 1200, 240, 1840, 320, 240, 880, 720, 1520, 800, 1840, 560, 1920, 1120, 320, 160, 320, 1840, 2000, 640, 1600, 1360, 400, 1760, 640, 800, 1680, 2000, 1280, 240, 560, 1840, 1360, 1120, 1680, 1600, 2000, 160, 1760, 80, 1840, 2000, 1360, 800, 960, 240, 800, 960, 240, 800, 1680, 320, 1200, 160, 560, 640, 720, 880, 1360, 1120, 880, 640, 400, 800, 1680, 880, 720, 880, 960, 160, 1600, 720, 1680, 80, 1440, 1440, 1920, 480, 1040, 1680, 240, 1520, 320, 160, 2000, 1760, 1920, 2000, 1280, 240, 1920, 320, 1360, 1360, 1200, 480, 1920, 1600, 2000, 1280, 880, 1600, 1760, 1680, 240, 1840, 1520, 1840, 720, 80, 1520, 880, 720, 480, 400, 80, 560, 1600, 1280, 1120, 1760, 640, 800, 1600, 160, 1520, 640, 1600, 800, 1520, 720, 400, 960, 1200, 720, 80, 800, 560, 240, 240, 320, 880, 1360, 800, 1120, 80, 1200, 1520, 480, 80, 960, 560, 400, 2000, 1440, 1120, 1200, 1440, 1440, 960, 1120, 1520, 960, 320, 1280, 80, 1040, 720, 960, 1600, 1360, 960, 1280, 640, 560, 1120, 800, 1120, 960, 1440, 1680, 400, 1440, 1680, 1360, 240, 320, 1520, 800, 80, 1600, 880, 560, 2000, 1200, 1120, 400, 240, 960, 1520, 1040, 1120, 240, 1520, 1920, 1200, 1280, 1920, 1600, 1200, 1680, 1200, 1920, 1520, 320, 1600, 960, 1200, 80, 160, 960, 1600, 560, 400, 80, 2000, 480, 720, 800, 1280, 1600, 1760, 560, 1040, 720, 240, 1280, 1360, 1120, 1840, 1200, 2000, 1040, 560, 480, 880, 1440, 160, 800, 480, 800, 800, 1200, 1040, 240, 160, 1200, 1920, 1040, 400, 560, 800, 1040, 800, 720, 960, 1680, 880, 640, 1520, 1440, 1600, 400, 1920, 1120, 2000, 1840, 1040, 1280, 1200, 960, 1040, 80, 320, 640, 720, 1600, 80, 480, 2000, 1760, 1520, 640, 720, 800, 1040, 480, 560, 1600, 1200, 800, 1440, 1440, 640, 1200, 1200, 560, 1920, 240, 880, 1440, 720, 720, 160, 720, 1680, 640, 1920, 1680, 80, 1200, 480, 640, 1840, 400, 1680, 560, 240, 1120, 1680, 1920, 1920, 1600, 960, 960, 1920, 400, 1440, 1520, 400, 160, 800, 1440, 240, 160, 1280, 160, 400, 560, 640, 1840, 1120, 720, 720, 1920, 2000, 1280, 1520, 1120, 400, 2000, 2000, 1440, 1600, 880, 1360, 80, 2000, 480, 1840, 1360, 1280, 240, 240, 1280, 1920, 1680, 400, 880, 1760, 480, 1520, 1520, 560, 800, 800, 1600, 800, 880, 1360, 1120, 1840, 1280, 480, 80, 320, 1840, 1200, 1920, 1120, 1440, 720, 480, 80, 2000, 1120, 160, 1200, 160, 480, 80, 1600, 1680, 80, 1360, 560, 1680, 1440, 640, 2000, 720, 1360, 480, 160, 1040, 1040, 1040, 1520, 480, 1600, 640, 1600, 1200, 720, 1760, 1760, 880, 720, 640, 560, 240, 480, 1120, 1360, 1200, 1040, 480, 1840, 960, 320, 1840, 1280, 400, 2000, 1280, 1520, 1280, 1040, 1280, 1440, 1520, 1280, 720, 240, 1680, 960, 640, 320, 560, 480, 960, 560, 1280, 960, 1040, 480, 400, 1600, 1520, 1440, 1920, 160, 320, 800, 1440, 640, 480, 1120, 800, 160, 560, 1600, 1920, 1120, 240, 1280, 800, 960, 720, 1280, 400, 1280, 1120, 1680, 240, 1120, 1840, 1920, 1280, 1440, 1040, 1840, 880, 1120, 1600, 1600, 1600, 1120, 1840, 800, 480, 1600, 960, 400, 880, 960, 320, 240, 160, 960, 2000, 800, 2000, 1280, 2000, 1760, 640, 1840, 400, 240, 720, 1360, 1520, 1680, 1280, 240, 1280, 320, 240, 1040, 1200, 240, 1280, 1040, 1280, 1840, 1440, 80, 1360, 720, 560, 1280, 1680, 1120, 880, 160, 1040, 1520, 240, 1600, 1360, 1120, 2000, 160, 1200, 480, 880, 880, 1200, 1600, 480, 1280, 1280, 1360, 640, 160, 1920, 1280, 880, 1520, 1600, 800, 880, 1920, 1600, 160, 160, 400, 1680, 960, 1520, 1440, 1840, 1520, 560, 960, 880, 1840, 720, 1120, 880, 720, 1280, 1760, 400, 880, 480, 1440, 1360, 1040, 1600, 960, 1520, 80, 1360, 1600, 880, 1280, 880, 480, 400, 400, 1520, 1360, 1520, 1600, 880, 1440, 2000, 1200, 1120, 720, 1200, 720, 80, 80, 160, 1440, 160, 1840, 1840, 640, 400, 2000, 1840, 560, 1840, 960, 480, 480, 1840, 240, 1520, 1760, 400, 1440, 80, 1760, 320, 640, 1360, 1840, 1520, 400, 1200, 1760, 2000, 960, 240, 240, 320, 960, 80, 560, 80, 720, 960, 320, 880, 1040, 400, 1120, 880, 880, 560, 1440, 1520, 1520, 1280, 400, 960, 1840, 1200, 800, 800, 1920, 1920, 1680, 1360, 640, 1600, 720, 1840, 880, 1200, 1680, 1680, 1200, 1440, 1680, 160, 1360, 640, 800, 1600, 1200, 640, 1280, 800, 1760, 1520, 560, 1440, 1440, 1120, 240, 1600, 560, 1360, 1040, 1840, 560, 1840, 320, 560, 1520, 640, 80, 1440, 1840, 1760, 160, 1840, 960, 1520, 80, 640, 480, 1680, 1120, 2000, 1200, 160, 800, 1520, 560, 240, 560, 80, 1040, 240, 1440, 2000, 400, 1280, 1920, 1360, 1920, 1120, 320, 800, 1200, 1120, 800, 800, 1600, 880, 80, 720, 800, 1120, 720, 400, 1040, 240, 560, 640, 640, 480, 80, 480, 1280, 2000, 880, 1120, 400, 1040, 880, 320, 1040, 1440, 1040, 1760, 320, 960, 1200, 1360, 400, 560, 1440, 880, 880, 1600, 240, 1680, 1280, 1680, 160, 1600, 1120, 1280, 1360, 1520, 1440, 480, 1280, 1360, 1520, 240, 240, 160, 1280, 160, 240, 80, 640, 1360, 1280, 400, 1600, 1760, 1840, 1120, 1200, 1920, 240, 1680, 1120, 960, 640, 1840, 640, 400, 1200, 1680, 1280, 880, 320, 1840, 1760, 2000, 1280, 2000, 1920, 1600, 1040, 480, 400, 960, 1520, 240, 640, 400, 320, 1440, 240, 1200, 1520, 880, 1200, 1120, 160, 1200, 1520, 400, 80, 640, 480, 400, 880, 1760, 960, 1280, 960, 1520, 1280, 640, 1440, 2000, 320, 480, 1600, 400, 1120, 1280, 1520, 480, 1040, 880, 720, 800, 1280, 800, 560, 1200, 320, 1280, 960, 480, 960, 320, 1680, 960, 80, 1920, 1440, 1920, 320, 1040, 2000, 880, 1760, 1440, 1680, 960, 560, 1680, 800, 160, 1840, 640, 640, 720, 1440, 1440, 1360, 880, 1920, 1600, 1120, 1680, 320, 80, 560, 1280, 1120, 640, 160, 1120, 1120, 800, 1120, 480, 1040, 240, 1520, 1520, 1760, 880, 880, 1680, 720, 1040, 1040, 720, 1040, 1520, 960, 1440, 1440, 960, 800, 1040, 1440, 720, 960, 1120, 1280, 480, 1600, 960, 480, 1600, 1440, 400, 880, 240, 1040, 1120, 800, 400, 1200, 1360, 1120, 1760, 240, 720, 1920, 1200, 1200, 320, 1520, 1120, 960, 320, 1840, 1360, 720, 1200, 1920, 1040, 1520, 2000, 1840, 1600, 960, 1680, 400, 1760, 1840, 2000, 1280, 480, 1680, 80, 1040, 320, 800, 320, 1360, 320, 1280, 560, 160, 160, 1520, 1680, 80, 1360, 880, 400, 400, 1440, 320, 2000, 960, 880, 1600, 1840, 160, 1920, 480, 1360, 1680, 1280, 1040, 160, 80, 800, 1760, 400, 1600, 1200, 1440, 960, 480, 1200, 1440, 800, 800, 800, 1520, 160, 1840, 1440, 880, 1680, 640, 720, 2000, 480, 1760, 640, 1840, 800, 1280, 720, 240, 1920, 560, 720, 1680, 160, 560, 2000, 1840, 800, 880, 1440, 1200, 1280, 960, 160, 1600, 2000, 320, 1360, 240, 1520, 1840, 1920, 1200, 1840, 960, 1920, 320, 160, 1680, 1760, 1040, 240, 400, 1040, 2000, 1840, 1520, 1840, 1040, 2000, 480, 1040, 560, 800, 560, 960, 880, 1760, 880, 1360, 1600, 80, 240, 240, 2000, 960, 1360, 880, 2000, 1760, 240, 640, 1120, 800, 1760, 960, 800, 560, 1040, 1920, 1520, 800, 1600, 560, 1120, 1680, 960, 640, 1840, 720, 400, 880, 1200, 480, 960, 1200, 1440, 1200, 1120, 1760, 1600, 960, 1600, 1200, 800, 1040, 1120, 1840, 80, 640, 1920, 720, 400, 1920, 160, 1040, 1120, 2000, 480, 1280, 960, 1440, 320, 880, 1200, 320, 2000, 1760, 880, 640, 1840, 160, 1360, 1280, 1120, 1760, 1360, 1520, 720, 1760, 1920, 560, 1200, 560, 960, 400, 1120, 560, 1200, 80, 1520, 1520, 1600, 1520, 640, 1120, 1440, 1760, 480, 1840, 1680, 1440, 960, 400, 160, 1040, 1280, 1280, 1680, 1280, 1280, 1440, 1440, 1120, 960, 1280, 1360, 1680, 1920, 160, 1520, 1360, 1840, 560, 1600, 1120, 1520, 400, 560, 800, 480, 2000, 1200, 560, 720, 1120, 1280, 1440, 1200, 1600, 160, 1440, 160, 80, 80, 1600, 640, 1040, 1760, 480, 80, 1040, 1920, 160, 1280, 640, 1280, 400, 1280, 1200, 1440, 1280, 1440, 1920, 400, 640, 1520, 1280, 1920, 160, 1680, 1360, 640, 2000, 1840, 400, 240, 80, 800, 1440, 800, 80, 1360, 240, 720, 2000, 1360, 1360, 1280, 560, 1760, 320, 160, 1120, 960, 640, 1360, 1360, 80, 240, 1120, 1200, 160, 1760, 960, 880, 1520, 1680, 800, 480, 160, 1280, 1280, 160, 160, 80, 1200, 1360, 2000, 880, 640, 320, 1040, 1200, 240, 1040, 1360, 2000, 880, 1760, 1120, 240, 160, 1440, 1840, 1760, 160, 80, 1840, 1200, 1600, 240, 1760, 1840, 720, 240, 320, 320, 1040, 240, 400, 1040, 160, 160, 1040, 1440, 1280, 320, 80, 800, 960, 1760, 880, 880, 560, 1280, 1680, 160, 960, 1120, 480, 1040, 1920, 960, 1920, 400, 1120, 640, 400, 1840, 1120, 1600, 960, 1920, 1680, 800, 1520, 240, 720, 1840, 320, 560, 80, 160, 1040, 160, 1760, 960, 800, 640, 2000, 1520, 1200, 2000, 1360, 880, 960, 480, 80, 1600, 1600, 80, 320, 560, 2000, 1840, 1280, 1360, 880, 880, 1760, 720, 1840, 80, 480, 1600, 640, 1520, 2000, 240, 1600, 1440, 1360, 480, 2000, 1520, 1520, 1360, 1120, 1520, 1280, 800, 1920, 880, 80, 80, 1040, 880, 1600, 1120, 880, 560, 640, 1120, 1840, 80, 1200, 1040, 960, 160, 1360, 480, 2000, 1200, 1760, 2000, 1280, 1600, 1280, 560, 640, 640, 1760, 1280, 640, 160, 1120, 1600, 1120, 1680, 1600, 320, 480, 1040, 1440, 240, 240, 1680, 1280, 720, 960, 240, 1280, 240, 480, 1040, 1200, 1920, 640, 240, 800, 240, 560, 640, 880, 1680, 1840, 1920, 1200, 160, 800, 720, 1360, 1520, 1200, 1440, 1760, 240, 240, 1760, 320, 1360, 720, 1360, 320, 2000, 160, 720, 1600, 1760, 480, 1120, 1040, 800, 320, 960, 2000, 1440, 800, 720, 320, 1680, 960, 1120, 1840, 1280, 400, 720, 1280, 1920, 320, 1520, 320, 1200, 240, 1040, 640, 240, 1120, 1920, 480, 240, 960, 80, 1920, 1120, 640, 1600, 80, 1360, 960, 1440, 240, 560, 480, 1200, 720, 480, 320, 400, 800, 160, 1280, 1760, 1120, 240, 1840, 1040, 400, 160, 400, 2000, 1120, 720, 1360, 240, 880, 800, 880, 1760, 1360, 160, 1680, 2000, 640, 320, 880, 1840, 880, 1040, 1120, 1840, 1760, 560, 640, 1600, 400, 1280, 1440, 1760, 720, 1760, 800, 640, 480, 720, 80]\n",
            "[188.84201  177.6993   439.62567  ...  86.217514 274.5462   103.73361 ]\n"
          ]
        },
        {
          "output_type": "stream",
          "name": "stderr",
          "text": [
            "100%|██████████| 2350/2350 [01:50<00:00, 21.19it/s]\n"
          ]
        },
        {
          "output_type": "stream",
          "name": "stdout",
          "text": [
            "Results (freq_10_reference_30)\n",
            "Real_abs:\n",
            "[480, 640, 720, 880, 1280, 1440, 400, 160, 960, 1600, 960, 2000, 1600, 80, 800, 1360, 1200, 640, 1360, 320, 1040, 2000, 1760, 160, 1120, 1280, 320, 1200, 800, 1120, 1360, 1520, 1280, 480, 1440, 320, 160, 560, 1840, 1360, 480, 320, 1680, 1360, 1280, 960, 480, 560, 1920, 1440, 1040, 240, 1520, 80, 1840, 880, 640, 480, 960, 1680, 1600, 720, 640, 160, 400, 1280, 1840, 1280, 960, 880, 400, 1920, 1440, 1040, 1920, 1600, 1200, 1760, 1360, 1280, 1360, 1760, 1920, 640, 400, 1120, 560, 1280, 2000, 640, 800, 720, 720, 1760, 1920, 1680, 1600, 1040, 800, 1120, 960, 1680, 720, 320, 560, 1200, 480, 1120, 240, 2000, 1520, 880, 640, 1440, 1520, 400, 80, 720, 1360, 320, 1680, 400, 800, 960, 480, 320, 1360, 1120, 400, 400, 1520, 480, 800, 1840, 640, 480, 1040, 240, 1520, 1920, 1520, 1600, 1040, 1360, 1680, 720, 720, 1040, 160, 160, 1120, 880, 1840, 2000, 640, 560, 1280, 320, 1680, 80, 1280, 1200, 2000, 1920, 800, 80, 880, 320, 560, 1520, 1760, 480, 1920, 1360, 2000, 880, 1920, 160, 240, 1360, 1280, 1120, 160, 880, 1360, 800, 80, 2000, 1840, 640, 1040, 1760, 480, 480, 720, 1280, 1840, 1200, 560, 1200, 1920, 1760, 1760, 1920, 800, 1440, 1120, 1600, 1840, 1360, 480, 880, 1680, 640, 560, 320, 960, 240, 1440, 320, 960, 2000, 960, 1120, 640, 1920, 1280, 320, 960, 800, 320, 320, 640, 1440, 560, 880, 1600, 1200, 1920, 800, 480, 800, 880, 80, 160, 1520, 560, 1760, 480, 1920, 1680, 160, 1520, 1360, 160, 1120, 400, 720, 80, 1200, 1840, 1920, 720, 320, 1120, 1520, 2000, 1440, 2000, 1840, 1040, 1360, 800, 1280, 1680, 1200, 1120, 640, 320, 1120, 640, 720, 880, 320, 2000, 720, 2000, 1600, 800, 1840, 1440, 1680, 400, 560, 1120, 1200, 1200, 1760, 1600, 1360, 1120, 480, 1520, 1360, 160, 1200, 1200, 1920, 1600, 640, 1120, 1200, 2000, 1840, 160, 1040, 400, 640, 160, 1440, 640, 800, 480, 1280, 880, 800, 1600, 80, 1600, 1040, 1920, 1120, 1520, 1680, 480, 1200, 80, 560, 2000, 1440, 560, 320, 160, 1360, 480, 1200, 1040, 1120, 880, 1760, 1440, 1200, 1200, 1760, 1120, 1760, 80, 1360, 800, 1360, 1520, 1440, 800, 80, 960, 1280, 1040, 240, 880, 1440, 240, 720, 80, 560, 1680, 800, 480, 160, 240, 1520, 1360, 320, 640, 1680, 1680, 1040, 1040, 1600, 400, 1120, 1040, 1040, 1760, 160, 1760, 2000, 1120, 320, 480, 1360, 640, 1520, 1760, 560, 1120, 400, 960, 160, 1440, 880, 1760, 640, 720, 1600, 560, 80, 1680, 2000, 1920, 160, 1680, 80, 1920, 1680, 1040, 400, 160, 1280, 1200, 1520, 880, 1840, 880, 240, 1520, 80, 560, 1360, 1520, 1520, 960, 400, 880, 1680, 880, 1200, 1520, 1040, 640, 960, 720, 1600, 1360, 240, 960, 1440, 400, 560, 1600, 880, 1200, 1040, 400, 960, 480, 80, 1360, 800, 2000, 960, 1280, 2000, 1440, 1520, 1760, 1920, 1840, 560, 1680, 240, 640, 1760, 480, 1840, 320, 480, 240, 1760, 320, 400, 2000, 1600, 960, 1040, 160, 1280, 240, 720, 1680, 1120, 2000, 720, 880, 800, 800, 720, 1920, 1680, 1040, 320, 160, 640, 720, 1120, 1600, 240, 1360, 1680, 1440, 240, 160, 1760, 1600, 1360, 640, 640, 880, 880, 1280, 880, 880, 1520, 2000, 240, 720, 1280, 640, 560, 1680, 1360, 800, 1920, 1280, 1760, 480, 1200, 1280, 880, 1440, 400, 1200, 400, 800, 880, 1280, 1120, 1520, 1920, 1120, 480, 1040, 1920, 1840, 480, 640, 560, 720, 1360, 320, 1840, 800, 1040, 1360, 1120, 160, 400, 1040, 640, 560, 800, 560, 400, 1840, 1680, 880, 1760, 80, 1680, 1360, 960, 240, 1120, 800, 1200, 1280, 1520, 960, 1600, 160, 2000, 960, 1440, 240, 80, 80, 960, 160, 1440, 560, 2000, 880, 80, 320, 1920, 1120, 1280, 1840, 1920, 640, 1120, 480, 1520, 1520, 560, 1520, 720, 640, 400, 1600, 160, 1840, 80, 1200, 880, 720, 960, 1360, 640, 560, 960, 960, 1520, 1040, 1200, 480, 1760, 400, 1120, 480, 480, 880, 1600, 160, 720, 1680, 2000, 1120, 2000, 2000, 320, 1360, 800, 560, 400, 1600, 1200, 240, 1840, 320, 240, 880, 720, 1520, 800, 1840, 560, 1920, 1120, 320, 160, 320, 1840, 2000, 640, 1600, 1360, 400, 1760, 640, 800, 1680, 2000, 1280, 240, 560, 1840, 1360, 1120, 1680, 1600, 2000, 160, 1760, 80, 1840, 2000, 1360, 800, 960, 240, 800, 960, 240, 800, 1680, 320, 1200, 160, 560, 640, 720, 880, 1360, 1120, 880, 640, 400, 800, 1680, 880, 720, 880, 960, 160, 1600, 720, 1680, 80, 1440, 1440, 1920, 480, 1040, 1680, 240, 1520, 320, 160, 2000, 1760, 1920, 2000, 1280, 240, 1920, 320, 1360, 1360, 1200, 480, 1920, 1600, 2000, 1280, 880, 1600, 1760, 1680, 240, 1840, 1520, 1840, 720, 80, 1520, 880, 720, 480, 400, 80, 560, 1600, 1280, 1120, 1760, 640, 800, 1600, 160, 1520, 640, 1600, 800, 1520, 720, 400, 960, 1200, 720, 80, 800, 560, 240, 240, 320, 880, 1360, 800, 1120, 80, 1200, 1520, 480, 80, 960, 560, 400, 2000, 1440, 1120, 1200, 1440, 1440, 960, 1120, 1520, 960, 320, 1280, 80, 1040, 720, 960, 1600, 1360, 960, 1280, 640, 560, 1120, 800, 1120, 960, 1440, 1680, 400, 1440, 1680, 1360, 240, 320, 1520, 800, 80, 1600, 880, 560, 2000, 1200, 1120, 400, 240, 960, 1520, 1040, 1120, 240, 1520, 1920, 1200, 1280, 1920, 1600, 1200, 1680, 1200, 1920, 1520, 320, 1600, 960, 1200, 80, 160, 960, 1600, 560, 400, 80, 2000, 480, 720, 800, 1280, 1600, 1760, 560, 1040, 720, 240, 1280, 1360, 1120, 1840, 1200, 2000, 1040, 560, 480, 880, 1440, 160, 800, 480, 800, 800, 1200, 1040, 240, 160, 1200, 1920, 1040, 400, 560, 800, 1040, 800, 720, 960, 1680, 880, 640, 1520, 1440, 1600, 400, 1920, 1120, 2000, 1840, 1040, 1280, 1200, 960, 1040, 80, 320, 640, 720, 1600, 80, 480, 2000, 1760, 1520, 640, 720, 800, 1040, 480, 560, 1600, 1200, 800, 1440, 1440, 640, 1200, 1200, 560, 1920, 240, 880, 1440, 720, 720, 160, 720, 1680, 640, 1920, 1680, 80, 1200, 480, 640, 1840, 400, 1680, 560, 240, 1120, 1680, 1920, 1920, 1600, 960, 960, 1920, 400, 1440, 1520, 400, 160, 800, 1440, 240, 160, 1280, 160, 400, 560, 640, 1840, 1120, 720, 720, 1920, 2000, 1280, 1520, 1120, 400, 2000, 2000, 1440, 1600, 880, 1360, 80, 2000, 480, 1840, 1360, 1280, 240, 240, 1280, 1920, 1680, 400, 880, 1760, 480, 1520, 1520, 560, 800, 800, 1600, 800, 880, 1360, 1120, 1840, 1280, 480, 80, 320, 1840, 1200, 1920, 1120, 1440, 720, 480, 80, 2000, 1120, 160, 1200, 160, 480, 80, 1600, 1680, 80, 1360, 560, 1680, 1440, 640, 2000, 720, 1360, 480, 160, 1040, 1040, 1040, 1520, 480, 1600, 640, 1600, 1200, 720, 1760, 1760, 880, 720, 640, 560, 240, 480, 1120, 1360, 1200, 1040, 480, 1840, 960, 320, 1840, 1280, 400, 2000, 1280, 1520, 1280, 1040, 1280, 1440, 1520, 1280, 720, 240, 1680, 960, 640, 320, 560, 480, 960, 560, 1280, 960, 1040, 480, 400, 1600, 1520, 1440, 1920, 160, 320, 800, 1440, 640, 480, 1120, 800, 160, 560, 1600, 1920, 1120, 240, 1280, 800, 960, 720, 1280, 400, 1280, 1120, 1680, 240, 1120, 1840, 1920, 1280, 1440, 1040, 1840, 880, 1120, 1600, 1600, 1600, 1120, 1840, 800, 480, 1600, 960, 400, 880, 960, 320, 240, 160, 960, 2000, 800, 2000, 1280, 2000, 1760, 640, 1840, 400, 240, 720, 1360, 1520, 1680, 1280, 240, 1280, 320, 240, 1040, 1200, 240, 1280, 1040, 1280, 1840, 1440, 80, 1360, 720, 560, 1280, 1680, 1120, 880, 160, 1040, 1520, 240, 1600, 1360, 1120, 2000, 160, 1200, 480, 880, 880, 1200, 1600, 480, 1280, 1280, 1360, 640, 160, 1920, 1280, 880, 1520, 1600, 800, 880, 1920, 1600, 160, 160, 400, 1680, 960, 1520, 1440, 1840, 1520, 560, 960, 880, 1840, 720, 1120, 880, 720, 1280, 1760, 400, 880, 480, 1440, 1360, 1040, 1600, 960, 1520, 80, 1360, 1600, 880, 1280, 880, 480, 400, 400, 1520, 1360, 1520, 1600, 880, 1440, 2000, 1200, 1120, 720, 1200, 720, 80, 80, 160, 1440, 160, 1840, 1840, 640, 400, 2000, 1840, 560, 1840, 960, 480, 480, 1840, 240, 1520, 1760, 400, 1440, 80, 1760, 320, 640, 1360, 1840, 1520, 400, 1200, 1760, 2000, 960, 240, 240, 320, 960, 80, 560, 80, 720, 960, 320, 880, 1040, 400, 1120, 880, 880, 560, 1440, 1520, 1520, 1280, 400, 960, 1840, 1200, 800, 800, 1920, 1920, 1680, 1360, 640, 1600, 720, 1840, 880, 1200, 1680, 1680, 1200, 1440, 1680, 160, 1360, 640, 800, 1600, 1200, 640, 1280, 800, 1760, 1520, 560, 1440, 1440, 1120, 240, 1600, 560, 1360, 1040, 1840, 560, 1840, 320, 560, 1520, 640, 80, 1440, 1840, 1760, 160, 1840, 960, 1520, 80, 640, 480, 1680, 1120, 2000, 1200, 160, 800, 1520, 560, 240, 560, 80, 1040, 240, 1440, 2000, 400, 1280, 1920, 1360, 1920, 1120, 320, 800, 1200, 1120, 800, 800, 1600, 880, 80, 720, 800, 1120, 720, 400, 1040, 240, 560, 640, 640, 480, 80, 480, 1280, 2000, 880, 1120, 400, 1040, 880, 320, 1040, 1440, 1040, 1760, 320, 960, 1200, 1360, 400, 560, 1440, 880, 880, 1600, 240, 1680, 1280, 1680, 160, 1600, 1120, 1280, 1360, 1520, 1440, 480, 1280, 1360, 1520, 240, 240, 160, 1280, 160, 240, 80, 640, 1360, 1280, 400, 1600, 1760, 1840, 1120, 1200, 1920, 240, 1680, 1120, 960, 640, 1840, 640, 400, 1200, 1680, 1280, 880, 320, 1840, 1760, 2000, 1280, 2000, 1920, 1600, 1040, 480, 400, 960, 1520, 240, 640, 400, 320, 1440, 240, 1200, 1520, 880, 1200, 1120, 160, 1200, 1520, 400, 80, 640, 480, 400, 880, 1760, 960, 1280, 960, 1520, 1280, 640, 1440, 2000, 320, 480, 1600, 400, 1120, 1280, 1520, 480, 1040, 880, 720, 800, 1280, 800, 560, 1200, 320, 1280, 960, 480, 960, 320, 1680, 960, 80, 1920, 1440, 1920, 320, 1040, 2000, 880, 1760, 1440, 1680, 960, 560, 1680, 800, 160, 1840, 640, 640, 720, 1440, 1440, 1360, 880, 1920, 1600, 1120, 1680, 320, 80, 560, 1280, 1120, 640, 160, 1120, 1120, 800, 1120, 480, 1040, 240, 1520, 1520, 1760, 880, 880, 1680, 720, 1040, 1040, 720, 1040, 1520, 960, 1440, 1440, 960, 800, 1040, 1440, 720, 960, 1120, 1280, 480, 1600, 960, 480, 1600, 1440, 400, 880, 240, 1040, 1120, 800, 400, 1200, 1360, 1120, 1760, 240, 720, 1920, 1200, 1200, 320, 1520, 1120, 960, 320, 1840, 1360, 720, 1200, 1920, 1040, 1520, 2000, 1840, 1600, 960, 1680, 400, 1760, 1840, 2000, 1280, 480, 1680, 80, 1040, 320, 800, 320, 1360, 320, 1280, 560, 160, 160, 1520, 1680, 80, 1360, 880, 400, 400, 1440, 320, 2000, 960, 880, 1600, 1840, 160, 1920, 480, 1360, 1680, 1280, 1040, 160, 80, 800, 1760, 400, 1600, 1200, 1440, 960, 480, 1200, 1440, 800, 800, 800, 1520, 160, 1840, 1440, 880, 1680, 640, 720, 2000, 480, 1760, 640, 1840, 800, 1280, 720, 240, 1920, 560, 720, 1680, 160, 560, 2000, 1840, 800, 880, 1440, 1200, 1280, 960, 160, 1600, 2000, 320, 1360, 240, 1520, 1840, 1920, 1200, 1840, 960, 1920, 320, 160, 1680, 1760, 1040, 240, 400, 1040, 2000, 1840, 1520, 1840, 1040, 2000, 480, 1040, 560, 800, 560, 960, 880, 1760, 880, 1360, 1600, 80, 240, 240, 2000, 960, 1360, 880, 2000, 1760, 240, 640, 1120, 800, 1760, 960, 800, 560, 1040, 1920, 1520, 800, 1600, 560, 1120, 1680, 960, 640, 1840, 720, 400, 880, 1200, 480, 960, 1200, 1440, 1200, 1120, 1760, 1600, 960, 1600, 1200, 800, 1040, 1120, 1840, 80, 640, 1920, 720, 400, 1920, 160, 1040, 1120, 2000, 480, 1280, 960, 1440, 320, 880, 1200, 320, 2000, 1760, 880, 640, 1840, 160, 1360, 1280, 1120, 1760, 1360, 1520, 720, 1760, 1920, 560, 1200, 560, 960, 400, 1120, 560, 1200, 80, 1520, 1520, 1600, 1520, 640, 1120, 1440, 1760, 480, 1840, 1680, 1440, 960, 400, 160, 1040, 1280, 1280, 1680, 1280, 1280, 1440, 1440, 1120, 960, 1280, 1360, 1680, 1920, 160, 1520, 1360, 1840, 560, 1600, 1120, 1520, 400, 560, 800, 480, 2000, 1200, 560, 720, 1120, 1280, 1440, 1200, 1600, 160, 1440, 160, 80, 80, 1600, 640, 1040, 1760, 480, 80, 1040, 1920, 160, 1280, 640, 1280, 400, 1280, 1200, 1440, 1280, 1440, 1920, 400, 640, 1520, 1280, 1920, 160, 1680, 1360, 640, 2000, 1840, 400, 240, 80, 800, 1440, 800, 80, 1360, 240, 720, 2000, 1360, 1360, 1280, 560, 1760, 320, 160, 1120, 960, 640, 1360, 1360, 80, 240, 1120, 1200, 160, 1760, 960, 880, 1520, 1680, 800, 480, 160, 1280, 1280, 160, 160, 80, 1200, 1360, 2000, 880, 640, 320, 1040, 1200, 240, 1040, 1360, 2000, 880, 1760, 1120, 240, 160, 1440, 1840, 1760, 160, 80, 1840, 1200, 1600, 240, 1760, 1840, 720, 240, 320, 320, 1040, 240, 400, 1040, 160, 160, 1040, 1440, 1280, 320, 80, 800, 960, 1760, 880, 880, 560, 1280, 1680, 160, 960, 1120, 480, 1040, 1920, 960, 1920, 400, 1120, 640, 400, 1840, 1120, 1600, 960, 1920, 1680, 800, 1520, 240, 720, 1840, 320, 560, 80, 160, 1040, 160, 1760, 960, 800, 640, 2000, 1520, 1200, 2000, 1360, 880, 960, 480, 80, 1600, 1600, 80, 320, 560, 2000, 1840, 1280, 1360, 880, 880, 1760, 720, 1840, 80, 480, 1600, 640, 1520, 2000, 240, 1600, 1440, 1360, 480, 2000, 1520, 1520, 1360, 1120, 1520, 1280, 800, 1920, 880, 80, 80, 1040, 880, 1600, 1120, 880, 560, 640, 1120, 1840, 80, 1200, 1040, 960, 160, 1360, 480, 2000, 1200, 1760, 2000, 1280, 1600, 1280, 560, 640, 640, 1760, 1280, 640, 160, 1120, 1600, 1120, 1680, 1600, 320, 480, 1040, 1440, 240, 240, 1680, 1280, 720, 960, 240, 1280, 240, 480, 1040, 1200, 1920, 640, 240, 800, 240, 560, 640, 880, 1680, 1840, 1920, 1200, 160, 800, 720, 1360, 1520, 1200, 1440, 1760, 240, 240, 1760, 320, 1360, 720, 1360, 320, 2000, 160, 720, 1600, 1760, 480, 1120, 1040, 800, 320, 960, 2000, 1440, 800, 720, 320, 1680, 960, 1120, 1840, 1280, 400, 720, 1280, 1920, 320, 1520, 320, 1200, 240, 1040, 640, 240, 1120, 1920, 480, 240, 960, 80, 1920, 1120, 640, 1600, 80, 1360, 960, 1440, 240, 560, 480, 1200, 720, 480, 320, 400, 800, 160, 1280, 1760, 1120, 240, 1840, 1040, 400, 160, 400, 2000, 1120, 720, 1360, 240, 880, 800, 880, 1760, 1360, 160, 1680, 2000, 640, 320, 880, 1840, 880, 1040, 1120, 1840, 1760, 560, 640, 1600, 400, 1280, 1440, 1760, 720, 1760, 800, 640, 480, 720, 80]\n",
            "Pred_abs:\n",
            "[260.72583 422.2968  873.73413 ... 302.19745 613.86365 353.9633 ]\n"
          ]
        },
        {
          "output_type": "display_data",
          "data": {
            "text/plain": [
              "<Figure size 432x288 with 1 Axes>"
            ],
            "image/png": "[encoded data removed]"
          },
          "metadata": {
            "needs_background": "light"
          }
        },
        {
          "output_type": "stream",
          "name": "stdout",
          "text": [
            "[0.20833333333333334, 0.2916666666666667, 0.3333333333333333, 0.4166666666666667, 0.625, 0.7083333333333334, 0.16666666666666666, 0.041666666666666664, 0.4583333333333333, 0.7916666666666666, 0.4583333333333333, 1.0, 0.7916666666666666, 0.0, 0.375, 0.6666666666666666, 0.5833333333333334, 0.2916666666666667, 0.6666666666666666, 0.125, 0.5, 1.0, 0.875, 0.041666666666666664, 0.5416666666666666, 0.625, 0.125, 0.5833333333333334, 0.375, 0.5416666666666666, 0.6666666666666666, 0.75, 0.625, 0.20833333333333334, 0.7083333333333334, 0.125, 0.041666666666666664, 0.25, 0.9166666666666666, 0.6666666666666666, 0.20833333333333334, 0.125, 0.8333333333333334, 0.6666666666666666, 0.625, 0.4583333333333333, 0.20833333333333334, 0.25, 0.9583333333333334, 0.7083333333333334, 0.5, 0.08333333333333333, 0.75, 0.0, 0.9166666666666666, 0.4166666666666667, 0.2916666666666667, 0.20833333333333334, 0.4583333333333333, 0.8333333333333334, 0.7916666666666666, 0.3333333333333333, 0.2916666666666667, 0.041666666666666664, 0.16666666666666666, 0.625, 0.9166666666666666, 0.625, 0.4583333333333333, 0.4166666666666667, 0.16666666666666666, 0.9583333333333334, 0.7083333333333334, 0.5, 0.9583333333333334, 0.7916666666666666, 0.5833333333333334, 0.875, 0.6666666666666666, 0.625, 0.6666666666666666, 0.875, 0.9583333333333334, 0.2916666666666667, 0.16666666666666666, 0.5416666666666666, 0.25, 0.625, 1.0, 0.2916666666666667, 0.375, 0.3333333333333333, 0.3333333333333333, 0.875, 0.9583333333333334, 0.8333333333333334, 0.7916666666666666, 0.5, 0.375, 0.5416666666666666, 0.4583333333333333, 0.8333333333333334, 0.3333333333333333, 0.125, 0.25, 0.5833333333333334, 0.20833333333333334, 0.5416666666666666, 0.08333333333333333, 1.0, 0.75, 0.4166666666666667, 0.2916666666666667, 0.7083333333333334, 0.75, 0.16666666666666666, 0.0, 0.3333333333333333, 0.6666666666666666, 0.125, 0.8333333333333334, 0.16666666666666666, 0.375, 0.4583333333333333, 0.20833333333333334, 0.125, 0.6666666666666666, 0.5416666666666666, 0.16666666666666666, 0.16666666666666666, 0.75, 0.20833333333333334, 0.375, 0.9166666666666666, 0.2916666666666667, 0.20833333333333334, 0.5, 0.08333333333333333, 0.75, 0.9583333333333334, 0.75, 0.7916666666666666, 0.5, 0.6666666666666666, 0.8333333333333334, 0.3333333333333333, 0.3333333333333333, 0.5, 0.041666666666666664, 0.041666666666666664, 0.5416666666666666, 0.4166666666666667, 0.9166666666666666, 1.0, 0.2916666666666667, 0.25, 0.625, 0.125, 0.8333333333333334, 0.0, 0.625, 0.5833333333333334, 1.0, 0.9583333333333334, 0.375, 0.0, 0.4166666666666667, 0.125, 0.25, 0.75, 0.875, 0.20833333333333334, 0.9583333333333334, 0.6666666666666666, 1.0, 0.4166666666666667, 0.9583333333333334, 0.041666666666666664, 0.08333333333333333, 0.6666666666666666, 0.625, 0.5416666666666666, 0.041666666666666664, 0.4166666666666667, 0.6666666666666666, 0.375, 0.0, 1.0, 0.9166666666666666, 0.2916666666666667, 0.5, 0.875, 0.20833333333333334, 0.20833333333333334, 0.3333333333333333, 0.625, 0.9166666666666666, 0.5833333333333334, 0.25, 0.5833333333333334, 0.9583333333333334, 0.875, 0.875, 0.9583333333333334, 0.375, 0.7083333333333334, 0.5416666666666666, 0.7916666666666666, 0.9166666666666666, 0.6666666666666666, 0.20833333333333334, 0.4166666666666667, 0.8333333333333334, 0.2916666666666667, 0.25, 0.125, 0.4583333333333333, 0.08333333333333333, 0.7083333333333334, 0.125, 0.4583333333333333, 1.0, 0.4583333333333333, 0.5416666666666666, 0.2916666666666667, 0.9583333333333334, 0.625, 0.125, 0.4583333333333333, 0.375, 0.125, 0.125, 0.2916666666666667, 0.7083333333333334, 0.25, 0.4166666666666667, 0.7916666666666666, 0.5833333333333334, 0.9583333333333334, 0.375, 0.20833333333333334, 0.375, 0.4166666666666667, 0.0, 0.041666666666666664, 0.75, 0.25, 0.875, 0.20833333333333334, 0.9583333333333334, 0.8333333333333334, 0.041666666666666664, 0.75, 0.6666666666666666, 0.041666666666666664, 0.5416666666666666, 0.16666666666666666, 0.3333333333333333, 0.0, 0.5833333333333334, 0.9166666666666666, 0.9583333333333334, 0.3333333333333333, 0.125, 0.5416666666666666, 0.75, 1.0, 0.7083333333333334, 1.0, 0.9166666666666666, 0.5, 0.6666666666666666, 0.375, 0.625, 0.8333333333333334, 0.5833333333333334, 0.5416666666666666, 0.2916666666666667, 0.125, 0.5416666666666666, 0.2916666666666667, 0.3333333333333333, 0.4166666666666667, 0.125, 1.0, 0.3333333333333333, 1.0, 0.7916666666666666, 0.375, 0.9166666666666666, 0.7083333333333334, 0.8333333333333334, 0.16666666666666666, 0.25, 0.5416666666666666, 0.5833333333333334, 0.5833333333333334, 0.875, 0.7916666666666666, 0.6666666666666666, 0.5416666666666666, 0.20833333333333334, 0.75, 0.6666666666666666, 0.041666666666666664, 0.5833333333333334, 0.5833333333333334, 0.9583333333333334, 0.7916666666666666, 0.2916666666666667, 0.5416666666666666, 0.5833333333333334, 1.0, 0.9166666666666666, 0.041666666666666664, 0.5, 0.16666666666666666, 0.2916666666666667, 0.041666666666666664, 0.7083333333333334, 0.2916666666666667, 0.375, 0.20833333333333334, 0.625, 0.4166666666666667, 0.375, 0.7916666666666666, 0.0, 0.7916666666666666, 0.5, 0.9583333333333334, 0.5416666666666666, 0.75, 0.8333333333333334, 0.20833333333333334, 0.5833333333333334, 0.0, 0.25, 1.0, 0.7083333333333334, 0.25, 0.125, 0.041666666666666664, 0.6666666666666666, 0.20833333333333334, 0.5833333333333334, 0.5, 0.5416666666666666, 0.4166666666666667, 0.875, 0.7083333333333334, 0.5833333333333334, 0.5833333333333334, 0.875, 0.5416666666666666, 0.875, 0.0, 0.6666666666666666, 0.375, 0.6666666666666666, 0.75, 0.7083333333333334, 0.375, 0.0, 0.4583333333333333, 0.625, 0.5, 0.08333333333333333, 0.4166666666666667, 0.7083333333333334, 0.08333333333333333, 0.3333333333333333, 0.0, 0.25, 0.8333333333333334, 0.375, 0.20833333333333334, 0.041666666666666664, 0.08333333333333333, 0.75, 0.6666666666666666, 0.125, 0.2916666666666667, 0.8333333333333334, 0.8333333333333334, 0.5, 0.5, 0.7916666666666666, 0.16666666666666666, 0.5416666666666666, 0.5, 0.5, 0.875, 0.041666666666666664, 0.875, 1.0, 0.5416666666666666, 0.125, 0.20833333333333334, 0.6666666666666666, 0.2916666666666667, 0.75, 0.875, 0.25, 0.5416666666666666, 0.16666666666666666, 0.4583333333333333, 0.041666666666666664, 0.7083333333333334, 0.4166666666666667, 0.875, 0.2916666666666667, 0.3333333333333333, 0.7916666666666666, 0.25, 0.0, 0.8333333333333334, 1.0, 0.9583333333333334, 0.041666666666666664, 0.8333333333333334, 0.0, 0.9583333333333334, 0.8333333333333334, 0.5, 0.16666666666666666, 0.041666666666666664, 0.625, 0.5833333333333334, 0.75, 0.4166666666666667, 0.9166666666666666, 0.4166666666666667, 0.08333333333333333, 0.75, 0.0, 0.25, 0.6666666666666666, 0.75, 0.75, 0.4583333333333333, 0.16666666666666666, 0.4166666666666667, 0.8333333333333334, 0.4166666666666667, 0.5833333333333334, 0.75, 0.5, 0.2916666666666667, 0.4583333333333333, 0.3333333333333333, 0.7916666666666666, 0.6666666666666666, 0.08333333333333333, 0.4583333333333333, 0.7083333333333334, 0.16666666666666666, 0.25, 0.7916666666666666, 0.4166666666666667, 0.5833333333333334, 0.5, 0.16666666666666666, 0.4583333333333333, 0.20833333333333334, 0.0, 0.6666666666666666, 0.375, 1.0, 0.4583333333333333, 0.625, 1.0, 0.7083333333333334, 0.75, 0.875, 0.9583333333333334, 0.9166666666666666, 0.25, 0.8333333333333334, 0.08333333333333333, 0.2916666666666667, 0.875, 0.20833333333333334, 0.9166666666666666, 0.125, 0.20833333333333334, 0.08333333333333333, 0.875, 0.125, 0.16666666666666666, 1.0, 0.7916666666666666, 0.4583333333333333, 0.5, 0.041666666666666664, 0.625, 0.08333333333333333, 0.3333333333333333, 0.8333333333333334, 0.5416666666666666, 1.0, 0.3333333333333333, 0.4166666666666667, 0.375, 0.375, 0.3333333333333333, 0.9583333333333334, 0.8333333333333334, 0.5, 0.125, 0.041666666666666664, 0.2916666666666667, 0.3333333333333333, 0.5416666666666666, 0.7916666666666666, 0.08333333333333333, 0.6666666666666666, 0.8333333333333334, 0.7083333333333334, 0.08333333333333333, 0.041666666666666664, 0.875, 0.7916666666666666, 0.6666666666666666, 0.2916666666666667, 0.2916666666666667, 0.4166666666666667, 0.4166666666666667, 0.625, 0.4166666666666667, 0.4166666666666667, 0.75, 1.0, 0.08333333333333333, 0.3333333333333333, 0.625, 0.2916666666666667, 0.25, 0.8333333333333334, 0.6666666666666666, 0.375, 0.9583333333333334, 0.625, 0.875, 0.20833333333333334, 0.5833333333333334, 0.625, 0.4166666666666667, 0.7083333333333334, 0.16666666666666666, 0.5833333333333334, 0.16666666666666666, 0.375, 0.4166666666666667, 0.625, 0.5416666666666666, 0.75, 0.9583333333333334, 0.5416666666666666, 0.20833333333333334, 0.5, 0.9583333333333334, 0.9166666666666666, 0.20833333333333334, 0.2916666666666667, 0.25, 0.3333333333333333, 0.6666666666666666, 0.125, 0.9166666666666666, 0.375, 0.5, 0.6666666666666666, 0.5416666666666666, 0.041666666666666664, 0.16666666666666666, 0.5, 0.2916666666666667, 0.25, 0.375, 0.25, 0.16666666666666666, 0.9166666666666666, 0.8333333333333334, 0.4166666666666667, 0.875, 0.0, 0.8333333333333334, 0.6666666666666666, 0.4583333333333333, 0.08333333333333333, 0.5416666666666666, 0.375, 0.5833333333333334, 0.625, 0.75, 0.4583333333333333, 0.7916666666666666, 0.041666666666666664, 1.0, 0.4583333333333333, 0.7083333333333334, 0.08333333333333333, 0.0, 0.0, 0.4583333333333333, 0.041666666666666664, 0.7083333333333334, 0.25, 1.0, 0.4166666666666667, 0.0, 0.125, 0.9583333333333334, 0.5416666666666666, 0.625, 0.9166666666666666, 0.9583333333333334, 0.2916666666666667, 0.5416666666666666, 0.20833333333333334, 0.75, 0.75, 0.25, 0.75, 0.3333333333333333, 0.2916666666666667, 0.16666666666666666, 0.7916666666666666, 0.041666666666666664, 0.9166666666666666, 0.0, 0.5833333333333334, 0.4166666666666667, 0.3333333333333333, 0.4583333333333333, 0.6666666666666666, 0.2916666666666667, 0.25, 0.4583333333333333, 0.4583333333333333, 0.75, 0.5, 0.5833333333333334, 0.20833333333333334, 0.875, 0.16666666666666666, 0.5416666666666666, 0.20833333333333334, 0.20833333333333334, 0.4166666666666667, 0.7916666666666666, 0.041666666666666664, 0.3333333333333333, 0.8333333333333334, 1.0, 0.5416666666666666, 1.0, 1.0, 0.125, 0.6666666666666666, 0.375, 0.25, 0.16666666666666666, 0.7916666666666666, 0.5833333333333334, 0.08333333333333333, 0.9166666666666666, 0.125, 0.08333333333333333, 0.4166666666666667, 0.3333333333333333, 0.75, 0.375, 0.9166666666666666, 0.25, 0.9583333333333334, 0.5416666666666666, 0.125, 0.041666666666666664, 0.125, 0.9166666666666666, 1.0, 0.2916666666666667, 0.7916666666666666, 0.6666666666666666, 0.16666666666666666, 0.875, 0.2916666666666667, 0.375, 0.8333333333333334, 1.0, 0.625, 0.08333333333333333, 0.25, 0.9166666666666666, 0.6666666666666666, 0.5416666666666666, 0.8333333333333334, 0.7916666666666666, 1.0, 0.041666666666666664, 0.875, 0.0, 0.9166666666666666, 1.0, 0.6666666666666666, 0.375, 0.4583333333333333, 0.08333333333333333, 0.375, 0.4583333333333333, 0.08333333333333333, 0.375, 0.8333333333333334, 0.125, 0.5833333333333334, 0.041666666666666664, 0.25, 0.2916666666666667, 0.3333333333333333, 0.4166666666666667, 0.6666666666666666, 0.5416666666666666, 0.4166666666666667, 0.2916666666666667, 0.16666666666666666, 0.375, 0.8333333333333334, 0.4166666666666667, 0.3333333333333333, 0.4166666666666667, 0.4583333333333333, 0.041666666666666664, 0.7916666666666666, 0.3333333333333333, 0.8333333333333334, 0.0, 0.7083333333333334, 0.7083333333333334, 0.9583333333333334, 0.20833333333333334, 0.5, 0.8333333333333334, 0.08333333333333333, 0.75, 0.125, 0.041666666666666664, 1.0, 0.875, 0.9583333333333334, 1.0, 0.625, 0.08333333333333333, 0.9583333333333334, 0.125, 0.6666666666666666, 0.6666666666666666, 0.5833333333333334, 0.20833333333333334, 0.9583333333333334, 0.7916666666666666, 1.0, 0.625, 0.4166666666666667, 0.7916666666666666, 0.875, 0.8333333333333334, 0.08333333333333333, 0.9166666666666666, 0.75, 0.9166666666666666, 0.3333333333333333, 0.0, 0.75, 0.4166666666666667, 0.3333333333333333, 0.20833333333333334, 0.16666666666666666, 0.0, 0.25, 0.7916666666666666, 0.625, 0.5416666666666666, 0.875, 0.2916666666666667, 0.375, 0.7916666666666666, 0.041666666666666664, 0.75, 0.2916666666666667, 0.7916666666666666, 0.375, 0.75, 0.3333333333333333, 0.16666666666666666, 0.4583333333333333, 0.5833333333333334, 0.3333333333333333, 0.0, 0.375, 0.25, 0.08333333333333333, 0.08333333333333333, 0.125, 0.4166666666666667, 0.6666666666666666, 0.375, 0.5416666666666666, 0.0, 0.5833333333333334, 0.75, 0.20833333333333334, 0.0, 0.4583333333333333, 0.25, 0.16666666666666666, 1.0, 0.7083333333333334, 0.5416666666666666, 0.5833333333333334, 0.7083333333333334, 0.7083333333333334, 0.4583333333333333, 0.5416666666666666, 0.75, 0.4583333333333333, 0.125, 0.625, 0.0, 0.5, 0.3333333333333333, 0.4583333333333333, 0.7916666666666666, 0.6666666666666666, 0.4583333333333333, 0.625, 0.2916666666666667, 0.25, 0.5416666666666666, 0.375, 0.5416666666666666, 0.4583333333333333, 0.7083333333333334, 0.8333333333333334, 0.16666666666666666, 0.7083333333333334, 0.8333333333333334, 0.6666666666666666, 0.08333333333333333, 0.125, 0.75, 0.375, 0.0, 0.7916666666666666, 0.4166666666666667, 0.25, 1.0, 0.5833333333333334, 0.5416666666666666, 0.16666666666666666, 0.08333333333333333, 0.4583333333333333, 0.75, 0.5, 0.5416666666666666, 0.08333333333333333, 0.75, 0.9583333333333334, 0.5833333333333334, 0.625, 0.9583333333333334, 0.7916666666666666, 0.5833333333333334, 0.8333333333333334, 0.5833333333333334, 0.9583333333333334, 0.75, 0.125, 0.7916666666666666, 0.4583333333333333, 0.5833333333333334, 0.0, 0.041666666666666664, 0.4583333333333333, 0.7916666666666666, 0.25, 0.16666666666666666, 0.0, 1.0, 0.20833333333333334, 0.3333333333333333, 0.375, 0.625, 0.7916666666666666, 0.875, 0.25, 0.5, 0.3333333333333333, 0.08333333333333333, 0.625, 0.6666666666666666, 0.5416666666666666, 0.9166666666666666, 0.5833333333333334, 1.0, 0.5, 0.25, 0.20833333333333334, 0.4166666666666667, 0.7083333333333334, 0.041666666666666664, 0.375, 0.20833333333333334, 0.375, 0.375, 0.5833333333333334, 0.5, 0.08333333333333333, 0.041666666666666664, 0.5833333333333334, 0.9583333333333334, 0.5, 0.16666666666666666, 0.25, 0.375, 0.5, 0.375, 0.3333333333333333, 0.4583333333333333, 0.8333333333333334, 0.4166666666666667, 0.2916666666666667, 0.75, 0.7083333333333334, 0.7916666666666666, 0.16666666666666666, 0.9583333333333334, 0.5416666666666666, 1.0, 0.9166666666666666, 0.5, 0.625, 0.5833333333333334, 0.4583333333333333, 0.5, 0.0, 0.125, 0.2916666666666667, 0.3333333333333333, 0.7916666666666666, 0.0, 0.20833333333333334, 1.0, 0.875, 0.75, 0.2916666666666667, 0.3333333333333333, 0.375, 0.5, 0.20833333333333334, 0.25, 0.7916666666666666, 0.5833333333333334, 0.375, 0.7083333333333334, 0.7083333333333334, 0.2916666666666667, 0.5833333333333334, 0.5833333333333334, 0.25, 0.9583333333333334, 0.08333333333333333, 0.4166666666666667, 0.7083333333333334, 0.3333333333333333, 0.3333333333333333, 0.041666666666666664, 0.3333333333333333, 0.8333333333333334, 0.2916666666666667, 0.9583333333333334, 0.8333333333333334, 0.0, 0.5833333333333334, 0.20833333333333334, 0.2916666666666667, 0.9166666666666666, 0.16666666666666666, 0.8333333333333334, 0.25, 0.08333333333333333, 0.5416666666666666, 0.8333333333333334, 0.9583333333333334, 0.9583333333333334, 0.7916666666666666, 0.4583333333333333, 0.4583333333333333, 0.9583333333333334, 0.16666666666666666, 0.7083333333333334, 0.75, 0.16666666666666666, 0.041666666666666664, 0.375, 0.7083333333333334, 0.08333333333333333, 0.041666666666666664, 0.625, 0.041666666666666664, 0.16666666666666666, 0.25, 0.2916666666666667, 0.9166666666666666, 0.5416666666666666, 0.3333333333333333, 0.3333333333333333, 0.9583333333333334, 1.0, 0.625, 0.75, 0.5416666666666666, 0.16666666666666666, 1.0, 1.0, 0.7083333333333334, 0.7916666666666666, 0.4166666666666667, 0.6666666666666666, 0.0, 1.0, 0.20833333333333334, 0.9166666666666666, 0.6666666666666666, 0.625, 0.08333333333333333, 0.08333333333333333, 0.625, 0.9583333333333334, 0.8333333333333334, 0.16666666666666666, 0.4166666666666667, 0.875, 0.20833333333333334, 0.75, 0.75, 0.25, 0.375, 0.375, 0.7916666666666666, 0.375, 0.4166666666666667, 0.6666666666666666, 0.5416666666666666, 0.9166666666666666, 0.625, 0.20833333333333334, 0.0, 0.125, 0.9166666666666666, 0.5833333333333334, 0.9583333333333334, 0.5416666666666666, 0.7083333333333334, 0.3333333333333333, 0.20833333333333334, 0.0, 1.0, 0.5416666666666666, 0.041666666666666664, 0.5833333333333334, 0.041666666666666664, 0.20833333333333334, 0.0, 0.7916666666666666, 0.8333333333333334, 0.0, 0.6666666666666666, 0.25, 0.8333333333333334, 0.7083333333333334, 0.2916666666666667, 1.0, 0.3333333333333333, 0.6666666666666666, 0.20833333333333334, 0.041666666666666664, 0.5, 0.5, 0.5, 0.75, 0.20833333333333334, 0.7916666666666666, 0.2916666666666667, 0.7916666666666666, 0.5833333333333334, 0.3333333333333333, 0.875, 0.875, 0.4166666666666667, 0.3333333333333333, 0.2916666666666667, 0.25, 0.08333333333333333, 0.20833333333333334, 0.5416666666666666, 0.6666666666666666, 0.5833333333333334, 0.5, 0.20833333333333334, 0.9166666666666666, 0.4583333333333333, 0.125, 0.9166666666666666, 0.625, 0.16666666666666666, 1.0, 0.625, 0.75, 0.625, 0.5, 0.625, 0.7083333333333334, 0.75, 0.625, 0.3333333333333333, 0.08333333333333333, 0.8333333333333334, 0.4583333333333333, 0.2916666666666667, 0.125, 0.25, 0.20833333333333334, 0.4583333333333333, 0.25, 0.625, 0.4583333333333333, 0.5, 0.20833333333333334, 0.16666666666666666, 0.7916666666666666, 0.75, 0.7083333333333334, 0.9583333333333334, 0.041666666666666664, 0.125, 0.375, 0.7083333333333334, 0.2916666666666667, 0.20833333333333334, 0.5416666666666666, 0.375, 0.041666666666666664, 0.25, 0.7916666666666666, 0.9583333333333334, 0.5416666666666666, 0.08333333333333333, 0.625, 0.375, 0.4583333333333333, 0.3333333333333333, 0.625, 0.16666666666666666, 0.625, 0.5416666666666666, 0.8333333333333334, 0.08333333333333333, 0.5416666666666666, 0.9166666666666666, 0.9583333333333334, 0.625, 0.7083333333333334, 0.5, 0.9166666666666666, 0.4166666666666667, 0.5416666666666666, 0.7916666666666666, 0.7916666666666666, 0.7916666666666666, 0.5416666666666666, 0.9166666666666666, 0.375, 0.20833333333333334, 0.7916666666666666, 0.4583333333333333, 0.16666666666666666, 0.4166666666666667, 0.4583333333333333, 0.125, 0.08333333333333333, 0.041666666666666664, 0.4583333333333333, 1.0, 0.375, 1.0, 0.625, 1.0, 0.875, 0.2916666666666667, 0.9166666666666666, 0.16666666666666666, 0.08333333333333333, 0.3333333333333333, 0.6666666666666666, 0.75, 0.8333333333333334, 0.625, 0.08333333333333333, 0.625, 0.125, 0.08333333333333333, 0.5, 0.5833333333333334, 0.08333333333333333, 0.625, 0.5, 0.625, 0.9166666666666666, 0.7083333333333334, 0.0, 0.6666666666666666, 0.3333333333333333, 0.25, 0.625, 0.8333333333333334, 0.5416666666666666, 0.4166666666666667, 0.041666666666666664, 0.5, 0.75, 0.08333333333333333, 0.7916666666666666, 0.6666666666666666, 0.5416666666666666, 1.0, 0.041666666666666664, 0.5833333333333334, 0.20833333333333334, 0.4166666666666667, 0.4166666666666667, 0.5833333333333334, 0.7916666666666666, 0.20833333333333334, 0.625, 0.625, 0.6666666666666666, 0.2916666666666667, 0.041666666666666664, 0.9583333333333334, 0.625, 0.4166666666666667, 0.75, 0.7916666666666666, 0.375, 0.4166666666666667, 0.9583333333333334, 0.7916666666666666, 0.041666666666666664, 0.041666666666666664, 0.16666666666666666, 0.8333333333333334, 0.4583333333333333, 0.75, 0.7083333333333334, 0.9166666666666666, 0.75, 0.25, 0.4583333333333333, 0.4166666666666667, 0.9166666666666666, 0.3333333333333333, 0.5416666666666666, 0.4166666666666667, 0.3333333333333333, 0.625, 0.875, 0.16666666666666666, 0.4166666666666667, 0.20833333333333334, 0.7083333333333334, 0.6666666666666666, 0.5, 0.7916666666666666, 0.4583333333333333, 0.75, 0.0, 0.6666666666666666, 0.7916666666666666, 0.4166666666666667, 0.625, 0.4166666666666667, 0.20833333333333334, 0.16666666666666666, 0.16666666666666666, 0.75, 0.6666666666666666, 0.75, 0.7916666666666666, 0.4166666666666667, 0.7083333333333334, 1.0, 0.5833333333333334, 0.5416666666666666, 0.3333333333333333, 0.5833333333333334, 0.3333333333333333, 0.0, 0.0, 0.041666666666666664, 0.7083333333333334, 0.041666666666666664, 0.9166666666666666, 0.9166666666666666, 0.2916666666666667, 0.16666666666666666, 1.0, 0.9166666666666666, 0.25, 0.9166666666666666, 0.4583333333333333, 0.20833333333333334, 0.20833333333333334, 0.9166666666666666, 0.08333333333333333, 0.75, 0.875, 0.16666666666666666, 0.7083333333333334, 0.0, 0.875, 0.125, 0.2916666666666667, 0.6666666666666666, 0.9166666666666666, 0.75, 0.16666666666666666, 0.5833333333333334, 0.875, 1.0, 0.4583333333333333, 0.08333333333333333, 0.08333333333333333, 0.125, 0.4583333333333333, 0.0, 0.25, 0.0, 0.3333333333333333, 0.4583333333333333, 0.125, 0.4166666666666667, 0.5, 0.16666666666666666, 0.5416666666666666, 0.4166666666666667, 0.4166666666666667, 0.25, 0.7083333333333334, 0.75, 0.75, 0.625, 0.16666666666666666, 0.4583333333333333, 0.9166666666666666, 0.5833333333333334, 0.375, 0.375, 0.9583333333333334, 0.9583333333333334, 0.8333333333333334, 0.6666666666666666, 0.2916666666666667, 0.7916666666666666, 0.3333333333333333, 0.9166666666666666, 0.4166666666666667, 0.5833333333333334, 0.8333333333333334, 0.8333333333333334, 0.5833333333333334, 0.7083333333333334, 0.8333333333333334, 0.041666666666666664, 0.6666666666666666, 0.2916666666666667, 0.375, 0.7916666666666666, 0.5833333333333334, 0.2916666666666667, 0.625, 0.375, 0.875, 0.75, 0.25, 0.7083333333333334, 0.7083333333333334, 0.5416666666666666, 0.08333333333333333, 0.7916666666666666, 0.25, 0.6666666666666666, 0.5, 0.9166666666666666, 0.25, 0.9166666666666666, 0.125, 0.25, 0.75, 0.2916666666666667, 0.0, 0.7083333333333334, 0.9166666666666666, 0.875, 0.041666666666666664, 0.9166666666666666, 0.4583333333333333, 0.75, 0.0, 0.2916666666666667, 0.20833333333333334, 0.8333333333333334, 0.5416666666666666, 1.0, 0.5833333333333334, 0.041666666666666664, 0.375, 0.75, 0.25, 0.08333333333333333, 0.25, 0.0, 0.5, 0.08333333333333333, 0.7083333333333334, 1.0, 0.16666666666666666, 0.625, 0.9583333333333334, 0.6666666666666666, 0.9583333333333334, 0.5416666666666666, 0.125, 0.375, 0.5833333333333334, 0.5416666666666666, 0.375, 0.375, 0.7916666666666666, 0.4166666666666667, 0.0, 0.3333333333333333, 0.375, 0.5416666666666666, 0.3333333333333333, 0.16666666666666666, 0.5, 0.08333333333333333, 0.25, 0.2916666666666667, 0.2916666666666667, 0.20833333333333334, 0.0, 0.20833333333333334, 0.625, 1.0, 0.4166666666666667, 0.5416666666666666, 0.16666666666666666, 0.5, 0.4166666666666667, 0.125, 0.5, 0.7083333333333334, 0.5, 0.875, 0.125, 0.4583333333333333, 0.5833333333333334, 0.6666666666666666, 0.16666666666666666, 0.25, 0.7083333333333334, 0.4166666666666667, 0.4166666666666667, 0.7916666666666666, 0.08333333333333333, 0.8333333333333334, 0.625, 0.8333333333333334, 0.041666666666666664, 0.7916666666666666, 0.5416666666666666, 0.625, 0.6666666666666666, 0.75, 0.7083333333333334, 0.20833333333333334, 0.625, 0.6666666666666666, 0.75, 0.08333333333333333, 0.08333333333333333, 0.041666666666666664, 0.625, 0.041666666666666664, 0.08333333333333333, 0.0, 0.2916666666666667, 0.6666666666666666, 0.625, 0.16666666666666666, 0.7916666666666666, 0.875, 0.9166666666666666, 0.5416666666666666, 0.5833333333333334, 0.9583333333333334, 0.08333333333333333, 0.8333333333333334, 0.5416666666666666, 0.4583333333333333, 0.2916666666666667, 0.9166666666666666, 0.2916666666666667, 0.16666666666666666, 0.5833333333333334, 0.8333333333333334, 0.625, 0.4166666666666667, 0.125, 0.9166666666666666, 0.875, 1.0, 0.625, 1.0, 0.9583333333333334, 0.7916666666666666, 0.5, 0.20833333333333334, 0.16666666666666666, 0.4583333333333333, 0.75, 0.08333333333333333, 0.2916666666666667, 0.16666666666666666, 0.125, 0.7083333333333334, 0.08333333333333333, 0.5833333333333334, 0.75, 0.4166666666666667, 0.5833333333333334, 0.5416666666666666, 0.041666666666666664, 0.5833333333333334, 0.75, 0.16666666666666666, 0.0, 0.2916666666666667, 0.20833333333333334, 0.16666666666666666, 0.4166666666666667, 0.875, 0.4583333333333333, 0.625, 0.4583333333333333, 0.75, 0.625, 0.2916666666666667, 0.7083333333333334, 1.0, 0.125, 0.20833333333333334, 0.7916666666666666, 0.16666666666666666, 0.5416666666666666, 0.625, 0.75, 0.20833333333333334, 0.5, 0.4166666666666667, 0.3333333333333333, 0.375, 0.625, 0.375, 0.25, 0.5833333333333334, 0.125, 0.625, 0.4583333333333333, 0.20833333333333334, 0.4583333333333333, 0.125, 0.8333333333333334, 0.4583333333333333, 0.0, 0.9583333333333334, 0.7083333333333334, 0.9583333333333334, 0.125, 0.5, 1.0, 0.4166666666666667, 0.875, 0.7083333333333334, 0.8333333333333334, 0.4583333333333333, 0.25, 0.8333333333333334, 0.375, 0.041666666666666664, 0.9166666666666666, 0.2916666666666667, 0.2916666666666667, 0.3333333333333333, 0.7083333333333334, 0.7083333333333334, 0.6666666666666666, 0.4166666666666667, 0.9583333333333334, 0.7916666666666666, 0.5416666666666666, 0.8333333333333334, 0.125, 0.0, 0.25, 0.625, 0.5416666666666666, 0.2916666666666667, 0.041666666666666664, 0.5416666666666666, 0.5416666666666666, 0.375, 0.5416666666666666, 0.20833333333333334, 0.5, 0.08333333333333333, 0.75, 0.75, 0.875, 0.4166666666666667, 0.4166666666666667, 0.8333333333333334, 0.3333333333333333, 0.5, 0.5, 0.3333333333333333, 0.5, 0.75, 0.4583333333333333, 0.7083333333333334, 0.7083333333333334, 0.4583333333333333, 0.375, 0.5, 0.7083333333333334, 0.3333333333333333, 0.4583333333333333, 0.5416666666666666, 0.625, 0.20833333333333334, 0.7916666666666666, 0.4583333333333333, 0.20833333333333334, 0.7916666666666666, 0.7083333333333334, 0.16666666666666666, 0.4166666666666667, 0.08333333333333333, 0.5, 0.5416666666666666, 0.375, 0.16666666666666666, 0.5833333333333334, 0.6666666666666666, 0.5416666666666666, 0.875, 0.08333333333333333, 0.3333333333333333, 0.9583333333333334, 0.5833333333333334, 0.5833333333333334, 0.125, 0.75, 0.5416666666666666, 0.4583333333333333, 0.125, 0.9166666666666666, 0.6666666666666666, 0.3333333333333333, 0.5833333333333334, 0.9583333333333334, 0.5, 0.75, 1.0, 0.9166666666666666, 0.7916666666666666, 0.4583333333333333, 0.8333333333333334, 0.16666666666666666, 0.875, 0.9166666666666666, 1.0, 0.625, 0.20833333333333334, 0.8333333333333334, 0.0, 0.5, 0.125, 0.375, 0.125, 0.6666666666666666, 0.125, 0.625, 0.25, 0.041666666666666664, 0.041666666666666664, 0.75, 0.8333333333333334, 0.0, 0.6666666666666666, 0.4166666666666667, 0.16666666666666666, 0.16666666666666666, 0.7083333333333334, 0.125, 1.0, 0.4583333333333333, 0.4166666666666667, 0.7916666666666666, 0.9166666666666666, 0.041666666666666664, 0.9583333333333334, 0.20833333333333334, 0.6666666666666666, 0.8333333333333334, 0.625, 0.5, 0.041666666666666664, 0.0, 0.375, 0.875, 0.16666666666666666, 0.7916666666666666, 0.5833333333333334, 0.7083333333333334, 0.4583333333333333, 0.20833333333333334, 0.5833333333333334, 0.7083333333333334, 0.375, 0.375, 0.375, 0.75, 0.041666666666666664, 0.9166666666666666, 0.7083333333333334, 0.4166666666666667, 0.8333333333333334, 0.2916666666666667, 0.3333333333333333, 1.0, 0.20833333333333334, 0.875, 0.2916666666666667, 0.9166666666666666, 0.375, 0.625, 0.3333333333333333, 0.08333333333333333, 0.9583333333333334, 0.25, 0.3333333333333333, 0.8333333333333334, 0.041666666666666664, 0.25, 1.0, 0.9166666666666666, 0.375, 0.4166666666666667, 0.7083333333333334, 0.5833333333333334, 0.625, 0.4583333333333333, 0.041666666666666664, 0.7916666666666666, 1.0, 0.125, 0.6666666666666666, 0.08333333333333333, 0.75, 0.9166666666666666, 0.9583333333333334, 0.5833333333333334, 0.9166666666666666, 0.4583333333333333, 0.9583333333333334, 0.125, 0.041666666666666664, 0.8333333333333334, 0.875, 0.5, 0.08333333333333333, 0.16666666666666666, 0.5, 1.0, 0.9166666666666666, 0.75, 0.9166666666666666, 0.5, 1.0, 0.20833333333333334, 0.5, 0.25, 0.375, 0.25, 0.4583333333333333, 0.4166666666666667, 0.875, 0.4166666666666667, 0.6666666666666666, 0.7916666666666666, 0.0, 0.08333333333333333, 0.08333333333333333, 1.0, 0.4583333333333333, 0.6666666666666666, 0.4166666666666667, 1.0, 0.875, 0.08333333333333333, 0.2916666666666667, 0.5416666666666666, 0.375, 0.875, 0.4583333333333333, 0.375, 0.25, 0.5, 0.9583333333333334, 0.75, 0.375, 0.7916666666666666, 0.25, 0.5416666666666666, 0.8333333333333334, 0.4583333333333333, 0.2916666666666667, 0.9166666666666666, 0.3333333333333333, 0.16666666666666666, 0.4166666666666667, 0.5833333333333334, 0.20833333333333334, 0.4583333333333333, 0.5833333333333334, 0.7083333333333334, 0.5833333333333334, 0.5416666666666666, 0.875, 0.7916666666666666, 0.4583333333333333, 0.7916666666666666, 0.5833333333333334, 0.375, 0.5, 0.5416666666666666, 0.9166666666666666, 0.0, 0.2916666666666667, 0.9583333333333334, 0.3333333333333333, 0.16666666666666666, 0.9583333333333334, 0.041666666666666664, 0.5, 0.5416666666666666, 1.0, 0.20833333333333334, 0.625, 0.4583333333333333, 0.7083333333333334, 0.125, 0.4166666666666667, 0.5833333333333334, 0.125, 1.0, 0.875, 0.4166666666666667, 0.2916666666666667, 0.9166666666666666, 0.041666666666666664, 0.6666666666666666, 0.625, 0.5416666666666666, 0.875, 0.6666666666666666, 0.75, 0.3333333333333333, 0.875, 0.9583333333333334, 0.25, 0.5833333333333334, 0.25, 0.4583333333333333, 0.16666666666666666, 0.5416666666666666, 0.25, 0.5833333333333334, 0.0, 0.75, 0.75, 0.7916666666666666, 0.75, 0.2916666666666667, 0.5416666666666666, 0.7083333333333334, 0.875, 0.20833333333333334, 0.9166666666666666, 0.8333333333333334, 0.7083333333333334, 0.4583333333333333, 0.16666666666666666, 0.041666666666666664, 0.5, 0.625, 0.625, 0.8333333333333334, 0.625, 0.625, 0.7083333333333334, 0.7083333333333334, 0.5416666666666666, 0.4583333333333333, 0.625, 0.6666666666666666, 0.8333333333333334, 0.9583333333333334, 0.041666666666666664, 0.75, 0.6666666666666666, 0.9166666666666666, 0.25, 0.7916666666666666, 0.5416666666666666, 0.75, 0.16666666666666666, 0.25, 0.375, 0.20833333333333334, 1.0, 0.5833333333333334, 0.25, 0.3333333333333333, 0.5416666666666666, 0.625, 0.7083333333333334, 0.5833333333333334, 0.7916666666666666, 0.041666666666666664, 0.7083333333333334, 0.041666666666666664, 0.0, 0.0, 0.7916666666666666, 0.2916666666666667, 0.5, 0.875, 0.20833333333333334, 0.0, 0.5, 0.9583333333333334, 0.041666666666666664, 0.625, 0.2916666666666667, 0.625, 0.16666666666666666, 0.625, 0.5833333333333334, 0.7083333333333334, 0.625, 0.7083333333333334, 0.9583333333333334, 0.16666666666666666, 0.2916666666666667, 0.75, 0.625, 0.9583333333333334, 0.041666666666666664, 0.8333333333333334, 0.6666666666666666, 0.2916666666666667, 1.0, 0.9166666666666666, 0.16666666666666666, 0.08333333333333333, 0.0, 0.375, 0.7083333333333334, 0.375, 0.0, 0.6666666666666666, 0.08333333333333333, 0.3333333333333333, 1.0, 0.6666666666666666, 0.6666666666666666, 0.625, 0.25, 0.875, 0.125, 0.041666666666666664, 0.5416666666666666, 0.4583333333333333, 0.2916666666666667, 0.6666666666666666, 0.6666666666666666, 0.0, 0.08333333333333333, 0.5416666666666666, 0.5833333333333334, 0.041666666666666664, 0.875, 0.4583333333333333, 0.4166666666666667, 0.75, 0.8333333333333334, 0.375, 0.20833333333333334, 0.041666666666666664, 0.625, 0.625, 0.041666666666666664, 0.041666666666666664, 0.0, 0.5833333333333334, 0.6666666666666666, 1.0, 0.4166666666666667, 0.2916666666666667, 0.125, 0.5, 0.5833333333333334, 0.08333333333333333, 0.5, 0.6666666666666666, 1.0, 0.4166666666666667, 0.875, 0.5416666666666666, 0.08333333333333333, 0.041666666666666664, 0.7083333333333334, 0.9166666666666666, 0.875, 0.041666666666666664, 0.0, 0.9166666666666666, 0.5833333333333334, 0.7916666666666666, 0.08333333333333333, 0.875, 0.9166666666666666, 0.3333333333333333, 0.08333333333333333, 0.125, 0.125, 0.5, 0.08333333333333333, 0.16666666666666666, 0.5, 0.041666666666666664, 0.041666666666666664, 0.5, 0.7083333333333334, 0.625, 0.125, 0.0, 0.375, 0.4583333333333333, 0.875, 0.4166666666666667, 0.4166666666666667, 0.25, 0.625, 0.8333333333333334, 0.041666666666666664, 0.4583333333333333, 0.5416666666666666, 0.20833333333333334, 0.5, 0.9583333333333334, 0.4583333333333333, 0.9583333333333334, 0.16666666666666666, 0.5416666666666666, 0.2916666666666667, 0.16666666666666666, 0.9166666666666666, 0.5416666666666666, 0.7916666666666666, 0.4583333333333333, 0.9583333333333334, 0.8333333333333334, 0.375, 0.75, 0.08333333333333333, 0.3333333333333333, 0.9166666666666666, 0.125, 0.25, 0.0, 0.041666666666666664, 0.5, 0.041666666666666664, 0.875, 0.4583333333333333, 0.375, 0.2916666666666667, 1.0, 0.75, 0.5833333333333334, 1.0, 0.6666666666666666, 0.4166666666666667, 0.4583333333333333, 0.20833333333333334, 0.0, 0.7916666666666666, 0.7916666666666666, 0.0, 0.125, 0.25, 1.0, 0.9166666666666666, 0.625, 0.6666666666666666, 0.4166666666666667, 0.4166666666666667, 0.875, 0.3333333333333333, 0.9166666666666666, 0.0, 0.20833333333333334, 0.7916666666666666, 0.2916666666666667, 0.75, 1.0, 0.08333333333333333, 0.7916666666666666, 0.7083333333333334, 0.6666666666666666, 0.20833333333333334, 1.0, 0.75, 0.75, 0.6666666666666666, 0.5416666666666666, 0.75, 0.625, 0.375, 0.9583333333333334, 0.4166666666666667, 0.0, 0.0, 0.5, 0.4166666666666667, 0.7916666666666666, 0.5416666666666666, 0.4166666666666667, 0.25, 0.2916666666666667, 0.5416666666666666, 0.9166666666666666, 0.0, 0.5833333333333334, 0.5, 0.4583333333333333, 0.041666666666666664, 0.6666666666666666, 0.20833333333333334, 1.0, 0.5833333333333334, 0.875, 1.0, 0.625, 0.7916666666666666, 0.625, 0.25, 0.2916666666666667, 0.2916666666666667, 0.875, 0.625, 0.2916666666666667, 0.041666666666666664, 0.5416666666666666, 0.7916666666666666, 0.5416666666666666, 0.8333333333333334, 0.7916666666666666, 0.125, 0.20833333333333334, 0.5, 0.7083333333333334, 0.08333333333333333, 0.08333333333333333, 0.8333333333333334, 0.625, 0.3333333333333333, 0.4583333333333333, 0.08333333333333333, 0.625, 0.08333333333333333, 0.20833333333333334, 0.5, 0.5833333333333334, 0.9583333333333334, 0.2916666666666667, 0.08333333333333333, 0.375, 0.08333333333333333, 0.25, 0.2916666666666667, 0.4166666666666667, 0.8333333333333334, 0.9166666666666666, 0.9583333333333334, 0.5833333333333334, 0.041666666666666664, 0.375, 0.3333333333333333, 0.6666666666666666, 0.75, 0.5833333333333334, 0.7083333333333334, 0.875, 0.08333333333333333, 0.08333333333333333, 0.875, 0.125, 0.6666666666666666, 0.3333333333333333, 0.6666666666666666, 0.125, 1.0, 0.041666666666666664, 0.3333333333333333, 0.7916666666666666, 0.875, 0.20833333333333334, 0.5416666666666666, 0.5, 0.375, 0.125, 0.4583333333333333, 1.0, 0.7083333333333334, 0.375, 0.3333333333333333, 0.125, 0.8333333333333334, 0.4583333333333333, 0.5416666666666666, 0.9166666666666666, 0.625, 0.16666666666666666, 0.3333333333333333, 0.625, 0.9583333333333334, 0.125, 0.75, 0.125, 0.5833333333333334, 0.08333333333333333, 0.5, 0.2916666666666667, 0.08333333333333333, 0.5416666666666666, 0.9583333333333334, 0.20833333333333334, 0.08333333333333333, 0.4583333333333333, 0.0, 0.9583333333333334, 0.5416666666666666, 0.2916666666666667, 0.7916666666666666, 0.0, 0.6666666666666666, 0.4583333333333333, 0.7083333333333334, 0.08333333333333333, 0.25, 0.20833333333333334, 0.5833333333333334, 0.3333333333333333, 0.20833333333333334, 0.125, 0.16666666666666666, 0.375, 0.041666666666666664, 0.625, 0.875, 0.5416666666666666, 0.08333333333333333, 0.9166666666666666, 0.5, 0.16666666666666666, 0.041666666666666664, 0.16666666666666666, 1.0, 0.5416666666666666, 0.3333333333333333, 0.6666666666666666, 0.08333333333333333, 0.4166666666666667, 0.375, 0.4166666666666667, 0.875, 0.6666666666666666, 0.041666666666666664, 0.8333333333333334, 1.0, 0.2916666666666667, 0.125, 0.4166666666666667, 0.9166666666666666, 0.4166666666666667, 0.5, 0.5416666666666666, 0.9166666666666666, 0.875, 0.25, 0.2916666666666667, 0.7916666666666666, 0.16666666666666666, 0.625, 0.7083333333333334, 0.875, 0.3333333333333333, 0.875, 0.375, 0.2916666666666667, 0.20833333333333334, 0.3333333333333333, 0.0]\n",
            "[0.09412804, 0.1782796, 0.41340318, 0.31398225, 0.31732917, 0.71167314, 0.027765214, 0.008975983, 0.07531065, 0.76212263, 0.22741887, 0.59000874, 0.37432006, -0.00040075183, 0.52722067, 0.52440095, 0.31039354, 0.053607225, 0.73321635, 0.016211659, 0.07123315, 0.2946986, 0.4329654, 0.16487, 0.79915327, 0.3590043, 0.10075264, 0.094846964, 0.21329215, 0.4037294, 0.17670982, 0.5345042, 0.08638877, 0.060186118, 0.32106638, 0.14951865, 0.046737045, 0.46627647, 0.5949467, 0.4441034, 0.0032157898, 0.023513794, 0.25724655, 0.13127996, 0.3679197, 0.12078604, 0.47584283, 0.11735508, 0.4111046, 0.1561342, 0.9109677, 0.114631966, 0.39166483, -0.0013250709, 0.21386294, 0.13548817, 0.33291608, 0.23392397, 0.35311663, 0.38620198, 0.4168051, 0.33491862, 0.17683724, 0.0961504, 0.15477996, 0.35738686, 0.9191495, 0.4751614, 0.42787322, 0.30169135, 0.05782354, 0.64052343, 0.76931214, 0.50093603, 0.51232874, 0.4597781, 0.5342145, 0.2947863, 0.3783237, 0.3526826, 0.8678869, 0.26169032, 0.26298434, 0.058104068, 0.19561125, 0.28814456, 0.28323284, 0.7509811, 0.5268493, 0.24718276, 0.3867355, 0.274652, 0.31594318, 1.0251806, 0.64052343, 0.25724643, 0.51066744, 0.48641098, 0.39775175, 0.4037294, 0.3573675, 0.70819825, 0.13820554, 0.1541592, 0.11735521, 0.6235181, 0.09412804, 0.50503594, 0.1800946, 0.17709424, 0.22995755, 0.44230455, 0.27079403, 0.35708168, 0.78867567, 0.24005184, 0.07844642, 0.31594318, 0.54213053, 0.029006958, 0.9852351, 0.027765214, 0.07363713, 0.07531065, 0.2431181, 0.15566905, 0.3244221, 0.4008137, 0.19561125, 0.39591068, 0.33573824, 0.043552488, 0.06340599, 0.24575016, 0.66327584, 0.10502367, 0.2744784, 0.014515728, 0.12986976, 0.499447, 0.5480335, 0.4168051, 0.5106412, 0.4441034, 0.10946661, 0.33491862, 0.8492265, 0.3508301, 0.019717485, 0.11470723, 0.34627113, 0.13548817, 0.5949468, 0.48933634, 0.053607225, 0.0339185, 0.5319399, 0.016211659, 0.39213574, -0.00500533, 0.34637165, 0.13718201, 0.2946986, 0.26368925, 0.36697572, -0.0013250709, 0.3492047, 0.22239874, 0.21365531, 0.244434, 1.0251806, 0.16145194, 0.5258617, 0.37923592, 0.32627308, 0.2406699, 0.7023995, 0.04116881, 0.053697824, 0.3126496, 0.3403941, 0.28814456, 0.008975983, 0.6274647, 0.42601836, 0.4168049, 0.30055803, 0.59000874, 0.5613342, 0.3880986, 0.16157806, 0.7314166, 0.3310655, 0.10502364, 0.5347296, 0.34637165, 0.23539427, 0.35373133, 0.40070555, 0.6235181, 0.8373991, 0.37061825, 0.50103116, 0.7023995, 0.11398472, 0.11341454, 0.4008137, 0.25068697, 0.8827826, 0.73321635, 0.060186118, 0.34920466, 0.25724655, 0.27079403, 0.11501412, 0.15566921, 0.4668572, 0.1572325, 0.77217895, 0.06550917, 0.4110202, 0.5065134, 0.88964844, 0.42480734, 0.1768372, 0.26298434, 0.55773014, 0.10075264, 0.35311663, 0.36697572, 0.023513705, 0.34705704, 0.12188357, 0.55413324, 0.18982956, 0.0896472, 0.51066744, 0.3825138, 0.7705233, 0.52722067, 0.23917887, 0.4168049, 0.31398225, -0.008050084, 0.10971388, 0.24976218, 0.32376704, 1.0251806, 0.22891125, 0.26368925, 0.5979062, 0.11470723, 0.5878355, 0.37832364, 0.017175853, 0.7991533, 0.09401417, 0.278054, 0.009070963, 0.5342145, 0.24575016, 0.38434458, 0.24142897, 0.22239874, 0.4037294, 1.0167243, 0.2946986, 0.70847666, 0.224749, 0.21386279, 0.39504758, 0.49866605, 0.63722575, 0.3403941, 0.33985054, 0.28492945, 0.3510717, 0.053607225, 0.005072534, 0.29905337, 0.27633834, 0.22990176, 0.4824795, 0.07910171, 0.41968772, 0.24142902, 0.5900088, 0.37432012, 0.3867355, 0.5949468, 0.1561342, 0.46127886, 0.05782351, 0.12391928, 0.2881446, 0.101684004, 0.8913065, 0.6975393, 0.4168051, 0.3244221, 0.36725593, 0.11572783, 0.5345042, 0.8751428, 0.009333044, 0.6235181, 0.13718201, 1.0012642, 0.2351877, 0.33665434, 0.23632687, 0.28492957, 0.224749, 0.8827826, 0.020868242, 0.16157798, 0.30645907, 0.17765525, 0.0961504, 0.3210664, 0.6632757, 0.34234905, 0.043552488, 0.93268085, 0.13548823, 0.08599633, 0.7621227, 0.14268906, 0.4597781, 0.50093603, 0.7023995, 0.32133287, 0.32063702, 0.33985054, 0.3310654, 0.7887475, 0.07844642, 0.15024021, 0.17709424, 0.7223739, 0.21365531, 0.016211659, 0.25106922, 0.4128561, 0.24280638, 0.5342145, 0.5700121, 0.79915327, 0.08372918, 0.37061825, 0.772179, 0.09484708, 0.23353188, 0.4329653, 0.113101214, 0.11831385, 0.08920881, 0.8678869, 0.3250615, 0.17670982, 0.33573824, 0.38138068, 0.36697572, 0.049013883, 0.6099886, 0.31732917, 0.8861067, 0.012346506, 0.506763, 0.35708168, 0.05777079, 0.278054, 0.009606034, 0.18982956, 0.5471581, 0.113984704, 0.23187524, 0.097156465, 0.012346625, 0.5345042, 0.54571766, 0.016211659, 0.053607196, 0.33985063, 0.38620198, 0.48641098, 0.5700121, 0.740608, 0.13466497, 0.2886725, 0.5009359, 0.5106412, 0.25363255, 0.0066447854, 0.37684444, 0.32627305, 0.79915327, 0.10075264, 0.14761807, 0.13127992, 0.3880986, 0.22995758, 0.5467336, 0.23044585, 0.23632686, 0.24005184, 0.35311642, 0.017175853, 0.29473355, 0.08372918, 0.26169032, 0.1768372, 0.31594318, 0.39638975, 0.21365532, 0.32950544, 0.3061218, 0.6165793, 0.499447, 0.009333044, 0.72751117, 0.009606034, 0.41110462, 0.10946654, 0.40307117, 0.3197912, 0.1648699, 0.38653302, 0.23353188, 0.37917888, 0.13548817, 0.38390863, 0.30169135, 0.1572325, 0.32063702, 0.08920881, 0.12391928, 0.5244008, 0.7886756, 0.54803324, 0.22741887, 0.19561125, 0.3670564, 0.5979062, 0.91301966, 0.28492945, 1.0167245, 0.071233064, 0.44013998, 0.8896483, 0.20646396, 0.7028469, 0.8751428, 0.05777079, 0.698763, 0.4241163, 0.17845605, 0.40070567, 0.4597781, 0.4824795, 0.35373133, 0.37409526, 0.11626837, 0.91422665, 0.060186118, -0.0050053596, 0.4128561, 0.9048815, 0.5497065, 0.3479068, 0.3526826, 0.60234773, 0.76931214, 0.30258217, 1.0251806, 0.26298434, 0.7660018, 0.28323257, 0.5301213, 0.007744223, 0.2528899, 0.88449645, 0.47584277, 0.713553, 0.06550917, 0.23392397, 0.096322864, 0.30366823, 0.11190356, 0.055865288, 0.37006977, 0.41788864, 0.53276324, 0.37409526, 0.020868242, 0.35900426, 0.053697824, 0.8492265, 0.49533534, 0.40081385, 0.7107583, 0.24142902, 0.30169123, 0.34234908, 0.5272207, 0.3047971, 0.38434458, 0.70819825, 0.50093603, 0.41856802, 0.03367853, 0.44014007, 0.31594318, 0.17145877, 0.2351877, 0.0405294, 0.3126496, 0.5979062, 0.515838, 0.17032626, 0.017175823, 0.37684444, 0.42157605, 0.49866605, 0.28193164, 0.6632757, 0.3139824, 0.34562632, 0.3679197, 0.53609556, 0.5818299, 1.0167243, 0.5497065, 0.24043982, 0.13820554, 0.08638871, 0.1782796, 0.19009434, 0.72751117, 0.5421306, 0.11398472, 0.25132984, 0.7509811, 0.7420393, 0.043552488, 0.18285981, 0.3597223, 0.506763, 0.5385449, 0.3197912, 0.60944223, 0.13466506, 0.4268008, 0.08372918, 0.29769704, 0.88170063, 0.5480335, 0.26368925, 0.28867248, 0.09412807, 0.5700121, 0.40427536, 0.24575016, 0.16145194, 0.053607225, 0.23569709, 0.20646386, 0.13127992, 0.22239876, 0.8827826, 0.29729283, 0.5700121, 0.5244008, 0.113101214, 0.039312303, 0.02165538, 0.9109677, 0.24718276, 0.23480423, 0.63722575, 0.12391928, 0.30470437, 0.3577403, 0.46127874, 0.5818299, 0.41098496, 0.0015035868, 0.72408867, 0.17670983, 0.3573675, 0.053697795, 0.28867248, 0.36697572, 0.23353188, 0.3590043, 1.0167243, 0.12078604, 0.113508314, -0.002236098, 0.5497065, 0.20332168, 0.4241164, 0.17032641, -0.00040075183, -0.008050084, 0.91422665, 0.0066447556, 0.71167314, 0.0339185, 0.2946986, 0.0896472, -0.0050053596, 0.14951865, 0.26368925, 0.5050359, 0.8404381, 0.11025201, 0.38434458, 0.2528899, 0.5009319, 0.10055807, 0.30258217, 0.764777, 0.21365532, 0.37477487, 0.31594318, 0.27633834, 0.20026687, 0.4597781, 0.09615049, 0.50467396, 0.35492966, 0.39870736, 0.91301966, 0.22990176, 0.8896483, 0.54571766, 0.44013998, 0.18982977, 0.10607082, 0.42787322, 0.12986976, 0.50093603, 0.36773562, 0.22891125, 0.2947863, 0.07404035, 0.17145877, 0.23917887, 0.3310655, 0.34920466, 0.39638975, 0.008976042, 0.13820556, 0.45952666, 0.5312196, 0.3510717, 0.95966756, 0.17709424, 0.05032718, 0.29731652, 0.07363713, 0.24855441, 0.28498012, 0.41788864, 0.13718201, 0.096322894, 0.35774043, 0.22239876, 0.012346625, 0.58182985, 0.18284039, 0.8410413, 0.06340599, 0.8827826, 0.23569709, 0.4111046, 0.50503594, 0.11190361, 0.097156435, 0.3470569, 0.5613342, 0.59000874, 0.1782796, 0.25068688, 0.5421306, 0.11626837, 0.29478633, 0.36370355, 0.34234905, 0.33985054, 0.5312196, 0.35268244, 0.0405294, 0.03391847, 0.11025193, 0.13127996, 0.79915327, 0.25724655, 0.37261823, 0.5497065, 0.019717485, 0.26169023, 0.0015750527, 0.58881426, 0.2946986, 0.4128561, 0.39775175, 0.91422665, 0.1572325, 0.36697584, 0.35311642, 0.09511, 0.29729283, 0.49533534, 0.060567707, 0.10168402, 0.1648699, 0.19009435, 0.3366544, 0.22990176, 0.11591247, 0.3943743, 0.4037294, 0.4824795, 0.058104068, 0.07404035, 0.9048815, 0.46127886, 0.08372918, 0.12994783, 0.91301966, 0.6099886, 0.09858343, 0.5201186, 0.24142897, 0.10946661, 0.27187988, 0.38138068, 0.35708168, 0.51232874, 0.11572783, 0.9109677, 0.30113506, 0.24043982, 0.24976218, 0.07017106, 0.020868242, 0.7107583, 0.7420392, 0.111268386, 0.37006947, 0.29769704, 0.11381818, 0.38434458, 0.05166468, 0.42601836, 0.29731652, 0.90203655, 0.23392415, 0.25318092, 0.5115386, 0.5312196, 0.76214236, 0.53056794, 0.4168051, 0.22037724, 0.25724643, 0.014515728, 0.23539427, 0.12986976, 0.5613342, 0.20646396, 0.058995545, 0.3025821, 0.0896472, 0.13820556, 0.096749395, 0.3197912, -0.00040075183, 0.07843506, 0.42157605, 0.93268096, 0.40372932, 0.50103116, 0.1768372, 0.21329215, 0.37261823, 0.097156465, 0.22995758, 0.27079418, 0.41788858, 0.34234905, 0.39166483, 0.18284044, 0.02165535, 0.2845439, 0.39870736, 0.12994796, 0.2718798, 0.36697572, 0.0339185, 0.24043982, 0.087136805, 0.029006958, 0.506763, 0.7332162, 0.32616496, 0.36725593, 0.011832476, 0.13718201, 0.37917888, 0.14761798, 0.049013883, 0.53276336, 0.41074827, 0.13466497, 0.32627305, 0.1561342, 0.34231532, 0.094846964, 0.38138068, 0.4305492, 0.22741884, 0.40081385, 0.33573824, 0.6987629, 0.07017106, 0.38653302, 0.07844642, 0.2744783, 0.31002977, 0.4668572, 0.37151498, 0.3244221, 0.12078604, 0.3679197, 0.36370355, 0.11501412, 0.62991834, 0.22686848, 0.42480728, 0.3479068, 0.11341454, 0.9852351, 0.28498006, 0.71167314, 0.30113506, 0.73321635, 0.11381818, 0.11190356, 0.12986976, 0.63722575, 0.011832476, 0.5201186, 0.5360956, 0.12391928, 0.7107583, 0.53143203, 0.6299182, 0.24005184, -0.00042304397, 0.46685717, 0.32063693, 0.9109677, 0.88170063, 0.1572325, 0.76477706, 0.8373991, 0.28492945, 0.1673176, 0.26943612, 0.5115386, 0.90203655, 0.70819825, 0.18285981, 0.51232874, 0.39166483, 0.029006958, 0.25068697, 0.6987629, 0.4649289, 0.3549295, 0.019717485, 0.2845439, 0.2351877, 0.32376704, 0.30645913, -0.00040075183, 0.17188528, 0.2431181, 0.24142902, 0.34234905, 0.3590043, 0.4168054, 0.7420393, 0.23044585, 0.50093603, 0.41340318, 0.1800946, 0.31732917, 0.5244008, 0.29905337, 0.11025193, 0.13718201, 0.37006977, 0.47610828, 0.26398465, 0.23187524, 0.30169135, 0.5541332, 0.09858331, 0.3250615, 0.0032157898, 0.29729283, 0.11398472, 0.3825138, 0.07123315, 0.09511006, 0.0961504, 0.60944235, 0.5258617, 0.48641098, 0.3197912, 0.24855448, 0.3867355, 0.29687455, 0.36697584, 0.26279485, 0.3943218, 0.25724655, 0.08372918, 0.6632757, 0.37477487, 0.29473335, 0.47500914, 0.13466497, 0.111268416, 0.40081385, 0.5065134, 0.36639535, 0.16157798, 0.53193986, 0.39870736, 0.42787322, 0.5700121, 0.009606034, 0.060567707, 0.33291608, 0.274652, 0.70284694, -0.00040081143, 0.23392397, 0.60234797, 0.4329653, 0.32063702, 0.3880986, 0.26279485, 0.42680097, 0.37337926, 0.23917887, 0.07843506, 0.39638975, 0.35373133, 0.11398472, 0.7223739, 0.38138077, 0.3366544, 0.23353188, 0.094846964, 0.12391928, 0.25318092, 0.053697824, 0.506763, 0.3823227, 0.24142897, 0.278054, 0.25106925, 0.31594318, 0.9852351, 0.27079403, 0.25132984, 0.47765183, 0.14268906, 0.78874755, 0.16145194, 0.36370355, 0.21386279, 0.31759775, 0.10946661, 0.21365532, 0.012322485, 0.88170063, 0.46127886, 0.51232874, 0.5258617, 0.5201185, 0.07531065, 0.6099885, 0.26943612, 0.19561125, 0.29473355, 0.24976218, 0.05782351, 0.11470723, 0.34234905, 0.772179, 0.007744223, 0.10971388, 0.35268244, 0.019717485, 0.07404035, 0.18982956, 0.12188357, 0.7135532, 0.7991533, 0.13820556, 0.12994783, 0.38434458, 0.17188528, 0.31732917, 0.41972786, 0.62991834, 0.30470455, 0.2946986, 0.5268493, 0.515838, 0.4597781, 0.31398225, 0.22992578, -0.00500533, 0.5312196, 0.060186118, 0.9191495, 0.54571766, 0.16731744, 0.114631966, 0.053697824, 0.3679199, 0.8373991, 0.3921357, 0.05782351, 0.53609556, 0.50103116, 0.3310655, 0.5480335, 0.12986979, 0.28323284, 0.4268008, 0.06340599, 0.25068688, 0.29729283, 0.44230464, 0.3126496, 0.32133275, 0.8827826, 0.55773014, 0.23392397, 0.14268921, 0.15415922, 0.7660018, 0.60944235, 0.5123288, 0.8817005, 0.38232282, 0.12994783, 0.47584277, 0.08920881, 0.41968772, 0.34231532, 0.03367853, 0.101684004, 0.020868242, 0.0032157898, 0.0015035868, 0.4750091, 0.4776519, 0.0015750229, 0.13127992, 0.26398468, 0.10946661, 0.35708168, 0.17765525, 0.17188528, 0.22990176, 0.29731652, 0.10502367, 0.097156435, 0.37337917, 0.37409526, 0.8861066, 0.71111524, 0.043552488, 0.4168051, 0.66327584, 0.9058964, 0.36773562, 0.20646396, 0.26169032, 0.303668, 0.23940933, 0.31594318, 0.2528898, 0.11501412, 0.014515728, 0.23917887, 0.23632686, 0.44410345, 0.31039354, 0.48641098, 0.14761807, 0.40928715, 0.3943218, 0.15566905, 0.713553, 0.76214236, 0.24005184, 0.5065134, 0.3526826, 0.24443394, 0.35738686, 0.50093603, 0.3403941, 0.7223739, 0.76477706, 0.38653302, 0.19208035, 0.007744223, 0.72408867, 0.2845439, 0.058104068, 0.11190356, 0.19009434, 0.10055807, 0.91422665, 0.11501412, 0.16731744, 0.3943218, 0.8861066, 0.23392397, 0.07404035, 0.51066744, 0.7886756, 0.53854483, 0.25132984, 0.03367853, 0.21698907, 0.08599633, 0.7223739, 0.1768372, 0.096749514, 0.28867248, 0.06340599, 0.097156465, 0.41074806, 0.4168051, 0.40427536, 0.34627086, 0.09511006, 0.53193986, 0.07363713, 0.6987629, 0.18284044, 0.3590043, 0.3197912, 0.08638877, 0.113101155, 0.45952666, 0.17032641, 0.6299182, 0.24575016, 0.5258617, 0.55773014, 0.55413324, 0.37337926, 0.36639524, 0.30169135, 0.28814456, 0.25068688, 0.4597781, 0.37432006, 0.88170063, 0.5966441, 0.3250615, 0.24280638, 0.7028469, 0.42787322, 0.055865288, 0.24066985, 0.35311663, 0.023513705, 0.22935538, 0.1648699, 0.8896483, 0.17188528, 0.42498136, 0.59000874, 0.35738686, 0.5497065, 0.7420393, 0.17657179, 0.9191495, 0.19561125, 0.087136805, 0.41340318, 0.13127996, 0.41972798, 0.59790623, 0.8404383, 0.24043982, 0.3597223, 0.22239876, 0.007547796, 0.9109677, 0.90203655, 0.053697795, 0.76214236, 0.12601043, 0.35268244, 0.713553, 0.38232282, -0.0013250709, 0.39437425, 0.24142897, 0.07843506, 0.55773014, 0.5471582, 0.113101214, 0.08372918, 0.009333044, 0.8861067, 0.32063693, 0.24043982, 0.113508314, 0.3244221, 0.32133287, 0.32627305, 0.03367853, 0.38251382, 0.3310654, 0.506763, 0.3670564, 0.094846964, 0.25068688, 0.23392397, 0.76214236, 0.7509811, 0.4441034, 0.053607225, 0.017175823, 0.5258617, 0.3590043, 0.44230464, 0.78867567, 0.37151495, 0.39775172, 0.34920466, 0.26298434, 0.41788864, -0.0022361279, 0.019717485, 0.05782351, 0.30113506, 0.22741884, 0.12986976, 0.55413324, 0.38390866, 0.37477487, 0.46627647, 0.4110202, 0.2406699, 0.50467396, 0.3100298, 0.2886725, 0.11591247, 0.12994783, 0.29769704, 0.2947863, 0.02165538, 0.5360956, 0.11572783, 0.3814474, 0.29731652, 0.39504746, 0.76212263, 0.6099886, 0.24443394, 0.095745146, 0.13127996, 0.90589666, 0.23940933, 0.08638877, 0.13548823, 0.23187524, 0.28498012, 0.15477994, 0.30258217, 0.5421306, 0.22995758, 0.51066744, 0.6274647, 0.4241164, 0.29469857, 0.18285987, 0.4037294, 0.13820556, 0.4649289, 0.274652, 0.3295055, -0.0050053596, 0.039312303, 0.71167314, 0.09858343, 0.7660018, 0.596644, 0.1782796, 0.28498006, 0.5065134, 0.36639524, 0.07843503, 0.11025201, 0.20332168, 0.14761798, 0.060186118, 0.5046739, 0.0405294, 0.7111153, 0.30366823, 0.1162684, 0.32106638, 0.009070963, 0.50103116, 0.14951865, 0.058104068, 0.52440095, 0.5949467, 0.39166483, 0.39591068, 0.8913065, 0.4329653, 0.70054805, 0.6987629, 0.087136835, -0.00042298436, 0.3470569, 0.8896483, -0.0013250709, 0.18982956, 0.09574509, 0.41340318, 0.2989708, 0.0655092, 0.13548823, 0.48641098, 0.055865288, 0.5009319, 0.506763, 0.0896472, 0.15024024, 0.71167314, 0.12986976, 0.5878355, 0.3590043, 0.24005184, 0.91422665, 0.21386279, 0.28492957, 0.42498136, 0.29729283, 0.7023995, 0.38434458, 0.72751117, 0.3943743, 0.33291608, 0.9058964, 0.31594312, 0.38390866, 0.31398225, 0.39870736, 0.3061218, 0.30113494, 0.90203655, 0.29473335, 0.70819813, 0.017175823, 0.5421306, 0.6632757, 0.34234905, 0.7028469, 0.23353188, 0.17683724, 0.34039414, 0.21329215, 0.37061825, 0.244434, 0.115014225, 0.39654136, 0.1561342, 0.40372932, 0.1138182, 0.76212263, 0.28323257, 0.17670983, 0.5700121, 0.24575016, 0.23569709, 0.56133425, 0.07017112, 0.12391928, 0.32063702, 0.24718276, 0.011832476, 0.29473355, 0.596644, 0.22037724, 0.020868242, 0.5046739, 0.35311663, 0.5878355, -0.008050084, 0.17765525, 0.10502364, 0.30612195, 0.34231538, 0.59000874, 0.10168402, 0.09615049, 0.39775175, 0.78867567, 0.23480423, 0.1138182, 0.15024024, 0.0015750229, 0.5106413, 0.114631966, 0.32106638, 0.224749, 0.28498006, 0.1673176, 0.40427536, 0.8751428, 0.499447, 0.5009319, 0.3470569, 0.9048815, 0.4649289, 0.3672559, 0.41680482, 0.42498136, 0.7028469, 0.5818299, 0.009606034, 0.274652, 0.21329215, 0.62991834, 0.24142897, 0.24005184, 0.2654539, 0.24043982, 0.41074806, 0.28193164, 0.3880986, 0.060186237, -0.00040081143, 0.16145194, 0.3597223, 0.41968772, 0.31398225, 0.40081385, 0.07404035, 0.39504758, 0.44230455, 0.06550917, 0.9109677, 0.3814474, 0.48641098, 1.0251806, 0.060567707, 0.6099885, 0.8913064, 0.37832364, 0.3197912, 0.07843506, 0.35708168, 0.34920466, 0.24066985, 0.7406079, -0.00042298436, 0.72751117, 0.76214236, 0.4776519, -0.0022361279, 0.5201185, 0.32133287, 0.53193986, 0.39437425, 0.37917888, 0.5385449, 0.24280638, 0.8404383, 0.73321635, 0.5480335, 0.087136835, 0.17032626, 0.03367853, 0.8404383, 0.1648699, 0.012346625, -0.0050053596, 0.12188357, 0.3783237, 0.47516114, 0.19561125, 0.76212263, 0.5854887, 0.36639535, 0.79915327, 0.53143203, 0.52586174, 0.04052949, 0.3061218, 0.6299182, 0.3479068, 0.28193164, 0.518103, 0.053607225, 0.39591086, 0.7887475, 0.49533534, 0.16731744, 0.6274647, 0.15566905, 0.9191495, 0.303668, 0.52684957, 0.08638871, 0.60234797, 0.77052337, 0.37151498, 0.2654539, 0.3310655, 0.07404035, 0.42787328, 0.7111153, 0.014515728, 0.1782796, 0.15477996, 0.023513794, 0.515838, 0.012322426, 0.101684004, 0.24443394, 0.4824795, 0.3825138, 0.113101214, 0.017175823, 0.35373133, 0.41972786, 0.2400518, 0.009071022, 0.27079403, 0.043552488, 0.13466497, 0.08372918, 0.11831385, 0.6099886, 0.34039414, 0.41102022, 0.39166483, 0.3597223, 0.27633834, 0.1561342, 0.5497065, 0.060567707, 0.096749514, 0.41788858, 0.30470437, 0.28814456, 0.3590043, 0.37917888, 0.24406332, 0.07123315, 0.36705628, 0.27465218, 0.4268008, 0.93268085, 0.06340599, 0.0339185, 0.90203655, 0.22239876, 0.3463717, 0.10607082, 0.0032157898, 0.3943218, 0.0050726235, 0.45952648, 0.29897088, 0.08920881, 0.111268386, 0.70847666, 1.0012642, 0.07017106, 0.50093603, 0.5497065, 0.5818299, 0.7420392, 0.3823227, 0.59790623, 0.35311663, 0.12391928, 0.4776519, 0.9048815, 0.11470723, 0.38390866, 0.27079418, 0.053607196, 0.5347296, 0.1561342, 0.4305492, 0.13127996, 0.44230464, 0.26943612, 0.51066744, 0.35107166, 0.5301213, 0.22239876, 0.27187988, 0.24855448, 0.34637165, 0.28814456, 0.2819316, 0.097156435, 0.5009319, 0.50503594, 0.08599633, 0.29905343, 0.23917887, 0.16157798, 0.014515638, 0.5345042, 0.39166483, 0.25363255, 0.3456265, 0.11591247, 0.70819825, 0.13820556, 0.071233064, 0.35083026, 0.12994783, 0.5106413, 0.5480335, 0.3573675, 0.32106638, 0.76931214, 0.07531074, 0.22686812, 0.12601043, 0.29473355, 0.41340318, 0.10607086, 0.34231532, 0.93268085, 0.04355243, 0.4168054, 0.4110202, 0.16145194, 0.2351877, 0.35708168, 0.13466497, 0.34920466, 0.22935538, 0.37409538, 0.6299182, 0.42498136, 0.02165535, 0.4649289, 0.54571766, 0.88170063, 0.50103116, 0.007547796, 0.24142902, 0.8373991, 0.35373133, 0.78874755, 0.10075264, 0.30258217, 0.40372932, 0.22741884, 0.016211659, 0.58881426, 0.5421306, 0.1401632, 0.39870736, 0.77052337, 0.39504758, 0.41972798, 0.59000874, 0.21386279, 0.41788864, 0.10607086, 0.25724655, 0.13466497, 0.54673344, 0.518103, 0.17709424, 0.8404383, 0.23917887, 0.10946661, 0.049013883, 0.37409526, 0.34705704, 0.52722067, 0.07910171, 0.22992578, 0.060567707, 0.3679197, 0.19009434, 0.09615049, 0.10971378, 0.5345042, 0.33985054, 0.30055803, 0.42601836, 0.4824795, 0.28498006, 0.17845605, 0.53854483, 0.21698903, 0.5268493, 0.8896483, 0.0896472, 0.4168051, 0.713553, 0.046737045, 0.26298428, 0.0032158196, 0.4128561, 0.5301213, 0.3597223, 0.07123315, 0.09858343, -0.0050053596, 0.63722587, 0.30366823, 0.02165535, 0.39638975, 0.90203655, 0.38232282, 0.29897088, 0.09412804, 0.8913064, 0.3570817, 0.4168049, 0.42498136, 0.08599633, 0.244434, 0.020868242, 0.38390866, 0.70847666, 0.50676334, 0.4776519, 0.35050225, 0.12994783, 0.17188528, 0.10502364, 1.0251806, 0.17827958, 0.36639524, 0.06340599, 0.08638877, 0.3047971, 0.114631966, 0.7023995, 0.24855448, 0.26279497, 0.7240887, 0.1648699, 0.3237669, 0.5312196, 0.5046739, 0.3250615, 0.23940933, 0.71167314, 0.46492878, 0.5319399, 0.6099886, 0.020868242, 0.42157605, 0.70054805, 0.05032718, 0.7332162, -0.00042298436, 0.71111524, 0.36639535, 0.8373991, 0.60944235, 0.7660018, 0.07531065, 0.5123288, 0.005072534, 0.04116881, 0.5979062, 0.5467336, 0.9109677, 0.0077443123, 0.30470437, 0.16157806, 0.4196878, 0.58881426, 0.5480335, 0.35774043, 0.2654539, 0.5312196, 0.22891125, 0.39504758, 0.21365532, 0.22686848, 0.0339185, 0.35311663, 0.4824795, 0.37684444, 0.34920466, 0.4441034, 0.4168054, 0.30055803, 0.053697824, 0.2293554, 0.5497065, 0.3573675, 0.29731652, 0.6274647, 0.52684957, 0.22037715, 0.012322426, 0.12188357, 0.113101214, 0.36697572, 0.50103116, 0.698763, 0.9048815, 0.07843506, 0.37409526, 0.25132984, 0.5878355, 0.63722575, 0.740608, 0.24855441, 0.42480734, 0.5471582, 0.53276324, 0.24718276, 0.713553, 0.12994783, 0.15477996, 0.91301966, 0.28492957, 0.23392397, 0.29897088, 0.53143203, 0.38232282, 0.3825138, 0.4037294, 0.25363252, 0.37432012, 0.22741887, 0.2351877, 0.35373133, 0.29729283, 0.5369463, 0.6299182, 0.24575016, -0.0013249815, 0.27079403, 0.77052337, 0.274652, 0.055865288, 0.26368925, 0.09615049, 0.35083026, 0.50093174, 0.5497065, 0.3310655, 0.31732917, 0.07531065, 0.76931214, 0.016211659, 0.5305679, 0.6235181, 0.10075264, 0.7107583, 0.7420392, 0.53609556, 0.053607225, 0.58881426, 0.10971378, 0.22992583, 0.55773014, 0.3510717, 0.7314166, 0.8751428, 0.37917888, 0.20646396, 0.88449645, 0.2531811, 0.26398465, 0.53143203, 0.3237669, 0.53276324, 0.31759775, 0.113101214, 0.11735508, 0.60944223, 0.07844642, 0.5878355, 0.5345042, 0.41788864, 0.71111524, 0.35050225, 0.32133275, 0.5541332, 0.4329653, 0.14761798, 0.11025201, 0.70819825, 0.71167314, 0.6987629, 0.07404035, 0.09858331, 0.47610828, 0.38653302, 0.4751614, 0.38620198, 0.08638877, 0.3679197, 0.15613417, 0.38138077, 0.6299182, 0.35311663, 0.8404383, 0.3244221, 0.3921357, 0.7023995, -0.002236098, 1.0167245, 0.29731652, 0.596644, 0.28323257, 0.25068688, 0.79915327, 0.78867567, 0.30470455, 0.19009435, 0.3250615, 0.47584277, 0.2946986, 0.18285981, 0.41074806, 0.5347296, 0.4008137, 0.1673176, 0.4241164, 0.90203655, 0.4168051, 0.009333044, 0.5385449, 0.11470723, 0.30055788, -0.00040081143, 0.42157605, 0.28193164, 0.3508301, 0.37061825, 0.096749395, 0.0015035868, 0.37409538, 0.26298428, 0.04116881, 0.3679197, 0.2528899, 0.35738686, 0.15477996, 0.4751614, 0.39870736, 0.71167314, 0.93268085, 0.77217895, 1.0012642, 0.20026687, 0.28193164, 0.30258217, 0.5577301, 0.26943612, 0.008976042, 0.30113494, 0.37923592, 0.33665434, 0.7107583, 0.5613342, 0.1784561, 0.24043982, 0.0015035868, 0.5272207, 0.4305492, 0.07363713, 0.0015750229, 0.13127996, 0.18009466, 0.33491877, 0.224749, 0.42601836, 0.37832364, 0.3597223, 0.0339185, 0.303668, 0.22239874, 0.0961504, 0.4037294, 0.35311663, 0.1782796, 0.49866605, 0.3943743, -0.008050084, 0.05777085, 0.32133275, 0.23353188, 0.017175823, 0.41098496, 0.53276324, 0.53056794, 0.8410413, 0.46127874, 0.41680482, 0.24406332, 0.046737045, 0.35268244, 0.8404383, 0.0066447854, 0.09858343, 0.009071022, 0.28492957, 0.3244221, 0.17188528, 0.53609556, 0.053607225, 0.06550917, 0.5106413, 0.101684004, 0.09511006, 0.29687455, 0.8751428, 0.17709424, 0.5818299, 0.5467336, 0.88170063, 0.17032626, 0.11470719, 0.3814474, 0.35774043, 0.2947863, 0.039312392, 0.08920881, 0.713553, 0.18285987, 0.51066744, 0.0077443123, 0.22037715, 0.9191495, 0.13820556, 0.014515728, 0.060567707, 0.41856804, 0.2744783, 0.09511, 0.1162684, 0.07123315, 0.14815417, 0.008976042, 0.8861066, 0.4241163, 0.1673176, 0.0050726235, 0.3295055, 0.4168049, 0.4668572, 0.7420392, 0.53056794, 0.34562632, 0.03391847, 0.8404383, 0.38620198, 0.09858343, 0.91422665, 0.36725593, 0.096749395, 0.5106412, 0.8373991, 0.29897088, 0.25132984, 0.19561125, 0.42480728, 0.24718276, 0.05782351, 0.50467396, 0.40372932, 0.51066744, 0.12078604, 0.7023995, 0.30113494, 0.08599633, 0.76477706, 0.114631936, 0.19208035, 0.23539427, 0.10075264, 0.23480423, 0.0015750229, 0.019717485, 0.37409526, 0.04116878, 0.26169023, 0.3943218, 0.39775175, 0.6632757, 0.17188528, 0.5878355, 0.3825138, 0.52684957, 0.13127992, 0.91301966, 0.8896483, 0.14761798, 0.011832476, 0.76212263, 0.42157605, -0.00040081143, 0.0655092, 0.23569709, 0.5065134, 0.713553, 0.35268244, 0.8751428, 0.13548823, 0.11591251, 1.0251806, 0.33491862, 0.9191495, -0.0013250709, 0.0032157898, 0.39638975, 0.36370355, 0.3357382, 0.6165789, 0.0077443123, 0.113508314, 0.1561342, 0.5421306, 0.24406332, 0.59000874, 0.54803324, 0.32063693, 0.49866605, 0.40081385, 0.37477487, 0.7509811, 0.3867355, 0.4111046, 0.5305679, -0.0013249815, 0.049013883, 0.40307117, 0.11591247, 0.740608, 0.42480728, 0.506763, 0.11735508, 0.17827958, 0.3510717, 0.58881426, 0.009070963, 0.6235181, 0.48641098, 0.6099886, 0.039312303, 0.22992583, 0.16145194, 0.41968772, 0.78874755, 0.7314166, 0.5065134, 0.35738686, 0.3963899, 0.5577301, 0.46627647, 0.35050225, 0.27079403, 0.37061825, 0.35268244, 0.6632757, 0.14815402, 0.50093174, 0.5115386, 0.4037294, 0.45952648, 0.37432006, 0.10075264, 0.23917887, 0.071233064, 0.3210664, 0.2293554, -0.00042304397, 0.38620198, 0.3590043, 0.20646396, 0.22741887, 0.04052949, 0.1673176, 0.1800946, 0.0032157898, 0.9109677, 0.39870736, 0.64052343, 0.3880986, 0.24043982, 0.41680482, 0.012346625, 0.19009434, 0.27633834, 0.53609556, 0.72408867, 0.518103, 0.7705233, 0.8913064, 0.11470723, 0.11398472, 0.1401632, 0.49866605, 0.71111524, 0.3825138, 0.71167314, 0.30366823, 0.087136805, 0.11381818, 0.37684444, 0.3470569, 0.4128561, 0.26279485, 0.13127992, 0.11190361, 0.2946986, 0.10971388, 0.41340318, 0.51066744, 0.22037715, 0.060186118, 0.3672559, 0.35083026, 0.3250615, 0.11190356, 0.2845439, 0.6165793, 0.29473355, 0.22686848, 0.31002977, 0.10075259, 0.4776519, 0.22741887, 0.23632686, 0.38390866, 0.3403941, 0.3197912, 0.26279497, 0.35900426, 0.38434458, 0.060567707, 0.244434, 0.22239876, 0.36773562, 0.0405294, 0.5106412, 0.2528898, -0.00042304397, 0.50503594, 0.4111046, 0.23187524, 0.087136805, 0.10607086, 0.32950544, 0.519213, 0.88170063, 0.27079403, 0.25068688, 0.30055803, 0.8678869, 0.53276324, 0.11341445, 0.096322864, 0.28323257, 0.060186118, 0.8913065, 0.20646396, 0.22891125, 0.029006958, 0.07404035, 0.41680482, 0.0066447854, 0.3597223, 0.6975393, 0.2886725, 0.007547796, 0.8827826, 0.4030712, 0.027765214, 0.039312392, 0.30645907, 0.17709424, 0.34231532, 0.3047971, 0.17670983, 0.18009466, 0.5360956, 0.29729283, 0.24066985, 0.2947863, 0.73321635, 0.10971388, 0.5471582, 0.22474894, 0.44014007, 0.14951865, 0.506763, 0.5949468, 0.31398225, 0.12601043, 0.34627086, 0.7660018, 0.50103116, 0.26398465, 0.17657179, 0.4597781, 0.15477996, 0.34637165, 0.5385449, 0.118313864, 0.24142897, 0.7314166, 0.4268008, 0.28193164, 0.11572783, 0.278054, 0.14268921]\n",
            "[480, 640, 720, 880, 1280, 1440, 400, 160, 960, 1600, 960, 2000, 1600, 80, 800, 1360, 1200, 640, 1360, 320, 1040, 2000, 1760, 160, 1120, 1280, 320, 1200, 800, 1120, 1360, 1520, 1280, 480, 1440, 320, 160, 560, 1840, 1360, 480, 320, 1680, 1360, 1280, 960, 480, 560, 1920, 1440, 1040, 240, 1520, 80, 1840, 880, 640, 480, 960, 1680, 1600, 720, 640, 160, 400, 1280, 1840, 1280, 960, 880, 400, 1920, 1440, 1040, 1920, 1600, 1200, 1760, 1360, 1280, 1360, 1760, 1920, 640, 400, 1120, 560, 1280, 2000, 640, 800, 720, 720, 1760, 1920, 1680, 1600, 1040, 800, 1120, 960, 1680, 720, 320, 560, 1200, 480, 1120, 240, 2000, 1520, 880, 640, 1440, 1520, 400, 80, 720, 1360, 320, 1680, 400, 800, 960, 480, 320, 1360, 1120, 400, 400, 1520, 480, 800, 1840, 640, 480, 1040, 240, 1520, 1920, 1520, 1600, 1040, 1360, 1680, 720, 720, 1040, 160, 160, 1120, 880, 1840, 2000, 640, 560, 1280, 320, 1680, 80, 1280, 1200, 2000, 1920, 800, 80, 880, 320, 560, 1520, 1760, 480, 1920, 1360, 2000, 880, 1920, 160, 240, 1360, 1280, 1120, 160, 880, 1360, 800, 80, 2000, 1840, 640, 1040, 1760, 480, 480, 720, 1280, 1840, 1200, 560, 1200, 1920, 1760, 1760, 1920, 800, 1440, 1120, 1600, 1840, 1360, 480, 880, 1680, 640, 560, 320, 960, 240, 1440, 320, 960, 2000, 960, 1120, 640, 1920, 1280, 320, 960, 800, 320, 320, 640, 1440, 560, 880, 1600, 1200, 1920, 800, 480, 800, 880, 80, 160, 1520, 560, 1760, 480, 1920, 1680, 160, 1520, 1360, 160, 1120, 400, 720, 80, 1200, 1840, 1920, 720, 320, 1120, 1520, 2000, 1440, 2000, 1840, 1040, 1360, 800, 1280, 1680, 1200, 1120, 640, 320, 1120, 640, 720, 880, 320, 2000, 720, 2000, 1600, 800, 1840, 1440, 1680, 400, 560, 1120, 1200, 1200, 1760, 1600, 1360, 1120, 480, 1520, 1360, 160, 1200, 1200, 1920, 1600, 640, 1120, 1200, 2000, 1840, 160, 1040, 400, 640, 160, 1440, 640, 800, 480, 1280, 880, 800, 1600, 80, 1600, 1040, 1920, 1120, 1520, 1680, 480, 1200, 80, 560, 2000, 1440, 560, 320, 160, 1360, 480, 1200, 1040, 1120, 880, 1760, 1440, 1200, 1200, 1760, 1120, 1760, 80, 1360, 800, 1360, 1520, 1440, 800, 80, 960, 1280, 1040, 240, 880, 1440, 240, 720, 80, 560, 1680, 800, 480, 160, 240, 1520, 1360, 320, 640, 1680, 1680, 1040, 1040, 1600, 400, 1120, 1040, 1040, 1760, 160, 1760, 2000, 1120, 320, 480, 1360, 640, 1520, 1760, 560, 1120, 400, 960, 160, 1440, 880, 1760, 640, 720, 1600, 560, 80, 1680, 2000, 1920, 160, 1680, 80, 1920, 1680, 1040, 400, 160, 1280, 1200, 1520, 880, 1840, 880, 240, 1520, 80, 560, 1360, 1520, 1520, 960, 400, 880, 1680, 880, 1200, 1520, 1040, 640, 960, 720, 1600, 1360, 240, 960, 1440, 400, 560, 1600, 880, 1200, 1040, 400, 960, 480, 80, 1360, 800, 2000, 960, 1280, 2000, 1440, 1520, 1760, 1920, 1840, 560, 1680, 240, 640, 1760, 480, 1840, 320, 480, 240, 1760, 320, 400, 2000, 1600, 960, 1040, 160, 1280, 240, 720, 1680, 1120, 2000, 720, 880, 800, 800, 720, 1920, 1680, 1040, 320, 160, 640, 720, 1120, 1600, 240, 1360, 1680, 1440, 240, 160, 1760, 1600, 1360, 640, 640, 880, 880, 1280, 880, 880, 1520, 2000, 240, 720, 1280, 640, 560, 1680, 1360, 800, 1920, 1280, 1760, 480, 1200, 1280, 880, 1440, 400, 1200, 400, 800, 880, 1280, 1120, 1520, 1920, 1120, 480, 1040, 1920, 1840, 480, 640, 560, 720, 1360, 320, 1840, 800, 1040, 1360, 1120, 160, 400, 1040, 640, 560, 800, 560, 400, 1840, 1680, 880, 1760, 80, 1680, 1360, 960, 240, 1120, 800, 1200, 1280, 1520, 960, 1600, 160, 2000, 960, 1440, 240, 80, 80, 960, 160, 1440, 560, 2000, 880, 80, 320, 1920, 1120, 1280, 1840, 1920, 640, 1120, 480, 1520, 1520, 560, 1520, 720, 640, 400, 1600, 160, 1840, 80, 1200, 880, 720, 960, 1360, 640, 560, 960, 960, 1520, 1040, 1200, 480, 1760, 400, 1120, 480, 480, 880, 1600, 160, 720, 1680, 2000, 1120, 2000, 2000, 320, 1360, 800, 560, 400, 1600, 1200, 240, 1840, 320, 240, 880, 720, 1520, 800, 1840, 560, 1920, 1120, 320, 160, 320, 1840, 2000, 640, 1600, 1360, 400, 1760, 640, 800, 1680, 2000, 1280, 240, 560, 1840, 1360, 1120, 1680, 1600, 2000, 160, 1760, 80, 1840, 2000, 1360, 800, 960, 240, 800, 960, 240, 800, 1680, 320, 1200, 160, 560, 640, 720, 880, 1360, 1120, 880, 640, 400, 800, 1680, 880, 720, 880, 960, 160, 1600, 720, 1680, 80, 1440, 1440, 1920, 480, 1040, 1680, 240, 1520, 320, 160, 2000, 1760, 1920, 2000, 1280, 240, 1920, 320, 1360, 1360, 1200, 480, 1920, 1600, 2000, 1280, 880, 1600, 1760, 1680, 240, 1840, 1520, 1840, 720, 80, 1520, 880, 720, 480, 400, 80, 560, 1600, 1280, 1120, 1760, 640, 800, 1600, 160, 1520, 640, 1600, 800, 1520, 720, 400, 960, 1200, 720, 80, 800, 560, 240, 240, 320, 880, 1360, 800, 1120, 80, 1200, 1520, 480, 80, 960, 560, 400, 2000, 1440, 1120, 1200, 1440, 1440, 960, 1120, 1520, 960, 320, 1280, 80, 1040, 720, 960, 1600, 1360, 960, 1280, 640, 560, 1120, 800, 1120, 960, 1440, 1680, 400, 1440, 1680, 1360, 240, 320, 1520, 800, 80, 1600, 880, 560, 2000, 1200, 1120, 400, 240, 960, 1520, 1040, 1120, 240, 1520, 1920, 1200, 1280, 1920, 1600, 1200, 1680, 1200, 1920, 1520, 320, 1600, 960, 1200, 80, 160, 960, 1600, 560, 400, 80, 2000, 480, 720, 800, 1280, 1600, 1760, 560, 1040, 720, 240, 1280, 1360, 1120, 1840, 1200, 2000, 1040, 560, 480, 880, 1440, 160, 800, 480, 800, 800, 1200, 1040, 240, 160, 1200, 1920, 1040, 400, 560, 800, 1040, 800, 720, 960, 1680, 880, 640, 1520, 1440, 1600, 400, 1920, 1120, 2000, 1840, 1040, 1280, 1200, 960, 1040, 80, 320, 640, 720, 1600, 80, 480, 2000, 1760, 1520, 640, 720, 800, 1040, 480, 560, 1600, 1200, 800, 1440, 1440, 640, 1200, 1200, 560, 1920, 240, 880, 1440, 720, 720, 160, 720, 1680, 640, 1920, 1680, 80, 1200, 480, 640, 1840, 400, 1680, 560, 240, 1120, 1680, 1920, 1920, 1600, 960, 960, 1920, 400, 1440, 1520, 400, 160, 800, 1440, 240, 160, 1280, 160, 400, 560, 640, 1840, 1120, 720, 720, 1920, 2000, 1280, 1520, 1120, 400, 2000, 2000, 1440, 1600, 880, 1360, 80, 2000, 480, 1840, 1360, 1280, 240, 240, 1280, 1920, 1680, 400, 880, 1760, 480, 1520, 1520, 560, 800, 800, 1600, 800, 880, 1360, 1120, 1840, 1280, 480, 80, 320, 1840, 1200, 1920, 1120, 1440, 720, 480, 80, 2000, 1120, 160, 1200, 160, 480, 80, 1600, 1680, 80, 1360, 560, 1680, 1440, 640, 2000, 720, 1360, 480, 160, 1040, 1040, 1040, 1520, 480, 1600, 640, 1600, 1200, 720, 1760, 1760, 880, 720, 640, 560, 240, 480, 1120, 1360, 1200, 1040, 480, 1840, 960, 320, 1840, 1280, 400, 2000, 1280, 1520, 1280, 1040, 1280, 1440, 1520, 1280, 720, 240, 1680, 960, 640, 320, 560, 480, 960, 560, 1280, 960, 1040, 480, 400, 1600, 1520, 1440, 1920, 160, 320, 800, 1440, 640, 480, 1120, 800, 160, 560, 1600, 1920, 1120, 240, 1280, 800, 960, 720, 1280, 400, 1280, 1120, 1680, 240, 1120, 1840, 1920, 1280, 1440, 1040, 1840, 880, 1120, 1600, 1600, 1600, 1120, 1840, 800, 480, 1600, 960, 400, 880, 960, 320, 240, 160, 960, 2000, 800, 2000, 1280, 2000, 1760, 640, 1840, 400, 240, 720, 1360, 1520, 1680, 1280, 240, 1280, 320, 240, 1040, 1200, 240, 1280, 1040, 1280, 1840, 1440, 80, 1360, 720, 560, 1280, 1680, 1120, 880, 160, 1040, 1520, 240, 1600, 1360, 1120, 2000, 160, 1200, 480, 880, 880, 1200, 1600, 480, 1280, 1280, 1360, 640, 160, 1920, 1280, 880, 1520, 1600, 800, 880, 1920, 1600, 160, 160, 400, 1680, 960, 1520, 1440, 1840, 1520, 560, 960, 880, 1840, 720, 1120, 880, 720, 1280, 1760, 400, 880, 480, 1440, 1360, 1040, 1600, 960, 1520, 80, 1360, 1600, 880, 1280, 880, 480, 400, 400, 1520, 1360, 1520, 1600, 880, 1440, 2000, 1200, 1120, 720, 1200, 720, 80, 80, 160, 1440, 160, 1840, 1840, 640, 400, 2000, 1840, 560, 1840, 960, 480, 480, 1840, 240, 1520, 1760, 400, 1440, 80, 1760, 320, 640, 1360, 1840, 1520, 400, 1200, 1760, 2000, 960, 240, 240, 320, 960, 80, 560, 80, 720, 960, 320, 880, 1040, 400, 1120, 880, 880, 560, 1440, 1520, 1520, 1280, 400, 960, 1840, 1200, 800, 800, 1920, 1920, 1680, 1360, 640, 1600, 720, 1840, 880, 1200, 1680, 1680, 1200, 1440, 1680, 160, 1360, 640, 800, 1600, 1200, 640, 1280, 800, 1760, 1520, 560, 1440, 1440, 1120, 240, 1600, 560, 1360, 1040, 1840, 560, 1840, 320, 560, 1520, 640, 80, 1440, 1840, 1760, 160, 1840, 960, 1520, 80, 640, 480, 1680, 1120, 2000, 1200, 160, 800, 1520, 560, 240, 560, 80, 1040, 240, 1440, 2000, 400, 1280, 1920, 1360, 1920, 1120, 320, 800, 1200, 1120, 800, 800, 1600, 880, 80, 720, 800, 1120, 720, 400, 1040, 240, 560, 640, 640, 480, 80, 480, 1280, 2000, 880, 1120, 400, 1040, 880, 320, 1040, 1440, 1040, 1760, 320, 960, 1200, 1360, 400, 560, 1440, 880, 880, 1600, 240, 1680, 1280, 1680, 160, 1600, 1120, 1280, 1360, 1520, 1440, 480, 1280, 1360, 1520, 240, 240, 160, 1280, 160, 240, 80, 640, 1360, 1280, 400, 1600, 1760, 1840, 1120, 1200, 1920, 240, 1680, 1120, 960, 640, 1840, 640, 400, 1200, 1680, 1280, 880, 320, 1840, 1760, 2000, 1280, 2000, 1920, 1600, 1040, 480, 400, 960, 1520, 240, 640, 400, 320, 1440, 240, 1200, 1520, 880, 1200, 1120, 160, 1200, 1520, 400, 80, 640, 480, 400, 880, 1760, 960, 1280, 960, 1520, 1280, 640, 1440, 2000, 320, 480, 1600, 400, 1120, 1280, 1520, 480, 1040, 880, 720, 800, 1280, 800, 560, 1200, 320, 1280, 960, 480, 960, 320, 1680, 960, 80, 1920, 1440, 1920, 320, 1040, 2000, 880, 1760, 1440, 1680, 960, 560, 1680, 800, 160, 1840, 640, 640, 720, 1440, 1440, 1360, 880, 1920, 1600, 1120, 1680, 320, 80, 560, 1280, 1120, 640, 160, 1120, 1120, 800, 1120, 480, 1040, 240, 1520, 1520, 1760, 880, 880, 1680, 720, 1040, 1040, 720, 1040, 1520, 960, 1440, 1440, 960, 800, 1040, 1440, 720, 960, 1120, 1280, 480, 1600, 960, 480, 1600, 1440, 400, 880, 240, 1040, 1120, 800, 400, 1200, 1360, 1120, 1760, 240, 720, 1920, 1200, 1200, 320, 1520, 1120, 960, 320, 1840, 1360, 720, 1200, 1920, 1040, 1520, 2000, 1840, 1600, 960, 1680, 400, 1760, 1840, 2000, 1280, 480, 1680, 80, 1040, 320, 800, 320, 1360, 320, 1280, 560, 160, 160, 1520, 1680, 80, 1360, 880, 400, 400, 1440, 320, 2000, 960, 880, 1600, 1840, 160, 1920, 480, 1360, 1680, 1280, 1040, 160, 80, 800, 1760, 400, 1600, 1200, 1440, 960, 480, 1200, 1440, 800, 800, 800, 1520, 160, 1840, 1440, 880, 1680, 640, 720, 2000, 480, 1760, 640, 1840, 800, 1280, 720, 240, 1920, 560, 720, 1680, 160, 560, 2000, 1840, 800, 880, 1440, 1200, 1280, 960, 160, 1600, 2000, 320, 1360, 240, 1520, 1840, 1920, 1200, 1840, 960, 1920, 320, 160, 1680, 1760, 1040, 240, 400, 1040, 2000, 1840, 1520, 1840, 1040, 2000, 480, 1040, 560, 800, 560, 960, 880, 1760, 880, 1360, 1600, 80, 240, 240, 2000, 960, 1360, 880, 2000, 1760, 240, 640, 1120, 800, 1760, 960, 800, 560, 1040, 1920, 1520, 800, 1600, 560, 1120, 1680, 960, 640, 1840, 720, 400, 880, 1200, 480, 960, 1200, 1440, 1200, 1120, 1760, 1600, 960, 1600, 1200, 800, 1040, 1120, 1840, 80, 640, 1920, 720, 400, 1920, 160, 1040, 1120, 2000, 480, 1280, 960, 1440, 320, 880, 1200, 320, 2000, 1760, 880, 640, 1840, 160, 1360, 1280, 1120, 1760, 1360, 1520, 720, 1760, 1920, 560, 1200, 560, 960, 400, 1120, 560, 1200, 80, 1520, 1520, 1600, 1520, 640, 1120, 1440, 1760, 480, 1840, 1680, 1440, 960, 400, 160, 1040, 1280, 1280, 1680, 1280, 1280, 1440, 1440, 1120, 960, 1280, 1360, 1680, 1920, 160, 1520, 1360, 1840, 560, 1600, 1120, 1520, 400, 560, 800, 480, 2000, 1200, 560, 720, 1120, 1280, 1440, 1200, 1600, 160, 1440, 160, 80, 80, 1600, 640, 1040, 1760, 480, 80, 1040, 1920, 160, 1280, 640, 1280, 400, 1280, 1200, 1440, 1280, 1440, 1920, 400, 640, 1520, 1280, 1920, 160, 1680, 1360, 640, 2000, 1840, 400, 240, 80, 800, 1440, 800, 80, 1360, 240, 720, 2000, 1360, 1360, 1280, 560, 1760, 320, 160, 1120, 960, 640, 1360, 1360, 80, 240, 1120, 1200, 160, 1760, 960, 880, 1520, 1680, 800, 480, 160, 1280, 1280, 160, 160, 80, 1200, 1360, 2000, 880, 640, 320, 1040, 1200, 240, 1040, 1360, 2000, 880, 1760, 1120, 240, 160, 1440, 1840, 1760, 160, 80, 1840, 1200, 1600, 240, 1760, 1840, 720, 240, 320, 320, 1040, 240, 400, 1040, 160, 160, 1040, 1440, 1280, 320, 80, 800, 960, 1760, 880, 880, 560, 1280, 1680, 160, 960, 1120, 480, 1040, 1920, 960, 1920, 400, 1120, 640, 400, 1840, 1120, 1600, 960, 1920, 1680, 800, 1520, 240, 720, 1840, 320, 560, 80, 160, 1040, 160, 1760, 960, 800, 640, 2000, 1520, 1200, 2000, 1360, 880, 960, 480, 80, 1600, 1600, 80, 320, 560, 2000, 1840, 1280, 1360, 880, 880, 1760, 720, 1840, 80, 480, 1600, 640, 1520, 2000, 240, 1600, 1440, 1360, 480, 2000, 1520, 1520, 1360, 1120, 1520, 1280, 800, 1920, 880, 80, 80, 1040, 880, 1600, 1120, 880, 560, 640, 1120, 1840, 80, 1200, 1040, 960, 160, 1360, 480, 2000, 1200, 1760, 2000, 1280, 1600, 1280, 560, 640, 640, 1760, 1280, 640, 160, 1120, 1600, 1120, 1680, 1600, 320, 480, 1040, 1440, 240, 240, 1680, 1280, 720, 960, 240, 1280, 240, 480, 1040, 1200, 1920, 640, 240, 800, 240, 560, 640, 880, 1680, 1840, 1920, 1200, 160, 800, 720, 1360, 1520, 1200, 1440, 1760, 240, 240, 1760, 320, 1360, 720, 1360, 320, 2000, 160, 720, 1600, 1760, 480, 1120, 1040, 800, 320, 960, 2000, 1440, 800, 720, 320, 1680, 960, 1120, 1840, 1280, 400, 720, 1280, 1920, 320, 1520, 320, 1200, 240, 1040, 640, 240, 1120, 1920, 480, 240, 960, 80, 1920, 1120, 640, 1600, 80, 1360, 960, 1440, 240, 560, 480, 1200, 720, 480, 320, 400, 800, 160, 1280, 1760, 1120, 240, 1840, 1040, 400, 160, 400, 2000, 1120, 720, 1360, 240, 880, 800, 880, 1760, 1360, 160, 1680, 2000, 640, 320, 880, 1840, 880, 1040, 1120, 1840, 1760, 560, 640, 1600, 400, 1280, 1440, 1760, 720, 1760, 800, 640, 480, 720, 80]\n",
            "[260.72583 422.2968  873.73413 ... 302.19745 613.86365 353.9633 ]\n"
          ]
        },
        {
          "output_type": "stream",
          "name": "stderr",
          "text": [
            "100%|██████████| 2350/2350 [01:47<00:00, 21.79it/s]\n"
          ]
        },
        {
          "output_type": "stream",
          "name": "stdout",
          "text": [
            "Results (freq_10_reference_30)\n",
            "Real_abs:\n",
            "[480, 640, 720, 880, 1280, 1440, 400, 160, 960, 1600, 960, 2000, 1600, 80, 800, 1360, 1200, 640, 1360, 320, 1040, 2000, 1760, 160, 1120, 1280, 320, 1200, 800, 1120, 1360, 1520, 1280, 480, 1440, 320, 160, 560, 1840, 1360, 480, 320, 1680, 1360, 1280, 960, 480, 560, 1920, 1440, 1040, 240, 1520, 80, 1840, 880, 640, 480, 960, 1680, 1600, 720, 640, 160, 400, 1280, 1840, 1280, 960, 880, 400, 1920, 1440, 1040, 1920, 1600, 1200, 1760, 1360, 1280, 1360, 1760, 1920, 640, 400, 1120, 560, 1280, 2000, 640, 800, 720, 720, 1760, 1920, 1680, 1600, 1040, 800, 1120, 960, 1680, 720, 320, 560, 1200, 480, 1120, 240, 2000, 1520, 880, 640, 1440, 1520, 400, 80, 720, 1360, 320, 1680, 400, 800, 960, 480, 320, 1360, 1120, 400, 400, 1520, 480, 800, 1840, 640, 480, 1040, 240, 1520, 1920, 1520, 1600, 1040, 1360, 1680, 720, 720, 1040, 160, 160, 1120, 880, 1840, 2000, 640, 560, 1280, 320, 1680, 80, 1280, 1200, 2000, 1920, 800, 80, 880, 320, 560, 1520, 1760, 480, 1920, 1360, 2000, 880, 1920, 160, 240, 1360, 1280, 1120, 160, 880, 1360, 800, 80, 2000, 1840, 640, 1040, 1760, 480, 480, 720, 1280, 1840, 1200, 560, 1200, 1920, 1760, 1760, 1920, 800, 1440, 1120, 1600, 1840, 1360, 480, 880, 1680, 640, 560, 320, 960, 240, 1440, 320, 960, 2000, 960, 1120, 640, 1920, 1280, 320, 960, 800, 320, 320, 640, 1440, 560, 880, 1600, 1200, 1920, 800, 480, 800, 880, 80, 160, 1520, 560, 1760, 480, 1920, 1680, 160, 1520, 1360, 160, 1120, 400, 720, 80, 1200, 1840, 1920, 720, 320, 1120, 1520, 2000, 1440, 2000, 1840, 1040, 1360, 800, 1280, 1680, 1200, 1120, 640, 320, 1120, 640, 720, 880, 320, 2000, 720, 2000, 1600, 800, 1840, 1440, 1680, 400, 560, 1120, 1200, 1200, 1760, 1600, 1360, 1120, 480, 1520, 1360, 160, 1200, 1200, 1920, 1600, 640, 1120, 1200, 2000, 1840, 160, 1040, 400, 640, 160, 1440, 640, 800, 480, 1280, 880, 800, 1600, 80, 1600, 1040, 1920, 1120, 1520, 1680, 480, 1200, 80, 560, 2000, 1440, 560, 320, 160, 1360, 480, 1200, 1040, 1120, 880, 1760, 1440, 1200, 1200, 1760, 1120, 1760, 80, 1360, 800, 1360, 1520, 1440, 800, 80, 960, 1280, 1040, 240, 880, 1440, 240, 720, 80, 560, 1680, 800, 480, 160, 240, 1520, 1360, 320, 640, 1680, 1680, 1040, 1040, 1600, 400, 1120, 1040, 1040, 1760, 160, 1760, 2000, 1120, 320, 480, 1360, 640, 1520, 1760, 560, 1120, 400, 960, 160, 1440, 880, 1760, 640, 720, 1600, 560, 80, 1680, 2000, 1920, 160, 1680, 80, 1920, 1680, 1040, 400, 160, 1280, 1200, 1520, 880, 1840, 880, 240, 1520, 80, 560, 1360, 1520, 1520, 960, 400, 880, 1680, 880, 1200, 1520, 1040, 640, 960, 720, 1600, 1360, 240, 960, 1440, 400, 560, 1600, 880, 1200, 1040, 400, 960, 480, 80, 1360, 800, 2000, 960, 1280, 2000, 1440, 1520, 1760, 1920, 1840, 560, 1680, 240, 640, 1760, 480, 1840, 320, 480, 240, 1760, 320, 400, 2000, 1600, 960, 1040, 160, 1280, 240, 720, 1680, 1120, 2000, 720, 880, 800, 800, 720, 1920, 1680, 1040, 320, 160, 640, 720, 1120, 1600, 240, 1360, 1680, 1440, 240, 160, 1760, 1600, 1360, 640, 640, 880, 880, 1280, 880, 880, 1520, 2000, 240, 720, 1280, 640, 560, 1680, 1360, 800, 1920, 1280, 1760, 480, 1200, 1280, 880, 1440, 400, 1200, 400, 800, 880, 1280, 1120, 1520, 1920, 1120, 480, 1040, 1920, 1840, 480, 640, 560, 720, 1360, 320, 1840, 800, 1040, 1360, 1120, 160, 400, 1040, 640, 560, 800, 560, 400, 1840, 1680, 880, 1760, 80, 1680, 1360, 960, 240, 1120, 800, 1200, 1280, 1520, 960, 1600, 160, 2000, 960, 1440, 240, 80, 80, 960, 160, 1440, 560, 2000, 880, 80, 320, 1920, 1120, 1280, 1840, 1920, 640, 1120, 480, 1520, 1520, 560, 1520, 720, 640, 400, 1600, 160, 1840, 80, 1200, 880, 720, 960, 1360, 640, 560, 960, 960, 1520, 1040, 1200, 480, 1760, 400, 1120, 480, 480, 880, 1600, 160, 720, 1680, 2000, 1120, 2000, 2000, 320, 1360, 800, 560, 400, 1600, 1200, 240, 1840, 320, 240, 880, 720, 1520, 800, 1840, 560, 1920, 1120, 320, 160, 320, 1840, 2000, 640, 1600, 1360, 400, 1760, 640, 800, 1680, 2000, 1280, 240, 560, 1840, 1360, 1120, 1680, 1600, 2000, 160, 1760, 80, 1840, 2000, 1360, 800, 960, 240, 800, 960, 240, 800, 1680, 320, 1200, 160, 560, 640, 720, 880, 1360, 1120, 880, 640, 400, 800, 1680, 880, 720, 880, 960, 160, 1600, 720, 1680, 80, 1440, 1440, 1920, 480, 1040, 1680, 240, 1520, 320, 160, 2000, 1760, 1920, 2000, 1280, 240, 1920, 320, 1360, 1360, 1200, 480, 1920, 1600, 2000, 1280, 880, 1600, 1760, 1680, 240, 1840, 1520, 1840, 720, 80, 1520, 880, 720, 480, 400, 80, 560, 1600, 1280, 1120, 1760, 640, 800, 1600, 160, 1520, 640, 1600, 800, 1520, 720, 400, 960, 1200, 720, 80, 800, 560, 240, 240, 320, 880, 1360, 800, 1120, 80, 1200, 1520, 480, 80, 960, 560, 400, 2000, 1440, 1120, 1200, 1440, 1440, 960, 1120, 1520, 960, 320, 1280, 80, 1040, 720, 960, 1600, 1360, 960, 1280, 640, 560, 1120, 800, 1120, 960, 1440, 1680, 400, 1440, 1680, 1360, 240, 320, 1520, 800, 80, 1600, 880, 560, 2000, 1200, 1120, 400, 240, 960, 1520, 1040, 1120, 240, 1520, 1920, 1200, 1280, 1920, 1600, 1200, 1680, 1200, 1920, 1520, 320, 1600, 960, 1200, 80, 160, 960, 1600, 560, 400, 80, 2000, 480, 720, 800, 1280, 1600, 1760, 560, 1040, 720, 240, 1280, 1360, 1120, 1840, 1200, 2000, 1040, 560, 480, 880, 1440, 160, 800, 480, 800, 800, 1200, 1040, 240, 160, 1200, 1920, 1040, 400, 560, 800, 1040, 800, 720, 960, 1680, 880, 640, 1520, 1440, 1600, 400, 1920, 1120, 2000, 1840, 1040, 1280, 1200, 960, 1040, 80, 320, 640, 720, 1600, 80, 480, 2000, 1760, 1520, 640, 720, 800, 1040, 480, 560, 1600, 1200, 800, 1440, 1440, 640, 1200, 1200, 560, 1920, 240, 880, 1440, 720, 720, 160, 720, 1680, 640, 1920, 1680, 80, 1200, 480, 640, 1840, 400, 1680, 560, 240, 1120, 1680, 1920, 1920, 1600, 960, 960, 1920, 400, 1440, 1520, 400, 160, 800, 1440, 240, 160, 1280, 160, 400, 560, 640, 1840, 1120, 720, 720, 1920, 2000, 1280, 1520, 1120, 400, 2000, 2000, 1440, 1600, 880, 1360, 80, 2000, 480, 1840, 1360, 1280, 240, 240, 1280, 1920, 1680, 400, 880, 1760, 480, 1520, 1520, 560, 800, 800, 1600, 800, 880, 1360, 1120, 1840, 1280, 480, 80, 320, 1840, 1200, 1920, 1120, 1440, 720, 480, 80, 2000, 1120, 160, 1200, 160, 480, 80, 1600, 1680, 80, 1360, 560, 1680, 1440, 640, 2000, 720, 1360, 480, 160, 1040, 1040, 1040, 1520, 480, 1600, 640, 1600, 1200, 720, 1760, 1760, 880, 720, 640, 560, 240, 480, 1120, 1360, 1200, 1040, 480, 1840, 960, 320, 1840, 1280, 400, 2000, 1280, 1520, 1280, 1040, 1280, 1440, 1520, 1280, 720, 240, 1680, 960, 640, 320, 560, 480, 960, 560, 1280, 960, 1040, 480, 400, 1600, 1520, 1440, 1920, 160, 320, 800, 1440, 640, 480, 1120, 800, 160, 560, 1600, 1920, 1120, 240, 1280, 800, 960, 720, 1280, 400, 1280, 1120, 1680, 240, 1120, 1840, 1920, 1280, 1440, 1040, 1840, 880, 1120, 1600, 1600, 1600, 1120, 1840, 800, 480, 1600, 960, 400, 880, 960, 320, 240, 160, 960, 2000, 800, 2000, 1280, 2000, 1760, 640, 1840, 400, 240, 720, 1360, 1520, 1680, 1280, 240, 1280, 320, 240, 1040, 1200, 240, 1280, 1040, 1280, 1840, 1440, 80, 1360, 720, 560, 1280, 1680, 1120, 880, 160, 1040, 1520, 240, 1600, 1360, 1120, 2000, 160, 1200, 480, 880, 880, 1200, 1600, 480, 1280, 1280, 1360, 640, 160, 1920, 1280, 880, 1520, 1600, 800, 880, 1920, 1600, 160, 160, 400, 1680, 960, 1520, 1440, 1840, 1520, 560, 960, 880, 1840, 720, 1120, 880, 720, 1280, 1760, 400, 880, 480, 1440, 1360, 1040, 1600, 960, 1520, 80, 1360, 1600, 880, 1280, 880, 480, 400, 400, 1520, 1360, 1520, 1600, 880, 1440, 2000, 1200, 1120, 720, 1200, 720, 80, 80, 160, 1440, 160, 1840, 1840, 640, 400, 2000, 1840, 560, 1840, 960, 480, 480, 1840, 240, 1520, 1760, 400, 1440, 80, 1760, 320, 640, 1360, 1840, 1520, 400, 1200, 1760, 2000, 960, 240, 240, 320, 960, 80, 560, 80, 720, 960, 320, 880, 1040, 400, 1120, 880, 880, 560, 1440, 1520, 1520, 1280, 400, 960, 1840, 1200, 800, 800, 1920, 1920, 1680, 1360, 640, 1600, 720, 1840, 880, 1200, 1680, 1680, 1200, 1440, 1680, 160, 1360, 640, 800, 1600, 1200, 640, 1280, 800, 1760, 1520, 560, 1440, 1440, 1120, 240, 1600, 560, 1360, 1040, 1840, 560, 1840, 320, 560, 1520, 640, 80, 1440, 1840, 1760, 160, 1840, 960, 1520, 80, 640, 480, 1680, 1120, 2000, 1200, 160, 800, 1520, 560, 240, 560, 80, 1040, 240, 1440, 2000, 400, 1280, 1920, 1360, 1920, 1120, 320, 800, 1200, 1120, 800, 800, 1600, 880, 80, 720, 800, 1120, 720, 400, 1040, 240, 560, 640, 640, 480, 80, 480, 1280, 2000, 880, 1120, 400, 1040, 880, 320, 1040, 1440, 1040, 1760, 320, 960, 1200, 1360, 400, 560, 1440, 880, 880, 1600, 240, 1680, 1280, 1680, 160, 1600, 1120, 1280, 1360, 1520, 1440, 480, 1280, 1360, 1520, 240, 240, 160, 1280, 160, 240, 80, 640, 1360, 1280, 400, 1600, 1760, 1840, 1120, 1200, 1920, 240, 1680, 1120, 960, 640, 1840, 640, 400, 1200, 1680, 1280, 880, 320, 1840, 1760, 2000, 1280, 2000, 1920, 1600, 1040, 480, 400, 960, 1520, 240, 640, 400, 320, 1440, 240, 1200, 1520, 880, 1200, 1120, 160, 1200, 1520, 400, 80, 640, 480, 400, 880, 1760, 960, 1280, 960, 1520, 1280, 640, 1440, 2000, 320, 480, 1600, 400, 1120, 1280, 1520, 480, 1040, 880, 720, 800, 1280, 800, 560, 1200, 320, 1280, 960, 480, 960, 320, 1680, 960, 80, 1920, 1440, 1920, 320, 1040, 2000, 880, 1760, 1440, 1680, 960, 560, 1680, 800, 160, 1840, 640, 640, 720, 1440, 1440, 1360, 880, 1920, 1600, 1120, 1680, 320, 80, 560, 1280, 1120, 640, 160, 1120, 1120, 800, 1120, 480, 1040, 240, 1520, 1520, 1760, 880, 880, 1680, 720, 1040, 1040, 720, 1040, 1520, 960, 1440, 1440, 960, 800, 1040, 1440, 720, 960, 1120, 1280, 480, 1600, 960, 480, 1600, 1440, 400, 880, 240, 1040, 1120, 800, 400, 1200, 1360, 1120, 1760, 240, 720, 1920, 1200, 1200, 320, 1520, 1120, 960, 320, 1840, 1360, 720, 1200, 1920, 1040, 1520, 2000, 1840, 1600, 960, 1680, 400, 1760, 1840, 2000, 1280, 480, 1680, 80, 1040, 320, 800, 320, 1360, 320, 1280, 560, 160, 160, 1520, 1680, 80, 1360, 880, 400, 400, 1440, 320, 2000, 960, 880, 1600, 1840, 160, 1920, 480, 1360, 1680, 1280, 1040, 160, 80, 800, 1760, 400, 1600, 1200, 1440, 960, 480, 1200, 1440, 800, 800, 800, 1520, 160, 1840, 1440, 880, 1680, 640, 720, 2000, 480, 1760, 640, 1840, 800, 1280, 720, 240, 1920, 560, 720, 1680, 160, 560, 2000, 1840, 800, 880, 1440, 1200, 1280, 960, 160, 1600, 2000, 320, 1360, 240, 1520, 1840, 1920, 1200, 1840, 960, 1920, 320, 160, 1680, 1760, 1040, 240, 400, 1040, 2000, 1840, 1520, 1840, 1040, 2000, 480, 1040, 560, 800, 560, 960, 880, 1760, 880, 1360, 1600, 80, 240, 240, 2000, 960, 1360, 880, 2000, 1760, 240, 640, 1120, 800, 1760, 960, 800, 560, 1040, 1920, 1520, 800, 1600, 560, 1120, 1680, 960, 640, 1840, 720, 400, 880, 1200, 480, 960, 1200, 1440, 1200, 1120, 1760, 1600, 960, 1600, 1200, 800, 1040, 1120, 1840, 80, 640, 1920, 720, 400, 1920, 160, 1040, 1120, 2000, 480, 1280, 960, 1440, 320, 880, 1200, 320, 2000, 1760, 880, 640, 1840, 160, 1360, 1280, 1120, 1760, 1360, 1520, 720, 1760, 1920, 560, 1200, 560, 960, 400, 1120, 560, 1200, 80, 1520, 1520, 1600, 1520, 640, 1120, 1440, 1760, 480, 1840, 1680, 1440, 960, 400, 160, 1040, 1280, 1280, 1680, 1280, 1280, 1440, 1440, 1120, 960, 1280, 1360, 1680, 1920, 160, 1520, 1360, 1840, 560, 1600, 1120, 1520, 400, 560, 800, 480, 2000, 1200, 560, 720, 1120, 1280, 1440, 1200, 1600, 160, 1440, 160, 80, 80, 1600, 640, 1040, 1760, 480, 80, 1040, 1920, 160, 1280, 640, 1280, 400, 1280, 1200, 1440, 1280, 1440, 1920, 400, 640, 1520, 1280, 1920, 160, 1680, 1360, 640, 2000, 1840, 400, 240, 80, 800, 1440, 800, 80, 1360, 240, 720, 2000, 1360, 1360, 1280, 560, 1760, 320, 160, 1120, 960, 640, 1360, 1360, 80, 240, 1120, 1200, 160, 1760, 960, 880, 1520, 1680, 800, 480, 160, 1280, 1280, 160, 160, 80, 1200, 1360, 2000, 880, 640, 320, 1040, 1200, 240, 1040, 1360, 2000, 880, 1760, 1120, 240, 160, 1440, 1840, 1760, 160, 80, 1840, 1200, 1600, 240, 1760, 1840, 720, 240, 320, 320, 1040, 240, 400, 1040, 160, 160, 1040, 1440, 1280, 320, 80, 800, 960, 1760, 880, 880, 560, 1280, 1680, 160, 960, 1120, 480, 1040, 1920, 960, 1920, 400, 1120, 640, 400, 1840, 1120, 1600, 960, 1920, 1680, 800, 1520, 240, 720, 1840, 320, 560, 80, 160, 1040, 160, 1760, 960, 800, 640, 2000, 1520, 1200, 2000, 1360, 880, 960, 480, 80, 1600, 1600, 80, 320, 560, 2000, 1840, 1280, 1360, 880, 880, 1760, 720, 1840, 80, 480, 1600, 640, 1520, 2000, 240, 1600, 1440, 1360, 480, 2000, 1520, 1520, 1360, 1120, 1520, 1280, 800, 1920, 880, 80, 80, 1040, 880, 1600, 1120, 880, 560, 640, 1120, 1840, 80, 1200, 1040, 960, 160, 1360, 480, 2000, 1200, 1760, 2000, 1280, 1600, 1280, 560, 640, 640, 1760, 1280, 640, 160, 1120, 1600, 1120, 1680, 1600, 320, 480, 1040, 1440, 240, 240, 1680, 1280, 720, 960, 240, 1280, 240, 480, 1040, 1200, 1920, 640, 240, 800, 240, 560, 640, 880, 1680, 1840, 1920, 1200, 160, 800, 720, 1360, 1520, 1200, 1440, 1760, 240, 240, 1760, 320, 1360, 720, 1360, 320, 2000, 160, 720, 1600, 1760, 480, 1120, 1040, 800, 320, 960, 2000, 1440, 800, 720, 320, 1680, 960, 1120, 1840, 1280, 400, 720, 1280, 1920, 320, 1520, 320, 1200, 240, 1040, 640, 240, 1120, 1920, 480, 240, 960, 80, 1920, 1120, 640, 1600, 80, 1360, 960, 1440, 240, 560, 480, 1200, 720, 480, 320, 400, 800, 160, 1280, 1760, 1120, 240, 1840, 1040, 400, 160, 400, 2000, 1120, 720, 1360, 240, 880, 800, 880, 1760, 1360, 160, 1680, 2000, 640, 320, 880, 1840, 880, 1040, 1120, 1840, 1760, 560, 640, 1600, 400, 1280, 1440, 1760, 720, 1760, 800, 640, 480, 720, 80]\n",
            "Pred_abs:\n",
            "[ 333.83725  392.47247  690.74414 ...  400.20923 1078.6179   626.8405 ]\n"
          ]
        },
        {
          "output_type": "display_data",
          "data": {
            "text/plain": [
              "<Figure size 432x288 with 1 Axes>"
            ],
            "image/png": "[encoded data removed]"
          },
          "metadata": {
            "needs_background": "light"
          }
        },
        {
          "output_type": "stream",
          "name": "stdout",
          "text": [
            "[0.20833333333333334, 0.2916666666666667, 0.3333333333333333, 0.4166666666666667, 0.625, 0.7083333333333334, 0.16666666666666666, 0.041666666666666664, 0.4583333333333333, 0.7916666666666666, 0.4583333333333333, 1.0, 0.7916666666666666, 0.0, 0.375, 0.6666666666666666, 0.5833333333333334, 0.2916666666666667, 0.6666666666666666, 0.125, 0.5, 1.0, 0.875, 0.041666666666666664, 0.5416666666666666, 0.625, 0.125, 0.5833333333333334, 0.375, 0.5416666666666666, 0.6666666666666666, 0.75, 0.625, 0.20833333333333334, 0.7083333333333334, 0.125, 0.041666666666666664, 0.25, 0.9166666666666666, 0.6666666666666666, 0.20833333333333334, 0.125, 0.8333333333333334, 0.6666666666666666, 0.625, 0.4583333333333333, 0.20833333333333334, 0.25, 0.9583333333333334, 0.7083333333333334, 0.5, 0.08333333333333333, 0.75, 0.0, 0.9166666666666666, 0.4166666666666667, 0.2916666666666667, 0.20833333333333334, 0.4583333333333333, 0.8333333333333334, 0.7916666666666666, 0.3333333333333333, 0.2916666666666667, 0.041666666666666664, 0.16666666666666666, 0.625, 0.9166666666666666, 0.625, 0.4583333333333333, 0.4166666666666667, 0.16666666666666666, 0.9583333333333334, 0.7083333333333334, 0.5, 0.9583333333333334, 0.7916666666666666, 0.5833333333333334, 0.875, 0.6666666666666666, 0.625, 0.6666666666666666, 0.875, 0.9583333333333334, 0.2916666666666667, 0.16666666666666666, 0.5416666666666666, 0.25, 0.625, 1.0, 0.2916666666666667, 0.375, 0.3333333333333333, 0.3333333333333333, 0.875, 0.9583333333333334, 0.8333333333333334, 0.7916666666666666, 0.5, 0.375, 0.5416666666666666, 0.4583333333333333, 0.8333333333333334, 0.3333333333333333, 0.125, 0.25, 0.5833333333333334, 0.20833333333333334, 0.5416666666666666, 0.08333333333333333, 1.0, 0.75, 0.4166666666666667, 0.2916666666666667, 0.7083333333333334, 0.75, 0.16666666666666666, 0.0, 0.3333333333333333, 0.6666666666666666, 0.125, 0.8333333333333334, 0.16666666666666666, 0.375, 0.4583333333333333, 0.20833333333333334, 0.125, 0.6666666666666666, 0.5416666666666666, 0.16666666666666666, 0.16666666666666666, 0.75, 0.20833333333333334, 0.375, 0.9166666666666666, 0.2916666666666667, 0.20833333333333334, 0.5, 0.08333333333333333, 0.75, 0.9583333333333334, 0.75, 0.7916666666666666, 0.5, 0.6666666666666666, 0.8333333333333334, 0.3333333333333333, 0.3333333333333333, 0.5, 0.041666666666666664, 0.041666666666666664, 0.5416666666666666, 0.4166666666666667, 0.9166666666666666, 1.0, 0.2916666666666667, 0.25, 0.625, 0.125, 0.8333333333333334, 0.0, 0.625, 0.5833333333333334, 1.0, 0.9583333333333334, 0.375, 0.0, 0.4166666666666667, 0.125, 0.25, 0.75, 0.875, 0.20833333333333334, 0.9583333333333334, 0.6666666666666666, 1.0, 0.4166666666666667, 0.9583333333333334, 0.041666666666666664, 0.08333333333333333, 0.6666666666666666, 0.625, 0.5416666666666666, 0.041666666666666664, 0.4166666666666667, 0.6666666666666666, 0.375, 0.0, 1.0, 0.9166666666666666, 0.2916666666666667, 0.5, 0.875, 0.20833333333333334, 0.20833333333333334, 0.3333333333333333, 0.625, 0.9166666666666666, 0.5833333333333334, 0.25, 0.5833333333333334, 0.9583333333333334, 0.875, 0.875, 0.9583333333333334, 0.375, 0.7083333333333334, 0.5416666666666666, 0.7916666666666666, 0.9166666666666666, 0.6666666666666666, 0.20833333333333334, 0.4166666666666667, 0.8333333333333334, 0.2916666666666667, 0.25, 0.125, 0.4583333333333333, 0.08333333333333333, 0.7083333333333334, 0.125, 0.4583333333333333, 1.0, 0.4583333333333333, 0.5416666666666666, 0.2916666666666667, 0.9583333333333334, 0.625, 0.125, 0.4583333333333333, 0.375, 0.125, 0.125, 0.2916666666666667, 0.7083333333333334, 0.25, 0.4166666666666667, 0.7916666666666666, 0.5833333333333334, 0.9583333333333334, 0.375, 0.20833333333333334, 0.375, 0.4166666666666667, 0.0, 0.041666666666666664, 0.75, 0.25, 0.875, 0.20833333333333334, 0.9583333333333334, 0.8333333333333334, 0.041666666666666664, 0.75, 0.6666666666666666, 0.041666666666666664, 0.5416666666666666, 0.16666666666666666, 0.3333333333333333, 0.0, 0.5833333333333334, 0.9166666666666666, 0.9583333333333334, 0.3333333333333333, 0.125, 0.5416666666666666, 0.75, 1.0, 0.7083333333333334, 1.0, 0.9166666666666666, 0.5, 0.6666666666666666, 0.375, 0.625, 0.8333333333333334, 0.5833333333333334, 0.5416666666666666, 0.2916666666666667, 0.125, 0.5416666666666666, 0.2916666666666667, 0.3333333333333333, 0.4166666666666667, 0.125, 1.0, 0.3333333333333333, 1.0, 0.7916666666666666, 0.375, 0.9166666666666666, 0.7083333333333334, 0.8333333333333334, 0.16666666666666666, 0.25, 0.5416666666666666, 0.5833333333333334, 0.5833333333333334, 0.875, 0.7916666666666666, 0.6666666666666666, 0.5416666666666666, 0.20833333333333334, 0.75, 0.6666666666666666, 0.041666666666666664, 0.5833333333333334, 0.5833333333333334, 0.9583333333333334, 0.7916666666666666, 0.2916666666666667, 0.5416666666666666, 0.5833333333333334, 1.0, 0.9166666666666666, 0.041666666666666664, 0.5, 0.16666666666666666, 0.2916666666666667, 0.041666666666666664, 0.7083333333333334, 0.2916666666666667, 0.375, 0.20833333333333334, 0.625, 0.4166666666666667, 0.375, 0.7916666666666666, 0.0, 0.7916666666666666, 0.5, 0.9583333333333334, 0.5416666666666666, 0.75, 0.8333333333333334, 0.20833333333333334, 0.5833333333333334, 0.0, 0.25, 1.0, 0.7083333333333334, 0.25, 0.125, 0.041666666666666664, 0.6666666666666666, 0.20833333333333334, 0.5833333333333334, 0.5, 0.5416666666666666, 0.4166666666666667, 0.875, 0.7083333333333334, 0.5833333333333334, 0.5833333333333334, 0.875, 0.5416666666666666, 0.875, 0.0, 0.6666666666666666, 0.375, 0.6666666666666666, 0.75, 0.7083333333333334, 0.375, 0.0, 0.4583333333333333, 0.625, 0.5, 0.08333333333333333, 0.4166666666666667, 0.7083333333333334, 0.08333333333333333, 0.3333333333333333, 0.0, 0.25, 0.8333333333333334, 0.375, 0.20833333333333334, 0.041666666666666664, 0.08333333333333333, 0.75, 0.6666666666666666, 0.125, 0.2916666666666667, 0.8333333333333334, 0.8333333333333334, 0.5, 0.5, 0.7916666666666666, 0.16666666666666666, 0.5416666666666666, 0.5, 0.5, 0.875, 0.041666666666666664, 0.875, 1.0, 0.5416666666666666, 0.125, 0.20833333333333334, 0.6666666666666666, 0.2916666666666667, 0.75, 0.875, 0.25, 0.5416666666666666, 0.16666666666666666, 0.4583333333333333, 0.041666666666666664, 0.7083333333333334, 0.4166666666666667, 0.875, 0.2916666666666667, 0.3333333333333333, 0.7916666666666666, 0.25, 0.0, 0.8333333333333334, 1.0, 0.9583333333333334, 0.041666666666666664, 0.8333333333333334, 0.0, 0.9583333333333334, 0.8333333333333334, 0.5, 0.16666666666666666, 0.041666666666666664, 0.625, 0.5833333333333334, 0.75, 0.4166666666666667, 0.9166666666666666, 0.4166666666666667, 0.08333333333333333, 0.75, 0.0, 0.25, 0.6666666666666666, 0.75, 0.75, 0.4583333333333333, 0.16666666666666666, 0.4166666666666667, 0.8333333333333334, 0.4166666666666667, 0.5833333333333334, 0.75, 0.5, 0.2916666666666667, 0.4583333333333333, 0.3333333333333333, 0.7916666666666666, 0.6666666666666666, 0.08333333333333333, 0.4583333333333333, 0.7083333333333334, 0.16666666666666666, 0.25, 0.7916666666666666, 0.4166666666666667, 0.5833333333333334, 0.5, 0.16666666666666666, 0.4583333333333333, 0.20833333333333334, 0.0, 0.6666666666666666, 0.375, 1.0, 0.4583333333333333, 0.625, 1.0, 0.7083333333333334, 0.75, 0.875, 0.9583333333333334, 0.9166666666666666, 0.25, 0.8333333333333334, 0.08333333333333333, 0.2916666666666667, 0.875, 0.20833333333333334, 0.9166666666666666, 0.125, 0.20833333333333334, 0.08333333333333333, 0.875, 0.125, 0.16666666666666666, 1.0, 0.7916666666666666, 0.4583333333333333, 0.5, 0.041666666666666664, 0.625, 0.08333333333333333, 0.3333333333333333, 0.8333333333333334, 0.5416666666666666, 1.0, 0.3333333333333333, 0.4166666666666667, 0.375, 0.375, 0.3333333333333333, 0.9583333333333334, 0.8333333333333334, 0.5, 0.125, 0.041666666666666664, 0.2916666666666667, 0.3333333333333333, 0.5416666666666666, 0.7916666666666666, 0.08333333333333333, 0.6666666666666666, 0.8333333333333334, 0.7083333333333334, 0.08333333333333333, 0.041666666666666664, 0.875, 0.7916666666666666, 0.6666666666666666, 0.2916666666666667, 0.2916666666666667, 0.4166666666666667, 0.4166666666666667, 0.625, 0.4166666666666667, 0.4166666666666667, 0.75, 1.0, 0.08333333333333333, 0.3333333333333333, 0.625, 0.2916666666666667, 0.25, 0.8333333333333334, 0.6666666666666666, 0.375, 0.9583333333333334, 0.625, 0.875, 0.20833333333333334, 0.5833333333333334, 0.625, 0.4166666666666667, 0.7083333333333334, 0.16666666666666666, 0.5833333333333334, 0.16666666666666666, 0.375, 0.4166666666666667, 0.625, 0.5416666666666666, 0.75, 0.9583333333333334, 0.5416666666666666, 0.20833333333333334, 0.5, 0.9583333333333334, 0.9166666666666666, 0.20833333333333334, 0.2916666666666667, 0.25, 0.3333333333333333, 0.6666666666666666, 0.125, 0.9166666666666666, 0.375, 0.5, 0.6666666666666666, 0.5416666666666666, 0.041666666666666664, 0.16666666666666666, 0.5, 0.2916666666666667, 0.25, 0.375, 0.25, 0.16666666666666666, 0.9166666666666666, 0.8333333333333334, 0.4166666666666667, 0.875, 0.0, 0.8333333333333334, 0.6666666666666666, 0.4583333333333333, 0.08333333333333333, 0.5416666666666666, 0.375, 0.5833333333333334, 0.625, 0.75, 0.4583333333333333, 0.7916666666666666, 0.041666666666666664, 1.0, 0.4583333333333333, 0.7083333333333334, 0.08333333333333333, 0.0, 0.0, 0.4583333333333333, 0.041666666666666664, 0.7083333333333334, 0.25, 1.0, 0.4166666666666667, 0.0, 0.125, 0.9583333333333334, 0.5416666666666666, 0.625, 0.9166666666666666, 0.9583333333333334, 0.2916666666666667, 0.5416666666666666, 0.20833333333333334, 0.75, 0.75, 0.25, 0.75, 0.3333333333333333, 0.2916666666666667, 0.16666666666666666, 0.7916666666666666, 0.041666666666666664, 0.9166666666666666, 0.0, 0.5833333333333334, 0.4166666666666667, 0.3333333333333333, 0.4583333333333333, 0.6666666666666666, 0.2916666666666667, 0.25, 0.4583333333333333, 0.4583333333333333, 0.75, 0.5, 0.5833333333333334, 0.20833333333333334, 0.875, 0.16666666666666666, 0.5416666666666666, 0.20833333333333334, 0.20833333333333334, 0.4166666666666667, 0.7916666666666666, 0.041666666666666664, 0.3333333333333333, 0.8333333333333334, 1.0, 0.5416666666666666, 1.0, 1.0, 0.125, 0.6666666666666666, 0.375, 0.25, 0.16666666666666666, 0.7916666666666666, 0.5833333333333334, 0.08333333333333333, 0.9166666666666666, 0.125, 0.08333333333333333, 0.4166666666666667, 0.3333333333333333, 0.75, 0.375, 0.9166666666666666, 0.25, 0.9583333333333334, 0.5416666666666666, 0.125, 0.041666666666666664, 0.125, 0.9166666666666666, 1.0, 0.2916666666666667, 0.7916666666666666, 0.6666666666666666, 0.16666666666666666, 0.875, 0.2916666666666667, 0.375, 0.8333333333333334, 1.0, 0.625, 0.08333333333333333, 0.25, 0.9166666666666666, 0.6666666666666666, 0.5416666666666666, 0.8333333333333334, 0.7916666666666666, 1.0, 0.041666666666666664, 0.875, 0.0, 0.9166666666666666, 1.0, 0.6666666666666666, 0.375, 0.4583333333333333, 0.08333333333333333, 0.375, 0.4583333333333333, 0.08333333333333333, 0.375, 0.8333333333333334, 0.125, 0.5833333333333334, 0.041666666666666664, 0.25, 0.2916666666666667, 0.3333333333333333, 0.4166666666666667, 0.6666666666666666, 0.5416666666666666, 0.4166666666666667, 0.2916666666666667, 0.16666666666666666, 0.375, 0.8333333333333334, 0.4166666666666667, 0.3333333333333333, 0.4166666666666667, 0.4583333333333333, 0.041666666666666664, 0.7916666666666666, 0.3333333333333333, 0.8333333333333334, 0.0, 0.7083333333333334, 0.7083333333333334, 0.9583333333333334, 0.20833333333333334, 0.5, 0.8333333333333334, 0.08333333333333333, 0.75, 0.125, 0.041666666666666664, 1.0, 0.875, 0.9583333333333334, 1.0, 0.625, 0.08333333333333333, 0.9583333333333334, 0.125, 0.6666666666666666, 0.6666666666666666, 0.5833333333333334, 0.20833333333333334, 0.9583333333333334, 0.7916666666666666, 1.0, 0.625, 0.4166666666666667, 0.7916666666666666, 0.875, 0.8333333333333334, 0.08333333333333333, 0.9166666666666666, 0.75, 0.9166666666666666, 0.3333333333333333, 0.0, 0.75, 0.4166666666666667, 0.3333333333333333, 0.20833333333333334, 0.16666666666666666, 0.0, 0.25, 0.7916666666666666, 0.625, 0.5416666666666666, 0.875, 0.2916666666666667, 0.375, 0.7916666666666666, 0.041666666666666664, 0.75, 0.2916666666666667, 0.7916666666666666, 0.375, 0.75, 0.3333333333333333, 0.16666666666666666, 0.4583333333333333, 0.5833333333333334, 0.3333333333333333, 0.0, 0.375, 0.25, 0.08333333333333333, 0.08333333333333333, 0.125, 0.4166666666666667, 0.6666666666666666, 0.375, 0.5416666666666666, 0.0, 0.5833333333333334, 0.75, 0.20833333333333334, 0.0, 0.4583333333333333, 0.25, 0.16666666666666666, 1.0, 0.7083333333333334, 0.5416666666666666, 0.5833333333333334, 0.7083333333333334, 0.7083333333333334, 0.4583333333333333, 0.5416666666666666, 0.75, 0.4583333333333333, 0.125, 0.625, 0.0, 0.5, 0.3333333333333333, 0.4583333333333333, 0.7916666666666666, 0.6666666666666666, 0.4583333333333333, 0.625, 0.2916666666666667, 0.25, 0.5416666666666666, 0.375, 0.5416666666666666, 0.4583333333333333, 0.7083333333333334, 0.8333333333333334, 0.16666666666666666, 0.7083333333333334, 0.8333333333333334, 0.6666666666666666, 0.08333333333333333, 0.125, 0.75, 0.375, 0.0, 0.7916666666666666, 0.4166666666666667, 0.25, 1.0, 0.5833333333333334, 0.5416666666666666, 0.16666666666666666, 0.08333333333333333, 0.4583333333333333, 0.75, 0.5, 0.5416666666666666, 0.08333333333333333, 0.75, 0.9583333333333334, 0.5833333333333334, 0.625, 0.9583333333333334, 0.7916666666666666, 0.5833333333333334, 0.8333333333333334, 0.5833333333333334, 0.9583333333333334, 0.75, 0.125, 0.7916666666666666, 0.4583333333333333, 0.5833333333333334, 0.0, 0.041666666666666664, 0.4583333333333333, 0.7916666666666666, 0.25, 0.16666666666666666, 0.0, 1.0, 0.20833333333333334, 0.3333333333333333, 0.375, 0.625, 0.7916666666666666, 0.875, 0.25, 0.5, 0.3333333333333333, 0.08333333333333333, 0.625, 0.6666666666666666, 0.5416666666666666, 0.9166666666666666, 0.5833333333333334, 1.0, 0.5, 0.25, 0.20833333333333334, 0.4166666666666667, 0.7083333333333334, 0.041666666666666664, 0.375, 0.20833333333333334, 0.375, 0.375, 0.5833333333333334, 0.5, 0.08333333333333333, 0.041666666666666664, 0.5833333333333334, 0.9583333333333334, 0.5, 0.16666666666666666, 0.25, 0.375, 0.5, 0.375, 0.3333333333333333, 0.4583333333333333, 0.8333333333333334, 0.4166666666666667, 0.2916666666666667, 0.75, 0.7083333333333334, 0.7916666666666666, 0.16666666666666666, 0.9583333333333334, 0.5416666666666666, 1.0, 0.9166666666666666, 0.5, 0.625, 0.5833333333333334, 0.4583333333333333, 0.5, 0.0, 0.125, 0.2916666666666667, 0.3333333333333333, 0.7916666666666666, 0.0, 0.20833333333333334, 1.0, 0.875, 0.75, 0.2916666666666667, 0.3333333333333333, 0.375, 0.5, 0.20833333333333334, 0.25, 0.7916666666666666, 0.5833333333333334, 0.375, 0.7083333333333334, 0.7083333333333334, 0.2916666666666667, 0.5833333333333334, 0.5833333333333334, 0.25, 0.9583333333333334, 0.08333333333333333, 0.4166666666666667, 0.7083333333333334, 0.3333333333333333, 0.3333333333333333, 0.041666666666666664, 0.3333333333333333, 0.8333333333333334, 0.2916666666666667, 0.9583333333333334, 0.8333333333333334, 0.0, 0.5833333333333334, 0.20833333333333334, 0.2916666666666667, 0.9166666666666666, 0.16666666666666666, 0.8333333333333334, 0.25, 0.08333333333333333, 0.5416666666666666, 0.8333333333333334, 0.9583333333333334, 0.9583333333333334, 0.7916666666666666, 0.4583333333333333, 0.4583333333333333, 0.9583333333333334, 0.16666666666666666, 0.7083333333333334, 0.75, 0.16666666666666666, 0.041666666666666664, 0.375, 0.7083333333333334, 0.08333333333333333, 0.041666666666666664, 0.625, 0.041666666666666664, 0.16666666666666666, 0.25, 0.2916666666666667, 0.9166666666666666, 0.5416666666666666, 0.3333333333333333, 0.3333333333333333, 0.9583333333333334, 1.0, 0.625, 0.75, 0.5416666666666666, 0.16666666666666666, 1.0, 1.0, 0.7083333333333334, 0.7916666666666666, 0.4166666666666667, 0.6666666666666666, 0.0, 1.0, 0.20833333333333334, 0.9166666666666666, 0.6666666666666666, 0.625, 0.08333333333333333, 0.08333333333333333, 0.625, 0.9583333333333334, 0.8333333333333334, 0.16666666666666666, 0.4166666666666667, 0.875, 0.20833333333333334, 0.75, 0.75, 0.25, 0.375, 0.375, 0.7916666666666666, 0.375, 0.4166666666666667, 0.6666666666666666, 0.5416666666666666, 0.9166666666666666, 0.625, 0.20833333333333334, 0.0, 0.125, 0.9166666666666666, 0.5833333333333334, 0.9583333333333334, 0.5416666666666666, 0.7083333333333334, 0.3333333333333333, 0.20833333333333334, 0.0, 1.0, 0.5416666666666666, 0.041666666666666664, 0.5833333333333334, 0.041666666666666664, 0.20833333333333334, 0.0, 0.7916666666666666, 0.8333333333333334, 0.0, 0.6666666666666666, 0.25, 0.8333333333333334, 0.7083333333333334, 0.2916666666666667, 1.0, 0.3333333333333333, 0.6666666666666666, 0.20833333333333334, 0.041666666666666664, 0.5, 0.5, 0.5, 0.75, 0.20833333333333334, 0.7916666666666666, 0.2916666666666667, 0.7916666666666666, 0.5833333333333334, 0.3333333333333333, 0.875, 0.875, 0.4166666666666667, 0.3333333333333333, 0.2916666666666667, 0.25, 0.08333333333333333, 0.20833333333333334, 0.5416666666666666, 0.6666666666666666, 0.5833333333333334, 0.5, 0.20833333333333334, 0.9166666666666666, 0.4583333333333333, 0.125, 0.9166666666666666, 0.625, 0.16666666666666666, 1.0, 0.625, 0.75, 0.625, 0.5, 0.625, 0.7083333333333334, 0.75, 0.625, 0.3333333333333333, 0.08333333333333333, 0.8333333333333334, 0.4583333333333333, 0.2916666666666667, 0.125, 0.25, 0.20833333333333334, 0.4583333333333333, 0.25, 0.625, 0.4583333333333333, 0.5, 0.20833333333333334, 0.16666666666666666, 0.7916666666666666, 0.75, 0.7083333333333334, 0.9583333333333334, 0.041666666666666664, 0.125, 0.375, 0.7083333333333334, 0.2916666666666667, 0.20833333333333334, 0.5416666666666666, 0.375, 0.041666666666666664, 0.25, 0.7916666666666666, 0.9583333333333334, 0.5416666666666666, 0.08333333333333333, 0.625, 0.375, 0.4583333333333333, 0.3333333333333333, 0.625, 0.16666666666666666, 0.625, 0.5416666666666666, 0.8333333333333334, 0.08333333333333333, 0.5416666666666666, 0.9166666666666666, 0.9583333333333334, 0.625, 0.7083333333333334, 0.5, 0.9166666666666666, 0.4166666666666667, 0.5416666666666666, 0.7916666666666666, 0.7916666666666666, 0.7916666666666666, 0.5416666666666666, 0.9166666666666666, 0.375, 0.20833333333333334, 0.7916666666666666, 0.4583333333333333, 0.16666666666666666, 0.4166666666666667, 0.4583333333333333, 0.125, 0.08333333333333333, 0.041666666666666664, 0.4583333333333333, 1.0, 0.375, 1.0, 0.625, 1.0, 0.875, 0.2916666666666667, 0.9166666666666666, 0.16666666666666666, 0.08333333333333333, 0.3333333333333333, 0.6666666666666666, 0.75, 0.8333333333333334, 0.625, 0.08333333333333333, 0.625, 0.125, 0.08333333333333333, 0.5, 0.5833333333333334, 0.08333333333333333, 0.625, 0.5, 0.625, 0.9166666666666666, 0.7083333333333334, 0.0, 0.6666666666666666, 0.3333333333333333, 0.25, 0.625, 0.8333333333333334, 0.5416666666666666, 0.4166666666666667, 0.041666666666666664, 0.5, 0.75, 0.08333333333333333, 0.7916666666666666, 0.6666666666666666, 0.5416666666666666, 1.0, 0.041666666666666664, 0.5833333333333334, 0.20833333333333334, 0.4166666666666667, 0.4166666666666667, 0.5833333333333334, 0.7916666666666666, 0.20833333333333334, 0.625, 0.625, 0.6666666666666666, 0.2916666666666667, 0.041666666666666664, 0.9583333333333334, 0.625, 0.4166666666666667, 0.75, 0.7916666666666666, 0.375, 0.4166666666666667, 0.9583333333333334, 0.7916666666666666, 0.041666666666666664, 0.041666666666666664, 0.16666666666666666, 0.8333333333333334, 0.4583333333333333, 0.75, 0.7083333333333334, 0.9166666666666666, 0.75, 0.25, 0.4583333333333333, 0.4166666666666667, 0.9166666666666666, 0.3333333333333333, 0.5416666666666666, 0.4166666666666667, 0.3333333333333333, 0.625, 0.875, 0.16666666666666666, 0.4166666666666667, 0.20833333333333334, 0.7083333333333334, 0.6666666666666666, 0.5, 0.7916666666666666, 0.4583333333333333, 0.75, 0.0, 0.6666666666666666, 0.7916666666666666, 0.4166666666666667, 0.625, 0.4166666666666667, 0.20833333333333334, 0.16666666666666666, 0.16666666666666666, 0.75, 0.6666666666666666, 0.75, 0.7916666666666666, 0.4166666666666667, 0.7083333333333334, 1.0, 0.5833333333333334, 0.5416666666666666, 0.3333333333333333, 0.5833333333333334, 0.3333333333333333, 0.0, 0.0, 0.041666666666666664, 0.7083333333333334, 0.041666666666666664, 0.9166666666666666, 0.9166666666666666, 0.2916666666666667, 0.16666666666666666, 1.0, 0.9166666666666666, 0.25, 0.9166666666666666, 0.4583333333333333, 0.20833333333333334, 0.20833333333333334, 0.9166666666666666, 0.08333333333333333, 0.75, 0.875, 0.16666666666666666, 0.7083333333333334, 0.0, 0.875, 0.125, 0.2916666666666667, 0.6666666666666666, 0.9166666666666666, 0.75, 0.16666666666666666, 0.5833333333333334, 0.875, 1.0, 0.4583333333333333, 0.08333333333333333, 0.08333333333333333, 0.125, 0.4583333333333333, 0.0, 0.25, 0.0, 0.3333333333333333, 0.4583333333333333, 0.125, 0.4166666666666667, 0.5, 0.16666666666666666, 0.5416666666666666, 0.4166666666666667, 0.4166666666666667, 0.25, 0.7083333333333334, 0.75, 0.75, 0.625, 0.16666666666666666, 0.4583333333333333, 0.9166666666666666, 0.5833333333333334, 0.375, 0.375, 0.9583333333333334, 0.9583333333333334, 0.8333333333333334, 0.6666666666666666, 0.2916666666666667, 0.7916666666666666, 0.3333333333333333, 0.9166666666666666, 0.4166666666666667, 0.5833333333333334, 0.8333333333333334, 0.8333333333333334, 0.5833333333333334, 0.7083333333333334, 0.8333333333333334, 0.041666666666666664, 0.6666666666666666, 0.2916666666666667, 0.375, 0.7916666666666666, 0.5833333333333334, 0.2916666666666667, 0.625, 0.375, 0.875, 0.75, 0.25, 0.7083333333333334, 0.7083333333333334, 0.5416666666666666, 0.08333333333333333, 0.7916666666666666, 0.25, 0.6666666666666666, 0.5, 0.9166666666666666, 0.25, 0.9166666666666666, 0.125, 0.25, 0.75, 0.2916666666666667, 0.0, 0.7083333333333334, 0.9166666666666666, 0.875, 0.041666666666666664, 0.9166666666666666, 0.4583333333333333, 0.75, 0.0, 0.2916666666666667, 0.20833333333333334, 0.8333333333333334, 0.5416666666666666, 1.0, 0.5833333333333334, 0.041666666666666664, 0.375, 0.75, 0.25, 0.08333333333333333, 0.25, 0.0, 0.5, 0.08333333333333333, 0.7083333333333334, 1.0, 0.16666666666666666, 0.625, 0.9583333333333334, 0.6666666666666666, 0.9583333333333334, 0.5416666666666666, 0.125, 0.375, 0.5833333333333334, 0.5416666666666666, 0.375, 0.375, 0.7916666666666666, 0.4166666666666667, 0.0, 0.3333333333333333, 0.375, 0.5416666666666666, 0.3333333333333333, 0.16666666666666666, 0.5, 0.08333333333333333, 0.25, 0.2916666666666667, 0.2916666666666667, 0.20833333333333334, 0.0, 0.20833333333333334, 0.625, 1.0, 0.4166666666666667, 0.5416666666666666, 0.16666666666666666, 0.5, 0.4166666666666667, 0.125, 0.5, 0.7083333333333334, 0.5, 0.875, 0.125, 0.4583333333333333, 0.5833333333333334, 0.6666666666666666, 0.16666666666666666, 0.25, 0.7083333333333334, 0.4166666666666667, 0.4166666666666667, 0.7916666666666666, 0.08333333333333333, 0.8333333333333334, 0.625, 0.8333333333333334, 0.041666666666666664, 0.7916666666666666, 0.5416666666666666, 0.625, 0.6666666666666666, 0.75, 0.7083333333333334, 0.20833333333333334, 0.625, 0.6666666666666666, 0.75, 0.08333333333333333, 0.08333333333333333, 0.041666666666666664, 0.625, 0.041666666666666664, 0.08333333333333333, 0.0, 0.2916666666666667, 0.6666666666666666, 0.625, 0.16666666666666666, 0.7916666666666666, 0.875, 0.9166666666666666, 0.5416666666666666, 0.5833333333333334, 0.9583333333333334, 0.08333333333333333, 0.8333333333333334, 0.5416666666666666, 0.4583333333333333, 0.2916666666666667, 0.9166666666666666, 0.2916666666666667, 0.16666666666666666, 0.5833333333333334, 0.8333333333333334, 0.625, 0.4166666666666667, 0.125, 0.9166666666666666, 0.875, 1.0, 0.625, 1.0, 0.9583333333333334, 0.7916666666666666, 0.5, 0.20833333333333334, 0.16666666666666666, 0.4583333333333333, 0.75, 0.08333333333333333, 0.2916666666666667, 0.16666666666666666, 0.125, 0.7083333333333334, 0.08333333333333333, 0.5833333333333334, 0.75, 0.4166666666666667, 0.5833333333333334, 0.5416666666666666, 0.041666666666666664, 0.5833333333333334, 0.75, 0.16666666666666666, 0.0, 0.2916666666666667, 0.20833333333333334, 0.16666666666666666, 0.4166666666666667, 0.875, 0.4583333333333333, 0.625, 0.4583333333333333, 0.75, 0.625, 0.2916666666666667, 0.7083333333333334, 1.0, 0.125, 0.20833333333333334, 0.7916666666666666, 0.16666666666666666, 0.5416666666666666, 0.625, 0.75, 0.20833333333333334, 0.5, 0.4166666666666667, 0.3333333333333333, 0.375, 0.625, 0.375, 0.25, 0.5833333333333334, 0.125, 0.625, 0.4583333333333333, 0.20833333333333334, 0.4583333333333333, 0.125, 0.8333333333333334, 0.4583333333333333, 0.0, 0.9583333333333334, 0.7083333333333334, 0.9583333333333334, 0.125, 0.5, 1.0, 0.4166666666666667, 0.875, 0.7083333333333334, 0.8333333333333334, 0.4583333333333333, 0.25, 0.8333333333333334, 0.375, 0.041666666666666664, 0.9166666666666666, 0.2916666666666667, 0.2916666666666667, 0.3333333333333333, 0.7083333333333334, 0.7083333333333334, 0.6666666666666666, 0.4166666666666667, 0.9583333333333334, 0.7916666666666666, 0.5416666666666666, 0.8333333333333334, 0.125, 0.0, 0.25, 0.625, 0.5416666666666666, 0.2916666666666667, 0.041666666666666664, 0.5416666666666666, 0.5416666666666666, 0.375, 0.5416666666666666, 0.20833333333333334, 0.5, 0.08333333333333333, 0.75, 0.75, 0.875, 0.4166666666666667, 0.4166666666666667, 0.8333333333333334, 0.3333333333333333, 0.5, 0.5, 0.3333333333333333, 0.5, 0.75, 0.4583333333333333, 0.7083333333333334, 0.7083333333333334, 0.4583333333333333, 0.375, 0.5, 0.7083333333333334, 0.3333333333333333, 0.4583333333333333, 0.5416666666666666, 0.625, 0.20833333333333334, 0.7916666666666666, 0.4583333333333333, 0.20833333333333334, 0.7916666666666666, 0.7083333333333334, 0.16666666666666666, 0.4166666666666667, 0.08333333333333333, 0.5, 0.5416666666666666, 0.375, 0.16666666666666666, 0.5833333333333334, 0.6666666666666666, 0.5416666666666666, 0.875, 0.08333333333333333, 0.3333333333333333, 0.9583333333333334, 0.5833333333333334, 0.5833333333333334, 0.125, 0.75, 0.5416666666666666, 0.4583333333333333, 0.125, 0.9166666666666666, 0.6666666666666666, 0.3333333333333333, 0.5833333333333334, 0.9583333333333334, 0.5, 0.75, 1.0, 0.9166666666666666, 0.7916666666666666, 0.4583333333333333, 0.8333333333333334, 0.16666666666666666, 0.875, 0.9166666666666666, 1.0, 0.625, 0.20833333333333334, 0.8333333333333334, 0.0, 0.5, 0.125, 0.375, 0.125, 0.6666666666666666, 0.125, 0.625, 0.25, 0.041666666666666664, 0.041666666666666664, 0.75, 0.8333333333333334, 0.0, 0.6666666666666666, 0.4166666666666667, 0.16666666666666666, 0.16666666666666666, 0.7083333333333334, 0.125, 1.0, 0.4583333333333333, 0.4166666666666667, 0.7916666666666666, 0.9166666666666666, 0.041666666666666664, 0.9583333333333334, 0.20833333333333334, 0.6666666666666666, 0.8333333333333334, 0.625, 0.5, 0.041666666666666664, 0.0, 0.375, 0.875, 0.16666666666666666, 0.7916666666666666, 0.5833333333333334, 0.7083333333333334, 0.4583333333333333, 0.20833333333333334, 0.5833333333333334, 0.7083333333333334, 0.375, 0.375, 0.375, 0.75, 0.041666666666666664, 0.9166666666666666, 0.7083333333333334, 0.4166666666666667, 0.8333333333333334, 0.2916666666666667, 0.3333333333333333, 1.0, 0.20833333333333334, 0.875, 0.2916666666666667, 0.9166666666666666, 0.375, 0.625, 0.3333333333333333, 0.08333333333333333, 0.9583333333333334, 0.25, 0.3333333333333333, 0.8333333333333334, 0.041666666666666664, 0.25, 1.0, 0.9166666666666666, 0.375, 0.4166666666666667, 0.7083333333333334, 0.5833333333333334, 0.625, 0.4583333333333333, 0.041666666666666664, 0.7916666666666666, 1.0, 0.125, 0.6666666666666666, 0.08333333333333333, 0.75, 0.9166666666666666, 0.9583333333333334, 0.5833333333333334, 0.9166666666666666, 0.4583333333333333, 0.9583333333333334, 0.125, 0.041666666666666664, 0.8333333333333334, 0.875, 0.5, 0.08333333333333333, 0.16666666666666666, 0.5, 1.0, 0.9166666666666666, 0.75, 0.9166666666666666, 0.5, 1.0, 0.20833333333333334, 0.5, 0.25, 0.375, 0.25, 0.4583333333333333, 0.4166666666666667, 0.875, 0.4166666666666667, 0.6666666666666666, 0.7916666666666666, 0.0, 0.08333333333333333, 0.08333333333333333, 1.0, 0.4583333333333333, 0.6666666666666666, 0.4166666666666667, 1.0, 0.875, 0.08333333333333333, 0.2916666666666667, 0.5416666666666666, 0.375, 0.875, 0.4583333333333333, 0.375, 0.25, 0.5, 0.9583333333333334, 0.75, 0.375, 0.7916666666666666, 0.25, 0.5416666666666666, 0.8333333333333334, 0.4583333333333333, 0.2916666666666667, 0.9166666666666666, 0.3333333333333333, 0.16666666666666666, 0.4166666666666667, 0.5833333333333334, 0.20833333333333334, 0.4583333333333333, 0.5833333333333334, 0.7083333333333334, 0.5833333333333334, 0.5416666666666666, 0.875, 0.7916666666666666, 0.4583333333333333, 0.7916666666666666, 0.5833333333333334, 0.375, 0.5, 0.5416666666666666, 0.9166666666666666, 0.0, 0.2916666666666667, 0.9583333333333334, 0.3333333333333333, 0.16666666666666666, 0.9583333333333334, 0.041666666666666664, 0.5, 0.5416666666666666, 1.0, 0.20833333333333334, 0.625, 0.4583333333333333, 0.7083333333333334, 0.125, 0.4166666666666667, 0.5833333333333334, 0.125, 1.0, 0.875, 0.4166666666666667, 0.2916666666666667, 0.9166666666666666, 0.041666666666666664, 0.6666666666666666, 0.625, 0.5416666666666666, 0.875, 0.6666666666666666, 0.75, 0.3333333333333333, 0.875, 0.9583333333333334, 0.25, 0.5833333333333334, 0.25, 0.4583333333333333, 0.16666666666666666, 0.5416666666666666, 0.25, 0.5833333333333334, 0.0, 0.75, 0.75, 0.7916666666666666, 0.75, 0.2916666666666667, 0.5416666666666666, 0.7083333333333334, 0.875, 0.20833333333333334, 0.9166666666666666, 0.8333333333333334, 0.7083333333333334, 0.4583333333333333, 0.16666666666666666, 0.041666666666666664, 0.5, 0.625, 0.625, 0.8333333333333334, 0.625, 0.625, 0.7083333333333334, 0.7083333333333334, 0.5416666666666666, 0.4583333333333333, 0.625, 0.6666666666666666, 0.8333333333333334, 0.9583333333333334, 0.041666666666666664, 0.75, 0.6666666666666666, 0.9166666666666666, 0.25, 0.7916666666666666, 0.5416666666666666, 0.75, 0.16666666666666666, 0.25, 0.375, 0.20833333333333334, 1.0, 0.5833333333333334, 0.25, 0.3333333333333333, 0.5416666666666666, 0.625, 0.7083333333333334, 0.5833333333333334, 0.7916666666666666, 0.041666666666666664, 0.7083333333333334, 0.041666666666666664, 0.0, 0.0, 0.7916666666666666, 0.2916666666666667, 0.5, 0.875, 0.20833333333333334, 0.0, 0.5, 0.9583333333333334, 0.041666666666666664, 0.625, 0.2916666666666667, 0.625, 0.16666666666666666, 0.625, 0.5833333333333334, 0.7083333333333334, 0.625, 0.7083333333333334, 0.9583333333333334, 0.16666666666666666, 0.2916666666666667, 0.75, 0.625, 0.9583333333333334, 0.041666666666666664, 0.8333333333333334, 0.6666666666666666, 0.2916666666666667, 1.0, 0.9166666666666666, 0.16666666666666666, 0.08333333333333333, 0.0, 0.375, 0.7083333333333334, 0.375, 0.0, 0.6666666666666666, 0.08333333333333333, 0.3333333333333333, 1.0, 0.6666666666666666, 0.6666666666666666, 0.625, 0.25, 0.875, 0.125, 0.041666666666666664, 0.5416666666666666, 0.4583333333333333, 0.2916666666666667, 0.6666666666666666, 0.6666666666666666, 0.0, 0.08333333333333333, 0.5416666666666666, 0.5833333333333334, 0.041666666666666664, 0.875, 0.4583333333333333, 0.4166666666666667, 0.75, 0.8333333333333334, 0.375, 0.20833333333333334, 0.041666666666666664, 0.625, 0.625, 0.041666666666666664, 0.041666666666666664, 0.0, 0.5833333333333334, 0.6666666666666666, 1.0, 0.4166666666666667, 0.2916666666666667, 0.125, 0.5, 0.5833333333333334, 0.08333333333333333, 0.5, 0.6666666666666666, 1.0, 0.4166666666666667, 0.875, 0.5416666666666666, 0.08333333333333333, 0.041666666666666664, 0.7083333333333334, 0.9166666666666666, 0.875, 0.041666666666666664, 0.0, 0.9166666666666666, 0.5833333333333334, 0.7916666666666666, 0.08333333333333333, 0.875, 0.9166666666666666, 0.3333333333333333, 0.08333333333333333, 0.125, 0.125, 0.5, 0.08333333333333333, 0.16666666666666666, 0.5, 0.041666666666666664, 0.041666666666666664, 0.5, 0.7083333333333334, 0.625, 0.125, 0.0, 0.375, 0.4583333333333333, 0.875, 0.4166666666666667, 0.4166666666666667, 0.25, 0.625, 0.8333333333333334, 0.041666666666666664, 0.4583333333333333, 0.5416666666666666, 0.20833333333333334, 0.5, 0.9583333333333334, 0.4583333333333333, 0.9583333333333334, 0.16666666666666666, 0.5416666666666666, 0.2916666666666667, 0.16666666666666666, 0.9166666666666666, 0.5416666666666666, 0.7916666666666666, 0.4583333333333333, 0.9583333333333334, 0.8333333333333334, 0.375, 0.75, 0.08333333333333333, 0.3333333333333333, 0.9166666666666666, 0.125, 0.25, 0.0, 0.041666666666666664, 0.5, 0.041666666666666664, 0.875, 0.4583333333333333, 0.375, 0.2916666666666667, 1.0, 0.75, 0.5833333333333334, 1.0, 0.6666666666666666, 0.4166666666666667, 0.4583333333333333, 0.20833333333333334, 0.0, 0.7916666666666666, 0.7916666666666666, 0.0, 0.125, 0.25, 1.0, 0.9166666666666666, 0.625, 0.6666666666666666, 0.4166666666666667, 0.4166666666666667, 0.875, 0.3333333333333333, 0.9166666666666666, 0.0, 0.20833333333333334, 0.7916666666666666, 0.2916666666666667, 0.75, 1.0, 0.08333333333333333, 0.7916666666666666, 0.7083333333333334, 0.6666666666666666, 0.20833333333333334, 1.0, 0.75, 0.75, 0.6666666666666666, 0.5416666666666666, 0.75, 0.625, 0.375, 0.9583333333333334, 0.4166666666666667, 0.0, 0.0, 0.5, 0.4166666666666667, 0.7916666666666666, 0.5416666666666666, 0.4166666666666667, 0.25, 0.2916666666666667, 0.5416666666666666, 0.9166666666666666, 0.0, 0.5833333333333334, 0.5, 0.4583333333333333, 0.041666666666666664, 0.6666666666666666, 0.20833333333333334, 1.0, 0.5833333333333334, 0.875, 1.0, 0.625, 0.7916666666666666, 0.625, 0.25, 0.2916666666666667, 0.2916666666666667, 0.875, 0.625, 0.2916666666666667, 0.041666666666666664, 0.5416666666666666, 0.7916666666666666, 0.5416666666666666, 0.8333333333333334, 0.7916666666666666, 0.125, 0.20833333333333334, 0.5, 0.7083333333333334, 0.08333333333333333, 0.08333333333333333, 0.8333333333333334, 0.625, 0.3333333333333333, 0.4583333333333333, 0.08333333333333333, 0.625, 0.08333333333333333, 0.20833333333333334, 0.5, 0.5833333333333334, 0.9583333333333334, 0.2916666666666667, 0.08333333333333333, 0.375, 0.08333333333333333, 0.25, 0.2916666666666667, 0.4166666666666667, 0.8333333333333334, 0.9166666666666666, 0.9583333333333334, 0.5833333333333334, 0.041666666666666664, 0.375, 0.3333333333333333, 0.6666666666666666, 0.75, 0.5833333333333334, 0.7083333333333334, 0.875, 0.08333333333333333, 0.08333333333333333, 0.875, 0.125, 0.6666666666666666, 0.3333333333333333, 0.6666666666666666, 0.125, 1.0, 0.041666666666666664, 0.3333333333333333, 0.7916666666666666, 0.875, 0.20833333333333334, 0.5416666666666666, 0.5, 0.375, 0.125, 0.4583333333333333, 1.0, 0.7083333333333334, 0.375, 0.3333333333333333, 0.125, 0.8333333333333334, 0.4583333333333333, 0.5416666666666666, 0.9166666666666666, 0.625, 0.16666666666666666, 0.3333333333333333, 0.625, 0.9583333333333334, 0.125, 0.75, 0.125, 0.5833333333333334, 0.08333333333333333, 0.5, 0.2916666666666667, 0.08333333333333333, 0.5416666666666666, 0.9583333333333334, 0.20833333333333334, 0.08333333333333333, 0.4583333333333333, 0.0, 0.9583333333333334, 0.5416666666666666, 0.2916666666666667, 0.7916666666666666, 0.0, 0.6666666666666666, 0.4583333333333333, 0.7083333333333334, 0.08333333333333333, 0.25, 0.20833333333333334, 0.5833333333333334, 0.3333333333333333, 0.20833333333333334, 0.125, 0.16666666666666666, 0.375, 0.041666666666666664, 0.625, 0.875, 0.5416666666666666, 0.08333333333333333, 0.9166666666666666, 0.5, 0.16666666666666666, 0.041666666666666664, 0.16666666666666666, 1.0, 0.5416666666666666, 0.3333333333333333, 0.6666666666666666, 0.08333333333333333, 0.4166666666666667, 0.375, 0.4166666666666667, 0.875, 0.6666666666666666, 0.041666666666666664, 0.8333333333333334, 1.0, 0.2916666666666667, 0.125, 0.4166666666666667, 0.9166666666666666, 0.4166666666666667, 0.5, 0.5416666666666666, 0.9166666666666666, 0.875, 0.25, 0.2916666666666667, 0.7916666666666666, 0.16666666666666666, 0.625, 0.7083333333333334, 0.875, 0.3333333333333333, 0.875, 0.375, 0.2916666666666667, 0.20833333333333334, 0.3333333333333333, 0.0]\n",
            "[0.1322069, 0.16274607, 0.3180959, 0.22191076, 0.12956041, 0.6624938, 0.031356066, 0.11331724, 0.09960315, 0.83259076, 0.11356978, 0.5222685, 0.36691368, -0.0017625988, 0.48874658, 0.26041904, 0.13899392, 0.036741257, 0.7299507, 0.112702936, 0.31752425, 0.85241854, 0.66238236, 0.17964558, 0.5240882, 0.40469733, 0.018577069, 0.20540538, 0.2917984, 0.31520203, 0.30148283, 0.6151089, 0.3129663, 0.07702604, 0.5424802, 0.13435674, 0.052089185, 0.18017724, 0.83402145, 0.48593295, 0.13616338, 0.005670011, 0.2695102, 0.32431814, 0.39974612, 0.25947157, 0.3520435, 0.26577148, 0.47726455, 0.3141185, 0.56542706, 0.3045461, 0.32291904, 0.11973488, 0.113128245, 0.24592617, 0.37425044, 0.15658931, 0.22721896, 0.36217996, 0.57654256, 0.25148, 0.26643664, 0.081804246, 0.0649195, 0.37340152, 0.9043199, 0.38804814, 0.1277866, 0.37127417, 0.034188986, 0.7301716, 0.7728131, 0.66798896, 0.3408121, 0.3379662, 0.4893759, 0.12400447, 0.6424448, 0.8463426, 0.4942881, 0.48004043, 0.2280326, 0.07239732, 0.13897382, 0.5757088, 0.34617177, 0.44182926, 0.18612015, 0.15836652, 0.3134513, 0.40497497, 0.2327275, 0.7471284, 0.7301716, 0.26951015, 0.08312863, 0.4291691, 0.39295563, 0.31520203, 0.23382463, 0.32684276, 0.24185863, 0.14460391, 0.26577133, 0.31859052, 0.1322069, 0.4846888, 0.18508025, 0.20157874, 0.08872858, 0.3554711, 0.46511418, 0.4510599, 0.782758, 0.24794625, 0.053897113, 0.2327275, 0.49438605, 0.032807738, 0.9475635, 0.031356126, 0.21407752, 0.09960315, 0.22402385, 0.2507412, 0.5360749, 0.3562183, 0.13897382, 0.30596405, 0.42189223, 0.05591014, 0.14054106, 0.1752885, 0.2851397, 0.1506272, 0.09477842, 0.051755816, 0.27500808, 0.49854335, 0.58629483, 0.57654256, 0.084913045, 0.48593295, 0.18424162, 0.25148, 0.7593042, 0.29497486, 0.1063021, 0.116741, 0.551371, 0.24592617, 0.83402145, 0.39632758, 0.036741257, 0.00981465, 0.5140139, 0.112702936, 0.30345985, 0.23920825, 0.51922286, 0.21211551, 0.85241854, 0.06977141, 0.76274484, 0.11973488, 0.81780994, 0.13165405, 0.16682568, 0.21757159, 0.7471284, 0.31645608, 0.83162403, 0.32420278, 0.4249748, 0.55346686, 0.26069528, 0.07739812, 0.042306364, 0.8360001, 0.11981559, 0.5757088, 0.11331724, 0.35910842, 0.26399153, 0.50442237, 0.26949245, 0.5222685, 0.62011933, 0.11863378, 0.09476054, 0.7320931, 0.27677786, 0.15062718, 0.5115195, 0.51922286, 0.7319939, 0.16995963, 0.37022203, 0.31859052, 0.8917415, 0.4205503, 0.9861703, 0.26069528, 0.30926692, 0.31577218, 0.3562183, 0.4601714, 0.9245508, 0.7299507, 0.07702604, 0.8178099, 0.2695102, 0.46511418, 0.2873538, 0.25074118, 0.8305684, 0.18961942, 0.5113682, 0.080242515, 0.77187014, 0.6719834, 0.9476932, 0.47962797, 0.2664368, 0.2280326, 0.59948015, 0.018577069, 0.22721896, 0.76274484, 0.0056699812, 0.6043129, 0.30075973, 0.6241967, 0.5269295, 0.041544795, 0.08312863, 0.3204864, 0.7652404, 0.48874658, 0.2335976, 0.50442237, 0.22191076, 0.1459593, 0.060512334, 0.27077937, 0.29204232, 0.7471284, 0.28606206, 0.06977141, 0.6685567, 0.116741, 0.75382686, 0.6424448, 0.02856791, 0.5240881, 0.05828941, 0.52011347, 0.063343346, 0.4893759, 0.1752885, 0.36939657, 0.2323513, 0.13165405, 0.31520203, 0.6800084, 0.85241854, 0.9593295, 0.7598071, 0.113128215, 0.302691, 0.49085882, 0.36037615, 0.11981559, 0.13411133, 0.48177797, 0.42132252, 0.036741257, 0.07908413, 0.08101612, 0.3499675, 0.29057762, 0.24440333, 0.07497966, 0.7913277, 0.23235118, 0.5222686, 0.36691374, 0.3134513, 0.83402145, 0.3141185, 0.48357052, 0.034188986, 0.31406355, 0.575709, 0.18259114, 0.9369508, 0.28668582, 0.57654256, 0.5360749, 0.32433286, 0.16677564, 0.6151089, 0.53465897, 0.04724565, 0.31859052, 0.21211551, 0.88115525, 0.39530906, 0.26124454, 0.07242739, 0.48177797, 0.7598071, 0.9245508, 0.01877448, 0.09476039, 0.25726116, 0.21589749, 0.081804246, 0.5424802, 0.28513953, 0.5602263, 0.05591014, 0.94979465, 0.24592635, 0.28262305, 0.8325906, 0.28481293, 0.3379662, 0.66798896, 0.26069528, 0.15532112, 0.5691539, 0.13411133, 0.27677798, 0.55651534, 0.053897113, 0.08324212, 0.20157874, 0.81104916, 0.16682568, 0.112702936, 0.23215398, 0.3190711, 0.31943128, 0.4893759, 0.57192194, 0.5240882, 0.3191591, 0.4205503, 0.51136816, 0.20540547, 0.29903817, 0.66238236, 0.3203966, 0.1747097, 0.008001089, 0.4942881, 0.3431006, 0.30148283, 0.42189223, 0.31281462, 0.76274484, 0.2002022, 0.8219354, 0.12956041, 0.66538787, 0.11216156, 0.3331355, 0.4510599, 0.034332395, 0.52011347, 0.1057509, 0.5269295, 0.65131867, 0.3092669, 0.13440593, 0.18741378, 0.11216162, 0.6151088, 0.91430366, 0.112702936, 0.036741257, 0.13411143, 0.36217996, 0.4291691, 0.57192194, 0.54946035, 0.117298946, 0.5400212, 0.66798925, 0.084913045, 0.3190899, 0.11948642, 0.27679318, 0.42497483, 0.5240882, 0.018577069, 0.08755216, 0.32431802, 0.11863378, 0.08872852, 0.3543396, 0.45186102, 0.07242742, 0.24794625, 0.22721905, 0.02856791, 0.54349524, 0.3191591, 0.48004043, 0.2664368, 0.2327275, 0.24321887, 0.16682564, 0.33831352, 0.38943145, 0.2920847, 0.49854335, 0.04724565, 0.6861439, 0.1057509, 0.47726452, 0.1842415, 0.68675846, 0.51041013, 0.17964563, 0.32454896, 0.29903817, 0.31150764, 0.24592617, 0.28308043, 0.37127417, 0.18961942, 0.5691539, 0.008001089, 0.31406355, 0.26041934, 0.78275764, 0.5862948, 0.11356978, 0.13897382, 0.10955304, 0.6685567, 0.55746573, 0.48177797, 0.6800084, 0.31752425, 0.25761494, 0.9476932, 0.2729235, 0.55188304, 0.5346589, 0.034332395, 0.637704, 0.32659093, 0.22453833, 0.37022206, 0.3379662, 0.24440333, 0.16995963, 0.44215405, 0.23331952, 0.56478417, 0.07702604, 0.23920818, 0.31907126, 0.6270615, 0.67146915, 0.36257666, 0.8463426, 0.32659093, 0.7728131, 0.43953198, 0.7471284, 0.2280326, 0.83628976, 0.34617165, 0.99624443, 0.030266792, 0.22787218, 0.74838364, 0.35204357, 0.24402663, 0.080242515, 0.15658931, 0.14356297, 0.3109237, 0.30858064, 0.06081882, 0.49547172, 0.7787274, 0.4844796, 0.44215405, 0.01877445, 0.40469736, 0.042306364, 0.7593042, 0.32577288, 0.3562183, 0.37731826, 0.23235118, 0.3712741, 0.5602263, 0.48874652, 0.33896708, 0.36939657, 0.32684276, 0.66798896, 0.09807089, 0.050718546, 0.2576149, 0.2327275, 0.28037468, 0.39530906, 0.051677763, 0.8360001, 0.6685567, 0.6062838, 0.12255728, 0.02856794, 0.27679318, 0.49673963, 0.49085894, 0.3239591, 0.28513953, 0.2219107, 0.7227905, 0.39974612, 0.5851087, 0.38357967, 0.6800084, 0.67146915, 0.1697927, 0.24185863, 0.31296623, 0.16274607, 0.1465691, 0.6861439, 0.4943862, 0.30926692, 0.5560904, 0.44182926, 0.7424619, 0.05591014, 0.15026294, 0.42798895, 0.3331355, 0.51774037, 0.51041013, 0.19164374, 0.11729899, 0.4811195, 0.3191591, 0.17637956, 0.61695313, 0.58629483, 0.06977141, 0.540021, 0.13220683, 0.57192194, 0.6011465, 0.1752885, 0.31645608, 0.036741257, 0.22097291, 0.27292332, 0.32431802, 0.13165393, 0.9245508, 0.32762128, 0.57192194, 0.26041934, 0.3203966, 0.06075433, 0.13786668, 0.56542706, 0.15836652, 0.38217673, 0.36037615, 0.31406355, 0.45208174, 0.13897361, 0.48357058, 0.38357967, 0.44482172, -0.004624456, 0.7343193, 0.30148283, 0.23382463, 0.042306215, 0.540021, 0.76274484, 0.29903817, 0.40469733, 0.6800084, 0.25947157, 0.23362838, 0.2836509, 0.67146915, 0.10740635, 0.32659087, 0.12255736, -0.0017625988, 0.1459593, 0.5647841, 0.11948645, 0.6624939, 0.00981465, 0.85241854, 0.041544795, 0.23920818, 0.13435674, 0.06977141, 0.48468873, 0.6482221, 0.1690823, 0.36939657, 0.22787218, 0.7428049, 0.14854313, 0.43953198, 0.1997672, 0.16682564, 0.3606747, 0.2327275, 0.3499675, 0.08312428, 0.3379662, 0.081804335, 0.5342361, 0.33431166, 0.47327894, 0.55746573, 0.29057762, 0.9476932, 0.91430366, 0.25761494, 0.52692956, 0.3179781, 0.1277866, 0.27500808, 0.66798896, 0.37674576, 0.28606206, 0.12400447, 0.07410565, 0.28037462, 0.2335976, 0.27677786, 0.8178099, 0.24321887, 0.11331719, 0.24185854, 0.5172602, 0.83953893, 0.42132252, 0.8790438, 0.20157874, 0.061532408, 0.124713466, 0.21407752, 0.1952055, 0.22372666, 0.7787274, 0.21211551, 0.14356287, 0.13897368, 0.13165393, 0.11216162, 0.38357976, 0.15625851, 0.5374016, 0.14054106, 0.9245508, 0.22097291, 0.47726455, 0.4846888, 0.30858064, 0.187414, 0.6043129, 0.62011933, 0.5222685, 0.16274607, 0.46017134, 0.4943862, 0.23331952, 0.12400441, 0.17090096, 0.5602263, 0.13411133, 0.8395389, 0.84634256, 0.051677763, 0.00981459, 0.16908257, 0.32431814, 0.5240882, 0.2695102, 0.2591555, 0.67146915, 0.1063021, 0.4800405, 0.015105605, 0.5201926, 0.85241854, 0.31907126, 0.39295563, 0.5647841, 0.18961942, 0.762745, 0.22721905, 0.1146577, 0.32762128, 0.32577288, 0.17247611, 0.18259105, 0.17964563, 0.14656912, 0.26124427, 0.29057762, 0.23953359, 0.39044356, 0.31520203, 0.24440333, 0.07239732, 0.07410565, 0.6270616, 0.48357052, 0.3191591, 0.2984519, 0.55746573, 0.8219354, 0.15882666, 0.5340372, 0.2323513, 0.18424162, 0.30885315, 0.31281462, 0.4510599, 0.3408121, 0.16677564, 0.56542706, 0.8760966, 0.1697927, 0.27077937, 0.075440854, 0.01877448, 0.37731826, 0.74246186, 0.15573013, 0.49547184, 0.17637956, 0.30686778, 0.36939657, 0.03513497, 0.26399153, 0.124713466, 0.5760703, 0.15658945, 0.1325659, 0.29547057, 0.8395389, 0.6934502, 0.47990435, 0.57654256, 0.108908504, 0.26951015, 0.051755816, 0.7319939, 0.27500808, 0.62011933, 0.2729235, 0.00740391, 0.4395318, 0.041544706, 0.24185854, 0.11303869, 0.51041013, -0.0017625988, 0.09774813, 0.49673963, 0.94979477, 0.31520203, 0.9861703, 0.2664368, 0.2917984, 0.2591555, 0.18741378, 0.08872852, 0.46511424, 0.77872765, 0.5602263, 0.32291904, 0.15625857, 0.13786675, 0.088282645, 0.47327894, 0.29845184, 0.3088532, 0.76274484, 0.00981465, 0.1697927, 0.09776749, 0.032807678, 0.3331355, 0.7299504, 0.27715206, 0.32433286, 0.02074477, 0.21211551, 0.31150764, 0.08755213, 0.2002022, 0.48447967, 0.3113858, 0.117298946, 0.42497483, 0.3141185, 0.50913537, 0.20540538, 0.31281462, 0.117820874, 0.113569856, 0.3562183, 0.42189223, 0.637704, 0.075440854, 0.32454896, 0.053897113, 0.09477845, 0.38472366, 0.8305684, 0.5223956, 0.5360749, 0.25947157, 0.39974612, 0.17090096, 0.2873538, 0.9275347, 0.16448629, 0.47962785, 0.36257666, 0.31577218, 0.9475635, 0.22372662, 0.6624939, 0.8760966, 0.7299507, 0.30686778, 0.30858064, 0.27500808, 0.36037615, 0.02074477, 0.5340372, 0.5851087, 0.31406355, 0.37731826, 0.65583235, 0.9275346, 0.24794625, 0.00922218, 0.8305683, 0.5691538, 0.56542706, 0.61695313, 0.18961942, 0.19976716, 0.8917415, 0.48177797, 0.3149101, 0.84106475, 0.29547057, 0.5760704, 0.32684276, 0.15026294, 0.3408121, 0.32291904, 0.032807738, 0.4601714, 0.637704, 0.36707872, 0.33431172, 0.1063021, 0.088282645, 0.39530906, 0.29204232, 0.25726107, -0.0017625988, 0.21893887, 0.22402385, 0.23235118, 0.5602263, 0.40469733, 0.57654256, 0.7424619, 0.45186102, 0.66798896, 0.3180959, 0.18508025, 0.12956041, 0.26041934, 0.08101612, 0.16908257, 0.21211551, 0.49547172, 0.48016322, 0.25486493, 0.13440593, 0.37127417, 0.62419665, 0.15882662, 0.34310082, 0.13616338, 0.32762128, 0.30926692, 0.3204864, 0.31752425, 0.114657655, 0.081804246, 0.19164373, 0.83162403, 0.4291691, 0.51041013, 0.1952053, 0.3134513, 0.30343986, 0.762745, 0.13552679, 0.670049, 0.2695102, 0.3191591, 0.28513953, 0.3606747, 0.5434952, 0.86109173, 0.117298946, 0.15573008, 0.3562183, 0.6719834, 0.40859073, 0.09476039, 0.51401377, 0.47327888, 0.1277866, 0.57192194, 0.1057509, 0.17247611, 0.37425044, 0.40497497, 0.5518831, -0.0017626286, 0.15658931, 0.32659093, 0.66238236, 0.5691539, 0.11863378, 0.13552679, 0.4811195, 0.46340588, 0.2335976, 0.09774813, 0.24321887, 0.16995963, 0.30926692, 0.81104916, 0.31281444, 0.26124427, 0.29903817, 0.20540538, 0.31406355, 0.1325659, 0.042306364, 0.3331355, 0.4272382, 0.2323513, 0.52011347, 0.23215401, 0.2327275, 0.9475635, 0.46511418, 0.5560904, 0.07702136, 0.28481293, 0.55651534, 0.31645608, 0.17090096, 0.113128215, 0.08081752, 0.18424162, 0.16682564, 0.09487513, 0.61695313, 0.48357052, 0.3408121, 0.83162403, 0.53403723, 0.09960315, 0.8219353, 0.84106475, 0.13897382, 0.54349524, 0.27077937, 0.034188986, 0.116741, 0.5602263, 0.51136816, 0.030266792, 0.060512334, 0.84634256, 0.1063021, 0.07410568, 0.5269295, 0.30075973, 0.24402659, 0.5240881, 0.24185854, 0.2984519, 0.36939657, 0.21893887, 0.12956041, 0.4759037, 0.9275347, 0.45208174, 0.85241854, 0.18612015, 0.6062838, 0.3379662, 0.22191076, 0.096355915, 0.23920825, 0.83953893, 0.07702604, 0.9043199, 0.91430366, 0.31491002, 0.3045461, 0.042306364, 0.39974612, 0.8917415, 0.30346006, 0.034188986, 0.5851087, 0.9861703, 0.27677786, 0.58629483, 0.2750082, 0.34617177, 0.4811195, 0.14054106, 0.46017134, 0.32762128, 0.35547113, 0.8360001, 0.15532106, 0.9245509, 0.59948015, 0.15658931, 0.28481278, 0.14460388, 0.83628976, 0.19164373, 0.3408122, 0.61695313, 0.42723835, 0.2984519, 0.35204357, 0.008001089, 0.7913277, 0.50913537, 0.050718546, 0.18259114, 0.01877448, 0.13616338, -0.004624456, 0.8610916, 0.0770213, 0.015105635, 0.32431802, 0.25486493, 0.18424162, 0.4510599, 0.21589749, 0.21893887, 0.29057762, 0.124713466, 0.1506272, 0.187414, 0.46340585, 0.44215405, 0.6653881, 0.6907319, 0.05591014, 0.57654256, 0.2851397, 0.8927978, 0.37674576, 0.2729235, 0.48004043, 0.31092358, 0.44262308, 0.2327275, 0.22787221, 0.2873538, 0.051755816, 0.2335976, 0.07242742, 0.48593283, 0.13899392, 0.4291691, 0.08755216, 0.7826269, 0.670049, 0.2507412, 0.24402663, 0.6934502, 0.24794625, 0.6719834, 0.8463426, 0.21757165, 0.37340152, 0.66798896, 0.11981559, 0.81104916, 0.19976716, 0.32454896, 0.21837519, 0.030266792, 0.7343193, 0.088282645, 0.07239732, 0.30858064, 0.1465691, 0.14854313, 0.56478417, 0.2873538, 0.31491002, 0.670049, 0.6653881, 0.15658931, 0.07410568, 0.08312863, 0.78275764, 0.51774037, 0.5560904, 0.050718665, 0.34010783, 0.28262305, 0.81104916, 0.2664368, 0.113038644, 0.540021, 0.14054106, 0.18741378, 0.3113858, 0.57654256, 0.6011465, 0.5513711, 0.114657655, 0.51401377, 0.21407752, 0.637704, 0.15625857, 0.40469733, 0.51041013, 0.3129663, 0.32039636, 0.5172602, 0.12255736, 0.9275346, 0.1752885, 0.83162403, 0.59948015, 0.6241967, 0.46340588, 0.40859058, 0.37127417, 0.5757088, 0.46017134, 0.3379662, 0.36691368, 0.61695313, 0.90708804, 0.3431006, 0.31943128, 0.55188304, 0.1277866, 0.06081882, 0.5534668, 0.22721896, 0.0056699812, 0.06989953, 0.17964563, 0.9476932, 0.21893887, 0.4508338, 0.5222685, 0.37340152, 0.67146915, 0.7424619, 0.09444839, 0.9043199, 0.13897382, 0.09776749, 0.3180959, 0.32431814, 0.47590375, 0.6685569, 0.64822185, 0.1697927, 0.42798895, 0.13165393, 0.023095667, 0.56542706, 0.5760703, 0.042306215, 0.6934502, 0.2442257, 0.84634256, 0.24402663, 0.42723835, 0.11973488, 0.39044365, 0.2323513, 0.09774813, 0.59948015, 0.65131885, 0.3203966, 0.3191591, 0.04724565, 0.66538787, 0.5691538, 0.1697927, 0.23362838, 0.5360749, 0.15532112, 0.42497483, 0.050718665, 0.32048646, 0.27677798, 0.3331355, 0.10955304, 0.20540538, 0.46017134, 0.15658931, 0.6934502, 0.44182926, 0.48593295, 0.036741257, 0.02856794, 0.83162403, 0.40469733, 0.35547113, 0.782758, 0.52239573, 0.39295584, 0.8178099, 0.2280326, 0.7787274, 0.28365108, 0.1063021, 0.034188986, 0.8760966, 0.113569856, 0.27500808, 0.6241967, 0.2830804, 0.3606747, 0.18017724, 0.77187014, 0.55346686, 0.5342361, 0.3847237, 0.5400212, 0.23953359, 0.2984519, 0.17637956, 0.12400447, 0.13786668, 0.5851087, 0.16677564, 0.13853425, 0.124713466, 0.30269104, 0.83259076, 0.8219354, 0.21757165, 0.012860745, 0.32431814, 0.8927978, 0.44262308, 0.3129663, 0.24592635, 0.13440593, 0.22372666, 0.06491935, 0.43953198, 0.4943862, 0.08872852, 0.08312863, 0.35910833, 0.32659087, 0.85241854, 0.15026285, 0.31520203, 0.24185854, 0.36707872, 0.40497497, 0.33831352, 0.23920818, 0.06075433, 0.6624939, 0.15882666, 0.83628976, 0.9070879, 0.16274607, 0.22372662, 0.6719834, 0.40859058, 0.097748116, 0.1690823, 0.10740635, 0.08755213, 0.07702604, 0.5342363, 0.051677763, 0.69073176, 0.3109237, 0.2333193, 0.5424802, 0.063343346, 0.9861703, 0.13435674, 0.07239732, 0.26041904, 0.83402145, 0.32291904, 0.30596405, 0.9369508, 0.66238236, 0.84962094, 0.637704, 0.09776749, 0.00922218, 0.6043129, 0.9476932, 0.11973488, 0.5269295, 0.012860745, 0.3180959, 0.53598326, 0.080242485, 0.24592635, 0.4291691, 0.06081882, 0.7428049, 0.3331355, 0.041544795, 0.08324215, 0.6624939, 0.27500808, 0.75382686, 0.40469733, 0.24794625, 0.5647841, 0.113128215, 0.48177797, 0.4508338, 0.32762128, 0.26069528, 0.36939657, 0.6861439, 0.39044356, 0.37425044, 0.8927978, 0.23272747, 0.2830804, 0.22191076, 0.47327894, 0.38943145, 0.8760965, 0.5760704, 0.5434952, 0.32684278, 0.02856794, 0.4943862, 0.28513953, 0.5602263, 0.55188304, 0.29903817, 0.26643664, 0.11981563, 0.2917984, 0.4205503, 0.21757159, 0.28735375, 0.3655503, 0.3141185, 0.31520203, 0.3068679, 0.83259076, 0.34617165, 0.30148283, 0.57192194, 0.1752885, 0.22097291, 0.62011933, 0.07544088, 0.31406355, 0.5691539, 0.15836652, 0.02074477, 0.54349524, 0.9070879, 0.108908504, 0.01877445, 0.5342363, 0.22721896, 0.75382686, 0.1459593, 0.21589749, 0.15062718, 0.38943148, 0.5091355, 0.5222685, 0.18259105, 0.081804335, 0.39295563, 0.782758, 0.38217673, 0.3068679, 0.08324215, 0.015105635, 0.084913045, 0.3045461, 0.5424802, 0.7598071, 0.22372662, 0.3149101, 0.6011462, 0.5346589, 0.49854335, 0.7428049, 0.6043129, 0.6270615, 0.36707872, 0.32433292, 0.50442237, 0.4508338, 0.55188304, 0.38357967, 0.1057509, 0.40497497, 0.2917984, 0.9275347, 0.2323513, 0.24794625, 0.22241926, 0.1697927, 0.3113858, 0.3239591, 0.11863378, 0.0770261, -0.0017626286, 0.31645608, 0.42798895, 0.7913277, 0.22191076, 0.3562183, 0.07410568, 0.302691, 0.3554711, 0.080242515, 0.56542706, 0.13853425, 0.4291691, 0.7471284, 0.17247611, 0.8219353, 0.9369507, 0.6424448, 0.51041013, 0.09774813, 0.4510599, 0.8178099, 0.5534668, 0.54946035, 0.00922218, 0.6861439, 0.6934502, 0.0770213, 0.28365108, 0.53403723, 0.15532112, 0.51401377, 0.39044365, 0.31150764, 0.51774037, 0.31943128, 0.64822185, 0.7299507, 0.58629483, 0.09776749, 0.12255728, 0.050718665, 0.64822185, 0.17964563, 0.11216162, 0.23920818, 0.30075973, 0.6424448, 0.38804826, 0.13897382, 0.83259076, 0.5693774, 0.40859073, 0.5240882, 0.65583235, 0.83162403, 0.051677614, 0.38943145, 0.9275346, 0.36257666, 0.3239591, 0.51251775, 0.036741257, 0.3059638, 0.55651534, 0.32577288, 0.31491002, 0.35910833, 0.2507412, 0.9043199, 0.31092358, 0.18612014, 0.31296623, 0.32659093, 0.7652404, 0.5223956, 0.22241926, 0.27677786, 0.07410568, 0.1277867, 0.69073176, 0.051755816, 0.16274607, 0.0649195, 0.005670011, 0.6062838, 0.09487507, 0.18259114, 0.21757165, 0.24440333, 0.3204864, 0.3203966, 0.02856794, 0.16995963, 0.4759037, 0.2479462, 0.063343406, 0.46511418, 0.05591014, 0.117298946, 0.3191591, 0.1747097, 0.8219354, 0.11981563, 0.7718702, 0.32291904, 0.42798895, 0.3499675, 0.3141185, 0.67146915, 0.17247611, 0.113038644, 0.77872765, 0.45208174, 0.5757088, 0.40469733, 0.31150764, 0.32200545, 0.31752425, 0.10955298, 0.404975, 0.4811195, 0.94979465, 0.14054106, 0.00981465, 0.5760704, 0.13165393, 0.5192231, 0.3179781, 0.13616338, 0.670049, 0.07908422, 0.51726013, 0.53598344, 0.008001089, 0.15573013, 0.9593296, 0.88115525, 0.075440854, 0.66798896, 0.67146915, 0.38357967, 0.74246186, 0.4272382, 0.6685569, 0.22721896, 0.31406355, 0.0770213, 0.6270615, 0.116741, 0.2830804, 0.46511424, 0.036741257, 0.5115195, 0.3141185, 0.11782086, 0.32431814, 0.35547113, 0.84106463, 0.0831286, 0.4213224, 0.9962443, 0.13165393, 0.30885315, 0.1952053, 0.51922286, 0.5757088, 0.32395905, 0.187414, 0.7428049, 0.4846888, 0.28262305, 0.08101612, 0.2335976, 0.09476039, 0.051755846, 0.6151089, 0.32291904, 0.3190899, 0.7227905, 0.23953359, 0.32684276, 0.24185854, 0.31752425, 0.29497477, 0.2984519, 0.084913045, 0.58629483, 0.23382463, 0.5424802, 0.7728131, 0.09960316, 0.16448621, 0.2442257, 0.54349524, 0.3180959, 0.3179781, 0.50913537, 0.94979465, 0.05591011, 0.57654256, 0.77187014, 0.31645608, 0.39530906, 0.4510599, 0.117298946, 0.8178099, 0.06989953, 0.4421541, 0.9275346, 0.4508338, 0.13786675, 0.36707872, 0.91430366, 0.61695313, 0.9861704, 0.023095727, 0.23235118, 0.8917415, 0.16995963, 0.55651534, 0.018577069, 0.43953198, 0.31520203, 0.113569856, 0.112702936, 0.5201926, 0.4943862, 0.1777933, 0.47327894, 0.7652404, 0.302691, 0.47590375, 0.5222685, 0.113128215, 0.7787274, 0.3179781, 0.2695102, 0.117298946, 0.3543396, 0.5125179, 0.20157874, 0.64822185, 0.2335976, 0.18424162, 0.2002022, 0.44215405, 0.6043129, 0.48874658, 0.07497966, 0.096355915, 0.17247611, 0.39974612, 0.1465691, 0.081804335, 0.060512215, 0.6151089, 0.13411133, 0.26949245, 0.26399153, 0.24440333, 0.22372662, 0.22453833, 0.51774037, 0.34010783, 0.18612015, 0.9476932, 0.041544795, 0.57654256, 0.24402663, 0.052089185, 0.22803259, 0.13616338, 0.31907126, 0.9962443, 0.42798895, 0.31752425, 0.15882666, 0.23920818, 0.36037615, 0.3109237, 0.13786675, 0.24321887, 0.5760704, 0.42723835, 0.53598344, 0.1322069, 0.9369507, 0.45105994, 0.50442237, 0.4508338, 0.28262305, 0.21757159, 0.01877448, 0.2830804, 0.9593296, 0.33313575, 0.0770213, 0.43644142, 0.2984519, 0.21893887, 0.15062718, 0.7471284, 0.16274604, 0.40859058, 0.14054106, 0.3129663, 0.33896708, 0.3045461, 0.26069528, 0.1952053, 0.13552676, 0.7343193, 0.17964563, 0.2920424, 0.8395389, 0.5342363, 0.34310082, 0.44262308, 0.6624939, 0.36707863, 0.5140139, 0.8219354, 0.01877448, 0.49673963, 0.84962094, 0.061532408, 0.7299504, 0.00922218, 0.6907319, 0.40859073, 0.8917415, 0.19164373, 0.83628976, 0.09960315, 0.3408122, 0.07908413, 0.07739812, 0.6685567, 0.3543396, 0.56542706, 0.030266732, 0.45208174, 0.09476054, 0.79132766, 0.5201926, 0.58629483, 0.13897368, 0.22241926, 0.8395389, 0.28606206, 0.302691, 0.16682564, 0.16448629, 0.00981465, 0.22721896, 0.24440333, 0.27679318, 0.8178099, 0.48593295, 0.57654256, 0.26949245, 0.042306364, 0.06989959, 0.67146915, 0.23382463, 0.124713466, 0.35910842, 0.18612014, 0.1089087, 0.09487507, 0.30075973, 0.3203966, 0.76274484, 0.9861703, 0.637704, 0.6270616, 0.09774813, 0.44215405, 0.5560904, 0.75382686, 0.36037615, 0.54946035, 0.1952055, 0.47962797, 0.65131885, 0.4844796, 0.15836652, 0.24402663, 0.2984519, 0.0649195, 0.5574658, 0.48177797, 0.15658931, 0.53598344, 0.65583235, 0.42723835, 0.3204864, 0.31520203, 0.3190899, 0.36691374, 0.11356978, 0.39530906, 0.16995963, 0.32762128, 0.28705466, 0.9275346, 0.17528862, 0.11973503, 0.46511418, 0.7652404, 0.40497497, 0.06081882, 0.06977141, 0.081804335, 0.29497477, 0.742805, 0.67146915, 0.27677786, 0.12956041, 0.09960315, 0.7728131, 0.112702936, 0.4799044, 0.31859052, 0.018577069, 0.37731826, 0.74246186, 0.5851087, 0.036741257, 0.5201926, 0.060512215, 0.096355945, 0.59948015, 0.42132252, 0.73209304, 0.5346589, 0.31150764, 0.2729235, 0.7483836, 0.13256596, 0.25486493, 0.65583235, 0.2920424, 0.4844796, 0.08081752, 0.3203966, 0.26577148, 0.19164374, 0.053897113, 0.75382686, 0.6151088, 0.7787274, 0.6907319, 0.43644142, 0.15532106, 0.62419665, 0.66238236, 0.08755213, 0.1690823, 0.32684276, 0.6624938, 0.637704, 0.07410565, 0.15882662, 0.48016322, 0.32454896, 0.38804814, 0.36217996, 0.3129663, 0.39974612, 0.31411856, 0.31281444, 0.9275346, 0.22721896, 0.64822185, 0.5360749, 0.30346006, 0.26069528, 0.2836509, 0.6800084, 0.124713466, 0.9070879, 0.34617165, 0.46017134, 0.5240882, 0.782758, 0.45208174, 0.14656912, 0.34310082, 0.35204357, 0.85241854, 0.15026294, 0.3113858, 0.5115195, 0.3562183, 0.3149101, 0.32659087, 0.5760704, 0.57654256, 0.04724565, 0.51774037, 0.116741, 0.26949242, -0.0017626286, 0.49673963, 0.3239591, 0.29497486, 0.4205503, 0.11303869, -0.004624456, 0.4421541, 0.22803259, 0.07739812, 0.39974612, 0.22787218, 0.37340152, 0.0649195, 0.38804814, 0.47327888, 0.6624939, 0.94979465, 0.5113682, 0.88115525, 0.08312428, 0.3239591, 0.43953198, 0.5994801, 0.84106475, 0.11331719, 0.8760965, 0.32420278, 0.26124454, 0.37731826, 0.62011933, 0.2245383, 0.1697927, -0.004624456, 0.48874652, 0.11782086, 0.21407752, 0.015105635, 0.32431814, 0.18508023, 0.2514798, 0.7598071, 0.26399153, 0.6424448, 0.42798895, 0.00981465, 0.31092358, 0.13165405, 0.081804246, 0.31520203, 0.22721896, 0.16274607, 0.49085894, 0.39044356, 0.1459593, 0.034332395, 0.15532106, 0.29903817, 0.02856794, 0.44482172, 0.4844796, 0.47990435, 0.5374016, 0.48357058, 0.50442237, 0.32200545, 0.052089185, 0.84634256, 0.64822185, 0.11948642, 0.15882666, 0.063343406, 0.48177797, 0.5360749, 0.21893887, 0.5851087, 0.036741257, 0.080242515, 0.084913045, 0.18259114, 0.114657655, 0.30343992, 0.5346589, 0.20157874, 0.38357967, 0.3543396, 0.61695313, 0.12255728, 0.11674106, 0.13853425, 0.13897368, 0.12400447, 0.06075433, 0.008001089, 0.24402663, 0.15026285, 0.0831286, 0.030266732, 0.1089087, 0.9043199, 0.24185854, 0.051755816, 0.17247611, 0.098070756, 0.09477845, 0.1146577, 0.2333193, 0.31752425, 0.11518313, 0.11331719, 0.6653881, 0.32659093, 0.3149101, 0.07908422, 0.33831352, 0.50442237, 0.8305684, 0.74246186, 0.47990435, 0.7227905, 0.00981459, 0.64822185, 0.36217996, 0.15882666, 0.5647841, 0.32433286, 0.11303869, 0.084913045, 0.8917415, 0.53598344, 0.5560904, 0.13897382, 0.47962785, 0.15836652, 0.034188986, 0.5342361, 0.31520203, 0.08312863, 0.25947157, 0.26069528, 0.8760965, 0.28262305, 0.19976716, 0.30454582, 0.21837519, 0.7319939, 0.018577069, 0.38217673, 0.015105635, 0.1063021, 0.44215405, 0.07739806, 0.4800405, 0.670049, 0.39295563, 0.28513953, 0.21893887, 0.75382686, 0.3204864, 0.18612014, 0.32431802, 0.55746573, 0.9476932, 0.08755213, 0.02074477, 0.83259076, 0.49673963, -0.0017626286, 0.080242485, 0.22097291, 0.6719834, 0.24402663, 0.84634256, 0.5346589, 0.24592635, 0.23953363, 0.7471284, 0.25148, 0.9043199, 0.11973488, 0.13616338, 0.24321887, 0.17090096, 0.42189217, 0.29208463, 0.030266732, 0.23362838, 0.3141185, 0.4943862, 0.32200545, 0.5222685, 0.5862948, 0.5691538, 0.49085894, 0.3562183, 0.3606747, 0.4418293, 0.3134513, 0.47726455, 0.4799044, 0.11973503, 0.2002022, 0.68675846, 0.23953359, 0.54946035, 0.47962785, 0.3331355, 0.26577148, 0.16274604, 0.42132252, 0.5201926, 0.063343346, 0.31859052, 0.4291691, 0.8219354, 0.06075433, 0.096355945, 0.31645608, 0.7913277, 0.55651534, 0.73209304, 0.6719834, 0.37340152, 0.24321884, 0.5994801, 0.18017724, 0.43644142, 0.46511418, 0.4205503, 0.84634256, 0.28513953, 0.115183145, 0.742805, 0.29547057, 0.31520203, 0.51726013, 0.36691368, 0.018577069, 0.2335976, 0.31752425, 0.5424802, 0.06989959, 0.00922218, 0.36217996, 0.40469733, 0.2729235, 0.11356978, 0.051677614, 0.3149101, 0.18508025, 0.13616338, 0.56542706, 0.47327894, 0.7301717, 0.11863378, 0.1697927, 0.50442237, 0.11216162, 0.1465691, 0.3499675, 0.5851087, 0.7343193, 0.51251775, 0.7652404, 0.9369507, 0.116741, 0.30926692, 0.1777933, 0.49085894, 0.6907319, 0.3204864, 0.6624939, 0.3109237, 0.09776749, 0.30686778, 0.27679318, 0.6043129, 0.31907126, 0.13552679, 0.32431802, 0.30858064, 0.85241854, 0.060512334, 0.3180959, 0.08312863, 0.1089087, 0.07702604, 0.32433292, 0.29497477, 0.34310082, 0.30858064, 0.088282645, 0.2920847, 0.54349524, 0.16448629, 0.38472366, 0.018577069, 0.0770213, 0.11356978, 0.07242742, 0.2830804, 0.11981559, 0.51041013, 0.13552676, 0.40469736, 0.36939657, 0.17247611, 0.21757159, 0.13165393, 0.37674576, 0.051677763, 0.084913045, 0.22787221, 0.00922218, 0.4846888, 0.47726455, 0.13440593, 0.09776749, 0.3179781, 0.33831352, 0.955395, 0.61695313, 0.46511418, 0.46017134, 0.26949245, 0.4942881, 0.4844796, 0.31577215, 0.14356297, 0.34617165, 0.07702604, 0.9369508, 0.2729235, 0.28606206, 0.032807678, 0.07410565, 0.50442237, 0.11948642, 0.42798895, 0.28668582, 0.5400212, 0.023095667, 0.9245508, 0.68675846, 0.031356066, 0.06075433, 0.25726116, 0.20157874, 0.50913537, 0.33896708, 0.30148283, 0.18508023, 0.5851087, 0.32762128, 0.5534668, 0.12400447, 0.7299507, 0.060512334, 0.65131885, 0.7598071, 0.2576149, 0.13435674, 0.3331355, 0.83402145, 0.22191076, 0.2442257, 0.5513711, 0.83628994, 0.9861704, 0.25486493, 0.09444839, 0.3379662, 0.0649195, 0.51922286, 0.51774037, 0.17470944, 0.2323513, 0.73209304, 0.4811195, 0.3239591, 0.16677564, 0.52011347, 0.28481278]\n",
            "[480, 640, 720, 880, 1280, 1440, 400, 160, 960, 1600, 960, 2000, 1600, 80, 800, 1360, 1200, 640, 1360, 320, 1040, 2000, 1760, 160, 1120, 1280, 320, 1200, 800, 1120, 1360, 1520, 1280, 480, 1440, 320, 160, 560, 1840, 1360, 480, 320, 1680, 1360, 1280, 960, 480, 560, 1920, 1440, 1040, 240, 1520, 80, 1840, 880, 640, 480, 960, 1680, 1600, 720, 640, 160, 400, 1280, 1840, 1280, 960, 880, 400, 1920, 1440, 1040, 1920, 1600, 1200, 1760, 1360, 1280, 1360, 1760, 1920, 640, 400, 1120, 560, 1280, 2000, 640, 800, 720, 720, 1760, 1920, 1680, 1600, 1040, 800, 1120, 960, 1680, 720, 320, 560, 1200, 480, 1120, 240, 2000, 1520, 880, 640, 1440, 1520, 400, 80, 720, 1360, 320, 1680, 400, 800, 960, 480, 320, 1360, 1120, 400, 400, 1520, 480, 800, 1840, 640, 480, 1040, 240, 1520, 1920, 1520, 1600, 1040, 1360, 1680, 720, 720, 1040, 160, 160, 1120, 880, 1840, 2000, 640, 560, 1280, 320, 1680, 80, 1280, 1200, 2000, 1920, 800, 80, 880, 320, 560, 1520, 1760, 480, 1920, 1360, 2000, 880, 1920, 160, 240, 1360, 1280, 1120, 160, 880, 1360, 800, 80, 2000, 1840, 640, 1040, 1760, 480, 480, 720, 1280, 1840, 1200, 560, 1200, 1920, 1760, 1760, 1920, 800, 1440, 1120, 1600, 1840, 1360, 480, 880, 1680, 640, 560, 320, 960, 240, 1440, 320, 960, 2000, 960, 1120, 640, 1920, 1280, 320, 960, 800, 320, 320, 640, 1440, 560, 880, 1600, 1200, 1920, 800, 480, 800, 880, 80, 160, 1520, 560, 1760, 480, 1920, 1680, 160, 1520, 1360, 160, 1120, 400, 720, 80, 1200, 1840, 1920, 720, 320, 1120, 1520, 2000, 1440, 2000, 1840, 1040, 1360, 800, 1280, 1680, 1200, 1120, 640, 320, 1120, 640, 720, 880, 320, 2000, 720, 2000, 1600, 800, 1840, 1440, 1680, 400, 560, 1120, 1200, 1200, 1760, 1600, 1360, 1120, 480, 1520, 1360, 160, 1200, 1200, 1920, 1600, 640, 1120, 1200, 2000, 1840, 160, 1040, 400, 640, 160, 1440, 640, 800, 480, 1280, 880, 800, 1600, 80, 1600, 1040, 1920, 1120, 1520, 1680, 480, 1200, 80, 560, 2000, 1440, 560, 320, 160, 1360, 480, 1200, 1040, 1120, 880, 1760, 1440, 1200, 1200, 1760, 1120, 1760, 80, 1360, 800, 1360, 1520, 1440, 800, 80, 960, 1280, 1040, 240, 880, 1440, 240, 720, 80, 560, 1680, 800, 480, 160, 240, 1520, 1360, 320, 640, 1680, 1680, 1040, 1040, 1600, 400, 1120, 1040, 1040, 1760, 160, 1760, 2000, 1120, 320, 480, 1360, 640, 1520, 1760, 560, 1120, 400, 960, 160, 1440, 880, 1760, 640, 720, 1600, 560, 80, 1680, 2000, 1920, 160, 1680, 80, 1920, 1680, 1040, 400, 160, 1280, 1200, 1520, 880, 1840, 880, 240, 1520, 80, 560, 1360, 1520, 1520, 960, 400, 880, 1680, 880, 1200, 1520, 1040, 640, 960, 720, 1600, 1360, 240, 960, 1440, 400, 560, 1600, 880, 1200, 1040, 400, 960, 480, 80, 1360, 800, 2000, 960, 1280, 2000, 1440, 1520, 1760, 1920, 1840, 560, 1680, 240, 640, 1760, 480, 1840, 320, 480, 240, 1760, 320, 400, 2000, 1600, 960, 1040, 160, 1280, 240, 720, 1680, 1120, 2000, 720, 880, 800, 800, 720, 1920, 1680, 1040, 320, 160, 640, 720, 1120, 1600, 240, 1360, 1680, 1440, 240, 160, 1760, 1600, 1360, 640, 640, 880, 880, 1280, 880, 880, 1520, 2000, 240, 720, 1280, 640, 560, 1680, 1360, 800, 1920, 1280, 1760, 480, 1200, 1280, 880, 1440, 400, 1200, 400, 800, 880, 1280, 1120, 1520, 1920, 1120, 480, 1040, 1920, 1840, 480, 640, 560, 720, 1360, 320, 1840, 800, 1040, 1360, 1120, 160, 400, 1040, 640, 560, 800, 560, 400, 1840, 1680, 880, 1760, 80, 1680, 1360, 960, 240, 1120, 800, 1200, 1280, 1520, 960, 1600, 160, 2000, 960, 1440, 240, 80, 80, 960, 160, 1440, 560, 2000, 880, 80, 320, 1920, 1120, 1280, 1840, 1920, 640, 1120, 480, 1520, 1520, 560, 1520, 720, 640, 400, 1600, 160, 1840, 80, 1200, 880, 720, 960, 1360, 640, 560, 960, 960, 1520, 1040, 1200, 480, 1760, 400, 1120, 480, 480, 880, 1600, 160, 720, 1680, 2000, 1120, 2000, 2000, 320, 1360, 800, 560, 400, 1600, 1200, 240, 1840, 320, 240, 880, 720, 1520, 800, 1840, 560, 1920, 1120, 320, 160, 320, 1840, 2000, 640, 1600, 1360, 400, 1760, 640, 800, 1680, 2000, 1280, 240, 560, 1840, 1360, 1120, 1680, 1600, 2000, 160, 1760, 80, 1840, 2000, 1360, 800, 960, 240, 800, 960, 240, 800, 1680, 320, 1200, 160, 560, 640, 720, 880, 1360, 1120, 880, 640, 400, 800, 1680, 880, 720, 880, 960, 160, 1600, 720, 1680, 80, 1440, 1440, 1920, 480, 1040, 1680, 240, 1520, 320, 160, 2000, 1760, 1920, 2000, 1280, 240, 1920, 320, 1360, 1360, 1200, 480, 1920, 1600, 2000, 1280, 880, 1600, 1760, 1680, 240, 1840, 1520, 1840, 720, 80, 1520, 880, 720, 480, 400, 80, 560, 1600, 1280, 1120, 1760, 640, 800, 1600, 160, 1520, 640, 1600, 800, 1520, 720, 400, 960, 1200, 720, 80, 800, 560, 240, 240, 320, 880, 1360, 800, 1120, 80, 1200, 1520, 480, 80, 960, 560, 400, 2000, 1440, 1120, 1200, 1440, 1440, 960, 1120, 1520, 960, 320, 1280, 80, 1040, 720, 960, 1600, 1360, 960, 1280, 640, 560, 1120, 800, 1120, 960, 1440, 1680, 400, 1440, 1680, 1360, 240, 320, 1520, 800, 80, 1600, 880, 560, 2000, 1200, 1120, 400, 240, 960, 1520, 1040, 1120, 240, 1520, 1920, 1200, 1280, 1920, 1600, 1200, 1680, 1200, 1920, 1520, 320, 1600, 960, 1200, 80, 160, 960, 1600, 560, 400, 80, 2000, 480, 720, 800, 1280, 1600, 1760, 560, 1040, 720, 240, 1280, 1360, 1120, 1840, 1200, 2000, 1040, 560, 480, 880, 1440, 160, 800, 480, 800, 800, 1200, 1040, 240, 160, 1200, 1920, 1040, 400, 560, 800, 1040, 800, 720, 960, 1680, 880, 640, 1520, 1440, 1600, 400, 1920, 1120, 2000, 1840, 1040, 1280, 1200, 960, 1040, 80, 320, 640, 720, 1600, 80, 480, 2000, 1760, 1520, 640, 720, 800, 1040, 480, 560, 1600, 1200, 800, 1440, 1440, 640, 1200, 1200, 560, 1920, 240, 880, 1440, 720, 720, 160, 720, 1680, 640, 1920, 1680, 80, 1200, 480, 640, 1840, 400, 1680, 560, 240, 1120, 1680, 1920, 1920, 1600, 960, 960, 1920, 400, 1440, 1520, 400, 160, 800, 1440, 240, 160, 1280, 160, 400, 560, 640, 1840, 1120, 720, 720, 1920, 2000, 1280, 1520, 1120, 400, 2000, 2000, 1440, 1600, 880, 1360, 80, 2000, 480, 1840, 1360, 1280, 240, 240, 1280, 1920, 1680, 400, 880, 1760, 480, 1520, 1520, 560, 800, 800, 1600, 800, 880, 1360, 1120, 1840, 1280, 480, 80, 320, 1840, 1200, 1920, 1120, 1440, 720, 480, 80, 2000, 1120, 160, 1200, 160, 480, 80, 1600, 1680, 80, 1360, 560, 1680, 1440, 640, 2000, 720, 1360, 480, 160, 1040, 1040, 1040, 1520, 480, 1600, 640, 1600, 1200, 720, 1760, 1760, 880, 720, 640, 560, 240, 480, 1120, 1360, 1200, 1040, 480, 1840, 960, 320, 1840, 1280, 400, 2000, 1280, 1520, 1280, 1040, 1280, 1440, 1520, 1280, 720, 240, 1680, 960, 640, 320, 560, 480, 960, 560, 1280, 960, 1040, 480, 400, 1600, 1520, 1440, 1920, 160, 320, 800, 1440, 640, 480, 1120, 800, 160, 560, 1600, 1920, 1120, 240, 1280, 800, 960, 720, 1280, 400, 1280, 1120, 1680, 240, 1120, 1840, 1920, 1280, 1440, 1040, 1840, 880, 1120, 1600, 1600, 1600, 1120, 1840, 800, 480, 1600, 960, 400, 880, 960, 320, 240, 160, 960, 2000, 800, 2000, 1280, 2000, 1760, 640, 1840, 400, 240, 720, 1360, 1520, 1680, 1280, 240, 1280, 320, 240, 1040, 1200, 240, 1280, 1040, 1280, 1840, 1440, 80, 1360, 720, 560, 1280, 1680, 1120, 880, 160, 1040, 1520, 240, 1600, 1360, 1120, 2000, 160, 1200, 480, 880, 880, 1200, 1600, 480, 1280, 1280, 1360, 640, 160, 1920, 1280, 880, 1520, 1600, 800, 880, 1920, 1600, 160, 160, 400, 1680, 960, 1520, 1440, 1840, 1520, 560, 960, 880, 1840, 720, 1120, 880, 720, 1280, 1760, 400, 880, 480, 1440, 1360, 1040, 1600, 960, 1520, 80, 1360, 1600, 880, 1280, 880, 480, 400, 400, 1520, 1360, 1520, 1600, 880, 1440, 2000, 1200, 1120, 720, 1200, 720, 80, 80, 160, 1440, 160, 1840, 1840, 640, 400, 2000, 1840, 560, 1840, 960, 480, 480, 1840, 240, 1520, 1760, 400, 1440, 80, 1760, 320, 640, 1360, 1840, 1520, 400, 1200, 1760, 2000, 960, 240, 240, 320, 960, 80, 560, 80, 720, 960, 320, 880, 1040, 400, 1120, 880, 880, 560, 1440, 1520, 1520, 1280, 400, 960, 1840, 1200, 800, 800, 1920, 1920, 1680, 1360, 640, 1600, 720, 1840, 880, 1200, 1680, 1680, 1200, 1440, 1680, 160, 1360, 640, 800, 1600, 1200, 640, 1280, 800, 1760, 1520, 560, 1440, 1440, 1120, 240, 1600, 560, 1360, 1040, 1840, 560, 1840, 320, 560, 1520, 640, 80, 1440, 1840, 1760, 160, 1840, 960, 1520, 80, 640, 480, 1680, 1120, 2000, 1200, 160, 800, 1520, 560, 240, 560, 80, 1040, 240, 1440, 2000, 400, 1280, 1920, 1360, 1920, 1120, 320, 800, 1200, 1120, 800, 800, 1600, 880, 80, 720, 800, 1120, 720, 400, 1040, 240, 560, 640, 640, 480, 80, 480, 1280, 2000, 880, 1120, 400, 1040, 880, 320, 1040, 1440, 1040, 1760, 320, 960, 1200, 1360, 400, 560, 1440, 880, 880, 1600, 240, 1680, 1280, 1680, 160, 1600, 1120, 1280, 1360, 1520, 1440, 480, 1280, 1360, 1520, 240, 240, 160, 1280, 160, 240, 80, 640, 1360, 1280, 400, 1600, 1760, 1840, 1120, 1200, 1920, 240, 1680, 1120, 960, 640, 1840, 640, 400, 1200, 1680, 1280, 880, 320, 1840, 1760, 2000, 1280, 2000, 1920, 1600, 1040, 480, 400, 960, 1520, 240, 640, 400, 320, 1440, 240, 1200, 1520, 880, 1200, 1120, 160, 1200, 1520, 400, 80, 640, 480, 400, 880, 1760, 960, 1280, 960, 1520, 1280, 640, 1440, 2000, 320, 480, 1600, 400, 1120, 1280, 1520, 480, 1040, 880, 720, 800, 1280, 800, 560, 1200, 320, 1280, 960, 480, 960, 320, 1680, 960, 80, 1920, 1440, 1920, 320, 1040, 2000, 880, 1760, 1440, 1680, 960, 560, 1680, 800, 160, 1840, 640, 640, 720, 1440, 1440, 1360, 880, 1920, 1600, 1120, 1680, 320, 80, 560, 1280, 1120, 640, 160, 1120, 1120, 800, 1120, 480, 1040, 240, 1520, 1520, 1760, 880, 880, 1680, 720, 1040, 1040, 720, 1040, 1520, 960, 1440, 1440, 960, 800, 1040, 1440, 720, 960, 1120, 1280, 480, 1600, 960, 480, 1600, 1440, 400, 880, 240, 1040, 1120, 800, 400, 1200, 1360, 1120, 1760, 240, 720, 1920, 1200, 1200, 320, 1520, 1120, 960, 320, 1840, 1360, 720, 1200, 1920, 1040, 1520, 2000, 1840, 1600, 960, 1680, 400, 1760, 1840, 2000, 1280, 480, 1680, 80, 1040, 320, 800, 320, 1360, 320, 1280, 560, 160, 160, 1520, 1680, 80, 1360, 880, 400, 400, 1440, 320, 2000, 960, 880, 1600, 1840, 160, 1920, 480, 1360, 1680, 1280, 1040, 160, 80, 800, 1760, 400, 1600, 1200, 1440, 960, 480, 1200, 1440, 800, 800, 800, 1520, 160, 1840, 1440, 880, 1680, 640, 720, 2000, 480, 1760, 640, 1840, 800, 1280, 720, 240, 1920, 560, 720, 1680, 160, 560, 2000, 1840, 800, 880, 1440, 1200, 1280, 960, 160, 1600, 2000, 320, 1360, 240, 1520, 1840, 1920, 1200, 1840, 960, 1920, 320, 160, 1680, 1760, 1040, 240, 400, 1040, 2000, 1840, 1520, 1840, 1040, 2000, 480, 1040, 560, 800, 560, 960, 880, 1760, 880, 1360, 1600, 80, 240, 240, 2000, 960, 1360, 880, 2000, 1760, 240, 640, 1120, 800, 1760, 960, 800, 560, 1040, 1920, 1520, 800, 1600, 560, 1120, 1680, 960, 640, 1840, 720, 400, 880, 1200, 480, 960, 1200, 1440, 1200, 1120, 1760, 1600, 960, 1600, 1200, 800, 1040, 1120, 1840, 80, 640, 1920, 720, 400, 1920, 160, 1040, 1120, 2000, 480, 1280, 960, 1440, 320, 880, 1200, 320, 2000, 1760, 880, 640, 1840, 160, 1360, 1280, 1120, 1760, 1360, 1520, 720, 1760, 1920, 560, 1200, 560, 960, 400, 1120, 560, 1200, 80, 1520, 1520, 1600, 1520, 640, 1120, 1440, 1760, 480, 1840, 1680, 1440, 960, 400, 160, 1040, 1280, 1280, 1680, 1280, 1280, 1440, 1440, 1120, 960, 1280, 1360, 1680, 1920, 160, 1520, 1360, 1840, 560, 1600, 1120, 1520, 400, 560, 800, 480, 2000, 1200, 560, 720, 1120, 1280, 1440, 1200, 1600, 160, 1440, 160, 80, 80, 1600, 640, 1040, 1760, 480, 80, 1040, 1920, 160, 1280, 640, 1280, 400, 1280, 1200, 1440, 1280, 1440, 1920, 400, 640, 1520, 1280, 1920, 160, 1680, 1360, 640, 2000, 1840, 400, 240, 80, 800, 1440, 800, 80, 1360, 240, 720, 2000, 1360, 1360, 1280, 560, 1760, 320, 160, 1120, 960, 640, 1360, 1360, 80, 240, 1120, 1200, 160, 1760, 960, 880, 1520, 1680, 800, 480, 160, 1280, 1280, 160, 160, 80, 1200, 1360, 2000, 880, 640, 320, 1040, 1200, 240, 1040, 1360, 2000, 880, 1760, 1120, 240, 160, 1440, 1840, 1760, 160, 80, 1840, 1200, 1600, 240, 1760, 1840, 720, 240, 320, 320, 1040, 240, 400, 1040, 160, 160, 1040, 1440, 1280, 320, 80, 800, 960, 1760, 880, 880, 560, 1280, 1680, 160, 960, 1120, 480, 1040, 1920, 960, 1920, 400, 1120, 640, 400, 1840, 1120, 1600, 960, 1920, 1680, 800, 1520, 240, 720, 1840, 320, 560, 80, 160, 1040, 160, 1760, 960, 800, 640, 2000, 1520, 1200, 2000, 1360, 880, 960, 480, 80, 1600, 1600, 80, 320, 560, 2000, 1840, 1280, 1360, 880, 880, 1760, 720, 1840, 80, 480, 1600, 640, 1520, 2000, 240, 1600, 1440, 1360, 480, 2000, 1520, 1520, 1360, 1120, 1520, 1280, 800, 1920, 880, 80, 80, 1040, 880, 1600, 1120, 880, 560, 640, 1120, 1840, 80, 1200, 1040, 960, 160, 1360, 480, 2000, 1200, 1760, 2000, 1280, 1600, 1280, 560, 640, 640, 1760, 1280, 640, 160, 1120, 1600, 1120, 1680, 1600, 320, 480, 1040, 1440, 240, 240, 1680, 1280, 720, 960, 240, 1280, 240, 480, 1040, 1200, 1920, 640, 240, 800, 240, 560, 640, 880, 1680, 1840, 1920, 1200, 160, 800, 720, 1360, 1520, 1200, 1440, 1760, 240, 240, 1760, 320, 1360, 720, 1360, 320, 2000, 160, 720, 1600, 1760, 480, 1120, 1040, 800, 320, 960, 2000, 1440, 800, 720, 320, 1680, 960, 1120, 1840, 1280, 400, 720, 1280, 1920, 320, 1520, 320, 1200, 240, 1040, 640, 240, 1120, 1920, 480, 240, 960, 80, 1920, 1120, 640, 1600, 80, 1360, 960, 1440, 240, 560, 480, 1200, 720, 480, 320, 400, 800, 160, 1280, 1760, 1120, 240, 1840, 1040, 400, 160, 400, 2000, 1120, 720, 1360, 240, 880, 800, 880, 1760, 1360, 160, 1680, 2000, 640, 320, 880, 1840, 880, 1040, 1120, 1840, 1760, 560, 640, 1600, 400, 1280, 1440, 1760, 720, 1760, 800, 640, 480, 720, 80]\n",
            "[ 333.83725  392.47247  690.74414 ...  400.20923 1078.6179   626.8405 ]\n",
            "-----------------------------------------------------------------------\n",
            "Resuslts\n"
          ]
        },
        {
          "output_type": "display_data",
          "data": {
            "text/plain": [
              "<Figure size 1080x720 with 1 Axes>"
            ],
            "image/png": "[encoded data removed]"
          },
          "metadata": {
            "needs_background": "light"
          }
        },
        {
          "output_type": "stream",
          "name": "stdout",
          "text": [
            "[108.55875, 236.10194, 267.4965, 216.79442, 267.15558, 294.367, 279.6416, 237.7248, 220.8444, 333.80594, 350.5385, 354.9721, 363.914, 402.16495, 383.81595, 409.65015, 533.78674, 467.01028, 546.76587, 470.0927, 482.06223, 597.23334, 595.63306, 619.5871, 596.5751]\n",
            "[132.02087, 198.86575, 255.75688, 263.75577, 424.83435, 382.1834, 471.0786, 532.235, 551.98694, 690.1686, 810.4689, 911.9743, 782.791, 794.2273, 918.1833, 879.5402, 914.74347, 964.197, 928.3225, 892.85315, 975.3061, 1015.8847, 1076.4102, 1010.3401, 924.6137]\n",
            "[325.54333, 265.2486, 297.33698, 301.59113, 385.0743, 432.22815, 539.6832, 539.3782, 591.22437, 862.2216, 828.5306, 938.3111, 847.01825, 968.2528, 748.4609, 977.9089, 893.8444, 1036.6553, 978.2592, 998.86194, 976.3532, 1029.6389, 1061.5123, 1047.6642, 1125.8662]\n",
            "-----------------------------------------------------------------------\n"
          ]
        }
      ]
    }
  ]
}