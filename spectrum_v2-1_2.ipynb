{
  "nbformat": 4,
  "nbformat_minor": 0,
  "metadata": {
    "colab": {
      "name": "Untitled2.ipynb",
      "provenance": [],
      "authorship_tag": "ABX9TyOO4Z8TfGL3BrO4hoj7w0gV",
      "include_colab_link": true
    },
    "kernelspec": {
      "name": "python3",
      "display_name": "Python 3"
    },
    "language_info": {
      "name": "python"
    }
  },
  "cells": [
    {
      "cell_type": "markdown",
      "metadata": {
        "id": "view-in-github",
        "colab_type": "text"
      },
      "source": [
        "<a href=\"https://colab.research.google.com/github/R0N3ldrt/Thesis/blob/main/spectrum_v2-1_2.ipynb\" target=\"_parent\"><img src=\"https://colab.research.google.com/assets/colab-badge.svg\" alt=\"Open In Colab\"/></a>"
      ]
    },
    {
      "cell_type": "markdown",
      "source": [
        "# Loading Enviroment"
      ],
      "metadata": {
        "id": "7-p-CX-kUDPI"
      }
    },
    {
      "cell_type": "markdown",
      "source": [
        "## Loading Drive and folders"
      ],
      "metadata": {
        "id": "kKLaDBV_UhTZ"
      }
    },
    {
      "cell_type": "code",
      "execution_count": 204,
      "metadata": {
        "colab": {
          "base_uri": "https://localhost:8080/"
        },
        "id": "80pfZ7Wfj_jm",
        "outputId": "d48532a5-d424-4366-c69b-e70373af67a5"
      },
      "outputs": [
        {
          "output_type": "stream",
          "name": "stdout",
          "text": [
            "Mounted at /content/gdrive\n"
          ]
        }
      ],
      "source": [
        "# BLOQUE PARA USAR DESDE COLAB\n",
        "\n",
        "# Google drive loading as work station for local-usage of the files.\n",
        "from google.colab import drive\n",
        "drive.mount('/content/gdrive',force_remount= True)\n",
        "\n",
        "#-----------------------------------------------------------------------------"
      ]
    },
    {
      "cell_type": "code",
      "source": [
        "# Lista para cambiar los paths rapido.\n",
        "workers = [\"Ronald\", \"Local\"]\n",
        "\n",
        "# Cambiar el numero aqui para cambiar los paths.\n",
        "worker = workers[0]\n",
        "\n",
        "if worker == \"Ronald\":\n",
        "  path= \"/content/gdrive/MyDrive/Thesis_Workstation/ANN_dataset\"\n",
        "else: path = os.getcwd()"
      ],
      "metadata": {
        "id": "HYhSlcdkUHK4"
      },
      "execution_count": 205,
      "outputs": []
    },
    {
      "cell_type": "markdown",
      "source": [
        "## Loading Necesary Libraries"
      ],
      "metadata": {
        "id": "SrOEnz5DUkwK"
      }
    },
    {
      "cell_type": "code",
      "source": [
        "# Importing necesary libraries\n",
        "import os, time\n",
        "import pandas as pd\n",
        "import numpy as np\n",
        "import matplotlib.pyplot as plt\n",
        "import math\n",
        "import pickle\n",
        "from sklearn.linear_model import LinearRegression\n",
        "from sklearn import metrics\n",
        "from sklearn.metrics import r2_score\n",
        "import seaborn as sn\n",
        "from sklearn.metrics import f1_score\n",
        "\n",
        "import warnings\n",
        "warnings.filterwarnings(\"ignore\")"
      ],
      "metadata": {
        "id": "QIUgQsnaUlyr"
      },
      "execution_count": 208,
      "outputs": []
    },
    {
      "cell_type": "markdown",
      "source": [
        "# Loading Data"
      ],
      "metadata": {
        "id": "7ZGac0jXU4IN"
      }
    },
    {
      "cell_type": "code",
      "source": [
        "data_path=path+\"/Spectrum\"\n",
        "\n",
        "qpsk_path=\"/QPSK/A.10hops100km/\"\n",
        "qam_path=\"/16QAM/A.10hops100km\"\n",
        "\n",
        "#file_name=\"/dataSet_Spectrum_Samples_QPSK_37GHz_LongHaul_output_10x100.xlsx\"\n",
        "file_name = \"/QPSK_dummy.xlsx\"\n",
        "# Skipping first row since only contain \"Frequency\" headers\n",
        "df_qpsk = pd.read_excel(data_path+qpsk_path+file_name, sheet_name = \"Sheet1\", skiprows=1)\n",
        "\n",
        "#file_name=\"/dataSet_Spectrum_Samples_16QAM_75GHz_LongHaul_output_10x100.xlsx\"\n",
        "file_name = \"/16QAM_dummy.xlsx\"\n",
        "df_qam = pd.read_excel(data_path+qam_path+file_name, sheet_name = \"Sheet1\", skiprows=1)\n",
        "\n",
        "#Diff in column 5 to 1,286 0.03125"
      ],
      "metadata": {
        "id": "3m6Osw-hU5LP"
      },
      "execution_count": 4,
      "outputs": []
    },
    {
      "cell_type": "code",
      "source": [
        "#dump_file = dict desireed to be saved\n",
        "#filename = just the name of the file (file saved on \"pickle_folder\")\n",
        "\n",
        "def pickle_out(dump_file, filename):\n",
        "  filepath = path+\"/pickle_folder/\"+str(filename)+\".pickle\"\n",
        "  pickleout = open(filepath, \"wb\")\n",
        "  pickle.dump(dump_file, pickleout)\n",
        "  pickleout.close()\n",
        "\n",
        "def pickle_in(filename):\n",
        "  filepath = path+\"/pickle_folder/\"+str(filename)+\".pickle\"\n",
        "  picklein = open(filepath, \"rb\")\n",
        "  loaded_dict = pickle.load(picklein)\n",
        "  return loaded_dict"
      ],
      "metadata": {
        "id": "OMgs2wolW6Fe"
      },
      "execution_count": 5,
      "outputs": []
    },
    {
      "cell_type": "markdown",
      "source": [
        "# Aggregator"
      ],
      "metadata": {
        "id": "YGPsHkofW9i_"
      }
    },
    {
      "cell_type": "code",
      "source": [
        "def prime_number_finder(stop_gap, total_num_of_data):\n",
        "  prime_nums = []\n",
        "  i=2\n",
        "  while i <= stop_gap:\n",
        "    if (total_num_of_data % i==0):\n",
        "      prime_nums.append(i)\n",
        "    i+=1\n",
        "  return prime_nums"
      ],
      "metadata": {
        "id": "sd6CYM68Z2gb"
      },
      "execution_count": 119,
      "outputs": []
    },
    {
      "cell_type": "code",
      "source": [
        "def aggreagator_selection(stop_gap=25, total_num_of_data=1281, min_prime = False):\n",
        "  current_freq_offset = 0.03125\n",
        "  \n",
        "  # Find the prime numbers where the total_num_of_data is divisible\n",
        "  prime_nums = prime_number_finder(stop_gap, total_num_of_data)\n",
        "  \n",
        "  # Find the offsets of the new aggregators\n",
        "  new_freq_offsets = []\n",
        "  for nums in prime_nums:\n",
        "    freq_offset = current_freq_offset*(nums-1)\n",
        "    new_freq_offsets.append(freq_offset)\n",
        "\n",
        "  # Select the prime number we would use to aggregation\n",
        "  if min_prime == False:\n",
        "    # Ask the user for the desired aggregator\n",
        "    print('Please select one of the following prime number to conduct the aggregation {} with frequencies offsets of {}(PHz) respectively. (Current Freq offset is 0.03125 PHz)'.format(prime_nums, new_freq_offsets))\n",
        "    while True:\n",
        "      user_selection = input('Prime number to conduct the aggregation? ')\n",
        "      if int(user_selection) not in prime_nums:\n",
        "        print('Please select one of the available prime numbers. (Current selection is not avaliable)')\n",
        "      else:\n",
        "        break\n",
        "    return int(user_selection)\n",
        "  else:\n",
        "    user_selection = min(prime_nums)\n",
        "    freq_selected = min(new_freq_offsets)\n",
        "    print('Selected the least common denominator for aggregation ({}) with a frequency of {}.'.format(user_selection, freq_selected))\n",
        "    return int(user_selection)"
      ],
      "metadata": {
        "id": "rxol9WgMZ4uK"
      },
      "execution_count": 120,
      "outputs": []
    },
    {
      "cell_type": "code",
      "source": [
        "def aggreagator(df, stop_gap=25, total_num_of_data=1281, min_prime = False):\n",
        "  agg_num = aggreagator_selection(stop_gap, total_num_of_data, min_prime = min_prime)\n",
        "  \n",
        "  # Creating new df for aggregate values\n",
        "  agg_df = pd.DataFrame()\n",
        "  agg_df = df[df.columns[0:5]]\n",
        "\n",
        "  agg=0\n",
        "  loop_cnt=0\n",
        "  init_column_cnt = 5\n",
        "  while agg<=total_num_of_data:\n",
        "    loop_cnt+=1\n",
        "    # Obtain current last columns stop\n",
        "    agg=agg_num+init_column_cnt\n",
        "    # Select working columns\n",
        "    new_df = df[df.columns[init_column_cnt:agg]]\n",
        "\n",
        "    init_column_cnt += (agg_num)\n",
        "    #print(init_column_cnt)\n",
        "    # Get average of freq values for new header\n",
        "    headers = list(new_df.columns.values)\n",
        "    headers_array = np.asarray(headers)\n",
        "    new_header_name = np.mean(headers_array)\n",
        "\n",
        "    # Add aggragated values to new df\n",
        "    agg_df[str(new_header_name)] = new_df.mean(axis = 1)\n",
        "  agg_dict = agg_df.to_dict()\n",
        "  return agg_df, agg_dict\n"
      ],
      "metadata": {
        "id": "qTOFyAtoaL9I"
      },
      "execution_count": 121,
      "outputs": []
    },
    {
      "cell_type": "code",
      "source": [
        "# QPSK AGG\n",
        "QPSK_agg_df, QPSK_agg_dict = aggreagator(df_qpsk, stop_gap=100, total_num_of_data=(df_qpsk.shape[1]-5), min_prime = True)\n",
        "#pickle_out(QPSK_agg_dict, \"test_agg_spectrum_QPSK_\"+str(stop))"
      ],
      "metadata": {
        "colab": {
          "base_uri": "https://localhost:8080/"
        },
        "id": "ofXnq8PEbUGg",
        "outputId": "6021df5b-2562-424c-fe29-19ada3129ae0"
      },
      "execution_count": 122,
      "outputs": [
        {
          "output_type": "stream",
          "name": "stdout",
          "text": [
            "Selected the least common denominator for aggregation (3) with a frequency of 0.0625.\n"
          ]
        }
      ]
    },
    {
      "cell_type": "markdown",
      "source": [
        "# Get model (Node and Power)"
      ],
      "metadata": {
        "id": "rb-QrGxyeUhS"
      }
    },
    {
      "cell_type": "code",
      "source": [
        "def get_dummy_spectrum(df, power):\n",
        "  # Get selected power\n",
        "  model_df = df[df['power_dBm'].isin([int(power)])]\n",
        "\n",
        "  model_df = model_df.groupby(['#node', 'power_dBm']).mean()\n",
        "  model_df.drop(['sampleid', 'Channels'], axis = 1, inplace = True)\n",
        "  model_dict = model_df.to_dict()\n",
        "  \n",
        "  return model_df, model_dict\n",
        "  #Return a tuple of (node, power) as keys in the nested dict and indexes"
      ],
      "metadata": {
        "id": "unWTbPAHeXO3"
      },
      "execution_count": 129,
      "outputs": []
    },
    {
      "cell_type": "code",
      "source": [
        "# Dummy Model QPSK\n",
        "QPSK_dummy_df, QPSK_dummy_dict = get_dummy_spectrum(df_qpsk, power = -2)\n",
        "\n",
        "#pickle_out(QPSK_dummy_dict, \"dummy_AGG_spectrum_QPSK\")"
      ],
      "metadata": {
        "id": "4D7M_MQDgXp8"
      },
      "execution_count": 132,
      "outputs": []
    },
    {
      "cell_type": "code",
      "source": [
        "QPSK_dummy_df.head()"
      ],
      "metadata": {
        "colab": {
          "base_uri": "https://localhost:8080/",
          "height": 268
        },
        "id": "xSnb-1zYgmw-",
        "outputId": "c99e5f63-be58-4bf8-b263-d019989afb57"
      },
      "execution_count": 133,
      "outputs": [
        {
          "output_type": "execute_result",
          "data": {
            "text/plain": [
              "                 Distance_km        -20  -19.96875   -19.9375  -19.90625  \\\n",
              "#node power_dBm                                                            \n",
              "1     -2                 0.0 -52.955056 -54.126681 -52.713840 -54.542630   \n",
              "2     -2               100.0 -51.813386 -53.194155 -52.697528 -52.418356   \n",
              "3     -2               200.0 -55.626777 -54.634329 -54.702958 -56.522545   \n",
              "\n",
              "                   -19.875  -19.84375   -19.8125  -19.78125     -19.75  ...  \\\n",
              "#node power_dBm                                                         ...   \n",
              "1     -2        -53.699036 -52.716651 -54.298754 -52.256947 -56.682823  ...   \n",
              "2     -2        -52.486649 -50.289808 -54.422782 -54.110832 -55.149438  ...   \n",
              "3     -2        -50.522361 -51.649987 -51.647787 -57.084303 -53.951639  ...   \n",
              "\n",
              "                  19.71875      19.75   19.78125    19.8125   19.84375  \\\n",
              "#node power_dBm                                                          \n",
              "1     -2        -55.905776 -54.248709 -55.992318 -53.838975 -50.924380   \n",
              "2     -2        -53.005446 -55.507125 -54.494074 -50.651776 -54.789647   \n",
              "3     -2        -51.567208 -56.796925 -51.015703 -52.421725 -54.815529   \n",
              "\n",
              "                    19.875   19.90625    19.9375   19.96875         20  \n",
              "#node power_dBm                                                         \n",
              "1     -2        -53.185248 -53.206559 -54.780695 -52.482275 -53.598605  \n",
              "2     -2        -53.624259 -51.423731 -55.126913 -57.266619 -51.729962  \n",
              "3     -2        -51.357553 -51.877358 -57.233009 -56.753557 -53.614796  \n",
              "\n",
              "[3 rows x 1282 columns]"
            ],
            "text/html": [
              "\n",
              "  <div id=\"df-e0761adb-0ccf-4968-8c7e-24866a4ca3a5\">\n",
              "    <div class=\"colab-df-container\">\n",
              "      <div>\n",
              "<style scoped>\n",
              "    .dataframe tbody tr th:only-of-type {\n",
              "        vertical-align: middle;\n",
              "    }\n",
              "\n",
              "    .dataframe tbody tr th {\n",
              "        vertical-align: top;\n",
              "    }\n",
              "\n",
              "    .dataframe thead th {\n",
              "        text-align: right;\n",
              "    }\n",
              "</style>\n",
              "<table border=\"1\" class=\"dataframe\">\n",
              "  <thead>\n",
              "    <tr style=\"text-align: right;\">\n",
              "      <th></th>\n",
              "      <th></th>\n",
              "      <th>Distance_km</th>\n",
              "      <th>-20</th>\n",
              "      <th>-19.96875</th>\n",
              "      <th>-19.9375</th>\n",
              "      <th>-19.90625</th>\n",
              "      <th>-19.875</th>\n",
              "      <th>-19.84375</th>\n",
              "      <th>-19.8125</th>\n",
              "      <th>-19.78125</th>\n",
              "      <th>-19.75</th>\n",
              "      <th>...</th>\n",
              "      <th>19.71875</th>\n",
              "      <th>19.75</th>\n",
              "      <th>19.78125</th>\n",
              "      <th>19.8125</th>\n",
              "      <th>19.84375</th>\n",
              "      <th>19.875</th>\n",
              "      <th>19.90625</th>\n",
              "      <th>19.9375</th>\n",
              "      <th>19.96875</th>\n",
              "      <th>20</th>\n",
              "    </tr>\n",
              "    <tr>\n",
              "      <th>#node</th>\n",
              "      <th>power_dBm</th>\n",
              "      <th></th>\n",
              "      <th></th>\n",
              "      <th></th>\n",
              "      <th></th>\n",
              "      <th></th>\n",
              "      <th></th>\n",
              "      <th></th>\n",
              "      <th></th>\n",
              "      <th></th>\n",
              "      <th></th>\n",
              "      <th></th>\n",
              "      <th></th>\n",
              "      <th></th>\n",
              "      <th></th>\n",
              "      <th></th>\n",
              "      <th></th>\n",
              "      <th></th>\n",
              "      <th></th>\n",
              "      <th></th>\n",
              "      <th></th>\n",
              "      <th></th>\n",
              "    </tr>\n",
              "  </thead>\n",
              "  <tbody>\n",
              "    <tr>\n",
              "      <th>1</th>\n",
              "      <th>-2</th>\n",
              "      <td>0.0</td>\n",
              "      <td>-52.955056</td>\n",
              "      <td>-54.126681</td>\n",
              "      <td>-52.713840</td>\n",
              "      <td>-54.542630</td>\n",
              "      <td>-53.699036</td>\n",
              "      <td>-52.716651</td>\n",
              "      <td>-54.298754</td>\n",
              "      <td>-52.256947</td>\n",
              "      <td>-56.682823</td>\n",
              "      <td>...</td>\n",
              "      <td>-55.905776</td>\n",
              "      <td>-54.248709</td>\n",
              "      <td>-55.992318</td>\n",
              "      <td>-53.838975</td>\n",
              "      <td>-50.924380</td>\n",
              "      <td>-53.185248</td>\n",
              "      <td>-53.206559</td>\n",
              "      <td>-54.780695</td>\n",
              "      <td>-52.482275</td>\n",
              "      <td>-53.598605</td>\n",
              "    </tr>\n",
              "    <tr>\n",
              "      <th>2</th>\n",
              "      <th>-2</th>\n",
              "      <td>100.0</td>\n",
              "      <td>-51.813386</td>\n",
              "      <td>-53.194155</td>\n",
              "      <td>-52.697528</td>\n",
              "      <td>-52.418356</td>\n",
              "      <td>-52.486649</td>\n",
              "      <td>-50.289808</td>\n",
              "      <td>-54.422782</td>\n",
              "      <td>-54.110832</td>\n",
              "      <td>-55.149438</td>\n",
              "      <td>...</td>\n",
              "      <td>-53.005446</td>\n",
              "      <td>-55.507125</td>\n",
              "      <td>-54.494074</td>\n",
              "      <td>-50.651776</td>\n",
              "      <td>-54.789647</td>\n",
              "      <td>-53.624259</td>\n",
              "      <td>-51.423731</td>\n",
              "      <td>-55.126913</td>\n",
              "      <td>-57.266619</td>\n",
              "      <td>-51.729962</td>\n",
              "    </tr>\n",
              "    <tr>\n",
              "      <th>3</th>\n",
              "      <th>-2</th>\n",
              "      <td>200.0</td>\n",
              "      <td>-55.626777</td>\n",
              "      <td>-54.634329</td>\n",
              "      <td>-54.702958</td>\n",
              "      <td>-56.522545</td>\n",
              "      <td>-50.522361</td>\n",
              "      <td>-51.649987</td>\n",
              "      <td>-51.647787</td>\n",
              "      <td>-57.084303</td>\n",
              "      <td>-53.951639</td>\n",
              "      <td>...</td>\n",
              "      <td>-51.567208</td>\n",
              "      <td>-56.796925</td>\n",
              "      <td>-51.015703</td>\n",
              "      <td>-52.421725</td>\n",
              "      <td>-54.815529</td>\n",
              "      <td>-51.357553</td>\n",
              "      <td>-51.877358</td>\n",
              "      <td>-57.233009</td>\n",
              "      <td>-56.753557</td>\n",
              "      <td>-53.614796</td>\n",
              "    </tr>\n",
              "  </tbody>\n",
              "</table>\n",
              "<p>3 rows × 1282 columns</p>\n",
              "</div>\n",
              "      <button class=\"colab-df-convert\" onclick=\"convertToInteractive('df-e0761adb-0ccf-4968-8c7e-24866a4ca3a5')\"\n",
              "              title=\"Convert this dataframe to an interactive table.\"\n",
              "              style=\"display:none;\">\n",
              "        \n",
              "  <svg xmlns=\"http://www.w3.org/2000/svg\" height=\"24px\"viewBox=\"0 0 24 24\"\n",
              "       width=\"24px\">\n",
              "    <path d=\"M0 0h24v24H0V0z\" fill=\"none\"/>\n",
              "    <path d=\"M18.56 5.44l.94 2.06.94-2.06 2.06-.94-2.06-.94-.94-2.06-.94 2.06-2.06.94zm-11 1L8.5 8.5l.94-2.06 2.06-.94-2.06-.94L8.5 2.5l-.94 2.06-2.06.94zm10 10l.94 2.06.94-2.06 2.06-.94-2.06-.94-.94-2.06-.94 2.06-2.06.94z\"/><path d=\"M17.41 7.96l-1.37-1.37c-.4-.4-.92-.59-1.43-.59-.52 0-1.04.2-1.43.59L10.3 9.45l-7.72 7.72c-.78.78-.78 2.05 0 2.83L4 21.41c.39.39.9.59 1.41.59.51 0 1.02-.2 1.41-.59l7.78-7.78 2.81-2.81c.8-.78.8-2.07 0-2.86zM5.41 20L4 18.59l7.72-7.72 1.47 1.35L5.41 20z\"/>\n",
              "  </svg>\n",
              "      </button>\n",
              "      \n",
              "  <style>\n",
              "    .colab-df-container {\n",
              "      display:flex;\n",
              "      flex-wrap:wrap;\n",
              "      gap: 12px;\n",
              "    }\n",
              "\n",
              "    .colab-df-convert {\n",
              "      background-color: #E8F0FE;\n",
              "      border: none;\n",
              "      border-radius: 50%;\n",
              "      cursor: pointer;\n",
              "      display: none;\n",
              "      fill: #1967D2;\n",
              "      height: 32px;\n",
              "      padding: 0 0 0 0;\n",
              "      width: 32px;\n",
              "    }\n",
              "\n",
              "    .colab-df-convert:hover {\n",
              "      background-color: #E2EBFA;\n",
              "      box-shadow: 0px 1px 2px rgba(60, 64, 67, 0.3), 0px 1px 3px 1px rgba(60, 64, 67, 0.15);\n",
              "      fill: #174EA6;\n",
              "    }\n",
              "\n",
              "    [theme=dark] .colab-df-convert {\n",
              "      background-color: #3B4455;\n",
              "      fill: #D2E3FC;\n",
              "    }\n",
              "\n",
              "    [theme=dark] .colab-df-convert:hover {\n",
              "      background-color: #434B5C;\n",
              "      box-shadow: 0px 1px 3px 1px rgba(0, 0, 0, 0.15);\n",
              "      filter: drop-shadow(0px 1px 2px rgba(0, 0, 0, 0.3));\n",
              "      fill: #FFFFFF;\n",
              "    }\n",
              "  </style>\n",
              "\n",
              "      <script>\n",
              "        const buttonEl =\n",
              "          document.querySelector('#df-e0761adb-0ccf-4968-8c7e-24866a4ca3a5 button.colab-df-convert');\n",
              "        buttonEl.style.display =\n",
              "          google.colab.kernel.accessAllowed ? 'block' : 'none';\n",
              "\n",
              "        async function convertToInteractive(key) {\n",
              "          const element = document.querySelector('#df-e0761adb-0ccf-4968-8c7e-24866a4ca3a5');\n",
              "          const dataTable =\n",
              "            await google.colab.kernel.invokeFunction('convertToInteractive',\n",
              "                                                     [key], {});\n",
              "          if (!dataTable) return;\n",
              "\n",
              "          const docLinkHtml = 'Like what you see? Visit the ' +\n",
              "            '<a target=\"_blank\" href=https://colab.research.google.com/notebooks/data_table.ipynb>data table notebook</a>'\n",
              "            + ' to learn more about interactive tables.';\n",
              "          element.innerHTML = '';\n",
              "          dataTable['output_type'] = 'display_data';\n",
              "          await google.colab.output.renderOutput(dataTable, element);\n",
              "          const docLink = document.createElement('div');\n",
              "          docLink.innerHTML = docLinkHtml;\n",
              "          element.appendChild(docLink);\n",
              "        }\n",
              "      </script>\n",
              "    </div>\n",
              "  </div>\n",
              "  "
            ]
          },
          "metadata": {},
          "execution_count": 133
        }
      ]
    },
    {
      "cell_type": "markdown",
      "source": [
        "# Get Data (Node and Power)"
      ],
      "metadata": {
        "id": "NlHfsU9PjCF5"
      }
    },
    {
      "cell_type": "code",
      "source": [
        "# available filters are -2, -1, 0\n",
        "\n",
        "def get_data_spectrum(df, node, power):\n",
        "  #data_df = pd.DataFrame({'#node': [int(node)], 'power_dBm': [int(power)]})\n",
        "  # Get selected node\n",
        "  data_df = df[df['#node'].isin([int(node)])]\n",
        "\n",
        "  # Get selected power\n",
        "  data_df = data_df[data_df['power_dBm'].isin([int(power)])]\n",
        "\n",
        "  data_dict = data_df.to_dict()\n",
        "  \n",
        "  return data_df, data_dict\n",
        "  #Return a tuple of (node, power) as keys in the nested dict and indexes"
      ],
      "metadata": {
        "id": "Idj6PZbJjEgx"
      },
      "execution_count": 14,
      "outputs": []
    },
    {
      "cell_type": "code",
      "source": [
        "data_df, data_dict = get_data_spectrum(df_qpsk, node=1, power=-2)"
      ],
      "metadata": {
        "id": "j9MUea5Mk7bf"
      },
      "execution_count": 15,
      "outputs": []
    },
    {
      "cell_type": "code",
      "source": [
        "data_df.head()"
      ],
      "metadata": {
        "colab": {
          "base_uri": "https://localhost:8080/",
          "height": 236
        },
        "id": "vTtMZrVWk33W",
        "outputId": "0492effd-fc97-41dc-90aa-e6ee0504cba4"
      },
      "execution_count": 16,
      "outputs": [
        {
          "output_type": "execute_result",
          "data": {
            "text/plain": [
              "   sampleid  Channels  Distance_km  power_dBm  #node        -20  -19.96875  \\\n",
              "0         1         1            0         -2      1 -50.396272 -51.195507   \n",
              "1         2         1            0         -2      1 -49.464198 -62.300068   \n",
              "2         3         1            0         -2      1 -52.100342 -54.825356   \n",
              "3         4         1            0         -2      1 -61.429210 -54.973444   \n",
              "4         5         1            0         -2      1 -51.777530 -57.344578   \n",
              "\n",
              "    -19.9375  -19.90625    -19.875  ...   19.71875      19.75   19.78125  \\\n",
              "0 -52.325501 -57.685476 -51.730270  ... -50.701297 -50.425586 -57.242411   \n",
              "1 -49.878752 -45.576386 -50.935177  ... -52.919979 -61.894104 -60.851791   \n",
              "2 -49.933739 -53.418630 -55.604328  ... -52.437768 -48.572056 -58.180955   \n",
              "3 -45.026184 -63.731247 -45.706566  ... -56.792207 -59.099399 -45.632244   \n",
              "4 -55.337847 -52.396041 -53.875442  ... -48.008932 -51.073828 -49.675923   \n",
              "\n",
              "     19.8125   19.84375     19.875   19.90625    19.9375   19.96875         20  \n",
              "0 -54.978886 -58.984450 -52.289897 -50.007652 -56.562352 -50.661037 -57.857937  \n",
              "1 -53.621297 -47.427855 -57.669031 -51.735427 -56.145979 -51.259631 -46.965564  \n",
              "2 -50.003337 -49.935404 -52.854423 -52.839831 -56.938673 -48.511327 -53.268586  \n",
              "3 -56.454966 -46.126678 -50.632960 -48.675022 -50.899182 -64.439508 -46.552580  \n",
              "4 -57.762095 -49.534186 -59.334809 -59.237640 -62.395677 -46.607586 -69.244091  \n",
              "\n",
              "[5 rows x 1286 columns]"
            ],
            "text/html": [
              "\n",
              "  <div id=\"df-85af0005-4f97-47e2-87c0-ee04fe284c0d\">\n",
              "    <div class=\"colab-df-container\">\n",
              "      <div>\n",
              "<style scoped>\n",
              "    .dataframe tbody tr th:only-of-type {\n",
              "        vertical-align: middle;\n",
              "    }\n",
              "\n",
              "    .dataframe tbody tr th {\n",
              "        vertical-align: top;\n",
              "    }\n",
              "\n",
              "    .dataframe thead th {\n",
              "        text-align: right;\n",
              "    }\n",
              "</style>\n",
              "<table border=\"1\" class=\"dataframe\">\n",
              "  <thead>\n",
              "    <tr style=\"text-align: right;\">\n",
              "      <th></th>\n",
              "      <th>sampleid</th>\n",
              "      <th>Channels</th>\n",
              "      <th>Distance_km</th>\n",
              "      <th>power_dBm</th>\n",
              "      <th>#node</th>\n",
              "      <th>-20</th>\n",
              "      <th>-19.96875</th>\n",
              "      <th>-19.9375</th>\n",
              "      <th>-19.90625</th>\n",
              "      <th>-19.875</th>\n",
              "      <th>...</th>\n",
              "      <th>19.71875</th>\n",
              "      <th>19.75</th>\n",
              "      <th>19.78125</th>\n",
              "      <th>19.8125</th>\n",
              "      <th>19.84375</th>\n",
              "      <th>19.875</th>\n",
              "      <th>19.90625</th>\n",
              "      <th>19.9375</th>\n",
              "      <th>19.96875</th>\n",
              "      <th>20</th>\n",
              "    </tr>\n",
              "  </thead>\n",
              "  <tbody>\n",
              "    <tr>\n",
              "      <th>0</th>\n",
              "      <td>1</td>\n",
              "      <td>1</td>\n",
              "      <td>0</td>\n",
              "      <td>-2</td>\n",
              "      <td>1</td>\n",
              "      <td>-50.396272</td>\n",
              "      <td>-51.195507</td>\n",
              "      <td>-52.325501</td>\n",
              "      <td>-57.685476</td>\n",
              "      <td>-51.730270</td>\n",
              "      <td>...</td>\n",
              "      <td>-50.701297</td>\n",
              "      <td>-50.425586</td>\n",
              "      <td>-57.242411</td>\n",
              "      <td>-54.978886</td>\n",
              "      <td>-58.984450</td>\n",
              "      <td>-52.289897</td>\n",
              "      <td>-50.007652</td>\n",
              "      <td>-56.562352</td>\n",
              "      <td>-50.661037</td>\n",
              "      <td>-57.857937</td>\n",
              "    </tr>\n",
              "    <tr>\n",
              "      <th>1</th>\n",
              "      <td>2</td>\n",
              "      <td>1</td>\n",
              "      <td>0</td>\n",
              "      <td>-2</td>\n",
              "      <td>1</td>\n",
              "      <td>-49.464198</td>\n",
              "      <td>-62.300068</td>\n",
              "      <td>-49.878752</td>\n",
              "      <td>-45.576386</td>\n",
              "      <td>-50.935177</td>\n",
              "      <td>...</td>\n",
              "      <td>-52.919979</td>\n",
              "      <td>-61.894104</td>\n",
              "      <td>-60.851791</td>\n",
              "      <td>-53.621297</td>\n",
              "      <td>-47.427855</td>\n",
              "      <td>-57.669031</td>\n",
              "      <td>-51.735427</td>\n",
              "      <td>-56.145979</td>\n",
              "      <td>-51.259631</td>\n",
              "      <td>-46.965564</td>\n",
              "    </tr>\n",
              "    <tr>\n",
              "      <th>2</th>\n",
              "      <td>3</td>\n",
              "      <td>1</td>\n",
              "      <td>0</td>\n",
              "      <td>-2</td>\n",
              "      <td>1</td>\n",
              "      <td>-52.100342</td>\n",
              "      <td>-54.825356</td>\n",
              "      <td>-49.933739</td>\n",
              "      <td>-53.418630</td>\n",
              "      <td>-55.604328</td>\n",
              "      <td>...</td>\n",
              "      <td>-52.437768</td>\n",
              "      <td>-48.572056</td>\n",
              "      <td>-58.180955</td>\n",
              "      <td>-50.003337</td>\n",
              "      <td>-49.935404</td>\n",
              "      <td>-52.854423</td>\n",
              "      <td>-52.839831</td>\n",
              "      <td>-56.938673</td>\n",
              "      <td>-48.511327</td>\n",
              "      <td>-53.268586</td>\n",
              "    </tr>\n",
              "    <tr>\n",
              "      <th>3</th>\n",
              "      <td>4</td>\n",
              "      <td>1</td>\n",
              "      <td>0</td>\n",
              "      <td>-2</td>\n",
              "      <td>1</td>\n",
              "      <td>-61.429210</td>\n",
              "      <td>-54.973444</td>\n",
              "      <td>-45.026184</td>\n",
              "      <td>-63.731247</td>\n",
              "      <td>-45.706566</td>\n",
              "      <td>...</td>\n",
              "      <td>-56.792207</td>\n",
              "      <td>-59.099399</td>\n",
              "      <td>-45.632244</td>\n",
              "      <td>-56.454966</td>\n",
              "      <td>-46.126678</td>\n",
              "      <td>-50.632960</td>\n",
              "      <td>-48.675022</td>\n",
              "      <td>-50.899182</td>\n",
              "      <td>-64.439508</td>\n",
              "      <td>-46.552580</td>\n",
              "    </tr>\n",
              "    <tr>\n",
              "      <th>4</th>\n",
              "      <td>5</td>\n",
              "      <td>1</td>\n",
              "      <td>0</td>\n",
              "      <td>-2</td>\n",
              "      <td>1</td>\n",
              "      <td>-51.777530</td>\n",
              "      <td>-57.344578</td>\n",
              "      <td>-55.337847</td>\n",
              "      <td>-52.396041</td>\n",
              "      <td>-53.875442</td>\n",
              "      <td>...</td>\n",
              "      <td>-48.008932</td>\n",
              "      <td>-51.073828</td>\n",
              "      <td>-49.675923</td>\n",
              "      <td>-57.762095</td>\n",
              "      <td>-49.534186</td>\n",
              "      <td>-59.334809</td>\n",
              "      <td>-59.237640</td>\n",
              "      <td>-62.395677</td>\n",
              "      <td>-46.607586</td>\n",
              "      <td>-69.244091</td>\n",
              "    </tr>\n",
              "  </tbody>\n",
              "</table>\n",
              "<p>5 rows × 1286 columns</p>\n",
              "</div>\n",
              "      <button class=\"colab-df-convert\" onclick=\"convertToInteractive('df-85af0005-4f97-47e2-87c0-ee04fe284c0d')\"\n",
              "              title=\"Convert this dataframe to an interactive table.\"\n",
              "              style=\"display:none;\">\n",
              "        \n",
              "  <svg xmlns=\"http://www.w3.org/2000/svg\" height=\"24px\"viewBox=\"0 0 24 24\"\n",
              "       width=\"24px\">\n",
              "    <path d=\"M0 0h24v24H0V0z\" fill=\"none\"/>\n",
              "    <path d=\"M18.56 5.44l.94 2.06.94-2.06 2.06-.94-2.06-.94-.94-2.06-.94 2.06-2.06.94zm-11 1L8.5 8.5l.94-2.06 2.06-.94-2.06-.94L8.5 2.5l-.94 2.06-2.06.94zm10 10l.94 2.06.94-2.06 2.06-.94-2.06-.94-.94-2.06-.94 2.06-2.06.94z\"/><path d=\"M17.41 7.96l-1.37-1.37c-.4-.4-.92-.59-1.43-.59-.52 0-1.04.2-1.43.59L10.3 9.45l-7.72 7.72c-.78.78-.78 2.05 0 2.83L4 21.41c.39.39.9.59 1.41.59.51 0 1.02-.2 1.41-.59l7.78-7.78 2.81-2.81c.8-.78.8-2.07 0-2.86zM5.41 20L4 18.59l7.72-7.72 1.47 1.35L5.41 20z\"/>\n",
              "  </svg>\n",
              "      </button>\n",
              "      \n",
              "  <style>\n",
              "    .colab-df-container {\n",
              "      display:flex;\n",
              "      flex-wrap:wrap;\n",
              "      gap: 12px;\n",
              "    }\n",
              "\n",
              "    .colab-df-convert {\n",
              "      background-color: #E8F0FE;\n",
              "      border: none;\n",
              "      border-radius: 50%;\n",
              "      cursor: pointer;\n",
              "      display: none;\n",
              "      fill: #1967D2;\n",
              "      height: 32px;\n",
              "      padding: 0 0 0 0;\n",
              "      width: 32px;\n",
              "    }\n",
              "\n",
              "    .colab-df-convert:hover {\n",
              "      background-color: #E2EBFA;\n",
              "      box-shadow: 0px 1px 2px rgba(60, 64, 67, 0.3), 0px 1px 3px 1px rgba(60, 64, 67, 0.15);\n",
              "      fill: #174EA6;\n",
              "    }\n",
              "\n",
              "    [theme=dark] .colab-df-convert {\n",
              "      background-color: #3B4455;\n",
              "      fill: #D2E3FC;\n",
              "    }\n",
              "\n",
              "    [theme=dark] .colab-df-convert:hover {\n",
              "      background-color: #434B5C;\n",
              "      box-shadow: 0px 1px 3px 1px rgba(0, 0, 0, 0.15);\n",
              "      filter: drop-shadow(0px 1px 2px rgba(0, 0, 0, 0.3));\n",
              "      fill: #FFFFFF;\n",
              "    }\n",
              "  </style>\n",
              "\n",
              "      <script>\n",
              "        const buttonEl =\n",
              "          document.querySelector('#df-85af0005-4f97-47e2-87c0-ee04fe284c0d button.colab-df-convert');\n",
              "        buttonEl.style.display =\n",
              "          google.colab.kernel.accessAllowed ? 'block' : 'none';\n",
              "\n",
              "        async function convertToInteractive(key) {\n",
              "          const element = document.querySelector('#df-85af0005-4f97-47e2-87c0-ee04fe284c0d');\n",
              "          const dataTable =\n",
              "            await google.colab.kernel.invokeFunction('convertToInteractive',\n",
              "                                                     [key], {});\n",
              "          if (!dataTable) return;\n",
              "\n",
              "          const docLinkHtml = 'Like what you see? Visit the ' +\n",
              "            '<a target=\"_blank\" href=https://colab.research.google.com/notebooks/data_table.ipynb>data table notebook</a>'\n",
              "            + ' to learn more about interactive tables.';\n",
              "          element.innerHTML = '';\n",
              "          dataTable['output_type'] = 'display_data';\n",
              "          await google.colab.output.renderOutput(dataTable, element);\n",
              "          const docLink = document.createElement('div');\n",
              "          docLink.innerHTML = docLinkHtml;\n",
              "          element.appendChild(docLink);\n",
              "        }\n",
              "      </script>\n",
              "    </div>\n",
              "  </div>\n",
              "  "
            ]
          },
          "metadata": {},
          "execution_count": 16
        }
      ]
    },
    {
      "cell_type": "markdown",
      "source": [
        "# Remove outliers"
      ],
      "metadata": {
        "id": "_0HbvoWvljxv"
      }
    },
    {
      "cell_type": "markdown",
      "source": [
        "## Sample outliears remove"
      ],
      "metadata": {
        "id": "laksvEfR5B7J"
      }
    },
    {
      "cell_type": "code",
      "source": [
        "def remove_outliers(df, row_index, lower_qr=25, upper_qr=75):\n",
        "\n",
        "  # IQR\n",
        "  Q1 = np.percentile(df.iloc[[row_index]], lower_qr, interpolation = 'midpoint')\n",
        "  \n",
        "  Q3 = np.percentile(df.iloc[[row_index]], upper_qr, interpolation = 'midpoint')\n",
        "  IQR = Q3 - Q1\n",
        "  \n",
        "  # Above Upper bound\n",
        "  upper = df.iloc[[row_index]] >= (Q3+1.5*IQR)\n",
        "  upper_bound_drop_cols = np.where(upper)[1]\n",
        "  \n",
        "  # Below Lower bound\n",
        "  lower = df.iloc[[row_index]] <= (Q1-1.5*IQR)\n",
        "  lower_bound_drop_cols = np.where(lower)[1]\n",
        "  \n",
        "  \n",
        "  drop_cols = np.concatenate((upper_bound_drop_cols, lower_bound_drop_cols), axis=None)\n",
        "\n",
        "  new_df = df.drop(df.columns[drop_cols], axis=1)\n",
        "  \n",
        "  new_sample = new_df.iloc[[row_index]]\n",
        "  return new_sample, drop_cols"
      ],
      "metadata": {
        "id": "IxYW5_0Bl5Zf"
      },
      "execution_count": 94,
      "outputs": []
    },
    {
      "cell_type": "code",
      "source": [
        "df_qpsk_no_outliers, drop_cols = remove_outliers(data_df, row_index=0, lower_qr=15, upper_qr=85)"
      ],
      "metadata": {
        "id": "L-mzUBGfng9W"
      },
      "execution_count": 95,
      "outputs": []
    },
    {
      "cell_type": "code",
      "source": [
        "df_qpsk_no_outliers.shape"
      ],
      "metadata": {
        "colab": {
          "base_uri": "https://localhost:8080/"
        },
        "id": "CXbAfXIwsPzm",
        "outputId": "276730f6-7f72-49c2-d960-f3617d2613c0"
      },
      "execution_count": 96,
      "outputs": [
        {
          "output_type": "execute_result",
          "data": {
            "text/plain": [
              "(1, 1286)"
            ]
          },
          "metadata": {},
          "execution_count": 96
        }
      ]
    },
    {
      "cell_type": "code",
      "source": [
        "df_qpsk_no_outliers.head()"
      ],
      "metadata": {
        "colab": {
          "base_uri": "https://localhost:8080/",
          "height": 110
        },
        "id": "dYdb6upNsTFI",
        "outputId": "c7a49052-22c6-43fd-846f-44e7019e2104"
      },
      "execution_count": 97,
      "outputs": [
        {
          "output_type": "execute_result",
          "data": {
            "text/plain": [
              "   sampleid  Channels  Distance_km  power_dBm  #node        -20  -19.96875  \\\n",
              "0         1         1            0         -2      1 -50.396272 -51.195507   \n",
              "\n",
              "    -19.9375  -19.90625   -19.875  ...   19.71875      19.75   19.78125  \\\n",
              "0 -52.325501 -57.685476 -51.73027  ... -50.701297 -50.425586 -57.242411   \n",
              "\n",
              "     19.8125  19.84375     19.875   19.90625    19.9375   19.96875         20  \n",
              "0 -54.978886 -58.98445 -52.289897 -50.007652 -56.562352 -50.661037 -57.857937  \n",
              "\n",
              "[1 rows x 1286 columns]"
            ],
            "text/html": [
              "\n",
              "  <div id=\"df-29c857f6-75d7-46c2-b003-e28e22b07fb2\">\n",
              "    <div class=\"colab-df-container\">\n",
              "      <div>\n",
              "<style scoped>\n",
              "    .dataframe tbody tr th:only-of-type {\n",
              "        vertical-align: middle;\n",
              "    }\n",
              "\n",
              "    .dataframe tbody tr th {\n",
              "        vertical-align: top;\n",
              "    }\n",
              "\n",
              "    .dataframe thead th {\n",
              "        text-align: right;\n",
              "    }\n",
              "</style>\n",
              "<table border=\"1\" class=\"dataframe\">\n",
              "  <thead>\n",
              "    <tr style=\"text-align: right;\">\n",
              "      <th></th>\n",
              "      <th>sampleid</th>\n",
              "      <th>Channels</th>\n",
              "      <th>Distance_km</th>\n",
              "      <th>power_dBm</th>\n",
              "      <th>#node</th>\n",
              "      <th>-20</th>\n",
              "      <th>-19.96875</th>\n",
              "      <th>-19.9375</th>\n",
              "      <th>-19.90625</th>\n",
              "      <th>-19.875</th>\n",
              "      <th>...</th>\n",
              "      <th>19.71875</th>\n",
              "      <th>19.75</th>\n",
              "      <th>19.78125</th>\n",
              "      <th>19.8125</th>\n",
              "      <th>19.84375</th>\n",
              "      <th>19.875</th>\n",
              "      <th>19.90625</th>\n",
              "      <th>19.9375</th>\n",
              "      <th>19.96875</th>\n",
              "      <th>20</th>\n",
              "    </tr>\n",
              "  </thead>\n",
              "  <tbody>\n",
              "    <tr>\n",
              "      <th>0</th>\n",
              "      <td>1</td>\n",
              "      <td>1</td>\n",
              "      <td>0</td>\n",
              "      <td>-2</td>\n",
              "      <td>1</td>\n",
              "      <td>-50.396272</td>\n",
              "      <td>-51.195507</td>\n",
              "      <td>-52.325501</td>\n",
              "      <td>-57.685476</td>\n",
              "      <td>-51.73027</td>\n",
              "      <td>...</td>\n",
              "      <td>-50.701297</td>\n",
              "      <td>-50.425586</td>\n",
              "      <td>-57.242411</td>\n",
              "      <td>-54.978886</td>\n",
              "      <td>-58.98445</td>\n",
              "      <td>-52.289897</td>\n",
              "      <td>-50.007652</td>\n",
              "      <td>-56.562352</td>\n",
              "      <td>-50.661037</td>\n",
              "      <td>-57.857937</td>\n",
              "    </tr>\n",
              "  </tbody>\n",
              "</table>\n",
              "<p>1 rows × 1286 columns</p>\n",
              "</div>\n",
              "      <button class=\"colab-df-convert\" onclick=\"convertToInteractive('df-29c857f6-75d7-46c2-b003-e28e22b07fb2')\"\n",
              "              title=\"Convert this dataframe to an interactive table.\"\n",
              "              style=\"display:none;\">\n",
              "        \n",
              "  <svg xmlns=\"http://www.w3.org/2000/svg\" height=\"24px\"viewBox=\"0 0 24 24\"\n",
              "       width=\"24px\">\n",
              "    <path d=\"M0 0h24v24H0V0z\" fill=\"none\"/>\n",
              "    <path d=\"M18.56 5.44l.94 2.06.94-2.06 2.06-.94-2.06-.94-.94-2.06-.94 2.06-2.06.94zm-11 1L8.5 8.5l.94-2.06 2.06-.94-2.06-.94L8.5 2.5l-.94 2.06-2.06.94zm10 10l.94 2.06.94-2.06 2.06-.94-2.06-.94-.94-2.06-.94 2.06-2.06.94z\"/><path d=\"M17.41 7.96l-1.37-1.37c-.4-.4-.92-.59-1.43-.59-.52 0-1.04.2-1.43.59L10.3 9.45l-7.72 7.72c-.78.78-.78 2.05 0 2.83L4 21.41c.39.39.9.59 1.41.59.51 0 1.02-.2 1.41-.59l7.78-7.78 2.81-2.81c.8-.78.8-2.07 0-2.86zM5.41 20L4 18.59l7.72-7.72 1.47 1.35L5.41 20z\"/>\n",
              "  </svg>\n",
              "      </button>\n",
              "      \n",
              "  <style>\n",
              "    .colab-df-container {\n",
              "      display:flex;\n",
              "      flex-wrap:wrap;\n",
              "      gap: 12px;\n",
              "    }\n",
              "\n",
              "    .colab-df-convert {\n",
              "      background-color: #E8F0FE;\n",
              "      border: none;\n",
              "      border-radius: 50%;\n",
              "      cursor: pointer;\n",
              "      display: none;\n",
              "      fill: #1967D2;\n",
              "      height: 32px;\n",
              "      padding: 0 0 0 0;\n",
              "      width: 32px;\n",
              "    }\n",
              "\n",
              "    .colab-df-convert:hover {\n",
              "      background-color: #E2EBFA;\n",
              "      box-shadow: 0px 1px 2px rgba(60, 64, 67, 0.3), 0px 1px 3px 1px rgba(60, 64, 67, 0.15);\n",
              "      fill: #174EA6;\n",
              "    }\n",
              "\n",
              "    [theme=dark] .colab-df-convert {\n",
              "      background-color: #3B4455;\n",
              "      fill: #D2E3FC;\n",
              "    }\n",
              "\n",
              "    [theme=dark] .colab-df-convert:hover {\n",
              "      background-color: #434B5C;\n",
              "      box-shadow: 0px 1px 3px 1px rgba(0, 0, 0, 0.15);\n",
              "      filter: drop-shadow(0px 1px 2px rgba(0, 0, 0, 0.3));\n",
              "      fill: #FFFFFF;\n",
              "    }\n",
              "  </style>\n",
              "\n",
              "      <script>\n",
              "        const buttonEl =\n",
              "          document.querySelector('#df-29c857f6-75d7-46c2-b003-e28e22b07fb2 button.colab-df-convert');\n",
              "        buttonEl.style.display =\n",
              "          google.colab.kernel.accessAllowed ? 'block' : 'none';\n",
              "\n",
              "        async function convertToInteractive(key) {\n",
              "          const element = document.querySelector('#df-29c857f6-75d7-46c2-b003-e28e22b07fb2');\n",
              "          const dataTable =\n",
              "            await google.colab.kernel.invokeFunction('convertToInteractive',\n",
              "                                                     [key], {});\n",
              "          if (!dataTable) return;\n",
              "\n",
              "          const docLinkHtml = 'Like what you see? Visit the ' +\n",
              "            '<a target=\"_blank\" href=https://colab.research.google.com/notebooks/data_table.ipynb>data table notebook</a>'\n",
              "            + ' to learn more about interactive tables.';\n",
              "          element.innerHTML = '';\n",
              "          dataTable['output_type'] = 'display_data';\n",
              "          await google.colab.output.renderOutput(dataTable, element);\n",
              "          const docLink = document.createElement('div');\n",
              "          docLink.innerHTML = docLinkHtml;\n",
              "          element.appendChild(docLink);\n",
              "        }\n",
              "      </script>\n",
              "    </div>\n",
              "  </div>\n",
              "  "
            ]
          },
          "metadata": {},
          "execution_count": 97
        }
      ]
    },
    {
      "cell_type": "markdown",
      "source": [
        "## Model match new sample df"
      ],
      "metadata": {
        "id": "yrCsMcec44Yr"
      }
    },
    {
      "cell_type": "code",
      "source": [
        "def model_match_sample(model_df, sample_drop_cols):\n",
        "\n",
        "  new_drop_cols = []\n",
        "  for col in sample_drop_cols:\n",
        "    new_drop_cols.append(int(col-4))\n",
        "\n",
        "  new_model_df = model_df.drop(model_df.columns[new_drop_cols], axis=1)\n",
        "  return new_model_df"
      ],
      "metadata": {
        "id": "Ah4GKXau5GOk"
      },
      "execution_count": 98,
      "outputs": []
    },
    {
      "cell_type": "code",
      "source": [
        "QPSK_dummy_df_no_outliers = model_match_sample(QPSK_dummy_df, drop_cols)"
      ],
      "metadata": {
        "id": "dClydLAu5Xrf"
      },
      "execution_count": 99,
      "outputs": []
    },
    {
      "cell_type": "code",
      "source": [
        "display(QPSK_dummy_df_no_outliers)"
      ],
      "metadata": {
        "colab": {
          "base_uri": "https://localhost:8080/",
          "height": 268
        },
        "id": "RFQZMWvT5qbY",
        "outputId": "959e6f70-5469-43ee-8aa4-fa12b2d50d92"
      },
      "execution_count": 100,
      "outputs": [
        {
          "output_type": "display_data",
          "data": {
            "text/plain": [
              "                 Distance_km        -20  -19.96875   -19.9375  -19.90625  \\\n",
              "#node power_dBm                                                            \n",
              "1     -2                 0.0 -52.955056 -54.126681 -52.713840 -54.542630   \n",
              "2     -2               100.0 -51.813386 -53.194155 -52.697528 -52.418356   \n",
              "3     -2               200.0 -55.626777 -54.634329 -54.702958 -56.522545   \n",
              "\n",
              "                   -19.875  -19.84375   -19.8125  -19.78125     -19.75  ...  \\\n",
              "#node power_dBm                                                         ...   \n",
              "1     -2        -53.699036 -52.716651 -54.298754 -52.256947 -56.682823  ...   \n",
              "2     -2        -52.486649 -50.289808 -54.422782 -54.110832 -55.149438  ...   \n",
              "3     -2        -50.522361 -51.649987 -51.647787 -57.084303 -53.951639  ...   \n",
              "\n",
              "                  19.71875      19.75   19.78125    19.8125   19.84375  \\\n",
              "#node power_dBm                                                          \n",
              "1     -2        -55.905776 -54.248709 -55.992318 -53.838975 -50.924380   \n",
              "2     -2        -53.005446 -55.507125 -54.494074 -50.651776 -54.789647   \n",
              "3     -2        -51.567208 -56.796925 -51.015703 -52.421725 -54.815529   \n",
              "\n",
              "                    19.875   19.90625    19.9375   19.96875         20  \n",
              "#node power_dBm                                                         \n",
              "1     -2        -53.185248 -53.206559 -54.780695 -52.482275 -53.598605  \n",
              "2     -2        -53.624259 -51.423731 -55.126913 -57.266619 -51.729962  \n",
              "3     -2        -51.357553 -51.877358 -57.233009 -56.753557 -53.614796  \n",
              "\n",
              "[3 rows x 1282 columns]"
            ],
            "text/html": [
              "\n",
              "  <div id=\"df-ebaec4ba-ec40-4489-963e-980817cf5df1\">\n",
              "    <div class=\"colab-df-container\">\n",
              "      <div>\n",
              "<style scoped>\n",
              "    .dataframe tbody tr th:only-of-type {\n",
              "        vertical-align: middle;\n",
              "    }\n",
              "\n",
              "    .dataframe tbody tr th {\n",
              "        vertical-align: top;\n",
              "    }\n",
              "\n",
              "    .dataframe thead th {\n",
              "        text-align: right;\n",
              "    }\n",
              "</style>\n",
              "<table border=\"1\" class=\"dataframe\">\n",
              "  <thead>\n",
              "    <tr style=\"text-align: right;\">\n",
              "      <th></th>\n",
              "      <th></th>\n",
              "      <th>Distance_km</th>\n",
              "      <th>-20</th>\n",
              "      <th>-19.96875</th>\n",
              "      <th>-19.9375</th>\n",
              "      <th>-19.90625</th>\n",
              "      <th>-19.875</th>\n",
              "      <th>-19.84375</th>\n",
              "      <th>-19.8125</th>\n",
              "      <th>-19.78125</th>\n",
              "      <th>-19.75</th>\n",
              "      <th>...</th>\n",
              "      <th>19.71875</th>\n",
              "      <th>19.75</th>\n",
              "      <th>19.78125</th>\n",
              "      <th>19.8125</th>\n",
              "      <th>19.84375</th>\n",
              "      <th>19.875</th>\n",
              "      <th>19.90625</th>\n",
              "      <th>19.9375</th>\n",
              "      <th>19.96875</th>\n",
              "      <th>20</th>\n",
              "    </tr>\n",
              "    <tr>\n",
              "      <th>#node</th>\n",
              "      <th>power_dBm</th>\n",
              "      <th></th>\n",
              "      <th></th>\n",
              "      <th></th>\n",
              "      <th></th>\n",
              "      <th></th>\n",
              "      <th></th>\n",
              "      <th></th>\n",
              "      <th></th>\n",
              "      <th></th>\n",
              "      <th></th>\n",
              "      <th></th>\n",
              "      <th></th>\n",
              "      <th></th>\n",
              "      <th></th>\n",
              "      <th></th>\n",
              "      <th></th>\n",
              "      <th></th>\n",
              "      <th></th>\n",
              "      <th></th>\n",
              "      <th></th>\n",
              "      <th></th>\n",
              "    </tr>\n",
              "  </thead>\n",
              "  <tbody>\n",
              "    <tr>\n",
              "      <th>1</th>\n",
              "      <th>-2</th>\n",
              "      <td>0.0</td>\n",
              "      <td>-52.955056</td>\n",
              "      <td>-54.126681</td>\n",
              "      <td>-52.713840</td>\n",
              "      <td>-54.542630</td>\n",
              "      <td>-53.699036</td>\n",
              "      <td>-52.716651</td>\n",
              "      <td>-54.298754</td>\n",
              "      <td>-52.256947</td>\n",
              "      <td>-56.682823</td>\n",
              "      <td>...</td>\n",
              "      <td>-55.905776</td>\n",
              "      <td>-54.248709</td>\n",
              "      <td>-55.992318</td>\n",
              "      <td>-53.838975</td>\n",
              "      <td>-50.924380</td>\n",
              "      <td>-53.185248</td>\n",
              "      <td>-53.206559</td>\n",
              "      <td>-54.780695</td>\n",
              "      <td>-52.482275</td>\n",
              "      <td>-53.598605</td>\n",
              "    </tr>\n",
              "    <tr>\n",
              "      <th>2</th>\n",
              "      <th>-2</th>\n",
              "      <td>100.0</td>\n",
              "      <td>-51.813386</td>\n",
              "      <td>-53.194155</td>\n",
              "      <td>-52.697528</td>\n",
              "      <td>-52.418356</td>\n",
              "      <td>-52.486649</td>\n",
              "      <td>-50.289808</td>\n",
              "      <td>-54.422782</td>\n",
              "      <td>-54.110832</td>\n",
              "      <td>-55.149438</td>\n",
              "      <td>...</td>\n",
              "      <td>-53.005446</td>\n",
              "      <td>-55.507125</td>\n",
              "      <td>-54.494074</td>\n",
              "      <td>-50.651776</td>\n",
              "      <td>-54.789647</td>\n",
              "      <td>-53.624259</td>\n",
              "      <td>-51.423731</td>\n",
              "      <td>-55.126913</td>\n",
              "      <td>-57.266619</td>\n",
              "      <td>-51.729962</td>\n",
              "    </tr>\n",
              "    <tr>\n",
              "      <th>3</th>\n",
              "      <th>-2</th>\n",
              "      <td>200.0</td>\n",
              "      <td>-55.626777</td>\n",
              "      <td>-54.634329</td>\n",
              "      <td>-54.702958</td>\n",
              "      <td>-56.522545</td>\n",
              "      <td>-50.522361</td>\n",
              "      <td>-51.649987</td>\n",
              "      <td>-51.647787</td>\n",
              "      <td>-57.084303</td>\n",
              "      <td>-53.951639</td>\n",
              "      <td>...</td>\n",
              "      <td>-51.567208</td>\n",
              "      <td>-56.796925</td>\n",
              "      <td>-51.015703</td>\n",
              "      <td>-52.421725</td>\n",
              "      <td>-54.815529</td>\n",
              "      <td>-51.357553</td>\n",
              "      <td>-51.877358</td>\n",
              "      <td>-57.233009</td>\n",
              "      <td>-56.753557</td>\n",
              "      <td>-53.614796</td>\n",
              "    </tr>\n",
              "  </tbody>\n",
              "</table>\n",
              "<p>3 rows × 1282 columns</p>\n",
              "</div>\n",
              "      <button class=\"colab-df-convert\" onclick=\"convertToInteractive('df-ebaec4ba-ec40-4489-963e-980817cf5df1')\"\n",
              "              title=\"Convert this dataframe to an interactive table.\"\n",
              "              style=\"display:none;\">\n",
              "        \n",
              "  <svg xmlns=\"http://www.w3.org/2000/svg\" height=\"24px\"viewBox=\"0 0 24 24\"\n",
              "       width=\"24px\">\n",
              "    <path d=\"M0 0h24v24H0V0z\" fill=\"none\"/>\n",
              "    <path d=\"M18.56 5.44l.94 2.06.94-2.06 2.06-.94-2.06-.94-.94-2.06-.94 2.06-2.06.94zm-11 1L8.5 8.5l.94-2.06 2.06-.94-2.06-.94L8.5 2.5l-.94 2.06-2.06.94zm10 10l.94 2.06.94-2.06 2.06-.94-2.06-.94-.94-2.06-.94 2.06-2.06.94z\"/><path d=\"M17.41 7.96l-1.37-1.37c-.4-.4-.92-.59-1.43-.59-.52 0-1.04.2-1.43.59L10.3 9.45l-7.72 7.72c-.78.78-.78 2.05 0 2.83L4 21.41c.39.39.9.59 1.41.59.51 0 1.02-.2 1.41-.59l7.78-7.78 2.81-2.81c.8-.78.8-2.07 0-2.86zM5.41 20L4 18.59l7.72-7.72 1.47 1.35L5.41 20z\"/>\n",
              "  </svg>\n",
              "      </button>\n",
              "      \n",
              "  <style>\n",
              "    .colab-df-container {\n",
              "      display:flex;\n",
              "      flex-wrap:wrap;\n",
              "      gap: 12px;\n",
              "    }\n",
              "\n",
              "    .colab-df-convert {\n",
              "      background-color: #E8F0FE;\n",
              "      border: none;\n",
              "      border-radius: 50%;\n",
              "      cursor: pointer;\n",
              "      display: none;\n",
              "      fill: #1967D2;\n",
              "      height: 32px;\n",
              "      padding: 0 0 0 0;\n",
              "      width: 32px;\n",
              "    }\n",
              "\n",
              "    .colab-df-convert:hover {\n",
              "      background-color: #E2EBFA;\n",
              "      box-shadow: 0px 1px 2px rgba(60, 64, 67, 0.3), 0px 1px 3px 1px rgba(60, 64, 67, 0.15);\n",
              "      fill: #174EA6;\n",
              "    }\n",
              "\n",
              "    [theme=dark] .colab-df-convert {\n",
              "      background-color: #3B4455;\n",
              "      fill: #D2E3FC;\n",
              "    }\n",
              "\n",
              "    [theme=dark] .colab-df-convert:hover {\n",
              "      background-color: #434B5C;\n",
              "      box-shadow: 0px 1px 3px 1px rgba(0, 0, 0, 0.15);\n",
              "      filter: drop-shadow(0px 1px 2px rgba(0, 0, 0, 0.3));\n",
              "      fill: #FFFFFF;\n",
              "    }\n",
              "  </style>\n",
              "\n",
              "      <script>\n",
              "        const buttonEl =\n",
              "          document.querySelector('#df-ebaec4ba-ec40-4489-963e-980817cf5df1 button.colab-df-convert');\n",
              "        buttonEl.style.display =\n",
              "          google.colab.kernel.accessAllowed ? 'block' : 'none';\n",
              "\n",
              "        async function convertToInteractive(key) {\n",
              "          const element = document.querySelector('#df-ebaec4ba-ec40-4489-963e-980817cf5df1');\n",
              "          const dataTable =\n",
              "            await google.colab.kernel.invokeFunction('convertToInteractive',\n",
              "                                                     [key], {});\n",
              "          if (!dataTable) return;\n",
              "\n",
              "          const docLinkHtml = 'Like what you see? Visit the ' +\n",
              "            '<a target=\"_blank\" href=https://colab.research.google.com/notebooks/data_table.ipynb>data table notebook</a>'\n",
              "            + ' to learn more about interactive tables.';\n",
              "          element.innerHTML = '';\n",
              "          dataTable['output_type'] = 'display_data';\n",
              "          await google.colab.output.renderOutput(dataTable, element);\n",
              "          const docLink = document.createElement('div');\n",
              "          docLink.innerHTML = docLinkHtml;\n",
              "          element.appendChild(docLink);\n",
              "        }\n",
              "      </script>\n",
              "    </div>\n",
              "  </div>\n",
              "  "
            ]
          },
          "metadata": {}
        }
      ]
    },
    {
      "cell_type": "code",
      "source": [
        "def match_model_with_sample(model_df):\n",
        "  model_df.insert(loc = 0, column = 'sampleid', value = 1)\n",
        "  model_df.insert(loc = 1, column = 'Channels', value = 1)\n",
        "  model_df.insert(loc = 3, column = 'power_dBm', value = 0)\n",
        "  model_df.insert(loc = 4, column = '#node', value = 0)  \n",
        "  \n",
        "  row = 0\n",
        "  for idx in model_df.index:\n",
        "    model_df.iloc[row, [3]] = idx[1]\n",
        "    model_df.iloc[row, [4]] = idx[0]\n",
        "    row += 1\n",
        "\n",
        "  return model_df"
      ],
      "metadata": {
        "id": "FDPX8NNK_RxW"
      },
      "execution_count": 101,
      "outputs": []
    },
    {
      "cell_type": "code",
      "source": [
        "match_QPSK_dummy_df_no_outliers = match_model_with_sample(QPSK_dummy_df_no_outliers)"
      ],
      "metadata": {
        "id": "qeib_ORCACZQ"
      },
      "execution_count": 102,
      "outputs": []
    },
    {
      "cell_type": "code",
      "source": [
        "display(match_QPSK_dummy_df_no_outliers)"
      ],
      "metadata": {
        "colab": {
          "base_uri": "https://localhost:8080/",
          "height": 268
        },
        "id": "bdq26qOlCJCz",
        "outputId": "4204878e-d549-4734-97bb-d69895e360c1"
      },
      "execution_count": 103,
      "outputs": [
        {
          "output_type": "display_data",
          "data": {
            "text/plain": [
              "                 sampleid  Channels  Distance_km  power_dBm  #node        -20  \\\n",
              "#node power_dBm                                                                 \n",
              "1     -2                1         1          0.0         -2      1 -52.955056   \n",
              "2     -2                1         1        100.0         -2      2 -51.813386   \n",
              "3     -2                1         1        200.0         -2      3 -55.626777   \n",
              "\n",
              "                 -19.96875   -19.9375  -19.90625    -19.875  ...   19.71875  \\\n",
              "#node power_dBm                                              ...              \n",
              "1     -2        -54.126681 -52.713840 -54.542630 -53.699036  ... -55.905776   \n",
              "2     -2        -53.194155 -52.697528 -52.418356 -52.486649  ... -53.005446   \n",
              "3     -2        -54.634329 -54.702958 -56.522545 -50.522361  ... -51.567208   \n",
              "\n",
              "                     19.75   19.78125    19.8125   19.84375     19.875  \\\n",
              "#node power_dBm                                                          \n",
              "1     -2        -54.248709 -55.992318 -53.838975 -50.924380 -53.185248   \n",
              "2     -2        -55.507125 -54.494074 -50.651776 -54.789647 -53.624259   \n",
              "3     -2        -56.796925 -51.015703 -52.421725 -54.815529 -51.357553   \n",
              "\n",
              "                  19.90625    19.9375   19.96875         20  \n",
              "#node power_dBm                                              \n",
              "1     -2        -53.206559 -54.780695 -52.482275 -53.598605  \n",
              "2     -2        -51.423731 -55.126913 -57.266619 -51.729962  \n",
              "3     -2        -51.877358 -57.233009 -56.753557 -53.614796  \n",
              "\n",
              "[3 rows x 1286 columns]"
            ],
            "text/html": [
              "\n",
              "  <div id=\"df-cc440271-6283-4ec9-a0d9-eca4bc250f12\">\n",
              "    <div class=\"colab-df-container\">\n",
              "      <div>\n",
              "<style scoped>\n",
              "    .dataframe tbody tr th:only-of-type {\n",
              "        vertical-align: middle;\n",
              "    }\n",
              "\n",
              "    .dataframe tbody tr th {\n",
              "        vertical-align: top;\n",
              "    }\n",
              "\n",
              "    .dataframe thead th {\n",
              "        text-align: right;\n",
              "    }\n",
              "</style>\n",
              "<table border=\"1\" class=\"dataframe\">\n",
              "  <thead>\n",
              "    <tr style=\"text-align: right;\">\n",
              "      <th></th>\n",
              "      <th></th>\n",
              "      <th>sampleid</th>\n",
              "      <th>Channels</th>\n",
              "      <th>Distance_km</th>\n",
              "      <th>power_dBm</th>\n",
              "      <th>#node</th>\n",
              "      <th>-20</th>\n",
              "      <th>-19.96875</th>\n",
              "      <th>-19.9375</th>\n",
              "      <th>-19.90625</th>\n",
              "      <th>-19.875</th>\n",
              "      <th>...</th>\n",
              "      <th>19.71875</th>\n",
              "      <th>19.75</th>\n",
              "      <th>19.78125</th>\n",
              "      <th>19.8125</th>\n",
              "      <th>19.84375</th>\n",
              "      <th>19.875</th>\n",
              "      <th>19.90625</th>\n",
              "      <th>19.9375</th>\n",
              "      <th>19.96875</th>\n",
              "      <th>20</th>\n",
              "    </tr>\n",
              "    <tr>\n",
              "      <th>#node</th>\n",
              "      <th>power_dBm</th>\n",
              "      <th></th>\n",
              "      <th></th>\n",
              "      <th></th>\n",
              "      <th></th>\n",
              "      <th></th>\n",
              "      <th></th>\n",
              "      <th></th>\n",
              "      <th></th>\n",
              "      <th></th>\n",
              "      <th></th>\n",
              "      <th></th>\n",
              "      <th></th>\n",
              "      <th></th>\n",
              "      <th></th>\n",
              "      <th></th>\n",
              "      <th></th>\n",
              "      <th></th>\n",
              "      <th></th>\n",
              "      <th></th>\n",
              "      <th></th>\n",
              "      <th></th>\n",
              "    </tr>\n",
              "  </thead>\n",
              "  <tbody>\n",
              "    <tr>\n",
              "      <th>1</th>\n",
              "      <th>-2</th>\n",
              "      <td>1</td>\n",
              "      <td>1</td>\n",
              "      <td>0.0</td>\n",
              "      <td>-2</td>\n",
              "      <td>1</td>\n",
              "      <td>-52.955056</td>\n",
              "      <td>-54.126681</td>\n",
              "      <td>-52.713840</td>\n",
              "      <td>-54.542630</td>\n",
              "      <td>-53.699036</td>\n",
              "      <td>...</td>\n",
              "      <td>-55.905776</td>\n",
              "      <td>-54.248709</td>\n",
              "      <td>-55.992318</td>\n",
              "      <td>-53.838975</td>\n",
              "      <td>-50.924380</td>\n",
              "      <td>-53.185248</td>\n",
              "      <td>-53.206559</td>\n",
              "      <td>-54.780695</td>\n",
              "      <td>-52.482275</td>\n",
              "      <td>-53.598605</td>\n",
              "    </tr>\n",
              "    <tr>\n",
              "      <th>2</th>\n",
              "      <th>-2</th>\n",
              "      <td>1</td>\n",
              "      <td>1</td>\n",
              "      <td>100.0</td>\n",
              "      <td>-2</td>\n",
              "      <td>2</td>\n",
              "      <td>-51.813386</td>\n",
              "      <td>-53.194155</td>\n",
              "      <td>-52.697528</td>\n",
              "      <td>-52.418356</td>\n",
              "      <td>-52.486649</td>\n",
              "      <td>...</td>\n",
              "      <td>-53.005446</td>\n",
              "      <td>-55.507125</td>\n",
              "      <td>-54.494074</td>\n",
              "      <td>-50.651776</td>\n",
              "      <td>-54.789647</td>\n",
              "      <td>-53.624259</td>\n",
              "      <td>-51.423731</td>\n",
              "      <td>-55.126913</td>\n",
              "      <td>-57.266619</td>\n",
              "      <td>-51.729962</td>\n",
              "    </tr>\n",
              "    <tr>\n",
              "      <th>3</th>\n",
              "      <th>-2</th>\n",
              "      <td>1</td>\n",
              "      <td>1</td>\n",
              "      <td>200.0</td>\n",
              "      <td>-2</td>\n",
              "      <td>3</td>\n",
              "      <td>-55.626777</td>\n",
              "      <td>-54.634329</td>\n",
              "      <td>-54.702958</td>\n",
              "      <td>-56.522545</td>\n",
              "      <td>-50.522361</td>\n",
              "      <td>...</td>\n",
              "      <td>-51.567208</td>\n",
              "      <td>-56.796925</td>\n",
              "      <td>-51.015703</td>\n",
              "      <td>-52.421725</td>\n",
              "      <td>-54.815529</td>\n",
              "      <td>-51.357553</td>\n",
              "      <td>-51.877358</td>\n",
              "      <td>-57.233009</td>\n",
              "      <td>-56.753557</td>\n",
              "      <td>-53.614796</td>\n",
              "    </tr>\n",
              "  </tbody>\n",
              "</table>\n",
              "<p>3 rows × 1286 columns</p>\n",
              "</div>\n",
              "      <button class=\"colab-df-convert\" onclick=\"convertToInteractive('df-cc440271-6283-4ec9-a0d9-eca4bc250f12')\"\n",
              "              title=\"Convert this dataframe to an interactive table.\"\n",
              "              style=\"display:none;\">\n",
              "        \n",
              "  <svg xmlns=\"http://www.w3.org/2000/svg\" height=\"24px\"viewBox=\"0 0 24 24\"\n",
              "       width=\"24px\">\n",
              "    <path d=\"M0 0h24v24H0V0z\" fill=\"none\"/>\n",
              "    <path d=\"M18.56 5.44l.94 2.06.94-2.06 2.06-.94-2.06-.94-.94-2.06-.94 2.06-2.06.94zm-11 1L8.5 8.5l.94-2.06 2.06-.94-2.06-.94L8.5 2.5l-.94 2.06-2.06.94zm10 10l.94 2.06.94-2.06 2.06-.94-2.06-.94-.94-2.06-.94 2.06-2.06.94z\"/><path d=\"M17.41 7.96l-1.37-1.37c-.4-.4-.92-.59-1.43-.59-.52 0-1.04.2-1.43.59L10.3 9.45l-7.72 7.72c-.78.78-.78 2.05 0 2.83L4 21.41c.39.39.9.59 1.41.59.51 0 1.02-.2 1.41-.59l7.78-7.78 2.81-2.81c.8-.78.8-2.07 0-2.86zM5.41 20L4 18.59l7.72-7.72 1.47 1.35L5.41 20z\"/>\n",
              "  </svg>\n",
              "      </button>\n",
              "      \n",
              "  <style>\n",
              "    .colab-df-container {\n",
              "      display:flex;\n",
              "      flex-wrap:wrap;\n",
              "      gap: 12px;\n",
              "    }\n",
              "\n",
              "    .colab-df-convert {\n",
              "      background-color: #E8F0FE;\n",
              "      border: none;\n",
              "      border-radius: 50%;\n",
              "      cursor: pointer;\n",
              "      display: none;\n",
              "      fill: #1967D2;\n",
              "      height: 32px;\n",
              "      padding: 0 0 0 0;\n",
              "      width: 32px;\n",
              "    }\n",
              "\n",
              "    .colab-df-convert:hover {\n",
              "      background-color: #E2EBFA;\n",
              "      box-shadow: 0px 1px 2px rgba(60, 64, 67, 0.3), 0px 1px 3px 1px rgba(60, 64, 67, 0.15);\n",
              "      fill: #174EA6;\n",
              "    }\n",
              "\n",
              "    [theme=dark] .colab-df-convert {\n",
              "      background-color: #3B4455;\n",
              "      fill: #D2E3FC;\n",
              "    }\n",
              "\n",
              "    [theme=dark] .colab-df-convert:hover {\n",
              "      background-color: #434B5C;\n",
              "      box-shadow: 0px 1px 3px 1px rgba(0, 0, 0, 0.15);\n",
              "      filter: drop-shadow(0px 1px 2px rgba(0, 0, 0, 0.3));\n",
              "      fill: #FFFFFF;\n",
              "    }\n",
              "  </style>\n",
              "\n",
              "      <script>\n",
              "        const buttonEl =\n",
              "          document.querySelector('#df-cc440271-6283-4ec9-a0d9-eca4bc250f12 button.colab-df-convert');\n",
              "        buttonEl.style.display =\n",
              "          google.colab.kernel.accessAllowed ? 'block' : 'none';\n",
              "\n",
              "        async function convertToInteractive(key) {\n",
              "          const element = document.querySelector('#df-cc440271-6283-4ec9-a0d9-eca4bc250f12');\n",
              "          const dataTable =\n",
              "            await google.colab.kernel.invokeFunction('convertToInteractive',\n",
              "                                                     [key], {});\n",
              "          if (!dataTable) return;\n",
              "\n",
              "          const docLinkHtml = 'Like what you see? Visit the ' +\n",
              "            '<a target=\"_blank\" href=https://colab.research.google.com/notebooks/data_table.ipynb>data table notebook</a>'\n",
              "            + ' to learn more about interactive tables.';\n",
              "          element.innerHTML = '';\n",
              "          dataTable['output_type'] = 'display_data';\n",
              "          await google.colab.output.renderOutput(dataTable, element);\n",
              "          const docLink = document.createElement('div');\n",
              "          docLink.innerHTML = docLinkHtml;\n",
              "          element.appendChild(docLink);\n",
              "        }\n",
              "      </script>\n",
              "    </div>\n",
              "  </div>\n",
              "  "
            ]
          },
          "metadata": {}
        }
      ]
    },
    {
      "cell_type": "code",
      "source": [
        "print(data_df.shape)\n",
        "print(df_qpsk_no_outliers.shape)\n",
        "print(QPSK_dummy_df.shape)\n",
        "print(QPSK_dummy_df_no_outliers.shape)\n",
        "print(match_QPSK_dummy_df_no_outliers.shape)"
      ],
      "metadata": {
        "colab": {
          "base_uri": "https://localhost:8080/"
        },
        "id": "2zDAnZjz-7l9",
        "outputId": "ce5f9da2-5b91-45f4-d399-378b41ba157e"
      },
      "execution_count": 104,
      "outputs": [
        {
          "output_type": "stream",
          "name": "stdout",
          "text": [
            "(10, 1286)\n",
            "(1, 1286)\n",
            "(3, 1282)\n",
            "(3, 1286)\n",
            "(3, 1286)\n"
          ]
        }
      ]
    },
    {
      "cell_type": "markdown",
      "source": [
        "# Separate tails"
      ],
      "metadata": {
        "id": "Wg4qVzcUumhZ"
      }
    },
    {
      "cell_type": "code",
      "source": [
        "def tails_generator(row_df):\n",
        "  total_columns = row_df.shape[1]-5\n",
        "  mid_point = int(total_columns/2)\n",
        "\n",
        "  new_sample = row_df.iloc[:, 0:5]\n",
        "  mid_point = mid_point+5\n",
        "\n",
        "  left_tail = row_df.iloc[:, 5:mid_point]\n",
        "  rigth_tail = row_df.iloc[:, mid_point+1:row_df.shape[1]]\n",
        "\n",
        "  return left_tail, rigth_tail\n"
      ],
      "metadata": {
        "id": "K6tsLJFEuqry"
      },
      "execution_count": 105,
      "outputs": []
    },
    {
      "cell_type": "code",
      "source": [
        "sample_left_tail, sample_rigth_tail = tails_generator(df_qpsk_no_outliers)\n",
        "model_left_tail, model_rigth_tail = tails_generator(match_QPSK_dummy_df_no_outliers)"
      ],
      "metadata": {
        "id": "NSOWrT6M3ncN"
      },
      "execution_count": 106,
      "outputs": []
    },
    {
      "cell_type": "code",
      "source": [
        "print(sample_left_tail.shape)\n",
        "print(sample_rigth_tail.shape)\n",
        "\n",
        "print(model_left_tail.shape)\n",
        "print(model_rigth_tail.shape)"
      ],
      "metadata": {
        "colab": {
          "base_uri": "https://localhost:8080/"
        },
        "id": "YI3Hay2_4SS8",
        "outputId": "6feae461-5486-4181-b087-f1999934d839"
      },
      "execution_count": 107,
      "outputs": [
        {
          "output_type": "stream",
          "name": "stdout",
          "text": [
            "(1, 640)\n",
            "(1, 640)\n",
            "(3, 640)\n",
            "(3, 640)\n"
          ]
        }
      ]
    },
    {
      "cell_type": "code",
      "source": [
        "display(model_left_tail)"
      ],
      "metadata": {
        "colab": {
          "base_uri": "https://localhost:8080/",
          "height": 268
        },
        "id": "D9mZuOugVN-t",
        "outputId": "93772511-61bc-4ccf-d2b3-8715297471fc"
      },
      "execution_count": 108,
      "outputs": [
        {
          "output_type": "display_data",
          "data": {
            "text/plain": [
              "                 -20.00000  -19.96875  -19.93750  -19.90625  -19.87500  \\\n",
              "#node power_dBm                                                          \n",
              "1     -2        -52.955056 -54.126681 -52.713840 -54.542630 -53.699036   \n",
              "2     -2        -51.813386 -53.194155 -52.697528 -52.418356 -52.486649   \n",
              "3     -2        -55.626777 -54.634329 -54.702958 -56.522545 -50.522361   \n",
              "\n",
              "                 -19.84375  -19.81250  -19.78125  -19.75000  -19.71875  ...  \\\n",
              "#node power_dBm                                                         ...   \n",
              "1     -2        -52.716651 -54.298754 -52.256947 -56.682823 -52.906297  ...   \n",
              "2     -2        -50.289808 -54.422782 -54.110832 -55.149438 -55.181164  ...   \n",
              "3     -2        -51.649987 -51.647787 -57.084303 -53.951639 -53.765878  ...   \n",
              "\n",
              "                 -0.31250   -0.28125   -0.25000   -0.21875   -0.18750   \\\n",
              "#node power_dBm                                                          \n",
              "1     -2        -10.335407 -10.446735 -12.961742  -9.150952  -9.183307   \n",
              "2     -2        -10.412752 -10.487917 -12.996865  -9.209824  -9.176572   \n",
              "3     -2        -10.493401 -10.694883 -13.179642  -9.274942  -9.270857   \n",
              "\n",
              "                 -0.15625   -0.12500   -0.09375   -0.06250   -0.03125   \n",
              "#node power_dBm                                                         \n",
              "1     -2        -11.044555 -13.704031 -11.839053 -13.695669 -12.419929  \n",
              "2     -2        -10.935723 -13.603429 -11.823596 -13.763764 -12.475263  \n",
              "3     -2        -10.880847 -13.668511 -11.835387 -13.589056 -12.448698  \n",
              "\n",
              "[3 rows x 640 columns]"
            ],
            "text/html": [
              "\n",
              "  <div id=\"df-bc8abf2b-1a1a-43da-93cf-782874a7bdc2\">\n",
              "    <div class=\"colab-df-container\">\n",
              "      <div>\n",
              "<style scoped>\n",
              "    .dataframe tbody tr th:only-of-type {\n",
              "        vertical-align: middle;\n",
              "    }\n",
              "\n",
              "    .dataframe tbody tr th {\n",
              "        vertical-align: top;\n",
              "    }\n",
              "\n",
              "    .dataframe thead th {\n",
              "        text-align: right;\n",
              "    }\n",
              "</style>\n",
              "<table border=\"1\" class=\"dataframe\">\n",
              "  <thead>\n",
              "    <tr style=\"text-align: right;\">\n",
              "      <th></th>\n",
              "      <th></th>\n",
              "      <th>-20.00000</th>\n",
              "      <th>-19.96875</th>\n",
              "      <th>-19.93750</th>\n",
              "      <th>-19.90625</th>\n",
              "      <th>-19.87500</th>\n",
              "      <th>-19.84375</th>\n",
              "      <th>-19.81250</th>\n",
              "      <th>-19.78125</th>\n",
              "      <th>-19.75000</th>\n",
              "      <th>-19.71875</th>\n",
              "      <th>...</th>\n",
              "      <th>-0.31250</th>\n",
              "      <th>-0.28125</th>\n",
              "      <th>-0.25000</th>\n",
              "      <th>-0.21875</th>\n",
              "      <th>-0.18750</th>\n",
              "      <th>-0.15625</th>\n",
              "      <th>-0.12500</th>\n",
              "      <th>-0.09375</th>\n",
              "      <th>-0.06250</th>\n",
              "      <th>-0.03125</th>\n",
              "    </tr>\n",
              "    <tr>\n",
              "      <th>#node</th>\n",
              "      <th>power_dBm</th>\n",
              "      <th></th>\n",
              "      <th></th>\n",
              "      <th></th>\n",
              "      <th></th>\n",
              "      <th></th>\n",
              "      <th></th>\n",
              "      <th></th>\n",
              "      <th></th>\n",
              "      <th></th>\n",
              "      <th></th>\n",
              "      <th></th>\n",
              "      <th></th>\n",
              "      <th></th>\n",
              "      <th></th>\n",
              "      <th></th>\n",
              "      <th></th>\n",
              "      <th></th>\n",
              "      <th></th>\n",
              "      <th></th>\n",
              "      <th></th>\n",
              "      <th></th>\n",
              "    </tr>\n",
              "  </thead>\n",
              "  <tbody>\n",
              "    <tr>\n",
              "      <th>1</th>\n",
              "      <th>-2</th>\n",
              "      <td>-52.955056</td>\n",
              "      <td>-54.126681</td>\n",
              "      <td>-52.713840</td>\n",
              "      <td>-54.542630</td>\n",
              "      <td>-53.699036</td>\n",
              "      <td>-52.716651</td>\n",
              "      <td>-54.298754</td>\n",
              "      <td>-52.256947</td>\n",
              "      <td>-56.682823</td>\n",
              "      <td>-52.906297</td>\n",
              "      <td>...</td>\n",
              "      <td>-10.335407</td>\n",
              "      <td>-10.446735</td>\n",
              "      <td>-12.961742</td>\n",
              "      <td>-9.150952</td>\n",
              "      <td>-9.183307</td>\n",
              "      <td>-11.044555</td>\n",
              "      <td>-13.704031</td>\n",
              "      <td>-11.839053</td>\n",
              "      <td>-13.695669</td>\n",
              "      <td>-12.419929</td>\n",
              "    </tr>\n",
              "    <tr>\n",
              "      <th>2</th>\n",
              "      <th>-2</th>\n",
              "      <td>-51.813386</td>\n",
              "      <td>-53.194155</td>\n",
              "      <td>-52.697528</td>\n",
              "      <td>-52.418356</td>\n",
              "      <td>-52.486649</td>\n",
              "      <td>-50.289808</td>\n",
              "      <td>-54.422782</td>\n",
              "      <td>-54.110832</td>\n",
              "      <td>-55.149438</td>\n",
              "      <td>-55.181164</td>\n",
              "      <td>...</td>\n",
              "      <td>-10.412752</td>\n",
              "      <td>-10.487917</td>\n",
              "      <td>-12.996865</td>\n",
              "      <td>-9.209824</td>\n",
              "      <td>-9.176572</td>\n",
              "      <td>-10.935723</td>\n",
              "      <td>-13.603429</td>\n",
              "      <td>-11.823596</td>\n",
              "      <td>-13.763764</td>\n",
              "      <td>-12.475263</td>\n",
              "    </tr>\n",
              "    <tr>\n",
              "      <th>3</th>\n",
              "      <th>-2</th>\n",
              "      <td>-55.626777</td>\n",
              "      <td>-54.634329</td>\n",
              "      <td>-54.702958</td>\n",
              "      <td>-56.522545</td>\n",
              "      <td>-50.522361</td>\n",
              "      <td>-51.649987</td>\n",
              "      <td>-51.647787</td>\n",
              "      <td>-57.084303</td>\n",
              "      <td>-53.951639</td>\n",
              "      <td>-53.765878</td>\n",
              "      <td>...</td>\n",
              "      <td>-10.493401</td>\n",
              "      <td>-10.694883</td>\n",
              "      <td>-13.179642</td>\n",
              "      <td>-9.274942</td>\n",
              "      <td>-9.270857</td>\n",
              "      <td>-10.880847</td>\n",
              "      <td>-13.668511</td>\n",
              "      <td>-11.835387</td>\n",
              "      <td>-13.589056</td>\n",
              "      <td>-12.448698</td>\n",
              "    </tr>\n",
              "  </tbody>\n",
              "</table>\n",
              "<p>3 rows × 640 columns</p>\n",
              "</div>\n",
              "      <button class=\"colab-df-convert\" onclick=\"convertToInteractive('df-bc8abf2b-1a1a-43da-93cf-782874a7bdc2')\"\n",
              "              title=\"Convert this dataframe to an interactive table.\"\n",
              "              style=\"display:none;\">\n",
              "        \n",
              "  <svg xmlns=\"http://www.w3.org/2000/svg\" height=\"24px\"viewBox=\"0 0 24 24\"\n",
              "       width=\"24px\">\n",
              "    <path d=\"M0 0h24v24H0V0z\" fill=\"none\"/>\n",
              "    <path d=\"M18.56 5.44l.94 2.06.94-2.06 2.06-.94-2.06-.94-.94-2.06-.94 2.06-2.06.94zm-11 1L8.5 8.5l.94-2.06 2.06-.94-2.06-.94L8.5 2.5l-.94 2.06-2.06.94zm10 10l.94 2.06.94-2.06 2.06-.94-2.06-.94-.94-2.06-.94 2.06-2.06.94z\"/><path d=\"M17.41 7.96l-1.37-1.37c-.4-.4-.92-.59-1.43-.59-.52 0-1.04.2-1.43.59L10.3 9.45l-7.72 7.72c-.78.78-.78 2.05 0 2.83L4 21.41c.39.39.9.59 1.41.59.51 0 1.02-.2 1.41-.59l7.78-7.78 2.81-2.81c.8-.78.8-2.07 0-2.86zM5.41 20L4 18.59l7.72-7.72 1.47 1.35L5.41 20z\"/>\n",
              "  </svg>\n",
              "      </button>\n",
              "      \n",
              "  <style>\n",
              "    .colab-df-container {\n",
              "      display:flex;\n",
              "      flex-wrap:wrap;\n",
              "      gap: 12px;\n",
              "    }\n",
              "\n",
              "    .colab-df-convert {\n",
              "      background-color: #E8F0FE;\n",
              "      border: none;\n",
              "      border-radius: 50%;\n",
              "      cursor: pointer;\n",
              "      display: none;\n",
              "      fill: #1967D2;\n",
              "      height: 32px;\n",
              "      padding: 0 0 0 0;\n",
              "      width: 32px;\n",
              "    }\n",
              "\n",
              "    .colab-df-convert:hover {\n",
              "      background-color: #E2EBFA;\n",
              "      box-shadow: 0px 1px 2px rgba(60, 64, 67, 0.3), 0px 1px 3px 1px rgba(60, 64, 67, 0.15);\n",
              "      fill: #174EA6;\n",
              "    }\n",
              "\n",
              "    [theme=dark] .colab-df-convert {\n",
              "      background-color: #3B4455;\n",
              "      fill: #D2E3FC;\n",
              "    }\n",
              "\n",
              "    [theme=dark] .colab-df-convert:hover {\n",
              "      background-color: #434B5C;\n",
              "      box-shadow: 0px 1px 3px 1px rgba(0, 0, 0, 0.15);\n",
              "      filter: drop-shadow(0px 1px 2px rgba(0, 0, 0, 0.3));\n",
              "      fill: #FFFFFF;\n",
              "    }\n",
              "  </style>\n",
              "\n",
              "      <script>\n",
              "        const buttonEl =\n",
              "          document.querySelector('#df-bc8abf2b-1a1a-43da-93cf-782874a7bdc2 button.colab-df-convert');\n",
              "        buttonEl.style.display =\n",
              "          google.colab.kernel.accessAllowed ? 'block' : 'none';\n",
              "\n",
              "        async function convertToInteractive(key) {\n",
              "          const element = document.querySelector('#df-bc8abf2b-1a1a-43da-93cf-782874a7bdc2');\n",
              "          const dataTable =\n",
              "            await google.colab.kernel.invokeFunction('convertToInteractive',\n",
              "                                                     [key], {});\n",
              "          if (!dataTable) return;\n",
              "\n",
              "          const docLinkHtml = 'Like what you see? Visit the ' +\n",
              "            '<a target=\"_blank\" href=https://colab.research.google.com/notebooks/data_table.ipynb>data table notebook</a>'\n",
              "            + ' to learn more about interactive tables.';\n",
              "          element.innerHTML = '';\n",
              "          dataTable['output_type'] = 'display_data';\n",
              "          await google.colab.output.renderOutput(dataTable, element);\n",
              "          const docLink = document.createElement('div');\n",
              "          docLink.innerHTML = docLinkHtml;\n",
              "          element.appendChild(docLink);\n",
              "        }\n",
              "      </script>\n",
              "    </div>\n",
              "  </div>\n",
              "  "
            ]
          },
          "metadata": {}
        }
      ]
    },
    {
      "cell_type": "markdown",
      "source": [
        "# Linear Regresion (Calculate R^2)"
      ],
      "metadata": {
        "id": "J7xbDCnnuenV"
      }
    },
    {
      "cell_type": "code",
      "source": [
        "def linear_regression(sample_tail, model_tail, model_eval_node):\n",
        "  \n",
        "  model_eval_node = model_eval_node-1\n",
        "  model_tail = model_tail.iloc[model_eval_node].to_numpy()\n",
        "\n",
        "  y = np.array(model_tail)\n",
        "\n",
        "  sample_tail = sample_tail.iloc[[0]].to_numpy()\n",
        "  x = np.array(sample_tail).reshape((-1, 1))\n",
        "\n",
        "  # Get linear regresion features\n",
        "  model = LinearRegression()\n",
        "  model.fit(x, y)\n",
        "  model = LinearRegression().fit(x, y)\n",
        "  r_sqr = model.score(x, y)\n",
        "\n",
        "  return r_sqr\n",
        "\n",
        "# intercept = model.intercept_\n",
        "# slope = model.coef_"
      ],
      "metadata": {
        "id": "sdHx0xXsTfdH"
      },
      "execution_count": 148,
      "outputs": []
    },
    {
      "cell_type": "code",
      "source": [
        "left_r_sqr = linear_regression(sample_left_tail, model_left_tail, model_eval_node = 1)"
      ],
      "metadata": {
        "colab": {
          "base_uri": "https://localhost:8080/"
        },
        "id": "jQlMKVblUx_8",
        "outputId": "7cc638c2-f859-4d85-f5d6-16d60b63d6d5"
      },
      "execution_count": 116,
      "outputs": [
        {
          "output_type": "execute_result",
          "data": {
            "text/plain": [
              "0.8855086781629747"
            ]
          },
          "metadata": {},
          "execution_count": 116
        }
      ]
    },
    {
      "cell_type": "code",
      "source": [
        "rigth_r_sqr = linear_regression(sample_rigth_tail, model_rigth_tail, model_eval_node = 1)"
      ],
      "metadata": {
        "colab": {
          "base_uri": "https://localhost:8080/"
        },
        "id": "372mc9MvXFr_",
        "outputId": "fcb9974c-e43f-46cb-ec56-95e053e3853a"
      },
      "execution_count": 117,
      "outputs": [
        {
          "output_type": "execute_result",
          "data": {
            "text/plain": [
              "0.8953391127879287"
            ]
          },
          "metadata": {},
          "execution_count": 117
        }
      ]
    },
    {
      "cell_type": "markdown",
      "source": [
        "# Confusion Matrix"
      ],
      "metadata": {
        "id": "mX0WwC3rYNZb"
      }
    },
    {
      "cell_type": "code",
      "source": [
        "def confusion_matrix(y_actual, y_pred, filepath_to_save):\n",
        "  # Setting the figure size\n",
        "  fig = plt.figure(figsize=(7,5))\n",
        "\n",
        "  data = {'y_Actual':    y_actual,\n",
        "          'y_Predicted': y_pred}\n",
        "\n",
        "  df = pd.DataFrame(data, columns=['y_Actual','y_Predicted'])\n",
        "  confusion_matrix = pd.crosstab(df['y_Actual'], df['y_Predicted'], rownames=['Actual'], colnames=['Predicted'])\n",
        "\n",
        "  sn.heatmap(confusion_matrix, annot=True, cbar=False, cmap='Blues')\n",
        "\n",
        "  # Give a title to the graph\n",
        "  plt.title('Confusion Matrix Nodes Samples') \n",
        "\n",
        "  #Saving the plot as an image\n",
        "  fig.savefig(filepath_to_save, bbox_inches='tight', dpi=150)\n",
        "  plt.show()"
      ],
      "metadata": {
        "id": "lM_hpsG9YP3S"
      },
      "execution_count": 249,
      "outputs": []
    },
    {
      "cell_type": "markdown",
      "source": [
        "# Classifier"
      ],
      "metadata": {
        "id": "MwnNX2Y8Yj8P"
      }
    },
    {
      "cell_type": "code",
      "source": [
        "def classifier(eval_df, model_df, filepath_confusion_m, aggregate = False, aggregate_min_prime = False, lower_qr  = 15, upper_qr = 85):\n",
        " \n",
        "  y_actual = np.array([])\n",
        "  y_predit = np.array([])\n",
        "\n",
        "  # obtain the distances available in eval_df\n",
        "  distances = []\n",
        "  for distance_val in eval_df['Distance_km'].unique():\n",
        "    distances.append(distance_val)\n",
        "\n",
        "  # Select model data that only contain the distances available in the sample file\n",
        "  model_df = model_df.loc[model_df['Distance_km'].isin(distances)]\n",
        "  \n",
        "  # Loop each power available\n",
        "  for power_row in eval_df['power_dBm'].unique():\n",
        "    print('--- Evaluating Power {} ---'.format(power_row))\n",
        "    # ---------------- This should be modified once we have the real model dataset ----------------\n",
        "    model_dummy_df, model_dummy_dict = get_dummy_spectrum(model_df, power = power_row)\n",
        "\n",
        "    # Conduct aggregation if requested\n",
        "    if aggregate == True:\n",
        "      eval_df, eval_agg_dict = aggreagator(eval_df, stop_gap=100, total_num_of_data=(eval_df.shape[1]-5), min_prime = aggregate_min_prime)\n",
        "      model_dummy_df, model_agg_dict = aggreagator(model_dummy_df, stop_gap=100, total_num_of_data=(model_dummy_df.shape[1]-5), min_prime = aggregate_min_prime)\n",
        "\n",
        "    # Loop each distance available\n",
        "    for node_row in eval_df['#node'].unique():\n",
        "      data_df, data_dict = get_data_spectrum(eval_df, node = node_row, power = power_row)\n",
        "\n",
        "      #Actual values\n",
        "      y_actual_node = data_df['#node'].to_numpy()\n",
        "\n",
        "      # Loop each sample row\n",
        "      for row in range(data_df.shape[0]):\n",
        "        # Remove outliers from sample data\n",
        "        df_data_no_outliers, drop_cols = remove_outliers(data_df, row_index = row, lower_qr = lower_qr, upper_qr = upper_qr)\n",
        "\n",
        "        # Match model data with new sample data after outliers removed\n",
        "        model_dummy_df_no_outliers = model_match_sample(model_dummy_df, drop_cols)\n",
        "        match_model_dummy_df_no_outliers = match_model_with_sample(model_dummy_df_no_outliers)\n",
        "\n",
        "        # Obtain tails of sample and model data\n",
        "        sample_left_tail, sample_rigth_tail = tails_generator(df_data_no_outliers)\n",
        "        model_left_tail, model_rigth_tail = tails_generator(match_model_dummy_df_no_outliers)\n",
        "\n",
        "        r_sqr_storage = []\n",
        "        # Loop through each model node available\n",
        "        for model_row in range(match_model_dummy_df_no_outliers.shape[0]):\n",
        "          \n",
        "          # Calculate R_sqr between sample and model\n",
        "          left_r_sqr = linear_regression(sample_left_tail, model_left_tail, model_eval_node = (model_row+1))\n",
        "          rigth_r_sqr = linear_regression(sample_rigth_tail, model_rigth_tail, model_eval_node = (model_row+1))\n",
        "          mean_r_sqr  = (left_r_sqr+rigth_r_sqr)/2\n",
        "          r_sqr_storage.append(mean_r_sqr)\n",
        "        \n",
        "        # Select the highest r_sqr position (Predicted Node)\n",
        "        maxval = np.amax(r_sqr_storage)\n",
        "        indice = np.where(r_sqr_storage == np.amax(r_sqr_storage))\n",
        "        pos_max = indice[0][0]+1    \n",
        "\n",
        "        #y_predit.append(pos_max)\n",
        "        y_predit = np.append(y_predit, pos_max)\n",
        "      y_actual = np.concatenate((y_actual, y_actual_node), axis=0)\n",
        "    \n",
        "    y_predit = y_predit.astype(int)\n",
        "    y_actual = y_actual.astype(int)\n",
        "\n",
        "    filepath_confusion_m = filepath_confusion_m +'Power_'+ str(power_row) +'.jpg'\n",
        "    # Confusion matrix\n",
        "    confusion_matrix(y_actual, y_predit, filepath_confusion_m)\n",
        "\n",
        "  return y_actual, y_predit"
      ],
      "metadata": {
        "id": "P7m1VfD_Yocj"
      },
      "execution_count": 288,
      "outputs": []
    },
    {
      "cell_type": "code",
      "source": [
        "save_confusion_filepath = path + '/plots/spectrum/10hops100km_confusion_matrix'\n",
        "y_actual, y_predit = classifier(df_qpsk, df_qpsk, filepath_confusion_m = save_confusion_filepath, aggregate = False, aggregate_min_prime = False, lower_qr  = 15, upper_qr = 85)"
      ],
      "metadata": {
        "colab": {
          "base_uri": "https://localhost:8080/",
          "height": 1000
        },
        "id": "shwMCWS5dF25",
        "outputId": "fe93c0a6-7891-4e94-8566-82d27e4cfac0"
      },
      "execution_count": 289,
      "outputs": [
        {
          "output_type": "stream",
          "name": "stdout",
          "text": [
            "--- Evaluating Power -2 ---\n"
          ]
        },
        {
          "output_type": "display_data",
          "data": {
            "text/plain": [
              "<Figure size 504x360 with 1 Axes>"
            ],
            "image/png": "[encoded data removed]"
          },
          "metadata": {
            "needs_background": "light"
          }
        },
        {
          "output_type": "stream",
          "name": "stdout",
          "text": [
            "--- Evaluating Power -1 ---\n"
          ]
        },
        {
          "output_type": "display_data",
          "data": {
            "text/plain": [
              "<Figure size 504x360 with 1 Axes>"
            ],
            "image/png": "[encoded data removed]"
          },
          "metadata": {
            "needs_background": "light"
          }
        },
        {
          "output_type": "stream",
          "name": "stdout",
          "text": [
            "--- Evaluating Power 0 ---\n"
          ]
        },
        {
          "output_type": "display_data",
          "data": {
            "text/plain": [
              "<Figure size 504x360 with 1 Axes>"
            ],
            "image/png": "[encoded data removed]"
          },
          "metadata": {
            "needs_background": "light"
          }
        }
      ]
    },
    {
      "cell_type": "code",
      "source": [
        "print(len(y_actual))\n",
        "print(y_actual)\n",
        "\n",
        "print(len(y_predit))\n",
        "print(y_predit)\n",
        "\n",
        "print('F1 score {}'.format(f1_score(y_actual, y_predit, average='weighted')))"
      ],
      "metadata": {
        "colab": {
          "base_uri": "https://localhost:8080/"
        },
        "id": "LUVSfNFokRPf",
        "outputId": "2f5688cf-108d-4a05-98ac-71d63f561deb"
      },
      "execution_count": 292,
      "outputs": [
        {
          "output_type": "stream",
          "name": "stdout",
          "text": [
            "150\n",
            "[1 1 1 1 1 1 1 1 1 1 2 2 2 2 2 2 2 2 2 2 3 3 3 3 3 3 3 3 3 3 4 4 4 4 4 4 4\n",
            " 4 4 4 5 5 5 5 5 5 5 5 5 5 1 1 1 1 1 1 1 1 1 1 2 2 2 2 2 2 2 2 2 2 3 3 3 3\n",
            " 3 3 3 3 3 3 4 4 4 4 4 4 4 4 4 4 5 5 5 5 5 5 5 5 5 5 1 1 1 1 1 1 1 1 1 1 2\n",
            " 2 2 2 2 2 2 2 2 2 3 3 3 3 3 3 3 3 3 3 4 4 4 4 4 4 4 4 4 4 5 5 5 5 5 5 5 5\n",
            " 5 5]\n",
            "150\n",
            "[1 5 2 1 3 1 4 1 3 5 5 1 4 5 1 5 4 3 5 1 5 1 4 1 3 5 3 3 5 1 5 1 4 5 5 5 4\n",
            " 3 3 1 5 1 4 5 3 5 5 3 4 1 2 5 1 2 2 2 5 3 3 3 2 4 4 5 3 5 5 4 2 4 1 4 4 5\n",
            " 3 1 1 4 2 2 1 1 4 5 3 3 2 2 2 1 1 1 4 5 3 5 2 2 2 2 1 1 2 4 1 5 2 4 1 5 1\n",
            " 2 2 2 2 3 5 5 3 4 1 2 2 2 2 3 5 1 3 4 1 2 5 2 5 3 5 1 2 4 1 2 5 2 2 3 1 1\n",
            " 5 4]\n",
            "F1 score 0.2172122649785462\n"
          ]
        }
      ]
    },
    {
      "cell_type": "markdown",
      "source": [
        "# Test additional scenarios"
      ],
      "metadata": {
        "id": "GgE39kTE3DH_"
      }
    },
    {
      "cell_type": "code",
      "source": [
        "qpsk_data_path=path+\"/Spectrum/QPSK\"\n",
        "\n",
        "qam_data_path=path+\"/Spectrum/16QAM\"\n",
        "\n",
        "# Test files\n",
        "\n",
        "# QPSK files\n",
        "files_to_evaluate_qpsk = []\n",
        "for subdir, dirs, files in os.walk(qpsk_data_path):\n",
        "    for file in files:\n",
        "        if \"dataSet_Spectrum_Samples_QPSK_37GHz_LongHaul_output_\" in file:\n",
        "          files_to_evaluate_qpsk.append(os.path.join(subdir, file))\n",
        "\n",
        "# QAM files\n",
        "files_to_evaluate_qam = []\n",
        "for subdir, dirs, files in os.walk(qam_data_path):\n",
        "    for file in files:\n",
        "        if \"dataSet_Spectrum_Samples_16QAM_75GHz_LongHaul_output_\" in file:\n",
        "          files_to_evaluate_qam.append(os.path.join(subdir, file))\n",
        "\n",
        "# Model files\n",
        "qpsk_model = qpsk_data_path + '/A.10hops100km/dataSet_Spectrum_Samples_QPSK_37GHz_LongHaul_output_10x100.xlsx'\n",
        "qam_model = qam_data_path + '/A.10hops100km/dataSet_Spectrum_Samples_16QAM_75GHz_LongHaul_output_10x100.xlsx'"
      ],
      "metadata": {
        "id": "9u6Uj48E6ZNr"
      },
      "execution_count": 280,
      "outputs": []
    },
    {
      "cell_type": "code",
      "source": [
        "# Model df\n",
        "df_model = pd.read_excel(qpsk_model, sheet_name = \"Sheet1\", skiprows=1)\n",
        "for file_x in files_to_evaluate_qpsk:\n",
        "  print('--- Evaluating {} ---'.format(file_x[file_x.find('dataSet') : file_x.find('.xlsx')]))\n",
        "  \n",
        "  # Confusion Matrix filepath\n",
        "  confusion_m_filename = (file_x[file_x.find('Samples') : file_x.find('.xlsx')])+'_Confusion_Matrix.jpg'\n",
        "  save_confusion_filepath = path + '/plots/spectrum/'+confusion_m_filename\n",
        "  # Samples df\n",
        "  # Skipping first row since only contain \"Frequency\" headers\n",
        "  df_qpsk = pd.read_excel(file_x, sheet_name = \"Sheet1\", skiprows=1)\n",
        "  \n",
        "  # Run classifier\n",
        "  y_actual, y_predit = classifier(df_qpsk, df_model, filepath_confusion_m = save_confusion_filepath, aggregate = False, aggregate_min_prime = False, lower_qr  = 15, upper_qr = 85)\n",
        "  print('F1 score {}'.format(f1_score(y_actual, y_predit, average='weighted')))\n",
        "  break"
      ],
      "metadata": {
        "colab": {
          "base_uri": "https://localhost:8080/",
          "height": 1000
        },
        "id": "TNwR2MwY3HSX",
        "outputId": "822e186d-2e20-40b0-b94c-00cf21b81de2"
      },
      "execution_count": 293,
      "outputs": [
        {
          "output_type": "stream",
          "name": "stdout",
          "text": [
            "--- Evaluating dataSet_Spectrum_Samples_QPSK_37GHz_LongHaul_output_4x250 ---\n",
            "--- Evaluating Power -2 ---\n"
          ]
        },
        {
          "output_type": "display_data",
          "data": {
            "text/plain": [
              "<Figure size 504x360 with 1 Axes>"
            ],
            "image/png": "[encoded data removed]"
          },
          "metadata": {
            "needs_background": "light"
          }
        },
        {
          "output_type": "stream",
          "name": "stdout",
          "text": [
            "--- Evaluating Power -1 ---\n"
          ]
        },
        {
          "output_type": "display_data",
          "data": {
            "text/plain": [
              "<Figure size 504x360 with 1 Axes>"
            ],
            "image/png": "[encoded data removed]"
          },
          "metadata": {
            "needs_background": "light"
          }
        },
        {
          "output_type": "stream",
          "name": "stdout",
          "text": [
            "--- Evaluating Power 0 ---\n"
          ]
        },
        {
          "output_type": "display_data",
          "data": {
            "text/plain": [
              "<Figure size 504x360 with 1 Axes>"
            ],
            "image/png": "[encoded data removed]"
          },
          "metadata": {
            "needs_background": "light"
          }
        },
        {
          "output_type": "stream",
          "name": "stdout",
          "text": [
            "F1 score 0.11473028648078952\n"
          ]
        }
      ]
    }
  ]
}