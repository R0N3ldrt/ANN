{
  "nbformat": 4,
  "nbformat_minor": 0,
  "metadata": {
    "colab": {
      "name": "Untitled4.ipynb",
      "provenance": [],
      "authorship_tag": "ABX9TyP9a83wHym4gjNEAvhRBJuK",
      "include_colab_link": true
    },
    "kernelspec": {
      "name": "python3",
      "display_name": "Python 3"
    },
    "language_info": {
      "name": "python"
    }
  },
  "cells": [
    {
      "cell_type": "markdown",
      "metadata": {
        "id": "view-in-github",
        "colab_type": "text"
      },
      "source": [
        "<a href=\"https://colab.research.google.com/github/R0N3ldrt/Thesis/blob/main/Symbol_to_Symbol-1_2.ipynb\" target=\"_parent\"><img src=\"https://colab.research.google.com/assets/colab-badge.svg\" alt=\"Open In Colab\"/></a>"
      ]
    },
    {
      "cell_type": "markdown",
      "source": [
        "# Symbol-to_Symbol Attack"
      ],
      "metadata": {
        "id": "5DHOkVKJcpRg"
      }
    },
    {
      "cell_type": "markdown",
      "source": [
        "# Loading Drive and folders"
      ],
      "metadata": {
        "id": "jdouNqrRcxsT"
      }
    },
    {
      "cell_type": "code",
      "execution_count": 1,
      "metadata": {
        "colab": {
          "base_uri": "https://localhost:8080/"
        },
        "id": "W3PKUBorcmzu",
        "outputId": "7c910aa3-7ec0-4099-d3a7-986f1b21e2ee"
      },
      "outputs": [
        {
          "output_type": "stream",
          "name": "stdout",
          "text": [
            "Mounted at /content/gdrive\n"
          ]
        }
      ],
      "source": [
        "# BLOQUE PARA USAR DESDE COLAB\n",
        "\n",
        "# Google drive loading as work station for local-usage of the files.\n",
        "from google.colab import drive\n",
        "drive.mount('/content/gdrive',force_remount= True)\n",
        "\n",
        "#-----------------------------------------------------------------------------"
      ]
    },
    {
      "cell_type": "code",
      "source": [
        "# Lista para cambiar los paths rapido.\n",
        "workers = [\"Ronald\", \"Local\"]\n",
        "\n",
        "# Cambiar el numero aqui para cambiar los paths.\n",
        "worker = workers[0]\n",
        "\n",
        "if worker == \"Ronald\":\n",
        "  path= \"/content/gdrive/MyDrive/Thesis_Workstation/ANN_dataset\"\n",
        "else: path = os.getcwd()"
      ],
      "metadata": {
        "id": "24eFk1m1con6"
      },
      "execution_count": 2,
      "outputs": []
    },
    {
      "cell_type": "markdown",
      "source": [
        "## Loading Necesary Libraries"
      ],
      "metadata": {
        "id": "r-MsZTyAc4KL"
      }
    },
    {
      "cell_type": "code",
      "source": [
        "# Importing necesary libraries\n",
        "# Libraries for correct code execution \n",
        "\n",
        "import os, time\n",
        "import pandas as pd\n",
        "import numpy as np\n",
        "import matplotlib.pyplot as plt\n",
        "import math\n",
        "import pickle\n",
        "import random\n",
        "import csv\n",
        "import pdb\n",
        "from tqdm import tqdm\n",
        "\n",
        "from sklearn.model_selection import train_test_split\n",
        "from sklearn.preprocessing import MinMaxScaler\n",
        "from plotly.subplots import make_subplots\n",
        "\n",
        "import plotly.graph_objects as go\n",
        "import plotly.express as px\n",
        "from plotly.subplots import make_subplots\n",
        "\n",
        "from keras.models import Sequential\n",
        "from keras.layers import Dense,Conv2D, Flatten\n",
        "from keras.wrappers.scikit_learn import KerasRegressor\n",
        "from keras.callbacks import EarlyStopping\n",
        "\n",
        "from sklearn.mixture import GaussianMixture\n",
        "\n",
        "import warnings\n",
        "warnings.filterwarnings(\"ignore\")"
      ],
      "metadata": {
        "id": "g96FIp6Lc5MM"
      },
      "execution_count": 42,
      "outputs": []
    },
    {
      "cell_type": "markdown",
      "source": [
        "# Generate Train/Test data"
      ],
      "metadata": {
        "id": "zUlyFUMEdLdh"
      }
    },
    {
      "cell_type": "code",
      "source": [
        "input_data_path=path+\"/rawData\"\n",
        "\n",
        "distances=[i for i in range(1,26)]\n",
        "nsamples=50\n",
        "span_length=80\n",
        "nsymbols=2048\n",
        "\n",
        "######\n",
        "min_dist=0\n",
        "max_dist=3000\n",
        "selCP=[1,7,10,15]\n",
        "selCP_pos=[(-3,3),(1,1),(-1,-1),(1,-3)]\n",
        "my_centers=[[-3,3],[-1,3],[1,3],[3,3],[-3,1],[-1,1],[1,1],[3,1],[-3,-1],[-1,-1],[1,-1],[3,-1], [-3,-3],[-1,-3],[1,-3],[3,-3]]\n",
        "######"
      ],
      "metadata": {
        "id": "bCkGqVsudPAj"
      },
      "execution_count": 4,
      "outputs": []
    },
    {
      "cell_type": "code",
      "source": [
        "def create_df(input_data_path, distances, nsymbols = 2048, min_dist = 0, max_dist = 3000):\n",
        "  X=None\n",
        "  Y=[]\n",
        "  colnames=['i'+str(i) for i in range(nsymbols)]\n",
        "\n",
        "  for d in distances:\n",
        "    dist=d*span_length\n",
        "    if dist<min_dist or dist>max_dist: continue\n",
        "    filename='consts_'+str(d)+'span.csv'\n",
        "    df_aux=pd.read_csv(input_data_path+'/'+filename, sep=\",\", header=None)\n",
        "    df_aux = df_aux.T\n",
        "    df_aux.columns=colnames\n",
        "    Y=Y+[dist]*df_aux.shape[0]\n",
        "    if X is None: X=df_aux\n",
        "    else: X=X.append(df_aux)\n",
        "  return X, Y"
      ],
      "metadata": {
        "id": "Ob3N2yoWdRMK"
      },
      "execution_count": 32,
      "outputs": []
    },
    {
      "cell_type": "code",
      "source": [
        "def strToTuple(s):\n",
        "    s_aux=s.split(\"i\")\n",
        "    pdb.set_trace()\n",
        "    s=s_aux[0]+\"j\"\n",
        "    return complex(s)"
      ],
      "metadata": {
        "id": "ez6fFASYMHqS"
      },
      "execution_count": 43,
      "outputs": []
    },
    {
      "cell_type": "code",
      "source": [
        "def test_train_indexes_v1():\n",
        "  train_idxs = []\n",
        "  test_idxs = []\n",
        "  for i in range(25):\n",
        "      for j in range(25):\n",
        "          train_idxs.append(50*i + j)\n",
        "          test_idxs.append(50*(i+1)-1-j)\n",
        "  return train_idxs, test_idxs"
      ],
      "metadata": {
        "id": "3stgNC0RdV0y"
      },
      "execution_count": 7,
      "outputs": []
    },
    {
      "cell_type": "code",
      "source": [
        "def test_train_indexes_v2():\n",
        "  train_idxs2 = []\n",
        "  test_idxs2 = []\n",
        "  for i in range(25):\n",
        "      for j in range(25):\n",
        "          test_idxs2.append(50*(i+1)-1-j)\n",
        "\n",
        "  for i in range(25):\n",
        "    for j in range(2):\n",
        "      train_idxs2.append(50*i + j)\n",
        "  return train_idxs2, test_idxs2"
      ],
      "metadata": {
        "id": "Pade_gfQdYQu"
      },
      "execution_count": 8,
      "outputs": []
    },
    {
      "cell_type": "code",
      "source": [
        "# Obtain df for each distance (X) and  distance*nsymbols (Y)\n",
        "X, Y = create_df(input_data_path, distances, nsymbols = 2048, min_dist = 0, max_dist = 3000)\n",
        "display(X.head(3))"
      ],
      "metadata": {
        "id": "9A4DSaynda_r",
        "outputId": "7f3f2275-678a-4d53-ef57-87bad44b7791",
        "colab": {
          "base_uri": "https://localhost:8080/",
          "height": 289
        }
      },
      "execution_count": 45,
      "outputs": [
        {
          "output_type": "display_data",
          "data": {
            "text/plain": [
              "                                    i0                                   i1  \\\n",
              "0   -3.10250329028221+2.8974718146089i  -3.08519822419515+2.98467451952321i   \n",
              "1  -3.10761405468766+2.88209954082628i  -3.19533036484843+2.95874362980383i   \n",
              "2  -3.10204351668572+2.99671795878579i  -3.08856407109433+2.93202343862027i   \n",
              "\n",
              "                                    i2                                  i3  \\\n",
              "0  -3.16258763128303+2.97984558299648i  1.07879018281473-3.04241675538607i   \n",
              "1  -3.13829764175686+3.00503493552857i  1.06861837615755-2.95339956113059i   \n",
              "2  -3.04491881048755+2.88692497524318i  1.08823852361823-2.98750440367609i   \n",
              "\n",
              "                                   i4                                   i5  \\\n",
              "0  2.98754253262033+2.93928002541509i  -3.03753489675786-1.14448375850226i   \n",
              "1  2.92921214422155+2.96188227504628i  -2.91432065303941-1.10419537488136i   \n",
              "2   2.90697736188281+2.9758528690822i  -2.98145498382088-1.09421494578974i   \n",
              "\n",
              "                                   i6                                    i7  \\\n",
              "0   3.0846017582402-2.83983223649996i   1.03529270059005+0.941187406261411i   \n",
              "1  3.01596531358918-2.87975183044387i  0.998438005339709+0.992890825590263i   \n",
              "2  3.08771003588438-2.94117387758681i  0.963331576488618+0.964855740477135i   \n",
              "\n",
              "                                     i8                                   i9  \\\n",
              "0  -2.97497486604545-0.968041780938377i  -3.06094215344788-3.06159685614163i   \n",
              "1   -2.95611581894786-1.05543701378473i   -3.0188708530257-3.07654225575726i   \n",
              "2     -2.9106651176393-1.1014404929423i  -3.03198279219029-2.95534753456136i   \n",
              "\n",
              "   ...                                i2038  \\\n",
              "0  ...   1.00407667015021-1.05795855117373i   \n",
              "1  ...  1.09142929797919-0.974361196653361i   \n",
              "2  ...  0.907715239688597-1.02421970454919i   \n",
              "\n",
              "                                 i2039                                 i2040  \\\n",
              "0  2.99512658085838-0.926750667283466i    1.06411092896718+1.02555956962374i   \n",
              "1    2.99292189696462-1.0161587115351i  0.985156816075877+0.990883548468719i   \n",
              "2   3.03546187492943-1.02360256422108i  0.893086213567738+0.966805075574357i   \n",
              "\n",
              "                                 i2041                               i2042  \\\n",
              "0  3.07437379185889-0.843429644287376i    2.896799443885+3.10310875655109i   \n",
              "1  2.95772171640577-0.935638392241526i  2.91617636179577+3.07206541691927i   \n",
              "2  2.97386120778332-0.964294737203794i  2.88599504091299+3.11886939737541i   \n",
              "\n",
              "                                 i2043                                i2044  \\\n",
              "0  -2.92935048828414-3.04043355319345i  0.979544147075317+3.05647856728028i   \n",
              "1  -2.93455002864304-2.99302248049629i  0.895363650001881+3.00377462740049i   \n",
              "2  -2.90221562333671-3.07045202327123i  0.950041740922162+2.99164321430862i   \n",
              "\n",
              "                                  i2045                                i2046  \\\n",
              "0   -1.00023102535927-3.01730414192666i  -3.10702415011799+2.90781364843713i   \n",
              "1  -0.863137448065807-2.94913856469913i    -3.027753438257+3.10582714051129i   \n",
              "2  -0.923820303162464-3.01903477870031i   -3.11729966991965+2.9837680721312i   \n",
              "\n",
              "                                i2047  \n",
              "0  2.96764341678099+3.06083203420016i  \n",
              "1  3.01387909455478+3.17361460219782i  \n",
              "2  2.91193728337384+3.03679452628824i  \n",
              "\n",
              "[3 rows x 2048 columns]"
            ],
            "text/html": [
              "\n",
              "  <div id=\"df-576f32a6-993a-4c72-9daa-5132526d8ca0\">\n",
              "    <div class=\"colab-df-container\">\n",
              "      <div>\n",
              "<style scoped>\n",
              "    .dataframe tbody tr th:only-of-type {\n",
              "        vertical-align: middle;\n",
              "    }\n",
              "\n",
              "    .dataframe tbody tr th {\n",
              "        vertical-align: top;\n",
              "    }\n",
              "\n",
              "    .dataframe thead th {\n",
              "        text-align: right;\n",
              "    }\n",
              "</style>\n",
              "<table border=\"1\" class=\"dataframe\">\n",
              "  <thead>\n",
              "    <tr style=\"text-align: right;\">\n",
              "      <th></th>\n",
              "      <th>i0</th>\n",
              "      <th>i1</th>\n",
              "      <th>i2</th>\n",
              "      <th>i3</th>\n",
              "      <th>i4</th>\n",
              "      <th>i5</th>\n",
              "      <th>i6</th>\n",
              "      <th>i7</th>\n",
              "      <th>i8</th>\n",
              "      <th>i9</th>\n",
              "      <th>...</th>\n",
              "      <th>i2038</th>\n",
              "      <th>i2039</th>\n",
              "      <th>i2040</th>\n",
              "      <th>i2041</th>\n",
              "      <th>i2042</th>\n",
              "      <th>i2043</th>\n",
              "      <th>i2044</th>\n",
              "      <th>i2045</th>\n",
              "      <th>i2046</th>\n",
              "      <th>i2047</th>\n",
              "    </tr>\n",
              "  </thead>\n",
              "  <tbody>\n",
              "    <tr>\n",
              "      <th>0</th>\n",
              "      <td>-3.10250329028221+2.8974718146089i</td>\n",
              "      <td>-3.08519822419515+2.98467451952321i</td>\n",
              "      <td>-3.16258763128303+2.97984558299648i</td>\n",
              "      <td>1.07879018281473-3.04241675538607i</td>\n",
              "      <td>2.98754253262033+2.93928002541509i</td>\n",
              "      <td>-3.03753489675786-1.14448375850226i</td>\n",
              "      <td>3.0846017582402-2.83983223649996i</td>\n",
              "      <td>1.03529270059005+0.941187406261411i</td>\n",
              "      <td>-2.97497486604545-0.968041780938377i</td>\n",
              "      <td>-3.06094215344788-3.06159685614163i</td>\n",
              "      <td>...</td>\n",
              "      <td>1.00407667015021-1.05795855117373i</td>\n",
              "      <td>2.99512658085838-0.926750667283466i</td>\n",
              "      <td>1.06411092896718+1.02555956962374i</td>\n",
              "      <td>3.07437379185889-0.843429644287376i</td>\n",
              "      <td>2.896799443885+3.10310875655109i</td>\n",
              "      <td>-2.92935048828414-3.04043355319345i</td>\n",
              "      <td>0.979544147075317+3.05647856728028i</td>\n",
              "      <td>-1.00023102535927-3.01730414192666i</td>\n",
              "      <td>-3.10702415011799+2.90781364843713i</td>\n",
              "      <td>2.96764341678099+3.06083203420016i</td>\n",
              "    </tr>\n",
              "    <tr>\n",
              "      <th>1</th>\n",
              "      <td>-3.10761405468766+2.88209954082628i</td>\n",
              "      <td>-3.19533036484843+2.95874362980383i</td>\n",
              "      <td>-3.13829764175686+3.00503493552857i</td>\n",
              "      <td>1.06861837615755-2.95339956113059i</td>\n",
              "      <td>2.92921214422155+2.96188227504628i</td>\n",
              "      <td>-2.91432065303941-1.10419537488136i</td>\n",
              "      <td>3.01596531358918-2.87975183044387i</td>\n",
              "      <td>0.998438005339709+0.992890825590263i</td>\n",
              "      <td>-2.95611581894786-1.05543701378473i</td>\n",
              "      <td>-3.0188708530257-3.07654225575726i</td>\n",
              "      <td>...</td>\n",
              "      <td>1.09142929797919-0.974361196653361i</td>\n",
              "      <td>2.99292189696462-1.0161587115351i</td>\n",
              "      <td>0.985156816075877+0.990883548468719i</td>\n",
              "      <td>2.95772171640577-0.935638392241526i</td>\n",
              "      <td>2.91617636179577+3.07206541691927i</td>\n",
              "      <td>-2.93455002864304-2.99302248049629i</td>\n",
              "      <td>0.895363650001881+3.00377462740049i</td>\n",
              "      <td>-0.863137448065807-2.94913856469913i</td>\n",
              "      <td>-3.027753438257+3.10582714051129i</td>\n",
              "      <td>3.01387909455478+3.17361460219782i</td>\n",
              "    </tr>\n",
              "    <tr>\n",
              "      <th>2</th>\n",
              "      <td>-3.10204351668572+2.99671795878579i</td>\n",
              "      <td>-3.08856407109433+2.93202343862027i</td>\n",
              "      <td>-3.04491881048755+2.88692497524318i</td>\n",
              "      <td>1.08823852361823-2.98750440367609i</td>\n",
              "      <td>2.90697736188281+2.9758528690822i</td>\n",
              "      <td>-2.98145498382088-1.09421494578974i</td>\n",
              "      <td>3.08771003588438-2.94117387758681i</td>\n",
              "      <td>0.963331576488618+0.964855740477135i</td>\n",
              "      <td>-2.9106651176393-1.1014404929423i</td>\n",
              "      <td>-3.03198279219029-2.95534753456136i</td>\n",
              "      <td>...</td>\n",
              "      <td>0.907715239688597-1.02421970454919i</td>\n",
              "      <td>3.03546187492943-1.02360256422108i</td>\n",
              "      <td>0.893086213567738+0.966805075574357i</td>\n",
              "      <td>2.97386120778332-0.964294737203794i</td>\n",
              "      <td>2.88599504091299+3.11886939737541i</td>\n",
              "      <td>-2.90221562333671-3.07045202327123i</td>\n",
              "      <td>0.950041740922162+2.99164321430862i</td>\n",
              "      <td>-0.923820303162464-3.01903477870031i</td>\n",
              "      <td>-3.11729966991965+2.9837680721312i</td>\n",
              "      <td>2.91193728337384+3.03679452628824i</td>\n",
              "    </tr>\n",
              "  </tbody>\n",
              "</table>\n",
              "<p>3 rows × 2048 columns</p>\n",
              "</div>\n",
              "      <button class=\"colab-df-convert\" onclick=\"convertToInteractive('df-576f32a6-993a-4c72-9daa-5132526d8ca0')\"\n",
              "              title=\"Convert this dataframe to an interactive table.\"\n",
              "              style=\"display:none;\">\n",
              "        \n",
              "  <svg xmlns=\"http://www.w3.org/2000/svg\" height=\"24px\"viewBox=\"0 0 24 24\"\n",
              "       width=\"24px\">\n",
              "    <path d=\"M0 0h24v24H0V0z\" fill=\"none\"/>\n",
              "    <path d=\"M18.56 5.44l.94 2.06.94-2.06 2.06-.94-2.06-.94-.94-2.06-.94 2.06-2.06.94zm-11 1L8.5 8.5l.94-2.06 2.06-.94-2.06-.94L8.5 2.5l-.94 2.06-2.06.94zm10 10l.94 2.06.94-2.06 2.06-.94-2.06-.94-.94-2.06-.94 2.06-2.06.94z\"/><path d=\"M17.41 7.96l-1.37-1.37c-.4-.4-.92-.59-1.43-.59-.52 0-1.04.2-1.43.59L10.3 9.45l-7.72 7.72c-.78.78-.78 2.05 0 2.83L4 21.41c.39.39.9.59 1.41.59.51 0 1.02-.2 1.41-.59l7.78-7.78 2.81-2.81c.8-.78.8-2.07 0-2.86zM5.41 20L4 18.59l7.72-7.72 1.47 1.35L5.41 20z\"/>\n",
              "  </svg>\n",
              "      </button>\n",
              "      \n",
              "  <style>\n",
              "    .colab-df-container {\n",
              "      display:flex;\n",
              "      flex-wrap:wrap;\n",
              "      gap: 12px;\n",
              "    }\n",
              "\n",
              "    .colab-df-convert {\n",
              "      background-color: #E8F0FE;\n",
              "      border: none;\n",
              "      border-radius: 50%;\n",
              "      cursor: pointer;\n",
              "      display: none;\n",
              "      fill: #1967D2;\n",
              "      height: 32px;\n",
              "      padding: 0 0 0 0;\n",
              "      width: 32px;\n",
              "    }\n",
              "\n",
              "    .colab-df-convert:hover {\n",
              "      background-color: #E2EBFA;\n",
              "      box-shadow: 0px 1px 2px rgba(60, 64, 67, 0.3), 0px 1px 3px 1px rgba(60, 64, 67, 0.15);\n",
              "      fill: #174EA6;\n",
              "    }\n",
              "\n",
              "    [theme=dark] .colab-df-convert {\n",
              "      background-color: #3B4455;\n",
              "      fill: #D2E3FC;\n",
              "    }\n",
              "\n",
              "    [theme=dark] .colab-df-convert:hover {\n",
              "      background-color: #434B5C;\n",
              "      box-shadow: 0px 1px 3px 1px rgba(0, 0, 0, 0.15);\n",
              "      filter: drop-shadow(0px 1px 2px rgba(0, 0, 0, 0.3));\n",
              "      fill: #FFFFFF;\n",
              "    }\n",
              "  </style>\n",
              "\n",
              "      <script>\n",
              "        const buttonEl =\n",
              "          document.querySelector('#df-576f32a6-993a-4c72-9daa-5132526d8ca0 button.colab-df-convert');\n",
              "        buttonEl.style.display =\n",
              "          google.colab.kernel.accessAllowed ? 'block' : 'none';\n",
              "\n",
              "        async function convertToInteractive(key) {\n",
              "          const element = document.querySelector('#df-576f32a6-993a-4c72-9daa-5132526d8ca0');\n",
              "          const dataTable =\n",
              "            await google.colab.kernel.invokeFunction('convertToInteractive',\n",
              "                                                     [key], {});\n",
              "          if (!dataTable) return;\n",
              "\n",
              "          const docLinkHtml = 'Like what you see? Visit the ' +\n",
              "            '<a target=\"_blank\" href=https://colab.research.google.com/notebooks/data_table.ipynb>data table notebook</a>'\n",
              "            + ' to learn more about interactive tables.';\n",
              "          element.innerHTML = '';\n",
              "          dataTable['output_type'] = 'display_data';\n",
              "          await google.colab.output.renderOutput(dataTable, element);\n",
              "          const docLink = document.createElement('div');\n",
              "          docLink.innerHTML = docLinkHtml;\n",
              "          element.appendChild(docLink);\n",
              "        }\n",
              "      </script>\n",
              "    </div>\n",
              "  </div>\n",
              "  "
            ]
          },
          "metadata": {}
        }
      ]
    },
    {
      "cell_type": "code",
      "source": [
        "X = X.applymap(strToTuple)\n",
        "display(X.head(3))\n",
        "'''\n",
        "train_idxs, test_idxs = test_train_indexes_v1()\n",
        "train_idxs2, test_idxs2 = test_train_indexes_v2()\n",
        "\n",
        "X_train = X.iloc[train_idxs].reset_index(drop = \"True\")\n",
        "X_test = X.iloc[test_idxs].reset_index(drop = \"True\")\n",
        "X_train2 = X.iloc[train_idxs2].reset_index(drop = \"True\")\n",
        "X_test2 = X.iloc[test_idxs2].reset_index(drop = \"True\")\n",
        "\n",
        "data = {}\n",
        "\n",
        "for i in range(0,25):\n",
        "  data[str(80*(i+1))] = {\"Train\":X_train.iloc[i*25:(i*25+25)].reset_index(drop = \"True\"),\"Test\":X_test.iloc[i*25:(i*25+25)].reset_index(drop = \"True\")}\n",
        "  \n",
        "data_new = {}\n",
        "\n",
        "for i in range(0,25):\n",
        "  data_new[str(80*(i+1))] = {\"Train\":X_train2.iloc[i*2:(i*2+2)].reset_index(drop = \"True\"),\"Test\":X_test2.iloc[i*25:(i*25+25)].reset_index(drop = \"True\")}\n",
        "'''"
      ],
      "metadata": {
        "id": "oqc5q1p93bN4"
      },
      "execution_count": null,
      "outputs": []
    },
    {
      "cell_type": "code",
      "source": [
        "def new_X_df(input_data_path, power):\n",
        "  new_df = pd.read_excel(input_data_path, sheet_name = \"Sheet1\")\n",
        "  # Get selected power\n",
        "  new_df = new_df[new_df['power_dBm'].isin([int(power)])]\n",
        "  return new_df\n",
        "\n",
        "def strToTuple(s):\n",
        "    s_aux=s.split(\"i\")\n",
        "    pdb.set_trace()\n",
        "    s=s_aux[0]+\"j\"\n",
        "    return complex(s)\n"
      ],
      "metadata": {
        "id": "alSxbBmzyr4T"
      },
      "execution_count": 27,
      "outputs": []
    },
    {
      "cell_type": "code",
      "source": [
        "#const_path = path + '/Constellation/QPSK/A.10hops100km/dataSet_Constellation_Samples_QPSK_37GHz_LongHaul_output_10x100.xlsx'\n",
        "const_path = path + '/Constellation/QPSK/A.10hops100km/const_dummy_QPSK.xlsx'\n",
        "\n",
        "# Y =  array of distances for each sample\n",
        "df = new_X_df(const_path, power = -2)\n",
        "\n",
        "distances = list(df['Distance_km'].unique())"
      ],
      "metadata": {
        "id": "zhglUsxoyx2r",
        "outputId": "a33a2ccc-83ae-4349-a431-47da246430e6",
        "colab": {
          "base_uri": "https://localhost:8080/"
        }
      },
      "execution_count": 36,
      "outputs": [
        {
          "output_type": "stream",
          "name": "stdout",
          "text": [
            "[0, 100, 200]\n"
          ]
        }
      ]
    },
    {
      "cell_type": "markdown",
      "source": [
        "# Utils"
      ],
      "metadata": {
        "id": "Ri43qNWXeFcQ"
      }
    },
    {
      "cell_type": "code",
      "source": [
        "def grad_b (M,m_og,m_tg,b,beta):\n",
        "  return 2*beta*(M @ m_og + b - m_tg)"
      ],
      "metadata": {
        "id": "edmLVQAxeEbV"
      },
      "execution_count": null,
      "outputs": []
    },
    {
      "cell_type": "code",
      "source": [
        "def grad_M(M,cov_og,cov_tg,alpha):\n",
        "    error = M @ cov_og @ np.transpose(M) - cov_tg  \n",
        "\n",
        "    m1 = (2*error[0][0] * (2*cov_og[0][0]*M[0][0] + 2*cov_og[0][1]*M[0][1]) +\n",
        "          2*(error[0][1] + error[1][0]) * (cov_og[0][0]*M[1][0] + cov_og[0][1]*M[1][1]))\n",
        "    \n",
        "    m2 = (2*error[0][0] * (2*cov_og[1][1]*M[0][1] + 2*cov_og[0][1]*M[0][0]) +\n",
        "          2*(error[0][1] + error[1][0]) * (cov_og[0][1]*M[1][0] + cov_og[1][1]*M[1][1]))\n",
        "    \n",
        "    m3 = (2*error[1][1] * (2*cov_og[0][0]*M[1][0] + 2*cov_og[0][1]*M[1][1]) +\n",
        "          2*(error[0][1] + error[1][0]) * (cov_og[0][0]*M[0][0] + cov_og[0][1]*M[0][1]))\n",
        "\n",
        "    m4 = (2*error[1][1] * (2*cov_og[0][0]*M[1][1] + 2*cov_og[0][1]*M[1][0]) +\n",
        "          2*(error[0][1] + error[1][0]) * (cov_og[0][1]*M[0][0] + cov_og[1][1]*M[0][1]))\n",
        "    \n",
        "    return alpha*np.array([[m1, m2], [m3, m4]])"
      ],
      "metadata": {
        "id": "bDOXvZJoeKW-"
      },
      "execution_count": null,
      "outputs": []
    },
    {
      "cell_type": "code",
      "source": [
        "def compute_mean_and_cov(data):\n",
        "  aux_x = [] # Reales\n",
        "  aux_y = [] # Imag\n",
        "  for obs in data:\n",
        "    aux_x.append(obs[0])\n",
        "    aux_y.append(obs[1])\n",
        "  return np.array([[np.mean(aux_x)],[np.mean(aux_y)]]), np.cov(aux_x,aux_y)\n",
        "\n",
        "\n",
        "def total_loss(m_mod,m_tg,cov_mod,cov_tg):\n",
        "  return (sum(sum(np.power(cov_mod-cov_tg,2))) + sum(np.power(m_mod - m_tg,2)))[0]\n",
        "\n",
        "\n",
        "def loss(alpha,beta,m_tg,m_og,cov_tg,cov_og,M,b):\n",
        "  first = alpha*sum(sum(np.power(M @ cov_og @ np.transpose(M) - cov_tg, 2)))\n",
        "  second = beta*sum(np.power(M @ m_og + b - m_tg, 2))\n",
        "  a = first+second\n",
        "  return a"
      ],
      "metadata": {
        "id": "cHynfv5FeLI5"
      },
      "execution_count": null,
      "outputs": []
    },
    {
      "cell_type": "code",
      "source": [
        "def gradient_descent(alpha,beta,m_tg,m_og,cov_tg,cov_og,nu,log):\n",
        "  Ms = []\n",
        "  bs = []\n",
        "  M = np.random.rand(2,2)\n",
        "  #M = np.array([[1, 0], [0, 1]])\n",
        "  b = np.random.rand(2,1)\n",
        "  #b = np.array([[0], [0]])\n",
        "  #for i in range(100000):\n",
        "  i = 0\n",
        "  while True:\n",
        "    # print('From:', M @ cov_source @ np.transpose(M))\n",
        "    # print('To:', cov_target)\n",
        "    L = loss(alpha,beta,m_tg,m_og,cov_tg,cov_og,M,b) \n",
        "    if  L < 1e-20:\n",
        "        Ms.append(M)\n",
        "        bs.append(b)\n",
        "        break\n",
        "    b = b - nu*grad_b(M,m_og,m_tg,b,beta)\n",
        "    M = M - nu*grad_M(M,cov_og,cov_tg,alpha)\n",
        "    i+= 1\n",
        "    if (i>= 5000 and i <= 5025) or (i>= 5975 and i <= 6000):\n",
        "      Ms.append(M)\n",
        "      bs.append(b)\n",
        "    if not i%5000 and log: print(L)\n",
        "  if log: print(\"-\"*25)\n",
        "  return Ms,bs"
      ],
      "metadata": {
        "id": "YgA3SBmceOGK"
      },
      "execution_count": null,
      "outputs": []
    },
    {
      "cell_type": "code",
      "source": [
        "def generate_comparison_plot(mod_points,ptarget, return_plots=False):\n",
        "  x1 = [x[0] for  x in mod_points]\n",
        "  y1 = [x[1] for  x in mod_points]\n",
        "  x2 = [x[0] for  x in ptarget]\n",
        "  y2 = [x[1] for  x in ptarget]\n",
        "\n",
        "  if return_plots:\n",
        "      return go.Scatter(x = x1, y = y1, mode='markers'), go.Scatter(x = x2, y = y2,mode='markers') \n",
        "\n",
        "  fig = make_subplots(rows=1, cols=2)\n",
        "  fig.add_trace(\n",
        "    go.Scatter(x = x1, y = y1,mode='markers'),\n",
        "    \n",
        "    row=1, col=1\n",
        "  )\n",
        "  fig.add_trace(\n",
        "    go.Scatter(x = x2, y = y2,mode='markers'),\n",
        "    row=1, col=2\n",
        "  )\n",
        "  fig.update_layout(height=500, width=1000, title_text=\"Point comparison\",autosize = False)\n",
        "  fig.show()"
      ],
      "metadata": {
        "id": "Pw8-2ZOVeQLR"
      },
      "execution_count": null,
      "outputs": []
    },
    {
      "cell_type": "code",
      "source": [
        "def compute_parameters (const,method,source,target,log = False):\n",
        "  if const  == 1: limits = [[-2,-4],[4,2]]\n",
        "  elif const == 7: limits = [[2,0],[2,0]]\n",
        "  elif const == 10: limits = [[0,-2],[0,-2]]\n",
        "  elif const == 15: limits = [[2,0],[-2,-4]]\n",
        "\n",
        "  q_source = []\n",
        "  q_target = []\n",
        "  for i in range(len(source)):\n",
        "    q_source += [[x.real,x.imag] for x in source.values.tolist()[i] if x.real < limits[0][0] and x.real > limits[0][1] and x.imag < limits[1][0] and x.imag > limits[1][1]]\n",
        "    q_target += [[x.real,x.imag] for x in target.values.tolist()[i]if x.real < limits[0][0] and x.real > limits[0][1] and x.imag < limits[1][0] and x.imag > limits[1][1]]\n",
        "\n",
        "  unbiased = (len(q_source)/(len(q_source)-1) * 125/126)\n",
        "\n",
        "  mean_source,cov_source = compute_mean_and_cov(q_source)\n",
        "  mean_target, cov_target= compute_mean_and_cov(q_target)\n",
        "\n",
        "  cov_source *= unbiased\n",
        "  cov_target *= unbiased\n",
        "\n",
        "  if method == \"GD\":\n",
        "    alpha = 3/4\n",
        "    beta = 1/4\n",
        "    M, b = gradient_descent(alpha,beta,mean_target,mean_source,cov_target,cov_source, 0.5,log)\n",
        "    return M,b\n",
        "\n",
        "  elif method == \"Z\":\n",
        "    return mean_source,cov_source,mean_target,cov_target"
      ],
      "metadata": {
        "id": "BF-MRK9UeSmu"
      },
      "execution_count": null,
      "outputs": []
    },
    {
      "cell_type": "code",
      "source": [
        "def modify_const_GD(const,source,M,b, target = None, return_plots=False):\n",
        "\n",
        "  if const  == 1: limits = [[-2,-4],[4,2]]\n",
        "  elif const == 7: limits = [[2,0],[2,0]]\n",
        "  elif const == 10: limits = [[0,-2],[0,-2]]\n",
        "  elif const == 15: limits = [[2,0],[-2,-4]]\n",
        "\n",
        "  q_source = []\n",
        "  indexes = []\n",
        "\n",
        "  for i in range(len(source)):\n",
        "    row_source = source.values.tolist()[i]\n",
        "    for j in range(len(row_source)):\n",
        "      point_source = row_source[j]\n",
        "      if point_source.real < limits[0][0] and point_source.real > limits[0][1] and point_source.imag < limits[1][0] and point_source.imag > limits[1][1]:\n",
        "        q_source += [[point_source.real,point_source.imag]]\n",
        "        indexes.append([i,j])\n",
        "\n",
        "  if target is not None:\n",
        "    q_target = []\n",
        "\n",
        "    for i in range(len(source)):\n",
        "      row_target = target.values.tolist()[i]\n",
        "      for j in range(len(row_source)):\n",
        "        point_target = row_target[j]\n",
        "        if point_target.real < limits[0][0] and point_target.real > limits[0][1] and point_target.imag < limits[1][0] and point_target.imag > limits[1][1]:\n",
        "          q_target += [[point_target.real,point_target.imag]]\n",
        "      \n",
        "  mults = [np.array([[x[0]],[x[1]]]) for x in q_source]\n",
        "  new_points = []\n",
        "\n",
        "  for mult in mults:\n",
        "    res = (M @ mult + b).tolist()\n",
        "    new_points.append([res[0][0],res[1][0]])\n",
        "  \n",
        "  if target is not None:\n",
        "    if return_plots:\n",
        "      generate_comparison_plot(new_points,q_target)\n",
        "      return new_points, q_target\n",
        "\n",
        "  return new_points,indexes"
      ],
      "metadata": {
        "id": "0ksqQLt2eTYK"
      },
      "execution_count": null,
      "outputs": []
    },
    {
      "cell_type": "code",
      "source": [
        "def modify_const_Z(const,source,mean_source,cov_source,mean_target,cov_target,target = None, return_plots=False):\n",
        "  if const  == 1: limits = [[-2,-4],[4,2]]\n",
        "  elif const == 7: limits = [[2,0],[2,0]]\n",
        "  elif const == 10: limits = [[0,-2],[0,-2]]\n",
        "  elif const == 15: limits = [[2,0],[-2,-4]]\n",
        "\n",
        "  q_source = []\n",
        "  indexes = []\n",
        "\n",
        "  for i in range(len(source)):\n",
        "    row_source = source.values.tolist()[i]\n",
        "    for j in range(len(row_source)):\n",
        "      point_source = row_source[j]\n",
        "      if point_source.real < limits[0][0] and point_source.real > limits[0][1] and point_source.imag < limits[1][0] and point_source.imag > limits[1][1]:\n",
        "        q_source += [[point_source.real,point_source.imag]]\n",
        "        indexes.append([i,j])\n",
        "\n",
        "  if target is not None:\n",
        "    q_target = []\n",
        "\n",
        "    for i in range(len(source)):\n",
        "      row_target = target.values.tolist()[i]\n",
        "      for j in range(len(row_source)):\n",
        "        point_target = row_target[j]\n",
        "        if point_target.real < limits[0][0] and point_target.real > limits[0][1] and point_target.imag < limits[1][0] and point_target.imag > limits[1][1]:\n",
        "          q_target += [[point_target.real,point_target.imag]]\n",
        "\n",
        "  mults = [np.array([[x[0]],[x[1]]]) for x in q_source]\n",
        "  new_points = []\n",
        "\n",
        "  w, v = np.linalg.eig(cov_source)\n",
        "  S1 = v @ np.diag(np.sqrt(w)) @ np.linalg.inv(v)\n",
        "  w, v = np.linalg.eig(cov_target)\n",
        "  S2 = v @ np.diag(np.sqrt(w)) @ np.linalg.inv(v)\n",
        "\n",
        "  for mult in mults:\n",
        "    normalized = np.linalg.inv(S1) @ (mult - mean_source)\n",
        "    denormalized = S2 @ normalized + mean_target\n",
        "\n",
        "    new_points.append([denormalized[0][0], denormalized[1][0]])\n",
        "\n",
        "  if target is not None:\n",
        "    if return_plots:\n",
        "      generate_comparison_plot(new_points,q_target)\n",
        "      \n",
        "\n",
        "  return new_points, indexes"
      ],
      "metadata": {
        "id": "wAAXm-VueWrT"
      },
      "execution_count": null,
      "outputs": []
    },
    {
      "cell_type": "markdown",
      "source": [
        "# Obtain parameters and GD"
      ],
      "metadata": {
        "id": "gzBCccEGecN5"
      }
    },
    {
      "cell_type": "code",
      "source": [
        "M,b = compute_parameters(1,\"GD\",data[str(distances[0]*80)]['Train'],data[str(distances[24]*80)]['Train'], log = True)\n",
        "\n",
        "a,b = modify_const_GD(1,data[str(distances[0]*80)]['Train'],M[-1],b[-1],data[str(distances[24]*80)]['Train'], return_plots=True)"
      ],
      "metadata": {
        "id": "YcbTLGsqehSs"
      },
      "execution_count": null,
      "outputs": []
    },
    {
      "cell_type": "markdown",
      "source": [
        "# Loss"
      ],
      "metadata": {
        "id": "clqRuupEezcK"
      }
    },
    {
      "cell_type": "code",
      "source": [
        "import pickle \n",
        "\n",
        "with open('b.pickle', 'wb') as handle:\n",
        "    pickle.dump(b, handle, protocol=pickle.HIGHEST_PROTOCOL)"
      ],
      "metadata": {
        "id": "tiFj7MFse1jp"
      },
      "execution_count": null,
      "outputs": []
    },
    {
      "cell_type": "code",
      "source": [
        "points = []\n",
        "id = [np.identity(2)]\n",
        "zero = [np.zeros((2, 1))]\n",
        "Ms = id + M\n",
        "bs = zero + b\n",
        "\n",
        "for i in range(len(Ms)):\n",
        "  p,_ =  modify_const_GD(1,data[str(distances[0]*80)]['Train'],Ms[i],bs[i])\n",
        "  points.append(p)"
      ],
      "metadata": {
        "id": "yOs8qqgxe3Jk"
      },
      "execution_count": null,
      "outputs": []
    },
    {
      "cell_type": "code",
      "source": [
        "obs = points[-1]\n",
        "x = [a[0] for a in obs]\n",
        "y = [a[1] for a in obs]\n",
        "\n",
        "fig = px.scatter(x=x, y=y, labels=dict(x=\"\", y = \"\"))\n",
        "\n",
        "fig.update_traces(marker=dict(\n",
        "        color='#007bbf', size=10))\n",
        "\n",
        "fig.update_layout(width=550, height = 500)\n",
        "fig.update_yaxes(range = [1.5,4.5])\n",
        "fig.update_xaxes(range = [-4.5,-1.5])\n",
        "\n",
        "fig.show()"
      ],
      "metadata": {
        "id": "zA0Jf7bhe5mC"
      },
      "execution_count": null,
      "outputs": []
    },
    {
      "cell_type": "code",
      "source": [
        "import plotly.graph_objects as go\n",
        "import plotly.express as px\n",
        "from plotly.subplots import make_subplots\n",
        "\n",
        "\n",
        "x1 = [10,8,13,9,11,14,6,4,12,7,5]\n",
        "x2 = x1\n",
        "x3 = x1\n",
        "x4 = [8,8,8,8,8,8,8,19,8,8,8]\n",
        "y1 = [10.0,6.95,7.58,8.81,8.33,9.96,7.24,4.26,10.84,4.82,5.68]\n",
        "y2 = [9.14,8.14,8.74,8.77,9.26,8.10,6.13,3.10,9.13,7.26,4.74]\n",
        "y3 = [7.46,6.77,12.74,7.11,7.81,8.84,6.08,5.39,8.15,6.42,5.73]\n",
        "y4 = [6.58,5.76,7.71,8.84,8.47,7.04,5.25,12.50,5.56,7.91,6.89]\n",
        "\n",
        "reg_x = [0,20]\n",
        "reg_y = [3,13]\n",
        "\n",
        "fig = make_subplots(rows=2, cols=2)\n",
        "\n",
        "\n",
        "fig.add_trace(\n",
        "  go.Scatter(x = reg_x, y = reg_y,mode='lines'),\n",
        "  \n",
        "  row=1, col=1\n",
        ")\n",
        "\n",
        "fig.add_trace(\n",
        "  go.Scatter(x = reg_x, y = reg_y,mode='lines'),\n",
        "  \n",
        "  row=1, col=2\n",
        ")\n",
        "\n",
        "fig.add_trace(\n",
        "  go.Scatter(x = reg_x, y = reg_y,mode='lines'),\n",
        "  \n",
        "  row=2, col=1\n",
        ")\n",
        "\n",
        "fig.add_trace(\n",
        "  go.Scatter(x = reg_x, y = reg_y,mode='lines'),\n",
        "  \n",
        "  row=2, col=2\n",
        ")\n",
        "\n",
        "fig.add_trace(\n",
        "  go.Scatter(x = x1, y = y1,mode='markers'),\n",
        "  \n",
        "  row=1, col=1\n",
        ")\n",
        "\n",
        "\n",
        "fig.add_trace(\n",
        "  go.Scatter(x = x2, y = y2,mode='markers'),\n",
        "  row=1, col=2\n",
        ")\n",
        "fig.add_trace(\n",
        "go.Scatter(x = x3, y = y3,mode='markers'),\n",
        "row=2, col=1\n",
        ")\n",
        "fig.add_trace(\n",
        "go.Scatter(x = x4, y = y4,mode='markers'),\n",
        "row=2, col=2\n",
        ")\n",
        "\n",
        "fig.update_xaxes(range=[0, 20])\n",
        "fig.update_yaxes(range=[0, 15], dtick = 3)\n",
        "fig.update_layout(height=500, width=1000, title_text=\"Point comparison\",autosize = False)\n",
        "fig.update_traces(marker=dict(\n",
        "        color='#007bbf', size=10, line_width=2))\n",
        "\n",
        "fig.update_traces(line_color='black', line_width=2)\n",
        "\n",
        "fig.show()"
      ],
      "metadata": {
        "id": "qKbZYT7Pe7do"
      },
      "execution_count": null,
      "outputs": []
    },
    {
      "cell_type": "code",
      "source": [
        "#Doubt 2\n",
        "'''\n",
        "x, y = [], []\n",
        "for x1, y1 in m1:\n",
        "    x.append(x1)\n",
        "    y.append(y1)\n",
        "np.cov(x, y)\n",
        "'''"
      ],
      "metadata": {
        "id": "6Th5EdPLe8YS"
      },
      "execution_count": null,
      "outputs": []
    },
    {
      "cell_type": "code",
      "source": [
        "#Doubt 3\n",
        "'''\n",
        "x, y = [], []\n",
        "for x1, y1 in m2:\n",
        "    x.append(x1)\n",
        "    y.append(y1)\n",
        "np.cov(x, y)\n",
        "'''"
      ],
      "metadata": {
        "id": "Uqtf8G9Se_GZ"
      },
      "execution_count": null,
      "outputs": []
    },
    {
      "cell_type": "code",
      "source": [
        "m1, p = modify_const_Z(7,data[str(distances[15]*80)]['Train'],mean_source,cov_source,mean_target,cov_target,target = data[str(distances[22]*80)]['Train'], return_plots=False)\n",
        "m2, p = modify_const_GD(7,data[str(distances[15]*80)]['Train'],M,b,target = data[str(distances[22]*80)]['Train'], return_plots=False)"
      ],
      "metadata": {
        "id": "TTvh2-0WfBLw"
      },
      "execution_count": null,
      "outputs": []
    },
    {
      "cell_type": "code",
      "source": [
        "  fig = make_subplots(rows=1, cols=3, shared_xaxes = True, shared_yaxes = True\n",
        "                      , subplot_titles=['Z-score', 'Gradient Descent', 'Target distribution'], horizontal_spacing= 0.02)\n",
        "\n",
        "  \n",
        "  fig.add_traces(\n",
        "    [m1, m2, p], rows=[1,1,1], cols=[1,2,3]\n",
        "  )\n",
        "\n",
        "  fig.update_layout(height=420, width=1000, autosize = False)\n",
        "  \n",
        "  fig.update_xaxes(range=[-4.1, -1.9])\n",
        "  fig.update_yaxes(range=[1.9, 4.1]) \n",
        "  fig.show()"
      ],
      "metadata": {
        "id": "MOYrHhdmfC7e"
      },
      "execution_count": null,
      "outputs": []
    },
    {
      "cell_type": "code",
      "source": [
        "def L2dist(a,b):\n",
        "    return math.sqrt(math.pow(a[0]-b[0],2)+math.pow(a[1]-b[1],2))"
      ],
      "metadata": {
        "id": "KAVTCcqNfE8I"
      },
      "execution_count": null,
      "outputs": []
    },
    {
      "cell_type": "code",
      "source": [
        "method = \"Z\"\n",
        "\n",
        "quadrants = [1, 7, 10, 15]\n",
        "first = True\n",
        "\n",
        "for i in tqdm(range(25)):\n",
        "    print(\"i = \",i)\n",
        "    for j in range(i+1,25):\n",
        "        print(\" j = \",j)\n",
        "        source = data_new[str(distances[i]*80)]['Train']\n",
        "        target = data_new[str(distances[j]*80)]['Train']\n",
        "        source_test = data_new[str(distances[i]*80)]['Test']\n",
        "\n",
        "        source_test2 = source_test.copy()\n",
        "\n",
        "        for quadrant in quadrants:\n",
        "            print(\"   quadrant = \", quadrant)\n",
        "            if method == \"GD\":\n",
        "              M, b = compute_parameters(quadrant, 'GD', source, target)\n",
        "              new_points, indexes = modify_const_GD(quadrant, source_test, M, b)\n",
        "            elif method == \"Z\":\n",
        "              mean_source,cov_source,mean_target,cov_target = compute_parameters(quadrant, 'Z', source, target)\n",
        "              new_points, indexes = modify_const_Z(quadrant,source_test,mean_source,cov_source,mean_target,cov_target)\n",
        "\n",
        "            '''\n",
        "            new_points2,indexes2 = modify_const_GD(quadrant, source, M, b)\n",
        "            target3,indexes3 = modify_const_GD(quadrant, target, np.array([[1,0],[0,1]]), np.array([[0],[0]]))\n",
        "            print(\"NP1\")\n",
        "            print(compute_mean_and_cov(new_points))\n",
        "            print(\"NP2\")\n",
        "            print(compute_mean_and_cov(new_points2))\n",
        "            print(\"T3\")\n",
        "            print(compute_mean_and_cov(target3))\n",
        "            '''\n",
        "            for k in range(len(indexes)):\n",
        "                source_test2.iloc[indexes[k][0],indexes[k][1]] = complex(new_points[k][0], new_points[k][1])\n",
        "        \n",
        "        F=[]\n",
        "        for k in range(source_test2.shape[0]):\n",
        "            data2=list(source_test2.iloc[k,:])\n",
        "            data2=[[float(d.real), float(d.imag)] for d in data2]\n",
        "            gmm = GaussianMixture(n_components=16, random_state=0, means_init=my_centers).fit(data2)\n",
        "            mus=gmm.means_\n",
        "            sigmas=gmm.covariances_\n",
        "            features=[distances[j]*80]\n",
        "            for z in selCP_pos:\n",
        "                mindist=None\n",
        "                k_inc=None\n",
        "                for w in range(16):\n",
        "                    d=L2dist(mus[w],z)\n",
        "                    if mindist is None or mindist>d:\n",
        "                        mindist=d\n",
        "                        k_inc=w\n",
        "                #print(k_inc)\n",
        "                #print(mus[k_inc])\n",
        "                covmat=np.concatenate(list(sigmas[k_inc])).ravel().tolist()\n",
        "                #features = [*features, *mus[k_inc], *[covmat[0], covmat[3]]]\n",
        "                features = [*features, *mus[k_inc], *covmat]\n",
        "            F.append(features)\n",
        "\n",
        "        header=['dist']\n",
        "        \n",
        "        for j in selCP:\n",
        "            header=[*header,*['mu_r_'+str(j),'mu_i_'+str(j),'sigma_rr_'+str(j),'sigma_ri_'+str(j),'sigma_ir_'+str(j),'sigma_ii_'+str(j)]]\n",
        "            #header=[*header,*['mu_r_'+str(j),'mu_i_'+str(j),'sigma_rr_'+str(j),'sigma_ii_'+str(j)]]\n",
        "        with open(path+'/modifiedData/'+method+'/alpha0.1.csv', 'a', encoding='UTF8', newline='') as f:\n",
        "            writer = csv.writer(f)\n",
        "            # write the header\n",
        "            if first:\n",
        "              writer.writerow(header)\n",
        "              first = False\n",
        "            # write multiple rows\n",
        "            writer.writerows(F)"
      ],
      "metadata": {
        "id": "qr9c5UmtfGlv"
      },
      "execution_count": null,
      "outputs": []
    },
    {
      "cell_type": "code",
      "source": [
        "source = data[str(distances[22]*80)]['Train']\n",
        "target = data[str(distances[24]*80)]['Train']\n",
        "source_test = data[str(distances[22]*80)]['Test']\n",
        "target_test = data[str(distances[24]*80)]['Test']"
      ],
      "metadata": {
        "id": "DH6-h5-zfI_d"
      },
      "execution_count": null,
      "outputs": []
    },
    {
      "cell_type": "code",
      "source": [
        "m,b = compute_parameters(7, 'GD', source, target, log = True)"
      ],
      "metadata": {
        "id": "zEDPDzbSfK8G"
      },
      "execution_count": null,
      "outputs": []
    },
    {
      "cell_type": "markdown",
      "source": [
        "# Comparing methods"
      ],
      "metadata": {
        "id": "fhGOffKDfNMP"
      }
    },
    {
      "cell_type": "code",
      "source": [
        "l_gd = []\n",
        "l_z = []\n",
        "const = [1,7,10,15]\n",
        "\n",
        "for i in const:\n",
        "  p_gd,t = modify_const(i,\"GD\",source,target,plot = False)\n",
        "  p_z,_ = modify_const(i,\"Z\",source,target,plot = False)\n",
        "  aux_gd = [[x[0][0],x[1][0]] for x in p_gd]\n",
        "  aux_z = [[x[0][0],x[1][0]] for x in p_z]\n",
        "  m_gd,cov_gd = compute_mean_and_cov(aux_gd)\n",
        "  m_z,cov_z = compute_mean_and_cov(aux_z)\n",
        "  m_t,cov_t = compute_mean_and_cov(t)\n",
        "\n",
        "  l_gd.append(total_loss(m_gd,m_t,cov_gd,cov_t))\n",
        "  l_z.append(total_loss(m_z,m_t,cov_z,cov_t))"
      ],
      "metadata": {
        "id": "5dPJ8ZLUfPgB"
      },
      "execution_count": null,
      "outputs": []
    },
    {
      "cell_type": "code",
      "source": [
        "loss_comparison = pd.DataFrame({\"Const_P\":[0],\"Loss\":[0],\"Method\":[\"\"]})\n",
        "\n",
        "for i in range(len(l_gd)):\n",
        "  loss_comparison.loc[i] = [const[i],l_gd[i],\"GD\"]\n",
        "\n",
        "for i in range(len(l_z)):\n",
        "  loss_comparison.loc[i+4] = [const[i],l_z[i],\"Z\"]"
      ],
      "metadata": {
        "id": "pCKqdINJfSFc"
      },
      "execution_count": null,
      "outputs": []
    },
    {
      "cell_type": "code",
      "source": [
        "fig = px.bar(loss_comparison, x=\"Const_P\", y=\"Loss\", color='Method')\n",
        "fig.show()"
      ],
      "metadata": {
        "id": "v05BM4N3fWOB"
      },
      "execution_count": null,
      "outputs": []
    }
  ]
}