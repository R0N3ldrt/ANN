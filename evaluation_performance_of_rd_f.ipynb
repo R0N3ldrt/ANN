{
  "cells": [
    {
      "cell_type": "markdown",
      "source": [
        "# Loading Necesary Libraries"
      ],
      "metadata": {
        "id": "4GXfLFwm7fcD"
      }
    },
    {
      "cell_type": "code",
      "execution_count": null,
      "metadata": {
        "id": "JoNBpL30nU7E"
      },
      "outputs": [],
      "source": [
        "import os, time, math, csv, joblib\n",
        "import pandas as pd\n",
        "import numpy as np\n",
        "import matplotlib.pyplot as plt\n",
        "from sklearn.model_selection import train_test_split\n",
        "from sklearn.preprocessing import MinMaxScaler\n",
        "from sklearn.mixture import GaussianMixture\n",
        "from tqdm import tqdm\n",
        "from keras.models import model_from_json\n",
        "from numpy.ma.core import resize\n",
        "\n",
        "pd.options.display.float_format = '{:.2f}'.format"
      ]
    },
    {
      "cell_type": "markdown",
      "source": [
        "## Load Enviroment"
      ],
      "metadata": {
        "id": "7isaWxJD937X"
      }
    },
    {
      "cell_type": "code",
      "source": [
        "# BLOQUE PARA USAR DESDE COLAB\n",
        "\n",
        "# Google drive loading as work station for local-usage of the files.\n",
        "from google.colab import drive\n",
        "drive.mount('/content/gdrive',force_remount= True)\n",
        "\n",
        "#-----------------------------------------------------------------------------"
      ],
      "metadata": {
        "colab": {
          "base_uri": "https://localhost:8080/"
        },
        "id": "hopPYui695Hj",
        "outputId": "5a5876cd-5317-4e06-d115-5b09a7610dd7"
      },
      "execution_count": null,
      "outputs": [
        {
          "output_type": "stream",
          "name": "stdout",
          "text": [
            "Mounted at /content/gdrive\n"
          ]
        }
      ]
    },
    {
      "cell_type": "code",
      "source": [
        "# Lista para cambiar los paths rapido.\n",
        "workers = [\"Ronald\", \"Local\"]\n",
        "\n",
        "# Change the number to change the paths.\n",
        "worker = workers[0]\n",
        "\n",
        "if worker == \"Ronald\":\n",
        "  data_path= \"/content/gdrive/MyDrive/Thesis_Workstation/ANN_dataset/modifiedData/synthetic_data/Z/input_data_model\" # mod data of features\n",
        "\n",
        "else: path = os.getcwd()"
      ],
      "metadata": {
        "id": "gFcXZ8aG95bK"
      },
      "execution_count": null,
      "outputs": []
    },
    {
      "cell_type": "code",
      "source": [
        "fun = ['uniform', 'non_uniform', 'gaussian']\n",
        "rad = [0.00000001, 0.01, 0.02, 0.03, 0.04, 0.05, 0.06, 0.07, 0.08, 0.09, 0.1]\n",
        "\n",
        "# Get avg error by function\n",
        "error_avg = {}\n",
        "for f in fun:\n",
        "  error_avg_function = np.array([])\n",
        "  for rd in rad:\n",
        "    filename = data_path + '/results_radius_{}_funct_{}.csv'.format(str(rd), str(f))\n",
        "    df = pd.read_csv(filename)\n",
        "    mean_df = df['error'].mean()\n",
        "    error_avg_function = np.append(error_avg_function, mean_df)\n",
        "  global_function_avg = np.average(error_avg_function, axis=0)\n",
        "  error_avg[f] = global_function_avg\n",
        "\n",
        "print('Function average error accross all dispertion radius:')\n",
        "print(error_avg)"
      ],
      "metadata": {
        "id": "A7blP5C3fgKB",
        "outputId": "8eef49ae-6dca-4bbd-f918-734054defdbd",
        "colab": {
          "base_uri": "https://localhost:8080/"
        }
      },
      "execution_count": null,
      "outputs": [
        {
          "output_type": "stream",
          "name": "stdout",
          "text": [
            "Function average error accross all dispertion radius:\n",
            "{'uniform': 0.27374187975048964, 'non_uniform': 0.3354276623690123, 'gaussian': 0.20354215789217472}\n"
          ]
        }
      ]
    },
    {
      "cell_type": "code",
      "source": [
        "fun = ['uniform', 'non_uniform', 'gaussian']\n",
        "rad = [0.00000001, 0.01, 0.02, 0.03, 0.04, 0.05, 0.06, 0.07, 0.08, 0.09, 0.1]\n",
        "\n",
        "# Get avg error by function\n",
        "error_avg = {}\n",
        "for rd in rad:\n",
        "  error_avg_function = np.array([])\n",
        "  for f in fun:\n",
        "    filename = data_path + '/results_radius_{}_funct_{}.csv'.format(str(rd), str(f))\n",
        "    df = pd.read_csv(filename)\n",
        "    mean_df = df['error'].mean()\n",
        "    error_avg_function = np.append(error_avg_function, mean_df)\n",
        "  global_function_avg = np.average(error_avg_function, axis=0)\n",
        "  error_avg[rd] = global_function_avg\n",
        "\n",
        "print('Dispertion Radius average error accross all dispertion functions:')\n",
        "print(error_avg)"
      ],
      "metadata": {
        "id": "kbZLDQZgikZ3",
        "outputId": "51dec2ce-baa7-4654-e144-06ff748eb3bb",
        "colab": {
          "base_uri": "https://localhost:8080/"
        }
      },
      "execution_count": null,
      "outputs": [
        {
          "output_type": "stream",
          "name": "stdout",
          "text": [
            "Dispertion Radius average error accross all dispertion functions:\n",
            "{1e-08: 0.9434847899087146, 0.01: 0.431950363125847, 0.02: 0.1645219178339081, 0.03: 0.1312133287245307, 0.04: 0.08075165223932242, 0.05: 0.06402766638641455, 0.06: 0.08037758180850815}\n"
          ]
        }
      ]
    }
  ],
  "metadata": {
    "kernelspec": {
      "display_name": "Python 3",
      "language": "python",
      "name": "python3"
    },
    "language_info": {
      "codemirror_mode": {
        "name": "ipython",
        "version": 3
      },
      "file_extension": ".py",
      "mimetype": "text/x-python",
      "name": "python",
      "nbconvert_exporter": "python",
      "pygments_lexer": "ipython3",
      "version": "3.6.9"
    },
    "colab": {
      "name": "testing_attacks.ipynb",
      "provenance": []
    }
  },
  "nbformat": 4,
  "nbformat_minor": 0
}