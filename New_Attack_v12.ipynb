{
  "nbformat": 4,
  "nbformat_minor": 0,
  "metadata": {
    "colab": {
      "name": "Untitled13.ipynb",
      "provenance": [],
      "authorship_tag": "ABX9TyOQkUVwBh/boL5+PvzAu3CA",
      "include_colab_link": true
    },
    "kernelspec": {
      "name": "python3",
      "display_name": "Python 3"
    },
    "language_info": {
      "name": "python"
    }
  },
  "cells": [
    {
      "cell_type": "markdown",
      "metadata": {
        "id": "view-in-github",
        "colab_type": "text"
      },
      "source": [
        "<a href=\"https://colab.research.google.com/github/R0N3ldrt/Thesis/blob/main/New_Attack_v12.ipynb\" target=\"_parent\"><img src=\"https://colab.research.google.com/assets/colab-badge.svg\" alt=\"Open In Colab\"/></a>"
      ]
    },
    {
      "cell_type": "markdown",
      "source": [
        "# Libraries"
      ],
      "metadata": {
        "id": "oedwwr_nXJs2"
      }
    },
    {
      "cell_type": "code",
      "execution_count": 1,
      "metadata": {
        "id": "vP5hFWJrQ_xH"
      },
      "outputs": [],
      "source": [
        "# Importing necesary libraries\n",
        "# Libraries for correct code execution \n",
        "\n",
        "import os, time\n",
        "import pandas as pd\n",
        "import numpy as np\n",
        "import matplotlib.pyplot as plt\n",
        "import math\n",
        "import pickle\n",
        "import random\n",
        "import csv\n",
        "import re\n",
        "import array\n",
        "import seaborn as sns\n",
        "import scipy.stats as st\n",
        "\n",
        "from tqdm import tqdm\n",
        "from functools import reduce\n",
        "from random import random, gauss\n",
        "from math import modf, pi, cos, sin, sqrt\n",
        "from sklearn.model_selection import train_test_split\n",
        "from sklearn.preprocessing import MinMaxScaler\n",
        "from sklearn.metrics import r2_score\n",
        "from plotly.subplots import make_subplots\n",
        "from scipy.signal import savgol_filter\n",
        "from scipy.stats.stats import pearsonr\n",
        "from scipy.stats import spearmanr\n",
        "\n",
        "import plotly.graph_objects as go\n",
        "import plotly.express as px\n",
        "from plotly.subplots import make_subplots\n",
        "\n",
        "import tensorflow as tf\n",
        "import matplotlib.pyplot as plt\n",
        "import os\n",
        "import numpy as np\n",
        "import os, time, math, csv, joblib\n",
        "import pandas as pd\n",
        "import numpy as np\n",
        "import matplotlib.pyplot as plt\n",
        "import seaborn as sns\n",
        "from sklearn.model_selection import train_test_split\n",
        "from sklearn.preprocessing import MinMaxScaler\n",
        "from sklearn.mixture import GaussianMixture\n",
        "\n",
        "import os, time, math, csv, joblib\n",
        "import pandas as pd\n",
        "import numpy as np\n",
        "from sklearn.model_selection import train_test_split\n",
        "from sklearn.preprocessing import MinMaxScaler\n",
        "from sklearn.mixture import GaussianMixture\n",
        "\n",
        "import tensorflow\n",
        "import numpy\n",
        "import matplotlib.pyplot\n",
        "\n",
        "import warnings\n",
        "warnings.filterwarnings(\"ignore\")\n",
        "\n",
        "sns.set_theme()"
      ]
    },
    {
      "cell_type": "code",
      "source": [
        "#! pip uninstall tensorflow\n",
        "#! pip install tensorflow==2.3.0"
      ],
      "metadata": {
        "id": "1zAmXO6zhTxA"
      },
      "execution_count": null,
      "outputs": []
    },
    {
      "cell_type": "markdown",
      "source": [
        "# Load Enviroment"
      ],
      "metadata": {
        "id": "m50eRaG9XLVE"
      }
    },
    {
      "cell_type": "code",
      "source": [
        "# BLOQUE PARA USAR DESDE COLAB\n",
        "\n",
        "# Google drive loading as work station for local-usage of the files.\n",
        "from google.colab import drive\n",
        "drive.mount('/content/gdrive',force_remount= True)\n",
        "\n",
        "#-----------------------------------------------------------------------------"
      ],
      "metadata": {
        "colab": {
          "base_uri": "https://localhost:8080/"
        },
        "id": "MqKIbK7dXOab",
        "outputId": "f7e2aa74-901b-4d43-cf74-0aa34a2fc446"
      },
      "execution_count": 2,
      "outputs": [
        {
          "output_type": "stream",
          "name": "stdout",
          "text": [
            "Mounted at /content/gdrive\n"
          ]
        }
      ]
    },
    {
      "cell_type": "code",
      "source": [
        "# Lista para cambiar los paths rapido.\n",
        "workers = [\"Ronald\", \"Local\"]\n",
        "\n",
        "# Change the number to change the paths.\n",
        "worker = workers[0]\n",
        "\n",
        "if worker == \"Ronald\":\n",
        "  path = \"/content/gdrive/MyDrive/Thesis_Workstation/ANN_dataset\"\n",
        "else: path = os.getcwd()"
      ],
      "metadata": {
        "id": "9FQlwUh1XQgj"
      },
      "execution_count": 3,
      "outputs": []
    },
    {
      "cell_type": "markdown",
      "source": [
        ""
      ],
      "metadata": {
        "id": "ZPlQ2PaYfxEZ"
      }
    },
    {
      "cell_type": "markdown",
      "source": [
        "# Pre-procesing"
      ],
      "metadata": {
        "id": "T6lkjt0IXSRq"
      }
    },
    {
      "cell_type": "markdown",
      "source": [
        "## Get working df"
      ],
      "metadata": {
        "id": "dUHKBq43fyxi"
      }
    },
    {
      "cell_type": "code",
      "source": [
        "def prime_number_finder(stop_gap, total_num_of_data):\n",
        "  prime_nums = []\n",
        "  i=2\n",
        "  while i <= stop_gap:\n",
        "    if (total_num_of_data % i==0):\n",
        "      prime_nums.append(i)\n",
        "      break\n",
        "    i+=1\n",
        "  return prime_nums\n",
        "\n",
        "def aggreagator_v2(df, stop_gap=50):\n",
        "  total_num_of_data = df.shape[1]\n",
        "  arr_prime = prime_number_finder(stop_gap, total_num_of_data)\n",
        "  #agg_num = np.max(arr_prime)\n",
        "  agg_num = arr_prime[0]\n",
        "\n",
        "  # Creating new df of aggregate values\n",
        "  agg_df = pd.DataFrame()\n",
        "\n",
        "  mid_point = df.shape[1]/2\n",
        "\n",
        "  agg=0\n",
        "  loop_cnt=0\n",
        "  init_column_cnt = 5\n",
        "  while agg<=total_num_of_data:\n",
        "    loop_cnt+=1\n",
        "    # Obtain current last columns stop\n",
        "    agg=agg_num+init_column_cnt\n",
        "    # Select working columns\n",
        "    new_df = df[df.columns[init_column_cnt:agg]]\n",
        "\n",
        "    init_column_cnt += (agg_num)\n",
        "\n",
        "    headers = list(new_df.columns.values) \n",
        "    if loop_cnt <= mid_point:\n",
        "      # Get average of freq values for new header\n",
        "      new_header_name  = headers[-1]\n",
        "    else:\n",
        "      new_header_name = headers[0]\n",
        "    \n",
        "    # Add aggragated values to new df\n",
        "    agg_df[new_header_name] = new_df.mean(axis = 1)\n",
        "  return agg_df\n",
        "\n",
        "def remove_tail(df, cut_val, sample_id):\n",
        "  columns_selected = []\n",
        "  old_val = 0\n",
        "  delta = 0\n",
        "  mid_point = int(df.shape[1]/2)\n",
        "  cols_headers  = list(df.columns.values)\n",
        "\n",
        "  for i in range(0, df.shape[1]):\n",
        "    if i == 0:\n",
        "      cell_val = df.iloc[[0], i]\n",
        "      old_val = cell_val[sample_id]\n",
        "    else:\n",
        "      cell_val = df.iloc[[0], i]\n",
        "      val = cell_val[sample_id]\n",
        "      delta = abs(old_val-val)\n",
        "      old_val = val\n",
        "      if delta > cut_val:\n",
        "        if i <= mid_point:\n",
        "          col_name_selected = cols_headers[i+2]\n",
        "        else:\n",
        "          col_name_selected = cols_headers[i-2]\n",
        "          col_name_selected = round(float(col_name_selected), 5)\n",
        "        columns_selected.append(col_name_selected)\n",
        "\n",
        "  return columns_selected\n",
        "\n",
        "# Removing tails conducting multiples loops with variable cutoff value until we get only two columns\n",
        "def remove_tail_main(df, cut_val, sample_id):\n",
        "  old_drop_cols = []\n",
        "  drop_cols = remove_tail(df, cut_val, sample_id)\n",
        "  while len(drop_cols) != 2:  \n",
        "    # If len of columns to be dropped are 0 the select the 2 values smaller and bigger of the previous iteration\n",
        "    if len(drop_cols) == 0 or len(drop_cols) == 1:\n",
        "      drop_cols = [np.min(old_drop_cols), np.max(old_drop_cols)]\n",
        "      break\n",
        "    else:\n",
        "      old_drop_cols = drop_cols\n",
        "      drop_cols = remove_tail(df, cut_val, sample_id)\n",
        "      cut_val += 2\n",
        "  return drop_cols\n",
        "\n",
        "def get_working_data_idx_v2(df_mean_sample, sample_id, cut_val = 0):\n",
        "\n",
        "  df = df_mean_sample.iloc[[sample_id - 1]]\n",
        "\n",
        "  agg_df = aggreagator_v2(df)\n",
        "  \n",
        "  col_vals = remove_tail_main(df, cut_val=cut_val, sample_id=sample_id)\n",
        "\n",
        "  left_index_no = df.columns.get_loc(col_vals[0])\n",
        "  rigth_index_no = df.columns.get_loc(col_vals[1])\n",
        "\n",
        "  return left_index_no, rigth_index_no\n",
        "\n",
        "def cut_off_idx(df): # return tuple with cut-off values (index_left_side, index_rigth_side)\n",
        "  df_mean_sample = df.groupby(['PBRS_id']).mean()\n",
        "  df_mean_sample = df_mean_sample.drop(['row', 'Channels', 'Distance_km', 'power_dBm'], axis = 1)\n",
        "\n",
        "  cut_points = {}\n",
        "  print('Calculating the cutoff values:')\n",
        "  for sample in tqdm(df_mean_sample.index):\n",
        "    left_index_no, rigth_index_no = get_working_data_idx_v2(df_mean_sample, sample_id = sample)\n",
        "    cut_points[sample] = (left_index_no, rigth_index_no)\n",
        "\n",
        "  left_cut_off = np.min([v[0] for k, v in cut_points.items()])\n",
        "  rigth_cut_off = np.max([v[1] for k, v in cut_points.items()])\n",
        "\n",
        "  cut_point = (left_cut_off, rigth_cut_off)\n",
        "  return cut_point"
      ],
      "metadata": {
        "id": "Sfd3ijQUf0kY"
      },
      "execution_count": 455,
      "outputs": []
    },
    {
      "cell_type": "markdown",
      "source": [
        "### Cutoff main"
      ],
      "metadata": {
        "id": "6JyU7veggPqn"
      }
    },
    {
      "cell_type": "code",
      "source": [
        "def select_working_data(df, cut_point): # implement cut_off values and Smoothing original df after cutt-of\n",
        "  extra_info_df = df.iloc[:, 0:6]\n",
        "  data_df = df.iloc[:, cut_point[0]+6:cut_point[1]+6]\n",
        "  smoothed_data_frame = pd.DataFrame(savgol_filter(data_df, window_length = 5, polyorder = 2))\n",
        "  \n",
        "  # Adding back headers to the smoothed data\n",
        "  rename_col = {}\n",
        "  cnt = 0\n",
        "  for col in data_df.columns:\n",
        "    h_col = round(float(col), 5)\n",
        "    rename_col[cnt] = h_col\n",
        "    cnt += 1\n",
        "  smoothed_data_frame.rename(columns=rename_col, inplace=True)\n",
        "\n",
        "  working_df = pd.merge(extra_info_df, smoothed_data_frame, left_index=True, right_index=True)\n",
        "  return working_df\n",
        "  \n",
        "def main_cutoff(input_path):\n",
        "  print('Reading data from file.')\n",
        "  df = pd.read_excel(input_path, sheet_name = \"Sheet1\", skiprows=1)\n",
        "  df.iloc[0].fillna(method='bfill', inplace=True)\n",
        "  df.iloc[1:df.shape[0]].fillna(method='pad', inplace=True)\n",
        "  # Adding missing PBRS_id\n",
        "  snippet = []\n",
        "  val_cnt = 1\n",
        "  idx = 0\n",
        "  for sample in range(1, 101):\n",
        "    for sample_id in range(0, 25):\n",
        "      df.at[idx, 'PBRS_id'] = val_cnt\n",
        "      idx +=1\n",
        "      snippet.append(val_cnt)\n",
        "    val_cnt += 1\n",
        "  df['PBRS_id'] = df['PBRS_id'].astype(int)\n",
        "\n",
        "  cut_point = cut_off_idx(df)\n",
        "  working_df = select_working_data(df, cut_point)\n",
        "\n",
        "  return working_df"
      ],
      "metadata": {
        "id": "tOM9kIysgclQ"
      },
      "execution_count": 456,
      "outputs": []
    },
    {
      "cell_type": "code",
      "source": [
        "#input_path = path + \"/Spectrum/16QAM_v2/Copy of dataSet_gamma0_Spectrum31MHz_Samples_16QAM_75GHz_LongHaul_input_25x81km_primeStep.xlsx\"\n",
        "#orking_df = main_cutoff(input_path)\n",
        "#display(working_df)\n",
        "\n",
        "#working_df.to_csv(path+\"/Spectrum/NN/new_data_working_df.csv\", index=False)"
      ],
      "metadata": {
        "id": "tOZU5DcTglFg"
      },
      "execution_count": 457,
      "outputs": []
    },
    {
      "cell_type": "markdown",
      "source": [
        "## Get data"
      ],
      "metadata": {
        "id": "hfqT1A_mf0t1"
      }
    },
    {
      "cell_type": "code",
      "source": [
        "input_path = path + \"/Spectrum/NN/new_data_working_df.csv\"\n",
        "\n",
        "working_df = pd.read_csv(input_path)\n",
        "working_df['Distance_km'] = working_df['Distance_km'].astype(int)"
      ],
      "metadata": {
        "id": "6oL6LiSgXU54"
      },
      "execution_count": 458,
      "outputs": []
    },
    {
      "cell_type": "code",
      "source": [
        "def frequencies_filter(df, num_selected_freq=20):\n",
        "  info_df = df.iloc[:, 0:6]\n",
        "  data_df = df.iloc[:, 1:df.shape[1]]\n",
        "  span_val = int(data_df.shape[1]/num_selected_freq)\n",
        "  for i in range(num_selected_freq):\n",
        "    df2 = data_df.iloc[:, (i+1)*span_val].to_frame()\n",
        "    if i+1 == 1:\n",
        "      new_df = df2\n",
        "    else:\n",
        "      new_df = pd.merge(new_df, df2, left_index=True, right_index=True)\n",
        "  new_df = info_df.join(new_df)\n",
        "  \n",
        "  return new_df"
      ],
      "metadata": {
        "id": "z9gLmIPMgK7Q"
      },
      "execution_count": 459,
      "outputs": []
    },
    {
      "cell_type": "code",
      "source": [
        "def get_data(working_df, distances, num_features = 20, span_length=80, min_dist = 0, max_dist = 3000):\n",
        "  X=None\n",
        "  Y=np.array([])\n",
        "  dist_df = working_df.iloc[:, 3]\n",
        "  freq_df = working_df.iloc[:, 6:working_df.shape[1]]\n",
        "  samples_df = pd.merge(dist_df, freq_df, left_index=True, right_index=True)\n",
        "  samples_df = samples_df.sort_values(by='Distance_km')\n",
        "  if num_features != 'all':\n",
        "    samples_df = frequencies_filter(samples_df, num_selected_freq = num_features)\n",
        "  Y = samples_df.iloc[:, 0].to_numpy().astype('int').tolist()\n",
        "  X = samples_df.iloc[:, 1:samples_df.shape[1]]\n",
        "  \n",
        "  return X, Y, samples_df"
      ],
      "metadata": {
        "id": "AvBhc_XoXXKQ"
      },
      "execution_count": 460,
      "outputs": []
    },
    {
      "cell_type": "code",
      "source": [
        "#input_data_path=path+\"/rawData\"\n",
        "#distances=[i for i in range(1,26)]\n",
        "distances = [x*80 for x in range(1, 26)]\n",
        "X, Y, samples_filtered_df = get_data(working_df, distances, num_features = 'all', span_length=80,  min_dist = 0, max_dist = 3000)"
      ],
      "metadata": {
        "id": "RfkozzHnXj6u"
      },
      "execution_count": 461,
      "outputs": []
    },
    {
      "cell_type": "code",
      "source": [
        "samples_filtered_df"
      ],
      "metadata": {
        "colab": {
          "base_uri": "https://localhost:8080/",
          "height": 488
        },
        "id": "OSC06AG6epaG",
        "outputId": "a6d77523-6073-4fde-900c-4bd0e53c78a3"
      },
      "execution_count": 462,
      "outputs": [
        {
          "output_type": "execute_result",
          "data": {
            "text/plain": [
              "      Distance_km  -39.90625    -39.875  -39.84375   -39.8125  -39.78125  \\\n",
              "0              80 -65.158556 -66.359675 -66.708836 -71.777931 -66.092081   \n",
              "125            80 -54.902319 -57.469566 -58.650167 -58.256577 -57.120871   \n",
              "975            80 -55.246289 -58.903165 -59.936123 -58.754704 -53.084186   \n",
              "1000           80 -58.769150 -60.644357 -61.903338 -66.371732 -60.697843   \n",
              "1025           80 -62.672232 -63.551920 -63.130158 -61.900052 -61.208010   \n",
              "...           ...        ...        ...        ...        ...        ...   \n",
              "1699         2000 -39.060418 -40.089715 -39.184312 -33.321699 -32.394581   \n",
              "1724         2000 -45.777276 -39.520381 -35.212366 -31.215854 -31.976366   \n",
              "1749         2000 -33.005394 -37.672756 -39.242985 -37.025965 -37.250896   \n",
              "2399         2000 -36.358480 -32.709908 -31.364002 -33.805751 -35.584646   \n",
              "2499         2000 -36.594143 -34.475890 -33.258314 -32.997151 -34.153190   \n",
              "\n",
              "         -39.75  -39.71875   -39.6875  -39.65625  ...    34.6875   34.71875  \\\n",
              "0    -53.716181 -56.447556 -55.216247 -54.921922  ... -59.107222 -62.993632   \n",
              "125  -54.832446 -56.585764 -58.167556 -57.408129  ... -57.627135 -64.548644   \n",
              "975  -50.990158 -51.881985 -58.366417 -61.236644  ... -58.538788 -60.779631   \n",
              "1000 -58.893096 -60.500364 -63.977091 -61.713541  ... -61.793840 -58.908770   \n",
              "1025 -62.534571 -63.881451 -61.861091 -67.207673  ... -59.124382 -59.038588   \n",
              "...         ...        ...        ...        ...  ...        ...        ...   \n",
              "1699 -30.766774 -35.433400 -39.636295 -39.572805  ... -36.158246 -34.974566   \n",
              "1724 -33.063281 -32.262853 -35.781499 -35.580851  ... -32.811077 -33.647974   \n",
              "1749 -32.485086 -34.725450 -31.833082 -35.461288  ... -39.867905 -42.487405   \n",
              "2399 -32.223232 -30.862095 -28.720843 -31.102346  ... -34.051539 -35.013313   \n",
              "2499 -33.800276 -39.023602 -39.579739 -37.540062  ... -36.764209 -32.024320   \n",
              "\n",
              "          34.75   34.78125    34.8125   34.84375     34.875   34.90625  \\\n",
              "0    -54.834111 -54.361885 -64.653201 -69.901475 -61.469377 -54.784317   \n",
              "125  -65.637002 -63.156643 -58.177577 -59.985663 -58.031358 -60.922607   \n",
              "975  -60.445396 -60.851264 -59.971745 -59.222002 -61.642559 -61.885148   \n",
              "1000 -60.404921 -60.130890 -61.535060 -55.319260 -59.725285 -63.973778   \n",
              "1025 -59.114337 -57.422896 -57.627687 -57.376619 -56.733160 -58.539036   \n",
              "...         ...        ...        ...        ...        ...        ...   \n",
              "1699 -33.677152 -32.461789 -31.697031 -30.033924 -33.492361 -34.387412   \n",
              "1724 -34.523244 -34.873656 -38.167460 -35.568105 -38.499464 -41.863667   \n",
              "1749 -36.881447 -32.796440 -31.492113 -36.181981 -36.404388 -32.599868   \n",
              "2399 -33.634516 -34.267799 -36.189625 -35.279263 -33.557900 -30.107759   \n",
              "2499 -34.295020 -33.652013 -33.606912 -39.131861 -38.559208 -37.035780   \n",
              "\n",
              "        34.9375   34.96875  \n",
              "0    -55.229285 -61.405108  \n",
              "125  -59.679082 -56.034034  \n",
              "975  -61.544703 -59.897084  \n",
              "1000 -61.619858 -53.937357  \n",
              "1025 -58.086162 -56.690199  \n",
              "...         ...        ...  \n",
              "1699 -33.308819 -30.242322  \n",
              "1724 -44.503764 -46.884585  \n",
              "1749 -32.605291 -35.086710  \n",
              "2399 -31.016528 -34.939487  \n",
              "2499 -35.035530 -31.978698  \n",
              "\n",
              "[2500 rows x 2398 columns]"
            ],
            "text/html": [
              "\n",
              "  <div id=\"df-e34d8c2d-d856-4567-b05d-2c59139aa86a\">\n",
              "    <div class=\"colab-df-container\">\n",
              "      <div>\n",
              "<style scoped>\n",
              "    .dataframe tbody tr th:only-of-type {\n",
              "        vertical-align: middle;\n",
              "    }\n",
              "\n",
              "    .dataframe tbody tr th {\n",
              "        vertical-align: top;\n",
              "    }\n",
              "\n",
              "    .dataframe thead th {\n",
              "        text-align: right;\n",
              "    }\n",
              "</style>\n",
              "<table border=\"1\" class=\"dataframe\">\n",
              "  <thead>\n",
              "    <tr style=\"text-align: right;\">\n",
              "      <th></th>\n",
              "      <th>Distance_km</th>\n",
              "      <th>-39.90625</th>\n",
              "      <th>-39.875</th>\n",
              "      <th>-39.84375</th>\n",
              "      <th>-39.8125</th>\n",
              "      <th>-39.78125</th>\n",
              "      <th>-39.75</th>\n",
              "      <th>-39.71875</th>\n",
              "      <th>-39.6875</th>\n",
              "      <th>-39.65625</th>\n",
              "      <th>...</th>\n",
              "      <th>34.6875</th>\n",
              "      <th>34.71875</th>\n",
              "      <th>34.75</th>\n",
              "      <th>34.78125</th>\n",
              "      <th>34.8125</th>\n",
              "      <th>34.84375</th>\n",
              "      <th>34.875</th>\n",
              "      <th>34.90625</th>\n",
              "      <th>34.9375</th>\n",
              "      <th>34.96875</th>\n",
              "    </tr>\n",
              "  </thead>\n",
              "  <tbody>\n",
              "    <tr>\n",
              "      <th>0</th>\n",
              "      <td>80</td>\n",
              "      <td>-65.158556</td>\n",
              "      <td>-66.359675</td>\n",
              "      <td>-66.708836</td>\n",
              "      <td>-71.777931</td>\n",
              "      <td>-66.092081</td>\n",
              "      <td>-53.716181</td>\n",
              "      <td>-56.447556</td>\n",
              "      <td>-55.216247</td>\n",
              "      <td>-54.921922</td>\n",
              "      <td>...</td>\n",
              "      <td>-59.107222</td>\n",
              "      <td>-62.993632</td>\n",
              "      <td>-54.834111</td>\n",
              "      <td>-54.361885</td>\n",
              "      <td>-64.653201</td>\n",
              "      <td>-69.901475</td>\n",
              "      <td>-61.469377</td>\n",
              "      <td>-54.784317</td>\n",
              "      <td>-55.229285</td>\n",
              "      <td>-61.405108</td>\n",
              "    </tr>\n",
              "    <tr>\n",
              "      <th>125</th>\n",
              "      <td>80</td>\n",
              "      <td>-54.902319</td>\n",
              "      <td>-57.469566</td>\n",
              "      <td>-58.650167</td>\n",
              "      <td>-58.256577</td>\n",
              "      <td>-57.120871</td>\n",
              "      <td>-54.832446</td>\n",
              "      <td>-56.585764</td>\n",
              "      <td>-58.167556</td>\n",
              "      <td>-57.408129</td>\n",
              "      <td>...</td>\n",
              "      <td>-57.627135</td>\n",
              "      <td>-64.548644</td>\n",
              "      <td>-65.637002</td>\n",
              "      <td>-63.156643</td>\n",
              "      <td>-58.177577</td>\n",
              "      <td>-59.985663</td>\n",
              "      <td>-58.031358</td>\n",
              "      <td>-60.922607</td>\n",
              "      <td>-59.679082</td>\n",
              "      <td>-56.034034</td>\n",
              "    </tr>\n",
              "    <tr>\n",
              "      <th>975</th>\n",
              "      <td>80</td>\n",
              "      <td>-55.246289</td>\n",
              "      <td>-58.903165</td>\n",
              "      <td>-59.936123</td>\n",
              "      <td>-58.754704</td>\n",
              "      <td>-53.084186</td>\n",
              "      <td>-50.990158</td>\n",
              "      <td>-51.881985</td>\n",
              "      <td>-58.366417</td>\n",
              "      <td>-61.236644</td>\n",
              "      <td>...</td>\n",
              "      <td>-58.538788</td>\n",
              "      <td>-60.779631</td>\n",
              "      <td>-60.445396</td>\n",
              "      <td>-60.851264</td>\n",
              "      <td>-59.971745</td>\n",
              "      <td>-59.222002</td>\n",
              "      <td>-61.642559</td>\n",
              "      <td>-61.885148</td>\n",
              "      <td>-61.544703</td>\n",
              "      <td>-59.897084</td>\n",
              "    </tr>\n",
              "    <tr>\n",
              "      <th>1000</th>\n",
              "      <td>80</td>\n",
              "      <td>-58.769150</td>\n",
              "      <td>-60.644357</td>\n",
              "      <td>-61.903338</td>\n",
              "      <td>-66.371732</td>\n",
              "      <td>-60.697843</td>\n",
              "      <td>-58.893096</td>\n",
              "      <td>-60.500364</td>\n",
              "      <td>-63.977091</td>\n",
              "      <td>-61.713541</td>\n",
              "      <td>...</td>\n",
              "      <td>-61.793840</td>\n",
              "      <td>-58.908770</td>\n",
              "      <td>-60.404921</td>\n",
              "      <td>-60.130890</td>\n",
              "      <td>-61.535060</td>\n",
              "      <td>-55.319260</td>\n",
              "      <td>-59.725285</td>\n",
              "      <td>-63.973778</td>\n",
              "      <td>-61.619858</td>\n",
              "      <td>-53.937357</td>\n",
              "    </tr>\n",
              "    <tr>\n",
              "      <th>1025</th>\n",
              "      <td>80</td>\n",
              "      <td>-62.672232</td>\n",
              "      <td>-63.551920</td>\n",
              "      <td>-63.130158</td>\n",
              "      <td>-61.900052</td>\n",
              "      <td>-61.208010</td>\n",
              "      <td>-62.534571</td>\n",
              "      <td>-63.881451</td>\n",
              "      <td>-61.861091</td>\n",
              "      <td>-67.207673</td>\n",
              "      <td>...</td>\n",
              "      <td>-59.124382</td>\n",
              "      <td>-59.038588</td>\n",
              "      <td>-59.114337</td>\n",
              "      <td>-57.422896</td>\n",
              "      <td>-57.627687</td>\n",
              "      <td>-57.376619</td>\n",
              "      <td>-56.733160</td>\n",
              "      <td>-58.539036</td>\n",
              "      <td>-58.086162</td>\n",
              "      <td>-56.690199</td>\n",
              "    </tr>\n",
              "    <tr>\n",
              "      <th>...</th>\n",
              "      <td>...</td>\n",
              "      <td>...</td>\n",
              "      <td>...</td>\n",
              "      <td>...</td>\n",
              "      <td>...</td>\n",
              "      <td>...</td>\n",
              "      <td>...</td>\n",
              "      <td>...</td>\n",
              "      <td>...</td>\n",
              "      <td>...</td>\n",
              "      <td>...</td>\n",
              "      <td>...</td>\n",
              "      <td>...</td>\n",
              "      <td>...</td>\n",
              "      <td>...</td>\n",
              "      <td>...</td>\n",
              "      <td>...</td>\n",
              "      <td>...</td>\n",
              "      <td>...</td>\n",
              "      <td>...</td>\n",
              "      <td>...</td>\n",
              "    </tr>\n",
              "    <tr>\n",
              "      <th>1699</th>\n",
              "      <td>2000</td>\n",
              "      <td>-39.060418</td>\n",
              "      <td>-40.089715</td>\n",
              "      <td>-39.184312</td>\n",
              "      <td>-33.321699</td>\n",
              "      <td>-32.394581</td>\n",
              "      <td>-30.766774</td>\n",
              "      <td>-35.433400</td>\n",
              "      <td>-39.636295</td>\n",
              "      <td>-39.572805</td>\n",
              "      <td>...</td>\n",
              "      <td>-36.158246</td>\n",
              "      <td>-34.974566</td>\n",
              "      <td>-33.677152</td>\n",
              "      <td>-32.461789</td>\n",
              "      <td>-31.697031</td>\n",
              "      <td>-30.033924</td>\n",
              "      <td>-33.492361</td>\n",
              "      <td>-34.387412</td>\n",
              "      <td>-33.308819</td>\n",
              "      <td>-30.242322</td>\n",
              "    </tr>\n",
              "    <tr>\n",
              "      <th>1724</th>\n",
              "      <td>2000</td>\n",
              "      <td>-45.777276</td>\n",
              "      <td>-39.520381</td>\n",
              "      <td>-35.212366</td>\n",
              "      <td>-31.215854</td>\n",
              "      <td>-31.976366</td>\n",
              "      <td>-33.063281</td>\n",
              "      <td>-32.262853</td>\n",
              "      <td>-35.781499</td>\n",
              "      <td>-35.580851</td>\n",
              "      <td>...</td>\n",
              "      <td>-32.811077</td>\n",
              "      <td>-33.647974</td>\n",
              "      <td>-34.523244</td>\n",
              "      <td>-34.873656</td>\n",
              "      <td>-38.167460</td>\n",
              "      <td>-35.568105</td>\n",
              "      <td>-38.499464</td>\n",
              "      <td>-41.863667</td>\n",
              "      <td>-44.503764</td>\n",
              "      <td>-46.884585</td>\n",
              "    </tr>\n",
              "    <tr>\n",
              "      <th>1749</th>\n",
              "      <td>2000</td>\n",
              "      <td>-33.005394</td>\n",
              "      <td>-37.672756</td>\n",
              "      <td>-39.242985</td>\n",
              "      <td>-37.025965</td>\n",
              "      <td>-37.250896</td>\n",
              "      <td>-32.485086</td>\n",
              "      <td>-34.725450</td>\n",
              "      <td>-31.833082</td>\n",
              "      <td>-35.461288</td>\n",
              "      <td>...</td>\n",
              "      <td>-39.867905</td>\n",
              "      <td>-42.487405</td>\n",
              "      <td>-36.881447</td>\n",
              "      <td>-32.796440</td>\n",
              "      <td>-31.492113</td>\n",
              "      <td>-36.181981</td>\n",
              "      <td>-36.404388</td>\n",
              "      <td>-32.599868</td>\n",
              "      <td>-32.605291</td>\n",
              "      <td>-35.086710</td>\n",
              "    </tr>\n",
              "    <tr>\n",
              "      <th>2399</th>\n",
              "      <td>2000</td>\n",
              "      <td>-36.358480</td>\n",
              "      <td>-32.709908</td>\n",
              "      <td>-31.364002</td>\n",
              "      <td>-33.805751</td>\n",
              "      <td>-35.584646</td>\n",
              "      <td>-32.223232</td>\n",
              "      <td>-30.862095</td>\n",
              "      <td>-28.720843</td>\n",
              "      <td>-31.102346</td>\n",
              "      <td>...</td>\n",
              "      <td>-34.051539</td>\n",
              "      <td>-35.013313</td>\n",
              "      <td>-33.634516</td>\n",
              "      <td>-34.267799</td>\n",
              "      <td>-36.189625</td>\n",
              "      <td>-35.279263</td>\n",
              "      <td>-33.557900</td>\n",
              "      <td>-30.107759</td>\n",
              "      <td>-31.016528</td>\n",
              "      <td>-34.939487</td>\n",
              "    </tr>\n",
              "    <tr>\n",
              "      <th>2499</th>\n",
              "      <td>2000</td>\n",
              "      <td>-36.594143</td>\n",
              "      <td>-34.475890</td>\n",
              "      <td>-33.258314</td>\n",
              "      <td>-32.997151</td>\n",
              "      <td>-34.153190</td>\n",
              "      <td>-33.800276</td>\n",
              "      <td>-39.023602</td>\n",
              "      <td>-39.579739</td>\n",
              "      <td>-37.540062</td>\n",
              "      <td>...</td>\n",
              "      <td>-36.764209</td>\n",
              "      <td>-32.024320</td>\n",
              "      <td>-34.295020</td>\n",
              "      <td>-33.652013</td>\n",
              "      <td>-33.606912</td>\n",
              "      <td>-39.131861</td>\n",
              "      <td>-38.559208</td>\n",
              "      <td>-37.035780</td>\n",
              "      <td>-35.035530</td>\n",
              "      <td>-31.978698</td>\n",
              "    </tr>\n",
              "  </tbody>\n",
              "</table>\n",
              "<p>2500 rows × 2398 columns</p>\n",
              "</div>\n",
              "      <button class=\"colab-df-convert\" onclick=\"convertToInteractive('df-e34d8c2d-d856-4567-b05d-2c59139aa86a')\"\n",
              "              title=\"Convert this dataframe to an interactive table.\"\n",
              "              style=\"display:none;\">\n",
              "        \n",
              "  <svg xmlns=\"http://www.w3.org/2000/svg\" height=\"24px\"viewBox=\"0 0 24 24\"\n",
              "       width=\"24px\">\n",
              "    <path d=\"M0 0h24v24H0V0z\" fill=\"none\"/>\n",
              "    <path d=\"M18.56 5.44l.94 2.06.94-2.06 2.06-.94-2.06-.94-.94-2.06-.94 2.06-2.06.94zm-11 1L8.5 8.5l.94-2.06 2.06-.94-2.06-.94L8.5 2.5l-.94 2.06-2.06.94zm10 10l.94 2.06.94-2.06 2.06-.94-2.06-.94-.94-2.06-.94 2.06-2.06.94z\"/><path d=\"M17.41 7.96l-1.37-1.37c-.4-.4-.92-.59-1.43-.59-.52 0-1.04.2-1.43.59L10.3 9.45l-7.72 7.72c-.78.78-.78 2.05 0 2.83L4 21.41c.39.39.9.59 1.41.59.51 0 1.02-.2 1.41-.59l7.78-7.78 2.81-2.81c.8-.78.8-2.07 0-2.86zM5.41 20L4 18.59l7.72-7.72 1.47 1.35L5.41 20z\"/>\n",
              "  </svg>\n",
              "      </button>\n",
              "      \n",
              "  <style>\n",
              "    .colab-df-container {\n",
              "      display:flex;\n",
              "      flex-wrap:wrap;\n",
              "      gap: 12px;\n",
              "    }\n",
              "\n",
              "    .colab-df-convert {\n",
              "      background-color: #E8F0FE;\n",
              "      border: none;\n",
              "      border-radius: 50%;\n",
              "      cursor: pointer;\n",
              "      display: none;\n",
              "      fill: #1967D2;\n",
              "      height: 32px;\n",
              "      padding: 0 0 0 0;\n",
              "      width: 32px;\n",
              "    }\n",
              "\n",
              "    .colab-df-convert:hover {\n",
              "      background-color: #E2EBFA;\n",
              "      box-shadow: 0px 1px 2px rgba(60, 64, 67, 0.3), 0px 1px 3px 1px rgba(60, 64, 67, 0.15);\n",
              "      fill: #174EA6;\n",
              "    }\n",
              "\n",
              "    [theme=dark] .colab-df-convert {\n",
              "      background-color: #3B4455;\n",
              "      fill: #D2E3FC;\n",
              "    }\n",
              "\n",
              "    [theme=dark] .colab-df-convert:hover {\n",
              "      background-color: #434B5C;\n",
              "      box-shadow: 0px 1px 3px 1px rgba(0, 0, 0, 0.15);\n",
              "      filter: drop-shadow(0px 1px 2px rgba(0, 0, 0, 0.3));\n",
              "      fill: #FFFFFF;\n",
              "    }\n",
              "  </style>\n",
              "\n",
              "      <script>\n",
              "        const buttonEl =\n",
              "          document.querySelector('#df-e34d8c2d-d856-4567-b05d-2c59139aa86a button.colab-df-convert');\n",
              "        buttonEl.style.display =\n",
              "          google.colab.kernel.accessAllowed ? 'block' : 'none';\n",
              "\n",
              "        async function convertToInteractive(key) {\n",
              "          const element = document.querySelector('#df-e34d8c2d-d856-4567-b05d-2c59139aa86a');\n",
              "          const dataTable =\n",
              "            await google.colab.kernel.invokeFunction('convertToInteractive',\n",
              "                                                     [key], {});\n",
              "          if (!dataTable) return;\n",
              "\n",
              "          const docLinkHtml = 'Like what you see? Visit the ' +\n",
              "            '<a target=\"_blank\" href=https://colab.research.google.com/notebooks/data_table.ipynb>data table notebook</a>'\n",
              "            + ' to learn more about interactive tables.';\n",
              "          element.innerHTML = '';\n",
              "          dataTable['output_type'] = 'display_data';\n",
              "          await google.colab.output.renderOutput(dataTable, element);\n",
              "          const docLink = document.createElement('div');\n",
              "          docLink.innerHTML = docLinkHtml;\n",
              "          element.appendChild(docLink);\n",
              "        }\n",
              "      </script>\n",
              "    </div>\n",
              "  </div>\n",
              "  "
            ]
          },
          "metadata": {},
          "execution_count": 462
        }
      ]
    },
    {
      "cell_type": "markdown",
      "source": [
        "# Vanila Attack"
      ],
      "metadata": {
        "id": "QU_SPRfwgvAI"
      }
    },
    {
      "cell_type": "code",
      "source": [
        "# source_df = data that is wished to be modified\n",
        "# target_df = data that the source would convert\n",
        "\n",
        "source_df = samples_filtered_df.loc[samples_filtered_df['Distance_km'] == 2000]\n",
        "target_df = samples_filtered_df.loc[samples_filtered_df['Distance_km'] == 80]"
      ],
      "metadata": {
        "id": "6EO5_YSKeaO4"
      },
      "execution_count": 532,
      "outputs": []
    },
    {
      "cell_type": "code",
      "source": [
        "def get_eval_data(source_df, target_df, num_eval_samples = 10):\n",
        "  import random\n",
        "  source_val_list = [i for i in range(1, len(source_df))]\n",
        "  source_random_list = random.choices(source_val_list, k = num_eval_samples)\n",
        "\n",
        "  target_val_list = [i for i in range(1, len(target_df))]\n",
        "  target_random_list = random.choices(target_val_list, k = num_eval_samples)\n",
        "\n",
        "  eval_source_df = source_df.iloc[source_random_list]\n",
        "  eval_target_df = target_df.iloc[target_random_list]\n",
        "\n",
        "  return eval_source_df, eval_target_df"
      ],
      "metadata": {
        "id": "8Jgx2IuHjDSw"
      },
      "execution_count": 533,
      "outputs": []
    },
    {
      "cell_type": "code",
      "source": [
        "eval_source_df, eval_target_df = get_eval_data(source_df, target_df, num_eval_samples = 30)"
      ],
      "metadata": {
        "id": "Lah7wZrCiOFA"
      },
      "execution_count": 534,
      "outputs": []
    },
    {
      "cell_type": "code",
      "source": [
        "def get_filtered_data(df, alpha = 0.90):\n",
        "  data_df = df.iloc[:, 1:df.shape[1]]\n",
        "  ci_arr = []\n",
        "  filtered_data = []\n",
        "  mean_data = []\n",
        "  for i in range(1, data_df.shape[1]):\n",
        "    eval_col = data_df.iloc[:,i].to_numpy()\n",
        "    ci = st.t.interval(alpha=alpha, df=len(eval_col)-1, loc=np.mean(eval_col), scale=st.sem(eval_col))\n",
        "    ci = (round(ci[0], 5), round(ci[1], 5))\n",
        "    ci_arr.append(ci)\n",
        "    filter_data = eval_col[(eval_col > ci[0]) & (eval_col < ci[1])]\n",
        "    filter_data = np.round_(filter_data, decimals = 5)\n",
        "    filtered_data.append(filter_data)\n",
        "    mean_data.append(round(np.mean(filter_data), 5))\n",
        "  return ci_arr, filtered_data, mean_data"
      ],
      "metadata": {
        "id": "Xy_sX84eTnsX"
      },
      "execution_count": 535,
      "outputs": []
    },
    {
      "cell_type": "code",
      "source": [
        "source_ci_arr, source_filtered_data, source_mean_data = get_filtered_data(eval_source_df, alpha = 0.90)\n",
        "target_ci_arr, target_filtered_data, target_mean_data = get_filtered_data(eval_target_df, alpha = 0.90)\n",
        "print(source_ci_arr)"
      ],
      "metadata": {
        "id": "UPbQmfFKU8xM",
        "outputId": "1c12e449-279f-42b4-af33-8fef2b42e0ce",
        "colab": {
          "base_uri": "https://localhost:8080/"
        }
      },
      "execution_count": 536,
      "outputs": [
        {
          "output_type": "stream",
          "name": "stdout",
          "text": [
            "[(-35.99427, -34.43009), (-35.92229, -33.70381), (-36.90245, -34.93855), (-36.72498, -35.1117), (-35.86759, -33.18164), (-34.38638, -32.14202), (-33.94195, -31.84545), (-35.74291, -33.46985), (-37.39559, -33.99109), (-37.15365, -34.0391), (-35.6917, -33.25871), (-36.72493, -34.59638), (-36.45075, -33.82642), (-35.95974, -33.53001), (-35.13465, -32.71997), (-36.79921, -34.77622), (-36.37707, -33.9727), (-35.36943, -32.78244), (-35.21612, -32.13927), (-35.32456, -32.63899), (-36.4945, -33.84674), (-37.2381, -33.42559), (-37.63734, -34.85346), (-35.81309, -33.63104), (-36.93671, -34.1521), (-37.32351, -34.92873), (-38.27874, -35.86541), (-36.42122, -33.93576), (-35.67453, -33.24426), (-34.83996, -32.22917), (-35.62142, -33.09994), (-35.61298, -34.049), (-35.6972, -33.33452), (-36.71382, -34.3067), (-38.03232, -34.5652), (-38.7333, -34.8757), (-35.92146, -33.22985), (-35.67743, -33.49958), (-34.98641, -33.06358), (-35.95861, -33.76963), (-35.44762, -33.74021), (-36.20665, -34.50464), (-36.20751, -33.47362), (-36.48825, -34.04278), (-35.34661, -33.42821), (-35.77473, -33.59558), (-35.5217, -33.82404), (-36.37951, -33.97152), (-36.74946, -34.07994), (-36.60965, -33.84445), (-35.74311, -33.22384), (-35.25386, -33.11943), (-36.66094, -33.89879), (-36.76045, -34.3297), (-37.21858, -34.60741), (-36.88541, -34.80822), (-35.95033, -33.98962), (-34.80492, -32.91003), (-36.51333, -34.01884), (-37.10734, -34.54025), (-36.71184, -34.17395), (-34.99009, -33.31625), (-35.50029, -33.4434), (-35.34108, -32.4551), (-35.71247, -33.46561), (-36.3789, -34.5277), (-36.50627, -34.2794), (-35.82171, -33.65864), (-36.46081, -33.82221), (-36.61125, -34.44615), (-37.01829, -34.87685), (-37.1213, -35.01797), (-37.14518, -34.05635), (-36.18231, -32.80744), (-36.62178, -33.83762), (-36.14933, -33.37568), (-36.06855, -33.89829), (-36.2408, -33.50491), (-37.00242, -34.26853), (-35.54504, -33.21141), (-35.57378, -33.58546), (-35.60193, -33.68), (-36.07697, -33.70807), (-35.37201, -32.92672), (-35.47197, -33.42611), (-34.86401, -32.83157), (-35.46354, -33.11434), (-36.08676, -33.52825), (-37.26826, -34.80684), (-36.14094, -34.12706), (-35.7264, -33.55854), (-35.76278, -33.92378), (-36.31926, -33.93331), (-36.94845, -34.32025), (-36.74039, -33.9222), (-36.44614, -33.94223), (-35.37413, -33.71804), (-35.73775, -33.20794), (-36.21065, -33.29335), (-35.55557, -33.50257), (-35.23661, -33.51892), (-36.13034, -33.44452), (-37.08222, -34.70003), (-37.03149, -34.68311), (-36.49412, -34.40309), (-35.62821, -33.68634), (-36.17958, -33.89526), (-36.14255, -34.3121), (-37.3467, -34.49651), (-36.928, -34.21986), (-35.95439, -33.75529), (-35.43335, -33.28278), (-36.09703, -34.5014), (-36.49333, -35.01142), (-36.30107, -33.98036), (-35.94698, -33.28885), (-34.62956, -31.78303), (-33.43898, -31.07561), (-32.87623, -30.65123), (-32.6905, -30.56161), (-31.32697, -29.02965), (-32.57153, -29.75801), (-32.56709, -29.69791), (-32.5108, -28.87069), (-30.55309, -26.95231), (-29.65969, -26.32446), (-28.65042, -26.35106), (-28.4858, -26.07733), (-27.05596, -24.88623), (-26.15139, -24.50481), (-26.50316, -24.81917), (-26.37989, -24.44161), (-24.94074, -22.93771), (-23.80245, -21.73868), (-23.37944, -21.5636), (-24.44843, -22.31045), (-24.50118, -21.83052), (-23.97319, -21.08917), (-23.59036, -21.32116), (-24.0669, -21.42097), (-22.9648, -20.60537), (-22.34925, -20.56116), (-22.49773, -20.12852), (-22.18008, -19.68411), (-22.68772, -19.68838), (-23.75112, -19.90624), (-23.58175, -19.60737), (-21.45993, -18.93806), (-21.09791, -19.08125), (-20.97682, -18.5814), (-21.01404, -18.59731), (-21.14586, -18.81639), (-21.28407, -18.94686), (-20.43561, -18.20653), (-20.02689, -17.79044), (-19.1598, -16.69787), (-18.68953, -16.75715), (-19.54274, -16.29899), (-19.47713, -16.89902), (-18.22651, -16.34278), (-19.88485, -17.45486), (-20.21106, -17.63975), (-19.90859, -17.15087), (-18.97888, -16.37686), (-19.09009, -16.58508), (-17.17056, -14.20487), (-18.29363, -15.70912), (-18.27502, -15.47761), (-17.74737, -15.22283), (-15.66977, -13.47003), (-16.74423, -14.57453), (-17.67444, -15.06862), (-17.56875, -15.19241), (-16.59852, -14.28502), (-16.70896, -14.372), (-16.67848, -14.31777), (-15.89968, -13.63861), (-15.32985, -13.29095), (-17.17398, -14.34227), (-16.36817, -14.28273), (-15.49125, -13.16676), (-15.30925, -12.67475), (-16.03403, -13.70637), (-15.91489, -14.11275), (-16.16751, -14.42728), (-15.53933, -13.75531), (-14.22323, -12.68147), (-14.25697, -12.22617), (-14.41355, -12.04232), (-15.60359, -12.89806), (-15.5557, -12.78395), (-14.75854, -12.39313), (-13.46717, -11.68277), (-14.43293, -12.31483), (-15.50212, -13.34528), (-15.05732, -12.32898), (-15.13134, -12.50263), (-14.76107, -11.98305), (-15.18713, -12.2276), (-13.88657, -11.10592), (-14.48532, -11.30106), (-14.33099, -11.91354), (-15.78314, -13.41336), (-14.90559, -12.39505), (-14.48017, -12.04802), (-13.90796, -11.55141), (-13.7586, -11.28883), (-12.79621, -10.509), (-12.23331, -10.42415), (-12.73476, -10.62747), (-13.70733, -11.33519), (-13.15042, -11.01094), (-12.12728, -10.42172), (-12.17308, -10.24715), (-14.48196, -12.10322), (-13.35753, -11.13783), (-11.74516, -9.87513), (-12.90585, -10.27134), (-15.40212, -12.64676), (-14.6539, -12.42584), (-13.31823, -10.80727), (-14.66112, -11.75681), (-15.20713, -12.16333), (-13.25767, -10.2849), (-11.16095, -8.72234), (-12.79564, -10.16433), (-14.17437, -11.71396), (-13.88058, -11.52776), (-12.3992, -9.9511), (-12.65545, -10.79323), (-13.62102, -11.60987), (-14.65374, -12.11513), (-13.19995, -11.01212), (-13.3707, -10.62097), (-13.91648, -11.35121), (-13.82219, -11.32085), (-14.84457, -12.28936), (-13.88212, -11.17976), (-13.09566, -11.02458), (-10.82478, -9.12502), (-12.00688, -10.4077), (-12.55608, -10.01027), (-13.58801, -10.96196), (-13.73356, -11.18398), (-13.55581, -10.57462), (-13.57054, -11.31577), (-14.33576, -12.394), (-13.6492, -11.70595), (-13.55481, -11.95284), (-13.07875, -11.03763), (-13.54399, -11.39659), (-13.35882, -10.81408), (-13.21487, -10.43742), (-12.04336, -9.14666), (-10.79341, -9.04596), (-13.56623, -10.10361), (-14.69012, -10.59534), (-14.1903, -11.4599), (-12.39923, -9.95507), (-11.89724, -9.96354), (-11.95652, -9.93906), (-12.17013, -9.89452), (-12.70623, -10.45523), (-13.16331, -11.03185), (-12.4967, -10.78304), (-12.12233, -9.4127), (-11.78053, -9.11892), (-13.11255, -10.5961), (-13.60497, -11.10519), (-13.93477, -11.55503), (-12.51853, -9.82354), (-13.99312, -11.2814), (-14.16157, -11.37021), (-14.14393, -11.14053), (-12.06455, -9.61787), (-12.37361, -10.11647), (-12.49694, -10.49066), (-12.30006, -10.08609), (-12.09874, -9.99173), (-12.66041, -10.41955), (-13.3923, -11.36663), (-13.31613, -10.75472), (-13.08409, -10.2545), (-12.83368, -10.74114), (-12.21917, -10.48878), (-11.5934, -9.65033), (-12.2185, -9.31803), (-12.46997, -9.70181), (-13.26377, -11.07602), (-14.02025, -11.39002), (-14.74194, -12.05187), (-12.55384, -9.79218), (-11.11707, -8.82649), (-12.1076, -9.9298), (-13.77052, -11.73886), (-12.91882, -10.53014), (-12.97273, -10.12547), (-14.75935, -11.00469), (-14.54821, -11.42501), (-11.55636, -9.32551), (-13.22551, -10.45182), (-14.5837, -11.54329), (-14.47044, -11.75791), (-13.2562, -10.70316), (-12.78239, -10.0954), (-12.54653, -10.20653), (-12.3138, -9.73811), (-13.34518, -10.85747), (-13.13853, -10.33719), (-13.13024, -10.34048), (-12.35012, -10.43263), (-12.77937, -10.71062), (-13.00916, -10.87126), (-12.54353, -10.17364), (-12.91708, -10.41316), (-13.286, -10.71235), (-12.57756, -10.30381), (-11.81589, -9.96319), (-11.48447, -9.54259), (-11.21908, -9.27642), (-11.17183, -8.93548), (-11.80575, -9.85946), (-11.99472, -10.00322), (-12.16757, -9.71028), (-12.75385, -9.95917), (-12.21215, -10.04137), (-13.35086, -11.03797), (-12.83066, -10.42859), (-13.59324, -11.00566), (-12.91153, -10.79027), (-13.86962, -10.88464), (-12.9779, -9.91231), (-14.1674, -11.09505), (-13.3128, -10.96134), (-11.48932, -9.60862), (-10.99305, -8.96151), (-12.04669, -10.1434), (-12.86085, -10.72102), (-13.61209, -10.7436), (-13.5073, -11.06044), (-12.21467, -10.03093), (-11.61631, -9.78258), (-12.95657, -9.78047), (-12.81823, -10.17581), (-12.66628, -10.065), (-12.81286, -10.40439), (-13.91794, -11.07689), (-13.32211, -10.57276), (-14.29067, -11.57513), (-14.3323, -11.93633), (-14.56987, -12.46198), (-14.25552, -11.6934), (-13.85905, -11.26506), (-13.22517, -11.01915), (-12.72747, -10.36998), (-13.48846, -10.86655), (-13.25655, -11.03024), (-12.51319, -10.1432), (-12.25084, -10.03579), (-12.36143, -9.74358), (-12.68234, -10.13469), (-11.93308, -9.72074), (-13.74764, -10.78537), (-14.27107, -11.06003), (-13.23067, -10.77258), (-12.34033, -10.40037), (-12.18226, -9.99073), (-12.55479, -10.18031), (-11.00635, -8.96938), (-11.93458, -10.08513), (-12.48771, -10.52107), (-12.60511, -10.15544), (-12.22139, -9.60613), (-13.77389, -11.13763), (-14.24771, -11.11295), (-13.15157, -9.97319), (-13.60463, -11.28526), (-14.22995, -11.46056), (-12.83206, -10.60824), (-11.28281, -8.21512), (-11.35864, -8.75296), (-11.80492, -9.875), (-13.73056, -11.5178), (-13.46517, -11.25174), (-12.8748, -11.02094), (-12.26023, -10.09346), (-13.40833, -11.02248), (-12.89384, -10.94976), (-12.74789, -10.57317), (-12.01315, -10.52991), (-13.2506, -11.16032), (-13.32939, -11.1496), (-13.07348, -10.63684), (-12.18236, -9.82085), (-12.22211, -9.65634), (-12.12262, -9.36488), (-12.44886, -9.56248), (-12.45542, -9.27515), (-13.00262, -10.29257), (-13.1618, -10.76715), (-13.23257, -11.14543), (-12.76894, -9.58439), (-12.55256, -9.90866), (-12.92634, -10.22978), (-12.54787, -10.78485), (-12.4619, -10.13908), (-13.19781, -10.50669), (-14.01683, -11.89718), (-13.75109, -11.19662), (-12.50634, -10.48256), (-11.69664, -9.88434), (-11.62558, -9.52177), (-11.22004, -9.29958), (-12.2063, -9.64309), (-13.06668, -10.48598), (-13.37942, -10.63801), (-12.40882, -10.29511), (-12.84532, -10.99713), (-12.28936, -10.18239), (-12.26693, -9.57463), (-11.99421, -9.87957), (-14.19852, -11.5663), (-13.5062, -10.98346), (-12.32264, -10.27291), (-11.50134, -9.4465), (-13.17524, -10.95977), (-13.72454, -11.36292), (-13.63606, -10.57822), (-12.69141, -9.40394), (-11.55969, -8.62929), (-11.21691, -9.50927), (-11.3852, -9.64173), (-12.33404, -10.57419), (-12.58065, -10.3156), (-12.8831, -10.85682), (-12.75916, -10.32019), (-12.88195, -10.71642), (-13.48033, -10.71016), (-13.7175, -10.80012), (-12.52512, -10.35915), (-11.91487, -10.01985), (-11.59686, -9.49851), (-12.4921, -9.65782), (-13.82485, -11.55447), (-13.57125, -10.87465), (-12.8945, -9.66897), (-10.43012, -8.89195), (-10.63739, -8.9658), (-10.34411, -8.79784), (-12.12401, -10.07578), (-12.89689, -10.96118), (-12.02213, -10.52613), (-11.9452, -9.95677), (-12.01985, -9.56017), (-11.99102, -10.04439), (-12.40165, -10.07307), (-13.0326, -10.79794), (-13.647, -11.57773), (-13.84684, -11.59855), (-14.21658, -12.15642), (-13.99425, -10.94383), (-12.86692, -9.86454), (-11.68688, -9.16844), (-11.96661, -9.80347), (-13.28536, -10.3182), (-12.56956, -10.17991), (-11.14793, -9.23158), (-11.00838, -8.54515), (-11.38123, -9.02685), (-12.39368, -9.8072), (-12.73869, -10.82551), (-13.42715, -11.57719), (-11.98792, -10.69347), (-11.1714, -9.52802), (-11.55479, -9.11068), (-13.46689, -10.44549), (-13.55164, -10.71356), (-12.81929, -9.85491), (-12.06596, -9.55381), (-11.97167, -9.57368), (-12.12662, -10.0509), (-11.53233, -9.69759), (-11.26234, -9.63299), (-11.97119, -9.78591), (-13.48313, -11.28747), (-13.45386, -11.37386), (-12.93949, -10.63304), (-13.30899, -11.21254), (-13.06247, -11.12185), (-11.85006, -9.81402), (-11.99367, -9.35875), (-11.62673, -9.23866), (-11.72443, -9.67414), (-12.08588, -9.60003), (-13.01355, -10.94683), (-13.89386, -11.13702), (-13.71021, -11.16895), (-13.38819, -10.78137), (-13.14636, -10.51497), (-13.1473, -10.9822), (-12.56574, -9.8283), (-12.25468, -10.26267), (-11.95919, -9.58089), (-12.15222, -9.7082), (-12.69525, -10.42424), (-13.2506, -10.92675), (-12.26228, -9.78903), (-12.6311, -10.17979), (-13.22895, -10.9928), (-12.08826, -9.95986), (-10.5039, -8.11489), (-10.67591, -8.17665), (-11.76546, -9.40125), (-11.94297, -9.73829), (-12.99915, -10.2312), (-13.50441, -10.60419), (-13.38848, -10.2479), (-11.2727, -8.24977), (-11.60684, -9.14668), (-12.01445, -9.51039), (-13.35321, -10.93562), (-12.45186, -10.05707), (-12.70849, -9.89922), (-11.88783, -10.19166), (-12.9566, -10.70378), (-12.76665, -9.83922), (-11.50701, -8.91068), (-10.93175, -9.34466), (-10.92874, -8.77082), (-10.86628, -9.22341), (-12.14994, -9.55724), (-14.24386, -10.97595), (-13.96673, -11.10675), (-12.67346, -10.59079), (-12.69825, -9.82953), (-12.77053, -9.82951), (-13.2564, -10.29493), (-13.59138, -10.68647), (-13.67222, -10.9413), (-13.22691, -11.24806), (-12.98695, -10.42195), (-11.6517, -9.11682), (-12.10551, -9.5741), (-13.16116, -10.23109), (-12.56896, -10.31238), (-13.51542, -10.48746), (-16.31576, -11.10026), (-15.71206, -11.41103), (-12.41766, -10.22335), (-12.12424, -9.9655), (-12.58003, -10.01343), (-12.24795, -9.83074), (-11.43516, -9.67673), (-12.1745, -10.21862), (-13.14452, -10.88336), (-13.23329, -10.54556), (-12.41052, -10.09367), (-12.64009, -10.12104), (-12.8953, -10.48387), (-13.40477, -11.01135), (-12.04596, -10.17811), (-10.7012, -9.34867), (-11.92587, -10.39411), (-13.68138, -11.01052), (-15.22857, -11.72459), (-14.1986, -11.2751), (-12.51612, -10.15022), (-10.21469, -8.32391), (-11.53585, -8.88531), (-13.33715, -10.99129), (-13.78864, -11.89792), (-13.36148, -10.7783), (-12.08551, -10.13219), (-12.3239, -9.8037), (-12.74678, -10.57279), (-12.68912, -10.48329), (-11.1216, -9.31424), (-10.23026, -8.29227), (-11.41637, -9.47542), (-12.72085, -10.04512), (-12.6532, -10.18805), (-11.8367, -9.87498), (-12.50452, -10.04396), (-12.20468, -10.03235), (-11.56107, -9.18674), (-11.56264, -9.10576), (-13.08284, -10.76586), (-13.99101, -11.08636), (-13.38424, -10.79009), (-11.66803, -9.8543), (-12.88019, -11.02459), (-12.97798, -10.30159), (-13.56007, -11.02489), (-13.02064, -10.48721), (-13.1702, -10.29057), (-11.7022, -9.67944), (-12.59905, -10.7364), (-12.52157, -10.63774), (-11.47942, -9.7463), (-11.08044, -9.29105), (-12.3953, -10.06059), (-11.75759, -9.18234), (-11.55388, -9.1873), (-11.66169, -9.33463), (-12.50974, -10.56783), (-11.7725, -9.75214), (-12.65763, -10.97333), (-13.16311, -10.53713), (-12.78817, -9.59488), (-12.71623, -10.11228), (-13.97566, -10.88016), (-13.48649, -11.10782), (-11.95113, -9.68025), (-12.90092, -10.68722), (-13.74551, -10.70329), (-12.21844, -9.84044), (-12.53364, -10.09569), (-11.46171, -9.10844), (-11.11826, -9.333), (-11.21402, -9.10546), (-13.62016, -10.82357), (-13.27598, -10.64349), (-12.6135, -9.83513), (-11.45417, -8.86039), (-11.13041, -9.08855), (-12.8403, -10.14466), (-12.95713, -10.73036), (-13.13952, -10.90946), (-12.91208, -10.53889), (-13.0391, -10.48168), (-12.72717, -10.66139), (-13.27691, -10.78092), (-13.67942, -11.48209), (-13.94744, -11.51373), (-13.37075, -10.22098), (-11.438, -9.42334), (-12.49208, -10.0936), (-13.68608, -10.75274), (-13.19332, -10.954), (-12.2729, -9.83216), (-12.26759, -10.04251), (-11.90142, -9.91374), (-13.13441, -10.58681), (-12.40067, -9.95366), (-11.36532, -9.59559), (-11.57463, -9.44832), (-12.82787, -10.81397), (-12.54663, -10.17893), (-12.01617, -9.8255), (-12.01927, -9.44812), (-12.36069, -9.93489), (-12.17617, -10.02894), (-12.01909, -9.9695), (-11.4059, -8.96716), (-10.80121, -8.46503), (-12.07891, -9.76191), (-12.66937, -10.46966), (-12.75811, -10.82534), (-13.37284, -11.16002), (-14.01262, -11.1508), (-13.83253, -10.34922), (-13.45087, -11.1236), (-14.03358, -12.1894), (-13.25461, -10.55777), (-12.86437, -9.95226), (-14.37638, -11.13346), (-13.81152, -10.85499), (-12.11766, -10.13111), (-13.323, -10.27248), (-14.02172, -10.39269), (-13.58489, -10.18379), (-13.20618, -10.66423), (-14.19377, -11.07122), (-13.05992, -10.06021), (-12.56179, -9.85016), (-14.1451, -11.16114), (-14.95124, -12.43502), (-13.86642, -11.49682), (-12.56541, -10.53503), (-11.52865, -9.97225), (-11.87946, -9.85092), (-12.21071, -9.85057), (-12.60568, -10.83094), (-13.50615, -10.9768), (-13.49434, -10.53142), (-13.57053, -10.41391), (-12.66389, -9.52881), (-13.17142, -9.6826), (-12.41944, -9.41662), (-11.6037, -9.21192), (-12.18784, -9.77829), (-13.30076, -11.01838), (-13.13975, -10.94419), (-12.39636, -10.50046), (-12.0312, -9.81178), (-11.4452, -9.14889), (-11.8955, -9.95305), (-12.85835, -10.72254), (-12.2927, -10.26183), (-11.30466, -9.28339), (-11.68361, -9.80165), (-11.87864, -9.5729), (-12.28648, -10.17203), (-13.0025, -11.00857), (-12.9985, -10.78366), (-11.64382, -9.36295), (-12.17947, -9.80629), (-12.34873, -10.67335), (-12.21371, -10.48843), (-12.61561, -10.44948), (-13.34275, -10.59408), (-13.56439, -10.67378), (-11.89408, -9.52842), (-11.16654, -9.29924), (-10.42045, -9.03345), (-11.92757, -9.8933), (-11.15042, -9.22315), (-11.19105, -9.54924), (-10.97554, -8.6123), (-11.77935, -9.4589), (-11.37715, -9.39869), (-13.23401, -10.59569), (-13.56905, -11.06967), (-12.50042, -10.56072), (-12.83173, -10.29832), (-12.64673, -10.0693), (-12.50918, -10.12557), (-11.63452, -9.4077), (-12.76031, -10.53927), (-13.21225, -10.97188), (-13.42849, -9.9707), (-11.84977, -9.00963), (-12.02249, -9.83839), (-12.44516, -9.96851), (-13.72457, -10.88366), (-14.38976, -10.10521), (-14.83078, -11.62435), (-13.11906, -10.63551), (-12.64722, -10.11031), (-13.14978, -10.81004), (-14.04591, -11.48827), (-13.44706, -11.18506), (-12.37149, -10.20253), (-12.60002, -10.42247), (-13.79381, -11.26939), (-13.21996, -10.94377), (-13.04112, -10.60953), (-12.01044, -9.28346), (-13.32141, -10.65624), (-13.04684, -10.75851), (-13.71567, -11.76268), (-13.20098, -11.22549), (-13.96312, -10.68981), (-13.0876, -10.8985), (-11.92396, -10.16911), (-11.81171, -9.83992), (-11.87859, -9.43612), (-11.65172, -8.72778), (-10.7542, -8.44675), (-11.72831, -9.43046), (-12.69542, -10.13416), (-12.27605, -9.84576), (-11.54457, -9.82526), (-11.47147, -9.59762), (-12.09832, -9.99004), (-12.76162, -9.80947), (-12.93834, -9.96711), (-11.62031, -9.80655), (-11.74312, -9.74173), (-12.86649, -10.24134), (-13.36911, -10.34636), (-13.21984, -10.81047), (-12.83073, -9.9756), (-12.66905, -10.28398), (-11.1099, -9.18311), (-10.01983, -7.99999), (-12.07327, -9.3951), (-13.95488, -10.88176), (-13.18801, -10.75577), (-12.33029, -9.64271), (-12.91125, -10.21703), (-14.08197, -11.13972), (-13.35441, -10.96269), (-13.32339, -10.96253), (-12.57258, -9.94475), (-12.98741, -10.87308), (-12.80924, -10.92507), (-13.01547, -10.54738), (-12.79264, -10.2466), (-12.94312, -10.6846), (-12.21384, -10.19494), (-11.47006, -9.37721), (-11.88228, -9.6867), (-12.29729, -9.93119), (-12.14593, -9.53781), (-11.74236, -9.31697), (-12.50751, -10.14042), (-12.47234, -10.13663), (-12.74311, -10.37275), (-12.53313, -9.82359), (-12.37872, -9.63033), (-12.21807, -10.20712), (-13.83783, -11.23865), (-13.82301, -11.06741), (-12.46783, -10.35241), (-11.92399, -9.76434), (-13.15522, -10.76294), (-12.70001, -9.98638), (-11.06835, -9.18981), (-10.19953, -8.46045), (-11.78982, -9.5687), (-11.80193, -9.85357), (-12.74779, -10.77369), (-12.74568, -10.32195), (-12.38011, -10.16738), (-12.04495, -9.36618), (-12.35792, -9.65247), (-12.51366, -10.30036), (-13.10649, -10.48742), (-13.87388, -10.66991), (-13.94236, -10.83603), (-13.37349, -10.48112), (-12.59436, -9.41864), (-12.66417, -9.94509), (-13.36256, -11.19598), (-12.71802, -10.58798), (-11.94697, -9.67045), (-12.49408, -9.7257), (-13.30636, -9.59181), (-12.77812, -9.86834), (-12.81226, -10.65063), (-14.06693, -11.44826), (-12.71338, -10.74723), (-12.45976, -9.83066), (-11.57529, -9.29237), (-12.48583, -9.98067), (-12.37702, -10.17791), (-12.70116, -10.5358), (-13.05418, -10.53046), (-12.78248, -10.69772), (-13.3456, -10.9831), (-13.46207, -11.39629), (-14.06305, -12.05678), (-13.58683, -11.47089), (-13.10054, -10.91036), (-12.55827, -10.20055), (-12.53208, -10.00123), (-12.3624, -9.73495), (-11.86875, -9.56243), (-11.22682, -9.74069), (-12.43415, -10.00774), (-13.13884, -10.31234), (-13.36206, -10.30608), (-12.75005, -10.12471), (-12.51369, -10.56192), (-13.25635, -11.02573), (-13.69262, -11.63471), (-13.91835, -11.6078), (-13.26313, -10.85986), (-12.144, -9.71456), (-10.85819, -8.68454), (-11.79896, -9.73159), (-12.91922, -10.26792), (-12.96352, -10.50846), (-11.95585, -9.36094), (-11.70751, -9.47474), (-11.33581, -9.28891), (-12.25156, -9.87531), (-12.94997, -10.54799), (-12.72733, -10.4512), (-12.59489, -10.52999), (-12.42831, -10.5547), (-12.18643, -10.69168), (-11.60914, -9.48241), (-12.66944, -9.96475), (-12.36025, -10.12907), (-13.25815, -10.62367), (-13.43203, -10.57463), (-13.19505, -10.2303), (-11.85432, -9.24052), (-11.34311, -8.82499), (-12.35494, -10.65415), (-12.85111, -10.23938), (-13.33371, -10.90251), (-11.81029, -9.48389), (-12.89698, -10.55665), (-12.95024, -10.37239), (-12.67848, -10.19777), (-10.80076, -8.55748), (-11.69471, -8.83294), (-12.79641, -10.34494), (-12.86064, -10.18104), (-12.44485, -9.37359), (-13.58584, -11.49083), (-14.3305, -11.79108), (-13.73111, -10.70489), (-11.58448, -9.78863), (-12.77193, -10.09693), (-12.54607, -10.27965), (-13.13473, -10.86786), (-13.9546, -10.66859), (-14.11157, -11.49624), (-13.09644, -10.48673), (-12.24428, -10.03422), (-12.5067, -10.01365), (-14.03461, -11.60324), (-13.80165, -11.51812), (-13.34281, -10.54715), (-13.67153, -10.86268), (-14.43862, -11.67199), (-13.86318, -11.29789), (-12.33131, -9.74297), (-12.08194, -10.14616), (-12.72061, -10.42398), (-12.94827, -10.87816), (-11.98443, -10.05257), (-11.71749, -9.56724), (-11.46892, -9.67797), (-12.61924, -10.71615), (-12.88836, -10.66174), (-14.35138, -11.89166), (-14.49661, -11.69543), (-15.11759, -11.96549), (-13.37479, -10.47284), (-12.1682, -9.77756), (-11.47823, -9.00802), (-13.07399, -10.40729), (-12.42869, -10.41138), (-12.94281, -10.54343), (-12.56189, -10.1987), (-13.27124, -10.87988), (-12.45476, -10.27936), (-12.60526, -10.64118), (-11.65412, -9.66049), (-10.97054, -9.05598), (-11.80803, -9.753), (-13.60243, -10.46464), (-13.8678, -11.73252), (-13.71798, -10.85041), (-12.745, -9.21265), (-11.95176, -8.99493), (-12.46182, -9.46825), (-13.20144, -10.61745), (-12.19375, -9.59985), (-12.62929, -10.17631), (-13.26655, -10.81667), (-13.10547, -11.18245), (-11.48094, -9.3111), (-11.46066, -8.8592), (-12.68198, -10.07163), (-13.16025, -10.72838), (-12.76102, -9.94692), (-11.88412, -9.21946), (-12.75972, -10.13472), (-12.53692, -10.33084), (-13.37234, -11.36998), (-12.91975, -10.45777), (-12.17846, -10.12227), (-12.64072, -9.96517), (-14.0734, -11.02629), (-13.60967, -11.35833), (-12.53302, -10.6781), (-13.43779, -10.95983), (-13.08454, -9.86056), (-11.42018, -9.43457), (-11.65462, -9.24604), (-12.14094, -9.97695), (-10.9794, -9.4127), (-10.86547, -8.86038), (-11.97253, -9.74149), (-13.4815, -11.01529), (-12.63102, -10.27521), (-12.04952, -9.59663), (-10.87077, -8.74712), (-11.4744, -9.2323), (-11.93232, -9.61946), (-12.66524, -10.27756), (-12.84256, -10.71768), (-12.83551, -11.18575), (-12.67559, -10.66933), (-10.76072, -9.3908), (-11.90353, -9.30275), (-12.04762, -9.65666), (-12.54525, -9.80085), (-12.16709, -10.02148), (-12.32678, -10.42137), (-13.03837, -10.93457), (-12.51359, -10.36921), (-12.63726, -10.83571), (-12.17551, -10.12607), (-13.55169, -10.74083), (-13.83938, -10.48318), (-13.88317, -11.54864), (-12.98318, -10.5593), (-12.12486, -9.73805), (-11.9164, -9.50614), (-12.00841, -9.77869), (-12.0882, -9.79537), (-11.12201, -9.09314), (-11.24288, -9.41615), (-11.24564, -9.66381), (-12.89333, -10.20589), (-13.18006, -10.3186), (-12.44248, -9.7123), (-11.42801, -9.06723), (-10.92928, -8.1741), (-12.16055, -9.58915), (-14.29313, -11.46037), (-13.83021, -10.74527), (-13.70132, -10.15609), (-12.39108, -10.2304), (-14.30321, -11.83821), (-13.49837, -11.2841), (-13.9062, -11.89097), (-12.18699, -9.94986), (-12.4783, -10.06608), (-12.18673, -9.76659), (-12.03407, -9.67923), (-12.42663, -9.64356), (-13.40137, -10.80949), (-13.60717, -11.21348), (-12.65363, -10.39304), (-13.04578, -10.50673), (-12.45614, -10.02181), (-12.33181, -9.64139), (-12.16939, -9.61638), (-12.4639, -10.12183), (-12.81338, -10.19211), (-13.25763, -11.00449), (-13.14171, -10.84486), (-12.49436, -10.17691), (-11.71601, -9.20824), (-11.57259, -8.99537), (-12.91132, -10.77023), (-14.38915, -11.21692), (-14.40713, -11.31334), (-12.243, -9.81868), (-13.53501, -10.90618), (-13.74971, -10.95123), (-12.79088, -11.0125), (-10.55398, -8.7286), (-10.65496, -8.83839), (-11.76073, -9.26348), (-11.79508, -9.71842), (-11.64462, -9.54433), (-11.59858, -9.66095), (-12.87723, -10.45803), (-12.83369, -10.55305), (-11.46628, -10.05063), (-10.61043, -9.02243), (-11.51269, -9.00658), (-12.08441, -9.72004), (-11.65574, -9.2696), (-11.48541, -9.34603), (-12.18095, -9.45475), (-12.53741, -9.85481), (-11.92642, -9.70726), (-11.69868, -9.33111), (-11.87276, -9.51722), (-12.49956, -10.68888), (-13.05026, -10.77857), (-12.82959, -10.76047), (-12.28112, -10.50047), (-13.01738, -10.61431), (-12.18697, -9.62975), (-12.30854, -9.99534), (-13.2308, -10.55573), (-13.30226, -11.05266), (-12.3443, -10.33544), (-11.38092, -8.96995), (-13.77364, -10.51368), (-15.08628, -10.8266), (-15.42965, -11.9957), (-12.53105, -10.60127), (-13.02442, -10.43353), (-13.23752, -10.83008), (-13.32184, -10.94158), (-13.11297, -10.14903), (-11.85128, -9.83731), (-12.40259, -9.88329), (-13.21505, -10.77622), (-13.58574, -10.53594), (-12.49369, -10.21564), (-12.47125, -10.54722), (-13.20226, -10.71418), (-12.20258, -10.00013), (-11.00936, -9.13403), (-11.5263, -10.04966), (-11.89245, -9.78916), (-12.3494, -10.39661), (-12.24392, -10.92026), (-11.96973, -9.77871), (-11.35552, -8.64904), (-12.32897, -9.94672), (-13.49919, -10.99953), (-12.36925, -10.19425), (-14.03859, -11.02743), (-14.57208, -12.48052), (-13.58755, -11.7422), (-11.55777, -9.26018), (-12.12148, -9.23489), (-12.21683, -10.07499), (-12.11548, -9.98284), (-12.13641, -9.93637), (-11.84927, -9.71051), (-11.84302, -9.08772), (-12.04136, -9.46386), (-13.09784, -10.26681), (-12.9056, -9.93385), (-12.3594, -10.0171), (-11.84806, -9.71556), (-11.0544, -8.78654), (-10.70719, -8.77897), (-11.40641, -9.08366), (-12.06477, -9.58649), (-11.26634, -9.70146), (-12.17577, -10.48051), (-12.4532, -10.13284), (-12.98012, -10.61589), (-13.51921, -11.37601), (-12.95762, -10.64516), (-12.40466, -10.6106), (-12.23174, -10.42192), (-13.11764, -11.06381), (-13.43332, -10.99562), (-13.40188, -11.21865), (-13.49865, -11.09068), (-12.86573, -10.30903), (-12.9004, -10.33877), (-11.48484, -9.74181), (-12.87686, -10.56893), (-13.03208, -10.59402), (-14.10352, -11.28901), (-13.74285, -10.92753), (-15.12417, -11.45914), (-14.71895, -11.44559), (-14.05237, -11.48353), (-12.59017, -10.145), (-12.28219, -9.78572), (-12.81791, -9.94372), (-12.93023, -10.7392), (-12.17453, -10.16791), (-12.2254, -9.95405), (-12.92291, -10.26757), (-13.92091, -11.11959), (-13.37393, -10.94145), (-12.71459, -9.62748), (-12.0775, -9.00414), (-11.70963, -8.93319), (-12.33115, -10.22508), (-11.2447, -9.22991), (-11.07815, -8.70411), (-11.17316, -8.93969), (-13.31066, -11.02667), (-13.63922, -11.60816), (-14.15452, -11.78046), (-13.93155, -10.85829), (-13.31316, -10.45884), (-12.8456, -9.79006), (-13.16209, -10.36669), (-12.80837, -9.87982), (-12.18053, -9.52396), (-11.91167, -9.59379), (-12.06732, -9.41634), (-12.68036, -10.16585), (-12.62117, -10.34029), (-14.69493, -11.75264), (-14.33451, -11.18055), (-13.47519, -10.85504), (-12.24158, -9.4532), (-13.5335, -10.55362), (-13.66254, -11.12679), (-13.18945, -11.19896), (-11.73387, -10.18158), (-10.9719, -9.31703), (-11.12737, -9.25798), (-11.64273, -9.64588), (-12.06424, -10.14673), (-11.04909, -9.50216), (-10.80558, -9.00554), (-11.29422, -9.24329), (-12.7952, -10.77058), (-13.93278, -11.66075), (-13.97517, -11.76308), (-12.81833, -10.36816), (-12.60118, -9.93507), (-12.78092, -9.79355), (-13.33494, -10.96335), (-12.75015, -11.0498), (-13.08616, -10.442), (-12.56664, -10.06676), (-11.96503, -9.67443), (-12.40693, -10.10111), (-12.67389, -10.13691), (-13.18375, -10.48526), (-14.28478, -12.08785), (-15.8137, -12.69617), (-15.64178, -12.15445), (-13.57499, -10.12668), (-12.71931, -10.54081), (-11.60498, -9.5326), (-10.78284, -8.6344), (-10.60057, -8.1864), (-11.78501, -9.41555), (-12.77016, -10.70965), (-12.56612, -10.19962), (-13.06856, -10.70029), (-13.3254, -10.60381), (-12.93764, -10.92741), (-11.81193, -9.81785), (-11.4807, -9.46267), (-11.45642, -9.33222), (-11.98007, -9.52532), (-13.02872, -10.58112), (-13.76525, -11.06345), (-12.59794, -10.20618), (-11.06188, -9.53137), (-11.83998, -9.81368), (-12.64777, -10.56416), (-12.88683, -10.34401), (-13.19294, -10.64923), (-13.39463, -10.97849), (-13.29404, -11.20263), (-12.18857, -9.99442), (-12.09897, -9.98591), (-11.67826, -9.11047), (-13.18674, -10.39438), (-13.39853, -10.73425), (-12.61372, -10.21484), (-11.57577, -9.53959), (-12.78829, -10.03711), (-13.77015, -10.85186), (-13.01426, -10.10338), (-13.28304, -10.84167), (-12.94765, -11.4208), (-12.04598, -10.08774), (-11.69257, -9.18522), (-12.21612, -9.69183), (-12.21207, -9.94054), (-13.35393, -10.55884), (-13.76733, -10.67304), (-13.91723, -11.57222), (-13.59119, -10.61699), (-13.61023, -11.01603), (-11.72351, -9.71538), (-12.32295, -10.41519), (-12.4456, -10.07037), (-11.68396, -9.51192), (-11.5997, -9.49949), (-12.38104, -10.26478), (-12.28524, -10.01299), (-12.45641, -9.65953), (-12.83399, -9.5924), (-11.73387, -9.48138), (-11.20704, -9.54949), (-11.13858, -9.23148), (-11.54108, -9.23545), (-11.32003, -9.24221), (-12.1161, -10.11837), (-12.45599, -10.41207), (-13.88602, -11.29677), (-14.27434, -11.83469), (-13.61246, -11.6386), (-12.44416, -10.21098), (-11.96692, -9.98828), (-13.0597, -10.32693), (-13.60753, -11.21644), (-12.47613, -9.98274), (-12.29761, -9.50095), (-13.7165, -10.297), (-13.36774, -10.5839), (-11.73625, -9.81734), (-12.28193, -10.20858), (-13.06414, -10.68606), (-13.50105, -10.99404), (-12.69569, -10.03547), (-13.95088, -11.07644), (-14.42452, -11.92504), (-14.59957, -11.59491), (-11.73499, -9.31573), (-10.42779, -9.10103), (-11.82819, -9.64083), (-12.95129, -10.58935), (-14.19604, -11.15169), (-15.2056, -11.69182), (-14.24075, -11.13683), (-12.8473, -10.62789), (-13.06821, -11.1471), (-14.05865, -11.36749), (-12.82379, -10.37068), (-11.07067, -9.30356), (-10.94047, -9.06384), (-11.80874, -10.10728), (-12.1388, -10.15614), (-12.7353, -10.35059), (-12.46164, -10.07346), (-11.4568, -9.82618), (-11.40567, -9.38662), (-13.97318, -10.97375), (-14.47809, -11.90602), (-13.51594, -10.94752), (-13.0649, -10.69653), (-13.56121, -11.26715), (-14.32233, -11.64644), (-12.62797, -10.52792), (-11.84985, -9.20171), (-11.81017, -9.18832), (-12.11981, -10.03777), (-11.25274, -9.40476), (-11.21355, -9.17911), (-12.45197, -10.61041), (-13.41749, -11.31016), (-12.62296, -10.61505), (-12.87262, -10.43479), (-12.04818, -10.07868), (-11.81921, -9.55659), (-11.05526, -9.21877), (-12.25185, -10.73259), (-13.4065, -11.01961), (-13.55804, -10.7037), (-13.08069, -10.3196), (-13.72589, -10.67533), (-13.47123, -11.06621), (-12.9263, -10.88036), (-12.31589, -9.99732), (-12.96881, -11.03832), (-12.86637, -10.77082), (-12.93855, -10.04796), (-12.04192, -9.22675), (-12.53326, -10.34634), (-13.10423, -10.8786), (-14.00949, -11.85844), (-13.41766, -11.68972), (-12.1434, -9.60396), (-12.89422, -10.17588), (-12.90644, -10.76136), (-13.31706, -11.412), (-12.18655, -9.00468), (-11.85507, -9.09277), (-11.92765, -8.82794), (-13.28634, -10.23651), (-13.13275, -10.7875), (-12.08292, -10.31214), (-12.47292, -10.38822), (-11.98557, -9.50128), (-11.81447, -9.39594), (-12.64796, -10.8597), (-13.27349, -11.73817), (-12.41319, -10.3619), (-11.16133, -9.14954), (-11.46902, -9.65136), (-11.37501, -9.73575), (-11.85089, -10.01015), (-12.19542, -9.92145), (-12.48591, -10.27734), (-12.42808, -10.3944), (-13.10927, -11.15495), (-13.23679, -10.94917), (-12.69123, -10.09267), (-12.33649, -10.01334), (-13.66438, -10.98124), (-14.17308, -11.26969), (-12.86556, -10.74616), (-11.79856, -9.94281), (-11.61654, -9.64044), (-12.37505, -10.23736), (-13.03905, -10.72576), (-13.81629, -11.56265), (-13.3149, -10.56337), (-12.63299, -10.14554), (-12.63256, -10.22677), (-13.33324, -11.051), (-12.61225, -10.32205), (-12.7182, -10.25649), (-13.35254, -10.08677), (-12.55429, -9.52122), (-11.95767, -9.53096), (-12.35629, -10.52559), (-12.75827, -10.73981), (-11.84679, -9.55505), (-12.60062, -9.69265), (-12.85051, -10.40459), (-12.54365, -10.5619), (-12.62411, -10.11852), (-13.18763, -10.63475), (-14.25721, -11.6294), (-13.7272, -11.30452), (-13.58723, -11.23796), (-12.36803, -10.01785), (-12.30295, -9.92482), (-11.85632, -9.68824), (-11.73472, -9.94479), (-12.1376, -9.61588), (-12.11245, -9.45324), (-12.15692, -8.84429), (-12.72698, -9.7661), (-13.68427, -11.0278), (-13.53447, -10.7534), (-13.72879, -10.79937), (-13.89518, -11.61028), (-12.78391, -10.45244), (-11.99483, -9.52113), (-11.99903, -10.12875), (-12.5841, -10.28713), (-12.04955, -9.92557), (-13.26463, -10.70428), (-13.32544, -10.70316), (-12.06127, -9.84635), (-11.51327, -9.42926), (-11.79487, -9.80819), (-11.76032, -9.90268), (-11.57155, -9.25628), (-11.58024, -9.53065), (-11.78752, -9.63969), (-12.73038, -9.94057), (-12.78582, -10.23493), (-13.41392, -11.36814), (-13.17304, -10.93866), (-12.61149, -10.74083), (-11.46948, -9.53828), (-11.85183, -9.57555), (-11.91417, -9.72835), (-12.73403, -10.78172), (-13.22926, -10.72473), (-12.48008, -10.39727), (-12.06901, -10.03804), (-12.08175, -9.73485), (-13.20548, -10.57383), (-13.15278, -10.54294), (-12.71822, -10.28294), (-11.26852, -9.13832), (-11.34905, -9.1549), (-11.98472, -9.92982), (-12.17612, -10.19789), (-12.19021, -10.22775), (-11.79844, -9.81726), (-12.01972, -9.46659), (-11.89749, -9.10617), (-11.97351, -10.00262), (-13.03482, -10.6806), (-12.91684, -10.52207), (-13.15971, -10.30452), (-13.12099, -10.99123), (-13.35705, -11.1858), (-11.94103, -10.16224), (-11.49002, -9.58838), (-12.79881, -10.57141), (-13.87954, -11.3929), (-13.25631, -10.42919), (-12.25539, -9.64337), (-11.53535, -9.51087), (-11.85362, -9.60455), (-12.33913, -9.91329), (-12.58392, -10.73982), (-12.52439, -10.29078), (-11.94563, -9.59504), (-12.1637, -9.7014), (-12.30981, -10.06167), (-12.6048, -10.07483), (-11.6445, -9.08595), (-11.62437, -9.29151), (-11.70574, -9.61372), (-11.48095, -9.46617), (-11.70534, -9.63809), (-12.52385, -10.66868), (-13.00311, -10.2415), (-12.60076, -9.84581), (-12.75307, -10.21204), (-13.25191, -10.68119), (-12.35535, -10.03841), (-13.11572, -10.15507), (-13.98174, -11.03941), (-14.26011, -11.42403), (-13.17612, -10.66501), (-12.10601, -9.91777), (-11.96078, -10.23732), (-11.5808, -9.56153), (-12.23185, -10.00348), (-12.48149, -9.81697), (-12.56612, -10.16193), (-11.734, -9.94541), (-11.39195, -9.67615), (-11.84126, -9.97363), (-11.63538, -9.30741), (-12.26109, -9.95901), (-12.63482, -9.51503), (-13.23079, -9.8903), (-12.1405, -9.358), (-11.52678, -9.54821), (-13.03852, -10.48572), (-13.572, -10.88848), (-13.16015, -11.09579), (-11.77394, -9.66335), (-12.18551, -9.58829), (-11.41994, -8.70119), (-10.97251, -9.14264), (-11.90149, -9.97999), (-13.35238, -10.97048), (-13.91697, -11.34411), (-13.19983, -10.28943), (-12.73929, -10.31163), (-13.07709, -10.3889), (-13.39166, -10.73241), (-13.99893, -10.69128), (-13.07229, -10.52978), (-12.85092, -10.73631), (-13.50137, -11.31677), (-14.40127, -11.3096), (-12.86299, -10.20331), (-11.61239, -9.17937), (-11.62895, -9.82652), (-11.49058, -9.60263), (-10.64464, -8.79808), (-10.64466, -8.96892), (-11.47637, -9.35264), (-11.59016, -9.19894), (-12.53568, -10.47352), (-13.72555, -11.45334), (-14.28397, -11.97895), (-13.2674, -10.52993), (-13.16526, -10.26334), (-11.88112, -9.62305), (-11.4852, -9.20508), (-13.85835, -10.26857), (-15.5018, -11.93032), (-14.30936, -11.85258), (-12.38682, -9.80867), (-12.54936, -10.69756), (-13.1861, -10.49835), (-12.04184, -9.98435), (-11.87165, -9.49805), (-12.54095, -9.90859), (-13.09571, -10.73638), (-13.82544, -11.46478), (-14.20784, -11.29393), (-14.17025, -10.81531), (-13.08551, -10.32827), (-12.38276, -9.78826), (-11.6856, -8.91669), (-11.93176, -9.20967), (-12.34159, -9.74854), (-12.78855, -10.57053), (-12.52356, -10.44028), (-12.72724, -10.64517), (-13.04367, -11.00736), (-13.01626, -10.86154), (-13.44067, -10.68906), (-14.25099, -10.84623), (-13.83297, -11.25002), (-12.64687, -9.85238), (-12.2727, -9.70131), (-12.2988, -10.45857), (-12.84538, -10.85418), (-12.49805, -10.4464), (-11.49658, -9.4062), (-11.40743, -9.08051), (-12.55211, -10.3693), (-12.87567, -10.87815), (-13.4225, -10.61735), (-13.65091, -10.85272), (-12.97151, -11.10401), (-12.6984, -10.99263), (-12.72409, -10.86822), (-13.24157, -10.42805), (-12.55007, -10.16557), (-12.00881, -9.49984), (-11.36527, -9.35562), (-11.99537, -8.79402), (-12.27863, -8.8663), (-12.68598, -9.91877), (-13.75766, -10.72963), (-14.06458, -11.25206), (-13.39131, -10.76017), (-12.9545, -10.66809), (-13.11545, -10.55524), (-12.58843, -9.78927), (-12.6324, -10.30618), (-13.49517, -11.0296), (-14.52916, -12.05003), (-13.816, -11.8093), (-13.59814, -11.51548), (-13.2283, -10.80948), (-12.65224, -10.74829), (-11.97243, -9.80844), (-12.60125, -9.57234), (-12.98561, -9.89547), (-12.57903, -9.94381), (-12.58087, -9.59195), (-13.08114, -10.79868), (-13.13961, -10.76129), (-13.24735, -10.6987), (-12.75599, -10.54094), (-12.39645, -10.42845), (-11.73476, -9.96568), (-12.98169, -10.79776), (-13.45123, -11.11972), (-12.57763, -10.26307), (-13.18959, -10.20637), (-13.0524, -10.63047), (-11.95576, -9.86575), (-11.4349, -9.57926), (-12.43669, -10.10668), (-12.88033, -10.70823), (-12.96146, -10.65349), (-13.92547, -11.11956), (-13.48863, -10.19749), (-12.83017, -10.348), (-13.27528, -10.40941), (-12.52708, -10.20816), (-11.64625, -9.57214), (-11.48712, -8.70875), (-13.08873, -10.54521), (-12.95734, -10.60212), (-12.91265, -10.73007), (-12.01574, -10.0104), (-12.9943, -11.14194), (-12.65412, -10.65044), (-11.9213, -9.54444), (-11.73132, -9.20167), (-13.2994, -10.24771), (-13.66561, -11.14875), (-14.03375, -11.59422), (-12.92749, -10.53801), (-12.46397, -10.11329), (-12.1461, -9.98835), (-13.87599, -11.48771), (-13.21368, -10.40984), (-12.49761, -10.05681), (-15.16051, -11.14961), (-16.97665, -12.04085), (-15.00257, -11.79875), (-12.77416, -9.66904), (-13.30898, -10.69585), (-13.28092, -10.70723), (-13.15429, -11.10347), (-12.27849, -9.52787), (-10.98808, -8.73151), (-10.73158, -8.65131), (-12.11649, -9.2283), (-13.09609, -10.32031), (-12.34845, -10.39506), (-11.44803, -9.76293), (-11.83216, -9.60522), (-12.58049, -9.69588), (-12.55979, -9.84935), (-11.2763, -9.1856), (-11.17137, -9.15539), (-12.05991, -9.8667), (-13.22226, -11.20947), (-12.9263, -10.95323), (-12.36866, -9.10713), (-11.362, -8.79756), (-10.61989, -8.70326), (-11.99963, -10.05265), (-13.47738, -11.19388), (-14.28926, -11.70118), (-12.55667, -9.96432), (-10.75333, -8.85037), (-11.50671, -9.46732), (-12.55254, -10.52066), (-12.53142, -10.57587), (-11.65567, -9.59415), (-11.95052, -9.87675), (-12.82626, -10.56907), (-14.49187, -11.61641), (-13.82255, -11.21587), (-12.55175, -10.04668), (-12.09825, -9.94229), (-13.00615, -10.19959), (-12.00032, -10.13112), (-11.22315, -9.13272), (-11.25245, -8.74312), (-12.17854, -10.15587), (-12.49216, -10.29708), (-11.87869, -9.49558), (-10.84588, -8.46768), (-12.50606, -10.18878), (-12.97493, -10.09395), (-12.44793, -9.26805), (-12.33594, -9.71231), (-12.5461, -10.64801), (-12.29625, -10.10092), (-11.90997, -9.43485), (-13.32394, -10.99504), (-13.51425, -11.04167), (-12.2461, -10.52902), (-12.56672, -10.14292), (-13.35188, -10.36747), (-13.05423, -10.32098), (-11.26369, -8.94254), (-10.96926, -8.80742), (-12.3402, -10.16983), (-14.41305, -11.79856), (-14.546, -12.04655), (-12.86362, -10.11926), (-12.1059, -9.64335), (-12.35293, -10.01831), (-13.22037, -10.66726), (-12.79478, -10.63558), (-13.26494, -10.97585), (-13.62295, -10.8899), (-12.44116, -10.43033), (-12.01649, -10.14958), (-13.082, -10.43988), (-13.78888, -11.05558), (-12.62692, -10.13259), (-11.97843, -9.88636), (-13.01791, -10.22022), (-13.32732, -11.22356), (-13.36958, -11.04931), (-12.82045, -10.40233), (-12.08824, -10.23637), (-11.96673, -9.94609), (-11.99695, -9.85708), (-12.41841, -10.61413), (-13.49592, -10.67748), (-12.92433, -10.72384), (-12.35334, -10.08478), (-11.94164, -9.98237), (-11.56341, -9.76577), (-10.42997, -8.05815), (-12.90178, -10.22825), (-14.62156, -11.96097), (-15.61695, -12.78578), (-13.2137, -10.8853), (-13.30972, -11.29926), (-13.22401, -10.27356), (-13.84028, -11.17226), (-12.84783, -10.71932), (-12.58721, -11.2543), (-11.75224, -9.31201), (-11.38054, -8.3027), (-13.19065, -10.1349), (-14.63577, -10.8264), (-13.87585, -10.96879), (-12.0311, -10.01121), (-13.38592, -10.83571), (-11.74744, -9.47995), (-11.40747, -9.46618), (-11.52726, -9.35661), (-12.69649, -10.65642), (-12.88221, -10.39392), (-12.08879, -9.75848), (-12.3858, -10.13017), (-14.41316, -12.18224), (-14.80886, -12.34626), (-12.93632, -10.56749), (-12.70998, -10.5926), (-13.28636, -10.78767), (-12.83087, -10.61464), (-13.28116, -11.12166), (-13.94623, -11.11288), (-12.36774, -10.11439), (-11.553, -9.58269), (-11.73624, -9.80217), (-13.1799, -11.48676), (-13.75125, -11.08202), (-13.73398, -11.06431), (-11.919, -9.33003), (-11.6709, -9.82621), (-11.55307, -8.92614), (-12.76422, -9.98221), (-11.95803, -9.66026), (-11.41535, -9.60764), (-11.34725, -9.48373), (-13.0197, -10.62709), (-13.58788, -11.31771), (-13.07753, -11.19618), (-11.99237, -9.70488), (-11.92603, -9.82664), (-12.94968, -10.44682), (-12.91821, -10.60413), (-11.39706, -9.60949), (-12.46641, -9.88922), (-12.27473, -9.70576), (-12.49975, -10.08232), (-12.63462, -10.26522), (-12.60553, -10.2688), (-11.58758, -9.36327), (-12.12193, -9.31285), (-13.80387, -11.13026), (-12.83391, -10.36621), (-11.45424, -9.24453), (-10.17741, -8.45929), (-10.76987, -8.54226), (-10.78698, -8.85416), (-11.41169, -9.63519), (-13.77358, -11.33862), (-14.37462, -11.58175), (-13.5388, -11.18083), (-13.71167, -10.91047), (-15.01367, -11.66485), (-14.22884, -11.13804), (-12.26505, -9.20124), (-12.50464, -9.99704), (-12.88206, -10.69458), (-12.38005, -9.7876), (-10.78489, -8.89107), (-11.05837, -9.24204), (-13.19542, -10.28619), (-13.50209, -10.92191), (-13.79887, -10.70406), (-12.78554, -9.18862), (-12.46495, -9.67855), (-11.95966, -9.68692), (-12.36833, -10.00418), (-12.57336, -9.71369), (-14.03373, -11.36674), (-15.73717, -12.08256), (-13.91294, -10.77166), (-12.97897, -10.41154), (-13.89503, -10.52088), (-14.34468, -11.3286), (-12.89267, -10.01953), (-12.74563, -10.05664), (-12.08327, -9.91123), (-12.04757, -10.02285), (-12.13713, -9.61664), (-11.62938, -9.20409), (-12.71992, -10.16612), (-14.85516, -11.30182), (-14.00824, -10.95741), (-12.07615, -9.69088), (-11.7948, -9.28939), (-11.41823, -9.38959), (-12.58969, -9.97281), (-12.71881, -10.8696), (-12.29721, -10.62726), (-11.5386, -9.14592), (-11.51097, -9.27806), (-12.84502, -10.80893), (-13.2301, -10.94008), (-12.84759, -10.58661), (-12.20244, -9.9663), (-12.67864, -10.40127), (-12.08225, -10.12371), (-11.51605, -9.72138), (-11.507, -9.6113), (-11.21201, -9.43724), (-12.42327, -9.80971), (-12.57611, -10.5031), (-13.30404, -11.15235), (-13.20256, -11.27581), (-13.63937, -11.13569), (-13.78714, -10.97263), (-13.61269, -11.33482), (-11.99717, -10.11699), (-12.80078, -9.73557), (-13.44635, -9.93427), (-13.22682, -10.72545), (-12.00009, -9.70897), (-12.78356, -10.27084), (-12.75671, -10.53225), (-12.28643, -10.67694), (-12.04578, -10.17753), (-13.16015, -10.51735), (-13.78762, -10.89568), (-13.86149, -11.0032), (-13.71284, -10.35076), (-13.50632, -11.12827), (-14.15787, -11.1167), (-13.76182, -11.52218), (-13.03774, -10.6512), (-11.48172, -9.07697), (-11.368, -8.91477), (-11.35162, -9.14465), (-11.53732, -9.46548), (-12.30115, -9.32944), (-12.11331, -9.71495), (-12.25098, -10.0166), (-12.17649, -9.28701), (-13.69755, -10.91312), (-13.54918, -11.82819), (-13.70791, -11.46401), (-13.19665, -10.21625), (-12.68539, -9.93568), (-13.0922, -10.82172), (-12.47637, -10.38735), (-12.6158, -10.40347), (-12.65895, -10.43733), (-13.29015, -10.8384), (-12.38906, -9.90361), (-11.25176, -8.86688), (-10.82114, -8.48618), (-10.73684, -8.79563), (-11.02543, -9.10015), (-11.27878, -9.06768), (-11.80142, -9.51523), (-13.09422, -10.14924), (-13.69108, -10.73038), (-13.67777, -11.12572), (-14.77496, -12.42392), (-14.4041, -11.55234), (-13.93983, -11.08809), (-13.03405, -11.19556), (-14.02096, -11.03904), (-14.03045, -11.3113), (-13.50343, -10.93679), (-13.19659, -10.67915), (-13.048, -9.76863), (-14.08876, -10.63083), (-13.52543, -11.29417), (-13.34393, -11.57586), (-13.38336, -11.51817), (-13.11767, -11.1435), (-12.76938, -10.48842), (-13.08569, -10.62656), (-13.67218, -10.77057), (-12.61384, -10.03076), (-12.52111, -10.19493), (-13.89284, -11.32899), (-14.24575, -11.94663), (-13.26469, -10.44741), (-12.93538, -10.69307), (-12.62067, -10.43132), (-12.29717, -10.49532), (-11.79045, -9.78517), (-12.92119, -10.40695), (-12.72594, -10.05109), (-12.97693, -10.88119), (-12.50416, -10.63521), (-12.29296, -10.47854), (-12.11381, -9.87403), (-12.73582, -10.18166), (-12.16765, -10.00084), (-11.46753, -9.35736), (-11.86014, -9.69415), (-12.75728, -10.65354), (-12.26682, -10.20848), (-12.13777, -10.10848), (-12.66929, -10.15245), (-13.71171, -11.01312), (-13.34428, -10.62885), (-12.55891, -10.45659), (-11.77433, -9.70423), (-13.3434, -10.59311), (-13.59937, -10.92215), (-13.4221, -10.35971), (-12.18773, -9.19379), (-13.26077, -10.27105), (-13.28682, -10.91531), (-12.76875, -10.27897), (-11.9688, -9.69446), (-11.6106, -9.61117), (-13.03315, -10.26902), (-13.95843, -10.98475), (-12.51512, -10.49639), (-11.05194, -8.98016), (-11.31432, -8.99339), (-13.49306, -10.66426), (-14.12877, -11.03448), (-14.01379, -11.38199), (-12.40723, -10.4209), (-11.71017, -9.63818), (-11.43896, -9.03882), (-11.36664, -9.00357), (-11.60191, -9.35972), (-11.81741, -9.06799), (-12.325, -9.43713), (-11.31431, -9.04316), (-13.02638, -10.70427), (-13.19144, -11.2863), (-13.94732, -11.63076), (-12.6184, -9.99895), (-11.91116, -9.49359), (-11.23921, -8.68352), (-11.74427, -10.02006), (-12.49253, -10.34868), (-11.97492, -9.47134), (-11.98346, -9.59359), (-12.26663, -10.11792), (-11.85325, -9.7233), (-11.22467, -9.74717), (-12.04587, -10.36663), (-12.21781, -10.24719), (-11.29503, -9.27517), (-12.25314, -10.01433), (-12.34582, -10.14389), (-12.28284, -10.03403), (-13.83311, -10.43221), (-17.37315, -13.42399), (-16.98004, -13.10914), (-14.16609, -11.52253), (-11.71176, -9.59853), (-12.47858, -10.16201), (-13.25281, -10.8474), (-13.62671, -10.71545), (-13.05716, -10.66245), (-13.3103, -10.3346), (-12.37058, -10.68042), (-11.68954, -9.99627), (-11.46543, -9.50535), (-11.92898, -9.43093), (-11.91809, -9.33708), (-12.83341, -10.6212), (-13.13943, -10.92336), (-13.18601, -10.95463), (-11.36975, -9.85107), (-10.63065, -8.84321), (-11.524, -9.35395), (-13.00027, -10.87022), (-13.61963, -10.86273), (-13.01914, -10.54633), (-12.64238, -10.30134), (-12.67595, -10.8979), (-13.90712, -11.77953), (-14.39867, -11.70401), (-13.06188, -10.79532), (-11.69966, -9.9294), (-11.14107, -9.30124), (-11.82676, -10.19119), (-12.71753, -10.62679), (-13.57012, -11.42538), (-13.41161, -10.86192), (-13.25465, -10.45085), (-12.22129, -9.85956), (-12.36508, -9.44609), (-13.07822, -10.50075), (-13.1062, -10.77513), (-12.6412, -10.64879), (-11.98574, -9.12259), (-12.55492, -10.45246), (-13.02889, -10.77701), (-12.73107, -10.54599), (-11.87409, -9.86423), (-12.21874, -10.00803), (-12.7787, -10.8644), (-13.23175, -10.70956), (-13.52056, -11.11699), (-12.56147, -9.99977), (-12.49717, -10.24638), (-12.73329, -10.42069), (-13.08076, -9.86504), (-11.94883, -9.55723), (-12.00857, -10.0872), (-12.1073, -9.83586), (-11.87491, -9.6674), (-12.1311, -9.24715), (-12.3009, -9.68831), (-11.8109, -9.46888), (-12.81067, -10.69293), (-12.96392, -10.54807), (-12.33536, -9.88461), (-12.40431, -10.02568), (-13.17893, -10.092), (-12.45085, -9.89883), (-12.03606, -9.92515), (-12.79396, -11.09186), (-12.6944, -10.50032), (-12.34544, -10.40013), (-12.42875, -10.01717), (-12.88433, -10.81023), (-12.74325, -10.95241), (-12.79486, -10.25833), (-12.04229, -9.81588), (-12.23623, -10.45729), (-12.12861, -10.02497), (-12.84663, -10.18754), (-12.77373, -10.27669), (-12.41352, -10.06296), (-11.82514, -9.57161), (-11.91044, -9.70329), (-11.30244, -9.48423), (-11.54263, -8.78792), (-12.65391, -10.15052), (-13.04508, -10.78344), (-13.61808, -11.31473), (-12.41027, -10.5963), (-11.98135, -9.91785), (-11.97097, -9.95816), (-13.09335, -10.55926), (-13.2507, -11.28768), (-13.41666, -11.62037), (-14.50484, -12.02713), (-12.97223, -10.7638), (-11.29028, -9.12939), (-9.73074, -8.03318), (-11.52769, -9.134), (-11.7013, -9.05389), (-12.67303, -10.06649), (-13.70539, -10.9205), (-13.81427, -11.26938), (-12.69604, -9.80695), (-12.80307, -10.35805), (-13.40243, -10.55486), (-12.16676, -9.68339), (-11.0631, -8.94472), (-12.0317, -8.91078), (-13.2853, -9.8862), (-13.58802, -10.85622), (-13.9167, -11.34566), (-13.95892, -11.29955), (-13.88887, -11.4355), (-13.25279, -10.84313), (-13.31347, -10.83164), (-12.59809, -10.60591), (-12.02423, -10.01838), (-12.96386, -10.42044), (-13.93351, -11.57913), (-14.15648, -11.70844), (-13.18409, -9.80833), (-12.79905, -9.75823), (-12.15738, -9.82269), (-12.92441, -10.31027), (-12.26414, -9.91074), (-13.28075, -10.74181), (-12.46078, -10.19958), (-12.89146, -10.67354), (-11.69157, -9.2219), (-12.40983, -10.2848), (-12.85457, -10.08511), (-14.06289, -10.8846), (-13.63851, -10.1527), (-12.85056, -10.25195), (-12.82334, -10.54094), (-13.57236, -10.81379), (-13.17686, -10.89342), (-13.51307, -11.26387), (-14.64305, -11.71336), (-14.85568, -12.02416), (-13.06391, -10.22714), (-11.52076, -9.80561), (-11.4556, -9.7261), (-13.05388, -10.63455), (-13.16696, -10.53147), (-13.62057, -10.52579), (-13.08633, -10.2892), (-12.13332, -10.30422), (-11.4454, -9.18525), (-11.83428, -9.36863), (-14.30119, -12.10039), (-14.84347, -11.87097), (-13.16081, -10.69008), (-11.59657, -9.66449), (-12.42503, -10.44267), (-11.84423, -9.90971), (-11.80039, -9.81035), (-13.20073, -11.1079), (-14.53975, -11.67125), (-13.13253, -10.84679), (-12.45322, -10.72899), (-12.9585, -10.29784), (-13.51, -10.73605), (-13.07362, -10.76215), (-13.3511, -10.9384), (-12.89161, -10.34019), (-13.64032, -10.10904), (-12.96254, -10.51162), (-12.74555, -10.88491), (-13.7973, -11.49209), (-14.50336, -12.00484), (-13.8523, -11.73938), (-13.59622, -10.95314), (-13.055, -10.14629), (-13.24926, -11.15814), (-13.72064, -11.64002), (-14.30564, -12.10315), (-13.82109, -11.26196), (-14.88145, -12.02523), (-13.72101, -11.19359), (-13.14909, -10.82954), (-12.85627, -10.22142), (-13.83425, -10.9878), (-13.86546, -10.36529), (-14.97856, -11.18013), (-14.15495, -10.97836), (-12.52956, -10.58931), (-13.39464, -10.96235), (-13.72251, -11.61499), (-15.52386, -12.88571), (-15.1515, -12.32336), (-15.67989, -12.47013), (-13.59358, -10.72629), (-13.27993, -10.15483), (-12.92946, -10.46284), (-13.43883, -10.93797), (-13.17906, -10.69418), (-12.85964, -11.18406), (-13.03437, -11.1471), (-13.21423, -11.03562), (-13.18957, -11.16559), (-13.33947, -10.59744), (-12.56147, -10.55698), (-13.07002, -10.59147), (-13.23573, -10.78117), (-13.12427, -10.41742), (-13.42806, -11.25354), (-14.37344, -11.60101), (-13.91674, -11.37382), (-13.4759, -11.46765), (-13.82989, -11.38963), (-14.06525, -11.73719), (-13.81512, -11.73042), (-14.63585, -12.31244), (-15.46296, -12.44918), (-15.08496, -12.32396), (-14.21433, -12.08099), (-14.0012, -11.62034), (-14.31322, -12.08933), (-15.04062, -12.87353), (-15.62039, -13.28137), (-15.37379, -13.04726), (-15.56195, -13.06721), (-14.85709, -12.48132), (-13.86579, -12.14877), (-14.76552, -11.99403), (-15.52351, -13.27675), (-15.55498, -13.16863), (-16.89718, -14.54175), (-16.92173, -14.71687), (-16.92734, -14.13506), (-16.4188, -13.8039), (-17.27568, -14.52405), (-16.052, -13.11976), (-16.73151, -14.12745), (-16.12069, -13.83685), (-15.80723, -14.04587), (-14.85427, -12.68766), (-16.16434, -13.80419), (-17.38302, -14.65282), (-17.79443, -15.40403), (-16.80776, -14.54229), (-17.25691, -14.91053), (-17.32627, -15.14369), (-16.97317, -14.87294), (-16.80352, -14.62951), (-19.05234, -16.0557), (-18.06194, -15.98318), (-16.76698, -15.03626), (-16.84555, -14.72638), (-18.45178, -16.34944), (-19.10886, -17.19407), (-20.03543, -17.84564), (-19.55282, -17.35826), (-18.27667, -16.61495), (-18.58515, -16.23234), (-19.24969, -16.58573), (-20.38514, -17.7341), (-20.64797, -18.02235), (-19.89616, -17.58563), (-18.75669, -16.90425), (-19.8896, -17.65465), (-22.12926, -19.46068), (-21.74113, -18.80955), (-21.69779, -18.73453), (-22.6317, -19.53093), (-24.2014, -20.54451), (-22.66771, -19.67044), (-22.62809, -19.30974), (-22.97347, -20.37295), (-24.38523, -22.18404), (-24.12843, -21.46304), (-23.41689, -21.13786), (-22.67984, -20.99082), (-23.54737, -21.05159), (-23.63552, -21.45032), (-23.36551, -21.65715), (-24.0282, -21.81656), (-24.76997, -22.62645), (-25.42528, -23.37774), (-25.95569, -23.95159), (-26.02469, -24.31127), (-27.19782, -25.00391), (-26.44876, -24.06841), (-25.82847, -24.06661), (-26.80891, -25.00102), (-29.04855, -26.86478), (-29.91955, -27.65265), (-30.78516, -27.66717), (-31.28499, -28.6256), (-32.06167, -30.38534), (-31.77213, -29.83477), (-31.54901, -29.48233), (-32.20429, -29.80912), (-33.63636, -31.50881), (-34.31536, -31.83484), (-35.15952, -32.97506), (-35.54832, -33.08533), (-35.68619, -33.44682), (-35.05917, -32.95797), (-35.55805, -33.85342), (-36.59933, -33.65036), (-37.4567, -34.32295), (-36.88667, -34.29626), (-36.99513, -34.34022), (-36.06379, -33.49143), (-36.22907, -33.73631), (-36.47447, -33.96662), (-36.42316, -34.36205), (-36.30838, -34.10114), (-35.94441, -33.67795), (-36.85108, -34.19048), (-37.43678, -34.25612), (-37.21684, -35.21929), (-36.1793, -34.10386), (-36.34389, -34.11519), (-36.58008, -34.60054), (-35.92889, -33.29748), (-35.87352, -33.29841), (-36.58637, -32.99619), (-37.60699, -34.0027), (-37.41493, -33.78714), (-37.60485, -34.97146), (-37.96435, -35.07262), (-37.61125, -34.87931), (-36.87107, -33.92951), (-36.69221, -34.34237), (-36.93829, -34.84174), (-37.65814, -35.41252), (-37.74248, -35.60191), (-36.85673, -34.38989), (-36.7124, -34.53553), (-37.08434, -34.73391), (-37.08936, -34.7952), (-35.53661, -33.07929), (-35.99801, -33.37284), (-35.9387, -33.54172), (-35.66869, -34.07715), (-34.95507, -33.35117), (-35.43352, -33.31536), (-35.80376, -33.4361), (-36.38777, -34.12622), (-36.63704, -34.4746), (-37.62903, -35.57067), (-36.87875, -34.80247), (-36.69895, -34.60124), (-36.9666, -34.95841), (-37.98713, -35.47931), (-36.46761, -34.62573), (-36.42674, -34.23764), (-36.18423, -33.93573), (-37.06098, -34.3479), (-37.59596, -34.82974), (-37.86358, -35.32489), (-36.21406, -34.55423), (-37.0519, -34.25602), (-37.13301, -34.02302), (-36.69914, -34.25792), (-36.89825, -34.09945), (-36.98873, -34.55815), (-37.28046, -34.71163), (-37.42573, -35.19698), (-37.50019, -34.75234), (-35.75953, -33.68966), (-35.82486, -33.599), (-36.92328, -34.20933), (-37.73849, -34.60688), (-36.81813, -34.04785), (-36.98473, -34.50694), (-36.02357, -33.89748), (-36.27612, -34.42587), (-35.76101, -33.39649), (-36.43031, -34.35662), (-35.94299, -33.83277), (-36.38369, -33.96523), (-36.49702, -33.44547), (-36.60093, -33.89285), (-36.86972, -34.85893), (-37.04347, -34.67797), (-37.12639, -34.95349), (-36.56523, -34.35716), (-36.43976, -34.28348), (-35.58422, -33.0659), (-35.2767, -32.9903), (-34.79253, -32.77894), (-34.87996, -33.32115), (-35.0447, -33.17638), (-35.43293, -33.61757), (-35.225, -33.10371), (-36.46575, -34.60026), (-38.097, -34.95368), (-36.79117, -33.93699), (-34.66068, -32.65345), (-35.65766, -32.63208), (-36.89844, -33.87594), (-36.77222, -33.92066), (-36.01287, -33.45231), (-36.3632, -33.70503), (-36.15798, -33.92851), (-36.94711, -34.18303), (-37.474, -34.10351), (-38.05199, -34.80949), (-36.79378, -34.20105), (-36.04702, -33.71337), (-35.97794, -33.6693), (-35.91107, -33.57228), (-35.71831, -33.23216), (-35.5275, -33.65705), (-36.48129, -34.03126), (-35.31114, -33.30264), (-35.19486, -33.64082), (-35.90671, -33.76746), (-36.44514, -34.20948), (-35.75785, -33.08214), (-35.49527, -33.51043), (-36.72387, -33.6994)]\n"
          ]
        }
      ]
    },
    {
      "cell_type": "code",
      "source": [
        "print(source_filtered_data[0])"
      ],
      "metadata": {
        "colab": {
          "base_uri": "https://localhost:8080/"
        },
        "id": "b0yjJ4-SShpo",
        "outputId": "b5c58bd7-0714-4f9e-9482-d78ce325cd32"
      },
      "execution_count": 537,
      "outputs": [
        {
          "output_type": "stream",
          "name": "stdout",
          "text": [
            "[-35.82066 -35.58042 -35.76062 -35.58042 -34.65384 -35.74956 -35.90683\n",
            " -35.58042 -35.88929]\n"
          ]
        }
      ]
    },
    {
      "cell_type": "code",
      "source": [
        "print(source_mean_data)"
      ],
      "metadata": {
        "colab": {
          "base_uri": "https://localhost:8080/"
        },
        "id": "I3uH91IXTuDf",
        "outputId": "bcb28011-8355-4a96-8aea-f6260756dd66"
      },
      "execution_count": 538,
      "outputs": [
        {
          "output_type": "stream",
          "name": "stdout",
          "text": [
            "[-35.61356, -34.82764, -35.87801, -35.72396, -34.73606, -33.30602, -32.56509, -34.68629, -34.92915, -36.03006, -34.34468, -35.71777, -35.16265, -34.51778, -34.26445, -35.89431, -35.2681, -33.61368, -33.88779, -33.63227, -34.91742, -35.11099, -36.16281, -34.17651, -35.76834, -36.22528, -36.62304, -35.63385, -34.47016, -33.13821, -33.78086, -35.0828, -34.46014, -35.53116, -36.19294, -36.91363, -34.34087, -34.41961, -34.4879, -34.70468, -34.58438, -35.68236, -34.65819, -35.29206, -34.61518, -34.63708, -34.91576, -35.19218, -35.67113, -34.72825, -34.51641, -34.17029, -35.41709, -35.25319, -35.58987, -35.96466, -35.23862, -34.32998, -35.02942, -36.2142, -35.34625, -34.38279, -34.24918, -33.68621, -34.76935, -35.12291, -34.95489, -34.75017, -35.23302, -35.72517, -35.44436, -36.26368, -35.30267, -34.78516, -35.18801, -34.71401, -35.56998, -35.8073, -36.27071, -34.48768, -34.37276, -34.70792, -34.96404, -34.39719, -34.24707, -34.39244, -34.55188, -34.8128, -35.99711, -34.99044, -34.17873, -34.83668, -35.23648, -35.49807, -35.06784, -35.14404, -34.52126, -34.81646, -34.66943, -34.09423, -34.41507, -35.01858, -36.24159, -35.82319, -35.34976, -34.85563, -34.79385, -34.92007, -36.06716, -35.39181, -34.77235, -34.05327, -35.41668, -35.95008, -34.93996, -34.60427, -33.19528, -32.0512, -32.01039, -31.1598, -30.02629, -30.89044, -31.44326, -30.45212, -29.0707, -28.05156, -27.54882, -27.1637, -25.85222, -25.44867, -25.63371, -25.39572, -23.66532, -22.89744, -22.74026, -23.26355, -23.66145, -22.55018, -22.22064, -22.99284, -21.4853, -21.40954, -21.47572, -20.66943, -21.28809, -21.2387, -21.53516, -20.25484, -19.87606, -19.76643, -19.74609, -19.7801, -19.70764, -19.40474, -18.70905, -17.57232, -17.87261, -17.77767, -17.95073, -16.87923, -18.58857, -19.02237, -18.88921, -17.64082, -17.53738, -15.52217, -17.67902, -16.43018, -16.27014, -14.72433, -15.79075, -16.26241, -16.5517, -15.514, -15.33397, -15.78608, -14.99672, -14.06388, -16.22585, -15.32817, -13.79352, -13.79297, -14.44586, -14.81208, -15.23234, -14.77195, -13.46832, -13.31384, -12.86641, -13.91028, -13.78871, -13.16584, -12.6552, -13.41886, -14.31819, -13.71173, -14.40696, -13.42617, -13.61144, -12.145, -12.23928, -13.20608, -14.95112, -14.02413, -13.20978, -12.77692, -12.36712, -11.45367, -11.40202, -11.90904, -12.69216, -12.21397, -11.37719, -10.67872, -13.40061, -12.35923, -11.10136, -11.08536, -13.82902, -13.11885, -11.81576, -13.45441, -13.78994, -11.40753, -9.99517, -10.83877, -12.8717, -13.10218, -11.20519, -11.86902, -12.9668, -13.58653, -11.83381, -11.73041, -13.2237, -13.08669, -13.27092, -12.76181, -12.05098, -10.05756, -11.09053, -11.22409, -11.96469, -12.81249, -11.94889, -12.30684, -13.35035, -12.57555, -12.62689, -12.15817, -12.05547, -12.25441, -11.06758, -11.38539, -10.00465, -11.38035, -12.2921, -12.62395, -10.7403, -10.90409, -10.68449, -11.58595, -11.53766, -11.97643, -11.8897, -10.20803, -10.56971, -11.4706, -11.81446, -12.19973, -10.46458, -12.94438, -12.14019, -12.26593, -10.88966, -11.53401, -11.03832, -11.24958, -11.32964, -11.37232, -11.83441, -11.92816, -11.20772, -12.03761, -11.50361, -10.96756, -10.98783, -11.4274, -12.49938, -12.25958, -13.29963, -11.46617, -9.70117, -11.41479, -12.86817, -12.03549, -11.43237, -12.92857, -12.82948, -10.45982, -11.52307, -12.71007, -13.74352, -11.83492, -11.23567, -11.30462, -10.58668, -12.04481, -11.77325, -11.8957, -11.52362, -11.58554, -12.00866, -11.5881, -11.9395, -12.03322, -11.53035, -10.4324, -10.50837, -10.12343, -9.89928, -10.43791, -10.86384, -10.9848, -11.39625, -11.00978, -12.05142, -11.90344, -12.29911, -12.38478, -11.52676, -12.3755, -12.27572, -12.04519, -10.95124, -9.73966, -11.01225, -11.07104, -11.93936, -12.67682, -11.18715, -11.06661, -11.46405, -11.85139, -11.50028, -10.876, -12.79932, -12.3944, -13.44225, -13.2247, -13.40083, -12.84803, -12.20979, -12.06159, -11.93748, -12.68092, -12.4202, -10.8519, -11.29594, -10.8535, -11.15314, -10.56825, -12.28314, -12.26295, -12.24585, -11.04734, -10.87492, -11.56262, -9.9772, -10.73105, -11.39353, -11.59786, -10.65126, -12.23908, -12.60952, -12.29324, -12.62457, -13.14598, -11.65754, -9.62961, -10.25266, -10.84076, -12.41259, -12.00327, -11.69342, -10.96948, -12.16665, -12.13725, -12.16259, -11.14754, -12.03847, -12.56701, -12.06978, -11.29142, -10.91881, -10.68344, -11.23056, -10.78661, -11.61333, -12.38772, -12.31124, -10.89157, -10.88556, -11.51845, -12.22465, -11.63515, -11.88697, -12.65796, -12.1737, -11.1724, -10.96626, -10.82665, -9.96712, -10.96753, -12.01646, -11.6596, -10.99336, -12.01879, -10.96376, -11.39079, -10.92274, -13.70324, -11.82345, -11.2438, -10.24409, -12.04363, -11.8724, -11.86419, -11.25054, -10.32983, -10.54223, -10.72317, -11.58133, -11.35983, -11.88822, -11.23537, -11.78319, -11.73351, -11.5515, -11.34242, -11.44924, -10.81165, -11.23418, -12.82621, -12.23968, -10.7089, -9.17058, -9.30223, -9.76642, -11.05321, -11.83073, -11.50915, -10.56509, -10.43787, -10.9712, -11.23254, -12.20236, -12.40914, -13.15665, -13.08912, -12.06548, -11.1168, -10.85499, -11.13434, -11.4673, -11.5869, -10.58573, -10.35955, -10.1729, -12.16608, -11.8887, -12.09168, -11.66792, -10.3745, -10.42624, -12.24406, -11.88354, -10.84379, -10.39363, -10.61791, -11.2578, -10.65401, -10.23874, -11.121, -12.26833, -12.27472, -11.98909, -12.2328, -12.23298, -10.57578, -10.49756, -10.43878, -10.96442, -10.23484, -11.44509, -12.08047, -12.29799, -12.27838, -12.49076, -12.09111, -11.55457, -11.09319, -10.48252, -10.6145, -11.38138, -12.93643, -10.67748, -11.5257, -11.98224, -11.1806, -9.08615, -9.15134, -11.12215, -10.8722, -11.49804, -11.87799, -11.43921, -9.5282, -10.12445, -10.5519, -11.94899, -10.59987, -11.33079, -10.68199, -11.81642, -11.45749, -10.63412, -10.22444, -9.60205, -9.56546, -10.74516, -12.82739, -12.326, -11.55313, -11.07386, -11.11195, -11.79556, -12.66557, -12.15693, -12.50415, -12.22313, -10.2962, -10.45068, -11.44455, -11.4403, -11.8512, -12.5232, -13.47201, -11.7491, -11.20514, -11.00517, -11.48295, -10.55164, -10.97137, -11.80466, -12.6849, -11.35018, -11.4349, -11.85986, -12.51574, -11.21792, -9.81154, -11.05039, -12.5007, -13.86898, -13.14172, -11.16607, -9.29115, -10.07448, -11.9281, -12.65312, -12.42309, -11.15001, -10.67657, -11.92597, -11.94186, -10.40768, -9.17861, -10.62658, -11.114, -11.24479, -10.55304, -11.34248, -10.59478, -10.16559, -10.0696, -11.77389, -12.51413, -11.80593, -11.29743, -12.34846, -11.65491, -12.21338, -11.49769, -11.49449, -10.46552, -11.38928, -11.65616, -10.63226, -9.90406, -11.62483, -10.87834, -10.95531, -10.82582, -11.16196, -10.73172, -11.99474, -12.20227, -11.37593, -11.09046, -11.51599, -11.83162, -10.78427, -11.3125, -12.33207, -10.53237, -10.99995, -10.29894, -10.05345, -10.20777, -12.12834, -12.10336, -11.31316, -10.01184, -10.61195, -11.50704, -12.13484, -11.41446, -11.37567, -11.16922, -11.79176, -12.08096, -12.50104, -12.90068, -11.47767, -10.5685, -11.52854, -12.16049, -12.15616, -10.95466, -11.18847, -10.5474, -12.00262, -10.92669, -10.17495, -10.22611, -11.96201, -11.01492, -10.98616, -10.96986, -11.51598, -11.23463, -11.099, -9.75745, -9.56602, -11.04979, -11.21551, -12.16502, -12.12512, -13.07275, -11.46807, -12.49522, -12.69763, -12.17383, -10.9067, -13.2322, -12.86093, -10.82263, -11.36577, -13.29314, -11.45159, -11.74596, -12.3134, -11.70888, -10.76467, -12.86464, -12.97213, -12.88991, -11.43182, -10.66036, -10.88711, -10.64405, -11.52517, -11.48587, -12.17253, -11.31774, -10.83052, -11.73928, -10.69407, -10.03872, -10.5958, -12.00747, -12.52218, -11.55519, -10.88097, -10.42277, -10.98007, -12.58323, -11.32695, -10.50539, -10.79997, -11.27006, -11.25832, -11.77671, -12.40787, -10.4051, -11.00633, -11.7416, -11.29428, -11.00236, -11.78978, -11.89903, -10.26567, -9.99138, -9.68817, -10.60974, -10.28795, -10.61147, -10.19458, -10.73016, -10.26525, -11.94451, -12.51067, -11.57178, -11.2608, -11.32005, -10.93416, -10.09659, -12.03729, -12.21387, -11.31643, -9.88258, -11.07013, -10.7483, -12.16133, -12.05788, -13.24572, -11.80164, -11.26068, -12.35146, -12.57455, -11.48951, -11.5398, -11.5651, -12.28746, -12.15665, -11.92204, -10.40546, -12.28482, -11.40013, -12.47989, -11.9959, -11.85923, -11.6307, -10.73048, -10.56528, -11.21979, -10.29769, -9.92928, -10.09303, -11.53332, -11.36963, -10.72233, -10.52791, -10.78851, -10.58966, -11.56365, -10.81843, -10.47516, -11.03596, -11.22899, -11.94018, -11.39343, -11.3511, -10.31818, -8.96498, -10.91679, -11.48238, -12.36969, -10.76752, -11.6241, -12.47633, -12.14628, -12.0911, -11.25483, -11.89565, -12.15006, -11.30918, -10.89484, -11.86087, -10.96871, -10.73329, -11.13577, -10.74822, -10.78867, -10.79605, -11.89736, -11.03287, -11.51638, -10.79734, -10.73413, -11.50915, -12.69227, -13.28154, -11.3087, -10.39127, -12.20459, -11.5646, -9.71277, -9.07951, -10.59985, -10.92011, -12.01721, -11.53312, -11.18468, -10.41719, -10.45515, -10.80504, -11.85075, -12.17237, -12.59708, -11.89229, -10.685, -10.72149, -12.11062, -11.96937, -10.9557, -10.94093, -11.19112, -11.49136, -11.55021, -12.62723, -11.90271, -11.01514, -10.55838, -10.99378, -10.78293, -10.6965, -12.32102, -11.52907, -12.01192, -12.37221, -12.92308, -12.27183, -11.98886, -11.18992, -10.96809, -10.87401, -10.62551, -10.49007, -11.86152, -11.66503, -11.70479, -11.30708, -11.45596, -12.01506, -12.68704, -12.44919, -11.68238, -10.57327, -10.17082, -10.69054, -11.79086, -11.29558, -10.79058, -10.63615, -10.12884, -11.01667, -11.6416, -11.44683, -11.346, -11.29801, -11.32353, -10.60133, -10.73306, -11.2062, -11.91003, -11.89802, -12.2636, -10.22134, -9.79578, -11.3048, -11.54285, -12.26895, -10.50158, -11.91278, -11.41996, -11.66581, -9.47078, -9.74476, -11.72358, -11.41429, -11.04298, -12.54174, -12.73358, -12.51393, -10.2696, -11.42011, -11.06761, -11.91038, -12.60365, -12.55094, -12.20157, -11.54052, -11.28872, -12.52778, -12.85509, -12.24566, -12.12776, -13.2178, -12.6422, -10.88392, -10.83204, -11.23732, -11.77882, -11.12187, -10.6038, -10.48982, -11.90734, -12.03495, -12.84273, -11.98767, -13.35358, -12.23763, -10.81703, -10.50243, -11.83598, -11.3982, -12.53435, -11.38271, -12.70316, -11.40959, -11.59559, -10.38434, -9.89818, -10.84171, -11.28365, -12.67958, -12.64298, -11.14552, -9.91246, -10.8973, -11.53363, -10.77896, -10.50917, -12.02547, -12.09438, -10.91012, -9.76024, -11.42661, -12.17823, -11.5371, -10.29392, -11.84169, -12.13742, -12.54253, -11.55097, -11.14572, -11.69374, -12.86055, -12.23398, -11.89304, -11.89195, -10.59038, -10.40208, -10.24084, -11.14656, -10.05088, -9.39278, -10.7458, -12.24273, -11.46021, -10.95224, -10.11412, -10.05674, -10.75999, -11.40705, -11.89985, -12.06994, -11.60611, -10.04848, -10.58502, -10.55542, -10.97022, -10.91725, -11.32808, -12.22121, -11.6168, -11.84761, -10.98258, -11.73448, -12.04975, -13.06122, -11.82108, -10.40585, -10.66728, -11.0533, -11.08105, -9.65709, -10.34657, -10.12454, -10.79432, -12.00113, -11.28342, -10.27094, -9.29807, -10.97044, -13.06883, -11.511, -11.48021, -12.06627, -12.42547, -12.46155, -12.87248, -10.70371, -11.36665, -10.79369, -10.88381, -10.85219, -11.67, -11.89607, -11.33021, -11.68068, -10.54806, -10.70961, -10.6312, -11.51338, -10.98907, -11.89065, -12.07405, -11.13725, -10.47702, -10.22623, -11.79571, -12.53562, -12.6169, -10.91199, -11.67724, -11.95591, -11.88698, -9.45933, -9.34735, -10.1205, -10.16844, -10.42697, -10.79669, -11.69518, -11.14366, -10.68162, -9.90308, -10.26037, -11.36165, -10.49671, -10.1609, -11.02914, -11.07975, -10.60288, -10.54908, -10.81507, -11.63914, -11.64786, -12.17311, -11.47304, -11.69019, -11.57001, -11.60743, -11.72745, -12.39004, -11.53545, -10.23983, -12.61408, -11.71181, -12.69711, -11.23495, -11.53977, -11.65378, -11.82233, -11.5518, -10.71216, -11.52464, -11.85297, -11.69414, -11.18965, -11.68271, -11.73266, -10.7696, -9.81452, -10.40624, -10.87484, -11.10136, -11.75893, -10.31968, -9.76676, -10.48758, -12.5842, -11.30914, -12.617, -13.68486, -12.39567, -10.21069, -11.35866, -11.18037, -11.13665, -11.26824, -10.85301, -10.7207, -10.67064, -11.5874, -11.28407, -11.42753, -10.72911, -9.78314, -9.93498, -9.70277, -11.0483, -10.477, -11.15694, -11.28007, -11.66, -12.20206, -11.59647, -11.24499, -11.59968, -11.95559, -12.75769, -12.15969, -12.40649, -11.58576, -11.47155, -10.63043, -11.97237, -12.02698, -12.78828, -12.26495, -13.61934, -13.36276, -12.75907, -11.73884, -10.66671, -11.82214, -11.82188, -11.27125, -10.7035, -11.61406, -12.69985, -12.0779, -10.98592, -10.73733, -10.58247, -11.29781, -10.23972, -10.04447, -9.83966, -12.1868, -12.23266, -12.54487, -12.03739, -12.24383, -11.13998, -11.84354, -10.55951, -10.3474, -10.30532, -10.26727, -11.27486, -11.27481, -12.42852, -12.70628, -11.9202, -10.62259, -11.92259, -12.16481, -11.95681, -10.8279, -9.82591, -10.38152, -10.73006, -11.06185, -10.38899, -9.77795, -10.18622, -11.98814, -12.51515, -12.82465, -11.61575, -11.44815, -11.70676, -11.83942, -11.55564, -11.94795, -11.10423, -11.2661, -11.0065, -11.42779, -11.51838, -13.1578, -13.80251, -13.44538, -11.47446, -11.638, -10.28998, -10.25525, -8.98749, -10.31358, -12.12148, -11.18044, -11.91633, -11.87158, -11.9836, -10.59968, -10.8312, -10.50919, -11.18519, -11.59109, -12.5009, -11.08679, -10.2436, -10.83853, -11.51751, -11.66689, -11.43882, -11.85371, -12.32589, -11.4548, -11.07783, -10.81769, -11.57424, -11.62935, -11.28077, -10.79381, -11.42645, -12.09956, -11.20581, -11.54312, -11.97798, -11.24656, -11.09232, -10.5882, -10.90009, -11.90913, -11.38527, -12.73094, -12.0953, -12.39311, -10.98876, -11.75758, -11.54213, -10.19653, -10.2221, -10.89795, -10.78509, -11.34009, -11.16964, -9.80513, -10.04978, -9.64534, -10.81325, -10.23394, -10.82475, -11.22269, -12.74591, -13.40962, -12.44367, -11.56115, -11.32072, -11.25695, -12.52734, -11.51061, -11.07301, -11.6734, -12.22878, -11.12901, -11.16513, -11.57613, -12.3064, -11.73893, -12.52211, -13.02229, -13.38277, -10.75693, -10.01004, -10.87658, -11.50669, -12.91391, -12.59895, -12.42065, -11.45009, -11.89544, -12.74452, -11.57229, -10.58475, -10.38321, -11.26027, -10.70384, -11.3569, -11.29172, -10.82473, -10.27489, -12.51782, -13.64192, -11.93927, -11.94864, -12.20695, -13.15537, -11.55168, -11.16641, -10.95136, -11.04677, -10.26987, -10.04301, -11.48145, -12.42564, -11.06088, -11.36241, -10.52709, -10.77663, -10.21644, -11.46792, -11.7934, -12.08153, -11.49151, -12.31449, -12.47275, -11.8961, -11.72528, -12.04187, -11.53294, -11.14142, -10.67562, -11.0107, -11.41115, -12.65953, -12.27706, -10.35111, -11.64624, -11.98687, -11.96128, -10.48162, -10.46903, -10.35507, -12.06297, -12.36234, -10.84613, -11.64185, -10.61432, -10.8058, -11.8337, -12.627, -11.4431, -10.21439, -10.37899, -10.66978, -11.23989, -11.66158, -11.58534, -11.58649, -12.19645, -12.19734, -11.36222, -10.81922, -11.86604, -13.24297, -12.05804, -10.73008, -10.72372, -11.11892, -11.92452, -12.41898, -12.07636, -11.61759, -11.28263, -11.95889, -11.57777, -11.53992, -12.05268, -10.70392, -10.78434, -11.41556, -11.68385, -10.74212, -11.17353, -11.75373, -11.37037, -11.02542, -12.37162, -13.49474, -12.56824, -12.58852, -11.33693, -10.83802, -10.76087, -10.5819, -11.07182, -10.78849, -9.86459, -10.71435, -13.19948, -12.15346, -12.07184, -12.07444, -11.42305, -10.71045, -10.80931, -11.45941, -10.84998, -11.86323, -11.5926, -10.89105, -10.49888, -11.09459, -10.926, -10.30607, -10.77943, -10.46604, -11.38397, -11.84502, -12.4984, -12.2642, -11.34354, -10.19328, -10.90319, -10.53438, -11.50313, -11.83418, -11.21659, -10.7787, -11.07678, -12.40964, -11.76676, -11.52163, -10.80978, -10.29035, -10.87021, -10.82822, -11.32234, -10.75161, -10.38655, -10.62292, -10.93249, -12.07763, -11.55798, -11.71228, -11.7566, -12.1611, -11.24279, -10.26598, -12.01141, -12.65519, -11.47491, -11.12103, -10.38915, -11.25898, -10.71804, -11.66892, -11.26284, -10.2038, -10.59409, -11.47171, -11.24896, -10.87271, -10.23275, -10.56343, -10.67031, -10.32778, -11.62568, -12.56409, -11.55851, -11.71927, -12.25155, -11.45249, -10.49967, -12.45916, -11.94642, -11.7894, -11.04124, -11.09738, -10.18387, -11.08918, -11.47411, -11.54686, -11.2768, -10.73815, -10.57315, -10.53538, -11.29953, -10.91604, -11.62534, -11.16761, -10.5977, -12.11881, -12.67691, -12.3489, -10.45718, -10.98052, -9.73441, -9.6143, -10.90468, -11.81071, -12.97653, -11.5429, -11.26497, -11.53135, -12.32152, -12.28138, -12.28185, -12.20318, -12.74702, -13.20402, -11.131, -10.33121, -10.59285, -10.62084, -9.99342, -9.55837, -10.83116, -10.52637, -11.39172, -12.18176, -12.94866, -12.021, -12.0199, -11.67769, -10.6403, -11.7767, -14.04931, -12.76886, -11.00545, -11.63378, -11.56274, -11.33726, -10.94782, -10.90624, -11.19218, -12.84402, -13.17925, -12.61125, -11.32841, -10.42051, -9.58876, -10.75553, -10.70458, -11.72481, -11.58842, -11.88, -11.84478, -11.65588, -11.79312, -12.53247, -12.21196, -11.26751, -11.45036, -11.29174, -11.64642, -11.17857, -10.39759, -10.09662, -11.53287, -11.78134, -11.93003, -12.20795, -11.86344, -12.00856, -11.86824, -11.80355, -11.79007, -10.502, -10.20725, -10.13473, -9.81083, -11.62291, -12.2319, -12.35025, -11.45506, -11.81575, -12.41654, -11.45565, -10.90636, -12.28903, -13.4766, -12.85253, -12.4779, -11.84145, -12.07897, -10.76519, -11.30457, -11.40018, -11.23605, -10.4391, -12.29716, -11.73906, -12.20402, -11.69643, -11.72919, -10.70065, -11.77457, -11.8151, -11.12357, -11.96776, -11.91983, -10.67848, -10.57333, -10.92088, -11.5925, -11.63153, -12.76973, -12.23541, -11.40557, -11.65812, -11.15279, -10.41626, -10.17519, -11.17962, -11.49676, -11.86995, -10.89937, -12.4154, -11.63739, -11.15965, -10.09657, -11.47997, -12.23031, -13.17059, -11.41852, -11.28538, -11.07436, -12.40367, -11.93851, -11.33839, -13.74051, -14.04232, -13.483, -11.47664, -11.65957, -11.70036, -11.74509, -10.21702, -9.35442, -9.14418, -11.06368, -11.54826, -11.70137, -10.49559, -10.33234, -11.08857, -9.99683, -10.53739, -10.44372, -10.90592, -12.00575, -11.6956, -9.96896, -10.14824, -9.67242, -11.36886, -12.2369, -12.76689, -11.08609, -10.01392, -10.41176, -12.09024, -11.49688, -10.73443, -10.80234, -11.37494, -13.56369, -12.02251, -11.72901, -11.40075, -11.18253, -11.29428, -10.39016, -10.22255, -11.18028, -11.53869, -11.05976, -10.38231, -11.26341, -11.58767, -10.67513, -11.00133, -11.33584, -11.40043, -10.84502, -12.48321, -12.44284, -11.32986, -11.42755, -12.2869, -11.77892, -10.00405, -10.13638, -11.39301, -13.7306, -13.10978, -11.37356, -10.88197, -11.08515, -12.49683, -12.00254, -11.85927, -12.26152, -11.64668, -11.09743, -11.68279, -12.26907, -11.02837, -11.00253, -11.65625, -12.72214, -12.42049, -11.70409, -11.53676, -10.75038, -11.05111, -11.55037, -11.87779, -11.33554, -11.15919, -10.54796, -10.72083, -9.63506, -11.59031, -13.31559, -14.11626, -11.90594, -12.20452, -11.89417, -12.17005, -11.60054, -11.76508, -10.12328, -10.35821, -11.42373, -12.67931, -12.0595, -11.24645, -12.13647, -10.91309, -10.03525, -10.36242, -11.73373, -11.10978, -9.92717, -11.39903, -12.50911, -13.47409, -11.53743, -11.66618, -12.303, -11.40979, -11.82027, -12.44554, -11.56342, -10.31714, -10.00342, -12.54661, -12.23742, -13.20726, -10.92756, -10.87279, -10.67512, -11.10908, -11.07531, -10.36572, -10.79044, -11.90199, -12.36894, -12.05616, -10.97747, -11.02111, -11.22259, -11.86424, -10.61227, -10.9853, -10.42712, -11.54045, -11.5798, -11.22313, -10.53839, -10.3863, -13.08146, -11.54317, -10.22733, -9.47098, -9.46678, -9.73405, -10.60111, -12.40178, -13.11902, -12.71777, -11.71429, -13.07168, -12.44753, -10.33947, -11.3353, -11.649, -11.31601, -9.73755, -10.26261, -11.71687, -12.36302, -12.3019, -10.77031, -11.17426, -10.45207, -10.66128, -11.39399, -13.01009, -13.00393, -11.93963, -11.3275, -12.3594, -12.35604, -11.20782, -11.52026, -10.70886, -11.26796, -11.46154, -10.65066, -11.29772, -11.95326, -11.60606, -10.98672, -10.8654, -10.38182, -11.63058, -11.75995, -11.3143, -10.84982, -10.45726, -11.72374, -12.31674, -11.45558, -10.84398, -11.67391, -11.23498, -10.81236, -10.4073, -10.28606, -11.18465, -11.51904, -12.10937, -12.64542, -13.41082, -11.76013, -12.42885, -11.1463, -11.20466, -11.41803, -12.16685, -10.73776, -11.21967, -11.55106, -11.67732, -11.05442, -12.08557, -12.14471, -13.19386, -11.91727, -12.0702, -12.28291, -12.82485, -11.3035, -10.62598, -10.36029, -10.6043, -10.84664, -10.42154, -11.09234, -10.79409, -10.79995, -12.46893, -12.69037, -12.15328, -11.25515, -10.92268, -12.29289, -11.5664, -11.52666, -11.22623, -11.6319, -10.71507, -10.0982, -9.00065, -10.06845, -10.0029, -10.416, -10.51257, -12.0942, -12.05591, -12.48213, -13.52178, -13.41463, -12.36426, -11.81394, -12.402, -12.83534, -12.4833, -12.19025, -11.62724, -12.73296, -12.76899, -12.33846, -12.02101, -12.1256, -11.16134, -11.8438, -11.49134, -11.50828, -10.77105, -13.07173, -13.18279, -11.36769, -11.92135, -11.1321, -11.36853, -10.92509, -11.4198, -11.22762, -11.7035, -11.07696, -11.28457, -10.40956, -11.61003, -10.81038, -10.49468, -10.89707, -11.94053, -11.36819, -10.79772, -11.13252, -11.9274, -11.7437, -11.1366, -10.45896, -11.52392, -12.2462, -11.94183, -11.30639, -11.53089, -11.88718, -11.4196, -10.5189, -10.45382, -11.3119, -12.1028, -11.30277, -9.74006, -9.77291, -12.40928, -13.60298, -12.48337, -11.50139, -10.36564, -10.78781, -10.13795, -10.68611, -11.32278, -10.94607, -10.4027, -11.39905, -12.44791, -12.55598, -11.41883, -10.45352, -9.9211, -11.00935, -11.325, -10.93734, -10.79559, -11.45176, -10.91775, -10.77123, -10.93101, -11.21441, -10.27702, -11.35328, -11.34503, -10.89108, -11.50756, -15.7338, -14.90297, -13.02144, -10.75767, -11.27278, -11.87452, -12.72973, -11.85485, -11.33024, -11.45602, -10.811, -10.44589, -10.26094, -10.54447, -11.61908, -11.80601, -11.89969, -10.57254, -9.80213, -10.58006, -12.06833, -12.44418, -12.20652, -11.43399, -12.01693, -13.06692, -13.00146, -11.97627, -10.75911, -10.17812, -11.00387, -12.15311, -12.19004, -12.28869, -11.41846, -10.94933, -10.82021, -11.82261, -11.50946, -11.55252, -10.74167, -11.57212, -11.84938, -11.49184, -10.61925, -10.73213, -11.84895, -11.98412, -12.59818, -11.26449, -11.2365, -11.65498, -11.41781, -10.78709, -11.37729, -10.96931, -10.84216, -9.88113, -11.04822, -10.19094, -12.26423, -11.90022, -11.10605, -11.5227, -11.5291, -11.47006, -11.72582, -12.12495, -11.55136, -11.08392, -11.00339, -11.63137, -11.49696, -10.92992, -10.54315, -11.7112, -11.40796, -11.31646, -11.59482, -11.15783, -10.86468, -11.19951, -10.52074, -10.02583, -11.62328, -12.01896, -12.57541, -11.52723, -11.465, -11.24532, -11.50755, -12.56239, -12.61193, -13.41756, -11.7384, -9.96982, -9.05358, -10.64793, -9.8319, -11.27074, -12.20706, -12.22437, -11.58, -11.2532, -12.00179, -10.77023, -10.29299, -10.74557, -11.48384, -12.35294, -13.14435, -11.86032, -12.57426, -12.32926, -12.02231, -11.68768, -10.92604, -11.25322, -12.33972, -13.15689, -10.64335, -11.16476, -11.51712, -11.54067, -11.53088, -12.01519, -11.29101, -12.04768, -10.64194, -10.93639, -11.63077, -12.81236, -11.71012, -11.28368, -12.15658, -12.58863, -11.95763, -12.47294, -12.76576, -13.8878, -11.55725, -10.53876, -10.56292, -11.67894, -11.89339, -12.4473, -11.11294, -11.3718, -10.39625, -10.58347, -13.01677, -13.30623, -11.67014, -10.9047, -11.07669, -10.42379, -10.67436, -12.34555, -12.73903, -11.47711, -11.06393, -11.98434, -12.20582, -12.23477, -12.42385, -11.1389, -10.98018, -11.97194, -12.18732, -12.14949, -13.33407, -12.54647, -12.40766, -11.18974, -12.37442, -13.11839, -13.41028, -12.06913, -13.8192, -12.21142, -11.618, -11.19204, -11.70531, -11.98784, -12.73195, -12.42305, -11.29276, -12.45035, -12.69254, -14.40857, -13.07892, -14.19612, -12.94353, -11.26554, -11.64334, -12.01218, -11.36307, -11.87899, -12.39061, -12.31998, -11.81953, -12.22543, -11.5787, -11.4808, -11.83069, -11.29792, -12.17578, -13.42431, -13.03706, -12.54884, -12.57182, -12.46824, -12.63921, -13.46254, -13.90171, -13.2586, -13.18404, -12.65787, -13.1747, -14.01789, -14.31822, -13.95314, -14.42892, -13.55648, -12.79749, -13.33368, -14.99139, -14.6185, -15.44543, -15.92737, -15.67357, -14.68507, -15.76575, -14.58719, -15.12223, -14.77834, -14.87364, -13.7754, -15.11076, -15.66224, -16.65652, -15.72041, -16.02374, -16.1386, -15.91747, -16.01003, -17.66015, -16.89132, -15.92664, -15.69889, -17.33036, -18.26957, -18.4955, -18.98766, -17.2716, -17.32534, -17.96632, -19.4062, -19.02381, -18.08441, -17.89083, -18.77862, -20.56746, -19.55712, -20.19699, -20.61481, -22.16604, -21.00843, -20.601, -21.64342, -23.10412, -23.25022, -22.48456, -21.55556, -22.61687, -22.64121, -22.47262, -22.85312, -23.75194, -24.41673, -25.19703, -25.24193, -25.76784, -24.86182, -25.0992, -25.53541, -28.67819, -28.50989, -29.09821, -29.8316, -31.41122, -30.65794, -30.67194, -31.05827, -32.6269, -33.46643, -33.82006, -34.10797, -34.54423, -33.82675, -34.6803, -35.05791, -35.22562, -35.82077, -35.81184, -34.66407, -34.42565, -35.27308, -34.98206, -35.2713, -34.65331, -35.16939, -35.88796, -36.10545, -35.1565, -34.96994, -35.62169, -34.3621, -35.06928, -34.64364, -35.55026, -35.51522, -36.0214, -36.47955, -35.67788, -35.76615, -34.96752, -35.47081, -36.4133, -36.60297, -35.43614, -35.63094, -36.29439, -36.28546, -34.46682, -35.23134, -34.66391, -34.91138, -34.27815, -34.16393, -34.87455, -35.53065, -35.10796, -36.687, -35.89774, -35.56673, -35.86393, -36.97385, -35.71189, -34.58614, -34.86237, -35.87975, -36.29582, -36.69597, -35.6169, -35.75356, -35.76141, -35.54213, -35.84365, -36.10647, -36.58903, -35.84785, -36.5263, -35.0958, -35.20784, -35.19991, -35.94079, -35.16226, -35.52036, -35.04636, -35.18398, -34.49414, -35.54424, -34.70896, -35.52388, -34.79182, -34.98261, -35.87511, -36.01785, -36.31575, -35.69922, -35.7978, -33.96912, -34.12182, -33.98427, -33.75403, -34.20736, -34.30681, -34.37199, -35.76483, -36.71141, -35.53622, -33.86786, -34.1292, -35.5259, -35.27618, -35.44268, -35.44628, -34.87111, -34.72005, -35.72112, -36.06758, -35.4553, -35.02501, -35.01641, -34.74438, -34.44095, -34.37066, -35.1729, -34.16385, -34.31244, -34.66023, -35.2744, -34.21597, -34.65946, -34.30823]\n"
          ]
        }
      ]
    },
    {
      "cell_type": "markdown",
      "source": [
        "# Variational AutoEncoder Attack"
      ],
      "metadata": {
        "id": "rw7pqa5BFT1l"
      }
    },
    {
      "cell_type": "code",
      "source": [
        "import tensorflow\n",
        "import numpy\n",
        "import matplotlib.pyplot"
      ],
      "metadata": {
        "id": "yN-eV7WhFfJr"
      },
      "execution_count": 469,
      "outputs": []
    },
    {
      "cell_type": "code",
      "source": [
        "input_size = samples_filtered_df.shape[1] - 1\n",
        "latent_space_dim = 2\n",
        "distance_to_eval = 'all'"
      ],
      "metadata": {
        "id": "1r9jKpbMFcT3"
      },
      "execution_count": 470,
      "outputs": []
    },
    {
      "cell_type": "markdown",
      "source": [
        "## load dataset"
      ],
      "metadata": {
        "id": "J3BK0NzzGbLb"
      }
    },
    {
      "cell_type": "code",
      "source": [
        "samples_filtered_df"
      ],
      "metadata": {
        "id": "6wsRjpABkS6t",
        "outputId": "53bcf34c-2115-441f-80a4-7dfe2386e5f3",
        "colab": {
          "base_uri": "https://localhost:8080/",
          "height": 488
        }
      },
      "execution_count": 471,
      "outputs": [
        {
          "output_type": "execute_result",
          "data": {
            "text/plain": [
              "      Distance_km  -39.90625    -39.875  -39.84375   -39.8125  -39.78125  \\\n",
              "0              80 -65.158556 -66.359675 -66.708836 -71.777931 -66.092081   \n",
              "125            80 -54.902319 -57.469566 -58.650167 -58.256577 -57.120871   \n",
              "975            80 -55.246289 -58.903165 -59.936123 -58.754704 -53.084186   \n",
              "1000           80 -58.769150 -60.644357 -61.903338 -66.371732 -60.697843   \n",
              "1025           80 -62.672232 -63.551920 -63.130158 -61.900052 -61.208010   \n",
              "...           ...        ...        ...        ...        ...        ...   \n",
              "1699         2000 -39.060418 -40.089715 -39.184312 -33.321699 -32.394581   \n",
              "1724         2000 -45.777276 -39.520381 -35.212366 -31.215854 -31.976366   \n",
              "1749         2000 -33.005394 -37.672756 -39.242985 -37.025965 -37.250896   \n",
              "2399         2000 -36.358480 -32.709908 -31.364002 -33.805751 -35.584646   \n",
              "2499         2000 -36.594143 -34.475890 -33.258314 -32.997151 -34.153190   \n",
              "\n",
              "         -39.75  -39.71875   -39.6875  -39.65625  ...    34.6875   34.71875  \\\n",
              "0    -53.716181 -56.447556 -55.216247 -54.921922  ... -59.107222 -62.993632   \n",
              "125  -54.832446 -56.585764 -58.167556 -57.408129  ... -57.627135 -64.548644   \n",
              "975  -50.990158 -51.881985 -58.366417 -61.236644  ... -58.538788 -60.779631   \n",
              "1000 -58.893096 -60.500364 -63.977091 -61.713541  ... -61.793840 -58.908770   \n",
              "1025 -62.534571 -63.881451 -61.861091 -67.207673  ... -59.124382 -59.038588   \n",
              "...         ...        ...        ...        ...  ...        ...        ...   \n",
              "1699 -30.766774 -35.433400 -39.636295 -39.572805  ... -36.158246 -34.974566   \n",
              "1724 -33.063281 -32.262853 -35.781499 -35.580851  ... -32.811077 -33.647974   \n",
              "1749 -32.485086 -34.725450 -31.833082 -35.461288  ... -39.867905 -42.487405   \n",
              "2399 -32.223232 -30.862095 -28.720843 -31.102346  ... -34.051539 -35.013313   \n",
              "2499 -33.800276 -39.023602 -39.579739 -37.540062  ... -36.764209 -32.024320   \n",
              "\n",
              "          34.75   34.78125    34.8125   34.84375     34.875   34.90625  \\\n",
              "0    -54.834111 -54.361885 -64.653201 -69.901475 -61.469377 -54.784317   \n",
              "125  -65.637002 -63.156643 -58.177577 -59.985663 -58.031358 -60.922607   \n",
              "975  -60.445396 -60.851264 -59.971745 -59.222002 -61.642559 -61.885148   \n",
              "1000 -60.404921 -60.130890 -61.535060 -55.319260 -59.725285 -63.973778   \n",
              "1025 -59.114337 -57.422896 -57.627687 -57.376619 -56.733160 -58.539036   \n",
              "...         ...        ...        ...        ...        ...        ...   \n",
              "1699 -33.677152 -32.461789 -31.697031 -30.033924 -33.492361 -34.387412   \n",
              "1724 -34.523244 -34.873656 -38.167460 -35.568105 -38.499464 -41.863667   \n",
              "1749 -36.881447 -32.796440 -31.492113 -36.181981 -36.404388 -32.599868   \n",
              "2399 -33.634516 -34.267799 -36.189625 -35.279263 -33.557900 -30.107759   \n",
              "2499 -34.295020 -33.652013 -33.606912 -39.131861 -38.559208 -37.035780   \n",
              "\n",
              "        34.9375   34.96875  \n",
              "0    -55.229285 -61.405108  \n",
              "125  -59.679082 -56.034034  \n",
              "975  -61.544703 -59.897084  \n",
              "1000 -61.619858 -53.937357  \n",
              "1025 -58.086162 -56.690199  \n",
              "...         ...        ...  \n",
              "1699 -33.308819 -30.242322  \n",
              "1724 -44.503764 -46.884585  \n",
              "1749 -32.605291 -35.086710  \n",
              "2399 -31.016528 -34.939487  \n",
              "2499 -35.035530 -31.978698  \n",
              "\n",
              "[2500 rows x 2398 columns]"
            ],
            "text/html": [
              "\n",
              "  <div id=\"df-f4d9f50d-cc4a-444a-a6db-b05e49cb67a5\">\n",
              "    <div class=\"colab-df-container\">\n",
              "      <div>\n",
              "<style scoped>\n",
              "    .dataframe tbody tr th:only-of-type {\n",
              "        vertical-align: middle;\n",
              "    }\n",
              "\n",
              "    .dataframe tbody tr th {\n",
              "        vertical-align: top;\n",
              "    }\n",
              "\n",
              "    .dataframe thead th {\n",
              "        text-align: right;\n",
              "    }\n",
              "</style>\n",
              "<table border=\"1\" class=\"dataframe\">\n",
              "  <thead>\n",
              "    <tr style=\"text-align: right;\">\n",
              "      <th></th>\n",
              "      <th>Distance_km</th>\n",
              "      <th>-39.90625</th>\n",
              "      <th>-39.875</th>\n",
              "      <th>-39.84375</th>\n",
              "      <th>-39.8125</th>\n",
              "      <th>-39.78125</th>\n",
              "      <th>-39.75</th>\n",
              "      <th>-39.71875</th>\n",
              "      <th>-39.6875</th>\n",
              "      <th>-39.65625</th>\n",
              "      <th>...</th>\n",
              "      <th>34.6875</th>\n",
              "      <th>34.71875</th>\n",
              "      <th>34.75</th>\n",
              "      <th>34.78125</th>\n",
              "      <th>34.8125</th>\n",
              "      <th>34.84375</th>\n",
              "      <th>34.875</th>\n",
              "      <th>34.90625</th>\n",
              "      <th>34.9375</th>\n",
              "      <th>34.96875</th>\n",
              "    </tr>\n",
              "  </thead>\n",
              "  <tbody>\n",
              "    <tr>\n",
              "      <th>0</th>\n",
              "      <td>80</td>\n",
              "      <td>-65.158556</td>\n",
              "      <td>-66.359675</td>\n",
              "      <td>-66.708836</td>\n",
              "      <td>-71.777931</td>\n",
              "      <td>-66.092081</td>\n",
              "      <td>-53.716181</td>\n",
              "      <td>-56.447556</td>\n",
              "      <td>-55.216247</td>\n",
              "      <td>-54.921922</td>\n",
              "      <td>...</td>\n",
              "      <td>-59.107222</td>\n",
              "      <td>-62.993632</td>\n",
              "      <td>-54.834111</td>\n",
              "      <td>-54.361885</td>\n",
              "      <td>-64.653201</td>\n",
              "      <td>-69.901475</td>\n",
              "      <td>-61.469377</td>\n",
              "      <td>-54.784317</td>\n",
              "      <td>-55.229285</td>\n",
              "      <td>-61.405108</td>\n",
              "    </tr>\n",
              "    <tr>\n",
              "      <th>125</th>\n",
              "      <td>80</td>\n",
              "      <td>-54.902319</td>\n",
              "      <td>-57.469566</td>\n",
              "      <td>-58.650167</td>\n",
              "      <td>-58.256577</td>\n",
              "      <td>-57.120871</td>\n",
              "      <td>-54.832446</td>\n",
              "      <td>-56.585764</td>\n",
              "      <td>-58.167556</td>\n",
              "      <td>-57.408129</td>\n",
              "      <td>...</td>\n",
              "      <td>-57.627135</td>\n",
              "      <td>-64.548644</td>\n",
              "      <td>-65.637002</td>\n",
              "      <td>-63.156643</td>\n",
              "      <td>-58.177577</td>\n",
              "      <td>-59.985663</td>\n",
              "      <td>-58.031358</td>\n",
              "      <td>-60.922607</td>\n",
              "      <td>-59.679082</td>\n",
              "      <td>-56.034034</td>\n",
              "    </tr>\n",
              "    <tr>\n",
              "      <th>975</th>\n",
              "      <td>80</td>\n",
              "      <td>-55.246289</td>\n",
              "      <td>-58.903165</td>\n",
              "      <td>-59.936123</td>\n",
              "      <td>-58.754704</td>\n",
              "      <td>-53.084186</td>\n",
              "      <td>-50.990158</td>\n",
              "      <td>-51.881985</td>\n",
              "      <td>-58.366417</td>\n",
              "      <td>-61.236644</td>\n",
              "      <td>...</td>\n",
              "      <td>-58.538788</td>\n",
              "      <td>-60.779631</td>\n",
              "      <td>-60.445396</td>\n",
              "      <td>-60.851264</td>\n",
              "      <td>-59.971745</td>\n",
              "      <td>-59.222002</td>\n",
              "      <td>-61.642559</td>\n",
              "      <td>-61.885148</td>\n",
              "      <td>-61.544703</td>\n",
              "      <td>-59.897084</td>\n",
              "    </tr>\n",
              "    <tr>\n",
              "      <th>1000</th>\n",
              "      <td>80</td>\n",
              "      <td>-58.769150</td>\n",
              "      <td>-60.644357</td>\n",
              "      <td>-61.903338</td>\n",
              "      <td>-66.371732</td>\n",
              "      <td>-60.697843</td>\n",
              "      <td>-58.893096</td>\n",
              "      <td>-60.500364</td>\n",
              "      <td>-63.977091</td>\n",
              "      <td>-61.713541</td>\n",
              "      <td>...</td>\n",
              "      <td>-61.793840</td>\n",
              "      <td>-58.908770</td>\n",
              "      <td>-60.404921</td>\n",
              "      <td>-60.130890</td>\n",
              "      <td>-61.535060</td>\n",
              "      <td>-55.319260</td>\n",
              "      <td>-59.725285</td>\n",
              "      <td>-63.973778</td>\n",
              "      <td>-61.619858</td>\n",
              "      <td>-53.937357</td>\n",
              "    </tr>\n",
              "    <tr>\n",
              "      <th>1025</th>\n",
              "      <td>80</td>\n",
              "      <td>-62.672232</td>\n",
              "      <td>-63.551920</td>\n",
              "      <td>-63.130158</td>\n",
              "      <td>-61.900052</td>\n",
              "      <td>-61.208010</td>\n",
              "      <td>-62.534571</td>\n",
              "      <td>-63.881451</td>\n",
              "      <td>-61.861091</td>\n",
              "      <td>-67.207673</td>\n",
              "      <td>...</td>\n",
              "      <td>-59.124382</td>\n",
              "      <td>-59.038588</td>\n",
              "      <td>-59.114337</td>\n",
              "      <td>-57.422896</td>\n",
              "      <td>-57.627687</td>\n",
              "      <td>-57.376619</td>\n",
              "      <td>-56.733160</td>\n",
              "      <td>-58.539036</td>\n",
              "      <td>-58.086162</td>\n",
              "      <td>-56.690199</td>\n",
              "    </tr>\n",
              "    <tr>\n",
              "      <th>...</th>\n",
              "      <td>...</td>\n",
              "      <td>...</td>\n",
              "      <td>...</td>\n",
              "      <td>...</td>\n",
              "      <td>...</td>\n",
              "      <td>...</td>\n",
              "      <td>...</td>\n",
              "      <td>...</td>\n",
              "      <td>...</td>\n",
              "      <td>...</td>\n",
              "      <td>...</td>\n",
              "      <td>...</td>\n",
              "      <td>...</td>\n",
              "      <td>...</td>\n",
              "      <td>...</td>\n",
              "      <td>...</td>\n",
              "      <td>...</td>\n",
              "      <td>...</td>\n",
              "      <td>...</td>\n",
              "      <td>...</td>\n",
              "      <td>...</td>\n",
              "    </tr>\n",
              "    <tr>\n",
              "      <th>1699</th>\n",
              "      <td>2000</td>\n",
              "      <td>-39.060418</td>\n",
              "      <td>-40.089715</td>\n",
              "      <td>-39.184312</td>\n",
              "      <td>-33.321699</td>\n",
              "      <td>-32.394581</td>\n",
              "      <td>-30.766774</td>\n",
              "      <td>-35.433400</td>\n",
              "      <td>-39.636295</td>\n",
              "      <td>-39.572805</td>\n",
              "      <td>...</td>\n",
              "      <td>-36.158246</td>\n",
              "      <td>-34.974566</td>\n",
              "      <td>-33.677152</td>\n",
              "      <td>-32.461789</td>\n",
              "      <td>-31.697031</td>\n",
              "      <td>-30.033924</td>\n",
              "      <td>-33.492361</td>\n",
              "      <td>-34.387412</td>\n",
              "      <td>-33.308819</td>\n",
              "      <td>-30.242322</td>\n",
              "    </tr>\n",
              "    <tr>\n",
              "      <th>1724</th>\n",
              "      <td>2000</td>\n",
              "      <td>-45.777276</td>\n",
              "      <td>-39.520381</td>\n",
              "      <td>-35.212366</td>\n",
              "      <td>-31.215854</td>\n",
              "      <td>-31.976366</td>\n",
              "      <td>-33.063281</td>\n",
              "      <td>-32.262853</td>\n",
              "      <td>-35.781499</td>\n",
              "      <td>-35.580851</td>\n",
              "      <td>...</td>\n",
              "      <td>-32.811077</td>\n",
              "      <td>-33.647974</td>\n",
              "      <td>-34.523244</td>\n",
              "      <td>-34.873656</td>\n",
              "      <td>-38.167460</td>\n",
              "      <td>-35.568105</td>\n",
              "      <td>-38.499464</td>\n",
              "      <td>-41.863667</td>\n",
              "      <td>-44.503764</td>\n",
              "      <td>-46.884585</td>\n",
              "    </tr>\n",
              "    <tr>\n",
              "      <th>1749</th>\n",
              "      <td>2000</td>\n",
              "      <td>-33.005394</td>\n",
              "      <td>-37.672756</td>\n",
              "      <td>-39.242985</td>\n",
              "      <td>-37.025965</td>\n",
              "      <td>-37.250896</td>\n",
              "      <td>-32.485086</td>\n",
              "      <td>-34.725450</td>\n",
              "      <td>-31.833082</td>\n",
              "      <td>-35.461288</td>\n",
              "      <td>...</td>\n",
              "      <td>-39.867905</td>\n",
              "      <td>-42.487405</td>\n",
              "      <td>-36.881447</td>\n",
              "      <td>-32.796440</td>\n",
              "      <td>-31.492113</td>\n",
              "      <td>-36.181981</td>\n",
              "      <td>-36.404388</td>\n",
              "      <td>-32.599868</td>\n",
              "      <td>-32.605291</td>\n",
              "      <td>-35.086710</td>\n",
              "    </tr>\n",
              "    <tr>\n",
              "      <th>2399</th>\n",
              "      <td>2000</td>\n",
              "      <td>-36.358480</td>\n",
              "      <td>-32.709908</td>\n",
              "      <td>-31.364002</td>\n",
              "      <td>-33.805751</td>\n",
              "      <td>-35.584646</td>\n",
              "      <td>-32.223232</td>\n",
              "      <td>-30.862095</td>\n",
              "      <td>-28.720843</td>\n",
              "      <td>-31.102346</td>\n",
              "      <td>...</td>\n",
              "      <td>-34.051539</td>\n",
              "      <td>-35.013313</td>\n",
              "      <td>-33.634516</td>\n",
              "      <td>-34.267799</td>\n",
              "      <td>-36.189625</td>\n",
              "      <td>-35.279263</td>\n",
              "      <td>-33.557900</td>\n",
              "      <td>-30.107759</td>\n",
              "      <td>-31.016528</td>\n",
              "      <td>-34.939487</td>\n",
              "    </tr>\n",
              "    <tr>\n",
              "      <th>2499</th>\n",
              "      <td>2000</td>\n",
              "      <td>-36.594143</td>\n",
              "      <td>-34.475890</td>\n",
              "      <td>-33.258314</td>\n",
              "      <td>-32.997151</td>\n",
              "      <td>-34.153190</td>\n",
              "      <td>-33.800276</td>\n",
              "      <td>-39.023602</td>\n",
              "      <td>-39.579739</td>\n",
              "      <td>-37.540062</td>\n",
              "      <td>...</td>\n",
              "      <td>-36.764209</td>\n",
              "      <td>-32.024320</td>\n",
              "      <td>-34.295020</td>\n",
              "      <td>-33.652013</td>\n",
              "      <td>-33.606912</td>\n",
              "      <td>-39.131861</td>\n",
              "      <td>-38.559208</td>\n",
              "      <td>-37.035780</td>\n",
              "      <td>-35.035530</td>\n",
              "      <td>-31.978698</td>\n",
              "    </tr>\n",
              "  </tbody>\n",
              "</table>\n",
              "<p>2500 rows × 2398 columns</p>\n",
              "</div>\n",
              "      <button class=\"colab-df-convert\" onclick=\"convertToInteractive('df-f4d9f50d-cc4a-444a-a6db-b05e49cb67a5')\"\n",
              "              title=\"Convert this dataframe to an interactive table.\"\n",
              "              style=\"display:none;\">\n",
              "        \n",
              "  <svg xmlns=\"http://www.w3.org/2000/svg\" height=\"24px\"viewBox=\"0 0 24 24\"\n",
              "       width=\"24px\">\n",
              "    <path d=\"M0 0h24v24H0V0z\" fill=\"none\"/>\n",
              "    <path d=\"M18.56 5.44l.94 2.06.94-2.06 2.06-.94-2.06-.94-.94-2.06-.94 2.06-2.06.94zm-11 1L8.5 8.5l.94-2.06 2.06-.94-2.06-.94L8.5 2.5l-.94 2.06-2.06.94zm10 10l.94 2.06.94-2.06 2.06-.94-2.06-.94-.94-2.06-.94 2.06-2.06.94z\"/><path d=\"M17.41 7.96l-1.37-1.37c-.4-.4-.92-.59-1.43-.59-.52 0-1.04.2-1.43.59L10.3 9.45l-7.72 7.72c-.78.78-.78 2.05 0 2.83L4 21.41c.39.39.9.59 1.41.59.51 0 1.02-.2 1.41-.59l7.78-7.78 2.81-2.81c.8-.78.8-2.07 0-2.86zM5.41 20L4 18.59l7.72-7.72 1.47 1.35L5.41 20z\"/>\n",
              "  </svg>\n",
              "      </button>\n",
              "      \n",
              "  <style>\n",
              "    .colab-df-container {\n",
              "      display:flex;\n",
              "      flex-wrap:wrap;\n",
              "      gap: 12px;\n",
              "    }\n",
              "\n",
              "    .colab-df-convert {\n",
              "      background-color: #E8F0FE;\n",
              "      border: none;\n",
              "      border-radius: 50%;\n",
              "      cursor: pointer;\n",
              "      display: none;\n",
              "      fill: #1967D2;\n",
              "      height: 32px;\n",
              "      padding: 0 0 0 0;\n",
              "      width: 32px;\n",
              "    }\n",
              "\n",
              "    .colab-df-convert:hover {\n",
              "      background-color: #E2EBFA;\n",
              "      box-shadow: 0px 1px 2px rgba(60, 64, 67, 0.3), 0px 1px 3px 1px rgba(60, 64, 67, 0.15);\n",
              "      fill: #174EA6;\n",
              "    }\n",
              "\n",
              "    [theme=dark] .colab-df-convert {\n",
              "      background-color: #3B4455;\n",
              "      fill: #D2E3FC;\n",
              "    }\n",
              "\n",
              "    [theme=dark] .colab-df-convert:hover {\n",
              "      background-color: #434B5C;\n",
              "      box-shadow: 0px 1px 3px 1px rgba(0, 0, 0, 0.15);\n",
              "      filter: drop-shadow(0px 1px 2px rgba(0, 0, 0, 0.3));\n",
              "      fill: #FFFFFF;\n",
              "    }\n",
              "  </style>\n",
              "\n",
              "      <script>\n",
              "        const buttonEl =\n",
              "          document.querySelector('#df-f4d9f50d-cc4a-444a-a6db-b05e49cb67a5 button.colab-df-convert');\n",
              "        buttonEl.style.display =\n",
              "          google.colab.kernel.accessAllowed ? 'block' : 'none';\n",
              "\n",
              "        async function convertToInteractive(key) {\n",
              "          const element = document.querySelector('#df-f4d9f50d-cc4a-444a-a6db-b05e49cb67a5');\n",
              "          const dataTable =\n",
              "            await google.colab.kernel.invokeFunction('convertToInteractive',\n",
              "                                                     [key], {});\n",
              "          if (!dataTable) return;\n",
              "\n",
              "          const docLinkHtml = 'Like what you see? Visit the ' +\n",
              "            '<a target=\"_blank\" href=https://colab.research.google.com/notebooks/data_table.ipynb>data table notebook</a>'\n",
              "            + ' to learn more about interactive tables.';\n",
              "          element.innerHTML = '';\n",
              "          dataTable['output_type'] = 'display_data';\n",
              "          await google.colab.output.renderOutput(dataTable, element);\n",
              "          const docLink = document.createElement('div');\n",
              "          docLink.innerHTML = docLinkHtml;\n",
              "          element.appendChild(docLink);\n",
              "        }\n",
              "      </script>\n",
              "    </div>\n",
              "  </div>\n",
              "  "
            ]
          },
          "metadata": {},
          "execution_count": 471
        }
      ]
    },
    {
      "cell_type": "code",
      "source": [
        "#samples_filtered_df = samples_filtered_df.query('Distance_km == '+str(distance_to_eval))"
      ],
      "metadata": {
        "id": "Zf3VmCvo3-Vy"
      },
      "execution_count": 472,
      "outputs": []
    },
    {
      "cell_type": "code",
      "source": [
        "x_train, x_test, y_train, y_test = train_test_split(samples_filtered_df.values[:, 1:samples_filtered_df.values.shape[1]], samples_filtered_df.values[:, 0], test_size=0.2, random_state=111)"
      ],
      "metadata": {
        "id": "FNAceVNQmDf8"
      },
      "execution_count": 473,
      "outputs": []
    },
    {
      "cell_type": "code",
      "source": [
        "scaler = MinMaxScaler()\n",
        "data_scaled = scaler.fit(x_train)\n",
        "\n",
        "max_scaled = scaler.data_max_\n",
        "min_scaled = scaler.data_min_"
      ],
      "metadata": {
        "id": "16cE6mNG0UQn"
      },
      "execution_count": 474,
      "outputs": []
    },
    {
      "cell_type": "code",
      "source": [
        "x_train = data_scaled.transform(x_train)\n",
        "x_test = data_scaled.transform(x_test)"
      ],
      "metadata": {
        "id": "HrH15-LM0cco"
      },
      "execution_count": 475,
      "outputs": []
    },
    {
      "cell_type": "markdown",
      "source": [
        "## encoder"
      ],
      "metadata": {
        "id": "QwejjDUbFmJm"
      }
    },
    {
      "cell_type": "code",
      "source": [
        "# Encoder\n",
        "x = tensorflow.keras.layers.Input(shape=(input_size,), name=\"encoder_input\")\n",
        "\n",
        "encoder_dense_layer1 = tensorflow.keras.layers.Dense(units=512, name=\"encoder_dense_1\")(x)\n",
        "encoder_activ_layer1 = tensorflow.keras.layers.ReLU(name=\"encoder_relu_1\")(encoder_dense_layer1)\n",
        "\n",
        "encoder_dense_layer2 = tensorflow.keras.layers.Dense(units=256, name=\"encoder_dense_2\")(encoder_activ_layer1)\n",
        "encoder_activ_layer2 = tensorflow.keras.layers.ReLU(name=\"encoder_activ_layer_2\")(encoder_dense_layer2)\n",
        "\n",
        "encoder_dense_layer3 = tensorflow.keras.layers.Dense(units=128, name=\"encoder_dense_3\")(encoder_activ_layer2)\n",
        "encoder_activ_layer3 = tensorflow.keras.layers.ReLU(name=\"encoder_activ_layer_3\")(encoder_dense_layer3)\n",
        "\n",
        "encoder_dense_layer4 = tensorflow.keras.layers.Dense(units=64, name=\"encoder_dense_4\")(encoder_activ_layer3)\n",
        "encoder_activ_layer4 = tensorflow.keras.layers.ReLU(name=\"encoder_activ_layer_4\")(encoder_dense_layer4)\n",
        "\n",
        "encoder_dense_layer5 = tensorflow.keras.layers.Dense(units=32, name=\"encoder_dense_5\")(encoder_activ_layer4)\n",
        "encoder_activ_layer5 = tensorflow.keras.layers.ReLU(name=\"encoder_activ_layer_5\")(encoder_dense_layer5)\n",
        "\n",
        "shape_before_flatten = tensorflow.keras.backend.int_shape(encoder_activ_layer5)[1:]\n",
        "encoder_flatten = tensorflow.keras.layers.Flatten()(encoder_activ_layer5)\n",
        "\n",
        "encoder_mu = tensorflow.keras.layers.Dense(units=latent_space_dim, name=\"encoder_mu\")(encoder_flatten)\n",
        "encoder_log_variance = tensorflow.keras.layers.Dense(units=latent_space_dim, name=\"encoder_log_variance\")(encoder_flatten)\n",
        "\n",
        "encoder_mu_log_variance_model = tensorflow.keras.models.Model(x, (encoder_mu, encoder_log_variance), name=\"encoder_mu_log_variance_model\")\n",
        "\n",
        "def sampling(mu_log_variance):\n",
        "    mu, log_variance = mu_log_variance\n",
        "    epsilon = tensorflow.keras.backend.random_normal(shape=tensorflow.keras.backend.shape(mu), mean=0.0, stddev=1.0)\n",
        "    random_sample = mu + tensorflow.keras.backend.exp(log_variance/2) * epsilon\n",
        "    return random_sample\n",
        "\n",
        "encoder_output = tensorflow.keras.layers.Lambda(sampling, name=\"encoder_output\")([encoder_mu, encoder_log_variance])\n",
        "\n",
        "encoder = tensorflow.keras.models.Model(x, encoder_output, name=\"encoder_model\")"
      ],
      "metadata": {
        "id": "baSVtxFWFnSX"
      },
      "execution_count": 476,
      "outputs": []
    },
    {
      "cell_type": "markdown",
      "source": [
        "## decoder"
      ],
      "metadata": {
        "id": "H_dd_jcOFoBb"
      }
    },
    {
      "cell_type": "code",
      "source": [
        "decoder_input = tensorflow.keras.layers.Input(shape=(latent_space_dim), name=\"decoder_input\")\n",
        "decoder_dense_input_layer1 = tensorflow.keras.layers.Dense(units=numpy.prod(shape_before_flatten), name=\"decoder_dense_input_1\")(decoder_input)\n",
        "decoder_reshape = tensorflow.keras.layers.Reshape(target_shape=shape_before_flatten)(decoder_dense_input_layer1)\n",
        "\n",
        "decoder_dense_layer1 = tensorflow.keras.layers.Dense(units=64, name=\"decoder_dense_1\")(decoder_reshape)\n",
        "decoder_activ_layer1 = tensorflow.keras.layers.ReLU(name=\"decoder_relu_1\")(decoder_dense_layer1)\n",
        "\n",
        "decoder_dense_layer2 = tensorflow.keras.layers.Dense(units=128, name=\"decoder_dense_2\")(decoder_activ_layer1)\n",
        "decoder_activ_layer2 = tensorflow.keras.layers.ReLU(name=\"decoder_relu_2\")(decoder_dense_layer2)\n",
        "\n",
        "decoder_dense_layer3 = tensorflow.keras.layers.Dense(units=256, name=\"decoder_dense_3\")(decoder_activ_layer2)\n",
        "decoder_activ_layer3 = tensorflow.keras.layers.ReLU(name=\"decoder_relu_3\")(decoder_dense_layer3)\n",
        "\n",
        "decoder_dense_layer4 = tensorflow.keras.layers.Dense(units=512, name=\"decoder_dense_4\")(decoder_activ_layer3)\n",
        "decoder_activ_layer4 = tensorflow.keras.layers.ReLU(name=\"decoder_relu_4\")(decoder_dense_layer4)\n",
        "\n",
        "decoder_dense_layer5 = tensorflow.keras.layers.Dense(units=input_size, name=\"decoder_dense_5\")(decoder_activ_layer4)\n",
        "decoder_output = tensorflow.keras.layers.ReLU(name=\"decoder_output\")(decoder_dense_layer5)\n",
        "\n",
        "decoder = tensorflow.keras.models.Model(decoder_input, decoder_output, name=\"decoder_model\")"
      ],
      "metadata": {
        "id": "CEPnPi84FqmV"
      },
      "execution_count": 477,
      "outputs": []
    },
    {
      "cell_type": "markdown",
      "source": [
        "## vae"
      ],
      "metadata": {
        "id": "cexazT7yF9Tj"
      }
    },
    {
      "cell_type": "code",
      "source": [
        "vae_input = tensorflow.keras.layers.Input(shape=(input_size), name=\"VAE_input\")\n",
        "vae_encoder_output = encoder(vae_input)\n",
        "vae_decoder_output = decoder(vae_encoder_output)\n",
        "vae = tensorflow.keras.models.Model(vae_input, vae_decoder_output, name=\"VAE\")\n",
        "vae.summary()"
      ],
      "metadata": {
        "id": "Aq1hpMP9GDAT",
        "outputId": "5cbf2d10-8326-464b-c1e0-157c701cb782",
        "colab": {
          "base_uri": "https://localhost:8080/"
        }
      },
      "execution_count": 478,
      "outputs": [
        {
          "output_type": "stream",
          "name": "stdout",
          "text": [
            "Model: \"VAE\"\n",
            "_________________________________________________________________\n",
            "Layer (type)                 Output Shape              Param #   \n",
            "=================================================================\n",
            "VAE_input (InputLayer)       [(None, 2397)]            0         \n",
            "_________________________________________________________________\n",
            "encoder_model (Functional)   (None, 2)                 1402468   \n",
            "_________________________________________________________________\n",
            "decoder_model (Functional)   (None, 2397)              1404797   \n",
            "=================================================================\n",
            "Total params: 2,807,265\n",
            "Trainable params: 2,807,265\n",
            "Non-trainable params: 0\n",
            "_________________________________________________________________\n"
          ]
        }
      ]
    },
    {
      "cell_type": "markdown",
      "source": [
        "## loss and compile"
      ],
      "metadata": {
        "id": "PBpFaQdrGKBo"
      }
    },
    {
      "cell_type": "code",
      "source": [
        "def loss_func(encoder_mu, encoder_log_variance):\n",
        "    def vae_reconstruction_loss(y_true, y_predict):\n",
        "        reconstruction_loss_factor = len(x_test)  \n",
        "        reconstruction_loss = tensorflow.keras.backend.mean(tensorflow.keras.backend.square(y_true-y_predict))\n",
        "        return reconstruction_loss_factor * reconstruction_loss\n",
        "\n",
        "    def vae_kl_loss(encoder_mu, encoder_log_variance):\n",
        "        kl_loss = -0.5 * tensorflow.keras.backend.sum(1.0 + encoder_log_variance - tensorflow.keras.backend.square(encoder_mu) - tensorflow.keras.backend.exp(encoder_log_variance), axis=1)\n",
        "        return kl_loss\n",
        "\n",
        "    def vae_kl_loss_metric(y_true, y_predict):\n",
        "        kl_loss = -0.5 * tensorflow.keras.backend.sum(1.0 + encoder_log_variance - tensorflow.keras.backend.square(encoder_mu) - tensorflow.keras.backend.exp(encoder_log_variance), axis=1)\n",
        "        return kl_loss\n",
        "\n",
        "    def vae_loss(y_true, y_predict):\n",
        "        reconstruction_loss = vae_reconstruction_loss(y_true, y_predict)\n",
        "        kl_loss = vae_kl_loss(y_true, y_predict)\n",
        "\n",
        "        loss = reconstruction_loss + kl_loss\n",
        "        return loss\n",
        "\n",
        "    return vae_loss\n",
        "\n",
        "vae.compile(optimizer=tensorflow.keras.optimizers.Adam(lr=0.0005), loss=loss_func(encoder_mu, encoder_log_variance))"
      ],
      "metadata": {
        "id": "fRXsZfDSGPVE"
      },
      "execution_count": 479,
      "outputs": []
    },
    {
      "cell_type": "markdown",
      "source": [
        "## train"
      ],
      "metadata": {
        "id": "ivNkXatcXvkW"
      }
    },
    {
      "cell_type": "code",
      "source": [
        "epochs_test = [15, 50, 100, 500, 1000]\n",
        "for et in epochs_test:\n",
        "  print('Training with {} epochs ...'.format(et))\n",
        "  history = vae.fit(x_train, y_train, epochs=et, batch_size=32, shuffle=True, validation_data=(x_test, y_test), verbose=0)\n",
        "\n",
        "  plt.plot(history.history['loss'])\n",
        "  plt.plot(history.history['val_loss'])\n",
        "  plt.title('model loss epochs {} distance {}'.format(et, distance_to_eval))\n",
        "  plt.ylabel('loss')\n",
        "  plt.xlabel('epoch')\n",
        "  plt.legend(['train', 'test'], loc='best')\n",
        "  plt.savefig(path+\"/Spectrum/attack_vae/loss_plots/VAE_loss_epochs_\"+str(et)+\"_distance_\"+str(distance_to_eval)+\".png\")\n",
        "  plt.show()\n",
        "\n",
        "  # save autoencoder\n",
        "  encoder.save(path+\"/Spectrum/attack_vae/autoencoder/VAE_encoder_epochs_\"+str(et)+\"_distance_\"+str(distance_to_eval)+\".h5\") \n",
        "  decoder.save(path+\"/Spectrum/attack_vae/autoencoder/VAE_decoder_epochs_\"+str(et)+\"_distance_\"+str(distance_to_eval)+\".h5\") \n",
        "  vae.save(path+\"/Spectrum/attack_vae/autoencoder/VAE_epochs_\"+str(et)+\"_distance_\"+str(distance_to_eval)+\".h5\")\n",
        "\n",
        "  print('------------------------------------------------------')"
      ],
      "metadata": {
        "id": "mFC__rFPGdyq",
        "outputId": "4894c8bd-a854-4587-c375-1b82a633ad28",
        "colab": {
          "base_uri": "https://localhost:8080/",
          "height": 1000
        }
      },
      "execution_count": 480,
      "outputs": [
        {
          "output_type": "stream",
          "name": "stdout",
          "text": [
            "Training with 15 epochs ...\n"
          ]
        },
        {
          "output_type": "display_data",
          "data": {
            "text/plain": [
              "<Figure size 432x288 with 1 Axes>"
            ],
            "image/png": "[encoded data removed]"
          },
          "metadata": {
            "needs_background": "light"
          }
        },
        {
          "output_type": "stream",
          "name": "stdout",
          "text": [
            "------------------------------------------------------\n",
            "Training with 50 epochs ...\n"
          ]
        },
        {
          "output_type": "display_data",
          "data": {
            "text/plain": [
              "<Figure size 432x288 with 1 Axes>"
            ],
            "image/png": "[encoded data removed]"
          },
          "metadata": {
            "needs_background": "light"
          }
        },
        {
          "output_type": "stream",
          "name": "stdout",
          "text": [
            "------------------------------------------------------\n",
            "Training with 100 epochs ...\n"
          ]
        },
        {
          "output_type": "display_data",
          "data": {
            "text/plain": [
              "<Figure size 432x288 with 1 Axes>"
            ],
            "image/png": "[encoded data removed]"
          },
          "metadata": {
            "needs_background": "light"
          }
        },
        {
          "output_type": "stream",
          "name": "stdout",
          "text": [
            "------------------------------------------------------\n",
            "Training with 500 epochs ...\n"
          ]
        },
        {
          "output_type": "display_data",
          "data": {
            "text/plain": [
              "<Figure size 432x288 with 1 Axes>"
            ],
            "image/png": "[encoded data removed]"
          },
          "metadata": {
            "needs_background": "light"
          }
        },
        {
          "output_type": "stream",
          "name": "stdout",
          "text": [
            "------------------------------------------------------\n",
            "Training with 1000 epochs ...\n"
          ]
        },
        {
          "output_type": "display_data",
          "data": {
            "text/plain": [
              "<Figure size 432x288 with 1 Axes>"
            ],
            "image/png": "[encoded data removed]"
          },
          "metadata": {
            "needs_background": "light"
          }
        },
        {
          "output_type": "stream",
          "name": "stdout",
          "text": [
            "------------------------------------------------------\n"
          ]
        }
      ]
    },
    {
      "cell_type": "markdown",
      "source": [
        "## test model"
      ],
      "metadata": {
        "id": "dj4rHj7BG0NH"
      }
    },
    {
      "cell_type": "code",
      "source": [
        "epochs_num = 100\n",
        "encoder = tensorflow.keras.models.load_model(path+\"/Spectrum/attack_vae/autoencoder/VAE_encoder_epochs_\"+str(epochs_num)+\"_distance_\"+str(distance_to_eval)+\".h5\", compile=False)\n",
        "decoder = tensorflow.keras.models.load_model(path+\"/Spectrum/attack_vae/autoencoder/VAE_decoder_epochs_\"+str(epochs_num)+\"_distance_\"+str(distance_to_eval)+\".h5\", compile=False)\n",
        "\n",
        "encoded_data = encoder.predict(x_test)\n",
        "decoded_data = decoder.predict(encoded_data)"
      ],
      "metadata": {
        "id": "_Jm1CecgG3rf",
        "colab": {
          "base_uri": "https://localhost:8080/"
        },
        "outputId": "bbc50303-278a-4c23-b7f7-8169c238eca4"
      },
      "execution_count": 481,
      "outputs": [
        {
          "output_type": "stream",
          "name": "stdout",
          "text": [
            "WARNING:tensorflow:11 out of the last 11 calls to <function Model.make_predict_function.<locals>.predict_function at 0x7f30549adcb0> triggered tf.function retracing. Tracing is expensive and the excessive number of tracings could be due to (1) creating @tf.function repeatedly in a loop, (2) passing tensors with different shapes, (3) passing Python objects instead of tensors. For (1), please define your @tf.function outside of the loop. For (2), @tf.function has experimental_relax_shapes=True option that relaxes argument shapes that can avoid unnecessary retracing. For (3), please refer to https://www.tensorflow.org/tutorials/customization/performance#python_or_tensor_args and https://www.tensorflow.org/api_docs/python/tf/function for  more details.\n"
          ]
        }
      ]
    },
    {
      "cell_type": "code",
      "source": [
        "inverted_decoded_data = scaler.inverse_transform(decoded_data)\n",
        "inverted_x_test = scaler.inverse_transform(x_test)\n",
        "decoded_result = []\n",
        "\n",
        "# Adjusting data convertion and range\n",
        "cnt = 0\n",
        "for sample in decoded_data:\n",
        "  sample_decoded = []\n",
        "  delta_samples = []\n",
        "  delta_cnt = 0\n",
        "  for v in sample:\n",
        "    sample_decoded.append((v/10))\n",
        "    if delta_cnt <=50:\n",
        "      delta_samples.append(round(((v/10) - x_test[cnt][delta_cnt]), 3))\n",
        "    delta_cnt += 1\n",
        "  delta_test_decoded = np.mean(delta_samples)\n",
        "  if delta_test_decoded < 0:    \n",
        "    new_sample_decoded = [x+abs(delta_test_decoded) for x in sample_decoded]\n",
        "  elif delta_test_decoded > 0:\n",
        "    new_sample_decoded = [x-abs(delta_test_decoded) for x in sample_decoded]\n",
        "  else:\n",
        "    new_sample_decoded = sample_decoded\n",
        "  decoded_result.append(new_sample_decoded)\n",
        "  cnt += 1\n",
        "\n",
        "decoded_result = np.array(decoded_result)\n",
        "inverted_decoded_results = scaler.inverse_transform(decoded_result)\n",
        "check_plots_samples = [10]\n",
        "for cps in check_plots_samples:\n",
        "  print('----------Decoded_Original------------')\n",
        "  print(decoded_data[cps])\n",
        "  print('----------Decoded_Mod/10------------')\n",
        "  print(decoded_result[cps])\n",
        "  print('----------Inverted Decoded_Mod------------')\n",
        "  print(inverted_decoded_results[cps])\n",
        "  print('----------X_test------------')\n",
        "  print(x_test[cps])\n",
        "  print('----------Inverted X_test------------')\n",
        "  print(inverted_x_test[cps])\n",
        "  plt.plot(inverted_x_test[cps], label='original')  \n",
        "  plt.plot(inverted_decoded_results[cps], label='pred')\n",
        "\n",
        "  plt.title('Orig v Pred Sample {}'.format(cps))\n",
        "  plt.ylabel('power')\n",
        "  plt.xlabel('freq')\n",
        "  plt.legend(loc='best')\n",
        "  plt.show()\n",
        "  print('------------------------------------------------------')"
      ],
      "metadata": {
        "id": "vm5PplMV64u-",
        "colab": {
          "base_uri": "https://localhost:8080/",
          "height": 527
        },
        "outputId": "cdcffa0c-1e93-49c3-97dd-91eaea7df380"
      },
      "execution_count": 482,
      "outputs": [
        {
          "output_type": "stream",
          "name": "stdout",
          "text": [
            "----------Decoded_Original------------\n",
            "[7.351113  7.3516903 7.350141  ... 7.3507094 7.3515406 7.3515983]\n",
            "----------Decoded_Mod/10------------\n",
            "[0.99809168 0.99814942 0.9979945  ... 0.99805134 0.99813445 0.99814022]\n",
            "----------Inverted Decoded_Mod------------\n",
            "[-24.11448174 -28.20798892 -27.8281836  ... -27.11056737 -25.68160626\n",
            " -24.69261523]\n",
            "----------X_test------------\n",
            "[0.77882858 0.7994529  0.78097142 ... 0.85520745 0.72553355 0.60523725]\n",
            "----------Inverted X_test------------\n",
            "[-35.05237796 -36.66102575 -36.7836004  ... -33.21446716 -37.12563498\n",
            " -43.20555419]\n"
          ]
        },
        {
          "output_type": "display_data",
          "data": {
            "text/plain": [
              "<Figure size 432x288 with 1 Axes>"
            ],
            "image/png": "[encoded data removed]"
          },
          "metadata": {
            "needs_background": "light"
          }
        },
        {
          "output_type": "stream",
          "name": "stdout",
          "text": [
            "------------------------------------------------------\n"
          ]
        }
      ]
    },
    {
      "cell_type": "markdown",
      "source": [
        "## Create final modification for synthetic data"
      ],
      "metadata": {
        "id": "iamZWWsu6Ygv"
      }
    },
    {
      "cell_type": "code",
      "source": [
        "from scipy.signal import savgol_filter\n",
        "\n",
        "# Combined test samples by mean of 0.9 CI data points er columns\n",
        "combined_sample_x_test = []\n",
        "for i in range(len(inverted_x_test[0])):\n",
        "  col_val = []\n",
        "  for sample in inverted_x_test:\n",
        "    col_val.append(sample[i])\n",
        "  ci_lower, ci_upper = st.t.interval(alpha=0.90, df=len(col_val)-1, loc=np.mean(col_val), scale=st.sem(col_val)) \n",
        "  col_val = np.array(col_val)\n",
        "  col_val = col_val[ (col_val > ci_lower) & (col_val < ci_upper) ]\n",
        "  \n",
        "  combined_sample_x_test.append(np.mean(col_val))\n",
        "\n",
        "# Combined decoded samples by mean of 0.9 CI data points er columns\n",
        "combined_sample_decoded_results = []\n",
        "for i in range(len(inverted_decoded_results[0])):\n",
        "  col_val = []\n",
        "  for sample_col in inverted_decoded_results:\n",
        "    col_val.append(sample_col[i])\n",
        "  ci_lower, ci_upper = st.t.interval(alpha=0.90, df=len(col_val)-1, loc=np.mean(col_val), scale=st.sem(col_val)) \n",
        "  col_val = np.array(col_val)\n",
        "  col_val = col_val[ (col_val > ci_lower) & (col_val < ci_upper) ]    \n",
        "  combined_sample_decoded_results.append(np.mean(col_val))\n",
        "\n",
        "combined_sample_decoded_results = savgol_filter(combined_sample_decoded_results, 7, 3)"
      ],
      "metadata": {
        "id": "_urBVWcT6Wz1"
      },
      "execution_count": 483,
      "outputs": []
    },
    {
      "cell_type": "code",
      "source": [
        "print(combined_sample_x_test)\n",
        "print(combined_sample_decoded_results)\n",
        "plt.plot(combined_sample_x_test, label='original')\n",
        "plt.plot(combined_sample_decoded_results, label='pred')\n",
        "\n",
        "plt.title('Orig v Pred Sample {}'.format(cps))\n",
        "plt.ylabel('power')\n",
        "plt.xlabel('freq')\n",
        "plt.legend(loc='best')\n",
        "plt.show()"
      ],
      "metadata": {
        "colab": {
          "base_uri": "https://localhost:8080/",
          "height": 373
        },
        "id": "NjHtwNci9Atf",
        "outputId": "45730062-33eb-44fd-811e-d2310039f192"
      },
      "execution_count": 484,
      "outputs": [
        {
          "output_type": "stream",
          "name": "stdout",
          "text": [
            "[-40.569712688771276, -40.289624600743494, -40.12972784361561, -40.160143129559124, -40.419281506881845, -40.65872161849681, -40.081467747316196, -39.425460079166804, -39.5672334796215, -40.12577649321637, -39.880201238313845, -40.17679329068191, -40.280194869142676, -40.101078623085584, -39.43157636752296, -39.73136319895583, -40.06175308041591, -39.97091498591459, -39.852324353494375, -40.107734521301936, -39.956527598829716, -39.86081862624376, -39.99046836791796, -40.222691361642454, -39.737343497442936, -39.780218131505094, -40.24703223865366, -40.2322000331718, -39.78206463938762, -39.60034656089426, -39.913547048230974, -40.094127628901504, -39.93882207309999, -39.83564192027071, -39.68344159203435, -39.79054754398377, -39.929351586301955, -40.037524539701444, -40.310921525028476, -39.9614184239349, -39.63606536807451, -39.89697209300504, -40.04586109544842, -39.817469551019414, -39.92750174057524, -40.123763385722235, -40.15734854154537, -40.05968905350977, -39.7326392175772, -39.115098702492965, -39.08956960221473, -39.6687754530124, -40.18428535131757, -40.075504818563566, -39.76065005060861, -39.80301326899677, -39.934984032123765, -40.06720980657586, -39.53486518578968, -39.48345131710338, -39.6110168342429, -39.82178622072264, -39.71102461896912, -40.05108044537611, -40.04331316472536, -40.085114532101535, -39.80838691364579, -39.553921080697364, -39.85244963962464, -40.31200057141149, -40.67238130059168, -40.15705437273574, -39.64706430577703, -39.596623022590435, -39.914504364884934, -39.957982866794836, -39.79438770817816, -39.79837405653623, -39.951995191811456, -40.09965083216018, -40.25894598239408, -40.279270354670146, -40.10124374683017, -39.87884573565137, -39.526141116765665, -39.65131424159353, -40.03673707626934, -40.19912674146102, -39.784724748924965, -40.049664707354026, -40.12171825239359, -39.817903715972214, -39.826289085443925, -39.80705766815335, -40.21884717953013, -40.28268558010538, -40.23144687262124, -39.83814093786288, -39.95721312074459, -39.84689192789107, -39.38727232515271, -39.488941371991714, -39.8003649809964, -40.17077616706775, -40.10439779329998, -40.20493025758532, -40.286214547069825, -40.27708258772317, -40.10904414810801, -40.0084069323231, -40.0357454187959, -39.55433581028198, -39.24672879161216, -39.343169223555236, -38.75974615254905, -37.519652280721644, -36.0997923229583, -35.03300100167144, -34.20397659597235, -33.47354959638612, -32.844578422492354, -32.13865962029801, -31.585869682761977, -31.034256867712298, -30.09480731581156, -29.649584442566184, -28.444302723696925, -28.070629332604934, -27.32029378263635, -27.17616219344687, -26.301749147840752, -25.43947479964544, -25.452714246123314, -25.11753908297477, -24.808575715948095, -23.917661198047767, -24.25450134095084, -23.780446236263032, -23.56079952436975, -22.67533959558925, -22.52755552119219, -22.435201184208704, -22.157232405728656, -22.12962101985436, -21.81455099147999, -21.17735557540809, -20.45042957226003, -20.442054221134246, -20.473532374143023, -20.50147816528145, -20.27352350924428, -20.494207182297547, -20.290396305336476, -20.14956528955602, -19.267115953014343, -18.72692218416117, -18.146500926974955, -18.09252177361792, -18.098841290599527, -18.052783512184117, -17.84213740786601, -17.734276354498178, -17.771370094062206, -17.888271654404456, -18.429072790126654, -17.541759972257374, -16.5367689001411, -16.141529533056346, -17.27870837812867, -16.709498956382394, -15.716519587140274, -15.143422902345117, -16.09310472828334, -16.28502830656419, -15.719171425758292, -14.968390630697385, -15.172879762979685, -15.13161889374363, -14.890267137537837, -15.105522462828505, -15.364699191281161, -14.729241082416994, -14.078197886756541, -14.068079604403039, -14.562309083687202, -14.80570634145244, -14.57474415478421, -14.143678580764982, -14.299706332718756, -14.446997338228503, -14.373700256074907, -13.660719853446219, -13.177148746192758, -13.176020756553038, -13.441081353926409, -13.538078678739746, -13.165037808352949, -13.175055131477468, -13.013675524652218, -13.056446455265418, -12.813851484038528, -12.803850203603288, -13.422387645982704, -13.662816928780842, -13.937445830689672, -13.476290364346745, -12.966876699027761, -12.455560688112756, -12.513063905673668, -12.33128998835818, -12.023352560375569, -12.446346114017652, -12.609524578213929, -12.502310793802604, -12.082355567636661, -13.038871325725465, -12.704389084380754, -12.352666197427402, -11.843292086823947, -12.211757085305475, -11.848478661148356, -11.68481070648641, -12.311797132449863, -13.162787635606536, -12.581499107903932, -11.433944322458379, -11.324822903027796, -11.67832288142961, -12.828567515507663, -12.68332366376913, -13.060917041352296, -12.72393530486844, -12.97141571221783, -12.261932986530542, -12.594991522669494, -12.932411039116422, -12.435132131068782, -12.530905526881657, -12.18423198941295, -12.15587129288578, -11.270148714434237, -11.726888645902173, -11.603936632116525, -11.669434836864633, -11.857085325379932, -11.749593867214015, -12.23131787276962, -12.27322608369791, -12.344828899922382, -12.037701493034227, -11.57174271149535, -12.211793545421681, -12.05878871571986, -11.254376434914578, -10.771881619336312, -11.109815536872357, -11.765413581208277, -11.336204672908709, -11.316362681216582, -11.545540359456046, -11.892209971683837, -12.028977933984033, -12.089656183774135, -12.117689847958468, -11.630058946794607, -11.464430683336026, -11.358703644559482, -11.229345908766312, -11.7417692209849, -11.58047122205236, -11.613520933345294, -10.965572380941145, -11.83977904038431, -11.615779116470582, -11.904287003810113, -11.451403016587319, -11.521018222159318, -11.543833472207861, -11.391821988220615, -11.505134958551743, -12.371297262315561, -12.99065572187486, -12.13112280122637, -11.185229439178793, -11.671985440347026, -11.925289380233531, -11.672368953257532, -11.71920103432036, -12.041971923110152, -12.400217896922994, -12.4471044271349, -12.425088791200032, -11.646130310215703, -10.97624844823866, -11.028568693443285, -12.052051367027712, -12.076566233780346, -11.931524103641618, -11.919249057427137, -11.971970995629418, -11.164118053570943, -11.270228579527142, -11.7826368811114, -11.724983486784232, -11.553927549720298, -11.406810851116141, -11.32563199585938, -11.420299271970073, -11.86491739333283, -11.591407998692901, -11.572988309246174, -11.906829337909825, -12.18371782476304, -12.02014551623513, -11.908781917192629, -12.056917243948226, -12.177563076563441, -11.546397376318275, -10.856926130597756, -10.887399323047376, -11.417634665534258, -11.321896116661932, -11.022348039033654, -11.007879598851659, -11.184747189977676, -11.28224501291663, -11.62671059770143, -11.887912906120361, -12.06094450289128, -11.952054176683584, -12.002552905747308, -11.600591196274003, -11.199115131377658, -11.276409493960138, -11.6187582727184, -11.735122513048124, -11.909218045667515, -11.717105254021991, -11.743923886917033, -11.726365022385854, -12.120620063047598, -11.526838361412073, -11.369706090502453, -11.79781526380733, -11.959370806251846, -11.67257141228424, -11.074589723995937, -11.297369002260005, -11.042526298665953, -11.580427085634375, -11.826582024829225, -11.834434319578477, -11.911084332608855, -12.343955111005615, -12.501714164693848, -12.183182153476649, -11.568779829985443, -11.621304077731843, -11.162457050468795, -11.213667597189847, -11.230307799380796, -11.020851775058826, -10.407449753904716, -11.628788605511236, -12.253537974326196, -11.738736646521867, -11.266895342163274, -11.046096407987852, -11.376149930174766, -11.295862122756835, -11.698599460595249, -11.513302166045692, -11.680550308483639, -11.160462888254798, -12.21408974297772, -12.836263200856623, -13.034176552982288, -12.023681172136927, -12.156060694416775, -12.161906371510696, -11.795177783564098, -11.681732105027848, -11.462184682947864, -11.820708821283796, -11.597799657560902, -11.430729173794218, -11.216799547543964, -11.3169205826954, -11.525082654024866, -11.28938602954644, -11.740611830713396, -12.014528771739249, -11.950051077395583, -11.33080942876346, -11.844528894632784, -11.950174736373183, -12.005535432289491, -11.192375075896242, -11.286143362333931, -11.201958021677303, -11.712814270266907, -11.903381153467409, -11.521432665723415, -11.218076605891488, -11.457821986964763, -11.982521679170302, -11.706672409050423, -11.550914584390013, -11.9369978354334, -11.988198189195103, -11.356129237766773, -10.520968490168352, -10.353635724961999, -10.449152341045897, -11.028546528884284, -11.4002639002934, -11.58080281027962, -11.617043361363198, -12.057257765540202, -12.087532562204823, -11.964075110029984, -11.621225251829957, -11.90229849681303, -11.240791913595721, -11.212911881585415, -11.389317270314349, -11.68550554193304, -11.212196251545482, -11.189159723633757, -11.742839798705075, -11.674632690979308, -11.888456257161632, -11.726822870738465, -11.812758163180215, -11.490987647176238, -11.601836112283001, -10.903846372071461, -10.799160168694, -11.569624616815586, -11.982630388559526, -11.994559792668605, -11.610738061871555, -11.77663830361009, -12.288019973005476, -12.21794611806154, -11.667366755669933, -11.290319362134923, -11.606253379998387, -11.180778711885067, -10.703044160060275, -10.845735456795376, -11.70880253163799, -12.464362353062766, -12.228142469691171, -11.754345334532816, -11.442776922234632, -11.066324473789358, -11.305535284498294, -11.72120812604316, -12.519278806981529, -12.590788324478533, -12.23644689723569, -11.690478543089649, -11.21026195958778, -11.263661589924936, -11.503713592997116, -11.364760323770222, -10.81017409834233, -11.541996723599723, -12.261969429888843, -12.553456105665461, -12.28286568449575, -12.291060084358765, -11.522911455047183, -11.317078399856126, -11.53420725261479, -11.88125881104327, -11.331257774297777, -11.73486467976216, -11.552583567619179, -11.49529259370382, -10.9986916392326, -11.02058301177481, -10.854420951926553, -11.315549693383185, -12.000982322914844, -12.159670015276015, -11.616181305779657, -11.170052641529187, -11.336854030504414, -11.719285067728508, -11.629649341390127, -11.175068199296533, -11.057951427984827, -11.748178411066055, -11.78343366311945, -11.056095335708488, -11.432565068872563, -11.65326140915543, -11.530216102467506, -11.47485633086211, -11.694188193855533, -11.545069774117119, -10.588261355150715, -10.985038213899545, -11.606947606226013, -11.97925190923994, -10.888104857156778, -11.29288167970327, -11.773649844076749, -11.913772480116265, -11.155142274995518, -11.040058236895277, -10.837149920513806, -11.524779027675201, -11.532670638714237, -11.888800075143427, -11.37999723482223, -10.959012171546412, -11.259395780111074, -11.613959097088804, -11.687467894037274, -10.94433693394487, -11.177395137550917, -11.155836702210285, -11.929098709171264, -11.786480411573297, -11.606621426761675, -10.930226925631477, -11.147268734595366, -11.27780703124049, -11.690756241443474, -11.364628935558809, -11.168965561692769, -10.896175883552926, -11.438398645090668, -11.17904735448428, -11.13460315408219, -11.178393765669247, -11.220152365404529, -11.529375609716146, -11.531361629707499, -11.525050586805452, -11.141179508644257, -11.263861081932404, -11.099328198853415, -11.4777933940614, -11.79260878689378, -12.055832205390871, -11.44251051924787, -11.24730517767447, -11.132808568389837, -11.451492522563909, -11.12538676748807, -11.119992306748907, -11.24631379236982, -11.320050776593193, -11.04861546315757, -11.431300384778645, -11.581956369894822, -11.588406898992716, -11.482624006215865, -11.657221219828454, -11.697538181282933, -11.612395695500883, -11.59830670361763, -12.340551132553111, -12.510231383359363, -11.67381678463903, -10.817452732308526, -10.981774198646974, -11.348031954718072, -11.61524831895657, -11.31674357950515, -11.155223371972598, -11.343576399155266, -11.687077001461113, -11.769982337467619, -11.80698322125473, -11.803365572877738, -11.872548764403398, -11.337520000351583, -11.23951937621426, -11.084365643932344, -11.471605950163545, -10.702872801943775, -10.378714834093136, -10.902700510778837, -11.830326349347985, -11.758136605892084, -10.72561538360838, -11.079279523800013, -11.691556691877492, -12.014684464657938, -11.143051684108663, -11.027459252060556, -11.363313618374244, -12.011880227322743, -11.614880935314154, -11.252979241302233, -11.403883525436845, -11.900549402748899, -11.19070556352211, -11.340725428163726, -11.092264742978927, -11.421443831642359, -11.133346645587807, -11.612681974987723, -11.515959750178112, -11.800740231565607, -11.777512017375738, -11.287459261886639, -11.376252088356315, -10.964547005744995, -11.414358333647806, -11.735867805335264, -12.022576234098475, -11.788305839442343, -11.008278517580994, -10.953205195425058, -11.10267954309428, -11.649105225474118, -11.356664166164457, -11.24497143605972, -11.081659207258054, -11.170569884319614, -11.934925024047088, -11.21398394743282, -11.630254214199132, -11.593952047796414, -11.844172603670406, -11.041324082005586, -11.235021229123733, -11.830429554731706, -11.954788964604571, -11.674722727973142, -11.19369713651335, -11.683049169096936, -11.83937011602447, -12.185534187654323, -12.424038818424261, -12.24352115595809, -11.222493502129517, -11.58357119760537, -11.440641405500916, -11.089315885163002, -11.136183838782511, -11.85911077818041, -11.714437364747585, -11.42485171636657, -10.77840994952485, -10.48792615661745, -10.08706614929561, -10.803330495608654, -11.110402033498666, -11.800723240914587, -11.677513148391126, -11.664582957681235, -11.597343619040453, -12.154963830925842, -11.759300432104533, -11.775709765514602, -11.664872185076852, -11.930872464694069, -11.337822494191155, -11.278827078933702, -11.77509440102551, -11.746226004953263, -11.364679089132599, -11.787301515395727, -12.256693150757117, -12.31900647409438, -11.895098260716484, -11.796436234902826, -11.705250412354719, -11.525393464003884, -12.488093156510304, -11.812436004965662, -11.593787110659507, -10.865823688140082, -11.63976333369543, -11.51735822545454, -11.78517041611216, -11.793859731642968, -12.198419962111984, -12.0954897622752, -11.792001891494818, -11.774137518382991, -11.567748262992826, -11.455086067912742, -11.403733275758285, -11.451318558045894, -11.365025304848213, -11.469390292993584, -11.719437063050947, -11.878152834685178, -11.588455489373901, -11.03279427761621, -10.820398731670405, -11.301975569700506, -11.218936604843016, -11.67442922308994, -11.769444468874465, -11.78960119010641, -11.026866005338679, -11.231251210342693, -11.730208342463447, -12.163650274947672, -11.948402454026747, -11.620648052665368, -11.891203371597054, -11.423258393163056, -11.420700391458864, -11.17450924024992, -11.117081652369507, -10.917949080156928, -11.397549549067833, -11.273851597484231, -11.257199865998716, -11.287599592724426, -12.006513877374594, -12.000340206087508, -12.086093734899372, -11.782331181931895, -11.291597249274405, -11.52530876904567, -11.780702426433916, -11.697984054378095, -10.94790248841816, -11.014623895031837, -11.524844322333028, -12.168576295931473, -12.113124408593059, -11.31769509681625, -10.831378154442945, -11.648993695584203, -11.2765613932931, -11.242983631448201, -11.781446791337894, -12.184684539399612, -11.891608715580965, -11.42243734818539, -11.302419743756696, -11.862430037940081, -12.234996895535932, -11.609768781688969, -11.33292028863022, -11.468258238553215, -11.174131670638253, -11.065978746529273, -10.919905110901334, -11.3901954444372, -11.223141061763576, -11.271393860282608, -11.227908408379365, -11.220259273202135, -11.664099223854324, -11.484811830143586, -11.464255359672224, -11.071059107192022, -11.599441439772281, -11.585284321935843, -10.97837679725536, -11.207528157955675, -11.764396620720472, -12.47215154718647, -12.32730009591122, -11.88237278352683, -11.194075032294748, -11.236260437550026, -11.521845256364807, -11.85947983835118, -11.787146631455816, -11.510438398634387, -11.074307654870983, -10.94909007833707, -10.695536166171376, -11.158118616046838, -11.843788733371952, -11.696221447957795, -11.556519941227164, -11.050835652199591, -11.32965199440985, -11.236739290228552, -11.643483285461112, -12.057231662792772, -11.978333648941872, -11.069584108390286, -10.26335134406852, -10.476591411568089, -10.723139377299052, -11.23661985229676, -11.402239664912853, -11.922644022225533, -11.861292625317509, -12.078940199265514, -12.042566584964877, -11.79535903335982, -11.376699954955464, -11.19838210477959, -11.445724747515799, -11.70760624782251, -11.112889808704486, -11.097986609157639, -11.045845013172363, -11.545999751883251, -11.183267980769699, -11.742913966696161, -11.174926405665497, -11.350629679035722, -10.890966832655025, -11.64843261113044, -11.30986002624117, -11.175841421612452, -10.909652703389481, -11.995366984363429, -11.944618987033133, -11.625633636231084, -11.034017605384168, -11.288538850485677, -10.958458992066328, -11.448892697002917, -11.263226655040034, -11.610530678512308, -11.461010540916927, -11.842373705633284, -11.613733309862774, -11.251315530989418, -11.430763778986835, -11.638993335627244, -12.086538948447597, -11.817442298482423, -11.749816362097372, -11.703242448742941, -11.814056003756466, -11.366658986280099, -10.946585858911714, -10.586293354818526, -11.089420966864205, -11.59894930756701, -11.575914645619408, -11.725049830762721, -11.584624992140489, -11.6799649090469, -11.372811491782588, -11.81170451328319, -12.01367590431562, -12.371129966364249, -12.11317897449431, -11.757130463482248, -11.281543637771161, -12.042119744421255, -12.206382975450518, -11.963572159821824, -11.618029360283543, -11.776333269033827, -12.191778906294488, -12.331916387164641, -12.621510908861042, -12.033493000865603, -11.455620721592789, -11.106700348734071, -11.278264788889402, -11.584486594104282, -11.804953298741465, -11.62752606325838, -11.473028998603827, -11.158220360594363, -11.283108727613651, -11.390113921996862, -11.01242335210395, -10.66626891775216, -10.657140912355565, -11.740965561455912, -11.877682562172463, -12.489428525111054, -11.952849924144264, -11.970749717510152, -11.446647856240842, -11.321324155189874, -10.915163549322369, -11.137592831729519, -11.433274191629334, -11.639276977629134, -11.55409988464762, -11.219278474630622, -11.432795774420386, -11.679217038392183, -11.37558635253936, -11.249084557810283, -11.39578581442057, -11.52158800665432, -11.108026526659426, -11.079628610643292, -11.47928457451881, -12.060834187569819, -11.650736125092454, -11.333893635336867, -11.494610600735975, -11.809917150165422, -11.747751593789706, -11.307464974237167, -11.263164807051222, -11.638045032837562, -11.424805179064334, -11.421256392458723, -11.416126630015498, -11.773798568130669, -11.004522549431748, -11.203004274349777, -11.361743476876127, -11.938340160970084, -11.613141167418489, -11.585030883946411, -11.824830385691705, -11.516748662990839, -10.967893044032774, -10.837998146502052, -11.029584670248212, -11.265219337980948, -11.73618945625602, -12.346819638716424, -11.70431987239324, -11.295413011129455, -10.685589812597586, -11.254102464610398, -11.380150025935109, -11.518479163353653, -11.156325261074693, -11.202806441811893, -11.535260877408367, -12.317913875067191, -12.19541955966266, -12.086715897163417, -11.268145308540346, -11.130175837436573, -11.077057134194051, -11.826523180796253, -11.546583675513707, -11.936032191155075, -11.815187028230463, -11.835114290010786, -11.71417793291718, -11.417579218457284, -10.851141743703447, -10.991567451498874, -11.917274073426176, -11.917996048010092, -11.154587951197245, -10.974679145273518, -11.741373778272182, -11.63435891611447, -11.381897639103688, -11.25115886136377, -12.213295889524169, -12.235281861766948, -12.21365718354912, -11.429644618102108, -11.616608358776384, -11.497371490613203, -11.79101841775345, -11.93476122488846, -11.908132374050183, -12.048973081715358, -11.485400328015652, -11.574685557552536, -11.275642992021673, -11.572367077839626, -11.116407030120415, -10.765159281665175, -10.452793505995702, -11.02844134359945, -11.271321775896693, -11.287948175471936, -10.924133196321307, -11.03191130546192, -11.715436856288905, -12.187594632372674, -12.074395136337488, -11.43907019416903, -11.565715597555474, -11.20182872508851, -11.862111355388793, -11.238615521081813, -11.05670848458836, -11.277461232909127, -11.646141106548132, -11.774866117647868, -11.40090217868354, -11.578260999826732, -11.599785112673944, -11.399295585618843, -11.729915716759834, -11.76199343967142, -11.896229176804527, -11.06736655524379, -11.07569241785341, -10.789211935883328, -11.275709701774812, -11.163020456035706, -11.637788913903583, -11.802815640215169, -12.640524222020295, -12.245258616845872, -11.73861361955904, -11.195046508214391, -11.311388125756794, -11.280699661157906, -11.334428959619215, -10.812565602596909, -11.131503079413092, -11.242514281685526, -12.042649573397814, -12.037573175420306, -11.83560755597432, -10.883943994088204, -11.145493608491625, -11.923810433523295, -11.69350654923678, -11.529544178456794, -11.505350100670766, -11.297227661732514, -11.306928964122605, -12.42186977299482, -12.683564404036561, -12.167519071546966, -11.262828221067526, -11.062154349953975, -11.493639571827412, -12.396868705629846, -12.180279286553825, -11.47746177829095, -11.512996978673275, -11.994176918578662, -11.968768419537316, -10.846369286434864, -10.935583531536157, -10.931424039671635, -11.39435979287154, -10.9624079329594, -10.945189812503939, -10.528777253557426, -10.644646828257386, -11.205705569793318, -11.388945464255926, -11.79726583935455, -11.429375297788551, -11.178597535651884, -11.040748617360157, -10.949724263746656, -11.096559947306723, -11.059073060445614, -11.479658359080714, -11.556642718985882, -11.506251978826603, -11.379711295683139, -11.37709153896831, -11.298860870272428, -11.608112482367755, -11.377067563185799, -11.359696224936386, -11.085108986756133, -11.268829794089278, -11.789955301387549, -11.981312358540555, -12.010859106953223, -11.672730740763472, -11.718150443902864, -11.209761289095033, -11.13936281572443, -10.913177548131316, -11.177443930909853, -11.106914206686637, -11.906602044086615, -11.844350067255712, -11.357377867898364, -10.844055950191393, -11.474386118447665, -11.212453958820642, -11.15764526246876, -11.175897229280318, -11.395546153127786, -11.22219688008491, -10.832378341639576, -11.518829648984617, -11.984458562111735, -11.398116926626077, -10.87273928394993, -11.20700810324216, -11.930542542156777, -11.5078531893097, -11.949362693734978, -11.833650395002755, -11.745559117762356, -11.407738380432683, -11.895674157302466, -11.729348713942416, -12.37298096833785, -11.971813210037109, -11.782116216019693, -11.188537044513131, -11.461131495627686, -11.78397270813503, -11.657583119699902, -11.37515330102975, -11.430076379415267, -11.918442317920274, -11.74527643496789, -11.02876327584973, -10.930024776949509, -11.650228746830763, -12.108848732685153, -11.750462754411583, -11.34816083956911, -11.507798206182729, -11.566337714096628, -11.359186383821047, -11.715959947690276, -11.929657418150258, -11.77211142088157, -10.801404045071754, -10.509324748846229, -11.131525329170161, -11.677719524435295, -11.797602493687679, -11.697570490019803, -11.682286779081783, -12.049462300214472, -12.080578690886455, -11.26147544794978, -10.831421710894507, -11.614496376625441, -11.982505412808731, -11.675669410354907, -11.828477517703842, -12.34954034295756, -12.315853473009112, -12.232553254803358, -12.009929368472465, -11.60246234609043, -11.292141960667253, -10.95079614126374, -11.261661628529243, -11.822498942363687, -12.303901022611008, -12.052021685252505, -11.758404289478404, -12.088819739491703, -12.18358016731323, -11.982523609235662, -11.840318611678683, -11.81706356333923, -11.17753175034592, -11.351503248972376, -12.248688958661974, -12.679792471037748, -12.403226997551593, -11.606778257752401, -11.254760127986566, -11.177465328032486, -11.489648006998829, -11.197041709454748, -10.709792263338228, -10.443595316590077, -10.593041250806914, -11.367552051037698, -11.343456074136283, -11.718377896900597, -11.989224614198934, -12.753725463471053, -11.87482918666688, -11.980476290978338, -11.925518165542067, -12.094208234782984, -11.280669179545502, -10.802947955954007, -11.083732281477342, -11.535561357304427, -12.212678560802521, -11.238828107429416, -10.852663089523581, -10.475456920611707, -11.35419748866, -11.92189138254145, -12.126602693414767, -11.771724078483748, -11.43158182810295, -11.314743921860732, -11.530340998455374, -11.861282456246645, -11.895802542726207, -11.437089100917667, -11.417940611126388, -11.359230544482763, -11.468066999288327, -11.488942092173897, -11.895646213679612, -11.93645084192769, -11.970238977679276, -12.075052476668043, -12.078299430441696, -11.310994301784943, -11.085103858634918, -11.326896592795265, -11.34078009847352, -11.14967644550061, -11.03222248563927, -11.65272165988063, -11.78497975131586, -11.42716807873362, -11.199676544825536, -11.67929162285881, -11.417082828789935, -10.885158864002792, -10.665543940843484, -11.652161959504427, -11.627073846370873, -11.189526412830686, -11.038497257578321, -11.60054157756025, -11.72430807179091, -11.395904168561549, -11.300871410675164, -11.690853455191496, -11.751149065177179, -11.795925517514092, -10.786017106393459, -11.124458861697669, -11.0873868822685, -11.663372407360306, -11.154236811650906, -11.0502085847308, -11.052445229296184, -11.105369736941155, -11.022416199663395, -11.193219429116699, -11.430191214502194, -11.018048908593729, -11.411304405317575, -12.092098887212291, -12.128783588572993, -11.523938865338334, -11.94859190842581, -12.07075533788232, -12.10087630539522, -11.32302269700201, -11.445742012519949, -11.094359402231484, -11.189334460283316, -11.775222308588425, -12.154809751965827, -12.237555429460489, -11.80985737255519, -11.495249047919224, -10.972357397783693, -11.08796017199824, -11.44007796279998, -11.551600369475088, -11.598926053008523, -11.542784919611499, -11.290768622573689, -12.01910290828869, -12.017379218300727, -12.219289783767136, -11.860763999608222, -12.476093124814902, -12.311931237896642, -11.6233103529727, -11.102248396355714, -11.044721674702014, -11.801634427172168, -11.725297724057475, -11.945102207691686, -11.747012762139912, -11.424847011778091, -11.308920496880441, -11.253107115211742, -11.735511694057593, -12.198125829784313, -12.527255398822868, -11.270887098137637, -10.779480887651722, -11.483018498246388, -11.851982431989429, -11.265021308162604, -11.828423691492977, -11.871428216846803, -12.16259061433833, -11.986528370974204, -12.041940638501282, -11.386793602006422, -10.917461406048789, -10.59661677700466, -10.789267722579083, -11.27918882867985, -11.604075117351101, -11.857160314511015, -11.893644309588176, -11.652857031513168, -11.744203945027927, -12.207464088492067, -12.20368798050428, -11.981371840151873, -12.340031816892038, -12.519060872009312, -12.155469142446533, -11.700499244862868, -11.124659409424845, -11.451909138616553, -11.857127357520945, -11.801830837257175, -12.10664570398695, -12.061432837930703, -11.400600905072938, -11.152358765489712, -11.402721629758728, -11.750882470196702, -12.078583007659656, -12.31092599644085, -11.64760099100329, -11.321481992928637, -11.696635472676249, -12.707054570821075, -12.233077144235686, -11.943506423806081, -11.49528027873939, -11.851095398236817, -12.044388277425337, -11.465891753053942, -11.108052031316433, -11.182004570166914, -11.566941133753852, -11.43837693167634, -11.592385243093187, -11.878452112175873, -11.933406013386922, -12.03884470257228, -11.958914834329551, -11.63258890223963, -11.447720592568261, -11.474390798898924, -11.668310894710807, -11.927852873744847, -11.712298595730188, -11.328420972169317, -10.922400167382664, -11.232186608322467, -11.669062545452068, -11.568202099651911, -11.161549672216745, -10.900579614509072, -11.336652806657705, -11.771740874160011, -11.834055190753809, -11.327912067873783, -10.526468811168039, -10.297601740637143, -10.746256508220492, -11.209008794388835, -11.369918507963817, -11.120683587092254, -11.577739859470459, -11.742155198822315, -12.43808157371369, -11.96555340984496, -11.383224207640195, -11.09775445984614, -11.832848005251872, -12.060370884243746, -11.925220680544204, -11.526010216016005, -11.675369483337946, -11.785350774839573, -11.356782317861507, -11.557896138793144, -11.25590383122305, -10.791821718128672, -11.143265277841792, -11.60007302340096, -12.040450714617851, -11.928244881417045, -12.216023419645392, -11.782871312987965, -12.101089900733973, -12.405284044765434, -11.947301363816768, -11.482537242271398, -11.30030483536046, -11.870070267536924, -11.541804626826103, -11.662813937751997, -11.886442085302582, -11.840242663751543, -11.430048188934983, -11.269213629662804, -11.722928560577838, -11.803253258069093, -11.604116549419807, -11.11948632604598, -11.6067563594518, -12.017267034276601, -11.642858768253612, -11.467743197149911, -11.89243582501454, -11.928209437414072, -11.362599718660077, -11.41878245456988, -11.683394819863834, -11.627417106906002, -11.229041276105269, -10.92907272187187, -10.846413984525755, -10.493211890749546, -10.163273644387788, -10.595297829787897, -11.447778579581707, -11.857364410028957, -11.814364498324288, -11.69871396785868, -11.345642233541248, -11.524224294428015, -11.549988803218739, -11.90745984853281, -12.186278129830402, -11.644976977643422, -11.034120363917232, -11.68981118880124, -12.275482940126018, -12.319913239011168, -12.32748677738543, -11.966326181272631, -11.013830786098275, -10.753536423191004, -11.639094820865296, -11.591912948551508, -11.57188506637462, -10.68566774931139, -10.473714196842371, -11.046990125948469, -11.548027102873176, -11.707548432315045, -11.217533498967756, -12.11488902009102, -12.088646465434245, -12.29695939658741, -11.468187303079386, -11.060018083053315, -11.289418748973748, -12.139861862521524, -12.058077018285292, -11.526630679012001, -10.754867193357695, -10.897980129420043, -10.882814781207074, -11.250407994234871, -11.312414153252641, -10.864492976991395, -11.245283834709198, -10.967715017084902, -12.033041311801615, -11.563186544030591, -12.27396725562516, -11.239974744477886, -10.826203527499885, -10.832795126160837, -11.65367353250736, -11.5523357422423, -11.356562732263384, -11.084481454223955, -11.231831445878655, -11.527419365000545, -11.878006207275462, -11.439710630561976, -12.082610743598863, -11.767781721944079, -11.480890940216716, -11.08909689926991, -11.220159642162997, -11.163393950244352, -11.679612806091699, -11.538492573207172, -11.211841502750731, -11.02506675904047, -11.363467020936625, -11.189126193090525, -11.235209752990661, -11.038366843715856, -10.591675252949512, -10.628715167376718, -10.888618510902472, -11.15653797776439, -11.21220789940836, -11.61948188203489, -11.049030421416324, -10.789933511434166, -10.651973287135597, -11.46361282563987, -11.918337751459529, -11.954813782887987, -11.655221331640101, -11.183960834590215, -11.771452091728174, -11.869337164504811, -11.053880253984747, -10.865359495307771, -11.275864304682344, -11.60856100605199, -10.951155087486839, -11.752564615540685, -11.700582222484325, -11.664054890699111, -10.925015243048668, -10.765359927658555, -10.213522880894322, -10.267946090198844, -10.892376535198357, -11.632951471820498, -11.774028381798628, -11.577884915036329, -12.042154664440842, -12.771649630793908, -12.277689298732438, -11.419830060672668, -10.633775828355548, -11.146394883008966, -11.431626957029275, -11.609017938987991, -11.253754677031166, -11.14632029213447, -11.435978993640052, -11.098963284616186, -11.068965678358667, -10.796801525794297, -11.434254689808444, -11.961559234170082, -12.438482107412561, -11.878539266478876, -11.569927100330766, -11.821310884452082, -12.035588701409873, -11.946955214974565, -11.639901997364271, -11.915062659518602, -12.065908226514729, -11.663677056584634, -11.301715204675435, -11.641005830135025, -12.003280041807896, -12.285481947718248, -11.908096238780015, -11.453486577465657, -11.567031316200769, -11.209711250134324, -11.307766374692502, -11.417001689921026, -11.644086288313902, -11.104222289027287, -11.462494858444986, -11.424970005227832, -11.724591022511003, -11.595626910458485, -11.303012522184723, -11.744675590807317, -12.29012073479857, -12.04524627529089, -11.084312968199178, -10.586195917532967, -11.148251810262318, -11.43027071338974, -11.341217314274655, -11.343273518261409, -11.960664841758092, -11.846161694756631, -11.263613478594198, -10.827301928773434, -11.291528657901344, -11.467993239970225, -11.777306116515524, -11.905926127011062, -12.350647836760643, -12.856007101521197, -11.896529694472552, -11.659201747750044, -11.596625705337086, -11.940518767603919, -11.81190960876284, -12.00646728920054, -11.585400374701566, -11.626695154035021, -11.488885331261438, -12.181948788160836, -12.006917815012715, -11.855127105288528, -11.45275061564892, -11.033762775778373, -11.34908507290682, -11.276050070591436, -12.003471600899935, -11.525712340577977, -12.106845772611443, -11.19318091823895, -11.188443623466704, -10.970496649642207, -11.494822480924787, -11.100418478303782, -12.0713378386186, -12.751913243837986, -12.685638323604863, -12.003363452547381, -11.449452735633194, -10.863038181578014, -10.704225834314368, -11.668011072326443, -11.577085904228937, -11.333840845443529, -11.640750054725165, -12.557563856311232, -12.006498470147053, -11.283907667451546, -11.66490095260491, -11.70300521126683, -11.51083692568912, -11.34052076110681, -10.866630683955632, -10.880015861175833, -10.91187213248413, -11.280584751072164, -11.381795367104093, -11.859395923544124, -11.56510284907187, -11.456821081662547, -11.578753873102517, -11.543751841801491, -11.921150533769135, -11.692971986008088, -11.413842596015245, -11.288112659754486, -11.07524963588822, -10.876414668996082, -11.138530194854765, -11.777524084951956, -11.685665062995733, -11.659038031601561, -11.53473059551701, -11.287994729844137, -11.397306627424452, -11.096018545832841, -11.72815476139861, -11.898739454124984, -12.28498159778192, -11.497316719173652, -11.914958738613437, -11.590779388548365, -11.346132550277924, -11.038873619268408, -11.336722343816676, -11.747204951909156, -11.621730017500228, -11.265318016560022, -10.757972995838916, -10.89249944404481, -10.688856075670518, -11.294228938881085, -11.432991428090544, -11.561139923155705, -11.643099024775903, -12.001885090178806, -11.595815809927927, -10.860380921727293, -10.983291883215362, -11.2453105359837, -11.082490867582292, -10.853216127069905, -11.339378030729563, -11.894976193659916, -11.20871980500196, -10.858072401959927, -11.595342761926299, -11.466893954691246, -10.685642888958911, -10.72516722607493, -11.869093161007058, -11.85019674133111, -11.242437118721089, -11.223366946921121, -11.410738247318976, -11.462023920580737, -11.461940536358814, -11.87434135627618, -11.657101062656704, -11.303529514613386, -11.288835312687242, -12.019769843067058, -12.069185417691662, -11.926049232507987, -11.738125373234313, -11.393674451989812, -10.863300302102093, -11.050305642261867, -11.220046832917948, -11.661068295774886, -11.246390378346167, -10.508796111164532, -10.430285657455174, -11.715070176034422, -12.295633434878289, -11.79609933736951, -11.362945681971016, -11.03655826930898, -11.21837231025786, -11.34839568253194, -11.705889977449653, -11.47896536428907, -11.000732692007904, -10.96387890204712, -11.56135450800408, -11.942408098594134, -11.431120237727846, -10.917084005711557, -10.562649136066778, -11.039018098512217, -11.160406864128017, -11.776032055113928, -12.096371525185093, -12.606147260933712, -12.099161509017174, -12.282704686562099, -12.275569474722078, -12.01536466686746, -10.99499854088, -11.085782136300706, -10.956931977812934, -10.76353431304742, -11.381355747237421, -12.26933329278692, -11.963262451485498, -11.332860422399754, -11.635060261051796, -11.533954663661573, -11.676750639776902, -11.547160088525555, -11.385770891815927, -10.965713081309703, -10.487125435720467, -10.933921211123243, -11.720020898705917, -12.660588185425349, -12.139550473245162, -11.893606102201726, -11.174336977006826, -11.335823305879671, -11.613577675502066, -11.514716493154625, -10.843858216774276, -11.276259266947308, -11.501778837654246, -11.853436034596728, -11.752378041385237, -12.074817500417087, -11.467537691620823, -11.347038492582133, -11.28488169392365, -11.812057229750263, -10.974493149004601, -10.99872773385152, -11.111286778861402, -11.714519641411844, -11.44775860076688, -11.301701500029179, -11.39407367684242, -12.102499802306655, -12.552654895485679, -11.919818915223816, -11.049296975065745, -11.43124761343204, -11.43597413866636, -11.049967797707554, -11.398417347593044, -11.713341326168003, -10.983756518241968, -10.828529870732774, -11.722032614867388, -12.183275556293948, -11.799736180430191, -11.117576542790852, -11.106389986648747, -11.666408122668601, -11.951969879970838, -11.985937889555382, -11.368126075859614, -11.519378775926109, -11.832596613366363, -12.05745467584533, -11.793149970365034, -11.56973191378568, -12.735164598941536, -12.377471869096393, -11.94510248901867, -11.340975730108296, -11.43163226984599, -11.294365797653425, -11.520773691172801, -11.067875530749644, -11.332525777523673, -11.855083414498177, -12.124116131320774, -11.561453558440082, -11.423408875033154, -12.029018479875308, -12.677874764205859, -12.008566305872991, -11.378391784039085, -11.022687960941502, -11.424541174597334, -11.131582514849857, -11.565368732403508, -11.460894122710165, -11.789459641716128, -11.716252577740628, -11.365351080034987, -11.20359961599969, -11.667673835580203, -11.487033872573821, -11.481320732100377, -11.705989427266875, -11.894923207910344, -11.588421051798552, -11.273960163539096, -10.956656037695069, -10.969896855380243, -11.363821154692843, -12.279927518354924, -12.110684340591927, -12.125102943484375, -12.11495578667617, -12.126884086463436, -11.252607010053914, -11.536977681194127, -11.82786778729417, -12.006477071411268, -11.360518759396008, -11.581163533447226, -11.499430505608121, -11.468243678222095, -11.337202049921522, -12.041165312710739, -11.795811991856574, -11.271824775632817, -11.072436733710656, -11.224822939747723, -11.20550880377256, -11.864558780806954, -11.992844723493052, -11.816344958111287, -11.473870349904653, -11.840939566413873, -11.849324669608519, -12.156497924334337, -12.038155845383914, -11.925851560616069, -11.584790158603832, -11.279859466651516, -11.450875313980898, -11.189597410831444, -11.284902404980127, -11.19356306844316, -11.572128005149166, -11.103879418263444, -11.073886359099864, -11.530925944029335, -11.58137086775461, -11.372479359510082, -11.437796321023473, -11.902598670505554, -11.78743136451421, -11.5368317133182, -11.237275318942846, -11.37674288715069, -11.327725000009332, -11.567630508206637, -11.425777981661597, -11.646934981448583, -11.35403128972259, -11.237098846719606, -11.009384076277458, -10.856849051764204, -10.716353146892844, -10.65667503618416, -11.037704808205728, -12.162399698826087, -12.274997209279674, -11.769565606070763, -12.179469962245378, -11.711073174999115, -11.298217903172803, -10.959081020928256, -11.472174018479288, -11.337269025560145, -11.144052297214982, -11.664364138948146, -11.713855193348719, -11.560668369934412, -11.40064455745606, -12.24327769358386, -11.971717949558673, -11.413490300742186, -11.172713799764828, -12.063697368729704, -12.283862574740123, -11.974247681150278, -11.909124543904625, -11.696792403347022, -11.732935167122053, -11.328662052647212, -11.187775390784124, -11.000483966996704, -11.039134813521075, -10.837702171715119, -11.042037078650726, -11.305183186491126, -11.491751920292392, -11.383169844392965, -11.352731176515872, -11.19090490701819, -11.107895343721458, -11.930453028174373, -12.019625126263502, -11.409208151399984, -11.110761514766121, -11.116265091469606, -11.050230537723785, -11.36925401012353, -12.068841684807088, -12.159644913061985, -11.22669639173307, -10.702839376202958, -11.079767989871085, -12.155970109216115, -11.925609730507924, -11.516971912165557, -11.271402387222583, -11.793646890482991, -11.626838768984342, -11.656638504425146, -11.48955350305211, -11.230550206416426, -11.685741574175866, -11.903811256382994, -11.657888613134185, -10.894092077394996, -10.926060686378985, -11.389532934825828, -11.917239315626913, -11.72671774212772, -10.935995656392626, -11.040246766136876, -10.863887833529974, -11.06659958194137, -10.774043560107659, -11.170554991598594, -10.780422816070201, -11.335497424224904, -11.415523494658373, -12.385805378103907, -11.943249635956263, -11.970295939505084, -11.470135190466578, -11.479780617537898, -11.652771244945972, -11.513218267413128, -11.868274010650048, -12.06637600806759, -12.7812254944381, -11.86011053741897, -11.962791912901626, -11.382025194709048, -11.833870235761855, -11.935834444653585, -12.018418400768695, -11.415736832534481, -11.497648115852963, -11.959293271931323, -11.734061592739968, -11.309033116776778, -11.399192692007045, -11.753577268882088, -12.172174621358561, -12.244489437403786, -11.940242398355402, -11.515380254754229, -11.255830965945774, -10.33779628861672, -10.434078158690582, -11.28821787700812, -11.843102554023682, -11.567497315977938, -11.374604166997266, -11.330224839623758, -11.58205554910193, -11.943106123183412, -11.93651483836179, -11.777712303159731, -11.889071837585043, -11.457194872346212, -11.236625687914094, -11.860018713032469, -12.594958688945763, -12.722290167216041, -11.866561440474491, -11.321758129768265, -11.344134987550984, -11.389947507712789, -11.63122341317794, -11.392854732946832, -10.782110741009888, -10.268213114596618, -10.57949221356297, -11.564638180534272, -11.811767796639836, -11.652509861694712, -10.956504046488726, -10.692835507687137, -10.889315301283688, -11.332350152096824, -11.610302363159729, -11.142912860870915, -10.887276248336786, -11.26796019520844, -11.9656101962581, -11.751666006667406, -11.47589197282656, -11.236707827743821, -11.455712081847679, -11.497455078150498, -11.749931084988742, -11.521275400363063, -11.600632392211875, -11.89895005856839, -11.818873754934637, -11.569306112073258, -11.056993451847493, -11.00492616650242, -11.080447344621556, -11.235075953975471, -10.972593361234006, -11.079178362322015, -10.86208229520235, -11.528406251212992, -11.871347535553966, -12.307287927242735, -11.754327722970888, -11.609336213291087, -11.451917978362786, -11.454445927961505, -11.16258788230159, -11.281234752373695, -11.770933111292415, -11.781083518269364, -11.929258871548301, -11.753603270792437, -11.403577241402314, -11.253500368793135, -11.347914857322877, -10.833612576034964, -10.16908545908957, -10.719713176390169, -11.311734722075098, -12.247376268642318, -11.784203510201978, -11.718585416362675, -11.352403673951375, -11.38559363820799, -11.447236217891565, -11.534036890400744, -11.678164233125342, -11.28541253794247, -11.430194919100787, -10.940211191707926, -11.589552067657353, -11.605507812305099, -11.480256441954168, -11.305591861346933, -11.375561195953097, -11.889478245870716, -12.160585240580483, -12.101933484442277, -11.384663724130935, -11.38061172841076, -11.906189295504037, -12.079994755209896, -12.050158083196054, -12.153901462503596, -12.414123553385673, -12.044377622869666, -11.826082599914685, -11.92987757857436, -11.443213196038256, -11.073529185171173, -11.269596688138511, -12.072842081349684, -11.671540183130428, -11.577208897492353, -11.402272597841595, -11.510214143949588, -11.448040257062019, -11.417951756535839, -11.951946973353172, -11.570731427655078, -11.509187494740752, -11.244860388925641, -11.964320199346675, -12.12122261617415, -12.387963102912163, -12.324792001242178, -11.684883675597726, -11.03827013552962, -11.577321539557493, -12.18010627211713, -12.340839504797314, -12.24307239653193, -12.217772669422803, -11.425019229404588, -10.652187653351636, -10.90993524424159, -11.420953363042935, -11.800076811098398, -11.829802156025119, -11.88198032545657, -11.84988221800785, -11.720226017949015, -11.412285641326493, -11.931645277497879, -11.8767115195035, -12.035673688110482, -11.895916060752995, -12.082248778885997, -11.47547588054325, -11.601746251546428, -12.330802231035673, -12.327733092813752, -11.808577644902071, -12.007275186765224, -11.918874833951671, -12.064452151816422, -11.77421778085259, -12.21228791761363, -12.157341921515266, -12.05052687916149, -11.641894749166617, -12.015260214001033, -12.279751940143685, -12.320013605946738, -12.651889819721932, -12.64690634116286, -12.60184941460364, -12.0319532551012, -11.723973042700822, -12.014074016771444, -12.448147034740316, -13.255045745718437, -12.375229883452821, -12.133676210225778, -11.435047594507264, -11.676696817196179, -11.785883170139854, -12.125814064936888, -12.26357645923836, -12.090883355264793, -12.264088219994958, -12.627615309909062, -13.006191936879597, -12.949720317550781, -12.670287969653804, -12.587881013324468, -11.723248914810132, -12.015248829877853, -12.198097930861858, -12.512796866599876, -11.999434877967106, -11.679323194951202, -12.25171860404849, -12.388508077980026, -12.453727828494912, -11.921325373257448, -12.590558215618486, -12.49544488176438, -12.973650087638186, -12.657120279525417, -12.765762016579407, -13.074325432405839, -12.961604650415486, -13.216548455075847, -13.327947083525482, -13.191316653338795, -12.806583786557974, -13.118360991024716, -13.52262584365572, -13.586993497364684, -13.646451094503787, -14.115903198503766, -14.421146340421922, -14.547122507228234, -13.98552049702898, -13.598526402293059, -13.460993575924117, -13.674313176960226, -13.96766953904941, -14.223740521605261, -14.250148901370755, -14.395704636257339, -14.512502657459953, -14.983034932217468, -15.802349955957622, -15.500041010192824, -14.744523120216243, -14.467908315472929, -15.954450158624894, -15.619509212102455, -14.80772564486043, -14.628358585333862, -15.84372836461804, -16.448371996553334, -15.956806050400434, -15.462294757156382, -16.046422097723, -16.119693037572034, -16.088039256237735, -16.691063190187602, -17.279038847855805, -16.763373426834544, -16.281160254073907, -16.728286879990925, -17.528559751059767, -18.157682624357314, -17.982293817372476, -17.863668690272746, -18.459896414190784, -18.907175586131537, -19.102915793446794, -18.654487958013554, -18.71210499077963, -18.682426916957123, -19.181218047500014, -19.75337030663936, -19.667944079718453, -19.82344603410123, -20.201790650289993, -20.755714142240812, -20.949537180998014, -21.152225668900957, -21.93859100494816, -22.355232221090873, -22.969082545473544, -23.024189090912383, -23.02016082729029, -22.82240751918308, -23.344357745764707, -23.558221645113374, -23.68739728914635, -24.27285716411886, -24.750002891962147, -25.174557017139943, -25.456584794015097, -26.575723413251914, -26.862660306568944, -26.888332747531866, -27.07896148022837, -28.105761250453366, -28.3872813033397, -28.97919787831036, -30.34530545092227, -31.41910353445445, -31.343970193606342, -31.18893571420517, -32.37191984084635, -33.72554716952775, -34.85971442714454, -35.52663801332102, -36.57147492843836, -37.41218864027735, -38.2423474173714, -39.378848973923176, -40.01385637235234, -40.18798140922859, -40.069786122631236, -39.848901634445305, -39.49932052100926, -39.38756900150962, -39.47957781136088, -39.634077162851, -39.84905131935219, -39.630121502778735, -39.95065982752148, -40.1692057982703, -40.17575280193493, -39.58809059139051, -39.79818866938333, -40.186932525304826, -40.25702058938285, -40.28524872065247, -39.84300076888998, -39.87221487652679, -40.122088465148586, -40.5560903288019, -40.40512086302545, -39.96467274232516, -39.3301763432323, -39.64412025483716, -39.978704211123244, -40.330394252063854, -40.17312982979043, -39.808232353642005, -39.91861897445695, -39.99786156545275, -39.95934667743289, -39.449674807408186, -39.54699756523596, -39.992748127758844, -40.59239441417211, -40.183763060666166, -39.87294717177217, -39.687489178198895, -40.029561075551165, -39.72219966837115, -39.76717162684013, -40.00742219678878, -40.74951650413207, -40.92229491009698, -40.53943925440556, -39.979589010589194, -39.98044521396731, -40.29963099123115, -40.143908060241266, -39.7589479078073, -39.79522153564095, -40.170314282438135, -40.52634582240641, -40.13113611519787, -39.63310825327275, -39.5366396275773, -39.91979900293785, -40.09231044385348, -39.961613295193416, -39.7870744834275, -39.523733782532524, -39.67401912388584, -39.67447672291119, -39.9196978069902, -39.81114994765086, -39.953173170582595, -40.028567876685194, -40.2351102959416, -40.14488676938241, -40.08668497518265, -39.81791408406411, -39.754112421902015, -40.1541815330597, -39.98776640587386, -39.81299498801041, -39.94114602720148, -40.231521648546455, -39.82173151442577, -39.520391199949216, -39.465337740685534, -39.57260516065046, -39.62843647932536, -39.78326051873513, -40.11917592810876, -40.05452613504355, -40.27202365154472, -40.1645412323663, -40.12489491716425, -39.927289537611244, -39.716932802115316, -39.37945695993966, -39.944623321943446, -40.182454192128375, -40.01405423588409, -39.755712524619156, -39.83069391161497, -40.07215951880197, -39.87142690135609, -39.52365020663678, -39.53091818848871, -40.01098632272465, -39.69012426305523, -39.58221038820005, -39.61831210180685, -40.02909612622047, -39.69753620485853, -39.48565268152933, -39.48007472731502, -39.80230513572769, -40.036574978183474, -40.20585244461672, -40.142164507145274, -39.89268407295426]\n",
            "[-35.14413305 -25.44127472 -32.94603048 ... -34.77903782 -32.54841628\n",
            " -30.47084914]\n"
          ]
        },
        {
          "output_type": "display_data",
          "data": {
            "text/plain": [
              "<Figure size 432x288 with 1 Axes>"
            ],
            "image/png": "[encoded data removed]"
          },
          "metadata": {
            "needs_background": "light"
          }
        }
      ]
    }
  ]
}