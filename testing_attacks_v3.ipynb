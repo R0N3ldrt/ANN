{
  "cells": [
    {
      "cell_type": "markdown",
      "source": [
        "# Loading Necesary Libraries"
      ],
      "metadata": {
        "id": "4GXfLFwm7fcD"
      }
    },
    {
      "cell_type": "code",
      "execution_count": 53,
      "metadata": {
        "id": "JoNBpL30nU7E"
      },
      "outputs": [],
      "source": [
        "import os, time, math, csv, joblib\n",
        "import pandas as pd\n",
        "import numpy as np\n",
        "import matplotlib.pyplot as plt\n",
        "from sklearn.model_selection import train_test_split\n",
        "from sklearn.preprocessing import MinMaxScaler\n",
        "from sklearn.mixture import GaussianMixture\n",
        "from tqdm import tqdm\n",
        "from keras.models import model_from_json\n",
        "from numpy.ma.core import resize\n",
        "\n",
        "pd.options.display.float_format = '{:.2f}'.format"
      ]
    },
    {
      "cell_type": "markdown",
      "source": [
        "# Utils"
      ],
      "metadata": {
        "id": "NV6hLgAW70OL"
      }
    },
    {
      "cell_type": "code",
      "execution_count": 54,
      "metadata": {
        "id": "Vp-y0C9OnU7J"
      },
      "outputs": [],
      "source": [
        "def L2dist(a,b):\n",
        "    return math.sqrt(math.pow(a[0]-b[0],2)+math.pow(a[1]-b[1],2))"
      ]
    },
    {
      "cell_type": "markdown",
      "source": [
        "## Features Extractor"
      ],
      "metadata": {
        "id": "ZueZeN7E72PL"
      }
    },
    {
      "cell_type": "code",
      "execution_count": 55,
      "metadata": {
        "id": "e43b9bUCnU7J"
      },
      "outputs": [],
      "source": [
        "def features_extractor(filename):\n",
        "  F=[]\n",
        "  ll = 0\n",
        "  s_id=0\n",
        "  source=ll*80\n",
        "  #print(\"Source: \", source)\n",
        "  df = pd.read_csv(filename)\n",
        "  for hh in tqdm(range(ll+1,26)):\n",
        "      target=hh*80\n",
        "      #print(\"\\tTarget: \", target)\n",
        "      df_sel=df[df[\"Target_Distance\"]==target]\n",
        "\n",
        "      for i in range(1,ns+1):\n",
        "          real = df_sel['Real'].tolist()\n",
        "          imag = df_sel['Imag'].tolist()\n",
        "          data_aux=list(zip(real,imag))\n",
        "          gmm = GaussianMixture(n_components=16, random_state=0, init_params='kmeans', means_init=centers).fit(data_aux)\n",
        "          mus=gmm.means_\n",
        "          sigmas=gmm.covariances_\n",
        "          features=[source,target]\n",
        "          for jj in selCP:\n",
        "              j=centers[jj-1]\n",
        "              mindist=None\n",
        "              k_inc=None\n",
        "              for k in range(16):\n",
        "                  d=L2dist(mus[k],j)\n",
        "                  if mindist is None or mindist>d:\n",
        "                      mindist=d\n",
        "                      k_inc=k\n",
        "              covmat=np.concatenate(list(sigmas[k_inc])).ravel().tolist()\n",
        "              features = [*features, *mus[k_inc], *covmat]\n",
        "          F.append(features)\n",
        "  return F  "
      ]
    },
    {
      "cell_type": "markdown",
      "source": [
        "## Testing DNN"
      ],
      "metadata": {
        "id": "mmCkfxye8IWB"
      }
    },
    {
      "cell_type": "code",
      "execution_count": 56,
      "metadata": {
        "id": "iFsum2WWnU7K"
      },
      "outputs": [],
      "source": [
        "def testing_DNN(F, DNN_output_filepath):\n",
        "  header=['source','target']\n",
        "  for j in selCP:\n",
        "      header=[*header,*['mu_r_'+str(j),'mu_i_'+str(j),'sigma_rr_'+str(j),'sigma_ri_'+str(j),'sigma_ir_'+str(j),'sigma_ii_'+str(j)]]\n",
        "      \n",
        "  DF_testing=pd.DataFrame(F)\n",
        "  DF_testing.columns=header\n",
        "  DF_testing.to_csv(DNN_output_filepath, index=False)\n",
        "\n",
        "  #df=pd.read_csv(output_data_path+'/testing_data_DNN.csv')\n",
        "\n",
        "  colnames=DF_testing.columns[2:26]\n",
        "  # Target variable and train set\n",
        "  X=DF_testing.iloc[:,2:26]\n",
        "  #print(X.shape)\n",
        "  #print(X.columns)\n",
        "  Y=DF_testing.iloc[:,1].to_numpy().reshape(-1,1)\n",
        "  Z=DF_testing.iloc[:,0].to_numpy().reshape(-1,1)\n",
        "\n",
        "  df=DF_testing\n",
        "  colnames=df.columns[1:25]\n",
        "  X_test = sc_input.transform(X)\n",
        "  Y_test = sc_output.transform(Y)\n",
        "\n",
        "  Z=[i[0] for i in Z]\n",
        "\n",
        "  return X_test, Y_test, Z"
      ]
    },
    {
      "cell_type": "markdown",
      "source": [
        "## Error Calc"
      ],
      "metadata": {
        "id": "R1wfKDlv7-9e"
      }
    },
    {
      "cell_type": "code",
      "execution_count": 73,
      "metadata": {
        "scrolled": false,
        "id": "58R4v73_nU7P"
      },
      "outputs": [],
      "source": [
        "def error_calc(X_test, Y_test, Z, plot_output_path, radio, function, plt_show= False):\n",
        "  start_time = time.time()\n",
        "  Y_test_pred=model_ann.predict(X_test)\n",
        "  #Y_test_pred=model_ann.predict(X_test)\n",
        "  time_eval_ann=time.time()-start_time\n",
        "\n",
        "  real=list(list(zip(*Y_test))[0])\n",
        "\n",
        "  #real=list(map(list, zip(*Y_train)))\n",
        "  pred=list(Y_test_pred)\n",
        "\n",
        "  dist_min=sc_output.data_min_[0]\n",
        "  dist_max=sc_output.data_max_[0]\n",
        "\n",
        "  real_abs=np.add(dist_min,np.multiply((dist_max-dist_min),real))\n",
        "  real_abs=[int(np.round(i)) for i in real_abs]\n",
        "  #print(real_abs)\n",
        "  pred_abs=np.add(dist_min,np.multiply((dist_max-dist_min),pred))\n",
        "  #pred_abs=sum(pred_abs, [])\n",
        "  pred_abs=[i[0] for i in pred_abs]\n",
        "\n",
        "  error=np.divide(np.abs(np.subtract(np.array(real_abs),np.array(pred_abs))),np.array(real_abs))\n",
        "\n",
        "  res=pd.DataFrame({\"source\":Z, \"target\":real_abs,\"pred\":pred_abs,\"error\":error})\n",
        "\n",
        "  fig = plt.figure(figsize=(10,5))\n",
        "  plt.plot(real_abs,error,'bo')\n",
        "\n",
        "  plt.xlabel('Distances') \n",
        "  plt.ylabel('Error') \n",
        "  plt.title('Dispertion Ratio {} with {} distribution'.format(str(radio), str(function))) \n",
        "\n",
        "  fig.savefig(plot_output_path, bbox_inches='tight')\n",
        "\n",
        "  if plt_show == True:\n",
        "    plt.show()\n",
        "\n",
        "  return res"
      ]
    },
    {
      "cell_type": "markdown",
      "source": [
        "## Results"
      ],
      "metadata": {
        "id": "16AY8JSl9L1s"
      }
    },
    {
      "cell_type": "code",
      "execution_count": 58,
      "metadata": {
        "id": "CQ5zfAs7nU7Q"
      },
      "outputs": [],
      "source": [
        "def results(res, res_output_filepath):\n",
        "  F=pd.read_csv(model_path+\"/reference.csv\")\n",
        "  k=4\n",
        "\n",
        "  one_classifier={}\n",
        "  for i in range(25):\n",
        "      row=F.iloc[i,]\n",
        "      one_classifier[row[\"dist\"]]=[row[\"mean\"]-k*row[\"std\"],row[\"mean\"]+k*row[\"std\"]]\n",
        "\n",
        "  aux=[]\n",
        "  for i in range(res.shape[0]):\n",
        "      target=res.iloc[i,][\"target\"]\n",
        "      pred=res.iloc[i,][\"pred\"]\n",
        "      if pred>=one_classifier[target][0] and pred<=one_classifier[target][1]:\n",
        "          aux.append(0)\n",
        "      else:\n",
        "          aux.append(1)\n",
        "  res[\"detected\"]=aux\n",
        "\n",
        "  res.to_csv(res_output_filepath,index=False)"
      ]
    },
    {
      "cell_type": "markdown",
      "source": [
        "# Main"
      ],
      "metadata": {
        "id": "bvAK2G7--laL"
      }
    },
    {
      "cell_type": "code",
      "source": [
        "def main(radius, functions, plot_show=False):\n",
        "  pref=\"consts_modified_source_distance_\"\n",
        "  for f in functions:\n",
        "    for rd in radius:\n",
        "      print('---------------')\n",
        "      print('Evaluating {} function with a dispersion radius of {}.'.format(f, rd))\n",
        "      suf=\"_radius_{}_funct_{}.csv\".format(str(rd), str(f))\n",
        "      # Feature Extraction\n",
        "      filename=data_path+\"/\"+pref+str(0)+suf\n",
        "      F = features_extractor(filename)\n",
        "      # Testing DNN\n",
        "      DNN_output_filepath = output_data_path+'/testing_data_DNN_radius_{}_funct_{}.csv'.format(str(rd), str(f))\n",
        "      X_test, Y_test, Z = testing_DNN(F, DNN_output_filepath)\n",
        "      # Error Calc\n",
        "      plot_output_path = output_data_path+'/plots/testing_data_DNN_radius_{}_funct_{}.png'.format(str(rd), str(f))\n",
        "      res = error_calc(X_test, Y_test, Z, plot_output_path, radio=rd, function=f, plt_show = plot_show)\n",
        "      # Results\n",
        "      res_output_filepath = output_data_path+\"/results_radius_{}_funct_{}.csv\".format(str(rd), str(f))\n",
        "      results(res, res_output_filepath)"
      ],
      "metadata": {
        "id": "1W6oxu96-m2K"
      },
      "execution_count": 74,
      "outputs": []
    },
    {
      "cell_type": "markdown",
      "source": [
        "# Run"
      ],
      "metadata": {
        "id": "pcF08Mvy9qNy"
      }
    },
    {
      "cell_type": "markdown",
      "source": [
        "## Load Enviroment"
      ],
      "metadata": {
        "id": "7isaWxJD937X"
      }
    },
    {
      "cell_type": "code",
      "source": [
        "# BLOQUE PARA USAR DESDE COLAB\n",
        "\n",
        "# Google drive loading as work station for local-usage of the files.\n",
        "from google.colab import drive\n",
        "drive.mount('/content/gdrive',force_remount= True)\n",
        "\n",
        "#-----------------------------------------------------------------------------"
      ],
      "metadata": {
        "colab": {
          "base_uri": "https://localhost:8080/"
        },
        "id": "hopPYui695Hj",
        "outputId": "b91f8d02-f56e-4134-91a1-04f01a6710c9"
      },
      "execution_count": 60,
      "outputs": [
        {
          "output_type": "stream",
          "name": "stdout",
          "text": [
            "Mounted at /content/gdrive\n"
          ]
        }
      ]
    },
    {
      "cell_type": "code",
      "source": [
        "# Lista para cambiar los paths rapido.\n",
        "workers = [\"Ronald\", \"Local\"]\n",
        "\n",
        "# Change the number to change the paths.\n",
        "worker = workers[0]\n",
        "\n",
        "if worker == \"Ronald\":\n",
        "  #path= \"/content/gdrive/MyDrive/Thesis_Workstation/ANN_dataset\"\n",
        "  #data_path= \"/content/gdrive/MyDrive/Symbol_to_Symbol/ANN_dataset/modifiedData/Z/Z_mod\" # mod data of features\n",
        "  data_path= \"/content/gdrive/MyDrive/Thesis_Workstation/ANN_dataset/modifiedData/synthetic_data/Z/Z_mod\" # mod data of features\n",
        "\n",
        "  output_data_path = \"/content/gdrive/MyDrive/Thesis_Workstation/ANN_dataset/modifiedData/synthetic_data/Z/input_data_model\" # output path for testing_data_DNN.csv and results.csv\n",
        "\n",
        "  model_path = \"/content/gdrive/MyDrive/Thesis_Workstation/ANN_dataset/trainedModel\" # filepath with trained model\n",
        "else: path = os.getcwd()"
      ],
      "metadata": {
        "id": "gFcXZ8aG95bK"
      },
      "execution_count": 61,
      "outputs": []
    },
    {
      "cell_type": "markdown",
      "source": [
        "## Global Variables"
      ],
      "metadata": {
        "id": "5lPd9OS89_pT"
      }
    },
    {
      "cell_type": "code",
      "source": [
        "#data_path=os.getcwd()+\"/ANN_dataset/modifiedData/GD/GD_mod\"\n",
        "#output_data_path=os.getcwd()+\"/ANN_dataset/modifiedData/GD/input_data_model\"\n",
        "#model_path=os.getcwd()+\"/models\"\n",
        "\n",
        "#distances=list(range(1,25))\n",
        "#print(distances)\n",
        "\n",
        "distances = [0]\n",
        "ns=25 # number of samples\n",
        "centers=[[-3,3],[-1,3],[1,3],[3,3],[-3,1],[-1,1],[1,1],[3,1],[-3,-1],[-1,-1],[1,-1],[3,-1],[-3,-3],[-1,-3],[1,-3],[3,-3]]\n",
        "selCP=[1,7,10,15]"
      ],
      "metadata": {
        "id": "SMwT_rH39pza"
      },
      "execution_count": 62,
      "outputs": []
    },
    {
      "cell_type": "markdown",
      "source": [
        "## NN Model"
      ],
      "metadata": {
        "id": "k9xQZ95C_6th"
      }
    },
    {
      "cell_type": "code",
      "source": [
        "model_ann = model_from_json(open(model_path+'/model_ann_architecture.json').read())\n",
        "model_ann.load_weights(model_path+'/model_ann_weights.h5')\n",
        "# dont forget to compile your model\n",
        "model_ann.compile(loss='binary_crossentropy', optimizer='adam')\n",
        "sc_input=joblib.load(model_path+'/scaler_input.joblib')\n",
        "sc_output=joblib.load(model_path+'/scaler_output.joblib')"
      ],
      "metadata": {
        "id": "92UbXigR_2bT"
      },
      "execution_count": 63,
      "outputs": []
    },
    {
      "cell_type": "markdown",
      "source": [
        "## Launch"
      ],
      "metadata": {
        "id": "0_8ngaDy-KV_"
      }
    },
    {
      "cell_type": "code",
      "source": [
        "fun = ['uniform', 'non_uniform', 'gaussian']\n",
        "rad = [0.00000001, 0.01, 0.02, 0.03]\n",
        "\n",
        "main(radius=rad, functions=fun)"
      ],
      "metadata": {
        "colab": {
          "base_uri": "https://localhost:8080/"
        },
        "id": "-Q057but-VFV",
        "outputId": "c81f2a2d-f022-4d22-ffba-94c787662384"
      },
      "execution_count": null,
      "outputs": [
        {
          "output_type": "stream",
          "name": "stdout",
          "text": [
            "---------------\n",
            "Evaluating uniform function with a dispersion radius of 1e-08.\n"
          ]
        },
        {
          "output_type": "stream",
          "name": "stderr",
          "text": [
            "100%|██████████| 25/25 [00:35<00:00,  1.42s/it]\n"
          ]
        },
        {
          "output_type": "stream",
          "name": "stdout",
          "text": [
            "---------------\n",
            "Evaluating uniform function with a dispersion radius of 0.01.\n"
          ]
        },
        {
          "output_type": "stream",
          "name": "stderr",
          "text": [
            "100%|██████████| 25/25 [00:51<00:00,  2.07s/it]\n"
          ]
        },
        {
          "output_type": "stream",
          "name": "stdout",
          "text": [
            "---------------\n",
            "Evaluating uniform function with a dispersion radius of 0.02.\n"
          ]
        },
        {
          "output_type": "stream",
          "name": "stderr",
          "text": [
            " 28%|██▊       | 7/25 [00:09<00:29,  1.64s/it]"
          ]
        }
      ]
    }
  ],
  "metadata": {
    "kernelspec": {
      "display_name": "Python 3",
      "language": "python",
      "name": "python3"
    },
    "language_info": {
      "codemirror_mode": {
        "name": "ipython",
        "version": 3
      },
      "file_extension": ".py",
      "mimetype": "text/x-python",
      "name": "python",
      "nbconvert_exporter": "python",
      "pygments_lexer": "ipython3",
      "version": "3.6.9"
    },
    "colab": {
      "name": "testing_attacks.ipynb",
      "provenance": []
    }
  },
  "nbformat": 4,
  "nbformat_minor": 0
}