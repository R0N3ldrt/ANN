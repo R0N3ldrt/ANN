{
  "nbformat": 4,
  "nbformat_minor": 0,
  "metadata": {
    "colab": {
      "name": "Untitled10.ipynb",
      "provenance": [],
      "authorship_tag": "ABX9TyPsphURPxFHTvKQTbDP2I1U",
      "include_colab_link": true
    },
    "kernelspec": {
      "name": "python3",
      "display_name": "Python 3"
    },
    "language_info": {
      "name": "python"
    }
  },
  "cells": [
    {
      "cell_type": "markdown",
      "metadata": {
        "id": "view-in-github",
        "colab_type": "text"
      },
      "source": [
        "<a href=\"https://colab.research.google.com/github/R0N3ldrt/Thesis/blob/main/Revised_NN_predict_v35.ipynb\" target=\"_parent\"><img src=\"https://colab.research.google.com/assets/colab-badge.svg\" alt=\"Open In Colab\"/></a>"
      ]
    },
    {
      "cell_type": "markdown",
      "source": [
        "# Traininig NN Spectrum"
      ],
      "metadata": {
        "id": "UT4kgsEJEpyY"
      }
    },
    {
      "cell_type": "markdown",
      "source": [
        "# Loading Necesary Libraries"
      ],
      "metadata": {
        "id": "qsIzw6RGEwWp"
      }
    },
    {
      "cell_type": "code",
      "source": [
        "# Bootstraping?? if yes run this cell\n",
        "#!pip install sdv\n",
        "#from sdv import SDV\n",
        "#from sdv.tabular import GaussianCopula"
      ],
      "metadata": {
        "id": "lU-TwvchlcJ7"
      },
      "execution_count": 1,
      "outputs": []
    },
    {
      "cell_type": "code",
      "execution_count": 2,
      "metadata": {
        "id": "0YnA2ltpEoSi"
      },
      "outputs": [],
      "source": [
        "# Importing necesary libraries\n",
        "# Libraries for correct code execution \n",
        "import os, time, joblib, io\n",
        "import pandas as pd\n",
        "import numpy as np\n",
        "import matplotlib.pyplot as plt\n",
        "import math\n",
        "import pickle\n",
        "import random\n",
        "import csv\n",
        "import re\n",
        "import array\n",
        "import seaborn as sns\n",
        "from tqdm import tqdm\n",
        "import tensorflow as tf\n",
        "import os.path\n",
        "import tensorflow\n",
        "\n",
        "from sklearn.metrics import r2_score\n",
        "from scipy import stats\n",
        "from functools import reduce\n",
        "from random import random, gauss\n",
        "from math import modf, pi, cos, sin, sqrt\n",
        "from sklearn.model_selection import train_test_split\n",
        "from sklearn.preprocessing import MinMaxScaler\n",
        "from sklearn.metrics import r2_score\n",
        "from plotly.subplots import make_subplots\n",
        "from scipy.signal import savgol_filter\n",
        "from scipy.stats.stats import pearsonr\n",
        "from scipy.stats import spearmanr\n",
        "\n",
        "import scipy.stats as st\n",
        "import plotly.graph_objects as go\n",
        "import plotly.express as px\n",
        "from plotly.subplots import make_subplots\n",
        "\n",
        "from keras.models import Sequential\n",
        "from keras.layers import Dense,Conv2D, Flatten\n",
        "from keras.wrappers.scikit_learn import KerasRegressor\n",
        "from keras.callbacks import EarlyStopping\n",
        "from sklearn.mixture import GaussianMixture\n",
        "import os, time, math, csv, joblib\n",
        "import pandas as pd\n",
        "import numpy as np\n",
        "import matplotlib.pyplot as plt\n",
        "import seaborn as sns\n",
        "from sklearn.model_selection import train_test_split\n",
        "from sklearn.preprocessing import MinMaxScaler\n",
        "from sklearn.mixture import GaussianMixture\n",
        "\n",
        "import os, time, math, csv, joblib\n",
        "import pandas as pd\n",
        "import numpy as np\n",
        "from sklearn.model_selection import train_test_split\n",
        "from sklearn.preprocessing import MinMaxScaler\n",
        "from sklearn.mixture import GaussianMixture\n",
        "\n",
        "import warnings\n",
        "warnings.filterwarnings(\"ignore\")\n",
        "\n",
        "sns.set_theme()"
      ]
    },
    {
      "cell_type": "markdown",
      "source": [
        "# Load Enviroment"
      ],
      "metadata": {
        "id": "o99IEHDfE2yy"
      }
    },
    {
      "cell_type": "code",
      "source": [
        "# BLOQUE PARA USAR DESDE COLAB\n",
        "\n",
        "# Google drive loading as work station for local-usage of the files.\n",
        "from google.colab import drive\n",
        "drive.mount('/content/gdrive',force_remount= True)\n",
        "\n",
        "#-----------------------------------------------------------------------------"
      ],
      "metadata": {
        "colab": {
          "base_uri": "https://localhost:8080/"
        },
        "id": "ruXEP78XE7E5",
        "outputId": "0ce3a3d5-1c94-49f9-bd5b-7c8547012f95"
      },
      "execution_count": 3,
      "outputs": [
        {
          "output_type": "stream",
          "name": "stdout",
          "text": [
            "Mounted at /content/gdrive\n"
          ]
        }
      ]
    },
    {
      "cell_type": "code",
      "source": [
        "# Lista para cambiar los paths rapido.\n",
        "workers = [\"Ronald\", \"Local\"]\n",
        "\n",
        "# Change the number to change the paths.\n",
        "worker = workers[0]\n",
        "\n",
        "if worker == \"Ronald\":\n",
        "  path = \"/content/gdrive/MyDrive/Thesis_Workstation/ANN_dataset\"\n",
        "else: path = os.getcwd()"
      ],
      "metadata": {
        "id": "1Y2-m9DsE74Z"
      },
      "execution_count": 4,
      "outputs": []
    },
    {
      "cell_type": "markdown",
      "source": [
        "# Get working_df"
      ],
      "metadata": {
        "id": "a9bZmAKqRtdK"
      }
    },
    {
      "cell_type": "markdown",
      "source": [
        "## Find cutoff index"
      ],
      "metadata": {
        "id": "W4h81smRSKUR"
      }
    },
    {
      "cell_type": "code",
      "source": [
        "def remove_tail(df, cut_val, sample_id):\n",
        "  columns_selected = []\n",
        "  old_val = 0\n",
        "  delta = 0\n",
        "  mid_point = int(df.shape[1]/2)\n",
        "  cols_headers  = list(df.columns.values)\n",
        "\n",
        "  for i in range(0, df.shape[1]):\n",
        "    if i == 0:\n",
        "      cell_val = df.iloc[[0], i]\n",
        "      old_val = cell_val[sample_id]\n",
        "    else:\n",
        "      cell_val = df.iloc[[0], i]\n",
        "      val = cell_val[sample_id]\n",
        "      delta = abs(old_val-val)\n",
        "      old_val = val\n",
        "      if delta > cut_val:\n",
        "        if i <= mid_point:\n",
        "          col_name_selected = cols_headers[i+2]\n",
        "        else:\n",
        "          col_name_selected = cols_headers[i-2]\n",
        "          col_name_selected = round(float(col_name_selected), 5)\n",
        "        columns_selected.append(col_name_selected)\n",
        "\n",
        "  return columns_selected"
      ],
      "metadata": {
        "id": "hgUHEniRSJil"
      },
      "execution_count": 5,
      "outputs": []
    },
    {
      "cell_type": "code",
      "source": [
        "# Removing tails conducting multiples loops with variable cutoff value until we get only two columns\n",
        "def remove_tail_main(df, cut_val, sample_id):\n",
        "  old_drop_cols = []\n",
        "  drop_cols = remove_tail(df, cut_val, sample_id)\n",
        "  while len(drop_cols) != 2:  \n",
        "    # If len of columns to be dropped are 0 the select the 2 values smaller and bigger of the previous iteration\n",
        "    if len(drop_cols) == 0 or len(drop_cols) == 1:\n",
        "      drop_cols = [np.min(old_drop_cols), np.max(old_drop_cols)]\n",
        "      break\n",
        "    else:\n",
        "      old_drop_cols = drop_cols\n",
        "      drop_cols = remove_tail(df, cut_val, sample_id)\n",
        "      cut_val += 2\n",
        "  return drop_cols"
      ],
      "metadata": {
        "id": "CNPLl420STJV"
      },
      "execution_count": 6,
      "outputs": []
    },
    {
      "cell_type": "code",
      "source": [
        "def get_working_data_idx_v2(df_mean_sample, sample_id, cut_val = 0):\n",
        "\n",
        "  df = df_mean_sample.iloc[[sample_id - 1]]\n",
        "\n",
        "  #agg_df = aggreagator_v2(df)\n",
        "  col_vals = remove_tail_main(df, cut_val=cut_val, sample_id=sample_id)\n",
        "\n",
        "  left_index_no = df.columns.get_loc(col_vals[0])\n",
        "  rigth_index_no = df.columns.get_loc(col_vals[1])\n",
        "\n",
        "  return left_index_no, rigth_index_no"
      ],
      "metadata": {
        "id": "WFhRhx5USZR7"
      },
      "execution_count": 7,
      "outputs": []
    },
    {
      "cell_type": "code",
      "source": [
        "def cut_off_idx(df): # return tuple with cut-off values (index_left_side, index_rigth_side)\n",
        "  df_mean_sample = df.groupby(['PBRS_id']).mean()\n",
        "  df_mean_sample = df_mean_sample.drop(['row', 'Channels', 'Distance_km', 'power_dBm'], axis = 1)\n",
        "\n",
        "  cut_points = {}\n",
        "  print('Calculating the cutoff values:')\n",
        "  for sample in tqdm(df_mean_sample.index):\n",
        "    left_index_no, rigth_index_no = get_working_data_idx_v2(df_mean_sample, sample_id = sample)\n",
        "    cut_points[sample] = (left_index_no, rigth_index_no)\n",
        "\n",
        "  left_cut_off = np.min([v[0] for k, v in cut_points.items()])\n",
        "  rigth_cut_off = np.max([v[1] for k, v in cut_points.items()])\n",
        "\n",
        "  cut_point = (left_cut_off, rigth_cut_off)\n",
        "  return cut_point"
      ],
      "metadata": {
        "id": "1tG_j9gRSeJ0"
      },
      "execution_count": 8,
      "outputs": []
    },
    {
      "cell_type": "markdown",
      "source": [
        "## Select working data"
      ],
      "metadata": {
        "id": "_2p4y95YSlGe"
      }
    },
    {
      "cell_type": "code",
      "source": [
        "def select_working_data(df, cut_point): # implement cut_off values and Smoothing original df after cutt-of\n",
        "  extra_info_df = df.iloc[:, 0:6]\n",
        "  data_df = df.iloc[:, cut_point[0]+6:cut_point[1]+6]\n",
        "  working_df = pd.merge(extra_info_df, data_df, left_index=True, right_index=True)\n",
        "  return working_df"
      ],
      "metadata": {
        "id": "TC0PK42wSnTw"
      },
      "execution_count": 9,
      "outputs": []
    },
    {
      "cell_type": "code",
      "source": [
        "def main_cutoff(input_path, manual_cutoff=(False, 0.05)):\n",
        "  print('Reading data from file...')\n",
        "\n",
        "  data = io.BytesIO(open(input_path, 'rb').read())\n",
        "  df = pd.read_excel(data, sheet_name='Sheet1', skiprows=1)\n",
        "  print('Cleaning data...')\n",
        "  #df.iloc[0].fillna(method='bfill', inplace=True)\n",
        "  #df.iloc[1:df.shape[0]].fillna(method='pad', inplace=True)\n",
        "\n",
        "  # Adding missing PBRS_id\n",
        "  snippet = []\n",
        "  val_cnt = 1\n",
        "  idx = 0\n",
        "  for sample in range(1, 101):\n",
        "    for sample_id in range(0, 25):\n",
        "      df.at[idx, 'PBRS_id'] = val_cnt\n",
        "      idx +=1\n",
        "      snippet.append(val_cnt)\n",
        "    val_cnt += 1\n",
        "  df['PBRS_id'] = df['PBRS_id'].astype(int)\n",
        "\n",
        "  df = df.dropna() # remove nan rows\n",
        "\n",
        "  if manual_cutoff[0] == False:\n",
        "    cut_point = cut_off_idx(df)\n",
        "  else:\n",
        "    #df = aggreagator_v2(df)\n",
        "    amt_col = df.shape[1]\n",
        "    m_cutoff_lower = int(amt_col*manual_cutoff[1])\n",
        "    m_cutoff_upper = int(amt_col-(amt_col*manual_cutoff[1]))\n",
        "    #cut_point = (m_cutoff_lower, m_cutoff_upper)\n",
        "  #working_df = select_working_data(df, cut_point)\n",
        "  working_df = df\n",
        "  return working_df"
      ],
      "metadata": {
        "id": "n5gp_DYpSqEV"
      },
      "execution_count": 10,
      "outputs": []
    },
    {
      "cell_type": "markdown",
      "source": [
        "## Run main cutoff"
      ],
      "metadata": {
        "id": "_IszMVtETKej"
      }
    },
    {
      "cell_type": "code",
      "source": [
        "'''\n",
        "input_path = path + \"/Spectrum/16QAM_v2/Copy of dataSet_gamma0_Spectrum31MHz_Samples_16QAM_75GHz_LongHaul_input_25x81km_primeStep.xlsx\"\n",
        "\n",
        "working_df = main_cutoff(input_path, manual_cutoff=(True, 0.1))\n",
        "working_df.to_csv(path+\"/Spectrum/NN/new_data_working_df.csv\", index=False)\n",
        "display(working_df)\n",
        "'''"
      ],
      "metadata": {
        "id": "0MCaO3l2TOEZ",
        "colab": {
          "base_uri": "https://localhost:8080/",
          "height": 0
        },
        "outputId": "9e68f3f8-50a7-479f-dec2-d4585f12d03b"
      },
      "execution_count": 11,
      "outputs": [
        {
          "output_type": "execute_result",
          "data": {
            "text/plain": [
              "'\\ninput_path = path + \"/Spectrum/16QAM_v2/Copy of dataSet_gamma0_Spectrum31MHz_Samples_16QAM_75GHz_LongHaul_input_25x81km_primeStep.xlsx\"\\n\\nworking_df = main_cutoff(input_path, manual_cutoff=(True, 0.1))\\nworking_df.to_csv(path+\"/Spectrum/NN/new_data_working_df.csv\", index=False)\\ndisplay(working_df)\\n'"
            ],
            "application/vnd.google.colaboratory.intrinsic+json": {
              "type": "string"
            }
          },
          "metadata": {},
          "execution_count": 11
        }
      ]
    },
    {
      "cell_type": "markdown",
      "source": [
        "# New bootstrap"
      ],
      "metadata": {
        "id": "UuPEMSqX5CEn"
      }
    },
    {
      "cell_type": "code",
      "source": [
        "def train_bootstrap_model(data, distances):\n",
        "  print('Training synthetic data models...')\n",
        "  for d in tqdm(distances):\n",
        "    dist_filtered_working_df = data.query('Distance_km == '+str(d))\n",
        "    distance_data_df = dist_filtered_working_df.iloc[:, 6:dist_filtered_working_df.shape[1]]\n",
        "\n",
        "    model = GaussianCopula()\n",
        "    model.fit(distance_data_df)\n",
        "    model.save(path+'/Spectrum/NN/revised_bootstrap_models/new_revision/model_'+str(d)+'.pkl')\n",
        "  print('Done')"
      ],
      "metadata": {
        "id": "Ic_ZBVG9SkOp"
      },
      "execution_count": 12,
      "outputs": []
    },
    {
      "cell_type": "code",
      "source": [
        "def generate_new_data(data, amt_desired_data, distances, model_path):\n",
        "  print('Generating synthetic data samples...')\n",
        "  headers = list(data.columns)\n",
        "  loop_cnt = 1\n",
        "  for d in tqdm(distances):\n",
        "    loaded_model = SDV.load(model_path+'model_'+str(d)+'.pkl')\n",
        "\n",
        "    dist_filtered_working_df = data.query('Distance_km == '+str(d))\n",
        "    dist_filtered_working_df.drop(['PBRS_id'], axis = 1, inplace=True)\n",
        "    seq = [x for x in range(1, dist_filtered_working_df.shape[0]+1)]\n",
        "    dist_filtered_working_df.insert(0, 'PBRS_id', seq)\n",
        "\n",
        "    amt_of_samples_dist = dist_filtered_working_df.shape[0]\n",
        "    amt_of_new_data = amt_desired_data - amt_of_samples_dist\n",
        "\n",
        "    if amt_of_new_data > 0: # check if we already have the desired amt of samples\n",
        "      sample = loaded_model.sample(amt_of_new_data)\n",
        "\n",
        "      row_data = []\n",
        "      PBRS_id_data = []\n",
        "      Distance_km_data = []\n",
        "      power_dBm_data = []\n",
        "      span_data = []\n",
        "      extra_h = ['row', 'PBRS_id', 'Channels', 'Distance_km', 'power_dBm', '#span']\n",
        "      new_data = {header:[] for header in extra_h}\n",
        "      id_cnt = dist_filtered_working_df['PBRS_id'].max()+1\n",
        "      # Create extra info columns\n",
        "      for i in range(0, amt_of_new_data):\n",
        "        new_data['row'].append(i+1)\n",
        "        new_data['PBRS_id'].append(int(id_cnt))\n",
        "        id_cnt += 1\n",
        "        new_data['Channels'].append(1)\n",
        "        new_data['Distance_km'].append(int(d))\n",
        "        new_data['power_dBm'].append(0)\n",
        "        new_data['#span'].append(int(d/80))\n",
        "      new_data_extra_info_df = pd.DataFrame.from_dict(new_data)\n",
        "\n",
        "      new_data_full_df = pd.merge(new_data_extra_info_df, sample, left_index=True, right_index=True)\n",
        "      if loop_cnt == 1:\n",
        "        new_working_df = data.append(new_data_full_df)\n",
        "        loop_cnt+=1\n",
        "      else:\n",
        "        new_working_df = new_working_df.append(new_data_full_df)\n",
        "\n",
        "    else:\n",
        "      new_working_df = data.copy()\n",
        "      print('Amount of desired data already satisfied for distance '+str(d)+'.')\n",
        "\n",
        "\n",
        "  new_working_df.drop(['row'], axis = 1, inplace=True)\n",
        "\n",
        "  new_working_df['Distance_km'] = new_working_df['Distance_km'].astype(int)\n",
        "  new_working_df['PBRS_id'] = new_working_df['PBRS_id'].astype(int)\n",
        "  new_working_df['Channels'] = new_working_df['Channels'].astype(int)\n",
        "  new_working_df['power_dBm'] = new_working_df['power_dBm'].astype(int)\n",
        "  new_working_df['#span'] = new_working_df['#span'].astype(int)\n",
        "\n",
        "  seq = [x for x in range(1, new_working_df.shape[0]+1)]\n",
        "  new_working_df.insert(0, 'row', seq)\n",
        "  new_working_df = new_working_df.sort_values(['PBRS_id', 'Distance_km'], ascending=[True, True])\n",
        "\n",
        "  new_working_df.to_csv(path + \"/Spectrum/NN/newest_revised_bootstraped_new_data_working_df-\"+str(amt_desired_data)+\"_samples.csv\", index=False)\n",
        "\n",
        "  return new_working_df"
      ],
      "metadata": {
        "id": "J6AtlccNTzT3"
      },
      "execution_count": 13,
      "outputs": []
    },
    {
      "cell_type": "code",
      "source": [
        "'''\n",
        "distances = [x*80 for x in range(1, 26)]\n",
        "\n",
        "train_bootstrap_model(working_df, distances)\n",
        "'''"
      ],
      "metadata": {
        "colab": {
          "base_uri": "https://localhost:8080/",
          "height": 0
        },
        "id": "frG_RdLLTdHL",
        "outputId": "1804e31a-78c4-449d-c166-2fa8f32d282a"
      },
      "execution_count": 14,
      "outputs": [
        {
          "output_type": "execute_result",
          "data": {
            "text/plain": [
              "'\\ndistances = [x*80 for x in range(1, 26)]\\n\\ntrain_bootstrap_model(working_df, distances)\\n'"
            ],
            "application/vnd.google.colaboratory.intrinsic+json": {
              "type": "string"
            }
          },
          "metadata": {},
          "execution_count": 14
        }
      ]
    },
    {
      "cell_type": "code",
      "source": [
        "'''\n",
        "input_path = path + \"/Spectrum/NN/new_data_working_df.csv\"\n",
        "working_df = pd.read_csv(input_path)\n",
        "working_df['Distance_km'] = working_df['Distance_km'].astype(int)\n",
        "\n",
        "amt_desired_data = 100\n",
        "distances = [x*80 for x in range(1, 26)]\n",
        "model_path = path+'/Spectrum/NN/revised_bootstrap_models/new_revision/'\n",
        "\n",
        "new_working_df = generate_new_data(working_df, amt_desired_data, distances, model_path)\n",
        "new_working_df\n",
        "'''"
      ],
      "metadata": {
        "colab": {
          "base_uri": "https://localhost:8080/",
          "height": 0
        },
        "id": "xRol4_7IaYun",
        "outputId": "4fa1e0e0-fb7f-4ad9-cfad-1261f9935cce"
      },
      "execution_count": 15,
      "outputs": [
        {
          "output_type": "execute_result",
          "data": {
            "text/plain": [
              "'\\ninput_path = path + \"/Spectrum/NN/new_data_working_df.csv\"\\nworking_df = pd.read_csv(input_path)\\nworking_df[\\'Distance_km\\'] = working_df[\\'Distance_km\\'].astype(int)\\n\\namt_desired_data = 100\\ndistances = [x*80 for x in range(1, 26)]\\nmodel_path = path+\\'/Spectrum/NN/revised_bootstrap_models/new_revision/\\'\\n\\nnew_working_df = generate_new_data(working_df, amt_desired_data, distances, model_path)\\nnew_working_df\\n'"
            ],
            "application/vnd.google.colaboratory.intrinsic+json": {
              "type": "string"
            }
          },
          "metadata": {},
          "execution_count": 15
        }
      ]
    },
    {
      "cell_type": "markdown",
      "source": [
        "\n",
        "# New version train test split"
      ],
      "metadata": {
        "id": "Ev9ubh3SMjv1"
      }
    },
    {
      "cell_type": "markdown",
      "source": [
        "## Freq filter"
      ],
      "metadata": {
        "id": "bzpVjsjCMopE"
      }
    },
    {
      "cell_type": "code",
      "source": [
        "def frequencies_filter(df, num_selected_freq=20):\n",
        "  info_df = df.iloc[:, [0,1]]\n",
        "  data_df = df.iloc[:, 1:df.shape[1]]\n",
        "  span_val = int(data_df.shape[1]/num_selected_freq)\n",
        "  split_span = int(span_val/2)\n",
        "  span_increase = 0\n",
        "  for i in range(0, num_selected_freq):\n",
        "    if i == 0 :\n",
        "      df2 = data_df.iloc[:, split_span].to_frame()\n",
        "      new_df = df2\n",
        "      span_increase = split_span + span_val\n",
        "    else:\n",
        "      df2 = data_df.iloc[:, span_increase].to_frame()\n",
        "      new_df = pd.merge(new_df, df2, left_index=True, right_index=True)\n",
        "      span_increase = span_increase + span_val\n",
        "  new_df = info_df.join(new_df)\n",
        "  \n",
        "  return new_df\n",
        "\n",
        "def get_data(working_df, distances, num_features = 20, span_length=80, min_dist = 0, max_dist = 2000):\n",
        "  X=None\n",
        "  Y=np.array([])\n",
        "  id_df = working_df.iloc[:, 1]\n",
        "  dist_df = working_df.iloc[:, 3]\n",
        "  freq_df = working_df.iloc[:, 6:working_df.shape[1]]\n",
        "\n",
        "  id_dist_df = pd.merge(id_df, dist_df, left_index=True, right_index=True)\n",
        "  samples_df = pd.merge(id_dist_df, freq_df, left_index=True, right_index=True)\n",
        "\n",
        "  if num_features != 'all':\n",
        "    samples_df = frequencies_filter(samples_df, num_selected_freq = num_features)\n",
        "  Y = samples_df.iloc[:, 1].to_numpy().astype('int').tolist()\n",
        "  X = samples_df.iloc[:, 2:samples_df.shape[1]]\n",
        "  \n",
        "  return X, Y, samples_df"
      ],
      "metadata": {
        "id": "RHzOnqrJK0PS"
      },
      "execution_count": 16,
      "outputs": []
    },
    {
      "cell_type": "code",
      "source": [
        "'''\n",
        "distances = [x*80 for x in range(1, 26)]\n",
        "X, Y, samples_filtered_df = get_data(working_df, distances, num_features = 20, span_length=80,  min_dist = 0, max_dist = 2000)\n",
        "samples_filtered_df\n",
        "'''"
      ],
      "metadata": {
        "colab": {
          "base_uri": "https://localhost:8080/",
          "height": 35
        },
        "id": "-Dcpip4xLiiF",
        "outputId": "7c2dd936-fd64-428e-8d0c-7539c0d24458"
      },
      "execution_count": 17,
      "outputs": [
        {
          "output_type": "execute_result",
          "data": {
            "text/plain": [
              "'\\ndistances = [x*80 for x in range(1, 26)]\\nX, Y, samples_filtered_df = get_data(working_df, distances, num_features = 20, span_length=80,  min_dist = 0, max_dist = 2000)\\nsamples_filtered_df\\n'"
            ],
            "application/vnd.google.colaboratory.intrinsic+json": {
              "type": "string"
            }
          },
          "metadata": {},
          "execution_count": 17
        }
      ]
    },
    {
      "cell_type": "markdown",
      "source": [
        "## train_test split"
      ],
      "metadata": {
        "id": "DgADpFdrmsr7"
      }
    },
    {
      "cell_type": "code",
      "source": [
        "def train_and_test_split_funct(features_df, test_size=0.2):\n",
        "  x_train, x_test, y_train, y_test = train_test_split(features_df.values[:, 1:features_df.values.shape[1]], features_df.values[:, 0], test_size=test_size, random_state=111)\n",
        "\n",
        "  scaler = MinMaxScaler()\n",
        "  data_scaler = scaler.fit(x_train)\n",
        "  \n",
        "  x_train = data_scaler.transform(x_train)\n",
        "  x_test = data_scaler.transform(x_test)\n",
        "  \n",
        "  joblib.dump(data_scaler, path+'/Spectrum/NN/revised_NNs/scaler_nn.joblib')\n",
        "\n",
        "  return x_train, y_train, x_test, y_test, data_scaler"
      ],
      "metadata": {
        "id": "AL-D-2L6aM2S"
      },
      "execution_count": 22,
      "outputs": []
    },
    {
      "cell_type": "code",
      "source": [
        "#x_train, y_train, x_test, y_test, data_scaler = train_and_test_split_funct(features_df, test_size=0.2)"
      ],
      "metadata": {
        "id": "sBGhsCzPo4J-"
      },
      "execution_count": 23,
      "outputs": []
    },
    {
      "cell_type": "markdown",
      "source": [
        "## main features train_test"
      ],
      "metadata": {
        "id": "745QnQ5NpIVy"
      }
    },
    {
      "cell_type": "code",
      "source": [
        "def main_features_train_test_split(input_path, num_features = 20, num_reference=30, test_size=0.2, test_references_params=(False, [80, 1040, 2000]), ci=False, split_done=False):\n",
        "  if split_done == False:\n",
        "    working_df = pd.read_csv(input_path)\n",
        "    working_df['Distance_km'] = working_df['Distance_km'].astype(int)\n",
        "    distances = [x*80 for x in range(1, 26)]\n",
        "\n",
        "    print('Obtaining data filtered by frequencies...')\n",
        "    X, Y, samples_filtered_df = get_data(working_df, distances, num_features = num_features, span_length=80,  min_dist = 0, max_dist = 2000) # get data filtered by frequencies\n",
        "\n",
        "    print('\\nObtaining train and test split...')\n",
        "    samples_filtered_df = samples_filtered_df.iloc[: , 1:]\n",
        "    x_train, y_train, x_test, y_test, data_scaler = train_and_test_split_funct(samples_filtered_df, test_size=test_size) # create train/test split and save scaler\n",
        "    \n",
        "    samples_filtered_df.to_csv(path+\"/Spectrum/NN/revised_train_test_splits/mod_bootstraped_new_data_Sample_NN_freq_\"+str(num_features)+\"_reference_\"+str(num_reference)+\".csv\", header=True, index=False)\n",
        "    print('Done')\n",
        "\n",
        "  else:\n",
        "    samples_filtered_df = pd.read_csv(path+\"/Spectrum/NN/revised_train_test_splits/mod_bootstraped_new_data_Sample_NN_freq_\"+str(num_features)+\"_reference_\"+str(num_reference)+\".csv\")\n",
        "\n",
        "    print('Obtaining train and test split...')\n",
        "    x_train, y_train, x_test, y_test, data_scaler = train_and_test_split_funct(samples_filtered_df, test_size=test_size) # create train/test split and save scaler\n",
        "    print('Done')\n",
        "  \n",
        "  with open(path+'/Spectrum/NN/revised_train_test_splits/data_scaler_nn.pkl', 'wb') as pickle_file:\n",
        "    pickle.dump(data_scaler, pickle_file)\n",
        "    \n",
        "  return x_train, y_train, x_test, y_test, data_scaler"
      ],
      "metadata": {
        "id": "GDCtMc6spMJD"
      },
      "execution_count": 44,
      "outputs": []
    },
    {
      "cell_type": "code",
      "source": [
        "'''\n",
        "input_path = path + \"/Spectrum/NN/bootstraped_new_data_working_df.csv\"\n",
        "\n",
        "x_train, y_train, x_test, y_test, data_scaler, reference_freq_data_df, sample_freq_data_df = main_features_train_test_split(\n",
        "    input_path, num_features = 20, num_reference=30, test_size=0.2, test_references_params=(False, [80, 1040, 2000]), ci=True, split_done=False)\n",
        "'''"
      ],
      "metadata": {
        "colab": {
          "base_uri": "https://localhost:8080/",
          "height": 53
        },
        "id": "kmxzgXPbqZZq",
        "outputId": "32a29dd0-0faf-4b1d-b1c2-119bda173d72"
      },
      "execution_count": 25,
      "outputs": [
        {
          "output_type": "execute_result",
          "data": {
            "text/plain": [
              "'\\ninput_path = path + \"/Spectrum/NN/bootstraped_new_data_working_df.csv\"\\n\\nx_train, y_train, x_test, y_test, data_scaler, reference_freq_data_df, sample_freq_data_df = main_features_train_test_split(\\n    input_path, num_features = 20, num_reference=30, test_size=0.2, test_references_params=(False, [80, 1040, 2000]), ci=True, split_done=False)\\n'"
            ],
            "application/vnd.google.colaboratory.intrinsic+json": {
              "type": "string"
            }
          },
          "metadata": {},
          "execution_count": 25
        }
      ]
    },
    {
      "cell_type": "markdown",
      "source": [
        "#Test new data"
      ],
      "metadata": {
        "id": "-4aouQ6qQRor"
      }
    },
    {
      "cell_type": "markdown",
      "source": [
        "## all data points"
      ],
      "metadata": {
        "id": "9Dqtgowj87RL"
      }
    },
    {
      "cell_type": "code",
      "source": [
        "def predict_test(model_ann, X_test, Y_test, remove_outliers=0.05, params_freq_reference = (10, 30), all_plots=True, epochs_num=600, training_data=False, save_res=False):\n",
        "  print('Results (freq_'+str(params_freq_reference[0])+'_reference_'+str(params_freq_reference[1])+')')\n",
        "  # Predit\n",
        "\n",
        "  Y_test_pred=model_ann.predict(X_test)\n",
        "\n",
        "  dist_min=80\n",
        "  dist_max=2000\n",
        "\n",
        "  real=list(Y_test)\n",
        "  real_abs=np.add(dist_min,np.multiply((dist_max-dist_min),real)) # convert back to distances values from scalar\n",
        "  real_abs=[int(np.round(i)) for i in real_abs]\n",
        "  \n",
        "  pred=list(Y_test_pred)\n",
        "  pred_abs=np.add(dist_min,np.multiply((dist_max-dist_min),pred)) # convert back to distances values from scalar\n",
        "  '''\n",
        "  print('Real_abs:')\n",
        "  print(real_abs)\n",
        "  print('Pred_abs:')\n",
        "  print(pred_abs)\n",
        "  '''\n",
        "  error=np.divide(np.abs(np.subtract(np.array(real_abs),np.array(pred_abs))),np.array(real_abs))\n",
        "  error_v2 = np.abs(np.subtract(np.array(real_abs),np.array(pred_abs)))\n",
        "\n",
        "  num_of_remove_items = len(real) * remove_outliers\n",
        "\n",
        "  filtered_real_abs = real_abs\n",
        "  filtered_pred_abs = pred_abs\n",
        "  error_v2_filtered = error_v2\n",
        "  error_filtered = error\n",
        "  remove_cnt = 0\n",
        "  while remove_cnt <= num_of_remove_items:\n",
        "    max_idx = np.where(error_v2_filtered == np.amax(error_v2_filtered))\n",
        "    max_idx = max_idx[0][0]\n",
        "    error_v2_filtered = np.delete(error_v2_filtered, max_idx)\n",
        "    filtered_real_abs = np.delete(filtered_real_abs, max_idx)\n",
        "    filtered_pred_abs = np.delete(filtered_pred_abs, max_idx)\n",
        "    error_filtered = np.delete(error_filtered, max_idx)\n",
        "    remove_cnt += 1\n",
        "\n",
        "  if all_plots == True:\n",
        "    if save_res == True:\n",
        "      res=pd.DataFrame({\"dist\":real_abs,\"pred\":pred_abs,\"error\":error})\n",
        "      res.to_csv(path+\"/Spectrum/NN/revised_NN_results_error/best_mod_bootstraped_new_data_results_curve_freq_\"+str(params_freq_reference[0])+\"_reference_\"+str(params_freq_reference[1])+\".csv\", header=True, index=False)\n",
        "\n",
        "      res_v2=pd.DataFrame({\"dist\":real_abs,\"pred\":pred_abs,\"error\":error_v2})\n",
        "      res_v2.to_csv(path+\"/Spectrum/NN/revised_NN_results_error/best_mod_bootstraped_new_data_results_deltas_freq_\"+str(params_freq_reference[0])+\"_reference_\"+str(params_freq_reference[1])+\".csv\", header=True, index=False)\n",
        "      \n",
        "      plt.figure(figsize=(20,10))\n",
        "      plt.plot(real_abs,error,'bo')\n",
        "      plt.xlabel('Distances') \n",
        "      plt.ylabel('Error') \n",
        "      labels = [i*80 for i in range(1, 26)]\n",
        "      plt.xticks(labels)      \n",
        "      plt.title(\"Results Curve (freq_\"+str(params_freq_reference[0])+\"_reference_\"+str(params_freq_reference[1])+\")\")\n",
        "      plt.savefig(path+\"/Spectrum/NN/revised_NN_results_plots/best_mod_bootstraped_new_data_results_curve_freq_\"+str(params_freq_reference[0])+\"_reference_\"+str(params_freq_reference[1])+\".png\")\n",
        "      plt.show()\n",
        "      \n",
        "      plt.figure(figsize=(20,10))\n",
        "      plt.plot(real_abs,error_v2,'bo')\n",
        "      plt.xlabel('Distances') \n",
        "      plt.ylabel('Error') \n",
        "      labels = [i*80 for i in range(1, 26)]\n",
        "      plt.xticks(labels)      \n",
        "      plt.title(\"Results Deltas (freq_\"+str(params_freq_reference[0])+\"_reference_\"+str(params_freq_reference[1])+\")\")\n",
        "      plt.savefig(path+\"/Spectrum/NN/revised_NN_results_plots/best_bootstraped_new_data_results_deltas_freq_\"+str(params_freq_reference[0])+\"_reference_\"+str(params_freq_reference[1])+\".png\")\n",
        "      plt.show()\n",
        "\n",
        "      # Filtered Outliers\n",
        "      plt.figure(figsize=(20,10))      \n",
        "      plt.plot(filtered_real_abs,error_v2_filtered,'bo')\n",
        "      plt.xlabel('Distances') \n",
        "      plt.ylabel('Error') \n",
        "      labels = [i*80 for i in range(1, 26)]\n",
        "      plt.xticks(labels)\n",
        "      plt.title(\"Results Deltas Filtered (Outliers_Removed_\"+str(remove_outliers*100)+\"%_freq_\"+str(params_freq_reference[0])+\"_reference_\"+str(params_freq_reference[1])+\")\")\n",
        "      plt.savefig(path+\"/Spectrum/NN/revised_NN_results_plots/best_bootstraped_new_data_results_deltas_filtered_\"+str(remove_outliers)+\"%_freq_\"+str(params_freq_reference[0])+\"_reference_\"+str(params_freq_reference[1])+\".png\")\n",
        "      plt.show()\n",
        "  else:\n",
        "    res_v2=pd.DataFrame({\"dist\":filtered_real_abs,\"pred\":filtered_pred_abs,\"error\":error_v2_filtered})\n",
        "    # Filtered Outliers\n",
        "    plt.figure(figsize=(20,10))\n",
        "    plt.plot(filtered_real_abs,error_v2_filtered,'bo')\n",
        "    plt.xlabel('Distances')\n",
        "    labels = [i*80 for i in range(1, 26)]\n",
        "    plt.xticks(labels)\n",
        "    #plt.yticks(labels) \n",
        "    plt.ylabel('Error') \n",
        "    plt.title(\"Results Deltas Filtered (Outliers_Removed_\"+str(remove_outliers*100)+\"%_freq_\"+str(params_freq_reference[0])+\"_reference_\"+str(params_freq_reference[1])+\")\")\n",
        "    if save_res == True:\n",
        "      if training_data == False:\n",
        "        res_v2.to_csv(path+\"/Spectrum/NN/revised_NN_results_error/best_mod_bootstraped_new_data_Testing_results_deltas_filtered_\"+str(remove_outliers)+\"%_freq_\"+str(params_freq_reference[0])+\"_reference_\"+str(params_freq_reference[1])+\"_epochs_\"+str(epochs_num)+\".csv\", header=True, index=False)\n",
        "        plt.savefig(path+\"/Spectrum/NN/revised_NN_results_plots/best_bootstraped_new_data_Testing_results_deltas_filtered_\"+str(remove_outliers)+\"%_freq_\"+str(params_freq_reference[0])+\"_reference_\"+str(params_freq_reference[1])+\"_epochs_\"+str(epochs_num)+\".png\")   \n",
        "      else:\n",
        "        res_v2.to_csv(path+\"/Spectrum/NN/revised_NN_results_error/best_mod_bootstraped_new_data_Training_results_deltas_filtered_\"+str(remove_outliers)+\"%_freq_\"+str(params_freq_reference[0])+\"_reference_\"+str(params_freq_reference[1])+\"_epochs_\"+str(epochs_num)+\".csv\", header=True, index=False)\n",
        "        plt.savefig(path+\"/Spectrum/NN/revised_NN_results_plots/best_bootstraped_new_data_Training_results_deltas_filtered_\"+str(remove_outliers)+\"%_freq_\"+str(params_freq_reference[0])+\"_reference_\"+str(params_freq_reference[1])+\"_epochs_\"+str(epochs_num)+\".png\")\n",
        "    plt.show()\n",
        "\n",
        "  return error_filtered, error_v2_filtered, filtered_real_abs, filtered_pred_abs"
      ],
      "metadata": {
        "id": "2Joluw8-2Q63"
      },
      "execution_count": 26,
      "outputs": []
    },
    {
      "cell_type": "code",
      "source": [
        "# Load network\n",
        "from keras.models import Sequential\n",
        "from keras.layers import Dense,Conv2D, Flatten\n",
        "from keras.wrappers.scikit_learn import KerasRegressor\n",
        "from keras.callbacks import EarlyStopping\n",
        "from tqdm.keras import TqdmCallback\n",
        "\n",
        "def ann():\n",
        "  model = Sequential()\n",
        "  model.add(Dense(76, input_dim = 2561, activation = 'tanh'))\n",
        "  model.add(Dense(38,activation='tanh'))\n",
        "  model.add(Dense(19,activation='tanh'))\n",
        "  model.add(Dense(1))\n",
        "  opt = tf.keras.optimizers.Adam(learning_rate=0.0001)\n",
        "  l = tf.keras.losses.MeanSquaredError(reduction=\"auto\", name=\"mean_squared_error\")\n",
        "  m = tf.keras.metrics.MeanSquaredError()\n",
        "  model.compile(loss =l, optimizer = opt, metrics = m)\n",
        "  return model\n",
        "\n",
        "def train_model(X_train, Y_train, num_of_freq_selected, reference_amt):\n",
        "  print('Training model (freq_'+str(num_of_freq_selected)+'_reference_'+str(reference_amt)+')...')\n",
        "  from keras.models import Sequential\n",
        "  from keras.layers import Dense,Conv2D, Flatten\n",
        "  from keras.wrappers.scikit_learn import KerasRegressor\n",
        "  from keras.callbacks import EarlyStopping\n",
        "  from tqdm.keras import TqdmCallback\n",
        "\n",
        "  model_ann = KerasRegressor(build_fn=ann, epochs=5000, batch_size=8, verbose=0)\n",
        "\n",
        "  callback = [EarlyStopping(monitor='loss', patience=30)]#, TqdmCallback(verbose=2)]\n",
        "  history = model_ann.fit(X_train, Y_train,  validation_split = 0.2, callbacks=callback)\n",
        "  \n",
        "  history_dict=history.history\n",
        "  loss_values = history_dict['loss']\n",
        "  val_loss_values = history_dict['val_loss']\n",
        "\n",
        "  plt.figure()\n",
        "  plt.plot(loss_values,'bo',label='training loss')\n",
        "  plt.plot(val_loss_values,'r',label='val training loss')\n",
        "  plt.title('model loss')\n",
        "  plt.ylabel('loss')\n",
        "  plt.xlabel('epochs')\n",
        "  plt.legend(['training loss', 'val training loss'], loc='best')\n",
        "\n",
        "  # Save model\n",
        "  pickle.dump(model_ann,open(path+\"/Spectrum/NN/revised_NNs/NN_model_freq_\"+str(num_of_freq_selected)+\"_reference_\"+str(reference_amt)+\".pkl\",\"wb\"))\n",
        "  model_ann.model.save(path+\"/Spectrum/NN/revised_NNs/pearson_new_data_NN_model_freq_\"+str(num_of_freq_selected)+\"_reference_\"+str(reference_amt)+\".h5\")\n",
        "  \n",
        "  return model_ann"
      ],
      "metadata": {
        "id": "cu0bT__79So_"
      },
      "execution_count": 28,
      "outputs": []
    },
    {
      "cell_type": "code",
      "source": [
        "input_path = path + \"/Spectrum/NN/newest_revised_bootstraped_new_data_working_df-100_samples.csv\"\n",
        "\n",
        "ci = True # include or exclude CI calc\n",
        "parameters_freq_reference = ('all', 30) #(num_frequencies, num_references)\n",
        "\n",
        "x_train, y_train, x_test, y_test, data_scaler = main_features_train_test_split(\n",
        "    input_path, num_features = parameters_freq_reference[0], num_reference=parameters_freq_reference[1], \n",
        "    test_size=0.2, test_references_params=(False, 80), ci=ci, split_done=False)\n",
        "\n",
        "y_train_norm = (y_train - y_train.min())/ (y_train.max() - y_train.min())\n",
        "y_test_norm = (y_test - y_test.min())/ (y_test.max() - y_test.min())"
      ],
      "metadata": {
        "colab": {
          "base_uri": "https://localhost:8080/"
        },
        "id": "nZxSJQLY9aTh",
        "outputId": "0e09df04-6d40-4b09-ab25-03fa40ea57a9"
      },
      "execution_count": 29,
      "outputs": [
        {
          "output_type": "stream",
          "name": "stdout",
          "text": [
            "Obtaining data filtered by frequencies...\n",
            "Obtaining reference and sample split...\n",
            "Calculating features...\n",
            "\n",
            "Obtaining train and test split...\n",
            "Done\n"
          ]
        }
      ]
    },
    {
      "cell_type": "code",
      "source": [
        "model_ann = train_model(x_train, y_train_norm, parameters_freq_reference[0], parameters_freq_reference[1])\n"
      ],
      "metadata": {
        "colab": {
          "base_uri": "https://localhost:8080/",
          "height": 336
        },
        "id": "cYo25twt9hi9",
        "outputId": "8947da16-13c7-4421-8b6b-b22e32f085e5"
      },
      "execution_count": 30,
      "outputs": [
        {
          "output_type": "stream",
          "name": "stdout",
          "text": [
            "Training model (freq_all_reference_30)...\n",
            "INFO:tensorflow:Assets written to: ram://4e1a517c-4b2a-439e-adf4-a026c702836c/assets\n"
          ]
        },
        {
          "output_type": "display_data",
          "data": {
            "text/plain": [
              "<Figure size 432x288 with 1 Axes>"
            ],
            "image/png": "[encoded data removed]"
          },
          "metadata": {}
        }
      ]
    },
    {
      "cell_type": "code",
      "source": [
        "error_filtered, error_v2_filtered, filtered_real_abs, filtered_pred_abs = predict_test(model_ann, x_test, y_test_norm, remove_outliers=0.05, params_freq_reference = parameters_freq_reference, \n",
        "                                                                                       all_plots=True, epochs_num='test', training_data=False, save_res=True)"
      ],
      "metadata": {
        "colab": {
          "base_uri": "https://localhost:8080/",
          "height": 1000
        },
        "id": "f69aj24k9kj0",
        "outputId": "7b466930-02c1-4ec9-e0d0-a5d44e0e7e89"
      },
      "execution_count": 31,
      "outputs": [
        {
          "output_type": "stream",
          "name": "stdout",
          "text": [
            "Results (freq_all_reference_30)\n"
          ]
        },
        {
          "output_type": "display_data",
          "data": {
            "text/plain": [
              "<Figure size 1440x720 with 1 Axes>"
            ],
            "image/png": "[encoded data removed]"
          },
          "metadata": {}
        },
        {
          "output_type": "display_data",
          "data": {
            "text/plain": [
              "<Figure size 1440x720 with 1 Axes>"
            ],
            "image/png": "[encoded data removed]"
          },
          "metadata": {}
        },
        {
          "output_type": "display_data",
          "data": {
            "text/plain": [
              "<Figure size 1440x720 with 1 Axes>"
            ],
            "image/png": "[encoded data removed]"
          },
          "metadata": {}
        }
      ]
    },
    {
      "cell_type": "code",
      "source": [
        "\n",
        "y_train_pred = model_ann.predict(x_train)\n",
        "y_test_pred = model_ann.predict(x_test)\n",
        "\n",
        "# Calculates and prints r2 score of training and testing data\n",
        "print(\"The R2 score on the Train set is:\\t{:0.3f}\".format(r2_score(y_train_norm, y_train_pred)))\n",
        "print(\"The R2 score on the Test set is:\\t{:0.3f}\".format(r2_score(y_test_norm, y_test_pred)))\n",
        "\n",
        "df = pd.DataFrame(y_test_norm, columns=['actual'])\n",
        "df.insert(1, 'pred', y_test_pred)\n",
        "df.insert(2, 'error', (df.actual-df.pred))\n",
        "\n",
        "df.query('actual == 1.0')\n"
      ],
      "metadata": {
        "colab": {
          "base_uri": "https://localhost:8080/",
          "height": 774
        },
        "id": "Cw_SZOqX9noU",
        "outputId": "185307e2-9d65-4a87-e3e0-a426572d9b93"
      },
      "execution_count": 32,
      "outputs": [
        {
          "output_type": "stream",
          "name": "stdout",
          "text": [
            "The R2 score on the Train set is:\t0.998\n",
            "The R2 score on the Test set is:\t0.997\n"
          ]
        },
        {
          "output_type": "execute_result",
          "data": {
            "text/plain": [
              "     actual      pred     error\n",
              "30      1.0  0.979823  0.020177\n",
              "41      1.0  0.974371  0.025629\n",
              "73      1.0  0.990168  0.009832\n",
              "84      1.0  0.936018  0.063982\n",
              "102     1.0  0.961477  0.038523\n",
              "131     1.0  0.956374  0.043626\n",
              "138     1.0  0.961911  0.038089\n",
              "176     1.0  0.944086  0.055914\n",
              "188     1.0  0.975724  0.024276\n",
              "215     1.0  0.971024  0.028976\n",
              "231     1.0  0.965313  0.034687\n",
              "251     1.0  0.971064  0.028936\n",
              "280     1.0  0.988291  0.011709\n",
              "303     1.0  0.991149  0.008851\n",
              "311     1.0  0.967703  0.032297\n",
              "363     1.0  0.967265  0.032735\n",
              "398     1.0  0.921026  0.078974\n",
              "408     1.0  0.948353  0.051647\n",
              "415     1.0  0.989118  0.010882\n",
              "432     1.0  0.976943  0.023057\n",
              "436     1.0  0.955227  0.044773\n",
              "494     1.0  0.966221  0.033779"
            ],
            "text/html": [
              "\n",
              "  <div id=\"df-e3b3b659-b208-4918-9633-71329a5537e1\">\n",
              "    <div class=\"colab-df-container\">\n",
              "      <div>\n",
              "<style scoped>\n",
              "    .dataframe tbody tr th:only-of-type {\n",
              "        vertical-align: middle;\n",
              "    }\n",
              "\n",
              "    .dataframe tbody tr th {\n",
              "        vertical-align: top;\n",
              "    }\n",
              "\n",
              "    .dataframe thead th {\n",
              "        text-align: right;\n",
              "    }\n",
              "</style>\n",
              "<table border=\"1\" class=\"dataframe\">\n",
              "  <thead>\n",
              "    <tr style=\"text-align: right;\">\n",
              "      <th></th>\n",
              "      <th>actual</th>\n",
              "      <th>pred</th>\n",
              "      <th>error</th>\n",
              "    </tr>\n",
              "  </thead>\n",
              "  <tbody>\n",
              "    <tr>\n",
              "      <th>30</th>\n",
              "      <td>1.0</td>\n",
              "      <td>0.979823</td>\n",
              "      <td>0.020177</td>\n",
              "    </tr>\n",
              "    <tr>\n",
              "      <th>41</th>\n",
              "      <td>1.0</td>\n",
              "      <td>0.974371</td>\n",
              "      <td>0.025629</td>\n",
              "    </tr>\n",
              "    <tr>\n",
              "      <th>73</th>\n",
              "      <td>1.0</td>\n",
              "      <td>0.990168</td>\n",
              "      <td>0.009832</td>\n",
              "    </tr>\n",
              "    <tr>\n",
              "      <th>84</th>\n",
              "      <td>1.0</td>\n",
              "      <td>0.936018</td>\n",
              "      <td>0.063982</td>\n",
              "    </tr>\n",
              "    <tr>\n",
              "      <th>102</th>\n",
              "      <td>1.0</td>\n",
              "      <td>0.961477</td>\n",
              "      <td>0.038523</td>\n",
              "    </tr>\n",
              "    <tr>\n",
              "      <th>131</th>\n",
              "      <td>1.0</td>\n",
              "      <td>0.956374</td>\n",
              "      <td>0.043626</td>\n",
              "    </tr>\n",
              "    <tr>\n",
              "      <th>138</th>\n",
              "      <td>1.0</td>\n",
              "      <td>0.961911</td>\n",
              "      <td>0.038089</td>\n",
              "    </tr>\n",
              "    <tr>\n",
              "      <th>176</th>\n",
              "      <td>1.0</td>\n",
              "      <td>0.944086</td>\n",
              "      <td>0.055914</td>\n",
              "    </tr>\n",
              "    <tr>\n",
              "      <th>188</th>\n",
              "      <td>1.0</td>\n",
              "      <td>0.975724</td>\n",
              "      <td>0.024276</td>\n",
              "    </tr>\n",
              "    <tr>\n",
              "      <th>215</th>\n",
              "      <td>1.0</td>\n",
              "      <td>0.971024</td>\n",
              "      <td>0.028976</td>\n",
              "    </tr>\n",
              "    <tr>\n",
              "      <th>231</th>\n",
              "      <td>1.0</td>\n",
              "      <td>0.965313</td>\n",
              "      <td>0.034687</td>\n",
              "    </tr>\n",
              "    <tr>\n",
              "      <th>251</th>\n",
              "      <td>1.0</td>\n",
              "      <td>0.971064</td>\n",
              "      <td>0.028936</td>\n",
              "    </tr>\n",
              "    <tr>\n",
              "      <th>280</th>\n",
              "      <td>1.0</td>\n",
              "      <td>0.988291</td>\n",
              "      <td>0.011709</td>\n",
              "    </tr>\n",
              "    <tr>\n",
              "      <th>303</th>\n",
              "      <td>1.0</td>\n",
              "      <td>0.991149</td>\n",
              "      <td>0.008851</td>\n",
              "    </tr>\n",
              "    <tr>\n",
              "      <th>311</th>\n",
              "      <td>1.0</td>\n",
              "      <td>0.967703</td>\n",
              "      <td>0.032297</td>\n",
              "    </tr>\n",
              "    <tr>\n",
              "      <th>363</th>\n",
              "      <td>1.0</td>\n",
              "      <td>0.967265</td>\n",
              "      <td>0.032735</td>\n",
              "    </tr>\n",
              "    <tr>\n",
              "      <th>398</th>\n",
              "      <td>1.0</td>\n",
              "      <td>0.921026</td>\n",
              "      <td>0.078974</td>\n",
              "    </tr>\n",
              "    <tr>\n",
              "      <th>408</th>\n",
              "      <td>1.0</td>\n",
              "      <td>0.948353</td>\n",
              "      <td>0.051647</td>\n",
              "    </tr>\n",
              "    <tr>\n",
              "      <th>415</th>\n",
              "      <td>1.0</td>\n",
              "      <td>0.989118</td>\n",
              "      <td>0.010882</td>\n",
              "    </tr>\n",
              "    <tr>\n",
              "      <th>432</th>\n",
              "      <td>1.0</td>\n",
              "      <td>0.976943</td>\n",
              "      <td>0.023057</td>\n",
              "    </tr>\n",
              "    <tr>\n",
              "      <th>436</th>\n",
              "      <td>1.0</td>\n",
              "      <td>0.955227</td>\n",
              "      <td>0.044773</td>\n",
              "    </tr>\n",
              "    <tr>\n",
              "      <th>494</th>\n",
              "      <td>1.0</td>\n",
              "      <td>0.966221</td>\n",
              "      <td>0.033779</td>\n",
              "    </tr>\n",
              "  </tbody>\n",
              "</table>\n",
              "</div>\n",
              "      <button class=\"colab-df-convert\" onclick=\"convertToInteractive('df-e3b3b659-b208-4918-9633-71329a5537e1')\"\n",
              "              title=\"Convert this dataframe to an interactive table.\"\n",
              "              style=\"display:none;\">\n",
              "        \n",
              "  <svg xmlns=\"http://www.w3.org/2000/svg\" height=\"24px\"viewBox=\"0 0 24 24\"\n",
              "       width=\"24px\">\n",
              "    <path d=\"M0 0h24v24H0V0z\" fill=\"none\"/>\n",
              "    <path d=\"M18.56 5.44l.94 2.06.94-2.06 2.06-.94-2.06-.94-.94-2.06-.94 2.06-2.06.94zm-11 1L8.5 8.5l.94-2.06 2.06-.94-2.06-.94L8.5 2.5l-.94 2.06-2.06.94zm10 10l.94 2.06.94-2.06 2.06-.94-2.06-.94-.94-2.06-.94 2.06-2.06.94z\"/><path d=\"M17.41 7.96l-1.37-1.37c-.4-.4-.92-.59-1.43-.59-.52 0-1.04.2-1.43.59L10.3 9.45l-7.72 7.72c-.78.78-.78 2.05 0 2.83L4 21.41c.39.39.9.59 1.41.59.51 0 1.02-.2 1.41-.59l7.78-7.78 2.81-2.81c.8-.78.8-2.07 0-2.86zM5.41 20L4 18.59l7.72-7.72 1.47 1.35L5.41 20z\"/>\n",
              "  </svg>\n",
              "      </button>\n",
              "      \n",
              "  <style>\n",
              "    .colab-df-container {\n",
              "      display:flex;\n",
              "      flex-wrap:wrap;\n",
              "      gap: 12px;\n",
              "    }\n",
              "\n",
              "    .colab-df-convert {\n",
              "      background-color: #E8F0FE;\n",
              "      border: none;\n",
              "      border-radius: 50%;\n",
              "      cursor: pointer;\n",
              "      display: none;\n",
              "      fill: #1967D2;\n",
              "      height: 32px;\n",
              "      padding: 0 0 0 0;\n",
              "      width: 32px;\n",
              "    }\n",
              "\n",
              "    .colab-df-convert:hover {\n",
              "      background-color: #E2EBFA;\n",
              "      box-shadow: 0px 1px 2px rgba(60, 64, 67, 0.3), 0px 1px 3px 1px rgba(60, 64, 67, 0.15);\n",
              "      fill: #174EA6;\n",
              "    }\n",
              "\n",
              "    [theme=dark] .colab-df-convert {\n",
              "      background-color: #3B4455;\n",
              "      fill: #D2E3FC;\n",
              "    }\n",
              "\n",
              "    [theme=dark] .colab-df-convert:hover {\n",
              "      background-color: #434B5C;\n",
              "      box-shadow: 0px 1px 3px 1px rgba(0, 0, 0, 0.15);\n",
              "      filter: drop-shadow(0px 1px 2px rgba(0, 0, 0, 0.3));\n",
              "      fill: #FFFFFF;\n",
              "    }\n",
              "  </style>\n",
              "\n",
              "      <script>\n",
              "        const buttonEl =\n",
              "          document.querySelector('#df-e3b3b659-b208-4918-9633-71329a5537e1 button.colab-df-convert');\n",
              "        buttonEl.style.display =\n",
              "          google.colab.kernel.accessAllowed ? 'block' : 'none';\n",
              "\n",
              "        async function convertToInteractive(key) {\n",
              "          const element = document.querySelector('#df-e3b3b659-b208-4918-9633-71329a5537e1');\n",
              "          const dataTable =\n",
              "            await google.colab.kernel.invokeFunction('convertToInteractive',\n",
              "                                                     [key], {});\n",
              "          if (!dataTable) return;\n",
              "\n",
              "          const docLinkHtml = 'Like what you see? Visit the ' +\n",
              "            '<a target=\"_blank\" href=https://colab.research.google.com/notebooks/data_table.ipynb>data table notebook</a>'\n",
              "            + ' to learn more about interactive tables.';\n",
              "          element.innerHTML = '';\n",
              "          dataTable['output_type'] = 'display_data';\n",
              "          await google.colab.output.renderOutput(dataTable, element);\n",
              "          const docLink = document.createElement('div');\n",
              "          docLink.innerHTML = docLinkHtml;\n",
              "          element.appendChild(docLink);\n",
              "        }\n",
              "      </script>\n",
              "    </div>\n",
              "  </div>\n",
              "  "
            ]
          },
          "metadata": {},
          "execution_count": 32
        }
      ]
    },
    {
      "cell_type": "code",
      "source": [
        "def threshold_review(y_test_norm, y_test_pred, threshold = 60, min=80, max=2000):\n",
        "  y_test_denorm = (y_test_norm * (max-min)+min)\n",
        "  y_test_pred_denorm = (y_test_pred * (max-min)+min)\n",
        "\n",
        "  # inverted_x_test = scaler.inverse_transform(x_test)\n",
        "  df = pd.DataFrame(y_test_denorm, columns=['actual'])\n",
        "  df.insert(1, 'pred', y_test_pred_denorm)\n",
        "  df.insert(2, 'error', (abs(df.actual-df.pred)))\n",
        "  df['above_threshold'] = np.where(df['error'] > threshold, 1, 0)\n",
        "  \n",
        "  num_of_accepted_vals = df.groupby('above_threshold')['above_threshold'].count()[0]\n",
        "  num_of_rejected_vals = df.groupby('above_threshold')['above_threshold'].count()[1]\n",
        "  total_amt_of_data = len(df)\n",
        "\n",
        "  accuracy = round((num_of_accepted_vals/total_amt_of_data)*100, 2)\n",
        "\n",
        "  return df, accuracy"
      ],
      "metadata": {
        "id": "MjU8x8of9qud"
      },
      "execution_count": 42,
      "outputs": []
    },
    {
      "cell_type": "code",
      "source": [
        "threshold_vals = [20, 40, 60, 80]\n",
        "for v in threshold_vals:\n",
        "  res_predictions, accuracy = threshold_review(y_test_norm, y_test_pred, threshold = v)\n",
        "  print('Accuracy is: '+str(accuracy)+'%')"
      ],
      "metadata": {
        "id": "h5Osj77d7vt8",
        "outputId": "34baeb62-39b6-46e8-f82b-931eaa0e6d16",
        "colab": {
          "base_uri": "https://localhost:8080/"
        }
      },
      "execution_count": 43,
      "outputs": [
        {
          "output_type": "stream",
          "name": "stdout",
          "text": [
            "Accuracy is: 53.4%\n",
            "Accuracy is: 79.4%\n",
            "Accuracy is: 92.0%\n",
            "Accuracy is: 97.6%\n"
          ]
        }
      ]
    }
  ]
}