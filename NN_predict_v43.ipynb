{
  "nbformat": 4,
  "nbformat_minor": 0,
  "metadata": {
    "colab": {
      "name": "Untitled10.ipynb",
      "provenance": [],
      "authorship_tag": "ABX9TyP+GZfdThYfdKvZ4VKSqtnA",
      "include_colab_link": true
    },
    "kernelspec": {
      "name": "python3",
      "display_name": "Python 3"
    },
    "language_info": {
      "name": "python"
    }
  },
  "cells": [
    {
      "cell_type": "markdown",
      "metadata": {
        "id": "view-in-github",
        "colab_type": "text"
      },
      "source": [
        "<a href=\"https://colab.research.google.com/github/R0N3ldrt/Thesis/blob/main/NN_predict_v43.ipynb\" target=\"_parent\"><img src=\"https://colab.research.google.com/assets/colab-badge.svg\" alt=\"Open In Colab\"/></a>"
      ]
    },
    {
      "cell_type": "markdown",
      "source": [
        "# Traininig NN Spectrum"
      ],
      "metadata": {
        "id": "UT4kgsEJEpyY"
      }
    },
    {
      "cell_type": "markdown",
      "source": [
        "# Loading Necesary Libraries"
      ],
      "metadata": {
        "id": "qsIzw6RGEwWp"
      }
    },
    {
      "cell_type": "code",
      "execution_count": 37,
      "metadata": {
        "id": "0YnA2ltpEoSi"
      },
      "outputs": [],
      "source": [
        "# Importing necesary libraries\n",
        "# Libraries for correct code execution \n",
        "\n",
        "import os, time, joblib\n",
        "import pandas as pd\n",
        "import numpy as np\n",
        "import matplotlib.pyplot as plt\n",
        "import math\n",
        "import pickle\n",
        "import random\n",
        "import csv\n",
        "import re\n",
        "import array\n",
        "import seaborn as sns\n",
        "from tqdm import tqdm\n",
        "import tensorflow as tf\n",
        "import os.path\n",
        "\n",
        "from scipy import stats\n",
        "from functools import reduce\n",
        "from random import random, gauss\n",
        "from math import modf, pi, cos, sin, sqrt\n",
        "from sklearn.model_selection import train_test_split\n",
        "from sklearn.preprocessing import MinMaxScaler\n",
        "from sklearn.metrics import r2_score\n",
        "from plotly.subplots import make_subplots\n",
        "from scipy.signal import savgol_filter\n",
        "from scipy.stats.stats import pearsonr\n",
        "from scipy.stats import spearmanr\n",
        "\n",
        "import scipy.stats as st\n",
        "import plotly.graph_objects as go\n",
        "import plotly.express as px\n",
        "from plotly.subplots import make_subplots\n",
        "\n",
        "from keras.models import Sequential\n",
        "from keras.layers import Dense,Conv2D, Flatten\n",
        "from keras.wrappers.scikit_learn import KerasRegressor\n",
        "from keras.callbacks import EarlyStopping\n",
        "from sklearn.mixture import GaussianMixture\n",
        "import os, time, math, csv, joblib\n",
        "import pandas as pd\n",
        "import numpy as np\n",
        "import matplotlib.pyplot as plt\n",
        "import seaborn as sns\n",
        "from sklearn.model_selection import train_test_split\n",
        "from sklearn.preprocessing import MinMaxScaler\n",
        "from sklearn.mixture import GaussianMixture\n",
        "\n",
        "import os, time, math, csv, joblib\n",
        "import pandas as pd\n",
        "import numpy as np\n",
        "from sklearn.model_selection import train_test_split\n",
        "from sklearn.preprocessing import MinMaxScaler\n",
        "from sklearn.mixture import GaussianMixture\n",
        "\n",
        "import warnings\n",
        "warnings.filterwarnings(\"ignore\")\n",
        "\n",
        "sns.set_theme()"
      ]
    },
    {
      "cell_type": "markdown",
      "source": [
        "# Load Enviroment"
      ],
      "metadata": {
        "id": "o99IEHDfE2yy"
      }
    },
    {
      "cell_type": "code",
      "source": [
        "# BLOQUE PARA USAR DESDE COLAB\n",
        "\n",
        "# Google drive loading as work station for local-usage of the files.\n",
        "from google.colab import drive\n",
        "drive.mount('/content/gdrive',force_remount= True)\n",
        "\n",
        "#-----------------------------------------------------------------------------"
      ],
      "metadata": {
        "colab": {
          "base_uri": "https://localhost:8080/"
        },
        "id": "ruXEP78XE7E5",
        "outputId": "2dd59690-b8cc-4acb-c3f4-c65de92a9bbe"
      },
      "execution_count": 38,
      "outputs": [
        {
          "output_type": "stream",
          "name": "stdout",
          "text": [
            "Mounted at /content/gdrive\n"
          ]
        }
      ]
    },
    {
      "cell_type": "code",
      "source": [
        "# Lista para cambiar los paths rapido.\n",
        "workers = [\"Ronald\", \"Local\"]\n",
        "\n",
        "# Change the number to change the paths.\n",
        "worker = workers[0]\n",
        "\n",
        "if worker == \"Ronald\":\n",
        "  path = \"/content/gdrive/MyDrive/Thesis_Workstation/ANN_dataset\"\n",
        "else: path = os.getcwd()"
      ],
      "metadata": {
        "id": "1Y2-m9DsE74Z"
      },
      "execution_count": 39,
      "outputs": []
    },
    {
      "cell_type": "markdown",
      "source": [
        "# Get working_df"
      ],
      "metadata": {
        "id": "a9bZmAKqRtdK"
      }
    },
    {
      "cell_type": "markdown",
      "source": [
        "## Aggregator"
      ],
      "metadata": {
        "id": "-efCc7PrSORb"
      }
    },
    {
      "cell_type": "code",
      "source": [
        "def prime_number_finder(stop_gap, total_num_of_data):\n",
        "  prime_nums = []\n",
        "  i=2\n",
        "  while i <= stop_gap:\n",
        "    if (total_num_of_data % i==0):\n",
        "      prime_nums.append(i)\n",
        "      break\n",
        "    i+=1\n",
        "  return prime_nums"
      ],
      "metadata": {
        "id": "LpTsisCER__7"
      },
      "execution_count": 40,
      "outputs": []
    },
    {
      "cell_type": "code",
      "source": [
        "def aggreagator_v2(df, stop_gap=50):\n",
        "  total_num_of_data = df.shape[1]\n",
        "  arr_prime = prime_number_finder(stop_gap, total_num_of_data)\n",
        "  #agg_num = np.max(arr_prime)\n",
        "  agg_num = arr_prime[0]\n",
        "\n",
        "  # Creating new df of aggregate values\n",
        "  agg_df = pd.DataFrame()\n",
        "\n",
        "  mid_point = df.shape[1]/2\n",
        "\n",
        "  agg=0\n",
        "  loop_cnt=0\n",
        "  init_column_cnt = 5\n",
        "  while agg<=total_num_of_data:\n",
        "    loop_cnt+=1\n",
        "    # Obtain current last columns stop\n",
        "    agg=agg_num+init_column_cnt\n",
        "    # Select working columns\n",
        "    new_df = df[df.columns[init_column_cnt:agg]]\n",
        "\n",
        "    init_column_cnt += (agg_num)\n",
        "\n",
        "    headers = list(new_df.columns.values) \n",
        "    if loop_cnt <= mid_point:\n",
        "      # Get average of freq values for new header\n",
        "      new_header_name  = headers[-1]\n",
        "    else:\n",
        "      new_header_name = headers[0]\n",
        "    \n",
        "    # Add aggragated values to new df\n",
        "    agg_df[new_header_name] = new_df.mean(axis = 1)\n",
        "  return agg_df"
      ],
      "metadata": {
        "id": "PqkcfV-CSDYv"
      },
      "execution_count": 41,
      "outputs": []
    },
    {
      "cell_type": "markdown",
      "source": [
        "## Find cutoff index"
      ],
      "metadata": {
        "id": "W4h81smRSKUR"
      }
    },
    {
      "cell_type": "code",
      "source": [
        "def remove_tail(df, cut_val, sample_id):\n",
        "  columns_selected = []\n",
        "  old_val = 0\n",
        "  delta = 0\n",
        "  mid_point = int(df.shape[1]/2)\n",
        "  cols_headers  = list(df.columns.values)\n",
        "\n",
        "  for i in range(0, df.shape[1]):\n",
        "    if i == 0:\n",
        "      cell_val = df.iloc[[0], i]\n",
        "      old_val = cell_val[sample_id]\n",
        "    else:\n",
        "      cell_val = df.iloc[[0], i]\n",
        "      val = cell_val[sample_id]\n",
        "      delta = abs(old_val-val)\n",
        "      old_val = val\n",
        "      if delta > cut_val:\n",
        "        if i <= mid_point:\n",
        "          col_name_selected = cols_headers[i+2]\n",
        "        else:\n",
        "          col_name_selected = cols_headers[i-2]\n",
        "          col_name_selected = round(float(col_name_selected), 5)\n",
        "        columns_selected.append(col_name_selected)\n",
        "\n",
        "  return columns_selected"
      ],
      "metadata": {
        "id": "hgUHEniRSJil"
      },
      "execution_count": 42,
      "outputs": []
    },
    {
      "cell_type": "code",
      "source": [
        "# Removing tails conducting multiples loops with variable cutoff value until we get only two columns\n",
        "def remove_tail_main(df, cut_val, sample_id):\n",
        "  old_drop_cols = []\n",
        "  drop_cols = remove_tail(df, cut_val, sample_id)\n",
        "  while len(drop_cols) != 2:  \n",
        "    # If len of columns to be dropped are 0 the select the 2 values smaller and bigger of the previous iteration\n",
        "    if len(drop_cols) == 0 or len(drop_cols) == 1:\n",
        "      drop_cols = [np.min(old_drop_cols), np.max(old_drop_cols)]\n",
        "      break\n",
        "    else:\n",
        "      old_drop_cols = drop_cols\n",
        "      drop_cols = remove_tail(df, cut_val, sample_id)\n",
        "      cut_val += 2\n",
        "  return drop_cols"
      ],
      "metadata": {
        "id": "CNPLl420STJV"
      },
      "execution_count": 43,
      "outputs": []
    },
    {
      "cell_type": "code",
      "source": [
        "def get_working_data_idx_v2(df_mean_sample, sample_id, cut_val = 0):\n",
        "\n",
        "  df = df_mean_sample.iloc[[sample_id - 1]]\n",
        "\n",
        "  #agg_df = aggreagator_v2(df) disable aggragator causing odd data points\n",
        "\n",
        "  col_vals = remove_tail_main(df, cut_val=cut_val, sample_id=sample_id)\n",
        "\n",
        "  left_index_no = df.columns.get_loc(col_vals[0])\n",
        "  rigth_index_no = df.columns.get_loc(col_vals[1])\n",
        "\n",
        "  return left_index_no, rigth_index_no"
      ],
      "metadata": {
        "id": "WFhRhx5USZR7"
      },
      "execution_count": 44,
      "outputs": []
    },
    {
      "cell_type": "code",
      "source": [
        "def cut_off_idx(df): # return tuple with cut-off values (index_left_side, index_rigth_side)\n",
        "  df_mean_sample = df.groupby(['PBRS_id']).mean()\n",
        "  df_mean_sample = df_mean_sample.drop(['row', 'Channels', 'Distance_km', 'power_dBm'], axis = 1)\n",
        "\n",
        "  cut_points = {}\n",
        "  print('Calculating the cutoff values:')\n",
        "  for sample in tqdm(df_mean_sample.index):\n",
        "    left_index_no, rigth_index_no = get_working_data_idx_v2(df_mean_sample, sample_id = sample)\n",
        "    cut_points[sample] = (left_index_no, rigth_index_no)\n",
        "\n",
        "  left_cut_off = np.min([v[0] for k, v in cut_points.items()])\n",
        "  rigth_cut_off = np.max([v[1] for k, v in cut_points.items()])\n",
        "\n",
        "  cut_point = (left_cut_off, rigth_cut_off)\n",
        "  return cut_point"
      ],
      "metadata": {
        "id": "1tG_j9gRSeJ0"
      },
      "execution_count": 45,
      "outputs": []
    },
    {
      "cell_type": "markdown",
      "source": [
        "## Select working data"
      ],
      "metadata": {
        "id": "_2p4y95YSlGe"
      }
    },
    {
      "cell_type": "code",
      "source": [
        "def select_working_data(df, cut_point): # implement cut_off values and Smoothing original df after cutt-of\n",
        "  extra_info_df = df.iloc[:, 0:6]\n",
        "  data_df = df.iloc[:, cut_point[0]+6:cut_point[1]+6]\n",
        "  smoothed_data_frame = pd.DataFrame(savgol_filter(data_df, window_length = 5, polyorder = 2))\n",
        "  \n",
        "  # Adding back headers to the smoothed data\n",
        "  rename_col = {}\n",
        "  cnt = 0\n",
        "  for col in data_df.columns:\n",
        "    h_col = round(float(col), 5)\n",
        "    rename_col[cnt] = h_col\n",
        "    cnt += 1\n",
        "  smoothed_data_frame.rename(columns=rename_col, inplace=True)\n",
        "\n",
        "  working_df = pd.merge(extra_info_df, smoothed_data_frame, left_index=True, right_index=True)\n",
        "  return working_df"
      ],
      "metadata": {
        "id": "TC0PK42wSnTw"
      },
      "execution_count": 46,
      "outputs": []
    },
    {
      "cell_type": "code",
      "source": [
        "def main_cutoff(input_path):\n",
        "  print('Reading data from file.')\n",
        "  df = pd.read_excel(input_path, sheet_name = \"Sheet1\", skiprows=1)\n",
        "  df.iloc[0].fillna(method='bfill', inplace=True)\n",
        "  df.iloc[1:df.shape[0]].fillna(method='pad', inplace=True)\n",
        "  # Adding missing PBRS_id\n",
        "  snippet = []\n",
        "  val_cnt = 1\n",
        "  idx = 0\n",
        "  for sample in range(1, 101):\n",
        "    for sample_id in range(0, 25):\n",
        "      df.at[idx, 'PBRS_id'] = val_cnt\n",
        "      idx +=1\n",
        "      snippet.append(val_cnt)\n",
        "    val_cnt += 1\n",
        "  df['PBRS_id'] = df['PBRS_id'].astype(int)\n",
        "\n",
        "  cut_point = cut_off_idx(df)\n",
        "  working_df = select_working_data(df, cut_point)\n",
        "\n",
        "  return working_df"
      ],
      "metadata": {
        "id": "n5gp_DYpSqEV"
      },
      "execution_count": 47,
      "outputs": []
    },
    {
      "cell_type": "markdown",
      "source": [
        "## Run main cutoff"
      ],
      "metadata": {
        "id": "_IszMVtETKej"
      }
    },
    {
      "cell_type": "code",
      "source": [
        "#input_path = path + \"/Spectrum/16QAM_v2/Copy of dataSet_gamma0_Spectrum31MHz_Samples_16QAM_75GHz_LongHaul_input_25x81km_primeStep.xlsx\"\n",
        "#orking_df = main_cutoff(input_path)\n",
        "#display(working_df)"
      ],
      "metadata": {
        "id": "0MCaO3l2TOEZ"
      },
      "execution_count": 48,
      "outputs": []
    },
    {
      "cell_type": "code",
      "source": [
        "#working_df.to_csv(path+\"/Spectrum/NN/new_data_working_df.csv\", index=False)"
      ],
      "metadata": {
        "id": "OTlGF2TaTiAT"
      },
      "execution_count": 49,
      "outputs": []
    },
    {
      "cell_type": "markdown",
      "source": [
        "#New Train/Test Split"
      ],
      "metadata": {
        "id": "rIpeu9O5teEp"
      }
    },
    {
      "cell_type": "markdown",
      "source": [
        "## Get Reference data"
      ],
      "metadata": {
        "id": "bgUl5jOx2vOg"
      }
    },
    {
      "cell_type": "code",
      "source": [
        "def get_reference_and_sample_data(working_df, num_reference):\n",
        "  import random\n",
        "  num_of_ids = len(working_df['PBRS_id'].unique())\n",
        "\n",
        "  l = list(range(1, num_of_ids+1))\n",
        "  random.shuffle(l)\n",
        "  reference_arr = (l[:num_reference])\n",
        "  sample_arr = l[-(num_of_ids-num_reference):]\n",
        "\n",
        "  reference_data_df = working_df[working_df['PBRS_id'].isin(reference_arr)]\n",
        "  sample_data_df = working_df[working_df['PBRS_id'].isin(sample_arr)]\n",
        "  \n",
        "  return reference_data_df, sample_data_df"
      ],
      "metadata": {
        "id": "ec3YhJwn9Hxx"
      },
      "execution_count": 50,
      "outputs": []
    },
    {
      "cell_type": "markdown",
      "source": [
        "## Get test/train split"
      ],
      "metadata": {
        "id": "gaVlwtnN-Ezo"
      }
    },
    {
      "cell_type": "code",
      "source": [
        "def get_idx_train_test_split(working_df, trainingProp = 0.8):\n",
        "  rows_training = np.array([])\n",
        "  rows_testing = np.array([])\n",
        "  distances = [x*80 for x in range(1, 26)]\n",
        "  for d in distances:\n",
        "    distance_working_df = working_df.loc[working_df['Distance_km'] == d]\n",
        "    rows_mixed=np.random.permutation(distance_working_df.shape[0])\n",
        "\n",
        "    training_amt = math.ceil(distance_working_df.shape[0]*trainingProp)\n",
        "    testing_amt = distance_working_df.shape[0] - training_amt\n",
        "\n",
        "    rows_training = np.append(rows_training, rows_mixed[:training_amt])\n",
        "    rows_testing = np.append(rows_testing, rows_mixed[-testing_amt:])\n",
        "  \n",
        "  rows_training = rows_training.astype('int').tolist()\n",
        "  rows_testing = rows_testing.astype('int').tolist()\n",
        "\n",
        "  return rows_training, rows_testing"
      ],
      "metadata": {
        "id": "yKHiNNANyyDB"
      },
      "execution_count": 51,
      "outputs": []
    },
    {
      "cell_type": "markdown",
      "source": [
        "## Get frequencies filter"
      ],
      "metadata": {
        "id": "WEbwMwMG-9BX"
      }
    },
    {
      "cell_type": "code",
      "source": [
        "def frequencies_filter(df, num_selected_freq=20):\n",
        "  info_df = df.iloc[:, 0:6]\n",
        "  data_df = df.iloc[:, 6:df.shape[1]]\n",
        "  span_val = int(data_df.shape[1]/num_selected_freq)\n",
        "  for i in range(num_selected_freq):\n",
        "    df2 = data_df.iloc[:, (i+1)*span_val].to_frame()\n",
        "    if i+1 == 1:\n",
        "      new_df = df2\n",
        "    else:\n",
        "      new_df = pd.merge(new_df, df2, left_index=True, right_index=True)\n",
        "  new_df = info_df.join(new_df)\n",
        "  \n",
        "  return new_df"
      ],
      "metadata": {
        "id": "RqeELlLC_vlH"
      },
      "execution_count": 52,
      "outputs": []
    },
    {
      "cell_type": "markdown",
      "source": [
        "## Get features"
      ],
      "metadata": {
        "id": "S2Z2xg2yHuoz"
      }
    },
    {
      "cell_type": "code",
      "source": [
        "#sample_freq_data_df\n",
        "#distance_reference_df\n",
        "#selected_rows = rows_training\n",
        "def get_features(sample_freq_data_df, reference_freq_data_df, selected_rows, test_references_params):\n",
        "  data_distance = []\n",
        "  data_mean = []\n",
        "  data_std = []\n",
        "  data_pearson_min = []\n",
        "  data_pearson_mean = []\n",
        "  data_pearson_max = []\n",
        "  data_CI_lower = []\n",
        "  data_CI_upper = []\n",
        "\n",
        "  if test_references_params[0] == True: # Test reference distance portion\n",
        "    reference_freq_data_df = reference_freq_data_df['Distance_km'].isin(test_references_params[1])\n",
        "\n",
        "  for row_idx in tqdm(selected_rows):\n",
        "    reference_Y = reference_freq_data_df.iloc[row_idx,3] # distance of row selected\n",
        "\n",
        "    data_Y = sample_freq_data_df.iloc[row_idx,3] # distance of row selected\n",
        "    data_X = np.array(sample_freq_data_df.iloc[row_idx,6:sample_freq_data_df.shape[1]]) #array of data in row selected\n",
        "    data_distance.append(data_Y)\n",
        "    data_std.append(np.std(data_X))\n",
        "    data_mean.append(np.mean(data_X))\n",
        "\n",
        "    data_ci = st.t.interval(alpha=0.90, df=len(data_X)-1, loc=np.mean(data_X), scale=st.sem(data_X))\n",
        "    data_confidence_int_lower = data_ci[0]\n",
        "    data_confidence_int_upper = data_ci[1]\n",
        "\n",
        "    # Get reference data -----------------\n",
        "    distance_reference_df = reference_freq_data_df.loc[reference_freq_data_df['Distance_km'] == data_Y]\n",
        "    if distance_reference_df.empty:\n",
        "      distance_reference_df = reference_freq_data_df.copy()\n",
        "\n",
        "    pearson_vals = []\n",
        "    confidence_vals_lower = []\n",
        "    confidence_vals_upper = []\n",
        "    for reference_row in range(0, distance_reference_df.shape[0]):\n",
        "      reference_X = np.array(distance_reference_df.iloc[reference_row,6:distance_reference_df.shape[1]])\n",
        "      pearson_vals.append(round(pearsonr(data_X, reference_X)[0], 5))\n",
        "\n",
        "      reference_ci = st.t.interval(alpha=0.90, df=len(reference_X)-1, loc=np.mean(reference_X), scale=st.sem(reference_X))\n",
        "      reference_confidence_int_lower = reference_ci[0]\n",
        "      confidence_vals_lower.append(round(abs(reference_confidence_int_lower - data_confidence_int_lower), 5))\n",
        "      reference_confidence_int_upper = reference_ci[1]\n",
        "      confidence_vals_upper.append(round(abs(reference_confidence_int_upper - data_confidence_int_upper),5))\n",
        "\n",
        "    data_pearson_min.append(np.min(pearson_vals))\n",
        "    data_pearson_mean.append(np.mean(pearson_vals))    \n",
        "    data_pearson_max.append(np.max(pearson_vals))\n",
        "\n",
        "    data_CI_lower.append(np.min(confidence_vals_lower))\n",
        "    data_CI_upper.append(np.min(confidence_vals_upper))\n",
        "\n",
        "  data = {'distance':data_distance,\n",
        "                  'mean':data_mean,\n",
        "                  'std':data_std,\n",
        "                  'pearson_min':data_pearson_min,\n",
        "                  'pearson_mean':data_pearson_mean,\n",
        "                  'pearson_max':data_pearson_max,\n",
        "                  'delta_CI_min':data_CI_lower,\n",
        "                  'delta_CI_max':data_CI_upper}\n",
        "\n",
        "  data_df = pd.DataFrame(data)\n",
        "\n",
        "  \n",
        "  return data_df"
      ],
      "metadata": {
        "id": "8FNsUKTVxZmP"
      },
      "execution_count": 53,
      "outputs": []
    },
    {
      "cell_type": "markdown",
      "source": [
        "## Main train/test split"
      ],
      "metadata": {
        "id": "9V5WNuN9jSZF"
      }
    },
    {
      "cell_type": "code",
      "source": [
        "def get_train_test_split_main(input_path, num_of_freq_selected, reference_amt, test_references_params):\n",
        "  working_df = pd.read_csv(input_path)\n",
        "  working_df['Distance_km'] = working_df['Distance_km'].astype(int)\n",
        "\n",
        "  if isinstance(test_references_params[2], pd.DataFrame): # providing references of previous analysis\n",
        "    reference_freq_data_df = test_references_params[2].copy()\n",
        "    col_reference = list(reference_freq_data_df)\n",
        "\n",
        "    sample_data_df = working_df.copy()\n",
        "    sample_freq_data_df = pd.DataFrame(sample_data_df, columns = col_reference) # Selecting the proper freequencies comapared to reference\n",
        "\n",
        "  else:\n",
        "    reference_data_df, sample_data_df = get_reference_and_sample_data(working_df, reference_amt)\n",
        "    reference_freq_data_df = frequencies_filter(reference_data_df, num_selected_freq=num_of_freq_selected)\n",
        "    sample_freq_data_df = frequencies_filter(sample_data_df, num_selected_freq=num_of_freq_selected)\n",
        "\n",
        "  rows_training, rows_testing = get_idx_train_test_split(sample_freq_data_df, trainingProp = 0.8)\n",
        "\n",
        "  print('Calculating train split:')\n",
        "  training_df = get_features(sample_freq_data_df, reference_freq_data_df, rows_training, test_references_params)\n",
        "  print('Calculating test split:')\n",
        "  testing_df = get_features(sample_freq_data_df, reference_freq_data_df, rows_testing, test_references_params)\n",
        "\n",
        "  return training_df, testing_df, reference_freq_data_df, sample_freq_data_df, rows_training, rows_testing"
      ],
      "metadata": {
        "id": "uL35uf_RjV3r"
      },
      "execution_count": 54,
      "outputs": []
    },
    {
      "cell_type": "markdown",
      "source": [
        "# Bootstrapping"
      ],
      "metadata": {
        "id": "S_ysZa0NcV0W"
      }
    },
    {
      "cell_type": "markdown",
      "source": [
        "## Get max and min values of each column"
      ],
      "metadata": {
        "id": "WcOO339iclrH"
      }
    },
    {
      "cell_type": "code",
      "source": [
        "def get_max_min_val_col(working_df):\n",
        "  distances = [x*80 for x in range(1, 26)]\n",
        "  data_working_df = working_df.iloc[:, 6:working_df.shape[1]]\n",
        "  h_list = list(data_working_df.columns.values)\n",
        "  max_min_col_dict = {header:[] for header in h_list}\n",
        "\n",
        "  for d in tqdm(distances):\n",
        "    boot_dist_df = working_df.loc[working_df['Distance_km'] == d]\n",
        "    for idx in range(6, boot_dist_df.shape[1]):\n",
        "      max_val_col = float(boot_dist_df.iloc[:, [idx]].max()) # max val in col\n",
        "      min_val_col = float(boot_dist_df.iloc[:, [idx]].min()) # min val in col\n",
        "      h = boot_dist_df.iloc[:, [idx]].columns # header of col\n",
        "      h = h[0]\n",
        "      max_min_col_dict[h].append((d, min_val_col, max_val_col))\n",
        "  return max_min_col_dict"
      ],
      "metadata": {
        "id": "aekr6Y0OcZ3w"
      },
      "execution_count": null,
      "outputs": []
    },
    {
      "cell_type": "markdown",
      "source": [
        "## Create new samples using bootstrap technique"
      ],
      "metadata": {
        "id": "_0nAH77NcoA_"
      }
    },
    {
      "cell_type": "code",
      "source": [
        "def create_bootstrap_samples(working_df, max_min_col_dict, num_of_new_samples, previos_amt_of_samples=13):\n",
        "  import random\n",
        "\n",
        "  row_data = []\n",
        "  PBRS_id_data = []\n",
        "  Distance_km_data = []\n",
        "  power_dBm_data = []\n",
        "  span_data = []\n",
        "\n",
        "  h_list = list(working_df.columns.values)\n",
        "  new_data = {header:[] for header in h_list}\n",
        "\n",
        "  last_row_in_old_df_val = working_df.shape[0]\n",
        "  for new_sample in tqdm(range(num_of_new_samples)): # generating (num_of_new_samples) new samples for en data\n",
        "    for d in distances:\n",
        "      new_data['row'].append(last_row_in_old_df_val)\n",
        "      last_row_in_old_df_val += 1\n",
        "      new_data['PBRS_id'].append(new_sample+(previos_amt_of_samples+1))\n",
        "      new_data['Channels'].append(1)\n",
        "\n",
        "      new_data['Distance_km'].append(d)\n",
        "      new_data['power_dBm'].append(0)\n",
        "      new_data['#span'].append(int(d/80))\n",
        "\n",
        "      for k, v in max_min_col_dict.items(): # header:(d, min_val_col, max_val_col)\n",
        "        for val in v:\n",
        "          if val[0] == d:\n",
        "            bootstrap_val = round(random.uniform(val[1], val[2]), 14)\n",
        "            new_data[str(k)].append(bootstrap_val)\n",
        "            break\n",
        "  new_data_df = pd.DataFrame.from_dict(new_data)\n",
        "\n",
        "  return new_data_df"
      ],
      "metadata": {
        "id": "reVgqwbfckwp"
      },
      "execution_count": null,
      "outputs": []
    },
    {
      "cell_type": "markdown",
      "source": [
        "## Combine previos df with bootstraped df"
      ],
      "metadata": {
        "id": "Yqct6pgmctpY"
      }
    },
    {
      "cell_type": "code",
      "source": [
        "input_path = path + \"/Spectrum/NN/new_data_working_df.csv\"\n",
        "working_df = pd.read_csv(input_path)\n",
        "working_df['Distance_km'] = working_df['Distance_km'].astype(int)\n",
        "\n",
        "max_min_col_dict = get_max_min_val_col(working_df)\n",
        "new_data_df = create_bootstrap_samples(working_df, max_min_col_dict, num_of_new_samples=400, previos_amt_of_samples=100)\n",
        "new_working_df = working_df.append(new_data_df)\n",
        "\n",
        "new_working_df.to_csv(path + \"/Spectrum/NN/bootstraped_new_data_working_df.csv\", index=False)"
      ],
      "metadata": {
        "colab": {
          "base_uri": "https://localhost:8080/"
        },
        "id": "b1mZ4Wb0cvLv",
        "outputId": "19fb3e51-3723-41f7-eb46-e7d871a2c485"
      },
      "execution_count": null,
      "outputs": [
        {
          "output_type": "stream",
          "name": "stderr",
          "text": [
            "100%|██████████| 25/25 [01:52<00:00,  4.49s/it]\n",
            "100%|██████████| 400/400 [01:48<00:00,  3.70it/s]\n"
          ]
        }
      ]
    },
    {
      "cell_type": "markdown",
      "source": [
        "#Test new data"
      ],
      "metadata": {
        "id": "-4aouQ6qQRor"
      }
    },
    {
      "cell_type": "markdown",
      "source": [
        "## Hope better"
      ],
      "metadata": {
        "id": "8Ou1UMjPtiWN"
      }
    },
    {
      "cell_type": "code",
      "source": [
        "def train_test_split_features(training_df, testing_df):\n",
        "  Y = training_df.iloc[:, 0].to_numpy()\n",
        "  X = training_df.iloc[:, 1:(training_df.shape[1])]\n",
        "\n",
        "  Y_train = (Y - Y.min())/ (Y.max() - Y.min())\n",
        "  X_train = (X-X.min())/ (X.max() - X.min())\n",
        "\n",
        "  Y = testing_df.iloc[:, 0].to_numpy()\n",
        "  X = testing_df.iloc[:, 1:(testing_df.shape[1])]\n",
        "\n",
        "  Y_test = (Y - Y.min())/ (Y.max() - Y.min())\n",
        "  X_test = (X-X.min())/ (X.max() - X.min())\n",
        "\n",
        "  return Y_train, X_train, Y_test, X_test"
      ],
      "metadata": {
        "id": "Y5i05MQSFkjW"
      },
      "execution_count": 55,
      "outputs": []
    },
    {
      "cell_type": "code",
      "source": [
        "def get_label_data_splits(input_path, num_of_freq_selected, reference_amt, split_done=False, test_references_params=(False, [80, 1040, 2000], 0)):\n",
        "\n",
        "  if split_done == False:\n",
        "    training_df, testing_df, reference_freq_data_df, sample_freq_data_df, rows_training, rows_testing = get_train_test_split_main(input_path, num_of_freq_selected, reference_amt, test_references_params)\n",
        "\n",
        "    training_df.to_csv(path+\"/Spectrum/NN/train_test_splits/mod_bootstraped_new_data_training_data_NN_freq_\"+str(num_of_freq_selected)+\"_reference_\"+str(reference_amt)+\".csv\", header=True, index=False)\n",
        "    testing_df.to_csv(path+\"/Spectrum/NN/train_test_splits/mod_bootstraped_new_data_testing_data_NN_freq_\"+str(num_of_freq_selected)+\"_reference_\"+str(reference_amt)+\".csv\", header=True, index=False)\n",
        "\n",
        "    reference_freq_data_df.to_csv(path+\"/Spectrum/NN/train_test_splits/mod_bootstraped_new_data_Reference_NN_freq_\"+str(num_of_freq_selected)+\"_reference_\"+str(reference_amt)+\".csv\", header=True, index=False)\n",
        "    sample_freq_data_df.to_csv(path+\"/Spectrum/NN/train_test_splits/mod_bootstraped_new_data_Sample_NN_freq_\"+str(num_of_freq_selected)+\"_reference_\"+str(reference_amt)+\".csv\", header=True, index=False)\n",
        "\n",
        "    pickle.dump(rows_training, open(path+\"/Spectrum/NN/train_test_splits/mod_bootstraped_traininig_Rows_NN_freq_\"+str(num_of_freq_selected)+\"_reference_\"+str(reference_amt)+\".pkl\",\"wb\"))\n",
        "    pickle.dump(rows_testing, open(path+\"/Spectrum/NN/train_test_splits/mod_bootstraped_testing_Rows_NN_freq_\"+str(num_of_freq_selected)+\"_reference_\"+str(reference_amt)+\".pkl\",\"wb\"))\n",
        "  else:\n",
        "    training_df = pd.read_csv(path+\"/Spectrum/NN/train_test_splits/mod_bootstraped_new_data_training_data_NN_freq_\"+str(num_of_freq_selected)+\"_reference_\"+str(reference_amt)+\".csv\")\n",
        "    testing_df = pd.read_csv(path+\"/Spectrum/NN/train_test_splits/mod_bootstraped_new_data_testing_data_NN_freq_\"+str(num_of_freq_selected)+\"_reference_\"+str(reference_amt)+\".csv\")\n",
        "    \n",
        "    reference_freq_data_df = pd.read_csv(path+\"/Spectrum/NN/train_test_splits/mod_bootstraped_new_data_Reference_NN_freq_\"+str(num_of_freq_selected)+\"_reference_\"+str(reference_amt)+\".csv\")\n",
        "    sample_freq_data_df = pd.read_csv(path+\"/Spectrum/NN/train_test_splits/mod_bootstraped_new_data_Sample_NN_freq_\"+str(num_of_freq_selected)+\"_reference_\"+str(reference_amt)+\".csv\")\n",
        "    with open(path+\"/Spectrum/NN/train_test_splits/mod_bootstraped_traininig_Rows_NN_freq_\"+str(num_of_freq_selected)+\"_reference_\"+str(reference_amt)+\".pkl\", 'rb') as f:\n",
        "      rows_training = pickle.load(f)\n",
        "    with open(path+\"/Spectrum/NN/train_test_splits/mod_bootstraped_testing_Rows_NN_freq_\"+str(num_of_freq_selected)+\"_reference_\"+str(reference_amt)+\".pkl\", 'rb') as f:\n",
        "      rows_testing = pickle.load(f)  \n",
        "  \n",
        "  Y_train, X_train, Y_test, X_test = train_test_split_features(training_df, testing_df)\n",
        "\n",
        "  return Y_train, X_train, Y_test, X_test, training_df, testing_df, reference_freq_data_df, sample_freq_data_df, rows_training, rows_testing"
      ],
      "metadata": {
        "id": "vuhTggzTfTlX"
      },
      "execution_count": 56,
      "outputs": []
    },
    {
      "cell_type": "code",
      "source": [
        "def predict_test(model_ann, Y_test, X_test, testing_df, remove_outliers=0.05):\n",
        "  print('Results (freq_'+str(num_of_freq_selected)+'_reference_'+str(reference_amt)+')')\n",
        "  # Predit\n",
        "  start_time = time.time()\n",
        "  Y_test_pred=model_ann.predict(X_test)\n",
        "  pred=list(Y_test_pred)\n",
        "\n",
        "  print('Pred:')\n",
        "  print(pred)\n",
        "  \n",
        "  time_eval_ann=time.time()-start_time\n",
        "\n",
        "  dist_min=80\n",
        "  dist_max=2000\n",
        "\n",
        "  real=list(Y_test)\n",
        "  real_abs=np.add(dist_min,np.multiply((dist_max-dist_min),real)) # convert back to distances values from scalar\n",
        "  real_abs=[int(np.round(i)) for i in real_abs]\n",
        "  pred_abs=np.add(dist_min,np.multiply((dist_max-dist_min),pred)) # convert back to distances values from scalar\n",
        "\n",
        "  print('Real_abs:')\n",
        "  print(real_abs)\n",
        "  print('Pred_abs:')\n",
        "  print(pred_abs)\n",
        "\n",
        "  real_abs_e1 = real_abs\n",
        "  real_abs_e2 = real_abs\n",
        "\n",
        "  pred_abs_e1 = pred_abs\n",
        "  pred_abs_e2 = pred_abs\n",
        "\n",
        "  error=np.divide(np.abs(np.subtract(np.array(real_abs),np.array(pred_abs))),np.array(real_abs))\n",
        "  error_v2 = np.abs(np.subtract(np.array(real_abs),np.array(pred_abs)))\n",
        "\n",
        "  remove_outliers = math.ceil((len(error_v2)*remove_outliers)/2)\n",
        "\n",
        "  for outlier in range(1, remove_outliers+1):\n",
        "    min_idx_e1 = np.argmin(error)\n",
        "    max_idx_e1 = np.argmax(error)\n",
        "\n",
        "    min_idx_e2 = np.argmin(error_v2)\n",
        "    max_idx_e2 = np.argmax(error_v2)\n",
        "\n",
        "    error = np.delete(error, min_idx_e1)\n",
        "    error = np.delete(error, max_idx_e1)\n",
        "    real_abs_e1 = np.delete(real_abs_e1, min_idx_e1)\n",
        "    real_abs_e1 = np.delete(real_abs_e1, max_idx_e1)\n",
        "    pred_abs_e1 = np.delete(pred_abs_e1, min_idx_e1)\n",
        "    pred_abs_e1 = np.delete(pred_abs_e1, max_idx_e1)\n",
        "\n",
        "    error_v2 = np.delete(error_v2, min_idx_e2)\n",
        "    error_v2 = np.delete(error_v2, max_idx_e2)\n",
        "    real_abs_e2 = np.delete(real_abs_e2, min_idx_e1)\n",
        "    real_abs_e2 = np.delete(real_abs_e2, max_idx_e1)\n",
        "    pred_abs_e2 = np.delete(pred_abs_e2, min_idx_e1)\n",
        "    pred_abs_e2 = np.delete(pred_abs_e2, max_idx_e1)\n",
        "\n",
        "  res=pd.DataFrame({\"dist\":real_abs_e1,\"pred\":pred_abs_e1,\"error\":error})\n",
        "  res.to_csv(path+\"/Spectrum/NN/NN_results_error/mod_bootstraped_new_data_results_curve_freq_\"+str(num_of_freq_selected)+\"_reference_\"+str(reference_amt)+\".csv\", header=True, index=False)\n",
        "\n",
        "  res_v2=pd.DataFrame({\"dist\":real_abs_e2,\"pred\":pred_abs_e2,\"error\":error_v2})\n",
        "  res.to_csv(path+\"/Spectrum/NN/NN_results_error/mod_bootstraped_new_data_results_deltas_freq_\"+str(num_of_freq_selected)+\"_reference_\"+str(reference_amt)+\".csv\", header=True, index=False)\n",
        "  \n",
        "  plt.plot(real_abs_e1,error,'bo')\n",
        "  plt.xlabel('Distances') \n",
        "  plt.ylabel('Error') \n",
        "  plt.title(\"Results Curve (freq_\"+str(num_of_freq_selected)+\"_reference_\"+str(reference_amt)+\")\")\n",
        "  plt.savefig(path+\"/Spectrum/NN/NN_results_plots/mod_bootstraped_new_data_results_curve_freq_\"+str(num_of_freq_selected)+\"_reference_\"+str(reference_amt)+\".png\")\n",
        "  plt.show()\n",
        "  \n",
        "  plt.plot(real_abs_e2,error_v2,'bo')\n",
        "  plt.xlabel('Distances') \n",
        "  plt.ylabel('Error') \n",
        "  plt.title(\"Results Deltas (freq_\"+str(num_of_freq_selected)+\"_reference_\"+str(reference_amt)+\")\")\n",
        "  plt.savefig(path+\"/Spectrum/NN/NN_results_plots/bootstraped_new_data_results_deltas_freq_\"+str(num_of_freq_selected)+\"_reference_\"+str(reference_amt)+\".png\")\n",
        "  plt.show()"
      ],
      "metadata": {
        "id": "VM7Qp086iJzS"
      },
      "execution_count": 57,
      "outputs": []
    },
    {
      "cell_type": "code",
      "source": [
        "def train_model(X_train, Y_train, epochs_val = 100):\n",
        "  print('Training model (freq_'+str(num_of_freq_selected)+'_reference_'+str(reference_amt)+')...')\n",
        "  from keras.models import Sequential\n",
        "  from keras.layers import Dense,Conv2D, Flatten, Dropout\n",
        "  from keras.wrappers.scikit_learn import KerasRegressor\n",
        "  from keras.callbacks import EarlyStopping\n",
        "  from tqdm.keras import TqdmCallback\n",
        "\n",
        "  def ann():\n",
        "      model = Sequential()\n",
        "      model.add(Dense(76, input_dim = 7, activation = 'tanh'))\n",
        "      model.add(Dense(38,activation='tanh'))      \n",
        "      model.add(Dense(19,activation='tanh'))\n",
        "      model.add(Dense(19,activation='tanh'))\n",
        "      model.add(Dense(9,activation='tanh'))\n",
        "      model.add(Dense(1))\n",
        "      model.compile(loss ='mean_squared_error',optimizer = 'RMSprop')\n",
        "      return model\n",
        "\n",
        "  model_ann = KerasRegressor(build_fn=ann,epochs=epochs_val,batch_size=8, verbose=0)\n",
        "\n",
        "  start_time = time.time()\n",
        "  callback = [EarlyStopping(monitor='loss', patience=500)]#, TqdmCallback(verbose=2)]\n",
        "  model_ann.fit(X_train, Y_train, callbacks=callback)\n",
        "  time_train_ann = time.time() - start_time\n",
        "\n",
        "  model_ann.model.save(path+\"/Spectrum/NN/NNs/mod_bootstraped_final_new_data_NN_model_freq_\"+str(num_of_freq_selected)+\"_reference_\"+str(reference_amt)+\".h5\")\n",
        "  model_ann.model.save_weights(path+\"/Spectrum/NN/NNs/mod_bootstraped_final_new_data_NN_model_Weights_freq_\"+str(num_of_freq_selected)+\"_reference_\"+str(reference_amt)+\".h5\", overwrite=True)\n",
        "  \n",
        "  return model_ann"
      ],
      "metadata": {
        "id": "eg-RpJrnfDCC"
      },
      "execution_count": 58,
      "outputs": []
    },
    {
      "cell_type": "markdown",
      "source": [
        "## Test Run"
      ],
      "metadata": {
        "id": "wjnCPh8ZbVvN"
      }
    },
    {
      "cell_type": "code",
      "source": [
        "num_of_freq_selected = 10\n",
        "reference_amt = 30\n",
        "input_path = path + \"/Spectrum/NN/bootstraped_new_data_working_df.csv\"\n",
        "\n",
        "Y_train_c, X_train_c, Y_test_c, X_test_c, training_df_c, testing_df_c, reference_freq_data_df_c, sample_freq_data_df_c, rows_training_c, rows_testing_c = get_label_data_splits(input_path, num_of_freq_selected, reference_amt, split_done=True, test_references_params=(False, [80, 1040, 2000],0))"
      ],
      "metadata": {
        "id": "HO4JJwuiQTCe"
      },
      "execution_count": 59,
      "outputs": []
    },
    {
      "cell_type": "code",
      "source": [
        "epochs_arr = [100, 200, 500, 1000, 1500, 2000]\n",
        "for e in epochs_arr:\n",
        "  print('-------------- NN '+str(e)+' --------------')\n",
        "  model_ann_c = train_model(X_train_c, Y_train_c)\n",
        "  print('-------------- Train Results --------------')\n",
        "  predict_test(model_ann_c, Y_train_c, X_train_c, testing_df_c, remove_outliers=0.05)\n",
        "  print('-------------- Test Results --------------')\n",
        "  predict_test(model_ann_c, Y_test_c, X_test_c, testing_df_c, remove_outliers=0.05)\n",
        "  print('----------------------------')"
      ],
      "metadata": {
        "colab": {
          "base_uri": "https://localhost:8080/",
          "height": 415
        },
        "id": "8BW7Y6mjQ0XK",
        "outputId": "7d4bc3b0-6ad1-4fa0-9b34-b6d8ce3edc54"
      },
      "execution_count": 36,
      "outputs": [
        {
          "output_type": "stream",
          "name": "stdout",
          "text": [
            "-------------- NN 100 --------------\n",
            "Training model (freq_10_reference_30)...\n"
          ]
        },
        {
          "output_type": "error",
          "ename": "KeyboardInterrupt",
          "evalue": "ignored",
          "traceback": [
            "\u001b[0;31m---------------------------------------------------------------------------\u001b[0m",
            "\u001b[0;31mKeyboardInterrupt\u001b[0m                         Traceback (most recent call last)",
            "\u001b[0;32m<ipython-input-36-59612d7dde1a>\u001b[0m in \u001b[0;36m<module>\u001b[0;34m()\u001b[0m\n\u001b[1;32m      2\u001b[0m \u001b[0;32mfor\u001b[0m \u001b[0me\u001b[0m \u001b[0;32min\u001b[0m \u001b[0mepochs_arr\u001b[0m\u001b[0;34m:\u001b[0m\u001b[0;34m\u001b[0m\u001b[0;34m\u001b[0m\u001b[0m\n\u001b[1;32m      3\u001b[0m   \u001b[0mprint\u001b[0m\u001b[0;34m(\u001b[0m\u001b[0;34m'-------------- NN '\u001b[0m\u001b[0;34m+\u001b[0m\u001b[0mstr\u001b[0m\u001b[0;34m(\u001b[0m\u001b[0me\u001b[0m\u001b[0;34m)\u001b[0m\u001b[0;34m+\u001b[0m\u001b[0;34m' --------------'\u001b[0m\u001b[0;34m)\u001b[0m\u001b[0;34m\u001b[0m\u001b[0;34m\u001b[0m\u001b[0m\n\u001b[0;32m----> 4\u001b[0;31m   \u001b[0mmodel_ann_c\u001b[0m \u001b[0;34m=\u001b[0m \u001b[0mtrain_model\u001b[0m\u001b[0;34m(\u001b[0m\u001b[0mX_train_c\u001b[0m\u001b[0;34m,\u001b[0m \u001b[0mY_train_c\u001b[0m\u001b[0;34m)\u001b[0m\u001b[0;34m\u001b[0m\u001b[0;34m\u001b[0m\u001b[0m\n\u001b[0m\u001b[1;32m      5\u001b[0m   \u001b[0mprint\u001b[0m\u001b[0;34m(\u001b[0m\u001b[0;34m'-------------- Train Results --------------'\u001b[0m\u001b[0;34m)\u001b[0m\u001b[0;34m\u001b[0m\u001b[0;34m\u001b[0m\u001b[0m\n\u001b[1;32m      6\u001b[0m   \u001b[0mpredict_test\u001b[0m\u001b[0;34m(\u001b[0m\u001b[0mmodel_ann_c\u001b[0m\u001b[0;34m,\u001b[0m \u001b[0mY_train_c\u001b[0m\u001b[0;34m,\u001b[0m \u001b[0mX_train_c\u001b[0m\u001b[0;34m,\u001b[0m \u001b[0mtesting_df_c\u001b[0m\u001b[0;34m,\u001b[0m \u001b[0mremove_outliers\u001b[0m\u001b[0;34m=\u001b[0m\u001b[0;36m0.05\u001b[0m\u001b[0;34m)\u001b[0m\u001b[0;34m\u001b[0m\u001b[0;34m\u001b[0m\u001b[0m\n",
            "\u001b[0;32m<ipython-input-34-b85a896899f9>\u001b[0m in \u001b[0;36mtrain_model\u001b[0;34m(X_train, Y_train, epochs_val)\u001b[0m\n\u001b[1;32m     22\u001b[0m   \u001b[0mstart_time\u001b[0m \u001b[0;34m=\u001b[0m \u001b[0mtime\u001b[0m\u001b[0;34m.\u001b[0m\u001b[0mtime\u001b[0m\u001b[0;34m(\u001b[0m\u001b[0;34m)\u001b[0m\u001b[0;34m\u001b[0m\u001b[0;34m\u001b[0m\u001b[0m\n\u001b[1;32m     23\u001b[0m   \u001b[0mcallback\u001b[0m \u001b[0;34m=\u001b[0m \u001b[0;34m[\u001b[0m\u001b[0mEarlyStopping\u001b[0m\u001b[0;34m(\u001b[0m\u001b[0mmonitor\u001b[0m\u001b[0;34m=\u001b[0m\u001b[0;34m'loss'\u001b[0m\u001b[0;34m,\u001b[0m \u001b[0mpatience\u001b[0m\u001b[0;34m=\u001b[0m\u001b[0;36m500\u001b[0m\u001b[0;34m)\u001b[0m\u001b[0;34m]\u001b[0m\u001b[0;31m#, TqdmCallback(verbose=2)]\u001b[0m\u001b[0;34m\u001b[0m\u001b[0;34m\u001b[0m\u001b[0m\n\u001b[0;32m---> 24\u001b[0;31m   \u001b[0mmodel_ann\u001b[0m\u001b[0;34m.\u001b[0m\u001b[0mfit\u001b[0m\u001b[0;34m(\u001b[0m\u001b[0mX_train\u001b[0m\u001b[0;34m,\u001b[0m \u001b[0mY_train\u001b[0m\u001b[0;34m,\u001b[0m \u001b[0mcallbacks\u001b[0m\u001b[0;34m=\u001b[0m\u001b[0mcallback\u001b[0m\u001b[0;34m)\u001b[0m\u001b[0;34m\u001b[0m\u001b[0;34m\u001b[0m\u001b[0m\n\u001b[0m\u001b[1;32m     25\u001b[0m   \u001b[0mtime_train_ann\u001b[0m \u001b[0;34m=\u001b[0m \u001b[0mtime\u001b[0m\u001b[0;34m.\u001b[0m\u001b[0mtime\u001b[0m\u001b[0;34m(\u001b[0m\u001b[0;34m)\u001b[0m \u001b[0;34m-\u001b[0m \u001b[0mstart_time\u001b[0m\u001b[0;34m\u001b[0m\u001b[0;34m\u001b[0m\u001b[0m\n\u001b[1;32m     26\u001b[0m \u001b[0;34m\u001b[0m\u001b[0m\n",
            "\u001b[0;32m/usr/local/lib/python3.7/dist-packages/keras/wrappers/scikit_learn.py\u001b[0m in \u001b[0;36mfit\u001b[0;34m(self, x, y, **kwargs)\u001b[0m\n\u001b[1;32m    162\u001b[0m     \u001b[0mfit_args\u001b[0m\u001b[0;34m.\u001b[0m\u001b[0mupdate\u001b[0m\u001b[0;34m(\u001b[0m\u001b[0mkwargs\u001b[0m\u001b[0;34m)\u001b[0m\u001b[0;34m\u001b[0m\u001b[0;34m\u001b[0m\u001b[0m\n\u001b[1;32m    163\u001b[0m \u001b[0;34m\u001b[0m\u001b[0m\n\u001b[0;32m--> 164\u001b[0;31m     \u001b[0mhistory\u001b[0m \u001b[0;34m=\u001b[0m \u001b[0mself\u001b[0m\u001b[0;34m.\u001b[0m\u001b[0mmodel\u001b[0m\u001b[0;34m.\u001b[0m\u001b[0mfit\u001b[0m\u001b[0;34m(\u001b[0m\u001b[0mx\u001b[0m\u001b[0;34m,\u001b[0m \u001b[0my\u001b[0m\u001b[0;34m,\u001b[0m \u001b[0;34m**\u001b[0m\u001b[0mfit_args\u001b[0m\u001b[0;34m)\u001b[0m\u001b[0;34m\u001b[0m\u001b[0;34m\u001b[0m\u001b[0m\n\u001b[0m\u001b[1;32m    165\u001b[0m \u001b[0;34m\u001b[0m\u001b[0m\n\u001b[1;32m    166\u001b[0m     \u001b[0;32mreturn\u001b[0m \u001b[0mhistory\u001b[0m\u001b[0;34m\u001b[0m\u001b[0;34m\u001b[0m\u001b[0m\n",
            "\u001b[0;32m/usr/local/lib/python3.7/dist-packages/keras/utils/traceback_utils.py\u001b[0m in \u001b[0;36merror_handler\u001b[0;34m(*args, **kwargs)\u001b[0m\n\u001b[1;32m     62\u001b[0m     \u001b[0mfiltered_tb\u001b[0m \u001b[0;34m=\u001b[0m \u001b[0;32mNone\u001b[0m\u001b[0;34m\u001b[0m\u001b[0;34m\u001b[0m\u001b[0m\n\u001b[1;32m     63\u001b[0m     \u001b[0;32mtry\u001b[0m\u001b[0;34m:\u001b[0m\u001b[0;34m\u001b[0m\u001b[0;34m\u001b[0m\u001b[0m\n\u001b[0;32m---> 64\u001b[0;31m       \u001b[0;32mreturn\u001b[0m \u001b[0mfn\u001b[0m\u001b[0;34m(\u001b[0m\u001b[0;34m*\u001b[0m\u001b[0margs\u001b[0m\u001b[0;34m,\u001b[0m \u001b[0;34m**\u001b[0m\u001b[0mkwargs\u001b[0m\u001b[0;34m)\u001b[0m\u001b[0;34m\u001b[0m\u001b[0;34m\u001b[0m\u001b[0m\n\u001b[0m\u001b[1;32m     65\u001b[0m     \u001b[0;32mexcept\u001b[0m \u001b[0mException\u001b[0m \u001b[0;32mas\u001b[0m \u001b[0me\u001b[0m\u001b[0;34m:\u001b[0m  \u001b[0;31m# pylint: disable=broad-except\u001b[0m\u001b[0;34m\u001b[0m\u001b[0;34m\u001b[0m\u001b[0m\n\u001b[1;32m     66\u001b[0m       \u001b[0mfiltered_tb\u001b[0m \u001b[0;34m=\u001b[0m \u001b[0m_process_traceback_frames\u001b[0m\u001b[0;34m(\u001b[0m\u001b[0me\u001b[0m\u001b[0;34m.\u001b[0m\u001b[0m__traceback__\u001b[0m\u001b[0;34m)\u001b[0m\u001b[0;34m\u001b[0m\u001b[0;34m\u001b[0m\u001b[0m\n",
            "\u001b[0;32m/usr/local/lib/python3.7/dist-packages/keras/engine/training.py\u001b[0m in \u001b[0;36mfit\u001b[0;34m(self, x, y, batch_size, epochs, verbose, callbacks, validation_split, validation_data, shuffle, class_weight, sample_weight, initial_epoch, steps_per_epoch, validation_steps, validation_batch_size, validation_freq, max_queue_size, workers, use_multiprocessing)\u001b[0m\n\u001b[1;32m   1382\u001b[0m                 _r=1):\n\u001b[1;32m   1383\u001b[0m               \u001b[0mcallbacks\u001b[0m\u001b[0;34m.\u001b[0m\u001b[0mon_train_batch_begin\u001b[0m\u001b[0;34m(\u001b[0m\u001b[0mstep\u001b[0m\u001b[0;34m)\u001b[0m\u001b[0;34m\u001b[0m\u001b[0;34m\u001b[0m\u001b[0m\n\u001b[0;32m-> 1384\u001b[0;31m               \u001b[0mtmp_logs\u001b[0m \u001b[0;34m=\u001b[0m \u001b[0mself\u001b[0m\u001b[0;34m.\u001b[0m\u001b[0mtrain_function\u001b[0m\u001b[0;34m(\u001b[0m\u001b[0miterator\u001b[0m\u001b[0;34m)\u001b[0m\u001b[0;34m\u001b[0m\u001b[0;34m\u001b[0m\u001b[0m\n\u001b[0m\u001b[1;32m   1385\u001b[0m               \u001b[0;32mif\u001b[0m \u001b[0mdata_handler\u001b[0m\u001b[0;34m.\u001b[0m\u001b[0mshould_sync\u001b[0m\u001b[0;34m:\u001b[0m\u001b[0;34m\u001b[0m\u001b[0;34m\u001b[0m\u001b[0m\n\u001b[1;32m   1386\u001b[0m                 \u001b[0mcontext\u001b[0m\u001b[0;34m.\u001b[0m\u001b[0masync_wait\u001b[0m\u001b[0;34m(\u001b[0m\u001b[0;34m)\u001b[0m\u001b[0;34m\u001b[0m\u001b[0;34m\u001b[0m\u001b[0m\n",
            "\u001b[0;32m/usr/local/lib/python3.7/dist-packages/tensorflow/python/util/traceback_utils.py\u001b[0m in \u001b[0;36merror_handler\u001b[0;34m(*args, **kwargs)\u001b[0m\n\u001b[1;32m    148\u001b[0m     \u001b[0mfiltered_tb\u001b[0m \u001b[0;34m=\u001b[0m \u001b[0;32mNone\u001b[0m\u001b[0;34m\u001b[0m\u001b[0;34m\u001b[0m\u001b[0m\n\u001b[1;32m    149\u001b[0m     \u001b[0;32mtry\u001b[0m\u001b[0;34m:\u001b[0m\u001b[0;34m\u001b[0m\u001b[0;34m\u001b[0m\u001b[0m\n\u001b[0;32m--> 150\u001b[0;31m       \u001b[0;32mreturn\u001b[0m \u001b[0mfn\u001b[0m\u001b[0;34m(\u001b[0m\u001b[0;34m*\u001b[0m\u001b[0margs\u001b[0m\u001b[0;34m,\u001b[0m \u001b[0;34m**\u001b[0m\u001b[0mkwargs\u001b[0m\u001b[0;34m)\u001b[0m\u001b[0;34m\u001b[0m\u001b[0;34m\u001b[0m\u001b[0m\n\u001b[0m\u001b[1;32m    151\u001b[0m     \u001b[0;32mexcept\u001b[0m \u001b[0mException\u001b[0m \u001b[0;32mas\u001b[0m \u001b[0me\u001b[0m\u001b[0;34m:\u001b[0m\u001b[0;34m\u001b[0m\u001b[0;34m\u001b[0m\u001b[0m\n\u001b[1;32m    152\u001b[0m       \u001b[0mfiltered_tb\u001b[0m \u001b[0;34m=\u001b[0m \u001b[0m_process_traceback_frames\u001b[0m\u001b[0;34m(\u001b[0m\u001b[0me\u001b[0m\u001b[0;34m.\u001b[0m\u001b[0m__traceback__\u001b[0m\u001b[0;34m)\u001b[0m\u001b[0;34m\u001b[0m\u001b[0;34m\u001b[0m\u001b[0m\n",
            "\u001b[0;32m/usr/local/lib/python3.7/dist-packages/tensorflow/python/eager/def_function.py\u001b[0m in \u001b[0;36m__call__\u001b[0;34m(self, *args, **kwds)\u001b[0m\n\u001b[1;32m    913\u001b[0m \u001b[0;34m\u001b[0m\u001b[0m\n\u001b[1;32m    914\u001b[0m       \u001b[0;32mwith\u001b[0m \u001b[0mOptionalXlaContext\u001b[0m\u001b[0;34m(\u001b[0m\u001b[0mself\u001b[0m\u001b[0;34m.\u001b[0m\u001b[0m_jit_compile\u001b[0m\u001b[0;34m)\u001b[0m\u001b[0;34m:\u001b[0m\u001b[0;34m\u001b[0m\u001b[0;34m\u001b[0m\u001b[0m\n\u001b[0;32m--> 915\u001b[0;31m         \u001b[0mresult\u001b[0m \u001b[0;34m=\u001b[0m \u001b[0mself\u001b[0m\u001b[0;34m.\u001b[0m\u001b[0m_call\u001b[0m\u001b[0;34m(\u001b[0m\u001b[0;34m*\u001b[0m\u001b[0margs\u001b[0m\u001b[0;34m,\u001b[0m \u001b[0;34m**\u001b[0m\u001b[0mkwds\u001b[0m\u001b[0;34m)\u001b[0m\u001b[0;34m\u001b[0m\u001b[0;34m\u001b[0m\u001b[0m\n\u001b[0m\u001b[1;32m    916\u001b[0m \u001b[0;34m\u001b[0m\u001b[0m\n\u001b[1;32m    917\u001b[0m       \u001b[0mnew_tracing_count\u001b[0m \u001b[0;34m=\u001b[0m \u001b[0mself\u001b[0m\u001b[0;34m.\u001b[0m\u001b[0mexperimental_get_tracing_count\u001b[0m\u001b[0;34m(\u001b[0m\u001b[0;34m)\u001b[0m\u001b[0;34m\u001b[0m\u001b[0;34m\u001b[0m\u001b[0m\n",
            "\u001b[0;32m/usr/local/lib/python3.7/dist-packages/tensorflow/python/eager/def_function.py\u001b[0m in \u001b[0;36m_call\u001b[0;34m(self, *args, **kwds)\u001b[0m\n\u001b[1;32m    945\u001b[0m       \u001b[0;31m# In this case we have created variables on the first call, so we run the\u001b[0m\u001b[0;34m\u001b[0m\u001b[0;34m\u001b[0m\u001b[0;34m\u001b[0m\u001b[0m\n\u001b[1;32m    946\u001b[0m       \u001b[0;31m# defunned version which is guaranteed to never create variables.\u001b[0m\u001b[0;34m\u001b[0m\u001b[0;34m\u001b[0m\u001b[0;34m\u001b[0m\u001b[0m\n\u001b[0;32m--> 947\u001b[0;31m       \u001b[0;32mreturn\u001b[0m \u001b[0mself\u001b[0m\u001b[0;34m.\u001b[0m\u001b[0m_stateless_fn\u001b[0m\u001b[0;34m(\u001b[0m\u001b[0;34m*\u001b[0m\u001b[0margs\u001b[0m\u001b[0;34m,\u001b[0m \u001b[0;34m**\u001b[0m\u001b[0mkwds\u001b[0m\u001b[0;34m)\u001b[0m  \u001b[0;31m# pylint: disable=not-callable\u001b[0m\u001b[0;34m\u001b[0m\u001b[0;34m\u001b[0m\u001b[0m\n\u001b[0m\u001b[1;32m    948\u001b[0m     \u001b[0;32melif\u001b[0m \u001b[0mself\u001b[0m\u001b[0;34m.\u001b[0m\u001b[0m_stateful_fn\u001b[0m \u001b[0;32mis\u001b[0m \u001b[0;32mnot\u001b[0m \u001b[0;32mNone\u001b[0m\u001b[0;34m:\u001b[0m\u001b[0;34m\u001b[0m\u001b[0;34m\u001b[0m\u001b[0m\n\u001b[1;32m    949\u001b[0m       \u001b[0;31m# Release the lock early so that multiple threads can perform the call\u001b[0m\u001b[0;34m\u001b[0m\u001b[0;34m\u001b[0m\u001b[0;34m\u001b[0m\u001b[0m\n",
            "\u001b[0;32m/usr/local/lib/python3.7/dist-packages/tensorflow/python/eager/function.py\u001b[0m in \u001b[0;36m__call__\u001b[0;34m(self, *args, **kwargs)\u001b[0m\n\u001b[1;32m   2953\u001b[0m     \u001b[0;32mwith\u001b[0m \u001b[0mself\u001b[0m\u001b[0;34m.\u001b[0m\u001b[0m_lock\u001b[0m\u001b[0;34m:\u001b[0m\u001b[0;34m\u001b[0m\u001b[0;34m\u001b[0m\u001b[0m\n\u001b[1;32m   2954\u001b[0m       (graph_function,\n\u001b[0;32m-> 2955\u001b[0;31m        filtered_flat_args) = self._maybe_define_function(args, kwargs)\n\u001b[0m\u001b[1;32m   2956\u001b[0m     return graph_function._call_flat(\n\u001b[1;32m   2957\u001b[0m         filtered_flat_args, captured_inputs=graph_function.captured_inputs)  # pylint: disable=protected-access\n",
            "\u001b[0;32m/usr/local/lib/python3.7/dist-packages/tensorflow/python/eager/function.py\u001b[0m in \u001b[0;36m_maybe_define_function\u001b[0;34m(self, args, kwargs)\u001b[0m\n\u001b[1;32m   3261\u001b[0m \u001b[0;34m\u001b[0m\u001b[0m\n\u001b[1;32m   3262\u001b[0m     graph_function = self._function_cache.lookup(cache_key,\n\u001b[0;32m-> 3263\u001b[0;31m                                                  USE_FUNCTION_SUBTYPING)\n\u001b[0m\u001b[1;32m   3264\u001b[0m     \u001b[0;32mif\u001b[0m \u001b[0mgraph_function\u001b[0m \u001b[0;32mis\u001b[0m \u001b[0;32mnot\u001b[0m \u001b[0;32mNone\u001b[0m\u001b[0;34m:\u001b[0m\u001b[0;34m\u001b[0m\u001b[0;34m\u001b[0m\u001b[0m\n\u001b[1;32m   3265\u001b[0m       \u001b[0;32mreturn\u001b[0m \u001b[0mgraph_function\u001b[0m\u001b[0;34m,\u001b[0m \u001b[0mfiltered_flat_args\u001b[0m\u001b[0;34m\u001b[0m\u001b[0;34m\u001b[0m\u001b[0m\n",
            "\u001b[0;32m/usr/local/lib/python3.7/dist-packages/tensorflow/python/eager/function_cache.py\u001b[0m in \u001b[0;36mlookup\u001b[0;34m(self, key, use_function_subtyping)\u001b[0m\n\u001b[1;32m    157\u001b[0m       \u001b[0;32mreturn\u001b[0m \u001b[0mself\u001b[0m\u001b[0;34m.\u001b[0m\u001b[0m_primary\u001b[0m\u001b[0;34m.\u001b[0m\u001b[0mget\u001b[0m\u001b[0;34m(\u001b[0m\u001b[0mkey\u001b[0m\u001b[0;34m,\u001b[0m \u001b[0;32mNone\u001b[0m\u001b[0;34m)\u001b[0m\u001b[0;34m\u001b[0m\u001b[0;34m\u001b[0m\u001b[0m\n\u001b[1;32m    158\u001b[0m \u001b[0;34m\u001b[0m\u001b[0m\n\u001b[0;32m--> 159\u001b[0;31m     \u001b[0;32mif\u001b[0m \u001b[0mkey\u001b[0m \u001b[0;32min\u001b[0m \u001b[0mself\u001b[0m\u001b[0;34m.\u001b[0m\u001b[0m_primary\u001b[0m\u001b[0;34m:\u001b[0m\u001b[0;34m\u001b[0m\u001b[0;34m\u001b[0m\u001b[0m\n\u001b[0m\u001b[1;32m    160\u001b[0m       \u001b[0;32mreturn\u001b[0m \u001b[0mself\u001b[0m\u001b[0;34m.\u001b[0m\u001b[0m_primary\u001b[0m\u001b[0;34m[\u001b[0m\u001b[0mkey\u001b[0m\u001b[0;34m]\u001b[0m\u001b[0;34m\u001b[0m\u001b[0;34m\u001b[0m\u001b[0m\n\u001b[1;32m    161\u001b[0m \u001b[0;34m\u001b[0m\u001b[0m\n",
            "\u001b[0;32m/usr/local/lib/python3.7/dist-packages/tensorflow/python/eager/function_cache.py\u001b[0m in \u001b[0;36m__eq__\u001b[0;34m(self, other)\u001b[0m\n\u001b[1;32m    104\u001b[0m \u001b[0;34m\u001b[0m\u001b[0m\n\u001b[1;32m    105\u001b[0m     return (self.call_context == other.call_context and\n\u001b[0;32m--> 106\u001b[0;31m             self.function_signature == other.function_signature)\n\u001b[0m\u001b[1;32m    107\u001b[0m \u001b[0;34m\u001b[0m\u001b[0m\n\u001b[1;32m    108\u001b[0m   \u001b[0;32mdef\u001b[0m \u001b[0m__repr__\u001b[0m\u001b[0;34m(\u001b[0m\u001b[0mself\u001b[0m\u001b[0;34m)\u001b[0m \u001b[0;34m->\u001b[0m \u001b[0mstr\u001b[0m\u001b[0;34m:\u001b[0m\u001b[0;34m\u001b[0m\u001b[0;34m\u001b[0m\u001b[0m\n",
            "\u001b[0;32m/usr/local/lib/python3.7/dist-packages/tensorflow/python/eager/function_trace_type.py\u001b[0m in \u001b[0;36m__eq__\u001b[0;34m(self, other)\u001b[0m\n\u001b[1;32m    206\u001b[0m       \u001b[0;32mreturn\u001b[0m \u001b[0;32mFalse\u001b[0m\u001b[0;34m\u001b[0m\u001b[0;34m\u001b[0m\u001b[0m\n\u001b[1;32m    207\u001b[0m \u001b[0;34m\u001b[0m\u001b[0m\n\u001b[0;32m--> 208\u001b[0;31m     \u001b[0;32mreturn\u001b[0m \u001b[0mself\u001b[0m\u001b[0;34m.\u001b[0m\u001b[0mcomponents\u001b[0m \u001b[0;34m==\u001b[0m \u001b[0mother\u001b[0m\u001b[0;34m.\u001b[0m\u001b[0mcomponents\u001b[0m\u001b[0;34m\u001b[0m\u001b[0;34m\u001b[0m\u001b[0m\n\u001b[0m\u001b[1;32m    209\u001b[0m \u001b[0;34m\u001b[0m\u001b[0m\n\u001b[1;32m    210\u001b[0m   \u001b[0;32mdef\u001b[0m \u001b[0m__hash__\u001b[0m\u001b[0;34m(\u001b[0m\u001b[0mself\u001b[0m\u001b[0;34m)\u001b[0m \u001b[0;34m->\u001b[0m \u001b[0mint\u001b[0m\u001b[0;34m:\u001b[0m\u001b[0;34m\u001b[0m\u001b[0;34m\u001b[0m\u001b[0m\n",
            "\u001b[0;32m/usr/local/lib/python3.7/dist-packages/tensorflow/python/eager/function_trace_type.py\u001b[0m in \u001b[0;36m__eq__\u001b[0;34m(self, other)\u001b[0m\n\u001b[1;32m    206\u001b[0m       \u001b[0;32mreturn\u001b[0m \u001b[0;32mFalse\u001b[0m\u001b[0;34m\u001b[0m\u001b[0;34m\u001b[0m\u001b[0m\n\u001b[1;32m    207\u001b[0m \u001b[0;34m\u001b[0m\u001b[0m\n\u001b[0;32m--> 208\u001b[0;31m     \u001b[0;32mreturn\u001b[0m \u001b[0mself\u001b[0m\u001b[0;34m.\u001b[0m\u001b[0mcomponents\u001b[0m \u001b[0;34m==\u001b[0m \u001b[0mother\u001b[0m\u001b[0;34m.\u001b[0m\u001b[0mcomponents\u001b[0m\u001b[0;34m\u001b[0m\u001b[0;34m\u001b[0m\u001b[0m\n\u001b[0m\u001b[1;32m    209\u001b[0m \u001b[0;34m\u001b[0m\u001b[0m\n\u001b[1;32m    210\u001b[0m   \u001b[0;32mdef\u001b[0m \u001b[0m__hash__\u001b[0m\u001b[0;34m(\u001b[0m\u001b[0mself\u001b[0m\u001b[0;34m)\u001b[0m \u001b[0;34m->\u001b[0m \u001b[0mint\u001b[0m\u001b[0;34m:\u001b[0m\u001b[0;34m\u001b[0m\u001b[0;34m\u001b[0m\u001b[0m\n",
            "\u001b[0;32m/usr/local/lib/python3.7/dist-packages/tensorflow/python/data/ops/iterator_ops.py\u001b[0m in \u001b[0;36m__eq__\u001b[0;34m(self, other)\u001b[0m\n\u001b[1;32m    695\u001b[0m   \u001b[0;32mdef\u001b[0m \u001b[0m__eq__\u001b[0m\u001b[0;34m(\u001b[0m\u001b[0mself\u001b[0m\u001b[0;34m,\u001b[0m \u001b[0mother\u001b[0m\u001b[0;34m)\u001b[0m \u001b[0;34m->\u001b[0m \u001b[0mbool\u001b[0m\u001b[0;34m:\u001b[0m\u001b[0;34m\u001b[0m\u001b[0;34m\u001b[0m\u001b[0m\n\u001b[1;32m    696\u001b[0m     return isinstance(\n\u001b[0;32m--> 697\u001b[0;31m         other, IteratorType) and self._components == other._components\n\u001b[0m\u001b[1;32m    698\u001b[0m \u001b[0;34m\u001b[0m\u001b[0m\n\u001b[1;32m    699\u001b[0m \u001b[0;34m\u001b[0m\u001b[0m\n",
            "\u001b[0;32m/usr/local/lib/python3.7/dist-packages/tensorflow/python/framework/type_spec.py\u001b[0m in \u001b[0;36m__eq__\u001b[0;34m(self, other)\u001b[0m\n\u001b[1;32m    342\u001b[0m     \u001b[0;31m# pylint: disable=protected-access\u001b[0m\u001b[0;34m\u001b[0m\u001b[0;34m\u001b[0m\u001b[0;34m\u001b[0m\u001b[0m\n\u001b[1;32m    343\u001b[0m     return (type(other) is type(self) and\n\u001b[0;32m--> 344\u001b[0;31m             self.__get_cmp_key() == other.__get_cmp_key())\n\u001b[0m\u001b[1;32m    345\u001b[0m \u001b[0;34m\u001b[0m\u001b[0m\n\u001b[1;32m    346\u001b[0m   \u001b[0;32mdef\u001b[0m \u001b[0m__ne__\u001b[0m\u001b[0;34m(\u001b[0m\u001b[0mself\u001b[0m\u001b[0;34m,\u001b[0m \u001b[0mother\u001b[0m\u001b[0;34m)\u001b[0m \u001b[0;34m->\u001b[0m \u001b[0mbool\u001b[0m\u001b[0;34m:\u001b[0m\u001b[0;34m\u001b[0m\u001b[0;34m\u001b[0m\u001b[0m\n",
            "\u001b[0;32m/usr/local/lib/python3.7/dist-packages/tensorflow/python/framework/type_spec.py\u001b[0m in \u001b[0;36m__get_cmp_key\u001b[0;34m(self)\u001b[0m\n\u001b[1;32m    394\u001b[0m     \u001b[0;34m\"\"\"Returns a hashable eq-comparable key for `self`.\"\"\"\u001b[0m\u001b[0;34m\u001b[0m\u001b[0;34m\u001b[0m\u001b[0m\n\u001b[1;32m    395\u001b[0m     \u001b[0;31m# TODO(b/133606651): Decide whether to cache this value.\u001b[0m\u001b[0;34m\u001b[0m\u001b[0;34m\u001b[0m\u001b[0;34m\u001b[0m\u001b[0m\n\u001b[0;32m--> 396\u001b[0;31m     \u001b[0;32mreturn\u001b[0m \u001b[0;34m(\u001b[0m\u001b[0mtype\u001b[0m\u001b[0;34m(\u001b[0m\u001b[0mself\u001b[0m\u001b[0;34m)\u001b[0m\u001b[0;34m,\u001b[0m \u001b[0mself\u001b[0m\u001b[0;34m.\u001b[0m\u001b[0m__make_cmp_key\u001b[0m\u001b[0;34m(\u001b[0m\u001b[0mself\u001b[0m\u001b[0;34m.\u001b[0m\u001b[0m_serialize\u001b[0m\u001b[0;34m(\u001b[0m\u001b[0;34m)\u001b[0m\u001b[0;34m)\u001b[0m\u001b[0;34m)\u001b[0m\u001b[0;34m\u001b[0m\u001b[0;34m\u001b[0m\u001b[0m\n\u001b[0m\u001b[1;32m    397\u001b[0m \u001b[0;34m\u001b[0m\u001b[0m\n\u001b[1;32m    398\u001b[0m   \u001b[0;32mdef\u001b[0m \u001b[0m__make_cmp_key\u001b[0m\u001b[0;34m(\u001b[0m\u001b[0mself\u001b[0m\u001b[0;34m,\u001b[0m \u001b[0mvalue\u001b[0m\u001b[0;34m)\u001b[0m\u001b[0;34m:\u001b[0m\u001b[0;34m\u001b[0m\u001b[0;34m\u001b[0m\u001b[0m\n",
            "\u001b[0;32m/usr/local/lib/python3.7/dist-packages/tensorflow/python/framework/type_spec.py\u001b[0m in \u001b[0;36m__make_cmp_key\u001b[0;34m(self, value)\u001b[0m\n\u001b[1;32m    412\u001b[0m       ])\n\u001b[1;32m    413\u001b[0m     \u001b[0;32mif\u001b[0m \u001b[0misinstance\u001b[0m\u001b[0;34m(\u001b[0m\u001b[0mvalue\u001b[0m\u001b[0;34m,\u001b[0m \u001b[0mtuple\u001b[0m\u001b[0;34m)\u001b[0m\u001b[0;34m:\u001b[0m\u001b[0;34m\u001b[0m\u001b[0;34m\u001b[0m\u001b[0m\n\u001b[0;32m--> 414\u001b[0;31m       \u001b[0;32mreturn\u001b[0m \u001b[0mtuple\u001b[0m\u001b[0;34m(\u001b[0m\u001b[0;34m[\u001b[0m\u001b[0mself\u001b[0m\u001b[0;34m.\u001b[0m\u001b[0m__make_cmp_key\u001b[0m\u001b[0;34m(\u001b[0m\u001b[0mv\u001b[0m\u001b[0;34m)\u001b[0m \u001b[0;32mfor\u001b[0m \u001b[0mv\u001b[0m \u001b[0;32min\u001b[0m \u001b[0mvalue\u001b[0m\u001b[0;34m]\u001b[0m\u001b[0;34m)\u001b[0m\u001b[0;34m\u001b[0m\u001b[0;34m\u001b[0m\u001b[0m\n\u001b[0m\u001b[1;32m    415\u001b[0m     \u001b[0;32mif\u001b[0m \u001b[0misinstance\u001b[0m\u001b[0;34m(\u001b[0m\u001b[0mvalue\u001b[0m\u001b[0;34m,\u001b[0m \u001b[0mlist\u001b[0m\u001b[0;34m)\u001b[0m\u001b[0;34m:\u001b[0m\u001b[0;34m\u001b[0m\u001b[0;34m\u001b[0m\u001b[0m\n\u001b[1;32m    416\u001b[0m       \u001b[0;32mreturn\u001b[0m \u001b[0;34m(\u001b[0m\u001b[0mlist\u001b[0m\u001b[0;34m,\u001b[0m \u001b[0mtuple\u001b[0m\u001b[0;34m(\u001b[0m\u001b[0;34m[\u001b[0m\u001b[0mself\u001b[0m\u001b[0;34m.\u001b[0m\u001b[0m__make_cmp_key\u001b[0m\u001b[0;34m(\u001b[0m\u001b[0mv\u001b[0m\u001b[0;34m)\u001b[0m \u001b[0;32mfor\u001b[0m \u001b[0mv\u001b[0m \u001b[0;32min\u001b[0m \u001b[0mvalue\u001b[0m\u001b[0;34m]\u001b[0m\u001b[0;34m)\u001b[0m\u001b[0;34m)\u001b[0m\u001b[0;34m\u001b[0m\u001b[0;34m\u001b[0m\u001b[0m\n",
            "\u001b[0;32m/usr/local/lib/python3.7/dist-packages/tensorflow/python/framework/type_spec.py\u001b[0m in \u001b[0;36m<listcomp>\u001b[0;34m(.0)\u001b[0m\n\u001b[1;32m    412\u001b[0m       ])\n\u001b[1;32m    413\u001b[0m     \u001b[0;32mif\u001b[0m \u001b[0misinstance\u001b[0m\u001b[0;34m(\u001b[0m\u001b[0mvalue\u001b[0m\u001b[0;34m,\u001b[0m \u001b[0mtuple\u001b[0m\u001b[0;34m)\u001b[0m\u001b[0;34m:\u001b[0m\u001b[0;34m\u001b[0m\u001b[0;34m\u001b[0m\u001b[0m\n\u001b[0;32m--> 414\u001b[0;31m       \u001b[0;32mreturn\u001b[0m \u001b[0mtuple\u001b[0m\u001b[0;34m(\u001b[0m\u001b[0;34m[\u001b[0m\u001b[0mself\u001b[0m\u001b[0;34m.\u001b[0m\u001b[0m__make_cmp_key\u001b[0m\u001b[0;34m(\u001b[0m\u001b[0mv\u001b[0m\u001b[0;34m)\u001b[0m \u001b[0;32mfor\u001b[0m \u001b[0mv\u001b[0m \u001b[0;32min\u001b[0m \u001b[0mvalue\u001b[0m\u001b[0;34m]\u001b[0m\u001b[0;34m)\u001b[0m\u001b[0;34m\u001b[0m\u001b[0;34m\u001b[0m\u001b[0m\n\u001b[0m\u001b[1;32m    415\u001b[0m     \u001b[0;32mif\u001b[0m \u001b[0misinstance\u001b[0m\u001b[0;34m(\u001b[0m\u001b[0mvalue\u001b[0m\u001b[0;34m,\u001b[0m \u001b[0mlist\u001b[0m\u001b[0;34m)\u001b[0m\u001b[0;34m:\u001b[0m\u001b[0;34m\u001b[0m\u001b[0;34m\u001b[0m\u001b[0m\n\u001b[1;32m    416\u001b[0m       \u001b[0;32mreturn\u001b[0m \u001b[0;34m(\u001b[0m\u001b[0mlist\u001b[0m\u001b[0;34m,\u001b[0m \u001b[0mtuple\u001b[0m\u001b[0;34m(\u001b[0m\u001b[0;34m[\u001b[0m\u001b[0mself\u001b[0m\u001b[0;34m.\u001b[0m\u001b[0m__make_cmp_key\u001b[0m\u001b[0;34m(\u001b[0m\u001b[0mv\u001b[0m\u001b[0;34m)\u001b[0m \u001b[0;32mfor\u001b[0m \u001b[0mv\u001b[0m \u001b[0;32min\u001b[0m \u001b[0mvalue\u001b[0m\u001b[0;34m]\u001b[0m\u001b[0;34m)\u001b[0m\u001b[0;34m)\u001b[0m\u001b[0;34m\u001b[0m\u001b[0;34m\u001b[0m\u001b[0m\n",
            "\u001b[0;32m/usr/local/lib/python3.7/dist-packages/tensorflow/python/framework/type_spec.py\u001b[0m in \u001b[0;36m__make_cmp_key\u001b[0;34m(self, value)\u001b[0m\n\u001b[1;32m    399\u001b[0m     \u001b[0;34m\"\"\"Converts `value` to a hashable key.\"\"\"\u001b[0m\u001b[0;34m\u001b[0m\u001b[0;34m\u001b[0m\u001b[0m\n\u001b[1;32m    400\u001b[0m     if isinstance(value,\n\u001b[0;32m--> 401\u001b[0;31m                   (int, float, bool, np.generic, dtypes.DType, TypeSpec)):\n\u001b[0m\u001b[1;32m    402\u001b[0m       \u001b[0;32mreturn\u001b[0m \u001b[0mvalue\u001b[0m\u001b[0;34m\u001b[0m\u001b[0;34m\u001b[0m\u001b[0m\n\u001b[1;32m    403\u001b[0m     \u001b[0;32mif\u001b[0m \u001b[0misinstance\u001b[0m\u001b[0;34m(\u001b[0m\u001b[0mvalue\u001b[0m\u001b[0;34m,\u001b[0m \u001b[0mcompat\u001b[0m\u001b[0;34m.\u001b[0m\u001b[0mbytes_or_text_types\u001b[0m\u001b[0;34m)\u001b[0m\u001b[0;34m:\u001b[0m\u001b[0;34m\u001b[0m\u001b[0;34m\u001b[0m\u001b[0m\n",
            "\u001b[0;32m/usr/lib/python3.7/abc.py\u001b[0m in \u001b[0;36m__instancecheck__\u001b[0;34m(cls, instance)\u001b[0m\n\u001b[1;32m    135\u001b[0m             \u001b[0;32mreturn\u001b[0m \u001b[0m_abc_register\u001b[0m\u001b[0;34m(\u001b[0m\u001b[0mcls\u001b[0m\u001b[0;34m,\u001b[0m \u001b[0msubclass\u001b[0m\u001b[0;34m)\u001b[0m\u001b[0;34m\u001b[0m\u001b[0;34m\u001b[0m\u001b[0m\n\u001b[1;32m    136\u001b[0m \u001b[0;34m\u001b[0m\u001b[0m\n\u001b[0;32m--> 137\u001b[0;31m         \u001b[0;32mdef\u001b[0m \u001b[0m__instancecheck__\u001b[0m\u001b[0;34m(\u001b[0m\u001b[0mcls\u001b[0m\u001b[0;34m,\u001b[0m \u001b[0minstance\u001b[0m\u001b[0;34m)\u001b[0m\u001b[0;34m:\u001b[0m\u001b[0;34m\u001b[0m\u001b[0;34m\u001b[0m\u001b[0m\n\u001b[0m\u001b[1;32m    138\u001b[0m             \u001b[0;34m\"\"\"Override for isinstance(instance, cls).\"\"\"\u001b[0m\u001b[0;34m\u001b[0m\u001b[0;34m\u001b[0m\u001b[0m\n\u001b[1;32m    139\u001b[0m             \u001b[0;32mreturn\u001b[0m \u001b[0m_abc_instancecheck\u001b[0m\u001b[0;34m(\u001b[0m\u001b[0mcls\u001b[0m\u001b[0;34m,\u001b[0m \u001b[0minstance\u001b[0m\u001b[0;34m)\u001b[0m\u001b[0;34m\u001b[0m\u001b[0;34m\u001b[0m\u001b[0m\n",
            "\u001b[0;31mKeyboardInterrupt\u001b[0m: "
          ]
        }
      ]
    },
    {
      "cell_type": "markdown",
      "source": [
        "# Validation"
      ],
      "metadata": {
        "id": "8MGv9LzZOizU"
      }
    },
    {
      "cell_type": "code",
      "source": [
        "def get_label_data_splits(input_path, num_of_freq_selected, reference_amt, split_done=False, test_references_params=(False, [80, 1040, 2000], 0)):\n",
        "\n",
        "  if split_done == False:\n",
        "    training_df, testing_df, reference_freq_data_df, sample_freq_data_df, rows_training, rows_testing = get_train_test_split_main(input_path, num_of_freq_selected, reference_amt, test_references_params)\n",
        "\n",
        "    training_df.to_csv(path+\"/Spectrum/NN/train_test_splits/mod_bootstraped_new_data_training_data_NN_freq_\"+str(num_of_freq_selected)+\"_reference_\"+str(reference_amt)+\".csv\", header=True, index=False)\n",
        "    testing_df.to_csv(path+\"/Spectrum/NN/train_test_splits/mod_bootstraped_new_data_testing_data_NN_freq_\"+str(num_of_freq_selected)+\"_reference_\"+str(reference_amt)+\".csv\", header=True, index=False)\n",
        "\n",
        "    reference_freq_data_df.to_csv(path+\"/Spectrum/NN/train_test_splits/mod_bootstraped_new_data_Reference_NN_freq_\"+str(num_of_freq_selected)+\"_reference_\"+str(reference_amt)+\".csv\", header=True, index=False)\n",
        "    sample_freq_data_df.to_csv(path+\"/Spectrum/NN/train_test_splits/mod_bootstraped_new_data_Sample_NN_freq_\"+str(num_of_freq_selected)+\"_reference_\"+str(reference_amt)+\".csv\", header=True, index=False)\n",
        "\n",
        "    pickle.dump(rows_training, open(path+\"/Spectrum/NN/train_test_splits/mod_bootstraped_traininig_Rows_NN_freq_\"+str(num_of_freq_selected)+\"_reference_\"+str(reference_amt)+\".pkl\",\"wb\"))\n",
        "    pickle.dump(rows_testing, open(path+\"/Spectrum/NN/train_test_splits/mod_bootstraped_testing_Rows_NN_freq_\"+str(num_of_freq_selected)+\"_reference_\"+str(reference_amt)+\".pkl\",\"wb\"))\n",
        "  else:\n",
        "    training_df = pd.read_csv(path+\"/Spectrum/NN/train_test_splits/training_data_NN_freq_10_reference_30.csv\")\n",
        "    testing_df = pd.read_csv(path+\"/Spectrum/NN/train_test_splits/testing_data_NN_freq_10_reference_30.csv\")\n",
        "    \n",
        "    reference_freq_data_df = pd.read_csv(path+\"/Spectrum/NN/train_test_splits/mod_bootstraped_new_data_Reference_NN_freq_\"+str(num_of_freq_selected)+\"_reference_\"+str(reference_amt)+\".csv\")\n",
        "    sample_freq_data_df = pd.read_csv(path+\"/Spectrum/NN/train_test_splits/mod_bootstraped_new_data_Sample_NN_freq_\"+str(num_of_freq_selected)+\"_reference_\"+str(reference_amt)+\".csv\")\n",
        "    with open(path+\"/Spectrum/NN/train_test_splits/mod_bootstraped_traininig_Rows_NN_freq_\"+str(num_of_freq_selected)+\"_reference_\"+str(reference_amt)+\".pkl\", 'rb') as f:\n",
        "      rows_training = pickle.load(f)\n",
        "    with open(path+\"/Spectrum/NN/train_test_splits/mod_bootstraped_testing_Rows_NN_freq_\"+str(num_of_freq_selected)+\"_reference_\"+str(reference_amt)+\".pkl\", 'rb') as f:\n",
        "      rows_testing = pickle.load(f)  \n",
        "  \n",
        "  Y_train, X_train, Y_test, X_test, sc_input, sc_output = train_test_split_features(training_df, testing_df)\n",
        "\n",
        "  return Y_train, X_train, Y_test, X_test, training_df, testing_df, reference_freq_data_df, sample_freq_data_df, rows_training, rows_testing, sc_input, sc_output"
      ],
      "metadata": {
        "id": "ZD_3LHbOOkin"
      },
      "execution_count": null,
      "outputs": []
    },
    {
      "cell_type": "code",
      "source": [
        "#model_ann_c = train_model(X_train_c, Y_train_c)\n",
        "# Load network\n",
        "from keras.models import Sequential\n",
        "from keras.layers import Dense,Conv2D, Flatten\n",
        "from keras.wrappers.scikit_learn import KerasRegressor\n",
        "from keras.callbacks import EarlyStopping\n",
        "from tqdm.keras import TqdmCallback\n",
        "\n",
        "def ann():\n",
        "    model = Sequential()\n",
        "    model.add(Dense(76, input_dim = 7, activation = 'tanh'))\n",
        "    model.add(Dense(38,activation='tanh'))\n",
        "    model.add(Dense(38,activation='tanh'))\n",
        "    model.add(Dense(19,activation='tanh'))\n",
        "    model.add(Dense(19,activation='tanh'))\n",
        "    model.add(Dense(9,activation='tanh'))\n",
        "    model.add(Dense(9,activation='tanh'))\n",
        "    model.add(Dense(1))\n",
        "    model.compile(loss ='mean_squared_error',optimizer = 'RMSprop')\n",
        "    return model\n",
        "\n",
        "# Load network\n",
        "from keras.models import load_model\n",
        "model_ann_c = KerasRegressor(build_fn=ann, epochs=8000, batch_size=32, verbose=0)\n",
        "model_ann_c.model = load_model(path+\"/Spectrum/NN/NNs/mod_bootstraped_final_new_data_NN_model_freq_\"+str(num_of_freq_selected)+\"_reference_\"+str(reference_amt)+\".h5\")"
      ],
      "metadata": {
        "id": "eIgfd-jEOma8"
      },
      "execution_count": null,
      "outputs": []
    },
    {
      "cell_type": "markdown",
      "source": [
        "## test with different data"
      ],
      "metadata": {
        "id": "ZFLYw9HI-ltp"
      }
    },
    {
      "cell_type": "code",
      "source": [
        "def get_label_data_splits_test_2(input_path, num_of_freq_selected, reference_amt, split_done=False, test_references_params=(False, [80, 1040, 2000], 0)):\n",
        "\n",
        "  if split_done == False:\n",
        "    training_df, testing_df, reference_freq_data_df, sample_freq_data_df, rows_training, rows_testing = get_train_test_split_main(input_path, num_of_freq_selected, reference_amt, test_references_params)\n",
        "\n",
        "    training_df.to_csv(path+\"/Spectrum/NN/train_test_splits/bootstraped_new_data_training_data_NN_freq_\"+str(num_of_freq_selected)+\"_reference_\"+str(reference_amt)+\".csv\", header=True, index=False)\n",
        "    testing_df.to_csv(path+\"/Spectrum/NN/train_test_splits/bootstraped_new_data_testing_data_NN_freq_\"+str(num_of_freq_selected)+\"_reference_\"+str(reference_amt)+\".csv\", header=True, index=False)\n",
        "\n",
        "    reference_freq_data_df.to_csv(path+\"/Spectrum/NN/train_test_splits/bootstraped_new_data_Reference_NN_freq_\"+str(num_of_freq_selected)+\"_reference_\"+str(reference_amt)+\".csv\", header=True, index=False)\n",
        "    sample_freq_data_df.to_csv(path+\"/Spectrum/NN/train_test_splits/bootstraped_new_data_Sample_NN_freq_\"+str(num_of_freq_selected)+\"_reference_\"+str(reference_amt)+\".csv\", header=True, index=False)\n",
        "\n",
        "    pickle.dump(rows_training, open(path+\"/Spectrum/NN/train_test_splits/bootstraped_traininig_Rows_NN_freq_\"+str(num_of_freq_selected)+\"_reference_\"+str(reference_amt)+\".pkl\",\"wb\"))\n",
        "    pickle.dump(rows_testing, open(path+\"/Spectrum/NN/train_test_splits/bootstraped_testing_Rows_NN_freq_\"+str(num_of_freq_selected)+\"_reference_\"+str(reference_amt)+\".pkl\",\"wb\"))\n",
        "  else:\n",
        "    training_df = pd.read_csv(path+\"/Spectrum/NN/train_test_splits/bootstraped_new_data_training_data_NN_freq_\"+str(num_of_freq_selected)+\"_reference_\"+str(reference_amt)+\".csv\")\n",
        "    testing_df = pd.read_csv(path+\"/Spectrum/NN/train_test_splits/bootstraped_new_data_testing_data_NN_freq_\"+str(num_of_freq_selected)+\"_reference_\"+str(reference_amt)+\".csv\")\n",
        "    \n",
        "    reference_freq_data_df = pd.read_csv(path+\"/Spectrum/NN/train_test_splits/mod_bootstraped_new_data_Reference_NN_freq_\"+str(num_of_freq_selected)+\"_reference_\"+str(reference_amt)+\".csv\")\n",
        "    sample_freq_data_df = pd.read_csv(path+\"/Spectrum/NN/train_test_splits/bootstraped_new_data_Sample_NN_freq_\"+str(num_of_freq_selected)+\"_reference_\"+str(reference_amt)+\".csv\")\n",
        "    with open(path+\"/Spectrum/NN/train_test_splits/bootstraped_traininig_Rows_NN_freq_\"+str(num_of_freq_selected)+\"_reference_\"+str(reference_amt)+\".pkl\", 'rb') as f:\n",
        "      rows_training = pickle.load(f)\n",
        "    with open(path+\"/Spectrum/NN/train_test_splits/bootstraped_testing_Rows_NN_freq_\"+str(num_of_freq_selected)+\"_reference_\"+str(reference_amt)+\".pkl\", 'rb') as f:\n",
        "      rows_testing = pickle.load(f)  \n",
        "  \n",
        "  test_references_params=(False, [80, 1040, 2000], reference_freq_data_df.copy())\n",
        "  if isinstance(test_references_params[2], pd.DataFrame):\n",
        "    training_df, testing_df, reference_freq_data_df, sample_freq_data_df, rows_training, rows_testing = get_train_test_split_main(input_path, num_of_freq_selected, reference_amt, test_references_params)\n",
        "    \n",
        "  Y_train, X_train, Y_test, X_test, sc_input, sc_output = train_test_split_features(training_df, testing_df)\n",
        "\n",
        "  return Y_train, X_train, Y_test, X_test, training_df, testing_df, reference_freq_data_df, sample_freq_data_df, rows_training, rows_testing, sc_input, sc_output"
      ],
      "metadata": {
        "id": "w3jyY41n-o4q"
      },
      "execution_count": 38,
      "outputs": []
    },
    {
      "cell_type": "code",
      "source": [
        "num_of_freq_selected = 10\n",
        "reference_amt = 30\n",
        "input_path = path + \"/Spectrum/NN/bootstraped_new_data_working_df.csv\"\n",
        "\n",
        "Y_train_a, X_train_a, Y_test_a, X_test_a, training_df_a, testing_df_a, reference_freq_data_df_a, sample_freq_data_df_a, rows_training_a, rows_testing_a, sc_input_a, sc_output_a = get_label_data_splits_test_2(input_path, num_of_freq_selected, reference_amt, split_done=True, test_references_params=(False, [80, 1040, 2000], 0))"
      ],
      "metadata": {
        "colab": {
          "base_uri": "https://localhost:8080/"
        },
        "id": "f02Aw2f__U7w",
        "outputId": "3ad004ea-697d-4e8c-9bd0-a0b2eb98f654"
      },
      "execution_count": 39,
      "outputs": [
        {
          "output_type": "stream",
          "name": "stdout",
          "text": [
            "Calculating train split:\n"
          ]
        },
        {
          "output_type": "stream",
          "name": "stderr",
          "text": [
            "100%|██████████| 10000/10000 [05:27<00:00, 30.56it/s]\n"
          ]
        },
        {
          "output_type": "stream",
          "name": "stdout",
          "text": [
            "Calculating test split:\n"
          ]
        },
        {
          "output_type": "stream",
          "name": "stderr",
          "text": [
            "100%|██████████| 2500/2500 [01:21<00:00, 30.66it/s]\n"
          ]
        }
      ]
    },
    {
      "cell_type": "code",
      "source": [
        "# Load network\n",
        "from keras.models import Sequential\n",
        "from keras.layers import Dense,Conv2D, Flatten\n",
        "from keras.wrappers.scikit_learn import KerasRegressor\n",
        "from keras.callbacks import EarlyStopping\n",
        "from tqdm.keras import TqdmCallback\n",
        "\n",
        "def ann():\n",
        "    model = Sequential()\n",
        "    model.add(Dense(76, input_dim = 7, activation = 'tanh'))\n",
        "    model.add(Dense(38,activation='tanh'))\n",
        "    model.add(Dense(38,activation='tanh'))\n",
        "    model.add(Dense(19,activation='tanh'))\n",
        "    model.add(Dense(19,activation='tanh'))\n",
        "    model.add(Dense(9,activation='tanh'))\n",
        "    model.add(Dense(9,activation='tanh'))\n",
        "    model.add(Dense(1))\n",
        "    model.compile(loss ='mean_squared_error',optimizer = 'RMSprop')\n",
        "    return model\n",
        "\n",
        "# Load network\n",
        "from keras.models import load_model\n",
        "model_ann_a = KerasRegressor(build_fn=ann, epochs=8000, batch_size=32, verbose=0)\n",
        "model_ann_a.model = load_model(path+\"/Spectrum/NN/NNs/mod_bootstraped_final_new_data_NN_model_freq_\"+str(num_of_freq_selected)+\"_reference_\"+str(reference_amt)+\".h5\")"
      ],
      "metadata": {
        "id": "4EynXF4AJw89"
      },
      "execution_count": 40,
      "outputs": []
    },
    {
      "cell_type": "code",
      "source": [
        "#predict_test(model_ann_c, Y_test_c, X_test_c, sc_output_c)\n",
        "predict_test(model_ann_a, Y_test_a, X_test_a, sc_output_a, testing_df_a, remove_outliers=0.05)"
      ],
      "metadata": {
        "colab": {
          "base_uri": "https://localhost:8080/",
          "height": 0
        },
        "id": "xB3FiL_sJ-5p",
        "outputId": "ce3a1c1f-3354-425b-a173-ddc0274ffa4c"
      },
      "execution_count": 41,
      "outputs": [
        {
          "output_type": "stream",
          "name": "stdout",
          "text": [
            "Results (freq_10_reference_30)\n",
            "Pred:\n",
            "[0.16793115, 0.96464074, 0.7588283, 0.5457833, 0.5797685, 0.37840062, 0.1321041, 0.588603, 0.38755494, 0.58444834, 0.6256647, 0.38638544, 0.29974005, 0.75287277, 0.9947599, 0.5968982, 0.6262655, 0.4242051, 0.341572, 0.71373415, 0.04911208, 0.66495526, 0.92075574, 0.28805315, 0.17291592, 0.9625131, 1.00503, -0.00023254752, 0.16797453, 0.7180064, 0.5490146, 0.3053362, 0.24856359, 0.62334204, 0.7617705, 0.60881996, 0.96075225, 0.33063313, 0.0018662512, 0.1718732, 0.12780091, 0.62938696, 0.92254865, 0.21031785, 0.16547829, 0.6257671, 0.70971, 0.5437548, 0.92449987, 0.26272386, 1.0016242, 0.9602226, 0.8814219, 0.5060533, 0.87576604, 0.83197975, 0.8345729, 0.7940441, 0.2546024, 0.96942604, 0.25517854, 0.5422084, 0.45632827, 0.17031069, 0.08466041, 0.33411524, 0.35380265, 0.46906257, 0.41151446, 0.79990125, 0.67132795, 0.42649823, 0.33636755, 0.0019423068, 0.9994767, 0.5479887, 0.994154, 0.7508825, 0.7540641, 0.5880914, 0.54213554, 0.4580258, 0.8796606, 0.3176235, 0.8833884, 0.16863157, 0.5427776, 0.49980175, 0.71551496, 0.08085349, 0.6701168, 0.20732433, 0.33688152, 0.5085759, 0.42261475, 0.083209395, 0.08313224, 0.25476626, 0.64332724, 0.38041833, 0.7522366, 0.6731792, 0.9602226, 0.8779012, 0.12502575, 0.2906737, 0.60881996, 0.20924853, 0.6257365, 0.38469544, 0.37060747, 0.04109189, 0.7124909, 0.87692344, 0.37859482, 0.3412162, 0.42398942, 0.5479887, 0.16547829, 0.96211874, 0.25286657, 0.62884235, 0.38195756, 0.017675638, 0.16844171, 0.75724906, 0.66645575, 1.0040818, 0.0850752, 1.0016242, 0.08601004, 0.5487599, 0.96451616, 0.873801, 0.83197975, 0.4997725, 0.20510454, 0.3267932, 0.3818532, 0.5968982, 0.28805315, 0.84000576, 0.45632842, 0.463384, 0.54697657, 0.044248194, 0.69625795, 0.41487995, 0.9170463, 0.79139405, 0.92449987, 0.7040204, 0.4763137, 0.5460218, 0.2502368, 0.504317, 0.5438905, 0.044228286, 0.167165, 0.79593444, 0.87914014, 0.95946205, 0.87576604, 0.3000035, 0.33958307, 1.0046047, 0.38826203, 0.50240535, 0.25476626, 1.0010011, 0.3392835, 0.16827613, 0.24975213, 0.49780115, 1.0059432, 0.0019423068, 0.12969765, 0.5034529, 0.5834607, 0.92466474, 0.67132795, 0.043560237, 0.796265, 0.42516428, 0.46906257, 0.33787912, 0.25409243, 0.2546024, 0.46221787, 0.42649823, 0.6649554, 0.041348428, 1.0099759, 0.8833884, 1.0063335, 0.34230047, 0.33800265, 0.34022892, 0.12798744, 0.9636837, 0.24439327, 0.37320372, 0.2932057, 0.37840062, 0.42516428, 0.0018662512, 0.8741522, 0.043560237, 0.7535694, 0.17531744, 0.3809033, 0.41992804, 0.12969765, 0.20776153, 0.75062567, 0.7981048, 0.50333667, 0.17010848, 0.5968982, 0.58568823, 0.7090448, 0.9232428, 0.7529839, 0.3368816, 0.5490147, 0.8324387, 0.80679643, 0.25517854, 0.7522986, 0.5460218, 0.84000576, 0.12882206, 0.040552557, 0.75474066, 0.084563315, 0.1718732, 0.75724906, 0.33787912, 0.95994174, 0.49980175, 0.29773033, 0.8388942, 1.0034415, 0.25476626, 0.16797453, 0.16793115, 0.0851686, 0.6644243, 0.045436352, 1.0046657, 0.9181762, 0.6272425, 0.044228286, 0.79507506, 0.8799597, 0.7588283, 0.0033484995, 0.64332724, 0.41151446, 0.044659108, 0.07402691, 0.7508825, 0.7546892, 0.37521458, 0.6248343, 0.20732433, 0.08248812, 0.0019423068, 0.71551496, 0.33661792, 0.6697941, 0.29438508, 0.2083617, 0.5883444, 0.33667815, 0.0035722852, 0.7937677, 0.38041833, 0.0049927533, 0.4265688, 0.6262655, 0.33958307, 0.5457833, 0.36806062, 0.25001234, 0.54617304, 0.8757659, 0.29814947, 0.7106161, 0.54697657, 0.9170463, 0.7124909, 0.16827613, 0.67132795, 0.8698732, -0.00023254752, -0.0008057952, 0.21761438, 0.38195756, 0.62884235, 0.5109813, 0.3176235, 0.5427776, 0.42398942, 0.422597, 0.0033484995, 0.6259122, 0.38041833, 0.7546892, 0.8388942, 0.083447695, 0.38127276, 0.4614411, 0.2083617, -0.0008057952, 1.0059432, 0.12518212, 0.34022892, 0.16674478, 0.12751812, 0.25409243, 0.9582927, 0.6731792, 0.38755494, 0.3392835, 0.8833884, 0.21074864, 0.20510454, 0.21761438, 1.0040817, 0.62884235, 0.8796606, 0.040467024, 0.9651178, 0.7969112, 0.38195756, 1.0016242, -0.00031870604, 0.7115289, 0.25286657, 1.0046047, 0.9171014, 0.3809033, 0.92217135, 1.0010011, 0.044228286, 0.16547829, 0.5863502, 0.87895876, 0.20732433, 0.38185316, 0.92804193, 0.8385001, 0.12780091, 0.25221133, 0.21089081, 0.9947599, 0.24439327, 0.5410939, 0.83830833, 0.29773033, 0.17291592, 0.040754825, 0.79990125, 0.5460218, 0.045436352, 0.5880914, 0.79507506, 0.122663945, 0.5045285, 0.29891503, 0.83845216, 0.96211874, 0.58825934, 0.6709273, 0.38638544, 0.6262655, 0.3350833, 0.669773, 0.9170463, 0.0851686, 0.504317, 0.5834607, 0.72921073, 0.0049927533, 0.67177933, 0.08466041, 0.50747293, 0.017675638, 0.9197346, 0.21623456, 0.20447828, 0.33688152, 0.0850752, 0.46001095, 0.80679643, 0.2932057, 0.42711526, 0.29082054, 0.08085349, 0.3176235, 0.4611747, 0.95994174, 0.3412162, 1.0027574, 0.12804905, 0.3818532, 0.3267932, 0.9171014, 0.504317, 0.13126454, 0.5437548, 0.59084237, 1.0046657, 0.9582926, 0.419928, 0.16827613, 0.3031019, 0.21546014, 0.62938696, 0.9660903, 0.33958307, 0.45442072, 0.341572, 0.1651792, 0.92254865, 0.511199, 0.7524189, 0.9197346, 0.5490147, 0.4285043, 0.16674481, 0.12518212, 0.30065143, 0.8833884, 0.9601793, 0.5853816, -0.00048723817, 0.83884716, 0.41151446, 0.74995273, 0.16779438, 0.8324387, 0.28805315, 0.040754825, 0.6731792, 0.46906263, 0.9656242, 0.3392835, 0.96211874, 0.56920594, 0.38638544, 0.7617705, 0.5457833, 0.37859482, 0.9197242, 0.2502368, 0.08601004, 0.92407775, 0.5487599, 0.37320372, 0.16547829, 0.24712192, 0.42062834, 0.20510454, 0.87692344, 0.17005497, 0.41744265, 0.75724906, 0.5865694, 0.505735, 0.087712884, 0.58365065, 0.37644848, 0.21623456, 0.08854172, 0.7152673, 0.04126075, 0.50333667, 0.507473, 0.08313224, 0.5479716, 0.9170463, 0.665653, 0.8333749, 0.5796257, 0.24949269, 0.73517287, 0.6650633, 0.3350833, 0.1657348, 0.669773, 0.13044855, 0.7103379, 0.8799597, 0.58482754, 0.67431295, -0.00031870604, 0.08594763, 0.16863157, 0.17010848, 0.6259122, 0.1651792, 0.5880914, -2.0295382e-05, 0.58444834, 0.16793115, 0.37859482, 0.8833884, 0.9994767, 0.75241876, 0.04911205, 0.21031785, 0.7040204, 0.38041833, 1.0059432, 0.63064224, 0.16547829, 0.08085349, 0.42062834, 0.994154, 0.62938696, 0.17276897, 0.8417564, 0.9197346, -0.00033816695, 0.9579551, 0.25409243, 0.0851686, 0.9656242, 0.46715015, 0.66495526, 0.08594763, 0.20972484, 0.6741873, 0.8345729, 0.75287277, 0.50240535, 0.29438508, 0.92217135, 1.0099759, 0.12739155, 0.20732434, 0.0019423068, 0.8385001, 0.4225313, 0.8010305, 0.12864295, 0.21623456, 0.000916481, 0.9280418, 0.79524326, 1.0040817, 0.75741327, 0.5863502, 0.5487599, 0.46067554, 0.2907992, 0.29773033, 0.20510454, 0.12864345, 0.7912681, 0.29814947, 0.30065143, 0.08219698, 0.42257723, 0.92357695, 0.42218906, 0.12798744, 0.13044855, 0.7147381, 0.17531744, 0.9171014, 0.7090448, 0.00048819184, 0.50136954, 1.0016038, 0.6709273, 0.38755494, 0.5853816, 0.12502575, 0.7522986, 0.2917475, 0.5109813, 0.41797718, 0.79166985, 0.64332724, 0.4763137, 0.25179124, 0.62566453, 0.041116267, 0.4285043, 0.0027434528, 0.20862924, 0.58221877, 0.7138796, 0.45610315, 1.0035563, 0.20447828, 0.4580258, 0.12780091, 1.0063335, 0.83845216, 0.49045882, 0.20924853, 0.0033484995, 0.38755485, -0.00033819675, 0.1275182, 0.37961861, 0.87914014, 0.087712884, 0.5460218, 0.4763137, 0.5018886, 0.16863157, 0.7937677, 0.49780115, 0.54617304, 0.8833884, 0.7588283, 0.33688152, 0.9636837, 0.5968982, 0.41682893, 0.044659108, 0.64332724, 0.45610315, 0.71584874, 0.71272856, 0.8388942, 0.92449987, 0.55134153, 0.6741873, 0.5880914, 0.6697941, 0.25221133, 0.8333749, 0.46117476, 0.5796258, 0.79593444, 0.16716497, 0.12882206, 0.45988753, 0.12498993, 0.83884716, 0.4242051, 0.7912681, 0.9947599, 0.46221787, 0.0019423068, 0.2885064, 0.511199, 0.3031019, 0.83830833, 0.4239419, 0.59481376, 0.20862924, 0.75298387, 0.084563315, 0.75724906, 1.0040817, 1.0035563, 0.25001234, 0.12518212, 0.7530656, 0.75159615, 0.2533899, 0.9170463, 0.6272818, 0.37060747, 0.21284376, 0.3809033, 0.504317, 0.36806062, 0.7617705, 0.9821515, 0.7138796, 0.30065143, 0.12864345, 0.38041833, 0.00048810244, 0.1657348, 0.41797718, 0.87692344, 0.50333667, 1.0034415, 0.33667815, 0.5487599, 0.88060033, 0.20447828, 0.5438905, 0.2932057, 0.8387651, 0.71205527, 0.4667656, 0.88009214, 0.12804905, 0.5490147, 0.95994174, 0.8775159, 0.46011844, 0.54350436, 0.7158488, 0.00014567375, 0.41744265, 0.9579551, 0.37859482, 0.17005497, 0.50333667, 0.25309893, 0.36806062, 0.59481376, 0.6709273, 0.17010848, 0.8388942, 0.20972484, 0.20447828, 0.083447695, 0.665653, 0.12804905, 0.38469544, 0.8799597, 0.96211874, 0.7524189, 0.58568823, 0.36736995, 0.12518212, 0.37521458, 0.79139405, 0.7969112, 0.7106161, 0.047211826, 0.33636755, 0.9601793, 0.9154501, 0.29082054, 0.041348457, 0.045436352, 0.9636837, 0.33800265, 0.00048810244, 0.92075574, 0.9197346, 0.7535694, 0.4580258, 0.0027434528, 0.6272425, 0.3818532, 0.72921073, 0.4617131, 0.75724906, 0.6256647, 0.7915034, 0.12780091, 0.6690352, 0.74802655, 0.8831916, 0.7138796, 0.8827918, 0.08219698, 0.5796257, 0.37320372, 0.08386135, 0.79166985, 0.16674481, 0.29592386, 0.24949268, 0.7040204, 0.87956655, 0.6257671, 0.38826203, 0.75298387, 0.7115289, 0.083209336, 0.50048304, 0.33667815, 0.95994174, 0.3053363, 1.00503, 0.29814947, 0.5797685, 0.6262655, 0.32838795, 0.042280644, 0.16962221, 0.16716497, 0.24712192, 0.9181762, 0.5031562, 0.9608849, 0.83884716, 0.49980175, 0.25409243, 0.7147381, 0.7522986, 0.20862924, 0.31171918, 0.38195768, 0.79593444, 0.20510454, 0.1321041, 0.8799597, 0.9232428, 0.4285043, 0.62788916, 0.9582927, 1.0063335, 0.12798744, 0.11845985, 0.7617705, 0.83884716, 0.796265, 0.6663705, 0.96219456, 1.0046047, 0.6709273, 0.92357695, 0.21623456, 0.2907992, 0.08386135, 0.71551496, 0.71584874, 0.59481376, 0.20862924, 0.46906257, 0.16827613, 0.58568823, 0.12882206, 0.9821515, 0.6713278, 0.4139188, 0.16793115, 0.4997725, 0.29814947, 0.9154502, 0.5427776, 0.64332724, 0.041348457, 0.5490147, 0.2083617, 0.25409243, 0.29592383, 0.5031562, 0.7180064, 0.38755494, 0.16716497, 0.08219698, 0.8350513, 0.7524189, 0.7969112, 0.5880914, 0.92466474, 0.04109189, 0.8796606, 0.12518212, 0.37961861, 0.25309893, -0.00061008334, 0.21089081, 0.72921073, 0.75474066, 0.87751603, 0.2908205, 0.5438644, 0.34022892, 0.96942604, 0.17291592, 0.5410939, 0.42257723, 0.6256647, 0.5060533, 0.8417564, 0.17031075, 0.25517854, 0.74995273, 0.3412162, 0.047211826, 0.37397835, 0.5034529, 0.7522366, 0.88009214, 0.2533899, 0.16797453, 0.87692344, 0.4614411, 0.9170463, 0.8324387, 0.37521458, 0.35380265, 0.37644848, 0.33667815, 1.0016038, 0.87576604, 0.25637177, 0.29204628, 0.4667656, 0.7472131, 0.46067554, 0.87895876, 0.0018662512, 0.7981048, 0.6709273, 0.79534936, 0.62788916, 0.16844171, 0.21031785, 0.8324387, 0.60881996, 0.62470007, 0.5891461, 0.4617131, -0.00031870604, 0.2533899, 0.12518212, 0.9602226, 0.46011844, 0.21057926, 0.16793115, 0.31171918, 0.9177648, 0.791301, 0.96464074, 0.12780091, 0.5060533, 0.17010848, 0.5479717, 0.08594763, 0.045436352, 0.8779012, 0.5968982, 0.25001234, 0.8345729, 0.49045882, 0.9210217, 0.9636837, 0.8328459, 0.04109189, 0.5125543, 0.7617705, 0.95994174, 0.042280644, 0.8330997, 0.4614411, 0.083447695, 0.92357695, 0.92217135, 0.9660903, 0.2563717, 0.20717287, 0.87956655, 0.665653, 0.8333749, 0.58365065, 0.87914014, 0.83168405, 0.73517287, 0.5438644, 0.5438904, 0.08219704, -0.00023254752, 0.9601793, 0.7115289, 0.5863502, 0.669773, 0.04126075, 1.0010011, 1.0035563, 0.74995273, 0.504317, 0.3031019, 0.4242051, 0.043560237, 0.873801, 0.047211826, 0.20972484, 0.38638544, 0.9582927, 0.6663705, 0.044659108, 0.0019423068, 0.24856359, 0.5801014, 0.50240535, 0.7915034, 0.994154, 0.58568823, 0.17031075, 0.8831916, 0.8010305, 0.25023675, 0.7546892, 0.62884235, 0.04911208, 0.38041833, 0.87576604, 0.3053363, 0.33688152, 0.7588283, 0.041348457, 0.7546892, 0.00048810244, 0.46067554, 0.29204637, 0.8388942, 0.0035722852, 0.50240535, 0.08820298, 0.33682013, 0.8387651, 0.2502368, 0.42398942, 0.75287277, 0.62566453, 0.87692344, 0.75741327, 0.6257365, 0.873801, 0.9651178, 0.9210217, 0.5438905, 0.12902203, 0.6278734, 0.33667818, 0.62788916, 0.5034529, 0.95994174, 0.7979213, 0.6259122, 0.000916481, 0.45632842, 0.083209336, 0.6262655, -0.00048723817, 0.4611747, 0.62938696, 0.3176235, 0.20776153, 0.463384, 0.6269259, 0.665653, 1.0027574, 0.38127276, 0.92217135, 0.79990125, 0.9154502, 0.08248812, 0.25476626, 0.92449987, 0.5018886, 0.6741873, 0.341572, 0.45610315, 0.3350833, 0.38638538, 0.6650634, 0.4614411, 0.040552557, 0.20972484, 0.8350513, 0.28805315, 0.75159615, -0.0011268258, 0.9625131, 0.83168405, 0.00014567375, 0.75474066, 0.75724906, 0.17031075, 0.2912389, 0.87956655, 0.0850752, 0.16962221, 0.37700912, 0.084563315, 0.46906257, 0.2108399, 0.3000035, 0.50048304, 0.25421673, 0.665081, 0.17010848, 0.42062834, 0.3812086, 0.42218906, 0.8330997, 0.0024985373, 0.25286657, 0.040176243, 0.79593444, 0.75062567, 0.0019423068, 0.1657348, 0.25309893, 0.7100252, 0.0854103, 0.04126075, 0.49045882, 0.79166985, -2.0295382e-05, 0.3031019, 0.20510454, 0.13126454, 0.30065143, 0.5034529, 0.21623456, 0.46611333, 0.16962221, 0.7915034, 0.6731792, 0.6863797, 0.044248194, 0.5880914, 0.8741522, 0.33661792, 0.2502368, 1.00503, 0.12798744, 0.7522366, 0.88319165, 0.62334204, 0.50222325, 0.37060747, 0.8385001, 0.8387651, 0.42649823, 0.83884716, 0.42516428, 0.3392835, 0.5460218, 0.37859482, 0.29974005, 0.28805315, 0.87956655, 0.7138796, 0.9197242, 0.9177648, 0.9181762, 0.7979213, 0.2533899, 0.45610315, 0.62470007, 0.7090448, 0.00014567375, 0.04911208, 0.12739155, 0.08515188, 0.083447695, 0.16674481, 0.38826203, 0.92407763, 0.33411524, 0.41744265, 0.1321041, 0.08085349, 0.040176243, 0.5469479, 0.08594763, 0.042280644, 0.873801, 0.087712884, 0.5801014, 0.7937677, 0.7530656, 0.08854172, 0.5438905, 0.12902203, 0.38469544, 0.16863157, 0.6744703, 0.4611747, 0.29891503, 0.045436352, 0.5479887, 0.62566453, 0.50136966, 0.20717287, 0.40859425, 0.9601793, 0.37961861, 0.9280418, 0.49980175, 0.34022892, 0.7163937, 0.7617705, -0.00031870604, 0.66495526, -0.0011268258, 0.2882362, 0.79593444, 0.17276897, 0.1718732, 0.25517854, 0.5109813, 0.25286657, 1.0046047, 0.33787912, 0.8796606, 0.6701168, 0.5045285, 0.62566453, 0.7100252, 0.2912389, 0.46011844, 0.7147381, 0.7937021, 0.62470007, 0.36736995, 0.21284367, 0.669773, 0.049412906, -2.0295382e-05, 0.25421673, 0.38469544, 0.6272817, 0.001866281, 0.37961861, 0.4580258, 0.4242051, 0.33800265, 0.92254865, 0.25409243, 0.30065143, 0.42516428, 0.92449987, 0.4671775, 0.4614411, 0.7530656, 0.67132795, 0.66645575, 0.74802655, 0.9197346, 0.96942604, 0.35380265, 0.34230047, 0.41797718, 0.79593444, 0.9579551, -0.00048723817, 0.20776153, 0.08386135, 0.13232172, 0.2885064, 0.58444834, 0.4225313, 0.26272386, 0.04911205, 0.7515963, 0.63064224, 0.31171918, 0.5487599, 0.17291592, 0.5085759, 0.00014567375, 0.46001095, 0.96219456, 0.29592383, 0.7979213, 0.6262655, 0.41744265, 0.25309893, 0.4265688, 0.75298387, 0.71205527, 0.12498993, 0.505735, 0.083447695, 0.46611333, 0.38755494, 0.20924853, 0.54213554, 0.17010848, 0.41682893, 0.6272425, 0.9280418, 0.3031019, 0.5490147, 0.67177933, 0.66565305, 0.2880532, 0.6256647, 0.7180064, 0.3000035, 0.5479887, 0.5125543, 0.0027434528, 0.044659108, 0.42398942, 0.5863502, 0.043560237, 0.21546014, 0.33667815, 0.08601004, 0.665081, 0.7969112, 0.08248812, 0.79423356, 0.8833884, 0.16962221, 0.25476626, 0.46067554, 0.04126075, 0.74802655, 0.87895876, 0.7617705, 0.38638544, 0.4627845, 0.16863157, 0.6701168, 0.7106161, 0.6709273, 0.9941542, 1.0016038, 0.87956655, 0.84000576, 0.08854172, 0.84146416, 0.4614411, 1.0016242, 0.4763137, 0.0027434528, 0.7472131, 0.0018662512, 0.17291592, 0.040552557, 0.5863502, 0.41797718, 0.83830833, 0.50382453, 0.6272425, 0.92357695, 0.31171918, 0.6269259, 0.46221787, 0.3392835, 0.08594763, 0.5422084, 0.9177648, 0.92217135, 0.588603, 0.8324387, 0.422597, 0.6262656, 0.42394182, 0.80679643, 0.3000035, 0.4671775, 0.21074864, 0.2882362, 0.71373415, 0.9181762, 0.083447695, 0.33688152, 0.6256647, 0.87577224, 0.2563717, 0.75159615, 0.5479887, 0.7152673, 0.8698732, 0.8350513, 0.6278734, 0.8345729, 0.42218906, 0.71272856, 0.37060747, 0.29592383, 0.5968982, 0.46011844, 0.9602226, 0.12882206, 0.5479716, 0.75298387, 0.42516428, 0.66565305, 0.2977303, 0.3176235, 1.00503, 0.24949269, 0.8799597, 0.79534936, 0.7180064, 0.5438905, 0.7524189, 0.5109813, 0.45988753, 0.8833884, -0.00031870604, 0.0851686, 0.50136966, 0.00036633015, 0.8387651, 0.24439327, 0.75474066, 0.6257365, 0.20447828, 0.46611333, 0.37521458, 0.6237643, 0.33063313, 0.7180064, 0.5891461, 0.95994174, 0.59084237, 0.8741522, 0.25286657, 0.0009165406, 0.040176243, 0.38826203, 1.0059432, 0.42261472, 0.16962221, 0.12804905, 0.4580258, 0.8417564, 0.3350833, 0.54617304, 0.7133104, 0.7138796, 0.08085349, 0.16674481, 0.6741873, 0.17005497, 0.3809033, 1.0063335, 0.2882362, 0.24949269, 0.5801014, 0.74802655, 0.12780091, 0.9171014, 0.8698732, 0.8350513, 0.5834607, 0.84146416, 0.7940441, 0.11845985, 0.49780115, 0.040754884, 0.6237643, 0.20717287, 0.46906257, 0.04911208, 1.00503, 0.16863157, 0.87956655, 1.0016038, 0.5422084, 0.044334322, -0.0011268258, 0.9651178, -0.00048723817, 0.7163936, 0.67431295, 0.92466474, 0.0027434528, 0.0854103, 0.17531744, 0.66495526, 0.84000576, 0.95946205, 0.41151446, 0.0850752, -0.00033816695, 0.4285043, 0.7937021, 0.08820298, 0.16779438, 0.3053363, 0.6650633, 0.12751812, 0.4251644, 0.45610315, 0.12882206, 0.26272386, 0.56920594, 0.8333749, 0.041116267, 0.17276897, 0.6748588, 0.6272425, 0.25409243, 0.21074864, 0.96451616, 0.58444834, 0.50222325, 0.12864345, 0.7540641, 0.42649823, 0.040552557, 0.37060747, 0.5460218, 0.665653, 0.21284367, 0.5968982, 0.37700912, 0.70971, 0.6278734, 0.75062567, 0.6257365, 0.9601793, 0.12498993, 0.38195768, 0.8384521, 0.045436352, -0.00031870604, 0.5801014, 0.50240535, 0.28805315, 0.9651178, 0.33411524, 0.5968982, -0.00061008334, 0.24975213, 0.5865694, 0.21546014, 0.040754825, 0.9625131, 0.60881996, 0.8741522, 0.7133104, 0.1321041, 0.79593444, 0.38469544, 0.6248343, 0.41744265, 0.8833884, 0.96451616, 0.08386135, 0.80679643, 0.0019423068, 0.4667656, 0.5469479, 0.08248812, 0.7546892, 0.5437548, 0.002498597, 0.6262655, -0.0008057952, 0.7115289, 0.044248194, 0.75474066, 0.25409243, 0.17010848, 0.92217135, 0.6731792, 0.12739155, 0.92254865, 0.38041833, 0.5438644, 0.2563717, 0.40859425, 0.62470007, 0.12864295, 1.0046047, 0.00036633015, 0.8010305, 0.95946205, 0.46067554, 0.5490147, 0.3809033, 0.29204637, 0.040552557, 0.7522986, 0.4242051, 0.5853816, 0.32838807, 0.79534936, 0.66645575, 0.64332724, 0.31171918, 0.5410939, 0.96464074, 0.79139405, 0.50136966, 0.7915034, 0.8385001, 0.1651792, 0.96942604, 0.12798744, 0.3176235, 0.665081, 0.588603, 0.5883444, 0.33661792, 0.8799597, 0.54213554, 0.7472131, 0.122663945, 0.21284367, 0.7138796, 0.8350513, 0.7147381, 0.58482754, 0.7100252, 0.41682893, 0.5438905, 0.13232172, 0.12751812, 0.29814947, 0.16779438, 0.59481376, 0.422597, 0.20972484, 0.46001095, 0.12902203, 0.75724906, 0.21284367, 0.0027434528, 0.7540641, 0.67132795, 0.25309893, 0.1718732, 0.33661792, 0.41797718, 0.12804905, 0.62470007, 0.5427776, 0.83197975, 0.54350424, 0.29773033, 0.2502368, 0.8827918, 0.17609474, 0.8324387, 0.08313224, 0.796265, 0.7163936, 0.045436352, 0.669773, 0.54602164, 0.66565305, 0.6690352, 0.2907992, 0.463384, 0.6257671, 0.59084237, 0.5479716, 1.0063335, 0.7138796, 1.0060569, 0.79507506, 0.3809033, 0.7969112, 0.46067554, 0.7915034, 0.50333667, 0.08820298, 0.8775159, 0.50747293, 0.9608849, 0.80679643, 0.5863502, 0.7920424, 0.46221787, 0.0850752, 0.4242051, 0.20510454, 0.33682013, 0.42257723, 0.33787912, 0.8833884, 0.7546892, 0.29320568, 0.50222325, 0.26272386, 0.66495526, 0.36736995, 0.79534936, 0.41744265, 0.8350513, 0.95946205, 0.7124909, 0.7617705, 0.41487995, 0.75159615, 0.2882362, 0.6863797, -0.0008057952, 0.37859482, 0.67177933, 0.00014567375, 0.9821515, 0.12780091, 0.17291592, 0.16797453, 0.5853816, 0.083447695, 0.5109813, 0.017675638, 0.7524189, 0.21761438, 0.122663945, 0.33411524, 0.87577224, 0.91972435, 0.5865694, 0.16827613, 0.08085349, 0.5479887, 0.6744703, 0.46611333, 0.67177933, 0.4611747, 0.25476626, 0.26272386, 0.25517854, 0.16716497, 0.7124909, 0.7090448, 0.040552557, 0.7524189, 0.92217135, 0.75474066, 0.37644848, 0.041348457, 0.16962221, 0.8827918, 0.33667815, 0.8814219, 0.4285043, 0.79534936, 0.9154502, 0.83197975, 0.7937021, 0.37060747, 0.9232428, 0.8067966, 0.37397835, 0.04911208, 0.5834607, 0.08854172, 0.25421673, 0.8350513, 0.6256647, 0.46067554, 0.017675638, 0.37320372, -0.00061008334, 0.047211826, 0.91802585, 0.044659108, 0.58482754, 0.8741522, 0.92254865, 0.0033484995, 0.42398942, 0.29974005, 0.08085349, 0.7937677, 0.504317, 0.46221787, 0.7912681, 0.9197346, 0.9210217, 0.20717287, 0.58825934, 0.665081, 0.79524326, 0.54213566, 0.20862924, 0.41992804, 0.38127276, 0.73517287, 0.4580258, 0.8328459, 0.7163936, 0.34282452, 0.9821515, 0.7100252, 0.20510454, 0.62788916, 0.16547829, 0.122663945, 0.62334204, 0.21031785, 0.4242051, 0.17609474, 0.9602226, 0.79166985, 0.29814947, 0.71272856, 0.96464074, 0.3812086, 0.3412162, 0.50747293, 0.5060533, 0.5891461, 0.29773033, 0.63064224, 0.30065143, 0.72921073, 0.5018886, 0.7588283, 0.4239419, 0.6257365, 0.9660903, 1.0007051, 0.59481376, 0.8833884, 0.5125543, 0.08601004, 0.16962221, 0.7915034, 0.37397835, 0.7100252, 0.21546014, 0.70971, 0.38195756, 0.58825934, 0.17010848, 0.12804905, 0.9947599, 0.42711526, 1.0060569, 0.7508825, 0.34230047, 0.5479887, 0.25476626, -2.0295382e-05, 0.8345729, 0.24856359, 0.29204628, 0.79404414, 0.45442072, 0.17531744, 0.042280644, 0.33636755, 0.044228286, 0.36806062, -0.00023254752, 0.6272818, 0.79524326, 0.20924853, 0.8333749, 0.7981048, 0.96942604, 0.62938696, 0.873801, 0.84000576, 0.8010305, 0.6709273, 0.5443671, 0.42257723, 0.0019423068, 0.041116267, 0.000916481, 0.73517287, 0.96075225, 0.7090448, 0.12864345, 0.3031019, 0.044248194, 0.24712192, 0.75741327, 0.128643, 0.6690352, 0.7535694, 0.5427776, 0.7912681, 0.75724906, 0.16674481, 0.6697941, 0.422597, 0.994154, 0.91802585, 0.3798295, 0.20972484, 0.21623456, 0.08515188, 0.87914014, 0.7588283, 0.9210217, 0.72921073, 0.88060033, 0.79593444, 0.8833884, 0.26272386, 0.8350513, 0.56920594, 0.9656242, 0.62566453, 1.0027574, 0.13126454, 0.7147381, 0.9608849, 0.46278462, 0.95946205, 0.74995273, 0.040467024, 0.49780115, 0.9601793, 0.21057926, 0.5422084, 0.5085759, 0.34282452, 0.047211826, 0.7979213, 0.9602226, 0.4997725, 0.3000035, 0.9582927, 0.6697941, 0.5487599, 0.58482754, 0.96219456, 0.12804905, 0.044228286, 0.16793115, 0.32838795, 0.29082054, 0.46221787, 0.1651792, 0.75474066, 0.040467024, 0.92449987, 0.7937021, 0.49045882, 0.7090448, 0.17531742, 0.28805315, 0.7100252, 0.88060033, 0.24949269, 0.20510454, 0.95946205, 0.79593444, 0.87692344, 0.96211874, 0.62334204, 0.7524189, 0.7912681, 0.33682013, 0.46906257, 0.29891503, 0.4242051, 0.8345729, 0.3267932, 0.87956655, 0.040176243, 0.69625795, 0.6644243, 1.0099759, 0.6248343, 0.33411524, 0.42062834, 0.8831916, 0.58221877, 0.08313224, 0.4611747, 0.339583, 0.37521458, 0.08386135, 0.4239419, 0.29974005, 0.84146416, 0.2502368, 0.7522366, 0.0049927533, 0.7138796, 1.0060569, 0.2885064, 0.4671775, 0.08248812, 0.41797718, 0.21031785, 0.4617131, 0.7133104, 0.71584874, 0.20717287, 0.42649823, 0.084563315, 0.9197346, 0.25421673, 0.665081, 0.71272856, 0.33800265, 0.08854172, 0.13044855, 0.95994174, 0.6278734, 0.0851686, 0.83197975, 0.92407763, 0.083447695, 0.25309893, -0.00061008334, 0.9197242, 0.7472131, 0.24856359, 0.4997725, 0.8010305, 0.3809033, 0.3031019, 0.83884716, 0.040552557, 0.044334322, 0.791301, 0.42711526, 0.8385001, 0.92407775, 0.75474066, 0.6262655, 0.665081, 0.33411524, 0.00014567375, 0.20510454, 0.37320372, 0.96942604, 1.0010011, 0.66645575, 0.4763137, 0.12502575, 0.79507506, 0.38638538, 0.91972435, 0.5045285, 0.6709273, 0.4239419, 0.5460218, 0.2533899, 0.000916481, 0.84146416, 0.45442072, 0.88060033, 0.5438644, 0.9608849, 0.505735, 0.002498597, 0.38469544, 0.42062834, 0.42257723, 0.58365065, 0.67132795, 0.16547829, 0.043560237, 0.2907992, 0.75724906, 0.6257671, 0.83168405, 0.12804905, 0.7508825, 0.25001234, 0.044228286, 1.0046657, 0.54697657, 0.7106161, 0.12739152, 0.0854103, 0.36736995, 0.017675638, 0.96075225, 0.8010305, 0.8388942, 0.4667656, 0.4285043, 0.41797718, 0.08386135, 1.0016242, 0.75159615, 0.46221787, 0.2083617, 1.0099759, 0.5109813, 0.3176235, 0.6731792, 0.83197975, 0.16674481, 0.1718732, 0.8796606, 0.41992804, 0.17010848, 0.2102586, 0.72921073, 0.1275182, 0.040552557, 0.6701168, 0.12902203, 0.38195768, 0.7103378, 0.91802585, 1.0059432, 0.75298387, 0.16827613, -0.00061008334, 0.1651792, 0.92357695, 0.13232172, 0.5457833, 0.21074864, 0.7524189, 0.08594763, 0.59084237, 0.92466474, -0.00048723817, 0.08248812, 0.083447695, 0.16793115, 0.46220765, 1.0016038, 0.2083617, 0.67132795, 0.62938696, 0.0850752, 0.4611747, 0.049412906, 0.38755494, 0.50222325, 0.72921073, 0.46067554, 0.9601793, 0.87692344, 0.6259122, 0.4763137, 0.17531744, 0.55134153, 1.0027574, 0.83884716, 0.08085349, 0.2882362, 1.0046657, 0.38469544, 0.8814219, 0.66495526, 0.42218906, 0.11845985, 0.37700912, 0.37840062, 0.8779012, 0.54697657, 0.58221877, 0.46715015, 0.33682013, 0.994154, 0.16844171, 1.0035563, 0.3812086, 0.37521458, 0.040552557, 0.8796606, 0.5437548, 0.35380265, 0.45988753, 0.87914014, 0.5109813, 0.2546024, 0.2917475, 0.8387651, 0.96942604, 0.37961861, 0.6269259, 0.34282452, 0.96211874, 0.7138796, 0.33411524, 0.96219456, 0.4614411, 0.20972484, 0.16547829, 0.79524326, 0.33688152, 0.002498597, 0.60881996, 0.5457833, 0.044334322, 0.12502575, 0.46001095, 0.087712884, 0.42257723, 0.665081, 0.08854172, 0.58444834, 0.24975213, 0.4225313, 0.95946205, 0.5043169, 0.5796257, 0.040467024, 0.2533899, 0.669773, 0.8775159, 0.75741327, 0.96451616, 0.6744703, 0.46611333, 0.6272818, 0.71584874, 0.33787912, 0.5479716, 0.25001234, 0.017675638, 0.9197242, 0.0033484995, 0.29438508, 0.7530656, 0.5797685, 0.3412162, 0.08594763, 0.88060033, 0.043560237, 0.4225313, 0.000916481, 0.8330997, 0.7540641, 0.6257365, 0.88009214, 0.54617316, 0.5125543, 0.1718732, 0.13232172, 1.0010011, 0.84000576, 0.96451616, 0.83197975, 0.8827918, 0.2533899, 0.8779012, 0.8775159, 0.041348457, 0.5880914, 0.7124909, 0.2917475, 0.6650633, 0.84146416, 0.7940441, 0.17010848, 0.7100252, -0.00061008334, 0.80679643, 0.5490147, 1.0040817, 0.5034529, 0.32838795, 0.9656242, 0.7524189, 0.20776153, 0.7040204, 0.9171014, 0.12739152, 0.8814218, 0.79593444, 0.38127276, 0.79507506, 0.8799597, 0.0851686, 0.7617705, 0.7937677, 0.9197346, 0.75474066, 0.46221787, 0.75741327, 0.29773033, 0.665653, 0.63064224, 0.9579551, 0.5457833, 0.873801, 0.30065143, 0.9651178, 0.047211826, 0.9994767, 0.33063313, 0.25421673, 0.87576604, 0.040176243, 0.9582927, 0.9608849, 0.1651792, 0.08248812, 0.994154, 0.505735, 0.2071728, 0.20510454, 0.3267932, 0.96464074, 0.04126075, 0.21057926, 0.59481376, 0.5796257, 1.0016242, 0.3350833, 0.8350513, 0.41992804, 0.16827613, 0.17005497, 0.8324387, 0.04651147, 0.7472131, 0.92407775, 0.504317, 0.5479716, 0.20972484, 0.17276897, 0.38469544, 0.24949269, 0.7535694, 0.5427776, 0.6709273, 0.21284367, 0.5797685, 0.46011844, 0.41391867, 0.17187315, 0.42656884, 1.0040817, 0.21546014, 0.20924853, 0.4242051, 0.6731792, 0.13126454, 0.29592383, 0.12780091, 0.6259122, 0.92254865, 0.2546024, 0.36806062, 0.58568823, 0.17005497, 0.9608849, 0.5427776, 0.6709273, 0.2907992, 0.62788916, 0.6663705, 0.043560237, 0.62334204, 0.8814219, 0.32838795, 0.33688152, 0.5863502, 0.08386135, 0.9154502, 0.17276897, 0.08601004, 1.009976, 0.9181762, 0.74802655, 0.12502575, 0.83845216, 0.96211874, 0.16779438, 0.33958307, 0.46067554, 0.8010305, 0.95946205, 0.72921073, 0.042280644, 0.54617304, 0.83884716, 0.20447828, 0.29204637, 0.5437548, 0.6278734, 0.5085759, 0.12798744, 0.9651178, 0.8775159, 0.50048304, 0.7588283, 0.21188222, 0.38041833, 0.4239419, 0.2932057, 0.33411524, 0.29773033, 0.000916481, 0.6644243, 0.13044855, 0.0850752, 0.66645575, 0.79423356, 0.50222325, 0.87895876, 0.12864295, 0.83830833, 0.7522366, 0.79139405, 0.70971, 0.41487995, 0.46220765, 0.79593444, 0.8333749, 0.7524189, 0.041348457, 0.5018886, 0.69625795, 0.46001095, 0.7940441, 0.25286657, 0.24439327, 0.7103379, 0.84146416, 0.6748588, 0.67431295, 0.791301, 0.75724906, 0.3818532, 0.38127276, 0.38755485, 0.16797452, 0.87895876, 0.83884716, 0.8796606, 0.8385001, 0.42516428, 0.040754825, 0.08313224, 0.3392835, 0.9651178, 0.37700912, 0.12882206, 1.0040817, 0.20862924, 0.42649823, 0.084563315, 0.9280418, 0.46906257, 0.29814947, 0.25286657, 0.17005497, 0.4614411, 0.9608849, 0.08466041, 0.12969765, 0.5060533, 0.044248194, 0.8827918, 0.5437548, 0.9947599, 0.5438644, 0.54602164, 0.08219704, 1.0063335, 0.12739155, 0.46715015, 0.5865694, 0.12864295, 0.8833884, 0.79524326, 0.9656242, 0.7180064, 0.42062834, 0.9660903, 0.21089081, 0.047211826, 0.67431295, 0.0854103, 0.41487995, -0.00048723817, 0.38041833, 0.040467024, 0.9181762, 0.62938696, 0.33411524, 1.0046047, 0.9197346, 1.0059432, 0.3267932, 0.00036633015, 0.2907992, 1.0016242, 0.40859425, 0.20972486, 0.623342, 0.041348457, 0.8345729, 0.17276897, 0.5410939, 0.7937677, 0.62566453, 0.88060033, 0.9210217, 0.50136966, 0.37397835, 0.0027434528, 0.8779012, 0.60881996, 0.5863502, 0.7937021, 0.54697657, 0.7535694, 0.74995273, 0.2563717, 0.00048810244, 0.71584874, 0.71272856, 0.8775159, 0.45442072, 0.59481376, 0.5034529, 0.79139405, 0.75298387, 0.5891461, 0.7912681, 0.50857586, 0.38638538, 0.3412162, 0.62788916, 0.7163936, 0.34230047]\n",
            "Real_abs:\n",
            "[400, 1920, 1520, 1120, 1200, 800, 320, 1200, 800, 1200, 1280, 1040, 640, 1520, 2000, 1200, 1280, 880, 720, 1440, 160, 1360, 1840, 640, 400, 1920, 2000, 80, 400, 1440, 1120, 640, 560, 1280, 960, 2000, 1920, 720, 80, 400, 320, 1280, 1840, 480, 400, 1280, 1440, 1120, 1840, 560, 2000, 1920, 1760, 1040, 1760, 1680, 1680, 1600, 560, 1920, 560, 1120, 960, 400, 240, 720, 880, 1760, 880, 1600, 1360, 880, 720, 80, 2000, 1120, 2000, 1520, 1520, 1200, 1120, 960, 1760, 320, 1760, 400, 1120, 1040, 1440, 240, 1360, 480, 720, 1040, 880, 240, 240, 560, 1280, 800, 1520, 1360, 1920, 1760, 320, 640, 2000, 480, 1280, 800, 800, 160, 1440, 1760, 800, 720, 880, 1120, 400, 1920, 560, 1280, 800, 1760, 400, 1520, 1360, 2000, 240, 2000, 240, 1120, 1920, 1760, 1680, 1040, 480, 720, 800, 1200, 640, 1680, 960, 960, 1120, 160, 1440, 560, 1840, 1600, 1840, 1440, 960, 1120, 560, 1040, 1120, 160, 400, 1600, 1760, 1920, 1760, 640, 720, 2000, 800, 1040, 560, 2000, 720, 400, 560, 1040, 2000, 80, 320, 1040, 1200, 1840, 1360, 160, 1600, 880, 1760, 720, 560, 560, 960, 880, 1360, 160, 2000, 1760, 2000, 720, 720, 720, 320, 1920, 560, 800, 640, 800, 880, 80, 1760, 160, 1520, 400, 800, 880, 320, 480, 1520, 1600, 1040, 400, 1200, 1200, 1440, 1840, 1520, 720, 1120, 1680, 1840, 560, 1520, 1120, 1680, 320, 160, 1520, 240, 400, 1520, 720, 1920, 1040, 640, 1680, 2000, 560, 400, 400, 240, 1360, 160, 2000, 1840, 1280, 160, 1680, 1760, 1520, 80, 1280, 880, 160, 240, 1520, 1520, 800, 1280, 480, 240, 80, 1440, 720, 1360, 640, 480, 1200, 720, 80, 1600, 800, 80, 880, 1280, 720, 1120, 800, 560, 1120, 1760, 640, 1440, 1120, 1840, 1440, 400, 1360, 1840, 80, 80, 480, 800, 1280, 800, 320, 1120, 880, 880, 80, 1280, 800, 1520, 1680, 240, 1120, 960, 480, 80, 2000, 320, 720, 400, 320, 560, 1920, 1360, 800, 720, 1760, 480, 480, 480, 2000, 1280, 1760, 160, 1920, 1600, 800, 2000, 80, 1440, 560, 2000, 1840, 800, 1840, 2000, 160, 400, 1200, 1760, 480, 800, 1840, 1680, 320, 560, 480, 2000, 560, 1120, 1680, 640, 400, 160, 1600, 1120, 160, 1200, 1680, 320, 1040, 640, 1680, 1920, 1200, 1360, 1040, 1280, 720, 1360, 1840, 240, 1040, 1200, 1920, 80, 1360, 240, 1040, 1760, 1840, 80, 480, 720, 240, 960, 1840, 640, 880, 640, 240, 320, 960, 1920, 720, 2000, 320, 800, 720, 1840, 1040, 320, 1120, 1200, 2000, 1920, 880, 400, 640, 480, 1280, 1920, 720, 960, 720, 400, 1840, 1520, 1520, 1840, 1120, 400, 400, 320, 640, 1760, 1920, 1200, 80, 1680, 880, 1520, 400, 1680, 640, 160, 1360, 1760, 1920, 720, 1920, 1360, 1040, 960, 1120, 800, 1840, 560, 240, 1840, 1120, 800, 400, 560, 880, 480, 1760, 400, 880, 1520, 1200, 1040, 240, 1200, 800, 80, 240, 1440, 160, 1040, 1040, 240, 1120, 1840, 1360, 1680, 1200, 560, 1280, 1360, 720, 400, 1360, 320, 1440, 1760, 1200, 1360, 80, 240, 400, 400, 1280, 400, 1200, 80, 1200, 400, 800, 1760, 2000, 1520, 160, 480, 1440, 800, 2000, 1280, 400, 240, 880, 2000, 1280, 400, 1680, 1840, 80, 1920, 560, 240, 1920, 960, 1360, 240, 480, 1360, 1680, 1520, 1040, 640, 1840, 2000, 320, 480, 80, 1680, 880, 1600, 320, 80, 80, 1840, 1600, 2000, 1520, 1200, 1120, 1920, 640, 640, 480, 320, 1600, 640, 640, 240, 880, 1840, 880, 320, 320, 1440, 400, 1840, 1440, 80, 1040, 2000, 1360, 800, 1200, 320, 1520, 640, 800, 880, 1600, 1280, 960, 560, 1280, 160, 400, 80, 480, 1200, 1440, 960, 2000, 480, 960, 320, 2000, 1680, 1680, 480, 80, 800, 80, 320, 800, 1760, 240, 1120, 960, 1040, 400, 1600, 1040, 1120, 1760, 1520, 720, 1920, 1200, 880, 160, 1280, 960, 1440, 1440, 1680, 1840, 1120, 1360, 1200, 1360, 560, 1680, 960, 1200, 1600, 400, 320, 960, 320, 1680, 880, 1600, 2000, 960, 80, 640, 1520, 640, 1680, 880, 1600, 480, 1520, 240, 1520, 2000, 2000, 560, 320, 1520, 1520, 560, 1840, 1280, 800, 480, 800, 1040, 800, 960, 2000, 1440, 640, 320, 800, 80, 400, 880, 1760, 1040, 2000, 720, 1120, 1760, 480, 1120, 640, 1680, 1440, 960, 1760, 320, 1120, 1920, 1760, 960, 1120, 1440, 80, 880, 1920, 800, 400, 1040, 560, 800, 1600, 1360, 400, 1680, 480, 480, 240, 1360, 320, 800, 1760, 1920, 1520, 1200, 240, 320, 800, 1600, 1600, 1440, 160, 720, 1920, 1840, 640, 160, 160, 1920, 720, 80, 1840, 1840, 1520, 960, 80, 1280, 800, 1920, 960, 1520, 1280, 1600, 320, 1360, 1520, 1760, 1440, 1760, 240, 1200, 800, 240, 1600, 400, 640, 560, 1440, 1760, 1280, 800, 1520, 1440, 240, 1040, 720, 1920, 640, 2000, 640, 1200, 1280, 720, 160, 400, 400, 560, 1840, 1040, 1920, 1680, 1040, 560, 1440, 1520, 480, 480, 800, 1600, 480, 320, 1760, 1840, 400, 1280, 1920, 2000, 320, 320, 960, 1680, 1600, 1360, 1920, 2000, 1360, 1840, 80, 640, 240, 1440, 1440, 1600, 480, 1760, 400, 1200, 320, 2000, 1360, 880, 400, 1040, 640, 1840, 1120, 1280, 160, 1120, 480, 560, 640, 1040, 1440, 800, 400, 240, 1680, 1520, 1600, 1200, 1840, 160, 1760, 320, 800, 560, 80, 480, 1920, 1520, 1760, 640, 1120, 720, 1920, 400, 1120, 880, 1280, 1040, 1680, 400, 560, 1520, 720, 160, 800, 1040, 1520, 1760, 560, 400, 1760, 960, 1840, 1680, 800, 880, 800, 720, 2000, 1760, 560, 640, 960, 1520, 1920, 1760, 80, 1600, 1360, 1600, 1280, 400, 480, 1680, 2000, 1280, 1200, 960, 80, 560, 320, 1920, 960, 480, 400, 480, 1840, 1600, 1920, 320, 1040, 400, 1120, 240, 160, 1760, 1200, 560, 1680, 1680, 1840, 1920, 1680, 160, 1040, 960, 1920, 160, 1680, 960, 240, 1840, 1840, 1920, 560, 480, 1760, 1360, 1680, 1200, 1760, 1680, 1280, 1120, 1120, 240, 80, 1920, 1440, 1200, 1360, 160, 2000, 2000, 1520, 1040, 640, 880, 160, 1760, 160, 480, 1040, 1920, 1360, 160, 80, 560, 1200, 1040, 1600, 2000, 1200, 400, 1760, 1600, 560, 1520, 1280, 160, 800, 1760, 640, 720, 1520, 160, 1520, 80, 1920, 640, 1680, 80, 1040, 240, 720, 1680, 560, 880, 1520, 1280, 1760, 1520, 1280, 1760, 1920, 1840, 1120, 320, 1280, 720, 1280, 1040, 1920, 1600, 1280, 80, 960, 240, 1280, 80, 960, 1280, 320, 480, 960, 1280, 1360, 2000, 1120, 1840, 1600, 1840, 240, 560, 1840, 1040, 1360, 720, 960, 720, 1040, 1360, 960, 160, 480, 1680, 640, 1520, 80, 1920, 1680, 80, 1520, 1520, 400, 640, 1760, 240, 400, 800, 240, 1760, 480, 640, 1040, 560, 1360, 400, 880, 800, 880, 1680, 80, 560, 160, 1600, 1520, 80, 400, 560, 1440, 240, 160, 1680, 1600, 80, 640, 480, 320, 640, 1040, 80, 960, 400, 1600, 1360, 1200, 160, 1200, 1760, 720, 560, 2000, 320, 1520, 1760, 1280, 1040, 800, 1680, 1680, 880, 1680, 880, 720, 1120, 800, 640, 640, 1760, 1440, 1840, 1840, 1840, 1600, 560, 960, 1280, 1440, 80, 160, 320, 240, 240, 400, 800, 1840, 720, 880, 320, 240, 160, 1120, 240, 160, 1760, 240, 1200, 1600, 1520, 240, 1120, 320, 800, 400, 1360, 960, 640, 160, 1120, 1280, 1040, 480, 720, 1920, 800, 1840, 1040, 720, 1440, 960, 80, 1360, 80, 640, 1600, 400, 400, 560, 800, 560, 2000, 720, 1760, 1360, 1040, 1280, 1440, 640, 960, 1440, 1600, 1280, 240, 480, 1360, 160, 80, 560, 800, 1280, 80, 800, 960, 880, 720, 1840, 560, 640, 880, 1840, 960, 960, 1520, 1360, 1360, 1520, 1840, 1920, 880, 720, 880, 1600, 1920, 80, 480, 240, 320, 640, 1200, 880, 560, 160, 1520, 1280, 480, 1120, 400, 1040, 80, 960, 1920, 640, 1600, 1280, 880, 560, 880, 1520, 1440, 320, 1040, 240, 960, 800, 480, 1120, 400, 880, 1280, 1840, 640, 1120, 1360, 1360, 640, 1280, 1440, 640, 1120, 1040, 80, 160, 880, 1200, 160, 480, 720, 240, 1360, 1600, 240, 1600, 1760, 400, 560, 1920, 160, 1520, 1760, 960, 1040, 960, 400, 1360, 1440, 1360, 2000, 2000, 1760, 1680, 240, 1680, 960, 2000, 960, 80, 1520, 80, 400, 160, 1200, 880, 1680, 1040, 1280, 1840, 480, 1280, 960, 720, 240, 1120, 1840, 1840, 1200, 1680, 880, 1280, 880, 1840, 640, 960, 480, 640, 1440, 1840, 240, 720, 1280, 1760, 560, 1520, 1120, 1440, 1840, 1680, 1280, 1680, 880, 1440, 800, 640, 1200, 960, 1920, 320, 1120, 1520, 880, 1360, 640, 320, 2000, 560, 1760, 1600, 1440, 1120, 1520, 800, 960, 1760, 80, 240, 1040, 80, 1680, 560, 1520, 1280, 480, 960, 800, 1280, 720, 1440, 1200, 1920, 1200, 1760, 560, 80, 160, 800, 2000, 880, 400, 320, 960, 1680, 720, 1120, 1440, 1440, 240, 400, 1360, 400, 800, 2000, 640, 560, 1200, 1520, 320, 1840, 1840, 1680, 1200, 1680, 1600, 320, 1040, 160, 1280, 480, 1760, 160, 2000, 400, 1760, 2000, 1120, 160, 80, 1920, 80, 1440, 1360, 1840, 80, 240, 400, 1360, 1680, 1920, 880, 240, 80, 400, 1600, 240, 400, 640, 1360, 320, 880, 960, 320, 560, 1360, 1680, 160, 400, 1360, 1280, 560, 480, 1920, 1200, 1040, 320, 1520, 880, 160, 800, 1120, 1360, 480, 1200, 800, 1440, 1280, 1520, 1280, 1920, 320, 800, 1680, 160, 80, 1200, 1040, 640, 1920, 720, 1200, 80, 560, 1200, 480, 160, 1920, 2000, 1760, 1440, 320, 1600, 800, 1280, 880, 1760, 1920, 240, 1840, 80, 960, 1120, 240, 1520, 1120, 80, 1280, 80, 1440, 160, 1520, 560, 400, 1840, 1360, 320, 1840, 800, 1120, 560, 720, 1280, 320, 2000, 80, 1600, 1920, 1920, 1120, 800, 640, 160, 1520, 880, 1200, 720, 1600, 1360, 1280, 480, 1120, 1920, 1600, 1040, 1600, 1680, 400, 1920, 320, 320, 1360, 1200, 1200, 720, 1760, 1120, 1520, 320, 480, 1440, 1680, 1440, 1200, 1440, 880, 1120, 320, 320, 640, 400, 1600, 880, 480, 960, 320, 1520, 480, 80, 1520, 1360, 560, 400, 720, 880, 320, 1280, 1120, 1680, 1120, 640, 560, 1760, 160, 1680, 240, 1600, 1440, 160, 1360, 1120, 1360, 1360, 640, 960, 1280, 1200, 1120, 2000, 1440, 2000, 1680, 800, 1600, 1920, 1600, 1040, 240, 1760, 1040, 1920, 1840, 1200, 1600, 960, 240, 880, 480, 720, 880, 720, 1760, 1520, 640, 1040, 560, 1360, 240, 1600, 880, 1680, 1920, 1440, 960, 560, 1520, 640, 1200, 80, 800, 1360, 80, 2000, 320, 400, 400, 1200, 240, 800, 1760, 1520, 480, 320, 720, 1760, 1840, 1200, 400, 240, 1120, 1360, 960, 1360, 960, 560, 560, 560, 400, 1440, 1440, 160, 1520, 1840, 1520, 800, 160, 400, 1760, 720, 1760, 400, 1600, 1840, 1680, 1600, 800, 1840, 1840, 800, 160, 1200, 240, 560, 1680, 1280, 1920, 1760, 800, 80, 160, 1840, 160, 1200, 1760, 1840, 80, 880, 640, 240, 1600, 1040, 960, 1600, 1840, 1840, 480, 1200, 1360, 1600, 1120, 480, 880, 1120, 1280, 960, 1680, 1440, 720, 2000, 1440, 480, 1280, 400, 320, 1280, 480, 880, 160, 1920, 1600, 640, 1440, 1920, 800, 720, 1040, 1040, 1200, 640, 1280, 640, 1920, 1040, 1520, 880, 1280, 1920, 2000, 1600, 1760, 1040, 240, 400, 1600, 800, 1440, 480, 1440, 800, 1200, 400, 320, 2000, 880, 2000, 1520, 720, 1120, 560, 80, 1680, 560, 640, 1600, 960, 400, 160, 720, 160, 800, 80, 1280, 1600, 480, 1680, 1600, 1920, 1280, 1760, 1680, 1600, 1360, 1120, 880, 80, 160, 80, 1280, 1920, 1440, 320, 640, 160, 560, 1520, 320, 1360, 1520, 1120, 1600, 1520, 400, 1360, 880, 2000, 1840, 800, 480, 80, 240, 1760, 1520, 1840, 1920, 1760, 1600, 1760, 560, 1680, 1360, 1920, 1280, 2000, 320, 1440, 1920, 960, 1920, 1520, 160, 1040, 1920, 480, 1120, 1040, 720, 160, 1600, 1920, 1040, 640, 1920, 1360, 1120, 1200, 1920, 320, 160, 400, 720, 640, 960, 400, 1520, 160, 1840, 1600, 1680, 1440, 400, 640, 1440, 1760, 560, 480, 1920, 1600, 1760, 1920, 1280, 1520, 1600, 720, 1760, 640, 880, 1680, 720, 1760, 160, 1440, 1360, 2000, 1280, 720, 880, 1760, 1200, 240, 960, 720, 800, 240, 880, 640, 1680, 560, 1520, 80, 1440, 2000, 640, 960, 240, 880, 480, 960, 1440, 1440, 480, 880, 240, 1840, 560, 1360, 1440, 720, 240, 320, 1920, 1280, 240, 1680, 1840, 240, 560, 80, 1840, 1520, 560, 1040, 1600, 800, 640, 1680, 160, 160, 1600, 880, 1680, 1840, 1520, 1280, 1360, 720, 80, 480, 800, 1920, 2000, 1360, 960, 320, 1680, 1040, 1840, 1040, 1360, 880, 1120, 560, 80, 1680, 960, 1760, 1120, 1920, 1040, 80, 800, 880, 880, 1200, 1360, 400, 160, 640, 1520, 1280, 1680, 320, 1520, 560, 160, 2000, 1120, 1440, 320, 240, 240, 1760, 1920, 1600, 1680, 960, 400, 880, 240, 2000, 1520, 960, 480, 2000, 800, 320, 1360, 1680, 400, 400, 1760, 880, 400, 480, 1920, 320, 160, 1360, 320, 800, 1440, 1840, 2000, 1520, 400, 80, 400, 1840, 320, 1120, 480, 1520, 240, 1200, 1840, 80, 240, 240, 400, 960, 2000, 480, 1360, 1280, 240, 960, 160, 800, 1040, 1920, 1920, 1920, 1760, 1280, 960, 400, 1120, 2000, 1680, 240, 640, 2000, 800, 1760, 1360, 880, 320, 800, 800, 1760, 1120, 1200, 960, 720, 2000, 400, 2000, 800, 800, 160, 1760, 1120, 880, 960, 1760, 800, 560, 640, 1680, 1920, 800, 1280, 720, 1920, 1440, 720, 1920, 960, 480, 400, 1600, 720, 80, 2000, 1120, 160, 320, 960, 240, 880, 1360, 240, 1200, 560, 880, 1920, 1040, 1200, 160, 560, 1360, 1760, 1520, 1920, 1360, 960, 1280, 1440, 720, 1120, 560, 1760, 1840, 80, 640, 1520, 1200, 720, 240, 1760, 160, 880, 80, 1680, 1520, 1280, 1760, 1120, 1040, 400, 320, 2000, 1680, 1920, 1680, 1760, 560, 1760, 1760, 160, 1200, 1440, 640, 1360, 1680, 1600, 400, 1440, 80, 1840, 1120, 2000, 1040, 720, 1920, 1520, 480, 1440, 1840, 320, 1760, 1600, 1120, 1680, 1760, 240, 960, 1600, 1840, 1520, 960, 1520, 640, 1360, 1280, 1920, 1120, 1760, 640, 1920, 160, 2000, 720, 560, 1760, 160, 1920, 1920, 400, 240, 2000, 1040, 480, 480, 720, 1920, 160, 480, 1600, 1200, 2000, 720, 1680, 880, 400, 400, 1680, 160, 1520, 1840, 1040, 1120, 480, 400, 800, 560, 1520, 1120, 1360, 480, 1200, 960, 880, 400, 880, 2000, 480, 480, 880, 1360, 320, 640, 320, 1280, 1840, 560, 800, 1200, 400, 1920, 1120, 1360, 640, 1280, 1360, 160, 1280, 1760, 720, 720, 1200, 240, 1840, 400, 240, 2000, 1840, 1520, 320, 1680, 1920, 400, 720, 1920, 1600, 1920, 1920, 160, 1120, 1680, 480, 640, 1120, 1280, 1040, 320, 1920, 1760, 1040, 1520, 480, 800, 880, 640, 720, 640, 80, 1360, 320, 240, 1360, 1600, 1040, 1760, 320, 1680, 1520, 1600, 1440, 560, 960, 1600, 1680, 1520, 160, 1040, 1440, 960, 1600, 560, 560, 1440, 1680, 1360, 1360, 1600, 1520, 800, 1120, 800, 400, 1760, 1680, 1760, 1680, 880, 160, 240, 720, 1920, 800, 320, 2000, 480, 880, 240, 1840, 1760, 640, 560, 400, 960, 1920, 240, 320, 1040, 160, 1760, 1120, 2000, 1120, 1120, 240, 2000, 320, 960, 1200, 320, 1760, 1600, 1920, 1440, 880, 1920, 480, 160, 1360, 240, 560, 80, 800, 160, 1840, 1280, 720, 2000, 1840, 2000, 720, 80, 640, 2000, 720, 480, 1280, 160, 1680, 400, 1120, 1600, 1280, 1760, 1840, 1040, 800, 80, 1760, 2000, 1200, 1600, 1120, 1520, 1520, 560, 80, 1440, 1440, 1760, 960, 1600, 1040, 1600, 1520, 1200, 1600, 1040, 1040, 720, 1280, 1440, 720]\n",
            "Pred_abs:\n",
            "[ 402.42783 1932.1102  1536.9503  ... 1285.5471  1455.4757   737.2169 ]\n"
          ]
        },
        {
          "output_type": "display_data",
          "data": {
            "text/plain": [
              "<Figure size 432x288 with 1 Axes>"
            ],
            "image/png": "[encoded data removed]"
          },
          "metadata": {
            "needs_background": "light"
          }
        },
        {
          "output_type": "display_data",
          "data": {
            "text/plain": [
              "<Figure size 432x288 with 1 Axes>"
            ],
            "image/png": "[encoded data removed]"
          },
          "metadata": {
            "needs_background": "light"
          }
        }
      ]
    },
    {
      "cell_type": "markdown",
      "source": [
        "# Short-cut"
      ],
      "metadata": {
        "id": "2Kx_wOsmPX4i"
      }
    },
    {
      "cell_type": "code",
      "source": [
        "def get_reference_and_sample_data(working_df, num_reference):\n",
        "  import random\n",
        "  num_of_ids = len(working_df['PBRS_id'].unique())\n",
        "\n",
        "  l = list(range(1, num_of_ids+1))\n",
        "  random.shuffle(l)\n",
        "  reference_arr = (l[:num_reference])\n",
        "  sample_arr = l[-(num_of_ids-num_reference):]\n",
        "\n",
        "  reference_data_df = working_df[working_df['PBRS_id'].isin(reference_arr)]\n",
        "  sample_data_df = working_df[working_df['PBRS_id'].isin(sample_arr)]\n",
        "  \n",
        "  return reference_data_df, sample_data_df\n",
        "\n",
        "def frequencies_filter(df, num_selected_freq=20):\n",
        "  info_df = df.iloc[:, 0:6]\n",
        "  data_df = df.iloc[:, 6:df.shape[1]]\n",
        "  span_val = int(data_df.shape[1]/num_selected_freq)\n",
        "  for i in range(num_selected_freq):\n",
        "    df2 = data_df.iloc[:, (i+1)*span_val].to_frame()\n",
        "    if i+1 == 1:\n",
        "      new_df = df2\n",
        "    else:\n",
        "      new_df = pd.merge(new_df, df2, left_index=True, right_index=True)\n",
        "  new_df = info_df.join(new_df)\n",
        "  \n",
        "  return new_df\n",
        "\n",
        "def get_idx_train_test_split(working_df, trainingProp = 0.8):\n",
        "  rows_training = np.array([])\n",
        "  rows_testing = np.array([])\n",
        "  distances = [x*80 for x in range(1, 26)]\n",
        "  for d in distances:\n",
        "    distance_working_df = working_df.loc[working_df['Distance_km'] == d]\n",
        "    rows_mixed=np.random.permutation(distance_working_df.shape[0])\n",
        "\n",
        "    training_amt = math.ceil(distance_working_df.shape[0]*trainingProp)\n",
        "    testing_amt = distance_working_df.shape[0] - training_amt\n",
        "\n",
        "    rows_training = np.append(rows_training, rows_mixed[:training_amt])\n",
        "    rows_testing = np.append(rows_testing, rows_mixed[-testing_amt:])\n",
        "  \n",
        "  rows_training = rows_training.astype('int').tolist()\n",
        "  rows_testing = rows_testing.astype('int').tolist()\n",
        "\n",
        "  return rows_training, rows_testing\n",
        "\n",
        "# Load network\n",
        "from keras.models import Sequential\n",
        "from keras.layers import Dense,Conv2D, Flatten\n",
        "from keras.wrappers.scikit_learn import KerasRegressor\n",
        "from keras.callbacks import EarlyStopping\n",
        "from tqdm.keras import TqdmCallback\n",
        "\n",
        "def ann():\n",
        "    model = Sequential()\n",
        "    model.add(Dense(76, input_dim = 7, activation = 'tanh'))\n",
        "    model.add(Dense(38,activation='tanh'))\n",
        "    model.add(Dense(38,activation='tanh'))\n",
        "    model.add(Dense(19,activation='tanh'))\n",
        "    model.add(Dense(19,activation='tanh'))\n",
        "    model.add(Dense(9,activation='tanh'))\n",
        "    model.add(Dense(9,activation='tanh'))\n",
        "    model.add(Dense(1))\n",
        "    model.compile(loss ='mean_squared_error',optimizer = 'RMSprop')\n",
        "    return model\n",
        "\n",
        "def get_feature(data_split_df, reference_freq_data_df, reference_distance_eval_params=(False, 80)):\n",
        "  reference_eval = reference_freq_data_df.copy()\n",
        "  if reference_distance_eval_params[0] == True:\n",
        "    reference_eval = reference_freq_data_df.loc[reference_freq_data_df['Distance_km'] == reference_distance_eval_params[1]]\n",
        "\n",
        "  data_distance = []\n",
        "  data_mean = []\n",
        "  data_std = []\n",
        "  data_pearson_min = []\n",
        "  data_pearson_mean = []\n",
        "  data_pearson_max = []\n",
        "  data_CI_lower = []\n",
        "  data_CI_upper = []\n",
        "\n",
        "  for idx in tqdm(range(len(data_split_df))):\n",
        "    Y_label = data_split_df.iloc[idx, 3]\n",
        "    X_label = data_split_df.iloc[idx, 6:data_split_df.shape[1]]\n",
        "    data_distance.append(int(Y_label))\n",
        "    data_std.append(round(np.std(X_label), 5))\n",
        "    data_mean.append(round(np.mean(X_label), 5))\n",
        "    \n",
        "    data_ci = st.t.interval(alpha=0.90, df=len(X_label)-1, loc=np.mean(X_label), scale=st.sem(X_label))\n",
        "    data_confidence_int_lower = data_ci[0]\n",
        "    data_confidence_int_upper = data_ci[1]\n",
        "\n",
        "    pearson_vals = []\n",
        "    ci_lower_delta = []\n",
        "    ci_upper_delta = []\n",
        "    for reference_idx in range(len(reference_eval)):\n",
        "      X_reference = reference_eval.iloc[reference_idx, 6:reference_eval.shape[1]]\n",
        "      pearson_vals.append(round(pearsonr(X_label, X_reference)[0], 5))\n",
        "\n",
        "      reference_ci = st.t.interval(alpha=0.90, df=len(X_reference)-1, loc=np.mean(X_reference), scale=st.sem(X_reference))\n",
        "      reference_confidence_int_lower = reference_ci[0]\n",
        "      reference_confidence_int_upper = reference_ci[1]\n",
        "\n",
        "      delta_ci_lower = abs(reference_confidence_int_lower - data_confidence_int_lower)\n",
        "      ci_lower_delta.append(round(delta_ci_lower, 5))\n",
        "      delta_ci_upper = abs(reference_confidence_int_upper - data_confidence_int_upper)\n",
        "      ci_upper_delta.append(round(delta_ci_upper, 5))\n",
        "\n",
        "    data_pearson_min.append(np.min(pearson_vals))\n",
        "    data_pearson_mean.append(np.mean(pearson_vals))    \n",
        "    data_pearson_max.append(np.max(pearson_vals))\n",
        "\n",
        "    data_CI_lower.append(np.min(ci_lower_delta))\n",
        "    data_CI_upper.append(np.min(ci_upper_delta))\n",
        "\n",
        "  data = {'distance':data_distance,\n",
        "                  'mean':data_mean,\n",
        "                  'std':data_std,\n",
        "                  'pearson_min':data_pearson_min,\n",
        "                  'pearson_mean':data_pearson_mean,\n",
        "                  'pearson_max':data_pearson_max,\n",
        "                  'delta_CI_min':data_CI_lower,\n",
        "                  'delta_CI_max':data_CI_upper}\n",
        "\n",
        "  data_df = pd.DataFrame(data)\n",
        "  return data_df"
      ],
      "metadata": {
        "id": "PEUYbMvql5Ai"
      },
      "execution_count": 21,
      "outputs": []
    },
    {
      "cell_type": "code",
      "source": [
        "train_df = pd.read_csv(path+\"/Spectrum/NN/train_test_splits/mod_bootstraped_new_data_training_data_NN_freq_10_reference_30.csv\")\n",
        "test_df = pd.read_csv(path+\"/Spectrum/NN/train_test_splits/mod_bootstraped_new_data_testing_data_NN_freq_10_reference_30.csv\")\n",
        "\n",
        "reference_freq_data_df = pd.read_csv(path+\"/Spectrum/NN/train_test_splits/mod_bootstraped_new_data_Reference_NN_freq_10_reference_30.csv\")\n",
        "sample_freq_data_df = pd.read_csv(path+\"/Spectrum/NN/train_test_splits/mod_bootstraped_new_data_Sample_NN_freq_10_reference_30.csv\")\n",
        "\n",
        "with open(path+\"/Spectrum/NN/train_test_splits/mod_bootstraped_traininig_Rows_NN_freq_10_reference_30.pkl\", 'rb') as f:\n",
        "  rows_training = pickle.load(f)\n",
        "with open(path+\"/Spectrum/NN/train_test_splits/mod_bootstraped_testing_Rows_NN_freq_10_reference_30.pkl\", 'rb') as f:\n",
        "  rows_testing = pickle.load(f) "
      ],
      "metadata": {
        "id": "-s_khYUdNgcL"
      },
      "execution_count": 22,
      "outputs": []
    },
    {
      "cell_type": "code",
      "source": [
        "num_of_freq_selected = 10\n",
        "reference_amt = 30\n",
        "\n",
        "# Load network\n",
        "from keras.models import load_model\n",
        "mm = KerasRegressor(build_fn=ann, epochs=8000, batch_size=32, verbose=0)\n",
        "mm.model = load_model(path+\"/Spectrum/NN/NNs/mod_bootstraped_final_new_data_NN_model_freq_10_reference_30.h5\")\n",
        "\n",
        "res = {}\n",
        "reference_test = [80, 1040, 2000]\n",
        "distances = [x*80 for x in range(1, 26)]\n",
        "\n",
        "#Y = train_df.iloc[:, 0].to_numpy().reshape(-1,1)\n",
        "#X = train_df.iloc[:, 1:train_df.shape[1]-2]\n",
        "\n",
        "#sc_input = MinMaxScaler()\n",
        "#sc_output = MinMaxScaler()\n",
        "#Y_train = sc_output.fit_transform(Y) # convert distances to values from 0 to 1\n",
        "#X_train = sc_input.fit_transform(X) # convert features to values from 0 to 1\n",
        "\n",
        "for r in reference_test:\n",
        "  test_split = sample_freq_data_df.iloc[rows_testing]\n",
        "  test_df = get_feature(test_split, reference_freq_data_df, reference_distance_eval_params=(True, r))\n",
        "  \n",
        "  dist_min=sc_output_c.data_min_[0] # 80\n",
        "  dist_max=sc_output_c.data_max_[0] # 2000\n",
        "\n",
        "  Y = test_df.iloc[:, 0].to_numpy().reshape(-1,1)\n",
        "  X = test_df.iloc[:, 1:test_df.shape[1]]\n",
        "\n",
        "  Y_test = sc_output_c.fit_transform(Y) # convert distances to values from 0 to 1\n",
        "  X_test = sc_input_c.fit_transform(X) # convert features to values from 0 to 1\n",
        "\n",
        "  # Prediction\n",
        "  Y_test_pred=mm.predict(X_test)\n",
        "  pred=list(Y_test_pred)\n",
        "\n",
        "  real=list(list(zip(*Y_test))[0])\n",
        "  real_abs=np.add(dist_min,np.multiply((dist_max-dist_min),real)) # convert back to distances values from scalar\n",
        "  real_abs=[int(np.round(i)) for i in real_abs]\n",
        "  pred_abs=np.add(dist_min,np.multiply((dist_max-dist_min),pred)) # convert back to distances values from scalar\n",
        "\n",
        "  real_split ={}\n",
        "  for d in distances:\n",
        "    matches = [i for i in range(0,len(real_abs)) if real_abs[i]==d]\n",
        "    real_split[d] = matches\n",
        "  \n",
        "  pred_res = []\n",
        "  pred_m = []\n",
        "  for d_real, matches_idx in real_split.items():\n",
        "    pred_m = [pred_abs[i] for i in matches_idx]\n",
        "    Q1 = np.percentile(pred_m, 25,interpolation = 'midpoint')\n",
        "    Q3 = np.percentile(pred_m, 75,interpolation = 'midpoint')\n",
        "\n",
        "    IQR = Q3 - Q1\n",
        "    upper = Q3+1.5*IQR\n",
        "    lower = Q1-1.5*IQR\n",
        "    filtered_pred_m = []\n",
        "    for v in pred_m:\n",
        "      if v <= upper and v >= lower:\n",
        "        filtered_pred_m.append(v)\n",
        "    pred_res.append(round(np.mean(filtered_pred_m), 5))\n",
        "  \n",
        "  res[r] = pred_res\n",
        "print('-----------------------------------------------------------------------')\n",
        "print('Resuslts')\n",
        "\n",
        "plt.figure(figsize=(15, 10))\n",
        "plt.plot(distances, distances,  linestyle='--')\n",
        "for re in reference_test:\n",
        "  plt.plot(distances, res[re], label='Reference '+str(re))\n",
        "\n",
        "plt.title('Real vs Predicted Distances')\n",
        "plt.xlabel('Real Distances')\n",
        "plt.ylabel('Predicted Distances')\n",
        "plt.xlim(np.min(distances)-25, np.max(distances)+25)\n",
        "plt.ylim(np.min(distances)-25, np.max(distances)+25)\n",
        "plt.yticks(distances)\n",
        "plt.xticks(distances)\n",
        "plt.legend(loc=\"best\")\n",
        "plt.show()\n",
        "\n",
        "for re in reference_test:\n",
        "  print(res[re])\n",
        "\n",
        "print('-----------------------------------------------------------------------')"
      ],
      "metadata": {
        "id": "UictGjFkIqr1",
        "colab": {
          "base_uri": "https://localhost:8080/",
          "height": 803
        },
        "outputId": "7da6e7b3-4d2e-422d-d1fb-c2a13137d8d9"
      },
      "execution_count": null,
      "outputs": [
        {
          "output_type": "stream",
          "name": "stderr",
          "text": [
            "100%|██████████| 2350/2350 [01:27<00:00, 26.72it/s]\n",
            "100%|██████████| 2350/2350 [01:27<00:00, 26.80it/s]\n",
            "100%|██████████| 2350/2350 [01:27<00:00, 26.83it/s]\n"
          ]
        },
        {
          "output_type": "stream",
          "name": "stdout",
          "text": [
            "-----------------------------------------------------------------------\n",
            "Resuslts\n"
          ]
        },
        {
          "output_type": "display_data",
          "data": {
            "text/plain": [
              "<Figure size 1080x720 with 1 Axes>"
            ],
            "image/png": "[encoded data removed]"
          },
          "metadata": {
            "needs_background": "light"
          }
        },
        {
          "output_type": "stream",
          "name": "stdout",
          "text": [
            "[222.932, 512.666, 490.49713, 549.1902, 556.6037, 511.7939, 551.27686, 468.74677, 492.4384, 560.891, 503.5778, 574.2121, 547.269, 574.0205, 598.177, 561.4777, 557.0891, 565.71814, 568.44763, 509.87753, 534.25024, 602.7348, 622.1274, 616.5596, 611.02185]\n",
            "[532.76117, 420.83167, 454.45233, 466.17487, 395.75555, 430.09164, 395.33295, 621.9601, 503.39075, 570.90686, 610.08765, 740.183, 740.1426, 697.84814, 749.5245, 767.6574, 797.0409, 863.6124, 758.9235, 848.8501, 831.0822, 917.6256, 963.5928, 897.634, 898.38586]\n",
            "[473.03897, 292.83344, 438.14062, 464.80136, 415.70667, 536.5256, 498.03, 483.52295, 616.47626, 709.08575, 735.45154, 866.3345, 813.4012, 677.9605, 822.62494, 821.88544, 903.01855, 865.82355, 849.8777, 976.2894, 969.93994, 1149.986, 1019.1401, 1057.9479, 1118.5428]\n",
            "-----------------------------------------------------------------------\n"
          ]
        }
      ]
    },
    {
      "cell_type": "markdown",
      "source": [
        "# Test only pearson"
      ],
      "metadata": {
        "id": "y6uYJIMQznvg"
      }
    },
    {
      "cell_type": "code",
      "source": [
        "# Load network\n",
        "from keras.models import Sequential\n",
        "from keras.layers import Dense,Conv2D, Flatten\n",
        "from keras.wrappers.scikit_learn import KerasRegressor\n",
        "from keras.callbacks import EarlyStopping\n",
        "from tqdm.keras import TqdmCallback\n",
        "\n",
        "def ann():\n",
        "  model = Sequential()\n",
        "  model.add(Dense(76, input_dim = 3, activation = 'tanh'))\n",
        "  model.add(Dense(38,activation='tanh'))\n",
        "  model.add(Dense(19,activation='tanh'))\n",
        "  model.add(Dense(1))\n",
        "  model.compile(loss ='mean_squared_error',optimizer = 'RMSprop')\n",
        "  return model"
      ],
      "metadata": {
        "id": "yXo1Twr-1eoi"
      },
      "execution_count": null,
      "outputs": []
    },
    {
      "cell_type": "code",
      "source": [
        "def train_model(X_train, Y_train):\n",
        "  print('Training model (freq_'+str(num_of_freq_selected)+'_reference_'+str(reference_amt)+')...')\n",
        "  from keras.models import Sequential\n",
        "  from keras.layers import Dense,Conv2D, Flatten\n",
        "  from keras.wrappers.scikit_learn import KerasRegressor\n",
        "  from keras.callbacks import EarlyStopping\n",
        "  from tqdm.keras import TqdmCallback\n",
        "\n",
        "  def ann():\n",
        "      model = Sequential()\n",
        "      model.add(Dense(76, input_dim = 3, activation = 'tanh'))\n",
        "      model.add(Dense(38,activation='tanh'))\n",
        "      model.add(Dense(19,activation='tanh'))\n",
        "      model.add(Dense(1))\n",
        "      model.compile(loss ='mean_squared_error',optimizer = 'RMSprop')\n",
        "      return model\n",
        "\n",
        "  model_ann = KerasRegressor(build_fn=ann,epochs=5000,batch_size=32, verbose=0)\n",
        "\n",
        "  start_time = time.time()\n",
        "  callback = [EarlyStopping(monitor='loss', patience=500)]#, TqdmCallback(verbose=2)]\n",
        "  model_ann.fit(X_train, Y_train, callbacks=callback)\n",
        "  time_train_ann = time.time() - start_time\n",
        "\n",
        "  # Save model\n",
        "  #pickle.dump(model_ann,open(path+\"/Spectrum/NN/NNs/NN_model_freq_\"+str(num_of_freq_selected)+\"_reference_\"+str(reference_amt)+\".pkl\",\"wb\"))\n",
        "\n",
        "  if os.path.isfile(path+\"/Spectrum/NN/NNs/pearson_new_data_NN_model_freq_\"+str(num_of_freq_selected)+\"_reference_\"+str(reference_amt)+\".h5\") is False:\n",
        "    model_ann.model.save(path+\"/Spectrum/NN/NNs/pearson_new_data_NN_model_freq_\"+str(num_of_freq_selected)+\"_reference_\"+str(reference_amt)+\".h5\")\n",
        "  \n",
        "  return model_ann"
      ],
      "metadata": {
        "id": "r0YBaQtQ1k99"
      },
      "execution_count": null,
      "outputs": []
    },
    {
      "cell_type": "code",
      "source": [
        "def predict_test(model_ann, Y_test, X_test, sc_output, remove_outliers=0.05):\n",
        "  print('Results (freq_'+str(num_of_freq_selected)+'_reference_'+str(reference_amt)+')')\n",
        "  # Predit\n",
        "  start_time = time.time()\n",
        "  Y_test_pred=model_ann.predict(X_test)\n",
        "  pred=list(Y_test_pred)\n",
        "\n",
        "  time_eval_ann=time.time()-start_time\n",
        "\n",
        "  dist_min=sc_output.data_min_[0] # 80\n",
        "  dist_max=sc_output.data_max_[0] # 2000\n",
        "\n",
        "  real=list(list(zip(*Y_test))[0])\n",
        "  real_abs=np.add(dist_min,np.multiply((dist_max-dist_min),real)) # convert back to distances values from scalar\n",
        "  real_abs=[int(np.round(i)) for i in real_abs]\n",
        "  pred_abs=np.add(dist_min,np.multiply((dist_max-dist_min),pred)) # convert back to distances values from scalar\n",
        "  real_abs_e1 = real_abs\n",
        "  real_abs_e2 = real_abs\n",
        "\n",
        "  pred_abs_e1 = pred_abs\n",
        "  pred_abs_e2 = pred_abs\n",
        "\n",
        "  error=np.divide(np.abs(np.subtract(np.array(real_abs),np.array(pred_abs))),np.array(real_abs))\n",
        "  error_v2 = np.abs(np.subtract(np.array(real_abs),np.array(pred_abs)))\n",
        "\n",
        "  remove_outliers = math.ceil((len(error_v2)*remove_outliers)/2)\n",
        "\n",
        "  for outlier in range(1, remove_outliers+1):\n",
        "    min_idx_e1 = np.argmin(error)\n",
        "    max_idx_e1 = np.argmax(error)\n",
        "\n",
        "    min_idx_e2 = np.argmin(error_v2)\n",
        "    max_idx_e2 = np.argmax(error_v2)\n",
        "\n",
        "    error = np.delete(error, min_idx_e1)\n",
        "    error = np.delete(error, max_idx_e1)\n",
        "    real_abs_e1 = np.delete(real_abs_e1, min_idx_e1)\n",
        "    real_abs_e1 = np.delete(real_abs_e1, max_idx_e1)\n",
        "    pred_abs_e1 = np.delete(pred_abs_e1, min_idx_e1)\n",
        "    pred_abs_e1 = np.delete(pred_abs_e1, max_idx_e1)\n",
        "\n",
        "    error_v2 = np.delete(error_v2, min_idx_e2)\n",
        "    error_v2 = np.delete(error_v2, max_idx_e2)\n",
        "    real_abs_e2 = np.delete(real_abs_e2, min_idx_e1)\n",
        "    real_abs_e2 = np.delete(real_abs_e2, max_idx_e1)\n",
        "    pred_abs_e2 = np.delete(pred_abs_e2, min_idx_e1)\n",
        "    pred_abs_e2 = np.delete(pred_abs_e2, max_idx_e1)\n",
        "\n",
        "  res=pd.DataFrame({\"dist\":real_abs_e1,\"pred\":pred_abs_e1,\"error\":error})\n",
        "  res.to_csv(path+\"/Spectrum/NN/NN_results_error/new_data_pearson_results_curve_freq_\"+str(num_of_freq_selected)+\"_reference_\"+str(reference_amt)+\".csv\", header=True, index=False)\n",
        "\n",
        "  res_v2=pd.DataFrame({\"dist\":real_abs_e2,\"pred\":pred_abs_e2,\"error\":error_v2})\n",
        "  res.to_csv(path+\"/Spectrum/NN/NN_results_error/new_data_pearson_results_deltas_freq_\"+str(num_of_freq_selected)+\"_reference_\"+str(reference_amt)+\".csv\", header=True, index=False)\n",
        "  \n",
        "  plt.plot(real_abs_e1,error,'bo')\n",
        "  plt.xlabel('Distances') \n",
        "  plt.ylabel('Error') \n",
        "  plt.title(\"Results Curve (freq_\"+str(num_of_freq_selected)+\"_reference_\"+str(reference_amt)+\")\")\n",
        "  plt.savefig(path+\"/Spectrum/NN/NN_results_plots/new_data_pearson_results_curve_freq_\"+str(num_of_freq_selected)+\"_reference_\"+str(reference_amt)+\".png\")\n",
        "  plt.show()\n",
        "  \n",
        "  plt.plot(real_abs_e2,error_v2,'bo')\n",
        "  plt.xlabel('Distances') \n",
        "  plt.ylabel('Error') \n",
        "  plt.title(\"Results Deltas (freq_\"+str(num_of_freq_selected)+\"_reference_\"+str(reference_amt)+\")\")\n",
        "  plt.savefig(path+\"/Spectrum/NN/NN_results_plots/new_data_pearson_results_deltas_freq_\"+str(num_of_freq_selected)+\"_reference_\"+str(reference_amt)+\".png\")\n",
        "  plt.show()\n"
      ],
      "metadata": {
        "id": "yY8QHJCJAM3s"
      },
      "execution_count": null,
      "outputs": []
    },
    {
      "cell_type": "code",
      "source": [
        "num_of_freq_selected = 10\n",
        "reference_amt = 30\n",
        "training_input_path = path + \"/Spectrum/NN/train_test_splits/new_data_training_data_NN_freq_10_reference_30.csv\"\n",
        "testing_input_path = path + \"/Spectrum/NN/train_test_splits/new_data_testing_data_NN_freq_10_reference_30.csv\"\n",
        "\n",
        "training_df = pd.read_csv(training_input_path)\n",
        "testing_df = pd.read_csv(testing_input_path)\n",
        "\n",
        "Y = training_df.iloc[:, 0].to_numpy().reshape(-1,1)\n",
        "X = training_df.iloc[:, 3:6]\n",
        "\n",
        "sc_input = MinMaxScaler()\n",
        "sc_output = MinMaxScaler()\n",
        "Y_train_p = sc_output.fit_transform(Y) # convert distances to values from 0 to 1\n",
        "X_train_p = sc_input.fit_transform(X) # convert features to values from 0 to 1\n",
        "\n",
        "Y = testing_df.iloc[:, 0].to_numpy().reshape(-1,1)\n",
        "X = testing_df.iloc[:, 3:6]\n",
        "\n",
        "sc_input = MinMaxScaler()\n",
        "sc_output = MinMaxScaler()\n",
        "Y_test_p = sc_output.fit_transform(Y) # convert distances to values from 0 to 1\n",
        "X_test_p = sc_input.fit_transform(X) # convert features to values from 0 to 1"
      ],
      "metadata": {
        "id": "xWm7Dnj1zqiw"
      },
      "execution_count": null,
      "outputs": []
    },
    {
      "cell_type": "code",
      "source": [
        "model_ann_p = train_model(X_train_p, Y_train_p)"
      ],
      "metadata": {
        "id": "Job0tVyN0gP3"
      },
      "execution_count": null,
      "outputs": []
    },
    {
      "cell_type": "code",
      "source": [
        "predict_test(model_ann_p, Y_test_p, X_test_p, sc_output)"
      ],
      "metadata": {
        "id": "B493cZEb0ldO"
      },
      "execution_count": null,
      "outputs": []
    },
    {
      "cell_type": "markdown",
      "source": [
        "## Test only stats"
      ],
      "metadata": {
        "id": "-BFRLXf7zqqV"
      }
    },
    {
      "cell_type": "code",
      "source": [
        "# Load network\n",
        "from keras.models import Sequential\n",
        "from keras.layers import Dense,Conv2D, Flatten\n",
        "from keras.wrappers.scikit_learn import KerasRegressor\n",
        "from keras.callbacks import EarlyStopping\n",
        "from tqdm.keras import TqdmCallback\n",
        "\n",
        "def ann():\n",
        "  model = Sequential()\n",
        "  model.add(Dense(76, input_dim = 3, activation = 'tanh'))\n",
        "  model.add(Dense(38,activation='tanh'))\n",
        "  model.add(Dense(19,activation='tanh'))\n",
        "  model.add(Dense(1))\n",
        "  model.compile(loss ='mean_squared_error',optimizer = 'RMSprop')\n",
        "  return model"
      ],
      "metadata": {
        "id": "5WU3J-u56cTF"
      },
      "execution_count": null,
      "outputs": []
    },
    {
      "cell_type": "code",
      "source": [
        "# Load network\n",
        "from keras.models import Sequential\n",
        "from keras.layers import Dense,Conv2D, Flatten\n",
        "from keras.wrappers.scikit_learn import KerasRegressor\n",
        "from keras.callbacks import EarlyStopping\n",
        "from tqdm.keras import TqdmCallback\n",
        "\n",
        "def ann():\n",
        "  model = Sequential()\n",
        "  model.add(Dense(76, input_dim = 4, activation = 'tanh'))\n",
        "  model.add(Dense(38,activation='tanh'))\n",
        "  model.add(Dense(19,activation='tanh'))\n",
        "  model.add(Dense(1))\n",
        "  model.compile(loss ='mean_squared_error',optimizer = 'RMSprop')\n",
        "  return model"
      ],
      "metadata": {
        "id": "7TGNlh7V5zsg"
      },
      "execution_count": null,
      "outputs": []
    },
    {
      "cell_type": "code",
      "source": [
        "def train_model(X_train, Y_train):\n",
        "  print('Training model (freq_'+str(num_of_freq_selected)+'_reference_'+str(reference_amt)+')...')\n",
        "  from keras.models import Sequential\n",
        "  from keras.layers import Dense,Conv2D, Flatten\n",
        "  from keras.wrappers.scikit_learn import KerasRegressor\n",
        "  from keras.callbacks import EarlyStopping\n",
        "  from tqdm.keras import TqdmCallback\n",
        "\n",
        "  def ann():\n",
        "      model = Sequential()\n",
        "      model.add(Dense(76, input_dim = 4, activation = 'tanh'))\n",
        "      model.add(Dense(38,activation='tanh'))\n",
        "      model.add(Dense(19,activation='tanh'))\n",
        "      model.add(Dense(1))\n",
        "      model.compile(loss ='mean_squared_error',optimizer = 'RMSprop')\n",
        "      return model\n",
        "\n",
        "  model_ann = KerasRegressor(build_fn=ann,epochs=5000,batch_size=32, verbose=0)\n",
        "\n",
        "  start_time = time.time()\n",
        "  callback = [EarlyStopping(monitor='loss', patience=500)]#, TqdmCallback(verbose=2)]\n",
        "  model_ann.fit(X_train, Y_train, callbacks=callback)\n",
        "  time_train_ann = time.time() - start_time\n",
        "\n",
        "  # Save model\n",
        "  #pickle.dump(model_ann,open(path+\"/Spectrum/NN/NNs/NN_model_freq_\"+str(num_of_freq_selected)+\"_reference_\"+str(reference_amt)+\".pkl\",\"wb\"))\n",
        "\n",
        "  if os.path.isfile(path+\"/Spectrum/NN/NNs/stats_new_data_NN_model_freq_\"+str(num_of_freq_selected)+\"_reference_\"+str(reference_amt)+\".h5\") is False:\n",
        "    model_ann.model.save(path+\"/Spectrum/NN/NNs/stats_new_data_NN_model_freq_\"+str(num_of_freq_selected)+\"_reference_\"+str(reference_amt)+\".h5\")\n",
        "  \n",
        "  return model_ann"
      ],
      "metadata": {
        "id": "Lm2iyDF15uvF"
      },
      "execution_count": null,
      "outputs": []
    },
    {
      "cell_type": "code",
      "source": [
        "def predict_test(model_ann, Y_test, X_test, sc_output, remove_outliers=0.05):\n",
        "  print('Results (freq_'+str(num_of_freq_selected)+'_reference_'+str(reference_amt)+')')\n",
        "  # Predit\n",
        "  start_time = time.time()\n",
        "  Y_test_pred=model_ann.predict(X_test)\n",
        "  pred=list(Y_test_pred)\n",
        "\n",
        "  time_eval_ann=time.time()-start_time\n",
        "\n",
        "  dist_min=sc_output.data_min_[0] # 80\n",
        "  dist_max=sc_output.data_max_[0] # 2000\n",
        "\n",
        "  real=list(list(zip(*Y_test))[0])\n",
        "  real_abs=np.add(dist_min,np.multiply((dist_max-dist_min),real)) # convert back to distances values from scalar\n",
        "  real_abs=[int(np.round(i)) for i in real_abs]\n",
        "  pred_abs=np.add(dist_min,np.multiply((dist_max-dist_min),pred)) # convert back to distances values from scalar\n",
        "\n",
        "  real_abs_e1 = real_abs\n",
        "  real_abs_e2 = real_abs\n",
        "\n",
        "  pred_abs_e1 = pred_abs\n",
        "  pred_abs_e2 = pred_abs\n",
        "\n",
        "  error=np.divide(np.abs(np.subtract(np.array(real_abs),np.array(pred_abs))),np.array(real_abs))\n",
        "  error_v2 = np.abs(np.subtract(np.array(real_abs),np.array(pred_abs)))\n",
        "\n",
        "  remove_outliers = math.ceil((len(error_v2)*remove_outliers)/2)\n",
        "\n",
        "  for outlier in range(1, remove_outliers+1):\n",
        "    min_idx_e1 = np.argmin(error)\n",
        "    max_idx_e1 = np.argmax(error)\n",
        "\n",
        "    min_idx_e2 = np.argmin(error_v2)\n",
        "    max_idx_e2 = np.argmax(error_v2)\n",
        "\n",
        "    error = np.delete(error, min_idx_e1)\n",
        "    error = np.delete(error, max_idx_e1)\n",
        "    real_abs_e1 = np.delete(real_abs_e1, min_idx_e1)\n",
        "    real_abs_e1 = np.delete(real_abs_e1, max_idx_e1)\n",
        "    pred_abs_e1 = np.delete(pred_abs_e1, min_idx_e1)\n",
        "    pred_abs_e1 = np.delete(pred_abs_e1, max_idx_e1)\n",
        "\n",
        "    error_v2 = np.delete(error_v2, min_idx_e2)\n",
        "    error_v2 = np.delete(error_v2, max_idx_e2)\n",
        "    real_abs_e2 = np.delete(real_abs_e2, min_idx_e1)\n",
        "    real_abs_e2 = np.delete(real_abs_e2, max_idx_e1)\n",
        "    pred_abs_e2 = np.delete(pred_abs_e2, min_idx_e1)\n",
        "    pred_abs_e2 = np.delete(pred_abs_e2, max_idx_e1)\n",
        "\n",
        "  res=pd.DataFrame({\"dist\":real_abs_e1,\"pred\":pred_abs_e1,\"error\":error})\n",
        "  res.to_csv(path+\"/Spectrum/NN/NN_results_error/new_data_stats_results_curve_freq_\"+str(num_of_freq_selected)+\"_reference_\"+str(reference_amt)+\".csv\", header=True, index=False)\n",
        "\n",
        "  res_v2=pd.DataFrame({\"dist\":real_abs_e2,\"pred\":pred_abs_e2,\"error\":error_v2})\n",
        "  res.to_csv(path+\"/Spectrum/NN/NN_results_error/new_data_stats_results_deltas_freq_\"+str(num_of_freq_selected)+\"_reference_\"+str(reference_amt)+\".csv\", header=True, index=False)\n",
        "  \n",
        "  plt.plot(real_abs_e1,error,'bo')\n",
        "  plt.xlabel('Distances') \n",
        "  plt.ylabel('Error') \n",
        "  plt.title(\"Results Curve (freq_\"+str(num_of_freq_selected)+\"_reference_\"+str(reference_amt)+\")\")\n",
        "  plt.savefig(path+\"/Spectrum/NN/NN_results_plots/new_data_stats_results_curve_freq_\"+str(num_of_freq_selected)+\"_reference_\"+str(reference_amt)+\".png\")\n",
        "  plt.show()\n",
        "  \n",
        "  plt.plot(real_abs_e2,error_v2,'bo')\n",
        "  plt.xlabel('Distances') \n",
        "  plt.ylabel('Error') \n",
        "  plt.title(\"Results Deltas (freq_\"+str(num_of_freq_selected)+\"_reference_\"+str(reference_amt)+\")\")\n",
        "  plt.savefig(path+\"/Spectrum/NN/NN_results_plots/new_data_stats_results_deltas_freq_\"+str(num_of_freq_selected)+\"_reference_\"+str(reference_amt)+\".png\")\n",
        "  plt.show()"
      ],
      "metadata": {
        "id": "zgqD84l5AWXg"
      },
      "execution_count": null,
      "outputs": []
    },
    {
      "cell_type": "code",
      "source": [
        "num_of_freq_selected = 10\n",
        "reference_amt = 30\n",
        "training_input_path = path + \"/Spectrum/NN/train_test_splits/new_data_training_data_NN_freq_10_reference_30.csv\"\n",
        "testing_input_path = path + \"/Spectrum/NN/train_test_splits/new_data_testing_data_NN_freq_10_reference_30.csv\"\n",
        "\n",
        "training_df = pd.read_csv(training_input_path)\n",
        "testing_df = pd.read_csv(testing_input_path)\n",
        "\n",
        "Y = training_df.iloc[:, 0].to_numpy().reshape(-1,1)\n",
        "X = training_df.iloc[:, [1, 2, 5, 6]]\n",
        "\n",
        "sc_input = MinMaxScaler()\n",
        "sc_output = MinMaxScaler()\n",
        "Y_train_s = sc_output.fit_transform(Y) # convert distances to values from 0 to 1\n",
        "X_train_s = sc_input.fit_transform(X) # convert features to values from 0 to 1\n",
        "\n",
        "Y = testing_df.iloc[:, 0].to_numpy().reshape(-1,1)\n",
        "X = testing_df.iloc[:, [1, 2, 5, 6]]\n",
        "\n",
        "\n",
        "sc_input = MinMaxScaler()\n",
        "sc_output = MinMaxScaler()\n",
        "Y_test_s = sc_output.fit_transform(Y) # convert distances to values from 0 to 1\n",
        "X_test_s = sc_input.fit_transform(X) # convert features to values from 0 to 1"
      ],
      "metadata": {
        "id": "w4IOWKxkM0z_"
      },
      "execution_count": null,
      "outputs": []
    },
    {
      "cell_type": "code",
      "source": [
        "model_ann_s = train_model(X_train_s, Y_train_s)"
      ],
      "metadata": {
        "id": "JvtaIJxm1JiV"
      },
      "execution_count": null,
      "outputs": []
    },
    {
      "cell_type": "code",
      "source": [
        "predict_test(model_ann_s, Y_test_s, X_test_s, sc_output)"
      ],
      "metadata": {
        "id": "Kf4XiuOw1JsA"
      },
      "execution_count": null,
      "outputs": []
    }
  ]
}