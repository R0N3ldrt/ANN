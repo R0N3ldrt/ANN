{
  "nbformat": 4,
  "nbformat_minor": 0,
  "metadata": {
    "colab": {
      "name": "Untitled10.ipynb",
      "provenance": [],
      "authorship_tag": "ABX9TyOvrLRVgAuk5nz/eTygoGbZ",
      "include_colab_link": true
    },
    "kernelspec": {
      "name": "python3",
      "display_name": "Python 3"
    },
    "language_info": {
      "name": "python"
    }
  },
  "cells": [
    {
      "cell_type": "markdown",
      "metadata": {
        "id": "view-in-github",
        "colab_type": "text"
      },
      "source": [
        "<a href=\"https://colab.research.google.com/github/R0N3ldrt/Thesis/blob/main/CNN_boot_v12.ipynb\" target=\"_parent\"><img src=\"https://colab.research.google.com/assets/colab-badge.svg\" alt=\"Open In Colab\"/></a>"
      ]
    },
    {
      "cell_type": "markdown",
      "source": [
        "# Traininig NN Spectrum"
      ],
      "metadata": {
        "id": "UT4kgsEJEpyY"
      }
    },
    {
      "cell_type": "markdown",
      "source": [
        "# Loading Necesary Libraries"
      ],
      "metadata": {
        "id": "qsIzw6RGEwWp"
      }
    },
    {
      "cell_type": "code",
      "execution_count": 4,
      "metadata": {
        "id": "0YnA2ltpEoSi"
      },
      "outputs": [],
      "source": [
        "# Importing necesary libraries\n",
        "# Libraries for correct code execution \n",
        "\n",
        "import os, time\n",
        "import pandas as pd\n",
        "import numpy as np\n",
        "import matplotlib.pyplot as plt\n",
        "import math\n",
        "import pickle\n",
        "import random\n",
        "import csv\n",
        "import re\n",
        "import array\n",
        "import seaborn as sns\n",
        "from tqdm import tqdm\n",
        "\n",
        "from functools import reduce\n",
        "from random import random, gauss\n",
        "from math import modf, pi, cos, sin, sqrt\n",
        "from sklearn.model_selection import train_test_split\n",
        "from sklearn.preprocessing import MinMaxScaler\n",
        "from sklearn.metrics import r2_score\n",
        "from plotly.subplots import make_subplots\n",
        "from scipy.signal import savgol_filter\n",
        "from scipy.stats.stats import pearsonr\n",
        "from scipy.stats import spearmanr\n",
        "\n",
        "import scipy.stats as st\n",
        "import plotly.graph_objects as go\n",
        "import plotly.express as px\n",
        "from plotly.subplots import make_subplots\n",
        "\n",
        "from keras.models import Sequential\n",
        "from keras.layers import Dense,Conv2D, Flatten\n",
        "from keras.wrappers.scikit_learn import KerasRegressor\n",
        "from keras.callbacks import EarlyStopping\n",
        "from sklearn.mixture import GaussianMixture\n",
        "import os, time, math, csv, joblib\n",
        "import pandas as pd\n",
        "import numpy as np\n",
        "import matplotlib.pyplot as plt\n",
        "import seaborn as sns\n",
        "from sklearn.model_selection import train_test_split\n",
        "from sklearn.preprocessing import MinMaxScaler\n",
        "from sklearn.mixture import GaussianMixture\n",
        "\n",
        "import os, time, math, csv, joblib\n",
        "import pandas as pd\n",
        "import numpy as np\n",
        "from sklearn.model_selection import train_test_split\n",
        "from sklearn.preprocessing import MinMaxScaler\n",
        "from sklearn.mixture import GaussianMixture\n",
        "\n",
        "import warnings\n",
        "warnings.filterwarnings(\"ignore\")\n",
        "\n",
        "sns.set_theme()"
      ]
    },
    {
      "cell_type": "markdown",
      "source": [
        "# Load Enviroment"
      ],
      "metadata": {
        "id": "o99IEHDfE2yy"
      }
    },
    {
      "cell_type": "code",
      "source": [
        "# BLOQUE PARA USAR DESDE COLAB\n",
        "\n",
        "# Google drive loading as work station for local-usage of the files.\n",
        "from google.colab import drive\n",
        "drive.mount('/content/gdrive',force_remount= True)\n",
        "\n",
        "#-----------------------------------------------------------------------------"
      ],
      "metadata": {
        "colab": {
          "base_uri": "https://localhost:8080/"
        },
        "id": "ruXEP78XE7E5",
        "outputId": "1b1c8839-0580-4240-f0d9-049a8b545c7b"
      },
      "execution_count": 5,
      "outputs": [
        {
          "output_type": "stream",
          "name": "stdout",
          "text": [
            "Mounted at /content/gdrive\n"
          ]
        }
      ]
    },
    {
      "cell_type": "code",
      "source": [
        "# Lista para cambiar los paths rapido.\n",
        "workers = [\"Ronald\", \"Local\"]\n",
        "\n",
        "# Change the number to change the paths.\n",
        "worker = workers[0]\n",
        "\n",
        "if worker == \"Ronald\":\n",
        "  path = \"/content/gdrive/MyDrive/Thesis_Workstation/ANN_dataset\"\n",
        "else: path = os.getcwd()"
      ],
      "metadata": {
        "id": "1Y2-m9DsE74Z"
      },
      "execution_count": 6,
      "outputs": []
    },
    {
      "cell_type": "markdown",
      "source": [
        "#New Train/Test Split"
      ],
      "metadata": {
        "id": "rIpeu9O5teEp"
      }
    },
    {
      "cell_type": "code",
      "source": [
        "input_path = path + \"/Spectrum/CNN/new_working_df.csv\"\n",
        "\n",
        "working_df = pd.read_csv(input_path)\n",
        "working_df['Distance_km'] = working_df['Distance_km'].astype(int)"
      ],
      "metadata": {
        "id": "KTcWRF8PtiS9"
      },
      "execution_count": 71,
      "outputs": []
    },
    {
      "cell_type": "code",
      "source": [
        "print(working_df.shape)"
      ],
      "metadata": {
        "colab": {
          "base_uri": "https://localhost:8080/"
        },
        "id": "qOUrK-J5ydE2",
        "outputId": "ac40873e-2c8e-40ec-f141-38431264198f"
      },
      "execution_count": 72,
      "outputs": [
        {
          "output_type": "stream",
          "name": "stdout",
          "text": [
            "(2500, 2073)\n"
          ]
        }
      ]
    },
    {
      "cell_type": "code",
      "source": [
        "excluding_model_data_df = working_df.loc[working_df['PBRS_id'] != 1]"
      ],
      "metadata": {
        "id": "L-MvMzWr6vno"
      },
      "execution_count": 73,
      "outputs": []
    },
    {
      "cell_type": "markdown",
      "source": [
        "## Get Reference data"
      ],
      "metadata": {
        "id": "bgUl5jOx2vOg"
      }
    },
    {
      "cell_type": "code",
      "source": [
        "model_data_df = working_df.loc[working_df['PBRS_id'] == 1]\n",
        "model_dict = {}\n",
        "for row in range(model_data_df.shape[0]):\n",
        "  distance = working_df.iloc[row,3]\n",
        "  values = np.array(working_df.iloc[row,6:working_df.shape[1]])\n",
        "  model_dict[distance] = values"
      ],
      "metadata": {
        "id": "jkn74j8u-0Yp"
      },
      "execution_count": 74,
      "outputs": []
    },
    {
      "cell_type": "code",
      "source": [
        "def get_reference_and_sample_data(working_df, num_reference, num_sample):\n",
        "  reference_arr = [x for x in range(1, num_reference+1)]\n",
        "  reference_data_df = working_df[working_df['PBRS_id'].isin(reference_arr)]\n",
        "\n",
        "  sample_arr = [x for x in range(num_reference+1, num_sample+1)]\n",
        "  sample_data_df = working_df[working_df['PBRS_id'].isin(sample_arr)]\n",
        "  \n",
        "  return reference_data_df, sample_data_df"
      ],
      "metadata": {
        "id": "ec3YhJwn9Hxx"
      },
      "execution_count": 75,
      "outputs": []
    },
    {
      "cell_type": "code",
      "source": [
        "reference_data_df, sample_data_df = get_reference_and_sample_data(working_df, num_reference=50, num_sample=100)"
      ],
      "metadata": {
        "id": "FVf66kD39uvY"
      },
      "execution_count": 76,
      "outputs": []
    },
    {
      "cell_type": "markdown",
      "source": [
        "## Get test/train split"
      ],
      "metadata": {
        "id": "gaVlwtnN-Ezo"
      }
    },
    {
      "cell_type": "code",
      "source": [
        "def get_idx_train_test_split(working_df, trainingProp = 0.8):\n",
        "  rows_training = np.array([])\n",
        "  rows_testing = np.array([])\n",
        "  distances = [x*80 for x in range(1, 26)]\n",
        "  for d in distances:\n",
        "    distance_working_df = working_df.loc[working_df['Distance_km'] == d]\n",
        "    rows_mixed=np.random.permutation(distance_working_df.shape[0])\n",
        "\n",
        "    training_amt = math.ceil(distance_working_df.shape[0]*trainingProp)\n",
        "    testing_amt = distance_working_df.shape[0] - training_amt\n",
        "\n",
        "    rows_training = np.append(rows_training, rows_mixed[:training_amt])\n",
        "    rows_testing = np.append(rows_testing, rows_mixed[-testing_amt:])\n",
        "  \n",
        "  rows_training = rows_training.astype('int').tolist()\n",
        "  rows_testing = rows_testing.astype('int').tolist()\n",
        "\n",
        "  return rows_training, rows_testing"
      ],
      "metadata": {
        "id": "yKHiNNANyyDB"
      },
      "execution_count": 77,
      "outputs": []
    },
    {
      "cell_type": "code",
      "source": [
        "rows_training, rows_testing = get_idx_train_test_split(sample_data_df, trainingProp = 0.8)"
      ],
      "metadata": {
        "id": "YAx8kKMT0rMZ"
      },
      "execution_count": 78,
      "outputs": []
    },
    {
      "cell_type": "markdown",
      "source": [
        "## Get frequencies filter"
      ],
      "metadata": {
        "id": "WEbwMwMG-9BX"
      }
    },
    {
      "cell_type": "code",
      "source": [
        "def frequencies_filter(df, num_selected_freq=20):\n",
        "  info_df = df.iloc[:, 0:6]\n",
        "  data_df = df.iloc[:, 6:df.shape[1]]\n",
        "  span_val = int(data_df.shape[1]/num_selected_freq)\n",
        "  for i in range(num_selected_freq):\n",
        "    df2 = data_df.iloc[:, (i+1)*span_val].to_frame()\n",
        "    if i+1 == 1:\n",
        "      new_df = df2\n",
        "    else:\n",
        "      new_df = pd.merge(new_df, df2, left_index=True, right_index=True)\n",
        "  new_df = info_df.join(new_df)\n",
        "  \n",
        "  return new_df"
      ],
      "metadata": {
        "id": "RqeELlLC_vlH"
      },
      "execution_count": 79,
      "outputs": []
    },
    {
      "cell_type": "code",
      "source": [
        "reference_freq_data_df = frequencies_filter(reference_data_df, num_selected_freq=20)\n",
        "\n",
        "sample_freq_data_df = frequencies_filter(sample_data_df, num_selected_freq=20)\n",
        "\n",
        "# TEST num_selected_freq values"
      ],
      "metadata": {
        "id": "jxqxR6dwBY6d"
      },
      "execution_count": 80,
      "outputs": []
    },
    {
      "cell_type": "code",
      "source": [
        "sample_freq_data_df"
      ],
      "metadata": {
        "colab": {
          "base_uri": "https://localhost:8080/",
          "height": 0
        },
        "id": "8VkCHPRs0lec",
        "outputId": "ba038cde-bc19-4260-e308-2bcbbdfcf137"
      },
      "execution_count": 81,
      "outputs": [
        {
          "output_type": "execute_result",
          "data": {
            "text/plain": [
              "       row  PBRS_id  Channels  Distance_km  power_dBm  #span   -28.9375  \\\n",
              "1250  1250       51         1           80          0      1 -11.371108   \n",
              "1251  1251       51         1          160          0      2 -10.211595   \n",
              "1252  1252       51         1          240          0      3 -15.204040   \n",
              "1253  1253       51         1          320          0      4 -13.629725   \n",
              "1254  1254       51         1          400          0      5 -10.817269   \n",
              "...    ...      ...       ...          ...        ...    ...        ...   \n",
              "2495  2495      100         1         1680          0     21 -10.384048   \n",
              "2496  2496      100         1         1760          0     22 -25.989634   \n",
              "2497  2497      100         1         1840          0     23  -6.889217   \n",
              "2498  2498      100         1         1920          0     24 -17.875031   \n",
              "2499  2499      100         1         2000          0     25 -12.975259   \n",
              "\n",
              "      -25.71875      -22.5  -19.28125  ...       3.25    6.46875     9.6875  \\\n",
              "1250  -9.888275 -15.896047 -10.401251  ... -11.985474 -10.041763 -10.323638   \n",
              "1251 -10.649810  -9.031208 -16.839636  ... -12.088256 -11.504632  -7.955859   \n",
              "1252 -19.299046  -9.498365  -4.519786  ... -18.301708 -13.122521  -7.990432   \n",
              "1253 -20.440475 -11.564857 -11.154106  ... -14.078396  -7.761546 -11.642466   \n",
              "1254 -15.656722 -13.972180 -20.629751  ... -18.218828 -15.606157  -8.490232   \n",
              "...         ...        ...        ...  ...        ...        ...        ...   \n",
              "2495 -15.111328 -10.947651 -15.621388  ...  -8.297015 -10.186144  -7.996039   \n",
              "2496  -7.263092 -13.035062 -10.594661  ... -11.335702 -11.592846  -9.906562   \n",
              "2497 -17.560904 -12.411949 -14.249330  ... -11.040326 -13.328168  -8.388157   \n",
              "2498  -8.925251 -11.985465 -14.717908  ... -13.172462 -10.790016 -11.697045   \n",
              "2499 -12.292847 -19.219643 -22.856406  ... -19.238656 -18.467817 -17.271477   \n",
              "\n",
              "       12.90625     16.125   19.34375    22.5625   25.78125       29.0  \\\n",
              "1250 -17.261711 -10.552016 -16.379117 -18.675457 -11.977936 -11.043479   \n",
              "1251 -11.202520  -8.600032 -10.355622  -9.990740  -8.624055 -16.657460   \n",
              "1252  -9.126269 -17.643167 -13.834385 -15.660303  -6.391696  -9.668572   \n",
              "1253 -15.153048 -17.844676 -10.922279  -9.524572 -12.243487 -12.415649   \n",
              "1254 -17.095917  -7.016890 -12.053797 -11.479498  -6.427090 -17.091879   \n",
              "...         ...        ...        ...        ...        ...        ...   \n",
              "2495  -7.510316 -12.258500 -17.332990 -12.781404 -11.458765  -9.875344   \n",
              "2496  -7.139437 -11.066623 -11.801799 -12.502789  -7.710519 -16.097928   \n",
              "2497 -10.133369 -19.487009 -11.853957 -14.058775  -6.946959 -14.632147   \n",
              "2498 -11.293293 -14.034699 -16.059040 -12.485453 -12.692961 -17.194686   \n",
              "2499  -8.429088 -15.266872  -9.899949 -14.370661 -14.245584  -6.555617   \n",
              "\n",
              "       32.21875  \n",
              "1250 -15.544026  \n",
              "1251 -18.454892  \n",
              "1252  -9.910335  \n",
              "1253 -30.553415  \n",
              "1254 -19.309437  \n",
              "...         ...  \n",
              "2495 -22.044932  \n",
              "2496 -19.157402  \n",
              "2497 -21.732752  \n",
              "2498 -22.963780  \n",
              "2499 -22.498299  \n",
              "\n",
              "[1250 rows x 26 columns]"
            ],
            "text/html": [
              "\n",
              "  <div id=\"df-65b840ff-55de-4c9c-9d82-cb593db748d3\">\n",
              "    <div class=\"colab-df-container\">\n",
              "      <div>\n",
              "<style scoped>\n",
              "    .dataframe tbody tr th:only-of-type {\n",
              "        vertical-align: middle;\n",
              "    }\n",
              "\n",
              "    .dataframe tbody tr th {\n",
              "        vertical-align: top;\n",
              "    }\n",
              "\n",
              "    .dataframe thead th {\n",
              "        text-align: right;\n",
              "    }\n",
              "</style>\n",
              "<table border=\"1\" class=\"dataframe\">\n",
              "  <thead>\n",
              "    <tr style=\"text-align: right;\">\n",
              "      <th></th>\n",
              "      <th>row</th>\n",
              "      <th>PBRS_id</th>\n",
              "      <th>Channels</th>\n",
              "      <th>Distance_km</th>\n",
              "      <th>power_dBm</th>\n",
              "      <th>#span</th>\n",
              "      <th>-28.9375</th>\n",
              "      <th>-25.71875</th>\n",
              "      <th>-22.5</th>\n",
              "      <th>-19.28125</th>\n",
              "      <th>...</th>\n",
              "      <th>3.25</th>\n",
              "      <th>6.46875</th>\n",
              "      <th>9.6875</th>\n",
              "      <th>12.90625</th>\n",
              "      <th>16.125</th>\n",
              "      <th>19.34375</th>\n",
              "      <th>22.5625</th>\n",
              "      <th>25.78125</th>\n",
              "      <th>29.0</th>\n",
              "      <th>32.21875</th>\n",
              "    </tr>\n",
              "  </thead>\n",
              "  <tbody>\n",
              "    <tr>\n",
              "      <th>1250</th>\n",
              "      <td>1250</td>\n",
              "      <td>51</td>\n",
              "      <td>1</td>\n",
              "      <td>80</td>\n",
              "      <td>0</td>\n",
              "      <td>1</td>\n",
              "      <td>-11.371108</td>\n",
              "      <td>-9.888275</td>\n",
              "      <td>-15.896047</td>\n",
              "      <td>-10.401251</td>\n",
              "      <td>...</td>\n",
              "      <td>-11.985474</td>\n",
              "      <td>-10.041763</td>\n",
              "      <td>-10.323638</td>\n",
              "      <td>-17.261711</td>\n",
              "      <td>-10.552016</td>\n",
              "      <td>-16.379117</td>\n",
              "      <td>-18.675457</td>\n",
              "      <td>-11.977936</td>\n",
              "      <td>-11.043479</td>\n",
              "      <td>-15.544026</td>\n",
              "    </tr>\n",
              "    <tr>\n",
              "      <th>1251</th>\n",
              "      <td>1251</td>\n",
              "      <td>51</td>\n",
              "      <td>1</td>\n",
              "      <td>160</td>\n",
              "      <td>0</td>\n",
              "      <td>2</td>\n",
              "      <td>-10.211595</td>\n",
              "      <td>-10.649810</td>\n",
              "      <td>-9.031208</td>\n",
              "      <td>-16.839636</td>\n",
              "      <td>...</td>\n",
              "      <td>-12.088256</td>\n",
              "      <td>-11.504632</td>\n",
              "      <td>-7.955859</td>\n",
              "      <td>-11.202520</td>\n",
              "      <td>-8.600032</td>\n",
              "      <td>-10.355622</td>\n",
              "      <td>-9.990740</td>\n",
              "      <td>-8.624055</td>\n",
              "      <td>-16.657460</td>\n",
              "      <td>-18.454892</td>\n",
              "    </tr>\n",
              "    <tr>\n",
              "      <th>1252</th>\n",
              "      <td>1252</td>\n",
              "      <td>51</td>\n",
              "      <td>1</td>\n",
              "      <td>240</td>\n",
              "      <td>0</td>\n",
              "      <td>3</td>\n",
              "      <td>-15.204040</td>\n",
              "      <td>-19.299046</td>\n",
              "      <td>-9.498365</td>\n",
              "      <td>-4.519786</td>\n",
              "      <td>...</td>\n",
              "      <td>-18.301708</td>\n",
              "      <td>-13.122521</td>\n",
              "      <td>-7.990432</td>\n",
              "      <td>-9.126269</td>\n",
              "      <td>-17.643167</td>\n",
              "      <td>-13.834385</td>\n",
              "      <td>-15.660303</td>\n",
              "      <td>-6.391696</td>\n",
              "      <td>-9.668572</td>\n",
              "      <td>-9.910335</td>\n",
              "    </tr>\n",
              "    <tr>\n",
              "      <th>1253</th>\n",
              "      <td>1253</td>\n",
              "      <td>51</td>\n",
              "      <td>1</td>\n",
              "      <td>320</td>\n",
              "      <td>0</td>\n",
              "      <td>4</td>\n",
              "      <td>-13.629725</td>\n",
              "      <td>-20.440475</td>\n",
              "      <td>-11.564857</td>\n",
              "      <td>-11.154106</td>\n",
              "      <td>...</td>\n",
              "      <td>-14.078396</td>\n",
              "      <td>-7.761546</td>\n",
              "      <td>-11.642466</td>\n",
              "      <td>-15.153048</td>\n",
              "      <td>-17.844676</td>\n",
              "      <td>-10.922279</td>\n",
              "      <td>-9.524572</td>\n",
              "      <td>-12.243487</td>\n",
              "      <td>-12.415649</td>\n",
              "      <td>-30.553415</td>\n",
              "    </tr>\n",
              "    <tr>\n",
              "      <th>1254</th>\n",
              "      <td>1254</td>\n",
              "      <td>51</td>\n",
              "      <td>1</td>\n",
              "      <td>400</td>\n",
              "      <td>0</td>\n",
              "      <td>5</td>\n",
              "      <td>-10.817269</td>\n",
              "      <td>-15.656722</td>\n",
              "      <td>-13.972180</td>\n",
              "      <td>-20.629751</td>\n",
              "      <td>...</td>\n",
              "      <td>-18.218828</td>\n",
              "      <td>-15.606157</td>\n",
              "      <td>-8.490232</td>\n",
              "      <td>-17.095917</td>\n",
              "      <td>-7.016890</td>\n",
              "      <td>-12.053797</td>\n",
              "      <td>-11.479498</td>\n",
              "      <td>-6.427090</td>\n",
              "      <td>-17.091879</td>\n",
              "      <td>-19.309437</td>\n",
              "    </tr>\n",
              "    <tr>\n",
              "      <th>...</th>\n",
              "      <td>...</td>\n",
              "      <td>...</td>\n",
              "      <td>...</td>\n",
              "      <td>...</td>\n",
              "      <td>...</td>\n",
              "      <td>...</td>\n",
              "      <td>...</td>\n",
              "      <td>...</td>\n",
              "      <td>...</td>\n",
              "      <td>...</td>\n",
              "      <td>...</td>\n",
              "      <td>...</td>\n",
              "      <td>...</td>\n",
              "      <td>...</td>\n",
              "      <td>...</td>\n",
              "      <td>...</td>\n",
              "      <td>...</td>\n",
              "      <td>...</td>\n",
              "      <td>...</td>\n",
              "      <td>...</td>\n",
              "      <td>...</td>\n",
              "    </tr>\n",
              "    <tr>\n",
              "      <th>2495</th>\n",
              "      <td>2495</td>\n",
              "      <td>100</td>\n",
              "      <td>1</td>\n",
              "      <td>1680</td>\n",
              "      <td>0</td>\n",
              "      <td>21</td>\n",
              "      <td>-10.384048</td>\n",
              "      <td>-15.111328</td>\n",
              "      <td>-10.947651</td>\n",
              "      <td>-15.621388</td>\n",
              "      <td>...</td>\n",
              "      <td>-8.297015</td>\n",
              "      <td>-10.186144</td>\n",
              "      <td>-7.996039</td>\n",
              "      <td>-7.510316</td>\n",
              "      <td>-12.258500</td>\n",
              "      <td>-17.332990</td>\n",
              "      <td>-12.781404</td>\n",
              "      <td>-11.458765</td>\n",
              "      <td>-9.875344</td>\n",
              "      <td>-22.044932</td>\n",
              "    </tr>\n",
              "    <tr>\n",
              "      <th>2496</th>\n",
              "      <td>2496</td>\n",
              "      <td>100</td>\n",
              "      <td>1</td>\n",
              "      <td>1760</td>\n",
              "      <td>0</td>\n",
              "      <td>22</td>\n",
              "      <td>-25.989634</td>\n",
              "      <td>-7.263092</td>\n",
              "      <td>-13.035062</td>\n",
              "      <td>-10.594661</td>\n",
              "      <td>...</td>\n",
              "      <td>-11.335702</td>\n",
              "      <td>-11.592846</td>\n",
              "      <td>-9.906562</td>\n",
              "      <td>-7.139437</td>\n",
              "      <td>-11.066623</td>\n",
              "      <td>-11.801799</td>\n",
              "      <td>-12.502789</td>\n",
              "      <td>-7.710519</td>\n",
              "      <td>-16.097928</td>\n",
              "      <td>-19.157402</td>\n",
              "    </tr>\n",
              "    <tr>\n",
              "      <th>2497</th>\n",
              "      <td>2497</td>\n",
              "      <td>100</td>\n",
              "      <td>1</td>\n",
              "      <td>1840</td>\n",
              "      <td>0</td>\n",
              "      <td>23</td>\n",
              "      <td>-6.889217</td>\n",
              "      <td>-17.560904</td>\n",
              "      <td>-12.411949</td>\n",
              "      <td>-14.249330</td>\n",
              "      <td>...</td>\n",
              "      <td>-11.040326</td>\n",
              "      <td>-13.328168</td>\n",
              "      <td>-8.388157</td>\n",
              "      <td>-10.133369</td>\n",
              "      <td>-19.487009</td>\n",
              "      <td>-11.853957</td>\n",
              "      <td>-14.058775</td>\n",
              "      <td>-6.946959</td>\n",
              "      <td>-14.632147</td>\n",
              "      <td>-21.732752</td>\n",
              "    </tr>\n",
              "    <tr>\n",
              "      <th>2498</th>\n",
              "      <td>2498</td>\n",
              "      <td>100</td>\n",
              "      <td>1</td>\n",
              "      <td>1920</td>\n",
              "      <td>0</td>\n",
              "      <td>24</td>\n",
              "      <td>-17.875031</td>\n",
              "      <td>-8.925251</td>\n",
              "      <td>-11.985465</td>\n",
              "      <td>-14.717908</td>\n",
              "      <td>...</td>\n",
              "      <td>-13.172462</td>\n",
              "      <td>-10.790016</td>\n",
              "      <td>-11.697045</td>\n",
              "      <td>-11.293293</td>\n",
              "      <td>-14.034699</td>\n",
              "      <td>-16.059040</td>\n",
              "      <td>-12.485453</td>\n",
              "      <td>-12.692961</td>\n",
              "      <td>-17.194686</td>\n",
              "      <td>-22.963780</td>\n",
              "    </tr>\n",
              "    <tr>\n",
              "      <th>2499</th>\n",
              "      <td>2499</td>\n",
              "      <td>100</td>\n",
              "      <td>1</td>\n",
              "      <td>2000</td>\n",
              "      <td>0</td>\n",
              "      <td>25</td>\n",
              "      <td>-12.975259</td>\n",
              "      <td>-12.292847</td>\n",
              "      <td>-19.219643</td>\n",
              "      <td>-22.856406</td>\n",
              "      <td>...</td>\n",
              "      <td>-19.238656</td>\n",
              "      <td>-18.467817</td>\n",
              "      <td>-17.271477</td>\n",
              "      <td>-8.429088</td>\n",
              "      <td>-15.266872</td>\n",
              "      <td>-9.899949</td>\n",
              "      <td>-14.370661</td>\n",
              "      <td>-14.245584</td>\n",
              "      <td>-6.555617</td>\n",
              "      <td>-22.498299</td>\n",
              "    </tr>\n",
              "  </tbody>\n",
              "</table>\n",
              "<p>1250 rows × 26 columns</p>\n",
              "</div>\n",
              "      <button class=\"colab-df-convert\" onclick=\"convertToInteractive('df-65b840ff-55de-4c9c-9d82-cb593db748d3')\"\n",
              "              title=\"Convert this dataframe to an interactive table.\"\n",
              "              style=\"display:none;\">\n",
              "        \n",
              "  <svg xmlns=\"http://www.w3.org/2000/svg\" height=\"24px\"viewBox=\"0 0 24 24\"\n",
              "       width=\"24px\">\n",
              "    <path d=\"M0 0h24v24H0V0z\" fill=\"none\"/>\n",
              "    <path d=\"M18.56 5.44l.94 2.06.94-2.06 2.06-.94-2.06-.94-.94-2.06-.94 2.06-2.06.94zm-11 1L8.5 8.5l.94-2.06 2.06-.94-2.06-.94L8.5 2.5l-.94 2.06-2.06.94zm10 10l.94 2.06.94-2.06 2.06-.94-2.06-.94-.94-2.06-.94 2.06-2.06.94z\"/><path d=\"M17.41 7.96l-1.37-1.37c-.4-.4-.92-.59-1.43-.59-.52 0-1.04.2-1.43.59L10.3 9.45l-7.72 7.72c-.78.78-.78 2.05 0 2.83L4 21.41c.39.39.9.59 1.41.59.51 0 1.02-.2 1.41-.59l7.78-7.78 2.81-2.81c.8-.78.8-2.07 0-2.86zM5.41 20L4 18.59l7.72-7.72 1.47 1.35L5.41 20z\"/>\n",
              "  </svg>\n",
              "      </button>\n",
              "      \n",
              "  <style>\n",
              "    .colab-df-container {\n",
              "      display:flex;\n",
              "      flex-wrap:wrap;\n",
              "      gap: 12px;\n",
              "    }\n",
              "\n",
              "    .colab-df-convert {\n",
              "      background-color: #E8F0FE;\n",
              "      border: none;\n",
              "      border-radius: 50%;\n",
              "      cursor: pointer;\n",
              "      display: none;\n",
              "      fill: #1967D2;\n",
              "      height: 32px;\n",
              "      padding: 0 0 0 0;\n",
              "      width: 32px;\n",
              "    }\n",
              "\n",
              "    .colab-df-convert:hover {\n",
              "      background-color: #E2EBFA;\n",
              "      box-shadow: 0px 1px 2px rgba(60, 64, 67, 0.3), 0px 1px 3px 1px rgba(60, 64, 67, 0.15);\n",
              "      fill: #174EA6;\n",
              "    }\n",
              "\n",
              "    [theme=dark] .colab-df-convert {\n",
              "      background-color: #3B4455;\n",
              "      fill: #D2E3FC;\n",
              "    }\n",
              "\n",
              "    [theme=dark] .colab-df-convert:hover {\n",
              "      background-color: #434B5C;\n",
              "      box-shadow: 0px 1px 3px 1px rgba(0, 0, 0, 0.15);\n",
              "      filter: drop-shadow(0px 1px 2px rgba(0, 0, 0, 0.3));\n",
              "      fill: #FFFFFF;\n",
              "    }\n",
              "  </style>\n",
              "\n",
              "      <script>\n",
              "        const buttonEl =\n",
              "          document.querySelector('#df-65b840ff-55de-4c9c-9d82-cb593db748d3 button.colab-df-convert');\n",
              "        buttonEl.style.display =\n",
              "          google.colab.kernel.accessAllowed ? 'block' : 'none';\n",
              "\n",
              "        async function convertToInteractive(key) {\n",
              "          const element = document.querySelector('#df-65b840ff-55de-4c9c-9d82-cb593db748d3');\n",
              "          const dataTable =\n",
              "            await google.colab.kernel.invokeFunction('convertToInteractive',\n",
              "                                                     [key], {});\n",
              "          if (!dataTable) return;\n",
              "\n",
              "          const docLinkHtml = 'Like what you see? Visit the ' +\n",
              "            '<a target=\"_blank\" href=https://colab.research.google.com/notebooks/data_table.ipynb>data table notebook</a>'\n",
              "            + ' to learn more about interactive tables.';\n",
              "          element.innerHTML = '';\n",
              "          dataTable['output_type'] = 'display_data';\n",
              "          await google.colab.output.renderOutput(dataTable, element);\n",
              "          const docLink = document.createElement('div');\n",
              "          docLink.innerHTML = docLinkHtml;\n",
              "          element.appendChild(docLink);\n",
              "        }\n",
              "      </script>\n",
              "    </div>\n",
              "  </div>\n",
              "  "
            ]
          },
          "metadata": {},
          "execution_count": 81
        }
      ]
    },
    {
      "cell_type": "markdown",
      "source": [
        "## Get features"
      ],
      "metadata": {
        "id": "S2Z2xg2yHuoz"
      }
    },
    {
      "cell_type": "code",
      "source": [
        "#sample_freq_data_df\n",
        "#distance_reference_df\n",
        "#selected_rows = rows_training\n",
        "def get_features(sample_freq_data_df, reference_freq_data_df, selected_rows):\n",
        "  data_distance = []\n",
        "  data_mean = []\n",
        "  data_std = []\n",
        "  data_pearson_min = []\n",
        "  data_pearson_mean = []\n",
        "  data_pearson_max = []\n",
        "  data_CI_lower = []\n",
        "  data_CI_upper = []\n",
        "\n",
        "  for row_idx in tqdm(selected_rows):\n",
        "    data_Y = sample_freq_data_df.iloc[row_idx,3] # distance of row selected\n",
        "    data_X = np.array(sample_freq_data_df.iloc[row_idx,6:sample_freq_data_df.shape[1]]) #array of data in row selected\n",
        "    data_distance.append(data_Y)\n",
        "    data_std.append(np.std(data_X))\n",
        "    data_mean.append(np.mean(data_X))\n",
        "\n",
        "    data_ci = st.t.interval(alpha=0.90, df=len(data_X)-1, loc=np.mean(data_X), scale=st.sem(data_X))\n",
        "    data_confidence_int_lower = data_ci[0]\n",
        "    data_confidence_int_upper = data_ci[1]\n",
        "\n",
        "    # Get reference data\n",
        "    reference_freq_data_df\n",
        "    distance_reference_df = reference_freq_data_df.loc[reference_freq_data_df['Distance_km'] == data_Y]\n",
        "\n",
        "    pearson_vals = []\n",
        "    confidence_vals_upper = []\n",
        "    confidence_vals_lower = []\n",
        "    for reference_row in range(0, distance_reference_df.shape[0]):\n",
        "      reference_X = np.array(distance_reference_df.iloc[reference_row,6:distance_reference_df.shape[1]])\n",
        "      pearson_vals.append(round(pearsonr(data_X, reference_X)[0], 5))\n",
        "\n",
        "      reference_ci = st.t.interval(alpha=0.90, df=len(reference_X)-1, loc=np.mean(reference_X), scale=st.sem(reference_X))\n",
        "      reference_confidence_int_lower = reference_ci[0]\n",
        "      confidence_vals_lower.append(reference_confidence_int_lower)\n",
        "      reference_confidence_int_upper = reference_ci[1]\n",
        "      confidence_vals_upper.append(reference_confidence_int_upper)\n",
        "\n",
        "    data_pearson_min.append(np.min(pearson_vals))\n",
        "    data_pearson_mean.append(np.mean(pearson_vals))    \n",
        "    data_pearson_max.append(np.max(pearson_vals))\n",
        "\n",
        "    data_CI_lower.append(abs(np.min(confidence_vals_lower)-data_confidence_int_lower))\n",
        "    data_CI_upper.append(abs(np.max(confidence_vals_upper)-data_confidence_int_upper))\n",
        "  data = {'distance':data_distance,\n",
        "                  'mean':data_mean,\n",
        "                  'std':data_std,\n",
        "                  'pearson_min':data_pearson_min,\n",
        "                  'pearson_mean':data_pearson_mean,\n",
        "                  'pearson_max':data_pearson_max,\n",
        "                  'delta_CI_min':data_CI_lower,\n",
        "                  'delta_CI_max':data_CI_upper}\n",
        "\n",
        "  data_df = pd.DataFrame(data)\n",
        "\n",
        "  return data_df"
      ],
      "metadata": {
        "id": "8FNsUKTVxZmP"
      },
      "execution_count": 82,
      "outputs": []
    },
    {
      "cell_type": "code",
      "source": [
        "training_df = get_features(sample_freq_data_df, reference_freq_data_df, rows_training)\n",
        "\n",
        "testing_df = get_features(sample_freq_data_df, reference_freq_data_df, rows_testing)"
      ],
      "metadata": {
        "colab": {
          "base_uri": "https://localhost:8080/"
        },
        "id": "guPIPhGRAlb3",
        "outputId": "d7784a10-708b-4d0c-ec93-cfe92109cf24"
      },
      "execution_count": 83,
      "outputs": [
        {
          "output_type": "stream",
          "name": "stderr",
          "text": [
            "100%|██████████| 1000/1000 [00:57<00:00, 17.50it/s]\n",
            "100%|██████████| 250/250 [00:14<00:00, 17.56it/s]\n"
          ]
        }
      ]
    },
    {
      "cell_type": "code",
      "source": [
        "'''\n",
        "def get_features(excluding_model_data_df, selected_rows):\n",
        "\n",
        "  data_distance = []\n",
        "  data_mean = []\n",
        "  data_std = []\n",
        "  data_pearson_min = []\n",
        "  data_pearson_mean = []\n",
        "  data_pearson_max = []\n",
        "\n",
        "  for row_idx in tqdm(selected_rows):\n",
        "    data_Y = excluding_model_data_df.iloc[row_idx,3]\n",
        "    data_X = np.array(excluding_model_data_df.iloc[row_idx,6:excluding_model_data_df.shape[1]])\n",
        "    data_distance.append(data_Y)\n",
        "    data_std.append(np.std(data_X))\n",
        "    data_mean.append(np.mean(data_X))\n",
        "\n",
        "    pearson_vals = []\n",
        "    for k, v in model_dict.items():  \n",
        "      pearson_vals.append(round(pearsonr(v, data_X)[0], 5))\n",
        "      print(v)\n",
        "      print(data_X)\n",
        "      break\n",
        "    data_pearson_min.append(np.min(pearson_vals))\n",
        "    data_pearson_mean.append(np.mean(pearson_vals))    \n",
        "    data_pearson_max.append(np.max(pearson_vals))\n",
        "    break\n",
        "  data = {'distance':data_distance,\n",
        "                  'mean':data_mean,\n",
        "                  'std':data_std,\n",
        "                  'pearson_min':data_pearson_min,\n",
        "                  'pearson_mean':data_pearson_mean,\n",
        "                  'pearson_max':data_pearson_max}\n",
        "\n",
        "  data_df = pd.DataFrame(data)\n",
        "\n",
        "  return data_df\n",
        "training_df = get_features(excluding_model_data_df, rows_training)\n",
        "\n",
        "testing_df = get_features(excluding_model_data_df, rows_testing)\n",
        "'''"
      ],
      "metadata": {
        "id": "FnshPiRq0wxU",
        "colab": {
          "base_uri": "https://localhost:8080/",
          "height": 0
        },
        "outputId": "403ae1fb-cc65-48e2-f5c6-3dbeb8c12ac3"
      },
      "execution_count": 84,
      "outputs": [
        {
          "output_type": "execute_result",
          "data": {
            "text/plain": [
              "\"\\ndef get_features(excluding_model_data_df, selected_rows):\\n\\n  data_distance = []\\n  data_mean = []\\n  data_std = []\\n  data_pearson_min = []\\n  data_pearson_mean = []\\n  data_pearson_max = []\\n\\n  for row_idx in tqdm(selected_rows):\\n    data_Y = excluding_model_data_df.iloc[row_idx,3]\\n    data_X = np.array(excluding_model_data_df.iloc[row_idx,6:excluding_model_data_df.shape[1]])\\n    data_distance.append(data_Y)\\n    data_std.append(np.std(data_X))\\n    data_mean.append(np.mean(data_X))\\n\\n    pearson_vals = []\\n    for k, v in model_dict.items():  \\n      pearson_vals.append(round(pearsonr(v, data_X)[0], 5))\\n      print(v)\\n      print(data_X)\\n      break\\n    data_pearson_min.append(np.min(pearson_vals))\\n    data_pearson_mean.append(np.mean(pearson_vals))    \\n    data_pearson_max.append(np.max(pearson_vals))\\n    break\\n  data = {'distance':data_distance,\\n                  'mean':data_mean,\\n                  'std':data_std,\\n                  'pearson_min':data_pearson_min,\\n                  'pearson_mean':data_pearson_mean,\\n                  'pearson_max':data_pearson_max}\\n\\n  data_df = pd.DataFrame(data)\\n\\n  return data_df\\ntraining_df = get_features(excluding_model_data_df, rows_training)\\n\\ntesting_df = get_features(excluding_model_data_df, rows_testing)\\n\""
            ],
            "application/vnd.google.colaboratory.intrinsic+json": {
              "type": "string"
            }
          },
          "metadata": {},
          "execution_count": 84
        }
      ]
    },
    {
      "cell_type": "markdown",
      "source": [
        "# Bootstrapping"
      ],
      "metadata": {
        "id": "qksszb65u-2i"
      }
    },
    {
      "cell_type": "code",
      "source": [
        "input_path = path + \"/Spectrum/CNN/working_df.csv\"\n",
        "\n",
        "working_df = pd.read_csv(input_path)\n",
        "working_df['Distance_km'] = working_df['Distance_km'].astype(int)"
      ],
      "metadata": {
        "id": "cEYZP7YSvA4V"
      },
      "execution_count": null,
      "outputs": []
    },
    {
      "cell_type": "code",
      "source": [
        "distances = [x*80 for x in range(1, 26)]"
      ],
      "metadata": {
        "id": "vpEDJN-hvodC"
      },
      "execution_count": null,
      "outputs": []
    },
    {
      "cell_type": "markdown",
      "source": [
        "## Get max and min values of each column"
      ],
      "metadata": {
        "id": "qbD-Ts__HVqQ"
      }
    },
    {
      "cell_type": "code",
      "source": [
        "def get_max_min_val_col(working_df):\n",
        "  data_working_df = working_df.iloc[:, 6:working_df.shape[1]]\n",
        "  h_list = list(data_working_df.columns.values)\n",
        "  max_min_col_dict = {header:[] for header in h_list}\n",
        "\n",
        "  for d in tqdm(distances):\n",
        "    boot_dist_df = working_df.loc[working_df['Distance_km'] == d]\n",
        "    for idx in range(6, boot_dist_df.shape[1]):\n",
        "      max_val_col = float(boot_dist_df.iloc[:, [idx]].max()) # max val in col\n",
        "      min_val_col = float(boot_dist_df.iloc[:, [idx]].min()) # min val in col\n",
        "      h = boot_dist_df.iloc[:, [idx]].columns # header of col\n",
        "      h = h[0]\n",
        "      max_min_col_dict[h].append((d, min_val_col, max_val_col))\n",
        "  return max_min_col_dict"
      ],
      "metadata": {
        "id": "pfmHMEtv-fA1"
      },
      "execution_count": null,
      "outputs": []
    },
    {
      "cell_type": "code",
      "source": [
        "max_min_col_dict = get_max_min_val_col(working_df)"
      ],
      "metadata": {
        "id": "vhWI9GaP_k_U"
      },
      "execution_count": null,
      "outputs": []
    },
    {
      "cell_type": "code",
      "source": [
        "print(max_min_col_dict)"
      ],
      "metadata": {
        "id": "Tu_r9lHJCGIG"
      },
      "execution_count": null,
      "outputs": []
    },
    {
      "cell_type": "markdown",
      "source": [
        "## Create new samples using bootstrap technique"
      ],
      "metadata": {
        "id": "MUBCgrizHc1t"
      }
    },
    {
      "cell_type": "code",
      "source": [
        "def create_bootstrap_samples(working_df, max_min_col_dict, num_of_new_samples, previos_amt_of_samples=13):\n",
        "  import random\n",
        "\n",
        "  row_data = []\n",
        "  PBRS_id_data = []\n",
        "  Distance_km_data = []\n",
        "  power_dBm_data = []\n",
        "  span_data = []\n",
        "\n",
        "  h_list = list(working_df.columns.values)\n",
        "  new_data = {header:[] for header in h_list}\n",
        "\n",
        "\n",
        "  last_row_in_old_df_val = working_df.shape[0]\n",
        "  for new_sample in tqdm(range(num_of_new_samples)): # generating (num_of_new_samples) new samples for en data\n",
        "    for d in distances:\n",
        "      new_data['row'].append(last_row_in_old_df_val)\n",
        "      last_row_in_old_df_val += 1\n",
        "      new_data['PBRS_id'].append(new_sample+(previos_amt_of_samples+1))\n",
        "      new_data['Channels'].append(1)\n",
        "\n",
        "      new_data['Distance_km'].append(d)\n",
        "      new_data['power_dBm'].append(0)\n",
        "      new_data['#span'].append(int(d/80))\n",
        "\n",
        "      for k, v in max_min_col_dict.items(): # header:(d, min_val_col, max_val_col)\n",
        "        for val in v:\n",
        "          if val[0] == d:\n",
        "            bootstrap_val = round(random.uniform(val[1], val[2]), 14)\n",
        "            new_data[str(k)].append(bootstrap_val)\n",
        "            break\n",
        "  new_data_df = pd.DataFrame.from_dict(new_data)\n",
        "\n",
        "  return new_data_df"
      ],
      "metadata": {
        "id": "96AJljiWv2Kg"
      },
      "execution_count": null,
      "outputs": []
    },
    {
      "cell_type": "code",
      "source": [
        "new_data_df = create_bootstrap_samples(working_df, max_min_col_dict, num_of_new_samples=87, previos_amt_of_samples=13)"
      ],
      "metadata": {
        "id": "zN5Uwep1HHvc"
      },
      "execution_count": null,
      "outputs": []
    },
    {
      "cell_type": "markdown",
      "source": [
        "## Combine previos df with bootstraped df"
      ],
      "metadata": {
        "id": "VtwPz_xDHj1e"
      }
    },
    {
      "cell_type": "code",
      "source": [
        "new_working_df = working_df.append(new_data_df)"
      ],
      "metadata": {
        "id": "P6amWSh7HRUy"
      },
      "execution_count": null,
      "outputs": []
    },
    {
      "cell_type": "code",
      "source": [
        "new_working_df.to_csv(path+'/Spectrum/CNN/new_working_df.csv', index=False)"
      ],
      "metadata": {
        "id": "nfuCRKffItYR"
      },
      "execution_count": null,
      "outputs": []
    },
    {
      "cell_type": "markdown",
      "source": [
        "# Neural Network"
      ],
      "metadata": {
        "id": "CGa0J5JcS-BW"
      }
    },
    {
      "cell_type": "code",
      "source": [
        "#training_df=pd.read_csv(path+'/Spectrum/CNN/training_data_DNN.csv')\n",
        "\n",
        "Y = training_df.iloc[:, 0].to_numpy().reshape(-1,1)\n",
        "X = training_df.iloc[:, 1:training_df.shape[1]]\n",
        "\n",
        "sc_input = MinMaxScaler()\n",
        "sc_output = MinMaxScaler()\n",
        "Y_train = sc_output.fit_transform(Y) # convert distances to values from 0 to 1\n",
        "X_train = sc_input.fit_transform(X) # convert features to values from 0 to 1"
      ],
      "metadata": {
        "id": "Eyrf_PolEwzR"
      },
      "execution_count": 85,
      "outputs": []
    },
    {
      "cell_type": "code",
      "source": [
        "#testing_df=pd.read_csv(path+'/Spectrum/CNN/testing_data_DNN.csv')\n",
        "\n",
        "Y = testing_df.iloc[:, 0].to_numpy().reshape(-1,1)\n",
        "X = testing_df.iloc[:, 1:testing_df.shape[1]]\n",
        "\n",
        "\n",
        "sc_input = MinMaxScaler()\n",
        "sc_output = MinMaxScaler()\n",
        "Y_test = sc_output.fit_transform(Y) # convert distances to values from 0 to 1\n",
        "X_test = sc_input.fit_transform(X) # convert features to values from 0 to 1"
      ],
      "metadata": {
        "id": "pH1YIuRjEypR"
      },
      "execution_count": 86,
      "outputs": []
    },
    {
      "cell_type": "code",
      "source": [
        "from keras.models import Sequential\n",
        "from keras.layers import Dense,Conv2D, Flatten\n",
        "from keras.wrappers.scikit_learn import KerasRegressor\n",
        "from keras.callbacks import EarlyStopping\n",
        "\n",
        "\n",
        "def ann():\n",
        "    model = Sequential()\n",
        "    model.add(Dense(76, input_dim = 7, activation = 'tanh'))\n",
        "    model.add(Dense(38,activation='tanh'))\n",
        "    model.add(Dense(19,activation='tanh'))\n",
        "    model.add(Dense(1))\n",
        "    model.compile(loss ='mean_squared_error',optimizer = 'RMSprop')\n",
        "    return model\n",
        "\n",
        "\n",
        "model_ann = KerasRegressor(build_fn=ann,epochs=5000,batch_size=32, verbose=0)\n",
        "\n",
        "start_time = time.time()\n",
        "callback = EarlyStopping(monitor='loss', patience=500)\n",
        "model_ann.fit(X_train, Y_train, callbacks=[callback])\n",
        "time_train_ann = time.time() - start_time\n",
        "\n",
        "start_time = time.time()\n",
        "Y_test_pred=model_ann.predict(X_test)\n",
        "pred=list(Y_test_pred)\n",
        "\n",
        "time_eval_ann=time.time()-start_time\n",
        "\n",
        "dist_min=sc_output.data_min_[0] # 80\n",
        "dist_max=sc_output.data_max_[0] # 2000\n",
        "\n",
        "real=list(list(zip(*Y_test))[0])\n",
        "real_abs=np.add(dist_min,np.multiply((dist_max-dist_min),real)) # convert back to distances values from scalar\n",
        "real_abs=[int(np.round(i)) for i in real_abs]\n",
        "pred_abs=np.add(dist_min,np.multiply((dist_max-dist_min),pred)) # convert back to distances values from scalar\n",
        "\n",
        "error=np.divide(np.abs(np.subtract(np.array(real_abs),np.array(pred_abs))),np.array(real_abs))\n",
        "error_v2 = np.abs(np.subtract(np.array(real_abs),np.array(pred_abs)))\n",
        "res=pd.DataFrame({\"dist\":real_abs,\"pred\":pred_abs,\"error\":error})\n",
        "display(res)\n",
        "res_v2=pd.DataFrame({\"dist\":real_abs,\"pred\":pred_abs,\"error\":error_v2})\n",
        "display(res_v2)\n",
        "#res.to_csv(path+\"/Spectrum/CNN/results_pme_supervisedFeatures.csv\", header=True, index=False)\n",
        "plt.plot(real_abs,error,'bo')\n",
        "plt.show()\n",
        "plt.plot(real_abs,error_v2,'bo')\n",
        "plt.show()"
      ],
      "metadata": {
        "id": "Fk64Tw2nEstW",
        "outputId": "fed1c918-d8b6-4ecf-e2a8-bafbdf50b04f",
        "colab": {
          "base_uri": "https://localhost:8080/",
          "height": 1000
        }
      },
      "execution_count": 87,
      "outputs": [
        {
          "output_type": "display_data",
          "data": {
            "text/plain": [
              "     dist         pred     error\n",
              "0     880   869.014465  0.012484\n",
              "1     960   953.406250  0.006868\n",
              "2     800   809.260071  0.011575\n",
              "3    1920  1900.463745  0.010175\n",
              "4    1040  1030.949463  0.008702\n",
              "..    ...          ...       ...\n",
              "245  1760  1760.760498  0.000432\n",
              "246  1360  1355.744629  0.003129\n",
              "247  1120  1092.562988  0.024497\n",
              "248   800   809.260071  0.011575\n",
              "249  1280  1264.698853  0.011954\n",
              "\n",
              "[250 rows x 3 columns]"
            ],
            "text/html": [
              "\n",
              "  <div id=\"df-32bab27e-8b63-4b0f-b928-2aecd3d82cce\">\n",
              "    <div class=\"colab-df-container\">\n",
              "      <div>\n",
              "<style scoped>\n",
              "    .dataframe tbody tr th:only-of-type {\n",
              "        vertical-align: middle;\n",
              "    }\n",
              "\n",
              "    .dataframe tbody tr th {\n",
              "        vertical-align: top;\n",
              "    }\n",
              "\n",
              "    .dataframe thead th {\n",
              "        text-align: right;\n",
              "    }\n",
              "</style>\n",
              "<table border=\"1\" class=\"dataframe\">\n",
              "  <thead>\n",
              "    <tr style=\"text-align: right;\">\n",
              "      <th></th>\n",
              "      <th>dist</th>\n",
              "      <th>pred</th>\n",
              "      <th>error</th>\n",
              "    </tr>\n",
              "  </thead>\n",
              "  <tbody>\n",
              "    <tr>\n",
              "      <th>0</th>\n",
              "      <td>880</td>\n",
              "      <td>869.014465</td>\n",
              "      <td>0.012484</td>\n",
              "    </tr>\n",
              "    <tr>\n",
              "      <th>1</th>\n",
              "      <td>960</td>\n",
              "      <td>953.406250</td>\n",
              "      <td>0.006868</td>\n",
              "    </tr>\n",
              "    <tr>\n",
              "      <th>2</th>\n",
              "      <td>800</td>\n",
              "      <td>809.260071</td>\n",
              "      <td>0.011575</td>\n",
              "    </tr>\n",
              "    <tr>\n",
              "      <th>3</th>\n",
              "      <td>1920</td>\n",
              "      <td>1900.463745</td>\n",
              "      <td>0.010175</td>\n",
              "    </tr>\n",
              "    <tr>\n",
              "      <th>4</th>\n",
              "      <td>1040</td>\n",
              "      <td>1030.949463</td>\n",
              "      <td>0.008702</td>\n",
              "    </tr>\n",
              "    <tr>\n",
              "      <th>...</th>\n",
              "      <td>...</td>\n",
              "      <td>...</td>\n",
              "      <td>...</td>\n",
              "    </tr>\n",
              "    <tr>\n",
              "      <th>245</th>\n",
              "      <td>1760</td>\n",
              "      <td>1760.760498</td>\n",
              "      <td>0.000432</td>\n",
              "    </tr>\n",
              "    <tr>\n",
              "      <th>246</th>\n",
              "      <td>1360</td>\n",
              "      <td>1355.744629</td>\n",
              "      <td>0.003129</td>\n",
              "    </tr>\n",
              "    <tr>\n",
              "      <th>247</th>\n",
              "      <td>1120</td>\n",
              "      <td>1092.562988</td>\n",
              "      <td>0.024497</td>\n",
              "    </tr>\n",
              "    <tr>\n",
              "      <th>248</th>\n",
              "      <td>800</td>\n",
              "      <td>809.260071</td>\n",
              "      <td>0.011575</td>\n",
              "    </tr>\n",
              "    <tr>\n",
              "      <th>249</th>\n",
              "      <td>1280</td>\n",
              "      <td>1264.698853</td>\n",
              "      <td>0.011954</td>\n",
              "    </tr>\n",
              "  </tbody>\n",
              "</table>\n",
              "<p>250 rows × 3 columns</p>\n",
              "</div>\n",
              "      <button class=\"colab-df-convert\" onclick=\"convertToInteractive('df-32bab27e-8b63-4b0f-b928-2aecd3d82cce')\"\n",
              "              title=\"Convert this dataframe to an interactive table.\"\n",
              "              style=\"display:none;\">\n",
              "        \n",
              "  <svg xmlns=\"http://www.w3.org/2000/svg\" height=\"24px\"viewBox=\"0 0 24 24\"\n",
              "       width=\"24px\">\n",
              "    <path d=\"M0 0h24v24H0V0z\" fill=\"none\"/>\n",
              "    <path d=\"M18.56 5.44l.94 2.06.94-2.06 2.06-.94-2.06-.94-.94-2.06-.94 2.06-2.06.94zm-11 1L8.5 8.5l.94-2.06 2.06-.94-2.06-.94L8.5 2.5l-.94 2.06-2.06.94zm10 10l.94 2.06.94-2.06 2.06-.94-2.06-.94-.94-2.06-.94 2.06-2.06.94z\"/><path d=\"M17.41 7.96l-1.37-1.37c-.4-.4-.92-.59-1.43-.59-.52 0-1.04.2-1.43.59L10.3 9.45l-7.72 7.72c-.78.78-.78 2.05 0 2.83L4 21.41c.39.39.9.59 1.41.59.51 0 1.02-.2 1.41-.59l7.78-7.78 2.81-2.81c.8-.78.8-2.07 0-2.86zM5.41 20L4 18.59l7.72-7.72 1.47 1.35L5.41 20z\"/>\n",
              "  </svg>\n",
              "      </button>\n",
              "      \n",
              "  <style>\n",
              "    .colab-df-container {\n",
              "      display:flex;\n",
              "      flex-wrap:wrap;\n",
              "      gap: 12px;\n",
              "    }\n",
              "\n",
              "    .colab-df-convert {\n",
              "      background-color: #E8F0FE;\n",
              "      border: none;\n",
              "      border-radius: 50%;\n",
              "      cursor: pointer;\n",
              "      display: none;\n",
              "      fill: #1967D2;\n",
              "      height: 32px;\n",
              "      padding: 0 0 0 0;\n",
              "      width: 32px;\n",
              "    }\n",
              "\n",
              "    .colab-df-convert:hover {\n",
              "      background-color: #E2EBFA;\n",
              "      box-shadow: 0px 1px 2px rgba(60, 64, 67, 0.3), 0px 1px 3px 1px rgba(60, 64, 67, 0.15);\n",
              "      fill: #174EA6;\n",
              "    }\n",
              "\n",
              "    [theme=dark] .colab-df-convert {\n",
              "      background-color: #3B4455;\n",
              "      fill: #D2E3FC;\n",
              "    }\n",
              "\n",
              "    [theme=dark] .colab-df-convert:hover {\n",
              "      background-color: #434B5C;\n",
              "      box-shadow: 0px 1px 3px 1px rgba(0, 0, 0, 0.15);\n",
              "      filter: drop-shadow(0px 1px 2px rgba(0, 0, 0, 0.3));\n",
              "      fill: #FFFFFF;\n",
              "    }\n",
              "  </style>\n",
              "\n",
              "      <script>\n",
              "        const buttonEl =\n",
              "          document.querySelector('#df-32bab27e-8b63-4b0f-b928-2aecd3d82cce button.colab-df-convert');\n",
              "        buttonEl.style.display =\n",
              "          google.colab.kernel.accessAllowed ? 'block' : 'none';\n",
              "\n",
              "        async function convertToInteractive(key) {\n",
              "          const element = document.querySelector('#df-32bab27e-8b63-4b0f-b928-2aecd3d82cce');\n",
              "          const dataTable =\n",
              "            await google.colab.kernel.invokeFunction('convertToInteractive',\n",
              "                                                     [key], {});\n",
              "          if (!dataTable) return;\n",
              "\n",
              "          const docLinkHtml = 'Like what you see? Visit the ' +\n",
              "            '<a target=\"_blank\" href=https://colab.research.google.com/notebooks/data_table.ipynb>data table notebook</a>'\n",
              "            + ' to learn more about interactive tables.';\n",
              "          element.innerHTML = '';\n",
              "          dataTable['output_type'] = 'display_data';\n",
              "          await google.colab.output.renderOutput(dataTable, element);\n",
              "          const docLink = document.createElement('div');\n",
              "          docLink.innerHTML = docLinkHtml;\n",
              "          element.appendChild(docLink);\n",
              "        }\n",
              "      </script>\n",
              "    </div>\n",
              "  </div>\n",
              "  "
            ]
          },
          "metadata": {}
        },
        {
          "output_type": "display_data",
          "data": {
            "text/plain": [
              "     dist         pred      error\n",
              "0     880   869.014465  10.985535\n",
              "1     960   953.406250   6.593750\n",
              "2     800   809.260071   9.260071\n",
              "3    1920  1900.463745  19.536255\n",
              "4    1040  1030.949463   9.050537\n",
              "..    ...          ...        ...\n",
              "245  1760  1760.760498   0.760498\n",
              "246  1360  1355.744629   4.255371\n",
              "247  1120  1092.562988  27.437012\n",
              "248   800   809.260071   9.260071\n",
              "249  1280  1264.698853  15.301147\n",
              "\n",
              "[250 rows x 3 columns]"
            ],
            "text/html": [
              "\n",
              "  <div id=\"df-15bc0c65-8773-452f-89ba-2782042aac8d\">\n",
              "    <div class=\"colab-df-container\">\n",
              "      <div>\n",
              "<style scoped>\n",
              "    .dataframe tbody tr th:only-of-type {\n",
              "        vertical-align: middle;\n",
              "    }\n",
              "\n",
              "    .dataframe tbody tr th {\n",
              "        vertical-align: top;\n",
              "    }\n",
              "\n",
              "    .dataframe thead th {\n",
              "        text-align: right;\n",
              "    }\n",
              "</style>\n",
              "<table border=\"1\" class=\"dataframe\">\n",
              "  <thead>\n",
              "    <tr style=\"text-align: right;\">\n",
              "      <th></th>\n",
              "      <th>dist</th>\n",
              "      <th>pred</th>\n",
              "      <th>error</th>\n",
              "    </tr>\n",
              "  </thead>\n",
              "  <tbody>\n",
              "    <tr>\n",
              "      <th>0</th>\n",
              "      <td>880</td>\n",
              "      <td>869.014465</td>\n",
              "      <td>10.985535</td>\n",
              "    </tr>\n",
              "    <tr>\n",
              "      <th>1</th>\n",
              "      <td>960</td>\n",
              "      <td>953.406250</td>\n",
              "      <td>6.593750</td>\n",
              "    </tr>\n",
              "    <tr>\n",
              "      <th>2</th>\n",
              "      <td>800</td>\n",
              "      <td>809.260071</td>\n",
              "      <td>9.260071</td>\n",
              "    </tr>\n",
              "    <tr>\n",
              "      <th>3</th>\n",
              "      <td>1920</td>\n",
              "      <td>1900.463745</td>\n",
              "      <td>19.536255</td>\n",
              "    </tr>\n",
              "    <tr>\n",
              "      <th>4</th>\n",
              "      <td>1040</td>\n",
              "      <td>1030.949463</td>\n",
              "      <td>9.050537</td>\n",
              "    </tr>\n",
              "    <tr>\n",
              "      <th>...</th>\n",
              "      <td>...</td>\n",
              "      <td>...</td>\n",
              "      <td>...</td>\n",
              "    </tr>\n",
              "    <tr>\n",
              "      <th>245</th>\n",
              "      <td>1760</td>\n",
              "      <td>1760.760498</td>\n",
              "      <td>0.760498</td>\n",
              "    </tr>\n",
              "    <tr>\n",
              "      <th>246</th>\n",
              "      <td>1360</td>\n",
              "      <td>1355.744629</td>\n",
              "      <td>4.255371</td>\n",
              "    </tr>\n",
              "    <tr>\n",
              "      <th>247</th>\n",
              "      <td>1120</td>\n",
              "      <td>1092.562988</td>\n",
              "      <td>27.437012</td>\n",
              "    </tr>\n",
              "    <tr>\n",
              "      <th>248</th>\n",
              "      <td>800</td>\n",
              "      <td>809.260071</td>\n",
              "      <td>9.260071</td>\n",
              "    </tr>\n",
              "    <tr>\n",
              "      <th>249</th>\n",
              "      <td>1280</td>\n",
              "      <td>1264.698853</td>\n",
              "      <td>15.301147</td>\n",
              "    </tr>\n",
              "  </tbody>\n",
              "</table>\n",
              "<p>250 rows × 3 columns</p>\n",
              "</div>\n",
              "      <button class=\"colab-df-convert\" onclick=\"convertToInteractive('df-15bc0c65-8773-452f-89ba-2782042aac8d')\"\n",
              "              title=\"Convert this dataframe to an interactive table.\"\n",
              "              style=\"display:none;\">\n",
              "        \n",
              "  <svg xmlns=\"http://www.w3.org/2000/svg\" height=\"24px\"viewBox=\"0 0 24 24\"\n",
              "       width=\"24px\">\n",
              "    <path d=\"M0 0h24v24H0V0z\" fill=\"none\"/>\n",
              "    <path d=\"M18.56 5.44l.94 2.06.94-2.06 2.06-.94-2.06-.94-.94-2.06-.94 2.06-2.06.94zm-11 1L8.5 8.5l.94-2.06 2.06-.94-2.06-.94L8.5 2.5l-.94 2.06-2.06.94zm10 10l.94 2.06.94-2.06 2.06-.94-2.06-.94-.94-2.06-.94 2.06-2.06.94z\"/><path d=\"M17.41 7.96l-1.37-1.37c-.4-.4-.92-.59-1.43-.59-.52 0-1.04.2-1.43.59L10.3 9.45l-7.72 7.72c-.78.78-.78 2.05 0 2.83L4 21.41c.39.39.9.59 1.41.59.51 0 1.02-.2 1.41-.59l7.78-7.78 2.81-2.81c.8-.78.8-2.07 0-2.86zM5.41 20L4 18.59l7.72-7.72 1.47 1.35L5.41 20z\"/>\n",
              "  </svg>\n",
              "      </button>\n",
              "      \n",
              "  <style>\n",
              "    .colab-df-container {\n",
              "      display:flex;\n",
              "      flex-wrap:wrap;\n",
              "      gap: 12px;\n",
              "    }\n",
              "\n",
              "    .colab-df-convert {\n",
              "      background-color: #E8F0FE;\n",
              "      border: none;\n",
              "      border-radius: 50%;\n",
              "      cursor: pointer;\n",
              "      display: none;\n",
              "      fill: #1967D2;\n",
              "      height: 32px;\n",
              "      padding: 0 0 0 0;\n",
              "      width: 32px;\n",
              "    }\n",
              "\n",
              "    .colab-df-convert:hover {\n",
              "      background-color: #E2EBFA;\n",
              "      box-shadow: 0px 1px 2px rgba(60, 64, 67, 0.3), 0px 1px 3px 1px rgba(60, 64, 67, 0.15);\n",
              "      fill: #174EA6;\n",
              "    }\n",
              "\n",
              "    [theme=dark] .colab-df-convert {\n",
              "      background-color: #3B4455;\n",
              "      fill: #D2E3FC;\n",
              "    }\n",
              "\n",
              "    [theme=dark] .colab-df-convert:hover {\n",
              "      background-color: #434B5C;\n",
              "      box-shadow: 0px 1px 3px 1px rgba(0, 0, 0, 0.15);\n",
              "      filter: drop-shadow(0px 1px 2px rgba(0, 0, 0, 0.3));\n",
              "      fill: #FFFFFF;\n",
              "    }\n",
              "  </style>\n",
              "\n",
              "      <script>\n",
              "        const buttonEl =\n",
              "          document.querySelector('#df-15bc0c65-8773-452f-89ba-2782042aac8d button.colab-df-convert');\n",
              "        buttonEl.style.display =\n",
              "          google.colab.kernel.accessAllowed ? 'block' : 'none';\n",
              "\n",
              "        async function convertToInteractive(key) {\n",
              "          const element = document.querySelector('#df-15bc0c65-8773-452f-89ba-2782042aac8d');\n",
              "          const dataTable =\n",
              "            await google.colab.kernel.invokeFunction('convertToInteractive',\n",
              "                                                     [key], {});\n",
              "          if (!dataTable) return;\n",
              "\n",
              "          const docLinkHtml = 'Like what you see? Visit the ' +\n",
              "            '<a target=\"_blank\" href=https://colab.research.google.com/notebooks/data_table.ipynb>data table notebook</a>'\n",
              "            + ' to learn more about interactive tables.';\n",
              "          element.innerHTML = '';\n",
              "          dataTable['output_type'] = 'display_data';\n",
              "          await google.colab.output.renderOutput(dataTable, element);\n",
              "          const docLink = document.createElement('div');\n",
              "          docLink.innerHTML = docLinkHtml;\n",
              "          element.appendChild(docLink);\n",
              "        }\n",
              "      </script>\n",
              "    </div>\n",
              "  </div>\n",
              "  "
            ]
          },
          "metadata": {}
        },
        {
          "output_type": "display_data",
          "data": {
            "text/plain": [
              "<Figure size 432x288 with 1 Axes>"
            ],
            "image/png": "[encoded data removed]"
          },
          "metadata": {}
        },
        {
          "output_type": "display_data",
          "data": {
            "text/plain": [
              "<Figure size 432x288 with 1 Axes>"
            ],
            "image/png": "[encoded data removed]"
          },
          "metadata": {}
        }
      ]
    }
  ]
}