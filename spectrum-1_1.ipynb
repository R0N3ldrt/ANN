{
  "nbformat": 4,
  "nbformat_minor": 0,
  "metadata": {
    "colab": {
      "name": "Untitled1.ipynb",
      "provenance": [],
      "authorship_tag": "ABX9TyOR5p82wkBPd6Zn4MGO79pc",
      "include_colab_link": true
    },
    "kernelspec": {
      "name": "python3",
      "display_name": "Python 3"
    },
    "language_info": {
      "name": "python"
    }
  },
  "cells": [
    {
      "cell_type": "markdown",
      "metadata": {
        "id": "view-in-github",
        "colab_type": "text"
      },
      "source": [
        "<a href=\"https://colab.research.google.com/github/R0N3ldrt/Thesis/blob/main/spectrum-1_1.ipynb\" target=\"_parent\"><img src=\"https://colab.research.google.com/assets/colab-badge.svg\" alt=\"Open In Colab\"/></a>"
      ]
    },
    {
      "cell_type": "markdown",
      "source": [
        "# Loading Enviroment"
      ],
      "metadata": {
        "id": "TFf_LnH4hXmH"
      }
    },
    {
      "cell_type": "markdown",
      "source": [
        "## Loading Drive and folders"
      ],
      "metadata": {
        "id": "QRLt90TJhpCF"
      }
    },
    {
      "cell_type": "code",
      "execution_count": 1,
      "metadata": {
        "colab": {
          "base_uri": "https://localhost:8080/"
        },
        "id": "-vxHbOdXfHok",
        "outputId": "40de43e4-530c-428a-a4a9-37c250dd0f0c"
      },
      "outputs": [
        {
          "output_type": "stream",
          "name": "stdout",
          "text": [
            "Mounted at /content/gdrive\n"
          ]
        }
      ],
      "source": [
        "# BLOQUE PARA USAR DESDE COLAB\n",
        "\n",
        "# Google drive loading as work station for local-usage of the files.\n",
        "from google.colab import drive\n",
        "drive.mount('/content/gdrive',force_remount= True)\n",
        "\n",
        "#-----------------------------------------------------------------------------"
      ]
    },
    {
      "cell_type": "code",
      "source": [
        "# Lista para cambiar los paths rapido.\n",
        "workers = [\"Ronald\", \"Local\"]\n",
        "\n",
        "# Cambiar el numero aqui para cambiar los paths.\n",
        "worker = workers[0]\n",
        "\n",
        "if worker == \"Ronald\":\n",
        "  path= \"/content/gdrive/MyDrive/Thesis_Workstation/ANN_dataset\"\n",
        "else: path = os.getcwd()"
      ],
      "metadata": {
        "id": "s4tLLYT6gDOE"
      },
      "execution_count": 2,
      "outputs": []
    },
    {
      "cell_type": "markdown",
      "source": [
        "## Loading Necesary Libraries"
      ],
      "metadata": {
        "id": "Ob7ZixO4hxql"
      }
    },
    {
      "cell_type": "code",
      "source": [
        "# Importing necesary libraries\n",
        "import os, time\n",
        "import pandas as pd\n",
        "import numpy as np\n",
        "import matplotlib.pyplot as plt\n",
        "import math\n",
        "import pickle\n",
        "\n",
        "import warnings\n",
        "warnings.simplefilter(\"ignore\", UserWarning)\n",
        "import warnings\n",
        "warnings.simplefilter(action='ignore', category=FutureWarning)"
      ],
      "metadata": {
        "id": "knS8x3gehRLX"
      },
      "execution_count": 3,
      "outputs": []
    },
    {
      "cell_type": "markdown",
      "source": [
        "# Loading Data and Pre-Procesing"
      ],
      "metadata": {
        "id": "hcr6Hr2ChhUk"
      }
    },
    {
      "cell_type": "code",
      "source": [
        "data_path=path+\"/Spectrum\"\n",
        "\n",
        "qpsk_path=\"/QPSK/A.10hops100km/\"\n",
        "qam_path=\"/16QAM/A.10hops100km\"\n",
        "\n",
        "file_name=\"/dataSet_Spectrum_Samples_QPSK_37GHz_LongHaul_output_10x100.xlsx\"\n",
        "#file_name=\"/QPSK_dummy.xlsx\"\n",
        "# Skipping first row since only contain \"Frequency\" headers\n",
        "df_qpsk=pd.read_excel(data_path+qpsk_path+file_name, sheet_name = \"Sheet1\", skiprows=1)\n",
        "\n",
        "file_name=\"/dataSet_Spectrum_Samples_16QAM_75GHz_LongHaul_output_10x100.xlsx\"\n",
        "#file_name=\"/16QAM_dummy.xlsx\"\n",
        "df_qam=pd.read_excel(data_path+qam_path+file_name, sheet_name = \"Sheet1\", skiprows=1)\n",
        "\n",
        "#Diff in column 5 to 1,286 0.03125"
      ],
      "metadata": {
        "id": "0PdwcnCogI1t"
      },
      "execution_count": 13,
      "outputs": []
    },
    {
      "cell_type": "code",
      "source": [
        "#dump_file = dict desireed to be saved\n",
        "#filename = just the name of the file (file saved on \"pickle_folder\")\n",
        "\n",
        "def pickle_out(dump_file, filename):\n",
        "  filepath = path+\"/pickle_folder/\"+str(filename)+\".pickle\"\n",
        "  pickleout = open(filepath, \"wb\")\n",
        "  pickle.dump(dump_file, pickleout)\n",
        "  pickleout.close()\n",
        "\n",
        "def pickle_in(filename):\n",
        "  filepath = path+\"/pickle_folder/\"+str(filename)+\".pickle\"\n",
        "  picklein = open(filepath, \"rb\")\n",
        "  loaded_dict = pickle.load(picklein)\n",
        "  return loaded_dict"
      ],
      "metadata": {
        "id": "WH5waL1C0xAq"
      },
      "execution_count": 14,
      "outputs": []
    },
    {
      "cell_type": "markdown",
      "source": [
        "## Aggregator"
      ],
      "metadata": {
        "id": "CWOR5PNsksUs"
      }
    },
    {
      "cell_type": "code",
      "source": [
        "def prime_number_finder(stop_gap, total_num_of_data):\n",
        "  prime_nums = []\n",
        "  i=2\n",
        "  while i <= stop_gap:\n",
        "    if (total_num_of_data % i==0):\n",
        "      prime_nums.append(i)\n",
        "    i+=1\n",
        "  return prime_nums\n",
        "\n",
        "def aggreagator_selection(stop_gap=25, total_num_of_data=1281):\n",
        "  current_freq_offset = 0.03125\n",
        "  \n",
        "  # Find the prime numbers where the total_num_of_data is divisible\n",
        "  prime_nums = prime_number_finder(stop_gap, total_num_of_data)\n",
        "  \n",
        "  # Find the offsets of the new aggregators\n",
        "  new_freq_offsets = []\n",
        "  for nums in prime_nums:\n",
        "    freq_offset = current_freq_offset*(nums-1)\n",
        "    new_freq_offsets.append(freq_offset)\n",
        "\n",
        "  # Ask the user for the desired aggregator\n",
        "  print('Please select one of the following prime number to conduct the aggregation {} with frequencies offsets of {}(PHz) respectively. (Current Freq offset is 0.03125 PHz)'.format(prime_nums, new_freq_offsets))\n",
        "  while True:\n",
        "    user_selection = input('Prime number to conduct the aggregation? ')\n",
        "    if int(user_selection) not in prime_nums:\n",
        "      print('Please select one of the available prime numbers. (Current selection is not avaliable)')\n",
        "    else:\n",
        "      break\n",
        "  return int(user_selection)\n",
        "\n",
        "def aggreagator(df, stop_gap=25, total_num_of_data=1281):\n",
        "  agg_num = aggreagator_selection(stop_gap, total_num_of_data)\n",
        "  \n",
        "  # Creating new df of aggregate values\n",
        "  agg_df = pd.DataFrame()\n",
        "  agg_df = df[df.columns[0:5]]\n",
        "\n",
        "  agg=0\n",
        "  loop_cnt=0\n",
        "  init_column_cnt = 5\n",
        "  while agg<=total_num_of_data:\n",
        "    loop_cnt+=1\n",
        "    # Obtain current last columns stop\n",
        "    agg=agg_num+init_column_cnt\n",
        "    # Select working columns\n",
        "    new_df = df[df.columns[init_column_cnt:agg]]\n",
        "\n",
        "    init_column_cnt += (agg_num)\n",
        "    #print(init_column_cnt)\n",
        "    # Get average of freq values for new header\n",
        "    headers = list(new_df.columns.values)\n",
        "    headers_array = np.asarray(headers)\n",
        "    new_header_name = np.mean(headers_array)\n",
        "\n",
        "    # Add aggragated values to new df\n",
        "    agg_df[str(new_header_name)] = new_df.mean(axis = 1)\n",
        "  agg_dict = agg_df.to_dict()\n",
        "  return agg_df, agg_dict\n"
      ],
      "metadata": {
        "id": "hv_1nLfcCTAT"
      },
      "execution_count": 15,
      "outputs": []
    },
    {
      "cell_type": "code",
      "source": [
        "# QPSK AGG\n",
        "stop = 7\n",
        "QPSK_agg_df, QPSK_agg_dict = aggreagator(df_qpsk, stop_gap=100, total_num_of_data=1281)\n",
        "pickle_out(QPSK_agg_dict, \"agg_spectrum_QPSK_\"+str(stop))"
      ],
      "metadata": {
        "colab": {
          "base_uri": "https://localhost:8080/"
        },
        "id": "UxVxNBbEHw_6",
        "outputId": "21d600a4-4ea2-49c6-c2e0-880bdbb4764d"
      },
      "execution_count": 324,
      "outputs": [
        {
          "name": "stdout",
          "output_type": "stream",
          "text": [
            "Please select one of the following prime number to conduct the aggregation [3, 7, 21, 61] with frequencies offsets of [0.0625, 0.1875, 0.625, 1.875](PHz) respectively. (Current Freq offset is 0.03125 PHz)\n",
            "Prime number to conduct the aggregation? 7\n"
          ]
        },
        {
          "output_type": "stream",
          "name": "stderr",
          "text": [
            "/usr/local/lib/python3.7/dist-packages/ipykernel_launcher.py:57: SettingWithCopyWarning: \n",
            "A value is trying to be set on a copy of a slice from a DataFrame.\n",
            "Try using .loc[row_indexer,col_indexer] = value instead\n",
            "\n",
            "See the caveats in the documentation: https://pandas.pydata.org/pandas-docs/stable/user_guide/indexing.html#returning-a-view-versus-a-copy\n",
            "/usr/local/lib/python3.7/dist-packages/ipykernel_launcher.py:57: PerformanceWarning: DataFrame is highly fragmented.  This is usually the result of calling `frame.insert` many times, which has poor performance.  Consider joining all columns at once using pd.concat(axis=1) instead.  To get a de-fragmented frame, use `newframe = frame.copy()`\n"
          ]
        }
      ]
    },
    {
      "cell_type": "code",
      "source": [
        "# QPSK QAM\n",
        "stop = 7\n",
        "QAM_agg_df, QAM_agg_dict = aggreagator(df_qam, stop_gap=100, total_num_of_data=1281)\n",
        "pickle_out(QAM_agg_dict, \"agg_spectrum_QAM_\"+str(stop))"
      ],
      "metadata": {
        "colab": {
          "base_uri": "https://localhost:8080/"
        },
        "id": "Ps2K4LYJjiyF",
        "outputId": "75715b53-ee57-42d4-8d00-dbd8a8f43590"
      },
      "execution_count": 16,
      "outputs": [
        {
          "name": "stdout",
          "output_type": "stream",
          "text": [
            "Please select one of the following prime number to conduct the aggregation [3, 7, 21, 61] with frequencies offsets of [0.0625, 0.1875, 0.625, 1.875](PHz) respectively. (Current Freq offset is 0.03125 PHz)\n",
            "Prime number to conduct the aggregation? 7\n"
          ]
        },
        {
          "output_type": "stream",
          "name": "stderr",
          "text": [
            "/usr/local/lib/python3.7/dist-packages/ipykernel_launcher.py:57: SettingWithCopyWarning: \n",
            "A value is trying to be set on a copy of a slice from a DataFrame.\n",
            "Try using .loc[row_indexer,col_indexer] = value instead\n",
            "\n",
            "See the caveats in the documentation: https://pandas.pydata.org/pandas-docs/stable/user_guide/indexing.html#returning-a-view-versus-a-copy\n",
            "/usr/local/lib/python3.7/dist-packages/ipykernel_launcher.py:57: PerformanceWarning: DataFrame is highly fragmented.  This is usually the result of calling `frame.insert` many times, which has poor performance.  Consider joining all columns at once using pd.concat(axis=1) instead.  To get a de-fragmented frame, use `newframe = frame.copy()`\n"
          ]
        }
      ]
    },
    {
      "cell_type": "code",
      "source": [
        "pickle_dummy_dict = pickle_in(\"agg_spectrum_QPSK_7\")\n",
        "\n",
        "print(pickle_dummy_dict.keys())\n",
        "pickle_dummy_dict['-19.90625'].values()"
      ],
      "metadata": {
        "colab": {
          "base_uri": "https://localhost:8080/"
        },
        "id": "jpHux-rYjNUW",
        "outputId": "21ab0605-3052-4d39-bfcd-abc4005720dc"
      },
      "execution_count": 326,
      "outputs": [
        {
          "output_type": "stream",
          "name": "stdout",
          "text": [
            "dict_keys(['sampleid', 'Channels', 'Distance_km', 'power_dBm', '#node', '-19.90625', '-19.6875', '-19.46875', '-19.25', '-19.03125', '-18.8125', '-18.59375', '-18.375', '-18.15625', '-17.9375', '-17.71875', '-17.5', '-17.28125', '-17.0625', '-16.84375', '-16.625', '-16.40625', '-16.1875', '-15.96875', '-15.75', '-15.53125', '-15.3125', '-15.09375', '-14.875', '-14.65625', '-14.4375', '-14.21875', '-14.0', '-13.78125', '-13.5625', '-13.34375', '-13.125', '-12.90625', '-12.6875', '-12.46875', '-12.25', '-12.03125', '-11.8125', '-11.59375', '-11.375', '-11.15625', '-10.9375', '-10.71875', '-10.5', '-10.28125', '-10.0625', '-9.84375', '-9.625', '-9.40625', '-9.1875', '-8.96875', '-8.75', '-8.53125', '-8.3125', '-8.09375', '-7.875', '-7.65625', '-7.4375', '-7.21875', '-7.0', '-6.78125', '-6.5625', '-6.34375', '-6.125', '-5.90625', '-5.6875', '-5.46875', '-5.25', '-5.03125', '-4.8125', '-4.59375', '-4.375', '-4.15625', '-3.9375', '-3.71875', '-3.5', '-3.28125', '-3.0625', '-2.84375', '-2.625', '-2.40625', '-2.1875', '-1.96875', '-1.75', '-1.53125', '-1.3125', '-1.09375', '-0.875', '-0.65625', '-0.4375', '-0.21875', '0.0', '0.21875', '0.4375', '0.65625', '0.875', '1.09375', '1.3125', '1.53125', '1.75', '1.96875', '2.1875', '2.40625', '2.625', '2.84375', '3.0625', '3.28125', '3.5', '3.71875', '3.9375', '4.15625', '4.375', '4.59375', '4.8125', '5.03125', '5.25', '5.46875', '5.6875', '5.90625', '6.125', '6.34375', '6.5625', '6.78125', '7.0', '7.21875', '7.4375', '7.65625', '7.875', '8.09375', '8.3125', '8.53125', '8.75', '8.96875', '9.1875', '9.40625', '9.625', '9.84375', '10.0625', '10.28125', '10.5', '10.71875', '10.9375', '11.15625', '11.375', '11.59375', '11.8125', '12.03125', '12.25', '12.46875', '12.6875', '12.90625', '13.125', '13.34375', '13.5625', '13.78125', '14.0', '14.21875', '14.4375', '14.65625', '14.875', '15.09375', '15.3125', '15.53125', '15.75', '15.96875', '16.1875', '16.40625', '16.625', '16.84375', '17.0625', '17.28125', '17.5', '17.71875', '17.9375', '18.15625', '18.375', '18.59375', '18.8125', '19.03125', '19.25', '19.46875', '19.6875', '19.90625'])\n"
          ]
        },
        {
          "output_type": "execute_result",
          "data": {
            "text/plain": [
              "dict_values([-52.58722602859268, -51.777602184478255, -53.00329057493259, -55.85847203872787, -54.2264411002062, -54.25347624625919, -53.365185015537925, -55.05460739835035, -52.92877612025617, -52.734421550389584, -58.74401826893385, -48.63746686499979, -56.44660670882369, -48.27247617292802, -53.83972599255794, -54.86937274897692, -55.57411278690153, -50.50396703594872, -49.60572093699432, -48.25319561224723, -52.59046914587442, -57.682477991353736, -52.252890223122314, -50.8665340356822, -54.364867952225744, -53.78109273171549, -56.467180752635876, -54.85119620354811, -51.14296407836939, -52.152817983536906, -53.782106603484635, -53.73058069785552, -58.21894447645663, -52.03413220002404, -57.14900409612067, -51.53686851443755, -56.55314159430914, -55.86559874058809, -50.81783926823658, -53.23959353985477, -55.558113381428825, -54.21257727879089, -52.67069707227461, -52.89647545667034, -56.07426908330729, -54.99347767231384, -54.90215012347203, -50.34181293124205, -53.14101521054793, -54.56950099581009, -55.657826858513076, -52.11403014656232, -56.232113319567034, -53.844172944604324, -54.518130773910194, -54.68461723034433, -56.41867283284314, -54.68704637875316, -53.282582677478615, -56.63290998819308, -54.22974292312674, -55.69163397831621, -57.081921137861606, -51.16792878036064, -54.65118534202269, -53.08143825471181, -55.29953203826931, -57.82224957058658, -55.43588721264637, -57.96364963814187, -57.61327457546668, -53.74721584920758, -54.61039563823548, -51.80532354715077, -55.99244307789221, -56.79934298448813, -53.5518354391643, -59.307628041685476, -56.78932442599962, -54.072210307581756, -56.7680285221184, -53.40333949515604, -51.94998167554805, -51.83572042414754, -55.74509191714539, -51.35800936495006, -53.30948850062604, -54.78026870837864, -54.967433535180156, -54.38383565918549, -56.77324728712897, -55.010054217273435, -56.37326885707903, -54.58781725100989, -58.22869246326622, -55.09893138870295, -56.989278234543505, -53.58598637494818, -56.796125820611294, -58.40500192263663, -51.07031777958652, -48.66531584267837, -52.11948848443542, -48.547137815335994, -48.98021012822494, -50.24923585405769, -51.14825047394451, -50.41058089482518, -46.30598964691537, -51.15475977166286, -53.52716196426208, -53.195534431305816, -55.45273115047023, -56.6952304823396, -54.365213940640025, -57.3505218998969, -52.68776398222722, -52.01536996827765, -53.49542858418257, -53.33995680382128, -53.03170049727198, -55.97808378603448, -51.010955038637675, -55.5779031044609, -55.20990830115903, -53.1758496028207, -54.985521515382814, -54.86667026192289, -56.43324938646277, -53.1490092221705, -58.26512597716246, -58.842134730043895, -51.010338928547085, -50.197078114856815, -53.05327338665531, -54.5713270639583, -54.119043597980045, -50.100558877372336, -53.594632038418766, -55.452925578733, -55.70717256347064, -53.80847715885364, -53.94078602548829, -51.715265584705925, -58.20773945922938, -54.520459901288525, -58.85881570557727, -55.06066094678299, -53.20115797499717, -54.50932472419311, -59.20416199705968, -52.575312648874466, -56.493655832020444, -57.01575276090689, -56.69799269961184, -57.42172658540951, -51.3187736957935, -54.1219037916946, -56.12355228489163, -54.6788183562107, -55.02089137481842, -52.45315138392679, -57.35248096029493, -56.363299421395084, -54.8088437305825, -53.49769457272885, -51.35928460757514, -54.339250488008474, -56.24212148800706, -56.20910323503508, -52.28422504743225, -56.35282836862852, -56.97297001156544, -54.978307073031495, -56.35235828365625, -56.18945773086153, -54.970052631604915, -56.8481364718675, -57.17649118521769, -52.809488791783, -56.47984170550818, -55.103682284208766, -56.00804388629873, -56.33821172684882, -56.48511484966282, -59.431521225286026, -54.27260609446604, -57.3131407721541, -52.62208823488969, -57.81023796180034, -59.29777089171115, -51.66445184032528, -55.99087568965511, -54.79872575864299, -54.967171730581654, -54.96817740330267, -56.5488775549725, -53.49328162561126, -55.50266942203614, -54.21130492502997, -57.97880796334304, -54.767966785881484, -57.03565809285414, -59.23224006633732, -60.248788042829425, -57.156122085506816, -54.75736898842258, -55.54224189840346, -56.28335672078514, -53.44057692950385, -50.56162048344531, -46.79214020670814, -47.31153226771878, -49.62305606446066, -49.20081481182872, -51.12462814736055, -48.58292754144134, -48.967926085217414, -47.58623519910193, -46.65311401242748, -53.181149001215395, -52.52115075567455, -54.18946462738351, -56.64336202585414, -53.84657861307121, -58.54396676619285, -55.66121460777466, -58.1702257227681, -55.846222400581624, -59.58801004915222, -57.31044759018609, -54.685802997295134, -53.417522037870995, -52.110822468628704, -56.966725308958566, -55.732624373908386, -55.94133466853574, -50.19111036122434, -61.32356773356457, -57.11958180790741, -56.24325737442613, -53.58151986955511, -54.031583345921824, -54.85497555901331, -54.56946038017649, -50.84697218488988, -57.68494732528924, -53.52205282539972, -56.61545873905067, -55.639525404079556, -52.79250282532947, -54.65426171893694, -57.51416306405522, -54.42428166157608, -56.93623783347298, -54.68566933526773, -58.255404769760034, -55.63351246475036, -56.72867101452341, -57.79393116734885, -52.55045660855331, -57.68803766185939, -57.02173993179031, -53.44094742346734, -56.576483322514356, -55.801115817172914, -57.619043283195246, -56.16285894534182, -54.63265862398737, -58.020134008459344, -63.724702278162674, -55.28549524121781, -57.23461295948021, -57.71748005492675, -58.73100440807137, -60.33713736249997, -57.58324690121464, -54.96282392366475, -56.16211571043207, -58.08362031760365, -56.610496572660495, -58.18656154758168, -54.99029212006589, -57.12002570005658, -55.787747612641816, -55.375777967445295, -57.5238434973955, -57.229804090307695, -59.25169578355063, -57.86668670080104, -55.142424932382745, -55.304113573096586, -54.95158159688856, -58.73252192703561, -58.13898710698966, -57.060860527467185, -63.68998448647777, -53.22849255984536, -56.761306332160295, -59.461908764987, -57.4690201878232, -54.384701414002485, -55.939663274471734, -58.178759495278904, -57.102820362077246, -60.42516872957077, -56.40980771277704, -55.007137136138056, -55.80922780628747, -56.79926635836709, -56.147523998509875, -58.42934536953703, -56.17281171029266, -56.86396681287806, -56.26493058847721, -57.365000872936015, -57.96153634239864, -56.5941845276659, -55.37519712222456, -58.14944330429926, -49.131622878053456, -48.39608121801012, -49.781544875348025, -46.38250572462099, -50.491851820989254, -47.03321555415813, -52.986302542903836, -49.08510753487322, -48.819742962504044, -47.60329629427986])"
            ]
          },
          "metadata": {},
          "execution_count": 326
        }
      ]
    },
    {
      "cell_type": "markdown",
      "source": [
        "##Dummy Model"
      ],
      "metadata": {
        "id": "XY1LI-8G5IMU"
      }
    },
    {
      "cell_type": "code",
      "source": [
        "def get_dummy_spectrum(df):\n",
        "  new_df = df.groupby(['#node']).mean()\n",
        "  new_df.drop(['sampleid', 'Channels', 'power_dBm'], axis = 1, inplace = True)\n",
        "  dummy_dict = new_df.to_dict()\n",
        "  \n",
        "  return new_df, dummy_dict"
      ],
      "metadata": {
        "id": "LOGSo-fEt90g"
      },
      "execution_count": 327,
      "outputs": []
    },
    {
      "cell_type": "code",
      "source": [
        "\n",
        "#new_df = \n",
        "#node\t| Distance_km\t|-20\t      |-19.96875\t|-19.9375\t\t\t\t\t\t\t\t\t\t\t\t\t\t\t\t\t\t\t\t\t\t\n",
        "#1\t    | 0.0\t        |-52.955056\t|-54.126681\t|-52.713840\t\n",
        "#2\t    | 100.0\t      |-51.813386\t|-53.194155\t|-52.697528\n",
        "#3\t    | 200.0\t      |-55.626777\t|-54.634329\t|-54.702958\n",
        "\n",
        "#dummy_dict.keys() = dict_keys(['Distance_km', -20, -19.96875, -19.9375, -19.90625, -19.875, -19.84375...\n",
        "#dummy_dict[-20].values() = dict_values([-52.955056039, -51.813386274, -55.626777088])"
      ],
      "metadata": {
        "id": "z8uj4oke0jlJ"
      },
      "execution_count": 328,
      "outputs": []
    },
    {
      "cell_type": "code",
      "source": [
        "# Dummy Model QPSK\n",
        "QPSK_dummy_df, QPSK_dummy_dict = get_dummy_spectrum(QPSK_agg_df)\n",
        "pickle_out(QPSK_dummy_dict, \"dummy_AGG_spectrum_QPSK\")"
      ],
      "metadata": {
        "id": "pRYGOWfUu-bl"
      },
      "execution_count": 332,
      "outputs": []
    },
    {
      "cell_type": "code",
      "source": [
        "# Dummy Model QAM\n",
        "QAM_dummy_df, QAM_dummy_dict = get_dummy_spectrum(QAM_agg_df)\n",
        "pickle_out(QAM_dummy_dict, \"dummy_AGG_spectrum_QAM\")"
      ],
      "metadata": {
        "id": "ndaugJs8kHp2"
      },
      "execution_count": 333,
      "outputs": []
    },
    {
      "cell_type": "code",
      "source": [
        "pickle_dummy_dict = pickle_in(\"dummy_spectrum_full_QPSK\")\n",
        "pickle_dummy_dict['Distance_km'].values()"
      ],
      "metadata": {
        "colab": {
          "base_uri": "https://localhost:8080/"
        },
        "id": "U33UXT4h3l03",
        "outputId": "e8805117-298b-484d-8f44-0c48fa7b3cce"
      },
      "execution_count": 331,
      "outputs": [
        {
          "output_type": "execute_result",
          "data": {
            "text/plain": [
              "dict_values([0.0, 100.0, 200.0, 300.0, 400.0, 500.0, 600.0, 700.0, 800.0, 900.0, 1000.0])"
            ]
          },
          "metadata": {},
          "execution_count": 331
        }
      ]
    },
    {
      "cell_type": "markdown",
      "source": [
        "# Processing"
      ],
      "metadata": {
        "id": "IdmcDZG0E1iC"
      }
    },
    {
      "cell_type": "code",
      "source": [
        "pickle_agg_QPSK_dict = pickle_in(\"agg_spectrum_QPSK_7\")\n",
        "pickle_agg_AQM_dict = pickle_in(\"agg_spectrum_QAM_7\")\n",
        "\n",
        "pickle_dummy_QPSK_dict = pickle_in(\"dummy_AGG_spectrum_QPSK\")\n",
        "pickle_dummy_QAM_dict = pickle_in(\"dummy_AGG_spectrum_QAM\")"
      ],
      "metadata": {
        "id": "IyDGYDa_FV3K"
      },
      "execution_count": 17,
      "outputs": []
    },
    {
      "cell_type": "code",
      "source": [
        "print(pickle_dummy_QAM_dict.keys())\n",
        "pickle_dummy_QAM_dict['-39.90625'].values()"
      ],
      "metadata": {
        "colab": {
          "base_uri": "https://localhost:8080/"
        },
        "id": "3Q8MWMxAFAM7",
        "outputId": "bad41eba-fcc5-4a16-a55e-31f1be86e7ed"
      },
      "execution_count": 20,
      "outputs": [
        {
          "output_type": "stream",
          "name": "stdout",
          "text": [
            "dict_keys(['Distance_km', '-39.90625', '-39.6875', '-39.46875', '-39.25', '-39.03125', '-38.8125', '-38.59375', '-38.375', '-38.15625', '-37.9375', '-37.71875', '-37.5', '-37.28125', '-37.0625', '-36.84375', '-36.625', '-36.40625', '-36.1875', '-35.96875', '-35.75', '-35.53125', '-35.3125', '-35.09375', '-34.875', '-34.65625', '-34.4375', '-34.21875', '-34.0', '-33.78125', '-33.5625', '-33.34375', '-33.125', '-32.90625', '-32.6875', '-32.46875', '-32.25', '-32.03125', '-31.8125', '-31.59375', '-31.375', '-31.15625', '-30.9375', '-30.71875', '-30.5', '-30.28125', '-30.0625', '-29.84375', '-29.625', '-29.40625', '-29.1875', '-28.96875', '-28.75', '-28.53125', '-28.3125', '-28.09375', '-27.875', '-27.65625', '-27.4375', '-27.21875', '-27.0', '-26.78125', '-26.5625', '-26.34375', '-26.125', '-25.90625', '-25.6875', '-25.46875', '-25.25', '-25.03125', '-24.8125', '-24.59375', '-24.375', '-24.15625', '-23.9375', '-23.71875', '-23.5', '-23.28125', '-23.0625', '-22.84375', '-22.625', '-22.40625', '-22.1875', '-21.96875', '-21.75', '-21.53125', '-21.3125', '-21.09375', '-20.875', '-20.65625', '-20.4375', '-20.21875', '-20.0', '-19.78125', '-19.5625', '-19.34375', '-19.125', '-18.90625', '-18.6875', '-18.46875', '-18.25', '-18.03125', '-17.8125', '-17.59375', '-17.375', '-17.15625', '-16.9375', '-16.71875', '-16.5', '-16.28125', '-16.0625', '-15.84375', '-15.625', '-15.40625', '-15.1875', '-14.96875', '-14.75', '-14.53125', '-14.3125', '-14.09375', '-13.875', '-13.65625', '-13.4375', '-13.21875', '-13.0', '-12.78125', '-12.5625', '-12.34375', '-12.125', '-11.90625', '-11.6875', '-11.46875', '-11.25', '-11.03125', '-10.8125', '-10.59375', '-10.375', '-10.15625', '-9.9375', '-9.71875', '-9.5', '-9.28125', '-9.0625', '-8.84375', '-8.625', '-8.40625', '-8.1875', '-7.96875', '-7.75', '-7.53125', '-7.3125', '-7.09375', '-6.875', '-6.65625', '-6.4375', '-6.21875', '-6.0', '-5.78125', '-5.5625', '-5.34375', '-5.125', '-4.90625', '-4.6875', '-4.46875', '-4.25', '-4.03125', '-3.8125', '-3.59375', '-3.375', '-3.15625', '-2.9375', '-2.71875', '-2.5', '-2.28125', '-2.0625', '-1.84375', '-1.625', '-1.40625', '-1.1875', '-0.96875', '-0.75', '-0.53125', '-0.3125', '-0.09375'])\n"
          ]
        },
        {
          "output_type": "execute_result",
          "data": {
            "text/plain": [
              "dict_values([-52.309415891208396, -49.499175050940785, -48.40358641232079, -48.926538891993296, -48.46214026727685, -49.32650621617227, -49.86831107826868, -50.10177630284745, -49.551806075063276, -50.43483532164409, -46.14195932389364])"
            ]
          },
          "metadata": {},
          "execution_count": 20
        }
      ]
    }
  ]
}