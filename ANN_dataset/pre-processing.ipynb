{
 "cells": [
  {
   "cell_type": "code",
   "execution_count": 1,
   "metadata": {},
   "outputs": [],
   "source": [
    "import os, time, csv, math\n",
    "import pandas as pd\n",
    "import numpy as np\n",
    "import matplotlib.pyplot as plt\n",
    "from sklearn.mixture import GaussianMixture\n"
   ]
  },
  {
   "cell_type": "code",
   "execution_count": 2,
   "metadata": {},
   "outputs": [],
   "source": [
    "input_data_path=os.getcwd()+\"/rawData\"\n",
    "distances=list(range(1,26))\n",
    "nsamples=50\n",
    "span_length=80\n",
    "nsymbols=2048\n",
    "\n",
    "######\n",
    "output_data_path=os.getcwd()+\"/trainingData\"\n",
    "min_dist=0\n",
    "max_dist=3000\n",
    "selCP=[1,7,10,15]\n",
    "selCP_pos=[(-3,3),(1,1),(-1,-1),(1,-3)]\n",
    "trainingProp=0.8\n",
    "######"
   ]
  },
  {
   "cell_type": "code",
   "execution_count": 3,
   "metadata": {},
   "outputs": [],
   "source": [
    "X=None\n",
    "Y=[]\n",
    "colnames=['i'+str(i) for i in range(nsymbols)]\n",
    "\n",
    "for d in distances:\n",
    "    dist=d*span_length\n",
    "    if dist<min_dist or dist>max_dist: continue\n",
    "    filename='consts_'+str(d)+'span.csv'\n",
    "    df_aux=pd.read_csv(input_data_path+'/'+filename, sep=\",\", header=None)\n",
    "    df_aux = df_aux.T\n",
    "    df_aux.columns=colnames\n",
    "    Y=Y+[dist]*df_aux.shape[0]\n",
    "    if X is None: X=df_aux\n",
    "    else: X=X.append(df_aux)"
   ]
  },
  {
   "cell_type": "code",
   "execution_count": 4,
   "metadata": {},
   "outputs": [],
   "source": [
    "def strToTuple(s):\n",
    "    s_aux=s.split(\"i\")\n",
    "    s=s_aux[0]+\"j\"\n",
    "    return complex(s)\n",
    "X=X.applymap(strToTuple)"
   ]
  },
  {
   "cell_type": "code",
   "execution_count": 5,
   "metadata": {
    "scrolled": false
   },
   "outputs": [
    {
     "data": {
      "text/plain": [
       "(1250, 2048)"
      ]
     },
     "execution_count": 5,
     "metadata": {},
     "output_type": "execute_result"
    }
   ],
   "source": [
    "X.shape"
   ]
  },
  {
   "cell_type": "code",
   "execution_count": 6,
   "metadata": {},
   "outputs": [],
   "source": [
    "def L2dist(a,b):\n",
    "    return math.sqrt(math.pow(a[0]-b[0],2)+math.pow(a[1]-b[1],2))"
   ]
  },
  {
   "cell_type": "code",
   "execution_count": 7,
   "metadata": {
    "scrolled": false
   },
   "outputs": [],
   "source": [
    "F=[]\n",
    "for i in range(X.shape[0]):\n",
    "    data=list(X.iloc[i,:])\n",
    "    data=[[float(d.real), float(d.imag)] for d in data]\n",
    "    gmm = GaussianMixture(n_components=16, random_state=0, init_params='kmeans').fit(data)\n",
    "    mus=gmm.means_\n",
    "    sigmas=gmm.covariances_\n",
    "    features=[Y[i]]\n",
    "    for j in selCP_pos:\n",
    "        mindist=None\n",
    "        k_inc=None\n",
    "        for k in range(16):\n",
    "            d=L2dist(mus[k],j)\n",
    "            if mindist is None or mindist>d:\n",
    "                mindist=d\n",
    "                k_inc=k\n",
    "        #print(k_inc)\n",
    "        #print(mus[k_inc])\n",
    "        covmat=np.concatenate(list(sigmas[k_inc])).ravel().tolist()\n",
    "        #features = [*features, *mus[k_inc], *[covmat[0], covmat[3]]]\n",
    "        features = [*features, *mus[k_inc], *covmat]\n",
    "    F.append(features)\n",
    "\n",
    "R=np.random.permutation(len(F))    \n",
    "nt=math.ceil(len(F)*trainingProp)\n",
    "\n",
    "rows_training=R[0:nt]\n",
    "rows_testing=R[(nt):(len(F)+1)]"
   ]
  },
  {
   "cell_type": "code",
   "execution_count": 8,
   "metadata": {},
   "outputs": [],
   "source": [
    "header=['dist']\n",
    "for j in selCP:\n",
    "    header=[*header,*['mu_r_'+str(j),'mu_i_'+str(j),'sigma_rr_'+str(j),'sigma_ri_'+str(j),'sigma_ir_'+str(j),'sigma_ii_'+str(j)]]\n",
    "    #header=[*header,*['mu_r_'+str(j),'mu_i_'+str(j),'sigma_rr_'+str(j),'sigma_ii_'+str(j)]]\n",
    "    \n",
    "    \n",
    "F_training=[F[f] for f in rows_training]\n",
    "F_testing=[F[f] for f in rows_testing]\n",
    "\n",
    "with open(output_data_path+'/training_data.csv', 'w', encoding='UTF8', newline='') as f:\n",
    "    writer = csv.writer(f)\n",
    "    # write the header\n",
    "    writer.writerow(header)\n",
    "    # write multiple rows\n",
    "    writer.writerows(F_training)\n",
    "with open(output_data_path+'/testing_data.csv', 'w', encoding='UTF8', newline='') as f:\n",
    "    writer = csv.writer(f)\n",
    "    # write the header\n",
    "    writer.writerow(header)\n",
    "    # write multiple rows\n",
    "    writer.writerows(F_testing)\n"
   ]
  }
 ],
 "metadata": {
  "kernelspec": {
   "display_name": "Python 3",
   "language": "python",
   "name": "python3"
  },
  "language_info": {
   "codemirror_mode": {
    "name": "ipython",
    "version": 3
   },
   "file_extension": ".py",
   "mimetype": "text/x-python",
   "name": "python",
   "nbconvert_exporter": "python",
   "pygments_lexer": "ipython3",
   "version": "3.6.9"
  }
 },
 "nbformat": 4,
 "nbformat_minor": 4
}
