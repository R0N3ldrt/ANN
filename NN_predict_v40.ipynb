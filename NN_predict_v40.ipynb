{
  "nbformat": 4,
  "nbformat_minor": 0,
  "metadata": {
    "colab": {
      "name": "Untitled10.ipynb",
      "provenance": [],
      "authorship_tag": "ABX9TyMyRjBAqyVGxNPij/MrvHnb",
      "include_colab_link": true
    },
    "kernelspec": {
      "name": "python3",
      "display_name": "Python 3"
    },
    "language_info": {
      "name": "python"
    }
  },
  "cells": [
    {
      "cell_type": "markdown",
      "metadata": {
        "id": "view-in-github",
        "colab_type": "text"
      },
      "source": [
        "<a href=\"https://colab.research.google.com/github/R0N3ldrt/Thesis/blob/main/NN_predict_v40.ipynb\" target=\"_parent\"><img src=\"https://colab.research.google.com/assets/colab-badge.svg\" alt=\"Open In Colab\"/></a>"
      ]
    },
    {
      "cell_type": "markdown",
      "source": [
        "# Traininig NN Spectrum"
      ],
      "metadata": {
        "id": "UT4kgsEJEpyY"
      }
    },
    {
      "cell_type": "markdown",
      "source": [
        "# Loading Necesary Libraries"
      ],
      "metadata": {
        "id": "qsIzw6RGEwWp"
      }
    },
    {
      "cell_type": "code",
      "execution_count": 1,
      "metadata": {
        "id": "0YnA2ltpEoSi"
      },
      "outputs": [],
      "source": [
        "# Importing necesary libraries\n",
        "# Libraries for correct code execution \n",
        "\n",
        "import os, time, joblib\n",
        "import pandas as pd\n",
        "import numpy as np\n",
        "import matplotlib.pyplot as plt\n",
        "import math\n",
        "import pickle\n",
        "import random\n",
        "import csv\n",
        "import re\n",
        "import array\n",
        "import seaborn as sns\n",
        "from tqdm import tqdm\n",
        "import tensorflow as tf\n",
        "import os.path\n",
        "\n",
        "from scipy import stats\n",
        "from functools import reduce\n",
        "from random import random, gauss\n",
        "from math import modf, pi, cos, sin, sqrt\n",
        "from sklearn.model_selection import train_test_split\n",
        "from sklearn.preprocessing import MinMaxScaler\n",
        "from sklearn.metrics import r2_score\n",
        "from plotly.subplots import make_subplots\n",
        "from scipy.signal import savgol_filter\n",
        "from scipy.stats.stats import pearsonr\n",
        "from scipy.stats import spearmanr\n",
        "\n",
        "import scipy.stats as st\n",
        "import plotly.graph_objects as go\n",
        "import plotly.express as px\n",
        "from plotly.subplots import make_subplots\n",
        "\n",
        "from keras.models import Sequential\n",
        "from keras.layers import Dense,Conv2D, Flatten\n",
        "from keras.wrappers.scikit_learn import KerasRegressor\n",
        "from keras.callbacks import EarlyStopping\n",
        "from sklearn.mixture import GaussianMixture\n",
        "import os, time, math, csv, joblib\n",
        "import pandas as pd\n",
        "import numpy as np\n",
        "import matplotlib.pyplot as plt\n",
        "import seaborn as sns\n",
        "from sklearn.model_selection import train_test_split\n",
        "from sklearn.preprocessing import MinMaxScaler\n",
        "from sklearn.mixture import GaussianMixture\n",
        "\n",
        "import os, time, math, csv, joblib\n",
        "import pandas as pd\n",
        "import numpy as np\n",
        "from sklearn.model_selection import train_test_split\n",
        "from sklearn.preprocessing import MinMaxScaler\n",
        "from sklearn.mixture import GaussianMixture\n",
        "\n",
        "import warnings\n",
        "warnings.filterwarnings(\"ignore\")\n",
        "\n",
        "sns.set_theme()"
      ]
    },
    {
      "cell_type": "markdown",
      "source": [
        "# Load Enviroment"
      ],
      "metadata": {
        "id": "o99IEHDfE2yy"
      }
    },
    {
      "cell_type": "code",
      "source": [
        "# BLOQUE PARA USAR DESDE COLAB\n",
        "\n",
        "# Google drive loading as work station for local-usage of the files.\n",
        "from google.colab import drive\n",
        "drive.mount('/content/gdrive',force_remount= True)\n",
        "\n",
        "#-----------------------------------------------------------------------------"
      ],
      "metadata": {
        "colab": {
          "base_uri": "https://localhost:8080/",
          "height": 0
        },
        "id": "ruXEP78XE7E5",
        "outputId": "6e57b5e4-8870-431d-ab74-ca601c72b73a"
      },
      "execution_count": 2,
      "outputs": [
        {
          "output_type": "stream",
          "name": "stdout",
          "text": [
            "Mounted at /content/gdrive\n"
          ]
        }
      ]
    },
    {
      "cell_type": "code",
      "source": [
        "# Lista para cambiar los paths rapido.\n",
        "workers = [\"Ronald\", \"Local\"]\n",
        "\n",
        "# Change the number to change the paths.\n",
        "worker = workers[0]\n",
        "\n",
        "if worker == \"Ronald\":\n",
        "  path = \"/content/gdrive/MyDrive/Thesis_Workstation/ANN_dataset\"\n",
        "else: path = os.getcwd()"
      ],
      "metadata": {
        "id": "1Y2-m9DsE74Z"
      },
      "execution_count": 3,
      "outputs": []
    },
    {
      "cell_type": "markdown",
      "source": [
        "# Get working_df"
      ],
      "metadata": {
        "id": "a9bZmAKqRtdK"
      }
    },
    {
      "cell_type": "markdown",
      "source": [
        "## Aggregator"
      ],
      "metadata": {
        "id": "-efCc7PrSORb"
      }
    },
    {
      "cell_type": "code",
      "source": [
        "def prime_number_finder(stop_gap, total_num_of_data):\n",
        "  prime_nums = []\n",
        "  i=2\n",
        "  while i <= stop_gap:\n",
        "    if (total_num_of_data % i==0):\n",
        "      prime_nums.append(i)\n",
        "      break\n",
        "    i+=1\n",
        "  return prime_nums"
      ],
      "metadata": {
        "id": "LpTsisCER__7"
      },
      "execution_count": 4,
      "outputs": []
    },
    {
      "cell_type": "code",
      "source": [
        "def aggreagator_v2(df, stop_gap=50):\n",
        "  total_num_of_data = df.shape[1]\n",
        "  arr_prime = prime_number_finder(stop_gap, total_num_of_data)\n",
        "  #agg_num = np.max(arr_prime)\n",
        "  agg_num = arr_prime[0]\n",
        "\n",
        "  # Creating new df of aggregate values\n",
        "  agg_df = pd.DataFrame()\n",
        "\n",
        "  mid_point = df.shape[1]/2\n",
        "\n",
        "  agg=0\n",
        "  loop_cnt=0\n",
        "  init_column_cnt = 5\n",
        "  while agg<=total_num_of_data:\n",
        "    loop_cnt+=1\n",
        "    # Obtain current last columns stop\n",
        "    agg=agg_num+init_column_cnt\n",
        "    # Select working columns\n",
        "    new_df = df[df.columns[init_column_cnt:agg]]\n",
        "\n",
        "    init_column_cnt += (agg_num)\n",
        "\n",
        "    headers = list(new_df.columns.values) \n",
        "    if loop_cnt <= mid_point:\n",
        "      # Get average of freq values for new header\n",
        "      new_header_name  = headers[-1]\n",
        "    else:\n",
        "      new_header_name = headers[0]\n",
        "    \n",
        "    # Add aggragated values to new df\n",
        "    agg_df[new_header_name] = new_df.mean(axis = 1)\n",
        "  return agg_df"
      ],
      "metadata": {
        "id": "PqkcfV-CSDYv"
      },
      "execution_count": 5,
      "outputs": []
    },
    {
      "cell_type": "markdown",
      "source": [
        "## Find cutoff index"
      ],
      "metadata": {
        "id": "W4h81smRSKUR"
      }
    },
    {
      "cell_type": "code",
      "source": [
        "def remove_tail(df, cut_val, sample_id):\n",
        "  columns_selected = []\n",
        "  old_val = 0\n",
        "  delta = 0\n",
        "  mid_point = int(df.shape[1]/2)\n",
        "  cols_headers  = list(df.columns.values)\n",
        "\n",
        "  for i in range(0, df.shape[1]):\n",
        "    if i == 0:\n",
        "      cell_val = df.iloc[[0], i]\n",
        "      old_val = cell_val[sample_id]\n",
        "    else:\n",
        "      cell_val = df.iloc[[0], i]\n",
        "      val = cell_val[sample_id]\n",
        "      delta = abs(old_val-val)\n",
        "      old_val = val\n",
        "      if delta > cut_val:\n",
        "        if i <= mid_point:\n",
        "          col_name_selected = cols_headers[i+2]\n",
        "        else:\n",
        "          col_name_selected = cols_headers[i-2]\n",
        "          col_name_selected = round(float(col_name_selected), 5)\n",
        "        columns_selected.append(col_name_selected)\n",
        "\n",
        "  return columns_selected"
      ],
      "metadata": {
        "id": "hgUHEniRSJil"
      },
      "execution_count": 6,
      "outputs": []
    },
    {
      "cell_type": "code",
      "source": [
        "# Removing tails conducting multiples loops with variable cutoff value until we get only two columns\n",
        "def remove_tail_main(df, cut_val, sample_id):\n",
        "  old_drop_cols = []\n",
        "  drop_cols = remove_tail(df, cut_val, sample_id)\n",
        "  while len(drop_cols) != 2:  \n",
        "    # If len of columns to be dropped are 0 the select the 2 values smaller and bigger of the previous iteration\n",
        "    if len(drop_cols) == 0 or len(drop_cols) == 1:\n",
        "      drop_cols = [np.min(old_drop_cols), np.max(old_drop_cols)]\n",
        "      break\n",
        "    else:\n",
        "      old_drop_cols = drop_cols\n",
        "      drop_cols = remove_tail(df, cut_val, sample_id)\n",
        "      cut_val += 2\n",
        "  return drop_cols"
      ],
      "metadata": {
        "id": "CNPLl420STJV"
      },
      "execution_count": 7,
      "outputs": []
    },
    {
      "cell_type": "code",
      "source": [
        "def get_working_data_idx_v2(df_mean_sample, sample_id, cut_val = 0):\n",
        "\n",
        "  df = df_mean_sample.iloc[[sample_id - 1]]\n",
        "\n",
        "  #agg_df = aggreagator_v2(df) disable aggragator causing odd data points\n",
        "\n",
        "  col_vals = remove_tail_main(df, cut_val=cut_val, sample_id=sample_id)\n",
        "\n",
        "  left_index_no = df.columns.get_loc(col_vals[0])\n",
        "  rigth_index_no = df.columns.get_loc(col_vals[1])\n",
        "\n",
        "  return left_index_no, rigth_index_no"
      ],
      "metadata": {
        "id": "WFhRhx5USZR7"
      },
      "execution_count": 8,
      "outputs": []
    },
    {
      "cell_type": "code",
      "source": [
        "def cut_off_idx(df): # return tuple with cut-off values (index_left_side, index_rigth_side)\n",
        "  df_mean_sample = df.groupby(['PBRS_id']).mean()\n",
        "  df_mean_sample = df_mean_sample.drop(['row', 'Channels', 'Distance_km', 'power_dBm'], axis = 1)\n",
        "\n",
        "  cut_points = {}\n",
        "  print('Calculating the cutoff values:')\n",
        "  for sample in tqdm(df_mean_sample.index):\n",
        "    left_index_no, rigth_index_no = get_working_data_idx_v2(df_mean_sample, sample_id = sample)\n",
        "    cut_points[sample] = (left_index_no, rigth_index_no)\n",
        "\n",
        "  left_cut_off = np.min([v[0] for k, v in cut_points.items()])\n",
        "  rigth_cut_off = np.max([v[1] for k, v in cut_points.items()])\n",
        "\n",
        "  cut_point = (left_cut_off, rigth_cut_off)\n",
        "  return cut_point"
      ],
      "metadata": {
        "id": "1tG_j9gRSeJ0"
      },
      "execution_count": 9,
      "outputs": []
    },
    {
      "cell_type": "markdown",
      "source": [
        "## Select working data"
      ],
      "metadata": {
        "id": "_2p4y95YSlGe"
      }
    },
    {
      "cell_type": "code",
      "source": [
        "def select_working_data(df, cut_point): # implement cut_off values and Smoothing original df after cutt-of\n",
        "  extra_info_df = df.iloc[:, 0:6]\n",
        "  data_df = df.iloc[:, cut_point[0]+6:cut_point[1]+6]\n",
        "  smoothed_data_frame = pd.DataFrame(savgol_filter(data_df, window_length = 5, polyorder = 2))\n",
        "  \n",
        "  # Adding back headers to the smoothed data\n",
        "  rename_col = {}\n",
        "  cnt = 0\n",
        "  for col in data_df.columns:\n",
        "    h_col = round(float(col), 5)\n",
        "    rename_col[cnt] = h_col\n",
        "    cnt += 1\n",
        "  smoothed_data_frame.rename(columns=rename_col, inplace=True)\n",
        "\n",
        "  working_df = pd.merge(extra_info_df, smoothed_data_frame, left_index=True, right_index=True)\n",
        "  return working_df"
      ],
      "metadata": {
        "id": "TC0PK42wSnTw"
      },
      "execution_count": 10,
      "outputs": []
    },
    {
      "cell_type": "code",
      "source": [
        "def main_cutoff(input_path):\n",
        "  print('Reading data from file.')\n",
        "  df = pd.read_excel(input_path, sheet_name = \"Sheet1\", skiprows=1)\n",
        "  df.iloc[0].fillna(method='bfill', inplace=True)\n",
        "  df.iloc[1:df.shape[0]].fillna(method='pad', inplace=True)\n",
        "  # Adding missing PBRS_id\n",
        "  snippet = []\n",
        "  val_cnt = 1\n",
        "  idx = 0\n",
        "  for sample in range(1, 101):\n",
        "    for sample_id in range(0, 25):\n",
        "      df.at[idx, 'PBRS_id'] = val_cnt\n",
        "      idx +=1\n",
        "      snippet.append(val_cnt)\n",
        "    val_cnt += 1\n",
        "  df['PBRS_id'] = df['PBRS_id'].astype(int)\n",
        "\n",
        "  cut_point = cut_off_idx(df)\n",
        "  working_df = select_working_data(df, cut_point)\n",
        "\n",
        "  return working_df"
      ],
      "metadata": {
        "id": "n5gp_DYpSqEV"
      },
      "execution_count": 11,
      "outputs": []
    },
    {
      "cell_type": "markdown",
      "source": [
        "## Run main cutoff"
      ],
      "metadata": {
        "id": "_IszMVtETKej"
      }
    },
    {
      "cell_type": "code",
      "source": [
        "#input_path = path + \"/Spectrum/16QAM_v2/Copy of dataSet_gamma0_Spectrum31MHz_Samples_16QAM_75GHz_LongHaul_input_25x81km_primeStep.xlsx\"\n",
        "#orking_df = main_cutoff(input_path)\n",
        "#display(working_df)"
      ],
      "metadata": {
        "id": "0MCaO3l2TOEZ"
      },
      "execution_count": 12,
      "outputs": []
    },
    {
      "cell_type": "code",
      "source": [
        "#working_df.to_csv(path+\"/Spectrum/NN/new_data_working_df.csv\", index=False)"
      ],
      "metadata": {
        "id": "OTlGF2TaTiAT"
      },
      "execution_count": 13,
      "outputs": []
    },
    {
      "cell_type": "markdown",
      "source": [
        "#New Train/Test Split"
      ],
      "metadata": {
        "id": "rIpeu9O5teEp"
      }
    },
    {
      "cell_type": "markdown",
      "source": [
        "## Get Reference data"
      ],
      "metadata": {
        "id": "bgUl5jOx2vOg"
      }
    },
    {
      "cell_type": "code",
      "source": [
        "def get_reference_and_sample_data(working_df, num_reference):\n",
        "  import random\n",
        "  num_of_ids = len(working_df['PBRS_id'].unique())\n",
        "\n",
        "  l = list(range(1, num_of_ids+1))\n",
        "  random.shuffle(l)\n",
        "  reference_arr = (l[:num_reference])\n",
        "  sample_arr = l[-(num_of_ids-num_reference):]\n",
        "\n",
        "  reference_data_df = working_df[working_df['PBRS_id'].isin(reference_arr)]\n",
        "  sample_data_df = working_df[working_df['PBRS_id'].isin(sample_arr)]\n",
        "  \n",
        "  return reference_data_df, sample_data_df"
      ],
      "metadata": {
        "id": "ec3YhJwn9Hxx"
      },
      "execution_count": 14,
      "outputs": []
    },
    {
      "cell_type": "markdown",
      "source": [
        "## Get test/train split"
      ],
      "metadata": {
        "id": "gaVlwtnN-Ezo"
      }
    },
    {
      "cell_type": "code",
      "source": [
        "def get_idx_train_test_split(working_df, trainingProp = 0.8):\n",
        "  rows_training = np.array([])\n",
        "  rows_testing = np.array([])\n",
        "  distances = [x*80 for x in range(1, 26)]\n",
        "  for d in distances:\n",
        "    distance_working_df = working_df.loc[working_df['Distance_km'] == d]\n",
        "    rows_mixed=np.random.permutation(distance_working_df.shape[0])\n",
        "\n",
        "    training_amt = math.ceil(distance_working_df.shape[0]*trainingProp)\n",
        "    testing_amt = distance_working_df.shape[0] - training_amt\n",
        "\n",
        "    rows_training = np.append(rows_training, rows_mixed[:training_amt])\n",
        "    rows_testing = np.append(rows_testing, rows_mixed[-testing_amt:])\n",
        "  \n",
        "  rows_training = rows_training.astype('int').tolist()\n",
        "  rows_testing = rows_testing.astype('int').tolist()\n",
        "\n",
        "  return rows_training, rows_testing"
      ],
      "metadata": {
        "id": "yKHiNNANyyDB"
      },
      "execution_count": 15,
      "outputs": []
    },
    {
      "cell_type": "markdown",
      "source": [
        "## Get frequencies filter"
      ],
      "metadata": {
        "id": "WEbwMwMG-9BX"
      }
    },
    {
      "cell_type": "code",
      "source": [
        "def frequencies_filter(df, num_selected_freq=20):\n",
        "  info_df = df.iloc[:, 0:6]\n",
        "  data_df = df.iloc[:, 6:df.shape[1]]\n",
        "  span_val = int(data_df.shape[1]/num_selected_freq)\n",
        "  for i in range(num_selected_freq):\n",
        "    df2 = data_df.iloc[:, (i+1)*span_val].to_frame()\n",
        "    if i+1 == 1:\n",
        "      new_df = df2\n",
        "    else:\n",
        "      new_df = pd.merge(new_df, df2, left_index=True, right_index=True)\n",
        "  new_df = info_df.join(new_df)\n",
        "  \n",
        "  return new_df"
      ],
      "metadata": {
        "id": "RqeELlLC_vlH"
      },
      "execution_count": 16,
      "outputs": []
    },
    {
      "cell_type": "markdown",
      "source": [
        "## Get features"
      ],
      "metadata": {
        "id": "S2Z2xg2yHuoz"
      }
    },
    {
      "cell_type": "code",
      "source": [
        "#sample_freq_data_df\n",
        "#distance_reference_df\n",
        "#selected_rows = rows_training\n",
        "def get_features(sample_freq_data_df, reference_freq_data_df, selected_rows, test_references_params):\n",
        "  data_distance = []\n",
        "  data_mean = []\n",
        "  data_std = []\n",
        "  data_pearson_min = []\n",
        "  data_pearson_mean = []\n",
        "  data_pearson_max = []\n",
        "  data_CI_lower = []\n",
        "  data_CI_upper = []\n",
        "\n",
        "  if test_references_params[0] == True: # Test reference distance portion\n",
        "    reference_freq_data_df = reference_freq_data_df['Distance_km'].isin(test_references_params[1])\n",
        "\n",
        "  for row_idx in tqdm(selected_rows):\n",
        "    reference_Y = reference_freq_data_df.iloc[row_idx,3] # distance of row selected\n",
        "\n",
        "    data_Y = sample_freq_data_df.iloc[row_idx,3] # distance of row selected\n",
        "    data_X = np.array(sample_freq_data_df.iloc[row_idx,6:sample_freq_data_df.shape[1]]) #array of data in row selected\n",
        "    data_distance.append(data_Y)\n",
        "    data_std.append(np.std(data_X))\n",
        "    data_mean.append(np.mean(data_X))\n",
        "\n",
        "    data_ci = st.t.interval(alpha=0.90, df=len(data_X)-1, loc=np.mean(data_X), scale=st.sem(data_X))\n",
        "    data_confidence_int_lower = data_ci[0]\n",
        "    data_confidence_int_upper = data_ci[1]\n",
        "\n",
        "    # Get reference data -----------------\n",
        "    distance_reference_df = reference_freq_data_df.loc[reference_freq_data_df['Distance_km'] == data_Y]\n",
        "    if distance_reference_df.empty:\n",
        "      distance_reference_df = reference_freq_data_df.copy()\n",
        "\n",
        "    pearson_vals = []\n",
        "    confidence_vals_lower = []\n",
        "    confidence_vals_upper = []\n",
        "    for reference_row in range(0, distance_reference_df.shape[0]):\n",
        "      reference_X = np.array(distance_reference_df.iloc[reference_row,6:distance_reference_df.shape[1]])\n",
        "      pearson_vals.append(round(pearsonr(data_X, reference_X)[0], 5))\n",
        "\n",
        "      reference_ci = st.t.interval(alpha=0.90, df=len(reference_X)-1, loc=np.mean(reference_X), scale=st.sem(reference_X))\n",
        "      reference_confidence_int_lower = reference_ci[0]\n",
        "      confidence_vals_lower.append(round(abs(reference_confidence_int_lower - data_confidence_int_lower), 5))\n",
        "      reference_confidence_int_upper = reference_ci[1]\n",
        "      confidence_vals_upper.append(round(abs(reference_confidence_int_upper - data_confidence_int_upper),5))\n",
        "\n",
        "    data_pearson_min.append(np.min(pearson_vals))\n",
        "    data_pearson_mean.append(np.mean(pearson_vals))    \n",
        "    data_pearson_max.append(np.max(pearson_vals))\n",
        "\n",
        "    data_CI_lower.append(np.min(confidence_vals_lower))\n",
        "    data_CI_upper.append(np.min(confidence_vals_upper))\n",
        "\n",
        "  data = {'distance':data_distance,\n",
        "                  'mean':data_mean,\n",
        "                  'std':data_std,\n",
        "                  'pearson_min':data_pearson_min,\n",
        "                  'pearson_mean':data_pearson_mean,\n",
        "                  'pearson_max':data_pearson_max,\n",
        "                  'delta_CI_min':data_CI_lower,\n",
        "                  'delta_CI_max':data_CI_upper}\n",
        "\n",
        "  data_df = pd.DataFrame(data)\n",
        "\n",
        "  \n",
        "  return data_df"
      ],
      "metadata": {
        "id": "8FNsUKTVxZmP"
      },
      "execution_count": 17,
      "outputs": []
    },
    {
      "cell_type": "markdown",
      "source": [
        "## Main train/test split"
      ],
      "metadata": {
        "id": "9V5WNuN9jSZF"
      }
    },
    {
      "cell_type": "code",
      "source": [
        "def get_train_test_split_main(input_path, num_of_freq_selected, reference_amt, test_references_params):\n",
        "  working_df = pd.read_csv(input_path)\n",
        "  working_df['Distance_km'] = working_df['Distance_km'].astype(int)\n",
        "  #working_df = working_df.sample(frac = 1) # Shuffle df\n",
        "\n",
        "  reference_data_df, sample_data_df = get_reference_and_sample_data(working_df, reference_amt)\n",
        "\n",
        "  reference_freq_data_df = frequencies_filter(reference_data_df, num_selected_freq=num_of_freq_selected)\n",
        "  sample_freq_data_df = frequencies_filter(sample_data_df, num_selected_freq=num_of_freq_selected)\n",
        "\n",
        "  rows_training, rows_testing = get_idx_train_test_split(sample_data_df, trainingProp = 0.8)\n",
        "\n",
        "  print('Calculating train split:')\n",
        "  training_df = get_features(sample_freq_data_df, reference_freq_data_df, rows_training, test_references_params)\n",
        "  print('Calculating test split:')\n",
        "  testing_df = get_features(sample_freq_data_df, reference_freq_data_df, rows_testing, test_references_params)\n",
        "\n",
        "  return training_df, testing_df, reference_freq_data_df, sample_freq_data_df, rows_training, rows_testing"
      ],
      "metadata": {
        "id": "uL35uf_RjV3r"
      },
      "execution_count": 18,
      "outputs": []
    },
    {
      "cell_type": "markdown",
      "source": [
        "# Bootstrapping"
      ],
      "metadata": {
        "id": "S_ysZa0NcV0W"
      }
    },
    {
      "cell_type": "markdown",
      "source": [
        "## Get max and min values of each column"
      ],
      "metadata": {
        "id": "WcOO339iclrH"
      }
    },
    {
      "cell_type": "code",
      "source": [
        "def get_max_min_val_col(working_df):\n",
        "  distances = [x*80 for x in range(1, 26)]\n",
        "  data_working_df = working_df.iloc[:, 6:working_df.shape[1]]\n",
        "  h_list = list(data_working_df.columns.values)\n",
        "  max_min_col_dict = {header:[] for header in h_list}\n",
        "\n",
        "  for d in tqdm(distances):\n",
        "    boot_dist_df = working_df.loc[working_df['Distance_km'] == d]\n",
        "    for idx in range(6, boot_dist_df.shape[1]):\n",
        "      max_val_col = float(boot_dist_df.iloc[:, [idx]].max()) # max val in col\n",
        "      min_val_col = float(boot_dist_df.iloc[:, [idx]].min()) # min val in col\n",
        "      h = boot_dist_df.iloc[:, [idx]].columns # header of col\n",
        "      h = h[0]\n",
        "      max_min_col_dict[h].append((d, min_val_col, max_val_col))\n",
        "  return max_min_col_dict"
      ],
      "metadata": {
        "id": "aekr6Y0OcZ3w"
      },
      "execution_count": null,
      "outputs": []
    },
    {
      "cell_type": "markdown",
      "source": [
        "## Create new samples using bootstrap technique"
      ],
      "metadata": {
        "id": "_0nAH77NcoA_"
      }
    },
    {
      "cell_type": "code",
      "source": [
        "def create_bootstrap_samples(working_df, max_min_col_dict, num_of_new_samples, previos_amt_of_samples=13):\n",
        "  import random\n",
        "\n",
        "  row_data = []\n",
        "  PBRS_id_data = []\n",
        "  Distance_km_data = []\n",
        "  power_dBm_data = []\n",
        "  span_data = []\n",
        "\n",
        "  h_list = list(working_df.columns.values)\n",
        "  new_data = {header:[] for header in h_list}\n",
        "\n",
        "  last_row_in_old_df_val = working_df.shape[0]\n",
        "  for new_sample in tqdm(range(num_of_new_samples)): # generating (num_of_new_samples) new samples for en data\n",
        "    for d in distances:\n",
        "      new_data['row'].append(last_row_in_old_df_val)\n",
        "      last_row_in_old_df_val += 1\n",
        "      new_data['PBRS_id'].append(new_sample+(previos_amt_of_samples+1))\n",
        "      new_data['Channels'].append(1)\n",
        "\n",
        "      new_data['Distance_km'].append(d)\n",
        "      new_data['power_dBm'].append(0)\n",
        "      new_data['#span'].append(int(d/80))\n",
        "\n",
        "      for k, v in max_min_col_dict.items(): # header:(d, min_val_col, max_val_col)\n",
        "        for val in v:\n",
        "          if val[0] == d:\n",
        "            bootstrap_val = round(random.uniform(val[1], val[2]), 14)\n",
        "            new_data[str(k)].append(bootstrap_val)\n",
        "            break\n",
        "  new_data_df = pd.DataFrame.from_dict(new_data)\n",
        "\n",
        "  return new_data_df"
      ],
      "metadata": {
        "id": "reVgqwbfckwp"
      },
      "execution_count": null,
      "outputs": []
    },
    {
      "cell_type": "markdown",
      "source": [
        "## Combine previos df with bootstraped df"
      ],
      "metadata": {
        "id": "Yqct6pgmctpY"
      }
    },
    {
      "cell_type": "code",
      "source": [
        "input_path = path + \"/Spectrum/NN/new_data_working_df.csv\"\n",
        "working_df = pd.read_csv(input_path)\n",
        "working_df['Distance_km'] = working_df['Distance_km'].astype(int)\n",
        "\n",
        "max_min_col_dict = get_max_min_val_col(working_df)\n",
        "new_data_df = create_bootstrap_samples(working_df, max_min_col_dict, num_of_new_samples=400, previos_amt_of_samples=100)\n",
        "new_working_df = working_df.append(new_data_df)\n",
        "\n",
        "new_working_df.to_csv(path + \"/Spectrum/NN/bootstraped_new_data_working_df.csv\", index=False)"
      ],
      "metadata": {
        "colab": {
          "base_uri": "https://localhost:8080/"
        },
        "id": "b1mZ4Wb0cvLv",
        "outputId": "19fb3e51-3723-41f7-eb46-e7d871a2c485"
      },
      "execution_count": null,
      "outputs": [
        {
          "output_type": "stream",
          "name": "stderr",
          "text": [
            "100%|██████████| 25/25 [01:52<00:00,  4.49s/it]\n",
            "100%|██████████| 400/400 [01:48<00:00,  3.70it/s]\n"
          ]
        }
      ]
    },
    {
      "cell_type": "markdown",
      "source": [
        "#Test new data"
      ],
      "metadata": {
        "id": "-4aouQ6qQRor"
      }
    },
    {
      "cell_type": "markdown",
      "source": [
        "## Hope better"
      ],
      "metadata": {
        "id": "8Ou1UMjPtiWN"
      }
    },
    {
      "cell_type": "code",
      "source": [
        "def train_test_split_features(training_df, testing_df):\n",
        "  Y = training_df.iloc[:, 0].to_numpy().reshape(-1,1)\n",
        "  X = training_df.iloc[:, 1:(training_df.shape[1])]\n",
        "\n",
        "  sc_input = MinMaxScaler()\n",
        "  sc_output = MinMaxScaler()\n",
        "  Y_train = sc_output.fit_transform(Y) # convert distances to values from 0 to 1\n",
        "  X_train = sc_input.fit_transform(X) # convert features to values from 0 to 1\n",
        "\n",
        "  Y = testing_df.iloc[:, 0].to_numpy().reshape(-1,1)\n",
        "  X = testing_df.iloc[:, 1:(testing_df.shape[1])]\n",
        "\n",
        "  Y_test = sc_output.fit_transform(Y) # convert distances to values from 0 to 1\n",
        "  X_test = sc_input.fit_transform(X) # convert features to values from 0 to 1\n",
        "\n",
        "  joblib.dump(sc_input, path+'/Spectrum/NN/train_test_splits/mod_scaler_input_30_10.joblib')\n",
        "  joblib.dump(sc_output, path+'/Spectrum/NN/train_test_splits/mod_scaler_output_30_10.joblib')\n",
        "\n",
        "  return Y_train, X_train, Y_test, X_test, sc_input, sc_output"
      ],
      "metadata": {
        "id": "Y5i05MQSFkjW"
      },
      "execution_count": 24,
      "outputs": []
    },
    {
      "cell_type": "code",
      "source": [
        "def get_label_data_splits(input_path, num_of_freq_selected, reference_amt, split_done=False, test_references_params=(False, [80, 1040, 2000])):\n",
        "\n",
        "  if split_done == False:\n",
        "    training_df, testing_df, reference_freq_data_df, sample_freq_data_df, rows_training, rows_testing = get_train_test_split_main(input_path, num_of_freq_selected, reference_amt, test_references_params)\n",
        "\n",
        "    training_df.to_csv(path+\"/Spectrum/NN/train_test_splits/mod_bootstraped_new_data_training_data_NN_freq_\"+str(num_of_freq_selected)+\"_reference_\"+str(reference_amt)+\".csv\", header=True, index=False)\n",
        "    testing_df.to_csv(path+\"/Spectrum/NN/train_test_splits/mod_bootstraped_new_data_testing_data_NN_freq_\"+str(num_of_freq_selected)+\"_reference_\"+str(reference_amt)+\".csv\", header=True, index=False)\n",
        "\n",
        "    reference_freq_data_df.to_csv(path+\"/Spectrum/NN/train_test_splits/mod_bootstraped_new_data_Reference_NN_freq_\"+str(num_of_freq_selected)+\"_reference_\"+str(reference_amt)+\".csv\", header=True, index=False)\n",
        "    sample_freq_data_df.to_csv(path+\"/Spectrum/NN/train_test_splits/mod_bootstraped_new_data_Sample_NN_freq_\"+str(num_of_freq_selected)+\"_reference_\"+str(reference_amt)+\".csv\", header=True, index=False)\n",
        "\n",
        "    pickle.dump(rows_training, open(path+\"/Spectrum/NN/train_test_splits/mod_bootstraped_traininig_Rows_NN_freq_\"+str(num_of_freq_selected)+\"_reference_\"+str(reference_amt)+\".pkl\",\"wb\"))\n",
        "    pickle.dump(rows_testing, open(path+\"/Spectrum/NN/train_test_splits/mod_bootstraped_testing_Rows_NN_freq_\"+str(num_of_freq_selected)+\"_reference_\"+str(reference_amt)+\".pkl\",\"wb\"))\n",
        "  else:\n",
        "    training_df = pd.read_csv(path+\"/Spectrum/NN/train_test_splits/mod_bootstraped_new_data_training_data_NN_freq_\"+str(num_of_freq_selected)+\"_reference_\"+str(reference_amt)+\".csv\")\n",
        "    testing_df = pd.read_csv(path+\"/Spectrum/NN/train_test_splits/mod_bootstraped_new_data_testing_data_NN_freq_\"+str(num_of_freq_selected)+\"_reference_\"+str(reference_amt)+\".csv\")\n",
        "    \n",
        "    reference_freq_data_df = pd.read_csv(path+\"/Spectrum/NN/train_test_splits/mod_bootstraped_new_data_Reference_NN_freq_\"+str(num_of_freq_selected)+\"_reference_\"+str(reference_amt)+\".csv\")\n",
        "    sample_freq_data_df = pd.read_csv(path+\"/Spectrum/NN/train_test_splits/mod_bootstraped_new_data_Sample_NN_freq_\"+str(num_of_freq_selected)+\"_reference_\"+str(reference_amt)+\".csv\")\n",
        "    with open(path+\"/Spectrum/NN/train_test_splits/mod_bootstraped_traininig_Rows_NN_freq_\"+str(num_of_freq_selected)+\"_reference_\"+str(reference_amt)+\".pkl\", 'rb') as f:\n",
        "      rows_training = pickle.load(f)\n",
        "    with open(path+\"/Spectrum/NN/train_test_splits/mod_bootstraped_testing_Rows_NN_freq_\"+str(num_of_freq_selected)+\"_reference_\"+str(reference_amt)+\".pkl\", 'rb') as f:\n",
        "      rows_testing = pickle.load(f)  \n",
        "  \n",
        "  Y_train, X_train, Y_test, X_test, sc_input, sc_output = train_test_split_features(training_df, testing_df)\n",
        "\n",
        "  return Y_train, X_train, Y_test, X_test, training_df, testing_df, reference_freq_data_df, sample_freq_data_df, rows_training, rows_testing, sc_input, sc_output"
      ],
      "metadata": {
        "id": "vuhTggzTfTlX"
      },
      "execution_count": 25,
      "outputs": []
    },
    {
      "cell_type": "code",
      "source": [
        "def predict_test(model_ann, Y_test, X_test, sc_output_c, testing_df, remove_outliers=0.05):\n",
        "  print('Results (freq_'+str(num_of_freq_selected)+'_reference_'+str(reference_amt)+')')\n",
        "  # Predit\n",
        "  start_time = time.time()\n",
        "  Y_test_pred=model_ann.predict(X_test)\n",
        "  pred=list(Y_test_pred)\n",
        "\n",
        "  print('Pred:')\n",
        "  print(pred)\n",
        "  \n",
        "  time_eval_ann=time.time()-start_time\n",
        "\n",
        "  dist_min=sc_output_c.data_min_[0] # 80\n",
        "  dist_max=sc_output_c.data_max_[0] # 2000\n",
        "\n",
        "  real=list(list(zip(*Y_test))[0])\n",
        "  real_abs=np.add(dist_min,np.multiply((dist_max-dist_min),real)) # convert back to distances values from scalar\n",
        "  real_abs=[int(np.round(i)) for i in real_abs]\n",
        "  pred_abs=np.add(dist_min,np.multiply((dist_max-dist_min),pred)) # convert back to distances values from scalar\n",
        "\n",
        "  print('Real_abs:')\n",
        "  print(real_abs)\n",
        "  print('Pred_abs:')\n",
        "  print(pred_abs)\n",
        "\n",
        "  real_abs_e1 = real_abs\n",
        "  real_abs_e2 = real_abs\n",
        "\n",
        "  pred_abs_e1 = pred_abs\n",
        "  pred_abs_e2 = pred_abs\n",
        "\n",
        "  error=np.divide(np.abs(np.subtract(np.array(real_abs),np.array(pred_abs))),np.array(real_abs))\n",
        "  error_v2 = np.abs(np.subtract(np.array(real_abs),np.array(pred_abs)))\n",
        "\n",
        "  remove_outliers = math.ceil((len(error_v2)*remove_outliers)/2)\n",
        "\n",
        "  for outlier in range(1, remove_outliers+1):\n",
        "    min_idx_e1 = np.argmin(error)\n",
        "    max_idx_e1 = np.argmax(error)\n",
        "\n",
        "    min_idx_e2 = np.argmin(error_v2)\n",
        "    max_idx_e2 = np.argmax(error_v2)\n",
        "\n",
        "    error = np.delete(error, min_idx_e1)\n",
        "    error = np.delete(error, max_idx_e1)\n",
        "    real_abs_e1 = np.delete(real_abs_e1, min_idx_e1)\n",
        "    real_abs_e1 = np.delete(real_abs_e1, max_idx_e1)\n",
        "    pred_abs_e1 = np.delete(pred_abs_e1, min_idx_e1)\n",
        "    pred_abs_e1 = np.delete(pred_abs_e1, max_idx_e1)\n",
        "\n",
        "    error_v2 = np.delete(error_v2, min_idx_e2)\n",
        "    error_v2 = np.delete(error_v2, max_idx_e2)\n",
        "    real_abs_e2 = np.delete(real_abs_e2, min_idx_e1)\n",
        "    real_abs_e2 = np.delete(real_abs_e2, max_idx_e1)\n",
        "    pred_abs_e2 = np.delete(pred_abs_e2, min_idx_e1)\n",
        "    pred_abs_e2 = np.delete(pred_abs_e2, max_idx_e1)\n",
        "\n",
        "  res=pd.DataFrame({\"dist\":real_abs_e1,\"pred\":pred_abs_e1,\"error\":error})\n",
        "  res.to_csv(path+\"/Spectrum/NN/NN_results_error/mod_bootstraped_new_data_results_curve_freq_\"+str(num_of_freq_selected)+\"_reference_\"+str(reference_amt)+\".csv\", header=True, index=False)\n",
        "\n",
        "  res_v2=pd.DataFrame({\"dist\":real_abs_e2,\"pred\":pred_abs_e2,\"error\":error_v2})\n",
        "  res.to_csv(path+\"/Spectrum/NN/NN_results_error/mod_bootstraped_new_data_results_deltas_freq_\"+str(num_of_freq_selected)+\"_reference_\"+str(reference_amt)+\".csv\", header=True, index=False)\n",
        "  \n",
        "  plt.plot(real_abs_e1,error,'bo')\n",
        "  plt.xlabel('Distances') \n",
        "  plt.ylabel('Error') \n",
        "  plt.title(\"Results Curve (freq_\"+str(num_of_freq_selected)+\"_reference_\"+str(reference_amt)+\")\")\n",
        "  plt.savefig(path+\"/Spectrum/NN/NN_results_plots/mod_bootstraped_new_data_results_curve_freq_\"+str(num_of_freq_selected)+\"_reference_\"+str(reference_amt)+\".png\")\n",
        "  plt.show()\n",
        "  \n",
        "  plt.plot(real_abs_e2,error_v2,'bo')\n",
        "  plt.xlabel('Distances') \n",
        "  plt.ylabel('Error') \n",
        "  plt.title(\"Results Deltas (freq_\"+str(num_of_freq_selected)+\"_reference_\"+str(reference_amt)+\")\")\n",
        "  plt.savefig(path+\"/Spectrum/NN/NN_results_plots/bootstraped_new_data_results_deltas_freq_\"+str(num_of_freq_selected)+\"_reference_\"+str(reference_amt)+\".png\")\n",
        "  plt.show()"
      ],
      "metadata": {
        "id": "VM7Qp086iJzS"
      },
      "execution_count": 26,
      "outputs": []
    },
    {
      "cell_type": "code",
      "source": [
        "def train_model(X_train, Y_train):\n",
        "  print('Training model (freq_'+str(num_of_freq_selected)+'_reference_'+str(reference_amt)+')...')\n",
        "  from keras.models import Sequential\n",
        "  from keras.layers import Dense,Conv2D, Flatten, Dropout\n",
        "  from keras.wrappers.scikit_learn import KerasRegressor\n",
        "  from keras.callbacks import EarlyStopping\n",
        "  from tqdm.keras import TqdmCallback\n",
        "\n",
        "  def ann():\n",
        "      model = Sequential()\n",
        "      model.add(Dense(76, input_dim = 7, activation = 'tanh'))\n",
        "      model.add(Dense(38,activation='tanh'))      \n",
        "      model.add(Dense(19,activation='tanh'))\n",
        "      model.add(Dense(19,activation='tanh'))\n",
        "      model.add(Dense(9,activation='tanh'))\n",
        "      model.add(Dense(1))\n",
        "      model.compile(loss ='mean_squared_error',optimizer = 'RMSprop')\n",
        "      return model\n",
        "\n",
        "  model_ann = KerasRegressor(build_fn=ann,epochs=8000,batch_size=32, verbose=0)\n",
        "\n",
        "  start_time = time.time()\n",
        "  callback = [EarlyStopping(monitor='loss', patience=500)]#, TqdmCallback(verbose=2)]\n",
        "  model_ann.fit(X_train, Y_train, callbacks=callback)\n",
        "  time_train_ann = time.time() - start_time\n",
        "\n",
        "  model_ann.model.save(path+\"/Spectrum/NN/NNs/mod_bootstraped_final_new_data_NN_model_freq_\"+str(num_of_freq_selected)+\"_reference_\"+str(reference_amt)+\".h5\")\n",
        "  model_ann.model.save_weights(path+\"/Spectrum/NN/NNs/mod_bootstraped_final_new_data_NN_model_Weights_freq_\"+str(num_of_freq_selected)+\"_reference_\"+str(reference_amt)+\".h5\", overwrite=True)\n",
        "  \n",
        "  return model_ann"
      ],
      "metadata": {
        "id": "eg-RpJrnfDCC"
      },
      "execution_count": 27,
      "outputs": []
    },
    {
      "cell_type": "code",
      "source": [
        "num_of_freq_selected = 10\n",
        "reference_amt = 30\n",
        "input_path = path + \"/Spectrum/NN/bootstraped_new_data_working_df.csv\"\n",
        "\n",
        "Y_train_c, X_train_c, Y_test_c, X_test_c, training_df_c, testing_df_c, reference_freq_data_df_c, sample_freq_data_df_c, rows_training_c, rows_testing_c, sc_input_c, sc_output_c = get_label_data_splits(input_path, num_of_freq_selected, reference_amt, split_done=False)"
      ],
      "metadata": {
        "id": "HO4JJwuiQTCe",
        "colab": {
          "base_uri": "https://localhost:8080/"
        },
        "outputId": "9d838f24-429b-4982-89e2-c3498081ee5c"
      },
      "execution_count": 28,
      "outputs": [
        {
          "output_type": "stream",
          "name": "stdout",
          "text": [
            "Calculating train split:\n"
          ]
        },
        {
          "output_type": "stream",
          "name": "stderr",
          "text": [
            "100%|██████████| 9400/9400 [05:39<00:00, 27.69it/s]\n"
          ]
        },
        {
          "output_type": "stream",
          "name": "stdout",
          "text": [
            "Calculating test split:\n"
          ]
        },
        {
          "output_type": "stream",
          "name": "stderr",
          "text": [
            "100%|██████████| 2350/2350 [01:25<00:00, 27.40it/s]\n"
          ]
        }
      ]
    },
    {
      "cell_type": "code",
      "source": [
        "model_ann_c = train_model(X_train_c, Y_train_c)\n",
        "'''\n",
        "# Load network\n",
        "from keras.models import load_model\n",
        "model_ann_c = KerasRegressor(build_fn=ann, epochs=8000, batch_size=32, verbose=0)\n",
        "model_ann_c.model = load_model(path+\"/Spectrum/NN/NNs/bootstraped_final_new_data_NN_model_freq_\"+str(num_of_freq_selected)+\"_reference_\"+str(reference_amt)+\".h5\")\n",
        "'''"
      ],
      "metadata": {
        "colab": {
          "base_uri": "https://localhost:8080/",
          "height": 70
        },
        "id": "9XynTocCnzhi",
        "outputId": "16856d47-0a4a-4ef3-f8ef-60173b267f5f"
      },
      "execution_count": 29,
      "outputs": [
        {
          "output_type": "stream",
          "name": "stdout",
          "text": [
            "Training model (freq_10_reference_30)...\n"
          ]
        },
        {
          "output_type": "execute_result",
          "data": {
            "text/plain": [
              "'\\n# Load network\\nfrom keras.models import load_model\\nmodel_ann_c = KerasRegressor(build_fn=ann, epochs=8000, batch_size=32, verbose=0)\\nmodel_ann_c.model = load_model(path+\"/Spectrum/NN/NNs/bootstraped_final_new_data_NN_model_freq_10_reference_30.h5\")\\n'"
            ],
            "application/vnd.google.colaboratory.intrinsic+json": {
              "type": "string"
            }
          },
          "metadata": {},
          "execution_count": 29
        }
      ]
    },
    {
      "cell_type": "code",
      "source": [
        "#predict_test(model_ann_c, Y_test_c, X_test_c, sc_output_c)\n",
        "predict_test(model_ann_c, Y_test_c, X_test_c, sc_output_c, testing_df_c, remove_outliers=0.05)"
      ],
      "metadata": {
        "id": "sNy39pL-mxsN",
        "colab": {
          "base_uri": "https://localhost:8080/",
          "height": 726
        },
        "outputId": "a81fb555-bd46-498b-ca78-4d32d9343b8e"
      },
      "execution_count": 30,
      "outputs": [
        {
          "output_type": "stream",
          "name": "stdout",
          "text": [
            "Results (freq_10_reference_30)\n",
            "Pred:\n",
            "[0.21089081, 0.3000035, 0.341572, 0.4239419, 0.6237643, 0.7138796, 0.16547829, 0.04911208, 0.4627845, 0.7912681, 0.45988753, 1.0010011, 0.7915034, 0.002498597, 0.37859482, 0.6663705, 0.5796257, 0.29773033, 0.6644243, 0.1321041, 0.50333667, 1.0046657, 0.87914014, 0.049412906, 0.5422084, 0.6257365, 0.12902203, 0.5880914, 0.38755494, 0.5427776, 0.6709273, 0.7522366, 0.64332724, 0.21188222, 0.7163936, 0.12780091, 0.042280644, 0.24856359, 0.9170463, 0.6748588, 0.21761438, 0.13232172, 0.83884716, 0.6741873, 0.62334204, 0.46001095, 0.20924853, 0.2533899, 0.9651178, 0.71373415, 0.5060533, 0.08219698, 0.7588283, -0.00048723817, 0.92407775, 0.41744265, 0.2932057, 0.20776153, 0.46715015, 0.8330997, 0.791301, 0.33636755, 0.30310193, 0.040552557, 0.17005497, 0.62938696, 0.9154502, 0.62788916, 0.46011844, 0.42711526, 0.17010848, 0.9601793, 0.7124909, 0.505735, 0.96464074, 0.79593444, 0.58221877, 0.8799597, 0.67177933, 0.6272818, 0.6744703, 0.873801, 0.96211874, 0.29438508, 0.17531744, 0.5479716, 0.25001234, 0.62470007, 1.0016242, 0.29082054, 0.3812086, 0.34282452, 0.33787912, 0.88060033, 0.9601793, 0.83884716, 0.7940441, 0.5125543, 0.37060747, 0.5427776, 0.4617131, 0.8324387, 0.33958307, 0.12502575, 0.2533899, 0.5865694, 0.21089081, 0.5437548, 0.0854103, 1.00503, 0.7530656, 0.4242051, 0.29974005, 0.7115289, 0.7546892, 0.16844171, 0.0035722852, 0.33787912, 0.665081, 0.13126454, 0.83197975, 0.16547829, 0.37961861, 0.4627845, 0.21031785, 0.13044855, 0.6697942, 0.5438644, 0.17531744, 0.16797453, 0.75062567, 0.21284367, 0.3809033, 0.92075574, 0.29891503, 0.20447828, 0.5085759, 0.083209336, 0.75741327, 0.96075225, 0.7540641, 0.791301, 0.50747293, 0.6748588, 0.83225745, 0.33636755, 0.33661792, 0.50382453, 0.044248194, 0.04126075, 0.5469479, 0.41744265, 0.9170463, 1.0035563, 0.29773033, 0.24712192, 0.6269259, 0.1321041, 0.84146404, 0.0019423068, 0.62884235, 0.5834607, 1.0046657, 0.9608849, 0.3818532, -0.00048723817, 0.42257723, 0.11845985, 0.25421673, 0.75474066, 0.88060033, 0.2102586, 0.9602226, 0.67132795, 1.0016038, 0.42398942, 0.96942604, 0.041116267, 0.087712884, 0.665653, 0.6256647, 0.5479716, 0.04911208, 0.42218906, 0.669773, 0.38826203, 0.000916481, 1.0010011, 0.91802585, 0.2912389, 0.50240535, 0.8796607, 0.21074864, 0.20447828, 0.33688152, 0.62884235, 0.9171014, 0.5801014, 0.25517854, 0.5865694, 0.95946205, 0.8779012, 0.8775159, 0.96942604, 0.37521458, 0.7152673, 0.5438644, 0.7979213, 0.9181762, 0.6644243, 0.21188222, 0.42257723, 0.83884716, 0.29974005, 0.25221133, 0.13044855, 0.4580258, 0.08601004, 0.71551496, 0.122663945, 0.4763137, 1.0027574, 0.46220767, 0.54798865, 0.3031019, 0.96211874, 0.6278734, 0.12902203, 0.46715015, 0.3818532, 0.13232172, 0.12882206, 0.3053363, 0.71272856, 0.2502368, 0.42062834, 0.7940441, 0.58825934, 0.9625131, 0.37859482, 0.21546014, 0.38826203, 0.4239419, 0.00014567375, 0.040467024, 0.75724906, 0.24949269, 0.88060033, 0.2108399, 0.9608849, 0.83168405, 0.04126075, 0.7508825, 0.67177933, 0.041348428, 0.5422083, 0.17031075, 0.33800265, 0.00036633015, 0.58221877, 0.92075574, 0.96219456, 0.33063313, 0.11845985, 0.5427776, 0.74995273, 1.0046657, 0.7100252, 0.9947599, 0.92407775, 0.50136966, 0.66495526, 0.38041833, 0.6256647, 0.8345729, 0.58482754, 0.5487599, 0.29773033, 0.12804905, 0.5410939, 0.28805315, 0.3267932, 0.41391867, 0.12864295, 1.0099759, 0.33063313, 1.001001, 0.7915034, 0.3812086, 0.9170463, 0.71373415, 0.8388942, 0.17010848, 0.25476626, 0.5479716, 0.58568823, 0.5853816, 0.88009214, 0.791301, 0.6697941, 0.5438905, 0.20717287, 0.7522366, 0.6701168, 0.040754825, 0.5865694, 0.5834607, 0.9582927, 0.79139405, 0.29814947, 0.54213554, 0.58482754, 0.9947599, 0.9181762, 0.044228286, 0.50240535, 0.17291592, 0.2917475, 0.040552557, 0.7163937, 0.29891503, 0.3798295, 0.21284367, 0.6248343, 0.41744265, 0.38195756, 0.7912681, -0.00061008334, 0.79593444, 0.505735, 0.96942604, 0.5460218, 0.75287277, 0.8345729, 0.21074864, 0.58365065, 0.0035722852, 0.24975213, 1.00503, 0.7106161, 0.25421673, 0.1321041, 0.04651147, 0.67431295, 0.20732433, 0.58221877, 0.5031562, 0.5422084, 0.42261472, 0.8779012, 0.715515, 0.5880914, 0.5863502, 0.87914014, 0.5443671, 0.8827918, -0.00023254752, 0.6744703, 0.37320372, 0.6709273, 0.75062567, 0.7103379, 0.3818532, -0.00033816695, 0.45610315, 0.6237643, 0.5018886, 0.08386135, 0.41797718, 0.7115289, 0.084563315, 0.33800265, -0.0008057952, 0.2502368, 0.8350513, 0.37521458, 0.20862924, 0.045436352, 0.08386135, 0.7522366, 0.6731792, 0.1321041, 0.2977303, 0.83457303, 0.8330997, 0.5125543, 0.5031562, 0.7937021, 0.1657348, 0.54697657, 0.505735, 0.50747293, 0.87576604, 0.040176243, 0.8833884, 1.0016038, 0.5422084, 0.12902203, 0.20972484, 0.6741873, 0.2912389, 0.7530656, 0.87956655, 0.25286657, 0.54213554, 0.16844171, 0.46715015, 0.041348457, 0.7180064, 0.42261472, 0.873801, 0.3031019, 0.33787912, 0.796265, 0.25421664, 0.0033484995, 0.8417564, 1.0034415, 0.96075225, 0.040754825, 0.8385001, -0.0008057952, 0.9651178, 0.83225745, 0.504317, 0.1718732, 0.049412906, 0.63064224, 0.5863502, 0.7522986, 0.41744265, 0.9197242, 0.42711526, 0.08601004, 0.75287277, -0.00023254752, 0.25476626, 0.6663705, 0.7546892, 0.7540641, 0.45988753, 0.17531744, 0.4265688, 0.83168405, 0.4225313, 0.58482754, 0.74995273, 0.50333667, 0.29592383, 0.46220765, 0.3350833, 0.79990125, 0.6701168, 0.084563315, 0.4671775, 0.7147381, 0.16827613, 0.25517854, 0.79593444, 0.41391867, 0.5801014, 0.49980175, 0.16793115, 0.4614411, 0.21188222, 0.0019423068, 0.67431295, 0.36806062, 0.9994767, 0.4667656, 0.6272818, 1.0060569, 0.7124909, 0.74802655, 0.88060033, 0.96211874, 0.9197346, 0.25001234, 0.83337486, 0.08466032, 0.29204637, 0.8741522, 0.20924853, 0.9210217, 0.122663945, 0.20776153, 0.08594763, 0.87577224, 0.12739155, 0.1651792, 1.0046047, 0.79524326, 0.45442072, 0.49980175, 0.044228286, 0.6257365, 0.087712884, 0.33661792, 0.84000576, 0.5438644, 1.0059432, 0.33063313, 0.42711526, 0.3798295, 0.37859482, 0.33411524, 0.96219456, 0.8324387, 0.505735, 0.12969765, 0.04109183, 0.29592386, 0.33787912, 0.55134153, 0.79139405, 0.08515188, 0.665653, 0.83168405, 0.71205527, 0.083447695, 0.041348457, 0.8833884, 0.7937677, 0.66495526, 0.2885064, 0.29891503, 0.4239419, 0.42649823, 0.62334204, 0.41682893, 0.42516428, 0.74995273, 0.9994767, 0.08854172, 0.33958307, 0.64332724, 0.3000035, 0.25309893, 0.8385001, 0.665081, 0.37521458, 0.9579551, 0.6247, 0.8789587, 0.21284367, 0.588603, 0.6272425, 0.41797718, 0.7040204, 0.1718732, 0.5797685, 0.1657348, 0.37700912, 0.42261472, 0.62566453, 0.5490147, 0.7540641, 0.9608849, 0.54697657, 0.21089081, 0.5031562, 0.95994174, 0.92075574, 0.2102586, 0.29773033, 0.25179124, 0.3350833, 0.6741873, 0.11845985, 0.9181762, 0.37644848, 0.5031562, 0.6663705, 0.5443671, 0.04433441, 0.16674478, 0.5060533, 0.29082054, 0.24439327, 0.38041833, 0.25476626, 0.16863157, 0.9232428, 0.8388942, 0.42516428, 0.87692344, 0.0027434528, 0.8328459, 0.6709273, 0.4617131, 0.087712884, 0.54697657, 0.3818532, 0.5863502, 0.6257365, 0.74995273, 0.46001095, 0.79534936, 0.043560237, 0.9994767, 0.45632842, 0.7147381, 0.083447695, 0.002498597, 0.00014567375, 0.4614411, 0.040176243, 0.71387947, 0.24712192, 1.0046657, 0.42062834, 0.0019423068, 0.12780091, 0.9608849, 0.5437548, 0.6262655, 0.92254865, 0.96219456, 0.29204637, 0.5457833, 0.20510454, 0.74802655, 0.7535694, 0.25421673, 0.75298387, 0.33787912, 0.28805315, 0.17276897, 0.79593444, 0.040552557, 0.9177648, 0.0049927533, 0.59084237, 0.4225313, 0.3267932, 0.46220765, 0.6731792, 0.29592383, 0.25023675, 0.46221784, 0.46011844, 0.75741327, 0.505735, 0.5891461, 0.2108399, 0.8799597, 0.16716497, 0.55134153, 0.21546014, 0.21074864, 0.42257723, 0.796265, 0.04911208, 0.33958307, 0.83830833, 1.0040817, 0.5487599, 0.994154, 1.00503, 0.12518212, 0.6650633, 0.37961861, 0.2546024, 0.16779438, 0.79524326, 0.5834607, 0.08594763, 0.9232428, 0.11845985, 0.08386135, 0.4251644, 0.3392835, 0.7472131, 0.3809033, 0.9181762, 0.25179124, 0.9651178, 0.5437548, 0.12739155, 0.045436352, 0.12882206, 0.91802585, 1.0010011, 0.3000035, 0.7979213, 0.665081, 0.16793115, 0.8799597, 0.2906737, 0.3798295, 0.8345729, 1.0040817, 0.6272818, 0.08515188, 0.24712192, 0.92254865, 0.6741873, 0.5422084, 0.83884716, 0.7981048, 0.9994767, 0.044248194, 0.87380093, 0.001866281, 0.92466474, 1.0046657, 0.67431295, 0.37060747, 0.4614411, 0.08601004, 0.3818532, 0.46715015, 0.0851686, 0.37644848, 0.84000576, 0.12864345, 0.58568823, 0.049412906, 0.25309893, 0.29814947, 0.3267932, 0.422597, 0.66645575, 0.5427776, 0.41391867, 0.29438508, 0.16716497, 0.36806062, 0.8388942, 0.42261472, 0.34022892, 0.4225313, 0.45610315, 0.044659108, 0.79423344, 0.33063328, 0.83225745, -0.0011268258, 0.7103379, 0.7115289, 0.96464074, 0.20717287, 0.5060533, 0.83845216, 0.08854172, 0.75724906, 0.12798744, 0.044228286, 1.0059432, 0.87895876, 0.9656242, 1.0046047, 0.62566453, 0.07402691, 0.96219456, 0.1275182, 0.669773, 0.6650633, 0.58444834, 0.20776153, 0.9660903, 0.7920424, 1.0040817, 0.6257671, 0.41151446, 0.791301, 0.88319165, 0.83884716, 0.083209336, 0.9171014, 0.75741327, 0.91802585, 0.3350833, -0.00031870604, 0.74802655, 0.42062834, 0.33958307, 0.2083617, 0.1718732, 0.002498597, 0.25409243, 0.7937677, 0.6248343, 0.5427776, 0.8775159, 0.3031019, 0.38755494, 0.7981048, 0.045436352, 0.7530656, 0.29974005, 0.79524326, 0.3798295, 0.7588283, 0.3392835, 0.16674481, 0.463384, 0.59084237, 0.34022892, -0.0011268258, 0.3818532, 0.24712192, 0.08854172, 0.0850752, 0.13126454, 0.41797718, 0.6644243, 0.37397835, 0.5438905, 0.00048810244, 0.5834607, 0.7522986, 0.20972484, -0.00033816695, 0.45442072, 0.2563717, 0.1657348, 1.0016038, 0.71373415, 0.54350424, 0.5880914, 0.7103379, 0.71584874, 0.45988753, 0.5438644, 0.75062567, 0.4671775, 0.12798744, 0.63064224, 0.0035722852, 0.50857586, 0.3368201, 0.4580258, 0.7969112, 0.6697941, 0.46001095, 0.62334204, 0.2906737, 0.25221133, 0.54617304, 0.37840062, 0.5479887, 0.4667656, 0.7152673, 0.83197975, 0.16779438, 0.7138796, 0.83845216, 0.6644243, 0.07402691, 0.12739155, 0.75741327, 0.38041833, 0.00048810244, 0.79423356, 0.41682893, 0.25476626, 1.0059432, 0.5883444, 0.54617304, 0.16844171, 0.08248812, 0.45802572, 0.75287277, 0.5060533, 0.5490147, 0.08601004, 0.7535694, 0.95946205, 0.58482754, 0.6259122, 0.96451616, 0.7920424, 0.58444834, 0.8324387, 0.588603, 0.96464074, 0.7588283, 0.13126454, 0.7979213, 0.4671775, 0.5968982, 0.0049927533, 0.044248194, 0.463384, 0.79139405, 0.24949269, 0.17291592, 0.002498597, 1.0063335, 0.21031785, 0.33063313, 0.3798295, 0.6257365, 0.791301, 0.8789587, 0.25286657, 0.505735, 0.341572, 0.0854103, 0.6237643, 0.6663705, 0.5410939, 0.92254865, 0.5834607, 1.0046047, 0.50048304, 0.26272386, 0.20862924, 0.42711526, 0.71272856, 0.044659108, 0.37320372, 0.21761438, 0.37644848, 0.37521458, 0.58825934, 0.50333667, 0.0851686, 0.040552557, 0.5797685, 0.9602226, 0.5125543, 0.1718732, 0.2546024, 0.3812086, 0.49977246, 0.38185316, 0.34230047, 0.46611333, 0.83884716, 0.42261472, 0.29891503, 0.75298387, 0.7180064, 0.8010305, 0.1657348, 0.9656242, 0.5438644, 1.0027574, 0.9280418, 0.50240535, 0.6269259, 0.59084237, 0.46011844, 0.5031562, -0.0008057952, 0.12864345, 0.2932057, 0.34282452, 0.79990125, 0.002498597, 0.20776153, 1.0060569, 0.87914014, 0.75287277, 0.2912389, 0.34230047, 0.37700918, 0.50222313, 0.21546014, 0.25409243, 0.796265, 0.5801014, 0.37521458, 0.7106161, 0.7103379, 0.29814947, 0.5863502, 0.5880914, 0.25476626, 0.9660903, 0.087712884, 0.41797718, 0.7133104, 0.33063313, 0.33800265, 0.04651147, 0.33787912, 0.83197975, 0.29974005, 0.9579551, 0.8387651, -0.00061008334, 0.58365065, 0.2102586, 0.2906737, 0.92407775, 0.16962221, 0.83225745, 0.25421664, 0.08313236, 0.5490147, 0.8388942, 0.96464074, 0.9602226, 0.79423356, 0.4627845, 0.45610315, 0.96451616, 0.17531744, 0.7180064, 0.75724906, 0.17010848, 0.04126075, 0.3798295, 0.71551496, 0.08466041, 0.040467024, 0.6272818, 0.044248194, 0.16716497, 0.2502368, 0.3053363, 0.9210217, 0.5422084, 0.33958307, 0.34022892, 0.96219456, 1.0063335, 0.6237643, 0.7524189, 0.54617316, 0.16863154, 1.0046657, 1.0016242, 0.71205527, 0.79593444, 0.4239419, 0.6690352, 0.0019423068, 1.0040817, 0.21188222, 0.9154502, 0.6731792, 0.6259122, 0.08219698, 0.087712884, 0.62334204, 0.95946205, 0.84146416, 0.17010848, 0.41682893, 0.8775159, 0.21074864, 0.7540641, 0.75741327, 0.25001234, 0.37700912, 0.3809033, 0.7979213, 0.37644848, 0.4242051, 0.665653, 0.54602164, 0.9181762, 0.6278734, 0.20776153, -0.00061008334, 0.12502575, 0.9197346, 0.5797685, 0.96464074, 0.5490147, 0.7133104, 0.34022892, 0.20924853, -0.00023254752, 1.0099759, 0.54350424, 0.04109189, 0.58568823, 0.044228286, 0.21761438, 0.0027434528, 0.8010305, 0.8387651, 0.0018662512, 0.6741873, 0.26272386, 0.83225745, 0.7115289, 0.2917475, 1.0063335, 0.3267932, 0.6650633, 0.20447822, 0.045436352, 0.50222325, 0.49980175, 0.5018886, 0.75159615, 0.21284367, 0.791301, 0.29891503, 0.79166985, 0.5891461, 0.3350833, 0.873801, 0.87577224, 0.41992804, 0.33787912, 0.29204637, 0.25221133, 0.083209336, 0.21546014, 0.54213554, 0.6748588, 0.5796257, 0.5125543, 0.20972484, 0.92357695, 0.46611333, 0.13044855, 0.9210217, 0.6257671, 0.16844171, 1.0027574, 0.6272817, 0.7547407, 0.62938696, 0.505735, 0.6256647, 0.7106161, 0.7535694, 0.63064224, 0.3412162, 0.08466041, 0.8328459, 0.463384, 0.29438508, 0.12739155, 0.25309893, 0.20510454, 0.4614411, 0.25221133, 0.6259122, 0.46611333, 0.5018886, 0.20776153, 0.16716497, 0.7940441, 0.7546892, 0.7040204, 0.9579551, 0.04109189, 0.12498993, 0.38195756, 0.7106161, 0.3031019, 0.2083617, 0.54697657, 0.3809033, 0.045436352, 0.2563717, 0.791301, 0.95994174, 0.5469479, 0.0851686, 0.6269259, 0.37961861, 0.4671775, 0.3392835, 0.6257365, 0.1718732, 0.64332724, 0.5443671, 0.83830833, 0.083447695, 0.54617304, 0.92075574, 0.9602226, 0.6278734, 0.71272856, 0.50222325, 0.9280418, 0.42711526, 0.5479716, 0.7979213, 0.79593444, 0.7915034, 0.5490147, 0.92449987, 0.37320367, 0.20732433, 0.79990125, 0.46011844, 0.1651792, 0.42398942, 0.46715015, 0.13232172, 0.08820298, 0.049412906, 0.46220765, 1.0063335, 0.38469544, 1.0010011, 0.62938696, 0.9994767, 0.87895876, 0.2907992, 0.9154502, 0.17531744, 0.0850752, 0.341572, 0.6741873, 0.7524189, 0.83168405, 0.6262655, 0.08854172, 0.6272425, 0.11845985, 0.08085349, 0.5060533, 0.58444834, 0.087712854, 0.6257671, 0.5045285, 0.6272818, 0.9210217, 0.7133104, -0.00048723817, 0.66645575, 0.33063313, 0.25409243, 0.6278734, 0.8350513, 0.5443671, 0.42261472, 0.040754825, 0.5018886, 0.75287277, 0.08854172, 0.79534936, 0.6697941, 0.5460218, 1.0016038, 0.04109189, 0.58825934, 0.21074864, 0.41797718, 0.4265688, 0.5880914, 0.7979213, 0.20776153, 0.6257671, 0.6247, 0.67485875, 0.29773033, 0.041348457, 0.9602226, 0.6257365, 0.4242051, 0.7546892, 0.7969112, 0.37060747, 0.42257723, 0.96211874, 0.79524326, 0.043560237, 0.044248194, 0.17010848, 0.83845216, 0.45988753, 0.75741327, 0.71272856, 0.9197242, 0.75298387, 0.24856359, 0.4763137, 0.42398942, 0.9177648, 0.33682013, 0.54697657, 0.422597, 0.34022892, 0.62566453, 0.8799597, 0.16674478, 0.41682902, 0.20717287, 0.70971, 0.6650633, 0.50136966, 0.7912681, 0.45610315, 0.75474066, -2.0295382e-05, 0.6741873, 0.79166985, 0.41992804, 0.64332724, 0.41744265, 0.20862924, 0.16779438, 0.17005497, 0.74802655, 0.665081, 0.7530656, 0.7940441, 0.42218906, 0.7147381, 1.0046657, 0.588603, 0.5427776, 0.33958307, 0.5968982, 0.34282452, 0.0033484995, 0.0019423068, 0.04433441, 0.71387947, 0.044659108, 0.9197346, 0.92449987, 0.3000035, 0.16779438, 1.0027574, 0.9280418, 0.25409243, 0.92254865, 0.45632842, 0.20972484, 0.21188222, 0.9177648, 0.08515188, 0.75159615, 0.87577224, 0.16793115, 0.7163936, 0.00036633015, 0.8775159, 0.12780091, 0.29438508, 0.6663705, 0.9170463, 0.7588283, 0.16797453, 0.5853816, 0.87914014, 1.0007051, 0.4671775, 0.0850752, 0.08248812, 0.12882206, 0.46220765, -0.00048723817, 0.2502368, -2.0295382e-05, 0.341572, 0.4611747, 0.122663945, 0.41744265, 0.5125543, 0.1651792, 0.5457833, 0.41797718, 0.42062834, 0.24975213, 0.7138796, 0.75741327, 0.7508825, 0.6257365, 0.16844171, 0.4614411, 0.92407775, 0.58482754, 0.38469544, 0.37644848, 0.96942604, 0.96219456, 0.8385001, 0.66645575, 0.2932057, 0.79166985, 0.33787915, 0.9197242, 0.4239419, 0.59084237, 0.8417564, 0.83845216, 0.58444834, 0.7180064, 0.8324387, 0.041348457, 0.665081, 0.29891503, 0.3798295, 0.79990125, 0.5863502, 0.3031019, 0.6256647, 0.38755494, 0.8779012, 0.75474066, 0.25221133, 0.7090448, 0.71373415, 0.5427776, 0.07402691, 0.7912681, 0.25001234, 0.6709273, 0.5031562, 0.92075574, 0.25179124, 0.91802585, 0.12798744, 0.25476626, 0.75287277, 0.29082054, 0.00048810244, 0.7180064, 0.92449987, 0.8831916, 0.044228286, 0.9177648, 0.46715015, 0.7508825, 0.00014567375, 0.2917475, 0.20447828, 0.8417564, 0.54350424, 1.0010011, 0.58568823, 0.040552557, 0.37060747, 0.7546892, 0.24439327, 0.07402691, 0.24975213, 0.0018662512, 0.50747293, 0.08219698, 0.7163936, 0.9947599, 0.16779438, 0.62591213, 0.95994186, 0.6701168, 0.96075225, 0.5457833, 0.12882206, 0.36806062, 0.5968982, 0.5438905, 0.38826203, 0.38469544, 0.79990125, 0.42516428, -0.0008057952, 0.34282452, 0.38755494, 0.54617304, 0.33063313, 0.16844171, 0.5034529, 0.08854172, 0.2563717, 0.2885064, 0.2912389, 0.21188222, 0.002498597, 0.2102586, 0.6272425, 1.0099759, 0.4239419, 0.5438644, 0.16716497, 0.50136954, 0.4242051, 0.122663945, 0.5060533, 0.70971, 0.5125543, 0.88060033, 0.12864345, 0.45610315, 0.5853816, 0.67177933, 0.1718732, 0.25409243, 0.7115289, 0.42257723, 0.42398942, 0.7937021, 0.08248812, 0.8385001, 0.6257671, 0.8387651, 0.043560237, 0.79423356, 0.5460218, 0.6269259, 0.66645575, 0.7522986, 0.7040204, 0.20732433, 0.6262655, 0.6644243, 0.7540641, 0.0850752, 0.083447814, 0.04109189, 0.6262655, 0.049412906, 0.08386135, 0.0019423068, 0.3053363, 0.67177933, 0.62788916, 0.17531744, 0.7912681, 0.8814219, 0.9280418, 0.5422084, 0.5883444, 0.9602226, 0.08515188, 0.8417564, 0.54617304, 0.4667656, 0.2885064, 0.92217135, 0.29773033, 0.16797453, 0.58365065, 0.84000576, 0.6259122, 0.42218906, 0.13044855, 0.9154502, 0.87577224, 1.0016243, 0.64332736, 1.0060569, 0.9625131, 0.7969112, 0.5034529, 0.21074864, 0.16716497, 0.46011844, 0.75159615, 0.083209336, 0.3000035, 0.17005497, 0.13232172, 0.71205527, 0.08313224, 0.58568823, 0.75474066, 0.41391867, 0.58825934, 0.5443671, 0.041348457, 0.5801014, 0.7524189, 0.16844171, 0.00036633015, 0.29974005, 0.21284367, 0.1657348, 0.42261472, 0.8827918, 0.45610315, 0.6256646, 0.47631374, 0.7588283, 0.6272425, 0.28805315, 0.71373415, 0.9994767, 0.12864345, 0.2083617, 0.79524326, 0.16863157, 0.5479716, 0.6257365, 0.7522986, 0.21057926, 0.50333667, 0.4265688, 0.34282452, 0.37700912, 0.6248343, 0.3809033, 0.24712192, 0.58444834, 0.11845985, 0.62884235, 0.46221787, 0.21761438, 0.46611333, 0.12804905, 0.83830833, 0.4611747, -0.00023254752, 0.9656242, 0.7100252, 0.9582927, 0.12798744, 0.505735, 0.9994767, 0.42516428, 0.87895876, 0.7133104, 0.83168405, 0.46715015, 0.25476626, 0.8387651, 0.36806062, 0.04126075, 0.9197242, 0.29974005, 0.29773033, 0.33688152, 0.71373415, 0.71584874, 0.6741873, 0.4242051, 0.96451616, 0.7940441, 0.5487599, 0.8333749, 0.11845985, -0.0011268258, 0.2546024, 0.62884235, 0.5479716, 0.28850642, 0.045436352, 0.5457833, 0.5437548, 0.38195756, 0.5410939, 0.21546014, 0.50240535, 0.083209336, 0.7522366, 0.7588283, 0.87576604, 0.42649823, 0.422597, 0.8324387, 0.33958307, 0.50333667, 0.50382453, 0.34022892, 0.50747293, 0.7540641, 0.4617131, 0.7163936, 0.7124909, 0.4627845, 0.37840062, 0.5045285, 0.7180064, 0.341572, 0.46221787, 0.54350424, 0.6248343, 0.21284376, 0.791301, 0.4763137, 0.2102586, 0.79139405, 0.7115289, 0.1657348, 0.42257723, 0.08820298, 0.49980175, 0.54617304, 0.38469544, 0.16674481, 0.5968982, 0.6731792, 0.5490147, 0.8775159, 0.08085349, 0.33063313, 0.95946205, 0.5801014, 0.58365065, 0.12902203, 0.74802655, 0.5427776, 0.45988753, 0.1321041, 0.92466474, 0.665081, 0.33667815, 0.59084237, 0.9625131, 0.50136954, 0.75241876, 1.0010011, 0.92407775, 0.79524326, 0.46221787, 0.83884716, 0.1657348, 0.87956655, 0.92217135, 1.00503, 0.6262655, 0.21546014, 0.83225745, -0.00033816695, 0.49980175, 0.12882206, 0.37859482, 0.12864295, 0.6690352, 0.12864345, 0.62334204, 0.25309893, 0.040552557, 0.040467024, 0.7522366, 0.8345729, 0.000916481, 0.669773, 0.41391867, 0.16779438, 0.16827613, 0.70402026, 0.12498996, 1.0016242, 0.46220765, 0.42062834, 0.791301, 0.9210217, 0.042280644, 0.96211874, 0.21761438, 0.67431295, 0.8333749, 0.6272425, 0.50333667, 0.044659108, 0.0019423068, 0.38041833, 0.87577224, 0.16674481, 0.796265, 0.58444834, 0.7133104, 0.4611747, 0.21089081, 0.5853816, 0.7115289, 0.38826203, 0.38469544, 0.38195756, 0.75474066, 0.044228286, 0.9197242, 0.7100252, 0.4179771, 0.8387651, 0.2882362, 0.34022892, 1.0063335, 0.20447828, 0.88060033, 0.3000035, 0.9280418, 0.3809033, 0.64332724, 0.33411524, 0.08219698, 0.96942604, 0.2546024, 0.34230047, 0.8328459, 0.049412906, 0.24949269, 1.0040817, 0.9177648, 0.37320372, 0.41992804, 0.7138796, 0.5968982, 0.6269259, 0.45610315, 0.044228286, 0.7937677, 1.0007051, 0.12518212, 0.6644243, 0.08248812, 0.75159615, 0.9280418, 0.95946205, 0.5797685, 0.9197346, 0.4627845, 0.96464074, 0.12804905, 0.041116267, 0.83168405, 0.87956655, 0.5060533, 0.08466041, 0.16863157, 0.50240535, 1.0099759, 0.92466474, 0.7540641, 0.9232428, 0.5034529, 1.0040817, 0.2108399, 0.50136966, 0.25421673, 0.37840062, 0.24712192, 0.46715015, 0.41391867, 0.8833884, 0.42257723, 0.67485875, 0.791301, 0.000916481, 0.087712884, 0.08820298, 0.9994767, 0.4617131, 0.6650633, 0.42218906, 1.0016242, 0.8831916, 0.08313224, 0.3053363, 0.5443671, 0.3818532, 0.8775159, 0.4671775, 0.36806062, 0.25409243, 0.49980175, 0.9579551, 0.7508825, 0.38041833, 0.7937021, 0.2546024, 0.5479887, 0.8350513, 0.45442072, 0.29082054, 0.9210217, 0.34022892, 0.17005497, 0.42253128, 0.58482754, 0.20776153, 0.4611747, 0.5883444, 0.7133104, 0.58825934, 0.5427776, 0.87576604, 0.7915034, 0.45988753, 0.79139405, 0.5801014, 0.37644848, 0.49780115, 0.54617304, 0.92075574, -0.00048723817, 0.29974005, 0.9625131, 0.34282452, 0.1651792, 0.9608849, 0.040552557, 0.50382453, 0.5457833, 0.9994767, 0.21074864, 0.6237643, 0.4627845, 0.7124909, 0.1321041, 0.41151437, 0.5865693, 0.12902203, 1.0059432, 0.87895876, 0.41682893, 0.29773033, 0.92466474, 0.040467024, 0.6690352, 0.6278734, 0.5487599, 0.8796606, 0.6701168, 0.7522986, 0.3350833, 0.8741522, 0.9660903, 0.26272386, 0.5883444, 0.24949269, 0.45442072, 0.16962221, 0.5443671, 0.2533899, 0.5797685, 0.0035722852, 0.7508825, 0.7522366, 0.79524326, 0.75159615, 0.2882362, 0.54602164, 0.71272844, 0.87914014, 0.20972484, 0.92254865, 0.8324387, 0.7138796, 0.4671775, 0.16716497, 0.044659108, 0.50048304, 0.63064224, 0.62788916, 0.8330997, 0.64332724, 0.62334204, 0.71373415, 0.7103379, 0.54617304, 0.46715015, 0.6262655, 0.6697941, 0.84146416, 0.96942604, 0.043560237, 0.74995273, 0.6650633, 0.92449987, 0.25001234, 0.7979213, 0.5422084, 0.7546892, 0.16863154, 0.25309896, 0.37320372, 0.20924853, 1.0046657, 0.588603, 0.2563717, 0.33688152, 0.5438644, 0.6259122, 0.7147381, 0.58444834, 0.791301, 0.040754825, 0.7040204, 0.04126075, 0.000916481, 0.002498597, 0.7937677, 0.2885064, 0.50382453, 0.8779012, 0.2083617, 0.0027434528, 0.49980175, 0.96211874, 0.041116267, 0.62334204, 0.29204637, 0.62938696, 0.17005497, 0.62788916, 0.5908423, 0.71387947, 0.6248343, 0.71551496, 0.9582927, 0.17276897, 0.2885064, 0.74802655, 0.6278734, 0.96451616, 0.04911208, 0.83845216, 0.67132795, 0.29814947, 1.0059432, 0.91802585, 0.16827613, 0.08854172, 0.0027434528, 0.37859482, 0.71584874, 0.37961861, 0.0018662512, 0.6741873, 0.0854103, 0.33636755, 0.9947599, 0.669773, 0.67177933, 0.6272425, 0.24712192, 0.87577224, 0.11845976, 0.040552557, 0.5427776, 0.46715015, 0.3000035, 0.66495526, 0.66645575, 0.00014567375, 0.084563315, 0.5460218, 0.5863502, 0.041348457, 0.87692344, 0.45442072, 0.41151446, 0.7472131, 0.8388942, 0.38826203, 0.21057926, 0.042280644, 0.6272818, 0.6262655, 0.040176243, 0.044659108, 0.00036633015, 0.58482754, 0.6697941, 1.0063335, 0.41682893, 0.29773033, 0.122663945, 0.50747293, 0.58568823, 0.08516863, 0.4997725, 0.6701168, 1.00503, 0.42516428, 0.87956655, 0.5490147, 0.083447695, 0.04126075, 0.70971, 0.9232428, 0.8799597, 0.044334322, -0.00023254752, 0.9210217, 0.588603, 0.7940441, 0.08466041, 0.8831916, 0.9154502, 0.33958307, 0.083209336, 0.12864345, 0.12969765, 0.5085759, 0.0851686, 0.16793115, 0.50333667, 0.047211826, 0.04911208, 0.5018886, 0.714738, 0.62591213, 0.12804905, 0.0033484995, 0.38826203, 0.4580258, 0.87895876, 0.41151446, 0.42649823, 0.24712192, 0.6262655, 0.8330997, 0.044659108, 0.4614411, 0.5438905, 0.2083617, 0.50747293, 0.95946205, 0.4611747, 0.9579551, 0.17531744, 0.5479887, 0.29082054, 0.17010848, 0.9177648, 0.5427776, 0.7940441, 0.46001095, 0.96942604, 0.83845216, 0.38195756, 0.7535694, 0.08219704, 0.34121615, 0.9171014, 0.12902203, 0.24439327, 0.0018662512, 0.044248194, 0.49980175, 0.041116267, 0.873801, 0.46611333, 0.37060747, 0.29891503, 1.0063335, 0.7508825, 0.58825934, 1.0016242, 0.6741873, 0.4225313, 0.46220765, 0.20972484, 0.00048810244, 0.7912681, 0.7937677, 0.002498597, 0.122663945, 0.25179124, 1.0027574, 0.9210217, 0.6272818, 0.6701168, 0.41744265, 0.42259708, 0.88060033, 0.33636755, 0.9154502, -0.00048723817, 0.21761438, 0.796265, 0.2906737, 0.75062567, 1.0034415, 0.08466041, 0.79534936, 0.71373415, 0.665081, 0.21057926, 1.0010011, 0.7540641, 0.75287277, 0.66495526, 0.5438644, 0.75298387, 0.62470007, 0.3812086, 0.9651178, 0.41151446, -0.00048723817, -0.00033816695, 0.504317, 0.422597, 0.7937021, 0.5479887, 0.41797718, 0.2533899, 0.30000347, 0.5487599, 0.92466474, 0.00036633015, 0.5865694, 0.5125543, 0.45610315, 0.044334322, 0.6690352, 0.2102586, 1.0099759, 0.58365065, 0.8796606, 1.0027574, 0.62938696, 0.796265, 0.6278734, 0.24856359, 0.2882362, 0.29974005, 0.8779012, 0.6272818, 0.29891503, 0.047211826, 0.5457833, 0.7920424, 0.5427776, 0.83830833, 0.7915034, 0.12902203, 0.21546014, 0.50333667, 0.7163937, 0.08820298, 0.08248812, 0.8330997, 0.6257365, 0.3350833, 0.45988753, 0.08515188, 0.6259122, 0.0854103, 0.21761438, 0.5060533, 0.59084237, 0.9601793, 0.2912389, 0.08854172, 0.38826203, 0.08386135, 0.25309893, 0.28805315, 0.41682893, 0.8328459, 0.92217135, 0.9625131, 0.5853816, 0.04126075, 0.37521458, 0.33667815, 0.66495526, 0.75159615, 0.58825934, 0.71387947, 0.87577224, 0.0850752, 0.07402691, 0.8833884, 0.12882206, 0.67431295, 0.34230047, 0.6741873, 0.12739155, 1.0046657, 0.040467024, 0.341572, 0.7940441, 0.8831916, 0.21188222, 0.5438905, 0.50382453, 0.37320372, 0.12739155, 0.463384, 1.0034415, 0.7180064, 0.37840062, 0.33682013, 0.12902203, 0.8387651, 0.45988753, 0.54213554, 0.9197242, 0.6256647, 0.1718732, 0.3423006, 0.6257366, 0.96219456, 0.12864345, 0.75474066, 0.11845985, 0.5891461, 0.08515188, 0.50747293, 0.29204637, 0.08248812, 0.5437548, 0.9651178, 0.20862924, 0.0850752, 0.46221787, 0.0033484995, 0.9636837, 0.5490147, 0.29974005, 0.7979213, 0.000916481, 0.6744703, 0.45442072, 0.7152673, 0.08594763, 0.25001234, 0.21188222, 0.5853816, 0.3350833, 0.2108399, 0.13126454, 0.167165, 0.38826197, 0.040176243, 0.6272425, 0.88009214, 0.54697657, 0.08085349, 0.9181762, 0.504317, 0.16547829, 0.044334322, 0.17291592, 1.00503, 0.54350424, 0.33411524, 0.6709273, 0.0854103, 0.41682893, 0.37644848, 0.42398942, 0.8799597, 0.6644243, 0.040467024, 0.8350513, 0.9947599, 0.29592383, 0.12780091, 0.41797718, 0.9170463, 0.4239419, 0.5045285, 0.5469479, 0.9197347, 0.87751603, 0.26272386, 0.2907992, 0.79593444, 0.17005497, 0.62884235, 0.7040204, 0.8827918, 0.33063313, 0.8796606, 0.37700912, 0.2885064, 0.20717287, 0.3380026, -0.00061008334]\n",
            "Real_abs:\n",
            "[480, 640, 720, 880, 1280, 1440, 400, 160, 960, 1600, 960, 2000, 1600, 80, 800, 1360, 1200, 640, 1360, 320, 1040, 2000, 1760, 160, 1120, 1280, 320, 1200, 800, 1120, 1360, 1520, 1280, 480, 1440, 320, 160, 560, 1840, 1360, 480, 320, 1680, 1360, 1280, 960, 480, 560, 1920, 1440, 1040, 240, 1520, 80, 1840, 880, 640, 480, 960, 1680, 1600, 720, 640, 160, 400, 1280, 1840, 1280, 960, 880, 400, 1920, 1440, 1040, 1920, 1600, 1200, 1760, 1360, 1280, 1360, 1760, 1920, 640, 400, 1120, 560, 1280, 2000, 640, 800, 720, 720, 1760, 1920, 1680, 1600, 1040, 800, 1120, 960, 1680, 720, 320, 560, 1200, 480, 1120, 240, 2000, 1520, 880, 640, 1440, 1520, 400, 80, 720, 1360, 320, 1680, 400, 800, 960, 480, 320, 1360, 1120, 400, 400, 1520, 480, 800, 1840, 640, 480, 1040, 240, 1520, 1920, 1520, 1600, 1040, 1360, 1680, 720, 720, 1040, 160, 160, 1120, 880, 1840, 2000, 640, 560, 1280, 320, 1680, 80, 1280, 1200, 2000, 1920, 800, 80, 880, 320, 560, 1520, 1760, 480, 1920, 1360, 2000, 880, 1920, 160, 240, 1360, 1280, 1120, 160, 880, 1360, 800, 80, 2000, 1840, 640, 1040, 1760, 480, 480, 720, 1280, 1840, 1200, 560, 1200, 1920, 1760, 1760, 1920, 800, 1440, 1120, 1600, 1840, 1360, 480, 880, 1680, 640, 560, 320, 960, 240, 1440, 320, 960, 2000, 960, 1120, 640, 1920, 1280, 320, 960, 800, 320, 320, 640, 1440, 560, 880, 1600, 1200, 1920, 800, 480, 800, 880, 80, 160, 1520, 560, 1760, 480, 1920, 1680, 160, 1520, 1360, 160, 1120, 400, 720, 80, 1200, 1840, 1920, 720, 320, 1120, 1520, 2000, 1440, 2000, 1840, 1040, 1360, 800, 1280, 1680, 1200, 1120, 640, 320, 1120, 640, 720, 880, 320, 2000, 720, 2000, 1600, 800, 1840, 1440, 1680, 400, 560, 1120, 1200, 1200, 1760, 1600, 1360, 1120, 480, 1520, 1360, 160, 1200, 1200, 1920, 1600, 640, 1120, 1200, 2000, 1840, 160, 1040, 400, 640, 160, 1440, 640, 800, 480, 1280, 880, 800, 1600, 80, 1600, 1040, 1920, 1120, 1520, 1680, 480, 1200, 80, 560, 2000, 1440, 560, 320, 160, 1360, 480, 1200, 1040, 1120, 880, 1760, 1440, 1200, 1200, 1760, 1120, 1760, 80, 1360, 800, 1360, 1520, 1440, 800, 80, 960, 1280, 1040, 240, 880, 1440, 240, 720, 80, 560, 1680, 800, 480, 160, 240, 1520, 1360, 320, 640, 1680, 1680, 1040, 1040, 1600, 400, 1120, 1040, 1040, 1760, 160, 1760, 2000, 1120, 320, 480, 1360, 640, 1520, 1760, 560, 1120, 400, 960, 160, 1440, 880, 1760, 640, 720, 1600, 560, 80, 1680, 2000, 1920, 160, 1680, 80, 1920, 1680, 1040, 400, 160, 1280, 1200, 1520, 880, 1840, 880, 240, 1520, 80, 560, 1360, 1520, 1520, 960, 400, 880, 1680, 880, 1200, 1520, 1040, 640, 960, 720, 1600, 1360, 240, 960, 1440, 400, 560, 1600, 880, 1200, 1040, 400, 960, 480, 80, 1360, 800, 2000, 960, 1280, 2000, 1440, 1520, 1760, 1920, 1840, 560, 1680, 240, 640, 1760, 480, 1840, 320, 480, 240, 1760, 320, 400, 2000, 1600, 960, 1040, 160, 1280, 240, 720, 1680, 1120, 2000, 720, 880, 800, 800, 720, 1920, 1680, 1040, 320, 160, 640, 720, 1120, 1600, 240, 1360, 1680, 1440, 240, 160, 1760, 1600, 1360, 640, 640, 880, 880, 1280, 880, 880, 1520, 2000, 240, 720, 1280, 640, 560, 1680, 1360, 800, 1920, 1280, 1760, 480, 1200, 1280, 880, 1440, 400, 1200, 400, 800, 880, 1280, 1120, 1520, 1920, 1120, 480, 1040, 1920, 1840, 480, 640, 560, 720, 1360, 320, 1840, 800, 1040, 1360, 1120, 160, 400, 1040, 640, 560, 800, 560, 400, 1840, 1680, 880, 1760, 80, 1680, 1360, 960, 240, 1120, 800, 1200, 1280, 1520, 960, 1600, 160, 2000, 960, 1440, 240, 80, 80, 960, 160, 1440, 560, 2000, 880, 80, 320, 1920, 1120, 1280, 1840, 1920, 640, 1120, 480, 1520, 1520, 560, 1520, 720, 640, 400, 1600, 160, 1840, 80, 1200, 880, 720, 960, 1360, 640, 560, 960, 960, 1520, 1040, 1200, 480, 1760, 400, 1120, 480, 480, 880, 1600, 160, 720, 1680, 2000, 1120, 2000, 2000, 320, 1360, 800, 560, 400, 1600, 1200, 240, 1840, 320, 240, 880, 720, 1520, 800, 1840, 560, 1920, 1120, 320, 160, 320, 1840, 2000, 640, 1600, 1360, 400, 1760, 640, 800, 1680, 2000, 1280, 240, 560, 1840, 1360, 1120, 1680, 1600, 2000, 160, 1760, 80, 1840, 2000, 1360, 800, 960, 240, 800, 960, 240, 800, 1680, 320, 1200, 160, 560, 640, 720, 880, 1360, 1120, 880, 640, 400, 800, 1680, 880, 720, 880, 960, 160, 1600, 720, 1680, 80, 1440, 1440, 1920, 480, 1040, 1680, 240, 1520, 320, 160, 2000, 1760, 1920, 2000, 1280, 240, 1920, 320, 1360, 1360, 1200, 480, 1920, 1600, 2000, 1280, 880, 1600, 1760, 1680, 240, 1840, 1520, 1840, 720, 80, 1520, 880, 720, 480, 400, 80, 560, 1600, 1280, 1120, 1760, 640, 800, 1600, 160, 1520, 640, 1600, 800, 1520, 720, 400, 960, 1200, 720, 80, 800, 560, 240, 240, 320, 880, 1360, 800, 1120, 80, 1200, 1520, 480, 80, 960, 560, 400, 2000, 1440, 1120, 1200, 1440, 1440, 960, 1120, 1520, 960, 320, 1280, 80, 1040, 720, 960, 1600, 1360, 960, 1280, 640, 560, 1120, 800, 1120, 960, 1440, 1680, 400, 1440, 1680, 1360, 240, 320, 1520, 800, 80, 1600, 880, 560, 2000, 1200, 1120, 400, 240, 960, 1520, 1040, 1120, 240, 1520, 1920, 1200, 1280, 1920, 1600, 1200, 1680, 1200, 1920, 1520, 320, 1600, 960, 1200, 80, 160, 960, 1600, 560, 400, 80, 2000, 480, 720, 800, 1280, 1600, 1760, 560, 1040, 720, 240, 1280, 1360, 1120, 1840, 1200, 2000, 1040, 560, 480, 880, 1440, 160, 800, 480, 800, 800, 1200, 1040, 240, 160, 1200, 1920, 1040, 400, 560, 800, 1040, 800, 720, 960, 1680, 880, 640, 1520, 1440, 1600, 400, 1920, 1120, 2000, 1840, 1040, 1280, 1200, 960, 1040, 80, 320, 640, 720, 1600, 80, 480, 2000, 1760, 1520, 640, 720, 800, 1040, 480, 560, 1600, 1200, 800, 1440, 1440, 640, 1200, 1200, 560, 1920, 240, 880, 1440, 720, 720, 160, 720, 1680, 640, 1920, 1680, 80, 1200, 480, 640, 1840, 400, 1680, 560, 240, 1120, 1680, 1920, 1920, 1600, 960, 960, 1920, 400, 1440, 1520, 400, 160, 800, 1440, 240, 160, 1280, 160, 400, 560, 640, 1840, 1120, 720, 720, 1920, 2000, 1280, 1520, 1120, 400, 2000, 2000, 1440, 1600, 880, 1360, 80, 2000, 480, 1840, 1360, 1280, 240, 240, 1280, 1920, 1680, 400, 880, 1760, 480, 1520, 1520, 560, 800, 800, 1600, 800, 880, 1360, 1120, 1840, 1280, 480, 80, 320, 1840, 1200, 1920, 1120, 1440, 720, 480, 80, 2000, 1120, 160, 1200, 160, 480, 80, 1600, 1680, 80, 1360, 560, 1680, 1440, 640, 2000, 720, 1360, 480, 160, 1040, 1040, 1040, 1520, 480, 1600, 640, 1600, 1200, 720, 1760, 1760, 880, 720, 640, 560, 240, 480, 1120, 1360, 1200, 1040, 480, 1840, 960, 320, 1840, 1280, 400, 2000, 1280, 1520, 1280, 1040, 1280, 1440, 1520, 1280, 720, 240, 1680, 960, 640, 320, 560, 480, 960, 560, 1280, 960, 1040, 480, 400, 1600, 1520, 1440, 1920, 160, 320, 800, 1440, 640, 480, 1120, 800, 160, 560, 1600, 1920, 1120, 240, 1280, 800, 960, 720, 1280, 400, 1280, 1120, 1680, 240, 1120, 1840, 1920, 1280, 1440, 1040, 1840, 880, 1120, 1600, 1600, 1600, 1120, 1840, 800, 480, 1600, 960, 400, 880, 960, 320, 240, 160, 960, 2000, 800, 2000, 1280, 2000, 1760, 640, 1840, 400, 240, 720, 1360, 1520, 1680, 1280, 240, 1280, 320, 240, 1040, 1200, 240, 1280, 1040, 1280, 1840, 1440, 80, 1360, 720, 560, 1280, 1680, 1120, 880, 160, 1040, 1520, 240, 1600, 1360, 1120, 2000, 160, 1200, 480, 880, 880, 1200, 1600, 480, 1280, 1280, 1360, 640, 160, 1920, 1280, 880, 1520, 1600, 800, 880, 1920, 1600, 160, 160, 400, 1680, 960, 1520, 1440, 1840, 1520, 560, 960, 880, 1840, 720, 1120, 880, 720, 1280, 1760, 400, 880, 480, 1440, 1360, 1040, 1600, 960, 1520, 80, 1360, 1600, 880, 1280, 880, 480, 400, 400, 1520, 1360, 1520, 1600, 880, 1440, 2000, 1200, 1120, 720, 1200, 720, 80, 80, 160, 1440, 160, 1840, 1840, 640, 400, 2000, 1840, 560, 1840, 960, 480, 480, 1840, 240, 1520, 1760, 400, 1440, 80, 1760, 320, 640, 1360, 1840, 1520, 400, 1200, 1760, 2000, 960, 240, 240, 320, 960, 80, 560, 80, 720, 960, 320, 880, 1040, 400, 1120, 880, 880, 560, 1440, 1520, 1520, 1280, 400, 960, 1840, 1200, 800, 800, 1920, 1920, 1680, 1360, 640, 1600, 720, 1840, 880, 1200, 1680, 1680, 1200, 1440, 1680, 160, 1360, 640, 800, 1600, 1200, 640, 1280, 800, 1760, 1520, 560, 1440, 1440, 1120, 240, 1600, 560, 1360, 1040, 1840, 560, 1840, 320, 560, 1520, 640, 80, 1440, 1840, 1760, 160, 1840, 960, 1520, 80, 640, 480, 1680, 1120, 2000, 1200, 160, 800, 1520, 560, 240, 560, 80, 1040, 240, 1440, 2000, 400, 1280, 1920, 1360, 1920, 1120, 320, 800, 1200, 1120, 800, 800, 1600, 880, 80, 720, 800, 1120, 720, 400, 1040, 240, 560, 640, 640, 480, 80, 480, 1280, 2000, 880, 1120, 400, 1040, 880, 320, 1040, 1440, 1040, 1760, 320, 960, 1200, 1360, 400, 560, 1440, 880, 880, 1600, 240, 1680, 1280, 1680, 160, 1600, 1120, 1280, 1360, 1520, 1440, 480, 1280, 1360, 1520, 240, 240, 160, 1280, 160, 240, 80, 640, 1360, 1280, 400, 1600, 1760, 1840, 1120, 1200, 1920, 240, 1680, 1120, 960, 640, 1840, 640, 400, 1200, 1680, 1280, 880, 320, 1840, 1760, 2000, 1280, 2000, 1920, 1600, 1040, 480, 400, 960, 1520, 240, 640, 400, 320, 1440, 240, 1200, 1520, 880, 1200, 1120, 160, 1200, 1520, 400, 80, 640, 480, 400, 880, 1760, 960, 1280, 960, 1520, 1280, 640, 1440, 2000, 320, 480, 1600, 400, 1120, 1280, 1520, 480, 1040, 880, 720, 800, 1280, 800, 560, 1200, 320, 1280, 960, 480, 960, 320, 1680, 960, 80, 1920, 1440, 1920, 320, 1040, 2000, 880, 1760, 1440, 1680, 960, 560, 1680, 800, 160, 1840, 640, 640, 720, 1440, 1440, 1360, 880, 1920, 1600, 1120, 1680, 320, 80, 560, 1280, 1120, 640, 160, 1120, 1120, 800, 1120, 480, 1040, 240, 1520, 1520, 1760, 880, 880, 1680, 720, 1040, 1040, 720, 1040, 1520, 960, 1440, 1440, 960, 800, 1040, 1440, 720, 960, 1120, 1280, 480, 1600, 960, 480, 1600, 1440, 400, 880, 240, 1040, 1120, 800, 400, 1200, 1360, 1120, 1760, 240, 720, 1920, 1200, 1200, 320, 1520, 1120, 960, 320, 1840, 1360, 720, 1200, 1920, 1040, 1520, 2000, 1840, 1600, 960, 1680, 400, 1760, 1840, 2000, 1280, 480, 1680, 80, 1040, 320, 800, 320, 1360, 320, 1280, 560, 160, 160, 1520, 1680, 80, 1360, 880, 400, 400, 1440, 320, 2000, 960, 880, 1600, 1840, 160, 1920, 480, 1360, 1680, 1280, 1040, 160, 80, 800, 1760, 400, 1600, 1200, 1440, 960, 480, 1200, 1440, 800, 800, 800, 1520, 160, 1840, 1440, 880, 1680, 640, 720, 2000, 480, 1760, 640, 1840, 800, 1280, 720, 240, 1920, 560, 720, 1680, 160, 560, 2000, 1840, 800, 880, 1440, 1200, 1280, 960, 160, 1600, 2000, 320, 1360, 240, 1520, 1840, 1920, 1200, 1840, 960, 1920, 320, 160, 1680, 1760, 1040, 240, 400, 1040, 2000, 1840, 1520, 1840, 1040, 2000, 480, 1040, 560, 800, 560, 960, 880, 1760, 880, 1360, 1600, 80, 240, 240, 2000, 960, 1360, 880, 2000, 1760, 240, 640, 1120, 800, 1760, 960, 800, 560, 1040, 1920, 1520, 800, 1600, 560, 1120, 1680, 960, 640, 1840, 720, 400, 880, 1200, 480, 960, 1200, 1440, 1200, 1120, 1760, 1600, 960, 1600, 1200, 800, 1040, 1120, 1840, 80, 640, 1920, 720, 400, 1920, 160, 1040, 1120, 2000, 480, 1280, 960, 1440, 320, 880, 1200, 320, 2000, 1760, 880, 640, 1840, 160, 1360, 1280, 1120, 1760, 1360, 1520, 720, 1760, 1920, 560, 1200, 560, 960, 400, 1120, 560, 1200, 80, 1520, 1520, 1600, 1520, 640, 1120, 1440, 1760, 480, 1840, 1680, 1440, 960, 400, 160, 1040, 1280, 1280, 1680, 1280, 1280, 1440, 1440, 1120, 960, 1280, 1360, 1680, 1920, 160, 1520, 1360, 1840, 560, 1600, 1120, 1520, 400, 560, 800, 480, 2000, 1200, 560, 720, 1120, 1280, 1440, 1200, 1600, 160, 1440, 160, 80, 80, 1600, 640, 1040, 1760, 480, 80, 1040, 1920, 160, 1280, 640, 1280, 400, 1280, 1200, 1440, 1280, 1440, 1920, 400, 640, 1520, 1280, 1920, 160, 1680, 1360, 640, 2000, 1840, 400, 240, 80, 800, 1440, 800, 80, 1360, 240, 720, 2000, 1360, 1360, 1280, 560, 1760, 320, 160, 1120, 960, 640, 1360, 1360, 80, 240, 1120, 1200, 160, 1760, 960, 880, 1520, 1680, 800, 480, 160, 1280, 1280, 160, 160, 80, 1200, 1360, 2000, 880, 640, 320, 1040, 1200, 240, 1040, 1360, 2000, 880, 1760, 1120, 240, 160, 1440, 1840, 1760, 160, 80, 1840, 1200, 1600, 240, 1760, 1840, 720, 240, 320, 320, 1040, 240, 400, 1040, 160, 160, 1040, 1440, 1280, 320, 80, 800, 960, 1760, 880, 880, 560, 1280, 1680, 160, 960, 1120, 480, 1040, 1920, 960, 1920, 400, 1120, 640, 400, 1840, 1120, 1600, 960, 1920, 1680, 800, 1520, 240, 720, 1840, 320, 560, 80, 160, 1040, 160, 1760, 960, 800, 640, 2000, 1520, 1200, 2000, 1360, 880, 960, 480, 80, 1600, 1600, 80, 320, 560, 2000, 1840, 1280, 1360, 880, 880, 1760, 720, 1840, 80, 480, 1600, 640, 1520, 2000, 240, 1600, 1440, 1360, 480, 2000, 1520, 1520, 1360, 1120, 1520, 1280, 800, 1920, 880, 80, 80, 1040, 880, 1600, 1120, 880, 560, 640, 1120, 1840, 80, 1200, 1040, 960, 160, 1360, 480, 2000, 1200, 1760, 2000, 1280, 1600, 1280, 560, 640, 640, 1760, 1280, 640, 160, 1120, 1600, 1120, 1680, 1600, 320, 480, 1040, 1440, 240, 240, 1680, 1280, 720, 960, 240, 1280, 240, 480, 1040, 1200, 1920, 640, 240, 800, 240, 560, 640, 880, 1680, 1840, 1920, 1200, 160, 800, 720, 1360, 1520, 1200, 1440, 1760, 240, 240, 1760, 320, 1360, 720, 1360, 320, 2000, 160, 720, 1600, 1760, 480, 1120, 1040, 800, 320, 960, 2000, 1440, 800, 720, 320, 1680, 960, 1120, 1840, 1280, 400, 720, 1280, 1920, 320, 1520, 320, 1200, 240, 1040, 640, 240, 1120, 1920, 480, 240, 960, 80, 1920, 1120, 640, 1600, 80, 1360, 960, 1440, 240, 560, 480, 1200, 720, 480, 320, 400, 800, 160, 1280, 1760, 1120, 240, 1840, 1040, 400, 160, 400, 2000, 1120, 720, 1360, 240, 880, 800, 880, 1760, 1360, 160, 1680, 2000, 640, 320, 880, 1840, 880, 1040, 1120, 1840, 1760, 560, 640, 1600, 400, 1280, 1440, 1760, 720, 1760, 800, 640, 480, 720, 80]\n",
            "Pred_abs:\n",
            "[484.91037 656.0067  735.81824 ... 477.7719  728.96497  78.82864]\n"
          ]
        },
        {
          "output_type": "display_data",
          "data": {
            "text/plain": [
              "<Figure size 432x288 with 1 Axes>"
            ],
            "image/png": "[encoded data removed]"
          },
          "metadata": {
            "needs_background": "light"
          }
        },
        {
          "output_type": "display_data",
          "data": {
            "text/plain": [
              "<Figure size 432x288 with 1 Axes>"
            ],
            "image/png": "[encoded data removed]"
          },
          "metadata": {
            "needs_background": "light"
          }
        }
      ]
    },
    {
      "cell_type": "markdown",
      "source": [
        "# Short-cut"
      ],
      "metadata": {
        "id": "2Kx_wOsmPX4i"
      }
    },
    {
      "cell_type": "code",
      "source": [
        "def get_reference_and_sample_data(working_df, num_reference):\n",
        "  import random\n",
        "  num_of_ids = len(working_df['PBRS_id'].unique())\n",
        "\n",
        "  l = list(range(1, num_of_ids+1))\n",
        "  random.shuffle(l)\n",
        "  reference_arr = (l[:num_reference])\n",
        "  sample_arr = l[-(num_of_ids-num_reference):]\n",
        "\n",
        "  reference_data_df = working_df[working_df['PBRS_id'].isin(reference_arr)]\n",
        "  sample_data_df = working_df[working_df['PBRS_id'].isin(sample_arr)]\n",
        "  \n",
        "  return reference_data_df, sample_data_df\n",
        "\n",
        "def frequencies_filter(df, num_selected_freq=20):\n",
        "  info_df = df.iloc[:, 0:6]\n",
        "  data_df = df.iloc[:, 6:df.shape[1]]\n",
        "  span_val = int(data_df.shape[1]/num_selected_freq)\n",
        "  for i in range(num_selected_freq):\n",
        "    df2 = data_df.iloc[:, (i+1)*span_val].to_frame()\n",
        "    if i+1 == 1:\n",
        "      new_df = df2\n",
        "    else:\n",
        "      new_df = pd.merge(new_df, df2, left_index=True, right_index=True)\n",
        "  new_df = info_df.join(new_df)\n",
        "  \n",
        "  return new_df\n",
        "\n",
        "def get_idx_train_test_split(working_df, trainingProp = 0.8):\n",
        "  rows_training = np.array([])\n",
        "  rows_testing = np.array([])\n",
        "  distances = [x*80 for x in range(1, 26)]\n",
        "  for d in distances:\n",
        "    distance_working_df = working_df.loc[working_df['Distance_km'] == d]\n",
        "    rows_mixed=np.random.permutation(distance_working_df.shape[0])\n",
        "\n",
        "    training_amt = math.ceil(distance_working_df.shape[0]*trainingProp)\n",
        "    testing_amt = distance_working_df.shape[0] - training_amt\n",
        "\n",
        "    rows_training = np.append(rows_training, rows_mixed[:training_amt])\n",
        "    rows_testing = np.append(rows_testing, rows_mixed[-testing_amt:])\n",
        "  \n",
        "  rows_training = rows_training.astype('int').tolist()\n",
        "  rows_testing = rows_testing.astype('int').tolist()\n",
        "\n",
        "  return rows_training, rows_testing\n",
        "\n",
        "# Load network\n",
        "from keras.models import Sequential\n",
        "from keras.layers import Dense,Conv2D, Flatten\n",
        "from keras.wrappers.scikit_learn import KerasRegressor\n",
        "from keras.callbacks import EarlyStopping\n",
        "from tqdm.keras import TqdmCallback\n",
        "\n",
        "def ann():\n",
        "    model = Sequential()\n",
        "    model.add(Dense(76, input_dim = 7, activation = 'tanh'))\n",
        "    model.add(Dense(38,activation='tanh'))\n",
        "    model.add(Dense(38,activation='tanh'))\n",
        "    model.add(Dense(19,activation='tanh'))\n",
        "    model.add(Dense(19,activation='tanh'))\n",
        "    model.add(Dense(9,activation='tanh'))\n",
        "    model.add(Dense(9,activation='tanh'))\n",
        "    model.add(Dense(1))\n",
        "    model.compile(loss ='mean_squared_error',optimizer = 'RMSprop')\n",
        "    return model\n",
        "\n",
        "def get_feature(data_split_df, reference_freq_data_df, reference_distance_eval_params=(False, 80)):\n",
        "  reference_eval = reference_freq_data_df.copy()\n",
        "  if reference_distance_eval_params[0] == True:\n",
        "    reference_eval = reference_freq_data_df.loc[reference_freq_data_df['Distance_km'] == reference_distance_eval_params[1]]\n",
        "\n",
        "  data_distance = []\n",
        "  data_mean = []\n",
        "  data_std = []\n",
        "  data_pearson_min = []\n",
        "  data_pearson_mean = []\n",
        "  data_pearson_max = []\n",
        "  data_CI_lower = []\n",
        "  data_CI_upper = []\n",
        "\n",
        "  for idx in tqdm(range(len(data_split_df))):\n",
        "    Y_label = data_split_df.iloc[idx, 3]\n",
        "    X_label = data_split_df.iloc[idx, 6:data_split_df.shape[1]]\n",
        "    data_distance.append(int(Y_label))\n",
        "    data_std.append(round(np.std(X_label), 5))\n",
        "    data_mean.append(round(np.mean(X_label), 5))\n",
        "    \n",
        "    data_ci = st.t.interval(alpha=0.90, df=len(X_label)-1, loc=np.mean(X_label), scale=st.sem(X_label))\n",
        "    data_confidence_int_lower = data_ci[0]\n",
        "    data_confidence_int_upper = data_ci[1]\n",
        "\n",
        "    pearson_vals = []\n",
        "    ci_lower_delta = []\n",
        "    ci_upper_delta = []\n",
        "    for reference_idx in range(len(reference_eval)):\n",
        "      X_reference = reference_eval.iloc[reference_idx, 6:reference_eval.shape[1]]\n",
        "      pearson_vals.append(round(pearsonr(X_label, X_reference)[0], 5))\n",
        "\n",
        "      reference_ci = st.t.interval(alpha=0.90, df=len(X_reference)-1, loc=np.mean(X_reference), scale=st.sem(X_reference))\n",
        "      reference_confidence_int_lower = reference_ci[0]\n",
        "      reference_confidence_int_upper = reference_ci[1]\n",
        "\n",
        "      delta_ci_lower = abs(reference_confidence_int_lower - data_confidence_int_lower)\n",
        "      ci_lower_delta.append(round(delta_ci_lower, 5))\n",
        "      delta_ci_upper = abs(reference_confidence_int_upper - data_confidence_int_upper)\n",
        "      ci_upper_delta.append(round(delta_ci_upper, 5))\n",
        "\n",
        "    data_pearson_min.append(np.min(pearson_vals))\n",
        "    data_pearson_mean.append(np.mean(pearson_vals))    \n",
        "    data_pearson_max.append(np.max(pearson_vals))\n",
        "\n",
        "    data_CI_lower.append(np.min(ci_lower_delta))\n",
        "    data_CI_upper.append(np.min(ci_upper_delta))\n",
        "\n",
        "  data = {'distance':data_distance,\n",
        "                  'mean':data_mean,\n",
        "                  'std':data_std,\n",
        "                  'pearson_min':data_pearson_min,\n",
        "                  'pearson_mean':data_pearson_mean,\n",
        "                  'pearson_max':data_pearson_max,\n",
        "                  'delta_CI_min':data_CI_lower,\n",
        "                  'delta_CI_max':data_CI_upper}\n",
        "\n",
        "  data_df = pd.DataFrame(data)\n",
        "  return data_df"
      ],
      "metadata": {
        "id": "PEUYbMvql5Ai"
      },
      "execution_count": 31,
      "outputs": []
    },
    {
      "cell_type": "code",
      "source": [
        "train_df = pd.read_csv(path+\"/Spectrum/NN/train_test_splits/mod_bootstraped_new_data_training_data_NN_freq_10_reference_30.csv\")\n",
        "test_df = pd.read_csv(path+\"/Spectrum/NN/train_test_splits/mod_bootstraped_new_data_testing_data_NN_freq_10_reference_30.csv\")\n",
        "\n",
        "reference_freq_data_df = pd.read_csv(path+\"/Spectrum/NN/train_test_splits/mod_bootstraped_new_data_Reference_NN_freq_10_reference_30.csv\")\n",
        "sample_freq_data_df = pd.read_csv(path+\"/Spectrum/NN/train_test_splits/mod_bootstraped_new_data_Sample_NN_freq_10_reference_30.csv\")\n",
        "\n",
        "with open(path+\"/Spectrum/NN/train_test_splits/mod_bootstraped_traininig_Rows_NN_freq_10_reference_30.pkl\", 'rb') as f:\n",
        "  rows_training = pickle.load(f)\n",
        "with open(path+\"/Spectrum/NN/train_test_splits/mod_bootstraped_testing_Rows_NN_freq_10_reference_30.pkl\", 'rb') as f:\n",
        "  rows_testing = pickle.load(f) "
      ],
      "metadata": {
        "id": "-s_khYUdNgcL"
      },
      "execution_count": 32,
      "outputs": []
    },
    {
      "cell_type": "code",
      "source": [
        "num_of_freq_selected = 10\n",
        "reference_amt = 30\n",
        "\n",
        "# Load network\n",
        "from keras.models import load_model\n",
        "mm = KerasRegressor(build_fn=ann, epochs=8000, batch_size=32, verbose=0)\n",
        "mm.model = load_model(path+\"/Spectrum/NN/NNs/mod_bootstraped_final_new_data_NN_model_freq_10_reference_30.h5\")\n",
        "\n",
        "res = {}\n",
        "reference_test = [80, 1040, 2000]\n",
        "distances = [x*80 for x in range(1, 26)]\n",
        "\n",
        "#Y = train_df.iloc[:, 0].to_numpy().reshape(-1,1)\n",
        "#X = train_df.iloc[:, 1:train_df.shape[1]-2]\n",
        "\n",
        "#sc_input = MinMaxScaler()\n",
        "#sc_output = MinMaxScaler()\n",
        "#Y_train = sc_output.fit_transform(Y) # convert distances to values from 0 to 1\n",
        "#X_train = sc_input.fit_transform(X) # convert features to values from 0 to 1\n",
        "\n",
        "for r in reference_test:\n",
        "  test_split = sample_freq_data_df.iloc[rows_testing]\n",
        "  test_df = get_feature(test_split, reference_freq_data_df, reference_distance_eval_params=(True, r))\n",
        "  \n",
        "  dist_min=sc_output_c.data_min_[0] # 80\n",
        "  dist_max=sc_output_c.data_max_[0] # 2000\n",
        "\n",
        "  Y = test_df.iloc[:, 0].to_numpy().reshape(-1,1)\n",
        "  X = test_df.iloc[:, 1:test_df.shape[1]]\n",
        "\n",
        "  Y_test = sc_output_c.fit_transform(Y) # convert distances to values from 0 to 1\n",
        "  X_test = sc_input_c.fit_transform(X) # convert features to values from 0 to 1\n",
        "\n",
        "  # Prediction\n",
        "  Y_test_pred=mm.predict(X_test)\n",
        "  pred=list(Y_test_pred)\n",
        "\n",
        "  real=list(list(zip(*Y_test))[0])\n",
        "  real_abs=np.add(dist_min,np.multiply((dist_max-dist_min),real)) # convert back to distances values from scalar\n",
        "  real_abs=[int(np.round(i)) for i in real_abs]\n",
        "  pred_abs=np.add(dist_min,np.multiply((dist_max-dist_min),pred)) # convert back to distances values from scalar\n",
        "\n",
        "  real_split ={}\n",
        "  for d in distances:\n",
        "    matches = [i for i in range(0,len(real_abs)) if real_abs[i]==d]\n",
        "    real_split[d] = matches\n",
        "  \n",
        "  pred_res = []\n",
        "  pred_m = []\n",
        "  for d_real, matches_idx in real_split.items():\n",
        "    pred_m = [pred_abs[i] for i in matches_idx]\n",
        "    Q1 = np.percentile(pred_m, 25,interpolation = 'midpoint')\n",
        "    Q3 = np.percentile(pred_m, 75,interpolation = 'midpoint')\n",
        "\n",
        "    IQR = Q3 - Q1\n",
        "    upper = Q3+1.5*IQR\n",
        "    lower = Q1-1.5*IQR\n",
        "    filtered_pred_m = []\n",
        "    for v in pred_m:\n",
        "      if v <= upper and v >= lower:\n",
        "        filtered_pred_m.append(v)\n",
        "    pred_res.append(round(np.mean(filtered_pred_m), 5))\n",
        "  \n",
        "  res[r] = pred_res\n",
        "print('-----------------------------------------------------------------------')\n",
        "print('Resuslts')\n",
        "\n",
        "plt.figure(figsize=(15, 10))\n",
        "plt.plot(distances, distances,  linestyle='--')\n",
        "for re in reference_test:\n",
        "  plt.plot(distances, res[re], label='Reference '+str(re))\n",
        "\n",
        "plt.title('Real vs Predicted Distances')\n",
        "plt.xlabel('Real Distances')\n",
        "plt.ylabel('Predicted Distances')\n",
        "plt.xlim(np.min(distances)-25, np.max(distances)+25)\n",
        "plt.ylim(np.min(distances)-25, np.max(distances)+25)\n",
        "plt.yticks(distances)\n",
        "plt.xticks(distances)\n",
        "plt.legend(loc=\"best\")\n",
        "plt.show()\n",
        "\n",
        "for re in reference_test:\n",
        "  print(res[re])\n",
        "\n",
        "print('-----------------------------------------------------------------------')"
      ],
      "metadata": {
        "id": "UictGjFkIqr1",
        "colab": {
          "base_uri": "https://localhost:8080/",
          "height": 803
        },
        "outputId": "7da6e7b3-4d2e-422d-d1fb-c2a13137d8d9"
      },
      "execution_count": 33,
      "outputs": [
        {
          "output_type": "stream",
          "name": "stderr",
          "text": [
            "100%|██████████| 2350/2350 [01:27<00:00, 26.72it/s]\n",
            "100%|██████████| 2350/2350 [01:27<00:00, 26.80it/s]\n",
            "100%|██████████| 2350/2350 [01:27<00:00, 26.83it/s]\n"
          ]
        },
        {
          "output_type": "stream",
          "name": "stdout",
          "text": [
            "-----------------------------------------------------------------------\n",
            "Resuslts\n"
          ]
        },
        {
          "output_type": "display_data",
          "data": {
            "text/plain": [
              "<Figure size 1080x720 with 1 Axes>"
            ],
            "image/png": "[encoded data removed]"
          },
          "metadata": {
            "needs_background": "light"
          }
        },
        {
          "output_type": "stream",
          "name": "stdout",
          "text": [
            "[222.932, 512.666, 490.49713, 549.1902, 556.6037, 511.7939, 551.27686, 468.74677, 492.4384, 560.891, 503.5778, 574.2121, 547.269, 574.0205, 598.177, 561.4777, 557.0891, 565.71814, 568.44763, 509.87753, 534.25024, 602.7348, 622.1274, 616.5596, 611.02185]\n",
            "[532.76117, 420.83167, 454.45233, 466.17487, 395.75555, 430.09164, 395.33295, 621.9601, 503.39075, 570.90686, 610.08765, 740.183, 740.1426, 697.84814, 749.5245, 767.6574, 797.0409, 863.6124, 758.9235, 848.8501, 831.0822, 917.6256, 963.5928, 897.634, 898.38586]\n",
            "[473.03897, 292.83344, 438.14062, 464.80136, 415.70667, 536.5256, 498.03, 483.52295, 616.47626, 709.08575, 735.45154, 866.3345, 813.4012, 677.9605, 822.62494, 821.88544, 903.01855, 865.82355, 849.8777, 976.2894, 969.93994, 1149.986, 1019.1401, 1057.9479, 1118.5428]\n",
            "-----------------------------------------------------------------------\n"
          ]
        }
      ]
    },
    {
      "cell_type": "code",
      "source": [
        "num_of_freq_selected = 10\n",
        "reference_amt = 30\n",
        "\n",
        "# Load network\n",
        "from keras.models import load_model\n",
        "mm = KerasRegressor(build_fn=ann, epochs=8000, batch_size=32, verbose=0)\n",
        "mm.model = load_model(path+\"/Spectrum/NN/NNs/mod_bootstraped_final_new_data_NN_model_freq_10_reference_30.h5\")\n",
        "\n",
        "res = {}\n",
        "reference_test = [x*80 for x in range(1, 26)]\n",
        "distances = [x*80 for x in range(1, 26)]\n",
        "\n",
        "#Y = train_df.iloc[:, 0].to_numpy().reshape(-1,1)\n",
        "#X = train_df.iloc[:, 1:train_df.shape[1]-2]\n",
        "\n",
        "#sc_input = MinMaxScaler()\n",
        "#sc_output = MinMaxScaler()\n",
        "#Y_train = sc_output.fit_transform(Y) # convert distances to values from 0 to 1\n",
        "#X_train = sc_input.fit_transform(X) # convert features to values from 0 to 1\n",
        "\n",
        "sc_input_c, sc_output_c\n",
        "\n",
        "for r in reference_test:\n",
        "  test_split = sample_freq_data_df.iloc[rows_testing]\n",
        "  test_df = get_feature(test_split, reference_freq_data_df, reference_distance_eval_params=(True, r))\n",
        "  \n",
        "  dist_min=sc_output_c.data_min_[0] # 80\n",
        "  dist_max=sc_output_c.data_max_[0] # 2000\n",
        "\n",
        "  Y = test_df.iloc[:, 0].to_numpy().reshape(-1,1)\n",
        "  X = test_df.iloc[:, 1:test_df.shape[1]]\n",
        "\n",
        "  Y_test = sc_output_c.fit_transform(Y) # convert distances to values from 0 to 1\n",
        "  X_test = sc_input_c.fit_transform(X) # convert features to values from 0 to 1\n",
        "\n",
        "  # Prediction\n",
        "  Y_test_pred=mm.predict(X_test)\n",
        "  pred=list(Y_test_pred)\n",
        "\n",
        "  \n",
        "  real=list(list(zip(*Y_test))[0])\n",
        "  real_abs=np.add(dist_min,np.multiply((dist_max-dist_min),real)) # convert back to distances values from scalar\n",
        "  real_abs=[int(np.round(i)) for i in real_abs]\n",
        "  pred_abs=np.add(dist_min,np.multiply((dist_max-dist_min),pred)) # convert back to distances values from scalar\n",
        "\n",
        "  real_split ={}\n",
        "  for d in distances:\n",
        "    matches = [i for i in range(0,len(real_abs)) if real_abs[i]==d]\n",
        "    real_split[d] = matches\n",
        "  \n",
        "  pred_res = []\n",
        "  pred_m = []\n",
        "  for d_real, matches_idx in real_split.items():\n",
        "    pred_m = [pred_abs[i] for i in matches_idx]\n",
        "    Q1 = np.percentile(pred_m, 25,interpolation = 'midpoint')\n",
        "    Q3 = np.percentile(pred_m, 75,interpolation = 'midpoint')\n",
        "\n",
        "    IQR = Q3 - Q1\n",
        "    upper = Q3+1.5*IQR\n",
        "    lower = Q1-1.5*IQR\n",
        "    filtered_pred_m = []\n",
        "    for v in pred_m:\n",
        "      if v <= upper and v >= lower:\n",
        "        filtered_pred_m.append(v)\n",
        "    pred_res.append(round(np.mean(filtered_pred_m), 5))\n",
        "  \n",
        "  res[r] = pred_res\n",
        "print('-----------------------------------------------------------------------')\n",
        "print('Resuslts')\n",
        "\n",
        "plt.figure(figsize=(15, 10))\n",
        "plt.plot(distances, distances,  linestyle='--')\n",
        "for re in reference_test:\n",
        "  plt.plot(distances, res[re], label='Reference '+str(re))\n",
        "\n",
        "plt.title('Real vs Predicted Distances')\n",
        "plt.xlabel('Real Distances')\n",
        "plt.ylabel('Predicted Distances')\n",
        "plt.xlim(np.min(distances)-25, np.max(distances)+25)\n",
        "plt.ylim(np.min(distances)-25, np.max(distances)+25)\n",
        "plt.yticks(distances)\n",
        "plt.xticks(distances)\n",
        "plt.legend(loc=\"best\")\n",
        "plt.show()\n",
        "\n",
        "for re in reference_test:\n",
        "  print(res[re])\n",
        "\n",
        "print('-----------------------------------------------------------------------')"
      ],
      "metadata": {
        "id": "dNaUdEiTbxOu"
      },
      "execution_count": null,
      "outputs": []
    },
    {
      "cell_type": "markdown",
      "source": [
        "# Test only pearson"
      ],
      "metadata": {
        "id": "y6uYJIMQznvg"
      }
    },
    {
      "cell_type": "code",
      "source": [
        "# Load network\n",
        "from keras.models import Sequential\n",
        "from keras.layers import Dense,Conv2D, Flatten\n",
        "from keras.wrappers.scikit_learn import KerasRegressor\n",
        "from keras.callbacks import EarlyStopping\n",
        "from tqdm.keras import TqdmCallback\n",
        "\n",
        "def ann():\n",
        "  model = Sequential()\n",
        "  model.add(Dense(76, input_dim = 3, activation = 'tanh'))\n",
        "  model.add(Dense(38,activation='tanh'))\n",
        "  model.add(Dense(19,activation='tanh'))\n",
        "  model.add(Dense(1))\n",
        "  model.compile(loss ='mean_squared_error',optimizer = 'RMSprop')\n",
        "  return model"
      ],
      "metadata": {
        "id": "yXo1Twr-1eoi"
      },
      "execution_count": null,
      "outputs": []
    },
    {
      "cell_type": "code",
      "source": [
        "def train_model(X_train, Y_train):\n",
        "  print('Training model (freq_'+str(num_of_freq_selected)+'_reference_'+str(reference_amt)+')...')\n",
        "  from keras.models import Sequential\n",
        "  from keras.layers import Dense,Conv2D, Flatten\n",
        "  from keras.wrappers.scikit_learn import KerasRegressor\n",
        "  from keras.callbacks import EarlyStopping\n",
        "  from tqdm.keras import TqdmCallback\n",
        "\n",
        "  def ann():\n",
        "      model = Sequential()\n",
        "      model.add(Dense(76, input_dim = 3, activation = 'tanh'))\n",
        "      model.add(Dense(38,activation='tanh'))\n",
        "      model.add(Dense(19,activation='tanh'))\n",
        "      model.add(Dense(1))\n",
        "      model.compile(loss ='mean_squared_error',optimizer = 'RMSprop')\n",
        "      return model\n",
        "\n",
        "  model_ann = KerasRegressor(build_fn=ann,epochs=5000,batch_size=32, verbose=0)\n",
        "\n",
        "  start_time = time.time()\n",
        "  callback = [EarlyStopping(monitor='loss', patience=500)]#, TqdmCallback(verbose=2)]\n",
        "  model_ann.fit(X_train, Y_train, callbacks=callback)\n",
        "  time_train_ann = time.time() - start_time\n",
        "\n",
        "  # Save model\n",
        "  #pickle.dump(model_ann,open(path+\"/Spectrum/NN/NNs/NN_model_freq_\"+str(num_of_freq_selected)+\"_reference_\"+str(reference_amt)+\".pkl\",\"wb\"))\n",
        "\n",
        "  if os.path.isfile(path+\"/Spectrum/NN/NNs/pearson_new_data_NN_model_freq_\"+str(num_of_freq_selected)+\"_reference_\"+str(reference_amt)+\".h5\") is False:\n",
        "    model_ann.model.save(path+\"/Spectrum/NN/NNs/pearson_new_data_NN_model_freq_\"+str(num_of_freq_selected)+\"_reference_\"+str(reference_amt)+\".h5\")\n",
        "  \n",
        "  return model_ann"
      ],
      "metadata": {
        "id": "r0YBaQtQ1k99"
      },
      "execution_count": null,
      "outputs": []
    },
    {
      "cell_type": "code",
      "source": [
        "def predict_test(model_ann, Y_test, X_test, sc_output, remove_outliers=0.05):\n",
        "  print('Results (freq_'+str(num_of_freq_selected)+'_reference_'+str(reference_amt)+')')\n",
        "  # Predit\n",
        "  start_time = time.time()\n",
        "  Y_test_pred=model_ann.predict(X_test)\n",
        "  pred=list(Y_test_pred)\n",
        "\n",
        "  time_eval_ann=time.time()-start_time\n",
        "\n",
        "  dist_min=sc_output.data_min_[0] # 80\n",
        "  dist_max=sc_output.data_max_[0] # 2000\n",
        "\n",
        "  real=list(list(zip(*Y_test))[0])\n",
        "  real_abs=np.add(dist_min,np.multiply((dist_max-dist_min),real)) # convert back to distances values from scalar\n",
        "  real_abs=[int(np.round(i)) for i in real_abs]\n",
        "  pred_abs=np.add(dist_min,np.multiply((dist_max-dist_min),pred)) # convert back to distances values from scalar\n",
        "  real_abs_e1 = real_abs\n",
        "  real_abs_e2 = real_abs\n",
        "\n",
        "  pred_abs_e1 = pred_abs\n",
        "  pred_abs_e2 = pred_abs\n",
        "\n",
        "  error=np.divide(np.abs(np.subtract(np.array(real_abs),np.array(pred_abs))),np.array(real_abs))\n",
        "  error_v2 = np.abs(np.subtract(np.array(real_abs),np.array(pred_abs)))\n",
        "\n",
        "  remove_outliers = math.ceil((len(error_v2)*remove_outliers)/2)\n",
        "\n",
        "  for outlier in range(1, remove_outliers+1):\n",
        "    min_idx_e1 = np.argmin(error)\n",
        "    max_idx_e1 = np.argmax(error)\n",
        "\n",
        "    min_idx_e2 = np.argmin(error_v2)\n",
        "    max_idx_e2 = np.argmax(error_v2)\n",
        "\n",
        "    error = np.delete(error, min_idx_e1)\n",
        "    error = np.delete(error, max_idx_e1)\n",
        "    real_abs_e1 = np.delete(real_abs_e1, min_idx_e1)\n",
        "    real_abs_e1 = np.delete(real_abs_e1, max_idx_e1)\n",
        "    pred_abs_e1 = np.delete(pred_abs_e1, min_idx_e1)\n",
        "    pred_abs_e1 = np.delete(pred_abs_e1, max_idx_e1)\n",
        "\n",
        "    error_v2 = np.delete(error_v2, min_idx_e2)\n",
        "    error_v2 = np.delete(error_v2, max_idx_e2)\n",
        "    real_abs_e2 = np.delete(real_abs_e2, min_idx_e1)\n",
        "    real_abs_e2 = np.delete(real_abs_e2, max_idx_e1)\n",
        "    pred_abs_e2 = np.delete(pred_abs_e2, min_idx_e1)\n",
        "    pred_abs_e2 = np.delete(pred_abs_e2, max_idx_e1)\n",
        "\n",
        "  res=pd.DataFrame({\"dist\":real_abs_e1,\"pred\":pred_abs_e1,\"error\":error})\n",
        "  res.to_csv(path+\"/Spectrum/NN/NN_results_error/new_data_pearson_results_curve_freq_\"+str(num_of_freq_selected)+\"_reference_\"+str(reference_amt)+\".csv\", header=True, index=False)\n",
        "\n",
        "  res_v2=pd.DataFrame({\"dist\":real_abs_e2,\"pred\":pred_abs_e2,\"error\":error_v2})\n",
        "  res.to_csv(path+\"/Spectrum/NN/NN_results_error/new_data_pearson_results_deltas_freq_\"+str(num_of_freq_selected)+\"_reference_\"+str(reference_amt)+\".csv\", header=True, index=False)\n",
        "  \n",
        "  plt.plot(real_abs_e1,error,'bo')\n",
        "  plt.xlabel('Distances') \n",
        "  plt.ylabel('Error') \n",
        "  plt.title(\"Results Curve (freq_\"+str(num_of_freq_selected)+\"_reference_\"+str(reference_amt)+\")\")\n",
        "  plt.savefig(path+\"/Spectrum/NN/NN_results_plots/new_data_pearson_results_curve_freq_\"+str(num_of_freq_selected)+\"_reference_\"+str(reference_amt)+\".png\")\n",
        "  plt.show()\n",
        "  \n",
        "  plt.plot(real_abs_e2,error_v2,'bo')\n",
        "  plt.xlabel('Distances') \n",
        "  plt.ylabel('Error') \n",
        "  plt.title(\"Results Deltas (freq_\"+str(num_of_freq_selected)+\"_reference_\"+str(reference_amt)+\")\")\n",
        "  plt.savefig(path+\"/Spectrum/NN/NN_results_plots/new_data_pearson_results_deltas_freq_\"+str(num_of_freq_selected)+\"_reference_\"+str(reference_amt)+\".png\")\n",
        "  plt.show()\n"
      ],
      "metadata": {
        "id": "yY8QHJCJAM3s"
      },
      "execution_count": null,
      "outputs": []
    },
    {
      "cell_type": "code",
      "source": [
        "num_of_freq_selected = 10\n",
        "reference_amt = 30\n",
        "training_input_path = path + \"/Spectrum/NN/train_test_splits/new_data_training_data_NN_freq_10_reference_30.csv\"\n",
        "testing_input_path = path + \"/Spectrum/NN/train_test_splits/new_data_testing_data_NN_freq_10_reference_30.csv\"\n",
        "\n",
        "training_df = pd.read_csv(training_input_path)\n",
        "testing_df = pd.read_csv(testing_input_path)\n",
        "\n",
        "Y = training_df.iloc[:, 0].to_numpy().reshape(-1,1)\n",
        "X = training_df.iloc[:, 3:6]\n",
        "\n",
        "sc_input = MinMaxScaler()\n",
        "sc_output = MinMaxScaler()\n",
        "Y_train_p = sc_output.fit_transform(Y) # convert distances to values from 0 to 1\n",
        "X_train_p = sc_input.fit_transform(X) # convert features to values from 0 to 1\n",
        "\n",
        "Y = testing_df.iloc[:, 0].to_numpy().reshape(-1,1)\n",
        "X = testing_df.iloc[:, 3:6]\n",
        "\n",
        "sc_input = MinMaxScaler()\n",
        "sc_output = MinMaxScaler()\n",
        "Y_test_p = sc_output.fit_transform(Y) # convert distances to values from 0 to 1\n",
        "X_test_p = sc_input.fit_transform(X) # convert features to values from 0 to 1"
      ],
      "metadata": {
        "id": "xWm7Dnj1zqiw"
      },
      "execution_count": null,
      "outputs": []
    },
    {
      "cell_type": "code",
      "source": [
        "model_ann_p = train_model(X_train_p, Y_train_p)"
      ],
      "metadata": {
        "id": "Job0tVyN0gP3"
      },
      "execution_count": null,
      "outputs": []
    },
    {
      "cell_type": "code",
      "source": [
        "predict_test(model_ann_p, Y_test_p, X_test_p, sc_output)"
      ],
      "metadata": {
        "id": "B493cZEb0ldO"
      },
      "execution_count": null,
      "outputs": []
    },
    {
      "cell_type": "markdown",
      "source": [
        "## Test only stats"
      ],
      "metadata": {
        "id": "-BFRLXf7zqqV"
      }
    },
    {
      "cell_type": "code",
      "source": [
        "# Load network\n",
        "from keras.models import Sequential\n",
        "from keras.layers import Dense,Conv2D, Flatten\n",
        "from keras.wrappers.scikit_learn import KerasRegressor\n",
        "from keras.callbacks import EarlyStopping\n",
        "from tqdm.keras import TqdmCallback\n",
        "\n",
        "def ann():\n",
        "  model = Sequential()\n",
        "  model.add(Dense(76, input_dim = 3, activation = 'tanh'))\n",
        "  model.add(Dense(38,activation='tanh'))\n",
        "  model.add(Dense(19,activation='tanh'))\n",
        "  model.add(Dense(1))\n",
        "  model.compile(loss ='mean_squared_error',optimizer = 'RMSprop')\n",
        "  return model"
      ],
      "metadata": {
        "id": "5WU3J-u56cTF"
      },
      "execution_count": null,
      "outputs": []
    },
    {
      "cell_type": "code",
      "source": [
        "# Load network\n",
        "from keras.models import Sequential\n",
        "from keras.layers import Dense,Conv2D, Flatten\n",
        "from keras.wrappers.scikit_learn import KerasRegressor\n",
        "from keras.callbacks import EarlyStopping\n",
        "from tqdm.keras import TqdmCallback\n",
        "\n",
        "def ann():\n",
        "  model = Sequential()\n",
        "  model.add(Dense(76, input_dim = 4, activation = 'tanh'))\n",
        "  model.add(Dense(38,activation='tanh'))\n",
        "  model.add(Dense(19,activation='tanh'))\n",
        "  model.add(Dense(1))\n",
        "  model.compile(loss ='mean_squared_error',optimizer = 'RMSprop')\n",
        "  return model"
      ],
      "metadata": {
        "id": "7TGNlh7V5zsg"
      },
      "execution_count": null,
      "outputs": []
    },
    {
      "cell_type": "code",
      "source": [
        "def train_model(X_train, Y_train):\n",
        "  print('Training model (freq_'+str(num_of_freq_selected)+'_reference_'+str(reference_amt)+')...')\n",
        "  from keras.models import Sequential\n",
        "  from keras.layers import Dense,Conv2D, Flatten\n",
        "  from keras.wrappers.scikit_learn import KerasRegressor\n",
        "  from keras.callbacks import EarlyStopping\n",
        "  from tqdm.keras import TqdmCallback\n",
        "\n",
        "  def ann():\n",
        "      model = Sequential()\n",
        "      model.add(Dense(76, input_dim = 4, activation = 'tanh'))\n",
        "      model.add(Dense(38,activation='tanh'))\n",
        "      model.add(Dense(19,activation='tanh'))\n",
        "      model.add(Dense(1))\n",
        "      model.compile(loss ='mean_squared_error',optimizer = 'RMSprop')\n",
        "      return model\n",
        "\n",
        "  model_ann = KerasRegressor(build_fn=ann,epochs=5000,batch_size=32, verbose=0)\n",
        "\n",
        "  start_time = time.time()\n",
        "  callback = [EarlyStopping(monitor='loss', patience=500)]#, TqdmCallback(verbose=2)]\n",
        "  model_ann.fit(X_train, Y_train, callbacks=callback)\n",
        "  time_train_ann = time.time() - start_time\n",
        "\n",
        "  # Save model\n",
        "  #pickle.dump(model_ann,open(path+\"/Spectrum/NN/NNs/NN_model_freq_\"+str(num_of_freq_selected)+\"_reference_\"+str(reference_amt)+\".pkl\",\"wb\"))\n",
        "\n",
        "  if os.path.isfile(path+\"/Spectrum/NN/NNs/stats_new_data_NN_model_freq_\"+str(num_of_freq_selected)+\"_reference_\"+str(reference_amt)+\".h5\") is False:\n",
        "    model_ann.model.save(path+\"/Spectrum/NN/NNs/stats_new_data_NN_model_freq_\"+str(num_of_freq_selected)+\"_reference_\"+str(reference_amt)+\".h5\")\n",
        "  \n",
        "  return model_ann"
      ],
      "metadata": {
        "id": "Lm2iyDF15uvF"
      },
      "execution_count": null,
      "outputs": []
    },
    {
      "cell_type": "code",
      "source": [
        "def predict_test(model_ann, Y_test, X_test, sc_output, remove_outliers=0.05):\n",
        "  print('Results (freq_'+str(num_of_freq_selected)+'_reference_'+str(reference_amt)+')')\n",
        "  # Predit\n",
        "  start_time = time.time()\n",
        "  Y_test_pred=model_ann.predict(X_test)\n",
        "  pred=list(Y_test_pred)\n",
        "\n",
        "  time_eval_ann=time.time()-start_time\n",
        "\n",
        "  dist_min=sc_output.data_min_[0] # 80\n",
        "  dist_max=sc_output.data_max_[0] # 2000\n",
        "\n",
        "  real=list(list(zip(*Y_test))[0])\n",
        "  real_abs=np.add(dist_min,np.multiply((dist_max-dist_min),real)) # convert back to distances values from scalar\n",
        "  real_abs=[int(np.round(i)) for i in real_abs]\n",
        "  pred_abs=np.add(dist_min,np.multiply((dist_max-dist_min),pred)) # convert back to distances values from scalar\n",
        "\n",
        "  real_abs_e1 = real_abs\n",
        "  real_abs_e2 = real_abs\n",
        "\n",
        "  pred_abs_e1 = pred_abs\n",
        "  pred_abs_e2 = pred_abs\n",
        "\n",
        "  error=np.divide(np.abs(np.subtract(np.array(real_abs),np.array(pred_abs))),np.array(real_abs))\n",
        "  error_v2 = np.abs(np.subtract(np.array(real_abs),np.array(pred_abs)))\n",
        "\n",
        "  remove_outliers = math.ceil((len(error_v2)*remove_outliers)/2)\n",
        "\n",
        "  for outlier in range(1, remove_outliers+1):\n",
        "    min_idx_e1 = np.argmin(error)\n",
        "    max_idx_e1 = np.argmax(error)\n",
        "\n",
        "    min_idx_e2 = np.argmin(error_v2)\n",
        "    max_idx_e2 = np.argmax(error_v2)\n",
        "\n",
        "    error = np.delete(error, min_idx_e1)\n",
        "    error = np.delete(error, max_idx_e1)\n",
        "    real_abs_e1 = np.delete(real_abs_e1, min_idx_e1)\n",
        "    real_abs_e1 = np.delete(real_abs_e1, max_idx_e1)\n",
        "    pred_abs_e1 = np.delete(pred_abs_e1, min_idx_e1)\n",
        "    pred_abs_e1 = np.delete(pred_abs_e1, max_idx_e1)\n",
        "\n",
        "    error_v2 = np.delete(error_v2, min_idx_e2)\n",
        "    error_v2 = np.delete(error_v2, max_idx_e2)\n",
        "    real_abs_e2 = np.delete(real_abs_e2, min_idx_e1)\n",
        "    real_abs_e2 = np.delete(real_abs_e2, max_idx_e1)\n",
        "    pred_abs_e2 = np.delete(pred_abs_e2, min_idx_e1)\n",
        "    pred_abs_e2 = np.delete(pred_abs_e2, max_idx_e1)\n",
        "\n",
        "  res=pd.DataFrame({\"dist\":real_abs_e1,\"pred\":pred_abs_e1,\"error\":error})\n",
        "  res.to_csv(path+\"/Spectrum/NN/NN_results_error/new_data_stats_results_curve_freq_\"+str(num_of_freq_selected)+\"_reference_\"+str(reference_amt)+\".csv\", header=True, index=False)\n",
        "\n",
        "  res_v2=pd.DataFrame({\"dist\":real_abs_e2,\"pred\":pred_abs_e2,\"error\":error_v2})\n",
        "  res.to_csv(path+\"/Spectrum/NN/NN_results_error/new_data_stats_results_deltas_freq_\"+str(num_of_freq_selected)+\"_reference_\"+str(reference_amt)+\".csv\", header=True, index=False)\n",
        "  \n",
        "  plt.plot(real_abs_e1,error,'bo')\n",
        "  plt.xlabel('Distances') \n",
        "  plt.ylabel('Error') \n",
        "  plt.title(\"Results Curve (freq_\"+str(num_of_freq_selected)+\"_reference_\"+str(reference_amt)+\")\")\n",
        "  plt.savefig(path+\"/Spectrum/NN/NN_results_plots/new_data_stats_results_curve_freq_\"+str(num_of_freq_selected)+\"_reference_\"+str(reference_amt)+\".png\")\n",
        "  plt.show()\n",
        "  \n",
        "  plt.plot(real_abs_e2,error_v2,'bo')\n",
        "  plt.xlabel('Distances') \n",
        "  plt.ylabel('Error') \n",
        "  plt.title(\"Results Deltas (freq_\"+str(num_of_freq_selected)+\"_reference_\"+str(reference_amt)+\")\")\n",
        "  plt.savefig(path+\"/Spectrum/NN/NN_results_plots/new_data_stats_results_deltas_freq_\"+str(num_of_freq_selected)+\"_reference_\"+str(reference_amt)+\".png\")\n",
        "  plt.show()"
      ],
      "metadata": {
        "id": "zgqD84l5AWXg"
      },
      "execution_count": null,
      "outputs": []
    },
    {
      "cell_type": "code",
      "source": [
        "num_of_freq_selected = 10\n",
        "reference_amt = 30\n",
        "training_input_path = path + \"/Spectrum/NN/train_test_splits/new_data_training_data_NN_freq_10_reference_30.csv\"\n",
        "testing_input_path = path + \"/Spectrum/NN/train_test_splits/new_data_testing_data_NN_freq_10_reference_30.csv\"\n",
        "\n",
        "training_df = pd.read_csv(training_input_path)\n",
        "testing_df = pd.read_csv(testing_input_path)\n",
        "\n",
        "Y = training_df.iloc[:, 0].to_numpy().reshape(-1,1)\n",
        "X = training_df.iloc[:, [1, 2, 5, 6]]\n",
        "\n",
        "sc_input = MinMaxScaler()\n",
        "sc_output = MinMaxScaler()\n",
        "Y_train_s = sc_output.fit_transform(Y) # convert distances to values from 0 to 1\n",
        "X_train_s = sc_input.fit_transform(X) # convert features to values from 0 to 1\n",
        "\n",
        "Y = testing_df.iloc[:, 0].to_numpy().reshape(-1,1)\n",
        "X = testing_df.iloc[:, [1, 2, 5, 6]]\n",
        "\n",
        "\n",
        "sc_input = MinMaxScaler()\n",
        "sc_output = MinMaxScaler()\n",
        "Y_test_s = sc_output.fit_transform(Y) # convert distances to values from 0 to 1\n",
        "X_test_s = sc_input.fit_transform(X) # convert features to values from 0 to 1"
      ],
      "metadata": {
        "id": "w4IOWKxkM0z_"
      },
      "execution_count": null,
      "outputs": []
    },
    {
      "cell_type": "code",
      "source": [
        "model_ann_s = train_model(X_train_s, Y_train_s)"
      ],
      "metadata": {
        "id": "JvtaIJxm1JiV"
      },
      "execution_count": null,
      "outputs": []
    },
    {
      "cell_type": "code",
      "source": [
        "predict_test(model_ann_s, Y_test_s, X_test_s, sc_output)"
      ],
      "metadata": {
        "id": "Kf4XiuOw1JsA"
      },
      "execution_count": null,
      "outputs": []
    }
  ]
}