{
  "nbformat": 4,
  "nbformat_minor": 0,
  "metadata": {
    "colab": {
      "name": "Untitled13.ipynb",
      "provenance": [],
      "authorship_tag": "ABX9TyMyiofqIiB6/PUJk6HM6w4G",
      "include_colab_link": true
    },
    "kernelspec": {
      "name": "python3",
      "display_name": "Python 3"
    },
    "language_info": {
      "name": "python"
    }
  },
  "cells": [
    {
      "cell_type": "markdown",
      "metadata": {
        "id": "view-in-github",
        "colab_type": "text"
      },
      "source": [
        "<a href=\"https://colab.research.google.com/github/R0N3ldrt/Thesis/blob/main/New_Attack_v13.ipynb\" target=\"_parent\"><img src=\"https://colab.research.google.com/assets/colab-badge.svg\" alt=\"Open In Colab\"/></a>"
      ]
    },
    {
      "cell_type": "markdown",
      "source": [
        "# Libraries"
      ],
      "metadata": {
        "id": "oedwwr_nXJs2"
      }
    },
    {
      "cell_type": "code",
      "execution_count": 1,
      "metadata": {
        "id": "vP5hFWJrQ_xH"
      },
      "outputs": [],
      "source": [
        "# Importing necesary libraries\n",
        "# Libraries for correct code execution \n",
        "\n",
        "import os, time\n",
        "import pandas as pd\n",
        "import numpy as np\n",
        "import matplotlib.pyplot as plt\n",
        "import math\n",
        "import pickle\n",
        "import random\n",
        "import csv\n",
        "import re\n",
        "import array\n",
        "import seaborn as sns\n",
        "import scipy.stats as st\n",
        "\n",
        "from tqdm import tqdm\n",
        "from functools import reduce\n",
        "from random import random, gauss\n",
        "from math import modf, pi, cos, sin, sqrt\n",
        "from sklearn.model_selection import train_test_split\n",
        "from sklearn.preprocessing import MinMaxScaler\n",
        "from sklearn.metrics import r2_score\n",
        "from plotly.subplots import make_subplots\n",
        "from scipy.signal import savgol_filter\n",
        "from scipy.stats.stats import pearsonr\n",
        "from scipy.stats import spearmanr\n",
        "\n",
        "import plotly.graph_objects as go\n",
        "import plotly.express as px\n",
        "from plotly.subplots import make_subplots\n",
        "\n",
        "import tensorflow as tf\n",
        "import matplotlib.pyplot as plt\n",
        "import os\n",
        "import numpy as np\n",
        "import os, time, math, csv, joblib\n",
        "import pandas as pd\n",
        "import numpy as np\n",
        "import matplotlib.pyplot as plt\n",
        "import seaborn as sns\n",
        "from sklearn.model_selection import train_test_split\n",
        "from sklearn.preprocessing import MinMaxScaler\n",
        "from sklearn.mixture import GaussianMixture\n",
        "\n",
        "import os, time, math, csv, joblib\n",
        "import pandas as pd\n",
        "import numpy as np\n",
        "from sklearn.model_selection import train_test_split\n",
        "from sklearn.preprocessing import MinMaxScaler\n",
        "from sklearn.mixture import GaussianMixture\n",
        "\n",
        "import tensorflow\n",
        "import numpy\n",
        "import matplotlib.pyplot\n",
        "\n",
        "import warnings\n",
        "warnings.filterwarnings(\"ignore\")\n",
        "\n",
        "sns.set_theme()"
      ]
    },
    {
      "cell_type": "code",
      "source": [
        "#! pip uninstall tensorflow\n",
        "#! pip install tensorflow==2.3.0"
      ],
      "metadata": {
        "id": "1zAmXO6zhTxA"
      },
      "execution_count": null,
      "outputs": []
    },
    {
      "cell_type": "markdown",
      "source": [
        "# Load Enviroment"
      ],
      "metadata": {
        "id": "m50eRaG9XLVE"
      }
    },
    {
      "cell_type": "code",
      "source": [
        "# BLOQUE PARA USAR DESDE COLAB\n",
        "\n",
        "# Google drive loading as work station for local-usage of the files.\n",
        "from google.colab import drive\n",
        "drive.mount('/content/gdrive',force_remount= True)\n",
        "\n",
        "#-----------------------------------------------------------------------------"
      ],
      "metadata": {
        "colab": {
          "base_uri": "https://localhost:8080/"
        },
        "id": "MqKIbK7dXOab",
        "outputId": "f7e2aa74-901b-4d43-cf74-0aa34a2fc446"
      },
      "execution_count": 2,
      "outputs": [
        {
          "output_type": "stream",
          "name": "stdout",
          "text": [
            "Mounted at /content/gdrive\n"
          ]
        }
      ]
    },
    {
      "cell_type": "code",
      "source": [
        "# Lista para cambiar los paths rapido.\n",
        "workers = [\"Ronald\", \"Local\"]\n",
        "\n",
        "# Change the number to change the paths.\n",
        "worker = workers[0]\n",
        "\n",
        "if worker == \"Ronald\":\n",
        "  path = \"/content/gdrive/MyDrive/Thesis_Workstation/ANN_dataset\"\n",
        "else: path = os.getcwd()"
      ],
      "metadata": {
        "id": "9FQlwUh1XQgj"
      },
      "execution_count": 3,
      "outputs": []
    },
    {
      "cell_type": "markdown",
      "source": [
        ""
      ],
      "metadata": {
        "id": "ZPlQ2PaYfxEZ"
      }
    },
    {
      "cell_type": "markdown",
      "source": [
        "# Pre-procesing"
      ],
      "metadata": {
        "id": "T6lkjt0IXSRq"
      }
    },
    {
      "cell_type": "markdown",
      "source": [
        "## Get working df"
      ],
      "metadata": {
        "id": "dUHKBq43fyxi"
      }
    },
    {
      "cell_type": "code",
      "source": [
        "def prime_number_finder(stop_gap, total_num_of_data):\n",
        "  prime_nums = []\n",
        "  i=2\n",
        "  while i <= stop_gap:\n",
        "    if (total_num_of_data % i==0):\n",
        "      prime_nums.append(i)\n",
        "      break\n",
        "    i+=1\n",
        "  return prime_nums\n",
        "\n",
        "def aggreagator_v2(df, stop_gap=50):\n",
        "  total_num_of_data = df.shape[1]\n",
        "  arr_prime = prime_number_finder(stop_gap, total_num_of_data)\n",
        "  #agg_num = np.max(arr_prime)\n",
        "  agg_num = arr_prime[0]\n",
        "\n",
        "  # Creating new df of aggregate values\n",
        "  agg_df = pd.DataFrame()\n",
        "\n",
        "  mid_point = df.shape[1]/2\n",
        "\n",
        "  agg=0\n",
        "  loop_cnt=0\n",
        "  init_column_cnt = 5\n",
        "  while agg<=total_num_of_data:\n",
        "    loop_cnt+=1\n",
        "    # Obtain current last columns stop\n",
        "    agg=agg_num+init_column_cnt\n",
        "    # Select working columns\n",
        "    new_df = df[df.columns[init_column_cnt:agg]]\n",
        "\n",
        "    init_column_cnt += (agg_num)\n",
        "\n",
        "    headers = list(new_df.columns.values) \n",
        "    if loop_cnt <= mid_point:\n",
        "      # Get average of freq values for new header\n",
        "      new_header_name  = headers[-1]\n",
        "    else:\n",
        "      new_header_name = headers[0]\n",
        "    \n",
        "    # Add aggragated values to new df\n",
        "    agg_df[new_header_name] = new_df.mean(axis = 1)\n",
        "  return agg_df\n",
        "\n",
        "def remove_tail(df, cut_val, sample_id):\n",
        "  columns_selected = []\n",
        "  old_val = 0\n",
        "  delta = 0\n",
        "  mid_point = int(df.shape[1]/2)\n",
        "  cols_headers  = list(df.columns.values)\n",
        "\n",
        "  for i in range(0, df.shape[1]):\n",
        "    if i == 0:\n",
        "      cell_val = df.iloc[[0], i]\n",
        "      old_val = cell_val[sample_id]\n",
        "    else:\n",
        "      cell_val = df.iloc[[0], i]\n",
        "      val = cell_val[sample_id]\n",
        "      delta = abs(old_val-val)\n",
        "      old_val = val\n",
        "      if delta > cut_val:\n",
        "        if i <= mid_point:\n",
        "          col_name_selected = cols_headers[i+2]\n",
        "        else:\n",
        "          col_name_selected = cols_headers[i-2]\n",
        "          col_name_selected = round(float(col_name_selected), 5)\n",
        "        columns_selected.append(col_name_selected)\n",
        "\n",
        "  return columns_selected\n",
        "\n",
        "# Removing tails conducting multiples loops with variable cutoff value until we get only two columns\n",
        "def remove_tail_main(df, cut_val, sample_id):\n",
        "  old_drop_cols = []\n",
        "  drop_cols = remove_tail(df, cut_val, sample_id)\n",
        "  while len(drop_cols) != 2:  \n",
        "    # If len of columns to be dropped are 0 the select the 2 values smaller and bigger of the previous iteration\n",
        "    if len(drop_cols) == 0 or len(drop_cols) == 1:\n",
        "      drop_cols = [np.min(old_drop_cols), np.max(old_drop_cols)]\n",
        "      break\n",
        "    else:\n",
        "      old_drop_cols = drop_cols\n",
        "      drop_cols = remove_tail(df, cut_val, sample_id)\n",
        "      cut_val += 2\n",
        "  return drop_cols\n",
        "\n",
        "def get_working_data_idx_v2(df_mean_sample, sample_id, cut_val = 0):\n",
        "\n",
        "  df = df_mean_sample.iloc[[sample_id - 1]]\n",
        "\n",
        "  agg_df = aggreagator_v2(df)\n",
        "  \n",
        "  col_vals = remove_tail_main(df, cut_val=cut_val, sample_id=sample_id)\n",
        "\n",
        "  left_index_no = df.columns.get_loc(col_vals[0])\n",
        "  rigth_index_no = df.columns.get_loc(col_vals[1])\n",
        "\n",
        "  return left_index_no, rigth_index_no\n",
        "\n",
        "def cut_off_idx(df): # return tuple with cut-off values (index_left_side, index_rigth_side)\n",
        "  df_mean_sample = df.groupby(['PBRS_id']).mean()\n",
        "  df_mean_sample = df_mean_sample.drop(['row', 'Channels', 'Distance_km', 'power_dBm'], axis = 1)\n",
        "\n",
        "  cut_points = {}\n",
        "  print('Calculating the cutoff values:')\n",
        "  for sample in tqdm(df_mean_sample.index):\n",
        "    left_index_no, rigth_index_no = get_working_data_idx_v2(df_mean_sample, sample_id = sample)\n",
        "    cut_points[sample] = (left_index_no, rigth_index_no)\n",
        "\n",
        "  left_cut_off = np.min([v[0] for k, v in cut_points.items()])\n",
        "  rigth_cut_off = np.max([v[1] for k, v in cut_points.items()])\n",
        "\n",
        "  cut_point = (left_cut_off, rigth_cut_off)\n",
        "  return cut_point"
      ],
      "metadata": {
        "id": "Sfd3ijQUf0kY"
      },
      "execution_count": 455,
      "outputs": []
    },
    {
      "cell_type": "markdown",
      "source": [
        "### Cutoff main"
      ],
      "metadata": {
        "id": "6JyU7veggPqn"
      }
    },
    {
      "cell_type": "code",
      "source": [
        "def select_working_data(df, cut_point): # implement cut_off values and Smoothing original df after cutt-of\n",
        "  extra_info_df = df.iloc[:, 0:6]\n",
        "  data_df = df.iloc[:, cut_point[0]+6:cut_point[1]+6]\n",
        "  smoothed_data_frame = pd.DataFrame(savgol_filter(data_df, window_length = 5, polyorder = 2))\n",
        "  \n",
        "  # Adding back headers to the smoothed data\n",
        "  rename_col = {}\n",
        "  cnt = 0\n",
        "  for col in data_df.columns:\n",
        "    h_col = round(float(col), 5)\n",
        "    rename_col[cnt] = h_col\n",
        "    cnt += 1\n",
        "  smoothed_data_frame.rename(columns=rename_col, inplace=True)\n",
        "\n",
        "  working_df = pd.merge(extra_info_df, smoothed_data_frame, left_index=True, right_index=True)\n",
        "  return working_df\n",
        "  \n",
        "def main_cutoff(input_path):\n",
        "  print('Reading data from file.')\n",
        "  df = pd.read_excel(input_path, sheet_name = \"Sheet1\", skiprows=1)\n",
        "  df.iloc[0].fillna(method='bfill', inplace=True)\n",
        "  df.iloc[1:df.shape[0]].fillna(method='pad', inplace=True)\n",
        "  # Adding missing PBRS_id\n",
        "  snippet = []\n",
        "  val_cnt = 1\n",
        "  idx = 0\n",
        "  for sample in range(1, 101):\n",
        "    for sample_id in range(0, 25):\n",
        "      df.at[idx, 'PBRS_id'] = val_cnt\n",
        "      idx +=1\n",
        "      snippet.append(val_cnt)\n",
        "    val_cnt += 1\n",
        "  df['PBRS_id'] = df['PBRS_id'].astype(int)\n",
        "\n",
        "  cut_point = cut_off_idx(df)\n",
        "  working_df = select_working_data(df, cut_point)\n",
        "\n",
        "  return working_df"
      ],
      "metadata": {
        "id": "tOM9kIysgclQ"
      },
      "execution_count": 456,
      "outputs": []
    },
    {
      "cell_type": "code",
      "source": [
        "#input_path = path + \"/Spectrum/16QAM_v2/Copy of dataSet_gamma0_Spectrum31MHz_Samples_16QAM_75GHz_LongHaul_input_25x81km_primeStep.xlsx\"\n",
        "#orking_df = main_cutoff(input_path)\n",
        "#display(working_df)\n",
        "\n",
        "#working_df.to_csv(path+\"/Spectrum/NN/new_data_working_df.csv\", index=False)"
      ],
      "metadata": {
        "id": "tOZU5DcTglFg"
      },
      "execution_count": 457,
      "outputs": []
    },
    {
      "cell_type": "markdown",
      "source": [
        "## Get data"
      ],
      "metadata": {
        "id": "hfqT1A_mf0t1"
      }
    },
    {
      "cell_type": "code",
      "source": [
        "input_path = path + \"/Spectrum/NN/new_data_working_df.csv\"\n",
        "\n",
        "working_df = pd.read_csv(input_path)\n",
        "working_df['Distance_km'] = working_df['Distance_km'].astype(int)"
      ],
      "metadata": {
        "id": "6oL6LiSgXU54"
      },
      "execution_count": 458,
      "outputs": []
    },
    {
      "cell_type": "code",
      "source": [
        "def frequencies_filter(df, num_selected_freq=20):\n",
        "  info_df = df.iloc[:, 0:6]\n",
        "  data_df = df.iloc[:, 1:df.shape[1]]\n",
        "  span_val = int(data_df.shape[1]/num_selected_freq)\n",
        "  for i in range(num_selected_freq):\n",
        "    df2 = data_df.iloc[:, (i+1)*span_val].to_frame()\n",
        "    if i+1 == 1:\n",
        "      new_df = df2\n",
        "    else:\n",
        "      new_df = pd.merge(new_df, df2, left_index=True, right_index=True)\n",
        "  new_df = info_df.join(new_df)\n",
        "  \n",
        "  return new_df"
      ],
      "metadata": {
        "id": "z9gLmIPMgK7Q"
      },
      "execution_count": 459,
      "outputs": []
    },
    {
      "cell_type": "code",
      "source": [
        "def get_data(working_df, distances, num_features = 20, span_length=80, min_dist = 0, max_dist = 3000):\n",
        "  X=None\n",
        "  Y=np.array([])\n",
        "  dist_df = working_df.iloc[:, 3]\n",
        "  freq_df = working_df.iloc[:, 6:working_df.shape[1]]\n",
        "  samples_df = pd.merge(dist_df, freq_df, left_index=True, right_index=True)\n",
        "  samples_df = samples_df.sort_values(by='Distance_km')\n",
        "  if num_features != 'all':\n",
        "    samples_df = frequencies_filter(samples_df, num_selected_freq = num_features)\n",
        "  Y = samples_df.iloc[:, 0].to_numpy().astype('int').tolist()\n",
        "  X = samples_df.iloc[:, 1:samples_df.shape[1]]\n",
        "  \n",
        "  return X, Y, samples_df"
      ],
      "metadata": {
        "id": "AvBhc_XoXXKQ"
      },
      "execution_count": 460,
      "outputs": []
    },
    {
      "cell_type": "code",
      "source": [
        "#input_data_path=path+\"/rawData\"\n",
        "#distances=[i for i in range(1,26)]\n",
        "distances = [x*80 for x in range(1, 26)]\n",
        "X, Y, samples_filtered_df = get_data(working_df, distances, num_features = 'all', span_length=80,  min_dist = 0, max_dist = 3000)"
      ],
      "metadata": {
        "id": "RfkozzHnXj6u"
      },
      "execution_count": 461,
      "outputs": []
    },
    {
      "cell_type": "code",
      "source": [
        "samples_filtered_df"
      ],
      "metadata": {
        "colab": {
          "base_uri": "https://localhost:8080/",
          "height": 488
        },
        "id": "OSC06AG6epaG",
        "outputId": "a6d77523-6073-4fde-900c-4bd0e53c78a3"
      },
      "execution_count": 462,
      "outputs": [
        {
          "output_type": "execute_result",
          "data": {
            "text/plain": [
              "      Distance_km  -39.90625    -39.875  -39.84375   -39.8125  -39.78125  \\\n",
              "0              80 -65.158556 -66.359675 -66.708836 -71.777931 -66.092081   \n",
              "125            80 -54.902319 -57.469566 -58.650167 -58.256577 -57.120871   \n",
              "975            80 -55.246289 -58.903165 -59.936123 -58.754704 -53.084186   \n",
              "1000           80 -58.769150 -60.644357 -61.903338 -66.371732 -60.697843   \n",
              "1025           80 -62.672232 -63.551920 -63.130158 -61.900052 -61.208010   \n",
              "...           ...        ...        ...        ...        ...        ...   \n",
              "1699         2000 -39.060418 -40.089715 -39.184312 -33.321699 -32.394581   \n",
              "1724         2000 -45.777276 -39.520381 -35.212366 -31.215854 -31.976366   \n",
              "1749         2000 -33.005394 -37.672756 -39.242985 -37.025965 -37.250896   \n",
              "2399         2000 -36.358480 -32.709908 -31.364002 -33.805751 -35.584646   \n",
              "2499         2000 -36.594143 -34.475890 -33.258314 -32.997151 -34.153190   \n",
              "\n",
              "         -39.75  -39.71875   -39.6875  -39.65625  ...    34.6875   34.71875  \\\n",
              "0    -53.716181 -56.447556 -55.216247 -54.921922  ... -59.107222 -62.993632   \n",
              "125  -54.832446 -56.585764 -58.167556 -57.408129  ... -57.627135 -64.548644   \n",
              "975  -50.990158 -51.881985 -58.366417 -61.236644  ... -58.538788 -60.779631   \n",
              "1000 -58.893096 -60.500364 -63.977091 -61.713541  ... -61.793840 -58.908770   \n",
              "1025 -62.534571 -63.881451 -61.861091 -67.207673  ... -59.124382 -59.038588   \n",
              "...         ...        ...        ...        ...  ...        ...        ...   \n",
              "1699 -30.766774 -35.433400 -39.636295 -39.572805  ... -36.158246 -34.974566   \n",
              "1724 -33.063281 -32.262853 -35.781499 -35.580851  ... -32.811077 -33.647974   \n",
              "1749 -32.485086 -34.725450 -31.833082 -35.461288  ... -39.867905 -42.487405   \n",
              "2399 -32.223232 -30.862095 -28.720843 -31.102346  ... -34.051539 -35.013313   \n",
              "2499 -33.800276 -39.023602 -39.579739 -37.540062  ... -36.764209 -32.024320   \n",
              "\n",
              "          34.75   34.78125    34.8125   34.84375     34.875   34.90625  \\\n",
              "0    -54.834111 -54.361885 -64.653201 -69.901475 -61.469377 -54.784317   \n",
              "125  -65.637002 -63.156643 -58.177577 -59.985663 -58.031358 -60.922607   \n",
              "975  -60.445396 -60.851264 -59.971745 -59.222002 -61.642559 -61.885148   \n",
              "1000 -60.404921 -60.130890 -61.535060 -55.319260 -59.725285 -63.973778   \n",
              "1025 -59.114337 -57.422896 -57.627687 -57.376619 -56.733160 -58.539036   \n",
              "...         ...        ...        ...        ...        ...        ...   \n",
              "1699 -33.677152 -32.461789 -31.697031 -30.033924 -33.492361 -34.387412   \n",
              "1724 -34.523244 -34.873656 -38.167460 -35.568105 -38.499464 -41.863667   \n",
              "1749 -36.881447 -32.796440 -31.492113 -36.181981 -36.404388 -32.599868   \n",
              "2399 -33.634516 -34.267799 -36.189625 -35.279263 -33.557900 -30.107759   \n",
              "2499 -34.295020 -33.652013 -33.606912 -39.131861 -38.559208 -37.035780   \n",
              "\n",
              "        34.9375   34.96875  \n",
              "0    -55.229285 -61.405108  \n",
              "125  -59.679082 -56.034034  \n",
              "975  -61.544703 -59.897084  \n",
              "1000 -61.619858 -53.937357  \n",
              "1025 -58.086162 -56.690199  \n",
              "...         ...        ...  \n",
              "1699 -33.308819 -30.242322  \n",
              "1724 -44.503764 -46.884585  \n",
              "1749 -32.605291 -35.086710  \n",
              "2399 -31.016528 -34.939487  \n",
              "2499 -35.035530 -31.978698  \n",
              "\n",
              "[2500 rows x 2398 columns]"
            ],
            "text/html": [
              "\n",
              "  <div id=\"df-e34d8c2d-d856-4567-b05d-2c59139aa86a\">\n",
              "    <div class=\"colab-df-container\">\n",
              "      <div>\n",
              "<style scoped>\n",
              "    .dataframe tbody tr th:only-of-type {\n",
              "        vertical-align: middle;\n",
              "    }\n",
              "\n",
              "    .dataframe tbody tr th {\n",
              "        vertical-align: top;\n",
              "    }\n",
              "\n",
              "    .dataframe thead th {\n",
              "        text-align: right;\n",
              "    }\n",
              "</style>\n",
              "<table border=\"1\" class=\"dataframe\">\n",
              "  <thead>\n",
              "    <tr style=\"text-align: right;\">\n",
              "      <th></th>\n",
              "      <th>Distance_km</th>\n",
              "      <th>-39.90625</th>\n",
              "      <th>-39.875</th>\n",
              "      <th>-39.84375</th>\n",
              "      <th>-39.8125</th>\n",
              "      <th>-39.78125</th>\n",
              "      <th>-39.75</th>\n",
              "      <th>-39.71875</th>\n",
              "      <th>-39.6875</th>\n",
              "      <th>-39.65625</th>\n",
              "      <th>...</th>\n",
              "      <th>34.6875</th>\n",
              "      <th>34.71875</th>\n",
              "      <th>34.75</th>\n",
              "      <th>34.78125</th>\n",
              "      <th>34.8125</th>\n",
              "      <th>34.84375</th>\n",
              "      <th>34.875</th>\n",
              "      <th>34.90625</th>\n",
              "      <th>34.9375</th>\n",
              "      <th>34.96875</th>\n",
              "    </tr>\n",
              "  </thead>\n",
              "  <tbody>\n",
              "    <tr>\n",
              "      <th>0</th>\n",
              "      <td>80</td>\n",
              "      <td>-65.158556</td>\n",
              "      <td>-66.359675</td>\n",
              "      <td>-66.708836</td>\n",
              "      <td>-71.777931</td>\n",
              "      <td>-66.092081</td>\n",
              "      <td>-53.716181</td>\n",
              "      <td>-56.447556</td>\n",
              "      <td>-55.216247</td>\n",
              "      <td>-54.921922</td>\n",
              "      <td>...</td>\n",
              "      <td>-59.107222</td>\n",
              "      <td>-62.993632</td>\n",
              "      <td>-54.834111</td>\n",
              "      <td>-54.361885</td>\n",
              "      <td>-64.653201</td>\n",
              "      <td>-69.901475</td>\n",
              "      <td>-61.469377</td>\n",
              "      <td>-54.784317</td>\n",
              "      <td>-55.229285</td>\n",
              "      <td>-61.405108</td>\n",
              "    </tr>\n",
              "    <tr>\n",
              "      <th>125</th>\n",
              "      <td>80</td>\n",
              "      <td>-54.902319</td>\n",
              "      <td>-57.469566</td>\n",
              "      <td>-58.650167</td>\n",
              "      <td>-58.256577</td>\n",
              "      <td>-57.120871</td>\n",
              "      <td>-54.832446</td>\n",
              "      <td>-56.585764</td>\n",
              "      <td>-58.167556</td>\n",
              "      <td>-57.408129</td>\n",
              "      <td>...</td>\n",
              "      <td>-57.627135</td>\n",
              "      <td>-64.548644</td>\n",
              "      <td>-65.637002</td>\n",
              "      <td>-63.156643</td>\n",
              "      <td>-58.177577</td>\n",
              "      <td>-59.985663</td>\n",
              "      <td>-58.031358</td>\n",
              "      <td>-60.922607</td>\n",
              "      <td>-59.679082</td>\n",
              "      <td>-56.034034</td>\n",
              "    </tr>\n",
              "    <tr>\n",
              "      <th>975</th>\n",
              "      <td>80</td>\n",
              "      <td>-55.246289</td>\n",
              "      <td>-58.903165</td>\n",
              "      <td>-59.936123</td>\n",
              "      <td>-58.754704</td>\n",
              "      <td>-53.084186</td>\n",
              "      <td>-50.990158</td>\n",
              "      <td>-51.881985</td>\n",
              "      <td>-58.366417</td>\n",
              "      <td>-61.236644</td>\n",
              "      <td>...</td>\n",
              "      <td>-58.538788</td>\n",
              "      <td>-60.779631</td>\n",
              "      <td>-60.445396</td>\n",
              "      <td>-60.851264</td>\n",
              "      <td>-59.971745</td>\n",
              "      <td>-59.222002</td>\n",
              "      <td>-61.642559</td>\n",
              "      <td>-61.885148</td>\n",
              "      <td>-61.544703</td>\n",
              "      <td>-59.897084</td>\n",
              "    </tr>\n",
              "    <tr>\n",
              "      <th>1000</th>\n",
              "      <td>80</td>\n",
              "      <td>-58.769150</td>\n",
              "      <td>-60.644357</td>\n",
              "      <td>-61.903338</td>\n",
              "      <td>-66.371732</td>\n",
              "      <td>-60.697843</td>\n",
              "      <td>-58.893096</td>\n",
              "      <td>-60.500364</td>\n",
              "      <td>-63.977091</td>\n",
              "      <td>-61.713541</td>\n",
              "      <td>...</td>\n",
              "      <td>-61.793840</td>\n",
              "      <td>-58.908770</td>\n",
              "      <td>-60.404921</td>\n",
              "      <td>-60.130890</td>\n",
              "      <td>-61.535060</td>\n",
              "      <td>-55.319260</td>\n",
              "      <td>-59.725285</td>\n",
              "      <td>-63.973778</td>\n",
              "      <td>-61.619858</td>\n",
              "      <td>-53.937357</td>\n",
              "    </tr>\n",
              "    <tr>\n",
              "      <th>1025</th>\n",
              "      <td>80</td>\n",
              "      <td>-62.672232</td>\n",
              "      <td>-63.551920</td>\n",
              "      <td>-63.130158</td>\n",
              "      <td>-61.900052</td>\n",
              "      <td>-61.208010</td>\n",
              "      <td>-62.534571</td>\n",
              "      <td>-63.881451</td>\n",
              "      <td>-61.861091</td>\n",
              "      <td>-67.207673</td>\n",
              "      <td>...</td>\n",
              "      <td>-59.124382</td>\n",
              "      <td>-59.038588</td>\n",
              "      <td>-59.114337</td>\n",
              "      <td>-57.422896</td>\n",
              "      <td>-57.627687</td>\n",
              "      <td>-57.376619</td>\n",
              "      <td>-56.733160</td>\n",
              "      <td>-58.539036</td>\n",
              "      <td>-58.086162</td>\n",
              "      <td>-56.690199</td>\n",
              "    </tr>\n",
              "    <tr>\n",
              "      <th>...</th>\n",
              "      <td>...</td>\n",
              "      <td>...</td>\n",
              "      <td>...</td>\n",
              "      <td>...</td>\n",
              "      <td>...</td>\n",
              "      <td>...</td>\n",
              "      <td>...</td>\n",
              "      <td>...</td>\n",
              "      <td>...</td>\n",
              "      <td>...</td>\n",
              "      <td>...</td>\n",
              "      <td>...</td>\n",
              "      <td>...</td>\n",
              "      <td>...</td>\n",
              "      <td>...</td>\n",
              "      <td>...</td>\n",
              "      <td>...</td>\n",
              "      <td>...</td>\n",
              "      <td>...</td>\n",
              "      <td>...</td>\n",
              "      <td>...</td>\n",
              "    </tr>\n",
              "    <tr>\n",
              "      <th>1699</th>\n",
              "      <td>2000</td>\n",
              "      <td>-39.060418</td>\n",
              "      <td>-40.089715</td>\n",
              "      <td>-39.184312</td>\n",
              "      <td>-33.321699</td>\n",
              "      <td>-32.394581</td>\n",
              "      <td>-30.766774</td>\n",
              "      <td>-35.433400</td>\n",
              "      <td>-39.636295</td>\n",
              "      <td>-39.572805</td>\n",
              "      <td>...</td>\n",
              "      <td>-36.158246</td>\n",
              "      <td>-34.974566</td>\n",
              "      <td>-33.677152</td>\n",
              "      <td>-32.461789</td>\n",
              "      <td>-31.697031</td>\n",
              "      <td>-30.033924</td>\n",
              "      <td>-33.492361</td>\n",
              "      <td>-34.387412</td>\n",
              "      <td>-33.308819</td>\n",
              "      <td>-30.242322</td>\n",
              "    </tr>\n",
              "    <tr>\n",
              "      <th>1724</th>\n",
              "      <td>2000</td>\n",
              "      <td>-45.777276</td>\n",
              "      <td>-39.520381</td>\n",
              "      <td>-35.212366</td>\n",
              "      <td>-31.215854</td>\n",
              "      <td>-31.976366</td>\n",
              "      <td>-33.063281</td>\n",
              "      <td>-32.262853</td>\n",
              "      <td>-35.781499</td>\n",
              "      <td>-35.580851</td>\n",
              "      <td>...</td>\n",
              "      <td>-32.811077</td>\n",
              "      <td>-33.647974</td>\n",
              "      <td>-34.523244</td>\n",
              "      <td>-34.873656</td>\n",
              "      <td>-38.167460</td>\n",
              "      <td>-35.568105</td>\n",
              "      <td>-38.499464</td>\n",
              "      <td>-41.863667</td>\n",
              "      <td>-44.503764</td>\n",
              "      <td>-46.884585</td>\n",
              "    </tr>\n",
              "    <tr>\n",
              "      <th>1749</th>\n",
              "      <td>2000</td>\n",
              "      <td>-33.005394</td>\n",
              "      <td>-37.672756</td>\n",
              "      <td>-39.242985</td>\n",
              "      <td>-37.025965</td>\n",
              "      <td>-37.250896</td>\n",
              "      <td>-32.485086</td>\n",
              "      <td>-34.725450</td>\n",
              "      <td>-31.833082</td>\n",
              "      <td>-35.461288</td>\n",
              "      <td>...</td>\n",
              "      <td>-39.867905</td>\n",
              "      <td>-42.487405</td>\n",
              "      <td>-36.881447</td>\n",
              "      <td>-32.796440</td>\n",
              "      <td>-31.492113</td>\n",
              "      <td>-36.181981</td>\n",
              "      <td>-36.404388</td>\n",
              "      <td>-32.599868</td>\n",
              "      <td>-32.605291</td>\n",
              "      <td>-35.086710</td>\n",
              "    </tr>\n",
              "    <tr>\n",
              "      <th>2399</th>\n",
              "      <td>2000</td>\n",
              "      <td>-36.358480</td>\n",
              "      <td>-32.709908</td>\n",
              "      <td>-31.364002</td>\n",
              "      <td>-33.805751</td>\n",
              "      <td>-35.584646</td>\n",
              "      <td>-32.223232</td>\n",
              "      <td>-30.862095</td>\n",
              "      <td>-28.720843</td>\n",
              "      <td>-31.102346</td>\n",
              "      <td>...</td>\n",
              "      <td>-34.051539</td>\n",
              "      <td>-35.013313</td>\n",
              "      <td>-33.634516</td>\n",
              "      <td>-34.267799</td>\n",
              "      <td>-36.189625</td>\n",
              "      <td>-35.279263</td>\n",
              "      <td>-33.557900</td>\n",
              "      <td>-30.107759</td>\n",
              "      <td>-31.016528</td>\n",
              "      <td>-34.939487</td>\n",
              "    </tr>\n",
              "    <tr>\n",
              "      <th>2499</th>\n",
              "      <td>2000</td>\n",
              "      <td>-36.594143</td>\n",
              "      <td>-34.475890</td>\n",
              "      <td>-33.258314</td>\n",
              "      <td>-32.997151</td>\n",
              "      <td>-34.153190</td>\n",
              "      <td>-33.800276</td>\n",
              "      <td>-39.023602</td>\n",
              "      <td>-39.579739</td>\n",
              "      <td>-37.540062</td>\n",
              "      <td>...</td>\n",
              "      <td>-36.764209</td>\n",
              "      <td>-32.024320</td>\n",
              "      <td>-34.295020</td>\n",
              "      <td>-33.652013</td>\n",
              "      <td>-33.606912</td>\n",
              "      <td>-39.131861</td>\n",
              "      <td>-38.559208</td>\n",
              "      <td>-37.035780</td>\n",
              "      <td>-35.035530</td>\n",
              "      <td>-31.978698</td>\n",
              "    </tr>\n",
              "  </tbody>\n",
              "</table>\n",
              "<p>2500 rows × 2398 columns</p>\n",
              "</div>\n",
              "      <button class=\"colab-df-convert\" onclick=\"convertToInteractive('df-e34d8c2d-d856-4567-b05d-2c59139aa86a')\"\n",
              "              title=\"Convert this dataframe to an interactive table.\"\n",
              "              style=\"display:none;\">\n",
              "        \n",
              "  <svg xmlns=\"http://www.w3.org/2000/svg\" height=\"24px\"viewBox=\"0 0 24 24\"\n",
              "       width=\"24px\">\n",
              "    <path d=\"M0 0h24v24H0V0z\" fill=\"none\"/>\n",
              "    <path d=\"M18.56 5.44l.94 2.06.94-2.06 2.06-.94-2.06-.94-.94-2.06-.94 2.06-2.06.94zm-11 1L8.5 8.5l.94-2.06 2.06-.94-2.06-.94L8.5 2.5l-.94 2.06-2.06.94zm10 10l.94 2.06.94-2.06 2.06-.94-2.06-.94-.94-2.06-.94 2.06-2.06.94z\"/><path d=\"M17.41 7.96l-1.37-1.37c-.4-.4-.92-.59-1.43-.59-.52 0-1.04.2-1.43.59L10.3 9.45l-7.72 7.72c-.78.78-.78 2.05 0 2.83L4 21.41c.39.39.9.59 1.41.59.51 0 1.02-.2 1.41-.59l7.78-7.78 2.81-2.81c.8-.78.8-2.07 0-2.86zM5.41 20L4 18.59l7.72-7.72 1.47 1.35L5.41 20z\"/>\n",
              "  </svg>\n",
              "      </button>\n",
              "      \n",
              "  <style>\n",
              "    .colab-df-container {\n",
              "      display:flex;\n",
              "      flex-wrap:wrap;\n",
              "      gap: 12px;\n",
              "    }\n",
              "\n",
              "    .colab-df-convert {\n",
              "      background-color: #E8F0FE;\n",
              "      border: none;\n",
              "      border-radius: 50%;\n",
              "      cursor: pointer;\n",
              "      display: none;\n",
              "      fill: #1967D2;\n",
              "      height: 32px;\n",
              "      padding: 0 0 0 0;\n",
              "      width: 32px;\n",
              "    }\n",
              "\n",
              "    .colab-df-convert:hover {\n",
              "      background-color: #E2EBFA;\n",
              "      box-shadow: 0px 1px 2px rgba(60, 64, 67, 0.3), 0px 1px 3px 1px rgba(60, 64, 67, 0.15);\n",
              "      fill: #174EA6;\n",
              "    }\n",
              "\n",
              "    [theme=dark] .colab-df-convert {\n",
              "      background-color: #3B4455;\n",
              "      fill: #D2E3FC;\n",
              "    }\n",
              "\n",
              "    [theme=dark] .colab-df-convert:hover {\n",
              "      background-color: #434B5C;\n",
              "      box-shadow: 0px 1px 3px 1px rgba(0, 0, 0, 0.15);\n",
              "      filter: drop-shadow(0px 1px 2px rgba(0, 0, 0, 0.3));\n",
              "      fill: #FFFFFF;\n",
              "    }\n",
              "  </style>\n",
              "\n",
              "      <script>\n",
              "        const buttonEl =\n",
              "          document.querySelector('#df-e34d8c2d-d856-4567-b05d-2c59139aa86a button.colab-df-convert');\n",
              "        buttonEl.style.display =\n",
              "          google.colab.kernel.accessAllowed ? 'block' : 'none';\n",
              "\n",
              "        async function convertToInteractive(key) {\n",
              "          const element = document.querySelector('#df-e34d8c2d-d856-4567-b05d-2c59139aa86a');\n",
              "          const dataTable =\n",
              "            await google.colab.kernel.invokeFunction('convertToInteractive',\n",
              "                                                     [key], {});\n",
              "          if (!dataTable) return;\n",
              "\n",
              "          const docLinkHtml = 'Like what you see? Visit the ' +\n",
              "            '<a target=\"_blank\" href=https://colab.research.google.com/notebooks/data_table.ipynb>data table notebook</a>'\n",
              "            + ' to learn more about interactive tables.';\n",
              "          element.innerHTML = '';\n",
              "          dataTable['output_type'] = 'display_data';\n",
              "          await google.colab.output.renderOutput(dataTable, element);\n",
              "          const docLink = document.createElement('div');\n",
              "          docLink.innerHTML = docLinkHtml;\n",
              "          element.appendChild(docLink);\n",
              "        }\n",
              "      </script>\n",
              "    </div>\n",
              "  </div>\n",
              "  "
            ]
          },
          "metadata": {},
          "execution_count": 462
        }
      ]
    },
    {
      "cell_type": "markdown",
      "source": [
        "# Vanila Attack"
      ],
      "metadata": {
        "id": "QU_SPRfwgvAI"
      }
    },
    {
      "cell_type": "code",
      "source": [
        "def get_eval_data(source_df, target_df, num_eval_samples = 10):\n",
        "  import random\n",
        "  source_val_list = [i for i in range(1, len(source_df))]\n",
        "  source_random_list = random.choices(source_val_list, k = num_eval_samples)\n",
        "\n",
        "  target_val_list = [i for i in range(1, len(target_df))]\n",
        "  target_random_list = random.choices(target_val_list, k = num_eval_samples)\n",
        "\n",
        "  eval_source_df = source_df.iloc[source_random_list]\n",
        "  eval_target_df = target_df.iloc[target_random_list]\n",
        "\n",
        "  return eval_source_df, eval_target_df"
      ],
      "metadata": {
        "id": "8Jgx2IuHjDSw"
      },
      "execution_count": 740,
      "outputs": []
    },
    {
      "cell_type": "code",
      "source": [
        "def get_filtered_data(df, alpha = 0.90):\n",
        "  data_df = df.iloc[:, 1:df.shape[1]]\n",
        "  ci_arr = []\n",
        "  filtered_data = []\n",
        "  mean_data = []\n",
        "  for i in range(1, data_df.shape[1]):\n",
        "    eval_col = data_df.iloc[:,i].to_numpy()\n",
        "    ci = st.t.interval(alpha=alpha, df=len(eval_col)-1, loc=np.mean(eval_col), scale=st.sem(eval_col))\n",
        "    ci = (round(ci[0], 5), round(ci[1], 5))\n",
        "    ci_arr.append(ci)\n",
        "    filter_data = eval_col[(eval_col > ci[0]) & (eval_col < ci[1])]\n",
        "    filter_data = np.round_(filter_data, decimals = 5)\n",
        "    filtered_data.append(filter_data)\n",
        "    mean_data.append(round(np.mean(filter_data), 5))\n",
        "  return ci_arr, filtered_data, mean_data"
      ],
      "metadata": {
        "id": "Xy_sX84eTnsX"
      },
      "execution_count": 741,
      "outputs": []
    },
    {
      "cell_type": "code",
      "source": [
        "def get_delta(source_mean_data, target_mean_data):\n",
        "  deltas = []\n",
        "  for i in range(len(source_mean_data)):\n",
        "    delta = round(source_mean_data[i]-target_mean_data[i], 5)\n",
        "    deltas.append(delta)\n",
        "    \n",
        "  return deltas"
      ],
      "metadata": {
        "id": "JvN3ggzZjjwS"
      },
      "execution_count": 742,
      "outputs": []
    },
    {
      "cell_type": "code",
      "source": [
        "def mod_target(source_filtered_data, deltas_calc, delta_allowance= 0.05):\n",
        "  import random\n",
        "  cnt = 0\n",
        "  mod_target_samples = []\n",
        "  for col in source_filtered_data:\n",
        "    mod_target_col = []\n",
        "    for val in col:\n",
        "      if deltas_calc[cnt]<(-delta_allowance):\n",
        "        new_val = val + (deltas_calc[cnt]+random.uniform(-2, 2))\n",
        "      elif deltas_calc[cnt]>(delta_allowance):\n",
        "        new_val = val - (deltas_calc[cnt]+random.uniform(-2, 2))\n",
        "      else:\n",
        "        new_val = val+(deltas_calc[cnt]+random.uniform(-2, 2))\n",
        "      new_val = round(new_val, 5)\n",
        "      mod_target_col.append(new_val)\n",
        "    cnt += 1\n",
        "    mod_target_samples.append(mod_target_col)\n",
        "  return mod_target_samples"
      ],
      "metadata": {
        "id": "bNaqtxyCm10H"
      },
      "execution_count": 767,
      "outputs": []
    },
    {
      "cell_type": "code",
      "source": [
        "def get_mod_target_sample(mod_source_samples):\n",
        "  from scipy.signal import savgol_filter\n",
        "\n",
        "  mod_result = []\n",
        "  for col in mod_source_samples:\n",
        "    mod_result.append(round(np.mean(col), 5))\n",
        "\n",
        "  mod_result_smoothed = savgol_filter(mod_result, 7, 4)\n",
        "  return mod_result_smoothed"
      ],
      "metadata": {
        "id": "kfcy_NHqo1BS"
      },
      "execution_count": 782,
      "outputs": []
    },
    {
      "cell_type": "code",
      "source": [
        "def main_mod_data(source_df, target_df, num_eval_samples = 30, alpha=0.9):\n",
        "  eval_source_df, eval_target_df = get_eval_data(source_df, target_df, num_eval_samples = 30)\n",
        "  source_ci_arr, source_filtered_data, source_mean_data = get_filtered_data(eval_source_df, alpha = 0.99)\n",
        "  target_ci_arr, target_filtered_data, target_mean_data = get_filtered_data(eval_target_df, alpha = alpha)\n",
        "  deltas_calc = get_delta(source_mean_data, target_mean_data)\n",
        "  mod_source_samples = mod_target(source_filtered_data, deltas_calc, delta_allowance = 0.005)\n",
        "  mod_result_smoothed = get_mod_target_sample(mod_source_samples)\n",
        "\n",
        "  return mod_result_smoothed, source_mean_data, target_mean_data"
      ],
      "metadata": {
        "id": "SWQyP_lzx3Rd"
      },
      "execution_count": 745,
      "outputs": []
    },
    {
      "cell_type": "code",
      "source": [
        "# source_df = data that is wished to be modified\n",
        "# target_df = data that the source would convert\n",
        "\n",
        "source_df = samples_filtered_df.loc[samples_filtered_df['Distance_km'] == 2000]\n",
        "target_df = samples_filtered_df.loc[samples_filtered_df['Distance_km'] == 80]\n",
        "\n",
        "mod_result_smoothed, source_mean_data, target_mean_data = main_mod_data(source_df, target_df, num_eval_samples = 30, alpha=0.9)"
      ],
      "metadata": {
        "id": "_DMKNbITyc9p"
      },
      "execution_count": 783,
      "outputs": []
    },
    {
      "cell_type": "code",
      "source": [
        "plt.plot(source_mean_data, label='source')\n",
        "plt.plot(target_mean_data, label='target')\n",
        "plt.plot(mod_result_smoothed, label='moded')\n",
        "plt.title('Orig v Pred Sample')\n",
        "plt.ylabel('power')\n",
        "plt.xlabel('freq')\n",
        "plt.legend(loc='best')\n",
        "plt.show()"
      ],
      "metadata": {
        "id": "JcN3E71NygHU",
        "outputId": "406f55c5-c392-4850-9a12-5efe6e530812",
        "colab": {
          "base_uri": "https://localhost:8080/",
          "height": 301
        }
      },
      "execution_count": 784,
      "outputs": [
        {
          "output_type": "display_data",
          "data": {
            "text/plain": [
              "<Figure size 432x288 with 1 Axes>"
            ],
            "image/png": "[encoded data removed]"
          },
          "metadata": {
            "needs_background": "light"
          }
        }
      ]
    },
    {
      "cell_type": "markdown",
      "source": [
        "# Variational AutoEncoder Attack"
      ],
      "metadata": {
        "id": "rw7pqa5BFT1l"
      }
    },
    {
      "cell_type": "code",
      "source": [
        "import tensorflow\n",
        "import numpy\n",
        "import matplotlib.pyplot"
      ],
      "metadata": {
        "id": "yN-eV7WhFfJr"
      },
      "execution_count": 469,
      "outputs": []
    },
    {
      "cell_type": "code",
      "source": [
        "input_size = samples_filtered_df.shape[1] - 1\n",
        "latent_space_dim = 2\n",
        "distance_to_eval = 'all'"
      ],
      "metadata": {
        "id": "1r9jKpbMFcT3"
      },
      "execution_count": 470,
      "outputs": []
    },
    {
      "cell_type": "markdown",
      "source": [
        "## load dataset"
      ],
      "metadata": {
        "id": "J3BK0NzzGbLb"
      }
    },
    {
      "cell_type": "code",
      "source": [
        "samples_filtered_df"
      ],
      "metadata": {
        "id": "6wsRjpABkS6t",
        "outputId": "53bcf34c-2115-441f-80a4-7dfe2386e5f3",
        "colab": {
          "base_uri": "https://localhost:8080/",
          "height": 488
        }
      },
      "execution_count": 471,
      "outputs": [
        {
          "output_type": "execute_result",
          "data": {
            "text/plain": [
              "      Distance_km  -39.90625    -39.875  -39.84375   -39.8125  -39.78125  \\\n",
              "0              80 -65.158556 -66.359675 -66.708836 -71.777931 -66.092081   \n",
              "125            80 -54.902319 -57.469566 -58.650167 -58.256577 -57.120871   \n",
              "975            80 -55.246289 -58.903165 -59.936123 -58.754704 -53.084186   \n",
              "1000           80 -58.769150 -60.644357 -61.903338 -66.371732 -60.697843   \n",
              "1025           80 -62.672232 -63.551920 -63.130158 -61.900052 -61.208010   \n",
              "...           ...        ...        ...        ...        ...        ...   \n",
              "1699         2000 -39.060418 -40.089715 -39.184312 -33.321699 -32.394581   \n",
              "1724         2000 -45.777276 -39.520381 -35.212366 -31.215854 -31.976366   \n",
              "1749         2000 -33.005394 -37.672756 -39.242985 -37.025965 -37.250896   \n",
              "2399         2000 -36.358480 -32.709908 -31.364002 -33.805751 -35.584646   \n",
              "2499         2000 -36.594143 -34.475890 -33.258314 -32.997151 -34.153190   \n",
              "\n",
              "         -39.75  -39.71875   -39.6875  -39.65625  ...    34.6875   34.71875  \\\n",
              "0    -53.716181 -56.447556 -55.216247 -54.921922  ... -59.107222 -62.993632   \n",
              "125  -54.832446 -56.585764 -58.167556 -57.408129  ... -57.627135 -64.548644   \n",
              "975  -50.990158 -51.881985 -58.366417 -61.236644  ... -58.538788 -60.779631   \n",
              "1000 -58.893096 -60.500364 -63.977091 -61.713541  ... -61.793840 -58.908770   \n",
              "1025 -62.534571 -63.881451 -61.861091 -67.207673  ... -59.124382 -59.038588   \n",
              "...         ...        ...        ...        ...  ...        ...        ...   \n",
              "1699 -30.766774 -35.433400 -39.636295 -39.572805  ... -36.158246 -34.974566   \n",
              "1724 -33.063281 -32.262853 -35.781499 -35.580851  ... -32.811077 -33.647974   \n",
              "1749 -32.485086 -34.725450 -31.833082 -35.461288  ... -39.867905 -42.487405   \n",
              "2399 -32.223232 -30.862095 -28.720843 -31.102346  ... -34.051539 -35.013313   \n",
              "2499 -33.800276 -39.023602 -39.579739 -37.540062  ... -36.764209 -32.024320   \n",
              "\n",
              "          34.75   34.78125    34.8125   34.84375     34.875   34.90625  \\\n",
              "0    -54.834111 -54.361885 -64.653201 -69.901475 -61.469377 -54.784317   \n",
              "125  -65.637002 -63.156643 -58.177577 -59.985663 -58.031358 -60.922607   \n",
              "975  -60.445396 -60.851264 -59.971745 -59.222002 -61.642559 -61.885148   \n",
              "1000 -60.404921 -60.130890 -61.535060 -55.319260 -59.725285 -63.973778   \n",
              "1025 -59.114337 -57.422896 -57.627687 -57.376619 -56.733160 -58.539036   \n",
              "...         ...        ...        ...        ...        ...        ...   \n",
              "1699 -33.677152 -32.461789 -31.697031 -30.033924 -33.492361 -34.387412   \n",
              "1724 -34.523244 -34.873656 -38.167460 -35.568105 -38.499464 -41.863667   \n",
              "1749 -36.881447 -32.796440 -31.492113 -36.181981 -36.404388 -32.599868   \n",
              "2399 -33.634516 -34.267799 -36.189625 -35.279263 -33.557900 -30.107759   \n",
              "2499 -34.295020 -33.652013 -33.606912 -39.131861 -38.559208 -37.035780   \n",
              "\n",
              "        34.9375   34.96875  \n",
              "0    -55.229285 -61.405108  \n",
              "125  -59.679082 -56.034034  \n",
              "975  -61.544703 -59.897084  \n",
              "1000 -61.619858 -53.937357  \n",
              "1025 -58.086162 -56.690199  \n",
              "...         ...        ...  \n",
              "1699 -33.308819 -30.242322  \n",
              "1724 -44.503764 -46.884585  \n",
              "1749 -32.605291 -35.086710  \n",
              "2399 -31.016528 -34.939487  \n",
              "2499 -35.035530 -31.978698  \n",
              "\n",
              "[2500 rows x 2398 columns]"
            ],
            "text/html": [
              "\n",
              "  <div id=\"df-f4d9f50d-cc4a-444a-a6db-b05e49cb67a5\">\n",
              "    <div class=\"colab-df-container\">\n",
              "      <div>\n",
              "<style scoped>\n",
              "    .dataframe tbody tr th:only-of-type {\n",
              "        vertical-align: middle;\n",
              "    }\n",
              "\n",
              "    .dataframe tbody tr th {\n",
              "        vertical-align: top;\n",
              "    }\n",
              "\n",
              "    .dataframe thead th {\n",
              "        text-align: right;\n",
              "    }\n",
              "</style>\n",
              "<table border=\"1\" class=\"dataframe\">\n",
              "  <thead>\n",
              "    <tr style=\"text-align: right;\">\n",
              "      <th></th>\n",
              "      <th>Distance_km</th>\n",
              "      <th>-39.90625</th>\n",
              "      <th>-39.875</th>\n",
              "      <th>-39.84375</th>\n",
              "      <th>-39.8125</th>\n",
              "      <th>-39.78125</th>\n",
              "      <th>-39.75</th>\n",
              "      <th>-39.71875</th>\n",
              "      <th>-39.6875</th>\n",
              "      <th>-39.65625</th>\n",
              "      <th>...</th>\n",
              "      <th>34.6875</th>\n",
              "      <th>34.71875</th>\n",
              "      <th>34.75</th>\n",
              "      <th>34.78125</th>\n",
              "      <th>34.8125</th>\n",
              "      <th>34.84375</th>\n",
              "      <th>34.875</th>\n",
              "      <th>34.90625</th>\n",
              "      <th>34.9375</th>\n",
              "      <th>34.96875</th>\n",
              "    </tr>\n",
              "  </thead>\n",
              "  <tbody>\n",
              "    <tr>\n",
              "      <th>0</th>\n",
              "      <td>80</td>\n",
              "      <td>-65.158556</td>\n",
              "      <td>-66.359675</td>\n",
              "      <td>-66.708836</td>\n",
              "      <td>-71.777931</td>\n",
              "      <td>-66.092081</td>\n",
              "      <td>-53.716181</td>\n",
              "      <td>-56.447556</td>\n",
              "      <td>-55.216247</td>\n",
              "      <td>-54.921922</td>\n",
              "      <td>...</td>\n",
              "      <td>-59.107222</td>\n",
              "      <td>-62.993632</td>\n",
              "      <td>-54.834111</td>\n",
              "      <td>-54.361885</td>\n",
              "      <td>-64.653201</td>\n",
              "      <td>-69.901475</td>\n",
              "      <td>-61.469377</td>\n",
              "      <td>-54.784317</td>\n",
              "      <td>-55.229285</td>\n",
              "      <td>-61.405108</td>\n",
              "    </tr>\n",
              "    <tr>\n",
              "      <th>125</th>\n",
              "      <td>80</td>\n",
              "      <td>-54.902319</td>\n",
              "      <td>-57.469566</td>\n",
              "      <td>-58.650167</td>\n",
              "      <td>-58.256577</td>\n",
              "      <td>-57.120871</td>\n",
              "      <td>-54.832446</td>\n",
              "      <td>-56.585764</td>\n",
              "      <td>-58.167556</td>\n",
              "      <td>-57.408129</td>\n",
              "      <td>...</td>\n",
              "      <td>-57.627135</td>\n",
              "      <td>-64.548644</td>\n",
              "      <td>-65.637002</td>\n",
              "      <td>-63.156643</td>\n",
              "      <td>-58.177577</td>\n",
              "      <td>-59.985663</td>\n",
              "      <td>-58.031358</td>\n",
              "      <td>-60.922607</td>\n",
              "      <td>-59.679082</td>\n",
              "      <td>-56.034034</td>\n",
              "    </tr>\n",
              "    <tr>\n",
              "      <th>975</th>\n",
              "      <td>80</td>\n",
              "      <td>-55.246289</td>\n",
              "      <td>-58.903165</td>\n",
              "      <td>-59.936123</td>\n",
              "      <td>-58.754704</td>\n",
              "      <td>-53.084186</td>\n",
              "      <td>-50.990158</td>\n",
              "      <td>-51.881985</td>\n",
              "      <td>-58.366417</td>\n",
              "      <td>-61.236644</td>\n",
              "      <td>...</td>\n",
              "      <td>-58.538788</td>\n",
              "      <td>-60.779631</td>\n",
              "      <td>-60.445396</td>\n",
              "      <td>-60.851264</td>\n",
              "      <td>-59.971745</td>\n",
              "      <td>-59.222002</td>\n",
              "      <td>-61.642559</td>\n",
              "      <td>-61.885148</td>\n",
              "      <td>-61.544703</td>\n",
              "      <td>-59.897084</td>\n",
              "    </tr>\n",
              "    <tr>\n",
              "      <th>1000</th>\n",
              "      <td>80</td>\n",
              "      <td>-58.769150</td>\n",
              "      <td>-60.644357</td>\n",
              "      <td>-61.903338</td>\n",
              "      <td>-66.371732</td>\n",
              "      <td>-60.697843</td>\n",
              "      <td>-58.893096</td>\n",
              "      <td>-60.500364</td>\n",
              "      <td>-63.977091</td>\n",
              "      <td>-61.713541</td>\n",
              "      <td>...</td>\n",
              "      <td>-61.793840</td>\n",
              "      <td>-58.908770</td>\n",
              "      <td>-60.404921</td>\n",
              "      <td>-60.130890</td>\n",
              "      <td>-61.535060</td>\n",
              "      <td>-55.319260</td>\n",
              "      <td>-59.725285</td>\n",
              "      <td>-63.973778</td>\n",
              "      <td>-61.619858</td>\n",
              "      <td>-53.937357</td>\n",
              "    </tr>\n",
              "    <tr>\n",
              "      <th>1025</th>\n",
              "      <td>80</td>\n",
              "      <td>-62.672232</td>\n",
              "      <td>-63.551920</td>\n",
              "      <td>-63.130158</td>\n",
              "      <td>-61.900052</td>\n",
              "      <td>-61.208010</td>\n",
              "      <td>-62.534571</td>\n",
              "      <td>-63.881451</td>\n",
              "      <td>-61.861091</td>\n",
              "      <td>-67.207673</td>\n",
              "      <td>...</td>\n",
              "      <td>-59.124382</td>\n",
              "      <td>-59.038588</td>\n",
              "      <td>-59.114337</td>\n",
              "      <td>-57.422896</td>\n",
              "      <td>-57.627687</td>\n",
              "      <td>-57.376619</td>\n",
              "      <td>-56.733160</td>\n",
              "      <td>-58.539036</td>\n",
              "      <td>-58.086162</td>\n",
              "      <td>-56.690199</td>\n",
              "    </tr>\n",
              "    <tr>\n",
              "      <th>...</th>\n",
              "      <td>...</td>\n",
              "      <td>...</td>\n",
              "      <td>...</td>\n",
              "      <td>...</td>\n",
              "      <td>...</td>\n",
              "      <td>...</td>\n",
              "      <td>...</td>\n",
              "      <td>...</td>\n",
              "      <td>...</td>\n",
              "      <td>...</td>\n",
              "      <td>...</td>\n",
              "      <td>...</td>\n",
              "      <td>...</td>\n",
              "      <td>...</td>\n",
              "      <td>...</td>\n",
              "      <td>...</td>\n",
              "      <td>...</td>\n",
              "      <td>...</td>\n",
              "      <td>...</td>\n",
              "      <td>...</td>\n",
              "      <td>...</td>\n",
              "    </tr>\n",
              "    <tr>\n",
              "      <th>1699</th>\n",
              "      <td>2000</td>\n",
              "      <td>-39.060418</td>\n",
              "      <td>-40.089715</td>\n",
              "      <td>-39.184312</td>\n",
              "      <td>-33.321699</td>\n",
              "      <td>-32.394581</td>\n",
              "      <td>-30.766774</td>\n",
              "      <td>-35.433400</td>\n",
              "      <td>-39.636295</td>\n",
              "      <td>-39.572805</td>\n",
              "      <td>...</td>\n",
              "      <td>-36.158246</td>\n",
              "      <td>-34.974566</td>\n",
              "      <td>-33.677152</td>\n",
              "      <td>-32.461789</td>\n",
              "      <td>-31.697031</td>\n",
              "      <td>-30.033924</td>\n",
              "      <td>-33.492361</td>\n",
              "      <td>-34.387412</td>\n",
              "      <td>-33.308819</td>\n",
              "      <td>-30.242322</td>\n",
              "    </tr>\n",
              "    <tr>\n",
              "      <th>1724</th>\n",
              "      <td>2000</td>\n",
              "      <td>-45.777276</td>\n",
              "      <td>-39.520381</td>\n",
              "      <td>-35.212366</td>\n",
              "      <td>-31.215854</td>\n",
              "      <td>-31.976366</td>\n",
              "      <td>-33.063281</td>\n",
              "      <td>-32.262853</td>\n",
              "      <td>-35.781499</td>\n",
              "      <td>-35.580851</td>\n",
              "      <td>...</td>\n",
              "      <td>-32.811077</td>\n",
              "      <td>-33.647974</td>\n",
              "      <td>-34.523244</td>\n",
              "      <td>-34.873656</td>\n",
              "      <td>-38.167460</td>\n",
              "      <td>-35.568105</td>\n",
              "      <td>-38.499464</td>\n",
              "      <td>-41.863667</td>\n",
              "      <td>-44.503764</td>\n",
              "      <td>-46.884585</td>\n",
              "    </tr>\n",
              "    <tr>\n",
              "      <th>1749</th>\n",
              "      <td>2000</td>\n",
              "      <td>-33.005394</td>\n",
              "      <td>-37.672756</td>\n",
              "      <td>-39.242985</td>\n",
              "      <td>-37.025965</td>\n",
              "      <td>-37.250896</td>\n",
              "      <td>-32.485086</td>\n",
              "      <td>-34.725450</td>\n",
              "      <td>-31.833082</td>\n",
              "      <td>-35.461288</td>\n",
              "      <td>...</td>\n",
              "      <td>-39.867905</td>\n",
              "      <td>-42.487405</td>\n",
              "      <td>-36.881447</td>\n",
              "      <td>-32.796440</td>\n",
              "      <td>-31.492113</td>\n",
              "      <td>-36.181981</td>\n",
              "      <td>-36.404388</td>\n",
              "      <td>-32.599868</td>\n",
              "      <td>-32.605291</td>\n",
              "      <td>-35.086710</td>\n",
              "    </tr>\n",
              "    <tr>\n",
              "      <th>2399</th>\n",
              "      <td>2000</td>\n",
              "      <td>-36.358480</td>\n",
              "      <td>-32.709908</td>\n",
              "      <td>-31.364002</td>\n",
              "      <td>-33.805751</td>\n",
              "      <td>-35.584646</td>\n",
              "      <td>-32.223232</td>\n",
              "      <td>-30.862095</td>\n",
              "      <td>-28.720843</td>\n",
              "      <td>-31.102346</td>\n",
              "      <td>...</td>\n",
              "      <td>-34.051539</td>\n",
              "      <td>-35.013313</td>\n",
              "      <td>-33.634516</td>\n",
              "      <td>-34.267799</td>\n",
              "      <td>-36.189625</td>\n",
              "      <td>-35.279263</td>\n",
              "      <td>-33.557900</td>\n",
              "      <td>-30.107759</td>\n",
              "      <td>-31.016528</td>\n",
              "      <td>-34.939487</td>\n",
              "    </tr>\n",
              "    <tr>\n",
              "      <th>2499</th>\n",
              "      <td>2000</td>\n",
              "      <td>-36.594143</td>\n",
              "      <td>-34.475890</td>\n",
              "      <td>-33.258314</td>\n",
              "      <td>-32.997151</td>\n",
              "      <td>-34.153190</td>\n",
              "      <td>-33.800276</td>\n",
              "      <td>-39.023602</td>\n",
              "      <td>-39.579739</td>\n",
              "      <td>-37.540062</td>\n",
              "      <td>...</td>\n",
              "      <td>-36.764209</td>\n",
              "      <td>-32.024320</td>\n",
              "      <td>-34.295020</td>\n",
              "      <td>-33.652013</td>\n",
              "      <td>-33.606912</td>\n",
              "      <td>-39.131861</td>\n",
              "      <td>-38.559208</td>\n",
              "      <td>-37.035780</td>\n",
              "      <td>-35.035530</td>\n",
              "      <td>-31.978698</td>\n",
              "    </tr>\n",
              "  </tbody>\n",
              "</table>\n",
              "<p>2500 rows × 2398 columns</p>\n",
              "</div>\n",
              "      <button class=\"colab-df-convert\" onclick=\"convertToInteractive('df-f4d9f50d-cc4a-444a-a6db-b05e49cb67a5')\"\n",
              "              title=\"Convert this dataframe to an interactive table.\"\n",
              "              style=\"display:none;\">\n",
              "        \n",
              "  <svg xmlns=\"http://www.w3.org/2000/svg\" height=\"24px\"viewBox=\"0 0 24 24\"\n",
              "       width=\"24px\">\n",
              "    <path d=\"M0 0h24v24H0V0z\" fill=\"none\"/>\n",
              "    <path d=\"M18.56 5.44l.94 2.06.94-2.06 2.06-.94-2.06-.94-.94-2.06-.94 2.06-2.06.94zm-11 1L8.5 8.5l.94-2.06 2.06-.94-2.06-.94L8.5 2.5l-.94 2.06-2.06.94zm10 10l.94 2.06.94-2.06 2.06-.94-2.06-.94-.94-2.06-.94 2.06-2.06.94z\"/><path d=\"M17.41 7.96l-1.37-1.37c-.4-.4-.92-.59-1.43-.59-.52 0-1.04.2-1.43.59L10.3 9.45l-7.72 7.72c-.78.78-.78 2.05 0 2.83L4 21.41c.39.39.9.59 1.41.59.51 0 1.02-.2 1.41-.59l7.78-7.78 2.81-2.81c.8-.78.8-2.07 0-2.86zM5.41 20L4 18.59l7.72-7.72 1.47 1.35L5.41 20z\"/>\n",
              "  </svg>\n",
              "      </button>\n",
              "      \n",
              "  <style>\n",
              "    .colab-df-container {\n",
              "      display:flex;\n",
              "      flex-wrap:wrap;\n",
              "      gap: 12px;\n",
              "    }\n",
              "\n",
              "    .colab-df-convert {\n",
              "      background-color: #E8F0FE;\n",
              "      border: none;\n",
              "      border-radius: 50%;\n",
              "      cursor: pointer;\n",
              "      display: none;\n",
              "      fill: #1967D2;\n",
              "      height: 32px;\n",
              "      padding: 0 0 0 0;\n",
              "      width: 32px;\n",
              "    }\n",
              "\n",
              "    .colab-df-convert:hover {\n",
              "      background-color: #E2EBFA;\n",
              "      box-shadow: 0px 1px 2px rgba(60, 64, 67, 0.3), 0px 1px 3px 1px rgba(60, 64, 67, 0.15);\n",
              "      fill: #174EA6;\n",
              "    }\n",
              "\n",
              "    [theme=dark] .colab-df-convert {\n",
              "      background-color: #3B4455;\n",
              "      fill: #D2E3FC;\n",
              "    }\n",
              "\n",
              "    [theme=dark] .colab-df-convert:hover {\n",
              "      background-color: #434B5C;\n",
              "      box-shadow: 0px 1px 3px 1px rgba(0, 0, 0, 0.15);\n",
              "      filter: drop-shadow(0px 1px 2px rgba(0, 0, 0, 0.3));\n",
              "      fill: #FFFFFF;\n",
              "    }\n",
              "  </style>\n",
              "\n",
              "      <script>\n",
              "        const buttonEl =\n",
              "          document.querySelector('#df-f4d9f50d-cc4a-444a-a6db-b05e49cb67a5 button.colab-df-convert');\n",
              "        buttonEl.style.display =\n",
              "          google.colab.kernel.accessAllowed ? 'block' : 'none';\n",
              "\n",
              "        async function convertToInteractive(key) {\n",
              "          const element = document.querySelector('#df-f4d9f50d-cc4a-444a-a6db-b05e49cb67a5');\n",
              "          const dataTable =\n",
              "            await google.colab.kernel.invokeFunction('convertToInteractive',\n",
              "                                                     [key], {});\n",
              "          if (!dataTable) return;\n",
              "\n",
              "          const docLinkHtml = 'Like what you see? Visit the ' +\n",
              "            '<a target=\"_blank\" href=https://colab.research.google.com/notebooks/data_table.ipynb>data table notebook</a>'\n",
              "            + ' to learn more about interactive tables.';\n",
              "          element.innerHTML = '';\n",
              "          dataTable['output_type'] = 'display_data';\n",
              "          await google.colab.output.renderOutput(dataTable, element);\n",
              "          const docLink = document.createElement('div');\n",
              "          docLink.innerHTML = docLinkHtml;\n",
              "          element.appendChild(docLink);\n",
              "        }\n",
              "      </script>\n",
              "    </div>\n",
              "  </div>\n",
              "  "
            ]
          },
          "metadata": {},
          "execution_count": 471
        }
      ]
    },
    {
      "cell_type": "code",
      "source": [
        "#samples_filtered_df = samples_filtered_df.query('Distance_km == '+str(distance_to_eval))"
      ],
      "metadata": {
        "id": "Zf3VmCvo3-Vy"
      },
      "execution_count": 472,
      "outputs": []
    },
    {
      "cell_type": "code",
      "source": [
        "x_train, x_test, y_train, y_test = train_test_split(samples_filtered_df.values[:, 1:samples_filtered_df.values.shape[1]], samples_filtered_df.values[:, 0], test_size=0.2, random_state=111)"
      ],
      "metadata": {
        "id": "FNAceVNQmDf8"
      },
      "execution_count": 473,
      "outputs": []
    },
    {
      "cell_type": "code",
      "source": [
        "scaler = MinMaxScaler()\n",
        "data_scaled = scaler.fit(x_train)\n",
        "\n",
        "max_scaled = scaler.data_max_\n",
        "min_scaled = scaler.data_min_"
      ],
      "metadata": {
        "id": "16cE6mNG0UQn"
      },
      "execution_count": 474,
      "outputs": []
    },
    {
      "cell_type": "code",
      "source": [
        "x_train = data_scaled.transform(x_train)\n",
        "x_test = data_scaled.transform(x_test)"
      ],
      "metadata": {
        "id": "HrH15-LM0cco"
      },
      "execution_count": 475,
      "outputs": []
    },
    {
      "cell_type": "markdown",
      "source": [
        "## encoder"
      ],
      "metadata": {
        "id": "QwejjDUbFmJm"
      }
    },
    {
      "cell_type": "code",
      "source": [
        "# Encoder\n",
        "x = tensorflow.keras.layers.Input(shape=(input_size,), name=\"encoder_input\")\n",
        "\n",
        "encoder_dense_layer1 = tensorflow.keras.layers.Dense(units=512, name=\"encoder_dense_1\")(x)\n",
        "encoder_activ_layer1 = tensorflow.keras.layers.ReLU(name=\"encoder_relu_1\")(encoder_dense_layer1)\n",
        "\n",
        "encoder_dense_layer2 = tensorflow.keras.layers.Dense(units=256, name=\"encoder_dense_2\")(encoder_activ_layer1)\n",
        "encoder_activ_layer2 = tensorflow.keras.layers.ReLU(name=\"encoder_activ_layer_2\")(encoder_dense_layer2)\n",
        "\n",
        "encoder_dense_layer3 = tensorflow.keras.layers.Dense(units=128, name=\"encoder_dense_3\")(encoder_activ_layer2)\n",
        "encoder_activ_layer3 = tensorflow.keras.layers.ReLU(name=\"encoder_activ_layer_3\")(encoder_dense_layer3)\n",
        "\n",
        "encoder_dense_layer4 = tensorflow.keras.layers.Dense(units=64, name=\"encoder_dense_4\")(encoder_activ_layer3)\n",
        "encoder_activ_layer4 = tensorflow.keras.layers.ReLU(name=\"encoder_activ_layer_4\")(encoder_dense_layer4)\n",
        "\n",
        "encoder_dense_layer5 = tensorflow.keras.layers.Dense(units=32, name=\"encoder_dense_5\")(encoder_activ_layer4)\n",
        "encoder_activ_layer5 = tensorflow.keras.layers.ReLU(name=\"encoder_activ_layer_5\")(encoder_dense_layer5)\n",
        "\n",
        "shape_before_flatten = tensorflow.keras.backend.int_shape(encoder_activ_layer5)[1:]\n",
        "encoder_flatten = tensorflow.keras.layers.Flatten()(encoder_activ_layer5)\n",
        "\n",
        "encoder_mu = tensorflow.keras.layers.Dense(units=latent_space_dim, name=\"encoder_mu\")(encoder_flatten)\n",
        "encoder_log_variance = tensorflow.keras.layers.Dense(units=latent_space_dim, name=\"encoder_log_variance\")(encoder_flatten)\n",
        "\n",
        "encoder_mu_log_variance_model = tensorflow.keras.models.Model(x, (encoder_mu, encoder_log_variance), name=\"encoder_mu_log_variance_model\")\n",
        "\n",
        "def sampling(mu_log_variance):\n",
        "    mu, log_variance = mu_log_variance\n",
        "    epsilon = tensorflow.keras.backend.random_normal(shape=tensorflow.keras.backend.shape(mu), mean=0.0, stddev=1.0)\n",
        "    random_sample = mu + tensorflow.keras.backend.exp(log_variance/2) * epsilon\n",
        "    return random_sample\n",
        "\n",
        "encoder_output = tensorflow.keras.layers.Lambda(sampling, name=\"encoder_output\")([encoder_mu, encoder_log_variance])\n",
        "\n",
        "encoder = tensorflow.keras.models.Model(x, encoder_output, name=\"encoder_model\")"
      ],
      "metadata": {
        "id": "baSVtxFWFnSX"
      },
      "execution_count": 476,
      "outputs": []
    },
    {
      "cell_type": "markdown",
      "source": [
        "## decoder"
      ],
      "metadata": {
        "id": "H_dd_jcOFoBb"
      }
    },
    {
      "cell_type": "code",
      "source": [
        "decoder_input = tensorflow.keras.layers.Input(shape=(latent_space_dim), name=\"decoder_input\")\n",
        "decoder_dense_input_layer1 = tensorflow.keras.layers.Dense(units=numpy.prod(shape_before_flatten), name=\"decoder_dense_input_1\")(decoder_input)\n",
        "decoder_reshape = tensorflow.keras.layers.Reshape(target_shape=shape_before_flatten)(decoder_dense_input_layer1)\n",
        "\n",
        "decoder_dense_layer1 = tensorflow.keras.layers.Dense(units=64, name=\"decoder_dense_1\")(decoder_reshape)\n",
        "decoder_activ_layer1 = tensorflow.keras.layers.ReLU(name=\"decoder_relu_1\")(decoder_dense_layer1)\n",
        "\n",
        "decoder_dense_layer2 = tensorflow.keras.layers.Dense(units=128, name=\"decoder_dense_2\")(decoder_activ_layer1)\n",
        "decoder_activ_layer2 = tensorflow.keras.layers.ReLU(name=\"decoder_relu_2\")(decoder_dense_layer2)\n",
        "\n",
        "decoder_dense_layer3 = tensorflow.keras.layers.Dense(units=256, name=\"decoder_dense_3\")(decoder_activ_layer2)\n",
        "decoder_activ_layer3 = tensorflow.keras.layers.ReLU(name=\"decoder_relu_3\")(decoder_dense_layer3)\n",
        "\n",
        "decoder_dense_layer4 = tensorflow.keras.layers.Dense(units=512, name=\"decoder_dense_4\")(decoder_activ_layer3)\n",
        "decoder_activ_layer4 = tensorflow.keras.layers.ReLU(name=\"decoder_relu_4\")(decoder_dense_layer4)\n",
        "\n",
        "decoder_dense_layer5 = tensorflow.keras.layers.Dense(units=input_size, name=\"decoder_dense_5\")(decoder_activ_layer4)\n",
        "decoder_output = tensorflow.keras.layers.ReLU(name=\"decoder_output\")(decoder_dense_layer5)\n",
        "\n",
        "decoder = tensorflow.keras.models.Model(decoder_input, decoder_output, name=\"decoder_model\")"
      ],
      "metadata": {
        "id": "CEPnPi84FqmV"
      },
      "execution_count": 477,
      "outputs": []
    },
    {
      "cell_type": "markdown",
      "source": [
        "## vae"
      ],
      "metadata": {
        "id": "cexazT7yF9Tj"
      }
    },
    {
      "cell_type": "code",
      "source": [
        "vae_input = tensorflow.keras.layers.Input(shape=(input_size), name=\"VAE_input\")\n",
        "vae_encoder_output = encoder(vae_input)\n",
        "vae_decoder_output = decoder(vae_encoder_output)\n",
        "vae = tensorflow.keras.models.Model(vae_input, vae_decoder_output, name=\"VAE\")\n",
        "vae.summary()"
      ],
      "metadata": {
        "id": "Aq1hpMP9GDAT",
        "outputId": "5cbf2d10-8326-464b-c1e0-157c701cb782",
        "colab": {
          "base_uri": "https://localhost:8080/"
        }
      },
      "execution_count": 478,
      "outputs": [
        {
          "output_type": "stream",
          "name": "stdout",
          "text": [
            "Model: \"VAE\"\n",
            "_________________________________________________________________\n",
            "Layer (type)                 Output Shape              Param #   \n",
            "=================================================================\n",
            "VAE_input (InputLayer)       [(None, 2397)]            0         \n",
            "_________________________________________________________________\n",
            "encoder_model (Functional)   (None, 2)                 1402468   \n",
            "_________________________________________________________________\n",
            "decoder_model (Functional)   (None, 2397)              1404797   \n",
            "=================================================================\n",
            "Total params: 2,807,265\n",
            "Trainable params: 2,807,265\n",
            "Non-trainable params: 0\n",
            "_________________________________________________________________\n"
          ]
        }
      ]
    },
    {
      "cell_type": "markdown",
      "source": [
        "## loss and compile"
      ],
      "metadata": {
        "id": "PBpFaQdrGKBo"
      }
    },
    {
      "cell_type": "code",
      "source": [
        "def loss_func(encoder_mu, encoder_log_variance):\n",
        "    def vae_reconstruction_loss(y_true, y_predict):\n",
        "        reconstruction_loss_factor = len(x_test)  \n",
        "        reconstruction_loss = tensorflow.keras.backend.mean(tensorflow.keras.backend.square(y_true-y_predict))\n",
        "        return reconstruction_loss_factor * reconstruction_loss\n",
        "\n",
        "    def vae_kl_loss(encoder_mu, encoder_log_variance):\n",
        "        kl_loss = -0.5 * tensorflow.keras.backend.sum(1.0 + encoder_log_variance - tensorflow.keras.backend.square(encoder_mu) - tensorflow.keras.backend.exp(encoder_log_variance), axis=1)\n",
        "        return kl_loss\n",
        "\n",
        "    def vae_kl_loss_metric(y_true, y_predict):\n",
        "        kl_loss = -0.5 * tensorflow.keras.backend.sum(1.0 + encoder_log_variance - tensorflow.keras.backend.square(encoder_mu) - tensorflow.keras.backend.exp(encoder_log_variance), axis=1)\n",
        "        return kl_loss\n",
        "\n",
        "    def vae_loss(y_true, y_predict):\n",
        "        reconstruction_loss = vae_reconstruction_loss(y_true, y_predict)\n",
        "        kl_loss = vae_kl_loss(y_true, y_predict)\n",
        "\n",
        "        loss = reconstruction_loss + kl_loss\n",
        "        return loss\n",
        "\n",
        "    return vae_loss\n",
        "\n",
        "vae.compile(optimizer=tensorflow.keras.optimizers.Adam(lr=0.0005), loss=loss_func(encoder_mu, encoder_log_variance))"
      ],
      "metadata": {
        "id": "fRXsZfDSGPVE"
      },
      "execution_count": 479,
      "outputs": []
    },
    {
      "cell_type": "markdown",
      "source": [
        "## train"
      ],
      "metadata": {
        "id": "ivNkXatcXvkW"
      }
    },
    {
      "cell_type": "code",
      "source": [
        "epochs_test = [15, 50, 100, 500, 1000]\n",
        "for et in epochs_test:\n",
        "  print('Training with {} epochs ...'.format(et))\n",
        "  history = vae.fit(x_train, y_train, epochs=et, batch_size=32, shuffle=True, validation_data=(x_test, y_test), verbose=0)\n",
        "\n",
        "  plt.plot(history.history['loss'])\n",
        "  plt.plot(history.history['val_loss'])\n",
        "  plt.title('model loss epochs {} distance {}'.format(et, distance_to_eval))\n",
        "  plt.ylabel('loss')\n",
        "  plt.xlabel('epoch')\n",
        "  plt.legend(['train', 'test'], loc='best')\n",
        "  plt.savefig(path+\"/Spectrum/attack_vae/loss_plots/VAE_loss_epochs_\"+str(et)+\"_distance_\"+str(distance_to_eval)+\".png\")\n",
        "  plt.show()\n",
        "\n",
        "  # save autoencoder\n",
        "  encoder.save(path+\"/Spectrum/attack_vae/autoencoder/VAE_encoder_epochs_\"+str(et)+\"_distance_\"+str(distance_to_eval)+\".h5\") \n",
        "  decoder.save(path+\"/Spectrum/attack_vae/autoencoder/VAE_decoder_epochs_\"+str(et)+\"_distance_\"+str(distance_to_eval)+\".h5\") \n",
        "  vae.save(path+\"/Spectrum/attack_vae/autoencoder/VAE_epochs_\"+str(et)+\"_distance_\"+str(distance_to_eval)+\".h5\")\n",
        "\n",
        "  print('------------------------------------------------------')"
      ],
      "metadata": {
        "id": "mFC__rFPGdyq",
        "outputId": "4894c8bd-a854-4587-c375-1b82a633ad28",
        "colab": {
          "base_uri": "https://localhost:8080/",
          "height": 1000
        }
      },
      "execution_count": 480,
      "outputs": [
        {
          "output_type": "stream",
          "name": "stdout",
          "text": [
            "Training with 15 epochs ...\n"
          ]
        },
        {
          "output_type": "display_data",
          "data": {
            "text/plain": [
              "<Figure size 432x288 with 1 Axes>"
            ],
            "image/png": "[encoded data removed]"
          },
          "metadata": {
            "needs_background": "light"
          }
        },
        {
          "output_type": "stream",
          "name": "stdout",
          "text": [
            "------------------------------------------------------\n",
            "Training with 50 epochs ...\n"
          ]
        },
        {
          "output_type": "display_data",
          "data": {
            "text/plain": [
              "<Figure size 432x288 with 1 Axes>"
            ],
            "image/png": "[encoded data removed]"
          },
          "metadata": {
            "needs_background": "light"
          }
        },
        {
          "output_type": "stream",
          "name": "stdout",
          "text": [
            "------------------------------------------------------\n",
            "Training with 100 epochs ...\n"
          ]
        },
        {
          "output_type": "display_data",
          "data": {
            "text/plain": [
              "<Figure size 432x288 with 1 Axes>"
            ],
            "image/png": "[encoded data removed]"
          },
          "metadata": {
            "needs_background": "light"
          }
        },
        {
          "output_type": "stream",
          "name": "stdout",
          "text": [
            "------------------------------------------------------\n",
            "Training with 500 epochs ...\n"
          ]
        },
        {
          "output_type": "display_data",
          "data": {
            "text/plain": [
              "<Figure size 432x288 with 1 Axes>"
            ],
            "image/png": "[encoded data removed]"
          },
          "metadata": {
            "needs_background": "light"
          }
        },
        {
          "output_type": "stream",
          "name": "stdout",
          "text": [
            "------------------------------------------------------\n",
            "Training with 1000 epochs ...\n"
          ]
        },
        {
          "output_type": "display_data",
          "data": {
            "text/plain": [
              "<Figure size 432x288 with 1 Axes>"
            ],
            "image/png": "[encoded data removed]"
          },
          "metadata": {
            "needs_background": "light"
          }
        },
        {
          "output_type": "stream",
          "name": "stdout",
          "text": [
            "------------------------------------------------------\n"
          ]
        }
      ]
    },
    {
      "cell_type": "markdown",
      "source": [
        "## test model"
      ],
      "metadata": {
        "id": "dj4rHj7BG0NH"
      }
    },
    {
      "cell_type": "code",
      "source": [
        "epochs_num = 100\n",
        "encoder = tensorflow.keras.models.load_model(path+\"/Spectrum/attack_vae/autoencoder/VAE_encoder_epochs_\"+str(epochs_num)+\"_distance_\"+str(distance_to_eval)+\".h5\", compile=False)\n",
        "decoder = tensorflow.keras.models.load_model(path+\"/Spectrum/attack_vae/autoencoder/VAE_decoder_epochs_\"+str(epochs_num)+\"_distance_\"+str(distance_to_eval)+\".h5\", compile=False)\n",
        "\n",
        "encoded_data = encoder.predict(x_test)\n",
        "decoded_data = decoder.predict(encoded_data)"
      ],
      "metadata": {
        "id": "_Jm1CecgG3rf",
        "colab": {
          "base_uri": "https://localhost:8080/"
        },
        "outputId": "bbc50303-278a-4c23-b7f7-8169c238eca4"
      },
      "execution_count": 481,
      "outputs": [
        {
          "output_type": "stream",
          "name": "stdout",
          "text": [
            "WARNING:tensorflow:11 out of the last 11 calls to <function Model.make_predict_function.<locals>.predict_function at 0x7f30549adcb0> triggered tf.function retracing. Tracing is expensive and the excessive number of tracings could be due to (1) creating @tf.function repeatedly in a loop, (2) passing tensors with different shapes, (3) passing Python objects instead of tensors. For (1), please define your @tf.function outside of the loop. For (2), @tf.function has experimental_relax_shapes=True option that relaxes argument shapes that can avoid unnecessary retracing. For (3), please refer to https://www.tensorflow.org/tutorials/customization/performance#python_or_tensor_args and https://www.tensorflow.org/api_docs/python/tf/function for  more details.\n"
          ]
        }
      ]
    },
    {
      "cell_type": "code",
      "source": [
        "inverted_decoded_data = scaler.inverse_transform(decoded_data)\n",
        "inverted_x_test = scaler.inverse_transform(x_test)\n",
        "decoded_result = []\n",
        "\n",
        "# Adjusting data convertion and range\n",
        "cnt = 0\n",
        "for sample in decoded_data:\n",
        "  sample_decoded = []\n",
        "  delta_samples = []\n",
        "  delta_cnt = 0\n",
        "  for v in sample:\n",
        "    sample_decoded.append((v/10))\n",
        "    if delta_cnt <=50:\n",
        "      delta_samples.append(round(((v/10) - x_test[cnt][delta_cnt]), 3))\n",
        "    delta_cnt += 1\n",
        "  delta_test_decoded = np.mean(delta_samples)\n",
        "  if delta_test_decoded < 0:    \n",
        "    new_sample_decoded = [x+abs(delta_test_decoded) for x in sample_decoded]\n",
        "  elif delta_test_decoded > 0:\n",
        "    new_sample_decoded = [x-abs(delta_test_decoded) for x in sample_decoded]\n",
        "  else:\n",
        "    new_sample_decoded = sample_decoded\n",
        "  decoded_result.append(new_sample_decoded)\n",
        "  cnt += 1\n",
        "\n",
        "decoded_result = np.array(decoded_result)\n",
        "inverted_decoded_results = scaler.inverse_transform(decoded_result)\n",
        "check_plots_samples = [10]\n",
        "for cps in check_plots_samples:\n",
        "  print('----------Decoded_Original------------')\n",
        "  print(decoded_data[cps])\n",
        "  print('----------Decoded_Mod/10------------')\n",
        "  print(decoded_result[cps])\n",
        "  print('----------Inverted Decoded_Mod------------')\n",
        "  print(inverted_decoded_results[cps])\n",
        "  print('----------X_test------------')\n",
        "  print(x_test[cps])\n",
        "  print('----------Inverted X_test------------')\n",
        "  print(inverted_x_test[cps])\n",
        "  plt.plot(inverted_x_test[cps], label='original')  \n",
        "  plt.plot(inverted_decoded_results[cps], label='pred')\n",
        "\n",
        "  plt.title('Orig v Pred Sample {}'.format(cps))\n",
        "  plt.ylabel('power')\n",
        "  plt.xlabel('freq')\n",
        "  plt.legend(loc='best')\n",
        "  plt.show()\n",
        "  print('------------------------------------------------------')"
      ],
      "metadata": {
        "id": "vm5PplMV64u-",
        "colab": {
          "base_uri": "https://localhost:8080/",
          "height": 527
        },
        "outputId": "cdcffa0c-1e93-49c3-97dd-91eaea7df380"
      },
      "execution_count": 482,
      "outputs": [
        {
          "output_type": "stream",
          "name": "stdout",
          "text": [
            "----------Decoded_Original------------\n",
            "[7.351113  7.3516903 7.350141  ... 7.3507094 7.3515406 7.3515983]\n",
            "----------Decoded_Mod/10------------\n",
            "[0.99809168 0.99814942 0.9979945  ... 0.99805134 0.99813445 0.99814022]\n",
            "----------Inverted Decoded_Mod------------\n",
            "[-24.11448174 -28.20798892 -27.8281836  ... -27.11056737 -25.68160626\n",
            " -24.69261523]\n",
            "----------X_test------------\n",
            "[0.77882858 0.7994529  0.78097142 ... 0.85520745 0.72553355 0.60523725]\n",
            "----------Inverted X_test------------\n",
            "[-35.05237796 -36.66102575 -36.7836004  ... -33.21446716 -37.12563498\n",
            " -43.20555419]\n"
          ]
        },
        {
          "output_type": "display_data",
          "data": {
            "text/plain": [
              "<Figure size 432x288 with 1 Axes>"
            ],
            "image/png": "[encoded data removed]"
          },
          "metadata": {
            "needs_background": "light"
          }
        },
        {
          "output_type": "stream",
          "name": "stdout",
          "text": [
            "------------------------------------------------------\n"
          ]
        }
      ]
    },
    {
      "cell_type": "markdown",
      "source": [
        "## Create final modification for synthetic data"
      ],
      "metadata": {
        "id": "iamZWWsu6Ygv"
      }
    },
    {
      "cell_type": "code",
      "source": [
        "from scipy.signal import savgol_filter\n",
        "\n",
        "# Combined test samples by mean of 0.9 CI data points er columns\n",
        "combined_sample_x_test = []\n",
        "for i in range(len(inverted_x_test[0])):\n",
        "  col_val = []\n",
        "  for sample in inverted_x_test:\n",
        "    col_val.append(sample[i])\n",
        "  ci_lower, ci_upper = st.t.interval(alpha=0.90, df=len(col_val)-1, loc=np.mean(col_val), scale=st.sem(col_val)) \n",
        "  col_val = np.array(col_val)\n",
        "  col_val = col_val[ (col_val > ci_lower) & (col_val < ci_upper) ]\n",
        "  \n",
        "  combined_sample_x_test.append(np.mean(col_val))\n",
        "\n",
        "# Combined decoded samples by mean of 0.9 CI data points er columns\n",
        "combined_sample_decoded_results = []\n",
        "for i in range(len(inverted_decoded_results[0])):\n",
        "  col_val = []\n",
        "  for sample_col in inverted_decoded_results:\n",
        "    col_val.append(sample_col[i])\n",
        "  ci_lower, ci_upper = st.t.interval(alpha=0.90, df=len(col_val)-1, loc=np.mean(col_val), scale=st.sem(col_val)) \n",
        "  col_val = np.array(col_val)\n",
        "  col_val = col_val[ (col_val > ci_lower) & (col_val < ci_upper) ]    \n",
        "  combined_sample_decoded_results.append(np.mean(col_val))\n",
        "\n",
        "combined_sample_decoded_results = savgol_filter(combined_sample_decoded_results, 7, 3)"
      ],
      "metadata": {
        "id": "_urBVWcT6Wz1"
      },
      "execution_count": 483,
      "outputs": []
    },
    {
      "cell_type": "code",
      "source": [
        "print(combined_sample_x_test)\n",
        "print(combined_sample_decoded_results)\n",
        "plt.plot(combined_sample_x_test, label='original')\n",
        "plt.plot(combined_sample_decoded_results, label='pred')\n",
        "\n",
        "plt.title('Orig v Pred Sample {}'.format(cps))\n",
        "plt.ylabel('power')\n",
        "plt.xlabel('freq')\n",
        "plt.legend(loc='best')\n",
        "plt.show()"
      ],
      "metadata": {
        "colab": {
          "base_uri": "https://localhost:8080/",
          "height": 373
        },
        "id": "NjHtwNci9Atf",
        "outputId": "45730062-33eb-44fd-811e-d2310039f192"
      },
      "execution_count": 484,
      "outputs": [
        {
          "output_type": "stream",
          "name": "stdout",
          "text": [
            "[-40.569712688771276, -40.289624600743494, -40.12972784361561, -40.160143129559124, -40.419281506881845, -40.65872161849681, -40.081467747316196, -39.425460079166804, -39.5672334796215, -40.12577649321637, -39.880201238313845, -40.17679329068191, -40.280194869142676, -40.101078623085584, -39.43157636752296, -39.73136319895583, -40.06175308041591, -39.97091498591459, -39.852324353494375, -40.107734521301936, -39.956527598829716, -39.86081862624376, -39.99046836791796, -40.222691361642454, -39.737343497442936, -39.780218131505094, -40.24703223865366, -40.2322000331718, -39.78206463938762, -39.60034656089426, -39.913547048230974, -40.094127628901504, -39.93882207309999, -39.83564192027071, -39.68344159203435, -39.79054754398377, -39.929351586301955, -40.037524539701444, -40.310921525028476, -39.9614184239349, -39.63606536807451, -39.89697209300504, -40.04586109544842, -39.817469551019414, -39.92750174057524, -40.123763385722235, -40.15734854154537, -40.05968905350977, -39.7326392175772, -39.115098702492965, -39.08956960221473, -39.6687754530124, -40.18428535131757, -40.075504818563566, -39.76065005060861, -39.80301326899677, -39.934984032123765, -40.06720980657586, -39.53486518578968, -39.48345131710338, -39.6110168342429, -39.82178622072264, -39.71102461896912, -40.05108044537611, -40.04331316472536, -40.085114532101535, -39.80838691364579, -39.553921080697364, -39.85244963962464, -40.31200057141149, -40.67238130059168, -40.15705437273574, -39.64706430577703, -39.596623022590435, -39.914504364884934, -39.957982866794836, -39.79438770817816, -39.79837405653623, -39.951995191811456, -40.09965083216018, -40.25894598239408, -40.279270354670146, -40.10124374683017, -39.87884573565137, -39.526141116765665, -39.65131424159353, -40.03673707626934, -40.19912674146102, -39.784724748924965, -40.049664707354026, -40.12171825239359, -39.817903715972214, -39.826289085443925, -39.80705766815335, -40.21884717953013, -40.28268558010538, -40.23144687262124, -39.83814093786288, -39.95721312074459, -39.84689192789107, -39.38727232515271, -39.488941371991714, -39.8003649809964, -40.17077616706775, -40.10439779329998, -40.20493025758532, -40.286214547069825, -40.27708258772317, -40.10904414810801, -40.0084069323231, -40.0357454187959, -39.55433581028198, -39.24672879161216, -39.343169223555236, -38.75974615254905, -37.519652280721644, -36.0997923229583, -35.03300100167144, -34.20397659597235, -33.47354959638612, -32.844578422492354, -32.13865962029801, -31.585869682761977, -31.034256867712298, -30.09480731581156, -29.649584442566184, -28.444302723696925, -28.070629332604934, -27.32029378263635, -27.17616219344687, -26.301749147840752, -25.43947479964544, -25.452714246123314, -25.11753908297477, -24.808575715948095, -23.917661198047767, -24.25450134095084, -23.780446236263032, -23.56079952436975, -22.67533959558925, -22.52755552119219, -22.435201184208704, -22.157232405728656, -22.12962101985436, -21.81455099147999, -21.17735557540809, -20.45042957226003, -20.442054221134246, -20.473532374143023, -20.50147816528145, -20.27352350924428, -20.494207182297547, -20.290396305336476, -20.14956528955602, -19.267115953014343, -18.72692218416117, -18.146500926974955, -18.09252177361792, -18.098841290599527, -18.052783512184117, -17.84213740786601, -17.734276354498178, -17.771370094062206, -17.888271654404456, -18.429072790126654, -17.541759972257374, -16.5367689001411, -16.141529533056346, -17.27870837812867, -16.709498956382394, -15.716519587140274, -15.143422902345117, -16.09310472828334, -16.28502830656419, -15.719171425758292, -14.968390630697385, -15.172879762979685, -15.13161889374363, -14.890267137537837, -15.105522462828505, -15.364699191281161, -14.729241082416994, -14.078197886756541, -14.068079604403039, -14.562309083687202, -14.80570634145244, -14.57474415478421, -14.143678580764982, -14.299706332718756, -14.446997338228503, -14.373700256074907, -13.660719853446219, -13.177148746192758, -13.176020756553038, -13.441081353926409, -13.538078678739746, -13.165037808352949, -13.175055131477468, -13.013675524652218, -13.056446455265418, -12.813851484038528, -12.803850203603288, -13.422387645982704, -13.662816928780842, -13.937445830689672, -13.476290364346745, -12.966876699027761, -12.455560688112756, -12.513063905673668, -12.33128998835818, -12.023352560375569, -12.446346114017652, -12.609524578213929, -12.502310793802604, -12.082355567636661, -13.038871325725465, -12.704389084380754, -12.352666197427402, -11.843292086823947, -12.211757085305475, -11.848478661148356, -11.68481070648641, -12.311797132449863, -13.162787635606536, -12.581499107903932, -11.433944322458379, -11.324822903027796, -11.67832288142961, -12.828567515507663, -12.68332366376913, -13.060917041352296, -12.72393530486844, -12.97141571221783, -12.261932986530542, -12.594991522669494, -12.932411039116422, -12.435132131068782, -12.530905526881657, -12.18423198941295, -12.15587129288578, -11.270148714434237, -11.726888645902173, -11.603936632116525, -11.669434836864633, -11.857085325379932, -11.749593867214015, -12.23131787276962, -12.27322608369791, -12.344828899922382, -12.037701493034227, -11.57174271149535, -12.211793545421681, -12.05878871571986, -11.254376434914578, -10.771881619336312, -11.109815536872357, -11.765413581208277, -11.336204672908709, -11.316362681216582, -11.545540359456046, -11.892209971683837, -12.028977933984033, -12.089656183774135, -12.117689847958468, -11.630058946794607, -11.464430683336026, -11.358703644559482, -11.229345908766312, -11.7417692209849, -11.58047122205236, -11.613520933345294, -10.965572380941145, -11.83977904038431, -11.615779116470582, -11.904287003810113, -11.451403016587319, -11.521018222159318, -11.543833472207861, -11.391821988220615, -11.505134958551743, -12.371297262315561, -12.99065572187486, -12.13112280122637, -11.185229439178793, -11.671985440347026, -11.925289380233531, -11.672368953257532, -11.71920103432036, -12.041971923110152, -12.400217896922994, -12.4471044271349, -12.425088791200032, -11.646130310215703, -10.97624844823866, -11.028568693443285, -12.052051367027712, -12.076566233780346, -11.931524103641618, -11.919249057427137, -11.971970995629418, -11.164118053570943, -11.270228579527142, -11.7826368811114, -11.724983486784232, -11.553927549720298, -11.406810851116141, -11.32563199585938, -11.420299271970073, -11.86491739333283, -11.591407998692901, -11.572988309246174, -11.906829337909825, -12.18371782476304, -12.02014551623513, -11.908781917192629, -12.056917243948226, -12.177563076563441, -11.546397376318275, -10.856926130597756, -10.887399323047376, -11.417634665534258, -11.321896116661932, -11.022348039033654, -11.007879598851659, -11.184747189977676, -11.28224501291663, -11.62671059770143, -11.887912906120361, -12.06094450289128, -11.952054176683584, -12.002552905747308, -11.600591196274003, -11.199115131377658, -11.276409493960138, -11.6187582727184, -11.735122513048124, -11.909218045667515, -11.717105254021991, -11.743923886917033, -11.726365022385854, -12.120620063047598, -11.526838361412073, -11.369706090502453, -11.79781526380733, -11.959370806251846, -11.67257141228424, -11.074589723995937, -11.297369002260005, -11.042526298665953, -11.580427085634375, -11.826582024829225, -11.834434319578477, -11.911084332608855, -12.343955111005615, -12.501714164693848, -12.183182153476649, -11.568779829985443, -11.621304077731843, -11.162457050468795, -11.213667597189847, -11.230307799380796, -11.020851775058826, -10.407449753904716, -11.628788605511236, -12.253537974326196, -11.738736646521867, -11.266895342163274, -11.046096407987852, -11.376149930174766, -11.295862122756835, -11.698599460595249, -11.513302166045692, -11.680550308483639, -11.160462888254798, -12.21408974297772, -12.836263200856623, -13.034176552982288, -12.023681172136927, -12.156060694416775, -12.161906371510696, -11.795177783564098, -11.681732105027848, -11.462184682947864, -11.820708821283796, -11.597799657560902, -11.430729173794218, -11.216799547543964, -11.3169205826954, -11.525082654024866, -11.28938602954644, -11.740611830713396, -12.014528771739249, -11.950051077395583, -11.33080942876346, -11.844528894632784, -11.950174736373183, -12.005535432289491, -11.192375075896242, -11.286143362333931, -11.201958021677303, -11.712814270266907, -11.903381153467409, -11.521432665723415, -11.218076605891488, -11.457821986964763, -11.982521679170302, -11.706672409050423, -11.550914584390013, -11.9369978354334, -11.988198189195103, -11.356129237766773, -10.520968490168352, -10.353635724961999, -10.449152341045897, -11.028546528884284, -11.4002639002934, -11.58080281027962, -11.617043361363198, -12.057257765540202, -12.087532562204823, -11.964075110029984, -11.621225251829957, -11.90229849681303, -11.240791913595721, -11.212911881585415, -11.389317270314349, -11.68550554193304, -11.212196251545482, -11.189159723633757, -11.742839798705075, -11.674632690979308, -11.888456257161632, -11.726822870738465, -11.812758163180215, -11.490987647176238, -11.601836112283001, -10.903846372071461, -10.799160168694, -11.569624616815586, -11.982630388559526, -11.994559792668605, -11.610738061871555, -11.77663830361009, -12.288019973005476, -12.21794611806154, -11.667366755669933, -11.290319362134923, -11.606253379998387, -11.180778711885067, -10.703044160060275, -10.845735456795376, -11.70880253163799, -12.464362353062766, -12.228142469691171, -11.754345334532816, -11.442776922234632, -11.066324473789358, -11.305535284498294, -11.72120812604316, -12.519278806981529, -12.590788324478533, -12.23644689723569, -11.690478543089649, -11.21026195958778, -11.263661589924936, -11.503713592997116, -11.364760323770222, -10.81017409834233, -11.541996723599723, -12.261969429888843, -12.553456105665461, -12.28286568449575, -12.291060084358765, -11.522911455047183, -11.317078399856126, -11.53420725261479, -11.88125881104327, -11.331257774297777, -11.73486467976216, -11.552583567619179, -11.49529259370382, -10.9986916392326, -11.02058301177481, -10.854420951926553, -11.315549693383185, -12.000982322914844, -12.159670015276015, -11.616181305779657, -11.170052641529187, -11.336854030504414, -11.719285067728508, -11.629649341390127, -11.175068199296533, -11.057951427984827, -11.748178411066055, -11.78343366311945, -11.056095335708488, -11.432565068872563, -11.65326140915543, -11.530216102467506, -11.47485633086211, -11.694188193855533, -11.545069774117119, -10.588261355150715, -10.985038213899545, -11.606947606226013, -11.97925190923994, -10.888104857156778, -11.29288167970327, -11.773649844076749, -11.913772480116265, -11.155142274995518, -11.040058236895277, -10.837149920513806, -11.524779027675201, -11.532670638714237, -11.888800075143427, -11.37999723482223, -10.959012171546412, -11.259395780111074, -11.613959097088804, -11.687467894037274, -10.94433693394487, -11.177395137550917, -11.155836702210285, -11.929098709171264, -11.786480411573297, -11.606621426761675, -10.930226925631477, -11.147268734595366, -11.27780703124049, -11.690756241443474, -11.364628935558809, -11.168965561692769, -10.896175883552926, -11.438398645090668, -11.17904735448428, -11.13460315408219, -11.178393765669247, -11.220152365404529, -11.529375609716146, -11.531361629707499, -11.525050586805452, -11.141179508644257, -11.263861081932404, -11.099328198853415, -11.4777933940614, -11.79260878689378, -12.055832205390871, -11.44251051924787, -11.24730517767447, -11.132808568389837, -11.451492522563909, -11.12538676748807, -11.119992306748907, -11.24631379236982, -11.320050776593193, -11.04861546315757, -11.431300384778645, -11.581956369894822, -11.588406898992716, -11.482624006215865, -11.657221219828454, -11.697538181282933, -11.612395695500883, -11.59830670361763, -12.340551132553111, -12.510231383359363, -11.67381678463903, -10.817452732308526, -10.981774198646974, -11.348031954718072, -11.61524831895657, -11.31674357950515, -11.155223371972598, -11.343576399155266, -11.687077001461113, -11.769982337467619, -11.80698322125473, -11.803365572877738, -11.872548764403398, -11.337520000351583, -11.23951937621426, -11.084365643932344, -11.471605950163545, -10.702872801943775, -10.378714834093136, -10.902700510778837, -11.830326349347985, -11.758136605892084, -10.72561538360838, -11.079279523800013, -11.691556691877492, -12.014684464657938, -11.143051684108663, -11.027459252060556, -11.363313618374244, -12.011880227322743, -11.614880935314154, -11.252979241302233, -11.403883525436845, -11.900549402748899, -11.19070556352211, -11.340725428163726, -11.092264742978927, -11.421443831642359, -11.133346645587807, -11.612681974987723, -11.515959750178112, -11.800740231565607, -11.777512017375738, -11.287459261886639, -11.376252088356315, -10.964547005744995, -11.414358333647806, -11.735867805335264, -12.022576234098475, -11.788305839442343, -11.008278517580994, -10.953205195425058, -11.10267954309428, -11.649105225474118, -11.356664166164457, -11.24497143605972, -11.081659207258054, -11.170569884319614, -11.934925024047088, -11.21398394743282, -11.630254214199132, -11.593952047796414, -11.844172603670406, -11.041324082005586, -11.235021229123733, -11.830429554731706, -11.954788964604571, -11.674722727973142, -11.19369713651335, -11.683049169096936, -11.83937011602447, -12.185534187654323, -12.424038818424261, -12.24352115595809, -11.222493502129517, -11.58357119760537, -11.440641405500916, -11.089315885163002, -11.136183838782511, -11.85911077818041, -11.714437364747585, -11.42485171636657, -10.77840994952485, -10.48792615661745, -10.08706614929561, -10.803330495608654, -11.110402033498666, -11.800723240914587, -11.677513148391126, -11.664582957681235, -11.597343619040453, -12.154963830925842, -11.759300432104533, -11.775709765514602, -11.664872185076852, -11.930872464694069, -11.337822494191155, -11.278827078933702, -11.77509440102551, -11.746226004953263, -11.364679089132599, -11.787301515395727, -12.256693150757117, -12.31900647409438, -11.895098260716484, -11.796436234902826, -11.705250412354719, -11.525393464003884, -12.488093156510304, -11.812436004965662, -11.593787110659507, -10.865823688140082, -11.63976333369543, -11.51735822545454, -11.78517041611216, -11.793859731642968, -12.198419962111984, -12.0954897622752, -11.792001891494818, -11.774137518382991, -11.567748262992826, -11.455086067912742, -11.403733275758285, -11.451318558045894, -11.365025304848213, -11.469390292993584, -11.719437063050947, -11.878152834685178, -11.588455489373901, -11.03279427761621, -10.820398731670405, -11.301975569700506, -11.218936604843016, -11.67442922308994, -11.769444468874465, -11.78960119010641, -11.026866005338679, -11.231251210342693, -11.730208342463447, -12.163650274947672, -11.948402454026747, -11.620648052665368, -11.891203371597054, -11.423258393163056, -11.420700391458864, -11.17450924024992, -11.117081652369507, -10.917949080156928, -11.397549549067833, -11.273851597484231, -11.257199865998716, -11.287599592724426, -12.006513877374594, -12.000340206087508, -12.086093734899372, -11.782331181931895, -11.291597249274405, -11.52530876904567, -11.780702426433916, -11.697984054378095, -10.94790248841816, -11.014623895031837, -11.524844322333028, -12.168576295931473, -12.113124408593059, -11.31769509681625, -10.831378154442945, -11.648993695584203, -11.2765613932931, -11.242983631448201, -11.781446791337894, -12.184684539399612, -11.891608715580965, -11.42243734818539, -11.302419743756696, -11.862430037940081, -12.234996895535932, -11.609768781688969, -11.33292028863022, -11.468258238553215, -11.174131670638253, -11.065978746529273, -10.919905110901334, -11.3901954444372, -11.223141061763576, -11.271393860282608, -11.227908408379365, -11.220259273202135, -11.664099223854324, -11.484811830143586, -11.464255359672224, -11.071059107192022, -11.599441439772281, -11.585284321935843, -10.97837679725536, -11.207528157955675, -11.764396620720472, -12.47215154718647, -12.32730009591122, -11.88237278352683, -11.194075032294748, -11.236260437550026, -11.521845256364807, -11.85947983835118, -11.787146631455816, -11.510438398634387, -11.074307654870983, -10.94909007833707, -10.695536166171376, -11.158118616046838, -11.843788733371952, -11.696221447957795, -11.556519941227164, -11.050835652199591, -11.32965199440985, -11.236739290228552, -11.643483285461112, -12.057231662792772, -11.978333648941872, -11.069584108390286, -10.26335134406852, -10.476591411568089, -10.723139377299052, -11.23661985229676, -11.402239664912853, -11.922644022225533, -11.861292625317509, -12.078940199265514, -12.042566584964877, -11.79535903335982, -11.376699954955464, -11.19838210477959, -11.445724747515799, -11.70760624782251, -11.112889808704486, -11.097986609157639, -11.045845013172363, -11.545999751883251, -11.183267980769699, -11.742913966696161, -11.174926405665497, -11.350629679035722, -10.890966832655025, -11.64843261113044, -11.30986002624117, -11.175841421612452, -10.909652703389481, -11.995366984363429, -11.944618987033133, -11.625633636231084, -11.034017605384168, -11.288538850485677, -10.958458992066328, -11.448892697002917, -11.263226655040034, -11.610530678512308, -11.461010540916927, -11.842373705633284, -11.613733309862774, -11.251315530989418, -11.430763778986835, -11.638993335627244, -12.086538948447597, -11.817442298482423, -11.749816362097372, -11.703242448742941, -11.814056003756466, -11.366658986280099, -10.946585858911714, -10.586293354818526, -11.089420966864205, -11.59894930756701, -11.575914645619408, -11.725049830762721, -11.584624992140489, -11.6799649090469, -11.372811491782588, -11.81170451328319, -12.01367590431562, -12.371129966364249, -12.11317897449431, -11.757130463482248, -11.281543637771161, -12.042119744421255, -12.206382975450518, -11.963572159821824, -11.618029360283543, -11.776333269033827, -12.191778906294488, -12.331916387164641, -12.621510908861042, -12.033493000865603, -11.455620721592789, -11.106700348734071, -11.278264788889402, -11.584486594104282, -11.804953298741465, -11.62752606325838, -11.473028998603827, -11.158220360594363, -11.283108727613651, -11.390113921996862, -11.01242335210395, -10.66626891775216, -10.657140912355565, -11.740965561455912, -11.877682562172463, -12.489428525111054, -11.952849924144264, -11.970749717510152, -11.446647856240842, -11.321324155189874, -10.915163549322369, -11.137592831729519, -11.433274191629334, -11.639276977629134, -11.55409988464762, -11.219278474630622, -11.432795774420386, -11.679217038392183, -11.37558635253936, -11.249084557810283, -11.39578581442057, -11.52158800665432, -11.108026526659426, -11.079628610643292, -11.47928457451881, -12.060834187569819, -11.650736125092454, -11.333893635336867, -11.494610600735975, -11.809917150165422, -11.747751593789706, -11.307464974237167, -11.263164807051222, -11.638045032837562, -11.424805179064334, -11.421256392458723, -11.416126630015498, -11.773798568130669, -11.004522549431748, -11.203004274349777, -11.361743476876127, -11.938340160970084, -11.613141167418489, -11.585030883946411, -11.824830385691705, -11.516748662990839, -10.967893044032774, -10.837998146502052, -11.029584670248212, -11.265219337980948, -11.73618945625602, -12.346819638716424, -11.70431987239324, -11.295413011129455, -10.685589812597586, -11.254102464610398, -11.380150025935109, -11.518479163353653, -11.156325261074693, -11.202806441811893, -11.535260877408367, -12.317913875067191, -12.19541955966266, -12.086715897163417, -11.268145308540346, -11.130175837436573, -11.077057134194051, -11.826523180796253, -11.546583675513707, -11.936032191155075, -11.815187028230463, -11.835114290010786, -11.71417793291718, -11.417579218457284, -10.851141743703447, -10.991567451498874, -11.917274073426176, -11.917996048010092, -11.154587951197245, -10.974679145273518, -11.741373778272182, -11.63435891611447, -11.381897639103688, -11.25115886136377, -12.213295889524169, -12.235281861766948, -12.21365718354912, -11.429644618102108, -11.616608358776384, -11.497371490613203, -11.79101841775345, -11.93476122488846, -11.908132374050183, -12.048973081715358, -11.485400328015652, -11.574685557552536, -11.275642992021673, -11.572367077839626, -11.116407030120415, -10.765159281665175, -10.452793505995702, -11.02844134359945, -11.271321775896693, -11.287948175471936, -10.924133196321307, -11.03191130546192, -11.715436856288905, -12.187594632372674, -12.074395136337488, -11.43907019416903, -11.565715597555474, -11.20182872508851, -11.862111355388793, -11.238615521081813, -11.05670848458836, -11.277461232909127, -11.646141106548132, -11.774866117647868, -11.40090217868354, -11.578260999826732, -11.599785112673944, -11.399295585618843, -11.729915716759834, -11.76199343967142, -11.896229176804527, -11.06736655524379, -11.07569241785341, -10.789211935883328, -11.275709701774812, -11.163020456035706, -11.637788913903583, -11.802815640215169, -12.640524222020295, -12.245258616845872, -11.73861361955904, -11.195046508214391, -11.311388125756794, -11.280699661157906, -11.334428959619215, -10.812565602596909, -11.131503079413092, -11.242514281685526, -12.042649573397814, -12.037573175420306, -11.83560755597432, -10.883943994088204, -11.145493608491625, -11.923810433523295, -11.69350654923678, -11.529544178456794, -11.505350100670766, -11.297227661732514, -11.306928964122605, -12.42186977299482, -12.683564404036561, -12.167519071546966, -11.262828221067526, -11.062154349953975, -11.493639571827412, -12.396868705629846, -12.180279286553825, -11.47746177829095, -11.512996978673275, -11.994176918578662, -11.968768419537316, -10.846369286434864, -10.935583531536157, -10.931424039671635, -11.39435979287154, -10.9624079329594, -10.945189812503939, -10.528777253557426, -10.644646828257386, -11.205705569793318, -11.388945464255926, -11.79726583935455, -11.429375297788551, -11.178597535651884, -11.040748617360157, -10.949724263746656, -11.096559947306723, -11.059073060445614, -11.479658359080714, -11.556642718985882, -11.506251978826603, -11.379711295683139, -11.37709153896831, -11.298860870272428, -11.608112482367755, -11.377067563185799, -11.359696224936386, -11.085108986756133, -11.268829794089278, -11.789955301387549, -11.981312358540555, -12.010859106953223, -11.672730740763472, -11.718150443902864, -11.209761289095033, -11.13936281572443, -10.913177548131316, -11.177443930909853, -11.106914206686637, -11.906602044086615, -11.844350067255712, -11.357377867898364, -10.844055950191393, -11.474386118447665, -11.212453958820642, -11.15764526246876, -11.175897229280318, -11.395546153127786, -11.22219688008491, -10.832378341639576, -11.518829648984617, -11.984458562111735, -11.398116926626077, -10.87273928394993, -11.20700810324216, -11.930542542156777, -11.5078531893097, -11.949362693734978, -11.833650395002755, -11.745559117762356, -11.407738380432683, -11.895674157302466, -11.729348713942416, -12.37298096833785, -11.971813210037109, -11.782116216019693, -11.188537044513131, -11.461131495627686, -11.78397270813503, -11.657583119699902, -11.37515330102975, -11.430076379415267, -11.918442317920274, -11.74527643496789, -11.02876327584973, -10.930024776949509, -11.650228746830763, -12.108848732685153, -11.750462754411583, -11.34816083956911, -11.507798206182729, -11.566337714096628, -11.359186383821047, -11.715959947690276, -11.929657418150258, -11.77211142088157, -10.801404045071754, -10.509324748846229, -11.131525329170161, -11.677719524435295, -11.797602493687679, -11.697570490019803, -11.682286779081783, -12.049462300214472, -12.080578690886455, -11.26147544794978, -10.831421710894507, -11.614496376625441, -11.982505412808731, -11.675669410354907, -11.828477517703842, -12.34954034295756, -12.315853473009112, -12.232553254803358, -12.009929368472465, -11.60246234609043, -11.292141960667253, -10.95079614126374, -11.261661628529243, -11.822498942363687, -12.303901022611008, -12.052021685252505, -11.758404289478404, -12.088819739491703, -12.18358016731323, -11.982523609235662, -11.840318611678683, -11.81706356333923, -11.17753175034592, -11.351503248972376, -12.248688958661974, -12.679792471037748, -12.403226997551593, -11.606778257752401, -11.254760127986566, -11.177465328032486, -11.489648006998829, -11.197041709454748, -10.709792263338228, -10.443595316590077, -10.593041250806914, -11.367552051037698, -11.343456074136283, -11.718377896900597, -11.989224614198934, -12.753725463471053, -11.87482918666688, -11.980476290978338, -11.925518165542067, -12.094208234782984, -11.280669179545502, -10.802947955954007, -11.083732281477342, -11.535561357304427, -12.212678560802521, -11.238828107429416, -10.852663089523581, -10.475456920611707, -11.35419748866, -11.92189138254145, -12.126602693414767, -11.771724078483748, -11.43158182810295, -11.314743921860732, -11.530340998455374, -11.861282456246645, -11.895802542726207, -11.437089100917667, -11.417940611126388, -11.359230544482763, -11.468066999288327, -11.488942092173897, -11.895646213679612, -11.93645084192769, -11.970238977679276, -12.075052476668043, -12.078299430441696, -11.310994301784943, -11.085103858634918, -11.326896592795265, -11.34078009847352, -11.14967644550061, -11.03222248563927, -11.65272165988063, -11.78497975131586, -11.42716807873362, -11.199676544825536, -11.67929162285881, -11.417082828789935, -10.885158864002792, -10.665543940843484, -11.652161959504427, -11.627073846370873, -11.189526412830686, -11.038497257578321, -11.60054157756025, -11.72430807179091, -11.395904168561549, -11.300871410675164, -11.690853455191496, -11.751149065177179, -11.795925517514092, -10.786017106393459, -11.124458861697669, -11.0873868822685, -11.663372407360306, -11.154236811650906, -11.0502085847308, -11.052445229296184, -11.105369736941155, -11.022416199663395, -11.193219429116699, -11.430191214502194, -11.018048908593729, -11.411304405317575, -12.092098887212291, -12.128783588572993, -11.523938865338334, -11.94859190842581, -12.07075533788232, -12.10087630539522, -11.32302269700201, -11.445742012519949, -11.094359402231484, -11.189334460283316, -11.775222308588425, -12.154809751965827, -12.237555429460489, -11.80985737255519, -11.495249047919224, -10.972357397783693, -11.08796017199824, -11.44007796279998, -11.551600369475088, -11.598926053008523, -11.542784919611499, -11.290768622573689, -12.01910290828869, -12.017379218300727, -12.219289783767136, -11.860763999608222, -12.476093124814902, -12.311931237896642, -11.6233103529727, -11.102248396355714, -11.044721674702014, -11.801634427172168, -11.725297724057475, -11.945102207691686, -11.747012762139912, -11.424847011778091, -11.308920496880441, -11.253107115211742, -11.735511694057593, -12.198125829784313, -12.527255398822868, -11.270887098137637, -10.779480887651722, -11.483018498246388, -11.851982431989429, -11.265021308162604, -11.828423691492977, -11.871428216846803, -12.16259061433833, -11.986528370974204, -12.041940638501282, -11.386793602006422, -10.917461406048789, -10.59661677700466, -10.789267722579083, -11.27918882867985, -11.604075117351101, -11.857160314511015, -11.893644309588176, -11.652857031513168, -11.744203945027927, -12.207464088492067, -12.20368798050428, -11.981371840151873, -12.340031816892038, -12.519060872009312, -12.155469142446533, -11.700499244862868, -11.124659409424845, -11.451909138616553, -11.857127357520945, -11.801830837257175, -12.10664570398695, -12.061432837930703, -11.400600905072938, -11.152358765489712, -11.402721629758728, -11.750882470196702, -12.078583007659656, -12.31092599644085, -11.64760099100329, -11.321481992928637, -11.696635472676249, -12.707054570821075, -12.233077144235686, -11.943506423806081, -11.49528027873939, -11.851095398236817, -12.044388277425337, -11.465891753053942, -11.108052031316433, -11.182004570166914, -11.566941133753852, -11.43837693167634, -11.592385243093187, -11.878452112175873, -11.933406013386922, -12.03884470257228, -11.958914834329551, -11.63258890223963, -11.447720592568261, -11.474390798898924, -11.668310894710807, -11.927852873744847, -11.712298595730188, -11.328420972169317, -10.922400167382664, -11.232186608322467, -11.669062545452068, -11.568202099651911, -11.161549672216745, -10.900579614509072, -11.336652806657705, -11.771740874160011, -11.834055190753809, -11.327912067873783, -10.526468811168039, -10.297601740637143, -10.746256508220492, -11.209008794388835, -11.369918507963817, -11.120683587092254, -11.577739859470459, -11.742155198822315, -12.43808157371369, -11.96555340984496, -11.383224207640195, -11.09775445984614, -11.832848005251872, -12.060370884243746, -11.925220680544204, -11.526010216016005, -11.675369483337946, -11.785350774839573, -11.356782317861507, -11.557896138793144, -11.25590383122305, -10.791821718128672, -11.143265277841792, -11.60007302340096, -12.040450714617851, -11.928244881417045, -12.216023419645392, -11.782871312987965, -12.101089900733973, -12.405284044765434, -11.947301363816768, -11.482537242271398, -11.30030483536046, -11.870070267536924, -11.541804626826103, -11.662813937751997, -11.886442085302582, -11.840242663751543, -11.430048188934983, -11.269213629662804, -11.722928560577838, -11.803253258069093, -11.604116549419807, -11.11948632604598, -11.6067563594518, -12.017267034276601, -11.642858768253612, -11.467743197149911, -11.89243582501454, -11.928209437414072, -11.362599718660077, -11.41878245456988, -11.683394819863834, -11.627417106906002, -11.229041276105269, -10.92907272187187, -10.846413984525755, -10.493211890749546, -10.163273644387788, -10.595297829787897, -11.447778579581707, -11.857364410028957, -11.814364498324288, -11.69871396785868, -11.345642233541248, -11.524224294428015, -11.549988803218739, -11.90745984853281, -12.186278129830402, -11.644976977643422, -11.034120363917232, -11.68981118880124, -12.275482940126018, -12.319913239011168, -12.32748677738543, -11.966326181272631, -11.013830786098275, -10.753536423191004, -11.639094820865296, -11.591912948551508, -11.57188506637462, -10.68566774931139, -10.473714196842371, -11.046990125948469, -11.548027102873176, -11.707548432315045, -11.217533498967756, -12.11488902009102, -12.088646465434245, -12.29695939658741, -11.468187303079386, -11.060018083053315, -11.289418748973748, -12.139861862521524, -12.058077018285292, -11.526630679012001, -10.754867193357695, -10.897980129420043, -10.882814781207074, -11.250407994234871, -11.312414153252641, -10.864492976991395, -11.245283834709198, -10.967715017084902, -12.033041311801615, -11.563186544030591, -12.27396725562516, -11.239974744477886, -10.826203527499885, -10.832795126160837, -11.65367353250736, -11.5523357422423, -11.356562732263384, -11.084481454223955, -11.231831445878655, -11.527419365000545, -11.878006207275462, -11.439710630561976, -12.082610743598863, -11.767781721944079, -11.480890940216716, -11.08909689926991, -11.220159642162997, -11.163393950244352, -11.679612806091699, -11.538492573207172, -11.211841502750731, -11.02506675904047, -11.363467020936625, -11.189126193090525, -11.235209752990661, -11.038366843715856, -10.591675252949512, -10.628715167376718, -10.888618510902472, -11.15653797776439, -11.21220789940836, -11.61948188203489, -11.049030421416324, -10.789933511434166, -10.651973287135597, -11.46361282563987, -11.918337751459529, -11.954813782887987, -11.655221331640101, -11.183960834590215, -11.771452091728174, -11.869337164504811, -11.053880253984747, -10.865359495307771, -11.275864304682344, -11.60856100605199, -10.951155087486839, -11.752564615540685, -11.700582222484325, -11.664054890699111, -10.925015243048668, -10.765359927658555, -10.213522880894322, -10.267946090198844, -10.892376535198357, -11.632951471820498, -11.774028381798628, -11.577884915036329, -12.042154664440842, -12.771649630793908, -12.277689298732438, -11.419830060672668, -10.633775828355548, -11.146394883008966, -11.431626957029275, -11.609017938987991, -11.253754677031166, -11.14632029213447, -11.435978993640052, -11.098963284616186, -11.068965678358667, -10.796801525794297, -11.434254689808444, -11.961559234170082, -12.438482107412561, -11.878539266478876, -11.569927100330766, -11.821310884452082, -12.035588701409873, -11.946955214974565, -11.639901997364271, -11.915062659518602, -12.065908226514729, -11.663677056584634, -11.301715204675435, -11.641005830135025, -12.003280041807896, -12.285481947718248, -11.908096238780015, -11.453486577465657, -11.567031316200769, -11.209711250134324, -11.307766374692502, -11.417001689921026, -11.644086288313902, -11.104222289027287, -11.462494858444986, -11.424970005227832, -11.724591022511003, -11.595626910458485, -11.303012522184723, -11.744675590807317, -12.29012073479857, -12.04524627529089, -11.084312968199178, -10.586195917532967, -11.148251810262318, -11.43027071338974, -11.341217314274655, -11.343273518261409, -11.960664841758092, -11.846161694756631, -11.263613478594198, -10.827301928773434, -11.291528657901344, -11.467993239970225, -11.777306116515524, -11.905926127011062, -12.350647836760643, -12.856007101521197, -11.896529694472552, -11.659201747750044, -11.596625705337086, -11.940518767603919, -11.81190960876284, -12.00646728920054, -11.585400374701566, -11.626695154035021, -11.488885331261438, -12.181948788160836, -12.006917815012715, -11.855127105288528, -11.45275061564892, -11.033762775778373, -11.34908507290682, -11.276050070591436, -12.003471600899935, -11.525712340577977, -12.106845772611443, -11.19318091823895, -11.188443623466704, -10.970496649642207, -11.494822480924787, -11.100418478303782, -12.0713378386186, -12.751913243837986, -12.685638323604863, -12.003363452547381, -11.449452735633194, -10.863038181578014, -10.704225834314368, -11.668011072326443, -11.577085904228937, -11.333840845443529, -11.640750054725165, -12.557563856311232, -12.006498470147053, -11.283907667451546, -11.66490095260491, -11.70300521126683, -11.51083692568912, -11.34052076110681, -10.866630683955632, -10.880015861175833, -10.91187213248413, -11.280584751072164, -11.381795367104093, -11.859395923544124, -11.56510284907187, -11.456821081662547, -11.578753873102517, -11.543751841801491, -11.921150533769135, -11.692971986008088, -11.413842596015245, -11.288112659754486, -11.07524963588822, -10.876414668996082, -11.138530194854765, -11.777524084951956, -11.685665062995733, -11.659038031601561, -11.53473059551701, -11.287994729844137, -11.397306627424452, -11.096018545832841, -11.72815476139861, -11.898739454124984, -12.28498159778192, -11.497316719173652, -11.914958738613437, -11.590779388548365, -11.346132550277924, -11.038873619268408, -11.336722343816676, -11.747204951909156, -11.621730017500228, -11.265318016560022, -10.757972995838916, -10.89249944404481, -10.688856075670518, -11.294228938881085, -11.432991428090544, -11.561139923155705, -11.643099024775903, -12.001885090178806, -11.595815809927927, -10.860380921727293, -10.983291883215362, -11.2453105359837, -11.082490867582292, -10.853216127069905, -11.339378030729563, -11.894976193659916, -11.20871980500196, -10.858072401959927, -11.595342761926299, -11.466893954691246, -10.685642888958911, -10.72516722607493, -11.869093161007058, -11.85019674133111, -11.242437118721089, -11.223366946921121, -11.410738247318976, -11.462023920580737, -11.461940536358814, -11.87434135627618, -11.657101062656704, -11.303529514613386, -11.288835312687242, -12.019769843067058, -12.069185417691662, -11.926049232507987, -11.738125373234313, -11.393674451989812, -10.863300302102093, -11.050305642261867, -11.220046832917948, -11.661068295774886, -11.246390378346167, -10.508796111164532, -10.430285657455174, -11.715070176034422, -12.295633434878289, -11.79609933736951, -11.362945681971016, -11.03655826930898, -11.21837231025786, -11.34839568253194, -11.705889977449653, -11.47896536428907, -11.000732692007904, -10.96387890204712, -11.56135450800408, -11.942408098594134, -11.431120237727846, -10.917084005711557, -10.562649136066778, -11.039018098512217, -11.160406864128017, -11.776032055113928, -12.096371525185093, -12.606147260933712, -12.099161509017174, -12.282704686562099, -12.275569474722078, -12.01536466686746, -10.99499854088, -11.085782136300706, -10.956931977812934, -10.76353431304742, -11.381355747237421, -12.26933329278692, -11.963262451485498, -11.332860422399754, -11.635060261051796, -11.533954663661573, -11.676750639776902, -11.547160088525555, -11.385770891815927, -10.965713081309703, -10.487125435720467, -10.933921211123243, -11.720020898705917, -12.660588185425349, -12.139550473245162, -11.893606102201726, -11.174336977006826, -11.335823305879671, -11.613577675502066, -11.514716493154625, -10.843858216774276, -11.276259266947308, -11.501778837654246, -11.853436034596728, -11.752378041385237, -12.074817500417087, -11.467537691620823, -11.347038492582133, -11.28488169392365, -11.812057229750263, -10.974493149004601, -10.99872773385152, -11.111286778861402, -11.714519641411844, -11.44775860076688, -11.301701500029179, -11.39407367684242, -12.102499802306655, -12.552654895485679, -11.919818915223816, -11.049296975065745, -11.43124761343204, -11.43597413866636, -11.049967797707554, -11.398417347593044, -11.713341326168003, -10.983756518241968, -10.828529870732774, -11.722032614867388, -12.183275556293948, -11.799736180430191, -11.117576542790852, -11.106389986648747, -11.666408122668601, -11.951969879970838, -11.985937889555382, -11.368126075859614, -11.519378775926109, -11.832596613366363, -12.05745467584533, -11.793149970365034, -11.56973191378568, -12.735164598941536, -12.377471869096393, -11.94510248901867, -11.340975730108296, -11.43163226984599, -11.294365797653425, -11.520773691172801, -11.067875530749644, -11.332525777523673, -11.855083414498177, -12.124116131320774, -11.561453558440082, -11.423408875033154, -12.029018479875308, -12.677874764205859, -12.008566305872991, -11.378391784039085, -11.022687960941502, -11.424541174597334, -11.131582514849857, -11.565368732403508, -11.460894122710165, -11.789459641716128, -11.716252577740628, -11.365351080034987, -11.20359961599969, -11.667673835580203, -11.487033872573821, -11.481320732100377, -11.705989427266875, -11.894923207910344, -11.588421051798552, -11.273960163539096, -10.956656037695069, -10.969896855380243, -11.363821154692843, -12.279927518354924, -12.110684340591927, -12.125102943484375, -12.11495578667617, -12.126884086463436, -11.252607010053914, -11.536977681194127, -11.82786778729417, -12.006477071411268, -11.360518759396008, -11.581163533447226, -11.499430505608121, -11.468243678222095, -11.337202049921522, -12.041165312710739, -11.795811991856574, -11.271824775632817, -11.072436733710656, -11.224822939747723, -11.20550880377256, -11.864558780806954, -11.992844723493052, -11.816344958111287, -11.473870349904653, -11.840939566413873, -11.849324669608519, -12.156497924334337, -12.038155845383914, -11.925851560616069, -11.584790158603832, -11.279859466651516, -11.450875313980898, -11.189597410831444, -11.284902404980127, -11.19356306844316, -11.572128005149166, -11.103879418263444, -11.073886359099864, -11.530925944029335, -11.58137086775461, -11.372479359510082, -11.437796321023473, -11.902598670505554, -11.78743136451421, -11.5368317133182, -11.237275318942846, -11.37674288715069, -11.327725000009332, -11.567630508206637, -11.425777981661597, -11.646934981448583, -11.35403128972259, -11.237098846719606, -11.009384076277458, -10.856849051764204, -10.716353146892844, -10.65667503618416, -11.037704808205728, -12.162399698826087, -12.274997209279674, -11.769565606070763, -12.179469962245378, -11.711073174999115, -11.298217903172803, -10.959081020928256, -11.472174018479288, -11.337269025560145, -11.144052297214982, -11.664364138948146, -11.713855193348719, -11.560668369934412, -11.40064455745606, -12.24327769358386, -11.971717949558673, -11.413490300742186, -11.172713799764828, -12.063697368729704, -12.283862574740123, -11.974247681150278, -11.909124543904625, -11.696792403347022, -11.732935167122053, -11.328662052647212, -11.187775390784124, -11.000483966996704, -11.039134813521075, -10.837702171715119, -11.042037078650726, -11.305183186491126, -11.491751920292392, -11.383169844392965, -11.352731176515872, -11.19090490701819, -11.107895343721458, -11.930453028174373, -12.019625126263502, -11.409208151399984, -11.110761514766121, -11.116265091469606, -11.050230537723785, -11.36925401012353, -12.068841684807088, -12.159644913061985, -11.22669639173307, -10.702839376202958, -11.079767989871085, -12.155970109216115, -11.925609730507924, -11.516971912165557, -11.271402387222583, -11.793646890482991, -11.626838768984342, -11.656638504425146, -11.48955350305211, -11.230550206416426, -11.685741574175866, -11.903811256382994, -11.657888613134185, -10.894092077394996, -10.926060686378985, -11.389532934825828, -11.917239315626913, -11.72671774212772, -10.935995656392626, -11.040246766136876, -10.863887833529974, -11.06659958194137, -10.774043560107659, -11.170554991598594, -10.780422816070201, -11.335497424224904, -11.415523494658373, -12.385805378103907, -11.943249635956263, -11.970295939505084, -11.470135190466578, -11.479780617537898, -11.652771244945972, -11.513218267413128, -11.868274010650048, -12.06637600806759, -12.7812254944381, -11.86011053741897, -11.962791912901626, -11.382025194709048, -11.833870235761855, -11.935834444653585, -12.018418400768695, -11.415736832534481, -11.497648115852963, -11.959293271931323, -11.734061592739968, -11.309033116776778, -11.399192692007045, -11.753577268882088, -12.172174621358561, -12.244489437403786, -11.940242398355402, -11.515380254754229, -11.255830965945774, -10.33779628861672, -10.434078158690582, -11.28821787700812, -11.843102554023682, -11.567497315977938, -11.374604166997266, -11.330224839623758, -11.58205554910193, -11.943106123183412, -11.93651483836179, -11.777712303159731, -11.889071837585043, -11.457194872346212, -11.236625687914094, -11.860018713032469, -12.594958688945763, -12.722290167216041, -11.866561440474491, -11.321758129768265, -11.344134987550984, -11.389947507712789, -11.63122341317794, -11.392854732946832, -10.782110741009888, -10.268213114596618, -10.57949221356297, -11.564638180534272, -11.811767796639836, -11.652509861694712, -10.956504046488726, -10.692835507687137, -10.889315301283688, -11.332350152096824, -11.610302363159729, -11.142912860870915, -10.887276248336786, -11.26796019520844, -11.9656101962581, -11.751666006667406, -11.47589197282656, -11.236707827743821, -11.455712081847679, -11.497455078150498, -11.749931084988742, -11.521275400363063, -11.600632392211875, -11.89895005856839, -11.818873754934637, -11.569306112073258, -11.056993451847493, -11.00492616650242, -11.080447344621556, -11.235075953975471, -10.972593361234006, -11.079178362322015, -10.86208229520235, -11.528406251212992, -11.871347535553966, -12.307287927242735, -11.754327722970888, -11.609336213291087, -11.451917978362786, -11.454445927961505, -11.16258788230159, -11.281234752373695, -11.770933111292415, -11.781083518269364, -11.929258871548301, -11.753603270792437, -11.403577241402314, -11.253500368793135, -11.347914857322877, -10.833612576034964, -10.16908545908957, -10.719713176390169, -11.311734722075098, -12.247376268642318, -11.784203510201978, -11.718585416362675, -11.352403673951375, -11.38559363820799, -11.447236217891565, -11.534036890400744, -11.678164233125342, -11.28541253794247, -11.430194919100787, -10.940211191707926, -11.589552067657353, -11.605507812305099, -11.480256441954168, -11.305591861346933, -11.375561195953097, -11.889478245870716, -12.160585240580483, -12.101933484442277, -11.384663724130935, -11.38061172841076, -11.906189295504037, -12.079994755209896, -12.050158083196054, -12.153901462503596, -12.414123553385673, -12.044377622869666, -11.826082599914685, -11.92987757857436, -11.443213196038256, -11.073529185171173, -11.269596688138511, -12.072842081349684, -11.671540183130428, -11.577208897492353, -11.402272597841595, -11.510214143949588, -11.448040257062019, -11.417951756535839, -11.951946973353172, -11.570731427655078, -11.509187494740752, -11.244860388925641, -11.964320199346675, -12.12122261617415, -12.387963102912163, -12.324792001242178, -11.684883675597726, -11.03827013552962, -11.577321539557493, -12.18010627211713, -12.340839504797314, -12.24307239653193, -12.217772669422803, -11.425019229404588, -10.652187653351636, -10.90993524424159, -11.420953363042935, -11.800076811098398, -11.829802156025119, -11.88198032545657, -11.84988221800785, -11.720226017949015, -11.412285641326493, -11.931645277497879, -11.8767115195035, -12.035673688110482, -11.895916060752995, -12.082248778885997, -11.47547588054325, -11.601746251546428, -12.330802231035673, -12.327733092813752, -11.808577644902071, -12.007275186765224, -11.918874833951671, -12.064452151816422, -11.77421778085259, -12.21228791761363, -12.157341921515266, -12.05052687916149, -11.641894749166617, -12.015260214001033, -12.279751940143685, -12.320013605946738, -12.651889819721932, -12.64690634116286, -12.60184941460364, -12.0319532551012, -11.723973042700822, -12.014074016771444, -12.448147034740316, -13.255045745718437, -12.375229883452821, -12.133676210225778, -11.435047594507264, -11.676696817196179, -11.785883170139854, -12.125814064936888, -12.26357645923836, -12.090883355264793, -12.264088219994958, -12.627615309909062, -13.006191936879597, -12.949720317550781, -12.670287969653804, -12.587881013324468, -11.723248914810132, -12.015248829877853, -12.198097930861858, -12.512796866599876, -11.999434877967106, -11.679323194951202, -12.25171860404849, -12.388508077980026, -12.453727828494912, -11.921325373257448, -12.590558215618486, -12.49544488176438, -12.973650087638186, -12.657120279525417, -12.765762016579407, -13.074325432405839, -12.961604650415486, -13.216548455075847, -13.327947083525482, -13.191316653338795, -12.806583786557974, -13.118360991024716, -13.52262584365572, -13.586993497364684, -13.646451094503787, -14.115903198503766, -14.421146340421922, -14.547122507228234, -13.98552049702898, -13.598526402293059, -13.460993575924117, -13.674313176960226, -13.96766953904941, -14.223740521605261, -14.250148901370755, -14.395704636257339, -14.512502657459953, -14.983034932217468, -15.802349955957622, -15.500041010192824, -14.744523120216243, -14.467908315472929, -15.954450158624894, -15.619509212102455, -14.80772564486043, -14.628358585333862, -15.84372836461804, -16.448371996553334, -15.956806050400434, -15.462294757156382, -16.046422097723, -16.119693037572034, -16.088039256237735, -16.691063190187602, -17.279038847855805, -16.763373426834544, -16.281160254073907, -16.728286879990925, -17.528559751059767, -18.157682624357314, -17.982293817372476, -17.863668690272746, -18.459896414190784, -18.907175586131537, -19.102915793446794, -18.654487958013554, -18.71210499077963, -18.682426916957123, -19.181218047500014, -19.75337030663936, -19.667944079718453, -19.82344603410123, -20.201790650289993, -20.755714142240812, -20.949537180998014, -21.152225668900957, -21.93859100494816, -22.355232221090873, -22.969082545473544, -23.024189090912383, -23.02016082729029, -22.82240751918308, -23.344357745764707, -23.558221645113374, -23.68739728914635, -24.27285716411886, -24.750002891962147, -25.174557017139943, -25.456584794015097, -26.575723413251914, -26.862660306568944, -26.888332747531866, -27.07896148022837, -28.105761250453366, -28.3872813033397, -28.97919787831036, -30.34530545092227, -31.41910353445445, -31.343970193606342, -31.18893571420517, -32.37191984084635, -33.72554716952775, -34.85971442714454, -35.52663801332102, -36.57147492843836, -37.41218864027735, -38.2423474173714, -39.378848973923176, -40.01385637235234, -40.18798140922859, -40.069786122631236, -39.848901634445305, -39.49932052100926, -39.38756900150962, -39.47957781136088, -39.634077162851, -39.84905131935219, -39.630121502778735, -39.95065982752148, -40.1692057982703, -40.17575280193493, -39.58809059139051, -39.79818866938333, -40.186932525304826, -40.25702058938285, -40.28524872065247, -39.84300076888998, -39.87221487652679, -40.122088465148586, -40.5560903288019, -40.40512086302545, -39.96467274232516, -39.3301763432323, -39.64412025483716, -39.978704211123244, -40.330394252063854, -40.17312982979043, -39.808232353642005, -39.91861897445695, -39.99786156545275, -39.95934667743289, -39.449674807408186, -39.54699756523596, -39.992748127758844, -40.59239441417211, -40.183763060666166, -39.87294717177217, -39.687489178198895, -40.029561075551165, -39.72219966837115, -39.76717162684013, -40.00742219678878, -40.74951650413207, -40.92229491009698, -40.53943925440556, -39.979589010589194, -39.98044521396731, -40.29963099123115, -40.143908060241266, -39.7589479078073, -39.79522153564095, -40.170314282438135, -40.52634582240641, -40.13113611519787, -39.63310825327275, -39.5366396275773, -39.91979900293785, -40.09231044385348, -39.961613295193416, -39.7870744834275, -39.523733782532524, -39.67401912388584, -39.67447672291119, -39.9196978069902, -39.81114994765086, -39.953173170582595, -40.028567876685194, -40.2351102959416, -40.14488676938241, -40.08668497518265, -39.81791408406411, -39.754112421902015, -40.1541815330597, -39.98776640587386, -39.81299498801041, -39.94114602720148, -40.231521648546455, -39.82173151442577, -39.520391199949216, -39.465337740685534, -39.57260516065046, -39.62843647932536, -39.78326051873513, -40.11917592810876, -40.05452613504355, -40.27202365154472, -40.1645412323663, -40.12489491716425, -39.927289537611244, -39.716932802115316, -39.37945695993966, -39.944623321943446, -40.182454192128375, -40.01405423588409, -39.755712524619156, -39.83069391161497, -40.07215951880197, -39.87142690135609, -39.52365020663678, -39.53091818848871, -40.01098632272465, -39.69012426305523, -39.58221038820005, -39.61831210180685, -40.02909612622047, -39.69753620485853, -39.48565268152933, -39.48007472731502, -39.80230513572769, -40.036574978183474, -40.20585244461672, -40.142164507145274, -39.89268407295426]\n",
            "[-35.14413305 -25.44127472 -32.94603048 ... -34.77903782 -32.54841628\n",
            " -30.47084914]\n"
          ]
        },
        {
          "output_type": "display_data",
          "data": {
            "text/plain": [
              "<Figure size 432x288 with 1 Axes>"
            ],
            "image/png": "[encoded data removed]"
          },
          "metadata": {
            "needs_background": "light"
          }
        }
      ]
    }
  ]
}