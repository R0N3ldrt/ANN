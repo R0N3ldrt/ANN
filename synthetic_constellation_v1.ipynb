{
  "nbformat": 4,
  "nbformat_minor": 0,
  "metadata": {
    "colab": {
      "name": "Untitled8.ipynb",
      "provenance": [],
      "authorship_tag": "ABX9TyNyp9oTAZpEO/zhV1HKTb3j",
      "include_colab_link": true
    },
    "kernelspec": {
      "name": "python3",
      "display_name": "Python 3"
    },
    "language_info": {
      "name": "python"
    }
  },
  "cells": [
    {
      "cell_type": "markdown",
      "metadata": {
        "id": "view-in-github",
        "colab_type": "text"
      },
      "source": [
        "<a href=\"https://colab.research.google.com/github/R0N3ldrt/Thesis/blob/main/synthetic_constellation_v1.ipynb\" target=\"_parent\"><img src=\"https://colab.research.google.com/assets/colab-badge.svg\" alt=\"Open In Colab\"/></a>"
      ]
    },
    {
      "cell_type": "markdown",
      "source": [
        "# Synthetic Constellation"
      ],
      "metadata": {
        "id": "pGh8g-miYhWN"
      }
    },
    {
      "cell_type": "markdown",
      "source": [
        "# Loading Necesary Libraries"
      ],
      "metadata": {
        "id": "EnyBi7O6YtBK"
      }
    },
    {
      "cell_type": "code",
      "execution_count": 1,
      "metadata": {
        "id": "3CRIKozoYfn1"
      },
      "outputs": [],
      "source": [
        "# Importing necesary libraries\n",
        "# Libraries for correct code execution \n",
        "\n",
        "import os, time\n",
        "import pandas as pd\n",
        "import numpy as np\n",
        "import matplotlib.pyplot as plt\n",
        "import math\n",
        "import pickle\n",
        "import random\n",
        "import csv\n",
        "import re\n",
        "from tqdm import tqdm\n",
        "\n",
        "from random import random\n",
        "from math import modf, pi, cos, sin, sqrt\n",
        "from sklearn.model_selection import train_test_split\n",
        "from sklearn.preprocessing import MinMaxScaler\n",
        "from plotly.subplots import make_subplots\n",
        "\n",
        "import plotly.graph_objects as go\n",
        "import plotly.express as px\n",
        "from plotly.subplots import make_subplots\n",
        "\n",
        "from keras.models import Sequential\n",
        "from keras.layers import Dense,Conv2D, Flatten\n",
        "from keras.wrappers.scikit_learn import KerasRegressor\n",
        "from keras.callbacks import EarlyStopping\n",
        "from sklearn.mixture import GaussianMixture\n",
        "\n",
        "import warnings\n",
        "warnings.filterwarnings(\"ignore\")"
      ]
    },
    {
      "cell_type": "markdown",
      "source": [
        "# Load Enviroment"
      ],
      "metadata": {
        "id": "18mwd0RSYwZw"
      }
    },
    {
      "cell_type": "code",
      "source": [
        "# BLOQUE PARA USAR DESDE COLAB\n",
        "\n",
        "# Google drive loading as work station for local-usage of the files.\n",
        "from google.colab import drive\n",
        "drive.mount('/content/gdrive',force_remount= True)\n",
        "\n",
        "#-----------------------------------------------------------------------------"
      ],
      "metadata": {
        "colab": {
          "base_uri": "https://localhost:8080/"
        },
        "id": "YeY4YJAjY7dP",
        "outputId": "2f689eaf-6f37-4318-88ea-3e2e1ae3823f"
      },
      "execution_count": 2,
      "outputs": [
        {
          "output_type": "stream",
          "name": "stdout",
          "text": [
            "Mounted at /content/gdrive\n"
          ]
        }
      ]
    },
    {
      "cell_type": "code",
      "source": [
        "# Lista para cambiar los paths rapido.\n",
        "workers = [\"Ronald\", \"Local\"]\n",
        "\n",
        "# Change the number to change the paths.\n",
        "worker = workers[0]\n",
        "\n",
        "if worker == \"Ronald\":\n",
        "  path= \"/content/gdrive/MyDrive/Thesis_Workstation/ANN_dataset\"\n",
        "else: path = os.getcwd()"
      ],
      "metadata": {
        "id": "_Dd4TmFoY9yG"
      },
      "execution_count": 3,
      "outputs": []
    },
    {
      "cell_type": "code",
      "source": [
        "def synthetic_constellation(r_dispertion, n_samples=1, centroid = None, n_features = 2048, distribution_funct = 'uniform', power_val='-2'):\n",
        "  samples_per_square = int(n_features/16)\n",
        "\n",
        "  data = {}\n",
        "  if centroid == None:\n",
        "    centroids = [(-3, 3), (-1, 3), (1, 3), (3, 3),\n",
        "                (-3, 1), (-1, 1), (1, 1), (3, 1),\n",
        "                (-3, -1), (-1, -1), (1, -1), (3, -1),\n",
        "                (-3, -3), (-1, -3), (1, -3), (3, -3)]\n",
        "\n",
        "  samples_per_square_cnt = 0\n",
        "\n",
        "  centroid_cnt = 0\n",
        "  r = centroids[centroid_cnt][0]\n",
        "  i = centroids[centroid_cnt][1]\n",
        "  symbol = complex(r, i)\n",
        "  for feature_num in range(0, n_features):\n",
        "    sample_data = []\n",
        "\n",
        "    for sample in range(n_samples):\n",
        "      if r_dispertion == 0:\n",
        "        # Process for dispersion 0\n",
        "        if samples_per_square_cnt == samples_per_square-1 and samples_per_square !=n_features:\n",
        "          centroid_cnt += 1\n",
        "          samples_per_square = samples_per_square + 128\n",
        "          r = centroids[centroid_cnt][0] #real\n",
        "          i = centroids[centroid_cnt][1] #imag\n",
        "          symbol = complex(r, i)\n",
        "\n",
        "      else:\n",
        "        pass\n",
        "        # --------------------------Add here code for uniform distribution\n",
        "      sample_data.append(symbol) #Add values here constellation points\n",
        "    samples_per_square_cnt += 1    \n",
        "    if feature_num == 0:\n",
        "      data['sampleid'] = [(s_id+1) for s_id in range(n_samples)]\n",
        "      power = []\n",
        "      for s_id in range(n_samples): power.append(power_val)\n",
        "      data['power_dBm'] = power\n",
        "    data['o'+str(feature_num)] = sample_data\n",
        "\n",
        "  df = pd.DataFrame(data)\n",
        "\n",
        "  return df\n"
      ],
      "metadata": {
        "id": "CfEjvpTJaGW0"
      },
      "execution_count": 38,
      "outputs": []
    },
    {
      "cell_type": "code",
      "source": [
        "def generate_points(r_dispertion, distribution_funct='uniform'):\n",
        "  real = 0\n",
        "  imag = 0\n",
        "  if distribution_funct == 'uniform':\n",
        "    val = complex(real, imag)\n",
        "  return val"
      ],
      "metadata": {
        "id": "JrgMGa0IprY7"
      },
      "execution_count": 8,
      "outputs": []
    },
    {
      "cell_type": "code",
      "source": [
        "def uniform_point(r=1, xc=0, yc=0):\n",
        "  r = r*sqrt(random())\n",
        "  theta = 2*pi*random()\n",
        "  return xc+r*cos(theta), yc+r*sin(theta)"
      ],
      "metadata": {
        "id": "P2cq9Ilxq7on"
      },
      "execution_count": 5,
      "outputs": []
    },
    {
      "cell_type": "code",
      "source": [
        "def non_uniform_point(r=1, xc=0, yc=0):\n",
        "  r = r*random()\n",
        "  theta = 2*pi*random()\n",
        "\n",
        "  return xc+r*cos(theta), yc+r*sin(theta)"
      ],
      "metadata": {
        "id": "jxYo8A_grqMn"
      },
      "execution_count": 7,
      "outputs": []
    },
    {
      "cell_type": "code",
      "source": [
        "synthetic_df = synthetic_constellation(r_dispertion=0)\n",
        "display(synthetic_df)"
      ],
      "metadata": {
        "id": "ptkq1Yn3ch2g",
        "colab": {
          "base_uri": "https://localhost:8080/",
          "height": 110
        },
        "outputId": "4d711c5a-a160-4f11-93de-f79e86c3b3ed"
      },
      "execution_count": 39,
      "outputs": [
        {
          "output_type": "display_data",
          "data": {
            "text/plain": [
              "   sampleid power_dBm        o0        o1        o2        o3        o4  \\\n",
              "0         1        -2 -3.0+3.0j -3.0+3.0j -3.0+3.0j -3.0+3.0j -3.0+3.0j   \n",
              "\n",
              "         o5        o6        o7  ...     o2038     o2039     o2040     o2041  \\\n",
              "0 -3.0+3.0j -3.0+3.0j -3.0+3.0j  ...  3.0-3.0j  3.0-3.0j  3.0-3.0j  3.0-3.0j   \n",
              "\n",
              "      o2042     o2043     o2044     o2045     o2046     o2047  \n",
              "0  3.0-3.0j  3.0-3.0j  3.0-3.0j  3.0-3.0j  3.0-3.0j  3.0-3.0j  \n",
              "\n",
              "[1 rows x 2050 columns]"
            ],
            "text/html": [
              "\n",
              "  <div id=\"df-95b3936e-d689-44e0-83a8-6cb6adace41f\">\n",
              "    <div class=\"colab-df-container\">\n",
              "      <div>\n",
              "<style scoped>\n",
              "    .dataframe tbody tr th:only-of-type {\n",
              "        vertical-align: middle;\n",
              "    }\n",
              "\n",
              "    .dataframe tbody tr th {\n",
              "        vertical-align: top;\n",
              "    }\n",
              "\n",
              "    .dataframe thead th {\n",
              "        text-align: right;\n",
              "    }\n",
              "</style>\n",
              "<table border=\"1\" class=\"dataframe\">\n",
              "  <thead>\n",
              "    <tr style=\"text-align: right;\">\n",
              "      <th></th>\n",
              "      <th>sampleid</th>\n",
              "      <th>power_dBm</th>\n",
              "      <th>o0</th>\n",
              "      <th>o1</th>\n",
              "      <th>o2</th>\n",
              "      <th>o3</th>\n",
              "      <th>o4</th>\n",
              "      <th>o5</th>\n",
              "      <th>o6</th>\n",
              "      <th>o7</th>\n",
              "      <th>...</th>\n",
              "      <th>o2038</th>\n",
              "      <th>o2039</th>\n",
              "      <th>o2040</th>\n",
              "      <th>o2041</th>\n",
              "      <th>o2042</th>\n",
              "      <th>o2043</th>\n",
              "      <th>o2044</th>\n",
              "      <th>o2045</th>\n",
              "      <th>o2046</th>\n",
              "      <th>o2047</th>\n",
              "    </tr>\n",
              "  </thead>\n",
              "  <tbody>\n",
              "    <tr>\n",
              "      <th>0</th>\n",
              "      <td>1</td>\n",
              "      <td>-2</td>\n",
              "      <td>-3.0+3.0j</td>\n",
              "      <td>-3.0+3.0j</td>\n",
              "      <td>-3.0+3.0j</td>\n",
              "      <td>-3.0+3.0j</td>\n",
              "      <td>-3.0+3.0j</td>\n",
              "      <td>-3.0+3.0j</td>\n",
              "      <td>-3.0+3.0j</td>\n",
              "      <td>-3.0+3.0j</td>\n",
              "      <td>...</td>\n",
              "      <td>3.0-3.0j</td>\n",
              "      <td>3.0-3.0j</td>\n",
              "      <td>3.0-3.0j</td>\n",
              "      <td>3.0-3.0j</td>\n",
              "      <td>3.0-3.0j</td>\n",
              "      <td>3.0-3.0j</td>\n",
              "      <td>3.0-3.0j</td>\n",
              "      <td>3.0-3.0j</td>\n",
              "      <td>3.0-3.0j</td>\n",
              "      <td>3.0-3.0j</td>\n",
              "    </tr>\n",
              "  </tbody>\n",
              "</table>\n",
              "<p>1 rows × 2050 columns</p>\n",
              "</div>\n",
              "      <button class=\"colab-df-convert\" onclick=\"convertToInteractive('df-95b3936e-d689-44e0-83a8-6cb6adace41f')\"\n",
              "              title=\"Convert this dataframe to an interactive table.\"\n",
              "              style=\"display:none;\">\n",
              "        \n",
              "  <svg xmlns=\"http://www.w3.org/2000/svg\" height=\"24px\"viewBox=\"0 0 24 24\"\n",
              "       width=\"24px\">\n",
              "    <path d=\"M0 0h24v24H0V0z\" fill=\"none\"/>\n",
              "    <path d=\"M18.56 5.44l.94 2.06.94-2.06 2.06-.94-2.06-.94-.94-2.06-.94 2.06-2.06.94zm-11 1L8.5 8.5l.94-2.06 2.06-.94-2.06-.94L8.5 2.5l-.94 2.06-2.06.94zm10 10l.94 2.06.94-2.06 2.06-.94-2.06-.94-.94-2.06-.94 2.06-2.06.94z\"/><path d=\"M17.41 7.96l-1.37-1.37c-.4-.4-.92-.59-1.43-.59-.52 0-1.04.2-1.43.59L10.3 9.45l-7.72 7.72c-.78.78-.78 2.05 0 2.83L4 21.41c.39.39.9.59 1.41.59.51 0 1.02-.2 1.41-.59l7.78-7.78 2.81-2.81c.8-.78.8-2.07 0-2.86zM5.41 20L4 18.59l7.72-7.72 1.47 1.35L5.41 20z\"/>\n",
              "  </svg>\n",
              "      </button>\n",
              "      \n",
              "  <style>\n",
              "    .colab-df-container {\n",
              "      display:flex;\n",
              "      flex-wrap:wrap;\n",
              "      gap: 12px;\n",
              "    }\n",
              "\n",
              "    .colab-df-convert {\n",
              "      background-color: #E8F0FE;\n",
              "      border: none;\n",
              "      border-radius: 50%;\n",
              "      cursor: pointer;\n",
              "      display: none;\n",
              "      fill: #1967D2;\n",
              "      height: 32px;\n",
              "      padding: 0 0 0 0;\n",
              "      width: 32px;\n",
              "    }\n",
              "\n",
              "    .colab-df-convert:hover {\n",
              "      background-color: #E2EBFA;\n",
              "      box-shadow: 0px 1px 2px rgba(60, 64, 67, 0.3), 0px 1px 3px 1px rgba(60, 64, 67, 0.15);\n",
              "      fill: #174EA6;\n",
              "    }\n",
              "\n",
              "    [theme=dark] .colab-df-convert {\n",
              "      background-color: #3B4455;\n",
              "      fill: #D2E3FC;\n",
              "    }\n",
              "\n",
              "    [theme=dark] .colab-df-convert:hover {\n",
              "      background-color: #434B5C;\n",
              "      box-shadow: 0px 1px 3px 1px rgba(0, 0, 0, 0.15);\n",
              "      filter: drop-shadow(0px 1px 2px rgba(0, 0, 0, 0.3));\n",
              "      fill: #FFFFFF;\n",
              "    }\n",
              "  </style>\n",
              "\n",
              "      <script>\n",
              "        const buttonEl =\n",
              "          document.querySelector('#df-95b3936e-d689-44e0-83a8-6cb6adace41f button.colab-df-convert');\n",
              "        buttonEl.style.display =\n",
              "          google.colab.kernel.accessAllowed ? 'block' : 'none';\n",
              "\n",
              "        async function convertToInteractive(key) {\n",
              "          const element = document.querySelector('#df-95b3936e-d689-44e0-83a8-6cb6adace41f');\n",
              "          const dataTable =\n",
              "            await google.colab.kernel.invokeFunction('convertToInteractive',\n",
              "                                                     [key], {});\n",
              "          if (!dataTable) return;\n",
              "\n",
              "          const docLinkHtml = 'Like what you see? Visit the ' +\n",
              "            '<a target=\"_blank\" href=https://colab.research.google.com/notebooks/data_table.ipynb>data table notebook</a>'\n",
              "            + ' to learn more about interactive tables.';\n",
              "          element.innerHTML = '';\n",
              "          dataTable['output_type'] = 'display_data';\n",
              "          await google.colab.output.renderOutput(dataTable, element);\n",
              "          const docLink = document.createElement('div');\n",
              "          docLink.innerHTML = docLinkHtml;\n",
              "          element.appendChild(docLink);\n",
              "        }\n",
              "      </script>\n",
              "    </div>\n",
              "  </div>\n",
              "  "
            ]
          },
          "metadata": {}
        }
      ]
    },
    {
      "cell_type": "code",
      "source": [
        "#filepath = path+'/synthetic_constellations/synthetic_cosntelation_radius_'+str(0)+'.csv'\n",
        "\n",
        "#synthetic_df.to_csv(filepath, index=False, encoding='utf-8-sig')   "
      ],
      "metadata": {
        "id": "Bl_fyMP2tLFS"
      },
      "execution_count": null,
      "outputs": []
    }
  ]
}