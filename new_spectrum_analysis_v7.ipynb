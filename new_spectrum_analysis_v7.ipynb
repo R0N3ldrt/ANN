{
  "nbformat": 4,
  "nbformat_minor": 0,
  "metadata": {
    "colab": {
      "name": "Untitled8.ipynb",
      "provenance": [],
      "authorship_tag": "ABX9TyPhXlett/iE7vocAYUYkcbq",
      "include_colab_link": true
    },
    "kernelspec": {
      "name": "python3",
      "display_name": "Python 3"
    },
    "language_info": {
      "name": "python"
    }
  },
  "cells": [
    {
      "cell_type": "markdown",
      "metadata": {
        "id": "view-in-github",
        "colab_type": "text"
      },
      "source": [
        "<a href=\"https://colab.research.google.com/github/R0N3ldrt/Thesis/blob/main/new_spectrum_analysis_v7.ipynb\" target=\"_parent\"><img src=\"https://colab.research.google.com/assets/colab-badge.svg\" alt=\"Open In Colab\"/></a>"
      ]
    },
    {
      "cell_type": "markdown",
      "source": [
        "# Spectrum Analysis V2"
      ],
      "metadata": {
        "id": "pGh8g-miYhWN"
      }
    },
    {
      "cell_type": "markdown",
      "source": [
        "# Loading Necesary Libraries"
      ],
      "metadata": {
        "id": "EnyBi7O6YtBK"
      }
    },
    {
      "cell_type": "code",
      "execution_count": 106,
      "metadata": {
        "id": "3CRIKozoYfn1"
      },
      "outputs": [],
      "source": [
        "# Importing necesary libraries\n",
        "# Libraries for correct code execution \n",
        "\n",
        "import os, time\n",
        "import pandas as pd\n",
        "import numpy as np\n",
        "import matplotlib.pyplot as plt\n",
        "import math\n",
        "import pickle\n",
        "import random\n",
        "import csv\n",
        "import re\n",
        "from tqdm import tqdm\n",
        "\n",
        "from random import random, gauss\n",
        "from math import modf, pi, cos, sin, sqrt\n",
        "from sklearn.model_selection import train_test_split\n",
        "from sklearn.preprocessing import MinMaxScaler\n",
        "from plotly.subplots import make_subplots\n",
        "from scipy.signal import savgol_filter\n",
        "\n",
        "import plotly.graph_objects as go\n",
        "import plotly.express as px\n",
        "from plotly.subplots import make_subplots\n",
        "\n",
        "from keras.models import Sequential\n",
        "from keras.layers import Dense,Conv2D, Flatten\n",
        "from keras.wrappers.scikit_learn import KerasRegressor\n",
        "from keras.callbacks import EarlyStopping\n",
        "from sklearn.mixture import GaussianMixture\n",
        "\n",
        "import warnings\n",
        "warnings.filterwarnings(\"ignore\")"
      ]
    },
    {
      "cell_type": "markdown",
      "source": [
        "# Load Enviroment"
      ],
      "metadata": {
        "id": "18mwd0RSYwZw"
      }
    },
    {
      "cell_type": "code",
      "source": [
        "# BLOQUE PARA USAR DESDE COLAB\n",
        "\n",
        "# Google drive loading as work station for local-usage of the files.\n",
        "from google.colab import drive\n",
        "drive.mount('/content/gdrive',force_remount= True)\n",
        "\n",
        "#-----------------------------------------------------------------------------"
      ],
      "metadata": {
        "colab": {
          "base_uri": "https://localhost:8080/"
        },
        "id": "YeY4YJAjY7dP",
        "outputId": "c12c1118-12aa-45bb-9efa-59cf45fdb6ac"
      },
      "execution_count": 107,
      "outputs": [
        {
          "output_type": "stream",
          "name": "stdout",
          "text": [
            "Mounted at /content/gdrive\n"
          ]
        }
      ]
    },
    {
      "cell_type": "code",
      "source": [
        "# Lista para cambiar los paths rapido.\n",
        "workers = [\"Ronald\", \"Local\"]\n",
        "\n",
        "# Change the number to change the paths.\n",
        "worker = workers[0]\n",
        "\n",
        "if worker == \"Ronald\":\n",
        "  path = \"/content/gdrive/MyDrive/Thesis_Workstation/ANN_dataset\"\n",
        "else: path = os.getcwd()"
      ],
      "metadata": {
        "id": "_Dd4TmFoY9yG"
      },
      "execution_count": 108,
      "outputs": []
    },
    {
      "cell_type": "markdown",
      "source": [
        "# Load Datasets"
      ],
      "metadata": {
        "id": "uh1vXbd7kucq"
      }
    },
    {
      "cell_type": "code",
      "source": [
        "input_path = path + \"/Spectrum/16QAM/25spans80km_withoutROADMs/dataSet_Spectrum31MHz_Samples_16QAM_75GHz_LongHaul_input_25x80km.xlsx\""
      ],
      "metadata": {
        "id": "eVsjjYTM8qcC"
      },
      "execution_count": 109,
      "outputs": []
    },
    {
      "cell_type": "markdown",
      "source": [
        "## Pre-Processing"
      ],
      "metadata": {
        "id": "nyvfgBSB7smx"
      }
    },
    {
      "cell_type": "code",
      "source": [
        "df = pd.read_excel(input_path, sheet_name = \"Sheet1\", skiprows=1)"
      ],
      "metadata": {
        "id": "NOvDGzfK9NBT"
      },
      "execution_count": 110,
      "outputs": []
    },
    {
      "cell_type": "code",
      "source": [
        "# Dropping rows that are empty\n",
        "drop_rows = [drop_row for drop_row in range(325, df.shape[0])]\n",
        "df_13_samples = df.drop(drop_rows)"
      ],
      "metadata": {
        "id": "G359T-tq-IC8"
      },
      "execution_count": 111,
      "outputs": []
    },
    {
      "cell_type": "code",
      "source": [
        "print([row for row in range(1, 14)])\n",
        "print([row for row in range(0, 25)])"
      ],
      "metadata": {
        "colab": {
          "base_uri": "https://localhost:8080/"
        },
        "id": "sWPqslMLAgU1",
        "outputId": "25b6dcba-1453-4554-a5fe-1c4b1ced97cb"
      },
      "execution_count": 112,
      "outputs": [
        {
          "output_type": "stream",
          "name": "stdout",
          "text": [
            "[1, 2, 3, 4, 5, 6, 7, 8, 9, 10, 11, 12, 13]\n",
            "[0, 1, 2, 3, 4, 5, 6, 7, 8, 9, 10, 11, 12, 13, 14, 15, 16, 17, 18, 19, 20, 21, 22, 23, 24]\n"
          ]
        }
      ]
    },
    {
      "cell_type": "code",
      "source": [
        "# Adding missing PBRS_id\n",
        "snippet = []\n",
        "val_cnt = 1\n",
        "idx = 0\n",
        "for sample in range(1, 14):\n",
        "  for sample_id in range(0, 25):\n",
        "    df_13_samples.at[idx, 'PBRS_id'] = val_cnt\n",
        "    idx +=1\n",
        "    snippet.append(val_cnt)\n",
        "  val_cnt += 1\n",
        "df_13_samples['PBRS_id'] = df_13_samples['PBRS_id'].astype(int)"
      ],
      "metadata": {
        "id": "S-DKtLozA49m"
      },
      "execution_count": 113,
      "outputs": []
    },
    {
      "cell_type": "code",
      "source": [
        "\n",
        "df_13_samples.iloc[0].fillna(method='bfill', inplace=True)\n",
        "\n",
        "df_13_samples.iloc[1:df_13_samples.shape[0]].fillna(method='pad', inplace=True)"
      ],
      "metadata": {
        "id": "Y4M56MNj4tLC"
      },
      "execution_count": 114,
      "outputs": []
    },
    {
      "cell_type": "code",
      "source": [
        "display(df_13_samples)"
      ],
      "metadata": {
        "colab": {
          "base_uri": "https://localhost:8080/",
          "height": 488
        },
        "id": "6RAjQqdW9nc5",
        "outputId": "3d715975-a098-4d16-f0eb-77902005f3b1"
      },
      "execution_count": 115,
      "outputs": [
        {
          "output_type": "display_data",
          "data": {
            "text/plain": [
              "     row  PBRS_id  Channels  Distance_km  power_dBm #span         -40  \\\n",
              "0      1        1         1         80.0          0     1 -334.501270   \n",
              "1      2        1         1        160.0          0     2 -338.049215   \n",
              "2      3        1         1        240.0          0     3 -335.915875   \n",
              "3      4        1         1        320.0          0     4 -330.110140   \n",
              "4      5        1         1        400.0          0     5 -336.413189   \n",
              "..   ...      ...       ...          ...        ...   ...         ...   \n",
              "320  321       13         1       1680.0          0    21  -54.561583   \n",
              "321  322       13         1       1760.0          0    22  -58.293111   \n",
              "322  323       13         1       1840.0          0    23  -56.360107   \n",
              "323  324       13         1       1920.0          0    24  -48.972740   \n",
              "324  325       13         1       2000.0          0    25  -38.242082   \n",
              "\n",
              "      -39.96875    -39.9375   -39.90625  ...  39.7187499999999  \\\n",
              "0   -333.132364 -325.572794 -336.320168  ...       -335.056696   \n",
              "1   -327.846616 -327.474368 -338.873124  ...               NaN   \n",
              "2   -332.459387 -349.826960 -328.583144  ...       -326.872508   \n",
              "3   -337.262521 -332.736237 -339.124990  ...       -336.294415   \n",
              "4   -330.762275 -332.048845 -337.871202  ...       -331.093800   \n",
              "..          ...         ...         ...  ...               ...   \n",
              "320  -44.613902  -41.167754  -40.733658  ...        -46.796297   \n",
              "321  -50.937024  -40.632352  -55.283881  ...        -54.613867   \n",
              "322  -49.076076  -38.904166  -42.718141  ...        -44.865531   \n",
              "323  -44.050182  -48.665758  -48.660555  ...        -40.742621   \n",
              "324  -38.461429  -45.351282  -69.542816  ...        -47.447630   \n",
              "\n",
              "     39.7499999999999  39.7812499999999  39.8124999999999  39.8437499999999  \\\n",
              "0         -328.066995       -325.754530       -328.066995       -328.066995   \n",
              "1         -321.746918       -326.565933       -322.586533       -341.617433   \n",
              "2         -333.434423       -329.882808       -329.882808       -331.686340   \n",
              "3         -330.273815       -329.274286       -329.304715       -321.242915   \n",
              "4         -336.602875       -329.274286       -329.155600       -324.104100   \n",
              "..                ...               ...               ...               ...   \n",
              "320        -44.789001        -49.459724        -43.774488        -46.750014   \n",
              "321        -42.210508        -41.569807        -46.446182        -52.601701   \n",
              "322        -40.877947        -38.035555        -43.307802        -44.275443   \n",
              "323        -58.084123        -43.044080        -43.606192        -43.880028   \n",
              "324        -46.748093        -45.419644        -45.034501        -46.944102   \n",
              "\n",
              "     39.8749999999999  39.9062499999999  39.9374999999999  39.9687499999999  \\\n",
              "0         -325.395278       -321.992445       -328.886037       -322.977492   \n",
              "1         -322.586533               NaN       -331.617433       -328.607133   \n",
              "2         -325.665740       -335.903408       -326.872508       -329.882808   \n",
              "3         -320.731390       -328.335615       -325.154982       -326.294415   \n",
              "4         -320.731390       -333.027762       -325.154982       -343.135000   \n",
              "..                ...               ...               ...               ...   \n",
              "320        -45.695103        -43.781436        -40.756417        -49.368974   \n",
              "321        -45.139597        -46.657479        -50.439532        -45.279847   \n",
              "322        -39.932980        -42.285547        -55.159451        -42.410064   \n",
              "323        -49.691087        -46.022193        -47.717701        -39.202819   \n",
              "324        -48.295050        -51.188603        -54.750253        -38.874409   \n",
              "\n",
              "     39.9999999999999  \n",
              "0         -335.056696  \n",
              "1         -328.144133  \n",
              "2         -328.913708  \n",
              "3         -330.273815  \n",
              "4         -337.114400  \n",
              "..                ...  \n",
              "320        -35.147507  \n",
              "321        -47.112150  \n",
              "322        -47.629492  \n",
              "323        -51.550857  \n",
              "324        -39.958411  \n",
              "\n",
              "[325 rows x 2567 columns]"
            ],
            "text/html": [
              "\n",
              "  <div id=\"df-eb490ff6-7cb0-416a-8236-bc979c5bf765\">\n",
              "    <div class=\"colab-df-container\">\n",
              "      <div>\n",
              "<style scoped>\n",
              "    .dataframe tbody tr th:only-of-type {\n",
              "        vertical-align: middle;\n",
              "    }\n",
              "\n",
              "    .dataframe tbody tr th {\n",
              "        vertical-align: top;\n",
              "    }\n",
              "\n",
              "    .dataframe thead th {\n",
              "        text-align: right;\n",
              "    }\n",
              "</style>\n",
              "<table border=\"1\" class=\"dataframe\">\n",
              "  <thead>\n",
              "    <tr style=\"text-align: right;\">\n",
              "      <th></th>\n",
              "      <th>row</th>\n",
              "      <th>PBRS_id</th>\n",
              "      <th>Channels</th>\n",
              "      <th>Distance_km</th>\n",
              "      <th>power_dBm</th>\n",
              "      <th>#span</th>\n",
              "      <th>-40</th>\n",
              "      <th>-39.96875</th>\n",
              "      <th>-39.9375</th>\n",
              "      <th>-39.90625</th>\n",
              "      <th>...</th>\n",
              "      <th>39.7187499999999</th>\n",
              "      <th>39.7499999999999</th>\n",
              "      <th>39.7812499999999</th>\n",
              "      <th>39.8124999999999</th>\n",
              "      <th>39.8437499999999</th>\n",
              "      <th>39.8749999999999</th>\n",
              "      <th>39.9062499999999</th>\n",
              "      <th>39.9374999999999</th>\n",
              "      <th>39.9687499999999</th>\n",
              "      <th>39.9999999999999</th>\n",
              "    </tr>\n",
              "  </thead>\n",
              "  <tbody>\n",
              "    <tr>\n",
              "      <th>0</th>\n",
              "      <td>1</td>\n",
              "      <td>1</td>\n",
              "      <td>1</td>\n",
              "      <td>80.0</td>\n",
              "      <td>0</td>\n",
              "      <td>1</td>\n",
              "      <td>-334.501270</td>\n",
              "      <td>-333.132364</td>\n",
              "      <td>-325.572794</td>\n",
              "      <td>-336.320168</td>\n",
              "      <td>...</td>\n",
              "      <td>-335.056696</td>\n",
              "      <td>-328.066995</td>\n",
              "      <td>-325.754530</td>\n",
              "      <td>-328.066995</td>\n",
              "      <td>-328.066995</td>\n",
              "      <td>-325.395278</td>\n",
              "      <td>-321.992445</td>\n",
              "      <td>-328.886037</td>\n",
              "      <td>-322.977492</td>\n",
              "      <td>-335.056696</td>\n",
              "    </tr>\n",
              "    <tr>\n",
              "      <th>1</th>\n",
              "      <td>2</td>\n",
              "      <td>1</td>\n",
              "      <td>1</td>\n",
              "      <td>160.0</td>\n",
              "      <td>0</td>\n",
              "      <td>2</td>\n",
              "      <td>-338.049215</td>\n",
              "      <td>-327.846616</td>\n",
              "      <td>-327.474368</td>\n",
              "      <td>-338.873124</td>\n",
              "      <td>...</td>\n",
              "      <td>NaN</td>\n",
              "      <td>-321.746918</td>\n",
              "      <td>-326.565933</td>\n",
              "      <td>-322.586533</td>\n",
              "      <td>-341.617433</td>\n",
              "      <td>-322.586533</td>\n",
              "      <td>NaN</td>\n",
              "      <td>-331.617433</td>\n",
              "      <td>-328.607133</td>\n",
              "      <td>-328.144133</td>\n",
              "    </tr>\n",
              "    <tr>\n",
              "      <th>2</th>\n",
              "      <td>3</td>\n",
              "      <td>1</td>\n",
              "      <td>1</td>\n",
              "      <td>240.0</td>\n",
              "      <td>0</td>\n",
              "      <td>3</td>\n",
              "      <td>-335.915875</td>\n",
              "      <td>-332.459387</td>\n",
              "      <td>-349.826960</td>\n",
              "      <td>-328.583144</td>\n",
              "      <td>...</td>\n",
              "      <td>-326.872508</td>\n",
              "      <td>-333.434423</td>\n",
              "      <td>-329.882808</td>\n",
              "      <td>-329.882808</td>\n",
              "      <td>-331.686340</td>\n",
              "      <td>-325.665740</td>\n",
              "      <td>-335.903408</td>\n",
              "      <td>-326.872508</td>\n",
              "      <td>-329.882808</td>\n",
              "      <td>-328.913708</td>\n",
              "    </tr>\n",
              "    <tr>\n",
              "      <th>3</th>\n",
              "      <td>4</td>\n",
              "      <td>1</td>\n",
              "      <td>1</td>\n",
              "      <td>320.0</td>\n",
              "      <td>0</td>\n",
              "      <td>4</td>\n",
              "      <td>-330.110140</td>\n",
              "      <td>-337.262521</td>\n",
              "      <td>-332.736237</td>\n",
              "      <td>-339.124990</td>\n",
              "      <td>...</td>\n",
              "      <td>-336.294415</td>\n",
              "      <td>-330.273815</td>\n",
              "      <td>-329.274286</td>\n",
              "      <td>-329.304715</td>\n",
              "      <td>-321.242915</td>\n",
              "      <td>-320.731390</td>\n",
              "      <td>-328.335615</td>\n",
              "      <td>-325.154982</td>\n",
              "      <td>-326.294415</td>\n",
              "      <td>-330.273815</td>\n",
              "    </tr>\n",
              "    <tr>\n",
              "      <th>4</th>\n",
              "      <td>5</td>\n",
              "      <td>1</td>\n",
              "      <td>1</td>\n",
              "      <td>400.0</td>\n",
              "      <td>0</td>\n",
              "      <td>5</td>\n",
              "      <td>-336.413189</td>\n",
              "      <td>-330.762275</td>\n",
              "      <td>-332.048845</td>\n",
              "      <td>-337.871202</td>\n",
              "      <td>...</td>\n",
              "      <td>-331.093800</td>\n",
              "      <td>-336.602875</td>\n",
              "      <td>-329.274286</td>\n",
              "      <td>-329.155600</td>\n",
              "      <td>-324.104100</td>\n",
              "      <td>-320.731390</td>\n",
              "      <td>-333.027762</td>\n",
              "      <td>-325.154982</td>\n",
              "      <td>-343.135000</td>\n",
              "      <td>-337.114400</td>\n",
              "    </tr>\n",
              "    <tr>\n",
              "      <th>...</th>\n",
              "      <td>...</td>\n",
              "      <td>...</td>\n",
              "      <td>...</td>\n",
              "      <td>...</td>\n",
              "      <td>...</td>\n",
              "      <td>...</td>\n",
              "      <td>...</td>\n",
              "      <td>...</td>\n",
              "      <td>...</td>\n",
              "      <td>...</td>\n",
              "      <td>...</td>\n",
              "      <td>...</td>\n",
              "      <td>...</td>\n",
              "      <td>...</td>\n",
              "      <td>...</td>\n",
              "      <td>...</td>\n",
              "      <td>...</td>\n",
              "      <td>...</td>\n",
              "      <td>...</td>\n",
              "      <td>...</td>\n",
              "      <td>...</td>\n",
              "    </tr>\n",
              "    <tr>\n",
              "      <th>320</th>\n",
              "      <td>321</td>\n",
              "      <td>13</td>\n",
              "      <td>1</td>\n",
              "      <td>1680.0</td>\n",
              "      <td>0</td>\n",
              "      <td>21</td>\n",
              "      <td>-54.561583</td>\n",
              "      <td>-44.613902</td>\n",
              "      <td>-41.167754</td>\n",
              "      <td>-40.733658</td>\n",
              "      <td>...</td>\n",
              "      <td>-46.796297</td>\n",
              "      <td>-44.789001</td>\n",
              "      <td>-49.459724</td>\n",
              "      <td>-43.774488</td>\n",
              "      <td>-46.750014</td>\n",
              "      <td>-45.695103</td>\n",
              "      <td>-43.781436</td>\n",
              "      <td>-40.756417</td>\n",
              "      <td>-49.368974</td>\n",
              "      <td>-35.147507</td>\n",
              "    </tr>\n",
              "    <tr>\n",
              "      <th>321</th>\n",
              "      <td>322</td>\n",
              "      <td>13</td>\n",
              "      <td>1</td>\n",
              "      <td>1760.0</td>\n",
              "      <td>0</td>\n",
              "      <td>22</td>\n",
              "      <td>-58.293111</td>\n",
              "      <td>-50.937024</td>\n",
              "      <td>-40.632352</td>\n",
              "      <td>-55.283881</td>\n",
              "      <td>...</td>\n",
              "      <td>-54.613867</td>\n",
              "      <td>-42.210508</td>\n",
              "      <td>-41.569807</td>\n",
              "      <td>-46.446182</td>\n",
              "      <td>-52.601701</td>\n",
              "      <td>-45.139597</td>\n",
              "      <td>-46.657479</td>\n",
              "      <td>-50.439532</td>\n",
              "      <td>-45.279847</td>\n",
              "      <td>-47.112150</td>\n",
              "    </tr>\n",
              "    <tr>\n",
              "      <th>322</th>\n",
              "      <td>323</td>\n",
              "      <td>13</td>\n",
              "      <td>1</td>\n",
              "      <td>1840.0</td>\n",
              "      <td>0</td>\n",
              "      <td>23</td>\n",
              "      <td>-56.360107</td>\n",
              "      <td>-49.076076</td>\n",
              "      <td>-38.904166</td>\n",
              "      <td>-42.718141</td>\n",
              "      <td>...</td>\n",
              "      <td>-44.865531</td>\n",
              "      <td>-40.877947</td>\n",
              "      <td>-38.035555</td>\n",
              "      <td>-43.307802</td>\n",
              "      <td>-44.275443</td>\n",
              "      <td>-39.932980</td>\n",
              "      <td>-42.285547</td>\n",
              "      <td>-55.159451</td>\n",
              "      <td>-42.410064</td>\n",
              "      <td>-47.629492</td>\n",
              "    </tr>\n",
              "    <tr>\n",
              "      <th>323</th>\n",
              "      <td>324</td>\n",
              "      <td>13</td>\n",
              "      <td>1</td>\n",
              "      <td>1920.0</td>\n",
              "      <td>0</td>\n",
              "      <td>24</td>\n",
              "      <td>-48.972740</td>\n",
              "      <td>-44.050182</td>\n",
              "      <td>-48.665758</td>\n",
              "      <td>-48.660555</td>\n",
              "      <td>...</td>\n",
              "      <td>-40.742621</td>\n",
              "      <td>-58.084123</td>\n",
              "      <td>-43.044080</td>\n",
              "      <td>-43.606192</td>\n",
              "      <td>-43.880028</td>\n",
              "      <td>-49.691087</td>\n",
              "      <td>-46.022193</td>\n",
              "      <td>-47.717701</td>\n",
              "      <td>-39.202819</td>\n",
              "      <td>-51.550857</td>\n",
              "    </tr>\n",
              "    <tr>\n",
              "      <th>324</th>\n",
              "      <td>325</td>\n",
              "      <td>13</td>\n",
              "      <td>1</td>\n",
              "      <td>2000.0</td>\n",
              "      <td>0</td>\n",
              "      <td>25</td>\n",
              "      <td>-38.242082</td>\n",
              "      <td>-38.461429</td>\n",
              "      <td>-45.351282</td>\n",
              "      <td>-69.542816</td>\n",
              "      <td>...</td>\n",
              "      <td>-47.447630</td>\n",
              "      <td>-46.748093</td>\n",
              "      <td>-45.419644</td>\n",
              "      <td>-45.034501</td>\n",
              "      <td>-46.944102</td>\n",
              "      <td>-48.295050</td>\n",
              "      <td>-51.188603</td>\n",
              "      <td>-54.750253</td>\n",
              "      <td>-38.874409</td>\n",
              "      <td>-39.958411</td>\n",
              "    </tr>\n",
              "  </tbody>\n",
              "</table>\n",
              "<p>325 rows × 2567 columns</p>\n",
              "</div>\n",
              "      <button class=\"colab-df-convert\" onclick=\"convertToInteractive('df-eb490ff6-7cb0-416a-8236-bc979c5bf765')\"\n",
              "              title=\"Convert this dataframe to an interactive table.\"\n",
              "              style=\"display:none;\">\n",
              "        \n",
              "  <svg xmlns=\"http://www.w3.org/2000/svg\" height=\"24px\"viewBox=\"0 0 24 24\"\n",
              "       width=\"24px\">\n",
              "    <path d=\"M0 0h24v24H0V0z\" fill=\"none\"/>\n",
              "    <path d=\"M18.56 5.44l.94 2.06.94-2.06 2.06-.94-2.06-.94-.94-2.06-.94 2.06-2.06.94zm-11 1L8.5 8.5l.94-2.06 2.06-.94-2.06-.94L8.5 2.5l-.94 2.06-2.06.94zm10 10l.94 2.06.94-2.06 2.06-.94-2.06-.94-.94-2.06-.94 2.06-2.06.94z\"/><path d=\"M17.41 7.96l-1.37-1.37c-.4-.4-.92-.59-1.43-.59-.52 0-1.04.2-1.43.59L10.3 9.45l-7.72 7.72c-.78.78-.78 2.05 0 2.83L4 21.41c.39.39.9.59 1.41.59.51 0 1.02-.2 1.41-.59l7.78-7.78 2.81-2.81c.8-.78.8-2.07 0-2.86zM5.41 20L4 18.59l7.72-7.72 1.47 1.35L5.41 20z\"/>\n",
              "  </svg>\n",
              "      </button>\n",
              "      \n",
              "  <style>\n",
              "    .colab-df-container {\n",
              "      display:flex;\n",
              "      flex-wrap:wrap;\n",
              "      gap: 12px;\n",
              "    }\n",
              "\n",
              "    .colab-df-convert {\n",
              "      background-color: #E8F0FE;\n",
              "      border: none;\n",
              "      border-radius: 50%;\n",
              "      cursor: pointer;\n",
              "      display: none;\n",
              "      fill: #1967D2;\n",
              "      height: 32px;\n",
              "      padding: 0 0 0 0;\n",
              "      width: 32px;\n",
              "    }\n",
              "\n",
              "    .colab-df-convert:hover {\n",
              "      background-color: #E2EBFA;\n",
              "      box-shadow: 0px 1px 2px rgba(60, 64, 67, 0.3), 0px 1px 3px 1px rgba(60, 64, 67, 0.15);\n",
              "      fill: #174EA6;\n",
              "    }\n",
              "\n",
              "    [theme=dark] .colab-df-convert {\n",
              "      background-color: #3B4455;\n",
              "      fill: #D2E3FC;\n",
              "    }\n",
              "\n",
              "    [theme=dark] .colab-df-convert:hover {\n",
              "      background-color: #434B5C;\n",
              "      box-shadow: 0px 1px 3px 1px rgba(0, 0, 0, 0.15);\n",
              "      filter: drop-shadow(0px 1px 2px rgba(0, 0, 0, 0.3));\n",
              "      fill: #FFFFFF;\n",
              "    }\n",
              "  </style>\n",
              "\n",
              "      <script>\n",
              "        const buttonEl =\n",
              "          document.querySelector('#df-eb490ff6-7cb0-416a-8236-bc979c5bf765 button.colab-df-convert');\n",
              "        buttonEl.style.display =\n",
              "          google.colab.kernel.accessAllowed ? 'block' : 'none';\n",
              "\n",
              "        async function convertToInteractive(key) {\n",
              "          const element = document.querySelector('#df-eb490ff6-7cb0-416a-8236-bc979c5bf765');\n",
              "          const dataTable =\n",
              "            await google.colab.kernel.invokeFunction('convertToInteractive',\n",
              "                                                     [key], {});\n",
              "          if (!dataTable) return;\n",
              "\n",
              "          const docLinkHtml = 'Like what you see? Visit the ' +\n",
              "            '<a target=\"_blank\" href=https://colab.research.google.com/notebooks/data_table.ipynb>data table notebook</a>'\n",
              "            + ' to learn more about interactive tables.';\n",
              "          element.innerHTML = '';\n",
              "          dataTable['output_type'] = 'display_data';\n",
              "          await google.colab.output.renderOutput(dataTable, element);\n",
              "          const docLink = document.createElement('div');\n",
              "          docLink.innerHTML = docLinkHtml;\n",
              "          element.appendChild(docLink);\n",
              "        }\n",
              "      </script>\n",
              "    </div>\n",
              "  </div>\n",
              "  "
            ]
          },
          "metadata": {}
        }
      ]
    },
    {
      "cell_type": "markdown",
      "source": [
        "# Cut Tails with on wanted data"
      ],
      "metadata": {
        "id": "5sb_5ed27RQH"
      }
    },
    {
      "cell_type": "markdown",
      "source": [
        "## Calculate the average value of groups"
      ],
      "metadata": {
        "id": "mqaottXF7cAP"
      }
    },
    {
      "cell_type": "code",
      "source": [
        "def prime_number_finder(stop_gap, total_num_of_data):\n",
        "  prime_nums = []\n",
        "  i=2\n",
        "  while i <= stop_gap:\n",
        "    if (total_num_of_data % i==0):\n",
        "      prime_nums.append(i)\n",
        "      break\n",
        "    i+=1\n",
        "  return prime_nums\n",
        "\n",
        "def aggreagator_v2(df, stop_gap=50):\n",
        "  total_num_of_data = df.shape[1]\n",
        "  arr_prime = prime_number_finder(stop_gap, total_num_of_data)\n",
        "  #agg_num = np.max(arr_prime)\n",
        "  agg_num = arr_prime[0]\n",
        "\n",
        "  # Creating new df of aggregate values\n",
        "  agg_df = pd.DataFrame()\n",
        "\n",
        "  mid_point = df.shape[1]/2\n",
        "\n",
        "  agg=0\n",
        "  loop_cnt=0\n",
        "  init_column_cnt = 5\n",
        "  while agg<=total_num_of_data:\n",
        "    loop_cnt+=1\n",
        "    # Obtain current last columns stop\n",
        "    agg=agg_num+init_column_cnt\n",
        "    # Select working columns\n",
        "    new_df = df[df.columns[init_column_cnt:agg]]\n",
        "\n",
        "    init_column_cnt += (agg_num)\n",
        "\n",
        "    headers = list(new_df.columns.values) \n",
        "    if loop_cnt <= mid_point:\n",
        "      # Get average of freq values for new header\n",
        "      new_header_name  = headers[-1]\n",
        "    else:\n",
        "      new_header_name = headers[0]\n",
        "    \n",
        "    # Add aggragated values to new df\n",
        "    agg_df[str(new_header_name)] = new_df.mean(axis = 1)\n",
        "  return agg_df"
      ],
      "metadata": {
        "id": "jJ0ARUa0iLyx"
      },
      "execution_count": 116,
      "outputs": []
    },
    {
      "cell_type": "markdown",
      "source": [
        "## Select the first sample for testing of the mean values"
      ],
      "metadata": {
        "id": "YBZTkz8A8AQe"
      }
    },
    {
      "cell_type": "markdown",
      "source": [
        "## Remove tails selectors (return the headers fromt where the data should be selected"
      ],
      "metadata": {
        "id": "6dWAxqsO8VkR"
      }
    },
    {
      "cell_type": "code",
      "source": [
        "def remove_tail(df, cut_val):\n",
        "  columns_selected = []\n",
        "  old_val = 0\n",
        "  delta = 0\n",
        "  mid_point = int(df.shape[1]/2)\n",
        "  cols_headers  =list(df.columns.values)\n",
        "\n",
        "  for i in range(0, df.shape[1]):\n",
        "    if i == 0:\n",
        "      cell_val = df.iloc[[0], i]\n",
        "      old_val = cell_val[0]\n",
        "    else:\n",
        "      cell_val = df.iloc[[0], i]\n",
        "      val = cell_val[0]\n",
        "      delta = abs(old_val-val)\n",
        "      old_val = val\n",
        "      if delta > cut_val:\n",
        "        if i <= mid_point:\n",
        "          col_name_selected = cols_headers[i+2]\n",
        "        else:\n",
        "          col_name_selected = cols_headers[i-2]\n",
        "          col_name_selected = round(float(col_name_selected), 5)\n",
        "        columns_selected.append(str(col_name_selected))\n",
        "\n",
        "  return columns_selected"
      ],
      "metadata": {
        "id": "g65aVEiAq-Tk"
      },
      "execution_count": 117,
      "outputs": []
    },
    {
      "cell_type": "code",
      "source": [
        "# Removing tails conducting multiples loops with variable cutoff value until we get only two columns\n",
        "def remove_tail_main(df, cut_val=0):\n",
        "  old_drop_cols = []\n",
        "  drop_cols = remove_tail(df, cut_val)\n",
        "  while len(drop_cols) != 2:  \n",
        "    # If len of columns to be dropped are 0 the select the 2 values smaller and bigger of the previous iteration\n",
        "    if len(drop_cols) == 0 or len(drop_cols) == 1:\n",
        "      str_to_float = [round(float(i), 5) for i in old_drop_cols]\n",
        "      drop_cols = [str(np.min(str_to_float)), str(np.max(str_to_float))]\n",
        "      break\n",
        "    else:\n",
        "      old_drop_cols = drop_cols\n",
        "      drop_cols = remove_tail(df, cut_val)\n",
        "      cut_val += 2\n",
        "  return drop_cols"
      ],
      "metadata": {
        "id": "zUgNgowBhiyf"
      },
      "execution_count": 118,
      "outputs": []
    },
    {
      "cell_type": "code",
      "source": [
        "def get_working_data_idx(df_mean_sample, sample_id, cut_val = 0):\n",
        "\n",
        "  df = df_mean_sample.iloc[[sample_id - 1]]\n",
        "\n",
        "  smoothed_2dg = savgol_filter(df, window_length = 5, polyorder = 2)\n",
        "  smoothed_df = pd.DataFrame(smoothed_2dg)\n",
        "\n",
        "  # Adding back headers to the smoothed data\n",
        "  rename_col = {}\n",
        "  cnt = 0\n",
        "  for col in df.columns:\n",
        "    h_col = round(float(col), 5)\n",
        "    rename_col[cnt] = str(h_col)\n",
        "    cnt += 1\n",
        "\n",
        "  smoothed_df.rename(columns=rename_col, inplace=True)\n",
        "\n",
        "  agg_df = aggreagator_v2(smoothed_df)\n",
        "\n",
        "  col_vals = remove_tail_main(agg_df, cut_val=cut_val)\n",
        "\n",
        "  left_index_no = smoothed_df.columns.get_loc(col_vals[0])\n",
        "  rigth_index_no = smoothed_df.columns.get_loc(col_vals[1])\n",
        "\n",
        "  return left_index_no, rigth_index_no"
      ],
      "metadata": {
        "id": "ZWPjDoClAYfF"
      },
      "execution_count": 119,
      "outputs": []
    },
    {
      "cell_type": "code",
      "source": [
        "df_mean_sample = df_13_samples.groupby(['PBRS_id']).mean()\n",
        "df_mean_sample = df_mean_sample.drop(['row', 'Channels', 'Distance_km', 'power_dBm'], axis = 1)\n",
        "cut_point = {}\n",
        "print('Calculating the cutoff values:')\n",
        "for sample in tqdm(df_mean_sample.index):\n",
        "  left_index_no, rigth_index_no = get_working_data_idx(df_mean_sample, sample_id = sample)\n",
        "  cut_point[sample] = (left_index_no, rigth_index_no)"
      ],
      "metadata": {
        "colab": {
          "base_uri": "https://localhost:8080/"
        },
        "id": "vsFa95lo5ovi",
        "outputId": "1ac529c6-8c2e-452a-f92d-ed3ab02c7d95"
      },
      "execution_count": 120,
      "outputs": [
        {
          "output_type": "stream",
          "name": "stdout",
          "text": [
            "Calculating the cutoff values:\n"
          ]
        },
        {
          "output_type": "stream",
          "name": "stderr",
          "text": [
            "100%|██████████| 13/13 [00:09<00:00,  1.34it/s]\n"
          ]
        }
      ]
    },
    {
      "cell_type": "code",
      "source": [
        "print(cut_point)"
      ],
      "metadata": {
        "colab": {
          "base_uri": "https://localhost:8080/"
        },
        "id": "YNtJ90bc6O_8",
        "outputId": "017d60b1-360d-4d78-df5a-4bfb955fed68"
      },
      "execution_count": 121,
      "outputs": [
        {
          "output_type": "stream",
          "name": "stdout",
          "text": [
            "{1: (238, 2357), 2: (238, 2344), 3: (251, 2331), 4: (251, 2318), 5: (238, 2357), 6: (238, 2344), 7: (251, 2331), 8: (251, 2331), 9: (238, 2357), 10: (238, 2357), 11: (238, 2344), 12: (251, 2331), 13: (277, 2318)}\n"
          ]
        }
      ]
    },
    {
      "cell_type": "code",
      "source": [
        "test_df = df_mean_sample.iloc[[0]]\n",
        "sample_1 = test_df.iloc[0].squeeze()\n",
        "sample_1.plot()\n",
        "plt.show()"
      ],
      "metadata": {
        "colab": {
          "base_uri": "https://localhost:8080/",
          "height": 268
        },
        "id": "QxYsuh3AG-B9",
        "outputId": "6df3c3d3-5b53-4e00-a5a3-ee117e2b364b"
      },
      "execution_count": 122,
      "outputs": [
        {
          "output_type": "display_data",
          "data": {
            "text/plain": [
              "<Figure size 432x288 with 1 Axes>"
            ],
            "image/png": "[encoded data removed]"
          },
          "metadata": {
            "needs_background": "light"
          }
        }
      ]
    },
    {
      "cell_type": "code",
      "source": [
        "smoothed_2dg = savgol_filter(test_df, window_length = 5, polyorder = 2)\n",
        "gfg = pd.Series(smoothed_2dg[0])\n",
        "gfg.plot()\n",
        "plt.show()"
      ],
      "metadata": {
        "colab": {
          "base_uri": "https://localhost:8080/",
          "height": 265
        },
        "id": "pqofq7g3G-sF",
        "outputId": "521d7fdb-633c-47ca-d583-7f8a85383d70"
      },
      "execution_count": 123,
      "outputs": [
        {
          "output_type": "display_data",
          "data": {
            "text/plain": [
              "<Figure size 432x288 with 1 Axes>"
            ],
            "image/png": "[encoded data removed]"
          },
          "metadata": {
            "needs_background": "light"
          }
        }
      ]
    },
    {
      "cell_type": "code",
      "source": [
        "# Selecting only the working file of the after cut of tails\n",
        "working_df = df_mean_sample.iloc[0, cut_point[1][0]:cut_point[1][1]]"
      ],
      "metadata": {
        "id": "zwf1FsgMUiJb"
      },
      "execution_count": 124,
      "outputs": []
    },
    {
      "cell_type": "code",
      "source": [
        "sample_df = df_13_samples[df_13_samples['PBRS_id'] == 1]\n",
        "first_cols_df = sample_df.iloc[:, 0:6]\n",
        "working_df = sample_df.iloc[:, cut_point[1][0]+6:cut_point[1][1]+6]\n",
        "merge_df = pd.merge(first_cols_df, working_df, left_index=True, right_index=True)"
      ],
      "metadata": {
        "id": "8-upXl4cH3JU"
      },
      "execution_count": 125,
      "outputs": []
    },
    {
      "cell_type": "code",
      "source": [
        "# Pearson correlation\n",
        "#-1 indicates a perfectly negative linear correlation between two variables\n",
        "#0 indicates no linear correlation between two variables\n",
        "#1 indicates a perfectly positive linear correlation between two variables\n",
        "\n",
        "samples_pearson_cor_arr = {}\n",
        "\n",
        "cnt_first_row = 0\n",
        "counter = 1\n",
        "print('Calculating Pearson Correlation for data samples:')\n",
        "for sample_id in tqdm(df_13_samples['PBRS_id'].unique()):\n",
        "\n",
        "  sample_df = df_13_samples[df_13_samples['PBRS_id'] == sample_id]\n",
        "  first_cols_df = sample_df.iloc[:, 0:6]\n",
        "  working_df = sample_df.iloc[:, cut_point[sample_id][0]+6:cut_point[sample_id][1]+6]\n",
        "  merge_df = pd.merge(first_cols_df, working_df, left_index=True, right_index=True)\n",
        "\n",
        "  var1 = merge_df.iloc[0, 7:merge_df.shape[1]]\n",
        "  series1 = var1.to_frame()\n",
        "  vals_1 = series1[cnt_first_row*25].tolist()\n",
        "  cnt_first_row += 1\n",
        "\n",
        "  distance_cnt = 0\n",
        "  pearson_cor_arr = {}\n",
        "\n",
        "  for index, row in merge_df.iterrows():\n",
        "    if distance_cnt != 0:\n",
        "      rslt_df = merge_df[merge_df['row'] == counter]\n",
        "      var2 = rslt_df.iloc[0, 7:merge_df.shape[1]]\n",
        "      series2 = var2.to_frame()\n",
        "      vals_2 = series2[index].tolist()\n",
        "\n",
        "      pearson_cor = np.corrcoef(vals_1, vals_2)[0,1]\n",
        "      pearson_cor_arr[80*distance_cnt] = pearson_cor\n",
        "\n",
        "    distance_cnt += 1\n",
        "    counter += 1\n",
        "  samples_pearson_cor_arr[sample_id] = pearson_cor_arr"
      ],
      "metadata": {
        "colab": {
          "base_uri": "https://localhost:8080/"
        },
        "id": "LmxXMuv4K_I1",
        "outputId": "57aa919c-0501-4b20-be3e-062e54343180"
      },
      "execution_count": 126,
      "outputs": [
        {
          "output_type": "stream",
          "name": "stdout",
          "text": [
            "Calculating Pearson Correlation for data samples:\n"
          ]
        },
        {
          "output_type": "stream",
          "name": "stderr",
          "text": [
            "100%|██████████| 13/13 [00:01<00:00, 10.95it/s]\n"
          ]
        }
      ]
    },
    {
      "cell_type": "code",
      "source": [
        "samples_pearson_cor_arr"
      ],
      "metadata": {
        "colab": {
          "base_uri": "https://localhost:8080/"
        },
        "id": "Vpy63xbhPfbn",
        "outputId": "76874a28-db86-425c-ea55-4087bcd9327c"
      },
      "execution_count": 127,
      "outputs": [
        {
          "output_type": "execute_result",
          "data": {
            "text/plain": [
              "{1: {80: 0.04641077606446756,\n",
              "  160: 0.05005247851499939,\n",
              "  240: 0.10102330461901668,\n",
              "  320: 0.06805315835907161,\n",
              "  400: 0.07649144502393601,\n",
              "  480: 0.09754581373356093,\n",
              "  560: 0.06842129975866199,\n",
              "  640: 0.08424852804006737,\n",
              "  720: 0.01773387291359962,\n",
              "  800: 0.9933024426184994,\n",
              "  880: 0.059947121236812166,\n",
              "  960: 0.06581102980441182,\n",
              "  1040: 0.11438155198480973,\n",
              "  1120: 0.08333186712695102,\n",
              "  1200: 0.08956322242716727,\n",
              "  1280: 0.10945573082414746,\n",
              "  1360: 0.08466205226910868,\n",
              "  1440: 0.09583106915115573,\n",
              "  1520: 0.03269310624142061,\n",
              "  1600: 0.9828163110014501,\n",
              "  1680: 0.07271847681512653,\n",
              "  1760: 0.07916120269102885,\n",
              "  1840: 0.12853218422512294,\n",
              "  1920: 0.103584419306046},\n",
              " 2: {80: 0.06653169534799076,\n",
              "  160: 0.11828006727910047,\n",
              "  240: 0.11798661314789634,\n",
              "  320: 0.1237650475253136,\n",
              "  400: 0.11358095484375903,\n",
              "  480: 0.10972863868511919,\n",
              "  560: 0.13611899867135777,\n",
              "  640: 0.08688208680972558,\n",
              "  720: 0.10336544238153345,\n",
              "  800: 0.9941703671268789,\n",
              "  880: 0.08112782523676952,\n",
              "  960: 0.1337720354964424,\n",
              "  1040: 0.13710619305273777,\n",
              "  1120: 0.1395871009809696,\n",
              "  1200: 0.1291428590555711,\n",
              "  1280: 0.12486631066667782,\n",
              "  1360: 0.1493299576248288,\n",
              "  1440: 0.10150020857249913,\n",
              "  1520: 0.120782979101539,\n",
              "  1600: 0.9817779779161602,\n",
              "  1680: 0.10126872859830079,\n",
              "  1760: 0.14852581106976662,\n",
              "  1840: 0.15879275311574728,\n",
              "  1920: 0.15613000732104748},\n",
              " 3: {80: 0.10163567928495902,\n",
              "  160: 0.11723184819195398,\n",
              "  240: 0.1595641591401163,\n",
              "  320: 0.12431056582667684,\n",
              "  400: 0.13305792772652,\n",
              "  480: 0.15194481960982817,\n",
              "  560: 0.14328081983205534,\n",
              "  640: 0.12921408063732515,\n",
              "  720: 0.08429053377221239,\n",
              "  800: 0.995361983726205,\n",
              "  880: 0.11273036419301938,\n",
              "  960: 0.1275764974120751,\n",
              "  1040: 0.17420836913022586,\n",
              "  1120: 0.135953074463223,\n",
              "  1200: 0.1444474571492411,\n",
              "  1280: 0.16463002341686453,\n",
              "  1360: 0.15766974712639503,\n",
              "  1440: 0.14510033800844518,\n",
              "  1520: 0.0976280993323298,\n",
              "  1600: 0.9874352721085875,\n",
              "  1680: 0.1259547465689781,\n",
              "  1760: 0.13939378648796402,\n",
              "  1840: 0.18765102907161446,\n",
              "  1920: 0.14911632420594426},\n",
              " 4: {80: 0.12102486945328787,\n",
              "  160: 0.1504993369864085,\n",
              "  240: 0.16189647538743512,\n",
              "  320: 0.17389097856534533,\n",
              "  400: 0.15841497617417222,\n",
              "  480: 0.14205031002045423,\n",
              "  560: 0.1789126844682745,\n",
              "  640: 0.1405384542189945,\n",
              "  720: 0.14333967282929513,\n",
              "  800: 0.9957624444286624,\n",
              "  880: 0.1300402501636581,\n",
              "  960: 0.1664351825788738,\n",
              "  1040: 0.17628921736605094,\n",
              "  1120: 0.18733152225698216,\n",
              "  1200: 0.17357962089279566,\n",
              "  1280: 0.1569819900413122,\n",
              "  1360: 0.1916209320184881,\n",
              "  1440: 0.15534340536130142,\n",
              "  1520: 0.15477654838569807,\n",
              "  1600: 0.9892366740388834,\n",
              "  1680: 0.14520251727761327,\n",
              "  1760: 0.17971288372113528,\n",
              "  1840: 0.18419266496423625,\n",
              "  1920: 0.19948163119454387},\n",
              " 5: {80: 0.40324671055626454,\n",
              "  160: 0.4156711494027564,\n",
              "  240: 0.45940081993350135,\n",
              "  320: 0.4296391546689641,\n",
              "  400: 0.4366000478934093,\n",
              "  480: 0.4485382681159138,\n",
              "  560: 0.4449625173725139,\n",
              "  640: 0.42491418786946633,\n",
              "  720: 0.4025315599158228,\n",
              "  800: 0.13602426264442713,\n",
              "  880: 0.15300212462772536,\n",
              "  960: 0.1501013037128316,\n",
              "  1040: 0.17444704285395798,\n",
              "  1120: 0.16456544300507578,\n",
              "  1200: 0.1458671725389039,\n",
              "  1280: 0.14084421364363897,\n",
              "  1360: 0.12347143407368587,\n",
              "  1440: 0.14549187027364724,\n",
              "  1520: 0.1193830914970056,\n",
              "  1600: 0.1766748710082362,\n",
              "  1680: 0.19693999062199463,\n",
              "  1760: 0.19081679390497094,\n",
              "  1840: 0.2133447910820441,\n",
              "  1920: 0.20351988812908442},\n",
              " 6: {80: 0.060086429073684076,\n",
              "  160: 0.04755780069739614,\n",
              "  240: 0.0906403123174586,\n",
              "  320: 0.08939308482578284,\n",
              "  400: 0.04554061226423257,\n",
              "  480: 0.04621396124082724,\n",
              "  560: 0.08212133975098529,\n",
              "  640: 0.05643036510483215,\n",
              "  720: 0.09133808779242189,\n",
              "  800: 0.9938269054648524,\n",
              "  880: 0.07408346032810094,\n",
              "  960: 0.05915745128104049,\n",
              "  1040: 0.10273971950206101,\n",
              "  1120: 0.10335998995749211,\n",
              "  1200: 0.05742702920391481,\n",
              "  1280: 0.06071433303606349,\n",
              "  1360: 0.09169307282639505,\n",
              "  1440: 0.07026488082407047,\n",
              "  1520: 0.10393946492098222,\n",
              "  1600: 0.9856240774089352,\n",
              "  1680: 0.08415825849982984,\n",
              "  1760: 0.06683501439407352,\n",
              "  1840: 0.11069514304751651,\n",
              "  1920: 0.10909690295441783},\n",
              " 7: {80: 0.08830267194265855,\n",
              "  160: 0.11875503186087523,\n",
              "  240: 0.1256238607554691,\n",
              "  320: 0.093646007080694,\n",
              "  400: 0.06295661801032701,\n",
              "  480: 0.05919777303282364,\n",
              "  560: 0.12554480809495525,\n",
              "  640: 0.08252618081525334,\n",
              "  720: 0.042645996055157384,\n",
              "  800: 0.9934261623578676,\n",
              "  880: 0.10283640768005817,\n",
              "  960: 0.12913970438651934,\n",
              "  1040: 0.13549362805111353,\n",
              "  1120: 0.10278337630392197,\n",
              "  1200: 0.07154631866046472,\n",
              "  1280: 0.07259446688816495,\n",
              "  1360: 0.1387761722599781,\n",
              "  1440: 0.09269939290497295,\n",
              "  1520: 0.05271498266823681,\n",
              "  1600: 0.9872807268617532,\n",
              "  1680: 0.11751334517747337,\n",
              "  1760: 0.13922897363267084,\n",
              "  1840: 0.14427695966143797,\n",
              "  1920: 0.11616506097629879},\n",
              " 8: {80: 0.14123304534199296,\n",
              "  160: 0.1337804808225528,\n",
              "  240: 0.150833652997088,\n",
              "  320: 0.15444516762154445,\n",
              "  400: 0.1335283359168149,\n",
              "  480: 0.14263674791943365,\n",
              "  560: 0.1720482223196046,\n",
              "  640: 0.1577670601071307,\n",
              "  720: 0.17195841818220023,\n",
              "  800: 0.9909248563654603,\n",
              "  880: 0.1501546057647479,\n",
              "  960: 0.14367319664927455,\n",
              "  1040: 0.16561533697985162,\n",
              "  1120: 0.1647877287861837,\n",
              "  1200: 0.1537613821156099,\n",
              "  1280: 0.15481206203829564,\n",
              "  1360: 0.18272335415951604,\n",
              "  1440: 0.16867474717014688,\n",
              "  1520: 0.1809464238757403,\n",
              "  1600: 0.9865131444757431,\n",
              "  1680: 0.1670898788407602,\n",
              "  1760: 0.1572907019810861,\n",
              "  1840: 0.17769217495036993,\n",
              "  1920: 0.1775938707749309},\n",
              " 9: {80: 0.41508845555373336,\n",
              "  160: 0.4289429786891427,\n",
              "  240: 0.43524811466072805,\n",
              "  320: 0.4143636309036353,\n",
              "  400: 0.3865331012233853,\n",
              "  480: 0.38973632452061274,\n",
              "  560: 0.42438940648320156,\n",
              "  640: 0.39270380859995363,\n",
              "  720: 0.3797311850349576,\n",
              "  800: 0.9898135321342818,\n",
              "  880: 0.43042632782877177,\n",
              "  960: 0.443259222637485,\n",
              "  1040: 0.44457757870140263,\n",
              "  1120: 0.42664038476613475,\n",
              "  1200: 0.394290187256324,\n",
              "  1280: 0.40542763988974745,\n",
              "  1360: 0.4331826958803211,\n",
              "  1440: 0.4014068801006866,\n",
              "  1520: 0.3946570030014437,\n",
              "  1600: 0.16118661086113412,\n",
              "  1680: 0.14033676209755383,\n",
              "  1760: 0.1273299673672097,\n",
              "  1840: 0.13961183678167083,\n",
              "  1920: 0.1347271820366151},\n",
              " 10: {80: 0.04188451078240592,\n",
              "  160: 0.09657132470462909,\n",
              "  240: 0.09084893429412814,\n",
              "  320: 0.06669079834398943,\n",
              "  400: 0.0893141245579831,\n",
              "  480: 0.11276800553590893,\n",
              "  560: 0.06131585849571629,\n",
              "  640: 0.030381946673534936,\n",
              "  720: 0.055731673136957344,\n",
              "  800: 0.9946485505230814,\n",
              "  880: 0.05887375990397532,\n",
              "  960: 0.11626752066894416,\n",
              "  1040: 0.10422124295232295,\n",
              "  1120: 0.08051932224107654,\n",
              "  1200: 0.09697306061513103,\n",
              "  1280: 0.1256190648554034,\n",
              "  1360: 0.07682115172944282,\n",
              "  1440: 0.04444548704612207,\n",
              "  1520: 0.07152371463262962,\n",
              "  1600: 0.9858379608741493,\n",
              "  1680: 0.06975370040834808,\n",
              "  1760: 0.1288212388150333,\n",
              "  1840: 0.11977867186807171,\n",
              "  1920: 0.09732013117392634},\n",
              " 11: {80: 0.151037821887096,\n",
              "  160: 0.10804582887538487,\n",
              "  240: 0.12513767655451832,\n",
              "  320: 0.11736797753562035,\n",
              "  400: 0.11065085231813673,\n",
              "  480: 0.13737734151841693,\n",
              "  560: 0.16054181905734483,\n",
              "  640: 0.09089097577865954,\n",
              "  720: 0.09113956119714603,\n",
              "  800: 0.99432329105885,\n",
              "  880: 0.16750088185046555,\n",
              "  960: 0.12491927577914629,\n",
              "  1040: 0.1425051636313789,\n",
              "  1120: 0.13598759889748144,\n",
              "  1200: 0.12998880567990773,\n",
              "  1280: 0.1558255540837185,\n",
              "  1360: 0.17799204091854878,\n",
              "  1440: 0.10819950660865015,\n",
              "  1520: 0.10870780821212894,\n",
              "  1600: 0.986116472284608,\n",
              "  1680: 0.1859012204685832,\n",
              "  1760: 0.14161468712734038,\n",
              "  1840: 0.15865001524172795,\n",
              "  1920: 0.15441614005396997},\n",
              " 12: {80: 0.08215962802423599,\n",
              "  160: 0.14833403678479767,\n",
              "  240: 0.1170055513970445,\n",
              "  320: 0.10109431334158935,\n",
              "  400: 0.12337933933914916,\n",
              "  480: 0.161087861083381,\n",
              "  560: 0.09031093317036926,\n",
              "  640: 0.06489991612748296,\n",
              "  720: 0.08682199343534859,\n",
              "  800: 0.9924389774351232,\n",
              "  880: 0.09890646401303901,\n",
              "  960: 0.16669688855006662,\n",
              "  1040: 0.12983300472915826,\n",
              "  1120: 0.11518907657472156,\n",
              "  1200: 0.1304854174219839,\n",
              "  1280: 0.17648709217128042,\n",
              "  1360: 0.0991652022221142,\n",
              "  1440: 0.0731940815469089,\n",
              "  1520: 0.10113280682928937,\n",
              "  1600: 0.9815738167072365,\n",
              "  1680: 0.11896081012172226,\n",
              "  1760: 0.17637533559873902,\n",
              "  1840: 0.13699973680505462,\n",
              "  1920: 0.12194844889565935},\n",
              " 13: {80: 0.16308389929991313,\n",
              "  160: 0.12162021824880703,\n",
              "  240: 0.13366485910311815,\n",
              "  320: 0.13026208011311294,\n",
              "  400: 0.11355002912554799,\n",
              "  480: 0.14177423745289008,\n",
              "  560: 0.1569787588420456,\n",
              "  640: 0.08336279816469527,\n",
              "  720: 0.09417994981566284,\n",
              "  800: 0.9919720959692622,\n",
              "  880: 0.16776095690439205,\n",
              "  960: 0.13068409367013006,\n",
              "  1040: 0.14200820603496897,\n",
              "  1120: 0.14292351480540966,\n",
              "  1200: 0.12275295844590213,\n",
              "  1280: 0.14952618490714661,\n",
              "  1360: 0.16231547120645956,\n",
              "  1440: 0.09054756775533132,\n",
              "  1520: 0.10404086559333972,\n",
              "  1600: 0.9826476273413418,\n",
              "  1680: 0.17941601117277742,\n",
              "  1760: 0.14922944739950306,\n",
              "  1840: 0.15123411325031985,\n",
              "  1920: 0.15020476093451834}}"
            ]
          },
          "metadata": {},
          "execution_count": 127
        }
      ]
    }
  ]
}