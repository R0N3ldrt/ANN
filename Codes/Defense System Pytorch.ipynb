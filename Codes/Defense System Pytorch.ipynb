{
  "nbformat": 4,
  "nbformat_minor": 0,
  "metadata": {
    "kernelspec": {
      "display_name": "Python 3",
      "language": "python",
      "name": "python3"
    },
    "language_info": {
      "codemirror_mode": {
        "name": "ipython",
        "version": 3
      },
      "file_extension": ".py",
      "mimetype": "text/x-python",
      "name": "python",
      "nbconvert_exporter": "python",
      "pygments_lexer": "ipython3",
      "version": "3.6.9"
    },
    "colab": {
      "name": "vanilla_defense_system_pytorch.ipynb",
      "provenance": [],
      "collapsed_sections": []
    },
    "accelerator": "GPU",
    "widgets": {
      "application/vnd.jupyter.widget-state+json": {
        "55a72f4f6d0a48a8b6887279969bb445": {
          "model_module": "@jupyter-widgets/controls",
          "model_name": "HBoxModel",
          "model_module_version": "1.5.0",
          "state": {
            "_view_name": "HBoxView",
            "_dom_classes": [],
            "_model_name": "HBoxModel",
            "_view_module": "@jupyter-widgets/controls",
            "_model_module_version": "1.5.0",
            "_view_count": null,
            "_view_module_version": "1.5.0",
            "box_style": "",
            "layout": "IPY_MODEL_d138f0cb513d41c6942ae7aa8560e317",
            "_model_module": "@jupyter-widgets/controls",
            "children": [
              "IPY_MODEL_6658f45520fc4f6db8a6b8c1ecadbef8",
              "IPY_MODEL_3c079215414045d3bede21c5c91d2971",
              "IPY_MODEL_a5c35f37dc6f485e858cc8bd99636565"
            ]
          }
        },
        "d138f0cb513d41c6942ae7aa8560e317": {
          "model_module": "@jupyter-widgets/base",
          "model_name": "LayoutModel",
          "model_module_version": "1.2.0",
          "state": {
            "_view_name": "LayoutView",
            "grid_template_rows": null,
            "right": null,
            "justify_content": null,
            "_view_module": "@jupyter-widgets/base",
            "overflow": null,
            "_model_module_version": "1.2.0",
            "_view_count": null,
            "flex_flow": null,
            "width": null,
            "min_width": null,
            "border": null,
            "align_items": null,
            "bottom": null,
            "_model_module": "@jupyter-widgets/base",
            "top": null,
            "grid_column": null,
            "overflow_y": null,
            "overflow_x": null,
            "grid_auto_flow": null,
            "grid_area": null,
            "grid_template_columns": null,
            "flex": null,
            "_model_name": "LayoutModel",
            "justify_items": null,
            "grid_row": null,
            "max_height": null,
            "align_content": null,
            "visibility": null,
            "align_self": null,
            "height": null,
            "min_height": null,
            "padding": null,
            "grid_auto_rows": null,
            "grid_gap": null,
            "max_width": null,
            "order": null,
            "_view_module_version": "1.2.0",
            "grid_template_areas": null,
            "object_position": null,
            "object_fit": null,
            "grid_auto_columns": null,
            "margin": null,
            "display": null,
            "left": null
          }
        },
        "6658f45520fc4f6db8a6b8c1ecadbef8": {
          "model_module": "@jupyter-widgets/controls",
          "model_name": "HTMLModel",
          "model_module_version": "1.5.0",
          "state": {
            "_view_name": "HTMLView",
            "style": "IPY_MODEL_3f0e1338c4a44236b953c80c01e43d92",
            "_dom_classes": [],
            "description": "",
            "_model_name": "HTMLModel",
            "placeholder": "​",
            "_view_module": "@jupyter-widgets/controls",
            "_model_module_version": "1.5.0",
            "value": "100%",
            "_view_count": null,
            "_view_module_version": "1.5.0",
            "description_tooltip": null,
            "_model_module": "@jupyter-widgets/controls",
            "layout": "IPY_MODEL_a6f4d259c7f04c928a6c11004f39c748"
          }
        },
        "3c079215414045d3bede21c5c91d2971": {
          "model_module": "@jupyter-widgets/controls",
          "model_name": "FloatProgressModel",
          "model_module_version": "1.5.0",
          "state": {
            "_view_name": "ProgressView",
            "style": "IPY_MODEL_8bb080f31814496b9ed6d706d00fd050",
            "_dom_classes": [],
            "description": "",
            "_model_name": "FloatProgressModel",
            "bar_style": "success",
            "max": 5000,
            "_view_module": "@jupyter-widgets/controls",
            "_model_module_version": "1.5.0",
            "value": 5000,
            "_view_count": null,
            "_view_module_version": "1.5.0",
            "orientation": "horizontal",
            "min": 0,
            "description_tooltip": null,
            "_model_module": "@jupyter-widgets/controls",
            "layout": "IPY_MODEL_b640fff161234bcba4d423ea1dff7346"
          }
        },
        "a5c35f37dc6f485e858cc8bd99636565": {
          "model_module": "@jupyter-widgets/controls",
          "model_name": "HTMLModel",
          "model_module_version": "1.5.0",
          "state": {
            "_view_name": "HTMLView",
            "style": "IPY_MODEL_426db8fb1a0a4692a16a1ca875cca080",
            "_dom_classes": [],
            "description": "",
            "_model_name": "HTMLModel",
            "placeholder": "​",
            "_view_module": "@jupyter-widgets/controls",
            "_model_module_version": "1.5.0",
            "value": " 5000/5000 [03:29&lt;00:00, 23.71it/s]",
            "_view_count": null,
            "_view_module_version": "1.5.0",
            "description_tooltip": null,
            "_model_module": "@jupyter-widgets/controls",
            "layout": "IPY_MODEL_d64846b40bf54fe0b697db651f093238"
          }
        },
        "3f0e1338c4a44236b953c80c01e43d92": {
          "model_module": "@jupyter-widgets/controls",
          "model_name": "DescriptionStyleModel",
          "model_module_version": "1.5.0",
          "state": {
            "_view_name": "StyleView",
            "_model_name": "DescriptionStyleModel",
            "description_width": "",
            "_view_module": "@jupyter-widgets/base",
            "_model_module_version": "1.5.0",
            "_view_count": null,
            "_view_module_version": "1.2.0",
            "_model_module": "@jupyter-widgets/controls"
          }
        },
        "a6f4d259c7f04c928a6c11004f39c748": {
          "model_module": "@jupyter-widgets/base",
          "model_name": "LayoutModel",
          "model_module_version": "1.2.0",
          "state": {
            "_view_name": "LayoutView",
            "grid_template_rows": null,
            "right": null,
            "justify_content": null,
            "_view_module": "@jupyter-widgets/base",
            "overflow": null,
            "_model_module_version": "1.2.0",
            "_view_count": null,
            "flex_flow": null,
            "width": null,
            "min_width": null,
            "border": null,
            "align_items": null,
            "bottom": null,
            "_model_module": "@jupyter-widgets/base",
            "top": null,
            "grid_column": null,
            "overflow_y": null,
            "overflow_x": null,
            "grid_auto_flow": null,
            "grid_area": null,
            "grid_template_columns": null,
            "flex": null,
            "_model_name": "LayoutModel",
            "justify_items": null,
            "grid_row": null,
            "max_height": null,
            "align_content": null,
            "visibility": null,
            "align_self": null,
            "height": null,
            "min_height": null,
            "padding": null,
            "grid_auto_rows": null,
            "grid_gap": null,
            "max_width": null,
            "order": null,
            "_view_module_version": "1.2.0",
            "grid_template_areas": null,
            "object_position": null,
            "object_fit": null,
            "grid_auto_columns": null,
            "margin": null,
            "display": null,
            "left": null
          }
        },
        "8bb080f31814496b9ed6d706d00fd050": {
          "model_module": "@jupyter-widgets/controls",
          "model_name": "ProgressStyleModel",
          "model_module_version": "1.5.0",
          "state": {
            "_view_name": "StyleView",
            "_model_name": "ProgressStyleModel",
            "description_width": "",
            "_view_module": "@jupyter-widgets/base",
            "_model_module_version": "1.5.0",
            "_view_count": null,
            "_view_module_version": "1.2.0",
            "bar_color": null,
            "_model_module": "@jupyter-widgets/controls"
          }
        },
        "b640fff161234bcba4d423ea1dff7346": {
          "model_module": "@jupyter-widgets/base",
          "model_name": "LayoutModel",
          "model_module_version": "1.2.0",
          "state": {
            "_view_name": "LayoutView",
            "grid_template_rows": null,
            "right": null,
            "justify_content": null,
            "_view_module": "@jupyter-widgets/base",
            "overflow": null,
            "_model_module_version": "1.2.0",
            "_view_count": null,
            "flex_flow": null,
            "width": null,
            "min_width": null,
            "border": null,
            "align_items": null,
            "bottom": null,
            "_model_module": "@jupyter-widgets/base",
            "top": null,
            "grid_column": null,
            "overflow_y": null,
            "overflow_x": null,
            "grid_auto_flow": null,
            "grid_area": null,
            "grid_template_columns": null,
            "flex": null,
            "_model_name": "LayoutModel",
            "justify_items": null,
            "grid_row": null,
            "max_height": null,
            "align_content": null,
            "visibility": null,
            "align_self": null,
            "height": null,
            "min_height": null,
            "padding": null,
            "grid_auto_rows": null,
            "grid_gap": null,
            "max_width": null,
            "order": null,
            "_view_module_version": "1.2.0",
            "grid_template_areas": null,
            "object_position": null,
            "object_fit": null,
            "grid_auto_columns": null,
            "margin": null,
            "display": null,
            "left": null
          }
        },
        "426db8fb1a0a4692a16a1ca875cca080": {
          "model_module": "@jupyter-widgets/controls",
          "model_name": "DescriptionStyleModel",
          "model_module_version": "1.5.0",
          "state": {
            "_view_name": "StyleView",
            "_model_name": "DescriptionStyleModel",
            "description_width": "",
            "_view_module": "@jupyter-widgets/base",
            "_model_module_version": "1.5.0",
            "_view_count": null,
            "_view_module_version": "1.2.0",
            "_model_module": "@jupyter-widgets/controls"
          }
        },
        "d64846b40bf54fe0b697db651f093238": {
          "model_module": "@jupyter-widgets/base",
          "model_name": "LayoutModel",
          "model_module_version": "1.2.0",
          "state": {
            "_view_name": "LayoutView",
            "grid_template_rows": null,
            "right": null,
            "justify_content": null,
            "_view_module": "@jupyter-widgets/base",
            "overflow": null,
            "_model_module_version": "1.2.0",
            "_view_count": null,
            "flex_flow": null,
            "width": null,
            "min_width": null,
            "border": null,
            "align_items": null,
            "bottom": null,
            "_model_module": "@jupyter-widgets/base",
            "top": null,
            "grid_column": null,
            "overflow_y": null,
            "overflow_x": null,
            "grid_auto_flow": null,
            "grid_area": null,
            "grid_template_columns": null,
            "flex": null,
            "_model_name": "LayoutModel",
            "justify_items": null,
            "grid_row": null,
            "max_height": null,
            "align_content": null,
            "visibility": null,
            "align_self": null,
            "height": null,
            "min_height": null,
            "padding": null,
            "grid_auto_rows": null,
            "grid_gap": null,
            "max_width": null,
            "order": null,
            "_view_module_version": "1.2.0",
            "grid_template_areas": null,
            "object_position": null,
            "object_fit": null,
            "grid_auto_columns": null,
            "margin": null,
            "display": null,
            "left": null
          }
        }
      }
    }
  },
  "cells": [
    {
      "cell_type": "markdown",
      "source": [
        "# Pytorch vanilla defense system\n",
        "---\n",
        "Translation from the Keras implementation into Pytorch. \n",
        "This code contains the Pytorch NNet used for predicting the distance to the sender given the GMM extracted features from the Constellation points.\n",
        "(Thus, the originally proposed defensive system)."
      ],
      "metadata": {
        "id": "bZrDIBsJ5hYk"
      }
    },
    {
      "cell_type": "code",
      "metadata": {
        "id": "GfuEbbKEwGel"
      },
      "source": [
        "# Libraries for correct code execution \n",
        "\n",
        "import os, time\n",
        "import pandas as pd\n",
        "import numpy as np\n",
        "import matplotlib.pyplot as plt\n",
        "from sklearn.model_selection import train_test_split\n",
        "from sklearn.preprocessing import MinMaxScaler\n",
        "from tqdm import tqdm_notebook\n",
        "\n",
        "import torch\n",
        "import torch.nn as nn\n",
        "import torch.nn.functional as F\n",
        "import torch.optim as optim\n",
        "from torch.utils.data import TensorDataset, DataLoader\n",
        "\n",
        "if not torch.cuda.is_available():\n",
        "    raise Exception(\"You should enagle GPU in the Runtime menu\")\n",
        "device = torch.device(\"cuda\")"
      ],
      "execution_count": 10,
      "outputs": []
    },
    {
      "cell_type": "code",
      "source": [
        "# Chunk to mount Google Drive on Google Colab \n",
        "\n",
        "# Google drive loading as work station for local-usage of the files.\n",
        "from google.colab import drive\n",
        "drive.mount('/content/gdrive',force_remount= True)\n",
        "\n",
        "#-----------------------------------------------------------------------------"
      ],
      "metadata": {
        "id": "FFsb8ApFr8Iu",
        "outputId": "de4009c1-5a74-425a-f9ea-90baaf75c31c",
        "colab": {
          "base_uri": "https://localhost:8080/"
        }
      },
      "execution_count": 2,
      "outputs": [
        {
          "output_type": "stream",
          "name": "stdout",
          "text": [
            "Mounted at /content/gdrive\n"
          ]
        }
      ]
    },
    {
      "cell_type": "code",
      "metadata": {
        "id": "5dV9f8L3wN6d"
      },
      "source": [
        "# List with the users that will execute the code.\n",
        "workers = [\"Ronald\", \"Local\"]\n",
        "\n",
        "# Modify index to change the user.\n",
        "worker = workers[0]\n",
        "\n",
        "if worker == \"Ronald\":\n",
        "  path= \"/content/gdrive/MyDrive/Thesis_Workstation/ANN_dataset\"\n",
        "else: path = os.getcwd()"
      ],
      "execution_count": 3,
      "outputs": []
    },
    {
      "cell_type": "code",
      "metadata": {
        "scrolled": false,
        "id": "u2fdloy7wGet",
        "colab": {
          "base_uri": "https://localhost:8080/"
        },
        "outputId": "6af64bcf-1c1e-4a7d-e221-fc42211cf2d9"
      },
      "source": [
        "# Reading the training data\n",
        "\n",
        "data_path=path+\"/trainingData\"\n",
        "file_name=\"training_data.csv\"\n",
        "df=pd.read_csv(data_path+'/'+file_name)\n",
        "print(df.shape)\n",
        "#print(df.head())"
      ],
      "execution_count": 4,
      "outputs": [
        {
          "output_type": "stream",
          "name": "stdout",
          "text": [
            "(625, 97)\n"
          ]
        }
      ]
    },
    {
      "cell_type": "code",
      "metadata": {
        "scrolled": true,
        "id": "hcVd_-wSwGew"
      },
      "source": [
        "# Formatting the training data.\n",
        "\n",
        "colnames=df.columns[1:25]\n",
        "# Target variable and train set\n",
        "X=df.iloc[:,1:25]\n",
        "#print(X.shape)\n",
        "#print(X.columns)\n",
        "Y=df.iloc[:,0].to_numpy().reshape(-1,1)\n",
        "#print(Y.shape)\n",
        "#print(Y.columns)\n",
        "\n",
        "#labels=[int(i) for i in df.iloc[:,0]]\n",
        "\n",
        "sc_input = MinMaxScaler()\n",
        "sc_output = MinMaxScaler()\n",
        "X_train = sc_input.fit_transform(X)\n",
        "Y_train = sc_output.fit_transform(Y)\n",
        "\n",
        "\n",
        "X_train = X_train.astype(np.float32)\n",
        "Y_train = Y_train.astype(np.float32)\n",
        "\n",
        "#print(X_train.shape)\n",
        "#print(X_train.shape)\n",
        "#print(Y_train.shape)\n",
        "#print(colnames)\n",
        "#print(labels)"
      ],
      "execution_count": 5,
      "outputs": []
    },
    {
      "cell_type": "code",
      "metadata": {
        "id": "P2yWNRV2Fz8V"
      },
      "source": [
        "# Creating the training dataset.\n",
        "\n",
        "inputs  = torch.tensor(X_train)\n",
        "targets = torch.tensor(Y_train)\n",
        "    \n",
        "dataset_train =TensorDataset(inputs, targets)"
      ],
      "execution_count": 6,
      "outputs": []
    },
    {
      "cell_type": "code",
      "metadata": {
        "scrolled": true,
        "id": "IYfB8rjNwGey"
      },
      "source": [
        "# Creating the NNet, training and test procedures.\n",
        "\n",
        "class ann(nn.Module):\n",
        "\n",
        "  def __init__(self,):\n",
        "    super().__init__()\n",
        "\n",
        "    self.linear1 = nn.Linear(in_features = 24,out_features = 12)\n",
        "    self.linear2 = nn.Linear(in_features = 12,out_features = 6)\n",
        "    self.linear3 = nn.Linear(in_features = 6,out_features = 1)\n",
        "    self.tanh = nn.Tanh()\n",
        "\n",
        "  def forward(self,x):\n",
        "\n",
        "    out = self.tanh(self.linear1(x))\n",
        "    out = self.tanh(self.linear2(out))\n",
        "    out = self.linear3(out)\n",
        "\n",
        "    return out \n",
        "\n",
        "def train(train_dl,model,optimizer,criterion,epochs):\n",
        "  avg_loss = None\n",
        "  avg_weight = 0.1\n",
        "  losses = []\n",
        "  for epoch in tqdm_notebook(range(1, epochs + 1)):\n",
        "      for i, (inputs, targets) in enumerate(train_dl):\n",
        "        inputs, targets = inputs.to(device), targets.to(device)\n",
        "\n",
        "        # Clear the gradients\n",
        "        optimizer.zero_grad()\n",
        "        # Model output\n",
        "        y_ = model(inputs)\n",
        "        # Loss \n",
        "        loss = criterion(y_,targets)\n",
        "        loss.backward()\n",
        "        optimizer.step()\n",
        "        # Smooth the loss value that is saved to be plotted later\n",
        "        if avg_loss:\n",
        "          avg_loss = avg_weight * loss.item() + (1 - avg_weight) * avg_loss\n",
        "        else:\n",
        "          avg_loss = loss.item()\n",
        "      losses.append(avg_loss)\n",
        "      if not epoch%100:\n",
        "        print(\"Epoch \",epoch,\"/\",epochs,\"\"*10+\"- loss: \", avg_loss, sep = \"\")\n",
        "      \n",
        "\n",
        "\n",
        "  plt.ylabel('Smoothed loss by factor {:.2f}'.format(1 - avg_weight))\n",
        "  plt.xlabel('Iteration step')\n",
        "  plt.plot(losses)\n",
        "\n",
        "def test(test_dl,model,criterion):\n",
        "  model.eval()\n",
        "  avg_loss = None\n",
        "  avg_weight = 0.1\n",
        "  losses = []\n",
        "  preds = []\n",
        "  with torch.no_grad():\n",
        "    for data, target in test_dl:\n",
        "      data,target = data.to(device),target.to(device)\n",
        "      y_ = model(data)\n",
        "      preds.append(y_)\n",
        "      loss = criterion(y_,target)\n",
        "      if avg_loss:\n",
        "          avg_loss = avg_weight * loss.item() + (1 - avg_weight) * avg_loss\n",
        "      else:\n",
        "        avg_loss = loss.item()\n",
        "      losses.append(loss.item())\n",
        "  print(\"Smoothed loss:\",avg_loss)\n",
        "  return losses,preds"
      ],
      "execution_count": 8,
      "outputs": []
    },
    {
      "cell_type": "code",
      "metadata": {
        "colab": {
          "base_uri": "https://localhost:8080/",
          "height": 1000,
          "referenced_widgets": [
            "55a72f4f6d0a48a8b6887279969bb445",
            "d138f0cb513d41c6942ae7aa8560e317",
            "6658f45520fc4f6db8a6b8c1ecadbef8",
            "3c079215414045d3bede21c5c91d2971",
            "a5c35f37dc6f485e858cc8bd99636565",
            "3f0e1338c4a44236b953c80c01e43d92",
            "a6f4d259c7f04c928a6c11004f39c748",
            "8bb080f31814496b9ed6d706d00fd050",
            "b640fff161234bcba4d423ea1dff7346",
            "426db8fb1a0a4692a16a1ca875cca080",
            "d64846b40bf54fe0b697db651f093238"
          ]
        },
        "id": "iDnq-tiFBfgV",
        "outputId": "965dd7e4-e47e-43bb-98d0-1f2891830261"
      },
      "source": [
        "# Creating the model\n",
        "model = ann()\n",
        "model.to(device)\n",
        "\n",
        "# Preparing data loaders and hyper.\n",
        "train_dl = DataLoader(dataset_train,batch_size = 32, shuffle = True)\n",
        "criterion = nn.MSELoss()\n",
        "epochs = 5000\n",
        "optimizer = optim.RMSprop(model.parameters(),lr = 0.001,eps = 1e-07,alpha = 0.9)\n",
        "\n",
        "# Performing the training\n",
        "start_time = time.time()\n",
        "train(train_dl,model,optimizer,criterion,epochs)\n",
        "time_train_ann = time.time() - start_time"
      ],
      "execution_count": 11,
      "outputs": [
        {
          "output_type": "stream",
          "name": "stderr",
          "text": [
            "/usr/local/lib/python3.7/dist-packages/ipykernel_launcher.py:25: TqdmDeprecationWarning: This function will be removed in tqdm==5.0.0\n",
            "Please use `tqdm.notebook.tqdm` instead of `tqdm.tqdm_notebook`\n"
          ]
        },
        {
          "output_type": "display_data",
          "data": {
            "application/vnd.jupyter.widget-view+json": {
              "model_id": "55a72f4f6d0a48a8b6887279969bb445",
              "version_minor": 0,
              "version_major": 2
            },
            "text/plain": [
              "  0%|          | 0/5000 [00:00<?, ?it/s]"
            ]
          },
          "metadata": {}
        },
        {
          "output_type": "stream",
          "name": "stdout",
          "text": [
            "Epoch 100/5000- loss: 0.00029039435410537217\n",
            "Epoch 200/5000- loss: 0.00036856802814937226\n",
            "Epoch 300/5000- loss: 0.00032053427627687765\n",
            "Epoch 400/5000- loss: 0.00028885620090948494\n",
            "Epoch 500/5000- loss: 0.00025659647866063136\n",
            "Epoch 600/5000- loss: 0.00027174238841130085\n",
            "Epoch 700/5000- loss: 0.00022645462550723342\n",
            "Epoch 800/5000- loss: 0.00025919501959276354\n",
            "Epoch 900/5000- loss: 0.00015343876981932956\n",
            "Epoch 1000/5000- loss: 0.0002620570512707394\n",
            "Epoch 1100/5000- loss: 0.00018388678828080805\n",
            "Epoch 1200/5000- loss: 0.0002039394160569858\n",
            "Epoch 1300/5000- loss: 0.00014236696144441258\n",
            "Epoch 1400/5000- loss: 0.00016263750610382663\n",
            "Epoch 1500/5000- loss: 0.00017141819226912922\n",
            "Epoch 1600/5000- loss: 0.0001385746025703686\n",
            "Epoch 1700/5000- loss: 0.00017174204965924493\n",
            "Epoch 1800/5000- loss: 0.00010617634838977967\n",
            "Epoch 1900/5000- loss: 0.00015948155530572927\n",
            "Epoch 2000/5000- loss: 0.00012216125295873143\n",
            "Epoch 2100/5000- loss: 0.00016211980795269627\n",
            "Epoch 2200/5000- loss: 0.00012079346421483056\n",
            "Epoch 2300/5000- loss: 0.00013179555621002645\n",
            "Epoch 2400/5000- loss: 0.00012659538366912053\n",
            "Epoch 2500/5000- loss: 0.00011591997609067432\n",
            "Epoch 2600/5000- loss: 0.00013736299469270464\n",
            "Epoch 2700/5000- loss: 0.00013141826862682332\n",
            "Epoch 2800/5000- loss: 0.00015894624687658323\n",
            "Epoch 2900/5000- loss: 0.0001265305923517253\n",
            "Epoch 3000/5000- loss: 0.00013862103845078416\n",
            "Epoch 3100/5000- loss: 0.00011696568502867937\n",
            "Epoch 3200/5000- loss: 0.00010906497474639517\n",
            "Epoch 3300/5000- loss: 9.19661140320215e-05\n",
            "Epoch 3400/5000- loss: 0.00010664304776523665\n",
            "Epoch 3500/5000- loss: 0.00010708129386677465\n",
            "Epoch 3600/5000- loss: 9.86961191386568e-05\n",
            "Epoch 3700/5000- loss: 9.57729274068389e-05\n",
            "Epoch 3800/5000- loss: 9.672285867016442e-05\n",
            "Epoch 3900/5000- loss: 0.00010583538635629898\n",
            "Epoch 4000/5000- loss: 8.991602462973469e-05\n",
            "Epoch 4100/5000- loss: 0.00010741801416394291\n",
            "Epoch 4200/5000- loss: 8.045133740763789e-05\n",
            "Epoch 4300/5000- loss: 9.826061111010826e-05\n",
            "Epoch 4400/5000- loss: 7.93398254288273e-05\n",
            "Epoch 4500/5000- loss: 0.00012644617037855952\n",
            "Epoch 4600/5000- loss: 8.186869018811525e-05\n",
            "Epoch 4700/5000- loss: 8.600614276989522e-05\n",
            "Epoch 4800/5000- loss: 9.002339195079475e-05\n",
            "Epoch 4900/5000- loss: 8.756851309593331e-05\n",
            "Epoch 5000/5000- loss: 8.48610477190072e-05\n"
          ]
        },
        {
          "output_type": "display_data",
          "data": {
            "image/png": "[encoded data removed]",
            "text/plain": [
              "<Figure size 432x288 with 1 Axes>"
            ]
          },
          "metadata": {
            "needs_background": "light"
          }
        }
      ]
    },
    {
      "cell_type": "code",
      "metadata": {
        "id": "SPaR3o4VwGe0",
        "colab": {
          "base_uri": "https://localhost:8080/"
        },
        "outputId": "93cdc123-afaa-4a4f-f91e-e9bf24ffefe0"
      },
      "source": [
        "# Reading the test data\n",
        "\n",
        "data_path=path+\"/trainingData\"\n",
        "file_name=\"testing_data.csv\"\n",
        "df=pd.read_csv(data_path+'/'+file_name)\n",
        "print(df.shape)\n",
        "#print(df.head())"
      ],
      "execution_count": 12,
      "outputs": [
        {
          "output_type": "stream",
          "name": "stdout",
          "text": [
            "(625, 97)\n"
          ]
        }
      ]
    },
    {
      "cell_type": "code",
      "metadata": {
        "id": "ZcH9qVL1wGe1"
      },
      "source": [
        "# Formatting the test data \n",
        "\n",
        "colnames=df.columns[1:25]\n",
        "X=df.iloc[:,1:25]\n",
        "Y=df.iloc[:,0].to_numpy().reshape(-1,1)\n",
        "X_test = sc_input.transform(X)\n",
        "Y_test = sc_output.transform(Y)\n",
        "\n",
        "X_test = X_test.astype(np.float32)\n",
        "Y_test = Y_test.astype(np.float32)\n",
        "\n",
        "inputs_test  = torch.tensor(X_test)\n",
        "targets_test = torch.tensor(Y_test)\n",
        "    \n",
        "dataset_test =TensorDataset(inputs_test, targets_test)"
      ],
      "execution_count": 13,
      "outputs": []
    },
    {
      "cell_type": "code",
      "metadata": {
        "scrolled": false,
        "id": "-YzeaaFiwGe5",
        "colab": {
          "base_uri": "https://localhost:8080/",
          "height": 283
        },
        "outputId": "d9d0c06d-99db-48e7-b8ce-3967f6990e04"
      },
      "source": [
        "# Evaluating test results.\n",
        "\n",
        "test_dl = DataLoader(dataset_test,batch_size = 1, shuffle = False)\n",
        "\n",
        "start_time = time.time()\n",
        "_, Y_test_pred =test(test_dl,model,criterion)\n",
        "time_test_ann=time.time()-start_time\n",
        "\n",
        "real=list(list(zip(*Y_test))[0])\n",
        "\n",
        "#real=list(map(list, zip(*Y_train)))\n",
        "pred=list(Y_test_pred)\n",
        "\n",
        "plt.plot(real,pred,'bo')\n",
        "plt.show()"
      ],
      "execution_count": 14,
      "outputs": [
        {
          "output_type": "stream",
          "name": "stdout",
          "text": [
            "Smoothed loss: 0.00025095432547569366\n"
          ]
        },
        {
          "output_type": "display_data",
          "data": {
            "image/png": "[encoded data removed]",
            "text/plain": [
              "<Figure size 432x288 with 1 Axes>"
            ]
          },
          "metadata": {
            "needs_background": "light"
          }
        }
      ]
    }
  ]
}