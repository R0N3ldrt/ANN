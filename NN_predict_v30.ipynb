{
  "nbformat": 4,
  "nbformat_minor": 0,
  "metadata": {
    "colab": {
      "name": "Untitled10.ipynb",
      "provenance": [],
      "authorship_tag": "ABX9TyNs1zG0c5V3qax9atlVXYX9",
      "include_colab_link": true
    },
    "kernelspec": {
      "name": "python3",
      "display_name": "Python 3"
    },
    "language_info": {
      "name": "python"
    }
  },
  "cells": [
    {
      "cell_type": "markdown",
      "metadata": {
        "id": "view-in-github",
        "colab_type": "text"
      },
      "source": [
        "<a href=\"https://colab.research.google.com/github/R0N3ldrt/Thesis/blob/main/NN_predict_v30.ipynb\" target=\"_parent\"><img src=\"https://colab.research.google.com/assets/colab-badge.svg\" alt=\"Open In Colab\"/></a>"
      ]
    },
    {
      "cell_type": "markdown",
      "source": [
        "# Traininig NN Spectrum"
      ],
      "metadata": {
        "id": "UT4kgsEJEpyY"
      }
    },
    {
      "cell_type": "markdown",
      "source": [
        "# Loading Necesary Libraries"
      ],
      "metadata": {
        "id": "qsIzw6RGEwWp"
      }
    },
    {
      "cell_type": "code",
      "execution_count": 1,
      "metadata": {
        "id": "0YnA2ltpEoSi"
      },
      "outputs": [],
      "source": [
        "# Importing necesary libraries\n",
        "# Libraries for correct code execution \n",
        "\n",
        "import os, time\n",
        "import pandas as pd\n",
        "import numpy as np\n",
        "import matplotlib.pyplot as plt\n",
        "import math\n",
        "import pickle\n",
        "import random\n",
        "import csv\n",
        "import re\n",
        "import array\n",
        "import seaborn as sns\n",
        "from tqdm import tqdm\n",
        "import tensorflow as tf\n",
        "import os.path\n",
        "\n",
        "from functools import reduce\n",
        "from random import random, gauss\n",
        "from math import modf, pi, cos, sin, sqrt\n",
        "from sklearn.model_selection import train_test_split\n",
        "from sklearn.preprocessing import MinMaxScaler\n",
        "from sklearn.metrics import r2_score\n",
        "from plotly.subplots import make_subplots\n",
        "from scipy.signal import savgol_filter\n",
        "from scipy.stats.stats import pearsonr\n",
        "from scipy.stats import spearmanr\n",
        "\n",
        "import scipy.stats as st\n",
        "import plotly.graph_objects as go\n",
        "import plotly.express as px\n",
        "from plotly.subplots import make_subplots\n",
        "\n",
        "from keras.models import Sequential\n",
        "from keras.layers import Dense,Conv2D, Flatten\n",
        "from keras.wrappers.scikit_learn import KerasRegressor\n",
        "from keras.callbacks import EarlyStopping\n",
        "from sklearn.mixture import GaussianMixture\n",
        "import os, time, math, csv, joblib\n",
        "import pandas as pd\n",
        "import numpy as np\n",
        "import matplotlib.pyplot as plt\n",
        "import seaborn as sns\n",
        "from sklearn.model_selection import train_test_split\n",
        "from sklearn.preprocessing import MinMaxScaler\n",
        "from sklearn.mixture import GaussianMixture\n",
        "\n",
        "import os, time, math, csv, joblib\n",
        "import pandas as pd\n",
        "import numpy as np\n",
        "from sklearn.model_selection import train_test_split\n",
        "from sklearn.preprocessing import MinMaxScaler\n",
        "from sklearn.mixture import GaussianMixture\n",
        "\n",
        "import warnings\n",
        "warnings.filterwarnings(\"ignore\")\n",
        "\n",
        "sns.set_theme()"
      ]
    },
    {
      "cell_type": "markdown",
      "source": [
        "# Load Enviroment"
      ],
      "metadata": {
        "id": "o99IEHDfE2yy"
      }
    },
    {
      "cell_type": "code",
      "source": [
        "# BLOQUE PARA USAR DESDE COLAB\n",
        "\n",
        "# Google drive loading as work station for local-usage of the files.\n",
        "from google.colab import drive\n",
        "drive.mount('/content/gdrive',force_remount= True)\n",
        "\n",
        "#-----------------------------------------------------------------------------"
      ],
      "metadata": {
        "colab": {
          "base_uri": "https://localhost:8080/"
        },
        "id": "ruXEP78XE7E5",
        "outputId": "e1f86208-a231-40b9-bc84-4cd1f0376cb4"
      },
      "execution_count": 2,
      "outputs": [
        {
          "output_type": "stream",
          "name": "stdout",
          "text": [
            "Mounted at /content/gdrive\n"
          ]
        }
      ]
    },
    {
      "cell_type": "code",
      "source": [
        "# Lista para cambiar los paths rapido.\n",
        "workers = [\"Ronald\", \"Local\"]\n",
        "\n",
        "# Change the number to change the paths.\n",
        "worker = workers[0]\n",
        "\n",
        "if worker == \"Ronald\":\n",
        "  path = \"/content/gdrive/MyDrive/Thesis_Workstation/ANN_dataset\"\n",
        "else: path = os.getcwd()"
      ],
      "metadata": {
        "id": "1Y2-m9DsE74Z"
      },
      "execution_count": 3,
      "outputs": []
    },
    {
      "cell_type": "markdown",
      "source": [
        "# Get working_df"
      ],
      "metadata": {
        "id": "a9bZmAKqRtdK"
      }
    },
    {
      "cell_type": "markdown",
      "source": [
        "## Aggregator"
      ],
      "metadata": {
        "id": "-efCc7PrSORb"
      }
    },
    {
      "cell_type": "code",
      "source": [
        "def prime_number_finder(stop_gap, total_num_of_data):\n",
        "  prime_nums = []\n",
        "  i=2\n",
        "  while i <= stop_gap:\n",
        "    if (total_num_of_data % i==0):\n",
        "      prime_nums.append(i)\n",
        "      break\n",
        "    i+=1\n",
        "  return prime_nums"
      ],
      "metadata": {
        "id": "LpTsisCER__7"
      },
      "execution_count": 24,
      "outputs": []
    },
    {
      "cell_type": "code",
      "source": [
        "def aggreagator_v2(df, stop_gap=50):\n",
        "  total_num_of_data = df.shape[1]\n",
        "  arr_prime = prime_number_finder(stop_gap, total_num_of_data)\n",
        "  #agg_num = np.max(arr_prime)\n",
        "  agg_num = arr_prime[0]\n",
        "\n",
        "  # Creating new df of aggregate values\n",
        "  agg_df = pd.DataFrame()\n",
        "\n",
        "  mid_point = df.shape[1]/2\n",
        "\n",
        "  agg=0\n",
        "  loop_cnt=0\n",
        "  init_column_cnt = 5\n",
        "  while agg<=total_num_of_data:\n",
        "    loop_cnt+=1\n",
        "    # Obtain current last columns stop\n",
        "    agg=agg_num+init_column_cnt\n",
        "    # Select working columns\n",
        "    new_df = df[df.columns[init_column_cnt:agg]]\n",
        "\n",
        "    init_column_cnt += (agg_num)\n",
        "\n",
        "    headers = list(new_df.columns.values) \n",
        "    if loop_cnt <= mid_point:\n",
        "      # Get average of freq values for new header\n",
        "      new_header_name  = headers[-1]\n",
        "    else:\n",
        "      new_header_name = headers[0]\n",
        "    \n",
        "    # Add aggragated values to new df\n",
        "    agg_df[new_header_name] = new_df.mean(axis = 1)\n",
        "  return agg_df"
      ],
      "metadata": {
        "id": "PqkcfV-CSDYv"
      },
      "execution_count": 25,
      "outputs": []
    },
    {
      "cell_type": "markdown",
      "source": [
        "## Find cutoff index"
      ],
      "metadata": {
        "id": "W4h81smRSKUR"
      }
    },
    {
      "cell_type": "code",
      "source": [
        "def remove_tail(df, cut_val, sample_id):\n",
        "  columns_selected = []\n",
        "  old_val = 0\n",
        "  delta = 0\n",
        "  mid_point = int(df.shape[1]/2)\n",
        "  cols_headers  = list(df.columns.values)\n",
        "\n",
        "  for i in range(0, df.shape[1]):\n",
        "    if i == 0:\n",
        "      cell_val = df.iloc[[0], i]\n",
        "      old_val = cell_val[sample_id]\n",
        "    else:\n",
        "      cell_val = df.iloc[[0], i]\n",
        "      val = cell_val[sample_id]\n",
        "      delta = abs(old_val-val)\n",
        "      old_val = val\n",
        "      if delta > cut_val:\n",
        "        if i <= mid_point:\n",
        "          col_name_selected = cols_headers[i+2]\n",
        "        else:\n",
        "          col_name_selected = cols_headers[i-2]\n",
        "          col_name_selected = round(float(col_name_selected), 5)\n",
        "        columns_selected.append(col_name_selected)\n",
        "\n",
        "  return columns_selected"
      ],
      "metadata": {
        "id": "hgUHEniRSJil"
      },
      "execution_count": 26,
      "outputs": []
    },
    {
      "cell_type": "code",
      "source": [
        "# Removing tails conducting multiples loops with variable cutoff value until we get only two columns\n",
        "def remove_tail_main(df, cut_val, sample_id):\n",
        "  old_drop_cols = []\n",
        "  drop_cols = remove_tail(df, cut_val, sample_id)\n",
        "  while len(drop_cols) != 2:  \n",
        "    # If len of columns to be dropped are 0 the select the 2 values smaller and bigger of the previous iteration\n",
        "    if len(drop_cols) == 0 or len(drop_cols) == 1:\n",
        "      drop_cols = [np.min(old_drop_cols), np.max(old_drop_cols)]\n",
        "      break\n",
        "    else:\n",
        "      old_drop_cols = drop_cols\n",
        "      drop_cols = remove_tail(df, cut_val, sample_id)\n",
        "      cut_val += 2\n",
        "  return drop_cols"
      ],
      "metadata": {
        "id": "CNPLl420STJV"
      },
      "execution_count": 27,
      "outputs": []
    },
    {
      "cell_type": "code",
      "source": [
        "def get_working_data_idx_v2(df_mean_sample, sample_id, cut_val = 0):\n",
        "\n",
        "  df = df_mean_sample.iloc[[sample_id - 1]]\n",
        "\n",
        "  #agg_df = aggreagator_v2(df) disable aggragator causing odd data points\n",
        "\n",
        "  col_vals = remove_tail_main(df, cut_val=cut_val, sample_id=sample_id)\n",
        "\n",
        "  left_index_no = df.columns.get_loc(col_vals[0])\n",
        "  rigth_index_no = df.columns.get_loc(col_vals[1])\n",
        "\n",
        "  return left_index_no, rigth_index_no"
      ],
      "metadata": {
        "id": "WFhRhx5USZR7"
      },
      "execution_count": 28,
      "outputs": []
    },
    {
      "cell_type": "code",
      "source": [
        "def cut_off_idx(df): # return tuple with cut-off values (index_left_side, index_rigth_side)\n",
        "  df_mean_sample = df.groupby(['PBRS_id']).mean()\n",
        "  df_mean_sample = df_mean_sample.drop(['row', 'Channels', 'Distance_km', 'power_dBm'], axis = 1)\n",
        "\n",
        "  cut_points = {}\n",
        "  print('Calculating the cutoff values:')\n",
        "  for sample in tqdm(df_mean_sample.index):\n",
        "    left_index_no, rigth_index_no = get_working_data_idx_v2(df_mean_sample, sample_id = sample)\n",
        "    cut_points[sample] = (left_index_no, rigth_index_no)\n",
        "\n",
        "  left_cut_off = np.min([v[0] for k, v in cut_points.items()])\n",
        "  rigth_cut_off = np.max([v[1] for k, v in cut_points.items()])\n",
        "\n",
        "  cut_point = (left_cut_off, rigth_cut_off)\n",
        "  return cut_point"
      ],
      "metadata": {
        "id": "1tG_j9gRSeJ0"
      },
      "execution_count": 29,
      "outputs": []
    },
    {
      "cell_type": "markdown",
      "source": [
        "## Select working data"
      ],
      "metadata": {
        "id": "_2p4y95YSlGe"
      }
    },
    {
      "cell_type": "code",
      "source": [
        "def select_working_data(df, cut_point): # implement cut_off values and Smoothing original df after cutt-of\n",
        "  extra_info_df = df.iloc[:, 0:6]\n",
        "  data_df = df.iloc[:, cut_point[0]+6:cut_point[1]+6]\n",
        "  smoothed_data_frame = pd.DataFrame(savgol_filter(data_df, window_length = 5, polyorder = 2))\n",
        "  \n",
        "  # Adding back headers to the smoothed data\n",
        "  rename_col = {}\n",
        "  cnt = 0\n",
        "  for col in data_df.columns:\n",
        "    h_col = round(float(col), 5)\n",
        "    rename_col[cnt] = h_col\n",
        "    cnt += 1\n",
        "  smoothed_data_frame.rename(columns=rename_col, inplace=True)\n",
        "\n",
        "  working_df = pd.merge(extra_info_df, smoothed_data_frame, left_index=True, right_index=True)\n",
        "  return working_df"
      ],
      "metadata": {
        "id": "TC0PK42wSnTw"
      },
      "execution_count": 30,
      "outputs": []
    },
    {
      "cell_type": "code",
      "source": [
        "def main_cutoff(input_path):\n",
        "  print('Reading data from file.')\n",
        "  df = pd.read_excel(input_path, sheet_name = \"Sheet1\", skiprows=1)\n",
        "  df.iloc[0].fillna(method='bfill', inplace=True)\n",
        "  df.iloc[1:df.shape[0]].fillna(method='pad', inplace=True)\n",
        "  # Adding missing PBRS_id\n",
        "  snippet = []\n",
        "  val_cnt = 1\n",
        "  idx = 0\n",
        "  for sample in range(1, 101):\n",
        "    for sample_id in range(0, 25):\n",
        "      df.at[idx, 'PBRS_id'] = val_cnt\n",
        "      idx +=1\n",
        "      snippet.append(val_cnt)\n",
        "    val_cnt += 1\n",
        "  df['PBRS_id'] = df['PBRS_id'].astype(int)\n",
        "\n",
        "  cut_point = cut_off_idx(df)\n",
        "  working_df = select_working_data(df, cut_point)\n",
        "\n",
        "  return working_df"
      ],
      "metadata": {
        "id": "n5gp_DYpSqEV"
      },
      "execution_count": 31,
      "outputs": []
    },
    {
      "cell_type": "markdown",
      "source": [
        "## Run main cutoff"
      ],
      "metadata": {
        "id": "_IszMVtETKej"
      }
    },
    {
      "cell_type": "code",
      "source": [
        "#input_path = path + \"/Spectrum/16QAM_v2/Copy of dataSet_gamma0_Spectrum31MHz_Samples_16QAM_75GHz_LongHaul_input_25x81km_primeStep.xlsx\"\n",
        "#orking_df = main_cutoff(input_path)\n",
        "#display(working_df)"
      ],
      "metadata": {
        "id": "0MCaO3l2TOEZ"
      },
      "execution_count": 32,
      "outputs": []
    },
    {
      "cell_type": "code",
      "source": [
        "#working_df.to_csv(path+\"/Spectrum/NN/new_data_working_df.csv\", index=False)"
      ],
      "metadata": {
        "id": "OTlGF2TaTiAT"
      },
      "execution_count": 33,
      "outputs": []
    },
    {
      "cell_type": "markdown",
      "source": [
        "#New Train/Test Split"
      ],
      "metadata": {
        "id": "rIpeu9O5teEp"
      }
    },
    {
      "cell_type": "markdown",
      "source": [
        "## Get Reference data"
      ],
      "metadata": {
        "id": "bgUl5jOx2vOg"
      }
    },
    {
      "cell_type": "code",
      "source": [
        "def get_reference_and_sample_data(working_df, num_reference):\n",
        "  import random\n",
        "  num_of_ids = len(working_df['PBRS_id'].unique())\n",
        "\n",
        "  l = list(range(1, num_of_ids+1))\n",
        "  random.shuffle(l)\n",
        "  reference_arr = (l[:num_reference])\n",
        "  sample_arr = l[-(num_of_ids-num_reference):]\n",
        "\n",
        "  reference_data_df = working_df[working_df['PBRS_id'].isin(reference_arr)]\n",
        "  sample_data_df = working_df[working_df['PBRS_id'].isin(sample_arr)]\n",
        "  \n",
        "  return reference_data_df, sample_data_df"
      ],
      "metadata": {
        "id": "ec3YhJwn9Hxx"
      },
      "execution_count": 34,
      "outputs": []
    },
    {
      "cell_type": "markdown",
      "source": [
        "## Get test/train split"
      ],
      "metadata": {
        "id": "gaVlwtnN-Ezo"
      }
    },
    {
      "cell_type": "code",
      "source": [
        "def get_idx_train_test_split(working_df, trainingProp = 0.8):\n",
        "  rows_training = np.array([])\n",
        "  rows_testing = np.array([])\n",
        "  distances = [x*80 for x in range(1, 26)]\n",
        "  for d in distances:\n",
        "    distance_working_df = working_df.loc[working_df['Distance_km'] == d]\n",
        "    rows_mixed=np.random.permutation(distance_working_df.shape[0])\n",
        "\n",
        "    training_amt = math.ceil(distance_working_df.shape[0]*trainingProp)\n",
        "    testing_amt = distance_working_df.shape[0] - training_amt\n",
        "\n",
        "    rows_training = np.append(rows_training, rows_mixed[:training_amt])\n",
        "    rows_testing = np.append(rows_testing, rows_mixed[-testing_amt:])\n",
        "  \n",
        "  rows_training = rows_training.astype('int').tolist()\n",
        "  rows_testing = rows_testing.astype('int').tolist()\n",
        "\n",
        "  return rows_training, rows_testing"
      ],
      "metadata": {
        "id": "yKHiNNANyyDB"
      },
      "execution_count": 35,
      "outputs": []
    },
    {
      "cell_type": "markdown",
      "source": [
        "## Get frequencies filter"
      ],
      "metadata": {
        "id": "WEbwMwMG-9BX"
      }
    },
    {
      "cell_type": "code",
      "source": [
        "def frequencies_filter(df, num_selected_freq=20):\n",
        "  info_df = df.iloc[:, 0:6]\n",
        "  data_df = df.iloc[:, 6:df.shape[1]]\n",
        "  span_val = int(data_df.shape[1]/num_selected_freq)\n",
        "  for i in range(num_selected_freq):\n",
        "    df2 = data_df.iloc[:, (i+1)*span_val].to_frame()\n",
        "    if i+1 == 1:\n",
        "      new_df = df2\n",
        "    else:\n",
        "      new_df = pd.merge(new_df, df2, left_index=True, right_index=True)\n",
        "  new_df = info_df.join(new_df)\n",
        "  \n",
        "  return new_df"
      ],
      "metadata": {
        "id": "RqeELlLC_vlH"
      },
      "execution_count": 36,
      "outputs": []
    },
    {
      "cell_type": "markdown",
      "source": [
        "## Get features"
      ],
      "metadata": {
        "id": "S2Z2xg2yHuoz"
      }
    },
    {
      "cell_type": "code",
      "source": [
        "#sample_freq_data_df\n",
        "#distance_reference_df\n",
        "#selected_rows = rows_training\n",
        "def get_features(sample_freq_data_df, reference_freq_data_df, selected_rows, test_references_params):\n",
        "  data_distance = []\n",
        "  data_mean = []\n",
        "  data_std = []\n",
        "  data_pearson_min = []\n",
        "  data_pearson_mean = []\n",
        "  data_pearson_max = []\n",
        "  data_CI_lower = []\n",
        "  data_CI_upper = []\n",
        "\n",
        "  reference_distance = []\n",
        "\n",
        "  if test_references_params[0] == True: # Test reference distance portion\n",
        "    reference_freq_data_df = reference_freq_data_df['Distance_km'].isin(test_references_params[1])\n",
        "\n",
        "  for row_idx in tqdm(selected_rows):\n",
        "    reference_Y = reference_freq_data_df.iloc[row_idx,3] # distance of row selected\n",
        "    reference_distance.append(reference_Y)\n",
        "\n",
        "\n",
        "    data_Y = sample_freq_data_df.iloc[row_idx,3] # distance of row selected\n",
        "    data_X = np.array(sample_freq_data_df.iloc[row_idx,6:sample_freq_data_df.shape[1]]) #array of data in row selected\n",
        "    data_distance.append(data_Y)\n",
        "    data_std.append(np.std(data_X))\n",
        "    data_mean.append(np.mean(data_X))\n",
        "\n",
        "    data_ci = st.t.interval(alpha=0.90, df=len(data_X)-1, loc=np.mean(data_X), scale=st.sem(data_X))\n",
        "    data_confidence_int_lower = data_ci[0]\n",
        "    data_confidence_int_upper = data_ci[1]\n",
        "\n",
        "    pearson_vals = []\n",
        "    confidence_vals_lower = []\n",
        "    confidence_vals_upper = []\n",
        "    for reference_row in range(0, reference_freq_data_df.shape[0]):\n",
        "      reference_X = np.array(reference_freq_data_df.iloc[reference_row,6:reference_freq_data_df.shape[1]])\n",
        "      pearson_vals.append(round(pearsonr(data_X, reference_X)[0], 5))\n",
        "\n",
        "      reference_ci = st.t.interval(alpha=0.90, df=len(reference_X)-1, loc=np.mean(reference_X), scale=st.sem(reference_X))\n",
        "      reference_confidence_int_lower = reference_ci[0]\n",
        "      confidence_vals_lower.append(round(abs(reference_confidence_int_lower - data_confidence_int_lower), 5))\n",
        "      reference_confidence_int_upper = reference_ci[1]\n",
        "      confidence_vals_upper.append(round(abs(reference_confidence_int_upper - data_confidence_int_upper),5))\n",
        "\n",
        "    data_pearson_min.append(np.min(pearson_vals))\n",
        "    data_pearson_mean.append(np.mean(pearson_vals))    \n",
        "    data_pearson_max.append(np.max(pearson_vals))\n",
        "\n",
        "    data_CI_lower.append(np.min(confidence_vals_lower))\n",
        "    data_CI_upper.append(np.min(confidence_vals_upper))\n",
        "\n",
        "  data = {'distance':data_distance,\n",
        "                  'mean':data_mean,\n",
        "                  'std':data_std,\n",
        "                  'pearson_min':data_pearson_min,\n",
        "                  'pearson_mean':data_pearson_mean,\n",
        "                  'pearson_max':data_pearson_max,\n",
        "                  'delta_CI_min':data_CI_lower,\n",
        "                  'delta_CI_max':data_CI_upper,\n",
        "                  'reference_distance':reference_distance}\n",
        "\n",
        "  data_df = pd.DataFrame(data)\n",
        "\n",
        "  \n",
        "  return data_df"
      ],
      "metadata": {
        "id": "8FNsUKTVxZmP"
      },
      "execution_count": 37,
      "outputs": []
    },
    {
      "cell_type": "markdown",
      "source": [
        "## Main train/test split"
      ],
      "metadata": {
        "id": "9V5WNuN9jSZF"
      }
    },
    {
      "cell_type": "code",
      "source": [
        "def get_train_test_split_main(input_path, num_of_freq_selected, reference_amt, test_references_params):\n",
        "  working_df = pd.read_csv(input_path)\n",
        "  working_df['Distance_km'] = working_df['Distance_km'].astype(int)\n",
        "  #working_df = working_df.sample(frac = 1) # Shuffle df\n",
        "\n",
        "  reference_data_df, sample_data_df = get_reference_and_sample_data(working_df, reference_amt)\n",
        "\n",
        "  reference_freq_data_df = frequencies_filter(reference_data_df, num_selected_freq=num_of_freq_selected)\n",
        "  sample_freq_data_df = frequencies_filter(sample_data_df, num_selected_freq=num_of_freq_selected)\n",
        "\n",
        "  rows_training, rows_testing = get_idx_train_test_split(sample_data_df, trainingProp = 0.8)\n",
        "\n",
        "  print('Calculating train split:')\n",
        "  training_df = get_features(sample_freq_data_df, reference_freq_data_df, rows_training, test_references_params)\n",
        "  print('Calculating test split:')\n",
        "  testing_df = get_features(sample_freq_data_df, reference_freq_data_df, rows_testing, test_references_params)\n",
        "\n",
        "  return training_df, testing_df, reference_freq_data_df, sample_freq_data_df, rows_training, rows_testing"
      ],
      "metadata": {
        "id": "uL35uf_RjV3r"
      },
      "execution_count": 38,
      "outputs": []
    },
    {
      "cell_type": "markdown",
      "source": [
        "#Test new data"
      ],
      "metadata": {
        "id": "-4aouQ6qQRor"
      }
    },
    {
      "cell_type": "markdown",
      "source": [
        "## Hope better"
      ],
      "metadata": {
        "id": "8Ou1UMjPtiWN"
      }
    },
    {
      "cell_type": "code",
      "source": [
        "def get_label_data_splits(input_path, num_of_freq_selected, reference_amt, split_done=False, test_references_params=(False, [80, 1040, 2000])):\n",
        "\n",
        "  if split_done == False:\n",
        "    training_df, testing_df, reference_freq_data_df, sample_freq_data_df, rows_training, rows_testing = get_train_test_split_main(input_path, num_of_freq_selected, reference_amt, test_references_params)\n",
        "\n",
        "    training_df.to_csv(path+\"/Spectrum/NN/train_test_splits/new_data_training_data_NN_freq_\"+str(num_of_freq_selected)+\"_reference_\"+str(reference_amt)+\".csv\", header=True, index=False)\n",
        "    testing_df.to_csv(path+\"/Spectrum/NN/train_test_splits/new_data_testing_data_NN_freq_\"+str(num_of_freq_selected)+\"_reference_\"+str(reference_amt)+\".csv\", header=True, index=False)\n",
        "\n",
        "    reference_freq_data_df.to_csv(path+\"/Spectrum/NN/train_test_splits/new_data_Reference_NN_freq_\"+str(num_of_freq_selected)+\"_reference_\"+str(reference_amt)+\".csv\", header=True, index=False)\n",
        "    sample_freq_data_df.to_csv(path+\"/Spectrum/NN/train_test_splits/new_data_Sample_NN_freq_\"+str(num_of_freq_selected)+\"_reference_\"+str(reference_amt)+\".csv\", header=True, index=False)\n",
        "\n",
        "    pickle.dump(rows_training, open(path+\"/Spectrum/NN/train_test_splits/traininig_Rows_NN_freq_\"+str(num_of_freq_selected)+\"_reference_\"+str(reference_amt)+\".pkl\",\"wb\"))\n",
        "    pickle.dump(rows_testing, open(path+\"/Spectrum/NN/train_test_splits/testing_Rows_NN_freq_\"+str(num_of_freq_selected)+\"_reference_\"+str(reference_amt)+\".pkl\",\"wb\"))\n",
        "  else:\n",
        "    training_df = pd.read_csv(path+\"/Spectrum/NN/train_test_splits/new_data_training_data_NN_freq_\"+str(num_of_freq_selected)+\"_reference_\"+str(reference_amt)+\".csv\")\n",
        "    testing_df = pd.read_csv(path+\"/Spectrum/NN/train_test_splits/new_data_testing_data_NN_freq_\"+str(num_of_freq_selected)+\"_reference_\"+str(reference_amt)+\".csv\")\n",
        "    \n",
        "    reference_freq_data_df = pd.read_csv(path+\"/Spectrum/NN/train_test_splits/new_data_Reference_NN_freq_\"+str(num_of_freq_selected)+\"_reference_\"+str(reference_amt)+\".csv\")\n",
        "    sample_freq_data_df = pd.read_csv(path+\"/Spectrum/NN/train_test_splits/new_data_Sample_NN_freq_\"+str(num_of_freq_selected)+\"_reference_\"+str(reference_amt)+\".csv\")\n",
        "    with open(path+\"/Spectrum/NN/train_test_splits/traininig_Rows_NN_freq_10_reference_30.pkl\", 'rb') as f:\n",
        "      rows_training = pickle.load(f)\n",
        "    with open(path+\"/Spectrum/NN/train_test_splits/testing_Rows_NN_freq_10_reference_30.pkl\", 'rb') as f:\n",
        "      rows_testing = pickle.load(f)  \n",
        "    #rows_training = pickle.loads(path+\"/Spectrum/NN/train_test_splits/traininig_Rows_NN_freq_10_reference_30.pkl\")\n",
        "    #rows_testing = pickle.loads(path+\"/Spectrum/NN/train_test_splits/testing_Rows_NN_freq_10_reference_30.pkl\")\n",
        "  \n",
        "  training_df = training_df.iloc[:,:-1]\n",
        "  testing_df = testing_df.iloc[:,:-1]\n",
        "  \n",
        "  Y = training_df.iloc[:, 0].to_numpy().reshape(-1,1)\n",
        "  X = training_df.iloc[:, 1:(training_df.shape[1]-2)]\n",
        "\n",
        "  sc_input = MinMaxScaler()\n",
        "  sc_output = MinMaxScaler()\n",
        "  Y_train = sc_output.fit_transform(Y) # convert distances to values from 0 to 1\n",
        "  X_train = sc_input.fit_transform(X) # convert features to values from 0 to 1\n",
        "\n",
        "  Y = testing_df.iloc[:, 0].to_numpy().reshape(-1,1)\n",
        "  X = testing_df.iloc[:, 1:(testing_df.shape[1]-2)]\n",
        "\n",
        "  Y_test = sc_output.fit_transform(Y) # convert distances to values from 0 to 1\n",
        "  X_test = sc_input.fit_transform(X) # convert features to values from 0 to 1\n",
        "\n",
        "  return Y_train, X_train, Y_test, X_test, sc_output, training_df, testing_df, reference_freq_data_df, sample_freq_data_df, rows_training, rows_testing"
      ],
      "metadata": {
        "id": "vuhTggzTfTlX"
      },
      "execution_count": 39,
      "outputs": []
    },
    {
      "cell_type": "code",
      "source": [
        "def predict_test(model_ann, Y_test, X_test, sc_output_c, testing_df, remove_outliers=0.05):\n",
        "  print('Results (freq_'+str(num_of_freq_selected)+'_reference_'+str(reference_amt)+')')\n",
        "  # Predit\n",
        "  start_time = time.time()\n",
        "  Y_test_pred=model_ann.predict(X_test)\n",
        "  pred=list(Y_test_pred)\n",
        "\n",
        "  print('Pred:')\n",
        "  print(pred)\n",
        "  \n",
        "  time_eval_ann=time.time()-start_time\n",
        "\n",
        "  dist_min=sc_output_c.data_min_[0] # 80\n",
        "  dist_max=sc_output_c.data_max_[0] # 2000\n",
        "\n",
        "  real=list(list(zip(*Y_test))[0])\n",
        "  real_abs=np.add(dist_min,np.multiply((dist_max-dist_min),real)) # convert back to distances values from scalar\n",
        "  real_abs=[int(np.round(i)) for i in real_abs]\n",
        "  pred_abs=np.add(dist_min,np.multiply((dist_max-dist_min),pred)) # convert back to distances values from scalar\n",
        "\n",
        "  print('Real_abs:')\n",
        "  print(real_abs)\n",
        "  print('Pred_abs:')\n",
        "  print(pred_abs)\n",
        "\n",
        "  real_abs_e1 = real_abs\n",
        "  real_abs_e2 = real_abs\n",
        "\n",
        "  pred_abs_e1 = pred_abs\n",
        "  pred_abs_e2 = pred_abs\n",
        "\n",
        "  error=np.divide(np.abs(np.subtract(np.array(real_abs),np.array(pred_abs))),np.array(real_abs))\n",
        "  error_v2 = np.abs(np.subtract(np.array(real_abs),np.array(pred_abs)))\n",
        "\n",
        "  remove_outliers = math.ceil((len(error_v2)*remove_outliers)/2)\n",
        "\n",
        "  for outlier in range(1, remove_outliers+1):\n",
        "    min_idx_e1 = np.argmin(error)\n",
        "    max_idx_e1 = np.argmax(error)\n",
        "\n",
        "    min_idx_e2 = np.argmin(error_v2)\n",
        "    max_idx_e2 = np.argmax(error_v2)\n",
        "\n",
        "    error = np.delete(error, min_idx_e1)\n",
        "    error = np.delete(error, max_idx_e1)\n",
        "    real_abs_e1 = np.delete(real_abs_e1, min_idx_e1)\n",
        "    real_abs_e1 = np.delete(real_abs_e1, max_idx_e1)\n",
        "    pred_abs_e1 = np.delete(pred_abs_e1, min_idx_e1)\n",
        "    pred_abs_e1 = np.delete(pred_abs_e1, max_idx_e1)\n",
        "\n",
        "    error_v2 = np.delete(error_v2, min_idx_e2)\n",
        "    error_v2 = np.delete(error_v2, max_idx_e2)\n",
        "    real_abs_e2 = np.delete(real_abs_e2, min_idx_e1)\n",
        "    real_abs_e2 = np.delete(real_abs_e2, max_idx_e1)\n",
        "    pred_abs_e2 = np.delete(pred_abs_e2, min_idx_e1)\n",
        "    pred_abs_e2 = np.delete(pred_abs_e2, max_idx_e1)\n",
        "\n",
        "  res=pd.DataFrame({\"dist\":real_abs_e1,\"pred\":pred_abs_e1,\"error\":error})\n",
        "  res.to_csv(path+\"/Spectrum/NN/NN_results_error/new_data_results_curve_freq_\"+str(num_of_freq_selected)+\"_reference_\"+str(reference_amt)+\".csv\", header=True, index=False)\n",
        "\n",
        "  res_v2=pd.DataFrame({\"dist\":real_abs_e2,\"pred\":pred_abs_e2,\"error\":error_v2})\n",
        "  res.to_csv(path+\"/Spectrum/NN/NN_results_error/new_data_results_deltas_freq_\"+str(num_of_freq_selected)+\"_reference_\"+str(reference_amt)+\".csv\", header=True, index=False)\n",
        "  \n",
        "  plt.plot(real_abs_e1,error,'bo')\n",
        "  plt.xlabel('Distances') \n",
        "  plt.ylabel('Error') \n",
        "  plt.title(\"Results Curve (freq_\"+str(num_of_freq_selected)+\"_reference_\"+str(reference_amt)+\")\")\n",
        "  plt.savefig(path+\"/Spectrum/NN/NN_results_plots/new_data_results_curve_freq_\"+str(num_of_freq_selected)+\"_reference_\"+str(reference_amt)+\".png\")\n",
        "  plt.show()\n",
        "  \n",
        "  plt.plot(real_abs_e2,error_v2,'bo')\n",
        "  plt.xlabel('Distances') \n",
        "  plt.ylabel('Error') \n",
        "  plt.title(\"Results Deltas (freq_\"+str(num_of_freq_selected)+\"_reference_\"+str(reference_amt)+\")\")\n",
        "  plt.savefig(path+\"/Spectrum/NN/NN_results_plots/new_data_results_deltas_freq_\"+str(num_of_freq_selected)+\"_reference_\"+str(reference_amt)+\".png\")\n",
        "  plt.show()"
      ],
      "metadata": {
        "id": "VM7Qp086iJzS"
      },
      "execution_count": 40,
      "outputs": []
    },
    {
      "cell_type": "code",
      "source": [
        "def train_model(X_train, Y_train):\n",
        "  print('Training model (freq_'+str(num_of_freq_selected)+'_reference_'+str(reference_amt)+')...')\n",
        "  from keras.models import Sequential\n",
        "  from keras.layers import Dense,Conv2D, Flatten, Dropout\n",
        "  from keras.wrappers.scikit_learn import KerasRegressor\n",
        "  from keras.callbacks import EarlyStopping\n",
        "  from tqdm.keras import TqdmCallback\n",
        "\n",
        "  def ann():\n",
        "      model = Sequential()\n",
        "      model.add(Dense(76, input_dim = 5, activation = 'tanh'))\n",
        "      model.add(Dense(38,activation='tanh'))\n",
        "      model.add(Dense(19,activation='tanh'))\n",
        "      model.add(Dense(19,activation='tanh'))\n",
        "      model.add(Dense(9,activation='tanh'))\n",
        "      model.add(Dense(1))\n",
        "      model.compile(loss ='mean_squared_error',optimizer = 'RMSprop')\n",
        "      return model\n",
        "\n",
        "  model_ann = KerasRegressor(build_fn=ann,epochs=8000,batch_size=32, verbose=0)\n",
        "\n",
        "  start_time = time.time()\n",
        "  callback = [EarlyStopping(monitor='loss', patience=500)]#, TqdmCallback(verbose=2)]\n",
        "  model_ann.fit(X_train, Y_train, callbacks=callback)\n",
        "  time_train_ann = time.time() - start_time\n",
        "\n",
        "  model_ann.model.save(path+\"/Spectrum/NN/NNs/final_new_data_NN_model_freq_\"+str(num_of_freq_selected)+\"_reference_\"+str(reference_amt)+\".h5\")\n",
        "  \n",
        "  return model_ann"
      ],
      "metadata": {
        "id": "eg-RpJrnfDCC"
      },
      "execution_count": 41,
      "outputs": []
    },
    {
      "cell_type": "code",
      "source": [
        "# Load network\n",
        "from keras.models import Sequential\n",
        "from keras.layers import Dense,Conv2D, Flatten, Dropout\n",
        "from keras.wrappers.scikit_learn import KerasRegressor\n",
        "from keras.callbacks import EarlyStopping\n",
        "from tqdm.keras import TqdmCallback\n",
        "\n",
        "def ann():\n",
        "  model = Sequential()\n",
        "  model.add(Dense(76, input_dim = 5, activation = 'tanh'))\n",
        "  model.add(Dense(38,activation='tanh'))\n",
        "  model.add(Dense(19,activation='tanh'))\n",
        "  model.add(Dense(9,activation='tanh'))\n",
        "  model.add(Dense(1))\n",
        "  model.compile(loss ='mean_squared_error',optimizer = 'RMSprop')\n",
        "  return model"
      ],
      "metadata": {
        "id": "E79f1yQce6my"
      },
      "execution_count": 42,
      "outputs": []
    },
    {
      "cell_type": "code",
      "source": [
        "num_of_freq_selected = 10\n",
        "reference_amt = 30\n",
        "input_path = path + \"/Spectrum/NN/new_data_working_df.csv\"\n",
        "\n",
        "Y_train_c, X_train_c, Y_test_c, X_test_c, sc_output_c, training_df_c, testing_df_c, reference_freq_data_df_c, sample_freq_data_df_c, rows_training_c, rows_testing_c = get_label_data_splits(input_path, num_of_freq_selected, reference_amt, split_done=False)"
      ],
      "metadata": {
        "colab": {
          "base_uri": "https://localhost:8080/"
        },
        "id": "HO4JJwuiQTCe",
        "outputId": "4570ffe5-2e7b-4d90-daff-486e8cf43429"
      },
      "execution_count": 43,
      "outputs": [
        {
          "output_type": "stream",
          "name": "stdout",
          "text": [
            "Calculating train split:\n"
          ]
        },
        {
          "output_type": "stream",
          "name": "stderr",
          "text": [
            "100%|██████████| 1400/1400 [17:34<00:00,  1.33it/s]\n"
          ]
        },
        {
          "output_type": "stream",
          "name": "stdout",
          "text": [
            "Calculating test split:\n"
          ]
        },
        {
          "output_type": "stream",
          "name": "stderr",
          "text": [
            "100%|██████████| 350/350 [04:23<00:00,  1.33it/s]\n"
          ]
        }
      ]
    },
    {
      "cell_type": "code",
      "source": [
        "model_ann_c = train_model(X_train_c, Y_train_c)\n",
        "'''\n",
        "# Load network\n",
        "from keras.models import load_model\n",
        "model_ann_c = KerasRegressor(build_fn=ann, epochs=8000, batch_size=32, verbose=0)\n",
        "model_ann_c.model = load_model(path+\"/Spectrum/NN/NNs/final_new_data_NN_model_freq_10_reference_30.h5\")\n",
        "'''"
      ],
      "metadata": {
        "colab": {
          "base_uri": "https://localhost:8080/",
          "height": 70
        },
        "id": "9XynTocCnzhi",
        "outputId": "78ef6cd5-6ad9-4811-9b33-af549e8c1ecc"
      },
      "execution_count": 44,
      "outputs": [
        {
          "output_type": "stream",
          "name": "stdout",
          "text": [
            "Training model (freq_10_reference_30)...\n"
          ]
        },
        {
          "output_type": "execute_result",
          "data": {
            "text/plain": [
              "'\\n# Load network\\nfrom keras.models import load_model\\nmodel_ann_c = KerasRegressor(build_fn=ann, epochs=8000, batch_size=32, verbose=0)\\nmodel_ann_c.model = load_model(path+\"/Spectrum/NN/NNs/final_new_data_NN_model_freq_10_reference_30.h5\")\\n'"
            ],
            "application/vnd.google.colaboratory.intrinsic+json": {
              "type": "string"
            }
          },
          "metadata": {},
          "execution_count": 44
        }
      ]
    },
    {
      "cell_type": "code",
      "source": [
        "#predict_test(model_ann_c, Y_test_c, X_test_c, sc_output_c)\n",
        "predict_test(model_ann_c, Y_test_c, X_test_c, sc_output_c, testing_df_c, remove_outliers=0.05)"
      ],
      "metadata": {
        "colab": {
          "base_uri": "https://localhost:8080/",
          "height": 1000
        },
        "id": "sNy39pL-mxsN",
        "outputId": "24904dfa-8958-41c4-80be-0f18ee1dfa15"
      },
      "execution_count": 45,
      "outputs": [
        {
          "output_type": "stream",
          "name": "stdout",
          "text": [
            "Results (freq_10_reference_30)\n",
            "Pred:\n",
            "[0.48739988, 0.62184006, 0.4993012, 0.036495857, 0.66699713, 0.9926407, 0.37230834, 0.7152219, 0.6171458, 0.2882105, 0.24943541, 0.32865724, 0.827704, -0.00035315007, 0.9161596, 0.7484445, -0.0040041525, 0.5291106, 0.2882105, 0.1627627, 0.7152219, 0.24904266, 0.15117615, 0.48739988, -0.00035315007, 0.78406674, 0.7031776, 0.122669585, 0.03617876, 0.07801142, 0.7456093, 0.57788724, 0.6171458, 0.9535834, 0.827704, 0.45037028, 0.48739988, -0.0040041525, 0.374193, 0.24029431, 0.4993012, 0.5442042, 0.21208598, 0.24943541, 0.8626433, 0.15117615, 0.6654271, 0.90481424, 0.66699713, 0.5442042, 0.4143937, 0.09588361, 0.24904266, 0.03211329, 0.79205626, 0.45437422, 0.0020873956, 0.03617876, 0.5442042, 0.87105644, 0.4143937, 0.9987197, 0.45437413, 0.7031775, 0.24029431, 0.6654271, 0.4993012, 0.07244658, 0.2892738, 0.09588361, 0.2892738, 0.4143937, 0.036495857, 0.66699713, 0.9987197, 0.03617876, -0.0040041525, 0.28680363, 0.5291106, 0.70185906, -0.00035315007, 0.15117615, 0.07244658, 0.8626433, 0.32865724, 0.07244658, 0.57788724, 0.2892738, 0.24029431, 0.28680363, 0.45037028, 0.33018535, 0.9535834, 0.37230834, 0.2490427, 0.6150106, 0.15117615, 0.7031776, 0.62184006, 0.74560916, 0.4072788, 0.4915396, 0.7484445, 0.9987197, 0.03211329, 0.24029431, -0.0040041525, 0.036495857, 0.41913125, 0.4993012, 0.70185906, 0.48739988, 0.8278245, 0.32792363, 0.4072788, 0.90481424, 0.48739988, 0.20806429, 0.74560916, 0.33018535, 0.079938725, 0.4915396, 0.7506673, 0.45037028, 0.78406674, 0.9926407, 0.036178745, 0.2882104, 0.24943541, 0.8626433, 0.9987197, -0.0040041525, 0.5758996, 0.4915396, 0.1627627, 0.74560916, 0.036495857, 0.37230834, 0.15117615, 0.24029431, 0.9535834, 0.4143937, 0.5442042, 0.7506673, 0.03617876, 0.5758996, 0.577931, 0.4540402, 0.827704, 0.7152219, 0.24029431, 0.32865724, 0.37230834, 0.24943541, 0.74560916, 0.28680363, 0.9987197, 0.79205626, 0.7484443, 0.40727884, 0.1903175, 0.1627627, 0.577931, 0.90481424, 0.16923814, 0.4993012, 0.24029431, 0.7506673, 0.827704, 0.78406674, 0.9987197, 0.1903175, 0.07244658, 0.4540402, 0.7506673, 0.577931, 0.079938725, 0.6150107, 0.90481424, 0.74560916, 0.7152219, 0.07801142, 0.8278245, 0.32865724, 0.2892738, 0.70185906, 0.4540402, 0.03617876, 0.9535834, 0.32792363, 0.12266951, 0.7484443, 0.03211329, -0.00035315007, 0.9522928, 0.24943541, 0.5758996, 0.70185906, 0.32865724, 0.33018535, 0.5442042, 0.78406674, 0.79205626, 0.9535834, 0.577931, -0.0040041525, 0.20806429, 0.374193, 0.6150107, 0.28680363, 0.12008883, 0.32792363, 0.6654271, 0.4993012, 0.4143937, 0.6171458, 0.2892738, 0.24943541, 0.90481424, 0.87105644, 0.70185906, 0.24904266, 0.37230834, 0.40727884, 0.45437422, 0.57788724, 0.32865724, 0.07801142, 0.24904266, -0.00035315007, 0.079938725, 0.07244658, 0.6171458, 0.0020873956, 0.7484445, 0.1903175, 0.4540402, 0.32792363, 0.6654271, 0.9161596, 0.6171458, 0.32792363, 0.5291106, 0.66699713, 0.87105644, 0.8278245, 0.4993012, 0.9987197, 0.1627627, 0.5442042, -0.0040041525, -0.00035315007, 0.8278245, 0.7152219, 0.5344802, 0.4143938, 0.79205626, 0.20806429, 0.8626433, 0.87105644, 0.03617876, 0.48739988, 0.036495857, 0.4915396, 0.32865724, 0.9161596, 0.24943541, 0.5344803, 0.079938725, 0.0020873956, 0.21208598, 0.036495857, 0.577931, 0.5758996, 0.24029431, 0.5442042, 0.4540402, 0.66699713, 0.4143937, 0.4072788, 0.5291106, 0.2882105, 0.9987197, 0.24943541, 0.374193, 0.6654271, 0.19031756, -0.004004067, 0.7031776, 0.0020873956, 0.21208598, 0.9535834, 0.577931, 0.07801142, 0.079938725, 0.9987197, 0.45437422, 0.5758996, 0.24029431, 0.9535834, 0.9926407, 0.33018535, 0.374193, 0.827704, 0.28680363, 0.57788724, 0.7031776, 0.24943541, 0.21208598, 0.577931, 0.9522928, 0.5442042, 0.8626433, 0.9926407, 0.7852521, 0.2892738, 0.079938725, 0.28680363, 0.15117615, 0.16923818, -0.0040041525, 0.79205626, 0.90481424, 0.41913125, 0.79205626, 0.66699713, 0.45037028, 0.9987197, 0.5442042, 0.2882105, 0.32792363, 0.1903175, -0.0040041525, 0.3696838, 0.6171458, 0.62184006, 0.6171458, 0.6150107, 0.78406674, 0.8626433, 0.2892738, 0.2882105, 0.03211329, 0.32792363, 0.70185906, 0.9535834, 0.1903175, 0.66699713, -0.0040041525, 0.03617876]\n",
            "Real_abs:\n",
            "[1040, 1280, 1040, 160, 1360, 2000, 800, 1440, 1280, 640, 560, 720, 1680, 80, 1840, 1520, 80, 1120, 640, 400, 1440, 560, 400, 1040, 80, 1600, 1440, 320, 160, 240, 1520, 1200, 1280, 1920, 1680, 960, 1040, 80, 800, 560, 1040, 1120, 480, 560, 1760, 400, 1360, 1840, 1360, 1120, 880, 320, 560, 160, 1600, 960, 80, 160, 1120, 1760, 880, 2000, 960, 1440, 560, 1360, 1040, 240, 640, 320, 640, 880, 160, 1360, 2000, 160, 80, 640, 1120, 1440, 80, 400, 240, 1760, 720, 240, 1200, 640, 560, 640, 960, 720, 1920, 800, 560, 1280, 400, 1440, 1280, 1520, 880, 1040, 1520, 2000, 160, 560, 80, 160, 880, 1040, 1440, 1040, 1680, 720, 880, 1840, 1040, 480, 1520, 720, 240, 1040, 1520, 960, 1600, 2000, 160, 640, 560, 1760, 2000, 80, 1200, 1040, 400, 1520, 160, 800, 400, 560, 1920, 880, 1120, 1520, 160, 1200, 1200, 960, 1680, 1440, 560, 720, 800, 560, 1520, 640, 2000, 1600, 1520, 880, 480, 400, 1200, 1840, 400, 1040, 560, 1520, 1680, 1600, 2000, 480, 240, 960, 1520, 1200, 240, 1280, 1840, 1520, 1440, 240, 1680, 720, 640, 1440, 960, 160, 1920, 720, 320, 1520, 160, 80, 1920, 560, 1200, 1440, 720, 720, 1120, 1600, 1600, 1920, 1200, 80, 480, 800, 1280, 640, 320, 720, 1360, 1040, 880, 1280, 640, 560, 1840, 1760, 1440, 560, 800, 880, 960, 1200, 720, 240, 560, 80, 240, 240, 1280, 80, 1520, 480, 960, 720, 1360, 1840, 1280, 720, 1120, 1360, 1760, 1680, 1040, 2000, 400, 1120, 80, 80, 1680, 1440, 1120, 880, 1600, 480, 1760, 1760, 160, 1040, 160, 1040, 720, 1840, 560, 1120, 240, 80, 480, 160, 1200, 1200, 560, 1120, 960, 1360, 880, 880, 1120, 640, 2000, 560, 800, 1360, 480, 80, 1440, 80, 480, 1920, 1200, 240, 240, 2000, 960, 1200, 560, 1920, 2000, 720, 800, 1680, 640, 1200, 1440, 560, 480, 1200, 1920, 1120, 1760, 2000, 1600, 640, 240, 640, 400, 400, 80, 1600, 1840, 880, 1600, 1360, 960, 2000, 1120, 640, 720, 480, 80, 800, 1280, 1280, 1280, 1280, 1600, 1760, 640, 640, 160, 720, 1440, 1920, 480, 1360, 80, 160]\n",
            "Pred_abs:\n",
            "[1015.80774  1273.9329   1038.6583    150.07205  1360.6345   1985.8701\n",
            "  794.83203  1453.2261   1264.9199    633.3642    558.916     711.0219\n",
            " 1669.1917     79.32195  1839.0264   1517.0134     72.31203  1095.8923\n",
            "  633.3642    392.5044   1453.2261    558.16187   370.2582   1015.80774\n",
            "   79.32195  1585.4081   1430.101     315.5256    149.46323   229.78194\n",
            " 1511.5698   1189.5435   1264.9199   1910.8801   1669.1917    944.71094\n",
            " 1015.80774    72.31203   798.45056   541.3651   1038.6583   1124.8721\n",
            "  487.20508   558.916    1736.2751    370.2582   1357.62     1817.2434\n",
            " 1360.6345   1124.8721    875.63586   264.09653   558.16187   141.65752\n",
            " 1600.748     952.3985     84.0078    149.46323  1124.8721   1752.4283\n",
            "  875.63586  1997.5417    952.3983   1430.1008    541.3651   1357.62\n",
            " 1038.6583    219.09743   635.4057    264.09653   635.4057    875.63586\n",
            "  150.07205  1360.6345   1997.5417    149.46323    72.31203   630.66296\n",
            " 1095.8923   1427.5693     79.32195   370.2582    219.09743  1736.2751\n",
            "  711.0219    219.09743  1189.5435    635.4057    541.3651    630.66296\n",
            "  944.71094   713.9559   1910.8801    794.83203   558.162    1260.8204\n",
            "  370.2582   1430.101    1273.9329   1511.5696    861.9753   1023.75604\n",
            " 1517.0134   1997.5417    141.65752   541.3651     72.31203   150.07205\n",
            "  884.732    1038.6583   1427.5693   1015.80774  1669.423     709.61334\n",
            "  861.9753   1817.2434   1015.80774   479.48343  1511.5696    713.9559\n",
            "  233.48235  1023.75604  1521.2811    944.71094  1585.4081   1985.8701\n",
            "  149.4632    633.36395   558.916    1736.2751   1997.5417     72.31203\n",
            " 1185.7273   1023.75604   392.5044   1511.5696    150.07205   794.83203\n",
            "  370.2582    541.3651   1910.8801    875.63586  1124.8721   1521.2811\n",
            "  149.46323  1185.7273   1189.6274    951.7572   1669.1917   1453.2261\n",
            "  541.3651    711.0219    794.83203   558.916    1511.5696    630.66296\n",
            " 1997.5417   1600.748    1517.0131    861.97534   445.4096    392.5044\n",
            " 1189.6274   1817.2434    404.93723  1038.6583    541.3651   1521.2811\n",
            " 1669.1917   1585.4081   1997.5417    445.4096    219.09743   951.7572\n",
            " 1521.2811   1189.6274    233.48235  1260.8206   1817.2434   1511.5696\n",
            " 1453.2261    229.78194  1669.423     711.0219    635.4057   1427.5693\n",
            "  951.7572    149.46323  1910.8801    709.61334   315.52545  1517.0131\n",
            "  141.65752    79.32195  1908.4022    558.916    1185.7273   1427.5693\n",
            "  711.0219    713.9559   1124.8721   1585.4081   1600.748    1910.8801\n",
            " 1189.6274     72.31203   479.48343   798.45056  1260.8206    630.66296\n",
            "  310.57056   709.61334  1357.62     1038.6583    875.63586  1264.9199\n",
            "  635.4057    558.916    1817.2434   1752.4283   1427.5693    558.16187\n",
            "  794.83203   861.97534   952.3985   1189.5435    711.0219    229.78194\n",
            "  558.16187    79.32195   233.48235   219.09743  1264.9199     84.0078\n",
            " 1517.0134    445.4096    951.7572    709.61334  1357.62     1839.0264\n",
            " 1264.9199    709.61334  1095.8923   1360.6345   1752.4283   1669.423\n",
            " 1038.6583   1997.5417    392.5044   1124.8721     72.31203    79.32195\n",
            " 1669.423    1453.2261   1106.202     875.6361   1600.748     479.48343\n",
            " 1736.2751   1752.4283    149.46323  1015.80774   150.07205  1023.75604\n",
            "  711.0219   1839.0264    558.916    1106.2021    233.48235    84.0078\n",
            "  487.20508   150.07205  1189.6274   1185.7273    541.3651   1124.8721\n",
            "  951.7572   1360.6345    875.63586   861.9753   1095.8923    633.3642\n",
            " 1997.5417    558.916     798.45056  1357.62      445.4097     72.312195\n",
            " 1430.101      84.0078    487.20508  1910.8801   1189.6274    229.78194\n",
            "  233.48235  1997.5417    952.3985   1185.7273    541.3651   1910.8801\n",
            " 1985.8701    713.9559    798.45056  1669.1917    630.66296  1189.5435\n",
            " 1430.101     558.916     487.20508  1189.6274   1908.4022   1124.8721\n",
            " 1736.2751   1985.8701   1587.6841    635.4057    233.48235   630.66296\n",
            "  370.2582    404.93732    72.31203  1600.748    1817.2434    884.732\n",
            " 1600.748    1360.6345    944.71094  1997.5417   1124.8721    633.3642\n",
            "  709.61334   445.4096     72.31203   789.7929   1264.9199   1273.9329\n",
            " 1264.9199   1260.8206   1585.4081   1736.2751    635.4057    633.3642\n",
            "  141.65752   709.61334  1427.5693   1910.8801    445.4096   1360.6345\n",
            "   72.31203   149.46323 ]\n"
          ]
        },
        {
          "output_type": "display_data",
          "data": {
            "text/plain": [
              "<Figure size 432x288 with 1 Axes>"
            ],
            "image/png": "[encoded data removed]"
          },
          "metadata": {
            "needs_background": "light"
          }
        },
        {
          "output_type": "display_data",
          "data": {
            "text/plain": [
              "<Figure size 432x288 with 1 Axes>"
            ],
            "image/png": "[encoded data removed]"
          },
          "metadata": {
            "needs_background": "light"
          }
        }
      ]
    },
    {
      "cell_type": "markdown",
      "source": [
        "# No HOPE"
      ],
      "metadata": {
        "id": "h9f1jAw-Ios1"
      }
    },
    {
      "cell_type": "code",
      "source": [
        "def get_reference_and_sample_data(working_df, num_reference):\n",
        "  import random\n",
        "  num_of_ids = len(working_df['PBRS_id'].unique())\n",
        "\n",
        "  l = list(range(1, num_of_ids+1))\n",
        "  random.shuffle(l)\n",
        "  reference_arr = (l[:num_reference])\n",
        "  sample_arr = l[-(num_of_ids-num_reference):]\n",
        "\n",
        "  reference_data_df = working_df[working_df['PBRS_id'].isin(reference_arr)]\n",
        "  sample_data_df = working_df[working_df['PBRS_id'].isin(sample_arr)]\n",
        "  \n",
        "  return reference_data_df, sample_data_df\n",
        "\n",
        "def frequencies_filter(df, num_selected_freq=20):\n",
        "  info_df = df.iloc[:, 0:6]\n",
        "  data_df = df.iloc[:, 6:df.shape[1]]\n",
        "  span_val = int(data_df.shape[1]/num_selected_freq)\n",
        "  for i in range(num_selected_freq):\n",
        "    df2 = data_df.iloc[:, (i+1)*span_val].to_frame()\n",
        "    if i+1 == 1:\n",
        "      new_df = df2\n",
        "    else:\n",
        "      new_df = pd.merge(new_df, df2, left_index=True, right_index=True)\n",
        "  new_df = info_df.join(new_df)\n",
        "  \n",
        "  return new_df\n",
        "\n",
        "def get_idx_train_test_split(working_df, trainingProp = 0.8):\n",
        "  rows_training = np.array([])\n",
        "  rows_testing = np.array([])\n",
        "  distances = [x*80 for x in range(1, 26)]\n",
        "  for d in distances:\n",
        "    distance_working_df = working_df.loc[working_df['Distance_km'] == d]\n",
        "    rows_mixed=np.random.permutation(distance_working_df.shape[0])\n",
        "\n",
        "    training_amt = math.ceil(distance_working_df.shape[0]*trainingProp)\n",
        "    testing_amt = distance_working_df.shape[0] - training_amt\n",
        "\n",
        "    rows_training = np.append(rows_training, rows_mixed[:training_amt])\n",
        "    rows_testing = np.append(rows_testing, rows_mixed[-testing_amt:])\n",
        "  \n",
        "  rows_training = rows_training.astype('int').tolist()\n",
        "  rows_testing = rows_testing.astype('int').tolist()\n",
        "\n",
        "  return rows_training, rows_testing\n",
        "\n",
        "# Load network\n",
        "from keras.models import Sequential\n",
        "from keras.layers import Dense,Conv2D, Flatten\n",
        "from keras.wrappers.scikit_learn import KerasRegressor\n",
        "from keras.callbacks import EarlyStopping\n",
        "from tqdm.keras import TqdmCallback\n",
        "\n",
        "def ann():\n",
        "  model = Sequential()\n",
        "  model.add(Dense(76, input_dim = 5, activation = 'tanh'))\n",
        "  model.add(Dense(38,activation='tanh'))\n",
        "  model.add(Dense(19,activation='tanh'))\n",
        "  model.add(Dense(9,activation='tanh'))\n",
        "  model.add(Dense(1))\n",
        "  model.compile(loss ='mean_squared_error',optimizer = 'RMSprop')\n",
        "  return model\n",
        "\n",
        "def get_feature(data_split_df, reference_freq_data_df, reference_distance_eval_params=(False, 80)):\n",
        "  reference_eval = reference_freq_data_df.copy()\n",
        "  if reference_distance_eval_params[0] == True:\n",
        "    reference_eval = reference_freq_data_df.loc[reference_freq_data_df['Distance_km'] == reference_distance_eval_params[1]]\n",
        "\n",
        "  data_distance = []\n",
        "  data_mean = []\n",
        "  data_std = []\n",
        "  data_pearson_min = []\n",
        "  data_pearson_mean = []\n",
        "  data_pearson_max = []\n",
        "  data_CI_lower = []\n",
        "  data_CI_upper = []\n",
        "\n",
        "  for idx in tqdm(range(len(data_split_df))):\n",
        "    Y_label = data_split_df.iloc[idx, 3]\n",
        "    X_label = data_split_df.iloc[idx, 6:data_split_df.shape[1]]\n",
        "    data_distance.append(int(Y_label))\n",
        "    data_std.append(round(np.std(X_label), 5))\n",
        "    data_mean.append(round(np.mean(X_label), 5))\n",
        "    \n",
        "    data_ci = st.t.interval(alpha=0.90, df=len(X_label)-1, loc=np.mean(X_label), scale=st.sem(X_label))\n",
        "    data_confidence_int_lower = data_ci[0]\n",
        "    data_confidence_int_upper = data_ci[1]\n",
        "\n",
        "    pearson_vals = []\n",
        "    ci_lower_delta = []\n",
        "    ci_upper_delta = []\n",
        "    for reference_idx in range(len(reference_eval)):\n",
        "      X_reference = reference_eval.iloc[reference_idx, 6:reference_eval.shape[1]]\n",
        "      pearson_vals.append(round(pearsonr(X_label, X_reference)[0], 5))\n",
        "\n",
        "      reference_ci = st.t.interval(alpha=0.90, df=len(X_reference)-1, loc=np.mean(X_reference), scale=st.sem(X_reference))\n",
        "      reference_confidence_int_lower = reference_ci[0]\n",
        "      reference_confidence_int_upper = reference_ci[1]\n",
        "\n",
        "      delta_ci_lower = abs(reference_confidence_int_lower - data_confidence_int_lower)\n",
        "      ci_lower_delta.append(round(delta_ci_lower, 5))\n",
        "      delta_ci_upper = abs(reference_confidence_int_upper - data_confidence_int_upper)\n",
        "      ci_upper_delta.append(round(delta_ci_upper, 5))\n",
        "\n",
        "    data_pearson_min.append(np.min(pearson_vals))\n",
        "    data_pearson_mean.append(np.mean(pearson_vals))    \n",
        "    data_pearson_max.append(np.max(pearson_vals))\n",
        "\n",
        "    data_CI_lower.append(np.min(ci_lower_delta))\n",
        "    data_CI_upper.append(np.min(ci_upper_delta))\n",
        "\n",
        "  data = {'distance':data_distance,\n",
        "                  'mean':data_mean,\n",
        "                  'std':data_std,\n",
        "                  'pearson_min':data_pearson_min,\n",
        "                  'pearson_mean':data_pearson_mean,\n",
        "                  'pearson_max':data_pearson_max,\n",
        "                  'delta_CI_min':data_CI_lower,\n",
        "                  'delta_CI_max':data_CI_upper}\n",
        "\n",
        "  data_df = pd.DataFrame(data)\n",
        "  return data_df"
      ],
      "metadata": {
        "id": "OJYKBK-BI9jf"
      },
      "execution_count": 46,
      "outputs": []
    },
    {
      "cell_type": "code",
      "source": [
        "num_of_freq_selected = 10\n",
        "reference_amt = 30\n",
        "input_path = path + \"/Spectrum/NN/new_data_working_df.csv\"\n",
        "\n",
        "# Load network\n",
        "from keras.models import load_model\n",
        "mm = KerasRegressor(build_fn=ann, epochs=8000, batch_size=32, verbose=0)\n",
        "mm.model = load_model(path+\"/Spectrum/NN/NNs/final_new_data_NN_model_freq_10_reference_30.h5\")\n",
        "\n",
        "res = {}\n",
        "reference_test = [80, 1040, 2000]\n",
        "distances = [x*80 for x in range(1, 26)]\n",
        "\n",
        "working_df = pd.read_csv(input_path)\n",
        "working_df['Distance_km'] = working_df['Distance_km'].astype(int)\n",
        "\n",
        "reference_data_df, sample_data_df = get_reference_and_sample_data(working_df, reference_amt)\n",
        "\n",
        "reference_freq_data_df = frequencies_filter(reference_data_df, num_selected_freq=num_of_freq_selected)\n",
        "sample_freq_data_df = frequencies_filter(sample_data_df, num_selected_freq=num_of_freq_selected)\n",
        "\n",
        "rows_training, rows_testing = get_idx_train_test_split(sample_data_df, trainingProp = 0.8)\n",
        "\n",
        "\n",
        "#train_split_filter = sample_freq_data_df['PBRS_id'].isin(rows_training)\n",
        "train_split = sample_freq_data_df.iloc[rows_training]\n",
        "\n",
        "#test_split_filter = sample_freq_data_df['PBRS_id'].isin(rows_testing)\n",
        "test_split = sample_freq_data_df.iloc[rows_testing]\n",
        "\n",
        "train_df = get_feature(train_split, reference_freq_data_df, reference_distance_eval_params=(False, 80))\n",
        "test_df = get_feature(test_split, reference_freq_data_df, reference_distance_eval_params=(False, 80))\n",
        "\n",
        "for r in reference_test:\n",
        "\n",
        "  Y = train_df.iloc[:, 0].to_numpy().reshape(-1,1)\n",
        "  X = train_df.iloc[:, 1:train_df.shape[1]]-2\n",
        "\n",
        "  sc_input = MinMaxScaler()\n",
        "  sc_output = MinMaxScaler()\n",
        "  Y_train = sc_output.fit_transform(Y) # convert distances to values from 0 to 1\n",
        "  X_train = sc_input.fit_transform(X) # convert features to values from 0 to 1\n",
        "  \n",
        "  dist_min=sc_output.data_min_[0] # 80\n",
        "  dist_max=sc_output.data_max_[0] # 2000\n",
        "\n",
        "  print(dist_min)\n",
        "  print(dist_max)\n",
        "  \n",
        "  Y = test_df.iloc[:, 0].to_numpy().reshape(-1,1)\n",
        "  X = test_df.iloc[:, 1:test_df.shape[1]-2]\n",
        "\n",
        "  Y_test = sc_output.fit_transform(Y) # convert distances to values from 0 to 1\n",
        "  X_test = sc_input.fit_transform(X) # convert features to values from 0 to 1\n",
        "\n",
        "  # Load model\n",
        "  Y_test_pred=model_ann_c.predict(X_test)\n",
        "  pred=list(Y_test_pred)\n",
        "  print('pred')\n",
        "  print(pred)\n",
        "\n",
        "  real=list(list(zip(*Y_test))[0])\n",
        "  real_abs=np.add(dist_min,np.multiply((dist_max-dist_min),real)) # convert back to distances values from scalar\n",
        "  real_abs=[int(np.round(i)) for i in real_abs]\n",
        "  pred_abs=np.add(dist_min,np.multiply((dist_max-dist_min),pred)) # convert back to distances values from scalar\n",
        "  print('real abs')\n",
        "  print(real_abs)\n",
        "  print('pred abs')\n",
        "  print(pred_abs)\n",
        "  real_split ={}\n",
        "  for d in distances:\n",
        "    matches = [i for i in range(0,len(real_abs)) if real_abs[i]==d]\n",
        "    real_split[d] = matches\n",
        "  print('real_split')\n",
        "  print(real_split[r])\n",
        "  pred_res = []\n",
        "  for d_real, matches_idx in real_split.items():\n",
        "    pred_m = [pred_abs[m_idx] for m_idx in matches_idx]\n",
        "    pred_res.append(round(np.mean(pred_m), 5))\n",
        "    if d_real == r:\n",
        "      print('pred_m')\n",
        "      print(pred_m)\n",
        "\n",
        "  res[r] = pred_res\n",
        "print('-----------------------------------------------------------------------')\n",
        "print('Resuslts')\n",
        "\n",
        "plt.figure(figsize=(15, 10))\n",
        "plt.plot(distances, distances,  linestyle='--')\n",
        "plt.plot(distances, res[80], label='Reference '+str(80))\n",
        "plt.plot(distances, res[1040], label='Reference '+str(1040))\n",
        "plt.plot(distances, res[2000], label='Reference '+str(2000))\n",
        "plt.title('Real vs Predicted Distances')\n",
        "plt.xlabel('Real Distances')\n",
        "plt.ylabel('Predicted Distances')\n",
        "plt.xlim(np.min(distances)-25, np.max(distances)+25)\n",
        "plt.ylim(np.min(distances)-25, np.max(distances)+25)\n",
        "plt.yticks(distances)\n",
        "plt.xticks(distances)\n",
        "plt.legend(loc=\"best\")\n",
        "plt.show()\n",
        "\n",
        "print(res)\n",
        "print('-----------------------------------------------------------------------')"
      ],
      "metadata": {
        "colab": {
          "base_uri": "https://localhost:8080/",
          "height": 1000
        },
        "id": "UictGjFkIqr1",
        "outputId": "1af8c351-70ff-41b5-9978-168068c64101"
      },
      "execution_count": 50,
      "outputs": [
        {
          "output_type": "stream",
          "name": "stderr",
          "text": [
            "100%|██████████| 1400/1400 [19:37<00:00,  1.19it/s]\n",
            "100%|██████████| 350/350 [04:52<00:00,  1.20it/s]\n"
          ]
        },
        {
          "output_type": "stream",
          "name": "stdout",
          "text": [
            "80.0\n",
            "2000.0\n",
            "pred\n",
            "[0.36564744, 0.3629243, -0.01582741, -0.01961611, 0.4290525, 0.7499236, 0.748018, 0.64937145, 0.7442188, 0.56079006, 0.37708202, 0.5966089, 0.034712613, 0.042505737, 0.75060225, 0.7207189, 0.37742808, 0.042505737, 0.7424488, -0.01582741, 0.7442188, 0.6379717, 0.034712613, -0.01961611, 0.37379953, 0.6489684, 0.30020434, 0.41189665, 0.38651744, 0.5466674, 0.74657047, -0.01961611, 0.41630143, 0.4129344, 0.2717179, 0.7207189, 0.75060225, 0.13422851, -0.026325932, 0.6076014, 0.09733967, 0.7424488, 0.38651744, 0.6578012, 0.30117214, 0.49017668, 0.644397, 0.57719666, 0.748018, 0.4490033, 0.61990756, 0.5966089, 0.37708202, 0.09733967, 0.40958259, 0.7424488, 0.34558687, 0.37379953, 0.6578012, 0.4903315, 0.36564744, 0.5246394, 0.03148094, 0.27171782, 0.6489684, 0.4490033, 0.7499236, 0.64937145, 0.3003449, 0.6379717, 0.65931547, 0.042505737, 0.748018, 0.4903315, 0.6634862, 0.644397, 0.4712934, 0.2717179, 0.41189665, 0.41274568, 0.7442188, 0.031480957, 0.6158329, 0.7514939, 0.64937145, 0.6489684, 0.53803784, 0.6578012, 0.40958259, 0.41630143, 0.3003449, 0.24089073, 0.4490033, 0.5966089, 0.41293427, 0.097339585, 0.63430405, 0.60870874, 0.6634862, 0.20934771, 0.5466674, 0.53803784, 0.64937145, 0.65931547, 0.61990756, 0.37742808, 0.7207189, 0.57719666, 0.41112596, -0.01582741, 0.30020434, -0.014939817, 0.37708202, 0.41189665, 0.38651744, 0.13422851, 0.6489684, 0.57719666, 0.49017668, 0.64937145, 0.5386779, 0.74657047, 0.7424488, 0.4712934, 0.30020434, 0.7450878, 0.7450878, 0.3003449, 0.53803784, 0.4903315, 0.4129344, 0.49017668, 0.58316964, 0.7424488, 0.2717179, 0.37742808, 0.644397, 0.38651744, 0.13422851, 0.30117214, 0.4712934, 0.37379953, 0.74657047, 0.30117214, 0.58316964, 0.5966089, 0.30020434, 0.5386779, 0.3629243, 0.4903315, 0.64937145, 0.53803784, 0.65655166, 0.41274568, -0.01961611, 0.41274568, 0.41189665, 0.37742808, 0.24089076, 0.5831697, 0.13422851, 0.034712613, 0.2717179, 0.12014899, 0.042505737, 0.3629243, 0.34131956, 0.09733967, 0.57719666, 0.5246394, 0.3629243, 0.7499236, 0.56079006, 0.74657047, 0.60870874, 0.6379717, 0.6489684, -0.01961611, 0.44984928, 0.12014899, 0.09733967, 0.6158329, 0.41523078, 0.65931547, 0.7442188, 0.75060225, -0.01961611, -0.026325932, 0.6489684, -0.014939817, 0.7514938, 0.54666746, 0.41112596, 0.042505737, 0.5386779, 0.60870874, 0.7499236, 0.37742808, 0.53803784, 0.37379953, -0.01961611, 0.30020434, 0.24089073, 0.7450878, -0.01582741, 0.75060225, 0.042505737, 0.34131956, 0.30117214, 0.09733967, 0.12014899, 0.5466674, 0.7450878, 0.6578012, 0.3003449, 0.36564744, 0.65655166, 0.41112596, 0.047544867, 0.7207189, 0.41630143, 0.6076014, 0.7499235, 0.47129342, 0.5466674, 0.34558687, 0.6634862, 0.64937145, 0.30020434, 0.4903315, 0.4712934, 0.20934771, 0.24089073, 0.37742808, 0.3003449, 0.49017668, 0.034712613, 0.031480957, 0.37379953, 0.30117214, 0.20934771, 0.46910316, 0.644397, 0.61990756, 0.34558687, 0.034712613, 0.75060225, 0.65655166, 0.6578012, -0.026325932, 0.5466674, 0.58316964, 0.38651744, 0.2717179, 0.30117208, -0.01961611, 0.7207189, 0.60870874, 0.37708202, 0.49017668, 0.09733967, 0.5246394, 0.4903315, 0.644397, 0.12014899, 0.30020434, 0.30117214, 0.644397, 0.41225475, 0.4903315, 0.60870874, 0.3003449, 0.4490033, 0.12014899, 0.41112596, 0.4290525, 0.74657047, 0.13422851, 0.34131956, 0.37379953, 0.34131956, 0.09733967, 0.7207189, 0.7424488, 0.5246394, 0.30020434, 0.41112605, 0.3455868, 0.46910316, 0.5966089, 0.6076014, 0.6634862, 0.5386779, 0.36564744, 0.65931547, 0.5386779, 0.37708202, 0.41112596, 0.30117214, 0.41523078, 0.24089073, 0.6076014, 0.61990756, 0.7499236, 0.20934771, 0.53803784, 0.042505737, 0.38651744, 0.57719666, 0.65931547, 0.49017668, 0.41274568, 0.7514939, 0.60870874, 0.031480957, 0.37742808, 0.37708202, 0.6379717, 0.6493714, 0.40958256, 0.09733967, 0.63430405, 0.53803784, 0.4290525, 0.7499236, 0.6158329, -0.01582741, 0.4903315, 0.6634862, 0.4490033, 0.56079006, 0.44984928, 0.41189665, 0.12014899, 0.34558687, 0.58316964, 0.7424488, 0.7450878, 0.57719666, 0.46910316, 0.5466674, 0.6578012, 0.41225475, -0.014939817, 0.6158329, 0.65931547, -0.026325932, 0.63430405, 0.65655166, 0.034712613]\n",
            "real abs\n",
            "[640, 80, 240, 640, 1920, 1520, 640, 1120, 480, 1520, 1680, 1120, 560, 160, 800, 160, 1600, 160, 400, 240, 480, 1280, 560, 640, 1120, 1200, 240, 1920, 400, 1040, 720, 640, 1200, 1840, 880, 160, 800, 800, 400, 1440, 720, 400, 400, 1040, 320, 1440, 1360, 1600, 640, 1680, 960, 1120, 1680, 720, 2000, 400, 560, 1120, 1040, 1520, 640, 320, 320, 880, 1200, 1680, 1520, 1120, 160, 1280, 880, 160, 640, 1520, 960, 1360, 1600, 880, 1920, 1280, 480, 320, 880, 1280, 1120, 1200, 720, 1040, 2000, 1200, 160, 960, 1680, 1120, 1840, 720, 1200, 1360, 960, 1040, 1040, 720, 1120, 880, 960, 1600, 160, 1600, 1440, 240, 240, 80, 1680, 1920, 400, 800, 1200, 1600, 1440, 1120, 1360, 720, 400, 1600, 240, 560, 560, 160, 720, 1520, 1840, 1440, 240, 400, 880, 1600, 1360, 400, 800, 320, 1600, 1120, 720, 320, 240, 1120, 240, 1360, 80, 1520, 1120, 720, 800, 1280, 640, 1280, 1920, 1600, 960, 240, 800, 560, 880, 80, 160, 80, 480, 720, 1600, 320, 80, 1520, 1520, 720, 1360, 1280, 1200, 640, 1840, 80, 720, 880, 1760, 880, 480, 800, 640, 400, 1200, 80, 1280, 1040, 1440, 160, 1360, 1360, 1520, 1600, 720, 1120, 640, 240, 960, 560, 240, 800, 160, 480, 320, 720, 80, 1040, 560, 1040, 160, 640, 800, 1440, 480, 160, 1200, 1440, 1520, 1600, 1040, 560, 960, 1120, 240, 1520, 1600, 1040, 960, 1600, 160, 1440, 560, 320, 1120, 320, 1040, 1760, 1360, 960, 560, 560, 800, 800, 1040, 400, 1040, 240, 400, 880, 320, 640, 160, 1360, 1680, 1440, 720, 320, 1520, 1360, 80, 240, 320, 1360, 2000, 1520, 1360, 160, 1680, 80, 1440, 1920, 720, 800, 480, 1120, 480, 720, 160, 400, 320, 240, 1440, 560, 1760, 1120, 1440, 960, 1360, 640, 880, 1360, 1680, 1440, 320, 1760, 960, 1440, 960, 1520, 1040, 720, 160, 400, 1600, 880, 1440, 1280, 1280, 1360, 320, 1600, 1680, 1280, 1120, 2000, 720, 1200, 720, 1920, 1520, 880, 240, 1520, 960, 1680, 1520, 1840, 1920, 80, 560, 240, 400, 560, 1600, 1760, 1040, 1040, 2000, 80, 880, 880, 400, 1200, 800, 560]\n",
            "pred abs\n",
            "[ 782.0431    776.8147     49.611374   42.337067  903.7808   1519.8533\n",
            " 1516.1946   1326.7932   1508.9001   1156.7169    803.9975   1225.489\n",
            "  146.64822   161.61102  1521.1562   1463.7803    804.6619    161.61102\n",
            " 1505.5017     49.611374 1508.9001   1304.9056    146.64822    42.337067\n",
            "  797.6951   1326.0193    656.39233   870.84155   822.11346  1129.6014\n",
            " 1513.4153     42.337067  879.29877   872.83405   601.69836  1463.7803\n",
            " 1521.1562    337.71875    29.454212 1246.5947    266.89215  1505.5017\n",
            "  822.11346  1342.9783    658.2505   1021.1392   1317.2423   1188.2175\n",
            " 1516.1946    942.08636  1270.2225   1225.489     803.9975    266.89215\n",
            "  866.39856  1505.5017    743.5268    797.6951   1342.9783   1021.43646\n",
            "  782.0431   1087.3076    140.4434    601.6982   1326.0193    942.08636\n",
            " 1519.8533   1326.7932    656.66223  1304.9056   1345.8857    161.61102\n",
            " 1516.1946   1021.43646  1353.8934   1317.2423    984.8833    601.69836\n",
            "  870.84155   872.47174  1508.9001    140.44344  1262.3992   1522.8683\n",
            " 1326.7932   1326.0193   1113.0326   1342.9783    866.39856   879.29877\n",
            "  656.66223   542.5102    942.08636  1225.489     872.8338    266.892\n",
            " 1297.8638   1248.7208   1353.8934    481.9476   1129.6014   1113.0326\n",
            " 1326.7932   1345.8857   1270.2225    804.6619   1463.7803   1188.2175\n",
            "  869.3618     49.611374  656.39233    51.31555   803.9975    870.84155\n",
            "  822.11346   337.71875  1326.0193   1188.2175   1021.1392   1326.7932\n",
            " 1114.2615   1513.4153   1505.5017    984.8833    656.39233  1510.5686\n",
            " 1510.5686    656.66223  1113.0326   1021.43646   872.83405  1021.1392\n",
            " 1199.6857   1505.5017    601.69836   804.6619   1317.2423    822.11346\n",
            "  337.71875   658.2505    984.8833    797.6951   1513.4153    658.2505\n",
            " 1199.6857   1225.489     656.39233  1114.2615    776.8147   1021.43646\n",
            " 1326.7932   1113.0326   1340.5792    872.47174    42.337067  872.47174\n",
            "  870.84155   804.6619    542.51025  1199.6858    337.71875   146.64822\n",
            "  601.69836   310.68604   161.61102   776.8147    735.33356   266.89215\n",
            " 1188.2175   1087.3076    776.8147   1519.8533   1156.7169   1513.4153\n",
            " 1248.7208   1304.9056   1326.0193     42.337067  943.71063   310.68604\n",
            "  266.89215  1262.3992    877.2431   1345.8857   1508.9001   1521.1562\n",
            "   42.337067   29.454212 1326.0193     51.31555  1522.8682   1129.6016\n",
            "  869.3618    161.61102  1114.2615   1248.7208   1519.8533    804.6619\n",
            " 1113.0326    797.6951     42.337067  656.39233   542.5102   1510.5686\n",
            "   49.611374 1521.1562    161.61102   735.33356   658.2505    266.89215\n",
            "  310.68604  1129.6014   1510.5686   1342.9783    656.66223   782.0431\n",
            " 1340.5792    869.3618    171.28615  1463.7803    879.29877  1246.5947\n",
            " 1519.8531    984.88336  1129.6014    743.5268   1353.8934   1326.7932\n",
            "  656.39233  1021.43646   984.8833    481.9476    542.5102    804.6619\n",
            "  656.66223  1021.1392    146.64822   140.44344   797.6951    658.2505\n",
            "  481.9476    980.67804  1317.2423   1270.2225    743.5268    146.64822\n",
            " 1521.1562   1340.5792   1342.9783     29.454212 1129.6014   1199.6857\n",
            "  822.11346   601.69836   658.25037    42.337067 1463.7803   1248.7208\n",
            "  803.9975   1021.1392    266.89215  1087.3076   1021.43646  1317.2423\n",
            "  310.68604   656.39233   658.2505   1317.2423    871.5291   1021.43646\n",
            " 1248.7208    656.66223   942.08636   310.68604   869.3618    903.7808\n",
            " 1513.4153    337.71875   735.33356   797.6951    735.33356   266.89215\n",
            " 1463.7803   1505.5017   1087.3076    656.39233   869.362     743.5267\n",
            "  980.67804  1225.489    1246.5947   1353.8934   1114.2615    782.0431\n",
            " 1345.8857   1114.2615    803.9975    869.3618    658.2505    877.2431\n",
            "  542.5102   1246.5947   1270.2225   1519.8533    481.9476   1113.0326\n",
            "  161.61102   822.11346  1188.2175   1345.8857   1021.1392    872.47174\n",
            " 1522.8683   1248.7208    140.44344   804.6619    803.9975   1304.9056\n",
            " 1326.7931    866.3985    266.89215  1297.8638   1113.0326    903.7808\n",
            " 1519.8533   1262.3992     49.611374 1021.43646  1353.8934    942.08636\n",
            " 1156.7169    943.71063   870.84155   310.68604   743.5268   1199.6857\n",
            " 1505.5017   1510.5686   1188.2175    980.67804  1129.6014   1342.9783\n",
            "  871.5291     51.31555  1262.3992   1345.8857     29.454212 1297.8638\n",
            " 1340.5792    146.64822 ]\n",
            "real_split\n",
            "[1, 111, 148, 163, 165, 170, 179, 189, 210, 264, 273, 333, 343]\n",
            "pred_m\n",
            "[776.8147, 51.31555, 776.8147, 310.68604, 776.8147, 776.8147, 310.68604, 51.31555, 310.68604, 310.68604, 310.68604, 310.68604, 51.31555]\n",
            "80.0\n",
            "2000.0\n",
            "pred\n",
            "[0.36564744, 0.3629243, -0.01582741, -0.01961611, 0.4290525, 0.7499236, 0.748018, 0.64937145, 0.7442188, 0.56079006, 0.37708202, 0.5966089, 0.034712613, 0.042505737, 0.75060225, 0.7207189, 0.37742808, 0.042505737, 0.7424488, -0.01582741, 0.7442188, 0.6379717, 0.034712613, -0.01961611, 0.37379953, 0.6489684, 0.30020434, 0.41189665, 0.38651744, 0.5466674, 0.74657047, -0.01961611, 0.41630143, 0.4129344, 0.2717179, 0.7207189, 0.75060225, 0.13422851, -0.026325932, 0.6076014, 0.09733967, 0.7424488, 0.38651744, 0.6578012, 0.30117214, 0.49017668, 0.644397, 0.57719666, 0.748018, 0.4490033, 0.61990756, 0.5966089, 0.37708202, 0.09733967, 0.40958259, 0.7424488, 0.34558687, 0.37379953, 0.6578012, 0.4903315, 0.36564744, 0.5246394, 0.03148094, 0.27171782, 0.6489684, 0.4490033, 0.7499236, 0.64937145, 0.3003449, 0.6379717, 0.65931547, 0.042505737, 0.748018, 0.4903315, 0.6634862, 0.644397, 0.4712934, 0.2717179, 0.41189665, 0.41274568, 0.7442188, 0.031480957, 0.6158329, 0.7514939, 0.64937145, 0.6489684, 0.53803784, 0.6578012, 0.40958259, 0.41630143, 0.3003449, 0.24089073, 0.4490033, 0.5966089, 0.41293427, 0.097339585, 0.63430405, 0.60870874, 0.6634862, 0.20934771, 0.5466674, 0.53803784, 0.64937145, 0.65931547, 0.61990756, 0.37742808, 0.7207189, 0.57719666, 0.41112596, -0.01582741, 0.30020434, -0.014939817, 0.37708202, 0.41189665, 0.38651744, 0.13422851, 0.6489684, 0.57719666, 0.49017668, 0.64937145, 0.5386779, 0.74657047, 0.7424488, 0.4712934, 0.30020434, 0.7450878, 0.7450878, 0.3003449, 0.53803784, 0.4903315, 0.4129344, 0.49017668, 0.58316964, 0.7424488, 0.2717179, 0.37742808, 0.644397, 0.38651744, 0.13422851, 0.30117214, 0.4712934, 0.37379953, 0.74657047, 0.30117214, 0.58316964, 0.5966089, 0.30020434, 0.5386779, 0.3629243, 0.4903315, 0.64937145, 0.53803784, 0.65655166, 0.41274568, -0.01961611, 0.41274568, 0.41189665, 0.37742808, 0.24089076, 0.5831697, 0.13422851, 0.034712613, 0.2717179, 0.12014899, 0.042505737, 0.3629243, 0.34131956, 0.09733967, 0.57719666, 0.5246394, 0.3629243, 0.7499236, 0.56079006, 0.74657047, 0.60870874, 0.6379717, 0.6489684, -0.01961611, 0.44984928, 0.12014899, 0.09733967, 0.6158329, 0.41523078, 0.65931547, 0.7442188, 0.75060225, -0.01961611, -0.026325932, 0.6489684, -0.014939817, 0.7514938, 0.54666746, 0.41112596, 0.042505737, 0.5386779, 0.60870874, 0.7499236, 0.37742808, 0.53803784, 0.37379953, -0.01961611, 0.30020434, 0.24089073, 0.7450878, -0.01582741, 0.75060225, 0.042505737, 0.34131956, 0.30117214, 0.09733967, 0.12014899, 0.5466674, 0.7450878, 0.6578012, 0.3003449, 0.36564744, 0.65655166, 0.41112596, 0.047544867, 0.7207189, 0.41630143, 0.6076014, 0.7499235, 0.47129342, 0.5466674, 0.34558687, 0.6634862, 0.64937145, 0.30020434, 0.4903315, 0.4712934, 0.20934771, 0.24089073, 0.37742808, 0.3003449, 0.49017668, 0.034712613, 0.031480957, 0.37379953, 0.30117214, 0.20934771, 0.46910316, 0.644397, 0.61990756, 0.34558687, 0.034712613, 0.75060225, 0.65655166, 0.6578012, -0.026325932, 0.5466674, 0.58316964, 0.38651744, 0.2717179, 0.30117208, -0.01961611, 0.7207189, 0.60870874, 0.37708202, 0.49017668, 0.09733967, 0.5246394, 0.4903315, 0.644397, 0.12014899, 0.30020434, 0.30117214, 0.644397, 0.41225475, 0.4903315, 0.60870874, 0.3003449, 0.4490033, 0.12014899, 0.41112596, 0.4290525, 0.74657047, 0.13422851, 0.34131956, 0.37379953, 0.34131956, 0.09733967, 0.7207189, 0.7424488, 0.5246394, 0.30020434, 0.41112605, 0.3455868, 0.46910316, 0.5966089, 0.6076014, 0.6634862, 0.5386779, 0.36564744, 0.65931547, 0.5386779, 0.37708202, 0.41112596, 0.30117214, 0.41523078, 0.24089073, 0.6076014, 0.61990756, 0.7499236, 0.20934771, 0.53803784, 0.042505737, 0.38651744, 0.57719666, 0.65931547, 0.49017668, 0.41274568, 0.7514939, 0.60870874, 0.031480957, 0.37742808, 0.37708202, 0.6379717, 0.6493714, 0.40958256, 0.09733967, 0.63430405, 0.53803784, 0.4290525, 0.7499236, 0.6158329, -0.01582741, 0.4903315, 0.6634862, 0.4490033, 0.56079006, 0.44984928, 0.41189665, 0.12014899, 0.34558687, 0.58316964, 0.7424488, 0.7450878, 0.57719666, 0.46910316, 0.5466674, 0.6578012, 0.41225475, -0.014939817, 0.6158329, 0.65931547, -0.026325932, 0.63430405, 0.65655166, 0.034712613]\n",
            "real abs\n",
            "[640, 80, 240, 640, 1920, 1520, 640, 1120, 480, 1520, 1680, 1120, 560, 160, 800, 160, 1600, 160, 400, 240, 480, 1280, 560, 640, 1120, 1200, 240, 1920, 400, 1040, 720, 640, 1200, 1840, 880, 160, 800, 800, 400, 1440, 720, 400, 400, 1040, 320, 1440, 1360, 1600, 640, 1680, 960, 1120, 1680, 720, 2000, 400, 560, 1120, 1040, 1520, 640, 320, 320, 880, 1200, 1680, 1520, 1120, 160, 1280, 880, 160, 640, 1520, 960, 1360, 1600, 880, 1920, 1280, 480, 320, 880, 1280, 1120, 1200, 720, 1040, 2000, 1200, 160, 960, 1680, 1120, 1840, 720, 1200, 1360, 960, 1040, 1040, 720, 1120, 880, 960, 1600, 160, 1600, 1440, 240, 240, 80, 1680, 1920, 400, 800, 1200, 1600, 1440, 1120, 1360, 720, 400, 1600, 240, 560, 560, 160, 720, 1520, 1840, 1440, 240, 400, 880, 1600, 1360, 400, 800, 320, 1600, 1120, 720, 320, 240, 1120, 240, 1360, 80, 1520, 1120, 720, 800, 1280, 640, 1280, 1920, 1600, 960, 240, 800, 560, 880, 80, 160, 80, 480, 720, 1600, 320, 80, 1520, 1520, 720, 1360, 1280, 1200, 640, 1840, 80, 720, 880, 1760, 880, 480, 800, 640, 400, 1200, 80, 1280, 1040, 1440, 160, 1360, 1360, 1520, 1600, 720, 1120, 640, 240, 960, 560, 240, 800, 160, 480, 320, 720, 80, 1040, 560, 1040, 160, 640, 800, 1440, 480, 160, 1200, 1440, 1520, 1600, 1040, 560, 960, 1120, 240, 1520, 1600, 1040, 960, 1600, 160, 1440, 560, 320, 1120, 320, 1040, 1760, 1360, 960, 560, 560, 800, 800, 1040, 400, 1040, 240, 400, 880, 320, 640, 160, 1360, 1680, 1440, 720, 320, 1520, 1360, 80, 240, 320, 1360, 2000, 1520, 1360, 160, 1680, 80, 1440, 1920, 720, 800, 480, 1120, 480, 720, 160, 400, 320, 240, 1440, 560, 1760, 1120, 1440, 960, 1360, 640, 880, 1360, 1680, 1440, 320, 1760, 960, 1440, 960, 1520, 1040, 720, 160, 400, 1600, 880, 1440, 1280, 1280, 1360, 320, 1600, 1680, 1280, 1120, 2000, 720, 1200, 720, 1920, 1520, 880, 240, 1520, 960, 1680, 1520, 1840, 1920, 80, 560, 240, 400, 560, 1600, 1760, 1040, 1040, 2000, 80, 880, 880, 400, 1200, 800, 560]\n",
            "pred abs\n",
            "[ 782.0431    776.8147     49.611374   42.337067  903.7808   1519.8533\n",
            " 1516.1946   1326.7932   1508.9001   1156.7169    803.9975   1225.489\n",
            "  146.64822   161.61102  1521.1562   1463.7803    804.6619    161.61102\n",
            " 1505.5017     49.611374 1508.9001   1304.9056    146.64822    42.337067\n",
            "  797.6951   1326.0193    656.39233   870.84155   822.11346  1129.6014\n",
            " 1513.4153     42.337067  879.29877   872.83405   601.69836  1463.7803\n",
            " 1521.1562    337.71875    29.454212 1246.5947    266.89215  1505.5017\n",
            "  822.11346  1342.9783    658.2505   1021.1392   1317.2423   1188.2175\n",
            " 1516.1946    942.08636  1270.2225   1225.489     803.9975    266.89215\n",
            "  866.39856  1505.5017    743.5268    797.6951   1342.9783   1021.43646\n",
            "  782.0431   1087.3076    140.4434    601.6982   1326.0193    942.08636\n",
            " 1519.8533   1326.7932    656.66223  1304.9056   1345.8857    161.61102\n",
            " 1516.1946   1021.43646  1353.8934   1317.2423    984.8833    601.69836\n",
            "  870.84155   872.47174  1508.9001    140.44344  1262.3992   1522.8683\n",
            " 1326.7932   1326.0193   1113.0326   1342.9783    866.39856   879.29877\n",
            "  656.66223   542.5102    942.08636  1225.489     872.8338    266.892\n",
            " 1297.8638   1248.7208   1353.8934    481.9476   1129.6014   1113.0326\n",
            " 1326.7932   1345.8857   1270.2225    804.6619   1463.7803   1188.2175\n",
            "  869.3618     49.611374  656.39233    51.31555   803.9975    870.84155\n",
            "  822.11346   337.71875  1326.0193   1188.2175   1021.1392   1326.7932\n",
            " 1114.2615   1513.4153   1505.5017    984.8833    656.39233  1510.5686\n",
            " 1510.5686    656.66223  1113.0326   1021.43646   872.83405  1021.1392\n",
            " 1199.6857   1505.5017    601.69836   804.6619   1317.2423    822.11346\n",
            "  337.71875   658.2505    984.8833    797.6951   1513.4153    658.2505\n",
            " 1199.6857   1225.489     656.39233  1114.2615    776.8147   1021.43646\n",
            " 1326.7932   1113.0326   1340.5792    872.47174    42.337067  872.47174\n",
            "  870.84155   804.6619    542.51025  1199.6858    337.71875   146.64822\n",
            "  601.69836   310.68604   161.61102   776.8147    735.33356   266.89215\n",
            " 1188.2175   1087.3076    776.8147   1519.8533   1156.7169   1513.4153\n",
            " 1248.7208   1304.9056   1326.0193     42.337067  943.71063   310.68604\n",
            "  266.89215  1262.3992    877.2431   1345.8857   1508.9001   1521.1562\n",
            "   42.337067   29.454212 1326.0193     51.31555  1522.8682   1129.6016\n",
            "  869.3618    161.61102  1114.2615   1248.7208   1519.8533    804.6619\n",
            " 1113.0326    797.6951     42.337067  656.39233   542.5102   1510.5686\n",
            "   49.611374 1521.1562    161.61102   735.33356   658.2505    266.89215\n",
            "  310.68604  1129.6014   1510.5686   1342.9783    656.66223   782.0431\n",
            " 1340.5792    869.3618    171.28615  1463.7803    879.29877  1246.5947\n",
            " 1519.8531    984.88336  1129.6014    743.5268   1353.8934   1326.7932\n",
            "  656.39233  1021.43646   984.8833    481.9476    542.5102    804.6619\n",
            "  656.66223  1021.1392    146.64822   140.44344   797.6951    658.2505\n",
            "  481.9476    980.67804  1317.2423   1270.2225    743.5268    146.64822\n",
            " 1521.1562   1340.5792   1342.9783     29.454212 1129.6014   1199.6857\n",
            "  822.11346   601.69836   658.25037    42.337067 1463.7803   1248.7208\n",
            "  803.9975   1021.1392    266.89215  1087.3076   1021.43646  1317.2423\n",
            "  310.68604   656.39233   658.2505   1317.2423    871.5291   1021.43646\n",
            " 1248.7208    656.66223   942.08636   310.68604   869.3618    903.7808\n",
            " 1513.4153    337.71875   735.33356   797.6951    735.33356   266.89215\n",
            " 1463.7803   1505.5017   1087.3076    656.39233   869.362     743.5267\n",
            "  980.67804  1225.489    1246.5947   1353.8934   1114.2615    782.0431\n",
            " 1345.8857   1114.2615    803.9975    869.3618    658.2505    877.2431\n",
            "  542.5102   1246.5947   1270.2225   1519.8533    481.9476   1113.0326\n",
            "  161.61102   822.11346  1188.2175   1345.8857   1021.1392    872.47174\n",
            " 1522.8683   1248.7208    140.44344   804.6619    803.9975   1304.9056\n",
            " 1326.7931    866.3985    266.89215  1297.8638   1113.0326    903.7808\n",
            " 1519.8533   1262.3992     49.611374 1021.43646  1353.8934    942.08636\n",
            " 1156.7169    943.71063   870.84155   310.68604   743.5268   1199.6857\n",
            " 1505.5017   1510.5686   1188.2175    980.67804  1129.6014   1342.9783\n",
            "  871.5291     51.31555  1262.3992   1345.8857     29.454212 1297.8638\n",
            " 1340.5792    146.64822 ]\n",
            "real_split\n",
            "[29, 43, 58, 87, 99, 100, 191, 211, 213, 224, 231, 240, 248, 250, 304, 340, 341]\n",
            "pred_m\n",
            "[1129.6014, 1342.9783, 1342.9783, 1342.9783, 481.9476, 1129.6014, 1129.6016, 1129.6014, 1342.9783, 1129.6014, 481.9476, 481.9476, 1342.9783, 1129.6014, 481.9476, 1129.6014, 1342.9783]\n",
            "80.0\n",
            "2000.0\n",
            "pred\n",
            "[0.36564744, 0.3629243, -0.01582741, -0.01961611, 0.4290525, 0.7499236, 0.748018, 0.64937145, 0.7442188, 0.56079006, 0.37708202, 0.5966089, 0.034712613, 0.042505737, 0.75060225, 0.7207189, 0.37742808, 0.042505737, 0.7424488, -0.01582741, 0.7442188, 0.6379717, 0.034712613, -0.01961611, 0.37379953, 0.6489684, 0.30020434, 0.41189665, 0.38651744, 0.5466674, 0.74657047, -0.01961611, 0.41630143, 0.4129344, 0.2717179, 0.7207189, 0.75060225, 0.13422851, -0.026325932, 0.6076014, 0.09733967, 0.7424488, 0.38651744, 0.6578012, 0.30117214, 0.49017668, 0.644397, 0.57719666, 0.748018, 0.4490033, 0.61990756, 0.5966089, 0.37708202, 0.09733967, 0.40958259, 0.7424488, 0.34558687, 0.37379953, 0.6578012, 0.4903315, 0.36564744, 0.5246394, 0.03148094, 0.27171782, 0.6489684, 0.4490033, 0.7499236, 0.64937145, 0.3003449, 0.6379717, 0.65931547, 0.042505737, 0.748018, 0.4903315, 0.6634862, 0.644397, 0.4712934, 0.2717179, 0.41189665, 0.41274568, 0.7442188, 0.031480957, 0.6158329, 0.7514939, 0.64937145, 0.6489684, 0.53803784, 0.6578012, 0.40958259, 0.41630143, 0.3003449, 0.24089073, 0.4490033, 0.5966089, 0.41293427, 0.097339585, 0.63430405, 0.60870874, 0.6634862, 0.20934771, 0.5466674, 0.53803784, 0.64937145, 0.65931547, 0.61990756, 0.37742808, 0.7207189, 0.57719666, 0.41112596, -0.01582741, 0.30020434, -0.014939817, 0.37708202, 0.41189665, 0.38651744, 0.13422851, 0.6489684, 0.57719666, 0.49017668, 0.64937145, 0.5386779, 0.74657047, 0.7424488, 0.4712934, 0.30020434, 0.7450878, 0.7450878, 0.3003449, 0.53803784, 0.4903315, 0.4129344, 0.49017668, 0.58316964, 0.7424488, 0.2717179, 0.37742808, 0.644397, 0.38651744, 0.13422851, 0.30117214, 0.4712934, 0.37379953, 0.74657047, 0.30117214, 0.58316964, 0.5966089, 0.30020434, 0.5386779, 0.3629243, 0.4903315, 0.64937145, 0.53803784, 0.65655166, 0.41274568, -0.01961611, 0.41274568, 0.41189665, 0.37742808, 0.24089076, 0.5831697, 0.13422851, 0.034712613, 0.2717179, 0.12014899, 0.042505737, 0.3629243, 0.34131956, 0.09733967, 0.57719666, 0.5246394, 0.3629243, 0.7499236, 0.56079006, 0.74657047, 0.60870874, 0.6379717, 0.6489684, -0.01961611, 0.44984928, 0.12014899, 0.09733967, 0.6158329, 0.41523078, 0.65931547, 0.7442188, 0.75060225, -0.01961611, -0.026325932, 0.6489684, -0.014939817, 0.7514938, 0.54666746, 0.41112596, 0.042505737, 0.5386779, 0.60870874, 0.7499236, 0.37742808, 0.53803784, 0.37379953, -0.01961611, 0.30020434, 0.24089073, 0.7450878, -0.01582741, 0.75060225, 0.042505737, 0.34131956, 0.30117214, 0.09733967, 0.12014899, 0.5466674, 0.7450878, 0.6578012, 0.3003449, 0.36564744, 0.65655166, 0.41112596, 0.047544867, 0.7207189, 0.41630143, 0.6076014, 0.7499235, 0.47129342, 0.5466674, 0.34558687, 0.6634862, 0.64937145, 0.30020434, 0.4903315, 0.4712934, 0.20934771, 0.24089073, 0.37742808, 0.3003449, 0.49017668, 0.034712613, 0.031480957, 0.37379953, 0.30117214, 0.20934771, 0.46910316, 0.644397, 0.61990756, 0.34558687, 0.034712613, 0.75060225, 0.65655166, 0.6578012, -0.026325932, 0.5466674, 0.58316964, 0.38651744, 0.2717179, 0.30117208, -0.01961611, 0.7207189, 0.60870874, 0.37708202, 0.49017668, 0.09733967, 0.5246394, 0.4903315, 0.644397, 0.12014899, 0.30020434, 0.30117214, 0.644397, 0.41225475, 0.4903315, 0.60870874, 0.3003449, 0.4490033, 0.12014899, 0.41112596, 0.4290525, 0.74657047, 0.13422851, 0.34131956, 0.37379953, 0.34131956, 0.09733967, 0.7207189, 0.7424488, 0.5246394, 0.30020434, 0.41112605, 0.3455868, 0.46910316, 0.5966089, 0.6076014, 0.6634862, 0.5386779, 0.36564744, 0.65931547, 0.5386779, 0.37708202, 0.41112596, 0.30117214, 0.41523078, 0.24089073, 0.6076014, 0.61990756, 0.7499236, 0.20934771, 0.53803784, 0.042505737, 0.38651744, 0.57719666, 0.65931547, 0.49017668, 0.41274568, 0.7514939, 0.60870874, 0.031480957, 0.37742808, 0.37708202, 0.6379717, 0.6493714, 0.40958256, 0.09733967, 0.63430405, 0.53803784, 0.4290525, 0.7499236, 0.6158329, -0.01582741, 0.4903315, 0.6634862, 0.4490033, 0.56079006, 0.44984928, 0.41189665, 0.12014899, 0.34558687, 0.58316964, 0.7424488, 0.7450878, 0.57719666, 0.46910316, 0.5466674, 0.6578012, 0.41225475, -0.014939817, 0.6158329, 0.65931547, -0.026325932, 0.63430405, 0.65655166, 0.034712613]\n",
            "real abs\n",
            "[640, 80, 240, 640, 1920, 1520, 640, 1120, 480, 1520, 1680, 1120, 560, 160, 800, 160, 1600, 160, 400, 240, 480, 1280, 560, 640, 1120, 1200, 240, 1920, 400, 1040, 720, 640, 1200, 1840, 880, 160, 800, 800, 400, 1440, 720, 400, 400, 1040, 320, 1440, 1360, 1600, 640, 1680, 960, 1120, 1680, 720, 2000, 400, 560, 1120, 1040, 1520, 640, 320, 320, 880, 1200, 1680, 1520, 1120, 160, 1280, 880, 160, 640, 1520, 960, 1360, 1600, 880, 1920, 1280, 480, 320, 880, 1280, 1120, 1200, 720, 1040, 2000, 1200, 160, 960, 1680, 1120, 1840, 720, 1200, 1360, 960, 1040, 1040, 720, 1120, 880, 960, 1600, 160, 1600, 1440, 240, 240, 80, 1680, 1920, 400, 800, 1200, 1600, 1440, 1120, 1360, 720, 400, 1600, 240, 560, 560, 160, 720, 1520, 1840, 1440, 240, 400, 880, 1600, 1360, 400, 800, 320, 1600, 1120, 720, 320, 240, 1120, 240, 1360, 80, 1520, 1120, 720, 800, 1280, 640, 1280, 1920, 1600, 960, 240, 800, 560, 880, 80, 160, 80, 480, 720, 1600, 320, 80, 1520, 1520, 720, 1360, 1280, 1200, 640, 1840, 80, 720, 880, 1760, 880, 480, 800, 640, 400, 1200, 80, 1280, 1040, 1440, 160, 1360, 1360, 1520, 1600, 720, 1120, 640, 240, 960, 560, 240, 800, 160, 480, 320, 720, 80, 1040, 560, 1040, 160, 640, 800, 1440, 480, 160, 1200, 1440, 1520, 1600, 1040, 560, 960, 1120, 240, 1520, 1600, 1040, 960, 1600, 160, 1440, 560, 320, 1120, 320, 1040, 1760, 1360, 960, 560, 560, 800, 800, 1040, 400, 1040, 240, 400, 880, 320, 640, 160, 1360, 1680, 1440, 720, 320, 1520, 1360, 80, 240, 320, 1360, 2000, 1520, 1360, 160, 1680, 80, 1440, 1920, 720, 800, 480, 1120, 480, 720, 160, 400, 320, 240, 1440, 560, 1760, 1120, 1440, 960, 1360, 640, 880, 1360, 1680, 1440, 320, 1760, 960, 1440, 960, 1520, 1040, 720, 160, 400, 1600, 880, 1440, 1280, 1280, 1360, 320, 1600, 1680, 1280, 1120, 2000, 720, 1200, 720, 1920, 1520, 880, 240, 1520, 960, 1680, 1520, 1840, 1920, 80, 560, 240, 400, 560, 1600, 1760, 1040, 1040, 2000, 80, 880, 880, 400, 1200, 800, 560]\n",
            "pred abs\n",
            "[ 782.0431    776.8147     49.611374   42.337067  903.7808   1519.8533\n",
            " 1516.1946   1326.7932   1508.9001   1156.7169    803.9975   1225.489\n",
            "  146.64822   161.61102  1521.1562   1463.7803    804.6619    161.61102\n",
            " 1505.5017     49.611374 1508.9001   1304.9056    146.64822    42.337067\n",
            "  797.6951   1326.0193    656.39233   870.84155   822.11346  1129.6014\n",
            " 1513.4153     42.337067  879.29877   872.83405   601.69836  1463.7803\n",
            " 1521.1562    337.71875    29.454212 1246.5947    266.89215  1505.5017\n",
            "  822.11346  1342.9783    658.2505   1021.1392   1317.2423   1188.2175\n",
            " 1516.1946    942.08636  1270.2225   1225.489     803.9975    266.89215\n",
            "  866.39856  1505.5017    743.5268    797.6951   1342.9783   1021.43646\n",
            "  782.0431   1087.3076    140.4434    601.6982   1326.0193    942.08636\n",
            " 1519.8533   1326.7932    656.66223  1304.9056   1345.8857    161.61102\n",
            " 1516.1946   1021.43646  1353.8934   1317.2423    984.8833    601.69836\n",
            "  870.84155   872.47174  1508.9001    140.44344  1262.3992   1522.8683\n",
            " 1326.7932   1326.0193   1113.0326   1342.9783    866.39856   879.29877\n",
            "  656.66223   542.5102    942.08636  1225.489     872.8338    266.892\n",
            " 1297.8638   1248.7208   1353.8934    481.9476   1129.6014   1113.0326\n",
            " 1326.7932   1345.8857   1270.2225    804.6619   1463.7803   1188.2175\n",
            "  869.3618     49.611374  656.39233    51.31555   803.9975    870.84155\n",
            "  822.11346   337.71875  1326.0193   1188.2175   1021.1392   1326.7932\n",
            " 1114.2615   1513.4153   1505.5017    984.8833    656.39233  1510.5686\n",
            " 1510.5686    656.66223  1113.0326   1021.43646   872.83405  1021.1392\n",
            " 1199.6857   1505.5017    601.69836   804.6619   1317.2423    822.11346\n",
            "  337.71875   658.2505    984.8833    797.6951   1513.4153    658.2505\n",
            " 1199.6857   1225.489     656.39233  1114.2615    776.8147   1021.43646\n",
            " 1326.7932   1113.0326   1340.5792    872.47174    42.337067  872.47174\n",
            "  870.84155   804.6619    542.51025  1199.6858    337.71875   146.64822\n",
            "  601.69836   310.68604   161.61102   776.8147    735.33356   266.89215\n",
            " 1188.2175   1087.3076    776.8147   1519.8533   1156.7169   1513.4153\n",
            " 1248.7208   1304.9056   1326.0193     42.337067  943.71063   310.68604\n",
            "  266.89215  1262.3992    877.2431   1345.8857   1508.9001   1521.1562\n",
            "   42.337067   29.454212 1326.0193     51.31555  1522.8682   1129.6016\n",
            "  869.3618    161.61102  1114.2615   1248.7208   1519.8533    804.6619\n",
            " 1113.0326    797.6951     42.337067  656.39233   542.5102   1510.5686\n",
            "   49.611374 1521.1562    161.61102   735.33356   658.2505    266.89215\n",
            "  310.68604  1129.6014   1510.5686   1342.9783    656.66223   782.0431\n",
            " 1340.5792    869.3618    171.28615  1463.7803    879.29877  1246.5947\n",
            " 1519.8531    984.88336  1129.6014    743.5268   1353.8934   1326.7932\n",
            "  656.39233  1021.43646   984.8833    481.9476    542.5102    804.6619\n",
            "  656.66223  1021.1392    146.64822   140.44344   797.6951    658.2505\n",
            "  481.9476    980.67804  1317.2423   1270.2225    743.5268    146.64822\n",
            " 1521.1562   1340.5792   1342.9783     29.454212 1129.6014   1199.6857\n",
            "  822.11346   601.69836   658.25037    42.337067 1463.7803   1248.7208\n",
            "  803.9975   1021.1392    266.89215  1087.3076   1021.43646  1317.2423\n",
            "  310.68604   656.39233   658.2505   1317.2423    871.5291   1021.43646\n",
            " 1248.7208    656.66223   942.08636   310.68604   869.3618    903.7808\n",
            " 1513.4153    337.71875   735.33356   797.6951    735.33356   266.89215\n",
            " 1463.7803   1505.5017   1087.3076    656.39233   869.362     743.5267\n",
            "  980.67804  1225.489    1246.5947   1353.8934   1114.2615    782.0431\n",
            " 1345.8857   1114.2615    803.9975    869.3618    658.2505    877.2431\n",
            "  542.5102   1246.5947   1270.2225   1519.8533    481.9476   1113.0326\n",
            "  161.61102   822.11346  1188.2175   1345.8857   1021.1392    872.47174\n",
            " 1522.8683   1248.7208    140.44344   804.6619    803.9975   1304.9056\n",
            " 1326.7931    866.3985    266.89215  1297.8638   1113.0326    903.7808\n",
            " 1519.8533   1262.3992     49.611374 1021.43646  1353.8934    942.08636\n",
            " 1156.7169    943.71063   870.84155   310.68604   743.5268   1199.6857\n",
            " 1505.5017   1510.5686   1188.2175    980.67804  1129.6014   1342.9783\n",
            "  871.5291     51.31555  1262.3992   1345.8857     29.454212 1297.8638\n",
            " 1340.5792    146.64822 ]\n",
            "real_split\n",
            "[54, 88, 268, 319, 342]\n",
            "pred_m\n",
            "[866.39856, 866.39856, 871.5291, 866.3985, 871.5291]\n",
            "-----------------------------------------------------------------------\n",
            "Resuslts\n"
          ]
        },
        {
          "output_type": "display_data",
          "data": {
            "text/plain": [
              "<Figure size 1080x720 with 1 Axes>"
            ],
            "image/png": "[encoded data removed]"
          },
          "metadata": {
            "needs_background": "light"
          }
        },
        {
          "output_type": "stream",
          "name": "stdout",
          "text": [
            "{80: [394.25552, 729.1543, 638.75684, 636.063, 917.00055, 1016.46906, 759.39795, 534.36346, 845.73016, 1046.9065, 1045.9438, 1040.2078, 1052.5217, 1133.0505, 1207.3003, 1207.1013, 1233.358, 1020.5867, 1237.8119, 982.5752, 866.765, 939.3041, 901.1847, 883.1938, 868.4508], 1040: [394.25552, 729.1543, 638.75684, 636.063, 917.00055, 1016.46906, 759.39795, 534.36346, 845.73016, 1046.9065, 1045.9438, 1040.2078, 1052.5217, 1133.0505, 1207.3003, 1207.1013, 1233.358, 1020.5867, 1237.8119, 982.5752, 866.765, 939.3041, 901.1847, 883.1938, 868.4508], 2000: [394.25552, 729.1543, 638.75684, 636.063, 917.00055, 1016.46906, 759.39795, 534.36346, 845.73016, 1046.9065, 1045.9438, 1040.2078, 1052.5217, 1133.0505, 1207.3003, 1207.1013, 1233.358, 1020.5867, 1237.8119, 982.5752, 866.765, 939.3041, 901.1847, 883.1938, 868.4508]}\n",
            "-----------------------------------------------------------------------\n"
          ]
        }
      ]
    },
    {
      "cell_type": "code",
      "source": [
        "num_of_freq_selected = 10\n",
        "reference_amt = 30\n",
        "input_path = path + \"/Spectrum/NN/new_data_working_df.csv\"\n",
        "\n",
        "# Load network\n",
        "#from keras.models import load_model\n",
        "#mm = KerasRegressor(build_fn=ann, epochs=8000, batch_size=32, verbose=0)\n",
        "#mm.model = load_model(path+\"/Spectrum/NN/NNs/final_new_data_NN_model_freq_10_reference_30.h5\")\n",
        "\n",
        "res = {}\n",
        "reference_test = [80, 1040, 2000]\n",
        "distances = [x*80 for x in range(1, 26)]\n",
        "\n",
        "working_df = pd.read_csv(input_path)\n",
        "working_df['Distance_km'] = working_df['Distance_km'].astype(int)\n",
        "\n",
        "reference_data_df, sample_data_df = get_reference_and_sample_data(working_df, reference_amt)\n",
        "\n",
        "reference_freq_data_df = frequencies_filter(reference_data_df, num_selected_freq=num_of_freq_selected)\n",
        "sample_freq_data_df = frequencies_filter(sample_data_df, num_selected_freq=num_of_freq_selected)\n",
        "\n",
        "rows_training, rows_testing = get_idx_train_test_split(sample_data_df, trainingProp = 0.8)\n",
        "\n",
        "train_split_filter = sample_freq_data_df['PBRS_id'].isin(rows_training)\n",
        "train_split = sample_freq_data_df[train_split_filter]\n",
        "\n",
        "test_split_filter = sample_freq_data_df['PBRS_id'].isin(rows_testing)\n",
        "test_split = sample_freq_data_df[test_split_filter]\n",
        "\n",
        "for r in reference_test:\n",
        "\n",
        "  train_df = get_feature(train_split, reference_freq_data_df, reference_distance_eval_params=(False, r))\n",
        "  test_df = get_feature(test_split, reference_freq_data_df, reference_distance_eval_params=(False, r))\n",
        "\n",
        "  Y = train_df.iloc[:, 0].to_numpy().reshape(-1,1)\n",
        "  X = train_df.iloc[:, 1:train_df.shape[1]]\n",
        "\n",
        "  sc_input = MinMaxScaler()\n",
        "  sc_output = MinMaxScaler()\n",
        "  Y_train = sc_output.fit_transform(Y) # convert distances to values from 0 to 1\n",
        "  X_train = sc_input.fit_transform(X) # convert features to values from 0 to 1\n",
        "\n",
        "  Y = test_df.iloc[:, 0].to_numpy().reshape(-1,1)\n",
        "  X = test_df.iloc[:, 1:test_df.shape[1]]\n",
        "\n",
        "  Y_test = sc_output.fit_transform(Y) # convert distances to values from 0 to 1\n",
        "  X_test = sc_input.fit_transform(X) # convert features to values from 0 to 1\n",
        "\n",
        "  # Load model\n",
        "\n",
        "  Y_test_pred=model_ann_c.predict(X_test)\n",
        "  pred=list(Y_test_pred)\n",
        "\n",
        "  dist_min=sc_output_c.data_min_[0] # 80\n",
        "  dist_max=sc_output_c.data_max_[0] # 2000\n",
        "\n",
        "  real=list(list(zip(*Y_test))[0])\n",
        "  real_abs=np.add(dist_min,np.multiply((dist_max-dist_min),real)) # convert back to distances values from scalar\n",
        "  real_abs=[int(np.round(i)) for i in real_abs]\n",
        "  pred_abs=np.add(dist_min,np.multiply((dist_max-dist_min),pred)) # convert back to distances values from scalar\n",
        "\n",
        "  real_split ={}\n",
        "  for d in distances:\n",
        "    matches = [i for i in range(0,len(real_abs)) if real_abs[i]==d]\n",
        "    real_split[d] = matches\n",
        "\n",
        "  pred_res = []\n",
        "  for d_real, matches_idx in real_split.items():\n",
        "    pred_m = [pred_abs[m_idx] for m_idx in matches_idx]\n",
        "    pred_res.append(round(np.mean(pred_m), 5))\n",
        "\n",
        "  res[r] = pred_res\n",
        "print('-----------------------------------------------------------------------')\n",
        "print('Resuslts')\n",
        "\n",
        "plt.figure(figsize=(15, 10))\n",
        "plt.plot(distances, distances,  linestyle='--')\n",
        "plt.plot(distances, res[80], label='Reference '+str(80))\n",
        "plt.plot(distances, res[1040], label='Reference '+str(1040))\n",
        "plt.plot(distances, res[2000], label='Reference '+str(2000))\n",
        "plt.title('Real vs Predicted Distances')\n",
        "plt.xlabel('Real Distances')\n",
        "plt.ylabel('Predicted Distances')\n",
        "plt.xlim(np.min(distances)-25, np.max(distances)+25)\n",
        "plt.ylim(np.min(distances)-25, np.max(distances)+25)\n",
        "plt.yticks(distances)\n",
        "plt.xticks(distances)\n",
        "plt.legend(loc=\"best\")\n",
        "plt.show()\n",
        "\n",
        "print(res)\n",
        "print('-----------------------------------------------------------------------')"
      ],
      "metadata": {
        "id": "f_o9T11mtxF-",
        "outputId": "97eea1d1-1b45-4082-ab16-68dc4e1110d2",
        "colab": {
          "base_uri": "https://localhost:8080/",
          "height": 821
        }
      },
      "execution_count": null,
      "outputs": [
        {
          "output_type": "stream",
          "name": "stderr",
          "text": [
            "100%|██████████| 1150/1150 [15:55<00:00,  1.20it/s]\n",
            "100%|██████████| 1150/1150 [15:52<00:00,  1.21it/s]\n",
            "100%|██████████| 1150/1150 [15:43<00:00,  1.22it/s]\n",
            "100%|██████████| 1150/1150 [15:46<00:00,  1.22it/s]\n",
            "100%|██████████| 1150/1150 [15:55<00:00,  1.20it/s]\n",
            "100%|██████████| 1150/1150 [15:49<00:00,  1.21it/s]\n"
          ]
        },
        {
          "output_type": "stream",
          "name": "stdout",
          "text": [
            "-----------------------------------------------------------------------\n",
            "Resuslts\n"
          ]
        },
        {
          "output_type": "display_data",
          "data": {
            "text/plain": [
              "<Figure size 1080x720 with 1 Axes>"
            ],
            "image/png": "[encoded data removed]"
          },
          "metadata": {
            "needs_background": "light"
          }
        },
        {
          "output_type": "stream",
          "name": "stdout",
          "text": [
            "{80: [326.77402, 550.09955, 641.6892, 681.87866, 749.43646, 770.7301, 789.6948, 796.96515, 798.0123, 801.33936, 856.1845, 837.2274, 889.6131, 902.4093, 914.4903, 911.64417, 935.8596, 909.1135, 903.67334, 895.29767, 898.76733, 937.9258, 936.2265, 937.2863, 967.0308], 1040: [326.77402, 550.09955, 641.6892, 681.87866, 749.43646, 770.7301, 789.6948, 796.96515, 798.0123, 801.33936, 856.1845, 837.2274, 889.6131, 902.4093, 914.4903, 911.64417, 935.8596, 909.1135, 903.67334, 895.29767, 898.76733, 937.9258, 936.2265, 937.2863, 967.0308], 2000: [326.77402, 550.09955, 641.6892, 681.87866, 749.43646, 770.7301, 789.6948, 796.96515, 798.0123, 801.33936, 856.1845, 837.2274, 889.6131, 902.4093, 914.4903, 911.64417, 935.8596, 909.1135, 903.67334, 895.29767, 898.76733, 937.9258, 936.2265, 937.2863, 967.0308]}\n",
            "-----------------------------------------------------------------------\n"
          ]
        }
      ]
    },
    {
      "cell_type": "markdown",
      "source": [
        "### Hope"
      ],
      "metadata": {
        "id": "2boIII39BugB"
      }
    },
    {
      "cell_type": "code",
      "source": [
        "# Load network\n",
        "from keras.models import Sequential\n",
        "from keras.layers import Dense,Conv2D, Flatten\n",
        "from keras.wrappers.scikit_learn import KerasRegressor\n",
        "from keras.callbacks import EarlyStopping\n",
        "from tqdm.keras import TqdmCallback\n",
        "\n",
        "def ann():\n",
        "  model = Sequential()\n",
        "  model.add(Dense(76, input_dim = 7, activation = 'tanh'))\n",
        "  model.add(Dense(38,activation='tanh'))\n",
        "  model.add(Dense(19,activation='tanh'))\n",
        "  model.add(Dense(1))\n",
        "  model.compile(loss ='mean_squared_error',optimizer = 'RMSprop')\n",
        "  return model\n",
        "\n",
        "# Load network\n",
        "from keras.models import load_model\n",
        "mm = KerasRegressor(build_fn=ann, epochs=8000, batch_size=32, verbose=0)\n",
        "mm.model = load_model(path+\"/Spectrum/NN/NNs/final_new_data_NN_model_freq_10_reference_30.h5\")"
      ],
      "metadata": {
        "id": "Sbl-y8LtBtsC"
      },
      "execution_count": null,
      "outputs": []
    },
    {
      "cell_type": "code",
      "source": [
        "#sample_freq_data_df\n",
        "#distance_reference_df\n",
        "#selected_rows = rows_training\n",
        "def get_features_v2(sample_freq_data_df, reference_freq_data_df, selected_rows):\n",
        "  data_distance = []\n",
        "  data_mean = []\n",
        "  data_std = []\n",
        "  data_pearson_min = []\n",
        "  data_pearson_mean = []\n",
        "  data_pearson_max = []\n",
        "  data_CI_lower = []\n",
        "  data_CI_upper = []\n",
        "\n",
        "  for row_idx in tqdm(selected_rows):\n",
        "    data_Y = sample_freq_data_df.iloc[row_idx,3] # distance of row selected\n",
        "    data_X = np.array(sample_freq_data_df.iloc[row_idx,6:sample_freq_data_df.shape[1]]) #array of data in row selected\n",
        "    data_distance.append(data_Y)\n",
        "    data_std.append(np.std(data_X))\n",
        "    data_mean.append(np.mean(data_X))\n",
        "\n",
        "    data_ci = st.t.interval(alpha=0.90, df=len(data_X)-1, loc=np.mean(data_X), scale=st.sem(data_X))\n",
        "    data_confidence_int_lower = data_ci[0]\n",
        "    data_confidence_int_upper = data_ci[1]\n",
        "\n",
        "    # Get reference data\n",
        "    distance_reference_df = reference_freq_data_df.loc[reference_freq_data_df['Distance_km'] == data_Y]\n",
        "    if distance_reference_df.shape[0] != 0:\n",
        "      mod_df = distance_reference_df\n",
        "    else:\n",
        "      mod_df = reference_freq_data_df\n",
        "\n",
        "    pearson_vals = []\n",
        "    confidence_vals_upper = []\n",
        "    confidence_vals_lower = []\n",
        "    for reference_row in range(0, mod_df.shape[0]):\n",
        "      reference_X = np.array(mod_df.iloc[reference_row,6:mod_df.shape[1]])\n",
        "      pearson_vals.append(round(pearsonr(data_X, reference_X)[0], 5))\n",
        "\n",
        "      reference_ci = st.t.interval(alpha=0.90, df=len(reference_X)-1, loc=np.mean(reference_X), scale=st.sem(reference_X))\n",
        "      reference_confidence_int_lower = reference_ci[0]\n",
        "      confidence_vals_lower.append(reference_confidence_int_lower)\n",
        "      reference_confidence_int_upper = reference_ci[1]\n",
        "      confidence_vals_upper.append(reference_confidence_int_upper)\n",
        "\n",
        "    data_pearson_min.append(np.min(pearson_vals))\n",
        "    data_pearson_mean.append(np.mean(pearson_vals))    \n",
        "    data_pearson_max.append(np.max(pearson_vals))\n",
        "\n",
        "    data_CI_lower.append(abs(np.min(confidence_vals_lower)-data_confidence_int_lower))\n",
        "    data_CI_upper.append(abs(np.max(confidence_vals_upper)-data_confidence_int_upper))\n",
        "  data = {'distance':data_distance,\n",
        "                  'mean':data_mean,\n",
        "                  'std':data_std,\n",
        "                  'pearson_min':data_pearson_min,\n",
        "                  'pearson_mean':data_pearson_mean,\n",
        "                  'pearson_max':data_pearson_max,\n",
        "                  'delta_CI_min':data_CI_lower,\n",
        "                  'delta_CI_max':data_CI_upper}\n",
        "\n",
        "  data_df = pd.DataFrame(data)\n",
        "\n",
        "  return data_df"
      ],
      "metadata": {
        "id": "jX5VrcaOJ8a2"
      },
      "execution_count": null,
      "outputs": []
    },
    {
      "cell_type": "code",
      "source": [
        "num_of_freq_selected = 10\n",
        "reference_amt = 30\n",
        "input_path = path + \"/Spectrum/NN/new_data_working_df.csv\"\n",
        "\n",
        "Y_train_c, X_train_c, Y_test_c, X_test_c, sc_output_c, training_df_c, testing_df_c, reference_freq_data_df_c, sample_freq_data_df_c, rows_training_c, rows_testing_c = get_label_data_splits(input_path, num_of_freq_selected, reference_amt, split_done=True)"
      ],
      "metadata": {
        "id": "nfScEW3yjSlD"
      },
      "execution_count": null,
      "outputs": []
    },
    {
      "cell_type": "code",
      "source": [
        "reference_eval_params=(30, [80, 1040, 2000], [80, 160, 240, 320, 400, 480, 560, 640, 720, 800, 880, 960, 1040, 1120, 1200, 1280, 1360, 1440, 1520, 1600, 1680, 1760, 1840, 1920, 2000])\n",
        "\n",
        "reference_filter = reference_freq_data_df_c['Distance_km'].isin(reference_eval_params[1])\n",
        "reference_filtered_df = reference_freq_data_df_c[reference_filter]"
      ],
      "metadata": {
        "id": "Z3XBCvk9yAwp"
      },
      "execution_count": null,
      "outputs": []
    },
    {
      "cell_type": "code",
      "source": [
        "res = {}\n",
        "for r in reference_eval_params[1]: #[80, 1040, 2000]\n",
        "  # Get reference data\n",
        "  reference_data_df = reference_filtered_df[reference_filtered_df['Distance_km']==r]\n",
        "  t_df = get_features_v2(sample_freq_data_df_c, reference_data_df, rows_testing_c)\n",
        "\n",
        "  Y = t_df.iloc[:, 0].to_numpy().reshape(-1,1)\n",
        "  X = t_df.iloc[:, 1:t_df.shape[1]]\n",
        "\n",
        "  sc_input = MinMaxScaler()\n",
        "  sc_output = MinMaxScaler()\n",
        "  y_train = sc_output.fit_transform(Y) # convert distances to values from 0 to 1\n",
        "  x_train = sc_input.fit_transform(X) # convert features to values from 0 to 1\n",
        "\n",
        "\n",
        "  Y = t_df.iloc[:, 0].to_numpy().reshape(-1,1)\n",
        "  X = t_df.iloc[:, 1:t_df.shape[1]]\n",
        "  y_test = sc_output_c.fit_transform(Y) # convert distances to values from 0 to 1\n",
        "  x_test = sc_output_c.fit_transform(X) # convert features to values from 0 to 1\n",
        "\n",
        "  y_test_pred=mm.model.predict(x_test)\n",
        "  pred=list(y_test_pred)\n",
        "\n",
        "  dist_min=sc_output.data_min_[0] # 80\n",
        "  dist_max=sc_output.data_max_[0] # 2000\n",
        "\n",
        "  real=list(list(zip(*y_test))[0])\n",
        "  real_abs=np.add(dist_min,np.multiply((dist_max-dist_min),real)) # convert back to distances values from scalar\n",
        "  real_abs=[int(np.round(i)) for i in real_abs]\n",
        "  \n",
        "  pred_abs=np.add(dist_min,np.multiply((dist_max-dist_min),pred)) # convert back to distances values from scalar\n",
        "\n",
        "  dict_distance = {}\n",
        "  label = t_df.iloc[:, 0].to_numpy()\n",
        "  for d in reference_eval_params[2]:\n",
        "    idx_val = np.where(label==d)\n",
        "    dict_distance[d] = idx_val[0].tolist()\n",
        "\n",
        "  pred_mean_res = []\n",
        "  for dist, indices in dict_distance.items():\n",
        "    sublist = [element for i, element in enumerate(pred_abs) if i in indices]\n",
        "    pred_mean_res.append(np.mean(sublist))\n",
        "\n",
        "  res[r] = pred_mean_res\n",
        "\n",
        "print('-----------------------------------------------------------------------')\n",
        "print('Resuslts')\n",
        "\n",
        "plt.figure(figsize=(15, 10))\n",
        "plt.plot(reference_eval_params[2], reference_eval_params[2],  linestyle='--')\n",
        "plt.plot(reference_eval_params[2], res[reference_eval_params[1][0]], label='Reference '+str(reference_eval_params[1][0]))\n",
        "plt.plot(reference_eval_params[2], res[reference_eval_params[1][1]], label='Reference '+str(reference_eval_params[1][1]))\n",
        "plt.plot(reference_eval_params[2], res[reference_eval_params[1][2]], label='Reference '+str(reference_eval_params[1][2]))\n",
        "plt.title('Real vs Predicted Distances')\n",
        "plt.xlabel('Real Distances')\n",
        "plt.ylabel('Predicted Distances')\n",
        "plt.xlim(np.min(reference_eval_params[2])-25, np.max(reference_eval_params[2])+25)\n",
        "plt.ylim(np.min(reference_eval_params[2])-25, np.max(reference_eval_params[2])+25)\n",
        "plt.yticks(reference_eval_params[2])\n",
        "plt.xticks(reference_eval_params[2])\n",
        "plt.legend(loc=\"best\")\n",
        "plt.show()\n",
        "print('-----------------------------------------------------------------------')\n",
        "# ------------------------------------------------------------"
      ],
      "metadata": {
        "id": "zHc-7qiXAX96",
        "colab": {
          "base_uri": "https://localhost:8080/",
          "height": 731
        },
        "outputId": "38535c16-58b4-420c-a3c2-5bcea2474233"
      },
      "execution_count": null,
      "outputs": [
        {
          "output_type": "stream",
          "name": "stderr",
          "text": [
            "100%|██████████| 350/350 [00:08<00:00, 42.92it/s]\n",
            "100%|██████████| 350/350 [00:08<00:00, 43.68it/s]\n",
            "100%|██████████| 350/350 [00:07<00:00, 44.03it/s]\n"
          ]
        },
        {
          "output_type": "stream",
          "name": "stdout",
          "text": [
            "-----------------------------------------------------------------------\n",
            "Resuslts\n"
          ]
        },
        {
          "output_type": "display_data",
          "data": {
            "text/plain": [
              "<Figure size 1080x720 with 1 Axes>"
            ],
            "image/png": "[encoded data removed]"
          },
          "metadata": {
            "needs_background": "light"
          }
        },
        {
          "output_type": "stream",
          "name": "stdout",
          "text": [
            "-----------------------------------------------------------------------\n"
          ]
        }
      ]
    },
    {
      "cell_type": "markdown",
      "source": [
        "## Test only pearson"
      ],
      "metadata": {
        "id": "y6uYJIMQznvg"
      }
    },
    {
      "cell_type": "code",
      "source": [
        "# Load network\n",
        "from keras.models import Sequential\n",
        "from keras.layers import Dense,Conv2D, Flatten\n",
        "from keras.wrappers.scikit_learn import KerasRegressor\n",
        "from keras.callbacks import EarlyStopping\n",
        "from tqdm.keras import TqdmCallback\n",
        "\n",
        "def ann():\n",
        "  model = Sequential()\n",
        "  model.add(Dense(76, input_dim = 3, activation = 'tanh'))\n",
        "  model.add(Dense(38,activation='tanh'))\n",
        "  model.add(Dense(19,activation='tanh'))\n",
        "  model.add(Dense(1))\n",
        "  model.compile(loss ='mean_squared_error',optimizer = 'RMSprop')\n",
        "  return model"
      ],
      "metadata": {
        "id": "yXo1Twr-1eoi"
      },
      "execution_count": null,
      "outputs": []
    },
    {
      "cell_type": "code",
      "source": [
        "def train_model(X_train, Y_train):\n",
        "  print('Training model (freq_'+str(num_of_freq_selected)+'_reference_'+str(reference_amt)+')...')\n",
        "  from keras.models import Sequential\n",
        "  from keras.layers import Dense,Conv2D, Flatten\n",
        "  from keras.wrappers.scikit_learn import KerasRegressor\n",
        "  from keras.callbacks import EarlyStopping\n",
        "  from tqdm.keras import TqdmCallback\n",
        "\n",
        "  def ann():\n",
        "      model = Sequential()\n",
        "      model.add(Dense(76, input_dim = 3, activation = 'tanh'))\n",
        "      model.add(Dense(38,activation='tanh'))\n",
        "      model.add(Dense(19,activation='tanh'))\n",
        "      model.add(Dense(1))\n",
        "      model.compile(loss ='mean_squared_error',optimizer = 'RMSprop')\n",
        "      return model\n",
        "\n",
        "  model_ann = KerasRegressor(build_fn=ann,epochs=5000,batch_size=32, verbose=0)\n",
        "\n",
        "  start_time = time.time()\n",
        "  callback = [EarlyStopping(monitor='loss', patience=500)]#, TqdmCallback(verbose=2)]\n",
        "  model_ann.fit(X_train, Y_train, callbacks=callback)\n",
        "  time_train_ann = time.time() - start_time\n",
        "\n",
        "  # Save model\n",
        "  #pickle.dump(model_ann,open(path+\"/Spectrum/NN/NNs/NN_model_freq_\"+str(num_of_freq_selected)+\"_reference_\"+str(reference_amt)+\".pkl\",\"wb\"))\n",
        "\n",
        "  if os.path.isfile(path+\"/Spectrum/NN/NNs/pearson_new_data_NN_model_freq_\"+str(num_of_freq_selected)+\"_reference_\"+str(reference_amt)+\".h5\") is False:\n",
        "    model_ann.model.save(path+\"/Spectrum/NN/NNs/pearson_new_data_NN_model_freq_\"+str(num_of_freq_selected)+\"_reference_\"+str(reference_amt)+\".h5\")\n",
        "  \n",
        "  return model_ann"
      ],
      "metadata": {
        "id": "r0YBaQtQ1k99"
      },
      "execution_count": null,
      "outputs": []
    },
    {
      "cell_type": "code",
      "source": [
        "def predict_test(model_ann, Y_test, X_test, sc_output, remove_outliers=0.05):\n",
        "  print('Results (freq_'+str(num_of_freq_selected)+'_reference_'+str(reference_amt)+')')\n",
        "  # Predit\n",
        "  start_time = time.time()\n",
        "  Y_test_pred=model_ann.predict(X_test)\n",
        "  pred=list(Y_test_pred)\n",
        "\n",
        "  time_eval_ann=time.time()-start_time\n",
        "\n",
        "  dist_min=sc_output.data_min_[0] # 80\n",
        "  dist_max=sc_output.data_max_[0] # 2000\n",
        "\n",
        "  real=list(list(zip(*Y_test))[0])\n",
        "  real_abs=np.add(dist_min,np.multiply((dist_max-dist_min),real)) # convert back to distances values from scalar\n",
        "  real_abs=[int(np.round(i)) for i in real_abs]\n",
        "  pred_abs=np.add(dist_min,np.multiply((dist_max-dist_min),pred)) # convert back to distances values from scalar\n",
        "  real_abs_e1 = real_abs\n",
        "  real_abs_e2 = real_abs\n",
        "\n",
        "  pred_abs_e1 = pred_abs\n",
        "  pred_abs_e2 = pred_abs\n",
        "\n",
        "  error=np.divide(np.abs(np.subtract(np.array(real_abs),np.array(pred_abs))),np.array(real_abs))\n",
        "  error_v2 = np.abs(np.subtract(np.array(real_abs),np.array(pred_abs)))\n",
        "\n",
        "  remove_outliers = math.ceil((len(error_v2)*remove_outliers)/2)\n",
        "\n",
        "  for outlier in range(1, remove_outliers+1):\n",
        "    min_idx_e1 = np.argmin(error)\n",
        "    max_idx_e1 = np.argmax(error)\n",
        "\n",
        "    min_idx_e2 = np.argmin(error_v2)\n",
        "    max_idx_e2 = np.argmax(error_v2)\n",
        "\n",
        "    error = np.delete(error, min_idx_e1)\n",
        "    error = np.delete(error, max_idx_e1)\n",
        "    real_abs_e1 = np.delete(real_abs_e1, min_idx_e1)\n",
        "    real_abs_e1 = np.delete(real_abs_e1, max_idx_e1)\n",
        "    pred_abs_e1 = np.delete(pred_abs_e1, min_idx_e1)\n",
        "    pred_abs_e1 = np.delete(pred_abs_e1, max_idx_e1)\n",
        "\n",
        "    error_v2 = np.delete(error_v2, min_idx_e2)\n",
        "    error_v2 = np.delete(error_v2, max_idx_e2)\n",
        "    real_abs_e2 = np.delete(real_abs_e2, min_idx_e1)\n",
        "    real_abs_e2 = np.delete(real_abs_e2, max_idx_e1)\n",
        "    pred_abs_e2 = np.delete(pred_abs_e2, min_idx_e1)\n",
        "    pred_abs_e2 = np.delete(pred_abs_e2, max_idx_e1)\n",
        "\n",
        "  res=pd.DataFrame({\"dist\":real_abs_e1,\"pred\":pred_abs_e1,\"error\":error})\n",
        "  res.to_csv(path+\"/Spectrum/NN/NN_results_error/new_data_pearson_results_curve_freq_\"+str(num_of_freq_selected)+\"_reference_\"+str(reference_amt)+\".csv\", header=True, index=False)\n",
        "\n",
        "  res_v2=pd.DataFrame({\"dist\":real_abs_e2,\"pred\":pred_abs_e2,\"error\":error_v2})\n",
        "  res.to_csv(path+\"/Spectrum/NN/NN_results_error/new_data_pearson_results_deltas_freq_\"+str(num_of_freq_selected)+\"_reference_\"+str(reference_amt)+\".csv\", header=True, index=False)\n",
        "  \n",
        "  plt.plot(real_abs_e1,error,'bo')\n",
        "  plt.xlabel('Distances') \n",
        "  plt.ylabel('Error') \n",
        "  plt.title(\"Results Curve (freq_\"+str(num_of_freq_selected)+\"_reference_\"+str(reference_amt)+\")\")\n",
        "  plt.savefig(path+\"/Spectrum/NN/NN_results_plots/new_data_pearson_results_curve_freq_\"+str(num_of_freq_selected)+\"_reference_\"+str(reference_amt)+\".png\")\n",
        "  plt.show()\n",
        "  \n",
        "  plt.plot(real_abs_e2,error_v2,'bo')\n",
        "  plt.xlabel('Distances') \n",
        "  plt.ylabel('Error') \n",
        "  plt.title(\"Results Deltas (freq_\"+str(num_of_freq_selected)+\"_reference_\"+str(reference_amt)+\")\")\n",
        "  plt.savefig(path+\"/Spectrum/NN/NN_results_plots/new_data_pearson_results_deltas_freq_\"+str(num_of_freq_selected)+\"_reference_\"+str(reference_amt)+\".png\")\n",
        "  plt.show()\n"
      ],
      "metadata": {
        "id": "yY8QHJCJAM3s"
      },
      "execution_count": null,
      "outputs": []
    },
    {
      "cell_type": "code",
      "source": [
        "num_of_freq_selected = 10\n",
        "reference_amt = 30\n",
        "training_input_path = path + \"/Spectrum/NN/train_test_splits/new_data_training_data_NN_freq_10_reference_30.csv\"\n",
        "testing_input_path = path + \"/Spectrum/NN/train_test_splits/new_data_testing_data_NN_freq_10_reference_30.csv\"\n",
        "\n",
        "training_df = pd.read_csv(training_input_path)\n",
        "testing_df = pd.read_csv(testing_input_path)\n",
        "\n",
        "Y = training_df.iloc[:, 0].to_numpy().reshape(-1,1)\n",
        "X = training_df.iloc[:, 3:6]\n",
        "\n",
        "sc_input = MinMaxScaler()\n",
        "sc_output = MinMaxScaler()\n",
        "Y_train_p = sc_output.fit_transform(Y) # convert distances to values from 0 to 1\n",
        "X_train_p = sc_input.fit_transform(X) # convert features to values from 0 to 1\n",
        "\n",
        "Y = testing_df.iloc[:, 0].to_numpy().reshape(-1,1)\n",
        "X = testing_df.iloc[:, 3:6]\n",
        "\n",
        "sc_input = MinMaxScaler()\n",
        "sc_output = MinMaxScaler()\n",
        "Y_test_p = sc_output.fit_transform(Y) # convert distances to values from 0 to 1\n",
        "X_test_p = sc_input.fit_transform(X) # convert features to values from 0 to 1"
      ],
      "metadata": {
        "id": "xWm7Dnj1zqiw"
      },
      "execution_count": null,
      "outputs": []
    },
    {
      "cell_type": "code",
      "source": [
        "model_ann_p = train_model(X_train_p, Y_train_p)"
      ],
      "metadata": {
        "colab": {
          "base_uri": "https://localhost:8080/"
        },
        "id": "Job0tVyN0gP3",
        "outputId": "7ad3de68-520c-4af7-9e32-8b2a68dd5bfa"
      },
      "execution_count": null,
      "outputs": [
        {
          "output_type": "stream",
          "name": "stdout",
          "text": [
            "Training model (freq_10_reference_30)...\n"
          ]
        }
      ]
    },
    {
      "cell_type": "code",
      "source": [
        "predict_test(model_ann_p, Y_test_p, X_test_p, sc_output)"
      ],
      "metadata": {
        "colab": {
          "base_uri": "https://localhost:8080/"
        },
        "id": "B493cZEb0ldO",
        "outputId": "11da7389-eb1e-4bce-c81f-15ce0ae3350a"
      },
      "execution_count": null,
      "outputs": [
        {
          "output_type": "stream",
          "name": "stdout",
          "text": [
            "Results (freq_10_reference_30)\n"
          ]
        },
        {
          "output_type": "display_data",
          "data": {
            "text/plain": [
              "<Figure size 432x288 with 1 Axes>"
            ],
            "image/png": "[encoded data removed]"
          },
          "metadata": {
            "needs_background": "light"
          }
        },
        {
          "output_type": "display_data",
          "data": {
            "text/plain": [
              "<Figure size 432x288 with 1 Axes>"
            ],
            "image/png": "[encoded data removed]"
          },
          "metadata": {
            "needs_background": "light"
          }
        }
      ]
    },
    {
      "cell_type": "markdown",
      "source": [
        "## Test only stats"
      ],
      "metadata": {
        "id": "-BFRLXf7zqqV"
      }
    },
    {
      "cell_type": "code",
      "source": [
        "# Load network\n",
        "from keras.models import Sequential\n",
        "from keras.layers import Dense,Conv2D, Flatten\n",
        "from keras.wrappers.scikit_learn import KerasRegressor\n",
        "from keras.callbacks import EarlyStopping\n",
        "from tqdm.keras import TqdmCallback\n",
        "\n",
        "def ann():\n",
        "  model = Sequential()\n",
        "  model.add(Dense(76, input_dim = 3, activation = 'tanh'))\n",
        "  model.add(Dense(38,activation='tanh'))\n",
        "  model.add(Dense(19,activation='tanh'))\n",
        "  model.add(Dense(1))\n",
        "  model.compile(loss ='mean_squared_error',optimizer = 'RMSprop')\n",
        "  return model"
      ],
      "metadata": {
        "id": "5WU3J-u56cTF"
      },
      "execution_count": null,
      "outputs": []
    },
    {
      "cell_type": "code",
      "source": [
        "# Load network\n",
        "from keras.models import Sequential\n",
        "from keras.layers import Dense,Conv2D, Flatten\n",
        "from keras.wrappers.scikit_learn import KerasRegressor\n",
        "from keras.callbacks import EarlyStopping\n",
        "from tqdm.keras import TqdmCallback\n",
        "\n",
        "def ann():\n",
        "  model = Sequential()\n",
        "  model.add(Dense(76, input_dim = 4, activation = 'tanh'))\n",
        "  model.add(Dense(38,activation='tanh'))\n",
        "  model.add(Dense(19,activation='tanh'))\n",
        "  model.add(Dense(1))\n",
        "  model.compile(loss ='mean_squared_error',optimizer = 'RMSprop')\n",
        "  return model"
      ],
      "metadata": {
        "id": "7TGNlh7V5zsg"
      },
      "execution_count": null,
      "outputs": []
    },
    {
      "cell_type": "code",
      "source": [
        "def train_model(X_train, Y_train):\n",
        "  print('Training model (freq_'+str(num_of_freq_selected)+'_reference_'+str(reference_amt)+')...')\n",
        "  from keras.models import Sequential\n",
        "  from keras.layers import Dense,Conv2D, Flatten\n",
        "  from keras.wrappers.scikit_learn import KerasRegressor\n",
        "  from keras.callbacks import EarlyStopping\n",
        "  from tqdm.keras import TqdmCallback\n",
        "\n",
        "  def ann():\n",
        "      model = Sequential()\n",
        "      model.add(Dense(76, input_dim = 4, activation = 'tanh'))\n",
        "      model.add(Dense(38,activation='tanh'))\n",
        "      model.add(Dense(19,activation='tanh'))\n",
        "      model.add(Dense(1))\n",
        "      model.compile(loss ='mean_squared_error',optimizer = 'RMSprop')\n",
        "      return model\n",
        "\n",
        "  model_ann = KerasRegressor(build_fn=ann,epochs=5000,batch_size=32, verbose=0)\n",
        "\n",
        "  start_time = time.time()\n",
        "  callback = [EarlyStopping(monitor='loss', patience=500)]#, TqdmCallback(verbose=2)]\n",
        "  model_ann.fit(X_train, Y_train, callbacks=callback)\n",
        "  time_train_ann = time.time() - start_time\n",
        "\n",
        "  # Save model\n",
        "  #pickle.dump(model_ann,open(path+\"/Spectrum/NN/NNs/NN_model_freq_\"+str(num_of_freq_selected)+\"_reference_\"+str(reference_amt)+\".pkl\",\"wb\"))\n",
        "\n",
        "  if os.path.isfile(path+\"/Spectrum/NN/NNs/stats_new_data_NN_model_freq_\"+str(num_of_freq_selected)+\"_reference_\"+str(reference_amt)+\".h5\") is False:\n",
        "    model_ann.model.save(path+\"/Spectrum/NN/NNs/stats_new_data_NN_model_freq_\"+str(num_of_freq_selected)+\"_reference_\"+str(reference_amt)+\".h5\")\n",
        "  \n",
        "  return model_ann"
      ],
      "metadata": {
        "id": "Lm2iyDF15uvF"
      },
      "execution_count": null,
      "outputs": []
    },
    {
      "cell_type": "code",
      "source": [
        "def predict_test(model_ann, Y_test, X_test, sc_output, remove_outliers=0.05):\n",
        "  print('Results (freq_'+str(num_of_freq_selected)+'_reference_'+str(reference_amt)+')')\n",
        "  # Predit\n",
        "  start_time = time.time()\n",
        "  Y_test_pred=model_ann.predict(X_test)\n",
        "  pred=list(Y_test_pred)\n",
        "\n",
        "  time_eval_ann=time.time()-start_time\n",
        "\n",
        "  dist_min=sc_output.data_min_[0] # 80\n",
        "  dist_max=sc_output.data_max_[0] # 2000\n",
        "\n",
        "  real=list(list(zip(*Y_test))[0])\n",
        "  real_abs=np.add(dist_min,np.multiply((dist_max-dist_min),real)) # convert back to distances values from scalar\n",
        "  real_abs=[int(np.round(i)) for i in real_abs]\n",
        "  pred_abs=np.add(dist_min,np.multiply((dist_max-dist_min),pred)) # convert back to distances values from scalar\n",
        "\n",
        "  real_abs_e1 = real_abs\n",
        "  real_abs_e2 = real_abs\n",
        "\n",
        "  pred_abs_e1 = pred_abs\n",
        "  pred_abs_e2 = pred_abs\n",
        "\n",
        "  error=np.divide(np.abs(np.subtract(np.array(real_abs),np.array(pred_abs))),np.array(real_abs))\n",
        "  error_v2 = np.abs(np.subtract(np.array(real_abs),np.array(pred_abs)))\n",
        "\n",
        "  remove_outliers = math.ceil((len(error_v2)*remove_outliers)/2)\n",
        "\n",
        "  for outlier in range(1, remove_outliers+1):\n",
        "    min_idx_e1 = np.argmin(error)\n",
        "    max_idx_e1 = np.argmax(error)\n",
        "\n",
        "    min_idx_e2 = np.argmin(error_v2)\n",
        "    max_idx_e2 = np.argmax(error_v2)\n",
        "\n",
        "    error = np.delete(error, min_idx_e1)\n",
        "    error = np.delete(error, max_idx_e1)\n",
        "    real_abs_e1 = np.delete(real_abs_e1, min_idx_e1)\n",
        "    real_abs_e1 = np.delete(real_abs_e1, max_idx_e1)\n",
        "    pred_abs_e1 = np.delete(pred_abs_e1, min_idx_e1)\n",
        "    pred_abs_e1 = np.delete(pred_abs_e1, max_idx_e1)\n",
        "\n",
        "    error_v2 = np.delete(error_v2, min_idx_e2)\n",
        "    error_v2 = np.delete(error_v2, max_idx_e2)\n",
        "    real_abs_e2 = np.delete(real_abs_e2, min_idx_e1)\n",
        "    real_abs_e2 = np.delete(real_abs_e2, max_idx_e1)\n",
        "    pred_abs_e2 = np.delete(pred_abs_e2, min_idx_e1)\n",
        "    pred_abs_e2 = np.delete(pred_abs_e2, max_idx_e1)\n",
        "\n",
        "  res=pd.DataFrame({\"dist\":real_abs_e1,\"pred\":pred_abs_e1,\"error\":error})\n",
        "  res.to_csv(path+\"/Spectrum/NN/NN_results_error/new_data_stats_results_curve_freq_\"+str(num_of_freq_selected)+\"_reference_\"+str(reference_amt)+\".csv\", header=True, index=False)\n",
        "\n",
        "  res_v2=pd.DataFrame({\"dist\":real_abs_e2,\"pred\":pred_abs_e2,\"error\":error_v2})\n",
        "  res.to_csv(path+\"/Spectrum/NN/NN_results_error/new_data_stats_results_deltas_freq_\"+str(num_of_freq_selected)+\"_reference_\"+str(reference_amt)+\".csv\", header=True, index=False)\n",
        "  \n",
        "  plt.plot(real_abs_e1,error,'bo')\n",
        "  plt.xlabel('Distances') \n",
        "  plt.ylabel('Error') \n",
        "  plt.title(\"Results Curve (freq_\"+str(num_of_freq_selected)+\"_reference_\"+str(reference_amt)+\")\")\n",
        "  plt.savefig(path+\"/Spectrum/NN/NN_results_plots/new_data_stats_results_curve_freq_\"+str(num_of_freq_selected)+\"_reference_\"+str(reference_amt)+\".png\")\n",
        "  plt.show()\n",
        "  \n",
        "  plt.plot(real_abs_e2,error_v2,'bo')\n",
        "  plt.xlabel('Distances') \n",
        "  plt.ylabel('Error') \n",
        "  plt.title(\"Results Deltas (freq_\"+str(num_of_freq_selected)+\"_reference_\"+str(reference_amt)+\")\")\n",
        "  plt.savefig(path+\"/Spectrum/NN/NN_results_plots/new_data_stats_results_deltas_freq_\"+str(num_of_freq_selected)+\"_reference_\"+str(reference_amt)+\".png\")\n",
        "  plt.show()"
      ],
      "metadata": {
        "id": "zgqD84l5AWXg"
      },
      "execution_count": null,
      "outputs": []
    },
    {
      "cell_type": "code",
      "source": [
        "num_of_freq_selected = 10\n",
        "reference_amt = 30\n",
        "training_input_path = path + \"/Spectrum/NN/train_test_splits/new_data_training_data_NN_freq_10_reference_30.csv\"\n",
        "testing_input_path = path + \"/Spectrum/NN/train_test_splits/new_data_testing_data_NN_freq_10_reference_30.csv\"\n",
        "\n",
        "training_df = pd.read_csv(training_input_path)\n",
        "testing_df = pd.read_csv(testing_input_path)\n",
        "\n",
        "Y = training_df.iloc[:, 0].to_numpy().reshape(-1,1)\n",
        "X = training_df.iloc[:, [1, 2, 5, 6]]\n",
        "\n",
        "sc_input = MinMaxScaler()\n",
        "sc_output = MinMaxScaler()\n",
        "Y_train_s = sc_output.fit_transform(Y) # convert distances to values from 0 to 1\n",
        "X_train_s = sc_input.fit_transform(X) # convert features to values from 0 to 1\n",
        "\n",
        "Y = testing_df.iloc[:, 0].to_numpy().reshape(-1,1)\n",
        "X = testing_df.iloc[:, [1, 2, 5, 6]]\n",
        "\n",
        "\n",
        "sc_input = MinMaxScaler()\n",
        "sc_output = MinMaxScaler()\n",
        "Y_test_s = sc_output.fit_transform(Y) # convert distances to values from 0 to 1\n",
        "X_test_s = sc_input.fit_transform(X) # convert features to values from 0 to 1"
      ],
      "metadata": {
        "id": "w4IOWKxkM0z_"
      },
      "execution_count": null,
      "outputs": []
    },
    {
      "cell_type": "code",
      "source": [
        "model_ann_s = train_model(X_train_s, Y_train_s)"
      ],
      "metadata": {
        "colab": {
          "base_uri": "https://localhost:8080/"
        },
        "id": "JvtaIJxm1JiV",
        "outputId": "76723df3-bd1d-4667-e255-affe01a379f6"
      },
      "execution_count": null,
      "outputs": [
        {
          "output_type": "stream",
          "name": "stdout",
          "text": [
            "Training model (freq_10_reference_30)...\n"
          ]
        }
      ]
    },
    {
      "cell_type": "code",
      "source": [
        "predict_test(model_ann_s, Y_test_s, X_test_s, sc_output)"
      ],
      "metadata": {
        "colab": {
          "base_uri": "https://localhost:8080/"
        },
        "id": "Kf4XiuOw1JsA",
        "outputId": "6ca6b9b4-9249-4c46-cba6-e85b53029fcf"
      },
      "execution_count": null,
      "outputs": [
        {
          "output_type": "stream",
          "name": "stdout",
          "text": [
            "Results (freq_10_reference_30)\n"
          ]
        },
        {
          "output_type": "display_data",
          "data": {
            "text/plain": [
              "<Figure size 432x288 with 1 Axes>"
            ],
            "image/png": "[encoded data removed]"
          },
          "metadata": {
            "needs_background": "light"
          }
        },
        {
          "output_type": "display_data",
          "data": {
            "text/plain": [
              "<Figure size 432x288 with 1 Axes>"
            ],
            "image/png": "[encoded data removed]"
          },
          "metadata": {
            "needs_background": "light"
          }
        }
      ]
    }
  ]
}