{
  "nbformat": 4,
  "nbformat_minor": 0,
  "metadata": {
    "colab": {
      "name": "Untitled8.ipynb",
      "provenance": [],
      "authorship_tag": "ABX9TyPvr3p9a0bl6iUErdXAg/PN",
      "include_colab_link": true
    },
    "kernelspec": {
      "name": "python3",
      "display_name": "Python 3"
    },
    "language_info": {
      "name": "python"
    }
  },
  "cells": [
    {
      "cell_type": "markdown",
      "metadata": {
        "id": "view-in-github",
        "colab_type": "text"
      },
      "source": [
        "<a href=\"https://colab.research.google.com/github/R0N3ldrt/Thesis/blob/main/moded_spectrum_analysis_v1.ipynb\" target=\"_parent\"><img src=\"https://colab.research.google.com/assets/colab-badge.svg\" alt=\"Open In Colab\"/></a>"
      ]
    },
    {
      "cell_type": "markdown",
      "source": [
        "# Spectrum Analysis V2"
      ],
      "metadata": {
        "id": "pGh8g-miYhWN"
      }
    },
    {
      "cell_type": "markdown",
      "source": [
        "# Loading Necesary Libraries"
      ],
      "metadata": {
        "id": "EnyBi7O6YtBK"
      }
    },
    {
      "cell_type": "code",
      "execution_count": 1,
      "metadata": {
        "id": "3CRIKozoYfn1"
      },
      "outputs": [],
      "source": [
        "# Importing necesary libraries\n",
        "# Libraries for correct code execution \n",
        "\n",
        "import os, time\n",
        "import pandas as pd\n",
        "import numpy as np\n",
        "import matplotlib.pyplot as plt\n",
        "import math\n",
        "import pickle\n",
        "import random\n",
        "import csv\n",
        "import re\n",
        "from tqdm import tqdm\n",
        "\n",
        "from random import random, gauss\n",
        "from math import modf, pi, cos, sin, sqrt\n",
        "from sklearn.model_selection import train_test_split\n",
        "from sklearn.preprocessing import MinMaxScaler\n",
        "from plotly.subplots import make_subplots\n",
        "from scipy.signal import savgol_filter\n",
        "from scipy.stats.stats import pearsonr\n",
        "from scipy.stats import spearmanr\n",
        "\n",
        "import plotly.graph_objects as go\n",
        "import plotly.express as px\n",
        "from plotly.subplots import make_subplots\n",
        "\n",
        "from keras.models import Sequential\n",
        "from keras.layers import Dense,Conv2D, Flatten\n",
        "from keras.wrappers.scikit_learn import KerasRegressor\n",
        "from keras.callbacks import EarlyStopping\n",
        "from sklearn.mixture import GaussianMixture\n",
        "\n",
        "import warnings\n",
        "warnings.filterwarnings(\"ignore\")"
      ]
    },
    {
      "cell_type": "markdown",
      "source": [
        "# Load Enviroment"
      ],
      "metadata": {
        "id": "18mwd0RSYwZw"
      }
    },
    {
      "cell_type": "code",
      "source": [
        "# BLOQUE PARA USAR DESDE COLAB\n",
        "\n",
        "# Google drive loading as work station for local-usage of the files.\n",
        "from google.colab import drive\n",
        "drive.mount('/content/gdrive',force_remount= True)\n",
        "\n",
        "#-----------------------------------------------------------------------------"
      ],
      "metadata": {
        "colab": {
          "base_uri": "https://localhost:8080/"
        },
        "id": "YeY4YJAjY7dP",
        "outputId": "d0333774-7948-48ef-9786-ed8ce298bdee"
      },
      "execution_count": 2,
      "outputs": [
        {
          "output_type": "stream",
          "name": "stdout",
          "text": [
            "Mounted at /content/gdrive\n"
          ]
        }
      ]
    },
    {
      "cell_type": "code",
      "source": [
        "# Lista para cambiar los paths rapido.\n",
        "workers = [\"Ronald\", \"Local\"]\n",
        "\n",
        "# Change the number to change the paths.\n",
        "worker = workers[0]\n",
        "\n",
        "if worker == \"Ronald\":\n",
        "  path = \"/content/gdrive/MyDrive/Thesis_Workstation/ANN_dataset\"\n",
        "else: path = os.getcwd()"
      ],
      "metadata": {
        "id": "_Dd4TmFoY9yG"
      },
      "execution_count": 3,
      "outputs": []
    },
    {
      "cell_type": "markdown",
      "source": [
        "# Load Datasets"
      ],
      "metadata": {
        "id": "uh1vXbd7kucq"
      }
    },
    {
      "cell_type": "code",
      "source": [
        "input_path = path + \"/Spectrum/16QAM/25spans80km_withoutROADMs/dataSet_Spectrum31MHz_Samples_16QAM_75GHz_LongHaul_input_25x80km.xlsx\""
      ],
      "metadata": {
        "id": "eVsjjYTM8qcC"
      },
      "execution_count": 4,
      "outputs": []
    },
    {
      "cell_type": "markdown",
      "source": [
        "## Pre-Processing"
      ],
      "metadata": {
        "id": "nyvfgBSB7smx"
      }
    },
    {
      "cell_type": "code",
      "source": [
        "df = pd.read_excel(input_path, sheet_name = \"Sheet1\", skiprows=1)"
      ],
      "metadata": {
        "id": "NOvDGzfK9NBT"
      },
      "execution_count": 5,
      "outputs": []
    },
    {
      "cell_type": "code",
      "source": [
        "# Dropping rows that are empty\n",
        "drop_rows = [drop_row for drop_row in range(325, df.shape[0])]\n",
        "df_13_samples = df.drop(drop_rows)"
      ],
      "metadata": {
        "id": "G359T-tq-IC8"
      },
      "execution_count": 6,
      "outputs": []
    },
    {
      "cell_type": "code",
      "source": [
        "print([row for row in range(1, 14)])\n",
        "print([row for row in range(0, 25)])"
      ],
      "metadata": {
        "colab": {
          "base_uri": "https://localhost:8080/"
        },
        "id": "sWPqslMLAgU1",
        "outputId": "165854d6-dac5-41ae-87d5-d438eab8126a"
      },
      "execution_count": 7,
      "outputs": [
        {
          "output_type": "stream",
          "name": "stdout",
          "text": [
            "[1, 2, 3, 4, 5, 6, 7, 8, 9, 10, 11, 12, 13]\n",
            "[0, 1, 2, 3, 4, 5, 6, 7, 8, 9, 10, 11, 12, 13, 14, 15, 16, 17, 18, 19, 20, 21, 22, 23, 24]\n"
          ]
        }
      ]
    },
    {
      "cell_type": "code",
      "source": [
        "# Adding missing PBRS_id\n",
        "snippet = []\n",
        "val_cnt = 1\n",
        "idx = 0\n",
        "for sample in range(1, 14):\n",
        "  for sample_id in range(0, 25):\n",
        "    df_13_samples.at[idx, 'PBRS_id'] = val_cnt\n",
        "    idx +=1\n",
        "    snippet.append(val_cnt)\n",
        "  val_cnt += 1\n",
        "df_13_samples['PBRS_id'] = df_13_samples['PBRS_id'].astype(int)"
      ],
      "metadata": {
        "id": "S-DKtLozA49m"
      },
      "execution_count": 8,
      "outputs": []
    },
    {
      "cell_type": "code",
      "source": [
        "\n",
        "df_13_samples.iloc[0].fillna(method='bfill', inplace=True)\n",
        "\n",
        "df_13_samples.iloc[1:df_13_samples.shape[0]].fillna(method='pad', inplace=True)"
      ],
      "metadata": {
        "id": "Y4M56MNj4tLC"
      },
      "execution_count": 9,
      "outputs": []
    },
    {
      "cell_type": "code",
      "source": [
        "display(df_13_samples)"
      ],
      "metadata": {
        "colab": {
          "base_uri": "https://localhost:8080/",
          "height": 487
        },
        "id": "6RAjQqdW9nc5",
        "outputId": "06fd700a-5618-496f-f713-c036a98d2c42"
      },
      "execution_count": 10,
      "outputs": [
        {
          "output_type": "display_data",
          "data": {
            "text/plain": [
              "     row  PBRS_id  Channels  Distance_km  power_dBm #span         -40  \\\n",
              "0      1        1         1         80.0          0     1 -334.501270   \n",
              "1      2        1         1        160.0          0     2 -338.049215   \n",
              "2      3        1         1        240.0          0     3 -335.915875   \n",
              "3      4        1         1        320.0          0     4 -330.110140   \n",
              "4      5        1         1        400.0          0     5 -336.413189   \n",
              "..   ...      ...       ...          ...        ...   ...         ...   \n",
              "320  321       13         1       1680.0          0    21  -54.561583   \n",
              "321  322       13         1       1760.0          0    22  -58.293111   \n",
              "322  323       13         1       1840.0          0    23  -56.360107   \n",
              "323  324       13         1       1920.0          0    24  -48.972740   \n",
              "324  325       13         1       2000.0          0    25  -38.242082   \n",
              "\n",
              "      -39.96875    -39.9375   -39.90625  ...  39.7187499999999  \\\n",
              "0   -333.132364 -325.572794 -336.320168  ...       -335.056696   \n",
              "1   -327.846616 -327.474368 -338.873124  ...               NaN   \n",
              "2   -332.459387 -349.826960 -328.583144  ...       -326.872508   \n",
              "3   -337.262521 -332.736237 -339.124990  ...       -336.294415   \n",
              "4   -330.762275 -332.048845 -337.871202  ...       -331.093800   \n",
              "..          ...         ...         ...  ...               ...   \n",
              "320  -44.613902  -41.167754  -40.733658  ...        -46.796297   \n",
              "321  -50.937024  -40.632352  -55.283881  ...        -54.613867   \n",
              "322  -49.076076  -38.904166  -42.718141  ...        -44.865531   \n",
              "323  -44.050182  -48.665758  -48.660555  ...        -40.742621   \n",
              "324  -38.461429  -45.351282  -69.542816  ...        -47.447630   \n",
              "\n",
              "     39.7499999999999  39.7812499999999  39.8124999999999  39.8437499999999  \\\n",
              "0         -328.066995       -325.754530       -328.066995       -328.066995   \n",
              "1         -321.746918       -326.565933       -322.586533       -341.617433   \n",
              "2         -333.434423       -329.882808       -329.882808       -331.686340   \n",
              "3         -330.273815       -329.274286       -329.304715       -321.242915   \n",
              "4         -336.602875       -329.274286       -329.155600       -324.104100   \n",
              "..                ...               ...               ...               ...   \n",
              "320        -44.789001        -49.459724        -43.774488        -46.750014   \n",
              "321        -42.210508        -41.569807        -46.446182        -52.601701   \n",
              "322        -40.877947        -38.035555        -43.307802        -44.275443   \n",
              "323        -58.084123        -43.044080        -43.606192        -43.880028   \n",
              "324        -46.748093        -45.419644        -45.034501        -46.944102   \n",
              "\n",
              "     39.8749999999999  39.9062499999999  39.9374999999999  39.9687499999999  \\\n",
              "0         -325.395278       -321.992445       -328.886037       -322.977492   \n",
              "1         -322.586533               NaN       -331.617433       -328.607133   \n",
              "2         -325.665740       -335.903408       -326.872508       -329.882808   \n",
              "3         -320.731390       -328.335615       -325.154982       -326.294415   \n",
              "4         -320.731390       -333.027762       -325.154982       -343.135000   \n",
              "..                ...               ...               ...               ...   \n",
              "320        -45.695103        -43.781436        -40.756417        -49.368974   \n",
              "321        -45.139597        -46.657479        -50.439532        -45.279847   \n",
              "322        -39.932980        -42.285547        -55.159451        -42.410064   \n",
              "323        -49.691087        -46.022193        -47.717701        -39.202819   \n",
              "324        -48.295050        -51.188603        -54.750253        -38.874409   \n",
              "\n",
              "     39.9999999999999  \n",
              "0         -335.056696  \n",
              "1         -328.144133  \n",
              "2         -328.913708  \n",
              "3         -330.273815  \n",
              "4         -337.114400  \n",
              "..                ...  \n",
              "320        -35.147507  \n",
              "321        -47.112150  \n",
              "322        -47.629492  \n",
              "323        -51.550857  \n",
              "324        -39.958411  \n",
              "\n",
              "[325 rows x 2567 columns]"
            ],
            "text/html": [
              "\n",
              "  <div id=\"df-ce515f8e-b4cb-41be-8fe6-dcde7ed2b89e\">\n",
              "    <div class=\"colab-df-container\">\n",
              "      <div>\n",
              "<style scoped>\n",
              "    .dataframe tbody tr th:only-of-type {\n",
              "        vertical-align: middle;\n",
              "    }\n",
              "\n",
              "    .dataframe tbody tr th {\n",
              "        vertical-align: top;\n",
              "    }\n",
              "\n",
              "    .dataframe thead th {\n",
              "        text-align: right;\n",
              "    }\n",
              "</style>\n",
              "<table border=\"1\" class=\"dataframe\">\n",
              "  <thead>\n",
              "    <tr style=\"text-align: right;\">\n",
              "      <th></th>\n",
              "      <th>row</th>\n",
              "      <th>PBRS_id</th>\n",
              "      <th>Channels</th>\n",
              "      <th>Distance_km</th>\n",
              "      <th>power_dBm</th>\n",
              "      <th>#span</th>\n",
              "      <th>-40</th>\n",
              "      <th>-39.96875</th>\n",
              "      <th>-39.9375</th>\n",
              "      <th>-39.90625</th>\n",
              "      <th>...</th>\n",
              "      <th>39.7187499999999</th>\n",
              "      <th>39.7499999999999</th>\n",
              "      <th>39.7812499999999</th>\n",
              "      <th>39.8124999999999</th>\n",
              "      <th>39.8437499999999</th>\n",
              "      <th>39.8749999999999</th>\n",
              "      <th>39.9062499999999</th>\n",
              "      <th>39.9374999999999</th>\n",
              "      <th>39.9687499999999</th>\n",
              "      <th>39.9999999999999</th>\n",
              "    </tr>\n",
              "  </thead>\n",
              "  <tbody>\n",
              "    <tr>\n",
              "      <th>0</th>\n",
              "      <td>1</td>\n",
              "      <td>1</td>\n",
              "      <td>1</td>\n",
              "      <td>80.0</td>\n",
              "      <td>0</td>\n",
              "      <td>1</td>\n",
              "      <td>-334.501270</td>\n",
              "      <td>-333.132364</td>\n",
              "      <td>-325.572794</td>\n",
              "      <td>-336.320168</td>\n",
              "      <td>...</td>\n",
              "      <td>-335.056696</td>\n",
              "      <td>-328.066995</td>\n",
              "      <td>-325.754530</td>\n",
              "      <td>-328.066995</td>\n",
              "      <td>-328.066995</td>\n",
              "      <td>-325.395278</td>\n",
              "      <td>-321.992445</td>\n",
              "      <td>-328.886037</td>\n",
              "      <td>-322.977492</td>\n",
              "      <td>-335.056696</td>\n",
              "    </tr>\n",
              "    <tr>\n",
              "      <th>1</th>\n",
              "      <td>2</td>\n",
              "      <td>1</td>\n",
              "      <td>1</td>\n",
              "      <td>160.0</td>\n",
              "      <td>0</td>\n",
              "      <td>2</td>\n",
              "      <td>-338.049215</td>\n",
              "      <td>-327.846616</td>\n",
              "      <td>-327.474368</td>\n",
              "      <td>-338.873124</td>\n",
              "      <td>...</td>\n",
              "      <td>NaN</td>\n",
              "      <td>-321.746918</td>\n",
              "      <td>-326.565933</td>\n",
              "      <td>-322.586533</td>\n",
              "      <td>-341.617433</td>\n",
              "      <td>-322.586533</td>\n",
              "      <td>NaN</td>\n",
              "      <td>-331.617433</td>\n",
              "      <td>-328.607133</td>\n",
              "      <td>-328.144133</td>\n",
              "    </tr>\n",
              "    <tr>\n",
              "      <th>2</th>\n",
              "      <td>3</td>\n",
              "      <td>1</td>\n",
              "      <td>1</td>\n",
              "      <td>240.0</td>\n",
              "      <td>0</td>\n",
              "      <td>3</td>\n",
              "      <td>-335.915875</td>\n",
              "      <td>-332.459387</td>\n",
              "      <td>-349.826960</td>\n",
              "      <td>-328.583144</td>\n",
              "      <td>...</td>\n",
              "      <td>-326.872508</td>\n",
              "      <td>-333.434423</td>\n",
              "      <td>-329.882808</td>\n",
              "      <td>-329.882808</td>\n",
              "      <td>-331.686340</td>\n",
              "      <td>-325.665740</td>\n",
              "      <td>-335.903408</td>\n",
              "      <td>-326.872508</td>\n",
              "      <td>-329.882808</td>\n",
              "      <td>-328.913708</td>\n",
              "    </tr>\n",
              "    <tr>\n",
              "      <th>3</th>\n",
              "      <td>4</td>\n",
              "      <td>1</td>\n",
              "      <td>1</td>\n",
              "      <td>320.0</td>\n",
              "      <td>0</td>\n",
              "      <td>4</td>\n",
              "      <td>-330.110140</td>\n",
              "      <td>-337.262521</td>\n",
              "      <td>-332.736237</td>\n",
              "      <td>-339.124990</td>\n",
              "      <td>...</td>\n",
              "      <td>-336.294415</td>\n",
              "      <td>-330.273815</td>\n",
              "      <td>-329.274286</td>\n",
              "      <td>-329.304715</td>\n",
              "      <td>-321.242915</td>\n",
              "      <td>-320.731390</td>\n",
              "      <td>-328.335615</td>\n",
              "      <td>-325.154982</td>\n",
              "      <td>-326.294415</td>\n",
              "      <td>-330.273815</td>\n",
              "    </tr>\n",
              "    <tr>\n",
              "      <th>4</th>\n",
              "      <td>5</td>\n",
              "      <td>1</td>\n",
              "      <td>1</td>\n",
              "      <td>400.0</td>\n",
              "      <td>0</td>\n",
              "      <td>5</td>\n",
              "      <td>-336.413189</td>\n",
              "      <td>-330.762275</td>\n",
              "      <td>-332.048845</td>\n",
              "      <td>-337.871202</td>\n",
              "      <td>...</td>\n",
              "      <td>-331.093800</td>\n",
              "      <td>-336.602875</td>\n",
              "      <td>-329.274286</td>\n",
              "      <td>-329.155600</td>\n",
              "      <td>-324.104100</td>\n",
              "      <td>-320.731390</td>\n",
              "      <td>-333.027762</td>\n",
              "      <td>-325.154982</td>\n",
              "      <td>-343.135000</td>\n",
              "      <td>-337.114400</td>\n",
              "    </tr>\n",
              "    <tr>\n",
              "      <th>...</th>\n",
              "      <td>...</td>\n",
              "      <td>...</td>\n",
              "      <td>...</td>\n",
              "      <td>...</td>\n",
              "      <td>...</td>\n",
              "      <td>...</td>\n",
              "      <td>...</td>\n",
              "      <td>...</td>\n",
              "      <td>...</td>\n",
              "      <td>...</td>\n",
              "      <td>...</td>\n",
              "      <td>...</td>\n",
              "      <td>...</td>\n",
              "      <td>...</td>\n",
              "      <td>...</td>\n",
              "      <td>...</td>\n",
              "      <td>...</td>\n",
              "      <td>...</td>\n",
              "      <td>...</td>\n",
              "      <td>...</td>\n",
              "      <td>...</td>\n",
              "    </tr>\n",
              "    <tr>\n",
              "      <th>320</th>\n",
              "      <td>321</td>\n",
              "      <td>13</td>\n",
              "      <td>1</td>\n",
              "      <td>1680.0</td>\n",
              "      <td>0</td>\n",
              "      <td>21</td>\n",
              "      <td>-54.561583</td>\n",
              "      <td>-44.613902</td>\n",
              "      <td>-41.167754</td>\n",
              "      <td>-40.733658</td>\n",
              "      <td>...</td>\n",
              "      <td>-46.796297</td>\n",
              "      <td>-44.789001</td>\n",
              "      <td>-49.459724</td>\n",
              "      <td>-43.774488</td>\n",
              "      <td>-46.750014</td>\n",
              "      <td>-45.695103</td>\n",
              "      <td>-43.781436</td>\n",
              "      <td>-40.756417</td>\n",
              "      <td>-49.368974</td>\n",
              "      <td>-35.147507</td>\n",
              "    </tr>\n",
              "    <tr>\n",
              "      <th>321</th>\n",
              "      <td>322</td>\n",
              "      <td>13</td>\n",
              "      <td>1</td>\n",
              "      <td>1760.0</td>\n",
              "      <td>0</td>\n",
              "      <td>22</td>\n",
              "      <td>-58.293111</td>\n",
              "      <td>-50.937024</td>\n",
              "      <td>-40.632352</td>\n",
              "      <td>-55.283881</td>\n",
              "      <td>...</td>\n",
              "      <td>-54.613867</td>\n",
              "      <td>-42.210508</td>\n",
              "      <td>-41.569807</td>\n",
              "      <td>-46.446182</td>\n",
              "      <td>-52.601701</td>\n",
              "      <td>-45.139597</td>\n",
              "      <td>-46.657479</td>\n",
              "      <td>-50.439532</td>\n",
              "      <td>-45.279847</td>\n",
              "      <td>-47.112150</td>\n",
              "    </tr>\n",
              "    <tr>\n",
              "      <th>322</th>\n",
              "      <td>323</td>\n",
              "      <td>13</td>\n",
              "      <td>1</td>\n",
              "      <td>1840.0</td>\n",
              "      <td>0</td>\n",
              "      <td>23</td>\n",
              "      <td>-56.360107</td>\n",
              "      <td>-49.076076</td>\n",
              "      <td>-38.904166</td>\n",
              "      <td>-42.718141</td>\n",
              "      <td>...</td>\n",
              "      <td>-44.865531</td>\n",
              "      <td>-40.877947</td>\n",
              "      <td>-38.035555</td>\n",
              "      <td>-43.307802</td>\n",
              "      <td>-44.275443</td>\n",
              "      <td>-39.932980</td>\n",
              "      <td>-42.285547</td>\n",
              "      <td>-55.159451</td>\n",
              "      <td>-42.410064</td>\n",
              "      <td>-47.629492</td>\n",
              "    </tr>\n",
              "    <tr>\n",
              "      <th>323</th>\n",
              "      <td>324</td>\n",
              "      <td>13</td>\n",
              "      <td>1</td>\n",
              "      <td>1920.0</td>\n",
              "      <td>0</td>\n",
              "      <td>24</td>\n",
              "      <td>-48.972740</td>\n",
              "      <td>-44.050182</td>\n",
              "      <td>-48.665758</td>\n",
              "      <td>-48.660555</td>\n",
              "      <td>...</td>\n",
              "      <td>-40.742621</td>\n",
              "      <td>-58.084123</td>\n",
              "      <td>-43.044080</td>\n",
              "      <td>-43.606192</td>\n",
              "      <td>-43.880028</td>\n",
              "      <td>-49.691087</td>\n",
              "      <td>-46.022193</td>\n",
              "      <td>-47.717701</td>\n",
              "      <td>-39.202819</td>\n",
              "      <td>-51.550857</td>\n",
              "    </tr>\n",
              "    <tr>\n",
              "      <th>324</th>\n",
              "      <td>325</td>\n",
              "      <td>13</td>\n",
              "      <td>1</td>\n",
              "      <td>2000.0</td>\n",
              "      <td>0</td>\n",
              "      <td>25</td>\n",
              "      <td>-38.242082</td>\n",
              "      <td>-38.461429</td>\n",
              "      <td>-45.351282</td>\n",
              "      <td>-69.542816</td>\n",
              "      <td>...</td>\n",
              "      <td>-47.447630</td>\n",
              "      <td>-46.748093</td>\n",
              "      <td>-45.419644</td>\n",
              "      <td>-45.034501</td>\n",
              "      <td>-46.944102</td>\n",
              "      <td>-48.295050</td>\n",
              "      <td>-51.188603</td>\n",
              "      <td>-54.750253</td>\n",
              "      <td>-38.874409</td>\n",
              "      <td>-39.958411</td>\n",
              "    </tr>\n",
              "  </tbody>\n",
              "</table>\n",
              "<p>325 rows × 2567 columns</p>\n",
              "</div>\n",
              "      <button class=\"colab-df-convert\" onclick=\"convertToInteractive('df-ce515f8e-b4cb-41be-8fe6-dcde7ed2b89e')\"\n",
              "              title=\"Convert this dataframe to an interactive table.\"\n",
              "              style=\"display:none;\">\n",
              "        \n",
              "  <svg xmlns=\"http://www.w3.org/2000/svg\" height=\"24px\"viewBox=\"0 0 24 24\"\n",
              "       width=\"24px\">\n",
              "    <path d=\"M0 0h24v24H0V0z\" fill=\"none\"/>\n",
              "    <path d=\"M18.56 5.44l.94 2.06.94-2.06 2.06-.94-2.06-.94-.94-2.06-.94 2.06-2.06.94zm-11 1L8.5 8.5l.94-2.06 2.06-.94-2.06-.94L8.5 2.5l-.94 2.06-2.06.94zm10 10l.94 2.06.94-2.06 2.06-.94-2.06-.94-.94-2.06-.94 2.06-2.06.94z\"/><path d=\"M17.41 7.96l-1.37-1.37c-.4-.4-.92-.59-1.43-.59-.52 0-1.04.2-1.43.59L10.3 9.45l-7.72 7.72c-.78.78-.78 2.05 0 2.83L4 21.41c.39.39.9.59 1.41.59.51 0 1.02-.2 1.41-.59l7.78-7.78 2.81-2.81c.8-.78.8-2.07 0-2.86zM5.41 20L4 18.59l7.72-7.72 1.47 1.35L5.41 20z\"/>\n",
              "  </svg>\n",
              "      </button>\n",
              "      \n",
              "  <style>\n",
              "    .colab-df-container {\n",
              "      display:flex;\n",
              "      flex-wrap:wrap;\n",
              "      gap: 12px;\n",
              "    }\n",
              "\n",
              "    .colab-df-convert {\n",
              "      background-color: #E8F0FE;\n",
              "      border: none;\n",
              "      border-radius: 50%;\n",
              "      cursor: pointer;\n",
              "      display: none;\n",
              "      fill: #1967D2;\n",
              "      height: 32px;\n",
              "      padding: 0 0 0 0;\n",
              "      width: 32px;\n",
              "    }\n",
              "\n",
              "    .colab-df-convert:hover {\n",
              "      background-color: #E2EBFA;\n",
              "      box-shadow: 0px 1px 2px rgba(60, 64, 67, 0.3), 0px 1px 3px 1px rgba(60, 64, 67, 0.15);\n",
              "      fill: #174EA6;\n",
              "    }\n",
              "\n",
              "    [theme=dark] .colab-df-convert {\n",
              "      background-color: #3B4455;\n",
              "      fill: #D2E3FC;\n",
              "    }\n",
              "\n",
              "    [theme=dark] .colab-df-convert:hover {\n",
              "      background-color: #434B5C;\n",
              "      box-shadow: 0px 1px 3px 1px rgba(0, 0, 0, 0.15);\n",
              "      filter: drop-shadow(0px 1px 2px rgba(0, 0, 0, 0.3));\n",
              "      fill: #FFFFFF;\n",
              "    }\n",
              "  </style>\n",
              "\n",
              "      <script>\n",
              "        const buttonEl =\n",
              "          document.querySelector('#df-ce515f8e-b4cb-41be-8fe6-dcde7ed2b89e button.colab-df-convert');\n",
              "        buttonEl.style.display =\n",
              "          google.colab.kernel.accessAllowed ? 'block' : 'none';\n",
              "\n",
              "        async function convertToInteractive(key) {\n",
              "          const element = document.querySelector('#df-ce515f8e-b4cb-41be-8fe6-dcde7ed2b89e');\n",
              "          const dataTable =\n",
              "            await google.colab.kernel.invokeFunction('convertToInteractive',\n",
              "                                                     [key], {});\n",
              "          if (!dataTable) return;\n",
              "\n",
              "          const docLinkHtml = 'Like what you see? Visit the ' +\n",
              "            '<a target=\"_blank\" href=https://colab.research.google.com/notebooks/data_table.ipynb>data table notebook</a>'\n",
              "            + ' to learn more about interactive tables.';\n",
              "          element.innerHTML = '';\n",
              "          dataTable['output_type'] = 'display_data';\n",
              "          await google.colab.output.renderOutput(dataTable, element);\n",
              "          const docLink = document.createElement('div');\n",
              "          docLink.innerHTML = docLinkHtml;\n",
              "          element.appendChild(docLink);\n",
              "        }\n",
              "      </script>\n",
              "    </div>\n",
              "  </div>\n",
              "  "
            ]
          },
          "metadata": {}
        }
      ]
    },
    {
      "cell_type": "markdown",
      "source": [
        "# Cut Tails with on wanted data"
      ],
      "metadata": {
        "id": "5sb_5ed27RQH"
      }
    },
    {
      "cell_type": "markdown",
      "source": [
        "## Calculate the average value of groups"
      ],
      "metadata": {
        "id": "mqaottXF7cAP"
      }
    },
    {
      "cell_type": "code",
      "source": [
        "def prime_number_finder(stop_gap, total_num_of_data):\n",
        "  prime_nums = []\n",
        "  i=2\n",
        "  while i <= stop_gap:\n",
        "    if (total_num_of_data % i==0):\n",
        "      prime_nums.append(i)\n",
        "      break\n",
        "    i+=1\n",
        "  return prime_nums\n",
        "\n",
        "def aggreagator_v2(df, stop_gap=50):\n",
        "  total_num_of_data = df.shape[1]\n",
        "  arr_prime = prime_number_finder(stop_gap, total_num_of_data)\n",
        "  #agg_num = np.max(arr_prime)\n",
        "  agg_num = arr_prime[0]\n",
        "\n",
        "  # Creating new df of aggregate values\n",
        "  agg_df = pd.DataFrame()\n",
        "\n",
        "  mid_point = df.shape[1]/2\n",
        "\n",
        "  agg=0\n",
        "  loop_cnt=0\n",
        "  init_column_cnt = 5\n",
        "  while agg<=total_num_of_data:\n",
        "    loop_cnt+=1\n",
        "    # Obtain current last columns stop\n",
        "    agg=agg_num+init_column_cnt\n",
        "    # Select working columns\n",
        "    new_df = df[df.columns[init_column_cnt:agg]]\n",
        "\n",
        "    init_column_cnt += (agg_num)\n",
        "\n",
        "    headers = list(new_df.columns.values) \n",
        "    if loop_cnt <= mid_point:\n",
        "      # Get average of freq values for new header\n",
        "      new_header_name  = headers[-1]\n",
        "    else:\n",
        "      new_header_name = headers[0]\n",
        "    \n",
        "    # Add aggragated values to new df\n",
        "    agg_df[new_header_name] = new_df.mean(axis = 1)\n",
        "  return agg_df"
      ],
      "metadata": {
        "id": "jJ0ARUa0iLyx"
      },
      "execution_count": 93,
      "outputs": []
    },
    {
      "cell_type": "markdown",
      "source": [
        "## Select the first sample for testing of the mean values"
      ],
      "metadata": {
        "id": "YBZTkz8A8AQe"
      }
    },
    {
      "cell_type": "markdown",
      "source": [
        "## Remove tails selectors (return the headers fromt where the data should be selected"
      ],
      "metadata": {
        "id": "6dWAxqsO8VkR"
      }
    },
    {
      "cell_type": "code",
      "source": [
        "def remove_tail(df, cut_val, sample_id):\n",
        "  columns_selected = []\n",
        "  old_val = 0\n",
        "  delta = 0\n",
        "  mid_point = int(df.shape[1]/2)\n",
        "  cols_headers  = list(df.columns.values)\n",
        "\n",
        "  for i in range(0, df.shape[1]):\n",
        "    if i == 0:\n",
        "      cell_val = df.iloc[[0], i]\n",
        "      old_val = cell_val[sample_id]\n",
        "    else:\n",
        "      cell_val = df.iloc[[0], i]\n",
        "      val = cell_val[sample_id]\n",
        "      delta = abs(old_val-val)\n",
        "      old_val = val\n",
        "      if delta > cut_val:\n",
        "        if i <= mid_point:\n",
        "          col_name_selected = cols_headers[i+2]\n",
        "        else:\n",
        "          col_name_selected = cols_headers[i-2]\n",
        "          col_name_selected = round(float(col_name_selected), 5)\n",
        "        columns_selected.append(col_name_selected)\n",
        "\n",
        "  return columns_selected"
      ],
      "metadata": {
        "id": "g65aVEiAq-Tk"
      },
      "execution_count": 112,
      "outputs": []
    },
    {
      "cell_type": "code",
      "source": [
        "# Removing tails conducting multiples loops with variable cutoff value until we get only two columns\n",
        "def remove_tail_main(df, cut_val, sample_id):\n",
        "  old_drop_cols = []\n",
        "  drop_cols = remove_tail(df, cut_val, sample_id)\n",
        "  while len(drop_cols) != 2:  \n",
        "    # If len of columns to be dropped are 0 the select the 2 values smaller and bigger of the previous iteration\n",
        "    if len(drop_cols) == 0 or len(drop_cols) == 1:\n",
        "      drop_cols = [np.min(old_drop_cols), np.max(old_drop_cols)]\n",
        "      break\n",
        "    else:\n",
        "      old_drop_cols = drop_cols\n",
        "      drop_cols = remove_tail(df, cut_val, sample_id)\n",
        "      cut_val += 2\n",
        "  return drop_cols"
      ],
      "metadata": {
        "id": "zUgNgowBhiyf"
      },
      "execution_count": 107,
      "outputs": []
    },
    {
      "cell_type": "code",
      "source": [
        "def get_working_data_idx(df_mean_sample, sample_id, cut_val = 0):\n",
        "\n",
        "  df = df_mean_sample.iloc[[sample_id - 1]]\n",
        "\n",
        "  smoothed_2dg = savgol_filter(df, window_length = 5, polyorder = 2)\n",
        "  smoothed_df = pd.DataFrame(smoothed_2dg)\n",
        "\n",
        "  # Adding back headers to the smoothed data\n",
        "  rename_col = {}\n",
        "  cnt = 0\n",
        "  for col in df.columns:\n",
        "    h_col = round(float(col), 5)\n",
        "    rename_col[cnt] = str(h_col)\n",
        "    cnt += 1\n",
        "\n",
        "  smoothed_df.rename(columns=rename_col, inplace=True)\n",
        "\n",
        "  agg_df = aggreagator_v2(smoothed_df)\n",
        "\n",
        "  col_vals = remove_tail_main(agg_df, cut_val=cut_val, sample_id= sample_id)\n",
        "\n",
        "  left_index_no = smoothed_df.columns.get_loc(col_vals[0])\n",
        "  rigth_index_no = smoothed_df.columns.get_loc(col_vals[1])\n",
        "\n",
        "  return left_index_no, rigth_index_no"
      ],
      "metadata": {
        "id": "ZWPjDoClAYfF"
      },
      "execution_count": 95,
      "outputs": []
    },
    {
      "cell_type": "code",
      "source": [
        "'''\n",
        "df_mean_sample = df_13_samples.groupby(['PBRS_id']).mean()\n",
        "df_mean_sample = df_mean_sample.drop(['row', 'Channels', 'Distance_km', 'power_dBm'], axis = 1)\n",
        "cut_point = {}\n",
        "print('Calculating the cutoff values:')\n",
        "for sample in tqdm(df_mean_sample.index):\n",
        "  left_index_no, rigth_index_no = get_working_data_idx(df_mean_sample, sample_id = sample)\n",
        "  cut_point[sample] = (left_index_no, rigth_index_no)\n",
        "'''"
      ],
      "metadata": {
        "colab": {
          "base_uri": "https://localhost:8080/",
          "height": 53
        },
        "id": "vsFa95lo5ovi",
        "outputId": "163e4b3d-7bb9-44c9-bcd0-522820f23e97"
      },
      "execution_count": 32,
      "outputs": [
        {
          "output_type": "execute_result",
          "data": {
            "text/plain": [
              "\"\\ndf_mean_sample = df_13_samples.groupby(['PBRS_id']).mean()\\ndf_mean_sample = df_mean_sample.drop(['row', 'Channels', 'Distance_km', 'power_dBm'], axis = 1)\\ncut_point = {}\\nprint('Calculating the cutoff values:')\\nfor sample in tqdm(df_mean_sample.index):\\n  left_index_no, rigth_index_no = get_working_data_idx(df_mean_sample, sample_id = sample)\\n  cut_point[sample] = (left_index_no, rigth_index_no)\\n\""
            ],
            "application/vnd.google.colaboratory.intrinsic+json": {
              "type": "string"
            }
          },
          "metadata": {},
          "execution_count": 32
        }
      ]
    },
    {
      "cell_type": "code",
      "source": [
        "def get_working_data_idx_v2(df_mean_sample, sample_id, cut_val = 0):\n",
        "\n",
        "  df = df_mean_sample.iloc[[sample_id - 1]]\n",
        "\n",
        "  agg_df = aggreagator_v2(df)\n",
        "\n",
        "  col_vals = remove_tail_main(agg_df, cut_val=cut_val, sample_id=sample_id)\n",
        "\n",
        "  left_index_no = df.columns.get_loc(col_vals[0])\n",
        "  rigth_index_no = df.columns.get_loc(col_vals[1])\n",
        "\n",
        "  return left_index_no, rigth_index_no"
      ],
      "metadata": {
        "id": "poOQCBSpsd-W"
      },
      "execution_count": 108,
      "outputs": []
    },
    {
      "cell_type": "code",
      "source": [
        "df_mean_sample = df_13_samples.groupby(['PBRS_id']).mean()\n",
        "df_mean_sample = df_mean_sample.drop(['row', 'Channels', 'Distance_km', 'power_dBm'], axis = 1)\n",
        "\n",
        "cut_point = {}\n",
        "print('Calculating the cutoff values:')\n",
        "for sample in tqdm(df_mean_sample.index):\n",
        "  left_index_no, rigth_index_no = get_working_data_idx_v2(df_mean_sample, sample_id = sample)\n",
        "  cut_point[sample] = (left_index_no, rigth_index_no)"
      ],
      "metadata": {
        "id": "HwD7A2uOtDxR",
        "outputId": "22e9b5d5-f50d-4c1c-ae89-2447d7622c9d",
        "colab": {
          "base_uri": "https://localhost:8080/"
        }
      },
      "execution_count": 113,
      "outputs": [
        {
          "output_type": "stream",
          "name": "stdout",
          "text": [
            "Calculating the cutoff values:\n"
          ]
        },
        {
          "output_type": "stream",
          "name": "stderr",
          "text": [
            "100%|██████████| 13/13 [00:07<00:00,  1.76it/s]\n"
          ]
        }
      ]
    },
    {
      "cell_type": "code",
      "source": [
        "print(cut_point)"
      ],
      "metadata": {
        "colab": {
          "base_uri": "https://localhost:8080/"
        },
        "id": "YNtJ90bc6O_8",
        "outputId": "d9a92a3b-2e66-436f-fe9d-5099b3e2f3a3"
      },
      "execution_count": 114,
      "outputs": [
        {
          "output_type": "stream",
          "name": "stdout",
          "text": [
            "{1: (238, 2357), 2: (238, 2344), 3: (251, 2331), 4: (251, 2318), 5: (238, 2357), 6: (238, 2344), 7: (251, 2331), 8: (251, 2331), 9: (238, 2357), 10: (238, 2357), 11: (238, 2344), 12: (251, 2331), 13: (251, 2318)}\n"
          ]
        }
      ]
    },
    {
      "cell_type": "code",
      "source": [
        "test_df = df_mean_sample.iloc[[0]]\n",
        "sample_1 = test_df.iloc[0].squeeze()\n",
        "sample_1.plot()\n",
        "plt.show()"
      ],
      "metadata": {
        "colab": {
          "base_uri": "https://localhost:8080/",
          "height": 268
        },
        "id": "QxYsuh3AG-B9",
        "outputId": "c85b3bb0-70b2-460f-eed4-c7e9a8b74153"
      },
      "execution_count": 17,
      "outputs": [
        {
          "output_type": "display_data",
          "data": {
            "text/plain": [
              "<Figure size 432x288 with 1 Axes>"
            ],
            "image/png": "[encoded data removed]"
          },
          "metadata": {
            "needs_background": "light"
          }
        }
      ]
    },
    {
      "cell_type": "code",
      "source": [
        "smoothed_2dg = savgol_filter(test_df, window_length = 5, polyorder = 2)\n",
        "gfg = pd.Series(smoothed_2dg[0])\n",
        "gfg.plot()\n",
        "plt.show()"
      ],
      "metadata": {
        "colab": {
          "base_uri": "https://localhost:8080/",
          "height": 265
        },
        "id": "pqofq7g3G-sF",
        "outputId": "5989122c-dd29-4840-8f63-d41d1f9e5f6c"
      },
      "execution_count": 18,
      "outputs": [
        {
          "output_type": "display_data",
          "data": {
            "text/plain": [
              "<Figure size 432x288 with 1 Axes>"
            ],
            "image/png": "[encoded data removed]"
          },
          "metadata": {
            "needs_background": "light"
          }
        }
      ]
    },
    {
      "cell_type": "markdown",
      "source": [
        "# Pearson Correlation"
      ],
      "metadata": {
        "id": "SPEGaUP8HVds"
      }
    },
    {
      "cell_type": "markdown",
      "source": [
        "## Main"
      ],
      "metadata": {
        "id": "SxyLn159HZmI"
      }
    },
    {
      "cell_type": "code",
      "source": [
        "# Pearson correlation\n",
        "#-1 indicates a perfectly negative linear correlation between two variables\n",
        "#0 indicates no linear correlation between two variables\n",
        "#1 indicates a perfectly positive linear correlation between two variables\n",
        "\n",
        "def pearson_correlation(df_13_samples):\n",
        "  cor_results = {}\n",
        "\n",
        "  distances = []\n",
        "  c = 1\n",
        "  for x in range(0,25):\n",
        "    t = (x, c*80)\n",
        "    distances.append(t)\n",
        "    c += 1\n",
        "  print('Calculating Correlation Parameters for data samples:')\n",
        "\n",
        "  for idx, source in tqdm(distances): # source distances loop\n",
        "    samples_pearson_cor_dict = {}\n",
        "    \n",
        "    cnt_first_row = 0\n",
        "    counter = 1\n",
        "    for sample_id in df_13_samples['PBRS_id'].unique(): #Samples loop\n",
        "\n",
        "      sample_df = df_13_samples[df_13_samples['PBRS_id'] == sample_id]\n",
        "      first_cols_df = sample_df.iloc[:, 0:6]\n",
        "      working_df = sample_df.iloc[:, cut_point[sample_id][0]+6:cut_point[sample_id][1]+6]\n",
        "      merge_df = pd.merge(first_cols_df, working_df, left_index=True, right_index=True)\n",
        "\n",
        "      #var1 = merge_df.iloc[idx, 7:merge_df.shape[1]]\n",
        "      source_df = merge_df[merge_df['Distance_km'] == source]\n",
        "\n",
        "      var1 = source_df.iloc[0, 7:source_df.shape[1]]\n",
        "      #display(merge_df)\n",
        "      series1 = var1.to_frame()\n",
        "\n",
        "      vals_1 = series1[cnt_first_row*25+idx].tolist()\n",
        "      cnt_first_row += 1\n",
        "\n",
        "      distance_cnt = 1\n",
        "      pearson_cor_dict = {}\n",
        "\n",
        "      for index, row in merge_df.iterrows(): # sample row loop\n",
        "        if distance_cnt*80 != source:\n",
        "          rslt_df = merge_df[merge_df['row'] == counter]\n",
        "          var2 = rslt_df.iloc[0, 7:merge_df.shape[1]]\n",
        "          series2 = var2.to_frame()\n",
        "          vals_2 = series2[index].tolist()\n",
        "\n",
        "          cor, p_val = pearsonr(vals_1, vals_2)\n",
        "          pearson_cor_dict[80*distance_cnt] = (round(cor, 5), round(p_val, 5))\n",
        "\n",
        "        distance_cnt += 1\n",
        "        counter += 1\n",
        "      samples_pearson_cor_dict['sample_id_'+str(sample_id)] = pearson_cor_dict\n",
        "\n",
        "    cor_results['source_'+str(source)] = samples_pearson_cor_dict\n",
        "  return cor_results"
      ],
      "metadata": {
        "id": "LmxXMuv4K_I1"
      },
      "execution_count": 19,
      "outputs": []
    },
    {
      "cell_type": "code",
      "source": [
        "cor_results = pearson_correlation(df_13_samples)"
      ],
      "metadata": {
        "id": "yHt2ykfZHOcu",
        "outputId": "6a6f7a1c-c37c-454a-e598-e541302b2806",
        "colab": {
          "base_uri": "https://localhost:8080/"
        }
      },
      "execution_count": 20,
      "outputs": [
        {
          "output_type": "stream",
          "name": "stdout",
          "text": [
            "Calculating Correlation Parameters for data samples:\n"
          ]
        },
        {
          "output_type": "stream",
          "name": "stderr",
          "text": [
            "100%|██████████| 25/25 [00:21<00:00,  1.14it/s]\n"
          ]
        }
      ]
    },
    {
      "cell_type": "code",
      "source": [
        "cor_results['source_80']['sample_id_1']"
      ],
      "metadata": {
        "colab": {
          "base_uri": "https://localhost:8080/"
        },
        "id": "AAedkHwCN8nu",
        "outputId": "0d397bbd-1f23-4a16-ece9-bb50e89c8fa6"
      },
      "execution_count": 21,
      "outputs": [
        {
          "output_type": "execute_result",
          "data": {
            "text/plain": [
              "{160: (0.04641, 0.0327),\n",
              " 240: (0.05005, 0.02125),\n",
              " 320: (0.10102, 0.0),\n",
              " 400: (0.06805, 0.00173),\n",
              " 480: (0.07649, 0.00043),\n",
              " 560: (0.09755, 1e-05),\n",
              " 640: (0.06842, 0.00163),\n",
              " 720: (0.08425, 0.0001),\n",
              " 800: (0.01773, 0.41466),\n",
              " 880: (0.9933, 0.0),\n",
              " 960: (0.05995, 0.00579),\n",
              " 1040: (0.06581, 0.00244),\n",
              " 1120: (0.11438, 0.0),\n",
              " 1200: (0.08333, 0.00012),\n",
              " 1280: (0.08956, 4e-05),\n",
              " 1360: (0.10946, 0.0),\n",
              " 1440: (0.08466, 0.0001),\n",
              " 1520: (0.09583, 1e-05),\n",
              " 1600: (0.03269, 0.13255),\n",
              " 1680: (0.98282, 0.0),\n",
              " 1760: (0.07272, 0.00081),\n",
              " 1840: (0.07916, 0.00027),\n",
              " 1920: (0.12853, 0.0),\n",
              " 2000: (0.10358, 0.0)}"
            ]
          },
          "metadata": {},
          "execution_count": 21
        }
      ]
    },
    {
      "cell_type": "markdown",
      "source": [
        "## Create dataframe of correlations"
      ],
      "metadata": {
        "id": "OcnRZ4GHHdmS"
      }
    },
    {
      "cell_type": "code",
      "source": [
        "def correlation_dict_to_df(cor_results, source_distance):\n",
        "  source_col = []\n",
        "  sample_col =[]\n",
        "  target_header = []\n",
        "  data_c = []\n",
        "  data_p = []\n",
        "\n",
        "  h_cnt = 1\n",
        "  samples = cor_results['source_'+str(source_distance)]\n",
        "  for sample_id, target in samples.items():\n",
        "    cor_data = []\n",
        "    p_value_data = []\n",
        "    for target, cor in target.items():\n",
        "      source_col.append(source_distance)\n",
        "      sample_col.append(sample_id)\n",
        "      if h_cnt == 1:\n",
        "        target_header.append(target)\n",
        "      cor_data.append(cor[0])\n",
        "      p_value_data.append(cor[1])\n",
        "    data_c.append(cor_data)\n",
        "    data_p.append(p_value_data)\n",
        "    h_cnt += 1\n",
        "\n",
        "  cor_df = pd.DataFrame(data_c, columns=target_header)\n",
        "  cor_df.insert(0, 'source', [str(source_distance) for sample_col in range(1,14)])\n",
        "  cor_df.insert(1, 'sample_id', [str(sample_col) for sample_col in range(1,14)])\n",
        "\n",
        "  p_df = pd.DataFrame(data_p, columns=target_header)\n",
        "  p_df.insert(0, 'source', [str(source_distance) for sample_col in range(1,14)])\n",
        "  p_df.insert(1, 'sample_id', [str(sample_col) for sample_col in range(1,14)])\n",
        "\n",
        "  cor_output_path = path + '/Spectrum/correlations/Correlation_Pearson_'+str(source_distance)+'.csv'\n",
        "  p_output_path = path + '/Spectrum/correlations/Correlation_Pearson_P_Value_'+str(source_distance)+'.csv'\n",
        "\n",
        "  cor_df.to_csv(cor_output_path, index=False)  \n",
        "  p_df.to_csv(p_output_path, index=False)  "
      ],
      "metadata": {
        "id": "eGqX119l4jPG"
      },
      "execution_count": 22,
      "outputs": []
    },
    {
      "cell_type": "code",
      "source": [
        "'''\n",
        "print('Saving files of correlations calculations')\n",
        "c = 1\n",
        "for x in tqdm(range(1,26)):\n",
        "  distance = c*80\n",
        "  correlation_dict_to_df(cor_results, source_distance=distance)\n",
        "  c += 1\n",
        "'''"
      ],
      "metadata": {
        "colab": {
          "base_uri": "https://localhost:8080/",
          "height": 36
        },
        "id": "rVhHvM1c4m5M",
        "outputId": "bdeeec03-01fc-41fe-d36b-aac356b34beb"
      },
      "execution_count": 23,
      "outputs": [
        {
          "output_type": "execute_result",
          "data": {
            "text/plain": [
              "\"\\nprint('Saving files of correlations calculations')\\nc = 1\\nfor x in tqdm(range(1,26)):\\n  distance = c*80\\n  correlation_dict_to_df(cor_results, source_distance=distance)\\n  c += 1\\n\""
            ],
            "application/vnd.google.colaboratory.intrinsic+json": {
              "type": "string"
            }
          },
          "metadata": {},
          "execution_count": 23
        }
      ]
    },
    {
      "cell_type": "code",
      "source": [
        "def correlation_dict_to_df_v2(cor_results, source_distance):\n",
        "  source_col = []\n",
        "  sample_col =[]\n",
        "  target_header = []\n",
        "  data_c = []\n",
        "  data_p = []\n",
        "\n",
        "  h_cnt = 1\n",
        "  samples = cor_results['source_'+str(source_distance)]\n",
        "  for sample_id, target in samples.items():\n",
        "    cor_data = []\n",
        "    p_value_data = []\n",
        "    for target, cor in target.items():\n",
        "      source_col.append(source_distance)\n",
        "      sample_col.append(sample_id)\n",
        "      if h_cnt == 1:\n",
        "        target_header.append(target)\n",
        "      cor_data.append(cor[0])\n",
        "      p_value_data.append(cor[1])\n",
        "    data_c.append(cor_data)\n",
        "    data_p.append(p_value_data)\n",
        "    h_cnt += 1\n",
        "  \n",
        "  distances = {80: 0, 160: 1, 240: 2, 320: 3, 400: 4, 480: 5, 560: 6, 640: 7, 720: 8, 800: 9, 880: 10, \n",
        "               960: 11, 1040: 12, 1120: 13, 1200: 14, 1280: 15, 1360: 16, 1440: 17, 1520: 18, 1600: 19, 1680: 20, \n",
        "               1760: 21, 1840: 22, 1920: 23, 2000: 24}\n",
        "\n",
        "  cor_df = pd.DataFrame(data_c, columns=target_header)\n",
        "  cor_df.insert(distances[source_distance], source_distance, ['-' for sample_col in range(1,14)]) # Insert null colun\n",
        "  cor_df.insert(0, 'source', [str(source_distance) for sample_col in range(1,14)])\n",
        "  cor_df.insert(1, 'sample_id', [str(sample_col) for sample_col in range(1,14)])\n",
        "\n",
        "  p_df = pd.DataFrame(data_p, columns=target_header)\n",
        "  p_df.insert(distances[source_distance], source_distance, ['-' for sample_col in range(1,14)]) # Insert null colun\n",
        "  p_df.insert(0, 'source', [str(source_distance) for sample_col in range(1,14)])\n",
        "  p_df.insert(1, 'sample_id', [str(sample_col) for sample_col in range(1,14)])\n",
        "\n",
        "  return cor_df, p_df"
      ],
      "metadata": {
        "id": "bvHuZtQaEI_L"
      },
      "execution_count": 24,
      "outputs": []
    },
    {
      "cell_type": "code",
      "source": [
        "'''\n",
        "print('Saving files of Global correlations calculations')\n",
        "cor_df_1, p_df_1 = correlation_dict_to_df_v2(cor_results, source_distance=80)\n",
        "c = 1\n",
        "for x in tqdm(range(1,26)):\n",
        "  distance = c*80\n",
        "  cor_df_x, p_df_x = correlation_dict_to_df_v2(cor_results, source_distance=distance)\n",
        "  cor_df_1 = pd.concat([cor_df_1,cor_df_x],join='inner')\n",
        "\n",
        "  p_df_1 = pd.concat([p_df_1,p_df_x],join='inner')\n",
        "  c += 1\n",
        "\n",
        "cor_output_path = path + '/Spectrum/correlations/Global_Correlation_Pearson.csv'\n",
        "cor_df_1.to_csv(cor_output_path, index=False)\n",
        "\n",
        "p_output_path = path + '/Spectrum/correlations/Gloabl_Correlation_Pearson_P_Value.csv'\n",
        "p_df_1.to_csv(p_output_path, index=False)  \n",
        "'''"
      ],
      "metadata": {
        "colab": {
          "base_uri": "https://localhost:8080/",
          "height": 71
        },
        "id": "KMuvR7HeGcXS",
        "outputId": "e85c6f3a-f108-4800-fce7-d71560a3beaa"
      },
      "execution_count": 25,
      "outputs": [
        {
          "output_type": "execute_result",
          "data": {
            "text/plain": [
              "\"\\nprint('Saving files of Global correlations calculations')\\ncor_df_1, p_df_1 = correlation_dict_to_df_v2(cor_results, source_distance=80)\\nc = 1\\nfor x in tqdm(range(1,26)):\\n  distance = c*80\\n  cor_df_x, p_df_x = correlation_dict_to_df_v2(cor_results, source_distance=distance)\\n  cor_df_1 = pd.concat([cor_df_1,cor_df_x],join='inner')\\n\\n  p_df_1 = pd.concat([p_df_1,p_df_x],join='inner')\\n  c += 1\\n\\ncor_output_path = path + '/Spectrum/correlations/Global_Correlation_Pearson.csv'\\ncor_df_1.to_csv(cor_output_path, index=False)\\n\\np_output_path = path + '/Spectrum/correlations/Gloabl_Correlation_Pearson_P_Value.csv'\\np_df_1.to_csv(p_output_path, index=False)  \\n\""
            ],
            "application/vnd.google.colaboratory.intrinsic+json": {
              "type": "string"
            }
          },
          "metadata": {},
          "execution_count": 25
        }
      ]
    },
    {
      "cell_type": "markdown",
      "source": [
        "## Pickle out the dictionary of correlations"
      ],
      "metadata": {
        "id": "632qHWF-HiWR"
      }
    },
    {
      "cell_type": "code",
      "source": [
        "def pickle_out(dump_file, filename):\n",
        "  filepath = path+\"/pickle_folder/\"+str(filename)+\".pickle\"\n",
        "  pickleout = open(filepath, \"wb\")\n",
        "  pickle.dump(dump_file, pickleout)\n",
        "  pickleout.close()"
      ],
      "metadata": {
        "id": "Z2PR1keRldKo"
      },
      "execution_count": 26,
      "outputs": []
    },
    {
      "cell_type": "code",
      "source": [
        "#pickle_out(cor_results, 'correlation_spectrum')"
      ],
      "metadata": {
        "id": "6XGFwIwklhrf"
      },
      "execution_count": 27,
      "outputs": []
    },
    {
      "cell_type": "markdown",
      "source": [
        "## Test plots"
      ],
      "metadata": {
        "id": "w3sWNhssHoEU"
      }
    },
    {
      "cell_type": "code",
      "source": [
        "# Scatter plot with day against tip\n",
        "sample_id = 1 # Test sample 1\n",
        "\n",
        "sample_df = df_13_samples[df_13_samples['PBRS_id'] == sample_id]\n",
        "first_cols_df = sample_df.iloc[:, 0:6]\n",
        "working_df = sample_df.iloc[:, cut_point[sample_id][0]+6:cut_point[sample_id][1]+6]\n",
        "merge_df = pd.merge(first_cols_df, working_df, left_index=True, right_index=True)\n",
        "\n",
        "d1 = merge_df.loc[(merge_df['Distance_km'] == 80) & (merge_df['PBRS_id'] == sample_id)]\n",
        "d2 = merge_df.loc[(merge_df['Distance_km'] == 800) & (merge_df['PBRS_id'] == sample_id)]\n",
        "\n",
        "d1 = d1.iloc[:, 6:d1.shape[1]]\n",
        "d2 = d2.iloc[:, 6:d2.shape[1]]\n",
        "\n",
        "d1 = d1.iloc[0].to_numpy()\n",
        "d2 = d2.iloc[0].to_numpy()\n",
        "\n",
        "plt.plot(d1)\n",
        "plt.plot(d2)\n",
        "  \n",
        "# Adding Title to the Plot\n",
        "plt.title(\"Spectrum Comparision\")\n",
        "  \n",
        "# Setting the X and Y labels\n",
        "plt.xlabel('Feature')\n",
        "plt.ylabel('Frequency')\n",
        "\n",
        "plt.show()\n",
        "\n",
        "print('Blue is d1 and Orange is d2')"
      ],
      "metadata": {
        "colab": {
          "base_uri": "https://localhost:8080/",
          "height": 312
        },
        "id": "hHxPk6vdrUA0",
        "outputId": "33386b14-75db-4493-e41e-4b4d574259f0"
      },
      "execution_count": 28,
      "outputs": [
        {
          "output_type": "display_data",
          "data": {
            "text/plain": [
              "<Figure size 432x288 with 1 Axes>"
            ],
            "image/png": "[encoded data removed]"
          },
          "metadata": {
            "needs_background": "light"
          }
        },
        {
          "output_type": "stream",
          "name": "stdout",
          "text": [
            "Blue is d1 and Orange is d2\n"
          ]
        }
      ]
    }
  ]
}