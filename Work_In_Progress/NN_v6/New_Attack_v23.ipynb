{
  "nbformat": 4,
  "nbformat_minor": 0,
  "metadata": {
    "colab": {
      "name": "Untitled13.ipynb",
      "provenance": [],
      "authorship_tag": "ABX9TyPFqM4cxUlXaNRGJ/oGNgkG",
      "include_colab_link": true
    },
    "kernelspec": {
      "name": "python3",
      "display_name": "Python 3"
    },
    "language_info": {
      "name": "python"
    }
  },
  "cells": [
    {
      "cell_type": "markdown",
      "metadata": {
        "id": "view-in-github",
        "colab_type": "text"
      },
      "source": [
        "<a href=\"https://colab.research.google.com/github/R0N3ldrt/Thesis/blob/main/New_Attack_v23.ipynb\" target=\"_parent\"><img src=\"https://colab.research.google.com/assets/colab-badge.svg\" alt=\"Open In Colab\"/></a>"
      ]
    },
    {
      "cell_type": "markdown",
      "source": [
        "# Libraries"
      ],
      "metadata": {
        "id": "oedwwr_nXJs2"
      }
    },
    {
      "cell_type": "code",
      "execution_count": null,
      "metadata": {
        "id": "vP5hFWJrQ_xH"
      },
      "outputs": [],
      "source": [
        "# Importing necesary libraries\n",
        "# Libraries for correct code execution \n",
        "\n",
        "import os, time, math, csv, joblib\n",
        "import pandas as pd\n",
        "import numpy as np\n",
        "import matplotlib.pyplot as plt\n",
        "import math\n",
        "import pickle\n",
        "import random\n",
        "import csv\n",
        "import re\n",
        "import array\n",
        "import seaborn as sns\n",
        "import scipy.stats as st\n",
        "\n",
        "from tqdm import tqdm\n",
        "from functools import reduce\n",
        "from random import random, gauss\n",
        "from math import modf, pi, cos, sin, sqrt\n",
        "from sklearn.model_selection import train_test_split\n",
        "from sklearn.preprocessing import MinMaxScaler\n",
        "from sklearn.metrics import r2_score\n",
        "from plotly.subplots import make_subplots\n",
        "from scipy.signal import savgol_filter\n",
        "from scipy.stats.stats import pearsonr\n",
        "from scipy.stats import spearmanr\n",
        "\n",
        "import plotly.graph_objects as go\n",
        "import plotly.express as px\n",
        "from plotly.subplots import make_subplots\n",
        "\n",
        "import tensorflow as tf\n",
        "import matplotlib.pyplot as plt\n",
        "import matplotlib.pyplot as plt\n",
        "import seaborn as sns\n",
        "from sklearn.model_selection import train_test_split\n",
        "from sklearn.preprocessing import MinMaxScaler\n",
        "from sklearn.mixture import GaussianMixture\n",
        "\n",
        "import os, time, math, csv, joblib\n",
        "from sklearn.model_selection import train_test_split\n",
        "from sklearn.preprocessing import MinMaxScaler\n",
        "from sklearn.mixture import GaussianMixture\n",
        "\n",
        "import tensorflow\n",
        "import numpy\n",
        "import matplotlib.pyplot\n",
        "\n",
        "import warnings\n",
        "warnings.filterwarnings(\"ignore\")\n",
        "\n",
        "sns.set_theme()"
      ]
    },
    {
      "cell_type": "markdown",
      "source": [
        "# Load Enviroment"
      ],
      "metadata": {
        "id": "m50eRaG9XLVE"
      }
    },
    {
      "cell_type": "code",
      "source": [
        "# BLOQUE PARA USAR DESDE COLAB\n",
        "\n",
        "# Google drive loading as work station for local-usage of the files.\n",
        "from google.colab import drive\n",
        "drive.mount('/content/gdrive',force_remount= True)\n",
        "\n",
        "#-----------------------------------------------------------------------------"
      ],
      "metadata": {
        "colab": {
          "base_uri": "https://localhost:8080/"
        },
        "id": "MqKIbK7dXOab",
        "outputId": "fbeab93a-ceb8-4dc5-cffc-b111cddef8e0"
      },
      "execution_count": null,
      "outputs": [
        {
          "output_type": "stream",
          "name": "stdout",
          "text": [
            "Mounted at /content/gdrive\n"
          ]
        }
      ]
    },
    {
      "cell_type": "code",
      "source": [
        "# Lista para cambiar los paths rapido.\n",
        "workers = [\"Ronald\", \"Local\"]\n",
        "\n",
        "# Change the number to change the paths.\n",
        "worker = workers[0]\n",
        "\n",
        "if worker == \"Ronald\":\n",
        "  path = \"/content/gdrive/MyDrive/Thesis_Workstation/ANN_dataset\"\n",
        "else: path = os.getcwd()"
      ],
      "metadata": {
        "id": "9FQlwUh1XQgj"
      },
      "execution_count": null,
      "outputs": []
    },
    {
      "cell_type": "markdown",
      "source": [
        ""
      ],
      "metadata": {
        "id": "ZPlQ2PaYfxEZ"
      }
    },
    {
      "cell_type": "markdown",
      "source": [
        "# Pre-procesing"
      ],
      "metadata": {
        "id": "T6lkjt0IXSRq"
      }
    },
    {
      "cell_type": "markdown",
      "source": [
        "## Get working df"
      ],
      "metadata": {
        "id": "dUHKBq43fyxi"
      }
    },
    {
      "cell_type": "code",
      "source": [
        "def prime_number_finder(stop_gap, total_num_of_data):\n",
        "  prime_nums = []\n",
        "  i=2\n",
        "  while i <= stop_gap:\n",
        "    if (total_num_of_data % i==0):\n",
        "      prime_nums.append(i)\n",
        "      break\n",
        "    i+=1\n",
        "  return prime_nums\n",
        "\n",
        "def aggreagator_v2(df, stop_gap=50):\n",
        "  total_num_of_data = df.shape[1]\n",
        "  arr_prime = prime_number_finder(stop_gap, total_num_of_data)\n",
        "  #agg_num = np.max(arr_prime)\n",
        "  agg_num = arr_prime[0]\n",
        "\n",
        "  # Creating new df of aggregate values\n",
        "  agg_df = pd.DataFrame()\n",
        "\n",
        "  mid_point = df.shape[1]/2\n",
        "\n",
        "  agg=0\n",
        "  loop_cnt=0\n",
        "  init_column_cnt = 5\n",
        "  while agg<=total_num_of_data:\n",
        "    loop_cnt+=1\n",
        "    # Obtain current last columns stop\n",
        "    agg=agg_num+init_column_cnt\n",
        "    # Select working columns\n",
        "    new_df = df[df.columns[init_column_cnt:agg]]\n",
        "\n",
        "    init_column_cnt += (agg_num)\n",
        "\n",
        "    headers = list(new_df.columns.values) \n",
        "    if loop_cnt <= mid_point:\n",
        "      # Get average of freq values for new header\n",
        "      new_header_name  = headers[-1]\n",
        "    else:\n",
        "      new_header_name = headers[0]\n",
        "    \n",
        "    # Add aggragated values to new df\n",
        "    agg_df[new_header_name] = new_df.mean(axis = 1)\n",
        "  return agg_df\n",
        "\n",
        "def remove_tail(df, cut_val, sample_id):\n",
        "  columns_selected = []\n",
        "  old_val = 0\n",
        "  delta = 0\n",
        "  mid_point = int(df.shape[1]/2)\n",
        "  cols_headers  = list(df.columns.values)\n",
        "\n",
        "  for i in range(0, df.shape[1]):\n",
        "    if i == 0:\n",
        "      cell_val = df.iloc[[0], i]\n",
        "      old_val = cell_val[sample_id]\n",
        "    else:\n",
        "      cell_val = df.iloc[[0], i]\n",
        "      val = cell_val[sample_id]\n",
        "      delta = abs(old_val-val)\n",
        "      old_val = val\n",
        "      if delta > cut_val:\n",
        "        if i <= mid_point:\n",
        "          col_name_selected = cols_headers[i+2]\n",
        "        else:\n",
        "          col_name_selected = cols_headers[i-2]\n",
        "          col_name_selected = round(float(col_name_selected), 5)\n",
        "        columns_selected.append(col_name_selected)\n",
        "\n",
        "  return columns_selected\n",
        "\n",
        "# Removing tails conducting multiples loops with variable cutoff value until we get only two columns\n",
        "def remove_tail_main(df, cut_val, sample_id):\n",
        "  old_drop_cols = []\n",
        "  drop_cols = remove_tail(df, cut_val, sample_id)\n",
        "  while len(drop_cols) != 2:  \n",
        "    # If len of columns to be dropped are 0 the select the 2 values smaller and bigger of the previous iteration\n",
        "    if len(drop_cols) == 0 or len(drop_cols) == 1:\n",
        "      drop_cols = [np.min(old_drop_cols), np.max(old_drop_cols)]\n",
        "      break\n",
        "    else:\n",
        "      old_drop_cols = drop_cols\n",
        "      drop_cols = remove_tail(df, cut_val, sample_id)\n",
        "      cut_val += 2\n",
        "  return drop_cols\n",
        "\n",
        "def get_working_data_idx_v2(df_mean_sample, sample_id, cut_val = 0):\n",
        "\n",
        "  df = df_mean_sample.iloc[[sample_id - 1]]\n",
        "\n",
        "  agg_df = aggreagator_v2(df)\n",
        "  \n",
        "  col_vals = remove_tail_main(df, cut_val=cut_val, sample_id=sample_id)\n",
        "\n",
        "  left_index_no = df.columns.get_loc(col_vals[0])\n",
        "  rigth_index_no = df.columns.get_loc(col_vals[1])\n",
        "\n",
        "  return left_index_no, rigth_index_no\n",
        "\n",
        "def cut_off_idx(df): # return tuple with cut-off values (index_left_side, index_rigth_side)\n",
        "  df_mean_sample = df.groupby(['PBRS_id']).mean()\n",
        "  df_mean_sample = df_mean_sample.drop(['row', 'Channels', 'Distance_km', 'power_dBm'], axis = 1)\n",
        "\n",
        "  cut_points = {}\n",
        "  print('Calculating the cutoff values:')\n",
        "  for sample in tqdm(df_mean_sample.index):\n",
        "    left_index_no, rigth_index_no = get_working_data_idx_v2(df_mean_sample, sample_id = sample)\n",
        "    cut_points[sample] = (left_index_no, rigth_index_no)\n",
        "\n",
        "  left_cut_off = np.min([v[0] for k, v in cut_points.items()])\n",
        "  rigth_cut_off = np.max([v[1] for k, v in cut_points.items()])\n",
        "\n",
        "  cut_point = (left_cut_off, rigth_cut_off)\n",
        "  return cut_point"
      ],
      "metadata": {
        "id": "Sfd3ijQUf0kY"
      },
      "execution_count": null,
      "outputs": []
    },
    {
      "cell_type": "markdown",
      "source": [
        "### Cutoff main"
      ],
      "metadata": {
        "id": "6JyU7veggPqn"
      }
    },
    {
      "cell_type": "code",
      "source": [
        "def select_working_data(df, cut_point): # implement cut_off values and Smoothing original df after cutt-of\n",
        "  extra_info_df = df.iloc[:, 0:6]\n",
        "  data_df = df.iloc[:, cut_point[0]+6:cut_point[1]+6]\n",
        "  smoothed_data_frame = pd.DataFrame(savgol_filter(data_df, window_length = 5, polyorder = 2))\n",
        "  \n",
        "  # Adding back headers to the smoothed data\n",
        "  rename_col = {}\n",
        "  cnt = 0\n",
        "  for col in data_df.columns:\n",
        "    h_col = round(float(col), 5)\n",
        "    rename_col[cnt] = h_col\n",
        "    cnt += 1\n",
        "  smoothed_data_frame.rename(columns=rename_col, inplace=True)\n",
        "\n",
        "  working_df = pd.merge(extra_info_df, smoothed_data_frame, left_index=True, right_index=True)\n",
        "  return working_df\n",
        "  \n",
        "def main_cutoff(input_path):\n",
        "  print('Reading data from file.')\n",
        "  df = pd.read_excel(input_path, sheet_name = \"Sheet1\", skiprows=1)\n",
        "  df.iloc[0].fillna(method='bfill', inplace=True)\n",
        "  df.iloc[1:df.shape[0]].fillna(method='pad', inplace=True)\n",
        "  # Adding missing PBRS_id\n",
        "  snippet = []\n",
        "  val_cnt = 1\n",
        "  idx = 0\n",
        "  for sample in range(1, 101):\n",
        "    for sample_id in range(0, 25):\n",
        "      df.at[idx, 'PBRS_id'] = val_cnt\n",
        "      idx +=1\n",
        "      snippet.append(val_cnt)\n",
        "    val_cnt += 1\n",
        "  df['PBRS_id'] = df['PBRS_id'].astype(int)\n",
        "\n",
        "  cut_point = cut_off_idx(df)\n",
        "  working_df = select_working_data(df, cut_point)\n",
        "\n",
        "  return working_df"
      ],
      "metadata": {
        "id": "tOM9kIysgclQ"
      },
      "execution_count": null,
      "outputs": []
    },
    {
      "cell_type": "code",
      "source": [
        "#input_path = path + \"/Spectrum/16QAM_v2/Copy of dataSet_gamma0_Spectrum31MHz_Samples_16QAM_75GHz_LongHaul_input_25x81km_primeStep.xlsx\"\n",
        "#orking_df = main_cutoff(input_path)\n",
        "#display(working_df)\n",
        "\n",
        "#working_df.to_csv(path+\"/Spectrum/NN/new_data_working_df.csv\", index=False)"
      ],
      "metadata": {
        "id": "tOZU5DcTglFg"
      },
      "execution_count": null,
      "outputs": []
    },
    {
      "cell_type": "markdown",
      "source": [
        "## Get data"
      ],
      "metadata": {
        "id": "hfqT1A_mf0t1"
      }
    },
    {
      "cell_type": "code",
      "source": [
        "input_path = path + \"/Spectrum/NN/new_data_working_df.csv\"\n",
        "\n",
        "working_df = pd.read_csv(input_path)\n",
        "working_df['Distance_km'] = working_df['Distance_km'].astype(int)"
      ],
      "metadata": {
        "id": "6oL6LiSgXU54"
      },
      "execution_count": null,
      "outputs": []
    },
    {
      "cell_type": "code",
      "source": [
        "def frequencies_filter(df, num_selected_freq=20):\n",
        "  info_df = df.iloc[:, [0]]\n",
        "  data_df = df.iloc[:, 1:df.shape[1]]\n",
        "  span_val = int(data_df.shape[1]/num_selected_freq)\n",
        "  for i in range(num_selected_freq):\n",
        "    df2 = data_df.iloc[:, (i+1)*span_val].to_frame()\n",
        "    if i+1 == 1:\n",
        "      new_df = df2\n",
        "    else:\n",
        "      new_df = pd.merge(new_df, df2, left_index=True, right_index=True)\n",
        "  new_df = info_df.join(new_df)\n",
        "  \n",
        "  return new_df"
      ],
      "metadata": {
        "id": "z9gLmIPMgK7Q"
      },
      "execution_count": null,
      "outputs": []
    },
    {
      "cell_type": "code",
      "source": [
        "def get_data(working_df, distances, num_features = 20, span_length=80, min_dist = 0, max_dist = 3000):\n",
        "  X=None\n",
        "  Y=np.array([])\n",
        "  dist_df = working_df.iloc[:, 3]\n",
        "  freq_df = working_df.iloc[:, 6:working_df.shape[1]]\n",
        "  samples_df = pd.merge(dist_df, freq_df, left_index=True, right_index=True)\n",
        "  samples_df = samples_df.sort_values(by='Distance_km')\n",
        "  if num_features != 'all':\n",
        "    samples_df = frequencies_filter(samples_df, num_selected_freq = num_features)\n",
        "  Y = samples_df.iloc[:, 0].to_numpy().astype('int').tolist()\n",
        "  X = samples_df.iloc[:, 1:samples_df.shape[1]]\n",
        "  \n",
        "  return X, Y, samples_df"
      ],
      "metadata": {
        "id": "AvBhc_XoXXKQ"
      },
      "execution_count": null,
      "outputs": []
    },
    {
      "cell_type": "code",
      "source": [
        "#input_data_path=path+\"/rawData\"\n",
        "#distances=[i for i in range(1,26)]\n",
        "distances = [x*80 for x in range(1, 26)]\n",
        "X, Y, samples_filtered_df = get_data(working_df, distances, num_features = 'all', span_length=80,  min_dist = 0, max_dist = 3000)"
      ],
      "metadata": {
        "id": "RfkozzHnXj6u"
      },
      "execution_count": null,
      "outputs": []
    },
    {
      "cell_type": "code",
      "source": [
        "samples_filtered_df"
      ],
      "metadata": {
        "colab": {
          "base_uri": "https://localhost:8080/"
        },
        "id": "OSC06AG6epaG",
        "outputId": "7dd69bdf-5121-4f6e-c18a-882675294067"
      },
      "execution_count": null,
      "outputs": [
        {
          "output_type": "execute_result",
          "data": {
            "text/plain": [
              "      Distance_km  -39.90625    -39.875  -39.84375   -39.8125  -39.78125  \\\n",
              "0              80 -65.158556 -66.359675 -66.708836 -71.777931 -66.092081   \n",
              "125            80 -54.902319 -57.469566 -58.650167 -58.256577 -57.120871   \n",
              "975            80 -55.246289 -58.903165 -59.936123 -58.754704 -53.084186   \n",
              "1000           80 -58.769150 -60.644357 -61.903338 -66.371732 -60.697843   \n",
              "1025           80 -62.672232 -63.551920 -63.130158 -61.900052 -61.208010   \n",
              "...           ...        ...        ...        ...        ...        ...   \n",
              "1699         2000 -39.060418 -40.089715 -39.184312 -33.321699 -32.394581   \n",
              "1724         2000 -45.777276 -39.520381 -35.212366 -31.215854 -31.976366   \n",
              "1749         2000 -33.005394 -37.672756 -39.242985 -37.025965 -37.250896   \n",
              "2399         2000 -36.358480 -32.709908 -31.364002 -33.805751 -35.584646   \n",
              "2499         2000 -36.594143 -34.475890 -33.258314 -32.997151 -34.153190   \n",
              "\n",
              "         -39.75  -39.71875   -39.6875  -39.65625  ...    34.6875   34.71875  \\\n",
              "0    -53.716181 -56.447556 -55.216247 -54.921922  ... -59.107222 -62.993632   \n",
              "125  -54.832446 -56.585764 -58.167556 -57.408129  ... -57.627135 -64.548644   \n",
              "975  -50.990158 -51.881985 -58.366417 -61.236644  ... -58.538788 -60.779631   \n",
              "1000 -58.893096 -60.500364 -63.977091 -61.713541  ... -61.793840 -58.908770   \n",
              "1025 -62.534571 -63.881451 -61.861091 -67.207673  ... -59.124382 -59.038588   \n",
              "...         ...        ...        ...        ...  ...        ...        ...   \n",
              "1699 -30.766774 -35.433400 -39.636295 -39.572805  ... -36.158246 -34.974566   \n",
              "1724 -33.063281 -32.262853 -35.781499 -35.580851  ... -32.811077 -33.647974   \n",
              "1749 -32.485086 -34.725450 -31.833082 -35.461288  ... -39.867905 -42.487405   \n",
              "2399 -32.223232 -30.862095 -28.720843 -31.102346  ... -34.051539 -35.013313   \n",
              "2499 -33.800276 -39.023602 -39.579739 -37.540062  ... -36.764209 -32.024320   \n",
              "\n",
              "          34.75   34.78125    34.8125   34.84375     34.875   34.90625  \\\n",
              "0    -54.834111 -54.361885 -64.653201 -69.901475 -61.469377 -54.784317   \n",
              "125  -65.637002 -63.156643 -58.177577 -59.985663 -58.031358 -60.922607   \n",
              "975  -60.445396 -60.851264 -59.971745 -59.222002 -61.642559 -61.885148   \n",
              "1000 -60.404921 -60.130890 -61.535060 -55.319260 -59.725285 -63.973778   \n",
              "1025 -59.114337 -57.422896 -57.627687 -57.376619 -56.733160 -58.539036   \n",
              "...         ...        ...        ...        ...        ...        ...   \n",
              "1699 -33.677152 -32.461789 -31.697031 -30.033924 -33.492361 -34.387412   \n",
              "1724 -34.523244 -34.873656 -38.167460 -35.568105 -38.499464 -41.863667   \n",
              "1749 -36.881447 -32.796440 -31.492113 -36.181981 -36.404388 -32.599868   \n",
              "2399 -33.634516 -34.267799 -36.189625 -35.279263 -33.557900 -30.107759   \n",
              "2499 -34.295020 -33.652013 -33.606912 -39.131861 -38.559208 -37.035780   \n",
              "\n",
              "        34.9375   34.96875  \n",
              "0    -55.229285 -61.405108  \n",
              "125  -59.679082 -56.034034  \n",
              "975  -61.544703 -59.897084  \n",
              "1000 -61.619858 -53.937357  \n",
              "1025 -58.086162 -56.690199  \n",
              "...         ...        ...  \n",
              "1699 -33.308819 -30.242322  \n",
              "1724 -44.503764 -46.884585  \n",
              "1749 -32.605291 -35.086710  \n",
              "2399 -31.016528 -34.939487  \n",
              "2499 -35.035530 -31.978698  \n",
              "\n",
              "[2500 rows x 2398 columns]"
            ],
            "text/html": [
              "\n",
              "  <div id=\"df-e757f14f-48d3-462a-93fc-a555b680b232\">\n",
              "    <div class=\"colab-df-container\">\n",
              "      <div>\n",
              "<style scoped>\n",
              "    .dataframe tbody tr th:only-of-type {\n",
              "        vertical-align: middle;\n",
              "    }\n",
              "\n",
              "    .dataframe tbody tr th {\n",
              "        vertical-align: top;\n",
              "    }\n",
              "\n",
              "    .dataframe thead th {\n",
              "        text-align: right;\n",
              "    }\n",
              "</style>\n",
              "<table border=\"1\" class=\"dataframe\">\n",
              "  <thead>\n",
              "    <tr style=\"text-align: right;\">\n",
              "      <th></th>\n",
              "      <th>Distance_km</th>\n",
              "      <th>-39.90625</th>\n",
              "      <th>-39.875</th>\n",
              "      <th>-39.84375</th>\n",
              "      <th>-39.8125</th>\n",
              "      <th>-39.78125</th>\n",
              "      <th>-39.75</th>\n",
              "      <th>-39.71875</th>\n",
              "      <th>-39.6875</th>\n",
              "      <th>-39.65625</th>\n",
              "      <th>...</th>\n",
              "      <th>34.6875</th>\n",
              "      <th>34.71875</th>\n",
              "      <th>34.75</th>\n",
              "      <th>34.78125</th>\n",
              "      <th>34.8125</th>\n",
              "      <th>34.84375</th>\n",
              "      <th>34.875</th>\n",
              "      <th>34.90625</th>\n",
              "      <th>34.9375</th>\n",
              "      <th>34.96875</th>\n",
              "    </tr>\n",
              "  </thead>\n",
              "  <tbody>\n",
              "    <tr>\n",
              "      <th>0</th>\n",
              "      <td>80</td>\n",
              "      <td>-65.158556</td>\n",
              "      <td>-66.359675</td>\n",
              "      <td>-66.708836</td>\n",
              "      <td>-71.777931</td>\n",
              "      <td>-66.092081</td>\n",
              "      <td>-53.716181</td>\n",
              "      <td>-56.447556</td>\n",
              "      <td>-55.216247</td>\n",
              "      <td>-54.921922</td>\n",
              "      <td>...</td>\n",
              "      <td>-59.107222</td>\n",
              "      <td>-62.993632</td>\n",
              "      <td>-54.834111</td>\n",
              "      <td>-54.361885</td>\n",
              "      <td>-64.653201</td>\n",
              "      <td>-69.901475</td>\n",
              "      <td>-61.469377</td>\n",
              "      <td>-54.784317</td>\n",
              "      <td>-55.229285</td>\n",
              "      <td>-61.405108</td>\n",
              "    </tr>\n",
              "    <tr>\n",
              "      <th>125</th>\n",
              "      <td>80</td>\n",
              "      <td>-54.902319</td>\n",
              "      <td>-57.469566</td>\n",
              "      <td>-58.650167</td>\n",
              "      <td>-58.256577</td>\n",
              "      <td>-57.120871</td>\n",
              "      <td>-54.832446</td>\n",
              "      <td>-56.585764</td>\n",
              "      <td>-58.167556</td>\n",
              "      <td>-57.408129</td>\n",
              "      <td>...</td>\n",
              "      <td>-57.627135</td>\n",
              "      <td>-64.548644</td>\n",
              "      <td>-65.637002</td>\n",
              "      <td>-63.156643</td>\n",
              "      <td>-58.177577</td>\n",
              "      <td>-59.985663</td>\n",
              "      <td>-58.031358</td>\n",
              "      <td>-60.922607</td>\n",
              "      <td>-59.679082</td>\n",
              "      <td>-56.034034</td>\n",
              "    </tr>\n",
              "    <tr>\n",
              "      <th>975</th>\n",
              "      <td>80</td>\n",
              "      <td>-55.246289</td>\n",
              "      <td>-58.903165</td>\n",
              "      <td>-59.936123</td>\n",
              "      <td>-58.754704</td>\n",
              "      <td>-53.084186</td>\n",
              "      <td>-50.990158</td>\n",
              "      <td>-51.881985</td>\n",
              "      <td>-58.366417</td>\n",
              "      <td>-61.236644</td>\n",
              "      <td>...</td>\n",
              "      <td>-58.538788</td>\n",
              "      <td>-60.779631</td>\n",
              "      <td>-60.445396</td>\n",
              "      <td>-60.851264</td>\n",
              "      <td>-59.971745</td>\n",
              "      <td>-59.222002</td>\n",
              "      <td>-61.642559</td>\n",
              "      <td>-61.885148</td>\n",
              "      <td>-61.544703</td>\n",
              "      <td>-59.897084</td>\n",
              "    </tr>\n",
              "    <tr>\n",
              "      <th>1000</th>\n",
              "      <td>80</td>\n",
              "      <td>-58.769150</td>\n",
              "      <td>-60.644357</td>\n",
              "      <td>-61.903338</td>\n",
              "      <td>-66.371732</td>\n",
              "      <td>-60.697843</td>\n",
              "      <td>-58.893096</td>\n",
              "      <td>-60.500364</td>\n",
              "      <td>-63.977091</td>\n",
              "      <td>-61.713541</td>\n",
              "      <td>...</td>\n",
              "      <td>-61.793840</td>\n",
              "      <td>-58.908770</td>\n",
              "      <td>-60.404921</td>\n",
              "      <td>-60.130890</td>\n",
              "      <td>-61.535060</td>\n",
              "      <td>-55.319260</td>\n",
              "      <td>-59.725285</td>\n",
              "      <td>-63.973778</td>\n",
              "      <td>-61.619858</td>\n",
              "      <td>-53.937357</td>\n",
              "    </tr>\n",
              "    <tr>\n",
              "      <th>1025</th>\n",
              "      <td>80</td>\n",
              "      <td>-62.672232</td>\n",
              "      <td>-63.551920</td>\n",
              "      <td>-63.130158</td>\n",
              "      <td>-61.900052</td>\n",
              "      <td>-61.208010</td>\n",
              "      <td>-62.534571</td>\n",
              "      <td>-63.881451</td>\n",
              "      <td>-61.861091</td>\n",
              "      <td>-67.207673</td>\n",
              "      <td>...</td>\n",
              "      <td>-59.124382</td>\n",
              "      <td>-59.038588</td>\n",
              "      <td>-59.114337</td>\n",
              "      <td>-57.422896</td>\n",
              "      <td>-57.627687</td>\n",
              "      <td>-57.376619</td>\n",
              "      <td>-56.733160</td>\n",
              "      <td>-58.539036</td>\n",
              "      <td>-58.086162</td>\n",
              "      <td>-56.690199</td>\n",
              "    </tr>\n",
              "    <tr>\n",
              "      <th>...</th>\n",
              "      <td>...</td>\n",
              "      <td>...</td>\n",
              "      <td>...</td>\n",
              "      <td>...</td>\n",
              "      <td>...</td>\n",
              "      <td>...</td>\n",
              "      <td>...</td>\n",
              "      <td>...</td>\n",
              "      <td>...</td>\n",
              "      <td>...</td>\n",
              "      <td>...</td>\n",
              "      <td>...</td>\n",
              "      <td>...</td>\n",
              "      <td>...</td>\n",
              "      <td>...</td>\n",
              "      <td>...</td>\n",
              "      <td>...</td>\n",
              "      <td>...</td>\n",
              "      <td>...</td>\n",
              "      <td>...</td>\n",
              "      <td>...</td>\n",
              "    </tr>\n",
              "    <tr>\n",
              "      <th>1699</th>\n",
              "      <td>2000</td>\n",
              "      <td>-39.060418</td>\n",
              "      <td>-40.089715</td>\n",
              "      <td>-39.184312</td>\n",
              "      <td>-33.321699</td>\n",
              "      <td>-32.394581</td>\n",
              "      <td>-30.766774</td>\n",
              "      <td>-35.433400</td>\n",
              "      <td>-39.636295</td>\n",
              "      <td>-39.572805</td>\n",
              "      <td>...</td>\n",
              "      <td>-36.158246</td>\n",
              "      <td>-34.974566</td>\n",
              "      <td>-33.677152</td>\n",
              "      <td>-32.461789</td>\n",
              "      <td>-31.697031</td>\n",
              "      <td>-30.033924</td>\n",
              "      <td>-33.492361</td>\n",
              "      <td>-34.387412</td>\n",
              "      <td>-33.308819</td>\n",
              "      <td>-30.242322</td>\n",
              "    </tr>\n",
              "    <tr>\n",
              "      <th>1724</th>\n",
              "      <td>2000</td>\n",
              "      <td>-45.777276</td>\n",
              "      <td>-39.520381</td>\n",
              "      <td>-35.212366</td>\n",
              "      <td>-31.215854</td>\n",
              "      <td>-31.976366</td>\n",
              "      <td>-33.063281</td>\n",
              "      <td>-32.262853</td>\n",
              "      <td>-35.781499</td>\n",
              "      <td>-35.580851</td>\n",
              "      <td>...</td>\n",
              "      <td>-32.811077</td>\n",
              "      <td>-33.647974</td>\n",
              "      <td>-34.523244</td>\n",
              "      <td>-34.873656</td>\n",
              "      <td>-38.167460</td>\n",
              "      <td>-35.568105</td>\n",
              "      <td>-38.499464</td>\n",
              "      <td>-41.863667</td>\n",
              "      <td>-44.503764</td>\n",
              "      <td>-46.884585</td>\n",
              "    </tr>\n",
              "    <tr>\n",
              "      <th>1749</th>\n",
              "      <td>2000</td>\n",
              "      <td>-33.005394</td>\n",
              "      <td>-37.672756</td>\n",
              "      <td>-39.242985</td>\n",
              "      <td>-37.025965</td>\n",
              "      <td>-37.250896</td>\n",
              "      <td>-32.485086</td>\n",
              "      <td>-34.725450</td>\n",
              "      <td>-31.833082</td>\n",
              "      <td>-35.461288</td>\n",
              "      <td>...</td>\n",
              "      <td>-39.867905</td>\n",
              "      <td>-42.487405</td>\n",
              "      <td>-36.881447</td>\n",
              "      <td>-32.796440</td>\n",
              "      <td>-31.492113</td>\n",
              "      <td>-36.181981</td>\n",
              "      <td>-36.404388</td>\n",
              "      <td>-32.599868</td>\n",
              "      <td>-32.605291</td>\n",
              "      <td>-35.086710</td>\n",
              "    </tr>\n",
              "    <tr>\n",
              "      <th>2399</th>\n",
              "      <td>2000</td>\n",
              "      <td>-36.358480</td>\n",
              "      <td>-32.709908</td>\n",
              "      <td>-31.364002</td>\n",
              "      <td>-33.805751</td>\n",
              "      <td>-35.584646</td>\n",
              "      <td>-32.223232</td>\n",
              "      <td>-30.862095</td>\n",
              "      <td>-28.720843</td>\n",
              "      <td>-31.102346</td>\n",
              "      <td>...</td>\n",
              "      <td>-34.051539</td>\n",
              "      <td>-35.013313</td>\n",
              "      <td>-33.634516</td>\n",
              "      <td>-34.267799</td>\n",
              "      <td>-36.189625</td>\n",
              "      <td>-35.279263</td>\n",
              "      <td>-33.557900</td>\n",
              "      <td>-30.107759</td>\n",
              "      <td>-31.016528</td>\n",
              "      <td>-34.939487</td>\n",
              "    </tr>\n",
              "    <tr>\n",
              "      <th>2499</th>\n",
              "      <td>2000</td>\n",
              "      <td>-36.594143</td>\n",
              "      <td>-34.475890</td>\n",
              "      <td>-33.258314</td>\n",
              "      <td>-32.997151</td>\n",
              "      <td>-34.153190</td>\n",
              "      <td>-33.800276</td>\n",
              "      <td>-39.023602</td>\n",
              "      <td>-39.579739</td>\n",
              "      <td>-37.540062</td>\n",
              "      <td>...</td>\n",
              "      <td>-36.764209</td>\n",
              "      <td>-32.024320</td>\n",
              "      <td>-34.295020</td>\n",
              "      <td>-33.652013</td>\n",
              "      <td>-33.606912</td>\n",
              "      <td>-39.131861</td>\n",
              "      <td>-38.559208</td>\n",
              "      <td>-37.035780</td>\n",
              "      <td>-35.035530</td>\n",
              "      <td>-31.978698</td>\n",
              "    </tr>\n",
              "  </tbody>\n",
              "</table>\n",
              "<p>2500 rows × 2398 columns</p>\n",
              "</div>\n",
              "      <button class=\"colab-df-convert\" onclick=\"convertToInteractive('df-e757f14f-48d3-462a-93fc-a555b680b232')\"\n",
              "              title=\"Convert this dataframe to an interactive table.\"\n",
              "              style=\"display:none;\">\n",
              "        \n",
              "  <svg xmlns=\"http://www.w3.org/2000/svg\" height=\"24px\"viewBox=\"0 0 24 24\"\n",
              "       width=\"24px\">\n",
              "    <path d=\"M0 0h24v24H0V0z\" fill=\"none\"/>\n",
              "    <path d=\"M18.56 5.44l.94 2.06.94-2.06 2.06-.94-2.06-.94-.94-2.06-.94 2.06-2.06.94zm-11 1L8.5 8.5l.94-2.06 2.06-.94-2.06-.94L8.5 2.5l-.94 2.06-2.06.94zm10 10l.94 2.06.94-2.06 2.06-.94-2.06-.94-.94-2.06-.94 2.06-2.06.94z\"/><path d=\"M17.41 7.96l-1.37-1.37c-.4-.4-.92-.59-1.43-.59-.52 0-1.04.2-1.43.59L10.3 9.45l-7.72 7.72c-.78.78-.78 2.05 0 2.83L4 21.41c.39.39.9.59 1.41.59.51 0 1.02-.2 1.41-.59l7.78-7.78 2.81-2.81c.8-.78.8-2.07 0-2.86zM5.41 20L4 18.59l7.72-7.72 1.47 1.35L5.41 20z\"/>\n",
              "  </svg>\n",
              "      </button>\n",
              "      \n",
              "  <style>\n",
              "    .colab-df-container {\n",
              "      display:flex;\n",
              "      flex-wrap:wrap;\n",
              "      gap: 12px;\n",
              "    }\n",
              "\n",
              "    .colab-df-convert {\n",
              "      background-color: #E8F0FE;\n",
              "      border: none;\n",
              "      border-radius: 50%;\n",
              "      cursor: pointer;\n",
              "      display: none;\n",
              "      fill: #1967D2;\n",
              "      height: 32px;\n",
              "      padding: 0 0 0 0;\n",
              "      width: 32px;\n",
              "    }\n",
              "\n",
              "    .colab-df-convert:hover {\n",
              "      background-color: #E2EBFA;\n",
              "      box-shadow: 0px 1px 2px rgba(60, 64, 67, 0.3), 0px 1px 3px 1px rgba(60, 64, 67, 0.15);\n",
              "      fill: #174EA6;\n",
              "    }\n",
              "\n",
              "    [theme=dark] .colab-df-convert {\n",
              "      background-color: #3B4455;\n",
              "      fill: #D2E3FC;\n",
              "    }\n",
              "\n",
              "    [theme=dark] .colab-df-convert:hover {\n",
              "      background-color: #434B5C;\n",
              "      box-shadow: 0px 1px 3px 1px rgba(0, 0, 0, 0.15);\n",
              "      filter: drop-shadow(0px 1px 2px rgba(0, 0, 0, 0.3));\n",
              "      fill: #FFFFFF;\n",
              "    }\n",
              "  </style>\n",
              "\n",
              "      <script>\n",
              "        const buttonEl =\n",
              "          document.querySelector('#df-e757f14f-48d3-462a-93fc-a555b680b232 button.colab-df-convert');\n",
              "        buttonEl.style.display =\n",
              "          google.colab.kernel.accessAllowed ? 'block' : 'none';\n",
              "\n",
              "        async function convertToInteractive(key) {\n",
              "          const element = document.querySelector('#df-e757f14f-48d3-462a-93fc-a555b680b232');\n",
              "          const dataTable =\n",
              "            await google.colab.kernel.invokeFunction('convertToInteractive',\n",
              "                                                     [key], {});\n",
              "          if (!dataTable) return;\n",
              "\n",
              "          const docLinkHtml = 'Like what you see? Visit the ' +\n",
              "            '<a target=\"_blank\" href=https://colab.research.google.com/notebooks/data_table.ipynb>data table notebook</a>'\n",
              "            + ' to learn more about interactive tables.';\n",
              "          element.innerHTML = '';\n",
              "          dataTable['output_type'] = 'display_data';\n",
              "          await google.colab.output.renderOutput(dataTable, element);\n",
              "          const docLink = document.createElement('div');\n",
              "          docLink.innerHTML = docLinkHtml;\n",
              "          element.appendChild(docLink);\n",
              "        }\n",
              "      </script>\n",
              "    </div>\n",
              "  </div>\n",
              "  "
            ]
          },
          "metadata": {},
          "execution_count": 11
        }
      ]
    },
    {
      "cell_type": "markdown",
      "source": [
        "# Vanila Attack"
      ],
      "metadata": {
        "id": "QU_SPRfwgvAI"
      }
    },
    {
      "cell_type": "code",
      "source": [
        "def get_eval_data(source_df, target_df, num_eval_samples = 10):\n",
        "  import random\n",
        "  source_val_list = [i for i in range(1, len(source_df))]\n",
        "  source_random_list = random.choices(source_val_list, k = num_eval_samples)\n",
        "\n",
        "  target_val_list = [i for i in range(1, len(target_df))]\n",
        "  target_random_list = random.choices(target_val_list, k = num_eval_samples)\n",
        "\n",
        "  eval_source_df = source_df.iloc[source_random_list]\n",
        "  eval_target_df = target_df.iloc[target_random_list]\n",
        "\n",
        "  return eval_source_df, eval_target_df"
      ],
      "metadata": {
        "id": "8Jgx2IuHjDSw"
      },
      "execution_count": null,
      "outputs": []
    },
    {
      "cell_type": "code",
      "source": [
        "def get_filtered_data(df, alpha = 0.90):\n",
        "  data_df = df.iloc[:, 1:df.shape[1]]\n",
        "  ci_arr = []\n",
        "  filtered_data = []\n",
        "  mean_data = []\n",
        "  for i in range(0, data_df.shape[1]):\n",
        "    eval_col = data_df.iloc[:,i].to_numpy()\n",
        "    ci = st.t.interval(alpha=alpha, df=len(eval_col)-1, loc=np.mean(eval_col), scale=st.sem(eval_col))\n",
        "    ci = (round(ci[0], 5), round(ci[1], 5))\n",
        "    ci_arr.append(ci)\n",
        "    filter_data = eval_col[(eval_col > ci[0]) & (eval_col < ci[1])]\n",
        "    filter_data = np.round_(filter_data, decimals = 5)\n",
        "    filtered_data.append(filter_data)\n",
        "    mean_data.append(round(np.mean(filter_data), 5))\n",
        "  return ci_arr, filtered_data, mean_data"
      ],
      "metadata": {
        "id": "Xy_sX84eTnsX"
      },
      "execution_count": null,
      "outputs": []
    },
    {
      "cell_type": "code",
      "source": [
        "def get_delta(source_mean_data, target_mean_data):\n",
        "  deltas = []\n",
        "  for i in range(len(source_mean_data)):\n",
        "    delta = round(source_mean_data[i]-target_mean_data[i], 5)\n",
        "    deltas.append(delta)\n",
        "    \n",
        "  return deltas"
      ],
      "metadata": {
        "id": "JvN3ggzZjjwS"
      },
      "execution_count": null,
      "outputs": []
    },
    {
      "cell_type": "code",
      "source": [
        "def mod_target(source_filtered_data, deltas_calc, delta_allowance= 0.05):\n",
        "  import random\n",
        "  cnt = 0\n",
        "  mod_target_samples = []\n",
        "  for col in source_filtered_data:\n",
        "    mod_target_col = []\n",
        "    for val in col:\n",
        "      if deltas_calc[cnt]<(-delta_allowance):\n",
        "        new_val = val + (deltas_calc[cnt]+random.uniform(-2, 2))\n",
        "      elif deltas_calc[cnt]>(delta_allowance):\n",
        "        new_val = val - (deltas_calc[cnt]+random.uniform(-2, 2))\n",
        "      else:\n",
        "        new_val = val+(deltas_calc[cnt]+random.uniform(-2, 2))\n",
        "      new_val = round(new_val, 5)\n",
        "      mod_target_col.append(new_val)\n",
        "    cnt += 1\n",
        "    mod_target_samples.append(mod_target_col)\n",
        "  return mod_target_samples"
      ],
      "metadata": {
        "id": "bNaqtxyCm10H"
      },
      "execution_count": null,
      "outputs": []
    },
    {
      "cell_type": "code",
      "source": [
        "def get_mod_target_sample(mod_source_samples):\n",
        "  from scipy.signal import savgol_filter\n",
        "\n",
        "  mod_result = []\n",
        "  for col in mod_source_samples:\n",
        "    mod_result.append(round(np.mean(col), 5))\n",
        "\n",
        "  mod_result_smoothed = savgol_filter(mod_result, 7, 4)\n",
        "  return mod_result_smoothed"
      ],
      "metadata": {
        "id": "kfcy_NHqo1BS"
      },
      "execution_count": null,
      "outputs": []
    },
    {
      "cell_type": "code",
      "source": [
        "def main_mod_data(source_df, target_df, num_eval_samples = 30, alpha=0.95, delta_allowance=0.005):\n",
        "  eval_source_df, eval_target_df = get_eval_data(source_df, target_df, num_eval_samples = num_eval_samples)\n",
        "  source_ci_arr, source_filtered_data, source_mean_data = get_filtered_data(eval_source_df, alpha = 0.99)\n",
        "  target_ci_arr, target_filtered_data, target_mean_data = get_filtered_data(eval_target_df, alpha = alpha)\n",
        "  deltas_calc = get_delta(source_mean_data, target_mean_data)\n",
        "  mod_source_samples = mod_target(source_filtered_data, deltas_calc, delta_allowance = delta_allowance)\n",
        "  mod_result_smoothed = get_mod_target_sample(mod_source_samples)\n",
        "\n",
        "  return mod_result_smoothed, source_mean_data, target_mean_data"
      ],
      "metadata": {
        "id": "SWQyP_lzx3Rd"
      },
      "execution_count": null,
      "outputs": []
    },
    {
      "cell_type": "code",
      "source": [
        "num_of_new_moded_samples = 5\n",
        "source_val = 2000\n",
        "target_val = 80\n",
        "source_df = samples_filtered_df.loc[samples_filtered_df['Distance_km'] == source_val]\n",
        "target_df = samples_filtered_df.loc[samples_filtered_df['Distance_km'] == target_val]\n",
        "\n",
        "col_headers = samples_filtered_df.columns.values.tolist()\n",
        "col_headers = col_headers[1:]\n",
        "\n",
        "data = []\n",
        "for i in tqdm(range(0, num_of_new_moded_samples)):\n",
        "  mod_result_smoothed, source_mean_data, target_mean_data = main_mod_data(source_df, target_df, num_eval_samples = 30, alpha=0.95, delta_allowance=0.05)\n",
        "  data.append(mod_result_smoothed)\n",
        "\n",
        "moded_samples_df = pd.DataFrame(data, columns = col_headers)\n",
        "\n",
        "moded_samples_df.to_csv(path+\"/Spectrum/attack_vanila/moded_data_\"+str(source_val)+\"_to_\"+str(target_val)+\".csv\", index=False)"
      ],
      "metadata": {
        "colab": {
          "base_uri": "https://localhost:8080/"
        },
        "id": "v-kRqTzK01kW",
        "outputId": "b0801783-9af1-4bdf-879c-ba7d365970cf"
      },
      "execution_count": null,
      "outputs": [
        {
          "output_type": "stream",
          "name": "stderr",
          "text": [
            "100%|██████████| 5/5 [00:16<00:00,  3.38s/it]\n"
          ]
        }
      ]
    },
    {
      "cell_type": "markdown",
      "source": [
        "# Test Vanila Attack"
      ],
      "metadata": {
        "id": "jm34tnpsXZWw"
      }
    },
    {
      "cell_type": "code",
      "source": [
        "testing_df = samples_filtered_df.loc[samples_filtered_df['Distance_km'] == 80]\n",
        "mod_data_df = testing_df.iloc[:, 1:testing_df.shape[1]]"
      ],
      "metadata": {
        "id": "EkLIdxtrgzJt"
      },
      "execution_count": null,
      "outputs": []
    },
    {
      "cell_type": "code",
      "source": [
        "#vanila\n",
        "#mod_data_df = pd.read_csv(path+\"/Spectrum/attack_vanila/moded_data_2000_to_80.csv\")\n",
        "#vae\n",
        "#mod_data_df = pd.read_csv(path+\"/Spectrum/attack_vae/syntectic_data/moded_data_80.csv\")\n",
        "\n",
        "reference_freq_data_df = pd.read_csv(path+\"/Spectrum/NN/train_test_splits/mod_bootstraped_new_data_Reference_NN_freq_10_reference_30.csv\")\n",
        "sample_freq_data_df = pd.read_csv(path+\"/Spectrum/NN/train_test_splits/mod_bootstraped_new_data_Sample_NN_freq_10_reference_30.csv\")"
      ],
      "metadata": {
        "id": "M-DklkgLXw-y"
      },
      "execution_count": null,
      "outputs": []
    },
    {
      "cell_type": "code",
      "source": [
        "mod_data_df"
      ],
      "metadata": {
        "id": "soW13NSkRO_3",
        "outputId": "d60588aa-f038-4fbd-fb28-625b87368be6",
        "colab": {
          "base_uri": "https://localhost:8080/",
          "height": 468
        }
      },
      "execution_count": null,
      "outputs": [
        {
          "output_type": "execute_result",
          "data": {
            "text/plain": [
              "      -39.90625    -39.875  -39.84375   -39.8125  -39.78125     -39.75  \\\n",
              "0    -65.158556 -66.359675 -66.708836 -71.777931 -66.092081 -53.716181   \n",
              "125  -54.902319 -57.469566 -58.650167 -58.256577 -57.120871 -54.832446   \n",
              "975  -55.246289 -58.903165 -59.936123 -58.754704 -53.084186 -50.990158   \n",
              "1000 -58.769150 -60.644357 -61.903338 -66.371732 -60.697843 -58.893096   \n",
              "1025 -62.672232 -63.551920 -63.130158 -61.900052 -61.208010 -62.534571   \n",
              "...         ...        ...        ...        ...        ...        ...   \n",
              "2325 -58.154296 -64.388711 -67.189286 -64.966716 -63.945167 -54.811000   \n",
              "1725 -61.059269 -51.097763 -51.385651 -64.695003 -72.047386 -67.752279   \n",
              "2400 -57.404439 -57.568700 -57.373373 -54.970622 -56.970633 -56.927833   \n",
              "1675 -70.696618 -65.303756 -60.683876 -57.875370 -54.574001 -53.748213   \n",
              "1775 -53.920748 -62.958113 -66.533737 -62.648192 -59.079558 -62.536172   \n",
              "\n",
              "      -39.71875   -39.6875  -39.65625    -39.625  ...    34.6875   34.71875  \\\n",
              "0    -56.447556 -55.216247 -54.921922 -57.196731  ... -59.107222 -62.993632   \n",
              "125  -56.585764 -58.167556 -57.408129 -56.009250  ... -57.627135 -64.548644   \n",
              "975  -51.881985 -58.366417 -61.236644 -60.589516  ... -58.538788 -60.779631   \n",
              "1000 -60.500364 -63.977091 -61.713541 -58.101871  ... -61.793840 -58.908770   \n",
              "1025 -63.881451 -61.861091 -67.207673 -62.890823  ... -59.124382 -59.038588   \n",
              "...         ...        ...        ...        ...  ...        ...        ...   \n",
              "2325 -55.034298 -57.661727 -58.296363 -58.392978  ... -60.129552 -60.195580   \n",
              "1725 -53.344034 -58.746983 -62.551051 -59.265874  ... -65.563257 -68.322825   \n",
              "2400 -55.382226 -56.413546 -60.405413 -59.878069  ... -59.508979 -63.718585   \n",
              "1675 -58.920613 -65.129243 -69.102172 -62.891362  ... -55.859031 -57.273496   \n",
              "1775 -62.840032 -61.970531 -60.827914 -59.861995  ... -56.213928 -56.892038   \n",
              "\n",
              "          34.75   34.78125    34.8125   34.84375     34.875   34.90625  \\\n",
              "0    -54.834111 -54.361885 -64.653201 -69.901475 -61.469377 -54.784317   \n",
              "125  -65.637002 -63.156643 -58.177577 -59.985663 -58.031358 -60.922607   \n",
              "975  -60.445396 -60.851264 -59.971745 -59.222002 -61.642559 -61.885148   \n",
              "1000 -60.404921 -60.130890 -61.535060 -55.319260 -59.725285 -63.973778   \n",
              "1025 -59.114337 -57.422896 -57.627687 -57.376619 -56.733160 -58.539036   \n",
              "...         ...        ...        ...        ...        ...        ...   \n",
              "2325 -57.788352 -56.225607 -60.441628 -64.069162 -58.504497 -50.773918   \n",
              "1725 -64.959770 -63.562047 -67.362623 -64.823481 -55.356511 -53.788102   \n",
              "2400 -62.419798 -61.790442 -62.008392 -66.239532 -60.310753 -62.230813   \n",
              "1675 -54.406578 -61.030509 -61.955984 -62.319736 -55.400181 -55.312056   \n",
              "1775 -62.046079 -68.865282 -70.358132 -66.466715 -61.735684 -64.065963   \n",
              "\n",
              "        34.9375   34.96875  \n",
              "0    -55.229285 -61.405108  \n",
              "125  -59.679082 -56.034034  \n",
              "975  -61.544703 -59.897084  \n",
              "1000 -61.619858 -53.937357  \n",
              "1025 -58.086162 -56.690199  \n",
              "...         ...        ...  \n",
              "2325 -53.255245 -63.911235  \n",
              "1725 -53.048652 -54.800086  \n",
              "2400 -61.497986 -60.658025  \n",
              "1675 -59.259579 -66.898471  \n",
              "1775 -66.557453 -69.635519  \n",
              "\n",
              "[100 rows x 2397 columns]"
            ],
            "text/html": [
              "\n",
              "  <div id=\"df-ad80fcb5-fbd8-4840-8023-ec9c2dcd69d6\">\n",
              "    <div class=\"colab-df-container\">\n",
              "      <div>\n",
              "<style scoped>\n",
              "    .dataframe tbody tr th:only-of-type {\n",
              "        vertical-align: middle;\n",
              "    }\n",
              "\n",
              "    .dataframe tbody tr th {\n",
              "        vertical-align: top;\n",
              "    }\n",
              "\n",
              "    .dataframe thead th {\n",
              "        text-align: right;\n",
              "    }\n",
              "</style>\n",
              "<table border=\"1\" class=\"dataframe\">\n",
              "  <thead>\n",
              "    <tr style=\"text-align: right;\">\n",
              "      <th></th>\n",
              "      <th>-39.90625</th>\n",
              "      <th>-39.875</th>\n",
              "      <th>-39.84375</th>\n",
              "      <th>-39.8125</th>\n",
              "      <th>-39.78125</th>\n",
              "      <th>-39.75</th>\n",
              "      <th>-39.71875</th>\n",
              "      <th>-39.6875</th>\n",
              "      <th>-39.65625</th>\n",
              "      <th>-39.625</th>\n",
              "      <th>...</th>\n",
              "      <th>34.6875</th>\n",
              "      <th>34.71875</th>\n",
              "      <th>34.75</th>\n",
              "      <th>34.78125</th>\n",
              "      <th>34.8125</th>\n",
              "      <th>34.84375</th>\n",
              "      <th>34.875</th>\n",
              "      <th>34.90625</th>\n",
              "      <th>34.9375</th>\n",
              "      <th>34.96875</th>\n",
              "    </tr>\n",
              "  </thead>\n",
              "  <tbody>\n",
              "    <tr>\n",
              "      <th>0</th>\n",
              "      <td>-65.158556</td>\n",
              "      <td>-66.359675</td>\n",
              "      <td>-66.708836</td>\n",
              "      <td>-71.777931</td>\n",
              "      <td>-66.092081</td>\n",
              "      <td>-53.716181</td>\n",
              "      <td>-56.447556</td>\n",
              "      <td>-55.216247</td>\n",
              "      <td>-54.921922</td>\n",
              "      <td>-57.196731</td>\n",
              "      <td>...</td>\n",
              "      <td>-59.107222</td>\n",
              "      <td>-62.993632</td>\n",
              "      <td>-54.834111</td>\n",
              "      <td>-54.361885</td>\n",
              "      <td>-64.653201</td>\n",
              "      <td>-69.901475</td>\n",
              "      <td>-61.469377</td>\n",
              "      <td>-54.784317</td>\n",
              "      <td>-55.229285</td>\n",
              "      <td>-61.405108</td>\n",
              "    </tr>\n",
              "    <tr>\n",
              "      <th>125</th>\n",
              "      <td>-54.902319</td>\n",
              "      <td>-57.469566</td>\n",
              "      <td>-58.650167</td>\n",
              "      <td>-58.256577</td>\n",
              "      <td>-57.120871</td>\n",
              "      <td>-54.832446</td>\n",
              "      <td>-56.585764</td>\n",
              "      <td>-58.167556</td>\n",
              "      <td>-57.408129</td>\n",
              "      <td>-56.009250</td>\n",
              "      <td>...</td>\n",
              "      <td>-57.627135</td>\n",
              "      <td>-64.548644</td>\n",
              "      <td>-65.637002</td>\n",
              "      <td>-63.156643</td>\n",
              "      <td>-58.177577</td>\n",
              "      <td>-59.985663</td>\n",
              "      <td>-58.031358</td>\n",
              "      <td>-60.922607</td>\n",
              "      <td>-59.679082</td>\n",
              "      <td>-56.034034</td>\n",
              "    </tr>\n",
              "    <tr>\n",
              "      <th>975</th>\n",
              "      <td>-55.246289</td>\n",
              "      <td>-58.903165</td>\n",
              "      <td>-59.936123</td>\n",
              "      <td>-58.754704</td>\n",
              "      <td>-53.084186</td>\n",
              "      <td>-50.990158</td>\n",
              "      <td>-51.881985</td>\n",
              "      <td>-58.366417</td>\n",
              "      <td>-61.236644</td>\n",
              "      <td>-60.589516</td>\n",
              "      <td>...</td>\n",
              "      <td>-58.538788</td>\n",
              "      <td>-60.779631</td>\n",
              "      <td>-60.445396</td>\n",
              "      <td>-60.851264</td>\n",
              "      <td>-59.971745</td>\n",
              "      <td>-59.222002</td>\n",
              "      <td>-61.642559</td>\n",
              "      <td>-61.885148</td>\n",
              "      <td>-61.544703</td>\n",
              "      <td>-59.897084</td>\n",
              "    </tr>\n",
              "    <tr>\n",
              "      <th>1000</th>\n",
              "      <td>-58.769150</td>\n",
              "      <td>-60.644357</td>\n",
              "      <td>-61.903338</td>\n",
              "      <td>-66.371732</td>\n",
              "      <td>-60.697843</td>\n",
              "      <td>-58.893096</td>\n",
              "      <td>-60.500364</td>\n",
              "      <td>-63.977091</td>\n",
              "      <td>-61.713541</td>\n",
              "      <td>-58.101871</td>\n",
              "      <td>...</td>\n",
              "      <td>-61.793840</td>\n",
              "      <td>-58.908770</td>\n",
              "      <td>-60.404921</td>\n",
              "      <td>-60.130890</td>\n",
              "      <td>-61.535060</td>\n",
              "      <td>-55.319260</td>\n",
              "      <td>-59.725285</td>\n",
              "      <td>-63.973778</td>\n",
              "      <td>-61.619858</td>\n",
              "      <td>-53.937357</td>\n",
              "    </tr>\n",
              "    <tr>\n",
              "      <th>1025</th>\n",
              "      <td>-62.672232</td>\n",
              "      <td>-63.551920</td>\n",
              "      <td>-63.130158</td>\n",
              "      <td>-61.900052</td>\n",
              "      <td>-61.208010</td>\n",
              "      <td>-62.534571</td>\n",
              "      <td>-63.881451</td>\n",
              "      <td>-61.861091</td>\n",
              "      <td>-67.207673</td>\n",
              "      <td>-62.890823</td>\n",
              "      <td>...</td>\n",
              "      <td>-59.124382</td>\n",
              "      <td>-59.038588</td>\n",
              "      <td>-59.114337</td>\n",
              "      <td>-57.422896</td>\n",
              "      <td>-57.627687</td>\n",
              "      <td>-57.376619</td>\n",
              "      <td>-56.733160</td>\n",
              "      <td>-58.539036</td>\n",
              "      <td>-58.086162</td>\n",
              "      <td>-56.690199</td>\n",
              "    </tr>\n",
              "    <tr>\n",
              "      <th>...</th>\n",
              "      <td>...</td>\n",
              "      <td>...</td>\n",
              "      <td>...</td>\n",
              "      <td>...</td>\n",
              "      <td>...</td>\n",
              "      <td>...</td>\n",
              "      <td>...</td>\n",
              "      <td>...</td>\n",
              "      <td>...</td>\n",
              "      <td>...</td>\n",
              "      <td>...</td>\n",
              "      <td>...</td>\n",
              "      <td>...</td>\n",
              "      <td>...</td>\n",
              "      <td>...</td>\n",
              "      <td>...</td>\n",
              "      <td>...</td>\n",
              "      <td>...</td>\n",
              "      <td>...</td>\n",
              "      <td>...</td>\n",
              "      <td>...</td>\n",
              "    </tr>\n",
              "    <tr>\n",
              "      <th>2325</th>\n",
              "      <td>-58.154296</td>\n",
              "      <td>-64.388711</td>\n",
              "      <td>-67.189286</td>\n",
              "      <td>-64.966716</td>\n",
              "      <td>-63.945167</td>\n",
              "      <td>-54.811000</td>\n",
              "      <td>-55.034298</td>\n",
              "      <td>-57.661727</td>\n",
              "      <td>-58.296363</td>\n",
              "      <td>-58.392978</td>\n",
              "      <td>...</td>\n",
              "      <td>-60.129552</td>\n",
              "      <td>-60.195580</td>\n",
              "      <td>-57.788352</td>\n",
              "      <td>-56.225607</td>\n",
              "      <td>-60.441628</td>\n",
              "      <td>-64.069162</td>\n",
              "      <td>-58.504497</td>\n",
              "      <td>-50.773918</td>\n",
              "      <td>-53.255245</td>\n",
              "      <td>-63.911235</td>\n",
              "    </tr>\n",
              "    <tr>\n",
              "      <th>1725</th>\n",
              "      <td>-61.059269</td>\n",
              "      <td>-51.097763</td>\n",
              "      <td>-51.385651</td>\n",
              "      <td>-64.695003</td>\n",
              "      <td>-72.047386</td>\n",
              "      <td>-67.752279</td>\n",
              "      <td>-53.344034</td>\n",
              "      <td>-58.746983</td>\n",
              "      <td>-62.551051</td>\n",
              "      <td>-59.265874</td>\n",
              "      <td>...</td>\n",
              "      <td>-65.563257</td>\n",
              "      <td>-68.322825</td>\n",
              "      <td>-64.959770</td>\n",
              "      <td>-63.562047</td>\n",
              "      <td>-67.362623</td>\n",
              "      <td>-64.823481</td>\n",
              "      <td>-55.356511</td>\n",
              "      <td>-53.788102</td>\n",
              "      <td>-53.048652</td>\n",
              "      <td>-54.800086</td>\n",
              "    </tr>\n",
              "    <tr>\n",
              "      <th>2400</th>\n",
              "      <td>-57.404439</td>\n",
              "      <td>-57.568700</td>\n",
              "      <td>-57.373373</td>\n",
              "      <td>-54.970622</td>\n",
              "      <td>-56.970633</td>\n",
              "      <td>-56.927833</td>\n",
              "      <td>-55.382226</td>\n",
              "      <td>-56.413546</td>\n",
              "      <td>-60.405413</td>\n",
              "      <td>-59.878069</td>\n",
              "      <td>...</td>\n",
              "      <td>-59.508979</td>\n",
              "      <td>-63.718585</td>\n",
              "      <td>-62.419798</td>\n",
              "      <td>-61.790442</td>\n",
              "      <td>-62.008392</td>\n",
              "      <td>-66.239532</td>\n",
              "      <td>-60.310753</td>\n",
              "      <td>-62.230813</td>\n",
              "      <td>-61.497986</td>\n",
              "      <td>-60.658025</td>\n",
              "    </tr>\n",
              "    <tr>\n",
              "      <th>1675</th>\n",
              "      <td>-70.696618</td>\n",
              "      <td>-65.303756</td>\n",
              "      <td>-60.683876</td>\n",
              "      <td>-57.875370</td>\n",
              "      <td>-54.574001</td>\n",
              "      <td>-53.748213</td>\n",
              "      <td>-58.920613</td>\n",
              "      <td>-65.129243</td>\n",
              "      <td>-69.102172</td>\n",
              "      <td>-62.891362</td>\n",
              "      <td>...</td>\n",
              "      <td>-55.859031</td>\n",
              "      <td>-57.273496</td>\n",
              "      <td>-54.406578</td>\n",
              "      <td>-61.030509</td>\n",
              "      <td>-61.955984</td>\n",
              "      <td>-62.319736</td>\n",
              "      <td>-55.400181</td>\n",
              "      <td>-55.312056</td>\n",
              "      <td>-59.259579</td>\n",
              "      <td>-66.898471</td>\n",
              "    </tr>\n",
              "    <tr>\n",
              "      <th>1775</th>\n",
              "      <td>-53.920748</td>\n",
              "      <td>-62.958113</td>\n",
              "      <td>-66.533737</td>\n",
              "      <td>-62.648192</td>\n",
              "      <td>-59.079558</td>\n",
              "      <td>-62.536172</td>\n",
              "      <td>-62.840032</td>\n",
              "      <td>-61.970531</td>\n",
              "      <td>-60.827914</td>\n",
              "      <td>-59.861995</td>\n",
              "      <td>...</td>\n",
              "      <td>-56.213928</td>\n",
              "      <td>-56.892038</td>\n",
              "      <td>-62.046079</td>\n",
              "      <td>-68.865282</td>\n",
              "      <td>-70.358132</td>\n",
              "      <td>-66.466715</td>\n",
              "      <td>-61.735684</td>\n",
              "      <td>-64.065963</td>\n",
              "      <td>-66.557453</td>\n",
              "      <td>-69.635519</td>\n",
              "    </tr>\n",
              "  </tbody>\n",
              "</table>\n",
              "<p>100 rows × 2397 columns</p>\n",
              "</div>\n",
              "      <button class=\"colab-df-convert\" onclick=\"convertToInteractive('df-ad80fcb5-fbd8-4840-8023-ec9c2dcd69d6')\"\n",
              "              title=\"Convert this dataframe to an interactive table.\"\n",
              "              style=\"display:none;\">\n",
              "        \n",
              "  <svg xmlns=\"http://www.w3.org/2000/svg\" height=\"24px\"viewBox=\"0 0 24 24\"\n",
              "       width=\"24px\">\n",
              "    <path d=\"M0 0h24v24H0V0z\" fill=\"none\"/>\n",
              "    <path d=\"M18.56 5.44l.94 2.06.94-2.06 2.06-.94-2.06-.94-.94-2.06-.94 2.06-2.06.94zm-11 1L8.5 8.5l.94-2.06 2.06-.94-2.06-.94L8.5 2.5l-.94 2.06-2.06.94zm10 10l.94 2.06.94-2.06 2.06-.94-2.06-.94-.94-2.06-.94 2.06-2.06.94z\"/><path d=\"M17.41 7.96l-1.37-1.37c-.4-.4-.92-.59-1.43-.59-.52 0-1.04.2-1.43.59L10.3 9.45l-7.72 7.72c-.78.78-.78 2.05 0 2.83L4 21.41c.39.39.9.59 1.41.59.51 0 1.02-.2 1.41-.59l7.78-7.78 2.81-2.81c.8-.78.8-2.07 0-2.86zM5.41 20L4 18.59l7.72-7.72 1.47 1.35L5.41 20z\"/>\n",
              "  </svg>\n",
              "      </button>\n",
              "      \n",
              "  <style>\n",
              "    .colab-df-container {\n",
              "      display:flex;\n",
              "      flex-wrap:wrap;\n",
              "      gap: 12px;\n",
              "    }\n",
              "\n",
              "    .colab-df-convert {\n",
              "      background-color: #E8F0FE;\n",
              "      border: none;\n",
              "      border-radius: 50%;\n",
              "      cursor: pointer;\n",
              "      display: none;\n",
              "      fill: #1967D2;\n",
              "      height: 32px;\n",
              "      padding: 0 0 0 0;\n",
              "      width: 32px;\n",
              "    }\n",
              "\n",
              "    .colab-df-convert:hover {\n",
              "      background-color: #E2EBFA;\n",
              "      box-shadow: 0px 1px 2px rgba(60, 64, 67, 0.3), 0px 1px 3px 1px rgba(60, 64, 67, 0.15);\n",
              "      fill: #174EA6;\n",
              "    }\n",
              "\n",
              "    [theme=dark] .colab-df-convert {\n",
              "      background-color: #3B4455;\n",
              "      fill: #D2E3FC;\n",
              "    }\n",
              "\n",
              "    [theme=dark] .colab-df-convert:hover {\n",
              "      background-color: #434B5C;\n",
              "      box-shadow: 0px 1px 3px 1px rgba(0, 0, 0, 0.15);\n",
              "      filter: drop-shadow(0px 1px 2px rgba(0, 0, 0, 0.3));\n",
              "      fill: #FFFFFF;\n",
              "    }\n",
              "  </style>\n",
              "\n",
              "      <script>\n",
              "        const buttonEl =\n",
              "          document.querySelector('#df-ad80fcb5-fbd8-4840-8023-ec9c2dcd69d6 button.colab-df-convert');\n",
              "        buttonEl.style.display =\n",
              "          google.colab.kernel.accessAllowed ? 'block' : 'none';\n",
              "\n",
              "        async function convertToInteractive(key) {\n",
              "          const element = document.querySelector('#df-ad80fcb5-fbd8-4840-8023-ec9c2dcd69d6');\n",
              "          const dataTable =\n",
              "            await google.colab.kernel.invokeFunction('convertToInteractive',\n",
              "                                                     [key], {});\n",
              "          if (!dataTable) return;\n",
              "\n",
              "          const docLinkHtml = 'Like what you see? Visit the ' +\n",
              "            '<a target=\"_blank\" href=https://colab.research.google.com/notebooks/data_table.ipynb>data table notebook</a>'\n",
              "            + ' to learn more about interactive tables.';\n",
              "          element.innerHTML = '';\n",
              "          dataTable['output_type'] = 'display_data';\n",
              "          await google.colab.output.renderOutput(dataTable, element);\n",
              "          const docLink = document.createElement('div');\n",
              "          docLink.innerHTML = docLinkHtml;\n",
              "          element.appendChild(docLink);\n",
              "        }\n",
              "      </script>\n",
              "    </div>\n",
              "  </div>\n",
              "  "
            ]
          },
          "metadata": {},
          "execution_count": 19
        }
      ]
    },
    {
      "cell_type": "code",
      "source": [
        "freq_in_references = reference_freq_data_df.columns.values.tolist()\n",
        "headers_in_references = freq_in_references[6:]\n",
        "\n",
        "mod_data_df_freq_filtered = mod_data_df[headers_in_references]\n",
        "mod_data = mod_data_df_freq_filtered.to_numpy()"
      ],
      "metadata": {
        "id": "OPsAc4ZrcMhw"
      },
      "execution_count": null,
      "outputs": []
    },
    {
      "cell_type": "code",
      "source": [
        "def get_features(data, data_Y, reference_freq_data_df):\n",
        "\n",
        "  features_data = []\n",
        "\n",
        "  for data_X in data:\n",
        "    data_ci = st.t.interval(alpha=0.90, df=len(data_X)-1, loc=np.mean(data_X), scale=st.sem(data_X))\n",
        "    data_confidence_int_lower = data_ci[0]\n",
        "    data_confidence_int_upper = data_ci[1]\n",
        "\n",
        "    # Get reference data -----------------\n",
        "    distance_reference_df = reference_freq_data_df.loc[reference_freq_data_df['Distance_km'] == data_Y]\n",
        "\n",
        "    pearson_vals = []\n",
        "    confidence_vals_lower = []\n",
        "    confidence_vals_upper = []\n",
        "    for reference_row in range(0, distance_reference_df.shape[0]):\n",
        "      reference_X = np.array(distance_reference_df.iloc[reference_row,6:distance_reference_df.shape[1]])\n",
        "      pearson_vals.append(round(pearsonr(data_X, reference_X)[0], 5))\n",
        "\n",
        "      reference_ci = st.t.interval(alpha=0.90, df=len(reference_X)-1, loc=np.mean(reference_X), scale=st.sem(reference_X))\n",
        "      reference_confidence_int_lower = reference_ci[0]\n",
        "      confidence_vals_lower.append(round(abs(reference_confidence_int_lower - data_confidence_int_lower), 5))\n",
        "      reference_confidence_int_upper = reference_ci[1]\n",
        "      confidence_vals_upper.append(round(abs(reference_confidence_int_upper - data_confidence_int_upper),5))\n",
        "\n",
        "    features_data.append([round(np.std(data_X), 5), #mean\n",
        "                          round(np.mean(data_X), 5), #std \n",
        "                          round(np.min(pearson_vals), 5), #pearson min\n",
        "                          round(np.mean(pearson_vals), 5), #pearson mean\n",
        "                          round(np.max(pearson_vals), 5), #pearson max\n",
        "                          round(np.min(confidence_vals_lower), 5), #delta ci min\n",
        "                          round(np.min(confidence_vals_upper), 5)]) #delta ci max\n",
        "\n",
        "  return features_data"
      ],
      "metadata": {
        "id": "T6WJuYhSaUn4"
      },
      "execution_count": null,
      "outputs": []
    },
    {
      "cell_type": "code",
      "source": [
        "features_data = get_features(mod_data, 80, reference_freq_data_df)\n",
        "\n",
        "scaler = MinMaxScaler()\n",
        "features_data_scaled = scaler.fit(features_data)\n",
        "features_data = features_data_scaled.transform(features_data)"
      ],
      "metadata": {
        "id": "FCB9b_dYaZmM"
      },
      "execution_count": null,
      "outputs": []
    },
    {
      "cell_type": "code",
      "source": [
        "# Load network\n",
        "from keras.models import Sequential\n",
        "from keras.layers import Dense,Conv2D, Flatten\n",
        "from keras.wrappers.scikit_learn import KerasRegressor\n",
        "from keras.callbacks import EarlyStopping\n",
        "from tqdm.keras import TqdmCallback\n",
        "\n",
        "def ann():\n",
        "    model = Sequential()\n",
        "    model.add(Dense(76, input_dim = 7, activation = 'tanh'))\n",
        "    model.add(Dense(38,activation='tanh'))\n",
        "    model.add(Dense(38,activation='tanh'))\n",
        "    model.add(Dense(19,activation='tanh'))\n",
        "    model.add(Dense(19,activation='tanh'))\n",
        "    model.add(Dense(9,activation='tanh'))\n",
        "    model.add(Dense(9,activation='tanh'))\n",
        "    model.add(Dense(1))\n",
        "    model.compile(loss ='mean_squared_error',optimizer = 'RMSprop')\n",
        "    return model\n",
        "\n",
        "# Load network\n",
        "from keras.models import load_model\n",
        "mm = KerasRegressor(build_fn=ann, epochs=2500, batch_size=8, verbose=0)\n",
        "mm.model = load_model(path+\"/Spectrum/NN/NNs/mod_bootstraped_final_new_data_NN_model_freq_10_reference_30_epochs_2500.h5\")\n",
        "\n",
        "# Predit\n",
        "Y_test_pred=mm.predict(features_data)\n",
        "pred=list(Y_test_pred)\n",
        "\n",
        "dist_min=80\n",
        "dist_max=2000\n",
        "\n",
        "pred_abs=np.add(dist_min,np.multiply((dist_max-dist_min),pred)) # convert back to distances values from scalar"
      ],
      "metadata": {
        "id": "79l3XCXiYB6B"
      },
      "execution_count": null,
      "outputs": []
    },
    {
      "cell_type": "code",
      "source": [
        "pred_abs"
      ],
      "metadata": {
        "colab": {
          "base_uri": "https://localhost:8080/"
        },
        "id": "QnVJ1Ee1fc9d",
        "outputId": "67dbecdb-46e1-423a-c118-aafcca8fd8a9"
      },
      "execution_count": null,
      "outputs": [
        {
          "output_type": "execute_result",
          "data": {
            "text/plain": [
              "array([ 237.78748 ,  146.389   ,  686.5667  ,  451.6942  ,  465.19058 ,\n",
              "        649.9313  ,  236.1405  , 1161.6904  , 1121.5084  , 1531.7812  ,\n",
              "        -87.430435, 1301.5176  ,  936.1394  , 1233.4695  ,  396.23126 ,\n",
              "        422.396   ,  192.86095 , 1448.655   ,  260.60706 ,  331.55292 ,\n",
              "        493.79993 ,  236.8335  ,  175.23698 , -126.47133 ,  542.4116  ,\n",
              "         73.23311 ,  512.3385  ,  390.32425 , 1690.3721  ,  715.96216 ,\n",
              "         92.994194,  228.87727 ,   75.526505, 1530.1511  ,  250.63438 ,\n",
              "        644.79926 , 1541.3842  ,  554.8082  ,  471.59702 ,  288.41827 ,\n",
              "        505.3758  ,  524.6513  ,  606.137   ,  596.21783 ,  647.15094 ,\n",
              "       1970.3639  ,  471.26703 ,  450.9181  ,  976.8418  ,  512.3561  ,\n",
              "        255.72295 ,  698.71735 , 1114.752   , 1747.2689  ,  107.043076,\n",
              "        167.275   ,  649.2396  ,  249.13681 ,  518.25885 ,  373.96878 ,\n",
              "       1911.2941  ,  559.39136 ,  518.52136 ,  224.83105 ,  500.63983 ,\n",
              "        235.63896 ,  338.49222 ,  551.7742  , 1586.2864  ,  615.8654  ,\n",
              "       1210.9055  ,  389.49216 ,  582.652   ,  863.91077 ,  767.58307 ,\n",
              "        262.15436 ,  564.4995  ,  503.42053 ,  527.16077 ,  673.6414  ,\n",
              "        420.69543 ,  -14.46405 ,  603.27356 ,  724.36566 , 1545.5618  ,\n",
              "        224.40446 ,  453.27994 ,  512.2565  , 1032.7192  ,   94.04242 ,\n",
              "       1314.5021  ,   74.409164, 1896.9498  , 1194.8293  ,  239.02625 ,\n",
              "        480.0903  ,  272.3236  ,  384.44534 ,  720.6761  ,  277.2061  ],\n",
              "      dtype=float32)"
            ]
          },
          "metadata": {},
          "execution_count": 24
        }
      ]
    },
    {
      "cell_type": "markdown",
      "source": [
        "# Variational AutoEncoder Attack"
      ],
      "metadata": {
        "id": "rw7pqa5BFT1l"
      }
    },
    {
      "cell_type": "code",
      "source": [
        "import tensorflow\n",
        "import numpy\n",
        "import matplotlib.pyplot"
      ],
      "metadata": {
        "id": "yN-eV7WhFfJr"
      },
      "execution_count": null,
      "outputs": []
    },
    {
      "cell_type": "code",
      "source": [
        "input_size = samples_filtered_df.shape[1] - 1\n",
        "latent_space_dim = 2\n",
        "distance_to_eval = 80"
      ],
      "metadata": {
        "id": "1r9jKpbMFcT3"
      },
      "execution_count": null,
      "outputs": []
    },
    {
      "cell_type": "markdown",
      "source": [
        "## load dataset"
      ],
      "metadata": {
        "id": "J3BK0NzzGbLb"
      }
    },
    {
      "cell_type": "code",
      "source": [
        "samples_filtered_df"
      ],
      "metadata": {
        "id": "6wsRjpABkS6t",
        "outputId": "8f43988f-037b-44ac-830c-3bd1aab8b91d",
        "colab": {
          "base_uri": "https://localhost:8080/",
          "height": 468
        }
      },
      "execution_count": null,
      "outputs": [
        {
          "output_type": "execute_result",
          "data": {
            "text/plain": [
              "      Distance_km  -39.90625    -39.875  -39.84375   -39.8125  -39.78125  \\\n",
              "0              80 -65.158556 -66.359675 -66.708836 -71.777931 -66.092081   \n",
              "125            80 -54.902319 -57.469566 -58.650167 -58.256577 -57.120871   \n",
              "975            80 -55.246289 -58.903165 -59.936123 -58.754704 -53.084186   \n",
              "1000           80 -58.769150 -60.644357 -61.903338 -66.371732 -60.697843   \n",
              "1025           80 -62.672232 -63.551920 -63.130158 -61.900052 -61.208010   \n",
              "...           ...        ...        ...        ...        ...        ...   \n",
              "2325           80 -58.154296 -64.388711 -67.189286 -64.966716 -63.945167   \n",
              "1725           80 -61.059269 -51.097763 -51.385651 -64.695003 -72.047386   \n",
              "2400           80 -57.404439 -57.568700 -57.373373 -54.970622 -56.970633   \n",
              "1675           80 -70.696618 -65.303756 -60.683876 -57.875370 -54.574001   \n",
              "1775           80 -53.920748 -62.958113 -66.533737 -62.648192 -59.079558   \n",
              "\n",
              "         -39.75  -39.71875   -39.6875  -39.65625  ...    34.6875   34.71875  \\\n",
              "0    -53.716181 -56.447556 -55.216247 -54.921922  ... -59.107222 -62.993632   \n",
              "125  -54.832446 -56.585764 -58.167556 -57.408129  ... -57.627135 -64.548644   \n",
              "975  -50.990158 -51.881985 -58.366417 -61.236644  ... -58.538788 -60.779631   \n",
              "1000 -58.893096 -60.500364 -63.977091 -61.713541  ... -61.793840 -58.908770   \n",
              "1025 -62.534571 -63.881451 -61.861091 -67.207673  ... -59.124382 -59.038588   \n",
              "...         ...        ...        ...        ...  ...        ...        ...   \n",
              "2325 -54.811000 -55.034298 -57.661727 -58.296363  ... -60.129552 -60.195580   \n",
              "1725 -67.752279 -53.344034 -58.746983 -62.551051  ... -65.563257 -68.322825   \n",
              "2400 -56.927833 -55.382226 -56.413546 -60.405413  ... -59.508979 -63.718585   \n",
              "1675 -53.748213 -58.920613 -65.129243 -69.102172  ... -55.859031 -57.273496   \n",
              "1775 -62.536172 -62.840032 -61.970531 -60.827914  ... -56.213928 -56.892038   \n",
              "\n",
              "          34.75   34.78125    34.8125   34.84375     34.875   34.90625  \\\n",
              "0    -54.834111 -54.361885 -64.653201 -69.901475 -61.469377 -54.784317   \n",
              "125  -65.637002 -63.156643 -58.177577 -59.985663 -58.031358 -60.922607   \n",
              "975  -60.445396 -60.851264 -59.971745 -59.222002 -61.642559 -61.885148   \n",
              "1000 -60.404921 -60.130890 -61.535060 -55.319260 -59.725285 -63.973778   \n",
              "1025 -59.114337 -57.422896 -57.627687 -57.376619 -56.733160 -58.539036   \n",
              "...         ...        ...        ...        ...        ...        ...   \n",
              "2325 -57.788352 -56.225607 -60.441628 -64.069162 -58.504497 -50.773918   \n",
              "1725 -64.959770 -63.562047 -67.362623 -64.823481 -55.356511 -53.788102   \n",
              "2400 -62.419798 -61.790442 -62.008392 -66.239532 -60.310753 -62.230813   \n",
              "1675 -54.406578 -61.030509 -61.955984 -62.319736 -55.400181 -55.312056   \n",
              "1775 -62.046079 -68.865282 -70.358132 -66.466715 -61.735684 -64.065963   \n",
              "\n",
              "        34.9375   34.96875  \n",
              "0    -55.229285 -61.405108  \n",
              "125  -59.679082 -56.034034  \n",
              "975  -61.544703 -59.897084  \n",
              "1000 -61.619858 -53.937357  \n",
              "1025 -58.086162 -56.690199  \n",
              "...         ...        ...  \n",
              "2325 -53.255245 -63.911235  \n",
              "1725 -53.048652 -54.800086  \n",
              "2400 -61.497986 -60.658025  \n",
              "1675 -59.259579 -66.898471  \n",
              "1775 -66.557453 -69.635519  \n",
              "\n",
              "[100 rows x 2398 columns]"
            ],
            "text/html": [
              "\n",
              "  <div id=\"df-72a7e04c-4ed4-4e0a-9d98-526041ef5cbd\">\n",
              "    <div class=\"colab-df-container\">\n",
              "      <div>\n",
              "<style scoped>\n",
              "    .dataframe tbody tr th:only-of-type {\n",
              "        vertical-align: middle;\n",
              "    }\n",
              "\n",
              "    .dataframe tbody tr th {\n",
              "        vertical-align: top;\n",
              "    }\n",
              "\n",
              "    .dataframe thead th {\n",
              "        text-align: right;\n",
              "    }\n",
              "</style>\n",
              "<table border=\"1\" class=\"dataframe\">\n",
              "  <thead>\n",
              "    <tr style=\"text-align: right;\">\n",
              "      <th></th>\n",
              "      <th>Distance_km</th>\n",
              "      <th>-39.90625</th>\n",
              "      <th>-39.875</th>\n",
              "      <th>-39.84375</th>\n",
              "      <th>-39.8125</th>\n",
              "      <th>-39.78125</th>\n",
              "      <th>-39.75</th>\n",
              "      <th>-39.71875</th>\n",
              "      <th>-39.6875</th>\n",
              "      <th>-39.65625</th>\n",
              "      <th>...</th>\n",
              "      <th>34.6875</th>\n",
              "      <th>34.71875</th>\n",
              "      <th>34.75</th>\n",
              "      <th>34.78125</th>\n",
              "      <th>34.8125</th>\n",
              "      <th>34.84375</th>\n",
              "      <th>34.875</th>\n",
              "      <th>34.90625</th>\n",
              "      <th>34.9375</th>\n",
              "      <th>34.96875</th>\n",
              "    </tr>\n",
              "  </thead>\n",
              "  <tbody>\n",
              "    <tr>\n",
              "      <th>0</th>\n",
              "      <td>80</td>\n",
              "      <td>-65.158556</td>\n",
              "      <td>-66.359675</td>\n",
              "      <td>-66.708836</td>\n",
              "      <td>-71.777931</td>\n",
              "      <td>-66.092081</td>\n",
              "      <td>-53.716181</td>\n",
              "      <td>-56.447556</td>\n",
              "      <td>-55.216247</td>\n",
              "      <td>-54.921922</td>\n",
              "      <td>...</td>\n",
              "      <td>-59.107222</td>\n",
              "      <td>-62.993632</td>\n",
              "      <td>-54.834111</td>\n",
              "      <td>-54.361885</td>\n",
              "      <td>-64.653201</td>\n",
              "      <td>-69.901475</td>\n",
              "      <td>-61.469377</td>\n",
              "      <td>-54.784317</td>\n",
              "      <td>-55.229285</td>\n",
              "      <td>-61.405108</td>\n",
              "    </tr>\n",
              "    <tr>\n",
              "      <th>125</th>\n",
              "      <td>80</td>\n",
              "      <td>-54.902319</td>\n",
              "      <td>-57.469566</td>\n",
              "      <td>-58.650167</td>\n",
              "      <td>-58.256577</td>\n",
              "      <td>-57.120871</td>\n",
              "      <td>-54.832446</td>\n",
              "      <td>-56.585764</td>\n",
              "      <td>-58.167556</td>\n",
              "      <td>-57.408129</td>\n",
              "      <td>...</td>\n",
              "      <td>-57.627135</td>\n",
              "      <td>-64.548644</td>\n",
              "      <td>-65.637002</td>\n",
              "      <td>-63.156643</td>\n",
              "      <td>-58.177577</td>\n",
              "      <td>-59.985663</td>\n",
              "      <td>-58.031358</td>\n",
              "      <td>-60.922607</td>\n",
              "      <td>-59.679082</td>\n",
              "      <td>-56.034034</td>\n",
              "    </tr>\n",
              "    <tr>\n",
              "      <th>975</th>\n",
              "      <td>80</td>\n",
              "      <td>-55.246289</td>\n",
              "      <td>-58.903165</td>\n",
              "      <td>-59.936123</td>\n",
              "      <td>-58.754704</td>\n",
              "      <td>-53.084186</td>\n",
              "      <td>-50.990158</td>\n",
              "      <td>-51.881985</td>\n",
              "      <td>-58.366417</td>\n",
              "      <td>-61.236644</td>\n",
              "      <td>...</td>\n",
              "      <td>-58.538788</td>\n",
              "      <td>-60.779631</td>\n",
              "      <td>-60.445396</td>\n",
              "      <td>-60.851264</td>\n",
              "      <td>-59.971745</td>\n",
              "      <td>-59.222002</td>\n",
              "      <td>-61.642559</td>\n",
              "      <td>-61.885148</td>\n",
              "      <td>-61.544703</td>\n",
              "      <td>-59.897084</td>\n",
              "    </tr>\n",
              "    <tr>\n",
              "      <th>1000</th>\n",
              "      <td>80</td>\n",
              "      <td>-58.769150</td>\n",
              "      <td>-60.644357</td>\n",
              "      <td>-61.903338</td>\n",
              "      <td>-66.371732</td>\n",
              "      <td>-60.697843</td>\n",
              "      <td>-58.893096</td>\n",
              "      <td>-60.500364</td>\n",
              "      <td>-63.977091</td>\n",
              "      <td>-61.713541</td>\n",
              "      <td>...</td>\n",
              "      <td>-61.793840</td>\n",
              "      <td>-58.908770</td>\n",
              "      <td>-60.404921</td>\n",
              "      <td>-60.130890</td>\n",
              "      <td>-61.535060</td>\n",
              "      <td>-55.319260</td>\n",
              "      <td>-59.725285</td>\n",
              "      <td>-63.973778</td>\n",
              "      <td>-61.619858</td>\n",
              "      <td>-53.937357</td>\n",
              "    </tr>\n",
              "    <tr>\n",
              "      <th>1025</th>\n",
              "      <td>80</td>\n",
              "      <td>-62.672232</td>\n",
              "      <td>-63.551920</td>\n",
              "      <td>-63.130158</td>\n",
              "      <td>-61.900052</td>\n",
              "      <td>-61.208010</td>\n",
              "      <td>-62.534571</td>\n",
              "      <td>-63.881451</td>\n",
              "      <td>-61.861091</td>\n",
              "      <td>-67.207673</td>\n",
              "      <td>...</td>\n",
              "      <td>-59.124382</td>\n",
              "      <td>-59.038588</td>\n",
              "      <td>-59.114337</td>\n",
              "      <td>-57.422896</td>\n",
              "      <td>-57.627687</td>\n",
              "      <td>-57.376619</td>\n",
              "      <td>-56.733160</td>\n",
              "      <td>-58.539036</td>\n",
              "      <td>-58.086162</td>\n",
              "      <td>-56.690199</td>\n",
              "    </tr>\n",
              "    <tr>\n",
              "      <th>...</th>\n",
              "      <td>...</td>\n",
              "      <td>...</td>\n",
              "      <td>...</td>\n",
              "      <td>...</td>\n",
              "      <td>...</td>\n",
              "      <td>...</td>\n",
              "      <td>...</td>\n",
              "      <td>...</td>\n",
              "      <td>...</td>\n",
              "      <td>...</td>\n",
              "      <td>...</td>\n",
              "      <td>...</td>\n",
              "      <td>...</td>\n",
              "      <td>...</td>\n",
              "      <td>...</td>\n",
              "      <td>...</td>\n",
              "      <td>...</td>\n",
              "      <td>...</td>\n",
              "      <td>...</td>\n",
              "      <td>...</td>\n",
              "      <td>...</td>\n",
              "    </tr>\n",
              "    <tr>\n",
              "      <th>2325</th>\n",
              "      <td>80</td>\n",
              "      <td>-58.154296</td>\n",
              "      <td>-64.388711</td>\n",
              "      <td>-67.189286</td>\n",
              "      <td>-64.966716</td>\n",
              "      <td>-63.945167</td>\n",
              "      <td>-54.811000</td>\n",
              "      <td>-55.034298</td>\n",
              "      <td>-57.661727</td>\n",
              "      <td>-58.296363</td>\n",
              "      <td>...</td>\n",
              "      <td>-60.129552</td>\n",
              "      <td>-60.195580</td>\n",
              "      <td>-57.788352</td>\n",
              "      <td>-56.225607</td>\n",
              "      <td>-60.441628</td>\n",
              "      <td>-64.069162</td>\n",
              "      <td>-58.504497</td>\n",
              "      <td>-50.773918</td>\n",
              "      <td>-53.255245</td>\n",
              "      <td>-63.911235</td>\n",
              "    </tr>\n",
              "    <tr>\n",
              "      <th>1725</th>\n",
              "      <td>80</td>\n",
              "      <td>-61.059269</td>\n",
              "      <td>-51.097763</td>\n",
              "      <td>-51.385651</td>\n",
              "      <td>-64.695003</td>\n",
              "      <td>-72.047386</td>\n",
              "      <td>-67.752279</td>\n",
              "      <td>-53.344034</td>\n",
              "      <td>-58.746983</td>\n",
              "      <td>-62.551051</td>\n",
              "      <td>...</td>\n",
              "      <td>-65.563257</td>\n",
              "      <td>-68.322825</td>\n",
              "      <td>-64.959770</td>\n",
              "      <td>-63.562047</td>\n",
              "      <td>-67.362623</td>\n",
              "      <td>-64.823481</td>\n",
              "      <td>-55.356511</td>\n",
              "      <td>-53.788102</td>\n",
              "      <td>-53.048652</td>\n",
              "      <td>-54.800086</td>\n",
              "    </tr>\n",
              "    <tr>\n",
              "      <th>2400</th>\n",
              "      <td>80</td>\n",
              "      <td>-57.404439</td>\n",
              "      <td>-57.568700</td>\n",
              "      <td>-57.373373</td>\n",
              "      <td>-54.970622</td>\n",
              "      <td>-56.970633</td>\n",
              "      <td>-56.927833</td>\n",
              "      <td>-55.382226</td>\n",
              "      <td>-56.413546</td>\n",
              "      <td>-60.405413</td>\n",
              "      <td>...</td>\n",
              "      <td>-59.508979</td>\n",
              "      <td>-63.718585</td>\n",
              "      <td>-62.419798</td>\n",
              "      <td>-61.790442</td>\n",
              "      <td>-62.008392</td>\n",
              "      <td>-66.239532</td>\n",
              "      <td>-60.310753</td>\n",
              "      <td>-62.230813</td>\n",
              "      <td>-61.497986</td>\n",
              "      <td>-60.658025</td>\n",
              "    </tr>\n",
              "    <tr>\n",
              "      <th>1675</th>\n",
              "      <td>80</td>\n",
              "      <td>-70.696618</td>\n",
              "      <td>-65.303756</td>\n",
              "      <td>-60.683876</td>\n",
              "      <td>-57.875370</td>\n",
              "      <td>-54.574001</td>\n",
              "      <td>-53.748213</td>\n",
              "      <td>-58.920613</td>\n",
              "      <td>-65.129243</td>\n",
              "      <td>-69.102172</td>\n",
              "      <td>...</td>\n",
              "      <td>-55.859031</td>\n",
              "      <td>-57.273496</td>\n",
              "      <td>-54.406578</td>\n",
              "      <td>-61.030509</td>\n",
              "      <td>-61.955984</td>\n",
              "      <td>-62.319736</td>\n",
              "      <td>-55.400181</td>\n",
              "      <td>-55.312056</td>\n",
              "      <td>-59.259579</td>\n",
              "      <td>-66.898471</td>\n",
              "    </tr>\n",
              "    <tr>\n",
              "      <th>1775</th>\n",
              "      <td>80</td>\n",
              "      <td>-53.920748</td>\n",
              "      <td>-62.958113</td>\n",
              "      <td>-66.533737</td>\n",
              "      <td>-62.648192</td>\n",
              "      <td>-59.079558</td>\n",
              "      <td>-62.536172</td>\n",
              "      <td>-62.840032</td>\n",
              "      <td>-61.970531</td>\n",
              "      <td>-60.827914</td>\n",
              "      <td>...</td>\n",
              "      <td>-56.213928</td>\n",
              "      <td>-56.892038</td>\n",
              "      <td>-62.046079</td>\n",
              "      <td>-68.865282</td>\n",
              "      <td>-70.358132</td>\n",
              "      <td>-66.466715</td>\n",
              "      <td>-61.735684</td>\n",
              "      <td>-64.065963</td>\n",
              "      <td>-66.557453</td>\n",
              "      <td>-69.635519</td>\n",
              "    </tr>\n",
              "  </tbody>\n",
              "</table>\n",
              "<p>100 rows × 2398 columns</p>\n",
              "</div>\n",
              "      <button class=\"colab-df-convert\" onclick=\"convertToInteractive('df-72a7e04c-4ed4-4e0a-9d98-526041ef5cbd')\"\n",
              "              title=\"Convert this dataframe to an interactive table.\"\n",
              "              style=\"display:none;\">\n",
              "        \n",
              "  <svg xmlns=\"http://www.w3.org/2000/svg\" height=\"24px\"viewBox=\"0 0 24 24\"\n",
              "       width=\"24px\">\n",
              "    <path d=\"M0 0h24v24H0V0z\" fill=\"none\"/>\n",
              "    <path d=\"M18.56 5.44l.94 2.06.94-2.06 2.06-.94-2.06-.94-.94-2.06-.94 2.06-2.06.94zm-11 1L8.5 8.5l.94-2.06 2.06-.94-2.06-.94L8.5 2.5l-.94 2.06-2.06.94zm10 10l.94 2.06.94-2.06 2.06-.94-2.06-.94-.94-2.06-.94 2.06-2.06.94z\"/><path d=\"M17.41 7.96l-1.37-1.37c-.4-.4-.92-.59-1.43-.59-.52 0-1.04.2-1.43.59L10.3 9.45l-7.72 7.72c-.78.78-.78 2.05 0 2.83L4 21.41c.39.39.9.59 1.41.59.51 0 1.02-.2 1.41-.59l7.78-7.78 2.81-2.81c.8-.78.8-2.07 0-2.86zM5.41 20L4 18.59l7.72-7.72 1.47 1.35L5.41 20z\"/>\n",
              "  </svg>\n",
              "      </button>\n",
              "      \n",
              "  <style>\n",
              "    .colab-df-container {\n",
              "      display:flex;\n",
              "      flex-wrap:wrap;\n",
              "      gap: 12px;\n",
              "    }\n",
              "\n",
              "    .colab-df-convert {\n",
              "      background-color: #E8F0FE;\n",
              "      border: none;\n",
              "      border-radius: 50%;\n",
              "      cursor: pointer;\n",
              "      display: none;\n",
              "      fill: #1967D2;\n",
              "      height: 32px;\n",
              "      padding: 0 0 0 0;\n",
              "      width: 32px;\n",
              "    }\n",
              "\n",
              "    .colab-df-convert:hover {\n",
              "      background-color: #E2EBFA;\n",
              "      box-shadow: 0px 1px 2px rgba(60, 64, 67, 0.3), 0px 1px 3px 1px rgba(60, 64, 67, 0.15);\n",
              "      fill: #174EA6;\n",
              "    }\n",
              "\n",
              "    [theme=dark] .colab-df-convert {\n",
              "      background-color: #3B4455;\n",
              "      fill: #D2E3FC;\n",
              "    }\n",
              "\n",
              "    [theme=dark] .colab-df-convert:hover {\n",
              "      background-color: #434B5C;\n",
              "      box-shadow: 0px 1px 3px 1px rgba(0, 0, 0, 0.15);\n",
              "      filter: drop-shadow(0px 1px 2px rgba(0, 0, 0, 0.3));\n",
              "      fill: #FFFFFF;\n",
              "    }\n",
              "  </style>\n",
              "\n",
              "      <script>\n",
              "        const buttonEl =\n",
              "          document.querySelector('#df-72a7e04c-4ed4-4e0a-9d98-526041ef5cbd button.colab-df-convert');\n",
              "        buttonEl.style.display =\n",
              "          google.colab.kernel.accessAllowed ? 'block' : 'none';\n",
              "\n",
              "        async function convertToInteractive(key) {\n",
              "          const element = document.querySelector('#df-72a7e04c-4ed4-4e0a-9d98-526041ef5cbd');\n",
              "          const dataTable =\n",
              "            await google.colab.kernel.invokeFunction('convertToInteractive',\n",
              "                                                     [key], {});\n",
              "          if (!dataTable) return;\n",
              "\n",
              "          const docLinkHtml = 'Like what you see? Visit the ' +\n",
              "            '<a target=\"_blank\" href=https://colab.research.google.com/notebooks/data_table.ipynb>data table notebook</a>'\n",
              "            + ' to learn more about interactive tables.';\n",
              "          element.innerHTML = '';\n",
              "          dataTable['output_type'] = 'display_data';\n",
              "          await google.colab.output.renderOutput(dataTable, element);\n",
              "          const docLink = document.createElement('div');\n",
              "          docLink.innerHTML = docLinkHtml;\n",
              "          element.appendChild(docLink);\n",
              "        }\n",
              "      </script>\n",
              "    </div>\n",
              "  </div>\n",
              "  "
            ]
          },
          "metadata": {},
          "execution_count": 43
        }
      ]
    },
    {
      "cell_type": "code",
      "source": [
        "samples_filtered_df = samples_filtered_df.query('Distance_km == '+str(distance_to_eval))"
      ],
      "metadata": {
        "id": "Zf3VmCvo3-Vy"
      },
      "execution_count": null,
      "outputs": []
    },
    {
      "cell_type": "code",
      "source": [
        "x_train, x_test, y_train, y_test = train_test_split(samples_filtered_df.values[:, 1:samples_filtered_df.values.shape[1]], samples_filtered_df.values[:, 0], test_size=0.2, random_state=111)\n",
        "\n",
        "scaler = MinMaxScaler()\n",
        "data_scaled = scaler.fit(x_train)\n",
        "\n",
        "max_scaled = scaler.data_max_\n",
        "min_scaled = scaler.data_min_\n",
        "\n",
        "x_train = data_scaled.transform(x_train)\n",
        "x_test = data_scaled.transform(x_test)\n",
        "\n",
        "model_path = \"/content/gdrive/MyDrive/Thesis_Workstation/ANN_dataset/trainedModel\"\n",
        "joblib.dump(scaler, model_path+'/scaler_vae.joblib')"
      ],
      "metadata": {
        "id": "FNAceVNQmDf8"
      },
      "execution_count": null,
      "outputs": []
    },
    {
      "cell_type": "markdown",
      "source": [
        "## encoder"
      ],
      "metadata": {
        "id": "QwejjDUbFmJm"
      }
    },
    {
      "cell_type": "code",
      "source": [
        "# Encoder\n",
        "x = tensorflow.keras.layers.Input(shape=(input_size,), name=\"encoder_input\")\n",
        "\n",
        "encoder_dense_layer1 = tensorflow.keras.layers.Dense(units=512, name=\"encoder_dense_1\")(x)\n",
        "encoder_activ_layer1 = tensorflow.keras.layers.ReLU(name=\"encoder_relu_1\")(encoder_dense_layer1)\n",
        "\n",
        "encoder_dense_layer2 = tensorflow.keras.layers.Dense(units=256, name=\"encoder_dense_2\")(encoder_activ_layer1)\n",
        "encoder_activ_layer2 = tensorflow.keras.layers.ReLU(name=\"encoder_activ_layer_2\")(encoder_dense_layer2)\n",
        "\n",
        "encoder_dense_layer3 = tensorflow.keras.layers.Dense(units=128, name=\"encoder_dense_3\")(encoder_activ_layer2)\n",
        "encoder_activ_layer3 = tensorflow.keras.layers.ReLU(name=\"encoder_activ_layer_3\")(encoder_dense_layer3)\n",
        "\n",
        "encoder_dense_layer4 = tensorflow.keras.layers.Dense(units=64, name=\"encoder_dense_4\")(encoder_activ_layer3)\n",
        "encoder_activ_layer4 = tensorflow.keras.layers.ReLU(name=\"encoder_activ_layer_4\")(encoder_dense_layer4)\n",
        "\n",
        "encoder_dense_layer5 = tensorflow.keras.layers.Dense(units=32, name=\"encoder_dense_5\")(encoder_activ_layer4)\n",
        "encoder_activ_layer5 = tensorflow.keras.layers.ReLU(name=\"encoder_activ_layer_5\")(encoder_dense_layer5)\n",
        "\n",
        "shape_before_flatten = tensorflow.keras.backend.int_shape(encoder_activ_layer5)[1:]\n",
        "encoder_flatten = tensorflow.keras.layers.Flatten()(encoder_activ_layer5)\n",
        "\n",
        "encoder_mu = tensorflow.keras.layers.Dense(units=latent_space_dim, name=\"encoder_mu\")(encoder_flatten)\n",
        "encoder_log_variance = tensorflow.keras.layers.Dense(units=latent_space_dim, name=\"encoder_log_variance\")(encoder_flatten)\n",
        "\n",
        "encoder_mu_log_variance_model = tensorflow.keras.models.Model(x, (encoder_mu, encoder_log_variance), name=\"encoder_mu_log_variance_model\")\n",
        "\n",
        "def sampling(mu_log_variance):\n",
        "    mu, log_variance = mu_log_variance\n",
        "    epsilon = tensorflow.keras.backend.random_normal(shape=tensorflow.keras.backend.shape(mu), mean=0.0, stddev=1.0)\n",
        "    random_sample = mu + tensorflow.keras.backend.exp(log_variance/2) * epsilon\n",
        "    return random_sample\n",
        "\n",
        "encoder_output = tensorflow.keras.layers.Lambda(sampling, name=\"encoder_output\")([encoder_mu, encoder_log_variance])\n",
        "\n",
        "encoder = tensorflow.keras.models.Model(x, encoder_output, name=\"encoder_model\")"
      ],
      "metadata": {
        "id": "baSVtxFWFnSX"
      },
      "execution_count": null,
      "outputs": []
    },
    {
      "cell_type": "markdown",
      "source": [
        "## decoder"
      ],
      "metadata": {
        "id": "H_dd_jcOFoBb"
      }
    },
    {
      "cell_type": "code",
      "source": [
        "decoder_input = tensorflow.keras.layers.Input(shape=(latent_space_dim), name=\"decoder_input\")\n",
        "decoder_dense_input_layer1 = tensorflow.keras.layers.Dense(units=numpy.prod(shape_before_flatten), name=\"decoder_dense_input_1\")(decoder_input)\n",
        "decoder_reshape = tensorflow.keras.layers.Reshape(target_shape=shape_before_flatten)(decoder_dense_input_layer1)\n",
        "\n",
        "decoder_dense_layer1 = tensorflow.keras.layers.Dense(units=64, name=\"decoder_dense_1\")(decoder_reshape)\n",
        "decoder_activ_layer1 = tensorflow.keras.layers.ReLU(name=\"decoder_relu_1\")(decoder_dense_layer1)\n",
        "\n",
        "decoder_dense_layer2 = tensorflow.keras.layers.Dense(units=128, name=\"decoder_dense_2\")(decoder_activ_layer1)\n",
        "decoder_activ_layer2 = tensorflow.keras.layers.ReLU(name=\"decoder_relu_2\")(decoder_dense_layer2)\n",
        "\n",
        "decoder_dense_layer3 = tensorflow.keras.layers.Dense(units=256, name=\"decoder_dense_3\")(decoder_activ_layer2)\n",
        "decoder_activ_layer3 = tensorflow.keras.layers.ReLU(name=\"decoder_relu_3\")(decoder_dense_layer3)\n",
        "\n",
        "decoder_dense_layer4 = tensorflow.keras.layers.Dense(units=512, name=\"decoder_dense_4\")(decoder_activ_layer3)\n",
        "decoder_activ_layer4 = tensorflow.keras.layers.ReLU(name=\"decoder_relu_4\")(decoder_dense_layer4)\n",
        "\n",
        "decoder_dense_layer5 = tensorflow.keras.layers.Dense(units=input_size, name=\"decoder_dense_5\")(decoder_activ_layer4)\n",
        "decoder_output = tensorflow.keras.layers.ReLU(name=\"decoder_output\")(decoder_dense_layer5)\n",
        "\n",
        "decoder = tensorflow.keras.models.Model(decoder_input, decoder_output, name=\"decoder_model\")"
      ],
      "metadata": {
        "id": "CEPnPi84FqmV"
      },
      "execution_count": null,
      "outputs": []
    },
    {
      "cell_type": "markdown",
      "source": [
        "## vae"
      ],
      "metadata": {
        "id": "cexazT7yF9Tj"
      }
    },
    {
      "cell_type": "code",
      "source": [
        "vae_input = tensorflow.keras.layers.Input(shape=(input_size), name=\"VAE_input\")\n",
        "vae_encoder_output = encoder(vae_input)\n",
        "vae_decoder_output = decoder(vae_encoder_output)\n",
        "vae = tensorflow.keras.models.Model(vae_input, vae_decoder_output, name=\"VAE\")\n",
        "vae.summary()"
      ],
      "metadata": {
        "id": "Aq1hpMP9GDAT",
        "outputId": "45259463-cd2b-43f2-a491-2da133e63a1b",
        "colab": {
          "base_uri": "https://localhost:8080/"
        }
      },
      "execution_count": null,
      "outputs": [
        {
          "output_type": "stream",
          "name": "stdout",
          "text": [
            "Model: \"VAE\"\n",
            "_________________________________________________________________\n",
            " Layer (type)                Output Shape              Param #   \n",
            "=================================================================\n",
            " VAE_input (InputLayer)      [(None, 2397)]            0         \n",
            "                                                                 \n",
            " encoder_model (Functional)  (None, 2)                 1402468   \n",
            "                                                                 \n",
            " decoder_model (Functional)  (None, 2397)              1404797   \n",
            "                                                                 \n",
            "=================================================================\n",
            "Total params: 2,807,265\n",
            "Trainable params: 2,807,265\n",
            "Non-trainable params: 0\n",
            "_________________________________________________________________\n"
          ]
        }
      ]
    },
    {
      "cell_type": "markdown",
      "source": [
        "## loss and compile"
      ],
      "metadata": {
        "id": "PBpFaQdrGKBo"
      }
    },
    {
      "cell_type": "code",
      "source": [
        "def loss_func(encoder_mu, encoder_log_variance):\n",
        "    def vae_reconstruction_loss(y_true, y_predict):\n",
        "        reconstruction_loss_factor = len(x_test)  \n",
        "        reconstruction_loss = tensorflow.keras.backend.mean(tensorflow.keras.backend.square(y_true-y_predict))\n",
        "        return reconstruction_loss_factor * reconstruction_loss\n",
        "\n",
        "    def vae_kl_loss(encoder_mu, encoder_log_variance):\n",
        "        kl_loss = -0.5 * tensorflow.keras.backend.sum(1.0 + encoder_log_variance - tensorflow.keras.backend.square(encoder_mu) - tensorflow.keras.backend.exp(encoder_log_variance), axis=1)\n",
        "        return kl_loss\n",
        "\n",
        "    def vae_kl_loss_metric(y_true, y_predict):\n",
        "        kl_loss = -0.5 * tensorflow.keras.backend.sum(1.0 + encoder_log_variance - tensorflow.keras.backend.square(encoder_mu) - tensorflow.keras.backend.exp(encoder_log_variance), axis=1)\n",
        "        return kl_loss\n",
        "\n",
        "    def vae_loss(y_true, y_predict):\n",
        "        reconstruction_loss = vae_reconstruction_loss(y_true, y_predict)\n",
        "        kl_loss = vae_kl_loss(y_true, y_predict)\n",
        "\n",
        "        loss = reconstruction_loss + kl_loss\n",
        "        return loss\n",
        "\n",
        "    return vae_loss\n",
        "\n",
        "vae.compile(optimizer=tensorflow.keras.optimizers.Adam(lr=0.0005), loss=loss_func(encoder_mu, encoder_log_variance))"
      ],
      "metadata": {
        "id": "fRXsZfDSGPVE"
      },
      "execution_count": null,
      "outputs": []
    },
    {
      "cell_type": "markdown",
      "source": [
        "## train"
      ],
      "metadata": {
        "id": "ivNkXatcXvkW"
      }
    },
    {
      "cell_type": "code",
      "source": [
        "epochs_test = [15, 50, 100, 500, 1000]\n",
        "for et in epochs_test:\n",
        "  print('Training with {} epochs ...'.format(et))\n",
        "  #early_stopping = tf.keras.callbacks.EarlyStopping(monitor='val_loss', patience=20, mode='min')\n",
        "  history = vae.fit(x_train, y_train, epochs=et, batch_size=32, shuffle=True, validation_data=(x_test, y_test), verbose=0) # , callbacks=[early_stopping], \n",
        "\n",
        "  plt.plot(history.history['loss'])\n",
        "  plt.plot(history.history['val_loss'])\n",
        "  plt.title('model loss epochs {} distance {}'.format(et, distance_to_eval))\n",
        "  plt.ylabel('loss')\n",
        "  plt.xlabel('epoch')\n",
        "  plt.legend(['train', 'test'], loc='best')\n",
        "  plt.savefig(path+\"/Spectrum/attack_vae/loss_plots/VAE_loss_epochs_\"+str(et)+\"_distance_\"+str(distance_to_eval)+\".png\")\n",
        "  plt.show()\n",
        "\n",
        "  # save autoencoder\n",
        "  encoder.save(path+\"/Spectrum/attack_vae/autoencoder/VAE_encoder_epochs_\"+str(et)+\"_distance_\"+str(distance_to_eval)+\".h5\") \n",
        "  decoder.save(path+\"/Spectrum/attack_vae/autoencoder/VAE_decoder_epochs_\"+str(et)+\"_distance_\"+str(distance_to_eval)+\".h5\") \n",
        "  vae.save(path+\"/Spectrum/attack_vae/autoencoder/VAE_epochs_\"+str(et)+\"_distance_\"+str(distance_to_eval)+\".h5\")\n",
        "\n",
        "  print('------------------------------------------------------')"
      ],
      "metadata": {
        "id": "mFC__rFPGdyq",
        "outputId": "f8cd6fab-680d-4b41-b925-4ef80fed1787",
        "colab": {
          "base_uri": "https://localhost:8080/",
          "height": 1000
        }
      },
      "execution_count": null,
      "outputs": [
        {
          "output_type": "stream",
          "name": "stdout",
          "text": [
            "Training with 15 epochs ...\n"
          ]
        },
        {
          "output_type": "display_data",
          "data": {
            "text/plain": [
              "<Figure size 432x288 with 1 Axes>"
            ],
            "image/png": "[encoded data removed]"
          },
          "metadata": {}
        },
        {
          "output_type": "stream",
          "name": "stdout",
          "text": [
            "WARNING:tensorflow:Compiled the loaded model, but the compiled metrics have yet to be built. `model.compile_metrics` will be empty until you train or evaluate the model.\n",
            "WARNING:tensorflow:Compiled the loaded model, but the compiled metrics have yet to be built. `model.compile_metrics` will be empty until you train or evaluate the model.\n",
            "------------------------------------------------------\n",
            "Training with 50 epochs ...\n"
          ]
        },
        {
          "output_type": "display_data",
          "data": {
            "text/plain": [
              "<Figure size 432x288 with 1 Axes>"
            ],
            "image/png": "[encoded data removed]"
          },
          "metadata": {}
        },
        {
          "output_type": "stream",
          "name": "stdout",
          "text": [
            "WARNING:tensorflow:Compiled the loaded model, but the compiled metrics have yet to be built. `model.compile_metrics` will be empty until you train or evaluate the model.\n",
            "WARNING:tensorflow:Compiled the loaded model, but the compiled metrics have yet to be built. `model.compile_metrics` will be empty until you train or evaluate the model.\n",
            "------------------------------------------------------\n",
            "Training with 100 epochs ...\n"
          ]
        },
        {
          "output_type": "display_data",
          "data": {
            "text/plain": [
              "<Figure size 432x288 with 1 Axes>"
            ],
            "image/png": "[encoded data removed]"
          },
          "metadata": {}
        },
        {
          "output_type": "stream",
          "name": "stdout",
          "text": [
            "WARNING:tensorflow:Compiled the loaded model, but the compiled metrics have yet to be built. `model.compile_metrics` will be empty until you train or evaluate the model.\n",
            "WARNING:tensorflow:Compiled the loaded model, but the compiled metrics have yet to be built. `model.compile_metrics` will be empty until you train or evaluate the model.\n",
            "------------------------------------------------------\n",
            "Training with 500 epochs ...\n"
          ]
        },
        {
          "output_type": "display_data",
          "data": {
            "text/plain": [
              "<Figure size 432x288 with 1 Axes>"
            ],
            "image/png": "[encoded data removed]"
          },
          "metadata": {}
        },
        {
          "output_type": "stream",
          "name": "stdout",
          "text": [
            "WARNING:tensorflow:Compiled the loaded model, but the compiled metrics have yet to be built. `model.compile_metrics` will be empty until you train or evaluate the model.\n",
            "WARNING:tensorflow:Compiled the loaded model, but the compiled metrics have yet to be built. `model.compile_metrics` will be empty until you train or evaluate the model.\n",
            "------------------------------------------------------\n",
            "Training with 1000 epochs ...\n"
          ]
        },
        {
          "output_type": "display_data",
          "data": {
            "text/plain": [
              "<Figure size 432x288 with 1 Axes>"
            ],
            "image/png": "[encoded data removed]"
          },
          "metadata": {}
        },
        {
          "output_type": "stream",
          "name": "stdout",
          "text": [
            "WARNING:tensorflow:Compiled the loaded model, but the compiled metrics have yet to be built. `model.compile_metrics` will be empty until you train or evaluate the model.\n",
            "WARNING:tensorflow:Compiled the loaded model, but the compiled metrics have yet to be built. `model.compile_metrics` will be empty until you train or evaluate the model.\n",
            "------------------------------------------------------\n"
          ]
        }
      ]
    },
    {
      "cell_type": "markdown",
      "source": [
        "## test model"
      ],
      "metadata": {
        "id": "dj4rHj7BG0NH"
      }
    },
    {
      "cell_type": "code",
      "source": [
        "epochs_num = 100\n",
        "\n",
        "encoder = tensorflow.keras.models.load_model(path+\"/Spectrum/attack_vae/autoencoder/VAE_encoder_epochs_\"+str(epochs_num)+\"_distance_\"+str(distance_to_eval)+\".h5\", compile=False)\n",
        "decoder = tensorflow.keras.models.load_model(path+\"/Spectrum/attack_vae/autoencoder/VAE_decoder_epochs_\"+str(epochs_num)+\"_distance_\"+str(distance_to_eval)+\".h5\", compile=False)\n",
        "\n",
        "encoded_data = encoder.predict(x_test)\n",
        "decoded_data = decoder.predict(encoded_data)"
      ],
      "metadata": {
        "id": "_Jm1CecgG3rf"
      },
      "execution_count": null,
      "outputs": []
    },
    {
      "cell_type": "code",
      "source": [
        "inverted_decoded_data = scaler.inverse_transform(decoded_data)\n",
        "inverted_x_test = scaler.inverse_transform(x_test)\n",
        "decoded_result = []\n",
        "\n",
        "# Adjusting data convertion and range\n",
        "cnt = 0\n",
        "for sample in decoded_data:\n",
        "  sample_decoded = []\n",
        "  delta_samples = []\n",
        "  delta_cnt = 0\n",
        "  for v in sample:\n",
        "    sample_decoded.append((v/10))\n",
        "    if delta_cnt <=50:\n",
        "      delta_samples.append(round(((v/10) - x_test[cnt][delta_cnt]), 3))\n",
        "    delta_cnt += 1\n",
        "  delta_test_decoded = np.mean(delta_samples)\n",
        "  if delta_test_decoded < 0:    \n",
        "    new_sample_decoded = [x+abs(delta_test_decoded) for x in sample_decoded]\n",
        "  elif delta_test_decoded > 0:\n",
        "    new_sample_decoded = [x-abs(delta_test_decoded) for x in sample_decoded]\n",
        "  else:\n",
        "    new_sample_decoded = sample_decoded\n",
        "  decoded_result.append(new_sample_decoded)\n",
        "  cnt += 1\n",
        "\n",
        "decoded_result = np.array(decoded_result)\n",
        "inverted_decoded_results = scaler.inverse_transform(decoded_result)\n",
        "check_plots_samples = [10]\n",
        "for cps in check_plots_samples:\n",
        "  print('----------Decoded_Original------------')\n",
        "  print(decoded_data[cps])\n",
        "  print('----------Decoded_Mod/10------------')\n",
        "  print(decoded_result[cps])\n",
        "  print('----------Inverted Decoded_Mod------------')\n",
        "  print(inverted_decoded_results[cps])\n",
        "  print('----------X_test------------')\n",
        "  print(x_test[cps])\n",
        "  print('----------Inverted X_test------------')\n",
        "  print(inverted_x_test[cps])\n",
        "  plt.plot(inverted_x_test[cps], label='original')  \n",
        "  plt.plot(inverted_decoded_results[cps], label='pred')\n",
        "\n",
        "  plt.title('Orig v Pred Sample {}'.format(cps))\n",
        "  plt.ylabel('power')\n",
        "  plt.xlabel('freq')\n",
        "  plt.legend(loc='best')\n",
        "  plt.show()\n",
        "  print('------------------------------------------------------')"
      ],
      "metadata": {
        "id": "vm5PplMV64u-",
        "colab": {
          "base_uri": "https://localhost:8080/",
          "height": 527
        },
        "outputId": "2aa55a5e-6e9e-46c8-9819-0f05b2665b98"
      },
      "execution_count": null,
      "outputs": [
        {
          "output_type": "stream",
          "name": "stdout",
          "text": [
            "----------Decoded_Original------------\n",
            "[1.376119  0.        0.        ... 1.3728728 0.        0.       ]\n",
            "----------Decoded_Mod/10------------\n",
            "[0.73102367 0.59341176 0.59341176 ... 0.73069905 0.59341176 0.59341176]\n",
            "----------Inverted Decoded_Mod------------\n",
            "[-54.77533146 -58.33876174 -58.1637022  ... -55.88650063 -58.65650506\n",
            " -60.17014862]\n",
            "----------X_test------------\n",
            "[0.1689451  0.2781684  0.48009138 ... 0.95236009 0.96324752 0.65855078]\n",
            "----------Inverted X_test------------\n",
            "[-69.47083024 -63.95298397 -60.23500229 ... -51.67834439 -53.09245393\n",
            " -58.49390386]\n"
          ]
        },
        {
          "output_type": "display_data",
          "data": {
            "text/plain": [
              "<Figure size 432x288 with 1 Axes>"
            ],
            "image/png": "[encoded data removed]"
          },
          "metadata": {}
        },
        {
          "output_type": "stream",
          "name": "stdout",
          "text": [
            "------------------------------------------------------\n"
          ]
        }
      ]
    },
    {
      "cell_type": "markdown",
      "source": [
        "## Create final modification for synthetic data"
      ],
      "metadata": {
        "id": "iamZWWsu6Ygv"
      }
    },
    {
      "cell_type": "code",
      "source": [
        "from scipy.signal import savgol_filter\n",
        "\n",
        "# Combined test samples by mean of 0.9 CI data points er columns\n",
        "combined_sample_x_test = []\n",
        "for i in range(len(inverted_x_test[0])):\n",
        "  col_val = []\n",
        "  for sample in inverted_x_test:\n",
        "    col_val.append(sample[i])\n",
        "  ci_lower, ci_upper = st.t.interval(alpha=0.90, df=len(col_val)-1, loc=np.mean(col_val), scale=st.sem(col_val)) \n",
        "  col_val = np.array(col_val)\n",
        "  col_val = col_val[ (col_val > ci_lower) & (col_val < ci_upper) ]\n",
        "  \n",
        "  combined_sample_x_test.append(np.mean(col_val))\n",
        "\n",
        "# Combined decoded samples by mean of 0.9 CI data points er columns\n",
        "combined_sample_decoded_results = []\n",
        "for i in range(len(inverted_decoded_results[0])):\n",
        "  col_val = []\n",
        "  for sample_col in inverted_decoded_results:\n",
        "    col_val.append(sample_col[i])\n",
        "  ci_lower, ci_upper = st.t.interval(alpha=0.90, df=len(col_val)-1, loc=np.mean(col_val), scale=st.sem(col_val)) \n",
        "  col_val = np.array(col_val)\n",
        "  col_val = col_val[ (col_val > ci_lower) & (col_val < ci_upper) ]    \n",
        "  combined_sample_decoded_results.append(np.mean(col_val))\n",
        "\n",
        "combined_sample_decoded_results = savgol_filter(combined_sample_decoded_results, 7, 3)"
      ],
      "metadata": {
        "id": "_urBVWcT6Wz1"
      },
      "execution_count": null,
      "outputs": []
    },
    {
      "cell_type": "code",
      "source": [
        "print(combined_sample_decoded_results)"
      ],
      "metadata": {
        "colab": {
          "base_uri": "https://localhost:8080/"
        },
        "id": "EudYYD6sVpFt",
        "outputId": "265c85c3-c9d7-470c-b62d-4968ff2f7b32"
      },
      "execution_count": null,
      "outputs": [
        {
          "output_type": "stream",
          "name": "stdout",
          "text": [
            "[-56.76101641 -59.22427959 -59.98573224 ... -57.91286958 -59.36579981\n",
            " -61.94829834]\n"
          ]
        }
      ]
    },
    {
      "cell_type": "code",
      "source": [
        "print(combined_sample_x_test)\n",
        "print(combined_sample_decoded_results)\n",
        "plt.plot(combined_sample_x_test, label='original')\n",
        "plt.plot(combined_sample_decoded_results, label='pred')\n",
        "\n",
        "plt.title('Orig v Pred Sample {}'.format(cps))\n",
        "plt.ylabel('power')\n",
        "plt.xlabel('freq')\n",
        "plt.legend(loc='best')\n",
        "plt.show()"
      ],
      "metadata": {
        "id": "NjHtwNci9Atf",
        "colab": {
          "base_uri": "https://localhost:8080/",
          "height": 373
        },
        "outputId": "b8241ccd-12f2-48b6-9e9b-acf3dd17f510"
      },
      "execution_count": null,
      "outputs": [
        {
          "output_type": "stream",
          "name": "stdout",
          "text": [
            "[-59.764787128488, -59.926651610002246, -60.69784528812719, -60.539361819263036, -58.89255621791224, -57.96189579926683, -57.774972279788216, -59.668212142923366, -59.71106135808736, -59.46722298533744, -60.91408526312942, -60.55618035720494, -58.995463982075684, -58.916175350694246, -60.43561102403802, -59.08863538348017, -58.19729117872706, -57.921039323261546, -58.53827919456596, -59.46668809148053, -57.78689572398485, -57.92550278463549, -57.83749884925871, -59.173716865038855, -60.75644655913222, -60.83404694871823, -59.52032118951413, -60.46582988178384, -61.57063253034806, -58.17204800821927, -58.15405551591926, -59.35427437479895, -60.1412272935191, -59.6088445062083, -58.92813820434687, -60.21633672094457, -59.20590879625975, -60.001931367039084, -58.777706468474356, -57.893613198471364, -58.76577955833063, -59.822887709716895, -59.57360911223866, -58.558903109627224, -57.89366373121028, -59.188637120740424, -59.03713181827548, -59.2730931861961, -60.59320156960098, -59.93953266869412, -59.92192844869985, -60.17436137057247, -59.66444205458473, -59.326983230846075, -60.07887162161463, -60.7978517569326, -60.35853723112391, -58.23980808673157, -56.98688642573342, -57.73263332406718, -59.53274153315939, -61.454533528477, -60.26442046027734, -59.05412547925517, -59.385373731203785, -58.63599605095404, -57.90461284800401, -59.74135431325103, -59.41444518719018, -58.661162086037145, -58.098705219641865, -58.5557443939649, -58.72182843562939, -59.03421573625957, -59.50424267591436, -60.77875173436835, -60.80736858054881, -59.926056526026436, -59.55374611344877, -60.34189025731472, -58.50548111000936, -59.059969993897845, -59.162556733308634, -60.39102878703588, -58.40721534238213, -59.11907331706226, -59.91121878548759, -59.9975340287854, -59.537268728458955, -58.848337221622145, -58.52352708204861, -59.94975532410511, -59.90590888769951, -60.5807435932389, -59.25743404848194, -60.86019252174575, -59.29350880649059, -59.33468088429254, -60.52433106402161, -60.63695543060376, -60.266692671632015, -59.655195514387756, -60.10392645955265, -59.958744659205706, -60.372666462925636, -59.345098949732446, -58.86552541823648, -59.89084295478073, -59.308268289053814, -60.516832035494545, -61.21160891451196, -61.80489639430499, -55.53449034759859, -50.10517508868014, -43.992070867116674, -43.34427936754528, -42.14338146709189, -39.62383105777592, -36.632587228700764, -33.95135525772692, -33.650369730170766, -33.78959793170736, -31.740284538152963, -31.506132841235175, -30.51790888661579, -30.52078653553031, -28.238226065386705, -28.012165077029408, -27.813313071805325, -26.743784309873515, -25.967730200382526, -24.55248794824319, -24.574413656461093, -24.79160590163719, -24.372953127539606, -24.71394235785487, -25.17253734444211, -24.868067111432268, -23.964516561240533, -22.470846868213837, -22.0223809285039, -21.96575394141582, -22.602751073457476, -24.29231972122163, -23.548100686706423, -21.993902211731232, -20.443836969803876, -20.72355326808973, -20.958550275929916, -20.36163552697912, -20.056361551012184, -21.83107867474388, -20.38716353630692, -18.838869531013824, -19.34126426678199, -18.71378252656531, -18.592183993790613, -17.30593981297464, -17.29907868636498, -17.05683619704577, -18.447079884499765, -17.807165288926566, -16.39862433832528, -15.516121770551385, -17.92764785049161, -17.151254862585496, -18.083925945761678, -15.837546444841104, -16.23860827159447, -16.643312360774903, -16.143584353314264, -15.774917705284016, -16.00112152058742, -16.022980674145362, -15.224568863227265, -13.89181017533574, -13.829417561188313, -14.19036729741445, -14.071299092301249, -15.911622003920067, -14.60907760345153, -13.937235419363104, -12.599839288722558, -14.128895354880514, -14.683495177641097, -14.766047384917862, -15.489569775866624, -15.56577355449256, -14.63772807849967, -13.939756338672229, -14.362701823290935, -13.371744267951819, -12.53189449829308, -12.298104404118876, -12.780495249040012, -13.050474721123772, -12.598856847793625, -12.59405170928669, -12.59098764769788, -12.149065161761772, -12.036106550812713, -12.794189645147197, -12.825742596270501, -14.180025332954076, -13.88013903891648, -11.840922585034654, -12.340403733398862, -13.302310850548636, -12.264162131169256, -12.329301511441129, -12.380318371272947, -12.332529766478913, -12.114847987020424, -11.087670492597153, -11.401150977275735, -12.681009418159531, -12.44500499435417, -12.752424167076802, -12.02576867418296, -13.773284841598961, -13.517196311782705, -12.430551805103589, -12.11119773877355, -12.30487065389766, -12.204329809890709, -11.876769406051926, -11.526867634496545, -11.816425655275719, -11.950750834488456, -12.405414100993644, -13.826041199336043, -13.224590054263833, -13.256812837633182, -12.73040147075209, -12.61701296369361, -13.11744476719924, -14.059550535864217, -12.578366208496105, -11.96280763375997, -11.654660112968127, -11.45947379373998, -13.110257554965775, -12.296117148950994, -11.065413168742747, -11.44690065570716, -12.020766127963086, -12.513301513077327, -12.032678512101667, -12.100478705305846, -12.871827092656677, -12.474427870743805, -11.731604777085293, -10.842980469872145, -9.933305760140078, -9.308467670187863, -11.21070569843514, -13.463390293813868, -12.28670818547801, -12.010923499233014, -11.998719851328355, -12.874125984209629, -12.210499864730783, -12.100331765856847, -11.71904257115878, -11.91815819319056, -11.160453958948418, -10.878284429510298, -11.588451743264967, -11.653757113743065, -11.00658094793218, -11.038385107421202, -11.456800059308245, -12.99152803312354, -11.97076746991656, -13.08113287264184, -11.9791515474315, -12.27335809206096, -12.06932728394291, -11.145850292727598, -11.566526928490227, -11.568834739578724, -11.625203105987564, -11.127605396151234, -12.341826981064266, -13.036810848344444, -11.802172879017752, -11.611935306580685, -11.049536634762891, -12.577992212677769, -12.927818736985524, -10.818935805156356, -11.85847032497762, -11.780284879622672, -11.585039829087371, -10.27000312668899, -12.712914595416125, -12.568187571275113, -11.599992811796564, -11.04867549211402, -11.569803669087142, -10.074819160134098, -10.92146997025981, -11.075864437749715, -11.86075071637601, -12.225553592206255, -11.082308263956463, -10.068545804243941, -13.404307397140146, -14.030299616520022, -13.330057432051207, -12.404029032203725, -10.547403980409836, -12.609017272763293, -11.525734710989237, -11.707428805375715, -11.735810474483928, -11.345641849484755, -11.427631802592591, -10.534339200028025, -11.317087038764164, -12.60187553519706, -11.71546921740675, -10.674003990289535, -10.330816125778547, -10.881230652522078, -11.7614967855309, -11.993311879447381, -13.359957733854893, -12.794764043146575, -12.067795420852537, -10.498173019780543, -10.881971313121118, -10.425257925678206, -11.584100860461184, -12.170692622946003, -12.08139911194838, -12.294305031151547, -10.489206277279402, -11.185446631602794, -10.726218557624648, -12.65458961004667, -11.368000407058224, -11.613446184094101, -12.420690176829988, -12.384887233108545, -11.297183257828205, -10.307853654022106, -11.950151760097341, -11.415554896680716, -10.624855783580946, -11.04503815996463, -11.921864486358922, -12.881200864534323, -12.841289097842058, -11.438061561123, -12.121673058601445, -11.6736960724864, -11.234561143088989, -9.962436187005922, -9.673395343466552, -10.928680334735636, -11.428654288470621, -11.773865355328315, -13.30449395813524, -13.378182316340538, -11.449027742296973, -10.583918398526675, -9.582424792751643, -8.767897846748179, -9.446501072187921, -10.827765836118482, -12.201373796082583, -12.277684660137506, -11.374646765886615, -12.862376762362564, -12.937648793283179, -12.132934860425708, -11.719335267017327, -12.10380348967759, -12.85991130916353, -12.820227261642737, -11.387483665400037, -10.387190303990735, -10.686725775019188, -10.956181650810011, -11.578507030709568, -13.02991925849803, -13.720791171511786, -12.422392339852394, -11.10469640814541, -10.437518841814565, -11.23240658031465, -12.934064049284096, -11.606157186842381, -12.693383661271865, -11.683216979735272, -12.175295099268897, -11.649497916184082, -12.262231024442963, -12.010636810754896, -12.224813546887633, -11.989364219085575, -11.230853782683997, -11.401579899760783, -12.874181094894336, -13.812292835200177, -12.446165834358615, -11.3315673154477, -11.365182345097843, -11.154538066476364, -11.430526213715012, -10.749048237672351, -9.385870775587632, -10.601904834973835, -11.606106862868916, -11.418165111876547, -11.185420538419635, -12.0729990521386, -13.231325472709887, -12.671303420999905, -12.896938774711069, -12.736331518956755, -12.151758341232538, -11.420550707495384, -11.816450002988365, -12.479732794031223, -12.577855715411797, -11.831327668705752, -11.983018964229903, -12.309776922630613, -11.662835002758634, -11.862592217140142, -10.445154839298198, -13.0111283504344, -11.010297362510604, -11.909578612199104, -10.652600998451634, -10.610122673993132, -10.043662925590032, -11.060164037801133, -11.395154537815758, -10.7189553177996, -12.12119682029117, -13.342336821629518, -12.112992444693047, -11.364456032685718, -12.199642235114919, -11.753896665713699, -12.09744343289213, -10.5960090270025, -11.854438043221736, -12.559213102265002, -13.638976822654534, -12.276816143154011, -12.900297336058415, -12.471685673724195, -12.212208829728375, -12.183641543846386, -12.843569227812504, -12.46093222967235, -11.869009322558867, -13.472639815816821, -13.073644802823761, -10.05367327283451, -11.10310151557198, -11.804108720865003, -11.246400769398695, -9.890325263944668, -11.338447132953897, -12.027705521845178, -12.78305346397912, -11.619537172558356, -11.720561427864745, -10.931211069495921, -10.974132092576557, -10.545566298230499, -12.382652511501613, -11.336477223458337, -10.977041732856211, -11.191772593986823, -11.901149176004548, -11.00809485803972, -11.62822565589774, -11.116880882652069, -11.727535562106164, -12.454336738859922, -12.662427573074353, -11.008900733056253, -12.000528769524161, -11.653694225021304, -10.97308427531962, -11.094692215561588, -11.430376610593541, -10.770785007920546, -10.98203859425466, -11.860882200265538, -10.634309035787531, -9.761952425531138, -9.626387803107592, -10.236433641368839, -11.67563597956891, -11.604354037024972, -11.86427655014938, -10.524204508433968, -11.038637820029738, -12.624549444057394, -13.78731789481484, -12.027290627378743, -13.660417026906128, -11.752221872118685, -12.50295125005112, -10.520217886921834, -11.549332007432715, -10.116110435673873, -10.894896630184732, -11.592002617645582, -12.866636095316556, -12.402627880702823, -10.352696210517623, -12.333927878744063, -12.443226330210692, -9.863062943574006, -8.14820781658251, -9.020145000388672, -10.48975254354492, -11.412628229943644, -10.105420117129313, -11.470559459342573, -11.204796746013322, -12.972162490354528, -12.923943124821673, -11.442362722008895, -11.82465119851522, -12.160136128298383, -11.267520096011241, -11.191380497526211, -11.825337493048702, -12.12063630323796, -12.024555545636076, -11.997283443874545, -10.620096624445694, -9.491723142949311, -11.022504889869394, -11.532511646980575, -11.546080727628274, -11.460716728944666, -11.622536954063074, -10.881508704117255, -10.380702028301513, -11.829232033196377, -11.823536606560967, -10.407933727646457, -11.38102096315444, -12.184219110524168, -11.90826359111263, -9.730180049545021, -10.045660756927472, -10.898648349451053, -12.084709138493057, -12.84825352025276, -11.81373312629073, -10.531192644684243, -10.768699728906146, -12.052415405121858, -12.255921765780668, -10.65832674244721, -12.016423371802917, -12.36416036637759, -12.651441978101063, -11.153642978990007, -11.15864769244267, -11.938650875774519, -11.022760718535789, -10.472964633039812, -11.026023706110683, -11.055591844038743, -12.55014919379277, -11.437535700549565, -11.50500675777404, -11.613441392587998, -12.82498705415289, -12.274295324622488, -11.871735760541865, -11.874631758368244, -12.073818906545679, -11.606702364288852, -11.003589122160724, -11.510084978284596, -11.816907834625518, -11.9160494134853, -9.918511819503191, -9.62988496639681, -10.504933660075375, -12.594446558727011, -10.761438037337395, -11.141669916197474, -11.840335506670069, -12.477396775096809, -11.558936654951136, -12.000536515484185, -12.418018454074543, -13.908979009711445, -13.177791267993522, -13.275579998694923, -10.427794217067415, -11.611144655126935, -10.486156663535022, -12.063825941022868, -11.45341376087228, -12.24671728362799, -11.88589370238934, -11.322082738874338, -11.764334644483396, -11.102344595133586, -11.32293553929854, -11.032259470208079, -12.612029862177172, -12.660808540338428, -12.301283577907014, -10.516958982461906, -10.60232146793759, -11.945896966452672, nan, -12.212977345386829, -10.680203570797376, -12.298206288216852, -13.026189564380399, -12.619803186608463, -10.997435023371422, -11.030806328747746, -11.090571910990851, -9.258357448297584, -10.602220076753818, -11.560894658233389, -12.99902131589215, -12.925630401013471, -12.328926767651073, -12.127710046337548, -12.182505600848511, -12.373090816640769, -13.259745080421883, -12.76667024563318, -11.494492013672145, -13.205585644012503, -12.422700109720356, -10.056360412032761, -9.37302213950433, -11.163165318130522, -12.18287460521644, -11.267874077623235, -10.631166924451616, -11.553302943668582, -10.128050357619966, -9.53095689761902, -10.028986550233526, -12.762579918529518, -12.24554186324206, -10.355319588891593, -10.476866747528188, -12.308747540305907, -12.862589743764989, -11.408485095063938, -10.533280356311034, -11.896851195725938, -12.962859005421414, -12.292922431691013, -11.642368562272251, -12.618711124358876, -11.37300643238816, -12.419976356539353, -11.335599825865584, -11.661019811620541, -11.454454663095342, -13.137944676248225, -10.706845183825166, -9.868092532038423, -9.45829351793097, -10.262078041588632, -10.791054283267714, -11.376749914172235, -11.284192946806895, -11.046062985612737, -10.352547965529343, -11.564752204301545, -11.369860437579646, -11.840060948411093, -11.787529147619136, -12.512114293005922, -11.48050771141192, -12.410433668827261, -13.09944692701875, -11.664946725754845, -10.453897700740331, -10.223091967298716, -11.902297905780566, -11.947805020837238, -12.144930462462922, -11.616998009367412, -11.342753377171132, -11.792061491457337, -11.957229385321382, -11.471866242331862, -11.536215128259743, -10.819460696901656, -10.29090786818317, -10.997486355340273, -12.595138902524349, -12.068820801665096, -11.602774710613122, -10.93249758170233, -11.458327690509368, -11.552937503881994, -12.225208553942775, -12.144418249586666, -11.442874582829587, -10.801779637602145, -11.203069262767645, -9.94803897474446, -11.70986823086447, -11.802405466101568, -12.261303747506812, -12.316919159454498, -10.81068972526713, -12.486729136239791, -11.971170985728904, -12.401420780225788, -11.944822530852324, -11.684875827120075, -11.701207666264667, -11.262573534378419, -10.685163468329515, -11.62648143342644, -12.507814361482474, -11.667141942268703, -9.028877618028163, -11.14591968154466, -10.353191478903426, -10.999740185458352, -12.212422498143674, -11.910292062798154, -10.727261971546339, -10.10229299865274, -10.825059778777577, -12.007955296221636, -12.353433291238277, -12.722312090954143, -12.826102163149303, -12.504769806326737, -11.786232377134533, -11.204273372399552, -11.184566944838474, -11.463132525055972, -11.157616807983258, -10.438585687557197, -10.823198892875011, -10.899102901547408, -11.467854656474605, -12.014705917497857, -12.297828327108778, -11.863902756224624, -11.63040521631453, -10.604812764043954, -9.055816948177172, -10.212782475669442, -11.538990533260113, -11.750444981025964, -13.401272535834822, -12.372395861710496, -12.267584825872076, -10.944094021792138, -11.59188848449203, -10.776782861101644, -11.398127339020379, -12.457372847223942, -11.951433590847298, -11.047727389387191, -10.555793472165185, -13.05262479308332, -12.639377135752264, -13.33189261509846, -11.149369302843002, -11.994190209559365, -10.459400228848734, -10.31461331119314, -11.418485791025047, -12.32830182859553, -12.052396503843202, -11.696292058805335, -11.073608109808552, -10.895616503459099, -10.384427343282132, -9.697336445212201, -11.874533182167344, -11.176496936107041, -10.96761260905405, -10.894298420261332, -11.583000918069942, -10.148234444494962, -11.255217792513772, -10.05294048040595, -10.699964346488773, -10.654466349706619, -12.179286893207724, -11.910953604980774, -11.412772755455018, -11.67856454914992, -10.644074329741523, -11.515053130540764, -10.85405473809308, -11.695122367809113, -11.961491140760183, -12.896210604891566, -12.743318346857407, -10.596196361380382, -11.016074247755396, -12.980062197529888, -12.86057466071811, -11.34305519573572, -11.478263032965101, -12.062780676437349, -12.793096521583532, -10.80698805485205, -9.813482105879663, -9.629801767894019, -11.579020023252903, -10.561784263572454, -11.640503148925948, -11.302168749188318, -12.846732846868129, -10.947562761606221, -11.187477360540313, -11.561485920416528, -11.70657675830345, -11.898203127823788, -11.145871350764475, -12.03250877103876, -12.560527393740745, -11.502931603263411, -10.322928892155101, -11.97289406356793, -12.810297663607283, -10.823779024155018, -11.467543332335657, -13.569667460227219, -13.05501863491576, -12.140214987131932, -11.661920923239114, -11.300160515364846, -10.817537066917135, -11.2420717272396, -11.045877894057123, -12.618792647904083, -12.515592445567487, -11.917892555422705, -10.816136943724054, -11.47054474649491, -12.016706310740284, -11.454589443956484, -11.027130569878844, -11.210941480475638, -10.572687492818385, -10.855608127017636, -11.27024384807658, -12.213729594221073, -11.635297216230132, -11.813996090465334, -11.644037531628882, -10.688274230871832, -11.054417769431277, -11.537673830795661, -11.400002433885707, -10.658552964192348, -10.832095248514182, -11.117641811710655, -11.793095908934127, -10.779523576963744, -10.675339312268529, -11.096411033124278, -11.939907032298791, -12.761825957042781, -11.864902214929012, -12.910614507247962, -11.779150762424496, -11.360688577535726, -12.225502670892851, -11.45186246365718, -10.782162345253811, -11.769756696287173, -11.570870065203511, -11.428192784931138, -12.750262847703631, -12.029720381556508, -10.51545005515438, -10.092102498897743, -10.767700572391078, -12.221388949936225, -11.408982797908095, -11.329811536642355, -10.55294971357179, -13.061972659628063, -12.886465434050988, -12.064293209806667, -11.442154367642107, -12.117444660488024, -10.516733164230608, -12.222793922491912, -12.288205168089036, -13.315607597625688, -12.265458755519887, -10.668017642392716, -10.867102573328276, -11.340362189685594, -11.594475963171138, -11.01042962530483, -12.38776900184641, -11.153174401320541, -10.617218454948757, -11.182857316405734, -11.084367951029435, -11.335250803884572, -12.066624785015037, -12.262927171964304, -11.36883216718615, -11.021849389489574, -10.416148997337121, -10.800243911069623, -10.909542453788024, -11.970531111202567, -11.44307524073089, -11.437079795874409, -11.828706438121412, -13.003057715565925, -13.362000988273074, -12.325107396114227, -11.366393074672024, -12.137553337285086, -12.349109830531528, -13.065703539668357, -11.064397466719615, -11.598048995866815, -10.42790337248319, -10.026247708585066, -9.628741483629998, -10.27509554114768, -10.913509618388657, -10.089542603370868, -11.465112708070027, -11.478221631429005, -11.757359678595838, -10.545956062114751, -12.699287918721739, -11.506855385522508, -11.486228862484303, -12.509413979081518, -13.183687575260345, -13.021690962309483, -12.19920499734771, -11.258044433777044, -10.115109390917377, -10.32174281263771, -11.846132898254716, -13.216419911060488, -12.93444094002181, -12.201838539931538, -12.423702038811921, -10.661459241070023, -11.05628386823994, -11.432504829480823, -11.91544443341414, -9.492349679218673, -9.746285920284244, -10.557829614702921, -11.670613260197257, -11.038382393251059, -10.688747617249852, -10.699647509838735, -11.206321403069914, -11.93341409819261, -12.189426252540885, -11.432004348183614, -11.31633299241911, -10.8813061695361, -11.57087470098321, -10.50397093395167, -9.778894924032164, -10.832166771784129, -12.466869860186618, -13.053485770477542, -12.31845673749393, -10.529786849603841, -10.35527569875992, -10.893973289904192, -13.452162577583964, -12.438482489161126, -12.169072977265325, -11.070730797688, -11.064098404536999, -9.249425794566, -10.054114941961725, -11.607804002762435, -13.07852098476854, -12.580569802650906, -12.807674022496562, -10.920854600893396, -10.882331165977009, -10.777215007048937, -10.543177012808712, -10.781137532243006, -12.280402846438053, -11.066203817811097, -11.102585449632567, -10.150428185031908, -11.945441202163185, -11.426457088052102, -9.99426757151161, -9.353846200360707, -10.71327552161885, -12.965476201315617, -12.17347054198258, -11.07737094325768, -10.058182397338447, -11.240865506205637, -11.788415336191242, -12.677689924568792, -12.15575236853311, -12.018530779825237, -10.532495377217543, -10.169275797327321, -10.523206921885564, -11.299602433446067, -11.81416165944864, -11.588015153642061, -11.364978256991261, -11.690877629458418, -12.955255172675933, -12.586337562841686, -10.779439370507966, -10.138246075380017, -9.95693344027934, -9.752931875284546, -9.593656214619907, -9.7678350282987, -9.981172830491333, -10.764489470490252, -10.538767995559772, -11.655008469827225, -10.779985140983538, -10.700973327169507, -11.282028716589588, -11.321964237670375, -11.910995117737597, -12.602053717736343, -12.830311231871093, -12.31957072690518, -11.325062784996055, -10.11209014961298, -11.293647550556642, -10.846712827558793, -10.430311726196592, -10.081875291426675, -10.397279051428825, -10.59968913069304, -10.47102076740451, -11.554667585047694, -12.26063740031594, -12.494360510178797, -12.401582706861078, -11.664585168717828, -10.243509557844751, -11.015665949319201, -11.056811130887354, -11.431738925735706, -10.126042076450979, -10.758297272928699, -13.007590246059417, -11.681141095499667, -10.264585822554814, -10.966976096862947, -10.993639688241045, -11.466329914620722, -9.391041116477657, -10.400844739551061, -10.305115406256872, -11.179119827348677, -11.115734958411863, -10.877354584014558, -10.645825547468583, -10.792684808499866, -11.184490361125626, -13.285138341319103, -12.763159756585603, -12.095244221751216, -10.751623686566832, -11.621238524905165, -11.508570230511916, -11.83668081989067, -11.709212367665522, -11.977927044466574, -10.987081533626057, -10.99058688624915, -10.866078483501099, -11.919443861440465, -12.89265335773993, -11.432926657465796, -10.328708505940849, -10.43672415252513, -10.053719502387509, -11.020334792985405, -10.012880395148997, -10.233231339924297, -10.95601510804774, -12.217280780724414, -12.184186129893023, -11.623061632389408, -10.467404328109074, -10.872203830706773, -11.69647133511646, -11.481351854964535, -13.25947183366198, -10.837646236542263, -9.908069701088062, -10.486437011232947, -13.105761893428012, -11.578023796341851, -11.650277216449794, -10.974757681987121, -12.709764850522049, -11.95704409950668, -11.649452536494618, -10.959685239582399, -12.094937633600908, -12.590073026000738, -13.301083085833323, -11.564014867833869, -11.58344948501298, -11.889092698368934, -12.386156369880256, -11.874508256817464, -11.695541444003723, -10.379138192747714, -12.309461850493228, -11.445177985313585, -11.620002348619137, -12.617130061492185, -13.882531562189357, -12.043804131595396, -11.242966840182142, -11.708841366998264, -11.703742903041787, -11.531602648255088, -10.939053975459474, -9.43835809900605, -10.465418217513555, -10.013682335033623, -12.055469787946413, -12.853125144366045, -13.46309237749149, -11.858646013658483, -11.109036449249524, -10.856485505703832, -10.465187543308204, -10.01864850767524, -12.337097943786109, -12.272196977538336, -10.460746780907753, -11.294258713917989, -10.385782605938115, -11.415572308712537, -11.774402419127174, -12.70564637319807, -11.395433000680141, -10.097837874972699, -9.760263307501507, -11.240297668661956, -11.643303884326256, -10.413190729266883, -10.655265473436653, -12.056536306188253, -12.880409823289753, -11.198557592938986, -10.570940138505112, -10.244852406238394, -10.705663843327267, -10.355790476939642, -10.937266766077922, -12.627786441664684, -13.262701982467973, -12.73847721436801, -12.515926578569355, -12.895493902317638, -14.429879827329094, -12.577287636959849, -11.164883884352456, -11.341902254285783, -12.382143914618098, -12.05749674101918, -12.838199446358741, -12.359587474861355, -11.199749962318718, -12.289896104323166, -11.57158452079086, -11.242069816585126, -10.434078156579092, -11.897297373267126, -11.742498066658754, -10.842817954217272, -11.055937104055152, -11.34696010873626, -11.239178690752333, -10.685113913240343, -11.345480594832935, -12.703629885209796, -11.543943302865175, -10.704385536106372, -12.194905979724279, -11.695211834652593, -9.884594360094075, -9.449361395272238, -10.573875223627986, -12.004710758209946, -12.734930177921466, -11.44232345425426, -11.33483425399292, -12.353573235397352, -11.190689069831272, -12.52293053343676, -12.210367339904908, -12.845936623993563, -11.659552683371322, -11.798852389342823, -10.133784400150244, -10.750464161576097, -11.400351670315128, -12.826809765226267, -10.971601752008393, -11.219347354602313, -11.525453695491594, -12.027945361621786, -11.3819307891971, -12.195670163312183, -12.28079099392671, -12.772202122302952, -12.878225278158862, -12.476014698068534, -10.900888560546948, -11.813874810164922, -12.705518558491047, -11.021182368541515, -10.613134130854771, -11.785050371262912, -13.31793495643899, -12.405099835166709, -11.796113641434806, -11.85625952141783, -11.415358587475959, -11.96506992879494, -13.440998752804378, -12.189265456968224, -13.487206888572608, -13.096191337736693, -12.702971427331413, -12.740581815238183, -12.981925870624934, -13.538414373563327, -13.187824256196029, -12.677849180257796, -12.822738678355345, -13.711797508201716, -12.44093297668243, -9.970499877437982, -10.826814894672923, -12.04555384463335, -12.568753408943877, -11.892057608139732, -10.312352242206556, -10.438457971237222, -12.168405316016063, -12.906367776036838, -12.660913833940453, -11.713465334425878, -10.51855169228662, -9.9501018470802, -11.36207103667521, -10.890306259233782, -10.711116193859352, -10.679422483513962, -10.6789374675601, -12.314122063963364, -12.997390096953227, -11.745989350177718, -10.538312002479245, -11.946414706261013, -11.48404592477674, -11.12923093633406, -10.843177999170068, -11.343075380687694, -11.78882945201277, -11.141255544481973, -11.05816450447138, -11.653859824287697, -12.115349324023441, -12.503590216620685, -12.26600617846601, -12.281803603927132, -12.271682327591636, -12.065219911874495, -12.243942749020961, -9.767453843692177, -10.382079930862533, -12.4061360916062, -12.311316746291185, -11.101417894904996, -11.76376482628776, -12.048498333518173, -11.73406976370373, -11.06970557397854, -11.771847611360318, -11.273301110343965, -10.674569203945378, -11.921217806678277, -11.473693042064298, -9.983899580746554, -12.260042015996428, -13.527033152155681, -12.736495975489808, -11.346507764673296, -11.857602345672174, -12.750227736598356, -12.164750851563962, -12.024547490984189, -11.781974077225096, -11.475134142596922, -10.042923928311865, -10.603085726013884, -10.487100759586966, -12.645498343810113, -13.143434783158536, -13.284051847119224, -12.40682793900921, -12.513680326561655, -11.73043724904547, -10.919959975083477, -11.428834724430613, -12.92922259248812, -10.557024839488392, -10.070470263090048, -9.807139114020634, -11.695650742123417, -11.294077364103545, -10.823626537724156, -9.981472563037904, -11.081634903963494, -10.881700090652224, -11.760648241379872, -11.485012436010292, -11.617204259544947, -10.493825900204595, -10.482928664371439, -10.027868714302821, -10.55952138596937, -11.627310690634925, -12.298251511464318, -11.579396962219661, -12.035873387350126, -11.03309444781411, -11.110474909329099, -10.048903988054953, -10.336501263844298, -10.826509341597912, -12.528674819668481, -12.350714847791869, -10.573291274736984, -10.298962120799649, -10.837497752905435, -10.888054667811584, -12.098737919964181, -13.150094181488896, -14.553091882827664, -12.25359677690382, -12.196874893264804, -12.139336616016681, -13.210735346759828, -12.342852374305911, -12.665518216433457, -12.850063773303631, -11.496774263370773, -10.386043978556785, -10.743147989808527, -11.556387941831611, -11.48419590558499, -10.394823919441297, -11.133721406613214, -13.032410999117193, -13.405581760362706, -13.47304933472264, -12.013458339636298, -11.02640254880609, -11.735846320292941, -12.060670466252684, -12.275202503513084, -12.412296712851541, -12.745772492921398, -10.99773619791632, -10.860308687359142, -10.6286093378183, -10.915276272214397, -13.37336867413341, -12.319548637856228, -12.976620386886708, -10.239983844226531, -10.136429461796277, -10.671852708971274, -11.249670528229437, -10.206034097911848, -10.100785469247938, -10.767305095249723, -11.784222581289441, -11.168114715118847, -11.252221552340087, -11.328038936273733, -11.79423142340899, -11.896105854737817, -13.428681739854476, -12.59507133504303, -10.688149477073884, -8.932969326406205, -11.070448428759777, -10.86270663561693, -11.598203562922595, -10.65135190523792, -10.553502907656664, -10.32266941123157, -10.504291406251893, -11.859283213546153, -11.350031543424233, -10.95012792693296, -10.687704335791546, -11.009191140120851, -11.074279851052879, -10.876316641008229, -11.762260443385088, -11.341514154815231, -12.722775703029843, -13.530474735095346, -13.53208428270166, -12.053372163965141, -10.74781790891704, -11.448760462592592, -13.217456642163857, -12.429267635967847, -11.76314800538215, -9.627696693633606, -10.255297425480203, -10.689801183784652, -12.691712474904858, -10.391074243080219, -10.367085485870014, -11.000684314520868, -10.352372898478539, -11.9819481654707, -12.686460888349163, -13.649482658812797, -10.750596300774964, -11.095607185866134, -10.880396539428302, -10.988823887585541, -11.339463933330963, -11.315682141507892, -10.256767694169465, -11.076015169970509, -12.531510046603216, -12.198283732925148, -12.26600237108468, -12.580625847605548, -12.679607715067183, -12.492024586699541, -11.140410027195019, -10.741008699906905, -10.93799029776518, -11.798974323722625, -10.978045659510846, -10.6475932964043, -11.692026275307441, -11.51939074886907, -11.291428859574888, -11.161686915464132, -11.978469917512362, -11.393519921283499, -10.587411950233221, -11.054802794276139, -10.698024190137417, -10.382306095673437, -11.936177789496265, -10.397366349332687, -10.059222379558838, -10.378642781475195, -12.073079668068237, -10.749804855437972, -11.117217687313483, -11.360406951376753, -11.953758848749686, -11.541553284411686, -12.73034621681024, -12.103731449669441, -13.281605203257486, -12.277353286374971, -12.689716334140922, -11.254880692582034, -10.737817180114291, -11.32144755096851, -11.630471486221252, -10.837669588624722, -10.394337586973128, -10.001964719222238, -11.164807967539796, -10.862342322828903, -11.95904040512709, -13.222008105541988, -12.315183301457278, -10.668294107388352, -10.550130487824248, -10.814231879517724, -12.168285884594589, -11.822509405585361, -12.16061236713411, -13.074646419621203, -12.203245331746555, -10.39216344966959, -11.59430176096042, -11.983494083147436, -10.483546526597342, -9.320460651693974, -11.57072115046277, -12.234243332831428, -13.311972207255852, -12.29461406664008, -11.653876273511543, -12.999943497351293, -14.226942428823067, -14.019840873631978, -12.774694679450555, -12.590760070394962, -13.69804617746776, -13.428945872683727, -12.547448842881309, -12.547155821388765, -11.561638626563042, -10.38073845616789, -11.690123661466412, -12.1407698177034, -11.037527962595803, -10.056058432958539, -9.538109886208451, -11.333487323000119, -11.16239813209074, -12.215115834492877, -11.182832107538825, -11.248104048926926, -10.39594822475291, -11.690509131852362, -12.438697389138627, -12.45358404024244, -13.077388252158517, -11.979545721121017, -11.953653615910683, -11.155821813608114, -12.0290972027595, -11.22896061625361, -10.787425508031317, -10.890950736642672, -11.36621814786035, -11.91799673991794, -12.161724067802528, -11.295471959156256, -11.059093461127741, -10.832978076608113, -11.28406547156608, -10.699288986465316, -11.453158453900684, -12.257242676859722, -12.741659419837157, -11.39355022936879, -10.900832726629822, -10.140532493910284, -9.941323619604313, -10.827434678863087, -10.969398576335651, -11.789250417906821, -10.82917463274709, -9.732071829167793, -12.23549664098675, -13.18600191612723, -11.974672189395065, -10.815491238362714, -10.601194396927028, -10.44982747719591, -10.639596686805941, -12.232286989059872, -11.990221277841425, -12.58486803108825, -11.610576032061568, -11.31775265191379, -10.340461431947572, -11.546645406864055, -12.152071131902822, -12.978763289368583, -13.727084220994898, -11.58188202993621, -10.946172030261067, -10.66157769526818, -11.329669232902004, -11.939459181424606, -11.368806539001866, -11.339202309656608, -11.694797461530136, -12.83665771938295, -12.799246240668205, -12.208561868900832, -11.681127678571858, -11.4134695268382, -11.798043720072076, -11.645232715511849, -11.694645715063977, -10.27507781278384, -9.902576475069502, -10.011067295989635, -12.018788523054534, -12.217766424099548, -12.823904747214065, -12.06973253122227, -10.990679215261338, -11.311707132392124, -11.715194623271785, -10.697387272732458, -12.04328242788797, -10.844161004416733, -10.630593093105976, -11.840751993364847, -11.559548242230038, -10.536690889873038, -11.414671083196152, -11.873556150980338, -11.13205731772988, -10.246992848436467, -10.687984926426047, -10.832874755192925, -9.86001313857323, -11.109579180547568, -11.53328686117251, -13.22641056313521, -10.317167320852207, -11.15409630908674, -10.31743567337706, -11.448452983181179, -10.03155587688847, -9.791984499991814, -11.12626098134275, -11.881408482307467, -11.173474741114187, -10.377328487257225, -12.177628365771056, -11.544340398864476, -10.703094981966096, -10.164230107299616, -11.258418039646852, -11.400302839382075, -11.510657564354217, -11.251894633898914, -10.44128993585379, -11.539886274075165, -11.439605045780786, -10.550293845724415, -9.763591169736188, -9.676966548982993, -12.586500371725624, -12.48816228737254, -10.638950393504295, -10.797730814560033, -10.75136513534494, -10.734064312784252, -11.705456194046773, -12.507261504831106, -11.508035524367006, -10.103540925985527, -10.176665008629284, -9.984072498493443, -10.16752131965757, -10.439678392294095, -11.03310533685004, -12.564680055579727, -12.092497357577384, -11.640003151526685, -12.940835817160153, -12.903044343205337, -11.5012936965839, -11.285715273001932, -11.328391168785434, -10.33781379866846, -10.810283106320854, -12.328926260645703, -12.678884825292243, -12.445586257220002, -12.405838544442977, -11.783034004616491, -12.63595703029984, -13.37455441752927, -13.853318082978177, -12.197862067536153, -10.80561723151585, -10.102777373346242, -10.034560215360127, -9.772268956219703, -11.449608926649436, -12.15246613827374, -10.468670195556554, -11.032534059163423, -9.840921116602097, -9.848411610349213, -10.378754494822541, -10.614878711589572, -10.899294859003092, -10.928467610872284, -11.149485469118293, -11.30484204408, -12.26556878327833, -13.190025993638168, -13.602905702951961, -11.996855494637584, -12.805502625008131, -11.222304000492054, -11.784180865300101, -10.459582308792875, -11.288970842919154, -11.518302110652458, -12.495770516910618, -11.283455991826557, -11.642831803692742, -11.28067760966096, -13.43155352887834, -12.189460097059653, -11.699713296696048, -12.096380675457405, -11.188335162138598, -11.201838213215321, -10.933197304860897, -11.241376878488094, -11.907321676761244, -14.542190206666296, -12.883087993776007, -11.398873532101284, -11.074639581438268, -12.262443089285055, -10.922510435997745, -9.836213189674606, -11.35173486332251, -10.761456817920951, -11.74963481709234, -11.692686316695998, -11.472581084598616, -10.755158708416147, -10.436144274044352, -11.051275444536696, -12.387860255695426, -11.09806618962442, -10.509503835157592, -10.661243124756709, -11.096951233196023, -11.194692584742588, -11.276360864738031, -10.958174313642829, -12.233939232862976, -13.8583052113249, -13.381414668062789, -11.74904779257186, -12.122035971623154, -13.163144028638511, -12.39387137072652, -12.472796457261456, -12.065653519518577, -11.173198137592923, -11.664981222896001, -11.198109005458909, -12.748914303851201, -11.058937951465769, -10.823028613044231, -11.807343727431993, -12.445383421141745, -11.760483301822855, -10.866623442317154, -11.01933149859072, -10.762529369180427, -11.858941222197293, -11.864574755855227, -11.035549589627374, -11.222350381274246, -11.96236619535387, -12.356861040768598, -13.152327490047929, -12.257178224604132, -12.145915773334837, -12.389199126518196, -11.969680624775547, -10.223009149537075, -10.134694905828779, -11.095759247466574, -11.09571619759448, -11.03630465626523, -11.169881256084187, -12.166972941259445, -11.36334560372015, -11.442892808685698, -10.537685977527378, -11.539239862537473, -10.301572805671826, -11.215702297240057, -11.451170689902993, -11.34238090092163, -11.658990197173377, -11.810448461846441, -11.964530097944003, -11.806679895556575, -13.440246293929167, -11.19248102596555, -10.890303663137571, -12.446089727957006, -13.069811492358175, -12.056087520472134, -11.212554061877762, -11.104665879724687, -10.111798243042871, -11.565653372327656, -12.396993601500382, -13.890658317679632, -13.578969194759765, -14.521661864549195, -13.112371416220665, -10.988303205109217, -11.234493399000476, -11.702649278152425, -12.127515452844518, -11.68509023171611, -12.666883105588205, -12.198390728432036, -10.253878386908276, -9.452784332554561, -12.098623648068894, -13.030987616651373, -10.580705247864294, -10.304729968658465, -10.4114693007284, -10.470623898622478, -11.126016007896268, -11.342498666451581, -10.439753658143596, -11.098414816514063, -12.29320398304836, -12.270203087791433, -12.305874765431138, -11.64406012942237, -11.313541221064813, -12.842851017656622, -12.23563261300569, -11.539510817673687, -10.909165743769341, -11.630469199998453, -11.005091399358486, -12.116943646708384, -11.809975031576808, -10.349809333720946, -11.518657707231686, -12.30458199416645, -11.00781058366172, -9.52696258153026, -9.864800849664542, -10.25489113146559, -11.019092558311641, -11.56069304876286, -10.993127044498614, -11.083122239407698, -11.185704023385465, -11.55854504392454, -12.276119664308036, -11.662613481777466, -11.678838978232513, -12.67319253235396, -11.652536333937153, -9.987108666113334, -9.459270015434214, -10.384060787287785, -10.417381458910107, -11.077310720434747, -11.345295974126104, -12.53570634000627, -11.629627988269817, -11.848325995909097, -11.010471951954699, -11.254533962568543, -10.627208246418618, -12.193579202119414, -11.440143942693055, -11.534604411674518, -11.76806903782176, -11.500383078067435, -11.88718225747025, -11.773710649076657, -11.867039121891025, -10.995679719302649, -11.343647587281364, -11.763456100534263, -11.069242730265685, -11.37583587239723, -11.398800904173669, -11.573486306233779, -11.167229767229081, -11.415473705375073, -10.250575751300596, -10.798209624987315, -10.881772556979202, -12.498714694061139, -10.828102791180763, -10.903622066382924, -11.065539422318178, -11.939012285101787, -11.68493289100109, -11.105776953929539, -11.085791763208952, -11.509387635004073, -10.692628758454441, -9.325877640112381, -10.348001585621478, -11.987758030138304, -12.419911244691782, -12.829416974155086, -12.410217942752581, -9.905448022863418, -10.385648453236627, -10.134596102063979, -12.720112108495291, -10.88482137955371, -10.23543900494411, -10.193008532370472, -11.851134720502907, -10.871470707791577, -10.897198477395063, -10.884664704320137, -10.816430000172428, -10.939652324680262, -10.378740883789291, -10.094777755084891, -10.462616059668177, -10.591711594767421, -10.194093267096767, -12.064105431230688, -11.716189301503357, -10.976869410437637, -11.086697261124517, -12.310074105532575, -12.298333633534636, -10.605724323379022, -10.117559685170855, -10.492771582330056, -11.026566745962663, -12.277684135709471, -12.085575539765218, -12.842774395638951, -12.491466406795887, -12.268671169313464, -11.012055450974612, -11.718453058527627, -11.550501699294475, -10.11645411128173, -11.041024746118755, -12.227389272774001, -11.15200948440654, -11.205994865623888, -11.240200688195316, -12.677743546203878, -11.713785504246715, -12.118240788162845, -11.295753696807823, -11.618539271254802, -11.550603146390776, -12.276757094623205, -10.405209353195, -10.028297417234434, -10.681019015549776, -11.169533067632115, -12.11338683773507, -11.445158835170924, -11.076610296099359, -11.128546233681767, -10.109634873225746, -9.260853354426056, -9.04274425570546, -11.472827709305218, -10.738301972679798, -11.947637928213522, -10.978052138022642, -12.462796996985073, -12.0253002368853, -12.146422582706561, -11.679453050666842, -11.587029014134673, -11.941557284657536, -11.895515623413473, -12.723076634757684, -12.316596761912496, -12.346827544272037, -10.423516620608998, -11.669822221679784, -12.029373192191306, -11.506757229917904, -10.829324135582008, -9.543058113817462, -10.434492536808136, -11.191107104833714, -11.054022697721612, -11.993427100283332, -12.000401115052973, -11.623647062581469, -11.45234308768283, -11.005974335782266, -9.655791405231422, -7.991872008455376, -9.77112784444142, -9.422348986597749, -11.28308273593368, -11.787707168383962, -13.798737805355305, -12.553983960998886, -12.40731141925419, -11.078122112363005, -11.777196530397788, -11.56519473998975, -11.814679381616111, -12.00483972449261, -10.61842280014829, -10.98679163404813, -10.368778811190223, -11.878994988390751, -12.747449443245467, -12.19505499415868, -10.006298292202072, -10.762334554551444, -11.16205604618886, -11.710487185230397, -10.788526221318113, -11.598407751795273, -11.710720486390851, -12.53157299378943, -10.9804621159323, -12.139676017439838, -12.73055838768763, -12.700261870309708, -11.569765069683973, -11.158439177536659, -12.104690966076564, -12.082192466441683, -13.013053930834523, -11.386529061031595, -11.51197995236051, -11.144105485429534, -11.33268856839504, -11.773921565406235, -10.977763029106251, -11.850660274541486, -10.941763884419055, -11.14030543014435, -11.656749592122493, -11.729468332797163, -11.849397585859935, -11.312206927273053, -10.677581210185265, -11.065569982904613, -11.00544949420328, -10.203082958743662, -10.204650277919335, -10.136609339703519, -10.461804366648558, -11.275190012760687, -12.08657027744484, -12.183586647140055, -10.973607095890486, -11.109179992908345, -12.5206131251785, -11.86411115395353, -10.106582364545789, -11.371569320452885, -12.953195149900996, -12.789551925835934, -11.527646163210331, -11.905588168235928, -12.762164984444006, -11.982096554245638, -10.53033826943176, -10.429510565272855, -10.389625181809944, -11.643772393640502, -11.660405897837586, -13.280860947921854, -12.267869457748981, -12.64272398127769, -10.854470899209739, -12.309416332229867, -13.750256410114156, -11.832175732509901, -11.03043673308913, -11.271966725176558, -12.415626812983353, -13.391468003895081, -11.25300709722417, -12.171336090669444, -10.756877405022635, -11.204815155432245, -11.31318595103947, -10.436120806840565, -11.513865937630149, -12.070154837856746, -12.7784361819567, -13.062994951946541, -12.995147554341433, -11.351982531750751, -12.056252252394994, -11.910516323770391, -12.186512961408306, -12.030434419109687, -12.231280068648132, -10.567476696499723, -12.107747157174206, -11.69154276036815, -11.361401472273686, -13.085376428432127, -12.535804955242915, -10.898763557670504, -11.424690604977805, -13.1869659621853, -12.56902318794418, -11.161488791241666, -12.512589691233194, -13.52204613285053, -12.979279755207182, -11.685125016135578, -11.613705350491431, -10.029314668356099, -12.042262248386834, -11.159200340978368, -11.7290466142039, -12.611737666126825, -11.544837410130052, -11.292337425921623, -11.623688065089658, -12.11183033402375, -13.626219300993853, -13.13394720260612, -11.623089421601083, -11.086056056075968, -12.060495549270565, -13.206307361038943, -12.754543275397404, -12.854985998169122, -12.948033584262681, -12.259352605459174, -11.978007549659557, -13.017372376562157, -15.226103911976075, -14.449931295809451, -12.54768754259356, -10.90696589989209, -11.907157853058845, -13.03561517979021, -11.507698163276663, -12.0925614006524, -12.262841118166321, -12.81795583975675, -11.353473121616112, -12.068224343722504, -12.266092828811576, -12.008210833015703, -11.705000103512441, -10.676497320183081, -11.24425043229482, -11.876129221312336, -11.964983502451949, -12.763885269807087, -13.618771580574535, -13.685345862875485, -13.447390651478472, -12.33162922919532, -11.597500594187968, -12.401280449558776, -13.429130339608736, -15.45005477614771, -14.71342029119713, -13.810210016102344, -12.623792635388, -13.229153243509364, -13.343611545177415, -13.569846869666511, -13.53964218336261, -15.64749957962214, -14.445938684104693, -13.449324832661276, -14.03860868063644, -13.724679714836409, -13.877223974261227, -12.86494373454333, -13.20518595840006, -13.244939721389096, -15.138537070024134, -14.574428182701169, -13.37792922580488, -12.785061904544815, -15.417290639127149, -14.949233517276486, -16.14575580049506, -14.20752729847511, -14.880993264184559, -15.523783330972966, -15.329920658192068, -15.202242329520406, -15.74235462523066, -16.213698134593812, -15.467040974150803, -14.39408023392551, -14.621868474816736, -15.219643936872947, -15.416523777079558, -17.13863179114081, -16.722047552909544, -16.05483401211951, -15.234354969558916, -16.79850900792308, -17.63151556575626, -18.00571783689389, -19.049088953480556, -19.256736943486967, -18.713337454166, -18.348263211400884, -19.02682841616272, -18.306048101383094, -17.795380282707853, -17.81792844739271, -18.67291272301024, -19.297326002609488, -19.78286447058703, -19.090121519169323, -19.49769774831878, -19.63077736126061, -19.82330166640163, -20.979296420144223, -21.422234334629557, -23.032072057445962, -23.077344345160515, -21.428407499580153, -22.302232696680832, -23.608688336692204, -22.97992753881531, -23.490977005945975, -23.942467980918448, -24.31458859038376, -24.53601590936057, -24.112706561894175, -24.81696586175949, -26.021286466306876, -26.936791660079553, -27.78113546582253, -27.615629850892176, -29.30107260023549, -30.12796670668117, -30.113157816290908, -30.567274303649864, -31.579979425510125, -32.061922935833515, -32.21103547982386, -33.249475160126565, -35.57026634357852, -37.2289082596429, -39.53434121740016, -40.99947194639368, -43.00114628660621, -46.52718374621752, -50.132280769593464, -55.549847413597696, -58.70051187816325, -60.00532582308952, -58.512148448774816, -58.697738887049624, -58.82572984793591, -60.7326543686919, -59.082744396601896, -59.0771952723358, -59.21063981797563, -58.50870424262456, -56.732770513201125, -58.35112328889354, -58.85785837084526, -58.94148634305146, -59.99903265192381, -59.813385109782644, -59.48111931734737, -59.65481819944769, -60.500985259359794, -59.98833810325619, -59.30508462979509, -59.60338511859436, -61.62855603595079, -60.46502483043791, -59.35556417278501, -59.17748023246324, -58.135787451265, -59.21233778773336, -58.510440229004466, -58.987523885994406, -58.86689447076797, -60.53355887479776, -61.12147141141807, -59.8374173133461, -58.832939822910404, -57.43982147244663, -60.48176759032585, -59.844325749188215, -60.48475204419112, -61.428170696871355, -61.238692956559966, -60.374051084671656, -59.11809078731482, -58.591659497017545, -58.293535155032565, -58.714432500763046, -59.50570385957583, -60.27646355375017, -60.06185061157873, -60.17415002411775, -57.64816971138614, -58.01058207603745, -58.402545029219866, -59.1483918190469, -59.0278346667067, -58.34351840125799, -59.12416829411236, -60.999315857724724, -60.334490308120884, -59.62771576315465, -59.80745769104574, -59.21932785774491, -60.41298127349085, -60.16646745313691, -59.81644819596793, -59.111615269645476, -59.79466517960469, -60.11528803265625, -59.768249793807485, -59.589574333280616, -58.76749377298895, -57.179629966556405, -57.89833728558798, -58.061796980256815, -58.9405022819425, -60.01799009916057, -60.23133613291299, -60.479983827218405, -60.210093343223065, -60.026718832077954, -59.81544187047907, -60.44152023014152, -59.471375170536575, -59.06206378518983, -58.42341763643992, -59.857850976688006, -60.4922925181383, -61.100952683104154, -59.822439551580274, -59.49789961711745, -58.53210647249996, -58.362635876366504, -58.197148543427, -59.39124810724363, -58.66472512267202, -59.02239699037798, -58.96330500672895, -59.92801258459879, -59.28050594272567, -59.84902341948966, -59.665576074404385, -58.46260502559008, -58.34321048279317, -59.896356489575886, -59.90682045589698, -60.09324301358625, -59.2986110919584, -58.595027971616005, -58.52870615902024, -59.40110041026229, -59.81630091512626, -58.71693221993288, -58.93474738070195, -59.724197942511104]\n",
            "[-56.76101641 -59.22427959 -59.98573224 ... -57.91286958 -59.36579981\n",
            " -61.94829834]\n"
          ]
        },
        {
          "output_type": "display_data",
          "data": {
            "text/plain": [
              "<Figure size 432x288 with 1 Axes>"
            ],
            "image/png": "[encoded data removed]"
          },
          "metadata": {}
        }
      ]
    },
    {
      "cell_type": "markdown",
      "source": [
        "## Generate sample data"
      ],
      "metadata": {
        "id": "xXGKpn7qhAjH"
      }
    },
    {
      "cell_type": "code",
      "source": [
        "def get_vae_moded_data(samples_filtered_df, encoder, decoder, num_sample_to_generate = 30, epochs_num = 100, distance_to_eval = 80, sensitivity=2):\n",
        "  import random\n",
        "  from scipy.signal import savgol_filter\n",
        "\n",
        "  encoder = tensorflow.keras.models.load_model(path+\"/Spectrum/attack_vae/autoencoder/VAE_encoder_epochs_\"+str(epochs_num)+\"_distance_\"+str(distance_to_eval)+\".h5\", compile=False)\n",
        "  decoder = tensorflow.keras.models.load_model(path+\"/Spectrum/attack_vae/autoencoder/VAE_decoder_epochs_\"+str(epochs_num)+\"_distance_\"+str(distance_to_eval)+\".h5\", compile=False)\n",
        "\n",
        "  samples_filtered_df = samples_filtered_df.query('Distance_km == '+str(distance_to_eval))\n",
        "  samples_genrated = []\n",
        "\n",
        "  col_headers = samples_filtered_df.columns.values.tolist()\n",
        "  col_headers = col_headers[1:]\n",
        "\n",
        "  for generate_sample_cnt in tqdm(range(0, num_sample_to_generate)):\n",
        "    # Load dataset\n",
        "    x_train, x_test, y_train, y_test = train_test_split(samples_filtered_df.values[:, 1:samples_filtered_df.values.shape[1]], samples_filtered_df.values[:, 0], test_size=0.2, random_state=111)\n",
        "\n",
        "    scaler = MinMaxScaler()\n",
        "    data_scaled = scaler.fit(x_train)\n",
        "\n",
        "    max_scaled = scaler.data_max_\n",
        "    min_scaled = scaler.data_min_\n",
        "\n",
        "    x_train = data_scaled.transform(x_train)\n",
        "    x_test = data_scaled.transform(x_test)\n",
        "\n",
        "    # predit\n",
        "    encoded_data = encoder.predict(x_test)\n",
        "    decoded_data = decoder.predict(encoded_data)\n",
        "\n",
        "    decoded_result = []\n",
        "    # Adjusting data convertion and range\n",
        "    cnt = 0\n",
        "    for sample in decoded_data:\n",
        "      sample_decoded = []\n",
        "      delta_samples = []\n",
        "      delta_cnt = 0\n",
        "      for v in sample:\n",
        "        sample_decoded.append((v/10))\n",
        "        if delta_cnt <=50:\n",
        "          delta_samples.append(round(((v/10) - x_test[cnt][delta_cnt]), 3))\n",
        "        delta_cnt += 1\n",
        "      delta_test_decoded = np.mean(delta_samples)\n",
        "      if delta_test_decoded < 0:    \n",
        "        new_sample_decoded = [x+abs(delta_test_decoded) for x in sample_decoded]\n",
        "      elif delta_test_decoded > 0:\n",
        "        new_sample_decoded = [x-abs(delta_test_decoded) for x in sample_decoded]\n",
        "      else:\n",
        "        new_sample_decoded = sample_decoded\n",
        "      decoded_result.append(new_sample_decoded)\n",
        "      cnt += 1\n",
        "\n",
        "    decoded_result = np.array(decoded_result)\n",
        "    inverted_decoded_results = scaler.inverse_transform(decoded_result)\n",
        "\n",
        "    # Combined decoded samples by mean of 0.9 CI data points er columns\n",
        "    combined_sample_decoded_results = []\n",
        "    for i in range(len(inverted_decoded_results[0])):\n",
        "      col_val = []\n",
        "      for sample_col in inverted_decoded_results:\n",
        "        col_val.append(sample_col[i])\n",
        "      ci_lower, ci_upper = st.t.interval(alpha=0.90, df=len(col_val)-1, loc=np.mean(col_val), scale=st.sem(col_val)) \n",
        "      col_val = np.array(col_val)\n",
        "      col_val = col_val[ (col_val > ci_lower) & (col_val < ci_upper) ]  \n",
        "      mean_col = np.mean(col_val)\n",
        "      std_col = np.std(col_val)\n",
        "      final_col_val = mean_col + (std_col*random.uniform(-sensitivity, sensitivity)) # adding randomess to calc\n",
        "        \n",
        "      combined_sample_decoded_results.append(final_col_val)\n",
        "\n",
        "    combined_sample_decoded_results = savgol_filter(combined_sample_decoded_results, 7, 3)\n",
        "\n",
        "    samples_genrated.append(combined_sample_decoded_results)\n",
        "\n",
        "  vae_samples_df = pd.DataFrame(samples_genrated, columns = col_headers)\n",
        "\n",
        "  vae_samples_df.to_csv(path+\"/Spectrum/attack_vae/syntectic_data/moded_data_\"+str(distance_to_eval)+\".csv\", index=False)\n",
        "\n",
        "  return vae_samples_df"
      ],
      "metadata": {
        "id": "ITNZG9jqg_3a"
      },
      "execution_count": null,
      "outputs": []
    },
    {
      "cell_type": "code",
      "source": [
        "vae_samples_df = get_vae_moded_data(samples_filtered_df, encoder, decoder, num_sample_to_generate = 30, epochs_num = 100, distance_to_eval = 80, sensitivity=8)"
      ],
      "metadata": {
        "colab": {
          "base_uri": "https://localhost:8080/"
        },
        "id": "jaRJhK9FPlZ0",
        "outputId": "d3cf8d51-29c1-4e7a-bb0a-adc4f043d349"
      },
      "execution_count": null,
      "outputs": [
        {
          "output_type": "stream",
          "name": "stderr",
          "text": [
            "100%|██████████| 30/30 [00:51<00:00,  1.73s/it]\n"
          ]
        }
      ]
    },
    {
      "cell_type": "markdown",
      "source": [
        "# Abnormaly detector"
      ],
      "metadata": {
        "id": "Ynaw9HmHDpoJ"
      }
    },
    {
      "cell_type": "code",
      "source": [
        "# load regular data\n",
        "distance_to_eval = 80\n",
        "\n",
        "input_path = path + \"/Spectrum/NN/new_data_working_df.csv\"\n",
        "\n",
        "working_df = pd.read_csv(input_path)\n",
        "working_df['Distance_km'] = working_df['Distance_km'].astype(int)\n",
        "\n",
        "distances = [x*80 for x in range(1, 26)]\n",
        "X, Y, real_data_df = get_data(working_df, distances, num_features = 'all', span_length=80,  min_dist = 0, max_dist = 3000)\n",
        "\n",
        "real_data_df = real_data_df.query('Distance_km == '+str(distance_to_eval))\n",
        "real_data_df.drop('Distance_km', axis=1, inplace=True)\n",
        "type_of_data_col_vals = [int(0) for i in range(0, real_data_df.shape[0])]\n",
        "real_data_df.insert(0, \"type_of_data\", type_of_data_col_vals, True)"
      ],
      "metadata": {
        "id": "s1Ul4NWRDr3d"
      },
      "execution_count": null,
      "outputs": []
    },
    {
      "cell_type": "code",
      "source": [
        "# load mod data\n",
        "data_to_test  ='vae'\n",
        "#vanila\n",
        "if data_to_test == 'vanilla':\n",
        "  mod_data_df = pd.read_csv(path+\"/Spectrum/attack_vanila/moded_data_2000_to_80.csv\")\n",
        "#vae\n",
        "else:\n",
        "  mod_data_df = pd.read_csv(path+\"/Spectrum/attack_vae/syntectic_data/moded_data_80.csv\")\n",
        "  #distance_col_vals = [int(distance_to_eval) for i in range(0, mod_data_df.shape[0])]\n",
        "  #mod_data_df.insert(0, \"Distance_km\", distance_col_vals, True)\n",
        "type_of_data_col_vals = [int(1) for i in range(0, mod_data_df.shape[0])]\n",
        "mod_data_df.insert(0, \"type_of_data\", type_of_data_col_vals, True)"
      ],
      "metadata": {
        "id": "Qmuum7S2JVev"
      },
      "execution_count": null,
      "outputs": []
    },
    {
      "cell_type": "code",
      "source": [
        "#join real and mod data\n",
        "combined_df = pd.concat([real_data_df, mod_data_df], ignore_index=True)"
      ],
      "metadata": {
        "id": "Dh6-CtjdTlpP"
      },
      "execution_count": null,
      "outputs": []
    },
    {
      "cell_type": "code",
      "source": [
        "# get train test splits\n",
        "x_train, x_test, y_train, y_test = train_test_split(combined_df.values, combined_df.values[:, 0], test_size=0.2, random_state=111)\n",
        "\n",
        "scaler = MinMaxScaler()\n",
        "data_scaled = scaler.fit(x_train)\n",
        "\n",
        "x_train = data_scaled.transform(x_train)\n",
        "x_test = data_scaled.transform(x_test)"
      ],
      "metadata": {
        "id": "IGbVtgzUSuux"
      },
      "execution_count": null,
      "outputs": []
    },
    {
      "cell_type": "code",
      "source": [
        "# separate into normal and anormal data\n",
        "normal_train_data = pd.DataFrame(x_train).add_prefix('c').query('c0 == 0').values[:, 1:]\n",
        "anormal_train_data = pd.DataFrame(x_train).add_prefix('c').query('c0 > 0').values[:, 1:]\n",
        "\n",
        "normal_test_data = pd.DataFrame(x_test).add_prefix('c').query('c0 == 0').values[:, 1:]\n",
        "anormal_test_data = pd.DataFrame(x_test).add_prefix('c').query('c0 > 0').values[:, 1:]"
      ],
      "metadata": {
        "id": "Fow8IbmdVCLS"
      },
      "execution_count": null,
      "outputs": []
    },
    {
      "cell_type": "markdown",
      "source": [
        "## model"
      ],
      "metadata": {
        "id": "Qfo51FGDpmgh"
      }
    },
    {
      "cell_type": "code",
      "source": [
        "from tensorflow.keras.models import Model\n",
        "class AutoEncoder_m(Model):\n",
        "  def __init__(self):\n",
        "    super(AutoEncoder_m, self).__init__()\n",
        "    self.encoder = tf.keras.Sequential([\n",
        "                                        tf.keras.layers.Dense(64, activation='relu'),\n",
        "                                        tf.keras.layers.Dense(32, activation='relu'),\n",
        "                                        tf.keras.layers.Dense(16, activation='relu'),\n",
        "                                        tf.keras.layers.Dense(8, activation='relu')])\n",
        "    \n",
        "    self.decoder = tf.keras.Sequential([\n",
        "                                    tf.keras.layers.Dense(16, activation='relu'),\n",
        "                                    tf.keras.layers.Dense(32, activation='relu'),\n",
        "                                    tf.keras.layers.Dense(64, activation='relu'),\n",
        "                                    tf.keras.layers.Dense(2397, activation='sigmoid')])\n",
        "    \n",
        "  def call(self, x):\n",
        "    encoded = self.encoder(x)\n",
        "    decoded = self.decoder(encoded)\n",
        "    return decoded"
      ],
      "metadata": {
        "id": "i1M1AlkdXe-q"
      },
      "execution_count": null,
      "outputs": []
    },
    {
      "cell_type": "code",
      "source": [
        "autoencoder_m = AutoEncoder_m()\n",
        "early_stopping = tf.keras.callbacks.EarlyStopping(monitor='val_loss', patience=5, mode='min')\n",
        "\n",
        "autoencoder_m.compile(optimizer='adam', loss='mae')"
      ],
      "metadata": {
        "id": "qsLe1xmxYzY5"
      },
      "execution_count": null,
      "outputs": []
    },
    {
      "cell_type": "code",
      "source": [
        "distance_to_eval=80\n",
        "epochs_num = 50\n",
        "\n",
        "#train model\n",
        "history = autoencoder_m.fit(normal_train_data, normal_train_data, epochs=epochs_num, batch_size=8, validation_data=(x_train[:,1:],x_train[:,1:]), shuffle=True, callbacks=[early_stopping], verbose=1)\n",
        "\n",
        "# save model weigths\n",
        "autoencoder_m.save_weights(path+\"/Spectrum/defense_autoencoder/autoencoder/A_epochs_\"+str(epochs_num)+\"_distance_\"+str(distance_to_eval)+\".h5\")"
      ],
      "metadata": {
        "id": "05nmyFTuZuC8",
        "outputId": "eba30d3d-a098-400a-db78-e0da0a77f1d9",
        "colab": {
          "base_uri": "https://localhost:8080/"
        }
      },
      "execution_count": null,
      "outputs": [
        {
          "output_type": "stream",
          "name": "stdout",
          "text": [
            "Epoch 1/50\n",
            "10/10 [==============================] - 3s 62ms/step - loss: 0.1873 - val_loss: 0.1506\n",
            "Epoch 2/50\n",
            "10/10 [==============================] - 0s 17ms/step - loss: 0.1670 - val_loss: 0.1344\n",
            "Epoch 3/50\n",
            "10/10 [==============================] - 0s 19ms/step - loss: 0.1620 - val_loss: 0.1346\n",
            "Epoch 4/50\n",
            "10/10 [==============================] - 0s 15ms/step - loss: 0.1613 - val_loss: 0.1337\n",
            "Epoch 5/50\n",
            "10/10 [==============================] - 0s 15ms/step - loss: 0.1606 - val_loss: 0.1332\n",
            "Epoch 6/50\n",
            "10/10 [==============================] - 0s 17ms/step - loss: 0.1605 - val_loss: 0.1343\n",
            "Epoch 7/50\n",
            "10/10 [==============================] - 0s 14ms/step - loss: 0.1605 - val_loss: 0.1329\n",
            "Epoch 8/50\n",
            "10/10 [==============================] - 0s 15ms/step - loss: 0.1603 - val_loss: 0.1329\n",
            "Epoch 9/50\n",
            "10/10 [==============================] - 0s 19ms/step - loss: 0.1602 - val_loss: 0.1329\n",
            "Epoch 10/50\n",
            "10/10 [==============================] - 0s 17ms/step - loss: 0.1601 - val_loss: 0.1329\n",
            "Epoch 11/50\n",
            "10/10 [==============================] - 0s 14ms/step - loss: 0.1603 - val_loss: 0.1333\n",
            "Epoch 12/50\n",
            "10/10 [==============================] - 0s 17ms/step - loss: 0.1604 - val_loss: 0.1328\n",
            "Epoch 13/50\n",
            "10/10 [==============================] - 0s 15ms/step - loss: 0.1600 - val_loss: 0.1327\n",
            "Epoch 14/50\n",
            "10/10 [==============================] - 0s 18ms/step - loss: 0.1600 - val_loss: 0.1328\n",
            "Epoch 15/50\n",
            "10/10 [==============================] - 0s 21ms/step - loss: 0.1600 - val_loss: 0.1325\n",
            "Epoch 16/50\n",
            "10/10 [==============================] - 0s 21ms/step - loss: 0.1598 - val_loss: 0.1328\n",
            "Epoch 17/50\n",
            "10/10 [==============================] - 0s 13ms/step - loss: 0.1598 - val_loss: 0.1327\n",
            "Epoch 18/50\n",
            "10/10 [==============================] - 0s 17ms/step - loss: 0.1596 - val_loss: 0.1327\n",
            "Epoch 19/50\n",
            "10/10 [==============================] - 0s 19ms/step - loss: 0.1597 - val_loss: 0.1328\n",
            "Epoch 20/50\n",
            "10/10 [==============================] - 0s 17ms/step - loss: 0.1596 - val_loss: 0.1325\n",
            "Epoch 21/50\n",
            "10/10 [==============================] - 0s 18ms/step - loss: 0.1595 - val_loss: 0.1324\n",
            "Epoch 22/50\n",
            "10/10 [==============================] - 0s 18ms/step - loss: 0.1592 - val_loss: 0.1320\n",
            "Epoch 23/50\n",
            "10/10 [==============================] - 0s 17ms/step - loss: 0.1590 - val_loss: 0.1320\n",
            "Epoch 24/50\n",
            "10/10 [==============================] - 0s 24ms/step - loss: 0.1588 - val_loss: 0.1327\n",
            "Epoch 25/50\n",
            "10/10 [==============================] - 0s 17ms/step - loss: 0.1588 - val_loss: 0.1319\n",
            "Epoch 26/50\n",
            "10/10 [==============================] - 0s 21ms/step - loss: 0.1588 - val_loss: 0.1316\n",
            "Epoch 27/50\n",
            "10/10 [==============================] - 0s 14ms/step - loss: 0.1584 - val_loss: 0.1314\n",
            "Epoch 28/50\n",
            "10/10 [==============================] - 0s 16ms/step - loss: 0.1581 - val_loss: 0.1310\n",
            "Epoch 29/50\n",
            "10/10 [==============================] - 0s 20ms/step - loss: 0.1578 - val_loss: 0.1308\n",
            "Epoch 30/50\n",
            "10/10 [==============================] - 0s 23ms/step - loss: 0.1576 - val_loss: 0.1310\n",
            "Epoch 31/50\n",
            "10/10 [==============================] - 0s 18ms/step - loss: 0.1575 - val_loss: 0.1307\n",
            "Epoch 32/50\n",
            "10/10 [==============================] - 0s 20ms/step - loss: 0.1574 - val_loss: 0.1306\n",
            "Epoch 33/50\n",
            "10/10 [==============================] - 0s 17ms/step - loss: 0.1573 - val_loss: 0.1303\n",
            "Epoch 34/50\n",
            "10/10 [==============================] - 0s 26ms/step - loss: 0.1569 - val_loss: 0.1303\n",
            "Epoch 35/50\n",
            "10/10 [==============================] - 0s 15ms/step - loss: 0.1568 - val_loss: 0.1305\n",
            "Epoch 36/50\n",
            "10/10 [==============================] - 0s 18ms/step - loss: 0.1567 - val_loss: 0.1300\n",
            "Epoch 37/50\n",
            "10/10 [==============================] - 0s 18ms/step - loss: 0.1567 - val_loss: 0.1302\n",
            "Epoch 38/50\n",
            "10/10 [==============================] - 0s 17ms/step - loss: 0.1562 - val_loss: 0.1310\n",
            "Epoch 39/50\n",
            "10/10 [==============================] - 0s 16ms/step - loss: 0.1561 - val_loss: 0.1297\n",
            "Epoch 40/50\n",
            "10/10 [==============================] - 0s 17ms/step - loss: 0.1559 - val_loss: 0.1317\n",
            "Epoch 41/50\n",
            "10/10 [==============================] - 0s 20ms/step - loss: 0.1566 - val_loss: 0.1302\n",
            "Epoch 42/50\n",
            "10/10 [==============================] - 0s 19ms/step - loss: 0.1563 - val_loss: 0.1307\n",
            "Epoch 43/50\n",
            "10/10 [==============================] - 0s 18ms/step - loss: 0.1562 - val_loss: 0.1300\n",
            "Epoch 44/50\n",
            "10/10 [==============================] - 0s 23ms/step - loss: 0.1553 - val_loss: 0.1289\n",
            "Epoch 45/50\n",
            "10/10 [==============================] - 0s 18ms/step - loss: 0.1551 - val_loss: 0.1288\n",
            "Epoch 46/50\n",
            "10/10 [==============================] - 0s 22ms/step - loss: 0.1547 - val_loss: 0.1286\n",
            "Epoch 47/50\n",
            "10/10 [==============================] - 0s 17ms/step - loss: 0.1547 - val_loss: 0.1318\n",
            "Epoch 48/50\n",
            "10/10 [==============================] - 0s 17ms/step - loss: 0.1549 - val_loss: 0.1289\n",
            "Epoch 49/50\n",
            "10/10 [==============================] - 0s 17ms/step - loss: 0.1545 - val_loss: 0.1284\n",
            "Epoch 50/50\n",
            "10/10 [==============================] - 0s 17ms/step - loss: 0.1541 - val_loss: 0.1282\n"
          ]
        }
      ]
    },
    {
      "cell_type": "markdown",
      "source": [
        "## Calc reconstruction loss"
      ],
      "metadata": {
        "id": "hUD2hsZjJ3DO"
      }
    },
    {
      "cell_type": "code",
      "source": [
        "# reconstruction loss low\n",
        "encoder_out = autoencoder_m.encoder(normal_test_data).numpy()\n",
        "decoder_out = autoencoder_m.decoder(encoder_out).numpy()\n",
        "\n",
        "plt.figure(figsize=(8,5))\n",
        "plt.plot(normal_test_data[0], 'b') # real data\n",
        "plt.plot(decoder_out[0], 'r') # reconstructed data"
      ],
      "metadata": {
        "id": "FKSgOPYFa45W",
        "colab": {
          "base_uri": "https://localhost:8080/",
          "height": 339
        },
        "outputId": "7b414afa-0551-411f-8513-f6d9c95a365d"
      },
      "execution_count": null,
      "outputs": [
        {
          "output_type": "execute_result",
          "data": {
            "text/plain": [
              "[<matplotlib.lines.Line2D at 0x7fa05d024410>]"
            ]
          },
          "metadata": {},
          "execution_count": 20
        },
        {
          "output_type": "display_data",
          "data": {
            "text/plain": [
              "<Figure size 576x360 with 1 Axes>"
            ],
            "image/png": "[encoded data removed]"
          },
          "metadata": {
            "needs_background": "light"
          }
        }
      ]
    },
    {
      "cell_type": "code",
      "source": [
        "#reconstruction loss high\n",
        "encoder_out_a = autoencoder_m.encoder(anormal_test_data).numpy()\n",
        "decoder_out_a = autoencoder_m.decoder(encoder_out_a).numpy()\n",
        "\n",
        "plt.figure(figsize=(8,5))\n",
        "plt.plot(anormal_test_data[0], 'b') # moded data\n",
        "plt.plot(decoder_out_a[0], 'r') # reconstructed data"
      ],
      "metadata": {
        "id": "i6Eg2GgOfAyO",
        "colab": {
          "base_uri": "https://localhost:8080/",
          "height": 339
        },
        "outputId": "ee0e9f7f-16b0-4f1c-8d0d-545ebaf345d3"
      },
      "execution_count": null,
      "outputs": [
        {
          "output_type": "execute_result",
          "data": {
            "text/plain": [
              "[<matplotlib.lines.Line2D at 0x7fa05d106710>]"
            ]
          },
          "metadata": {},
          "execution_count": 21
        },
        {
          "output_type": "display_data",
          "data": {
            "text/plain": [
              "<Figure size 576x360 with 1 Axes>"
            ],
            "image/png": "[encoded data removed]"
          },
          "metadata": {
            "needs_background": "light"
          }
        }
      ]
    },
    {
      "cell_type": "markdown",
      "source": [
        "## Calculate threshold of normal data"
      ],
      "metadata": {
        "id": "i3bbQ4dpRvZe"
      }
    },
    {
      "cell_type": "code",
      "source": [
        "# reconstrution error normal data\n",
        "reconstructions = autoencoder_m.predict(normal_test_data)\n",
        "train_loss = tf.keras.losses.mae(reconstructions, normal_test_data) # get loss between normal data and reconstructed data\n",
        "\n",
        "plt.figure(figsize=(8,5))\n",
        "plt.hist(train_loss, bins = 50) # plot loss between normal data and reconstructed data"
      ],
      "metadata": {
        "id": "sSal2neIfOrE",
        "colab": {
          "base_uri": "https://localhost:8080/",
          "height": 582
        },
        "outputId": "0c65d685-1554-40e1-ed23-75bae1ec36b4"
      },
      "execution_count": null,
      "outputs": [
        {
          "output_type": "execute_result",
          "data": {
            "text/plain": [
              "(array([1., 0., 0., 0., 1., 1., 2., 0., 0., 1., 0., 1., 0., 1., 0., 1., 0.,\n",
              "        0., 1., 0., 1., 1., 0., 1., 1., 1., 1., 1., 1., 0., 0., 0., 1., 0.,\n",
              "        0., 0., 0., 0., 0., 1., 0., 0., 0., 0., 0., 2., 0., 0., 0., 1.]),\n",
              " array([0.15972403, 0.15998484, 0.16024565, 0.16050646, 0.16076727,\n",
              "        0.16102808, 0.16128889, 0.1615497 , 0.1618105 , 0.16207131,\n",
              "        0.16233212, 0.16259293, 0.16285374, 0.16311455, 0.16337536,\n",
              "        0.16363617, 0.16389698, 0.16415779, 0.1644186 , 0.16467941,\n",
              "        0.16494022, 0.16520102, 0.16546183, 0.16572264, 0.16598345,\n",
              "        0.16624426, 0.16650507, 0.16676588, 0.16702669, 0.1672875 ,\n",
              "        0.16754831, 0.16780912, 0.16806993, 0.16833073, 0.16859154,\n",
              "        0.16885235, 0.16911316, 0.16937397, 0.16963478, 0.16989559,\n",
              "        0.1701564 , 0.17041721, 0.17067802, 0.17093883, 0.17119964,\n",
              "        0.17146044, 0.17172125, 0.17198206, 0.17224287, 0.17250368,\n",
              "        0.17276449]),\n",
              " <a list of 50 Patch objects>)"
            ]
          },
          "metadata": {},
          "execution_count": 22
        },
        {
          "output_type": "display_data",
          "data": {
            "text/plain": [
              "<Figure size 576x360 with 1 Axes>"
            ],
            "image/png": "[encoded data removed]"
          },
          "metadata": {
            "needs_background": "light"
          }
        }
      ]
    },
    {
      "cell_type": "code",
      "source": [
        "print(np.mean(train_loss)) # where most of the error is present (y axis)\n",
        "print(np.std(train_loss)) # how sparse is the error (x axis)\n",
        "\n",
        "# add to the mean 2 std spaces, any value below the threshold would be considered normal data, above anormal\n",
        "sensitivity = 2\n",
        "\n",
        "threshold_upper = np.mean(train_loss) + sensitivity*np.std(train_loss)\n",
        "threshold_lower = np.mean(train_loss) - sensitivity*np.std(train_loss)\n",
        "print(threshold_upper)\n",
        "print(threshold_lower)"
      ],
      "metadata": {
        "colab": {
          "base_uri": "https://localhost:8080/"
        },
        "id": "N23Pp-uYQKpi",
        "outputId": "f433d54d-1491-4702-c1f0-ccec96452750"
      },
      "execution_count": null,
      "outputs": [
        {
          "output_type": "stream",
          "name": "stdout",
          "text": [
            "0.16545143813737798\n",
            "0.0035665775182565818\n",
            "0.17258459317389113\n",
            "0.15831828310086482\n"
          ]
        }
      ]
    },
    {
      "cell_type": "code",
      "source": [
        "# reconstrution error anormal data\n",
        "reconstructions_a = autoencoder_m.predict(anormal_test_data)\n",
        "train_loss_a = tf.keras.losses.mae(reconstructions_a, anormal_test_data)\n",
        "\n",
        "plt.figure(figsize=(8,5))\n",
        "plt.hist(train_loss_a, bins = 50)"
      ],
      "metadata": {
        "id": "6SpqbEpAfvYQ",
        "colab": {
          "base_uri": "https://localhost:8080/",
          "height": 582
        },
        "outputId": "34b36e40-4969-466f-acaf-50f1ae4b2209"
      },
      "execution_count": null,
      "outputs": [
        {
          "output_type": "execute_result",
          "data": {
            "text/plain": [
              "(array([1., 0., 0., 0., 0., 0., 0., 0., 0., 0., 0., 0., 0., 0., 0., 0., 0.,\n",
              "        0., 0., 0., 0., 0., 0., 0., 0., 1., 0., 0., 0., 0., 0., 0., 0., 0.,\n",
              "        0., 0., 0., 0., 0., 0., 0., 0., 0., 0., 0., 0., 0., 0., 0., 1.]),\n",
              " array([0.0550765 , 0.05512036, 0.05516421, 0.05520807, 0.05525193,\n",
              "        0.05529579, 0.05533965, 0.0553835 , 0.05542736, 0.05547122,\n",
              "        0.05551508, 0.05555893, 0.05560279, 0.05564665, 0.05569051,\n",
              "        0.05573437, 0.05577822, 0.05582208, 0.05586594, 0.0559098 ,\n",
              "        0.05595365, 0.05599751, 0.05604137, 0.05608523, 0.05612909,\n",
              "        0.05617294, 0.0562168 , 0.05626066, 0.05630452, 0.05634838,\n",
              "        0.05639223, 0.05643609, 0.05647995, 0.05652381, 0.05656766,\n",
              "        0.05661152, 0.05665538, 0.05669924, 0.0567431 , 0.05678695,\n",
              "        0.05683081, 0.05687467, 0.05691853, 0.05696239, 0.05700624,\n",
              "        0.0570501 , 0.05709396, 0.05713782, 0.05718167, 0.05722553,\n",
              "        0.05726939]),\n",
              " <a list of 50 Patch objects>)"
            ]
          },
          "metadata": {},
          "execution_count": 32
        },
        {
          "output_type": "display_data",
          "data": {
            "text/plain": [
              "<Figure size 576x360 with 1 Axes>"
            ],
            "image/png": "[encoded data removed]"
          },
          "metadata": {
            "needs_background": "light"
          }
        }
      ]
    },
    {
      "cell_type": "code",
      "source": [
        "print(np.mean(train_loss_a)) # where most of the error is present (y axis)\n",
        "print(np.std(train_loss_a)) # how sparse is the error (x axis)"
      ],
      "metadata": {
        "colab": {
          "base_uri": "https://localhost:8080/"
        },
        "id": "ndNYwjfdT-9A",
        "outputId": "9fe2532f-8e4d-4cb8-ff71-dbb689543a15"
      },
      "execution_count": null,
      "outputs": [
        {
          "output_type": "stream",
          "name": "stdout",
          "text": [
            "0.05617404901042728\n",
            "0.0008952458024570053\n"
          ]
        }
      ]
    },
    {
      "cell_type": "markdown",
      "source": [
        "## Classifying anormalites"
      ],
      "metadata": {
        "id": "_xloYx-2UFyq"
      }
    },
    {
      "cell_type": "code",
      "source": [
        "plt.figure(figsize=(10,6))\n",
        "plt.hist(train_loss, bins=50, label='normal', edgecolor=\"b\")\n",
        "plt.hist(train_loss_a, bins=50, label='anormal', edgecolor=\"orange\")\n",
        "plt.axvline(threshold_upper, color='r', linewidth=2, linestyle='dashed', label='{:0.3f}'.format(threshold_upper))\n",
        "plt.axvline(threshold_lower, color='r', linewidth=2, linestyle='dashed', label='{:0.3f}'.format(threshold_lower))\n",
        "plt.legend(loc='best')\n",
        "plt.show()"
      ],
      "metadata": {
        "id": "IccRXQfFgXED",
        "colab": {
          "base_uri": "https://localhost:8080/",
          "height": 377
        },
        "outputId": "3be88c04-df30-481b-baf4-7f6bbe1b2ae2"
      },
      "execution_count": null,
      "outputs": [
        {
          "output_type": "display_data",
          "data": {
            "text/plain": [
              "<Figure size 720x432 with 1 Axes>"
            ],
            "image/png": "[encoded data removed]"
          },
          "metadata": {
            "needs_background": "light"
          }
        }
      ]
    },
    {
      "cell_type": "code",
      "source": [
        "# values in between thresholds for Normal data\n",
        "preds_upper = tf.math.less(train_loss, threshold_upper) # return True to values less than threshold return false for values bigger\n",
        "preds_lower = tf.math.greater(train_loss, threshold_lower)\n",
        "\n",
        "preds = tf.logical_and(preds_upper, preds_lower)\n",
        "\n",
        "num_of_norm_pred_wrong = tf.math.count_nonzero(preds) # number of normal values classify correctly\n",
        "total_normal_data = preds.shape[0] # total amount of normal values\n",
        "\n",
        "ratio_of_fp = num_of_norm_pred_wrong/total_normal_data\n",
        "print(tensorflow.keras.backend.get_value(num_of_norm_pred_wrong))\n",
        "print(total_normal_data)\n",
        "print(round(tensorflow.keras.backend.get_value(ratio_of_fp), 5)) # ratio of normal values classify as normal"
      ],
      "metadata": {
        "id": "RjO-5hoFhVZp",
        "colab": {
          "base_uri": "https://localhost:8080/"
        },
        "outputId": "47a4407d-6b52-470a-e1c8-50e7d73bc710"
      },
      "execution_count": null,
      "outputs": [
        {
          "output_type": "stream",
          "name": "stdout",
          "text": [
            "22\n",
            "23\n",
            "0.95652\n"
          ]
        }
      ]
    },
    {
      "cell_type": "code",
      "source": [
        "# values outside threshold Anormal data\n",
        "preds_a_upper = tf.math.greater(train_loss_a, threshold_upper) # return True to values greater than threshold return false for values smaller\n",
        "preds_a_lower = tf.math.less(train_loss_a, threshold_lower)\n",
        "\n",
        "preds_a = tf.logical_or(preds_a_upper, preds_a_lower)\n",
        "\n",
        "total_anormal_data = preds_a.shape[0] # total of anormal values\n",
        "num_of_norm_pred_wrong_a = tf.math.count_nonzero(preds_a) # number of normal values classify correctly\n",
        "\n",
        "ratio_of_fn = num_of_norm_pred_wrong_a/total_anormal_data\n",
        "print(tensorflow.keras.backend.get_value(num_of_norm_pred_wrong_a))\n",
        "print(total_anormal_data)\n",
        "print(round(tensorflow.keras.backend.get_value(ratio_of_fn), 5)) # ratio of anormal values classify as anormal"
      ],
      "metadata": {
        "id": "MTZz7-huhv9Y",
        "colab": {
          "base_uri": "https://localhost:8080/"
        },
        "outputId": "18498220-25f4-450d-cb36-b9c98d8acdd8"
      },
      "execution_count": null,
      "outputs": [
        {
          "output_type": "stream",
          "name": "stdout",
          "text": [
            "3\n",
            "3\n",
            "1.0\n"
          ]
        }
      ]
    },
    {
      "cell_type": "markdown",
      "source": [
        "## get index that are classify as anomalies"
      ],
      "metadata": {
        "id": "PzMoCEYLmSwA"
      }
    },
    {
      "cell_type": "code",
      "source": [
        "preds_array = tensorflow.keras.backend.get_value(preds_a) \n",
        "\n",
        "values_classify_as_anormal_idx = []\n",
        "values_classify_as_anormal = []\n",
        "inverted_values_classify_as_anormal = []\n",
        "idx_cnt = 0\n",
        "for p_val in preds_array:\n",
        "  if p_val == True:\n",
        "    values_classify_as_anormal_idx.append(idx_cnt)\n",
        "    a_sample =np.insert(anormal_test_data[idx_cnt], 0, 1.0)\n",
        "    values_classify_as_anormal.append(a_sample)"
      ],
      "metadata": {
        "id": "AskIDddBm8S7"
      },
      "execution_count": null,
      "outputs": []
    },
    {
      "cell_type": "code",
      "source": [
        "values_classify_as_anormal[0]"
      ],
      "metadata": {
        "id": "nG11b0sxrvRO",
        "outputId": "bf196f40-38c7-4fc1-9dcf-015b7c042f06",
        "colab": {
          "base_uri": "https://localhost:8080/"
        }
      },
      "execution_count": null,
      "outputs": [
        {
          "output_type": "execute_result",
          "data": {
            "text/plain": [
              "array([1.        , 0.7453449 , 0.54229407, ..., 0.59916186, 0.56363293,\n",
              "       0.58156371])"
            ]
          },
          "metadata": {},
          "execution_count": 96
        }
      ]
    },
    {
      "cell_type": "code",
      "source": [
        "inverted_values_classify_as_anormal = scaler.inverse_transform(values_classify_as_anormal)\n",
        "inverted_values_classify_as_anormal"
      ],
      "metadata": {
        "id": "_0RmAK3KqTSV",
        "outputId": "22e3411e-1e82-4a82-c643-3ab04946cdee",
        "colab": {
          "base_uri": "https://localhost:8080/"
        }
      },
      "execution_count": null,
      "outputs": [
        {
          "output_type": "execute_result",
          "data": {
            "text/plain": [
              "array([[  1.        , -54.55003781, -59.25445294, ..., -58.38368742,\n",
              "        -59.42442748, -60.47503872],\n",
              "       [  1.        , -54.55003781, -59.25445294, ..., -58.38368742,\n",
              "        -59.42442748, -60.47503872],\n",
              "       [  1.        , -54.55003781, -59.25445294, ..., -58.38368742,\n",
              "        -59.42442748, -60.47503872]])"
            ]
          },
          "metadata": {},
          "execution_count": 97
        }
      ]
    }
  ]
}
