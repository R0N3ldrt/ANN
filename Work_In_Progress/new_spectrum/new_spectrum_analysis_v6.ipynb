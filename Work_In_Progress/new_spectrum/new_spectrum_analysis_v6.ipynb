{
  "nbformat": 4,
  "nbformat_minor": 0,
  "metadata": {
    "colab": {
      "name": "Untitled8.ipynb",
      "provenance": [],
      "authorship_tag": "ABX9TyP5ZKkZZ9JRIJoamj5dOhYT",
      "include_colab_link": true
    },
    "kernelspec": {
      "name": "python3",
      "display_name": "Python 3"
    },
    "language_info": {
      "name": "python"
    }
  },
  "cells": [
    {
      "cell_type": "markdown",
      "metadata": {
        "id": "view-in-github",
        "colab_type": "text"
      },
      "source": [
        "<a href=\"https://colab.research.google.com/github/R0N3ldrt/Thesis/blob/main/new_spectrum_analysis_v6.ipynb\" target=\"_parent\"><img src=\"https://colab.research.google.com/assets/colab-badge.svg\" alt=\"Open In Colab\"/></a>"
      ]
    },
    {
      "cell_type": "markdown",
      "source": [
        "# Synthetic Constellation"
      ],
      "metadata": {
        "id": "pGh8g-miYhWN"
      }
    },
    {
      "cell_type": "markdown",
      "source": [
        "# Loading Necesary Libraries"
      ],
      "metadata": {
        "id": "EnyBi7O6YtBK"
      }
    },
    {
      "cell_type": "code",
      "execution_count": 1,
      "metadata": {
        "id": "3CRIKozoYfn1"
      },
      "outputs": [],
      "source": [
        "# Importing necesary libraries\n",
        "# Libraries for correct code execution \n",
        "\n",
        "import os, time\n",
        "import pandas as pd\n",
        "import numpy as np\n",
        "import matplotlib.pyplot as plt\n",
        "import math\n",
        "import pickle\n",
        "import random\n",
        "import csv\n",
        "import re\n",
        "from tqdm import tqdm\n",
        "\n",
        "from random import random, gauss\n",
        "from math import modf, pi, cos, sin, sqrt\n",
        "from sklearn.model_selection import train_test_split\n",
        "from sklearn.preprocessing import MinMaxScaler\n",
        "from plotly.subplots import make_subplots\n",
        "from scipy.signal import savgol_filter\n",
        "\n",
        "import plotly.graph_objects as go\n",
        "import plotly.express as px\n",
        "from plotly.subplots import make_subplots\n",
        "\n",
        "from keras.models import Sequential\n",
        "from keras.layers import Dense,Conv2D, Flatten\n",
        "from keras.wrappers.scikit_learn import KerasRegressor\n",
        "from keras.callbacks import EarlyStopping\n",
        "from sklearn.mixture import GaussianMixture\n",
        "\n",
        "import warnings\n",
        "warnings.filterwarnings(\"ignore\")"
      ]
    },
    {
      "cell_type": "markdown",
      "source": [
        "# Load Enviroment"
      ],
      "metadata": {
        "id": "18mwd0RSYwZw"
      }
    },
    {
      "cell_type": "code",
      "source": [
        "# BLOQUE PARA USAR DESDE COLAB\n",
        "\n",
        "# Google drive loading as work station for local-usage of the files.\n",
        "from google.colab import drive\n",
        "drive.mount('/content/gdrive',force_remount= True)\n",
        "\n",
        "#-----------------------------------------------------------------------------"
      ],
      "metadata": {
        "colab": {
          "base_uri": "https://localhost:8080/"
        },
        "id": "YeY4YJAjY7dP",
        "outputId": "cbfc67e5-1bef-4b76-abff-d4dbd6fd4821"
      },
      "execution_count": 2,
      "outputs": [
        {
          "output_type": "stream",
          "name": "stdout",
          "text": [
            "Mounted at /content/gdrive\n"
          ]
        }
      ]
    },
    {
      "cell_type": "code",
      "source": [
        "# Lista para cambiar los paths rapido.\n",
        "workers = [\"Ronald\", \"Local\"]\n",
        "\n",
        "# Change the number to change the paths.\n",
        "worker = workers[0]\n",
        "\n",
        "if worker == \"Ronald\":\n",
        "  path = \"/content/gdrive/MyDrive/Thesis_Workstation/ANN_dataset\"\n",
        "else: path = os.getcwd()"
      ],
      "metadata": {
        "id": "_Dd4TmFoY9yG"
      },
      "execution_count": 3,
      "outputs": []
    },
    {
      "cell_type": "markdown",
      "source": [
        "# Load Datasets"
      ],
      "metadata": {
        "id": "uh1vXbd7kucq"
      }
    },
    {
      "cell_type": "code",
      "source": [
        "input_path = path + \"/Spectrum/16QAM/25spans80km_withoutROADMs/dataSet_Spectrum31MHz_Samples_16QAM_75GHz_LongHaul_input_25x80km.xlsx\""
      ],
      "metadata": {
        "id": "eVsjjYTM8qcC"
      },
      "execution_count": 4,
      "outputs": []
    },
    {
      "cell_type": "markdown",
      "source": [
        "## Pre-Processing"
      ],
      "metadata": {
        "id": "nyvfgBSB7smx"
      }
    },
    {
      "cell_type": "code",
      "source": [
        "df = pd.read_excel(input_path, sheet_name = \"Sheet1\", skiprows=1)"
      ],
      "metadata": {
        "id": "NOvDGzfK9NBT"
      },
      "execution_count": 5,
      "outputs": []
    },
    {
      "cell_type": "code",
      "source": [
        "# Dropping rows that are empty\n",
        "drop_rows = [drop_row for drop_row in range(325, df.shape[0])]\n",
        "df_13_samples = df.drop(drop_rows)"
      ],
      "metadata": {
        "id": "G359T-tq-IC8"
      },
      "execution_count": 6,
      "outputs": []
    },
    {
      "cell_type": "code",
      "source": [
        "print([row for row in range(1, 14)])\n",
        "print([row for row in range(0, 25)])"
      ],
      "metadata": {
        "colab": {
          "base_uri": "https://localhost:8080/"
        },
        "id": "sWPqslMLAgU1",
        "outputId": "4b04494f-626d-4042-ea95-fe856534e8df"
      },
      "execution_count": 7,
      "outputs": [
        {
          "output_type": "stream",
          "name": "stdout",
          "text": [
            "[1, 2, 3, 4, 5, 6, 7, 8, 9, 10, 11, 12, 13]\n",
            "[0, 1, 2, 3, 4, 5, 6, 7, 8, 9, 10, 11, 12, 13, 14, 15, 16, 17, 18, 19, 20, 21, 22, 23, 24]\n"
          ]
        }
      ]
    },
    {
      "cell_type": "code",
      "source": [
        "# Adding missing PBRS_id\n",
        "snippet = []\n",
        "val_cnt = 1\n",
        "idx = 0\n",
        "for sample in range(1, 14):\n",
        "  for sample_id in range(0, 25):\n",
        "    df_13_samples.at[idx, 'PBRS_id'] = val_cnt\n",
        "    idx +=1\n",
        "    snippet.append(val_cnt)\n",
        "  val_cnt += 1\n",
        "df_13_samples['PBRS_id'] = df_13_samples['PBRS_id'].astype(int)"
      ],
      "metadata": {
        "id": "S-DKtLozA49m"
      },
      "execution_count": 8,
      "outputs": []
    },
    {
      "cell_type": "code",
      "source": [
        "\n",
        "df_13_samples.iloc[0].fillna(method='bfill', inplace=True)\n",
        "\n",
        "df_13_samples.iloc[1:df_13_samples.shape[0]].fillna(method='pad', inplace=True)"
      ],
      "metadata": {
        "id": "Y4M56MNj4tLC"
      },
      "execution_count": 9,
      "outputs": []
    },
    {
      "cell_type": "code",
      "source": [
        "display(df_13_samples)"
      ],
      "metadata": {
        "colab": {
          "base_uri": "https://localhost:8080/",
          "height": 488
        },
        "id": "6RAjQqdW9nc5",
        "outputId": "be9538f1-17aa-40ad-a8e2-8f969dca9fa6"
      },
      "execution_count": 10,
      "outputs": [
        {
          "output_type": "display_data",
          "data": {
            "text/plain": [
              "     row  PBRS_id  Channels  Distance_km  power_dBm #span         -40  \\\n",
              "0      1        1         1         80.0          0     1 -334.501270   \n",
              "1      2        1         1        160.0          0     2 -338.049215   \n",
              "2      3        1         1        240.0          0     3 -335.915875   \n",
              "3      4        1         1        320.0          0     4 -330.110140   \n",
              "4      5        1         1        400.0          0     5 -336.413189   \n",
              "..   ...      ...       ...          ...        ...   ...         ...   \n",
              "320  321       13         1       1680.0          0    21  -54.561583   \n",
              "321  322       13         1       1760.0          0    22  -58.293111   \n",
              "322  323       13         1       1840.0          0    23  -56.360107   \n",
              "323  324       13         1       1920.0          0    24  -48.972740   \n",
              "324  325       13         1       2000.0          0    25  -38.242082   \n",
              "\n",
              "      -39.96875    -39.9375   -39.90625  ...  39.7187499999999  \\\n",
              "0   -333.132364 -325.572794 -336.320168  ...       -335.056696   \n",
              "1   -327.846616 -327.474368 -338.873124  ...               NaN   \n",
              "2   -332.459387 -349.826960 -328.583144  ...       -326.872508   \n",
              "3   -337.262521 -332.736237 -339.124990  ...       -336.294415   \n",
              "4   -330.762275 -332.048845 -337.871202  ...       -331.093800   \n",
              "..          ...         ...         ...  ...               ...   \n",
              "320  -44.613902  -41.167754  -40.733658  ...        -46.796297   \n",
              "321  -50.937024  -40.632352  -55.283881  ...        -54.613867   \n",
              "322  -49.076076  -38.904166  -42.718141  ...        -44.865531   \n",
              "323  -44.050182  -48.665758  -48.660555  ...        -40.742621   \n",
              "324  -38.461429  -45.351282  -69.542816  ...        -47.447630   \n",
              "\n",
              "     39.7499999999999  39.7812499999999  39.8124999999999  39.8437499999999  \\\n",
              "0         -328.066995       -325.754530       -328.066995       -328.066995   \n",
              "1         -321.746918       -326.565933       -322.586533       -341.617433   \n",
              "2         -333.434423       -329.882808       -329.882808       -331.686340   \n",
              "3         -330.273815       -329.274286       -329.304715       -321.242915   \n",
              "4         -336.602875       -329.274286       -329.155600       -324.104100   \n",
              "..                ...               ...               ...               ...   \n",
              "320        -44.789001        -49.459724        -43.774488        -46.750014   \n",
              "321        -42.210508        -41.569807        -46.446182        -52.601701   \n",
              "322        -40.877947        -38.035555        -43.307802        -44.275443   \n",
              "323        -58.084123        -43.044080        -43.606192        -43.880028   \n",
              "324        -46.748093        -45.419644        -45.034501        -46.944102   \n",
              "\n",
              "     39.8749999999999  39.9062499999999  39.9374999999999  39.9687499999999  \\\n",
              "0         -325.395278       -321.992445       -328.886037       -322.977492   \n",
              "1         -322.586533               NaN       -331.617433       -328.607133   \n",
              "2         -325.665740       -335.903408       -326.872508       -329.882808   \n",
              "3         -320.731390       -328.335615       -325.154982       -326.294415   \n",
              "4         -320.731390       -333.027762       -325.154982       -343.135000   \n",
              "..                ...               ...               ...               ...   \n",
              "320        -45.695103        -43.781436        -40.756417        -49.368974   \n",
              "321        -45.139597        -46.657479        -50.439532        -45.279847   \n",
              "322        -39.932980        -42.285547        -55.159451        -42.410064   \n",
              "323        -49.691087        -46.022193        -47.717701        -39.202819   \n",
              "324        -48.295050        -51.188603        -54.750253        -38.874409   \n",
              "\n",
              "     39.9999999999999  \n",
              "0         -335.056696  \n",
              "1         -328.144133  \n",
              "2         -328.913708  \n",
              "3         -330.273815  \n",
              "4         -337.114400  \n",
              "..                ...  \n",
              "320        -35.147507  \n",
              "321        -47.112150  \n",
              "322        -47.629492  \n",
              "323        -51.550857  \n",
              "324        -39.958411  \n",
              "\n",
              "[325 rows x 2567 columns]"
            ],
            "text/html": [
              "\n",
              "  <div id=\"df-22c45307-7bca-4213-8fe1-1d49bf2d7554\">\n",
              "    <div class=\"colab-df-container\">\n",
              "      <div>\n",
              "<style scoped>\n",
              "    .dataframe tbody tr th:only-of-type {\n",
              "        vertical-align: middle;\n",
              "    }\n",
              "\n",
              "    .dataframe tbody tr th {\n",
              "        vertical-align: top;\n",
              "    }\n",
              "\n",
              "    .dataframe thead th {\n",
              "        text-align: right;\n",
              "    }\n",
              "</style>\n",
              "<table border=\"1\" class=\"dataframe\">\n",
              "  <thead>\n",
              "    <tr style=\"text-align: right;\">\n",
              "      <th></th>\n",
              "      <th>row</th>\n",
              "      <th>PBRS_id</th>\n",
              "      <th>Channels</th>\n",
              "      <th>Distance_km</th>\n",
              "      <th>power_dBm</th>\n",
              "      <th>#span</th>\n",
              "      <th>-40</th>\n",
              "      <th>-39.96875</th>\n",
              "      <th>-39.9375</th>\n",
              "      <th>-39.90625</th>\n",
              "      <th>...</th>\n",
              "      <th>39.7187499999999</th>\n",
              "      <th>39.7499999999999</th>\n",
              "      <th>39.7812499999999</th>\n",
              "      <th>39.8124999999999</th>\n",
              "      <th>39.8437499999999</th>\n",
              "      <th>39.8749999999999</th>\n",
              "      <th>39.9062499999999</th>\n",
              "      <th>39.9374999999999</th>\n",
              "      <th>39.9687499999999</th>\n",
              "      <th>39.9999999999999</th>\n",
              "    </tr>\n",
              "  </thead>\n",
              "  <tbody>\n",
              "    <tr>\n",
              "      <th>0</th>\n",
              "      <td>1</td>\n",
              "      <td>1</td>\n",
              "      <td>1</td>\n",
              "      <td>80.0</td>\n",
              "      <td>0</td>\n",
              "      <td>1</td>\n",
              "      <td>-334.501270</td>\n",
              "      <td>-333.132364</td>\n",
              "      <td>-325.572794</td>\n",
              "      <td>-336.320168</td>\n",
              "      <td>...</td>\n",
              "      <td>-335.056696</td>\n",
              "      <td>-328.066995</td>\n",
              "      <td>-325.754530</td>\n",
              "      <td>-328.066995</td>\n",
              "      <td>-328.066995</td>\n",
              "      <td>-325.395278</td>\n",
              "      <td>-321.992445</td>\n",
              "      <td>-328.886037</td>\n",
              "      <td>-322.977492</td>\n",
              "      <td>-335.056696</td>\n",
              "    </tr>\n",
              "    <tr>\n",
              "      <th>1</th>\n",
              "      <td>2</td>\n",
              "      <td>1</td>\n",
              "      <td>1</td>\n",
              "      <td>160.0</td>\n",
              "      <td>0</td>\n",
              "      <td>2</td>\n",
              "      <td>-338.049215</td>\n",
              "      <td>-327.846616</td>\n",
              "      <td>-327.474368</td>\n",
              "      <td>-338.873124</td>\n",
              "      <td>...</td>\n",
              "      <td>NaN</td>\n",
              "      <td>-321.746918</td>\n",
              "      <td>-326.565933</td>\n",
              "      <td>-322.586533</td>\n",
              "      <td>-341.617433</td>\n",
              "      <td>-322.586533</td>\n",
              "      <td>NaN</td>\n",
              "      <td>-331.617433</td>\n",
              "      <td>-328.607133</td>\n",
              "      <td>-328.144133</td>\n",
              "    </tr>\n",
              "    <tr>\n",
              "      <th>2</th>\n",
              "      <td>3</td>\n",
              "      <td>1</td>\n",
              "      <td>1</td>\n",
              "      <td>240.0</td>\n",
              "      <td>0</td>\n",
              "      <td>3</td>\n",
              "      <td>-335.915875</td>\n",
              "      <td>-332.459387</td>\n",
              "      <td>-349.826960</td>\n",
              "      <td>-328.583144</td>\n",
              "      <td>...</td>\n",
              "      <td>-326.872508</td>\n",
              "      <td>-333.434423</td>\n",
              "      <td>-329.882808</td>\n",
              "      <td>-329.882808</td>\n",
              "      <td>-331.686340</td>\n",
              "      <td>-325.665740</td>\n",
              "      <td>-335.903408</td>\n",
              "      <td>-326.872508</td>\n",
              "      <td>-329.882808</td>\n",
              "      <td>-328.913708</td>\n",
              "    </tr>\n",
              "    <tr>\n",
              "      <th>3</th>\n",
              "      <td>4</td>\n",
              "      <td>1</td>\n",
              "      <td>1</td>\n",
              "      <td>320.0</td>\n",
              "      <td>0</td>\n",
              "      <td>4</td>\n",
              "      <td>-330.110140</td>\n",
              "      <td>-337.262521</td>\n",
              "      <td>-332.736237</td>\n",
              "      <td>-339.124990</td>\n",
              "      <td>...</td>\n",
              "      <td>-336.294415</td>\n",
              "      <td>-330.273815</td>\n",
              "      <td>-329.274286</td>\n",
              "      <td>-329.304715</td>\n",
              "      <td>-321.242915</td>\n",
              "      <td>-320.731390</td>\n",
              "      <td>-328.335615</td>\n",
              "      <td>-325.154982</td>\n",
              "      <td>-326.294415</td>\n",
              "      <td>-330.273815</td>\n",
              "    </tr>\n",
              "    <tr>\n",
              "      <th>4</th>\n",
              "      <td>5</td>\n",
              "      <td>1</td>\n",
              "      <td>1</td>\n",
              "      <td>400.0</td>\n",
              "      <td>0</td>\n",
              "      <td>5</td>\n",
              "      <td>-336.413189</td>\n",
              "      <td>-330.762275</td>\n",
              "      <td>-332.048845</td>\n",
              "      <td>-337.871202</td>\n",
              "      <td>...</td>\n",
              "      <td>-331.093800</td>\n",
              "      <td>-336.602875</td>\n",
              "      <td>-329.274286</td>\n",
              "      <td>-329.155600</td>\n",
              "      <td>-324.104100</td>\n",
              "      <td>-320.731390</td>\n",
              "      <td>-333.027762</td>\n",
              "      <td>-325.154982</td>\n",
              "      <td>-343.135000</td>\n",
              "      <td>-337.114400</td>\n",
              "    </tr>\n",
              "    <tr>\n",
              "      <th>...</th>\n",
              "      <td>...</td>\n",
              "      <td>...</td>\n",
              "      <td>...</td>\n",
              "      <td>...</td>\n",
              "      <td>...</td>\n",
              "      <td>...</td>\n",
              "      <td>...</td>\n",
              "      <td>...</td>\n",
              "      <td>...</td>\n",
              "      <td>...</td>\n",
              "      <td>...</td>\n",
              "      <td>...</td>\n",
              "      <td>...</td>\n",
              "      <td>...</td>\n",
              "      <td>...</td>\n",
              "      <td>...</td>\n",
              "      <td>...</td>\n",
              "      <td>...</td>\n",
              "      <td>...</td>\n",
              "      <td>...</td>\n",
              "      <td>...</td>\n",
              "    </tr>\n",
              "    <tr>\n",
              "      <th>320</th>\n",
              "      <td>321</td>\n",
              "      <td>13</td>\n",
              "      <td>1</td>\n",
              "      <td>1680.0</td>\n",
              "      <td>0</td>\n",
              "      <td>21</td>\n",
              "      <td>-54.561583</td>\n",
              "      <td>-44.613902</td>\n",
              "      <td>-41.167754</td>\n",
              "      <td>-40.733658</td>\n",
              "      <td>...</td>\n",
              "      <td>-46.796297</td>\n",
              "      <td>-44.789001</td>\n",
              "      <td>-49.459724</td>\n",
              "      <td>-43.774488</td>\n",
              "      <td>-46.750014</td>\n",
              "      <td>-45.695103</td>\n",
              "      <td>-43.781436</td>\n",
              "      <td>-40.756417</td>\n",
              "      <td>-49.368974</td>\n",
              "      <td>-35.147507</td>\n",
              "    </tr>\n",
              "    <tr>\n",
              "      <th>321</th>\n",
              "      <td>322</td>\n",
              "      <td>13</td>\n",
              "      <td>1</td>\n",
              "      <td>1760.0</td>\n",
              "      <td>0</td>\n",
              "      <td>22</td>\n",
              "      <td>-58.293111</td>\n",
              "      <td>-50.937024</td>\n",
              "      <td>-40.632352</td>\n",
              "      <td>-55.283881</td>\n",
              "      <td>...</td>\n",
              "      <td>-54.613867</td>\n",
              "      <td>-42.210508</td>\n",
              "      <td>-41.569807</td>\n",
              "      <td>-46.446182</td>\n",
              "      <td>-52.601701</td>\n",
              "      <td>-45.139597</td>\n",
              "      <td>-46.657479</td>\n",
              "      <td>-50.439532</td>\n",
              "      <td>-45.279847</td>\n",
              "      <td>-47.112150</td>\n",
              "    </tr>\n",
              "    <tr>\n",
              "      <th>322</th>\n",
              "      <td>323</td>\n",
              "      <td>13</td>\n",
              "      <td>1</td>\n",
              "      <td>1840.0</td>\n",
              "      <td>0</td>\n",
              "      <td>23</td>\n",
              "      <td>-56.360107</td>\n",
              "      <td>-49.076076</td>\n",
              "      <td>-38.904166</td>\n",
              "      <td>-42.718141</td>\n",
              "      <td>...</td>\n",
              "      <td>-44.865531</td>\n",
              "      <td>-40.877947</td>\n",
              "      <td>-38.035555</td>\n",
              "      <td>-43.307802</td>\n",
              "      <td>-44.275443</td>\n",
              "      <td>-39.932980</td>\n",
              "      <td>-42.285547</td>\n",
              "      <td>-55.159451</td>\n",
              "      <td>-42.410064</td>\n",
              "      <td>-47.629492</td>\n",
              "    </tr>\n",
              "    <tr>\n",
              "      <th>323</th>\n",
              "      <td>324</td>\n",
              "      <td>13</td>\n",
              "      <td>1</td>\n",
              "      <td>1920.0</td>\n",
              "      <td>0</td>\n",
              "      <td>24</td>\n",
              "      <td>-48.972740</td>\n",
              "      <td>-44.050182</td>\n",
              "      <td>-48.665758</td>\n",
              "      <td>-48.660555</td>\n",
              "      <td>...</td>\n",
              "      <td>-40.742621</td>\n",
              "      <td>-58.084123</td>\n",
              "      <td>-43.044080</td>\n",
              "      <td>-43.606192</td>\n",
              "      <td>-43.880028</td>\n",
              "      <td>-49.691087</td>\n",
              "      <td>-46.022193</td>\n",
              "      <td>-47.717701</td>\n",
              "      <td>-39.202819</td>\n",
              "      <td>-51.550857</td>\n",
              "    </tr>\n",
              "    <tr>\n",
              "      <th>324</th>\n",
              "      <td>325</td>\n",
              "      <td>13</td>\n",
              "      <td>1</td>\n",
              "      <td>2000.0</td>\n",
              "      <td>0</td>\n",
              "      <td>25</td>\n",
              "      <td>-38.242082</td>\n",
              "      <td>-38.461429</td>\n",
              "      <td>-45.351282</td>\n",
              "      <td>-69.542816</td>\n",
              "      <td>...</td>\n",
              "      <td>-47.447630</td>\n",
              "      <td>-46.748093</td>\n",
              "      <td>-45.419644</td>\n",
              "      <td>-45.034501</td>\n",
              "      <td>-46.944102</td>\n",
              "      <td>-48.295050</td>\n",
              "      <td>-51.188603</td>\n",
              "      <td>-54.750253</td>\n",
              "      <td>-38.874409</td>\n",
              "      <td>-39.958411</td>\n",
              "    </tr>\n",
              "  </tbody>\n",
              "</table>\n",
              "<p>325 rows × 2567 columns</p>\n",
              "</div>\n",
              "      <button class=\"colab-df-convert\" onclick=\"convertToInteractive('df-22c45307-7bca-4213-8fe1-1d49bf2d7554')\"\n",
              "              title=\"Convert this dataframe to an interactive table.\"\n",
              "              style=\"display:none;\">\n",
              "        \n",
              "  <svg xmlns=\"http://www.w3.org/2000/svg\" height=\"24px\"viewBox=\"0 0 24 24\"\n",
              "       width=\"24px\">\n",
              "    <path d=\"M0 0h24v24H0V0z\" fill=\"none\"/>\n",
              "    <path d=\"M18.56 5.44l.94 2.06.94-2.06 2.06-.94-2.06-.94-.94-2.06-.94 2.06-2.06.94zm-11 1L8.5 8.5l.94-2.06 2.06-.94-2.06-.94L8.5 2.5l-.94 2.06-2.06.94zm10 10l.94 2.06.94-2.06 2.06-.94-2.06-.94-.94-2.06-.94 2.06-2.06.94z\"/><path d=\"M17.41 7.96l-1.37-1.37c-.4-.4-.92-.59-1.43-.59-.52 0-1.04.2-1.43.59L10.3 9.45l-7.72 7.72c-.78.78-.78 2.05 0 2.83L4 21.41c.39.39.9.59 1.41.59.51 0 1.02-.2 1.41-.59l7.78-7.78 2.81-2.81c.8-.78.8-2.07 0-2.86zM5.41 20L4 18.59l7.72-7.72 1.47 1.35L5.41 20z\"/>\n",
              "  </svg>\n",
              "      </button>\n",
              "      \n",
              "  <style>\n",
              "    .colab-df-container {\n",
              "      display:flex;\n",
              "      flex-wrap:wrap;\n",
              "      gap: 12px;\n",
              "    }\n",
              "\n",
              "    .colab-df-convert {\n",
              "      background-color: #E8F0FE;\n",
              "      border: none;\n",
              "      border-radius: 50%;\n",
              "      cursor: pointer;\n",
              "      display: none;\n",
              "      fill: #1967D2;\n",
              "      height: 32px;\n",
              "      padding: 0 0 0 0;\n",
              "      width: 32px;\n",
              "    }\n",
              "\n",
              "    .colab-df-convert:hover {\n",
              "      background-color: #E2EBFA;\n",
              "      box-shadow: 0px 1px 2px rgba(60, 64, 67, 0.3), 0px 1px 3px 1px rgba(60, 64, 67, 0.15);\n",
              "      fill: #174EA6;\n",
              "    }\n",
              "\n",
              "    [theme=dark] .colab-df-convert {\n",
              "      background-color: #3B4455;\n",
              "      fill: #D2E3FC;\n",
              "    }\n",
              "\n",
              "    [theme=dark] .colab-df-convert:hover {\n",
              "      background-color: #434B5C;\n",
              "      box-shadow: 0px 1px 3px 1px rgba(0, 0, 0, 0.15);\n",
              "      filter: drop-shadow(0px 1px 2px rgba(0, 0, 0, 0.3));\n",
              "      fill: #FFFFFF;\n",
              "    }\n",
              "  </style>\n",
              "\n",
              "      <script>\n",
              "        const buttonEl =\n",
              "          document.querySelector('#df-22c45307-7bca-4213-8fe1-1d49bf2d7554 button.colab-df-convert');\n",
              "        buttonEl.style.display =\n",
              "          google.colab.kernel.accessAllowed ? 'block' : 'none';\n",
              "\n",
              "        async function convertToInteractive(key) {\n",
              "          const element = document.querySelector('#df-22c45307-7bca-4213-8fe1-1d49bf2d7554');\n",
              "          const dataTable =\n",
              "            await google.colab.kernel.invokeFunction('convertToInteractive',\n",
              "                                                     [key], {});\n",
              "          if (!dataTable) return;\n",
              "\n",
              "          const docLinkHtml = 'Like what you see? Visit the ' +\n",
              "            '<a target=\"_blank\" href=https://colab.research.google.com/notebooks/data_table.ipynb>data table notebook</a>'\n",
              "            + ' to learn more about interactive tables.';\n",
              "          element.innerHTML = '';\n",
              "          dataTable['output_type'] = 'display_data';\n",
              "          await google.colab.output.renderOutput(dataTable, element);\n",
              "          const docLink = document.createElement('div');\n",
              "          docLink.innerHTML = docLinkHtml;\n",
              "          element.appendChild(docLink);\n",
              "        }\n",
              "      </script>\n",
              "    </div>\n",
              "  </div>\n",
              "  "
            ]
          },
          "metadata": {}
        }
      ]
    },
    {
      "cell_type": "markdown",
      "source": [
        "# Cut Tails with on wanted data"
      ],
      "metadata": {
        "id": "5sb_5ed27RQH"
      }
    },
    {
      "cell_type": "markdown",
      "source": [
        "## Calculate the average value of groups"
      ],
      "metadata": {
        "id": "mqaottXF7cAP"
      }
    },
    {
      "cell_type": "code",
      "source": [
        "def prime_number_finder(stop_gap, total_num_of_data):\n",
        "  prime_nums = []\n",
        "  i=2\n",
        "  while i <= stop_gap:\n",
        "    if (total_num_of_data % i==0):\n",
        "      prime_nums.append(i)\n",
        "      break\n",
        "    i+=1\n",
        "  return prime_nums\n",
        "\n",
        "def aggreagator_v2(df, stop_gap=50):\n",
        "  total_num_of_data = df.shape[1]\n",
        "  arr_prime = prime_number_finder(stop_gap, total_num_of_data)\n",
        "  #agg_num = np.max(arr_prime)\n",
        "  agg_num = arr_prime[0]\n",
        "\n",
        "  # Creating new df of aggregate values\n",
        "  agg_df = pd.DataFrame()\n",
        "\n",
        "  mid_point = df.shape[1]/2\n",
        "\n",
        "  agg=0\n",
        "  loop_cnt=0\n",
        "  init_column_cnt = 5\n",
        "  while agg<=total_num_of_data:\n",
        "    loop_cnt+=1\n",
        "    # Obtain current last columns stop\n",
        "    agg=agg_num+init_column_cnt\n",
        "    # Select working columns\n",
        "    new_df = df[df.columns[init_column_cnt:agg]]\n",
        "\n",
        "    init_column_cnt += (agg_num)\n",
        "\n",
        "    headers = list(new_df.columns.values) \n",
        "    if loop_cnt <= mid_point:\n",
        "      # Get average of freq values for new header\n",
        "      new_header_name  = headers[-1]\n",
        "    else:\n",
        "      new_header_name = headers[0]\n",
        "    \n",
        "    # Add aggragated values to new df\n",
        "    agg_df[str(new_header_name)] = new_df.mean(axis = 1)\n",
        "  return agg_df"
      ],
      "metadata": {
        "id": "jJ0ARUa0iLyx"
      },
      "execution_count": 11,
      "outputs": []
    },
    {
      "cell_type": "markdown",
      "source": [
        "## Select the first sample for testing of the mean values"
      ],
      "metadata": {
        "id": "YBZTkz8A8AQe"
      }
    },
    {
      "cell_type": "markdown",
      "source": [
        "## Remove tails selectors (return the headers fromt where the data should be selected"
      ],
      "metadata": {
        "id": "6dWAxqsO8VkR"
      }
    },
    {
      "cell_type": "code",
      "source": [
        "def remove_tail(df, cut_val):\n",
        "  columns_selected = []\n",
        "  old_val = 0\n",
        "  delta = 0\n",
        "  mid_point = int(df.shape[1]/2)\n",
        "  cols_headers  =list(df.columns.values)\n",
        "\n",
        "  for i in range(0, df.shape[1]):\n",
        "    if i == 0:\n",
        "      cell_val = df.iloc[[0], i]\n",
        "      old_val = cell_val[0]\n",
        "    else:\n",
        "      cell_val = df.iloc[[0], i]\n",
        "      val = cell_val[0]\n",
        "      delta = abs(old_val-val)\n",
        "      old_val = val\n",
        "      if delta > cut_val:\n",
        "        if i <= mid_point:\n",
        "          col_name_selected = cols_headers[i+2]\n",
        "        else:\n",
        "          col_name_selected = cols_headers[i-2]\n",
        "          col_name_selected = round(float(col_name_selected), 5)\n",
        "        columns_selected.append(str(col_name_selected))\n",
        "\n",
        "  return columns_selected\n",
        "\n",
        "# Removing tails conducting multiples loops with variable cutoff value until we get only two columns\n",
        "def remove_tail_main(df, cut_val=50):\n",
        "  old_drop_cols = []\n",
        "  drop_cols = remove_tail(df, cut_val)\n",
        "  while len(drop_cols) != 2:\n",
        "    # If len of columns to be dropped are 0 the select the 2 values smaller and bigger of the previous iteration\n",
        "    if len(drop_cols) == 0:\n",
        "      str_to_float = [round(float(i), 5) for i in old_drop_cols]\n",
        "      drop_cols = [str(np.min(str_to_float)), str(np.max(str_to_float))]\n",
        "      break\n",
        "    else:\n",
        "      old_drop_cols = drop_cols\n",
        "      drop_cols = remove_tail(df, cut_val)\n",
        "      cut_val += 2\n",
        "  return drop_cols"
      ],
      "metadata": {
        "id": "g65aVEiAq-Tk"
      },
      "execution_count": 12,
      "outputs": []
    },
    {
      "cell_type": "code",
      "source": [
        "def get_working_data_idx(df_mean_sample, sample_id, cut_val = 0):\n",
        "\n",
        "  df = df_mean_sample.iloc[[sample_id - 1]]\n",
        "\n",
        "  smoothed_2dg = savgol_filter(df, window_length = 5, polyorder = 2)\n",
        "  smoothed_df = pd.DataFrame(smoothed_2dg)\n",
        "\n",
        "  # Adding back headers to the smoothed data\n",
        "  rename_col = {}\n",
        "  cnt = 0\n",
        "  for col in df.columns:\n",
        "    h_col = round(float(col), 5)\n",
        "    rename_col[cnt] = str(h_col)\n",
        "    cnt += 1\n",
        "\n",
        "  smoothed_df.rename(columns=rename_col, inplace=True)\n",
        "\n",
        "  agg_df = aggreagator_v2(smoothed_df)\n",
        "\n",
        "  col_vals = remove_tail_main(agg_df, cut_val=cut_val)\n",
        "\n",
        "  left_index_no = smoothed_df.columns.get_loc(col_vals[0])\n",
        "  rigth_index_no = smoothed_df.columns.get_loc(col_vals[1])\n",
        "\n",
        "  return left_index_no, rigth_index_no"
      ],
      "metadata": {
        "id": "ZWPjDoClAYfF"
      },
      "execution_count": 13,
      "outputs": []
    },
    {
      "cell_type": "code",
      "source": [
        "df_mean_sample = df_13_samples.groupby(['PBRS_id']).mean()\n",
        "df_mean_sample = df_mean_sample.drop(['row', 'Channels', 'Distance_km', 'power_dBm'], axis = 1)\n",
        "cut_point = {}\n",
        "print('Calculating the cutoff values:')\n",
        "for sample in tqdm(df_mean_sample.index):\n",
        "  left_index_no, rigth_index_no = get_working_data_idx(df_mean_sample, sample_id = sample)\n",
        "  cut_point[sample] = (left_index_no, rigth_index_no)"
      ],
      "metadata": {
        "colab": {
          "base_uri": "https://localhost:8080/"
        },
        "id": "vsFa95lo5ovi",
        "outputId": "a6044338-14c9-4393-8338-5bdae42b9906"
      },
      "execution_count": 14,
      "outputs": [
        {
          "output_type": "stream",
          "name": "stdout",
          "text": [
            "Calculating the cutoff values:\n"
          ]
        },
        {
          "output_type": "stream",
          "name": "stderr",
          "text": [
            "100%|██████████| 13/13 [00:09<00:00,  1.36it/s]\n"
          ]
        }
      ]
    },
    {
      "cell_type": "code",
      "source": [
        "print(cut_point)"
      ],
      "metadata": {
        "colab": {
          "base_uri": "https://localhost:8080/"
        },
        "id": "YNtJ90bc6O_8",
        "outputId": "82f650a4-1b2b-4c7f-a42a-6f9bd9a425cf"
      },
      "execution_count": 15,
      "outputs": [
        {
          "output_type": "stream",
          "name": "stdout",
          "text": [
            "{1: (238, 2357), 2: (238, 2344), 3: (251, 251), 4: (251, 2318), 5: (238, 2357), 6: (238, 2344), 7: (251, 2331), 8: (2318, 2318), 9: (238, 2357), 10: (238, 2357), 11: (238, 2344), 12: (251, 2331), 13: (277, 2318)}\n"
          ]
        }
      ]
    },
    {
      "cell_type": "code",
      "source": [
        "test_df = df_mean_sample.iloc[[0]]\n",
        "sample_1 = test_df.iloc[0].squeeze()\n",
        "sample_1.plot()\n",
        "plt.show()"
      ],
      "metadata": {
        "id": "QxYsuh3AG-B9",
        "outputId": "cf3dc8b8-f4f0-4cc0-95bd-650dc3b47c91",
        "colab": {
          "base_uri": "https://localhost:8080/",
          "height": 268
        }
      },
      "execution_count": 16,
      "outputs": [
        {
          "output_type": "display_data",
          "data": {
            "text/plain": [
              "<Figure size 432x288 with 1 Axes>"
            ],
            "image/png": "[encoded data removed]"
          },
          "metadata": {
            "needs_background": "light"
          }
        }
      ]
    },
    {
      "cell_type": "code",
      "source": [
        "smoothed_2dg = savgol_filter(test_df, window_length = 5, polyorder = 2)\n",
        "gfg = pd.Series(smoothed_2dg[0])\n",
        "gfg.plot()\n",
        "plt.show()"
      ],
      "metadata": {
        "id": "pqofq7g3G-sF",
        "outputId": "65a06461-9569-4671-8f44-4645e0073ca8",
        "colab": {
          "base_uri": "https://localhost:8080/",
          "height": 265
        }
      },
      "execution_count": 17,
      "outputs": [
        {
          "output_type": "display_data",
          "data": {
            "text/plain": [
              "<Figure size 432x288 with 1 Axes>"
            ],
            "image/png": "[encoded data removed]"
          },
          "metadata": {
            "needs_background": "light"
          }
        }
      ]
    },
    {
      "cell_type": "code",
      "source": [
        "# Selecting only the working file of the after cut of tails\n",
        "working_df = df_mean_sample.iloc[0, cut_point[1][0]:cut_point[1][1]]"
      ],
      "metadata": {
        "id": "zwf1FsgMUiJb"
      },
      "execution_count": 18,
      "outputs": []
    },
    {
      "cell_type": "code",
      "source": [
        "sample_df = df_13_samples[df_13_samples['PBRS_id'] == 1]\n",
        "first_cols_df = sample_df.iloc[:, 0:6]\n",
        "working_df = sample_df.iloc[:, cut_point[1][0]+6:cut_point[1][1]+6]\n",
        "merge_df = pd.merge(first_cols_df, working_df, left_index=True, right_index=True)"
      ],
      "metadata": {
        "id": "8-upXl4cH3JU"
      },
      "execution_count": 39,
      "outputs": []
    },
    {
      "cell_type": "code",
      "source": [
        "display(merge_df.head(3))"
      ],
      "metadata": {
        "id": "VOO_MJcJLMva",
        "outputId": "2cfeade4-c87c-43f7-ed48-c2fe7ad2bee1",
        "colab": {
          "base_uri": "https://localhost:8080/",
          "height": 237
        }
      },
      "execution_count": 42,
      "outputs": [
        {
          "output_type": "display_data",
          "data": {
            "text/plain": [
              "   row  PBRS_id  Channels  Distance_km  power_dBm #span   -32.5625  -32.53125  \\\n",
              "0    1        1         1         80.0          0     1 -13.593201 -24.993595   \n",
              "1    2        1         1        160.0          0     2 -13.419649 -20.048825   \n",
              "2    3        1         1        240.0          0     3 -21.910278 -21.635098   \n",
              "\n",
              "       -32.5  -32.46875  ...   33.34375     33.375   33.40625    33.4375  \\\n",
              "0 -24.270094 -17.774451  ... -21.638294 -16.841326 -20.668416 -21.541715   \n",
              "1 -16.191568 -17.013292  ... -29.818188 -20.143675 -21.405808 -26.310262   \n",
              "2  -7.321461 -19.485687  ... -19.838601 -23.433155 -32.336941 -20.994167   \n",
              "\n",
              "    33.46875       33.5   33.53125    33.5625   33.59375     33.625  \n",
              "0 -20.197260 -21.183261 -34.770490 -24.169832 -26.396083 -29.035411  \n",
              "1 -21.103194 -31.014741 -30.372887 -38.764411 -26.184886 -37.781389  \n",
              "2 -22.824940 -25.516254 -28.110762 -22.550179 -33.540466 -24.285250  \n",
              "\n",
              "[3 rows x 2125 columns]"
            ],
            "text/html": [
              "\n",
              "  <div id=\"df-74dc57dd-fcb1-45aa-8dce-34f44985d69a\">\n",
              "    <div class=\"colab-df-container\">\n",
              "      <div>\n",
              "<style scoped>\n",
              "    .dataframe tbody tr th:only-of-type {\n",
              "        vertical-align: middle;\n",
              "    }\n",
              "\n",
              "    .dataframe tbody tr th {\n",
              "        vertical-align: top;\n",
              "    }\n",
              "\n",
              "    .dataframe thead th {\n",
              "        text-align: right;\n",
              "    }\n",
              "</style>\n",
              "<table border=\"1\" class=\"dataframe\">\n",
              "  <thead>\n",
              "    <tr style=\"text-align: right;\">\n",
              "      <th></th>\n",
              "      <th>row</th>\n",
              "      <th>PBRS_id</th>\n",
              "      <th>Channels</th>\n",
              "      <th>Distance_km</th>\n",
              "      <th>power_dBm</th>\n",
              "      <th>#span</th>\n",
              "      <th>-32.5625</th>\n",
              "      <th>-32.53125</th>\n",
              "      <th>-32.5</th>\n",
              "      <th>-32.46875</th>\n",
              "      <th>...</th>\n",
              "      <th>33.34375</th>\n",
              "      <th>33.375</th>\n",
              "      <th>33.40625</th>\n",
              "      <th>33.4375</th>\n",
              "      <th>33.46875</th>\n",
              "      <th>33.5</th>\n",
              "      <th>33.53125</th>\n",
              "      <th>33.5625</th>\n",
              "      <th>33.59375</th>\n",
              "      <th>33.625</th>\n",
              "    </tr>\n",
              "  </thead>\n",
              "  <tbody>\n",
              "    <tr>\n",
              "      <th>0</th>\n",
              "      <td>1</td>\n",
              "      <td>1</td>\n",
              "      <td>1</td>\n",
              "      <td>80.0</td>\n",
              "      <td>0</td>\n",
              "      <td>1</td>\n",
              "      <td>-13.593201</td>\n",
              "      <td>-24.993595</td>\n",
              "      <td>-24.270094</td>\n",
              "      <td>-17.774451</td>\n",
              "      <td>...</td>\n",
              "      <td>-21.638294</td>\n",
              "      <td>-16.841326</td>\n",
              "      <td>-20.668416</td>\n",
              "      <td>-21.541715</td>\n",
              "      <td>-20.197260</td>\n",
              "      <td>-21.183261</td>\n",
              "      <td>-34.770490</td>\n",
              "      <td>-24.169832</td>\n",
              "      <td>-26.396083</td>\n",
              "      <td>-29.035411</td>\n",
              "    </tr>\n",
              "    <tr>\n",
              "      <th>1</th>\n",
              "      <td>2</td>\n",
              "      <td>1</td>\n",
              "      <td>1</td>\n",
              "      <td>160.0</td>\n",
              "      <td>0</td>\n",
              "      <td>2</td>\n",
              "      <td>-13.419649</td>\n",
              "      <td>-20.048825</td>\n",
              "      <td>-16.191568</td>\n",
              "      <td>-17.013292</td>\n",
              "      <td>...</td>\n",
              "      <td>-29.818188</td>\n",
              "      <td>-20.143675</td>\n",
              "      <td>-21.405808</td>\n",
              "      <td>-26.310262</td>\n",
              "      <td>-21.103194</td>\n",
              "      <td>-31.014741</td>\n",
              "      <td>-30.372887</td>\n",
              "      <td>-38.764411</td>\n",
              "      <td>-26.184886</td>\n",
              "      <td>-37.781389</td>\n",
              "    </tr>\n",
              "    <tr>\n",
              "      <th>2</th>\n",
              "      <td>3</td>\n",
              "      <td>1</td>\n",
              "      <td>1</td>\n",
              "      <td>240.0</td>\n",
              "      <td>0</td>\n",
              "      <td>3</td>\n",
              "      <td>-21.910278</td>\n",
              "      <td>-21.635098</td>\n",
              "      <td>-7.321461</td>\n",
              "      <td>-19.485687</td>\n",
              "      <td>...</td>\n",
              "      <td>-19.838601</td>\n",
              "      <td>-23.433155</td>\n",
              "      <td>-32.336941</td>\n",
              "      <td>-20.994167</td>\n",
              "      <td>-22.824940</td>\n",
              "      <td>-25.516254</td>\n",
              "      <td>-28.110762</td>\n",
              "      <td>-22.550179</td>\n",
              "      <td>-33.540466</td>\n",
              "      <td>-24.285250</td>\n",
              "    </tr>\n",
              "  </tbody>\n",
              "</table>\n",
              "<p>3 rows × 2125 columns</p>\n",
              "</div>\n",
              "      <button class=\"colab-df-convert\" onclick=\"convertToInteractive('df-74dc57dd-fcb1-45aa-8dce-34f44985d69a')\"\n",
              "              title=\"Convert this dataframe to an interactive table.\"\n",
              "              style=\"display:none;\">\n",
              "        \n",
              "  <svg xmlns=\"http://www.w3.org/2000/svg\" height=\"24px\"viewBox=\"0 0 24 24\"\n",
              "       width=\"24px\">\n",
              "    <path d=\"M0 0h24v24H0V0z\" fill=\"none\"/>\n",
              "    <path d=\"M18.56 5.44l.94 2.06.94-2.06 2.06-.94-2.06-.94-.94-2.06-.94 2.06-2.06.94zm-11 1L8.5 8.5l.94-2.06 2.06-.94-2.06-.94L8.5 2.5l-.94 2.06-2.06.94zm10 10l.94 2.06.94-2.06 2.06-.94-2.06-.94-.94-2.06-.94 2.06-2.06.94z\"/><path d=\"M17.41 7.96l-1.37-1.37c-.4-.4-.92-.59-1.43-.59-.52 0-1.04.2-1.43.59L10.3 9.45l-7.72 7.72c-.78.78-.78 2.05 0 2.83L4 21.41c.39.39.9.59 1.41.59.51 0 1.02-.2 1.41-.59l7.78-7.78 2.81-2.81c.8-.78.8-2.07 0-2.86zM5.41 20L4 18.59l7.72-7.72 1.47 1.35L5.41 20z\"/>\n",
              "  </svg>\n",
              "      </button>\n",
              "      \n",
              "  <style>\n",
              "    .colab-df-container {\n",
              "      display:flex;\n",
              "      flex-wrap:wrap;\n",
              "      gap: 12px;\n",
              "    }\n",
              "\n",
              "    .colab-df-convert {\n",
              "      background-color: #E8F0FE;\n",
              "      border: none;\n",
              "      border-radius: 50%;\n",
              "      cursor: pointer;\n",
              "      display: none;\n",
              "      fill: #1967D2;\n",
              "      height: 32px;\n",
              "      padding: 0 0 0 0;\n",
              "      width: 32px;\n",
              "    }\n",
              "\n",
              "    .colab-df-convert:hover {\n",
              "      background-color: #E2EBFA;\n",
              "      box-shadow: 0px 1px 2px rgba(60, 64, 67, 0.3), 0px 1px 3px 1px rgba(60, 64, 67, 0.15);\n",
              "      fill: #174EA6;\n",
              "    }\n",
              "\n",
              "    [theme=dark] .colab-df-convert {\n",
              "      background-color: #3B4455;\n",
              "      fill: #D2E3FC;\n",
              "    }\n",
              "\n",
              "    [theme=dark] .colab-df-convert:hover {\n",
              "      background-color: #434B5C;\n",
              "      box-shadow: 0px 1px 3px 1px rgba(0, 0, 0, 0.15);\n",
              "      filter: drop-shadow(0px 1px 2px rgba(0, 0, 0, 0.3));\n",
              "      fill: #FFFFFF;\n",
              "    }\n",
              "  </style>\n",
              "\n",
              "      <script>\n",
              "        const buttonEl =\n",
              "          document.querySelector('#df-74dc57dd-fcb1-45aa-8dce-34f44985d69a button.colab-df-convert');\n",
              "        buttonEl.style.display =\n",
              "          google.colab.kernel.accessAllowed ? 'block' : 'none';\n",
              "\n",
              "        async function convertToInteractive(key) {\n",
              "          const element = document.querySelector('#df-74dc57dd-fcb1-45aa-8dce-34f44985d69a');\n",
              "          const dataTable =\n",
              "            await google.colab.kernel.invokeFunction('convertToInteractive',\n",
              "                                                     [key], {});\n",
              "          if (!dataTable) return;\n",
              "\n",
              "          const docLinkHtml = 'Like what you see? Visit the ' +\n",
              "            '<a target=\"_blank\" href=https://colab.research.google.com/notebooks/data_table.ipynb>data table notebook</a>'\n",
              "            + ' to learn more about interactive tables.';\n",
              "          element.innerHTML = '';\n",
              "          dataTable['output_type'] = 'display_data';\n",
              "          await google.colab.output.renderOutput(dataTable, element);\n",
              "          const docLink = document.createElement('div');\n",
              "          docLink.innerHTML = docLinkHtml;\n",
              "          element.appendChild(docLink);\n",
              "        }\n",
              "      </script>\n",
              "    </div>\n",
              "  </div>\n",
              "  "
            ]
          },
          "metadata": {}
        }
      ]
    },
    {
      "cell_type": "code",
      "source": [
        "# Pearson correlation\n",
        "#-1 indicates a perfectly negative linear correlation between two variables\n",
        "#0 indicates no linear correlation between two variables\n",
        "#1 indicates a perfectly positive linear correlation between two variables\n",
        "\n",
        "pearson_cor_arr = {}\n",
        "\n",
        "var1 = merge_df.iloc[0, 7:merge_df.shape[1]]\n",
        "series1 = var1.to_frame()\n",
        "vals_1 = series1[0].tolist()\n",
        "\n",
        "cnt = 1\n",
        "for i in range(1, merge_df.shape[0]):\n",
        "  var2 = merge_df.iloc[i, 7:merge_df.shape[1]]\n",
        "  series2 = var2.to_frame()\n",
        "  vals_2 = series2[cnt].tolist()\n",
        "\n",
        "  pearson_cor = np.corrcoef(vals_1, vals_2)[0,1]\n",
        "  pearson_cor_arr[80*cnt] = pearson_cor\n",
        "  cnt += 1"
      ],
      "metadata": {
        "id": "LmxXMuv4K_I1"
      },
      "execution_count": 63,
      "outputs": []
    },
    {
      "cell_type": "code",
      "source": [
        "pearson_cor_arr"
      ],
      "metadata": {
        "id": "Vpy63xbhPfbn",
        "outputId": "4e9d0719-f6e9-47d0-9d9e-35561312db8e",
        "colab": {
          "base_uri": "https://localhost:8080/"
        }
      },
      "execution_count": 64,
      "outputs": [
        {
          "output_type": "execute_result",
          "data": {
            "text/plain": [
              "{80: 0.04641077606446756,\n",
              " 160: 0.05005247851499939,\n",
              " 240: 0.10102330461901668,\n",
              " 320: 0.06805315835907161,\n",
              " 400: 0.07649144502393601,\n",
              " 480: 0.09754581373356093,\n",
              " 560: 0.06842129975866199,\n",
              " 640: 0.08424852804006737,\n",
              " 720: 0.01773387291359962,\n",
              " 800: 0.9933024426184994,\n",
              " 880: 0.059947121236812166,\n",
              " 960: 0.06581102980441182,\n",
              " 1040: 0.11438155198480973,\n",
              " 1120: 0.08333186712695102,\n",
              " 1200: 0.08956322242716727,\n",
              " 1280: 0.10945573082414746,\n",
              " 1360: 0.08466205226910868,\n",
              " 1440: 0.09583106915115573,\n",
              " 1520: 0.03269310624142061,\n",
              " 1600: 0.9828163110014501,\n",
              " 1680: 0.07271847681512653,\n",
              " 1760: 0.07916120269102885,\n",
              " 1840: 0.12853218422512294,\n",
              " 1920: 0.103584419306046}"
            ]
          },
          "metadata": {},
          "execution_count": 64
        }
      ]
    }
  ]
}
