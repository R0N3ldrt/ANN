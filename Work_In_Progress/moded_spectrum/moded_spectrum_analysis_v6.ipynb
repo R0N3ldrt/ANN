{
  "nbformat": 4,
  "nbformat_minor": 0,
  "metadata": {
    "colab": {
      "name": "Untitled8.ipynb",
      "provenance": [],
      "authorship_tag": "ABX9TyPWd1hj0vyj+mIs3Eq179zB",
      "include_colab_link": true
    },
    "kernelspec": {
      "name": "python3",
      "display_name": "Python 3"
    },
    "language_info": {
      "name": "python"
    }
  },
  "cells": [
    {
      "cell_type": "markdown",
      "metadata": {
        "id": "view-in-github",
        "colab_type": "text"
      },
      "source": [
        "<a href=\"https://colab.research.google.com/github/R0N3ldrt/Thesis/blob/main/moded_spectrum_analysis_v6.ipynb\" target=\"_parent\"><img src=\"https://colab.research.google.com/assets/colab-badge.svg\" alt=\"Open In Colab\"/></a>"
      ]
    },
    {
      "cell_type": "markdown",
      "source": [
        "# Spectrum Analysis V2"
      ],
      "metadata": {
        "id": "pGh8g-miYhWN"
      }
    },
    {
      "cell_type": "markdown",
      "source": [
        "# Loading Necesary Libraries"
      ],
      "metadata": {
        "id": "EnyBi7O6YtBK"
      }
    },
    {
      "cell_type": "code",
      "execution_count": 90,
      "metadata": {
        "id": "3CRIKozoYfn1"
      },
      "outputs": [],
      "source": [
        "# Importing necesary libraries\n",
        "# Libraries for correct code execution \n",
        "\n",
        "import os, time\n",
        "import pandas as pd\n",
        "import numpy as np\n",
        "import matplotlib.pyplot as plt\n",
        "import math\n",
        "import pickle\n",
        "import random\n",
        "import csv\n",
        "import re\n",
        "import seaborn as sns\n",
        "from tqdm import tqdm\n",
        "\n",
        "from random import random, gauss\n",
        "from math import modf, pi, cos, sin, sqrt\n",
        "from sklearn.model_selection import train_test_split\n",
        "from sklearn.preprocessing import MinMaxScaler\n",
        "from plotly.subplots import make_subplots\n",
        "from scipy.signal import savgol_filter\n",
        "from scipy.stats.stats import pearsonr\n",
        "from scipy.stats import spearmanr\n",
        "\n",
        "import plotly.graph_objects as go\n",
        "import plotly.express as px\n",
        "from plotly.subplots import make_subplots\n",
        "\n",
        "from keras.models import Sequential\n",
        "from keras.layers import Dense,Conv2D, Flatten\n",
        "from keras.wrappers.scikit_learn import KerasRegressor\n",
        "from keras.callbacks import EarlyStopping\n",
        "from sklearn.mixture import GaussianMixture\n",
        "\n",
        "import warnings\n",
        "warnings.filterwarnings(\"ignore\")\n",
        "\n",
        "sns.set_theme()"
      ]
    },
    {
      "cell_type": "markdown",
      "source": [
        "# Load Enviroment"
      ],
      "metadata": {
        "id": "18mwd0RSYwZw"
      }
    },
    {
      "cell_type": "code",
      "source": [
        "# BLOQUE PARA USAR DESDE COLAB\n",
        "\n",
        "# Google drive loading as work station for local-usage of the files.\n",
        "from google.colab import drive\n",
        "drive.mount('/content/gdrive',force_remount= True)\n",
        "\n",
        "#-----------------------------------------------------------------------------"
      ],
      "metadata": {
        "colab": {
          "base_uri": "https://localhost:8080/"
        },
        "id": "YeY4YJAjY7dP",
        "outputId": "66949b3e-a90c-47a2-9363-bd251b796f43"
      },
      "execution_count": 2,
      "outputs": [
        {
          "output_type": "stream",
          "name": "stdout",
          "text": [
            "Mounted at /content/gdrive\n"
          ]
        }
      ]
    },
    {
      "cell_type": "code",
      "source": [
        "# Lista para cambiar los paths rapido.\n",
        "workers = [\"Ronald\", \"Local\"]\n",
        "\n",
        "# Change the number to change the paths.\n",
        "worker = workers[0]\n",
        "\n",
        "if worker == \"Ronald\":\n",
        "  path = \"/content/gdrive/MyDrive/Thesis_Workstation/ANN_dataset\"\n",
        "else: path = os.getcwd()"
      ],
      "metadata": {
        "id": "_Dd4TmFoY9yG"
      },
      "execution_count": 3,
      "outputs": []
    },
    {
      "cell_type": "markdown",
      "source": [
        "# Load Datasets"
      ],
      "metadata": {
        "id": "uh1vXbd7kucq"
      }
    },
    {
      "cell_type": "code",
      "source": [
        "input_path = path + \"/Spectrum/16QAM/25spans80km_withoutROADMs/dataSet_Spectrum31MHz_Samples_16QAM_75GHz_LongHaul_input_25x80km.xlsx\""
      ],
      "metadata": {
        "id": "eVsjjYTM8qcC"
      },
      "execution_count": 4,
      "outputs": []
    },
    {
      "cell_type": "markdown",
      "source": [
        "## Pre-Processing"
      ],
      "metadata": {
        "id": "nyvfgBSB7smx"
      }
    },
    {
      "cell_type": "code",
      "source": [
        "df = pd.read_excel(input_path, sheet_name = \"Sheet1\", skiprows=1)"
      ],
      "metadata": {
        "id": "NOvDGzfK9NBT"
      },
      "execution_count": 5,
      "outputs": []
    },
    {
      "cell_type": "code",
      "source": [
        "# Dropping rows that are empty\n",
        "drop_rows = [drop_row for drop_row in range(325, df.shape[0])]\n",
        "df_13_samples = df.drop(drop_rows)"
      ],
      "metadata": {
        "id": "G359T-tq-IC8"
      },
      "execution_count": 6,
      "outputs": []
    },
    {
      "cell_type": "code",
      "source": [
        "print([row for row in range(1, 14)])\n",
        "print([row for row in range(0, 25)])"
      ],
      "metadata": {
        "colab": {
          "base_uri": "https://localhost:8080/"
        },
        "id": "sWPqslMLAgU1",
        "outputId": "4b63139f-0cca-48f4-a545-d56fb55a0415"
      },
      "execution_count": 7,
      "outputs": [
        {
          "output_type": "stream",
          "name": "stdout",
          "text": [
            "[1, 2, 3, 4, 5, 6, 7, 8, 9, 10, 11, 12, 13]\n",
            "[0, 1, 2, 3, 4, 5, 6, 7, 8, 9, 10, 11, 12, 13, 14, 15, 16, 17, 18, 19, 20, 21, 22, 23, 24]\n"
          ]
        }
      ]
    },
    {
      "cell_type": "code",
      "source": [
        "# Adding missing PBRS_id\n",
        "snippet = []\n",
        "val_cnt = 1\n",
        "idx = 0\n",
        "for sample in range(1, 14):\n",
        "  for sample_id in range(0, 25):\n",
        "    df_13_samples.at[idx, 'PBRS_id'] = val_cnt\n",
        "    idx +=1\n",
        "    snippet.append(val_cnt)\n",
        "  val_cnt += 1\n",
        "df_13_samples['PBRS_id'] = df_13_samples['PBRS_id'].astype(int)"
      ],
      "metadata": {
        "id": "S-DKtLozA49m"
      },
      "execution_count": 8,
      "outputs": []
    },
    {
      "cell_type": "code",
      "source": [
        "\n",
        "df_13_samples.iloc[0].fillna(method='bfill', inplace=True)\n",
        "\n",
        "df_13_samples.iloc[1:df_13_samples.shape[0]].fillna(method='pad', inplace=True)"
      ],
      "metadata": {
        "id": "Y4M56MNj4tLC"
      },
      "execution_count": 9,
      "outputs": []
    },
    {
      "cell_type": "markdown",
      "source": [
        "# Cut Tails with on wanted data"
      ],
      "metadata": {
        "id": "5sb_5ed27RQH"
      }
    },
    {
      "cell_type": "markdown",
      "source": [
        "## Calculate the average value of groups"
      ],
      "metadata": {
        "id": "mqaottXF7cAP"
      }
    },
    {
      "cell_type": "code",
      "source": [
        "def prime_number_finder(stop_gap, total_num_of_data):\n",
        "  prime_nums = []\n",
        "  i=2\n",
        "  while i <= stop_gap:\n",
        "    if (total_num_of_data % i==0):\n",
        "      prime_nums.append(i)\n",
        "      break\n",
        "    i+=1\n",
        "  return prime_nums\n",
        "\n",
        "def aggreagator_v2(df, stop_gap=50):\n",
        "  total_num_of_data = df.shape[1]\n",
        "  arr_prime = prime_number_finder(stop_gap, total_num_of_data)\n",
        "  #agg_num = np.max(arr_prime)\n",
        "  agg_num = arr_prime[0]\n",
        "\n",
        "  # Creating new df of aggregate values\n",
        "  agg_df = pd.DataFrame()\n",
        "\n",
        "  mid_point = df.shape[1]/2\n",
        "\n",
        "  agg=0\n",
        "  loop_cnt=0\n",
        "  init_column_cnt = 5\n",
        "  while agg<=total_num_of_data:\n",
        "    loop_cnt+=1\n",
        "    # Obtain current last columns stop\n",
        "    agg=agg_num+init_column_cnt\n",
        "    # Select working columns\n",
        "    new_df = df[df.columns[init_column_cnt:agg]]\n",
        "\n",
        "    init_column_cnt += (agg_num)\n",
        "\n",
        "    headers = list(new_df.columns.values) \n",
        "    if loop_cnt <= mid_point:\n",
        "      # Get average of freq values for new header\n",
        "      new_header_name  = headers[-1]\n",
        "    else:\n",
        "      new_header_name = headers[0]\n",
        "    \n",
        "    # Add aggragated values to new df\n",
        "    agg_df[new_header_name] = new_df.mean(axis = 1)\n",
        "  return agg_df"
      ],
      "metadata": {
        "id": "jJ0ARUa0iLyx"
      },
      "execution_count": 10,
      "outputs": []
    },
    {
      "cell_type": "markdown",
      "source": [
        "## Select the first sample for testing of the mean values"
      ],
      "metadata": {
        "id": "YBZTkz8A8AQe"
      }
    },
    {
      "cell_type": "markdown",
      "source": [
        "## Find cut off index"
      ],
      "metadata": {
        "id": "6dWAxqsO8VkR"
      }
    },
    {
      "cell_type": "code",
      "source": [
        "def remove_tail(df, cut_val, sample_id):\n",
        "  columns_selected = []\n",
        "  old_val = 0\n",
        "  delta = 0\n",
        "  mid_point = int(df.shape[1]/2)\n",
        "  cols_headers  = list(df.columns.values)\n",
        "\n",
        "  for i in range(0, df.shape[1]):\n",
        "    if i == 0:\n",
        "      cell_val = df.iloc[[0], i]\n",
        "      old_val = cell_val[sample_id]\n",
        "    else:\n",
        "      cell_val = df.iloc[[0], i]\n",
        "      val = cell_val[sample_id]\n",
        "      delta = abs(old_val-val)\n",
        "      old_val = val\n",
        "      if delta > cut_val:\n",
        "        if i <= mid_point:\n",
        "          col_name_selected = cols_headers[i+2]\n",
        "        else:\n",
        "          col_name_selected = cols_headers[i-2]\n",
        "          col_name_selected = round(float(col_name_selected), 5)\n",
        "        columns_selected.append(col_name_selected)\n",
        "\n",
        "  return columns_selected"
      ],
      "metadata": {
        "id": "g65aVEiAq-Tk"
      },
      "execution_count": 11,
      "outputs": []
    },
    {
      "cell_type": "code",
      "source": [
        "# Removing tails conducting multiples loops with variable cutoff value until we get only two columns\n",
        "def remove_tail_main(df, cut_val, sample_id):\n",
        "  old_drop_cols = []\n",
        "  drop_cols = remove_tail(df, cut_val, sample_id)\n",
        "  while len(drop_cols) != 2:  \n",
        "    # If len of columns to be dropped are 0 the select the 2 values smaller and bigger of the previous iteration\n",
        "    if len(drop_cols) == 0 or len(drop_cols) == 1:\n",
        "      drop_cols = [np.min(old_drop_cols), np.max(old_drop_cols)]\n",
        "      break\n",
        "    else:\n",
        "      old_drop_cols = drop_cols\n",
        "      drop_cols = remove_tail(df, cut_val, sample_id)\n",
        "      cut_val += 2\n",
        "  return drop_cols"
      ],
      "metadata": {
        "id": "zUgNgowBhiyf"
      },
      "execution_count": 12,
      "outputs": []
    },
    {
      "cell_type": "code",
      "source": [
        "def get_working_data_idx_v2(df_mean_sample, sample_id, cut_val = 0):\n",
        "\n",
        "  df = df_mean_sample.iloc[[sample_id - 1]]\n",
        "\n",
        "  agg_df = aggreagator_v2(df)\n",
        "\n",
        "  col_vals = remove_tail_main(agg_df, cut_val=cut_val, sample_id=sample_id)\n",
        "\n",
        "  left_index_no = df.columns.get_loc(col_vals[0])\n",
        "  rigth_index_no = df.columns.get_loc(col_vals[1])\n",
        "\n",
        "  return left_index_no, rigth_index_no"
      ],
      "metadata": {
        "id": "poOQCBSpsd-W"
      },
      "execution_count": 13,
      "outputs": []
    },
    {
      "cell_type": "code",
      "source": [
        "def cur_off_idx(df):\n",
        "  df_mean_sample = df.groupby(['PBRS_id']).mean()\n",
        "  df_mean_sample = df_mean_sample.drop(['row', 'Channels', 'Distance_km', 'power_dBm'], axis = 1)\n",
        "\n",
        "  cut_points = {}\n",
        "  print('Calculating the cutoff values:')\n",
        "  for sample in tqdm(df_mean_sample.index):\n",
        "    left_index_no, rigth_index_no = get_working_data_idx_v2(df_mean_sample, sample_id = sample)\n",
        "    cut_points[sample] = (left_index_no, rigth_index_no)\n",
        "\n",
        "  left_cut_off = np.max([v[0] for k, v in cut_points.items()])\n",
        "  rigth_cut_off = np.min([v[1] for k, v in cut_points.items()])\n",
        "\n",
        "  cut_point = (left_cut_off, rigth_cut_off)\n",
        "  return cut_point"
      ],
      "metadata": {
        "id": "HwD7A2uOtDxR"
      },
      "execution_count": 14,
      "outputs": []
    },
    {
      "cell_type": "code",
      "source": [
        "cut_point = cur_off_idx(df_13_samples)"
      ],
      "metadata": {
        "colab": {
          "base_uri": "https://localhost:8080/"
        },
        "id": "BHIM9ql4ZE-U",
        "outputId": "fcbd5a66-48ad-4e50-bd74-d28dbf37d7f3"
      },
      "execution_count": 15,
      "outputs": [
        {
          "output_type": "stream",
          "name": "stdout",
          "text": [
            "Calculating the cutoff values:\n"
          ]
        },
        {
          "output_type": "stream",
          "name": "stderr",
          "text": [
            "100%|██████████| 13/13 [00:09<00:00,  1.34it/s]\n"
          ]
        }
      ]
    },
    {
      "cell_type": "markdown",
      "source": [
        "## Select working data"
      ],
      "metadata": {
        "id": "_BG9-EavcEGZ"
      }
    },
    {
      "cell_type": "code",
      "source": [
        "def select_working_data(df, cut_point):\n",
        "  extra_info_df = df.iloc[:, 0:6]\n",
        "  data_df = df.iloc[:, cut_point[0]+6:cut_point[1]+6]\n",
        "  smoothed_data_frame = pd.DataFrame(savgol_filter(data_df, window_length = 5, polyorder = 2))\n",
        "  \n",
        "  # Adding back headers to the smoothed data\n",
        "  rename_col = {}\n",
        "  cnt = 0\n",
        "  for col in data_df.columns:\n",
        "    h_col = round(float(col), 5)\n",
        "    rename_col[cnt] = h_col\n",
        "    cnt += 1\n",
        "  smoothed_data_frame.rename(columns=rename_col, inplace=True)\n",
        "\n",
        "  working_df = pd.merge(extra_info_df, smoothed_data_frame, left_index=True, right_index=True)\n",
        "  return working_df"
      ],
      "metadata": {
        "id": "r15ZrIfMb7vD"
      },
      "execution_count": 16,
      "outputs": []
    },
    {
      "cell_type": "code",
      "source": [
        "working_df = select_working_data(df_13_samples, cut_point)\n",
        "working_df"
      ],
      "metadata": {
        "colab": {
          "base_uri": "https://localhost:8080/",
          "height": 0
        },
        "id": "sdloKZfUdYkc",
        "outputId": "7a7d133d-2c3e-4836-9640-9bcc432cc5e4"
      },
      "execution_count": 17,
      "outputs": [
        {
          "output_type": "execute_result",
          "data": {
            "text/plain": [
              "     row  PBRS_id  Channels  Distance_km  power_dBm #span  -32.15625  \\\n",
              "0      1        1         1         80.0          0     1 -14.851402   \n",
              "1      2        1         1        160.0          0     2 -32.415520   \n",
              "2      3        1         1        240.0          0     3 -23.428437   \n",
              "3      4        1         1        320.0          0     4 -14.298403   \n",
              "4      5        1         1        400.0          0     5 -19.455200   \n",
              "..   ...      ...       ...          ...        ...   ...        ...   \n",
              "320  321       13         1       1680.0          0    21 -31.466739   \n",
              "321  322       13         1       1760.0          0    22 -21.303913   \n",
              "322  323       13         1       1840.0          0    23 -27.601906   \n",
              "323  324       13         1       1920.0          0    24 -31.725625   \n",
              "324  325       13         1       2000.0          0    25 -36.344549   \n",
              "\n",
              "       -32.125  -32.09375   -32.0625  ...     32.125   32.15625    32.1875  \\\n",
              "0   -21.638525 -23.529105 -14.969324  ... -19.957216 -19.447732 -14.576655   \n",
              "1   -23.442737 -17.642596 -16.382163  ... -15.348137 -13.125596 -15.424900   \n",
              "2   -21.738735 -19.956032 -18.320372  ... -21.210045 -20.014100 -13.636612   \n",
              "3   -15.210905 -15.951684 -16.209202  ... -18.673789 -12.470911 -12.638057   \n",
              "4   -19.755724 -18.313774 -13.272877  ... -17.697814 -16.074418 -16.232349   \n",
              "..         ...        ...        ...  ...        ...        ...        ...   \n",
              "320 -32.655263 -31.882492 -27.589879  ... -34.359245 -32.466935 -29.543434   \n",
              "321 -33.080588 -37.034437 -31.766035  ... -32.977742 -28.624796 -27.495186   \n",
              "322 -27.758137 -27.102083 -27.319948  ... -33.646975 -25.620092 -34.883694   \n",
              "323 -38.937830 -39.113483 -26.640446  ... -21.790284 -24.651905 -26.129703   \n",
              "324 -29.005781 -25.765866 -28.682203  ... -28.565786 -30.896225 -30.599941   \n",
              "\n",
              "      32.21875      32.25   32.28125    32.3125   32.34375     32.375  \\\n",
              "0   -15.491358 -14.654316 -17.801658 -16.387551 -13.980891 -15.122689   \n",
              "1   -18.560355 -17.197693 -12.466164 -12.735882 -10.007690 -13.820587   \n",
              "2    -9.728106  -7.977970 -19.904029 -22.658427 -19.765777 -24.603827   \n",
              "3    -9.282286 -12.488977 -10.933173 -15.749634 -15.676254 -15.412170   \n",
              "4   -13.788018 -22.471867 -23.016590 -22.392253 -18.544159 -18.765642   \n",
              "..         ...        ...        ...        ...        ...        ...   \n",
              "320 -31.321699 -33.322457 -34.343455 -30.096108 -33.185712 -33.367392   \n",
              "321 -23.847968 -25.561252 -34.242901 -40.735728 -34.014182 -33.957388   \n",
              "322 -42.119980 -35.870338 -28.109018 -32.237494 -32.837088 -31.096978   \n",
              "323 -26.548903 -25.567147 -30.324506 -30.829273 -33.027456 -34.010274   \n",
              "324 -34.733951 -33.697566 -33.559985 -27.238018 -27.418602 -27.275744   \n",
              "\n",
              "      32.40625  \n",
              "0   -17.753853  \n",
              "1   -21.908636  \n",
              "2   -31.921519  \n",
              "3   -14.347517  \n",
              "4   -23.196090  \n",
              "..         ...  \n",
              "320 -33.876192  \n",
              "321 -35.627786  \n",
              "322 -25.976283  \n",
              "323 -34.402337  \n",
              "324 -27.838489  \n",
              "\n",
              "[325 rows x 2073 columns]"
            ],
            "text/html": [
              "\n",
              "  <div id=\"df-b9c625db-5e08-4f73-a0b2-77093aababaf\">\n",
              "    <div class=\"colab-df-container\">\n",
              "      <div>\n",
              "<style scoped>\n",
              "    .dataframe tbody tr th:only-of-type {\n",
              "        vertical-align: middle;\n",
              "    }\n",
              "\n",
              "    .dataframe tbody tr th {\n",
              "        vertical-align: top;\n",
              "    }\n",
              "\n",
              "    .dataframe thead th {\n",
              "        text-align: right;\n",
              "    }\n",
              "</style>\n",
              "<table border=\"1\" class=\"dataframe\">\n",
              "  <thead>\n",
              "    <tr style=\"text-align: right;\">\n",
              "      <th></th>\n",
              "      <th>row</th>\n",
              "      <th>PBRS_id</th>\n",
              "      <th>Channels</th>\n",
              "      <th>Distance_km</th>\n",
              "      <th>power_dBm</th>\n",
              "      <th>#span</th>\n",
              "      <th>-32.15625</th>\n",
              "      <th>-32.125</th>\n",
              "      <th>-32.09375</th>\n",
              "      <th>-32.0625</th>\n",
              "      <th>...</th>\n",
              "      <th>32.125</th>\n",
              "      <th>32.15625</th>\n",
              "      <th>32.1875</th>\n",
              "      <th>32.21875</th>\n",
              "      <th>32.25</th>\n",
              "      <th>32.28125</th>\n",
              "      <th>32.3125</th>\n",
              "      <th>32.34375</th>\n",
              "      <th>32.375</th>\n",
              "      <th>32.40625</th>\n",
              "    </tr>\n",
              "  </thead>\n",
              "  <tbody>\n",
              "    <tr>\n",
              "      <th>0</th>\n",
              "      <td>1</td>\n",
              "      <td>1</td>\n",
              "      <td>1</td>\n",
              "      <td>80.0</td>\n",
              "      <td>0</td>\n",
              "      <td>1</td>\n",
              "      <td>-14.851402</td>\n",
              "      <td>-21.638525</td>\n",
              "      <td>-23.529105</td>\n",
              "      <td>-14.969324</td>\n",
              "      <td>...</td>\n",
              "      <td>-19.957216</td>\n",
              "      <td>-19.447732</td>\n",
              "      <td>-14.576655</td>\n",
              "      <td>-15.491358</td>\n",
              "      <td>-14.654316</td>\n",
              "      <td>-17.801658</td>\n",
              "      <td>-16.387551</td>\n",
              "      <td>-13.980891</td>\n",
              "      <td>-15.122689</td>\n",
              "      <td>-17.753853</td>\n",
              "    </tr>\n",
              "    <tr>\n",
              "      <th>1</th>\n",
              "      <td>2</td>\n",
              "      <td>1</td>\n",
              "      <td>1</td>\n",
              "      <td>160.0</td>\n",
              "      <td>0</td>\n",
              "      <td>2</td>\n",
              "      <td>-32.415520</td>\n",
              "      <td>-23.442737</td>\n",
              "      <td>-17.642596</td>\n",
              "      <td>-16.382163</td>\n",
              "      <td>...</td>\n",
              "      <td>-15.348137</td>\n",
              "      <td>-13.125596</td>\n",
              "      <td>-15.424900</td>\n",
              "      <td>-18.560355</td>\n",
              "      <td>-17.197693</td>\n",
              "      <td>-12.466164</td>\n",
              "      <td>-12.735882</td>\n",
              "      <td>-10.007690</td>\n",
              "      <td>-13.820587</td>\n",
              "      <td>-21.908636</td>\n",
              "    </tr>\n",
              "    <tr>\n",
              "      <th>2</th>\n",
              "      <td>3</td>\n",
              "      <td>1</td>\n",
              "      <td>1</td>\n",
              "      <td>240.0</td>\n",
              "      <td>0</td>\n",
              "      <td>3</td>\n",
              "      <td>-23.428437</td>\n",
              "      <td>-21.738735</td>\n",
              "      <td>-19.956032</td>\n",
              "      <td>-18.320372</td>\n",
              "      <td>...</td>\n",
              "      <td>-21.210045</td>\n",
              "      <td>-20.014100</td>\n",
              "      <td>-13.636612</td>\n",
              "      <td>-9.728106</td>\n",
              "      <td>-7.977970</td>\n",
              "      <td>-19.904029</td>\n",
              "      <td>-22.658427</td>\n",
              "      <td>-19.765777</td>\n",
              "      <td>-24.603827</td>\n",
              "      <td>-31.921519</td>\n",
              "    </tr>\n",
              "    <tr>\n",
              "      <th>3</th>\n",
              "      <td>4</td>\n",
              "      <td>1</td>\n",
              "      <td>1</td>\n",
              "      <td>320.0</td>\n",
              "      <td>0</td>\n",
              "      <td>4</td>\n",
              "      <td>-14.298403</td>\n",
              "      <td>-15.210905</td>\n",
              "      <td>-15.951684</td>\n",
              "      <td>-16.209202</td>\n",
              "      <td>...</td>\n",
              "      <td>-18.673789</td>\n",
              "      <td>-12.470911</td>\n",
              "      <td>-12.638057</td>\n",
              "      <td>-9.282286</td>\n",
              "      <td>-12.488977</td>\n",
              "      <td>-10.933173</td>\n",
              "      <td>-15.749634</td>\n",
              "      <td>-15.676254</td>\n",
              "      <td>-15.412170</td>\n",
              "      <td>-14.347517</td>\n",
              "    </tr>\n",
              "    <tr>\n",
              "      <th>4</th>\n",
              "      <td>5</td>\n",
              "      <td>1</td>\n",
              "      <td>1</td>\n",
              "      <td>400.0</td>\n",
              "      <td>0</td>\n",
              "      <td>5</td>\n",
              "      <td>-19.455200</td>\n",
              "      <td>-19.755724</td>\n",
              "      <td>-18.313774</td>\n",
              "      <td>-13.272877</td>\n",
              "      <td>...</td>\n",
              "      <td>-17.697814</td>\n",
              "      <td>-16.074418</td>\n",
              "      <td>-16.232349</td>\n",
              "      <td>-13.788018</td>\n",
              "      <td>-22.471867</td>\n",
              "      <td>-23.016590</td>\n",
              "      <td>-22.392253</td>\n",
              "      <td>-18.544159</td>\n",
              "      <td>-18.765642</td>\n",
              "      <td>-23.196090</td>\n",
              "    </tr>\n",
              "    <tr>\n",
              "      <th>...</th>\n",
              "      <td>...</td>\n",
              "      <td>...</td>\n",
              "      <td>...</td>\n",
              "      <td>...</td>\n",
              "      <td>...</td>\n",
              "      <td>...</td>\n",
              "      <td>...</td>\n",
              "      <td>...</td>\n",
              "      <td>...</td>\n",
              "      <td>...</td>\n",
              "      <td>...</td>\n",
              "      <td>...</td>\n",
              "      <td>...</td>\n",
              "      <td>...</td>\n",
              "      <td>...</td>\n",
              "      <td>...</td>\n",
              "      <td>...</td>\n",
              "      <td>...</td>\n",
              "      <td>...</td>\n",
              "      <td>...</td>\n",
              "      <td>...</td>\n",
              "    </tr>\n",
              "    <tr>\n",
              "      <th>320</th>\n",
              "      <td>321</td>\n",
              "      <td>13</td>\n",
              "      <td>1</td>\n",
              "      <td>1680.0</td>\n",
              "      <td>0</td>\n",
              "      <td>21</td>\n",
              "      <td>-31.466739</td>\n",
              "      <td>-32.655263</td>\n",
              "      <td>-31.882492</td>\n",
              "      <td>-27.589879</td>\n",
              "      <td>...</td>\n",
              "      <td>-34.359245</td>\n",
              "      <td>-32.466935</td>\n",
              "      <td>-29.543434</td>\n",
              "      <td>-31.321699</td>\n",
              "      <td>-33.322457</td>\n",
              "      <td>-34.343455</td>\n",
              "      <td>-30.096108</td>\n",
              "      <td>-33.185712</td>\n",
              "      <td>-33.367392</td>\n",
              "      <td>-33.876192</td>\n",
              "    </tr>\n",
              "    <tr>\n",
              "      <th>321</th>\n",
              "      <td>322</td>\n",
              "      <td>13</td>\n",
              "      <td>1</td>\n",
              "      <td>1760.0</td>\n",
              "      <td>0</td>\n",
              "      <td>22</td>\n",
              "      <td>-21.303913</td>\n",
              "      <td>-33.080588</td>\n",
              "      <td>-37.034437</td>\n",
              "      <td>-31.766035</td>\n",
              "      <td>...</td>\n",
              "      <td>-32.977742</td>\n",
              "      <td>-28.624796</td>\n",
              "      <td>-27.495186</td>\n",
              "      <td>-23.847968</td>\n",
              "      <td>-25.561252</td>\n",
              "      <td>-34.242901</td>\n",
              "      <td>-40.735728</td>\n",
              "      <td>-34.014182</td>\n",
              "      <td>-33.957388</td>\n",
              "      <td>-35.627786</td>\n",
              "    </tr>\n",
              "    <tr>\n",
              "      <th>322</th>\n",
              "      <td>323</td>\n",
              "      <td>13</td>\n",
              "      <td>1</td>\n",
              "      <td>1840.0</td>\n",
              "      <td>0</td>\n",
              "      <td>23</td>\n",
              "      <td>-27.601906</td>\n",
              "      <td>-27.758137</td>\n",
              "      <td>-27.102083</td>\n",
              "      <td>-27.319948</td>\n",
              "      <td>...</td>\n",
              "      <td>-33.646975</td>\n",
              "      <td>-25.620092</td>\n",
              "      <td>-34.883694</td>\n",
              "      <td>-42.119980</td>\n",
              "      <td>-35.870338</td>\n",
              "      <td>-28.109018</td>\n",
              "      <td>-32.237494</td>\n",
              "      <td>-32.837088</td>\n",
              "      <td>-31.096978</td>\n",
              "      <td>-25.976283</td>\n",
              "    </tr>\n",
              "    <tr>\n",
              "      <th>323</th>\n",
              "      <td>324</td>\n",
              "      <td>13</td>\n",
              "      <td>1</td>\n",
              "      <td>1920.0</td>\n",
              "      <td>0</td>\n",
              "      <td>24</td>\n",
              "      <td>-31.725625</td>\n",
              "      <td>-38.937830</td>\n",
              "      <td>-39.113483</td>\n",
              "      <td>-26.640446</td>\n",
              "      <td>...</td>\n",
              "      <td>-21.790284</td>\n",
              "      <td>-24.651905</td>\n",
              "      <td>-26.129703</td>\n",
              "      <td>-26.548903</td>\n",
              "      <td>-25.567147</td>\n",
              "      <td>-30.324506</td>\n",
              "      <td>-30.829273</td>\n",
              "      <td>-33.027456</td>\n",
              "      <td>-34.010274</td>\n",
              "      <td>-34.402337</td>\n",
              "    </tr>\n",
              "    <tr>\n",
              "      <th>324</th>\n",
              "      <td>325</td>\n",
              "      <td>13</td>\n",
              "      <td>1</td>\n",
              "      <td>2000.0</td>\n",
              "      <td>0</td>\n",
              "      <td>25</td>\n",
              "      <td>-36.344549</td>\n",
              "      <td>-29.005781</td>\n",
              "      <td>-25.765866</td>\n",
              "      <td>-28.682203</td>\n",
              "      <td>...</td>\n",
              "      <td>-28.565786</td>\n",
              "      <td>-30.896225</td>\n",
              "      <td>-30.599941</td>\n",
              "      <td>-34.733951</td>\n",
              "      <td>-33.697566</td>\n",
              "      <td>-33.559985</td>\n",
              "      <td>-27.238018</td>\n",
              "      <td>-27.418602</td>\n",
              "      <td>-27.275744</td>\n",
              "      <td>-27.838489</td>\n",
              "    </tr>\n",
              "  </tbody>\n",
              "</table>\n",
              "<p>325 rows × 2073 columns</p>\n",
              "</div>\n",
              "      <button class=\"colab-df-convert\" onclick=\"convertToInteractive('df-b9c625db-5e08-4f73-a0b2-77093aababaf')\"\n",
              "              title=\"Convert this dataframe to an interactive table.\"\n",
              "              style=\"display:none;\">\n",
              "        \n",
              "  <svg xmlns=\"http://www.w3.org/2000/svg\" height=\"24px\"viewBox=\"0 0 24 24\"\n",
              "       width=\"24px\">\n",
              "    <path d=\"M0 0h24v24H0V0z\" fill=\"none\"/>\n",
              "    <path d=\"M18.56 5.44l.94 2.06.94-2.06 2.06-.94-2.06-.94-.94-2.06-.94 2.06-2.06.94zm-11 1L8.5 8.5l.94-2.06 2.06-.94-2.06-.94L8.5 2.5l-.94 2.06-2.06.94zm10 10l.94 2.06.94-2.06 2.06-.94-2.06-.94-.94-2.06-.94 2.06-2.06.94z\"/><path d=\"M17.41 7.96l-1.37-1.37c-.4-.4-.92-.59-1.43-.59-.52 0-1.04.2-1.43.59L10.3 9.45l-7.72 7.72c-.78.78-.78 2.05 0 2.83L4 21.41c.39.39.9.59 1.41.59.51 0 1.02-.2 1.41-.59l7.78-7.78 2.81-2.81c.8-.78.8-2.07 0-2.86zM5.41 20L4 18.59l7.72-7.72 1.47 1.35L5.41 20z\"/>\n",
              "  </svg>\n",
              "      </button>\n",
              "      \n",
              "  <style>\n",
              "    .colab-df-container {\n",
              "      display:flex;\n",
              "      flex-wrap:wrap;\n",
              "      gap: 12px;\n",
              "    }\n",
              "\n",
              "    .colab-df-convert {\n",
              "      background-color: #E8F0FE;\n",
              "      border: none;\n",
              "      border-radius: 50%;\n",
              "      cursor: pointer;\n",
              "      display: none;\n",
              "      fill: #1967D2;\n",
              "      height: 32px;\n",
              "      padding: 0 0 0 0;\n",
              "      width: 32px;\n",
              "    }\n",
              "\n",
              "    .colab-df-convert:hover {\n",
              "      background-color: #E2EBFA;\n",
              "      box-shadow: 0px 1px 2px rgba(60, 64, 67, 0.3), 0px 1px 3px 1px rgba(60, 64, 67, 0.15);\n",
              "      fill: #174EA6;\n",
              "    }\n",
              "\n",
              "    [theme=dark] .colab-df-convert {\n",
              "      background-color: #3B4455;\n",
              "      fill: #D2E3FC;\n",
              "    }\n",
              "\n",
              "    [theme=dark] .colab-df-convert:hover {\n",
              "      background-color: #434B5C;\n",
              "      box-shadow: 0px 1px 3px 1px rgba(0, 0, 0, 0.15);\n",
              "      filter: drop-shadow(0px 1px 2px rgba(0, 0, 0, 0.3));\n",
              "      fill: #FFFFFF;\n",
              "    }\n",
              "  </style>\n",
              "\n",
              "      <script>\n",
              "        const buttonEl =\n",
              "          document.querySelector('#df-b9c625db-5e08-4f73-a0b2-77093aababaf button.colab-df-convert');\n",
              "        buttonEl.style.display =\n",
              "          google.colab.kernel.accessAllowed ? 'block' : 'none';\n",
              "\n",
              "        async function convertToInteractive(key) {\n",
              "          const element = document.querySelector('#df-b9c625db-5e08-4f73-a0b2-77093aababaf');\n",
              "          const dataTable =\n",
              "            await google.colab.kernel.invokeFunction('convertToInteractive',\n",
              "                                                     [key], {});\n",
              "          if (!dataTable) return;\n",
              "\n",
              "          const docLinkHtml = 'Like what you see? Visit the ' +\n",
              "            '<a target=\"_blank\" href=https://colab.research.google.com/notebooks/data_table.ipynb>data table notebook</a>'\n",
              "            + ' to learn more about interactive tables.';\n",
              "          element.innerHTML = '';\n",
              "          dataTable['output_type'] = 'display_data';\n",
              "          await google.colab.output.renderOutput(dataTable, element);\n",
              "          const docLink = document.createElement('div');\n",
              "          docLink.innerHTML = docLinkHtml;\n",
              "          element.appendChild(docLink);\n",
              "        }\n",
              "      </script>\n",
              "    </div>\n",
              "  </div>\n",
              "  "
            ]
          },
          "metadata": {},
          "execution_count": 17
        }
      ]
    },
    {
      "cell_type": "code",
      "source": [
        "df_mean_sample = df_13_samples.groupby(['PBRS_id']).mean()\n",
        "df_mean_sample = df_mean_sample.drop(['row', 'Channels', 'Distance_km', 'power_dBm'], axis = 1)"
      ],
      "metadata": {
        "id": "WV17LOAPY-F_"
      },
      "execution_count": 18,
      "outputs": []
    },
    {
      "cell_type": "code",
      "source": [
        "'''\n",
        "test_df = df_mean_sample.iloc[[0]]\n",
        "sample_1 = test_df.iloc[0].squeeze()\n",
        "sample_1.plot()\n",
        "plt.show()\n",
        "'''"
      ],
      "metadata": {
        "colab": {
          "base_uri": "https://localhost:8080/",
          "height": 0
        },
        "id": "QxYsuh3AG-B9",
        "outputId": "8925ba29-7dd1-4e3b-af9b-a4146d9c612e"
      },
      "execution_count": 19,
      "outputs": [
        {
          "output_type": "execute_result",
          "data": {
            "text/plain": [
              "'\\ntest_df = df_mean_sample.iloc[[0]]\\nsample_1 = test_df.iloc[0].squeeze()\\nsample_1.plot()\\nplt.show()\\n'"
            ],
            "application/vnd.google.colaboratory.intrinsic+json": {
              "type": "string"
            }
          },
          "metadata": {},
          "execution_count": 19
        }
      ]
    },
    {
      "cell_type": "code",
      "source": [
        "'''\n",
        "smoothed_2dg = savgol_filter(test_df, window_length = 5, polyorder = 2)\n",
        "gfg = pd.Series(smoothed_2dg[0])\n",
        "gfg.plot()\n",
        "plt.show()\n",
        "'''"
      ],
      "metadata": {
        "colab": {
          "base_uri": "https://localhost:8080/",
          "height": 0
        },
        "id": "pqofq7g3G-sF",
        "outputId": "7395d0f9-04a8-4677-90ea-80c4bf77e0ec"
      },
      "execution_count": 20,
      "outputs": [
        {
          "output_type": "execute_result",
          "data": {
            "text/plain": [
              "'\\nsmoothed_2dg = savgol_filter(test_df, window_length = 5, polyorder = 2)\\ngfg = pd.Series(smoothed_2dg[0])\\ngfg.plot()\\nplt.show()\\n'"
            ],
            "application/vnd.google.colaboratory.intrinsic+json": {
              "type": "string"
            }
          },
          "metadata": {},
          "execution_count": 20
        }
      ]
    },
    {
      "cell_type": "markdown",
      "source": [
        "# Pearson Correlation"
      ],
      "metadata": {
        "id": "SPEGaUP8HVds"
      }
    },
    {
      "cell_type": "code",
      "source": [
        "#eval_method = 'avg' or 'min' or 'max'\n",
        "\n",
        "def pearson_matrix(working_df , source_sample_id, eval_method = 'avg'):\n",
        "  distances = [x*80 for x in range(1, 26)]\n",
        "  result_data = {'source/target': distances}\n",
        "  print('Generating Pearson Confusion Matrix using ({}) method:'.format(eval_method))\n",
        "  for target_dist in tqdm(distances): # loop all distances available\n",
        "    result_target = []\n",
        "    for source_dist in distances: # loop all distances available\n",
        "      source_df = working_df[(working_df['Distance_km'] == source_dist) & (working_df['PBRS_id'] == source_sample_id)]# select data of source (distance and sample_id) \n",
        "      source_data = source_df.iloc[0, 6:source_df.shape[1]].tolist()\n",
        "      pearson_values = []\n",
        "      for target_sample_id in working_df['PBRS_id'].unique(): # loop all samples id to then exclude the source sample id\n",
        "        if target_sample_id != source_sample_id:\n",
        "          target_df = working_df[(working_df['Distance_km'] == target_dist) & (working_df['PBRS_id'] == target_sample_id)] # select data of target\n",
        "          target_data = target_df.iloc[0, 6:target_df.shape[1]].tolist()\n",
        "\n",
        "          pearson_values.append(round(pearsonr(source_data, target_data)[0], 5)) # pearson correlation\n",
        "      if eval_method == 'avg':\n",
        "        p_result = np.mean(pearson_values)\n",
        "      elif eval_method == 'max':\n",
        "        p_result = np.max(pearson_values)\n",
        "      elif eval_method == 'min':\n",
        "        p_result = np.min(pearson_values)\n",
        "      result_target.append(p_result)\n",
        "    result_data[target_dist] = result_target\n",
        "\n",
        "  pearson_matrix_df = pd.DataFrame.from_dict(result_data)\n",
        "  #pearson_matrix_df = pearson_matrix_df.set_index('source/target')\n",
        "\n",
        "  return pearson_matrix_df, result_data"
      ],
      "metadata": {
        "id": "Cf2jKLdxjEAt"
      },
      "execution_count": 21,
      "outputs": []
    },
    {
      "cell_type": "code",
      "source": [
        "'''\n",
        "avg_p_matrix, avg_result_data = pearson_matrix(working_df , source_sample_id=1, eval_method = 'avg')\n",
        "min_p_matrix, min_result_data = pearson_matrix(working_df , source_sample_id=1, eval_method = 'min')\n",
        "max_p_matrix, max_result_data = pearson_matrix(working_df , source_sample_id=1, eval_method = 'max')\n",
        "'''"
      ],
      "metadata": {
        "colab": {
          "base_uri": "https://localhost:8080/",
          "height": 53
        },
        "id": "r3wTxV9zx68J",
        "outputId": "bbab2b98-f3e2-4f9a-d729-b6234b96d3e7"
      },
      "execution_count": 22,
      "outputs": [
        {
          "output_type": "execute_result",
          "data": {
            "text/plain": [
              "\"\\navg_p_matrix, avg_result_data = pearson_matrix(working_df , source_sample_id=1, eval_method = 'avg')\\nmin_p_matrix, min_result_data = pearson_matrix(working_df , source_sample_id=1, eval_method = 'min')\\nmax_p_matrix, max_result_data = pearson_matrix(working_df , source_sample_id=1, eval_method = 'max')\\n\""
            ],
            "application/vnd.google.colaboratory.intrinsic+json": {
              "type": "string"
            }
          },
          "metadata": {},
          "execution_count": 22
        }
      ]
    },
    {
      "cell_type": "code",
      "source": [
        "'''\n",
        "avg_p_matrix_output_path = path + '/Spectrum/confusion_matrix_pearson/Correlation_Pearson_AVG.csv'\n",
        "avg_p_matrix.to_csv(avg_p_matrix_output_path, index=False)  \n",
        "\n",
        "min_p_matrix_output_path = path + '/Spectrum/confusion_matrix_pearson/Correlation_Pearson_MIN.csv'\n",
        "min_p_matrix.to_csv(min_p_matrix_output_path, index=False)  \n",
        "\n",
        "max_p_matrix_output_path = path + '/Spectrum/confusion_matrix_pearson/Correlation_Pearson_MAX.csv'\n",
        "max_p_matrix.to_csv(max_p_matrix_output_path, index=False)\n",
        "'''"
      ],
      "metadata": {
        "colab": {
          "base_uri": "https://localhost:8080/",
          "height": 70
        },
        "id": "dOz2PwBB1SZA",
        "outputId": "252fbe09-c6cb-4b77-9ba9-d6520cba079f"
      },
      "execution_count": 23,
      "outputs": [
        {
          "output_type": "execute_result",
          "data": {
            "text/plain": [
              "\"\\navg_p_matrix_output_path = path + '/Spectrum/confusion_matrix_pearson/Correlation_Pearson_AVG.csv'\\navg_p_matrix.to_csv(avg_p_matrix_output_path, index=False)  \\n\\nmin_p_matrix_output_path = path + '/Spectrum/confusion_matrix_pearson/Correlation_Pearson_MIN.csv'\\nmin_p_matrix.to_csv(min_p_matrix_output_path, index=False)  \\n\\nmax_p_matrix_output_path = path + '/Spectrum/confusion_matrix_pearson/Correlation_Pearson_MAX.csv'\\nmax_p_matrix.to_csv(max_p_matrix_output_path, index=False)\\n\""
            ],
            "application/vnd.google.colaboratory.intrinsic+json": {
              "type": "string"
            }
          },
          "metadata": {},
          "execution_count": 23
        }
      ]
    },
    {
      "cell_type": "code",
      "source": [
        "avg_p_matrix, avg_result_data = pearson_matrix(working_df , source_sample_id=1, eval_method = 'avg')"
      ],
      "metadata": {
        "id": "ZKPV0d6LlxXw",
        "outputId": "1ac1262d-993d-49b2-cf2f-7e3d128f77ed",
        "colab": {
          "base_uri": "https://localhost:8080/"
        }
      },
      "execution_count": 24,
      "outputs": [
        {
          "output_type": "stream",
          "name": "stdout",
          "text": [
            "Generating Pearson Confusion Matrix using (avg) method:\n"
          ]
        },
        {
          "output_type": "stream",
          "name": "stderr",
          "text": [
            "100%|██████████| 25/25 [00:26<00:00,  1.07s/it]\n"
          ]
        }
      ]
    },
    {
      "cell_type": "markdown",
      "source": [
        "## Pickle out the dictionary of correlations"
      ],
      "metadata": {
        "id": "632qHWF-HiWR"
      }
    },
    {
      "cell_type": "code",
      "source": [
        "def pickle_out(dump_file, filename):\n",
        "  filepath = path+\"/pickle_folder/\"+str(filename)+\".pickle\"\n",
        "  pickleout = open(filepath, \"wb\")\n",
        "  pickle.dump(dump_file, pickleout)\n",
        "  pickleout.close()"
      ],
      "metadata": {
        "id": "Z2PR1keRldKo"
      },
      "execution_count": 25,
      "outputs": []
    },
    {
      "cell_type": "code",
      "source": [
        "'''\n",
        "pickle_out(avg_result_data, 'avg_correlation_matrix')\n",
        "pickle_out(min_result_data, 'min_correlation_matrix')\n",
        "pickle_out(max_result_data, 'max_correlation_matrix')\n",
        "'''"
      ],
      "metadata": {
        "id": "6XGFwIwklhrf",
        "colab": {
          "base_uri": "https://localhost:8080/",
          "height": 0
        },
        "outputId": "6d982669-9ea0-4c71-d9b4-9ea80f447079"
      },
      "execution_count": 26,
      "outputs": [
        {
          "output_type": "execute_result",
          "data": {
            "text/plain": [
              "\"\\npickle_out(avg_result_data, 'avg_correlation_matrix')\\npickle_out(min_result_data, 'min_correlation_matrix')\\npickle_out(max_result_data, 'max_correlation_matrix')\\n\""
            ],
            "application/vnd.google.colaboratory.intrinsic+json": {
              "type": "string"
            }
          },
          "metadata": {},
          "execution_count": 26
        }
      ]
    },
    {
      "cell_type": "markdown",
      "source": [
        "# Individual point selection analysis"
      ],
      "metadata": {
        "id": "NKW8r5b2OUSL"
      }
    },
    {
      "cell_type": "code",
      "source": [
        "def calc_freq_behavior(working_df, selected_point, multi=False):\n",
        "  extra_data = working_df.iloc[:, 0:6]\n",
        "  freq_selected = working_df.iloc[:, selected_point+6]\n",
        "\n",
        "  freq_data_df = pd.merge(extra_data, freq_selected, left_index=True, right_index=True)\n",
        "  freq_data_df['Distance_km'] = freq_data_df['Distance_km'].astype(int)\n",
        "\n",
        "  headers = list(freq_data_df.columns.values)\n",
        "  selected_val = round(float(headers[-1]), 5)\n",
        "\n",
        "  distances = [x*80 for x in range(1, 26)]\n",
        "\n",
        "  freq_behavior = {}\n",
        "  if multi == False:\n",
        "    for dist in tqdm(distances): # loop all distances available\n",
        "\n",
        "      distance_df = freq_data_df[(freq_data_df['Distance_km'] == dist)] # select all the row with current eval distance\n",
        "      freq_distance_vals = distance_df[selected_val].tolist()\n",
        "\n",
        "      freq_mean = np.mean(freq_distance_vals)\n",
        "      freq_std = np.std(freq_distance_vals)\n",
        "      results = (freq_mean, freq_std)\n",
        "      freq_behavior[dist] = results\n",
        "  else:\n",
        "    for dist in distances: # loop all distances available\n",
        "\n",
        "      distance_df = freq_data_df[(freq_data_df['Distance_km'] == dist)] # select all the row with current eval distance\n",
        "      freq_distance_vals = distance_df[selected_val].tolist()\n",
        "\n",
        "      freq_mean = np.mean(freq_distance_vals)\n",
        "      freq_std = np.std(freq_distance_vals)\n",
        "      results = (freq_mean, freq_std)\n",
        "      freq_behavior[dist] = results\n",
        "\n",
        "  return freq_behavior, selected_val"
      ],
      "metadata": {
        "id": "2nvAESDROZea"
      },
      "execution_count": 27,
      "outputs": []
    },
    {
      "cell_type": "code",
      "source": [
        "freq_behavior, selected_val = calc_freq_behavior(working_df, selected_point=1)"
      ],
      "metadata": {
        "colab": {
          "base_uri": "https://localhost:8080/"
        },
        "id": "x0oHVd77Zkef",
        "outputId": "802034a2-e846-4f15-e9a7-7c913b221e3f"
      },
      "execution_count": 28,
      "outputs": [
        {
          "output_type": "stream",
          "name": "stderr",
          "text": [
            "100%|██████████| 25/25 [00:00<00:00, 1275.89it/s]\n"
          ]
        }
      ]
    },
    {
      "cell_type": "code",
      "source": [
        "freq_behavior[80]"
      ],
      "metadata": {
        "colab": {
          "base_uri": "https://localhost:8080/"
        },
        "id": "6k5zvzIxaoyS",
        "outputId": "cd2aa587-15a7-4343-963b-731acb81c109"
      },
      "execution_count": 29,
      "outputs": [
        {
          "output_type": "execute_result",
          "data": {
            "text/plain": [
              "(-25.40337564805794, 4.481808298335262)"
            ]
          },
          "metadata": {},
          "execution_count": 29
        }
      ]
    },
    {
      "cell_type": "code",
      "source": [
        "def rand(start, end, num): # get random value function\n",
        "    res = []\n",
        "    for j in range(num):\n",
        "        res.append(np.random.randint(start, end))\n",
        "    return res"
      ],
      "metadata": {
        "id": "XoQQYX8NleWO"
      },
      "execution_count": 30,
      "outputs": []
    },
    {
      "cell_type": "code",
      "source": [
        "def multiple_freq_analyzer(working_df, number_freq_to_analyze):\n",
        "  selected_cols = rand(1, working_df.shape[1]-6, number_freq_to_analyze)\n",
        "  multi_freq_behavior = {}\n",
        "  for selected_point in tqdm(selected_cols):\n",
        "    freq_behavior, selected_val = calc_freq_behavior(working_df, selected_point, multi=True)\n",
        "    multi_freq_behavior[selected_val] = freq_behavior\n",
        "  return multi_freq_behavior"
      ],
      "metadata": {
        "id": "ux_HqhRMlnhp"
      },
      "execution_count": 31,
      "outputs": []
    },
    {
      "cell_type": "code",
      "source": [
        "multi_freq_behavior = multiple_freq_analyzer(working_df, number_freq_to_analyze=3)"
      ],
      "metadata": {
        "id": "Coo65UnwnI7u",
        "outputId": "ebc47211-ef4b-4037-f6d4-2a34eb7de6b3",
        "colab": {
          "base_uri": "https://localhost:8080/"
        }
      },
      "execution_count": 32,
      "outputs": [
        {
          "output_type": "stream",
          "name": "stderr",
          "text": [
            "100%|██████████| 3/3 [00:00<00:00, 47.39it/s]\n"
          ]
        }
      ]
    },
    {
      "cell_type": "code",
      "source": [
        "print(multi_freq_behavior)"
      ],
      "metadata": {
        "id": "OnHY31nvnW1b",
        "outputId": "b886683a-beb5-4b65-921d-23877858682a",
        "colab": {
          "base_uri": "https://localhost:8080/"
        }
      },
      "execution_count": 33,
      "outputs": [
        {
          "output_type": "stream",
          "name": "stdout",
          "text": [
            "{3.96875: {80: (-12.10909780725958, 3.5714122141582045), 160: (-12.687346976040475, 3.016972161920084), 240: (-10.701193187591967, 2.7020405733460993), 320: (-13.028635320064943, 3.10150012795205), 400: (-10.162291656528005, 3.3566041239827746), 480: (-12.396385097419909, 3.950608672163272), 560: (-12.115643621373298, 2.644705208428703), 640: (-10.953426576174545, 2.5197538381364692), 720: (-12.747010449450652, 2.9493686879127896), 800: (-9.978766628069023, 3.432146530094776), 880: (-11.85747798921606, 3.5209498984637695), 960: (-12.25037635462156, 2.627527632049791), 1040: (-10.80124742957249, 2.581463639179073), 1120: (-12.680813889290125, 3.1463544148074774), 1200: (-9.884419770637473, 3.2963109972315867), 1280: (-12.10139026432457, 3.641054179271038), 1360: (-12.33495444904895, 2.6555959726858225), 1440: (-11.008535604345477, 2.4262218501872868), 1520: (-13.214868368169466, 3.127947253123902), 1600: (-9.731014986129678, 3.5981322359443486), 1680: (-11.614734056668691, 3.923712001349151), 1760: (-12.375058611453774, 2.728493239385551), 1840: (-10.901485305239023, 2.462055905159384), 1920: (-12.402761915758719, 3.270829457709962), 2000: (-10.400359649330046, 3.476414951946787)}, 18.96875: {80: (-7.8939805176201485, 3.1329906557009437), 160: (-12.74938080740667, 3.4011716607736266), 240: (-7.788487341578952, 2.2792289330140507), 320: (-10.174406766547149, 1.6052503418338022), 400: (-12.120520816047263, 2.8108780036583325), 480: (-8.09190944963047, 3.300220759909191), 560: (-12.428256630275921, 3.4159317087037837), 640: (-7.922739961536258, 2.28836922009857), 720: (-10.0800508340311, 1.7363446929135928), 800: (-11.22153789652117, 2.65289174191735), 880: (-7.8997875764568315, 3.074720787866684), 960: (-12.457436278906812, 3.5945129399466786), 1040: (-7.884681173305871, 2.2781787160370386), 1120: (-10.292575984501749, 1.6151273521649958), 1200: (-11.843675783590411, 2.589761176449711), 1280: (-8.43644104617814, 3.5737980303710635), 1360: (-13.212745898068503, 3.694034755552507), 1440: (-7.5796499312736865, 2.4553928447423647), 1520: (-10.377842901191233, 1.731399089140546), 1600: (-11.592315849326315, 2.4377250821927245), 1680: (-7.71876421849231, 3.242154957523718), 1760: (-12.418302134799024, 3.5301584974908478), 1840: (-8.157696324293239, 2.472656506109701), 1920: (-10.122550043655988, 1.7273152390912399), 2000: (-11.594677904752388, 2.5045120933083855)}, 6.90625: {80: (-8.884405933248143, 1.5115553156284987), 160: (-10.419766092858161, 4.62236814681215), 240: (-12.450942826019478, 3.683843774521932), 320: (-12.168705217619252, 4.629563593407331), 400: (-11.922998956768188, 4.007677067504833), 480: (-8.747439535548235, 1.4786720685641364), 560: (-9.603435659605616, 4.306872582784036), 640: (-12.778183609779852, 3.8683593062328314), 720: (-12.249387377358355, 4.5978685468931255), 800: (-11.288386053490514, 4.593749357955663), 880: (-8.650057632770894, 1.40157321134812), 960: (-9.954636872250054, 4.332235426639678), 1040: (-12.51308048548071, 3.6686798825590294), 1120: (-12.59939569739657, 4.618095325203664), 1200: (-11.80052273542611, 4.155370009730572), 1280: (-8.830883437381054, 1.4760911522619258), 1360: (-9.538529626237594, 4.301855736248886), 1440: (-12.139456839786142, 3.6317143241477705), 1520: (-11.946439540906663, 4.8362882239667355), 1600: (-11.661680529528072, 4.06831705635122), 1680: (-8.446431431653457, 1.6011039653626002), 1760: (-10.298540500125673, 4.43414193777589), 1840: (-12.505191333313377, 3.7201394537289065), 1920: (-13.000004610707169, 5.143672481918794), 2000: (-12.524662516386242, 4.963362676185556)}}\n"
          ]
        }
      ]
    },
    {
      "cell_type": "code",
      "source": [
        "def freq_dict_to_df(multi_freq_behavior):\n",
        "  distances = [x*80 for x in range(1, 26)]\n",
        "  freq_mean_data = {'distances':distances}\n",
        "  freq_std_data = {'distances':distances}\n",
        "\n",
        "  for header, distances_dict in multi_freq_behavior.items():\n",
        "    col_data_mean = []\n",
        "    col_data_std = []\n",
        "    for distance, results in distances_dict.items():\n",
        "      col_data_mean.append(results[0])\n",
        "      col_data_std.append(results[1])\n",
        "    freq_mean_data[header] = col_data_mean\n",
        "    freq_std_data[header] = col_data_std\n",
        "\n",
        "  freq_mean_df = pd.DataFrame(freq_mean_data)\n",
        "  freq_std_df = pd.DataFrame(freq_std_data)\n",
        "  \n",
        "  return freq_mean_df, freq_std_df"
      ],
      "metadata": {
        "id": "-BxK-yBAn-PG"
      },
      "execution_count": 34,
      "outputs": []
    },
    {
      "cell_type": "code",
      "source": [
        "freq_mean_df, freq_std_df = freq_dict_to_df(multi_freq_behavior)"
      ],
      "metadata": {
        "id": "pmI_fkUao7XV"
      },
      "execution_count": 35,
      "outputs": []
    },
    {
      "cell_type": "code",
      "source": [
        "def plot_freq_mean(freq_behavior, selected_val):\n",
        "  x = []\n",
        "  y = []\n",
        "  for dist, mean_std in freq_behavior.items():\n",
        "    x.append(dist)\n",
        "    y.append(mean_std[0])\n",
        "\n",
        "  plt.title(\"Mean of Frequency {} behavior through distances\".format(selected_val))\n",
        "  plt.xlabel(\"Distances\")\n",
        "  plt.ylabel(\"Power\")  \n",
        "\n",
        "  plt.plot(x, y)\n",
        "  #plt.savefig(path+/'mean_frequency_{}_behavior.png'.format(selected_val))\n",
        "  plt.show()"
      ],
      "metadata": {
        "id": "pM-Ri31jZ3Js"
      },
      "execution_count": 93,
      "outputs": []
    },
    {
      "cell_type": "code",
      "source": [
        "plot_freq_mean(freq_behavior, selected_val)"
      ],
      "metadata": {
        "colab": {
          "base_uri": "https://localhost:8080/",
          "height": 301
        },
        "id": "nrSp3z3XbQKV",
        "outputId": "a9b9778c-8355-4665-d81f-8e5d800cdafc"
      },
      "execution_count": 94,
      "outputs": [
        {
          "output_type": "display_data",
          "data": {
            "text/plain": [
              "<Figure size 432x288 with 1 Axes>"
            ],
            "image/png": "[encoded data removed]"
          },
          "metadata": {}
        }
      ]
    },
    {
      "cell_type": "code",
      "source": [
        "def plot_freq_behavior(working_df, selected_point):\n",
        "  extra_data = working_df.iloc[:, 0:6]\n",
        "  freq_selected = working_df.iloc[:, selected_point+6]\n",
        "\n",
        "  freq_data_df = pd.merge(extra_data, freq_selected, left_index=True, right_index=True)\n",
        "  freq_data_df['Distance_km'] = freq_data_df['Distance_km'].astype(int)\n",
        "\n",
        "  headers = list(freq_data_df.columns.values)\n",
        "  selected_val = round(float(headers[-1]), 5)\n",
        "\n",
        "  distances = [x*80 for x in range(1, 26)]\n",
        "\n",
        "  combined_freq = {}\n",
        "  for d in distances:\n",
        "    combined_freq[d] = []\n",
        "\n",
        "  for sample_id in freq_data_df['PBRS_id'].unique(): # loop all samples id to then exclude the source sample id\n",
        "\n",
        "    samples_df = freq_data_df[(freq_data_df['PBRS_id'] == sample_id)] # select data beloging at the same sample\n",
        "    freq_distance_vals = samples_df[selected_val].tolist()\n",
        "\n",
        "    for dist in samples_df['Distance_km'].unique():\n",
        "      dist_samples_df = samples_df[(freq_data_df['Distance_km'] == dist)] # select data beloging at the same sample\n",
        "      freq_distance_vals = dist_samples_df[selected_val].tolist()\n",
        "\n",
        "      combined_freq[dist].append(freq_distance_vals[0])\n",
        "\n",
        "  combined_list = combined_freq.items()\n",
        "  combined_list = sorted(combined_list) \n",
        "  x, y = zip(*combined_list) \n",
        "  \n",
        "  fig = plt.figure()\n",
        "  plt.figure(figsize=(12, 4))\n",
        "  for xe, ye in zip(x, y):\n",
        "    plt.scatter([xe] * len(ye), ye)\n",
        "  \n",
        "  plt.xticks(distances)\n",
        "\n",
        "  plt.title(\"Frequency {} behavior through distances sample {}\".format(selected_val, sample_id))\n",
        "  plt.xlabel(\"Distances\")\n",
        "  plt.ylabel(\"Power\")\n",
        "\n",
        "  #plt.savefig(path+/'frequency_{}_behavior.png'.format(selected_val))\n",
        "  plt.show()"
      ],
      "metadata": {
        "id": "cNb4uKg2V2YC"
      },
      "execution_count": 91,
      "outputs": []
    },
    {
      "cell_type": "code",
      "source": [
        "plot_freq_behavior(working_df, selected_point=1)"
      ],
      "metadata": {
        "id": "e3h9mLgIvFpm",
        "outputId": "490fa6e5-6924-4dab-a2f0-3ab977021958",
        "colab": {
          "base_uri": "https://localhost:8080/",
          "height": 318
        }
      },
      "execution_count": 92,
      "outputs": [
        {
          "output_type": "display_data",
          "data": {
            "text/plain": [
              "<Figure size 432x288 with 0 Axes>"
            ]
          },
          "metadata": {}
        },
        {
          "output_type": "display_data",
          "data": {
            "text/plain": [
              "<Figure size 864x288 with 1 Axes>"
            ],
            "image/png": "[encoded data removed]"
          },
          "metadata": {}
        }
      ]
    }
  ]
}
