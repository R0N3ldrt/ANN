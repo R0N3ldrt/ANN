{
  "nbformat": 4,
  "nbformat_minor": 0,
  "metadata": {
    "colab": {
      "name": "Untitled10.ipynb",
      "provenance": [],
      "authorship_tag": "ABX9TyM/3Kj6LHehmAiiAVPhQfMf",
      "include_colab_link": true
    },
    "kernelspec": {
      "name": "python3",
      "display_name": "Python 3"
    },
    "language_info": {
      "name": "python"
    }
  },
  "cells": [
    {
      "cell_type": "markdown",
      "metadata": {
        "id": "view-in-github",
        "colab_type": "text"
      },
      "source": [
        "<a href=\"https://colab.research.google.com/github/R0N3ldrt/Thesis/blob/main/NN_predict_v37_25_25.ipynb\" target=\"_parent\"><img src=\"https://colab.research.google.com/assets/colab-badge.svg\" alt=\"Open In Colab\"/></a>"
      ]
    },
    {
      "cell_type": "markdown",
      "source": [
        "# Traininig NN Spectrum"
      ],
      "metadata": {
        "id": "UT4kgsEJEpyY"
      }
    },
    {
      "cell_type": "markdown",
      "source": [
        "# Loading Necesary Libraries"
      ],
      "metadata": {
        "id": "qsIzw6RGEwWp"
      }
    },
    {
      "cell_type": "code",
      "execution_count": 1,
      "metadata": {
        "id": "0YnA2ltpEoSi"
      },
      "outputs": [],
      "source": [
        "# Importing necesary libraries\n",
        "# Libraries for correct code execution \n",
        "\n",
        "import os, time\n",
        "import pandas as pd\n",
        "import numpy as np\n",
        "import matplotlib.pyplot as plt\n",
        "import math\n",
        "import pickle\n",
        "import random\n",
        "import csv\n",
        "import re\n",
        "import array\n",
        "import seaborn as sns\n",
        "from tqdm import tqdm\n",
        "import tensorflow as tf\n",
        "import os.path\n",
        "\n",
        "from scipy import stats\n",
        "from functools import reduce\n",
        "from random import random, gauss\n",
        "from math import modf, pi, cos, sin, sqrt\n",
        "from sklearn.model_selection import train_test_split\n",
        "from sklearn.preprocessing import MinMaxScaler\n",
        "from sklearn.metrics import r2_score\n",
        "from plotly.subplots import make_subplots\n",
        "from scipy.signal import savgol_filter\n",
        "from scipy.stats.stats import pearsonr\n",
        "from scipy.stats import spearmanr\n",
        "\n",
        "import scipy.stats as st\n",
        "import plotly.graph_objects as go\n",
        "import plotly.express as px\n",
        "from plotly.subplots import make_subplots\n",
        "\n",
        "from keras.models import Sequential\n",
        "from keras.layers import Dense,Conv2D, Flatten\n",
        "from keras.wrappers.scikit_learn import KerasRegressor\n",
        "from keras.callbacks import EarlyStopping\n",
        "from sklearn.mixture import GaussianMixture\n",
        "import os, time, math, csv, joblib\n",
        "import pandas as pd\n",
        "import numpy as np\n",
        "import matplotlib.pyplot as plt\n",
        "import seaborn as sns\n",
        "from sklearn.model_selection import train_test_split\n",
        "from sklearn.preprocessing import MinMaxScaler\n",
        "from sklearn.mixture import GaussianMixture\n",
        "\n",
        "import os, time, math, csv, joblib\n",
        "import pandas as pd\n",
        "import numpy as np\n",
        "from sklearn.model_selection import train_test_split\n",
        "from sklearn.preprocessing import MinMaxScaler\n",
        "from sklearn.mixture import GaussianMixture\n",
        "\n",
        "import warnings\n",
        "warnings.filterwarnings(\"ignore\")\n",
        "\n",
        "sns.set_theme()"
      ]
    },
    {
      "cell_type": "markdown",
      "source": [
        "# Load Enviroment"
      ],
      "metadata": {
        "id": "o99IEHDfE2yy"
      }
    },
    {
      "cell_type": "code",
      "source": [
        "# BLOQUE PARA USAR DESDE COLAB\n",
        "\n",
        "# Google drive loading as work station for local-usage of the files.\n",
        "from google.colab import drive\n",
        "drive.mount('/content/gdrive',force_remount= True)\n",
        "\n",
        "#-----------------------------------------------------------------------------"
      ],
      "metadata": {
        "colab": {
          "base_uri": "https://localhost:8080/"
        },
        "id": "ruXEP78XE7E5",
        "outputId": "7f45399c-87ec-439e-912b-af717671a55a"
      },
      "execution_count": 2,
      "outputs": [
        {
          "output_type": "stream",
          "name": "stdout",
          "text": [
            "Mounted at /content/gdrive\n"
          ]
        }
      ]
    },
    {
      "cell_type": "code",
      "source": [
        "# Lista para cambiar los paths rapido.\n",
        "workers = [\"Ronald\", \"Local\"]\n",
        "\n",
        "# Change the number to change the paths.\n",
        "worker = workers[0]\n",
        "\n",
        "if worker == \"Ronald\":\n",
        "  path = \"/content/gdrive/MyDrive/Thesis_Workstation/ANN_dataset\"\n",
        "else: path = os.getcwd()"
      ],
      "metadata": {
        "id": "1Y2-m9DsE74Z"
      },
      "execution_count": 3,
      "outputs": []
    },
    {
      "cell_type": "markdown",
      "source": [
        "# Get working_df"
      ],
      "metadata": {
        "id": "a9bZmAKqRtdK"
      }
    },
    {
      "cell_type": "markdown",
      "source": [
        "## Aggregator"
      ],
      "metadata": {
        "id": "-efCc7PrSORb"
      }
    },
    {
      "cell_type": "code",
      "source": [
        "def prime_number_finder(stop_gap, total_num_of_data):\n",
        "  prime_nums = []\n",
        "  i=2\n",
        "  while i <= stop_gap:\n",
        "    if (total_num_of_data % i==0):\n",
        "      prime_nums.append(i)\n",
        "      break\n",
        "    i+=1\n",
        "  return prime_nums"
      ],
      "metadata": {
        "id": "LpTsisCER__7"
      },
      "execution_count": 4,
      "outputs": []
    },
    {
      "cell_type": "code",
      "source": [
        "def aggreagator_v2(df, stop_gap=50):\n",
        "  total_num_of_data = df.shape[1]\n",
        "  arr_prime = prime_number_finder(stop_gap, total_num_of_data)\n",
        "  #agg_num = np.max(arr_prime)\n",
        "  agg_num = arr_prime[0]\n",
        "\n",
        "  # Creating new df of aggregate values\n",
        "  agg_df = pd.DataFrame()\n",
        "\n",
        "  mid_point = df.shape[1]/2\n",
        "\n",
        "  agg=0\n",
        "  loop_cnt=0\n",
        "  init_column_cnt = 5\n",
        "  while agg<=total_num_of_data:\n",
        "    loop_cnt+=1\n",
        "    # Obtain current last columns stop\n",
        "    agg=agg_num+init_column_cnt\n",
        "    # Select working columns\n",
        "    new_df = df[df.columns[init_column_cnt:agg]]\n",
        "\n",
        "    init_column_cnt += (agg_num)\n",
        "\n",
        "    headers = list(new_df.columns.values) \n",
        "    if loop_cnt <= mid_point:\n",
        "      # Get average of freq values for new header\n",
        "      new_header_name  = headers[-1]\n",
        "    else:\n",
        "      new_header_name = headers[0]\n",
        "    \n",
        "    # Add aggragated values to new df\n",
        "    agg_df[new_header_name] = new_df.mean(axis = 1)\n",
        "  return agg_df"
      ],
      "metadata": {
        "id": "PqkcfV-CSDYv"
      },
      "execution_count": 5,
      "outputs": []
    },
    {
      "cell_type": "markdown",
      "source": [
        "## Find cutoff index"
      ],
      "metadata": {
        "id": "W4h81smRSKUR"
      }
    },
    {
      "cell_type": "code",
      "source": [
        "def remove_tail(df, cut_val, sample_id):\n",
        "  columns_selected = []\n",
        "  old_val = 0\n",
        "  delta = 0\n",
        "  mid_point = int(df.shape[1]/2)\n",
        "  cols_headers  = list(df.columns.values)\n",
        "\n",
        "  for i in range(0, df.shape[1]):\n",
        "    if i == 0:\n",
        "      cell_val = df.iloc[[0], i]\n",
        "      old_val = cell_val[sample_id]\n",
        "    else:\n",
        "      cell_val = df.iloc[[0], i]\n",
        "      val = cell_val[sample_id]\n",
        "      delta = abs(old_val-val)\n",
        "      old_val = val\n",
        "      if delta > cut_val:\n",
        "        if i <= mid_point:\n",
        "          col_name_selected = cols_headers[i+2]\n",
        "        else:\n",
        "          col_name_selected = cols_headers[i-2]\n",
        "          col_name_selected = round(float(col_name_selected), 5)\n",
        "        columns_selected.append(col_name_selected)\n",
        "\n",
        "  return columns_selected"
      ],
      "metadata": {
        "id": "hgUHEniRSJil"
      },
      "execution_count": 6,
      "outputs": []
    },
    {
      "cell_type": "code",
      "source": [
        "# Removing tails conducting multiples loops with variable cutoff value until we get only two columns\n",
        "def remove_tail_main(df, cut_val, sample_id):\n",
        "  old_drop_cols = []\n",
        "  drop_cols = remove_tail(df, cut_val, sample_id)\n",
        "  while len(drop_cols) != 2:  \n",
        "    # If len of columns to be dropped are 0 the select the 2 values smaller and bigger of the previous iteration\n",
        "    if len(drop_cols) == 0 or len(drop_cols) == 1:\n",
        "      drop_cols = [np.min(old_drop_cols), np.max(old_drop_cols)]\n",
        "      break\n",
        "    else:\n",
        "      old_drop_cols = drop_cols\n",
        "      drop_cols = remove_tail(df, cut_val, sample_id)\n",
        "      cut_val += 2\n",
        "  return drop_cols"
      ],
      "metadata": {
        "id": "CNPLl420STJV"
      },
      "execution_count": 7,
      "outputs": []
    },
    {
      "cell_type": "code",
      "source": [
        "def get_working_data_idx_v2(df_mean_sample, sample_id, cut_val = 0):\n",
        "\n",
        "  df = df_mean_sample.iloc[[sample_id - 1]]\n",
        "\n",
        "  #agg_df = aggreagator_v2(df) disable aggragator causing odd data points\n",
        "\n",
        "  col_vals = remove_tail_main(df, cut_val=cut_val, sample_id=sample_id)\n",
        "\n",
        "  left_index_no = df.columns.get_loc(col_vals[0])\n",
        "  rigth_index_no = df.columns.get_loc(col_vals[1])\n",
        "\n",
        "  return left_index_no, rigth_index_no"
      ],
      "metadata": {
        "id": "WFhRhx5USZR7"
      },
      "execution_count": 8,
      "outputs": []
    },
    {
      "cell_type": "code",
      "source": [
        "def cut_off_idx(df): # return tuple with cut-off values (index_left_side, index_rigth_side)\n",
        "  df_mean_sample = df.groupby(['PBRS_id']).mean()\n",
        "  df_mean_sample = df_mean_sample.drop(['row', 'Channels', 'Distance_km', 'power_dBm'], axis = 1)\n",
        "\n",
        "  cut_points = {}\n",
        "  print('Calculating the cutoff values:')\n",
        "  for sample in tqdm(df_mean_sample.index):\n",
        "    left_index_no, rigth_index_no = get_working_data_idx_v2(df_mean_sample, sample_id = sample)\n",
        "    cut_points[sample] = (left_index_no, rigth_index_no)\n",
        "\n",
        "  left_cut_off = np.min([v[0] for k, v in cut_points.items()])\n",
        "  rigth_cut_off = np.max([v[1] for k, v in cut_points.items()])\n",
        "\n",
        "  cut_point = (left_cut_off, rigth_cut_off)\n",
        "  return cut_point"
      ],
      "metadata": {
        "id": "1tG_j9gRSeJ0"
      },
      "execution_count": 9,
      "outputs": []
    },
    {
      "cell_type": "markdown",
      "source": [
        "## Select working data"
      ],
      "metadata": {
        "id": "_2p4y95YSlGe"
      }
    },
    {
      "cell_type": "code",
      "source": [
        "def select_working_data(df, cut_point): # implement cut_off values and Smoothing original df after cutt-of\n",
        "  extra_info_df = df.iloc[:, 0:6]\n",
        "  data_df = df.iloc[:, cut_point[0]+6:cut_point[1]+6]\n",
        "  smoothed_data_frame = pd.DataFrame(savgol_filter(data_df, window_length = 5, polyorder = 2))\n",
        "  \n",
        "  # Adding back headers to the smoothed data\n",
        "  rename_col = {}\n",
        "  cnt = 0\n",
        "  for col in data_df.columns:\n",
        "    h_col = round(float(col), 5)\n",
        "    rename_col[cnt] = h_col\n",
        "    cnt += 1\n",
        "  smoothed_data_frame.rename(columns=rename_col, inplace=True)\n",
        "\n",
        "  working_df = pd.merge(extra_info_df, smoothed_data_frame, left_index=True, right_index=True)\n",
        "  return working_df"
      ],
      "metadata": {
        "id": "TC0PK42wSnTw"
      },
      "execution_count": 10,
      "outputs": []
    },
    {
      "cell_type": "code",
      "source": [
        "def main_cutoff(input_path):\n",
        "  print('Reading data from file.')\n",
        "  df = pd.read_excel(input_path, sheet_name = \"Sheet1\", skiprows=1)\n",
        "  df.iloc[0].fillna(method='bfill', inplace=True)\n",
        "  df.iloc[1:df.shape[0]].fillna(method='pad', inplace=True)\n",
        "  # Adding missing PBRS_id\n",
        "  snippet = []\n",
        "  val_cnt = 1\n",
        "  idx = 0\n",
        "  for sample in range(1, 101):\n",
        "    for sample_id in range(0, 25):\n",
        "      df.at[idx, 'PBRS_id'] = val_cnt\n",
        "      idx +=1\n",
        "      snippet.append(val_cnt)\n",
        "    val_cnt += 1\n",
        "  df['PBRS_id'] = df['PBRS_id'].astype(int)\n",
        "\n",
        "  cut_point = cut_off_idx(df)\n",
        "  working_df = select_working_data(df, cut_point)\n",
        "\n",
        "  return working_df"
      ],
      "metadata": {
        "id": "n5gp_DYpSqEV"
      },
      "execution_count": 11,
      "outputs": []
    },
    {
      "cell_type": "markdown",
      "source": [
        "## Run main cutoff"
      ],
      "metadata": {
        "id": "_IszMVtETKej"
      }
    },
    {
      "cell_type": "code",
      "source": [
        "#input_path = path + \"/Spectrum/16QAM_v2/Copy of dataSet_gamma0_Spectrum31MHz_Samples_16QAM_75GHz_LongHaul_input_25x81km_primeStep.xlsx\"\n",
        "#orking_df = main_cutoff(input_path)\n",
        "#display(working_df)"
      ],
      "metadata": {
        "id": "0MCaO3l2TOEZ"
      },
      "execution_count": 12,
      "outputs": []
    },
    {
      "cell_type": "code",
      "source": [
        "#working_df.to_csv(path+\"/Spectrum/NN/new_data_working_df.csv\", index=False)"
      ],
      "metadata": {
        "id": "OTlGF2TaTiAT"
      },
      "execution_count": 13,
      "outputs": []
    },
    {
      "cell_type": "markdown",
      "source": [
        "#New Train/Test Split"
      ],
      "metadata": {
        "id": "rIpeu9O5teEp"
      }
    },
    {
      "cell_type": "markdown",
      "source": [
        "## Get Reference data"
      ],
      "metadata": {
        "id": "bgUl5jOx2vOg"
      }
    },
    {
      "cell_type": "code",
      "source": [
        "def get_reference_and_sample_data(working_df, num_reference):\n",
        "  import random\n",
        "  num_of_ids = len(working_df['PBRS_id'].unique())\n",
        "\n",
        "  l = list(range(1, num_of_ids+1))\n",
        "  random.shuffle(l)\n",
        "  reference_arr = (l[:num_reference])\n",
        "  sample_arr = l[-(num_of_ids-num_reference):]\n",
        "\n",
        "  reference_data_df = working_df[working_df['PBRS_id'].isin(reference_arr)]\n",
        "  sample_data_df = working_df[working_df['PBRS_id'].isin(sample_arr)]\n",
        "  \n",
        "  return reference_data_df, sample_data_df"
      ],
      "metadata": {
        "id": "ec3YhJwn9Hxx"
      },
      "execution_count": 14,
      "outputs": []
    },
    {
      "cell_type": "markdown",
      "source": [
        "## Get test/train split"
      ],
      "metadata": {
        "id": "gaVlwtnN-Ezo"
      }
    },
    {
      "cell_type": "code",
      "source": [
        "def get_idx_train_test_split(working_df, trainingProp = 0.8):\n",
        "  rows_training = np.array([])\n",
        "  rows_testing = np.array([])\n",
        "  distances = [x*80 for x in range(1, 26)]\n",
        "  for d in distances:\n",
        "    distance_working_df = working_df.loc[working_df['Distance_km'] == d]\n",
        "    rows_mixed=np.random.permutation(distance_working_df.shape[0])\n",
        "\n",
        "    training_amt = math.ceil(distance_working_df.shape[0]*trainingProp)\n",
        "    testing_amt = distance_working_df.shape[0] - training_amt\n",
        "\n",
        "    rows_training = np.append(rows_training, rows_mixed[:training_amt])\n",
        "    rows_testing = np.append(rows_testing, rows_mixed[-testing_amt:])\n",
        "  \n",
        "  rows_training = rows_training.astype('int').tolist()\n",
        "  rows_testing = rows_testing.astype('int').tolist()\n",
        "\n",
        "  return rows_training, rows_testing"
      ],
      "metadata": {
        "id": "yKHiNNANyyDB"
      },
      "execution_count": 15,
      "outputs": []
    },
    {
      "cell_type": "markdown",
      "source": [
        "## Get frequencies filter"
      ],
      "metadata": {
        "id": "WEbwMwMG-9BX"
      }
    },
    {
      "cell_type": "code",
      "source": [
        "def frequencies_filter(df, num_selected_freq=20):\n",
        "  info_df = df.iloc[:, 0:6]\n",
        "  data_df = df.iloc[:, 6:df.shape[1]]\n",
        "  span_val = int(data_df.shape[1]/num_selected_freq)\n",
        "  for i in range(num_selected_freq):\n",
        "    df2 = data_df.iloc[:, (i+1)*span_val].to_frame()\n",
        "    if i+1 == 1:\n",
        "      new_df = df2\n",
        "    else:\n",
        "      new_df = pd.merge(new_df, df2, left_index=True, right_index=True)\n",
        "  new_df = info_df.join(new_df)\n",
        "  \n",
        "  return new_df"
      ],
      "metadata": {
        "id": "RqeELlLC_vlH"
      },
      "execution_count": 16,
      "outputs": []
    },
    {
      "cell_type": "markdown",
      "source": [
        "## Get features"
      ],
      "metadata": {
        "id": "S2Z2xg2yHuoz"
      }
    },
    {
      "cell_type": "code",
      "source": [
        "#sample_freq_data_df\n",
        "#distance_reference_df\n",
        "#selected_rows = rows_training\n",
        "def get_features(sample_freq_data_df, reference_freq_data_df, selected_rows, test_references_params):\n",
        "  data_distance = []\n",
        "  data_mean = []\n",
        "  data_std = []\n",
        "  data_pearson_min = []\n",
        "  data_pearson_mean = []\n",
        "  data_pearson_max = []\n",
        "  data_CI_lower = []\n",
        "  data_CI_upper = []\n",
        "\n",
        "  if test_references_params[0] == True: # Test reference distance portion\n",
        "    reference_freq_data_df = reference_freq_data_df['Distance_km'].isin(test_references_params[1])\n",
        "\n",
        "  for row_idx in tqdm(selected_rows):\n",
        "    reference_Y = reference_freq_data_df.iloc[row_idx,3] # distance of row selected\n",
        "\n",
        "    data_Y = sample_freq_data_df.iloc[row_idx,3] # distance of row selected\n",
        "    data_X = np.array(sample_freq_data_df.iloc[row_idx,6:sample_freq_data_df.shape[1]]) #array of data in row selected\n",
        "    data_distance.append(data_Y)\n",
        "    data_std.append(np.std(data_X))\n",
        "    data_mean.append(np.mean(data_X))\n",
        "\n",
        "    data_ci = st.t.interval(alpha=0.90, df=len(data_X)-1, loc=np.mean(data_X), scale=st.sem(data_X))\n",
        "    data_confidence_int_lower = data_ci[0]\n",
        "    data_confidence_int_upper = data_ci[1]\n",
        "\n",
        "    pearson_vals = []\n",
        "    confidence_vals_lower = []\n",
        "    confidence_vals_upper = []\n",
        "    for reference_row in range(0, reference_freq_data_df.shape[0]):\n",
        "      reference_X = np.array(reference_freq_data_df.iloc[reference_row,6:reference_freq_data_df.shape[1]])\n",
        "      pearson_vals.append(round(pearsonr(data_X, reference_X)[0], 5))\n",
        "\n",
        "      reference_ci = st.t.interval(alpha=0.90, df=len(reference_X)-1, loc=np.mean(reference_X), scale=st.sem(reference_X))\n",
        "      reference_confidence_int_lower = reference_ci[0]\n",
        "      confidence_vals_lower.append(round(abs(reference_confidence_int_lower - data_confidence_int_lower), 5))\n",
        "      reference_confidence_int_upper = reference_ci[1]\n",
        "      confidence_vals_upper.append(round(abs(reference_confidence_int_upper - data_confidence_int_upper),5))\n",
        "\n",
        "    data_pearson_min.append(np.min(pearson_vals))\n",
        "    data_pearson_mean.append(np.mean(pearson_vals))    \n",
        "    data_pearson_max.append(np.max(pearson_vals))\n",
        "\n",
        "    data_CI_lower.append(np.min(confidence_vals_lower))\n",
        "    data_CI_upper.append(np.min(confidence_vals_upper))\n",
        "\n",
        "  data = {'distance':data_distance,\n",
        "                  'mean':data_mean,\n",
        "                  'std':data_std,\n",
        "                  'pearson_min':data_pearson_min,\n",
        "                  'pearson_mean':data_pearson_mean,\n",
        "                  'pearson_max':data_pearson_max,\n",
        "                  'delta_CI_min':data_CI_lower,\n",
        "                  'delta_CI_max':data_CI_upper}\n",
        "\n",
        "  data_df = pd.DataFrame(data)\n",
        "\n",
        "  \n",
        "  return data_df"
      ],
      "metadata": {
        "id": "8FNsUKTVxZmP"
      },
      "execution_count": 29,
      "outputs": []
    },
    {
      "cell_type": "markdown",
      "source": [
        "## Main train/test split"
      ],
      "metadata": {
        "id": "9V5WNuN9jSZF"
      }
    },
    {
      "cell_type": "code",
      "source": [
        "def get_train_test_split_main(input_path, num_of_freq_selected, reference_amt, test_references_params):\n",
        "  working_df = pd.read_csv(input_path)\n",
        "  working_df['Distance_km'] = working_df['Distance_km'].astype(int)\n",
        "  #working_df = working_df.sample(frac = 1) # Shuffle df\n",
        "\n",
        "  reference_data_df, sample_data_df = get_reference_and_sample_data(working_df, reference_amt)\n",
        "\n",
        "  reference_freq_data_df = frequencies_filter(reference_data_df, num_selected_freq=num_of_freq_selected)\n",
        "  sample_freq_data_df = frequencies_filter(sample_data_df, num_selected_freq=num_of_freq_selected)\n",
        "\n",
        "  rows_training, rows_testing = get_idx_train_test_split(sample_data_df, trainingProp = 0.8)\n",
        "\n",
        "  print('Calculating train split:')\n",
        "  training_df = get_features(sample_freq_data_df, reference_freq_data_df, rows_training, test_references_params)\n",
        "  print('Calculating test split:')\n",
        "  testing_df = get_features(sample_freq_data_df, reference_freq_data_df, rows_testing, test_references_params)\n",
        "\n",
        "  return training_df, testing_df, reference_freq_data_df, sample_freq_data_df, rows_training, rows_testing"
      ],
      "metadata": {
        "id": "uL35uf_RjV3r"
      },
      "execution_count": 30,
      "outputs": []
    },
    {
      "cell_type": "markdown",
      "source": [
        "# Bootstrapping"
      ],
      "metadata": {
        "id": "S_ysZa0NcV0W"
      }
    },
    {
      "cell_type": "markdown",
      "source": [
        "## Get max and min values of each column"
      ],
      "metadata": {
        "id": "WcOO339iclrH"
      }
    },
    {
      "cell_type": "code",
      "source": [
        "def get_max_min_val_col(working_df):\n",
        "  distances = [x*80 for x in range(1, 26)]\n",
        "  data_working_df = working_df.iloc[:, 6:working_df.shape[1]]\n",
        "  h_list = list(data_working_df.columns.values)\n",
        "  max_min_col_dict = {header:[] for header in h_list}\n",
        "\n",
        "  for d in tqdm(distances):\n",
        "    boot_dist_df = working_df.loc[working_df['Distance_km'] == d]\n",
        "    for idx in range(6, boot_dist_df.shape[1]):\n",
        "      max_val_col = float(boot_dist_df.iloc[:, [idx]].max()) # max val in col\n",
        "      min_val_col = float(boot_dist_df.iloc[:, [idx]].min()) # min val in col\n",
        "      h = boot_dist_df.iloc[:, [idx]].columns # header of col\n",
        "      h = h[0]\n",
        "      max_min_col_dict[h].append((d, min_val_col, max_val_col))\n",
        "  return max_min_col_dict"
      ],
      "metadata": {
        "id": "aekr6Y0OcZ3w"
      },
      "execution_count": null,
      "outputs": []
    },
    {
      "cell_type": "markdown",
      "source": [
        "## Create new samples using bootstrap technique"
      ],
      "metadata": {
        "id": "_0nAH77NcoA_"
      }
    },
    {
      "cell_type": "code",
      "source": [
        "def create_bootstrap_samples(working_df, max_min_col_dict, num_of_new_samples, previos_amt_of_samples=13):\n",
        "  import random\n",
        "\n",
        "  row_data = []\n",
        "  PBRS_id_data = []\n",
        "  Distance_km_data = []\n",
        "  power_dBm_data = []\n",
        "  span_data = []\n",
        "\n",
        "  h_list = list(working_df.columns.values)\n",
        "  new_data = {header:[] for header in h_list}\n",
        "\n",
        "  last_row_in_old_df_val = working_df.shape[0]\n",
        "  for new_sample in tqdm(range(num_of_new_samples)): # generating (num_of_new_samples) new samples for en data\n",
        "    for d in distances:\n",
        "      new_data['row'].append(last_row_in_old_df_val)\n",
        "      last_row_in_old_df_val += 1\n",
        "      new_data['PBRS_id'].append(new_sample+(previos_amt_of_samples+1))\n",
        "      new_data['Channels'].append(1)\n",
        "\n",
        "      new_data['Distance_km'].append(d)\n",
        "      new_data['power_dBm'].append(0)\n",
        "      new_data['#span'].append(int(d/80))\n",
        "\n",
        "      for k, v in max_min_col_dict.items(): # header:(d, min_val_col, max_val_col)\n",
        "        for val in v:\n",
        "          if val[0] == d:\n",
        "            bootstrap_val = round(random.uniform(val[1], val[2]), 14)\n",
        "            new_data[str(k)].append(bootstrap_val)\n",
        "            break\n",
        "  new_data_df = pd.DataFrame.from_dict(new_data)\n",
        "\n",
        "  return new_data_df"
      ],
      "metadata": {
        "id": "reVgqwbfckwp"
      },
      "execution_count": null,
      "outputs": []
    },
    {
      "cell_type": "markdown",
      "source": [
        "## Combine previos df with bootstraped df"
      ],
      "metadata": {
        "id": "Yqct6pgmctpY"
      }
    },
    {
      "cell_type": "code",
      "source": [
        "input_path = path + \"/Spectrum/NN/new_data_working_df.csv\"\n",
        "working_df = pd.read_csv(input_path)\n",
        "working_df['Distance_km'] = working_df['Distance_km'].astype(int)\n",
        "\n",
        "max_min_col_dict = get_max_min_val_col(working_df)\n",
        "new_data_df = create_bootstrap_samples(working_df, max_min_col_dict, num_of_new_samples=400, previos_amt_of_samples=100)\n",
        "new_working_df = working_df.append(new_data_df)\n",
        "\n",
        "new_working_df.to_csv(path + \"/Spectrum/NN/bootstraped_new_data_working_df.csv\", index=False)"
      ],
      "metadata": {
        "colab": {
          "base_uri": "https://localhost:8080/"
        },
        "id": "b1mZ4Wb0cvLv",
        "outputId": "19fb3e51-3723-41f7-eb46-e7d871a2c485"
      },
      "execution_count": null,
      "outputs": [
        {
          "output_type": "stream",
          "name": "stderr",
          "text": [
            "100%|██████████| 25/25 [01:52<00:00,  4.49s/it]\n",
            "100%|██████████| 400/400 [01:48<00:00,  3.70it/s]\n"
          ]
        }
      ]
    },
    {
      "cell_type": "markdown",
      "source": [
        "#Test new data"
      ],
      "metadata": {
        "id": "-4aouQ6qQRor"
      }
    },
    {
      "cell_type": "markdown",
      "source": [
        "## Hope better"
      ],
      "metadata": {
        "id": "8Ou1UMjPtiWN"
      }
    },
    {
      "cell_type": "code",
      "source": [
        "def get_label_data_splits(input_path, num_of_freq_selected, reference_amt, split_done=False, test_references_params=(False, [80, 1040, 2000])):\n",
        "\n",
        "  if split_done == False:\n",
        "    training_df, testing_df, reference_freq_data_df, sample_freq_data_df, rows_training, rows_testing = get_train_test_split_main(input_path, num_of_freq_selected, reference_amt, test_references_params)\n",
        "\n",
        "    training_df.to_csv(path+\"/Spectrum/NN/train_test_splits/v2_bootstraped_new_data_training_data_NN_freq_\"+str(num_of_freq_selected)+\"_reference_\"+str(reference_amt)+\".csv\", header=True, index=False)\n",
        "    testing_df.to_csv(path+\"/Spectrum/NN/train_test_splits/v2_bootstraped_new_data_testing_data_NN_freq_\"+str(num_of_freq_selected)+\"_reference_\"+str(reference_amt)+\".csv\", header=True, index=False)\n",
        "\n",
        "    reference_freq_data_df.to_csv(path+\"/Spectrum/NN/train_test_splits/v2_bootstraped_new_data_Reference_NN_freq_\"+str(num_of_freq_selected)+\"_reference_\"+str(reference_amt)+\".csv\", header=True, index=False)\n",
        "    sample_freq_data_df.to_csv(path+\"/Spectrum/NN/train_test_splits/v2_bootstraped_new_data_Sample_NN_freq_\"+str(num_of_freq_selected)+\"_reference_\"+str(reference_amt)+\".csv\", header=True, index=False)\n",
        "\n",
        "    pickle.dump(rows_training, open(path+\"/Spectrum/NN/train_test_splits/v2_bootstraped_traininig_Rows_NN_freq_\"+str(num_of_freq_selected)+\"_reference_\"+str(reference_amt)+\".pkl\",\"wb\"))\n",
        "    pickle.dump(rows_testing, open(path+\"/Spectrum/NN/train_test_splits/v2_bootstraped_testing_Rows_NN_freq_\"+str(num_of_freq_selected)+\"_reference_\"+str(reference_amt)+\".pkl\",\"wb\"))\n",
        "  else:\n",
        "    training_df = pd.read_csv(path+\"/Spectrum/NN/train_test_splits/v2_bootstraped_new_data_training_data_NN_freq_\"+str(num_of_freq_selected)+\"_reference_\"+str(reference_amt)+\".csv\")\n",
        "    testing_df = pd.read_csv(path+\"/Spectrum/NN/train_test_splits/v2_bootstraped_new_data_testing_data_NN_freq_\"+str(num_of_freq_selected)+\"_reference_\"+str(reference_amt)+\".csv\")\n",
        "    \n",
        "    reference_freq_data_df = pd.read_csv(path+\"/Spectrum/NN/train_test_splits/v2_bootstraped_new_data_Reference_NN_freq_\"+str(num_of_freq_selected)+\"_reference_\"+str(reference_amt)+\".csv\")\n",
        "    sample_freq_data_df = pd.read_csv(path+\"/Spectrum/NN/train_test_splits/v2_bootstraped_new_data_Sample_NN_freq_\"+str(num_of_freq_selected)+\"_reference_\"+str(reference_amt)+\".csv\")\n",
        "    with open(path+\"/Spectrum/NN/train_test_splits/v2_bootstraped_traininig_Rows_NN_freq_25_reference_25.pkl\", 'rb') as f:\n",
        "      rows_training = pickle.load(f)\n",
        "    with open(path+\"/Spectrum/NN/train_test_splits/v2_bootstraped_testing_Rows_NN_freq_25_reference_25.pkl\", 'rb') as f:\n",
        "      rows_testing = pickle.load(f)  \n",
        "  \n",
        "  Y = training_df.iloc[:, 0].to_numpy().reshape(-1,1)\n",
        "  X = training_df.iloc[:, 1:(training_df.shape[1)]\n",
        "\n",
        "  sc_input = MinMaxScaler()\n",
        "  sc_output = MinMaxScaler()\n",
        "  Y_train = sc_output.fit_transform(Y) # convert distances to values from 0 to 1\n",
        "  X_train = sc_input.fit_transform(X) # convert features to values from 0 to 1\n",
        "\n",
        "  Y = testing_df.iloc[:, 0].to_numpy().reshape(-1,1)\n",
        "  X = testing_df.iloc[:, 1:(testing_df.shape[1])]\n",
        "\n",
        "  Y_test = sc_output.fit_transform(Y) # convert distances to values from 0 to 1\n",
        "  X_test = sc_input.fit_transform(X) # convert features to values from 0 to 1\n",
        "\n",
        "  return Y_train, X_train, Y_test, X_test, sc_output, training_df, testing_df, reference_freq_data_df, sample_freq_data_df, rows_training, rows_testing"
      ],
      "metadata": {
        "id": "vuhTggzTfTlX",
        "colab": {
          "base_uri": "https://localhost:8080/",
          "height": 131
        },
        "outputId": "3801ae17-8652-4b54-f37b-62425b4dd14f"
      },
      "execution_count": 50,
      "outputs": [
        {
          "output_type": "error",
          "ename": "SyntaxError",
          "evalue": "ignored",
          "traceback": [
            "\u001b[0;36m  File \u001b[0;32m\"<ipython-input-50-082d315c803a>\"\u001b[0;36m, line \u001b[0;32m26\u001b[0m\n\u001b[0;31m    X = training_df.iloc[:, 1:(training_df.shape[1)]\u001b[0m\n\u001b[0m                                                  ^\u001b[0m\n\u001b[0;31mSyntaxError\u001b[0m\u001b[0;31m:\u001b[0m invalid syntax\n"
          ]
        }
      ]
    },
    {
      "cell_type": "code",
      "source": [
        "def predict_test(model_ann, Y_test, X_test, sc_output_c, testing_df, remove_outliers=0.05):\n",
        "  print('Results (freq_'+str(num_of_freq_selected)+'_reference_'+str(reference_amt)+')')\n",
        "  # Predit\n",
        "  start_time = time.time()\n",
        "  Y_test_pred=model_ann.predict(X_test)\n",
        "  pred=list(Y_test_pred)\n",
        "\n",
        "  print('Pred:')\n",
        "  print(pred)\n",
        "  \n",
        "  time_eval_ann=time.time()-start_time\n",
        "\n",
        "  dist_min=sc_output_c.data_min_[0] # 80\n",
        "  dist_max=sc_output_c.data_max_[0] # 2000\n",
        "\n",
        "  real=list(list(zip(*Y_test))[0])\n",
        "  real_abs=np.add(dist_min,np.multiply((dist_max-dist_min),real)) # convert back to distances values from scalar\n",
        "  real_abs=[int(np.round(i)) for i in real_abs]\n",
        "  pred_abs=np.add(dist_min,np.multiply((dist_max-dist_min),pred)) # convert back to distances values from scalar\n",
        "\n",
        "  print('Real_abs:')\n",
        "  print(real_abs)\n",
        "  print('Pred_abs:')\n",
        "  print(pred_abs)\n",
        "\n",
        "  real_abs_e1 = real_abs\n",
        "  real_abs_e2 = real_abs\n",
        "\n",
        "  pred_abs_e1 = pred_abs\n",
        "  pred_abs_e2 = pred_abs\n",
        "\n",
        "  error=np.divide(np.abs(np.subtract(np.array(real_abs),np.array(pred_abs))),np.array(real_abs))\n",
        "  error_v2 = np.abs(np.subtract(np.array(real_abs),np.array(pred_abs)))\n",
        "\n",
        "  remove_outliers = math.ceil((len(error_v2)*remove_outliers)/2)\n",
        "\n",
        "  for outlier in range(1, remove_outliers+1):\n",
        "    min_idx_e1 = np.argmin(error)\n",
        "    max_idx_e1 = np.argmax(error)\n",
        "\n",
        "    min_idx_e2 = np.argmin(error_v2)\n",
        "    max_idx_e2 = np.argmax(error_v2)\n",
        "\n",
        "    error = np.delete(error, min_idx_e1)\n",
        "    error = np.delete(error, max_idx_e1)\n",
        "    real_abs_e1 = np.delete(real_abs_e1, min_idx_e1)\n",
        "    real_abs_e1 = np.delete(real_abs_e1, max_idx_e1)\n",
        "    pred_abs_e1 = np.delete(pred_abs_e1, min_idx_e1)\n",
        "    pred_abs_e1 = np.delete(pred_abs_e1, max_idx_e1)\n",
        "\n",
        "    error_v2 = np.delete(error_v2, min_idx_e2)\n",
        "    error_v2 = np.delete(error_v2, max_idx_e2)\n",
        "    real_abs_e2 = np.delete(real_abs_e2, min_idx_e1)\n",
        "    real_abs_e2 = np.delete(real_abs_e2, max_idx_e1)\n",
        "    pred_abs_e2 = np.delete(pred_abs_e2, min_idx_e1)\n",
        "    pred_abs_e2 = np.delete(pred_abs_e2, max_idx_e1)\n",
        "\n",
        "  res=pd.DataFrame({\"dist\":real_abs_e1,\"pred\":pred_abs_e1,\"error\":error})\n",
        "  res.to_csv(path+\"/Spectrum/NN/NN_results_error/v2_bootstraped_new_data_results_curve_freq_\"+str(num_of_freq_selected)+\"_reference_\"+str(reference_amt)+\".csv\", header=True, index=False)\n",
        "\n",
        "  res_v2=pd.DataFrame({\"dist\":real_abs_e2,\"pred\":pred_abs_e2,\"error\":error_v2})\n",
        "  res.to_csv(path+\"/Spectrum/NN/NN_results_error/v2_bootstraped_new_data_results_deltas_freq_\"+str(num_of_freq_selected)+\"_reference_\"+str(reference_amt)+\".csv\", header=True, index=False)\n",
        "  \n",
        "  plt.plot(real_abs_e1,error,'bo')\n",
        "  plt.xlabel('Distances') \n",
        "  plt.ylabel('Error') \n",
        "  plt.title(\"Results Curve (freq_\"+str(num_of_freq_selected)+\"_reference_\"+str(reference_amt)+\")\")\n",
        "  plt.savefig(path+\"/Spectrum/NN/NN_results_plots/v2_bootstraped_new_data_results_curve_freq_\"+str(num_of_freq_selected)+\"_reference_\"+str(reference_amt)+\".png\")\n",
        "  plt.show()\n",
        "  \n",
        "  plt.plot(real_abs_e2,error_v2,'bo')\n",
        "  plt.xlabel('Distances') \n",
        "  plt.ylabel('Error') \n",
        "  plt.title(\"Results Deltas (freq_\"+str(num_of_freq_selected)+\"_reference_\"+str(reference_amt)+\")\")\n",
        "  plt.savefig(path+\"/Spectrum/NN/NN_results_plots/v2_bootstraped_new_data_results_deltas_freq_\"+str(num_of_freq_selected)+\"_reference_\"+str(reference_amt)+\".png\")\n",
        "  plt.show()"
      ],
      "metadata": {
        "id": "VM7Qp086iJzS"
      },
      "execution_count": 53,
      "outputs": []
    },
    {
      "cell_type": "code",
      "source": [
        "def train_model(X_train, Y_train):\n",
        "  print('Training model (freq_'+str(num_of_freq_selected)+'_reference_'+str(reference_amt)+')...')\n",
        "  from keras.models import Sequential\n",
        "  from keras.layers import Dense,Conv2D, Flatten, Dropout\n",
        "  from keras.wrappers.scikit_learn import KerasRegressor\n",
        "  from keras.callbacks import EarlyStopping\n",
        "  from tqdm.keras import TqdmCallback\n",
        "\n",
        "  def ann():\n",
        "      model = Sequential()\n",
        "      model.add(Dense(76, input_dim = 7, activation = 'tanh'))\n",
        "      model.add(Dense(38,activation='tanh'))\n",
        "      model.add(Dense(38,activation='tanh'))      \n",
        "      model.add(Dense(19,activation='tanh'))\n",
        "      model.add(Dense(19,activation='tanh'))\n",
        "      model.add(Dense(9,activation='tanh'))\n",
        "      model.add(Dense(9,activation='tanh'))\n",
        "      model.add(Dense(1))\n",
        "      model.compile(loss ='mean_squared_error',optimizer = 'RMSprop')\n",
        "      return model\n",
        "\n",
        "  model_ann = KerasRegressor(build_fn=ann,epochs=8000,batch_size=32, verbose=0)\n",
        "\n",
        "  start_time = time.time()\n",
        "  callback = [EarlyStopping(monitor='loss', patience=500)]#, TqdmCallback(verbose=2)]\n",
        "  model_ann.fit(X_train, Y_train, callbacks=callback)\n",
        "  time_train_ann = time.time() - start_time\n",
        "\n",
        "  model_ann.model.save(path+\"/Spectrum/NN/NNs/v2_bootstraped_final_new_data_NN_model_freq_\"+str(num_of_freq_selected)+\"_reference_\"+str(reference_amt)+\".h5\")\n",
        "  \n",
        "  return model_ann"
      ],
      "metadata": {
        "id": "eg-RpJrnfDCC"
      },
      "execution_count": 33,
      "outputs": []
    },
    {
      "cell_type": "code",
      "source": [
        "num_of_freq_selected = 25\n",
        "reference_amt = 25\n",
        "input_path = path + \"/Spectrum/NN/bootstraped_new_data_working_df.csv\"\n",
        "\n",
        "Y_train_c, X_train_c, Y_test_c, X_test_c, sc_output_c, training_df_c, testing_df_c, reference_freq_data_df_c, sample_freq_data_df_c, rows_training_c, rows_testing_c = get_label_data_splits(input_path, num_of_freq_selected, reference_amt, split_done=True)"
      ],
      "metadata": {
        "id": "HO4JJwuiQTCe"
      },
      "execution_count": 48,
      "outputs": []
    },
    {
      "cell_type": "code",
      "source": [
        "model_ann_c = train_model(X_train_c, Y_train_c)\n",
        "'''\n",
        "# Load network\n",
        "from keras.models import load_model\n",
        "model_ann_c = KerasRegressor(build_fn=ann, epochs=8000, batch_size=32, verbose=0)\n",
        "model_ann_c.model = load_model(path+\"/Spectrum/NN/NNs/v2_bootstraped_final_new_data_NN_model_freq_10_reference_30.h5\")\n",
        "'''"
      ],
      "metadata": {
        "colab": {
          "base_uri": "https://localhost:8080/",
          "height": 70
        },
        "id": "9XynTocCnzhi",
        "outputId": "5ffc259a-109d-4702-f4db-77a2fb4fca40"
      },
      "execution_count": 51,
      "outputs": [
        {
          "output_type": "stream",
          "name": "stdout",
          "text": [
            "Training model (freq_25_reference_25)...\n"
          ]
        },
        {
          "output_type": "execute_result",
          "data": {
            "text/plain": [
              "'\\n# Load network\\nfrom keras.models import load_model\\nmodel_ann_c = KerasRegressor(build_fn=ann, epochs=8000, batch_size=32, verbose=0)\\nmodel_ann_c.model = load_model(path+\"/Spectrum/NN/NNs/v2_bootstraped_final_new_data_NN_model_freq_10_reference_30.h5\")\\n'"
            ],
            "application/vnd.google.colaboratory.intrinsic+json": {
              "type": "string"
            }
          },
          "metadata": {},
          "execution_count": 51
        }
      ]
    },
    {
      "cell_type": "code",
      "source": [
        "#predict_test(model_ann_c, Y_test_c, X_test_c, sc_output_c)\n",
        "predict_test(model_ann_c, Y_test_c, X_test_c, sc_output_c, testing_df_c, remove_outliers=0.05)"
      ],
      "metadata": {
        "colab": {
          "base_uri": "https://localhost:8080/",
          "height": 504
        },
        "id": "sNy39pL-mxsN",
        "outputId": "7caa6649-80d5-48f5-8704-3580df0bd418"
      },
      "execution_count": 54,
      "outputs": [
        {
          "output_type": "stream",
          "name": "stdout",
          "text": [
            "Results (freq_25_reference_25)\n",
            "Pred:\n",
            "[0.75250566, 0.54062545, 0.71286565, 0.12356639, 0.8718729, 0.7150582, -0.00027543306, 0.08362576, 0.5809427, 0.63225293, 0.7939272, 0.21336389, 0.71023715, 0.28734776, 0.5900395, 0.45970976, 0.87704074, 0.5442725, 0.62490827, 0.42262933, 0.37176028, 0.8271864, 0.2464239, 0.20734996, 0.46268737, 0.83799523, 0.043952584, 0.32999837, 0.9592976, 0.8792978, 0.6668964, 0.084559515, 0.1263224, 0.044974744, 0.20549655, 0.45683467, 0.41248462, 0.08246948, 0.7894037, 0.085736275, 0.07744904, 1.0033131, 0.29200685, 0.70227945, 0.41485333, 0.6235614, 0.58046293, 0.1573294, 0.1726173, 0.8726551, 0.33520186, 0.8346118, 0.21218938, 0.7910993, 6.0260296e-05, 0.0006952882, 0.24432838, 0.87348586, 0.87851673, 0.9138423, 0.04352051, 0.5824377, 0.87367165, 0.79851717, 0.16439083, 0.2569689, 0.46283215, 0.46107867, 0.21541801, 0.5415282, 0.5043493, 0.9566615, 0.33044532, 0.20696513, 0.49506915, 0.9614055, 0.13355067, 0.45841312, 0.0821313, 0.95986986, 0.63062966, 0.7832888, 0.53729266, 0.96074855, 0.0774505, 0.50336564, 0.34063947, 0.21094489, 0.5802377, 0.16413227, 0.20755905, 0.62602484, 0.0008240342, 0.24691683, 0.79500276, 0.45932752, 0.63225293, 0.20755905, 0.8777338, 0.7950027, 0.24432838, 0.7423743, 0.9605698, -0.0007901788, 0.8378785, 0.45841312, 0.5440156, 0.08546412, 0.74778396, 0.8756574, 0.1263224, 0.12565462, 0.58685434, 0.9561975, 0.6774341, 0.20734996, 0.5824377, 1.0033131, 0.4989272, 0.5436549, 0.57523596, 1.0014069, 0.1252825, 0.0002834499, 0.750571, 0.45032206, 0.7062354, 0.95666146, 0.37105396, 0.9178125, 0.7456263, 0.6665834, 0.8726551, 0.041000843, 0.78588974, 0.58291626, 0.375641, 0.75221425, 1.0014758, 0.6254064, 0.92049974, 0.29163566, 0.6681534, 0.67379516, 0.6707799, 0.16784714, 0.91549885, 0.12546997, 0.7062285, 0.2892723, 0.4564294, 0.29675975, 0.34063947, 0.5442725, 0.08263767, 0.87348586, 0.5415282, -0.00027543306, 0.7986576, 0.83193576, 0.5006761, 0.8398842, 0.25895822, 0.7032411, 0.08352302, 0.4454155, 0.33044532, 0.03508672, 0.54062545, 0.48679233, 0.20664828, 0.16673818, 0.37515083, 0.46107867, 0.9197055, 0.54326606, 0.33283985, 0.5026829, 0.4560786, 0.59005433, 0.662885, 0.8774977, 0.20814976, 0.9622779, 0.9916011, 0.08477193, 0.7150582, 0.9598337, 0.79513544, 0.42215002, 0.03964758, 0.12517199, 0.62685263, 0.6665834, 0.12529121, 1.0000756, 0.67379516, 0.4154109, 1.0038761, 0.29787844, 0.9178125, 0.4564294, 0.20067519, 0.044974744, 0.58046293, 0.45937866, 0.62602484, 1.0020921, 0.0014120042, 0.04210621, 0.16772017, 0.22065921, 0.7456378, 0.37171352, 0.12304665, 0.49619102, 0.45775777, 0.1726173, 0.5809427, 1.00513, 0.7133025, 0.16673818, -0.0009197593, 0.45544174, 0.20933738, 0.86850446, 0.58256036, 0.9590214, 0.8343182, 0.0774505, 0.5768573, 0.9622779, 0.2569689, 0.33044532, 0.32985067, 0.8302683, 0.63062966, 0.3748868, 0.7059547, 0.13355067, 0.2924158, 0.62348616, 0.16413227, 0.9164466, 0.5444343, 0.041000843, 0.58404124, 0.2892723, 0.375641, 0.07744904, 0.41538057, -8.165836e-05, 0.78588974, 0.29675975, 0.4568346, 0.29294527, 0.5419709, 0.1573294, 0.24978425, 0.21350992, 0.16428484, 0.832973, 0.997496, 0.4560786, 0.88006586, 0.7508173, 0.416448, 0.8334962, 0.80877805, 1.0014758, 0.8777338, 0.9551266, 0.8794394, 0.8774977, 0.5802377, 0.20549655, 0.043004304, 0.00026375055, 0.6774341, 0.0006952882, 0.37721708, 0.25896654, 0.084559485, 0.16693375, 0.71427166, 0.7608979, 0.2006627, 0.041691184, 0.5440156, 0.7896208, 0.0002834499, 0.78588974, 0.5809427, 0.6700536, 0.6206727, 0.20696513, 0.41077983, 1.000684, 0.16428484, 0.0774505, 0.9178125, 0.6665834, 0.6691017, 0.7985171, 0.33283985, 0.5896959, 0.3720921, 0.6683157, 0.79955006, 0.03964761, 0.12138027, 0.5026829, 0.41272584, 0.17276584, 0.41852772, 0.044837505, 0.7456378, 1.0014069, 0.7557881, 0.54197085, 0.2955356, 0.08246948, 0.0002861619, 0.21218938, 0.7488347, 0.8369817, 0.83799523, 0.7059547, 0.0015635192, 0.001693666, 0.91927785, 0.9990257, 0.45932752, 0.756793, 0.7062285, 0.7508173, 0.34063947, 0.79133177, 0.20734996, 0.5442725, 0.8346118, 0.24754888, 0.999675, 0.7456263, 0.21336389, 0.63062966, 0.58291626, 0.58404124, 0.832973, 0.8319667, 0.8792978, 1.0051303, 0.66201633, 0.37105396, 0.00039106607, -0.0007901788, 0.71507525, 0.084559485, 0.6668964, 0.62602484, 0.9650303, 0.583385, 0.4072153, 0.58616495, 0.24839121, 0.20664828, 0.041000843, 0.6227369, 0.043952584, 0.50128365, 0.33464324, 0.6279079, 0.96052927, 0.9598337, 0.62751186, 0.12408042, 0.83197266, 0.955256, 0.08696766, 0.92049974, 0.58188015, 0.33608943, 0.6669736, 0.7986576, 0.96660835, 0.9179487, 0.75250566, 0.32340747, 0.7608979, 0.416448, 0.96074855, 0.00026375055, 0.33351701, 0.71507525, 0.03508672, -0.0007901788, 0.04210621, 0.41248462, 0.20636621, 0.16428484, 0.9990257, 0.29200685, 0.37721708, 0.37038064, 0.085172385, 0.7489104, 0.66387296, 0.8346118, 0.8319667, 1.0028833, 0.8777338, 0.24847583, 0.91356057, 0.8736716, 0.1667382, 0.17261736, 0.0002861619, 0.9551266, 0.5824377, 0.0391289, 0.37924993, 0.9178125, 0.12304665, 0.7939272, 0.3720921, 0.9561975, 0.9622779, 0.8321901, 0.91773415, 0.58256036, 0.04332152, 0.7894037, 0.4560786, 0.043004304, 0.71286565, 0.24814712, 0.46283215, 0.88006586, 0.62348616, 0.53735316, 0.084000885, 0.04028696, 0.044837505, 0.33195457, 0.37440574, 0.7562897, 0.04352039, 0.91546094, 0.12546997, 0.42215002, 0.08477193, 0.2915068, 0.28964096, 0.832973, 0.78588974, 0.80877805, 1.0014069, 0.75228953, 0.28988767, 0.7456378, 0.12408042, 0.83193576, -0.00027543306, 0.336358, 0.96161366, 0.7133025, 0.75221425, 1.0079234, 0.28734776, 0.16772017, 0.5026829, 0.63225293, 0.45032206, 0.16784714, 0.5896959, 0.7113974, 0.041691244, 0.29303527, 0.8794394, 0.75228953, 0.24432838, 0.0002834499, 0.24603999, 0.662885, 0.88006586, 0.58685434, 0.45970976, 0.997496, 0.58046293, 0.20933738, 0.8334962, 0.24814712, 0.2924158, 0.8381745, 0.16439083, 0.33195457, 0.13355067, 0.0002861619, 0.45032206, 0.0006952882, 0.7518765, 0.78588974, 0.91356057, 1.0079234, 0.6707799, 0.5048075, 0.37594575, 0.41562033, 1.000684, 0.7032411, 0.87619627, 0.1727659, 0.12356639, 0.66698897, 0.58256036, 0.33829623, 0.80877805, 0.50128365, 0.0014120042, 0.57523596, 0.16496542, 0.0774505, 0.79415905, 1.0000756, 0.29200685, 0.9603401, 0.5043493, 0.5768573, 0.04332152, 0.95767856, 0.66379786, 0.5900395, 0.37440574, 0.53729266, 0.16693375, 0.915461, 0.4559167, 0.5014273, 0.9592976, 0.33520186, 0.20636621, -0.0009197295, 0.41924524, 0.6235614, 0.1650776, 0.8343182, 0.3339186, 0.7508173, 0.2915068, 0.25896654, 0.37121752, 0.79955006, 0.24989888, 0.96161366, 0.33351701, 0.66846645, 0.20814976, 0.62685263, 0.33464324, 0.5442725, 0.84196144, 0.8787939, 0.37105396, 0.12898085, 0.45932752, 0.28988767, 0.2955356, 0.41077983, 0.33044532, -8.165836e-05, 0.13355067, 0.33020812, 0.75228953, 1.00513, 0.6697545, 0.624925, 0.7150582, 0.24699494, 0.5397425, 0.54326606, 0.0008240342, 0.9598337, 0.71023715, 0.838381, 0.04352051, 0.20933738, 0.62535256, 1.0000756, 0.24432838, 0.96052927, 0.0006226599, 0.33044532, 0.0446949, 0.5824377, 0.4192453, 0.24603999, 0.59005433, 0.16857602, 0.50336564, 0.8726551, 0.91963243, 0.45203403, 0.91866475, 0.1263224, 0.25895822, 0.12138027, 0.20636609, 0.33635795, 0.2892723, 0.41723242, 0.07744904, 0.75221425, 0.9622779, 0.7937937, 0.62685263, 0.33829623, 0.96161366, 0.5809405, 0.20067519, 0.12481715, 0.9165493, 0.33608943, 0.50128365, 0.37176028, 0.28964096, 0.416448, 0.5444343, 0.58256036, 0.0002834499, 0.9197055, 1.0028833, 0.17276584, 0.71564484, 0.16784714, 0.7910993, 0.8718729, 0.29044527, 0.1726173, 0.29540718, 0.16689043, 0.6246449, 0.58188015, 0.6683157, 0.00080543756, 0.29787844, 0.45937866, 0.4559167, 0.71286565, 0.7562897, 0.41538057, 0.043004304, 0.044974744, 0.9178125, 0.7489104, 0.2915068, 0.756793, 0.20549655, 0.9991669, 0.37208718, 0.2544495, 0.41894883, 0.83799523, 0.00026375055, 0.37594575, 0.79865766, 0.37038064, 0.71286565, 0.49506915, 0.16490166, 0.9164466, 0.70227957, 0.8792978, 0.5419709, 0.084559485, 0.044974744, 0.2892723, 0.2569689, 0.8398842, 0.375641, 0.12478627, 0.32915536, 0.24754888, 0.38252687, 0.91773415, 0.8726551, 0.58404124, 0.75250566, 0.085172385, 0.416448, 0.0821313, 0.16673818, 0.8744065, 0.3748868, 0.20933738, 1.0038761, 0.4154109, 0.8346118, 0.8343182, 0.7113974, 0.7510624, 0.96660835, 0.7494098, 0.8794394, 0.5900394, 0.7894037, 0.91927785, 0.46036303, 0.0006226599, 0.5824377, 0.6669736, 0.22065921, 0.88006586, 0.67379516, 0.001693666, 0.32999837, 0.62602484, 0.57523596, 0.16845576, 0.08246948, 0.62492496, 0.041457772, 0.75221425, 0.5394466, 0.59005433, 0.08546412, 0.4192453, 0.6227369, 0.71427166, 0.21071675, 0.12556198, 0.9551266, 0.7608979, 0.46107867, 0.66201633, 0.043952584, 0.37556922, 0.1682659, 0.17276584, 1.0014069, 0.5440871, 0.37121752, 0.71356744, 0.5048075, 0.33385813, 0.4990099, 0.0015635192, 0.16708194, 0.24847583, 0.58078426, 0.6774341, 0.29200685, 0.92049974, 0.3776072, 0.54741985, 0.5440156, 0.7910993, 0.71507525, 0.41485333, 0.96074855, 0.66379786, 0.91927785, 0.20664828, 0.38252687, 0.87348586, 0.9650303, 0.20066276, 0.12859808, 0.7150581, 0.08477193, 0.70227945, 0.24978425, 0.48679233, 0.24814712, 0.6665834, 0.6206727, 0.50336564, 0.17276584, 0.8271864, 0.044443965, 0.71023715, -0.0009197295, 0.16845576, 0.20636621, 0.96161366, 0.08546412, 0.53729266, 0.28266948, 0.29365355, 0.99859935, 0.78588974, 0.9566615, 0.20734996, 0.08352302, 0.8309933, 0.37121752, 0.41248462, 0.79415905, 0.86850446, 0.00080543756, 0.8383809, 0.9598337, 0.374532, 0.9202033, 0.21336389, 0.45841312, 0.5440871, 0.58188015, 0.8792978, 0.21094489, 0.37434784, 0.9622779, 0.7087754, 0.08008678, 0.12546997, 0.7557881, 0.62481594, 0.66698897, 0.37556913, 0.20067519, 0.8398842, 0.08696766, 0.29787844, 0.2955356, 0.91866475, 0.7456378, 0.8774977, 0.6674048, 0.710021, 0.5436549, 0.21350992, 0.12481728, 0.76089793, 0.33829623, 0.24839121, 0.5442725, 0.91549885, 0.9575779, 0.7562897, 0.715288, 0.28964096, 0.4990645, 0.28734776, 0.7456263, 0.24630417, 0.95767856, 0.33195457, 0.4989272, 0.4564294, 0.7062285, 0.1573294, 0.085172385, 0.8787939, 0.5043493, 0.37721708, 0.45683467, 0.08246948, 0.6774341, 0.24989888, 0.16845576, 0.6206727, 0.62535256, 0.08477193, 0.04469493, 0.24630415, 0.5419709, 0.041691244, 0.8726551, 0.21094489, 0.7832888, 0.20755905, 0.21218938, 0.662885, 0.45937866, 0.12529121, 0.16772017, 0.24432838, 0.7910993, 0.8732003, 0.03964761, 0.22065921, 0.5415282, 1.000684, 0.29163566, 0.043952584, 0.9598337, 0.62602484, 0.8787939, 0.6700536, 0.9138423, 0.58046293, 1.0028833, 0.4990086, 0.997496, 0.66387296, 1.0000756, 0.80877805, 0.28988767, 0.08008678, 0.41562033, 0.1726173, 0.041457772, 0.044837505, 0.8771621, 0.16490166, 0.45841312, 0.2544495, 0.24691683, 0.540915, 0.08315009, 0.999675, 0.3776072, 0.1263224, 0.7150582, 0.87704074, 0.91927785, 0.83315825, 0.29365355, 0.46283215, 0.42215002, 0.29675975, 0.20067519, 0.1252825, 0.16428484, 0.001693666, 0.8343182, 0.34063947, 0.29787844, 0.21350998, 0.2955356, 0.9164466, 0.58616495, 0.6669736, 0.62768567, 0.375641, 0.8774977, 0.041000843, 0.8381745, 0.13355067, 0.45932752, 0.42262933, 0.29303527, 0.7894037, 0.71564484, 0.0008240342, 0.92504865, 0.1682659, 0.33608943, 0.9590214, 0.7518765, 0.044142395, 0.07744904, 0.22065921, 0.9614055, 0.37924993, 0.12812008, 0.9551266, 0.9575779, 0.37515083, 0.07745053, 0.87716216, 0.6235614, 0.5821857, 0.83197266, 0.24603999, 0.79865766, 0.6681534, 0.87851673, 0.5419709, 0.91532624, 0.8334962, 0.6279079, 0.79009485, 0.42215002, 0.9598337, 0.37176028, 0.5394466, 0.12138027, -0.0007901788, 0.2955356, 0.662885, 0.04028696, 0.33464324, 0.91773415, 0.20066276, 0.9191665, 0.86923957, 0.41723242, 0.37038064, 0.6668964, 0.92049974, 0.08696757, 1.0014068, 0.041691244, 0.7423743, 0.71286565, 0.53735316, 0.87348586, 0.085736275, 0.8732003, 0.37121752, 0.24630417, 0.46036303, 0.5900395, 0.58078426, 0.7985171, 0.374532, 0.41852772, 0.21071675, 0.32985067, 1.0030866, 0.9990257, 0.2924158, 0.416448, 0.24847583, 0.12517188, 0.5407456, 0.7107282, 0.62751186, 0.58616495, 0.29163566, 0.62492496, 0.8321901, 0.49900866, 0.37488684, 0.58046293, 0.12546997, 0.24839121, 0.20814976, 0.12408042, 0.50128365, 0.62490827, 0.044837505, 0.6246449, 0.79415905, 0.12478627, 0.0446949, 0.12898085, 0.2506977, 0.6254064, 0.33044532, 0.0008240342, 0.9590214, 0.54741985, 0.87619627, 0.7087754, 0.7985171, 0.83193576, 0.95986986, 0.12529121, 0.04210621, 0.20067519, 0.5363286, 0.3720921, 0.1263224, 0.95619744, 0.7133024, 0.5442725, 0.7113974, 0.7608979, 0.63225293, 0.16689043, 0.21071675, 0.20814976, 0.2569689, 0.66379786, 0.62492496, 0.37594575, 0.7939272, 0.25895822, 0.16496542, 0.49506915, 1.0028833, 0.22065921, 0.16543102, 0.41831324, 0.12565462, 0.5436549, 0.999675, -0.0001731515, 0.92504865, 0.9650303, -0.00027543306, 0.96161366, 0.750571, 0.29168436, 0.4564294, 0.87348574, 0.7128657, 0.58685434, 0.7150582, 0.45032206, 0.7950027, 0.08246948, 0.832973, 0.5768573, 0.5015967, 0.540915, 0.74778396, 0.71507525, 0.87704074, 0.5809427, 0.28266948, 0.6206727, 0.24691683, 0.375641, 0.75221425, 0.58046293, 0.9202033, 0.4072153, 0.46049237, 0.7508173, 0.0391289, 0.0006952882, 0.838381, 0.95767856, 0.29044527, 0.53729266, 0.71023715, 0.13355067, 0.99916697, 0.7832888, 0.7494098, 1.0014069, 0.91356057, 0.9178125, 0.08008678, 0.32780835, 1.0011632, 0.62602484, 0.044837505, 0.08546412, 0.46283215, 0.0008793473, 0.044495404, 0.16845576, 0.48679233, 0.66387296, 0.9990257, 0.7456263, 0.6300172, 0.7939272, 0.00026375055, 0.50224537, 0.58291626, 0.085172385, 0.8398842, 0.4072153, 0.6668964, 0.96052927, 0.041000843, 0.32780835, 0.12546992, 0.29675975, 0.91773415, 0.8771621, 0.5821857, 0.08008678, 0.03508672, 0.41077983, 0.79415905, 0.96161366, 0.49506915, 0.63062966, 0.45841312, 0.21071675, 0.62492496, 0.45932752, 0.24978425, 0.24630417, 0.24691683, 0.16428484, 0.54741985, 0.37171352, 0.66379786, 0.7113974, 0.41272584, 0.16784714, 0.9991669, 0.6674048, 0.78588974, 0.57523596, 0.04332152, 0.9614054, 0.20067516, 0.32999837, 0.1573294, 0.12478627, 0.24432838, 0.5048075, 0.33829623, 0.24699494, 0.46107867, 0.16689043, 0.5026829, 0.29303527, 0.37105396, 0.4454155, 1.00513, 0.00039106607, 0.66975445, 0.7508173, 0.33020812, 0.42215002, 0.87704074, 0.29200685, 0.9990257, 0.756793, 0.45203403, 0.7494098, 6.0260296e-05, 0.74778396, 0.24814712, 0.21336389, 0.62751186, 0.20439076, 0.71564484, 0.6683157, 0.79513544, 0.38252687, 0.08352302, 0.7562897, 0.21350992, 0.83193576, 0.12396629, 0.7896208, 0.16693375, 0.80877805, 0.4139265, 0.79009485, 0.71023715, 0.87619627, 0.12304665, 0.66201633, 0.7423743, 0.24754888, 0.8271864, 0.50128365, 0.24630417, 0.16673818, 0.7508173, 0.8302683, 0.20066276, 0.2506977, 0.49619102, 0.7950027, 0.0391289, 0.87851673, 0.7494098, 0.7608979, 0.45932752, 0.83315825, 0.41831324, 0.6700536, 0.91773415, 0.00026375055, 0.0008793473, 0.66201633, 0.71507525, 0.583385, 0.46049237, 0.79133177, 0.42187205, 0.58616495, 0.32780835, 0.62768567, 0.58256036, 0.29303527, 0.7894037, 0.9202033, 0.32915536, 0.20734996, 0.043952584, 0.58188015, 0.8736716, 0.21071675, 0.8774977, 0.75228953, 0.750571, 0.2904453, 0.44541556, 0.08696766, 0.20696513, 0.9592976, 0.32999837, 0.336358, 0.62685263, 0.79009485, 0.66930115, 0.58404124, 0.12304665, 0.0774505, 0.1263224, 0.58078426, 0.95767856, 0.12138027, 0.6235614, 0.9138423, 0.832973, 0.044443965, 0.00039106607, 0.24691683, 0.9605698, 0.37171352, 0.7985171, 0.50336564, 0.710021, 0.33608943, 0.5809427, 0.20067519, 0.374532, 0.999675, 0.16490166, 0.7423743, 0.997496, 0.21336389, 0.0002834499, 0.5444343, 0.5802377, 0.16784714, 0.20475577, 0.66387296, 0.46268737, 0.0014120042, 0.91356057, 0.3776072, 0.33195457, 0.9916011, 0.92504865, 0.71356744, 0.7489104, 0.7062354, 0.7456263, 0.33195457, 0.45683467, 0.79009485, 0.08477193, 0.5407456, 0.9575779, 0.8792978, 1.0033131, 0.08442438, -0.0007901788, 0.5043493, 0.5440155, 0.04352051, 0.38252687, 0.5455378, 0.62535256, 0.63062966, 0.9991669, 0.1650776, 6.0260296e-05, 0.044443965, 0.79955006, 0.1236711, 0.5468713, 0.2924158, 0.5015967, 0.20439081, 0.25896654, 1.0079234, 0.8302683, 0.5809427, -0.0001731515, 0.24691683, 0.24603999, 0.0015635192, 0.20696513, 0.20549655, 0.6246449, 0.22065921, 0.66930115, 0.16708194, 0.08300671, 0.832973, 0.7557881, 0.87704074, 0.92049974, 0.2544495, 0.9590214, 0.71507525, 0.9996287, 0.37176028, 0.66698897, 0.5363286, 0.0006226599, 0.20475577, 0.6668964, 0.16784714, 0.2915068, 0.08008678, 0.1263224, 0.08315009, 0.12478627, 0.9614055, 0.37515083, 0.96052927, 0.6665834, 0.24989888, 0.86923957, 0.86850446, 0.999675, 0.044837505, 0.25063935, 0.95986986, 0.37208718, 0.79415905, 0.3720921, 0.00080543756, 0.9561975, 0.59005433, 0.53729266, 0.16772017, 0.29123104, 0.70227945, 0.16845576, 0.0774505, 0.45544162, 0.7508173, 0.33608943, 0.63225293, 0.41629016, 0.95767856, 0.5048075, 0.33385813, 0.7108607, 0.6279079, 0.6774341, 0.4960727, 0.20066276, 0.16428484, 0.33044532, 0.12859805, 0.21071675, 0.29294533, 0.16693375, 0.5468713, 0.9590214, 0.95929754, 0.044974744, 0.7456378, 0.9650303, 0.7985171, 0.29044527, 0.33195457, 0.21350992, 0.6270466, 0.0006226599, 0.0391289, 0.41831324, 0.4990086, 0.7062285, 0.08546412, 0.42215002, 0.374532, 0.0008240342, 0.16784714, 0.12304665, 0.08696766, 0.3776072, 0.71356744, 1.000684, 0.4989272, 0.75531733, 0.5415282, 0.0774505, 0.12138027, 0.87619627, 0.58188015, 0.08008678, 0.21336389, 0.37488684, 0.1650776, 0.71427166, 0.044142395, 0.4560786, 0.71564484, 0.5006761, 0.25896654, 0.8378785, 0.86923957, 0.29365355, 0.86850446, 0.8774977, 0.7608979, 0.4559167, 0.6668964, 0.00080543756, 0.33283985, 0.6683157, 0.7508173, 0.8334962, 0.28988767, 0.8302683, 0.7518765, 0.2464239, 0.24978425, 0.7423743, 0.33464324, 0.2915068, 0.22065921, 0.8398842, 0.6684663, 0.41924524, 0.20636621, 0.45203403, 0.66201633, 0.38252687, 0.8309933, 0.62492496, 0.21541801, 0.9990257, 0.08442438, 0.88006586, 0.24754888, 0.33520186, 0.5900395, 0.9179487, 0.5419709, 0.8756574, 0.20066276, 0.78991157, 0.16857602, 0.5028279, 0.0008793473, 0.20664828, 0.58291626, 0.7832888, 0.1726173, 0.45937866, 0.4564294, 0.044443965, 0.21336389, 0.9178249, 0.8718728, 0.7567928, 0.12812008, 0.41894883, 0.6235614, 0.2892723, 0.9561975, 0.28964096, 0.24978425, 0.20734996, 0.5802377, 1.000684, 0.33351701, 0.70227945, 0.33829623, 0.91549885, 0.5440871, 0.3748868, 0.29200685, 0.49619102, 1.0030866, 0.8794394, 0.32985067, 0.16772017, 0.83799523, 0.2955356, 0.45032206, 0.9916011, 0.7108607, 0.42187205, 0.044974744, 1.0020921, 0.6276855, 0.962278, 0.37440574, 0.24754888, 0.7456378, 0.6669736, 0.66930115, 0.66846645, 0.28734776, 0.20439081, 0.8787939, 0.12565462, 0.044495404, 0.7488347, 0.91866475, 0.41562033, 0.8271864, 0.08315009, 0.8732003, 0.62490827, 0.1263224, -0.0001731515, 0.32340747, 0.0015635192, 0.9191665, 0.7510624, 0.715288, 0.03967178, 0.16428484, 0.955256, 0.9202033, 0.5006761, 0.084000856, 0.540915, 0.50224537, 1.0000756, 0.62535256, 0.37434784, 0.7894037, 0.7910993, 0.1573294, 0.41272584, 0.4559167, 0.58078426, 0.62492496, 0.37121752, 0.1236711, 0.83197266, 0.7950027, 0.5048075, 0.48679233, 0.9561975, 0.25896654, 0.6681534, 0.9178125, 0.20439081, 0.37594575, 0.33044532, 0.33464324, 0.92504865, 0.45937866, 0.58404124, 0.24603999, 0.7494098, 0.16772017, 0.29150686, 0.96660835, 0.9138423, 0.9598337, 1.0079234, 0.5900395, 0.71286565, 0.2544495, 0.45032206, 0.12408042, -0.00027543306, 0.715288, 0.62751186, 0.5444343, 0.24432838, 0.20549655, 0.96052927, 0.96074855, -0.0009197295, 0.04332152, 0.043004304, 0.6774341, 0.86923957, 0.79865766, 0.20475577, 0.5442725, 0.12529121, 0.8309933, 0.4072153, 0.1682659, 0.58616495, 0.1263224, 0.8398842, -0.0001731515, 0.374532, 0.67379516, 0.25063935, 0.08008678, 0.0002834499, 0.58078426, 0.7917374, 0.63225293, 0.37208718, 0.5802377, 0.00026375055, 0.29168436, 0.9614055, 0.5436549, 0.22065921, 0.0006952882, 0.3339186, 0.54062545, 0.79955006, 0.7087754, 0.33608943, 0.915461, 0.6683157, 0.4990645, 0.9566615, 0.8381745, 0.5896959, 0.5026829, 0.997496, 0.5014272, 0.5809405, 0.21336389, 0.16413227, 0.8369817, 0.24978425, 0.9197055, 0.041691244, 0.24839121, 0.5415282, 0.08546412, 1.00513, 0.662885, 0.8346118, 0.5455378, 0.59005433, 0.29294533, 1.00513, 0.96074855, 0.16845576, 0.50128365, 0.33351701, 0.540915, 0.46036303, 0.71023715, 0.29303527, 0.9990257, 0.4072153, 0.0008240342, 0.9575779, 0.044142395, 0.043004304, 0.8302684, 0.084559515, 0.0821313, 0.5896959, 0.67379516, 0.9138423, 0.74778396, 0.16490166, 0.9650303, 0.28266948, 0.7510624, 0.62751186, 0.4990645, 0.53735316, 0.08352302, 0.86850446, 0.8319667, 1.0079234, 0.6681534, 0.3748868, 0.58078426, 0.45970976, 0.8774977, 0.6683157, 0.8744065, 0.25896654, 0.29163566, 0.5394466, 0.3776072, 0.57523596, -0.0001731515, 0.58404124, 0.9178249, 0.66379786, 0.084000885, 0.63062966, 0.29675975, 0.08546412, 0.83315825, 0.08246948, 0.7059547, 0.62481594, 0.5442725, 0.20067519, 0.75250566, 0.7937937, 0.58685434, 0.4454155, 0.9197055, 0.83193576, 0.6270466, 0.71507525, 0.5028279, 0.6206727, 0.79415905, 0.3720921, 0.29123104, 0.00026375055, 0.6235614, 0.95986986, 0.7939272, 0.7456263, 0.5440871, 0.8726551, 1.0030866, 0.33385816, 0.42215002, 0.62768567, 0.8381745, 0.37721708, 0.45683467, 0.7488347, 0.45932752, 0.2955356, 0.24432838, 0.29540718, 0.16496542, 0.4989272, 0.6668964, 0.1236711, 0.5397425, -0.0009197295, 0.7108607, 0.75531733, 0.16784714, 0.6674048, 0.20755905, 0.043952584, 0.12478627, 0.24814712, 0.9575779, 0.24691683, 0.16693375, 0.6774341, 0.99859935, 0.45970976, 0.62751186, 0.71528804, 0.7032411, 0.58188015, 0.28964096, 0.34063947, 0.7518765, 0.08315009, 0.5824377, 0.8334962, 0.50128365, 0.710021, 1.0079234, 0.28988767, 0.46268737, 0.91549885, 0.78991157, 0.00026375055, 0.20814976, 0.0006952882, 0.49619102, 0.87619627, 0.80877805, 0.75221425, 0.5802377, 0.085736275, 0.62492496, 0.5419709, 0.29365355, 0.66201633, 0.22065921, 0.29200685, 0.632253, 0.083006635, 0.75228953, 0.6700536, 0.5363286, 0.37515083, 0.5407456, 0.41272584, 0.41077983, 0.25063935, 0.8744065, 0.7456378, 0.79415905, 0.37594575, 1.0033131, 0.33829623, 0.45683467, 0.37176028, 0.4990645, 0.915461, 0.32915536, 0.3748868, 1.0038761, 0.08263767, 0.7510624, 0.66698897, 0.62481594, 0.95767856, 0.54741985, 0.4454155, 0.41723242, 0.8271864, 0.8777338, 0.9178249, 0.12481715, 0.5821857, 0.12565462, 0.20475577, 0.54062545, 0.12408042, 0.24754888, 0.2506977, 0.70227945, 0.12517188, 0.044974744, 0.21541801, 0.63225293, 0.08359508, 0.54326606, 0.8744065, 0.12859805, 0.41272584, 0.45970976, 0.34063947, 0.50336564, 0.041000843, 0.9650303, 0.4154109, 0.46049237, 0.7133025, 0.915461, 0.043952584, 0.12478627, 0.17276584, 0.3352018, 0.12367113, 0.6700536, 0.8794394, 0.91927785, 0.46107867, 0.20439081, 0.6300172, 0.24699494, 0.6254064, 0.2569689, 0.92504865, 0.12556198, 0.4960727, 0.4072153, 0.86923957, 0.96660835, -0.0007901788, 0.5440156, 0.45544162, 0.71427166, 0.58685434, 0.7950027, 0.33283985, 0.58256036, 0.12898085, 1.0079234, 0.0006952882, 0.08263767, 0.29168436, 0.9996287, 0.12408042, 0.20549643, 0.16413224, 0.37171352, 0.20933738, 0.5802377, 0.16543102, 0.5809405, 0.9179487, 0.5440871, 0.8381745, 0.16693375, 0.07744904, 0.8302683, 0.78588974, 0.8378785, 0.83193576, 0.66387296, 0.16772017, 0.7062354, 0.3748868, 0.83799523, 0.6674048, 0.41248462, 0.20636621, 0.58616495, 0.71356744, 0.710021, 0.8309933, 0.20755905, 0.5043493, 0.374532, 0.78991157, 0.04352039, 0.87851673, 0.04332152, 0.66846645, 0.9178125, 0.7608979, 0.41077983, 0.62685263, 0.5048075, 0.20814976, 0.95767856, 0.2506977, 0.2915068, 0.91532624, 0.2915068, 0.12812008, 0.21094489, 0.374532, 0.9592976, 0.50224537, 0.20439081, 0.24850988, 0.12304665, 0.710021, 0.1650776, 0.7950027, 0.96074855, 1.00513, 0.25895822, 0.832973, 0.75531733, 0.9996287, 0.37515086, 1.0020922, 0.53729266, 0.5455378, 0.08315009, 0.1263224, 0.085736275, 0.08263767, 0.20664828, 0.7896208, 0.96660835, 0.9191665, 0.16543102, 0.12396629, 0.70227945, 0.75221425, 0.084559485, 0.71507525, 0.1682659, 0.12546997, 0.88006586, 0.16772017, 0.21541801, 0.79415905, 0.87851673, 0.8771621, 0.20549655, 0.6206727, 0.08546412, 0.6235614, 0.6707799, 0.20696513, 0.4628322, -8.165836e-05, 0.8726551, 0.45932752, 0.7133025, 0.5444343, 1.000684, 0.044837505, 0.92049974, 0.8787939, 0.46107867, 0.08362576, 0.20636621, 0.12898085, 0.085172385, 0.5436549, 0.6681534, 0.50128365, 0.32985067, 0.5028279, -0.0009197295, 0.71023715, 0.9138423, 0.12517188, 0.24847583, 0.37171352, 0.8732003, 0.3720921, 0.67379516, 0.29044527, 0.41248462, 0.58046293, 0.49892712, 0.71072817, 0.08359508, 0.838381, 0.00080543756, 0.043952584, 0.04210621, 0.33020812, 0.95986986, 0.8369817, 0.540915, 0.8744065, 0.7985171, 0.62751186, 0.79865766, 1.0028833, 1.00513, 0.1236711, 0.5048075, 0.20696513, 0.99859935, 0.67379516, 0.04352051, 0.583385, 0.336358, 0.20636621, 0.33351701, -8.165836e-05, 1.0033131, 0.58188015, 0.7133025, 0.29365355, 0.083006635, 0.6669736, 0.03967178, 0.8378785, 0.62490827, 0.13355067, 0.29303527, 0.21350992, 0.7510624, 0.91356057, 0.4454155, 0.08442438, 0.1726173, 0.20475577, 0.21336389, 0.78588974, 0.29200685, 0.4559167, 0.91549885, 0.53735316, 0.6206727, 0.6774341, 0.12481715, 0.0774505, 0.999675, 0.8319667, -0.00027543306, 0.45544162, 0.832973, 0.12478627, 0.9996287, 0.37038064, 0.42215014, 0.7937936, 0.16693375, 0.9197055, 0.00039106607, 0.59005433, 0.0006226599, 0.0006952882, 0.79955006, 0.9592976, 0.0015635192, 0.12356639, 0.62685263, 0.16428484, 0.0008793473, 0.4192453, 0.58616495, 0.20814976, 0.2544495, 0.62481594, 0.83315825, 0.001693666, 0.50224537, 0.8756574, 0.33044532, 0.33608943, 0.6254064, 0.12138027, 0.12812008, 0.38252687, 0.4072153, 0.2569689, 0.24432835, 0.16413224, 0.16784714, 0.91866475, 0.8792978, 0.33464324, 0.32915536, 0.46107867, 0.7950027, 0.7488347, 0.6665834, 0.4564294, 0.79133177, 0.2544495, 0.28964096, 0.9598337, 0.08359508, 0.96074855, 0.1682659, 0.29163566, 0.70227945, 0.29365355, 0.9590214, 0.9603401, 0.08315009, 0.96052927, 0.87704074, 0.79009485, 0.41894883, 0.37440574, 0.044974744, 0.0391289, 0.45970976, 0.66658336, 0.41629016, 0.9605698, 0.084559485, 0.7032411, 0.16413227, 0.63225293, 0.28988767, 0.3748868, 0.7488347, 0.662885, 0.7059547, 0.24691683, 0.45841312, 0.21094489, 0.33829623, 0.8736716, 0.2506977, 0.37105396, 0.7456263, 0.6691017, 0.28734776, 0.58078426, 0.33195457, 1.0014758, 0.08696766, 0.37434784, 0.32780835, 0.80877805, 0.24630417, 0.41852772, 0.04210615, 0.00026378036, -0.0009197295, 0.7062285, 0.21071675, 0.9197055, 0.58291626, 0.9650303, 0.37171352, 0.33044532, 0.20636621, 0.8302683, 0.88006586, 0.24989888, 0.21541801, 0.2915068, 0.7562897, 0.1236711, 0.832973, 0.0008793473, 0.37924993, 0.1726173, 0.9178125, 0.7150582, 0.67379516, 0.74778396, 0.1252825, 0.4454155, 0.58616495, 1.0000756, 0.42262933, 0.08246948, 1.0038761, 0.9614054, 0.29123104, 0.7489104, 0.20549655, 0.044142395, 0.62751186, 0.8321901, 0.5014273, 0.8744065, 0.46509904, 0.21218938, 0.5415282, 0.8369817, 0.83315825, 0.42187205, 0.3748868, 0.9603401, 0.8309933, 0.32985067, 0.86923957, 0.2955356, 0.9605698, 0.715288, 0.12546997, 0.5809405, 0.7917374, 0.37556913, 0.955256, 0.044974744, 0.7494098, 0.71427166, 0.7456378, 0.24432835, 0.16496542, 0.7423743, 0.2892723, 0.21350992, 0.66201633, 0.8718729, 0.5407456, 0.4454155, 0.83799523, 0.8774977, 0.7489104, 0.7937937, 1.000684, 0.28266948, 0.044495404, 0.0006226599, 0.8334962, 0.6235614, 0.21071675, 0.25063935, 0.37594575, 0.085736275, 0.83197266, 0.7488347, 0.041691244, 0.4564294, 0.21094489, 0.5455378, 0.12517188, 0.08300671, 0.9614054, 0.24814712, 0.4072153, 0.33829623, 0.8794394, 0.756793, 0.043004304, 0.8744065, 0.32999837, 0.80877805, 0.33195457, -8.165836e-05, 0.8346118, 0.8756574, 0.5896959, 0.915461, 0.33351701, 0.08263767, 0.57523596, 0.8321901, 0.7557881, 0.16543102, 0.16413227, 6.0260296e-05, 0.5363286, 0.08442438, 0.33464324, 0.0774505, 0.62535256, 0.7608979, 0.1682659, 0.997496, 0.7910994, 0.03912887, 0.07744904, 0.3720921, 0.0002861619, 0.28964093, 0.5048075, 0.2916844, 0.583385]\n",
            "Real_abs:\n",
            "[1520, 1120, 1440, 320, 1760, 1440, 80, 240, 1200, 1280, 1600, 480, 1440, 640, 1200, 960, 1760, 1120, 1280, 880, 800, 1680, 560, 480, 960, 1680, 160, 720, 1920, 1760, 1360, 240, 320, 160, 480, 960, 880, 240, 1600, 240, 240, 2000, 640, 1440, 880, 1280, 1200, 400, 400, 1760, 720, 1680, 480, 1600, 80, 80, 560, 1760, 1760, 1840, 160, 1200, 1760, 1600, 400, 560, 960, 960, 480, 1120, 1040, 1920, 720, 480, 1040, 1920, 320, 960, 240, 1920, 1280, 1600, 1120, 1920, 240, 1040, 720, 480, 1200, 400, 480, 1280, 80, 560, 1600, 960, 1280, 480, 1760, 1600, 560, 1520, 1920, 80, 1680, 960, 1120, 240, 1520, 1760, 320, 320, 1200, 1920, 1360, 480, 1200, 2000, 1040, 1120, 1200, 2000, 320, 80, 1520, 960, 1440, 1920, 800, 1840, 1520, 1360, 1760, 160, 1600, 1200, 800, 1520, 2000, 1280, 1840, 640, 1360, 1360, 1360, 400, 1840, 320, 1440, 640, 960, 640, 720, 1120, 240, 1760, 1120, 80, 1600, 1680, 1040, 1680, 560, 1440, 240, 960, 720, 160, 1120, 1040, 480, 400, 800, 960, 1840, 1120, 720, 1040, 960, 1200, 1360, 1760, 480, 1920, 2000, 240, 1440, 1920, 1600, 880, 160, 320, 1280, 1360, 320, 2000, 1360, 880, 2000, 640, 1840, 960, 480, 160, 1200, 960, 1280, 2000, 80, 160, 400, 480, 1520, 800, 320, 1040, 960, 400, 1200, 2000, 1440, 400, 80, 960, 480, 1760, 1200, 1920, 1680, 240, 1200, 1920, 560, 720, 720, 1680, 1280, 800, 1440, 320, 640, 1280, 400, 1840, 1120, 160, 1200, 640, 800, 240, 880, 80, 1600, 640, 960, 640, 1120, 400, 560, 480, 400, 1680, 2000, 960, 1760, 1520, 880, 1680, 1600, 2000, 1760, 1920, 1760, 1760, 1200, 480, 160, 80, 1360, 80, 800, 560, 240, 400, 1440, 1520, 480, 160, 1120, 1600, 80, 1600, 1200, 1360, 1280, 480, 880, 2000, 400, 240, 1840, 1360, 1360, 1600, 720, 1200, 800, 1360, 1600, 160, 320, 1040, 880, 400, 880, 160, 1520, 2000, 1520, 1120, 640, 240, 80, 480, 1520, 1680, 1680, 1440, 80, 80, 1840, 2000, 960, 1520, 1440, 1520, 720, 1600, 480, 1120, 1680, 560, 2000, 1520, 480, 1280, 1200, 1200, 1680, 1680, 1760, 2000, 1360, 800, 80, 80, 1440, 240, 1360, 1280, 1920, 1200, 880, 1200, 560, 480, 160, 1280, 160, 1040, 720, 1280, 1920, 1920, 1280, 320, 1680, 1920, 240, 1840, 1200, 720, 1360, 1600, 1920, 1840, 1520, 720, 1520, 880, 1920, 80, 720, 1440, 160, 80, 160, 880, 480, 400, 2000, 640, 800, 800, 240, 1520, 1360, 1680, 1680, 2000, 1760, 560, 1840, 1760, 400, 400, 80, 1920, 1200, 160, 800, 1840, 320, 1600, 800, 1920, 1920, 1680, 1840, 1200, 160, 1600, 960, 160, 1440, 560, 960, 1760, 1280, 1120, 240, 160, 160, 720, 800, 1520, 160, 1840, 320, 880, 240, 640, 640, 1680, 1600, 1600, 2000, 1520, 640, 1520, 320, 1680, 80, 720, 1920, 1440, 1520, 2000, 640, 400, 1040, 1280, 960, 400, 1200, 1440, 160, 640, 1760, 1520, 560, 80, 560, 1360, 1760, 1200, 960, 2000, 1200, 480, 1680, 560, 640, 1680, 400, 720, 320, 80, 960, 80, 1520, 1600, 1840, 2000, 1360, 1040, 800, 880, 2000, 1440, 1760, 400, 320, 1360, 1200, 720, 1600, 1040, 80, 1200, 400, 240, 1600, 2000, 640, 1920, 1040, 1200, 160, 1920, 1360, 1200, 800, 1120, 400, 1840, 960, 1040, 1920, 720, 480, 80, 880, 1280, 400, 1680, 720, 1520, 640, 560, 800, 1600, 560, 1920, 720, 1360, 480, 1280, 720, 1120, 1680, 1760, 800, 320, 960, 640, 640, 880, 720, 80, 320, 720, 1520, 2000, 1360, 1280, 1440, 560, 1120, 1120, 80, 1920, 1440, 1680, 160, 480, 1280, 2000, 560, 1920, 80, 720, 160, 1200, 880, 560, 1200, 400, 1040, 1760, 1840, 960, 1840, 320, 560, 320, 480, 720, 640, 880, 240, 1520, 1920, 1600, 1280, 720, 1920, 1200, 480, 320, 1840, 720, 1040, 800, 640, 880, 1120, 1200, 80, 1840, 2000, 400, 1440, 400, 1600, 1760, 640, 400, 640, 400, 1280, 1200, 1360, 80, 640, 960, 960, 1440, 1520, 880, 160, 160, 1840, 1520, 640, 1520, 480, 2000, 800, 560, 880, 1680, 80, 800, 1600, 800, 1440, 1040, 400, 1840, 1440, 1760, 1120, 240, 160, 640, 560, 1680, 800, 320, 720, 560, 800, 1840, 1760, 1200, 1520, 240, 880, 240, 400, 1760, 800, 480, 2000, 880, 1680, 1680, 1440, 1520, 1920, 1520, 1760, 1200, 1600, 1840, 960, 80, 1200, 1360, 480, 1760, 1360, 80, 720, 1280, 1200, 400, 240, 1280, 160, 1520, 1120, 1200, 240, 880, 1280, 1440, 480, 320, 1920, 1520, 960, 1360, 160, 800, 400, 400, 2000, 1120, 800, 1440, 1040, 720, 1040, 80, 400, 560, 1200, 1360, 640, 1840, 800, 1120, 1120, 1600, 1440, 880, 1920, 1360, 1840, 480, 800, 1760, 1920, 480, 320, 1440, 240, 1440, 560, 1040, 560, 1360, 1280, 1040, 400, 1680, 160, 1440, 80, 400, 480, 1920, 240, 1120, 640, 640, 2000, 1600, 1920, 480, 240, 1680, 800, 880, 1600, 1760, 80, 1680, 1920, 800, 1840, 480, 960, 1120, 1200, 1760, 480, 800, 1920, 1440, 240, 320, 1520, 1280, 1360, 800, 480, 1680, 240, 640, 640, 1840, 1520, 1760, 1360, 1440, 1120, 480, 320, 1520, 720, 560, 1120, 1840, 1920, 1520, 1440, 640, 1040, 640, 1520, 560, 1920, 720, 1040, 960, 1440, 400, 240, 1760, 1040, 800, 960, 240, 1360, 560, 400, 1280, 1280, 240, 160, 560, 1120, 160, 1760, 480, 1600, 480, 480, 1360, 960, 320, 400, 560, 1600, 1760, 160, 480, 1120, 2000, 640, 160, 1920, 1280, 1760, 1360, 1840, 1200, 2000, 1040, 2000, 1360, 2000, 1600, 640, 240, 880, 400, 160, 160, 1760, 400, 960, 560, 560, 1120, 240, 2000, 800, 320, 1440, 1760, 1840, 1680, 640, 960, 880, 640, 480, 320, 400, 80, 1680, 720, 640, 480, 640, 1840, 1200, 1360, 1280, 800, 1760, 160, 1680, 320, 960, 880, 640, 1600, 1440, 80, 1840, 400, 720, 1920, 1520, 160, 240, 480, 1920, 800, 320, 1920, 1920, 800, 240, 1760, 1280, 1200, 1680, 560, 1600, 1360, 1760, 1120, 1840, 1680, 1280, 1600, 880, 1920, 800, 1120, 320, 80, 640, 1360, 160, 720, 1840, 480, 1840, 1760, 880, 800, 1360, 1840, 240, 2000, 160, 1520, 1440, 1120, 1760, 240, 1760, 800, 560, 960, 1200, 1200, 1600, 800, 880, 480, 720, 2000, 2000, 640, 880, 560, 320, 1120, 1440, 1280, 1200, 640, 1280, 1680, 1040, 800, 1200, 320, 560, 480, 320, 1040, 1280, 160, 1280, 1600, 320, 160, 320, 560, 1280, 720, 80, 1920, 1120, 1760, 1440, 1600, 1680, 1920, 320, 160, 480, 1120, 800, 320, 1920, 1440, 1120, 1440, 1520, 1280, 400, 480, 480, 560, 1360, 1280, 800, 1600, 560, 400, 1040, 2000, 480, 400, 880, 320, 1120, 2000, 80, 1840, 1920, 80, 1920, 1520, 640, 960, 1760, 1440, 1200, 1440, 960, 1600, 240, 1680, 1200, 1040, 1120, 1520, 1440, 1760, 1200, 640, 1280, 560, 800, 1520, 1200, 1840, 880, 960, 1520, 160, 80, 1680, 1920, 640, 1120, 1440, 320, 2000, 1600, 1520, 2000, 1840, 1840, 240, 720, 2000, 1280, 160, 240, 960, 80, 160, 400, 1040, 1360, 2000, 1520, 1280, 1600, 80, 1040, 1200, 240, 1680, 880, 1360, 1920, 160, 720, 320, 640, 1840, 1760, 1200, 240, 160, 880, 1600, 1920, 1040, 1280, 960, 480, 1280, 960, 560, 560, 560, 400, 1120, 800, 1360, 1440, 880, 400, 2000, 1360, 1600, 1200, 160, 1920, 480, 720, 400, 320, 560, 1040, 720, 560, 960, 400, 1040, 640, 800, 960, 2000, 80, 1360, 1520, 720, 880, 1760, 640, 2000, 1520, 960, 1520, 80, 1520, 560, 480, 1280, 480, 1440, 1360, 1600, 800, 240, 1520, 480, 1680, 320, 1600, 400, 1600, 880, 1600, 1440, 1760, 320, 1360, 1520, 560, 1680, 1040, 560, 400, 1520, 1680, 480, 560, 1040, 1600, 160, 1760, 1520, 1520, 960, 1680, 880, 1360, 1840, 80, 80, 1360, 1440, 1200, 960, 1600, 880, 1200, 720, 1280, 1200, 640, 1600, 1840, 720, 480, 160, 1200, 1760, 480, 1760, 1520, 1520, 640, 960, 240, 480, 1920, 720, 720, 1280, 1600, 1360, 1200, 320, 240, 320, 1200, 1920, 320, 1280, 1840, 1680, 160, 80, 560, 1920, 800, 1600, 1040, 1440, 720, 1200, 480, 800, 2000, 400, 1520, 2000, 480, 80, 1120, 1200, 400, 480, 1360, 960, 80, 1840, 800, 720, 2000, 1840, 1440, 1520, 1440, 1520, 720, 960, 1600, 240, 1120, 1920, 1760, 2000, 240, 80, 1040, 1120, 160, 800, 1120, 1280, 1280, 2000, 400, 80, 160, 1600, 320, 1120, 640, 1040, 480, 560, 2000, 1680, 1200, 80, 560, 560, 80, 480, 480, 1280, 480, 1360, 400, 240, 1680, 1520, 1760, 1840, 560, 1920, 1440, 2000, 800, 1360, 1120, 80, 480, 1360, 400, 640, 240, 320, 240, 320, 1920, 800, 1920, 1360, 560, 1760, 1760, 2000, 160, 560, 1920, 800, 1600, 800, 80, 1920, 1200, 1120, 400, 640, 1440, 400, 240, 960, 1520, 720, 1280, 880, 1920, 1040, 720, 1440, 1280, 1360, 1040, 480, 400, 720, 320, 480, 640, 400, 1120, 1920, 1920, 160, 1520, 1920, 1600, 640, 720, 480, 1280, 80, 160, 880, 1040, 1440, 240, 880, 800, 80, 400, 320, 240, 800, 1440, 2000, 1040, 1520, 1120, 240, 320, 1760, 1200, 240, 480, 800, 400, 1440, 160, 960, 1440, 1040, 560, 1680, 1760, 640, 1760, 1760, 1520, 960, 1360, 80, 720, 1360, 1520, 1680, 640, 1680, 1520, 560, 560, 1520, 720, 640, 480, 1680, 1360, 880, 480, 960, 1360, 800, 1680, 1280, 480, 2000, 240, 1760, 560, 720, 1200, 1840, 1120, 1760, 480, 1600, 400, 1040, 80, 480, 1200, 1600, 400, 960, 960, 160, 480, 1840, 1760, 1520, 320, 880, 1280, 640, 1920, 640, 560, 480, 1200, 2000, 720, 1440, 720, 1840, 1120, 800, 640, 1040, 2000, 1760, 720, 400, 1680, 640, 960, 2000, 1440, 880, 160, 2000, 1280, 1920, 800, 560, 1520, 1360, 1360, 1360, 640, 480, 1760, 320, 160, 1520, 1840, 880, 1680, 240, 1760, 1280, 320, 80, 720, 80, 1840, 1520, 1440, 160, 400, 1920, 1840, 1040, 240, 1120, 1040, 2000, 1280, 800, 1600, 1600, 400, 880, 960, 1200, 1280, 800, 320, 1680, 1600, 1040, 1040, 1920, 560, 1360, 1840, 480, 800, 720, 720, 1840, 960, 1200, 560, 1520, 400, 640, 1920, 1840, 1920, 2000, 1200, 1440, 560, 960, 320, 80, 1440, 1280, 1120, 560, 480, 1920, 1920, 80, 160, 160, 1360, 1760, 1600, 480, 1120, 320, 1680, 880, 400, 1200, 320, 1680, 80, 800, 1360, 560, 240, 80, 1200, 1600, 1280, 800, 1200, 80, 640, 1920, 1120, 480, 80, 720, 1120, 1600, 1440, 720, 1840, 1360, 1040, 1920, 1680, 1200, 1040, 2000, 1040, 1200, 480, 400, 1680, 560, 1840, 160, 560, 1120, 240, 2000, 1360, 1680, 1120, 1200, 640, 2000, 1920, 400, 1040, 720, 1120, 960, 1440, 640, 2000, 880, 80, 1920, 160, 160, 1680, 240, 240, 1200, 1360, 1840, 1520, 400, 1920, 640, 1520, 1280, 1040, 1120, 240, 1760, 1680, 2000, 1360, 800, 1200, 960, 1760, 1360, 1760, 560, 640, 1120, 800, 1200, 80, 1200, 1840, 1360, 240, 1280, 640, 240, 1680, 240, 1440, 1280, 1120, 480, 1520, 1600, 1200, 960, 1840, 1680, 1280, 1440, 1040, 1280, 1600, 800, 640, 80, 1280, 1920, 1600, 1520, 1120, 1760, 2000, 720, 880, 1280, 1680, 800, 960, 1520, 960, 640, 560, 640, 400, 1040, 1360, 320, 1120, 80, 1440, 1520, 400, 1360, 480, 160, 320, 560, 1920, 560, 400, 1360, 2000, 960, 1280, 1440, 1440, 1200, 640, 720, 1520, 240, 1200, 1680, 1040, 1440, 2000, 640, 960, 1840, 1600, 80, 480, 80, 1040, 1760, 1600, 1520, 1200, 240, 1280, 1120, 640, 1360, 480, 640, 1280, 240, 1520, 1360, 1120, 800, 1120, 880, 880, 560, 1760, 1520, 1600, 800, 2000, 720, 960, 800, 1040, 1840, 720, 800, 2000, 240, 1520, 1360, 1280, 1920, 1120, 960, 880, 1680, 1760, 1840, 320, 1200, 320, 480, 1120, 320, 560, 560, 1440, 320, 160, 480, 1280, 240, 1120, 1760, 320, 880, 960, 720, 1040, 160, 1920, 880, 960, 1440, 1840, 160, 320, 400, 720, 320, 1360, 1760, 1840, 960, 480, 1280, 560, 1280, 560, 1840, 320, 1040, 880, 1760, 1920, 80, 1120, 960, 1440, 1200, 1600, 720, 1200, 320, 2000, 80, 240, 640, 2000, 320, 480, 400, 800, 480, 1200, 400, 1200, 1840, 1120, 1680, 400, 240, 1680, 1600, 1680, 1680, 1360, 400, 1440, 800, 1680, 1360, 880, 480, 1200, 1440, 1440, 1680, 480, 1040, 800, 1600, 160, 1760, 160, 1360, 1840, 1520, 880, 1280, 1040, 480, 1920, 560, 640, 1840, 640, 320, 480, 800, 1920, 1040, 480, 560, 320, 1440, 400, 1600, 1920, 2000, 560, 1680, 1520, 2000, 800, 2000, 1120, 1120, 240, 320, 240, 240, 480, 1600, 1920, 1840, 400, 320, 1440, 1520, 240, 1440, 400, 320, 1760, 400, 480, 1600, 1760, 1760, 480, 1280, 240, 1280, 1360, 480, 960, 80, 1760, 960, 1440, 1120, 2000, 160, 1840, 1760, 960, 240, 480, 320, 240, 1120, 1360, 1040, 720, 1040, 80, 1440, 1840, 320, 560, 800, 1760, 800, 1360, 640, 880, 1200, 1040, 1440, 240, 1680, 80, 160, 160, 720, 1920, 1680, 1120, 1760, 1600, 1280, 1600, 2000, 2000, 320, 1040, 480, 2000, 1360, 160, 1200, 720, 480, 720, 80, 2000, 1200, 1440, 640, 240, 1360, 160, 1680, 1280, 320, 640, 480, 1520, 1840, 960, 240, 400, 480, 480, 1600, 640, 960, 1840, 1120, 1280, 1360, 320, 240, 2000, 1680, 80, 960, 1680, 320, 2000, 800, 880, 1600, 400, 1840, 80, 1200, 80, 80, 1600, 1920, 80, 320, 1280, 400, 80, 880, 1200, 480, 560, 1280, 1680, 80, 1040, 1760, 720, 720, 1280, 320, 320, 800, 880, 560, 560, 400, 400, 1840, 1760, 720, 720, 960, 1600, 1520, 1360, 960, 1600, 560, 640, 1920, 240, 1920, 400, 640, 1440, 640, 1920, 1920, 240, 1920, 1760, 1600, 880, 800, 160, 160, 960, 1360, 880, 1920, 240, 1440, 400, 1280, 640, 800, 1520, 1360, 1440, 560, 960, 480, 720, 1760, 560, 800, 1520, 1360, 640, 1200, 720, 2000, 240, 800, 720, 1600, 560, 880, 160, 80, 80, 1440, 480, 1840, 1200, 1920, 800, 720, 480, 1680, 1760, 560, 480, 640, 1520, 320, 1680, 80, 800, 400, 1840, 1440, 1360, 1520, 320, 960, 1200, 2000, 880, 240, 2000, 1920, 640, 1520, 480, 160, 1280, 1680, 1040, 1760, 960, 480, 1120, 1680, 1680, 880, 800, 1920, 1680, 720, 1760, 640, 1920, 1440, 320, 1200, 1600, 800, 1920, 160, 1520, 1440, 1520, 560, 400, 1520, 640, 480, 1360, 1760, 1120, 960, 1680, 1760, 1520, 1600, 2000, 640, 160, 80, 1680, 1280, 480, 560, 800, 240, 1680, 1520, 160, 960, 480, 1120, 320, 240, 1920, 560, 880, 720, 1760, 1520, 160, 1760, 720, 1600, 720, 80, 1680, 1760, 1200, 1840, 720, 240, 1200, 1680, 1520, 400, 400, 80, 1120, 240, 720, 240, 1280, 1520, 400, 2000, 1600, 160, 240, 800, 80, 640, 1040, 640, 1200]\n",
            "Pred_abs:\n",
            "[1524.8109  1118.0009  1448.702   ... 1049.2303   640.03406 1200.0991 ]\n"
          ]
        },
        {
          "output_type": "error",
          "ename": "IndexError",
          "evalue": "ignored",
          "traceback": [
            "\u001b[0;31m---------------------------------------------------------------------------\u001b[0m",
            "\u001b[0;31mIndexError\u001b[0m                                Traceback (most recent call last)",
            "\u001b[0;32m<ipython-input-54-d9962b97cd29>\u001b[0m in \u001b[0;36m<module>\u001b[0;34m()\u001b[0m\n\u001b[1;32m      1\u001b[0m \u001b[0;31m#predict_test(model_ann_c, Y_test_c, X_test_c, sc_output_c)\u001b[0m\u001b[0;34m\u001b[0m\u001b[0;34m\u001b[0m\u001b[0;34m\u001b[0m\u001b[0m\n\u001b[0;32m----> 2\u001b[0;31m \u001b[0mpredict_test\u001b[0m\u001b[0;34m(\u001b[0m\u001b[0mmodel_ann_c\u001b[0m\u001b[0;34m,\u001b[0m \u001b[0mY_test_c\u001b[0m\u001b[0;34m,\u001b[0m \u001b[0mX_test_c\u001b[0m\u001b[0;34m,\u001b[0m \u001b[0msc_output_c\u001b[0m\u001b[0;34m,\u001b[0m \u001b[0mtesting_df_c\u001b[0m\u001b[0;34m,\u001b[0m \u001b[0mremove_outliers\u001b[0m\u001b[0;34m=\u001b[0m\u001b[0;36m0.05\u001b[0m\u001b[0;34m)\u001b[0m\u001b[0;34m\u001b[0m\u001b[0;34m\u001b[0m\u001b[0m\n\u001b[0m",
            "\u001b[0;32m<ipython-input-53-7cffd4b51598>\u001b[0m in \u001b[0;36mpredict_test\u001b[0;34m(model_ann, Y_test, X_test, sc_output_c, testing_df, remove_outliers)\u001b[0m\n\u001b[1;32m     43\u001b[0m \u001b[0;34m\u001b[0m\u001b[0m\n\u001b[1;32m     44\u001b[0m     \u001b[0merror\u001b[0m \u001b[0;34m=\u001b[0m \u001b[0mnp\u001b[0m\u001b[0;34m.\u001b[0m\u001b[0mdelete\u001b[0m\u001b[0;34m(\u001b[0m\u001b[0merror\u001b[0m\u001b[0;34m,\u001b[0m \u001b[0mmin_idx_e1\u001b[0m\u001b[0;34m)\u001b[0m\u001b[0;34m\u001b[0m\u001b[0;34m\u001b[0m\u001b[0m\n\u001b[0;32m---> 45\u001b[0;31m     \u001b[0merror\u001b[0m \u001b[0;34m=\u001b[0m \u001b[0mnp\u001b[0m\u001b[0;34m.\u001b[0m\u001b[0mdelete\u001b[0m\u001b[0;34m(\u001b[0m\u001b[0merror\u001b[0m\u001b[0;34m,\u001b[0m \u001b[0mmax_idx_e1\u001b[0m\u001b[0;34m)\u001b[0m\u001b[0;34m\u001b[0m\u001b[0;34m\u001b[0m\u001b[0m\n\u001b[0m\u001b[1;32m     46\u001b[0m     \u001b[0mreal_abs_e1\u001b[0m \u001b[0;34m=\u001b[0m \u001b[0mnp\u001b[0m\u001b[0;34m.\u001b[0m\u001b[0mdelete\u001b[0m\u001b[0;34m(\u001b[0m\u001b[0mreal_abs_e1\u001b[0m\u001b[0;34m,\u001b[0m \u001b[0mmin_idx_e1\u001b[0m\u001b[0;34m)\u001b[0m\u001b[0;34m\u001b[0m\u001b[0;34m\u001b[0m\u001b[0m\n\u001b[1;32m     47\u001b[0m     \u001b[0mreal_abs_e1\u001b[0m \u001b[0;34m=\u001b[0m \u001b[0mnp\u001b[0m\u001b[0;34m.\u001b[0m\u001b[0mdelete\u001b[0m\u001b[0;34m(\u001b[0m\u001b[0mreal_abs_e1\u001b[0m\u001b[0;34m,\u001b[0m \u001b[0mmax_idx_e1\u001b[0m\u001b[0;34m)\u001b[0m\u001b[0;34m\u001b[0m\u001b[0;34m\u001b[0m\u001b[0m\n",
            "\u001b[0;32m<__array_function__ internals>\u001b[0m in \u001b[0;36mdelete\u001b[0;34m(*args, **kwargs)\u001b[0m\n",
            "\u001b[0;32m/usr/local/lib/python3.7/dist-packages/numpy/lib/function_base.py\u001b[0m in \u001b[0;36mdelete\u001b[0;34m(arr, obj, axis)\u001b[0m\n\u001b[1;32m   4523\u001b[0m             raise IndexError(\n\u001b[1;32m   4524\u001b[0m                 \u001b[0;34m\"index %i is out of bounds for axis %i with \"\u001b[0m\u001b[0;34m\u001b[0m\u001b[0;34m\u001b[0m\u001b[0m\n\u001b[0;32m-> 4525\u001b[0;31m                 \"size %i\" % (obj, axis, N))\n\u001b[0m\u001b[1;32m   4526\u001b[0m         \u001b[0;32mif\u001b[0m \u001b[0;34m(\u001b[0m\u001b[0mobj\u001b[0m \u001b[0;34m<\u001b[0m \u001b[0;36m0\u001b[0m\u001b[0;34m)\u001b[0m\u001b[0;34m:\u001b[0m\u001b[0;34m\u001b[0m\u001b[0;34m\u001b[0m\u001b[0m\n\u001b[1;32m   4527\u001b[0m             \u001b[0mobj\u001b[0m \u001b[0;34m+=\u001b[0m \u001b[0mN\u001b[0m\u001b[0;34m\u001b[0m\u001b[0;34m\u001b[0m\u001b[0m\n",
            "\u001b[0;31mIndexError\u001b[0m: index 2284 is out of bounds for axis 0 with size 2284"
          ]
        }
      ]
    },
    {
      "cell_type": "markdown",
      "source": [
        "# Short-cut"
      ],
      "metadata": {
        "id": "2Kx_wOsmPX4i"
      }
    },
    {
      "cell_type": "code",
      "source": [
        "def get_reference_and_sample_data(working_df, num_reference):\n",
        "  import random\n",
        "  num_of_ids = len(working_df['PBRS_id'].unique())\n",
        "\n",
        "  l = list(range(1, num_of_ids+1))\n",
        "  random.shuffle(l)\n",
        "  reference_arr = (l[:num_reference])\n",
        "  sample_arr = l[-(num_of_ids-num_reference):]\n",
        "\n",
        "  reference_data_df = working_df[working_df['PBRS_id'].isin(reference_arr)]\n",
        "  sample_data_df = working_df[working_df['PBRS_id'].isin(sample_arr)]\n",
        "  \n",
        "  return reference_data_df, sample_data_df\n",
        "\n",
        "def frequencies_filter(df, num_selected_freq=20):\n",
        "  info_df = df.iloc[:, 0:6]\n",
        "  data_df = df.iloc[:, 6:df.shape[1]]\n",
        "  span_val = int(data_df.shape[1]/num_selected_freq)\n",
        "  for i in range(num_selected_freq):\n",
        "    df2 = data_df.iloc[:, (i+1)*span_val].to_frame()\n",
        "    if i+1 == 1:\n",
        "      new_df = df2\n",
        "    else:\n",
        "      new_df = pd.merge(new_df, df2, left_index=True, right_index=True)\n",
        "  new_df = info_df.join(new_df)\n",
        "  \n",
        "  return new_df\n",
        "\n",
        "def get_idx_train_test_split(working_df, trainingProp = 0.8):\n",
        "  rows_training = np.array([])\n",
        "  rows_testing = np.array([])\n",
        "  distances = [x*80 for x in range(1, 26)]\n",
        "  for d in distances:\n",
        "    distance_working_df = working_df.loc[working_df['Distance_km'] == d]\n",
        "    rows_mixed=np.random.permutation(distance_working_df.shape[0])\n",
        "\n",
        "    training_amt = math.ceil(distance_working_df.shape[0]*trainingProp)\n",
        "    testing_amt = distance_working_df.shape[0] - training_amt\n",
        "\n",
        "    rows_training = np.append(rows_training, rows_mixed[:training_amt])\n",
        "    rows_testing = np.append(rows_testing, rows_mixed[-testing_amt:])\n",
        "  \n",
        "  rows_training = rows_training.astype('int').tolist()\n",
        "  rows_testing = rows_testing.astype('int').tolist()\n",
        "\n",
        "  return rows_training, rows_testing\n",
        "\n",
        "# Load network\n",
        "from keras.models import Sequential\n",
        "from keras.layers import Dense,Conv2D, Flatten\n",
        "from keras.wrappers.scikit_learn import KerasRegressor\n",
        "from keras.callbacks import EarlyStopping\n",
        "from tqdm.keras import TqdmCallback\n",
        "\n",
        "def ann():\n",
        "    model = Sequential()\n",
        "    model.add(Dense(76, input_dim = 7, activation = 'tanh'))\n",
        "    model.add(Dense(38,activation='tanh'))\n",
        "    model.add(Dense(38,activation='tanh'))\n",
        "    model.add(Dense(19,activation='tanh'))\n",
        "    model.add(Dense(19,activation='tanh'))\n",
        "    model.add(Dense(9,activation='tanh'))\n",
        "    model.add(Dense(9,activation='tanh'))\n",
        "    model.add(Dense(1))\n",
        "    model.compile(loss ='mean_squared_error',optimizer = 'RMSprop')\n",
        "    return model\n",
        "\n",
        "def get_feature(data_split_df, reference_freq_data_df, reference_distance_eval_params=(False, 80)):\n",
        "  reference_eval = reference_freq_data_df.copy()\n",
        "  if reference_distance_eval_params[0] == True:\n",
        "    reference_eval = reference_freq_data_df.loc[reference_freq_data_df['Distance_km'] == reference_distance_eval_params[1]]\n",
        "\n",
        "  data_distance = []\n",
        "  data_mean = []\n",
        "  data_std = []\n",
        "  data_pearson_min = []\n",
        "  data_pearson_mean = []\n",
        "  data_pearson_max = []\n",
        "  data_CI_lower = []\n",
        "  data_CI_upper = []\n",
        "\n",
        "  for idx in tqdm(range(len(data_split_df))):\n",
        "    Y_label = data_split_df.iloc[idx, 3]\n",
        "    X_label = data_split_df.iloc[idx, 6:data_split_df.shape[1]]\n",
        "    data_distance.append(int(Y_label))\n",
        "    data_std.append(round(np.std(X_label), 5))\n",
        "    data_mean.append(round(np.mean(X_label), 5))\n",
        "    \n",
        "    data_ci = st.t.interval(alpha=0.90, df=len(X_label)-1, loc=np.mean(X_label), scale=st.sem(X_label))\n",
        "    data_confidence_int_lower = data_ci[0]\n",
        "    data_confidence_int_upper = data_ci[1]\n",
        "\n",
        "    pearson_vals = []\n",
        "    ci_lower_delta = []\n",
        "    ci_upper_delta = []\n",
        "    for reference_idx in range(len(reference_eval)):\n",
        "      X_reference = reference_eval.iloc[reference_idx, 6:reference_eval.shape[1]]\n",
        "      pearson_vals.append(round(pearsonr(X_label, X_reference)[0], 5))\n",
        "\n",
        "      reference_ci = st.t.interval(alpha=0.90, df=len(X_reference)-1, loc=np.mean(X_reference), scale=st.sem(X_reference))\n",
        "      reference_confidence_int_lower = reference_ci[0]\n",
        "      reference_confidence_int_upper = reference_ci[1]\n",
        "\n",
        "      delta_ci_lower = abs(reference_confidence_int_lower - data_confidence_int_lower)\n",
        "      ci_lower_delta.append(round(delta_ci_lower, 5))\n",
        "      delta_ci_upper = abs(reference_confidence_int_upper - data_confidence_int_upper)\n",
        "      ci_upper_delta.append(round(delta_ci_upper, 5))\n",
        "\n",
        "    data_pearson_min.append(np.min(pearson_vals))\n",
        "    data_pearson_mean.append(np.mean(pearson_vals))    \n",
        "    data_pearson_max.append(np.max(pearson_vals))\n",
        "\n",
        "    data_CI_lower.append(np.min(ci_lower_delta))\n",
        "    data_CI_upper.append(np.min(ci_upper_delta))\n",
        "\n",
        "  data = {'distance':data_distance,\n",
        "                  'mean':data_mean,\n",
        "                  'std':data_std,\n",
        "                  'pearson_min':data_pearson_min,\n",
        "                  'pearson_mean':data_pearson_mean,\n",
        "                  'pearson_max':data_pearson_max,\n",
        "                  'delta_CI_min':data_CI_lower,\n",
        "                  'delta_CI_max':data_CI_upper}\n",
        "\n",
        "  data_df = pd.DataFrame(data)\n",
        "  return data_df"
      ],
      "metadata": {
        "id": "PEUYbMvql5Ai"
      },
      "execution_count": 60,
      "outputs": []
    },
    {
      "cell_type": "code",
      "source": [
        "train_df = pd.read_csv(path+\"/Spectrum/NN/train_test_splits/v2_bootstraped_new_data_training_data_NN_freq_25_reference_25.csv\")\n",
        "#test_df = pd.read_csv(path+\"/Spectrum/NN/train_test_splits/v2_bootstraped_new_data_testing_data_NN_freq_25_reference_25.csv\")\n",
        "\n",
        "reference_freq_data_df = pd.read_csv(path+\"/Spectrum/NN/train_test_splits/v2_bootstraped_new_data_Reference_NN_freq_25_reference_25.csv\")\n",
        "sample_freq_data_df = pd.read_csv(path+\"/Spectrum/NN/train_test_splits/v2_bootstraped_new_data_Sample_NN_freq_25_reference_25.csv\")\n",
        "\n",
        "with open(path+\"/Spectrum/NN/train_test_splits/v2_bootstraped_traininig_Rows_NN_freq_25_reference_25.pkl\", 'rb') as f:\n",
        "  rows_training = pickle.load(f)\n",
        "with open(path+\"/Spectrum/NN/train_test_splits/v2_bootstraped_testing_Rows_NN_freq_25_reference_25.pkl\", 'rb') as f:\n",
        "  rows_testing = pickle.load(f) "
      ],
      "metadata": {
        "id": "-s_khYUdNgcL"
      },
      "execution_count": 72,
      "outputs": []
    },
    {
      "cell_type": "code",
      "source": [
        "num_of_freq_selected = 25\n",
        "reference_amt = 25\n",
        "\n",
        "# Load network\n",
        "from keras.models import load_model\n",
        "mm = KerasRegressor(build_fn=ann, epochs=8000, batch_size=32, verbose=0)\n",
        "mm.model = load_model(path+\"/Spectrum/NN/NNs/v2_bootstraped_final_new_data_NN_model_freq_25_reference_25.h5\")\n",
        "\n",
        "res = {}\n",
        "reference_test = [80, 1200, 1920]\n",
        "distances = [x*80 for x in range(1, 26)]\n",
        "\n",
        "\n",
        "Y = train_df.iloc[:, 0].to_numpy().reshape(-1,1)\n",
        "X = train_df.iloc[:, 1:train_df.shape[1]-2]\n",
        "\n",
        "sc_input = MinMaxScaler()\n",
        "sc_output = MinMaxScaler()\n",
        "Y_train = sc_output.fit_transform(Y) # convert distances to values from 0 to 1\n",
        "X_train = sc_input.fit_transform(X) # convert features to values from 0 to 1\n",
        "\n",
        "dist_min=sc_output.data_min_[0] # 80\n",
        "dist_max=sc_output.data_max_[0] # 2000\n",
        "\n",
        "for r in reference_test:\n",
        "  test_split = sample_freq_data_df.iloc[rows_testing]\n",
        "  test_df = get_feature(test_split, reference_freq_data_df, reference_distance_eval_params=(True, r))\n",
        "  \n",
        "  Y = test_df.iloc[:, 0].to_numpy().reshape(-1,1)\n",
        "  X = test_df.iloc[:, 1:test_df.shape[1]-2]\n",
        "\n",
        "  Y_test = sc_output.fit_transform(Y) # convert distances to values from 0 to 1\n",
        "  X_test = sc_input.fit_transform(X) # convert features to values from 0 to 1\n",
        "\n",
        "  # Load model\n",
        "  Y_test_pred=mm.predict(X_test)\n",
        "  pred=list(Y_test_pred)\n",
        "\n",
        "  real=list(list(zip(*Y_test))[0])\n",
        "  real_abs=np.add(dist_min,np.multiply((dist_max-dist_min),real)) # convert back to distances values from scalar\n",
        "  real_abs=[int(np.round(i)) for i in real_abs]\n",
        "  pred_abs=np.add(dist_min,np.multiply((dist_max-dist_min),pred)) # convert back to distances values from scalar\n",
        "\n",
        "  real_split ={}\n",
        "  for d in distances:\n",
        "    matches = [i for i in range(0,len(real_abs)) if real_abs[i]==d]\n",
        "    real_split[d] = matches\n",
        "\n",
        "  pred_res = []\n",
        "  for d_real, matches_idx in real_split.items():\n",
        "    pred_m = [pred_abs[m_idx] for m_idx in matches_idx]\n",
        "    Q1 = np.percentile(pred_m, 25,interpolation = 'midpoint')\n",
        "    Q3 = np.percentile(pred_m, 75,interpolation = 'midpoint')\n",
        "    IQR = Q3 - Q1\n",
        "    upper = Q3+1.5*IQR\n",
        "    lower = Q1-1.5*IQR\n",
        "    filtered_pred_m = []\n",
        "    for v in pred_m:\n",
        "      if v <= upper and v >= lower:\n",
        "        filtered_pred_m.append(v)\n",
        "    pred_res.append(round(np.mean(filtered_pred_m), 5))\n",
        "  \n",
        "  res[r] = pred_res\n",
        "print('-----------------------------------------------------------------------')\n",
        "print('Resuslts')\n",
        "\n",
        "plt.figure(figsize=(15, 10))\n",
        "plt.plot(distances, distances,  linestyle='--')\n",
        "plt.plot(distances, res[reference_test[0]], label='Reference '+str(reference_test[0]))\n",
        "plt.plot(distances, res[reference_test[1]], label='Reference '+str(reference_test[1]))\n",
        "plt.plot(distances, res[reference_test[2]], label='Reference '+str(reference_test[2]))\n",
        "plt.title('Real vs Predicted Distances')\n",
        "plt.xlabel('Real Distances')\n",
        "plt.ylabel('Predicted Distances')\n",
        "plt.xlim(np.min(distances)-25, np.max(distances)+25)\n",
        "plt.ylim(np.min(distances)-25, np.max(distances)+25)\n",
        "plt.yticks(distances)\n",
        "plt.xticks(distances)\n",
        "plt.legend(loc=\"best\")\n",
        "plt.show()\n",
        "\n",
        "print(res[reference_test[0]])\n",
        "print(res[reference_test[1]])\n",
        "print(res[reference_test[2]])\n",
        "print('-----------------------------------------------------------------------')"
      ],
      "metadata": {
        "colab": {
          "base_uri": "https://localhost:8080/",
          "height": 803
        },
        "id": "UictGjFkIqr1",
        "outputId": "c17d830e-df4b-4817-873f-ecc7b0ee1fdf"
      },
      "execution_count": 73,
      "outputs": [
        {
          "output_type": "stream",
          "name": "stderr",
          "text": [
            "100%|██████████| 2375/2375 [01:14<00:00, 31.70it/s]\n",
            "100%|██████████| 2375/2375 [01:15<00:00, 31.45it/s]\n",
            "100%|██████████| 2375/2375 [01:12<00:00, 32.72it/s]\n"
          ]
        },
        {
          "output_type": "stream",
          "name": "stdout",
          "text": [
            "-----------------------------------------------------------------------\n",
            "Resuslts\n"
          ]
        },
        {
          "output_type": "display_data",
          "data": {
            "text/plain": [
              "<Figure size 1080x720 with 1 Axes>"
            ],
            "image/png": "[encoded data removed]"
          },
          "metadata": {
            "needs_background": "light"
          }
        },
        {
          "output_type": "stream",
          "name": "stdout",
          "text": [
            "[85.44218, 249.54565, 317.68567, 789.31586, 977.67896, 776.22736, 945.03406, 1081.1549, 986.8646, 1150.3015, 1194.2546, 1170.5935, 1266.658, 1310.2856, 1326.6129, 1286.1036, 1194.5847, 1300.2642, 1334.6073, 1142.8851, 1416.0933, 1440.6196, 1805.8182, 1448.2416, 1289.488]\n",
            "[158.44084, 325.01962, 386.446, 594.7513, 874.6103, 971.925, 847.2278, 843.12213, 999.06995, 1051.0778, 825.588, 1091.4795, 1257.2057, 1269.7872, 1364.9419, 1177.6191, 1227.6644, 1275.543, 1304.0773, 1252.4382, 1341.0939, 1495.8079, 1340.9742, 1412.6006, 1384.3822]\n",
            "[195.33116, 272.59982, 343.80405, 529.84485, 736.2691, 885.7103, 712.4404, 900.85486, 1085.5347, 1140.8278, 1102.6384, 1043.431, 1139.9443, 1184.7146, 1158.0023, 1123.9238, 1181.3307, 1249.7366, 1330.0579, 1205.1631, 1354.9882, 1306.8936, 1423.4056, 1295.6726, 1231.547]\n",
            "-----------------------------------------------------------------------\n"
          ]
        }
      ]
    },
    {
      "cell_type": "markdown",
      "source": [
        "# Test only pearson"
      ],
      "metadata": {
        "id": "y6uYJIMQznvg"
      }
    },
    {
      "cell_type": "code",
      "source": [
        "# Load network\n",
        "from keras.models import Sequential\n",
        "from keras.layers import Dense,Conv2D, Flatten\n",
        "from keras.wrappers.scikit_learn import KerasRegressor\n",
        "from keras.callbacks import EarlyStopping\n",
        "from tqdm.keras import TqdmCallback\n",
        "\n",
        "def ann():\n",
        "  model = Sequential()\n",
        "  model.add(Dense(76, input_dim = 3, activation = 'tanh'))\n",
        "  model.add(Dense(38,activation='tanh'))\n",
        "  model.add(Dense(19,activation='tanh'))\n",
        "  model.add(Dense(1))\n",
        "  model.compile(loss ='mean_squared_error',optimizer = 'RMSprop')\n",
        "  return model"
      ],
      "metadata": {
        "id": "yXo1Twr-1eoi"
      },
      "execution_count": null,
      "outputs": []
    },
    {
      "cell_type": "code",
      "source": [
        "def train_model(X_train, Y_train):\n",
        "  print('Training model (freq_'+str(num_of_freq_selected)+'_reference_'+str(reference_amt)+')...')\n",
        "  from keras.models import Sequential\n",
        "  from keras.layers import Dense,Conv2D, Flatten\n",
        "  from keras.wrappers.scikit_learn import KerasRegressor\n",
        "  from keras.callbacks import EarlyStopping\n",
        "  from tqdm.keras import TqdmCallback\n",
        "\n",
        "  def ann():\n",
        "      model = Sequential()\n",
        "      model.add(Dense(76, input_dim = 3, activation = 'tanh'))\n",
        "      model.add(Dense(38,activation='tanh'))\n",
        "      model.add(Dense(19,activation='tanh'))\n",
        "      model.add(Dense(1))\n",
        "      model.compile(loss ='mean_squared_error',optimizer = 'RMSprop')\n",
        "      return model\n",
        "\n",
        "  model_ann = KerasRegressor(build_fn=ann,epochs=5000,batch_size=32, verbose=0)\n",
        "\n",
        "  start_time = time.time()\n",
        "  callback = [EarlyStopping(monitor='loss', patience=500)]#, TqdmCallback(verbose=2)]\n",
        "  model_ann.fit(X_train, Y_train, callbacks=callback)\n",
        "  time_train_ann = time.time() - start_time\n",
        "\n",
        "  # Save model\n",
        "  #pickle.dump(model_ann,open(path+\"/Spectrum/NN/NNs/NN_model_freq_\"+str(num_of_freq_selected)+\"_reference_\"+str(reference_amt)+\".pkl\",\"wb\"))\n",
        "\n",
        "  if os.path.isfile(path+\"/Spectrum/NN/NNs/pearson_new_data_NN_model_freq_\"+str(num_of_freq_selected)+\"_reference_\"+str(reference_amt)+\".h5\") is False:\n",
        "    model_ann.model.save(path+\"/Spectrum/NN/NNs/pearson_new_data_NN_model_freq_\"+str(num_of_freq_selected)+\"_reference_\"+str(reference_amt)+\".h5\")\n",
        "  \n",
        "  return model_ann"
      ],
      "metadata": {
        "id": "r0YBaQtQ1k99"
      },
      "execution_count": null,
      "outputs": []
    },
    {
      "cell_type": "code",
      "source": [
        "def predict_test(model_ann, Y_test, X_test, sc_output, remove_outliers=0.05):\n",
        "  print('Results (freq_'+str(num_of_freq_selected)+'_reference_'+str(reference_amt)+')')\n",
        "  # Predit\n",
        "  start_time = time.time()\n",
        "  Y_test_pred=model_ann.predict(X_test)\n",
        "  pred=list(Y_test_pred)\n",
        "\n",
        "  time_eval_ann=time.time()-start_time\n",
        "\n",
        "  dist_min=sc_output.data_min_[0] # 80\n",
        "  dist_max=sc_output.data_max_[0] # 2000\n",
        "\n",
        "  real=list(list(zip(*Y_test))[0])\n",
        "  real_abs=np.add(dist_min,np.multiply((dist_max-dist_min),real)) # convert back to distances values from scalar\n",
        "  real_abs=[int(np.round(i)) for i in real_abs]\n",
        "  pred_abs=np.add(dist_min,np.multiply((dist_max-dist_min),pred)) # convert back to distances values from scalar\n",
        "  real_abs_e1 = real_abs\n",
        "  real_abs_e2 = real_abs\n",
        "\n",
        "  pred_abs_e1 = pred_abs\n",
        "  pred_abs_e2 = pred_abs\n",
        "\n",
        "  error=np.divide(np.abs(np.subtract(np.array(real_abs),np.array(pred_abs))),np.array(real_abs))\n",
        "  error_v2 = np.abs(np.subtract(np.array(real_abs),np.array(pred_abs)))\n",
        "\n",
        "  remove_outliers = math.ceil((len(error_v2)*remove_outliers)/2)\n",
        "\n",
        "  for outlier in range(1, remove_outliers+1):\n",
        "    min_idx_e1 = np.argmin(error)\n",
        "    max_idx_e1 = np.argmax(error)\n",
        "\n",
        "    min_idx_e2 = np.argmin(error_v2)\n",
        "    max_idx_e2 = np.argmax(error_v2)\n",
        "\n",
        "    error = np.delete(error, min_idx_e1)\n",
        "    error = np.delete(error, max_idx_e1)\n",
        "    real_abs_e1 = np.delete(real_abs_e1, min_idx_e1)\n",
        "    real_abs_e1 = np.delete(real_abs_e1, max_idx_e1)\n",
        "    pred_abs_e1 = np.delete(pred_abs_e1, min_idx_e1)\n",
        "    pred_abs_e1 = np.delete(pred_abs_e1, max_idx_e1)\n",
        "\n",
        "    error_v2 = np.delete(error_v2, min_idx_e2)\n",
        "    error_v2 = np.delete(error_v2, max_idx_e2)\n",
        "    real_abs_e2 = np.delete(real_abs_e2, min_idx_e1)\n",
        "    real_abs_e2 = np.delete(real_abs_e2, max_idx_e1)\n",
        "    pred_abs_e2 = np.delete(pred_abs_e2, min_idx_e1)\n",
        "    pred_abs_e2 = np.delete(pred_abs_e2, max_idx_e1)\n",
        "\n",
        "  res=pd.DataFrame({\"dist\":real_abs_e1,\"pred\":pred_abs_e1,\"error\":error})\n",
        "  res.to_csv(path+\"/Spectrum/NN/NN_results_error/new_data_pearson_results_curve_freq_\"+str(num_of_freq_selected)+\"_reference_\"+str(reference_amt)+\".csv\", header=True, index=False)\n",
        "\n",
        "  res_v2=pd.DataFrame({\"dist\":real_abs_e2,\"pred\":pred_abs_e2,\"error\":error_v2})\n",
        "  res.to_csv(path+\"/Spectrum/NN/NN_results_error/new_data_pearson_results_deltas_freq_\"+str(num_of_freq_selected)+\"_reference_\"+str(reference_amt)+\".csv\", header=True, index=False)\n",
        "  \n",
        "  plt.plot(real_abs_e1,error,'bo')\n",
        "  plt.xlabel('Distances') \n",
        "  plt.ylabel('Error') \n",
        "  plt.title(\"Results Curve (freq_\"+str(num_of_freq_selected)+\"_reference_\"+str(reference_amt)+\")\")\n",
        "  plt.savefig(path+\"/Spectrum/NN/NN_results_plots/new_data_pearson_results_curve_freq_\"+str(num_of_freq_selected)+\"_reference_\"+str(reference_amt)+\".png\")\n",
        "  plt.show()\n",
        "  \n",
        "  plt.plot(real_abs_e2,error_v2,'bo')\n",
        "  plt.xlabel('Distances') \n",
        "  plt.ylabel('Error') \n",
        "  plt.title(\"Results Deltas (freq_\"+str(num_of_freq_selected)+\"_reference_\"+str(reference_amt)+\")\")\n",
        "  plt.savefig(path+\"/Spectrum/NN/NN_results_plots/new_data_pearson_results_deltas_freq_\"+str(num_of_freq_selected)+\"_reference_\"+str(reference_amt)+\".png\")\n",
        "  plt.show()\n"
      ],
      "metadata": {
        "id": "yY8QHJCJAM3s"
      },
      "execution_count": null,
      "outputs": []
    },
    {
      "cell_type": "code",
      "source": [
        "num_of_freq_selected = 10\n",
        "reference_amt = 30\n",
        "training_input_path = path + \"/Spectrum/NN/train_test_splits/new_data_training_data_NN_freq_10_reference_30.csv\"\n",
        "testing_input_path = path + \"/Spectrum/NN/train_test_splits/new_data_testing_data_NN_freq_10_reference_30.csv\"\n",
        "\n",
        "training_df = pd.read_csv(training_input_path)\n",
        "testing_df = pd.read_csv(testing_input_path)\n",
        "\n",
        "Y = training_df.iloc[:, 0].to_numpy().reshape(-1,1)\n",
        "X = training_df.iloc[:, 3:6]\n",
        "\n",
        "sc_input = MinMaxScaler()\n",
        "sc_output = MinMaxScaler()\n",
        "Y_train_p = sc_output.fit_transform(Y) # convert distances to values from 0 to 1\n",
        "X_train_p = sc_input.fit_transform(X) # convert features to values from 0 to 1\n",
        "\n",
        "Y = testing_df.iloc[:, 0].to_numpy().reshape(-1,1)\n",
        "X = testing_df.iloc[:, 3:6]\n",
        "\n",
        "sc_input = MinMaxScaler()\n",
        "sc_output = MinMaxScaler()\n",
        "Y_test_p = sc_output.fit_transform(Y) # convert distances to values from 0 to 1\n",
        "X_test_p = sc_input.fit_transform(X) # convert features to values from 0 to 1"
      ],
      "metadata": {
        "id": "xWm7Dnj1zqiw"
      },
      "execution_count": null,
      "outputs": []
    },
    {
      "cell_type": "code",
      "source": [
        "model_ann_p = train_model(X_train_p, Y_train_p)"
      ],
      "metadata": {
        "id": "Job0tVyN0gP3"
      },
      "execution_count": null,
      "outputs": []
    },
    {
      "cell_type": "code",
      "source": [
        "predict_test(model_ann_p, Y_test_p, X_test_p, sc_output)"
      ],
      "metadata": {
        "id": "B493cZEb0ldO"
      },
      "execution_count": null,
      "outputs": []
    },
    {
      "cell_type": "markdown",
      "source": [
        "## Test only stats"
      ],
      "metadata": {
        "id": "-BFRLXf7zqqV"
      }
    },
    {
      "cell_type": "code",
      "source": [
        "# Load network\n",
        "from keras.models import Sequential\n",
        "from keras.layers import Dense,Conv2D, Flatten\n",
        "from keras.wrappers.scikit_learn import KerasRegressor\n",
        "from keras.callbacks import EarlyStopping\n",
        "from tqdm.keras import TqdmCallback\n",
        "\n",
        "def ann():\n",
        "  model = Sequential()\n",
        "  model.add(Dense(76, input_dim = 3, activation = 'tanh'))\n",
        "  model.add(Dense(38,activation='tanh'))\n",
        "  model.add(Dense(19,activation='tanh'))\n",
        "  model.add(Dense(1))\n",
        "  model.compile(loss ='mean_squared_error',optimizer = 'RMSprop')\n",
        "  return model"
      ],
      "metadata": {
        "id": "5WU3J-u56cTF"
      },
      "execution_count": null,
      "outputs": []
    },
    {
      "cell_type": "code",
      "source": [
        "# Load network\n",
        "from keras.models import Sequential\n",
        "from keras.layers import Dense,Conv2D, Flatten\n",
        "from keras.wrappers.scikit_learn import KerasRegressor\n",
        "from keras.callbacks import EarlyStopping\n",
        "from tqdm.keras import TqdmCallback\n",
        "\n",
        "def ann():\n",
        "  model = Sequential()\n",
        "  model.add(Dense(76, input_dim = 4, activation = 'tanh'))\n",
        "  model.add(Dense(38,activation='tanh'))\n",
        "  model.add(Dense(19,activation='tanh'))\n",
        "  model.add(Dense(1))\n",
        "  model.compile(loss ='mean_squared_error',optimizer = 'RMSprop')\n",
        "  return model"
      ],
      "metadata": {
        "id": "7TGNlh7V5zsg"
      },
      "execution_count": null,
      "outputs": []
    },
    {
      "cell_type": "code",
      "source": [
        "def train_model(X_train, Y_train):\n",
        "  print('Training model (freq_'+str(num_of_freq_selected)+'_reference_'+str(reference_amt)+')...')\n",
        "  from keras.models import Sequential\n",
        "  from keras.layers import Dense,Conv2D, Flatten\n",
        "  from keras.wrappers.scikit_learn import KerasRegressor\n",
        "  from keras.callbacks import EarlyStopping\n",
        "  from tqdm.keras import TqdmCallback\n",
        "\n",
        "  def ann():\n",
        "      model = Sequential()\n",
        "      model.add(Dense(76, input_dim = 4, activation = 'tanh'))\n",
        "      model.add(Dense(38,activation='tanh'))\n",
        "      model.add(Dense(19,activation='tanh'))\n",
        "      model.add(Dense(1))\n",
        "      model.compile(loss ='mean_squared_error',optimizer = 'RMSprop')\n",
        "      return model\n",
        "\n",
        "  model_ann = KerasRegressor(build_fn=ann,epochs=5000,batch_size=32, verbose=0)\n",
        "\n",
        "  start_time = time.time()\n",
        "  callback = [EarlyStopping(monitor='loss', patience=500)]#, TqdmCallback(verbose=2)]\n",
        "  model_ann.fit(X_train, Y_train, callbacks=callback)\n",
        "  time_train_ann = time.time() - start_time\n",
        "\n",
        "  # Save model\n",
        "  #pickle.dump(model_ann,open(path+\"/Spectrum/NN/NNs/NN_model_freq_\"+str(num_of_freq_selected)+\"_reference_\"+str(reference_amt)+\".pkl\",\"wb\"))\n",
        "\n",
        "  if os.path.isfile(path+\"/Spectrum/NN/NNs/stats_new_data_NN_model_freq_\"+str(num_of_freq_selected)+\"_reference_\"+str(reference_amt)+\".h5\") is False:\n",
        "    model_ann.model.save(path+\"/Spectrum/NN/NNs/stats_new_data_NN_model_freq_\"+str(num_of_freq_selected)+\"_reference_\"+str(reference_amt)+\".h5\")\n",
        "  \n",
        "  return model_ann"
      ],
      "metadata": {
        "id": "Lm2iyDF15uvF"
      },
      "execution_count": null,
      "outputs": []
    },
    {
      "cell_type": "code",
      "source": [
        "def predict_test(model_ann, Y_test, X_test, sc_output, remove_outliers=0.05):\n",
        "  print('Results (freq_'+str(num_of_freq_selected)+'_reference_'+str(reference_amt)+')')\n",
        "  # Predit\n",
        "  start_time = time.time()\n",
        "  Y_test_pred=model_ann.predict(X_test)\n",
        "  pred=list(Y_test_pred)\n",
        "\n",
        "  time_eval_ann=time.time()-start_time\n",
        "\n",
        "  dist_min=sc_output.data_min_[0] # 80\n",
        "  dist_max=sc_output.data_max_[0] # 2000\n",
        "\n",
        "  real=list(list(zip(*Y_test))[0])\n",
        "  real_abs=np.add(dist_min,np.multiply((dist_max-dist_min),real)) # convert back to distances values from scalar\n",
        "  real_abs=[int(np.round(i)) for i in real_abs]\n",
        "  pred_abs=np.add(dist_min,np.multiply((dist_max-dist_min),pred)) # convert back to distances values from scalar\n",
        "\n",
        "  real_abs_e1 = real_abs\n",
        "  real_abs_e2 = real_abs\n",
        "\n",
        "  pred_abs_e1 = pred_abs\n",
        "  pred_abs_e2 = pred_abs\n",
        "\n",
        "  error=np.divide(np.abs(np.subtract(np.array(real_abs),np.array(pred_abs))),np.array(real_abs))\n",
        "  error_v2 = np.abs(np.subtract(np.array(real_abs),np.array(pred_abs)))\n",
        "\n",
        "  remove_outliers = math.ceil((len(error_v2)*remove_outliers)/2)\n",
        "\n",
        "  for outlier in range(1, remove_outliers+1):\n",
        "    min_idx_e1 = np.argmin(error)\n",
        "    max_idx_e1 = np.argmax(error)\n",
        "\n",
        "    min_idx_e2 = np.argmin(error_v2)\n",
        "    max_idx_e2 = np.argmax(error_v2)\n",
        "\n",
        "    error = np.delete(error, min_idx_e1)\n",
        "    error = np.delete(error, max_idx_e1)\n",
        "    real_abs_e1 = np.delete(real_abs_e1, min_idx_e1)\n",
        "    real_abs_e1 = np.delete(real_abs_e1, max_idx_e1)\n",
        "    pred_abs_e1 = np.delete(pred_abs_e1, min_idx_e1)\n",
        "    pred_abs_e1 = np.delete(pred_abs_e1, max_idx_e1)\n",
        "\n",
        "    error_v2 = np.delete(error_v2, min_idx_e2)\n",
        "    error_v2 = np.delete(error_v2, max_idx_e2)\n",
        "    real_abs_e2 = np.delete(real_abs_e2, min_idx_e1)\n",
        "    real_abs_e2 = np.delete(real_abs_e2, max_idx_e1)\n",
        "    pred_abs_e2 = np.delete(pred_abs_e2, min_idx_e1)\n",
        "    pred_abs_e2 = np.delete(pred_abs_e2, max_idx_e1)\n",
        "\n",
        "  res=pd.DataFrame({\"dist\":real_abs_e1,\"pred\":pred_abs_e1,\"error\":error})\n",
        "  res.to_csv(path+\"/Spectrum/NN/NN_results_error/new_data_stats_results_curve_freq_\"+str(num_of_freq_selected)+\"_reference_\"+str(reference_amt)+\".csv\", header=True, index=False)\n",
        "\n",
        "  res_v2=pd.DataFrame({\"dist\":real_abs_e2,\"pred\":pred_abs_e2,\"error\":error_v2})\n",
        "  res.to_csv(path+\"/Spectrum/NN/NN_results_error/new_data_stats_results_deltas_freq_\"+str(num_of_freq_selected)+\"_reference_\"+str(reference_amt)+\".csv\", header=True, index=False)\n",
        "  \n",
        "  plt.plot(real_abs_e1,error,'bo')\n",
        "  plt.xlabel('Distances') \n",
        "  plt.ylabel('Error') \n",
        "  plt.title(\"Results Curve (freq_\"+str(num_of_freq_selected)+\"_reference_\"+str(reference_amt)+\")\")\n",
        "  plt.savefig(path+\"/Spectrum/NN/NN_results_plots/new_data_stats_results_curve_freq_\"+str(num_of_freq_selected)+\"_reference_\"+str(reference_amt)+\".png\")\n",
        "  plt.show()\n",
        "  \n",
        "  plt.plot(real_abs_e2,error_v2,'bo')\n",
        "  plt.xlabel('Distances') \n",
        "  plt.ylabel('Error') \n",
        "  plt.title(\"Results Deltas (freq_\"+str(num_of_freq_selected)+\"_reference_\"+str(reference_amt)+\")\")\n",
        "  plt.savefig(path+\"/Spectrum/NN/NN_results_plots/new_data_stats_results_deltas_freq_\"+str(num_of_freq_selected)+\"_reference_\"+str(reference_amt)+\".png\")\n",
        "  plt.show()"
      ],
      "metadata": {
        "id": "zgqD84l5AWXg"
      },
      "execution_count": null,
      "outputs": []
    },
    {
      "cell_type": "code",
      "source": [
        "num_of_freq_selected = 10\n",
        "reference_amt = 30\n",
        "training_input_path = path + \"/Spectrum/NN/train_test_splits/new_data_training_data_NN_freq_10_reference_30.csv\"\n",
        "testing_input_path = path + \"/Spectrum/NN/train_test_splits/new_data_testing_data_NN_freq_10_reference_30.csv\"\n",
        "\n",
        "training_df = pd.read_csv(training_input_path)\n",
        "testing_df = pd.read_csv(testing_input_path)\n",
        "\n",
        "Y = training_df.iloc[:, 0].to_numpy().reshape(-1,1)\n",
        "X = training_df.iloc[:, [1, 2, 5, 6]]\n",
        "\n",
        "sc_input = MinMaxScaler()\n",
        "sc_output = MinMaxScaler()\n",
        "Y_train_s = sc_output.fit_transform(Y) # convert distances to values from 0 to 1\n",
        "X_train_s = sc_input.fit_transform(X) # convert features to values from 0 to 1\n",
        "\n",
        "Y = testing_df.iloc[:, 0].to_numpy().reshape(-1,1)\n",
        "X = testing_df.iloc[:, [1, 2, 5, 6]]\n",
        "\n",
        "\n",
        "sc_input = MinMaxScaler()\n",
        "sc_output = MinMaxScaler()\n",
        "Y_test_s = sc_output.fit_transform(Y) # convert distances to values from 0 to 1\n",
        "X_test_s = sc_input.fit_transform(X) # convert features to values from 0 to 1"
      ],
      "metadata": {
        "id": "w4IOWKxkM0z_"
      },
      "execution_count": null,
      "outputs": []
    },
    {
      "cell_type": "code",
      "source": [
        "model_ann_s = train_model(X_train_s, Y_train_s)"
      ],
      "metadata": {
        "id": "JvtaIJxm1JiV"
      },
      "execution_count": null,
      "outputs": []
    },
    {
      "cell_type": "code",
      "source": [
        "predict_test(model_ann_s, Y_test_s, X_test_s, sc_output)"
      ],
      "metadata": {
        "id": "Kf4XiuOw1JsA"
      },
      "execution_count": null,
      "outputs": []
    }
  ]
}