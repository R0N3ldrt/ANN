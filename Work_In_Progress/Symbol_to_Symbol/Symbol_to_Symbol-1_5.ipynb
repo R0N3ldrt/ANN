{
  "nbformat": 4,
  "nbformat_minor": 0,
  "metadata": {
    "colab": {
      "name": "Untitled4.ipynb",
      "provenance": [],
      "authorship_tag": "ABX9TyMxIIlgw4QcoOoFu9v1ugAU",
      "include_colab_link": true
    },
    "kernelspec": {
      "name": "python3",
      "display_name": "Python 3"
    },
    "language_info": {
      "name": "python"
    }
  },
  "cells": [
    {
      "cell_type": "markdown",
      "metadata": {
        "id": "view-in-github",
        "colab_type": "text"
      },
      "source": [
        "<a href=\"https://colab.research.google.com/github/R0N3ldrt/Thesis/blob/main/Symbol_to_Symbol-1_5.ipynb\" target=\"_parent\"><img src=\"https://colab.research.google.com/assets/colab-badge.svg\" alt=\"Open In Colab\"/></a>"
      ]
    },
    {
      "cell_type": "markdown",
      "source": [
        "# Symbol-to_Symbol Attack"
      ],
      "metadata": {
        "id": "5DHOkVKJcpRg"
      }
    },
    {
      "cell_type": "markdown",
      "source": [
        "# Loading Drive and folders"
      ],
      "metadata": {
        "id": "jdouNqrRcxsT"
      }
    },
    {
      "cell_type": "code",
      "execution_count": 1,
      "metadata": {
        "colab": {
          "base_uri": "https://localhost:8080/"
        },
        "id": "W3PKUBorcmzu",
        "outputId": "f9ab9877-91de-4f0f-ae83-93f672b611c1"
      },
      "outputs": [
        {
          "output_type": "stream",
          "name": "stdout",
          "text": [
            "Mounted at /content/gdrive\n"
          ]
        }
      ],
      "source": [
        "# BLOQUE PARA USAR DESDE COLAB\n",
        "\n",
        "# Google drive loading as work station for local-usage of the files.\n",
        "from google.colab import drive\n",
        "drive.mount('/content/gdrive',force_remount= True)\n",
        "\n",
        "#-----------------------------------------------------------------------------"
      ]
    },
    {
      "cell_type": "code",
      "source": [
        "# Lista para cambiar los paths rapido.\n",
        "workers = [\"Ronald\", \"Local\"]\n",
        "\n",
        "# Cambiar el numero aqui para cambiar los paths.\n",
        "worker = workers[0]\n",
        "\n",
        "if worker == \"Ronald\":\n",
        "  path= \"/content/gdrive/MyDrive/Thesis_Workstation/ANN_dataset\"\n",
        "else: path = os.getcwd()"
      ],
      "metadata": {
        "id": "24eFk1m1con6"
      },
      "execution_count": 2,
      "outputs": []
    },
    {
      "cell_type": "markdown",
      "source": [
        "## Loading Necesary Libraries"
      ],
      "metadata": {
        "id": "r-MsZTyAc4KL"
      }
    },
    {
      "cell_type": "code",
      "source": [
        "# Importing necesary libraries\n",
        "# Libraries for correct code execution \n",
        "\n",
        "import os, time\n",
        "import pandas as pd\n",
        "import numpy as np\n",
        "import matplotlib.pyplot as plt\n",
        "import math\n",
        "import pickle\n",
        "import random\n",
        "import csv\n",
        "from tqdm import tqdm\n",
        "\n",
        "from sklearn.model_selection import train_test_split\n",
        "from sklearn.preprocessing import MinMaxScaler\n",
        "from plotly.subplots import make_subplots\n",
        "\n",
        "import plotly.graph_objects as go\n",
        "import plotly.express as px\n",
        "from plotly.subplots import make_subplots\n",
        "\n",
        "from keras.models import Sequential\n",
        "from keras.layers import Dense,Conv2D, Flatten\n",
        "from keras.wrappers.scikit_learn import KerasRegressor\n",
        "from keras.callbacks import EarlyStopping\n",
        "\n",
        "from sklearn.mixture import GaussianMixture\n",
        "\n",
        "import warnings\n",
        "warnings.filterwarnings(\"ignore\")"
      ],
      "metadata": {
        "id": "g96FIp6Lc5MM"
      },
      "execution_count": 3,
      "outputs": []
    },
    {
      "cell_type": "markdown",
      "source": [
        "# Generate Train/Test data"
      ],
      "metadata": {
        "id": "zUlyFUMEdLdh"
      }
    },
    {
      "cell_type": "markdown",
      "source": [
        "## Old input data"
      ],
      "metadata": {
        "id": "kzN1B7ZqBMP2"
      }
    },
    {
      "cell_type": "code",
      "source": [
        "input_data_path=path+\"/rawData\"\n",
        "\n",
        "distances=[i for i in range(1,26)]\n",
        "nsamples=50\n",
        "span_length=80\n",
        "nsymbols=2048\n",
        "\n",
        "######\n",
        "min_dist=0\n",
        "max_dist=3000\n",
        "selCP=[1,7,10,15]\n",
        "selCP_pos=[(-3,3),(1,1),(-1,-1),(1,-3)]\n",
        "my_centers=[[-3,3],[-1,3],[1,3],[3,3],[-3,1],[-1,1],[1,1],[3,1],[-3,-1],[-1,-1],[1,-1],[3,-1], [-3,-3],[-1,-3],[1,-3],[3,-3]]\n",
        "######"
      ],
      "metadata": {
        "id": "bCkGqVsudPAj"
      },
      "execution_count": 4,
      "outputs": []
    },
    {
      "cell_type": "code",
      "source": [
        "def create_df(input_data_path, distances, nsymbols = 2048, min_dist = 0, max_dist = 3000):\n",
        "  X=None\n",
        "  Y=[]\n",
        "  colnames=['i'+str(i) for i in range(nsymbols)]\n",
        "\n",
        "  for d in distances:\n",
        "    dist=d*span_length\n",
        "    if dist<min_dist or dist>max_dist: continue\n",
        "    filename='consts_'+str(d)+'span.csv'\n",
        "    df_aux=pd.read_csv(input_data_path+'/'+filename, sep=\",\", header=None)\n",
        "    df_aux = df_aux.T\n",
        "    df_aux.columns=colnames\n",
        "    Y=Y+[dist]*df_aux.shape[0]\n",
        "    if X is None: X=df_aux\n",
        "    else: X=X.append(df_aux)\n",
        "  return X, Y"
      ],
      "metadata": {
        "id": "Ob3N2yoWdRMK"
      },
      "execution_count": 5,
      "outputs": []
    },
    {
      "cell_type": "code",
      "source": [
        "def strToTuple(s):\n",
        "    s_aux=s.split(\"i\")\n",
        "    s=s_aux[0]+\"j\"\n",
        "    return complex(s)"
      ],
      "metadata": {
        "id": "ez6fFASYMHqS"
      },
      "execution_count": 6,
      "outputs": []
    },
    {
      "cell_type": "code",
      "source": [
        "def test_train_indexes_v1():\n",
        "  train_idxs = []\n",
        "  test_idxs = []\n",
        "  for i in range(25):\n",
        "      for j in range(25):\n",
        "          train_idxs.append(50*i + j)\n",
        "          test_idxs.append(50*(i+1)-1-j)\n",
        "  return train_idxs, test_idxs"
      ],
      "metadata": {
        "id": "3stgNC0RdV0y"
      },
      "execution_count": 7,
      "outputs": []
    },
    {
      "cell_type": "code",
      "source": [
        "def test_train_indexes_v2():\n",
        "  train_idxs2 = []\n",
        "  test_idxs2 = []\n",
        "  for i in range(25):\n",
        "      for j in range(25):\n",
        "          test_idxs2.append(50*(i+1)-1-j)\n",
        "\n",
        "  for i in range(25):\n",
        "    for j in range(2):\n",
        "      train_idxs2.append(50*i + j)\n",
        "  return train_idxs2, test_idxs2"
      ],
      "metadata": {
        "id": "Pade_gfQdYQu"
      },
      "execution_count": 8,
      "outputs": []
    },
    {
      "cell_type": "markdown",
      "source": [
        "## Test Old"
      ],
      "metadata": {
        "id": "1I6c2gPZNa_w"
      }
    },
    {
      "cell_type": "code",
      "source": [
        "# Obtain df for each distance (X) and  distance*nsymbols (Y)\n",
        "X, Y = create_df(input_data_path, distances, nsymbols = 2048, min_dist = 0, max_dist = 3000)"
      ],
      "metadata": {
        "id": "9A4DSaynda_r"
      },
      "execution_count": 9,
      "outputs": []
    },
    {
      "cell_type": "code",
      "source": [
        "X = X.applymap(strToTuple)"
      ],
      "metadata": {
        "id": "oqc5q1p93bN4"
      },
      "execution_count": 10,
      "outputs": []
    },
    {
      "cell_type": "code",
      "source": [
        "train_idxs, test_idxs = test_train_indexes_v1()\n",
        "train_idxs2, test_idxs2 = test_train_indexes_v2()\n",
        "\n",
        "X_train = X.iloc[train_idxs].reset_index(drop = \"True\")\n",
        "X_test = X.iloc[test_idxs].reset_index(drop = \"True\")\n",
        "X_train2 = X.iloc[train_idxs2].reset_index(drop = \"True\")\n",
        "X_test2 = X.iloc[test_idxs2].reset_index(drop = \"True\")"
      ],
      "metadata": {
        "id": "Zq5BflAWNV6e"
      },
      "execution_count": 11,
      "outputs": []
    },
    {
      "cell_type": "code",
      "source": [
        "data = {}\n",
        "\n",
        "for i in range(0,25):\n",
        "  data[str(80*(i+1))] = {\"Train\":X_train.iloc[i*25:(i*25+25)].reset_index(drop = \"True\"),\"Test\":X_test.iloc[i*25:(i*25+25)].reset_index(drop = \"True\")}\n",
        "\n",
        "data_new = {}\n",
        "\n",
        "for i in range(0,25):\n",
        "  data_new[str(80*(i+1))] = {\"Train\":X_train2.iloc[i*2:(i*2+2)].reset_index(drop = \"True\"),\"Test\":X_test2.iloc[i*25:(i*25+25)].reset_index(drop = \"True\")}"
      ],
      "metadata": {
        "id": "CAJSSIhGAx4O"
      },
      "execution_count": 12,
      "outputs": []
    },
    {
      "cell_type": "markdown",
      "source": [
        "## New input data"
      ],
      "metadata": {
        "id": "KtEqnCePBIJV"
      }
    },
    {
      "cell_type": "code",
      "source": [
        "def create_df(input_data_path):\n",
        "  return pd.read_excel(input_data_path, sheet_name = \"Sheet1\")\n",
        "\n",
        "def strToTuple(s):\n",
        "    s_aux=s.split(\"i\")\n",
        "    s=s_aux[0]+\"j\"\n",
        "    return complex(s)\n",
        "\n",
        "def test_train_indexes_v1(df, distances):\n",
        "  train_idxs = []\n",
        "  test_idxs = []\n",
        "\n",
        "  amt_of_distances = len(distances)\n",
        "  total_of_samples = df.shape[0]\n",
        "\n",
        "  amt_of_sample_per_distance = int(total_of_samples/amt_of_distances)\n",
        "  half_of_sample_per_distance = int(amt_of_sample_per_distance/2)\n",
        "\n",
        "  indx_cnt = 0\n",
        "  for dist in distances:\n",
        "\n",
        "    for row_index in range(amt_of_sample_per_distance):\n",
        "      # Select the first 5 samples as train\n",
        "      if row_index < half_of_sample_per_distance:\n",
        "        train_idxs.append(indx_cnt)\n",
        "        indx_cnt += 1\n",
        "      else:\n",
        "        test_idxs.append(indx_cnt)\n",
        "        indx_cnt += 1\n",
        "\n",
        "  return train_idxs, test_idxs\n",
        "\n",
        "def test_train_indexes_v2(df, distances):\n",
        "  train_idxs2 = []\n",
        "  test_idxs2 = []\n",
        "\n",
        "  amt_of_distances = len(distances)\n",
        "  total_of_samples = df.shape[0]\n",
        "\n",
        "  amt_of_sample_per_distance = int(total_of_samples/amt_of_distances)\n",
        "  half_of_sample_per_distance = int(amt_of_sample_per_distance/2)\n",
        "\n",
        "  indx_cnt = 0\n",
        "  for dist in distances:\n",
        "\n",
        "    for row_index in range(amt_of_sample_per_distance):\n",
        "      # Select the first 5 samples as train\n",
        "      if row_index == 1 or row_index == 2:\n",
        "        train_idxs2.append(indx_cnt)\n",
        "        indx_cnt += 1\n",
        "      elif row_index >= half_of_sample_per_distance:\n",
        "        test_idxs2.append(indx_cnt)\n",
        "        indx_cnt += 1\n",
        "      else:\n",
        "        indx_cnt += 1\n",
        "\n",
        "  return train_idxs2, test_idxs2\n",
        "\n",
        "def create_data_dict(X_train, X_test, X_train2, X_test2, distances):\n",
        "\n",
        "  data = {}\n",
        "  data_new = {}\n",
        "  data_full = {}\n",
        "  data_new_full = {}\n",
        "\n",
        "  for dist in distances:\n",
        "\n",
        "    X_train_n = X_train[X_train['Distance_km'].isin([int(dist)])]\n",
        "    X_test_n = X_test[X_test['Distance_km'].isin([int(dist)])]\n",
        "\n",
        "    data_full[str(dist)] = {'Train':X_train_n.reset_index(drop = 'True'),'Test':X_test_n.reset_index(drop = 'True')}\n",
        "\n",
        "    X_train_nn = X_train_n.iloc[:, 5:X_train_n.shape[1]]\n",
        "    X_test_nn = X_test_n.iloc[:, 5:X_test_n.shape[1]]\n",
        "\n",
        "    X_train2_n = X_train2[X_train2['Distance_km'].isin([int(dist)])]\n",
        "    X_test2_n = X_test2[X_test2['Distance_km'].isin([int(dist)])]\n",
        "\n",
        "    data_new_full[str(dist)] = {'Train':X_train2_n.reset_index(drop = 'True'),'Test':X_test2_n.reset_index(drop = 'True')}\n",
        "\n",
        "    X_train2_nn = X_train2_n.iloc[:, 5:X_train2_n.shape[1]]\n",
        "    X_test2_nn = X_test2_n.iloc[:, 5:X_test2_n.shape[1]]\n",
        "\n",
        "    data[str(dist)] = {'Train':X_train_nn.reset_index(drop = 'True'),'Test':X_test_nn.reset_index(drop = 'True')}\n",
        "    data_new[str(dist)] = {'Train':X_train2_nn.reset_index(drop = 'True'),'Test':X_test2_nn.reset_index(drop = 'True')}\n",
        "\n",
        "  return data, data_new, data_full, data_new_full"
      ],
      "metadata": {
        "id": "alSxbBmzyr4T"
      },
      "execution_count": 13,
      "outputs": []
    },
    {
      "cell_type": "code",
      "source": [
        "def get_train_test_data(constellation_path):\n",
        "  df = create_df(constellation_path)\n",
        "\n",
        "  # Open df by selected powers\n",
        "  powers = list(df['power_dBm'].unique())\n",
        "  for power in powers:\n",
        "\n",
        "    new_df = df[df['power_dBm'].isin([int(power)])]\n",
        "\n",
        "    distances = list(new_df['Distance_km'].unique())\n",
        "\n",
        "    # Data columns \n",
        "    X1 = new_df.iloc[:, 5:(new_df.shape[1])]\n",
        "    X = X1.applymap(strToTuple)\n",
        "\n",
        "    # Add back extra info columns\n",
        "    info_df = new_df.iloc[:, 0:5]\n",
        "    X = pd.merge(info_df, X, left_index=True, right_index=True)\n",
        "\n",
        "\n",
        "    train_idxs, test_idxs = test_train_indexes_v1(X, distances)\n",
        "    train_idxs2, test_idxs2 = test_train_indexes_v2(X, distances)\n",
        "    \n",
        "    X_train = X.iloc[train_idxs, :].reset_index(drop = \"True\")\n",
        "    X_test = X.iloc[test_idxs, :].reset_index(drop = \"True\")\n",
        "\n",
        "    X_train2 = X.iloc[train_idxs2].reset_index(drop = \"True\")\n",
        "    X_test2 = X.iloc[test_idxs2].reset_index(drop = \"True\")\n",
        "\n",
        "    data, data_new, data_full, data_new_full = create_data_dict(X_train, X_test, X_train2, X_test2, distances)\n",
        "    \n",
        "    return data, data_new, data_full, data_new_full"
      ],
      "metadata": {
        "id": "0lVqPAUrYqmn"
      },
      "execution_count": 14,
      "outputs": []
    },
    {
      "cell_type": "markdown",
      "source": [
        "## Test new data train test"
      ],
      "metadata": {
        "id": "_AgqTAgtYrn2"
      }
    },
    {
      "cell_type": "code",
      "source": [
        "#const_path = path + '/Constellation/QPSK/A.10hops100km/dataSet_Constellation_Samples_QPSK_37GHz_LongHaul_output_10x100.xlsx'\n",
        "const_path = path + '/Constellation/QPSK/A.10hops100km/const_dummy_QPSK.xlsx'\n",
        "\n",
        "# Open df by selected powers\n",
        "\n",
        "df = create_df(const_path)"
      ],
      "metadata": {
        "id": "wnAZgLdpVSqe"
      },
      "execution_count": 15,
      "outputs": []
    },
    {
      "cell_type": "code",
      "source": [
        "powers = list(df['power_dBm'].unique())\n",
        "for power in powers:\n",
        "\n",
        "  new_df = df[df['power_dBm'].isin([int(power)])]\n",
        "\n",
        "  distances = list(new_df['Distance_km'].unique())\n",
        "\n",
        "  # Data columns \n",
        "  X1 = new_df.iloc[:, 5:(new_df.shape[1])]\n",
        "  X = X1.applymap(strToTuple)\n",
        "\n",
        "  # Add back extra info columns\n",
        "  info_df = new_df.iloc[:, 0:5]\n",
        "  X = pd.merge(info_df, X, left_index=True, right_index=True)\n",
        "\n",
        "\n",
        "  train_idxs, test_idxs = test_train_indexes_v1(X, distances)\n",
        "  train_idxs2, test_idxs2 = test_train_indexes_v2(X, distances)\n",
        "  \n",
        "  X_train = X.iloc[train_idxs, :].reset_index(drop = \"True\")\n",
        "  X_test = X.iloc[test_idxs, :].reset_index(drop = \"True\")\n",
        "\n",
        "  X_train2 = X.iloc[train_idxs2].reset_index(drop = \"True\")\n",
        "  X_test2 = X.iloc[test_idxs2].reset_index(drop = \"True\")\n",
        "\n",
        "  data_x, data_new_x, data_full, data_new_full = create_data_dict(X_train, X_test, X_train2, X_test2, distances)"
      ],
      "metadata": {
        "id": "zhglUsxoyx2r"
      },
      "execution_count": 16,
      "outputs": []
    },
    {
      "cell_type": "code",
      "source": [
        "print(data.keys())\n",
        "#print(data['100'])\n",
        "#print(data['100']['Train'])"
      ],
      "metadata": {
        "colab": {
          "base_uri": "https://localhost:8080/"
        },
        "id": "bf7oDrggWc0Z",
        "outputId": "57b5cb6a-3947-466b-d15d-3ff4a27f989a"
      },
      "execution_count": 17,
      "outputs": [
        {
          "output_type": "stream",
          "name": "stdout",
          "text": [
            "dict_keys(['80', '160', '240', '320', '400', '480', '560', '640', '720', '800', '880', '960', '1040', '1120', '1200', '1280', '1360', '1440', '1520', '1600', '1680', '1760', '1840', '1920', '2000'])\n"
          ]
        }
      ]
    },
    {
      "cell_type": "markdown",
      "source": [
        "# New Get Train Test Data"
      ],
      "metadata": {
        "id": "Nw5l2SldYh0Z"
      }
    },
    {
      "cell_type": "code",
      "source": [
        "#const_path = path + '/Constellation/QPSK/A.10hops100km/dataSet_Constellation_Samples_QPSK_37GHz_LongHaul_output_10x100.xlsx'\n",
        "constellation_path = path + '/Constellation/QPSK/A.10hops100km/const_dummy_QPSK.xlsx'\n",
        "\n",
        "data_x, data_new_x, data_full, data_new_full = get_train_test_data(constellation_path)"
      ],
      "metadata": {
        "id": "__Zn6OtVYOQX"
      },
      "execution_count": 18,
      "outputs": []
    },
    {
      "cell_type": "markdown",
      "source": [
        "# Utils"
      ],
      "metadata": {
        "id": "Ri43qNWXeFcQ"
      }
    },
    {
      "cell_type": "markdown",
      "source": [
        "## Grad b/M and full gradient"
      ],
      "metadata": {
        "id": "ot8EErrHELUI"
      }
    },
    {
      "cell_type": "code",
      "source": [
        "def grad_b (M,m_og,m_tg,b,beta):\n",
        "  return 2*beta*(M @ m_og + b - m_tg)"
      ],
      "metadata": {
        "id": "edmLVQAxeEbV"
      },
      "execution_count": 56,
      "outputs": []
    },
    {
      "cell_type": "code",
      "source": [
        "def grad_M(M,cov_og,cov_tg,alpha):\n",
        "    error = M @ cov_og @ np.transpose(M) - cov_tg  \n",
        "\n",
        "    m1 = (2*error[0][0] * (2*cov_og[0][0]*M[0][0] + 2*cov_og[0][1]*M[0][1]) +\n",
        "          2*(error[0][1] + error[1][0]) * (cov_og[0][0]*M[1][0] + cov_og[0][1]*M[1][1]))\n",
        "    \n",
        "    m2 = (2*error[0][0] * (2*cov_og[1][1]*M[0][1] + 2*cov_og[0][1]*M[0][0]) +\n",
        "          2*(error[0][1] + error[1][0]) * (cov_og[0][1]*M[1][0] + cov_og[1][1]*M[1][1]))\n",
        "    \n",
        "    m3 = (2*error[1][1] * (2*cov_og[0][0]*M[1][0] + 2*cov_og[0][1]*M[1][1]) +\n",
        "          2*(error[0][1] + error[1][0]) * (cov_og[0][0]*M[0][0] + cov_og[0][1]*M[0][1]))\n",
        "\n",
        "    m4 = (2*error[1][1] * (2*cov_og[0][0]*M[1][1] + 2*cov_og[0][1]*M[1][0]) +\n",
        "          2*(error[0][1] + error[1][0]) * (cov_og[0][1]*M[0][0] + cov_og[1][1]*M[0][1]))\n",
        "    \n",
        "    return alpha*np.array([[m1, m2], [m3, m4]])"
      ],
      "metadata": {
        "id": "bDOXvZJoeKW-"
      },
      "execution_count": 57,
      "outputs": []
    },
    {
      "cell_type": "code",
      "source": [
        "def gradient_descent(alpha,beta,m_tg,m_og,cov_tg,cov_og,nu,log):\n",
        "  Ms = []\n",
        "  bs = []\n",
        "  M = np.random.rand(2,2)\n",
        "  #M = np.array([[1, 0], [0, 1]])\n",
        "  b = np.random.rand(2,1)\n",
        "  #b = np.array([[0], [0]])\n",
        "  #for i in range(100000):\n",
        "  i = 0\n",
        "  while True:\n",
        "    # print('From:', M @ cov_source @ np.transpose(M))\n",
        "    # print('To:', cov_target)\n",
        "    L = loss(alpha,beta,m_tg,m_og,cov_tg,cov_og,M,b) \n",
        "    if  L < 1e-20:\n",
        "        Ms.append(M)\n",
        "        bs.append(b)\n",
        "        break\n",
        "    b = b - nu*grad_b(M,m_og,m_tg,b,beta)\n",
        "    M = M - nu*grad_M(M,cov_og,cov_tg,alpha)\n",
        "    i+= 1\n",
        "    if (i>= 5000 and i <= 5025) or (i>= 5975 and i <= 6000):\n",
        "      Ms.append(M)\n",
        "      bs.append(b)\n",
        "    if not i%5000 and log: print(L)\n",
        "  if log: print(\"-\"*25)\n",
        "  return Ms,bs"
      ],
      "metadata": {
        "id": "YgA3SBmceOGK"
      },
      "execution_count": 58,
      "outputs": []
    },
    {
      "cell_type": "markdown",
      "source": [
        "## Compute parameters and mean/covariance"
      ],
      "metadata": {
        "id": "YT2hozS7EjPw"
      }
    },
    {
      "cell_type": "code",
      "source": [
        "def compute_mean_and_cov(data):\n",
        "  aux_x = [] # Reales\n",
        "  aux_y = [] # Imag\n",
        "  for obs in data:\n",
        "    aux_x.append(obs[0])\n",
        "    aux_y.append(obs[1])\n",
        "  return np.array([[np.mean(aux_x)],[np.mean(aux_y)]]), np.cov(aux_x,aux_y)\n",
        "\n",
        "\n",
        "def total_loss(m_mod,m_tg,cov_mod,cov_tg):\n",
        "  return (sum(sum(np.power(cov_mod-cov_tg,2))) + sum(np.power(m_mod - m_tg,2)))[0]\n",
        "\n",
        "\n",
        "def loss(alpha,beta,m_tg,m_og,cov_tg,cov_og,M,b):\n",
        "  first = alpha*sum(sum(np.power(M @ cov_og @ np.transpose(M) - cov_tg, 2)))\n",
        "  second = beta*sum(np.power(M @ m_og + b - m_tg, 2))\n",
        "  a = first+second\n",
        "  return a"
      ],
      "metadata": {
        "id": "cHynfv5FeLI5"
      },
      "execution_count": 59,
      "outputs": []
    },
    {
      "cell_type": "code",
      "source": [
        "def compute_parameters (const,method,source,target,log = False):\n",
        "  if const  == 1: limits = [[-2,-4],[4,2]]\n",
        "  elif const == 7: limits = [[2,0],[2,0]]\n",
        "  elif const == 10: limits = [[0,-2],[0,-2]]\n",
        "  elif const == 15: limits = [[2,0],[-2,-4]]\n",
        "\n",
        "  q_source = []\n",
        "  q_target = []\n",
        "\n",
        "  for i in range(len(source)):\n",
        "\n",
        "    q_source += [[x.real,x.imag] for x in source.values.tolist()[i] if x.real < limits[0][0] and x.real > limits[0][1] and x.imag < limits[1][0] and x.imag > limits[1][1]]\n",
        "    q_target += [[x.real,x.imag] for x in target.values.tolist()[i]if x.real < limits[0][0] and x.real > limits[0][1] and x.imag < limits[1][0] and x.imag > limits[1][1]]\n",
        "\n",
        "  unbiased = (len(q_source)/(len(q_source)-1) * 125/126)\n",
        "\n",
        "  mean_source,cov_source = compute_mean_and_cov(q_source)\n",
        "  mean_target, cov_target= compute_mean_and_cov(q_target)\n",
        "\n",
        "  cov_source *= unbiased\n",
        "  cov_target *= unbiased\n",
        "\n",
        "  if method == \"GD\":\n",
        "    alpha = 3/4\n",
        "    beta = 1/4\n",
        "    M, b = gradient_descent(alpha,beta,mean_target,mean_source,cov_target,cov_source, 0.5,log)\n",
        "    return M,b\n",
        "\n",
        "  elif method == \"Z\":\n",
        "    return mean_source,cov_source,mean_target,cov_target"
      ],
      "metadata": {
        "id": "BF-MRK9UeSmu"
      },
      "execution_count": 60,
      "outputs": []
    },
    {
      "cell_type": "markdown",
      "source": [
        "## Modify GD/Z"
      ],
      "metadata": {
        "id": "PdUaMJ_LEddb"
      }
    },
    {
      "cell_type": "code",
      "source": [
        "def modify_const_GD(const,source,M,b, target = None, return_plots=False):\n",
        "\n",
        "  if const  == 1: limits = [[-2,-4],[4,2]]\n",
        "  elif const == 7: limits = [[2,0],[2,0]]\n",
        "  elif const == 10: limits = [[0,-2],[0,-2]]\n",
        "  elif const == 15: limits = [[2,0],[-2,-4]]\n",
        "\n",
        "  q_source = []\n",
        "  indexes = []\n",
        "\n",
        "  for i in range(len(source)):\n",
        "    row_source = source.values.tolist()[i]\n",
        "    for j in range(len(row_source)):\n",
        "      point_source = row_source[j]\n",
        "      if point_source.real < limits[0][0] and point_source.real > limits[0][1] and point_source.imag < limits[1][0] and point_source.imag > limits[1][1]:\n",
        "        q_source += [[point_source.real,point_source.imag]]\n",
        "        indexes.append([i,j])\n",
        "\n",
        "  if target is not None:\n",
        "    q_target = []\n",
        "\n",
        "    for i in range(len(source)):\n",
        "      row_target = target.values.tolist()[i]\n",
        "      for j in range(len(row_source)):\n",
        "        point_target = row_target[j]\n",
        "        if point_target.real < limits[0][0] and point_target.real > limits[0][1] and point_target.imag < limits[1][0] and point_target.imag > limits[1][1]:\n",
        "          q_target += [[point_target.real,point_target.imag]]\n",
        "      \n",
        "  mults = [np.array([[x[0]],[x[1]]]) for x in q_source]\n",
        "  new_points = []\n",
        "\n",
        "  for mult in mults:\n",
        "    res = (M @ mult + b).tolist()\n",
        "    new_points.append([res[0][0],res[1][0]])\n",
        "  \n",
        "  if target is not None:\n",
        "    if return_plots:\n",
        "      generate_comparison_plot(new_points,q_target)\n",
        "      return new_points, q_target\n",
        "\n",
        "  return new_points,indexes"
      ],
      "metadata": {
        "id": "0ksqQLt2eTYK"
      },
      "execution_count": 61,
      "outputs": []
    },
    {
      "cell_type": "code",
      "source": [
        "def modify_const_Z(const,source,mean_source,cov_source,mean_target,cov_target,target = None, return_plots=False):\n",
        "  if const  == 1: limits = [[-2,-4],[4,2]]\n",
        "  elif const == 7: limits = [[2,0],[2,0]]\n",
        "  elif const == 10: limits = [[0,-2],[0,-2]]\n",
        "  elif const == 15: limits = [[2,0],[-2,-4]]\n",
        "\n",
        "  q_source = []\n",
        "  indexes = []\n",
        "\n",
        "  for i in range(len(source)):\n",
        "    row_source = source.values.tolist()[i]\n",
        "    for j in range(len(row_source)):\n",
        "      point_source = row_source[j]\n",
        "      if point_source.real < limits[0][0] and point_source.real > limits[0][1] and point_source.imag < limits[1][0] and point_source.imag > limits[1][1]:\n",
        "        q_source += [[point_source.real,point_source.imag]]\n",
        "        indexes.append([i,j])\n",
        "\n",
        "  if target is not None:\n",
        "    q_target = []\n",
        "\n",
        "    for i in range(len(source)):\n",
        "      row_target = target.values.tolist()[i]\n",
        "      for j in range(len(row_source)):\n",
        "        point_target = row_target[j]\n",
        "        if point_target.real < limits[0][0] and point_target.real > limits[0][1] and point_target.imag < limits[1][0] and point_target.imag > limits[1][1]:\n",
        "          q_target += [[point_target.real,point_target.imag]]\n",
        "\n",
        "  mults = [np.array([[x[0]],[x[1]]]) for x in q_source]\n",
        "  new_points = []\n",
        "\n",
        "  w, v = np.linalg.eig(cov_source)\n",
        "  S1 = v @ np.diag(np.sqrt(w)) @ np.linalg.inv(v)\n",
        "  w, v = np.linalg.eig(cov_target)\n",
        "  S2 = v @ np.diag(np.sqrt(w)) @ np.linalg.inv(v)\n",
        "\n",
        "  for mult in mults:\n",
        "    normalized = np.linalg.inv(S1) @ (mult - mean_source)\n",
        "    denormalized = S2 @ normalized + mean_target\n",
        "\n",
        "    new_points.append([denormalized[0][0], denormalized[1][0]])\n",
        "\n",
        "  if target is not None:\n",
        "    if return_plots:\n",
        "      generate_comparison_plot(new_points,q_target)\n",
        "      \n",
        "\n",
        "  return new_points, indexes"
      ],
      "metadata": {
        "id": "wAAXm-VueWrT"
      },
      "execution_count": 62,
      "outputs": []
    },
    {
      "cell_type": "markdown",
      "source": [
        "## Compare plots"
      ],
      "metadata": {
        "id": "ivbqNgx4EZA6"
      }
    },
    {
      "cell_type": "code",
      "source": [
        "def generate_comparison_plot(mod_points,ptarget, return_plots=False):\n",
        "  x1 = [x[0] for  x in mod_points]\n",
        "  y1 = [x[1] for  x in mod_points]\n",
        "  x2 = [x[0] for  x in ptarget]\n",
        "  y2 = [x[1] for  x in ptarget]\n",
        "\n",
        "  if return_plots:\n",
        "      return go.Scatter(x = x1, y = y1, mode='markers'), go.Scatter(x = x2, y = y2,mode='markers') \n",
        "\n",
        "  fig = make_subplots(rows=1, cols=2)\n",
        "  fig.add_trace(\n",
        "    go.Scatter(x = x1, y = y1,mode='markers'),\n",
        "    \n",
        "    row=1, col=1\n",
        "  )\n",
        "  fig.add_trace(\n",
        "    go.Scatter(x = x2, y = y2,mode='markers'),\n",
        "    row=1, col=2\n",
        "  )\n",
        "  fig.update_layout(height=500, width=1000, title_text=\"Point comparison\",autosize = False)\n",
        "  fig.show()"
      ],
      "metadata": {
        "id": "Pw8-2ZOVeQLR"
      },
      "execution_count": 63,
      "outputs": []
    },
    {
      "cell_type": "markdown",
      "source": [
        "# Obtain parameters and GD"
      ],
      "metadata": {
        "id": "gzBCccEGecN5"
      }
    },
    {
      "cell_type": "code",
      "source": [
        "distances=[i for i in range(1,26)]\n",
        "M,b = compute_parameters(1,\"GD\",data[str(distances[0]*80)]['Train'],data[str(distances[24]*80)]['Train'], log = True)"
      ],
      "metadata": {
        "id": "YcbTLGsqehSs",
        "colab": {
          "base_uri": "https://localhost:8080/"
        },
        "outputId": "ab7a03a7-02b3-4e37-df3d-be4685ff14f7"
      },
      "execution_count": 64,
      "outputs": [
        {
          "output_type": "stream",
          "name": "stdout",
          "text": [
            "[0.00350086]\n",
            "[3.28403903e-07]\n",
            "[4.70383972e-12]\n",
            "[6.658339e-17]\n",
            "-------------------------\n"
          ]
        }
      ]
    },
    {
      "cell_type": "code",
      "source": [
        "a,b = modify_const_GD(1,data[str(distances[0]*80)]['Train'],M[-1],b[-1],data[str(distances[24]*80)]['Train'], return_plots=True)"
      ],
      "metadata": {
        "id": "zKNBdqTsy3qd",
        "outputId": "d1a4b8d6-088d-4375-da77-7eb397ff9620",
        "colab": {
          "base_uri": "https://localhost:8080/",
          "height": 517
        }
      },
      "execution_count": 67,
      "outputs": [
        {
          "output_type": "display_data",
          "data": {
            "text/html": [
              "<html>\n",
              "<head><meta charset=\"utf-8\" /></head>\n",
              "<body>\n",
              "    <div>            <script src=\"https://cdnjs.cloudflare.com/ajax/libs/mathjax/2.7.5/MathJax.js?config=TeX-AMS-MML_SVG\"></script><script type=\"text/javascript\">if (window.MathJax) {MathJax.Hub.Config({SVG: {font: \"STIX-Web\"}});}</script>                <script type=\"text/javascript\">window.PlotlyConfig = {MathJaxConfig: 'local'};</script>\n",
              "        <script src=\"https://cdn.plot.ly/plotly-2.8.3.min.js\"></script>                <div id=\"22ecda9b-8879-4420-aeb5-bcfaf3ac0aa3\" class=\"plotly-graph-div\" style=\"height:500px; width:1000px;\"></div>            <script type=\"text/javascript\">                                    window.PLOTLYENV=window.PLOTLYENV || {};                                    if (document.getElementById(\"22ecda9b-8879-4420-aeb5-bcfaf3ac0aa3\")) {                    Plotly.newPlot(                        \"22ecda9b-8879-4420-aeb5-bcfaf3ac0aa3\",                        [{\"mode\":\"markers\",\"x\":[-3.343306709271886,-2.9333598227570192,-2.898672617736157,-3.0149970487444833,-2.5400969052901488,-3.0893892892902812,-2.491303429449978,-2.4321016790100884,-3.0934430528821117,-3.056719053105301,-2.78443854238483,-2.6411188644716574,-2.691236161041683,-3.4083936275546876,-2.9000775200751185,-3.1214777228786836,-2.8260328533699983,-2.9532353699302263,-2.4986076465732587,-2.6300555217855965,-2.6202497032447667,-2.544265335558027,-3.0859314154154553,-2.861641683462352,-3.3054284492044346,-3.4516581153388586,-2.9952731654704756,-3.4542363140932366,-3.5906753707273857,-2.989084706634923,-2.969091537025836,-3.0007904861191896,-3.104818811308782,-3.4868227094304025,-3.037694765694983,-3.0646329274420907,-2.629388132103859,-2.874294443493998,-2.6313456045400656,-2.5343781256467857,-2.5832219706414143,-2.5973003512916293,-3.4042391104084295,-2.9464276895335146,-3.4117607212995402,-3.139548719305637,-3.374871996547885,-2.6762807349033864,-2.9531228433368995,-2.854455080155919,-3.036759871992146,-2.798684288135366,-2.9988773514836993,-3.472217968786289,-2.5325773036522463,-3.222564634536333,-2.5120578481750613,-2.8917732722821015,-2.8618693455793185,-2.837552796998633,-2.5573997986712484,-2.7474276058999436,-2.9065913946354662,-3.273424171847445,-3.001993008847876,-3.8459940677150115,-2.9085894458377446,-2.8008792849185085,-3.297190033770409,-2.4877881102189754,-3.1120515237556035,-2.7414651989441055,-2.9956131096956575,-2.6025510420302282,-2.8357268031809326,-2.87211449344505,-2.5543850024653416,-3.104178211905971,-2.985364656149965,-2.678277887790916,-2.677793265784171,-2.867226739101973,-2.7944949137044865,-2.4082043177748638,-3.1335633919935297,-2.5653177824713076,-2.8730029427234243,-2.931830583883528,-2.1895240513383065,-3.3129926476565963,-3.03785576667185,-2.8852098314478454,-2.9960431876790388,-3.0547022597951603,-2.374751435658432,-2.4395834020662974,-3.262414035846888,-2.8616425890638943,-3.157988927701272,-3.0351939700886277,-3.282533253687678,-3.058653294168362,-3.068341563926033,-3.4106039574135565,-3.5762588255485177,-3.228451404294649,-2.9938078162615263,-2.8409968340734544,-3.7529670307296517,-2.785536615055765,-2.7579105237632184,-2.6889545110716604,-3.1815274809941023,-3.136272426646837,-2.801471956996913,-2.4128935897013513,-2.2669513235381515,-2.7415096271563684,-2.3049811611322077,-3.035723769145388,-3.1949642334402597,-3.283960592891731,-2.315541470016921,-3.1180791530655654,-2.578841312234747,-3.2897534548444014,-3.414026099321706,-2.97643392753654,-2.7947403234138584,-2.8382997300736115,-3.60970008028524,-2.8412557828813547,-3.130347032944101,-3.077610182686879,-3.4895688234419175,-2.8606696686998525,-3.248123943158184,-2.7420998334525457,-2.7717128628965675,-3.359338985670526,-3.239444033493797,-3.0347547964660997,-3.1867345032552556,-2.9115805768765313,-2.5238987916747604,-2.4423763532061713,-3.446579060256262,-3.2749940720196484,-2.9901181587207226,-3.204227866203265,-3.3489791037198735,-3.3504417372500264,-2.984718287072642,-3.620188602955931,-3.0912940790056886,-3.0840458972324996,-3.0276578212656666,-3.0136615335699695,-3.024825735457803,-3.5684655846046276,-2.7268733859793564,-2.9075518993816054,-2.7554791836905608,-2.78292317982665,-2.8283440351339983,-2.6963788921023237,-2.7989714958254517,-2.44242344528568,-2.896418687970783,-3.2208462622631195,-2.469885664010473,-3.30580409285108,-3.0939602226895104,-2.8672683577056723,-3.123813067927461,-2.645855437794925,-2.84205049971532,-3.0634886046860608,-2.7553683444910924,-3.403435595817278,-2.845495609672273,-3.2495931932329434,-2.649902703740697,-2.666421777712692,-3.4329719072906286,-2.874681336676783,-3.3092644221923315,-2.747720764840402,-2.8055554089858212,-3.0715452497385094,-3.2758409700071773,-2.9095938821195624,-2.986957186183613,-2.653624043516608,-2.91893916335815,-3.376039734190133,-3.0718261541599823,-3.094763452462452,-3.113396979327252,-1.7703582759582552,-2.2688258905688095,-2.9975077692470116,-2.4869595475605344,-2.893266635935568,-2.576135164068269,-2.854536055547211,-2.1557587558312825,-3.065785824829131,-2.934608609812667,-3.5092641454800706,-3.284837562660183,-3.277738460359487,-3.0070363542205136,-2.791256280095478,-3.0601038289917426,-3.14875463097054,-2.890198205582717,-2.5537714772227034,-3.0530464766476086,-3.25590399423443,-2.68096077051932,-3.0497607151698425,-3.030572565579231,-3.002220110525851,-3.104138961794515,-2.824269410397079,-3.0078122259512696,-2.8542893024725977,-3.0248843804920043,-3.4852076121567634,-3.1364733036097086,-2.81952224670977,-3.3513538359811044,-3.0733324309665413,-3.4262828909442824,-2.9435332583927654,-2.7667735549371244,-3.0189511535281284,-3.084038699385488,-2.9193023016489015,-2.8390971225931843,-2.7160403445036145,-2.7675056276816896,-2.8168365642915276,-2.691331777026125,-2.9409013787073874,-3.1776800053967627,-3.08336850627499,-3.0346959773599878,-3.1186995349579902,-3.1590488707344626,-2.388891968752109,-2.8622998208706107,-3.186194722960831,-3.4376971557838623,-3.230400427406085,-3.326780316813604,-2.7917051323528064,-2.4142007645348436,-2.7882803215129357,-2.791843214272401,-3.043693508423754,-3.075232454741446,-2.5315134638864016,-2.7773056229449935,-3.4130735122576787,-3.5956683576301067,-3.2305357297787474,-3.2075319272715213,-2.9268995706598986,-2.9608573197892234,-2.4770858438424206,-3.2142770079105,-3.500368917700172,-2.890581059385404,-3.327484070423541,-2.9246012207490644,-2.781139160525484,-2.805567982542488,-3.3432468662718975,-3.318607947582425,-3.378674003796032,-3.23176026225768,-2.9244565898769572,-3.0934520702627424,-3.611584693986199,-3.1516052435121864,-3.4174321591935843,-2.960601641163162,-3.3971641147948155,-2.6543529377607626,-2.657744456862762,-2.5270771437277126,-2.671632836754764,-2.557915303477902,-3.1290090668341897,-3.1028050519105577,-2.9078979886964085,-2.7156551785423666,-2.998572991731038,-3.0260297480266445,-3.3257231872392516,-3.6190893939210866,-3.190884720878369,-2.966602964501142,-2.8619197173462148,-2.4771333298186313,-2.6561617417392895,-2.561997512959902,-2.803002207909987,-3.0185211920023995,-2.9632191382991806,-2.523230428212731,-2.5242466857303754,-3.2552385202898897,-3.150084911366278,-3.029310872307658,-3.2068060515143557,-3.1514833240493374,-2.7590572048088013,-3.1575825070387715,-2.8737279481225073,-2.99773863766573,-2.8057014879502518,-2.2032825671954335,-2.839559089951397,-2.944208963384437,-2.7394155634708106,-3.229067189756382,-2.610675689000985,-2.6911032354544666,-3.002995460843586,-2.500370603970662,-3.0372903119767862,-3.006026548011132,-3.105929580325384,-3.051822938422333,-2.568930246067705,-2.954361847744181,-3.047585973765802,-3.144406897745114,-2.863241238270188,-3.2544467889404487,-2.948955564323466,-2.8858957645129877,-2.8550325893140744,-2.5787616623219023,-2.825876553545225,-3.448483688876017,-3.2287021579181605,-3.0585062304295256,-2.6997975232448184,-2.6972144733716092,-3.4323882371062275,-3.3899353180123555,-3.1644891252616922,-3.0939643869097253,-2.992675082628267,-3.2427998329374645,-2.765901525930765,-3.8310427078227214,-3.149329908774636,-3.562899579855266,-3.4348897496103774,-3.4984127438141037,-3.050169078058893,-2.453707986551951,-2.5133748409057297,-2.5418954195368677,-2.7626982787035317,-2.8437609362619973,-2.194016897994093,-3.057515047336242,-3.195822437719798,-2.709727578291602,-2.807315176420385,-2.75374445134716,-2.91365275019087,-3.6334068990920123,-3.422389229273957,-3.1888692119840947,-3.0472815660815122,-3.157123534490225,-2.619738416568346,-2.4846635402658954,-2.3489216690502133,-3.144072727806023,-2.8248072342076895,-2.846477823490357,-3.13935965227164,-2.7991306436342605,-2.8322259181080724,-2.9035987188626606,-2.876935846891854,-3.2342180378615772,-2.7421404289769242,-2.8413548601261134,-2.5527973325218696,-2.989338562044775,-2.881314978803079,-2.947907095022309,-3.2859168822941456,-3.406219987372971,-3.431856661829766,-3.1314945721362335,-3.251143275808431,-2.983736992264756,-3.713400234412788,-3.534542689714307,-3.454225114043421,-2.577158187913696,-3.378786614197626,-2.880320163917304,-3.1394225907026154,-3.163715201990648,-2.409765030823113,-2.9945337235563834,-2.694581413842773,-2.7871793098393702,-2.585917932672576,-3.1999762741185727,-2.7973087605750706,-2.747571037928079,-3.1040083360946404,-3.2471609551288445,-3.568320897285016,-2.7186801436374743,-2.9011732059067867,-2.6889541548071847,-3.111179319952555,-3.115003829008103,-3.177640643907619,-2.6427766292710437,-3.403866145321498,-3.3203711590570464,-3.1908769603557765,-3.009117032590712,-2.9123520600272457,-3.0051096559869137,-2.500360348935903,-3.1562526111028504,-2.5865738499787128,-2.747592798577294,-2.848221200702252,-2.8106711637223967,-2.7557541746355874,-2.9370840426588423,-3.096939865934253,-2.911621271623563,-3.1278229604278245,-2.8576319843607223,-2.3945887051930086,-2.7631465848315493,-2.3609503999746977,-2.747077387273759,-2.484172967197008,-2.816805344665301,-2.9765890569877804,-2.4997479300180103,-3.976019331358298,-2.6355702566539385,-2.6093433562101573,-3.0249747334670367,-2.6194891623967713,-3.069713156463628,-2.2869574535327857,-2.6327160176029523,-3.003722053144095,-3.5158611505029036,-3.1343792682952767,-2.9760449909254945,-2.9908584520287604,-3.0323369689498527,-2.6837741481053996,-2.8421316617224086,-3.291856545570333,-2.8863768298184667,-3.159357429222883,-2.74911201590373,-3.2130797459469065,-3.2492209247157398,-3.3850950719703157,-3.004896563980413,-3.233445784112398,-3.36373940955945,-3.1733033917436657,-3.9268648689607293,-3.321986027199845,-2.7215629893286035,-2.5221156356383823,-3.0584177255725535,-3.2120138742073046,-2.5001083265650372,-2.918327025365688,-2.1303523192506546,-3.0309226705052055,-2.4574755688900147,-2.3763283148641428,-3.525454574800527,-3.0040613284699624,-2.687864085516395,-2.539306653033371,-3.2695756226356885,-2.66943618304348,-2.943573760492235,-3.3350186613770063,-2.9054035919198498,-3.0018183870175186,-2.557521769285909,-2.6841196335189146,-2.7494504051508954,-3.5510446956911395,-2.7929194492097267,-3.0933439986372235,-2.6451609477576596,-2.7990511883617373,-2.863941933861728,-3.0866252399945147,-3.396992988720079,-3.265454558260714,-2.782849316640192,-2.4380918682518455,-2.944520430929643,-2.4521828502751717,-3.2052349978222594,-2.9039835019611893,-3.4130485919985674,-3.366623181752594,-2.9250180041888747,-3.30299692482631,-2.8246915133153045,-3.311955468155084,-3.2095855807527194,-3.0595698515709344,-3.1703134677324982,-2.749682544420672,-3.3124583274423642,-3.2353678799390586,-3.185638765373991,-3.175187141327587,-2.482487429439292,-3.0274176216918107,-2.903939261900849,-2.614285353064517,-2.8568889478992077,-2.7105530444877495,-3.066949020931073,-2.7871294076172433,-3.2369738256668263,-3.1114630626931223,-2.735545873045396,-3.0195444925942923,-2.8691863192841076,-3.217801021741753,-3.4224808326291907,-2.9335810210698554,-2.780811692406804,-2.818589795962037,-2.902436787717793,-3.5095975870737597,-2.7347881389811874,-2.877943095942321,-3.2566375782547645,-2.927063404660565,-2.185741756301155,-3.028472717436305,-3.0818914298542133,-2.8549246382341558,-2.677132144194548,-2.888479629919786,-2.401405992800605,-2.7841639794837327,-2.643511967970163,-3.216027573616852,-3.0421791632722552,-3.3482777913513964,-2.5880782192073895,-2.8358279826960313,-2.9060144364358713,-3.0532111641556057,-2.738897796783089,-2.9918477058108515,-2.9448140087832435,-2.707706158153357,-2.6987638507595975,-2.971568964589249,-3.006376732743089,-2.5958158357184935,-3.09954619503527,-2.735367741859683,-2.983527697803069,-2.331752798815259,-3.457456480162424,-3.0317691160980473,-2.2079912305510483,-2.746962740267751,-2.7362154980253344,-3.4801697066897823,-2.7268603822918998,-2.876681056115835,-2.7732923647678405,-2.89830541673906,-2.749700848572111,-2.6498809036356334,-2.9313145254596513,-2.5902675113640363,-3.597361747491618,-3.0968857790996935,-3.7160729741557823,-2.623237231431414,-3.4531840986601274,-3.195466980338253,-2.757105473763257,-3.2061504395773284,-2.881193335328433,-3.1219902980236647,-3.2238342934095563,-2.70997163438091,-2.6735518820234567,-3.0685965786780898,-3.2232793965580413,-2.336087005357726,-2.9863324204124453,-2.8950254114726093,-3.3147215532726264,-2.5752500161539302,-3.017084104773481,-2.320555244033077,-3.3798875201916694,-2.7970468184117188,-2.9821955895615595,-3.5091501363497173,-3.3113665008853843,-3.283327547266598,-3.1487699286409487,-2.8242430186019973,-3.061107179911044,-2.0970973230636254,-3.114392243311766,-2.8761745080861196,-3.357039282717249,-2.805133931012609,-2.622224160928919,-3.206200353218783,-3.645597020828802,-2.6827159165677124,-3.0032838015371226,-2.4308872936958785,-2.6220263884024533,-3.0475197870429938,-2.7234200010243264,-3.5148405280570856,-2.8102594372910765,-3.2258171461190592,-3.3601039834972184,-3.230412249590099,-3.0326334906731454,-3.150088509778481,-3.203239610739246,-3.5348228381048123,-3.5801089366360124,-3.1669558934642588,-2.5902613667494236,-3.357507262250685,-2.926249942107816,-3.364710312271921,-2.6881258020140493,-2.982947798819861,-2.6101764515261756,-2.384439575504267,-2.7110541978890836,-2.9435010282398757,-3.252132582983034,-2.9502491111426004,-3.497545704388923,-2.3817907795318938,-2.8493002672028105,-3.3844768562723786,-3.169869284091657,-3.111539828163213,-3.1196440912188415,-2.419523078524815,-3.2733479150779488,-2.9151054703230166,-2.938553469043793,-2.798347232359408,-2.5840836595297176,-2.7918978223886803,-2.553589988502047,-3.4739033819201346,-2.5521127094109595,-3.076277131394395,-2.741259183185594,-2.660750190006002,-2.649089288592389,-2.770652129340121,-3.2752360993479854,-3.3489915489511866,-2.921889554050285,-3.413695218504966,-2.6707833696187215,-3.0366343931271267,-2.776003008377071,-2.2316123918298807,-2.561383401105342,-2.897533237697491,-2.465300016436821,-2.675910844008918,-2.2600062919929726,-2.8246342127794115,-3.0960077646760205,-3.0783891332051496,-3.0900115107421087,-2.905809447533091,-2.8599668914005996,-2.4404414043774025,-2.8171020651204017,-2.7641163572166327,-2.7863381708859407,-3.386814421487081,-3.4027166821092614,-3.2829932168547735,-3.0857424784424197,-2.8487301801032388,-2.750167121197496,-2.6341388299384896,-3.535562633911006,-2.86575880997324,-3.2111001527969343,-2.6250235234157806,-3.2334904940533846,-3.162165603651413,-3.0204634837846456,-3.114728242829017,-3.2777304138347496,-2.855507064190064,-2.3438219343122277,-2.893689895938742,-3.232670442852701,-3.215707827527954,-3.606783217843706,-3.4083576382460308,-2.8600433527980798,-2.75501707044576,-2.7721817422743236,-2.7429214260091612,-2.39412262424365,-2.5807548272688265,-2.266806330100067,-2.59219946486607,-3.1047123923112707,-3.2848620238024964,-3.1685307114686303,-2.851991067817753,-3.4187085624379705,-3.012524975284414,-3.0571476153864694,-3.152239201723024,-3.0787526496409647,-3.0945252569682467,-2.347556510669584,-2.87782350491975,-2.7740847818735936,-3.1632617084766004,-3.5179213801255464,-3.0669391907666856,-2.941557037349394,-2.6944294695102045,-2.8114492772246003,-2.855316499206083,-3.016190666148834,-3.415311843802371,-3.1836429065361784,-3.108529168994888,-2.5631819952162296,-2.7441833111907563,-2.676626895331797,-2.784705329087533,-3.5249290050348634,-3.3099409823903585,-3.789132809061897,-2.6420019311673393,-3.1032045762801808,-2.8898302658905415,-2.9942112149476507,-3.331433970850231,-3.040171538354258,-2.978714018504405,-2.9052229438277806,-3.5762050051857805,-3.0308808068248396,-3.0107961854361456,-3.158463282245343,-3.248699900318371,-2.759921778208639,-2.4886116117024706,-2.85423938250894,-2.761111179791307,-3.202640457448858,-2.7658111626406843,-3.5110728460882576,-2.8927511737715754,-3.532916976458118,-3.2128707158404666,-2.3969680535938807,-3.251533422580355,-3.3180177845202614,-2.898872606182465,-3.0200523501055194,-3.207296169441502,-3.262246373952703,-3.119415315726407,-3.0123711519119425,-3.217815677390764,-3.0235066282471763,-2.66505977488929,-2.1148029437901528,-2.9280998402757596,-3.4498864942282275,-3.1327478128164508,-2.7776361378340937,-3.2997694254336665,-3.429264093204086,-3.375798733997467,-3.1304911446431483,-3.4524671035635244,-2.91492886690898,-2.7637275777474812,-2.841338780871361,-2.856761682981894,-2.662606642021789,-3.0845702570718814,-2.454767107061695,-2.701319868369236,-2.722513704416148,-2.8517782422504396,-3.2660765484828147,-3.509972603683682,-3.064009548537225,-2.9130470050288686,-2.8673753006314726,-2.9789308329186035,-3.2261303769135843,-2.7074801701582167,-2.5103169694939247,-3.5535705605559187,-2.40259595543969,-2.9854733852496445,-3.0365022864690374,-2.8793573220649655,-2.400975695091155,-1.9860579467874722,-2.571876814697358,-3.6501735927697574,-2.945886982224067,-2.5012967690870944,-2.88685074731103,-3.182198669898135,-3.304898197079229,-3.115012872398438,-3.256844638956732,-3.6150062547089767,-2.954661297581744,-3.5221189482324675,-3.036108426927669,-3.7447142007647205,-2.7108122317147227,-3.325069049205041,-2.9706475862649313,-2.826088086937638,-2.446474565477981,-2.814553035603975,-3.0169575513379527,-2.786436565193114,-2.6645603934673794,-2.557746877168043,-3.0595914335921,-2.7735360192369356,-2.9487140537764915,-2.863663356600629,-3.030859201114648,-2.3235177914217644,-3.7313152152198654,-3.005159201569711,-2.8397567261608714,-2.5092596723716554,-2.7924431895754758,-2.7908890071943127,-2.9880599199378928,-2.878168673458646,-2.628138014224877,-2.945750185281259,-2.946626383324425,-2.836948594393398,-2.3638970399827635,-3.2496591840791993,-2.9105001882846366,-3.183863561126927,-2.8612666741338337,-3.053158538740636,-2.2217743040765683,-2.615226050101686,-2.4614648032222988,-3.3232888164327683,-3.2041653663804617,-2.7599266319740465,-3.163184728635791,-2.592571661852336,-2.7958576687067236,-2.867975655394254,-3.425553227829006,-3.210321560904326,-3.1046637939363926,-3.3102025965307256,-2.8451447303217634,-3.316727242673238,-3.0070169234332447,-3.0484184920208577,-2.5526868748173612,-2.7760543479486195,-3.0400368246076965,-2.9853301665694545,-1.7438389609342266,-3.042496049677581,-3.388509298928472,-2.3803092612431236,-3.384524323822319,-3.101092854421122,-3.0362522088720034,-3.3447191944415664,-3.3397430988331216,-3.2787822328291227,-3.6418246726289922,-2.8186057110455387,-3.054206592733074,-3.0085309919620897,-2.9615338938257807,-2.8019517798703433,-2.642610956858249,-3.037816123836606,-3.5230218704126663,-3.1734153245416863,-2.6763616021659864,-2.491816973314574,-2.897213066270499,-3.114725669350488,-2.921111074496473,-3.208835638702819,-2.9065677446572558,-3.3198959065986067,-3.110749018226077,-3.2164169263695186,-3.42702253797394,-2.8032421575226643,-2.6485756437523946,-3.0200726829932556,-2.866916316553489,-2.7404367154968092,-2.735111073494263,-2.895533709789696,-2.8779170016757973,-2.826098827040642,-3.418901091190552,-3.0985925806340084,-2.838418227213573,-2.8801827968590707,-2.4618788187536786,-2.513248549746624,-3.26419527381508,-2.9066632119781204,-2.479511935914797,-3.065164391057678,-3.656372506141114,-2.498612151507025,-3.1851540337189945,-2.7507820696573866,-3.2250769840358906,-2.4689281463259967,-3.342245562563633,-3.2945731465998627,-3.385039304101795,-2.5846282636989812,-2.198239174291796,-3.182093682057122,-3.2966061105284155,-3.0323536610772877,-3.615158819457182,-3.057254121997101,-3.1471515897996944,-3.3507896107437176,-3.208228578081659,-2.888415588636608,-2.9807460022668657,-3.0567330522079743,-3.041446358741986,-2.8152131106091254,-2.176589196150701,-2.613549941848003,-2.4320898933885005,-3.206224124456991,-2.53891047015912,-2.740207821227539,-3.349932225961197,-3.000134273079418,-2.7990233069021997,-2.7440814280729136,-3.1671834593712127,-2.5703224240924136,-3.251630962795673,-3.107668564848506,-2.9353798223567438,-3.058745985620483,-3.203144036193521,-2.809846251693756,-2.6220990801516635,-2.9012796278436532,-2.6876499002615155,-3.594123008616574,-3.579480964381627,-2.553868194223977,-2.4469767398963675,-3.74995213007308,-2.695788065301734,-2.9222845613490307,-2.9359325831646963,-3.4375051278487057,-3.237988611908122,-2.7961343345421277,-3.0187594468917602,-3.3117668209527977,-3.4141843305250497,-3.0315846959525317,-3.2774251030973893,-2.7819463722700988,-2.6141248345526833,-3.269684179721434,-3.199145996527321,-3.1769558584282294,-3.2288085104064024,-3.42220214023558,-3.0905297872840976,-3.440055369003158,-2.978273312436741,-3.082632351737278,-2.6788295421244435,-2.645239490345407,-2.392834987850005,-3.2536587403930675,-2.597493657167785,-2.9958085284016036,-3.007485413275944,-2.697109785960862,-2.972275291011197,-3.0332902084427005,-3.249264675196379,-3.1475363484528884,-3.0646783401744315,-2.881162412532966,-2.729567518577877,-3.138484802799713,-2.9413277924948744,-3.349300018186902,-2.568958618029196,-2.374119690279013,-3.0130663364098744,-2.674428172475203,-3.4457741755575597,-2.4822753872170686,-2.7717858276332414,-2.986922846235611,-2.8801763756055543,-2.8888089303562836,-2.7972544903132963,-2.9384428054374006,-2.7888615128560375,-3.16986701450233,-2.9082263637439887,-3.3917715537154365,-3.56618384925817,-2.917143423838187,-2.6951498067194954,-2.8954608936775834,-2.750059240678251,-2.694318881568744,-2.8335441639629657,-2.544831778042383,-3.1896311505194888,-2.962771346149143,-2.415347436747272,-2.4704203631233526,-2.8748205705041165,-3.4092718290804633,-3.6875117668470914,-2.468468932536549,-3.3529733546238987,-2.807381183605038,-2.6354429386185068,-3.1071479459074602,-3.277205689478212,-3.1045128591639504,-2.6819220880305963,-3.122353806654555,-2.2412627203075175,-2.533666780761312,-3.226463570584034,-2.579086388014968,-2.8594121287319894,-2.9457447369640732,-3.0279415598805315,-3.04934715796864,-2.9641124363735365,-3.130228433443868,-3.415061435706214,-3.801614630157543,-2.5801507825769754,-2.602556397875002,-3.0779380200929545,-2.5618579281949927,-2.9994257706257663,-3.316035001152276,-3.7474709350840953,-2.378977314332186,-2.926096111846377,-2.673808915439512,-2.613215337557776,-2.687125536609109,-2.7183389368963056,-2.57452903306017,-2.811364757223142,-2.8078065638935428,-3.4144731810349,-2.539329380958833,-3.249130387361543,-3.1561979176801316,-3.011752343138358,-3.150695832965429,-3.4376247473174537,-3.0156041351754794,-2.613946774294181,-2.8980056760620236,-3.143206138590923,-2.765674178119081,-3.253845086569008,-3.680297072997167,-2.9883319066844756,-2.7160684009953506,-2.6342000762762865,-2.879474724558076,-2.808607001626857,-3.045928208393608,-3.3017281899150426,-3.035757443497854,-2.6586347847185614,-2.8470193983870224,-2.867586198809196,-3.4675027675783703,-3.2998002930090635,-3.1677245934553753,-3.2925366214325713,-3.1940450365218567,-2.5004320453067557,-3.2620755173823603,-3.4032648121737523,-2.5960358589856654,-3.325774912075648,-3.0045069574771617,-3.3219182041369635,-2.8788680441596384,-2.733466370970408,-3.4149272379091435,-3.567558242006097,-3.0935490666923755,-2.745576433076508,-3.1501264381719096,-2.3439425378898378,-2.841308592245362,-3.107170606507516,-2.6315017396689875,-3.2908421356830537,-3.2528112595271317,-3.083609078332291,-3.114706478234698,-3.6673815140034023,-2.949249236019714,-2.6024674942584163,-2.8114825679069178,-2.983705504081577,-2.704841090524649,-3.126154019452496,-2.9880654298540072,-2.9218248709190853,-2.5338055164893696,-2.8586245028457107,-2.6919777773731894,-2.63251225788375,-2.7665868085101017,-3.058179001768071,-2.928208578098303,-3.6868321337306718,-3.1435995562372483,-2.725944274317605,-2.494951755504289,-3.126155587243634,-3.1116960196042456,-3.7342388479265516,-2.636772556163475,-2.571748889012259,-2.356281639300807,-2.227307344211791,-2.6329198466246666,-2.7453343051992043,-2.917278754554257,-2.950705750993862,-3.1416041480509804,-2.9488603750309856,-2.978673331741323,-2.834692319243441,-2.789366510927735,-3.135549333736396,-2.445954907913144,-3.4880386846123344,-3.0415978285999934,-2.3021418793203665,-2.9716509653379433,-2.6064133428989322,-3.1552828431974724,-2.845115125742044,-3.277333823858399,-2.792645304996501,-2.7063253704651657,-3.267113092253819,-3.5162085857563667,-2.989243303046017,-2.6316809925197937,-3.0872277161279875,-3.7967846054456356,-3.31414867294367,-3.278715551839511,-3.5624620988343167,-3.091175772865906,-3.3637742753868984,-3.065158336280607,-3.1767410903449793,-2.885519652312407,-2.922066166037407,-2.602472106972481,-2.8564406407594234,-2.3260626548501087,-3.4078186534661192,-2.6639703884794947,-2.27389606809475,-2.690124201009443,-2.6128557681977966,-2.7942065364251043,-2.5125406793423295,-3.3660246312340156,-2.6694220952793124,-3.333649282356017,-2.6483186494372504,-3.2156197486042046,-3.3752138944110435,-2.7782813657677643,-3.3321143299451954,-3.5040764151705908,-2.7969243331918783,-2.205560431616938,-2.0715524410529547,-3.0805603714651895,-3.152409634819005,-2.7953871680858953,-3.075446723859418,-2.4539299307685845,-2.1864929107099442,-3.261909539286222,-2.9185817137886545,-3.031676775457793,-3.1244342980066335,-2.548632917948236,-2.367849950730484,-2.6909611719358217,-3.382532220015282,-3.270249873565394,-3.23820523048839,-3.2297384122938695,-3.293521578282853,-3.4841367344706597,-3.070979705214718,-3.184785862207587,-3.2253737142769197,-3.4530951630209152,-3.299461588308244,-3.0203242846026406,-3.2362323512123083,-3.5112166596663386,-2.9053733795500563,-2.9597253169074556,-2.572848196719839,-2.8046486596453057,-2.613847625165068,-2.7947178754030055,-2.644471703037052,-2.4244222919059624,-3.2582715897086594,-2.937799262769513,-3.05623083408722,-2.837295949662675,-2.871192416873793,-2.9737180956058715,-3.4785058144086882,-2.9890672240110128,-2.5572465811333664,-2.6732888015815277,-3.213981790500771,-2.7700877533425796,-2.954763029130376,-3.0796451726421843,-2.8562191849788796,-3.146787341149036,-2.995662245198467,-3.291965086256024,-2.816599410688351,-2.7856111592310064,-3.361891942532477,-2.552492780000783,-2.686163240904481,-3.53798452609783,-3.108608734172023,-2.9800383314916097,-2.669933517044175,-3.325344131493896,-2.953760221736804,-3.032418834445398,-2.794627122586757,-2.8978012539426814,-2.710384966473214,-2.496324126059818,-2.8421213329009483,-2.958430168965986,-2.76422605493617,-2.9107470442145953,-2.949642376712376,-3.3029718154249927,-2.9795184470020395,-2.936249889571375,-2.9368628419126566,-2.9434552823959876,-2.793720225238957,-2.4253440865585496,-2.843044861943806,-2.9119573054887162,-3.1923863659747767,-2.8913488172927337,-3.4401935165724424,-2.8297470037471406,-3.280016119345092,-2.8126313982042213,-3.0294180854896915,-3.0938605354735564,-3.0840295080777977,-2.5208009234077657,-3.2427857350637694,-2.4638578149151584,-3.236776462590388,-2.8452259391007964,-3.4559381403356717,-3.2275000227147324,-3.0011120452141,-3.537561223729689,-3.0522467872172783,-2.966535937229537,-2.9575125348668756,-3.068891393855619,-2.778964537497213,-3.09144904135805,-3.2315809912610156,-2.017598237529345,-2.500084472447277,-2.694480026689856,-2.581375859341012,-3.015419897302092,-3.2595815382427062,-3.1262071000459777,-3.07436734157346,-3.237732993021197,-3.2136945774728147,-3.283769953469207,-3.3340051200694134,-3.529184272782487,-2.8217353955166153,-3.1460653285882962,-2.6998168014633492,-2.6835578555881803,-3.049685745537129,-3.116232508888956,-2.729431961349839,-3.4151158999047055,-3.0321313607776723,-2.815034870434573,-3.2691441708162223,-3.2548325282292154,-2.9112083572564273,-3.2673616603710194,-2.8801678235437294,-3.2170288539219953,-2.655678529681346,-2.915412480114565,-3.3240065869788786,-3.061484706853154,-2.885713115204279,-3.2852750304158036,-3.163489468170912,-3.164453855796882,-2.838918705699065,-3.2763491731583017,-2.923176705055809,-2.9429219949416243,-3.6661898262639703,-3.3479973461027974,-2.5311770155797966,-3.0643321169565247,-3.182553561131254,-3.078624658839182,-2.7934368874311417,-2.7552919857453055,-2.8148073321017506,-2.409226612771473,-2.454458293730145,-2.8733671444226765,-2.8565543022939615,-2.5258130097778064,-2.8379320506859465,-2.4934600238252678,-2.5625015050173836,-2.93441730875508,-2.792373763789808,-2.9026461303766418,-3.1396148071705916,-3.196348092875308,-2.8687000325081975,-3.192959043912797,-2.9457520052882664,-2.974937679060666,-2.918806382775287,-2.391920473543678,-2.920636250321518,-3.2584196325082537,-2.2128295400711444,-2.324545627111135,-3.178078995338648,-3.0559929346652197,-3.1486239788398755,-3.2030149848214293,-2.9794327425758063,-3.2326534476754993,-3.06849417983506,-3.088125312021784,-2.751780349150927,-2.7972339305934852,-2.5873351396183892,-2.769420363083505,-2.191057488412408,-2.6865854428833664,-2.462455604923303,-3.0027673197852387,-2.423382901239041,-3.8084106236125486,-3.042933609040574,-3.2656630456365257,-3.373859804818885,-3.1763418446970526,-3.1978640816804003,-3.264838660727161,-3.0782701053115638,-2.860546220974161,-2.8686646265769618,-2.838681668485311,-3.377381772550031,-2.900220570723903,-2.9863720481282705,-3.7523486899829877,-2.8400886708582327,-2.840218182187833,-2.5202767295933732,-2.7960099534432103,-3.0028725344479135,-3.016954510330784,-2.9377487208867983,-2.587601146928588,-3.707646775779825,-3.365054065501507,-3.3164550622499114,-3.211851930907102,-2.892896565793631,-3.5022128959060943,-3.257972612331063,-3.319758030617969,-2.842054807651582,-2.9693783898065647,-2.91250797244221,-3.3880699266346,-2.6994295526585006,-2.950029692746323,-2.5576394884527396,-3.147686603485976,-2.6686771205325357,-3.12932977225719,-3.0021624998556504,-2.84510932744859,-2.8466874975420886,-2.667187131670641,-2.272635360091943,-3.4880891610583866,-2.897586767289546,-3.352580302689468,-3.1393787049236543,-3.0699554898610835,-2.8056109449982145,-3.02625588346584,-2.8208723669874836,-2.835552549331279,-2.506416728013061,-2.8500676325280914,-3.1569860960215905,-3.191534660912847,-2.39739590542705,-2.9244653747883937,-2.672567507690381,-3.151031943736001,-3.248256127937797,-2.7058015781483213,-2.9220414329346944,-2.827914949884935,-2.8179236768461315,-3.4566743163521494,-3.2819752080283706,-2.8981201952926696,-3.3617558377916623,-2.584134090360134,-2.5058281045728563,-2.810577710812826,-2.9212957516551796,-3.0749248198488175,-3.529317322748998,-2.972552921582082,-2.847630438385302,-3.3431712557987403,-3.3048509411472935,-3.0791906709940022,-2.9454718378560116,-2.7788585840848157,-2.8776957886423986,-2.7040391566264894,-1.919613375183122,-2.810951321474789,-3.598893090111485,-2.602688566310782,-3.523351912780967,-2.990017413228159,-2.9888004464041593,-3.666128130766868,-3.39297050450973,-3.3861235644398207,-3.125723946017775,-2.616462723879337,-3.562958356795569,-3.3493995535894463,-2.084736082102701,-3.4873543512366965,-3.4168120628434657,-3.229090500363359,-3.136172132690806,-2.8107286821195565,-2.2591277897062234,-2.285816781235905,-3.2005804828617457,-3.120241934763115,-3.3452818234154016,-3.0826935387813883,-2.573566895670119,-3.4619486807207203,-3.137471475637902,-2.856950067675502,-2.681207206201755,-2.8615559285686842,-3.199649581791874,-2.5122710917363804,-2.8238110077870893,-2.6578629632406034,-2.489596167588598,-2.824864756445134,-2.1710708338731237,-2.5002232587105375,-3.0358730502421807,-3.197225045178577,-2.875096550035547,-3.509955606784594,-3.080797991491451,-2.5551011618225203,-3.2698759187399133,-2.8325568240135865,-3.2068474790162362,-3.1842520378238923,-2.864690827363308,-3.153305782994206,-2.9010915932370196,-3.0604660461054927,-2.7990492250321637,-2.474754747418018,-3.0959869966020683,-2.3008300747626933,-3.0236595622176274,-2.93377546812399,-2.9034285494343237,-3.2347753733700664,-3.6537984054840997,-2.802455787505295,-3.4870656362485946,-3.4123737778530376,-3.165482171626035,-2.9889453354978386,-3.612713625842833,-2.650600496563637,-3.457422978085006,-3.170897528889622,-2.6074972572288146,-2.702406706413278,-2.5731935430820734,-2.2258850637110115,-2.723948229802069,-2.4018969835876725,-2.0185747112477657,-2.9572106430372287,-3.055350830131257,-3.4987338465605298,-3.141258969149632,-2.4909907668083164,-3.379229706935174,-3.304408718591173,-3.5124627226815015,-2.720408054235328,-3.2592655545754567,-2.8253050137757825,-2.6842734275973434,-2.297222212506515,-2.697489533251783,-3.116933044098804,-3.084014118775144,-3.0513747447118362,-3.113660854064264,-2.1427440819535484,-2.464220314088031,-3.2741660563088395,-3.3681846896795236,-3.29083001517267,-2.6592478391155367,-2.560519909200888,-2.922682945441352,-3.1679434113119456,-2.586113151908574,-3.2297221530992495,-3.1248657232581607,-3.08467138327277,-3.404699829241025,-3.8264660598944857,-2.9022412101614776,-3.4962253312520417,-3.2544462040661983,-2.9868740595252454,-3.189261386057453,-3.343596743018356,-3.4941035326915326,-2.983872667147729,-3.5306101332523596,-3.101167131548543,-2.8803123544099947,-3.2386989386696037,-3.336145281091749,-2.5197203078621406,-3.065030707625912,-3.1152431974385166,-3.1802482540319907,-2.675509833631633,-3.092636186510134,-2.7663299865870847,-2.898125024385717,-3.1199174432933603,-3.3162858373446085,-3.2738562252212873,-2.542306836144398,-3.3450497340655865,-2.619394918717905,-3.4025399164659014,-3.2211890470850726,-3.6774297794349557,-3.078827075507043,-2.9045722668308294,-2.483460409263124,-2.819921188164116,-3.135320942295831,-2.8531575313737783,-2.9145054518384867,-2.5999510693565604,-2.969273738998666,-2.868665068478414,-2.3168559476415993,-2.962010334734096,-3.1709473358946454,-3.5178138119536264,-3.17220482045337,-2.713520716609146,-2.3003305410568657,-2.7289871299545716,-2.763135554256042,-3.207569861099156,-2.422480382490118,-3.008736572769223,-2.8832206905324362,-2.538780551233099,-2.6706561863821356,-3.0738097575723238,-2.837627928476568,-2.9386204125081576,-2.820094178020721,-2.5601099142769,-3.2295032593374025,-2.9166614997423395,-2.8056822407295066,-2.88333505258532,-2.9491824138418608,-2.732827076451482,-3.456908328847579,-3.08017531646696,-2.82733849729021,-2.225374907217212,-3.0882828093199386,-3.0770810436366034,-2.979423180751244,-2.5094318187360507,-2.923475026295147,-2.9648650457616483,-2.7448050213384647,-3.213950840917029,-3.105300805807051,-3.217386492605087,-3.71583243430943,-3.094478564354752,-3.359198264704748,-2.9159514124562698,-2.801913849324592,-2.988605608905253,-2.940672767923708,-2.730064353575866,-3.1486980930434,-2.3980874253464464,-2.572697834881577,-2.7164304565458544,-2.096454727511958,-2.737928043634703,-3.256894460761192,-2.7775568032426854,-3.2739709445095784,-2.927661156519619,-2.9238641959810145,-2.940508047153674,-3.133397180112677,-2.7875087120600703,-3.2947285370932313,-3.1909508928944916,-3.1428628322477863,-2.2496083582795237,-2.80272110178446,-2.796123082769899,-3.262530538918991,-3.0023405902264635,-2.737911444154136,-2.640900540634476,-2.767344812263115,-3.251927055532395,-3.2972306643809084,-3.020954804822452,-3.2462400128587667,-2.603174268110024,-2.078966368607741,-2.6409966134001372,-3.4095931189328397,-2.590261167310551,-2.7757578749028653,-2.6005996945160597,-3.033935190302973,-3.3887117468007126,-2.9510635231074964,-3.4092184882829173,-3.5992855636916623,-3.11616532548193,-3.200632681224718,-3.1278614930696627,-3.044399615150059,-3.425430014072436,-3.0244264670984187,-3.0045467337615754,-3.1300927906852856,-3.1491804753746706,-2.7671535482694267,-2.5530467549662994,-2.5134300411697517,-2.5395332645165887,-3.0372417211850085,-2.6898379039734444,-3.170041831007108,-2.8866094717092388,-3.080617170657707,-3.0789096168911847,-2.889446463881111,-3.3341239190112084,-2.7563442443088633,-3.185871868538893,-3.283458677125271,-2.935984374243283,-2.5778975612198067,-3.145825724736657,-2.8868381394774474,-3.0256033445067594,-2.7560567842675248,-2.9058950311622347,-2.829713547858937,-2.96950667005612,-2.9971947973226705,-2.6954368297316798,-3.311252737859494,-2.7700456369141264,-3.045938492298788,-2.8960576117048085,-3.391551186828675,-2.8030982637967696,-3.113740592691709,-2.9603357853169534,-2.7794898702491473,-1.7967893261982653,-2.8745706325468277,-2.719483028406085,-2.8504409223093923,-2.5508750902808117,-3.333821115605055,-2.9805448966016037,-3.266901135271752,-3.336927320156498,-3.4326060329308525,-3.0678591384871297,-2.9102453311659,-2.8414549003437237,-3.150834041091791,-2.8809483581348196,-2.5113853652150517,-3.0178637593378177,-3.269161339297092,-3.2449522092190044,-2.975028191520323,-2.8450515829254392,-2.495573870070306,-2.710177494766093,-2.731366612492419,-3.668792413698103,-2.6148226325921797,-2.6036930293579665,-2.8213409431910996,-3.1326346145296675,-2.6191331748239186,-3.1736848184722923,-3.0659449451187797,-3.144695176769762,-3.4729350035588737,-2.8322760228631303,-3.4281830553175396,-2.9941583542897057,-3.423987158867906,-2.847513742074252,-3.0518722470421267,-3.6570898957573768,-3.6655996243515894,-2.9867351639047612,-2.45511343794961,-2.8421785816642924,-2.893016703676338,-3.2709536776680395,-3.0440916884837392,-2.9403311403443446,-3.0271628771403094,-2.757014759200235,-2.5617323830997023,-3.004073933417285,-3.1979015894640206,-2.9473754249125435,-3.380801460848229,-3.177038142881944,-2.916881013392384,-2.2064915898679125,-2.5676349910720013,-3.177181561232917,-3.2463880513329073,-2.957551556364784,-2.6598391017077105,-2.8290973998699087,-2.5173154477370794,-3.265899403838347,-2.61795693301557,-2.9821685948729844,-2.879151932043044,-2.705600757971933,-2.653985930994839,-2.6386425768557586,-3.095110303533616,-2.7081699334267775,-2.665367433215895,-3.372726936111338,-3.408380062256523,-2.9370176681015856,-2.593479003731318,-3.5641074904662062,-2.872614249711365,-2.881019609418395,-3.445794804605402,-2.5381454592869233,-3.025330276216202,-3.8464090171394094,-2.8618387593617847,-3.4261974856958304,-2.9218306038757973,-3.2140699745479075,-3.184708247831736,-2.5711112359164083,-2.7047511077805773,-2.6041053939506114,-3.149306230207941,-3.297689120076523,-3.294039680381374,-2.9162879687801784,-2.825127205165739,-3.006670351521535,-2.988898610393324,-2.918337237820541,-3.140430480790336,-3.025992890789759,-2.9909434726939494,-3.118448067574082,-2.530364557593323,-3.5101050649993724,-2.7994021421228403,-2.569854285735939,-2.9494427320092846,-3.1211596522643,-2.7585195555947166,-2.7230819924761285,-3.165932230593544,-2.684150411939065,-3.238149082939252,-3.112619429212561,-3.3023668387162637,-3.4191549389924596,-2.649519856610933,-3.1939604621671407,-2.9057682185511453,-2.5808373196104952,-2.4024836441466917,-2.5871719741912678,-3.1643794394067264,-2.779607008090778,-2.5733515325768863,-2.7211787920646806,-2.4612248416403624,-2.6827498900701805,-3.1850052564338114,-2.9286599093555132,-2.8798046921579363,-3.0904565338996584,-2.8139362179271075,-2.3035420851175594,-3.156495274592139,-2.917364063906799,-2.501635576857371,-3.0071534781077496,-3.1677427731560286,-2.841241410380988,-2.9500569205181293,-3.3830029722647943,-3.2378592575861163,-2.170578125021276,-2.8115785251099226,-2.9160325124883464,-3.078028844303045,-2.6627485308322143,-2.969783743885973,-2.5851517053598343,-2.8836222683956265,-3.3003097462389377,-3.279540576111131,-3.3937083802958696,-3.201748309182861,-3.2434702052315885,-3.6452337418580143,-2.9451961530287676,-3.059061553995118,-3.2209848008636364,-2.9785843162896164,-2.8667291809910473,-2.818971064477015,-3.055752559611488,-2.9042298548187837,-2.9010984122908,-2.601181935170029,-2.749468653708611,-3.387292793699224,-3.7424725151873144,-2.629609114994004,-2.81135916347964,-2.8870105475596013,-3.044576255491968,-3.4600617824443063,-3.137678527637746,-2.871448923171787,-3.0096765168796615,-2.549386428445846,-3.0436930425199407,-2.8923044154362643,-3.13442905400996,-2.8909736598840716,-3.5876189442546114,-2.8927660715391355,-3.0110331469638787,-2.9343618628058934,-3.61342565341954,-3.0438770536738105,-2.902815518004221,-2.4934867468285873,-2.7331014703958694,-2.396299903978452,-3.0265207329217887,-3.005676441407992,-2.410047655173585,-2.8066330641228525,-2.501963611581939,-3.640292150637517,-2.6671380599955015,-3.341119297922763,-3.089883680620506,-3.5723514482746452,-3.255904130536898,-3.6247273979481314,-3.3372403627518885,-2.9926876234051107,-2.7783893713701637,-3.111914218256125,-2.849034254177109,-2.8901034623363415,-2.7309112491010588,-3.082686820611219,-2.389233346030583,-2.8425161714535285,-2.7778080841083757,-2.8043251917622207,-3.373865491641265,-2.8027984710483835,-3.3154827654029475,-2.7361488493403705,-3.5104368071545906,-2.6847153153833716,-3.5717413064108534,-4.095553125575076,-2.555379978246897,-2.7975052968516785,-3.0841118145511643,-3.3381165358034472,-3.2972342083240953,-2.731269919022459,-3.05885351876638,-2.692826096155809,-2.77709379933842,-2.561632613201926,-2.6729579550936933,-2.9382740781878667,-3.3136714293728495,-3.0968026889224376,-2.816901872591057,-2.44364503498819,-2.6752965825969284,-3.0648026753420083,-3.256594058958534,-3.3568368658839596,-3.298679577701982,-2.4140704928070065,-2.9181161970760954,-2.8832489720881433,-2.563304221920358,-3.244277008673759,-3.017656923782564,-2.4318245392788356,-2.610082960842231,-2.8599978679907743,-3.2184642904240874,-2.887563823685955,-3.0531729552448326,-2.59953568251888,-2.739073213230217,-2.668826471824861,-2.8933431450962104,-3.0470158491538655,-2.677014060230949,-3.136517223298778,-2.6655357798652766,-2.758890920055453,-3.0120615575465024,-2.561590802779424,-3.094517322004311,-2.7880890063377457,-2.829701690732872,-2.850591473722826,-2.9561068866047613,-2.790400890213771,-2.738128698444349,-3.0868387285688286,-3.2816092129456216,-3.035563336495482,-3.4252655218871375,-2.451317321522694,-3.283119389632592,-3.091941489673019,-3.7740055582107193,-2.9763569737100752,-2.9964581204037515,-3.327688033299335,-2.722815177187563,-2.418088556468234,-2.7692144720797103,-2.5301147377618314,-2.6623724073120236,-2.2901131253456164,-3.2612561033611662,-3.3323706112317666,-3.219450471674431,-3.1103166639833653,-2.981450011791047,-3.2021301218697005,-3.3328491574635635,-2.7895898538230064,-2.932045521246181,-3.1080715591466195,-2.9675213914707186,-2.5454865101279864,-2.1742819863237948,-2.7997401727338236,-3.197982610923358,-3.2638994352679696,-3.130494852907166,-2.973614398233103,-2.555551293147694,-2.4520415351482754,-3.2189997686307876,-3.3461628680561795,-2.9427303997884096,-2.941476239452218,-2.7622114520922985,-2.6825537762611624,-2.8189486922146223,-3.1573412735009683,-3.195292016833985,-2.9656039122070688,-2.9733768753036323,-3.0443918780628643,-2.970871530388056,-3.0301999547581495,-3.0986782825110133,-3.414779340787611,-3.4453033593037006,-3.577544658425058,-2.9179015829524353,-2.898274858595947,-3.395892791790093,-3.0913330405571564,-3.1185967899100753,-2.9955464495573274,-2.507971084647263,-2.487887529767388,-3.276312890419252,-2.789932403049743,-3.0461803971762365,-3.3661890971414543,-3.614748209932948,-3.3546658150442,-3.0645912391621657,-2.956997197414996,-2.982248405671978,-3.118850228353214,-2.780430360640935,-2.925126412659118,-3.1058057495171774,-3.3545944114185424,-3.162370898051048,-2.3758207048615816,-3.1585092028570543,-2.9266766715731585,-3.007246096880131,-3.160985111492888,-3.0884840700670573,-1.980562425571776,-2.9164207697008138,-2.3046536097101757,-2.706589101997693,-2.9824821510393384,-3.0003975358527057,-2.6113905600220733,-3.5559922174974083,-2.9552944133954533,-3.140319591745911,-2.9927759300998993,-2.6397076334029776,-2.7426844069353926,-2.4568789892495033,-2.8652737069216627,-2.983170794122522,-2.590634466128595,-2.611597879750949,-2.5316288858584386,-2.708507043596736,-2.63612271227262,-3.4147197902759885,-2.9061825223661337,-3.0370399662649064,-3.1564062352598583,-2.7200301847231003,-3.4353437716469877,-2.8674045762717704,-2.7054851804406326,-3.1271359158913796,-3.380855701840428,-3.31270051740713,-2.829172923024341,-3.2698489739653347,-3.2362951607451294,-2.6019598545009366,-3.5000230290105954,-2.827880417397399,-2.4661356090386946,-2.7916476404554658,-2.5265053393268637,-2.639979713710936,-2.889185176310882,-2.789782880010538,-3.7998714952513293,-2.8811609718570175,-3.1414278478783153,-3.645443222444868,-3.2432274678749664,-2.943761177400418,-2.56741171644169,-2.7515391106389124,-3.2485654061972866,-3.062917887620145,-2.6502370532894197,-2.53291674294249,-2.751409879131387,-2.8238007906775415,-2.614367154996174,-3.1549349433494775,-3.0451979163403706,-2.855808913986973,-2.9145022669920877,-2.3728270641259037,-2.7044419594489604,-3.158127911947581,-3.1828556376103982,-3.0232381294269004,-3.742357322024464,-3.1729583373514494,-3.0055096093826954,-2.43782149826146,-2.573114671154812,-2.822587561489801,-3.1020325803594737,-2.8385231871004386,-3.1442413160705414,-2.1810840800701072,-2.89880212892659,-3.4098319125444014,-2.9840252951990998,-3.2324753458298794,-3.061382698714585,-3.1282664157165065,-2.2902186617042304,-2.8154710541010957,-2.930690094133947,-3.0262184880737166,-3.317955703228513,-2.7773013054769713,-3.2521248477587967,-3.264953074245504,-3.0857151468302852,-3.274573985389466,-3.1643733451593192,-3.1130702764433025,-3.2956701332051423,-2.7061212684532983,-3.0158815154669405,-3.247869164914352,-3.2557729891824856,-3.158040222469822,-3.5081667920766506,-2.5732448782436137,-3.2443752909417825,-2.900258100230154,-2.5511975967469915,-2.6966604844953928,-2.808985396191936,-3.1015745524653298,-2.329396248120549,-2.9238396418316057,-2.712835269934292,-3.3408802658532615,-3.0069540420425547,-3.524712137510324,-3.652677307765977,-2.918601771967328,-2.6420316997354085,-2.9223482269437433,-2.579005397973237,-2.700238175005744,-2.8429523984142584,-3.2184040996219316,-2.688073329328841,-2.836986885118609,-3.055549244707116,-2.698826708417183,-2.974894666449959,-3.423756707582161,-3.1285474784524894,-2.650192334232642,-2.6059540575341984,-2.834019392111074,-2.9497232066700825,-2.9691559390790054,-3.276561557253597,-3.193919452612782,-2.5582541512765538,-2.3949655315607252,-2.4405134988454407,-2.91254484085189,-2.181959271888431,-2.4686074294005564,-2.748263400704399,-2.642189978494052,-2.9167543830229654,-3.5160976567552105,-2.61385194854579,-2.868880396995909,-2.9175400975279864,-2.8490604001811413,-3.0726510966938214,-3.1250163943709595,-2.5850383985268692,-2.8448484671185703,-3.1467143617951336,-2.811354344808528,-3.414943130502973,-3.4665010849950697,-3.418519753302686,-2.86818359872548,-3.257640256553916,-2.949048312941269,-3.4385688516528177,-2.8012547741888554,-2.526895922196328,-3.1333073847999025,-2.8335352358373314,-3.19421765565097,-3.628225256652744,-3.029764788000673,-3.161045726342774,-3.4322789206788222,-3.819697620527881,-3.528933608479317,-3.33442358587558,-3.0472681459381334,-2.926737867601428,-3.447592579396936,-2.999903361586572,-2.841625198908506,-2.3537643199097396,-3.0298215302568394,-2.8557723299414803,-3.0023492595607486,-2.792693089448491,-2.8255574715525817,-2.9844511245322316,-2.4672923518472274,-2.9455158716935337,-3.2737302800085466,-3.3543358831726593,-2.8912854423714087,-3.1371195385281894,-3.190774900975679,-3.0965434432593,-2.6403016343146426,-3.003504949333543,-2.4370493079081434,-3.2920394639812294,-3.0800842589171644,-3.2733999953964066,-2.5337435618264017,-2.9469852361723703,-2.650483219182153,-3.0087736673102654,-3.1716807580135935,-3.133196358348396,-2.478542699021272,-2.8432532041796676,-2.954235006517756,-2.980681635221405,-3.1937655975629085,-2.734760165108046,-2.7368069961526515,-3.4385274974937126,-3.6006836250378313,-2.6877448695423354,-3.2517950094219294,-3.368360925979122,-3.0951306557244322,-3.350923425623769,-3.0078249658236444,-2.9787098481241614,-2.8999366628294183,-3.1718272673554395,-3.36824761322989,-3.34061412598534,-3.1404193628915777,-2.8536829911369317,-2.968986278602088,-2.682331893714494,-2.589475471763823,-2.5829744299229596,-2.453760590461915,-3.0706613526695463,-3.4725756800086742,-2.7285478566216455,-3.4680854380399815,-2.7944894100554087,-2.960406043279999,-3.1368066480675623,-3.1924119289108397,-3.086546806135278,-3.027490247515125,-2.510355305233386,-2.986606661158831,-3.301093235140563,-2.9559065267640783,-2.6959669186722124,-2.8651172380414067,-3.150032922586032,-2.5437653996379836,-3.329917949946111,-3.4815558415632353,-2.881303031837014,-2.8684662232491362,-3.152033853609776,-2.9004041052978238,-3.1066886597639574,-3.18732803595098,-2.752330041584951,-2.413282317468532,-3.0692946883514125,-2.3695710408682054,-2.5680168133348467,-2.9384192568783583,-2.913957836150942,-2.8121783283811936,-2.9810250062694337,-2.7592286833402646,-3.112440596208188,-3.0206384676561555,-2.8184840375588713,-2.786579858241751,-3.000576657390919,-2.898269830290758,-2.8932777387119586,-3.06306963970405,-2.733412344491054,-3.2458288657352554,-3.4886690110755225,-3.057648908879816,-3.3188682538448653,-3.5569792935132014,-2.5828674530723674,-3.4351138983115312,-2.6947020295502817,-3.256698965514552,-3.3716920911116937,-3.0272390154644384,-2.578089240559045,-2.817957033422836,-2.8351168554527995,-2.8808029173250347,-3.028709063657452,-3.3960614615929217,-2.774235196205222,-2.690193590936321,-2.941226077133308,-2.833701948633312,-2.5809177301035007,-3.019376328695529,-3.12575532902547,-2.884781186436097,-2.656418880013895,-2.7933049111014725,-2.6695461654740065,-2.5063495356893952,-2.680795775403439,-2.642617509937235,-2.828298784527604,-3.0808763470263614,-2.8761366545823783,-2.6860630337903295,-3.0198061098787043,-3.005063090305992,-3.1234018961667545,-3.464337836173211,-2.700420197316557,-2.87724703315153,-2.7666272345562355,-2.6496432341181304,-3.1793146592448345,-2.625237489604423,-3.033929902237574,-3.0502518583751446,-2.950304528323386,-2.615095122580165,-2.483932550289918,-2.9853526570004085,-2.886777470450003,-3.109718380772172,-3.564975697701847,-2.605101008321455,-2.3815981267826984,-2.5557136991018297,-2.964363568399513,-2.762452781244498,-2.805533778534606,-3.283679638929879,-3.072598934183919,-3.4227086889223735,-2.625149291353406,-3.1483821435495436,-3.1710128919024,-2.980702289060151,-3.9692023691103717,-2.879267602141269,-3.3236482835704386,-3.2976865152203843,-3.256214676853279,-3.119505458088284,-3.424684679270701,-2.9037822989081583,-2.7022419154834623,-2.7427567762476848,-2.631420086936288,-2.0812153374764613,-3.1352644652992723,-2.6374544636508936,-3.017706154610458,-2.4869061673594643,-2.8220326555569457,-3.182136352912387,-3.0610074083689547,-3.2924155441482448,-2.999702565531191,-2.7636774727279665,-2.706395144033742,-3.5690979900541606,-2.932769440118207,-2.880911540456758,-3.3302232331274517,-2.8081031252619013,-2.6201564111732054,-2.976180511140715,-2.8851925528845292,-2.995766963387311,-2.5561751240873285,-2.66293403036477,-2.8848858520177636,-3.920510899768752,-2.7313871714625897,-2.9763696088562313,-2.7644015569638682,-3.063732786385753,-2.9039836945659943,-2.853123852511711,-2.847287716655856,-2.420165317251662,-2.727369111345979,-2.202052479032538,-2.665321918401194,-2.6174401782103693,-2.340981797972919,-2.960643405644017,-2.512662765143663,-3.418863925217952,-3.342945482689583,-2.965848275364472,-2.391617036049876,-1.9671214777119097,-3.2647803388279755,-2.748028373405912,-2.7659612731951064,-3.0590940613662134,-3.5102230396850302,-3.4241644061720073,-3.297455746007511,-3.183893830841228,-2.945371339320843,-3.164823215923146,-2.641322344174384,-3.4315611645596533,-2.5509874555630176,-2.9420415226123957,-2.796225630802045,-2.888219360182216,-3.1018861054906175,-3.1949478901448174,-3.3530107247816794,-3.249236035203058,-3.1348193100395143,-2.1995778816513116,-3.5121954128850135,-2.7947092766586117,-2.9497320009545156,-2.8829025001476296,-2.9668047338959447,-2.3623024691409036,-2.3948666791276807,-3.0033532401588303,-2.3990341203454157,-2.4010550333866583,-2.2406494287584486,-2.4230780262117584,-2.9879382067434896,-2.9801944988502456,-2.990742926524579,-2.6875595728268635,-3.593248578599507,-2.965928600076907,-3.460231247716518,-3.2974870636146356,-3.0813857053905664,-2.968826385809436,-2.875443469793666,-2.545653992659286,-2.5679571196464117,-2.9368561375362496,-3.192410458758655,-2.7579638675439995,-3.035779425876477,-2.6716773603580037,-2.304544517212687,-3.4042785467589454,-3.2926041810565287,-3.1247935292311304,-2.707381830118706,-2.526483670846776,-2.690870729433019,-2.9812583817771277,-2.4828032617279625,-2.6256593649236812,-2.660847326965154,-2.509038454718013,-2.9324663133925704,-2.8239334390397595,-3.5754483678965734,-3.1599386406273204,-3.341926834667163,-3.479184206022367,-3.1752770332681877,-3.233673267764811,-2.964758054485504,-3.32489013737683,-2.9058424888201735,-2.81319816287931,-2.868317617174423,-2.8620193294740055,-2.532046177355994,-2.6544383516465615,-2.4345480184063177,-3.209110628579406,-3.049754878392619,-2.2681167244074274,-3.1608008581706066,-3.1943195325859826,-2.389914791743454,-3.311602755918475,-3.080705277554191,-3.0021366134069503,-2.8599425525775253,-2.970383313974075,-2.624360012594746,-2.9586579336743917,-3.0484228191709697,-3.1235089781230307,-3.1582067285891497,-2.6539018399860304,-2.829393440537416,-2.397191110496834,-2.8092937545866477,-2.9886004483744593,-2.918958482761848,-2.562185324636566,-2.9164943281476745,-3.4511104471458616,-2.8878959055019067,-3.3344384606470783,-2.9819643036701216,-3.1610765427092318,-2.910035602037855,-2.6483149311893115,-3.040381181716505,-2.660670128576175,-2.6454644954414768,-2.4312670412343316,-3.0065359432686733,-2.293907425828234,-2.8558420411470777,-3.142534320492068,-2.737555775946433,-2.9166416426794477,-2.7710696355875726,-3.0094082837067546,-2.7550579726559654,-3.0728093236048046,-3.1959106093040077,-2.7792456314327687,-2.9004660253801084,-2.910608890521349,-2.9833756887952525,-3.238102004776156,-2.569157146844514,-2.8861868869279483,-2.3332231685092246,-2.159613765591388,-3.1097760193731574,-3.23391097843837,-3.0334794521861177,-2.651139003656457,-2.42286308115953,-3.1627276727864917,-3.2208329135602973,-3.081741879756894,-3.1383121890846866,-2.7692259461779436,-3.0208008409886027,-3.219878971903782,-3.601098528901133,-2.797687015725515,-3.401770194170595,-2.707541185229669,-3.578313318693148,-2.4033623601905845,-2.9563691701839794,-2.3435867739959377,-2.3909541583596905,-3.0808737237670627,-2.7412589438899033,-2.940268678480777,-2.577227680090459,-3.3237726593280534,-2.4776176716202336,-2.920225307115743,-3.3742085973566027,-3.4896764240365385,-2.922645089380893,-3.0633417751507537,-3.066106165561827,-2.816573014078134,-2.4211538297853927,-2.773621725051349,-2.908909334598359,-2.613465996648987,-3.3169681017715575,-3.304713804794634,-3.2545334206363776,-2.9561262646029682,-2.8925172128873733,-3.325204959446193,-3.3054261420365876,-3.150720606334051,-2.6593883414058297,-2.8842545335757848,-2.624029090058219,-3.0810854743172413,-3.3313977667404444,-2.6595477430207666,-2.8864295140759175,-2.6218383964838736,-3.1869241504581503,-3.31296117219771,-2.736536995109507,-2.718781109253012,-3.470746142787437,-3.094709488904428,-3.3683721145275918,-3.378479170020924,-2.9465074504025033,-3.478539386574276,-2.955594125721799,-2.73751250560332,-3.043753371505904,-3.050651028646321,-2.6646739456922965,-2.253199882329973,-2.9118346208047967,-3.038922248853993,-2.885598707437829,-3.2368386140008987,-3.027468446167468,-2.3871631308912207,-2.668819569321581,-3.054685388378129,-3.106882095911459,-3.092973308768734,-2.598549092927918,-3.4133958083749043,-2.706278913035444,-2.625831772583144,-2.8053787118540363,-2.726699313688222,-3.2458743112341253,-3.0210307944528765,-2.647399050825541,-2.556080020675079,-2.749932609471223,-3.1687627593264303,-2.882940404575905,-3.595316331831384,-2.4855181844794423,-3.0013014306408934,-3.1407045319908313,-2.940178516943533,-2.813330273905276,-3.4934344750144675,-3.10915642702399,-2.8606249661401115,-3.1505056423730338,-2.571633227973958,-2.8012267176967782,-2.697902519092704,-2.663257008570792,-2.9247510745030603,-2.3711609060552945,-2.4995386591115505,-3.2334390198954672,-3.353434762126401,-3.154119909106729,-2.831490216326344,-2.9822322317363152,-2.0731702137652164,-3.023778286387383,-2.7229463624196306,-2.7385700852086927,-3.314490032768191,-3.4173001739645343,-2.830074420021351,-2.6950820633903945,-2.7851082008613304,-3.1691531348155273,-2.8879316758557323,-3.3256725170488046,-3.1249448158339206,-2.7325599681711488,-3.238538395254526,-2.735533451096593,-3.331527994931669,-3.0692111623356233,-3.5998260118500838,-3.149003318876744,-2.960983512948527,-3.5747325915147883,-3.649534964800715,-3.2522899705008292,-3.044130070274896,-3.171316964755693,-2.8812158561277954,-3.1218641245554117,-2.89514808823947,-2.976347725285436,-2.7555722584717692,-2.8568795982157518,-2.726648530111948,-2.238864577063655,-2.6656269916426716,-3.407267317748765,-3.3786142291654393,-2.7836974758796167,-2.439871246858935,-2.810102559979672,-3.2986424008523016,-3.7783821024888287,-2.865509319166648,-3.0770043685002015,-3.112408745156209,-2.870373002870288,-3.354446733162394,-2.6278861353080245,-3.2176939262250137,-3.0199202757337176,-2.9566816592653495,-2.6302643668243597,-3.0270451622176573,-3.1146724151497693,-2.7474598270448425,-2.7658121025629505,-2.8672031716123776,-2.8183990211700554,-2.5683669798757975,-2.2425214093492833,-2.6963566106506676,-2.9469661939073006,-3.119558759243059,-2.897216978728075,-2.548127385438285,-3.163060756668731,-2.9203699433111296,-2.672818573368062,-3.51866656919292,-3.1999744317856056,-2.9004769267979285,-3.515691002805255,-3.2127350586573478,-2.5988763515187543,-2.557375582020544,-2.775598024714,-3.057339264410931,-2.8759841689944388,-3.181951214463041,-2.227938438128536,-2.5257694691414727,-2.1212595634890334,-2.8353544498040897,-3.4199231659840414,-3.126193813829392,-3.0399520468490415,-2.715753408182316,-2.9713956442158995,-3.550923538376459,-3.478410615367519,-3.4533290134805625,-3.2838250566382037,-2.7367819693211075,-3.1607973041283657,-2.7884941386511493,-2.5791551387833316,-2.813835295582333,-3.3020610269744672,-3.4806577225882656,-2.6997155698954636,-2.9625090530812095,-3.050127381170679,-2.276206000426349,-2.9649876336465333,-3.220195285941479,-2.734988078483145,-3.5973345266071846,-3.00217583389016,-3.178280139961874,-3.227732989942666,-2.796538974744056,-3.0475626603395476,-3.015578214865851,-2.8794483514139664,-2.5482529414884105,-2.4043286796073886,-2.7038047353591566,-3.244434960956287,-3.1363974097344958,-2.514928440582743,-3.1465371143362972,-3.0221231105794963,-2.5444577708212712,-2.8484108957792316,-3.195253852761013,-2.8845772432562384,-2.8171890593614464,-2.9572126916354655,-2.977798577256518,-2.958921827501932,-2.7840819795155767,-3.7067541638497374,-3.4593889824576713,-2.610891176525339,-3.4162788329069578,-2.5234243910861203,-2.9207054423188303,-3.0304543374528983,-2.775501900587461,-3.54018762237736,-2.5579134301161837,-3.0580571591448624,-3.255303704116521,-3.3256514369091583,-3.3560253934003335,-3.524462412508484,-3.1945624791838263,-3.3773458285614417,-3.5209872584569446,-3.283658352500616,-3.1426913458369974,-2.9474564231768206,-3.4369357186263194,-3.7913207578560364,-2.3924134648792013,-2.6472756439302856,-2.7391534108701947,-2.2210069036683535,-2.488330360048252,-2.710441338069188,-2.693001359768566,-3.008031988175187,-3.632274658699057,-2.7460677201333006,-2.8535626709556503,-3.1316656044371207,-3.1675956431991246,-3.1072676806004544,-3.1178559772332477,-2.8719478784998778,-2.5188816047808444,-2.876465518474923,-3.2275374936037977,-2.6505661037626673,-3.0518756156704363,-2.845166559524074,-3.1021302644693804,-3.0459448513539655,-3.1020789710951284,-3.3512814976085075,-3.017026071175586,-3.200825833707391,-3.1421652436211076,-2.8731370913839562,-2.9486567282294587,-2.7394660381217335,-2.5319544335677087,-2.916104425432618,-2.6341420875657526,-2.998614731741622,-2.610408341083236,-3.302115905483454,-3.3882731511259117,-2.9818864822189255,-3.368714938138499,-3.0281451683539515,-3.2444962825861126,-2.8385632813340287,-3.175614146264511,-2.6425360483108626,-3.297127303162231,-2.5771577683129934,-2.6068572810787316,-2.798093473679895,-2.979465200582826,-3.186692127441816,-2.177695053996054,-2.217564510379635,-2.5057620112360404,-3.3189756454886563,-2.1983813292312426,-3.3072723439677745,-2.902247304933944,-3.3346527350428374,-2.9744131075675604,-3.126343428887605,-3.562335630008441,-2.917923480557608,-3.443885873018189,-2.6894847950015226,-2.6626279087917233,-2.7493591092805296,-2.4599465763287256,-3.3795626174321036,-2.79525356153529,-3.112959176769653,-2.7262009590796197,-2.6346597360275084,-3.037283724450287,-3.156746158487117,-3.3716505201011415,-2.983655906679406,-3.265667000125834,-3.244941381897533,-2.835744093635814,-2.895735747455145,-3.013234276483118,-2.385411434397639,-2.291799952583844,-2.29507084968073,-2.6833205649647773,-2.69009007600053,-2.649320077423809,-2.501629712825487,-2.9278437905244097,-2.878950151490617,-3.1193134796785706,-2.813255210574262,-3.3364860615227734,-2.8241363406265627,-3.539512926234565,-2.39956537969584,-2.3008759568835373,-2.9624421062301884,-3.2342815439982893,-2.803556309978493,-3.3795804990782514,-3.305155422037867,-2.965541427344,-2.9890789096410586,-2.974166128656691,-2.9904239372286163,-2.5939649009418453,-2.7365607130203244,-2.9754673053005227,-3.227723564197543,-2.8282771070811705,-2.4526274570446276,-2.9035272150983467,-3.0732261010756936,-2.988651963946957,-3.2954208187184157,-3.2846547768907897,-2.9212676942239,-3.5940114443787614,-3.357634558285401,-3.7943941281440434,-2.7742999708509686,-3.0414965414201305,-2.5688777862586853,-3.0683394689645986,-2.6826613598375353,-3.3101542943998155,-2.6726336892062506,-3.0075346437966353,-2.9189069054625882,-3.0654906655141545,-2.5618882472286124,-3.06541586157984,-2.9471456738266255,-2.8268404938226617,-2.849224433585338,-2.9601159826830035],\"y\":[2.5503410598878666,2.5549045527447447,2.1727815247619127,2.724900114444477,2.8921454828656934,3.4261502142046254,3.471863291508832,2.7901504855827923,3.1056382655197794,3.132013435631414,2.675295000406308,3.3487999945134774,2.753786001821922,2.852652285559021,2.675092203306882,2.6441042451278918,2.36605121002955,2.5286720803023783,3.3479462801074114,3.271254933465368,2.463292087846863,2.8092140016311866,2.9809224311388896,3.020864001180243,2.8767032967026758,2.7661553079303474,2.5416303731435086,2.540216827572614,2.977814883073723,2.911271966059669,3.3787528853966364,2.903028915662947,2.7729027287616965,3.1067502295411877,3.0524237868945576,2.8943834732775215,3.047205319821092,2.4725755892516332,3.139094527045856,3.3765923530727378,3.248799269115171,2.6873631945136367,3.2408862875336304,2.8038288824406123,3.32805794821423,3.4008397904988286,3.1438190896080442,3.2425480449814863,2.667682918252801,2.711392511956113,3.2938473373182298,2.7546636559247766,3.1952841128979657,3.395180617526851,2.5412075856972365,3.481561365522719,2.7246349956254576,3.710611792246066,2.8125539224863516,2.814522106681782,3.1375658977011796,3.3626264717717547,2.529344385522908,2.780348998776862,3.1846454392776593,3.2253551132556666,3.0414838893469565,3.0153966233518155,2.8188835411113757,2.8687735856994827,2.8723046184247387,3.161448865308845,3.013751103862468,3.4569388339535756,3.5088922950732666,3.1293428884004264,3.389221798827812,2.4757043456934404,3.512340489625693,3.0449948208007953,3.215077806929731,2.9706952633320114,2.8706017329236673,2.6413656904391125,3.174854458801825,2.9015306811101347,3.1561545031866487,2.814425635907739,2.38388426850074,3.0468528822294374,2.119228665382927,3.3126966158639917,3.586697727224081,2.5682466054705344,2.654413187519225,2.476729841795354,3.3701608562315144,3.050073744080386,2.9182207029019374,2.480057158983751,3.3276057483486525,3.043924299485216,3.0693421115161996,2.9682277923783786,3.1516324260458184,2.987339264574313,2.961794685348192,2.2024960505195565,2.3935222981680795,2.6050859061612925,2.7699744199679337,2.6351631287850843,2.6584395755567733,3.1302873754653007,3.3570313839494013,3.3800604595599566,3.1786039567371596,3.1289449634879176,3.062306499415765,3.988534539280405,2.7731462660392623,3.045406242938803,2.5281988718143857,2.847097829582186,2.6058809848278592,2.518041004467861,2.5392433306079525,2.0290081721739455,2.270483988423191,2.6284477036162706,3.6314972584039147,3.66713173712575,3.464963802092935,3.228951085323107,3.282177637230504,3.2545586517246576,3.2509958569681423,3.0096974933986544,3.0163953314950156,3.349840138598438,3.437065279337297,2.2609403461560618,2.9804569611501535,3.2071430127672755,3.6684815379055173,2.9404503043893513,2.721420785204611,2.55108286209866,3.3555143194611965,3.012173581151778,2.8457715241398738,2.885569300344258,2.3745846725226976,2.8243087000129314,2.6406092031466635,2.6722752039913473,2.778722009551654,2.7382797169293376,2.59845738484573,2.550319356743323,2.542522734217954,2.881172251479285,2.6819871594972966,2.5264814345385034,3.3399790033646077,3.3616017369007842,3.268836278925505,2.973235751678594,2.626774359668186,2.994782367726838,2.3692115281154713,3.024927616014221,2.638834812595462,2.9257845713102313,2.4614485167104476,2.7200707596074345,2.6832273314531783,2.9256614446643354,2.804427762396834,3.257052616123822,3.1749143922360332,3.082365876699246,2.803160096341138,3.3436270179534056,3.224636590197047,2.8586439548349034,3.5794838738446018,3.098888936078545,2.9582127883845573,2.7391215498227623,3.068471603897283,2.8780012516363627,3.0002311789954135,3.403638980260066,2.3926188561979096,3.4308735997801705,2.886098114073846,3.1756524450812016,3.4195498892015017,2.383448395243711,3.1186133891959855,3.4328064672208143,2.7998750969159047,3.2764759767544973,3.0576449077006487,3.505572062187042,2.691111622550693,2.9521879646670186,3.3699221244905146,2.886996951070099,3.655836345303328,2.908590310313052,3.5695048469462236,2.751517591826495,2.5329998258254562,2.787681123885207,2.942597304334953,3.1620313660737516,3.0828156631826964,3.07137466806822,2.7285448265660364,3.374146131228372,3.229680232819355,2.8624687000070743,2.5605376994599567,2.904800849220834,2.89531726998705,3.432225737634081,2.5363948937519183,2.411196101010816,2.3109772029452316,2.959044136678436,2.9828145593548925,2.4120457514866622,2.6911400376208654,3.1841127724861664,2.7441018747915606,2.589461948194728,2.7272960559356925,3.277877526406307,3.0739642201093176,3.1640251154644865,3.351855312829162,3.311639378807037,3.3329660237107674,3.445515513370932,3.1654837688483894,2.3117916587188176,2.813761709459339,3.184863711238073,2.9442473107475635,2.7281324336792707,2.459430257790398,2.5875356417552986,2.8479536810788026,3.0372103830771806,3.039819851902717,3.0182079696503763,3.128879843114092,2.833421007085896,3.1180386781512404,3.159190646698324,3.1505303151735014,2.756331776331688,2.9422580380849226,2.714837842643451,2.8375899160241715,3.363740055419484,2.7230518617019968,3.091591651913248,4.166790041206124,2.741601412868228,2.1838521087674714,3.3454027022688138,2.7880214317034486,3.0311124568408125,2.7538930376785586,2.8212598374050017,2.6075329952030835,2.4989606580855366,2.8992450907771037,3.2452595644482756,2.582595283944727,2.5149627893286883,2.669558608910144,3.0358204462835445,3.001436104330242,2.6324358512169006,2.6295472233247743,3.0071490931331866,3.1800491438686755,2.85079763539893,3.6591341630180914,2.930600091880546,2.212049165405155,2.734488308805581,2.5551369356639633,3.189278022887663,2.8375181106360436,3.0469640324716636,2.7548961230934417,2.825792390217849,3.0792351049953446,2.993266784451343,3.096985125675534,2.9078348367566598,3.118998562977982,3.0453894712403233,3.5845045829031683,2.613526275461396,2.7346127161881313,3.666269945895589,3.230083200988812,3.0701404956899943,2.925294561875454,2.9959800955945006,2.9508889179268216,3.343570567454929,2.969981966623049,2.851834499355789,2.5706451081052286,2.7704650428438775,2.8496015474957233,3.308864165729389,3.532606003788054,3.7460999318594226,2.8782206229573966,2.684739964854,3.4080465545454253,3.0778967882301735,3.461272100001949,2.90891906900319,3.3121600997373477,2.8187921640166103,2.744889290806448,2.817053039051899,2.773414213062452,3.565375238817083,3.162811214387002,2.719583161070034,2.8283290574277693,2.8814742313302517,2.9574830347917285,2.912937817261433,3.1237359444199697,3.3334271595382106,2.806763831041984,3.185071005046794,2.8620842728871416,3.1294843978774445,2.756690522369812,2.694540848696718,2.5849546553317175,2.720326459772725,2.7542545858371845,2.504269471775455,2.70698292998793,3.01023851284285,2.059248769744098,2.1188848409169942,2.777511370360596,2.467122875999163,2.8837816350661782,2.9715401309827456,2.8801576922733645,3.0034033181633326,2.6547810368733593,3.09168481231281,3.487697488450042,3.372248844931203,3.4002416718503525,2.6068191358965045,2.9244747373874986,2.873477899466458,2.600001752007003,3.301232861336043,2.7478467311021824,2.3953684456041557,2.6449790082814495,2.6508468241413574,2.0146386405700696,2.9244027045090206,2.9533228793838866,3.3153762566726748,3.5427830624667287,2.820702863479248,2.939715695216293,3.007443910513338,3.076565748904578,2.5957649175269992,2.7724739918084076,2.789014110973625,3.096321662736173,2.8552366780327,2.871311209308292,3.051924572790192,3.508173073687221,2.915296119147481,3.1367857710278173,2.9765252567553198,3.105949358664134,2.7752812444019455,2.785474414851617,2.8647159224536303,2.719781780911447,2.955043685599634,2.972072043391112,2.7836023392927416,3.032726449409971,2.97466103280329,2.6207347176485705,3.4985299377440917,2.883239537689935,2.845998741790943,2.444545112556213,2.5697844936007037,3.2759268335400336,3.4070456033336782,3.411602306739457,2.90241138238272,2.811225612761426,2.8079290141694813,2.908329345622491,3.2266158970176733,3.605253967957797,3.0327689047766313,2.3736790902337432,2.89344182467892,2.886070835134806,2.7102247436307785,2.7600545735733704,2.804177901877985,2.9890935227266624,2.8799882095667577,3.2976146522593552,2.876730182325268,2.9469682490620883,2.8806963459420736,3.233761323198671,2.9394180613276006,2.9241447727727135,3.0910868537468197,3.0117496538235287,2.7564592180248333,2.6025740848130674,2.6661142690610866,3.29929225395027,2.9916157743232787,3.3236374710679826,3.0394471269169543,2.9386193005803136,3.392623616696195,3.144187064996064,3.126057478120753,3.2325438834009788,3.2664661479602124,3.225640992686362,3.047838237527543,3.291243321640817,3.5040223469812126,2.5384043828117377,2.9517310751716828,2.7598991886359627,2.985910846627103,2.839094340200827,2.6613910887850913,2.677026953676748,2.907046715336314,3.187609178798109,3.002603703749358,2.9566748556215785,3.1103558531064053,2.7273169478972434,3.4905176350073113,2.624558918739268,3.2199092070812867,3.241108522475116,3.2789550638219893,2.7250064792001325,2.991969661974508,2.944514367055831,2.3571950877799672,2.370276283018491,2.623174353495216,3.291846267309527,2.6451190359279266,2.6441551088668227,3.1015328037015912,2.7676035416972162,2.0230063229550446,2.933772496594763,2.639767337829838,3.084185254165938,3.177409080320224,2.6371506426734257,3.2402317497436037,2.9541029814904824,3.3396874894156277,3.5054675995789886,3.1388647695514784,2.760286963171083,2.459796149727598,3.067017205900836,2.4245442658183016,2.3333846814610553,2.3293542563791085,1.912787220200844,2.711044134137765,2.8247495639814098,3.282634294365014,3.1815716442466986,3.356327266290762,3.3601483115335,2.9500606318434244,2.9413131472425817,3.13217096300059,3.4718717031452577,2.667549009528397,2.940152128372869,3.13993320436051,2.407440007798243,2.9080531317332294,3.623236982549983,2.8645154150223284,2.9003804819348424,2.3791455971322186,2.868545171269627,2.837097690844761,2.6568518245156127,2.976359569884483,2.62674111284802,2.4903313228500856,2.6393875409267302,2.650167050926939,2.700597130293758,2.2868394818414863,3.1002145257866474,2.8448305119795485,2.8751070182472986,3.175101542982965,2.1825879145815996,3.0639268950561735,3.2524944461137224,2.4858196932417513,3.256237938341915,3.4704577008110284,2.584269570324089,2.9991443932894093,3.1647017984652166,2.751764334108927,2.8995177597218316,2.9324635152520813,2.3058375140705003,2.9874722289850375,3.0537071576587493,2.52354982884496,2.4712674666036705,3.229108462303735,3.284706234096131,3.3806370834828954,3.162510832415176,2.5836097141918515,2.970851449748608,3.132915155973137,2.887735263369887,2.9887805592145504,3.0557058588788664,2.849706609134426,3.076363938433751,3.2429224957583997,3.4524021373653895,2.697086613093223,2.4449865394821977,2.041392249706611,3.214760700286419,3.33540570000865,3.3710855772871895,3.6055577565322814,3.138797835541105,3.8584656565851354,3.448078304384243,3.719127732057764,2.9854386755524587,2.9012844552837613,3.371434650878488,2.8422264167917994,2.547692041191972,2.776265358608793,3.133111243822306,2.4393624798034637,3.360082770494035,2.7683200800275145,2.947967629114391,2.748609925709623,2.1998901949876633,2.9758707773322506,2.7657754667518226,2.94615057117732,3.158301839911992,3.3875816584715928,2.979133144306161,2.540582445911319,2.621455677374513,2.8513709107892744,3.2068738222221995,2.75278828371048,2.9323527172052124,2.3191807427184123,3.2316901879578914,2.76954473398197,2.669916115692608,2.4250595071903724,2.4223056030984544,3.0353610488966503,2.2690644386922543,2.736313455462934,2.8552474421078387,3.2865585103605923,3.1167395718064554,3.816594359990095,3.100611381862908,3.4675948770952907,3.5248786407844683,3.7882269356811626,2.8377764113541915,2.554997793155543,2.821740449764416,3.040484047010107,3.5050600243644787,2.644250525588422,2.538941610345379,2.722144682185853,2.3581309765766996,3.415609623436339,3.2379341572194313,3.0859355840096505,3.0754421793914872,2.5018115236325222,3.032304711117334,3.123214880583525,3.1669323700323595,2.991665681154913,3.141794750630968,3.1525605902081466,3.7352038349636842,2.272426322286325,3.001113100653072,2.5719387795778417,3.6946496837514786,2.913831935174599,2.6344195931589773,2.7286520759959636,2.8991022480902515,2.798767591321596,2.8225610107178767,2.55297913246201,3.1936628257960606,2.2421724081761276,3.0767282646369374,3.2447164579202834,3.077250170317985,3.169722560790376,2.303988990363081,3.0525238035469577,2.948644107975408,2.845678204405644,2.9781292468640963,2.6105547855237923,3.571815134041671,3.318018179607055,2.828085086005096,2.9286678709654304,2.7300039715879194,2.6797569895638773,3.4027448473465682,2.5885647183620293,2.7988204001593537,2.7656323658886173,2.71494277692252,2.9156846067664617,3.2738978294975283,2.4739353005477973,2.354035616975807,3.5586530613207863,2.895384261912774,2.931641694624652,2.941533924166343,3.360775257084022,3.0164359294788774,2.9316453243140153,3.2186632747824113,3.30619717353688,2.8258371338309125,3.284319134494684,2.458544277300934,2.847007669160348,3.19484369432287,3.4684314646244196,2.594759195015051,2.8333058223877927,3.085598485129214,3.2084102710515197,3.339735305563835,3.1537802411231866,2.558130277388358,2.629069507308415,2.837163663793259,3.750204551927446,3.2736722872842137,3.0987214488012285,3.352145636126526,2.5515240986129974,3.0578791033140895,3.517713337065082,2.713653710102246,2.7096398318799224,3.186346909967387,3.0125403596005675,3.00245984056863,2.881013456972404,3.113174852606427,3.1308604004460676,2.821028519481107,2.7053887327642983,2.949557436904726,3.568298388674986,2.9062603251552908,3.411112443611433,2.5969114881745945,2.8477628079480866,2.8864005644640827,2.1847578263012295,2.210741193786877,2.50886463393271,2.3183399906592754,2.839290031587705,2.5178938220921943,2.3239171732233643,2.52653200069825,2.8100565067962044,2.965362229553527,2.777259305294219,2.9398122324575233,3.17672847463205,3.131899420081325,3.6261609883390236,3.4371240232124087,2.929753548305335,2.855595812926275,3.150565361831781,3.045783224478736,2.914421478663055,2.6738517946547375,2.5558857922641565,2.760951372907293,2.618081664511841,2.663737391379847,2.7856899356629974,2.4489839631332764,2.8078899894335585,2.862996493007369,3.6020893368943803,3.3760488339579453,3.100898367776729,2.7836765026292944,3.253884376602066,2.931056000066768,3.015988005227392,3.0546540297186944,2.7168232689730267,2.8984888070218346,3.11703551724894,2.59035056025202,2.7890923790303823,3.1782388707361555,3.149033477878625,2.765841877831569,2.3862576561537345,3.117245084631289,2.6285946289074147,2.7591704795364116,2.1640945266611347,2.6589575737862603,2.7663380066531893,3.0676751533751343,2.885651060919141,2.929139428354322,2.2533125946824093,2.5894190493989804,2.800788182208432,2.697607818057694,2.811709314539005,2.502383879661199,2.8347379523735867,3.292253588451583,2.977863716739993,3.393396978107887,2.7692068991269174,2.721459056821576,3.2020685816537124,2.5102576182925667,3.047231286724628,3.6843310966671865,2.8819540544968163,2.4016255641012947,1.6222455960126183,2.9432471781552465,2.900115087125787,2.993417967919516,3.193570188012334,2.87444742932621,2.860707916502548,3.2170140295866823,2.6571397571404205,2.82205257139449,3.354172057773006,2.8748478318825796,3.2205184800310924,3.0240643399577394,3.096577321775083,3.163200663768606,3.1038160694876993,3.0952176550748334,3.0955403164559065,2.5208616873437,3.4783219465979265,2.533358567984422,2.8525125980781816,2.950765679760721,3.55857472638602,3.3176052490092296,3.069798873836959,3.217683534762294,4.022166013258396,2.9023318224946486,3.0589324587288402,3.3135232802395755,3.3560164559535117,2.9752175780715007,2.6393922543285377,2.9636724377384205,3.3310171497468666,2.7163064247924886,2.3090173310982465,3.2477851010779304,2.936559206172017,2.06415433062471,3.3509077675317087,3.308022285328292,2.86956583392195,2.2190786280159998,3.178730356949206,2.7005343655952636,2.942732985975436,2.326584806163712,2.5724008951362194,3.1485007592940377,2.6046487485800327,2.999631193227401,2.193610842413822,3.118922599402932,2.5874200663392273,2.8456240047663854,2.5120604467710663,2.1798557234759457,3.1297056436614668,3.3824279519812066,2.8777027127320736,2.9433730407468808,2.8496001214614317,2.7943391234270294,3.3524554144025416,4.067452365242708,2.9031858991266333,3.345882607240135,3.493055378599678,2.29957309253529,2.5185766266350065,2.7674651002974784,2.338900789718423,3.204796378825524,2.0006837723958952,2.938964473196119,2.544237054945146,2.2029925730551696,2.712058287448315,3.5155328685085614,3.032973595637298,3.7351321794968975,2.8449122898606802,2.756519375687901,3.410858462687539,2.520552523930565,2.7661982591914906,3.0095583210705215,3.019298881727643,2.759472603531254,3.1003039041025318,2.7607537125228916,2.9829703246218635,2.8609990667592022,3.3551917146734063,2.885978931714483,2.1090377711673156,3.293222156699663,3.107093955287194,2.7066966102777172,2.3365196749268833,3.306513689347131,2.6512121809963674,2.62946246551628,2.843771869144973,2.7895712612008126,2.464837837605849,2.5753819736124655,2.685067714344946,2.811318549710599,2.447743923552814,2.591591809329092,2.614725159684049,3.4437884219436867,3.550978196352929,2.962321006045009,2.7484315365375096,2.8595325399657483,2.4757067526731795,3.094862767847122,3.327371998556,2.884354992339624,2.4533546870973346,2.7116464147585475,3.0827993438396497,2.648589314031632,3.1044115033376265,3.403155183636361,3.138962207589479,2.926363467808553,2.998749507327709,2.6653978313500595,2.481268252674834,3.2507653409713626,2.7897578611138165,3.60181144790743,3.2887181654386772,2.502918989890201,3.1120261851164237,3.0149741067711737,3.2596050012367854,2.742067869076976,3.0766169337194214,2.733766447766783,3.066502328678265,3.3882963529577417,3.1010895726075205,3.3178223361810737,3.8556460582393868,2.9772371251192666,3.139446594658807,3.2508327773169867,3.2392332777471324,3.264258578772875,3.512263777962893,3.3990109195775204,2.5660491509537238,3.00140058265735,2.9881468440543415,2.7290532963662137,2.8234393067425607,2.9176445966324316,3.2459890296254734,3.1049944054389584,2.967797060267902,3.256494505063678,2.5090396907491197,3.1354256611399904,2.3968533169220514,2.6513985014118617,3.0532156439175253,2.8883527247250846,2.6763234367267117,3.1451351562395864,2.8491120546388053,3.104802182061462,3.066048614542801,3.1579408580637747,2.4375282388653368,2.618823205996968,2.7910603795730857,2.605761975608388,2.272398529129557,2.506669809766599,2.78969603353643,2.675649219836192,2.4414364588223947,3.265189664027222,3.0471604431338477,3.4017235630070815,2.8613434796798813,3.1690558202975083,2.912066033035174,3.3725647269428762,3.115508032887689,2.8226812807107144,3.091486808202884,2.556559371523747,2.7113806876792985,2.7447927072808156,2.6048042940896217,2.598007063436018,2.5897899528716124,2.0224578194494143,2.5896781288560042,3.6212469885135476,3.2218829050337554,3.05924920453387,3.2615029230109336,2.827972410932226,3.405024340445472,2.779430417250783,3.006148007807102,2.689702971221383,2.7018801686667224,2.953977483141067,3.2879654172868413,2.813921778047831,3.389094722126714,3.3278598500471475,3.524806997898647,2.503150818377204,3.10485541191537,2.753938431390228,2.3041042410754997,2.8547285813612397,2.7009027017103264,2.7874217257020746,2.6898564242021195,3.003736680591448,2.3823513414417548,2.85590574052803,2.786289803857553,2.690407965733989,2.942088385076808,3.1841428611200584,2.859252794090132,2.416109716715418,2.818495788925283,2.6358762785530487,3.378857168390997,2.796258838346187,3.434461355930708,2.7951168427230044,2.5315385850096597,2.534364118272439,3.3191625023725884,2.9359153411666234,3.040573488873971,2.3720973483111223,2.3965436593546983,2.5588271411619417,3.0272304885854133,2.4104009992971207,2.908824858567751,2.81601014457744,2.606511641303751,2.6710590807217507,3.046899556248089,3.1746005165811617,3.3672522149166966,2.7782946625143765,3.3178846396572865,3.119127692253347,2.8821013604038015,2.7216608074370896,2.4121047955261155,2.9335094435199203,3.255860317490356,3.007894747018497,3.2055754446064952,2.8084390894324045,3.219056061095319,2.741564407331495,3.432669260182241,3.0616881426502687,2.9297668632992675,3.134787307221387,3.4794779027833656,3.552691696741313,3.292109721241026,3.4020312854233943,2.549991210269532,2.4297251249757927,2.9137910847482686,3.399976068408847,2.500346345300862,3.349334720048404,3.3704655576618343,2.8612119612152114,2.954355083885165,3.2483243231227092,2.616470827145065,2.7129967544380698,3.4101446287870516,2.945662663788248,2.708701158535625,2.8467089840510837,2.948798221417672,2.9925285796128342,3.0243762457681633,3.279375490547551,2.826763125736015,2.219119162180462,2.682633642947124,3.009420151628486,2.894310776544785,2.7531625378668707,2.4638031162499843,2.4658895383079127,2.400369217013605,2.6649738014089728,2.822648179010578,2.6470093106008434,3.680007480724637,2.9610494195925483,3.4334580600992126,2.787412688762803,3.0450930460731627,3.066276384588459,3.4031508236486516,2.5877210580491976,2.796902020366826,3.378795093397585,2.37937060491193,2.9771521746004055,2.6056511334943764,3.0855277338699736,3.0549046584911714,2.602967157835973,2.943299493950523,2.974864847632716,2.7681237322550416,3.2613230199555296,2.921638258520723,2.9313845597963315,3.1586685675576653,2.889566305988108,2.8991298821024394,3.0038435789011295,2.6231445873680386,2.5378230630960665,3.019753033995748,2.998141382053422,3.2490978659758767,3.39340556792812,2.8094652423766995,3.121248053981237,2.647547411126169,2.8235974549028207,3.347006118312585,2.3654426246505587,3.2616015121085127,2.2866706953660447,2.576863905747846,3.0525550805532866,2.483749301233196,2.8202675833983335,3.1276558445998504,3.060536758822437,2.860599535446596,2.877048343183205,3.092750346453922,2.892190285012248,2.748622676148642,2.8929529694107714,3.1797836749387685,2.8288722949233502,2.7671240568310047,2.6788166203838735,2.4930839782639254,2.302924219229226,3.1585397097690375,2.425917060061046,3.0777750502195964,2.603987363589937,2.7119197904557915,2.8549867299537404,3.302881680096622,2.7679538744770937,3.0235613943231705,2.922388650229376,2.767415704224117,3.303731875572044,2.5927846253176803,3.157062725848519,2.9258970550787957,2.8782424498213572,2.823058978565644,3.2134902915617474,2.8512180167121173,3.514401514942765,2.644882917764484,3.261109230926589,2.734374459064103,2.9875807039484457,3.4502687224256015,3.512979231556887,3.1325955045790153,2.9675451548071834,3.123780473843137,2.850654228618076,2.7065828291129037,2.9332519021883776,2.9100780249168814,2.837003574332144,3.608915318643291,3.220425841018944,2.696948886532624,2.9561354654153575,3.505309981411152,3.0423531187902384,3.114804435578133,3.0077733430088784,2.9646959868296,2.3827255326131045,2.881238047268038,2.8243524074280124,2.741659588287323,2.831820233970909,2.2081704640549376,3.116564468989832,3.165648288207901,2.7973990952725813,3.2112374569037954,3.080915580191146,2.9261797050350076,3.1391674371455167,3.149109127395615,2.947387662635027,2.354664393385619,2.83237312006494,2.984612761750366,2.972092380402753,2.844109778457657,2.796481412236549,2.058694890874115,2.809056411864752,2.752515297339489,2.581732211466541,2.417582653024521,3.472153585696148,2.8577885242474856,3.1125849735221003,3.354284687991232,3.547759996459529,2.777270459570115,2.583830202895289,2.667996838679027,2.8302273145929746,3.1327948073610266,2.731230332211375,2.4139056288239793,2.611386095049209,2.2097649356579794,2.833365316506928,3.221842244907986,3.200759036626632,2.6787355176897982,2.211790226823549,3.135798852221761,3.3614372401783967,2.9123701383565432,3.2441275929629647,3.240416601178019,2.97284006266095,3.3358104567304814,2.911172847024563,2.9610653790031662,3.055256999300841,2.244574399865506,3.1700088064963126,3.216255759323019,2.8148724867030595,3.102522693466554,3.0228290630932726,3.5813699309760345,2.2578548356446895,3.3640446932078873,2.5498952453239028,2.1516180700820016,3.108015079057296,3.5467591861122223,2.8240252421357823,2.152298743219454,2.2984481509067436,2.8092188223801244,3.031128368633773,2.7318726236174733,2.239108727825272,2.9244655718466888,3.6535236450378257,3.271781807468514,3.14601818953237,2.9688114819455222,2.8988554959785446,3.2294458024657473,2.712116954043843,2.9226752304817154,2.250527907857091,2.7872957370027542,2.6645831491208547,2.4005318417165,3.271391023906304,2.777096816283766,2.955396172361965,2.869182515821329,2.8828021878590597,2.8667801549948138,3.5535828961962537,3.2218340979368776,2.853882457652176,2.68098480469304,2.9788074379509837,2.726789878040094,3.339298335965342,2.912250035199822,2.723290728371115,2.4565211167599266,3.323875355314449,3.1588597643922682,2.4630557759300515,3.0287280169019155,2.8187117699789184,3.14341315651086,3.5450820887635572,3.5714878901921807,2.7052041101587037,2.5718191231062626,3.509294329057937,3.5104499643916682,3.0926609394667643,3.121933357273157,3.111828540334894,2.829809852282448,3.2088964637253667,2.7719660800458037,3.3144188351612804,3.279646836324705,2.980062828472377,2.9783355637126228,2.7672278568671054,2.4136319744645363,3.253738677187677,2.5735836301991384,2.8392555010430662,2.608843559989584,2.7030115935043852,3.0817191609266033,2.992623709162981,2.8335452230476044,3.359407302354434,3.1310438683610187,2.7819611566252966,2.912853591118367,2.490315634760087,2.276830601887138,2.999057777152192,3.198904976719806,2.985178065598035,2.708687709548272,2.687500944214495,2.639466310273651,2.684710918751122,2.9689134477075,3.085888667730906,3.200417443017841,3.0463479331577226,3.258523570352402,3.288934158753591,3.1842790305710764,3.143561514707315,3.183905440476842,2.7320626047982053,3.1867601541234514,2.963602815406631,2.6196499592743194,3.811293992981419,2.419045556390376,2.3652354765898203,3.313148698595768,2.3793168956138473,2.548732476580586,3.276541030757315,3.285812129559737,3.287473664824713,2.9941485349701544,3.088354532764427,3.042132404265619,3.180267588787622,2.607858454410703,3.7052475814901094,3.0416380404851573,2.6601502172523332,3.005656053313018,2.4504781017513793,3.2185534785524226,3.0620663084002864,3.379730493528516,2.908806218557011,3.159209869183581,2.987996314059547,2.8385662108075564,2.6768889812679006,2.9248446642413555,2.9479504654469117,2.4299863959494132,2.3074263042736867,2.7088799956519907,3.4220642857612376,2.5556258033309796,2.6988305251989217,2.842831049524399,2.9087729020463016,2.7168392213345136,2.6380316540592297,2.9920229226736623,3.4486662278791798,2.9669278245376027,3.412973381679233,3.2697157269129846,2.7680888325484148,2.7075568921517785,2.595957086475252,2.789786213766277,3.1316206248893437,2.7880486781255414,2.472562164402806,2.7270472145422744,2.819291746323618,3.2752561959846886,2.6928289373747596,3.130613272734628,2.9919557238177816,2.7853675259798436,2.686881081325197,3.049813923412273,3.5021993741909796,3.338043937807221,2.8467118687466773,2.8512022605675895,2.1923991223046926,2.877249646233217,2.6380916008167006,2.917336359020844,3.3193600704271375,3.04106038056214,2.69995389644707,3.2578932283669246,2.9586271174678096,3.163044911704212,2.78283481869968,3.0239102668572677,2.843136579130597,3.0517687643149145,3.329963856611357,2.921332972276659,2.756772902769214,3.9562605783351614,3.7245866704631254,3.1820272449313407,2.8812555639263238,2.7313765294088483,3.59249007327832,3.3446290762503175,2.8424862858769835,2.8758605520557197,2.6680817735781517,3.064359930678066,3.0931263219039487,2.6077342619145156,3.2983947931975415,2.8892102958178647,2.6871862767658605,3.0271001964683997,2.9977920485447527,2.733177460036906,2.4445806445265035,3.0406380862738587,2.9708408413825538,2.3487646105699618,2.528528317997985,2.750990047443409,3.067380453545958,3.240131633044882,2.808260290530562,3.0085365401561077,2.490278190221357,2.7484076840454748,2.7761740907177597,2.246282836543635,2.960106174155918,3.536656519310096,3.167660609808216,2.754751791866134,3.4710564506805284,3.6488743333239526,2.857471976434823,2.905934954062694,2.769311968872419,2.2023592095639657,2.994043779855634,2.959684023419392,3.054084807539791,3.034112806090576,2.6189540201612083,2.4334222009790203,2.3097274318503764,2.4728082458102314,3.4286792466765945,2.9587039697185524,3.36915682596441,3.155790393771948,2.6154253102742544,3.6682328320625146,2.877090994161172,2.7422678614889477,2.820566591548136,3.160803824615872,2.8093417671250904,2.7737174128921005,2.930710879996564,2.676887369847087,2.977751892333721,3.1769711707823554,2.4954765821103635,2.664816913513139,2.983324137046445,2.930161578770303,2.49786592782203,2.7128366170792724,1.9787789012350423,2.4651272426501905,2.905702694476762,3.283714578607892,2.695385080596875,3.5022650102395545,2.311609632169933,2.659871280155592,2.5693425203574662,2.5391117819244045,2.8590437831820594,2.7899913230381372,3.622535198504437,2.8988116339323753,3.6079745699758554,2.721444919485897,2.738936528973582,2.9076167740940164,3.093624948074556,3.1904885845645374,2.413415820291558,2.7988180320991347,2.6364027850265046,2.771305538161947,2.934342455231416,3.0827887448108307,2.9731143730581806,3.0463748014344745,3.037968360105623,3.0334243279095077,3.641563437523324,2.9922590474318334,3.582902043112913,3.435024249115976,2.912016479142835,3.3208549178970657,2.9641794380337814,2.94993618241185,3.0692582329850637,3.3262013531709655,3.158003071747032,3.2919088268255194,2.6874985433411744,3.0745072075730384,2.760911589797338,3.439113845751308,2.928967113205264,2.955348249184258,3.381709673195296,3.179487842492744,2.952359014276361,3.0100103151193096,2.7694316129000676,2.7563484044601374,2.6818416310894087,2.914585334880055,3.156457578001554,3.0696981045553073,3.699194287327913,2.685411357916035,2.8341540731201817,3.0965652690651417,2.2728997677834997,2.6271734866437058,2.7163975436902064,2.852762032678875,2.5420620180388305,2.7871533830113897,3.0508336831812386,3.0190730823160017,3.084677189940873,2.248292933746697,3.174228159563171,2.73544007826559,2.7894352021924433,3.206438547492688,2.5483800992053673,2.8881083317697254,2.937608260966755,3.0481801430739317,2.4847538671818015,2.2197328408634895,2.6046751035999733,2.7341056553474985,2.760896778910208,3.6014182617724373,2.648477948062471,3.1842213970548983,3.289967197661653,3.8873379523998466,3.15248626998876,3.308812904450935,2.6416710380637056,3.2977892308386316,2.5514759569579617,3.3086590720442395,2.854235403419846,2.863747360544867,2.73920823510619,2.899123259869107,2.69904182430043,2.670821740431787,2.9542803177983465,3.3380387730938494,3.0866524629416148,3.095679889470727,2.9599888958820983,3.038854973212981,3.039605305214323,2.794763378076425,2.929959925023539,3.1375872457787466,3.3486587201177684,2.683689297411753,3.4336511128951273,3.2909912562736103,2.8067734200389047,3.1137717570566252,3.26544882679595,3.3600296575318964,1.788101926299813,2.6495966147054233,2.9229320079932357,2.536277417954363,3.3237633865689133,2.7741206958428215,2.7615325495364402,2.620071894487694,2.8199840313980538,3.3163607577568435,2.4993743066130847,2.9821636587312668,2.6710766679314446,2.9164879165766564,3.3987723638973506,2.7235034795389588,2.9211040108935364,2.95366312225433,3.3389417609153966,2.886090646272237,3.5209975545430225,2.9497938897913585,2.562180552657349,3.352221843739848,3.5183686926567894,3.046972822208133,2.74974659514994,2.8886642526127737,2.559794950762967,3.061105698939244,2.4404915417183126,3.3550689706287287,2.5070353105231398,2.963083888479101,3.254854116907449,2.4668298132741064,2.9086700885879537,2.512210870619896,2.617199719589582,3.134152878599327,3.026917017724653,2.572600283202778,3.238091777605991,2.7997680801304803,2.882383377007592,2.703023334885504,3.039185859930946,2.912715607505369,2.9641119636304794,2.9445808268514213,2.9960729381291387,2.915414960805716,3.5289182467007123,3.243242834243123,3.077156517684024,3.669797774743376,2.6623987593476457,3.275425195890726,3.5759563470798206,3.3529853204884184,3.356465209718806,2.877977429921696,3.402306304910752,3.25901574613286,3.537151578280149,3.231864551636207,3.027399782226908,3.133565407658377,2.4030794344086956,2.4255604420675,2.772184613315172,2.939307218333745,2.9112696730823515,3.123632352175502,2.5992055032464663,3.095899249862203,3.306172737058791,2.488695848350414,2.453948550860609,2.7989234386428947,2.773519482948757,3.1002233804183987,2.3427224214904996,2.4406152509699837,2.7312468163270935,3.277308902847274,3.18064302670577,2.3361850216451927,2.76500256190943,2.415649277849603,2.839799904321975,3.1589308423006806,2.8706426366770827,3.220431833706307,3.418515102421445,3.519891605652255,3.429917316025225,3.559868095948911,2.893725532043142,3.2825713068180598,2.379267317697604,2.4791002569537994,2.7859641416198997,2.6095493787038144,2.8642395792141073,2.9945772644790942,2.7597926879944588,2.752371816299892,2.743959982312173,2.584123586553556,3.022824316740156,3.0267243178991023,3.0054604373007443,2.5587913336576555,2.8978623875384244,3.078311555543923,2.888854872559989,2.6033704359616863,2.919379725911231,2.7787203285244644,3.2648111736124292,2.8860284123473434,2.806610530018723,3.2237481080700015,2.926695031201522,2.911659473189875,2.892918382164922,2.770025818366154,2.537205616805082,2.9176431742726052,3.3265995582862153,2.725791147126909,2.087970212202368,2.6102609009833877,3.050820193531372,3.278435061298392,2.936048032967662,3.1082231488107617,2.5464354238201103,3.3386227690812227,2.8986932031132966,2.6228062295527863,2.26280407724267,2.9530681187344783,3.200885700192458,3.2233342649035386,2.913450091896948,2.9994796704926365,2.8898961781942063,2.381156440336653,3.0168577041400475,3.011096732739883,2.6000740170812904,2.4471074343836534,2.8571525604328727,2.782232627195132,2.5739362438581246,2.9773860253421063,2.61209047397314,2.711838292405865,3.0082510620046854,2.7131313579374883,2.791928345179066,2.16905750317315,3.078556335143549,3.1009830626710126,3.7400399939210587,3.014094030748268,2.8576708028711124,3.02457327809422,3.4139522137552163,2.9770986483188118,3.707670309509151,3.050790067889743,2.442585089799266,2.8020715843664057,3.179297426040687,3.183821598386075,3.7203666228706957,2.9043050119427605,3.4727082309915893,3.0759470094017374,3.202258361327015,3.139057281974086,3.6551353058918004,2.86816595287565,3.30564883847633,2.8400522249517977,3.166288875743575,2.959866732299048,2.5967651213347906,3.7406213111324504,3.4133497662079897,3.220277186246527,2.6536111987227002,2.580980967540018,2.695304594566018,3.1596035124330903,3.527333783994827,2.2144641209505807,2.918443084456534,3.734327881077469,3.1743329493387655,3.3160210698534343,2.815528664034577,3.0633948564172186,2.8250661807959574,2.8710880472694384,2.5258890685093967,2.473894792519154,2.3119423899989613,2.406554459600411,2.78262460985146,2.521829458053432,2.8326770651862923,2.3075246092769675,3.085442078203627,2.5748987210035637,1.9990921128371788,3.089488425749913,3.152017041270547,2.828872284471455,3.210111906136877,3.8784042897243083,3.174141159552409,2.9486441801559202,2.900598021906255,2.6004948670818706,2.592541480116754,2.707336177470477,2.556625794722084,2.0981218430245825,2.2709955655297698,3.0691856625298293,2.6003766269083037,3.215458393366635,3.3196151849532285,3.1939428598790194,3.1254801599543853,2.9847366197260854,3.0148607615129066,3.0964945664275234,2.6725135199721457,2.9175454514851324,2.3948856132081104,2.9067259837999657,3.034245895571509,2.878031939394063,2.6780300651927327,2.7106173693602145,3.072005519466927,3.0985064888837606,2.493954772310019,2.8294311596309463,2.8685680359434222,2.555968991132122,2.5171948633501025,2.411195637797899,2.7592828213878953,2.9152409024650403,2.84734726416411,2.5473652967886906,3.154127074288212,2.6016027973774563,2.7851387080313366,3.4234011425313895,2.9702445019986214,3.037413484868509,3.1240316162291073,3.128616114266041,3.219891964332586,3.4707026403867545,3.5543198873080115,3.1370993202737623,2.287157046935139,2.973837171561108,2.9855392881274554,2.821231866441668,2.7337777945967936,2.5392271365350148,2.177354590209802,2.8796987424941918,3.210514303286395,2.6845767644725065,2.8578538911615006,2.8016924202077824,2.9347408772239447,3.420057586548001,3.1379942314019402,2.9200424196910504,2.5215678056522037,2.815571976524314,2.9733991792377488,2.790924647617853,2.5908450203375715,3.296190766443061,2.3414461247092575,2.783874544089283,3.470431951674989,2.452720805835707,2.3944817645422702,2.9526302553846904,2.892762852572556,2.9030310139863467,3.5884409978650744,3.3896622684125965,3.2896107027289787,3.1744961417627238,2.8223291411711884,3.0360376291685824,3.4501283793544886,2.803470478226842,3.3564864188656394,2.3109007768286887,3.0810294723324887,3.5517709809757285,3.0308289429276876,3.1494048274693967,3.4807570015552614,2.8708111205433617,2.502062603738466,2.6504763835693446,3.0980806021057,2.4698178523786822,3.4542845183792465,2.618747084262793,3.1006992451094533,2.676478811417134,2.9971618129199022,2.7266797078180787,3.3941350224128186,3.1844589233722367,2.958460135498374,2.707133040611417,2.5221471653827194,2.369970772302583,3.057077103298738,2.6897530750170517,2.92600747314955,2.275784630667463,2.860264609216479,2.6092595085240333,2.787651414210025,3.044470679447688,3.1230497135565543,3.16327851702286,3.102557174101946,3.582924947566827,3.5074256448071033,3.1804519019028703,3.022242142563343,2.945322770076487,3.071912055174046,3.351234720221335,2.4299561542026,2.7928183404528824,2.8051227846511075,2.4233370842059507,2.543630124928548,2.3299603716275,1.8070996968815578,2.7354667225766605,3.507675494419928,3.5980342682019746,2.789411238907057,3.4763330039778353,3.007638385700222,2.910690724500789,2.785544299848862,3.5783478431392375,2.851389880735411,2.9178600502513206,3.12864540696593,3.2163820518972983,2.7597588627089387,2.807337562896425,3.4669574830012877,2.6801637887866043,2.5848461103803757,2.551955338287655,2.751156582543377,2.624261622210515,3.016923455670561,2.5561125061636076,2.96017984823429,2.6135748363130205,3.01121644869756,2.9026354113681094,2.88866961210865,2.561802531145169,2.526419718322231,2.5735502119985476,3.069577374721103,2.735209697818874,3.245583229966769,2.7225989489738964,3.159184602539021,3.376047993164743,2.8118932485090937,3.1818422786032734,2.486440189719737,3.394904585149476,3.040817362559171,3.001063787271036,3.032376555240223,3.3697555479688575,2.3150370577894535,3.0519021561379027,3.074358192013264,2.693644210911401,2.8146460103650313,2.54875694184776,3.180524569611549,3.43686366988884,3.8367486797340824,2.8066747056202246,2.5792416044578985,2.6456196320714085,2.981312024526435,3.057228136579173,3.06935695083094,2.917331961107873,3.165230422003681,2.5332220171273434,3.2650325420964705,2.738827495156176,2.67920624730014,2.9337854206896488,3.1378736046259803,3.0367531592466364,3.328222566064195,3.3774775307783607,3.426143754209086,2.4941204981754623,3.7300036818612483,3.1345858495335257,3.072393922626002,2.468406451136964,3.171834571645814,3.039300740650795,2.7773897856623115,2.9032228873003554,2.6850439774417048,2.670893028851143,2.5084440712530167,3.2197094317096244,3.510752502115004,2.3914864950744104,3.0230287696953937,2.8506615523755237,3.0391573146609083,2.7408085054538454,3.0474797240237876,3.071622228111618,3.2538501799104367,2.763597520018557,2.397615651582221,2.8556910685128436,2.436694506290742,2.628484060351859,2.7007603568140723,2.316910599109452,3.142902485049312,3.081010202647313,2.4318968758835133,2.593843619271105,2.5348870601103144,3.223009043907826,2.6589095698178085,2.6589475892693137,2.945838897478218,2.550288989230694,2.374315902026826,3.325424500989005,3.0184619582935497,3.204848481666371,3.346265440844384,3.3958246739211937,2.785193070611804,2.9669046614976793,2.4441109538338495,2.9237664992766703,3.5373008035599227,2.7340085348766294,2.2430782477216624,3.1804864482165804,2.550253449169734,2.6344705781828175,3.1695538376323817,2.599354553120154,3.0250311584690444,2.775527639565439,3.0545093184906094,3.1473766765012243,3.2127479010121576,3.020675724338883,3.043588909744514,3.161696727192666,3.1469159007895016,2.7161618359659414,2.638606801473383,3.3133575690357304,3.2456734396074083,3.2844217150090493,3.4170935455797498,2.9081526793186114,2.386476524433597,2.992301205712426,2.5720442504206176,2.4517336894136363,2.962379846123227,2.461615738386385,3.2567460210474337,3.1107201579582657,3.0853893079492316,2.7815409100838977,2.7286466318556464,2.352048072596279,3.040930022534109,2.574521960792591,2.936113071460589,2.232999452122826,3.313718643041522,3.292561349825121,3.601010290214777,3.3046119113614587,2.9364158128345146,2.90488027873905,2.9189329032030926,3.343448058641144,3.1113693427562765,2.7114426778053016,2.6409844110251797,2.4232845449909597,3.0932610319463336,3.1220586220900834,2.926712744961364,2.930701559433082,2.8417678875504606,3.106423976270179,2.859523013934247,2.8863822474757477,2.8557523392180144,3.220642048609129,2.9034446712172617,2.9003057502329135,2.671227792849166,2.7160862848263427,2.9619826348046487,3.244865406052707,3.267212947366893,3.257373921011535,3.011862590583874,2.6078028762280674,2.542269591814698,3.1122455031276886,3.1610913366503404,3.203456642384374,2.8917792870240078,3.5640981192577286,3.2749027026801585,3.0929222904711615,3.7525873182627976,2.7666586047900736,3.321544014808353,2.718584548522003,2.937473639842885,3.0527270329443006,3.4020592021339695,3.0693871943640616,3.029760268480427,2.519691566908808,2.8015141574324254,2.9164334567293366,3.0843836245178977,2.5051657349733283,2.920979036828495,3.0079596581345065,2.9137151914254034,2.7835891847156944,2.575918551426227,2.7767061036698273,2.536938353478291,3.0835420670133367,2.6322420528078823,2.54383486573483,2.457490345902947,2.5154148837801955,2.781032341514713,2.71352071560905,2.6304118162527885,2.815318621717111,2.067608037298161,2.439343370515008,2.694677194839386,3.080042716160019,3.0454662402885475,3.0585653878061905,2.8999903848597555,2.727084353356574,3.3365222970859136,2.8728049613481055,3.214869183960822,3.196448585986772,2.7035588348839887,2.564279200039273,3.0713243447016048,3.0075316136924,3.296332452243764,2.6246223374532747,2.531618426507599,2.3825804740293393,2.821362227471198,3.2038515406765526,3.0020089945466673,3.044791704360712,2.6436477872990842,2.819898294804595,2.9821444375551422,2.9941593976239886,2.934656128904532,2.7427117057449877,3.475354058563344,2.816740326451491,2.961501529271736,2.9718186396771777,2.600987719144438,3.063208066186828,3.4353747719841223,3.0372372058092907,3.2285365771615346,2.540863606293552,2.7724008232671693,2.975915711112272,2.66256682919834,2.804179687164332,2.8293957966906405,2.4630193681069095,3.0483112528134626,2.644991907460998,2.70400113127819,2.8594142976480263,2.2536723217805594,2.938579769684033,3.1098608914207126,2.8135599158084936,2.7493150907164967,3.105437591628238,3.0925832289940693,3.1943454302493492,3.398578973397804,2.686592035842555,2.754126590700981,2.6708381542466135,2.5468740914734163,2.8139695986200692,2.6962601762445395,3.0692847622200397,2.3594554526596916,2.886295593970324,3.306771055347628,3.2790511780573226,3.037961082662882,2.9680153132360765,2.539772859929574,2.7078357888015425,3.5787550025437156,3.217603539394844,2.775998485385461,3.0621758893987447,3.3273483042328564,3.0651448053505845,2.799869033500304,3.084001871108981,3.2389949483630005,3.117827642994172,3.0776106222457855,2.8826174244412073,3.3313035020939523,2.6683567587355626,2.4942151485440682,3.5951789425134635,2.930252041901973,3.055287102978113,3.0457462707894756,3.592462368843524,3.061054915902165,2.8760160170106346,3.058877081363466,3.224625777326544,3.4727149952821605,3.37146824610074,3.0345850533699306,2.7932867405814577,3.4824036336370696,2.873632660328223,3.181131991722303,3.1533720808355916,2.6696240450810897,2.957820843841258,2.855436093912264,2.6439663638313,2.925093351595116,3.550320377883139,3.2404885329488167,2.727034723842916,2.546531871654839,2.7293855818405603,2.495435629741884,3.0371032233377377,2.5924142672503265,3.244599999829134,2.7287800422146375,2.734150635369023,3.1864643241043034,2.5960298861954243,2.927829148243113,2.746161227654543,2.723369914778381,2.475223718471007,2.322550708929203,3.123954181267351,2.932608398110908,3.840108215397354,3.228717367218948,3.011372683949986,3.0081593401049815,2.9748662428772796,2.8892825726118474,2.7572967904250874,2.562825698639415,2.623667051177975,3.039381360965862,2.790983610670043,3.2879303182279855,3.000055211526636,2.7023129220395354,2.5334997609919867,2.3283552941798007,2.763562634496818,2.6403336933670403,2.8025083771284827,3.626019151183936,2.869553504298441,3.250067366427352,2.8903040654593823,3.555928152297497,2.854086678372539,2.792147113897709,2.5238236904935185,2.590173502509348,2.791354643820217,2.772558374507316,3.1464971417875702,3.0286635422786574,3.4608505986594693,2.7119077145283796,2.9851835207101374,3.632869021669574,2.5871134443744737,2.4766955108651345,3.2052693408135866,2.1121725073269566,2.6875349097936905,3.170508956032073,2.9033391018200305,3.0506766289338643,2.452514358683967,2.7668056318122716,2.486470217894375,2.667335728027428,2.2945642806162567,2.9875006257447225,3.53885051119768,3.074729898907208,3.1316450665102273,3.4284267891445133,3.1249359587789556,3.0106780687372314,2.7824348541816697,2.993092442044478,2.9030735617518815,3.273245510998585,2.9848971331001906,2.4152018054985263,1.986000633972175,2.57950888369367,3.0069943916990773,2.739080280722842,2.500127222507345,2.7473894521378632,2.6971404344222947,3.247820389811462,2.8656174102192686,3.0356351948243656,3.3626070141036486,3.522749940600395,3.1699495791917904,2.8324133016871826,2.90002120177202,2.975617612637805,2.896228902397368,2.995439875074865,3.4737683640833517,2.481969849387472,3.1489249227450067,2.6413377537549643,2.638280919851418,3.2658698861453317,2.848602549067227,3.1027173512385353,3.29902453240987,3.19334587963381,2.82994016790137,3.372678170722949,2.4760994770555556,3.1712628698053216,2.9932400232101095,3.124238735063784,2.668365958892174,3.2157513719305193,3.148800583522352,2.709599403792854,3.149018484740431,2.7527612448162557,2.6869179629870565,2.963872748925354,3.086954616753342,2.544782016097276,3.2710336206955155,2.4728380200943043,3.550959678614447,2.927292286866564,2.7871519670091693,2.753633827947816,3.080073083279526,2.782654121855785,3.024389615039471,2.5490886494848226,3.058570771524291,2.932361014123117,2.612021351142502,2.4680086298360138,2.352469254696839,2.364069583231366,3.098007104751389,2.448519603078278,3.165125243461123,3.219453137262917,2.8655922837710186,3.552433269583954,3.6280904908367226,3.4081451556802627,3.2296289075888325,3.014356382673814,2.6640793007403687,3.0628439088968875,3.3312007235273597,2.8766039550848745,3.0596962532336676,2.9262869812802563,2.5862408806893633,2.7883380940694167,3.039460129731971,2.167325261200169,3.483042520774301,3.0259106441127166,3.300751984288219,3.449155960198759,2.941251721839649,3.4403367405324126,3.383732185105039,3.1963068808177972,3.1510848670339904,2.343160821573896,2.728296610853608,2.9981941343837484,3.1478822782415463,3.256729082137312,2.6231774367383665,3.1956490678530045,2.853013741061069,2.505413298646083,2.7003430119210243,2.9108906347971875,3.0098539495132286,2.478936372554987,3.395424396967613,2.8730621827855174,3.1342913588177055,3.0091043657192422,2.759108858307467,2.7113402229498433,2.4614612798690843,2.7442121625904043,2.6965589956293847,3.18896546879256,2.639624522516133,3.342701800479638,2.7200964690362888,3.557806237664053,3.5560092049343233,3.3479823911835993,2.947791126873639,2.706287186546465,2.753973109437972,2.5025007413556075,3.2067281249697857,2.8042034002543588,2.745739135917418,2.038686535369269,2.9038060886494605,3.082673002051191,3.141650442827899,2.9653580713754515,3.119627027599435,3.2981967141712403,2.890152173623626,3.3702414631119417,2.8062727784004764,2.8113167424862624,3.7981076684605988,3.0882398477868804,3.4038358538095537,3.341917864191206,2.7836806452944387,2.967290765950718,3.3175272335406767,2.862169399811151,3.3503550524551606,3.102826777556146,2.952283165852876,3.2592476310118492,3.7715374484753355,2.98840071127713,3.247830042483333,3.0378190298432024,2.7141317769581406,2.948467249491326,2.6949745046653533,3.1761497586620706,3.062202367388142,2.68560643081425,3.2850971168071084,3.03635262031138,3.1212439690186926,2.5998327593901998,2.7381789332349626,3.209110161240396,3.2675978414630897,2.959857094023647,2.754829718395605,3.4131263530448948,2.940238873926976,3.12082639212311,3.1291759461811672,3.1313251558487387,3.3031341364086018,2.4037978039515657,2.679441261664021,2.55364573624432,3.183331591104274,3.0436184907824675,2.842006224177073,2.834697937420948,2.9269781707842384,2.83781699952468,2.773856493375657,2.711608538177071,2.3467281640720365,2.832794836640616,2.296946226757921,2.8753356095886033,2.545144224009885,2.9091006081099664,3.158502249394399,3.164727686867412,4.1112145793925805,2.9131126749059284,3.0130639112453395,3.0278035952010818,2.869362510096,2.515583940153533,3.073104871241675,2.916430592535505,2.5408805436487683,3.0988294764611553,2.848320956922759,2.555915461023762,2.4395809981278695,2.5721422983088686,2.798077387389121,2.6268142685696603,3.025393624555271,2.9830536574861988,3.358382121414415,2.691021359430156,2.936653744330062,3.493868260439033,3.1127017500462735,2.84288566196447,2.2833427488922666,3.032424027977971,2.825217023896961,2.201671270194023,2.549778386503913,3.072641922681637,3.2885197702145916,2.8902763766959367,2.495725755918606,2.758925795833431,2.6752569521826395,3.274896995001651,2.238152371609889,2.719609747945885,2.7404824934831886,3.0657467802850995,3.0741577987955466,3.498648601671416,2.3976172934182216,2.7113148293113483,2.7894930928087724,3.293555622481204,2.8989432628591345,2.5550555988218875,2.251404187736636,3.2675942918332233,3.2793983391247252,3.127966213504507,2.811074353672332,2.4177017629244943,2.538047723103638,3.2220939367476795,2.6273959485926213,2.4750340219073337,2.4116082735173805,2.6436817468598903,2.8134716467707577,2.7461282264499047,3.0021907906649865,2.515660100460952,2.9876498930008566,3.195564451087556,2.941001494733044,3.2209039877182235,2.6507146433110194,2.8746494914601257,2.257253717818571,3.159204182831882,3.40879986528153,2.690454248435401,3.240530025074598,2.8301915129172563,2.9630770420856827,3.2015471095966426,3.407376223630351,2.5329824824348144,3.222173249734574,2.6900465596705203,3.3209457522223005,3.0752626649586006,3.3370462971188104,3.617543947729775,3.4547066989736877,3.1689604199658454,3.178370611681302,3.2355427333880016,2.9663040572716106,3.5212972890600263,2.682089366384673,3.5081392105970615,3.0104281132300414,2.9309643140277224,2.6434300428972364,2.9186683033734795,3.257228195422858,2.7755585223003436,2.5700597802211753,2.358330505361298,3.20231797636459,3.0912935571250273,2.735946339144835,2.693214362570078,2.488460679916784,2.816343392647827,3.005661230529615,2.8292735771043986,3.032186845046379,2.7792325171398993,2.977942955634557,2.638676997872576,2.8703120037789773,2.349604001691965,2.723908852527952,3.1306240233944607,2.3820791679623596,2.668570896086436,2.548720128635175,2.956044068841429,2.8180739962371106,3.248652920168176,3.1341502201457168,3.0170822288716153,3.4207012920606985,3.247802980905746,3.859656105232382,3.4680731949157995,3.282657473993332,2.2458347790731956,3.1286685091687296,2.8703511777395008,3.1118537052208453,3.4826381600292002,3.154086601709434,2.0732903762407844,2.6576243048108488,2.738375413672653,2.9730946778716465,3.228144766131969,3.676351537746033,2.9969079543099753,2.8788210121273714,3.3906912009872805,3.290029341539892,3.2398350415823884,3.07332225309338,2.7155323745409063,3.0126807742866504,3.2248992781637575,2.913236795302222,3.111055196751842,2.8449151192008735,2.9330760392616355,2.812614415745532,3.1789204133933,2.372718188183427,2.6246757263651475,2.588403920104845,2.9162782048628344,2.986336365151903,2.7124210389165455,2.648616672170327,3.0500398878784445,2.5562246523172156,2.309752855372288,2.7218586120257093,2.297021576225884,2.959909081218079,3.0024995266128585,2.7927651012802848,2.577090013971855,2.9982004406489757,2.764888881982017,2.8932026739731427,3.6222477018366526,2.8827376183542164,2.8202135973968367,2.87433554646973,2.861915035886767,2.5623968815608364,2.6883086583934954,3.1059952911896502,2.6530501507524065,3.188329684429835,2.975888975049422,3.0180306890177135,2.4983103522696055,2.663546361619659,3.185666860251377,2.6535011538276585,3.1283682540438384,2.8533413617892514,3.1162334810743246,2.7887849415938746,3.4765641878734996,3.649807231836622,2.824817819505828,3.282405752885971,2.9810214023726935,2.76079925532132,3.2316356333874943,2.3727275642936725,3.0252169864722127,2.7717131150829637,3.0255706355543452,3.1584593889191126,3.242500677066978,3.3369634699462623,2.4320264531137,3.4070174753590052,3.1195934398735368,2.866015563706153,3.4139913338373873,3.1621273005406714,3.7631128210248193,3.183291312758456,2.970876789987326,2.5263988092286027,3.3546362695826843,3.0341195515647463,2.7692442333237857,3.54858412707215,3.179793426482803,2.9428808871527252,2.527632815470401,2.624805017230308,2.8104922379458586,2.964522559899528,2.613033122906046,2.6765572726362095,3.056263399476851,3.495688945262252,2.6252264974699706,3.106312931430775,2.597796721169452,3.0642098719557964,2.611035480452081,2.8347167152908597,2.2493110630961155,2.4821295128113334,2.8776245323974585,2.94641777543999,2.93544885993224,2.5653143234961817,2.688954041341045,2.8780568536994586,2.8200552196262514,3.302129143996389,2.915863019487226,3.6089890696949567,3.0601923053796938,3.0259431880209604,3.4660258541951308,3.095158704950265,3.2011373137589807,2.81293741302769,2.4408430613011802,2.8343584653978837,3.0298508181087804,2.6130929103724228,2.4900748756629554,2.526027039352158,2.1924291387358785,2.979062805865091,2.681404158588414,3.306096461104559,2.959758391282385,3.507776515406487,3.372385040171114,2.961866358108729,2.691639358022808,3.1531827147182483,2.810043701146057,2.6498347143250918,3.1220330678408494,2.719986258397924,2.792339475482006,2.8202256326093256,3.4175695882649677,3.081259449921344,3.1864989341738337,2.9979407266543845,2.439761439844144,2.420816926408662,2.5330871607343823,3.0910365242244637,2.495607248231096,3.36750119201826,2.8760928500367164,2.7940346055488803,2.8566596028505487,2.675234795519682,2.6526145801807353,2.397995740315004,2.88432547558547,3.0020515228012847,2.4376005339858082,3.048936684875919,2.868923859994691,3.3346370282363296,3.023010905716177,3.245168273699832,3.2741836658650776,3.062767865019133,3.0890386182151843,3.128779374084484,2.9775111600670776,2.8943960738931445,2.4323247355654942,2.6571867098961732,3.180814671275101,3.0973059918267865,2.801777823203878,2.9653089138737876,3.190998666690181,2.23920051042726,3.621714947598516,3.1853922148106086,2.757017783860565,2.8503602739114235,3.6600059364598394,2.57185903628244,2.9903332329278385,3.3537418100680974,2.868841006509463,3.238215817886079,2.7173050353630117,2.8727580133303405,2.711796703870739,2.771366006256752,2.947763842612435,3.1928838687307,3.359980898494886,3.1415336088827495,3.7415503909593966,3.670022207940111,3.232227386490564,3.2973183842242406,3.1485446267409998,2.993922201396664,3.0659761314988607,2.8919094147312414,3.012291378638686,3.270048432462982,2.7666094960051666,2.694129595576115,2.849484352984458,2.8334975701430523,3.219724411986814,2.6968479718291753,3.023886917005438,2.963399631599785,2.924209184911046,3.1306372124424087,3.0038050459998225,2.6846265522879698,2.5696985499721237,2.5397895158116235,3.1012473968931644,2.8514195293889095,2.7668083631725295,2.7526446364296433,3.062993716908874,2.692275877374133,2.563010048001402,2.670757297876719,2.597960280748122,3.2446421583563847,2.706585793956574,2.8149879552762833,2.4019218089679697,3.155585783364856,3.3179683977621153,3.050847836321477,3.218439056055594,3.4522492739410247,2.650701184727872,3.0313925131692834,3.0085271434650274,3.08857043184868,3.1363846687311927,3.2427202390807324,2.9317946478355275,2.5575628699498267,3.091250312599861,2.8069461295673968,2.6264363450436825,2.68183746198838,2.7522077847624473,2.6209389076038576,3.283120761497063,2.9489799773883263,3.198852294764972,2.8670440927707332,3.1130824413817244,2.865067874274061,3.285803735366205,3.060730649218101,3.3027820592223627,2.881726627237569,2.9607628478032773,3.384871691920665,2.5808587380418118,2.4681271344412714,2.931205874905615,3.333515388618526,2.4056479965457243,2.9637235094604115,3.3974728690125104,2.7284867015222503,2.8652029977409725,3.0907176371554286,2.8026607160529267,3.1517604512719757,2.90096158293246,3.0695552748933927,2.497213190142155,2.6803854921763097,2.3171193451137313,3.175419967480849,2.4641846512505303,2.295888323471015,2.395116599122069,2.875905274487053,3.308663044397626,3.136571583223205,2.82579611272633,3.2170647351832145,3.1903794607900835,2.665732011494139,3.16740975200079,2.8840549810835974,2.461260739998359,2.707205507727199,2.585443376718029,2.879447076689491,2.2349691463571126,2.545881834351988,2.9861827533530203,2.937189972863738,2.834834115987565,2.8981901906635876,3.0043808188845382,2.905750814666902,3.1463053450759304,3.2464597487565854,2.997805746009142,2.9717437879082382,2.859840475083203,2.8830099962407054,3.368853906113877,2.821122237671524,3.539809785416324,2.6571648670945365,2.590980663550546,2.914271142317709,2.935230573422526,2.9640636691725675,2.688211469205715,3.3137658160457555,3.7803843026999715,3.007745562301551,3.345365364340367,2.912645094174106,3.3872597345758457,3.3854539876711485,3.289436893340387,3.3426201601000045,2.7336053622330567,2.611855967059764,2.830532787040113,2.9913102314413322,2.961539084443249,3.087615985112098,2.4607260065248084,2.428637454870625,3.478690605578585,2.909468594552944,3.100747154793975,3.2315382343480934,2.7740381464991053,3.380754927637547,2.6017696101751255,2.8912539778005737,3.276636290640681,3.1707713826896367,2.423773662725079,2.6539218785992844,2.8737398535393055,2.580657861556716,3.154878733325919,3.023042330883264,2.329160783786829,3.1112695116801348,2.1896832757759412,3.081119110882881,2.922252843357281,2.669088970669357,2.9785737500891045,2.5128405146828143,3.2870868437504512,3.428750275363033,3.3597868191873594,3.63653827487801,3.3478529824016263,3.097240085460765,2.7239026466199157,2.7727408056121448,2.9626284743405087,3.0899830860246738,2.8279349106954683,2.34852991170483],\"type\":\"scatter\",\"xaxis\":\"x\",\"yaxis\":\"y\"},{\"mode\":\"markers\",\"x\":[-2.58665168480514,-2.95617346414852,-3.04611532876433,-2.85989723615189,-3.04788940885837,-2.91975430843207,-2.59983375620287,-3.09742071344544,-2.70057313099439,-3.22283790158863,-2.91898163115925,-2.75292081735232,-3.07901525841125,-2.93985232744377,-3.03578700304944,-2.55089594109982,-3.50861902654192,-3.14885381405225,-2.94024021473879,-3.16025306492176,-3.26663112924316,-3.00099069735495,-3.29338991292165,-2.66064308918664,-3.32417381426245,-2.77288957726679,-2.75018616413549,-3.43245959057539,-3.78530478845353,-2.68363225947489,-2.70576124376772,-3.43697139419594,-2.72541572019112,-3.14768080009422,-2.29163731728553,-2.95805580620379,-2.39580527682727,-3.36182110482122,-2.65367136769787,-2.8382160099429,-3.24528013891714,-3.508227338961,-3.18303593960219,-2.71425038886521,-2.99267820301806,-3.01466904313426,-2.79347345725215,-2.97570539133692,-3.05900328258266,-2.81212579045128,-3.33758306667446,-3.40530722205746,-2.29405225683876,-2.60146807962763,-2.84862482204872,-2.92374211610197,-2.89617673145536,-2.80177136301085,-3.01076574743453,-2.96662573367172,-3.02964693475055,-2.75616776142795,-2.51238674022527,-3.12456418055548,-2.82651326724751,-3.70093625274716,-3.43661502842176,-3.32654013285486,-3.03514435025414,-2.6339243917771,-2.58825486506117,-2.41994949191992,-2.82525035777693,-2.94922972019295,-2.91822331760438,-3.16967458184278,-2.4959431217695,-3.20839821807704,-2.6660212377604,-2.45643998260919,-2.83362798581693,-3.13210304091076,-2.40074519285449,-2.75020282817014,-2.97788379654764,-2.20961651374016,-2.84758264530676,-2.16418132788663,-3.11180554258835,-3.20134628067238,-2.63477368414316,-3.45909465858014,-3.01797125959366,-2.48243407677602,-3.21801954697192,-2.70758847379447,-3.43040289728202,-2.85796543093029,-2.89469141296387,-3.30575221836074,-3.33752585800466,-3.23132147596609,-3.58799585475152,-3.24868096680909,-3.22612097573288,-3.21093316620379,-3.26416157259116,-3.3689073335248,-3.22989421495702,-3.17055217235584,-2.5614614344195,-3.29450082212815,-3.17001589309791,-2.77620194067902,-3.0373714878294,-2.8030672042675,-3.04576124660889,-3.13267764398278,-2.83955748686117,-2.4840165052758,-2.21855610382176,-3.14216557369296,-3.02093610404297,-3.13571061407195,-3.05541518495452,-2.67085811999659,-2.59827478683391,-2.83930800234854,-2.99656926151882,-2.90185701949943,-3.14889936830988,-2.9791519408629,-2.54261964968262,-3.24355202719021,-2.67230785972262,-3.16342143017459,-2.95396121220727,-2.69071552212687,-3.12357128984008,-2.99480393134655,-2.99044168072579,-2.48992926518791,-3.56286610145928,-3.07819001525546,-2.87086857027422,-3.12997876511704,-3.18785214501526,-3.16704203419733,-3.40590381880861,-2.70095802483732,-3.35794505336947,-2.85920951503019,-2.90917997658667,-3.36309161153097,-3.69399133360102,-2.7156575197023,-2.73849867892128,-3.33675176046995,-2.79034451921535,-3.09561029949825,-2.30536960560604,-2.78157370459816,-2.38945022832945,-3.48089115137455,-2.74231933605816,-2.76234399321354,-3.11170298762819,-3.44969642201097,-3.12236073322257,-2.75966102522514,-3.04289709765414,-3.01260453286298,-2.82190566206473,-2.87230856445864,-3.14684623431649,-2.72231121113386,-3.34042004028588,-3.41743596194871,-2.22504188484346,-2.59943185272328,-2.83902488099533,-2.96132648053329,-2.90035377872899,-2.77478651586352,-2.92129470999437,-3.02185088541672,-3.01602650644642,-2.79009744371732,-2.48169655900607,-3.11271841432097,-2.75001231521918,-3.80283148611565,-3.44187597831013,-3.26613918628691,-3.10673939129153,-2.64192812065249,-2.68437167468784,-2.45296432128355,-2.78159778219774,-3.04609708157423,-2.866494702016,-3.306934020032,-2.60811555622887,-3.11110056133309,-2.67441212051635,-2.36553013293953,-2.81416419615856,-3.12418689711499,-2.35192466579943,-2.71889419363924,-3.03666792415833,-2.24398885582416,-2.92323621106663,-2.17930751355361,-3.14560089736857,-3.20348969803081,-2.63578428813474,-3.37215116769172,-3.10051810993812,-2.46027516245886,-3.23762280638448,-2.59213142811206,-3.52029953140434,-2.84382805707798,-2.92579995173217,-3.28335608397582,-3.39872165226036,-3.18872028183566,-3.70368211985369,-3.22244585578755,-3.32501441474324,-3.2683574215795,-3.2134124919751,-3.38625338903467,-3.0101146179787,-3.20424784524194,-2.60901046789005,-3.29608845957199,-3.33406131907378,-2.80348227128806,-3.04858695390681,-2.86842183771871,-2.98329488850431,-3.0968984421031,-2.89584375728098,-2.61119138555249,-2.2319914708189,-3.0264001715096,-2.88901305583792,-3.00711787985162,-3.05551992250645,-2.6451117547351,-2.61746525851077,-2.96633569417693,-2.99617490968405,-2.91209077177459,-3.23131108652148,-3.02774360704651,-2.54337196866451,-3.02392317039123,-2.77217379516726,-3.14392822625339,-2.90575456762063,-2.81752701026364,-3.03444202688987,-2.93851498895271,-2.90566351802015,-2.40084529247473,-3.58232447187078,-3.11343317805385,-2.94708523901473,-3.20133517391658,-3.18801728228708,-3.09149766263965,-3.40196984714523,-2.56856556775162,-3.38528100924999,-2.73967799022218,-3.00035365329512,-3.41007207879797,-3.74326339086206,-2.78985789714881,-2.665118516703,-3.3864560053315,-2.86577679554998,-3.0690655606263,-2.29639147020222,-2.92122610439143,-2.47910914878416,-3.48014916427259,-2.45695625305753,-2.88567738205116,-3.22654303126219,-3.5772869857583,-3.08735168055731,-2.70245501645322,-3.0040634909376,-3.03780601511189,-2.84817035050659,-2.89670332190243,-3.14698400061989,-2.60419312829698,-3.43105534801934,-3.47590516860749,-2.25909392613345,-2.59242393778378,-2.92308864120606,-2.97840888408019,-2.93800140722941,-2.68007510728735,-3.00094447019439,-3.04975291087909,-3.02961302475666,-2.76218828465009,-2.49000996241671,-3.13297996999516,-2.8664980545145,-3.62338081243074,-3.31340711935675,-3.27961159471611,-3.02378218192758,-2.68945214481828,-2.59386992672781,-2.37158860544858,-2.80231116268593,-3.06983652691254,-2.92932544534733,-3.23704720157229,-2.63168926627306,-3.1862432770278,-2.64258321945647,-2.44037760442738,-2.7704692689246,-3.13618526050099,-2.3085197399749,-2.73695763150448,-2.96768894474006,-2.26972093269821,-2.96345900858168,-2.18940591930824,-3.07531363380099,-3.24539416491464,-2.61224280999922,-3.42435926701055,-2.99240142838646,-2.53522343055811,-3.26630454441144,-2.69300111566208,-3.3547946253391,-2.77614666896826,-2.95341684875895,-3.19365793074404,-3.37345972506918,-3.07604669797002,-3.6607535088996,-3.1571214021006,-3.45413163688117,-3.1944237770252,-3.38509425049139,-3.40889044826419,-3.15916216656211,-3.14473247196,-2.73198515183911,-3.27855568618889,-3.25491990463582,-2.82444973907991,-3.15511123622345,-2.87463381276125,-3.06432974360534,-3.09504602047077,-2.84671933459701,-2.5516703924329,-2.30046516348656,-3.00024473812355,-2.83954917074129,-3.05664401660677,-2.96937465559526,-2.67612218165382,-2.63166573236348,-2.99809318321701,-3.01966061359029,-3.00030313806596,-3.13290586132301,-3.01751876345187,-2.56286097539398,-3.1693815650701,-2.74555626820201,-3.1569764408805,-2.93649807300249,-2.80121150747253,-3.10446177683022,-2.94379390332439,-2.92747903150009,-2.52814238392418,-3.45115490701323,-3.07005763307379,-2.90778969947432,-3.07412943966128,-3.20988920705159,-3.20829874585748,-3.3076476066523,-2.63719738605037,-3.3193722712401,-2.82054788624931,-2.90913039587425,-3.42975453680074,-3.66242476489952,-2.83271502989537,-2.73367930183275,-3.5204954042437,-2.67646064221155,-3.0585701456393,-2.37756226942887,-2.90610886509446,-2.46603913663802,-3.39934832993651,-2.62703640612624,-2.92244099833262,-2.98467159735296,-3.57665703209331,-3.1907437705957,-2.7390322772362,-2.88188703291701,-2.97849764073232,-2.88897388428315,-2.8724600955058,-3.12766903295362,-2.74674478554814,-3.28381709634027,-3.48164397146265,-2.32288415462313,-2.53174296559048,-2.78382755112931,-2.95998612662807,-2.94092974552934,-2.87849441139334,-2.93250576823042,-2.96270225304927,-2.98922730748672,-2.76819976783723,-2.46470986940954,-3.04915229085614,-2.82090357823072,-3.73523663450058,-3.30448033163093,-3.12911956407777,-3.07399681879539,-2.6580481349301,-2.50274342714685,-2.50850777148305,-2.91262400413441,-3.01903941814572,-2.96821318311494,-3.258800154488,-2.47164011730517,-3.10521581065393,-2.6317813443538,-2.34301768091317,-2.64383661294983,-3.08978773144406,-2.38411869347853,-2.736956994199,-2.89531584264877,-2.28258501986242,-2.91495288849224,-2.20016361635877,-3.05975420600046,-3.24625842603573,-2.64791795587624,-3.33469747909593,-3.11783168545396,-2.42556853542603,-3.27111063232155,-2.66611195645031,-3.40183755726329,-2.81545928526719,-2.93024941357641,-3.21801949819473,-3.47227289704305,-3.05515368011982,-3.67831581001343,-3.28592674594338,-3.33460186950634,-3.08159409811377,-3.24843992209831,-3.37423326405707,-3.1218773636352,-3.2964209257713,-2.55922217829874,-3.27588961792668,-3.31531820752487,-2.86819718476159,-3.0768907113997,-2.94043036746801,-2.9917679423597,-3.03460544353139,-2.92268842744907,-2.59375044304115,-2.1613688856973,-3.09396302498711,-2.99828532916651,-3.00485699233177,-2.96523782480258,-2.63080743775405,-2.57371050485251,-2.94272213478268,-3.08952005618552,-2.93882244251454,-3.15302175787061,-3.10200871019435,-2.47914136061165,-3.12497779660633,-2.68673037450707,-3.22967975740329,-2.9071337469379,-2.81970739176068,-3.17248790529421,-2.93442068879045,-2.92506039683257,-2.48587855073184,-3.42065350607465,-3.11832140944247,-2.85664880624069,-3.1906486584582,-3.22290452630578,-3.16731346385809,-3.37909000040437,-2.52584576383794,-3.3735714348614,-2.80745447950427,-2.96868154664532,-3.36153205387495,-3.71106195393171,-2.78195455405594,-2.79484739541061,-3.48912440068991,-2.82007663471108,-3.1300533861181,-2.31891234005441,-2.87527996376963,-2.3834852240827,-3.36768515708204,-2.55799562085971,-2.87696013732424,-3.15134277979487,-3.49056299870933,-3.08351495781632,-2.67260780702873,-2.94685064179632,-2.9935173336553,-2.89646495244667,-2.93288511995296,-3.09378437881516,-2.70435821072411,-3.2997672622378,-3.44517321175588,-2.29837199311716,-2.59358456614868,-2.9017591357008,-2.99448414438489,-2.90831148607754,-2.80809263153468,-2.98796755162848,-3.06303856510577,-3.07081881854355,-2.75741732744942,-2.45663642502287,-3.07076034573596,-2.77976201552529,-3.66693189675686,-3.35836733154272,-3.23651672500736,-3.18802134272001,-2.67667720871866,-2.56473384006023,-2.3974602553823,-2.82349191170696,-2.98579103500821,-2.82461421947068,-3.2614943937779,-2.61077144740107,-3.10613019291423,-2.98261437419786,-2.87693657905218,-2.43470833194983,-2.82469446103495,-3.18550503192631,-2.38796434371223,-2.79189290796552,-2.9825280525564,-2.20593023936421,-2.98602751490139,-2.03927900377353,-2.91917959163192,-3.15698152405277,-2.71576185184367,-3.30746176608566,-2.97782186017371,-2.49291205693399,-3.17012900663387,-2.69277331526764,-3.41452761621429,-2.88815195970264,-2.80379163043785,-3.36295851018419,-3.37601960122458,-3.08572025634455,-3.69805168718532,-3.1626969608865,-3.30311195574305,-3.16237271079867,-3.31040790538487,-3.48517417143967,-3.05721417521408,-3.29001307980693,-2.63353171137183,-3.38637336976723,-3.31536723334885,-2.81624133821958,-3.00895528305629,-2.93077047364176,-2.99595526992208,-3.11819042833478,-2.77325601658386,-2.62758336514142,-2.24116967855093,-3.02703133156058,-2.85406389778137,-3.01580088868636,-2.97694143670852,-2.74686870492506,-2.52520392404824,-2.98878282316022,-3.04897651568714,-3.05277003511968,-3.12983087773156,-2.97858839939875,-2.54720032925266,-3.02705246133526,-2.77695723759159,-3.11596443963861,-2.94820444357085,-2.73296934574943,-3.01997340253181,-2.97283402729339,-2.83673594103683,-2.53574918631838,-3.47592485347036,-3.09312994337185,-2.93704508849942,-3.21668209100188,-3.22603279234856,-3.09870911997474,-2.04386504456334,-3.29187253707992,-2.64629581804121,-3.41485998389179,-2.64967425674587,-2.80209111891094,-3.44853707035717,-3.72368971627093,-2.77488034182748,-2.76257691864289,-3.44646342452892,-2.76418184236698,-3.1699677705152,-2.40246609924645,-2.95260679218296,-2.41438766049602,-3.38250359174403,-2.60912620306156,-2.86047721431238,-3.15084688976804,-3.50122455460045,-3.105569062213,-2.6492172698849,-2.98913040081822,-3.14856727121791,-2.93366803079913,-2.89348038820514,-3.10627497370211,-2.7656327728459,-3.23477026448105,-3.47304256856678,-2.33350661715229,-2.65355666555067,-2.87173745584374,-2.99049069273654,-3.01660857080923,-2.72846094352292,-3.06001726792109,-3.10214108611752,-3.02224625216288,-2.78210444035102,-2.56029176029738,-2.99247540144706,-2.79344537598734,-3.70927365499179,-3.30897900649232,-3.32293660724079,-3.16004490257048,-2.663563317177,-2.56756711785274,-2.490481258377,-2.76570422270676,-3.04042185420239,-2.89710583760707,-3.16452703887055,-2.6159637136335,-3.11864133226572,-2.98836425419077,-2.79909208628815,-2.40887164166251,-2.87788219838599,-3.04708802466031,-2.41307730625475,-2.68314737433294,-2.9469057223495,-2.19988648227006,-3.0570868015615,-2.00180473364514,-3.11623337788731,-3.2013809516674,-2.61051976381252,-3.29395111946569,-3.08054371854403,-2.43925935297405,-3.22967617413385,-2.56319393478543,-3.47709980341516,-2.81852435973267,-2.93497325115772,-3.24445107995544,-3.41189268381563,-3.14105041105058,-3.73497210195543,-3.18596117807195,-3.31945262545045,-3.19056674713684,-3.34955626750837,-3.27357633852008,-2.9836549352541,-3.13687897480708,-2.58567305314794,-3.29608335408949,-3.2781024826049,-2.72018812158016,-3.1445076617993,-2.99622945781404,-3.02900973504572,-3.00025470910511,-2.78461523841897,-2.55705227173096,-2.25576627015528,-3.09407196256808,-2.98097601440364,-3.10378743380278,-2.93954394685258,-2.70530600919145,-2.52293914546335,-2.9008030178223,-2.97791341867991,-2.80799677660883,-3.13082816048171,-2.90557497905278,-2.61183982910334,-3.1901112365589,-2.84608618378879,-3.11461300541032,-2.81195921527186,-2.68695749327902,-3.21003200161773,-2.93111152488512,-2.97250174572604,-2.55460780027903,-3.34278891655487,-3.14473425210155,-2.85885708817316,-3.08810495729005,-3.31257102805345,-3.2442836507958,-2.00935623602812,-3.41199897852035,-2.57499439334588,-3.30017512248012,-2.80403103037714,-2.86639604328639,-3.31511177759848,-3.71930787162464,-2.85017431231792,-2.7484760023451,-3.48687999938211,-2.80955984887176,-3.12163804269579,-2.35523599861337,-2.97526558903201,-2.36061585185499,-3.4293356264797,-2.60642058082976,-2.79651941943983,-3.01883335206823,-3.44283617318793,-3.21762364566594,-2.73188464983583,-2.96215186820536,-2.9585074624299,-2.79752702326903,-2.80481431527031,-3.23086958914676,-2.61458138761448,-3.3428421865484,-3.46552571493638,-2.19694162359514,-2.64269102077427,-2.94209842489472,-2.91942267215102,-2.99023369027476,-2.66434366147869,-3.0510297868907,-3.03153547497961,-2.91456142679579,-2.76366049468818,-2.56360312148263,-3.03224675896795,-2.81350344480825,-3.75274120007945,-3.36796278747127,-3.2780925697694,-3.18514578720763,-2.70851070615025,-2.67058416502514,-2.50203653790448,-2.79100368892227,-2.98980099271841,-2.93805579017359,-3.28559448591106,-2.58907620401791,-3.08333856456017,-2.97284125886316,-2.63747850416547,-2.46200305903461,-2.73395411678145,-3.09062250453246,-2.3509517614891,-2.66038866998136,-2.93905829152448,-2.20456253915555,-3.00192758827912,-2.072398624175,-3.10091257800698,-3.22598287669054,-2.7531309110744,-3.34853892392477,-3.08951262030704,-2.40362132975198,-3.12303749826713,-2.64730547584441,-3.54456426516588,-2.8525150291895,-2.79292513063164,-3.17449390726924,-3.28185291693654,-3.03646613435286,-3.72811733192123,-3.24096863737388,-3.33045523192455,-3.10133364288621,-3.34952348766473,-3.31352087141864,-3.09043959899783,-3.20741991136958,-2.60861008988638,-3.33407429734792,-3.23234117227804,-2.82053785831116,-3.09428685663817,-2.87163572699699,-3.06114131402756,-3.0042071218903,-2.81476220837906,-2.62207878412514,-2.32775305916452,-2.98177781296201,-2.91067483807322,-3.10802696624955,-3.00544986460148,-2.64637174919028,-2.60982980630886,-2.81637345392394,-3.01753598364214,-2.88579477060009,-3.03844087528954,-3.01965459272503,-2.49530251097951,-3.02401579636206,-2.83311751545742,-3.07352073632167,-2.97583073542028,-2.82544980762226,-3.08111912905577,-2.90884296231055,-2.92853014951683,-2.43290291971323,-3.48447984090833,-3.05625604343525,-2.89483253891369,-3.11426476000828,-3.24259891795417,-3.06928399571798,-3.351842432882,-2.5735061344841,-3.43912293633169,-2.74171150885103,-2.93577292013618,-3.35111717378672,-3.71578688921445,-2.70936184094461,-2.74609599863143,-3.41086350178864,-2.73729575518442,-3.16204255493821,-2.25366344712119,-2.99704337583855,-2.44101356002203,-3.38971216627131,-2.55781268726123,-2.86762657662125,-3.14091140618729,-3.4847198227778,-3.123220398001,-2.71478567924234,-3.08771286645818,-3.01541376584134,-2.98014997974989,-2.89798113492542,-3.15784129761307,-2.73297138021302,-3.11779348981232,-3.5070263469639,-2.22604137711694,-2.48184005942085,-3.084454275769,-2.96605769751156,-3.06777137942779,-2.64797425757706,-3.00524025843676,-3.01427847940063,-2.98194810000571,-2.76022185854319,-2.51965429415486,-3.09003344842632,-2.85525283472658,-3.75210300841604,-3.29683034498623,-3.29360516174109,-3.03601417319086,-2.64913698915271,-2.54110101582001,-2.34329230057058,-2.87533324048876,-3.00585936787827,-2.78476810434348,-3.20501305438486,-2.61010012502419,-2.99460432748469,-3.05583446968749,-2.58292490237846,-2.38212005307624,-2.71550200000052,-3.08920694821682,-2.30844406993174,-2.68732914546561,-2.9755181962858,-2.21276748484634,-2.94203640126497,-2.11087018318202,-3.18079267453016,-3.21265151414508,-2.61382100290183,-3.36529071508859,-3.03595939413021,-2.50508817225009,-3.20534862920848,-2.58911973206107,-3.50603702826182,-2.85394876546321,-2.96008175970812,-3.18787556581936,-3.35036943472898,-3.09552609501331,-3.70564220118825,-3.14504471957217,-3.29491669071621,-3.19687979288445,-3.39616793531606,-3.39227835499039,-3.10534860705555,-3.29420777294599,-2.48435167393647,-3.39127240975843,-3.32145019956832,-2.78763247630738,-3.19296170895869,-2.87324657524703,-3.00352367500709,-3.03009880500241,-2.86163318216245,-2.56223475937367,-2.32320621810677,-3.11385213523629,-2.91353349838999,-3.08975303853579,-2.95503276077572,-2.70894806955787,-2.64268566066585,-2.88013389536412,-2.94669628991523,-2.92695627461101,-3.16929431214035,-3.01654287369271,-2.58072253264914,-3.0830333930532,-2.71877892669548,-3.25890582008065,-2.88864198751535,-2.73901447067761,-3.1158879569633,-2.96873283456049,-3.02560038986506,-2.52481118388338,-3.37651769349832,-3.02300784976843,-2.92584815680499,-3.10979787671973,-3.26246032185192,-3.06044672362311,-3.29285028396984,-2.63039443231497,-3.30355554346446,-2.74304338759723,-2.92078256585724,-3.40148546957384,-3.72633775463544,-2.77422495490488,-2.66828542489958,-3.41535252799663,-2.85479133616721,-3.10009971363612,-2.35440947913036,-2.99772959013238,-2.42595316504719,-3.29635099371848,-2.64324059052212,-2.82642932863556,-3.09678383923924,-3.49238381187843,-3.18572799346273,-2.65770667279275,-2.95711300756304,-2.99015930856803,-2.86860870677591,-2.88475714150151,-3.13914375665561,-2.72603401893136,-3.33372157001957,-3.47635661931423,-2.25204169145353,-2.61419114764397,-2.87564563071707,-3.06045393613917,-2.96305758235182,-2.7824147126805,-2.93676247513836,-3.03559363397388,-2.91509916616089,-2.78566238767114,-2.60133310241951,-3.1535187449779,-2.88396980965417,-3.64903841956075,-3.33759071256393,-3.12600094824329,-3.05264305410598,-2.66938892680451,-2.59705193449994,-2.41530262860629,-2.81104852129951,-2.96908970486863,-2.9052179767229,-3.24137516775758,-2.54461260155412,-3.05352451661427,-2.72079942878471,-2.32233510822196,-2.79702540120886,-3.09634272609829,-2.27104629806368,-2.80455915622479,-3.08268192516407,-2.22626513520386,-3.06476911776793,-2.17019596419253,-3.0073276890503,-3.26331934904344,-2.67908547927188,-3.36184700033649,-3.109157582684,-2.46064779602964,-3.31427019638581,-2.75096205030136,-3.52460036706477,-2.88042390661983,-2.88615314007185,-3.23696808060763,-3.36190508470099,-3.17460024699517,-3.6604940124784,-3.17908645719674,-3.42001796755981,-3.1648103545959,-3.26558785165425,-3.3490571040366,-3.14992674885057,-3.3232950838722,-2.5317060774568,-3.33316538509636,-3.20016996542661,-2.91515729198057,-3.13673490148198,-2.87153882721341,-2.94591116844709,-3.13288505442909,-2.81449001214598,-2.59537892232786,-2.25891690830738,-3.18453917433662,-2.9511159995534,-3.12771632012999,-2.9364911443794,-2.74969021532347,-2.57866222041422,-2.95459874889637,-2.95428917004127,-2.88873511677843,-3.21688745568314,-2.91957683955442,-2.56183882395059,-3.0922447707205,-2.68528173007169,-3.15655507345805,-2.82814674265258,-2.74889010496316,-3.07619278603271,-2.95930528144248,-2.82820005666475,-2.62676277910172,-3.51902644131846,-3.0510719243643,-2.92378129944173,-3.22000231342109,-3.21767280165252,-3.12909424026171,-3.29634951968256,-2.696836188266,-3.36881634067859,-2.88560126334051,-2.94777708981821,-3.35820067909052,-3.69173770777013,-2.7442280424153,-2.7225961038995,-3.36133404195012,-2.79927234645444,-3.25731372162523,-2.33076936435614,-2.90279319669078,-2.44556707144894,-3.27010416460071,-2.61547517735558,-2.8141646997417,-3.07159892582779,-3.51528476079504,-3.21952350367211,-2.7999380444185,-2.96399368110383,-3.03981718101248,-2.81925259415389,-2.95273071254879,-3.18669730586894,-2.60840786164959,-3.26341213332053,-3.52167469223889,-2.36814914451821,-2.63157177999778,-2.95522913276517,-2.9407192157201,-2.99485586752119,-2.88801867516965,-2.95942152368772,-3.02740923314848,-2.92755879372848,-2.76619925725173,-2.54523588784897,-3.17580172482488,-2.92158037576366,-3.6840739798713,-3.28055114151658,-3.22864036493114,-3.21009988791822,-2.80474500480594,-2.64075931477565,-2.48006320480229,-2.83555129414274,-2.99661498804018,-3.00737611023337,-3.35819061301255,-2.51285132574974,-2.96081637160321,-2.72023925779748,-2.41511033416754,-2.79652128154629,-3.13610875474316,-2.41142926951247,-2.71313621086431,-2.89510638607163,-2.13161883889351,-2.92361013724047,-2.24171810827454,-3.05294713209181,-3.15282206342758,-2.60567507767432,-3.49809226920231,-3.04303932997005,-2.43295673247321,-3.24458225563545,-2.60794985151582,-3.60086819470596,-2.81249814550612,-2.95715714777028,-3.23431521362498,-3.40588023399167,-3.02960854954293,-3.66672383861511,-3.22397588734486,-3.22698810213081,-3.1262391208703,-3.32218500984006,-3.32665015084185,-3.17828993422101,-3.12547169827928,-2.57408088780503,-3.33027410173169,-3.2856536983426,-2.76035478412951,-3.00793323627392,-2.87603599965796,-2.96028148780546,-2.97233059532118,-2.87439084444377,-2.64741424619392,-2.29243606341852,-3.12155730556987,-3.00033596342025,-3.03870648173931,-2.96314693353144,-2.69251996135284,-2.67551310337983,-2.91092381073479,-3.07046382878248,-2.87903376884814,-3.0410261930463,-2.97092733004729,-2.57184593995963,-3.13571859097578,-2.82369020653196,-3.15741363899091,-2.88280859936435,-2.73255544193476,-3.01484000463983,-2.91117438653825,-2.92849879831064,-2.44180069467466,-3.51919415905889,-3.10623616983586,-2.93592832109559,-3.1237772904857,-3.18681308454341,-3.29306040592359,-3.41566115335006,-2.61661141347383,-3.36791716459065,-2.77679399010848,-2.89655716543399,-3.36837742265649,-3.74898965785089,-2.81659624048329,-2.73862785421277,-3.3465462713178,-2.67307115957082,-3.10670871017109,-2.28791669384287,-2.8837000353237,-2.43910596215209,-3.3342601803671,-2.67762668483448,-2.8803418193802,-3.10989529690279,-3.53428130884662,-3.20076635239093,-2.73091909519286,-2.98912515675505,-3.04190663191116,-2.87016322430757,-2.92966370070583,-3.04629976014306,-2.80479862012724,-3.31243927990743,-3.42486427870311,-2.3371650060027,-2.55590661013008,-2.91374436095623,-2.98248424367932,-2.88564053565008,-2.76802286531221,-3.09905742017209,-2.94435790798288,-3.1081004900267,-2.83656441178477,-2.57623887459457,-3.04092674437362,-2.79684241888791,-3.72879340824784,-3.35096824251294,-3.24358377052321,-3.12437152738555,-2.60961452385227,-2.62431711361914,-2.35528815086238,-2.86521821448892,-3.02161768432221,-2.88468729178367,-3.10119944609884,-2.57589013380099,-3.16317931450022,-2.94399185937999,-2.69263918369929,-2.41189764327513,-2.749774047537,-3.15077245014683,-2.39331066247953,-2.75913261264768,-3.01753225538688,-2.09173166426123,-2.9410796630361,-2.01134106258448,-3.06722209170184,-3.27264426857302,-2.57355358101158,-3.44704587765831,-3.07673237396437,-2.33940774802013,-3.31537981856424,-2.63274178549093,-3.59108072057346,-2.82107237610703,-2.90149126239335,-3.22296099393342,-3.40778062775618,-3.06791493344356,-3.71147564249834,-3.3257047308996,-3.34949432096326,-3.13788790944859,-3.37474908573774,-3.26440953862921,-3.08813921350538,-3.2960573788307,-2.59301240858783,-3.27478862414886,-3.248537379498,-2.79214976721318,-2.9450427476304,-2.87193749763313,-2.99113334501589,-3.17039565318607,-2.73875679112596,-2.51118368813666,-2.30785541736274,-3.15053372038117,-3.02423657332754,-3.00988414431854,-2.97334855025222,-2.72439507546523,-2.59210633731224,-2.89237186464331,-3.00790996882209,-3.00939463278767,-3.25842227183041,-2.92027847454726,-2.57989142461726,-3.10905402194905,-2.6869085255983,-3.11001901175111,-2.91326025463993,-2.8009219467087,-3.05491251016717,-2.99134193884092,-2.9704450477348,-2.4181059550172,-3.54304363261639,-2.9802785703596,-2.91773633595071,-3.18620192156743,-3.26064337064173,-3.12607315512882,-3.27166080152577,-2.63363887876536,-3.33116079850049,-2.72788833525892,-2.98352150346004,-3.24108046605853,-3.72958780012483,-2.77957834805094,-2.73316718078616,-3.40479740448505,-2.7575665004797,-3.07675231761113,-2.22259100672875,-2.85352679106666,-2.50655957821827,-3.45284476197786,-2.59483426545689,-2.96609632026447,-3.10312506133731,-3.63238038715401,-3.24542439816089,-2.74950336970351,-3.01619131363474,-2.99689325234024,-2.8002550790067,-2.91156431412606,-3.15984622271567,-2.79988915158092,-3.31721671169145,-3.41617676437897,-2.28890077488242,-2.66624622866049,-2.87067999585421,-3.04557015621734,-2.89383261500708,-2.81704846737845,-2.99429734501342,-3.00091181632229,-3.00139496063545,-2.77694582389487,-2.44831052223083,-3.1963978682901,-2.84522292698558,-3.75117569414448,-3.40159642556115,-3.27948394559627,-2.9908100929102,-2.70085671983776,-2.65332401423416,-2.36879528506123,-2.88180495448257,-3.04706474094387,-2.96536522475964,-3.04542161099678,-2.58307282051726,-3.04070184683602,-3.03207025049819,-2.73173869702012,-2.32820962708813,-2.93078307618241,-3.13826699181628,-2.31931757919396,-2.68124554374419,-2.99277459060298,-2.24992228887337,-2.91746254744314,-2.14504120578198,-3.07754884122741,-3.20749773682824,-2.68884761532012,-3.32665067893548,-3.01488459108882,-2.35618252541223,-3.28939006959827,-2.66455036574026,-3.49657642863518,-2.90351693810612,-2.87288345164746,-3.25357878689916,-3.34788724702835,-3.22970656450813,-3.7453348056961,-3.27050914240054,-3.49417125478952,-3.15811311635112,-3.36975230483877,-3.38378249303032,-3.07090938521445,-3.19077354828229,-2.57163439686623,-3.34836420059263,-3.27008626436665,-2.79601308830678,-3.0978760778652,-2.93675770168341,-2.93404528540863,-3.15364534524838,-2.89031782867484,-2.58619478815254,-2.32868584881118,-3.04451308914134,-2.90058216015095,-3.07231330884945,-2.9799108781134,-2.67387376108211,-2.63871593682434,-2.88754341357834,-2.98868874513947,-2.91526974373428,-3.16130342183812,-2.93204585852909,-2.55153206026998,-3.05314255663853,-2.77029822510736,-3.09892021963376,-2.93426412166842,-2.71014617049076,-3.02871706917426,-3.03072952532815,-2.94072498855796,-2.51701883025575,-3.44374526632197,-3.07155807943072,-2.93243463447427,-3.21469826272636,-3.22760185436881,-3.22989381996114,-3.3089001947468,-2.62764401400195,-3.37279346189134,-2.80975799307494,-2.94185756473535,-3.418366539457,-3.7724644817386,-2.80811751333847,-2.79098362680661,-3.55335317992678,-2.78033481610206,-3.2669657408692,-2.31113585007611,-2.90528012398594,-2.38632183800404,-3.47533645421869,-2.53001417219877,-2.95825181857303,-3.07281873563547,-3.56432784341461,-3.08804841936864,-2.754692264685,-2.96152467286134,-3.09224695641732,-2.82960710804165,-2.87900672809543,-3.23974346365042,-2.68715325328161,-3.28840030925502,-3.55443957558328,-2.32161623975928,-2.67726869523766,-2.98377966305301,-2.92909175241817,-2.86469013246141,-2.79915513325915,-2.92783993025293,-3.07342080916807,-3.04549721875153,-2.73808909631678,-2.6043264251466,-3.06013948850978,-2.759960960079,-3.74208906881306,-3.34721545712345,-3.35389929620844,-3.06122927753398,-2.75128045766064,-2.57276583095998,-2.35278726182683,-2.83481356432655,-3.12202030337211,-2.94578337526357,-3.14908144787582,-2.51403698856053,-3.00431201406251,-2.94641920046086,-2.72957619093062,-2.37017455994685,-2.80751637953778,-3.03546452802782,-2.41023005151145,-2.69164257538826,-2.95765892203261,-2.15430812756681,-2.9333061627892,-2.17432837509619,-2.98185496557837,-3.22342847081322,-2.54900059594964,-3.38371163653115,-3.09473093816232,-2.51764488860218,-3.34049471117133,-2.71007708084496,-3.38236753390428,-2.81377924471538,-2.90572255871214,-3.37358897016294,-3.31986301568437,-3.12827000503173,-3.66655311702661,-3.13755581776736,-3.41218639270716,-3.1872269796044,-3.31385457270588,-3.21056640818658,-3.02925666367994,-3.25695208307726,-2.59124254626612,-3.22579015815552,-3.24787407666645,-2.8296268004802,-3.04298317177141,-2.89697772328265,-3.03730197874152,-3.12849115027576,-2.90575135616008,-2.6104337260915,-2.29360676502557,-3.06690742580407,-2.86223999282335,-3.03557710928396,-3.05869074750353,-2.74267683400807,-2.56886858947002,-2.88471390879968,-3.03111579962565,-2.89964679486966,-3.21742314439004,-2.96899448675933,-2.55903476936622,-3.16867713455695,-2.71502278496248,-3.17433706102964,-2.93857875302728,-2.77114990753714,-3.04439051732793,-2.91466089926038,-3.02721333818451,-2.47293734710511,-3.45412624517718,-3.08455695125665,-2.81080214670636,-3.28015298598128,-3.34415735789728,-3.13516767438642,-3.34756290066419,-2.61924077702767,-3.33058680411657,-2.88733722169657,-2.90657173277376,-3.47492106302093,-3.7220954868583,-2.80577521382306,-2.71129679531887,-3.4364733301534,-2.86553312550992,-3.10471322289143,-2.26000132115905,-2.92922988334483,-2.47321527026177,-3.36682535895668,-2.59818466368738,-2.94141468531364,-3.17967850105524,-3.61076945850614,-3.1503228233224,-2.76776226887901,-3.06942476047593,-2.98892719534649,-2.88350036862575,-2.94564495937161,-3.11947062207433,-2.69238288678658,-3.31295729067602,-3.34980837134645,-2.26722307046495,-2.56690038905344,-2.94017904094497,-2.93648226291195,-2.89372866689694,-2.74870501582974,-3.01761286251558,-3.07549881123666,-2.96006854895122,-2.70341122281026,-2.62898931386967,-2.96349622622524,-2.77703370155544,-3.70957210716296,-3.31932447192761,-3.23620721955832,-2.96258709972446,-2.5973450825785,-2.61929532137433,-2.46891964330135,-2.8328309361615,-2.96209800916619,-2.82744471194481,-3.12471430574708,-2.56694535799552,-3.10195589595688,-3.03215799273615,-2.63786213812875,-2.31744208314682,-2.86752307285587,-3.02340227172895,-2.42200996900673,-2.67086855360432,-2.92952885244581,-2.29331569964986,-2.96693234721586,-2.19699767736108,-3.10692407109954,-3.31877494935387,-2.65717862854361,-3.36833932958316,-3.11201456593083,-2.41253450847835,-3.2416740051414,-2.50366607405359,-3.51726535638456,-2.82418483334227,-2.90097544481632,-3.18837698322807,-3.38011859924582,-3.0569948042599,-3.7490365515009,-3.14936971771097,-3.2035569818048,-3.13319295925029,-3.21143764969634,-3.31631774341978,-3.16447107572758,-3.33165827648111,-2.60025047631363,-3.26084799832522,-3.32813539481578,-2.72569447684649,-3.05835248105212,-2.84582651047046,-2.97675787082314,-3.02973499914096,-2.88813257240925,-2.54711750515621,-2.23212502192255,-3.10068646386331,-2.91322096296198,-3.05222542988263,-3.14821573885353,-2.71847172290235,-2.51664993562332,-2.8454956285324,-3.16648227493914,-2.84841482979461,-3.2166958274814,-2.96232920590923,-2.49930426314193,-3.15405572971449,-2.81575253548921,-3.06203205637784,-2.94189955614294,-2.76769024149862,-2.99955693998844,-3.00856151419246,-2.87866070868602,-2.56089805618492,-3.53403348391038,-3.03448404972762,-2.90239641811575,-3.23323633338433,-3.261333268741,-3.20759966118873,-3.28522397602543,-2.71740872114151,-3.29316607616645,-2.81206863154021,-2.79931294035464,-3.31904776861546,-3.76984706533675,-2.76374524852215,-2.75185250095341,-3.4357448928243,-2.77841663185133,-3.07858346743036,-2.27341258983485,-2.91501352768273,-2.45674056086157,-3.37481884885639,-2.67064621866,-2.73935407685264,-3.07456695519106,-3.54324574395996,-3.19490654718088,-2.75960247294031,-2.99985630996965,-3.10233746106015,-2.88511579275031,-2.90904382478535,-3.07137575648769,-2.67190946738691,-3.30255825541441,-3.53449227004964,-2.27781845517873,-2.61261326089326,-2.86442489817636,-2.93268403374791,-2.84526056825628,-2.66833291139043,-3.01386997092914,-3.03131306802353,-2.8810721988809,-2.7296844424384,-2.62846408851366,-3.05639209723829,-2.73033120308631,-3.63644391471809,-3.27632206892961,-3.11564869859706,-3.05394864981211,-2.6869381421648,-2.54326488894809,-2.41635892130755,-2.80045009247004,-3.05661071547824,-2.98613837212753,-3.27973594610554,-2.58913363417238,-3.04015084639019,-2.69252443794091,-2.43563047703134,-2.71666677627461,-3.04140774690675,-2.44031061128392,-2.78089001558106,-2.96194776279299,-2.18351476721876,-2.97667787281549,-2.19829846544384,-2.98188867181711,-3.24404359456846,-2.61663551138706,-3.33911330797685,-3.09460750519234,-2.51185320105258,-3.27908655341759,-2.75311088969994,-3.60421254206559,-2.86060345638961,-3.04318457078285,-3.2470622031697,-3.35926314207082,-3.23348021834828,-3.60979062820091,-3.33263017753715,-3.39584416606449,-3.18851891024913,-3.28801122856592,-3.33897264653037,-3.10388792159217,-3.34813043766808,-2.50257212081953,-3.33112129377968,-3.2163081002143,-2.84495004687617,-3.12943788368429,-2.86345008020418,-3.0695689667052,-3.06887516612313,-2.80304900172128,-2.52004680911669,-2.32898358872461,-3.03409352167706,-2.92312303259518,-3.01172733991912,-3.05510282306782,-2.66058419490278,-2.49461898638648,-2.98308903498812,-3.06597573452749,-2.95897828871161,-3.13639953109656,-3.06450412443181,-2.5718290688545,-3.0672424117076,-2.6500851927597,-3.03342894116128,-2.89570536093534,-2.7274151998568,-3.21306281461782,-3.00393090736341,-2.94874239227857,-2.48706390464924,-3.50762232358679,-3.04395967652094,-2.77099698192408,-3.18638097487586,-3.27561767418119,-3.1721127265948,-2.05538084957066,-3.42690190634128,-2.549352868932,-3.33559631722743,-2.71959534327482,-2.85731906521744,-3.66645682002321,-2.838008844828,-2.81168395085087,-3.5207365088282,-2.80926728890392,-3.1523277614084,-2.29608334443985,-2.8929773264935,-2.41770730334873,-3.36857156157667,-2.61399043888347,-2.93833910030011,-3.10940154817371,-3.44698344288586,-3.12116985488413,-2.63432690456418,-2.91416940326953,-3.00194406554755,-2.82491937533014,-2.83511412091881,-3.09093121210955,-2.78932316653039,-3.2839809645594,-3.50874404208578,-2.35835824576338,-2.53746026502048,-2.87191916809499,-3.1126576833075,-3.00505694989979,-2.73386673115895,-2.95807125145444,-3.03387449582047,-2.93335635195886,-2.79723434437624,-2.60236097518387,-3.13331612448733,-2.81434793600075,-3.68878852374883,-3.39031613940812,-3.27289396901117,-3.17902982382543,-2.7676256497617,-2.56767530162508,-2.36850783979593,-2.84001211596624,-3.06375990214798,-2.86979312250422,-3.25486799269831,-2.51092499919771,-3.06887180679434,-2.699111701079,-2.49474993888673,-2.91643510942556,-3.05357199893673,-2.29280141922302,-2.74067473747086,-2.86947764905367,-2.28676732727141,-2.96675146821944,-2.27670121263928,-2.96802504603308,-3.20231970523817,-2.65176337975909,-3.48770165239497,-3.08596270953369,-2.47485742609185,-3.26162738713355,-2.73399583659426,-3.4300183884681,-2.93818635206985,-3.06255069625766,-3.26840765464269,-3.28918183036674,-3.09530715294772,-3.73143410825859,-3.25727710247302,-3.32923241189059,-3.15946894860796,-3.29546940706066,-3.3726856460983,-3.11297249238688,-3.20052531341734,-2.47580344756679,-3.32010268009302,-3.29147652412357,-2.77246327698697,-3.22762560443844,-2.82642626468804,-3.04203074248552,-3.02575105717805,-2.85798049702009,-2.62699143838108,-2.2946836387058,-3.03479877503964,-2.83274672636159,-3.07103044811291,-2.98436256964002,-2.64411921336339,-2.57619536041793,-2.94063169667941,-2.9970626256548,-3.06105469919242,-3.14087229645737,-2.94317478697223,-2.44234344347556,-3.05605521419985,-2.73722271904445,-3.12512157533261,-2.92774079602111,-2.73024088764523,-3.08712634962505,-2.94927689283003,-2.89876220468756,-2.50170044502442,-3.53660924000183,-3.20980552616673,-2.98737129957934,-3.20020048649827,-3.27658656772578,-3.25289104601954,-2.00404223941633,-3.39952424705274,-2.66461570853257,-3.33313871735533,-2.79208523744328,-2.96595452750308,-3.74881102713233,-2.77393690630128,-2.56111880844209,-3.40159466774512,-2.86221325387094,-3.18433821013327,-2.40319768628255,-3.08041738692695,-2.40262438371714,-3.47079623036562,-2.5471020596696,-2.82412173667554,-3.12303770635848,-3.44704193715922,-3.17216791300585,-2.73717241410575,-2.97085962973478,-3.10598550347869,-2.85942004529827,-2.85858376443726,-3.16103954824253,-2.79722425903081,-3.28944398230776,-3.56861233235245,-2.26364003331412,-2.67847410597526,-2.99998663408828,-2.99498279113204,-2.98409222148961,-2.91144403024026,-3.02535661908264,-3.07004742368506,-3.05424902515895,-2.75807631661156,-2.50092391143987,-3.17934920759054,-2.87281047855382,-3.79608520734708,-3.3418164479411,-3.25933834002635,-3.18886623301628,-2.73272514142582,-2.64123746622673,-2.38435602796861,-2.89053058172292,-3.04598264402741,-2.93013796949769,-3.25762438710437,-2.56259799026936,-3.09480290445156,-2.72282095004653,-2.39492801509412,-2.91438215095108,-3.08311534897335,-2.42464585889777,-2.73917840597462,-2.93532899414264,-2.17045593070976,-2.99737048842806,-2.16630552285618,-3.09596883328726,-3.36539732427656,-2.64512923275113,-3.42661235928437,-3.03199554242205,-2.48235316983278,-3.15017076347984,-2.60058976894131,-3.45018858084855,-2.91510499900994,-2.97697938928485,-3.14690842524686,-3.29160319599478,-3.05140646401119,-3.59827680092552,-3.2566425897131,-3.27353938011299,-3.09438734531453,-3.31368572185237,-3.33761530140174,-3.17898841762012,-3.16929145414987,-2.58252409417453,-3.25487079638129,-3.27907009205089,-2.81612252470868,-3.13014095380137,-2.93471421552181,-3.0831366251878,-3.0553526614634,-2.86490993460712,-2.60343899281129,-2.32964546895547,-2.96025966315372,-2.96966176886441,-3.10788657424468,-2.96353437207623,-2.71654235056342,-2.61701374463563,-2.93622369108815,-3.04660407865558,-2.94807896153737,-3.20468406579336,-2.98552566736061,-2.60332043858898,-3.06128536345452,-2.8541418638068,-3.11750765150701,-2.92181356866485,-2.65685357704682,-3.10652341499499,-3.02314232108299,-2.92514324803371,-2.51851893000665,-3.54615951521803,-3.10728233427672,-2.86215299077804,-3.21943923202925,-3.20364557267769,-3.07180786983491,-3.33773003263542,-2.58307614891807,-3.40471841815801,-2.82650762113445,-2.91792541199945,-3.39960595823692,-3.70506147062725,-2.81702140193576,-2.76117319977593,-3.33343760950363,-2.82683215404914,-3.0825565955635,-2.38926119188381,-3.00065913144563,-2.40227939195395,-3.38506970135879,-2.59357234785658,-2.86432189846881,-3.20054033851661,-3.56714583083975,-3.05731336829962,-2.74881123318418,-3.09414946978094,-3.05464977344433,-2.80268221520586,-2.85020405494183,-3.18031945005664,-2.67029506649204,-3.29476138099972,-3.48406669914915,-2.3261657178481,-2.53261653174999,-2.89232644835726,-3.03573998872316,-2.95197856369193,-2.74535813454371,-2.94628094320663,-3.03970328425172,-2.95808989875521,-2.77270061647278,-2.56290138657659,-3.13080294290061,-2.75708580219023,-3.74934872921588,-3.30139225839474,-3.28246908562173,-3.21466728944089,-2.64210256214096,-2.50036323751933,-2.50506485374607,-2.82752942861389,-3.12751499975494,-2.8735832969597,-3.22835822856251,-2.52023188644707,-3.09501972277876,-2.81901924848303,-2.445045006239,-2.82227120859154,-3.19366459900678,-2.40982273770674,-2.72723101851923,-2.92899817739724,-2.20939969806618,-3.03896034179193,-2.220693248283,-3.06810153245597,-3.26675979921497,-2.67996130710201,-3.35783816528704,-3.0457957822679,-2.41344859566641,-3.19936748198985,-2.605703302039,-3.52501789523029,-2.94034016748093,-2.90074195952383,-3.21448039182829,-3.36998318444112,-3.15437189321984,-3.70586529025383,-3.15016447319484,-3.30291158370488,-3.21935687923,-3.30223832776836,-3.27095180612177,-3.12415582919458,-3.25869620622675,-2.53934481951069,-3.31174546838195,-3.38289329206186,-2.80151207992442,-3.02774300221953,-2.85197961945904,-2.99786516406878,-3.1347022433793,-2.87654930182724,-2.57183281676971,-2.19513583864099,-3.12529423438513,-2.94465701077654,-3.03388003415441,-3.02467367676039,-2.76498706944907,-2.68971180036542,-2.86396672001131,-2.92405358898841,-2.96638696999028,-3.23219621820335,-2.9167415773689,-2.50352633284898,-3.03490756429693,-2.91598627408575,-3.2024716717402,-2.98086880697389,-2.79489516663002,-3.04562588142127,-2.89822724506479,-2.92923207058118,-2.38045541591499,-3.40673055416263,-3.08442947338851,-2.90889438578156,-3.24626461818256,-3.16210164718668,-3.2016537494773,-3.35937057179414,-2.70284988086234,-3.32538479321663,-2.75895676081878,-2.88127163248852,-3.43951166762062,-3.72520667516524,-2.81874507189012,-2.67185524406582,-3.43558236311941,-2.85808733486561,-3.12525705658304,-2.12040921875017,-2.90590257829157,-2.4399578657416,-3.35424343334873,-2.66863607337778,-2.87100535190648,-3.18080467203516,-3.56100847867667,-3.06313808672997,-2.86253164259156,-2.98323578082928,-3.08746242788677,-2.81651977668654,-2.94466149968378,-3.1031635710561,-2.71214847435244,-3.29498712316653,-3.56906374198391,-2.31518937637363,-2.64008373069397,-2.84779482781628,-2.99501899945511,-2.87357497313875,-2.67236302863873,-2.9688178211888,-2.92674437662703,-3.04993799691893,-2.61883357346046,-2.63020043512037,-3.09811222038344,-2.81887603131498,-3.6999280363435,-3.46383931845283,-3.2363795189251,-3.0799346858832,-2.64782370646586,-2.50729371031448,-2.53224021127617,-2.79270927125432,-3.01847532849733,-2.8617399259266,-3.20040495369952,-2.59858666583976,-3.07868834457507,-3.00245491595706,-2.74659926954087,-2.12076183811376,-2.81025620172621,-3.13733547594917,-2.30043500525219,-2.67060618786838,-3.05211102654747,-2.2262949774363,-2.9883070863868,-2.15941492578352,-3.1031253193303,-3.21513395325287,-2.63593404618366,-3.37788731661989,-2.96456107746321,-2.47115249554469,-3.10842565971871,-2.5579968967909,-3.46604744635734,-2.92632947857627,-2.93551356351447,-3.17861575196597,-3.37058739262373,-3.07163845522116,-3.69164031219119,-3.14999291130396,-3.35693579061058,-3.22005319048225,-3.29907617632879,-3.32995964863489,-3.15113413395131,-3.14672246889998,-2.62690897707124,-3.262249506179,-3.12700506653216,-2.75169765096005,-3.04779100662489,-2.78335531896902,-2.93175518830597,-3.08864484481693,-2.88564875612868,-2.63603543719104,-2.24807186205191,-3.04292717402348,-2.9453055278928,-3.13605342369513,-3.0481298105757,-2.71201350821878,-2.55416104375454,-2.87235709981609,-2.97335270074395,-3.03046199388082,-3.16547850833419,-2.93796564275247,-2.54701983754272,-3.05673340169135,-2.67305180061739,-3.11784963490437,-2.92746947411606,-2.77279369098991,-3.09992850548569,-2.80341315969507,-2.90193397612848,-2.53172079987341,-3.51964269956013,-3.0458276338182,-2.85631887907302,-3.19213832607155,-3.22292591164659,-3.14021574321238,-3.43945837800865,-2.66159091637672,-3.28547939127952,-2.67253540171546,-2.89882899141632,-3.44195900386274,-3.67496150543213,-2.78616265856361,-2.68783113060787,-3.5434272839339,-2.82411991051523,-3.18678202439867,-2.36442022371902,-2.86454574043703,-2.55023862482624,-3.48811434562833,-2.5994317729931,-2.86470923487683,-3.17869200431085,-3.48683907487811,-3.07211463232038,-2.76850711797311,-2.95674563388208,-3.07841856541367,-2.78109557511717,-2.95079077110239,-3.2229512699188,-2.72063571435819,-3.26262106943313,-3.52875367531046,-2.2582377636396,-2.61013494926949,-3.01312694341647,-2.94463836792216,-2.92846514220483,-2.7206467629279,-2.99803164429496,-3.10540755257295,-2.98614019602187,-2.66012907837296,-2.50680366069225,-3.04403929615009,-2.81501391480388,-3.68932593650274,-3.41763668255538,-3.24994331556895,-3.00658656943126,-2.70622433412679,-2.65832274590829,-2.33666965066048,-2.89115041361114,-3.08583610151597,-2.92327138051617,-3.14781459650137,-2.52945594334893,-3.11711884489875,-3.01714360545564,-2.61737777287525,-2.36086888856915,-2.89115410532346,-3.13338867254711,-2.38318142356883,-2.68397825149236,-2.96049701876719,-2.19595776203424,-2.94904449565597,-2.20592824048543,-3.03072170545248,-3.29293853293418,-2.59492697908748,-3.39743487318483,-3.07989050475836,-2.51716430998753,-3.2791909447432,-2.60222985862888,-3.44714909544995,-2.8746265338972,-2.88503100431727,-3.20046647418494,-3.37517806037254,-3.23282141842866,-3.81589433229032,-3.22841237422577,-3.36615972487546,-3.18865970192949,-3.20779610906913,-3.35484297460493,-3.12841810965252,-3.19903430065813,-2.60199408172503,-3.32502726717406,-3.28226391519386,-2.8465216514437,-3.09046980393149,-2.85600991309323,-3.0673629125664,-3.1151360720105,-2.93588318125619,-2.50377311029459,-2.3158391143252,-3.15028506549363,-2.81141866125365,-3.02523784530355,-2.95568470148334,-2.69886079954386,-2.65939282705556,-2.84330983972007,-2.92931128826659,-2.99796874302872,-3.12622210498329,-3.02578922375063,-2.5865733848816,-3.16194415606639,-2.74630199454433,-3.0845179764825,-2.8142700491162,-2.8146935352404,-3.05798470722781,-3.00465187711375,-3.02020048167636,-2.4502315480871,-3.50325870354928,-3.15042866578736,-2.95692772066393,-3.19974201837503,-3.26853290302734,-3.13359063350693,-2.05080859988676,-3.39199146353616,-2.57444376438428,-3.3972495929498,-2.75232771433477,-2.95956306737428,-3.44524322095767,-3.66321066601906,-2.72598860467827,-2.67614659745232,-3.44589726913927,-2.75703526647643,-3.20230928443345,-2.40505657763395,-2.86269863559847,-2.49428782877919,-3.41613421669959,-2.60704048566373,-2.92231747314664,-3.06092619548295,-3.53936271117084,-3.07697993983742,-2.80958213014796,-3.00101481827507,-3.08316482772628,-2.92084573849751,-2.82804095477643,-3.16716514316628,-2.69725046614043,-3.32949787850282,-3.48398549435429,-2.2822781383816,-2.68941198368848,-2.94625653652561,-2.92024867189205,-2.97149762623593,-2.72180958482557,-3.03603319291312,-2.9265121867443,-2.95991774145417,-2.68304117782247,-2.54317473413085,-3.14196899806752,-2.88276162161874,-3.66657315235458,-3.30321213292019,-3.24315438111466,-2.99994109354537,-2.72697237848853,-2.59413348575138,-2.38200786591583,-2.8211865240465,-3.10145910994161,-3.03935848254876,-3.23315088297359,-2.52147493141948,-3.08285598933054,-2.6393044619428,-2.42511994793975,-2.81832200721572,-3.11800896538257,-2.40280541026709,-2.80720727308584,-2.93690999076395,-2.22140764691155,-2.94498795522604,-2.23222803073908,-3.08731635670537,-3.30374269628609,-2.69146923217207,-3.30493611371446,-3.07042336591926,-2.43763764229486,-3.22240292981843,-2.73293322235888,-3.43131315493691,-2.90135908953668,-2.83860246167945,-3.1992454417941,-3.227016914493,-3.04130319101456,-3.73041836205941,-3.20857331372235,-3.32445373852636,-3.13106337013469,-3.25992970006013,-3.25797227459766,-3.02233129986003,-3.28586524204838,-2.49431564389264,-3.35083373297009,-3.30108583319562,-2.83828216583297,-3.16057542530734,-2.88930613263692,-2.90007195200016,-3.05617506395252,-2.75680543811475,-2.51684116176833,-2.37742961338988,-3.16334158551201,-2.9011899792248,-3.07948433355668,-3.05855585964423,-2.69001133687975,-2.54988252212265,-2.82866963488206,-3.04278478298518,-2.88284564107512,-3.18605654360382,-2.93706502599516,-2.47638810050297,-3.15050823626689,-2.7902487420803,-3.0710110686716,-2.99435283562016,-2.76094868793094,-3.11678209496088,-3.04783230059649,-2.81316319775729,-2.49374486011182,-3.51931711803512,-3.12928428823065,-2.84818573820985,-3.16945407313918,-3.23817183690492,-3.1931128377013,-2.0132899977039,-3.29827813912145,-2.71859245411464,-3.41899584392412,-2.80990393462071,-2.91550939926958,-3.35767374235819,-3.75532443718402,-2.76942284748615,-2.75478304935315,-3.38471342273286,-2.69227429268797,-3.03874400683582,-2.28889574457453,-2.80240865629019,-2.44759995391338,-3.3904988872096,-2.57299890691984,-2.72119580382877,-3.187031530298,-3.54477658184395,-3.14887161141068,-2.73481364028085,-2.97634238190859,-3.0784521356695,-2.8567904888059,-2.99403944255382,-3.23929610407951,-2.78267682781269,-3.13478642721727,-3.41829641338335,-2.31133433433301,-2.57712753861958,-2.89525861557254,-2.9289836138588,-2.98245025352721,-2.8102220619635,-2.95591539996497,-3.05640012725113,-2.98238225513954,-2.88036810555979,-2.51003186730206,-3.11465936728895,-2.75704397403186,-3.67974601226656,-3.2724795861538,-3.23560990853324,-3.1312023976687,-2.73194862470328,-2.60496951065702,-2.44271527295855,-2.87065564070856,-3.10537240212629,-2.93951406592591,-3.22196708494216,-2.51996934618784,-2.92759652064516,-2.66771044589836,-2.52511859323671,-2.89598335147231,-3.17302967566495,-2.26693218328646,-2.64099797525799,-2.99422475582809,-2.23865490511993,-3.06775779145136,-2.15408150022931,-3.11100673232475,-3.12055932481378,-2.64279046231174,-3.38237516621274,-3.03979032101248,-2.47030284816068,-3.19178989258499,-2.64586511892104,-3.51091266179301,-2.88342898803258,-2.9263939546172,-3.22920960865756,-3.32310509831706,-3.2329036321984,-3.80902848444829,-3.19318703087381,-3.2264681556766,-3.20571176214766,-3.19210706099862,-3.3734365070433,-3.16985647260827,-3.25535116994853,-2.62092771054699,-3.31465211141179,-3.15384230006844,-2.81229231816465,-3.06643691784533,-2.82886829604814,-3.06587637945248,-3.01298185573636,-2.99633151181584,-2.60911802884072,-2.32077076215325,-3.12831775843296,-2.91831124211274,-3.03856010420842,-2.95052735383962,-2.70061373001562,-2.59745222248001,-2.85680332684817,-2.98818261488779,-2.91071360960188,-3.10339366417296,-3.11541544890648,-2.60972668570499,-3.22271823743655,-2.75465721483553,-3.18708730208841,-2.89878957213312,-2.6478111997374,-3.09484452392645,-3.00029261250622,-2.95275656102733,-2.458442285995,-3.47455589545975,-3.05632065827376,-2.93342342503546,-3.22406455712757,-3.24089012715375,-3.24740155224206,-2.04456369281468,-3.42274187426375,-2.64495893045135,-3.28437899474524,-2.68432001847903,-2.90965308115074,-3.67138701699839,-2.84391513839906,-2.65759431482454,-3.42115756623629,-2.64765527807112,-3.06546426001888,-2.35710134331624,-2.94077499781921,-2.44848152123276,-3.46809030665922,-2.55128406972322,-2.87260800166358,-3.15925890538857,-3.54452502759288,-3.17683381185071,-2.80047716817844,-2.95361571628889,-3.02640886661817,-2.91830526344885,-2.85780379931838,-3.1649857603952,-2.66914883830581,-3.25286083354411,-3.42076410723773,-2.34850790231142,-2.6206470440359,-2.8641101415478,-2.92174714070538,-2.97945616604215,-2.70221905269631,-2.94451778302937,-3.21213761775527,-2.94737560390525,-2.76329118702507,-2.57414331314698,-3.12250994573196,-2.79573038666991,-3.75283949746865,-3.35584482443164,-3.32058168720289,-3.15111201871947,-2.77733448204089,-2.5921880640861,-2.49411582499883,-2.82885506507043,-2.99733573750091,-2.85144518932624,-3.25623463653286,-2.55535799582759,-3.02831769089336,-2.96507576606665,-2.60711950281697,-2.47522824513414,-2.86285551728349,-3.11563750282576,-2.39827001080607,-2.72454338762022,-2.80082517986373,-2.20616378855284,-3.02263397424812,-2.09616153333353,-3.11110940765989,-3.25963653793565,-2.65278856151325,-3.27827795914096,-3.10186779199473,-2.48024484093981,-3.3729515889308,-2.59127184637111,-3.42857762543751,-2.77866001098326,-3.00227866251245,-3.327709454718,-3.30047795990654,-3.12189200050735,-3.75504814746124,-3.16889320743898,-3.34944931817467,-3.14999827274675,-3.26759800643894,-3.43318900952897,-3.21319853839441,-3.29502462510713,-2.63980161559008,-3.31399596603803,-3.23246303180057,-2.68217612792721,-2.97168609192932,-2.90820524730311,-3.06943664114228,-3.03912562996547,-2.83507630854703,-2.43910188306695,-2.35244037943127,-3.05147092013696,-2.95538148169558,-3.0835223476861,-3.02246979342783,-2.66034221059816,-2.57816873898682,-2.906965404848,-3.03542291646104,-2.9969989323595,-3.15190028107431,-3.04523204007975,-2.54412180349957,-3.11294393629879,-2.78522132134507,-3.16835647113301,-2.84379359584421,-2.68945531593398,-3.13426284360028,-2.92991015774313,-2.9904969938068,-2.48257265946322,-3.4681406587543,-3.11668480758308,-2.90610845492387,-3.17361920968602,-3.23468894782542,-3.10009242755272,-3.36784946322511,-2.75363644447908,-3.46665037668692,-2.80743085982723,-2.78207876265403,-3.36744999667858,-3.71977437438218,-2.85488332842749,-2.72152654065343,-3.47298698898061,-2.76675846851573,-3.07861255008176,-2.35029915008011,-2.94573812483719,-2.40947941643652,-3.46689967672349,-2.52641050991279,-2.85949935342933,-3.06976174820887,-3.51299884750987,-3.07815009669823,-2.6984143545739,-2.99762373345722,-3.01518181761656,-2.90776928307968,-2.76895419636626,-3.09387377963764,-2.76493397274618,-3.25591145511843,-3.40948171094603,-2.40097738120678,-2.60437315022162,-2.91369459327841,-2.96427814326372,-2.8068676796805,-2.80485141300817,-3.01041399669716,-3.0224974725845,-3.03633553846439,-2.71295397369879,-2.53996502841614,-3.13393676271689,-2.94297004346378,-3.70364797713447,-3.33218735455358,-3.21807169632004,-3.09130477636313,-2.72166859169146,-2.63696347143686,-2.56407178341917,-2.86020947569345,-3.07466580777855,-2.87279921952128,-3.17578583538423,-2.47964627364787,-3.05442780865422,-2.76555199779313,-2.21446324067608,-2.96929999099827,-3.09309314848043,-2.40100017426665,-2.6833986687763,-2.99276541251778,-2.18070764407482,-3.04164463601116,-2.23874938229802,-3.04956508728233,-3.17041694489848,-2.64963340300329,-3.34872991043169,-3.04414446323779,-2.53940115919499,-3.21620481979269,-2.66867708310071,-3.36868508013579,-2.80074113986333,-3.01009549575006,-3.22087181270635,-3.39994786067862,-3.15557605962849,-3.72427466734616,-3.21064625059424,-3.27917405602881,-3.01990362475437,-3.30945907703058,-3.38278221236577,-3.12579583107447,-3.13466925771839,-2.67295858148542,-3.29191214817981,-3.22487365321787,-2.75053402562819,-3.08737194192005,-2.90040422615498,-3.098374443918,-3.17547260192885,-2.84049562442409,-2.57275168253762,-2.15660772221136,-2.95389555785829,-2.98357072293272,-3.18451585057173,-2.98516843979171,-2.79317486862856,-2.56727402562153,-2.91887156098829,-2.9236940412888,-2.90443690916648,-3.14259489735242,-3.11497251852003,-2.52238646147004,-2.98926465771948,-2.72061180998624,-3.13431883308912,-2.81527472385027,-2.78149335902957,-3.16125185246044,-2.96536024762572,-2.93750326741694,-2.57996073196418,-3.50808904749516,-3.04429082382367,-2.88171580499107,-3.17161991543292,-3.2421472793192,-3.19715275576277,-2.02430656594281,-3.33808362857222,-2.61605793469986,-3.32170424027714,-2.76149587941463,-2.88394671113466,-3.34747698397315,-3.62924699247707,-2.80992904861825,-2.73996447890142,-3.55433741106024,-2.75647684391894,-3.08455326254322,-2.36512462887362,-2.89953394901835,-2.43149004444194,-3.31856421664276,-2.62816234323387,-2.86919546377414,-3.15660319798381,-3.52110758140429,-3.16889083766158,-2.6568450145913,-2.90144365696359,-2.97156994249049,-2.83381828031595,-2.99848814334652,-3.2597227475929,-2.65990326635224,-3.31480114664423,-3.47670816590309,-2.22924204018019,-2.59390666405297,-2.8585503769734,-3.00131227297107,-2.92503525545258,-2.77651680779745,-3.00726320524995,-2.98724993318182,-2.92909726368433,-2.70911814440489,-2.58689680046839,-3.11202605352323,-2.81325986214272,-3.68206374130698,-3.27789239022541,-3.3727476842127,-3.19258818412416,-2.68701054773958,-2.56388903309185,-2.39095173241497,-2.81413844195162,-3.05691752503585,-2.89554301705307,-3.35664150928469,-2.61418788207704,-3.07825865798768,-3.04796469607149,-2.73685616941923,-2.34770162535006,-2.81449244031267,-3.07521229497153,-2.43001942813178,-2.83164787986281,-2.9900731827345,-2.21344688544421,-3.0163515048552,-2.18134961979515,-2.98945822524789,-3.33929890602256,-2.63366497790825,-3.24161556760364,-3.05134928063568,-2.51366880608592,-3.22832104722877,-2.67845938903981,-3.43415738039559,-2.86451701630291,-2.9796934027882,-3.27731165185576,-3.35435028240343,-3.02304014590389,-3.73450775128283,-3.18364768699266,-3.29904387957833,-3.18940701980232,-3.12807292488335,-3.30725692321817,-3.03417862676632,-3.22295752130832,-2.5690109263235,-3.34506077842755,-3.18624914091182,-2.82963848911801,-3.19628067112479,-2.92683251500231,-2.93679418342588,-3.04196442553847,-2.82338847007051,-2.56158261408542,-2.27689100608774,-3.05627833226835,-2.99047207445376,-3.0796695643954,-2.98902795256122,-2.74081364600391],\"y\":[2.76854127289747,3.05891948308664,2.96287273754204,3.23556049499591,3.29963791946156,3.55502819816745,3.21949063725163,3.10023127748168,2.88131165637977,3.43150979459646,3.19829357182038,3.23387035845398,3.11647485289775,3.31819599153592,3.07721890363492,3.00226670880342,3.02074264702002,2.67906615556032,3.17950301632202,3.12890095760934,3.04384954236789,2.75191375506193,2.52512161680425,3.02815502362947,2.71479064990626,3.20335836942353,2.36040080602044,2.1124709937511,2.79848261207647,2.42710361429644,2.3705149053154,2.70535470113704,3.13620110597944,2.7505606395282,3.00323676588184,2.36866974641858,2.53939494274155,3.00274436227525,2.53599491530213,3.346933379937,3.27109057346668,2.97120713405345,2.62377853635197,3.14471885155251,2.54975201635716,2.95274598368473,3.29451589256231,3.04027269750823,3.17363083435421,3.01864341291308,2.24587285386323,2.98078666091759,2.66826571990596,2.93585422771861,2.90917733969569,2.61503380169351,2.45054892922666,2.83910055174936,3.52667211055347,2.67880438921187,3.17530186579127,2.55906155182613,2.66389889958917,3.28304787460212,3.6340630750315,2.57572253260812,3.08150303529242,2.43764893256924,2.87248147647123,3.07610450939952,2.67640502438409,3.25679632458353,3.1237408030875,3.51105634533897,2.9407813477688,2.91697400834555,2.96390162667802,3.02325660323629,2.93417106509707,2.90818076253025,2.37204455002773,3.49019438916214,2.84595567688822,2.50536649165427,2.74091620619067,3.27274296444605,2.53458888120273,2.82899524116648,2.41395406460218,3.01622373844432,3.11894572093112,2.89977440815498,3.09932881612451,2.93459323085951,3.08272121753551,3.04987850653606,3.35002312789208,3.39670688050044,2.02686262686917,2.95079060662863,2.46825978701013,2.87819081175394,3.18297653257078,2.93963937955065,2.60310002380507,3.46214116735678,3.56831578041211,2.94113172366118,3.01538559514648,3.0429846645354,2.74534905179546,3.38118294655133,2.67932811853414,2.49000771608839,3.67776080562702,2.98081639437581,3.25090931932121,2.38885640205703,2.77180200918339,2.60350397781039,2.89463011701764,3.27700347759381,3.06796855636191,2.59868321976111,2.66956165399556,2.61414430743659,2.78199234004489,3.13875689561631,3.06451754806245,3.32079285247976,3.11960018740303,3.58846395402982,3.33701700873541,2.92096536393711,2.97754055071811,3.3396578180571,3.19678224689765,3.34710964005546,3.22022195239971,3.43849239712563,3.14890250744673,2.97166198308328,2.95311832466644,2.712924908185,3.02678238866823,3.30697242579102,3.07410393585033,2.90080437934258,2.4834918914577,2.92010760225289,2.72235080550032,3.02215257407794,2.41566710262858,2.01723761941578,2.82099944533079,2.38685498209877,2.26641641406162,2.75284453659174,3.1090859303245,2.79249563953894,2.87280428772999,2.60635092087684,2.58674074870774,2.99068873941408,2.60716321264532,3.33499065983019,3.26775274713132,2.90161601332332,2.48054950874939,3.04090655253909,2.56644042693079,2.84365351744335,3.31574983834931,2.99256186559179,3.06798913949987,2.9459843202177,2.28986790460702,3.09016585400126,2.62640280291274,3.02508196030666,3.08067679168512,2.69666824865689,2.43563295665646,2.69789380888891,3.50883843794883,2.64472137101152,3.10839607694952,2.49452155009305,2.70794756811682,3.20133381069945,3.55208913423713,2.624617558582,3.02649133127534,2.46670538860953,2.8220100339765,2.91182303502898,2.67580894684835,3.29909418572048,3.24087655593316,3.31903890410472,2.97930184548648,2.92479612330936,2.97049776731915,3.15781767907479,2.9054281390552,2.94508446236322,2.3602221880678,3.43009818148429,2.76792248038574,2.53134130743471,2.60452760241945,3.28331201110198,2.62418051269491,2.94250163306668,2.44812891119245,3.00382793957017,3.19017504303938,2.90574930494535,3.14645278359446,3.01200695200228,3.11933645539066,3.06163103032046,3.2733944441806,3.31218647778491,2.08738799301492,2.9214642297218,2.61094890820083,2.95060467898415,3.19050208839299,3.10210132318765,2.69169670800626,3.49981541469164,3.64090126098747,2.94631944379661,2.98212121060847,3.11754488178142,2.74468372668322,3.36900811556319,2.62328115807509,2.54504825873839,3.75345796230497,3.04394013397901,3.43894876889416,2.42291931568056,2.6526589299906,2.58757797608905,2.86445701631761,3.37952046738588,3.01351596194435,2.63841953581711,2.58363984361389,2.56115230052426,2.90440202174537,3.04282835775767,3.05595711851174,3.22301576742627,3.15452739349176,3.65315616531523,3.29595666039733,2.93683832817807,2.94038721935259,3.48462453174045,3.15411310715774,3.28159338957801,3.12616045903068,3.28335158974742,2.98491273285238,3.09110426201482,3.02925607208923,2.77246803795959,3.0218802211573,3.27274441991891,3.04049978771273,2.83443007338551,2.55498781291746,3.07066457043959,2.72400217226541,3.11471661662207,2.29324712144864,2.10096800029129,2.77054254687921,2.41942152876698,2.47360603113818,2.81313889160041,3.15542923056939,2.80132554953418,2.94971676417037,2.60412085915714,2.62325120997066,2.85832187046183,2.6228398473088,3.37695419272787,3.19735986144442,3.01386211542693,2.64295945212276,3.08768106079887,2.46304091505311,2.95119461127695,3.21847347236339,2.98979698926084,3.15400687700594,2.91866718240715,2.34320344572427,3.10196523993556,2.69979829667216,3.02550109031942,2.97971361807113,2.52344348661267,2.36195701388316,2.82511882569439,3.60197565445602,2.73201420993413,3.23442052647031,2.5842185221385,2.6868775873705,3.3496174645623,3.56382262145677,2.59848906379875,3.01621871118762,2.36363067351739,2.81024985868962,3.0267568650954,2.61222207036026,3.25181113529708,3.12022148699792,3.33605634853192,2.805533110484,3.01016119384815,3.05057367926126,3.03506609368587,2.89516849510671,2.92610458695658,2.44779673381491,3.52753928648522,2.76779457686495,2.54911949837869,2.72512247987499,3.34968978267631,2.53332631333901,2.87776747850054,2.40699433519489,2.97671257937108,3.11427516719239,2.85167399304377,3.22684324216292,3.00307268998956,3.08419563753119,3.05094322471362,3.14318218806463,3.3637620976461,2.13966057003809,3.00389044966694,2.5363717865656,2.97528985000218,3.2625409555914,2.93772253637567,2.77655367200457,3.57857216465967,3.56290326102612,2.88963588952202,2.87206285809663,3.16948474383856,2.8200936010141,3.42661978366496,2.66089393836498,2.57580686547734,3.67183533220024,3.11762088847965,3.29450581133009,2.42220260453046,2.73488811466595,2.70413833382983,2.84919479477395,3.37018035907725,3.08727844088247,2.63923600076716,2.61478800631776,2.60588810239707,2.91658219296533,3.06650053403814,2.93415619146529,3.15557956360649,3.1664064027319,3.67880802718969,3.25373491553878,2.99632401956603,2.96508300543526,3.44649090821999,3.17067613884359,3.22434307386189,3.08139175352851,3.48908481342096,3.02190263780282,3.03876200560729,3.11776183549775,2.72619760474491,3.03340956305056,3.1024789321359,3.03142475030312,2.91550894711788,2.51365579122238,2.95625644697105,2.86035707339811,3.08887884391096,2.3658163387566,2.03579479055492,2.78714576140645,2.42843936117487,2.3750765249485,2.80389008378907,3.09960782231453,2.77322824074086,3.02323685593782,2.52847772373008,2.57961307241235,2.9948728530499,2.55419214409617,3.36351364613252,3.2262719378352,2.94768373257919,2.61325965247366,3.06555651608761,2.37204275164225,2.91446023027745,3.23399975263444,2.89717838684131,3.09563637654505,2.8909213777772,2.18664765154227,3.01902612989137,2.68912077466015,2.95214930099827,2.94842174162292,2.50466200901787,2.39477148723674,2.73543203378688,3.49166467654945,2.76547483263936,3.10706005132079,2.45225481958795,2.64795250355574,3.22629176646207,3.5301806133166,2.67035226640666,2.9941048886046,2.49851978424737,2.73914548865491,3.0867154551833,2.57390464944907,3.30780281931158,3.13808031768828,3.40591828128536,2.80780696262138,3.00329561476335,2.9768337454848,3.09133250323058,2.79813390969504,2.84739635386101,2.34281132446296,3.4893574406663,2.90801499204216,2.5451180926983,2.65351224806697,3.28865105220922,2.64805571268282,2.96511653232809,2.40725443887036,2.95201095270435,3.17590673837064,2.81881878156338,3.10922335875942,3.1136130425666,3.03446891932059,3.04302632998147,3.44116388951185,3.37603438587964,2.09095959723245,2.92529652366423,2.52684484645421,3.047394766407,3.16542293910101,2.93010291091326,2.65463831160897,3.38883257154678,3.59127486979804,2.97381630548893,2.90195543382002,3.02920733280468,2.70629492371456,3.34359096631335,2.61784557012325,2.55211001861457,3.61186677325745,3.19913358699802,3.28012967075948,2.47608071647505,2.55155149129512,2.54867462366946,2.88431421264649,3.35354674952476,3.00484815212184,2.55945569897259,2.61550808087766,2.60625643177894,2.84995553628879,3.16563573339355,2.96158645759106,3.2446643143789,3.19130824179673,3.69411098635529,3.25311018377025,2.99738303040257,2.97927136052245,3.40928527773746,3.23598915998533,3.33068708232093,3.17031481852001,3.42740293395879,3.08171866296506,3.09173450773682,3.10745663611657,2.70708784701613,3.07195783955304,3.06140930011476,3.07148887186109,2.86123448103279,2.53709952736869,2.94862128685528,2.82234292643853,3.01271027505152,2.39851304683557,2.02010047368467,2.76174922938033,2.44532599334248,2.33420375630678,2.8619119518249,3.10284076758248,2.77754587148809,3.03145262096273,2.51297293053,2.5990090942848,2.998876165598,2.55331686882149,3.4878687503815,3.33526419173676,3.03385245118545,2.60019571441758,3.05679272139115,2.37748467915424,2.93314808437823,3.33100174536403,3.02222369691988,3.07311514787791,2.95705164840959,2.32888135710815,3.12462975765621,2.59784548635094,3.06705007422052,3.06283691499323,2.57774061453697,2.32673646464183,2.77653959716995,3.6096565181538,2.62268798636382,3.14819715840016,2.53484315852241,2.66558581223201,3.1363472318411,3.66770472221129,2.66495016645953,3.09240209090714,2.33422713214008,2.72245388093612,2.99890470536883,2.70834665212465,3.27554672937318,2.97100270795158,3.43518091933092,2.82034224981507,3.03203633739843,2.91907229070362,2.95800338904539,2.03414580908219,2.88629918102114,2.91148580810954,2.38976060979812,3.52456731462564,2.82766419876019,2.66829255489778,2.64816257074445,3.29842665995548,2.70896041172183,2.97142477168421,2.38357286372193,3.02966906814203,3.11458773610034,2.87197492811842,3.05698777191432,3.07631075490165,3.10688374258386,3.06553531616646,3.24698443672929,3.28131053107024,2.19482653406257,2.90818413590533,2.4142867027331,3.01806687293814,3.23643947417116,3.01233164027691,2.63067649144279,3.44444260235468,3.53722434150179,2.96765568433935,2.97576432679285,3.1107112393663,2.67498083024468,3.34973893456027,2.63190566305886,2.52977038307295,3.62673634967835,3.12914388336843,3.33768428037091,2.52876874439134,2.57325395722737,2.57498187488206,2.83965561848712,3.47719149321045,3.03637040142444,2.55271718793691,2.63560128893867,2.65339493425248,2.91818283449909,3.22395303382078,2.97232489997452,3.26628668853548,3.15455802505958,3.59358892876801,3.34706336819185,2.94558896174191,2.96940258730113,3.35995175864554,3.17651685754387,3.27974695265513,3.10614732430981,3.41790692064878,3.00888346380218,2.91365940109464,3.01661298938266,2.76697378931704,3.1015389650147,3.29969348678268,3.05400453461431,2.8038025113142,3.14567033755055,2.54381047488511,2.91767058041902,2.86371380180507,3.09255053484454,2.42477224438637,2.0379898024155,2.78701500477576,2.45147923554232,2.36804435116955,2.76940029162007,3.22335094040826,2.72651305698226,2.97598484003632,2.59944097977541,2.64817941811425,2.99054039219068,2.58546700376061,3.44944655986012,3.23200128508443,2.95149869239976,2.56346622339518,3.1439667798065,2.55946504004984,2.82436304139759,3.31104587397297,2.99476701306432,3.07586324518049,3.03777488174146,2.23991236018325,3.09241667026556,2.61515738196533,3.08120418675137,3.09686013640163,2.66363353852362,2.46701128265134,2.75567896618586,3.47101405505479,2.68901996612027,3.17260475750765,2.60264119269794,2.58304048647512,3.29054782034505,3.61637664666476,2.61332025571774,3.13519966796974,2.49971365007668,2.77315761057812,2.96013605129276,2.72004996023504,3.27725414647046,3.19981557251656,3.37251791964583,2.93768973360714,2.95230489913161,3.0458556033131,3.24947695394212,2.01354228561238,2.80663938751295,2.98750322503477,2.38681711032577,3.51805215055129,2.86148977253219,2.51733829762009,2.6025048371346,3.37084783702217,2.54671598562627,2.96962829828995,2.46956332895462,3.09522505886155,3.11286551618178,2.88188336783683,3.10597739099392,3.04999766118958,3.04059224449221,3.03726400515529,3.39383490712529,3.3427189482786,2.24082014629622,3.03280417797506,2.53477127475861,2.95361479117692,3.18832419731196,2.99739357053671,2.60508559985738,3.52086989402602,3.57680822857735,2.83775587068933,2.81667693056935,3.14355070859762,2.73376537446357,3.40765307007661,2.69042699307197,2.54715978417425,3.54971450415598,3.09568964718761,3.31736115670248,2.38118484280706,2.61766763577717,2.61067050871546,2.78740932041826,3.26668079262034,2.97553178293716,2.5712386999469,2.64585438061871,2.58744070540246,2.76846523118832,3.10085484643176,2.97442967244874,3.23156679991334,3.33348647393829,3.64810349554253,3.25992781018931,2.94846290454784,3.02533585682502,3.44789919752937,3.11115771000269,3.23656214914293,3.07742257230769,3.37822134426609,3.04393362449886,2.93534813524296,2.96856035171496,2.73599661237376,3.10570090577013,3.25053509407226,3.11533171548618,2.77226929275745,2.96731344414388,2.59545094913091,2.9220297506071,2.78916425846682,2.97373263172615,2.3220043783314,2.0808008650552,2.8223952358589,2.51557511101651,2.38575125022962,2.87774004570695,3.09364691479491,2.69805423150701,2.83580538478261,2.4847169150987,2.6187385263915,2.91334218439838,2.57761168476743,3.45707249058983,3.23961776730192,3.01768863385957,2.68426443897916,3.00272709885647,2.41086838314818,2.90731904401622,3.28906680207024,2.97359967157209,3.18867231414454,2.93494809660798,2.24940523827662,2.90925833506,2.79444585754542,3.10537554208145,2.93941539547761,2.49409470214847,2.42032766359286,2.80639625140139,3.6001885534286,2.6883964435614,3.09832607970988,2.50251842326134,2.63098147888039,3.21685094313496,3.68864189757739,2.65182964262739,2.99390835170322,2.56021659575612,2.77017452727003,3.0660640411729,2.70275131004993,3.32130962108452,3.00520805204195,3.31201781850512,2.92594362420841,2.95395851539935,2.91688567020793,3.09628444465431,2.05229879514368,2.84972002218374,3.00678481945194,2.37302486716059,3.59692900860123,2.70807163859726,2.60778981240479,2.6441629711,3.35945967194847,2.65799708927245,2.91874152928074,2.44980483011161,3.09884703010644,3.17016956107275,2.76272582998431,3.11004302211463,3.06502347499391,3.06081402572291,2.98245630545424,3.30069184253109,3.32235186230983,2.17282342700764,3.03955049793234,2.508817498198,2.94479402269059,3.19749047230709,2.9767087665362,2.70370302354826,3.39783696878203,3.48534066205784,2.97713430074749,2.94433034963715,3.02049930589777,2.70422141297733,3.40696546574083,2.7122201074032,2.59920131504211,3.76951909402135,3.04755236746215,3.34438945598102,2.46523756313097,2.63426491200119,2.71916241629064,2.80175780291276,3.34279087857744,3.04094804743302,2.59431685258932,2.55005285827599,2.58437916894742,2.87038637090228,3.01841956914744,2.97164241504308,3.23953780878556,3.27033761812433,3.59768681089265,3.2976088152669,3.01879617243077,2.94445569539136,3.40290846256468,3.14323346520742,3.37882633905719,3.19401559617912,3.4730247256775,3.03447477717328,3.07438686416206,2.99428848492269,2.74422451279039,3.09627167130156,3.06930102917238,3.14879366656723,2.85437001789675,2.48297282849576,3.03639469201606,2.79525362821171,3.04018713682318,2.35880889496506,2.02393657066286,2.82967650054188,2.51994377462744,2.35767615251412,2.84319167614829,3.13330147187681,2.75897825940178,2.96032514808696,2.61022797927367,2.66908583383503,3.0485321157612,2.58212979532571,3.26946890735883,3.29642589789879,3.08552914419963,2.53775843132264,3.18232942984155,2.55514828484086,2.93859081423297,3.33627515674344,3.04681830842865,3.14416564805186,2.9286106563555,2.24552936800765,2.98299003562847,2.72391940695102,3.03656228685706,2.90885249758891,2.53321966096755,2.38178006092929,2.68561412460542,3.47281015362684,2.60398638281443,3.17255747471307,2.56426261564896,2.68423467782569,3.32379393967594,3.55101211146257,2.68014955513941,2.99811841630856,2.44113081668346,2.75594776437935,3.04998126991699,2.75727312243468,3.36629212321588,3.10622787633623,3.38770850011202,2.9600954961407,3.058596133453,3.02259226851809,3.05559372507153,2.06098620647296,2.82769614297758,2.84439246128986,2.44359800746115,3.53899923998038,2.7131076600942,2.54845973201755,2.56502703812364,3.23486171776877,2.64626173407514,2.91582873490848,2.52545774167722,2.98748574722021,3.18774116699834,2.90936605596767,3.06155243414664,3.03777601323364,3.02978853771114,3.05116223566628,3.19693984772955,3.3305517168458,2.15832833104386,2.99285050451556,2.50049183048812,2.94437825155811,3.18729584075076,2.85614176581966,2.53238187330536,3.39905813499914,3.47099857118305,2.98324814005217,2.92377578042182,3.06405740542295,2.62704673864263,3.4538575068359,2.6870182210001,2.67384146427971,3.71241119029841,3.10034209213174,3.31088132258994,2.38335805114447,2.65606067760289,2.6205393957561,2.85105914808527,3.32546259850595,3.11413247378515,2.65934750748728,2.59701700516406,2.61586705388875,2.8506445319929,3.09707395289475,2.98146571515705,3.16439382411555,3.26851904646206,3.62544744818193,3.2544092608679,3.00096001607418,2.94698094447023,3.40445741492932,3.16134210607602,3.27520361948818,3.14988097172189,3.51580165895176,2.99621824187212,3.01250381708317,3.00316461553815,2.71053136740552,3.00476116735085,3.2467999142243,3.13642500638787,2.88242993010996,2.63990218362348,3.0464876954125,2.77389311832535,3.08595478583723,2.4054292445571,2.02691896560271,2.77419243669048,2.41834949513056,2.37340171414094,2.96178432853417,3.15622134891674,2.75889439375652,3.00596471936008,2.68942122809209,2.57364726688778,3.0756924700213,2.55590915759984,3.37990457884814,3.27393059828908,3.05849678040155,2.53593278432209,3.0952636343787,2.59076721300441,2.934639880069,3.23147489569493,3.02484479112373,3.11830377323576,2.98226708692676,2.29348222628019,3.10237397113093,2.68656701191797,3.12919886334581,2.99334737876448,2.66317947589353,2.38274417691555,2.7705541286326,3.54205376043247,2.62916877895915,3.17296644090934,2.4249571020334,2.53559801765463,3.30506066253787,3.70643475673693,2.59736219358626,2.94932723842633,2.44337830566018,2.77053497858422,3.02787308680079,2.68187918945929,3.29610220081514,3.16660995311588,3.42889645219372,2.83486935555915,2.97597309630167,2.98952211636445,3.06434561109695,2.95062985920326,2.93442269497776,2.26729138949354,3.53100584349051,2.83676874510014,2.52325552884109,2.63199977326034,3.31460953668245,2.58458405131578,2.95149718056136,2.56172110602232,3.05706999716738,3.11395991783105,2.79666600546059,3.14713446287477,2.951969180844,3.0960401634156,3.03604428233669,3.3481320270235,3.25871211705923,2.14752220577478,2.90265228365982,2.59422370433921,2.97248339414419,3.16065076507335,3.10975686769184,2.65464568159899,3.43332924442322,3.67723485668289,2.94019280890015,2.8295333245889,3.12676192804182,2.68874832042687,3.28485440970677,2.57090618868845,2.57341245267811,3.64034588665548,3.14251244073498,3.400200414521,2.35448397013702,2.65350895149479,2.7499401120178,2.90869063251252,3.33553990582465,3.12057909303697,2.66916475744955,2.58103650853979,2.70959539201578,2.95151280598586,3.08040201119845,2.93198349251018,3.16833046784549,3.25398605632189,3.64487376971587,3.19906067598648,2.91666008021691,2.923280762664,3.38276390225802,3.18484099885136,3.26526819843568,3.15329506143912,3.37670308339573,2.95404418206367,2.92714876407421,2.91738003331803,2.62351924603749,3.09273519670604,3.1879982683978,3.15337835265948,2.81653734275968,2.56577045693549,2.92716984090352,2.8910543541004,3.12506098855718,2.38698977828863,2.0178233702135,2.80078989105235,2.3642067953539,2.33052931753822,2.84498648296195,3.10750633575855,2.77092404202158,2.94154232601467,2.54349710641275,2.55642555915061,3.11059918864858,2.53084789557568,3.32037811208215,3.23325746676274,2.9079683903762,2.55174339757171,3.13647201541039,2.47306116815128,2.94244082465704,3.34496307676538,2.9109266107487,3.20043433494963,2.9015231744422,2.36993436618124,2.9928733956306,2.66848741375927,3.07944550724983,2.93558601025214,2.58581491634698,2.32145872837528,2.78497203674442,3.46852299861017,2.60782387236238,3.04107489959337,2.52886358207214,2.69504180557237,3.28494206036602,3.5788415177551,2.61220975106479,3.00616668131156,2.5423452951601,2.90764151136284,2.96517248195948,2.71611399459881,3.32573987552187,3.11775478289076,3.43902216762314,2.85315974896068,2.98756030596442,2.94897888059717,3.17238661536634,2.89958103147632,3.02133685852962,2.24080869960686,3.53083327531314,2.82788604058075,2.50292410296,2.62160863978265,3.25877452810995,2.56649516862147,2.92037194285451,2.41706796812829,3.00074945499684,3.18126155187447,2.92870739848382,3.15276934337979,3.04335227994196,3.11112649974605,2.93051378571108,3.22315309348777,3.33919991512387,2.16460774022756,2.97323039378051,2.54463190635179,2.9495973105925,3.2328728888765,3.05430473969532,2.61561907157339,3.46624951490608,3.59831530637165,3.08067783654884,2.90382762322855,3.01969396433864,2.78764273482084,3.34261168261996,2.65554653662078,2.55703735707238,3.65161267830426,3.06657935974721,3.34107400278026,2.33972757453583,2.65379951876402,2.62920833868561,2.86973990309483,3.35476906276946,3.05415670098308,2.61949298904077,2.6243843813057,2.55552805794045,2.8508770702979,3.16165407669327,2.9192578498198,3.19418976105934,3.19422101319317,3.60380952550325,3.20677621659639,3.03384857794578,3.01298888526852,3.37930409409894,3.14128730148177,3.14325352180267,3.02628404634511,3.36300069502917,3.02363647890529,2.98601439003684,2.92430856783722,2.64065240364145,3.02442207460763,3.20872382865835,3.09905578807576,2.78550467919247,2.50833880964972,3.02919148214355,2.81339766259638,3.14684578218186,2.28681312293637,2.09285328669035,2.74088819262009,2.42829331407801,2.38704176355259,2.78930799758582,3.20304453715354,2.72402959847104,3.07712966432233,2.57333223890341,2.65631409075961,2.97547770263647,2.50368660230604,3.41260239666523,3.25278185841954,3.06770598651261,2.59190122313523,3.09467131900289,2.55423273398099,2.85913232042135,3.20635465910309,2.9817855257219,3.15543609457222,3.0864116395253,2.20704892056299,2.99742058957892,2.69235654963511,2.94715993968954,2.93742561220589,2.46440853524248,2.4526058649308,2.7198339721122,3.64146589608384,2.61751440702091,3.21345259894156,2.47908732135566,2.76241931221742,3.28712589324603,3.60074367011213,2.65565134440265,3.06158862387028,2.5128908191523,2.84690865524973,3.01090730964146,2.71421686283324,3.35451612974702,3.16017984281959,3.45805042434244,2.76891146010734,2.95200879367529,2.8579910487231,3.09664594536873,2.02262738954881,2.95111008512937,2.85783015737722,2.41389344270257,3.50233246045036,2.91633511588716,2.45830227831313,2.57084756470617,3.22361816016192,2.53093020884853,2.92504071917343,2.42160284441634,2.95353736289071,3.15178643183749,2.8427501941882,3.14594962246401,2.96151986411893,3.13668312319581,3.0124257719684,3.22662062532257,3.36835233688325,2.10698189755033,2.95892581190468,2.53711430732127,2.94528532608,3.17892040714129,2.97770414957444,2.58523647315186,3.45629216980918,3.6580908446092,2.97340398620653,2.96819712866796,3.06872045151924,2.88131836371924,3.26679535696503,2.7035095783083,2.62501402515386,3.76768448801276,3.14461289623236,3.32968158250813,2.38341834280322,2.64707381002612,2.59889537956304,2.81720110289967,3.23247052478704,2.99612990465499,2.62453406802365,2.63160877467331,2.6019955942819,2.89183638543809,3.19102194037498,2.81630246250944,3.20010895945662,3.18061915963558,3.58116375093869,3.25976449013622,3.02404104300547,3.01028968305315,3.44083388494262,3.2081306399014,3.34224974076652,3.12887950147034,3.42794209470046,2.92438964368668,2.98291159735005,2.90384909180313,2.78108252361908,3.16609622004415,3.22336606120982,3.06810316061807,2.87328142771175,2.5136097933806,2.99575200056538,2.80665706386305,3.16244099757993,2.34240835107109,2.07883231952293,2.81948529714108,2.39974544593777,2.43022198167829,2.84362113541078,3.15750258164149,2.83656309685014,2.91842750035255,2.56485906374977,2.52666205118238,2.93055592502406,2.52643518353124,3.42301792082487,3.24925447667687,2.91877912562405,2.48288976575743,3.13906872439125,2.44180178918258,2.90299991450469,3.27562582390487,2.9459607191543,3.15617599307649,2.91373828411375,2.33951457932718,3.02586720915564,2.67280351439967,3.08924845155596,2.97504184694958,2.58271788047303,2.34040154351411,2.77527587389364,3.50444993538179,2.70862646862665,3.12172664082743,2.49966643846427,2.74169113535144,3.31482394829869,3.68389561097024,2.72200760194721,2.94687818990921,2.48062503714862,2.81696932199257,2.95548052645837,2.68039654942106,3.36330698812251,3.12979068728909,3.35725732778777,2.94467503827634,3.02857140060868,3.06851974991265,3.04183808741766,2.00172090730528,2.89461899867583,2.8533403791268,2.36713397412524,3.44265680375427,2.83946862101656,2.62888697030388,2.79171860620651,3.29687491818209,2.54067234974529,2.89778720700868,2.46959673902323,3.01393347200856,3.11859904717142,2.89911551845262,3.11754730997554,2.957723242593,3.04402096628986,3.0550993564337,3.32839862132118,3.38539892062409,2.01431297702277,2.92364276798012,2.55230003678343,2.91729501292052,3.21979462714636,3.03338562871061,2.65146211101899,3.38490497622706,3.60015599939194,2.91372500052747,2.95756398239717,3.03346763579223,2.69915638784035,3.33749762010507,2.6233024443535,2.56611053961232,3.61363604908021,3.00991737224639,3.32043011309054,2.46840719561332,2.57911816325511,2.60140351641604,2.80463180991885,3.26608202313292,3.08515275588639,2.62260628306284,2.58962495125971,2.73586587705175,2.86231688283731,3.16261086734619,3.01737727853301,3.16308201393332,3.19599678879876,3.77244008895308,3.32719465576967,2.90674680368916,3.06476854118047,3.46042026859056,3.16535042751845,3.26271919178837,3.14159063820412,3.43783661786813,2.9909975376489,3.03065437654531,3.0913410757948,2.66795817324802,3.08791470233791,3.16991946893966,3.04734343752575,2.74741633371379,2.62918903523552,2.96489425550827,2.74226145586076,3.0360760740475,2.43086737871437,2.03738111881782,2.82840721923589,2.47537266173153,2.45259992562849,2.83706163780267,3.15788772460468,2.81089649694584,2.9097932969841,2.5847728169878,2.69368492471347,2.94145453711742,2.5984587884286,3.30703211415263,3.21360327185374,2.98089711458683,2.49098168347412,3.00798870634669,2.52004282153357,2.92114124014717,3.33813288045911,3.02696266714601,3.09602815391819,2.85294869492031,2.12896321918144,3.07018221177977,2.61441793117383,3.08214717053245,2.87445955083246,2.57315284664769,2.44192237567252,2.66058582129119,3.59351845711057,2.65938095796225,3.1354674750732,2.4772926252183,2.65706105543271,3.29856862172909,3.64782152744121,2.54407426021731,3.04270401449345,2.4953075430707,2.75737228806701,3.05234145325243,2.73428001437699,3.35007683051129,3.05548574465565,3.37646972425218,2.92345543215625,2.98218510235479,2.93626084492474,3.0591087392099,2.01604442170264,2.73249662557183,2.89280874190183,2.30892736067825,3.5247479652855,2.8322611638496,2.45684031689661,2.55402308576662,3.25977133737968,2.53110841853201,2.89053042344105,2.48836928594065,3.05156478036332,3.20360380425082,2.88773730674649,3.12464940719304,3.01511402153071,3.08738030468602,3.0596116008323,3.2684874830739,3.33174733931555,2.12456506995798,2.96191766446997,2.55781488051897,3.0193133944835,3.13239333687168,3.0540461035991,2.64239810513961,3.47459669313593,3.55352456050015,2.95229024464815,2.94225080024071,3.19118228147948,2.68921102473443,3.35136284118046,2.66140534646151,2.54613695954707,3.69156529677208,2.99645947676605,3.46074507069531,2.38666305117014,2.67662813571985,2.61960368058973,2.88997206509887,3.21526383517852,3.11926362590125,2.54521308415364,2.61670210639162,2.64047395623131,2.84584007840873,3.06820141301937,2.97930673920782,3.09839763369506,3.21874983951446,3.64127038041062,3.26986651411407,2.89503757122896,3.0081161811058,3.36254843396141,3.19511498050713,3.36385064273039,3.06935943696172,3.39546717727231,3.03258580875022,2.88922880552819,3.05435320214794,2.69907434061725,3.14536469441401,3.21399957715216,3.12696594922192,2.75889952795862,2.48791622173193,2.98430166426811,2.76753862753133,3.00297246823014,2.24462429454879,2.11341310186887,2.75593201939208,2.51495439463335,2.46914391160948,2.80230573222042,3.24025916809785,2.87759319811022,3.01472300617014,2.57386814044877,2.57898132740996,2.93064382857303,2.5316281375881,3.34871357392472,3.22837206953311,2.87155421210577,2.53457996718834,3.06772349543682,2.55840873796911,2.85673974942613,3.318120605183,3.0270711466357,3.05499470587051,2.94169762944181,2.35242296020715,2.93748658742638,2.70055153778472,3.11662498428098,2.99059936047848,2.62154482930848,2.3981535563453,2.86407604049321,3.63249222825801,2.64760897765596,3.22105783195343,2.58590273085148,2.72147891347634,3.3567507898253,3.66657190082612,2.67798464588595,3.03436557290337,2.48496910280513,2.77841731738148,3.05435977105449,2.79276603892795,3.37448599327268,3.21499194864879,3.43390985971217,2.93071420508144,3.0234567750543,2.99653777812484,3.0916642051453,2.04435536932622,2.87414327447188,2.77546431095613,2.31281746554167,3.42028468477984,2.76347491050776,2.47030535597203,2.73202011842686,3.13965215517521,2.63944650743079,2.96677814135392,2.40580316415808,2.90071588582339,3.1693854404745,2.76183110484035,3.21038741572625,2.9106688559332,3.06418351122481,3.00542218039427,3.25273696384844,3.33356906128642,2.15893844635309,2.99673220499873,2.50702432797053,2.99881407229564,3.20017386247183,2.99113496150607,2.66489022648632,3.53352372668961,3.59062376348926,2.975571080007,2.85988887207561,3.20694421509523,2.83483984361011,3.33941552004306,2.45712296227554,2.53615022815926,3.67617353009119,3.16081307433402,3.40353145295445,2.34580969967325,2.58892106529271,2.63600591594598,2.93581800862112,3.28056020624464,3.18436798676364,2.70766008478662,2.53575711599086,2.71557881587693,2.84341273047602,3.2782782019305,3.00674626362162,3.20992426395398,3.31793006898123,3.61022635144539,3.3391444551489,2.86142632811989,3.05135381370572,3.3407476326952,3.2059956658287,3.29545005110968,3.02053420977385,3.53766740368551,3.11339582658984,3.07387391703671,2.97148664649979,2.69262843852345,3.19159807246878,3.13568006275464,3.09713193741338,2.74017681152623,2.53501360596217,3.03661802514538,2.77077309520241,2.97066137940822,2.2753367908057,2.13678910193594,2.82761386139611,2.50796090436132,2.4461287392688,2.74082962304284,3.31004010866527,2.84405327320349,3.05646263658907,2.55161374490452,2.63859256829861,3.02059479050895,2.51131799055757,3.34280037951681,3.2454626341473,2.97164389848343,2.67083999808431,3.09191788128307,2.50108457879759,2.86371325838601,3.3260523527748,3.07521750621251,3.09772526824442,3.00085838479083,2.23979662402273,3.03174800753322,2.67543062048759,3.06828193503019,2.95031233738799,2.42752626322561,2.37036156742343,2.73729990111728,3.62001608045265,2.65927419848267,3.13821339502455,2.47433908381788,2.60904772162932,3.28968273120507,3.64229378544008,2.65534224127767,3.09292074881104,2.47537938669564,2.66412467000396,3.11521352630769,2.7497742647211,3.24325573609135,3.12356219204562,3.40772351917433,2.81706022508711,3.0515550143885,2.97255331711016,3.01615187417881,2.96858488529697,3.01102118720303,2.31232815624186,3.56149759547145,2.77611833473095,2.57207106702816,2.59013206103727,3.19814564549399,2.58365941829439,2.91829694868809,2.52860028183793,3.15555447872201,3.18447817758582,2.86390716236996,3.19105176837081,2.99672278510979,3.0155442415189,3.12638977555313,3.21627743751317,3.53198835293362,2.19535482752486,3.03472935829801,2.47882288504087,2.99923426453004,3.23054203870537,2.979475827795,2.56727723524834,3.43342257366979,3.65418386111207,2.98145927192876,2.8509882828752,3.13146591674426,2.74148675897353,3.35319551375604,2.73331293813215,2.55411344655178,3.58089303534605,3.09648693645861,3.42897886772435,2.29722384602134,2.68577346503935,2.55832556541397,2.86112081765013,3.30263226380012,3.09643689765144,2.63922068342256,2.66579963848468,2.66777186848977,2.83442641295145,3.10553092682141,3.05416948036763,3.15584127888785,3.19810126727339,3.66859191678296,3.24203629535963,2.91986074279086,3.0244124482691,3.33978954568658,3.1078931473149,3.2640690006547,3.06656960943364,3.50760642741519,3.07454127403529,3.00096856807667,3.06675277106845,2.68643158957588,3.06616209920564,3.17287099337223,3.03003228271339,2.84259231348304,3.11489388108068,2.62200763213544,2.94482563874506,2.81620331866524,3.03217585166667,2.32181427100457,2.83580733884985,2.4552132698681,2.41335627935605,2.90834826877859,3.21174612745915,2.81506910492577,2.9469565714943,2.59844424750412,2.59610203943513,3.06809593011355,2.59063477026689,3.43350733550937,3.2185346428923,2.93999323047652,2.5615997624073,3.06656015933881,2.55271772718483,2.90108856759051,3.26162680975518,2.94624493846301,3.10938163307892,3.04312018469606,2.39147441279008,2.92892289291106,2.65456962176106,3.00819007302319,2.99326142933796,2.61607205858297,2.48107045705,2.82236970003829,3.57098083027052,2.44846538074703,3.07788190734869,2.46612888712129,2.71051213043044,3.2773010924264,3.64159593208211,2.67849194007335,3.0229787259349,2.51039444412648,2.80517336266962,2.90031123423317,2.72061798904996,3.26024504934991,3.14181102499483,3.37154979955829,2.87092587348169,3.11912514799497,2.96837261104002,3.024414183161,2.83179948189053,2.92299863599763,2.26026291330494,3.48836527775272,2.81774435375786,2.6348883376353,2.6398972220005,3.21041867160421,2.49914679154923,3.03730615951101,2.54840954269926,3.07861460964099,3.22780782119374,2.82579852406313,3.11579012577079,3.11593202578857,3.11044925779657,3.09260759735067,3.26824584415884,3.3311949683512,2.16865820683409,2.91458279777226,2.53248161425597,2.89178544204279,3.2619379347915,2.99646582468663,2.6442847637993,3.42745882797,3.56708235637971,2.9366473301293,2.85370603588706,3.02865442149171,2.73850188380802,3.44587541336595,2.63392244112803,2.41621201442124,3.67803986625798,3.12036407749566,3.46340997560423,2.34338323083791,2.68972758010492,2.6142631219759,2.84944989460841,3.32980344760118,3.07864754946255,2.74579681526562,2.63576033696377,2.67895750001454,2.84124662026459,3.16969460805769,2.99760248123324,3.23710668010015,3.23235243228161,3.7437242355194,3.30055365392913,2.90676592529188,2.87843000874916,3.430563074853,3.28086609163599,3.4046235130121,3.05700104066134,3.41959436952514,3.06317169244611,2.9429613525559,3.05296088288982,2.68704157908935,3.06772894212652,3.21439894263152,3.1203422294906,2.73402025564821,2.98606974088431,2.55597999427222,2.92987945841414,2.89391666044698,3.15007602859958,2.39284375903323,2.71682020335803,2.52722258411945,2.36174535770069,2.86737546586897,3.26661933323664,2.78439337119503,2.90642538724755,2.4992696126572,2.60054810047075,2.90219943751982,2.5750856065901,3.20796739301237,3.35973907135238,2.95296969339323,2.73871353782228,3.1207193809783,2.48732518641652,2.88697654611031,3.24321816667028,3.00699111850157,3.15046632060515,2.98766707920696,2.27017167880877,3.01268759178363,2.72078365456813,2.9818684818603,2.99618558528046,2.52804936179983,2.44374383440309,2.86189435320968,3.62699478022957,2.56329743194827,3.20622729247199,2.50257030522153,2.61294416418351,3.30339003981294,3.70571588596087,2.82152665738326,2.98490393177299,2.48030803135224,2.85659309464005,3.01551556428198,2.67209710660821,3.2779372151529,3.16223472787639,3.37704346461601,2.81614140732213,2.9032073905355,2.96949474440133,3.06437037138556,2.95073840966749,2.93581764919244,2.38873631844701,3.4877914940393,2.88384858464218,2.53059599791804,2.58345754671689,3.26360457054987,2.5688247639864,2.88078780837203,2.37814975677261,3.10772669021011,3.11086350213725,2.83525933868612,3.14345420652122,3.03340440849056,3.04626930246638,3.06201143179818,3.19629293206198,3.36172013142845,2.15021094855926,2.9993023879983,2.5153058659353,2.94163507822158,3.19556328705271,2.94841332209318,2.66643197298854,3.45603074211706,3.58687447412857,2.96528650695084,2.84909225167149,3.04020223158447,2.72592127314646,3.29552287786723,2.62471384936476,2.52711343624441,3.65881259857302,3.05131193401974,3.26287740409928,2.37109583856785,2.69524096446445,2.54532661781614,2.83557242524601,3.33583387679895,3.04984322883699,2.61173930378149,2.58376683302187,2.61699435183664,2.86833426972308,3.23802935399258,3.01203736090024,3.13229182473125,3.14768341381211,3.63401573991798,3.21231931317963,2.9467580886636,3.04724231368673,3.39860738727648,3.17749882219597,3.35633999957659,3.02516087779933,3.3377078356023,3.0363639177812,2.994518109109,2.97142381732252,2.72086789571147,3.0490840619186,3.20592629958687,3.05150005054853,2.74817442270249,2.5959905892374,2.98049459602057,2.68631103133637,3.05310055590701,2.38250442467313,2.02533701448443,2.81378093261365,2.50560957570583,2.39763867729774,2.86097628667042,3.17274432491806,2.80994667346312,2.95028927718248,2.53954892045554,2.56477289431755,3.07768040130288,2.47495119491878,3.35024637929936,3.21292159881242,2.95470435940712,2.62140292645821,3.05115132207912,2.40592911341955,2.94863055728057,3.29701641051315,2.98699489093502,3.20156723918932,2.96279736888221,2.30139450391928,3.03025643773337,2.61940965200851,3.07624162255622,3.01066201151522,2.74351521871847,2.32607959236572,2.70266740907817,3.48793914445418,2.49090432958704,3.15559222397875,2.54781235335787,2.69491756202134,3.35072627502429,3.58800009545563,2.72537035573683,3.04507212945693,2.49157328293662,2.75860899744598,2.91877952819669,2.64591138412757,3.27029013274061,3.16774902574233,3.38991860882002,2.9103084133972,2.96043998241424,2.85966032030197,3.01199150224353,2.89961269463511,2.84620092459336,2.38205883781437,3.54413916799892,2.75763342024667,2.52204128205635,2.56082592509381,3.27572452844099,2.55603993702651,2.80533561963561,2.47275639438327,2.90746050134454,3.15055028817472,2.87405465151621,3.24982938324405,3.08608268248962,2.99283749885865,3.06567089852025,3.28163872301727,3.38586695635658,2.1589939527721,3.12438118975217,2.46831632497623,3.10025972236427,3.20566496800911,2.99923573389321,2.78244562357656,3.43368256992849,3.5655667243783,2.94804301459248,2.90966330158721,3.12116108489815,2.71887794319655,3.46276213764331,2.55370598147763,2.58766019348109,3.62106561170467,3.05987218616095,3.32236959173209,2.47702099211569,2.59919335050984,2.61461652457894,2.88372423762391,3.37862029059216,2.96463260705994,2.62298272939777,2.62281127754721,2.61126192205595,2.80290700060558,3.12181864232535,2.9164016977068,3.23433699459307,3.188374027637,3.74907022520307,3.31137737208003,2.99702950436367,2.99967451473982,3.49289078633667,3.24378256396928,3.2929392387922,3.13627866907481,3.4554751912411,3.14226467808312,3.04384701775842,3.02624648430658,2.62021239113722,3.08502397324518,3.21315174986329,3.1858567135243,2.80621862367459,2.49340915122749,2.96804158757279,2.79471489418483,3.15673649542251,2.41454984531854,2.10831498575799,2.73136531346722,2.49022518896654,2.37067724954455,2.8343257584662,3.09889997566865,2.7902558606352,3.01111852592206,2.58415716474652,2.57683247050078,3.11866039608552,2.51120010899583,3.40185711401701,3.19505014553948,3.03952100357746,2.53833347119079,2.93772984275448,2.53567055814914,2.8836348637905,3.29231693485934,3.00995981028579,3.14828264640575,2.90675520771413,2.28217360837877,3.02619213065899,2.7011361343532,3.01826985714637,3.02761697987706,2.60576859809219,2.45086955933895,2.7252796331266,3.55560918083248,2.61709346160956,3.24182598578483,2.58086723420819,2.6407828229876,3.27341908427391,3.61652011023627,2.62592168788888,2.93864935680202,2.32580232741663,2.82610210952792,2.98521040570191,2.69698442925907,3.35340965708183,3.13505987461602,3.32652784034414,2.96123923945837,2.98424899190898,2.98722122370032,3.06316359444024,2.03725824703002,2.74610591857663,2.91922084817722,2.31198964427741,3.53599191119674,2.71375009370036,2.43121982626801,2.64629757484533,3.25703218412316,2.74064341528123,2.93759823259844,2.38183591036937,3.00538442897172,3.16869978074705,2.84412536469819,3.15890432081708,3.04205599072732,3.12400994151063,3.10829216066572,3.21539017460677,3.43581213840655,2.08936732802535,3.05276398165874,2.46244850391035,3.03624182419455,3.07172960299605,3.00937493305828,2.59185795638523,3.48785360279862,3.55047509587398,2.97547560940728,2.84450685638233,3.00235744301954,2.62966409126077,3.34392687521843,2.55759595178489,2.58542089890304,3.8249586558993,2.97046154785177,3.3792341165634,2.4248474900044,2.67146019144804,2.57972382202333,2.9484683069486,3.45467905425406,3.0823783788366,2.5243227473411,2.67382632138853,2.61173858917977,2.86929040599634,3.07256970919469,2.94176116463048,3.19393159186913,3.22724904770879,3.64345555306918,3.26939763674603,2.94414353037094,3.06656753658324,3.42534699393097,3.19334785605918,3.25288849915067,3.0496475500558,3.45408800440578,3.07210396536658,3.0736904522997,3.03895923438288,2.79692467623139,3.1747932617242,3.21443327130947,3.04105229029855,2.77233949360678,2.52349909831608,3.01007989157523,2.69287263697836,3.05112519561867,2.35237950335526,2.13796687577991,2.83591064798079,2.53040533950748,2.42644469258799,2.73115632746319,3.10498931699543,2.69314616276589,3.00118875334744,2.50475707451381,2.61903325686299,3.03822217983152,2.61201068242826,3.31238502425708,3.24955402081023,2.9305867477089,2.50347196581965,3.18234284895779,2.54454993331953,2.84603155050631,3.26484884521139,2.98022168809388,3.154789730326,2.95313313884131,2.49775855758134,3.00514770959066,2.69796047748823,2.96299489071549,2.87911640207379,2.65131525932421,2.40776692186327,2.84594190759341,3.49041722091574,2.69031287658833,3.26214199398531,2.48467340386618,2.69620375448902,3.15589239826923,3.55466325349546,2.64983129925747,3.07361278570323,2.4361076792696,2.70736380025928,3.01878775424811,2.60203211800289,3.37299365667097,3.1560289773109,3.33080553899728,2.88776579681018,3.13840570641497,2.98594259619982,3.02581430690176,2.01663423976981,2.8879123214373,2.92865823390565,2.27482063594604,3.61469368562379,2.83184490234218,2.62938881779859,2.63000793836899,3.19906109584503,2.70273717287263,2.91627980175033,2.51784155354062,3.03845268734174,3.17358029138864,2.73204105438775,3.1166067602784,3.02075898233706,3.07325008666866,3.01282382970282,3.26693227605433,3.26732994608098,2.26419355782964,2.89636861800919,2.65025344741923,2.962944646631,3.22600265705181,2.96399148211099,2.5904257526624,3.57734166093736,3.67971199918395,3.004392565278,2.88119882527211,2.9832909380775,2.66396425765407,3.49433567905159,2.57522638033025,2.51501668403834,3.61574669145769,3.09256696598247,3.32658033707972,2.38752481950689,2.6500943802088,2.65377025600803,2.96146947640818,3.41468513853571,3.01715756530402,2.54768295793817,2.54924246153948,2.69446277061477,2.79902125591864,3.1223587915865,3.02656076896612,3.11395239172754,3.21759645520382,3.74243924515718,3.34206652108192,2.99752710015082,3.10141126313518,3.35659721707611,3.18564127595171,3.2874045917724,3.06284018176169,3.40571839701524,2.93296623495678,3.02265610217725,3.00375320366519,2.63515953867376,3.22402083891693,3.06063677489415,3.10569913182756,2.84011536498259,3.02567081344186,2.51600038498619,2.99445694941097,2.80886921739324,3.06131507215438,2.34479314257173,2.16694573488996,2.6665698898551,2.3779663924268,2.39079646632675,2.82556814908193,3.16263988432293,2.79971319046972,2.96385399277572,2.57049083138767,2.51428061966138,3.12008964077281,2.51088402350318,3.41440781668652,3.17205664895093,2.97627064160646,2.48064746688826,3.08336434400547,2.51321958174865,2.88953356439821,3.3223526690982,3.10244265606755,3.13068436994629,2.9602642981725,2.27078200005827,3.0304195638666,2.66715649403246,2.94078139266073,2.98552073454408,2.45408420100139,2.42800691831467,2.69998277701499,3.5543081356628,2.73576029922055,3.21780732851109,2.42923053837582,2.66228930240036,3.25225693790791,3.56034263720186,2.68037090668295,3.02923174229453,2.41164743263435,2.75667546682713,2.99813713939258,2.61746950334231,3.33501544379287,3.11341345804497,3.38749548116927,2.87196515283413,2.97473805809274,2.96799840114729,3.185106943884,2.87630953340082,2.82977960762356,2.40415210240122,3.56172682525044,2.87716900013298,2.52630385367423,2.65762800899722,3.27123810781746,2.6845166667474,2.98892276248862,2.46574952898069,3.0464631409596,3.11494821216428,2.74458367117603,3.14013039789731,3.00253112977302,3.050455805591,3.04271708776376,3.33922935682526,3.44911291757292,2.10537256808226,2.91414461525055,2.57117422173134,2.93005378607792,3.24936909963045,3.01298856846845,2.65802178367762,3.49256239627594,3.5685076036192,2.94924864829562,2.96409691447825,3.10251854020765,2.72147069932281,3.36190971226592,2.65205464974346,2.60521436664418,3.7202521382265,3.01010950663693,3.34277399052742,2.4656596174333,2.6431435379806,2.58919377391525,2.78271478258245,3.28882881307374,3.12424227513404,2.66088602896244,2.6092545465128,2.64981229265902,2.81025641659152,3.14145399156655,2.95415914399332,3.14694299551341,3.17155515638573,3.62153542291628,3.28085838532807,3.01556116542266,3.05635555925475,3.41064254699546,3.17244799285645,3.32941501724351,3.16317365660291,3.4792184382131,2.95007971079234,3.1826073792065,3.06835007478292,2.65805738432433,3.08450460281473,3.2113441905343,3.13506980088166,2.82070374676689,3.03109983026667,2.47512542345244,3.08229790793941,2.79254284470913,3.13028814318191,2.47836025368854,2.05466888333582,2.7956966912622,2.39840192584967,2.36362640957665,2.83743966242967,3.25005047564141,2.79713943470668,2.95280076997332,2.48346065694899,2.58960966053476,2.9980680298617,2.50042565592784,3.42148279177887,3.20751213307193,3.00235934500187,2.52176605453969,3.09031324869379,2.5679838859135,2.91044005886814,3.30929228230931,2.93322135298517,3.10681782300946,2.88533289572048,2.26591403306085,3.01295547047124,2.66176623794319,3.03468021155979,2.99492929272365,2.61795135371228,2.51470594203948,2.69127851150981,3.66509127613284,2.57111436473082,3.1040019849301,2.55853524434928,2.75394854526465,3.13908889651584,3.67018198633107,2.59165129749204,3.05625868249893,2.48444413388353,2.85232116335738,2.99378885468799,2.75735511815654,3.19857201016994,3.15550670708014,3.36936169368931,2.86876530773504,3.05719215471155,2.92336843158706,3.15969073688937,2.88443166808533,2.98460290088796,2.43913603203938,3.48544321143803,2.80889512856528,2.48245783876078,2.77250809628747,3.25948064011784,2.60655003013943,2.93648885892542,2.51045972748481,3.00658282540758,3.1865526672583,2.76017884947954,3.09056801662735,2.93202774058277,3.05274261542887,3.06309345363683,3.27495572324406,3.40823176875099,2.19443849091685,2.94159017610503,2.50551785920569,2.91235304320818,3.22204543879547,3.02189265253796,2.6316399041242,3.31333529198696,3.42511013900475,2.94179727702159,3.04805556198369,3.09851404924543,2.81809005857109,3.43250366554647,2.60082323229576,2.62764094500009,3.68017523866888,3.07820426472411,3.40489236527636,2.36747697543663,2.63958913127591,2.61186200004859,2.94282292676422,3.27072620481788,3.07560094320778,2.65831840735296,2.5703232401058,2.67257896544126,2.93838218081071,3.15049194670857,3.00374621928518,3.18546439459544,3.21343762632852,3.61195123019104,3.26310666142778,2.89610716392259,2.91462693876107,3.38653823313399,3.16527671980639,3.34368808664325,3.05192780371019,3.44270082657843,2.89736715224096,3.0267464994717,3.04754099129931,2.75507461797931,3.11674478257603,3.26362810598769,3.09728604461324,2.91807786226877,2.98525744034762,2.55207546056592,2.9674529785195,2.84572122189946,3.13725974624509,2.3344776480006,2.80168288868604,2.49700337746725,2.37574327992504,2.80837894123069,3.1679772659157,2.786216220545,2.99137637045786,2.4990789560788,2.5561242745564,3.08804539216723,2.52347909627664,3.37978561201438,3.22468657984471,2.87740590983673,2.58864598134469,3.05036895611132,2.41469988517493,2.81272293300103,3.36317273798717,3.07273999133348,3.19195349285767,2.9041777887851,2.23548916095254,3.07166597377071,2.71120684522715,2.99553820607073,3.05302621344246,2.64398216398425,2.48663665612023,2.80829289321155,3.57062752754505,2.67392080213415,3.23468807625328,2.39133289173364,2.59098141361162,3.23925746073667,3.5488952165993,2.72468434372841,3.13677623669673,2.495261847612,2.78043879107059,3.07315051793093,2.72865558948921,3.25258226949696,3.17984317673353,3.33827608751675,2.82548077664605,3.04690510454018,2.91872885734545,3.2393407773546,2.01916406435547,2.99979112895452,2.94362890725391,2.43471164838064,3.4970233434872,2.92469821157639,2.47858301382756,2.67322622425882,3.29631200254217,2.65646222393449,2.97813927758567,2.53295177440597,3.09358433905657,3.1334927827049,2.9316072472416,3.18754857218228,2.96273735634513,3.07481687160809,3.06445748634593,3.3467088047013,3.23511488655527,2.10761860693147,3.06798935477585,2.56995853175881,2.98251279590375,3.13987416599072,2.99208111159737,2.62579807963776,3.4272110527711,3.63711229447658,3.1059178264289,2.89815894381997,2.98834223769035,2.77004465126766,3.35929023781214,2.57508497117205,2.49905098544108,3.66095031459846,3.04847701124284,3.20880386554374,2.44165292590268,2.66383206014493,2.66884572702866,2.86157457849173,3.33166640828479,3.13801151958695,2.56591788120238,2.62783314202732,2.65517632895162,2.8280495100828,3.12592777076496,2.93156021154738,3.18169504758637,3.16782840580136,3.60611443136284,3.24405746125997,2.96901475077791,3.04057344778629,3.33538384741368,3.18178879910396,3.34868820087634,3.10180600380873,3.45268201757207,3.06284613952393,2.966377277156,3.05720205213848,2.84939768119519,3.12710935626491,3.22696657747646,3.08343990373943,2.79200144984031,2.56067082411961,2.93496950201367,2.75647407093815,3.0780903196839,2.24267941495886,2.03545839947464,2.78519178087446,2.48745963140882,2.43006951608242,2.84334053808502,3.23560818066574,2.80187854010941,2.99682773166333,2.45760056889252,2.55216504281629,3.04133377726574,2.52874629076291,3.37240335562261,3.2887530833807,2.8277705942316,2.60281294738309,3.04277213118261,2.50646275057927,2.96654921348511,3.27404240647247,3.00882181081764,3.13247581133824,3.02636646693373,2.26629693632791,3.03844943968824,2.67425698376098,3.11853370483645,3.02039455310817,2.63859283685155,2.43814229629512,2.72360351684874,3.58186218003547,2.66329368742388,3.15814712239073,2.35269756478442,2.58276292444927,3.28174986497592,3.73630540587898,2.52661078534373,3.09950620553412,2.4154334966279,2.76600521175793,3.15434085033357,2.61890502869611,3.33764157353769,3.14785865095249,3.40252579621813,2.82240284086451,3.04984161855885,2.9817741710217,3.01536463474185,2.89322203935474,2.85041055059687,2.38743940926512,3.49789987772367,2.81639024197516,2.58392423047155,2.62361710021216,3.24729186896386,2.65531754984343,2.90369090572768,2.57834304247933,2.98350771395177,3.2045423138783,2.8826360838371,3.15196212496188,3.0060998515287,3.09571862552104,3.07559282449056,3.16048563185078,3.34351077043698,2.12418694095531,3.02478281748686,2.55298068745225,2.83173124114313,3.02649616213144,2.98725171032254,2.64095759058449,3.44651152539672,3.5076088235389,2.94569864831232,2.84172823381247,3.09826031948767,2.71758453343222,3.26883280348792,2.60568488994127,2.60485033057435,3.63740583476125,3.04744635037351,3.37339560153863,2.36150624668536,2.68873157823782,2.61846894993892,2.84657251383249,3.24884887349798,3.1134848115012,2.67788970816592,2.56164164508834,2.63215197665312,2.70269153047495,3.13091942358588,3.02540782816606,3.28851751323043,3.24414825508358,3.67117556070868,3.25084850610719,2.95232592867307,2.85192389967672,3.42819256774472,3.10812722753398,3.27336182877066,3.10214916200597,3.50326340876229,3.00315422969438,3.02116020789066,2.94377634109674,2.67073248706338,3.15270517123355,3.1347801933337,3.09409490942211,2.76133222137434,2.98892693588299,2.54863694092835,2.97449963663124,2.82063005190441,3.02953053057885,2.37233276046769,2.01964327783645,2.77077578051119,2.40376583485499,2.39771106714469,2.91219453987019,3.10267263601469,2.8210702975566,2.92015903379322,2.52079826761277,2.54887738488666,2.99063820613324,2.56306352382675,3.47437341285567,3.27652535207934,3.04377498017176,2.56608623597761,3.16167109193787,2.47003795180265,2.89748686988972,3.25041357404464,3.10432816416844,3.07351663710667,2.87814488577696,2.30290123377283,3.10385499957355,2.68722185108782,3.04083150208086,3.02017370623855,2.49997523706298,2.3388792228242,2.74499368547488,3.65677099360272,2.6702912547785,3.23208721727337,2.48402865049237,2.60869191899202,3.33181736161753,3.69652363816799,2.62829067734993,3.07543526036117,2.38705168057293,2.72434599358907,3.07584192190524,2.79955924448398,3.32066323226179,3.20019585024812,3.34960931517725,2.85233959641279,3.05139647539185,2.99926246715435,3.14237573249243,2.08510720189619,2.93455403273967,2.94579672283741,2.43266465440589,3.55460324865563,2.88830889051199,2.4939454421733,2.72118393455196,3.27485948769679,2.5743905955502,2.90350624295561,2.47761847538015,3.07411775970114,3.13704776659831,2.84397083486897,3.04635078951703,3.02462728315786,3.04467941748153,2.95348606680327,3.26109843717355,3.41330795148113,2.09127200051256,3.00217559251434,2.5032791713174,2.94197292504142,3.1313807501396,2.99938871109919,2.65950108610354,3.44671609417752,3.59340345407123,2.89633833751574,2.88233475033298,3.15554186748216,2.74453983758232,3.42762189308797,2.52272995448692,2.5551631645116,3.67155843336009,3.15437151199069,3.39254539203063,2.45751235127338,2.64138007008352,2.59750543672181,2.85452161175465,3.31361406333011,2.99284540382614,2.54159340206206,2.50441325397558,2.58323131852379],\"type\":\"scatter\",\"xaxis\":\"x2\",\"yaxis\":\"y2\"}],                        {\"template\":{\"data\":{\"bar\":[{\"error_x\":{\"color\":\"#2a3f5f\"},\"error_y\":{\"color\":\"#2a3f5f\"},\"marker\":{\"line\":{\"color\":\"#E5ECF6\",\"width\":0.5},\"pattern\":{\"fillmode\":\"overlay\",\"size\":10,\"solidity\":0.2}},\"type\":\"bar\"}],\"barpolar\":[{\"marker\":{\"line\":{\"color\":\"#E5ECF6\",\"width\":0.5},\"pattern\":{\"fillmode\":\"overlay\",\"size\":10,\"solidity\":0.2}},\"type\":\"barpolar\"}],\"carpet\":[{\"aaxis\":{\"endlinecolor\":\"#2a3f5f\",\"gridcolor\":\"white\",\"linecolor\":\"white\",\"minorgridcolor\":\"white\",\"startlinecolor\":\"#2a3f5f\"},\"baxis\":{\"endlinecolor\":\"#2a3f5f\",\"gridcolor\":\"white\",\"linecolor\":\"white\",\"minorgridcolor\":\"white\",\"startlinecolor\":\"#2a3f5f\"},\"type\":\"carpet\"}],\"choropleth\":[{\"colorbar\":{\"outlinewidth\":0,\"ticks\":\"\"},\"type\":\"choropleth\"}],\"contour\":[{\"colorbar\":{\"outlinewidth\":0,\"ticks\":\"\"},\"colorscale\":[[0.0,\"#0d0887\"],[0.1111111111111111,\"#46039f\"],[0.2222222222222222,\"#7201a8\"],[0.3333333333333333,\"#9c179e\"],[0.4444444444444444,\"#bd3786\"],[0.5555555555555556,\"#d8576b\"],[0.6666666666666666,\"#ed7953\"],[0.7777777777777778,\"#fb9f3a\"],[0.8888888888888888,\"#fdca26\"],[1.0,\"#f0f921\"]],\"type\":\"contour\"}],\"contourcarpet\":[{\"colorbar\":{\"outlinewidth\":0,\"ticks\":\"\"},\"type\":\"contourcarpet\"}],\"heatmap\":[{\"colorbar\":{\"outlinewidth\":0,\"ticks\":\"\"},\"colorscale\":[[0.0,\"#0d0887\"],[0.1111111111111111,\"#46039f\"],[0.2222222222222222,\"#7201a8\"],[0.3333333333333333,\"#9c179e\"],[0.4444444444444444,\"#bd3786\"],[0.5555555555555556,\"#d8576b\"],[0.6666666666666666,\"#ed7953\"],[0.7777777777777778,\"#fb9f3a\"],[0.8888888888888888,\"#fdca26\"],[1.0,\"#f0f921\"]],\"type\":\"heatmap\"}],\"heatmapgl\":[{\"colorbar\":{\"outlinewidth\":0,\"ticks\":\"\"},\"colorscale\":[[0.0,\"#0d0887\"],[0.1111111111111111,\"#46039f\"],[0.2222222222222222,\"#7201a8\"],[0.3333333333333333,\"#9c179e\"],[0.4444444444444444,\"#bd3786\"],[0.5555555555555556,\"#d8576b\"],[0.6666666666666666,\"#ed7953\"],[0.7777777777777778,\"#fb9f3a\"],[0.8888888888888888,\"#fdca26\"],[1.0,\"#f0f921\"]],\"type\":\"heatmapgl\"}],\"histogram\":[{\"marker\":{\"pattern\":{\"fillmode\":\"overlay\",\"size\":10,\"solidity\":0.2}},\"type\":\"histogram\"}],\"histogram2d\":[{\"colorbar\":{\"outlinewidth\":0,\"ticks\":\"\"},\"colorscale\":[[0.0,\"#0d0887\"],[0.1111111111111111,\"#46039f\"],[0.2222222222222222,\"#7201a8\"],[0.3333333333333333,\"#9c179e\"],[0.4444444444444444,\"#bd3786\"],[0.5555555555555556,\"#d8576b\"],[0.6666666666666666,\"#ed7953\"],[0.7777777777777778,\"#fb9f3a\"],[0.8888888888888888,\"#fdca26\"],[1.0,\"#f0f921\"]],\"type\":\"histogram2d\"}],\"histogram2dcontour\":[{\"colorbar\":{\"outlinewidth\":0,\"ticks\":\"\"},\"colorscale\":[[0.0,\"#0d0887\"],[0.1111111111111111,\"#46039f\"],[0.2222222222222222,\"#7201a8\"],[0.3333333333333333,\"#9c179e\"],[0.4444444444444444,\"#bd3786\"],[0.5555555555555556,\"#d8576b\"],[0.6666666666666666,\"#ed7953\"],[0.7777777777777778,\"#fb9f3a\"],[0.8888888888888888,\"#fdca26\"],[1.0,\"#f0f921\"]],\"type\":\"histogram2dcontour\"}],\"mesh3d\":[{\"colorbar\":{\"outlinewidth\":0,\"ticks\":\"\"},\"type\":\"mesh3d\"}],\"parcoords\":[{\"line\":{\"colorbar\":{\"outlinewidth\":0,\"ticks\":\"\"}},\"type\":\"parcoords\"}],\"pie\":[{\"automargin\":true,\"type\":\"pie\"}],\"scatter\":[{\"marker\":{\"colorbar\":{\"outlinewidth\":0,\"ticks\":\"\"}},\"type\":\"scatter\"}],\"scatter3d\":[{\"line\":{\"colorbar\":{\"outlinewidth\":0,\"ticks\":\"\"}},\"marker\":{\"colorbar\":{\"outlinewidth\":0,\"ticks\":\"\"}},\"type\":\"scatter3d\"}],\"scattercarpet\":[{\"marker\":{\"colorbar\":{\"outlinewidth\":0,\"ticks\":\"\"}},\"type\":\"scattercarpet\"}],\"scattergeo\":[{\"marker\":{\"colorbar\":{\"outlinewidth\":0,\"ticks\":\"\"}},\"type\":\"scattergeo\"}],\"scattergl\":[{\"marker\":{\"colorbar\":{\"outlinewidth\":0,\"ticks\":\"\"}},\"type\":\"scattergl\"}],\"scattermapbox\":[{\"marker\":{\"colorbar\":{\"outlinewidth\":0,\"ticks\":\"\"}},\"type\":\"scattermapbox\"}],\"scatterpolar\":[{\"marker\":{\"colorbar\":{\"outlinewidth\":0,\"ticks\":\"\"}},\"type\":\"scatterpolar\"}],\"scatterpolargl\":[{\"marker\":{\"colorbar\":{\"outlinewidth\":0,\"ticks\":\"\"}},\"type\":\"scatterpolargl\"}],\"scatterternary\":[{\"marker\":{\"colorbar\":{\"outlinewidth\":0,\"ticks\":\"\"}},\"type\":\"scatterternary\"}],\"surface\":[{\"colorbar\":{\"outlinewidth\":0,\"ticks\":\"\"},\"colorscale\":[[0.0,\"#0d0887\"],[0.1111111111111111,\"#46039f\"],[0.2222222222222222,\"#7201a8\"],[0.3333333333333333,\"#9c179e\"],[0.4444444444444444,\"#bd3786\"],[0.5555555555555556,\"#d8576b\"],[0.6666666666666666,\"#ed7953\"],[0.7777777777777778,\"#fb9f3a\"],[0.8888888888888888,\"#fdca26\"],[1.0,\"#f0f921\"]],\"type\":\"surface\"}],\"table\":[{\"cells\":{\"fill\":{\"color\":\"#EBF0F8\"},\"line\":{\"color\":\"white\"}},\"header\":{\"fill\":{\"color\":\"#C8D4E3\"},\"line\":{\"color\":\"white\"}},\"type\":\"table\"}]},\"layout\":{\"annotationdefaults\":{\"arrowcolor\":\"#2a3f5f\",\"arrowhead\":0,\"arrowwidth\":1},\"autotypenumbers\":\"strict\",\"coloraxis\":{\"colorbar\":{\"outlinewidth\":0,\"ticks\":\"\"}},\"colorscale\":{\"diverging\":[[0,\"#8e0152\"],[0.1,\"#c51b7d\"],[0.2,\"#de77ae\"],[0.3,\"#f1b6da\"],[0.4,\"#fde0ef\"],[0.5,\"#f7f7f7\"],[0.6,\"#e6f5d0\"],[0.7,\"#b8e186\"],[0.8,\"#7fbc41\"],[0.9,\"#4d9221\"],[1,\"#276419\"]],\"sequential\":[[0.0,\"#0d0887\"],[0.1111111111111111,\"#46039f\"],[0.2222222222222222,\"#7201a8\"],[0.3333333333333333,\"#9c179e\"],[0.4444444444444444,\"#bd3786\"],[0.5555555555555556,\"#d8576b\"],[0.6666666666666666,\"#ed7953\"],[0.7777777777777778,\"#fb9f3a\"],[0.8888888888888888,\"#fdca26\"],[1.0,\"#f0f921\"]],\"sequentialminus\":[[0.0,\"#0d0887\"],[0.1111111111111111,\"#46039f\"],[0.2222222222222222,\"#7201a8\"],[0.3333333333333333,\"#9c179e\"],[0.4444444444444444,\"#bd3786\"],[0.5555555555555556,\"#d8576b\"],[0.6666666666666666,\"#ed7953\"],[0.7777777777777778,\"#fb9f3a\"],[0.8888888888888888,\"#fdca26\"],[1.0,\"#f0f921\"]]},\"colorway\":[\"#636efa\",\"#EF553B\",\"#00cc96\",\"#ab63fa\",\"#FFA15A\",\"#19d3f3\",\"#FF6692\",\"#B6E880\",\"#FF97FF\",\"#FECB52\"],\"font\":{\"color\":\"#2a3f5f\"},\"geo\":{\"bgcolor\":\"white\",\"lakecolor\":\"white\",\"landcolor\":\"#E5ECF6\",\"showlakes\":true,\"showland\":true,\"subunitcolor\":\"white\"},\"hoverlabel\":{\"align\":\"left\"},\"hovermode\":\"closest\",\"mapbox\":{\"style\":\"light\"},\"paper_bgcolor\":\"white\",\"plot_bgcolor\":\"#E5ECF6\",\"polar\":{\"angularaxis\":{\"gridcolor\":\"white\",\"linecolor\":\"white\",\"ticks\":\"\"},\"bgcolor\":\"#E5ECF6\",\"radialaxis\":{\"gridcolor\":\"white\",\"linecolor\":\"white\",\"ticks\":\"\"}},\"scene\":{\"xaxis\":{\"backgroundcolor\":\"#E5ECF6\",\"gridcolor\":\"white\",\"gridwidth\":2,\"linecolor\":\"white\",\"showbackground\":true,\"ticks\":\"\",\"zerolinecolor\":\"white\"},\"yaxis\":{\"backgroundcolor\":\"#E5ECF6\",\"gridcolor\":\"white\",\"gridwidth\":2,\"linecolor\":\"white\",\"showbackground\":true,\"ticks\":\"\",\"zerolinecolor\":\"white\"},\"zaxis\":{\"backgroundcolor\":\"#E5ECF6\",\"gridcolor\":\"white\",\"gridwidth\":2,\"linecolor\":\"white\",\"showbackground\":true,\"ticks\":\"\",\"zerolinecolor\":\"white\"}},\"shapedefaults\":{\"line\":{\"color\":\"#2a3f5f\"}},\"ternary\":{\"aaxis\":{\"gridcolor\":\"white\",\"linecolor\":\"white\",\"ticks\":\"\"},\"baxis\":{\"gridcolor\":\"white\",\"linecolor\":\"white\",\"ticks\":\"\"},\"bgcolor\":\"#E5ECF6\",\"caxis\":{\"gridcolor\":\"white\",\"linecolor\":\"white\",\"ticks\":\"\"}},\"title\":{\"x\":0.05},\"xaxis\":{\"automargin\":true,\"gridcolor\":\"white\",\"linecolor\":\"white\",\"ticks\":\"\",\"title\":{\"standoff\":15},\"zerolinecolor\":\"white\",\"zerolinewidth\":2},\"yaxis\":{\"automargin\":true,\"gridcolor\":\"white\",\"linecolor\":\"white\",\"ticks\":\"\",\"title\":{\"standoff\":15},\"zerolinecolor\":\"white\",\"zerolinewidth\":2}}},\"xaxis\":{\"anchor\":\"y\",\"domain\":[0.0,0.45]},\"yaxis\":{\"anchor\":\"x\",\"domain\":[0.0,1.0]},\"xaxis2\":{\"anchor\":\"y2\",\"domain\":[0.55,1.0]},\"yaxis2\":{\"anchor\":\"x2\",\"domain\":[0.0,1.0]},\"title\":{\"text\":\"Point comparison\"},\"height\":500,\"width\":1000,\"autosize\":false},                        {\"responsive\": true}                    ).then(function(){\n",
              "                            \n",
              "var gd = document.getElementById('22ecda9b-8879-4420-aeb5-bcfaf3ac0aa3');\n",
              "var x = new MutationObserver(function (mutations, observer) {{\n",
              "        var display = window.getComputedStyle(gd).display;\n",
              "        if (!display || display === 'none') {{\n",
              "            console.log([gd, 'removed!']);\n",
              "            Plotly.purge(gd);\n",
              "            observer.disconnect();\n",
              "        }}\n",
              "}});\n",
              "\n",
              "// Listen for the removal of the full notebook cells\n",
              "var notebookContainer = gd.closest('#notebook-container');\n",
              "if (notebookContainer) {{\n",
              "    x.observe(notebookContainer, {childList: true});\n",
              "}}\n",
              "\n",
              "// Listen for the clearing of the current output cell\n",
              "var outputEl = gd.closest('.output');\n",
              "if (outputEl) {{\n",
              "    x.observe(outputEl, {childList: true});\n",
              "}}\n",
              "\n",
              "                        })                };                            </script>        </div>\n",
              "</body>\n",
              "</html>"
            ]
          },
          "metadata": {}
        }
      ]
    },
    {
      "cell_type": "code",
      "source": [
        "#print(M)\n",
        "#print(b)"
      ],
      "metadata": {
        "id": "wQ8xR1QSylC3"
      },
      "execution_count": 66,
      "outputs": []
    },
    {
      "cell_type": "markdown",
      "source": [
        "## New Compute and modify"
      ],
      "metadata": {
        "id": "x7FXq5sawYc0"
      }
    },
    {
      "cell_type": "code",
      "source": [
        "def compute_parameters_v2 (const,method,source, target, const_limits, log = False):\n",
        "  \n",
        "  limits = const_limits[const]\n",
        "\n",
        "  q_source = []\n",
        "  q_target = []\n",
        "\n",
        "  for i in range(len(source)):\n",
        "    q_source += [[x.real,x.imag] for x in source.values.tolist()[i] if x.real < limits[0][0] and x.real > limits[0][1] and x.imag < limits[1][0] and x.imag > limits[1][1]]\n",
        "    q_target += [[x.real,x.imag] for x in target.values.tolist()[i]if x.real < limits[0][0] and x.real > limits[0][1] and x.imag < limits[1][0] and x.imag > limits[1][1]]\n",
        "\n",
        "  unbiased = (len(q_source)/(len(q_source)-1) * 125/126)\n",
        "\n",
        "  mean_source,cov_source = compute_mean_and_cov(q_source)\n",
        "  mean_target, cov_target= compute_mean_and_cov(q_target)\n",
        "\n",
        "  cov_source *= unbiased\n",
        "  cov_target *= unbiased\n",
        "\n",
        "  if method == \"GD\":\n",
        "    alpha = 3/4\n",
        "    beta = 1/4\n",
        "    M, b = gradient_descent(alpha,beta,mean_target,mean_source,cov_target,cov_source, 0.5,log)\n",
        "    return M,b\n",
        "\n",
        "  elif method == \"Z\":\n",
        "    return mean_source,cov_source,mean_target,cov_target"
      ],
      "metadata": {
        "id": "-TwJt7kmRtDy"
      },
      "execution_count": 47,
      "outputs": []
    },
    {
      "cell_type": "code",
      "source": [
        "def modify_const_GD_v2(const, source, M, b, const_limits, target = None, return_plots=False):\n",
        "\n",
        "  limits = const_limits[const]\n",
        "\n",
        "  q_source = []\n",
        "  indexes = []\n",
        "\n",
        "  for i in range(len(source)):\n",
        "    row_source = source.values.tolist()[i]\n",
        "    for j in range(len(row_source)):\n",
        "      point_source = row_source[j]\n",
        "      if point_source.real < limits[0][0] and point_source.real > limits[0][1] and point_source.imag < limits[1][0] and point_source.imag > limits[1][1]:\n",
        "        q_source += [[point_source.real,point_source.imag]]\n",
        "        indexes.append([i,j])\n",
        "\n",
        "  if target is not None:\n",
        "    q_target = []\n",
        "\n",
        "    for i in range(len(source)):\n",
        "      row_target = target.values.tolist()[i]\n",
        "      for j in range(len(row_source)):\n",
        "        point_target = row_target[j]\n",
        "        if point_target.real < limits[0][0] and point_target.real > limits[0][1] and point_target.imag < limits[1][0] and point_target.imag > limits[1][1]:\n",
        "          q_target += [[point_target.real,point_target.imag]]\n",
        "      \n",
        "  mults = [np.array([[x[0]],[x[1]]]) for x in q_source]\n",
        "  new_points = []\n",
        "\n",
        "  for mult in mults:\n",
        "    res = (M @ mult + b).tolist()\n",
        "    new_points.append([res[0][0],res[1][0]])\n",
        "  \n",
        "  if target is not None:\n",
        "    if return_plots:\n",
        "      generate_comparison_plot(new_points,q_target)\n",
        "      return new_points, q_target\n",
        "\n",
        "  return new_points,indexes"
      ],
      "metadata": {
        "id": "nYY-b5epxykA"
      },
      "execution_count": 52,
      "outputs": []
    },
    {
      "cell_type": "code",
      "source": [
        "def modify_const_Z_v2(const, source, mean_source, cov_source, mean_target, cov_target, const_limits, target = None, return_plots=False):\n",
        "\n",
        "  limits = const_limits[const]\n",
        "\n",
        "  q_source = []\n",
        "  indexes = []\n",
        "\n",
        "  for i in range(len(source)):\n",
        "    row_source = source.values.tolist()[i]\n",
        "    for j in range(len(row_source)):\n",
        "      point_source = row_source[j]\n",
        "      if point_source.real < limits[0][0] and point_source.real > limits[0][1] and point_source.imag < limits[1][0] and point_source.imag > limits[1][1]:\n",
        "        q_source += [[point_source.real,point_source.imag]]\n",
        "        indexes.append([i,j])\n",
        "\n",
        "  if target is not None:\n",
        "    q_target = []\n",
        "\n",
        "    for i in range(len(source)):\n",
        "      row_target = target.values.tolist()[i]\n",
        "      for j in range(len(row_source)):\n",
        "        point_target = row_target[j]\n",
        "        if point_target.real < limits[0][0] and point_target.real > limits[0][1] and point_target.imag < limits[1][0] and point_target.imag > limits[1][1]:\n",
        "          q_target += [[point_target.real,point_target.imag]]\n",
        "\n",
        "  mults = [np.array([[x[0]],[x[1]]]) for x in q_source]\n",
        "  new_points = []\n",
        "\n",
        "  w, v = np.linalg.eig(cov_source)\n",
        "  S1 = v @ np.diag(np.sqrt(w)) @ np.linalg.inv(v)\n",
        "  w, v = np.linalg.eig(cov_target)\n",
        "  S2 = v @ np.diag(np.sqrt(w)) @ np.linalg.inv(v)\n",
        "\n",
        "  for mult in mults:\n",
        "    normalized = np.linalg.inv(S1) @ (mult - mean_source)\n",
        "    denormalized = S2 @ normalized + mean_target\n",
        "\n",
        "    new_points.append([denormalized[0][0], denormalized[1][0]])\n",
        "\n",
        "  if target is not None:\n",
        "    if return_plots:\n",
        "      generate_comparison_plot(new_points,q_target)\n",
        "      \n",
        "\n",
        "  return new_points, indexes"
      ],
      "metadata": {
        "id": "wbkVTN-3yAXz"
      },
      "execution_count": 53,
      "outputs": []
    },
    {
      "cell_type": "markdown",
      "source": [
        "## Test New Mod results"
      ],
      "metadata": {
        "id": "ktD9seZPxvKN"
      }
    },
    {
      "cell_type": "code",
      "source": [
        "const_limits = {}\n",
        "\n",
        "const_limits[int(1)] = [[0,-2],[2,0]]\n",
        "const_limits[int(7)] = [[0,-2],[2,0]]\n",
        "const_limits[int(10)] = [[0,-2],[2,0]]\n",
        "const_limits[int(15)] = [[0,-2],[2,0]]\n",
        "\n",
        "print(const_limits[1])"
      ],
      "metadata": {
        "id": "jEVpoEJIwgAC",
        "outputId": "cc2024c1-ba59-4749-ef23-31ce0b8cc3f8",
        "colab": {
          "base_uri": "https://localhost:8080/"
        }
      },
      "execution_count": 46,
      "outputs": [
        {
          "output_type": "stream",
          "name": "stdout",
          "text": [
            "[[0, -2], [2, 0]]\n"
          ]
        }
      ]
    },
    {
      "cell_type": "code",
      "source": [
        "M_x,b_X = compute_parameters_v2(1,\"GD\",data_x[str(100)]['Train'],data_x[str(200)]['Train'], const_limits = const_limits, log = True)"
      ],
      "metadata": {
        "colab": {
          "base_uri": "https://localhost:8080/"
        },
        "id": "ZCf4dzpZDQBo",
        "outputId": "14b66f32-5925-4d66-d5c0-8142f7c34781"
      },
      "execution_count": 44,
      "outputs": [
        {
          "output_type": "stream",
          "name": "stdout",
          "text": [
            "-------------------------\n"
          ]
        }
      ]
    },
    {
      "cell_type": "code",
      "source": [
        "print(M)\n",
        "print(b)"
      ],
      "metadata": {
        "colab": {
          "base_uri": "https://localhost:8080/"
        },
        "id": "2HBnC39LNn_t",
        "outputId": "8b0b9bad-360a-4ca0-832d-a74f7717d227"
      },
      "execution_count": 34,
      "outputs": [
        {
          "output_type": "stream",
          "name": "stdout",
          "text": [
            "[array([[1.05311624e-03, 1.27858970e+00],\n",
            "       [1.35835041e+00, 3.50279294e-03]])]\n",
            "[array([[-2.22455171],\n",
            "       [ 2.29986338]])]\n"
          ]
        }
      ]
    },
    {
      "cell_type": "code",
      "source": [
        "print(M_x)\n",
        "print(b_X)"
      ],
      "metadata": {
        "id": "f48gM10bwJPw",
        "outputId": "9145bc35-2a6d-4965-85af-a17c25ac1dfc",
        "colab": {
          "base_uri": "https://localhost:8080/"
        }
      },
      "execution_count": 45,
      "outputs": [
        {
          "output_type": "stream",
          "name": "stdout",
          "text": [
            "[array([[ 1.30221075, -0.20273977],\n",
            "       [ 0.22002484,  1.29945278]])]\n",
            "[array([[ 0.51034701],\n",
            "       [-0.09277918]])]\n"
          ]
        }
      ]
    },
    {
      "cell_type": "markdown",
      "source": [
        "# Loss"
      ],
      "metadata": {
        "id": "clqRuupEezcK"
      }
    },
    {
      "cell_type": "code",
      "source": [
        "import pickle \n",
        "\n",
        "with open('b.pickle', 'wb') as handle:\n",
        "    pickle.dump(b, handle, protocol=pickle.HIGHEST_PROTOCOL)"
      ],
      "metadata": {
        "id": "tiFj7MFse1jp"
      },
      "execution_count": null,
      "outputs": []
    },
    {
      "cell_type": "code",
      "source": [
        "points = []\n",
        "id = [np.identity(2)]\n",
        "zero = [np.zeros((2, 1))]\n",
        "Ms = id + M\n",
        "bs = zero + b\n",
        "\n",
        "for i in range(len(Ms)):\n",
        "  p,_ =  modify_const_GD(1,data[str(distances[0]*80)]['Train'],Ms[i],bs[i])\n",
        "  points.append(p)"
      ],
      "metadata": {
        "id": "yOs8qqgxe3Jk"
      },
      "execution_count": null,
      "outputs": []
    },
    {
      "cell_type": "code",
      "source": [
        "obs = points[-1]\n",
        "x = [a[0] for a in obs]\n",
        "y = [a[1] for a in obs]\n",
        "\n",
        "fig = px.scatter(x=x, y=y, labels=dict(x=\"\", y = \"\"))\n",
        "\n",
        "fig.update_traces(marker=dict(\n",
        "        color='#007bbf', size=10))\n",
        "\n",
        "fig.update_layout(width=550, height = 500)\n",
        "fig.update_yaxes(range = [1.5,4.5])\n",
        "fig.update_xaxes(range = [-4.5,-1.5])\n",
        "\n",
        "fig.show()"
      ],
      "metadata": {
        "id": "zA0Jf7bhe5mC"
      },
      "execution_count": null,
      "outputs": []
    },
    {
      "cell_type": "code",
      "source": [
        "import plotly.graph_objects as go\n",
        "import plotly.express as px\n",
        "from plotly.subplots import make_subplots\n",
        "\n",
        "\n",
        "x1 = [10,8,13,9,11,14,6,4,12,7,5]\n",
        "x2 = x1\n",
        "x3 = x1\n",
        "x4 = [8,8,8,8,8,8,8,19,8,8,8]\n",
        "y1 = [10.0,6.95,7.58,8.81,8.33,9.96,7.24,4.26,10.84,4.82,5.68]\n",
        "y2 = [9.14,8.14,8.74,8.77,9.26,8.10,6.13,3.10,9.13,7.26,4.74]\n",
        "y3 = [7.46,6.77,12.74,7.11,7.81,8.84,6.08,5.39,8.15,6.42,5.73]\n",
        "y4 = [6.58,5.76,7.71,8.84,8.47,7.04,5.25,12.50,5.56,7.91,6.89]\n",
        "\n",
        "reg_x = [0,20]\n",
        "reg_y = [3,13]\n",
        "\n",
        "fig = make_subplots(rows=2, cols=2)\n",
        "\n",
        "\n",
        "fig.add_trace(\n",
        "  go.Scatter(x = reg_x, y = reg_y,mode='lines'),\n",
        "  \n",
        "  row=1, col=1\n",
        ")\n",
        "\n",
        "fig.add_trace(\n",
        "  go.Scatter(x = reg_x, y = reg_y,mode='lines'),\n",
        "  \n",
        "  row=1, col=2\n",
        ")\n",
        "\n",
        "fig.add_trace(\n",
        "  go.Scatter(x = reg_x, y = reg_y,mode='lines'),\n",
        "  \n",
        "  row=2, col=1\n",
        ")\n",
        "\n",
        "fig.add_trace(\n",
        "  go.Scatter(x = reg_x, y = reg_y,mode='lines'),\n",
        "  \n",
        "  row=2, col=2\n",
        ")\n",
        "\n",
        "fig.add_trace(\n",
        "  go.Scatter(x = x1, y = y1,mode='markers'),\n",
        "  \n",
        "  row=1, col=1\n",
        ")\n",
        "\n",
        "\n",
        "fig.add_trace(\n",
        "  go.Scatter(x = x2, y = y2,mode='markers'),\n",
        "  row=1, col=2\n",
        ")\n",
        "fig.add_trace(\n",
        "go.Scatter(x = x3, y = y3,mode='markers'),\n",
        "row=2, col=1\n",
        ")\n",
        "fig.add_trace(\n",
        "go.Scatter(x = x4, y = y4,mode='markers'),\n",
        "row=2, col=2\n",
        ")\n",
        "\n",
        "fig.update_xaxes(range=[0, 20])\n",
        "fig.update_yaxes(range=[0, 15], dtick = 3)\n",
        "fig.update_layout(height=500, width=1000, title_text=\"Point comparison\",autosize = False)\n",
        "fig.update_traces(marker=dict(\n",
        "        color='#007bbf', size=10, line_width=2))\n",
        "\n",
        "fig.update_traces(line_color='black', line_width=2)\n",
        "\n",
        "fig.show()"
      ],
      "metadata": {
        "id": "qKbZYT7Pe7do"
      },
      "execution_count": null,
      "outputs": []
    },
    {
      "cell_type": "code",
      "source": [
        "#Doubt 2\n",
        "'''\n",
        "x, y = [], []\n",
        "for x1, y1 in m1:\n",
        "    x.append(x1)\n",
        "    y.append(y1)\n",
        "np.cov(x, y)\n",
        "'''"
      ],
      "metadata": {
        "id": "6Th5EdPLe8YS"
      },
      "execution_count": null,
      "outputs": []
    },
    {
      "cell_type": "code",
      "source": [
        "#Doubt 3\n",
        "'''\n",
        "x, y = [], []\n",
        "for x1, y1 in m2:\n",
        "    x.append(x1)\n",
        "    y.append(y1)\n",
        "np.cov(x, y)\n",
        "'''"
      ],
      "metadata": {
        "id": "Uqtf8G9Se_GZ"
      },
      "execution_count": null,
      "outputs": []
    },
    {
      "cell_type": "code",
      "source": [
        "m1, p = modify_const_Z(7,data[str(distances[15]*80)]['Train'],mean_source,cov_source,mean_target,cov_target,target = data[str(distances[22]*80)]['Train'], return_plots=False)\n",
        "m2, p = modify_const_GD(7,data[str(distances[15]*80)]['Train'],M,b,target = data[str(distances[22]*80)]['Train'], return_plots=False)"
      ],
      "metadata": {
        "id": "TTvh2-0WfBLw"
      },
      "execution_count": null,
      "outputs": []
    },
    {
      "cell_type": "code",
      "source": [
        "  fig = make_subplots(rows=1, cols=3, shared_xaxes = True, shared_yaxes = True\n",
        "                      , subplot_titles=['Z-score', 'Gradient Descent', 'Target distribution'], horizontal_spacing= 0.02)\n",
        "\n",
        "  \n",
        "  fig.add_traces(\n",
        "    [m1, m2, p], rows=[1,1,1], cols=[1,2,3]\n",
        "  )\n",
        "\n",
        "  fig.update_layout(height=420, width=1000, autosize = False)\n",
        "  \n",
        "  fig.update_xaxes(range=[-4.1, -1.9])\n",
        "  fig.update_yaxes(range=[1.9, 4.1]) \n",
        "  fig.show()"
      ],
      "metadata": {
        "id": "MOYrHhdmfC7e"
      },
      "execution_count": null,
      "outputs": []
    },
    {
      "cell_type": "code",
      "source": [
        "def L2dist(a,b):\n",
        "    return math.sqrt(math.pow(a[0]-b[0],2)+math.pow(a[1]-b[1],2))"
      ],
      "metadata": {
        "id": "KAVTCcqNfE8I"
      },
      "execution_count": null,
      "outputs": []
    },
    {
      "cell_type": "code",
      "source": [
        "method = \"Z\"\n",
        "\n",
        "quadrants = [1, 7, 10, 15]\n",
        "first = True\n",
        "\n",
        "for i in tqdm(range(25)):\n",
        "    print(\"i = \",i)\n",
        "    for j in range(i+1,25):\n",
        "        print(\" j = \",j)\n",
        "        source = data_new[str(distances[i]*80)]['Train']\n",
        "        target = data_new[str(distances[j]*80)]['Train']\n",
        "        source_test = data_new[str(distances[i]*80)]['Test']\n",
        "\n",
        "        source_test2 = source_test.copy()\n",
        "\n",
        "        for quadrant in quadrants:\n",
        "            print(\"   quadrant = \", quadrant)\n",
        "            if method == \"GD\":\n",
        "              M, b = compute_parameters(quadrant, 'GD', source, target)\n",
        "              new_points, indexes = modify_const_GD(quadrant, source_test, M, b)\n",
        "            elif method == \"Z\":\n",
        "              mean_source,cov_source,mean_target,cov_target = compute_parameters(quadrant, 'Z', source, target)\n",
        "              new_points, indexes = modify_const_Z(quadrant,source_test,mean_source,cov_source,mean_target,cov_target)\n",
        "\n",
        "            '''\n",
        "            new_points2,indexes2 = modify_const_GD(quadrant, source, M, b)\n",
        "            target3,indexes3 = modify_const_GD(quadrant, target, np.array([[1,0],[0,1]]), np.array([[0],[0]]))\n",
        "            print(\"NP1\")\n",
        "            print(compute_mean_and_cov(new_points))\n",
        "            print(\"NP2\")\n",
        "            print(compute_mean_and_cov(new_points2))\n",
        "            print(\"T3\")\n",
        "            print(compute_mean_and_cov(target3))\n",
        "            '''\n",
        "            for k in range(len(indexes)):\n",
        "                source_test2.iloc[indexes[k][0],indexes[k][1]] = complex(new_points[k][0], new_points[k][1])\n",
        "        \n",
        "        F=[]\n",
        "        for k in range(source_test2.shape[0]):\n",
        "            data2=list(source_test2.iloc[k,:])\n",
        "            data2=[[float(d.real), float(d.imag)] for d in data2]\n",
        "            gmm = GaussianMixture(n_components=16, random_state=0, means_init=my_centers).fit(data2)\n",
        "            mus=gmm.means_\n",
        "            sigmas=gmm.covariances_\n",
        "            features=[distances[j]*80]\n",
        "            for z in selCP_pos:\n",
        "                mindist=None\n",
        "                k_inc=None\n",
        "                for w in range(16):\n",
        "                    d=L2dist(mus[w],z)\n",
        "                    if mindist is None or mindist>d:\n",
        "                        mindist=d\n",
        "                        k_inc=w\n",
        "                #print(k_inc)\n",
        "                #print(mus[k_inc])\n",
        "                covmat=np.concatenate(list(sigmas[k_inc])).ravel().tolist()\n",
        "                #features = [*features, *mus[k_inc], *[covmat[0], covmat[3]]]\n",
        "                features = [*features, *mus[k_inc], *covmat]\n",
        "            F.append(features)\n",
        "\n",
        "        header=['dist']\n",
        "        \n",
        "        for j in selCP:\n",
        "            header=[*header,*['mu_r_'+str(j),'mu_i_'+str(j),'sigma_rr_'+str(j),'sigma_ri_'+str(j),'sigma_ir_'+str(j),'sigma_ii_'+str(j)]]\n",
        "            #header=[*header,*['mu_r_'+str(j),'mu_i_'+str(j),'sigma_rr_'+str(j),'sigma_ii_'+str(j)]]\n",
        "        with open(path+'/modifiedData/'+method+'/alpha0.1.csv', 'a', encoding='UTF8', newline='') as f:\n",
        "            writer = csv.writer(f)\n",
        "            # write the header\n",
        "            if first:\n",
        "              writer.writerow(header)\n",
        "              first = False\n",
        "            # write multiple rows\n",
        "            writer.writerows(F)"
      ],
      "metadata": {
        "id": "qr9c5UmtfGlv"
      },
      "execution_count": null,
      "outputs": []
    },
    {
      "cell_type": "code",
      "source": [
        "source = data[str(distances[22]*80)]['Train']\n",
        "target = data[str(distances[24]*80)]['Train']\n",
        "source_test = data[str(distances[22]*80)]['Test']\n",
        "target_test = data[str(distances[24]*80)]['Test']"
      ],
      "metadata": {
        "id": "DH6-h5-zfI_d"
      },
      "execution_count": null,
      "outputs": []
    },
    {
      "cell_type": "code",
      "source": [
        "m,b = compute_parameters(7, 'GD', source, target, log = True)"
      ],
      "metadata": {
        "id": "zEDPDzbSfK8G"
      },
      "execution_count": null,
      "outputs": []
    },
    {
      "cell_type": "markdown",
      "source": [
        "# Comparing methods"
      ],
      "metadata": {
        "id": "fhGOffKDfNMP"
      }
    },
    {
      "cell_type": "code",
      "source": [
        "l_gd = []\n",
        "l_z = []\n",
        "const = [1,7,10,15]\n",
        "\n",
        "for i in const:\n",
        "  p_gd,t = modify_const(i,\"GD\",source,target,plot = False)\n",
        "  p_z,_ = modify_const(i,\"Z\",source,target,plot = False)\n",
        "  aux_gd = [[x[0][0],x[1][0]] for x in p_gd]\n",
        "  aux_z = [[x[0][0],x[1][0]] for x in p_z]\n",
        "  m_gd,cov_gd = compute_mean_and_cov(aux_gd)\n",
        "  m_z,cov_z = compute_mean_and_cov(aux_z)\n",
        "  m_t,cov_t = compute_mean_and_cov(t)\n",
        "\n",
        "  l_gd.append(total_loss(m_gd,m_t,cov_gd,cov_t))\n",
        "  l_z.append(total_loss(m_z,m_t,cov_z,cov_t))"
      ],
      "metadata": {
        "id": "5dPJ8ZLUfPgB"
      },
      "execution_count": null,
      "outputs": []
    },
    {
      "cell_type": "code",
      "source": [
        "loss_comparison = pd.DataFrame({\"Const_P\":[0],\"Loss\":[0],\"Method\":[\"\"]})\n",
        "\n",
        "for i in range(len(l_gd)):\n",
        "  loss_comparison.loc[i] = [const[i],l_gd[i],\"GD\"]\n",
        "\n",
        "for i in range(len(l_z)):\n",
        "  loss_comparison.loc[i+4] = [const[i],l_z[i],\"Z\"]"
      ],
      "metadata": {
        "id": "pCKqdINJfSFc"
      },
      "execution_count": null,
      "outputs": []
    },
    {
      "cell_type": "code",
      "source": [
        "fig = px.bar(loss_comparison, x=\"Const_P\", y=\"Loss\", color='Method')\n",
        "fig.show()"
      ],
      "metadata": {
        "id": "v05BM4N3fWOB"
      },
      "execution_count": null,
      "outputs": []
    }
  ]
}
