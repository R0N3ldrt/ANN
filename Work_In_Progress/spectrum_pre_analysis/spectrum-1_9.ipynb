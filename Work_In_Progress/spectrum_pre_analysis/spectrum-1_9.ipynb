{
  "nbformat": 4,
  "nbformat_minor": 0,
  "metadata": {
    "colab": {
      "name": "Untitled1.ipynb",
      "provenance": [],
      "authorship_tag": "ABX9TyOMDG6/gQK1w0n5dwlNGqsh",
      "include_colab_link": true
    },
    "kernelspec": {
      "name": "python3",
      "display_name": "Python 3"
    },
    "language_info": {
      "name": "python"
    }
  },
  "cells": [
    {
      "cell_type": "markdown",
      "metadata": {
        "id": "view-in-github",
        "colab_type": "text"
      },
      "source": [
        "<a href=\"https://colab.research.google.com/github/R0N3ldrt/Thesis/blob/main/spectrum-1_9.ipynb\" target=\"_parent\"><img src=\"https://colab.research.google.com/assets/colab-badge.svg\" alt=\"Open In Colab\"/></a>"
      ]
    },
    {
      "cell_type": "markdown",
      "source": [
        "# Loading Enviroment"
      ],
      "metadata": {
        "id": "TFf_LnH4hXmH"
      }
    },
    {
      "cell_type": "markdown",
      "source": [
        "## Loading Drive and folders"
      ],
      "metadata": {
        "id": "QRLt90TJhpCF"
      }
    },
    {
      "cell_type": "code",
      "execution_count": 1,
      "metadata": {
        "colab": {
          "base_uri": "https://localhost:8080/"
        },
        "id": "-vxHbOdXfHok",
        "outputId": "aba4ddd7-8e22-4f06-de99-adef085476fe"
      },
      "outputs": [
        {
          "output_type": "stream",
          "name": "stdout",
          "text": [
            "Mounted at /content/gdrive\n"
          ]
        }
      ],
      "source": [
        "# BLOQUE PARA USAR DESDE COLAB\n",
        "\n",
        "# Google drive loading as work station for local-usage of the files.\n",
        "from google.colab import drive\n",
        "drive.mount('/content/gdrive',force_remount= True)\n",
        "\n",
        "#-----------------------------------------------------------------------------"
      ]
    },
    {
      "cell_type": "code",
      "source": [
        "# Lista para cambiar los paths rapido.\n",
        "workers = [\"Ronald\", \"Local\"]\n",
        "\n",
        "# Cambiar el numero aqui para cambiar los paths.\n",
        "worker = workers[0]\n",
        "\n",
        "if worker == \"Ronald\":\n",
        "  path= \"/content/gdrive/MyDrive/Thesis_Workstation/ANN_dataset\"\n",
        "else: path = os.getcwd()"
      ],
      "metadata": {
        "id": "s4tLLYT6gDOE"
      },
      "execution_count": 2,
      "outputs": []
    },
    {
      "cell_type": "markdown",
      "source": [
        "## Loading Necesary Libraries"
      ],
      "metadata": {
        "id": "Ob7ZixO4hxql"
      }
    },
    {
      "cell_type": "code",
      "source": [
        "# Importing necesary libraries\n",
        "import os, time\n",
        "import pandas as pd\n",
        "import numpy as np\n",
        "import matplotlib.pyplot as plt\n",
        "import math\n",
        "import pickle\n",
        "from sklearn.linear_model import LinearRegression\n",
        "from sklearn import metrics\n",
        "from sklearn.metrics import r2_score\n",
        "import seaborn as sn\n",
        "from sklearn.metrics import f1_score\n",
        "\n",
        "import warnings\n",
        "warnings.filterwarnings(\"ignore\")"
      ],
      "metadata": {
        "id": "knS8x3gehRLX"
      },
      "execution_count": 3,
      "outputs": []
    },
    {
      "cell_type": "markdown",
      "source": [
        "# Loading Data and Pre-Procesing"
      ],
      "metadata": {
        "id": "hcr6Hr2ChhUk"
      }
    },
    {
      "cell_type": "code",
      "source": [
        "data_path=path+\"/Spectrum\"\n",
        "\n",
        "qpsk_path=\"/QPSK/A.10hops100km/\"\n",
        "qam_path=\"/16QAM/A.10hops100km\"\n",
        "\n",
        "#file_name=\"/dataSet_Spectrum_Samples_QPSK_37GHz_LongHaul_output_10x100.xlsx\"\n",
        "file_name=\"/QPSK_dummy.xlsx\"\n",
        "# Skipping first row since only contain \"Frequency\" headers\n",
        "df_qpsk=pd.read_excel(data_path+qpsk_path+file_name, sheet_name = \"Sheet1\", skiprows=1)\n",
        "\n",
        "#file_name=\"/dataSet_Spectrum_Samples_16QAM_75GHz_LongHaul_output_10x100.xlsx\"\n",
        "file_name=\"/16QAM_dummy.xlsx\"\n",
        "df_qam=pd.read_excel(data_path+qam_path+file_name, sheet_name = \"Sheet1\", skiprows=1)\n",
        "\n",
        "#Diff in column 5 to 1,286 0.03125"
      ],
      "metadata": {
        "id": "0PdwcnCogI1t"
      },
      "execution_count": 4,
      "outputs": []
    },
    {
      "cell_type": "code",
      "source": [
        "#dump_file = dict desireed to be saved\n",
        "#filename = just the name of the file (file saved on \"pickle_folder\")\n",
        "\n",
        "def pickle_out(dump_file, filename):\n",
        "  filepath = path+\"/pickle_folder/\"+str(filename)+\".pickle\"\n",
        "  pickleout = open(filepath, \"wb\")\n",
        "  pickle.dump(dump_file, pickleout)\n",
        "  pickleout.close()\n",
        "\n",
        "def pickle_in(filename):\n",
        "  filepath = path+\"/pickle_folder/\"+str(filename)+\".pickle\"\n",
        "  picklein = open(filepath, \"rb\")\n",
        "  loaded_dict = pickle.load(picklein)\n",
        "  return loaded_dict"
      ],
      "metadata": {
        "id": "WH5waL1C0xAq"
      },
      "execution_count": 5,
      "outputs": []
    },
    {
      "cell_type": "markdown",
      "source": [
        "## Aggregator"
      ],
      "metadata": {
        "id": "CWOR5PNsksUs"
      }
    },
    {
      "cell_type": "code",
      "source": [
        "def prime_number_finder(stop_gap, total_num_of_data):\n",
        "  prime_nums = []\n",
        "  i=2\n",
        "  while i <= stop_gap:\n",
        "    if (total_num_of_data % i==0):\n",
        "      prime_nums.append(i)\n",
        "    i+=1\n",
        "  return prime_nums\n",
        "\n",
        "def aggreagator_selection(stop_gap=25, total_num_of_data=1281, min_prime = False):\n",
        "  current_freq_offset = 0.03125\n",
        "  \n",
        "  # Find the prime numbers where the total_num_of_data is divisible\n",
        "  prime_nums = prime_number_finder(stop_gap, total_num_of_data)\n",
        "  \n",
        "  # Find the offsets of the new aggregators\n",
        "  new_freq_offsets = []\n",
        "  for nums in prime_nums:\n",
        "    freq_offset = current_freq_offset*(nums-1)\n",
        "    new_freq_offsets.append(freq_offset)\n",
        "\n",
        "  if min_prime == False:\n",
        "    # Ask the user for the desired aggregator\n",
        "    print('Please select one of the following prime number to conduct the aggregation {} with frequencies offsets of {}(PHz) respectively. (Current Freq offset is 0.03125 PHz)'.format(prime_nums, new_freq_offsets))\n",
        "    while True:\n",
        "      user_selection = input('Prime number to conduct the aggregation? ')\n",
        "      if int(user_selection) not in prime_nums:\n",
        "        print('Please select one of the available prime numbers. (Current selection is not avaliable)')\n",
        "      else:\n",
        "        break\n",
        "    return int(user_selection)\n",
        "  else:\n",
        "    user_selection = min(prime_nums)\n",
        "    freq_selected = min(new_freq_offsets)\n",
        "    print('Selected the least common denominator for aggregation ({}) with a frequency of {}.'.format(user_selection, freq_selected))\n",
        "    return int(user_selection)\n",
        "\n",
        "def aggreagator(df, stop_gap=25, total_num_of_data=1281, min_prime = True):\n",
        "  agg_num = aggreagator_selection(stop_gap, total_num_of_data, min_prime = False)\n",
        "  \n",
        "  # Creating new df of aggregate values\n",
        "  agg_df = pd.DataFrame()\n",
        "  agg_df = df[df.columns[0:5]]\n",
        "\n",
        "  agg=0\n",
        "  loop_cnt=0\n",
        "  init_column_cnt = 5\n",
        "  while agg<=total_num_of_data:\n",
        "    loop_cnt+=1\n",
        "    # Obtain current last columns stop\n",
        "    agg=agg_num+init_column_cnt\n",
        "    # Select working columns\n",
        "    new_df = df[df.columns[init_column_cnt:agg]]\n",
        "\n",
        "    init_column_cnt += (agg_num)\n",
        "    #print(init_column_cnt)\n",
        "    # Get average of freq values for new header\n",
        "    headers = list(new_df.columns.values)\n",
        "    headers_array = np.asarray(headers)\n",
        "    new_header_name = np.mean(headers_array)\n",
        "\n",
        "    # Add aggragated values to new df\n",
        "    agg_df[str(new_header_name)] = new_df.mean(axis = 1)\n",
        "  agg_dict = agg_df.to_dict()\n",
        "  return agg_df, agg_dict\n"
      ],
      "metadata": {
        "id": "hv_1nLfcCTAT"
      },
      "execution_count": 6,
      "outputs": []
    },
    {
      "cell_type": "code",
      "source": [
        "# QPSK AGG\n",
        "#stop = 7\n",
        "#QPSK_agg_df, QPSK_agg_dict = aggreagator(df_qpsk, stop_gap=100, total_num_of_data=1281, min_prime = False)\n",
        "#pickle_out(QPSK_agg_dict, \"test_agg_spectrum_QPSK_\"+str(stop))"
      ],
      "metadata": {
        "id": "UxVxNBbEHw_6"
      },
      "execution_count": 7,
      "outputs": []
    },
    {
      "cell_type": "code",
      "source": [
        "# QPSK QAM\n",
        "#stop = 7\n",
        "#QAM_agg_df, QAM_agg_dict = aggreagator(df_qam, stop_gap=100, total_num_of_data=1281, min_prime = False)\n",
        "#pickle_out(QAM_agg_dict, \"agg_spectrum_QAM_\"+str(stop))"
      ],
      "metadata": {
        "id": "Ps2K4LYJjiyF"
      },
      "execution_count": 8,
      "outputs": []
    },
    {
      "cell_type": "code",
      "source": [
        "#pickle_dummy_dict = pickle_in(\"agg_spectrum_QPSK_7\")\n",
        "\n",
        "#print(pickle_dummy_dict.keys())\n",
        "#ickle_dummy_dict['-19.90625'].values()"
      ],
      "metadata": {
        "id": "jpHux-rYjNUW"
      },
      "execution_count": 9,
      "outputs": []
    },
    {
      "cell_type": "markdown",
      "source": [
        "##Dummy Model"
      ],
      "metadata": {
        "id": "XY1LI-8G5IMU"
      }
    },
    {
      "cell_type": "code",
      "source": [
        "def get_dummy_spectrum(df):\n",
        "  new_df = df.groupby(['#node']).mean()\n",
        "  new_df.drop(['sampleid', 'Channels', 'power_dBm'], axis = 1, inplace = True)\n",
        "  dummy_dict = new_df.to_dict()\n",
        "  \n",
        "  return new_df, dummy_dict"
      ],
      "metadata": {
        "id": "LOGSo-fEt90g"
      },
      "execution_count": 10,
      "outputs": []
    },
    {
      "cell_type": "code",
      "source": [
        "#new_df = \n",
        "#node\t| Distance_km\t|-20\t      |-19.96875\t|-19.9375\t\t\t\t\t\t\t\t\t\t\t\t\t\t\t\t\t\t\t\t\t\t\n",
        "#1\t    | 0.0\t        |-52.955056\t|-54.126681\t|-52.713840\t\n",
        "#2\t    | 100.0\t      |-51.813386\t|-53.194155\t|-52.697528\n",
        "#3\t    | 200.0\t      |-55.626777\t|-54.634329\t|-54.702958\n",
        "\n",
        "#dummy_dict.keys() = dict_keys(['Distance_km', -20, -19.96875, -19.9375, -19.90625, -19.875, -19.84375...\n",
        "#dummy_dict[-20].values() = dict_values([-52.955056039, -51.813386274, -55.626777088])"
      ],
      "metadata": {
        "id": "z8uj4oke0jlJ"
      },
      "execution_count": 11,
      "outputs": []
    },
    {
      "cell_type": "code",
      "source": [
        "# Dummy Model QPSK\n",
        "QPSK_dummy_df, QPSK_dummy_dict = get_dummy_spectrum(df_qpsk)\n",
        "#pickle_out(QPSK_dummy_dict, \"dummy_AGG_spectrum_QPSK\")"
      ],
      "metadata": {
        "id": "pRYGOWfUu-bl"
      },
      "execution_count": 26,
      "outputs": []
    },
    {
      "cell_type": "code",
      "source": [
        "# Dummy Model QAM\n",
        "QAM_dummy_df, QAM_dummy_dict = get_dummy_spectrum(df_qam)\n",
        "#pickle_out(QAM_dummy_dict, \"dummy_AGG_spectrum_QAM\")"
      ],
      "metadata": {
        "id": "ndaugJs8kHp2"
      },
      "execution_count": 27,
      "outputs": []
    },
    {
      "cell_type": "code",
      "source": [
        "#pickle_dummy_dict = pickle_in(\"dummy_AGG_spectrum_QPSK\")\n",
        "#pickle_dummy_dict['Distance_km'].values()"
      ],
      "metadata": {
        "id": "U33UXT4h3l03"
      },
      "execution_count": 14,
      "outputs": []
    },
    {
      "cell_type": "markdown",
      "source": [
        "# Processing"
      ],
      "metadata": {
        "id": "IdmcDZG0E1iC"
      }
    },
    {
      "cell_type": "markdown",
      "source": [
        "## Focus Selector"
      ],
      "metadata": {
        "id": "wW7XEh9FGvif"
      }
    },
    {
      "cell_type": "code",
      "source": [
        "# Aggregated model\n",
        "pickle_agg_QPSK_dict = pickle_in(\"test_agg_spectrum_QPSK_7\")\n",
        "pickle_agg_AQM_dict = pickle_in(\"test_agg_spectrum_QAM_7\")\n",
        "\n",
        "# Dummy models\n",
        "pickle_dummy_QPSK_dict = pickle_in(\"test_dummy_AGG_spectrum_QPSK\")\n",
        "pickle_dummy_QAM_dict = pickle_in(\"test_dummy_AGG_spectrum_QAM\")"
      ],
      "metadata": {
        "id": "IyDGYDa_FV3K"
      },
      "execution_count": 15,
      "outputs": []
    },
    {
      "cell_type": "code",
      "source": [
        "#new_df = \n",
        "#node\t  | Distance_km\t|-20\t      |-19.96875\t|-19.9375\t\t\t\t\t\t\t\t\t\t\t\t\t\t\t\t\t\t\t\t\t\t\n",
        "#1\t    | 0.0\t        |-52.955056\t|-54.126681\t|-52.713840\t\n",
        "#2\t    | 100.0\t      |-51.813386\t|-53.194155\t|-52.697528\n",
        "#3\t    | 200.0\t      |-55.626777\t|-54.634329\t|-54.702958\n",
        "\n",
        "#dummy_dict.keys() = dict_keys(['Distance_km', -20, -19.96875, -19.9375, -19.90625, -19.875, -19.84375...\n",
        "#dummy_dict[-20].values() = dict_values([-52.955056039, -51.813386274, -55.626777088])"
      ],
      "metadata": {
        "id": "VzbTOBpDHeAf"
      },
      "execution_count": 16,
      "outputs": []
    },
    {
      "cell_type": "code",
      "source": [
        "print(pickle_agg_QPSK_dict.keys())\n",
        "pickle_dummy_QAM_dict['-39.90625'].values()"
      ],
      "metadata": {
        "colab": {
          "base_uri": "https://localhost:8080/"
        },
        "id": "3Q8MWMxAFAM7",
        "outputId": "a170f535-0714-4dbb-8fbf-2b9181d8d0df"
      },
      "execution_count": 17,
      "outputs": [
        {
          "output_type": "stream",
          "name": "stdout",
          "text": [
            "dict_keys(['sampleid', 'Channels', 'Distance_km', 'power_dBm', '#node', '-19.96875', '-19.875', '-19.78125', '-19.6875', '-19.59375', '-19.5', '-19.40625', '-19.3125', '-19.21875', '-19.125', '-19.03125', '-18.9375', '-18.84375', '-18.75', '-18.65625', '-18.5625', '-18.46875', '-18.375', '-18.28125', '-18.1875', '-18.09375', '-18.0', '-17.90625', '-17.8125', '-17.71875', '-17.625', '-17.53125', '-17.4375', '-17.34375', '-17.25', '-17.15625', '-17.0625', '-16.96875', '-16.875', '-16.78125', '-16.6875', '-16.59375', '-16.5', '-16.40625', '-16.3125', '-16.21875', '-16.125', '-16.03125', '-15.9375', '-15.84375', '-15.75', '-15.65625', '-15.5625', '-15.46875', '-15.375', '-15.28125', '-15.1875', '-15.09375', '-15.0', '-14.90625', '-14.8125', '-14.71875', '-14.625', '-14.53125', '-14.4375', '-14.34375', '-14.25', '-14.15625', '-14.0625', '-13.96875', '-13.875', '-13.78125', '-13.6875', '-13.59375', '-13.5', '-13.40625', '-13.3125', '-13.21875', '-13.125', '-13.03125', '-12.9375', '-12.84375', '-12.75', '-12.65625', '-12.5625', '-12.46875', '-12.375', '-12.28125', '-12.1875', '-12.09375', '-12.0', '-11.90625', '-11.8125', '-11.71875', '-11.625', '-11.53125', '-11.4375', '-11.34375', '-11.25', '-11.15625', '-11.0625', '-10.96875', '-10.875', '-10.78125', '-10.6875', '-10.59375', '-10.5', '-10.40625', '-10.3125', '-10.21875', '-10.125', '-10.03125', '-9.9375', '-9.84375', '-9.75', '-9.65625', '-9.5625', '-9.46875', '-9.375', '-9.28125', '-9.1875', '-9.09375', '-9.0', '-8.90625', '-8.8125', '-8.71875', '-8.625', '-8.53125', '-8.4375', '-8.34375', '-8.25', '-8.15625', '-8.0625', '-7.96875', '-7.875', '-7.78125', '-7.6875', '-7.59375', '-7.5', '-7.40625', '-7.3125', '-7.21875', '-7.125', '-7.03125', '-6.9375', '-6.84375', '-6.75', '-6.65625', '-6.5625', '-6.46875', '-6.375', '-6.28125', '-6.1875', '-6.09375', '-6.0', '-5.90625', '-5.8125', '-5.71875', '-5.625', '-5.53125', '-5.4375', '-5.34375', '-5.25', '-5.15625', '-5.0625', '-4.96875', '-4.875', '-4.78125', '-4.6875', '-4.59375', '-4.5', '-4.40625', '-4.3125', '-4.21875', '-4.125', '-4.03125', '-3.9375', '-3.84375', '-3.75', '-3.65625', '-3.5625', '-3.46875', '-3.375', '-3.28125', '-3.1875', '-3.09375', '-3.0', '-2.90625', '-2.8125', '-2.71875', '-2.625', '-2.53125', '-2.4375', '-2.34375', '-2.25', '-2.15625', '-2.0625', '-1.96875', '-1.875', '-1.78125', '-1.6875', '-1.59375', '-1.5', '-1.40625', '-1.3125', '-1.21875', '-1.125', '-1.03125', '-0.9375', '-0.84375', '-0.75', '-0.65625', '-0.5625', '-0.46875', '-0.375', '-0.28125', '-0.1875', '-0.09375', '0.0', '0.09375', '0.1875', '0.28125', '0.375', '0.46875', '0.5625', '0.65625', '0.75', '0.84375', '0.9375', '1.03125', '1.125', '1.21875', '1.3125', '1.40625', '1.5', '1.59375', '1.6875', '1.78125', '1.875', '1.96875', '2.0625', '2.15625', '2.25', '2.34375', '2.4375', '2.53125', '2.625', '2.71875', '2.8125', '2.90625', '3.0', '3.09375', '3.1875', '3.28125', '3.375', '3.46875', '3.5625', '3.65625', '3.75', '3.84375', '3.9375', '4.03125', '4.125', '4.21875', '4.3125', '4.40625', '4.5', '4.59375', '4.6875', '4.78125', '4.875', '4.96875', '5.0625', '5.15625', '5.25', '5.34375', '5.4375', '5.53125', '5.625', '5.71875', '5.8125', '5.90625', '6.0', '6.09375', '6.1875', '6.28125', '6.375', '6.46875', '6.5625', '6.65625', '6.75', '6.84375', '6.9375', '7.03125', '7.125', '7.21875', '7.3125', '7.40625', '7.5', '7.59375', '7.6875', '7.78125', '7.875', '7.96875', '8.0625', '8.15625', '8.25', '8.34375', '8.4375', '8.53125', '8.625', '8.71875', '8.8125', '8.90625', '9.0', '9.09375', '9.1875', '9.28125', '9.375', '9.46875', '9.5625', '9.65625', '9.75', '9.84375', '9.9375', '10.03125', '10.125', '10.21875', '10.3125', '10.40625', '10.5', '10.59375', '10.6875', '10.78125', '10.875', '10.96875', '11.0625', '11.15625', '11.25', '11.34375', '11.4375', '11.53125', '11.625', '11.71875', '11.8125', '11.90625', '12.0', '12.09375', '12.1875', '12.28125', '12.375', '12.46875', '12.5625', '12.65625', '12.75', '12.84375', '12.9375', '13.03125', '13.125', '13.21875', '13.3125', '13.40625', '13.5', '13.59375', '13.6875', '13.78125', '13.875', '13.96875', '14.0625', '14.15625', '14.25', '14.34375', '14.4375', '14.53125', '14.625', '14.71875', '14.8125', '14.90625', '15.0', '15.09375', '15.1875', '15.28125', '15.375', '15.46875', '15.5625', '15.65625', '15.75', '15.84375', '15.9375', '16.03125', '16.125', '16.21875', '16.3125', '16.40625', '16.5', '16.59375', '16.6875', '16.78125', '16.875', '16.96875', '17.0625', '17.15625', '17.25', '17.34375', '17.4375', '17.53125', '17.625', '17.71875', '17.8125', '17.90625', '18.0', '18.09375', '18.1875', '18.28125', '18.375', '18.46875', '18.5625', '18.65625', '18.75', '18.84375', '18.9375', '19.03125', '19.125', '19.21875', '19.3125', '19.40625', '19.5', '19.59375', '19.6875', '19.78125', '19.875'])\n"
          ]
        },
        {
          "output_type": "execute_result",
          "data": {
            "text/plain": [
              "dict_values([-51.967543919, -50.006399713])"
            ]
          },
          "metadata": {},
          "execution_count": 17
        }
      ]
    },
    {
      "cell_type": "code",
      "source": [
        "def freq_selector(pickle_dict):\n",
        "  invalid = {'Distance_km','sampleid', 'Channels', 'power_dBm', '#node'}\n",
        "  freqs = []\n",
        "  for i in pickle_dict:\n",
        "    if i not in invalid:\n",
        "      freqs.append(i)\n",
        "  return np.array(freqs)\n",
        "#freq_selector(pickle_agg_QPSK_dict)"
      ],
      "metadata": {
        "id": "lgGkxQXmRc6B"
      },
      "execution_count": 18,
      "outputs": []
    },
    {
      "cell_type": "code",
      "source": [
        "def focus_selector_calc(eval_df, min_prime = False):\n",
        "  \n",
        "  sensitivity_df = pd.DataFrame()\n",
        "\n",
        "  # Find min common multipler (smallesr we can break the slots)\n",
        "  non_escencial_data_col = 5\n",
        "  \n",
        "  number_of_data = eval_df.shape[1]-(non_escencial_data_col-1)-1\n",
        "  \n",
        "  # Selecting the prime factors where we can reduce the data\n",
        "  #min_prime_num = min(prime_number_finder(stop_gap=100, total_num_of_data=number_of_data))\n",
        "  user_prime_selection = aggreagator_selection(stop_gap=100, total_num_of_data=number_of_data, min_prime = min_prime)  \n",
        "\n",
        "  cnt = 1\n",
        "  current = non_escencial_data_col\n",
        "  while current <= number_of_data:\n",
        "    end_range = current+(user_prime_selection)\n",
        "    new_df = eval_df[eval_df.columns[current:end_range]]\n",
        "\n",
        "    \n",
        "    # Add aggragated values to new df\n",
        "    sensitivity_df[eval_df.columns[current]] = new_df.mean(axis = 1)\n",
        "    current+=user_prime_selection\n",
        "    cnt+=1\n",
        "  return sensitivity_df, user_prime_selection\n",
        "\n",
        "# Select only the columns where we observe and increase of 500%\n",
        "# Return a dictionary with the row as keys and and array with positional location of columns to be selected as values\n",
        "def focus_selector_range(df, threshhold=5):\n",
        "  old_column = 0\n",
        "  selected_data_ranges = {}\n",
        "  shape = df.shape\n",
        "  rows = shape[0]\n",
        "  columns = shape[1]\n",
        "  for row in range(rows):\n",
        "    delta = 0\n",
        "    col_selected_array = []  \n",
        "    for col in range(columns):\n",
        "      if col == 0:\n",
        "        pass\n",
        "      else:   \n",
        "        delta = abs((df.iat[row, col])-(df.iat[row, (col-1)]))   \n",
        "        if delta>=threshhold:\n",
        "          col_selected_array.append(col) \n",
        "    selected_data_ranges[row] = col_selected_array\n",
        "   \n",
        "  return selected_data_ranges\n",
        "\n",
        "# Return dictionary with rows and columns to be selected from sensitivity_df\n",
        "def focus_selector_removing_outlayers(df, focus_dict, node):\n",
        "  threshold_pass = True\n",
        "  new_dict = {}\n",
        "  unique_columns = set({})\n",
        "  info_per_node = 10\n",
        "  nodes_dict_of_selected_columns = {}\n",
        "\n",
        "  # k = row\n",
        "  # v_array = array of columns selected\n",
        "  for k, v_array in focus_dict.items():\n",
        "    new_array = []\n",
        "    old_v = 0\n",
        "\n",
        "    # Check if selected columns are at least 7 or more to make sure threshold is not losing data\n",
        "    if len(v_array) <= 7:\n",
        "      #print('Threshold on function \"focus_selector_range\" is to big please select and smaller threshold.') \n",
        "      threshold_pass = False\n",
        "      break\n",
        "    # Adding one more selection earlier for being more flexible\n",
        "    elif old_v == 0:\n",
        "      min_array = min(v_array)-1\n",
        "      new_array.append(min_array)\n",
        "    \n",
        "    for v in v_array:\n",
        "      if abs(v - old_v) <=5 and abs(v - old_v) > 1 and old_v!= 0:\n",
        "        x = abs(v - old_v)\n",
        "        for i in range(x-1):\n",
        "          new_array.append(old_v+(i+1))\n",
        "      # Expanding by one the sensitive area\n",
        "      elif abs(v - old_v)>25:\n",
        "        new_array.append(old_v+1)\n",
        "        new_array.append(v-1)\n",
        "\n",
        "      old_v = v\n",
        "      new_array.append(v)\n",
        "\n",
        "    # Adding one more selection in the end for being more flexible\n",
        "    max_array = max(new_array)+1\n",
        "    new_array.append(max_array)\n",
        "\n",
        "    # Adding storage of all columns saved for later function\n",
        "    unique_columns.update(new_array)\n",
        "    if k == (info_per_node-1):\n",
        "      nodes_dict_of_selected_columns[node] = unique_columns\n",
        "      info_per_node = node*info_per_node\n",
        "      unique_columns = set({})\n",
        "    new_dict[k] = new_array\n",
        "  \n",
        "\n",
        "  return new_dict, nodes_dict_of_selected_columns, threshold_pass\n",
        "\n",
        "#-17.28125\t-16.625\t-15.96875\n",
        "#{0: [3, 4, 5, 6, 7, 54, 55, 56, 57]"
      ],
      "metadata": {
        "id": "wICvGDXAdaL4"
      },
      "execution_count": 19,
      "outputs": []
    },
    {
      "cell_type": "code",
      "source": [
        "def focus_selector(sensitivity_df, original_df, nodes_dict_of_selected_columns, node_selected):\n",
        "\n",
        "  total_of_columns = (sensitivity_df.shape[1])\n",
        "  mid_point = int(total_of_columns/2)\n",
        "\n",
        "  # Get list of columns to be selected\n",
        "  selected_node_columns = list(nodes_dict_of_selected_columns[node_selected])\n",
        "  \n",
        "  #Cleaning unwanted columns\n",
        "  max_pos = selected_node_columns.index(max(selected_node_columns))\n",
        "  \n",
        "  #Final selected columns for selected node\n",
        "  columns_to_be_selected = selected_node_columns[:max_pos+1]\n",
        "\n",
        "  # Select only the desired columns \n",
        "  columns_to_be_selected = sorted(columns_to_be_selected)\n",
        "\n",
        "  # Separate data in to left and right curves\n",
        "  left_columns = list()\n",
        "  right_columns = list()\n",
        "\n",
        "  for col in columns_to_be_selected:\n",
        "    if col <= mid_point:\n",
        "      left_columns.append(col)\n",
        "    else:\n",
        "      if col != sensitivity_df.shape[1]:\n",
        "        right_columns.append(col)\n",
        "\n",
        "  df_left = sensitivity_df.iloc[:, left_columns]\n",
        "  df_right = sensitivity_df.iloc[:, right_columns]\n",
        "  \n",
        "  # Add back additional info\n",
        "  selection = original_df.loc[:,'sampleid']\n",
        "  df_left.insert(0, 'sampleid', selection)\n",
        "  df_right.insert(0, 'sampleid', selection)\n",
        "\n",
        "  selection = original_df.loc[:,'Channels']\n",
        "  df_left.insert(1, 'Channels', selection)\n",
        "  df_right.insert(1, 'Channels', selection)\n",
        "\n",
        "  selection = original_df.loc[:,'Distance_km']\n",
        "  df_left.insert(2, 'Distance_km', selection)\n",
        "  df_right.insert(2, 'Distance_km', selection)\n",
        "\n",
        "  selection = original_df.loc[:,'power_dBm']\n",
        "  df_left.insert(3, 'power_dBm', selection)\n",
        "  df_right.insert(3, 'power_dBm', selection)\n",
        "\n",
        "  selection = original_df.loc[:,'#node']\n",
        "  df_left.insert(4, '#node', selection)\n",
        "  df_right.insert(4, '#node', selection)\n",
        "\n",
        "  #Select only the node desired\n",
        "  node_df_left = df_left.loc[df_left['#node'] == int(node_selected)]\n",
        "  node_df_right = df_right.loc[df_right['#node'] == int(node_selected)]\n",
        "\n",
        "  return node_df_left, node_df_right, columns_to_be_selected, left_columns, right_columns"
      ],
      "metadata": {
        "id": "garFmEl5PnYj"
      },
      "execution_count": 20,
      "outputs": []
    },
    {
      "cell_type": "markdown",
      "source": [
        "## Main focus selector"
      ],
      "metadata": {
        "id": "9RfNOxgmLxnU"
      }
    },
    {
      "cell_type": "code",
      "source": [
        "def focus_selector_complete(original_df, node_to_be_eval, min_desired_reduction_of_noise=0.15, aggregation = True, min_prime = False):\n",
        "\n",
        "  original_col_num = (original_df.shape[1]-5)\n",
        "  # Decide if we want agregation\n",
        "  if aggregation == True:\n",
        "    sensitivity_df, agg_range = focus_selector_calc(original_df, min_prime = min_prime)\n",
        "    max_smothed_amt = int(original_col_num/agg_range)\n",
        "  else:\n",
        "    sensitivity_df = original_df.copy()\n",
        "    drop_cols = [0, 1, 2, 3, 4]\n",
        "    sensitivity_df.drop(sensitivity_df.columns[drop_cols], axis=1, inplace=True)\n",
        "\n",
        "    max_smothed_amt = original_col_num\n",
        "\n",
        "  old_val_threshold = 0\n",
        "  for threshhold_val in range(20):\n",
        "\n",
        "    focus_dict = focus_selector_range(sensitivity_df, threshhold=threshhold_val)\n",
        "    new_dict_focus_selector, nodes_dict_of_selected_columns, threshold_pass = focus_selector_removing_outlayers(sensitivity_df, focus_dict, node = node_to_be_eval)\n",
        "\n",
        "    if threshold_pass == True:\n",
        "      percentage_reduced_of_noise = 1-(len(nodes_dict_of_selected_columns[node_to_be_eval])/max_smothed_amt)\n",
        "\n",
        "      # Find the optimal threshold\n",
        "      if percentage_reduced_of_noise >= min_desired_reduction_of_noise:\n",
        "\n",
        "        node_df_left, node_df_right, columns_to_be_selected, left_columns, right_columns = focus_selector(sensitivity_df, original_df, nodes_dict_of_selected_columns, node_selected = node_to_be_eval)\n",
        "        print('Reduced {} columns to {} columns.'.format(original_col_num, len(columns_to_be_selected)))\n",
        "        print('{}% reduced noise using a threshold of {}%.'.format(round(percentage_reduced_of_noise,2)*100, (threshhold_val*100)))\n",
        "      \n",
        "        print('Columns selected {}'.format(columns_to_be_selected))\n",
        "        break  \n",
        "\n",
        "      # Stop in case we arraive to the maximum threshold that would be looped\n",
        "      elif threshhold_val == 20:\n",
        "\n",
        "        node_df_left, node_df_right, columns_to_be_selected, left_columns, right_columns = focus_selector(sensitivity_df, original_df, nodes_dict_of_selected_columns, node_selected = node_to_be_eval)\n",
        "        print('Reduced {} columns to {} columns.'.format(original_col_num, len(columns_to_be_selected)))\n",
        "        print('{}% reduced noise using a threshold of {}%.'.format(round(percentage_reduced_of_noise,2)*100, (threshhold_val*100)))\n",
        "      \n",
        "        print('Columns selected {}'.format(columns_to_be_selected))\n",
        "        break          \n",
        "    \n",
        "    # In case the threholds is to big we stop and use the previos one\n",
        "    elif threshold_pass == False:\n",
        "      focus_dict = focus_selector_range(sensitivity_df, threshhold=old_val_threshold)\n",
        "      new_dict_focus_selector, nodes_dict_of_selected_columns, threshold_pass = focus_selector_removing_outlayers(sensitivity_df, focus_dict) \n",
        "           \n",
        "      percentage_reduced_of_noise = 1-(len(nodes_dict_of_selected_columns[node_to_be_eval])/max_smothed_amt)\n",
        "\n",
        "      node_df_left, node_df_right, columns_to_be_selected, left_columns, right_columns = focus_selector(sensitivity_df, original_df, nodes_dict_of_selected_columns, node_selected = node_to_be_eval)\n",
        "      print('Reduced {} columns to {} columns.'.format(original_col_num, len(columns_to_be_selected)))\n",
        "      print('{}% reduced noise using a threshold of {}%.'.format(round(percentage_reduced_of_noise,2)*100, (threshhold_val*100)))\n",
        "    \n",
        "      print('Columns selected {}'.format(columns_to_be_selected))      \n",
        "      break\n",
        "  \n",
        "    old_val_threshold += 1\n",
        "  return node_df_left, node_df_right, columns_to_be_selected, left_columns, right_columns\n"
      ],
      "metadata": {
        "id": "hkdUN2uyHep-"
      },
      "execution_count": 21,
      "outputs": []
    },
    {
      "cell_type": "code",
      "source": [
        "def model_focus_selector(model_df, left_columns, right_columns, node_to_be_eval=1):\n",
        "\n",
        "  # Pre-process dummy model\n",
        "\n",
        "  model_node_row = model_df.iloc[[node_to_be_eval-1]]\n",
        "  model_node_row.drop('Distance_km', axis=1, inplace=True)\n",
        "\n",
        "\n",
        "  model_node_row_left = model_node_row.iloc[:, left_columns]\n",
        "  model_node_row_right = model_node_row.iloc[:, right_columns]\n",
        "  \n",
        "  # Add back additional info\n",
        "  model_node_row_left.insert(0, 'sampleid', 1)\n",
        "  model_node_row_right.insert(0, 'sampleid', 1)\n",
        "\n",
        "  model_node_row_left.insert(1, 'Channels', 1)\n",
        "  model_node_row_right.insert(1, 'Channels', 1)\n",
        "\n",
        "  model_node_row_left.insert(2, 'Distance_km', node_to_be_eval*100)\n",
        "  model_node_row_right.insert(2, 'Distance_km', node_to_be_eval*100)\n",
        "\n",
        "  model_node_row_left.insert(3, 'power_dBm', -2)\n",
        "  model_node_row_right.insert(3, 'power_dBm', -2)\n",
        "\n",
        "  model_node_row_left.insert(4, '#node', node_to_be_eval)\n",
        "  model_node_row_right.insert(4, '#node', node_to_be_eval)\n",
        "\n",
        "\n",
        "  return model_node_row_left, model_node_row_right"
      ],
      "metadata": {
        "id": "z3O42LAaVLUB"
      },
      "execution_count": 22,
      "outputs": []
    },
    {
      "cell_type": "code",
      "source": [
        "node_df_left, node_df_right, columns_to_be_selected, left_columns, right_columns = focus_selector_complete(df_qpsk, node_to_be_eval=1, min_desired_reduction_of_noise=0.15, aggregation = True, min_prime = True)"
      ],
      "metadata": {
        "colab": {
          "base_uri": "https://localhost:8080/"
        },
        "id": "udKotWlmKzTJ",
        "outputId": "9eeadc85-2599-44cd-c133-b45a90325799"
      },
      "execution_count": 23,
      "outputs": [
        {
          "output_type": "stream",
          "name": "stdout",
          "text": [
            "Selected the least common denominator for aggregation (3) with a frequency of 0.0625.\n",
            "Reduced 1281 columns to 290 columns.\n",
            "32.0% reduced noise using a threshold of 900%.\n",
            "Columns selected [1, 2, 3, 4, 5, 6, 7, 8, 9, 10, 11, 12, 18, 19, 20, 21, 22, 23, 26, 27, 29, 30, 31, 32, 33, 34, 35, 39, 40, 41, 42, 43, 44, 47, 48, 49, 50, 56, 57, 69, 70, 74, 75, 76, 77, 78, 80, 81, 82, 88, 89, 90, 91, 92, 93, 94, 95, 96, 97, 98, 99, 100, 101, 102, 103, 104, 105, 106, 110, 111, 112, 116, 117, 118, 119, 120, 121, 123, 124, 125, 126, 127, 128, 129, 130, 133, 134, 135, 136, 137, 138, 139, 140, 144, 145, 146, 147, 148, 149, 150, 151, 152, 153, 154, 155, 156, 157, 158, 159, 160, 168, 169, 170, 171, 172, 173, 174, 175, 176, 177, 178, 179, 180, 185, 186, 187, 188, 189, 190, 191, 192, 193, 194, 195, 196, 198, 199, 203, 204, 205, 210, 211, 212, 213, 214, 215, 216, 217, 218, 219, 220, 221, 222, 223, 224, 225, 226, 227, 228, 229, 230, 231, 232, 233, 234, 235, 236, 237, 238, 239, 240, 241, 242, 244, 245, 246, 258, 259, 260, 263, 264, 265, 266, 272, 273, 274, 275, 276, 277, 279, 280, 281, 282, 283, 284, 285, 288, 289, 291, 292, 297, 298, 300, 302, 303, 304, 305, 306, 307, 308, 309, 310, 311, 312, 313, 314, 315, 317, 318, 319, 320, 321, 322, 323, 324, 330, 331, 332, 333, 334, 335, 338, 339, 340, 341, 342, 343, 344, 347, 348, 349, 351, 352, 353, 358, 359, 360, 361, 364, 365, 366, 370, 371, 374, 375, 376, 377, 380, 381, 383, 384, 385, 386, 387, 388, 389, 390, 391, 392, 393, 394, 395, 396, 397, 398, 399, 400, 401, 405, 410, 411, 416, 417, 418, 419, 420, 421, 422, 423, 424]\n"
          ]
        }
      ]
    },
    {
      "cell_type": "code",
      "source": [
        "model_node_row_left, model_node_row_right = model_focus_selector(QPSK_dummy_df, left_columns, right_columns, node_to_be_eval=1)"
      ],
      "metadata": {
        "id": "hM-tkCb4KzxW"
      },
      "execution_count": 28,
      "outputs": []
    },
    {
      "cell_type": "markdown",
      "source": [
        "## Linear Regresion"
      ],
      "metadata": {
        "id": "R8z1fmNEBGdo"
      }
    },
    {
      "cell_type": "code",
      "source": [
        "def obtain_regresion_features(sample_df, model_df):\n",
        "\n",
        "  # Get model data\n",
        "  model_df = model_df.iloc[0].to_numpy()\n",
        "  model_df = model_df[5:]\n",
        "  y = np.array(model_df)\n",
        "  features_dict = {}\n",
        "  # Get Sample data\n",
        "  for row in range(sample_df.shape[0]):\n",
        "    features = []\n",
        "\n",
        "    row_data_sample = sample_df.iloc[row].to_numpy()\n",
        "    row_data_sample = row_data_sample[5:]\n",
        "    x = np.array(row_data_sample).reshape((-1, 1))\n",
        "    \n",
        "    # Get linear regresion features\n",
        "    model = LinearRegression()\n",
        "    model.fit(x, y)\n",
        "    model = LinearRegression().fit(x, y)\n",
        "    r_sq = model.score(x, y)\n",
        "    intercept = model.intercept_\n",
        "    slope = model.coef_\n",
        "    \n",
        "    features.append(r_sq)\n",
        "    features.append(intercept)\n",
        "    features.append(slope[0])\n",
        "\n",
        "    features_dict['Sample_'+str(row+1)] = features\n",
        "  # Return dictionary with sample as key and a array with (r_sq, intercept, slope) as values\n",
        "  return features_dict\n",
        "\n",
        "\n",
        "def linear_regresion(node_df_left, node_df_right, model_node_row_left, model_node_row_right):\n",
        "\n",
        "  # Checking left side\n",
        "  left_features_dict = obtain_regresion_features(node_df_left, model_node_row_left)\n",
        "\n",
        "  # Checking right side\n",
        "  right_features_dict = obtain_regresion_features(node_df_right, model_node_row_right)\n",
        "  \n",
        "  r_sqr_agg = []\n",
        "  intercept_agg = []\n",
        "  slope_agg = []\n",
        "  combined_features_dict = {}\n",
        "  for k, val_array in left_features_dict.items():\n",
        "    combined_features = []\n",
        "    # Combining r_sqr\n",
        "    combined_r_sq = (val_array[0] + right_features_dict[k][0])/2 \n",
        "    combined_features.append(combined_r_sq)\n",
        "    r_sqr_agg.append(combined_r_sq)\n",
        "\n",
        "    # Combining intercept\n",
        "    combined_intercept = (val_array[1] + right_features_dict[k][1])/2 \n",
        "    combined_features.append(combined_intercept)\n",
        "    intercept_agg.append(combined_intercept)\n",
        "\n",
        "    # Combining slope\n",
        "    combined_slope = (val_array[2] + right_features_dict[k][2])/2 \n",
        "    combined_features.append(combined_slope)\n",
        "    slope_agg.append(combined_slope)\n",
        "\n",
        "    combined_features_dict[k] = combined_features\n",
        "\n",
        "  # Get overall average of each feature\n",
        "  r_sqr_val = np.average(r_sqr_agg)\n",
        "  intercept_val = np.average(intercept_agg)\n",
        "  slope_val = np.average(slope_agg)\n",
        "  # Return dictionary with sample as key and a array with (r_sq, intercept, slope) as values with combined left and right curves\n",
        "  return combined_features_dict, r_sqr_val, intercept_val, slope_val\n",
        "  \n",
        "  # Prediction\n",
        "  #y_pred = model.predict(x)\n",
        "  #print('predicted response:', y_pred, sep='\\n')\n",
        "\n",
        "\n",
        "\n",
        "def linear_regresion_v2(node_df_left, node_df_right, model_node_row_left, model_node_row_right):\n",
        "\n",
        "  # Checking left side\n",
        "  left_features_dict = obtain_regresion_features(node_df_left, model_node_row_left)\n",
        "\n",
        "  # Checking right side\n",
        "  right_features_dict = obtain_regresion_features(node_df_right, model_node_row_right)\n",
        "  \n",
        "  r_sqr_agg = []\n",
        "\n",
        "  for k, val_array in left_features_dict.items():\n",
        "    # Combining r_sqr\n",
        "    combined_r_sq = (val_array[0] + right_features_dict[k][0])/2 \n",
        "    r_sqr_agg.append(combined_r_sq)\n",
        "\n",
        "  # Get overall average of each feature\n",
        "  r_sqr_val = np.average(r_sqr_agg)\n",
        "\n",
        "  # Return dictionary with sample as key and a array with (r_sq, intercept, slope) as values with combined left and right curves\n",
        "  return r_sqr_val\n",
        "  "
      ],
      "metadata": {
        "id": "sG7h6ECbBMIL"
      },
      "execution_count": 29,
      "outputs": []
    },
    {
      "cell_type": "code",
      "source": [
        "combined_features_dict, r_sqr_val, intercept_val, slope_val = linear_regresion(node_df_left, node_df_right, model_node_row_left, model_node_row_right)"
      ],
      "metadata": {
        "id": "e0Q_bDFYgLne"
      },
      "execution_count": 30,
      "outputs": []
    },
    {
      "cell_type": "code",
      "source": [
        "print(r_sqr_val)\n",
        "print(intercept_val)\n",
        "print(slope_val)"
      ],
      "metadata": {
        "colab": {
          "base_uri": "https://localhost:8080/"
        },
        "id": "cNFtVQ_0GKkG",
        "outputId": "4ed1b6c7-c7b7-40ed-d3f0-9b63a96d775e"
      },
      "execution_count": 31,
      "outputs": [
        {
          "output_type": "stream",
          "name": "stdout",
          "text": [
            "0.1872920710492283\n",
            "-16.118143344850772\n",
            "0.320715049478247\n"
          ]
        }
      ]
    },
    {
      "cell_type": "code",
      "source": [
        "print(combined_features_dict)"
      ],
      "metadata": {
        "colab": {
          "base_uri": "https://localhost:8080/"
        },
        "id": "aQ8nFQMN-usb",
        "outputId": "9b20f3a7-8721-4e05-8d95-cdb1c8533e73"
      },
      "execution_count": null,
      "outputs": [
        {
          "output_type": "stream",
          "name": "stdout",
          "text": [
            "{'Sample_1': [0.8833863390715191, -1.9461701142247314, 0.8780060144855435], 'Sample_2': [0.884968449209298, -3.004290324874715, 0.8881606313213234], 'Sample_3': [0.8855196537979639, -2.1750212403980953, 0.8894978271839873], 'Sample_4': [0.8916998981010285, -3.051426735850324, 0.8861469488934133], 'Sample_5': [0.8829683396261425, -1.171668580696453, 0.8898245720925081], 'Sample_6': [0.8835023749892577, -2.8324245404233306, 0.8733441416652403], 'Sample_7': [0.8874445808115341, -0.793366885692917, 0.890154005230884], 'Sample_8': [0.900930670326529, -2.0226616321109816, 0.8986698437755491], 'Sample_9': [0.8868361404479461, -2.1726609495037597, 0.8797609115292577], 'Sample_10': [0.8834004351802379, -2.847984839040457, 0.898952228702382]}\n"
          ]
        }
      ]
    },
    {
      "cell_type": "markdown",
      "source": [
        "## Test_1"
      ],
      "metadata": {
        "id": "g8lFDEuhGWmb"
      }
    },
    {
      "cell_type": "code",
      "source": [
        "data_path=path+\"/Spectrum\"\n",
        "\n",
        "qpsk_path=\"/QPSK/A.10hops100km/\"\n",
        "qam_path=\"/16QAM/A.10hops100km\"\n",
        "\n",
        "#file_name=\"/dataSet_Spectrum_Samples_QPSK_37GHz_LongHaul_output_10x100.xlsx\"\n",
        "file_name=\"/QPSK_dummy.xlsx\"\n",
        "# Skipping first row since only contain \"Frequency\" headers\n",
        "df_qpsk=pd.read_excel(data_path+qpsk_path+file_name, sheet_name = \"Sheet1\", skiprows=1)\n",
        "\n",
        "#file_name=\"/dataSet_Spectrum_Samples_16QAM_75GHz_LongHaul_output_10x100.xlsx\"\n",
        "file_name=\"/16QAM_dummy.xlsx\"\n",
        "df_qam=pd.read_excel(data_path+qam_path+file_name, sheet_name = \"Sheet1\", skiprows=1)\n",
        "\n",
        "#Diff in column 5 to 1,286 0.03125"
      ],
      "metadata": {
        "id": "yl7jEG7kK1rW"
      },
      "execution_count": 32,
      "outputs": []
    },
    {
      "cell_type": "code",
      "source": [
        "data_path=path+\"/Spectrum\"\n",
        "qpsk_path=\"/QPSK/A.10hops100km/\"\n",
        "\n",
        "#file_name=\"/dataSet_Spectrum_Samples_QPSK_37GHz_LongHaul_output_10x100.xlsx\"\n",
        "file_name=\"/QPSK_dummy.xlsx\"\n",
        "\n",
        "#Load sample data\n",
        "df_qpsk=pd.read_excel(data_path+qpsk_path+file_name, sheet_name = \"Sheet1\", skiprows=1)\n",
        "# Load model data\n",
        "QPSK_dummy_df, QPSK_dummy_dict = get_dummy_spectrum(df_qpsk)\n",
        "\n",
        "# Sample node\n",
        "sample_node = 1\n",
        "# Model node\n",
        "model_node = 1\n",
        "\n",
        "# Get sample data\n",
        "node_df_left, node_df_right, selected_columns, left_columns, right_columns = focus_selector_complete(df_qpsk, node_to_be_eval=sample_node, min_desired_reduction_of_noise=0.15, aggregation = False, min_prime = False)\n",
        "\n",
        "# Get model data\n",
        "model_node_row_left, model_node_row_right = model_focus_selector(QPSK_dummy_df, left_columns, right_columns, node_to_be_eval=model_node)\n",
        "\n",
        "print('---Left Side Shape---')\n",
        "print(node_df_left.shape)\n",
        "print(model_node_row_left.shape)\n",
        "\n",
        "print('---right Side Shape---')\n",
        "print(node_df_right.shape)\n",
        "print(model_node_row_right.shape)\n",
        "\n",
        "# Get linear regresion features\n",
        "combined_features_dict, r_sqr_val, intercept_val, slope_val = linear_regresion(node_df_left, node_df_right, model_node_row_left, model_node_row_right)\n",
        "\n",
        "print('---Linear Regresion Features---')\n",
        "print('coefficient of determination:', r_sqr_val)\n",
        "print('intercept:', intercept_val)\n",
        "print('slope:', slope_val)"
      ],
      "metadata": {
        "colab": {
          "base_uri": "https://localhost:8080/"
        },
        "id": "mCmHLZ10GV3E",
        "outputId": "82c55061-22d0-4633-8891-3214fa966828"
      },
      "execution_count": 33,
      "outputs": [
        {
          "output_type": "stream",
          "name": "stdout",
          "text": [
            "Reduced 1281 columns to 1045 columns.\n",
            "18.0% reduced noise using a threshold of 1300%.\n",
            "Columns selected [1, 2, 3, 4, 5, 6, 7, 8, 9, 10, 11, 12, 13, 14, 15, 16, 17, 18, 19, 20, 21, 22, 23, 24, 25, 26, 27, 28, 29, 30, 31, 32, 33, 34, 35, 36, 37, 38, 39, 40, 41, 45, 46, 48, 49, 54, 55, 56, 57, 58, 59, 60, 61, 62, 63, 64, 65, 66, 67, 68, 69, 74, 75, 76, 77, 78, 79, 80, 81, 82, 83, 84, 85, 86, 87, 88, 89, 90, 91, 92, 93, 94, 95, 98, 99, 100, 101, 102, 103, 104, 105, 107, 108, 109, 110, 111, 112, 113, 114, 115, 116, 117, 118, 119, 120, 124, 125, 126, 127, 128, 130, 131, 132, 133, 138, 139, 140, 141, 144, 145, 146, 147, 148, 149, 150, 151, 152, 153, 154, 155, 156, 157, 158, 159, 160, 161, 162, 163, 164, 165, 168, 169, 170, 171, 172, 173, 174, 175, 176, 177, 178, 179, 180, 181, 182, 183, 184, 185, 186, 187, 188, 189, 190, 191, 192, 193, 194, 195, 199, 202, 206, 207, 209, 210, 211, 212, 213, 214, 215, 216, 217, 218, 219, 220, 221, 222, 223, 224, 225, 226, 227, 228, 229, 230, 231, 232, 233, 239, 240, 241, 243, 246, 247, 250, 251, 252, 253, 254, 255, 256, 257, 258, 259, 260, 261, 264, 265, 266, 267, 268, 269, 270, 271, 272, 273, 279, 280, 282, 283, 286, 287, 288, 289, 290, 291, 292, 293, 294, 295, 297, 298, 299, 300, 301, 302, 303, 304, 307, 308, 309, 310, 311, 312, 313, 314, 315, 316, 317, 318, 319, 320, 323, 324, 325, 326, 327, 328, 329, 330, 331, 332, 333, 334, 335, 336, 337, 338, 339, 340, 341, 342, 343, 344, 345, 346, 347, 349, 350, 351, 352, 353, 354, 359, 360, 361, 362, 363, 364, 365, 366, 367, 368, 369, 370, 371, 372, 373, 374, 375, 376, 377, 378, 379, 380, 381, 382, 383, 384, 385, 386, 387, 388, 389, 390, 391, 392, 393, 394, 397, 401, 402, 403, 404, 405, 406, 407, 408, 409, 410, 412, 413, 414, 415, 416, 417, 418, 420, 421, 422, 423, 424, 425, 426, 427, 428, 429, 430, 431, 432, 433, 435, 436, 437, 438, 439, 440, 441, 442, 443, 444, 445, 447, 448, 449, 450, 451, 452, 453, 454, 455, 456, 457, 459, 460, 461, 462, 463, 464, 465, 466, 470, 471, 477, 478, 479, 482, 488, 489, 490, 492, 496, 497, 498, 499, 500, 501, 502, 503, 504, 505, 506, 507, 508, 509, 510, 511, 512, 513, 514, 515, 516, 517, 518, 519, 520, 521, 522, 523, 524, 525, 526, 527, 528, 529, 530, 531, 532, 533, 534, 535, 536, 537, 538, 539, 540, 544, 545, 546, 547, 551, 552, 555, 556, 557, 558, 559, 560, 561, 562, 565, 566, 567, 568, 569, 570, 575, 576, 577, 578, 579, 580, 581, 582, 583, 584, 585, 586, 587, 588, 589, 590, 591, 592, 593, 594, 595, 597, 598, 599, 601, 602, 603, 605, 606, 607, 608, 609, 610, 611, 612, 613, 614, 615, 616, 617, 618, 619, 620, 621, 622, 623, 624, 625, 626, 627, 628, 631, 632, 633, 634, 635, 637, 638, 641, 642, 643, 644, 645, 646, 655, 656, 657, 660, 662, 663, 664, 665, 666, 667, 668, 669, 670, 671, 672, 673, 674, 675, 676, 677, 678, 679, 680, 681, 682, 683, 684, 685, 686, 687, 688, 689, 690, 691, 692, 693, 694, 695, 696, 700, 701, 703, 705, 706, 707, 708, 709, 710, 712, 713, 714, 715, 716, 717, 718, 719, 720, 721, 722, 723, 724, 725, 726, 727, 729, 730, 731, 734, 735, 739, 740, 741, 742, 743, 744, 745, 746, 747, 748, 749, 750, 751, 752, 753, 754, 760, 761, 763, 764, 765, 766, 767, 768, 769, 770, 771, 772, 773, 774, 775, 776, 777, 778, 779, 780, 781, 782, 783, 784, 785, 786, 789, 790, 791, 792, 793, 794, 795, 796, 797, 798, 802, 803, 804, 805, 806, 807, 808, 809, 810, 811, 812, 813, 814, 815, 816, 817, 818, 819, 820, 821, 822, 823, 824, 827, 828, 829, 830, 831, 832, 833, 834, 835, 836, 837, 838, 839, 840, 841, 842, 843, 844, 845, 846, 851, 852, 853, 854, 855, 856, 857, 858, 859, 860, 861, 862, 863, 864, 869, 870, 871, 872, 873, 874, 875, 876, 877, 878, 879, 880, 881, 882, 883, 884, 885, 886, 887, 888, 889, 890, 892, 893, 894, 898, 899, 900, 901, 902, 903, 904, 905, 906, 907, 908, 910, 911, 912, 913, 914, 915, 916, 917, 918, 919, 920, 921, 922, 923, 924, 925, 926, 927, 928, 929, 930, 931, 932, 933, 934, 935, 936, 937, 938, 939, 940, 941, 943, 946, 947, 953, 954, 955, 956, 957, 958, 959, 960, 961, 962, 963, 964, 965, 966, 967, 968, 969, 970, 971, 972, 973, 974, 975, 979, 980, 981, 982, 983, 984, 985, 986, 987, 988, 989, 990, 991, 992, 993, 994, 995, 996, 997, 999, 1002, 1003, 1004, 1005, 1007, 1008, 1009, 1010, 1012, 1013, 1014, 1015, 1016, 1017, 1018, 1019, 1020, 1021, 1022, 1023, 1024, 1025, 1026, 1027, 1028, 1029, 1030, 1031, 1032, 1033, 1034, 1035, 1036, 1037, 1038, 1039, 1040, 1041, 1042, 1043, 1044, 1045, 1046, 1047, 1048, 1054, 1056, 1063, 1064, 1065, 1066, 1067, 1068, 1069, 1070, 1071, 1072, 1073, 1074, 1076, 1077, 1078, 1079, 1080, 1087, 1088, 1089, 1090, 1091, 1092, 1093, 1094, 1095, 1096, 1097, 1098, 1099, 1100, 1101, 1102, 1103, 1104, 1106, 1108, 1109, 1115, 1116, 1117, 1118, 1119, 1120, 1121, 1122, 1123, 1124, 1125, 1126, 1127, 1128, 1129, 1132, 1133, 1134, 1135, 1136, 1137, 1138, 1139, 1140, 1141, 1142, 1143, 1144, 1148, 1149, 1150, 1151, 1152, 1153, 1154, 1155, 1156, 1157, 1158, 1162, 1163, 1164, 1166, 1167, 1168, 1169, 1170, 1171, 1172, 1173, 1174, 1175, 1176, 1178, 1179, 1180, 1181, 1182, 1183, 1184, 1185, 1186, 1187, 1188, 1189, 1190, 1191, 1192, 1193, 1195, 1196, 1197, 1198, 1199, 1200, 1201, 1202, 1203, 1204, 1205, 1206, 1207, 1208, 1209, 1210, 1211, 1214, 1215, 1216, 1220, 1221, 1224, 1228, 1229, 1230, 1233, 1234, 1235, 1236, 1237, 1238, 1240, 1241, 1242, 1243, 1246, 1247, 1248, 1249, 1250, 1251, 1252, 1253, 1254, 1255, 1256, 1257, 1258, 1259, 1260, 1261, 1262, 1263, 1265, 1266, 1267, 1269, 1270, 1271, 1272, 1273, 1274, 1275, 1276, 1277, 1278, 1279, 1280, 1281]\n",
            "---Left Side Shape---\n",
            "(10, 528)\n",
            "(1, 528)\n",
            "---right Side Shape---\n",
            "(10, 526)\n",
            "(1, 526)\n",
            "---Linear Regresion Features---\n",
            "coefficient of determination: 0.8870656881561457\n",
            "intercept: -2.2017675842815763\n",
            "slope: 0.8872517124880088\n"
          ]
        }
      ]
    },
    {
      "cell_type": "markdown",
      "source": [
        "# Test_2"
      ],
      "metadata": {
        "id": "-3BasbrZ_JzW"
      }
    },
    {
      "cell_type": "code",
      "source": [
        "data_path=path+\"/Spectrum\"\n",
        "qpsk_path=\"/QPSK/A.10hops100km/\"\n",
        "\n",
        "#file_name=\"/dataSet_Spectrum_Samples_QPSK_37GHz_LongHaul_output_10x100.xlsx\"\n",
        "file_name=\"/QPSK_dummy.xlsx\"\n",
        "\n",
        "#Load sample data\n",
        "df_qpsk = pd.read_excel(data_path+qpsk_path+file_name, sheet_name = \"Sheet1\", skiprows=1)\n",
        "# Load model data\n",
        "QPSK_dummy_df, QPSK_dummy_dict = get_dummy_spectrum(df_qpsk)"
      ],
      "metadata": {
        "id": "JlN5k1iL_FyK"
      },
      "execution_count": 34,
      "outputs": []
    },
    {
      "cell_type": "code",
      "source": [
        "def obtain_sample_data(df_sample):\n",
        "  df_store_sample = {}\n",
        "  stored_selcted_columns = {}\n",
        "\n",
        "  for node in df_sample['#node'].unique():\n",
        "\n",
        "    print('--- Calculating Node {} ---'.format(node))\n",
        "    sample_tails_array = []\n",
        "    selct_columns = []\n",
        "    # Get sample data\n",
        "    node_df_left, node_df_right, selected_columns, left_columns, right_columns = focus_selector_complete(df_sample, node_to_be_eval=node, min_desired_reduction_of_noise=0.15, aggregation = False, min_prime = False)\n",
        "\n",
        "    sample_tails_array.append(node_df_left.to_dict())\n",
        "    sample_tails_array.append(node_df_right.to_dict())\n",
        "    \n",
        "    selct_columns.append(left_columns)\n",
        "    selct_columns.append(right_columns)\n",
        "\n",
        "    df_store_sample['Node_'+str(node)] = sample_tails_array\n",
        "    stored_selcted_columns['Node_'+str(node)] = selct_columns\n",
        "\n",
        "    print('\\n')\n",
        "  return df_store_sample, stored_selcted_columns\n",
        "  # {'Node_1':[dict_left, dect_right]}\n",
        "  #df = pd.DataFrame.from_dict(df_store_sample['Node_1'])"
      ],
      "metadata": {
        "id": "ht6GjqfRoPZd"
      },
      "execution_count": 37,
      "outputs": []
    },
    {
      "cell_type": "code",
      "source": [
        "df_store_sample, stored_selcted_columns = obtain_sample_data(df_qpsk)"
      ],
      "metadata": {
        "colab": {
          "base_uri": "https://localhost:8080/"
        },
        "id": "64y_1YaDC-7B",
        "outputId": "f6e1b011-b597-4a27-d5d5-ab93edf188ae"
      },
      "execution_count": 38,
      "outputs": [
        {
          "output_type": "stream",
          "name": "stdout",
          "text": [
            "--- Calculating Node 1 ---\n",
            "Reduced 1281 columns to 1045 columns.\n",
            "18.0% reduced noise using a threshold of 1300%.\n",
            "Columns selected [1, 2, 3, 4, 5, 6, 7, 8, 9, 10, 11, 12, 13, 14, 15, 16, 17, 18, 19, 20, 21, 22, 23, 24, 25, 26, 27, 28, 29, 30, 31, 32, 33, 34, 35, 36, 37, 38, 39, 40, 41, 45, 46, 48, 49, 54, 55, 56, 57, 58, 59, 60, 61, 62, 63, 64, 65, 66, 67, 68, 69, 74, 75, 76, 77, 78, 79, 80, 81, 82, 83, 84, 85, 86, 87, 88, 89, 90, 91, 92, 93, 94, 95, 98, 99, 100, 101, 102, 103, 104, 105, 107, 108, 109, 110, 111, 112, 113, 114, 115, 116, 117, 118, 119, 120, 124, 125, 126, 127, 128, 130, 131, 132, 133, 138, 139, 140, 141, 144, 145, 146, 147, 148, 149, 150, 151, 152, 153, 154, 155, 156, 157, 158, 159, 160, 161, 162, 163, 164, 165, 168, 169, 170, 171, 172, 173, 174, 175, 176, 177, 178, 179, 180, 181, 182, 183, 184, 185, 186, 187, 188, 189, 190, 191, 192, 193, 194, 195, 199, 202, 206, 207, 209, 210, 211, 212, 213, 214, 215, 216, 217, 218, 219, 220, 221, 222, 223, 224, 225, 226, 227, 228, 229, 230, 231, 232, 233, 239, 240, 241, 243, 246, 247, 250, 251, 252, 253, 254, 255, 256, 257, 258, 259, 260, 261, 264, 265, 266, 267, 268, 269, 270, 271, 272, 273, 279, 280, 282, 283, 286, 287, 288, 289, 290, 291, 292, 293, 294, 295, 297, 298, 299, 300, 301, 302, 303, 304, 307, 308, 309, 310, 311, 312, 313, 314, 315, 316, 317, 318, 319, 320, 323, 324, 325, 326, 327, 328, 329, 330, 331, 332, 333, 334, 335, 336, 337, 338, 339, 340, 341, 342, 343, 344, 345, 346, 347, 349, 350, 351, 352, 353, 354, 359, 360, 361, 362, 363, 364, 365, 366, 367, 368, 369, 370, 371, 372, 373, 374, 375, 376, 377, 378, 379, 380, 381, 382, 383, 384, 385, 386, 387, 388, 389, 390, 391, 392, 393, 394, 397, 401, 402, 403, 404, 405, 406, 407, 408, 409, 410, 412, 413, 414, 415, 416, 417, 418, 420, 421, 422, 423, 424, 425, 426, 427, 428, 429, 430, 431, 432, 433, 435, 436, 437, 438, 439, 440, 441, 442, 443, 444, 445, 447, 448, 449, 450, 451, 452, 453, 454, 455, 456, 457, 459, 460, 461, 462, 463, 464, 465, 466, 470, 471, 477, 478, 479, 482, 488, 489, 490, 492, 496, 497, 498, 499, 500, 501, 502, 503, 504, 505, 506, 507, 508, 509, 510, 511, 512, 513, 514, 515, 516, 517, 518, 519, 520, 521, 522, 523, 524, 525, 526, 527, 528, 529, 530, 531, 532, 533, 534, 535, 536, 537, 538, 539, 540, 544, 545, 546, 547, 551, 552, 555, 556, 557, 558, 559, 560, 561, 562, 565, 566, 567, 568, 569, 570, 575, 576, 577, 578, 579, 580, 581, 582, 583, 584, 585, 586, 587, 588, 589, 590, 591, 592, 593, 594, 595, 597, 598, 599, 601, 602, 603, 605, 606, 607, 608, 609, 610, 611, 612, 613, 614, 615, 616, 617, 618, 619, 620, 621, 622, 623, 624, 625, 626, 627, 628, 631, 632, 633, 634, 635, 637, 638, 641, 642, 643, 644, 645, 646, 655, 656, 657, 660, 662, 663, 664, 665, 666, 667, 668, 669, 670, 671, 672, 673, 674, 675, 676, 677, 678, 679, 680, 681, 682, 683, 684, 685, 686, 687, 688, 689, 690, 691, 692, 693, 694, 695, 696, 700, 701, 703, 705, 706, 707, 708, 709, 710, 712, 713, 714, 715, 716, 717, 718, 719, 720, 721, 722, 723, 724, 725, 726, 727, 729, 730, 731, 734, 735, 739, 740, 741, 742, 743, 744, 745, 746, 747, 748, 749, 750, 751, 752, 753, 754, 760, 761, 763, 764, 765, 766, 767, 768, 769, 770, 771, 772, 773, 774, 775, 776, 777, 778, 779, 780, 781, 782, 783, 784, 785, 786, 789, 790, 791, 792, 793, 794, 795, 796, 797, 798, 802, 803, 804, 805, 806, 807, 808, 809, 810, 811, 812, 813, 814, 815, 816, 817, 818, 819, 820, 821, 822, 823, 824, 827, 828, 829, 830, 831, 832, 833, 834, 835, 836, 837, 838, 839, 840, 841, 842, 843, 844, 845, 846, 851, 852, 853, 854, 855, 856, 857, 858, 859, 860, 861, 862, 863, 864, 869, 870, 871, 872, 873, 874, 875, 876, 877, 878, 879, 880, 881, 882, 883, 884, 885, 886, 887, 888, 889, 890, 892, 893, 894, 898, 899, 900, 901, 902, 903, 904, 905, 906, 907, 908, 910, 911, 912, 913, 914, 915, 916, 917, 918, 919, 920, 921, 922, 923, 924, 925, 926, 927, 928, 929, 930, 931, 932, 933, 934, 935, 936, 937, 938, 939, 940, 941, 943, 946, 947, 953, 954, 955, 956, 957, 958, 959, 960, 961, 962, 963, 964, 965, 966, 967, 968, 969, 970, 971, 972, 973, 974, 975, 979, 980, 981, 982, 983, 984, 985, 986, 987, 988, 989, 990, 991, 992, 993, 994, 995, 996, 997, 999, 1002, 1003, 1004, 1005, 1007, 1008, 1009, 1010, 1012, 1013, 1014, 1015, 1016, 1017, 1018, 1019, 1020, 1021, 1022, 1023, 1024, 1025, 1026, 1027, 1028, 1029, 1030, 1031, 1032, 1033, 1034, 1035, 1036, 1037, 1038, 1039, 1040, 1041, 1042, 1043, 1044, 1045, 1046, 1047, 1048, 1054, 1056, 1063, 1064, 1065, 1066, 1067, 1068, 1069, 1070, 1071, 1072, 1073, 1074, 1076, 1077, 1078, 1079, 1080, 1087, 1088, 1089, 1090, 1091, 1092, 1093, 1094, 1095, 1096, 1097, 1098, 1099, 1100, 1101, 1102, 1103, 1104, 1106, 1108, 1109, 1115, 1116, 1117, 1118, 1119, 1120, 1121, 1122, 1123, 1124, 1125, 1126, 1127, 1128, 1129, 1132, 1133, 1134, 1135, 1136, 1137, 1138, 1139, 1140, 1141, 1142, 1143, 1144, 1148, 1149, 1150, 1151, 1152, 1153, 1154, 1155, 1156, 1157, 1158, 1162, 1163, 1164, 1166, 1167, 1168, 1169, 1170, 1171, 1172, 1173, 1174, 1175, 1176, 1178, 1179, 1180, 1181, 1182, 1183, 1184, 1185, 1186, 1187, 1188, 1189, 1190, 1191, 1192, 1193, 1195, 1196, 1197, 1198, 1199, 1200, 1201, 1202, 1203, 1204, 1205, 1206, 1207, 1208, 1209, 1210, 1211, 1214, 1215, 1216, 1220, 1221, 1224, 1228, 1229, 1230, 1233, 1234, 1235, 1236, 1237, 1238, 1240, 1241, 1242, 1243, 1246, 1247, 1248, 1249, 1250, 1251, 1252, 1253, 1254, 1255, 1256, 1257, 1258, 1259, 1260, 1261, 1262, 1263, 1265, 1266, 1267, 1269, 1270, 1271, 1272, 1273, 1274, 1275, 1276, 1277, 1278, 1279, 1280, 1281]\n",
            "\n",
            "\n",
            "--- Calculating Node 2 ---\n",
            "Reduced 1281 columns to 1046 columns.\n",
            "18.0% reduced noise using a threshold of 1300%.\n",
            "Columns selected [0, 1, 2, 3, 4, 5, 6, 7, 8, 9, 10, 11, 13, 14, 15, 18, 19, 20, 21, 22, 23, 24, 25, 26, 27, 28, 29, 30, 31, 32, 33, 34, 35, 36, 37, 38, 39, 40, 41, 42, 43, 44, 45, 46, 47, 48, 49, 50, 51, 52, 53, 54, 55, 56, 57, 58, 59, 60, 61, 64, 67, 68, 69, 70, 71, 72, 73, 74, 75, 76, 77, 78, 79, 80, 82, 83, 84, 85, 86, 87, 88, 89, 90, 91, 92, 93, 94, 95, 97, 99, 100, 101, 102, 103, 104, 105, 108, 109, 110, 111, 112, 113, 114, 115, 116, 117, 118, 119, 120, 124, 125, 126, 127, 128, 129, 130, 131, 132, 133, 138, 139, 140, 141, 142, 143, 144, 145, 146, 147, 148, 149, 150, 151, 152, 153, 154, 155, 156, 157, 158, 159, 160, 161, 162, 163, 164, 165, 168, 169, 170, 171, 172, 173, 174, 175, 176, 177, 178, 179, 180, 181, 182, 183, 184, 185, 186, 187, 188, 189, 190, 191, 192, 193, 194, 195, 199, 202, 206, 207, 209, 213, 214, 215, 216, 217, 218, 219, 220, 221, 222, 223, 224, 225, 226, 227, 228, 229, 230, 231, 232, 233, 239, 240, 241, 243, 246, 247, 250, 251, 252, 253, 254, 255, 256, 257, 258, 259, 260, 261, 262, 263, 264, 265, 266, 267, 268, 269, 270, 271, 272, 273, 279, 280, 282, 283, 284, 285, 286, 287, 288, 289, 290, 291, 292, 293, 294, 295, 297, 298, 299, 300, 301, 302, 303, 304, 307, 308, 309, 310, 311, 312, 313, 314, 315, 316, 317, 318, 319, 320, 323, 324, 325, 326, 327, 328, 329, 330, 331, 332, 333, 334, 335, 336, 337, 338, 339, 340, 341, 342, 343, 344, 345, 347, 350, 351, 352, 353, 354, 359, 360, 361, 362, 363, 364, 365, 366, 367, 368, 369, 370, 371, 372, 373, 374, 375, 376, 377, 378, 379, 380, 381, 382, 383, 384, 385, 386, 387, 388, 389, 390, 391, 392, 393, 394, 397, 402, 403, 404, 405, 406, 407, 408, 409, 410, 413, 414, 415, 416, 417, 418, 420, 421, 422, 423, 424, 425, 426, 427, 428, 429, 430, 431, 432, 433, 435, 438, 439, 440, 441, 442, 443, 444, 445, 446, 447, 448, 449, 450, 451, 452, 453, 454, 455, 456, 457, 459, 460, 461, 462, 463, 464, 465, 466, 470, 471, 472, 473, 474, 475, 476, 477, 478, 479, 482, 488, 489, 490, 492, 496, 497, 498, 499, 500, 501, 502, 503, 504, 505, 506, 507, 508, 509, 510, 511, 512, 513, 514, 515, 516, 517, 518, 519, 520, 521, 522, 523, 524, 525, 526, 527, 528, 529, 530, 531, 532, 533, 534, 535, 536, 537, 538, 539, 540, 544, 545, 546, 547, 551, 552, 555, 556, 557, 558, 559, 560, 561, 562, 563, 564, 565, 566, 567, 568, 569, 570, 575, 576, 577, 578, 579, 580, 581, 582, 583, 584, 585, 586, 587, 588, 589, 590, 591, 592, 593, 594, 595, 597, 598, 599, 601, 602, 603, 605, 606, 607, 608, 609, 610, 611, 612, 613, 614, 615, 616, 617, 618, 619, 620, 621, 622, 623, 626, 627, 628, 632, 633, 634, 635, 637, 638, 641, 642, 643, 644, 645, 646, 655, 656, 657, 660, 662, 663, 664, 665, 666, 667, 668, 669, 670, 671, 672, 673, 674, 675, 676, 677, 678, 679, 680, 681, 682, 683, 684, 685, 686, 688, 689, 690, 691, 692, 693, 694, 695, 696, 700, 701, 703, 705, 706, 707, 708, 709, 710, 711, 712, 713, 714, 715, 716, 717, 718, 719, 720, 721, 722, 723, 724, 725, 726, 727, 729, 730, 731, 732, 734, 735, 738, 739, 740, 741, 742, 743, 744, 745, 746, 747, 748, 749, 750, 751, 752, 753, 754, 755, 758, 759, 760, 761, 762, 763, 764, 765, 766, 767, 768, 769, 770, 771, 772, 773, 774, 775, 776, 777, 778, 779, 780, 781, 782, 783, 784, 785, 786, 787, 789, 790, 791, 792, 793, 794, 795, 796, 797, 798, 802, 803, 804, 805, 806, 807, 808, 809, 810, 811, 812, 813, 814, 820, 821, 822, 823, 824, 827, 828, 829, 830, 831, 832, 833, 834, 835, 836, 837, 838, 839, 840, 841, 842, 843, 844, 845, 846, 851, 852, 853, 854, 855, 856, 857, 858, 859, 860, 861, 862, 863, 864, 869, 870, 871, 872, 873, 874, 875, 876, 877, 878, 879, 880, 881, 882, 883, 884, 885, 886, 887, 888, 889, 890, 892, 893, 894, 898, 899, 900, 901, 902, 903, 904, 905, 906, 907, 908, 910, 911, 912, 913, 914, 915, 916, 917, 918, 919, 920, 921, 922, 923, 924, 925, 928, 929, 930, 932, 933, 934, 935, 936, 937, 938, 939, 940, 941, 942, 943, 946, 947, 953, 954, 955, 956, 957, 958, 959, 960, 961, 962, 963, 964, 965, 966, 967, 968, 969, 970, 971, 973, 974, 975, 976, 977, 978, 979, 980, 981, 982, 983, 984, 985, 986, 987, 988, 989, 990, 991, 992, 993, 994, 995, 996, 997, 998, 999, 1000, 1001, 1002, 1003, 1004, 1005, 1007, 1008, 1009, 1012, 1013, 1014, 1015, 1016, 1017, 1018, 1019, 1020, 1021, 1022, 1023, 1024, 1025, 1026, 1027, 1028, 1029, 1030, 1031, 1032, 1033, 1034, 1035, 1036, 1037, 1038, 1039, 1040, 1041, 1042, 1043, 1044, 1045, 1046, 1047, 1048, 1054, 1056, 1063, 1064, 1065, 1066, 1067, 1068, 1069, 1070, 1071, 1072, 1073, 1074, 1076, 1077, 1078, 1080, 1086, 1087, 1088, 1089, 1090, 1091, 1092, 1093, 1094, 1095, 1096, 1097, 1098, 1099, 1100, 1101, 1102, 1103, 1104, 1105, 1106, 1108, 1109, 1115, 1116, 1117, 1118, 1119, 1120, 1121, 1122, 1123, 1124, 1125, 1126, 1127, 1128, 1129, 1132, 1133, 1134, 1135, 1136, 1137, 1138, 1139, 1140, 1141, 1142, 1143, 1144, 1148, 1149, 1150, 1151, 1152, 1153, 1154, 1155, 1156, 1157, 1158, 1161, 1162, 1163, 1164, 1166, 1167, 1168, 1170, 1171, 1172, 1173, 1174, 1175, 1176, 1177, 1185, 1186, 1187, 1188, 1189, 1190, 1191, 1192, 1195, 1196, 1197, 1198, 1199, 1200, 1202, 1203, 1207, 1210, 1211, 1212, 1213, 1214, 1215, 1216, 1217, 1218, 1219, 1220, 1221, 1222, 1223, 1226, 1227, 1228, 1229, 1230, 1231, 1232, 1233, 1234, 1238, 1239, 1240, 1241, 1242, 1243, 1244, 1245, 1246, 1247, 1248, 1249, 1250, 1251, 1252, 1253, 1259, 1260, 1261, 1262, 1263, 1264, 1265, 1266, 1267, 1268, 1269, 1270, 1271, 1272, 1273, 1278, 1279, 1280]\n",
            "\n",
            "\n",
            "--- Calculating Node 3 ---\n",
            "Reduced 1281 columns to 1025 columns.\n",
            "20.0% reduced noise using a threshold of 1400%.\n",
            "Columns selected [0, 1, 2, 3, 4, 5, 6, 7, 8, 9, 10, 11, 12, 13, 14, 15, 16, 17, 18, 19, 20, 21, 22, 23, 24, 25, 26, 27, 28, 29, 30, 31, 32, 33, 34, 35, 36, 37, 38, 39, 40, 41, 43, 44, 45, 46, 47, 48, 49, 50, 51, 52, 53, 54, 55, 56, 57, 58, 59, 60, 61, 62, 63, 64, 65, 66, 67, 68, 69, 70, 71, 72, 73, 74, 75, 76, 77, 78, 79, 80, 81, 82, 83, 84, 85, 86, 87, 88, 89, 90, 91, 92, 93, 94, 95, 96, 97, 98, 99, 100, 101, 102, 103, 104, 105, 107, 108, 109, 110, 111, 112, 113, 114, 115, 116, 117, 118, 119, 120, 124, 125, 126, 127, 128, 129, 130, 131, 132, 133, 138, 139, 140, 141, 144, 145, 146, 147, 148, 149, 150, 151, 152, 153, 154, 155, 156, 157, 158, 159, 160, 161, 162, 163, 164, 165, 168, 169, 174, 175, 176, 177, 178, 179, 180, 181, 182, 183, 186, 187, 188, 189, 190, 191, 192, 193, 194, 195, 196, 198, 199, 202, 209, 210, 213, 214, 215, 217, 218, 219, 220, 221, 222, 223, 224, 225, 226, 227, 228, 229, 230, 231, 232, 233, 238, 239, 240, 241, 243, 246, 247, 250, 251, 252, 253, 254, 255, 256, 257, 258, 259, 260, 261, 264, 265, 266, 267, 268, 270, 271, 272, 273, 279, 280, 282, 283, 286, 287, 288, 289, 290, 291, 292, 293, 294, 297, 298, 299, 300, 301, 302, 303, 304, 307, 308, 309, 310, 311, 312, 313, 314, 315, 316, 317, 318, 319, 320, 323, 324, 325, 326, 327, 328, 329, 330, 331, 332, 333, 334, 335, 336, 337, 338, 339, 340, 341, 342, 343, 345, 350, 351, 352, 353, 354, 358, 359, 360, 361, 362, 363, 366, 367, 368, 369, 370, 371, 372, 373, 375, 376, 377, 378, 379, 380, 381, 382, 383, 384, 385, 386, 387, 388, 389, 390, 391, 392, 393, 394, 397, 401, 402, 403, 404, 405, 406, 407, 408, 409, 410, 416, 417, 418, 420, 421, 422, 423, 424, 425, 426, 427, 428, 429, 430, 431, 432, 433, 438, 439, 440, 441, 442, 443, 444, 445, 446, 451, 452, 453, 454, 455, 456, 457, 458, 459, 460, 461, 462, 463, 464, 465, 466, 470, 471, 473, 474, 475, 476, 477, 478, 479, 481, 482, 488, 489, 492, 496, 499, 500, 501, 502, 503, 504, 505, 506, 507, 508, 509, 510, 511, 512, 513, 514, 515, 516, 517, 518, 519, 520, 521, 522, 523, 524, 525, 526, 527, 528, 529, 530, 531, 532, 533, 534, 535, 536, 537, 538, 539, 540, 544, 545, 546, 551, 552, 554, 555, 556, 557, 558, 559, 560, 561, 562, 563, 564, 565, 566, 567, 568, 569, 570, 575, 576, 577, 578, 579, 580, 581, 582, 583, 584, 585, 586, 587, 588, 589, 590, 591, 592, 593, 594, 595, 597, 598, 599, 601, 605, 606, 607, 608, 609, 610, 611, 612, 613, 614, 615, 616, 617, 618, 619, 620, 621, 622, 626, 627, 628, 631, 632, 633, 634, 635, 637, 638, 641, 642, 643, 644, 645, 646, 655, 656, 657, 660, 662, 663, 664, 665, 666, 667, 668, 669, 670, 671, 672, 673, 674, 675, 676, 677, 678, 679, 680, 681, 682, 683, 684, 685, 686, 688, 693, 694, 695, 696, 700, 701, 702, 703, 707, 708, 709, 710, 712, 713, 714, 715, 716, 717, 718, 719, 720, 721, 722, 723, 724, 725, 726, 727, 729, 730, 731, 734, 735, 736, 738, 739, 740, 741, 742, 743, 744, 745, 746, 747, 748, 749, 750, 751, 752, 753, 754, 759, 760, 761, 762, 763, 764, 765, 766, 767, 768, 769, 770, 771, 772, 773, 774, 775, 776, 777, 778, 779, 780, 781, 782, 783, 784, 785, 786, 787, 788, 789, 790, 791, 792, 793, 794, 795, 796, 797, 798, 803, 804, 805, 806, 807, 808, 809, 810, 811, 812, 813, 814, 820, 821, 822, 823, 827, 828, 829, 830, 831, 832, 833, 834, 835, 836, 837, 838, 839, 840, 841, 842, 843, 844, 845, 846, 851, 852, 853, 854, 855, 856, 857, 858, 859, 860, 861, 869, 870, 871, 872, 873, 874, 875, 876, 877, 878, 879, 880, 881, 882, 883, 884, 885, 886, 887, 889, 890, 892, 893, 894, 897, 898, 900, 901, 902, 903, 904, 905, 906, 907, 908, 909, 910, 911, 912, 913, 914, 915, 916, 917, 918, 919, 920, 921, 922, 923, 924, 925, 926, 928, 929, 930, 931, 932, 933, 934, 935, 936, 937, 938, 939, 940, 941, 943, 946, 947, 953, 954, 955, 956, 957, 958, 959, 960, 961, 962, 963, 964, 965, 966, 967, 968, 969, 970, 971, 973, 974, 975, 979, 980, 981, 982, 983, 984, 988, 989, 990, 991, 992, 993, 994, 995, 996, 997, 999, 1002, 1003, 1004, 1005, 1007, 1009, 1012, 1013, 1015, 1016, 1017, 1021, 1022, 1023, 1024, 1025, 1026, 1027, 1028, 1029, 1030, 1031, 1032, 1033, 1034, 1035, 1036, 1037, 1038, 1039, 1040, 1041, 1042, 1043, 1046, 1047, 1048, 1054, 1056, 1057, 1063, 1064, 1065, 1066, 1068, 1069, 1070, 1071, 1072, 1073, 1074, 1076, 1077, 1078, 1079, 1080, 1086, 1087, 1088, 1090, 1091, 1093, 1094, 1095, 1096, 1097, 1098, 1099, 1100, 1101, 1102, 1103, 1104, 1105, 1106, 1107, 1108, 1109, 1110, 1115, 1116, 1117, 1118, 1119, 1120, 1121, 1122, 1123, 1124, 1125, 1126, 1127, 1128, 1129, 1132, 1133, 1134, 1135, 1136, 1137, 1138, 1139, 1140, 1141, 1142, 1143, 1144, 1147, 1148, 1149, 1150, 1151, 1152, 1153, 1154, 1155, 1156, 1157, 1158, 1161, 1162, 1163, 1164, 1166, 1167, 1168, 1169, 1170, 1171, 1173, 1174, 1175, 1176, 1177, 1178, 1179, 1180, 1181, 1182, 1183, 1184, 1185, 1186, 1187, 1188, 1189, 1190, 1191, 1192, 1193, 1194, 1195, 1196, 1197, 1198, 1199, 1200, 1201, 1202, 1203, 1204, 1205, 1206, 1207, 1208, 1212, 1213, 1215, 1216, 1217, 1218, 1219, 1220, 1221, 1222, 1223, 1225, 1226, 1227, 1228, 1229, 1230, 1231, 1232, 1233, 1234, 1235, 1236, 1237, 1238, 1239, 1240, 1241, 1242, 1243, 1244, 1245, 1246, 1247, 1248, 1249, 1250, 1251, 1252, 1253, 1254, 1255, 1256, 1257, 1258, 1259, 1260, 1261, 1262, 1263, 1264, 1265, 1266, 1267, 1268, 1269, 1270, 1271, 1272, 1273, 1274, 1278, 1279, 1280, 1281]\n",
            "\n",
            "\n"
          ]
        }
      ]
    },
    {
      "cell_type": "code",
      "source": [
        "def obtain_model_data(df_model, selected_columns_for_samples, sample_note_to_eval):\n",
        "  df_store_model = {}\n",
        "\n",
        "  for node in df_model.index:\n",
        "    model_tails_array = []\n",
        "\n",
        "    left_columns_m = selected_columns_for_samples['Node_'+str(sample_note_to_eval)][0]\n",
        "    rigth_columns_m = selected_columns_for_samples['Node_'+str(sample_note_to_eval)][1]\n",
        "\n",
        "    # Get model data\n",
        "    model_node_row_left, model_node_row_right = model_focus_selector(df_model, left_columns_m, rigth_columns_m, node_to_be_eval=node)\n",
        "\n",
        "    model_tails_array.append(model_node_row_left.to_dict())\n",
        "    model_tails_array.append(model_node_row_right.to_dict())\n",
        "\n",
        "    df_store_model['Node_'+str(node)] = model_tails_array\n",
        "\n",
        "  return df_store_model\n",
        "  # {'Node_1':[dict_left, dect_right]}\n",
        "  #df = pd.DataFrame.from_dict(df_store_sample['Node_1'])"
      ],
      "metadata": {
        "id": "IJMyu1ZAHVcz"
      },
      "execution_count": 39,
      "outputs": []
    },
    {
      "cell_type": "code",
      "source": [
        "df_store_model = obtain_model_data(QPSK_dummy_df, stored_selcted_columns, sample_note_to_eval=1)"
      ],
      "metadata": {
        "id": "I37WZiMsJBVg"
      },
      "execution_count": 40,
      "outputs": []
    },
    {
      "cell_type": "code",
      "source": [
        "print(len(df_store_model['Node_1'][1]))"
      ],
      "metadata": {
        "colab": {
          "base_uri": "https://localhost:8080/"
        },
        "id": "0lpeOpniJ0D1",
        "outputId": "7d5ce45f-8e3b-40a1-973a-64157e1c0a4b"
      },
      "execution_count": 41,
      "outputs": [
        {
          "output_type": "stream",
          "name": "stdout",
          "text": [
            "526\n"
          ]
        }
      ]
    },
    {
      "cell_type": "code",
      "source": [
        "def obtain_regresion_features(sample_df, model_df):\n",
        "\n",
        "  # Get model data\n",
        "  model_df = model_df.iloc[0].to_numpy()\n",
        "  model_df = model_df[5:]\n",
        "  y = np.array(model_df)\n",
        "\n",
        "  features_dict = {}\n",
        "  # Get Sample data\n",
        "  for row in range(sample_df.shape[0]):\n",
        "\n",
        "    features = []\n",
        "\n",
        "    row_data_sample = sample_df.iloc[row].to_numpy()\n",
        "    row_data_sample = row_data_sample[5:]\n",
        "    x = np.array(row_data_sample).reshape((-1, 1))\n",
        "    \n",
        "    # Get linear regresion features\n",
        "    model = LinearRegression()\n",
        "    model.fit(x, y)\n",
        "    model = LinearRegression().fit(x, y)\n",
        "    r_sq = model.score(x, y)\n",
        "\n",
        "    intercept = model.intercept_\n",
        "    slope = model.coef_\n",
        "    \n",
        "    features.append(r_sq)\n",
        "    features.append(intercept)\n",
        "    features.append(slope[0])\n",
        "\n",
        "    features_dict['Sample_'+str(row+1)] = features\n",
        "  # Return dictionary with sample as key and a array with (r_sq, intercept, slope) as values\n",
        "  return features_dict\n",
        "\n",
        "def linear_regresion_v2(node_df_left, node_df_right, model_node_row_left, model_node_row_right):\n",
        "\n",
        "  # Checking left side\n",
        "  left_features_dict = obtain_regresion_features(node_df_left, model_node_row_left)\n",
        "\n",
        "  # Checking right side\n",
        "  right_features_dict = obtain_regresion_features(node_df_right, model_node_row_right)\n",
        "  \n",
        "  r_sqr_agg = []\n",
        "\n",
        "  for k, val_array in left_features_dict.items():\n",
        "    # Combining r_sqr\n",
        "    combined_r_sq = (val_array[0] + right_features_dict[k][0])/2 \n",
        "    r_sqr_agg.append(combined_r_sq)\n",
        "\n",
        "  # Get overall average of each feature\n",
        "  r_sqr_val = np.average(r_sqr_agg)\n",
        "\n",
        "  # Return dictionary with sample as key and a array with (r_sq, intercept, slope) as values with combined left and right curves\n",
        "  return r_sqr_val"
      ],
      "metadata": {
        "id": "GCjj1VV3RLVt"
      },
      "execution_count": 44,
      "outputs": []
    },
    {
      "cell_type": "code",
      "source": [
        "y_pred = []\n",
        "r_sqr_sample = []\n",
        "\n",
        "for node_sample in df_store_sample.keys():\n",
        "  \n",
        "  curr_sample_node = node_sample[-1]\n",
        "  print('--- Evaluating Sample Data from Node {} ---'. format(curr_sample_node))\n",
        "\n",
        "  # Extract sample data\n",
        "  left_sample = pd.DataFrame.from_dict(df_store_sample[node_sample][0])\n",
        "  rigth_sample = pd.DataFrame.from_dict(df_store_sample[node_sample][1])\n",
        "\n",
        "  # Working sample data\n",
        "  for i in range(len(left_sample)):\n",
        "    \n",
        "    # Get left tail values\n",
        "    left_sample_df = left_sample.iloc[[i]]\n",
        "\n",
        "    # Get rigth tail values\n",
        "    rigth_sample_df = rigth_sample.iloc[[i]]\n",
        "\n",
        "    r_sqr_array_test = []\n",
        "    for node_model in df_store_model.keys():\n",
        "\n",
        "      curr_node = node_model[-1]\n",
        "      df_store_model = obtain_model_data(QPSK_dummy_df, stored_selcted_columns, sample_note_to_eval = int(curr_sample_node))\n",
        "      \n",
        "      # Extract model data\n",
        "      left_model = pd.DataFrame.from_dict(df_store_model[node_model][0])\n",
        "      rigth_model = pd.DataFrame.from_dict(df_store_model[node_model][1])      \n",
        "      \n",
        "      left_model_df = left_model[left_model['#node'] == int(curr_node)]\n",
        "\n",
        "      rigth_model_df = rigth_model[rigth_model['#node'] == int(curr_node)]\n",
        "\n",
        "      # Get linear regresion features\n",
        "      r_sqr_val = linear_regresion_v2(left_sample_df, rigth_sample_df, left_model_df, rigth_model_df)\n",
        "      r_sqr_array_test.append(r_sqr_val)\n",
        "\n",
        "    # Get the position of the max r_sqr (nodes who belong)\n",
        "\n",
        "    maxval = np.amax(r_sqr_array_test)\n",
        "    indice = np.where(r_sqr_array_test == np.amax(r_sqr_array_test))\n",
        "    pos_max = indice[0][0]+1\n",
        "    y_pred.append(pos_max)"
      ],
      "metadata": {
        "colab": {
          "base_uri": "https://localhost:8080/"
        },
        "id": "nJLxftKeA7fX",
        "outputId": "08283481-5149-426c-a27a-4e2cb2fda567"
      },
      "execution_count": 45,
      "outputs": [
        {
          "output_type": "stream",
          "name": "stdout",
          "text": [
            "--- Evaluating Sample Data from Node 1 ---\n",
            "--- Evaluating Sample Data from Node 2 ---\n",
            "--- Evaluating Sample Data from Node 3 ---\n"
          ]
        }
      ]
    },
    {
      "cell_type": "code",
      "source": [
        "# Predictied Values\n",
        "print(y_pred)\n",
        "print(len(y_pred))"
      ],
      "metadata": {
        "id": "QGLCvfVXz2Df",
        "outputId": "8388033a-fafe-4a63-97cb-6dc72b2200fe",
        "colab": {
          "base_uri": "https://localhost:8080/"
        }
      },
      "execution_count": 46,
      "outputs": [
        {
          "output_type": "stream",
          "name": "stdout",
          "text": [
            "[1, 1, 1, 1, 1, 1, 1, 1, 1, 1, 2, 2, 2, 2, 2, 2, 2, 2, 2, 2, 3, 3, 3, 3, 3, 3, 3, 3, 3, 3]\n",
            "30\n"
          ]
        }
      ]
    },
    {
      "cell_type": "code",
      "source": [
        "#Actual values\n",
        "y_actual = df_qpsk['#node'].to_numpy()\n",
        "print(y_actual)\n",
        "print(len(y_actual))"
      ],
      "metadata": {
        "id": "C8rI5ywcu-13",
        "outputId": "0a7bc466-7ab3-4371-cbf4-1eb1a61481c8",
        "colab": {
          "base_uri": "https://localhost:8080/"
        }
      },
      "execution_count": 47,
      "outputs": [
        {
          "output_type": "stream",
          "name": "stdout",
          "text": [
            "[1 1 1 1 1 1 1 1 1 1 2 2 2 2 2 2 2 2 2 2 3 3 3 3 3 3 3 3 3 3]\n",
            "30\n"
          ]
        }
      ]
    },
    {
      "cell_type": "code",
      "source": [
        "metrics.confusion_matrix(y_actual, y_pred)"
      ],
      "metadata": {
        "id": "pwYkWvgNvXRm",
        "outputId": "45d7640c-fe81-4c2e-a21b-e62658b3d00c",
        "colab": {
          "base_uri": "https://localhost:8080/"
        }
      },
      "execution_count": 48,
      "outputs": [
        {
          "output_type": "execute_result",
          "data": {
            "text/plain": [
              "array([[10,  0,  0],\n",
              "       [ 0, 10,  0],\n",
              "       [ 0,  0, 10]])"
            ]
          },
          "metadata": {},
          "execution_count": 48
        }
      ]
    },
    {
      "cell_type": "code",
      "source": [
        "data = {'y_Actual':    y_actual,\n",
        "        'y_Predicted': y_pred}\n",
        "\n",
        "df = pd.DataFrame(data, columns=['y_Actual','y_Predicted'])\n",
        "confusion_matrix = pd.crosstab(df['y_Actual'], df['y_Predicted'], rownames=['Actual'], colnames=['Predicted'])\n",
        "\n",
        "sn.heatmap(confusion_matrix, annot=True, cbar=False, cmap='Blues')\n",
        "plt.show()"
      ],
      "metadata": {
        "id": "bwaOU3SXwKE_",
        "outputId": "4acfc078-bc14-4085-b282-ec83ff5e40a1",
        "colab": {
          "base_uri": "https://localhost:8080/",
          "height": 279
        }
      },
      "execution_count": 49,
      "outputs": [
        {
          "output_type": "display_data",
          "data": {
            "text/plain": [
              "<Figure size 432x288 with 1 Axes>"
            ],
            "image/png": "[encoded data removed]"
          },
          "metadata": {
            "needs_background": "light"
          }
        }
      ]
    },
    {
      "cell_type": "code",
      "source": [
        "print('Acuracy = {}'.format(metrics.accuracy_score(y_actual, y_pred)))\n",
        "print('F1 Score = {}'.format(f1_score(y_actual, y_pred, average='weighted')))"
      ],
      "metadata": {
        "id": "UHH14pv5vt9Q",
        "outputId": "da86fc2a-c1d2-426e-c236-3ef790f643a1",
        "colab": {
          "base_uri": "https://localhost:8080/"
        }
      },
      "execution_count": 50,
      "outputs": [
        {
          "output_type": "stream",
          "name": "stdout",
          "text": [
            "Acuracy = 1.0\n",
            "F1 Score = 1.0\n"
          ]
        }
      ]
    },
    {
      "cell_type": "code",
      "source": [
        "# Sample node\n",
        "sample_node = 1\n",
        "# Model node\n",
        "model_node = 1\n",
        "\n",
        "# Get sample data\n",
        "node_df_left, node_df_right, selected_columns, left_columns, right_columns = focus_selector_complete(df_qpsk, node_to_be_eval=sample_node, min_desired_reduction_of_noise=0.15, aggregation = False, min_prime = False)\n",
        "\n",
        "# Get model data\n",
        "model_node_row_left, model_node_row_right = model_focus_selector(QPSK_dummy_df, left_columns, right_columns, node_to_be_eval=model_node)\n",
        "\n",
        "print('---Left Side Shape---')\n",
        "print(node_df_left.shape)\n",
        "print(model_node_row_left.shape)\n",
        "\n",
        "print('---right Side Shape---')\n",
        "print(node_df_right.shape)\n",
        "print(model_node_row_right.shape)\n",
        "\n",
        "# Get linear regresion features\n",
        "combined_features_dict, r_sqr_val, intercept_val, slope_val = linear_regresion(node_df_left, node_df_right, model_node_row_left, model_node_row_right)\n",
        "\n",
        "print('---Linear Regresion Features---')\n",
        "print('coefficient of determination:', r_sqr_val)\n",
        "print('intercept:', intercept_val)\n",
        "print('slope:', slope_val)"
      ],
      "metadata": {
        "colab": {
          "base_uri": "https://localhost:8080/"
        },
        "id": "ff5ABgtP_Uoe",
        "outputId": "b160d0f1-5a42-462c-e796-5572e42dc1e0"
      },
      "execution_count": 51,
      "outputs": [
        {
          "output_type": "stream",
          "name": "stdout",
          "text": [
            "Reduced 1281 columns to 1045 columns.\n",
            "18.0% reduced noise using a threshold of 1300%.\n",
            "Columns selected [1, 2, 3, 4, 5, 6, 7, 8, 9, 10, 11, 12, 13, 14, 15, 16, 17, 18, 19, 20, 21, 22, 23, 24, 25, 26, 27, 28, 29, 30, 31, 32, 33, 34, 35, 36, 37, 38, 39, 40, 41, 45, 46, 48, 49, 54, 55, 56, 57, 58, 59, 60, 61, 62, 63, 64, 65, 66, 67, 68, 69, 74, 75, 76, 77, 78, 79, 80, 81, 82, 83, 84, 85, 86, 87, 88, 89, 90, 91, 92, 93, 94, 95, 98, 99, 100, 101, 102, 103, 104, 105, 107, 108, 109, 110, 111, 112, 113, 114, 115, 116, 117, 118, 119, 120, 124, 125, 126, 127, 128, 130, 131, 132, 133, 138, 139, 140, 141, 144, 145, 146, 147, 148, 149, 150, 151, 152, 153, 154, 155, 156, 157, 158, 159, 160, 161, 162, 163, 164, 165, 168, 169, 170, 171, 172, 173, 174, 175, 176, 177, 178, 179, 180, 181, 182, 183, 184, 185, 186, 187, 188, 189, 190, 191, 192, 193, 194, 195, 199, 202, 206, 207, 209, 210, 211, 212, 213, 214, 215, 216, 217, 218, 219, 220, 221, 222, 223, 224, 225, 226, 227, 228, 229, 230, 231, 232, 233, 239, 240, 241, 243, 246, 247, 250, 251, 252, 253, 254, 255, 256, 257, 258, 259, 260, 261, 264, 265, 266, 267, 268, 269, 270, 271, 272, 273, 279, 280, 282, 283, 286, 287, 288, 289, 290, 291, 292, 293, 294, 295, 297, 298, 299, 300, 301, 302, 303, 304, 307, 308, 309, 310, 311, 312, 313, 314, 315, 316, 317, 318, 319, 320, 323, 324, 325, 326, 327, 328, 329, 330, 331, 332, 333, 334, 335, 336, 337, 338, 339, 340, 341, 342, 343, 344, 345, 346, 347, 349, 350, 351, 352, 353, 354, 359, 360, 361, 362, 363, 364, 365, 366, 367, 368, 369, 370, 371, 372, 373, 374, 375, 376, 377, 378, 379, 380, 381, 382, 383, 384, 385, 386, 387, 388, 389, 390, 391, 392, 393, 394, 397, 401, 402, 403, 404, 405, 406, 407, 408, 409, 410, 412, 413, 414, 415, 416, 417, 418, 420, 421, 422, 423, 424, 425, 426, 427, 428, 429, 430, 431, 432, 433, 435, 436, 437, 438, 439, 440, 441, 442, 443, 444, 445, 447, 448, 449, 450, 451, 452, 453, 454, 455, 456, 457, 459, 460, 461, 462, 463, 464, 465, 466, 470, 471, 477, 478, 479, 482, 488, 489, 490, 492, 496, 497, 498, 499, 500, 501, 502, 503, 504, 505, 506, 507, 508, 509, 510, 511, 512, 513, 514, 515, 516, 517, 518, 519, 520, 521, 522, 523, 524, 525, 526, 527, 528, 529, 530, 531, 532, 533, 534, 535, 536, 537, 538, 539, 540, 544, 545, 546, 547, 551, 552, 555, 556, 557, 558, 559, 560, 561, 562, 565, 566, 567, 568, 569, 570, 575, 576, 577, 578, 579, 580, 581, 582, 583, 584, 585, 586, 587, 588, 589, 590, 591, 592, 593, 594, 595, 597, 598, 599, 601, 602, 603, 605, 606, 607, 608, 609, 610, 611, 612, 613, 614, 615, 616, 617, 618, 619, 620, 621, 622, 623, 624, 625, 626, 627, 628, 631, 632, 633, 634, 635, 637, 638, 641, 642, 643, 644, 645, 646, 655, 656, 657, 660, 662, 663, 664, 665, 666, 667, 668, 669, 670, 671, 672, 673, 674, 675, 676, 677, 678, 679, 680, 681, 682, 683, 684, 685, 686, 687, 688, 689, 690, 691, 692, 693, 694, 695, 696, 700, 701, 703, 705, 706, 707, 708, 709, 710, 712, 713, 714, 715, 716, 717, 718, 719, 720, 721, 722, 723, 724, 725, 726, 727, 729, 730, 731, 734, 735, 739, 740, 741, 742, 743, 744, 745, 746, 747, 748, 749, 750, 751, 752, 753, 754, 760, 761, 763, 764, 765, 766, 767, 768, 769, 770, 771, 772, 773, 774, 775, 776, 777, 778, 779, 780, 781, 782, 783, 784, 785, 786, 789, 790, 791, 792, 793, 794, 795, 796, 797, 798, 802, 803, 804, 805, 806, 807, 808, 809, 810, 811, 812, 813, 814, 815, 816, 817, 818, 819, 820, 821, 822, 823, 824, 827, 828, 829, 830, 831, 832, 833, 834, 835, 836, 837, 838, 839, 840, 841, 842, 843, 844, 845, 846, 851, 852, 853, 854, 855, 856, 857, 858, 859, 860, 861, 862, 863, 864, 869, 870, 871, 872, 873, 874, 875, 876, 877, 878, 879, 880, 881, 882, 883, 884, 885, 886, 887, 888, 889, 890, 892, 893, 894, 898, 899, 900, 901, 902, 903, 904, 905, 906, 907, 908, 910, 911, 912, 913, 914, 915, 916, 917, 918, 919, 920, 921, 922, 923, 924, 925, 926, 927, 928, 929, 930, 931, 932, 933, 934, 935, 936, 937, 938, 939, 940, 941, 943, 946, 947, 953, 954, 955, 956, 957, 958, 959, 960, 961, 962, 963, 964, 965, 966, 967, 968, 969, 970, 971, 972, 973, 974, 975, 979, 980, 981, 982, 983, 984, 985, 986, 987, 988, 989, 990, 991, 992, 993, 994, 995, 996, 997, 999, 1002, 1003, 1004, 1005, 1007, 1008, 1009, 1010, 1012, 1013, 1014, 1015, 1016, 1017, 1018, 1019, 1020, 1021, 1022, 1023, 1024, 1025, 1026, 1027, 1028, 1029, 1030, 1031, 1032, 1033, 1034, 1035, 1036, 1037, 1038, 1039, 1040, 1041, 1042, 1043, 1044, 1045, 1046, 1047, 1048, 1054, 1056, 1063, 1064, 1065, 1066, 1067, 1068, 1069, 1070, 1071, 1072, 1073, 1074, 1076, 1077, 1078, 1079, 1080, 1087, 1088, 1089, 1090, 1091, 1092, 1093, 1094, 1095, 1096, 1097, 1098, 1099, 1100, 1101, 1102, 1103, 1104, 1106, 1108, 1109, 1115, 1116, 1117, 1118, 1119, 1120, 1121, 1122, 1123, 1124, 1125, 1126, 1127, 1128, 1129, 1132, 1133, 1134, 1135, 1136, 1137, 1138, 1139, 1140, 1141, 1142, 1143, 1144, 1148, 1149, 1150, 1151, 1152, 1153, 1154, 1155, 1156, 1157, 1158, 1162, 1163, 1164, 1166, 1167, 1168, 1169, 1170, 1171, 1172, 1173, 1174, 1175, 1176, 1178, 1179, 1180, 1181, 1182, 1183, 1184, 1185, 1186, 1187, 1188, 1189, 1190, 1191, 1192, 1193, 1195, 1196, 1197, 1198, 1199, 1200, 1201, 1202, 1203, 1204, 1205, 1206, 1207, 1208, 1209, 1210, 1211, 1214, 1215, 1216, 1220, 1221, 1224, 1228, 1229, 1230, 1233, 1234, 1235, 1236, 1237, 1238, 1240, 1241, 1242, 1243, 1246, 1247, 1248, 1249, 1250, 1251, 1252, 1253, 1254, 1255, 1256, 1257, 1258, 1259, 1260, 1261, 1262, 1263, 1265, 1266, 1267, 1269, 1270, 1271, 1272, 1273, 1274, 1275, 1276, 1277, 1278, 1279, 1280, 1281]\n",
            "---Left Side Shape---\n",
            "(10, 528)\n",
            "(1, 528)\n",
            "---right Side Shape---\n",
            "(10, 526)\n",
            "(1, 526)\n",
            "---Linear Regresion Features---\n",
            "coefficient of determination: 0.8870656881561457\n",
            "intercept: -2.2017675842815763\n",
            "slope: 0.8872517124880088\n"
          ]
        }
      ]
    }
  ]
}
