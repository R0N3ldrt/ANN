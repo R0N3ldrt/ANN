{
  "cells": [
    {
      "cell_type": "code",
      "execution_count": 1,
      "metadata": {
        "id": "Ohp5OczgnZpM"
      },
      "outputs": [],
      "source": [
        "import os, time, math, csv, joblib\n",
        "import pandas as pd\n",
        "import numpy as np\n",
        "import matplotlib.pyplot as plt\n",
        "import seaborn as sns\n",
        "from sklearn.model_selection import train_test_split\n",
        "from sklearn.preprocessing import MinMaxScaler\n",
        "from sklearn.mixture import GaussianMixture\n",
        "\n",
        "import warnings\n",
        "warnings.filterwarnings(\"ignore\")\n",
        "\n",
        "sns.set_theme()\n",
        "pd.options.display.float_format = '{:.2f}'.format"
      ]
    },
    {
      "cell_type": "code",
      "source": [
        "# BLOQUE PARA USAR DESDE COLAB\n",
        "\n",
        "# Google drive loading as work station for local-usage of the files.\n",
        "from google.colab import drive\n",
        "drive.mount('/content/gdrive',force_remount= True)\n",
        "\n",
        "#-----------------------------------------------------------------------------"
      ],
      "metadata": {
        "id": "Bt_ajAnVndnV",
        "outputId": "9656aad6-ff3f-4937-8699-324424f88608",
        "colab": {
          "base_uri": "https://localhost:8080/"
        }
      },
      "execution_count": 2,
      "outputs": [
        {
          "output_type": "stream",
          "name": "stdout",
          "text": [
            "Mounted at /content/gdrive\n"
          ]
        }
      ]
    },
    {
      "cell_type": "code",
      "source": [
        "# Lista para cambiar los paths rapido.\n",
        "workers = [\"Ronald\", \"Local\"]\n",
        "\n",
        "# Change the number to change the paths.\n",
        "worker = workers[0]\n",
        "\n",
        "if worker == \"Ronald\":\n",
        "  #path= \"/content/gdrive/MyDrive/Thesis_Workstation/ANN_dataset\"\n",
        "  data_path= \"/content/gdrive/MyDrive/Symbol_to_Symbol/ANN_dataset/rawData/rawData_mod\"\n",
        "  output_data_path = \"/content/gdrive/MyDrive/Thesis_Workstation/ANN_dataset/trainingData\"\n",
        "  model_path = \"/content/gdrive/MyDrive/Thesis_Workstation/ANN_dataset/trainedModel\"\n",
        "else: path = os.getcwd()"
      ],
      "metadata": {
        "id": "_UwI9af7nkR4"
      },
      "execution_count": 3,
      "outputs": []
    },
    {
      "cell_type": "code",
      "execution_count": 4,
      "metadata": {
        "id": "1NXaQ_GonZpN",
        "outputId": "dd4b1b0e-fd06-49f9-a949-faef0333e9ca",
        "colab": {
          "base_uri": "https://localhost:8080/"
        }
      },
      "outputs": [
        {
          "output_type": "stream",
          "name": "stdout",
          "text": [
            "25\n",
            "[1, 2, 3, 4, 5, 6, 7, 8, 9, 10, 11, 12, 13, 14, 15, 16, 17, 18, 19, 20, 21, 22, 23, 24, 25]\n"
          ]
        }
      ],
      "source": [
        "#data_path=os.getcwd()+\"/ANN_dataset/rawData/rawData_mod\"\n",
        "\n",
        "#output_data_path=os.getcwd()+\"/ANN_dataset/trainingData\"\n",
        "\n",
        "#model_path=os.getcwd()+\"/models\"\n",
        "\n",
        "distances=list(range(1,26))\n",
        "print(len(distances))\n",
        "print(distances)\n",
        "trainingProp=0.80\n",
        "ns=50 # number of samples\n",
        "centers=[[-3,3],[-1,3],[1,3],[3,3],[-3,1],[-1,1],[1,1],[3,1],[-3,-1],[-1,-1],[1,-1],[3,-1],[-3,-3],[-1,-3],[1,-3],[3,-3]]\n",
        "selCP=[1,7,10,15]"
      ]
    },
    {
      "cell_type": "code",
      "execution_count": 5,
      "metadata": {
        "id": "-4i9cve7nZpO"
      },
      "outputs": [],
      "source": [
        "def L2dist(a,b):\n",
        "    return math.sqrt(math.pow(a[0]-b[0],2)+math.pow(a[1]-b[1],2))"
      ]
    },
    {
      "cell_type": "code",
      "execution_count": 6,
      "metadata": {
        "scrolled": false,
        "id": "Ag863-EdnZpO"
      },
      "outputs": [],
      "source": [
        "F=[]\n",
        "for ll in distances:\n",
        "    filename=data_path+\"/consts_\"+str(ll)+\"span_mod.csv\" #open mod file\n",
        "    df = pd.read_csv(filename)\n",
        "    for i in range(1,ns+1):#loop first 50 points\n",
        "        df_aux=df[df[\"Sample_Id\"]==i] #select sample\n",
        "        real=df_aux[\"Real\"] #select real x\n",
        "        imag=df_aux[\"Imag\"] #select imga y\n",
        "        data_aux=list(zip(real,imag)) #convert it to a list [tuple1, tuple2, ...] tuple1 = (real, imag)\n",
        "        gmm = GaussianMixture(n_components=16, random_state=0, init_params='kmeans', means_init=centers).fit(data_aux) #get gaussian calculation\n",
        "        mus=gmm.means_ #get mean\n",
        "        sigmas=gmm.covariances_ #get covariance\n",
        "        features=[ll*80] # get current distance\n",
        "        for jj in selCP: #loop quadrants\n",
        "            j=centers[jj-1] #init values\n",
        "            mindist=None\n",
        "            k_inc=None\n",
        "            for k in range(16): #loop amt of centers available\n",
        "                d=L2dist(mus[k],j) #get distance from center and \n",
        "                if mindist is None or mindist>d: # if init condition set values to new OR min distance is bigger to calc distance save data\n",
        "                    mindist=d\n",
        "                    k_inc=k # k center position  0,6,9,14\n",
        "\n",
        "            covmat=np.concatenate(list(sigmas[k_inc])).ravel().tolist()\n",
        "\n",
        "            features = [*features, *mus[k_inc], *covmat] #features = distance    mus = mean of centroid of point x and y     covmat = covariance of position x1, x2, y1, y2\n",
        "\n",
        "        F.append(features)  \n",
        "\n",
        "# F = sample\n",
        "# with 24 features "
      ]
    },
    {
      "cell_type": "code",
      "execution_count": 7,
      "metadata": {
        "id": "8IfJHJEUnZpP"
      },
      "outputs": [],
      "source": [
        "R=np.random.permutation(len(F))\n",
        "nt=math.ceil(len(F)*trainingProp)\n",
        "rows_training=R[0:nt]\n",
        "rows_testing=R[(nt):(len(F)+1)]"
      ]
    },
    {
      "cell_type": "code",
      "execution_count": 8,
      "metadata": {
        "id": "rArxoGegnZpP"
      },
      "outputs": [],
      "source": [
        "header=['dist']\n",
        "for j in selCP:\n",
        "    header=[*header,*['mu_r_'+str(j),'mu_i_'+str(j),'sigma_rr_'+str(j),'sigma_ri_'+str(j),'sigma_ir_'+str(j),'sigma_ii_'+str(j)]]\n",
        "    \n",
        "F_training=[F[f] for f in rows_training]\n",
        "F_testing=[F[f] for f in rows_testing]\n",
        "\n",
        "DF_training=pd.DataFrame(F_training)\n",
        "DF_training.columns=header\n",
        "DF_training.to_csv(output_data_path+'/training_data_DNN.csv', index=False)\n",
        "\n",
        "DF_testing=pd.DataFrame(F_testing)\n",
        "DF_testing.columns=header\n",
        "DF_testing.to_csv(output_data_path+'/testing_data_DNN.csv', index=False)"
      ]
    },
    {
      "cell_type": "code",
      "execution_count": 9,
      "metadata": {
        "id": "RuofmKe5nZpP"
      },
      "outputs": [],
      "source": [
        "\n",
        "df=pd.read_csv(output_data_path+'/training_data_DNN.csv')\n",
        "\n",
        "colnames=df.columns[1:25]\n",
        "# Target variable and train set\n",
        "X=df.iloc[:,1:25]\n",
        "#print(X.shape)\n",
        "#print(X.columns)\n",
        "Y=df.iloc[:,0].to_numpy().reshape(-1,1)\n",
        "#print(Y.shape)\n",
        "#print(Y.columns)\n",
        "\n",
        "#labels=[int(i) for i in df.iloc[:,0]]\n",
        "\n",
        "sc_input = MinMaxScaler()\n",
        "sc_output = MinMaxScaler()\n",
        "X_train = sc_input.fit_transform(X)\n",
        "Y_train = sc_output.fit_transform(Y)\n"
      ]
    },
    {
      "cell_type": "code",
      "execution_count": null,
      "metadata": {
        "id": "7z8SS93enZpQ"
      },
      "outputs": [],
      "source": [
        "from keras.models import Sequential\n",
        "from keras.layers import Dense,Conv2D, Flatten\n",
        "from keras.wrappers.scikit_learn import KerasRegressor\n",
        "from keras.callbacks import EarlyStopping\n",
        "\n",
        "\n",
        "def ann():\n",
        "    model = Sequential()\n",
        "    model.add(Dense(24, input_dim = 24, activation = 'tanh'))\n",
        "    model.add(Dense(12,activation='tanh'))\n",
        "    model.add(Dense(6,activation='tanh'))\n",
        "    model.add(Dense(1))\n",
        "    model.compile(loss ='mean_squared_error',optimizer = 'RMSprop')\n",
        "    return model\n",
        "\n",
        "\n",
        "model_ann = KerasRegressor(build_fn=ann,epochs=100,batch_size=32)\n",
        "\n",
        "start_time = time.time()\n",
        "callback = EarlyStopping(monitor='loss', patience=500)\n",
        "model_ann.fit(X_train, Y_train, callbacks=[callback])\n",
        "time_train_ann = time.time() - start_time"
      ]
    },
    {
      "cell_type": "code",
      "execution_count": 31,
      "metadata": {
        "id": "nsX3PvhFnZpQ"
      },
      "outputs": [],
      "source": [
        "df=DF_testing\n",
        "colnames=df.columns[1:25]\n",
        "X=df.iloc[:,1:25] #features\n",
        "Y=df.iloc[:,0].to_numpy().reshape(-1,1) #distances\n",
        "X_test = sc_input.transform(X)  #convert features two values between 0 and 1\n",
        "Y_test = sc_output.transform(Y) #convert distances two values between 0 and 1"
      ]
    },
    {
      "cell_type": "code",
      "execution_count": 32,
      "metadata": {
        "id": "QaoVmsdfnZpR",
        "outputId": "6c8678df-9ac1-4b62-e1a2-d4ec90500567",
        "colab": {
          "base_uri": "https://localhost:8080/",
          "height": 323
        }
      },
      "outputs": [
        {
          "output_type": "stream",
          "name": "stdout",
          "text": [
            "[0.5073839, 0.1024511, 0.92941594, 0.31931633, 0.65968287, 0.7092578, 0.8715218, 0.51418036, 0.06374879, 0.801352, 0.7381877, 0.5976702, -0.011883373, 0.55076414, 0.8291671, 0.36345494, 0.71201646, -0.020649709, -0.015370499, 0.0666749, 0.5438116, 0.5232512, 0.4751656, 0.50712067, 0.18474175, 0.34461123, 0.0900422, 0.3707705, 0.56458217, 0.67671907, 0.3292374, 0.44069362, 0.9022247, 0.9791587, 0.32270575, 0.52497274, 0.044544365, -0.014671569, 0.5098544, 0.5616816, 0.2011104, 0.097754076, -0.009984946, 0.8759024, 0.3708898, 0.6764445, 0.71128935, 0.10169019, 0.6646889, 0.65308905, 0.05413233, 0.4842886, 0.65852517, 0.7739992, 0.47012317, 0.36368668, 0.18376471, 0.25116464, 0.6527412, 0.23431855, 0.66371655, 0.057189178, 0.8109339, 0.6937688, 0.9662658, 0.054111574, 0.9778021, 0.42260802, 0.0647995, 0.19535331, 0.028780475, 0.0985695, 0.9490035, 0.70538676, -0.010524811, 0.31065032, 0.54861337, 0.5424466, 0.18038711, 0.47160003, 0.44020677, 0.4613457, 0.46738464, 0.3693054, 0.87413746, 0.09830104, 0.9296662, 0.4338282, 0.5647411, 0.24090664, 0.0353663, 0.4675575, 0.6659513, 0.8900158, 0.5382555, 0.7399563, 0.9782175, 0.9699023, 0.8600382, 0.047032293, 0.89882684, 0.8532214, 0.5512441, 0.9722193, 0.09763768, 0.5152659, 0.8448991, 0.8530273, 0.6550185, 0.7269463, 0.41703394, 0.062068585, 0.36673933, 0.15190096, 0.52826977, 0.74546325, 0.66082686, 0.6805092, 0.6406947, 0.6650553, 0.53822315, 0.020564448, 0.22371364, 0.60472566, 0.4200442, 0.41611615, 0.4306328, 0.15999739, 0.79103047, 0.16568452, 0.5995582, 0.23501435, 0.028548539, 0.4306343, 0.40924227, 0.9435156, 0.3528247, 0.86275065, 0.982544, -0.012730911, 0.09686549, -0.01885721, 0.9393614, 0.1410939, 0.3522031, 0.43517032, 0.21606463, 0.62128085, 0.15211679, 0.79789144, 0.07016948, 0.63051885, 0.7255319, 0.3443018, 0.6175346, 0.10590461, 0.49646902, 0.95970523, 0.7440363, 0.8263765, 0.5502158, 0.97565097, 0.093653664, 0.26017174, 0.28996727, 0.10345885, 0.18378516, 0.13393642, 0.94382715, 0.6607732, 0.64236, 0.35228375, 0.19699481, 0.18890399, 0.7583639, 0.5229991, 0.53055054, 0.81677884, 0.31456092, 0.65212905, 0.55144054, 0.42148235, 0.42926478, 0.72370094, 0.41861513, 0.17421052, 0.22620822, 0.97962373, 0.41381758, 0.6127777, 0.056903187, 0.8834879, 0.49565566, 0.62772185, 0.33679247, 0.46288422, 0.26011565, 0.96480495, 0.04865649, 0.88554984, 0.102858275, 0.26721704, 0.8232931, 0.47445476, 0.15019064, 0.06877726, 0.6602843, 0.39009148, 0.77334195, 0.64290744, 0.623456, 0.6914504, 0.092443585, 0.18215075, 0.5933669, 0.4402013, 0.543691, 0.84304833, 0.5128771, 0.48317587, 0.4254289, 0.92708784, 0.9512066, 0.10312602, 0.77942294, 0.23207651, 0.107124284, 0.7362795, 0.91189754, 0.59176475, 0.15229139, 0.09622353, 0.30936393, 0.089667276, 0.43128443, 0.6370757, 0.26264453, 0.67967534, 0.59170806, 0.026659537, 0.80300355, 0.9920878, 0.87481654, 0.3850053, 0.41625848, 0.9025192, 0.19338596, 0.8126425, 0.8857239, 0.6503442]\n",
            "[0.5416666666666667, 0.125, 0.9583333333333334, 0.3333333333333333, 0.7083333333333334, 0.75, 0.9166666666666667, 0.5416666666666667, 0.08333333333333334, 0.8333333333333334, 0.7916666666666667, 0.625, 0.0, 0.5833333333333334, 0.875, 0.375, 0.75, 0.0, 0.0, 0.08333333333333334, 0.5833333333333334, 0.5416666666666667, 0.49999999999999994, 0.5416666666666667, 0.20833333333333334, 0.375, 0.125, 0.375, 0.5833333333333334, 0.7083333333333334, 0.3333333333333333, 0.4583333333333333, 0.9583333333333334, 1.0, 0.3333333333333333, 0.5416666666666667, 0.08333333333333334, 0.0, 0.5416666666666667, 0.5833333333333334, 0.20833333333333334, 0.125, 0.0, 0.9166666666666667, 0.375, 0.6666666666666667, 0.75, 0.125, 0.7083333333333334, 0.6666666666666667, 0.08333333333333334, 0.49999999999999994, 0.6666666666666667, 0.8333333333333334, 0.49999999999999994, 0.375, 0.20833333333333334, 0.29166666666666663, 0.7083333333333334, 0.25, 0.6666666666666667, 0.08333333333333334, 0.875, 0.7083333333333334, 1.0, 0.08333333333333334, 1.0, 0.4583333333333333, 0.08333333333333334, 0.20833333333333334, 0.041666666666666664, 0.125, 0.9583333333333334, 0.75, 0.0, 0.3333333333333333, 0.5833333333333334, 0.5833333333333334, 0.20833333333333334, 0.49999999999999994, 0.4583333333333333, 0.49999999999999994, 0.49999999999999994, 0.375, 0.9166666666666667, 0.125, 0.9583333333333334, 0.4583333333333333, 0.5833333333333334, 0.25, 0.041666666666666664, 0.49999999999999994, 0.7083333333333334, 0.9166666666666667, 0.5833333333333334, 0.7916666666666667, 1.0, 1.0, 0.9166666666666667, 0.08333333333333334, 0.9166666666666667, 0.875, 0.5833333333333334, 1.0, 0.125, 0.5416666666666667, 0.875, 0.875, 0.6666666666666667, 0.75, 0.4583333333333333, 0.08333333333333334, 0.375, 0.16666666666666669, 0.5416666666666667, 0.7916666666666667, 0.6666666666666667, 0.7083333333333334, 0.6666666666666667, 0.7083333333333334, 0.5416666666666667, 0.041666666666666664, 0.25, 0.625, 0.4583333333333333, 0.41666666666666663, 0.4583333333333333, 0.16666666666666669, 0.8333333333333334, 0.16666666666666669, 0.625, 0.25, 0.041666666666666664, 0.4583333333333333, 0.41666666666666663, 0.9583333333333334, 0.375, 0.9166666666666667, 1.0, 0.0, 0.125, 0.0, 0.9583333333333334, 0.16666666666666669, 0.375, 0.4583333333333333, 0.25, 0.625, 0.16666666666666669, 0.8333333333333334, 0.08333333333333334, 0.6666666666666667, 0.75, 0.375, 0.625, 0.125, 0.5416666666666667, 1.0, 0.7916666666666667, 0.8333333333333334, 0.5833333333333334, 1.0, 0.125, 0.29166666666666663, 0.3333333333333333, 0.125, 0.20833333333333334, 0.16666666666666669, 0.9583333333333334, 0.7083333333333334, 0.6666666666666667, 0.375, 0.20833333333333334, 0.20833333333333334, 0.7916666666666667, 0.5416666666666667, 0.5416666666666667, 0.875, 0.3333333333333333, 0.7083333333333334, 0.5833333333333334, 0.4583333333333333, 0.4583333333333333, 0.75, 0.4583333333333333, 0.20833333333333334, 0.25, 1.0, 0.41666666666666663, 0.625, 0.08333333333333334, 0.9166666666666667, 0.5416666666666667, 0.6666666666666667, 0.375, 0.49999999999999994, 0.29166666666666663, 1.0, 0.08333333333333334, 0.9166666666666667, 0.125, 0.29166666666666663, 0.875, 0.49999999999999994, 0.16666666666666669, 0.08333333333333334, 0.7083333333333334, 0.41666666666666663, 0.8333333333333334, 0.6666666666666667, 0.6666666666666667, 0.7083333333333334, 0.125, 0.20833333333333334, 0.625, 0.4583333333333333, 0.5833333333333334, 0.875, 0.5416666666666667, 0.49999999999999994, 0.4583333333333333, 0.9583333333333334, 1.0, 0.125, 0.8333333333333334, 0.25, 0.125, 0.7916666666666667, 0.9583333333333334, 0.625, 0.16666666666666669, 0.125, 0.3333333333333333, 0.125, 0.4583333333333333, 0.6666666666666667, 0.29166666666666663, 0.7083333333333334, 0.625, 0.041666666666666664, 0.8333333333333334, 1.0, 0.9166666666666667, 0.41666666666666663, 0.4583333333333333, 0.9166666666666667, 0.20833333333333334, 0.8333333333333334, 0.9166666666666667, 0.7083333333333334]\n"
          ]
        },
        {
          "output_type": "display_data",
          "data": {
            "text/plain": [
              "<Figure size 432x288 with 1 Axes>"
            ],
            "image/png": "[encoded data removed]"
          },
          "metadata": {
            "needs_background": "light"
          }
        }
      ],
      "source": [
        "start_time = time.time()\n",
        "Y_test_pred=model_ann.predict(X_test)\n",
        "\n",
        "time_eval_ann=time.time()-start_time\n",
        "\n",
        "real=list(list(zip(*Y_test))[0])\n",
        "\n",
        "#real=list(map(list, zip(*Y_train)))\n",
        "pred=list(Y_test_pred)\n",
        "print(pred)\n",
        "\n",
        "\n",
        "dist_min=sc_output.data_min_[0] # 80\n",
        "dist_max=sc_output.data_max_[0] # 2000\n",
        "\n",
        "#np.add = add values in a array\n",
        "#np.multiply multiple values in a array\n",
        "print(real)\n",
        "real_abs=np.add(dist_min,np.multiply((dist_max-dist_min),real)) # convert back to distances values from scalar\n",
        "real_abs=[int(np.round(i)) for i in real_abs]\n",
        "#print(real_abs)\n",
        "pred_abs=np.add(dist_min,np.multiply((dist_max-dist_min),pred)) # convert back to distances values from scalar\n",
        "#print(pred_abs)\n",
        "\n",
        "error=np.divide(np.abs(np.subtract(np.array(real_abs),np.array(pred_abs))),np.array(real_abs))\n",
        "\n",
        "res=pd.DataFrame({\"dist\":real_abs,\"pred\":pred_abs,\"error\":error})\n",
        "res.to_csv(\"results_pme_supervisedFeatures.csv\", header=True, index=False)\n",
        "plt.plot(real_abs,error,'bo')\n",
        "plt.show()"
      ]
    },
    {
      "cell_type": "code",
      "execution_count": null,
      "metadata": {
        "id": "DUn4CgZ7nZpR"
      },
      "outputs": [],
      "source": [
        "R=[]\n",
        "for ll in distances: \n",
        "    res_mean=np.mean(res[res[\"dist\"]==ll*80])\n",
        "    res_std=np.std(res[res[\"dist\"]==ll*80])\n",
        "    R.append([res_mean[\"dist\"],res_mean[\"pred\"],res_std[\"pred\"]])\n",
        "R=pd.DataFrame(R)\n",
        "R.columns=[\"dist\",\"mean\",\"std\"]"
      ]
    },
    {
      "cell_type": "code",
      "execution_count": null,
      "metadata": {
        "id": "E6RmRZ-jnZpR",
        "outputId": "42f2341a-f10f-4a74-8414-f98900f90eec",
        "colab": {
          "base_uri": "https://localhost:8080/"
        }
      },
      "outputs": [
        {
          "output_type": "execute_result",
          "data": {
            "text/plain": [
              "['/content/gdrive/MyDrive/Thesis_Workstation/ANN_dataset/trainedModel/scaler_output.joblib']"
            ]
          },
          "metadata": {},
          "execution_count": 16
        }
      ],
      "source": [
        "R.to_csv(model_path+\"/reference.csv\", index=False)\n",
        "json_model = model_ann.model.to_json()\n",
        "open(model_path+\"/model_ann_architecture.json\", 'w').write(json_model)\n",
        "model_ann.model.save_weights(model_path+'/model_ann_weights.h5', overwrite=True)\n",
        "joblib.dump(sc_input, model_path+'/scaler_input.joblib')\n",
        "joblib.dump(sc_output, model_path+'/scaler_output.joblib')"
      ]
    },
    {
      "cell_type": "code",
      "execution_count": null,
      "metadata": {
        "scrolled": true,
        "id": "E-wHr0CVnZpS",
        "outputId": "36e7cdd5-1f92-4638-9f74-0d1fa051ded5",
        "colab": {
          "base_uri": "https://localhost:8080/"
        }
      },
      "outputs": [
        {
          "output_type": "stream",
          "name": "stdout",
          "text": [
            "[-3.03670163e+00  2.91801267e+00  3.86233951e-03 -1.50244735e-02\n",
            " -1.50244735e-02  3.50405519e-03  9.46312566e-01  9.69838145e-01\n",
            "  2.86608720e-03 -1.38727078e-02 -1.38727078e-02  2.67208245e-03\n",
            " -1.02006083e+00 -1.02696373e+00  2.86323312e-03 -3.93380664e-03\n",
            " -3.93380664e-03  2.70032452e-03  9.76658940e-01 -3.01918878e+00\n",
            "  3.53056890e-03 -1.06544279e-02 -1.06544279e-02  2.58932458e-03]\n",
            "[-2.934883    3.00183715  0.12617059  0.00729831  0.00729831  0.12351432\n",
            "  1.01944524  1.05218133  0.10524003  0.00310027  0.00310027  0.12613898\n",
            " -0.95590205 -0.96450322  0.1251427   0.02316845  0.02316845  0.10861225\n",
            "  1.0336819  -2.92784348  0.09748311  0.00780845  0.00780845  0.09217364]\n"
          ]
        }
      ],
      "source": [
        "print(sc_input.data_min_)\n",
        "print(sc_input.data_max_)\n"
      ]
    },
    {
      "cell_type": "code",
      "execution_count": null,
      "metadata": {
        "id": "EFkeJw2TnZpS",
        "outputId": "3d439f1c-1ac4-4a58-c2cc-0e98c7009fce",
        "colab": {
          "base_uri": "https://localhost:8080/"
        }
      },
      "outputs": [
        {
          "output_type": "execute_result",
          "data": {
            "text/plain": [
              "array([[0.2153114 , 0.91333928, 0.15680262, ..., 0.79418786, 0.79418786,\n",
              "        0.24845311],\n",
              "       [0.52831933, 0.47630105, 0.38124716, ..., 0.53965251, 0.53965251,\n",
              "        0.51741815],\n",
              "       [0.47014226, 0.52181687, 0.33037328, ..., 0.76025827, 0.76025827,\n",
              "        0.4798837 ],\n",
              "       ...,\n",
              "       [0.52658767, 0.44467101, 0.36917939, ..., 0.85067798, 0.85067798,\n",
              "        0.52922795],\n",
              "       [0.76385377, 0.22468832, 0.70462843, ..., 0.45594019, 0.45594019,\n",
              "        0.84048627],\n",
              "       [0.38912343, 0.57730815, 0.26077732, ..., 0.85621162, 0.85621162,\n",
              "        0.41548351]])"
            ]
          },
          "metadata": {},
          "execution_count": 18
        }
      ],
      "source": [
        "X_test"
      ]
    }
  ],
  "metadata": {
    "kernelspec": {
      "display_name": "Python 3",
      "language": "python",
      "name": "python3"
    },
    "language_info": {
      "codemirror_mode": {
        "name": "ipython",
        "version": 3
      },
      "file_extension": ".py",
      "mimetype": "text/x-python",
      "name": "python",
      "nbconvert_exporter": "python",
      "pygments_lexer": "ipython3",
      "version": "3.6.9"
    },
    "colab": {
      "name": "training_DNN.ipynb",
      "provenance": []
    }
  },
  "nbformat": 4,
  "nbformat_minor": 0
}