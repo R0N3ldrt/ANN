{
  "nbformat": 4,
  "nbformat_minor": 0,
  "metadata": {
    "colab": {
      "name": "Untitled13.ipynb",
      "provenance": [],
      "authorship_tag": "ABX9TyNmwivzFhc9Rgv5VJcxr4XJ",
      "include_colab_link": true
    },
    "kernelspec": {
      "name": "python3",
      "display_name": "Python 3"
    },
    "language_info": {
      "name": "python"
    }
  },
  "cells": [
    {
      "cell_type": "markdown",
      "metadata": {
        "id": "view-in-github",
        "colab_type": "text"
      },
      "source": [
        "<a href=\"https://colab.research.google.com/github/R0N3ldrt/Thesis/blob/main/New_Attack_v16.ipynb\" target=\"_parent\"><img src=\"https://colab.research.google.com/assets/colab-badge.svg\" alt=\"Open In Colab\"/></a>"
      ]
    },
    {
      "cell_type": "markdown",
      "source": [
        "# Libraries"
      ],
      "metadata": {
        "id": "oedwwr_nXJs2"
      }
    },
    {
      "cell_type": "code",
      "execution_count": 1,
      "metadata": {
        "id": "vP5hFWJrQ_xH"
      },
      "outputs": [],
      "source": [
        "# Importing necesary libraries\n",
        "# Libraries for correct code execution \n",
        "\n",
        "import os, time, math, csv, joblib\n",
        "import pandas as pd\n",
        "import numpy as np\n",
        "import matplotlib.pyplot as plt\n",
        "import math\n",
        "import pickle\n",
        "import random\n",
        "import csv\n",
        "import re\n",
        "import array\n",
        "import seaborn as sns\n",
        "import scipy.stats as st\n",
        "\n",
        "from tqdm import tqdm\n",
        "from functools import reduce\n",
        "from random import random, gauss\n",
        "from math import modf, pi, cos, sin, sqrt\n",
        "from sklearn.model_selection import train_test_split\n",
        "from sklearn.preprocessing import MinMaxScaler\n",
        "from sklearn.metrics import r2_score\n",
        "from plotly.subplots import make_subplots\n",
        "from scipy.signal import savgol_filter\n",
        "from scipy.stats.stats import pearsonr\n",
        "from scipy.stats import spearmanr\n",
        "\n",
        "import plotly.graph_objects as go\n",
        "import plotly.express as px\n",
        "from plotly.subplots import make_subplots\n",
        "\n",
        "import tensorflow as tf\n",
        "import matplotlib.pyplot as plt\n",
        "import matplotlib.pyplot as plt\n",
        "import seaborn as sns\n",
        "from sklearn.model_selection import train_test_split\n",
        "from sklearn.preprocessing import MinMaxScaler\n",
        "from sklearn.mixture import GaussianMixture\n",
        "\n",
        "import os, time, math, csv, joblib\n",
        "from sklearn.model_selection import train_test_split\n",
        "from sklearn.preprocessing import MinMaxScaler\n",
        "from sklearn.mixture import GaussianMixture\n",
        "\n",
        "import tensorflow\n",
        "import numpy\n",
        "import matplotlib.pyplot\n",
        "\n",
        "import warnings\n",
        "warnings.filterwarnings(\"ignore\")\n",
        "\n",
        "sns.set_theme()"
      ]
    },
    {
      "cell_type": "code",
      "source": [
        "#! pip uninstall tensorflow\n",
        "#! pip install tensorflow==2.3.0"
      ],
      "metadata": {
        "id": "1zAmXO6zhTxA"
      },
      "execution_count": 3,
      "outputs": []
    },
    {
      "cell_type": "markdown",
      "source": [
        "# Load Enviroment"
      ],
      "metadata": {
        "id": "m50eRaG9XLVE"
      }
    },
    {
      "cell_type": "code",
      "source": [
        "# BLOQUE PARA USAR DESDE COLAB\n",
        "\n",
        "# Google drive loading as work station for local-usage of the files.\n",
        "from google.colab import drive\n",
        "drive.mount('/content/gdrive',force_remount= True)\n",
        "\n",
        "#-----------------------------------------------------------------------------"
      ],
      "metadata": {
        "colab": {
          "base_uri": "https://localhost:8080/"
        },
        "id": "MqKIbK7dXOab",
        "outputId": "117c42fb-b621-45e6-893f-eb47d123a274"
      },
      "execution_count": 4,
      "outputs": [
        {
          "output_type": "stream",
          "name": "stdout",
          "text": [
            "Mounted at /content/gdrive\n"
          ]
        }
      ]
    },
    {
      "cell_type": "code",
      "source": [
        "# Lista para cambiar los paths rapido.\n",
        "workers = [\"Ronald\", \"Local\"]\n",
        "\n",
        "# Change the number to change the paths.\n",
        "worker = workers[0]\n",
        "\n",
        "if worker == \"Ronald\":\n",
        "  path = \"/content/gdrive/MyDrive/Thesis_Workstation/ANN_dataset\"\n",
        "else: path = os.getcwd()"
      ],
      "metadata": {
        "id": "9FQlwUh1XQgj"
      },
      "execution_count": 5,
      "outputs": []
    },
    {
      "cell_type": "markdown",
      "source": [
        ""
      ],
      "metadata": {
        "id": "ZPlQ2PaYfxEZ"
      }
    },
    {
      "cell_type": "markdown",
      "source": [
        "# Pre-procesing"
      ],
      "metadata": {
        "id": "T6lkjt0IXSRq"
      }
    },
    {
      "cell_type": "markdown",
      "source": [
        "## Get working df"
      ],
      "metadata": {
        "id": "dUHKBq43fyxi"
      }
    },
    {
      "cell_type": "code",
      "source": [
        "def prime_number_finder(stop_gap, total_num_of_data):\n",
        "  prime_nums = []\n",
        "  i=2\n",
        "  while i <= stop_gap:\n",
        "    if (total_num_of_data % i==0):\n",
        "      prime_nums.append(i)\n",
        "      break\n",
        "    i+=1\n",
        "  return prime_nums\n",
        "\n",
        "def aggreagator_v2(df, stop_gap=50):\n",
        "  total_num_of_data = df.shape[1]\n",
        "  arr_prime = prime_number_finder(stop_gap, total_num_of_data)\n",
        "  #agg_num = np.max(arr_prime)\n",
        "  agg_num = arr_prime[0]\n",
        "\n",
        "  # Creating new df of aggregate values\n",
        "  agg_df = pd.DataFrame()\n",
        "\n",
        "  mid_point = df.shape[1]/2\n",
        "\n",
        "  agg=0\n",
        "  loop_cnt=0\n",
        "  init_column_cnt = 5\n",
        "  while agg<=total_num_of_data:\n",
        "    loop_cnt+=1\n",
        "    # Obtain current last columns stop\n",
        "    agg=agg_num+init_column_cnt\n",
        "    # Select working columns\n",
        "    new_df = df[df.columns[init_column_cnt:agg]]\n",
        "\n",
        "    init_column_cnt += (agg_num)\n",
        "\n",
        "    headers = list(new_df.columns.values) \n",
        "    if loop_cnt <= mid_point:\n",
        "      # Get average of freq values for new header\n",
        "      new_header_name  = headers[-1]\n",
        "    else:\n",
        "      new_header_name = headers[0]\n",
        "    \n",
        "    # Add aggragated values to new df\n",
        "    agg_df[new_header_name] = new_df.mean(axis = 1)\n",
        "  return agg_df\n",
        "\n",
        "def remove_tail(df, cut_val, sample_id):\n",
        "  columns_selected = []\n",
        "  old_val = 0\n",
        "  delta = 0\n",
        "  mid_point = int(df.shape[1]/2)\n",
        "  cols_headers  = list(df.columns.values)\n",
        "\n",
        "  for i in range(0, df.shape[1]):\n",
        "    if i == 0:\n",
        "      cell_val = df.iloc[[0], i]\n",
        "      old_val = cell_val[sample_id]\n",
        "    else:\n",
        "      cell_val = df.iloc[[0], i]\n",
        "      val = cell_val[sample_id]\n",
        "      delta = abs(old_val-val)\n",
        "      old_val = val\n",
        "      if delta > cut_val:\n",
        "        if i <= mid_point:\n",
        "          col_name_selected = cols_headers[i+2]\n",
        "        else:\n",
        "          col_name_selected = cols_headers[i-2]\n",
        "          col_name_selected = round(float(col_name_selected), 5)\n",
        "        columns_selected.append(col_name_selected)\n",
        "\n",
        "  return columns_selected\n",
        "\n",
        "# Removing tails conducting multiples loops with variable cutoff value until we get only two columns\n",
        "def remove_tail_main(df, cut_val, sample_id):\n",
        "  old_drop_cols = []\n",
        "  drop_cols = remove_tail(df, cut_val, sample_id)\n",
        "  while len(drop_cols) != 2:  \n",
        "    # If len of columns to be dropped are 0 the select the 2 values smaller and bigger of the previous iteration\n",
        "    if len(drop_cols) == 0 or len(drop_cols) == 1:\n",
        "      drop_cols = [np.min(old_drop_cols), np.max(old_drop_cols)]\n",
        "      break\n",
        "    else:\n",
        "      old_drop_cols = drop_cols\n",
        "      drop_cols = remove_tail(df, cut_val, sample_id)\n",
        "      cut_val += 2\n",
        "  return drop_cols\n",
        "\n",
        "def get_working_data_idx_v2(df_mean_sample, sample_id, cut_val = 0):\n",
        "\n",
        "  df = df_mean_sample.iloc[[sample_id - 1]]\n",
        "\n",
        "  agg_df = aggreagator_v2(df)\n",
        "  \n",
        "  col_vals = remove_tail_main(df, cut_val=cut_val, sample_id=sample_id)\n",
        "\n",
        "  left_index_no = df.columns.get_loc(col_vals[0])\n",
        "  rigth_index_no = df.columns.get_loc(col_vals[1])\n",
        "\n",
        "  return left_index_no, rigth_index_no\n",
        "\n",
        "def cut_off_idx(df): # return tuple with cut-off values (index_left_side, index_rigth_side)\n",
        "  df_mean_sample = df.groupby(['PBRS_id']).mean()\n",
        "  df_mean_sample = df_mean_sample.drop(['row', 'Channels', 'Distance_km', 'power_dBm'], axis = 1)\n",
        "\n",
        "  cut_points = {}\n",
        "  print('Calculating the cutoff values:')\n",
        "  for sample in tqdm(df_mean_sample.index):\n",
        "    left_index_no, rigth_index_no = get_working_data_idx_v2(df_mean_sample, sample_id = sample)\n",
        "    cut_points[sample] = (left_index_no, rigth_index_no)\n",
        "\n",
        "  left_cut_off = np.min([v[0] for k, v in cut_points.items()])\n",
        "  rigth_cut_off = np.max([v[1] for k, v in cut_points.items()])\n",
        "\n",
        "  cut_point = (left_cut_off, rigth_cut_off)\n",
        "  return cut_point"
      ],
      "metadata": {
        "id": "Sfd3ijQUf0kY"
      },
      "execution_count": 6,
      "outputs": []
    },
    {
      "cell_type": "markdown",
      "source": [
        "### Cutoff main"
      ],
      "metadata": {
        "id": "6JyU7veggPqn"
      }
    },
    {
      "cell_type": "code",
      "source": [
        "def select_working_data(df, cut_point): # implement cut_off values and Smoothing original df after cutt-of\n",
        "  extra_info_df = df.iloc[:, 0:6]\n",
        "  data_df = df.iloc[:, cut_point[0]+6:cut_point[1]+6]\n",
        "  smoothed_data_frame = pd.DataFrame(savgol_filter(data_df, window_length = 5, polyorder = 2))\n",
        "  \n",
        "  # Adding back headers to the smoothed data\n",
        "  rename_col = {}\n",
        "  cnt = 0\n",
        "  for col in data_df.columns:\n",
        "    h_col = round(float(col), 5)\n",
        "    rename_col[cnt] = h_col\n",
        "    cnt += 1\n",
        "  smoothed_data_frame.rename(columns=rename_col, inplace=True)\n",
        "\n",
        "  working_df = pd.merge(extra_info_df, smoothed_data_frame, left_index=True, right_index=True)\n",
        "  return working_df\n",
        "  \n",
        "def main_cutoff(input_path):\n",
        "  print('Reading data from file.')\n",
        "  df = pd.read_excel(input_path, sheet_name = \"Sheet1\", skiprows=1)\n",
        "  df.iloc[0].fillna(method='bfill', inplace=True)\n",
        "  df.iloc[1:df.shape[0]].fillna(method='pad', inplace=True)\n",
        "  # Adding missing PBRS_id\n",
        "  snippet = []\n",
        "  val_cnt = 1\n",
        "  idx = 0\n",
        "  for sample in range(1, 101):\n",
        "    for sample_id in range(0, 25):\n",
        "      df.at[idx, 'PBRS_id'] = val_cnt\n",
        "      idx +=1\n",
        "      snippet.append(val_cnt)\n",
        "    val_cnt += 1\n",
        "  df['PBRS_id'] = df['PBRS_id'].astype(int)\n",
        "\n",
        "  cut_point = cut_off_idx(df)\n",
        "  working_df = select_working_data(df, cut_point)\n",
        "\n",
        "  return working_df"
      ],
      "metadata": {
        "id": "tOM9kIysgclQ"
      },
      "execution_count": 7,
      "outputs": []
    },
    {
      "cell_type": "code",
      "source": [
        "#input_path = path + \"/Spectrum/16QAM_v2/Copy of dataSet_gamma0_Spectrum31MHz_Samples_16QAM_75GHz_LongHaul_input_25x81km_primeStep.xlsx\"\n",
        "#orking_df = main_cutoff(input_path)\n",
        "#display(working_df)\n",
        "\n",
        "#working_df.to_csv(path+\"/Spectrum/NN/new_data_working_df.csv\", index=False)"
      ],
      "metadata": {
        "id": "tOZU5DcTglFg"
      },
      "execution_count": 8,
      "outputs": []
    },
    {
      "cell_type": "markdown",
      "source": [
        "## Get data"
      ],
      "metadata": {
        "id": "hfqT1A_mf0t1"
      }
    },
    {
      "cell_type": "code",
      "source": [
        "input_path = path + \"/Spectrum/NN/new_data_working_df.csv\"\n",
        "\n",
        "working_df = pd.read_csv(input_path)\n",
        "working_df['Distance_km'] = working_df['Distance_km'].astype(int)"
      ],
      "metadata": {
        "id": "6oL6LiSgXU54"
      },
      "execution_count": 9,
      "outputs": []
    },
    {
      "cell_type": "code",
      "source": [
        "def frequencies_filter(df, num_selected_freq=20):\n",
        "  info_df = df.iloc[:, 0:6]\n",
        "  data_df = df.iloc[:, 1:df.shape[1]]\n",
        "  span_val = int(data_df.shape[1]/num_selected_freq)\n",
        "  for i in range(num_selected_freq):\n",
        "    df2 = data_df.iloc[:, (i+1)*span_val].to_frame()\n",
        "    if i+1 == 1:\n",
        "      new_df = df2\n",
        "    else:\n",
        "      new_df = pd.merge(new_df, df2, left_index=True, right_index=True)\n",
        "  new_df = info_df.join(new_df)\n",
        "  \n",
        "  return new_df"
      ],
      "metadata": {
        "id": "z9gLmIPMgK7Q"
      },
      "execution_count": 10,
      "outputs": []
    },
    {
      "cell_type": "code",
      "source": [
        "def get_data(working_df, distances, num_features = 20, span_length=80, min_dist = 0, max_dist = 3000):\n",
        "  X=None\n",
        "  Y=np.array([])\n",
        "  dist_df = working_df.iloc[:, 3]\n",
        "  freq_df = working_df.iloc[:, 6:working_df.shape[1]]\n",
        "  samples_df = pd.merge(dist_df, freq_df, left_index=True, right_index=True)\n",
        "  samples_df = samples_df.sort_values(by='Distance_km')\n",
        "  if num_features != 'all':\n",
        "    samples_df = frequencies_filter(samples_df, num_selected_freq = num_features)\n",
        "  Y = samples_df.iloc[:, 0].to_numpy().astype('int').tolist()\n",
        "  X = samples_df.iloc[:, 1:samples_df.shape[1]]\n",
        "  \n",
        "  return X, Y, samples_df"
      ],
      "metadata": {
        "id": "AvBhc_XoXXKQ"
      },
      "execution_count": 11,
      "outputs": []
    },
    {
      "cell_type": "code",
      "source": [
        "#input_data_path=path+\"/rawData\"\n",
        "#distances=[i for i in range(1,26)]\n",
        "distances = [x*80 for x in range(1, 26)]\n",
        "X, Y, samples_filtered_df = get_data(working_df, distances, num_features = 'all', span_length=80,  min_dist = 0, max_dist = 3000)"
      ],
      "metadata": {
        "id": "RfkozzHnXj6u"
      },
      "execution_count": 12,
      "outputs": []
    },
    {
      "cell_type": "code",
      "source": [
        "samples_filtered_df"
      ],
      "metadata": {
        "colab": {
          "base_uri": "https://localhost:8080/",
          "height": 488
        },
        "id": "OSC06AG6epaG",
        "outputId": "42dcc493-3c8c-4c90-d8bf-839c39167bf8"
      },
      "execution_count": 13,
      "outputs": [
        {
          "output_type": "execute_result",
          "data": {
            "text/plain": [
              "      Distance_km  -39.90625    -39.875  -39.84375   -39.8125  -39.78125  \\\n",
              "0              80 -65.158556 -66.359675 -66.708836 -71.777931 -66.092081   \n",
              "125            80 -54.902319 -57.469566 -58.650167 -58.256577 -57.120871   \n",
              "975            80 -55.246289 -58.903165 -59.936123 -58.754704 -53.084186   \n",
              "1000           80 -58.769150 -60.644357 -61.903338 -66.371732 -60.697843   \n",
              "1025           80 -62.672232 -63.551920 -63.130158 -61.900052 -61.208010   \n",
              "...           ...        ...        ...        ...        ...        ...   \n",
              "1699         2000 -39.060418 -40.089715 -39.184312 -33.321699 -32.394581   \n",
              "1724         2000 -45.777276 -39.520381 -35.212366 -31.215854 -31.976366   \n",
              "1749         2000 -33.005394 -37.672756 -39.242985 -37.025965 -37.250896   \n",
              "2399         2000 -36.358480 -32.709908 -31.364002 -33.805751 -35.584646   \n",
              "2499         2000 -36.594143 -34.475890 -33.258314 -32.997151 -34.153190   \n",
              "\n",
              "         -39.75  -39.71875   -39.6875  -39.65625  ...    34.6875   34.71875  \\\n",
              "0    -53.716181 -56.447556 -55.216247 -54.921922  ... -59.107222 -62.993632   \n",
              "125  -54.832446 -56.585764 -58.167556 -57.408129  ... -57.627135 -64.548644   \n",
              "975  -50.990158 -51.881985 -58.366417 -61.236644  ... -58.538788 -60.779631   \n",
              "1000 -58.893096 -60.500364 -63.977091 -61.713541  ... -61.793840 -58.908770   \n",
              "1025 -62.534571 -63.881451 -61.861091 -67.207673  ... -59.124382 -59.038588   \n",
              "...         ...        ...        ...        ...  ...        ...        ...   \n",
              "1699 -30.766774 -35.433400 -39.636295 -39.572805  ... -36.158246 -34.974566   \n",
              "1724 -33.063281 -32.262853 -35.781499 -35.580851  ... -32.811077 -33.647974   \n",
              "1749 -32.485086 -34.725450 -31.833082 -35.461288  ... -39.867905 -42.487405   \n",
              "2399 -32.223232 -30.862095 -28.720843 -31.102346  ... -34.051539 -35.013313   \n",
              "2499 -33.800276 -39.023602 -39.579739 -37.540062  ... -36.764209 -32.024320   \n",
              "\n",
              "          34.75   34.78125    34.8125   34.84375     34.875   34.90625  \\\n",
              "0    -54.834111 -54.361885 -64.653201 -69.901475 -61.469377 -54.784317   \n",
              "125  -65.637002 -63.156643 -58.177577 -59.985663 -58.031358 -60.922607   \n",
              "975  -60.445396 -60.851264 -59.971745 -59.222002 -61.642559 -61.885148   \n",
              "1000 -60.404921 -60.130890 -61.535060 -55.319260 -59.725285 -63.973778   \n",
              "1025 -59.114337 -57.422896 -57.627687 -57.376619 -56.733160 -58.539036   \n",
              "...         ...        ...        ...        ...        ...        ...   \n",
              "1699 -33.677152 -32.461789 -31.697031 -30.033924 -33.492361 -34.387412   \n",
              "1724 -34.523244 -34.873656 -38.167460 -35.568105 -38.499464 -41.863667   \n",
              "1749 -36.881447 -32.796440 -31.492113 -36.181981 -36.404388 -32.599868   \n",
              "2399 -33.634516 -34.267799 -36.189625 -35.279263 -33.557900 -30.107759   \n",
              "2499 -34.295020 -33.652013 -33.606912 -39.131861 -38.559208 -37.035780   \n",
              "\n",
              "        34.9375   34.96875  \n",
              "0    -55.229285 -61.405108  \n",
              "125  -59.679082 -56.034034  \n",
              "975  -61.544703 -59.897084  \n",
              "1000 -61.619858 -53.937357  \n",
              "1025 -58.086162 -56.690199  \n",
              "...         ...        ...  \n",
              "1699 -33.308819 -30.242322  \n",
              "1724 -44.503764 -46.884585  \n",
              "1749 -32.605291 -35.086710  \n",
              "2399 -31.016528 -34.939487  \n",
              "2499 -35.035530 -31.978698  \n",
              "\n",
              "[2500 rows x 2398 columns]"
            ],
            "text/html": [
              "\n",
              "  <div id=\"df-f606aa42-3246-424e-9d5f-a381f0e8df03\">\n",
              "    <div class=\"colab-df-container\">\n",
              "      <div>\n",
              "<style scoped>\n",
              "    .dataframe tbody tr th:only-of-type {\n",
              "        vertical-align: middle;\n",
              "    }\n",
              "\n",
              "    .dataframe tbody tr th {\n",
              "        vertical-align: top;\n",
              "    }\n",
              "\n",
              "    .dataframe thead th {\n",
              "        text-align: right;\n",
              "    }\n",
              "</style>\n",
              "<table border=\"1\" class=\"dataframe\">\n",
              "  <thead>\n",
              "    <tr style=\"text-align: right;\">\n",
              "      <th></th>\n",
              "      <th>Distance_km</th>\n",
              "      <th>-39.90625</th>\n",
              "      <th>-39.875</th>\n",
              "      <th>-39.84375</th>\n",
              "      <th>-39.8125</th>\n",
              "      <th>-39.78125</th>\n",
              "      <th>-39.75</th>\n",
              "      <th>-39.71875</th>\n",
              "      <th>-39.6875</th>\n",
              "      <th>-39.65625</th>\n",
              "      <th>...</th>\n",
              "      <th>34.6875</th>\n",
              "      <th>34.71875</th>\n",
              "      <th>34.75</th>\n",
              "      <th>34.78125</th>\n",
              "      <th>34.8125</th>\n",
              "      <th>34.84375</th>\n",
              "      <th>34.875</th>\n",
              "      <th>34.90625</th>\n",
              "      <th>34.9375</th>\n",
              "      <th>34.96875</th>\n",
              "    </tr>\n",
              "  </thead>\n",
              "  <tbody>\n",
              "    <tr>\n",
              "      <th>0</th>\n",
              "      <td>80</td>\n",
              "      <td>-65.158556</td>\n",
              "      <td>-66.359675</td>\n",
              "      <td>-66.708836</td>\n",
              "      <td>-71.777931</td>\n",
              "      <td>-66.092081</td>\n",
              "      <td>-53.716181</td>\n",
              "      <td>-56.447556</td>\n",
              "      <td>-55.216247</td>\n",
              "      <td>-54.921922</td>\n",
              "      <td>...</td>\n",
              "      <td>-59.107222</td>\n",
              "      <td>-62.993632</td>\n",
              "      <td>-54.834111</td>\n",
              "      <td>-54.361885</td>\n",
              "      <td>-64.653201</td>\n",
              "      <td>-69.901475</td>\n",
              "      <td>-61.469377</td>\n",
              "      <td>-54.784317</td>\n",
              "      <td>-55.229285</td>\n",
              "      <td>-61.405108</td>\n",
              "    </tr>\n",
              "    <tr>\n",
              "      <th>125</th>\n",
              "      <td>80</td>\n",
              "      <td>-54.902319</td>\n",
              "      <td>-57.469566</td>\n",
              "      <td>-58.650167</td>\n",
              "      <td>-58.256577</td>\n",
              "      <td>-57.120871</td>\n",
              "      <td>-54.832446</td>\n",
              "      <td>-56.585764</td>\n",
              "      <td>-58.167556</td>\n",
              "      <td>-57.408129</td>\n",
              "      <td>...</td>\n",
              "      <td>-57.627135</td>\n",
              "      <td>-64.548644</td>\n",
              "      <td>-65.637002</td>\n",
              "      <td>-63.156643</td>\n",
              "      <td>-58.177577</td>\n",
              "      <td>-59.985663</td>\n",
              "      <td>-58.031358</td>\n",
              "      <td>-60.922607</td>\n",
              "      <td>-59.679082</td>\n",
              "      <td>-56.034034</td>\n",
              "    </tr>\n",
              "    <tr>\n",
              "      <th>975</th>\n",
              "      <td>80</td>\n",
              "      <td>-55.246289</td>\n",
              "      <td>-58.903165</td>\n",
              "      <td>-59.936123</td>\n",
              "      <td>-58.754704</td>\n",
              "      <td>-53.084186</td>\n",
              "      <td>-50.990158</td>\n",
              "      <td>-51.881985</td>\n",
              "      <td>-58.366417</td>\n",
              "      <td>-61.236644</td>\n",
              "      <td>...</td>\n",
              "      <td>-58.538788</td>\n",
              "      <td>-60.779631</td>\n",
              "      <td>-60.445396</td>\n",
              "      <td>-60.851264</td>\n",
              "      <td>-59.971745</td>\n",
              "      <td>-59.222002</td>\n",
              "      <td>-61.642559</td>\n",
              "      <td>-61.885148</td>\n",
              "      <td>-61.544703</td>\n",
              "      <td>-59.897084</td>\n",
              "    </tr>\n",
              "    <tr>\n",
              "      <th>1000</th>\n",
              "      <td>80</td>\n",
              "      <td>-58.769150</td>\n",
              "      <td>-60.644357</td>\n",
              "      <td>-61.903338</td>\n",
              "      <td>-66.371732</td>\n",
              "      <td>-60.697843</td>\n",
              "      <td>-58.893096</td>\n",
              "      <td>-60.500364</td>\n",
              "      <td>-63.977091</td>\n",
              "      <td>-61.713541</td>\n",
              "      <td>...</td>\n",
              "      <td>-61.793840</td>\n",
              "      <td>-58.908770</td>\n",
              "      <td>-60.404921</td>\n",
              "      <td>-60.130890</td>\n",
              "      <td>-61.535060</td>\n",
              "      <td>-55.319260</td>\n",
              "      <td>-59.725285</td>\n",
              "      <td>-63.973778</td>\n",
              "      <td>-61.619858</td>\n",
              "      <td>-53.937357</td>\n",
              "    </tr>\n",
              "    <tr>\n",
              "      <th>1025</th>\n",
              "      <td>80</td>\n",
              "      <td>-62.672232</td>\n",
              "      <td>-63.551920</td>\n",
              "      <td>-63.130158</td>\n",
              "      <td>-61.900052</td>\n",
              "      <td>-61.208010</td>\n",
              "      <td>-62.534571</td>\n",
              "      <td>-63.881451</td>\n",
              "      <td>-61.861091</td>\n",
              "      <td>-67.207673</td>\n",
              "      <td>...</td>\n",
              "      <td>-59.124382</td>\n",
              "      <td>-59.038588</td>\n",
              "      <td>-59.114337</td>\n",
              "      <td>-57.422896</td>\n",
              "      <td>-57.627687</td>\n",
              "      <td>-57.376619</td>\n",
              "      <td>-56.733160</td>\n",
              "      <td>-58.539036</td>\n",
              "      <td>-58.086162</td>\n",
              "      <td>-56.690199</td>\n",
              "    </tr>\n",
              "    <tr>\n",
              "      <th>...</th>\n",
              "      <td>...</td>\n",
              "      <td>...</td>\n",
              "      <td>...</td>\n",
              "      <td>...</td>\n",
              "      <td>...</td>\n",
              "      <td>...</td>\n",
              "      <td>...</td>\n",
              "      <td>...</td>\n",
              "      <td>...</td>\n",
              "      <td>...</td>\n",
              "      <td>...</td>\n",
              "      <td>...</td>\n",
              "      <td>...</td>\n",
              "      <td>...</td>\n",
              "      <td>...</td>\n",
              "      <td>...</td>\n",
              "      <td>...</td>\n",
              "      <td>...</td>\n",
              "      <td>...</td>\n",
              "      <td>...</td>\n",
              "      <td>...</td>\n",
              "    </tr>\n",
              "    <tr>\n",
              "      <th>1699</th>\n",
              "      <td>2000</td>\n",
              "      <td>-39.060418</td>\n",
              "      <td>-40.089715</td>\n",
              "      <td>-39.184312</td>\n",
              "      <td>-33.321699</td>\n",
              "      <td>-32.394581</td>\n",
              "      <td>-30.766774</td>\n",
              "      <td>-35.433400</td>\n",
              "      <td>-39.636295</td>\n",
              "      <td>-39.572805</td>\n",
              "      <td>...</td>\n",
              "      <td>-36.158246</td>\n",
              "      <td>-34.974566</td>\n",
              "      <td>-33.677152</td>\n",
              "      <td>-32.461789</td>\n",
              "      <td>-31.697031</td>\n",
              "      <td>-30.033924</td>\n",
              "      <td>-33.492361</td>\n",
              "      <td>-34.387412</td>\n",
              "      <td>-33.308819</td>\n",
              "      <td>-30.242322</td>\n",
              "    </tr>\n",
              "    <tr>\n",
              "      <th>1724</th>\n",
              "      <td>2000</td>\n",
              "      <td>-45.777276</td>\n",
              "      <td>-39.520381</td>\n",
              "      <td>-35.212366</td>\n",
              "      <td>-31.215854</td>\n",
              "      <td>-31.976366</td>\n",
              "      <td>-33.063281</td>\n",
              "      <td>-32.262853</td>\n",
              "      <td>-35.781499</td>\n",
              "      <td>-35.580851</td>\n",
              "      <td>...</td>\n",
              "      <td>-32.811077</td>\n",
              "      <td>-33.647974</td>\n",
              "      <td>-34.523244</td>\n",
              "      <td>-34.873656</td>\n",
              "      <td>-38.167460</td>\n",
              "      <td>-35.568105</td>\n",
              "      <td>-38.499464</td>\n",
              "      <td>-41.863667</td>\n",
              "      <td>-44.503764</td>\n",
              "      <td>-46.884585</td>\n",
              "    </tr>\n",
              "    <tr>\n",
              "      <th>1749</th>\n",
              "      <td>2000</td>\n",
              "      <td>-33.005394</td>\n",
              "      <td>-37.672756</td>\n",
              "      <td>-39.242985</td>\n",
              "      <td>-37.025965</td>\n",
              "      <td>-37.250896</td>\n",
              "      <td>-32.485086</td>\n",
              "      <td>-34.725450</td>\n",
              "      <td>-31.833082</td>\n",
              "      <td>-35.461288</td>\n",
              "      <td>...</td>\n",
              "      <td>-39.867905</td>\n",
              "      <td>-42.487405</td>\n",
              "      <td>-36.881447</td>\n",
              "      <td>-32.796440</td>\n",
              "      <td>-31.492113</td>\n",
              "      <td>-36.181981</td>\n",
              "      <td>-36.404388</td>\n",
              "      <td>-32.599868</td>\n",
              "      <td>-32.605291</td>\n",
              "      <td>-35.086710</td>\n",
              "    </tr>\n",
              "    <tr>\n",
              "      <th>2399</th>\n",
              "      <td>2000</td>\n",
              "      <td>-36.358480</td>\n",
              "      <td>-32.709908</td>\n",
              "      <td>-31.364002</td>\n",
              "      <td>-33.805751</td>\n",
              "      <td>-35.584646</td>\n",
              "      <td>-32.223232</td>\n",
              "      <td>-30.862095</td>\n",
              "      <td>-28.720843</td>\n",
              "      <td>-31.102346</td>\n",
              "      <td>...</td>\n",
              "      <td>-34.051539</td>\n",
              "      <td>-35.013313</td>\n",
              "      <td>-33.634516</td>\n",
              "      <td>-34.267799</td>\n",
              "      <td>-36.189625</td>\n",
              "      <td>-35.279263</td>\n",
              "      <td>-33.557900</td>\n",
              "      <td>-30.107759</td>\n",
              "      <td>-31.016528</td>\n",
              "      <td>-34.939487</td>\n",
              "    </tr>\n",
              "    <tr>\n",
              "      <th>2499</th>\n",
              "      <td>2000</td>\n",
              "      <td>-36.594143</td>\n",
              "      <td>-34.475890</td>\n",
              "      <td>-33.258314</td>\n",
              "      <td>-32.997151</td>\n",
              "      <td>-34.153190</td>\n",
              "      <td>-33.800276</td>\n",
              "      <td>-39.023602</td>\n",
              "      <td>-39.579739</td>\n",
              "      <td>-37.540062</td>\n",
              "      <td>...</td>\n",
              "      <td>-36.764209</td>\n",
              "      <td>-32.024320</td>\n",
              "      <td>-34.295020</td>\n",
              "      <td>-33.652013</td>\n",
              "      <td>-33.606912</td>\n",
              "      <td>-39.131861</td>\n",
              "      <td>-38.559208</td>\n",
              "      <td>-37.035780</td>\n",
              "      <td>-35.035530</td>\n",
              "      <td>-31.978698</td>\n",
              "    </tr>\n",
              "  </tbody>\n",
              "</table>\n",
              "<p>2500 rows × 2398 columns</p>\n",
              "</div>\n",
              "      <button class=\"colab-df-convert\" onclick=\"convertToInteractive('df-f606aa42-3246-424e-9d5f-a381f0e8df03')\"\n",
              "              title=\"Convert this dataframe to an interactive table.\"\n",
              "              style=\"display:none;\">\n",
              "        \n",
              "  <svg xmlns=\"http://www.w3.org/2000/svg\" height=\"24px\"viewBox=\"0 0 24 24\"\n",
              "       width=\"24px\">\n",
              "    <path d=\"M0 0h24v24H0V0z\" fill=\"none\"/>\n",
              "    <path d=\"M18.56 5.44l.94 2.06.94-2.06 2.06-.94-2.06-.94-.94-2.06-.94 2.06-2.06.94zm-11 1L8.5 8.5l.94-2.06 2.06-.94-2.06-.94L8.5 2.5l-.94 2.06-2.06.94zm10 10l.94 2.06.94-2.06 2.06-.94-2.06-.94-.94-2.06-.94 2.06-2.06.94z\"/><path d=\"M17.41 7.96l-1.37-1.37c-.4-.4-.92-.59-1.43-.59-.52 0-1.04.2-1.43.59L10.3 9.45l-7.72 7.72c-.78.78-.78 2.05 0 2.83L4 21.41c.39.39.9.59 1.41.59.51 0 1.02-.2 1.41-.59l7.78-7.78 2.81-2.81c.8-.78.8-2.07 0-2.86zM5.41 20L4 18.59l7.72-7.72 1.47 1.35L5.41 20z\"/>\n",
              "  </svg>\n",
              "      </button>\n",
              "      \n",
              "  <style>\n",
              "    .colab-df-container {\n",
              "      display:flex;\n",
              "      flex-wrap:wrap;\n",
              "      gap: 12px;\n",
              "    }\n",
              "\n",
              "    .colab-df-convert {\n",
              "      background-color: #E8F0FE;\n",
              "      border: none;\n",
              "      border-radius: 50%;\n",
              "      cursor: pointer;\n",
              "      display: none;\n",
              "      fill: #1967D2;\n",
              "      height: 32px;\n",
              "      padding: 0 0 0 0;\n",
              "      width: 32px;\n",
              "    }\n",
              "\n",
              "    .colab-df-convert:hover {\n",
              "      background-color: #E2EBFA;\n",
              "      box-shadow: 0px 1px 2px rgba(60, 64, 67, 0.3), 0px 1px 3px 1px rgba(60, 64, 67, 0.15);\n",
              "      fill: #174EA6;\n",
              "    }\n",
              "\n",
              "    [theme=dark] .colab-df-convert {\n",
              "      background-color: #3B4455;\n",
              "      fill: #D2E3FC;\n",
              "    }\n",
              "\n",
              "    [theme=dark] .colab-df-convert:hover {\n",
              "      background-color: #434B5C;\n",
              "      box-shadow: 0px 1px 3px 1px rgba(0, 0, 0, 0.15);\n",
              "      filter: drop-shadow(0px 1px 2px rgba(0, 0, 0, 0.3));\n",
              "      fill: #FFFFFF;\n",
              "    }\n",
              "  </style>\n",
              "\n",
              "      <script>\n",
              "        const buttonEl =\n",
              "          document.querySelector('#df-f606aa42-3246-424e-9d5f-a381f0e8df03 button.colab-df-convert');\n",
              "        buttonEl.style.display =\n",
              "          google.colab.kernel.accessAllowed ? 'block' : 'none';\n",
              "\n",
              "        async function convertToInteractive(key) {\n",
              "          const element = document.querySelector('#df-f606aa42-3246-424e-9d5f-a381f0e8df03');\n",
              "          const dataTable =\n",
              "            await google.colab.kernel.invokeFunction('convertToInteractive',\n",
              "                                                     [key], {});\n",
              "          if (!dataTable) return;\n",
              "\n",
              "          const docLinkHtml = 'Like what you see? Visit the ' +\n",
              "            '<a target=\"_blank\" href=https://colab.research.google.com/notebooks/data_table.ipynb>data table notebook</a>'\n",
              "            + ' to learn more about interactive tables.';\n",
              "          element.innerHTML = '';\n",
              "          dataTable['output_type'] = 'display_data';\n",
              "          await google.colab.output.renderOutput(dataTable, element);\n",
              "          const docLink = document.createElement('div');\n",
              "          docLink.innerHTML = docLinkHtml;\n",
              "          element.appendChild(docLink);\n",
              "        }\n",
              "      </script>\n",
              "    </div>\n",
              "  </div>\n",
              "  "
            ]
          },
          "metadata": {},
          "execution_count": 13
        }
      ]
    },
    {
      "cell_type": "markdown",
      "source": [
        "# Vanila Attack"
      ],
      "metadata": {
        "id": "QU_SPRfwgvAI"
      }
    },
    {
      "cell_type": "code",
      "source": [
        "def get_eval_data(source_df, target_df, num_eval_samples = 10):\n",
        "  import random\n",
        "  source_val_list = [i for i in range(1, len(source_df))]\n",
        "  source_random_list = random.choices(source_val_list, k = num_eval_samples)\n",
        "\n",
        "  target_val_list = [i for i in range(1, len(target_df))]\n",
        "  target_random_list = random.choices(target_val_list, k = num_eval_samples)\n",
        "\n",
        "  eval_source_df = source_df.iloc[source_random_list]\n",
        "  eval_target_df = target_df.iloc[target_random_list]\n",
        "\n",
        "  return eval_source_df, eval_target_df"
      ],
      "metadata": {
        "id": "8Jgx2IuHjDSw"
      },
      "execution_count": 58,
      "outputs": []
    },
    {
      "cell_type": "code",
      "source": [
        "def get_filtered_data(df, alpha = 0.90):\n",
        "  data_df = df.iloc[:, 1:df.shape[1]]\n",
        "  ci_arr = []\n",
        "  filtered_data = []\n",
        "  mean_data = []\n",
        "  for i in range(0, data_df.shape[1]):\n",
        "    eval_col = data_df.iloc[:,i].to_numpy()\n",
        "    ci = st.t.interval(alpha=alpha, df=len(eval_col)-1, loc=np.mean(eval_col), scale=st.sem(eval_col))\n",
        "    ci = (round(ci[0], 5), round(ci[1], 5))\n",
        "    ci_arr.append(ci)\n",
        "    filter_data = eval_col[(eval_col > ci[0]) & (eval_col < ci[1])]\n",
        "    filter_data = np.round_(filter_data, decimals = 5)\n",
        "    filtered_data.append(filter_data)\n",
        "    mean_data.append(round(np.mean(filter_data), 5))\n",
        "  return ci_arr, filtered_data, mean_data"
      ],
      "metadata": {
        "id": "Xy_sX84eTnsX"
      },
      "execution_count": 59,
      "outputs": []
    },
    {
      "cell_type": "code",
      "source": [
        "def get_delta(source_mean_data, target_mean_data):\n",
        "  deltas = []\n",
        "  for i in range(len(source_mean_data)):\n",
        "    delta = round(source_mean_data[i]-target_mean_data[i], 5)\n",
        "    deltas.append(delta)\n",
        "    \n",
        "  return deltas"
      ],
      "metadata": {
        "id": "JvN3ggzZjjwS"
      },
      "execution_count": 60,
      "outputs": []
    },
    {
      "cell_type": "code",
      "source": [
        "def mod_target(source_filtered_data, deltas_calc, delta_allowance= 0.05):\n",
        "  import random\n",
        "  cnt = 0\n",
        "  mod_target_samples = []\n",
        "  for col in source_filtered_data:\n",
        "    mod_target_col = []\n",
        "    for val in col:\n",
        "      if deltas_calc[cnt]<(-delta_allowance):\n",
        "        new_val = val + (deltas_calc[cnt]+random.uniform(-2, 2))\n",
        "      elif deltas_calc[cnt]>(delta_allowance):\n",
        "        new_val = val - (deltas_calc[cnt]+random.uniform(-2, 2))\n",
        "      else:\n",
        "        new_val = val+(deltas_calc[cnt]+random.uniform(-2, 2))\n",
        "      new_val = round(new_val, 5)\n",
        "      mod_target_col.append(new_val)\n",
        "    cnt += 1\n",
        "    mod_target_samples.append(mod_target_col)\n",
        "  return mod_target_samples"
      ],
      "metadata": {
        "id": "bNaqtxyCm10H"
      },
      "execution_count": 61,
      "outputs": []
    },
    {
      "cell_type": "code",
      "source": [
        "def get_mod_target_sample(mod_source_samples):\n",
        "  from scipy.signal import savgol_filter\n",
        "\n",
        "  mod_result = []\n",
        "  for col in mod_source_samples:\n",
        "    mod_result.append(round(np.mean(col), 5))\n",
        "\n",
        "  mod_result_smoothed = savgol_filter(mod_result, 7, 4)\n",
        "  return mod_result_smoothed"
      ],
      "metadata": {
        "id": "kfcy_NHqo1BS"
      },
      "execution_count": 62,
      "outputs": []
    },
    {
      "cell_type": "code",
      "source": [
        "def main_mod_data(source_df, target_df, num_eval_samples = 30, alpha=0.9):\n",
        "  eval_source_df, eval_target_df = get_eval_data(source_df, target_df, num_eval_samples = 30)\n",
        "  source_ci_arr, source_filtered_data, source_mean_data = get_filtered_data(eval_source_df, alpha = 0.99)\n",
        "  target_ci_arr, target_filtered_data, target_mean_data = get_filtered_data(eval_target_df, alpha = alpha)\n",
        "  deltas_calc = get_delta(source_mean_data, target_mean_data)\n",
        "  mod_source_samples = mod_target(source_filtered_data, deltas_calc, delta_allowance = 0.005)\n",
        "  mod_result_smoothed = get_mod_target_sample(mod_source_samples)\n",
        "\n",
        "  return mod_result_smoothed, source_mean_data, target_mean_data"
      ],
      "metadata": {
        "id": "SWQyP_lzx3Rd"
      },
      "execution_count": 63,
      "outputs": []
    },
    {
      "cell_type": "code",
      "source": [
        "num_of_new_moded_samples = 30\n",
        "source_val = 1040\n",
        "target_val = 80\n",
        "source_df = samples_filtered_df.loc[samples_filtered_df['Distance_km'] == source_val]\n",
        "target_df = samples_filtered_df.loc[samples_filtered_df['Distance_km'] == target_val]\n",
        "\n",
        "col_headers = samples_filtered_df.columns.values.tolist()\n",
        "col_headers = col_headers[1:]\n",
        "\n",
        "data = []\n",
        "for i in tqdm(range(0, num_of_new_moded_samples)):\n",
        "  mod_result_smoothed, source_mean_data, target_mean_data = main_mod_data(source_df, target_df, num_eval_samples = 30, alpha=0.9)\n",
        "  data.append(mod_result_smoothed)\n",
        "\n",
        "moded_samples_df = pd.DataFrame(data, columns = col_headers)\n",
        "\n",
        "moded_samples_df.to_csv(path+\"/Spectrum/attack_vanila/moded_data_\"+str(source_val)+\"_to_\"+str(target_val)+\".csv\", index=False)"
      ],
      "metadata": {
        "colab": {
          "base_uri": "https://localhost:8080/"
        },
        "id": "v-kRqTzK01kW",
        "outputId": "392af596-053f-4810-a618-6e0774ce85ef"
      },
      "execution_count": 64,
      "outputs": [
        {
          "output_type": "stream",
          "name": "stderr",
          "text": [
            "100%|██████████| 30/30 [01:46<00:00,  3.54s/it]\n"
          ]
        }
      ]
    },
    {
      "cell_type": "markdown",
      "source": [
        "# Test Vanila Attack"
      ],
      "metadata": {
        "id": "jm34tnpsXZWw"
      }
    },
    {
      "cell_type": "code",
      "source": [
        "#vanila\n",
        "mod_data_df = pd.read_csv(path+\"/Spectrum/attack_vanila/moded_data_2000_to_80.csv\")\n",
        "#vae\n",
        "mod_data_df = pd.read_csv(path+\"/Spectrum/attack_vae/syntectic_data/moded_data_80.csv\")\n",
        "\n",
        "reference_freq_data_df = pd.read_csv(path+\"/Spectrum/NN/train_test_splits/mod_bootstraped_new_data_Reference_NN_freq_10_reference_30.csv\")\n",
        "sample_freq_data_df = pd.read_csv(path+\"/Spectrum/NN/train_test_splits/mod_bootstraped_new_data_Sample_NN_freq_10_reference_30.csv\")"
      ],
      "metadata": {
        "id": "M-DklkgLXw-y"
      },
      "execution_count": 97,
      "outputs": []
    },
    {
      "cell_type": "code",
      "source": [
        "freq_in_references = reference_freq_data_df.columns.values.tolist()\n",
        "headers_in_references = freq_in_references[6:]\n",
        "\n",
        "mod_data_df_freq_filtered = mod_data_df[headers_in_references]\n",
        "mod_data = mod_data_df_freq_filtered.to_numpy()"
      ],
      "metadata": {
        "id": "OPsAc4ZrcMhw"
      },
      "execution_count": 98,
      "outputs": []
    },
    {
      "cell_type": "code",
      "source": [
        "def get_features(data, data_Y, reference_freq_data_df):\n",
        "\n",
        "  features_data = []\n",
        "\n",
        "  for data_X in data:\n",
        "    data_ci = st.t.interval(alpha=0.90, df=len(data_X)-1, loc=np.mean(data_X), scale=st.sem(data_X))\n",
        "    data_confidence_int_lower = data_ci[0]\n",
        "    data_confidence_int_upper = data_ci[1]\n",
        "\n",
        "    # Get reference data -----------------\n",
        "    distance_reference_df = reference_freq_data_df.loc[reference_freq_data_df['Distance_km'] == data_Y]\n",
        "\n",
        "    pearson_vals = []\n",
        "    confidence_vals_lower = []\n",
        "    confidence_vals_upper = []\n",
        "    for reference_row in range(0, distance_reference_df.shape[0]):\n",
        "      reference_X = np.array(distance_reference_df.iloc[reference_row,6:distance_reference_df.shape[1]])\n",
        "      pearson_vals.append(round(pearsonr(data_X, reference_X)[0], 5))\n",
        "\n",
        "      reference_ci = st.t.interval(alpha=0.90, df=len(reference_X)-1, loc=np.mean(reference_X), scale=st.sem(reference_X))\n",
        "      reference_confidence_int_lower = reference_ci[0]\n",
        "      confidence_vals_lower.append(round(abs(reference_confidence_int_lower - data_confidence_int_lower), 5))\n",
        "      reference_confidence_int_upper = reference_ci[1]\n",
        "      confidence_vals_upper.append(round(abs(reference_confidence_int_upper - data_confidence_int_upper),5))\n",
        "\n",
        "    features_data.append([round(np.std(data_X), 5), #mean\n",
        "                          round(np.mean(data_X), 5), #std \n",
        "                          round(np.min(pearson_vals), 5), #pearson min\n",
        "                          round(np.mean(pearson_vals), 5), #pearson mean\n",
        "                          round(np.max(pearson_vals), 5), #pearson max\n",
        "                          round(np.min(confidence_vals_lower), 5), #delta ci min\n",
        "                          round(np.min(confidence_vals_upper), 5)]) #delta ci max\n",
        "\n",
        "  return features_data"
      ],
      "metadata": {
        "id": "T6WJuYhSaUn4"
      },
      "execution_count": 99,
      "outputs": []
    },
    {
      "cell_type": "code",
      "source": [
        "features_data = get_features(mod_data, 80, reference_freq_data_df)"
      ],
      "metadata": {
        "id": "FCB9b_dYaZmM"
      },
      "execution_count": 100,
      "outputs": []
    },
    {
      "cell_type": "code",
      "source": [
        "# Load network\n",
        "from keras.models import Sequential\n",
        "from keras.layers import Dense,Conv2D, Flatten\n",
        "from keras.wrappers.scikit_learn import KerasRegressor\n",
        "from keras.callbacks import EarlyStopping\n",
        "from tqdm.keras import TqdmCallback\n",
        "\n",
        "def ann():\n",
        "    model = Sequential()\n",
        "    model.add(Dense(76, input_dim = 7, activation = 'tanh'))\n",
        "    model.add(Dense(38,activation='tanh'))\n",
        "    model.add(Dense(38,activation='tanh'))\n",
        "    model.add(Dense(19,activation='tanh'))\n",
        "    model.add(Dense(19,activation='tanh'))\n",
        "    model.add(Dense(9,activation='tanh'))\n",
        "    model.add(Dense(9,activation='tanh'))\n",
        "    model.add(Dense(1))\n",
        "    model.compile(loss ='mean_squared_error',optimizer = 'RMSprop')\n",
        "    return model\n",
        "\n",
        "# Load network\n",
        "from keras.models import load_model\n",
        "mm = KerasRegressor(build_fn=ann, epochs=2500, batch_size=8, verbose=0)\n",
        "mm.model = load_model(path+\"/Spectrum/NN/NNs/mod_bootstraped_final_new_data_NN_model_freq_10_reference_30_epochs_2500.h5\")\n",
        "\n",
        "# Predit\n",
        "Y_test_pred=mm.predict(features_data)\n",
        "pred=list(Y_test_pred)\n",
        "\n",
        "dist_min=80\n",
        "dist_max=2000\n",
        "\n",
        "pred_abs=np.add(dist_min,np.multiply((dist_max-dist_min),pred)) # convert back to distances values from scalar"
      ],
      "metadata": {
        "id": "79l3XCXiYB6B"
      },
      "execution_count": 104,
      "outputs": []
    },
    {
      "cell_type": "code",
      "source": [
        "pred_abs"
      ],
      "metadata": {
        "colab": {
          "base_uri": "https://localhost:8080/"
        },
        "id": "QnVJ1Ee1fc9d",
        "outputId": "b3bf5f8a-d80b-4289-c0bf-4f4278158af0"
      },
      "execution_count": 107,
      "outputs": [
        {
          "output_type": "execute_result",
          "data": {
            "text/plain": [
              "array([1355.3134, 1355.2507, 1355.4001, 1355.3138, 1355.3403, 1355.2688,\n",
              "       1355.3589, 1355.2955, 1355.3469, 1355.3751, 1355.3528, 1355.3116,\n",
              "       1355.3662, 1355.4191, 1355.3948, 1355.3074, 1355.2556, 1355.3799,\n",
              "       1355.3103, 1355.3198, 1355.3401, 1355.3492, 1355.3562, 1355.3596,\n",
              "       1355.3531, 1355.3568, 1355.3923, 1355.4437, 1355.4099, 1355.3412],\n",
              "      dtype=float32)"
            ]
          },
          "metadata": {},
          "execution_count": 107
        }
      ]
    },
    {
      "cell_type": "markdown",
      "source": [
        "# Variational AutoEncoder Attack"
      ],
      "metadata": {
        "id": "rw7pqa5BFT1l"
      }
    },
    {
      "cell_type": "code",
      "source": [
        "import tensorflow\n",
        "import numpy\n",
        "import matplotlib.pyplot"
      ],
      "metadata": {
        "id": "yN-eV7WhFfJr"
      },
      "execution_count": null,
      "outputs": []
    },
    {
      "cell_type": "code",
      "source": [
        "input_size = samples_filtered_df.shape[1] - 1\n",
        "latent_space_dim = 2\n",
        "distance_to_eval = 80"
      ],
      "metadata": {
        "id": "1r9jKpbMFcT3"
      },
      "execution_count": null,
      "outputs": []
    },
    {
      "cell_type": "markdown",
      "source": [
        "## load dataset"
      ],
      "metadata": {
        "id": "J3BK0NzzGbLb"
      }
    },
    {
      "cell_type": "code",
      "source": [
        "samples_filtered_df"
      ],
      "metadata": {
        "id": "6wsRjpABkS6t",
        "outputId": "bf37083c-97c9-418c-b0d6-e52eb9f442d8",
        "colab": {
          "base_uri": "https://localhost:8080/"
        }
      },
      "execution_count": null,
      "outputs": [
        {
          "output_type": "execute_result",
          "data": {
            "text/plain": [
              "      Distance_km  -39.90625    -39.875  -39.84375   -39.8125  -39.78125  \\\n",
              "0              80 -65.158556 -66.359675 -66.708836 -71.777931 -66.092081   \n",
              "125            80 -54.902319 -57.469566 -58.650167 -58.256577 -57.120871   \n",
              "975            80 -55.246289 -58.903165 -59.936123 -58.754704 -53.084186   \n",
              "1000           80 -58.769150 -60.644357 -61.903338 -66.371732 -60.697843   \n",
              "1025           80 -62.672232 -63.551920 -63.130158 -61.900052 -61.208010   \n",
              "...           ...        ...        ...        ...        ...        ...   \n",
              "1699         2000 -39.060418 -40.089715 -39.184312 -33.321699 -32.394581   \n",
              "1724         2000 -45.777276 -39.520381 -35.212366 -31.215854 -31.976366   \n",
              "1749         2000 -33.005394 -37.672756 -39.242985 -37.025965 -37.250896   \n",
              "2399         2000 -36.358480 -32.709908 -31.364002 -33.805751 -35.584646   \n",
              "2499         2000 -36.594143 -34.475890 -33.258314 -32.997151 -34.153190   \n",
              "\n",
              "         -39.75  -39.71875   -39.6875  -39.65625  ...    34.6875   34.71875  \\\n",
              "0    -53.716181 -56.447556 -55.216247 -54.921922  ... -59.107222 -62.993632   \n",
              "125  -54.832446 -56.585764 -58.167556 -57.408129  ... -57.627135 -64.548644   \n",
              "975  -50.990158 -51.881985 -58.366417 -61.236644  ... -58.538788 -60.779631   \n",
              "1000 -58.893096 -60.500364 -63.977091 -61.713541  ... -61.793840 -58.908770   \n",
              "1025 -62.534571 -63.881451 -61.861091 -67.207673  ... -59.124382 -59.038588   \n",
              "...         ...        ...        ...        ...  ...        ...        ...   \n",
              "1699 -30.766774 -35.433400 -39.636295 -39.572805  ... -36.158246 -34.974566   \n",
              "1724 -33.063281 -32.262853 -35.781499 -35.580851  ... -32.811077 -33.647974   \n",
              "1749 -32.485086 -34.725450 -31.833082 -35.461288  ... -39.867905 -42.487405   \n",
              "2399 -32.223232 -30.862095 -28.720843 -31.102346  ... -34.051539 -35.013313   \n",
              "2499 -33.800276 -39.023602 -39.579739 -37.540062  ... -36.764209 -32.024320   \n",
              "\n",
              "          34.75   34.78125    34.8125   34.84375     34.875   34.90625  \\\n",
              "0    -54.834111 -54.361885 -64.653201 -69.901475 -61.469377 -54.784317   \n",
              "125  -65.637002 -63.156643 -58.177577 -59.985663 -58.031358 -60.922607   \n",
              "975  -60.445396 -60.851264 -59.971745 -59.222002 -61.642559 -61.885148   \n",
              "1000 -60.404921 -60.130890 -61.535060 -55.319260 -59.725285 -63.973778   \n",
              "1025 -59.114337 -57.422896 -57.627687 -57.376619 -56.733160 -58.539036   \n",
              "...         ...        ...        ...        ...        ...        ...   \n",
              "1699 -33.677152 -32.461789 -31.697031 -30.033924 -33.492361 -34.387412   \n",
              "1724 -34.523244 -34.873656 -38.167460 -35.568105 -38.499464 -41.863667   \n",
              "1749 -36.881447 -32.796440 -31.492113 -36.181981 -36.404388 -32.599868   \n",
              "2399 -33.634516 -34.267799 -36.189625 -35.279263 -33.557900 -30.107759   \n",
              "2499 -34.295020 -33.652013 -33.606912 -39.131861 -38.559208 -37.035780   \n",
              "\n",
              "        34.9375   34.96875  \n",
              "0    -55.229285 -61.405108  \n",
              "125  -59.679082 -56.034034  \n",
              "975  -61.544703 -59.897084  \n",
              "1000 -61.619858 -53.937357  \n",
              "1025 -58.086162 -56.690199  \n",
              "...         ...        ...  \n",
              "1699 -33.308819 -30.242322  \n",
              "1724 -44.503764 -46.884585  \n",
              "1749 -32.605291 -35.086710  \n",
              "2399 -31.016528 -34.939487  \n",
              "2499 -35.035530 -31.978698  \n",
              "\n",
              "[2500 rows x 2398 columns]"
            ],
            "text/html": [
              "\n",
              "  <div id=\"df-3c474a26-94e0-4481-bfc9-b69114911348\">\n",
              "    <div class=\"colab-df-container\">\n",
              "      <div>\n",
              "<style scoped>\n",
              "    .dataframe tbody tr th:only-of-type {\n",
              "        vertical-align: middle;\n",
              "    }\n",
              "\n",
              "    .dataframe tbody tr th {\n",
              "        vertical-align: top;\n",
              "    }\n",
              "\n",
              "    .dataframe thead th {\n",
              "        text-align: right;\n",
              "    }\n",
              "</style>\n",
              "<table border=\"1\" class=\"dataframe\">\n",
              "  <thead>\n",
              "    <tr style=\"text-align: right;\">\n",
              "      <th></th>\n",
              "      <th>Distance_km</th>\n",
              "      <th>-39.90625</th>\n",
              "      <th>-39.875</th>\n",
              "      <th>-39.84375</th>\n",
              "      <th>-39.8125</th>\n",
              "      <th>-39.78125</th>\n",
              "      <th>-39.75</th>\n",
              "      <th>-39.71875</th>\n",
              "      <th>-39.6875</th>\n",
              "      <th>-39.65625</th>\n",
              "      <th>...</th>\n",
              "      <th>34.6875</th>\n",
              "      <th>34.71875</th>\n",
              "      <th>34.75</th>\n",
              "      <th>34.78125</th>\n",
              "      <th>34.8125</th>\n",
              "      <th>34.84375</th>\n",
              "      <th>34.875</th>\n",
              "      <th>34.90625</th>\n",
              "      <th>34.9375</th>\n",
              "      <th>34.96875</th>\n",
              "    </tr>\n",
              "  </thead>\n",
              "  <tbody>\n",
              "    <tr>\n",
              "      <th>0</th>\n",
              "      <td>80</td>\n",
              "      <td>-65.158556</td>\n",
              "      <td>-66.359675</td>\n",
              "      <td>-66.708836</td>\n",
              "      <td>-71.777931</td>\n",
              "      <td>-66.092081</td>\n",
              "      <td>-53.716181</td>\n",
              "      <td>-56.447556</td>\n",
              "      <td>-55.216247</td>\n",
              "      <td>-54.921922</td>\n",
              "      <td>...</td>\n",
              "      <td>-59.107222</td>\n",
              "      <td>-62.993632</td>\n",
              "      <td>-54.834111</td>\n",
              "      <td>-54.361885</td>\n",
              "      <td>-64.653201</td>\n",
              "      <td>-69.901475</td>\n",
              "      <td>-61.469377</td>\n",
              "      <td>-54.784317</td>\n",
              "      <td>-55.229285</td>\n",
              "      <td>-61.405108</td>\n",
              "    </tr>\n",
              "    <tr>\n",
              "      <th>125</th>\n",
              "      <td>80</td>\n",
              "      <td>-54.902319</td>\n",
              "      <td>-57.469566</td>\n",
              "      <td>-58.650167</td>\n",
              "      <td>-58.256577</td>\n",
              "      <td>-57.120871</td>\n",
              "      <td>-54.832446</td>\n",
              "      <td>-56.585764</td>\n",
              "      <td>-58.167556</td>\n",
              "      <td>-57.408129</td>\n",
              "      <td>...</td>\n",
              "      <td>-57.627135</td>\n",
              "      <td>-64.548644</td>\n",
              "      <td>-65.637002</td>\n",
              "      <td>-63.156643</td>\n",
              "      <td>-58.177577</td>\n",
              "      <td>-59.985663</td>\n",
              "      <td>-58.031358</td>\n",
              "      <td>-60.922607</td>\n",
              "      <td>-59.679082</td>\n",
              "      <td>-56.034034</td>\n",
              "    </tr>\n",
              "    <tr>\n",
              "      <th>975</th>\n",
              "      <td>80</td>\n",
              "      <td>-55.246289</td>\n",
              "      <td>-58.903165</td>\n",
              "      <td>-59.936123</td>\n",
              "      <td>-58.754704</td>\n",
              "      <td>-53.084186</td>\n",
              "      <td>-50.990158</td>\n",
              "      <td>-51.881985</td>\n",
              "      <td>-58.366417</td>\n",
              "      <td>-61.236644</td>\n",
              "      <td>...</td>\n",
              "      <td>-58.538788</td>\n",
              "      <td>-60.779631</td>\n",
              "      <td>-60.445396</td>\n",
              "      <td>-60.851264</td>\n",
              "      <td>-59.971745</td>\n",
              "      <td>-59.222002</td>\n",
              "      <td>-61.642559</td>\n",
              "      <td>-61.885148</td>\n",
              "      <td>-61.544703</td>\n",
              "      <td>-59.897084</td>\n",
              "    </tr>\n",
              "    <tr>\n",
              "      <th>1000</th>\n",
              "      <td>80</td>\n",
              "      <td>-58.769150</td>\n",
              "      <td>-60.644357</td>\n",
              "      <td>-61.903338</td>\n",
              "      <td>-66.371732</td>\n",
              "      <td>-60.697843</td>\n",
              "      <td>-58.893096</td>\n",
              "      <td>-60.500364</td>\n",
              "      <td>-63.977091</td>\n",
              "      <td>-61.713541</td>\n",
              "      <td>...</td>\n",
              "      <td>-61.793840</td>\n",
              "      <td>-58.908770</td>\n",
              "      <td>-60.404921</td>\n",
              "      <td>-60.130890</td>\n",
              "      <td>-61.535060</td>\n",
              "      <td>-55.319260</td>\n",
              "      <td>-59.725285</td>\n",
              "      <td>-63.973778</td>\n",
              "      <td>-61.619858</td>\n",
              "      <td>-53.937357</td>\n",
              "    </tr>\n",
              "    <tr>\n",
              "      <th>1025</th>\n",
              "      <td>80</td>\n",
              "      <td>-62.672232</td>\n",
              "      <td>-63.551920</td>\n",
              "      <td>-63.130158</td>\n",
              "      <td>-61.900052</td>\n",
              "      <td>-61.208010</td>\n",
              "      <td>-62.534571</td>\n",
              "      <td>-63.881451</td>\n",
              "      <td>-61.861091</td>\n",
              "      <td>-67.207673</td>\n",
              "      <td>...</td>\n",
              "      <td>-59.124382</td>\n",
              "      <td>-59.038588</td>\n",
              "      <td>-59.114337</td>\n",
              "      <td>-57.422896</td>\n",
              "      <td>-57.627687</td>\n",
              "      <td>-57.376619</td>\n",
              "      <td>-56.733160</td>\n",
              "      <td>-58.539036</td>\n",
              "      <td>-58.086162</td>\n",
              "      <td>-56.690199</td>\n",
              "    </tr>\n",
              "    <tr>\n",
              "      <th>...</th>\n",
              "      <td>...</td>\n",
              "      <td>...</td>\n",
              "      <td>...</td>\n",
              "      <td>...</td>\n",
              "      <td>...</td>\n",
              "      <td>...</td>\n",
              "      <td>...</td>\n",
              "      <td>...</td>\n",
              "      <td>...</td>\n",
              "      <td>...</td>\n",
              "      <td>...</td>\n",
              "      <td>...</td>\n",
              "      <td>...</td>\n",
              "      <td>...</td>\n",
              "      <td>...</td>\n",
              "      <td>...</td>\n",
              "      <td>...</td>\n",
              "      <td>...</td>\n",
              "      <td>...</td>\n",
              "      <td>...</td>\n",
              "      <td>...</td>\n",
              "    </tr>\n",
              "    <tr>\n",
              "      <th>1699</th>\n",
              "      <td>2000</td>\n",
              "      <td>-39.060418</td>\n",
              "      <td>-40.089715</td>\n",
              "      <td>-39.184312</td>\n",
              "      <td>-33.321699</td>\n",
              "      <td>-32.394581</td>\n",
              "      <td>-30.766774</td>\n",
              "      <td>-35.433400</td>\n",
              "      <td>-39.636295</td>\n",
              "      <td>-39.572805</td>\n",
              "      <td>...</td>\n",
              "      <td>-36.158246</td>\n",
              "      <td>-34.974566</td>\n",
              "      <td>-33.677152</td>\n",
              "      <td>-32.461789</td>\n",
              "      <td>-31.697031</td>\n",
              "      <td>-30.033924</td>\n",
              "      <td>-33.492361</td>\n",
              "      <td>-34.387412</td>\n",
              "      <td>-33.308819</td>\n",
              "      <td>-30.242322</td>\n",
              "    </tr>\n",
              "    <tr>\n",
              "      <th>1724</th>\n",
              "      <td>2000</td>\n",
              "      <td>-45.777276</td>\n",
              "      <td>-39.520381</td>\n",
              "      <td>-35.212366</td>\n",
              "      <td>-31.215854</td>\n",
              "      <td>-31.976366</td>\n",
              "      <td>-33.063281</td>\n",
              "      <td>-32.262853</td>\n",
              "      <td>-35.781499</td>\n",
              "      <td>-35.580851</td>\n",
              "      <td>...</td>\n",
              "      <td>-32.811077</td>\n",
              "      <td>-33.647974</td>\n",
              "      <td>-34.523244</td>\n",
              "      <td>-34.873656</td>\n",
              "      <td>-38.167460</td>\n",
              "      <td>-35.568105</td>\n",
              "      <td>-38.499464</td>\n",
              "      <td>-41.863667</td>\n",
              "      <td>-44.503764</td>\n",
              "      <td>-46.884585</td>\n",
              "    </tr>\n",
              "    <tr>\n",
              "      <th>1749</th>\n",
              "      <td>2000</td>\n",
              "      <td>-33.005394</td>\n",
              "      <td>-37.672756</td>\n",
              "      <td>-39.242985</td>\n",
              "      <td>-37.025965</td>\n",
              "      <td>-37.250896</td>\n",
              "      <td>-32.485086</td>\n",
              "      <td>-34.725450</td>\n",
              "      <td>-31.833082</td>\n",
              "      <td>-35.461288</td>\n",
              "      <td>...</td>\n",
              "      <td>-39.867905</td>\n",
              "      <td>-42.487405</td>\n",
              "      <td>-36.881447</td>\n",
              "      <td>-32.796440</td>\n",
              "      <td>-31.492113</td>\n",
              "      <td>-36.181981</td>\n",
              "      <td>-36.404388</td>\n",
              "      <td>-32.599868</td>\n",
              "      <td>-32.605291</td>\n",
              "      <td>-35.086710</td>\n",
              "    </tr>\n",
              "    <tr>\n",
              "      <th>2399</th>\n",
              "      <td>2000</td>\n",
              "      <td>-36.358480</td>\n",
              "      <td>-32.709908</td>\n",
              "      <td>-31.364002</td>\n",
              "      <td>-33.805751</td>\n",
              "      <td>-35.584646</td>\n",
              "      <td>-32.223232</td>\n",
              "      <td>-30.862095</td>\n",
              "      <td>-28.720843</td>\n",
              "      <td>-31.102346</td>\n",
              "      <td>...</td>\n",
              "      <td>-34.051539</td>\n",
              "      <td>-35.013313</td>\n",
              "      <td>-33.634516</td>\n",
              "      <td>-34.267799</td>\n",
              "      <td>-36.189625</td>\n",
              "      <td>-35.279263</td>\n",
              "      <td>-33.557900</td>\n",
              "      <td>-30.107759</td>\n",
              "      <td>-31.016528</td>\n",
              "      <td>-34.939487</td>\n",
              "    </tr>\n",
              "    <tr>\n",
              "      <th>2499</th>\n",
              "      <td>2000</td>\n",
              "      <td>-36.594143</td>\n",
              "      <td>-34.475890</td>\n",
              "      <td>-33.258314</td>\n",
              "      <td>-32.997151</td>\n",
              "      <td>-34.153190</td>\n",
              "      <td>-33.800276</td>\n",
              "      <td>-39.023602</td>\n",
              "      <td>-39.579739</td>\n",
              "      <td>-37.540062</td>\n",
              "      <td>...</td>\n",
              "      <td>-36.764209</td>\n",
              "      <td>-32.024320</td>\n",
              "      <td>-34.295020</td>\n",
              "      <td>-33.652013</td>\n",
              "      <td>-33.606912</td>\n",
              "      <td>-39.131861</td>\n",
              "      <td>-38.559208</td>\n",
              "      <td>-37.035780</td>\n",
              "      <td>-35.035530</td>\n",
              "      <td>-31.978698</td>\n",
              "    </tr>\n",
              "  </tbody>\n",
              "</table>\n",
              "<p>2500 rows × 2398 columns</p>\n",
              "</div>\n",
              "      <button class=\"colab-df-convert\" onclick=\"convertToInteractive('df-3c474a26-94e0-4481-bfc9-b69114911348')\"\n",
              "              title=\"Convert this dataframe to an interactive table.\"\n",
              "              style=\"display:none;\">\n",
              "        \n",
              "  <svg xmlns=\"http://www.w3.org/2000/svg\" height=\"24px\"viewBox=\"0 0 24 24\"\n",
              "       width=\"24px\">\n",
              "    <path d=\"M0 0h24v24H0V0z\" fill=\"none\"/>\n",
              "    <path d=\"M18.56 5.44l.94 2.06.94-2.06 2.06-.94-2.06-.94-.94-2.06-.94 2.06-2.06.94zm-11 1L8.5 8.5l.94-2.06 2.06-.94-2.06-.94L8.5 2.5l-.94 2.06-2.06.94zm10 10l.94 2.06.94-2.06 2.06-.94-2.06-.94-.94-2.06-.94 2.06-2.06.94z\"/><path d=\"M17.41 7.96l-1.37-1.37c-.4-.4-.92-.59-1.43-.59-.52 0-1.04.2-1.43.59L10.3 9.45l-7.72 7.72c-.78.78-.78 2.05 0 2.83L4 21.41c.39.39.9.59 1.41.59.51 0 1.02-.2 1.41-.59l7.78-7.78 2.81-2.81c.8-.78.8-2.07 0-2.86zM5.41 20L4 18.59l7.72-7.72 1.47 1.35L5.41 20z\"/>\n",
              "  </svg>\n",
              "      </button>\n",
              "      \n",
              "  <style>\n",
              "    .colab-df-container {\n",
              "      display:flex;\n",
              "      flex-wrap:wrap;\n",
              "      gap: 12px;\n",
              "    }\n",
              "\n",
              "    .colab-df-convert {\n",
              "      background-color: #E8F0FE;\n",
              "      border: none;\n",
              "      border-radius: 50%;\n",
              "      cursor: pointer;\n",
              "      display: none;\n",
              "      fill: #1967D2;\n",
              "      height: 32px;\n",
              "      padding: 0 0 0 0;\n",
              "      width: 32px;\n",
              "    }\n",
              "\n",
              "    .colab-df-convert:hover {\n",
              "      background-color: #E2EBFA;\n",
              "      box-shadow: 0px 1px 2px rgba(60, 64, 67, 0.3), 0px 1px 3px 1px rgba(60, 64, 67, 0.15);\n",
              "      fill: #174EA6;\n",
              "    }\n",
              "\n",
              "    [theme=dark] .colab-df-convert {\n",
              "      background-color: #3B4455;\n",
              "      fill: #D2E3FC;\n",
              "    }\n",
              "\n",
              "    [theme=dark] .colab-df-convert:hover {\n",
              "      background-color: #434B5C;\n",
              "      box-shadow: 0px 1px 3px 1px rgba(0, 0, 0, 0.15);\n",
              "      filter: drop-shadow(0px 1px 2px rgba(0, 0, 0, 0.3));\n",
              "      fill: #FFFFFF;\n",
              "    }\n",
              "  </style>\n",
              "\n",
              "      <script>\n",
              "        const buttonEl =\n",
              "          document.querySelector('#df-3c474a26-94e0-4481-bfc9-b69114911348 button.colab-df-convert');\n",
              "        buttonEl.style.display =\n",
              "          google.colab.kernel.accessAllowed ? 'block' : 'none';\n",
              "\n",
              "        async function convertToInteractive(key) {\n",
              "          const element = document.querySelector('#df-3c474a26-94e0-4481-bfc9-b69114911348');\n",
              "          const dataTable =\n",
              "            await google.colab.kernel.invokeFunction('convertToInteractive',\n",
              "                                                     [key], {});\n",
              "          if (!dataTable) return;\n",
              "\n",
              "          const docLinkHtml = 'Like what you see? Visit the ' +\n",
              "            '<a target=\"_blank\" href=https://colab.research.google.com/notebooks/data_table.ipynb>data table notebook</a>'\n",
              "            + ' to learn more about interactive tables.';\n",
              "          element.innerHTML = '';\n",
              "          dataTable['output_type'] = 'display_data';\n",
              "          await google.colab.output.renderOutput(dataTable, element);\n",
              "          const docLink = document.createElement('div');\n",
              "          docLink.innerHTML = docLinkHtml;\n",
              "          element.appendChild(docLink);\n",
              "        }\n",
              "      </script>\n",
              "    </div>\n",
              "  </div>\n",
              "  "
            ]
          },
          "metadata": {},
          "execution_count": 892
        }
      ]
    },
    {
      "cell_type": "code",
      "source": [
        "samples_filtered_df = samples_filtered_df.query('Distance_km == '+str(distance_to_eval))"
      ],
      "metadata": {
        "id": "Zf3VmCvo3-Vy"
      },
      "execution_count": null,
      "outputs": []
    },
    {
      "cell_type": "code",
      "source": [
        "x_train, x_test, y_train, y_test = train_test_split(samples_filtered_df.values[:, 1:samples_filtered_df.values.shape[1]], samples_filtered_df.values[:, 0], test_size=0.2, random_state=111)\n",
        "\n",
        "scaler = MinMaxScaler()\n",
        "data_scaled = scaler.fit(x_train)\n",
        "\n",
        "max_scaled = scaler.data_max_\n",
        "min_scaled = scaler.data_min_\n",
        "\n",
        "x_train = data_scaled.transform(x_train)\n",
        "x_test = data_scaled.transform(x_test)"
      ],
      "metadata": {
        "id": "FNAceVNQmDf8"
      },
      "execution_count": null,
      "outputs": []
    },
    {
      "cell_type": "markdown",
      "source": [
        "## encoder"
      ],
      "metadata": {
        "id": "QwejjDUbFmJm"
      }
    },
    {
      "cell_type": "code",
      "source": [
        "# Encoder\n",
        "x = tensorflow.keras.layers.Input(shape=(input_size,), name=\"encoder_input\")\n",
        "\n",
        "encoder_dense_layer1 = tensorflow.keras.layers.Dense(units=512, name=\"encoder_dense_1\")(x)\n",
        "encoder_activ_layer1 = tensorflow.keras.layers.ReLU(name=\"encoder_relu_1\")(encoder_dense_layer1)\n",
        "\n",
        "encoder_dense_layer2 = tensorflow.keras.layers.Dense(units=256, name=\"encoder_dense_2\")(encoder_activ_layer1)\n",
        "encoder_activ_layer2 = tensorflow.keras.layers.ReLU(name=\"encoder_activ_layer_2\")(encoder_dense_layer2)\n",
        "\n",
        "encoder_dense_layer3 = tensorflow.keras.layers.Dense(units=128, name=\"encoder_dense_3\")(encoder_activ_layer2)\n",
        "encoder_activ_layer3 = tensorflow.keras.layers.ReLU(name=\"encoder_activ_layer_3\")(encoder_dense_layer3)\n",
        "\n",
        "encoder_dense_layer4 = tensorflow.keras.layers.Dense(units=64, name=\"encoder_dense_4\")(encoder_activ_layer3)\n",
        "encoder_activ_layer4 = tensorflow.keras.layers.ReLU(name=\"encoder_activ_layer_4\")(encoder_dense_layer4)\n",
        "\n",
        "encoder_dense_layer5 = tensorflow.keras.layers.Dense(units=32, name=\"encoder_dense_5\")(encoder_activ_layer4)\n",
        "encoder_activ_layer5 = tensorflow.keras.layers.ReLU(name=\"encoder_activ_layer_5\")(encoder_dense_layer5)\n",
        "\n",
        "shape_before_flatten = tensorflow.keras.backend.int_shape(encoder_activ_layer5)[1:]\n",
        "encoder_flatten = tensorflow.keras.layers.Flatten()(encoder_activ_layer5)\n",
        "\n",
        "encoder_mu = tensorflow.keras.layers.Dense(units=latent_space_dim, name=\"encoder_mu\")(encoder_flatten)\n",
        "encoder_log_variance = tensorflow.keras.layers.Dense(units=latent_space_dim, name=\"encoder_log_variance\")(encoder_flatten)\n",
        "\n",
        "encoder_mu_log_variance_model = tensorflow.keras.models.Model(x, (encoder_mu, encoder_log_variance), name=\"encoder_mu_log_variance_model\")\n",
        "\n",
        "def sampling(mu_log_variance):\n",
        "    mu, log_variance = mu_log_variance\n",
        "    epsilon = tensorflow.keras.backend.random_normal(shape=tensorflow.keras.backend.shape(mu), mean=0.0, stddev=1.0)\n",
        "    random_sample = mu + tensorflow.keras.backend.exp(log_variance/2) * epsilon\n",
        "    return random_sample\n",
        "\n",
        "encoder_output = tensorflow.keras.layers.Lambda(sampling, name=\"encoder_output\")([encoder_mu, encoder_log_variance])\n",
        "\n",
        "encoder = tensorflow.keras.models.Model(x, encoder_output, name=\"encoder_model\")"
      ],
      "metadata": {
        "id": "baSVtxFWFnSX"
      },
      "execution_count": null,
      "outputs": []
    },
    {
      "cell_type": "markdown",
      "source": [
        "## decoder"
      ],
      "metadata": {
        "id": "H_dd_jcOFoBb"
      }
    },
    {
      "cell_type": "code",
      "source": [
        "decoder_input = tensorflow.keras.layers.Input(shape=(latent_space_dim), name=\"decoder_input\")\n",
        "decoder_dense_input_layer1 = tensorflow.keras.layers.Dense(units=numpy.prod(shape_before_flatten), name=\"decoder_dense_input_1\")(decoder_input)\n",
        "decoder_reshape = tensorflow.keras.layers.Reshape(target_shape=shape_before_flatten)(decoder_dense_input_layer1)\n",
        "\n",
        "decoder_dense_layer1 = tensorflow.keras.layers.Dense(units=64, name=\"decoder_dense_1\")(decoder_reshape)\n",
        "decoder_activ_layer1 = tensorflow.keras.layers.ReLU(name=\"decoder_relu_1\")(decoder_dense_layer1)\n",
        "\n",
        "decoder_dense_layer2 = tensorflow.keras.layers.Dense(units=128, name=\"decoder_dense_2\")(decoder_activ_layer1)\n",
        "decoder_activ_layer2 = tensorflow.keras.layers.ReLU(name=\"decoder_relu_2\")(decoder_dense_layer2)\n",
        "\n",
        "decoder_dense_layer3 = tensorflow.keras.layers.Dense(units=256, name=\"decoder_dense_3\")(decoder_activ_layer2)\n",
        "decoder_activ_layer3 = tensorflow.keras.layers.ReLU(name=\"decoder_relu_3\")(decoder_dense_layer3)\n",
        "\n",
        "decoder_dense_layer4 = tensorflow.keras.layers.Dense(units=512, name=\"decoder_dense_4\")(decoder_activ_layer3)\n",
        "decoder_activ_layer4 = tensorflow.keras.layers.ReLU(name=\"decoder_relu_4\")(decoder_dense_layer4)\n",
        "\n",
        "decoder_dense_layer5 = tensorflow.keras.layers.Dense(units=input_size, name=\"decoder_dense_5\")(decoder_activ_layer4)\n",
        "decoder_output = tensorflow.keras.layers.ReLU(name=\"decoder_output\")(decoder_dense_layer5)\n",
        "\n",
        "decoder = tensorflow.keras.models.Model(decoder_input, decoder_output, name=\"decoder_model\")"
      ],
      "metadata": {
        "id": "CEPnPi84FqmV"
      },
      "execution_count": null,
      "outputs": []
    },
    {
      "cell_type": "markdown",
      "source": [
        "## vae"
      ],
      "metadata": {
        "id": "cexazT7yF9Tj"
      }
    },
    {
      "cell_type": "code",
      "source": [
        "vae_input = tensorflow.keras.layers.Input(shape=(input_size), name=\"VAE_input\")\n",
        "vae_encoder_output = encoder(vae_input)\n",
        "vae_decoder_output = decoder(vae_encoder_output)\n",
        "vae = tensorflow.keras.models.Model(vae_input, vae_decoder_output, name=\"VAE\")\n",
        "vae.summary()"
      ],
      "metadata": {
        "id": "Aq1hpMP9GDAT",
        "outputId": "39f43147-89a8-4f0d-eecb-9bad318af029",
        "colab": {
          "base_uri": "https://localhost:8080/"
        }
      },
      "execution_count": null,
      "outputs": [
        {
          "output_type": "stream",
          "name": "stdout",
          "text": [
            "Model: \"VAE\"\n",
            "_________________________________________________________________\n",
            "Layer (type)                 Output Shape              Param #   \n",
            "=================================================================\n",
            "VAE_input (InputLayer)       [(None, 2397)]            0         \n",
            "_________________________________________________________________\n",
            "encoder_model (Functional)   (None, 2)                 1402468   \n",
            "_________________________________________________________________\n",
            "decoder_model (Functional)   (None, 2397)              1404797   \n",
            "=================================================================\n",
            "Total params: 2,807,265\n",
            "Trainable params: 2,807,265\n",
            "Non-trainable params: 0\n",
            "_________________________________________________________________\n"
          ]
        }
      ]
    },
    {
      "cell_type": "markdown",
      "source": [
        "## loss and compile"
      ],
      "metadata": {
        "id": "PBpFaQdrGKBo"
      }
    },
    {
      "cell_type": "code",
      "source": [
        "def loss_func(encoder_mu, encoder_log_variance):\n",
        "    def vae_reconstruction_loss(y_true, y_predict):\n",
        "        reconstruction_loss_factor = len(x_test)  \n",
        "        reconstruction_loss = tensorflow.keras.backend.mean(tensorflow.keras.backend.square(y_true-y_predict))\n",
        "        return reconstruction_loss_factor * reconstruction_loss\n",
        "\n",
        "    def vae_kl_loss(encoder_mu, encoder_log_variance):\n",
        "        kl_loss = -0.5 * tensorflow.keras.backend.sum(1.0 + encoder_log_variance - tensorflow.keras.backend.square(encoder_mu) - tensorflow.keras.backend.exp(encoder_log_variance), axis=1)\n",
        "        return kl_loss\n",
        "\n",
        "    def vae_kl_loss_metric(y_true, y_predict):\n",
        "        kl_loss = -0.5 * tensorflow.keras.backend.sum(1.0 + encoder_log_variance - tensorflow.keras.backend.square(encoder_mu) - tensorflow.keras.backend.exp(encoder_log_variance), axis=1)\n",
        "        return kl_loss\n",
        "\n",
        "    def vae_loss(y_true, y_predict):\n",
        "        reconstruction_loss = vae_reconstruction_loss(y_true, y_predict)\n",
        "        kl_loss = vae_kl_loss(y_true, y_predict)\n",
        "\n",
        "        loss = reconstruction_loss + kl_loss\n",
        "        return loss\n",
        "\n",
        "    return vae_loss\n",
        "\n",
        "vae.compile(optimizer=tensorflow.keras.optimizers.Adam(lr=0.0005), loss=loss_func(encoder_mu, encoder_log_variance))"
      ],
      "metadata": {
        "id": "fRXsZfDSGPVE"
      },
      "execution_count": null,
      "outputs": []
    },
    {
      "cell_type": "markdown",
      "source": [
        "## train"
      ],
      "metadata": {
        "id": "ivNkXatcXvkW"
      }
    },
    {
      "cell_type": "code",
      "source": [
        "epochs_test = [15, 50, 100, 500, 1000]\n",
        "for et in epochs_test:\n",
        "  print('Training with {} epochs ...'.format(et))\n",
        "  history = vae.fit(x_train, y_train, epochs=et, batch_size=32, shuffle=True, validation_data=(x_test, y_test), verbose=0)\n",
        "\n",
        "  plt.plot(history.history['loss'])\n",
        "  plt.plot(history.history['val_loss'])\n",
        "  plt.title('model loss epochs {} distance {}'.format(et, distance_to_eval))\n",
        "  plt.ylabel('loss')\n",
        "  plt.xlabel('epoch')\n",
        "  plt.legend(['train', 'test'], loc='best')\n",
        "  plt.savefig(path+\"/Spectrum/attack_vae/loss_plots/VAE_loss_epochs_\"+str(et)+\"_distance_\"+str(distance_to_eval)+\".png\")\n",
        "  plt.show()\n",
        "\n",
        "  # save autoencoder\n",
        "  encoder.save(path+\"/Spectrum/attack_vae/autoencoder/VAE_encoder_epochs_\"+str(et)+\"_distance_\"+str(distance_to_eval)+\".h5\") \n",
        "  decoder.save(path+\"/Spectrum/attack_vae/autoencoder/VAE_decoder_epochs_\"+str(et)+\"_distance_\"+str(distance_to_eval)+\".h5\") \n",
        "  vae.save(path+\"/Spectrum/attack_vae/autoencoder/VAE_epochs_\"+str(et)+\"_distance_\"+str(distance_to_eval)+\".h5\")\n",
        "\n",
        "  print('------------------------------------------------------')"
      ],
      "metadata": {
        "id": "mFC__rFPGdyq",
        "outputId": "ad8b4482-b093-4830-b805-a29c7e9b3286",
        "colab": {
          "base_uri": "https://localhost:8080/"
        }
      },
      "execution_count": null,
      "outputs": [
        {
          "output_type": "stream",
          "name": "stdout",
          "text": [
            "Training with 15 epochs ...\n"
          ]
        },
        {
          "output_type": "display_data",
          "data": {
            "text/plain": [
              "<Figure size 432x288 with 1 Axes>"
            ],
            "image/png": "[encoded data removed]"
          },
          "metadata": {}
        },
        {
          "output_type": "stream",
          "name": "stdout",
          "text": [
            "------------------------------------------------------\n",
            "Training with 50 epochs ...\n"
          ]
        },
        {
          "output_type": "display_data",
          "data": {
            "text/plain": [
              "<Figure size 432x288 with 1 Axes>"
            ],
            "image/png": "[encoded data removed]"
          },
          "metadata": {}
        },
        {
          "output_type": "stream",
          "name": "stdout",
          "text": [
            "------------------------------------------------------\n",
            "Training with 100 epochs ...\n"
          ]
        },
        {
          "output_type": "display_data",
          "data": {
            "text/plain": [
              "<Figure size 432x288 with 1 Axes>"
            ],
            "image/png": "[encoded data removed]"
          },
          "metadata": {}
        },
        {
          "output_type": "stream",
          "name": "stdout",
          "text": [
            "------------------------------------------------------\n",
            "Training with 500 epochs ...\n"
          ]
        },
        {
          "output_type": "display_data",
          "data": {
            "text/plain": [
              "<Figure size 432x288 with 1 Axes>"
            ],
            "image/png": "[encoded data removed]"
          },
          "metadata": {}
        },
        {
          "output_type": "stream",
          "name": "stdout",
          "text": [
            "------------------------------------------------------\n",
            "Training with 1000 epochs ...\n"
          ]
        },
        {
          "output_type": "display_data",
          "data": {
            "text/plain": [
              "<Figure size 432x288 with 1 Axes>"
            ],
            "image/png": "[encoded data removed]"
          },
          "metadata": {}
        },
        {
          "output_type": "stream",
          "name": "stdout",
          "text": [
            "------------------------------------------------------\n"
          ]
        }
      ]
    },
    {
      "cell_type": "markdown",
      "source": [
        "## test model"
      ],
      "metadata": {
        "id": "dj4rHj7BG0NH"
      }
    },
    {
      "cell_type": "code",
      "source": [
        "epochs_num = 100\n",
        "encoder = tensorflow.keras.models.load_model(path+\"/Spectrum/attack_vae/autoencoder/VAE_encoder_epochs_\"+str(epochs_num)+\"_distance_\"+str(distance_to_eval)+\".h5\", compile=False)\n",
        "decoder = tensorflow.keras.models.load_model(path+\"/Spectrum/attack_vae/autoencoder/VAE_decoder_epochs_\"+str(epochs_num)+\"_distance_\"+str(distance_to_eval)+\".h5\", compile=False)\n",
        "\n",
        "encoded_data = encoder.predict(x_test)\n",
        "decoded_data = decoder.predict(encoded_data)"
      ],
      "metadata": {
        "id": "_Jm1CecgG3rf"
      },
      "execution_count": null,
      "outputs": []
    },
    {
      "cell_type": "code",
      "source": [
        "inverted_decoded_data = scaler.inverse_transform(decoded_data)\n",
        "inverted_x_test = scaler.inverse_transform(x_test)\n",
        "decoded_result = []\n",
        "\n",
        "# Adjusting data convertion and range\n",
        "cnt = 0\n",
        "for sample in decoded_data:\n",
        "  sample_decoded = []\n",
        "  delta_samples = []\n",
        "  delta_cnt = 0\n",
        "  for v in sample:\n",
        "    sample_decoded.append((v/10))\n",
        "    if delta_cnt <=50:\n",
        "      delta_samples.append(round(((v/10) - x_test[cnt][delta_cnt]), 3))\n",
        "    delta_cnt += 1\n",
        "  delta_test_decoded = np.mean(delta_samples)\n",
        "  if delta_test_decoded < 0:    \n",
        "    new_sample_decoded = [x+abs(delta_test_decoded) for x in sample_decoded]\n",
        "  elif delta_test_decoded > 0:\n",
        "    new_sample_decoded = [x-abs(delta_test_decoded) for x in sample_decoded]\n",
        "  else:\n",
        "    new_sample_decoded = sample_decoded\n",
        "  decoded_result.append(new_sample_decoded)\n",
        "  cnt += 1\n",
        "\n",
        "decoded_result = np.array(decoded_result)\n",
        "inverted_decoded_results = scaler.inverse_transform(decoded_result)\n",
        "check_plots_samples = [10]\n",
        "for cps in check_plots_samples:\n",
        "  print('----------Decoded_Original------------')\n",
        "  print(decoded_data[cps])\n",
        "  print('----------Decoded_Mod/10------------')\n",
        "  print(decoded_result[cps])\n",
        "  print('----------Inverted Decoded_Mod------------')\n",
        "  print(inverted_decoded_results[cps])\n",
        "  print('----------X_test------------')\n",
        "  print(x_test[cps])\n",
        "  print('----------Inverted X_test------------')\n",
        "  print(inverted_x_test[cps])\n",
        "  plt.plot(inverted_x_test[cps], label='original')  \n",
        "  plt.plot(inverted_decoded_results[cps], label='pred')\n",
        "\n",
        "  plt.title('Orig v Pred Sample {}'.format(cps))\n",
        "  plt.ylabel('power')\n",
        "  plt.xlabel('freq')\n",
        "  plt.legend(loc='best')\n",
        "  plt.show()\n",
        "  print('------------------------------------------------------')"
      ],
      "metadata": {
        "id": "vm5PplMV64u-",
        "colab": {
          "base_uri": "https://localhost:8080/"
        },
        "outputId": "7fa3805a-c111-4fd7-f2fe-e36e32a04892"
      },
      "execution_count": null,
      "outputs": [
        {
          "output_type": "stream",
          "name": "stdout",
          "text": [
            "----------Decoded_Original------------\n",
            "[1.3680928 0.        0.        ... 1.366189  0.        1.3647101]\n",
            "----------Decoded_Mod/10------------\n",
            "[0.71727987 0.58047059 0.58047059 ... 0.71708949 0.58047059 0.7169416 ]\n",
            "----------Inverted Decoded_Mod------------\n",
            "[-55.13466202 -58.56923334 -58.40024446 ... -56.14487327 -58.85120058\n",
            " -56.99131273]\n",
            "----------X_test------------\n",
            "[0.1689451  0.2781684  0.48009138 ... 0.95236009 0.96324752 0.65855078]\n",
            "----------Inverted X_test------------\n",
            "[-69.47083024 -63.95298397 -60.23500229 ... -51.67834439 -53.09245393\n",
            " -58.49390386]\n"
          ]
        },
        {
          "output_type": "display_data",
          "data": {
            "text/plain": [
              "<Figure size 432x288 with 1 Axes>"
            ],
            "image/png": "[encoded data removed]"
          },
          "metadata": {}
        },
        {
          "output_type": "stream",
          "name": "stdout",
          "text": [
            "------------------------------------------------------\n"
          ]
        }
      ]
    },
    {
      "cell_type": "markdown",
      "source": [
        "## Create final modification for synthetic data"
      ],
      "metadata": {
        "id": "iamZWWsu6Ygv"
      }
    },
    {
      "cell_type": "code",
      "source": [
        "from scipy.signal import savgol_filter\n",
        "\n",
        "# Combined test samples by mean of 0.9 CI data points er columns\n",
        "combined_sample_x_test = []\n",
        "for i in range(len(inverted_x_test[0])):\n",
        "  col_val = []\n",
        "  for sample in inverted_x_test:\n",
        "    col_val.append(sample[i])\n",
        "  ci_lower, ci_upper = st.t.interval(alpha=0.90, df=len(col_val)-1, loc=np.mean(col_val), scale=st.sem(col_val)) \n",
        "  col_val = np.array(col_val)\n",
        "  col_val = col_val[ (col_val > ci_lower) & (col_val < ci_upper) ]\n",
        "  \n",
        "  combined_sample_x_test.append(np.mean(col_val))\n",
        "\n",
        "# Combined decoded samples by mean of 0.9 CI data points er columns\n",
        "combined_sample_decoded_results = []\n",
        "for i in range(len(inverted_decoded_results[0])):\n",
        "  col_val = []\n",
        "  for sample_col in inverted_decoded_results:\n",
        "    col_val.append(sample_col[i])\n",
        "  ci_lower, ci_upper = st.t.interval(alpha=0.90, df=len(col_val)-1, loc=np.mean(col_val), scale=st.sem(col_val)) \n",
        "  col_val = np.array(col_val)\n",
        "  col_val = col_val[ (col_val > ci_lower) & (col_val < ci_upper) ]    \n",
        "  combined_sample_decoded_results.append(np.mean(col_val))\n",
        "\n",
        "combined_sample_decoded_results = savgol_filter(combined_sample_decoded_results, 7, 3)"
      ],
      "metadata": {
        "id": "_urBVWcT6Wz1"
      },
      "execution_count": null,
      "outputs": []
    },
    {
      "cell_type": "code",
      "source": [
        "print(combined_sample_x_test)\n",
        "print(combined_sample_decoded_results)\n",
        "plt.plot(combined_sample_x_test, label='original')\n",
        "plt.plot(combined_sample_decoded_results, label='pred')\n",
        "\n",
        "plt.title('Orig v Pred Sample {}'.format(cps))\n",
        "plt.ylabel('power')\n",
        "plt.xlabel('freq')\n",
        "plt.legend(loc='best')\n",
        "plt.show()"
      ],
      "metadata": {
        "id": "NjHtwNci9Atf"
      },
      "execution_count": null,
      "outputs": []
    },
    {
      "cell_type": "markdown",
      "source": [
        "## Generate sample data"
      ],
      "metadata": {
        "id": "xXGKpn7qhAjH"
      }
    },
    {
      "cell_type": "code",
      "source": [
        "def get_vae_moded_data(samples_filtered_df, encoder, decoder, num_sample_to_generate = 30, epochs_num = 100, distance_to_eval = 80):\n",
        "\n",
        "  import random\n",
        "\n",
        "  encoder = tensorflow.keras.models.load_model(path+\"/Spectrum/attack_vae/autoencoder/VAE_encoder_epochs_\"+str(epochs_num)+\"_distance_\"+str(distance_to_eval)+\".h5\", compile=False)\n",
        "  decoder = tensorflow.keras.models.load_model(path+\"/Spectrum/attack_vae/autoencoder/VAE_decoder_epochs_\"+str(epochs_num)+\"_distance_\"+str(distance_to_eval)+\".h5\", compile=False)\n",
        "\n",
        "  samples_genrated = []\n",
        "\n",
        "  col_headers = samples_filtered_df.columns.values.tolist()\n",
        "  col_headers = col_headers[1:]\n",
        "\n",
        "  for generate_sample_cnt in tqdm(range(0, num_sample_to_generate)):\n",
        "    # Load dataset\n",
        "    samples_filtered_df = samples_filtered_df.query('Distance_km == '+str(distance_to_eval))\n",
        "    x_train, x_test, y_train, y_test = train_test_split(samples_filtered_df.values[:, 1:samples_filtered_df.values.shape[1]], samples_filtered_df.values[:, 0], test_size=0.2, random_state=111)\n",
        "\n",
        "    scaler = MinMaxScaler()\n",
        "    data_scaled = scaler.fit(x_train)\n",
        "    max_scaled = scaler.data_max_\n",
        "    min_scaled = scaler.data_min_\n",
        "    x_train = data_scaled.transform(x_train)\n",
        "    x_test = data_scaled.transform(x_test)\n",
        "\n",
        "    # predit\n",
        "    encoded_data = encoder.predict(x_test)\n",
        "    decoded_data = decoder.predict(encoded_data)\n",
        "\n",
        "    decoded_result = []\n",
        "    # Adjusting data convertion and range\n",
        "    cnt = 0\n",
        "    for sample in decoded_data:\n",
        "      sample_decoded = []\n",
        "      delta_samples = []\n",
        "      delta_cnt = 0\n",
        "      for v in sample:\n",
        "        sample_decoded.append((v/10))\n",
        "        if delta_cnt <=50:\n",
        "          delta_samples.append(round(((v/10) - x_test[cnt][delta_cnt]), 3))\n",
        "        delta_cnt += 1\n",
        "      delta_test_decoded = np.mean(delta_samples)\n",
        "      if delta_test_decoded < 0:    \n",
        "        new_sample_decoded = [x+abs(delta_test_decoded) for x in sample_decoded]\n",
        "      elif delta_test_decoded > 0:\n",
        "        new_sample_decoded = [x-abs(delta_test_decoded) for x in sample_decoded]\n",
        "      else:\n",
        "        new_sample_decoded = sample_decoded\n",
        "      decoded_result.append(new_sample_decoded)\n",
        "      cnt += 1\n",
        "\n",
        "    decoded_result = np.array(decoded_result)\n",
        "    inverted_decoded_results = scaler.inverse_transform(decoded_result)\n",
        "\n",
        "    # Final modification to data\n",
        "    combined_sample_decoded_results = []\n",
        "    for idx in range(0, inverted_decoded_results[0].shape[0]):\n",
        "      col_vals = []\n",
        "      for sample in inverted_decoded_results:\n",
        "        col_vals.append(sample[idx])\n",
        "      ci_lower, ci_upper = st.t.interval(alpha=0.90, df=len(col_vals)-1, loc=np.mean(col_vals), scale=st.sem(col_vals)) \n",
        "      col_vals = np.array(col_vals)\n",
        "      col_vals = col_vals[(col_vals > ci_lower) & (col_vals < ci_upper)]    \n",
        "      combined_sample_decoded_results.append(np.mean(col_vals)+random.uniform(np.min(col_vals), np.max(col_vals)))\n",
        "    \n",
        "    samples_genrated.append(combined_sample_decoded_results)\n",
        "\n",
        "  vae_samples_df = pd.DataFrame(samples_genrated, columns = col_headers)\n",
        "\n",
        "  vae_samples_df.to_csv(path+\"/Spectrum/attack_vae/syntectic_data/moded_data_\"+str(distance_to_eval)+\".csv\", index=False)"
      ],
      "metadata": {
        "id": "ITNZG9jqg_3a"
      },
      "execution_count": 154,
      "outputs": []
    },
    {
      "cell_type": "code",
      "source": [
        "get_vae_moded_data(samples_filtered_df, encoder, decoder, num_sample_to_generate = 30, epochs_num = 100, distance_to_eval = 80)"
      ],
      "metadata": {
        "colab": {
          "base_uri": "https://localhost:8080/"
        },
        "id": "jaRJhK9FPlZ0",
        "outputId": "12aa63b9-7607-41ad-c079-6f5956454595"
      },
      "execution_count": 155,
      "outputs": [
        {
          "output_type": "stream",
          "name": "stderr",
          "text": [
            "100%|██████████| 30/30 [00:57<00:00,  1.90s/it]\n"
          ]
        }
      ]
    },
    {
      "cell_type": "markdown",
      "source": [
        "# Abnormaly detector"
      ],
      "metadata": {
        "id": "Ynaw9HmHDpoJ"
      }
    },
    {
      "cell_type": "code",
      "source": [
        "# load regular data\n",
        "distance_to_eval = 80\n",
        "\n",
        "input_path = path + \"/Spectrum/NN/new_data_working_df.csv\"\n",
        "\n",
        "working_df = pd.read_csv(input_path)\n",
        "working_df['Distance_km'] = working_df['Distance_km'].astype(int)\n",
        "\n",
        "#input_data_path=path+\"/rawData\"\n",
        "#distances=[i for i in range(1,26)]\n",
        "distances = [x*80 for x in range(1, 26)]\n",
        "X, Y, real_data_df = get_data(working_df, distances, num_features = 'all', span_length=80,  min_dist = 0, max_dist = 3000)\n",
        "\n",
        "real_data_df = real_data_df.query('Distance_km == '+str(distance_to_eval))\n",
        "real_data_df.drop('Distance_km', axis=1, inplace=True)\n",
        "type_of_data_col_vals = [int(0) for i in range(0, real_data_df.shape[0])]\n",
        "real_data_df.insert(0, \"type_of_data\", type_of_data_col_vals, True)"
      ],
      "metadata": {
        "id": "s1Ul4NWRDr3d"
      },
      "execution_count": 188,
      "outputs": []
    },
    {
      "cell_type": "code",
      "source": [
        "# load mod data\n",
        "data_to_test  ='vae'\n",
        "#vanila\n",
        "if data_to_test == 'vanilla':\n",
        "  mod_data_df = pd.read_csv(path+\"/Spectrum/attack_vanila/moded_data_2000_to_80.csv\")\n",
        "#vae\n",
        "else:\n",
        "  mod_data_df = pd.read_csv(path+\"/Spectrum/attack_vae/syntectic_data/moded_data_80.csv\")\n",
        "  #distance_col_vals = [int(distance_to_eval) for i in range(0, mod_data_df.shape[0])]\n",
        "  #mod_data_df.insert(0, \"Distance_km\", distance_col_vals, True)\n",
        "type_of_data_col_vals = [int(1) for i in range(0, mod_data_df.shape[0])]\n",
        "mod_data_df.insert(0, \"type_of_data\", type_of_data_col_vals, True)"
      ],
      "metadata": {
        "id": "Qmuum7S2JVev"
      },
      "execution_count": 189,
      "outputs": []
    },
    {
      "cell_type": "code",
      "source": [
        "#join real and mod data\n",
        "combined_df = pd.concat([real_data_df, mod_data_df], ignore_index=True)"
      ],
      "metadata": {
        "id": "Dh6-CtjdTlpP"
      },
      "execution_count": 190,
      "outputs": []
    },
    {
      "cell_type": "code",
      "source": [
        "# get train test splits\n",
        "x_train, x_test, y_train, y_test = train_test_split(combined_df.values, combined_df.values[:, 0], test_size=0.2, random_state=111)\n",
        "\n",
        "scaler = MinMaxScaler()\n",
        "data_scaled = scaler.fit(x_train)\n",
        "\n",
        "x_train = data_scaled.transform(x_train)\n",
        "x_test = data_scaled.transform(x_test)"
      ],
      "metadata": {
        "id": "IGbVtgzUSuux"
      },
      "execution_count": 191,
      "outputs": []
    },
    {
      "cell_type": "code",
      "source": [
        "# separate into normal and anormal data\n",
        "normal_train_data = pd.DataFrame(x_train).add_prefix('c').query('c0 == 0').values[:, 1:]\n",
        "anormal_train_data = pd.DataFrame(x_train).add_prefix('c').query('c0 > 0').values[:, 1:]\n",
        "\n",
        "normal_test_data = pd.DataFrame(x_test).add_prefix('c').query('c0 == 0').values[:, 1:]\n",
        "anormal_test_data = pd.DataFrame(x_test).add_prefix('c').query('c0 > 0').values[:, 1:]"
      ],
      "metadata": {
        "id": "Fow8IbmdVCLS"
      },
      "execution_count": 193,
      "outputs": []
    },
    {
      "cell_type": "code",
      "source": [
        ""
      ],
      "metadata": {
        "id": "qQjpQn_1WvQB"
      },
      "execution_count": null,
      "outputs": []
    }
  ]
}