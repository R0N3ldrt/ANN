{
  "nbformat": 4,
  "nbformat_minor": 0,
  "metadata": {
    "colab": {
      "name": "Untitled1.ipynb",
      "provenance": [],
      "authorship_tag": "ABX9TyPLckkKTY+JMQcVBqfc5Gpm",
      "include_colab_link": true
    },
    "kernelspec": {
      "name": "python3",
      "display_name": "Python 3"
    },
    "language_info": {
      "name": "python"
    }
  },
  "cells": [
    {
      "cell_type": "markdown",
      "metadata": {
        "id": "view-in-github",
        "colab_type": "text"
      },
      "source": [
        "<a href=\"https://colab.research.google.com/github/R0N3ldrt/Thesis/blob/main/spectrum-1_0.ipynb\" target=\"_parent\"><img src=\"https://colab.research.google.com/assets/colab-badge.svg\" alt=\"Open In Colab\"/></a>"
      ]
    },
    {
      "cell_type": "markdown",
      "source": [
        "# Loading Enviroment"
      ],
      "metadata": {
        "id": "TFf_LnH4hXmH"
      }
    },
    {
      "cell_type": "markdown",
      "source": [
        "## Loading Drive and folders"
      ],
      "metadata": {
        "id": "QRLt90TJhpCF"
      }
    },
    {
      "cell_type": "code",
      "execution_count": null,
      "metadata": {
        "colab": {
          "base_uri": "https://localhost:8080/"
        },
        "id": "-vxHbOdXfHok",
        "outputId": "40142b0d-dc79-4dea-f00c-d18754968f19"
      },
      "outputs": [
        {
          "output_type": "stream",
          "name": "stdout",
          "text": [
            "Mounted at /content/gdrive\n"
          ]
        }
      ],
      "source": [
        "# BLOQUE PARA USAR DESDE COLAB\n",
        "\n",
        "# Google drive loading as work station for local-usage of the files.\n",
        "from google.colab import drive\n",
        "drive.mount('/content/gdrive',force_remount= True)\n",
        "\n",
        "#-----------------------------------------------------------------------------"
      ]
    },
    {
      "cell_type": "code",
      "source": [
        "# Lista para cambiar los paths rapido.\n",
        "workers = [\"Ronald\", \"Local\"]\n",
        "\n",
        "# Cambiar el numero aqui para cambiar los paths.\n",
        "worker = workers[0]\n",
        "\n",
        "if worker == \"Ronald\":\n",
        "  path= \"/content/gdrive/MyDrive/Thesis_Workstation/ANN_dataset\"\n",
        "else: path = os.getcwd()"
      ],
      "metadata": {
        "id": "s4tLLYT6gDOE"
      },
      "execution_count": null,
      "outputs": []
    },
    {
      "cell_type": "markdown",
      "source": [
        "## Loading Necesary Libraries"
      ],
      "metadata": {
        "id": "Ob7ZixO4hxql"
      }
    },
    {
      "cell_type": "code",
      "source": [
        "# Importing necesary libraries\n",
        "import os, time\n",
        "import pandas as pd\n",
        "import numpy as np\n",
        "import matplotlib.pyplot as plt\n",
        "import math"
      ],
      "metadata": {
        "id": "knS8x3gehRLX"
      },
      "execution_count": null,
      "outputs": []
    },
    {
      "cell_type": "markdown",
      "source": [
        "# Loading Data and Pre-Procesing"
      ],
      "metadata": {
        "id": "hcr6Hr2ChhUk"
      }
    },
    {
      "cell_type": "code",
      "source": [
        "data_path=path+\"/Spectrum\"\n",
        "\n",
        "qpsk_path=\"/QPSK/A.10hops100km/\"\n",
        "qam_path=\"/16QAM/A.10hops100km\"\n",
        "\n",
        "file_name=\"/dataSet_Spectrum_Samples_QPSK_37GHz_LongHaul_output_10x100.xlsx\"\n",
        "df_qpsk=pd.ExcelFile(data_path+qpsk_path+file_name)\n",
        "\n",
        "file_name=\"/dataSet_Spectrum_Samples_16QAM_75GHz_LongHaul_output_10x100.xlsx\"\n",
        "df_qam=pd.ExcelFile(data_path+qam_path+file_name)\n",
        "\n",
        "print(df_qam.head())"
      ],
      "metadata": {
        "colab": {
          "base_uri": "https://localhost:8080/",
          "height": 217
        },
        "id": "0PdwcnCogI1t",
        "outputId": "5cd9b80e-c258-418a-8d5c-20b090fbaf1e"
      },
      "execution_count": null,
      "outputs": [
        {
          "output_type": "stream",
          "name": "stdout",
          "text": [
            "DF train shape: <pandas.io.excel._base.ExcelFile object at 0x7f6ac342e390>\n"
          ]
        },
        {
          "output_type": "error",
          "ename": "AttributeError",
          "evalue": "ignored",
          "traceback": [
            "\u001b[0;31m---------------------------------------------------------------------------\u001b[0m",
            "\u001b[0;31mAttributeError\u001b[0m                            Traceback (most recent call last)",
            "\u001b[0;32m<ipython-input-12-26d415f3a5ee>\u001b[0m in \u001b[0;36m<module>\u001b[0;34m()\u001b[0m\n\u001b[1;32m     11\u001b[0m \u001b[0;34m\u001b[0m\u001b[0m\n\u001b[1;32m     12\u001b[0m \u001b[0mprint\u001b[0m\u001b[0;34m(\u001b[0m\u001b[0;34m\"DF train shape:\"\u001b[0m\u001b[0;34m,\u001b[0m\u001b[0mdf_qpsk\u001b[0m\u001b[0;34m)\u001b[0m\u001b[0;34m\u001b[0m\u001b[0;34m\u001b[0m\u001b[0m\n\u001b[0;32m---> 13\u001b[0;31m \u001b[0mprint\u001b[0m\u001b[0;34m(\u001b[0m\u001b[0;34m\"DF test shape:\"\u001b[0m\u001b[0;34m,\u001b[0m\u001b[0mdf_qam\u001b[0m\u001b[0;34m.\u001b[0m\u001b[0mshape\u001b[0m\u001b[0;34m)\u001b[0m\u001b[0;34m\u001b[0m\u001b[0;34m\u001b[0m\u001b[0m\n\u001b[0m",
            "\u001b[0;31mAttributeError\u001b[0m: 'ExcelFile' object has no attribute 'shape'"
          ]
        }
      ]
    }
  ]
}