{
  "nbformat": 4,
  "nbformat_minor": 0,
  "metadata": {
    "colab": {
      "name": "Untitled1.ipynb",
      "provenance": [],
      "authorship_tag": "ABX9TyPgB2VQb6yEl16iq6tZGh34",
      "include_colab_link": true
    },
    "kernelspec": {
      "name": "python3",
      "display_name": "Python 3"
    },
    "language_info": {
      "name": "python"
    }
  },
  "cells": [
    {
      "cell_type": "markdown",
      "metadata": {
        "id": "view-in-github",
        "colab_type": "text"
      },
      "source": [
        "<a href=\"https://colab.research.google.com/github/R0N3ldrt/Thesis/blob/main/spectrum-1_0.ipynb\" target=\"_parent\"><img src=\"https://colab.research.google.com/assets/colab-badge.svg\" alt=\"Open In Colab\"/></a>"
      ]
    },
    {
      "cell_type": "markdown",
      "source": [
        "# Loading Enviroment"
      ],
      "metadata": {
        "id": "TFf_LnH4hXmH"
      }
    },
    {
      "cell_type": "markdown",
      "source": [
        "## Loading Drive and folders"
      ],
      "metadata": {
        "id": "QRLt90TJhpCF"
      }
    },
    {
      "cell_type": "code",
      "execution_count": 13,
      "metadata": {
        "colab": {
          "base_uri": "https://localhost:8080/"
        },
        "id": "-vxHbOdXfHok",
        "outputId": "9523b07c-b0cf-4bf3-afe0-fc541dd1e0a2"
      },
      "outputs": [
        {
          "output_type": "stream",
          "name": "stdout",
          "text": [
            "Mounted at /content/gdrive\n"
          ]
        }
      ],
      "source": [
        "# BLOQUE PARA USAR DESDE COLAB\n",
        "\n",
        "# Google drive loading as work station for local-usage of the files.\n",
        "from google.colab import drive\n",
        "drive.mount('/content/gdrive',force_remount= True)\n",
        "\n",
        "#-----------------------------------------------------------------------------"
      ]
    },
    {
      "cell_type": "code",
      "source": [
        "# Lista para cambiar los paths rapido.\n",
        "workers = [\"Ronald\", \"Local\"]\n",
        "\n",
        "# Cambiar el numero aqui para cambiar los paths.\n",
        "worker = workers[0]\n",
        "\n",
        "if worker == \"Ronald\":\n",
        "  path= \"/content/gdrive/MyDrive/Thesis_Workstation/ANN_dataset\"\n",
        "else: path = os.getcwd()"
      ],
      "metadata": {
        "id": "s4tLLYT6gDOE"
      },
      "execution_count": 14,
      "outputs": []
    },
    {
      "cell_type": "markdown",
      "source": [
        "## Loading Necesary Libraries"
      ],
      "metadata": {
        "id": "Ob7ZixO4hxql"
      }
    },
    {
      "cell_type": "code",
      "source": [
        "# Importing necesary libraries\n",
        "import os, time\n",
        "import pandas as pd\n",
        "import numpy as np\n",
        "import matplotlib.pyplot as plt\n",
        "import math\n",
        "import pickle"
      ],
      "metadata": {
        "id": "knS8x3gehRLX"
      },
      "execution_count": 36,
      "outputs": []
    },
    {
      "cell_type": "markdown",
      "source": [
        "# Loading Data and Pre-Procesing"
      ],
      "metadata": {
        "id": "hcr6Hr2ChhUk"
      }
    },
    {
      "cell_type": "code",
      "source": [
        "data_path=path+\"/Spectrum\"\n",
        "\n",
        "qpsk_path=\"/QPSK/A.10hops100km/\"\n",
        "qam_path=\"/16QAM/A.10hops100km\"\n",
        "\n",
        "#file_name=\"/dataSet_Spectrum_Samples_QPSK_37GHz_LongHaul_output_10x100.xlsx\"\n",
        "file_name=\"/QPSK_dummy.xlsx\"\n",
        "# Skipping first row since only contain \"Frequency\" headers\n",
        "df_qpsk=pd.read_excel(data_path+qpsk_path+file_name, sheet_name = \"Sheet1\", skiprows=1)\n",
        "\n",
        "#file_name=\"/dataSet_Spectrum_Samples_16QAM_75GHz_LongHaul_output_10x100.xlsx\"\n",
        "file_name=\"/16QAM_dummy.xlsx\"\n",
        "df_qam=pd.read_excel(data_path+qam_path+file_name, sheet_name = \"Sheet1\", skiprows=1)\n",
        "\n",
        "print(df_qpsk.head(1))\n",
        "#print(df_qam.head(3))\n",
        "\n",
        "#Diff in column 5 to 1,286 0.03125"
      ],
      "metadata": {
        "colab": {
          "base_uri": "https://localhost:8080/"
        },
        "id": "0PdwcnCogI1t",
        "outputId": "61a6ffb0-73a7-473d-8a65-4efb3403fb45"
      },
      "execution_count": 90,
      "outputs": [
        {
          "output_type": "stream",
          "name": "stdout",
          "text": [
            "   sampleid  Channels  Distance_km  power_dBm  #node        -20  -19.96875  \\\n",
            "0         1         1            0         -2      1 -50.396272 -51.195507   \n",
            "\n",
            "    -19.9375  -19.90625   -19.875  ...   19.71875      19.75   19.78125  \\\n",
            "0 -52.325501 -57.685476 -51.73027  ... -50.701297 -50.425586 -57.242411   \n",
            "\n",
            "     19.8125  19.84375     19.875   19.90625    19.9375   19.96875         20  \n",
            "0 -54.978886 -58.98445 -52.289897 -50.007652 -56.562352 -50.661037 -57.857937  \n",
            "\n",
            "[1 rows x 1286 columns]\n"
          ]
        }
      ]
    },
    {
      "cell_type": "code",
      "source": [
        "#dump_file = dict desireed to be saved\n",
        "#filename = just the name of the file (file saved on \"pickle_folder\")\n",
        "\n",
        "def pickle_out(dump_file, filename):\n",
        "  filepath = path+\"/pickle_folder/\"+str(filename)+\".pickle\"\n",
        "  pickleout = open(filepath, \"wb\")\n",
        "  pickle.dump(dump_file, pickleout)\n",
        "  pickleout.close()\n",
        "\n",
        "def pickle_in(filename):\n",
        "  filepath = path+\"/pickle_folder/\"+str(filename)+\".pickle\"\n",
        "  picklein = open(filepath, \"rb\")\n",
        "  loaded_dict = pickle.load(picklein)\n",
        "  return loaded_dict"
      ],
      "metadata": {
        "id": "WH5waL1C0xAq"
      },
      "execution_count": 77,
      "outputs": []
    },
    {
      "cell_type": "code",
      "source": [
        "%%----------------------------------------------%%\n",
        "%%\tComputes starting and end line of a file\t%%\n",
        "%%----------------------------------------------%%\n",
        "%% 20170530\n",
        "\n",
        "function [X_agg, Y_agg]=aggregator(ChannelData, agg)\n",
        "% Extracting X:Freq, Y:Power\n",
        "X=ChannelData(:,1);\n",
        "Y=ChannelData(:,2);\n",
        "%     Y = 10 * log10 (Y./10^-3);  % translate to dBm\n",
        "Y = 10.^(Y/20);\n",
        "\n",
        "% Initializing aggregated\n",
        "X_agg=X(1);\n",
        "Y_agg=Y(1);\n",
        "cur=1;\n",
        "while cur<=length(Y)-agg\n",
        "    X_agg=[X_agg; mean(X(cur:cur+agg-1))];\n",
        "    Y_agg=[Y_agg; mean(Y(cur:cur+agg-1))];\n",
        "    cur=cur+agg;\n",
        "end\n",
        "\n",
        "Y_agg = 20*log10(Y_agg);"
      ],
      "metadata": {
        "id": "Sj1LG_Dp5XxE"
      },
      "execution_count": null,
      "outputs": []
    },
    {
      "cell_type": "code",
      "source": [
        "x=1281\n",
        "prime_num = []\n",
        "i=2\n",
        "while i <= 20:\n",
        "  if (x%i==0):\n",
        "    prime_num.append(i)\n",
        "  i+=1\n",
        "print(prime_num)"
      ],
      "metadata": {
        "colab": {
          "base_uri": "https://localhost:8080/"
        },
        "id": "eC4Z8nUlAXbE",
        "outputId": "2a1e9318-a455-4a8f-c9df-cfa5afb4ccfe"
      },
      "execution_count": 106,
      "outputs": [
        {
          "output_type": "stream",
          "name": "stdout",
          "text": [
            "[3, 7]\n"
          ]
        }
      ]
    },
    {
      "cell_type": "code",
      "source": [
        "def prime_number_finder(stop_gap, total_num_of_data):\n",
        "  prime_nums = []\n",
        "  i=2\n",
        "  while i <= stop_gap:\n",
        "    if (total_num_of_data % i==0):\n",
        "      prime_nums.append(i)\n",
        "    i+=1\n",
        "  return prime_nums\n",
        "\n",
        "def aggreagator_selection(stop_gap=25, total_num_of_data=1281):\n",
        "  current_freq_offset = 0.03125\n",
        "  \n",
        "  # Find the prime numbers where the total_num_of_data is divisible\n",
        "  prime_nums = prime_number_finder(stop_gap, total_num_of_data)\n",
        "  \n",
        "  # Find the offsets of the new aggregators\n",
        "  new_freq_offsets = []\n",
        "  for nums in prime_nums:\n",
        "    freq_offset = current_freq_offset*(nums-1)\n",
        "    new_freq_offsets.append(freq_offset)\n",
        "\n",
        "  # Ask the user for the desired aggregator\n",
        "  print('Please select one of the following prime number to conduct the aggregation {} with frequencies offsets of {}(PHz) respectively. (Current Freq offset is 0.03125 PHz)'.format(prime_nums, new_freq_offsets))\n",
        "  while True:\n",
        "    user_selection = input('Prime number to conduct the aggregation? ')\n",
        "    if int(user_selection) not in prime_nums:\n",
        "      print('Please select one of the available prime numbers. (Current selection is not avaliable)')\n",
        "    else:\n",
        "      break\n",
        "  return int(user_selection)\n",
        "\n",
        "def aggreagator(df, stop_gap=25, total_num_of_data=1281):\n",
        "  agg_num = aggreagator_selection(stop_gap, total_num_of_data)\n",
        "  agg=0\n",
        "  loop_cnt=0\n",
        "  init_column_cnt = 5\n",
        "  while agg<=total_num_of_data:\n",
        "    loop_cnt+=1\n",
        "    agg=(agg_num*loop_cnt)+init_column_cnt\n",
        "    new_df = df[df.columns[init_column_cnt:agg]]\n",
        "    new_df['mean_rows'] = new_df.mean(axis = 1)\n",
        "\n",
        "    break\n",
        "  return new_df\n"
      ],
      "metadata": {
        "id": "hv_1nLfcCTAT"
      },
      "execution_count": 183,
      "outputs": []
    },
    {
      "cell_type": "code",
      "source": [
        "aggreagator(df_qpsk, stop_gap=100, total_num_of_data=1281)"
      ],
      "metadata": {
        "colab": {
          "base_uri": "https://localhost:8080/",
          "height": 1000
        },
        "id": "UxVxNBbEHw_6",
        "outputId": "8fbab5ca-7be4-4a2b-c4f1-83944d0c0fab"
      },
      "execution_count": 184,
      "outputs": [
        {
          "name": "stdout",
          "output_type": "stream",
          "text": [
            "Please select one of the following prime number to conduct the aggregation [3, 7, 21, 61] with frequencies offsets of [0.0625, 0.1875, 0.625, 1.875](PHz) respectively. (Current Freq offset is 0.03125 PHz)\n",
            "Prime number to conduct the aggregation? 3\n"
          ]
        },
        {
          "output_type": "stream",
          "name": "stderr",
          "text": [
            "/usr/local/lib/python3.7/dist-packages/ipykernel_launcher.py:41: SettingWithCopyWarning: \n",
            "A value is trying to be set on a copy of a slice from a DataFrame.\n",
            "Try using .loc[row_indexer,col_indexer] = value instead\n",
            "\n",
            "See the caveats in the documentation: https://pandas.pydata.org/pandas-docs/stable/user_guide/indexing.html#returning-a-view-versus-a-copy\n"
          ]
        },
        {
          "output_type": "execute_result",
          "data": {
            "text/plain": [
              "          -20  -19.96875   -19.9375  mean_rows\n",
              "0  -50.396272 -51.195507 -52.325501 -51.305760\n",
              "1  -49.464198 -62.300068 -49.878752 -53.881006\n",
              "2  -52.100342 -54.825356 -49.933739 -52.286479\n",
              "3  -61.429210 -54.973444 -45.026184 -53.809613\n",
              "4  -51.777530 -57.344578 -55.337847 -54.819985\n",
              "5  -56.348628 -48.323410 -52.791372 -52.487803\n",
              "6  -59.530214 -46.793059 -54.027619 -53.450297\n",
              "7  -52.818323 -57.433254 -50.022994 -53.424857\n",
              "8  -46.037314 -57.909915 -63.732986 -55.893405\n",
              "9  -49.648529 -50.168222 -54.061412 -51.292721\n",
              "10 -48.629089 -68.861167 -48.472270 -55.320842\n",
              "11 -50.540384 -51.383957 -52.012011 -51.312117\n",
              "12 -51.564343 -55.635871 -60.021043 -55.740419\n",
              "13 -49.497847 -51.442251 -44.702860 -48.547653\n",
              "14 -52.863612 -54.167630 -56.061986 -54.364409\n",
              "15 -56.936840 -53.024325 -55.700292 -55.220486\n",
              "16 -63.455847 -50.488601 -59.483285 -57.809244\n",
              "17 -47.253895 -46.088751 -54.822806 -49.388484\n",
              "18 -49.536081 -48.787196 -48.826815 -49.050030\n",
              "19 -47.855925 -52.061802 -46.871916 -48.929881\n",
              "20 -45.049097 -61.541007 -49.235885 -51.941996\n",
              "21 -63.998937 -62.662713 -65.368451 -64.010034\n",
              "22 -53.918115 -49.070636 -55.606119 -52.864957\n",
              "23 -51.004495 -45.681664 -52.904147 -49.863435\n",
              "24 -49.211054 -62.839344 -52.691557 -54.913985\n",
              "25 -58.581684 -54.881942 -55.507517 -56.323715\n",
              "26 -66.639812 -54.611519 -55.135976 -58.795769\n",
              "27 -56.327621 -48.315692 -58.517774 -54.387029\n",
              "28 -57.468149 -55.681589 -51.269341 -54.806359\n",
              "29 -54.068805 -51.057188 -50.792809 -51.972934"
            ],
            "text/html": [
              "\n",
              "  <div id=\"df-6c8f8db8-0c8c-40ed-8b33-be81cb9f1438\">\n",
              "    <div class=\"colab-df-container\">\n",
              "      <div>\n",
              "<style scoped>\n",
              "    .dataframe tbody tr th:only-of-type {\n",
              "        vertical-align: middle;\n",
              "    }\n",
              "\n",
              "    .dataframe tbody tr th {\n",
              "        vertical-align: top;\n",
              "    }\n",
              "\n",
              "    .dataframe thead th {\n",
              "        text-align: right;\n",
              "    }\n",
              "</style>\n",
              "<table border=\"1\" class=\"dataframe\">\n",
              "  <thead>\n",
              "    <tr style=\"text-align: right;\">\n",
              "      <th></th>\n",
              "      <th>-20</th>\n",
              "      <th>-19.96875</th>\n",
              "      <th>-19.9375</th>\n",
              "      <th>mean_rows</th>\n",
              "    </tr>\n",
              "  </thead>\n",
              "  <tbody>\n",
              "    <tr>\n",
              "      <th>0</th>\n",
              "      <td>-50.396272</td>\n",
              "      <td>-51.195507</td>\n",
              "      <td>-52.325501</td>\n",
              "      <td>-51.305760</td>\n",
              "    </tr>\n",
              "    <tr>\n",
              "      <th>1</th>\n",
              "      <td>-49.464198</td>\n",
              "      <td>-62.300068</td>\n",
              "      <td>-49.878752</td>\n",
              "      <td>-53.881006</td>\n",
              "    </tr>\n",
              "    <tr>\n",
              "      <th>2</th>\n",
              "      <td>-52.100342</td>\n",
              "      <td>-54.825356</td>\n",
              "      <td>-49.933739</td>\n",
              "      <td>-52.286479</td>\n",
              "    </tr>\n",
              "    <tr>\n",
              "      <th>3</th>\n",
              "      <td>-61.429210</td>\n",
              "      <td>-54.973444</td>\n",
              "      <td>-45.026184</td>\n",
              "      <td>-53.809613</td>\n",
              "    </tr>\n",
              "    <tr>\n",
              "      <th>4</th>\n",
              "      <td>-51.777530</td>\n",
              "      <td>-57.344578</td>\n",
              "      <td>-55.337847</td>\n",
              "      <td>-54.819985</td>\n",
              "    </tr>\n",
              "    <tr>\n",
              "      <th>5</th>\n",
              "      <td>-56.348628</td>\n",
              "      <td>-48.323410</td>\n",
              "      <td>-52.791372</td>\n",
              "      <td>-52.487803</td>\n",
              "    </tr>\n",
              "    <tr>\n",
              "      <th>6</th>\n",
              "      <td>-59.530214</td>\n",
              "      <td>-46.793059</td>\n",
              "      <td>-54.027619</td>\n",
              "      <td>-53.450297</td>\n",
              "    </tr>\n",
              "    <tr>\n",
              "      <th>7</th>\n",
              "      <td>-52.818323</td>\n",
              "      <td>-57.433254</td>\n",
              "      <td>-50.022994</td>\n",
              "      <td>-53.424857</td>\n",
              "    </tr>\n",
              "    <tr>\n",
              "      <th>8</th>\n",
              "      <td>-46.037314</td>\n",
              "      <td>-57.909915</td>\n",
              "      <td>-63.732986</td>\n",
              "      <td>-55.893405</td>\n",
              "    </tr>\n",
              "    <tr>\n",
              "      <th>9</th>\n",
              "      <td>-49.648529</td>\n",
              "      <td>-50.168222</td>\n",
              "      <td>-54.061412</td>\n",
              "      <td>-51.292721</td>\n",
              "    </tr>\n",
              "    <tr>\n",
              "      <th>10</th>\n",
              "      <td>-48.629089</td>\n",
              "      <td>-68.861167</td>\n",
              "      <td>-48.472270</td>\n",
              "      <td>-55.320842</td>\n",
              "    </tr>\n",
              "    <tr>\n",
              "      <th>11</th>\n",
              "      <td>-50.540384</td>\n",
              "      <td>-51.383957</td>\n",
              "      <td>-52.012011</td>\n",
              "      <td>-51.312117</td>\n",
              "    </tr>\n",
              "    <tr>\n",
              "      <th>12</th>\n",
              "      <td>-51.564343</td>\n",
              "      <td>-55.635871</td>\n",
              "      <td>-60.021043</td>\n",
              "      <td>-55.740419</td>\n",
              "    </tr>\n",
              "    <tr>\n",
              "      <th>13</th>\n",
              "      <td>-49.497847</td>\n",
              "      <td>-51.442251</td>\n",
              "      <td>-44.702860</td>\n",
              "      <td>-48.547653</td>\n",
              "    </tr>\n",
              "    <tr>\n",
              "      <th>14</th>\n",
              "      <td>-52.863612</td>\n",
              "      <td>-54.167630</td>\n",
              "      <td>-56.061986</td>\n",
              "      <td>-54.364409</td>\n",
              "    </tr>\n",
              "    <tr>\n",
              "      <th>15</th>\n",
              "      <td>-56.936840</td>\n",
              "      <td>-53.024325</td>\n",
              "      <td>-55.700292</td>\n",
              "      <td>-55.220486</td>\n",
              "    </tr>\n",
              "    <tr>\n",
              "      <th>16</th>\n",
              "      <td>-63.455847</td>\n",
              "      <td>-50.488601</td>\n",
              "      <td>-59.483285</td>\n",
              "      <td>-57.809244</td>\n",
              "    </tr>\n",
              "    <tr>\n",
              "      <th>17</th>\n",
              "      <td>-47.253895</td>\n",
              "      <td>-46.088751</td>\n",
              "      <td>-54.822806</td>\n",
              "      <td>-49.388484</td>\n",
              "    </tr>\n",
              "    <tr>\n",
              "      <th>18</th>\n",
              "      <td>-49.536081</td>\n",
              "      <td>-48.787196</td>\n",
              "      <td>-48.826815</td>\n",
              "      <td>-49.050030</td>\n",
              "    </tr>\n",
              "    <tr>\n",
              "      <th>19</th>\n",
              "      <td>-47.855925</td>\n",
              "      <td>-52.061802</td>\n",
              "      <td>-46.871916</td>\n",
              "      <td>-48.929881</td>\n",
              "    </tr>\n",
              "    <tr>\n",
              "      <th>20</th>\n",
              "      <td>-45.049097</td>\n",
              "      <td>-61.541007</td>\n",
              "      <td>-49.235885</td>\n",
              "      <td>-51.941996</td>\n",
              "    </tr>\n",
              "    <tr>\n",
              "      <th>21</th>\n",
              "      <td>-63.998937</td>\n",
              "      <td>-62.662713</td>\n",
              "      <td>-65.368451</td>\n",
              "      <td>-64.010034</td>\n",
              "    </tr>\n",
              "    <tr>\n",
              "      <th>22</th>\n",
              "      <td>-53.918115</td>\n",
              "      <td>-49.070636</td>\n",
              "      <td>-55.606119</td>\n",
              "      <td>-52.864957</td>\n",
              "    </tr>\n",
              "    <tr>\n",
              "      <th>23</th>\n",
              "      <td>-51.004495</td>\n",
              "      <td>-45.681664</td>\n",
              "      <td>-52.904147</td>\n",
              "      <td>-49.863435</td>\n",
              "    </tr>\n",
              "    <tr>\n",
              "      <th>24</th>\n",
              "      <td>-49.211054</td>\n",
              "      <td>-62.839344</td>\n",
              "      <td>-52.691557</td>\n",
              "      <td>-54.913985</td>\n",
              "    </tr>\n",
              "    <tr>\n",
              "      <th>25</th>\n",
              "      <td>-58.581684</td>\n",
              "      <td>-54.881942</td>\n",
              "      <td>-55.507517</td>\n",
              "      <td>-56.323715</td>\n",
              "    </tr>\n",
              "    <tr>\n",
              "      <th>26</th>\n",
              "      <td>-66.639812</td>\n",
              "      <td>-54.611519</td>\n",
              "      <td>-55.135976</td>\n",
              "      <td>-58.795769</td>\n",
              "    </tr>\n",
              "    <tr>\n",
              "      <th>27</th>\n",
              "      <td>-56.327621</td>\n",
              "      <td>-48.315692</td>\n",
              "      <td>-58.517774</td>\n",
              "      <td>-54.387029</td>\n",
              "    </tr>\n",
              "    <tr>\n",
              "      <th>28</th>\n",
              "      <td>-57.468149</td>\n",
              "      <td>-55.681589</td>\n",
              "      <td>-51.269341</td>\n",
              "      <td>-54.806359</td>\n",
              "    </tr>\n",
              "    <tr>\n",
              "      <th>29</th>\n",
              "      <td>-54.068805</td>\n",
              "      <td>-51.057188</td>\n",
              "      <td>-50.792809</td>\n",
              "      <td>-51.972934</td>\n",
              "    </tr>\n",
              "  </tbody>\n",
              "</table>\n",
              "</div>\n",
              "      <button class=\"colab-df-convert\" onclick=\"convertToInteractive('df-6c8f8db8-0c8c-40ed-8b33-be81cb9f1438')\"\n",
              "              title=\"Convert this dataframe to an interactive table.\"\n",
              "              style=\"display:none;\">\n",
              "        \n",
              "  <svg xmlns=\"http://www.w3.org/2000/svg\" height=\"24px\"viewBox=\"0 0 24 24\"\n",
              "       width=\"24px\">\n",
              "    <path d=\"M0 0h24v24H0V0z\" fill=\"none\"/>\n",
              "    <path d=\"M18.56 5.44l.94 2.06.94-2.06 2.06-.94-2.06-.94-.94-2.06-.94 2.06-2.06.94zm-11 1L8.5 8.5l.94-2.06 2.06-.94-2.06-.94L8.5 2.5l-.94 2.06-2.06.94zm10 10l.94 2.06.94-2.06 2.06-.94-2.06-.94-.94-2.06-.94 2.06-2.06.94z\"/><path d=\"M17.41 7.96l-1.37-1.37c-.4-.4-.92-.59-1.43-.59-.52 0-1.04.2-1.43.59L10.3 9.45l-7.72 7.72c-.78.78-.78 2.05 0 2.83L4 21.41c.39.39.9.59 1.41.59.51 0 1.02-.2 1.41-.59l7.78-7.78 2.81-2.81c.8-.78.8-2.07 0-2.86zM5.41 20L4 18.59l7.72-7.72 1.47 1.35L5.41 20z\"/>\n",
              "  </svg>\n",
              "      </button>\n",
              "      \n",
              "  <style>\n",
              "    .colab-df-container {\n",
              "      display:flex;\n",
              "      flex-wrap:wrap;\n",
              "      gap: 12px;\n",
              "    }\n",
              "\n",
              "    .colab-df-convert {\n",
              "      background-color: #E8F0FE;\n",
              "      border: none;\n",
              "      border-radius: 50%;\n",
              "      cursor: pointer;\n",
              "      display: none;\n",
              "      fill: #1967D2;\n",
              "      height: 32px;\n",
              "      padding: 0 0 0 0;\n",
              "      width: 32px;\n",
              "    }\n",
              "\n",
              "    .colab-df-convert:hover {\n",
              "      background-color: #E2EBFA;\n",
              "      box-shadow: 0px 1px 2px rgba(60, 64, 67, 0.3), 0px 1px 3px 1px rgba(60, 64, 67, 0.15);\n",
              "      fill: #174EA6;\n",
              "    }\n",
              "\n",
              "    [theme=dark] .colab-df-convert {\n",
              "      background-color: #3B4455;\n",
              "      fill: #D2E3FC;\n",
              "    }\n",
              "\n",
              "    [theme=dark] .colab-df-convert:hover {\n",
              "      background-color: #434B5C;\n",
              "      box-shadow: 0px 1px 3px 1px rgba(0, 0, 0, 0.15);\n",
              "      filter: drop-shadow(0px 1px 2px rgba(0, 0, 0, 0.3));\n",
              "      fill: #FFFFFF;\n",
              "    }\n",
              "  </style>\n",
              "\n",
              "      <script>\n",
              "        const buttonEl =\n",
              "          document.querySelector('#df-6c8f8db8-0c8c-40ed-8b33-be81cb9f1438 button.colab-df-convert');\n",
              "        buttonEl.style.display =\n",
              "          google.colab.kernel.accessAllowed ? 'block' : 'none';\n",
              "\n",
              "        async function convertToInteractive(key) {\n",
              "          const element = document.querySelector('#df-6c8f8db8-0c8c-40ed-8b33-be81cb9f1438');\n",
              "          const dataTable =\n",
              "            await google.colab.kernel.invokeFunction('convertToInteractive',\n",
              "                                                     [key], {});\n",
              "          if (!dataTable) return;\n",
              "\n",
              "          const docLinkHtml = 'Like what you see? Visit the ' +\n",
              "            '<a target=\"_blank\" href=https://colab.research.google.com/notebooks/data_table.ipynb>data table notebook</a>'\n",
              "            + ' to learn more about interactive tables.';\n",
              "          element.innerHTML = '';\n",
              "          dataTable['output_type'] = 'display_data';\n",
              "          await google.colab.output.renderOutput(dataTable, element);\n",
              "          const docLink = document.createElement('div');\n",
              "          docLink.innerHTML = docLinkHtml;\n",
              "          element.appendChild(docLink);\n",
              "        }\n",
              "      </script>\n",
              "    </div>\n",
              "  </div>\n",
              "  "
            ]
          },
          "metadata": {},
          "execution_count": 184
        }
      ]
    },
    {
      "cell_type": "markdown",
      "source": [
        "##Dummy Model"
      ],
      "metadata": {
        "id": "XY1LI-8G5IMU"
      }
    },
    {
      "cell_type": "code",
      "source": [
        "def get_dummy_spectrum(df):\n",
        "  new_df = df.groupby(['#node']).mean()\n",
        "  new_df.drop(['sampleid', 'Channels', 'power_dBm'], axis = 1, inplace = True)\n",
        "  dummy_dict = new_df.to_dict()\n",
        "  \n",
        "  return new_df, dummy_dict"
      ],
      "metadata": {
        "id": "LOGSo-fEt90g"
      },
      "execution_count": 74,
      "outputs": []
    },
    {
      "cell_type": "code",
      "source": [
        "\n",
        "#new_df = \n",
        "#node\t| Distance_km\t|-20\t      |-19.96875\t|-19.9375\t\t\t\t\t\t\t\t\t\t\t\t\t\t\t\t\t\t\t\t\t\t\n",
        "#1\t    | 0.0\t        |-52.955056\t|-54.126681\t|-52.713840\t\n",
        "#2\t    | 100.0\t      |-51.813386\t|-53.194155\t|-52.697528\n",
        "#3\t    | 200.0\t      |-55.626777\t|-54.634329\t|-54.702958\n",
        "\n",
        "#dummy_dict.keys() = dict_keys(['Distance_km', -20, -19.96875, -19.9375, -19.90625, -19.875, -19.84375...\n",
        "#dummy_dict[-20].values() = dict_values([-52.955056039, -51.813386274, -55.626777088])"
      ],
      "metadata": {
        "id": "z8uj4oke0jlJ"
      },
      "execution_count": 75,
      "outputs": []
    },
    {
      "cell_type": "code",
      "source": [
        "dummy_df, dummy_dict = get_dummy_spectrum(df_qpsk)"
      ],
      "metadata": {
        "id": "pRYGOWfUu-bl"
      },
      "execution_count": 82,
      "outputs": []
    },
    {
      "cell_type": "code",
      "source": [
        "pickle_out(dummy_dict, \"dummy_spectrum_full_QPSK\")"
      ],
      "metadata": {
        "id": "1DglIV082PYP"
      },
      "execution_count": 86,
      "outputs": []
    },
    {
      "cell_type": "code",
      "source": [
        "pickle_dummy_dict = pickle_in(\"dummy_spectrum_full_QPSK\")"
      ],
      "metadata": {
        "id": "U33UXT4h3l03"
      },
      "execution_count": 87,
      "outputs": []
    },
    {
      "cell_type": "code",
      "source": [
        "pickle_dummy_dict['Distance_km'].values()"
      ],
      "metadata": {
        "colab": {
          "base_uri": "https://localhost:8080/"
        },
        "id": "D9diNPkQ34uU",
        "outputId": "1d4bc848-c389-41e7-8119-0e6b6f3e826b"
      },
      "execution_count": 88,
      "outputs": [
        {
          "output_type": "execute_result",
          "data": {
            "text/plain": [
              "dict_values([0.0, 100.0, 200.0, 300.0, 400.0, 500.0, 600.0, 700.0, 800.0, 900.0, 1000.0])"
            ]
          },
          "metadata": {},
          "execution_count": 88
        }
      ]
    }
  ]
}