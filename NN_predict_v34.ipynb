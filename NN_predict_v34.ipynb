{
  "nbformat": 4,
  "nbformat_minor": 0,
  "metadata": {
    "colab": {
      "name": "Untitled10.ipynb",
      "provenance": [],
      "authorship_tag": "ABX9TyPYL3QUC+kZ5DYv38DIjwuT",
      "include_colab_link": true
    },
    "kernelspec": {
      "name": "python3",
      "display_name": "Python 3"
    },
    "language_info": {
      "name": "python"
    }
  },
  "cells": [
    {
      "cell_type": "markdown",
      "metadata": {
        "id": "view-in-github",
        "colab_type": "text"
      },
      "source": [
        "<a href=\"https://colab.research.google.com/github/R0N3ldrt/Thesis/blob/main/NN_predict_v34.ipynb\" target=\"_parent\"><img src=\"https://colab.research.google.com/assets/colab-badge.svg\" alt=\"Open In Colab\"/></a>"
      ]
    },
    {
      "cell_type": "markdown",
      "source": [
        "# Traininig NN Spectrum"
      ],
      "metadata": {
        "id": "UT4kgsEJEpyY"
      }
    },
    {
      "cell_type": "markdown",
      "source": [
        "# Loading Necesary Libraries"
      ],
      "metadata": {
        "id": "qsIzw6RGEwWp"
      }
    },
    {
      "cell_type": "code",
      "execution_count": 1,
      "metadata": {
        "id": "0YnA2ltpEoSi"
      },
      "outputs": [],
      "source": [
        "# Importing necesary libraries\n",
        "# Libraries for correct code execution \n",
        "\n",
        "import os, time\n",
        "import pandas as pd\n",
        "import numpy as np\n",
        "import matplotlib.pyplot as plt\n",
        "import math\n",
        "import pickle\n",
        "import random\n",
        "import csv\n",
        "import re\n",
        "import array\n",
        "import seaborn as sns\n",
        "from tqdm import tqdm\n",
        "import tensorflow as tf\n",
        "import os.path\n",
        "\n",
        "from scipy import stats\n",
        "from functools import reduce\n",
        "from random import random, gauss\n",
        "from math import modf, pi, cos, sin, sqrt\n",
        "from sklearn.model_selection import train_test_split\n",
        "from sklearn.preprocessing import MinMaxScaler\n",
        "from sklearn.metrics import r2_score\n",
        "from plotly.subplots import make_subplots\n",
        "from scipy.signal import savgol_filter\n",
        "from scipy.stats.stats import pearsonr\n",
        "from scipy.stats import spearmanr\n",
        "\n",
        "import scipy.stats as st\n",
        "import plotly.graph_objects as go\n",
        "import plotly.express as px\n",
        "from plotly.subplots import make_subplots\n",
        "\n",
        "from keras.models import Sequential\n",
        "from keras.layers import Dense,Conv2D, Flatten\n",
        "from keras.wrappers.scikit_learn import KerasRegressor\n",
        "from keras.callbacks import EarlyStopping\n",
        "from sklearn.mixture import GaussianMixture\n",
        "import os, time, math, csv, joblib\n",
        "import pandas as pd\n",
        "import numpy as np\n",
        "import matplotlib.pyplot as plt\n",
        "import seaborn as sns\n",
        "from sklearn.model_selection import train_test_split\n",
        "from sklearn.preprocessing import MinMaxScaler\n",
        "from sklearn.mixture import GaussianMixture\n",
        "\n",
        "import os, time, math, csv, joblib\n",
        "import pandas as pd\n",
        "import numpy as np\n",
        "from sklearn.model_selection import train_test_split\n",
        "from sklearn.preprocessing import MinMaxScaler\n",
        "from sklearn.mixture import GaussianMixture\n",
        "\n",
        "import warnings\n",
        "warnings.filterwarnings(\"ignore\")\n",
        "\n",
        "sns.set_theme()"
      ]
    },
    {
      "cell_type": "markdown",
      "source": [
        "# Load Enviroment"
      ],
      "metadata": {
        "id": "o99IEHDfE2yy"
      }
    },
    {
      "cell_type": "code",
      "source": [
        "# BLOQUE PARA USAR DESDE COLAB\n",
        "\n",
        "# Google drive loading as work station for local-usage of the files.\n",
        "from google.colab import drive\n",
        "drive.mount('/content/gdrive',force_remount= True)\n",
        "\n",
        "#-----------------------------------------------------------------------------"
      ],
      "metadata": {
        "colab": {
          "base_uri": "https://localhost:8080/"
        },
        "id": "ruXEP78XE7E5",
        "outputId": "7f45399c-87ec-439e-912b-af717671a55a"
      },
      "execution_count": 2,
      "outputs": [
        {
          "output_type": "stream",
          "name": "stdout",
          "text": [
            "Mounted at /content/gdrive\n"
          ]
        }
      ]
    },
    {
      "cell_type": "code",
      "source": [
        "# Lista para cambiar los paths rapido.\n",
        "workers = [\"Ronald\", \"Local\"]\n",
        "\n",
        "# Change the number to change the paths.\n",
        "worker = workers[0]\n",
        "\n",
        "if worker == \"Ronald\":\n",
        "  path = \"/content/gdrive/MyDrive/Thesis_Workstation/ANN_dataset\"\n",
        "else: path = os.getcwd()"
      ],
      "metadata": {
        "id": "1Y2-m9DsE74Z"
      },
      "execution_count": 3,
      "outputs": []
    },
    {
      "cell_type": "markdown",
      "source": [
        "# Get working_df"
      ],
      "metadata": {
        "id": "a9bZmAKqRtdK"
      }
    },
    {
      "cell_type": "markdown",
      "source": [
        "## Aggregator"
      ],
      "metadata": {
        "id": "-efCc7PrSORb"
      }
    },
    {
      "cell_type": "code",
      "source": [
        "def prime_number_finder(stop_gap, total_num_of_data):\n",
        "  prime_nums = []\n",
        "  i=2\n",
        "  while i <= stop_gap:\n",
        "    if (total_num_of_data % i==0):\n",
        "      prime_nums.append(i)\n",
        "      break\n",
        "    i+=1\n",
        "  return prime_nums"
      ],
      "metadata": {
        "id": "LpTsisCER__7"
      },
      "execution_count": 4,
      "outputs": []
    },
    {
      "cell_type": "code",
      "source": [
        "def aggreagator_v2(df, stop_gap=50):\n",
        "  total_num_of_data = df.shape[1]\n",
        "  arr_prime = prime_number_finder(stop_gap, total_num_of_data)\n",
        "  #agg_num = np.max(arr_prime)\n",
        "  agg_num = arr_prime[0]\n",
        "\n",
        "  # Creating new df of aggregate values\n",
        "  agg_df = pd.DataFrame()\n",
        "\n",
        "  mid_point = df.shape[1]/2\n",
        "\n",
        "  agg=0\n",
        "  loop_cnt=0\n",
        "  init_column_cnt = 5\n",
        "  while agg<=total_num_of_data:\n",
        "    loop_cnt+=1\n",
        "    # Obtain current last columns stop\n",
        "    agg=agg_num+init_column_cnt\n",
        "    # Select working columns\n",
        "    new_df = df[df.columns[init_column_cnt:agg]]\n",
        "\n",
        "    init_column_cnt += (agg_num)\n",
        "\n",
        "    headers = list(new_df.columns.values) \n",
        "    if loop_cnt <= mid_point:\n",
        "      # Get average of freq values for new header\n",
        "      new_header_name  = headers[-1]\n",
        "    else:\n",
        "      new_header_name = headers[0]\n",
        "    \n",
        "    # Add aggragated values to new df\n",
        "    agg_df[new_header_name] = new_df.mean(axis = 1)\n",
        "  return agg_df"
      ],
      "metadata": {
        "id": "PqkcfV-CSDYv"
      },
      "execution_count": 5,
      "outputs": []
    },
    {
      "cell_type": "markdown",
      "source": [
        "## Find cutoff index"
      ],
      "metadata": {
        "id": "W4h81smRSKUR"
      }
    },
    {
      "cell_type": "code",
      "source": [
        "def remove_tail(df, cut_val, sample_id):\n",
        "  columns_selected = []\n",
        "  old_val = 0\n",
        "  delta = 0\n",
        "  mid_point = int(df.shape[1]/2)\n",
        "  cols_headers  = list(df.columns.values)\n",
        "\n",
        "  for i in range(0, df.shape[1]):\n",
        "    if i == 0:\n",
        "      cell_val = df.iloc[[0], i]\n",
        "      old_val = cell_val[sample_id]\n",
        "    else:\n",
        "      cell_val = df.iloc[[0], i]\n",
        "      val = cell_val[sample_id]\n",
        "      delta = abs(old_val-val)\n",
        "      old_val = val\n",
        "      if delta > cut_val:\n",
        "        if i <= mid_point:\n",
        "          col_name_selected = cols_headers[i+2]\n",
        "        else:\n",
        "          col_name_selected = cols_headers[i-2]\n",
        "          col_name_selected = round(float(col_name_selected), 5)\n",
        "        columns_selected.append(col_name_selected)\n",
        "\n",
        "  return columns_selected"
      ],
      "metadata": {
        "id": "hgUHEniRSJil"
      },
      "execution_count": 6,
      "outputs": []
    },
    {
      "cell_type": "code",
      "source": [
        "# Removing tails conducting multiples loops with variable cutoff value until we get only two columns\n",
        "def remove_tail_main(df, cut_val, sample_id):\n",
        "  old_drop_cols = []\n",
        "  drop_cols = remove_tail(df, cut_val, sample_id)\n",
        "  while len(drop_cols) != 2:  \n",
        "    # If len of columns to be dropped are 0 the select the 2 values smaller and bigger of the previous iteration\n",
        "    if len(drop_cols) == 0 or len(drop_cols) == 1:\n",
        "      drop_cols = [np.min(old_drop_cols), np.max(old_drop_cols)]\n",
        "      break\n",
        "    else:\n",
        "      old_drop_cols = drop_cols\n",
        "      drop_cols = remove_tail(df, cut_val, sample_id)\n",
        "      cut_val += 2\n",
        "  return drop_cols"
      ],
      "metadata": {
        "id": "CNPLl420STJV"
      },
      "execution_count": 7,
      "outputs": []
    },
    {
      "cell_type": "code",
      "source": [
        "def get_working_data_idx_v2(df_mean_sample, sample_id, cut_val = 0):\n",
        "\n",
        "  df = df_mean_sample.iloc[[sample_id - 1]]\n",
        "\n",
        "  #agg_df = aggreagator_v2(df) disable aggragator causing odd data points\n",
        "\n",
        "  col_vals = remove_tail_main(df, cut_val=cut_val, sample_id=sample_id)\n",
        "\n",
        "  left_index_no = df.columns.get_loc(col_vals[0])\n",
        "  rigth_index_no = df.columns.get_loc(col_vals[1])\n",
        "\n",
        "  return left_index_no, rigth_index_no"
      ],
      "metadata": {
        "id": "WFhRhx5USZR7"
      },
      "execution_count": 8,
      "outputs": []
    },
    {
      "cell_type": "code",
      "source": [
        "def cut_off_idx(df): # return tuple with cut-off values (index_left_side, index_rigth_side)\n",
        "  df_mean_sample = df.groupby(['PBRS_id']).mean()\n",
        "  df_mean_sample = df_mean_sample.drop(['row', 'Channels', 'Distance_km', 'power_dBm'], axis = 1)\n",
        "\n",
        "  cut_points = {}\n",
        "  print('Calculating the cutoff values:')\n",
        "  for sample in tqdm(df_mean_sample.index):\n",
        "    left_index_no, rigth_index_no = get_working_data_idx_v2(df_mean_sample, sample_id = sample)\n",
        "    cut_points[sample] = (left_index_no, rigth_index_no)\n",
        "\n",
        "  left_cut_off = np.min([v[0] for k, v in cut_points.items()])\n",
        "  rigth_cut_off = np.max([v[1] for k, v in cut_points.items()])\n",
        "\n",
        "  cut_point = (left_cut_off, rigth_cut_off)\n",
        "  return cut_point"
      ],
      "metadata": {
        "id": "1tG_j9gRSeJ0"
      },
      "execution_count": 9,
      "outputs": []
    },
    {
      "cell_type": "markdown",
      "source": [
        "## Select working data"
      ],
      "metadata": {
        "id": "_2p4y95YSlGe"
      }
    },
    {
      "cell_type": "code",
      "source": [
        "def select_working_data(df, cut_point): # implement cut_off values and Smoothing original df after cutt-of\n",
        "  extra_info_df = df.iloc[:, 0:6]\n",
        "  data_df = df.iloc[:, cut_point[0]+6:cut_point[1]+6]\n",
        "  smoothed_data_frame = pd.DataFrame(savgol_filter(data_df, window_length = 5, polyorder = 2))\n",
        "  \n",
        "  # Adding back headers to the smoothed data\n",
        "  rename_col = {}\n",
        "  cnt = 0\n",
        "  for col in data_df.columns:\n",
        "    h_col = round(float(col), 5)\n",
        "    rename_col[cnt] = h_col\n",
        "    cnt += 1\n",
        "  smoothed_data_frame.rename(columns=rename_col, inplace=True)\n",
        "\n",
        "  working_df = pd.merge(extra_info_df, smoothed_data_frame, left_index=True, right_index=True)\n",
        "  return working_df"
      ],
      "metadata": {
        "id": "TC0PK42wSnTw"
      },
      "execution_count": 10,
      "outputs": []
    },
    {
      "cell_type": "code",
      "source": [
        "def main_cutoff(input_path):\n",
        "  print('Reading data from file.')\n",
        "  df = pd.read_excel(input_path, sheet_name = \"Sheet1\", skiprows=1)\n",
        "  df.iloc[0].fillna(method='bfill', inplace=True)\n",
        "  df.iloc[1:df.shape[0]].fillna(method='pad', inplace=True)\n",
        "  # Adding missing PBRS_id\n",
        "  snippet = []\n",
        "  val_cnt = 1\n",
        "  idx = 0\n",
        "  for sample in range(1, 101):\n",
        "    for sample_id in range(0, 25):\n",
        "      df.at[idx, 'PBRS_id'] = val_cnt\n",
        "      idx +=1\n",
        "      snippet.append(val_cnt)\n",
        "    val_cnt += 1\n",
        "  df['PBRS_id'] = df['PBRS_id'].astype(int)\n",
        "\n",
        "  cut_point = cut_off_idx(df)\n",
        "  working_df = select_working_data(df, cut_point)\n",
        "\n",
        "  return working_df"
      ],
      "metadata": {
        "id": "n5gp_DYpSqEV"
      },
      "execution_count": 11,
      "outputs": []
    },
    {
      "cell_type": "markdown",
      "source": [
        "## Run main cutoff"
      ],
      "metadata": {
        "id": "_IszMVtETKej"
      }
    },
    {
      "cell_type": "code",
      "source": [
        "#input_path = path + \"/Spectrum/16QAM_v2/Copy of dataSet_gamma0_Spectrum31MHz_Samples_16QAM_75GHz_LongHaul_input_25x81km_primeStep.xlsx\"\n",
        "#orking_df = main_cutoff(input_path)\n",
        "#display(working_df)"
      ],
      "metadata": {
        "id": "0MCaO3l2TOEZ"
      },
      "execution_count": 12,
      "outputs": []
    },
    {
      "cell_type": "code",
      "source": [
        "#working_df.to_csv(path+\"/Spectrum/NN/new_data_working_df.csv\", index=False)"
      ],
      "metadata": {
        "id": "OTlGF2TaTiAT"
      },
      "execution_count": 13,
      "outputs": []
    },
    {
      "cell_type": "markdown",
      "source": [
        "#New Train/Test Split"
      ],
      "metadata": {
        "id": "rIpeu9O5teEp"
      }
    },
    {
      "cell_type": "markdown",
      "source": [
        "## Get Reference data"
      ],
      "metadata": {
        "id": "bgUl5jOx2vOg"
      }
    },
    {
      "cell_type": "code",
      "source": [
        "def get_reference_and_sample_data(working_df, num_reference):\n",
        "  import random\n",
        "  num_of_ids = len(working_df['PBRS_id'].unique())\n",
        "\n",
        "  l = list(range(1, num_of_ids+1))\n",
        "  random.shuffle(l)\n",
        "  reference_arr = (l[:num_reference])\n",
        "  sample_arr = l[-(num_of_ids-num_reference):]\n",
        "\n",
        "  reference_data_df = working_df[working_df['PBRS_id'].isin(reference_arr)]\n",
        "  sample_data_df = working_df[working_df['PBRS_id'].isin(sample_arr)]\n",
        "  \n",
        "  return reference_data_df, sample_data_df"
      ],
      "metadata": {
        "id": "ec3YhJwn9Hxx"
      },
      "execution_count": 14,
      "outputs": []
    },
    {
      "cell_type": "markdown",
      "source": [
        "## Get test/train split"
      ],
      "metadata": {
        "id": "gaVlwtnN-Ezo"
      }
    },
    {
      "cell_type": "code",
      "source": [
        "def get_idx_train_test_split(working_df, trainingProp = 0.8):\n",
        "  rows_training = np.array([])\n",
        "  rows_testing = np.array([])\n",
        "  distances = [x*80 for x in range(1, 26)]\n",
        "  for d in distances:\n",
        "    distance_working_df = working_df.loc[working_df['Distance_km'] == d]\n",
        "    rows_mixed=np.random.permutation(distance_working_df.shape[0])\n",
        "\n",
        "    training_amt = math.ceil(distance_working_df.shape[0]*trainingProp)\n",
        "    testing_amt = distance_working_df.shape[0] - training_amt\n",
        "\n",
        "    rows_training = np.append(rows_training, rows_mixed[:training_amt])\n",
        "    rows_testing = np.append(rows_testing, rows_mixed[-testing_amt:])\n",
        "  \n",
        "  rows_training = rows_training.astype('int').tolist()\n",
        "  rows_testing = rows_testing.astype('int').tolist()\n",
        "\n",
        "  return rows_training, rows_testing"
      ],
      "metadata": {
        "id": "yKHiNNANyyDB"
      },
      "execution_count": 15,
      "outputs": []
    },
    {
      "cell_type": "markdown",
      "source": [
        "## Get frequencies filter"
      ],
      "metadata": {
        "id": "WEbwMwMG-9BX"
      }
    },
    {
      "cell_type": "code",
      "source": [
        "def frequencies_filter(df, num_selected_freq=20):\n",
        "  info_df = df.iloc[:, 0:6]\n",
        "  data_df = df.iloc[:, 6:df.shape[1]]\n",
        "  span_val = int(data_df.shape[1]/num_selected_freq)\n",
        "  for i in range(num_selected_freq):\n",
        "    df2 = data_df.iloc[:, (i+1)*span_val].to_frame()\n",
        "    if i+1 == 1:\n",
        "      new_df = df2\n",
        "    else:\n",
        "      new_df = pd.merge(new_df, df2, left_index=True, right_index=True)\n",
        "  new_df = info_df.join(new_df)\n",
        "  \n",
        "  return new_df"
      ],
      "metadata": {
        "id": "RqeELlLC_vlH"
      },
      "execution_count": 16,
      "outputs": []
    },
    {
      "cell_type": "markdown",
      "source": [
        "## Get features"
      ],
      "metadata": {
        "id": "S2Z2xg2yHuoz"
      }
    },
    {
      "cell_type": "code",
      "source": [
        "#sample_freq_data_df\n",
        "#distance_reference_df\n",
        "#selected_rows = rows_training\n",
        "def get_features(sample_freq_data_df, reference_freq_data_df, selected_rows, test_references_params):\n",
        "  data_distance = []\n",
        "  data_mean = []\n",
        "  data_std = []\n",
        "  data_pearson_min = []\n",
        "  data_pearson_mean = []\n",
        "  data_pearson_max = []\n",
        "  data_CI_lower = []\n",
        "  data_CI_upper = []\n",
        "\n",
        "  reference_distance = []\n",
        "\n",
        "  if test_references_params[0] == True: # Test reference distance portion\n",
        "    reference_freq_data_df = reference_freq_data_df['Distance_km'].isin(test_references_params[1])\n",
        "\n",
        "  for row_idx in tqdm(selected_rows):\n",
        "    reference_Y = reference_freq_data_df.iloc[row_idx,3] # distance of row selected\n",
        "    reference_distance.append(reference_Y)\n",
        "\n",
        "\n",
        "    data_Y = sample_freq_data_df.iloc[row_idx,3] # distance of row selected\n",
        "    data_X = np.array(sample_freq_data_df.iloc[row_idx,6:sample_freq_data_df.shape[1]]) #array of data in row selected\n",
        "    data_distance.append(data_Y)\n",
        "    data_std.append(np.std(data_X))\n",
        "    data_mean.append(np.mean(data_X))\n",
        "\n",
        "    data_ci = st.t.interval(alpha=0.90, df=len(data_X)-1, loc=np.mean(data_X), scale=st.sem(data_X))\n",
        "    data_confidence_int_lower = data_ci[0]\n",
        "    data_confidence_int_upper = data_ci[1]\n",
        "\n",
        "    pearson_vals = []\n",
        "    confidence_vals_lower = []\n",
        "    confidence_vals_upper = []\n",
        "    for reference_row in range(0, reference_freq_data_df.shape[0]):\n",
        "      reference_X = np.array(reference_freq_data_df.iloc[reference_row,6:reference_freq_data_df.shape[1]])\n",
        "      pearson_vals.append(round(pearsonr(data_X, reference_X)[0], 5))\n",
        "\n",
        "      reference_ci = st.t.interval(alpha=0.90, df=len(reference_X)-1, loc=np.mean(reference_X), scale=st.sem(reference_X))\n",
        "      reference_confidence_int_lower = reference_ci[0]\n",
        "      confidence_vals_lower.append(round(abs(reference_confidence_int_lower - data_confidence_int_lower), 5))\n",
        "      reference_confidence_int_upper = reference_ci[1]\n",
        "      confidence_vals_upper.append(round(abs(reference_confidence_int_upper - data_confidence_int_upper),5))\n",
        "\n",
        "    data_pearson_min.append(np.min(pearson_vals))\n",
        "    data_pearson_mean.append(np.mean(pearson_vals))    \n",
        "    data_pearson_max.append(np.max(pearson_vals))\n",
        "\n",
        "    data_CI_lower.append(np.min(confidence_vals_lower))\n",
        "    data_CI_upper.append(np.min(confidence_vals_upper))\n",
        "\n",
        "  data = {'distance':data_distance,\n",
        "                  'mean':data_mean,\n",
        "                  'std':data_std,\n",
        "                  'pearson_min':data_pearson_min,\n",
        "                  'pearson_mean':data_pearson_mean,\n",
        "                  'pearson_max':data_pearson_max,\n",
        "                  'delta_CI_min':data_CI_lower,\n",
        "                  'delta_CI_max':data_CI_upper,\n",
        "                  'reference_distance':reference_distance}\n",
        "\n",
        "  data_df = pd.DataFrame(data)\n",
        "\n",
        "  \n",
        "  return data_df"
      ],
      "metadata": {
        "id": "8FNsUKTVxZmP"
      },
      "execution_count": 17,
      "outputs": []
    },
    {
      "cell_type": "markdown",
      "source": [
        "## Main train/test split"
      ],
      "metadata": {
        "id": "9V5WNuN9jSZF"
      }
    },
    {
      "cell_type": "code",
      "source": [
        "def get_train_test_split_main(input_path, num_of_freq_selected, reference_amt, test_references_params):\n",
        "  working_df = pd.read_csv(input_path)\n",
        "  working_df['Distance_km'] = working_df['Distance_km'].astype(int)\n",
        "  #working_df = working_df.sample(frac = 1) # Shuffle df\n",
        "\n",
        "  reference_data_df, sample_data_df = get_reference_and_sample_data(working_df, reference_amt)\n",
        "\n",
        "  reference_freq_data_df = frequencies_filter(reference_data_df, num_selected_freq=num_of_freq_selected)\n",
        "  sample_freq_data_df = frequencies_filter(sample_data_df, num_selected_freq=num_of_freq_selected)\n",
        "\n",
        "  rows_training, rows_testing = get_idx_train_test_split(sample_data_df, trainingProp = 0.8)\n",
        "\n",
        "  print('Calculating train split:')\n",
        "  training_df = get_features(sample_freq_data_df, reference_freq_data_df, rows_training, test_references_params)\n",
        "  print('Calculating test split:')\n",
        "  testing_df = get_features(sample_freq_data_df, reference_freq_data_df, rows_testing, test_references_params)\n",
        "\n",
        "  return training_df, testing_df, reference_freq_data_df, sample_freq_data_df, rows_training, rows_testing"
      ],
      "metadata": {
        "id": "uL35uf_RjV3r"
      },
      "execution_count": 18,
      "outputs": []
    },
    {
      "cell_type": "markdown",
      "source": [
        "# Bootstrapping"
      ],
      "metadata": {
        "id": "S_ysZa0NcV0W"
      }
    },
    {
      "cell_type": "markdown",
      "source": [
        "## Get max and min values of each column"
      ],
      "metadata": {
        "id": "WcOO339iclrH"
      }
    },
    {
      "cell_type": "code",
      "source": [
        "def get_max_min_val_col(working_df):\n",
        "  distances = [x*80 for x in range(1, 26)]\n",
        "  data_working_df = working_df.iloc[:, 6:working_df.shape[1]]\n",
        "  h_list = list(data_working_df.columns.values)\n",
        "  max_min_col_dict = {header:[] for header in h_list}\n",
        "\n",
        "  for d in tqdm(distances):\n",
        "    boot_dist_df = working_df.loc[working_df['Distance_km'] == d]\n",
        "    for idx in range(6, boot_dist_df.shape[1]):\n",
        "      max_val_col = float(boot_dist_df.iloc[:, [idx]].max()) # max val in col\n",
        "      min_val_col = float(boot_dist_df.iloc[:, [idx]].min()) # min val in col\n",
        "      h = boot_dist_df.iloc[:, [idx]].columns # header of col\n",
        "      h = h[0]\n",
        "      max_min_col_dict[h].append((d, min_val_col, max_val_col))\n",
        "  return max_min_col_dict"
      ],
      "metadata": {
        "id": "aekr6Y0OcZ3w"
      },
      "execution_count": null,
      "outputs": []
    },
    {
      "cell_type": "markdown",
      "source": [
        "## Create new samples using bootstrap technique"
      ],
      "metadata": {
        "id": "_0nAH77NcoA_"
      }
    },
    {
      "cell_type": "code",
      "source": [
        "def create_bootstrap_samples(working_df, max_min_col_dict, num_of_new_samples, previos_amt_of_samples=13):\n",
        "  import random\n",
        "\n",
        "  row_data = []\n",
        "  PBRS_id_data = []\n",
        "  Distance_km_data = []\n",
        "  power_dBm_data = []\n",
        "  span_data = []\n",
        "\n",
        "  h_list = list(working_df.columns.values)\n",
        "  new_data = {header:[] for header in h_list}\n",
        "\n",
        "  last_row_in_old_df_val = working_df.shape[0]\n",
        "  for new_sample in tqdm(range(num_of_new_samples)): # generating (num_of_new_samples) new samples for en data\n",
        "    for d in distances:\n",
        "      new_data['row'].append(last_row_in_old_df_val)\n",
        "      last_row_in_old_df_val += 1\n",
        "      new_data['PBRS_id'].append(new_sample+(previos_amt_of_samples+1))\n",
        "      new_data['Channels'].append(1)\n",
        "\n",
        "      new_data['Distance_km'].append(d)\n",
        "      new_data['power_dBm'].append(0)\n",
        "      new_data['#span'].append(int(d/80))\n",
        "\n",
        "      for k, v in max_min_col_dict.items(): # header:(d, min_val_col, max_val_col)\n",
        "        for val in v:\n",
        "          if val[0] == d:\n",
        "            bootstrap_val = round(random.uniform(val[1], val[2]), 14)\n",
        "            new_data[str(k)].append(bootstrap_val)\n",
        "            break\n",
        "  new_data_df = pd.DataFrame.from_dict(new_data)\n",
        "\n",
        "  return new_data_df"
      ],
      "metadata": {
        "id": "reVgqwbfckwp"
      },
      "execution_count": null,
      "outputs": []
    },
    {
      "cell_type": "markdown",
      "source": [
        "## Combine previos df with bootstraped df"
      ],
      "metadata": {
        "id": "Yqct6pgmctpY"
      }
    },
    {
      "cell_type": "code",
      "source": [
        "input_path = path + \"/Spectrum/NN/new_data_working_df.csv\"\n",
        "working_df = pd.read_csv(input_path)\n",
        "working_df['Distance_km'] = working_df['Distance_km'].astype(int)\n",
        "\n",
        "max_min_col_dict = get_max_min_val_col(working_df)\n",
        "new_data_df = create_bootstrap_samples(working_df, max_min_col_dict, num_of_new_samples=400, previos_amt_of_samples=100)\n",
        "new_working_df = working_df.append(new_data_df)\n",
        "\n",
        "new_working_df.to_csv(path + \"/Spectrum/NN/bootstraped_new_data_working_df.csv\", index=False)"
      ],
      "metadata": {
        "colab": {
          "base_uri": "https://localhost:8080/"
        },
        "id": "b1mZ4Wb0cvLv",
        "outputId": "19fb3e51-3723-41f7-eb46-e7d871a2c485"
      },
      "execution_count": null,
      "outputs": [
        {
          "output_type": "stream",
          "name": "stderr",
          "text": [
            "100%|██████████| 25/25 [01:52<00:00,  4.49s/it]\n",
            "100%|██████████| 400/400 [01:48<00:00,  3.70it/s]\n"
          ]
        }
      ]
    },
    {
      "cell_type": "markdown",
      "source": [
        "#Test new data"
      ],
      "metadata": {
        "id": "-4aouQ6qQRor"
      }
    },
    {
      "cell_type": "markdown",
      "source": [
        "## Hope better"
      ],
      "metadata": {
        "id": "8Ou1UMjPtiWN"
      }
    },
    {
      "cell_type": "code",
      "source": [
        "def get_label_data_splits(input_path, num_of_freq_selected, reference_amt, split_done=False, test_references_params=(False, [80, 1040, 2000])):\n",
        "\n",
        "  if split_done == False:\n",
        "    training_df, testing_df, reference_freq_data_df, sample_freq_data_df, rows_training, rows_testing = get_train_test_split_main(input_path, num_of_freq_selected, reference_amt, test_references_params)\n",
        "\n",
        "    training_df.to_csv(path+\"/Spectrum/NN/train_test_splits/v2_bootstraped_new_data_training_data_NN_freq_\"+str(num_of_freq_selected)+\"_reference_\"+str(reference_amt)+\".csv\", header=True, index=False)\n",
        "    testing_df.to_csv(path+\"/Spectrum/NN/train_test_splits/v2_bootstraped_new_data_testing_data_NN_freq_\"+str(num_of_freq_selected)+\"_reference_\"+str(reference_amt)+\".csv\", header=True, index=False)\n",
        "\n",
        "    reference_freq_data_df.to_csv(path+\"/Spectrum/NN/train_test_splits/v2_bootstraped_new_data_Reference_NN_freq_\"+str(num_of_freq_selected)+\"_reference_\"+str(reference_amt)+\".csv\", header=True, index=False)\n",
        "    sample_freq_data_df.to_csv(path+\"/Spectrum/NN/train_test_splits/v2_bootstraped_new_data_Sample_NN_freq_\"+str(num_of_freq_selected)+\"_reference_\"+str(reference_amt)+\".csv\", header=True, index=False)\n",
        "\n",
        "    pickle.dump(rows_training, open(path+\"/Spectrum/NN/train_test_splits/v2_bootstraped_traininig_Rows_NN_freq_\"+str(num_of_freq_selected)+\"_reference_\"+str(reference_amt)+\".pkl\",\"wb\"))\n",
        "    pickle.dump(rows_testing, open(path+\"/Spectrum/NN/train_test_splits/v2_bootstraped_testing_Rows_NN_freq_\"+str(num_of_freq_selected)+\"_reference_\"+str(reference_amt)+\".pkl\",\"wb\"))\n",
        "  else:\n",
        "    training_df = pd.read_csv(path+\"/Spectrum/NN/train_test_splits/v2_bootstraped_new_data_training_data_NN_freq_\"+str(num_of_freq_selected)+\"_reference_\"+str(reference_amt)+\".csv\")\n",
        "    testing_df = pd.read_csv(path+\"/Spectrum/NN/train_test_splits/v2_bootstraped_new_data_testing_data_NN_freq_\"+str(num_of_freq_selected)+\"_reference_\"+str(reference_amt)+\".csv\")\n",
        "    \n",
        "    reference_freq_data_df = pd.read_csv(path+\"/Spectrum/NN/train_test_splits/v2_bootstraped_new_data_Reference_NN_freq_\"+str(num_of_freq_selected)+\"_reference_\"+str(reference_amt)+\".csv\")\n",
        "    sample_freq_data_df = pd.read_csv(path+\"/Spectrum/NN/train_test_splits/v2_bootstraped_new_data_Sample_NN_freq_\"+str(num_of_freq_selected)+\"_reference_\"+str(reference_amt)+\".csv\")\n",
        "    with open(path+\"/Spectrum/NN/train_test_splits/v2_bootstraped_traininig_Rows_NN_freq_10_reference_30.pkl\", 'rb') as f:\n",
        "      rows_training = pickle.load(f)\n",
        "    with open(path+\"/Spectrum/NN/train_test_splits/v2_bootstraped_testing_Rows_NN_freq_10_reference_30.pkl\", 'rb') as f:\n",
        "      rows_testing = pickle.load(f)  \n",
        "  \n",
        "  training_df = training_df.iloc[:,:-1]\n",
        "  testing_df = testing_df.iloc[:,:-1]\n",
        "  \n",
        "  Y = training_df.iloc[:, 0].to_numpy().reshape(-1,1)\n",
        "  X = training_df.iloc[:, 1:(training_df.shape[1]-2)]\n",
        "\n",
        "  sc_input = MinMaxScaler()\n",
        "  sc_output = MinMaxScaler()\n",
        "  Y_train = sc_output.fit_transform(Y) # convert distances to values from 0 to 1\n",
        "  X_train = sc_input.fit_transform(X) # convert features to values from 0 to 1\n",
        "\n",
        "  Y = testing_df.iloc[:, 0].to_numpy().reshape(-1,1)\n",
        "  X = testing_df.iloc[:, 1:(testing_df.shape[1]-2)]\n",
        "\n",
        "  Y_test = sc_output.fit_transform(Y) # convert distances to values from 0 to 1\n",
        "  X_test = sc_input.fit_transform(X) # convert features to values from 0 to 1\n",
        "\n",
        "  return Y_train, X_train, Y_test, X_test, sc_output, training_df, testing_df, reference_freq_data_df, sample_freq_data_df, rows_training, rows_testing"
      ],
      "metadata": {
        "id": "vuhTggzTfTlX"
      },
      "execution_count": null,
      "outputs": []
    },
    {
      "cell_type": "code",
      "source": [
        "def predict_test(model_ann, Y_test, X_test, sc_output_c, testing_df, remove_outliers=0.05):\n",
        "  print('Results (freq_'+str(num_of_freq_selected)+'_reference_'+str(reference_amt)+')')\n",
        "  # Predit\n",
        "  start_time = time.time()\n",
        "  Y_test_pred=model_ann.predict(X_test)\n",
        "  pred=list(Y_test_pred)\n",
        "\n",
        "  print('Pred:')\n",
        "  print(pred)\n",
        "  \n",
        "  time_eval_ann=time.time()-start_time\n",
        "\n",
        "  dist_min=sc_output_c.data_min_[0] # 80\n",
        "  dist_max=sc_output_c.data_max_[0] # 2000\n",
        "\n",
        "  real=list(list(zip(*Y_test))[0])\n",
        "  real_abs=np.add(dist_min,np.multiply((dist_max-dist_min),real)) # convert back to distances values from scalar\n",
        "  real_abs=[int(np.round(i)) for i in real_abs]\n",
        "  pred_abs=np.add(dist_min,np.multiply((dist_max-dist_min),pred)) # convert back to distances values from scalar\n",
        "\n",
        "  print('Real_abs:')\n",
        "  print(real_abs)\n",
        "  print('Pred_abs:')\n",
        "  print(pred_abs)\n",
        "\n",
        "  real_abs_e1 = real_abs\n",
        "  real_abs_e2 = real_abs\n",
        "\n",
        "  pred_abs_e1 = pred_abs\n",
        "  pred_abs_e2 = pred_abs\n",
        "\n",
        "  error=np.divide(np.abs(np.subtract(np.array(real_abs),np.array(pred_abs))),np.array(real_abs))\n",
        "  error_v2 = np.abs(np.subtract(np.array(real_abs),np.array(pred_abs)))\n",
        "\n",
        "  remove_outliers = math.ceil((len(error_v2)*remove_outliers)/2)\n",
        "\n",
        "  for outlier in range(1, remove_outliers+1):\n",
        "    min_idx_e1 = np.argmin(error)\n",
        "    max_idx_e1 = np.argmax(error)\n",
        "\n",
        "    min_idx_e2 = np.argmin(error_v2)\n",
        "    max_idx_e2 = np.argmax(error_v2)\n",
        "\n",
        "    error = np.delete(error, min_idx_e1)\n",
        "    error = np.delete(error, max_idx_e1)\n",
        "    real_abs_e1 = np.delete(real_abs_e1, min_idx_e1)\n",
        "    real_abs_e1 = np.delete(real_abs_e1, max_idx_e1)\n",
        "    pred_abs_e1 = np.delete(pred_abs_e1, min_idx_e1)\n",
        "    pred_abs_e1 = np.delete(pred_abs_e1, max_idx_e1)\n",
        "\n",
        "    error_v2 = np.delete(error_v2, min_idx_e2)\n",
        "    error_v2 = np.delete(error_v2, max_idx_e2)\n",
        "    real_abs_e2 = np.delete(real_abs_e2, min_idx_e1)\n",
        "    real_abs_e2 = np.delete(real_abs_e2, max_idx_e1)\n",
        "    pred_abs_e2 = np.delete(pred_abs_e2, min_idx_e1)\n",
        "    pred_abs_e2 = np.delete(pred_abs_e2, max_idx_e1)\n",
        "\n",
        "  res=pd.DataFrame({\"dist\":real_abs_e1,\"pred\":pred_abs_e1,\"error\":error})\n",
        "  res.to_csv(path+\"/Spectrum/NN/NN_results_error/v2_bootstraped_new_data_results_curve_freq_\"+str(num_of_freq_selected)+\"_reference_\"+str(reference_amt)+\".csv\", header=True, index=False)\n",
        "\n",
        "  res_v2=pd.DataFrame({\"dist\":real_abs_e2,\"pred\":pred_abs_e2,\"error\":error_v2})\n",
        "  res.to_csv(path+\"/Spectrum/NN/NN_results_error/v2_bootstraped_new_data_results_deltas_freq_\"+str(num_of_freq_selected)+\"_reference_\"+str(reference_amt)+\".csv\", header=True, index=False)\n",
        "  \n",
        "  plt.plot(real_abs_e1,error,'bo')\n",
        "  plt.xlabel('Distances') \n",
        "  plt.ylabel('Error') \n",
        "  plt.title(\"Results Curve (freq_\"+str(num_of_freq_selected)+\"_reference_\"+str(reference_amt)+\")\")\n",
        "  plt.savefig(path+\"/Spectrum/NN/NN_results_plots/v2_bootstraped_new_data_results_curve_freq_\"+str(num_of_freq_selected)+\"_reference_\"+str(reference_amt)+\".png\")\n",
        "  plt.show()\n",
        "  \n",
        "  plt.plot(real_abs_e2,error_v2,'bo')\n",
        "  plt.xlabel('Distances') \n",
        "  plt.ylabel('Error') \n",
        "  plt.title(\"Results Deltas (freq_\"+str(num_of_freq_selected)+\"_reference_\"+str(reference_amt)+\")\")\n",
        "  plt.savefig(path+\"/Spectrum/NN/NN_results_plots/v2_bootstraped_new_data_results_deltas_freq_\"+str(num_of_freq_selected)+\"_reference_\"+str(reference_amt)+\".png\")\n",
        "  plt.show()"
      ],
      "metadata": {
        "id": "VM7Qp086iJzS"
      },
      "execution_count": null,
      "outputs": []
    },
    {
      "cell_type": "code",
      "source": [
        "def train_model(X_train, Y_train):\n",
        "  print('Training model (freq_'+str(num_of_freq_selected)+'_reference_'+str(reference_amt)+')...')\n",
        "  from keras.models import Sequential\n",
        "  from keras.layers import Dense,Conv2D, Flatten, Dropout\n",
        "  from keras.wrappers.scikit_learn import KerasRegressor\n",
        "  from keras.callbacks import EarlyStopping\n",
        "  from tqdm.keras import TqdmCallback\n",
        "\n",
        "  def ann():\n",
        "      model = Sequential()\n",
        "      model.add(Dense(76, input_dim = 5, activation = 'tanh'))\n",
        "      model.add(Dense(38,activation='tanh'))\n",
        "      model.add(Dense(38,activation='tanh'))      \n",
        "      model.add(Dense(19,activation='tanh'))\n",
        "      model.add(Dense(19,activation='tanh'))\n",
        "      model.add(Dense(9,activation='tanh'))\n",
        "      model.add(Dense(9,activation='tanh'))\n",
        "      model.add(Dense(1))\n",
        "      model.compile(loss ='mean_squared_error',optimizer = 'RMSprop')\n",
        "      return model\n",
        "\n",
        "  model_ann = KerasRegressor(build_fn=ann,epochs=8000,batch_size=32, verbose=0)\n",
        "\n",
        "  start_time = time.time()\n",
        "  callback = [EarlyStopping(monitor='loss', patience=500)]#, TqdmCallback(verbose=2)]\n",
        "  model_ann.fit(X_train, Y_train, callbacks=callback)\n",
        "  time_train_ann = time.time() - start_time\n",
        "\n",
        "  model_ann.model.save(path+\"/Spectrum/NN/NNs/v2_bootstraped_final_new_data_NN_model_freq_\"+str(num_of_freq_selected)+\"_reference_\"+str(reference_amt)+\".h5\")\n",
        "  \n",
        "  return model_ann"
      ],
      "metadata": {
        "id": "eg-RpJrnfDCC"
      },
      "execution_count": null,
      "outputs": []
    },
    {
      "cell_type": "code",
      "source": [
        "num_of_freq_selected = 25\n",
        "reference_amt = 25\n",
        "input_path = path + \"/Spectrum/NN/bootstraped_new_data_working_df.csv\"\n",
        "\n",
        "Y_train_c, X_train_c, Y_test_c, X_test_c, sc_output_c, training_df_c, testing_df_c, reference_freq_data_df_c, sample_freq_data_df_c, rows_training_c, rows_testing_c = get_label_data_splits(input_path, num_of_freq_selected, reference_amt, split_done=True)"
      ],
      "metadata": {
        "id": "HO4JJwuiQTCe"
      },
      "execution_count": null,
      "outputs": []
    },
    {
      "cell_type": "code",
      "source": [
        "model_ann_c = train_model(X_train_c, Y_train_c)\n",
        "'''\n",
        "# Load network\n",
        "from keras.models import load_model\n",
        "model_ann_c = KerasRegressor(build_fn=ann, epochs=8000, batch_size=32, verbose=0)\n",
        "model_ann_c.model = load_model(path+\"/Spectrum/NN/NNs/v2_bootstraped_final_new_data_NN_model_freq_10_reference_30.h5\")\n",
        "'''"
      ],
      "metadata": {
        "colab": {
          "base_uri": "https://localhost:8080/",
          "height": 70
        },
        "id": "9XynTocCnzhi",
        "outputId": "fc6d033f-d6bd-43a0-889d-afa4f4e577ec"
      },
      "execution_count": null,
      "outputs": [
        {
          "output_type": "stream",
          "name": "stdout",
          "text": [
            "Training model (freq_10_reference_30)...\n"
          ]
        },
        {
          "output_type": "execute_result",
          "data": {
            "text/plain": [
              "'\\n# Load network\\nfrom keras.models import load_model\\nmodel_ann_c = KerasRegressor(build_fn=ann, epochs=8000, batch_size=32, verbose=0)\\nmodel_ann_c.model = load_model(path+\"/Spectrum/NN/NNs/bootstraped_final_new_data_NN_model_freq_10_reference_30.h5\")\\n'"
            ],
            "application/vnd.google.colaboratory.intrinsic+json": {
              "type": "string"
            }
          },
          "metadata": {},
          "execution_count": 61
        }
      ]
    },
    {
      "cell_type": "code",
      "source": [
        "#predict_test(model_ann_c, Y_test_c, X_test_c, sc_output_c)\n",
        "predict_test(model_ann_c, Y_test_c, X_test_c, sc_output_c, testing_df_c, remove_outliers=0.05)"
      ],
      "metadata": {
        "colab": {
          "base_uri": "https://localhost:8080/",
          "height": 727
        },
        "id": "sNy39pL-mxsN",
        "outputId": "773b6668-ed7d-4bbc-a36c-d48e192c1a92"
      },
      "execution_count": null,
      "outputs": [
        {
          "output_type": "stream",
          "name": "stdout",
          "text": [
            "Results (freq_10_reference_30)\n",
            "Pred:\n",
            "[0.29287773, 0.66705185, 0.039132357, 0.15805683, 0.0015590787, 0.16972357, 0.53846043, 0.49954915, 0.36697972, 0.87992704, 0.95618886, 0.46099257, 0.5423037, 0.20631373, 0.36760965, 0.95786345, 0.5779298, 0.99871343, 0.9133212, 0.8810098, 0.82477295, 0.9995782, 0.45632678, 0.54014075, 0.12276915, 0.07592708, 0.49985915, 0.5806056, 0.75135815, 0.49636275, 0.04098466, 0.95764047, 0.78314495, 0.33867157, 0.7810335, 0.04768166, 0.41226587, 0.12685117, 0.79446155, 0.41266203, 0.33504897, 0.62860847, 0.58170587, 0.66277015, 0.544399, 0.70501864, 0.49844426, 0.6620058, 0.17485958, 0.58577484, 0.24768162, 0.8379502, 0.25134516, 0.58037513, 0.75346416, 0.5458758, 0.5390785, 0.12177497, 0.95651907, 0.2043837, 0.423998, 0.70376474, 0.63199055, 0.6695021, 0.95104873, 0.03918761, 0.7084459, 0.6288515, 0.79166734, 0.53474015, 0.45048916, 0.87510467, 0.24290524, 0.6220513, 0.040807545, 0.6209423, 0.28694952, 0.53677845, 1.0082691, 0.91621697, 0.2036018, 0.28819895, 0.9578136, 0.28975064, -4.2557716e-05, 0.08195305, 0.7949276, 0.8743799, 0.00054106116, 0.7060692, 0.29654756, 0.6710549, 0.20757164, -0.001105696, 0.3805875, 0.7929367, 0.5806056, 0.6227599, 0.12276915, 0.29473925, 0.9570641, 0.7060692, 0.5037237, 0.2883305, 0.41226587, 0.61023545, 0.53474015, 0.2083104, 0.5335201, 0.95022166, 1.0024371, 0.7973954, 0.3373359, 0.20631373, 0.82627106, 0.42462912, 0.4162727, 0.12177497, 0.12685889, 0.25432187, 0.11917755, 0.0038108826, 0.8761451, 0.00095540285, 0.83440137, 0.49655125, 0.67507255, 0.71152294, 0.16573814, 0.54061717, 0.954221, 0.24909213, 0.16735852, 0.04496935, 0.123621464, -0.00064879656, 0.12685117, 0.33504897, 0.0028500855, 0.2965744, 0.8338555, 0.17485958, 0.5779298, 1.0004501, 0.04098466, 0.74693465, 0.9155325, 0.46071264, 0.047464132, 0.58577484, 0.87510467, 0.7921683, 0.4122307, 0.42034203, 0.6129028, 0.6224733, 0.4182373, 0.7556404, 0.70501864, 0.58163834, 0.8347527, 0.34104517, 0.6253712, 0.70900166, 0.78597164, 0.11848858, 0.7949276, 0.6280371, 0.16667989, 0.99683553, -0.0001936853, 0.3774138, 0.29124984, 0.36746702, 0.0028724372, 0.799489, 0.91594696, 0.668059, 0.24454969, 0.5461351, 0.66601443, 0.82591146, 0.7976946, 0.58252525, 0.662615, 0.75683963, 0.73724794, 0.95104873, 0.42034203, 0.37269157, 0.99957824, 0.24950653, 0.29141825, 0.37421435, 0.6563922, 0.5512986, 0.70566833, 0.5013708, 0.32361048, 0.7077677, 0.6336093, 0.6253613, 0.12428394, 0.41226587, 0.75346416, 0.3680707, 0.58252525, 0.84298944, 0.6640982, 0.70376474, 0.08635497, 0.9578136, 0.8379502, 0.31157145, 0.088167876, 0.956898, 0.04250014, 0.7949276, 0.24872427, 0.047464132, 0.99503547, 0.12077856, 0.809487, 0.53507596, 0.82591146, 0.5779298, 0.6220513, 0.29473925, 0.9999475, 0.95581377, 0.8336552, 0.3373359, 1.0024371, 0.29628092, 0.5458758, 0.66439384, 0.08188295, 0.799489, 0.5057788, 0.08044717, 0.61023545, 0.08182493, 0.75683963, 0.7516593, 0.5074374, 0.66277015, 0.95022166, 0.46156064, 0.03918761, 0.04768166, 0.8752779, 0.6288515, 0.040807545, 0.6280371, -0.00064876676, 0.9955219, 0.1232076, 0.73724794, 0.9571538, -0.00011909008, 0.6620058, 0.4162727, 0.9086122, 0.84115213, 0.24061884, 0.32991636, 0.8745636, 0.742962, 0.36746702, 0.2036018, 0.3849605, 0.83440137, 0.4632115, 0.8301197, 0.8347527, 0.669502, 0.66282415, 0.20461324, 0.67507243, 0.91477835, 0.125168, 0.41246378, 1.0004501, 0.2043837, 0.95104873, 0.668059, 0.66601443, 0.33181107, 0.4596972, 0.038437784, 0.495435, 0.11917755, 0.20798637, 0.82591146, 0.04250014, -4.2557716e-05, 0.2330627, 0.002903074, 0.5846534, 0.7494564, 0.75135815, 0.2869401, 0.16358116, 0.33664066, 0.4971894, 0.54061717, 0.37269157, 0.71263665, 0.2121624, 0.32361048, 0.3373359, 0.9994672, 0.46598497, 0.9578136, 0.7551392, 0.8845973, 0.45964387, 0.25495327, 0.1657382, 0.0423761, 0.08635497, 0.79947126, 0.16293967, 0.91594696, 0.7911183, 0.92194986, 0.956898, 0.08182493, 0.41266203, 0.91621697, -0.00027528405, 0.5037237, 0.49954915, 0.95369893, 0.5350758, 0.42034203, 0.16715711, 0.040123343, 0.34170052, 0.20609663, 0.91267127, 0.0028500855, 0.7894268, 0.4162727, 0.9571538, 0.33135676, 0.70566833, 0.8358111, 0.8720524, 0.040807545, 0.91332126, 0.3338174, 0.33021683, 0.28564298, 0.41319627, 0.83440137, 0.45909443, 0.9191197, 0.5848481, 0.99912167, 0.15805683, 0.40829146, 0.24607837, 0.742962, 0.2838558, 0.2516536, 0.45353085, 0.6640982, 0.58698094, 0.12077856, 0.20484312, 0.53846043, 0.123621464, 0.5748843, 0.04052928, 0.00095540285, 0.16972357, 0.3301773, 0.040807545, 0.16022769, 0.67157614, 0.331811, 0.87437963, 0.67507255, 0.8810098, 0.12719637, 0.37269157, 0.6336093, 0.5393525, 1.0082691, 0.71282625, 0.6563922, 0.58170587, 0.5512986, 0.46156064, -0.001105696, 0.46259502, 0.71263665, 0.75568134, 0.42462912, 0.66705185, 0.8338555, 0.08732429, 0.7955593, 0.048301876, 0.9578136, 0.73724794, 0.589064, 0.49954915, 0.08752927, -0.00064879656, 0.99552184, 0.20757164, 0.047464132, -0.0001937449, 0.9974921, 0.99576193, 0.16972873, 0.040123343, 0.45048916, 0.8720524, 0.7911183, 0.70489204, 0.08424461, 0.49655125, 0.87992704, 0.123170435, 0.62860847, 0.16667989, 0.8358111, 0.12077856, 0.24872427, 0.65017, 0.20798637, 0.6253712, 0.33504897, 0.4547823, 0.25134516, 0.123621464, 0.41748703, 0.9712147, 0.45584047, 0.75135815, 0.6710549, 0.20631373, 0.7060692, 0.46068567, 0.0423761, 0.6220513, 0.37383178, 0.2838558, 0.24909213, 0.9155325, 0.37482336, 0.87021685, 0.045230657, 0.41519952, 0.2144117, 0.41226587, 0.79166734, 0.2121624, 0.6129028, 0.9191197, 0.7949276, 0.703521, 0.9977235, 0.49580467, 0.084689796, 0.4617631, 0.707288, 0.37269157, 0.2965744, 0.9576404, 0.45048916, 0.922119, 0.07592708, 0.6129028, 0.12719637, 0.41319633, 0.66282415, 0.87992704, 0.04768166, 0.46068573, 0.6220513, 0.99660677, -0.00048935413, 0.91678107, 0.7976946, 0.45909443, 0.49580467, 0.5779298, 0.12685117, 0.95870304, 0.16667989, 0.16710818, 0.66277015, 0.9086122, 0.75346416, 0.3841146, 0.5695658, 0.6280371, 0.9191197, 0.41631612, -4.2557716e-05, 0.6353652, 0.5013708, 0.79166734, 0.45353085, 0.0028500855, 0.7494564, 0.2406189, 0.49628982, 0.5848481, 0.58577484, 0.9155325, 0.2499106, 0.2883305, 0.8810098, 0.8720524, 0.2330627, 0.82627106, 0.33504897, 0.66011673, 0.7810335, 0.41246378, 0.28819895, 0.7921683, 0.29473925, 0.123621464, 0.123170435, 0.28694952, 0.8317561, 0.08182493, 0.084689796, 0.8049711, 0.37039113, 0.7077677, 0.954221, 0.65017, 0.4159047, 0.54014075, 0.49743086, -0.0005309582, 0.32991642, 0.8358111, 0.31157145, 0.543079, 0.83440137, 0.121898204, 0.6209423, 0.73724794, 0.668059, 0.040123343, 0.58252525, 0.66601443, 0.42462912, 0.743598, 0.08195305, 0.5748843, 0.88195217, 0.2838558, 0.54641706, 0.16972873, 0.33141202, 0.04098466, 0.12177497, 0.125168, 0.8255205, 0.70495605, 0.12685889, 0.70501864, 0.99912167, 0.24789447, 0.71282625, 0.66601443, 0.50137085, 0.5390785, 0.9964598, 0.73724794, 0.16781607, 0.54707605, 0.41631612, 0.038437784, 0.91267127, 0.74811727, 0.8757125, 0.37482336, 0.7509459, 0.6224733, 0.088006526, 0.669502, 0.29124984, 0.36760965, 0.6209423, 0.49873716, 0.20631373, 0.8317561, 1.0024371, 0.66975564, 0.82477295, 0.11848858, 0.6620058, 0.58252525, 0.99683553, 0.37530732, 0.16293967, 0.75513923, 0.24619037, 0.41319627, 0.6336093, 0.46068573, 0.039132357, 0.33021683, 0.75683963, 0.07592708, 0.74693465, 0.49954915, 0.12656176, 0.66439384, 0.8780254, 0.5482495, 0.085101366, 0.16972357, 0.29818243, 0.543079, 0.4151889, 0.6220513, -0.0001936853, 0.423998, 0.25495327, 0.743598, 0.6563922, 0.58405507, 0.03918761, 0.87419105, 0.040123343, 0.2078183, 0.53846043, 0.61023545, 0.66282415, 0.44769976, 0.74734527, 0.34170052, 0.6280371, 0.54014075, 0.08512238, 0.799489, 0.99552184, 0.3392889, 0.7077677, 0.79201925, 0.8094869, 0.70900166, 0.5871692, 0.33480924, 0.66705185, 0.34104517, 0.92278874, 0.8810098, 0.4162727, 0.95786345, 0.5057788, 0.16634989, 0.49588278, 0.33135676, 0.7810335, 0.79166734, 0.16972873, 0.66705185, 0.5834743, 0.3770582, 0.8049711, 0.03918761, 0.12177497, 0.67507243, 0.6336093, 0.04496935, 0.12975186, 0.7955593, 0.92199576, 0.0038108826, 0.040696412, 0.3841146, 0.36760965, 0.9995782, 0.956898, 0.3301773, 0.04768166, 0.46598497, 0.37421435, 0.58577484, 0.3680707, 0.875798, 0.8338555, 0.669502, 0.039132357, 0.58405507, 0.24872427, 0.6253613, 0.005058348, 0.5482495, 0.16972357, 0.71282613, 0.83357877, 0.9964598, 0.4596972, 0.20609663, 0.9977235, 0.82627106, 0.95651907, 0.8761451, 0.084689796, 0.9617207, 0.45584047, 0.70489204, 0.20915951, 0.29818243, 0.54641706, 0.24607837, 0.65017, 0.20950232, 0.5512986, 0.24290524, 0.09012318, 0.12077856, 0.49628988, 0.36746702, 0.75568134, 0.5458758, 0.34170052, 0.82477295, 0.20182152, 0.49580467, 0.3373359, 0.12320763, 0.33021677, 0.37269157, 0.37482336, 0.5335201, 0.31157145, 0.41246378, 0.3774138, 0.99871343, 0.83440137, 0.6563922, 0.33069688, 0.08044717, 0.74985194, 0.96268034, 0.54707605, 0.62611073, 0.70566833, 0.38058737, 0.742962, 0.92278874, 0.74985194, 0.375247, 0.1664578, 0.121898204, 0.49588278, 0.91678107, 0.16772488, 0.5848481, 0.9578136, 0.7084459, 0.5458758, 0.8761451, 0.04496938, 0.9133212, 0.29141825, 0.75683963, 0.08557388, 0.70376474, 0.743598, 0.95786345, 0.12077856, 0.63199055, 0.2869401, 0.82591146, 0.99683553, 0.9571538, 0.66282415, 0.038437784, 0.668059, 0.49844426, 0.3770582, 0.24872427, 0.039132357, 0.2083104, 0.8784435, 0.29654756, 0.2516536, 0.66975564, 0.17105764, 0.0028724372, 0.49873716, 0.543079, 0.9191197, 0.92194986, 0.28694952, 0.70489204, 0.088167876, 0.7973954, 0.58163834, 0.00095540285, 0.6353652, 0.16614175, 0.66601443, 0.5871692, 0.0021306276, 0.33480924, 0.7955593, 0.16667989, 0.87021685, 0.29287773, 0.33021683, 0.8780254, 0.32361048, 0.58037513, 0.123621464, 0.49743086, 0.9994672, 0.54641706, 0.6336093, 0.20631373, 0.5695658, 0.16358116, 0.36697972, 0.12004286, 0.62001956, 1.0004501, 0.37482333, 0.24909213, 0.70900166, 0.62860847, 0.2838558, 0.82477295, 0.4182373, 0.08732429, 0.12428394, 0.8347527, 0.5390785, 0.16781607, 0.5393525, 0.66705185, 0.73724794, 0.37383178, 0.2083104, 0.662615, 0.7810335, -0.0001936853, 0.16358116, 0.74693465, 0.5848481, 0.87922835, 0.5335201, 0.7115228, 0.07592708, 0.66439384, 0.9133212, 0.12685117, 0.5806056, 0.45567173, 0.9617207, 0.6640982, 0.045230657, 0.82477295, -0.001105696, 0.31157145, 0.08039886, 0.41319627, 0.12004286, 0.42977017, 0.12276915, 0.46259502, 0.21393804, 0.043046594, 0.6253712, 0.5013708, 0.8046782, 0.54014075, 0.66277015, 0.58577484, 0.75568134, 0.36760965, 0.95618886, 0.707288, 0.33381736, 0.37421435, 0.33480924, 0.8720524, 0.8301197, 0.36914483, 0.37530732, 0.085101366, 0.49954915, 0.20757164, 0.46068573, 0.58163834, 0.28564298, 0.29141825, 0.70900166, 0.2063975, 0.99683553, 0.34104517, 0.66705185, 0.79156995, 0.12400815, 0.2043837, 0.45353085, 0.08752927, 0.33664066, 0.71225464, 0.41519952, 0.8780254, 0.7556404, 0.79446155, 0.7911183, 0.53846043, 0.3392889, 0.8752779, 0.70495605, 0.6620058, 0.08512238, 0.87021685, 0.28975064, 0.99957824, 0.5423038, 0.49588278, 0.95581377, 0.8049711, 0.29083338, 0.5695658, 0.7976946, 0.36746702, 0.2516536, 0.46071264, 0.04098466, 0.7487481, 0.3301773, 0.9958035, 0.41319627, 0.5848481, 0.1261628, 0.21393804, 0.16358116, 0.24768162, 0.040696412, 0.79933846, 0.99912167, 0.7810335, 0.16667989, 0.46259502, 0.12077856, 0.20631373, 0.6227599, 0.662615, 0.62860847, 0.16735852, 0.16710815, -0.00011909008, 0.20994388, 0.66282415, 0.8752779, 0.0022900403, 0.24619031, 0.12276915, 0.99503547, 0.9964598, 0.6253613, 0.75135815, 0.6224733, 0.9576404, -0.00027528405, 0.20609663, 0.91477835, 0.043046594, 0.45048916, 0.1232076, 0.91678107, -0.001105696, 0.12975186, 0.8761451, 0.9602822, 0.0028724372, 0.7955593, 0.16614175, 0.20915951, 0.70501864, 0.29124984, 0.8411522, 0.36914495, 0.33480924, 0.95104873, 0.46099257, 0.49873716, 0.24454969, 0.12719637, 0.7949276, 0.9133212, 0.41519952, 0.6640982, 0.37530732, 0.67157614, 0.5482495, 0.6353652, 0.6280371, 0.49844426, 0.49743086, 0.4151889, 0.8255205, 0.5393525, 0.37039113, 0.4162727, 0.34104517, 0.3849605, 0.5846534, 0.8379502, 0.12400815, 0.58717376, 0.46068573, 0.668059, 0.50149834, 0.36746705, 0.45632678, 0.9994672, 0.04250014, 0.12656176, 0.87992704, 0.6336093, 0.8049711, 0.7138117, 0.75568134, 0.92199576, 0.16634989, 0.95581377, 0.589064, 0.20798637, 0.24454969, 0.9571538, 0.70900166, 0.87922835, 0.922119, 0.54707605, 0.78597164, 0.7056724, 0.6288515, 0.08752927, 0.2869401, 0.24768162, 0.91594696, 0.6253712, 0.24619031, 0.92194986, 0.5836276, 0.15805677, 0.42462912, 0.0028500855, 0.2838558, 0.043124706, 0.6623121, 0.16772488, 0.7894268, 0.16735852, 0.0015590787, 0.20484312, 0.42034203, 0.70495605, 0.5057788, 0.6227599, 0.32991636, 0.79166734, 0.543079, 0.46068573, 0.71282625, 0.12719637, 0.4632115, 0.16358116, 0.37530732, 0.8784435, 0.6220513, 0.62860847, 0.29473925, 0.12656176, 0.8046782, 0.63199055, 0.3417006, 0.41748708, 0.58163834, -0.00064879656, 0.9958035, 0.6129028, 0.17105764, 0.16022769, 0.84115213, 0.87510467, 0.24789447, 0.2883305, 0.58405507, 0.8379502, 0.49570215, 0.20631373, 0.4617631, 0.91187656, 0.20757164, 0.040123343, 0.79156995, 0.4547823, 0.75135815, 0.085101366, 0.46259502, 0.3373359, 0.12276915, 0.91678107, 0.71225464, 0.7911183, 0.954221, 0.45909443, 0.33867174, 0.6336093, 0.24061884, 0.75139004, 0.25134516, 0.49636275, 0.38058737, 0.4971894, 0.54641706, 0.70489204, 0.83440137, 0.99683553, 0.46156064, 0.54707605, 0.70376474, 0.048301876, 0.74693465, 0.3841146, 0.78314495, 0.743598, 0.6227599, 0.085101366, 0.12685117, 0.5748843, 0.4104823, 0.2063975, 0.047464132, -0.0005310476, 0.9974921, 0.87419105, 0.45232403, 0.3774138, 0.7138116, 0.5803753, 0.9712147, 0.543079, 0.46099257, 0.24950665, 0.41519952, 0.33867157, 0.75139004, 0.7077677, 0.5037237, 0.99503547, 0.9191197, 0.16715711, 0.20757164, 0.45964387, 0.12428394, 0.08182493, 0.70489204, 0.16667989, 0.74734527, 0.34170052, 0.41226587, 0.8845973, 0.7929368, 0.04250014, 0.5335201, 0.544399, 0.08732429, 0.34104517, 0.6253712, 0.45584047, 0.6288515, 0.99871343, 0.87992704, 0.20461324, -0.0001936853, 0.79446155, 0.33480924, 0.74811727, 0.8242573, 0.039132357, 0.65017, 0.2330627, 0.0028724372, 0.08635497, 0.49588278, 0.6220513, 0.66277015, 0.74985194, 0.58698094, 0.5013708, 0.8301197, 0.79947126, 0.043046594, 0.45909443, 0.8810098, 0.8780254, 0.46259502, 0.03918761, 0.78597164, 0.04768166, 1.0082691, 0.0028500855, 0.08800644, 0.95581377, 0.5871692, 0.331811, 0.9576404, 0.24374904, 0.49655125, 0.29654756, 0.20609663, 0.08635497, 0.742962, 0.95651907, 0.45353085, 0.922119, 0.58405507, 1.0004501, 0.40829146, 0.42977017, 0.91678107, 0.5390785, 0.123170435, 0.24768162, 0.24675614, 0.75346416, 0.2845366, 0.3301773, 0.9161451, 0.46598497, 0.8783665, 0.08732429, 0.3849605, 0.12719637, 0.20831046, 0.53846043, 0.3680707, 0.662615, 0.17105764, 1.0018563, 0.4632115, 0.16781607, 0.95618886, 0.6623121, 0.3774138, 0.08424461, 0.58170587, 0.08044717, 0.0028500855, 0.79156995, -0.00048935413, 0.20915951, 0.99871343, 0.67507243, 0.04098466, 0.33381736, 0.9958035, 0.74734527, 0.88195217, 0.91267127, 0.91187656, 0.20994388, 0.41748703, 0.9995782, 0.24619031, 0.17485958, 0.31157157, 0.7060691, 0.91621697, 0.2883305, 0.9191197, 0.8720524, 0.20461324, 0.45584047, 0.04052928, 0.24374904, 0.954221, 0.12685117, 0.8301197, 0.0028724372, 0.36697972, 0.5037237, 0.58577484, 0.84298944, 0.67157614, 0.49570215, 0.49954915, 0.2965744, 0.6336093, 0.9602822, 0.66011673, 0.0423761, 0.8358111, 0.12975186, 0.6280371, 0.7810335, 0.5834743, 0.12400815, 0.41519955, 0.29628086, 0.92199576, 0.70376474, 0.5057788, 0.8761451, 0.99552184, -0.00011909008, 0.58405507, 0.8743799, 0.799489, 0.82591146, 0.9712147, 0.7056724, 0.49628988, 0.92246705, 0.24619031, 0.79947126, 0.8242573, 0.70495605, 0.8301197, 0.005058348, 0.5335201, 0.79156995, 0.495435, 0.2043837, 0.36914483, -0.00048935413, 0.6623121, 0.12077856, 0.5350758, 1.0004501, 0.038437724, 0.7495073, 0.70566833, 0.36746702, 0.99660677, 0.669502, 0.24675614, 0.70489204, 0.5037237, 0.8845973, 0.99576193, 0.8784435, 0.8783665, 0.11848858, 0.16772488, 0.9964598, 0.66282415, 0.123621464, 0.16358116, 0.45584047, 0.75135815, 0.25134516, 0.9086122, 0.6280371, 0.5074374, 0.04250014, 0.16781607, 0.2330627, 0.04098466, 0.9189569, 0.24061884, 0.99683553, -4.2527914e-05, 0.83175623, 0.2144117, 0.7921683, 0.40829146, -0.0005310476, 0.12685889, 0.6353652, 0.331811, 0.08512238, 0.37386414, 0.54014075, 0.08188295, 0.78314495, 0.8094869, 0.6224733, 0.16022769, 0.956898, 0.0022900403, 0.002078712, 0.08424461, 0.45632678, 0.45567167, 0.7138117, 0.33021683, 0.33664066, 0.24909213, 0.662615, 0.5806056, 0.084689796, 0.3841146, 0.5836276, 0.8255205, 0.46068567, 0.7810335, 0.6129028, 0.875798, 0.589064, 0.40829146, 0.5482495, 0.87510467, 0.3301773, 0.58717376, 0.46071264, 0.922119, 0.8743799, 0.41226587, 0.9570641, 0.24061884, 0.53846043, 0.33021683, 0.9995782, 0.2838558, 0.6253613, 0.7949276, 0.20950232, 0.5806056, 0.662615, 0.5871692, 0.6623121, 0.54061717, -4.2557716e-05, 0.92199576, 0.3770582, 0.28564304, 0.7077677, 0.2121624, 0.3680707, 0.08752927, 0.37386414, 0.49844426, 0.61023545, 0.9994672, 0.121898204, 0.12177497, 0.34170052, 0.7494564, 0.6336093, 0.36697972, 0.16972357, 0.5013708, 0.79166734, 0.2092294, 0.16710818, 0.5461351, 0.7060692, 0.84298944, 0.24872427, 0.123170435, 0.03987345, 0.7056724, 0.74985194, 0.669502, 0.24374904, 0.95618886, 0.91594696, 0.87836653, 0.6643938, 0.2083104, 0.8720524, 0.37383178, 0.31157145, 0.8049711, 0.045230657, 0.16573814, 0.67157614, 0.0423761, 0.53474015, 0.37421435, -0.0005310476, 0.99552184, 0.78314495, 0.8757125, 0.4122307, 0.16029441, 0.8780254, 0.17105764, 0.20994388, 0.42977017, 0.79446155, 0.70501864, 0.04098466, 0.6196513, 0.5335201, 0.6563922, 0.08557388, 0.08208108, 0.45232403, 0.66601443, 0.9118766, -0.0001936853, 0.74985194, 0.37383178, 0.6710549, 0.9712147, 0.12719637, 0.82591146, 0.99576193, 0.04768166, -0.001105696, 0.331811, 0.5057788, 0.8242573, 0.048301876, 0.24768162, 0.95022166, 0.2043837, 0.45632678, 0.16022769, 0.71263665, 0.662615, 0.28975064, 0.7810335, 0.61876607, 0.33504897, 0.08188295, 0.88195217, 0.24640286, 0.8255205, 0.63199055, 0.41748708, 0.2965744, 0.2078183, 0.7976946, 0.123621464, 0.66975564, 0.123170435, 0.82477295, 0.6170628, 0.36760965, 0.4151889, 0.040696412, 0.34104517, 0.49743086, 0.33069688, 0.04098466, 0.4122307, 0.423998, 0.6227599, 0.24872427, 0.71225464, 0.49628988, 0.1261628, 0.54061717, 0.04052928, 0.11917755, 0.6129028, 0.08512238, 0.74811727, 0.20609663, 0.45909443, 0.28819895, 0.45048922, 0.58465344, 0.12685889, 0.875798, 0.78597164, 0.7929368, 0.12004286, 0.66011673, 0.04250014, 0.12975186, 0.96268034, 0.29141825, 0.12685117, 0.6620058, 0.543079, 0.75139004, 0.65017, 0.0038108826, 0.7084459, 0.3373359, 0.043046594, 0.49985915, 0.33287126, 0.9578136, 0.5836276, 0.3774138, 0.16573814, 0.62001956, 0.24619031, 0.91621697, 0.24675614, 0.58698094, 0.20922945, 0.24640287, 0.9617207, 0.37530732, 0.33021683, 0.49873716, 0.82856196, 0.58170587, 0.7921683, 0.040807545, 0.92278874, 0.9155325, 0.423998, 0.54707605, 0.24675614, 0.8358111, 0.5846534, 0.33663377, 0.125168, -0.0005310476, 0.91621697, 0.3373359, 0.99871343, 0.3680707, 0.16634989, 0.5482495, 0.88195217, 0.12400815, 0.95870304, 0.9576404, 0.08424461, 0.53846043, 0.32361066, 0.20461334, 0.12685889, 0.29287773, 0.20609663, 0.7949276, 0.79947126, 0.544399, 0.8761451, 0.7911183, 0.45584047, 0.03918761, 0.95651907, 0.4632115, 0.7494564, 0.8094869, 0.24607837, 0.25134516, 0.67507243, 0.7929368, 0.8743799, 0.9964598, 0.662615, 0.9712147, 0.63199055, 0.4182373, 0.5423037, 0.29628092, 0.21393804, 0.6196513, 0.37383178, 0.36746702, 0.38496056, 0.5464171, 0.37421435, 0.956898, 0.8783665, 0.742962, 0.45353085, 0.58163834, 0.9958035, 0.3841146, 0.44769976, 0.7060692, 0.5074374, 0.41519952, 0.5350758, 0.70501864, 0.2845366, 0.29124984, 0.5806056, 0.78597164, 0.24061884, 0.5871692, 0.8379502, 0.5836276, 0.668059, 0.04768166, 0.0015590787, 0.58717376, 0.16293967, 0.25495327, 0.12656176, 0.99552184, 0.16645777, 0.6196513, 0.6253613, 0.8784435, 0.589064, 0.4116672, 0.33867157, 0.41748703, 0.5482495, 0.8338555, 0.37530732, 0.58170587, 0.3770582, 0.375247, 0.6170628, 0.32991636, 0.8783665, 0.87922835, 0.62611073, 0.28705233, 0.62001956, 0.70501864, 0.4547823, 0.084689796, 0.6288515, 0.9133212, 0.0022900403, 0.7084459, 0.95581377, 0.4182373, 0.5393525, 0.9977235, 0.41631615, 0.41627276, 0.04768166, 0.28819895, 0.95369893, 0.20757164, 0.5848481, 0.66705185, 0.8301197, -4.2557716e-05, 0.95651907, 0.2092294, 0.0028500855, 0.08182493, 0.82627106, 0.8379502, 0.61023545, 0.70900166, 0.005058348, 0.24675614, -0.00027528405, 0.24768162, 0.2144117, 0.2063975, 0.799489, 0.49985915, 0.8745636, 0.41319627, 0.07966435, 0.87419105, 0.42034203, 0.75568134, 0.3742144, 0.12975183, 0.12077856, 0.29628092, -0.00048935413, 0.6336093, 0.40829146, 0.20484312, 0.8336552, 0.7556404, 0.8317561, 0.9086122, 0.7056724, 0.544399, 0.5461351, 0.040807545, 0.66011673, 0.88195217, 0.74950737, 0.331811, 0.2883305, 0.5695658, 0.08424461, 0.12719637, 0.70566833, 0.38058737, 0.16358116, 0.28564298, 0.07966435, 0.12004286, 0.6640982, 0.8336552, 0.826271, 0.5430789, 0.7494564, 0.38058737, 0.922119, 0.6253613, 0.16710818, 0.37386414, 0.7115228, 0.33867157, 0.53474015, 0.28694952, 0.12276915, 0.42977017, 0.3373359, 0.03918761, 0.20950232, 0.24909213, 0.53705597, 0.20915951, 0.92194986, 0.495435, 0.9191197, 0.6288515, 0.04250014, 0.4182373, 0.38087356, 0.4159047, 0.74950737, 0.2883305, 0.31157145, 0.07592708, 0.41518885, 0.04768163, 0.0423761, 0.08424461, 0.66277015, 0.8845973, 0.5832751, 0.33287126, 0.45353085, 0.28975064, 0.29654756, 0.8784435, 0.1232076, 0.33480924, 0.9958035, 0.82591146, 0.58170587, 0.87510467, 0.49570215, 0.75135815, 0.41266203, 0.043124706, 0.6620058, 0.95022166, 0.7138117, 0.73724794, 0.78597164, 0.63199055, 0.8780254, 0.16022769, 0.9995782, 0.6129028, 0.33663374, 0.33069688, 0.04931283, 0.8761451, 0.9133212, 0.24374904, 0.58698094, 0.99503547, 0.09012318, 0.8745636, 0.66705185, 0.17105764, 0.6253712, 0.08635497, 0.84115213, 0.08732429, 0.669502, 0.7921683, 0.7487481, 0.67157614, 0.42462912, 0.34170052, 0.11848858, 0.16667989, 0.33021683, 0.8335788, 0.4182373, 0.9712147, 0.37482336, 0.7138117, 0.53474015, 0.37269157, 0.043124646, 0.5443991, 0.20631373, 0.331811, 0.0015590787, 0.99503547, 0.8255205, 0.99660677, 0.25432187, 0.9189569, 0.82856196, 0.6620058, 0.743598, 0.99576193, 0.87922835, 0.29083338, 0.045230657, 0.668059, 0.6227599, 0.6288515, 0.9994672, 0.41748703, 0.45909443, 0.87419105, 0.66601443, 0.24619031, 0.3301773, 0.61023545, 0.8338555, 0.2869401, 0.79947126, 0.2883305, 0.5512985, 0.33480927, 0.91621697, 0.28819895, 0.75135815, 0.16710818, 0.49636275, 0.58252525, 0.5461351, 0.7494564, 0.2144117, 0.84298944, 0.4122307, 0.61876607, 0.08182493, 0.5057788, 0.95369893, 0.5390785, 0.62860847, 0.09012318, 0.125168, 0.66282415, 0.7955593, 0.79446155, 0.7060692, 0.25134516, 0.74950737, 0.7973954, 0.16358116, 0.54014075, 0.9964598, 0.50149846, 0.081882864, 0.75683963, 0.58170587, -4.2557716e-05, 0.6563922, 0.24675614, 0.87977576, 0.82477295, 0.954221, 0.00054106116, 0.8784435, 0.66277015, 0.70489204, 0.40829146, 0.95618886, 0.6353652, 0.38058737, 0.12177497, 0.45048916, 0.49844426, 0.70566833, 0.7976946, 0.2078183, 0.7911183, 0.70501864, 0.49588278, 0.12077856, 0.5013708, 0.16667989, 0.04768166, 0.9964598, 0.12428394, 0.29083323, 0.20182152, 0.5871692, 0.20461324, 0.08195305, 0.49844426, 0.99912167, 0.16022769, 0.63199055, 0.9617207, 0.16715711, 0.5848481, 0.5512986, 0.87021685, 0.123621464, 0.37386414, 0.3301773, 0.37482336, 0.33069688, 0.20609663, 0.28705233, 0.0038108826, 0.29628092, 0.54707605, 0.99660677, 0.544399, 0.37421435, 0.29141825, 0.08182493, 0.46068573, 0.12656176, 0.16573814, 0.6170628, 0.33135664, 0.2083104, 0.2063975, 0.16710818, 0.9974921, 0.99503547, 0.543079, 0.67157614, 0.91594696, 0.743598, 0.87922835, 0.33021683, 0.922119, 0.4971894, 0.58577484, 0.34170052, 0.49985915, 0.0021306276, 0.4547823, 0.07592708, 0.7911183, 0.00095540285, 0.048301876, 0.66601443, 0.95786345, 0.08424461, 0.82477295, 0.20915951, 0.875798, 0.6623121, 0.6224733, 0.83795035, 0.79933846, 0.20798637, 0.53677845, 0.0423761, 0.29818243, 0.29654756, 0.5335201, 0.46259502, 0.8783665, 0.707288, 0.2036018, 0.4632115, 0.4182373, 0.78314495, 0.15805683, 0.6253613, 0.8358111, 0.54014075, -4.2557716e-05, 0.87510467, 0.88195217, 0.67507243, 0.0028724372, 0.7949276, 0.8049711, 1.0082691, 0.08752927, 0.7955593, 0.742962, 0.38058737, 0.707288, 0.41631615, 0.71282613, 0.09012318, 0.6196513, 0.9086122, 0.28564298, 0.2869401, 0.08195305, 0.88195217, 0.8752779, 0.7894268, 0.71263665, 0.8094869, 0.91594696, 0.49570215, 0.91621697, 0.2083104, 0.4596972, 0.08208108, 0.121898204, 0.5335201, 0.33135676, 0.589064, 0.4162727, 0.32991636, 0.00054106116, 0.12975186, 0.8379502, 0.5393525, 0.99503547, 0.79166734, 0.799489, 0.33928874, 0.040123373, 0.79156995, 0.2845366, 0.6620058, 0.58037513, 0.9995782, 0.16772488, 0.4547823, 0.38087356, 0.31157145, 0.20182152, 0.49844426, 0.42034203, 0.9161451, 0.9958035, 0.8317561, 0.28694952, 0.29287773, 0.2965744, 0.34170052, 0.6623121, 0.9576404, 0.2063975, 0.87977576, 0.46099257, 0.08557388, 0.5390785, 0.7060692, 0.45353085, 0.543079, 0.42462912, 0.20798638, 0.16645777, 0.5350758, 0.46598497, 0.954221, 0.49636275, 0.5806056, 0.12276915, 0.8783665, 0.040807545, 0.16735852, 0.96268034, 0.0015590787, 0.33069688, 0.9602822, 0.9570641, 0.8301197, 0.82477295, 0.79201925, 0.04098466, 0.03987345, 0.49954915, 0.7060692, 0.04098466, 0.95104873, 0.9576404, 0.33480924, 0.58252525, 0.37421435, 0.005058348, -0.00048935413, 0.7077677, 0.16358104, 0.6261107, 0.8379502, 0.16781607, 0.79933846, 0.7894268, 0.91477835, 0.5393525, 0.08188295, 0.11848858, 0.3373359, 0.9086122, 0.3301773, 0.87419105, 0.0022900403, 0.12975186, 0.37383178, 0.24061884, 0.7084459, 0.37269157, 0.16614175, 0.20915951, 0.16667989, 0.33867157, 0.29628092, 0.24619031, 0.6623121, 0.0021306276, 0.875798, 0.53474015, 0.08044717, 0.3849605, 0.5423038, 0.8046782, 0.58037513, 0.6224733, 0.2043837, 0.32991636, 0.5806056, 0.70501864, 0.3770582, 0.040123343, 0.24872427, 0.42977017, 0.495435, 0.38058737, -0.00011909008, 0.71225464, 0.08512238, 0.08208108, 0.9974921, 0.08557388, 0.71263665, 0.29818243, 0.49743086, 0.28705233, 0.088167876, 0.12428394, 0.00054106116, 1.0018563, 0.7973954, 0.703521, 0.78314495, 0.04496935, 0.82856196, 0.2883304, 0.49693424, 0.58163834, 0.7516593, 0.37386414, 0.70489204, 0.6280371, 1.0082691, 0.9155325, 0.3841146, 0.66601443, 0.8049711, 0.2845366, 0.1664578, 0.24675614, 0.9994672, 0.46068573, 0.20182152, 0.20484312, 0.9964598, 0.79201925, 0.49588278, 0.70900166, 0.38087356, 0.82591146, 0.08635497, 0.49580467, 0.5482495, 0.7921683, 0.82627106, 0.49954915, 0.8792285, 0.12719637, 0.53474015, 0.33664066, 0.2965744, 0.45909443, 0.7138117, 0.99683553, 0.8780254, 0.6209423, 0.2078183, 0.4162727, 0.16772488, 0.16029441, 0.9712147, 0.03987345, 0.0038108826, 0.42462912, 0.87510467, 0.11848858, 0.24675614, 0.70376474, 0.08044717, 0.7976946, 0.29287773, 0.589064, 0.74985194, 0.15805683, 0.2092294, 0.91477835, 0.0021306276, 0.3774138, 1.0004501, 0.36746705, 0.79933846, 0.78314495, 0.29818243, 0.1664578, 0.70501864, 0.12428394, 0.0015590787, 1.0082691, 0.75135815, 0.20994388, 0.82477295, 0.043046594, 0.6253613, 0.331811, 0.88195217, 0.99912167, 0.91678107, 0.12656176, -0.00027528405, 0.33504897, 0.95618886, 0.58717376, 0.5393525, 0.33381736, 0.8338555, 0.16358116, 0.09012318, 0.58252525, 0.047464132, 0.9155325, 0.3314121, 0.71225464, 0.84115213, 0.74950737, 0.41226587, 0.28975064, 0.95581377, 0.66011673, 0.46156064, 0.8810098, 0.58170587, 0.33287126, 0.12077856, 0.29628092, 0.16781616, 0.922789]\n",
            "Real_abs:\n",
            "[640, 1360, 160, 400, 80, 400, 1120, 1040, 800, 1760, 1920, 960, 1120, 480, 800, 1920, 1200, 2000, 1840, 1760, 1680, 2000, 960, 1120, 320, 240, 1040, 1200, 1520, 1040, 160, 1920, 1600, 720, 1600, 160, 880, 320, 1600, 880, 720, 1280, 1200, 1360, 1120, 1440, 1040, 1360, 400, 1200, 560, 1680, 560, 1200, 1520, 1120, 1120, 320, 1920, 480, 880, 1440, 1280, 1360, 1920, 160, 1440, 1280, 1600, 1120, 960, 1760, 560, 1280, 160, 1280, 640, 1120, 2000, 1840, 480, 640, 1920, 640, 80, 240, 1600, 1760, 80, 1440, 640, 1360, 480, 80, 800, 1600, 1200, 1280, 320, 640, 1920, 1440, 1040, 640, 880, 1280, 1120, 480, 1120, 1920, 2000, 1680, 720, 480, 1680, 880, 880, 320, 320, 560, 320, 80, 1760, 80, 1680, 1040, 1360, 1440, 400, 1120, 1920, 560, 400, 160, 320, 80, 320, 720, 80, 640, 1680, 400, 1200, 2000, 160, 1520, 1840, 960, 160, 1200, 1760, 1600, 880, 880, 1280, 1280, 880, 1520, 1440, 1200, 1680, 720, 1280, 1440, 1600, 320, 1600, 1280, 400, 2000, 80, 800, 640, 800, 80, 1600, 1840, 1360, 560, 1120, 1360, 1680, 1600, 1200, 1360, 1520, 1520, 1920, 880, 800, 2000, 560, 640, 800, 1360, 1120, 1440, 1040, 720, 1440, 1280, 1280, 320, 880, 1520, 800, 1200, 1680, 1360, 1440, 240, 1920, 1680, 640, 240, 1920, 160, 1600, 560, 160, 2000, 320, 1600, 1120, 1680, 1200, 1280, 640, 2000, 1920, 1680, 720, 2000, 640, 1120, 1360, 240, 1600, 1040, 240, 1280, 240, 1520, 1520, 1040, 1360, 1920, 960, 160, 160, 1760, 1280, 160, 1280, 80, 2000, 320, 1520, 1920, 80, 1360, 880, 1840, 1680, 560, 720, 1760, 1520, 800, 480, 800, 1680, 960, 1680, 1680, 1360, 1360, 480, 1360, 1840, 320, 880, 2000, 480, 1920, 1360, 1360, 720, 960, 160, 1040, 320, 480, 1680, 160, 80, 560, 80, 1200, 1520, 1520, 640, 400, 720, 1040, 1120, 800, 1440, 480, 720, 720, 2000, 960, 1920, 1520, 1760, 960, 560, 400, 160, 240, 1600, 400, 1840, 1600, 1840, 1920, 240, 880, 1840, 80, 1040, 1040, 1920, 1120, 880, 400, 160, 720, 480, 1840, 80, 1600, 880, 1920, 720, 1440, 1680, 1760, 160, 1840, 720, 720, 640, 880, 1680, 960, 1840, 1200, 2000, 400, 880, 560, 1520, 640, 560, 960, 1360, 1200, 320, 480, 1120, 320, 1200, 160, 80, 400, 720, 160, 400, 1360, 720, 1760, 1360, 1760, 320, 800, 1280, 1120, 2000, 1440, 1360, 1200, 1120, 960, 80, 960, 1440, 1520, 880, 1360, 1680, 240, 1600, 160, 1920, 1520, 1200, 1040, 240, 80, 2000, 480, 160, 80, 2000, 2000, 400, 160, 960, 1760, 1600, 1440, 240, 1040, 1760, 320, 1280, 400, 1680, 320, 560, 1360, 480, 1280, 720, 960, 560, 320, 880, 1920, 960, 1520, 1360, 480, 1440, 960, 160, 1280, 800, 640, 560, 1840, 800, 1760, 160, 880, 480, 880, 1600, 480, 1280, 1840, 1600, 1440, 2000, 1040, 240, 960, 1440, 800, 640, 1920, 960, 1840, 240, 1280, 320, 880, 1360, 1760, 160, 960, 1280, 2000, 80, 1840, 1600, 960, 1040, 1200, 320, 1920, 400, 400, 1360, 1840, 1520, 800, 1200, 1280, 1840, 880, 80, 1280, 1040, 1600, 960, 80, 1520, 560, 1040, 1200, 1200, 1840, 560, 640, 1760, 1760, 560, 1680, 720, 1360, 1600, 880, 640, 1600, 640, 320, 320, 640, 1680, 240, 240, 1600, 800, 1440, 1920, 1360, 880, 1120, 1040, 80, 720, 1680, 640, 1120, 1680, 320, 1280, 1520, 1360, 160, 1200, 1360, 880, 1520, 240, 1200, 1760, 640, 1120, 400, 720, 160, 320, 320, 1680, 1440, 320, 1440, 2000, 560, 1440, 1360, 1040, 1120, 2000, 1520, 400, 1120, 880, 160, 1840, 1520, 1760, 800, 1520, 1280, 240, 1360, 640, 800, 1280, 1040, 480, 1680, 2000, 1360, 1680, 320, 1360, 1200, 2000, 800, 400, 1520, 560, 880, 1280, 960, 160, 720, 1520, 240, 1520, 1040, 320, 1360, 1760, 1120, 240, 400, 640, 1120, 880, 1280, 80, 880, 560, 1520, 1360, 1200, 160, 1760, 160, 480, 1120, 1280, 1360, 960, 1520, 720, 1280, 1120, 240, 1600, 2000, 720, 1440, 1600, 1600, 1440, 1200, 720, 1360, 720, 1840, 1760, 880, 1920, 1040, 400, 1040, 720, 1600, 1600, 400, 1360, 1200, 800, 1600, 160, 320, 1360, 1280, 160, 320, 1600, 1840, 80, 160, 800, 800, 2000, 1920, 720, 160, 960, 800, 1200, 800, 1760, 1680, 1360, 160, 1200, 560, 1280, 80, 1120, 400, 1440, 1680, 2000, 960, 480, 2000, 1680, 1920, 1760, 240, 1920, 960, 1440, 480, 640, 1120, 560, 1360, 480, 1120, 560, 240, 320, 1040, 800, 1520, 1120, 720, 1680, 480, 1040, 720, 320, 720, 800, 800, 1120, 640, 880, 800, 2000, 1680, 1360, 720, 240, 1520, 1920, 1120, 1280, 1440, 800, 1520, 1840, 1520, 800, 400, 320, 1040, 1840, 400, 1200, 1920, 1440, 1120, 1760, 160, 1840, 640, 1520, 240, 1440, 1520, 1920, 320, 1280, 640, 1680, 2000, 1920, 1360, 160, 1360, 1040, 800, 560, 160, 480, 1760, 640, 560, 1360, 400, 80, 1040, 1120, 1840, 1840, 640, 1440, 240, 1680, 1200, 80, 1280, 400, 1360, 1200, 80, 720, 1600, 400, 1760, 640, 720, 1760, 720, 1200, 320, 1040, 2000, 1120, 1280, 480, 1200, 400, 800, 320, 1280, 2000, 800, 560, 1440, 1280, 640, 1680, 880, 240, 320, 1680, 1120, 400, 1120, 1360, 1520, 800, 480, 1360, 1600, 80, 400, 1520, 1200, 1840, 1120, 1440, 240, 1360, 1840, 320, 1200, 960, 1920, 1360, 160, 1680, 80, 640, 240, 880, 320, 880, 320, 960, 480, 160, 1280, 1040, 1440, 1120, 1360, 1200, 1520, 800, 1920, 1440, 720, 800, 720, 1760, 1680, 800, 800, 240, 1040, 480, 960, 1200, 640, 640, 1440, 480, 2000, 720, 1360, 1600, 320, 480, 960, 240, 720, 1440, 880, 1760, 1520, 1600, 1600, 1120, 720, 1760, 1440, 1360, 240, 1760, 640, 2000, 1120, 1040, 1920, 1600, 640, 1200, 1600, 800, 560, 960, 160, 1520, 720, 2000, 880, 1200, 320, 480, 400, 560, 160, 1600, 2000, 1600, 400, 960, 320, 480, 1280, 1360, 1280, 400, 400, 80, 480, 1360, 1760, 80, 560, 320, 2000, 2000, 1280, 1520, 1280, 1920, 80, 480, 1840, 160, 960, 320, 1840, 80, 320, 1760, 1920, 80, 1600, 400, 480, 1440, 640, 1680, 800, 720, 1920, 960, 1040, 560, 320, 1600, 1840, 880, 1360, 800, 1360, 1120, 1280, 1280, 1040, 1040, 880, 1680, 1120, 800, 880, 720, 800, 1200, 1680, 320, 1200, 960, 1360, 1040, 800, 960, 2000, 160, 320, 1760, 1280, 1600, 1440, 1520, 1840, 400, 1920, 1200, 480, 560, 1920, 1440, 1840, 1840, 1120, 1600, 1440, 1280, 240, 640, 560, 1840, 1280, 560, 1840, 1200, 400, 880, 80, 640, 160, 1360, 400, 1600, 400, 80, 480, 880, 1440, 1040, 1280, 720, 1600, 1120, 960, 1440, 320, 960, 400, 800, 1760, 1280, 1280, 640, 320, 1440, 1280, 720, 880, 1200, 80, 2000, 1280, 400, 400, 1680, 1760, 560, 640, 1200, 1680, 1040, 480, 960, 1840, 480, 160, 1600, 960, 1520, 240, 960, 720, 320, 1840, 1440, 1600, 1920, 960, 720, 1280, 560, 1520, 560, 1040, 800, 1040, 1120, 1440, 1680, 2000, 960, 1120, 1440, 160, 1520, 800, 1600, 1520, 1280, 240, 320, 1200, 880, 480, 160, 80, 2000, 1760, 960, 800, 1440, 1200, 1920, 1120, 960, 560, 880, 720, 1520, 1440, 1040, 2000, 1840, 400, 480, 960, 320, 240, 1440, 400, 1520, 720, 880, 1760, 1600, 160, 1120, 1120, 240, 720, 1280, 960, 1280, 2000, 1760, 480, 80, 1600, 720, 1520, 1680, 160, 1360, 560, 80, 240, 1040, 1280, 1360, 1520, 1200, 1040, 1680, 1600, 160, 960, 1760, 1760, 960, 160, 1600, 160, 2000, 80, 240, 1920, 1200, 720, 1920, 560, 1040, 640, 480, 240, 1520, 1920, 960, 1840, 1200, 2000, 880, 880, 1840, 1120, 320, 560, 560, 1520, 640, 720, 1840, 960, 1760, 240, 800, 320, 480, 1120, 800, 1360, 400, 2000, 960, 400, 1920, 1360, 800, 240, 1200, 240, 80, 1600, 80, 480, 2000, 1360, 160, 720, 2000, 1520, 1760, 1840, 1840, 480, 880, 2000, 560, 400, 640, 1440, 1840, 640, 1840, 1760, 480, 960, 160, 560, 1920, 320, 1680, 80, 800, 1040, 1200, 1680, 1360, 1040, 1040, 640, 1280, 1920, 1360, 160, 1680, 320, 1280, 1600, 1200, 320, 880, 640, 1840, 1440, 1040, 1760, 2000, 80, 1200, 1760, 1600, 1680, 1920, 1440, 1040, 1840, 560, 1600, 1680, 1440, 1680, 80, 1120, 1600, 1040, 480, 800, 80, 1360, 320, 1120, 2000, 160, 1520, 1440, 800, 2000, 1360, 560, 1440, 1040, 1760, 2000, 1760, 1760, 320, 400, 2000, 1360, 320, 400, 960, 1520, 560, 1840, 1280, 1040, 160, 400, 560, 160, 1840, 560, 2000, 80, 1680, 480, 1600, 880, 80, 320, 1280, 720, 240, 800, 1120, 240, 1600, 1600, 1280, 400, 1920, 80, 80, 240, 960, 960, 1440, 720, 720, 560, 1360, 1200, 240, 800, 1200, 1680, 960, 1600, 1280, 1760, 1200, 880, 1120, 1760, 720, 1200, 960, 1840, 1760, 880, 1920, 560, 1120, 720, 2000, 640, 1280, 1600, 480, 1200, 1360, 1200, 1360, 1120, 80, 1840, 800, 640, 1440, 480, 800, 240, 800, 1040, 1280, 2000, 320, 320, 720, 1520, 1280, 800, 400, 1040, 1600, 480, 400, 1120, 1440, 1680, 560, 320, 160, 1440, 1520, 1360, 560, 1920, 1840, 1760, 1360, 480, 1760, 800, 640, 1600, 160, 400, 1360, 160, 1120, 800, 80, 2000, 1600, 1760, 880, 400, 1760, 400, 480, 880, 1600, 1440, 160, 1280, 1120, 1360, 240, 240, 960, 1360, 1840, 80, 1520, 800, 1360, 1920, 320, 1680, 2000, 160, 80, 720, 1040, 1680, 160, 560, 1920, 480, 960, 400, 1440, 1360, 640, 1600, 1280, 720, 240, 1760, 560, 1680, 1280, 880, 640, 480, 1600, 320, 1360, 320, 1680, 1280, 800, 880, 160, 720, 1040, 720, 160, 880, 880, 1280, 560, 1440, 1040, 320, 1120, 160, 320, 1280, 240, 1520, 480, 960, 640, 960, 1200, 320, 1760, 1600, 1600, 320, 1360, 160, 320, 1920, 640, 320, 1360, 1120, 1520, 1360, 80, 1440, 720, 160, 1040, 720, 1920, 1200, 800, 400, 1280, 560, 1840, 560, 1200, 480, 560, 1920, 800, 720, 1040, 1680, 1200, 1600, 160, 1840, 1840, 880, 1120, 560, 1680, 1200, 720, 320, 80, 1840, 720, 2000, 800, 400, 1120, 1760, 320, 1920, 1920, 240, 1120, 720, 480, 320, 640, 480, 1600, 1600, 1120, 1760, 1600, 960, 160, 1920, 960, 1520, 1600, 560, 560, 1360, 1600, 1760, 2000, 1360, 1920, 1280, 880, 1120, 640, 480, 1280, 800, 800, 800, 1120, 800, 1920, 1760, 1520, 960, 1200, 2000, 800, 960, 1440, 1040, 880, 1120, 1440, 640, 640, 1200, 1600, 560, 1200, 1680, 1200, 1360, 160, 80, 1200, 400, 560, 320, 2000, 400, 1280, 1280, 1760, 1200, 880, 720, 880, 1120, 1680, 800, 1200, 800, 800, 1280, 720, 1760, 1840, 1280, 640, 1280, 1440, 960, 240, 1280, 1840, 80, 1440, 1920, 880, 1120, 2000, 880, 880, 160, 640, 1920, 480, 1200, 1360, 1680, 80, 1920, 480, 80, 240, 1680, 1680, 1280, 1440, 80, 560, 80, 560, 480, 480, 1600, 1040, 1760, 880, 240, 1760, 880, 1520, 800, 320, 320, 640, 80, 1280, 880, 480, 1680, 1520, 1680, 1840, 1440, 1120, 1120, 160, 1360, 1760, 1520, 720, 640, 1200, 240, 320, 1440, 800, 400, 640, 240, 320, 1360, 1680, 1680, 1120, 1520, 800, 1840, 1280, 400, 800, 1440, 720, 1120, 640, 320, 880, 720, 160, 480, 560, 1120, 480, 1840, 1040, 1840, 1280, 160, 880, 800, 880, 1520, 640, 640, 240, 880, 160, 160, 240, 1360, 1760, 1200, 720, 960, 640, 640, 1760, 320, 720, 2000, 1680, 1200, 1760, 1040, 1520, 880, 160, 1360, 1920, 1440, 1520, 1600, 1280, 1760, 400, 2000, 1280, 720, 720, 160, 1760, 1840, 560, 1200, 2000, 240, 1760, 1360, 400, 1280, 240, 1680, 240, 1360, 1600, 1520, 1360, 880, 720, 320, 400, 720, 1680, 880, 1920, 800, 1440, 1120, 800, 160, 1120, 480, 720, 80, 2000, 1680, 2000, 560, 1840, 1680, 1360, 1520, 2000, 1840, 640, 160, 1360, 1280, 1280, 2000, 880, 960, 1760, 1360, 560, 720, 1280, 1680, 640, 1600, 640, 1120, 720, 1840, 640, 1520, 400, 1040, 1200, 1120, 1520, 480, 1680, 880, 1280, 240, 1040, 1920, 1120, 1280, 240, 320, 1360, 1600, 1600, 1440, 560, 1520, 1680, 400, 1120, 2000, 1040, 240, 1520, 1200, 80, 1360, 560, 1760, 1680, 1920, 80, 1760, 1360, 1440, 880, 1920, 1280, 800, 320, 960, 1040, 1440, 1600, 480, 1600, 1440, 1040, 320, 1040, 400, 160, 2000, 320, 640, 480, 1200, 480, 240, 1040, 2000, 400, 1280, 1920, 400, 1200, 1120, 1760, 320, 800, 720, 800, 720, 480, 640, 80, 640, 1120, 2000, 1120, 800, 640, 240, 960, 320, 400, 1280, 720, 480, 480, 400, 2000, 2000, 1120, 1360, 1840, 1520, 1840, 720, 1840, 1040, 1200, 720, 1040, 80, 960, 240, 1600, 80, 160, 1360, 1920, 240, 1680, 480, 1760, 1360, 1280, 1680, 1600, 480, 1120, 160, 640, 640, 1120, 960, 1760, 1440, 480, 960, 880, 1600, 400, 1280, 1680, 1120, 80, 1760, 1760, 1360, 80, 1600, 1600, 2000, 240, 1600, 1520, 800, 1440, 880, 1440, 240, 1280, 1840, 640, 640, 240, 1760, 1760, 1600, 1440, 1600, 1840, 1040, 1840, 480, 960, 240, 320, 1120, 720, 1200, 880, 720, 80, 320, 1680, 1120, 2000, 1600, 1600, 720, 160, 1600, 640, 1360, 1200, 2000, 400, 960, 800, 640, 480, 1040, 880, 1840, 2000, 1680, 640, 640, 640, 720, 1360, 1920, 480, 1760, 960, 240, 1120, 1440, 960, 1120, 880, 480, 400, 1120, 960, 1920, 1040, 1200, 320, 1760, 160, 400, 1920, 80, 720, 1920, 1920, 1680, 1680, 1600, 160, 160, 1040, 1440, 160, 1920, 1920, 720, 1200, 800, 80, 80, 1440, 400, 1280, 1680, 400, 1600, 1600, 1840, 1120, 240, 320, 720, 1840, 720, 1760, 80, 320, 800, 560, 1440, 800, 400, 480, 400, 720, 640, 560, 1360, 80, 1760, 1120, 240, 800, 1120, 1440, 1200, 1280, 480, 720, 1200, 1440, 800, 160, 560, 880, 1040, 800, 80, 1440, 240, 240, 2000, 240, 1440, 640, 1040, 640, 240, 320, 80, 2000, 1680, 1440, 1600, 160, 1680, 640, 1040, 1200, 1520, 800, 1440, 1280, 2000, 1840, 800, 1360, 1600, 640, 400, 560, 2000, 960, 480, 480, 2000, 1600, 1040, 1440, 800, 1680, 240, 1040, 1120, 1600, 1680, 1040, 1840, 320, 1120, 720, 640, 960, 1440, 2000, 1760, 1280, 480, 880, 400, 400, 1920, 160, 80, 880, 1760, 320, 560, 1440, 240, 1600, 640, 1200, 1520, 400, 480, 1840, 80, 800, 2000, 800, 1600, 1600, 640, 400, 1440, 320, 80, 2000, 1520, 480, 1680, 160, 1280, 720, 1760, 2000, 1840, 320, 80, 720, 1920, 1200, 1120, 720, 1680, 400, 240, 1200, 160, 1840, 720, 1440, 1680, 1520, 880, 640, 1920, 1360, 960, 1760, 1200, 720, 320, 640, 400, 1840]\n",
            "Pred_abs:\n",
            "[ 642.32526 1360.7395   155.13412 ...  648.8594   402.20703 1851.7549 ]\n"
          ]
        },
        {
          "output_type": "display_data",
          "data": {
            "text/plain": [
              "<Figure size 432x288 with 1 Axes>"
            ],
            "image/png": "[encoded data removed]"
          },
          "metadata": {}
        },
        {
          "output_type": "display_data",
          "data": {
            "text/plain": [
              "<Figure size 432x288 with 1 Axes>"
            ],
            "image/png": "[encoded data removed]"
          },
          "metadata": {}
        }
      ]
    },
    {
      "cell_type": "markdown",
      "source": [
        "# No HOPE"
      ],
      "metadata": {
        "id": "h9f1jAw-Ios1"
      }
    },
    {
      "cell_type": "code",
      "source": [
        "def get_reference_and_sample_data(working_df, num_reference):\n",
        "  import random\n",
        "  num_of_ids = len(working_df['PBRS_id'].unique())\n",
        "\n",
        "  l = list(range(1, num_of_ids+1))\n",
        "  random.shuffle(l)\n",
        "  reference_arr = (l[:num_reference])\n",
        "  sample_arr = l[-(num_of_ids-num_reference):]\n",
        "\n",
        "  reference_data_df = working_df[working_df['PBRS_id'].isin(reference_arr)]\n",
        "  sample_data_df = working_df[working_df['PBRS_id'].isin(sample_arr)]\n",
        "  \n",
        "  return reference_data_df, sample_data_df\n",
        "\n",
        "def frequencies_filter(df, num_selected_freq=20):\n",
        "  info_df = df.iloc[:, 0:6]\n",
        "  data_df = df.iloc[:, 6:df.shape[1]]\n",
        "  span_val = int(data_df.shape[1]/num_selected_freq)\n",
        "  for i in range(num_selected_freq):\n",
        "    df2 = data_df.iloc[:, (i+1)*span_val].to_frame()\n",
        "    if i+1 == 1:\n",
        "      new_df = df2\n",
        "    else:\n",
        "      new_df = pd.merge(new_df, df2, left_index=True, right_index=True)\n",
        "  new_df = info_df.join(new_df)\n",
        "  \n",
        "  return new_df\n",
        "\n",
        "def get_idx_train_test_split(working_df, trainingProp = 0.8):\n",
        "  rows_training = np.array([])\n",
        "  rows_testing = np.array([])\n",
        "  distances = [x*80 for x in range(1, 26)]\n",
        "  for d in distances:\n",
        "    distance_working_df = working_df.loc[working_df['Distance_km'] == d]\n",
        "    rows_mixed=np.random.permutation(distance_working_df.shape[0])\n",
        "\n",
        "    training_amt = math.ceil(distance_working_df.shape[0]*trainingProp)\n",
        "    testing_amt = distance_working_df.shape[0] - training_amt\n",
        "\n",
        "    rows_training = np.append(rows_training, rows_mixed[:training_amt])\n",
        "    rows_testing = np.append(rows_testing, rows_mixed[-testing_amt:])\n",
        "  \n",
        "  rows_training = rows_training.astype('int').tolist()\n",
        "  rows_testing = rows_testing.astype('int').tolist()\n",
        "\n",
        "  return rows_training, rows_testing\n",
        "\n",
        "# Load network\n",
        "from keras.models import Sequential\n",
        "from keras.layers import Dense,Conv2D, Flatten\n",
        "from keras.wrappers.scikit_learn import KerasRegressor\n",
        "from keras.callbacks import EarlyStopping\n",
        "from tqdm.keras import TqdmCallback\n",
        "\n",
        "def ann():\n",
        "  model = Sequential()\n",
        "  model.add(Dense(76, input_dim = 5, activation = 'tanh'))\n",
        "  model.add(Dense(38,activation='tanh'))\n",
        "  model.add(Dense(19,activation='tanh'))\n",
        "  model.add(Dense(9,activation='tanh'))\n",
        "  model.add(Dense(1))\n",
        "  model.compile(loss ='mean_squared_error',optimizer = 'RMSprop')\n",
        "  return model\n",
        "\n",
        "def get_feature(data_split_df, reference_freq_data_df, reference_distance_eval_params=(False, 80)):\n",
        "  reference_eval = reference_freq_data_df.copy()\n",
        "  if reference_distance_eval_params[0] == True:\n",
        "    reference_eval = reference_freq_data_df.loc[reference_freq_data_df['Distance_km'] == reference_distance_eval_params[1]]\n",
        "\n",
        "  data_distance = []\n",
        "  data_mean = []\n",
        "  data_std = []\n",
        "  data_pearson_min = []\n",
        "  data_pearson_mean = []\n",
        "  data_pearson_max = []\n",
        "  data_CI_lower = []\n",
        "  data_CI_upper = []\n",
        "\n",
        "  for idx in tqdm(range(len(data_split_df))):\n",
        "    Y_label = data_split_df.iloc[idx, 3]\n",
        "    X_label = data_split_df.iloc[idx, 6:data_split_df.shape[1]]\n",
        "    data_distance.append(int(Y_label))\n",
        "    data_std.append(round(np.std(X_label), 5))\n",
        "    data_mean.append(round(np.mean(X_label), 5))\n",
        "    \n",
        "    data_ci = st.t.interval(alpha=0.90, df=len(X_label)-1, loc=np.mean(X_label), scale=st.sem(X_label))\n",
        "    data_confidence_int_lower = data_ci[0]\n",
        "    data_confidence_int_upper = data_ci[1]\n",
        "\n",
        "    pearson_vals = []\n",
        "    ci_lower_delta = []\n",
        "    ci_upper_delta = []\n",
        "    for reference_idx in range(len(reference_eval)):\n",
        "      X_reference = reference_eval.iloc[reference_idx, 6:reference_eval.shape[1]]\n",
        "      pearson_vals.append(round(pearsonr(X_label, X_reference)[0], 5))\n",
        "\n",
        "      reference_ci = st.t.interval(alpha=0.90, df=len(X_reference)-1, loc=np.mean(X_reference), scale=st.sem(X_reference))\n",
        "      reference_confidence_int_lower = reference_ci[0]\n",
        "      reference_confidence_int_upper = reference_ci[1]\n",
        "\n",
        "      delta_ci_lower = abs(reference_confidence_int_lower - data_confidence_int_lower)\n",
        "      ci_lower_delta.append(round(delta_ci_lower, 5))\n",
        "      delta_ci_upper = abs(reference_confidence_int_upper - data_confidence_int_upper)\n",
        "      ci_upper_delta.append(round(delta_ci_upper, 5))\n",
        "\n",
        "    data_pearson_min.append(np.min(pearson_vals))\n",
        "    data_pearson_mean.append(np.mean(pearson_vals))    \n",
        "    data_pearson_max.append(np.max(pearson_vals))\n",
        "\n",
        "    data_CI_lower.append(np.min(ci_lower_delta))\n",
        "    data_CI_upper.append(np.min(ci_upper_delta))\n",
        "\n",
        "  data = {'distance':data_distance,\n",
        "                  'mean':data_mean,\n",
        "                  'std':data_std,\n",
        "                  'pearson_min':data_pearson_min,\n",
        "                  'pearson_mean':data_pearson_mean,\n",
        "                  'pearson_max':data_pearson_max,\n",
        "                  'delta_CI_min':data_CI_lower,\n",
        "                  'delta_CI_max':data_CI_upper}\n",
        "\n",
        "  data_df = pd.DataFrame(data)\n",
        "  return data_df"
      ],
      "metadata": {
        "id": "OJYKBK-BI9jf"
      },
      "execution_count": null,
      "outputs": []
    },
    {
      "cell_type": "code",
      "source": [
        "num_of_freq_selected = 10\n",
        "reference_amt = 30\n",
        "input_path = path + \"/Spectrum/NN/bootstraped_new_data_working_df.csv\"\n",
        "\n",
        "# Load network\n",
        "from keras.models import load_model\n",
        "mm = KerasRegressor(build_fn=ann, epochs=8000, batch_size=32, verbose=0)\n",
        "mm.model = load_model(path+\"/Spectrum/NN/NNs/v2_bootstraped_final_new_data_NN_model_freq_10_reference_30.h5\")\n",
        "\n",
        "res = {}\n",
        "reference_test = [80, 1040, 2000]\n",
        "distances = [x*80 for x in range(1, 26)]\n",
        "\n",
        "working_df = pd.read_csv(input_path)\n",
        "working_df['Distance_km'] = working_df['Distance_km'].astype(int)\n",
        "\n",
        "reference_data_df, sample_data_df = get_reference_and_sample_data(working_df, reference_amt)\n",
        "\n",
        "reference_freq_data_df = frequencies_filter(reference_data_df, num_selected_freq=num_of_freq_selected)\n",
        "sample_freq_data_df = frequencies_filter(sample_data_df, num_selected_freq=num_of_freq_selected)\n",
        "\n",
        "rows_training, rows_testing = get_idx_train_test_split(sample_data_df, trainingProp = 0.8)\n",
        "\n",
        "\n",
        "#train_split_filter = sample_freq_data_df['PBRS_id'].isin(rows_training)\n",
        "train_split = sample_freq_data_df.iloc[rows_training]\n",
        "\n",
        "#test_split_filter = sample_freq_data_df['PBRS_id'].isin(rows_testing)\n",
        "\n",
        "train_df = get_feature(train_split, reference_freq_data_df, reference_distance_eval_params=(False, 80))"
      ],
      "metadata": {
        "colab": {
          "base_uri": "https://localhost:8080/"
        },
        "id": "_FgJaPUTqvR-",
        "outputId": "f179583e-7291-4995-88e7-1e83e1feabe1"
      },
      "execution_count": null,
      "outputs": [
        {
          "output_type": "stream",
          "name": "stderr",
          "text": [
            "100%|██████████| 1400/1400 [19:47<00:00,  1.18it/s]\n"
          ]
        }
      ]
    },
    {
      "cell_type": "markdown",
      "source": [
        "# Short-cut"
      ],
      "metadata": {
        "id": "2Kx_wOsmPX4i"
      }
    },
    {
      "cell_type": "code",
      "source": [
        "def get_reference_and_sample_data(working_df, num_reference):\n",
        "  import random\n",
        "  num_of_ids = len(working_df['PBRS_id'].unique())\n",
        "\n",
        "  l = list(range(1, num_of_ids+1))\n",
        "  random.shuffle(l)\n",
        "  reference_arr = (l[:num_reference])\n",
        "  sample_arr = l[-(num_of_ids-num_reference):]\n",
        "\n",
        "  reference_data_df = working_df[working_df['PBRS_id'].isin(reference_arr)]\n",
        "  sample_data_df = working_df[working_df['PBRS_id'].isin(sample_arr)]\n",
        "  \n",
        "  return reference_data_df, sample_data_df\n",
        "\n",
        "def frequencies_filter(df, num_selected_freq=20):\n",
        "  info_df = df.iloc[:, 0:6]\n",
        "  data_df = df.iloc[:, 6:df.shape[1]]\n",
        "  span_val = int(data_df.shape[1]/num_selected_freq)\n",
        "  for i in range(num_selected_freq):\n",
        "    df2 = data_df.iloc[:, (i+1)*span_val].to_frame()\n",
        "    if i+1 == 1:\n",
        "      new_df = df2\n",
        "    else:\n",
        "      new_df = pd.merge(new_df, df2, left_index=True, right_index=True)\n",
        "  new_df = info_df.join(new_df)\n",
        "  \n",
        "  return new_df\n",
        "\n",
        "def get_idx_train_test_split(working_df, trainingProp = 0.8):\n",
        "  rows_training = np.array([])\n",
        "  rows_testing = np.array([])\n",
        "  distances = [x*80 for x in range(1, 26)]\n",
        "  for d in distances:\n",
        "    distance_working_df = working_df.loc[working_df['Distance_km'] == d]\n",
        "    rows_mixed=np.random.permutation(distance_working_df.shape[0])\n",
        "\n",
        "    training_amt = math.ceil(distance_working_df.shape[0]*trainingProp)\n",
        "    testing_amt = distance_working_df.shape[0] - training_amt\n",
        "\n",
        "    rows_training = np.append(rows_training, rows_mixed[:training_amt])\n",
        "    rows_testing = np.append(rows_testing, rows_mixed[-testing_amt:])\n",
        "  \n",
        "  rows_training = rows_training.astype('int').tolist()\n",
        "  rows_testing = rows_testing.astype('int').tolist()\n",
        "\n",
        "  return rows_training, rows_testing\n",
        "\n",
        "# Load network\n",
        "from keras.models import Sequential\n",
        "from keras.layers import Dense,Conv2D, Flatten\n",
        "from keras.wrappers.scikit_learn import KerasRegressor\n",
        "from keras.callbacks import EarlyStopping\n",
        "from tqdm.keras import TqdmCallback\n",
        "\n",
        "def ann():\n",
        "    model = Sequential()\n",
        "    model.add(Dense(76, input_dim = 5, activation = 'tanh'))\n",
        "    model.add(Dense(38,activation='tanh'))\n",
        "    model.add(Dense(38,activation='tanh'))\n",
        "    model.add(Dense(19,activation='tanh'))\n",
        "    model.add(Dense(19,activation='tanh'))\n",
        "    model.add(Dense(9,activation='tanh'))\n",
        "    model.add(Dense(9,activation='tanh'))\n",
        "    model.add(Dense(1))\n",
        "    model.compile(loss ='mean_squared_error',optimizer = 'RMSprop')\n",
        "    return model\n",
        "\n",
        "def get_feature(data_split_df, reference_freq_data_df, reference_distance_eval_params=(False, 80)):\n",
        "  reference_eval = reference_freq_data_df.copy()\n",
        "  if reference_distance_eval_params[0] == True:\n",
        "    reference_eval = reference_freq_data_df.loc[reference_freq_data_df['Distance_km'] == reference_distance_eval_params[1]]\n",
        "\n",
        "  data_distance = []\n",
        "  data_mean = []\n",
        "  data_std = []\n",
        "  data_pearson_min = []\n",
        "  data_pearson_mean = []\n",
        "  data_pearson_max = []\n",
        "  data_CI_lower = []\n",
        "  data_CI_upper = []\n",
        "\n",
        "  for idx in tqdm(range(len(data_split_df))):\n",
        "    Y_label = data_split_df.iloc[idx, 3]\n",
        "    X_label = data_split_df.iloc[idx, 6:data_split_df.shape[1]]\n",
        "    data_distance.append(int(Y_label))\n",
        "    data_std.append(round(np.std(X_label), 5))\n",
        "    data_mean.append(round(np.mean(X_label), 5))\n",
        "    \n",
        "    data_ci = st.t.interval(alpha=0.90, df=len(X_label)-1, loc=np.mean(X_label), scale=st.sem(X_label))\n",
        "    data_confidence_int_lower = data_ci[0]\n",
        "    data_confidence_int_upper = data_ci[1]\n",
        "\n",
        "    pearson_vals = []\n",
        "    ci_lower_delta = []\n",
        "    ci_upper_delta = []\n",
        "    for reference_idx in range(len(reference_eval)):\n",
        "      X_reference = reference_eval.iloc[reference_idx, 6:reference_eval.shape[1]]\n",
        "      pearson_vals.append(round(pearsonr(X_label, X_reference)[0], 5))\n",
        "\n",
        "      reference_ci = st.t.interval(alpha=0.90, df=len(X_reference)-1, loc=np.mean(X_reference), scale=st.sem(X_reference))\n",
        "      reference_confidence_int_lower = reference_ci[0]\n",
        "      reference_confidence_int_upper = reference_ci[1]\n",
        "\n",
        "      delta_ci_lower = abs(reference_confidence_int_lower - data_confidence_int_lower)\n",
        "      ci_lower_delta.append(round(delta_ci_lower, 5))\n",
        "      delta_ci_upper = abs(reference_confidence_int_upper - data_confidence_int_upper)\n",
        "      ci_upper_delta.append(round(delta_ci_upper, 5))\n",
        "\n",
        "    data_pearson_min.append(np.min(pearson_vals))\n",
        "    data_pearson_mean.append(np.mean(pearson_vals))    \n",
        "    data_pearson_max.append(np.max(pearson_vals))\n",
        "\n",
        "    data_CI_lower.append(np.min(ci_lower_delta))\n",
        "    data_CI_upper.append(np.min(ci_upper_delta))\n",
        "\n",
        "  data = {'distance':data_distance,\n",
        "                  'mean':data_mean,\n",
        "                  'std':data_std,\n",
        "                  'pearson_min':data_pearson_min,\n",
        "                  'pearson_mean':data_pearson_mean,\n",
        "                  'pearson_max':data_pearson_max,\n",
        "                  'delta_CI_min':data_CI_lower,\n",
        "                  'delta_CI_max':data_CI_upper}\n",
        "\n",
        "  data_df = pd.DataFrame(data)\n",
        "  return data_df"
      ],
      "metadata": {
        "id": "PEUYbMvql5Ai"
      },
      "execution_count": null,
      "outputs": []
    },
    {
      "cell_type": "code",
      "source": [
        "train_df = pd.read_csv(path+\"/Spectrum/NN/train_test_splits/v2_bootstraped_new_data_training_data_NN_freq_10_reference_30.csv\")\n",
        "#test_df = pd.read_csv(path+\"/Spectrum/NN/train_test_splits/bootstraped_new_data_testing_data_NN_freq_10_reference_30.csv\")\n",
        "\n",
        "reference_freq_data_df = pd.read_csv(path+\"/Spectrum/NN/train_test_splits/v2_bootstraped_new_data_Reference_NN_freq_10_reference_30.csv\")\n",
        "sample_freq_data_df = pd.read_csv(path+\"/Spectrum/NN/train_test_splits/v2_bootstraped_new_data_Sample_NN_freq_10_reference_30.csv\")\n",
        "\n",
        "with open(path+\"/Spectrum/NN/train_test_splits/v2_bootstraped_traininig_Rows_NN_freq_10_reference_30.pkl\", 'rb') as f:\n",
        "  rows_training = pickle.load(f)\n",
        "with open(path+\"/Spectrum/NN/train_test_splits/v2_bootstraped_testing_Rows_NN_freq_10_reference_30.pkl\", 'rb') as f:\n",
        "  rows_testing = pickle.load(f) "
      ],
      "metadata": {
        "id": "-s_khYUdNgcL"
      },
      "execution_count": null,
      "outputs": []
    },
    {
      "cell_type": "code",
      "source": [
        "num_of_freq_selected = 10\n",
        "reference_amt = 30\n",
        "\n",
        "# Load network\n",
        "from keras.models import load_model\n",
        "mm = KerasRegressor(build_fn=ann, epochs=8000, batch_size=32, verbose=0)\n",
        "mm.model = load_model(path+\"/Spectrum/NN/NNs/v2_bootstraped_final_new_data_NN_model_freq_10_reference_30.h5\")\n",
        "\n",
        "res = {}\n",
        "reference_test = [80, 1200, 1920]\n",
        "distances = [x*80 for x in range(1, 26)]\n",
        "\n",
        "for r in reference_test:\n",
        "  test_split = sample_freq_data_df.iloc[rows_testing]\n",
        "  test_df = get_feature(test_split, reference_freq_data_df, reference_distance_eval_params=(True, r))\n",
        "\n",
        "  Y = train_df.iloc[:, 0].to_numpy().reshape(-1,1)\n",
        "  X = train_df.iloc[:, 1:train_df.shape[1]]-2\n",
        "\n",
        "  sc_input = MinMaxScaler()\n",
        "  sc_output = MinMaxScaler()\n",
        "  Y_train = sc_output.fit_transform(Y) # convert distances to values from 0 to 1\n",
        "  X_train = sc_input.fit_transform(X) # convert features to values from 0 to 1\n",
        "  \n",
        "  dist_min=sc_output.data_min_[0] # 80\n",
        "  dist_max=sc_output.data_max_[0] # 2000\n",
        "\n",
        "  \n",
        "  Y = test_df.iloc[:, 0].to_numpy().reshape(-1,1)\n",
        "  X = test_df.iloc[:, 1:test_df.shape[1]-2]\n",
        "\n",
        "  Y_test = sc_output.fit_transform(Y) # convert distances to values from 0 to 1\n",
        "  X_test = sc_input.fit_transform(X) # convert features to values from 0 to 1\n",
        "\n",
        "  # Load model\n",
        "  Y_test_pred=model_ann_c.predict(X_test)\n",
        "  pred=list(Y_test_pred)\n",
        "\n",
        "  real=list(list(zip(*Y_test))[0])\n",
        "  real_abs=np.add(dist_min,np.multiply((dist_max-dist_min),real)) # convert back to distances values from scalar\n",
        "  real_abs=[int(np.round(i)) for i in real_abs]\n",
        "  pred_abs=np.add(dist_min,np.multiply((dist_max-dist_min),pred)) # convert back to distances values from scalar\n",
        "\n",
        "  real_split ={}\n",
        "  for d in distances:\n",
        "    matches = [i for i in range(0,len(real_abs)) if real_abs[i]==d]\n",
        "    real_split[d] = matches\n",
        "\n",
        "  pred_res = []\n",
        "  for d_real, matches_idx in real_split.items():\n",
        "    pred_m = [pred_abs[m_idx] for m_idx in matches_idx]\n",
        "    Q1 = np.percentile(pred_m, 25,interpolation = 'midpoint')\n",
        "    Q3 = np.percentile(pred_m, 75,interpolation = 'midpoint')\n",
        "    IQR = Q3 - Q1\n",
        "    upper = Q3+1.5*IQR\n",
        "    lower = Q1-1.5*IQR\n",
        "    filtered_pred_m = []\n",
        "    for v in pred_m:\n",
        "      if v <= upper and v >= lower:\n",
        "        filtered_pred_m.append(v)\n",
        "    pred_res.append(round(np.mean(filtered_pred_m), 5))\n",
        "  \n",
        "  res[r] = pred_res\n",
        "print('-----------------------------------------------------------------------')\n",
        "print('Resuslts')\n",
        "\n",
        "plt.figure(figsize=(15, 10))\n",
        "plt.plot(distances, distances,  linestyle='--')\n",
        "plt.plot(distances, res[reference_test[0]], label='Reference '+str(reference_test[0]))\n",
        "plt.plot(distances, res[reference_test[1]], label='Reference '+str(reference_test[1]))\n",
        "plt.plot(distances, res[reference_test[2]], label='Reference '+str(reference_test[2]))\n",
        "plt.title('Real vs Predicted Distances')\n",
        "plt.xlabel('Real Distances')\n",
        "plt.ylabel('Predicted Distances')\n",
        "plt.xlim(np.min(distances)-25, np.max(distances)+25)\n",
        "plt.ylim(np.min(distances)-25, np.max(distances)+25)\n",
        "plt.yticks(distances)\n",
        "plt.xticks(distances)\n",
        "plt.legend(loc=\"best\")\n",
        "plt.show()\n",
        "\n",
        "print(res[reference_test[0]])\n",
        "print(res[reference_test[1]])\n",
        "print(res[reference_test[2]])\n",
        "print('-----------------------------------------------------------------------')"
      ],
      "metadata": {
        "colab": {
          "base_uri": "https://localhost:8080/",
          "height": 803
        },
        "id": "UictGjFkIqr1",
        "outputId": "97d9a9cd-9ca9-421a-8cf0-2caf3dc5f9cb"
      },
      "execution_count": null,
      "outputs": [
        {
          "output_type": "stream",
          "name": "stderr",
          "text": [
            "100%|██████████| 2350/2350 [01:27<00:00, 26.77it/s]\n",
            "100%|██████████| 2350/2350 [01:29<00:00, 26.15it/s]\n",
            "100%|██████████| 2350/2350 [01:27<00:00, 26.78it/s]\n"
          ]
        },
        {
          "output_type": "stream",
          "name": "stdout",
          "text": [
            "-----------------------------------------------------------------------\n",
            "Resuslts\n"
          ]
        },
        {
          "output_type": "display_data",
          "data": {
            "text/plain": [
              "<Figure size 1080x720 with 1 Axes>"
            ],
            "image/png": "[encoded data removed]"
          },
          "metadata": {}
        },
        {
          "output_type": "stream",
          "name": "stdout",
          "text": [
            "[83.40564, 204.42159, 411.3603, 547.32074, 488.9102, 805.6436, 901.2467, 986.1392, 1058.0787, 955.78406, 987.5489, 1157.049, 1233.708, 1218.0784, 1145.1843, 1106.8677, 1257.5751, 1210.2565, 1266.5913, 1318.5459, 1298.1921, 1418.6199, 1412.0549, 1394.6078, 1224.3418]\n",
            "[219.6596, 358.85364, 448.09137, 585.4208, 661.5544, 654.2619, 828.512, 776.7847, 906.3313, 934.1136, 996.8789, 1088.1661, 1185.0052, 1301.0194, 1143.7572, 1220.3634, 1199.1367, 1344.7666, 1103.5955, 1302.0887, 1383.9327, 1283.2393, 1237.8615, 1235.0734, 1271.0831]\n",
            "[99.47495, 169.42754, 333.71866, 500.5862, 407.4424, 716.3716, 756.7258, 959.33307, 970.32806, 980.5067, 1139.9596, 1259.992, 1304.5583, 1270.3456, 1390.6842, 1341.3575, 1216.1642, 1226.772, 1334.9662, 1429.0834, 1402.8177, 1434.9574, 1389.0951, 1342.0864, 1330.5579]\n",
            "-----------------------------------------------------------------------\n"
          ]
        }
      ]
    },
    {
      "cell_type": "markdown",
      "source": [
        "# Test only pearson"
      ],
      "metadata": {
        "id": "y6uYJIMQznvg"
      }
    },
    {
      "cell_type": "code",
      "source": [
        "# Load network\n",
        "from keras.models import Sequential\n",
        "from keras.layers import Dense,Conv2D, Flatten\n",
        "from keras.wrappers.scikit_learn import KerasRegressor\n",
        "from keras.callbacks import EarlyStopping\n",
        "from tqdm.keras import TqdmCallback\n",
        "\n",
        "def ann():\n",
        "  model = Sequential()\n",
        "  model.add(Dense(76, input_dim = 3, activation = 'tanh'))\n",
        "  model.add(Dense(38,activation='tanh'))\n",
        "  model.add(Dense(19,activation='tanh'))\n",
        "  model.add(Dense(1))\n",
        "  model.compile(loss ='mean_squared_error',optimizer = 'RMSprop')\n",
        "  return model"
      ],
      "metadata": {
        "id": "yXo1Twr-1eoi"
      },
      "execution_count": null,
      "outputs": []
    },
    {
      "cell_type": "code",
      "source": [
        "def train_model(X_train, Y_train):\n",
        "  print('Training model (freq_'+str(num_of_freq_selected)+'_reference_'+str(reference_amt)+')...')\n",
        "  from keras.models import Sequential\n",
        "  from keras.layers import Dense,Conv2D, Flatten\n",
        "  from keras.wrappers.scikit_learn import KerasRegressor\n",
        "  from keras.callbacks import EarlyStopping\n",
        "  from tqdm.keras import TqdmCallback\n",
        "\n",
        "  def ann():\n",
        "      model = Sequential()\n",
        "      model.add(Dense(76, input_dim = 3, activation = 'tanh'))\n",
        "      model.add(Dense(38,activation='tanh'))\n",
        "      model.add(Dense(19,activation='tanh'))\n",
        "      model.add(Dense(1))\n",
        "      model.compile(loss ='mean_squared_error',optimizer = 'RMSprop')\n",
        "      return model\n",
        "\n",
        "  model_ann = KerasRegressor(build_fn=ann,epochs=5000,batch_size=32, verbose=0)\n",
        "\n",
        "  start_time = time.time()\n",
        "  callback = [EarlyStopping(monitor='loss', patience=500)]#, TqdmCallback(verbose=2)]\n",
        "  model_ann.fit(X_train, Y_train, callbacks=callback)\n",
        "  time_train_ann = time.time() - start_time\n",
        "\n",
        "  # Save model\n",
        "  #pickle.dump(model_ann,open(path+\"/Spectrum/NN/NNs/NN_model_freq_\"+str(num_of_freq_selected)+\"_reference_\"+str(reference_amt)+\".pkl\",\"wb\"))\n",
        "\n",
        "  if os.path.isfile(path+\"/Spectrum/NN/NNs/pearson_new_data_NN_model_freq_\"+str(num_of_freq_selected)+\"_reference_\"+str(reference_amt)+\".h5\") is False:\n",
        "    model_ann.model.save(path+\"/Spectrum/NN/NNs/pearson_new_data_NN_model_freq_\"+str(num_of_freq_selected)+\"_reference_\"+str(reference_amt)+\".h5\")\n",
        "  \n",
        "  return model_ann"
      ],
      "metadata": {
        "id": "r0YBaQtQ1k99"
      },
      "execution_count": null,
      "outputs": []
    },
    {
      "cell_type": "code",
      "source": [
        "def predict_test(model_ann, Y_test, X_test, sc_output, remove_outliers=0.05):\n",
        "  print('Results (freq_'+str(num_of_freq_selected)+'_reference_'+str(reference_amt)+')')\n",
        "  # Predit\n",
        "  start_time = time.time()\n",
        "  Y_test_pred=model_ann.predict(X_test)\n",
        "  pred=list(Y_test_pred)\n",
        "\n",
        "  time_eval_ann=time.time()-start_time\n",
        "\n",
        "  dist_min=sc_output.data_min_[0] # 80\n",
        "  dist_max=sc_output.data_max_[0] # 2000\n",
        "\n",
        "  real=list(list(zip(*Y_test))[0])\n",
        "  real_abs=np.add(dist_min,np.multiply((dist_max-dist_min),real)) # convert back to distances values from scalar\n",
        "  real_abs=[int(np.round(i)) for i in real_abs]\n",
        "  pred_abs=np.add(dist_min,np.multiply((dist_max-dist_min),pred)) # convert back to distances values from scalar\n",
        "  real_abs_e1 = real_abs\n",
        "  real_abs_e2 = real_abs\n",
        "\n",
        "  pred_abs_e1 = pred_abs\n",
        "  pred_abs_e2 = pred_abs\n",
        "\n",
        "  error=np.divide(np.abs(np.subtract(np.array(real_abs),np.array(pred_abs))),np.array(real_abs))\n",
        "  error_v2 = np.abs(np.subtract(np.array(real_abs),np.array(pred_abs)))\n",
        "\n",
        "  remove_outliers = math.ceil((len(error_v2)*remove_outliers)/2)\n",
        "\n",
        "  for outlier in range(1, remove_outliers+1):\n",
        "    min_idx_e1 = np.argmin(error)\n",
        "    max_idx_e1 = np.argmax(error)\n",
        "\n",
        "    min_idx_e2 = np.argmin(error_v2)\n",
        "    max_idx_e2 = np.argmax(error_v2)\n",
        "\n",
        "    error = np.delete(error, min_idx_e1)\n",
        "    error = np.delete(error, max_idx_e1)\n",
        "    real_abs_e1 = np.delete(real_abs_e1, min_idx_e1)\n",
        "    real_abs_e1 = np.delete(real_abs_e1, max_idx_e1)\n",
        "    pred_abs_e1 = np.delete(pred_abs_e1, min_idx_e1)\n",
        "    pred_abs_e1 = np.delete(pred_abs_e1, max_idx_e1)\n",
        "\n",
        "    error_v2 = np.delete(error_v2, min_idx_e2)\n",
        "    error_v2 = np.delete(error_v2, max_idx_e2)\n",
        "    real_abs_e2 = np.delete(real_abs_e2, min_idx_e1)\n",
        "    real_abs_e2 = np.delete(real_abs_e2, max_idx_e1)\n",
        "    pred_abs_e2 = np.delete(pred_abs_e2, min_idx_e1)\n",
        "    pred_abs_e2 = np.delete(pred_abs_e2, max_idx_e1)\n",
        "\n",
        "  res=pd.DataFrame({\"dist\":real_abs_e1,\"pred\":pred_abs_e1,\"error\":error})\n",
        "  res.to_csv(path+\"/Spectrum/NN/NN_results_error/new_data_pearson_results_curve_freq_\"+str(num_of_freq_selected)+\"_reference_\"+str(reference_amt)+\".csv\", header=True, index=False)\n",
        "\n",
        "  res_v2=pd.DataFrame({\"dist\":real_abs_e2,\"pred\":pred_abs_e2,\"error\":error_v2})\n",
        "  res.to_csv(path+\"/Spectrum/NN/NN_results_error/new_data_pearson_results_deltas_freq_\"+str(num_of_freq_selected)+\"_reference_\"+str(reference_amt)+\".csv\", header=True, index=False)\n",
        "  \n",
        "  plt.plot(real_abs_e1,error,'bo')\n",
        "  plt.xlabel('Distances') \n",
        "  plt.ylabel('Error') \n",
        "  plt.title(\"Results Curve (freq_\"+str(num_of_freq_selected)+\"_reference_\"+str(reference_amt)+\")\")\n",
        "  plt.savefig(path+\"/Spectrum/NN/NN_results_plots/new_data_pearson_results_curve_freq_\"+str(num_of_freq_selected)+\"_reference_\"+str(reference_amt)+\".png\")\n",
        "  plt.show()\n",
        "  \n",
        "  plt.plot(real_abs_e2,error_v2,'bo')\n",
        "  plt.xlabel('Distances') \n",
        "  plt.ylabel('Error') \n",
        "  plt.title(\"Results Deltas (freq_\"+str(num_of_freq_selected)+\"_reference_\"+str(reference_amt)+\")\")\n",
        "  plt.savefig(path+\"/Spectrum/NN/NN_results_plots/new_data_pearson_results_deltas_freq_\"+str(num_of_freq_selected)+\"_reference_\"+str(reference_amt)+\".png\")\n",
        "  plt.show()\n"
      ],
      "metadata": {
        "id": "yY8QHJCJAM3s"
      },
      "execution_count": null,
      "outputs": []
    },
    {
      "cell_type": "code",
      "source": [
        "num_of_freq_selected = 10\n",
        "reference_amt = 30\n",
        "training_input_path = path + \"/Spectrum/NN/train_test_splits/new_data_training_data_NN_freq_10_reference_30.csv\"\n",
        "testing_input_path = path + \"/Spectrum/NN/train_test_splits/new_data_testing_data_NN_freq_10_reference_30.csv\"\n",
        "\n",
        "training_df = pd.read_csv(training_input_path)\n",
        "testing_df = pd.read_csv(testing_input_path)\n",
        "\n",
        "Y = training_df.iloc[:, 0].to_numpy().reshape(-1,1)\n",
        "X = training_df.iloc[:, 3:6]\n",
        "\n",
        "sc_input = MinMaxScaler()\n",
        "sc_output = MinMaxScaler()\n",
        "Y_train_p = sc_output.fit_transform(Y) # convert distances to values from 0 to 1\n",
        "X_train_p = sc_input.fit_transform(X) # convert features to values from 0 to 1\n",
        "\n",
        "Y = testing_df.iloc[:, 0].to_numpy().reshape(-1,1)\n",
        "X = testing_df.iloc[:, 3:6]\n",
        "\n",
        "sc_input = MinMaxScaler()\n",
        "sc_output = MinMaxScaler()\n",
        "Y_test_p = sc_output.fit_transform(Y) # convert distances to values from 0 to 1\n",
        "X_test_p = sc_input.fit_transform(X) # convert features to values from 0 to 1"
      ],
      "metadata": {
        "id": "xWm7Dnj1zqiw"
      },
      "execution_count": null,
      "outputs": []
    },
    {
      "cell_type": "code",
      "source": [
        "model_ann_p = train_model(X_train_p, Y_train_p)"
      ],
      "metadata": {
        "id": "Job0tVyN0gP3"
      },
      "execution_count": null,
      "outputs": []
    },
    {
      "cell_type": "code",
      "source": [
        "predict_test(model_ann_p, Y_test_p, X_test_p, sc_output)"
      ],
      "metadata": {
        "id": "B493cZEb0ldO"
      },
      "execution_count": null,
      "outputs": []
    },
    {
      "cell_type": "markdown",
      "source": [
        "## Test only stats"
      ],
      "metadata": {
        "id": "-BFRLXf7zqqV"
      }
    },
    {
      "cell_type": "code",
      "source": [
        "# Load network\n",
        "from keras.models import Sequential\n",
        "from keras.layers import Dense,Conv2D, Flatten\n",
        "from keras.wrappers.scikit_learn import KerasRegressor\n",
        "from keras.callbacks import EarlyStopping\n",
        "from tqdm.keras import TqdmCallback\n",
        "\n",
        "def ann():\n",
        "  model = Sequential()\n",
        "  model.add(Dense(76, input_dim = 3, activation = 'tanh'))\n",
        "  model.add(Dense(38,activation='tanh'))\n",
        "  model.add(Dense(19,activation='tanh'))\n",
        "  model.add(Dense(1))\n",
        "  model.compile(loss ='mean_squared_error',optimizer = 'RMSprop')\n",
        "  return model"
      ],
      "metadata": {
        "id": "5WU3J-u56cTF"
      },
      "execution_count": null,
      "outputs": []
    },
    {
      "cell_type": "code",
      "source": [
        "# Load network\n",
        "from keras.models import Sequential\n",
        "from keras.layers import Dense,Conv2D, Flatten\n",
        "from keras.wrappers.scikit_learn import KerasRegressor\n",
        "from keras.callbacks import EarlyStopping\n",
        "from tqdm.keras import TqdmCallback\n",
        "\n",
        "def ann():\n",
        "  model = Sequential()\n",
        "  model.add(Dense(76, input_dim = 4, activation = 'tanh'))\n",
        "  model.add(Dense(38,activation='tanh'))\n",
        "  model.add(Dense(19,activation='tanh'))\n",
        "  model.add(Dense(1))\n",
        "  model.compile(loss ='mean_squared_error',optimizer = 'RMSprop')\n",
        "  return model"
      ],
      "metadata": {
        "id": "7TGNlh7V5zsg"
      },
      "execution_count": null,
      "outputs": []
    },
    {
      "cell_type": "code",
      "source": [
        "def train_model(X_train, Y_train):\n",
        "  print('Training model (freq_'+str(num_of_freq_selected)+'_reference_'+str(reference_amt)+')...')\n",
        "  from keras.models import Sequential\n",
        "  from keras.layers import Dense,Conv2D, Flatten\n",
        "  from keras.wrappers.scikit_learn import KerasRegressor\n",
        "  from keras.callbacks import EarlyStopping\n",
        "  from tqdm.keras import TqdmCallback\n",
        "\n",
        "  def ann():\n",
        "      model = Sequential()\n",
        "      model.add(Dense(76, input_dim = 4, activation = 'tanh'))\n",
        "      model.add(Dense(38,activation='tanh'))\n",
        "      model.add(Dense(19,activation='tanh'))\n",
        "      model.add(Dense(1))\n",
        "      model.compile(loss ='mean_squared_error',optimizer = 'RMSprop')\n",
        "      return model\n",
        "\n",
        "  model_ann = KerasRegressor(build_fn=ann,epochs=5000,batch_size=32, verbose=0)\n",
        "\n",
        "  start_time = time.time()\n",
        "  callback = [EarlyStopping(monitor='loss', patience=500)]#, TqdmCallback(verbose=2)]\n",
        "  model_ann.fit(X_train, Y_train, callbacks=callback)\n",
        "  time_train_ann = time.time() - start_time\n",
        "\n",
        "  # Save model\n",
        "  #pickle.dump(model_ann,open(path+\"/Spectrum/NN/NNs/NN_model_freq_\"+str(num_of_freq_selected)+\"_reference_\"+str(reference_amt)+\".pkl\",\"wb\"))\n",
        "\n",
        "  if os.path.isfile(path+\"/Spectrum/NN/NNs/stats_new_data_NN_model_freq_\"+str(num_of_freq_selected)+\"_reference_\"+str(reference_amt)+\".h5\") is False:\n",
        "    model_ann.model.save(path+\"/Spectrum/NN/NNs/stats_new_data_NN_model_freq_\"+str(num_of_freq_selected)+\"_reference_\"+str(reference_amt)+\".h5\")\n",
        "  \n",
        "  return model_ann"
      ],
      "metadata": {
        "id": "Lm2iyDF15uvF"
      },
      "execution_count": null,
      "outputs": []
    },
    {
      "cell_type": "code",
      "source": [
        "def predict_test(model_ann, Y_test, X_test, sc_output, remove_outliers=0.05):\n",
        "  print('Results (freq_'+str(num_of_freq_selected)+'_reference_'+str(reference_amt)+')')\n",
        "  # Predit\n",
        "  start_time = time.time()\n",
        "  Y_test_pred=model_ann.predict(X_test)\n",
        "  pred=list(Y_test_pred)\n",
        "\n",
        "  time_eval_ann=time.time()-start_time\n",
        "\n",
        "  dist_min=sc_output.data_min_[0] # 80\n",
        "  dist_max=sc_output.data_max_[0] # 2000\n",
        "\n",
        "  real=list(list(zip(*Y_test))[0])\n",
        "  real_abs=np.add(dist_min,np.multiply((dist_max-dist_min),real)) # convert back to distances values from scalar\n",
        "  real_abs=[int(np.round(i)) for i in real_abs]\n",
        "  pred_abs=np.add(dist_min,np.multiply((dist_max-dist_min),pred)) # convert back to distances values from scalar\n",
        "\n",
        "  real_abs_e1 = real_abs\n",
        "  real_abs_e2 = real_abs\n",
        "\n",
        "  pred_abs_e1 = pred_abs\n",
        "  pred_abs_e2 = pred_abs\n",
        "\n",
        "  error=np.divide(np.abs(np.subtract(np.array(real_abs),np.array(pred_abs))),np.array(real_abs))\n",
        "  error_v2 = np.abs(np.subtract(np.array(real_abs),np.array(pred_abs)))\n",
        "\n",
        "  remove_outliers = math.ceil((len(error_v2)*remove_outliers)/2)\n",
        "\n",
        "  for outlier in range(1, remove_outliers+1):\n",
        "    min_idx_e1 = np.argmin(error)\n",
        "    max_idx_e1 = np.argmax(error)\n",
        "\n",
        "    min_idx_e2 = np.argmin(error_v2)\n",
        "    max_idx_e2 = np.argmax(error_v2)\n",
        "\n",
        "    error = np.delete(error, min_idx_e1)\n",
        "    error = np.delete(error, max_idx_e1)\n",
        "    real_abs_e1 = np.delete(real_abs_e1, min_idx_e1)\n",
        "    real_abs_e1 = np.delete(real_abs_e1, max_idx_e1)\n",
        "    pred_abs_e1 = np.delete(pred_abs_e1, min_idx_e1)\n",
        "    pred_abs_e1 = np.delete(pred_abs_e1, max_idx_e1)\n",
        "\n",
        "    error_v2 = np.delete(error_v2, min_idx_e2)\n",
        "    error_v2 = np.delete(error_v2, max_idx_e2)\n",
        "    real_abs_e2 = np.delete(real_abs_e2, min_idx_e1)\n",
        "    real_abs_e2 = np.delete(real_abs_e2, max_idx_e1)\n",
        "    pred_abs_e2 = np.delete(pred_abs_e2, min_idx_e1)\n",
        "    pred_abs_e2 = np.delete(pred_abs_e2, max_idx_e1)\n",
        "\n",
        "  res=pd.DataFrame({\"dist\":real_abs_e1,\"pred\":pred_abs_e1,\"error\":error})\n",
        "  res.to_csv(path+\"/Spectrum/NN/NN_results_error/new_data_stats_results_curve_freq_\"+str(num_of_freq_selected)+\"_reference_\"+str(reference_amt)+\".csv\", header=True, index=False)\n",
        "\n",
        "  res_v2=pd.DataFrame({\"dist\":real_abs_e2,\"pred\":pred_abs_e2,\"error\":error_v2})\n",
        "  res.to_csv(path+\"/Spectrum/NN/NN_results_error/new_data_stats_results_deltas_freq_\"+str(num_of_freq_selected)+\"_reference_\"+str(reference_amt)+\".csv\", header=True, index=False)\n",
        "  \n",
        "  plt.plot(real_abs_e1,error,'bo')\n",
        "  plt.xlabel('Distances') \n",
        "  plt.ylabel('Error') \n",
        "  plt.title(\"Results Curve (freq_\"+str(num_of_freq_selected)+\"_reference_\"+str(reference_amt)+\")\")\n",
        "  plt.savefig(path+\"/Spectrum/NN/NN_results_plots/new_data_stats_results_curve_freq_\"+str(num_of_freq_selected)+\"_reference_\"+str(reference_amt)+\".png\")\n",
        "  plt.show()\n",
        "  \n",
        "  plt.plot(real_abs_e2,error_v2,'bo')\n",
        "  plt.xlabel('Distances') \n",
        "  plt.ylabel('Error') \n",
        "  plt.title(\"Results Deltas (freq_\"+str(num_of_freq_selected)+\"_reference_\"+str(reference_amt)+\")\")\n",
        "  plt.savefig(path+\"/Spectrum/NN/NN_results_plots/new_data_stats_results_deltas_freq_\"+str(num_of_freq_selected)+\"_reference_\"+str(reference_amt)+\".png\")\n",
        "  plt.show()"
      ],
      "metadata": {
        "id": "zgqD84l5AWXg"
      },
      "execution_count": null,
      "outputs": []
    },
    {
      "cell_type": "code",
      "source": [
        "num_of_freq_selected = 10\n",
        "reference_amt = 30\n",
        "training_input_path = path + \"/Spectrum/NN/train_test_splits/new_data_training_data_NN_freq_10_reference_30.csv\"\n",
        "testing_input_path = path + \"/Spectrum/NN/train_test_splits/new_data_testing_data_NN_freq_10_reference_30.csv\"\n",
        "\n",
        "training_df = pd.read_csv(training_input_path)\n",
        "testing_df = pd.read_csv(testing_input_path)\n",
        "\n",
        "Y = training_df.iloc[:, 0].to_numpy().reshape(-1,1)\n",
        "X = training_df.iloc[:, [1, 2, 5, 6]]\n",
        "\n",
        "sc_input = MinMaxScaler()\n",
        "sc_output = MinMaxScaler()\n",
        "Y_train_s = sc_output.fit_transform(Y) # convert distances to values from 0 to 1\n",
        "X_train_s = sc_input.fit_transform(X) # convert features to values from 0 to 1\n",
        "\n",
        "Y = testing_df.iloc[:, 0].to_numpy().reshape(-1,1)\n",
        "X = testing_df.iloc[:, [1, 2, 5, 6]]\n",
        "\n",
        "\n",
        "sc_input = MinMaxScaler()\n",
        "sc_output = MinMaxScaler()\n",
        "Y_test_s = sc_output.fit_transform(Y) # convert distances to values from 0 to 1\n",
        "X_test_s = sc_input.fit_transform(X) # convert features to values from 0 to 1"
      ],
      "metadata": {
        "id": "w4IOWKxkM0z_"
      },
      "execution_count": null,
      "outputs": []
    },
    {
      "cell_type": "code",
      "source": [
        "model_ann_s = train_model(X_train_s, Y_train_s)"
      ],
      "metadata": {
        "id": "JvtaIJxm1JiV"
      },
      "execution_count": null,
      "outputs": []
    },
    {
      "cell_type": "code",
      "source": [
        "predict_test(model_ann_s, Y_test_s, X_test_s, sc_output)"
      ],
      "metadata": {
        "id": "Kf4XiuOw1JsA"
      },
      "execution_count": null,
      "outputs": []
    }
  ]
}