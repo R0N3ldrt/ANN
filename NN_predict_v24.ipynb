{
  "nbformat": 4,
  "nbformat_minor": 0,
  "metadata": {
    "colab": {
      "name": "Untitled10.ipynb",
      "provenance": [],
      "authorship_tag": "ABX9TyNJGA9MOQxWlEUj7v6ZWME1",
      "include_colab_link": true
    },
    "kernelspec": {
      "name": "python3",
      "display_name": "Python 3"
    },
    "language_info": {
      "name": "python"
    }
  },
  "cells": [
    {
      "cell_type": "markdown",
      "metadata": {
        "id": "view-in-github",
        "colab_type": "text"
      },
      "source": [
        "<a href=\"https://colab.research.google.com/github/R0N3ldrt/Thesis/blob/main/NN_predict_v24.ipynb\" target=\"_parent\"><img src=\"https://colab.research.google.com/assets/colab-badge.svg\" alt=\"Open In Colab\"/></a>"
      ]
    },
    {
      "cell_type": "markdown",
      "source": [
        "# Traininig NN Spectrum"
      ],
      "metadata": {
        "id": "UT4kgsEJEpyY"
      }
    },
    {
      "cell_type": "markdown",
      "source": [
        "# Loading Necesary Libraries"
      ],
      "metadata": {
        "id": "qsIzw6RGEwWp"
      }
    },
    {
      "cell_type": "code",
      "execution_count": 1,
      "metadata": {
        "id": "0YnA2ltpEoSi"
      },
      "outputs": [],
      "source": [
        "# Importing necesary libraries\n",
        "# Libraries for correct code execution \n",
        "\n",
        "import os, time\n",
        "import pandas as pd\n",
        "import numpy as np\n",
        "import matplotlib.pyplot as plt\n",
        "import math\n",
        "import pickle\n",
        "import random\n",
        "import csv\n",
        "import re\n",
        "import array\n",
        "import seaborn as sns\n",
        "from tqdm import tqdm\n",
        "import tensorflow as tf\n",
        "import os.path\n",
        "\n",
        "from functools import reduce\n",
        "from random import random, gauss\n",
        "from math import modf, pi, cos, sin, sqrt\n",
        "from sklearn.model_selection import train_test_split\n",
        "from sklearn.preprocessing import MinMaxScaler\n",
        "from sklearn.metrics import r2_score\n",
        "from plotly.subplots import make_subplots\n",
        "from scipy.signal import savgol_filter\n",
        "from scipy.stats.stats import pearsonr\n",
        "from scipy.stats import spearmanr\n",
        "\n",
        "import scipy.stats as st\n",
        "import plotly.graph_objects as go\n",
        "import plotly.express as px\n",
        "from plotly.subplots import make_subplots\n",
        "\n",
        "from keras.models import Sequential\n",
        "from keras.layers import Dense,Conv2D, Flatten\n",
        "from keras.wrappers.scikit_learn import KerasRegressor\n",
        "from keras.callbacks import EarlyStopping\n",
        "from sklearn.mixture import GaussianMixture\n",
        "import os, time, math, csv, joblib\n",
        "import pandas as pd\n",
        "import numpy as np\n",
        "import matplotlib.pyplot as plt\n",
        "import seaborn as sns\n",
        "from sklearn.model_selection import train_test_split\n",
        "from sklearn.preprocessing import MinMaxScaler\n",
        "from sklearn.mixture import GaussianMixture\n",
        "\n",
        "import os, time, math, csv, joblib\n",
        "import pandas as pd\n",
        "import numpy as np\n",
        "from sklearn.model_selection import train_test_split\n",
        "from sklearn.preprocessing import MinMaxScaler\n",
        "from sklearn.mixture import GaussianMixture\n",
        "\n",
        "import warnings\n",
        "warnings.filterwarnings(\"ignore\")\n",
        "\n",
        "sns.set_theme()"
      ]
    },
    {
      "cell_type": "markdown",
      "source": [
        "# Load Enviroment"
      ],
      "metadata": {
        "id": "o99IEHDfE2yy"
      }
    },
    {
      "cell_type": "code",
      "source": [
        "# BLOQUE PARA USAR DESDE COLAB\n",
        "\n",
        "# Google drive loading as work station for local-usage of the files.\n",
        "from google.colab import drive\n",
        "drive.mount('/content/gdrive',force_remount= True)\n",
        "\n",
        "#-----------------------------------------------------------------------------"
      ],
      "metadata": {
        "colab": {
          "base_uri": "https://localhost:8080/"
        },
        "id": "ruXEP78XE7E5",
        "outputId": "ce2a012f-ec4a-4dee-854f-d76728e0fa2f"
      },
      "execution_count": 2,
      "outputs": [
        {
          "output_type": "stream",
          "name": "stdout",
          "text": [
            "Mounted at /content/gdrive\n"
          ]
        }
      ]
    },
    {
      "cell_type": "code",
      "source": [
        "# Lista para cambiar los paths rapido.\n",
        "workers = [\"Ronald\", \"Local\"]\n",
        "\n",
        "# Change the number to change the paths.\n",
        "worker = workers[0]\n",
        "\n",
        "if worker == \"Ronald\":\n",
        "  path = \"/content/gdrive/MyDrive/Thesis_Workstation/ANN_dataset\"\n",
        "else: path = os.getcwd()"
      ],
      "metadata": {
        "id": "1Y2-m9DsE74Z"
      },
      "execution_count": 3,
      "outputs": []
    },
    {
      "cell_type": "markdown",
      "source": [
        "# Get working_df"
      ],
      "metadata": {
        "id": "a9bZmAKqRtdK"
      }
    },
    {
      "cell_type": "markdown",
      "source": [
        "## Aggregator"
      ],
      "metadata": {
        "id": "-efCc7PrSORb"
      }
    },
    {
      "cell_type": "code",
      "source": [
        "def prime_number_finder(stop_gap, total_num_of_data):\n",
        "  prime_nums = []\n",
        "  i=2\n",
        "  while i <= stop_gap:\n",
        "    if (total_num_of_data % i==0):\n",
        "      prime_nums.append(i)\n",
        "      break\n",
        "    i+=1\n",
        "  return prime_nums"
      ],
      "metadata": {
        "id": "LpTsisCER__7"
      },
      "execution_count": 4,
      "outputs": []
    },
    {
      "cell_type": "code",
      "source": [
        "def aggreagator_v2(df, stop_gap=50):\n",
        "  total_num_of_data = df.shape[1]\n",
        "  arr_prime = prime_number_finder(stop_gap, total_num_of_data)\n",
        "  #agg_num = np.max(arr_prime)\n",
        "  agg_num = arr_prime[0]\n",
        "\n",
        "  # Creating new df of aggregate values\n",
        "  agg_df = pd.DataFrame()\n",
        "\n",
        "  mid_point = df.shape[1]/2\n",
        "\n",
        "  agg=0\n",
        "  loop_cnt=0\n",
        "  init_column_cnt = 5\n",
        "  while agg<=total_num_of_data:\n",
        "    loop_cnt+=1\n",
        "    # Obtain current last columns stop\n",
        "    agg=agg_num+init_column_cnt\n",
        "    # Select working columns\n",
        "    new_df = df[df.columns[init_column_cnt:agg]]\n",
        "\n",
        "    init_column_cnt += (agg_num)\n",
        "\n",
        "    headers = list(new_df.columns.values) \n",
        "    if loop_cnt <= mid_point:\n",
        "      # Get average of freq values for new header\n",
        "      new_header_name  = headers[-1]\n",
        "    else:\n",
        "      new_header_name = headers[0]\n",
        "    \n",
        "    # Add aggragated values to new df\n",
        "    agg_df[new_header_name] = new_df.mean(axis = 1)\n",
        "  return agg_df"
      ],
      "metadata": {
        "id": "PqkcfV-CSDYv"
      },
      "execution_count": 5,
      "outputs": []
    },
    {
      "cell_type": "markdown",
      "source": [
        "## Find cutoff index"
      ],
      "metadata": {
        "id": "W4h81smRSKUR"
      }
    },
    {
      "cell_type": "code",
      "source": [
        "def remove_tail(df, cut_val, sample_id):\n",
        "  columns_selected = []\n",
        "  old_val = 0\n",
        "  delta = 0\n",
        "  mid_point = int(df.shape[1]/2)\n",
        "  cols_headers  = list(df.columns.values)\n",
        "\n",
        "  for i in range(0, df.shape[1]):\n",
        "    if i == 0:\n",
        "      cell_val = df.iloc[[0], i]\n",
        "      old_val = cell_val[sample_id]\n",
        "    else:\n",
        "      cell_val = df.iloc[[0], i]\n",
        "      val = cell_val[sample_id]\n",
        "      delta = abs(old_val-val)\n",
        "      old_val = val\n",
        "      if delta > cut_val:\n",
        "        if i <= mid_point:\n",
        "          col_name_selected = cols_headers[i+2]\n",
        "        else:\n",
        "          col_name_selected = cols_headers[i-2]\n",
        "          col_name_selected = round(float(col_name_selected), 5)\n",
        "        columns_selected.append(col_name_selected)\n",
        "\n",
        "  return columns_selected"
      ],
      "metadata": {
        "id": "hgUHEniRSJil"
      },
      "execution_count": 6,
      "outputs": []
    },
    {
      "cell_type": "code",
      "source": [
        "# Removing tails conducting multiples loops with variable cutoff value until we get only two columns\n",
        "def remove_tail_main(df, cut_val, sample_id):\n",
        "  old_drop_cols = []\n",
        "  drop_cols = remove_tail(df, cut_val, sample_id)\n",
        "  while len(drop_cols) != 2:  \n",
        "    # If len of columns to be dropped are 0 the select the 2 values smaller and bigger of the previous iteration\n",
        "    if len(drop_cols) == 0 or len(drop_cols) == 1:\n",
        "      drop_cols = [np.min(old_drop_cols), np.max(old_drop_cols)]\n",
        "      break\n",
        "    else:\n",
        "      old_drop_cols = drop_cols\n",
        "      drop_cols = remove_tail(df, cut_val, sample_id)\n",
        "      cut_val += 2\n",
        "  return drop_cols"
      ],
      "metadata": {
        "id": "CNPLl420STJV"
      },
      "execution_count": 7,
      "outputs": []
    },
    {
      "cell_type": "code",
      "source": [
        "def get_working_data_idx_v2(df_mean_sample, sample_id, cut_val = 0):\n",
        "\n",
        "  df = df_mean_sample.iloc[[sample_id - 1]]\n",
        "\n",
        "  #agg_df = aggreagator_v2(df) disable aggragator causing odd data points\n",
        "\n",
        "  col_vals = remove_tail_main(df, cut_val=cut_val, sample_id=sample_id)\n",
        "\n",
        "  left_index_no = df.columns.get_loc(col_vals[0])\n",
        "  rigth_index_no = df.columns.get_loc(col_vals[1])\n",
        "\n",
        "  return left_index_no, rigth_index_no"
      ],
      "metadata": {
        "id": "WFhRhx5USZR7"
      },
      "execution_count": 8,
      "outputs": []
    },
    {
      "cell_type": "code",
      "source": [
        "def cut_off_idx(df): # return tuple with cut-off values (index_left_side, index_rigth_side)\n",
        "  df_mean_sample = df.groupby(['PBRS_id']).mean()\n",
        "  df_mean_sample = df_mean_sample.drop(['row', 'Channels', 'Distance_km', 'power_dBm'], axis = 1)\n",
        "\n",
        "  cut_points = {}\n",
        "  print('Calculating the cutoff values:')\n",
        "  for sample in tqdm(df_mean_sample.index):\n",
        "    left_index_no, rigth_index_no = get_working_data_idx_v2(df_mean_sample, sample_id = sample)\n",
        "    cut_points[sample] = (left_index_no, rigth_index_no)\n",
        "\n",
        "  left_cut_off = np.min([v[0] for k, v in cut_points.items()])\n",
        "  rigth_cut_off = np.max([v[1] for k, v in cut_points.items()])\n",
        "\n",
        "  cut_point = (left_cut_off, rigth_cut_off)\n",
        "  return cut_point"
      ],
      "metadata": {
        "id": "1tG_j9gRSeJ0"
      },
      "execution_count": 9,
      "outputs": []
    },
    {
      "cell_type": "markdown",
      "source": [
        "## Select working data"
      ],
      "metadata": {
        "id": "_2p4y95YSlGe"
      }
    },
    {
      "cell_type": "code",
      "source": [
        "def select_working_data(df, cut_point): # implement cut_off values and Smoothing original df after cutt-of\n",
        "  extra_info_df = df.iloc[:, 0:6]\n",
        "  data_df = df.iloc[:, cut_point[0]+6:cut_point[1]+6]\n",
        "  smoothed_data_frame = pd.DataFrame(savgol_filter(data_df, window_length = 5, polyorder = 2))\n",
        "  \n",
        "  # Adding back headers to the smoothed data\n",
        "  rename_col = {}\n",
        "  cnt = 0\n",
        "  for col in data_df.columns:\n",
        "    h_col = round(float(col), 5)\n",
        "    rename_col[cnt] = h_col\n",
        "    cnt += 1\n",
        "  smoothed_data_frame.rename(columns=rename_col, inplace=True)\n",
        "\n",
        "  working_df = pd.merge(extra_info_df, smoothed_data_frame, left_index=True, right_index=True)\n",
        "  return working_df"
      ],
      "metadata": {
        "id": "TC0PK42wSnTw"
      },
      "execution_count": 10,
      "outputs": []
    },
    {
      "cell_type": "code",
      "source": [
        "def main_cutoff(input_path):\n",
        "  print('Reading data from file.')\n",
        "  df = pd.read_excel(input_path, sheet_name = \"Sheet1\", skiprows=1)\n",
        "  df.iloc[0].fillna(method='bfill', inplace=True)\n",
        "  df.iloc[1:df.shape[0]].fillna(method='pad', inplace=True)\n",
        "  # Adding missing PBRS_id\n",
        "  snippet = []\n",
        "  val_cnt = 1\n",
        "  idx = 0\n",
        "  for sample in range(1, 101):\n",
        "    for sample_id in range(0, 25):\n",
        "      df.at[idx, 'PBRS_id'] = val_cnt\n",
        "      idx +=1\n",
        "      snippet.append(val_cnt)\n",
        "    val_cnt += 1\n",
        "  df['PBRS_id'] = df['PBRS_id'].astype(int)\n",
        "\n",
        "  cut_point = cut_off_idx(df)\n",
        "  working_df = select_working_data(df, cut_point)\n",
        "\n",
        "  return working_df"
      ],
      "metadata": {
        "id": "n5gp_DYpSqEV"
      },
      "execution_count": 11,
      "outputs": []
    },
    {
      "cell_type": "markdown",
      "source": [
        "## Run main cutoff"
      ],
      "metadata": {
        "id": "_IszMVtETKej"
      }
    },
    {
      "cell_type": "code",
      "source": [
        "#input_path = path + \"/Spectrum/16QAM_v2/Copy of dataSet_gamma0_Spectrum31MHz_Samples_16QAM_75GHz_LongHaul_input_25x81km_primeStep.xlsx\"\n",
        "#orking_df = main_cutoff(input_path)\n",
        "#display(working_df)"
      ],
      "metadata": {
        "id": "0MCaO3l2TOEZ"
      },
      "execution_count": 12,
      "outputs": []
    },
    {
      "cell_type": "code",
      "source": [
        "#working_df.to_csv(path+\"/Spectrum/NN/new_data_working_df.csv\", index=False)"
      ],
      "metadata": {
        "id": "OTlGF2TaTiAT"
      },
      "execution_count": 13,
      "outputs": []
    },
    {
      "cell_type": "markdown",
      "source": [
        "#New Train/Test Split"
      ],
      "metadata": {
        "id": "rIpeu9O5teEp"
      }
    },
    {
      "cell_type": "markdown",
      "source": [
        "## Get Reference data"
      ],
      "metadata": {
        "id": "bgUl5jOx2vOg"
      }
    },
    {
      "cell_type": "code",
      "source": [
        "def get_reference_and_sample_data(working_df, num_reference, reference_distance):\n",
        "  num_of_ids = len(working_df['PBRS_id'].unique())\n",
        "\n",
        "  l = list(range(1, num_of_ids+1))\n",
        "  random.shuffle(l)\n",
        "  reference_arr = (l[:num_reference])\n",
        "  sample_arr = l[-(num_of_ids-num_reference):]\n",
        "\n",
        "  reference_data_df = working_df[working_df['PBRS_id'].isin(reference_arr)]\n",
        "  sample_data_df = working_df[working_df['PBRS_id'].isin(sample_arr)]\n",
        "  \n",
        "  return reference_data_df, sample_data_df"
      ],
      "metadata": {
        "id": "ec3YhJwn9Hxx"
      },
      "execution_count": 58,
      "outputs": []
    },
    {
      "cell_type": "markdown",
      "source": [
        "## Get test/train split"
      ],
      "metadata": {
        "id": "gaVlwtnN-Ezo"
      }
    },
    {
      "cell_type": "code",
      "source": [
        "def get_idx_train_test_split(working_df, trainingProp = 0.8):\n",
        "  rows_training = np.array([])\n",
        "  rows_testing = np.array([])\n",
        "  distances = [x*80 for x in range(1, 26)]\n",
        "  for d in distances:\n",
        "    distance_working_df = working_df.loc[working_df['Distance_km'] == d]\n",
        "    rows_mixed=np.random.permutation(distance_working_df.shape[0])\n",
        "\n",
        "    training_amt = math.ceil(distance_working_df.shape[0]*trainingProp)\n",
        "    testing_amt = distance_working_df.shape[0] - training_amt\n",
        "\n",
        "    rows_training = np.append(rows_training, rows_mixed[:training_amt])\n",
        "    rows_testing = np.append(rows_testing, rows_mixed[-testing_amt:])\n",
        "  \n",
        "  rows_training = rows_training.astype('int').tolist()\n",
        "  rows_testing = rows_testing.astype('int').tolist()\n",
        "\n",
        "  return rows_training, rows_testing"
      ],
      "metadata": {
        "id": "yKHiNNANyyDB"
      },
      "execution_count": 59,
      "outputs": []
    },
    {
      "cell_type": "markdown",
      "source": [
        "## Get frequencies filter"
      ],
      "metadata": {
        "id": "WEbwMwMG-9BX"
      }
    },
    {
      "cell_type": "code",
      "source": [
        "def frequencies_filter(df, num_selected_freq=20):\n",
        "  info_df = df.iloc[:, 0:6]\n",
        "  data_df = df.iloc[:, 6:df.shape[1]]\n",
        "  span_val = int(data_df.shape[1]/num_selected_freq)\n",
        "  for i in range(num_selected_freq):\n",
        "    df2 = data_df.iloc[:, (i+1)*span_val].to_frame()\n",
        "    if i+1 == 1:\n",
        "      new_df = df2\n",
        "    else:\n",
        "      new_df = pd.merge(new_df, df2, left_index=True, right_index=True)\n",
        "  new_df = info_df.join(new_df)\n",
        "  \n",
        "  return new_df"
      ],
      "metadata": {
        "id": "RqeELlLC_vlH"
      },
      "execution_count": 60,
      "outputs": []
    },
    {
      "cell_type": "markdown",
      "source": [
        "## Get features"
      ],
      "metadata": {
        "id": "S2Z2xg2yHuoz"
      }
    },
    {
      "cell_type": "code",
      "source": [
        "#sample_freq_data_df\n",
        "#distance_reference_df\n",
        "#selected_rows = rows_training\n",
        "def get_features(sample_freq_data_df, reference_freq_data_df, selected_rows, test_references_params):\n",
        "  data_distance = []\n",
        "  data_mean = []\n",
        "  data_std = []\n",
        "  data_pearson_min = []\n",
        "  data_pearson_mean = []\n",
        "  data_pearson_max = []\n",
        "  data_CI_lower = []\n",
        "  data_CI_upper = []\n",
        "\n",
        "  if get_reference_and_sample_data[0] == True: # Test reference distance portion\n",
        "    reference_freq_data_df = reference_freq_data_df['Distance_km'].isin(test_references_params[1])\n",
        "\n",
        "  for row_idx in tqdm(selected_rows):\n",
        "    data_Y = sample_freq_data_df.iloc[row_idx,3] # distance of row selected\n",
        "    data_X = np.array(sample_freq_data_df.iloc[row_idx,6:sample_freq_data_df.shape[1]]) #array of data in row selected\n",
        "    data_distance.append(data_Y)\n",
        "    data_std.append(np.std(data_X))\n",
        "    data_mean.append(np.mean(data_X))\n",
        "\n",
        "    data_ci = st.t.interval(alpha=0.90, df=len(data_X)-1, loc=np.mean(data_X), scale=st.sem(data_X))\n",
        "    data_confidence_int_lower = data_ci[0]\n",
        "    data_confidence_int_upper = data_ci[1]\n",
        "\n",
        "    # Get reference data\n",
        "    distance_reference_df = reference_freq_data_df.loc[reference_freq_data_df['Distance_km'] == data_Y]\n",
        "    if distance_reference_df.shape[0] != 0:\n",
        "      mod_df = distance_reference_df\n",
        "    else:\n",
        "      mod_df = reference_freq_data_df\n",
        "\n",
        "    pearson_vals = []\n",
        "    confidence_vals_upper = []\n",
        "    confidence_vals_lower = []\n",
        "    for reference_row in range(0, mod_df.shape[0]):\n",
        "      reference_X = np.array(mod_df.iloc[reference_row,6:mod_df.shape[1]])\n",
        "      pearson_vals.append(round(pearsonr(data_X, reference_X)[0], 5))\n",
        "\n",
        "      reference_ci = st.t.interval(alpha=0.90, df=len(reference_X)-1, loc=np.mean(reference_X), scale=st.sem(reference_X))\n",
        "      reference_confidence_int_lower = reference_ci[0]\n",
        "      confidence_vals_lower.append(reference_confidence_int_lower)\n",
        "      reference_confidence_int_upper = reference_ci[1]\n",
        "      confidence_vals_upper.append(reference_confidence_int_upper)\n",
        "\n",
        "    data_pearson_min.append(np.min(pearson_vals))\n",
        "    data_pearson_mean.append(np.mean(pearson_vals))    \n",
        "    data_pearson_max.append(np.max(pearson_vals))\n",
        "\n",
        "    data_CI_lower.append(abs(np.min(confidence_vals_lower)-data_confidence_int_lower))\n",
        "    data_CI_upper.append(abs(np.max(confidence_vals_upper)-data_confidence_int_upper))\n",
        "  data = {'distance':data_distance,\n",
        "                  'mean':data_mean,\n",
        "                  'std':data_std,\n",
        "                  'pearson_min':data_pearson_min,\n",
        "                  'pearson_mean':data_pearson_mean,\n",
        "                  'pearson_max':data_pearson_max,\n",
        "                  'delta_CI_min':data_CI_lower,\n",
        "                  'delta_CI_max':data_CI_upper}\n",
        "\n",
        "  data_df = pd.DataFrame(data)\n",
        "\n",
        "  return data_df"
      ],
      "metadata": {
        "id": "8FNsUKTVxZmP"
      },
      "execution_count": 79,
      "outputs": []
    },
    {
      "cell_type": "markdown",
      "source": [
        "## Main train/test split"
      ],
      "metadata": {
        "id": "9V5WNuN9jSZF"
      }
    },
    {
      "cell_type": "code",
      "source": [
        "def get_train_test_split_main(input_path, num_of_freq_selected, reference_amt, test_references_params):\n",
        "  working_df = pd.read_csv(input_path)\n",
        "  working_df['Distance_km'] = working_df['Distance_km'].astype(int)\n",
        "  #working_df = working_df.sample(frac = 1) # Shuffle df\n",
        "\n",
        "  reference_data_df, sample_data_df = get_reference_and_sample_data(working_df, reference_amt)\n",
        "\n",
        "  reference_freq_data_df = frequencies_filter(reference_data_df, num_selected_freq=num_of_freq_selected)\n",
        "  sample_freq_data_df = frequencies_filter(sample_data_df, num_selected_freq=num_of_freq_selected)\n",
        "\n",
        "  rows_training, rows_testing = get_idx_train_test_split(sample_data_df, trainingProp = 0.8)\n",
        "  print('Calculating train split:')\n",
        "  training_df = get_features(sample_freq_data_df, reference_freq_data_df, rows_training, test_references_params)\n",
        "  print('Calculating test split:')\n",
        "  testing_df = get_features(sample_freq_data_df, reference_freq_data_df, rows_testing, test_references_params)\n",
        "\n",
        "  return training_df, testing_df"
      ],
      "metadata": {
        "id": "uL35uf_RjV3r"
      },
      "execution_count": 78,
      "outputs": []
    },
    {
      "cell_type": "markdown",
      "source": [
        "#Test new data"
      ],
      "metadata": {
        "id": "-4aouQ6qQRor"
      }
    },
    {
      "cell_type": "markdown",
      "source": [
        "## Hope better"
      ],
      "metadata": {
        "id": "8Ou1UMjPtiWN"
      }
    },
    {
      "cell_type": "code",
      "source": [
        "def get_label_data_splits(input_path, num_of_freq_selected, reference_amt, split_done=False, test_references_params=(False, [80, 1040, 2000])):\n",
        "\n",
        "  if split_done == False:\n",
        "    training_df, testing_df = get_train_test_split_main(input_path, num_of_freq_selected, reference_amt, test_references_params)\n",
        "\n",
        "    training_df.to_csv(path+\"/Spectrum/NN/train_test_splits/new_data_training_data_NN_freq_\"+str(num_of_freq_selected)+\"_reference_\"+str(reference_amt)+\".csv\", header=True, index=False)\n",
        "    testing_df.to_csv(path+\"/Spectrum/NN/train_test_splits/new_data_testing_data_NN_freq_\"+str(num_of_freq_selected)+\"_reference_\"+str(reference_amt)+\".csv\", header=True, index=False)\n",
        "  else:\n",
        "    training_df = pd.read_csv(path+\"/Spectrum/NN/train_test_splits/new_data_training_data_NN_freq_\"+str(num_of_freq_selected)+\"_reference_\"+str(reference_amt)+\".csv\")\n",
        "    testing_df = pd.read_csv(path+\"/Spectrum/NN/train_test_splits/new_data_testing_data_NN_freq_\"+str(num_of_freq_selected)+\"_reference_\"+str(reference_amt)+\".csv\")\n",
        "\n",
        "  Y = training_df.iloc[:, 0].to_numpy().reshape(-1,1)\n",
        "  X = training_df.iloc[:, 1:training_df.shape[1]]\n",
        "\n",
        "  sc_input = MinMaxScaler()\n",
        "  sc_output = MinMaxScaler()\n",
        "  Y_train = sc_output.fit_transform(Y) # convert distances to values from 0 to 1\n",
        "  X_train = sc_input.fit_transform(X) # convert features to values from 0 to 1\n",
        "\n",
        "  Y = testing_df.iloc[:, 0].to_numpy().reshape(-1,1)\n",
        "  X = testing_df.iloc[:, 1:testing_df.shape[1]]\n",
        "\n",
        "  Y_test = sc_output.fit_transform(Y) # convert distances to values from 0 to 1\n",
        "  X_test = sc_input.fit_transform(X) # convert features to values from 0 to 1\n",
        "\n",
        "  return Y_train, X_train, Y_test, X_test, sc_output, training_df, testing_df"
      ],
      "metadata": {
        "id": "vuhTggzTfTlX"
      },
      "execution_count": 63,
      "outputs": []
    },
    {
      "cell_type": "code",
      "source": [
        "def train_model(X_train, Y_train):\n",
        "  print('Training model (freq_'+str(num_of_freq_selected)+'_reference_'+str(reference_amt)+')...')\n",
        "  from keras.models import Sequential\n",
        "  from keras.layers import Dense,Conv2D, Flatten\n",
        "  from keras.wrappers.scikit_learn import KerasRegressor\n",
        "  from keras.callbacks import EarlyStopping\n",
        "  from tqdm.keras import TqdmCallback\n",
        "\n",
        "  def ann():\n",
        "      model = Sequential()\n",
        "      model.add(Dense(76, input_dim = 7, activation = 'tanh'))\n",
        "      model.add(Dense(38,activation='tanh'))\n",
        "      model.add(Dense(19,activation='tanh'))\n",
        "      model.add(Dense(1))\n",
        "      model.compile(loss ='mean_squared_error',optimizer = 'RMSprop')\n",
        "      return model\n",
        "\n",
        "  model_ann = KerasRegressor(build_fn=ann,epochs=8000,batch_size=32, verbose=0)\n",
        "\n",
        "  start_time = time.time()\n",
        "  callback = [EarlyStopping(monitor='loss', patience=500)]#, TqdmCallback(verbose=2)]\n",
        "  model_ann.fit(X_train, Y_train, callbacks=callback)\n",
        "  time_train_ann = time.time() - start_time\n",
        "\n",
        "  # Save model\n",
        "  #pickle.dump(model_ann,open(path+\"/Spectrum/NN/NNs/NN_model_freq_\"+str(num_of_freq_selected)+\"_reference_\"+str(reference_amt)+\".pkl\",\"wb\"))\n",
        "\n",
        "  model_ann.model.save(path+\"/Spectrum/NN/NNs/final_new_data_NN_model_freq_\"+str(num_of_freq_selected)+\"_reference_\"+str(reference_amt)+\".h5\")\n",
        "  \n",
        "  return model_ann"
      ],
      "metadata": {
        "id": "Q5HYH6DPnjPC"
      },
      "execution_count": 64,
      "outputs": []
    },
    {
      "cell_type": "code",
      "source": [
        "def predict_test(model_ann, Y_test, X_test, sc_output_c, testing_df, remove_outliers=0.05):\n",
        "  print('Results (freq_'+str(num_of_freq_selected)+'_reference_'+str(reference_amt)+')')\n",
        "  # Predit\n",
        "  start_time = time.time()\n",
        "  Y_test_pred=model_ann.predict(X_test)\n",
        "  pred=list(Y_test_pred)\n",
        "\n",
        "  time_eval_ann=time.time()-start_time\n",
        "\n",
        "  dist_min=sc_output_c.data_min_[0] # 80\n",
        "  dist_max=sc_output_c.data_max_[0] # 2000\n",
        "\n",
        "  real=list(list(zip(*Y_test))[0])\n",
        "  real_abs=np.add(dist_min,np.multiply((dist_max-dist_min),real)) # convert back to distances values from scalar\n",
        "  real_abs=[int(np.round(i)) for i in real_abs]\n",
        "  pred_abs=np.add(dist_min,np.multiply((dist_max-dist_min),pred)) # convert back to distances values from scalar\n",
        "  real_abs_e1 = real_abs\n",
        "  real_abs_e2 = real_abs\n",
        "\n",
        "  pred_abs_e1 = pred_abs\n",
        "  pred_abs_e2 = pred_abs\n",
        "\n",
        "  error=np.divide(np.abs(np.subtract(np.array(real_abs),np.array(pred_abs))),np.array(real_abs))\n",
        "  error_v2 = np.abs(np.subtract(np.array(real_abs),np.array(pred_abs)))\n",
        "\n",
        "  remove_outliers = math.ceil((len(error_v2)*remove_outliers)/2)\n",
        "\n",
        "  for outlier in range(1, remove_outliers+1):\n",
        "    min_idx_e1 = np.argmin(error)\n",
        "    max_idx_e1 = np.argmax(error)\n",
        "\n",
        "    min_idx_e2 = np.argmin(error_v2)\n",
        "    max_idx_e2 = np.argmax(error_v2)\n",
        "\n",
        "    error = np.delete(error, min_idx_e1)\n",
        "    error = np.delete(error, max_idx_e1)\n",
        "    real_abs_e1 = np.delete(real_abs_e1, min_idx_e1)\n",
        "    real_abs_e1 = np.delete(real_abs_e1, max_idx_e1)\n",
        "    pred_abs_e1 = np.delete(pred_abs_e1, min_idx_e1)\n",
        "    pred_abs_e1 = np.delete(pred_abs_e1, max_idx_e1)\n",
        "\n",
        "    error_v2 = np.delete(error_v2, min_idx_e2)\n",
        "    error_v2 = np.delete(error_v2, max_idx_e2)\n",
        "    real_abs_e2 = np.delete(real_abs_e2, min_idx_e1)\n",
        "    real_abs_e2 = np.delete(real_abs_e2, max_idx_e1)\n",
        "    pred_abs_e2 = np.delete(pred_abs_e2, min_idx_e1)\n",
        "    pred_abs_e2 = np.delete(pred_abs_e2, max_idx_e1)\n",
        "\n",
        "  res=pd.DataFrame({\"dist\":real_abs_e1,\"pred\":pred_abs_e1,\"error\":error})\n",
        "  res.to_csv(path+\"/Spectrum/NN/NN_results_error/new_data_results_curve_freq_\"+str(num_of_freq_selected)+\"_reference_\"+str(reference_amt)+\".csv\", header=True, index=False)\n",
        "\n",
        "  res_v2=pd.DataFrame({\"dist\":real_abs_e2,\"pred\":pred_abs_e2,\"error\":error_v2})\n",
        "  res.to_csv(path+\"/Spectrum/NN/NN_results_error/new_data_results_deltas_freq_\"+str(num_of_freq_selected)+\"_reference_\"+str(reference_amt)+\".csv\", header=True, index=False)\n",
        "  \n",
        "  plt.plot(real_abs_e1,error,'bo')\n",
        "  plt.xlabel('Distances') \n",
        "  plt.ylabel('Error') \n",
        "  plt.title(\"Results Curve (freq_\"+str(num_of_freq_selected)+\"_reference_\"+str(reference_amt)+\")\")\n",
        "  plt.savefig(path+\"/Spectrum/NN/NN_results_plots/new_data_results_curve_freq_\"+str(num_of_freq_selected)+\"_reference_\"+str(reference_amt)+\".png\")\n",
        "  plt.show()\n",
        "  \n",
        "  plt.plot(real_abs_e2,error_v2,'bo')\n",
        "  plt.xlabel('Distances') \n",
        "  plt.ylabel('Error') \n",
        "  plt.title(\"Results Deltas (freq_\"+str(num_of_freq_selected)+\"_reference_\"+str(reference_amt)+\")\")\n",
        "  plt.savefig(path+\"/Spectrum/NN/NN_results_plots/new_data_results_deltas_freq_\"+str(num_of_freq_selected)+\"_reference_\"+str(reference_amt)+\".png\")\n",
        "  plt.show()"
      ],
      "metadata": {
        "id": "VM7Qp086iJzS"
      },
      "execution_count": 65,
      "outputs": []
    },
    {
      "cell_type": "code",
      "source": [
        "# Load network\n",
        "from keras.models import Sequential\n",
        "from keras.layers import Dense,Conv2D, Flatten\n",
        "from keras.wrappers.scikit_learn import KerasRegressor\n",
        "from keras.callbacks import EarlyStopping\n",
        "from tqdm.keras import TqdmCallback\n",
        "\n",
        "def ann():\n",
        "  model = Sequential()\n",
        "  model.add(Dense(76, input_dim = 7, activation = 'tanh'))\n",
        "  model.add(Dense(38,activation='tanh'))\n",
        "  model.add(Dense(19,activation='tanh'))\n",
        "  model.add(Dense(1))\n",
        "  model.compile(loss ='mean_squared_error',optimizer = 'RMSprop')\n",
        "  return model"
      ],
      "metadata": {
        "id": "E79f1yQce6my"
      },
      "execution_count": 66,
      "outputs": []
    },
    {
      "cell_type": "code",
      "source": [
        "num_of_freq_selected = 10\n",
        "reference_amt = 30\n",
        "input_path = path + \"/Spectrum/NN/new_data_working_df.csv\"\n",
        "\n",
        "Y_train_c, X_train_c, Y_test_c, X_test_c, sc_output_c, training_df_c, testing_df_c= get_label_data_splits(input_path, num_of_freq_selected, reference_amt, split_done=False)"
      ],
      "metadata": {
        "colab": {
          "base_uri": "https://localhost:8080/"
        },
        "id": "HO4JJwuiQTCe",
        "outputId": "a7b1b166-e138-4ef5-9246-6d841423ad31"
      },
      "execution_count": 67,
      "outputs": [
        {
          "output_type": "stream",
          "name": "stdout",
          "text": [
            "Calculating train split:\n"
          ]
        },
        {
          "output_type": "stream",
          "name": "stderr",
          "text": [
            "100%|██████████| 1400/1400 [00:47<00:00, 29.74it/s]\n"
          ]
        },
        {
          "output_type": "stream",
          "name": "stdout",
          "text": [
            "Calculating test split:\n"
          ]
        },
        {
          "output_type": "stream",
          "name": "stderr",
          "text": [
            "100%|██████████| 350/350 [00:11<00:00, 29.98it/s]\n"
          ]
        }
      ]
    },
    {
      "cell_type": "code",
      "source": [
        "#model_ann_c = train_model(X_train_c, Y_train_c)\n",
        "# Load network\n",
        "from keras.models import load_model\n",
        "model_ann_c = KerasRegressor(build_fn=ann, epochs=8000, batch_size=32, verbose=0)\n",
        "model_ann_c.model = load_model(path+\"/Spectrum/NN/NNs/final_new_data_NN_model_freq_10_reference_30.h5\")"
      ],
      "metadata": {
        "id": "9XynTocCnzhi"
      },
      "execution_count": 75,
      "outputs": []
    },
    {
      "cell_type": "code",
      "source": [
        "#predict_test(model_ann_c, Y_test_c, X_test_c, sc_output_c)\n",
        "predict_test(model_ann_c, Y_test_c, X_test_c, sc_output_c, testing_df_c, remove_outliers=0.05)"
      ],
      "metadata": {
        "colab": {
          "base_uri": "https://localhost:8080/",
          "height": 602
        },
        "id": "sNy39pL-mxsN",
        "outputId": "2d8f5275-72c4-40cb-8e69-2f4ed0828bc2"
      },
      "execution_count": 77,
      "outputs": [
        {
          "output_type": "stream",
          "name": "stdout",
          "text": [
            "Results (freq_10_reference_30)\n"
          ]
        },
        {
          "output_type": "display_data",
          "data": {
            "text/plain": [
              "<Figure size 432x288 with 1 Axes>"
            ],
            "image/png": "[encoded data removed]"
          },
          "metadata": {
            "needs_background": "light"
          }
        },
        {
          "output_type": "display_data",
          "data": {
            "text/plain": [
              "<Figure size 432x288 with 1 Axes>"
            ],
            "image/png": "[encoded data removed]"
          },
          "metadata": {
            "needs_background": "light"
          }
        }
      ]
    },
    {
      "cell_type": "markdown",
      "source": [
        "### Hope"
      ],
      "metadata": {
        "id": "2boIII39BugB"
      }
    },
    {
      "cell_type": "code",
      "source": [
        "# Load network\n",
        "from keras.models import Sequential\n",
        "from keras.layers import Dense,Conv2D, Flatten\n",
        "from keras.wrappers.scikit_learn import KerasRegressor\n",
        "from keras.callbacks import EarlyStopping\n",
        "from tqdm.keras import TqdmCallback\n",
        "\n",
        "def ann():\n",
        "  model = Sequential()\n",
        "  model.add(Dense(76, input_dim = 7, activation = 'tanh'))\n",
        "  model.add(Dense(38,activation='tanh'))\n",
        "  model.add(Dense(19,activation='tanh'))\n",
        "  model.add(Dense(1))\n",
        "  model.compile(loss ='mean_squared_error',optimizer = 'RMSprop')\n",
        "  return model\n",
        "\n",
        "# Load network\n",
        "from keras.models import load_model\n",
        "mm = KerasRegressor(build_fn=ann, epochs=8000, batch_size=32, verbose=0)\n",
        "mm.model = load_model(path+\"/Spectrum/NN/NNs/final_new_data_NN_model_freq_10_reference_30.h5\")"
      ],
      "metadata": {
        "id": "Sbl-y8LtBtsC"
      },
      "execution_count": 70,
      "outputs": []
    },
    {
      "cell_type": "code",
      "source": [
        "#sample_freq_data_df\n",
        "#distance_reference_df\n",
        "#selected_rows = rows_training\n",
        "def get_features_v2(sample_freq_data_df, reference_freq_data_df, selected_rows):\n",
        "  data_distance = []\n",
        "  data_mean = []\n",
        "  data_std = []\n",
        "  data_pearson_min = []\n",
        "  data_pearson_mean = []\n",
        "  data_pearson_max = []\n",
        "  data_CI_lower = []\n",
        "  data_CI_upper = []\n",
        "\n",
        "  for row_idx in tqdm(selected_rows):\n",
        "    data_Y = sample_freq_data_df.iloc[row_idx,3] # distance of row selected\n",
        "    data_X = np.array(sample_freq_data_df.iloc[row_idx,6:sample_freq_data_df.shape[1]]) #array of data in row selected\n",
        "    data_distance.append(data_Y)\n",
        "    data_std.append(np.std(data_X))\n",
        "    data_mean.append(np.mean(data_X))\n",
        "\n",
        "    data_ci = st.t.interval(alpha=0.90, df=len(data_X)-1, loc=np.mean(data_X), scale=st.sem(data_X))\n",
        "    data_confidence_int_lower = data_ci[0]\n",
        "    data_confidence_int_upper = data_ci[1]\n",
        "\n",
        "    # Get reference data\n",
        "    distance_reference_df = reference_freq_data_df.loc[reference_freq_data_df['Distance_km'] == data_Y]\n",
        "    if distance_reference_df.shape[0] != 0:\n",
        "      mod_df = distance_reference_df\n",
        "    else:\n",
        "      mod_df = reference_freq_data_df\n",
        "\n",
        "    pearson_vals = []\n",
        "    confidence_vals_upper = []\n",
        "    confidence_vals_lower = []\n",
        "    for reference_row in range(0, mod_df.shape[0]):\n",
        "      reference_X = np.array(mod_df.iloc[reference_row,6:mod_df.shape[1]])\n",
        "      pearson_vals.append(round(pearsonr(data_X, reference_X)[0], 5))\n",
        "\n",
        "      reference_ci = st.t.interval(alpha=0.90, df=len(reference_X)-1, loc=np.mean(reference_X), scale=st.sem(reference_X))\n",
        "      reference_confidence_int_lower = reference_ci[0]\n",
        "      confidence_vals_lower.append(reference_confidence_int_lower)\n",
        "      reference_confidence_int_upper = reference_ci[1]\n",
        "      confidence_vals_upper.append(reference_confidence_int_upper)\n",
        "\n",
        "    data_pearson_min.append(np.min(pearson_vals))\n",
        "    data_pearson_mean.append(np.mean(pearson_vals))    \n",
        "    data_pearson_max.append(np.max(pearson_vals))\n",
        "\n",
        "    data_CI_lower.append(abs(np.min(confidence_vals_lower)-data_confidence_int_lower))\n",
        "    data_CI_upper.append(abs(np.max(confidence_vals_upper)-data_confidence_int_upper))\n",
        "  data = {'distance':data_distance,\n",
        "                  'mean':data_mean,\n",
        "                  'std':data_std,\n",
        "                  'pearson_min':data_pearson_min,\n",
        "                  'pearson_mean':data_pearson_mean,\n",
        "                  'pearson_max':data_pearson_max,\n",
        "                  'delta_CI_min':data_CI_lower,\n",
        "                  'delta_CI_max':data_CI_upper}\n",
        "\n",
        "  data_df = pd.DataFrame(data)\n",
        "\n",
        "  return data_df"
      ],
      "metadata": {
        "id": "jX5VrcaOJ8a2"
      },
      "execution_count": 71,
      "outputs": []
    },
    {
      "cell_type": "code",
      "source": [
        "reference_eval_params=(30, [80, 1040, 2000], [80, 160, 240, 320, 400, 480, 560, 640, 720, 800, 880, 960, 1040, 1120, 1200, 1280, 1360, 1440, 1520, 1600, 1680, 1760, 1840, 1920, 2000])\n",
        "\n",
        "res = {}\n",
        "\n",
        "for r in reference_eval_params[1]:\n",
        "  "
      ],
      "metadata": {
        "id": "pb_lRhMerdtd",
        "outputId": "a2107c8d-f605-411d-fb8b-3de33b0b92b5",
        "colab": {
          "base_uri": "https://localhost:8080/",
          "height": 131
        }
      },
      "execution_count": 72,
      "outputs": [
        {
          "output_type": "error",
          "ename": "SyntaxError",
          "evalue": "ignored",
          "traceback": [
            "\u001b[0;36m  File \u001b[0;32m\"<ipython-input-72-bd40549c8a29>\"\u001b[0;36m, line \u001b[0;32m6\u001b[0m\n\u001b[0;31m    \u001b[0m\n\u001b[0m    ^\u001b[0m\n\u001b[0;31mSyntaxError\u001b[0m\u001b[0;31m:\u001b[0m unexpected EOF while parsing\n"
          ]
        }
      ]
    },
    {
      "cell_type": "code",
      "source": [
        "# ------------------------------------------------------------\n",
        "reference_eval_params=(30, [80, 1040, 2000], [80, 160, 240, 320, 400, 480, 560, 640, 720, 800, 880, 960, 1040, 1120, 1200, 1280, 1360, 1440, 1520, 1600, 1680, 1760, 1840, 1920, 2000])\n",
        "num_of_freq_selected = 10\n",
        "reference_amt = 30\n",
        "input_path = path + \"/Spectrum/NN/new_data_working_df.csv\"\n",
        "\n",
        "Y_train_c, X_train_c, Y_test_c, X_test_c, sc_output_c, training_df_c, testing_df_c= get_label_data_splits(input_path, num_of_freq_selected, reference_amt, split_done=True)\n",
        "\n",
        "res = {}\n",
        "for r in reference_eval_params[1]: #[80, 1040, 2000]\n",
        "  # Get reference data\n",
        "  reference_data_df = saved_references[saved_references['Distance_km']==r]\n",
        "  t_df = get_features_v2(saved_sample_freq_data_df, reference_data_df, rows_testing)\n",
        "  t_df = t_df.sort_values(by='distance')\n",
        "\n",
        "  Y = training_df.iloc[:, 0].to_numpy().reshape(-1,1)\n",
        "  X = training_df.iloc[:, 1:training_df.shape[1]]\n",
        "\n",
        "  sc_input = MinMaxScaler()\n",
        "  sc_output = MinMaxScaler()\n",
        "  y_train = sc_output.fit_transform(Y) # convert distances to values from 0 to 1\n",
        "  x_train = sc_input.fit_transform(X) # convert features to values from 0 to 1\n",
        "\n",
        "\n",
        "  Y = t_df.iloc[:, 0].to_numpy().reshape(-1,1)\n",
        "  X = t_df.iloc[:, 1:t_df.shape[1]]\n",
        "  y_test = sc_output_c.fit_transform(Y) # convert distances to values from 0 to 1\n",
        "  x_test = sc_output_c.fit_transform(X) # convert features to values from 0 to 1\n",
        "\n",
        "  y_test_pred=mm.model.predict(x_test)\n",
        "  pred=list(y_test_pred)\n",
        "\n",
        "  dist_min=sc_output.data_min_[0] # 80\n",
        "  dist_max=sc_output.data_max_[0] # 2000\n",
        "\n",
        "  real=list(list(zip(*y_test))[0])\n",
        "  real_abs=np.add(dist_min,np.multiply((dist_max-dist_min),real)) # convert back to distances values from scalar\n",
        "  real_abs=[int(np.round(i)) for i in real_abs]\n",
        "  \n",
        "  pred_abs=np.add(dist_min,np.multiply((dist_max-dist_min),pred)) # convert back to distances values from scalar\n",
        "\n",
        "  dict_distance = {}\n",
        "  label = t_df.iloc[:, 0].to_numpy()\n",
        "  for d in reference_eval_params[2]:\n",
        "    idx_val = np.where(label==d)\n",
        "    dict_distance[d] = idx_val[0].tolist()\n",
        "\n",
        "  pred_mean_res = []\n",
        "  for dist, indices in dict_distance.items():\n",
        "    sublist = [element for i, element in enumerate(pred_abs) if i in indices]\n",
        "    pred_mean_res.append(np.mean(sublist))\n",
        "\n",
        "  res[r] = pred_mean_res\n",
        "\n",
        "print('-----------------------------------------------------------------------')\n",
        "print('Resuslts')\n",
        "\n",
        "plt.figure(figsize=(15, 10))\n",
        "plt.plot(reference_eval_params[2], reference_eval_params[2],  linestyle='--')\n",
        "plt.plot(reference_eval_params[2], res[reference_eval_params[1][0]], label='Reference '+str(reference_eval_params[1][0]))\n",
        "plt.plot(reference_eval_params[2], res[reference_eval_params[1][1]], label='Reference '+str(reference_eval_params[1][1]))\n",
        "plt.plot(reference_eval_params[2], res[reference_eval_params[1][2]], label='Reference '+str(reference_eval_params[1][2]))\n",
        "plt.title('Real vs Predicted Distances')\n",
        "plt.xlabel('Real Distances')\n",
        "plt.ylabel('Predicted Distances')\n",
        "plt.xlim(np.min(reference_eval_params[2])-25, np.max(reference_eval_params[2])+25)\n",
        "plt.ylim(np.min(reference_eval_params[2])-25, np.max(reference_eval_params[2])+25)\n",
        "plt.yticks(reference_eval_params[2])\n",
        "plt.xticks(reference_eval_params[2])\n",
        "plt.legend(loc=\"best\")\n",
        "plt.show()\n",
        "print('-----------------------------------------------------------------------')\n",
        "# ------------------------------------------------------------"
      ],
      "metadata": {
        "id": "zHc-7qiXAX96"
      },
      "execution_count": null,
      "outputs": []
    },
    {
      "cell_type": "markdown",
      "source": [
        "## Test only pearson"
      ],
      "metadata": {
        "id": "y6uYJIMQznvg"
      }
    },
    {
      "cell_type": "code",
      "source": [
        "# Load network\n",
        "from keras.models import Sequential\n",
        "from keras.layers import Dense,Conv2D, Flatten\n",
        "from keras.wrappers.scikit_learn import KerasRegressor\n",
        "from keras.callbacks import EarlyStopping\n",
        "from tqdm.keras import TqdmCallback\n",
        "\n",
        "def ann():\n",
        "  model = Sequential()\n",
        "  model.add(Dense(76, input_dim = 3, activation = 'tanh'))\n",
        "  model.add(Dense(38,activation='tanh'))\n",
        "  model.add(Dense(19,activation='tanh'))\n",
        "  model.add(Dense(1))\n",
        "  model.compile(loss ='mean_squared_error',optimizer = 'RMSprop')\n",
        "  return model"
      ],
      "metadata": {
        "id": "yXo1Twr-1eoi"
      },
      "execution_count": null,
      "outputs": []
    },
    {
      "cell_type": "code",
      "source": [
        "def train_model(X_train, Y_train):\n",
        "  print('Training model (freq_'+str(num_of_freq_selected)+'_reference_'+str(reference_amt)+')...')\n",
        "  from keras.models import Sequential\n",
        "  from keras.layers import Dense,Conv2D, Flatten\n",
        "  from keras.wrappers.scikit_learn import KerasRegressor\n",
        "  from keras.callbacks import EarlyStopping\n",
        "  from tqdm.keras import TqdmCallback\n",
        "\n",
        "  def ann():\n",
        "      model = Sequential()\n",
        "      model.add(Dense(76, input_dim = 3, activation = 'tanh'))\n",
        "      model.add(Dense(38,activation='tanh'))\n",
        "      model.add(Dense(19,activation='tanh'))\n",
        "      model.add(Dense(1))\n",
        "      model.compile(loss ='mean_squared_error',optimizer = 'RMSprop')\n",
        "      return model\n",
        "\n",
        "  model_ann = KerasRegressor(build_fn=ann,epochs=5000,batch_size=32, verbose=0)\n",
        "\n",
        "  start_time = time.time()\n",
        "  callback = [EarlyStopping(monitor='loss', patience=500)]#, TqdmCallback(verbose=2)]\n",
        "  model_ann.fit(X_train, Y_train, callbacks=callback)\n",
        "  time_train_ann = time.time() - start_time\n",
        "\n",
        "  # Save model\n",
        "  #pickle.dump(model_ann,open(path+\"/Spectrum/NN/NNs/NN_model_freq_\"+str(num_of_freq_selected)+\"_reference_\"+str(reference_amt)+\".pkl\",\"wb\"))\n",
        "\n",
        "  if os.path.isfile(path+\"/Spectrum/NN/NNs/pearson_new_data_NN_model_freq_\"+str(num_of_freq_selected)+\"_reference_\"+str(reference_amt)+\".h5\") is False:\n",
        "    model_ann.model.save(path+\"/Spectrum/NN/NNs/pearson_new_data_NN_model_freq_\"+str(num_of_freq_selected)+\"_reference_\"+str(reference_amt)+\".h5\")\n",
        "  \n",
        "  return model_ann"
      ],
      "metadata": {
        "id": "r0YBaQtQ1k99"
      },
      "execution_count": null,
      "outputs": []
    },
    {
      "cell_type": "code",
      "source": [
        "def predict_test(model_ann, Y_test, X_test, sc_output, remove_outliers=0.05):\n",
        "  print('Results (freq_'+str(num_of_freq_selected)+'_reference_'+str(reference_amt)+')')\n",
        "  # Predit\n",
        "  start_time = time.time()\n",
        "  Y_test_pred=model_ann.predict(X_test)\n",
        "  pred=list(Y_test_pred)\n",
        "\n",
        "  time_eval_ann=time.time()-start_time\n",
        "\n",
        "  dist_min=sc_output.data_min_[0] # 80\n",
        "  dist_max=sc_output.data_max_[0] # 2000\n",
        "\n",
        "  real=list(list(zip(*Y_test))[0])\n",
        "  real_abs=np.add(dist_min,np.multiply((dist_max-dist_min),real)) # convert back to distances values from scalar\n",
        "  real_abs=[int(np.round(i)) for i in real_abs]\n",
        "  pred_abs=np.add(dist_min,np.multiply((dist_max-dist_min),pred)) # convert back to distances values from scalar\n",
        "  real_abs_e1 = real_abs\n",
        "  real_abs_e2 = real_abs\n",
        "\n",
        "  pred_abs_e1 = pred_abs\n",
        "  pred_abs_e2 = pred_abs\n",
        "\n",
        "  error=np.divide(np.abs(np.subtract(np.array(real_abs),np.array(pred_abs))),np.array(real_abs))\n",
        "  error_v2 = np.abs(np.subtract(np.array(real_abs),np.array(pred_abs)))\n",
        "\n",
        "  remove_outliers = math.ceil((len(error_v2)*remove_outliers)/2)\n",
        "\n",
        "  for outlier in range(1, remove_outliers+1):\n",
        "    min_idx_e1 = np.argmin(error)\n",
        "    max_idx_e1 = np.argmax(error)\n",
        "\n",
        "    min_idx_e2 = np.argmin(error_v2)\n",
        "    max_idx_e2 = np.argmax(error_v2)\n",
        "\n",
        "    error = np.delete(error, min_idx_e1)\n",
        "    error = np.delete(error, max_idx_e1)\n",
        "    real_abs_e1 = np.delete(real_abs_e1, min_idx_e1)\n",
        "    real_abs_e1 = np.delete(real_abs_e1, max_idx_e1)\n",
        "    pred_abs_e1 = np.delete(pred_abs_e1, min_idx_e1)\n",
        "    pred_abs_e1 = np.delete(pred_abs_e1, max_idx_e1)\n",
        "\n",
        "    error_v2 = np.delete(error_v2, min_idx_e2)\n",
        "    error_v2 = np.delete(error_v2, max_idx_e2)\n",
        "    real_abs_e2 = np.delete(real_abs_e2, min_idx_e1)\n",
        "    real_abs_e2 = np.delete(real_abs_e2, max_idx_e1)\n",
        "    pred_abs_e2 = np.delete(pred_abs_e2, min_idx_e1)\n",
        "    pred_abs_e2 = np.delete(pred_abs_e2, max_idx_e1)\n",
        "\n",
        "  res=pd.DataFrame({\"dist\":real_abs_e1,\"pred\":pred_abs_e1,\"error\":error})\n",
        "  res.to_csv(path+\"/Spectrum/NN/NN_results_error/new_data_pearson_results_curve_freq_\"+str(num_of_freq_selected)+\"_reference_\"+str(reference_amt)+\".csv\", header=True, index=False)\n",
        "\n",
        "  res_v2=pd.DataFrame({\"dist\":real_abs_e2,\"pred\":pred_abs_e2,\"error\":error_v2})\n",
        "  res.to_csv(path+\"/Spectrum/NN/NN_results_error/new_data_pearson_results_deltas_freq_\"+str(num_of_freq_selected)+\"_reference_\"+str(reference_amt)+\".csv\", header=True, index=False)\n",
        "  \n",
        "  plt.plot(real_abs_e1,error,'bo')\n",
        "  plt.xlabel('Distances') \n",
        "  plt.ylabel('Error') \n",
        "  plt.title(\"Results Curve (freq_\"+str(num_of_freq_selected)+\"_reference_\"+str(reference_amt)+\")\")\n",
        "  plt.savefig(path+\"/Spectrum/NN/NN_results_plots/new_data_pearson_results_curve_freq_\"+str(num_of_freq_selected)+\"_reference_\"+str(reference_amt)+\".png\")\n",
        "  plt.show()\n",
        "  \n",
        "  plt.plot(real_abs_e2,error_v2,'bo')\n",
        "  plt.xlabel('Distances') \n",
        "  plt.ylabel('Error') \n",
        "  plt.title(\"Results Deltas (freq_\"+str(num_of_freq_selected)+\"_reference_\"+str(reference_amt)+\")\")\n",
        "  plt.savefig(path+\"/Spectrum/NN/NN_results_plots/new_data_pearson_results_deltas_freq_\"+str(num_of_freq_selected)+\"_reference_\"+str(reference_amt)+\".png\")\n",
        "  plt.show()\n"
      ],
      "metadata": {
        "id": "yY8QHJCJAM3s"
      },
      "execution_count": null,
      "outputs": []
    },
    {
      "cell_type": "code",
      "source": [
        "num_of_freq_selected = 10\n",
        "reference_amt = 30\n",
        "training_input_path = path + \"/Spectrum/NN/train_test_splits/new_data_training_data_NN_freq_10_reference_30.csv\"\n",
        "testing_input_path = path + \"/Spectrum/NN/train_test_splits/new_data_testing_data_NN_freq_10_reference_30.csv\"\n",
        "\n",
        "training_df = pd.read_csv(training_input_path)\n",
        "testing_df = pd.read_csv(testing_input_path)\n",
        "\n",
        "Y = training_df.iloc[:, 0].to_numpy().reshape(-1,1)\n",
        "X = training_df.iloc[:, 3:6]\n",
        "\n",
        "sc_input = MinMaxScaler()\n",
        "sc_output = MinMaxScaler()\n",
        "Y_train_p = sc_output.fit_transform(Y) # convert distances to values from 0 to 1\n",
        "X_train_p = sc_input.fit_transform(X) # convert features to values from 0 to 1\n",
        "\n",
        "Y = testing_df.iloc[:, 0].to_numpy().reshape(-1,1)\n",
        "X = testing_df.iloc[:, 3:6]\n",
        "\n",
        "sc_input = MinMaxScaler()\n",
        "sc_output = MinMaxScaler()\n",
        "Y_test_p = sc_output.fit_transform(Y) # convert distances to values from 0 to 1\n",
        "X_test_p = sc_input.fit_transform(X) # convert features to values from 0 to 1"
      ],
      "metadata": {
        "id": "xWm7Dnj1zqiw"
      },
      "execution_count": null,
      "outputs": []
    },
    {
      "cell_type": "code",
      "source": [
        "model_ann_p = train_model(X_train_p, Y_train_p)"
      ],
      "metadata": {
        "colab": {
          "base_uri": "https://localhost:8080/"
        },
        "id": "Job0tVyN0gP3",
        "outputId": "7ad3de68-520c-4af7-9e32-8b2a68dd5bfa"
      },
      "execution_count": null,
      "outputs": [
        {
          "output_type": "stream",
          "name": "stdout",
          "text": [
            "Training model (freq_10_reference_30)...\n"
          ]
        }
      ]
    },
    {
      "cell_type": "code",
      "source": [
        "predict_test(model_ann_p, Y_test_p, X_test_p, sc_output)"
      ],
      "metadata": {
        "colab": {
          "base_uri": "https://localhost:8080/"
        },
        "id": "B493cZEb0ldO",
        "outputId": "11da7389-eb1e-4bce-c81f-15ce0ae3350a"
      },
      "execution_count": null,
      "outputs": [
        {
          "output_type": "stream",
          "name": "stdout",
          "text": [
            "Results (freq_10_reference_30)\n"
          ]
        },
        {
          "output_type": "display_data",
          "data": {
            "text/plain": [
              "<Figure size 432x288 with 1 Axes>"
            ],
            "image/png": "[encoded data removed]"
          },
          "metadata": {
            "needs_background": "light"
          }
        },
        {
          "output_type": "display_data",
          "data": {
            "text/plain": [
              "<Figure size 432x288 with 1 Axes>"
            ],
            "image/png": "[encoded data removed]"
          },
          "metadata": {
            "needs_background": "light"
          }
        }
      ]
    },
    {
      "cell_type": "markdown",
      "source": [
        "## Test only stats"
      ],
      "metadata": {
        "id": "-BFRLXf7zqqV"
      }
    },
    {
      "cell_type": "code",
      "source": [
        "# Load network\n",
        "from keras.models import Sequential\n",
        "from keras.layers import Dense,Conv2D, Flatten\n",
        "from keras.wrappers.scikit_learn import KerasRegressor\n",
        "from keras.callbacks import EarlyStopping\n",
        "from tqdm.keras import TqdmCallback\n",
        "\n",
        "def ann():\n",
        "  model = Sequential()\n",
        "  model.add(Dense(76, input_dim = 3, activation = 'tanh'))\n",
        "  model.add(Dense(38,activation='tanh'))\n",
        "  model.add(Dense(19,activation='tanh'))\n",
        "  model.add(Dense(1))\n",
        "  model.compile(loss ='mean_squared_error',optimizer = 'RMSprop')\n",
        "  return model"
      ],
      "metadata": {
        "id": "5WU3J-u56cTF"
      },
      "execution_count": null,
      "outputs": []
    },
    {
      "cell_type": "code",
      "source": [
        "# Load network\n",
        "from keras.models import Sequential\n",
        "from keras.layers import Dense,Conv2D, Flatten\n",
        "from keras.wrappers.scikit_learn import KerasRegressor\n",
        "from keras.callbacks import EarlyStopping\n",
        "from tqdm.keras import TqdmCallback\n",
        "\n",
        "def ann():\n",
        "  model = Sequential()\n",
        "  model.add(Dense(76, input_dim = 4, activation = 'tanh'))\n",
        "  model.add(Dense(38,activation='tanh'))\n",
        "  model.add(Dense(19,activation='tanh'))\n",
        "  model.add(Dense(1))\n",
        "  model.compile(loss ='mean_squared_error',optimizer = 'RMSprop')\n",
        "  return model"
      ],
      "metadata": {
        "id": "7TGNlh7V5zsg"
      },
      "execution_count": null,
      "outputs": []
    },
    {
      "cell_type": "code",
      "source": [
        "def train_model(X_train, Y_train):\n",
        "  print('Training model (freq_'+str(num_of_freq_selected)+'_reference_'+str(reference_amt)+')...')\n",
        "  from keras.models import Sequential\n",
        "  from keras.layers import Dense,Conv2D, Flatten\n",
        "  from keras.wrappers.scikit_learn import KerasRegressor\n",
        "  from keras.callbacks import EarlyStopping\n",
        "  from tqdm.keras import TqdmCallback\n",
        "\n",
        "  def ann():\n",
        "      model = Sequential()\n",
        "      model.add(Dense(76, input_dim = 4, activation = 'tanh'))\n",
        "      model.add(Dense(38,activation='tanh'))\n",
        "      model.add(Dense(19,activation='tanh'))\n",
        "      model.add(Dense(1))\n",
        "      model.compile(loss ='mean_squared_error',optimizer = 'RMSprop')\n",
        "      return model\n",
        "\n",
        "  model_ann = KerasRegressor(build_fn=ann,epochs=5000,batch_size=32, verbose=0)\n",
        "\n",
        "  start_time = time.time()\n",
        "  callback = [EarlyStopping(monitor='loss', patience=500)]#, TqdmCallback(verbose=2)]\n",
        "  model_ann.fit(X_train, Y_train, callbacks=callback)\n",
        "  time_train_ann = time.time() - start_time\n",
        "\n",
        "  # Save model\n",
        "  #pickle.dump(model_ann,open(path+\"/Spectrum/NN/NNs/NN_model_freq_\"+str(num_of_freq_selected)+\"_reference_\"+str(reference_amt)+\".pkl\",\"wb\"))\n",
        "\n",
        "  if os.path.isfile(path+\"/Spectrum/NN/NNs/stats_new_data_NN_model_freq_\"+str(num_of_freq_selected)+\"_reference_\"+str(reference_amt)+\".h5\") is False:\n",
        "    model_ann.model.save(path+\"/Spectrum/NN/NNs/stats_new_data_NN_model_freq_\"+str(num_of_freq_selected)+\"_reference_\"+str(reference_amt)+\".h5\")\n",
        "  \n",
        "  return model_ann"
      ],
      "metadata": {
        "id": "Lm2iyDF15uvF"
      },
      "execution_count": null,
      "outputs": []
    },
    {
      "cell_type": "code",
      "source": [
        "def predict_test(model_ann, Y_test, X_test, sc_output, remove_outliers=0.05):\n",
        "  print('Results (freq_'+str(num_of_freq_selected)+'_reference_'+str(reference_amt)+')')\n",
        "  # Predit\n",
        "  start_time = time.time()\n",
        "  Y_test_pred=model_ann.predict(X_test)\n",
        "  pred=list(Y_test_pred)\n",
        "\n",
        "  time_eval_ann=time.time()-start_time\n",
        "\n",
        "  dist_min=sc_output.data_min_[0] # 80\n",
        "  dist_max=sc_output.data_max_[0] # 2000\n",
        "\n",
        "  real=list(list(zip(*Y_test))[0])\n",
        "  real_abs=np.add(dist_min,np.multiply((dist_max-dist_min),real)) # convert back to distances values from scalar\n",
        "  real_abs=[int(np.round(i)) for i in real_abs]\n",
        "  pred_abs=np.add(dist_min,np.multiply((dist_max-dist_min),pred)) # convert back to distances values from scalar\n",
        "\n",
        "  real_abs_e1 = real_abs\n",
        "  real_abs_e2 = real_abs\n",
        "\n",
        "  pred_abs_e1 = pred_abs\n",
        "  pred_abs_e2 = pred_abs\n",
        "\n",
        "  error=np.divide(np.abs(np.subtract(np.array(real_abs),np.array(pred_abs))),np.array(real_abs))\n",
        "  error_v2 = np.abs(np.subtract(np.array(real_abs),np.array(pred_abs)))\n",
        "\n",
        "  remove_outliers = math.ceil((len(error_v2)*remove_outliers)/2)\n",
        "\n",
        "  for outlier in range(1, remove_outliers+1):\n",
        "    min_idx_e1 = np.argmin(error)\n",
        "    max_idx_e1 = np.argmax(error)\n",
        "\n",
        "    min_idx_e2 = np.argmin(error_v2)\n",
        "    max_idx_e2 = np.argmax(error_v2)\n",
        "\n",
        "    error = np.delete(error, min_idx_e1)\n",
        "    error = np.delete(error, max_idx_e1)\n",
        "    real_abs_e1 = np.delete(real_abs_e1, min_idx_e1)\n",
        "    real_abs_e1 = np.delete(real_abs_e1, max_idx_e1)\n",
        "    pred_abs_e1 = np.delete(pred_abs_e1, min_idx_e1)\n",
        "    pred_abs_e1 = np.delete(pred_abs_e1, max_idx_e1)\n",
        "\n",
        "    error_v2 = np.delete(error_v2, min_idx_e2)\n",
        "    error_v2 = np.delete(error_v2, max_idx_e2)\n",
        "    real_abs_e2 = np.delete(real_abs_e2, min_idx_e1)\n",
        "    real_abs_e2 = np.delete(real_abs_e2, max_idx_e1)\n",
        "    pred_abs_e2 = np.delete(pred_abs_e2, min_idx_e1)\n",
        "    pred_abs_e2 = np.delete(pred_abs_e2, max_idx_e1)\n",
        "\n",
        "  res=pd.DataFrame({\"dist\":real_abs_e1,\"pred\":pred_abs_e1,\"error\":error})\n",
        "  res.to_csv(path+\"/Spectrum/NN/NN_results_error/new_data_stats_results_curve_freq_\"+str(num_of_freq_selected)+\"_reference_\"+str(reference_amt)+\".csv\", header=True, index=False)\n",
        "\n",
        "  res_v2=pd.DataFrame({\"dist\":real_abs_e2,\"pred\":pred_abs_e2,\"error\":error_v2})\n",
        "  res.to_csv(path+\"/Spectrum/NN/NN_results_error/new_data_stats_results_deltas_freq_\"+str(num_of_freq_selected)+\"_reference_\"+str(reference_amt)+\".csv\", header=True, index=False)\n",
        "  \n",
        "  plt.plot(real_abs_e1,error,'bo')\n",
        "  plt.xlabel('Distances') \n",
        "  plt.ylabel('Error') \n",
        "  plt.title(\"Results Curve (freq_\"+str(num_of_freq_selected)+\"_reference_\"+str(reference_amt)+\")\")\n",
        "  plt.savefig(path+\"/Spectrum/NN/NN_results_plots/new_data_stats_results_curve_freq_\"+str(num_of_freq_selected)+\"_reference_\"+str(reference_amt)+\".png\")\n",
        "  plt.show()\n",
        "  \n",
        "  plt.plot(real_abs_e2,error_v2,'bo')\n",
        "  plt.xlabel('Distances') \n",
        "  plt.ylabel('Error') \n",
        "  plt.title(\"Results Deltas (freq_\"+str(num_of_freq_selected)+\"_reference_\"+str(reference_amt)+\")\")\n",
        "  plt.savefig(path+\"/Spectrum/NN/NN_results_plots/new_data_stats_results_deltas_freq_\"+str(num_of_freq_selected)+\"_reference_\"+str(reference_amt)+\".png\")\n",
        "  plt.show()"
      ],
      "metadata": {
        "id": "zgqD84l5AWXg"
      },
      "execution_count": null,
      "outputs": []
    },
    {
      "cell_type": "code",
      "source": [
        "num_of_freq_selected = 10\n",
        "reference_amt = 30\n",
        "training_input_path = path + \"/Spectrum/NN/train_test_splits/new_data_training_data_NN_freq_10_reference_30.csv\"\n",
        "testing_input_path = path + \"/Spectrum/NN/train_test_splits/new_data_testing_data_NN_freq_10_reference_30.csv\"\n",
        "\n",
        "training_df = pd.read_csv(training_input_path)\n",
        "testing_df = pd.read_csv(testing_input_path)\n",
        "\n",
        "Y = training_df.iloc[:, 0].to_numpy().reshape(-1,1)\n",
        "X = training_df.iloc[:, [1, 2, 5, 6]]\n",
        "\n",
        "sc_input = MinMaxScaler()\n",
        "sc_output = MinMaxScaler()\n",
        "Y_train_s = sc_output.fit_transform(Y) # convert distances to values from 0 to 1\n",
        "X_train_s = sc_input.fit_transform(X) # convert features to values from 0 to 1\n",
        "\n",
        "Y = testing_df.iloc[:, 0].to_numpy().reshape(-1,1)\n",
        "X = testing_df.iloc[:, [1, 2, 5, 6]]\n",
        "\n",
        "\n",
        "sc_input = MinMaxScaler()\n",
        "sc_output = MinMaxScaler()\n",
        "Y_test_s = sc_output.fit_transform(Y) # convert distances to values from 0 to 1\n",
        "X_test_s = sc_input.fit_transform(X) # convert features to values from 0 to 1"
      ],
      "metadata": {
        "id": "w4IOWKxkM0z_"
      },
      "execution_count": null,
      "outputs": []
    },
    {
      "cell_type": "code",
      "source": [
        "model_ann_s = train_model(X_train_s, Y_train_s)"
      ],
      "metadata": {
        "colab": {
          "base_uri": "https://localhost:8080/"
        },
        "id": "JvtaIJxm1JiV",
        "outputId": "76723df3-bd1d-4667-e255-affe01a379f6"
      },
      "execution_count": null,
      "outputs": [
        {
          "output_type": "stream",
          "name": "stdout",
          "text": [
            "Training model (freq_10_reference_30)...\n"
          ]
        }
      ]
    },
    {
      "cell_type": "code",
      "source": [
        "predict_test(model_ann_s, Y_test_s, X_test_s, sc_output)"
      ],
      "metadata": {
        "colab": {
          "base_uri": "https://localhost:8080/"
        },
        "id": "Kf4XiuOw1JsA",
        "outputId": "6ca6b9b4-9249-4c46-cba6-e85b53029fcf"
      },
      "execution_count": null,
      "outputs": [
        {
          "output_type": "stream",
          "name": "stdout",
          "text": [
            "Results (freq_10_reference_30)\n"
          ]
        },
        {
          "output_type": "display_data",
          "data": {
            "text/plain": [
              "<Figure size 432x288 with 1 Axes>"
            ],
            "image/png": "[encoded data removed]"
          },
          "metadata": {
            "needs_background": "light"
          }
        },
        {
          "output_type": "display_data",
          "data": {
            "text/plain": [
              "<Figure size 432x288 with 1 Axes>"
            ],
            "image/png": "[encoded data removed]"
          },
          "metadata": {
            "needs_background": "light"
          }
        }
      ]
    }
  ]
}