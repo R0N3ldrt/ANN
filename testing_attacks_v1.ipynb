{
  "cells": [
    {
      "cell_type": "code",
      "execution_count": 1,
      "metadata": {
        "id": "JoNBpL30nU7E"
      },
      "outputs": [],
      "source": [
        "import os, time, math, csv, joblib\n",
        "import pandas as pd\n",
        "import numpy as np\n",
        "import matplotlib.pyplot as plt\n",
        "from sklearn.model_selection import train_test_split\n",
        "from sklearn.preprocessing import MinMaxScaler\n",
        "from sklearn.mixture import GaussianMixture\n",
        "pd.options.display.float_format = '{:.2f}'.format"
      ]
    },
    {
      "cell_type": "code",
      "source": [
        "# BLOQUE PARA USAR DESDE COLAB\n",
        "\n",
        "# Google drive loading as work station for local-usage of the files.\n",
        "from google.colab import drive\n",
        "drive.mount('/content/gdrive',force_remount= True)\n",
        "\n",
        "#-----------------------------------------------------------------------------"
      ],
      "metadata": {
        "id": "u5vU-u6lrd8k",
        "outputId": "21cd09e8-14d9-407f-9d2a-1aa03f107e94",
        "colab": {
          "base_uri": "https://localhost:8080/"
        }
      },
      "execution_count": 2,
      "outputs": [
        {
          "output_type": "stream",
          "name": "stdout",
          "text": [
            "Mounted at /content/gdrive\n"
          ]
        }
      ]
    },
    {
      "cell_type": "code",
      "source": [
        "# Lista para cambiar los paths rapido.\n",
        "workers = [\"Ronald\", \"Local\"]\n",
        "\n",
        "# Change the number to change the paths.\n",
        "worker = workers[0]\n",
        "\n",
        "if worker == \"Ronald\":\n",
        "  #path= \"/content/gdrive/MyDrive/Thesis_Workstation/ANN_dataset\"\n",
        "  data_path= \"/content/gdrive/MyDrive/Symbol_to_Symbol/ANN_dataset/modifiedData/GD/GD_mod\"\n",
        "  output_data_path = \"/content/gdrive/MyDrive/Thesis_Workstation/ANN_dataset/modifiedData/GD/input_data_model\"\n",
        "  model_path = \"/content/gdrive/MyDrive/Thesis_Workstation/ANN_dataset/trainedModel\"\n",
        "else: path = os.getcwd()"
      ],
      "metadata": {
        "id": "WJmkUSU9reeP"
      },
      "execution_count": 3,
      "outputs": []
    },
    {
      "cell_type": "code",
      "execution_count": 4,
      "metadata": {
        "id": "un-3vtNPnU7I",
        "outputId": "5a4598e1-ed78-43df-a2a3-5ec45e79439e",
        "colab": {
          "base_uri": "https://localhost:8080/"
        }
      },
      "outputs": [
        {
          "output_type": "stream",
          "name": "stdout",
          "text": [
            "[1, 2, 3, 4, 5, 6, 7, 8, 9, 10, 11, 12, 13, 14, 15, 16, 17, 18, 19, 20, 21, 22, 23, 24]\n"
          ]
        }
      ],
      "source": [
        "#data_path=os.getcwd()+\"/ANN_dataset/modifiedData/GD/GD_mod\"\n",
        "\n",
        "#output_data_path=os.getcwd()+\"/ANN_dataset/modifiedData/GD/input_data_model\"\n",
        "\n",
        "#model_path=os.getcwd()+\"/models\"\n",
        "\n",
        "distances=list(range(1,25))\n",
        "print(distances)\n",
        "ns=25 # number of samples\n",
        "centers=[[-3,3],[-1,3],[1,3],[3,3],[-3,1],[-1,1],[1,1],[3,1],[-3,-1],[-1,-1],[1,-1],[3,-1],[-3,-3],[-1,-3],[1,-3],[3,-3]]\n",
        "selCP=[1,7,10,15]"
      ]
    },
    {
      "cell_type": "code",
      "execution_count": 5,
      "metadata": {
        "id": "Vp-y0C9OnU7J"
      },
      "outputs": [],
      "source": [
        "def L2dist(a,b):\n",
        "    return math.sqrt(math.pow(a[0]-b[0],2)+math.pow(a[1]-b[1],2))"
      ]
    },
    {
      "cell_type": "code",
      "execution_count": 7,
      "metadata": {
        "id": "e43b9bUCnU7J",
        "outputId": "b329da42-1279-403a-e8cb-95d9a0a2bc2f",
        "colab": {
          "base_uri": "https://localhost:8080/"
        }
      },
      "outputs": [
        {
          "output_type": "stream",
          "name": "stdout",
          "text": [
            "Source:  80\n",
            "\tTarget:  160\n",
            "\tTarget:  240\n",
            "\tTarget:  320\n",
            "\tTarget:  400\n",
            "\tTarget:  480\n",
            "\tTarget:  560\n",
            "\tTarget:  640\n",
            "\tTarget:  720\n",
            "\tTarget:  800\n",
            "\tTarget:  880\n",
            "\tTarget:  960\n",
            "\tTarget:  1040\n",
            "\tTarget:  1120\n",
            "\tTarget:  1200\n",
            "\tTarget:  1280\n",
            "\tTarget:  1360\n",
            "\tTarget:  1440\n",
            "\tTarget:  1520\n",
            "\tTarget:  1600\n",
            "\tTarget:  1680\n",
            "\tTarget:  1760\n",
            "\tTarget:  1840\n",
            "\tTarget:  1920\n",
            "\tTarget:  2000\n",
            "Source:  160\n",
            "\tTarget:  240\n",
            "\tTarget:  320\n",
            "\tTarget:  400\n",
            "\tTarget:  480\n",
            "\tTarget:  560\n",
            "\tTarget:  640\n",
            "\tTarget:  720\n",
            "\tTarget:  800\n",
            "\tTarget:  880\n",
            "\tTarget:  960\n",
            "\tTarget:  1040\n",
            "\tTarget:  1120\n",
            "\tTarget:  1200\n",
            "\tTarget:  1280\n",
            "\tTarget:  1360\n",
            "\tTarget:  1440\n",
            "\tTarget:  1520\n",
            "\tTarget:  1600\n",
            "\tTarget:  1680\n",
            "\tTarget:  1760\n",
            "\tTarget:  1840\n",
            "\tTarget:  1920\n",
            "\tTarget:  2000\n",
            "Source:  240\n",
            "\tTarget:  320\n",
            "\tTarget:  400\n",
            "\tTarget:  480\n",
            "\tTarget:  560\n",
            "\tTarget:  640\n",
            "\tTarget:  720\n",
            "\tTarget:  800\n",
            "\tTarget:  880\n",
            "\tTarget:  960\n",
            "\tTarget:  1040\n",
            "\tTarget:  1120\n",
            "\tTarget:  1200\n",
            "\tTarget:  1280\n",
            "\tTarget:  1360\n",
            "\tTarget:  1440\n",
            "\tTarget:  1520\n",
            "\tTarget:  1600\n",
            "\tTarget:  1680\n",
            "\tTarget:  1760\n",
            "\tTarget:  1840\n",
            "\tTarget:  1920\n",
            "\tTarget:  2000\n",
            "Source:  320\n",
            "\tTarget:  400\n",
            "\tTarget:  480\n",
            "\tTarget:  560\n",
            "\tTarget:  640\n",
            "\tTarget:  720\n",
            "\tTarget:  800\n",
            "\tTarget:  880\n",
            "\tTarget:  960\n",
            "\tTarget:  1040\n",
            "\tTarget:  1120\n",
            "\tTarget:  1200\n",
            "\tTarget:  1280\n",
            "\tTarget:  1360\n",
            "\tTarget:  1440\n",
            "\tTarget:  1520\n",
            "\tTarget:  1600\n",
            "\tTarget:  1680\n",
            "\tTarget:  1760\n",
            "\tTarget:  1840\n",
            "\tTarget:  1920\n",
            "\tTarget:  2000\n",
            "Source:  400\n",
            "\tTarget:  480\n",
            "\tTarget:  560\n",
            "\tTarget:  640\n",
            "\tTarget:  720\n",
            "\tTarget:  800\n",
            "\tTarget:  880\n",
            "\tTarget:  960\n",
            "\tTarget:  1040\n",
            "\tTarget:  1120\n",
            "\tTarget:  1200\n",
            "\tTarget:  1280\n",
            "\tTarget:  1360\n",
            "\tTarget:  1440\n",
            "\tTarget:  1520\n",
            "\tTarget:  1600\n",
            "\tTarget:  1680\n",
            "\tTarget:  1760\n",
            "\tTarget:  1840\n",
            "\tTarget:  1920\n",
            "\tTarget:  2000\n",
            "Source:  480\n",
            "\tTarget:  560\n",
            "\tTarget:  640\n",
            "\tTarget:  720\n",
            "\tTarget:  800\n",
            "\tTarget:  880\n",
            "\tTarget:  960\n",
            "\tTarget:  1040\n",
            "\tTarget:  1120\n",
            "\tTarget:  1200\n",
            "\tTarget:  1280\n",
            "\tTarget:  1360\n",
            "\tTarget:  1440\n",
            "\tTarget:  1520\n",
            "\tTarget:  1600\n",
            "\tTarget:  1680\n",
            "\tTarget:  1760\n",
            "\tTarget:  1840\n",
            "\tTarget:  1920\n",
            "\tTarget:  2000\n",
            "Source:  560\n",
            "\tTarget:  640\n",
            "\tTarget:  720\n",
            "\tTarget:  800\n",
            "\tTarget:  880\n",
            "\tTarget:  960\n",
            "\tTarget:  1040\n",
            "\tTarget:  1120\n",
            "\tTarget:  1200\n",
            "\tTarget:  1280\n",
            "\tTarget:  1360\n",
            "\tTarget:  1440\n",
            "\tTarget:  1520\n",
            "\tTarget:  1600\n",
            "\tTarget:  1680\n",
            "\tTarget:  1760\n",
            "\tTarget:  1840\n",
            "\tTarget:  1920\n",
            "\tTarget:  2000\n",
            "Source:  640\n",
            "\tTarget:  720\n",
            "\tTarget:  800\n",
            "\tTarget:  880\n",
            "\tTarget:  960\n",
            "\tTarget:  1040\n",
            "\tTarget:  1120\n",
            "\tTarget:  1200\n",
            "\tTarget:  1280\n",
            "\tTarget:  1360\n",
            "\tTarget:  1440\n",
            "\tTarget:  1520\n",
            "\tTarget:  1600\n",
            "\tTarget:  1680\n",
            "\tTarget:  1760\n",
            "\tTarget:  1840\n",
            "\tTarget:  1920\n",
            "\tTarget:  2000\n",
            "Source:  720\n",
            "\tTarget:  800\n",
            "\tTarget:  880\n",
            "\tTarget:  960\n",
            "\tTarget:  1040\n",
            "\tTarget:  1120\n",
            "\tTarget:  1200\n",
            "\tTarget:  1280\n",
            "\tTarget:  1360\n",
            "\tTarget:  1440\n",
            "\tTarget:  1520\n",
            "\tTarget:  1600\n",
            "\tTarget:  1680\n",
            "\tTarget:  1760\n",
            "\tTarget:  1840\n",
            "\tTarget:  1920\n",
            "\tTarget:  2000\n",
            "Source:  800\n",
            "\tTarget:  880\n",
            "\tTarget:  960\n",
            "\tTarget:  1040\n",
            "\tTarget:  1120\n",
            "\tTarget:  1200\n",
            "\tTarget:  1280\n",
            "\tTarget:  1360\n",
            "\tTarget:  1440\n",
            "\tTarget:  1520\n",
            "\tTarget:  1600\n",
            "\tTarget:  1680\n",
            "\tTarget:  1760\n",
            "\tTarget:  1840\n",
            "\tTarget:  1920\n",
            "\tTarget:  2000\n",
            "Source:  880\n",
            "\tTarget:  960\n",
            "\tTarget:  1040\n",
            "\tTarget:  1120\n",
            "\tTarget:  1200\n",
            "\tTarget:  1280\n",
            "\tTarget:  1360\n",
            "\tTarget:  1440\n",
            "\tTarget:  1520\n",
            "\tTarget:  1600\n",
            "\tTarget:  1680\n",
            "\tTarget:  1760\n",
            "\tTarget:  1840\n",
            "\tTarget:  1920\n",
            "\tTarget:  2000\n",
            "Source:  960\n",
            "\tTarget:  1040\n",
            "\tTarget:  1120\n",
            "\tTarget:  1200\n",
            "\tTarget:  1280\n",
            "\tTarget:  1360\n",
            "\tTarget:  1440\n",
            "\tTarget:  1520\n",
            "\tTarget:  1600\n",
            "\tTarget:  1680\n",
            "\tTarget:  1760\n",
            "\tTarget:  1840\n",
            "\tTarget:  1920\n",
            "\tTarget:  2000\n",
            "Source:  1040\n",
            "\tTarget:  1120\n",
            "\tTarget:  1200\n",
            "\tTarget:  1280\n",
            "\tTarget:  1360\n",
            "\tTarget:  1440\n",
            "\tTarget:  1520\n",
            "\tTarget:  1600\n",
            "\tTarget:  1680\n",
            "\tTarget:  1760\n",
            "\tTarget:  1840\n",
            "\tTarget:  1920\n",
            "\tTarget:  2000\n",
            "Source:  1120\n",
            "\tTarget:  1200\n",
            "\tTarget:  1280\n",
            "\tTarget:  1360\n",
            "\tTarget:  1440\n",
            "\tTarget:  1520\n",
            "\tTarget:  1600\n",
            "\tTarget:  1680\n",
            "\tTarget:  1760\n",
            "\tTarget:  1840\n",
            "\tTarget:  1920\n",
            "\tTarget:  2000\n",
            "Source:  1200\n",
            "\tTarget:  1280\n",
            "\tTarget:  1360\n",
            "\tTarget:  1440\n",
            "\tTarget:  1520\n",
            "\tTarget:  1600\n",
            "\tTarget:  1680\n",
            "\tTarget:  1760\n",
            "\tTarget:  1840\n",
            "\tTarget:  1920\n",
            "\tTarget:  2000\n",
            "Source:  1280\n",
            "\tTarget:  1360\n",
            "\tTarget:  1440\n",
            "\tTarget:  1520\n",
            "\tTarget:  1600\n",
            "\tTarget:  1680\n",
            "\tTarget:  1760\n",
            "\tTarget:  1840\n",
            "\tTarget:  1920\n",
            "\tTarget:  2000\n",
            "Source:  1360\n",
            "\tTarget:  1440\n",
            "\tTarget:  1520\n",
            "\tTarget:  1600\n",
            "\tTarget:  1680\n",
            "\tTarget:  1760\n",
            "\tTarget:  1840\n",
            "\tTarget:  1920\n",
            "\tTarget:  2000\n",
            "Source:  1440\n",
            "\tTarget:  1520\n",
            "\tTarget:  1600\n",
            "\tTarget:  1680\n",
            "\tTarget:  1760\n",
            "\tTarget:  1840\n",
            "\tTarget:  1920\n",
            "\tTarget:  2000\n",
            "Source:  1520\n",
            "\tTarget:  1600\n",
            "\tTarget:  1680\n",
            "\tTarget:  1760\n",
            "\tTarget:  1840\n",
            "\tTarget:  1920\n",
            "\tTarget:  2000\n",
            "Source:  1600\n",
            "\tTarget:  1680\n",
            "\tTarget:  1760\n",
            "\tTarget:  1840\n",
            "\tTarget:  1920\n",
            "\tTarget:  2000\n",
            "Source:  1680\n",
            "\tTarget:  1760\n",
            "\tTarget:  1840\n",
            "\tTarget:  1920\n",
            "\tTarget:  2000\n",
            "Source:  1760\n",
            "\tTarget:  1840\n",
            "\tTarget:  1920\n",
            "\tTarget:  2000\n",
            "Source:  1840\n",
            "\tTarget:  1920\n",
            "\tTarget:  2000\n",
            "Source:  1920\n",
            "\tTarget:  2000\n"
          ]
        }
      ],
      "source": [
        "F=[]\n",
        "pref=\"consts_modified_source_distance_\"\n",
        "suf=\"_alpha_None_beta_None.csv\"\n",
        "for ll in distances:\n",
        "    s_id=0\n",
        "    source=ll*80\n",
        "    print(\"Source: \", source)\n",
        "    filename=data_path+\"/\"+pref+str(source)+suf\n",
        "    df = pd.read_csv(filename)\n",
        "    for hh in range(ll+1,26):\n",
        "        target=hh*80\n",
        "        print(\"\\tTarget: \", target)\n",
        "        df_sel=df[df[\"Target_Distance\"]==target]\n",
        "        for i in range(1,ns+1):\n",
        "            s_id+=1\n",
        "            df_aux=df_sel[df_sel[\"Sample_Id\"]==s_id]\n",
        "            real=list(df_aux[\"Real\"])\n",
        "            imag=list(df_aux[\"Imag\"])\n",
        "            data_aux=list(zip(real,imag))\n",
        "            gmm = GaussianMixture(n_components=16, random_state=0, init_params='kmeans', means_init=centers).fit(data_aux)\n",
        "            mus=gmm.means_\n",
        "            sigmas=gmm.covariances_\n",
        "            features=[source,target]\n",
        "            for jj in selCP:\n",
        "                j=centers[jj-1]\n",
        "                mindist=None\n",
        "                k_inc=None\n",
        "                for k in range(16):\n",
        "                    d=L2dist(mus[k],j)\n",
        "                    if mindist is None or mindist>d:\n",
        "                        mindist=d\n",
        "                        k_inc=k\n",
        "                covmat=np.concatenate(list(sigmas[k_inc])).ravel().tolist()\n",
        "                features = [*features, *mus[k_inc], *covmat]\n",
        "            F.append(features)   "
      ]
    },
    {
      "cell_type": "code",
      "execution_count": 8,
      "metadata": {
        "id": "iFsum2WWnU7K"
      },
      "outputs": [],
      "source": [
        "header=['source','target']\n",
        "for j in selCP:\n",
        "    header=[*header,*['mu_r_'+str(j),'mu_i_'+str(j),'sigma_rr_'+str(j),'sigma_ri_'+str(j),'sigma_ir_'+str(j),'sigma_ii_'+str(j)]]\n",
        "    \n",
        "DF_testing=pd.DataFrame(F)\n",
        "DF_testing.columns=header\n",
        "DF_testing.to_csv(output_data_path+'/testing_data_DNN.csv', index=False)"
      ]
    },
    {
      "cell_type": "markdown",
      "metadata": {
        "id": "jth2EjxhnU7K"
      },
      "source": [
        "#continue hereafter"
      ]
    },
    {
      "cell_type": "code",
      "execution_count": 9,
      "metadata": {
        "id": "8VLuLscqnU7M"
      },
      "outputs": [],
      "source": [
        "\n",
        "df=pd.read_csv(output_data_path+'/testing_data_DNN.csv')\n",
        "\n",
        "colnames=df.columns[2:26]\n",
        "# Target variable and train set\n",
        "X=df.iloc[:,2:26]\n",
        "#print(X.shape)\n",
        "#print(X.columns)\n",
        "Y=df.iloc[:,1].to_numpy().reshape(-1,1)\n",
        "Z=df.iloc[:,0].to_numpy().reshape(-1,1)\n",
        "#print(Y.shape)\n",
        "#print(Y.columns)\n",
        "\n",
        "#labels=[int(i) for i in df.iloc[:,0]]\n",
        "\n"
      ]
    },
    {
      "cell_type": "code",
      "execution_count": 10,
      "metadata": {
        "id": "YiGWNxManU7N"
      },
      "outputs": [],
      "source": [
        "from keras.models import model_from_json\n",
        "\n",
        "model_ann = model_from_json(open(model_path+'/model_ann_architecture.json').read())\n",
        "model_ann.load_weights(model_path+'/model_ann_weights.h5')\n",
        "# dont forget to compile your model\n",
        "model_ann.compile(loss='binary_crossentropy', optimizer='adam')\n",
        "sc_input=joblib.load(model_path+'/scaler_input.joblib')\n",
        "sc_output=joblib.load(model_path+'/scaler_output.joblib')\n"
      ]
    },
    {
      "cell_type": "code",
      "execution_count": 11,
      "metadata": {
        "id": "YTMGVDHRnU7N"
      },
      "outputs": [],
      "source": [
        "df=DF_testing\n",
        "colnames=df.columns[1:25]\n",
        "X_test = sc_input.transform(X)\n",
        "Y_test = sc_output.transform(Y)"
      ]
    },
    {
      "cell_type": "code",
      "execution_count": 12,
      "metadata": {
        "id": "6AQvlTMinU7O"
      },
      "outputs": [],
      "source": [
        "Z=[i[0] for i in Z]"
      ]
    },
    {
      "cell_type": "code",
      "execution_count": 13,
      "metadata": {
        "scrolled": false,
        "id": "58R4v73_nU7P",
        "outputId": "e0c5d46a-c93a-4356-c70d-97fa1f73a5c7",
        "colab": {
          "base_uri": "https://localhost:8080/",
          "height": 265
        }
      },
      "outputs": [
        {
          "output_type": "display_data",
          "data": {
            "text/plain": [
              "<Figure size 432x288 with 1 Axes>"
            ],
            "image/png": "[encoded data removed]"
          },
          "metadata": {
            "needs_background": "light"
          }
        }
      ],
      "source": [
        "start_time = time.time()\n",
        "Y_test_pred=model_ann.predict(X_test)\n",
        "#Y_test_pred=model_ann.predict(X_test)\n",
        "time_eval_ann=time.time()-start_time\n",
        "\n",
        "real=list(list(zip(*Y_test))[0])\n",
        "\n",
        "#real=list(map(list, zip(*Y_train)))\n",
        "pred=list(Y_test_pred)\n",
        "\n",
        "dist_min=sc_output.data_min_[0]\n",
        "dist_max=sc_output.data_max_[0]\n",
        "\n",
        "real_abs=np.add(dist_min,np.multiply((dist_max-dist_min),real))\n",
        "real_abs=[int(np.round(i)) for i in real_abs]\n",
        "#print(real_abs)\n",
        "pred_abs=np.add(dist_min,np.multiply((dist_max-dist_min),pred))\n",
        "#pred_abs=sum(pred_abs, [])\n",
        "pred_abs=[i[0] for i in pred_abs]\n",
        "\n",
        "error=np.divide(np.abs(np.subtract(np.array(real_abs),np.array(pred_abs))),np.array(real_abs))\n",
        "\n",
        "res=pd.DataFrame({\"source\":Z, \"target\":real_abs,\"pred\":pred_abs,\"error\":error})\n",
        "\n",
        "\n",
        "plt.plot(real_abs,error,'bo')\n",
        "plt.show()"
      ]
    },
    {
      "cell_type": "code",
      "execution_count": 14,
      "metadata": {
        "id": "GN04HcdcnU7P"
      },
      "outputs": [],
      "source": [
        "F=pd.read_csv(model_path+\"/reference.csv\")\n",
        "k=4"
      ]
    },
    {
      "cell_type": "code",
      "execution_count": 15,
      "metadata": {
        "id": "hFybriZ0nU7Q"
      },
      "outputs": [],
      "source": [
        "one_classifier={}\n",
        "for i in range(25):\n",
        "    row=F.iloc[i,]\n",
        "    one_classifier[row[\"dist\"]]=[row[\"mean\"]-k*row[\"std\"],row[\"mean\"]+k*row[\"std\"]]"
      ]
    },
    {
      "cell_type": "code",
      "execution_count": 16,
      "metadata": {
        "id": "CQ5zfAs7nU7Q",
        "outputId": "845ea8fc-2844-4006-a003-295b659543b9",
        "colab": {
          "base_uri": "https://localhost:8080/"
        }
      },
      "outputs": [
        {
          "output_type": "stream",
          "name": "stdout",
          "text": [
            "      source  target    pred  error  detected\n",
            "0         80     160   89.76   0.44         1\n",
            "1         80     160   82.98   0.48         1\n",
            "2         80     160   72.56   0.55         1\n",
            "3         80     160   72.28   0.55         1\n",
            "4         80     160   90.54   0.43         1\n",
            "...      ...     ...     ...    ...       ...\n",
            "7495    1920    2000 1941.77   0.03         0\n",
            "7496    1920    2000 1972.54   0.01         0\n",
            "7497    1920    2000 1960.32   0.02         0\n",
            "7498    1920    2000 1967.59   0.02         0\n",
            "7499    1920    2000 1936.66   0.03         0\n",
            "\n",
            "[7500 rows x 5 columns]\n"
          ]
        }
      ],
      "source": [
        "aux=[]\n",
        "for i in range(res.shape[0]):\n",
        "    target=res.iloc[i,][\"target\"]\n",
        "    pred=res.iloc[i,][\"pred\"]\n",
        "    if pred>=one_classifier[target][0] and pred<=one_classifier[target][1]:\n",
        "        aux.append(0)\n",
        "    else:\n",
        "        aux.append(1)\n",
        "res[\"detected\"]=aux\n",
        "print(res)\n",
        "res.to_csv(output_data_path+\"/results.csv\",index=False)\n"
      ]
    }
  ],
  "metadata": {
    "kernelspec": {
      "display_name": "Python 3",
      "language": "python",
      "name": "python3"
    },
    "language_info": {
      "codemirror_mode": {
        "name": "ipython",
        "version": 3
      },
      "file_extension": ".py",
      "mimetype": "text/x-python",
      "name": "python",
      "nbconvert_exporter": "python",
      "pygments_lexer": "ipython3",
      "version": "3.6.9"
    },
    "colab": {
      "name": "testing_attacks.ipynb",
      "provenance": []
    }
  },
  "nbformat": 4,
  "nbformat_minor": 0
}