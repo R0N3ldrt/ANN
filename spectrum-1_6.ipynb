{
  "nbformat": 4,
  "nbformat_minor": 0,
  "metadata": {
    "colab": {
      "name": "Untitled1.ipynb",
      "provenance": [],
      "authorship_tag": "ABX9TyMuFly29ylfyd485yKIVBUy",
      "include_colab_link": true
    },
    "kernelspec": {
      "name": "python3",
      "display_name": "Python 3"
    },
    "language_info": {
      "name": "python"
    }
  },
  "cells": [
    {
      "cell_type": "markdown",
      "metadata": {
        "id": "view-in-github",
        "colab_type": "text"
      },
      "source": [
        "<a href=\"https://colab.research.google.com/github/R0N3ldrt/Thesis/blob/main/spectrum-1_6.ipynb\" target=\"_parent\"><img src=\"https://colab.research.google.com/assets/colab-badge.svg\" alt=\"Open In Colab\"/></a>"
      ]
    },
    {
      "cell_type": "markdown",
      "source": [
        "# Loading Enviroment"
      ],
      "metadata": {
        "id": "TFf_LnH4hXmH"
      }
    },
    {
      "cell_type": "markdown",
      "source": [
        "## Loading Drive and folders"
      ],
      "metadata": {
        "id": "QRLt90TJhpCF"
      }
    },
    {
      "cell_type": "code",
      "execution_count": 145,
      "metadata": {
        "colab": {
          "base_uri": "https://localhost:8080/"
        },
        "id": "-vxHbOdXfHok",
        "outputId": "d671f548-2f54-4986-fd92-bd4871917e73"
      },
      "outputs": [
        {
          "output_type": "stream",
          "name": "stdout",
          "text": [
            "Mounted at /content/gdrive\n"
          ]
        }
      ],
      "source": [
        "# BLOQUE PARA USAR DESDE COLAB\n",
        "\n",
        "# Google drive loading as work station for local-usage of the files.\n",
        "from google.colab import drive\n",
        "drive.mount('/content/gdrive',force_remount= True)\n",
        "\n",
        "#-----------------------------------------------------------------------------"
      ]
    },
    {
      "cell_type": "code",
      "source": [
        "# Lista para cambiar los paths rapido.\n",
        "workers = [\"Ronald\", \"Local\"]\n",
        "\n",
        "# Cambiar el numero aqui para cambiar los paths.\n",
        "worker = workers[0]\n",
        "\n",
        "if worker == \"Ronald\":\n",
        "  path= \"/content/gdrive/MyDrive/Thesis_Workstation/ANN_dataset\"\n",
        "else: path = os.getcwd()"
      ],
      "metadata": {
        "id": "s4tLLYT6gDOE"
      },
      "execution_count": 146,
      "outputs": []
    },
    {
      "cell_type": "markdown",
      "source": [
        "## Loading Necesary Libraries"
      ],
      "metadata": {
        "id": "Ob7ZixO4hxql"
      }
    },
    {
      "cell_type": "code",
      "source": [
        "# Importing necesary libraries\n",
        "import os, time\n",
        "import pandas as pd\n",
        "import numpy as np\n",
        "import matplotlib.pyplot as plt\n",
        "import math\n",
        "import pickle\n",
        "from sklearn.linear_model import LinearRegression\n",
        "from sklearn import metrics\n",
        "\n",
        "import warnings\n",
        "warnings.simplefilter(\"ignore\", UserWarning)\n",
        "import warnings\n",
        "warnings.simplefilter(action='ignore', category=FutureWarning)"
      ],
      "metadata": {
        "id": "knS8x3gehRLX"
      },
      "execution_count": 297,
      "outputs": []
    },
    {
      "cell_type": "markdown",
      "source": [
        "# Loading Data and Pre-Procesing"
      ],
      "metadata": {
        "id": "hcr6Hr2ChhUk"
      }
    },
    {
      "cell_type": "code",
      "source": [
        "data_path=path+\"/Spectrum\"\n",
        "\n",
        "qpsk_path=\"/QPSK/A.10hops100km/\"\n",
        "qam_path=\"/16QAM/A.10hops100km\"\n",
        "\n",
        "#file_name=\"/dataSet_Spectrum_Samples_QPSK_37GHz_LongHaul_output_10x100.xlsx\"\n",
        "file_name=\"/QPSK_dummy.xlsx\"\n",
        "# Skipping first row since only contain \"Frequency\" headers\n",
        "df_qpsk=pd.read_excel(data_path+qpsk_path+file_name, sheet_name = \"Sheet1\", skiprows=1)\n",
        "\n",
        "#file_name=\"/dataSet_Spectrum_Samples_16QAM_75GHz_LongHaul_output_10x100.xlsx\"\n",
        "file_name=\"/16QAM_dummy.xlsx\"\n",
        "df_qam=pd.read_excel(data_path+qam_path+file_name, sheet_name = \"Sheet1\", skiprows=1)\n",
        "\n",
        "#Diff in column 5 to 1,286 0.03125"
      ],
      "metadata": {
        "id": "0PdwcnCogI1t"
      },
      "execution_count": 148,
      "outputs": []
    },
    {
      "cell_type": "code",
      "source": [
        "#dump_file = dict desireed to be saved\n",
        "#filename = just the name of the file (file saved on \"pickle_folder\")\n",
        "\n",
        "def pickle_out(dump_file, filename):\n",
        "  filepath = path+\"/pickle_folder/\"+str(filename)+\".pickle\"\n",
        "  pickleout = open(filepath, \"wb\")\n",
        "  pickle.dump(dump_file, pickleout)\n",
        "  pickleout.close()\n",
        "\n",
        "def pickle_in(filename):\n",
        "  filepath = path+\"/pickle_folder/\"+str(filename)+\".pickle\"\n",
        "  picklein = open(filepath, \"rb\")\n",
        "  loaded_dict = pickle.load(picklein)\n",
        "  return loaded_dict"
      ],
      "metadata": {
        "id": "WH5waL1C0xAq"
      },
      "execution_count": 149,
      "outputs": []
    },
    {
      "cell_type": "markdown",
      "source": [
        "## Aggregator"
      ],
      "metadata": {
        "id": "CWOR5PNsksUs"
      }
    },
    {
      "cell_type": "code",
      "source": [
        "def prime_number_finder(stop_gap, total_num_of_data):\n",
        "  prime_nums = []\n",
        "  i=2\n",
        "  while i <= stop_gap:\n",
        "    if (total_num_of_data % i==0):\n",
        "      prime_nums.append(i)\n",
        "    i+=1\n",
        "  return prime_nums\n",
        "\n",
        "def aggreagator_selection(stop_gap=25, total_num_of_data=1281, min_prime = False):\n",
        "  current_freq_offset = 0.03125\n",
        "  \n",
        "  # Find the prime numbers where the total_num_of_data is divisible\n",
        "  prime_nums = prime_number_finder(stop_gap, total_num_of_data)\n",
        "  \n",
        "  # Find the offsets of the new aggregators\n",
        "  new_freq_offsets = []\n",
        "  for nums in prime_nums:\n",
        "    freq_offset = current_freq_offset*(nums-1)\n",
        "    new_freq_offsets.append(freq_offset)\n",
        "\n",
        "  if min_prime == False:\n",
        "    # Ask the user for the desired aggregator\n",
        "    print('Please select one of the following prime number to conduct the aggregation {} with frequencies offsets of {}(PHz) respectively. (Current Freq offset is 0.03125 PHz)'.format(prime_nums, new_freq_offsets))\n",
        "    while True:\n",
        "      user_selection = input('Prime number to conduct the aggregation? ')\n",
        "      if int(user_selection) not in prime_nums:\n",
        "        print('Please select one of the available prime numbers. (Current selection is not avaliable)')\n",
        "      else:\n",
        "        break\n",
        "    return int(user_selection)\n",
        "  else:\n",
        "    user_selection = min(prime_nums)\n",
        "    freq_selected = min(new_freq_offsets)\n",
        "    print('Selected the least common denominator for aggregation ({}) with a frequency of {}.'.format(user_selection, freq_selected))\n",
        "    return int(user_selection)\n",
        "\n",
        "def aggreagator(df, stop_gap=25, total_num_of_data=1281, min_prime = True):\n",
        "  agg_num = aggreagator_selection(stop_gap, total_num_of_data, min_prime = False)\n",
        "  \n",
        "  # Creating new df of aggregate values\n",
        "  agg_df = pd.DataFrame()\n",
        "  agg_df = df[df.columns[0:5]]\n",
        "\n",
        "  agg=0\n",
        "  loop_cnt=0\n",
        "  init_column_cnt = 5\n",
        "  while agg<=total_num_of_data:\n",
        "    loop_cnt+=1\n",
        "    # Obtain current last columns stop\n",
        "    agg=agg_num+init_column_cnt\n",
        "    # Select working columns\n",
        "    new_df = df[df.columns[init_column_cnt:agg]]\n",
        "\n",
        "    init_column_cnt += (agg_num)\n",
        "    #print(init_column_cnt)\n",
        "    # Get average of freq values for new header\n",
        "    headers = list(new_df.columns.values)\n",
        "    headers_array = np.asarray(headers)\n",
        "    new_header_name = np.mean(headers_array)\n",
        "\n",
        "    # Add aggragated values to new df\n",
        "    agg_df[str(new_header_name)] = new_df.mean(axis = 1)\n",
        "  agg_dict = agg_df.to_dict()\n",
        "  return agg_df, agg_dict\n"
      ],
      "metadata": {
        "id": "hv_1nLfcCTAT"
      },
      "execution_count": 150,
      "outputs": []
    },
    {
      "cell_type": "code",
      "source": [
        "# QPSK AGG\n",
        "#stop = 7\n",
        "#QPSK_agg_df, QPSK_agg_dict = aggreagator(df_qpsk, stop_gap=100, total_num_of_data=1281, min_prime = False)\n",
        "#pickle_out(QPSK_agg_dict, \"test_agg_spectrum_QPSK_\"+str(stop))"
      ],
      "metadata": {
        "id": "UxVxNBbEHw_6"
      },
      "execution_count": 151,
      "outputs": []
    },
    {
      "cell_type": "code",
      "source": [
        "# QPSK QAM\n",
        "#stop = 7\n",
        "#QAM_agg_df, QAM_agg_dict = aggreagator(df_qam, stop_gap=100, total_num_of_data=1281, min_prime = False)\n",
        "#pickle_out(QAM_agg_dict, \"agg_spectrum_QAM_\"+str(stop))"
      ],
      "metadata": {
        "id": "Ps2K4LYJjiyF"
      },
      "execution_count": 152,
      "outputs": []
    },
    {
      "cell_type": "code",
      "source": [
        "#pickle_dummy_dict = pickle_in(\"agg_spectrum_QPSK_7\")\n",
        "\n",
        "#print(pickle_dummy_dict.keys())\n",
        "#ickle_dummy_dict['-19.90625'].values()"
      ],
      "metadata": {
        "id": "jpHux-rYjNUW"
      },
      "execution_count": 153,
      "outputs": []
    },
    {
      "cell_type": "markdown",
      "source": [
        "##Dummy Model"
      ],
      "metadata": {
        "id": "XY1LI-8G5IMU"
      }
    },
    {
      "cell_type": "code",
      "source": [
        "def get_dummy_spectrum(df):\n",
        "  new_df = df.groupby(['#node']).mean()\n",
        "  new_df.drop(['sampleid', 'Channels', 'power_dBm'], axis = 1, inplace = True)\n",
        "  dummy_dict = new_df.to_dict()\n",
        "  \n",
        "  return new_df, dummy_dict"
      ],
      "metadata": {
        "id": "LOGSo-fEt90g"
      },
      "execution_count": 154,
      "outputs": []
    },
    {
      "cell_type": "code",
      "source": [
        "#new_df = \n",
        "#node\t| Distance_km\t|-20\t      |-19.96875\t|-19.9375\t\t\t\t\t\t\t\t\t\t\t\t\t\t\t\t\t\t\t\t\t\t\n",
        "#1\t    | 0.0\t        |-52.955056\t|-54.126681\t|-52.713840\t\n",
        "#2\t    | 100.0\t      |-51.813386\t|-53.194155\t|-52.697528\n",
        "#3\t    | 200.0\t      |-55.626777\t|-54.634329\t|-54.702958\n",
        "\n",
        "#dummy_dict.keys() = dict_keys(['Distance_km', -20, -19.96875, -19.9375, -19.90625, -19.875, -19.84375...\n",
        "#dummy_dict[-20].values() = dict_values([-52.955056039, -51.813386274, -55.626777088])"
      ],
      "metadata": {
        "id": "z8uj4oke0jlJ"
      },
      "execution_count": 155,
      "outputs": []
    },
    {
      "cell_type": "code",
      "source": [
        "# Dummy Model QPSK\n",
        "#QPSK_dummy_df, QPSK_dummy_dict = get_dummy_spectrum(QPSK_agg_df)\n",
        "#pickle_out(QPSK_dummy_dict, \"dummy_AGG_spectrum_QPSK\")"
      ],
      "metadata": {
        "id": "pRYGOWfUu-bl"
      },
      "execution_count": 156,
      "outputs": []
    },
    {
      "cell_type": "code",
      "source": [
        "# Dummy Model QAM\n",
        "#QAM_dummy_df, QAM_dummy_dict = get_dummy_spectrum(QAM_agg_df)\n",
        "#pickle_out(QAM_dummy_dict, \"dummy_AGG_spectrum_QAM\")"
      ],
      "metadata": {
        "id": "ndaugJs8kHp2"
      },
      "execution_count": 157,
      "outputs": []
    },
    {
      "cell_type": "code",
      "source": [
        "#pickle_dummy_dict = pickle_in(\"dummy_AGG_spectrum_QPSK\")\n",
        "#pickle_dummy_dict['Distance_km'].values()"
      ],
      "metadata": {
        "id": "U33UXT4h3l03"
      },
      "execution_count": 158,
      "outputs": []
    },
    {
      "cell_type": "markdown",
      "source": [
        "# Processing"
      ],
      "metadata": {
        "id": "IdmcDZG0E1iC"
      }
    },
    {
      "cell_type": "markdown",
      "source": [
        "## Focus Selector"
      ],
      "metadata": {
        "id": "wW7XEh9FGvif"
      }
    },
    {
      "cell_type": "code",
      "source": [
        "# Aggregated model\n",
        "pickle_agg_QPSK_dict = pickle_in(\"test_agg_spectrum_QPSK_7\")\n",
        "pickle_agg_AQM_dict = pickle_in(\"test_agg_spectrum_QAM_7\")\n",
        "\n",
        "# Dummy models\n",
        "pickle_dummy_QPSK_dict = pickle_in(\"test_dummy_AGG_spectrum_QPSK\")\n",
        "pickle_dummy_QAM_dict = pickle_in(\"test_dummy_AGG_spectrum_QAM\")"
      ],
      "metadata": {
        "id": "IyDGYDa_FV3K"
      },
      "execution_count": 159,
      "outputs": []
    },
    {
      "cell_type": "code",
      "source": [
        "#new_df = \n",
        "#node\t  | Distance_km\t|-20\t      |-19.96875\t|-19.9375\t\t\t\t\t\t\t\t\t\t\t\t\t\t\t\t\t\t\t\t\t\t\n",
        "#1\t    | 0.0\t        |-52.955056\t|-54.126681\t|-52.713840\t\n",
        "#2\t    | 100.0\t      |-51.813386\t|-53.194155\t|-52.697528\n",
        "#3\t    | 200.0\t      |-55.626777\t|-54.634329\t|-54.702958\n",
        "\n",
        "#dummy_dict.keys() = dict_keys(['Distance_km', -20, -19.96875, -19.9375, -19.90625, -19.875, -19.84375...\n",
        "#dummy_dict[-20].values() = dict_values([-52.955056039, -51.813386274, -55.626777088])"
      ],
      "metadata": {
        "id": "VzbTOBpDHeAf"
      },
      "execution_count": 160,
      "outputs": []
    },
    {
      "cell_type": "code",
      "source": [
        "print(pickle_agg_QPSK_dict.keys())\n",
        "pickle_dummy_QAM_dict['-39.90625'].values()"
      ],
      "metadata": {
        "colab": {
          "base_uri": "https://localhost:8080/"
        },
        "id": "3Q8MWMxAFAM7",
        "outputId": "c5bd627b-4abb-4b77-f6ce-23f0e7c9da15"
      },
      "execution_count": 161,
      "outputs": [
        {
          "output_type": "stream",
          "name": "stdout",
          "text": [
            "dict_keys(['sampleid', 'Channels', 'Distance_km', 'power_dBm', '#node', '-19.96875', '-19.875', '-19.78125', '-19.6875', '-19.59375', '-19.5', '-19.40625', '-19.3125', '-19.21875', '-19.125', '-19.03125', '-18.9375', '-18.84375', '-18.75', '-18.65625', '-18.5625', '-18.46875', '-18.375', '-18.28125', '-18.1875', '-18.09375', '-18.0', '-17.90625', '-17.8125', '-17.71875', '-17.625', '-17.53125', '-17.4375', '-17.34375', '-17.25', '-17.15625', '-17.0625', '-16.96875', '-16.875', '-16.78125', '-16.6875', '-16.59375', '-16.5', '-16.40625', '-16.3125', '-16.21875', '-16.125', '-16.03125', '-15.9375', '-15.84375', '-15.75', '-15.65625', '-15.5625', '-15.46875', '-15.375', '-15.28125', '-15.1875', '-15.09375', '-15.0', '-14.90625', '-14.8125', '-14.71875', '-14.625', '-14.53125', '-14.4375', '-14.34375', '-14.25', '-14.15625', '-14.0625', '-13.96875', '-13.875', '-13.78125', '-13.6875', '-13.59375', '-13.5', '-13.40625', '-13.3125', '-13.21875', '-13.125', '-13.03125', '-12.9375', '-12.84375', '-12.75', '-12.65625', '-12.5625', '-12.46875', '-12.375', '-12.28125', '-12.1875', '-12.09375', '-12.0', '-11.90625', '-11.8125', '-11.71875', '-11.625', '-11.53125', '-11.4375', '-11.34375', '-11.25', '-11.15625', '-11.0625', '-10.96875', '-10.875', '-10.78125', '-10.6875', '-10.59375', '-10.5', '-10.40625', '-10.3125', '-10.21875', '-10.125', '-10.03125', '-9.9375', '-9.84375', '-9.75', '-9.65625', '-9.5625', '-9.46875', '-9.375', '-9.28125', '-9.1875', '-9.09375', '-9.0', '-8.90625', '-8.8125', '-8.71875', '-8.625', '-8.53125', '-8.4375', '-8.34375', '-8.25', '-8.15625', '-8.0625', '-7.96875', '-7.875', '-7.78125', '-7.6875', '-7.59375', '-7.5', '-7.40625', '-7.3125', '-7.21875', '-7.125', '-7.03125', '-6.9375', '-6.84375', '-6.75', '-6.65625', '-6.5625', '-6.46875', '-6.375', '-6.28125', '-6.1875', '-6.09375', '-6.0', '-5.90625', '-5.8125', '-5.71875', '-5.625', '-5.53125', '-5.4375', '-5.34375', '-5.25', '-5.15625', '-5.0625', '-4.96875', '-4.875', '-4.78125', '-4.6875', '-4.59375', '-4.5', '-4.40625', '-4.3125', '-4.21875', '-4.125', '-4.03125', '-3.9375', '-3.84375', '-3.75', '-3.65625', '-3.5625', '-3.46875', '-3.375', '-3.28125', '-3.1875', '-3.09375', '-3.0', '-2.90625', '-2.8125', '-2.71875', '-2.625', '-2.53125', '-2.4375', '-2.34375', '-2.25', '-2.15625', '-2.0625', '-1.96875', '-1.875', '-1.78125', '-1.6875', '-1.59375', '-1.5', '-1.40625', '-1.3125', '-1.21875', '-1.125', '-1.03125', '-0.9375', '-0.84375', '-0.75', '-0.65625', '-0.5625', '-0.46875', '-0.375', '-0.28125', '-0.1875', '-0.09375', '0.0', '0.09375', '0.1875', '0.28125', '0.375', '0.46875', '0.5625', '0.65625', '0.75', '0.84375', '0.9375', '1.03125', '1.125', '1.21875', '1.3125', '1.40625', '1.5', '1.59375', '1.6875', '1.78125', '1.875', '1.96875', '2.0625', '2.15625', '2.25', '2.34375', '2.4375', '2.53125', '2.625', '2.71875', '2.8125', '2.90625', '3.0', '3.09375', '3.1875', '3.28125', '3.375', '3.46875', '3.5625', '3.65625', '3.75', '3.84375', '3.9375', '4.03125', '4.125', '4.21875', '4.3125', '4.40625', '4.5', '4.59375', '4.6875', '4.78125', '4.875', '4.96875', '5.0625', '5.15625', '5.25', '5.34375', '5.4375', '5.53125', '5.625', '5.71875', '5.8125', '5.90625', '6.0', '6.09375', '6.1875', '6.28125', '6.375', '6.46875', '6.5625', '6.65625', '6.75', '6.84375', '6.9375', '7.03125', '7.125', '7.21875', '7.3125', '7.40625', '7.5', '7.59375', '7.6875', '7.78125', '7.875', '7.96875', '8.0625', '8.15625', '8.25', '8.34375', '8.4375', '8.53125', '8.625', '8.71875', '8.8125', '8.90625', '9.0', '9.09375', '9.1875', '9.28125', '9.375', '9.46875', '9.5625', '9.65625', '9.75', '9.84375', '9.9375', '10.03125', '10.125', '10.21875', '10.3125', '10.40625', '10.5', '10.59375', '10.6875', '10.78125', '10.875', '10.96875', '11.0625', '11.15625', '11.25', '11.34375', '11.4375', '11.53125', '11.625', '11.71875', '11.8125', '11.90625', '12.0', '12.09375', '12.1875', '12.28125', '12.375', '12.46875', '12.5625', '12.65625', '12.75', '12.84375', '12.9375', '13.03125', '13.125', '13.21875', '13.3125', '13.40625', '13.5', '13.59375', '13.6875', '13.78125', '13.875', '13.96875', '14.0625', '14.15625', '14.25', '14.34375', '14.4375', '14.53125', '14.625', '14.71875', '14.8125', '14.90625', '15.0', '15.09375', '15.1875', '15.28125', '15.375', '15.46875', '15.5625', '15.65625', '15.75', '15.84375', '15.9375', '16.03125', '16.125', '16.21875', '16.3125', '16.40625', '16.5', '16.59375', '16.6875', '16.78125', '16.875', '16.96875', '17.0625', '17.15625', '17.25', '17.34375', '17.4375', '17.53125', '17.625', '17.71875', '17.8125', '17.90625', '18.0', '18.09375', '18.1875', '18.28125', '18.375', '18.46875', '18.5625', '18.65625', '18.75', '18.84375', '18.9375', '19.03125', '19.125', '19.21875', '19.3125', '19.40625', '19.5', '19.59375', '19.6875', '19.78125', '19.875'])\n"
          ]
        },
        {
          "output_type": "execute_result",
          "data": {
            "text/plain": [
              "dict_values([-51.967543919, -50.006399713])"
            ]
          },
          "metadata": {},
          "execution_count": 161
        }
      ]
    },
    {
      "cell_type": "code",
      "source": [
        "def freq_selector(pickle_dict):\n",
        "  invalid = {'Distance_km','sampleid', 'Channels', 'power_dBm', '#node'}\n",
        "  freqs = []\n",
        "  for i in pickle_dict:\n",
        "    if i not in invalid:\n",
        "      freqs.append(i)\n",
        "  return np.array(freqs)\n",
        "#freq_selector(pickle_agg_QPSK_dict)"
      ],
      "metadata": {
        "id": "lgGkxQXmRc6B"
      },
      "execution_count": 162,
      "outputs": []
    },
    {
      "cell_type": "code",
      "source": [
        "def focus_selector_calc(eval_df, min_prime = False):\n",
        "  \n",
        "  sensitivity_df = pd.DataFrame()\n",
        "\n",
        "  # Find min common multipler (smallesr we can break the slots)\n",
        "  non_escencial_data_col = 5\n",
        "  \n",
        "  number_of_data = eval_df.shape[1]-(non_escencial_data_col-1)-1\n",
        "  \n",
        "  # Selecting the prime factors where we can reduce the data\n",
        "  #min_prime_num = min(prime_number_finder(stop_gap=100, total_num_of_data=number_of_data))\n",
        "  user_prime_selection = aggreagator_selection(stop_gap=100, total_num_of_data=number_of_data, min_prime = min_prime)  \n",
        "\n",
        "  cnt = 1\n",
        "  current = non_escencial_data_col\n",
        "  while current <= number_of_data:\n",
        "    end_range = current+(user_prime_selection)\n",
        "    new_df = eval_df[eval_df.columns[current:end_range]]\n",
        "\n",
        "    \n",
        "    # Add aggragated values to new df\n",
        "    sensitivity_df[eval_df.columns[current]] = new_df.mean(axis = 1)\n",
        "    current+=user_prime_selection\n",
        "    cnt+=1\n",
        "  return sensitivity_df, user_prime_selection\n",
        "\n",
        "# Select only the columns where we observe and increase of 500%\n",
        "# Return a dictionary with the row as keys and and array with positional location of columns to be selected as values\n",
        "def focus_selector_range(df, threshhold=5):\n",
        "  old_column = 0\n",
        "  selected_data_ranges = {}\n",
        "  shape = df.shape\n",
        "  rows = shape[0]\n",
        "  columns = shape[1]\n",
        "  for row in range(rows):\n",
        "    delta = 0\n",
        "    col_selected_array = []  \n",
        "    for col in range(columns):\n",
        "      if col == 0:\n",
        "        pass\n",
        "      else:   \n",
        "        delta = abs((df.iat[row, col])-(df.iat[row, (col-1)]))   \n",
        "        if delta>=threshhold:\n",
        "          col_selected_array.append(col) \n",
        "    selected_data_ranges[row] = col_selected_array\n",
        "   \n",
        "  return selected_data_ranges\n",
        "\n",
        "# Return dictionary with rows and columns to be selected from sensitivity_df\n",
        "def focus_selector_removing_outlayers(df, focus_dict, node):\n",
        "  threshold_pass = True\n",
        "  new_dict = {}\n",
        "  unique_columns = set({})\n",
        "  info_per_node = 10\n",
        "  nodes_dict_of_selected_columns = {}\n",
        "\n",
        "  # k = row\n",
        "  # v_array = array of columns selected\n",
        "  for k, v_array in focus_dict.items():\n",
        "    new_array = []\n",
        "    old_v = 0\n",
        "\n",
        "    # Check if selected columns are at least 7 or more to make sure threshold is not losing data\n",
        "    if len(v_array) <= 7:\n",
        "      #print('Threshold on function \"focus_selector_range\" is to big please select and smaller threshold.') \n",
        "      threshold_pass = False\n",
        "      break\n",
        "    # Adding one more selection earlier for being more flexible\n",
        "    elif old_v == 0:\n",
        "      min_array = min(v_array)-1\n",
        "      new_array.append(min_array)\n",
        "    \n",
        "    for v in v_array:\n",
        "      if abs(v - old_v) <=5 and abs(v - old_v) > 1 and old_v!= 0:\n",
        "        x = abs(v - old_v)\n",
        "        for i in range(x-1):\n",
        "          new_array.append(old_v+(i+1))\n",
        "      # Expanding by one the sensitive area\n",
        "      elif abs(v - old_v)>25:\n",
        "        new_array.append(old_v+1)\n",
        "        new_array.append(v-1)\n",
        "\n",
        "      old_v = v\n",
        "      new_array.append(v)\n",
        "\n",
        "    # Adding one more selection in the end for being more flexible\n",
        "    max_array = max(new_array)+1\n",
        "    new_array.append(max_array)\n",
        "\n",
        "    # Adding storage of all columns saved for later function\n",
        "    unique_columns.update(new_array)\n",
        "    if k == (info_per_node-1):\n",
        "      nodes_dict_of_selected_columns[node] = unique_columns\n",
        "      info_per_node = node*info_per_node\n",
        "      unique_columns = set({})\n",
        "    new_dict[k] = new_array\n",
        "  \n",
        "\n",
        "  return new_dict, nodes_dict_of_selected_columns, threshold_pass\n",
        "\n",
        "#-17.28125\t-16.625\t-15.96875\n",
        "#{0: [3, 4, 5, 6, 7, 54, 55, 56, 57]"
      ],
      "metadata": {
        "id": "wICvGDXAdaL4"
      },
      "execution_count": 163,
      "outputs": []
    },
    {
      "cell_type": "code",
      "source": [
        "def focus_selector(sensitivity_df, original_df, nodes_dict_of_selected_columns, node_selected):\n",
        "\n",
        "  total_of_columns = (sensitivity_df.shape[1])\n",
        "  mid_point = int(total_of_columns/2)\n",
        "\n",
        "  # Get list of columns to be selected\n",
        "  selected_node_columns = list(nodes_dict_of_selected_columns[node_selected])\n",
        "  \n",
        "  #Cleaning unwanted columns\n",
        "  max_pos = selected_node_columns.index(max(selected_node_columns))\n",
        "  \n",
        "  #Final selected columns for selected node\n",
        "  columns_to_be_selected = selected_node_columns[:max_pos+1]\n",
        "\n",
        "  # Select only the desired columns \n",
        "  columns_to_be_selected = sorted(columns_to_be_selected)\n",
        "\n",
        "  # Separate data in to left and right curves\n",
        "  left_columns = list()\n",
        "  right_columns = list()\n",
        "\n",
        "  for col in columns_to_be_selected:\n",
        "    if col <= mid_point:\n",
        "      left_columns.append(col)\n",
        "    else:\n",
        "      if col != sensitivity_df.shape[1]:\n",
        "        right_columns.append(col)\n",
        "\n",
        "  df_left = sensitivity_df.iloc[:, left_columns]\n",
        "  df_right = sensitivity_df.iloc[:, right_columns]\n",
        "  \n",
        "  # Add back additional info\n",
        "  selection = original_df.loc[:,'sampleid']\n",
        "  df_left.insert(0, 'sampleid', selection)\n",
        "  df_right.insert(0, 'sampleid', selection)\n",
        "\n",
        "  selection = original_df.loc[:,'Channels']\n",
        "  df_left.insert(1, 'Channels', selection)\n",
        "  df_right.insert(1, 'Channels', selection)\n",
        "\n",
        "  selection = original_df.loc[:,'Distance_km']\n",
        "  df_left.insert(2, 'Distance_km', selection)\n",
        "  df_right.insert(2, 'Distance_km', selection)\n",
        "\n",
        "  selection = original_df.loc[:,'power_dBm']\n",
        "  df_left.insert(3, 'power_dBm', selection)\n",
        "  df_right.insert(3, 'power_dBm', selection)\n",
        "\n",
        "  selection = original_df.loc[:,'#node']\n",
        "  df_left.insert(4, '#node', selection)\n",
        "  df_right.insert(4, '#node', selection)\n",
        "\n",
        "  #Select only the node desired\n",
        "  node_df_left = df_left.loc[df_left['#node'] == int(node_selected)]\n",
        "  node_df_right = df_right.loc[df_right['#node'] == int(node_selected)]\n",
        "\n",
        "  return node_df_left, node_df_right, columns_to_be_selected, left_columns, right_columns"
      ],
      "metadata": {
        "id": "garFmEl5PnYj"
      },
      "execution_count": 273,
      "outputs": []
    },
    {
      "cell_type": "markdown",
      "source": [
        "## Main focus selector"
      ],
      "metadata": {
        "id": "9RfNOxgmLxnU"
      }
    },
    {
      "cell_type": "code",
      "source": [
        "def focus_selector_complete(original_df, node_to_be_eval, min_desired_reduction_of_noise=0.15, aggregation = True, min_prime = False):\n",
        "\n",
        "  original_col_num = (original_df.shape[1]-5)\n",
        "  # Decide if we want agregation\n",
        "  if aggregation == True:\n",
        "    sensitivity_df, agg_range = focus_selector_calc(original_df, min_prime = min_prime)\n",
        "    max_smothed_amt = int(original_col_num/agg_range)\n",
        "  else:\n",
        "    sensitivity_df = original_df.copy()\n",
        "    drop_cols = [0, 1, 2, 3, 4]\n",
        "    sensitivity_df.drop(sensitivity_df.columns[drop_cols], axis=1, inplace=True)\n",
        "\n",
        "    max_smothed_amt = original_col_num\n",
        "\n",
        "  old_val_threshold = 0\n",
        "  for threshhold_val in range(20):\n",
        "\n",
        "    focus_dict = focus_selector_range(sensitivity_df, threshhold=threshhold_val)\n",
        "    new_dict_focus_selector, nodes_dict_of_selected_columns, threshold_pass = focus_selector_removing_outlayers(sensitivity_df, focus_dict, node = node_to_be_eval)\n",
        "\n",
        "    if threshold_pass == True:\n",
        "      percentage_reduced_of_noise = 1-(len(nodes_dict_of_selected_columns[node_to_be_eval])/max_smothed_amt)\n",
        "\n",
        "      # Find the optimal threshold\n",
        "      if percentage_reduced_of_noise >= min_desired_reduction_of_noise:\n",
        "\n",
        "        node_df_left, node_df_right, columns_to_be_selected, left_columns, right_columns = focus_selector(sensitivity_df, original_df, nodes_dict_of_selected_columns, node_selected = node_to_be_eval)\n",
        "        print('Reduced {} columns to {} columns.'.format(original_col_num, len(columns_to_be_selected)))\n",
        "        print('{}% reduced noise using a threshold of {}%.'.format(round(percentage_reduced_of_noise,2)*100, (threshhold_val*100)))\n",
        "      \n",
        "        print('Columns selected {}'.format(columns_to_be_selected))\n",
        "        break  \n",
        "\n",
        "      # Stop in case we arraive to the maximum threshold that would be looped\n",
        "      elif threshhold_val == 20:\n",
        "\n",
        "        node_df_left, node_df_right, columns_to_be_selected, left_columns, right_columns = focus_selector(sensitivity_df, original_df, nodes_dict_of_selected_columns, node_selected = node_to_be_eval)\n",
        "        print('Reduced {} columns to {} columns.'.format(original_col_num, len(columns_to_be_selected)))\n",
        "        print('{}% reduced noise using a threshold of {}%.'.format(round(percentage_reduced_of_noise,2)*100, (threshhold_val*100)))\n",
        "      \n",
        "        print('Columns selected {}'.format(columns_to_be_selected))\n",
        "        break          \n",
        "    \n",
        "    # In case the threholds is to big we stop and use the previos one\n",
        "    elif threshold_pass == False:\n",
        "      focus_dict = focus_selector_range(sensitivity_df, threshhold=old_val_threshold)\n",
        "      new_dict_focus_selector, nodes_dict_of_selected_columns, threshold_pass = focus_selector_removing_outlayers(sensitivity_df, focus_dict) \n",
        "           \n",
        "      percentage_reduced_of_noise = 1-(len(nodes_dict_of_selected_columns[node_to_be_eval])/max_smothed_amt)\n",
        "\n",
        "      node_df_left, node_df_right, columns_to_be_selected, left_columns, right_columns = focus_selector(sensitivity_df, original_df, nodes_dict_of_selected_columns, node_selected = node_to_be_eval)\n",
        "      print('Reduced {} columns to {} columns.'.format(original_col_num, len(columns_to_be_selected)))\n",
        "      print('{}% reduced noise using a threshold of {}%.'.format(round(percentage_reduced_of_noise,2)*100, (threshhold_val*100)))\n",
        "    \n",
        "      print('Columns selected {}'.format(columns_to_be_selected))      \n",
        "      break\n",
        "  \n",
        "    old_val_threshold += 1\n",
        "  return node_df_left, node_df_right, columns_to_be_selected, left_columns, right_columns\n"
      ],
      "metadata": {
        "id": "hkdUN2uyHep-"
      },
      "execution_count": 274,
      "outputs": []
    },
    {
      "cell_type": "code",
      "source": [
        "def model_focus_selector(model_df, selected_columns, left_columns, right_columns, node_to_be_eval=1):\n",
        "\n",
        "  # Pre-process dummy model\n",
        "  model_node_row = model_df.iloc[[node_to_be_eval-1]]\n",
        "  model_node_row.drop('Distance_km', axis=1, inplace=True)\n",
        "\n",
        "\n",
        "  model_node_row_left = model_node_row.iloc[:, left_columns]\n",
        "  model_node_row_right = model_node_row.iloc[:, right_columns]\n",
        "  \n",
        "  # Add back additional info\n",
        "  model_node_row_left.insert(0, 'sampleid', 1)\n",
        "  model_node_row_right.insert(0, 'sampleid', 1)\n",
        "\n",
        "  model_node_row_left.insert(1, 'Channels', 1)\n",
        "  model_node_row_right.insert(1, 'Channels', 1)\n",
        "\n",
        "  model_node_row_left.insert(2, 'Distance_km', node_to_be_eval*100)\n",
        "  model_node_row_right.insert(2, 'Distance_km', node_to_be_eval*100)\n",
        "\n",
        "  model_node_row_left.insert(3, 'power_dBm', -2)\n",
        "  model_node_row_right.insert(3, 'power_dBm', -2)\n",
        "\n",
        "  model_node_row_left.insert(4, '#node', node_to_be_eval)\n",
        "  model_node_row_right.insert(4, '#node', node_to_be_eval)\n",
        "\n",
        "\n",
        "  return model_node_row_left, model_node_row_right"
      ],
      "metadata": {
        "id": "z3O42LAaVLUB"
      },
      "execution_count": 283,
      "outputs": []
    },
    {
      "cell_type": "code",
      "source": [
        "node_df_left, node_df_right, columns_to_be_selected, left_columns, right_columns = focus_selector_complete(df_qpsk, node_to_be_eval=1, min_desired_reduction_of_noise=0.15, aggregation = True, min_prime = True)"
      ],
      "metadata": {
        "colab": {
          "base_uri": "https://localhost:8080/"
        },
        "id": "udKotWlmKzTJ",
        "outputId": "81ff0efd-eba5-4f1f-c281-c8187adeb0bc"
      },
      "execution_count": 280,
      "outputs": [
        {
          "output_type": "stream",
          "name": "stdout",
          "text": [
            "Selected the least common denominator for aggregation (3) with a frequency of 0.0625.\n"
          ]
        },
        {
          "output_type": "stream",
          "name": "stderr",
          "text": [
            "/usr/local/lib/python3.7/dist-packages/ipykernel_launcher.py:22: PerformanceWarning: DataFrame is highly fragmented.  This is usually the result of calling `frame.insert` many times, which has poor performance.  Consider joining all columns at once using pd.concat(axis=1) instead.  To get a de-fragmented frame, use `newframe = frame.copy()`\n"
          ]
        },
        {
          "output_type": "stream",
          "name": "stdout",
          "text": [
            "Reduced 1281 columns to 290 columns.\n",
            "32.0% reduced noise using a threshold of 900%.\n",
            "Columns selected [1, 2, 3, 4, 5, 6, 7, 8, 9, 10, 11, 12, 18, 19, 20, 21, 22, 23, 26, 27, 29, 30, 31, 32, 33, 34, 35, 39, 40, 41, 42, 43, 44, 47, 48, 49, 50, 56, 57, 69, 70, 74, 75, 76, 77, 78, 80, 81, 82, 88, 89, 90, 91, 92, 93, 94, 95, 96, 97, 98, 99, 100, 101, 102, 103, 104, 105, 106, 110, 111, 112, 116, 117, 118, 119, 120, 121, 123, 124, 125, 126, 127, 128, 129, 130, 133, 134, 135, 136, 137, 138, 139, 140, 144, 145, 146, 147, 148, 149, 150, 151, 152, 153, 154, 155, 156, 157, 158, 159, 160, 168, 169, 170, 171, 172, 173, 174, 175, 176, 177, 178, 179, 180, 185, 186, 187, 188, 189, 190, 191, 192, 193, 194, 195, 196, 198, 199, 203, 204, 205, 210, 211, 212, 213, 214, 215, 216, 217, 218, 219, 220, 221, 222, 223, 224, 225, 226, 227, 228, 229, 230, 231, 232, 233, 234, 235, 236, 237, 238, 239, 240, 241, 242, 244, 245, 246, 258, 259, 260, 263, 264, 265, 266, 272, 273, 274, 275, 276, 277, 279, 280, 281, 282, 283, 284, 285, 288, 289, 291, 292, 297, 298, 300, 302, 303, 304, 305, 306, 307, 308, 309, 310, 311, 312, 313, 314, 315, 317, 318, 319, 320, 321, 322, 323, 324, 330, 331, 332, 333, 334, 335, 338, 339, 340, 341, 342, 343, 344, 347, 348, 349, 351, 352, 353, 358, 359, 360, 361, 364, 365, 366, 370, 371, 374, 375, 376, 377, 380, 381, 383, 384, 385, 386, 387, 388, 389, 390, 391, 392, 393, 394, 395, 396, 397, 398, 399, 400, 401, 405, 410, 411, 416, 417, 418, 419, 420, 421, 422, 423, 424]\n"
          ]
        }
      ]
    },
    {
      "cell_type": "code",
      "source": [
        "model_node_row_left, model_node_row_right = model_focus_selector(QPSK_dummy_df, columns_to_be_selected, left_columns, right_columns, node_to_be_eval=1)"
      ],
      "metadata": {
        "colab": {
          "base_uri": "https://localhost:8080/"
        },
        "id": "hM-tkCb4KzxW",
        "outputId": "230c61e3-f7d0-4b58-9617-3bf9c9d8b0cd"
      },
      "execution_count": 284,
      "outputs": [
        {
          "output_type": "stream",
          "name": "stderr",
          "text": [
            "/usr/local/lib/python3.7/dist-packages/pandas/core/frame.py:4913: SettingWithCopyWarning: \n",
            "A value is trying to be set on a copy of a slice from a DataFrame\n",
            "\n",
            "See the caveats in the documentation: https://pandas.pydata.org/pandas-docs/stable/user_guide/indexing.html#returning-a-view-versus-a-copy\n",
            "  errors=errors,\n"
          ]
        }
      ]
    },
    {
      "cell_type": "markdown",
      "source": [
        "## Linear Regresion"
      ],
      "metadata": {
        "id": "R8z1fmNEBGdo"
      }
    },
    {
      "cell_type": "code",
      "source": [
        "def obtain_regresion_features(sample_df, model_df):\n",
        "\n",
        "  # Get model data\n",
        "  model_df = model_df.iloc[0].to_numpy()\n",
        "  model_df = model_df[5:]\n",
        "  y = np.array(model_df)\n",
        "  features_dict = {}\n",
        "  # Get Sample data\n",
        "  for row in range(sample_df.shape[0]):\n",
        "    features = []\n",
        "\n",
        "    row_data_sample = sample_df.iloc[row].to_numpy()\n",
        "    row_data_sample = row_data_sample[5:]\n",
        "    x = np.array(row_data_sample).reshape((-1, 1))\n",
        "    \n",
        "    # Get linear regresion features\n",
        "    model = LinearRegression()\n",
        "    model.fit(x, y)\n",
        "    model = LinearRegression().fit(x, y)\n",
        "    r_sq = model.score(x, y)\n",
        "    intercept = model.intercept_\n",
        "    slope = model.coef_\n",
        "    \n",
        "    features.append(r_sq)\n",
        "    features.append(intercept)\n",
        "    features.append(slope[0])\n",
        "\n",
        "    features_dict['Sample_'+str(row+1)] = features\n",
        "  # Return dictionary with sample as key and a array with (r_sq, intercept, slope) as values\n",
        "  return features_dict\n",
        "\n",
        "\n",
        "def linear_regresion(node_df_left, node_df_right, model_node_row_left, model_node_row_right):\n",
        "\n",
        "  # Checking left side\n",
        "  left_features_dict = obtain_regresion_features(node_df_left, model_node_row_left)\n",
        "\n",
        "  # Checking right side\n",
        "  right_features_dict = obtain_regresion_features(node_df_right, model_node_row_right)\n",
        "  \n",
        "  r_sqr_agg = []\n",
        "  intercept_agg = []\n",
        "  slope_agg = []\n",
        "  combined_features_dict = {}\n",
        "  for k, val_array in left_features_dict.items():\n",
        "    combined_features = []\n",
        "    # Combining r_sqr\n",
        "    combined_r_sq = (val_array[0] + right_features_dict[k][0])/2 \n",
        "    combined_features.append(combined_r_sq)\n",
        "    r_sqr_agg.append(combined_r_sq)\n",
        "\n",
        "    # Combining intercept\n",
        "    combined_intercept = (val_array[1] + right_features_dict[k][1])/2 \n",
        "    combined_features.append(combined_intercept)\n",
        "    intercept_agg.append(combined_intercept)\n",
        "\n",
        "    # Combining slope\n",
        "    combined_slope = (val_array[2] + right_features_dict[k][2])/2 \n",
        "    combined_features.append(combined_slope)\n",
        "    slope_agg.append(combined_slope)\n",
        "\n",
        "    combined_features_dict[k] = combined_features\n",
        "\n",
        "  # Get overall average of each feature\n",
        "  r_sqr_val = np.average(r_sqr_agg)\n",
        "  intercept_val = np.average(intercept_agg)\n",
        "  slope_val = np.average(slope_agg)\n",
        "  # Return dictionary with sample as key and a array with (r_sq, intercept, slope) as values with combined left and right curves\n",
        "  return combined_features_dict, r_sqr_val, intercept_val, slope_val\n",
        "  \n",
        "  # Prediction\n",
        "  #y_pred = model.predict(x)\n",
        "  #print('predicted response:', y_pred, sep='\\n')\n"
      ],
      "metadata": {
        "id": "sG7h6ECbBMIL"
      },
      "execution_count": 167,
      "outputs": []
    },
    {
      "cell_type": "code",
      "source": [
        "combined_features_dict, r_sqr_val, intercept_val, slope_val = linear_regresion(node_df_left, node_df_right, model_node_row_left, model_node_row_right)"
      ],
      "metadata": {
        "id": "e0Q_bDFYgLne"
      },
      "execution_count": 168,
      "outputs": []
    },
    {
      "cell_type": "code",
      "source": [
        "print(r_sqr_val)\n",
        "print(intercept_val)\n",
        "print(slope_val)"
      ],
      "metadata": {
        "colab": {
          "base_uri": "https://localhost:8080/"
        },
        "id": "cNFtVQ_0GKkG",
        "outputId": "c35fe7aa-81f6-42da-eccb-cd8323654ef5"
      },
      "execution_count": 169,
      "outputs": [
        {
          "output_type": "stream",
          "name": "stdout",
          "text": [
            "0.8870656881561457\n",
            "-2.2017675842815763\n",
            "0.8872517124880088\n"
          ]
        }
      ]
    },
    {
      "cell_type": "code",
      "source": [
        "print(combined_features_dict)"
      ],
      "metadata": {
        "colab": {
          "base_uri": "https://localhost:8080/"
        },
        "id": "aQ8nFQMN-usb",
        "outputId": "9b20f3a7-8721-4e05-8d95-cdb1c8533e73"
      },
      "execution_count": 170,
      "outputs": [
        {
          "output_type": "stream",
          "name": "stdout",
          "text": [
            "{'Sample_1': [0.8833863390715191, -1.9461701142247314, 0.8780060144855435], 'Sample_2': [0.884968449209298, -3.004290324874715, 0.8881606313213234], 'Sample_3': [0.8855196537979639, -2.1750212403980953, 0.8894978271839873], 'Sample_4': [0.8916998981010285, -3.051426735850324, 0.8861469488934133], 'Sample_5': [0.8829683396261425, -1.171668580696453, 0.8898245720925081], 'Sample_6': [0.8835023749892577, -2.8324245404233306, 0.8733441416652403], 'Sample_7': [0.8874445808115341, -0.793366885692917, 0.890154005230884], 'Sample_8': [0.900930670326529, -2.0226616321109816, 0.8986698437755491], 'Sample_9': [0.8868361404479461, -2.1726609495037597, 0.8797609115292577], 'Sample_10': [0.8834004351802379, -2.847984839040457, 0.898952228702382]}\n"
          ]
        }
      ]
    },
    {
      "cell_type": "markdown",
      "source": [
        "## Test_1"
      ],
      "metadata": {
        "id": "g8lFDEuhGWmb"
      }
    },
    {
      "cell_type": "code",
      "source": [
        "data_path=path+\"/Spectrum\"\n",
        "\n",
        "qpsk_path=\"/QPSK/A.10hops100km/\"\n",
        "qam_path=\"/16QAM/A.10hops100km\"\n",
        "\n",
        "#file_name=\"/dataSet_Spectrum_Samples_QPSK_37GHz_LongHaul_output_10x100.xlsx\"\n",
        "file_name=\"/QPSK_dummy.xlsx\"\n",
        "# Skipping first row since only contain \"Frequency\" headers\n",
        "df_qpsk=pd.read_excel(data_path+qpsk_path+file_name, sheet_name = \"Sheet1\", skiprows=1)\n",
        "\n",
        "#file_name=\"/dataSet_Spectrum_Samples_16QAM_75GHz_LongHaul_output_10x100.xlsx\"\n",
        "file_name=\"/16QAM_dummy.xlsx\"\n",
        "df_qam=pd.read_excel(data_path+qam_path+file_name, sheet_name = \"Sheet1\", skiprows=1)\n",
        "\n",
        "#Diff in column 5 to 1,286 0.03125"
      ],
      "metadata": {
        "id": "yl7jEG7kK1rW"
      },
      "execution_count": 285,
      "outputs": []
    },
    {
      "cell_type": "code",
      "source": [
        "data_path=path+\"/Spectrum\"\n",
        "qpsk_path=\"/QPSK/A.10hops100km/\"\n",
        "\n",
        "#file_name=\"/dataSet_Spectrum_Samples_QPSK_37GHz_LongHaul_output_10x100.xlsx\"\n",
        "file_name=\"/QPSK_dummy.xlsx\"\n",
        "\n",
        "#Load sample data\n",
        "df_qpsk=pd.read_excel(data_path+qpsk_path+file_name, sheet_name = \"Sheet1\", skiprows=1)\n",
        "# Load model data\n",
        "QPSK_dummy_df, QPSK_dummy_dict = get_dummy_spectrum(df_qpsk)\n",
        "\n",
        "# Sample node\n",
        "sample_node = 1\n",
        "# Model node\n",
        "model_node = 1\n",
        "\n",
        "# Get sample data\n",
        "node_df_left, node_df_right, selected_columns, left_columns, right_columns = focus_selector_complete(df_qpsk, node_to_be_eval=sample_node, min_desired_reduction_of_noise=0.15, aggregation = False, min_prime = False)\n",
        "\n",
        "# Get model data\n",
        "model_node_row_left, model_node_row_right = model_focus_selector(QPSK_dummy_df, selected_columns, left_columns, right_columns, node_to_be_eval=model_node)\n",
        "\n",
        "print('---Left Side Shape---')\n",
        "print(node_df_left.shape)\n",
        "print(model_node_row_left.shape)\n",
        "\n",
        "print('---right Side Shape---')\n",
        "print(node_df_right.shape)\n",
        "print(model_node_row_right.shape)\n",
        "\n",
        "# Get linear regresion features\n",
        "combined_features_dict, r_sqr_val, intercept_val, slope_val = linear_regresion(node_df_left, node_df_right, model_node_row_left, model_node_row_right)\n",
        "\n",
        "print('---Linear Regresion Features---')\n",
        "print('coefficient of determination:', r_sqr_val)\n",
        "print('intercept:', intercept_val)\n",
        "print('slope:', slope_val)"
      ],
      "metadata": {
        "colab": {
          "base_uri": "https://localhost:8080/"
        },
        "id": "mCmHLZ10GV3E",
        "outputId": "a6691ff9-821f-4bf7-9859-9e9253948944"
      },
      "execution_count": 287,
      "outputs": [
        {
          "output_type": "stream",
          "name": "stdout",
          "text": [
            "Reduced 1281 columns to 1045 columns.\n",
            "18.0% reduced noise using a threshold of 1300%.\n",
            "Columns selected [1, 2, 3, 4, 5, 6, 7, 8, 9, 10, 11, 12, 13, 14, 15, 16, 17, 18, 19, 20, 21, 22, 23, 24, 25, 26, 27, 28, 29, 30, 31, 32, 33, 34, 35, 36, 37, 38, 39, 40, 41, 45, 46, 48, 49, 54, 55, 56, 57, 58, 59, 60, 61, 62, 63, 64, 65, 66, 67, 68, 69, 74, 75, 76, 77, 78, 79, 80, 81, 82, 83, 84, 85, 86, 87, 88, 89, 90, 91, 92, 93, 94, 95, 98, 99, 100, 101, 102, 103, 104, 105, 107, 108, 109, 110, 111, 112, 113, 114, 115, 116, 117, 118, 119, 120, 124, 125, 126, 127, 128, 130, 131, 132, 133, 138, 139, 140, 141, 144, 145, 146, 147, 148, 149, 150, 151, 152, 153, 154, 155, 156, 157, 158, 159, 160, 161, 162, 163, 164, 165, 168, 169, 170, 171, 172, 173, 174, 175, 176, 177, 178, 179, 180, 181, 182, 183, 184, 185, 186, 187, 188, 189, 190, 191, 192, 193, 194, 195, 199, 202, 206, 207, 209, 210, 211, 212, 213, 214, 215, 216, 217, 218, 219, 220, 221, 222, 223, 224, 225, 226, 227, 228, 229, 230, 231, 232, 233, 239, 240, 241, 243, 246, 247, 250, 251, 252, 253, 254, 255, 256, 257, 258, 259, 260, 261, 264, 265, 266, 267, 268, 269, 270, 271, 272, 273, 279, 280, 282, 283, 286, 287, 288, 289, 290, 291, 292, 293, 294, 295, 297, 298, 299, 300, 301, 302, 303, 304, 307, 308, 309, 310, 311, 312, 313, 314, 315, 316, 317, 318, 319, 320, 323, 324, 325, 326, 327, 328, 329, 330, 331, 332, 333, 334, 335, 336, 337, 338, 339, 340, 341, 342, 343, 344, 345, 346, 347, 349, 350, 351, 352, 353, 354, 359, 360, 361, 362, 363, 364, 365, 366, 367, 368, 369, 370, 371, 372, 373, 374, 375, 376, 377, 378, 379, 380, 381, 382, 383, 384, 385, 386, 387, 388, 389, 390, 391, 392, 393, 394, 397, 401, 402, 403, 404, 405, 406, 407, 408, 409, 410, 412, 413, 414, 415, 416, 417, 418, 420, 421, 422, 423, 424, 425, 426, 427, 428, 429, 430, 431, 432, 433, 435, 436, 437, 438, 439, 440, 441, 442, 443, 444, 445, 447, 448, 449, 450, 451, 452, 453, 454, 455, 456, 457, 459, 460, 461, 462, 463, 464, 465, 466, 470, 471, 477, 478, 479, 482, 488, 489, 490, 492, 496, 497, 498, 499, 500, 501, 502, 503, 504, 505, 506, 507, 508, 509, 510, 511, 512, 513, 514, 515, 516, 517, 518, 519, 520, 521, 522, 523, 524, 525, 526, 527, 528, 529, 530, 531, 532, 533, 534, 535, 536, 537, 538, 539, 540, 544, 545, 546, 547, 551, 552, 555, 556, 557, 558, 559, 560, 561, 562, 565, 566, 567, 568, 569, 570, 575, 576, 577, 578, 579, 580, 581, 582, 583, 584, 585, 586, 587, 588, 589, 590, 591, 592, 593, 594, 595, 597, 598, 599, 601, 602, 603, 605, 606, 607, 608, 609, 610, 611, 612, 613, 614, 615, 616, 617, 618, 619, 620, 621, 622, 623, 624, 625, 626, 627, 628, 631, 632, 633, 634, 635, 637, 638, 641, 642, 643, 644, 645, 646, 655, 656, 657, 660, 662, 663, 664, 665, 666, 667, 668, 669, 670, 671, 672, 673, 674, 675, 676, 677, 678, 679, 680, 681, 682, 683, 684, 685, 686, 687, 688, 689, 690, 691, 692, 693, 694, 695, 696, 700, 701, 703, 705, 706, 707, 708, 709, 710, 712, 713, 714, 715, 716, 717, 718, 719, 720, 721, 722, 723, 724, 725, 726, 727, 729, 730, 731, 734, 735, 739, 740, 741, 742, 743, 744, 745, 746, 747, 748, 749, 750, 751, 752, 753, 754, 760, 761, 763, 764, 765, 766, 767, 768, 769, 770, 771, 772, 773, 774, 775, 776, 777, 778, 779, 780, 781, 782, 783, 784, 785, 786, 789, 790, 791, 792, 793, 794, 795, 796, 797, 798, 802, 803, 804, 805, 806, 807, 808, 809, 810, 811, 812, 813, 814, 815, 816, 817, 818, 819, 820, 821, 822, 823, 824, 827, 828, 829, 830, 831, 832, 833, 834, 835, 836, 837, 838, 839, 840, 841, 842, 843, 844, 845, 846, 851, 852, 853, 854, 855, 856, 857, 858, 859, 860, 861, 862, 863, 864, 869, 870, 871, 872, 873, 874, 875, 876, 877, 878, 879, 880, 881, 882, 883, 884, 885, 886, 887, 888, 889, 890, 892, 893, 894, 898, 899, 900, 901, 902, 903, 904, 905, 906, 907, 908, 910, 911, 912, 913, 914, 915, 916, 917, 918, 919, 920, 921, 922, 923, 924, 925, 926, 927, 928, 929, 930, 931, 932, 933, 934, 935, 936, 937, 938, 939, 940, 941, 943, 946, 947, 953, 954, 955, 956, 957, 958, 959, 960, 961, 962, 963, 964, 965, 966, 967, 968, 969, 970, 971, 972, 973, 974, 975, 979, 980, 981, 982, 983, 984, 985, 986, 987, 988, 989, 990, 991, 992, 993, 994, 995, 996, 997, 999, 1002, 1003, 1004, 1005, 1007, 1008, 1009, 1010, 1012, 1013, 1014, 1015, 1016, 1017, 1018, 1019, 1020, 1021, 1022, 1023, 1024, 1025, 1026, 1027, 1028, 1029, 1030, 1031, 1032, 1033, 1034, 1035, 1036, 1037, 1038, 1039, 1040, 1041, 1042, 1043, 1044, 1045, 1046, 1047, 1048, 1054, 1056, 1063, 1064, 1065, 1066, 1067, 1068, 1069, 1070, 1071, 1072, 1073, 1074, 1076, 1077, 1078, 1079, 1080, 1087, 1088, 1089, 1090, 1091, 1092, 1093, 1094, 1095, 1096, 1097, 1098, 1099, 1100, 1101, 1102, 1103, 1104, 1106, 1108, 1109, 1115, 1116, 1117, 1118, 1119, 1120, 1121, 1122, 1123, 1124, 1125, 1126, 1127, 1128, 1129, 1132, 1133, 1134, 1135, 1136, 1137, 1138, 1139, 1140, 1141, 1142, 1143, 1144, 1148, 1149, 1150, 1151, 1152, 1153, 1154, 1155, 1156, 1157, 1158, 1162, 1163, 1164, 1166, 1167, 1168, 1169, 1170, 1171, 1172, 1173, 1174, 1175, 1176, 1178, 1179, 1180, 1181, 1182, 1183, 1184, 1185, 1186, 1187, 1188, 1189, 1190, 1191, 1192, 1193, 1195, 1196, 1197, 1198, 1199, 1200, 1201, 1202, 1203, 1204, 1205, 1206, 1207, 1208, 1209, 1210, 1211, 1214, 1215, 1216, 1220, 1221, 1224, 1228, 1229, 1230, 1233, 1234, 1235, 1236, 1237, 1238, 1240, 1241, 1242, 1243, 1246, 1247, 1248, 1249, 1250, 1251, 1252, 1253, 1254, 1255, 1256, 1257, 1258, 1259, 1260, 1261, 1262, 1263, 1265, 1266, 1267, 1269, 1270, 1271, 1272, 1273, 1274, 1275, 1276, 1277, 1278, 1279, 1280, 1281]\n",
            "---Left Side Shape---\n",
            "(10, 528)\n",
            "(1, 528)\n",
            "---right Side Shape---\n",
            "(10, 526)\n",
            "(1, 526)\n",
            "---Linear Regresion Features---\n",
            "coefficient of determination: 0.8870656881561457\n",
            "intercept: -2.2017675842815763\n",
            "slope: 0.8872517124880088\n"
          ]
        },
        {
          "output_type": "stream",
          "name": "stderr",
          "text": [
            "/usr/local/lib/python3.7/dist-packages/pandas/core/frame.py:4913: SettingWithCopyWarning: \n",
            "A value is trying to be set on a copy of a slice from a DataFrame\n",
            "\n",
            "See the caveats in the documentation: https://pandas.pydata.org/pandas-docs/stable/user_guide/indexing.html#returning-a-view-versus-a-copy\n",
            "  errors=errors,\n"
          ]
        }
      ]
    },
    {
      "cell_type": "markdown",
      "source": [
        "# Test_2"
      ],
      "metadata": {
        "id": "-3BasbrZ_JzW"
      }
    },
    {
      "cell_type": "code",
      "source": [
        "data_path=path+\"/Spectrum\"\n",
        "qpsk_path=\"/QPSK/A.10hops100km/\"\n",
        "\n",
        "#file_name=\"/dataSet_Spectrum_Samples_QPSK_37GHz_LongHaul_output_10x100.xlsx\"\n",
        "file_name=\"/QPSK_dummy.xlsx\"\n",
        "\n",
        "#Load sample data\n",
        "df_qpsk = pd.read_excel(data_path+qpsk_path+file_name, sheet_name = \"Sheet1\", skiprows=1)\n",
        "# Load model data\n",
        "QPSK_dummy_df, QPSK_dummy_dict = get_dummy_spectrum(df_qpsk)"
      ],
      "metadata": {
        "id": "JlN5k1iL_FyK"
      },
      "execution_count": 288,
      "outputs": []
    },
    {
      "cell_type": "code",
      "source": [
        "def obtain_sample_data(df_sample):\n",
        "  df_store_sample = {}\n",
        "  df_store_selcted_columns = {}\n",
        "\n",
        "  for node in df_sample['#node'].unique():\n",
        "    print(node)\n",
        "    print('--- Calculating Node {} ---'.format(node))\n",
        "    sample_tails_array = []\n",
        "    selct_columns = []\n",
        "    # Get sample data\n",
        "    node_df_left, node_df_right, selected_columns, left_columns, right_columns = focus_selector_complete(df_sample, node_to_be_eval=node, min_desired_reduction_of_noise=0.15, aggregation = True, min_prime = True)\n",
        "\n",
        "    sample_tails_array.append(node_df_left.to_dict())\n",
        "    sample_tails_array.append(node_df_right.to_dict())\n",
        "    \n",
        "    selct_columns.append(left_columns)\n",
        "    selct_columns.append(right_columns)\n",
        "\n",
        "    df_store_sample['Node_'+str(node)] = sample_tails_array\n",
        "    df_store_selcted_columns['Node_'+str(node)] = selct_columns\n",
        "\n",
        "    print('\\n')\n",
        "  return df_store_sample, df_store_selcted_columns\n",
        "  # {'Node_1':[dict_left, dect_right]}\n",
        "  #df = pd.DataFrame.from_dict(df_store_sample['Node_1'])"
      ],
      "metadata": {
        "id": "ht6GjqfRoPZd"
      },
      "execution_count": 315,
      "outputs": []
    },
    {
      "cell_type": "code",
      "source": [
        "df_store_sample, df_store_selcted_columns = obtain_sample_data(df_qpsk)"
      ],
      "metadata": {
        "id": "64y_1YaDC-7B",
        "outputId": "b9a87b0f-2c3f-4541-ad14-f0d759c5cf61",
        "colab": {
          "base_uri": "https://localhost:8080/"
        }
      },
      "execution_count": 316,
      "outputs": [
        {
          "output_type": "stream",
          "name": "stdout",
          "text": [
            "1\n",
            "--- Calculating Node 1 ---\n",
            "Selected the least common denominator for aggregation (3) with a frequency of 0.0625.\n"
          ]
        },
        {
          "output_type": "stream",
          "name": "stderr",
          "text": [
            "/usr/local/lib/python3.7/dist-packages/ipykernel_launcher.py:22: PerformanceWarning: DataFrame is highly fragmented.  This is usually the result of calling `frame.insert` many times, which has poor performance.  Consider joining all columns at once using pd.concat(axis=1) instead.  To get a de-fragmented frame, use `newframe = frame.copy()`\n"
          ]
        },
        {
          "output_type": "stream",
          "name": "stdout",
          "text": [
            "Reduced 1281 columns to 290 columns.\n",
            "32.0% reduced noise using a threshold of 900%.\n",
            "Columns selected [1, 2, 3, 4, 5, 6, 7, 8, 9, 10, 11, 12, 18, 19, 20, 21, 22, 23, 26, 27, 29, 30, 31, 32, 33, 34, 35, 39, 40, 41, 42, 43, 44, 47, 48, 49, 50, 56, 57, 69, 70, 74, 75, 76, 77, 78, 80, 81, 82, 88, 89, 90, 91, 92, 93, 94, 95, 96, 97, 98, 99, 100, 101, 102, 103, 104, 105, 106, 110, 111, 112, 116, 117, 118, 119, 120, 121, 123, 124, 125, 126, 127, 128, 129, 130, 133, 134, 135, 136, 137, 138, 139, 140, 144, 145, 146, 147, 148, 149, 150, 151, 152, 153, 154, 155, 156, 157, 158, 159, 160, 168, 169, 170, 171, 172, 173, 174, 175, 176, 177, 178, 179, 180, 185, 186, 187, 188, 189, 190, 191, 192, 193, 194, 195, 196, 198, 199, 203, 204, 205, 210, 211, 212, 213, 214, 215, 216, 217, 218, 219, 220, 221, 222, 223, 224, 225, 226, 227, 228, 229, 230, 231, 232, 233, 234, 235, 236, 237, 238, 239, 240, 241, 242, 244, 245, 246, 258, 259, 260, 263, 264, 265, 266, 272, 273, 274, 275, 276, 277, 279, 280, 281, 282, 283, 284, 285, 288, 289, 291, 292, 297, 298, 300, 302, 303, 304, 305, 306, 307, 308, 309, 310, 311, 312, 313, 314, 315, 317, 318, 319, 320, 321, 322, 323, 324, 330, 331, 332, 333, 334, 335, 338, 339, 340, 341, 342, 343, 344, 347, 348, 349, 351, 352, 353, 358, 359, 360, 361, 364, 365, 366, 370, 371, 374, 375, 376, 377, 380, 381, 383, 384, 385, 386, 387, 388, 389, 390, 391, 392, 393, 394, 395, 396, 397, 398, 399, 400, 401, 405, 410, 411, 416, 417, 418, 419, 420, 421, 422, 423, 424]\n",
            "\n",
            "\n",
            "2\n",
            "--- Calculating Node 2 ---\n",
            "Selected the least common denominator for aggregation (3) with a frequency of 0.0625.\n",
            "Reduced 1281 columns to 352 columns.\n",
            "18.0% reduced noise using a threshold of 800%.\n",
            "Columns selected [1, 2, 3, 4, 5, 7, 8, 9, 10, 11, 12, 13, 14, 15, 16, 17, 18, 19, 20, 23, 24, 25, 28, 29, 30, 31, 32, 33, 34, 35, 36, 37, 38, 39, 40, 41, 42, 43, 44, 45, 46, 47, 48, 49, 56, 57, 59, 60, 61, 63, 64, 65, 66, 67, 69, 70, 71, 72, 73, 74, 75, 76, 77, 81, 82, 84, 85, 86, 87, 88, 89, 90, 91, 92, 93, 94, 95, 96, 97, 98, 99, 100, 101, 102, 103, 104, 105, 106, 107, 108, 109, 110, 111, 112, 113, 114, 115, 116, 117, 118, 119, 120, 123, 124, 125, 126, 127, 128, 129, 130, 131, 132, 133, 134, 135, 136, 137, 138, 139, 140, 144, 145, 146, 147, 148, 149, 150, 151, 152, 153, 154, 155, 156, 157, 158, 159, 160, 167, 168, 169, 170, 171, 172, 173, 174, 175, 176, 177, 178, 179, 180, 183, 184, 185, 186, 187, 188, 189, 190, 191, 192, 193, 194, 195, 196, 197, 198, 199, 200, 201, 202, 203, 204, 205, 209, 210, 211, 212, 213, 214, 215, 216, 217, 218, 219, 220, 221, 222, 223, 224, 225, 226, 227, 228, 229, 230, 231, 232, 233, 234, 235, 236, 237, 238, 239, 240, 241, 242, 243, 244, 245, 246, 258, 259, 262, 263, 264, 265, 266, 267, 268, 272, 273, 274, 275, 276, 277, 278, 279, 280, 281, 282, 283, 284, 285, 286, 287, 288, 289, 290, 291, 292, 293, 295, 296, 297, 298, 299, 300, 301, 302, 303, 304, 305, 306, 307, 308, 309, 310, 311, 312, 313, 314, 315, 317, 318, 319, 320, 321, 322, 323, 330, 331, 333, 334, 335, 336, 337, 338, 339, 340, 342, 343, 347, 348, 349, 351, 352, 353, 355, 356, 358, 359, 360, 361, 362, 363, 364, 365, 366, 367, 368, 369, 370, 371, 372, 373, 374, 375, 376, 377, 380, 381, 383, 384, 385, 386, 387, 388, 389, 390, 391, 392, 393, 394, 395, 396, 397, 398, 399, 400, 401, 402, 403, 404, 405, 406, 409, 410, 411, 412, 413, 414, 415, 416, 417, 418, 419, 420, 421, 423, 424]\n",
            "\n",
            "\n",
            "3\n",
            "--- Calculating Node 3 ---\n",
            "Selected the least common denominator for aggregation (3) with a frequency of 0.0625.\n",
            "Reduced 1281 columns to 328 columns.\n",
            "23.0% reduced noise using a threshold of 900%.\n",
            "Columns selected [0, 1, 2, 3, 4, 5, 6, 7, 8, 9, 10, 11, 12, 13, 14, 15, 16, 17, 18, 19, 20, 21, 22, 23, 24, 25, 26, 27, 28, 29, 30, 31, 32, 33, 34, 35, 36, 37, 38, 39, 40, 41, 42, 43, 44, 45, 46, 47, 48, 49, 50, 56, 57, 58, 59, 60, 61, 69, 70, 71, 72, 73, 74, 75, 76, 77, 80, 81, 82, 88, 89, 90, 91, 92, 93, 94, 95, 96, 97, 98, 99, 100, 101, 102, 103, 104, 105, 106, 110, 111, 112, 116, 117, 118, 119, 120, 121, 123, 124, 125, 126, 127, 128, 129, 130, 133, 134, 135, 136, 137, 138, 139, 140, 143, 144, 145, 146, 147, 148, 149, 150, 151, 152, 153, 154, 155, 156, 157, 158, 159, 168, 169, 170, 171, 172, 173, 174, 175, 176, 177, 178, 179, 180, 185, 186, 187, 188, 189, 190, 191, 192, 193, 194, 195, 196, 198, 199, 203, 204, 205, 210, 211, 212, 213, 214, 215, 216, 217, 218, 219, 220, 221, 222, 223, 224, 225, 226, 227, 228, 229, 230, 231, 232, 233, 234, 235, 236, 237, 238, 239, 240, 241, 242, 244, 245, 246, 258, 259, 260, 263, 264, 265, 266, 267, 272, 273, 274, 275, 276, 277, 279, 280, 281, 282, 288, 289, 291, 292, 297, 298, 300, 301, 302, 303, 304, 305, 306, 307, 308, 309, 310, 311, 312, 313, 314, 315, 317, 318, 319, 320, 321, 322, 323, 324, 330, 331, 332, 333, 334, 335, 336, 337, 338, 339, 340, 341, 342, 343, 344, 347, 348, 349, 351, 352, 353, 358, 359, 360, 361, 362, 363, 364, 365, 366, 367, 368, 369, 370, 371, 374, 375, 376, 377, 380, 381, 383, 384, 385, 386, 387, 388, 389, 390, 391, 392, 393, 394, 395, 396, 397, 398, 399, 400, 401, 402, 403, 404, 405, 406, 407, 408, 409, 410, 411, 412, 413, 414, 415, 416, 417, 418, 419, 420, 421, 422, 423, 424, 425]\n",
            "\n",
            "\n"
          ]
        }
      ]
    },
    {
      "cell_type": "code",
      "source": [
        "df_store_model = {}\n",
        "\n",
        "#Actual values\n",
        "y_actual = df_qpsk['#node'].to_numpy()\n",
        "# Predicition\n",
        "y_pred = []\n",
        "#df = pd.DataFrame.from_dict(df_store_sample['Node_1'])\n",
        "for k_model, df_model in df_store_model.items():\n",
        "  # Model df\n",
        "  left_model_df = pd.DataFrame.from_dict(df_store_model[k_model][0])\n",
        "  rigth_model_df = pd.DataFrame.from_dict(df_store_model[k_model][1]) \n",
        "\n",
        "  for k_sample, df_sample in df_store_sample.items():\n",
        "    # Sample df\n",
        "    \n",
        "    left_sample_df = pd.DataFrame.from_dict(df_store_sample[k][0])\n",
        "    rigth_sample_df = pd.DataFrame.from_dict(df_store_sample[k][1])\n",
        "    \n",
        "    y_actual.append()\n",
        "\n",
        "\n",
        "\n",
        "  # Get linear regresion features\n",
        "  combined_features_dict, r_sqr_val, intercept_val, slope_val = linear_regresion(node_df_left, node_df_right, model_node_row_left, model_node_row_right)\n",
        "\n",
        "\n",
        "  # Get linear regresion features\n",
        "  combined_features_dict, r_sqr_val, intercept_val, slope_val = linear_regresion(node_df_left, node_df_right, model_node_row_left, model_node_row_right)\n",
        "  features_combined_dict['Node_'+str(node)] = combined_features_dict"
      ],
      "metadata": {
        "id": "FbilZuO3D-QF"
      },
      "execution_count": null,
      "outputs": []
    },
    {
      "cell_type": "code",
      "source": [
        "y_pred = []\n",
        "\n",
        "r_sqr_sample = []\n",
        "for k_sample, df_sample in df_store_sample.items():\n",
        "  print(df_sample)\n",
        "  left_sample_df = pd.DataFrame.from_dict(df_store_sample[k_sample][0])\n",
        "  rigth_sample_df = pd.DataFrame.from_dict(df_store_sample[k_sample][1])\n",
        "  display(left_sample_df)\n",
        "  for row in left_sample_df.rows:\n",
        "    print(row)\n"
      ],
      "metadata": {
        "id": "nJLxftKeA7fX",
        "outputId": "1314dc08-3966-469b-c534-be25b0ed391b",
        "colab": {
          "base_uri": "https://localhost:8080/",
          "height": 795
        }
      },
      "execution_count": 305,
      "outputs": [
        {
          "output_type": "stream",
          "name": "stdout",
          "text": [
            "[{'sampleid': {0: 1, 1: 2, 2: 3, 3: 4, 4: 5, 5: 6, 6: 7, 7: 8, 8: 9, 9: 10}, 'Channels': {0: 1, 1: 1, 2: 1, 3: 1, 4: 1, 5: 1, 6: 1, 7: 1, 8: 1, 9: 1}, 'Distance_km': {0: 0, 1: 0, 2: 0, 3: 0, 4: 0, 5: 0, 6: 0, 7: 0, 8: 0, 9: 0}, 'power_dBm': {0: -2, 1: -2, 2: -2, 3: -2, 4: -2, 5: -2, 6: -2, 7: -2, 8: -2, 9: -2}, '#node': {0: 1, 1: 1, 2: 1, 3: 1, 4: 1, 5: 1, 6: 1, 7: 1, 8: 1, 9: 1}, -19.90625: {0: -52.30302910666666, 1: -47.886430553333334, 2: -53.413052670000006, 3: -55.41603362666666, 4: -51.35781101, 5: -56.986202876666674, 6: -55.11041624333333, 7: -57.65437471333333, 8: -51.08267091, 9: -55.317702080000004}, -19.8125: {0: -53.43767922666667, 1: -53.553004423333334, 2: -53.552340163333334, 3: -53.264733019999994, 4: -61.24936237666666, 5: -53.92184097333333, 6: -51.25233923, 7: -52.514824696666665, 8: -60.467224269999996, 9: -50.91506339}, -19.71875: {0: -50.901201746666665, 1: -49.61645150999999, 2: -52.206134829999996, 3: -49.149457013333326, 4: -59.68517341333333, 5: -52.21144017666666, 6: -52.89276228, 7: -58.159758466666666, 8: -50.60290309333334, 9: -48.68531022}, -19.625: {0: -52.72459962, 1: -52.110424169999995, 2: -49.552357866666675, 3: -55.53819162333334, 4: -52.608526876666666, 5: -60.496579026666666, 6: -52.19898886666667, 7: -53.38350154, 8: -51.00609703666667, 9: -47.43569788333334}, -19.53125: {0: -55.60573355666667, 1: -52.939462600000006, 2: -50.531194500000005, 3: -50.38326895, 4: -52.05330519, 5: -51.77229667666666, 6: -60.473596719999996, 7: -54.63384091, 8: -58.76086723666666, 9: -52.55306892666666}, -19.4375: {0: -56.926784956666665, 1: -48.57631782666667, 2: -54.130848333333326, 3: -49.41417378, 4: -61.5912438, 5: -51.21336804999999, 6: -55.64691673000001, 7: -50.58826764333333, 8: -49.58262179, 9: -52.82194970333334}, -19.34375: {0: -52.08183054333333, 1: -53.92014956, 2: -52.85802812666666, 3: -54.29956202333333, 4: -52.26957611, 5: -54.15841806, 6: -55.162928756666666, 7: -50.64459536333334, 8: -59.60309489, 9: -53.14072343}, -19.25: {0: -59.79122084666667, 1: -50.616971299999996, 2: -50.71424793333333, 3: -51.24084107333334, 4: -53.26858077333333, 5: -54.39090533666666, 6: -56.49499285666667, 7: -54.65191136000001, 8: -53.31028505333333, 9: -56.412169703333326}, -19.15625: {0: -51.14052998333333, 1: -54.39559383333333, 2: -52.31463519, 3: -54.13805081, 4: -58.17424956, 5: -53.86600658333333, 6: -54.795799810000005, 7: -49.63782629333334, 8: -59.700911526666665, 9: -46.09481091}, -19.0625: {0: -53.28293694333333, 1: -57.69133375333333, 2: -50.07219838666666, 3: -51.058980459999994, 4: -53.675875829999995, 5: -62.31899159333333, 6: -57.13023019666667, 7: -49.477588723333334, 8: -52.88301335333333, 9: -50.457256496666666}, -18.96875: {0: -65.17138185666666, 1: -50.868488523333326, 2: -53.74238982333333, 3: -49.22806507333334, 4: -52.60423575666667, 5: -51.55701287333333, 6: -53.14547864333333, 7: -52.44659028666666, 8: -51.85428351666667, 9: -53.60266460666667}, -18.875: {0: -50.61843905333333, 1: -52.59623915333333, 2: -51.123665286666665, 3: -50.25377184333333, 4: -51.38953851, 5: -61.16425872666667, 6: -56.14556265666666, 7: -55.87426093333334, 8: -52.60646439666667, 9: -50.11132022333334}, -18.3125: {0: -51.46959222666666, 1: -51.500048959999994, 2: -58.930829440000004, 3: -56.37946780666667, 4: -51.10963566666667, 5: -53.95633691666666, 6: -59.101280906666666, 7: -54.74728408666667, 8: -50.60592458666667, 9: -54.09480827333332}, -18.21875: {0: -50.37193310666667, 1: -50.74286906333333, 2: -49.79993169333333, 3: -52.696768590000005, 4: -59.66392783, 5: -56.004878139999995, 6: -56.85855125333333, 7: -51.623534766666666, 8: -56.49149034333333, 9: -50.25870816333333}, -18.125: {0: -65.33102483333333, 1: -50.64238119666667, 2: -57.18991616333333, 3: -50.61593468333333, 4: -53.71993307, 5: -58.436357883333336, 6: -46.87733947, 7: -57.117714103333334, 8: -53.43715703, 9: -48.96013401333334}, -18.03125: {0: -55.43632473666667, 1: -49.315257196666664, 2: -53.19634697666666, 3: -55.937113653333334, 4: -48.56639036333333, 5: -51.00907462666667, 6: -62.59572510666667, 7: -52.28478826666666, 8: -51.18837636, 9: -50.824207933333334}, -17.9375: {0: -52.58985033333334, 1: -48.556118983333334, 2: -52.12882649, 3: -62.82344987333334, 4: -55.52215906666667, 5: -49.92226233, 6: -55.74245222, 7: -57.672706833333336, 8: -52.605075279999994, 9: -52.484419593333335}, -17.84375: {0: -48.19654456000001, 1: -53.420817150000005, 2: -50.29499715, 3: -50.60372209, 4: -55.257675, 5: -53.953581676666666, 6: -53.3616044, 7: -50.58860428333333, 8: -57.20685729666666, 9: -45.76339374666667}, -17.5625: {0: -55.545809313333336, 1: -49.63936507666667, 2: -54.52318660666666, 3: -50.854409483333335, 4: -54.52518633333333, 5: -60.45596943666666, 6: -60.90896781, 7: -56.79844956333333, 8: -54.894966536666665, 9: -48.45208039}, -17.46875: {0: -53.06106823, 1: -51.901493403333326, 2: -52.542501429999994, 3: -59.07487393, 4: -51.34442979666667, 5: -50.685880723333334, 6: -56.598192833333336, 7: -48.98511887, 8: -53.988889013333335, 9: -51.60556728}, -17.28125: {0: -58.78131445, 1: -49.194770956666666, 2: -52.67800898666667, 3: -55.90563751333334, 4: -54.97093875666667, 5: -48.64173765, 6: -63.040676770000005, 7: -53.299002556666665, 8: -63.689056073333326, 9: -49.37848635666668}, -17.1875: {0: -49.816080723333336, 1: -51.95044908333333, 2: -49.13475513666666, 3: -53.09730368666667, 4: -53.154656636666665, 5: -51.45944894666667, 6: -59.287616293333336, 7: -53.93338667999999, 8: -52.26664152000001, 9: -54.05569039333333}, -17.09375: {0: -48.77252609666667, 1: -57.580086136666665, 2: -51.77735932666667, 3: -50.36937264333333, 4: -52.39999405333333, 5: -53.08841269333333, 6: -53.060505033333335, 7: -52.10960338666666, 8: -62.11448797, 9: -49.97743654666667}, -17.0: {0: -54.74268522, 1: -47.42306864, 2: -55.51990645666666, 3: -52.36529506, 4: -48.65648624, 5: -52.739716226666665, 6: -51.373729919999995, 7: -52.18411877333333, 8: -51.14624165666666, 9: -53.63273064}, -16.90625: {0: -36.65662819333333, 1: -42.42471754333334, 2: -40.33134462666666, 3: -39.68985717666666, 4: -45.33255013000001, 5: -41.52721175, 6: -36.747315523333334, 7: -41.99527561333333, 8: -45.73834735, 9: -41.4409038}, -16.8125: {0: -34.301675493333335, 1: -29.481013269999995, 2: -38.506596376666664, 3: -34.29985601666667, 4: -39.64741983333333, 5: -31.069216483333335, 6: -37.66731642, 7: -31.39027238, 8: -36.32470394333333, 9: -33.926952199999995}, -16.71875: {0: -33.08356680666666, 1: -24.382116716666662, 2: -31.785990330000004, 3: -27.85093607666667, 4: -36.96803278, 5: -28.2506824, 6: -31.09747300666667, 7: -33.17624742, 8: -31.78121283666667, 9: -27.956035646666663}, -16.34375: {0: -21.772288713333335, 1: -22.168624933333334, 2: -20.16114317, 3: -31.77821284, 4: -23.10855322, 5: -24.363672236666662, 6: -24.62347936, 7: -25.989796213333335, 8: -33.023409093333335, 9: -19.952130723333333}, -16.25: {0: -23.551299393333334, 1: -25.833631323333332, 2: -20.352621403333334, 3: -20.8252183, 4: -23.056099470000003, 5: -22.016651423333332, 6: -18.020192626666667, 7: -21.024323629999998, 8: -17.60751108, 9: -19.6489278}, -16.15625: {0: -24.010749213333337, 1: -17.71962007, 2: -14.846203956666665, 3: -21.495827626666667, 4: -21.680828509999998, 5: -20.186791653333334, 6: -20.744150146666666, 7: -25.041855440000003, 8: -21.724164023333334, 9: -12.975397848666667}, -16.0625: {0: -20.774857733333334, 1: -22.39204183, 2: -28.81020726, 3: -19.527135776666668, 4: -21.19778219, 5: -20.07859286, 6: -21.685055713333337, 7: -25.26250407666667, 8: -23.15949984, 9: -15.147374013333334}, -15.96875: {0: -18.269170740000003, 1: -20.01323302333333, 2: -17.10986396, 3: -17.720708813333335, 4: -20.031473066666667, 5: -16.639598016666667, 6: -18.88625598666667, 7: -18.912127950000002, 8: -18.316488016666668, 9: -21.567615466666666}, -15.875: {0: -16.79971197, 1: -19.575070123333333, 2: -21.132872313333333, 3: -11.071729448, 4: -17.315448436666667, 5: -20.144978146666666, 6: -17.567805223333334, 7: -19.010681766666668, 8: -17.184360143333336, 9: -23.051195119333332}, -15.59375: {0: -13.541390913333336, 1: -13.627892667666666, 2: -15.221253026666668, 3: -14.476271505666668, 4: -16.295106623333336, 5: -12.469358218666665, 6: -17.993932843333333, 7: -19.007457556666665, 8: -13.500887183333333, 9: -16.01611103666667}, -15.5: {0: -16.989173543333333, 1: -27.20510498666667, 2: -20.497072173333333, 3: -22.76294214666667, 4: -26.51307995, 5: -10.18290448, 6: -19.195238556666666, 7: -17.991802133333334, 8: -12.795220215333332, 9: -15.628142613333333}, -15.40625: {0: -17.60622392, 1: -12.394200033333334, 2: -20.022130200000003, 3: -12.773656066666668, 4: -12.111681641999999, 5: -19.15613121, 6: -12.630871698999998, 7: -12.690902343, 8: -17.503013856666666, 9: -17.040162653333336}, -15.3125: {0: -18.771133406666667, 1: -15.322608440000002, 2: -21.791012453333334, 3: -15.666626951666665, 4: -19.29021613, 5: -18.636579010000002, 6: -16.314447573333336, 7: -12.944495853333335, 8: -15.658331449999999, 9: -16.050011256999998}, -14.75: {0: -17.132463926666667, 1: -10.86330529, 2: -11.417973635666668, 3: -11.992616840666669, 4: -13.763392703333333, 5: -21.477733689999997, 6: -19.32757144333333, 7: -14.131322076666669, 8: -13.922678716666667, 9: -15.436408129999998}, -14.65625: {0: -15.033144966666667, 1: -8.489278237, 2: -15.259702483333333, 3: -12.340572183666666, 4: -13.101658409999999, 5: -18.70315951266667, 6: -12.568074809999999, 7: -10.095559667666668, 8: -11.672212844333332, 9: -11.429966743333333}, -13.53125: {0: -14.28868277, 1: -12.851267439666666, 2: -11.946910254333332, 3: -12.798573020000001, 4: -15.398807589999999, 5: -16.6934165, 6: -12.971462326666668, 7: -7.491857517333333, 8: -8.898338894666667, 9: -16.652417216666667}, -13.4375: {0: -10.552762428, 1: -13.545701549999999, 2: -8.807484137666666, 3: -7.9412465606666665, 4: -21.085913356666666, 5: -11.064806976666667, 6: -10.513438753, 7: -11.888633491333332, 8: -20.52951734, 9: -15.506522993333334}, -13.0625: {0: -16.36439289, 1: -8.533089266333333, 2: -10.537330341333332, 3: -17.705204206, 4: -12.267540903000002, 5: -14.447653653333333, 6: -12.786629765999999, 7: -12.089035051000002, 8: -10.287574077, 9: -19.175414156666665}, -12.96875: {0: -13.924841981, 1: -20.008471976666666, 2: -11.026143051333333, 3: -6.268487944, 4: -10.395227327999999, 5: -11.668431978333333, 6: -18.29385995333333, 7: -17.23320046666667, 8: -13.486618704333333, 9: -9.713678745666666}, -12.875: {0: -13.399626640000001, 1: -9.353598838, 2: -9.346452489999999, 3: -13.604959233333332, 4: -13.75705437, 5: -12.913400506666667, 6: -13.566872230000001, 7: -22.440905996666668, 8: -9.64800265, 9: -11.301220863}, -12.78125: {0: -17.85655561333333, 1: -13.934919925666668, 2: -9.343710112333333, 3: -16.790888263666666, 4: -11.452938295000001, 5: -9.494739569666667, 6: -23.259260746666666, 7: -11.728091606666666, 8: -15.417511536666666, 9: -14.553532917666667}, -12.6875: {0: -12.857352896666667, 1: -10.335184021666667, 2: -11.317795017333333, 3: -13.308389888, 4: -14.298295303333333, 5: -10.645289924, 6: -15.138874933333334, 7: -8.111455956333332, 8: -12.279801415000001, 9: -9.789104608}, -12.5: {0: -13.878639226333334, 1: -17.99660834, 2: -9.401830452, 3: -12.381067657000001, 4: -10.321449022, 5: -9.160430369666667, 6: -22.19430894333333, 7: -6.826450105666666, 8: -14.724914677666668, 9: -11.697874267666668}, -12.40625: {0: -13.110275548999999, 1: -12.126627863333333, 2: -13.098135266333331, 3: -11.874470398, 4: -20.403402396666667, 5: -9.04604013, 6: -14.910513266666667, 7: -8.556282113333333, 8: -13.506610793333332, 9: -7.415771311}, -12.3125: {0: -15.24708948, 1: -10.636009152000002, 2: -13.285879890666665, 3: -9.112190429333333, 4: -14.191740125333334, 5: -11.062758773, 6: -17.219871136666665, 7: -11.075465009666667, 8: -12.606359684666666, 9: -14.666163617333334}, -11.75: {0: -12.556332133333333, 1: -11.421082904999999, 2: -11.001226898666667, 3: -12.216176663666667, 4: -16.117554565000002, 5: -12.337024044000001, 6: -14.309689343333332, 7: -15.966427093333335, 8: -7.848025699333334, 9: -14.149509879333332}, -11.65625: {0: -15.465249175333334, 1: -7.820558138, 2: -10.048439347333334, 3: -20.961915456666667, 4: -10.910153968333333, 5: -7.622343267333334, 6: -18.045488253333335, 7: -7.558348903, 8: -13.628716619666667, 9: -8.509740544666666}, -11.5625: {0: -15.662051499, 1: -13.320415877000002, 2: -13.506220939, 3: -7.833938312666667, 4: -9.325436462, 5: -9.123112960999999, 6: -21.60110405, 7: -11.513373892666669, 8: -6.314964250666667, 9: -7.423407199333333}, -11.46875: {0: -14.906852519000003, 1: -10.067398284333335, 2: -5.591234797666666, 3: -11.906089909666667, 4: -13.780912246, 5: -9.81288089, 6: -10.080149474333334, 7: -11.850948571333333, 8: -15.312769723, 9: -8.709952518666666}, -11.375: {0: -9.594060232333334, 1: -11.918490112999999, 2: -16.74370432666667, 3: -12.268968899999999, 4: -12.354658372666668, 5: -8.823846621333333, 6: -8.544468064666667, 7: -6.210749773333333, 8: -17.762356776666667, 9: -7.080319760333334}, -11.28125: {0: -16.235417913333333, 1: -8.331056827666666, 2: -15.768120363333333, 3: -9.557091825666667, 4: -13.645950419333333, 5: -10.063450961333333, 6: -15.815414296666667, 7: -14.752399298, 8: -9.640760907999999, 9: -11.685813023}, -11.1875: {0: -10.757204812333335, 1: -10.189607193666667, 2: -12.851529913, 3: -9.455699333333333, 4: -11.510245201999998, 5: -10.643835846, 6: -15.439465989333334, 7: -16.22476845466667, 8: -10.781836296333333, 9: -12.687553436666667}, -11.09375: {0: -15.372810883333335, 1: -9.885161356333334, 2: -8.931427632, 3: -8.950630817666665, 4: -11.928619763333336, 5: -13.595946313333334, 6: -20.362478336666666, 7: -7.497555813666668, 8: -16.741980884333334, 9: -10.09553926}, -11.0: {0: -14.642492184, 1: -16.464064081666667, 2: -8.175025890666667, 3: -11.972624311666666, 4: -10.637429878, 5: -20.708769709333335, 6: -8.748716098000001, 7: -12.942216008333332, 8: -8.656963079333334, 9: -15.798198246666665}, -10.90625: {0: -15.260071680000001, 1: -11.934258419666667, 2: -8.958968480333334, 3: -19.64622015233333, 4: -12.788659177, 5: -10.176920853, 6: -12.334564043999999, 7: -8.871827372666667, 8: -15.062125486333331, 9: -10.476579769333332}, -10.8125: {0: -9.459620646333333, 1: -6.864197067666666, 2: -12.939820546666667, 3: -4.808968734, 4: -11.419427650333333, 5: -14.492622146666667, 6: -12.133911272, 7: -10.949113463666665, 8: -9.551426140666669, 9: -6.622633220000001}, -10.71875: {0: -16.258411960333333, 1: -17.324731209666666, 2: -9.642897795333333, 3: -6.430954881333334, 4: -16.930076011666667, 5: -12.531978138999998, 6: -18.443786796666668, 7: -10.874209295333335, 8: -9.720075229333332, 9: -11.516897364333333}, -10.625: {0: -7.562131482000001, 1: -15.744430029, 2: -8.694563179333334, 3: -13.815656826666666, 4: -16.058151678333335, 5: -13.136959692333333, 6: -7.882982369, 7: -13.111237438666668, 8: -6.416252485, 9: -13.795491386333333}, -10.53125: {0: -11.694500329999999, 1: -11.227820034666665, 2: -10.930405770333332, 3: -11.182274035666666, 4: -11.545136703333334, 5: -11.268556874, 6: -12.574871874000001, 7: -11.908571910333334, 8: -12.269866608333333, 9: -8.384900998}, -10.4375: {0: -6.155047294333333, 1: -14.600649139, 2: -13.014554984999998, 3: -7.854932852, 4: -9.177302894666665, 5: -10.996991462333334, 6: -15.123719451000001, 7: -6.717441091, 8: -10.088511904666667, 9: -6.187116662666668}, -10.34375: {0: -11.378609372999998, 1: -9.482389827333334, 2: -8.953749306666666, 3: -14.764119672666666, 4: -12.851467517333333, 5: -8.603075725666667, 6: -8.132530924000001, 7: -9.168427449333334, 8: -14.556614146666668, 9: -20.207399113333334}, -10.25: {0: -23.22378259333333, 1: -5.804193251000001, 2: -8.303127339666666, 3: -7.545852758666666, 4: -19.181923769666668, 5: -9.577401959333335, 6: -14.318001033333333, 7: -12.916121259999999, 8: -12.437110435333333, 9: -8.915505455333333}, -10.15625: {0: -15.053487316666667, 1: -14.534513850000002, 2: -5.383832245333333, 3: -10.167559459666668, 4: -17.31935180666667, 5: -10.222624172666666, 6: -9.911072961666667, 7: -5.922782389000001, 8: -7.383004643666666, 9: -12.661001428666665}, -10.0625: {0: -13.968926422333334, 1: -9.820946960333334, 2: -14.954577970666667, 3: -8.341420433666666, 4: -10.209462450333334, 5: -13.021051335333334, 6: -16.692568836666666, 7: -14.746375980000002, 8: -7.770713011000001, 9: -12.136334161}, -9.6875: {0: -10.190413667, 1: -10.851740886, 2: -11.737196816666668, 3: -21.484154686666667, 4: -11.640057047, 5: -14.990219336666668, 6: -16.514193521, 7: -8.603129568333335, 8: -12.006114988333332, 9: -12.345370556066664}, -9.59375: {0: -19.16972760666667, 1: -13.212758453666666, 2: -9.165338171, 3: -11.117181856, 4: -12.382054335333335, 5: -9.711849137, 6: -10.858571509999999, 7: -8.010783193333333, 8: -17.375678103333332, 9: -5.741816834666667}, -9.5: {0: -13.493015026, 1: -7.633220423, 2: -5.211598275, 3: -14.42640618, 4: -13.162158783000002, 5: -5.712629393, 6: -13.663042680666669, 7: -15.467045143333332, 8: -12.425809143333334, 9: -9.868782530666666}, -9.125: {0: -14.187790419999999, 1: -8.995498499333332, 2: -6.962775027999999, 3: -11.089828769333332, 4: -16.689227608333333, 5: -10.353412141333333, 6: -13.057007086333334, 7: -11.981407658, 8: -13.124997253666665, 9: -14.089543976}, -9.03125: {0: -14.668197628666666, 1: -8.643659791333333, 2: -8.064225463666666, 3: -15.050324246666667, 4: -19.202801920000002, 5: -10.250101682333332, 6: -10.768016505333334, 7: -24.66079182333333, 8: -6.797850034, 9: -8.874663652666667}, -8.9375: {0: -13.699789783333332, 1: -12.222832186666666, 2: -14.97613287, 3: -10.448820265666667, 4: -8.968879718333334, 5: -11.697105693333334, 6: -13.470253210000001, 7: -14.82378946, 8: -11.142270616, 9: -9.049962877666667}, -8.84375: {0: -16.588498896666668, 1: -7.924510040666665, 2: -13.980457103666668, 3: -8.594831601333334, 4: -11.400416393333336, 5: -9.525850383333335, 6: -9.577498833, 7: -14.417487943333333, 8: -14.730248385333335, 9: -14.15084787}, -8.75: {0: -7.334360152333335, 1: -13.743995643333333, 2: -14.256583132666668, 3: -11.157980946, 4: -10.273617256, 5: -13.811871476666667, 6: -13.483471330666667, 7: -15.412123822333333, 8: -14.767357741333333, 9: -13.269891542000002}, -8.65625: {0: -10.600939375333335, 1: -12.440164952666668, 2: -11.529587616666667, 3: -7.6222980940000005, 4: -16.413297233999998, 5: -6.130154161, 6: -13.156640679666666, 7: -14.032685914, 8: -9.874754201666667, 9: -7.709828020333333}, -8.46875: {0: -11.360304074, 1: -17.495762199999998, 2: -19.815770053999998, 3: -14.709199633000003, 4: -16.589365824, 5: -9.432460315, 6: -9.488690463, 7: -13.495876283333333, 8: -14.735775573333333, 9: -11.811649254333334}, -8.375: {0: -13.762026240000003, 1: -7.740943246666667, 2: -13.797862206666666, 3: -6.080224840666666, 4: -19.678319443333333, 5: -14.428473697666666, 6: -13.7469587, 7: -5.923953907666665, 8: -10.74207896, 9: -14.788591003333332}, -8.28125: {0: -19.388483891333333, 1: -9.032138996, 2: -6.728367312333333, 3: -14.493464443333332, 4: -7.578952739666666, 5: -14.157824825, 6: -10.746190255666667, 7: -6.542048123666667, 8: -12.607398575666666, 9: -10.213766786333332}, -8.1875: {0: -11.862889788666665, 1: -13.559453566333334, 2: -7.320193108333334, 3: -10.548593687666667, 4: -11.465098904000001, 5: -10.347583406, 6: -10.405065702666667, 7: -8.234087214, 8: -8.578430471333332, 9: -11.840035171000002}, -8.09375: {0: -11.773270253333335, 1: -6.916214112, 2: -7.841834018, 3: -13.436119256666666, 4: -9.103852292000001, 5: -11.031599899666666, 6: -13.412715751, 7: -12.386458743666665, 8: -8.768348655999999, 9: -10.791571848666669}, -8.0: {0: -11.699386033333333, 1: -7.921194443666667, 2: -16.710080456666663, 3: -8.177300356333333, 4: -11.340041273666666, 5: -9.890018794000001, 6: -17.59673420333333, 7: -9.036125883999999, 8: -16.74387073666667, 9: -7.919487703333334}, -7.90625: {0: -13.364114603333332, 1: -17.081841224666665, 2: -10.676787902666668, 3: -12.036203150666665, 4: -13.817394317666666, 5: -5.832658967666667, 6: -14.700386306666667, 7: -13.695634106666667, 8: -9.009297407666667, 9: -12.012272312999999}, -7.8125: {0: -10.374262829333333, 1: -15.900333816666667, 2: -9.682356304, 3: -6.602822312000001, 4: -11.784575899666669, 5: -8.061852297333333, 6: -13.342183730000002, 7: -11.397643710000002, 8: -7.828060141000001, 9: -10.945221440333334}, -7.53125: {0: -16.51035366, 1: -11.688408066333333, 2: -12.669417129333333, 3: -15.676729876666668, 4: -17.704156810666667, 5: -9.134753226, 6: -9.276945702666668, 7: -9.214430510666668, 8: -6.430976306666667, 9: -13.167843570666667}, -7.4375: {0: -13.834450258333334, 1: -9.872420127333333, 2: -12.819561212000002, 3: -10.295109398666666, 4: -7.116884103666667, 5: -5.3662448466666675, 6: -15.978201481666668, 7: -10.346404431, 8: -17.198102092333333, 9: -18.700231168333335}, -7.34375: {0: -13.319863056666668, 1: -10.581476272333335, 2: -8.481126807666667, 3: -12.028345021, 4: -16.735555123333334, 5: -15.494193446333334, 6: -11.924288765333335, 7: -12.679903569999999, 8: -8.780316166, 9: -9.124454095333332}, -7.25: {0: -9.539993188666667, 1: -8.168652476666667, 2: -6.818531216666666, 3: -12.19480921, 4: -10.945675722333334, 5: -12.355606174666667, 6: -12.588090633333335, 7: -10.396099138666665, 8: -11.908597260999999, 9: -8.127067182666666}, -7.15625: {0: -11.210204868, 1: -12.972119236666666, 2: -10.161224339666667, 3: -11.658411175333335, 4: -12.419670863333332, 5: -6.686206055333333, 6: -13.400043186666666, 7: -10.626439644666668, 8: -14.185197436666664, 9: -12.150737526666667}, -7.0625: {0: -13.84621556, 1: -7.6654298003333325, 2: -18.574182828999998, 3: -8.465829482333334, 4: -10.674468919333334, 5: -15.98179983, 6: -8.482162967333332, 7: -17.014762066666666, 8: -12.666782410000001, 9: -10.083850913333332}, -6.96875: {0: -9.544713755666667, 1: -8.443691451333335, 2: -12.821386243333334, 3: -8.150384205, 4: -12.345681135666666, 5: -12.180894941333335, 6: -18.151199456666667, 7: -10.718873015666667, 8: -10.320032332, 9: -5.838045246}, -6.875: {0: -13.946554272333335, 1: -11.769816812333334, 2: -7.338865237333333, 3: -10.96274697, 4: -9.441811405666668, 5: -8.531337921666667, 6: -11.685474835333332, 7: -11.902809522, 8: -8.659463685666667, 9: -12.610640965}, -6.5: {0: -13.889161083333335, 1: -8.056473964, 2: -12.60569695, 3: -12.401761751666667, 4: -12.407746061, 5: -7.7908393626666665, 6: -9.10114283, 7: -8.650399142333333, 8: -14.383687463333333, 9: -7.735158143333334}, -6.40625: {0: -7.756009912333333, 1: -9.951197984666665, 2: -7.4720380046666675, 3: -10.559889551333333, 4: -11.956999817333333, 5: -13.388518122999999, 6: -12.505745376666667, 7: -9.236615713333334, 8: -13.288122978333334, 9: -10.912414966666669}, -6.3125: {0: -12.565290648333331, 1: -8.300097013333332, 2: -18.211119736666664, 3: -19.266807833333335, 4: -11.183048756666667, 5: -13.036412632333333, 6: -14.745717407333336, 7: -6.8294289563333335, 8: -14.581709636666668, 9: -16.390434886666668}, -6.21875: {0: -13.419530883333335, 1: -9.516947160666668, 2: -13.351611100333335, 3: -9.235282978999999, 4: -9.891655335666668, 5: -12.862928554333331, 6: -16.284174833333335, 7: -11.411417537, 8: -16.731363505333334, 9: -9.420426807666667}, -6.125: {0: -15.181164333333333, 1: -6.510108413333334, 2: -12.573162270666666, 3: -7.389427995999999, 4: -14.70476042, 5: -10.715894604, 6: -12.431072579, 7: -13.522693266, 8: -9.342168531333334, 9: -6.634336134333334}, -6.03125: {0: -8.696192751, 1: -10.390962835666667, 2: -11.529295327, 3: -5.060523093, 4: -9.384676179333333, 5: -14.163576474333333, 6: -11.611396944, 7: -8.517748171333333, 8: -10.881709419000002, 9: -4.6618318143333335}, -5.9375: {0: -10.811698819, 1: -10.079661056, 2: -11.597666641666668, 3: -15.077508710666669, 4: -7.797917303999999, 5: -9.865507150333334, 6: -15.665822151666665, 7: -13.593085552333333, 8: -7.848000731666666, 9: -10.042103641999999}, -5.84375: {0: -13.422024149333334, 1: -9.665752987666666, 2: -6.338842109000001, 3: -15.910474063, 4: -15.112234885000001, 5: -7.241179066333333, 6: -10.64035146, 7: -10.898786022333333, 8: -11.069470107666666, 9: -8.963798491}, -5.75: {0: -6.86567982, 1: -7.568544834, 2: -6.074402434333334, 3: -7.831867191333333, 4: -9.440885458333334, 5: -6.582585714333334, 6: -14.175213836666666, 7: -9.764227669666667, 8: -20.104935289999997, 9: -7.1980036033333334}, -5.65625: {0: -18.015254891333335, 1: -5.167913762666667, 2: -7.588243392333332, 3: -6.498639830999999, 4: -11.376443728, 5: -10.943347566333335, 6: -9.889978814666668, 7: -13.425658729333334, 8: -10.866173482666667, 9: -13.482233479}, -5.5625: {0: -10.361835414333333, 1: -9.16421728, 2: -16.585998289333332, 3: -12.135778150999998, 4: -16.137146486666666, 5: -7.107138269000001, 6: -13.31305337, 7: -18.02028539, 8: -11.014426742666666, 9: -11.674158151333332}, -5.46875: {0: -8.807063637333334, 1: -10.583529172333334, 2: -7.173763726333334, 3: -9.543667392333333, 4: -15.14935484, 5: -16.193661756, 6: -14.51204656, 7: -15.521497703333333, 8: -20.844600833333335, 9: -5.274708847333333}, -5.375: {0: -8.4811342, 1: -11.034276249333333, 2: -8.803939343666666, 3: -8.822145603666668, 4: -13.221226495333333, 5: -10.508591889, 6: -13.872708350000002, 7: -13.040844723666666, 8: -4.537810358, 9: -7.838593125}, -5.28125: {0: -11.129826550333334, 1: -14.17612684, 2: -8.313949396, 3: -14.851029936666668, 4: -12.845752288666665, 5: -10.158295842333333, 6: -9.725281626333333, 7: -8.922145323666667, 8: -16.532567243333332, 9: -15.02340747}, -5.1875: {0: -12.332117207000001, 1: -5.805987188666667, 2: -9.490159185000001, 3: -8.912209180333335, 4: -9.545853695, 5: -11.867469886666667, 6: -13.647478256333335, 7: -7.358231356, 8: -7.504923000333334, 9: -12.019606402666668}, -5.09375: {0: -9.051370548, 1: -8.377463062666665, 2: -12.688113328, 3: -9.270955304333333, 4: -17.3969039, 5: -10.304327713999998, 6: -11.600364435666668, 7: -9.983569895333334, 8: -19.78529032333333, 9: -7.545307181000001}, -5.0: {0: -17.32341427, 1: -6.085359756, 2: -13.082671261999998, 3: -9.027257461666666, 4: -14.33172133, 5: -5.129669894333333, 6: -12.868023864333333, 7: -14.240577293666666, 8: -10.710638346333333, 9: -14.181743554333332}, -4.25: {0: -9.06780692, 1: -10.265218118566667, 2: -11.009656738666665, 3: -16.042899289999998, 4: -7.019374709666667, 5: -22.74916852, 6: -18.324709206666668, 7: -13.211848649666669, 8: -13.862521837000001, 9: -9.339059837666667}, -4.15625: {0: -25.001764780000002, 1: -13.146968036333334, 2: -5.756310674999999, 3: -11.348298784999999, 4: -16.195465076666668, 5: -7.556922948, 6: -11.811896402333332, 7: -9.225272914666666, 8: -16.202285506666666, 9: -9.304821367333334}, -4.0625: {0: -13.650686679666668, 1: -9.149965453666667, 2: -10.023554635666667, 3: -6.502543183, 4: -7.676897654333334, 5: -12.684982817333333, 6: -10.915650309666667, 7: -9.079057700666668, 8: -11.629500720333333, 9: -10.148547297666667}, -3.96875: {0: -9.206785712, 1: -13.777012854666665, 2: -11.81572424, 3: -13.520172309666664, 4: -8.305711696333335, 5: -7.79908523, 6: -10.225287519333333, 7: -11.106731043666665, 8: -15.062925245333334, 9: -16.480752223333333}, -3.875: {0: -7.1805162613333335, 1: -8.658178827666667, 2: -5.0121939116666665, 3: -11.847583559999999, 4: -10.83128902, 5: -10.105540675333334, 6: -16.60485494, 7: -8.602070118333332, 8: -9.906001822999999, 9: -15.072167063333334}, -3.78125: {0: -12.132881737666665, 1: -14.226617776666666, 2: -17.23216967833333, 3: -9.108001457, 4: -13.397207660000001, 5: -12.507174435666668, 6: -13.3310518, 7: -8.160210545, 8: -10.293903582666667, 9: -6.791385024666667}, -3.6875: {0: -16.499143969666665, 1: -8.366496244333334, 2: -11.862722500333334, 3: -9.686295415666667, 4: -20.48570327, 5: -9.303176665333334, 6: -14.182895103666667, 7: -11.089541290333335, 8: -9.948762411, 9: -12.461837553333334}, -3.59375: {0: -7.4555490146666665, 1: -9.865066173333334, 2: -8.399502109000002, 3: -9.663050057, 4: -9.648666295, 5: -15.80429539, 6: -23.36273765, 7: -14.244599474333334, 8: -11.302706836666667, 9: -5.925694978666667}, -3.5: {0: -9.865306984333333, 1: -8.451587737333334, 2: -13.352459628333333, 3: -9.336863447333334, 4: -16.31672274, 5: -11.826186776333335, 6: -11.070621800333335, 7: -12.616122391333334, 8: -13.807667426666667, 9: -8.180703532666667}, -3.40625: {0: -12.706191059333335, 1: -18.492663173333334, 2: -13.457184899333333, 3: -9.86411265, 4: -8.675928917, 5: -9.361440928333334, 6: -16.388545402000002, 7: -9.89306996, 8: -10.895275626333335, 9: -6.402203947333334}, -3.3125: {0: -10.222072048333333, 1: -7.809079656333334, 2: -20.614435583333332, 3: -7.589984412333333, 4: -14.949353143000002, 5: -11.186808780333331, 6: -12.229367358333334, 7: -9.681320343666668, 8: -11.603467003, 9: -12.827098074333334}, -3.21875: {0: -17.94856296, 1: -13.801947686666665, 2: -14.227866316666669, 3: -15.693853423333332, 4: -19.734567913333333, 5: -12.949347135666665, 6: -13.379920653333334, 7: -17.448797693333333, 8: -21.688458603333334, 9: -6.394951206666668}, -3.125: {0: -13.939919886666667, 1: -11.316190690666666, 2: -8.509795870333335, 3: -16.04417379766667, 4: -8.209600746000001, 5: -8.982305659666666, 6: -14.381460866666666, 7: -13.970114662666667, 8: -14.121817596666666, 9: -7.317276113999999}, -2.65625: {0: -16.45909504733333, 1: -10.610809947666667, 2: -10.101886786666666, 3: -6.536405568666667, 4: -14.831261785, 5: -17.841535766666667, 6: -11.181925252666668, 7: -10.358327164333334, 8: -16.205190430000002, 9: -6.176665011666667}, -2.5625: {0: -17.80674177, 1: -9.998113185, 2: -9.678963084333335, 3: -8.833036103333333, 4: -10.882861394333332, 5: -8.462524031, 6: -14.754316470333334, 7: -19.421755823333335, 8: -12.924692736666666, 9: -9.964100374333333}, -2.46875: {0: -8.598221462333333, 1: -8.537345916, 2: -10.985638926666667, 3: -9.316858804333334, 4: -9.212277991333332, 5: -8.395955872, 6: -10.061901522333333, 7: -10.260439157333334, 8: -9.415330216, 9: -8.327416827666667}, -2.375: {0: -21.04189074, 1: -8.885111286333334, 2: -14.302646256333333, 3: -8.970003528000001, 4: -17.810697156666667, 5: -13.598508416666666, 6: -9.02994866, 7: -11.090246986333332, 8: -9.951311667666666, 9: -4.847133136133333}, -2.28125: {0: -9.535585366333335, 1: -11.126312114333333, 2: -22.658240183333334, 3: -11.956176090333335, 4: -11.275585059666668, 5: -15.025113876333334, 6: -9.934321851333332, 7: -12.867577366, 8: -21.615637393333333, 9: -12.151770638333332}, -2.1875: {0: -12.397310913333333, 1: -11.917018460333333, 2: -9.010864184, 3: -12.381751498, 4: -12.015417775333333, 5: -13.38358708, 6: -10.189287175000002, 7: -11.003634072666665, 8: -9.002125913666667, 9: -16.843213277333334}, -2.09375: {0: -8.179486908666666, 1: -7.578615267666668, 2: -8.003315904333334, 3: -6.577568387333334, 4: -9.874018096333334, 5: -6.110357302000001, 6: -11.231710170666668, 7: -12.273826475666667, 8: -11.144002744, 9: -18.655232586666667}, -2.0: {0: -12.885257005, 1: -10.347011778999999, 2: -16.983368462666665, 3: -16.17105267666667, 4: -10.926882134666664, 5: -9.591486873000001, 6: -16.752674353333333, 7: -11.9002052, 8: -10.022588022, 9: -9.344755554999999}, -1.90625: {0: -11.068869438999998, 1: -8.602750818333334, 2: -11.969580248666668, 3: -9.027817348, 4: -13.099603141666668, 5: -9.534676217666666, 6: -13.123043793999999, 7: -7.9828473613333335, 8: -5.544267799, 9: -10.826493842}, -1.8125: {0: -13.177441871, 1: -6.951342502666666, 2: -13.615748676666668, 3: -5.6992218753333335, 4: -8.532180027, 5: -14.2014625, 6: -11.044959212333334, 7: -10.732422462666667, 8: -6.671392930666667, 9: -17.175447645000002}, -1.71875: {0: -9.904516892333334, 1: -12.890228912666666, 2: -11.331744939666669, 3: -7.742335786333334, 4: -13.745829137000001, 5: -9.398324652, 6: -14.388360996666668, 7: -7.440093954666668, 8: -14.446329581, 9: -8.060624109666668}, -1.625: {0: -11.535548649666666, 1: -4.257965111, 2: -9.280923957333334, 3: -12.0118387, 4: -9.523414189999999, 5: -8.605430341333333, 6: -14.184475012, 7: -11.680866400999998, 8: -7.713223543333332, 9: -11.393155656333334}, -1.4375: {0: -12.892607829, 1: -21.27211618833333, 2: -9.312301863333333, 3: -10.819314902333334, 4: -15.676457358, 5: -10.786637598333334, 6: -16.255704859999998, 7: -7.831564603333334, 8: -11.080145724, 9: -12.766650243333332}, -1.34375: {0: -23.257931529999997, 1: -13.436942320666667, 2: -7.645882255, 3: -6.485303476333333, 4: -12.023906703, 5: -10.937549824, 6: -8.704685337999999, 7: -12.580407481333333, 8: -15.947825380000003, 9: -6.498995135333334}, -0.96875: {0: -19.47235062333333, 1: -10.511945417666666, 2: -6.055607828, 3: -19.513883929666665, 4: -7.445869210333332, 5: -16.866375407, 6: -9.447298284333334, 7: -9.806214269, 8: -9.378288168, 9: -7.6006839783333335}, -0.875: {0: -14.153354811333335, 1: -10.834862616333334, 2: -15.617008153333332, 3: -8.58617746, 4: -14.590017099999999, 5: -14.159099383333333, 6: -12.430367695666666, 7: -7.486172028666666, 8: -7.430747137333333, 9: -6.814118404000001}, -0.78125: {0: -14.465450227666665, 1: -13.767481579333335, 2: -12.288454036666666, 3: -16.212970460666668, 4: -10.468189968999999, 5: -5.175479389, 6: -12.746850910000001, 7: -10.5446866, 8: -10.561915452666668, 9: -8.591713197666666}, -0.3125: {0: -12.196527543666667, 1: -14.188907015666667, 2: -11.696156208666666, 3: -9.321992182, 4: -7.250898046333333, 5: -9.678624332, 6: -12.792755558333333, 7: -19.311960806666665, 8: -7.464230626333333, 9: -8.577561224666667}, -0.21875: {0: -15.183876846666669, 1: -11.7810285, 2: -9.87488773, 3: -7.267322363333332, 4: -19.542644947, 5: -5.035711889, 6: -10.564899165333333, 7: -6.115348413333333, 8: -8.003476148333334, 9: -4.560184466666667}, -0.125: {0: -9.403580881000002, 1: -10.041498341666667, 2: -12.896749849999999, 3: -15.354092193333335, 4: -18.50992037, 5: -13.016496618666665, 6: -12.195618131333333, 7: -16.2445745, 8: -14.450276090000001, 9: -8.683036643000001}, -0.03125: {0: -12.344284264666667, 1: -11.930488078666668, 2: -12.644842003333332, 3: -14.927803021333332, 4: -9.492320988000001, 5: -12.448106404999999, 6: -10.221569398333331, 7: -11.037746382333333, 8: -13.550335063333334, 9: -7.132405993333333}}, {'sampleid': {0: 1, 1: 2, 2: 3, 3: 4, 4: 5, 5: 6, 6: 7, 7: 8, 8: 9, 9: 10}, 'Channels': {0: 1, 1: 1, 2: 1, 3: 1, 4: 1, 5: 1, 6: 1, 7: 1, 8: 1, 9: 1}, 'Distance_km': {0: 0, 1: 0, 2: 0, 3: 0, 4: 0, 5: 0, 6: 0, 7: 0, 8: 0, 9: 0}, 'power_dBm': {0: -2, 1: -2, 2: -2, 3: -2, 4: -2, 5: -2, 6: -2, 7: -2, 8: -2, 9: -2}, '#node': {0: 1, 1: 1, 2: 1, 3: 1, 4: 1, 5: 1, 6: 1, 7: 1, 8: 1, 9: 1}, 0.0625: {0: -8.560760872000001, 1: -10.591459548666666, 2: -8.283382448666668, 3: -13.669836187000001, 4: -18.58766393, 5: -16.029549814, 6: -15.256261396333334, 7: -4.180230154, 8: -23.03537223666667, 9: -4.984668794666667}, 0.15625: {0: -14.192841340000001, 1: -6.819909834000001, 2: -10.283430332, 3: -11.168663076333331, 4: -10.522540221, 5: -10.092534620333332, 6: -10.549735346, 7: -10.145044817333334, 8: -13.552319296666667, 9: -11.789632737333333}, 0.25: {0: -15.30898758, 1: -10.564098084333333, 2: -13.450208946666669, 3: -5.218217442633333, 4: -9.703829210999999, 5: -11.146010808999998, 6: -13.169864946666669, 7: -9.834340933333333, 8: -9.884707117, 9: -13.652961003333333}, 0.34375: {0: -6.232918894000001, 1: -8.830512552, 2: -12.778611796666667, 3: -11.375746437333333, 4: -8.370643457333333, 5: -4.177008854333333, 6: -11.278146569, 7: -10.959289804333332, 8: -13.78181997, 9: -12.271633203333332}, 0.4375: {0: -15.718079341666666, 1: -15.817850133666667, 2: -9.993028089333334, 3: -7.522850464666668, 4: -11.134089374666667, 5: -12.758658759, 6: -6.919430502, 7: -14.23573187, 8: -12.206824493666668, 9: -8.371881165666666}, 0.53125: {0: -11.289253796666666, 1: -6.891420102333334, 2: -10.46460109, 3: -17.215477883333335, 4: -13.228005133333333, 5: -9.620262066, 6: -16.515570633333336, 7: -8.255381870666666, 8: -15.053279953333332, 9: -8.657400786666667}, 0.625: {0: -10.153158614666667, 1: -9.171172150333334, 2: -10.812482454333335, 3: -5.521128830666666, 4: -11.303451675666667, 5: -7.846506332, 6: -13.775282163333335, 7: -9.321329551333333, 8: -8.353049202000001, 9: -6.101976687333334}, 0.71875: {0: -12.782263957333333, 1: -14.961713856666664, 2: -19.624215803333332, 3: -13.879764602, 4: -6.948289982000001, 5: -16.537652586666667, 6: -14.300716290000002, 7: -9.322306388333333, 8: -6.728190891333334, 9: -8.839632191333335}, 0.8125: {0: -17.380874210333335, 1: -8.331730512666667, 2: -12.267413660666667, 3: -14.267641976, 4: -12.122441609333334, 5: -8.848803316666666, 6: -24.22158456, 7: -12.3353494, 8: -11.251525936999998, 9: -14.070277876666665}, 0.90625: {0: -7.186373223666667, 1: -7.9860759743333345, 2: -8.989245388, 3: -11.412674900666666, 4: -13.302283456666666, 5: -13.778718117333334, 6: -12.594588906, 7: -7.142896328666666, 8: -8.830158974333333, 9: -9.516798802333334}, 1.0: {0: -10.565533083666667, 1: -10.024033058999999, 2: -10.357764427666668, 3: -4.672519969, 4: -11.914902613, 5: -16.695369533, 6: -12.413253978, 7: -12.674484280333333, 8: -14.036486522666666, 9: -15.543690048}, 1.09375: {0: -15.532451041333331, 1: -6.793529541999999, 2: -9.308353177, 3: -13.402242406, 4: -10.317501982333333, 5: -11.013595187, 6: -12.586487374999999, 7: -11.590769681666666, 8: -12.136685077000001, 9: -15.542431336666667}, 1.1875: {0: -12.782826978000001, 1: -16.404275063333333, 2: -15.794087113333333, 3: -11.540048992000001, 4: -8.663893895333333, 5: -9.307256943666667, 6: -15.106946156333334, 7: -8.334346328333334, 8: -14.05158769, 9: -12.204255428666668}, 1.28125: {0: -11.634255474, 1: -18.497790176, 2: -10.206821987, 3: -7.799136217, 4: -13.822021598999997, 5: -17.67237632666667, 6: -17.646423923333334, 7: -8.100592655333333, 8: -10.955201277, 9: -12.837219662999999}, 1.375: {0: -11.309244853666668, 1: -12.414553862333333, 2: -8.287642834666666, 3: -6.828392781333334, 4: -12.018516607, 5: -8.144004467666667, 6: -8.335607695666667, 7: -11.651023248333333, 8: -6.428406888666667, 9: -8.146791511}, 1.46875: {0: -10.497543875666667, 1: -13.225515160666667, 2: -11.569705786, 3: -10.443704552, 4: -8.466560357333334, 5: -5.32664285243, 6: -16.17904293333333, 7: -7.739214197999999, 8: -12.225869003, 9: -6.946320727}, 1.5625: {0: -5.651335974999999, 1: -7.393480592333333, 2: -7.169995118666667, 3: -12.208824665, 4: -11.457831663333332, 5: -15.228084077333333, 6: -9.716974237666667, 7: -12.917939372333334, 8: -13.009412573333334, 9: -9.096749459333333}, 1.65625: {0: -11.356755297, 1: -17.714342245666668, 2: -17.064971666, 3: -9.971941169333332, 4: -15.416383199999999, 5: -7.428494970333333, 6: -17.42505693, 7: -14.324712723333333, 8: -12.607143986333332, 9: -10.606652620666667}, 1.75: {0: -8.737857096666666, 1: -12.249678939333334, 2: -6.086125343666666, 3: -6.125782314333333, 4: -14.76684911, 5: -12.680596767000003, 6: -14.828012732666664, 7: -13.823370786666667, 8: -11.459721246666666, 9: -14.133409176333336}, 1.84375: {0: -8.069283675333333, 1: -13.199180209, 2: -13.084334956, 3: -8.900762786333333, 4: -13.445021062333334, 5: -9.717801712, 6: -11.655937013333334, 7: -12.705972884666664, 8: -12.185471391, 9: -11.343341118333333}, 1.9375: {0: -10.147976642333333, 1: -13.448693858666667, 2: -8.898628901, 3: -12.136571606666665, 4: -10.622227044, 5: -10.317094689666666, 6: -16.466866030000002, 7: -8.474916725999998, 8: -7.991557803999999, 9: -15.043668963333332}, 2.03125: {0: -9.169419143333334, 1: -10.327817459333334, 2: -11.499808379333333, 3: -11.293439856333334, 4: -13.761561036666668, 5: -11.190054426333333, 6: -10.806459973, 7: -8.604100699, 8: -9.847168361333333, 9: -12.239326925666665}, 2.125: {0: -14.068455666, 1: -12.037244719999999, 2: -18.72229734633333, 3: -9.084886739, 4: -9.418679043, 5: -7.226297761333332, 6: -12.300293668999998, 7: -10.017716709333333, 8: -13.147755500999999, 9: -5.250235390333333}, 2.21875: {0: -8.769731771666667, 1: -4.676560129666666, 2: -8.626478968666666, 3: -10.192306044666667, 4: -9.814767833333333, 5: -7.515974255333333, 6: -9.940267616666667, 7: -15.035235552666665, 8: -11.248979671666667, 9: -10.472210252666668}, 2.3125: {0: -13.311207225333334, 1: -11.345442949999999, 2: -11.200750302000001, 3: -13.151003123333332, 4: -8.869930927666667, 5: -10.355513148, 6: -12.657893220333333, 7: -15.397704543333333, 8: -18.2778467, 9: -10.151509123333334}, 2.40625: {0: -8.396089532, 1: -9.265277892333334, 2: -12.432867066666667, 3: -10.765633020333333, 4: -12.544904463333333, 5: -10.158515641666668, 6: -14.786947318666668, 7: -24.21978801666667, 8: -12.052685488999998, 9: -16.196520579666668}, 2.5: {0: -14.758671828333334, 1: -6.715999886666666, 2: -13.481832476333333, 3: -7.765333242666667, 4: -11.481436874000002, 5: -11.486012472666667, 6: -16.013650118, 7: -10.005568951666666, 8: -12.526509112333335, 9: -8.754032736000001}, 2.59375: {0: -9.140021670666666, 1: -9.424318555000001, 2: -17.9115245, 3: -8.492326532, 4: -12.985271356, 5: -13.053759399666667, 6: -15.080084325333333, 7: -11.461316723333333, 8: -9.540993144666666, 9: -9.488009217666667}, 2.6875: {0: -11.672463442999998, 1: -9.581439722666666, 2: -8.197441637666666, 3: -10.621155372333334, 4: -13.726361276666665, 5: -10.199109758333334, 6: -11.963414583333332, 7: -10.306100676, 8: -16.149836043333334, 9: -5.356476041333334}, 2.875: {0: -16.354276703333333, 1: -14.240597966666664, 2: -15.91216667, 3: -18.241606566666665, 4: -12.075040799666667, 5: -9.831607857333333, 6: -12.16913357, 7: -11.428382703333334, 8: -14.733654266666667, 9: -8.383535188666666}, 2.96875: {0: -6.350156611, 1: -5.750983334333333, 2: -13.899091873333333, 3: -5.8850714260000005, 4: -8.927386140333335, 5: -12.218546766000001, 6: -10.388592407333332, 7: -9.530745702666666, 8: -11.678876918333332, 9: -10.101716121333332}, 3.0625: {0: -11.437344349, 1: -5.647896604666667, 2: -9.227783262666668, 3: -6.706113584000001, 4: -9.411524602666667, 5: -11.060984548666667, 6: -10.804007246666666, 7: -8.624470090666668, 8: -10.702758596333332, 9: -12.288660246333334}, 4.1875: {0: -10.164719896666666, 1: -6.5253412729999996, 2: -14.185005116666668, 3: -9.537213478666667, 4: -10.725779168, 5: -7.7006833986666665, 6: -11.029960838666668, 7: -23.06391609666667, 8: -13.078479511666666, 9: -9.960538630666667}, 4.28125: {0: -9.126120034000001, 1: -14.027601470333332, 2: -10.635947415333334, 3: -12.013535636666667, 4: -10.696237181999999, 5: -11.701609683000001, 6: -9.715595670666668, 7: -7.717107600333333, 8: -11.935410625000001, 9: -14.316489240000001}, 4.375: {0: -8.394570686333333, 1: -12.060684409333334, 2: -11.822192359999997, 3: -10.245559800666667, 4: -11.294370752333334, 5: -13.783588292666666, 6: -8.530840079333332, 7: -10.512927973, 8: -10.576054520333335, 9: -9.974442066333333}, 4.65625: {0: -10.155595626333334, 1: -10.036284726666667, 2: -13.687185571333336, 3: -10.515492658, 4: -15.212130183333334, 5: -13.675756086666667, 6: -16.376262243333333, 7: -8.513514233666667, 8: -11.865701756666667, 9: -13.156267610333336}, 4.75: {0: -17.467360443333334, 1: -15.566837904333335, 2: -14.29937666, 3: -11.616378628333331, 4: -5.446158984666667, 5: -9.563553062333334, 6: -12.650608761333336, 7: -11.74183743733333, 8: -12.256035712, 9: -14.365632155333332}, 4.84375: {0: -8.149042016000001, 1: -10.268832043000002, 2: -20.62240621666667, 3: -8.310578776, 4: -12.747147572333333, 5: -6.326095278333334, 6: -14.758997532999999, 7: -11.587152361666668, 8: -11.563008151333335, 9: -13.757604353333335}, 4.9375: {0: -8.931951218666667, 1: -5.045534885666666, 2: -6.9787202226666665, 3: -9.334132032666666, 4: -19.77947491666667, 5: -14.597230600666668, 6: -8.703922173333334, 7: -9.480881350999999, 8: -9.493241778666667, 9: -9.935674880333332}, 5.5: {0: -5.600130836999999, 1: -9.286238124, 2: -15.461713236666668, 3: -4.301533492333333, 4: -12.150756475999998, 5: -8.480340793666667, 6: -12.296184746666666, 7: -9.732864302333333, 8: -11.128204621, 9: -9.071971157333335}, 5.59375: {0: -11.266635117000002, 1: -13.747678876666667, 2: -14.186828742000001, 3: -12.489496472666666, 4: -11.859565713666667, 5: -18.036315737, 6: -14.679264786666666, 7: -12.335737979333333, 8: -15.060874859666669, 9: -10.625315745666667}, 5.6875: {0: -7.6232964999999995, 1: -11.342397456666667, 2: -14.62890934, 3: -14.473232901666668, 4: -11.93634522, 5: -9.265745241666666, 6: -7.808902197999999, 7: -8.135120552666667, 8: -13.38152859933333, 9: -9.289080841333332}, 5.78125: {0: -12.515941366333335, 1: -11.126496760666667, 2: -8.802112754666668, 3: -13.608241476666665, 4: -11.390722031333334, 5: -7.441461763333334, 6: -13.753336972666666, 7: -11.928359668333334, 8: -8.028598165666667, 9: -4.978641669}, 5.875: {0: -11.543031890333333, 1: -10.283257181666665, 2: -10.729719059666666, 3: -9.092146533, 4: -14.371738608666666, 5: -10.940068074000001, 6: -13.284699706666666, 7: -16.716090750000003, 8: -18.312653443333332, 9: -8.861713529666666}, 5.96875: {0: -11.130834790333333, 1: -15.420576206666667, 2: -9.517563454666666, 3: -11.864190763666665, 4: -11.586083516333334, 5: -7.687972884333333, 6: -19.079461206666668, 7: -14.453250870333333, 8: -10.281203425000001, 9: -5.006182827}, 6.15625: {0: -12.450014943333334, 1: -4.091601056333333, 2: -7.437754793000001, 3: -7.777862084333332, 4: -13.224042156666668, 5: -10.860303605666667, 6: -11.977817843333334, 7: -16.354376156666664, 8: -11.277582680666667, 9: -20.041719386666667}, 6.25: {0: -10.197410329, 1: -11.412406499, 2: -7.3614783059999995, 3: -17.000145773333333, 4: -11.581459908333334, 5: -18.22875915, 6: -11.20748101, 7: -11.508788191999999, 8: -6.821671488333333, 9: -9.971796102666667}, 6.34375: {0: -9.987964869666667, 1: -10.392673329666666, 2: -8.638167634, 3: -7.814841462333334, 4: -11.699449531666666, 5: -11.664606854666667, 6: -10.716801690666665, 7: -16.580539760333334, 8: -15.435568452666667, 9: -23.73233012}, 6.4375: {0: -11.047085558666668, 1: -10.484785549666666, 2: -11.751142686666666, 3: -12.880714973333333, 4: -10.378265665999999, 5: -12.705224436, 6: -14.580039703333332, 7: -9.880763154, 8: -12.355997274000002, 9: -11.992566448666667}, 6.53125: {0: -11.42941739, 1: -8.421130271000001, 2: -9.261672980333334, 3: -7.711250473333332, 4: -10.680489155000002, 5: -8.077870930333333, 6: -13.368139781333333, 7: -9.101207775, 8: -12.133124378666666, 9: -6.41569647}, 6.625: {0: -10.945253526333333, 1: -11.678652410666666, 2: -8.916993420333332, 3: -7.474801976333334, 4: -18.956616306666664, 5: -11.01968009, 6: -17.509745416666668, 7: -12.192680671666666, 8: -14.241337871666667, 9: -7.1836009370000005}, 6.71875: {0: -10.033169776333333, 1: -16.72524031, 2: -8.60883349, 3: -16.874926706666667, 4: -21.247357516666668, 5: -12.66658718, 6: -9.955904216999999, 7: -14.952903614, 8: -7.4238551353333335, 9: -9.495484428666666}, 7.0: {0: -16.83832619, 1: -10.355489131666667, 2: -13.924786176000003, 3: -6.968288276666667, 4: -15.60794728, 5: -11.082152600666666, 6: -16.234568613333334, 7: -18.080015963333334, 8: -7.886457444, 9: -11.457516080333333}, 7.09375: {0: -14.710565866666665, 1: -10.589376311333334, 2: -8.895175935666666, 3: -7.576628613666666, 4: -15.01682776, 5: -12.080052536666665, 6: -17.54555529, 7: -11.224240931666666, 8: -8.309723716666666, 9: -3.4351609853333334}, 7.28125: {0: -9.958700098, 1: -7.882195960000001, 2: -5.628075092, 3: -13.674031215666666, 4: -9.823968980333333, 5: -9.926245795, 6: -15.237987871333333, 7: -8.890094164333334, 8: -12.794092008666667, 9: -10.314373308666667}, 7.375: {0: -15.173812773333333, 1: -19.795119425, 2: -7.044997517666666, 3: -8.349470644333334, 4: -7.9481535166666655, 5: -9.495354627333333, 6: -8.716680513, 7: -8.194259588, 8: -10.821651494666668, 9: -9.795747906666668}, 7.84375: {0: -13.732599995, 1: -11.044710374333334, 2: -12.819911314, 3: -13.365886894333334, 4: -14.20840346, 5: -9.722540942333332, 6: -13.052220611333334, 7: -12.232993888666668, 8: -7.803068736666667, 9: -8.177051319}, 7.9375: {0: -12.593019510333335, 1: -18.644375686666667, 2: -8.771122627666667, 3: -5.295674312333333, 4: -13.321220821333332, 5: -11.186042051333333, 6: -14.726608897666667, 7: -13.839888898333333, 8: -12.491684373333333, 9: -11.763587942666666}, 8.125: {0: -9.893192169333334, 1: -13.827713786666665, 2: -11.5300929, 3: -17.101638033333334, 4: -10.835448866999998, 5: -8.046515566333333, 6: -13.243762223333334, 7: -13.153338618333331, 8: -12.182626098, 9: -15.252925174333335}, 8.3125: {0: -10.201325373333333, 1: -22.032650889666666, 2: -15.469059615333336, 3: -8.192088986666667, 4: -11.658026014333332, 5: -6.232060457, 6: -18.603050409999998, 7: -10.134470965666667, 8: -8.785143827666667, 9: -11.984746660666667}, 8.40625: {0: -13.851730592000001, 1: -2.8553357986666668, 2: -16.125764492333335, 3: -11.106440233666667, 4: -10.032615898666666, 5: -19.32398223666667, 6: -9.367988595333335, 7: -9.729079975666666, 8: -10.805779346333333, 9: -15.099984699333334}, 8.5: {0: -9.470526402333334, 1: -6.292972315666667, 2: -12.828596533333334, 3: -9.344309326333333, 4: -10.528387734333334, 5: -9.794896758666667, 6: -16.105057249999998, 7: -12.832652623333333, 8: -12.781253143, 9: -16.502707568666665}, 8.59375: {0: -14.703260436666667, 1: -7.572877518666668, 2: -9.854412310999999, 3: -17.446881657000002, 4: -11.558917393, 5: -7.903438594333333, 6: -12.36465493, 7: -10.453382244666667, 8: -14.258370466333332, 9: -13.797680351000002}, 8.6875: {0: -8.362125538666666, 1: -6.2668372549999996, 2: -12.477525676666668, 3: -8.064047025666666, 4: -10.975777065, 5: -11.199317380333333, 6: -14.573366033333334, 7: -7.984903812666666, 8: -9.301949884333332, 9: -11.125460199}, 8.78125: {0: -11.383852353, 1: -7.315512784666667, 2: -20.43889812, 3: -11.966875990666665, 4: -8.980836473333333, 5: -6.794409875333333, 6: -16.446275996666667, 7: -18.544789366666667, 8: -11.177284624333334, 9: -10.900551037333335}, 8.875: {0: -17.198987923333334, 1: -14.16968939, 2: -6.715970798000001, 3: -7.615192415, 4: -15.138757723333333, 5: -10.691112575, 6: -7.630936095666667, 7: -11.513373308666667, 8: -13.787291802666665, 9: -11.331167399999998}, 8.96875: {0: -12.416819318666668, 1: -11.031258869666667, 2: -10.557584046333334, 3: -16.18823678, 4: -12.530263853, 5: -10.018980976333333, 6: -15.415539368333334, 7: -11.644391042666667, 8: -11.05796127, 9: -8.428125266}, 9.0625: {0: -16.907175771, 1: -13.084099205000001, 2: -14.095489257666665, 3: -9.356671199666666, 4: -10.648257267, 5: -8.307693112, 6: -17.808835317, 7: -8.66946208, 8: -11.483499666999998, 9: -7.226040381000001}, 9.15625: {0: -11.590347309, 1: -9.314340337666666, 2: -6.876356364, 3: -6.973126293, 4: -17.09376205, 5: -6.518772267, 6: -12.294933460666668, 7: -9.884382488333332, 8: -8.442167443, 9: -8.309723167333333}, 9.25: {0: -10.047884648, 1: -11.803586644333334, 2: -16.023088678333334, 3: -13.151360453333334, 4: -11.508768722000001, 5: -13.280162850333333, 6: -14.003585193333334, 7: -17.2873424, 8: -13.186092336000002, 9: -15.291215126666666}, 9.34375: {0: -8.356263527666668, 1: -11.793659893333334, 2: -17.907951843333333, 3: -6.539787715, 4: -12.202400207000002, 5: -7.055051882333333, 6: -9.193049376333333, 7: -10.818724039000001, 8: -10.806604678333334, 9: -8.310972289666665}, 9.4375: {0: -12.872455084, 1: -19.106184119999998, 2: -7.821935994, 3: -7.568585218, 4: -14.415203964, 5: -11.989685086666666, 6: -15.184670980000002, 7: -8.327440572, 8: -16.23303037333333, 9: -13.024908926999998}, 9.53125: {0: -12.01950881, 1: -10.262347870000001, 2: -6.727041755666666, 3: -11.376166863666668, 4: -13.462060392, 5: -7.743909813666666, 6: -9.637146269, 7: -8.287305483333334, 8: -13.37389502, 9: -12.143471639}, 9.71875: {0: -13.682839756333331, 1: -8.395782272333333, 2: -8.911252242666668, 3: -10.116098526666667, 4: -7.024569602000001, 5: -11.947201097999999, 6: -14.14169277, 7: -9.281542686333333, 8: -14.238522942333333, 9: -12.447480122666667}, 9.8125: {0: -12.514621484000001, 1: -8.735492378666667, 2: -15.248416371333333, 3: -11.253132641, 4: -16.420014605666665, 5: -14.453865036666668, 6: -6.796208881666666, 7: -19.330193756666667, 8: -8.428553213333332, 9: -9.078259841000001}, 9.90625: {0: -7.9938933316666665, 1: -12.583058871333334, 2: -10.978682438666667, 3: -14.081983327666668, 4: -14.623874570666667, 5: -13.911083141, 6: -13.551598792999998, 7: -8.540519337, 8: -15.718915616666669, 9: -14.3898009}, 10.0: {0: -11.467478215999998, 1: -9.117445181666668, 2: -8.656023271666667, 3: -10.614016959333334, 4: -18.14454320733333, 5: -19.014106336666668, 6: -23.56504825333333, 7: -15.46378276, 8: -8.311726587, 9: -12.347064408666668}, 10.09375: {0: -15.532590120333333, 1: -10.192681973333334, 2: -5.957422556, 3: -7.035075162333334, 4: -17.529845483333332, 5: -11.279249625666667, 6: -12.85470568, 7: -18.146044113333332, 8: -10.080233734333333, 9: -7.813418259333333}, 10.1875: {0: -24.027722666666666, 1: -11.232867181666668, 2: -10.818614164333333, 3: -6.01587714, 4: -17.89773221, 5: -14.122742086666667, 6: -9.941538490333334, 7: -12.904153876, 8: -11.446515726333333, 9: -6.173222010333333}, 10.28125: {0: -12.989505942000001, 1: -7.6865987643333336, 2: -10.039541062333333, 3: -11.201278354333335, 4: -18.463927360000003, 5: -16.393507263333333, 6: -11.863838377, 7: -13.833742656666667, 8: -12.765195095000001, 9: -7.036457314}, 10.375: {0: -11.949801981, 1: -9.702594269666667, 2: -11.497840593333335, 3: -13.701840306333333, 4: -14.436886793333334, 5: -14.782667046666665, 6: -14.884147783333333, 7: -10.268351295666667, 8: -10.176366246, 9: -8.825813922333333}, 10.9375: {0: -10.107563507, 1: -13.906305147333335, 2: -9.951386181666667, 3: -11.273909891333332, 4: -15.696208347666667, 5: -18.644736003333335, 6: -12.459174324000001, 7: -11.044747498333331, 8: -18.146287116666667, 9: -10.546734980333333}, 11.03125: {0: -10.433723109, 1: -8.606078982333335, 2: -13.279586363666667, 3: -16.11044403, 4: -11.03716363, 5: -15.670677028666667, 6: -14.046215226666668, 7: -13.223995393333333, 8: -4.838941924666666, 9: -14.430216946666667}, 11.125: {0: -16.499703856666667, 1: -11.111604601000002, 2: -10.148838577666666, 3: -16.28926581, 4: -9.126484309, 5: -12.755659378333332, 6: -12.902027007000001, 7: -11.529064763333333, 8: -8.683743911666667, 9: -15.033453860000002}, 11.21875: {0: -8.994308443333333, 1: -15.1674922, 2: -9.764946610666668, 3: -5.462901172666666, 4: -12.503312466666666, 5: -9.498347582, 6: -17.70821238, 7: -11.893606099333333, 8: -12.300933029, 9: -7.716640858966667}, 11.3125: {0: -8.119885149333333, 1: -6.916516090333334, 2: -17.540377723333332, 3: -9.249005994333332, 4: -7.591398363666667, 5: -8.127344205666667, 6: -14.431457566666667, 7: -10.400733362333334, 8: -12.966945624333334, 9: -16.372514966666667}, 11.40625: {0: -14.582046880666667, 1: -9.087864232333333, 2: -9.018354027333332, 3: -8.030720899333334, 4: -18.66293238, 5: -14.460974404333333, 6: -10.208722537333331, 7: -7.675471709999999, 8: -13.648998830000002, 9: -12.202595820666666}, 11.6875: {0: -9.256929992333333, 1: -17.382170333333335, 2: -16.38249679, 3: -10.963773743333334, 4: -11.798588393666668, 5: -11.797533632000002, 6: -18.975434246333332, 7: -11.042446136666669, 8: -9.255267186333333, 9: -8.259466832333333}, 11.78125: {0: -14.955795353333334, 1: -7.490183230666666, 2: -9.278057625666667, 3: -7.919865096333332, 4: -10.137884539666667, 5: -9.258295017, 6: -14.246510916666667, 7: -16.771059256, 8: -10.73022512, 9: -13.187100946666668}, 11.875: {0: -14.692907281666669, 1: -12.073653033666666, 2: -15.734096296666666, 3: -8.472525015666667, 4: -18.360826989666666, 5: -8.658730522666668, 6: -16.319006157, 7: -10.985398869333332, 8: -13.249220466000002, 9: -11.139626220666665}, 11.96875: {0: -11.855814769333334, 1: -9.135586934, 2: -12.105335653666666, 3: -8.874383722333334, 4: -15.204553199000001, 5: -12.208998532, 6: -19.363196863333332, 7: -11.269813827333332, 8: -11.521396529666667, 9: -9.159959588666668}, 12.0625: {0: -13.876738306333332, 1: -6.756061771666666, 2: -10.303573492666667, 3: -16.912021706666668, 4: -18.289485046666666, 5: -10.300442957333333, 6: -12.852370462333335, 7: -13.37798586, 8: -7.563249131, 9: -20.781618773333335}, 12.15625: {0: -10.485282463333334, 1: -13.845212005333332, 2: -7.849914640666667, 3: -11.360547798666666, 4: -12.08636928, 5: -8.405229718333333, 6: -10.513595629666668, 7: -22.210357149999997, 8: -15.61004062, 9: -10.542974123999999}, 12.25: {0: -15.458758329333333, 1: -7.571062333, 2: -12.541371550000001, 3: -9.128865755333333, 4: -13.621069349, 5: -7.409849306666666, 6: -10.078734144999999, 7: -15.132280707000001, 8: -10.273130182666668, 9: -9.754393347666666}, 12.53125: {0: -12.187967638333333, 1: -9.558285763666667, 2: -12.549091604333332, 3: -10.077445805333333, 4: -10.411224171999999, 5: -13.063206766666667, 6: -8.072527246, 7: -10.791697044666668, 8: -14.333554638, 9: -16.894090781}, 12.625: {0: -11.496072806333332, 1: -8.580234238333334, 2: -13.915563499666666, 3: -7.339876661333334, 4: -12.648698129666665, 5: -22.660342056666668, 6: -10.981757965333335, 7: -9.17704337, 8: -10.366753984666667, 9: -9.922259009000001}, 12.71875: {0: -16.001624553333333, 1: -6.155298535666667, 2: -11.150312104666668, 3: -11.856082463999998, 4: -11.863194676666668, 5: -6.838720305, 6: -15.393812576666667, 7: -10.955036483333336, 8: -13.354092920999998, 9: -11.578660973333333}, 12.90625: {0: -17.4605859, 1: -9.826130360666667, 2: -15.232031544, 3: -12.997390258000001, 4: -15.727118658333334, 5: -10.668861133, 6: -13.71702228, 7: -8.187709133333334, 8: -15.733876196666666, 9: -9.972935842}, 13.0: {0: -14.026213397666666, 1: -12.25898035, 2: -9.849440103, 3: -8.050585458, 4: -9.904633888666666, 5: -10.234171917333335, 6: -14.895896546666668, 7: -17.428379266666663, 8: -13.652026533333334, 9: -10.125732527666667}, 13.09375: {0: -14.266983090666665, 1: -10.237734437666667, 2: -9.183486141000001, 3: -10.77959534, 4: -10.454278009000001, 5: -12.546897546666665, 6: -12.554209903333332, 7: -8.426793323666667, 8: -9.724118093333333, 9: -8.330736680333333}, 13.5625: {0: -9.238023982333333, 1: -13.190356627, 2: -13.975363413333334, 3: -14.580192619333333, 4: -22.258215680000003, 5: -9.913738763333333, 6: -15.10167913, 7: -9.681071069666666, 8: -13.200761231333333, 9: -8.354569889333334}, 13.65625: {0: -10.700764499333333, 1: -13.383679227666667, 2: -9.906090496666666, 3: -8.807112266666666, 4: -14.338971573333334, 5: -8.263650679666666, 6: -15.2263991, 7: -10.040175368, 8: -16.508088208, 9: -11.518287688333332}, 13.75: {0: -13.249076677666665, 1: -14.900006392333333, 2: -16.079237236666668, 3: -18.11390065333333, 4: -10.795961515333332, 5: -20.780225613333332, 6: -13.273117466000002, 7: -15.327303006666668, 8: -16.56850547666667, 9: -17.532920193333336}, 13.84375: {0: -12.618695426666667, 1: -11.858238446666666, 2: -12.356926431666665, 3: -16.13825328, 4: -11.537414826000001, 5: -11.786048876, 6: -17.273342076666665, 7: -9.402962347333334, 8: -9.679954371666666, 9: -8.975551825333334}, 14.125: {0: -23.154558499999997, 1: -17.919657383333334, 2: -11.208843149000002, 3: -7.935762529000001, 4: -9.648752059000001, 5: -13.660868943666665, 6: -11.921354783666667, 7: -11.230510346666668, 8: -11.670545644333336, 9: -12.919584917333333}, 14.21875: {0: -11.772495452333333, 1: -11.851524002333335, 2: -13.423714942333334, 3: -13.088292940666667, 4: -27.0542008, 5: -9.168821691, 6: -17.94325975, 7: -12.605805226000001, 8: -15.112714788, 9: -20.863285821999998}, 14.3125: {0: -10.525426998666665, 1: -14.124236583333333, 2: -14.102141473333333, 3: -15.265155514666667, 4: -17.891732636666664, 5: -12.700415986666664, 6: -19.972228349999998, 7: -13.125721874999998, 8: -15.962559467333334, 9: -11.995010837666667}, 14.6875: {0: -12.780424443, 1: -15.610315190000001, 2: -11.375852700333333, 3: -12.977283569333332, 4: -17.35032706, 5: -13.941212416666666, 6: -12.757469729999999, 7: -9.276956238333334, 8: -10.918391223333332, 9: -10.158515732666666}, 14.78125: {0: -16.047948656666666, 1: -13.423205796666666, 2: -17.64554616, 3: -13.211885850666667, 4: -18.847257816666666, 5: -12.206432180999998, 6: -12.257010205999999, 7: -16.65654751, 8: -19.930588356666664, 9: -18.117934287666667}, 15.0625: {0: -14.586802645, 1: -11.804049005000001, 2: -12.502169093, 3: -15.573390323333333, 4: -16.305593847666668, 5: -15.815929907666666, 6: -19.218157353, 7: -21.456341303333332, 8: -14.627754756666667, 9: -10.505737307333334}, 15.15625: {0: -10.841365567666669, 1: -13.114094410333335, 2: -22.84152349, 3: -15.10152674266667, 4: -19.466022409999997, 5: -14.104970174, 6: -16.311714611666666, 7: -10.404029789333334, 8: -15.981545042666667, 9: -14.286876736666665}, 15.25: {0: -22.343550706666665, 1: -9.184774245666667, 2: -14.612724113333334, 3: -12.601373498333333, 4: -20.93174144, 5: -10.241986510666665, 6: -15.005831076666666, 7: -15.873493939999998, 8: -18.975819519999998, 9: -17.85735173}, 15.34375: {0: -12.502693936666667, 1: -17.765707443333334, 2: -15.950763276666665, 3: -14.492718116666666, 4: -16.549194176666663, 5: -10.592345680333333, 6: -14.369859593333333, 7: -16.813226099666664, 8: -15.58849687, 9: -14.450926032666667}, 15.625: {0: -16.443838806666665, 1: -13.252952233333334, 2: -17.979086283333334, 3: -23.38890361, 4: -17.132136210000002, 5: -16.0570039, 6: -20.21162254, 7: -16.253484876666665, 8: -27.18424213333334, 9: -15.500494103333333}, 15.71875: {0: -17.925668623333333, 1: -20.187411286666666, 2: -15.112345150000001, 3: -19.988467643333333, 4: -16.47075263, 5: -18.947783760000004, 6: -13.431800779999998, 7: -20.828130060000003, 8: -14.046829133333333, 9: -15.450882213333335}, 15.90625: {0: -23.767323166666667, 1: -20.499823243333335, 2: -26.28323197, 3: -17.34248538, 4: -22.874778610000003, 5: -17.91990628666667, 6: -19.615695266666666, 7: -26.220203936666664, 8: -20.60435132, 9: -12.415705436666668}, 16.0: {0: -20.30792495333333, 1: -16.975076196666667, 2: -18.814631836666667, 3: -19.595224153333334, 4: -19.199114073333334, 5: -19.27973398, 6: -20.203631979999997, 7: -18.714254606666668, 8: -18.88727029, 9: -24.44609914333334}, 16.09375: {0: -19.04322515666667, 1: -27.23431352333333, 2: -22.93434892, 3: -15.573561786666666, 4: -19.44263257, 5: -20.57904436666667, 6: -21.923106316666665, 7: -20.302471960000002, 8: -22.52518295333333, 9: -22.609221253333335}, 16.1875: {0: -22.566289029999997, 1: -17.31250429, 2: -21.80941923333333, 3: -15.37865826, 4: -24.317009346666666, 5: -23.83182499333333, 6: -24.161583439999998, 7: -23.363123146666666, 8: -16.708635063333332, 9: -23.232231243333334}, 16.28125: {0: -24.01430775, 1: -18.663761406666666, 2: -24.431803346666666, 3: -22.54037846, 4: -29.17908119, 5: -20.048261913333334, 6: -29.947805666666667, 7: -24.18144029333334, 8: -23.166735313333334, 9: -22.26106946333333}, 16.375: {0: -21.83496538, 1: -20.90055883333333, 2: -23.39280098, 3: -19.368983413333336, 4: -23.825927386666667, 5: -24.184180336666667, 6: -24.643084509999998, 7: -25.874167779999997, 8: -22.929997429999997, 9: -24.669496900000002}, 16.46875: {0: -26.147347083333333, 1: -33.95813328666667, 2: -29.515561596666668, 3: -32.89980045666667, 4: -35.28130916333333, 5: -18.566130796666666, 6: -26.980820766666668, 7: -27.913874946666667, 8: -24.74220598333333, 9: -26.595821536666666}, 16.5625: {0: -28.878329646666668, 1: -27.44777495, 2: -28.04871488666667, 3: -29.986141896666666, 4: -26.56447418, 5: -29.310188566666667, 6: -30.848675600000004, 7: -26.314798713333335, 8: -27.338147923333334, 9: -27.956406389999998}, 16.65625: {0: -32.29200189666667, 1: -28.888749166666667, 2: -41.98407036, 3: -32.12418023666667, 4: -34.75561156, 5: -32.669814153333334, 6: -30.027916953333335, 7: -29.418872203333336, 8: -32.22291157, 9: -30.736304809999996}, 16.75: {0: -39.03681268333333, 1: -33.991021249999996, 2: -36.35804062333333, 3: -32.13322303666667, 4: -33.088814756666665, 5: -38.34566171666667, 6: -33.82062736666666, 7: -32.74249888666667, 8: -28.605615233333335, 9: -33.7994739}, 16.84375: {0: -45.914568143333334, 1: -35.04304911666667, 2: -43.56225788999999, 3: -35.80306797666666, 4: -45.52012572333334, 5: -45.99118327333334, 6: -46.65949167333334, 7: -42.465140336666664, 8: -47.51798881333334, 9: -36.47425552666667}, 16.9375: {0: -58.36315522333333, 1: -52.83134204666666, 2: -53.64897057666667, 3: -50.02761788666667, 4: -58.91561092999999, 5: -52.33950506333334, 6: -53.12443800666667, 7: -54.95616169666667, 8: -50.776489473333335, 9: -55.06717945}, 17.03125: {0: -59.62381885666667, 1: -50.36435336, 2: -59.85027401, 3: -48.52738863666667, 4: -55.61435392333333, 5: -56.069313996666665, 6: -56.09225471333334, 7: -49.87597779666667, 8: -52.32687256, 9: -53.09957443666667}, 17.125: {0: -54.97340698, 1: -56.62932651666667, 2: -49.85091668333333, 3: -59.23122875333333, 4: -52.21557514, 5: -52.28674421333333, 6: -51.62042079, 7: -53.142487863333336, 8: -52.11842213666667, 9: -45.130008186666664}, 17.21875: {0: -51.50175958, 1: -58.94814979, 2: -51.296919276666664, 3: -44.86146239666667, 4: -54.79080703666667, 5: -50.76540340666667, 6: -58.75803308333332, 7: -49.569401606666666, 8: -47.847937636666664, 9: -53.12694750333333}, 17.3125: {0: -57.81720800333333, 1: -56.02729348, 2: -53.326393450000005, 3: -45.700906016666664, 4: -49.085091733333336, 5: -49.56452098, 6: -60.94215367, 7: -55.22443225666667, 8: -54.625282156666664, 9: -53.28955072666667}, 17.40625: {0: -48.8002526, 1: -54.28254192000001, 2: -50.68860282666666, 3: -50.15344504666666, 4: -54.580874910000006, 5: -51.16926695333333, 6: -52.21510972666667, 7: -56.693235730000005, 8: -54.32534264666666, 9: -49.24834668666667}, 17.5: {0: -52.18178509333333, 1: -50.22510738666667, 2: -54.27226951333333, 3: -54.29468499666667, 4: -52.184661260000006, 5: -55.420800119999996, 6: -52.34227824333334, 7: -59.624089973333334, 8: -58.88514921666666, 9: -49.25654925333333}, 17.59375: {0: -61.191286139999995, 1: -56.96975510666666, 2: -53.183961036666666, 3: -54.20194795333333, 4: -51.75020839333333, 5: -52.242895436666664, 6: -53.77430715, 7: -54.42896807666667, 8: -56.08532541333333, 9: -51.62302601666667}, 17.96875: {0: -52.43536836333334, 1: -60.14283469666666, 2: -51.45888846666667, 3: -59.44795154333334, 4: -51.79118838333333, 5: -51.05521022666667, 6: -51.91130359666666, 7: -51.62706960333333, 8: -50.63817846333333, 9: -55.301623310000004}, 18.4375: {0: -49.93357455666666, 1: -53.70216807333333, 2: -52.73202072, 3: -50.56961912666667, 4: -54.63934781, 5: -50.822652500000004, 6: -54.10803108333334, 7: -50.76199018333333, 8: -57.15160974666666, 9: -51.84207477}, 18.53125: {0: -53.54953280666666, 1: -51.53744098666667, 2: -48.61183877333334, 3: -52.96810312333333, 4: -51.7777772, 5: -51.52232839333334, 6: -55.51957751999999, 7: -53.4335815, 8: -50.79837141666667, 9: -52.68994988333333}, 19.0: {0: -53.39118806333334, 1: -52.67564406333333, 2: -53.60615962333333, 3: -53.15182651, 4: -57.344211046666665, 5: -59.74544521000001, 6: -55.139513746666665, 7: -58.19119896, 8: -55.43253128, 9: -57.068721546666666}, 19.09375: {0: -57.003342260000004, 1: -55.38241811666668, 2: -56.65270866666666, 3: -53.87055999666666, 4: -57.100779679999995, 5: -47.42047824333333, 6: -48.75923320333334, 7: -56.27926419333334, 8: -54.32266274333333, 9: -47.78304895333333}, 19.1875: {0: -54.180431739999996, 1: -53.29099801, 2: -56.28519161666667, 3: -54.64018024999999, 4: -58.379422113333334, 5: -56.58771688666667, 6: -58.28739382333333, 7: -51.80374685666667, 8: -50.403793070000006, 9: -51.013356483333325}, 19.28125: {0: -55.929226166666666, 1: -48.686969303333335, 2: -51.693924306666666, 3: -59.41526123333333, 4: -55.33520273, 5: -57.48505208666666, 6: -53.312507393333334, 7: -55.71020494333333, 8: -57.90582559, 9: -51.95442412333333}, 19.375: {0: -53.68577013, 1: -53.426422773333336, 2: -64.98929287333333, 3: -54.676540163333335, 4: -56.72953660333334, 5: -52.4852956, 6: -55.22617553666666, 7: -54.21484110666666, 8: -62.23799454666667, 9: -52.68008854000001}, 19.46875: {0: -54.57312098333333, 1: -48.667324226666665, 2: -49.39540958333333, 3: -53.83835586, 4: -52.07777761333333, 5: -50.829761873333325, 6: -52.68075124333334, 7: -53.931744976666664, 8: -49.30787680333333, 9: -51.27139225333334}, 19.5625: {0: -54.901276239999994, 1: -51.27590808666667, 2: -50.925654926666674, 3: -48.21038063333333, 4: -53.62638915333333, 5: -51.89000582333333, 6: -63.97724635666666, 7: -57.11165159666667, 8: -48.097190403333336, 9: -58.86157677666667}, 19.65625: {0: -53.11701412333334, 1: -54.835197943333334, 2: -55.50586424333333, 3: -54.55277395666667, 4: -53.36618976666667, 5: -58.02683875666667, 6: -53.399969813333335, 7: -56.118791826666666, 8: -49.944873480000005, 9: -57.08253842}, 19.75: {0: -54.21562752, 1: -58.789063803333335, 2: -52.25211586333333, 3: -53.72886977333334, 4: -52.83728175666667, 5: -55.97528050333333, 6: -57.170499936666666, 7: -51.456479056666666, 8: -52.38508510666666, 9: -58.12303745333333}}]\n"
          ]
        },
        {
          "output_type": "display_data",
          "data": {
            "text/plain": [
              "   sampleid  Channels  Distance_km  power_dBm  #node  -19.90625   -19.8125  \\\n",
              "0         1         1            0         -2      1 -52.303029 -53.437679   \n",
              "1         2         1            0         -2      1 -47.886431 -53.553004   \n",
              "2         3         1            0         -2      1 -53.413053 -53.552340   \n",
              "3         4         1            0         -2      1 -55.416034 -53.264733   \n",
              "4         5         1            0         -2      1 -51.357811 -61.249362   \n",
              "5         6         1            0         -2      1 -56.986203 -53.921841   \n",
              "6         7         1            0         -2      1 -55.110416 -51.252339   \n",
              "7         8         1            0         -2      1 -57.654375 -52.514825   \n",
              "8         9         1            0         -2      1 -51.082671 -60.467224   \n",
              "9        10         1            0         -2      1 -55.317702 -50.915063   \n",
              "\n",
              "   -19.71875    -19.625  -19.53125  ...     -1.625    -1.4375   -1.34375  \\\n",
              "0 -50.901202 -52.724600 -55.605734  ... -11.535549 -12.892608 -23.257932   \n",
              "1 -49.616452 -52.110424 -52.939463  ...  -4.257965 -21.272116 -13.436942   \n",
              "2 -52.206135 -49.552358 -50.531195  ...  -9.280924  -9.312302  -7.645882   \n",
              "3 -49.149457 -55.538192 -50.383269  ... -12.011839 -10.819315  -6.485303   \n",
              "4 -59.685173 -52.608527 -52.053305  ...  -9.523414 -15.676457 -12.023907   \n",
              "5 -52.211440 -60.496579 -51.772297  ...  -8.605430 -10.786638 -10.937550   \n",
              "6 -52.892762 -52.198989 -60.473597  ... -14.184475 -16.255705  -8.704685   \n",
              "7 -58.159758 -53.383502 -54.633841  ... -11.680866  -7.831565 -12.580407   \n",
              "8 -50.602903 -51.006097 -58.760867  ...  -7.713224 -11.080146 -15.947825   \n",
              "9 -48.685310 -47.435698 -52.553069  ... -11.393156 -12.766650  -6.498995   \n",
              "\n",
              "    -0.96875     -0.875   -0.78125    -0.3125   -0.21875     -0.125   -0.03125  \n",
              "0 -19.472351 -14.153355 -14.465450 -12.196528 -15.183877  -9.403581 -12.344284  \n",
              "1 -10.511945 -10.834863 -13.767482 -14.188907 -11.781028 -10.041498 -11.930488  \n",
              "2  -6.055608 -15.617008 -12.288454 -11.696156  -9.874888 -12.896750 -12.644842  \n",
              "3 -19.513884  -8.586177 -16.212970  -9.321992  -7.267322 -15.354092 -14.927803  \n",
              "4  -7.445869 -14.590017 -10.468190  -7.250898 -19.542645 -18.509920  -9.492321  \n",
              "5 -16.866375 -14.159099  -5.175479  -9.678624  -5.035712 -13.016497 -12.448106  \n",
              "6  -9.447298 -12.430368 -12.746851 -12.792756 -10.564899 -12.195618 -10.221569  \n",
              "7  -9.806214  -7.486172 -10.544687 -19.311961  -6.115348 -16.244574 -11.037746  \n",
              "8  -9.378288  -7.430747 -10.561915  -7.464231  -8.003476 -14.450276 -13.550335  \n",
              "9  -7.600684  -6.814118  -8.591713  -8.577561  -4.560184  -8.683037  -7.132406  \n",
              "\n",
              "[10 rows x 149 columns]"
            ],
            "text/html": [
              "\n",
              "  <div id=\"df-fe486d54-8005-4cda-aea0-d5bd3f24dc90\">\n",
              "    <div class=\"colab-df-container\">\n",
              "      <div>\n",
              "<style scoped>\n",
              "    .dataframe tbody tr th:only-of-type {\n",
              "        vertical-align: middle;\n",
              "    }\n",
              "\n",
              "    .dataframe tbody tr th {\n",
              "        vertical-align: top;\n",
              "    }\n",
              "\n",
              "    .dataframe thead th {\n",
              "        text-align: right;\n",
              "    }\n",
              "</style>\n",
              "<table border=\"1\" class=\"dataframe\">\n",
              "  <thead>\n",
              "    <tr style=\"text-align: right;\">\n",
              "      <th></th>\n",
              "      <th>sampleid</th>\n",
              "      <th>Channels</th>\n",
              "      <th>Distance_km</th>\n",
              "      <th>power_dBm</th>\n",
              "      <th>#node</th>\n",
              "      <th>-19.90625</th>\n",
              "      <th>-19.8125</th>\n",
              "      <th>-19.71875</th>\n",
              "      <th>-19.625</th>\n",
              "      <th>-19.53125</th>\n",
              "      <th>...</th>\n",
              "      <th>-1.625</th>\n",
              "      <th>-1.4375</th>\n",
              "      <th>-1.34375</th>\n",
              "      <th>-0.96875</th>\n",
              "      <th>-0.875</th>\n",
              "      <th>-0.78125</th>\n",
              "      <th>-0.3125</th>\n",
              "      <th>-0.21875</th>\n",
              "      <th>-0.125</th>\n",
              "      <th>-0.03125</th>\n",
              "    </tr>\n",
              "  </thead>\n",
              "  <tbody>\n",
              "    <tr>\n",
              "      <th>0</th>\n",
              "      <td>1</td>\n",
              "      <td>1</td>\n",
              "      <td>0</td>\n",
              "      <td>-2</td>\n",
              "      <td>1</td>\n",
              "      <td>-52.303029</td>\n",
              "      <td>-53.437679</td>\n",
              "      <td>-50.901202</td>\n",
              "      <td>-52.724600</td>\n",
              "      <td>-55.605734</td>\n",
              "      <td>...</td>\n",
              "      <td>-11.535549</td>\n",
              "      <td>-12.892608</td>\n",
              "      <td>-23.257932</td>\n",
              "      <td>-19.472351</td>\n",
              "      <td>-14.153355</td>\n",
              "      <td>-14.465450</td>\n",
              "      <td>-12.196528</td>\n",
              "      <td>-15.183877</td>\n",
              "      <td>-9.403581</td>\n",
              "      <td>-12.344284</td>\n",
              "    </tr>\n",
              "    <tr>\n",
              "      <th>1</th>\n",
              "      <td>2</td>\n",
              "      <td>1</td>\n",
              "      <td>0</td>\n",
              "      <td>-2</td>\n",
              "      <td>1</td>\n",
              "      <td>-47.886431</td>\n",
              "      <td>-53.553004</td>\n",
              "      <td>-49.616452</td>\n",
              "      <td>-52.110424</td>\n",
              "      <td>-52.939463</td>\n",
              "      <td>...</td>\n",
              "      <td>-4.257965</td>\n",
              "      <td>-21.272116</td>\n",
              "      <td>-13.436942</td>\n",
              "      <td>-10.511945</td>\n",
              "      <td>-10.834863</td>\n",
              "      <td>-13.767482</td>\n",
              "      <td>-14.188907</td>\n",
              "      <td>-11.781028</td>\n",
              "      <td>-10.041498</td>\n",
              "      <td>-11.930488</td>\n",
              "    </tr>\n",
              "    <tr>\n",
              "      <th>2</th>\n",
              "      <td>3</td>\n",
              "      <td>1</td>\n",
              "      <td>0</td>\n",
              "      <td>-2</td>\n",
              "      <td>1</td>\n",
              "      <td>-53.413053</td>\n",
              "      <td>-53.552340</td>\n",
              "      <td>-52.206135</td>\n",
              "      <td>-49.552358</td>\n",
              "      <td>-50.531195</td>\n",
              "      <td>...</td>\n",
              "      <td>-9.280924</td>\n",
              "      <td>-9.312302</td>\n",
              "      <td>-7.645882</td>\n",
              "      <td>-6.055608</td>\n",
              "      <td>-15.617008</td>\n",
              "      <td>-12.288454</td>\n",
              "      <td>-11.696156</td>\n",
              "      <td>-9.874888</td>\n",
              "      <td>-12.896750</td>\n",
              "      <td>-12.644842</td>\n",
              "    </tr>\n",
              "    <tr>\n",
              "      <th>3</th>\n",
              "      <td>4</td>\n",
              "      <td>1</td>\n",
              "      <td>0</td>\n",
              "      <td>-2</td>\n",
              "      <td>1</td>\n",
              "      <td>-55.416034</td>\n",
              "      <td>-53.264733</td>\n",
              "      <td>-49.149457</td>\n",
              "      <td>-55.538192</td>\n",
              "      <td>-50.383269</td>\n",
              "      <td>...</td>\n",
              "      <td>-12.011839</td>\n",
              "      <td>-10.819315</td>\n",
              "      <td>-6.485303</td>\n",
              "      <td>-19.513884</td>\n",
              "      <td>-8.586177</td>\n",
              "      <td>-16.212970</td>\n",
              "      <td>-9.321992</td>\n",
              "      <td>-7.267322</td>\n",
              "      <td>-15.354092</td>\n",
              "      <td>-14.927803</td>\n",
              "    </tr>\n",
              "    <tr>\n",
              "      <th>4</th>\n",
              "      <td>5</td>\n",
              "      <td>1</td>\n",
              "      <td>0</td>\n",
              "      <td>-2</td>\n",
              "      <td>1</td>\n",
              "      <td>-51.357811</td>\n",
              "      <td>-61.249362</td>\n",
              "      <td>-59.685173</td>\n",
              "      <td>-52.608527</td>\n",
              "      <td>-52.053305</td>\n",
              "      <td>...</td>\n",
              "      <td>-9.523414</td>\n",
              "      <td>-15.676457</td>\n",
              "      <td>-12.023907</td>\n",
              "      <td>-7.445869</td>\n",
              "      <td>-14.590017</td>\n",
              "      <td>-10.468190</td>\n",
              "      <td>-7.250898</td>\n",
              "      <td>-19.542645</td>\n",
              "      <td>-18.509920</td>\n",
              "      <td>-9.492321</td>\n",
              "    </tr>\n",
              "    <tr>\n",
              "      <th>5</th>\n",
              "      <td>6</td>\n",
              "      <td>1</td>\n",
              "      <td>0</td>\n",
              "      <td>-2</td>\n",
              "      <td>1</td>\n",
              "      <td>-56.986203</td>\n",
              "      <td>-53.921841</td>\n",
              "      <td>-52.211440</td>\n",
              "      <td>-60.496579</td>\n",
              "      <td>-51.772297</td>\n",
              "      <td>...</td>\n",
              "      <td>-8.605430</td>\n",
              "      <td>-10.786638</td>\n",
              "      <td>-10.937550</td>\n",
              "      <td>-16.866375</td>\n",
              "      <td>-14.159099</td>\n",
              "      <td>-5.175479</td>\n",
              "      <td>-9.678624</td>\n",
              "      <td>-5.035712</td>\n",
              "      <td>-13.016497</td>\n",
              "      <td>-12.448106</td>\n",
              "    </tr>\n",
              "    <tr>\n",
              "      <th>6</th>\n",
              "      <td>7</td>\n",
              "      <td>1</td>\n",
              "      <td>0</td>\n",
              "      <td>-2</td>\n",
              "      <td>1</td>\n",
              "      <td>-55.110416</td>\n",
              "      <td>-51.252339</td>\n",
              "      <td>-52.892762</td>\n",
              "      <td>-52.198989</td>\n",
              "      <td>-60.473597</td>\n",
              "      <td>...</td>\n",
              "      <td>-14.184475</td>\n",
              "      <td>-16.255705</td>\n",
              "      <td>-8.704685</td>\n",
              "      <td>-9.447298</td>\n",
              "      <td>-12.430368</td>\n",
              "      <td>-12.746851</td>\n",
              "      <td>-12.792756</td>\n",
              "      <td>-10.564899</td>\n",
              "      <td>-12.195618</td>\n",
              "      <td>-10.221569</td>\n",
              "    </tr>\n",
              "    <tr>\n",
              "      <th>7</th>\n",
              "      <td>8</td>\n",
              "      <td>1</td>\n",
              "      <td>0</td>\n",
              "      <td>-2</td>\n",
              "      <td>1</td>\n",
              "      <td>-57.654375</td>\n",
              "      <td>-52.514825</td>\n",
              "      <td>-58.159758</td>\n",
              "      <td>-53.383502</td>\n",
              "      <td>-54.633841</td>\n",
              "      <td>...</td>\n",
              "      <td>-11.680866</td>\n",
              "      <td>-7.831565</td>\n",
              "      <td>-12.580407</td>\n",
              "      <td>-9.806214</td>\n",
              "      <td>-7.486172</td>\n",
              "      <td>-10.544687</td>\n",
              "      <td>-19.311961</td>\n",
              "      <td>-6.115348</td>\n",
              "      <td>-16.244574</td>\n",
              "      <td>-11.037746</td>\n",
              "    </tr>\n",
              "    <tr>\n",
              "      <th>8</th>\n",
              "      <td>9</td>\n",
              "      <td>1</td>\n",
              "      <td>0</td>\n",
              "      <td>-2</td>\n",
              "      <td>1</td>\n",
              "      <td>-51.082671</td>\n",
              "      <td>-60.467224</td>\n",
              "      <td>-50.602903</td>\n",
              "      <td>-51.006097</td>\n",
              "      <td>-58.760867</td>\n",
              "      <td>...</td>\n",
              "      <td>-7.713224</td>\n",
              "      <td>-11.080146</td>\n",
              "      <td>-15.947825</td>\n",
              "      <td>-9.378288</td>\n",
              "      <td>-7.430747</td>\n",
              "      <td>-10.561915</td>\n",
              "      <td>-7.464231</td>\n",
              "      <td>-8.003476</td>\n",
              "      <td>-14.450276</td>\n",
              "      <td>-13.550335</td>\n",
              "    </tr>\n",
              "    <tr>\n",
              "      <th>9</th>\n",
              "      <td>10</td>\n",
              "      <td>1</td>\n",
              "      <td>0</td>\n",
              "      <td>-2</td>\n",
              "      <td>1</td>\n",
              "      <td>-55.317702</td>\n",
              "      <td>-50.915063</td>\n",
              "      <td>-48.685310</td>\n",
              "      <td>-47.435698</td>\n",
              "      <td>-52.553069</td>\n",
              "      <td>...</td>\n",
              "      <td>-11.393156</td>\n",
              "      <td>-12.766650</td>\n",
              "      <td>-6.498995</td>\n",
              "      <td>-7.600684</td>\n",
              "      <td>-6.814118</td>\n",
              "      <td>-8.591713</td>\n",
              "      <td>-8.577561</td>\n",
              "      <td>-4.560184</td>\n",
              "      <td>-8.683037</td>\n",
              "      <td>-7.132406</td>\n",
              "    </tr>\n",
              "  </tbody>\n",
              "</table>\n",
              "<p>10 rows × 149 columns</p>\n",
              "</div>\n",
              "      <button class=\"colab-df-convert\" onclick=\"convertToInteractive('df-fe486d54-8005-4cda-aea0-d5bd3f24dc90')\"\n",
              "              title=\"Convert this dataframe to an interactive table.\"\n",
              "              style=\"display:none;\">\n",
              "        \n",
              "  <svg xmlns=\"http://www.w3.org/2000/svg\" height=\"24px\"viewBox=\"0 0 24 24\"\n",
              "       width=\"24px\">\n",
              "    <path d=\"M0 0h24v24H0V0z\" fill=\"none\"/>\n",
              "    <path d=\"M18.56 5.44l.94 2.06.94-2.06 2.06-.94-2.06-.94-.94-2.06-.94 2.06-2.06.94zm-11 1L8.5 8.5l.94-2.06 2.06-.94-2.06-.94L8.5 2.5l-.94 2.06-2.06.94zm10 10l.94 2.06.94-2.06 2.06-.94-2.06-.94-.94-2.06-.94 2.06-2.06.94z\"/><path d=\"M17.41 7.96l-1.37-1.37c-.4-.4-.92-.59-1.43-.59-.52 0-1.04.2-1.43.59L10.3 9.45l-7.72 7.72c-.78.78-.78 2.05 0 2.83L4 21.41c.39.39.9.59 1.41.59.51 0 1.02-.2 1.41-.59l7.78-7.78 2.81-2.81c.8-.78.8-2.07 0-2.86zM5.41 20L4 18.59l7.72-7.72 1.47 1.35L5.41 20z\"/>\n",
              "  </svg>\n",
              "      </button>\n",
              "      \n",
              "  <style>\n",
              "    .colab-df-container {\n",
              "      display:flex;\n",
              "      flex-wrap:wrap;\n",
              "      gap: 12px;\n",
              "    }\n",
              "\n",
              "    .colab-df-convert {\n",
              "      background-color: #E8F0FE;\n",
              "      border: none;\n",
              "      border-radius: 50%;\n",
              "      cursor: pointer;\n",
              "      display: none;\n",
              "      fill: #1967D2;\n",
              "      height: 32px;\n",
              "      padding: 0 0 0 0;\n",
              "      width: 32px;\n",
              "    }\n",
              "\n",
              "    .colab-df-convert:hover {\n",
              "      background-color: #E2EBFA;\n",
              "      box-shadow: 0px 1px 2px rgba(60, 64, 67, 0.3), 0px 1px 3px 1px rgba(60, 64, 67, 0.15);\n",
              "      fill: #174EA6;\n",
              "    }\n",
              "\n",
              "    [theme=dark] .colab-df-convert {\n",
              "      background-color: #3B4455;\n",
              "      fill: #D2E3FC;\n",
              "    }\n",
              "\n",
              "    [theme=dark] .colab-df-convert:hover {\n",
              "      background-color: #434B5C;\n",
              "      box-shadow: 0px 1px 3px 1px rgba(0, 0, 0, 0.15);\n",
              "      filter: drop-shadow(0px 1px 2px rgba(0, 0, 0, 0.3));\n",
              "      fill: #FFFFFF;\n",
              "    }\n",
              "  </style>\n",
              "\n",
              "      <script>\n",
              "        const buttonEl =\n",
              "          document.querySelector('#df-fe486d54-8005-4cda-aea0-d5bd3f24dc90 button.colab-df-convert');\n",
              "        buttonEl.style.display =\n",
              "          google.colab.kernel.accessAllowed ? 'block' : 'none';\n",
              "\n",
              "        async function convertToInteractive(key) {\n",
              "          const element = document.querySelector('#df-fe486d54-8005-4cda-aea0-d5bd3f24dc90');\n",
              "          const dataTable =\n",
              "            await google.colab.kernel.invokeFunction('convertToInteractive',\n",
              "                                                     [key], {});\n",
              "          if (!dataTable) return;\n",
              "\n",
              "          const docLinkHtml = 'Like what you see? Visit the ' +\n",
              "            '<a target=\"_blank\" href=https://colab.research.google.com/notebooks/data_table.ipynb>data table notebook</a>'\n",
              "            + ' to learn more about interactive tables.';\n",
              "          element.innerHTML = '';\n",
              "          dataTable['output_type'] = 'display_data';\n",
              "          await google.colab.output.renderOutput(dataTable, element);\n",
              "          const docLink = document.createElement('div');\n",
              "          docLink.innerHTML = docLinkHtml;\n",
              "          element.appendChild(docLink);\n",
              "        }\n",
              "      </script>\n",
              "    </div>\n",
              "  </div>\n",
              "  "
            ]
          },
          "metadata": {}
        },
        {
          "output_type": "error",
          "ename": "AttributeError",
          "evalue": "ignored",
          "traceback": [
            "\u001b[0;31m---------------------------------------------------------------------------\u001b[0m",
            "\u001b[0;31mAttributeError\u001b[0m                            Traceback (most recent call last)",
            "\u001b[0;32m<ipython-input-305-c00bbada972d>\u001b[0m in \u001b[0;36m<module>\u001b[0;34m()\u001b[0m\n\u001b[1;32m      7\u001b[0m   \u001b[0mrigth_sample_df\u001b[0m \u001b[0;34m=\u001b[0m \u001b[0mpd\u001b[0m\u001b[0;34m.\u001b[0m\u001b[0mDataFrame\u001b[0m\u001b[0;34m.\u001b[0m\u001b[0mfrom_dict\u001b[0m\u001b[0;34m(\u001b[0m\u001b[0mdf_store_sample\u001b[0m\u001b[0;34m[\u001b[0m\u001b[0mk_sample\u001b[0m\u001b[0;34m]\u001b[0m\u001b[0;34m[\u001b[0m\u001b[0;36m1\u001b[0m\u001b[0;34m]\u001b[0m\u001b[0;34m)\u001b[0m\u001b[0;34m\u001b[0m\u001b[0;34m\u001b[0m\u001b[0m\n\u001b[1;32m      8\u001b[0m   \u001b[0mdisplay\u001b[0m\u001b[0;34m(\u001b[0m\u001b[0mleft_sample_df\u001b[0m\u001b[0;34m)\u001b[0m\u001b[0;34m\u001b[0m\u001b[0;34m\u001b[0m\u001b[0m\n\u001b[0;32m----> 9\u001b[0;31m   \u001b[0;32mfor\u001b[0m \u001b[0mrow\u001b[0m \u001b[0;32min\u001b[0m \u001b[0mleft_sample_df\u001b[0m\u001b[0;34m.\u001b[0m\u001b[0mrows\u001b[0m\u001b[0;34m:\u001b[0m\u001b[0;34m\u001b[0m\u001b[0;34m\u001b[0m\u001b[0m\n\u001b[0m\u001b[1;32m     10\u001b[0m     \u001b[0mprint\u001b[0m\u001b[0;34m(\u001b[0m\u001b[0mrow\u001b[0m\u001b[0;34m)\u001b[0m\u001b[0;34m\u001b[0m\u001b[0;34m\u001b[0m\u001b[0m\n",
            "\u001b[0;32m/usr/local/lib/python3.7/dist-packages/pandas/core/generic.py\u001b[0m in \u001b[0;36m__getattr__\u001b[0;34m(self, name)\u001b[0m\n\u001b[1;32m   5485\u001b[0m         ):\n\u001b[1;32m   5486\u001b[0m             \u001b[0;32mreturn\u001b[0m \u001b[0mself\u001b[0m\u001b[0;34m[\u001b[0m\u001b[0mname\u001b[0m\u001b[0;34m]\u001b[0m\u001b[0;34m\u001b[0m\u001b[0;34m\u001b[0m\u001b[0m\n\u001b[0;32m-> 5487\u001b[0;31m         \u001b[0;32mreturn\u001b[0m \u001b[0mobject\u001b[0m\u001b[0;34m.\u001b[0m\u001b[0m__getattribute__\u001b[0m\u001b[0;34m(\u001b[0m\u001b[0mself\u001b[0m\u001b[0;34m,\u001b[0m \u001b[0mname\u001b[0m\u001b[0;34m)\u001b[0m\u001b[0;34m\u001b[0m\u001b[0;34m\u001b[0m\u001b[0m\n\u001b[0m\u001b[1;32m   5488\u001b[0m \u001b[0;34m\u001b[0m\u001b[0m\n\u001b[1;32m   5489\u001b[0m     \u001b[0;32mdef\u001b[0m \u001b[0m__setattr__\u001b[0m\u001b[0;34m(\u001b[0m\u001b[0mself\u001b[0m\u001b[0;34m,\u001b[0m \u001b[0mname\u001b[0m\u001b[0;34m:\u001b[0m \u001b[0mstr\u001b[0m\u001b[0;34m,\u001b[0m \u001b[0mvalue\u001b[0m\u001b[0;34m)\u001b[0m \u001b[0;34m->\u001b[0m \u001b[0;32mNone\u001b[0m\u001b[0;34m:\u001b[0m\u001b[0;34m\u001b[0m\u001b[0;34m\u001b[0m\u001b[0m\n",
            "\u001b[0;31mAttributeError\u001b[0m: 'DataFrame' object has no attribute 'rows'"
          ]
        }
      ]
    },
    {
      "cell_type": "code",
      "source": [
        "# Sample node\n",
        "sample_node = 1\n",
        "# Model node\n",
        "model_node = 1\n",
        "\n",
        "# Get sample data\n",
        "node_df_left, node_df_right, selected_columns = focus_selector_complete(df_qpsk, node_to_be_eval=sample_node, min_desired_reduction_of_noise=0.15, aggregation = False, min_prime = False)\n",
        "\n",
        "# Get model data\n",
        "model_node_row_left, model_node_row_right = model_focus_selector(QPSK_dummy_df, selected_columns, node_to_be_eval=model_node)\n",
        "\n",
        "print('---Left Side Shape---')\n",
        "print(node_df_left.shape)\n",
        "print(model_node_row_left.shape)\n",
        "\n",
        "print('---right Side Shape---')\n",
        "print(node_df_right.shape)\n",
        "print(model_node_row_right.shape)\n",
        "\n",
        "# Get linear regresion features\n",
        "combined_features_dict, r_sqr_val, intercept_val, slope_val = linear_regresion(node_df_left, node_df_right, model_node_row_left, model_node_row_right)\n",
        "\n",
        "print('---Linear Regresion Features---')\n",
        "print('coefficient of determination:', r_sqr_val)\n",
        "print('intercept:', intercept_val)\n",
        "print('slope:', slope_val)"
      ],
      "metadata": {
        "colab": {
          "base_uri": "https://localhost:8080/"
        },
        "id": "ff5ABgtP_Uoe",
        "outputId": "f5692912-f9de-4fc5-87d5-3efac3e2075c"
      },
      "execution_count": 267,
      "outputs": [
        {
          "output_type": "stream",
          "name": "stdout",
          "text": [
            "Reduced 1281 columns to 1045 columns.\n",
            "18.0% reduced noise using a threshold of 1300%.\n",
            "Columns selected [1, 2, 3, 4, 5, 6, 7, 8, 9, 10, 11, 12, 13, 14, 15, 16, 17, 18, 19, 20, 21, 22, 23, 24, 25, 26, 27, 28, 29, 30, 31, 32, 33, 34, 35, 36, 37, 38, 39, 40, 41, 45, 46, 48, 49, 54, 55, 56, 57, 58, 59, 60, 61, 62, 63, 64, 65, 66, 67, 68, 69, 74, 75, 76, 77, 78, 79, 80, 81, 82, 83, 84, 85, 86, 87, 88, 89, 90, 91, 92, 93, 94, 95, 98, 99, 100, 101, 102, 103, 104, 105, 107, 108, 109, 110, 111, 112, 113, 114, 115, 116, 117, 118, 119, 120, 124, 125, 126, 127, 128, 130, 131, 132, 133, 138, 139, 140, 141, 144, 145, 146, 147, 148, 149, 150, 151, 152, 153, 154, 155, 156, 157, 158, 159, 160, 161, 162, 163, 164, 165, 168, 169, 170, 171, 172, 173, 174, 175, 176, 177, 178, 179, 180, 181, 182, 183, 184, 185, 186, 187, 188, 189, 190, 191, 192, 193, 194, 195, 199, 202, 206, 207, 209, 210, 211, 212, 213, 214, 215, 216, 217, 218, 219, 220, 221, 222, 223, 224, 225, 226, 227, 228, 229, 230, 231, 232, 233, 239, 240, 241, 243, 246, 247, 250, 251, 252, 253, 254, 255, 256, 257, 258, 259, 260, 261, 264, 265, 266, 267, 268, 269, 270, 271, 272, 273, 279, 280, 282, 283, 286, 287, 288, 289, 290, 291, 292, 293, 294, 295, 297, 298, 299, 300, 301, 302, 303, 304, 307, 308, 309, 310, 311, 312, 313, 314, 315, 316, 317, 318, 319, 320, 323, 324, 325, 326, 327, 328, 329, 330, 331, 332, 333, 334, 335, 336, 337, 338, 339, 340, 341, 342, 343, 344, 345, 346, 347, 349, 350, 351, 352, 353, 354, 359, 360, 361, 362, 363, 364, 365, 366, 367, 368, 369, 370, 371, 372, 373, 374, 375, 376, 377, 378, 379, 380, 381, 382, 383, 384, 385, 386, 387, 388, 389, 390, 391, 392, 393, 394, 397, 401, 402, 403, 404, 405, 406, 407, 408, 409, 410, 412, 413, 414, 415, 416, 417, 418, 420, 421, 422, 423, 424, 425, 426, 427, 428, 429, 430, 431, 432, 433, 435, 436, 437, 438, 439, 440, 441, 442, 443, 444, 445, 447, 448, 449, 450, 451, 452, 453, 454, 455, 456, 457, 459, 460, 461, 462, 463, 464, 465, 466, 470, 471, 477, 478, 479, 482, 488, 489, 490, 492, 496, 497, 498, 499, 500, 501, 502, 503, 504, 505, 506, 507, 508, 509, 510, 511, 512, 513, 514, 515, 516, 517, 518, 519, 520, 521, 522, 523, 524, 525, 526, 527, 528, 529, 530, 531, 532, 533, 534, 535, 536, 537, 538, 539, 540, 544, 545, 546, 547, 551, 552, 555, 556, 557, 558, 559, 560, 561, 562, 565, 566, 567, 568, 569, 570, 575, 576, 577, 578, 579, 580, 581, 582, 583, 584, 585, 586, 587, 588, 589, 590, 591, 592, 593, 594, 595, 597, 598, 599, 601, 602, 603, 605, 606, 607, 608, 609, 610, 611, 612, 613, 614, 615, 616, 617, 618, 619, 620, 621, 622, 623, 624, 625, 626, 627, 628, 631, 632, 633, 634, 635, 637, 638, 641, 642, 643, 644, 645, 646, 655, 656, 657, 660, 662, 663, 664, 665, 666, 667, 668, 669, 670, 671, 672, 673, 674, 675, 676, 677, 678, 679, 680, 681, 682, 683, 684, 685, 686, 687, 688, 689, 690, 691, 692, 693, 694, 695, 696, 700, 701, 703, 705, 706, 707, 708, 709, 710, 712, 713, 714, 715, 716, 717, 718, 719, 720, 721, 722, 723, 724, 725, 726, 727, 729, 730, 731, 734, 735, 739, 740, 741, 742, 743, 744, 745, 746, 747, 748, 749, 750, 751, 752, 753, 754, 760, 761, 763, 764, 765, 766, 767, 768, 769, 770, 771, 772, 773, 774, 775, 776, 777, 778, 779, 780, 781, 782, 783, 784, 785, 786, 789, 790, 791, 792, 793, 794, 795, 796, 797, 798, 802, 803, 804, 805, 806, 807, 808, 809, 810, 811, 812, 813, 814, 815, 816, 817, 818, 819, 820, 821, 822, 823, 824, 827, 828, 829, 830, 831, 832, 833, 834, 835, 836, 837, 838, 839, 840, 841, 842, 843, 844, 845, 846, 851, 852, 853, 854, 855, 856, 857, 858, 859, 860, 861, 862, 863, 864, 869, 870, 871, 872, 873, 874, 875, 876, 877, 878, 879, 880, 881, 882, 883, 884, 885, 886, 887, 888, 889, 890, 892, 893, 894, 898, 899, 900, 901, 902, 903, 904, 905, 906, 907, 908, 910, 911, 912, 913, 914, 915, 916, 917, 918, 919, 920, 921, 922, 923, 924, 925, 926, 927, 928, 929, 930, 931, 932, 933, 934, 935, 936, 937, 938, 939, 940, 941, 943, 946, 947, 953, 954, 955, 956, 957, 958, 959, 960, 961, 962, 963, 964, 965, 966, 967, 968, 969, 970, 971, 972, 973, 974, 975, 979, 980, 981, 982, 983, 984, 985, 986, 987, 988, 989, 990, 991, 992, 993, 994, 995, 996, 997, 999, 1002, 1003, 1004, 1005, 1007, 1008, 1009, 1010, 1012, 1013, 1014, 1015, 1016, 1017, 1018, 1019, 1020, 1021, 1022, 1023, 1024, 1025, 1026, 1027, 1028, 1029, 1030, 1031, 1032, 1033, 1034, 1035, 1036, 1037, 1038, 1039, 1040, 1041, 1042, 1043, 1044, 1045, 1046, 1047, 1048, 1054, 1056, 1063, 1064, 1065, 1066, 1067, 1068, 1069, 1070, 1071, 1072, 1073, 1074, 1076, 1077, 1078, 1079, 1080, 1087, 1088, 1089, 1090, 1091, 1092, 1093, 1094, 1095, 1096, 1097, 1098, 1099, 1100, 1101, 1102, 1103, 1104, 1106, 1108, 1109, 1115, 1116, 1117, 1118, 1119, 1120, 1121, 1122, 1123, 1124, 1125, 1126, 1127, 1128, 1129, 1132, 1133, 1134, 1135, 1136, 1137, 1138, 1139, 1140, 1141, 1142, 1143, 1144, 1148, 1149, 1150, 1151, 1152, 1153, 1154, 1155, 1156, 1157, 1158, 1162, 1163, 1164, 1166, 1167, 1168, 1169, 1170, 1171, 1172, 1173, 1174, 1175, 1176, 1178, 1179, 1180, 1181, 1182, 1183, 1184, 1185, 1186, 1187, 1188, 1189, 1190, 1191, 1192, 1193, 1195, 1196, 1197, 1198, 1199, 1200, 1201, 1202, 1203, 1204, 1205, 1206, 1207, 1208, 1209, 1210, 1211, 1214, 1215, 1216, 1220, 1221, 1224, 1228, 1229, 1230, 1233, 1234, 1235, 1236, 1237, 1238, 1240, 1241, 1242, 1243, 1246, 1247, 1248, 1249, 1250, 1251, 1252, 1253, 1254, 1255, 1256, 1257, 1258, 1259, 1260, 1261, 1262, 1263, 1265, 1266, 1267, 1269, 1270, 1271, 1272, 1273, 1274, 1275, 1276, 1277, 1278, 1279, 1280, 1281]\n",
            "---Left Side Shape---\n",
            "(10, 528)\n",
            "(1, 528)\n",
            "---right Side Shape---\n",
            "(10, 526)\n",
            "(1, 526)\n",
            "---Linear Regresion Features---\n",
            "coefficient of determination: 0.8870656881561457\n",
            "intercept: -2.2017675842815763\n",
            "slope: 0.8872517124880088\n"
          ]
        },
        {
          "output_type": "stream",
          "name": "stderr",
          "text": [
            "/usr/local/lib/python3.7/dist-packages/pandas/core/frame.py:4913: SettingWithCopyWarning: \n",
            "A value is trying to be set on a copy of a slice from a DataFrame\n",
            "\n",
            "See the caveats in the documentation: https://pandas.pydata.org/pandas-docs/stable/user_guide/indexing.html#returning-a-view-versus-a-copy\n",
            "  errors=errors,\n"
          ]
        }
      ]
    },
    {
      "cell_type": "code",
      "source": [
        "print(combined_features_dict)"
      ],
      "metadata": {
        "id": "oEn4yMw9o2gd",
        "outputId": "f2172d63-4b6d-4ee8-fa5f-6a29bc46dec8",
        "colab": {
          "base_uri": "https://localhost:8080/"
        }
      },
      "execution_count": 300,
      "outputs": [
        {
          "output_type": "stream",
          "name": "stdout",
          "text": [
            "{'Sample_1': [0.8833863390715191, -1.9461701142247314, 0.8780060144855435], 'Sample_2': [0.884968449209298, -3.004290324874715, 0.8881606313213234], 'Sample_3': [0.8855196537979639, -2.1750212403980953, 0.8894978271839873], 'Sample_4': [0.8916998981010285, -3.051426735850324, 0.8861469488934133], 'Sample_5': [0.8829683396261425, -1.171668580696453, 0.8898245720925081], 'Sample_6': [0.8835023749892577, -2.8324245404233306, 0.8733441416652403], 'Sample_7': [0.8874445808115341, -0.793366885692917, 0.890154005230884], 'Sample_8': [0.900930670326529, -2.0226616321109816, 0.8986698437755491], 'Sample_9': [0.8868361404479461, -2.1726609495037597, 0.8797609115292577], 'Sample_10': [0.8834004351802379, -2.847984839040457, 0.898952228702382]}\n"
          ]
        }
      ]
    }
  ]
}