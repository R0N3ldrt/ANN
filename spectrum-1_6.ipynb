{
  "nbformat": 4,
  "nbformat_minor": 0,
  "metadata": {
    "colab": {
      "name": "Untitled1.ipynb",
      "provenance": [],
      "authorship_tag": "ABX9TyMgqIEEHRGNZCrher0zhvkC",
      "include_colab_link": true
    },
    "kernelspec": {
      "name": "python3",
      "display_name": "Python 3"
    },
    "language_info": {
      "name": "python"
    }
  },
  "cells": [
    {
      "cell_type": "markdown",
      "metadata": {
        "id": "view-in-github",
        "colab_type": "text"
      },
      "source": [
        "<a href=\"https://colab.research.google.com/github/R0N3ldrt/Thesis/blob/main/spectrum-1_6.ipynb\" target=\"_parent\"><img src=\"https://colab.research.google.com/assets/colab-badge.svg\" alt=\"Open In Colab\"/></a>"
      ]
    },
    {
      "cell_type": "markdown",
      "source": [
        "# Loading Enviroment"
      ],
      "metadata": {
        "id": "TFf_LnH4hXmH"
      }
    },
    {
      "cell_type": "markdown",
      "source": [
        "## Loading Drive and folders"
      ],
      "metadata": {
        "id": "QRLt90TJhpCF"
      }
    },
    {
      "cell_type": "code",
      "execution_count": 145,
      "metadata": {
        "colab": {
          "base_uri": "https://localhost:8080/"
        },
        "id": "-vxHbOdXfHok",
        "outputId": "d671f548-2f54-4986-fd92-bd4871917e73"
      },
      "outputs": [
        {
          "output_type": "stream",
          "name": "stdout",
          "text": [
            "Mounted at /content/gdrive\n"
          ]
        }
      ],
      "source": [
        "# BLOQUE PARA USAR DESDE COLAB\n",
        "\n",
        "# Google drive loading as work station for local-usage of the files.\n",
        "from google.colab import drive\n",
        "drive.mount('/content/gdrive',force_remount= True)\n",
        "\n",
        "#-----------------------------------------------------------------------------"
      ]
    },
    {
      "cell_type": "code",
      "source": [
        "# Lista para cambiar los paths rapido.\n",
        "workers = [\"Ronald\", \"Local\"]\n",
        "\n",
        "# Cambiar el numero aqui para cambiar los paths.\n",
        "worker = workers[0]\n",
        "\n",
        "if worker == \"Ronald\":\n",
        "  path= \"/content/gdrive/MyDrive/Thesis_Workstation/ANN_dataset\"\n",
        "else: path = os.getcwd()"
      ],
      "metadata": {
        "id": "s4tLLYT6gDOE"
      },
      "execution_count": 146,
      "outputs": []
    },
    {
      "cell_type": "markdown",
      "source": [
        "## Loading Necesary Libraries"
      ],
      "metadata": {
        "id": "Ob7ZixO4hxql"
      }
    },
    {
      "cell_type": "code",
      "source": [
        "# Importing necesary libraries\n",
        "import os, time\n",
        "import pandas as pd\n",
        "import numpy as np\n",
        "import matplotlib.pyplot as plt\n",
        "import math\n",
        "import pickle\n",
        "from sklearn.linear_model import LinearRegression\n",
        "from sklearn import metrics\n",
        "\n",
        "import warnings\n",
        "warnings.simplefilter(\"ignore\", UserWarning)\n",
        "import warnings\n",
        "warnings.simplefilter(action='ignore', category=FutureWarning)"
      ],
      "metadata": {
        "id": "knS8x3gehRLX"
      },
      "execution_count": 297,
      "outputs": []
    },
    {
      "cell_type": "markdown",
      "source": [
        "# Loading Data and Pre-Procesing"
      ],
      "metadata": {
        "id": "hcr6Hr2ChhUk"
      }
    },
    {
      "cell_type": "code",
      "source": [
        "data_path=path+\"/Spectrum\"\n",
        "\n",
        "qpsk_path=\"/QPSK/A.10hops100km/\"\n",
        "qam_path=\"/16QAM/A.10hops100km\"\n",
        "\n",
        "#file_name=\"/dataSet_Spectrum_Samples_QPSK_37GHz_LongHaul_output_10x100.xlsx\"\n",
        "file_name=\"/QPSK_dummy.xlsx\"\n",
        "# Skipping first row since only contain \"Frequency\" headers\n",
        "df_qpsk=pd.read_excel(data_path+qpsk_path+file_name, sheet_name = \"Sheet1\", skiprows=1)\n",
        "\n",
        "#file_name=\"/dataSet_Spectrum_Samples_16QAM_75GHz_LongHaul_output_10x100.xlsx\"\n",
        "file_name=\"/16QAM_dummy.xlsx\"\n",
        "df_qam=pd.read_excel(data_path+qam_path+file_name, sheet_name = \"Sheet1\", skiprows=1)\n",
        "\n",
        "#Diff in column 5 to 1,286 0.03125"
      ],
      "metadata": {
        "id": "0PdwcnCogI1t"
      },
      "execution_count": 148,
      "outputs": []
    },
    {
      "cell_type": "code",
      "source": [
        "#dump_file = dict desireed to be saved\n",
        "#filename = just the name of the file (file saved on \"pickle_folder\")\n",
        "\n",
        "def pickle_out(dump_file, filename):\n",
        "  filepath = path+\"/pickle_folder/\"+str(filename)+\".pickle\"\n",
        "  pickleout = open(filepath, \"wb\")\n",
        "  pickle.dump(dump_file, pickleout)\n",
        "  pickleout.close()\n",
        "\n",
        "def pickle_in(filename):\n",
        "  filepath = path+\"/pickle_folder/\"+str(filename)+\".pickle\"\n",
        "  picklein = open(filepath, \"rb\")\n",
        "  loaded_dict = pickle.load(picklein)\n",
        "  return loaded_dict"
      ],
      "metadata": {
        "id": "WH5waL1C0xAq"
      },
      "execution_count": 149,
      "outputs": []
    },
    {
      "cell_type": "markdown",
      "source": [
        "## Aggregator"
      ],
      "metadata": {
        "id": "CWOR5PNsksUs"
      }
    },
    {
      "cell_type": "code",
      "source": [
        "def prime_number_finder(stop_gap, total_num_of_data):\n",
        "  prime_nums = []\n",
        "  i=2\n",
        "  while i <= stop_gap:\n",
        "    if (total_num_of_data % i==0):\n",
        "      prime_nums.append(i)\n",
        "    i+=1\n",
        "  return prime_nums\n",
        "\n",
        "def aggreagator_selection(stop_gap=25, total_num_of_data=1281, min_prime = False):\n",
        "  current_freq_offset = 0.03125\n",
        "  \n",
        "  # Find the prime numbers where the total_num_of_data is divisible\n",
        "  prime_nums = prime_number_finder(stop_gap, total_num_of_data)\n",
        "  \n",
        "  # Find the offsets of the new aggregators\n",
        "  new_freq_offsets = []\n",
        "  for nums in prime_nums:\n",
        "    freq_offset = current_freq_offset*(nums-1)\n",
        "    new_freq_offsets.append(freq_offset)\n",
        "\n",
        "  if min_prime == False:\n",
        "    # Ask the user for the desired aggregator\n",
        "    print('Please select one of the following prime number to conduct the aggregation {} with frequencies offsets of {}(PHz) respectively. (Current Freq offset is 0.03125 PHz)'.format(prime_nums, new_freq_offsets))\n",
        "    while True:\n",
        "      user_selection = input('Prime number to conduct the aggregation? ')\n",
        "      if int(user_selection) not in prime_nums:\n",
        "        print('Please select one of the available prime numbers. (Current selection is not avaliable)')\n",
        "      else:\n",
        "        break\n",
        "    return int(user_selection)\n",
        "  else:\n",
        "    user_selection = min(prime_nums)\n",
        "    freq_selected = min(new_freq_offsets)\n",
        "    print('Selected the least common denominator for aggregation ({}) with a frequency of {}.'.format(user_selection, freq_selected))\n",
        "    return int(user_selection)\n",
        "\n",
        "def aggreagator(df, stop_gap=25, total_num_of_data=1281, min_prime = True):\n",
        "  agg_num = aggreagator_selection(stop_gap, total_num_of_data, min_prime = False)\n",
        "  \n",
        "  # Creating new df of aggregate values\n",
        "  agg_df = pd.DataFrame()\n",
        "  agg_df = df[df.columns[0:5]]\n",
        "\n",
        "  agg=0\n",
        "  loop_cnt=0\n",
        "  init_column_cnt = 5\n",
        "  while agg<=total_num_of_data:\n",
        "    loop_cnt+=1\n",
        "    # Obtain current last columns stop\n",
        "    agg=agg_num+init_column_cnt\n",
        "    # Select working columns\n",
        "    new_df = df[df.columns[init_column_cnt:agg]]\n",
        "\n",
        "    init_column_cnt += (agg_num)\n",
        "    #print(init_column_cnt)\n",
        "    # Get average of freq values for new header\n",
        "    headers = list(new_df.columns.values)\n",
        "    headers_array = np.asarray(headers)\n",
        "    new_header_name = np.mean(headers_array)\n",
        "\n",
        "    # Add aggragated values to new df\n",
        "    agg_df[str(new_header_name)] = new_df.mean(axis = 1)\n",
        "  agg_dict = agg_df.to_dict()\n",
        "  return agg_df, agg_dict\n"
      ],
      "metadata": {
        "id": "hv_1nLfcCTAT"
      },
      "execution_count": 150,
      "outputs": []
    },
    {
      "cell_type": "code",
      "source": [
        "# QPSK AGG\n",
        "#stop = 7\n",
        "#QPSK_agg_df, QPSK_agg_dict = aggreagator(df_qpsk, stop_gap=100, total_num_of_data=1281, min_prime = False)\n",
        "#pickle_out(QPSK_agg_dict, \"test_agg_spectrum_QPSK_\"+str(stop))"
      ],
      "metadata": {
        "id": "UxVxNBbEHw_6"
      },
      "execution_count": 151,
      "outputs": []
    },
    {
      "cell_type": "code",
      "source": [
        "# QPSK QAM\n",
        "#stop = 7\n",
        "#QAM_agg_df, QAM_agg_dict = aggreagator(df_qam, stop_gap=100, total_num_of_data=1281, min_prime = False)\n",
        "#pickle_out(QAM_agg_dict, \"agg_spectrum_QAM_\"+str(stop))"
      ],
      "metadata": {
        "id": "Ps2K4LYJjiyF"
      },
      "execution_count": 152,
      "outputs": []
    },
    {
      "cell_type": "code",
      "source": [
        "#pickle_dummy_dict = pickle_in(\"agg_spectrum_QPSK_7\")\n",
        "\n",
        "#print(pickle_dummy_dict.keys())\n",
        "#ickle_dummy_dict['-19.90625'].values()"
      ],
      "metadata": {
        "id": "jpHux-rYjNUW"
      },
      "execution_count": 153,
      "outputs": []
    },
    {
      "cell_type": "markdown",
      "source": [
        "##Dummy Model"
      ],
      "metadata": {
        "id": "XY1LI-8G5IMU"
      }
    },
    {
      "cell_type": "code",
      "source": [
        "def get_dummy_spectrum(df):\n",
        "  new_df = df.groupby(['#node']).mean()\n",
        "  new_df.drop(['sampleid', 'Channels', 'power_dBm'], axis = 1, inplace = True)\n",
        "  dummy_dict = new_df.to_dict()\n",
        "  \n",
        "  return new_df, dummy_dict"
      ],
      "metadata": {
        "id": "LOGSo-fEt90g"
      },
      "execution_count": 154,
      "outputs": []
    },
    {
      "cell_type": "code",
      "source": [
        "#new_df = \n",
        "#node\t| Distance_km\t|-20\t      |-19.96875\t|-19.9375\t\t\t\t\t\t\t\t\t\t\t\t\t\t\t\t\t\t\t\t\t\t\n",
        "#1\t    | 0.0\t        |-52.955056\t|-54.126681\t|-52.713840\t\n",
        "#2\t    | 100.0\t      |-51.813386\t|-53.194155\t|-52.697528\n",
        "#3\t    | 200.0\t      |-55.626777\t|-54.634329\t|-54.702958\n",
        "\n",
        "#dummy_dict.keys() = dict_keys(['Distance_km', -20, -19.96875, -19.9375, -19.90625, -19.875, -19.84375...\n",
        "#dummy_dict[-20].values() = dict_values([-52.955056039, -51.813386274, -55.626777088])"
      ],
      "metadata": {
        "id": "z8uj4oke0jlJ"
      },
      "execution_count": 155,
      "outputs": []
    },
    {
      "cell_type": "code",
      "source": [
        "# Dummy Model QPSK\n",
        "#QPSK_dummy_df, QPSK_dummy_dict = get_dummy_spectrum(QPSK_agg_df)\n",
        "#pickle_out(QPSK_dummy_dict, \"dummy_AGG_spectrum_QPSK\")"
      ],
      "metadata": {
        "id": "pRYGOWfUu-bl"
      },
      "execution_count": 156,
      "outputs": []
    },
    {
      "cell_type": "code",
      "source": [
        "# Dummy Model QAM\n",
        "#QAM_dummy_df, QAM_dummy_dict = get_dummy_spectrum(QAM_agg_df)\n",
        "#pickle_out(QAM_dummy_dict, \"dummy_AGG_spectrum_QAM\")"
      ],
      "metadata": {
        "id": "ndaugJs8kHp2"
      },
      "execution_count": 157,
      "outputs": []
    },
    {
      "cell_type": "code",
      "source": [
        "#pickle_dummy_dict = pickle_in(\"dummy_AGG_spectrum_QPSK\")\n",
        "#pickle_dummy_dict['Distance_km'].values()"
      ],
      "metadata": {
        "id": "U33UXT4h3l03"
      },
      "execution_count": 158,
      "outputs": []
    },
    {
      "cell_type": "markdown",
      "source": [
        "# Processing"
      ],
      "metadata": {
        "id": "IdmcDZG0E1iC"
      }
    },
    {
      "cell_type": "markdown",
      "source": [
        "## Focus Selector"
      ],
      "metadata": {
        "id": "wW7XEh9FGvif"
      }
    },
    {
      "cell_type": "code",
      "source": [
        "# Aggregated model\n",
        "pickle_agg_QPSK_dict = pickle_in(\"test_agg_spectrum_QPSK_7\")\n",
        "pickle_agg_AQM_dict = pickle_in(\"test_agg_spectrum_QAM_7\")\n",
        "\n",
        "# Dummy models\n",
        "pickle_dummy_QPSK_dict = pickle_in(\"test_dummy_AGG_spectrum_QPSK\")\n",
        "pickle_dummy_QAM_dict = pickle_in(\"test_dummy_AGG_spectrum_QAM\")"
      ],
      "metadata": {
        "id": "IyDGYDa_FV3K"
      },
      "execution_count": 159,
      "outputs": []
    },
    {
      "cell_type": "code",
      "source": [
        "#new_df = \n",
        "#node\t  | Distance_km\t|-20\t      |-19.96875\t|-19.9375\t\t\t\t\t\t\t\t\t\t\t\t\t\t\t\t\t\t\t\t\t\t\n",
        "#1\t    | 0.0\t        |-52.955056\t|-54.126681\t|-52.713840\t\n",
        "#2\t    | 100.0\t      |-51.813386\t|-53.194155\t|-52.697528\n",
        "#3\t    | 200.0\t      |-55.626777\t|-54.634329\t|-54.702958\n",
        "\n",
        "#dummy_dict.keys() = dict_keys(['Distance_km', -20, -19.96875, -19.9375, -19.90625, -19.875, -19.84375...\n",
        "#dummy_dict[-20].values() = dict_values([-52.955056039, -51.813386274, -55.626777088])"
      ],
      "metadata": {
        "id": "VzbTOBpDHeAf"
      },
      "execution_count": 160,
      "outputs": []
    },
    {
      "cell_type": "code",
      "source": [
        "print(pickle_agg_QPSK_dict.keys())\n",
        "pickle_dummy_QAM_dict['-39.90625'].values()"
      ],
      "metadata": {
        "colab": {
          "base_uri": "https://localhost:8080/"
        },
        "id": "3Q8MWMxAFAM7",
        "outputId": "c5bd627b-4abb-4b77-f6ce-23f0e7c9da15"
      },
      "execution_count": 161,
      "outputs": [
        {
          "output_type": "stream",
          "name": "stdout",
          "text": [
            "dict_keys(['sampleid', 'Channels', 'Distance_km', 'power_dBm', '#node', '-19.96875', '-19.875', '-19.78125', '-19.6875', '-19.59375', '-19.5', '-19.40625', '-19.3125', '-19.21875', '-19.125', '-19.03125', '-18.9375', '-18.84375', '-18.75', '-18.65625', '-18.5625', '-18.46875', '-18.375', '-18.28125', '-18.1875', '-18.09375', '-18.0', '-17.90625', '-17.8125', '-17.71875', '-17.625', '-17.53125', '-17.4375', '-17.34375', '-17.25', '-17.15625', '-17.0625', '-16.96875', '-16.875', '-16.78125', '-16.6875', '-16.59375', '-16.5', '-16.40625', '-16.3125', '-16.21875', '-16.125', '-16.03125', '-15.9375', '-15.84375', '-15.75', '-15.65625', '-15.5625', '-15.46875', '-15.375', '-15.28125', '-15.1875', '-15.09375', '-15.0', '-14.90625', '-14.8125', '-14.71875', '-14.625', '-14.53125', '-14.4375', '-14.34375', '-14.25', '-14.15625', '-14.0625', '-13.96875', '-13.875', '-13.78125', '-13.6875', '-13.59375', '-13.5', '-13.40625', '-13.3125', '-13.21875', '-13.125', '-13.03125', '-12.9375', '-12.84375', '-12.75', '-12.65625', '-12.5625', '-12.46875', '-12.375', '-12.28125', '-12.1875', '-12.09375', '-12.0', '-11.90625', '-11.8125', '-11.71875', '-11.625', '-11.53125', '-11.4375', '-11.34375', '-11.25', '-11.15625', '-11.0625', '-10.96875', '-10.875', '-10.78125', '-10.6875', '-10.59375', '-10.5', '-10.40625', '-10.3125', '-10.21875', '-10.125', '-10.03125', '-9.9375', '-9.84375', '-9.75', '-9.65625', '-9.5625', '-9.46875', '-9.375', '-9.28125', '-9.1875', '-9.09375', '-9.0', '-8.90625', '-8.8125', '-8.71875', '-8.625', '-8.53125', '-8.4375', '-8.34375', '-8.25', '-8.15625', '-8.0625', '-7.96875', '-7.875', '-7.78125', '-7.6875', '-7.59375', '-7.5', '-7.40625', '-7.3125', '-7.21875', '-7.125', '-7.03125', '-6.9375', '-6.84375', '-6.75', '-6.65625', '-6.5625', '-6.46875', '-6.375', '-6.28125', '-6.1875', '-6.09375', '-6.0', '-5.90625', '-5.8125', '-5.71875', '-5.625', '-5.53125', '-5.4375', '-5.34375', '-5.25', '-5.15625', '-5.0625', '-4.96875', '-4.875', '-4.78125', '-4.6875', '-4.59375', '-4.5', '-4.40625', '-4.3125', '-4.21875', '-4.125', '-4.03125', '-3.9375', '-3.84375', '-3.75', '-3.65625', '-3.5625', '-3.46875', '-3.375', '-3.28125', '-3.1875', '-3.09375', '-3.0', '-2.90625', '-2.8125', '-2.71875', '-2.625', '-2.53125', '-2.4375', '-2.34375', '-2.25', '-2.15625', '-2.0625', '-1.96875', '-1.875', '-1.78125', '-1.6875', '-1.59375', '-1.5', '-1.40625', '-1.3125', '-1.21875', '-1.125', '-1.03125', '-0.9375', '-0.84375', '-0.75', '-0.65625', '-0.5625', '-0.46875', '-0.375', '-0.28125', '-0.1875', '-0.09375', '0.0', '0.09375', '0.1875', '0.28125', '0.375', '0.46875', '0.5625', '0.65625', '0.75', '0.84375', '0.9375', '1.03125', '1.125', '1.21875', '1.3125', '1.40625', '1.5', '1.59375', '1.6875', '1.78125', '1.875', '1.96875', '2.0625', '2.15625', '2.25', '2.34375', '2.4375', '2.53125', '2.625', '2.71875', '2.8125', '2.90625', '3.0', '3.09375', '3.1875', '3.28125', '3.375', '3.46875', '3.5625', '3.65625', '3.75', '3.84375', '3.9375', '4.03125', '4.125', '4.21875', '4.3125', '4.40625', '4.5', '4.59375', '4.6875', '4.78125', '4.875', '4.96875', '5.0625', '5.15625', '5.25', '5.34375', '5.4375', '5.53125', '5.625', '5.71875', '5.8125', '5.90625', '6.0', '6.09375', '6.1875', '6.28125', '6.375', '6.46875', '6.5625', '6.65625', '6.75', '6.84375', '6.9375', '7.03125', '7.125', '7.21875', '7.3125', '7.40625', '7.5', '7.59375', '7.6875', '7.78125', '7.875', '7.96875', '8.0625', '8.15625', '8.25', '8.34375', '8.4375', '8.53125', '8.625', '8.71875', '8.8125', '8.90625', '9.0', '9.09375', '9.1875', '9.28125', '9.375', '9.46875', '9.5625', '9.65625', '9.75', '9.84375', '9.9375', '10.03125', '10.125', '10.21875', '10.3125', '10.40625', '10.5', '10.59375', '10.6875', '10.78125', '10.875', '10.96875', '11.0625', '11.15625', '11.25', '11.34375', '11.4375', '11.53125', '11.625', '11.71875', '11.8125', '11.90625', '12.0', '12.09375', '12.1875', '12.28125', '12.375', '12.46875', '12.5625', '12.65625', '12.75', '12.84375', '12.9375', '13.03125', '13.125', '13.21875', '13.3125', '13.40625', '13.5', '13.59375', '13.6875', '13.78125', '13.875', '13.96875', '14.0625', '14.15625', '14.25', '14.34375', '14.4375', '14.53125', '14.625', '14.71875', '14.8125', '14.90625', '15.0', '15.09375', '15.1875', '15.28125', '15.375', '15.46875', '15.5625', '15.65625', '15.75', '15.84375', '15.9375', '16.03125', '16.125', '16.21875', '16.3125', '16.40625', '16.5', '16.59375', '16.6875', '16.78125', '16.875', '16.96875', '17.0625', '17.15625', '17.25', '17.34375', '17.4375', '17.53125', '17.625', '17.71875', '17.8125', '17.90625', '18.0', '18.09375', '18.1875', '18.28125', '18.375', '18.46875', '18.5625', '18.65625', '18.75', '18.84375', '18.9375', '19.03125', '19.125', '19.21875', '19.3125', '19.40625', '19.5', '19.59375', '19.6875', '19.78125', '19.875'])\n"
          ]
        },
        {
          "output_type": "execute_result",
          "data": {
            "text/plain": [
              "dict_values([-51.967543919, -50.006399713])"
            ]
          },
          "metadata": {},
          "execution_count": 161
        }
      ]
    },
    {
      "cell_type": "code",
      "source": [
        "def freq_selector(pickle_dict):\n",
        "  invalid = {'Distance_km','sampleid', 'Channels', 'power_dBm', '#node'}\n",
        "  freqs = []\n",
        "  for i in pickle_dict:\n",
        "    if i not in invalid:\n",
        "      freqs.append(i)\n",
        "  return np.array(freqs)\n",
        "#freq_selector(pickle_agg_QPSK_dict)"
      ],
      "metadata": {
        "id": "lgGkxQXmRc6B"
      },
      "execution_count": 162,
      "outputs": []
    },
    {
      "cell_type": "code",
      "source": [
        "def focus_selector_calc(eval_df, min_prime = False):\n",
        "  \n",
        "  sensitivity_df = pd.DataFrame()\n",
        "\n",
        "  # Find min common multipler (smallesr we can break the slots)\n",
        "  non_escencial_data_col = 5\n",
        "  \n",
        "  number_of_data = eval_df.shape[1]-(non_escencial_data_col-1)-1\n",
        "  \n",
        "  # Selecting the prime factors where we can reduce the data\n",
        "  #min_prime_num = min(prime_number_finder(stop_gap=100, total_num_of_data=number_of_data))\n",
        "  user_prime_selection = aggreagator_selection(stop_gap=100, total_num_of_data=number_of_data, min_prime = min_prime)  \n",
        "\n",
        "  cnt = 1\n",
        "  current = non_escencial_data_col\n",
        "  while current <= number_of_data:\n",
        "    end_range = current+(user_prime_selection)\n",
        "    new_df = eval_df[eval_df.columns[current:end_range]]\n",
        "\n",
        "    \n",
        "    # Add aggragated values to new df\n",
        "    sensitivity_df[eval_df.columns[current]] = new_df.mean(axis = 1)\n",
        "    current+=user_prime_selection\n",
        "    cnt+=1\n",
        "  return sensitivity_df, user_prime_selection\n",
        "\n",
        "# Select only the columns where we observe and increase of 500%\n",
        "# Return a dictionary with the row as keys and and array with positional location of columns to be selected as values\n",
        "def focus_selector_range(df, threshhold=5):\n",
        "  old_column = 0\n",
        "  selected_data_ranges = {}\n",
        "  shape = df.shape\n",
        "  rows = shape[0]\n",
        "  columns = shape[1]\n",
        "  for row in range(rows):\n",
        "    delta = 0\n",
        "    col_selected_array = []  \n",
        "    for col in range(columns):\n",
        "      if col == 0:\n",
        "        pass\n",
        "      else:   \n",
        "        delta = abs((df.iat[row, col])-(df.iat[row, (col-1)]))   \n",
        "        if delta>=threshhold:\n",
        "          col_selected_array.append(col) \n",
        "    selected_data_ranges[row] = col_selected_array\n",
        "   \n",
        "  return selected_data_ranges\n",
        "\n",
        "# Return dictionary with rows and columns to be selected from sensitivity_df\n",
        "def focus_selector_removing_outlayers(df, focus_dict, node):\n",
        "  threshold_pass = True\n",
        "  new_dict = {}\n",
        "  unique_columns = set({})\n",
        "  info_per_node = 10\n",
        "  nodes_dict_of_selected_columns = {}\n",
        "\n",
        "  # k = row\n",
        "  # v_array = array of columns selected\n",
        "  for k, v_array in focus_dict.items():\n",
        "    new_array = []\n",
        "    old_v = 0\n",
        "\n",
        "    # Check if selected columns are at least 7 or more to make sure threshold is not losing data\n",
        "    if len(v_array) <= 7:\n",
        "      #print('Threshold on function \"focus_selector_range\" is to big please select and smaller threshold.') \n",
        "      threshold_pass = False\n",
        "      break\n",
        "    # Adding one more selection earlier for being more flexible\n",
        "    elif old_v == 0:\n",
        "      min_array = min(v_array)-1\n",
        "      new_array.append(min_array)\n",
        "    \n",
        "    for v in v_array:\n",
        "      if abs(v - old_v) <=5 and abs(v - old_v) > 1 and old_v!= 0:\n",
        "        x = abs(v - old_v)\n",
        "        for i in range(x-1):\n",
        "          new_array.append(old_v+(i+1))\n",
        "      # Expanding by one the sensitive area\n",
        "      elif abs(v - old_v)>25:\n",
        "        new_array.append(old_v+1)\n",
        "        new_array.append(v-1)\n",
        "\n",
        "      old_v = v\n",
        "      new_array.append(v)\n",
        "\n",
        "    # Adding one more selection in the end for being more flexible\n",
        "    max_array = max(new_array)+1\n",
        "    new_array.append(max_array)\n",
        "\n",
        "    # Adding storage of all columns saved for later function\n",
        "    unique_columns.update(new_array)\n",
        "    if k == (info_per_node-1):\n",
        "      nodes_dict_of_selected_columns[node] = unique_columns\n",
        "      info_per_node = node*info_per_node\n",
        "      unique_columns = set({})\n",
        "    new_dict[k] = new_array\n",
        "  \n",
        "\n",
        "  return new_dict, nodes_dict_of_selected_columns, threshold_pass\n",
        "\n",
        "#-17.28125\t-16.625\t-15.96875\n",
        "#{0: [3, 4, 5, 6, 7, 54, 55, 56, 57]"
      ],
      "metadata": {
        "id": "wICvGDXAdaL4"
      },
      "execution_count": 163,
      "outputs": []
    },
    {
      "cell_type": "code",
      "source": [
        "def focus_selector(sensitivity_df, original_df, nodes_dict_of_selected_columns, node_selected):\n",
        "\n",
        "  total_of_columns = (sensitivity_df.shape[1])\n",
        "  mid_point = int(total_of_columns/2)\n",
        "\n",
        "  # Get list of columns to be selected\n",
        "  selected_node_columns = list(nodes_dict_of_selected_columns[node_selected])\n",
        "  \n",
        "  #Cleaning unwanted columns\n",
        "  max_pos = selected_node_columns.index(max(selected_node_columns))\n",
        "  \n",
        "  #Final selected columns for selected node\n",
        "  columns_to_be_selected = selected_node_columns[:max_pos+1]\n",
        "\n",
        "  # Select only the desired columns \n",
        "  columns_to_be_selected = sorted(columns_to_be_selected)\n",
        "\n",
        "  # Separate data in to left and right curves\n",
        "  left_columns = list()\n",
        "  right_columns = list()\n",
        "\n",
        "  for col in columns_to_be_selected:\n",
        "    if col <= mid_point:\n",
        "      left_columns.append(col)\n",
        "    else:\n",
        "      if col != sensitivity_df.shape[1]:\n",
        "        right_columns.append(col)\n",
        "\n",
        "  df_left = sensitivity_df.iloc[:, left_columns]\n",
        "  df_right = sensitivity_df.iloc[:, right_columns]\n",
        "  \n",
        "  # Add back additional info\n",
        "  selection = original_df.loc[:,'sampleid']\n",
        "  df_left.insert(0, 'sampleid', selection)\n",
        "  df_right.insert(0, 'sampleid', selection)\n",
        "\n",
        "  selection = original_df.loc[:,'Channels']\n",
        "  df_left.insert(1, 'Channels', selection)\n",
        "  df_right.insert(1, 'Channels', selection)\n",
        "\n",
        "  selection = original_df.loc[:,'Distance_km']\n",
        "  df_left.insert(2, 'Distance_km', selection)\n",
        "  df_right.insert(2, 'Distance_km', selection)\n",
        "\n",
        "  selection = original_df.loc[:,'power_dBm']\n",
        "  df_left.insert(3, 'power_dBm', selection)\n",
        "  df_right.insert(3, 'power_dBm', selection)\n",
        "\n",
        "  selection = original_df.loc[:,'#node']\n",
        "  df_left.insert(4, '#node', selection)\n",
        "  df_right.insert(4, '#node', selection)\n",
        "\n",
        "  #Select only the node desired\n",
        "  node_df_left = df_left.loc[df_left['#node'] == int(node_selected)]\n",
        "  node_df_right = df_right.loc[df_right['#node'] == int(node_selected)]\n",
        "\n",
        "  return node_df_left, node_df_right, columns_to_be_selected, left_columns, right_columns"
      ],
      "metadata": {
        "id": "garFmEl5PnYj"
      },
      "execution_count": 273,
      "outputs": []
    },
    {
      "cell_type": "markdown",
      "source": [
        "## Main focus selector"
      ],
      "metadata": {
        "id": "9RfNOxgmLxnU"
      }
    },
    {
      "cell_type": "code",
      "source": [
        "def focus_selector_complete(original_df, node_to_be_eval, min_desired_reduction_of_noise=0.15, aggregation = True, min_prime = False):\n",
        "\n",
        "  original_col_num = (original_df.shape[1]-5)\n",
        "  # Decide if we want agregation\n",
        "  if aggregation == True:\n",
        "    sensitivity_df, agg_range = focus_selector_calc(original_df, min_prime = min_prime)\n",
        "    max_smothed_amt = int(original_col_num/agg_range)\n",
        "  else:\n",
        "    sensitivity_df = original_df.copy()\n",
        "    drop_cols = [0, 1, 2, 3, 4]\n",
        "    sensitivity_df.drop(sensitivity_df.columns[drop_cols], axis=1, inplace=True)\n",
        "\n",
        "    max_smothed_amt = original_col_num\n",
        "\n",
        "  old_val_threshold = 0\n",
        "  for threshhold_val in range(20):\n",
        "\n",
        "    focus_dict = focus_selector_range(sensitivity_df, threshhold=threshhold_val)\n",
        "    new_dict_focus_selector, nodes_dict_of_selected_columns, threshold_pass = focus_selector_removing_outlayers(sensitivity_df, focus_dict, node = node_to_be_eval)\n",
        "\n",
        "    if threshold_pass == True:\n",
        "      percentage_reduced_of_noise = 1-(len(nodes_dict_of_selected_columns[node_to_be_eval])/max_smothed_amt)\n",
        "\n",
        "      # Find the optimal threshold\n",
        "      if percentage_reduced_of_noise >= min_desired_reduction_of_noise:\n",
        "\n",
        "        node_df_left, node_df_right, columns_to_be_selected, left_columns, right_columns = focus_selector(sensitivity_df, original_df, nodes_dict_of_selected_columns, node_selected = node_to_be_eval)\n",
        "        print('Reduced {} columns to {} columns.'.format(original_col_num, len(columns_to_be_selected)))\n",
        "        print('{}% reduced noise using a threshold of {}%.'.format(round(percentage_reduced_of_noise,2)*100, (threshhold_val*100)))\n",
        "      \n",
        "        print('Columns selected {}'.format(columns_to_be_selected))\n",
        "        break  \n",
        "\n",
        "      # Stop in case we arraive to the maximum threshold that would be looped\n",
        "      elif threshhold_val == 20:\n",
        "\n",
        "        node_df_left, node_df_right, columns_to_be_selected, left_columns, right_columns = focus_selector(sensitivity_df, original_df, nodes_dict_of_selected_columns, node_selected = node_to_be_eval)\n",
        "        print('Reduced {} columns to {} columns.'.format(original_col_num, len(columns_to_be_selected)))\n",
        "        print('{}% reduced noise using a threshold of {}%.'.format(round(percentage_reduced_of_noise,2)*100, (threshhold_val*100)))\n",
        "      \n",
        "        print('Columns selected {}'.format(columns_to_be_selected))\n",
        "        break          \n",
        "    \n",
        "    # In case the threholds is to big we stop and use the previos one\n",
        "    elif threshold_pass == False:\n",
        "      focus_dict = focus_selector_range(sensitivity_df, threshhold=old_val_threshold)\n",
        "      new_dict_focus_selector, nodes_dict_of_selected_columns, threshold_pass = focus_selector_removing_outlayers(sensitivity_df, focus_dict) \n",
        "           \n",
        "      percentage_reduced_of_noise = 1-(len(nodes_dict_of_selected_columns[node_to_be_eval])/max_smothed_amt)\n",
        "\n",
        "      node_df_left, node_df_right, columns_to_be_selected, left_columns, right_columns = focus_selector(sensitivity_df, original_df, nodes_dict_of_selected_columns, node_selected = node_to_be_eval)\n",
        "      print('Reduced {} columns to {} columns.'.format(original_col_num, len(columns_to_be_selected)))\n",
        "      print('{}% reduced noise using a threshold of {}%.'.format(round(percentage_reduced_of_noise,2)*100, (threshhold_val*100)))\n",
        "    \n",
        "      print('Columns selected {}'.format(columns_to_be_selected))      \n",
        "      break\n",
        "  \n",
        "    old_val_threshold += 1\n",
        "  return node_df_left, node_df_right, columns_to_be_selected, left_columns, right_columns\n"
      ],
      "metadata": {
        "id": "hkdUN2uyHep-"
      },
      "execution_count": 274,
      "outputs": []
    },
    {
      "cell_type": "code",
      "source": [
        "def model_focus_selector(model_df, selected_columns, left_columns, right_columns, node_to_be_eval=1):\n",
        "\n",
        "  # Pre-process dummy model\n",
        "  model_node_row = model_df.iloc[[node_to_be_eval-1]]\n",
        "  model_node_row.drop('Distance_km', axis=1, inplace=True)\n",
        "\n",
        "\n",
        "  model_node_row_left = model_node_row.iloc[:, left_columns]\n",
        "  model_node_row_right = model_node_row.iloc[:, right_columns]\n",
        "  \n",
        "  # Add back additional info\n",
        "  model_node_row_left.insert(0, 'sampleid', 1)\n",
        "  model_node_row_right.insert(0, 'sampleid', 1)\n",
        "\n",
        "  model_node_row_left.insert(1, 'Channels', 1)\n",
        "  model_node_row_right.insert(1, 'Channels', 1)\n",
        "\n",
        "  model_node_row_left.insert(2, 'Distance_km', node_to_be_eval*100)\n",
        "  model_node_row_right.insert(2, 'Distance_km', node_to_be_eval*100)\n",
        "\n",
        "  model_node_row_left.insert(3, 'power_dBm', -2)\n",
        "  model_node_row_right.insert(3, 'power_dBm', -2)\n",
        "\n",
        "  model_node_row_left.insert(4, '#node', node_to_be_eval)\n",
        "  model_node_row_right.insert(4, '#node', node_to_be_eval)\n",
        "\n",
        "\n",
        "  return model_node_row_left, model_node_row_right"
      ],
      "metadata": {
        "id": "z3O42LAaVLUB"
      },
      "execution_count": 283,
      "outputs": []
    },
    {
      "cell_type": "code",
      "source": [
        "node_df_left, node_df_right, columns_to_be_selected, left_columns, right_columns = focus_selector_complete(df_qpsk, node_to_be_eval=1, min_desired_reduction_of_noise=0.15, aggregation = True, min_prime = True)"
      ],
      "metadata": {
        "colab": {
          "base_uri": "https://localhost:8080/"
        },
        "id": "udKotWlmKzTJ",
        "outputId": "81ff0efd-eba5-4f1f-c281-c8187adeb0bc"
      },
      "execution_count": 280,
      "outputs": [
        {
          "output_type": "stream",
          "name": "stdout",
          "text": [
            "Selected the least common denominator for aggregation (3) with a frequency of 0.0625.\n"
          ]
        },
        {
          "output_type": "stream",
          "name": "stderr",
          "text": [
            "/usr/local/lib/python3.7/dist-packages/ipykernel_launcher.py:22: PerformanceWarning: DataFrame is highly fragmented.  This is usually the result of calling `frame.insert` many times, which has poor performance.  Consider joining all columns at once using pd.concat(axis=1) instead.  To get a de-fragmented frame, use `newframe = frame.copy()`\n"
          ]
        },
        {
          "output_type": "stream",
          "name": "stdout",
          "text": [
            "Reduced 1281 columns to 290 columns.\n",
            "32.0% reduced noise using a threshold of 900%.\n",
            "Columns selected [1, 2, 3, 4, 5, 6, 7, 8, 9, 10, 11, 12, 18, 19, 20, 21, 22, 23, 26, 27, 29, 30, 31, 32, 33, 34, 35, 39, 40, 41, 42, 43, 44, 47, 48, 49, 50, 56, 57, 69, 70, 74, 75, 76, 77, 78, 80, 81, 82, 88, 89, 90, 91, 92, 93, 94, 95, 96, 97, 98, 99, 100, 101, 102, 103, 104, 105, 106, 110, 111, 112, 116, 117, 118, 119, 120, 121, 123, 124, 125, 126, 127, 128, 129, 130, 133, 134, 135, 136, 137, 138, 139, 140, 144, 145, 146, 147, 148, 149, 150, 151, 152, 153, 154, 155, 156, 157, 158, 159, 160, 168, 169, 170, 171, 172, 173, 174, 175, 176, 177, 178, 179, 180, 185, 186, 187, 188, 189, 190, 191, 192, 193, 194, 195, 196, 198, 199, 203, 204, 205, 210, 211, 212, 213, 214, 215, 216, 217, 218, 219, 220, 221, 222, 223, 224, 225, 226, 227, 228, 229, 230, 231, 232, 233, 234, 235, 236, 237, 238, 239, 240, 241, 242, 244, 245, 246, 258, 259, 260, 263, 264, 265, 266, 272, 273, 274, 275, 276, 277, 279, 280, 281, 282, 283, 284, 285, 288, 289, 291, 292, 297, 298, 300, 302, 303, 304, 305, 306, 307, 308, 309, 310, 311, 312, 313, 314, 315, 317, 318, 319, 320, 321, 322, 323, 324, 330, 331, 332, 333, 334, 335, 338, 339, 340, 341, 342, 343, 344, 347, 348, 349, 351, 352, 353, 358, 359, 360, 361, 364, 365, 366, 370, 371, 374, 375, 376, 377, 380, 381, 383, 384, 385, 386, 387, 388, 389, 390, 391, 392, 393, 394, 395, 396, 397, 398, 399, 400, 401, 405, 410, 411, 416, 417, 418, 419, 420, 421, 422, 423, 424]\n"
          ]
        }
      ]
    },
    {
      "cell_type": "code",
      "source": [
        "model_node_row_left, model_node_row_right = model_focus_selector(QPSK_dummy_df, columns_to_be_selected, left_columns, right_columns, node_to_be_eval=1)"
      ],
      "metadata": {
        "colab": {
          "base_uri": "https://localhost:8080/"
        },
        "id": "hM-tkCb4KzxW",
        "outputId": "230c61e3-f7d0-4b58-9617-3bf9c9d8b0cd"
      },
      "execution_count": 284,
      "outputs": [
        {
          "output_type": "stream",
          "name": "stderr",
          "text": [
            "/usr/local/lib/python3.7/dist-packages/pandas/core/frame.py:4913: SettingWithCopyWarning: \n",
            "A value is trying to be set on a copy of a slice from a DataFrame\n",
            "\n",
            "See the caveats in the documentation: https://pandas.pydata.org/pandas-docs/stable/user_guide/indexing.html#returning-a-view-versus-a-copy\n",
            "  errors=errors,\n"
          ]
        }
      ]
    },
    {
      "cell_type": "markdown",
      "source": [
        "## Linear Regresion"
      ],
      "metadata": {
        "id": "R8z1fmNEBGdo"
      }
    },
    {
      "cell_type": "code",
      "source": [
        "def obtain_regresion_features(sample_df, model_df):\n",
        "\n",
        "  # Get model data\n",
        "  model_df = model_df.iloc[0].to_numpy()\n",
        "  model_df = model_df[5:]\n",
        "  y = np.array(model_df)\n",
        "  features_dict = {}\n",
        "  # Get Sample data\n",
        "  for row in range(sample_df.shape[0]):\n",
        "    features = []\n",
        "\n",
        "    row_data_sample = sample_df.iloc[row].to_numpy()\n",
        "    row_data_sample = row_data_sample[5:]\n",
        "    x = np.array(row_data_sample).reshape((-1, 1))\n",
        "    \n",
        "    # Get linear regresion features\n",
        "    model = LinearRegression()\n",
        "    model.fit(x, y)\n",
        "    model = LinearRegression().fit(x, y)\n",
        "    r_sq = model.score(x, y)\n",
        "    intercept = model.intercept_\n",
        "    slope = model.coef_\n",
        "    \n",
        "    features.append(r_sq)\n",
        "    features.append(intercept)\n",
        "    features.append(slope[0])\n",
        "\n",
        "    features_dict['Sample_'+str(row+1)] = features\n",
        "  # Return dictionary with sample as key and a array with (r_sq, intercept, slope) as values\n",
        "  return features_dict\n",
        "\n",
        "\n",
        "def linear_regresion(node_df_left, node_df_right, model_node_row_left, model_node_row_right):\n",
        "\n",
        "  # Checking left side\n",
        "  left_features_dict = obtain_regresion_features(node_df_left, model_node_row_left)\n",
        "\n",
        "  # Checking right side\n",
        "  right_features_dict = obtain_regresion_features(node_df_right, model_node_row_right)\n",
        "  \n",
        "  r_sqr_agg = []\n",
        "  intercept_agg = []\n",
        "  slope_agg = []\n",
        "  combined_features_dict = {}\n",
        "  for k, val_array in left_features_dict.items():\n",
        "    combined_features = []\n",
        "    # Combining r_sqr\n",
        "    combined_r_sq = (val_array[0] + right_features_dict[k][0])/2 \n",
        "    combined_features.append(combined_r_sq)\n",
        "    r_sqr_agg.append(combined_r_sq)\n",
        "\n",
        "    # Combining intercept\n",
        "    combined_intercept = (val_array[1] + right_features_dict[k][1])/2 \n",
        "    combined_features.append(combined_intercept)\n",
        "    intercept_agg.append(combined_intercept)\n",
        "\n",
        "    # Combining slope\n",
        "    combined_slope = (val_array[2] + right_features_dict[k][2])/2 \n",
        "    combined_features.append(combined_slope)\n",
        "    slope_agg.append(combined_slope)\n",
        "\n",
        "    combined_features_dict[k] = combined_features\n",
        "\n",
        "  # Get overall average of each feature\n",
        "  r_sqr_val = np.average(r_sqr_agg)\n",
        "  intercept_val = np.average(intercept_agg)\n",
        "  slope_val = np.average(slope_agg)\n",
        "  # Return dictionary with sample as key and a array with (r_sq, intercept, slope) as values with combined left and right curves\n",
        "  return combined_features_dict, r_sqr_val, intercept_val, slope_val\n",
        "  \n",
        "  # Prediction\n",
        "  #y_pred = model.predict(x)\n",
        "  #print('predicted response:', y_pred, sep='\\n')\n"
      ],
      "metadata": {
        "id": "sG7h6ECbBMIL"
      },
      "execution_count": 167,
      "outputs": []
    },
    {
      "cell_type": "code",
      "source": [
        "combined_features_dict, r_sqr_val, intercept_val, slope_val = linear_regresion(node_df_left, node_df_right, model_node_row_left, model_node_row_right)"
      ],
      "metadata": {
        "id": "e0Q_bDFYgLne"
      },
      "execution_count": 168,
      "outputs": []
    },
    {
      "cell_type": "code",
      "source": [
        "print(r_sqr_val)\n",
        "print(intercept_val)\n",
        "print(slope_val)"
      ],
      "metadata": {
        "colab": {
          "base_uri": "https://localhost:8080/"
        },
        "id": "cNFtVQ_0GKkG",
        "outputId": "c35fe7aa-81f6-42da-eccb-cd8323654ef5"
      },
      "execution_count": 169,
      "outputs": [
        {
          "output_type": "stream",
          "name": "stdout",
          "text": [
            "0.8870656881561457\n",
            "-2.2017675842815763\n",
            "0.8872517124880088\n"
          ]
        }
      ]
    },
    {
      "cell_type": "code",
      "source": [
        "print(combined_features_dict)"
      ],
      "metadata": {
        "colab": {
          "base_uri": "https://localhost:8080/"
        },
        "id": "aQ8nFQMN-usb",
        "outputId": "9b20f3a7-8721-4e05-8d95-cdb1c8533e73"
      },
      "execution_count": 170,
      "outputs": [
        {
          "output_type": "stream",
          "name": "stdout",
          "text": [
            "{'Sample_1': [0.8833863390715191, -1.9461701142247314, 0.8780060144855435], 'Sample_2': [0.884968449209298, -3.004290324874715, 0.8881606313213234], 'Sample_3': [0.8855196537979639, -2.1750212403980953, 0.8894978271839873], 'Sample_4': [0.8916998981010285, -3.051426735850324, 0.8861469488934133], 'Sample_5': [0.8829683396261425, -1.171668580696453, 0.8898245720925081], 'Sample_6': [0.8835023749892577, -2.8324245404233306, 0.8733441416652403], 'Sample_7': [0.8874445808115341, -0.793366885692917, 0.890154005230884], 'Sample_8': [0.900930670326529, -2.0226616321109816, 0.8986698437755491], 'Sample_9': [0.8868361404479461, -2.1726609495037597, 0.8797609115292577], 'Sample_10': [0.8834004351802379, -2.847984839040457, 0.898952228702382]}\n"
          ]
        }
      ]
    },
    {
      "cell_type": "markdown",
      "source": [
        "## Test_1"
      ],
      "metadata": {
        "id": "g8lFDEuhGWmb"
      }
    },
    {
      "cell_type": "code",
      "source": [
        "data_path=path+\"/Spectrum\"\n",
        "\n",
        "qpsk_path=\"/QPSK/A.10hops100km/\"\n",
        "qam_path=\"/16QAM/A.10hops100km\"\n",
        "\n",
        "#file_name=\"/dataSet_Spectrum_Samples_QPSK_37GHz_LongHaul_output_10x100.xlsx\"\n",
        "file_name=\"/QPSK_dummy.xlsx\"\n",
        "# Skipping first row since only contain \"Frequency\" headers\n",
        "df_qpsk=pd.read_excel(data_path+qpsk_path+file_name, sheet_name = \"Sheet1\", skiprows=1)\n",
        "\n",
        "#file_name=\"/dataSet_Spectrum_Samples_16QAM_75GHz_LongHaul_output_10x100.xlsx\"\n",
        "file_name=\"/16QAM_dummy.xlsx\"\n",
        "df_qam=pd.read_excel(data_path+qam_path+file_name, sheet_name = \"Sheet1\", skiprows=1)\n",
        "\n",
        "#Diff in column 5 to 1,286 0.03125"
      ],
      "metadata": {
        "id": "yl7jEG7kK1rW"
      },
      "execution_count": 285,
      "outputs": []
    },
    {
      "cell_type": "code",
      "source": [
        "data_path=path+\"/Spectrum\"\n",
        "qpsk_path=\"/QPSK/A.10hops100km/\"\n",
        "\n",
        "#file_name=\"/dataSet_Spectrum_Samples_QPSK_37GHz_LongHaul_output_10x100.xlsx\"\n",
        "file_name=\"/QPSK_dummy.xlsx\"\n",
        "\n",
        "#Load sample data\n",
        "df_qpsk=pd.read_excel(data_path+qpsk_path+file_name, sheet_name = \"Sheet1\", skiprows=1)\n",
        "# Load model data\n",
        "QPSK_dummy_df, QPSK_dummy_dict = get_dummy_spectrum(df_qpsk)\n",
        "\n",
        "# Sample node\n",
        "sample_node = 1\n",
        "# Model node\n",
        "model_node = 1\n",
        "\n",
        "# Get sample data\n",
        "node_df_left, node_df_right, selected_columns, left_columns, right_columns = focus_selector_complete(df_qpsk, node_to_be_eval=sample_node, min_desired_reduction_of_noise=0.15, aggregation = False, min_prime = False)\n",
        "\n",
        "# Get model data\n",
        "model_node_row_left, model_node_row_right = model_focus_selector(QPSK_dummy_df, selected_columns, left_columns, right_columns, node_to_be_eval=model_node)\n",
        "\n",
        "print('---Left Side Shape---')\n",
        "print(node_df_left.shape)\n",
        "print(model_node_row_left.shape)\n",
        "\n",
        "print('---right Side Shape---')\n",
        "print(node_df_right.shape)\n",
        "print(model_node_row_right.shape)\n",
        "\n",
        "# Get linear regresion features\n",
        "combined_features_dict, r_sqr_val, intercept_val, slope_val = linear_regresion(node_df_left, node_df_right, model_node_row_left, model_node_row_right)\n",
        "\n",
        "print('---Linear Regresion Features---')\n",
        "print('coefficient of determination:', r_sqr_val)\n",
        "print('intercept:', intercept_val)\n",
        "print('slope:', slope_val)"
      ],
      "metadata": {
        "colab": {
          "base_uri": "https://localhost:8080/"
        },
        "id": "mCmHLZ10GV3E",
        "outputId": "a6691ff9-821f-4bf7-9859-9e9253948944"
      },
      "execution_count": 287,
      "outputs": [
        {
          "output_type": "stream",
          "name": "stdout",
          "text": [
            "Reduced 1281 columns to 1045 columns.\n",
            "18.0% reduced noise using a threshold of 1300%.\n",
            "Columns selected [1, 2, 3, 4, 5, 6, 7, 8, 9, 10, 11, 12, 13, 14, 15, 16, 17, 18, 19, 20, 21, 22, 23, 24, 25, 26, 27, 28, 29, 30, 31, 32, 33, 34, 35, 36, 37, 38, 39, 40, 41, 45, 46, 48, 49, 54, 55, 56, 57, 58, 59, 60, 61, 62, 63, 64, 65, 66, 67, 68, 69, 74, 75, 76, 77, 78, 79, 80, 81, 82, 83, 84, 85, 86, 87, 88, 89, 90, 91, 92, 93, 94, 95, 98, 99, 100, 101, 102, 103, 104, 105, 107, 108, 109, 110, 111, 112, 113, 114, 115, 116, 117, 118, 119, 120, 124, 125, 126, 127, 128, 130, 131, 132, 133, 138, 139, 140, 141, 144, 145, 146, 147, 148, 149, 150, 151, 152, 153, 154, 155, 156, 157, 158, 159, 160, 161, 162, 163, 164, 165, 168, 169, 170, 171, 172, 173, 174, 175, 176, 177, 178, 179, 180, 181, 182, 183, 184, 185, 186, 187, 188, 189, 190, 191, 192, 193, 194, 195, 199, 202, 206, 207, 209, 210, 211, 212, 213, 214, 215, 216, 217, 218, 219, 220, 221, 222, 223, 224, 225, 226, 227, 228, 229, 230, 231, 232, 233, 239, 240, 241, 243, 246, 247, 250, 251, 252, 253, 254, 255, 256, 257, 258, 259, 260, 261, 264, 265, 266, 267, 268, 269, 270, 271, 272, 273, 279, 280, 282, 283, 286, 287, 288, 289, 290, 291, 292, 293, 294, 295, 297, 298, 299, 300, 301, 302, 303, 304, 307, 308, 309, 310, 311, 312, 313, 314, 315, 316, 317, 318, 319, 320, 323, 324, 325, 326, 327, 328, 329, 330, 331, 332, 333, 334, 335, 336, 337, 338, 339, 340, 341, 342, 343, 344, 345, 346, 347, 349, 350, 351, 352, 353, 354, 359, 360, 361, 362, 363, 364, 365, 366, 367, 368, 369, 370, 371, 372, 373, 374, 375, 376, 377, 378, 379, 380, 381, 382, 383, 384, 385, 386, 387, 388, 389, 390, 391, 392, 393, 394, 397, 401, 402, 403, 404, 405, 406, 407, 408, 409, 410, 412, 413, 414, 415, 416, 417, 418, 420, 421, 422, 423, 424, 425, 426, 427, 428, 429, 430, 431, 432, 433, 435, 436, 437, 438, 439, 440, 441, 442, 443, 444, 445, 447, 448, 449, 450, 451, 452, 453, 454, 455, 456, 457, 459, 460, 461, 462, 463, 464, 465, 466, 470, 471, 477, 478, 479, 482, 488, 489, 490, 492, 496, 497, 498, 499, 500, 501, 502, 503, 504, 505, 506, 507, 508, 509, 510, 511, 512, 513, 514, 515, 516, 517, 518, 519, 520, 521, 522, 523, 524, 525, 526, 527, 528, 529, 530, 531, 532, 533, 534, 535, 536, 537, 538, 539, 540, 544, 545, 546, 547, 551, 552, 555, 556, 557, 558, 559, 560, 561, 562, 565, 566, 567, 568, 569, 570, 575, 576, 577, 578, 579, 580, 581, 582, 583, 584, 585, 586, 587, 588, 589, 590, 591, 592, 593, 594, 595, 597, 598, 599, 601, 602, 603, 605, 606, 607, 608, 609, 610, 611, 612, 613, 614, 615, 616, 617, 618, 619, 620, 621, 622, 623, 624, 625, 626, 627, 628, 631, 632, 633, 634, 635, 637, 638, 641, 642, 643, 644, 645, 646, 655, 656, 657, 660, 662, 663, 664, 665, 666, 667, 668, 669, 670, 671, 672, 673, 674, 675, 676, 677, 678, 679, 680, 681, 682, 683, 684, 685, 686, 687, 688, 689, 690, 691, 692, 693, 694, 695, 696, 700, 701, 703, 705, 706, 707, 708, 709, 710, 712, 713, 714, 715, 716, 717, 718, 719, 720, 721, 722, 723, 724, 725, 726, 727, 729, 730, 731, 734, 735, 739, 740, 741, 742, 743, 744, 745, 746, 747, 748, 749, 750, 751, 752, 753, 754, 760, 761, 763, 764, 765, 766, 767, 768, 769, 770, 771, 772, 773, 774, 775, 776, 777, 778, 779, 780, 781, 782, 783, 784, 785, 786, 789, 790, 791, 792, 793, 794, 795, 796, 797, 798, 802, 803, 804, 805, 806, 807, 808, 809, 810, 811, 812, 813, 814, 815, 816, 817, 818, 819, 820, 821, 822, 823, 824, 827, 828, 829, 830, 831, 832, 833, 834, 835, 836, 837, 838, 839, 840, 841, 842, 843, 844, 845, 846, 851, 852, 853, 854, 855, 856, 857, 858, 859, 860, 861, 862, 863, 864, 869, 870, 871, 872, 873, 874, 875, 876, 877, 878, 879, 880, 881, 882, 883, 884, 885, 886, 887, 888, 889, 890, 892, 893, 894, 898, 899, 900, 901, 902, 903, 904, 905, 906, 907, 908, 910, 911, 912, 913, 914, 915, 916, 917, 918, 919, 920, 921, 922, 923, 924, 925, 926, 927, 928, 929, 930, 931, 932, 933, 934, 935, 936, 937, 938, 939, 940, 941, 943, 946, 947, 953, 954, 955, 956, 957, 958, 959, 960, 961, 962, 963, 964, 965, 966, 967, 968, 969, 970, 971, 972, 973, 974, 975, 979, 980, 981, 982, 983, 984, 985, 986, 987, 988, 989, 990, 991, 992, 993, 994, 995, 996, 997, 999, 1002, 1003, 1004, 1005, 1007, 1008, 1009, 1010, 1012, 1013, 1014, 1015, 1016, 1017, 1018, 1019, 1020, 1021, 1022, 1023, 1024, 1025, 1026, 1027, 1028, 1029, 1030, 1031, 1032, 1033, 1034, 1035, 1036, 1037, 1038, 1039, 1040, 1041, 1042, 1043, 1044, 1045, 1046, 1047, 1048, 1054, 1056, 1063, 1064, 1065, 1066, 1067, 1068, 1069, 1070, 1071, 1072, 1073, 1074, 1076, 1077, 1078, 1079, 1080, 1087, 1088, 1089, 1090, 1091, 1092, 1093, 1094, 1095, 1096, 1097, 1098, 1099, 1100, 1101, 1102, 1103, 1104, 1106, 1108, 1109, 1115, 1116, 1117, 1118, 1119, 1120, 1121, 1122, 1123, 1124, 1125, 1126, 1127, 1128, 1129, 1132, 1133, 1134, 1135, 1136, 1137, 1138, 1139, 1140, 1141, 1142, 1143, 1144, 1148, 1149, 1150, 1151, 1152, 1153, 1154, 1155, 1156, 1157, 1158, 1162, 1163, 1164, 1166, 1167, 1168, 1169, 1170, 1171, 1172, 1173, 1174, 1175, 1176, 1178, 1179, 1180, 1181, 1182, 1183, 1184, 1185, 1186, 1187, 1188, 1189, 1190, 1191, 1192, 1193, 1195, 1196, 1197, 1198, 1199, 1200, 1201, 1202, 1203, 1204, 1205, 1206, 1207, 1208, 1209, 1210, 1211, 1214, 1215, 1216, 1220, 1221, 1224, 1228, 1229, 1230, 1233, 1234, 1235, 1236, 1237, 1238, 1240, 1241, 1242, 1243, 1246, 1247, 1248, 1249, 1250, 1251, 1252, 1253, 1254, 1255, 1256, 1257, 1258, 1259, 1260, 1261, 1262, 1263, 1265, 1266, 1267, 1269, 1270, 1271, 1272, 1273, 1274, 1275, 1276, 1277, 1278, 1279, 1280, 1281]\n",
            "---Left Side Shape---\n",
            "(10, 528)\n",
            "(1, 528)\n",
            "---right Side Shape---\n",
            "(10, 526)\n",
            "(1, 526)\n",
            "---Linear Regresion Features---\n",
            "coefficient of determination: 0.8870656881561457\n",
            "intercept: -2.2017675842815763\n",
            "slope: 0.8872517124880088\n"
          ]
        },
        {
          "output_type": "stream",
          "name": "stderr",
          "text": [
            "/usr/local/lib/python3.7/dist-packages/pandas/core/frame.py:4913: SettingWithCopyWarning: \n",
            "A value is trying to be set on a copy of a slice from a DataFrame\n",
            "\n",
            "See the caveats in the documentation: https://pandas.pydata.org/pandas-docs/stable/user_guide/indexing.html#returning-a-view-versus-a-copy\n",
            "  errors=errors,\n"
          ]
        }
      ]
    },
    {
      "cell_type": "markdown",
      "source": [
        "# Test_2"
      ],
      "metadata": {
        "id": "-3BasbrZ_JzW"
      }
    },
    {
      "cell_type": "code",
      "source": [
        "data_path=path+\"/Spectrum\"\n",
        "qpsk_path=\"/QPSK/A.10hops100km/\"\n",
        "\n",
        "#file_name=\"/dataSet_Spectrum_Samples_QPSK_37GHz_LongHaul_output_10x100.xlsx\"\n",
        "file_name=\"/QPSK_dummy.xlsx\"\n",
        "\n",
        "#Load sample data\n",
        "df_qpsk = pd.read_excel(data_path+qpsk_path+file_name, sheet_name = \"Sheet1\", skiprows=1)\n",
        "# Load model data\n",
        "QPSK_dummy_df, QPSK_dummy_dict = get_dummy_spectrum(df_qpsk)"
      ],
      "metadata": {
        "id": "JlN5k1iL_FyK"
      },
      "execution_count": 288,
      "outputs": []
    },
    {
      "cell_type": "code",
      "source": [
        "def obtain_sample_data(df_sample):\n",
        "  df_store_sample = {}\n",
        "  stored_selcted_columns = {}\n",
        "\n",
        "  for node in df_sample['#node'].unique():\n",
        "    print(node)\n",
        "    print('--- Calculating Node {} ---'.format(node))\n",
        "    sample_tails_array = []\n",
        "    selct_columns = []\n",
        "    # Get sample data\n",
        "    node_df_left, node_df_right, selected_columns, left_columns, right_columns = focus_selector_complete(df_sample, node_to_be_eval=node, min_desired_reduction_of_noise=0.15, aggregation = True, min_prime = True)\n",
        "\n",
        "    sample_tails_array.append(node_df_left.to_dict())\n",
        "    sample_tails_array.append(node_df_right.to_dict())\n",
        "    \n",
        "    selct_columns.append(left_columns)\n",
        "    selct_columns.append(right_columns)\n",
        "\n",
        "    df_store_sample['Node_'+str(node)] = sample_tails_array\n",
        "    stored_selcted_columns['Node_'+str(node)] = selct_columns\n",
        "\n",
        "    print('\\n')\n",
        "  return df_store_sample, stored_selcted_columns\n",
        "  # {'Node_1':[dict_left, dect_right]}\n",
        "  #df = pd.DataFrame.from_dict(df_store_sample['Node_1'])"
      ],
      "metadata": {
        "id": "ht6GjqfRoPZd"
      },
      "execution_count": 335,
      "outputs": []
    },
    {
      "cell_type": "code",
      "source": [
        "df_store_sample, stored_selcted_columns = obtain_sample_data(df_qpsk)"
      ],
      "metadata": {
        "colab": {
          "base_uri": "https://localhost:8080/"
        },
        "id": "64y_1YaDC-7B",
        "outputId": "35f1b646-8282-4531-98f0-329b3266c909"
      },
      "execution_count": 336,
      "outputs": [
        {
          "output_type": "stream",
          "name": "stdout",
          "text": [
            "1\n",
            "--- Calculating Node 1 ---\n",
            "Selected the least common denominator for aggregation (3) with a frequency of 0.0625.\n"
          ]
        },
        {
          "output_type": "stream",
          "name": "stderr",
          "text": [
            "/usr/local/lib/python3.7/dist-packages/ipykernel_launcher.py:22: PerformanceWarning: DataFrame is highly fragmented.  This is usually the result of calling `frame.insert` many times, which has poor performance.  Consider joining all columns at once using pd.concat(axis=1) instead.  To get a de-fragmented frame, use `newframe = frame.copy()`\n"
          ]
        },
        {
          "output_type": "stream",
          "name": "stdout",
          "text": [
            "Reduced 1281 columns to 290 columns.\n",
            "32.0% reduced noise using a threshold of 900%.\n",
            "Columns selected [1, 2, 3, 4, 5, 6, 7, 8, 9, 10, 11, 12, 18, 19, 20, 21, 22, 23, 26, 27, 29, 30, 31, 32, 33, 34, 35, 39, 40, 41, 42, 43, 44, 47, 48, 49, 50, 56, 57, 69, 70, 74, 75, 76, 77, 78, 80, 81, 82, 88, 89, 90, 91, 92, 93, 94, 95, 96, 97, 98, 99, 100, 101, 102, 103, 104, 105, 106, 110, 111, 112, 116, 117, 118, 119, 120, 121, 123, 124, 125, 126, 127, 128, 129, 130, 133, 134, 135, 136, 137, 138, 139, 140, 144, 145, 146, 147, 148, 149, 150, 151, 152, 153, 154, 155, 156, 157, 158, 159, 160, 168, 169, 170, 171, 172, 173, 174, 175, 176, 177, 178, 179, 180, 185, 186, 187, 188, 189, 190, 191, 192, 193, 194, 195, 196, 198, 199, 203, 204, 205, 210, 211, 212, 213, 214, 215, 216, 217, 218, 219, 220, 221, 222, 223, 224, 225, 226, 227, 228, 229, 230, 231, 232, 233, 234, 235, 236, 237, 238, 239, 240, 241, 242, 244, 245, 246, 258, 259, 260, 263, 264, 265, 266, 272, 273, 274, 275, 276, 277, 279, 280, 281, 282, 283, 284, 285, 288, 289, 291, 292, 297, 298, 300, 302, 303, 304, 305, 306, 307, 308, 309, 310, 311, 312, 313, 314, 315, 317, 318, 319, 320, 321, 322, 323, 324, 330, 331, 332, 333, 334, 335, 338, 339, 340, 341, 342, 343, 344, 347, 348, 349, 351, 352, 353, 358, 359, 360, 361, 364, 365, 366, 370, 371, 374, 375, 376, 377, 380, 381, 383, 384, 385, 386, 387, 388, 389, 390, 391, 392, 393, 394, 395, 396, 397, 398, 399, 400, 401, 405, 410, 411, 416, 417, 418, 419, 420, 421, 422, 423, 424]\n",
            "\n",
            "\n",
            "2\n",
            "--- Calculating Node 2 ---\n",
            "Selected the least common denominator for aggregation (3) with a frequency of 0.0625.\n",
            "Reduced 1281 columns to 352 columns.\n",
            "18.0% reduced noise using a threshold of 800%.\n",
            "Columns selected [1, 2, 3, 4, 5, 7, 8, 9, 10, 11, 12, 13, 14, 15, 16, 17, 18, 19, 20, 23, 24, 25, 28, 29, 30, 31, 32, 33, 34, 35, 36, 37, 38, 39, 40, 41, 42, 43, 44, 45, 46, 47, 48, 49, 56, 57, 59, 60, 61, 63, 64, 65, 66, 67, 69, 70, 71, 72, 73, 74, 75, 76, 77, 81, 82, 84, 85, 86, 87, 88, 89, 90, 91, 92, 93, 94, 95, 96, 97, 98, 99, 100, 101, 102, 103, 104, 105, 106, 107, 108, 109, 110, 111, 112, 113, 114, 115, 116, 117, 118, 119, 120, 123, 124, 125, 126, 127, 128, 129, 130, 131, 132, 133, 134, 135, 136, 137, 138, 139, 140, 144, 145, 146, 147, 148, 149, 150, 151, 152, 153, 154, 155, 156, 157, 158, 159, 160, 167, 168, 169, 170, 171, 172, 173, 174, 175, 176, 177, 178, 179, 180, 183, 184, 185, 186, 187, 188, 189, 190, 191, 192, 193, 194, 195, 196, 197, 198, 199, 200, 201, 202, 203, 204, 205, 209, 210, 211, 212, 213, 214, 215, 216, 217, 218, 219, 220, 221, 222, 223, 224, 225, 226, 227, 228, 229, 230, 231, 232, 233, 234, 235, 236, 237, 238, 239, 240, 241, 242, 243, 244, 245, 246, 258, 259, 262, 263, 264, 265, 266, 267, 268, 272, 273, 274, 275, 276, 277, 278, 279, 280, 281, 282, 283, 284, 285, 286, 287, 288, 289, 290, 291, 292, 293, 295, 296, 297, 298, 299, 300, 301, 302, 303, 304, 305, 306, 307, 308, 309, 310, 311, 312, 313, 314, 315, 317, 318, 319, 320, 321, 322, 323, 330, 331, 333, 334, 335, 336, 337, 338, 339, 340, 342, 343, 347, 348, 349, 351, 352, 353, 355, 356, 358, 359, 360, 361, 362, 363, 364, 365, 366, 367, 368, 369, 370, 371, 372, 373, 374, 375, 376, 377, 380, 381, 383, 384, 385, 386, 387, 388, 389, 390, 391, 392, 393, 394, 395, 396, 397, 398, 399, 400, 401, 402, 403, 404, 405, 406, 409, 410, 411, 412, 413, 414, 415, 416, 417, 418, 419, 420, 421, 423, 424]\n",
            "\n",
            "\n",
            "3\n",
            "--- Calculating Node 3 ---\n",
            "Selected the least common denominator for aggregation (3) with a frequency of 0.0625.\n",
            "Reduced 1281 columns to 328 columns.\n",
            "23.0% reduced noise using a threshold of 900%.\n",
            "Columns selected [0, 1, 2, 3, 4, 5, 6, 7, 8, 9, 10, 11, 12, 13, 14, 15, 16, 17, 18, 19, 20, 21, 22, 23, 24, 25, 26, 27, 28, 29, 30, 31, 32, 33, 34, 35, 36, 37, 38, 39, 40, 41, 42, 43, 44, 45, 46, 47, 48, 49, 50, 56, 57, 58, 59, 60, 61, 69, 70, 71, 72, 73, 74, 75, 76, 77, 80, 81, 82, 88, 89, 90, 91, 92, 93, 94, 95, 96, 97, 98, 99, 100, 101, 102, 103, 104, 105, 106, 110, 111, 112, 116, 117, 118, 119, 120, 121, 123, 124, 125, 126, 127, 128, 129, 130, 133, 134, 135, 136, 137, 138, 139, 140, 143, 144, 145, 146, 147, 148, 149, 150, 151, 152, 153, 154, 155, 156, 157, 158, 159, 168, 169, 170, 171, 172, 173, 174, 175, 176, 177, 178, 179, 180, 185, 186, 187, 188, 189, 190, 191, 192, 193, 194, 195, 196, 198, 199, 203, 204, 205, 210, 211, 212, 213, 214, 215, 216, 217, 218, 219, 220, 221, 222, 223, 224, 225, 226, 227, 228, 229, 230, 231, 232, 233, 234, 235, 236, 237, 238, 239, 240, 241, 242, 244, 245, 246, 258, 259, 260, 263, 264, 265, 266, 267, 272, 273, 274, 275, 276, 277, 279, 280, 281, 282, 288, 289, 291, 292, 297, 298, 300, 301, 302, 303, 304, 305, 306, 307, 308, 309, 310, 311, 312, 313, 314, 315, 317, 318, 319, 320, 321, 322, 323, 324, 330, 331, 332, 333, 334, 335, 336, 337, 338, 339, 340, 341, 342, 343, 344, 347, 348, 349, 351, 352, 353, 358, 359, 360, 361, 362, 363, 364, 365, 366, 367, 368, 369, 370, 371, 374, 375, 376, 377, 380, 381, 383, 384, 385, 386, 387, 388, 389, 390, 391, 392, 393, 394, 395, 396, 397, 398, 399, 400, 401, 402, 403, 404, 405, 406, 407, 408, 409, 410, 411, 412, 413, 414, 415, 416, 417, 418, 419, 420, 421, 422, 423, 424, 425]\n",
            "\n",
            "\n"
          ]
        }
      ]
    },
    {
      "cell_type": "code",
      "source": [
        "def obtain_model_data(df_model, selected_columns_for_samples):\n",
        "  df_store_model = {}\n",
        "\n",
        "  for node in df_model.index:\n",
        "    model_tails_array = []\n",
        "\n",
        "    left_columns = selected_columns_for_samples['Node_'+str(node)][0]\n",
        "    rigth_columns = selected_columns_for_samples['Node_'+str(node)][1]\n",
        "\n",
        "    # Get model data\n",
        "    model_node_row_left, model_node_row_right = model_focus_selector(QPSK_dummy_df, selected_columns_for_samples, left_columns, right_columns, node_to_be_eval=node)\n",
        "\n",
        "    model_tails_array.append(model_node_row_left.to_dict())\n",
        "    model_tails_array.append(model_node_row_right.to_dict())\n",
        "\n",
        "    df_store_model['Node_'+str(node)] = model_tails_array\n",
        "\n",
        "  return df_store_model\n",
        "  # {'Node_1':[dict_left, dect_right]}\n",
        "  #df = pd.DataFrame.from_dict(df_store_sample['Node_1'])"
      ],
      "metadata": {
        "id": "IJMyu1ZAHVcz"
      },
      "execution_count": 343,
      "outputs": []
    },
    {
      "cell_type": "code",
      "source": [
        "df_store_model = obtain_model_data(QPSK_dummy_df, stored_selcted_columns)"
      ],
      "metadata": {
        "id": "I37WZiMsJBVg",
        "outputId": "77cd9ce5-0b7a-420d-a621-029bc378d900",
        "colab": {
          "base_uri": "https://localhost:8080/"
        }
      },
      "execution_count": 344,
      "outputs": [
        {
          "output_type": "stream",
          "name": "stderr",
          "text": [
            "/usr/local/lib/python3.7/dist-packages/pandas/core/frame.py:4913: SettingWithCopyWarning: \n",
            "A value is trying to be set on a copy of a slice from a DataFrame\n",
            "\n",
            "See the caveats in the documentation: https://pandas.pydata.org/pandas-docs/stable/user_guide/indexing.html#returning-a-view-versus-a-copy\n",
            "  errors=errors,\n"
          ]
        }
      ]
    },
    {
      "cell_type": "code",
      "source": [
        "print(df_store_model['Node_1'][0])"
      ],
      "metadata": {
        "id": "0lpeOpniJ0D1",
        "outputId": "8f21b5da-e631-44df-b5f4-686b5c7add3b",
        "colab": {
          "base_uri": "https://localhost:8080/"
        }
      },
      "execution_count": 350,
      "outputs": [
        {
          "output_type": "stream",
          "name": "stdout",
          "text": [
            "{'sampleid': {1: 1}, 'Channels': {1: 1}, 'Distance_km': {1: 100}, 'power_dBm': {1: -2}, '#node': {1: 1}, -19.96875: {1: -54.126681295000004}, -19.9375: {1: -52.713840472}, -19.90625: {1: -54.542630468000006}, -19.875: {1: -53.699036093}, -19.84375: {1: -52.716650576000006}, -19.8125: {1: -54.298753836}, -19.78125: {1: -52.256947111}, -19.75: {1: -56.68282258399999}, -19.71875: {1: -52.906296833}, -19.6875: {1: -51.749344124000004}, -19.65625: {1: -52.577536868}, -19.625: {1: -52.931635552}, -19.4375: {1: -54.853606875000004}, -19.40625: {1: -52.472454993}, -19.375: {1: -51.821685916}, -19.34375: {1: -53.223901528}, -19.3125: {1: -55.12018768200001}, -19.28125: {1: -53.097582849000005}, -19.1875: {1: -52.64517212}, -19.15625: {1: -51.659207114000004}, -19.09375: {1: -55.609211881}, -19.0625: {1: -56.244407355}, -19.03125: {1: -53.893912299}, -19: {1: -51.276202067}, -18.96875: {1: -54.297806861000005}, -18.9375: {1: -55.572200706000004}, -18.90625: {1: -50.396169721}, -18.78125: {1: -53.590160182}, -18.75: {1: -54.009310184}, -18.71875: {1: -52.29381938499999}, -18.6875: {1: -52.025201389}, -18.65625: {1: -52.471851517999994}, -18.625: {1: -52.931783587999995}, -18.53125: {1: -51.425876697}, -18.5: {1: -56.347195254}, -18.46875: {1: -52.97826467899999}, -18.4375: {1: -51.09858201}, -18.25: {1: -53.497654149000006}, -18.21875: {1: -52.944693640000004}, -17.84375: {1: -51.660570930999995}, -17.8125: {1: -51.679596837999995}, -17.6875: {1: -51.380746036000005}, -17.65625: {1: -53.821901802}, -17.625: {1: -54.790536737000004}, -17.59375: {1: -54.086571662000004}, -17.5625: {1: -53.622985187}, -17.5: {1: -55.091457714}, -17.46875: {1: -52.067546126}, -17.4375: {1: -53.723837946}, -17.25: {1: -52.74042486}, -17.21875: {1: -56.424915978}, -17.1875: {1: -52.875938224}, -17.15625: {1: -51.049270349}, -17.125: {1: -54.521600157}, -17.09375: {1: -54.810338423}, -17.0625: {1: -52.450960325000004}, -17.03125: {1: -52.113636418}, -17: {1: -53.49071687199999}, -16.96875: {1: -52.680418617}, -16.9375: {1: -49.764058161}, -16.90625: {1: -41.409658088}, -16.875: {1: -43.197841986}, -16.84375: {1: -38.957745438}, -16.8125: {1: -35.590416058}, -16.78125: {1: -35.420975035}, -16.75: {1: -32.973115631999995}, -16.71875: {1: -32.417927404}, -16.6875: {1: -31.202354599}, -16.5625: {1: -24.923283108}, -16.53125: {1: -27.113015605999998}, -16.5: {1: -24.246276795}, -16.375: {1: -22.519552386}, -16.34375: {1: -24.732738362}, -16.3125: {1: -26.959397768000002}, -16.28125: {1: -22.390257021}, -16.25: {1: -21.208855733}, -16.21875: {1: -21.872425165}, -16.15625: {1: -19.0541893826}, -16.125: {1: -21.841967482999998}, -16.09375: {1: -19.231519681}, -16.0625: {1: -23.47084885}, -16.03125: {1: -21.736192170000002}, -16: {1: -20.203474368}, -15.96875: {1: -18.980405736}, -15.9375: {1: -17.465176364999998}, -15.84375: {1: -15.390843784800001}, -15.8125: {1: -17.8554270044}, -15.78125: {1: -15.7784721475}, -15.75: {1: -17.8968755934}, -15.71875: {1: -18.679526014}, -15.6875: {1: -17.542678814}, -15.65625: {1: -17.511115921}, -15.625: {1: -14.7923249}, -15.5: {1: -21.4938655926}, -15.46875: {1: -18.9587972664}, -15.4375: {1: -16.4755413806}, -15.40625: {1: -16.644917859899998}, -15.375: {1: -14.7264699336}, -15.34375: {1: -14.8073042937}, -15.3125: {1: -19.671262513099997}, -15.28125: {1: -15.750545334}, -15.25: {1: -15.711830910500002}, -15.21875: {1: -12.7005224573}, -15.1875: {1: -15.5251159054}, -15.15625: {1: -16.2260336127}, -15.125: {1: -16.042817125}, -15.09375: {1: -14.8128074331}, -15.0625: {1: -14.715017124100001}, -15.03125: {1: -16.9132062907}, -15: {1: -11.3435846968}, -14.75: {1: -14.1934938007}, -14.71875: {1: -14.519410718}, -14.6875: {1: -16.126735417200003}, -14.65625: {1: -13.0624252304}, -14.625: {1: -13.3802126463}, -14.59375: {1: -12.1653610809}, -14.5625: {1: -11.444667645600001}, -14.53125: {1: -15.728541701000001}, -14.5: {1: -13.7591696004}, -14.46875: {1: -15.6200086363}, -14.4375: {1: -12.3026453093}, -14.40625: {1: -14.714455023900001}, -14.375: {1: -16.3948984992}, -14.21875: {1: -15.351986602599998}, -14.1875: {1: -14.1305134057}, -14.15625: {1: -13.106281591200002}, -14.125: {1: -13.8754508222}, -14.09375: {1: -13.717459909799999}, -14.0625: {1: -16.0669141747}, -14.03125: {1: -12.4229203445}, -14: {1: -12.818263563599999}, -13.96875: {1: -11.385771653099999}, -13.9375: {1: -13.436412014199998}, -13.90625: {1: -10.4194927453}, -13.875: {1: -11.944678198}, -13.8125: {1: -14.700897769400001}, -13.78125: {1: -13.973724838499999}, -13.65625: {1: -14.394138415}, -13.625: {1: -11.8877996823}, -13.59375: {1: -10.3480225874}, -13.4375: {1: -14.2021477304}, -13.40625: {1: -13.4902520154}, -13.375: {1: -11.7384085304}, -13.34375: {1: -11.7006924596}}\n"
          ]
        }
      ]
    },
    {
      "cell_type": "code",
      "source": [
        "print(df_store_sample)"
      ],
      "metadata": {
        "id": "KVbRH7HXEI57",
        "outputId": "2d6415cf-24c3-4ddd-df12-57134c3078b9",
        "colab": {
          "base_uri": "https://localhost:8080/"
        }
      },
      "execution_count": 317,
      "outputs": [
        {
          "output_type": "stream",
          "name": "stdout",
          "text": [
            "{'Node_1': [{'sampleid': {0: 1, 1: 2, 2: 3, 3: 4, 4: 5, 5: 6, 6: 7, 7: 8, 8: 9, 9: 10}, 'Channels': {0: 1, 1: 1, 2: 1, 3: 1, 4: 1, 5: 1, 6: 1, 7: 1, 8: 1, 9: 1}, 'Distance_km': {0: 0, 1: 0, 2: 0, 3: 0, 4: 0, 5: 0, 6: 0, 7: 0, 8: 0, 9: 0}, 'power_dBm': {0: -2, 1: -2, 2: -2, 3: -2, 4: -2, 5: -2, 6: -2, 7: -2, 8: -2, 9: -2}, '#node': {0: 1, 1: 1, 2: 1, 3: 1, 4: 1, 5: 1, 6: 1, 7: 1, 8: 1, 9: 1}, -19.90625: {0: -52.30302910666666, 1: -47.886430553333334, 2: -53.413052670000006, 3: -55.41603362666666, 4: -51.35781101, 5: -56.986202876666674, 6: -55.11041624333333, 7: -57.65437471333333, 8: -51.08267091, 9: -55.317702080000004}, -19.8125: {0: -53.43767922666667, 1: -53.553004423333334, 2: -53.552340163333334, 3: -53.264733019999994, 4: -61.24936237666666, 5: -53.92184097333333, 6: -51.25233923, 7: -52.514824696666665, 8: -60.467224269999996, 9: -50.91506339}, -19.71875: {0: -50.901201746666665, 1: -49.61645150999999, 2: -52.206134829999996, 3: -49.149457013333326, 4: -59.68517341333333, 5: -52.21144017666666, 6: -52.89276228, 7: -58.159758466666666, 8: -50.60290309333334, 9: -48.68531022}, -19.625: {0: -52.72459962, 1: -52.110424169999995, 2: -49.552357866666675, 3: -55.53819162333334, 4: -52.608526876666666, 5: -60.496579026666666, 6: -52.19898886666667, 7: -53.38350154, 8: -51.00609703666667, 9: -47.43569788333334}, -19.53125: {0: -55.60573355666667, 1: -52.939462600000006, 2: -50.531194500000005, 3: -50.38326895, 4: -52.05330519, 5: -51.77229667666666, 6: -60.473596719999996, 7: -54.63384091, 8: -58.76086723666666, 9: -52.55306892666666}, -19.4375: {0: -56.926784956666665, 1: -48.57631782666667, 2: -54.130848333333326, 3: -49.41417378, 4: -61.5912438, 5: -51.21336804999999, 6: -55.64691673000001, 7: -50.58826764333333, 8: -49.58262179, 9: -52.82194970333334}, -19.34375: {0: -52.08183054333333, 1: -53.92014956, 2: -52.85802812666666, 3: -54.29956202333333, 4: -52.26957611, 5: -54.15841806, 6: -55.162928756666666, 7: -50.64459536333334, 8: -59.60309489, 9: -53.14072343}, -19.25: {0: -59.79122084666667, 1: -50.616971299999996, 2: -50.71424793333333, 3: -51.24084107333334, 4: -53.26858077333333, 5: -54.39090533666666, 6: -56.49499285666667, 7: -54.65191136000001, 8: -53.31028505333333, 9: -56.412169703333326}, -19.15625: {0: -51.14052998333333, 1: -54.39559383333333, 2: -52.31463519, 3: -54.13805081, 4: -58.17424956, 5: -53.86600658333333, 6: -54.795799810000005, 7: -49.63782629333334, 8: -59.700911526666665, 9: -46.09481091}, -19.0625: {0: -53.28293694333333, 1: -57.69133375333333, 2: -50.07219838666666, 3: -51.058980459999994, 4: -53.675875829999995, 5: -62.31899159333333, 6: -57.13023019666667, 7: -49.477588723333334, 8: -52.88301335333333, 9: -50.457256496666666}, -18.96875: {0: -65.17138185666666, 1: -50.868488523333326, 2: -53.74238982333333, 3: -49.22806507333334, 4: -52.60423575666667, 5: -51.55701287333333, 6: -53.14547864333333, 7: -52.44659028666666, 8: -51.85428351666667, 9: -53.60266460666667}, -18.875: {0: -50.61843905333333, 1: -52.59623915333333, 2: -51.123665286666665, 3: -50.25377184333333, 4: -51.38953851, 5: -61.16425872666667, 6: -56.14556265666666, 7: -55.87426093333334, 8: -52.60646439666667, 9: -50.11132022333334}, -18.3125: {0: -51.46959222666666, 1: -51.500048959999994, 2: -58.930829440000004, 3: -56.37946780666667, 4: -51.10963566666667, 5: -53.95633691666666, 6: -59.101280906666666, 7: -54.74728408666667, 8: -50.60592458666667, 9: -54.09480827333332}, -18.21875: {0: -50.37193310666667, 1: -50.74286906333333, 2: -49.79993169333333, 3: -52.696768590000005, 4: -59.66392783, 5: -56.004878139999995, 6: -56.85855125333333, 7: -51.623534766666666, 8: -56.49149034333333, 9: -50.25870816333333}, -18.125: {0: -65.33102483333333, 1: -50.64238119666667, 2: -57.18991616333333, 3: -50.61593468333333, 4: -53.71993307, 5: -58.436357883333336, 6: -46.87733947, 7: -57.117714103333334, 8: -53.43715703, 9: -48.96013401333334}, -18.03125: {0: -55.43632473666667, 1: -49.315257196666664, 2: -53.19634697666666, 3: -55.937113653333334, 4: -48.56639036333333, 5: -51.00907462666667, 6: -62.59572510666667, 7: -52.28478826666666, 8: -51.18837636, 9: -50.824207933333334}, -17.9375: {0: -52.58985033333334, 1: -48.556118983333334, 2: -52.12882649, 3: -62.82344987333334, 4: -55.52215906666667, 5: -49.92226233, 6: -55.74245222, 7: -57.672706833333336, 8: -52.605075279999994, 9: -52.484419593333335}, -17.84375: {0: -48.19654456000001, 1: -53.420817150000005, 2: -50.29499715, 3: -50.60372209, 4: -55.257675, 5: -53.953581676666666, 6: -53.3616044, 7: -50.58860428333333, 8: -57.20685729666666, 9: -45.76339374666667}, -17.5625: {0: -55.545809313333336, 1: -49.63936507666667, 2: -54.52318660666666, 3: -50.854409483333335, 4: -54.52518633333333, 5: -60.45596943666666, 6: -60.90896781, 7: -56.79844956333333, 8: -54.894966536666665, 9: -48.45208039}, -17.46875: {0: -53.06106823, 1: -51.901493403333326, 2: -52.542501429999994, 3: -59.07487393, 4: -51.34442979666667, 5: -50.685880723333334, 6: -56.598192833333336, 7: -48.98511887, 8: -53.988889013333335, 9: -51.60556728}, -17.28125: {0: -58.78131445, 1: -49.194770956666666, 2: -52.67800898666667, 3: -55.90563751333334, 4: -54.97093875666667, 5: -48.64173765, 6: -63.040676770000005, 7: -53.299002556666665, 8: -63.689056073333326, 9: -49.37848635666668}, -17.1875: {0: -49.816080723333336, 1: -51.95044908333333, 2: -49.13475513666666, 3: -53.09730368666667, 4: -53.154656636666665, 5: -51.45944894666667, 6: -59.287616293333336, 7: -53.93338667999999, 8: -52.26664152000001, 9: -54.05569039333333}, -17.09375: {0: -48.77252609666667, 1: -57.580086136666665, 2: -51.77735932666667, 3: -50.36937264333333, 4: -52.39999405333333, 5: -53.08841269333333, 6: -53.060505033333335, 7: -52.10960338666666, 8: -62.11448797, 9: -49.97743654666667}, -17.0: {0: -54.74268522, 1: -47.42306864, 2: -55.51990645666666, 3: -52.36529506, 4: -48.65648624, 5: -52.739716226666665, 6: -51.373729919999995, 7: -52.18411877333333, 8: -51.14624165666666, 9: -53.63273064}, -16.90625: {0: -36.65662819333333, 1: -42.42471754333334, 2: -40.33134462666666, 3: -39.68985717666666, 4: -45.33255013000001, 5: -41.52721175, 6: -36.747315523333334, 7: -41.99527561333333, 8: -45.73834735, 9: -41.4409038}, -16.8125: {0: -34.301675493333335, 1: -29.481013269999995, 2: -38.506596376666664, 3: -34.29985601666667, 4: -39.64741983333333, 5: -31.069216483333335, 6: -37.66731642, 7: -31.39027238, 8: -36.32470394333333, 9: -33.926952199999995}, -16.71875: {0: -33.08356680666666, 1: -24.382116716666662, 2: -31.785990330000004, 3: -27.85093607666667, 4: -36.96803278, 5: -28.2506824, 6: -31.09747300666667, 7: -33.17624742, 8: -31.78121283666667, 9: -27.956035646666663}, -16.34375: {0: -21.772288713333335, 1: -22.168624933333334, 2: -20.16114317, 3: -31.77821284, 4: -23.10855322, 5: -24.363672236666662, 6: -24.62347936, 7: -25.989796213333335, 8: -33.023409093333335, 9: -19.952130723333333}, -16.25: {0: -23.551299393333334, 1: -25.833631323333332, 2: -20.352621403333334, 3: -20.8252183, 4: -23.056099470000003, 5: -22.016651423333332, 6: -18.020192626666667, 7: -21.024323629999998, 8: -17.60751108, 9: -19.6489278}, -16.15625: {0: -24.010749213333337, 1: -17.71962007, 2: -14.846203956666665, 3: -21.495827626666667, 4: -21.680828509999998, 5: -20.186791653333334, 6: -20.744150146666666, 7: -25.041855440000003, 8: -21.724164023333334, 9: -12.975397848666667}, -16.0625: {0: -20.774857733333334, 1: -22.39204183, 2: -28.81020726, 3: -19.527135776666668, 4: -21.19778219, 5: -20.07859286, 6: -21.685055713333337, 7: -25.26250407666667, 8: -23.15949984, 9: -15.147374013333334}, -15.96875: {0: -18.269170740000003, 1: -20.01323302333333, 2: -17.10986396, 3: -17.720708813333335, 4: -20.031473066666667, 5: -16.639598016666667, 6: -18.88625598666667, 7: -18.912127950000002, 8: -18.316488016666668, 9: -21.567615466666666}, -15.875: {0: -16.79971197, 1: -19.575070123333333, 2: -21.132872313333333, 3: -11.071729448, 4: -17.315448436666667, 5: -20.144978146666666, 6: -17.567805223333334, 7: -19.010681766666668, 8: -17.184360143333336, 9: -23.051195119333332}, -15.59375: {0: -13.541390913333336, 1: -13.627892667666666, 2: -15.221253026666668, 3: -14.476271505666668, 4: -16.295106623333336, 5: -12.469358218666665, 6: -17.993932843333333, 7: -19.007457556666665, 8: -13.500887183333333, 9: -16.01611103666667}, -15.5: {0: -16.989173543333333, 1: -27.20510498666667, 2: -20.497072173333333, 3: -22.76294214666667, 4: -26.51307995, 5: -10.18290448, 6: -19.195238556666666, 7: -17.991802133333334, 8: -12.795220215333332, 9: -15.628142613333333}, -15.40625: {0: -17.60622392, 1: -12.394200033333334, 2: -20.022130200000003, 3: -12.773656066666668, 4: -12.111681641999999, 5: -19.15613121, 6: -12.630871698999998, 7: -12.690902343, 8: -17.503013856666666, 9: -17.040162653333336}, -15.3125: {0: -18.771133406666667, 1: -15.322608440000002, 2: -21.791012453333334, 3: -15.666626951666665, 4: -19.29021613, 5: -18.636579010000002, 6: -16.314447573333336, 7: -12.944495853333335, 8: -15.658331449999999, 9: -16.050011256999998}, -14.75: {0: -17.132463926666667, 1: -10.86330529, 2: -11.417973635666668, 3: -11.992616840666669, 4: -13.763392703333333, 5: -21.477733689999997, 6: -19.32757144333333, 7: -14.131322076666669, 8: -13.922678716666667, 9: -15.436408129999998}, -14.65625: {0: -15.033144966666667, 1: -8.489278237, 2: -15.259702483333333, 3: -12.340572183666666, 4: -13.101658409999999, 5: -18.70315951266667, 6: -12.568074809999999, 7: -10.095559667666668, 8: -11.672212844333332, 9: -11.429966743333333}, -13.53125: {0: -14.28868277, 1: -12.851267439666666, 2: -11.946910254333332, 3: -12.798573020000001, 4: -15.398807589999999, 5: -16.6934165, 6: -12.971462326666668, 7: -7.491857517333333, 8: -8.898338894666667, 9: -16.652417216666667}, -13.4375: {0: -10.552762428, 1: -13.545701549999999, 2: -8.807484137666666, 3: -7.9412465606666665, 4: -21.085913356666666, 5: -11.064806976666667, 6: -10.513438753, 7: -11.888633491333332, 8: -20.52951734, 9: -15.506522993333334}, -13.0625: {0: -16.36439289, 1: -8.533089266333333, 2: -10.537330341333332, 3: -17.705204206, 4: -12.267540903000002, 5: -14.447653653333333, 6: -12.786629765999999, 7: -12.089035051000002, 8: -10.287574077, 9: -19.175414156666665}, -12.96875: {0: -13.924841981, 1: -20.008471976666666, 2: -11.026143051333333, 3: -6.268487944, 4: -10.395227327999999, 5: -11.668431978333333, 6: -18.29385995333333, 7: -17.23320046666667, 8: -13.486618704333333, 9: -9.713678745666666}, -12.875: {0: -13.399626640000001, 1: -9.353598838, 2: -9.346452489999999, 3: -13.604959233333332, 4: -13.75705437, 5: -12.913400506666667, 6: -13.566872230000001, 7: -22.440905996666668, 8: -9.64800265, 9: -11.301220863}, -12.78125: {0: -17.85655561333333, 1: -13.934919925666668, 2: -9.343710112333333, 3: -16.790888263666666, 4: -11.452938295000001, 5: -9.494739569666667, 6: -23.259260746666666, 7: -11.728091606666666, 8: -15.417511536666666, 9: -14.553532917666667}, -12.6875: {0: -12.857352896666667, 1: -10.335184021666667, 2: -11.317795017333333, 3: -13.308389888, 4: -14.298295303333333, 5: -10.645289924, 6: -15.138874933333334, 7: -8.111455956333332, 8: -12.279801415000001, 9: -9.789104608}, -12.5: {0: -13.878639226333334, 1: -17.99660834, 2: -9.401830452, 3: -12.381067657000001, 4: -10.321449022, 5: -9.160430369666667, 6: -22.19430894333333, 7: -6.826450105666666, 8: -14.724914677666668, 9: -11.697874267666668}, -12.40625: {0: -13.110275548999999, 1: -12.126627863333333, 2: -13.098135266333331, 3: -11.874470398, 4: -20.403402396666667, 5: -9.04604013, 6: -14.910513266666667, 7: -8.556282113333333, 8: -13.506610793333332, 9: -7.415771311}, -12.3125: {0: -15.24708948, 1: -10.636009152000002, 2: -13.285879890666665, 3: -9.112190429333333, 4: -14.191740125333334, 5: -11.062758773, 6: -17.219871136666665, 7: -11.075465009666667, 8: -12.606359684666666, 9: -14.666163617333334}, -11.75: {0: -12.556332133333333, 1: -11.421082904999999, 2: -11.001226898666667, 3: -12.216176663666667, 4: -16.117554565000002, 5: -12.337024044000001, 6: -14.309689343333332, 7: -15.966427093333335, 8: -7.848025699333334, 9: -14.149509879333332}, -11.65625: {0: -15.465249175333334, 1: -7.820558138, 2: -10.048439347333334, 3: -20.961915456666667, 4: -10.910153968333333, 5: -7.622343267333334, 6: -18.045488253333335, 7: -7.558348903, 8: -13.628716619666667, 9: -8.509740544666666}, -11.5625: {0: -15.662051499, 1: -13.320415877000002, 2: -13.506220939, 3: -7.833938312666667, 4: -9.325436462, 5: -9.123112960999999, 6: -21.60110405, 7: -11.513373892666669, 8: -6.314964250666667, 9: -7.423407199333333}, -11.46875: {0: -14.906852519000003, 1: -10.067398284333335, 2: -5.591234797666666, 3: -11.906089909666667, 4: -13.780912246, 5: -9.81288089, 6: -10.080149474333334, 7: -11.850948571333333, 8: -15.312769723, 9: -8.709952518666666}, -11.375: {0: -9.594060232333334, 1: -11.918490112999999, 2: -16.74370432666667, 3: -12.268968899999999, 4: -12.354658372666668, 5: -8.823846621333333, 6: -8.544468064666667, 7: -6.210749773333333, 8: -17.762356776666667, 9: -7.080319760333334}, -11.28125: {0: -16.235417913333333, 1: -8.331056827666666, 2: -15.768120363333333, 3: -9.557091825666667, 4: -13.645950419333333, 5: -10.063450961333333, 6: -15.815414296666667, 7: -14.752399298, 8: -9.640760907999999, 9: -11.685813023}, -11.1875: {0: -10.757204812333335, 1: -10.189607193666667, 2: -12.851529913, 3: -9.455699333333333, 4: -11.510245201999998, 5: -10.643835846, 6: -15.439465989333334, 7: -16.22476845466667, 8: -10.781836296333333, 9: -12.687553436666667}, -11.09375: {0: -15.372810883333335, 1: -9.885161356333334, 2: -8.931427632, 3: -8.950630817666665, 4: -11.928619763333336, 5: -13.595946313333334, 6: -20.362478336666666, 7: -7.497555813666668, 8: -16.741980884333334, 9: -10.09553926}, -11.0: {0: -14.642492184, 1: -16.464064081666667, 2: -8.175025890666667, 3: -11.972624311666666, 4: -10.637429878, 5: -20.708769709333335, 6: -8.748716098000001, 7: -12.942216008333332, 8: -8.656963079333334, 9: -15.798198246666665}, -10.90625: {0: -15.260071680000001, 1: -11.934258419666667, 2: -8.958968480333334, 3: -19.64622015233333, 4: -12.788659177, 5: -10.176920853, 6: -12.334564043999999, 7: -8.871827372666667, 8: -15.062125486333331, 9: -10.476579769333332}, -10.8125: {0: -9.459620646333333, 1: -6.864197067666666, 2: -12.939820546666667, 3: -4.808968734, 4: -11.419427650333333, 5: -14.492622146666667, 6: -12.133911272, 7: -10.949113463666665, 8: -9.551426140666669, 9: -6.622633220000001}, -10.71875: {0: -16.258411960333333, 1: -17.324731209666666, 2: -9.642897795333333, 3: -6.430954881333334, 4: -16.930076011666667, 5: -12.531978138999998, 6: -18.443786796666668, 7: -10.874209295333335, 8: -9.720075229333332, 9: -11.516897364333333}, -10.625: {0: -7.562131482000001, 1: -15.744430029, 2: -8.694563179333334, 3: -13.815656826666666, 4: -16.058151678333335, 5: -13.136959692333333, 6: -7.882982369, 7: -13.111237438666668, 8: -6.416252485, 9: -13.795491386333333}, -10.53125: {0: -11.694500329999999, 1: -11.227820034666665, 2: -10.930405770333332, 3: -11.182274035666666, 4: -11.545136703333334, 5: -11.268556874, 6: -12.574871874000001, 7: -11.908571910333334, 8: -12.269866608333333, 9: -8.384900998}, -10.4375: {0: -6.155047294333333, 1: -14.600649139, 2: -13.014554984999998, 3: -7.854932852, 4: -9.177302894666665, 5: -10.996991462333334, 6: -15.123719451000001, 7: -6.717441091, 8: -10.088511904666667, 9: -6.187116662666668}, -10.34375: {0: -11.378609372999998, 1: -9.482389827333334, 2: -8.953749306666666, 3: -14.764119672666666, 4: -12.851467517333333, 5: -8.603075725666667, 6: -8.132530924000001, 7: -9.168427449333334, 8: -14.556614146666668, 9: -20.207399113333334}, -10.25: {0: -23.22378259333333, 1: -5.804193251000001, 2: -8.303127339666666, 3: -7.545852758666666, 4: -19.181923769666668, 5: -9.577401959333335, 6: -14.318001033333333, 7: -12.916121259999999, 8: -12.437110435333333, 9: -8.915505455333333}, -10.15625: {0: -15.053487316666667, 1: -14.534513850000002, 2: -5.383832245333333, 3: -10.167559459666668, 4: -17.31935180666667, 5: -10.222624172666666, 6: -9.911072961666667, 7: -5.922782389000001, 8: -7.383004643666666, 9: -12.661001428666665}, -10.0625: {0: -13.968926422333334, 1: -9.820946960333334, 2: -14.954577970666667, 3: -8.341420433666666, 4: -10.209462450333334, 5: -13.021051335333334, 6: -16.692568836666666, 7: -14.746375980000002, 8: -7.770713011000001, 9: -12.136334161}, -9.6875: {0: -10.190413667, 1: -10.851740886, 2: -11.737196816666668, 3: -21.484154686666667, 4: -11.640057047, 5: -14.990219336666668, 6: -16.514193521, 7: -8.603129568333335, 8: -12.006114988333332, 9: -12.345370556066664}, -9.59375: {0: -19.16972760666667, 1: -13.212758453666666, 2: -9.165338171, 3: -11.117181856, 4: -12.382054335333335, 5: -9.711849137, 6: -10.858571509999999, 7: -8.010783193333333, 8: -17.375678103333332, 9: -5.741816834666667}, -9.5: {0: -13.493015026, 1: -7.633220423, 2: -5.211598275, 3: -14.42640618, 4: -13.162158783000002, 5: -5.712629393, 6: -13.663042680666669, 7: -15.467045143333332, 8: -12.425809143333334, 9: -9.868782530666666}, -9.125: {0: -14.187790419999999, 1: -8.995498499333332, 2: -6.962775027999999, 3: -11.089828769333332, 4: -16.689227608333333, 5: -10.353412141333333, 6: -13.057007086333334, 7: -11.981407658, 8: -13.124997253666665, 9: -14.089543976}, -9.03125: {0: -14.668197628666666, 1: -8.643659791333333, 2: -8.064225463666666, 3: -15.050324246666667, 4: -19.202801920000002, 5: -10.250101682333332, 6: -10.768016505333334, 7: -24.66079182333333, 8: -6.797850034, 9: -8.874663652666667}, -8.9375: {0: -13.699789783333332, 1: -12.222832186666666, 2: -14.97613287, 3: -10.448820265666667, 4: -8.968879718333334, 5: -11.697105693333334, 6: -13.470253210000001, 7: -14.82378946, 8: -11.142270616, 9: -9.049962877666667}, -8.84375: {0: -16.588498896666668, 1: -7.924510040666665, 2: -13.980457103666668, 3: -8.594831601333334, 4: -11.400416393333336, 5: -9.525850383333335, 6: -9.577498833, 7: -14.417487943333333, 8: -14.730248385333335, 9: -14.15084787}, -8.75: {0: -7.334360152333335, 1: -13.743995643333333, 2: -14.256583132666668, 3: -11.157980946, 4: -10.273617256, 5: -13.811871476666667, 6: -13.483471330666667, 7: -15.412123822333333, 8: -14.767357741333333, 9: -13.269891542000002}, -8.65625: {0: -10.600939375333335, 1: -12.440164952666668, 2: -11.529587616666667, 3: -7.6222980940000005, 4: -16.413297233999998, 5: -6.130154161, 6: -13.156640679666666, 7: -14.032685914, 8: -9.874754201666667, 9: -7.709828020333333}, -8.46875: {0: -11.360304074, 1: -17.495762199999998, 2: -19.815770053999998, 3: -14.709199633000003, 4: -16.589365824, 5: -9.432460315, 6: -9.488690463, 7: -13.495876283333333, 8: -14.735775573333333, 9: -11.811649254333334}, -8.375: {0: -13.762026240000003, 1: -7.740943246666667, 2: -13.797862206666666, 3: -6.080224840666666, 4: -19.678319443333333, 5: -14.428473697666666, 6: -13.7469587, 7: -5.923953907666665, 8: -10.74207896, 9: -14.788591003333332}, -8.28125: {0: -19.388483891333333, 1: -9.032138996, 2: -6.728367312333333, 3: -14.493464443333332, 4: -7.578952739666666, 5: -14.157824825, 6: -10.746190255666667, 7: -6.542048123666667, 8: -12.607398575666666, 9: -10.213766786333332}, -8.1875: {0: -11.862889788666665, 1: -13.559453566333334, 2: -7.320193108333334, 3: -10.548593687666667, 4: -11.465098904000001, 5: -10.347583406, 6: -10.405065702666667, 7: -8.234087214, 8: -8.578430471333332, 9: -11.840035171000002}, -8.09375: {0: -11.773270253333335, 1: -6.916214112, 2: -7.841834018, 3: -13.436119256666666, 4: -9.103852292000001, 5: -11.031599899666666, 6: -13.412715751, 7: -12.386458743666665, 8: -8.768348655999999, 9: -10.791571848666669}, -8.0: {0: -11.699386033333333, 1: -7.921194443666667, 2: -16.710080456666663, 3: -8.177300356333333, 4: -11.340041273666666, 5: -9.890018794000001, 6: -17.59673420333333, 7: -9.036125883999999, 8: -16.74387073666667, 9: -7.919487703333334}, -7.90625: {0: -13.364114603333332, 1: -17.081841224666665, 2: -10.676787902666668, 3: -12.036203150666665, 4: -13.817394317666666, 5: -5.832658967666667, 6: -14.700386306666667, 7: -13.695634106666667, 8: -9.009297407666667, 9: -12.012272312999999}, -7.8125: {0: -10.374262829333333, 1: -15.900333816666667, 2: -9.682356304, 3: -6.602822312000001, 4: -11.784575899666669, 5: -8.061852297333333, 6: -13.342183730000002, 7: -11.397643710000002, 8: -7.828060141000001, 9: -10.945221440333334}, -7.53125: {0: -16.51035366, 1: -11.688408066333333, 2: -12.669417129333333, 3: -15.676729876666668, 4: -17.704156810666667, 5: -9.134753226, 6: -9.276945702666668, 7: -9.214430510666668, 8: -6.430976306666667, 9: -13.167843570666667}, -7.4375: {0: -13.834450258333334, 1: -9.872420127333333, 2: -12.819561212000002, 3: -10.295109398666666, 4: -7.116884103666667, 5: -5.3662448466666675, 6: -15.978201481666668, 7: -10.346404431, 8: -17.198102092333333, 9: -18.700231168333335}, -7.34375: {0: -13.319863056666668, 1: -10.581476272333335, 2: -8.481126807666667, 3: -12.028345021, 4: -16.735555123333334, 5: -15.494193446333334, 6: -11.924288765333335, 7: -12.679903569999999, 8: -8.780316166, 9: -9.124454095333332}, -7.25: {0: -9.539993188666667, 1: -8.168652476666667, 2: -6.818531216666666, 3: -12.19480921, 4: -10.945675722333334, 5: -12.355606174666667, 6: -12.588090633333335, 7: -10.396099138666665, 8: -11.908597260999999, 9: -8.127067182666666}, -7.15625: {0: -11.210204868, 1: -12.972119236666666, 2: -10.161224339666667, 3: -11.658411175333335, 4: -12.419670863333332, 5: -6.686206055333333, 6: -13.400043186666666, 7: -10.626439644666668, 8: -14.185197436666664, 9: -12.150737526666667}, -7.0625: {0: -13.84621556, 1: -7.6654298003333325, 2: -18.574182828999998, 3: -8.465829482333334, 4: -10.674468919333334, 5: -15.98179983, 6: -8.482162967333332, 7: -17.014762066666666, 8: -12.666782410000001, 9: -10.083850913333332}, -6.96875: {0: -9.544713755666667, 1: -8.443691451333335, 2: -12.821386243333334, 3: -8.150384205, 4: -12.345681135666666, 5: -12.180894941333335, 6: -18.151199456666667, 7: -10.718873015666667, 8: -10.320032332, 9: -5.838045246}, -6.875: {0: -13.946554272333335, 1: -11.769816812333334, 2: -7.338865237333333, 3: -10.96274697, 4: -9.441811405666668, 5: -8.531337921666667, 6: -11.685474835333332, 7: -11.902809522, 8: -8.659463685666667, 9: -12.610640965}, -6.5: {0: -13.889161083333335, 1: -8.056473964, 2: -12.60569695, 3: -12.401761751666667, 4: -12.407746061, 5: -7.7908393626666665, 6: -9.10114283, 7: -8.650399142333333, 8: -14.383687463333333, 9: -7.735158143333334}, -6.40625: {0: -7.756009912333333, 1: -9.951197984666665, 2: -7.4720380046666675, 3: -10.559889551333333, 4: -11.956999817333333, 5: -13.388518122999999, 6: -12.505745376666667, 7: -9.236615713333334, 8: -13.288122978333334, 9: -10.912414966666669}, -6.3125: {0: -12.565290648333331, 1: -8.300097013333332, 2: -18.211119736666664, 3: -19.266807833333335, 4: -11.183048756666667, 5: -13.036412632333333, 6: -14.745717407333336, 7: -6.8294289563333335, 8: -14.581709636666668, 9: -16.390434886666668}, -6.21875: {0: -13.419530883333335, 1: -9.516947160666668, 2: -13.351611100333335, 3: -9.235282978999999, 4: -9.891655335666668, 5: -12.862928554333331, 6: -16.284174833333335, 7: -11.411417537, 8: -16.731363505333334, 9: -9.420426807666667}, -6.125: {0: -15.181164333333333, 1: -6.510108413333334, 2: -12.573162270666666, 3: -7.389427995999999, 4: -14.70476042, 5: -10.715894604, 6: -12.431072579, 7: -13.522693266, 8: -9.342168531333334, 9: -6.634336134333334}, -6.03125: {0: -8.696192751, 1: -10.390962835666667, 2: -11.529295327, 3: -5.060523093, 4: -9.384676179333333, 5: -14.163576474333333, 6: -11.611396944, 7: -8.517748171333333, 8: -10.881709419000002, 9: -4.6618318143333335}, -5.9375: {0: -10.811698819, 1: -10.079661056, 2: -11.597666641666668, 3: -15.077508710666669, 4: -7.797917303999999, 5: -9.865507150333334, 6: -15.665822151666665, 7: -13.593085552333333, 8: -7.848000731666666, 9: -10.042103641999999}, -5.84375: {0: -13.422024149333334, 1: -9.665752987666666, 2: -6.338842109000001, 3: -15.910474063, 4: -15.112234885000001, 5: -7.241179066333333, 6: -10.64035146, 7: -10.898786022333333, 8: -11.069470107666666, 9: -8.963798491}, -5.75: {0: -6.86567982, 1: -7.568544834, 2: -6.074402434333334, 3: -7.831867191333333, 4: -9.440885458333334, 5: -6.582585714333334, 6: -14.175213836666666, 7: -9.764227669666667, 8: -20.104935289999997, 9: -7.1980036033333334}, -5.65625: {0: -18.015254891333335, 1: -5.167913762666667, 2: -7.588243392333332, 3: -6.498639830999999, 4: -11.376443728, 5: -10.943347566333335, 6: -9.889978814666668, 7: -13.425658729333334, 8: -10.866173482666667, 9: -13.482233479}, -5.5625: {0: -10.361835414333333, 1: -9.16421728, 2: -16.585998289333332, 3: -12.135778150999998, 4: -16.137146486666666, 5: -7.107138269000001, 6: -13.31305337, 7: -18.02028539, 8: -11.014426742666666, 9: -11.674158151333332}, -5.46875: {0: -8.807063637333334, 1: -10.583529172333334, 2: -7.173763726333334, 3: -9.543667392333333, 4: -15.14935484, 5: -16.193661756, 6: -14.51204656, 7: -15.521497703333333, 8: -20.844600833333335, 9: -5.274708847333333}, -5.375: {0: -8.4811342, 1: -11.034276249333333, 2: -8.803939343666666, 3: -8.822145603666668, 4: -13.221226495333333, 5: -10.508591889, 6: -13.872708350000002, 7: -13.040844723666666, 8: -4.537810358, 9: -7.838593125}, -5.28125: {0: -11.129826550333334, 1: -14.17612684, 2: -8.313949396, 3: -14.851029936666668, 4: -12.845752288666665, 5: -10.158295842333333, 6: -9.725281626333333, 7: -8.922145323666667, 8: -16.532567243333332, 9: -15.02340747}, -5.1875: {0: -12.332117207000001, 1: -5.805987188666667, 2: -9.490159185000001, 3: -8.912209180333335, 4: -9.545853695, 5: -11.867469886666667, 6: -13.647478256333335, 7: -7.358231356, 8: -7.504923000333334, 9: -12.019606402666668}, -5.09375: {0: -9.051370548, 1: -8.377463062666665, 2: -12.688113328, 3: -9.270955304333333, 4: -17.3969039, 5: -10.304327713999998, 6: -11.600364435666668, 7: -9.983569895333334, 8: -19.78529032333333, 9: -7.545307181000001}, -5.0: {0: -17.32341427, 1: -6.085359756, 2: -13.082671261999998, 3: -9.027257461666666, 4: -14.33172133, 5: -5.129669894333333, 6: -12.868023864333333, 7: -14.240577293666666, 8: -10.710638346333333, 9: -14.181743554333332}, -4.25: {0: -9.06780692, 1: -10.265218118566667, 2: -11.009656738666665, 3: -16.042899289999998, 4: -7.019374709666667, 5: -22.74916852, 6: -18.324709206666668, 7: -13.211848649666669, 8: -13.862521837000001, 9: -9.339059837666667}, -4.15625: {0: -25.001764780000002, 1: -13.146968036333334, 2: -5.756310674999999, 3: -11.348298784999999, 4: -16.195465076666668, 5: -7.556922948, 6: -11.811896402333332, 7: -9.225272914666666, 8: -16.202285506666666, 9: -9.304821367333334}, -4.0625: {0: -13.650686679666668, 1: -9.149965453666667, 2: -10.023554635666667, 3: -6.502543183, 4: -7.676897654333334, 5: -12.684982817333333, 6: -10.915650309666667, 7: -9.079057700666668, 8: -11.629500720333333, 9: -10.148547297666667}, -3.96875: {0: -9.206785712, 1: -13.777012854666665, 2: -11.81572424, 3: -13.520172309666664, 4: -8.305711696333335, 5: -7.79908523, 6: -10.225287519333333, 7: -11.106731043666665, 8: -15.062925245333334, 9: -16.480752223333333}, -3.875: {0: -7.1805162613333335, 1: -8.658178827666667, 2: -5.0121939116666665, 3: -11.847583559999999, 4: -10.83128902, 5: -10.105540675333334, 6: -16.60485494, 7: -8.602070118333332, 8: -9.906001822999999, 9: -15.072167063333334}, -3.78125: {0: -12.132881737666665, 1: -14.226617776666666, 2: -17.23216967833333, 3: -9.108001457, 4: -13.397207660000001, 5: -12.507174435666668, 6: -13.3310518, 7: -8.160210545, 8: -10.293903582666667, 9: -6.791385024666667}, -3.6875: {0: -16.499143969666665, 1: -8.366496244333334, 2: -11.862722500333334, 3: -9.686295415666667, 4: -20.48570327, 5: -9.303176665333334, 6: -14.182895103666667, 7: -11.089541290333335, 8: -9.948762411, 9: -12.461837553333334}, -3.59375: {0: -7.4555490146666665, 1: -9.865066173333334, 2: -8.399502109000002, 3: -9.663050057, 4: -9.648666295, 5: -15.80429539, 6: -23.36273765, 7: -14.244599474333334, 8: -11.302706836666667, 9: -5.925694978666667}, -3.5: {0: -9.865306984333333, 1: -8.451587737333334, 2: -13.352459628333333, 3: -9.336863447333334, 4: -16.31672274, 5: -11.826186776333335, 6: -11.070621800333335, 7: -12.616122391333334, 8: -13.807667426666667, 9: -8.180703532666667}, -3.40625: {0: -12.706191059333335, 1: -18.492663173333334, 2: -13.457184899333333, 3: -9.86411265, 4: -8.675928917, 5: -9.361440928333334, 6: -16.388545402000002, 7: -9.89306996, 8: -10.895275626333335, 9: -6.402203947333334}, -3.3125: {0: -10.222072048333333, 1: -7.809079656333334, 2: -20.614435583333332, 3: -7.589984412333333, 4: -14.949353143000002, 5: -11.186808780333331, 6: -12.229367358333334, 7: -9.681320343666668, 8: -11.603467003, 9: -12.827098074333334}, -3.21875: {0: -17.94856296, 1: -13.801947686666665, 2: -14.227866316666669, 3: -15.693853423333332, 4: -19.734567913333333, 5: -12.949347135666665, 6: -13.379920653333334, 7: -17.448797693333333, 8: -21.688458603333334, 9: -6.394951206666668}, -3.125: {0: -13.939919886666667, 1: -11.316190690666666, 2: -8.509795870333335, 3: -16.04417379766667, 4: -8.209600746000001, 5: -8.982305659666666, 6: -14.381460866666666, 7: -13.970114662666667, 8: -14.121817596666666, 9: -7.317276113999999}, -2.65625: {0: -16.45909504733333, 1: -10.610809947666667, 2: -10.101886786666666, 3: -6.536405568666667, 4: -14.831261785, 5: -17.841535766666667, 6: -11.181925252666668, 7: -10.358327164333334, 8: -16.205190430000002, 9: -6.176665011666667}, -2.5625: {0: -17.80674177, 1: -9.998113185, 2: -9.678963084333335, 3: -8.833036103333333, 4: -10.882861394333332, 5: -8.462524031, 6: -14.754316470333334, 7: -19.421755823333335, 8: -12.924692736666666, 9: -9.964100374333333}, -2.46875: {0: -8.598221462333333, 1: -8.537345916, 2: -10.985638926666667, 3: -9.316858804333334, 4: -9.212277991333332, 5: -8.395955872, 6: -10.061901522333333, 7: -10.260439157333334, 8: -9.415330216, 9: -8.327416827666667}, -2.375: {0: -21.04189074, 1: -8.885111286333334, 2: -14.302646256333333, 3: -8.970003528000001, 4: -17.810697156666667, 5: -13.598508416666666, 6: -9.02994866, 7: -11.090246986333332, 8: -9.951311667666666, 9: -4.847133136133333}, -2.28125: {0: -9.535585366333335, 1: -11.126312114333333, 2: -22.658240183333334, 3: -11.956176090333335, 4: -11.275585059666668, 5: -15.025113876333334, 6: -9.934321851333332, 7: -12.867577366, 8: -21.615637393333333, 9: -12.151770638333332}, -2.1875: {0: -12.397310913333333, 1: -11.917018460333333, 2: -9.010864184, 3: -12.381751498, 4: -12.015417775333333, 5: -13.38358708, 6: -10.189287175000002, 7: -11.003634072666665, 8: -9.002125913666667, 9: -16.843213277333334}, -2.09375: {0: -8.179486908666666, 1: -7.578615267666668, 2: -8.003315904333334, 3: -6.577568387333334, 4: -9.874018096333334, 5: -6.110357302000001, 6: -11.231710170666668, 7: -12.273826475666667, 8: -11.144002744, 9: -18.655232586666667}, -2.0: {0: -12.885257005, 1: -10.347011778999999, 2: -16.983368462666665, 3: -16.17105267666667, 4: -10.926882134666664, 5: -9.591486873000001, 6: -16.752674353333333, 7: -11.9002052, 8: -10.022588022, 9: -9.344755554999999}, -1.90625: {0: -11.068869438999998, 1: -8.602750818333334, 2: -11.969580248666668, 3: -9.027817348, 4: -13.099603141666668, 5: -9.534676217666666, 6: -13.123043793999999, 7: -7.9828473613333335, 8: -5.544267799, 9: -10.826493842}, -1.8125: {0: -13.177441871, 1: -6.951342502666666, 2: -13.615748676666668, 3: -5.6992218753333335, 4: -8.532180027, 5: -14.2014625, 6: -11.044959212333334, 7: -10.732422462666667, 8: -6.671392930666667, 9: -17.175447645000002}, -1.71875: {0: -9.904516892333334, 1: -12.890228912666666, 2: -11.331744939666669, 3: -7.742335786333334, 4: -13.745829137000001, 5: -9.398324652, 6: -14.388360996666668, 7: -7.440093954666668, 8: -14.446329581, 9: -8.060624109666668}, -1.625: {0: -11.535548649666666, 1: -4.257965111, 2: -9.280923957333334, 3: -12.0118387, 4: -9.523414189999999, 5: -8.605430341333333, 6: -14.184475012, 7: -11.680866400999998, 8: -7.713223543333332, 9: -11.393155656333334}, -1.4375: {0: -12.892607829, 1: -21.27211618833333, 2: -9.312301863333333, 3: -10.819314902333334, 4: -15.676457358, 5: -10.786637598333334, 6: -16.255704859999998, 7: -7.831564603333334, 8: -11.080145724, 9: -12.766650243333332}, -1.34375: {0: -23.257931529999997, 1: -13.436942320666667, 2: -7.645882255, 3: -6.485303476333333, 4: -12.023906703, 5: -10.937549824, 6: -8.704685337999999, 7: -12.580407481333333, 8: -15.947825380000003, 9: -6.498995135333334}, -0.96875: {0: -19.47235062333333, 1: -10.511945417666666, 2: -6.055607828, 3: -19.513883929666665, 4: -7.445869210333332, 5: -16.866375407, 6: -9.447298284333334, 7: -9.806214269, 8: -9.378288168, 9: -7.6006839783333335}, -0.875: {0: -14.153354811333335, 1: -10.834862616333334, 2: -15.617008153333332, 3: -8.58617746, 4: -14.590017099999999, 5: -14.159099383333333, 6: -12.430367695666666, 7: -7.486172028666666, 8: -7.430747137333333, 9: -6.814118404000001}, -0.78125: {0: -14.465450227666665, 1: -13.767481579333335, 2: -12.288454036666666, 3: -16.212970460666668, 4: -10.468189968999999, 5: -5.175479389, 6: -12.746850910000001, 7: -10.5446866, 8: -10.561915452666668, 9: -8.591713197666666}, -0.3125: {0: -12.196527543666667, 1: -14.188907015666667, 2: -11.696156208666666, 3: -9.321992182, 4: -7.250898046333333, 5: -9.678624332, 6: -12.792755558333333, 7: -19.311960806666665, 8: -7.464230626333333, 9: -8.577561224666667}, -0.21875: {0: -15.183876846666669, 1: -11.7810285, 2: -9.87488773, 3: -7.267322363333332, 4: -19.542644947, 5: -5.035711889, 6: -10.564899165333333, 7: -6.115348413333333, 8: -8.003476148333334, 9: -4.560184466666667}, -0.125: {0: -9.403580881000002, 1: -10.041498341666667, 2: -12.896749849999999, 3: -15.354092193333335, 4: -18.50992037, 5: -13.016496618666665, 6: -12.195618131333333, 7: -16.2445745, 8: -14.450276090000001, 9: -8.683036643000001}, -0.03125: {0: -12.344284264666667, 1: -11.930488078666668, 2: -12.644842003333332, 3: -14.927803021333332, 4: -9.492320988000001, 5: -12.448106404999999, 6: -10.221569398333331, 7: -11.037746382333333, 8: -13.550335063333334, 9: -7.132405993333333}}, {'sampleid': {0: 1, 1: 2, 2: 3, 3: 4, 4: 5, 5: 6, 6: 7, 7: 8, 8: 9, 9: 10}, 'Channels': {0: 1, 1: 1, 2: 1, 3: 1, 4: 1, 5: 1, 6: 1, 7: 1, 8: 1, 9: 1}, 'Distance_km': {0: 0, 1: 0, 2: 0, 3: 0, 4: 0, 5: 0, 6: 0, 7: 0, 8: 0, 9: 0}, 'power_dBm': {0: -2, 1: -2, 2: -2, 3: -2, 4: -2, 5: -2, 6: -2, 7: -2, 8: -2, 9: -2}, '#node': {0: 1, 1: 1, 2: 1, 3: 1, 4: 1, 5: 1, 6: 1, 7: 1, 8: 1, 9: 1}, 0.0625: {0: -8.560760872000001, 1: -10.591459548666666, 2: -8.283382448666668, 3: -13.669836187000001, 4: -18.58766393, 5: -16.029549814, 6: -15.256261396333334, 7: -4.180230154, 8: -23.03537223666667, 9: -4.984668794666667}, 0.15625: {0: -14.192841340000001, 1: -6.819909834000001, 2: -10.283430332, 3: -11.168663076333331, 4: -10.522540221, 5: -10.092534620333332, 6: -10.549735346, 7: -10.145044817333334, 8: -13.552319296666667, 9: -11.789632737333333}, 0.25: {0: -15.30898758, 1: -10.564098084333333, 2: -13.450208946666669, 3: -5.218217442633333, 4: -9.703829210999999, 5: -11.146010808999998, 6: -13.169864946666669, 7: -9.834340933333333, 8: -9.884707117, 9: -13.652961003333333}, 0.34375: {0: -6.232918894000001, 1: -8.830512552, 2: -12.778611796666667, 3: -11.375746437333333, 4: -8.370643457333333, 5: -4.177008854333333, 6: -11.278146569, 7: -10.959289804333332, 8: -13.78181997, 9: -12.271633203333332}, 0.4375: {0: -15.718079341666666, 1: -15.817850133666667, 2: -9.993028089333334, 3: -7.522850464666668, 4: -11.134089374666667, 5: -12.758658759, 6: -6.919430502, 7: -14.23573187, 8: -12.206824493666668, 9: -8.371881165666666}, 0.53125: {0: -11.289253796666666, 1: -6.891420102333334, 2: -10.46460109, 3: -17.215477883333335, 4: -13.228005133333333, 5: -9.620262066, 6: -16.515570633333336, 7: -8.255381870666666, 8: -15.053279953333332, 9: -8.657400786666667}, 0.625: {0: -10.153158614666667, 1: -9.171172150333334, 2: -10.812482454333335, 3: -5.521128830666666, 4: -11.303451675666667, 5: -7.846506332, 6: -13.775282163333335, 7: -9.321329551333333, 8: -8.353049202000001, 9: -6.101976687333334}, 0.71875: {0: -12.782263957333333, 1: -14.961713856666664, 2: -19.624215803333332, 3: -13.879764602, 4: -6.948289982000001, 5: -16.537652586666667, 6: -14.300716290000002, 7: -9.322306388333333, 8: -6.728190891333334, 9: -8.839632191333335}, 0.8125: {0: -17.380874210333335, 1: -8.331730512666667, 2: -12.267413660666667, 3: -14.267641976, 4: -12.122441609333334, 5: -8.848803316666666, 6: -24.22158456, 7: -12.3353494, 8: -11.251525936999998, 9: -14.070277876666665}, 0.90625: {0: -7.186373223666667, 1: -7.9860759743333345, 2: -8.989245388, 3: -11.412674900666666, 4: -13.302283456666666, 5: -13.778718117333334, 6: -12.594588906, 7: -7.142896328666666, 8: -8.830158974333333, 9: -9.516798802333334}, 1.0: {0: -10.565533083666667, 1: -10.024033058999999, 2: -10.357764427666668, 3: -4.672519969, 4: -11.914902613, 5: -16.695369533, 6: -12.413253978, 7: -12.674484280333333, 8: -14.036486522666666, 9: -15.543690048}, 1.09375: {0: -15.532451041333331, 1: -6.793529541999999, 2: -9.308353177, 3: -13.402242406, 4: -10.317501982333333, 5: -11.013595187, 6: -12.586487374999999, 7: -11.590769681666666, 8: -12.136685077000001, 9: -15.542431336666667}, 1.1875: {0: -12.782826978000001, 1: -16.404275063333333, 2: -15.794087113333333, 3: -11.540048992000001, 4: -8.663893895333333, 5: -9.307256943666667, 6: -15.106946156333334, 7: -8.334346328333334, 8: -14.05158769, 9: -12.204255428666668}, 1.28125: {0: -11.634255474, 1: -18.497790176, 2: -10.206821987, 3: -7.799136217, 4: -13.822021598999997, 5: -17.67237632666667, 6: -17.646423923333334, 7: -8.100592655333333, 8: -10.955201277, 9: -12.837219662999999}, 1.375: {0: -11.309244853666668, 1: -12.414553862333333, 2: -8.287642834666666, 3: -6.828392781333334, 4: -12.018516607, 5: -8.144004467666667, 6: -8.335607695666667, 7: -11.651023248333333, 8: -6.428406888666667, 9: -8.146791511}, 1.46875: {0: -10.497543875666667, 1: -13.225515160666667, 2: -11.569705786, 3: -10.443704552, 4: -8.466560357333334, 5: -5.32664285243, 6: -16.17904293333333, 7: -7.739214197999999, 8: -12.225869003, 9: -6.946320727}, 1.5625: {0: -5.651335974999999, 1: -7.393480592333333, 2: -7.169995118666667, 3: -12.208824665, 4: -11.457831663333332, 5: -15.228084077333333, 6: -9.716974237666667, 7: -12.917939372333334, 8: -13.009412573333334, 9: -9.096749459333333}, 1.65625: {0: -11.356755297, 1: -17.714342245666668, 2: -17.064971666, 3: -9.971941169333332, 4: -15.416383199999999, 5: -7.428494970333333, 6: -17.42505693, 7: -14.324712723333333, 8: -12.607143986333332, 9: -10.606652620666667}, 1.75: {0: -8.737857096666666, 1: -12.249678939333334, 2: -6.086125343666666, 3: -6.125782314333333, 4: -14.76684911, 5: -12.680596767000003, 6: -14.828012732666664, 7: -13.823370786666667, 8: -11.459721246666666, 9: -14.133409176333336}, 1.84375: {0: -8.069283675333333, 1: -13.199180209, 2: -13.084334956, 3: -8.900762786333333, 4: -13.445021062333334, 5: -9.717801712, 6: -11.655937013333334, 7: -12.705972884666664, 8: -12.185471391, 9: -11.343341118333333}, 1.9375: {0: -10.147976642333333, 1: -13.448693858666667, 2: -8.898628901, 3: -12.136571606666665, 4: -10.622227044, 5: -10.317094689666666, 6: -16.466866030000002, 7: -8.474916725999998, 8: -7.991557803999999, 9: -15.043668963333332}, 2.03125: {0: -9.169419143333334, 1: -10.327817459333334, 2: -11.499808379333333, 3: -11.293439856333334, 4: -13.761561036666668, 5: -11.190054426333333, 6: -10.806459973, 7: -8.604100699, 8: -9.847168361333333, 9: -12.239326925666665}, 2.125: {0: -14.068455666, 1: -12.037244719999999, 2: -18.72229734633333, 3: -9.084886739, 4: -9.418679043, 5: -7.226297761333332, 6: -12.300293668999998, 7: -10.017716709333333, 8: -13.147755500999999, 9: -5.250235390333333}, 2.21875: {0: -8.769731771666667, 1: -4.676560129666666, 2: -8.626478968666666, 3: -10.192306044666667, 4: -9.814767833333333, 5: -7.515974255333333, 6: -9.940267616666667, 7: -15.035235552666665, 8: -11.248979671666667, 9: -10.472210252666668}, 2.3125: {0: -13.311207225333334, 1: -11.345442949999999, 2: -11.200750302000001, 3: -13.151003123333332, 4: -8.869930927666667, 5: -10.355513148, 6: -12.657893220333333, 7: -15.397704543333333, 8: -18.2778467, 9: -10.151509123333334}, 2.40625: {0: -8.396089532, 1: -9.265277892333334, 2: -12.432867066666667, 3: -10.765633020333333, 4: -12.544904463333333, 5: -10.158515641666668, 6: -14.786947318666668, 7: -24.21978801666667, 8: -12.052685488999998, 9: -16.196520579666668}, 2.5: {0: -14.758671828333334, 1: -6.715999886666666, 2: -13.481832476333333, 3: -7.765333242666667, 4: -11.481436874000002, 5: -11.486012472666667, 6: -16.013650118, 7: -10.005568951666666, 8: -12.526509112333335, 9: -8.754032736000001}, 2.59375: {0: -9.140021670666666, 1: -9.424318555000001, 2: -17.9115245, 3: -8.492326532, 4: -12.985271356, 5: -13.053759399666667, 6: -15.080084325333333, 7: -11.461316723333333, 8: -9.540993144666666, 9: -9.488009217666667}, 2.6875: {0: -11.672463442999998, 1: -9.581439722666666, 2: -8.197441637666666, 3: -10.621155372333334, 4: -13.726361276666665, 5: -10.199109758333334, 6: -11.963414583333332, 7: -10.306100676, 8: -16.149836043333334, 9: -5.356476041333334}, 2.875: {0: -16.354276703333333, 1: -14.240597966666664, 2: -15.91216667, 3: -18.241606566666665, 4: -12.075040799666667, 5: -9.831607857333333, 6: -12.16913357, 7: -11.428382703333334, 8: -14.733654266666667, 9: -8.383535188666666}, 2.96875: {0: -6.350156611, 1: -5.750983334333333, 2: -13.899091873333333, 3: -5.8850714260000005, 4: -8.927386140333335, 5: -12.218546766000001, 6: -10.388592407333332, 7: -9.530745702666666, 8: -11.678876918333332, 9: -10.101716121333332}, 3.0625: {0: -11.437344349, 1: -5.647896604666667, 2: -9.227783262666668, 3: -6.706113584000001, 4: -9.411524602666667, 5: -11.060984548666667, 6: -10.804007246666666, 7: -8.624470090666668, 8: -10.702758596333332, 9: -12.288660246333334}, 4.1875: {0: -10.164719896666666, 1: -6.5253412729999996, 2: -14.185005116666668, 3: -9.537213478666667, 4: -10.725779168, 5: -7.7006833986666665, 6: -11.029960838666668, 7: -23.06391609666667, 8: -13.078479511666666, 9: -9.960538630666667}, 4.28125: {0: -9.126120034000001, 1: -14.027601470333332, 2: -10.635947415333334, 3: -12.013535636666667, 4: -10.696237181999999, 5: -11.701609683000001, 6: -9.715595670666668, 7: -7.717107600333333, 8: -11.935410625000001, 9: -14.316489240000001}, 4.375: {0: -8.394570686333333, 1: -12.060684409333334, 2: -11.822192359999997, 3: -10.245559800666667, 4: -11.294370752333334, 5: -13.783588292666666, 6: -8.530840079333332, 7: -10.512927973, 8: -10.576054520333335, 9: -9.974442066333333}, 4.65625: {0: -10.155595626333334, 1: -10.036284726666667, 2: -13.687185571333336, 3: -10.515492658, 4: -15.212130183333334, 5: -13.675756086666667, 6: -16.376262243333333, 7: -8.513514233666667, 8: -11.865701756666667, 9: -13.156267610333336}, 4.75: {0: -17.467360443333334, 1: -15.566837904333335, 2: -14.29937666, 3: -11.616378628333331, 4: -5.446158984666667, 5: -9.563553062333334, 6: -12.650608761333336, 7: -11.74183743733333, 8: -12.256035712, 9: -14.365632155333332}, 4.84375: {0: -8.149042016000001, 1: -10.268832043000002, 2: -20.62240621666667, 3: -8.310578776, 4: -12.747147572333333, 5: -6.326095278333334, 6: -14.758997532999999, 7: -11.587152361666668, 8: -11.563008151333335, 9: -13.757604353333335}, 4.9375: {0: -8.931951218666667, 1: -5.045534885666666, 2: -6.9787202226666665, 3: -9.334132032666666, 4: -19.77947491666667, 5: -14.597230600666668, 6: -8.703922173333334, 7: -9.480881350999999, 8: -9.493241778666667, 9: -9.935674880333332}, 5.5: {0: -5.600130836999999, 1: -9.286238124, 2: -15.461713236666668, 3: -4.301533492333333, 4: -12.150756475999998, 5: -8.480340793666667, 6: -12.296184746666666, 7: -9.732864302333333, 8: -11.128204621, 9: -9.071971157333335}, 5.59375: {0: -11.266635117000002, 1: -13.747678876666667, 2: -14.186828742000001, 3: -12.489496472666666, 4: -11.859565713666667, 5: -18.036315737, 6: -14.679264786666666, 7: -12.335737979333333, 8: -15.060874859666669, 9: -10.625315745666667}, 5.6875: {0: -7.6232964999999995, 1: -11.342397456666667, 2: -14.62890934, 3: -14.473232901666668, 4: -11.93634522, 5: -9.265745241666666, 6: -7.808902197999999, 7: -8.135120552666667, 8: -13.38152859933333, 9: -9.289080841333332}, 5.78125: {0: -12.515941366333335, 1: -11.126496760666667, 2: -8.802112754666668, 3: -13.608241476666665, 4: -11.390722031333334, 5: -7.441461763333334, 6: -13.753336972666666, 7: -11.928359668333334, 8: -8.028598165666667, 9: -4.978641669}, 5.875: {0: -11.543031890333333, 1: -10.283257181666665, 2: -10.729719059666666, 3: -9.092146533, 4: -14.371738608666666, 5: -10.940068074000001, 6: -13.284699706666666, 7: -16.716090750000003, 8: -18.312653443333332, 9: -8.861713529666666}, 5.96875: {0: -11.130834790333333, 1: -15.420576206666667, 2: -9.517563454666666, 3: -11.864190763666665, 4: -11.586083516333334, 5: -7.687972884333333, 6: -19.079461206666668, 7: -14.453250870333333, 8: -10.281203425000001, 9: -5.006182827}, 6.15625: {0: -12.450014943333334, 1: -4.091601056333333, 2: -7.437754793000001, 3: -7.777862084333332, 4: -13.224042156666668, 5: -10.860303605666667, 6: -11.977817843333334, 7: -16.354376156666664, 8: -11.277582680666667, 9: -20.041719386666667}, 6.25: {0: -10.197410329, 1: -11.412406499, 2: -7.3614783059999995, 3: -17.000145773333333, 4: -11.581459908333334, 5: -18.22875915, 6: -11.20748101, 7: -11.508788191999999, 8: -6.821671488333333, 9: -9.971796102666667}, 6.34375: {0: -9.987964869666667, 1: -10.392673329666666, 2: -8.638167634, 3: -7.814841462333334, 4: -11.699449531666666, 5: -11.664606854666667, 6: -10.716801690666665, 7: -16.580539760333334, 8: -15.435568452666667, 9: -23.73233012}, 6.4375: {0: -11.047085558666668, 1: -10.484785549666666, 2: -11.751142686666666, 3: -12.880714973333333, 4: -10.378265665999999, 5: -12.705224436, 6: -14.580039703333332, 7: -9.880763154, 8: -12.355997274000002, 9: -11.992566448666667}, 6.53125: {0: -11.42941739, 1: -8.421130271000001, 2: -9.261672980333334, 3: -7.711250473333332, 4: -10.680489155000002, 5: -8.077870930333333, 6: -13.368139781333333, 7: -9.101207775, 8: -12.133124378666666, 9: -6.41569647}, 6.625: {0: -10.945253526333333, 1: -11.678652410666666, 2: -8.916993420333332, 3: -7.474801976333334, 4: -18.956616306666664, 5: -11.01968009, 6: -17.509745416666668, 7: -12.192680671666666, 8: -14.241337871666667, 9: -7.1836009370000005}, 6.71875: {0: -10.033169776333333, 1: -16.72524031, 2: -8.60883349, 3: -16.874926706666667, 4: -21.247357516666668, 5: -12.66658718, 6: -9.955904216999999, 7: -14.952903614, 8: -7.4238551353333335, 9: -9.495484428666666}, 7.0: {0: -16.83832619, 1: -10.355489131666667, 2: -13.924786176000003, 3: -6.968288276666667, 4: -15.60794728, 5: -11.082152600666666, 6: -16.234568613333334, 7: -18.080015963333334, 8: -7.886457444, 9: -11.457516080333333}, 7.09375: {0: -14.710565866666665, 1: -10.589376311333334, 2: -8.895175935666666, 3: -7.576628613666666, 4: -15.01682776, 5: -12.080052536666665, 6: -17.54555529, 7: -11.224240931666666, 8: -8.309723716666666, 9: -3.4351609853333334}, 7.28125: {0: -9.958700098, 1: -7.882195960000001, 2: -5.628075092, 3: -13.674031215666666, 4: -9.823968980333333, 5: -9.926245795, 6: -15.237987871333333, 7: -8.890094164333334, 8: -12.794092008666667, 9: -10.314373308666667}, 7.375: {0: -15.173812773333333, 1: -19.795119425, 2: -7.044997517666666, 3: -8.349470644333334, 4: -7.9481535166666655, 5: -9.495354627333333, 6: -8.716680513, 7: -8.194259588, 8: -10.821651494666668, 9: -9.795747906666668}, 7.84375: {0: -13.732599995, 1: -11.044710374333334, 2: -12.819911314, 3: -13.365886894333334, 4: -14.20840346, 5: -9.722540942333332, 6: -13.052220611333334, 7: -12.232993888666668, 8: -7.803068736666667, 9: -8.177051319}, 7.9375: {0: -12.593019510333335, 1: -18.644375686666667, 2: -8.771122627666667, 3: -5.295674312333333, 4: -13.321220821333332, 5: -11.186042051333333, 6: -14.726608897666667, 7: -13.839888898333333, 8: -12.491684373333333, 9: -11.763587942666666}, 8.125: {0: -9.893192169333334, 1: -13.827713786666665, 2: -11.5300929, 3: -17.101638033333334, 4: -10.835448866999998, 5: -8.046515566333333, 6: -13.243762223333334, 7: -13.153338618333331, 8: -12.182626098, 9: -15.252925174333335}, 8.3125: {0: -10.201325373333333, 1: -22.032650889666666, 2: -15.469059615333336, 3: -8.192088986666667, 4: -11.658026014333332, 5: -6.232060457, 6: -18.603050409999998, 7: -10.134470965666667, 8: -8.785143827666667, 9: -11.984746660666667}, 8.40625: {0: -13.851730592000001, 1: -2.8553357986666668, 2: -16.125764492333335, 3: -11.106440233666667, 4: -10.032615898666666, 5: -19.32398223666667, 6: -9.367988595333335, 7: -9.729079975666666, 8: -10.805779346333333, 9: -15.099984699333334}, 8.5: {0: -9.470526402333334, 1: -6.292972315666667, 2: -12.828596533333334, 3: -9.344309326333333, 4: -10.528387734333334, 5: -9.794896758666667, 6: -16.105057249999998, 7: -12.832652623333333, 8: -12.781253143, 9: -16.502707568666665}, 8.59375: {0: -14.703260436666667, 1: -7.572877518666668, 2: -9.854412310999999, 3: -17.446881657000002, 4: -11.558917393, 5: -7.903438594333333, 6: -12.36465493, 7: -10.453382244666667, 8: -14.258370466333332, 9: -13.797680351000002}, 8.6875: {0: -8.362125538666666, 1: -6.2668372549999996, 2: -12.477525676666668, 3: -8.064047025666666, 4: -10.975777065, 5: -11.199317380333333, 6: -14.573366033333334, 7: -7.984903812666666, 8: -9.301949884333332, 9: -11.125460199}, 8.78125: {0: -11.383852353, 1: -7.315512784666667, 2: -20.43889812, 3: -11.966875990666665, 4: -8.980836473333333, 5: -6.794409875333333, 6: -16.446275996666667, 7: -18.544789366666667, 8: -11.177284624333334, 9: -10.900551037333335}, 8.875: {0: -17.198987923333334, 1: -14.16968939, 2: -6.715970798000001, 3: -7.615192415, 4: -15.138757723333333, 5: -10.691112575, 6: -7.630936095666667, 7: -11.513373308666667, 8: -13.787291802666665, 9: -11.331167399999998}, 8.96875: {0: -12.416819318666668, 1: -11.031258869666667, 2: -10.557584046333334, 3: -16.18823678, 4: -12.530263853, 5: -10.018980976333333, 6: -15.415539368333334, 7: -11.644391042666667, 8: -11.05796127, 9: -8.428125266}, 9.0625: {0: -16.907175771, 1: -13.084099205000001, 2: -14.095489257666665, 3: -9.356671199666666, 4: -10.648257267, 5: -8.307693112, 6: -17.808835317, 7: -8.66946208, 8: -11.483499666999998, 9: -7.226040381000001}, 9.15625: {0: -11.590347309, 1: -9.314340337666666, 2: -6.876356364, 3: -6.973126293, 4: -17.09376205, 5: -6.518772267, 6: -12.294933460666668, 7: -9.884382488333332, 8: -8.442167443, 9: -8.309723167333333}, 9.25: {0: -10.047884648, 1: -11.803586644333334, 2: -16.023088678333334, 3: -13.151360453333334, 4: -11.508768722000001, 5: -13.280162850333333, 6: -14.003585193333334, 7: -17.2873424, 8: -13.186092336000002, 9: -15.291215126666666}, 9.34375: {0: -8.356263527666668, 1: -11.793659893333334, 2: -17.907951843333333, 3: -6.539787715, 4: -12.202400207000002, 5: -7.055051882333333, 6: -9.193049376333333, 7: -10.818724039000001, 8: -10.806604678333334, 9: -8.310972289666665}, 9.4375: {0: -12.872455084, 1: -19.106184119999998, 2: -7.821935994, 3: -7.568585218, 4: -14.415203964, 5: -11.989685086666666, 6: -15.184670980000002, 7: -8.327440572, 8: -16.23303037333333, 9: -13.024908926999998}, 9.53125: {0: -12.01950881, 1: -10.262347870000001, 2: -6.727041755666666, 3: -11.376166863666668, 4: -13.462060392, 5: -7.743909813666666, 6: -9.637146269, 7: -8.287305483333334, 8: -13.37389502, 9: -12.143471639}, 9.71875: {0: -13.682839756333331, 1: -8.395782272333333, 2: -8.911252242666668, 3: -10.116098526666667, 4: -7.024569602000001, 5: -11.947201097999999, 6: -14.14169277, 7: -9.281542686333333, 8: -14.238522942333333, 9: -12.447480122666667}, 9.8125: {0: -12.514621484000001, 1: -8.735492378666667, 2: -15.248416371333333, 3: -11.253132641, 4: -16.420014605666665, 5: -14.453865036666668, 6: -6.796208881666666, 7: -19.330193756666667, 8: -8.428553213333332, 9: -9.078259841000001}, 9.90625: {0: -7.9938933316666665, 1: -12.583058871333334, 2: -10.978682438666667, 3: -14.081983327666668, 4: -14.623874570666667, 5: -13.911083141, 6: -13.551598792999998, 7: -8.540519337, 8: -15.718915616666669, 9: -14.3898009}, 10.0: {0: -11.467478215999998, 1: -9.117445181666668, 2: -8.656023271666667, 3: -10.614016959333334, 4: -18.14454320733333, 5: -19.014106336666668, 6: -23.56504825333333, 7: -15.46378276, 8: -8.311726587, 9: -12.347064408666668}, 10.09375: {0: -15.532590120333333, 1: -10.192681973333334, 2: -5.957422556, 3: -7.035075162333334, 4: -17.529845483333332, 5: -11.279249625666667, 6: -12.85470568, 7: -18.146044113333332, 8: -10.080233734333333, 9: -7.813418259333333}, 10.1875: {0: -24.027722666666666, 1: -11.232867181666668, 2: -10.818614164333333, 3: -6.01587714, 4: -17.89773221, 5: -14.122742086666667, 6: -9.941538490333334, 7: -12.904153876, 8: -11.446515726333333, 9: -6.173222010333333}, 10.28125: {0: -12.989505942000001, 1: -7.6865987643333336, 2: -10.039541062333333, 3: -11.201278354333335, 4: -18.463927360000003, 5: -16.393507263333333, 6: -11.863838377, 7: -13.833742656666667, 8: -12.765195095000001, 9: -7.036457314}, 10.375: {0: -11.949801981, 1: -9.702594269666667, 2: -11.497840593333335, 3: -13.701840306333333, 4: -14.436886793333334, 5: -14.782667046666665, 6: -14.884147783333333, 7: -10.268351295666667, 8: -10.176366246, 9: -8.825813922333333}, 10.9375: {0: -10.107563507, 1: -13.906305147333335, 2: -9.951386181666667, 3: -11.273909891333332, 4: -15.696208347666667, 5: -18.644736003333335, 6: -12.459174324000001, 7: -11.044747498333331, 8: -18.146287116666667, 9: -10.546734980333333}, 11.03125: {0: -10.433723109, 1: -8.606078982333335, 2: -13.279586363666667, 3: -16.11044403, 4: -11.03716363, 5: -15.670677028666667, 6: -14.046215226666668, 7: -13.223995393333333, 8: -4.838941924666666, 9: -14.430216946666667}, 11.125: {0: -16.499703856666667, 1: -11.111604601000002, 2: -10.148838577666666, 3: -16.28926581, 4: -9.126484309, 5: -12.755659378333332, 6: -12.902027007000001, 7: -11.529064763333333, 8: -8.683743911666667, 9: -15.033453860000002}, 11.21875: {0: -8.994308443333333, 1: -15.1674922, 2: -9.764946610666668, 3: -5.462901172666666, 4: -12.503312466666666, 5: -9.498347582, 6: -17.70821238, 7: -11.893606099333333, 8: -12.300933029, 9: -7.716640858966667}, 11.3125: {0: -8.119885149333333, 1: -6.916516090333334, 2: -17.540377723333332, 3: -9.249005994333332, 4: -7.591398363666667, 5: -8.127344205666667, 6: -14.431457566666667, 7: -10.400733362333334, 8: -12.966945624333334, 9: -16.372514966666667}, 11.40625: {0: -14.582046880666667, 1: -9.087864232333333, 2: -9.018354027333332, 3: -8.030720899333334, 4: -18.66293238, 5: -14.460974404333333, 6: -10.208722537333331, 7: -7.675471709999999, 8: -13.648998830000002, 9: -12.202595820666666}, 11.6875: {0: -9.256929992333333, 1: -17.382170333333335, 2: -16.38249679, 3: -10.963773743333334, 4: -11.798588393666668, 5: -11.797533632000002, 6: -18.975434246333332, 7: -11.042446136666669, 8: -9.255267186333333, 9: -8.259466832333333}, 11.78125: {0: -14.955795353333334, 1: -7.490183230666666, 2: -9.278057625666667, 3: -7.919865096333332, 4: -10.137884539666667, 5: -9.258295017, 6: -14.246510916666667, 7: -16.771059256, 8: -10.73022512, 9: -13.187100946666668}, 11.875: {0: -14.692907281666669, 1: -12.073653033666666, 2: -15.734096296666666, 3: -8.472525015666667, 4: -18.360826989666666, 5: -8.658730522666668, 6: -16.319006157, 7: -10.985398869333332, 8: -13.249220466000002, 9: -11.139626220666665}, 11.96875: {0: -11.855814769333334, 1: -9.135586934, 2: -12.105335653666666, 3: -8.874383722333334, 4: -15.204553199000001, 5: -12.208998532, 6: -19.363196863333332, 7: -11.269813827333332, 8: -11.521396529666667, 9: -9.159959588666668}, 12.0625: {0: -13.876738306333332, 1: -6.756061771666666, 2: -10.303573492666667, 3: -16.912021706666668, 4: -18.289485046666666, 5: -10.300442957333333, 6: -12.852370462333335, 7: -13.37798586, 8: -7.563249131, 9: -20.781618773333335}, 12.15625: {0: -10.485282463333334, 1: -13.845212005333332, 2: -7.849914640666667, 3: -11.360547798666666, 4: -12.08636928, 5: -8.405229718333333, 6: -10.513595629666668, 7: -22.210357149999997, 8: -15.61004062, 9: -10.542974123999999}, 12.25: {0: -15.458758329333333, 1: -7.571062333, 2: -12.541371550000001, 3: -9.128865755333333, 4: -13.621069349, 5: -7.409849306666666, 6: -10.078734144999999, 7: -15.132280707000001, 8: -10.273130182666668, 9: -9.754393347666666}, 12.53125: {0: -12.187967638333333, 1: -9.558285763666667, 2: -12.549091604333332, 3: -10.077445805333333, 4: -10.411224171999999, 5: -13.063206766666667, 6: -8.072527246, 7: -10.791697044666668, 8: -14.333554638, 9: -16.894090781}, 12.625: {0: -11.496072806333332, 1: -8.580234238333334, 2: -13.915563499666666, 3: -7.339876661333334, 4: -12.648698129666665, 5: -22.660342056666668, 6: -10.981757965333335, 7: -9.17704337, 8: -10.366753984666667, 9: -9.922259009000001}, 12.71875: {0: -16.001624553333333, 1: -6.155298535666667, 2: -11.150312104666668, 3: -11.856082463999998, 4: -11.863194676666668, 5: -6.838720305, 6: -15.393812576666667, 7: -10.955036483333336, 8: -13.354092920999998, 9: -11.578660973333333}, 12.90625: {0: -17.4605859, 1: -9.826130360666667, 2: -15.232031544, 3: -12.997390258000001, 4: -15.727118658333334, 5: -10.668861133, 6: -13.71702228, 7: -8.187709133333334, 8: -15.733876196666666, 9: -9.972935842}, 13.0: {0: -14.026213397666666, 1: -12.25898035, 2: -9.849440103, 3: -8.050585458, 4: -9.904633888666666, 5: -10.234171917333335, 6: -14.895896546666668, 7: -17.428379266666663, 8: -13.652026533333334, 9: -10.125732527666667}, 13.09375: {0: -14.266983090666665, 1: -10.237734437666667, 2: -9.183486141000001, 3: -10.77959534, 4: -10.454278009000001, 5: -12.546897546666665, 6: -12.554209903333332, 7: -8.426793323666667, 8: -9.724118093333333, 9: -8.330736680333333}, 13.5625: {0: -9.238023982333333, 1: -13.190356627, 2: -13.975363413333334, 3: -14.580192619333333, 4: -22.258215680000003, 5: -9.913738763333333, 6: -15.10167913, 7: -9.681071069666666, 8: -13.200761231333333, 9: -8.354569889333334}, 13.65625: {0: -10.700764499333333, 1: -13.383679227666667, 2: -9.906090496666666, 3: -8.807112266666666, 4: -14.338971573333334, 5: -8.263650679666666, 6: -15.2263991, 7: -10.040175368, 8: -16.508088208, 9: -11.518287688333332}, 13.75: {0: -13.249076677666665, 1: -14.900006392333333, 2: -16.079237236666668, 3: -18.11390065333333, 4: -10.795961515333332, 5: -20.780225613333332, 6: -13.273117466000002, 7: -15.327303006666668, 8: -16.56850547666667, 9: -17.532920193333336}, 13.84375: {0: -12.618695426666667, 1: -11.858238446666666, 2: -12.356926431666665, 3: -16.13825328, 4: -11.537414826000001, 5: -11.786048876, 6: -17.273342076666665, 7: -9.402962347333334, 8: -9.679954371666666, 9: -8.975551825333334}, 14.125: {0: -23.154558499999997, 1: -17.919657383333334, 2: -11.208843149000002, 3: -7.935762529000001, 4: -9.648752059000001, 5: -13.660868943666665, 6: -11.921354783666667, 7: -11.230510346666668, 8: -11.670545644333336, 9: -12.919584917333333}, 14.21875: {0: -11.772495452333333, 1: -11.851524002333335, 2: -13.423714942333334, 3: -13.088292940666667, 4: -27.0542008, 5: -9.168821691, 6: -17.94325975, 7: -12.605805226000001, 8: -15.112714788, 9: -20.863285821999998}, 14.3125: {0: -10.525426998666665, 1: -14.124236583333333, 2: -14.102141473333333, 3: -15.265155514666667, 4: -17.891732636666664, 5: -12.700415986666664, 6: -19.972228349999998, 7: -13.125721874999998, 8: -15.962559467333334, 9: -11.995010837666667}, 14.6875: {0: -12.780424443, 1: -15.610315190000001, 2: -11.375852700333333, 3: -12.977283569333332, 4: -17.35032706, 5: -13.941212416666666, 6: -12.757469729999999, 7: -9.276956238333334, 8: -10.918391223333332, 9: -10.158515732666666}, 14.78125: {0: -16.047948656666666, 1: -13.423205796666666, 2: -17.64554616, 3: -13.211885850666667, 4: -18.847257816666666, 5: -12.206432180999998, 6: -12.257010205999999, 7: -16.65654751, 8: -19.930588356666664, 9: -18.117934287666667}, 15.0625: {0: -14.586802645, 1: -11.804049005000001, 2: -12.502169093, 3: -15.573390323333333, 4: -16.305593847666668, 5: -15.815929907666666, 6: -19.218157353, 7: -21.456341303333332, 8: -14.627754756666667, 9: -10.505737307333334}, 15.15625: {0: -10.841365567666669, 1: -13.114094410333335, 2: -22.84152349, 3: -15.10152674266667, 4: -19.466022409999997, 5: -14.104970174, 6: -16.311714611666666, 7: -10.404029789333334, 8: -15.981545042666667, 9: -14.286876736666665}, 15.25: {0: -22.343550706666665, 1: -9.184774245666667, 2: -14.612724113333334, 3: -12.601373498333333, 4: -20.93174144, 5: -10.241986510666665, 6: -15.005831076666666, 7: -15.873493939999998, 8: -18.975819519999998, 9: -17.85735173}, 15.34375: {0: -12.502693936666667, 1: -17.765707443333334, 2: -15.950763276666665, 3: -14.492718116666666, 4: -16.549194176666663, 5: -10.592345680333333, 6: -14.369859593333333, 7: -16.813226099666664, 8: -15.58849687, 9: -14.450926032666667}, 15.625: {0: -16.443838806666665, 1: -13.252952233333334, 2: -17.979086283333334, 3: -23.38890361, 4: -17.132136210000002, 5: -16.0570039, 6: -20.21162254, 7: -16.253484876666665, 8: -27.18424213333334, 9: -15.500494103333333}, 15.71875: {0: -17.925668623333333, 1: -20.187411286666666, 2: -15.112345150000001, 3: -19.988467643333333, 4: -16.47075263, 5: -18.947783760000004, 6: -13.431800779999998, 7: -20.828130060000003, 8: -14.046829133333333, 9: -15.450882213333335}, 15.90625: {0: -23.767323166666667, 1: -20.499823243333335, 2: -26.28323197, 3: -17.34248538, 4: -22.874778610000003, 5: -17.91990628666667, 6: -19.615695266666666, 7: -26.220203936666664, 8: -20.60435132, 9: -12.415705436666668}, 16.0: {0: -20.30792495333333, 1: -16.975076196666667, 2: -18.814631836666667, 3: -19.595224153333334, 4: -19.199114073333334, 5: -19.27973398, 6: -20.203631979999997, 7: -18.714254606666668, 8: -18.88727029, 9: -24.44609914333334}, 16.09375: {0: -19.04322515666667, 1: -27.23431352333333, 2: -22.93434892, 3: -15.573561786666666, 4: -19.44263257, 5: -20.57904436666667, 6: -21.923106316666665, 7: -20.302471960000002, 8: -22.52518295333333, 9: -22.609221253333335}, 16.1875: {0: -22.566289029999997, 1: -17.31250429, 2: -21.80941923333333, 3: -15.37865826, 4: -24.317009346666666, 5: -23.83182499333333, 6: -24.161583439999998, 7: -23.363123146666666, 8: -16.708635063333332, 9: -23.232231243333334}, 16.28125: {0: -24.01430775, 1: -18.663761406666666, 2: -24.431803346666666, 3: -22.54037846, 4: -29.17908119, 5: -20.048261913333334, 6: -29.947805666666667, 7: -24.18144029333334, 8: -23.166735313333334, 9: -22.26106946333333}, 16.375: {0: -21.83496538, 1: -20.90055883333333, 2: -23.39280098, 3: -19.368983413333336, 4: -23.825927386666667, 5: -24.184180336666667, 6: -24.643084509999998, 7: -25.874167779999997, 8: -22.929997429999997, 9: -24.669496900000002}, 16.46875: {0: -26.147347083333333, 1: -33.95813328666667, 2: -29.515561596666668, 3: -32.89980045666667, 4: -35.28130916333333, 5: -18.566130796666666, 6: -26.980820766666668, 7: -27.913874946666667, 8: -24.74220598333333, 9: -26.595821536666666}, 16.5625: {0: -28.878329646666668, 1: -27.44777495, 2: -28.04871488666667, 3: -29.986141896666666, 4: -26.56447418, 5: -29.310188566666667, 6: -30.848675600000004, 7: -26.314798713333335, 8: -27.338147923333334, 9: -27.956406389999998}, 16.65625: {0: -32.29200189666667, 1: -28.888749166666667, 2: -41.98407036, 3: -32.12418023666667, 4: -34.75561156, 5: -32.669814153333334, 6: -30.027916953333335, 7: -29.418872203333336, 8: -32.22291157, 9: -30.736304809999996}, 16.75: {0: -39.03681268333333, 1: -33.991021249999996, 2: -36.35804062333333, 3: -32.13322303666667, 4: -33.088814756666665, 5: -38.34566171666667, 6: -33.82062736666666, 7: -32.74249888666667, 8: -28.605615233333335, 9: -33.7994739}, 16.84375: {0: -45.914568143333334, 1: -35.04304911666667, 2: -43.56225788999999, 3: -35.80306797666666, 4: -45.52012572333334, 5: -45.99118327333334, 6: -46.65949167333334, 7: -42.465140336666664, 8: -47.51798881333334, 9: -36.47425552666667}, 16.9375: {0: -58.36315522333333, 1: -52.83134204666666, 2: -53.64897057666667, 3: -50.02761788666667, 4: -58.91561092999999, 5: -52.33950506333334, 6: -53.12443800666667, 7: -54.95616169666667, 8: -50.776489473333335, 9: -55.06717945}, 17.03125: {0: -59.62381885666667, 1: -50.36435336, 2: -59.85027401, 3: -48.52738863666667, 4: -55.61435392333333, 5: -56.069313996666665, 6: -56.09225471333334, 7: -49.87597779666667, 8: -52.32687256, 9: -53.09957443666667}, 17.125: {0: -54.97340698, 1: -56.62932651666667, 2: -49.85091668333333, 3: -59.23122875333333, 4: -52.21557514, 5: -52.28674421333333, 6: -51.62042079, 7: -53.142487863333336, 8: -52.11842213666667, 9: -45.130008186666664}, 17.21875: {0: -51.50175958, 1: -58.94814979, 2: -51.296919276666664, 3: -44.86146239666667, 4: -54.79080703666667, 5: -50.76540340666667, 6: -58.75803308333332, 7: -49.569401606666666, 8: -47.847937636666664, 9: -53.12694750333333}, 17.3125: {0: -57.81720800333333, 1: -56.02729348, 2: -53.326393450000005, 3: -45.700906016666664, 4: -49.085091733333336, 5: -49.56452098, 6: -60.94215367, 7: -55.22443225666667, 8: -54.625282156666664, 9: -53.28955072666667}, 17.40625: {0: -48.8002526, 1: -54.28254192000001, 2: -50.68860282666666, 3: -50.15344504666666, 4: -54.580874910000006, 5: -51.16926695333333, 6: -52.21510972666667, 7: -56.693235730000005, 8: -54.32534264666666, 9: -49.24834668666667}, 17.5: {0: -52.18178509333333, 1: -50.22510738666667, 2: -54.27226951333333, 3: -54.29468499666667, 4: -52.184661260000006, 5: -55.420800119999996, 6: -52.34227824333334, 7: -59.624089973333334, 8: -58.88514921666666, 9: -49.25654925333333}, 17.59375: {0: -61.191286139999995, 1: -56.96975510666666, 2: -53.183961036666666, 3: -54.20194795333333, 4: -51.75020839333333, 5: -52.242895436666664, 6: -53.77430715, 7: -54.42896807666667, 8: -56.08532541333333, 9: -51.62302601666667}, 17.96875: {0: -52.43536836333334, 1: -60.14283469666666, 2: -51.45888846666667, 3: -59.44795154333334, 4: -51.79118838333333, 5: -51.05521022666667, 6: -51.91130359666666, 7: -51.62706960333333, 8: -50.63817846333333, 9: -55.301623310000004}, 18.4375: {0: -49.93357455666666, 1: -53.70216807333333, 2: -52.73202072, 3: -50.56961912666667, 4: -54.63934781, 5: -50.822652500000004, 6: -54.10803108333334, 7: -50.76199018333333, 8: -57.15160974666666, 9: -51.84207477}, 18.53125: {0: -53.54953280666666, 1: -51.53744098666667, 2: -48.61183877333334, 3: -52.96810312333333, 4: -51.7777772, 5: -51.52232839333334, 6: -55.51957751999999, 7: -53.4335815, 8: -50.79837141666667, 9: -52.68994988333333}, 19.0: {0: -53.39118806333334, 1: -52.67564406333333, 2: -53.60615962333333, 3: -53.15182651, 4: -57.344211046666665, 5: -59.74544521000001, 6: -55.139513746666665, 7: -58.19119896, 8: -55.43253128, 9: -57.068721546666666}, 19.09375: {0: -57.003342260000004, 1: -55.38241811666668, 2: -56.65270866666666, 3: -53.87055999666666, 4: -57.100779679999995, 5: -47.42047824333333, 6: -48.75923320333334, 7: -56.27926419333334, 8: -54.32266274333333, 9: -47.78304895333333}, 19.1875: {0: -54.180431739999996, 1: -53.29099801, 2: -56.28519161666667, 3: -54.64018024999999, 4: -58.379422113333334, 5: -56.58771688666667, 6: -58.28739382333333, 7: -51.80374685666667, 8: -50.403793070000006, 9: -51.013356483333325}, 19.28125: {0: -55.929226166666666, 1: -48.686969303333335, 2: -51.693924306666666, 3: -59.41526123333333, 4: -55.33520273, 5: -57.48505208666666, 6: -53.312507393333334, 7: -55.71020494333333, 8: -57.90582559, 9: -51.95442412333333}, 19.375: {0: -53.68577013, 1: -53.426422773333336, 2: -64.98929287333333, 3: -54.676540163333335, 4: -56.72953660333334, 5: -52.4852956, 6: -55.22617553666666, 7: -54.21484110666666, 8: -62.23799454666667, 9: -52.68008854000001}, 19.46875: {0: -54.57312098333333, 1: -48.667324226666665, 2: -49.39540958333333, 3: -53.83835586, 4: -52.07777761333333, 5: -50.829761873333325, 6: -52.68075124333334, 7: -53.931744976666664, 8: -49.30787680333333, 9: -51.27139225333334}, 19.5625: {0: -54.901276239999994, 1: -51.27590808666667, 2: -50.925654926666674, 3: -48.21038063333333, 4: -53.62638915333333, 5: -51.89000582333333, 6: -63.97724635666666, 7: -57.11165159666667, 8: -48.097190403333336, 9: -58.86157677666667}, 19.65625: {0: -53.11701412333334, 1: -54.835197943333334, 2: -55.50586424333333, 3: -54.55277395666667, 4: -53.36618976666667, 5: -58.02683875666667, 6: -53.399969813333335, 7: -56.118791826666666, 8: -49.944873480000005, 9: -57.08253842}, 19.75: {0: -54.21562752, 1: -58.789063803333335, 2: -52.25211586333333, 3: -53.72886977333334, 4: -52.83728175666667, 5: -55.97528050333333, 6: -57.170499936666666, 7: -51.456479056666666, 8: -52.38508510666666, 9: -58.12303745333333}}], 'Node_2': [{'sampleid': {10: 11, 11: 12, 12: 13, 13: 14, 14: 15, 15: 16, 16: 17, 17: 18, 18: 19, 19: 20}, 'Channels': {10: 1, 11: 1, 12: 1, 13: 1, 14: 1, 15: 1, 16: 1, 17: 1, 18: 1, 19: 1}, 'Distance_km': {10: 100, 11: 100, 12: 100, 13: 100, 14: 100, 15: 100, 16: 100, 17: 100, 18: 100, 19: 100}, 'power_dBm': {10: -2, 11: -2, 12: -2, 13: -2, 14: -2, 15: -2, 16: -2, 17: -2, 18: -2, 19: -2}, '#node': {10: 2, 11: 2, 12: 2, 13: 2, 14: 2, 15: 2, 16: 2, 17: 2, 18: 2, 19: 2}, -19.90625: {10: -60.71754735, 11: -45.15463086666667, 12: -53.27114639333333, 13: -46.90047097666667, 14: -55.24710120333333, 15: -51.91287308333333, 16: -53.910756236666664, 17: -51.31944722333333, 18: -51.100546906666665, 19: -47.78152221333334}, -19.8125: {10: -56.39825541, 11: -54.03629034333334, 12: -57.67733786, 13: -53.68819819, 14: -53.74592131333333, 15: -57.34732510333333, 16: -53.67179610333333, 17: -53.99786762666667, 18: -56.06344513, 19: -48.983736029999996}, -19.71875: {10: -53.46696622333334, 11: -51.033799296666665, 12: -54.015429463333334, 13: -60.58887518666666, 14: -56.200103436666666, 15: -51.278511619999996, 16: -58.87583338000001, 17: -51.182574166666676, 18: -52.671966276666666, 19: -57.731805236666666}, -19.625: {10: -55.48998424333333, 11: -51.75264817000001, 12: -55.46690738, 13: -51.90694449666666, 14: -53.819230266666665, 15: -57.36760561666667, 16: -54.31346698666667, 17: -58.19366283333334, 18: -52.007881166666664, 19: -46.97464428}, -19.53125: {10: -52.813160763333336, 11: -49.30280254666667, 12: -51.861904763333335, 13: -49.999406273333335, 14: -54.238497896666665, 15: -49.57595456666667, 16: -58.27956854000001, 17: -54.24087476333333, 18: -53.72062702, 19: -57.88593868}, -19.34375: {10: -53.35575509, 11: -53.85423900333333, 12: -55.97189023333334, 13: -55.27317958, 14: -52.547551160000005, 15: -56.39179716666666, 16: -50.78328290333334, 17: -51.60661164333333, 18: -50.27846769000001, 19: -52.45212028666666}, -19.25: {10: -54.21687731333333, 11: -49.666131193333335, 12: -49.69601025, 13: -52.46010242, 14: -46.93850292, 15: -57.84407852333334, 16: -52.119612933333336, 17: -59.65641150333334, 18: -57.055143439999995, 19: -55.93806283666667}, -19.15625: {10: -49.79094436, 11: -52.18487238, 12: -54.09991046333332, 13: -52.00302365666666, 14: -54.38671042000001, 15: -47.35281377333333, 16: -53.80582198, 17: -51.80839678666666, 18: -52.38398998666667, 19: -51.38988657333334}, -19.0625: {10: -50.994463196666665, 11: -47.286331306666675, 12: -53.79633160666666, 13: -50.83240755333333, 14: -52.51300874333333, 15: -49.13077745333334, 16: -58.29537238, 17: -53.165707946666664, 18: -54.53739815, 19: -50.94129406}, -18.96875: {10: -60.23274645666667, 11: -63.98590168666667, 12: -50.45902458999999, 13: -54.15870188, 14: -52.63522859333333, 15: -50.818951976666675, 16: -54.33707936666667, 17: -53.55645489333333, 18: -51.96031143, 19: -48.83620036}, -18.875: {10: -55.098953353333336, 11: -51.68474563666666, 12: -54.69446402666667, 13: -49.88744108, 14: -54.19690891666667, 15: -49.51266039333333, 16: -56.68510457666667, 17: -53.35657564666667, 18: -47.77624368, 19: -49.42320713666667}, -18.78125: {10: -57.729821109999996, 11: -55.41035975333333, 12: -49.37121263333333, 13: -56.08210521333333, 14: -51.68359293666666, 15: -48.144761173333336, 16: -55.952219723333336, 17: -54.617782999999996, 18: -58.429515, 19: -48.41280324666667}, -18.6875: {10: -56.19673185333334, 11: -52.5556178, 12: -55.86574663333334, 13: -49.66958207, 14: -52.25046237, 15: -51.764140899999994, 16: -55.04647031666667, 17: -54.94836596, 18: -60.54849676333333, 19: -57.32558078333333}, -18.59375: {10: -49.730965379999994, 11: -50.333248516666664, 12: -51.954953859999996, 13: -50.222677006666665, 14: -58.99485219333334, 15: -52.62149902000001, 16: -55.25338584333333, 17: -55.83930366333334, 18: -60.40638583999999, 19: -53.3688047}, -18.5: {10: -51.61046328333333, 11: -51.103250190000004, 12: -49.129555350000004, 13: -47.52208976333333, 14: -51.970291339999996, 15: -50.155305739999996, 16: -54.7208618, 17: -45.32396767, 18: -48.42493621333333, 19: -50.68147968333333}, -18.40625: {10: -53.90305094666667, 11: -54.45054417666666, 12: -51.27222706333333, 13: -55.61010990333333, 14: -51.00326913999999, 15: -59.2043646, 16: -60.04253705, 17: -53.645891150000004, 18: -54.73002839333333, 19: -53.41423866666667}, -18.3125: {10: -59.59834981666666, 11: -49.73828582666666, 12: -50.269976316666664, 13: -52.69936139, 14: -53.69834019666667, 15: -49.865409480000004, 16: -48.82611866333334, 17: -51.16979127666667, 18: -47.184095140000004, 19: -48.590728490000004}, -18.21875: {10: -50.02405090333334, 11: -62.788013036666655, 12: -54.49921144666666, 13: -47.72229603666667, 14: -57.486218873333335, 15: -48.17666979333333, 16: -57.56547246, 17: -50.07841652, 18: -50.014932783333336, 19: -51.48280482333333}, -18.125: {10: -56.63196453333333, 11: -47.68837301, 12: -50.205316823333334, 13: -48.23004801, 14: -50.71194384, 15: -52.90037209666667, 16: -53.50850233666667, 17: -55.22837166333333, 18: -51.493619406666674, 19: -48.49747519333334}, -17.84375: {10: -52.67474949, 11: -52.32423184333334, 12: -60.25700745, 13: -53.05952807, 14: -50.15923807000001, 15: -55.05039882333333, 16: -55.28614765333333, 17: -51.301765339999996, 18: -51.07678907, 19: -45.353639816666664}, -17.75: {10: -56.76776652666667, 11: -48.04521821333333, 12: -57.64073994333334, 13: -51.80235630333333, 14: -53.338737443333336, 15: -51.13166092333333, 16: -52.44426113333333, 17: -59.32581372666667, 18: -54.69576454, 19: -46.83452645333333}, -17.65625: {10: -50.117128580000006, 11: -44.76007460333333, 12: -51.86792471333333, 13: -55.3683538, 14: -53.80336106333334, 15: -50.449554093333326, 16: -47.94800407666667, 17: -50.15923146, 18: -50.61017860333334, 19: -50.04637046666667}, -17.375: {10: -46.25079465333334, 11: -51.41942711666667, 12: -52.206229856666674, 13: -47.07384472333334, 14: -54.9806926, 15: -56.07543777000001, 16: -60.366546529999994, 17: -56.399275143333334, 18: -50.52244444666667, 19: -54.704786420000005}, -17.28125: {10: -54.395922393333336, 11: -51.04478080333333, 12: -56.45301997000001, 13: -47.39992496, 14: -48.85203467, 15: -52.60299822666667, 16: -50.686973056666666, 17: -52.19979819666667, 18: -51.998879336666675, 19: -47.52981653333333}, -17.1875: {10: -51.49773571666666, 11: -49.75849111333333, 12: -50.909538596666664, 13: -50.61649103333334, 14: -53.99907654333333, 15: -49.18925525666666, 16: -56.23033404, 17: -53.69725558333334, 18: -53.261282486666666, 19: -56.385529563333336}, -17.09375: {10: -47.41609261666667, 11: -48.328208270000005, 12: -47.557105013333334, 13: -52.28445513666666, 14: -52.864972783333336, 15: -48.73437445, 16: -47.13722668333333, 17: -49.39051598333334, 18: -54.56101720666667, 19: -50.965373940000006}, -17.0: {10: -54.71550686999999, 11: -46.812614673333336, 12: -44.943695670000004, 13: -52.261762393333335, 14: -52.848548429999994, 15: -53.75124229333333, 16: -55.18076753, 17: -50.99862855333333, 18: -52.218245413333335, 19: -46.82709308333333}, -16.90625: {10: -42.31545250666667, 11: -45.79904269333334, 12: -43.834507589999994, 13: -48.28776871, 14: -52.240207723333334, 15: -44.303817926666675, 16: -42.66733189333333, 17: -49.59912121666667, 18: -45.88537556, 19: -47.95956496}, -16.8125: {10: -41.61532924666667, 11: -34.61324188333333, 12: -43.832373993333334, 13: -40.60386198, 14: -43.79173333333333, 15: -37.43828302666667, 16: -49.22238337333334, 17: -36.42091748666667, 18: -40.44201993666667, 19: -38.3437018}, -16.71875: {10: -38.90325669333333, 11: -30.773732390000003, 12: -38.35702315333333, 13: -33.474344353333336, 14: -42.09766568333333, 15: -36.46660756333333, 16: -37.423068910000005, 17: -38.16119312666667, 18: -36.629487686666664, 19: -34.26616095}, -16.625: {10: -34.48263985, 11: -34.766388076666665, 12: -31.60455161, 13: -34.01141544, 14: -34.44851596666666, 15: -26.95577215666667, 16: -31.94419290333333, 17: -29.74213383333333, 18: -34.22703922666667, 19: -32.58149636666666}, -16.53125: {10: -29.86574794666667, 11: -33.75358937666667, 12: -34.579295833333326, 13: -29.93693157, 14: -29.33378802, 15: -30.463402209999998, 16: -32.30322210333333, 17: -31.548603099999998, 18: -31.006303066666664, 19: -26.20693715666667}, -16.4375: {10: -27.962815863333333, 11: -30.491293546666665, 12: -36.57660625333333, 13: -26.538371533333333, 14: -26.267268683333338, 15: -28.070905423333333, 16: -26.997701393333333, 17: -30.091110206666666, 18: -31.491686630000004, 19: -27.9954377}, -16.34375: {10: -27.072452276666667, 11: -27.807083993333332, 12: -25.612232539999997, 13: -36.08766587666666, 14: -27.78185557333333, 15: -29.481252703333336, 16: -29.767823036666666, 17: -31.839819626666667, 18: -37.17769836333334, 19: -25.401142143333335}, -16.25: {10: -27.60548092, 11: -30.093929823333337, 12: -24.977215246666663, 13: -25.661801306666664, 14: -28.287847463333332, 15: -26.7769749, 16: -23.186350423333334, 17: -26.81171494333334, 18: -22.87951056, 19: -25.102570813333333}, -16.15625: {10: -30.17334809333333, 11: -22.71539889666667, 12: -19.794618596666666, 13: -26.3504531, 14: -26.44703447666667, 15: -25.74747702333333, 16: -26.276919316666664, 17: -29.996618996666665, 18: -26.451066826666665, 19: -17.85175535}, -16.0625: {10: -26.08001048, 11: -26.766025279999997, 12: -33.00777735333333, 13: -24.891296846666666, 14: -25.850930536666667, 15: -25.128934943333334, 16: -26.518164029999998, 17: -29.670452823333335, 18: -28.292577986666668, 19: -20.496015286666665}, -15.96875: {10: -22.942929016666668, 11: -24.587012886666667, 12: -21.856861866666666, 13: -21.96317025, 14: -25.24822265, 15: -20.838779273333333, 16: -23.151622003333333, 17: -23.33513987666667, 18: -22.67602882666667, 19: -26.85734743333333}, -15.875: {10: -21.08440557333333, 11: -24.176506686666666, 12: -25.89732591666667, 13: -15.436548676666668, 14: -21.980865683333334, 15: -24.18828339, 16: -22.127944833333334, 17: -23.303576383333336, 18: -21.396753470000004, 19: -28.02770415333333}, -15.78125: {10: -23.293342473333336, 11: -16.09587846333333, 12: -20.82907844333333, 13: -17.47506558, 14: -31.033842673333336, 15: -22.277819923333336, 16: -29.08746239333333, 17: -19.82410189333333, 18: -17.188276896666665, 19: -22.070340623333333}, -15.6875: {10: -20.647009846666666, 11: -16.898125526666664, 12: -20.993925686666667, 13: -20.053636710000003, 14: -21.0526608, 15: -19.87418284, 16: -23.861632446666665, 17: -23.105067766666668, 18: -21.767318703333334, 19: -19.727944856666667}, -15.59375: {10: -17.764004286666665, 11: -17.83642726, 12: -19.52883643666667, 13: -18.530268116666665, 14: -20.32961702, 15: -16.501020326666666, 16: -22.172279496666665, 17: -23.214706206666666, 18: -17.780386336666666, 19: -20.130972663333335}, -15.5: {10: -20.848430946666667, 11: -32.61410003333333, 12: -25.038442136666664, 13: -26.294654160000004, 14: -31.725364746666667, 15: -14.106976753333333, 16: -23.195647873333332, 17: -22.12903020666667, 18: -16.766482988333333, 19: -19.678343416666667}, -15.40625: {10: -21.93179426, 11: -16.159357653333334, 12: -23.777859233333334, 13: -16.694796236666665, 14: -15.938329546666667, 15: -23.035551690000002, 16: -16.5827013, 17: -16.50624125, 18: -21.39608189, 19: -21.15478089666667}, -14.75: {10: -20.02033895, 11: -13.80797928, 12: -14.235732356666666, 13: -15.052584759333335, 14: -16.71569649666667, 15: -23.789782673333335, 16: -22.56638193666667, 17: -17.01584634, 18: -17.04043226, 19: -17.999467456666668}, -14.65625: {10: -17.918092626666667, 11: -11.310492934333332, 12: -17.952604483333335, 13: -15.242709333333332, 14: -16.155967793333335, 15: -21.290196836666667, 16: -15.522491363333335, 17: -12.997551136666667, 18: -14.460493853333332, 19: -14.419297616666668}, -14.46875: {10: -16.303125213333335, 11: -17.050119773333336, 12: -12.219310266666668, 13: -16.946799527333333, 14: -14.273172196666666, 15: -15.159841769000002, 16: -17.07938727, 17: -18.667955516666666, 18: -19.04293377666667, 19: -22.423104354000003}, -14.375: {10: -12.138044001666666, 11: -16.16991371, 12: -14.52066587, 13: -20.565564698333333, 14: -14.63932223, 15: -15.401516846666667, 16: -16.798288036666666, 17: -17.97766278, 18: -14.297708013333335, 19: -12.914869669333333}, -14.28125: {10: -18.01901282333333, 11: -13.09808385, 12: -17.54010596666667, 13: -12.620905279666665, 14: -22.891211600000002, 15: -16.967345456666667, 16: -15.908777776666668, 17: -17.835705433333334, 18: -16.045164139999997, 19: -17.432575306666667}, -14.09375: {10: -17.477200406666668, 11: -10.159740417333333, 12: -16.423647879, 13: -17.711586123333333, 14: -15.512694235666666, 15: -15.011502923333333, 16: -16.793889396666668, 17: -16.69282889666667, 18: -14.537018186666666, 19: -23.527293179999997}, -14.0: {10: -16.636193199999997, 11: -16.592012673333333, 12: -16.57062585, 13: -11.527156854, 14: -14.541101071, 15: -15.103145826666667, 16: -15.132695633333332, 17: -9.130201385333335, 18: -11.881502416666665, 19: -21.00716602}, -13.90625: {10: -14.20982502666667, 11: -9.632489945000001, 12: -17.665170946666667, 13: -15.65125972, 14: -15.350630786666665, 15: -9.592537937, 16: -15.664855183333335, 17: -16.718495496666666, 18: -13.39765963, 19: -13.553947869666667}, -13.8125: {10: -17.371005616999998, 11: -11.488481633666668, 12: -13.480076250333333, 13: -13.429376574, 14: -19.91065979, 15: -11.99799848, 16: -17.553487486666665, 17: -15.292567270000001, 18: -19.637290619999998, 19: -13.181460038666666}, -13.71875: {10: -16.8267626, 11: -20.09205842333333, 12: -15.260959058000003, 13: -16.34994044, 14: -13.208385081333333, 15: -15.182917850333334, 16: -14.101752348666665, 17: -15.014848996666666, 18: -14.839318890000001, 19: -18.308580093333333}, -13.53125: {10: -16.156314316666666, 11: -14.657953593333334, 12: -13.563673758999998, 13: -14.353894563333334, 14: -17.303459803333336, 15: -18.349705453333332, 16: -14.702993623333333, 17: -9.237040566, 18: -10.669376740333334, 19: -18.246062653333336}, -13.4375: {10: -12.290647769666665, 11: -15.355969143333335, 12: -10.473458300999999, 13: -9.497490221, 14: -22.44634743, 15: -12.692695086, 16: -12.084189767, 17: -13.680532163666669, 18: -21.86096026, 19: -17.20251309}, -13.34375: {10: -13.905999786666667, 11: -14.177576993333334, 12: -14.384676606999998, 13: -12.503623716, 14: -15.262749, 15: -15.123647640000002, 16: -16.105308070000003, 17: -19.512616646666668, 18: -15.300184670999998, 19: -12.247230198000002}, -13.25: {10: -15.244826563333334, 11: -15.036826363000001, 12: -16.41751938666667, 13: -8.376074294, 14: -22.364582506666665, 15: -16.46623655666667, 16: -18.24308493, 17: -16.68917361, 18: -11.147111962666665, 19: -12.243965479000002}, -13.15625: {10: -14.034438066666667, 11: -17.688185494, 12: -10.659170639000001, 13: -10.902755636666667, 14: -15.299382836666666, 15: -16.91728047533333, 16: -12.507148043333332, 17: -13.563656666666668, 18: -20.184170923333333, 19: -14.511550776666667}, -13.0625: {10: -17.84608786, 11: -9.845247192666667, 12: -11.997173425333335, 13: -19.431639845333333, 14: -13.717967904333335, 15: -15.653463619999998, 16: -14.182170711333333, 17: -13.412814933333332, 18: -11.784279222, 19: -20.01052123}, -12.96875: {10: -15.246069893333335, 11: -21.484749926666666, 12: -12.320454416666669, 13: -7.464895562333333, 14: -11.905421296666667, 15: -12.868848489000001, 16: -19.831933903333333, 17: -18.53565218, 18: -14.934107938666665, 19: -11.072676267666667}, -12.875: {10: -14.925559886666667, 11: -10.73428231, 12: -10.781568192333333, 13: -14.830207825333332, 14: -15.260762126666664, 15: -14.12370733, 16: -14.789822299999999, 17: -24.53705164666667, 18: -10.950685037666666, 19: -12.823389302}, -12.78125: {10: -19.16828031, 11: -15.026594979999999, 12: -10.677822237333332, 13: -17.83454310233333, 14: -12.768189468333333, 15: -10.712067214666668, 16: -24.07456781333333, 17: -12.876419741666666, 18: -16.73587375, 19: -15.537881657999998}, -12.40625: {10: -14.262044603333331, 11: -13.301794426666666, 12: -14.357185720000002, 13: -12.785037723666667, 14: -21.866700466666668, 15: -10.005391465, 16: -15.719168556666668, 17: -9.539597976000001, 18: -14.485503813333333, 19: -8.491722553}, -12.3125: {10: -16.30980587666667, 11: -11.605543587999998, 12: -14.298337353666668, 13: -10.123789297333333, 14: -15.206376436666668, 15: -11.921314839333334, 16: -18.084797106666667, 17: -11.985901607999999, 18: -13.606335449999998, 19: -15.477464423666667}, -12.125: {10: -14.838200825333331, 11: -14.852431043333333, 12: -15.239443596666666, 13: -6.608535430333333, 14: -14.838289584333333, 15: -13.220884766666666, 16: -17.588595648333335, 17: -10.286165718666666, 18: -11.059136879333332, 19: -11.692611724666667}, -12.03125: {10: -18.020326816666664, 11: -12.755787952666665, 12: -14.280709889999999, 13: -10.010848845666667, 14: -13.282357916, 15: -15.838175866666665, 16: -17.12924633333333, 17: -14.62404788, 18: -12.622265976, 19: -10.749150803333334}, -11.9375: {10: -19.378588526666665, 11: -6.8697385120000005, 12: -16.682927052, 13: -10.256377838333334, 14: -20.784811066666666, 15: -10.027090304, 16: -11.820405767666665, 17: -18.456956857333335, 18: -15.877475303333334, 19: -11.422982148000001}, -11.84375: {10: -14.834541773333333, 11: -14.142930944999998, 12: -11.137690400000002, 13: -11.668297963666665, 14: -13.019871010000001, 15: -9.490102281, 16: -10.367632596333333, 17: -15.758195147666669, 18: -18.187688530666666, 19: -13.033301917333333}, -11.75: {10: -13.423723726666665, 11: -12.150345435666665, 12: -11.600994211999998, 13: -12.707762678333333, 14: -16.861763437666667, 15: -12.857998969666667, 16: -15.17072764, 17: -16.465827450000003, 18: -8.578695087, 19: -14.793849706333335}, -11.65625: {10: -16.48145783, 11: -8.599028605666666, 12: -10.566911386000001, 13: -21.561441156666664, 14: -11.622991092, 15: -8.221297346999998, 16: -18.790991639999998, 17: -8.250886884666667, 18: -14.337352256666668, 19: -9.059776592333334}, -11.5625: {10: -16.40042473, 11: -13.887503680999998, 12: -14.109283499666667, 13: -8.444170828333332, 14: -10.022719938666667, 15: -9.796901043333333, 16: -21.640751176666665, 17: -12.114987724333334, 18: -6.9930236463333335, 19: -8.103145797333333}, -11.46875: {10: -15.783724383333334, 11: -10.680601410000001, 12: -6.265346778666667, 13: -12.588002600333333, 14: -14.366119036666666, 15: -10.595612075, 16: -10.713974927666667, 17: -12.511806809, 18: -15.985888373333333, 19: -9.405829765666665}, -11.375: {10: -10.415822100666666, 11: -12.724001901666668, 12: -17.44932607666667, 13: -12.952038816666667, 14: -12.998643361, 15: -9.541220073666667, 16: -9.220362688666667, 17: -6.855693113, 18: -18.315152246666667, 19: -7.575996750000001}, -11.28125: {10: -16.76748779, 11: -9.001637621666667, 12: -16.296499136666668, 13: -10.186878937333335, 14: -14.192011839333333, 15: -10.437965752666665, 16: -16.274645036666666, 17: -15.382397333666667, 18: -10.260648274333333, 19: -12.229038564333331}, -11.1875: {10: -11.543523153999999, 11: -10.584215284333332, 12: -13.302257626666666, 13: -9.783971123666667, 14: -12.20011935, 15: -11.032839768333332, 16: -16.25039045833333, 17: -17.151439059333335, 18: -11.440526876000002, 19: -13.249344899999999}, -11.09375: {10: -15.806748000333334, 11: -10.281536296666667, 12: -9.400383022333331, 13: -9.465242334333334, 14: -12.419459143333333, 15: -13.996947993333334, 16: -21.070512273333332, 17: -7.986748019, 18: -16.933250714, 19: -10.713889278666668}, -11.0: {10: -15.147381324, 11: -16.35299876666667, 12: -8.694032150333333, 13: -12.397506703333333, 14: -11.184283126333334, 15: -20.919126206, 16: -9.216346192000001, 17: -13.349812786000001, 18: -9.084710633666667, 19: -16.300726516666668}, -10.90625: {10: -15.881811206666669, 11: -12.602253924333333, 12: -9.444479992, 13: -20.824295527, 14: -13.238310559, 15: -10.532918085, 16: -12.779604010666667, 17: -9.323435076333334, 18: -15.403150781999999, 19: -11.056537380666667}, -10.8125: {10: -9.861774472, 11: -7.331597774333333, 12: -13.389155443333332, 13: -5.066238964666668, 14: -11.811695396, 15: -14.788246526, 16: -12.610823149, 17: -11.313905422666666, 18: -9.990388881, 19: -7.078414007999999}, -10.71875: {10: -17.014369400666666, 11: -17.092128303666666, 12: -10.044407049, 13: -6.675964718333333, 14: -16.82439651, 15: -12.956799187333333, 16: -18.351934710000002, 17: -11.265633391666666, 18: -9.935461689666667, 19: -11.778301424333334}, -10.625: {10: -8.010717727333335, 11: -16.094429101666666, 12: -8.993437925666667, 13: -14.413011826666667, 14: -16.625787196666668, 15: -13.356750557666667, 16: -8.172773054, 17: -13.420543275333335, 18: -6.797178004, 19: -14.076847920666667}, -10.53125: {10: -12.254175806000001, 11: -11.708316839666667, 12: -11.406673953, 13: -11.590899362666667, 14: -12.01444952, 15: -11.554293535333334, 16: -12.859682026666666, 17: -12.245640702666668, 18: -12.491318082666666, 19: -8.604702944333333}, -10.4375: {10: -6.575132401333332, 11: -15.066569993333333, 12: -13.561780387666666, 13: -8.110147188666666, 14: -9.592919768666667, 15: -11.186113843666666, 16: -15.570775742666667, 17: -6.997851202, 18: -10.309304000333334, 19: -6.534898340999999}, -10.34375: {10: -11.781708572666666, 11: -9.892335401, 12: -9.181992001, 13: -14.682699024, 14: -13.225984068666667, 15: -8.883548563666666, 16: -8.432323827333333, 17: -9.505955949666665, 18: -14.858908181666669, 19: -20.15697398}, -10.25: {10: -23.758209626666666, 11: -6.162094540000001, 12: -8.624697015666667, 13: -7.755801005666666, 14: -19.885707586666665, 15: -9.715792867333333, 16: -14.58940774, 17: -13.1263735, 18: -12.640534103, 19: -9.246715831000001}, -10.15625: {10: -15.48849195666667, 11: -14.990056256666668, 12: -5.634364865999999, 13: -10.193256098666668, 14: -17.265681626666666, 15: -10.486242984333332, 16: -10.180763417333333, 17: -6.242851352333333, 18: -7.680687814333335, 19: -12.897116671000001}, -10.0625: {10: -14.590776945, 11: -10.229472587333333, 12: -15.079651049, 13: -8.493346991333333, 14: -10.595072654666666, 15: -13.415111341, 16: -16.932294756666664, 17: -14.978081576666668, 18: -8.005483544333332, 19: -12.54523393}, -9.96875: {10: -12.146374706333333, 11: -10.030710341333334, 12: -7.764407754333334, 13: -11.654171698999997, 14: -17.67098259333333, 15: -12.143333834666665, 16: -18.60787175, 17: -12.758884746333335, 18: -9.443465387333333, 19: -10.087597459666666}, -9.875: {10: -10.835845593666667, 11: -10.996238920333335, 12: -15.893823485666665, 13: -9.312108064333334, 14: -10.117096802, 15: -8.788614782666667, 16: -19.063060566666667, 17: -11.891448839333336, 18: -13.706267058, 19: -10.481255121333334}, -9.78125: {10: -8.248595772, 11: -9.899356841333333, 12: -14.096202420000003, 13: -9.862578156, 14: -12.098374843666667, 15: -8.234443675666666, 16: -14.287026600333334, 17: -17.88578826, 18: -15.100594558333334, 19: -6.351655490333333}, -9.6875: {10: -10.410290084333333, 11: -11.148930938333335, 12: -11.82963906, 13: -21.91958783, 14: -11.770274163666668, 15: -15.11499411, 16: -16.733876636, 17: -8.818613270333335, 18: -12.202921795666667, 19: -12.8527793068}, -9.59375: {10: -19.20296743333333, 11: -13.365884999333332, 12: -9.409194779333333, 13: -11.04516893133333, 14: -12.659778083, 15: -9.826325046333332, 16: -10.947486830666668, 17: -8.218131671333333, 18: -17.687857346666664, 19: -6.007223402666667}, -9.5: {10: -13.836708918, 11: -7.864606595333334, 12: -5.315753578333333, 13: -14.663666336666667, 14: -13.491643082000001, 15: -5.870219941000001, 16: -14.092799243999998, 17: -15.785104996666666, 18: -12.515075148333333, 19: -10.090048057333334}, -9.40625: {10: -10.721645217999999, 11: -11.022445310333334, 12: -14.020510162333332, 13: -9.482909516, 14: -10.527326013, 15: -9.254750333999999, 16: -10.025356861666667, 17: -8.550709739333334, 18: -8.820186979666667, 19: -10.781139398999999}, -9.3125: {10: -15.722608925666668, 11: -9.680653704, 12: -8.852759459666666, 13: -17.769608316666666, 14: -15.871498867666668, 15: -7.047079383666666, 16: -9.194047854666666, 17: -15.501977483333334, 18: -12.147294655333333, 19: -11.265009725333334}, -9.21875: {10: -11.156802838333334, 11: -6.270619852666666, 12: -16.271484356666665, 13: -8.874477529, 14: -11.092442710666667, 15: -12.763790787, 16: -9.117740164999999, 17: -13.419034674333332, 18: -6.913296248666666, 19: -9.395533598}, -9.125: {10: -14.391285993333334, 11: -9.133476439666667, 12: -7.011997284333333, 13: -11.015582340999998, 14: -16.744085681666665, 15: -10.382019627, 16: -13.200109168333332, 17: -11.918585680333331, 18: -13.127991543999999, 19: -14.350430487333334}, -9.03125: {10: -15.346832078333334, 11: -8.773212923333332, 12: -8.180257893333334, 13: -15.15469754, 14: -19.77004454333333, 15: -10.347215840666665, 16: -10.921619976, 17: -24.406584726666665, 18: -6.879828556333333, 19: -8.926617796666667}, -8.9375: {10: -13.887861209999999, 11: -12.246885183333333, 12: -15.145954436666665, 13: -10.539434991333332, 14: -9.071995889333333, 15: -11.80872831, 16: -13.37831215, 17: -14.620308463333332, 18: -11.299509413333332, 19: -9.283553660333332}, -8.84375: {10: -16.727081206666668, 11: -8.080837342333334, 12: -13.914287885, 13: -8.573378235666667, 14: -11.457883786666665, 15: -9.61756357, 16: -9.663987383333334, 17: -14.373731156666667, 18: -14.653459350666665, 19: -14.232894210000003}, -8.75: {10: -7.479047329666667, 11: -13.525229753666666, 12: -13.964205222000002, 13: -11.135279143333333, 14: -10.320704930333333, 15: -13.795840226666668, 16: -13.590141074000002, 17: -15.603270058, 18: -14.178231938000001, 19: -13.234870237333334}, -8.46875: {10: -11.721284702333334, 11: -16.883461554333334, 12: -20.656825873666666, 13: -14.948717299666667, 14: -16.930160720333333, 15: -9.614242450333334, 16: -9.566703333666666, 17: -13.390595657, 18: -15.014344323333333, 19: -11.768060880666667}, -8.375: {10: -13.936613683333334, 11: -7.927294845666666, 12: -13.839245123333333, 13: -6.050960402666667, 14: -19.044838926666667, 15: -14.053634703, 16: -13.936044726666665, 17: -6.065502449333334, 18: -10.931642673333334, 19: -14.784086783333334}, -8.28125: {10: -19.905510140999997, 11: -9.100021801666665, 12: -6.7380994439999995, 13: -14.328714536666668, 14: -7.633309435000001, 15: -16.347102771333333, 16: -10.799525613, 17: -6.618550968666667, 18: -12.650080683, 19: -10.246984531666667}, -8.1875: {10: -11.758175075000002, 11: -13.732234105000002, 12: -7.29466054, 13: -10.604532163, 14: -11.745775842999999, 15: -10.262942211, 16: -10.494950566333333, 17: -8.286600819999999, 18: -8.637552327, 19: -12.168257879333334}, -8.09375: {10: -11.857401448, 11: -6.932595159333334, 12: -7.951083378, 13: -13.401810136666667, 14: -9.125888018333335, 15: -10.974033876333332, 16: -13.483969128333333, 17: -12.368455792666666, 18: -8.873703638333334, 19: -10.761868727}, -8.0: {10: -11.816092164666665, 11: -8.045243482, 12: -17.051666926666666, 13: -8.058066636666666, 14: -11.366784934333333, 15: -9.841091314666665, 16: -17.532508030000002, 17: -9.017850163, 18: -16.56474813, 19: -7.965265238333333}, -7.90625: {10: -13.54665248, 11: -17.215829429333333, 12: -10.946976323333333, 13: -12.467535314666668, 14: -13.605879947, 15: -5.819762944333333, 16: -14.75890956, 17: -13.759135373333335, 18: -9.117291838333333, 19: -12.027413222333331}, -7.8125: {10: -10.600707938666666, 11: -16.006231636666666, 12: -9.682094659, 13: -6.6656043983333335, 14: -11.997860652666667, 15: -8.090182030666666, 16: -13.413720923333331, 17: -11.56540929, 18: -7.770088456333333, 19: -11.117229566333334}, -7.71875: {10: -9.962185458, 11: -10.779805654, 12: -12.38018089, 13: -7.88206878, 14: -12.632381270333333, 15: -10.005955673999999, 16: -10.778405358, 17: -10.062897917333332, 18: -14.428043623333332, 19: -9.547584681000002}, -7.625: {10: -14.014166385333333, 11: -8.271965709333333, 12: -20.165118923333335, 13: -10.970416220999999, 14: -10.807218766333333, 15: -11.837158677666666, 16: -18.042811776666667, 17: -14.398330916666666, 18: -5.917511524333334, 19: -9.045442452333333}, -7.53125: {10: -16.63863039, 11: -12.040603951999998, 12: -12.771866934333332, 13: -15.48775552, 14: -17.776744585666666, 15: -9.021358854333334, 16: -9.369376649333333, 17: -9.036650809666666, 18: -6.435370995333334, 19: -13.350428938333335}, -7.4375: {10: -13.917071709666667, 11: -9.825933338666667, 12: -12.691336729333335, 13: -10.028135962333332, 14: -7.058254896666667, 15: -5.2866198466666665, 16: -16.07180808933333, 17: -10.527430553333334, 18: -16.740404892, 19: -18.312913799666664}, -7.34375: {10: -13.427600903333333, 11: -10.684483018333333, 12: -8.514822824333335, 13: -12.263531893000001, 14: -16.756078093333333, 15: -15.554733995333335, 16: -11.910911962, 17: -12.551390356666667, 18: -8.781157946666665, 19: -9.177346575333333}, -7.25: {10: -9.580188404, 11: -8.159002508666665, 12: -6.8037053903333335, 13: -12.148823587666667, 14: -11.005758978333333, 15: -12.254079842333335, 16: -12.688988134333334, 17: -10.443297055, 18: -11.934670684666665, 19: -8.204933510666667}, -7.15625: {10: -11.240121792333333, 11: -13.179157616666666, 12: -10.041451665999999, 13: -11.667622899333333, 14: -12.422022876666666, 15: -6.579539259333334, 16: -13.366359336666667, 17: -10.525780148333332, 18: -14.230555036666667, 19: -12.326786276666667}, -7.0625: {10: -13.927053447333334, 11: -7.732075092, 12: -18.377976141333335, 13: -8.437954343, 14: -10.699631881666667, 15: -15.84804637, 16: -8.454729258999999, 17: -17.32892860666667, 18: -12.843159616, 19: -10.032652117}, -6.96875: {10: -9.618915919, 11: -8.653638505666667, 12: -12.711678358666667, 13: -8.066548799666668, 14: -12.449611928333333, 15: -12.067118424333335, 16: -17.966621086666667, 17: -10.544540324666666, 18: -10.20792453, 19: -5.895305882333333}, -6.875: {10: -13.995650428, 11: -11.817718161666667, 12: -7.312051514, 13: -10.657195822333334, 14: -9.462591455666667, 15: -8.552221058, 16: -11.582744710666665, 17: -12.106365691666667, 18: -8.595300003333334, 19: -12.582119114333333}, -6.5: {10: -13.752768534666666, 11: -8.045457392666668, 12: -12.535096206666665, 13: -12.130462048333333, 14: -12.351114154666666, 15: -7.667508383333334, 16: -9.164908742, 17: -8.68000397, 18: -14.253011543333335, 19: -7.795022733333333}, -6.40625: {10: -7.8117404383333335, 11: -9.883038340333334, 12: -7.485937123, 13: -10.525166246, 14: -12.009106607333335, 15: -13.132202430666666, 16: -12.338065586666668, 17: -9.207752021, 18: -13.541232211333332, 19: -10.87619128}, -6.3125: {10: -12.397048286333332, 11: -8.368800596666667, 12: -18.638274773333332, 13: -18.318424426666667, 14: -11.352339946999999, 15: -12.975938131333331, 16: -14.870746307, 17: -6.814849767999999, 18: -14.674623516666665, 19: -16.418672966666666}, -6.21875: {10: -13.603585566666666, 11: -9.551059917333333, 12: -13.153842808999999, 13: -9.115823916, 14: -9.914283071666665, 15: -12.826861700666667, 16: -16.264541949999998, 17: -11.271195504666666, 18: -16.660524671333334, 19: -9.581565004333333}, -6.125: {10: -15.21359115, 11: -6.652753718333334, 12: -12.502871666666666, 13: -7.274025237333333, 14: -14.730970273333334, 15: -10.714941888, 16: -12.658350778999997, 17: -13.597366870000002, 18: -9.41748589, 19: -6.536303626}, -6.03125: {10: -8.785601359666666, 11: -10.391200161666667, 12: -11.575949485, 13: -4.896564278333334, 14: -9.394722651, 15: -13.989948878666667, 16: -11.579300350666665, 17: -8.629324645, 18: -10.712817558666666, 19: -4.754447558333333}, -5.9375: {10: -10.813199685, 11: -10.133439102, 12: -11.561666248333333, 13: -15.385815606666666, 14: -7.931058229666667, 15: -9.67310382, 16: -15.490517400333331, 17: -13.574464676, 18: -7.789071641333333, 19: -10.035359413666667}, -5.84375: {10: -13.454026615666669, 11: -9.672896559, 12: -6.316106768666667, 13: -15.784078925000001, 14: -15.026767608333332, 15: -7.1844437889999995, 16: -10.538350599666666, 17: -11.020730919333332, 18: -10.874421454, 19: -9.141991282666666}, -5.75: {10: -6.972124530666666, 11: -7.660979195, 12: -6.054566036333334, 13: -7.671781929333332, 14: -9.456397607666666, 15: -6.527771186666667, 16: -14.086646286666666, 17: -9.759929200666667, 18: -19.82103409333333, 19: -7.216429622333333}, -5.65625: {10: -18.300063888, 11: -5.189094263, 12: -7.4736937936666665, 13: -6.508870426333334, 14: -11.292517137666666, 15: -10.860686891, 16: -9.866243574666667, 17: -13.163005987, 18: -10.75398832, 19: -13.778208205333334}, -5.5625: {10: -10.506088983666666, 11: -9.312964282000001, 12: -16.21788106, 13: -11.714844082333334, 14: -16.25056836, 15: -6.9737197239999995, 16: -13.39017003, 17: -18.131875893333333, 18: -10.982852358666667, 19: -11.406819857666667}, -5.46875: {10: -8.759726552333333, 11: -10.682358831333332, 12: -7.09807288, 13: -9.386870086333333, 14: -15.52630842, 15: -16.056250574666667, 16: -14.467666826666665, 17: -15.529475463333334, 18: -20.576520423333335, 19: -5.2619936266666665}, -5.375: {10: -8.626291428, 11: -10.913583513333334, 12: -8.729073023, 13: -8.757132645, 14: -13.422130908, 15: -10.535257670666667, 16: -13.936397013999999, 17: -12.884688089666668, 18: -4.49586198, 19: -7.785336099333333}, -5.28125: {10: -11.071292399666667, 11: -14.043667540000001, 12: -8.263822228333334, 13: -14.694324620666668, 14: -12.747037668333334, 15: -10.134245384, 16: -9.81500847, 17: -8.922343422666666, 18: -16.888266159999997, 19: -14.726373709999999}, -5.1875: {10: -12.497321898000001, 11: -5.854367148999999, 12: -9.512637208333333, 13: -8.879825266666666, 14: -9.414523086333334, 15: -11.78145407, 16: -13.535409695666667, 17: -7.352104346, 18: -7.412419322333334, 19: -12.051681231000002}, -5.09375: {10: -9.097722814, 11: -8.249096389333333, 12: -12.660278145666666, 13: -8.979490895666666, 14: -17.18022166, 15: -10.174699776999999, 16: -11.533137456333334, 17: -10.014011863333334, 18: -19.62285683, 19: -7.577173776333333}, -5.0: {10: -17.426605273333333, 11: -6.130502201666666, 12: -13.219705781, 13: -9.080680048666666, 14: -14.607811369999999, 15: -5.005914140333333, 16: -12.871400495666665, 17: -13.919112165666666, 18: -10.633623247333333, 19: -14.163130684}, -4.34375: {10: -10.832019998, 11: -13.176687963000001, 12: -12.442043483333334, 13: -12.988819496333333, 14: -9.693814115, 15: -10.991687954333335, 16: -9.363666651, 17: -10.278154791333334, 18: -9.927804854, 19: -15.128081759333334}, -4.25: {10: -9.128015202666667, 11: -10.535123343266667, 12: -10.97935385, 13: -16.400073936666665, 14: -6.977653952333333, 15: -21.653244060000002, 16: -17.937418516666668, 17: -13.458629196666669, 18: -13.863667453666666, 19: -9.413568508}, -4.15625: {10: -24.330250733333333, 11: -13.037661172333335, 12: -5.738124684333333, 13: -11.375784514666668, 14: -16.010992669999997, 15: -7.582779937666666, 16: -11.730391354333335, 17: -9.257875272333333, 18: -16.058333566666665, 19: -9.537752184333334}, -4.0625: {10: -13.625552015000002, 11: -9.199251269333333, 12: -9.891524142333333, 13: -6.330773245333333, 14: -7.648678318666668, 15: -12.471686985, 16: -10.923852302333335, 17: -9.069073021666668, 18: -11.651943525666667, 19: -10.003740071333333}, -3.96875: {10: -9.333246717333333, 11: -13.734697052333333, 12: -11.699210938333332, 13: -13.625153281333333, 14: -8.299117133333333, 15: -7.679781065999999, 16: -10.169535907, 17: -11.017275668666665, 18: -14.829072665999997, 19: -16.409496290333333}, -3.875: {10: -7.1516472213333335, 11: -8.741892022666667, 12: -5.024578541666667, 13: -11.828788566666667, 14: -10.854592218999999, 15: -9.991104024, 16: -16.66079812, 17: -8.584502406666667, 18: -9.877998169333333, 19: -14.751888763333334}, -3.78125: {10: -12.335917838333335, 11: -14.2690396, 12: -17.830806596666665, 13: -8.918752442666666, 14: -13.54714613, 15: -12.53383159, 16: -13.322866943333333, 17: -7.980567085666667, 18: -10.285382557666667, 19: -6.810779583333333}, -3.6875: {10: -16.867869055333333, 11: -8.655074658999999, 12: -11.729464873333333, 13: -9.591898760333335, 14: -21.21125863, 15: -9.177417119, 16: -14.176826491333335, 17: -11.074020003666666, 18: -10.193647429666667, 19: -12.575227786666666}, -3.59375: {10: -7.676394316, 11: -9.870309517666668, 12: -8.459000079, 13: -9.598527186, 14: -9.695728329666666, 15: -15.534403333333335, 16: -22.163338866666667, 17: -14.093786380666666, 18: -11.255464987666668, 19: -5.754555903666667}, -3.5: {10: -9.785891442, 11: -8.498055293666667, 12: -13.527673684333335, 13: -9.318107337999999, 14: -16.4562304, 15: -12.617575722666666, 16: -11.065975045999998, 17: -12.69725096, 18: -13.775766840000001, 19: -8.247631193333333}, -3.40625: {10: -12.74811533, 11: -18.954283936666666, 12: -13.716572400333334, 13: -9.921380803, 14: -8.670717133333333, 15: -9.354483436666667, 16: -16.119876407000003, 17: -9.742698374, 18: -11.137408104333332, 19: -6.5352144873333335}, -3.3125: {10: -10.307886848, 11: -7.767258540666667, 12: -20.307648143333335, 13: -7.410882815333333, 14: -15.486341672666669, 15: -11.312552757666666, 16: -12.288512703333334, 17: -9.693428695, 18: -11.553051754, 19: -12.875301281666667}, -3.21875: {10: -17.779181886666667, 11: -13.96089278, 12: -14.284893259999999, 13: -15.527630623333332, 14: -19.595573226666666, 15: -12.822783386666666, 16: -13.374654056666666, 17: -17.514831766666667, 18: -21.145414103333334, 19: -6.277339663999999}, -3.125: {10: -13.948164076666666, 11: -11.310217428333331, 12: -8.539645487, 13: -16.099670537999998, 14: -8.217807441666666, 15: -8.84383246, 16: -14.296799586666666, 17: -13.972395679, 18: -14.079406053333335, 19: -7.307997032}, -2.84375: {10: -14.159714739999998, 11: -11.023424926666666, 12: -10.407607723333333, 13: -8.939658598333333, 14: -12.752874753333336, 15: -8.791273818666667, 16: -9.376832531666667, 17: -8.337851382666665, 18: -17.03105641, 19: -8.457443919}, -2.75: {10: -9.459152972333333, 11: -10.767965617666666, 12: -17.900049103333334, 13: -7.187870959333334, 14: -11.844187432333333, 15: -6.740105212333333, 16: -17.175673686666666, 17: -10.554934874333332, 18: -19.001612336666668, 19: -8.789758456}, -2.65625: {10: -15.834229989333332, 11: -10.585618482333333, 12: -9.798471590666667, 13: -6.384661290333334, 14: -14.745916924, 15: -18.027070073333334, 16: -11.246360114, 17: -10.370952141000002, 18: -16.38878332333333, 19: -6.251951963}, -2.5625: {10: -17.589530523333334, 11: -10.195344171, 12: -9.711727183333332, 13: -8.743695930333333, 14: -10.958948064666666, 15: -8.387702649, 16: -14.586311743666664, 17: -18.907330146666666, 18: -12.72344084, 19: -10.050263829}, -2.46875: {10: -8.567952709666667, 11: -8.570349282666667, 12: -10.951397427333333, 13: -9.353058915666667, 14: -9.280472641, 15: -8.536851466, 16: -10.077462601666667, 17: -10.249795378666667, 18: -9.35485791, 19: -8.295065958666667}, -2.375: {10: -21.34522731, 11: -9.139439463, 12: -14.217557804333333, 13: -9.068499889333333, 14: -17.85771842333333, 15: -13.588261693333331, 16: -9.010155621666668, 17: -11.173642985666666, 18: -9.850265265666666, 19: -4.716835296133333}, -2.28125: {10: -9.495396881, 11: -11.186714781333334, 12: -21.417827943333332, 13: -11.715873471999998, 14: -11.258574272333334, 15: -14.512538094, 16: -9.847719808999999, 17: -12.723313702666667, 18: -22.113188570000002, 19: -12.219537596}, -2.1875: {10: -12.623801256666667, 11: -11.984438879999999, 12: -8.930745692666667, 13: -12.182010934666666, 14: -12.105801817999998, 15: -13.287978123333334, 16: -10.134214310333332, 17: -11.068577784333334, 18: -9.159692645333335, 19: -16.571003138333335}, -2.09375: {10: -8.271795517333333, 11: -7.6735354330000005, 12: -7.9999924600000005, 13: -6.408017470333333, 14: -9.947517595333332, 15: -6.113947642333334, 16: -11.137007450666667, 17: -12.273765075333335, 18: -11.192564225333333, 19: -18.934489356666667}, -2.0: {10: -13.089535605999998, 11: -10.360361673666667, 12: -16.507896124000002, 13: -16.107802606666667, 14: -10.979593667000001, 15: -9.688288011, 16: -16.312364513333335, 17: -11.758573607333332, 18: -9.938904043333332, 19: -9.370641636666667}, -1.90625: {10: -11.162933638666667, 11: -8.737452269, 12: -11.815067734666668, 13: -9.054182969000001, 14: -12.962796002333334, 15: -9.545537867, 16: -13.242048470333332, 17: -7.992463627666666, 18: -5.474151317333333, 19: -10.977458843666668}, -1.8125: {10: -13.104713720333331, 11: -6.995016633666666, 12: -13.550878703333334, 13: -5.666089717999999, 14: -8.520638505333332, 15: -14.108097303333333, 16: -11.164096296666665, 17: -10.763229398999998, 18: -6.693001536666666, 19: -17.359666287}, -1.71875: {10: -9.884690947333333, 11: -12.586221598333333, 12: -11.287485496333334, 13: -7.780470651666666, 14: -14.199141918999999, 15: -9.466961205666667, 16: -14.056292076666665, 17: -7.385242975333334, 18: -13.909865544333334, 19: -7.925797835333334}, -1.625: {10: -11.591860902666667, 11: -4.267510688333333, 12: -9.199242023333335, 13: -11.769063286666666, 14: -9.584742712333332, 15: -8.669779708666667, 16: -14.114544914, 17: -11.675748715333333, 18: -7.752549233, 19: -11.706993799666668}, -1.53125: {10: -11.078406875333334, 11: -8.887599825666667, 12: -10.334709325333334, 13: -6.198932898, 14: -6.056657050333333, 15: -11.472121257, 16: -10.644721376, 17: -11.277237887666667, 18: -14.246774463666666, 19: -7.114102363000001}, -1.4375: {10: -13.011525999666667, 11: -24.35595765233333, 12: -9.291265667, 13: -10.708902612666668, 14: -16.044509833666666, 15: -10.656259817333334, 16: -16.48595000666667, 17: -7.886169575666666, 18: -11.145374573, 19: -12.752777773333333}, -1.34375: {10: -22.78831963, 11: -13.318597690666666, 12: -7.735676768666667, 13: -6.425650391333332, 14: -11.991406573333334, 15: -11.025574153333332, 16: -8.767259676333333, 17: -12.646053995333334, 18: -15.573197846666666, 19: -6.421756097333333}, -1.25: {10: -14.80359218, 11: -7.879309525, 12: -10.820839884, 13: -12.355938243333332, 14: -10.638252251666668, 15: -9.095777187, 16: -11.572608435, 17: -5.638581207333334, 18: -7.053233050366667, 19: -10.270675182}, -1.15625: {10: -13.124516110666667, 11: -14.630212896666668, 12: -19.80121161, 13: -7.310855556666667, 14: -8.790393866666667, 15: -10.807058525666667, 16: -9.782578769666667, 17: -13.253769893333335, 18: -13.006206402666669, 19: -10.319302112}, -1.0625: {10: -13.064955142333334, 11: -9.678196800666667, 12: -16.257725946666667, 13: -12.777551983333334, 14: -14.447070216333335, 15: -9.013090067999999, 16: -12.635099081333331, 17: -11.502974666666667, 18: -13.29587336, 19: -7.5724473880000005}, -0.96875: {10: -19.878310026666668, 11: -10.306654293, 12: -6.087445237333333, 13: -20.225135442333336, 14: -7.491302688, 15: -16.06171308733333, 16: -9.402970054666666, 17: -9.785302373333332, 18: -9.427219798333333, 19: -7.642799807666666}, -0.875: {10: -14.092948920333335, 11: -11.037744781999999, 12: -16.220887938333334, 13: -8.817696288, 14: -14.676820056666665, 15: -14.092355733333333, 16: -12.374378638333333, 17: -7.492863963666667, 18: -7.518904627, 19: -6.911381547999999}, -0.78125: {10: -14.774572713333335, 11: -13.509072381666668, 12: -12.21168806, 13: -16.346858609666665, 14: -10.513413006999999, 15: -5.251079689333333, 16: -12.847589997999998, 17: -10.441768605, 18: -10.461342284666665, 19: -8.596809100666666}, -0.40625: {10: -12.456315696666666, 11: -7.737781403999999, 12: -15.967934999999999, 13: -14.087442876666666, 14: -18.223181159666666, 15: -12.147486959333333, 16: -13.018388494999998, 17: -10.827106714666668, 18: -5.024252496, 19: -9.896669480999998}, -0.3125: {10: -12.400203890999999, 11: -14.452395938, 12: -11.735136685333332, 13: -9.289306364333333, 14: -7.372108732000001, 15: -9.426830573666665, 16: -12.807221262333334, 17: -19.467530543333336, 18: -7.464636067000001, 19: -8.576413196666666}, -0.21875: {10: -15.38087754, 11: -11.822109512333332, 12: -9.915329733333335, 13: -7.255322523333334, 14: -19.15201578, 15: -5.037878791, 16: -10.576889454666667, 17: -6.097845629999999, 18: -7.9772487540000006, 19: -4.52488047}, -0.125: {10: -9.47838962, 11: -10.192460840666667, 12: -13.068275123333335, 13: -15.59099366333333, 14: -18.517830433333334, 15: -12.949782960666667, 16: -12.106824649999998, 17: -15.93905711, 18: -14.112024113333334, 19: -8.680326096333333}, -0.03125: {10: -12.518851809666666, 11: -11.846298994000001, 12: -12.777089426666668, 13: -15.007235410333331, 14: -9.618819085, 15: -12.489177037666666, 16: -10.323981543, 17: -10.718275666333334, 18: -13.498648683333334, 19: -7.185840955000001}}, {'sampleid': {10: 11, 11: 12, 12: 13, 13: 14, 14: 15, 15: 16, 16: 17, 17: 18, 18: 19, 19: 20}, 'Channels': {10: 1, 11: 1, 12: 1, 13: 1, 14: 1, 15: 1, 16: 1, 17: 1, 18: 1, 19: 1}, 'Distance_km': {10: 100, 11: 100, 12: 100, 13: 100, 14: 100, 15: 100, 16: 100, 17: 100, 18: 100, 19: 100}, 'power_dBm': {10: -2, 11: -2, 12: -2, 13: -2, 14: -2, 15: -2, 16: -2, 17: -2, 18: -2, 19: -2}, '#node': {10: 2, 11: 2, 12: 2, 13: 2, 14: 2, 15: 2, 16: 2, 17: 2, 18: 2, 19: 2}, 0.0625: {10: -8.760537867000002, 11: -10.579341986666666, 12: -8.334584293333334, 13: -13.574172349, 14: -18.274813966666667, 15: -16.176697025333336, 16: -15.295082663, 17: -4.251997770333333, 18: -22.844505193333333, 19: -4.9734316860000005}, 0.15625: {10: -13.782523473666666, 11: -6.759971814, 12: -10.264717390333333, 13: -11.227266858333332, 14: -10.518575280666667, 15: -10.221452303666666, 16: -10.718136805999999, 17: -10.203582737, 18: -13.655654596666666, 19: -11.90207358}, 0.25: {10: -15.227574886666666, 11: -10.86280112, 12: -13.291195843333334, 13: -5.230188951866666, 14: -9.740100410333334, 15: -10.895165321, 16: -13.137793886666666, 17: -9.749691595666667, 18: -9.845846633999999, 19: -13.664608716666669}, 0.34375: {10: -6.440664972333334, 11: -8.917284501333333, 12: -12.605006176666668, 13: -11.231812287333334, 14: -8.525975654333333, 15: -4.159632447666667, 16: -11.371550428666666, 17: -10.887016458333335, 18: -13.665088356666667, 19: -12.403862705}, 0.4375: {10: -14.947378122000002, 11: -16.181249019333332, 12: -10.039074311999999, 13: -7.558635894000001, 14: -11.139431311000001, 15: -12.772809286, 16: -6.964525622666666, 17: -14.424109556666666, 18: -12.206802705666666, 19: -8.230113611333334}, 0.53125: {10: -11.381336993333335, 11: -7.006652545333332, 12: -10.459769576666666, 13: -17.028756506666667, 14: -13.229302726666667, 15: -9.470298446000001, 16: -16.512192823333333, 17: -8.135014192333335, 18: -15.070126969999999, 19: -8.774203722666668}, 0.625: {10: -10.455808983333332, 11: -9.397722451333335, 12: -10.763961539, 13: -5.4725443736666675, 14: -11.316783302333334, 15: -7.925149892, 16: -13.601680123333333, 17: -9.379514538333334, 18: -8.483652377, 19: -6.194263864666667}, 0.71875: {10: -12.862209371333336, 11: -15.27724995, 12: -19.760687270000002, 13: -13.895976791666667, 14: -6.920599563000001, 15: -16.349817920000003, 16: -14.526942303333334, 17: -9.359785536666669, 18: -6.651211882000001, 19: -8.803640063333333}, 0.8125: {10: -17.55135817133333, 11: -8.473924909333332, 12: -12.517673875666667, 13: -14.251667099, 14: -12.154189740000001, 15: -8.890010205333333, 16: -25.87230139333333, 17: -12.376878963333333, 18: -11.264475617666667, 19: -14.068887393333334}, 0.90625: {10: -7.394150091333334, 11: -8.006429183666667, 12: -8.951301973666666, 13: -11.405826189999999, 14: -13.398375369666667, 15: -13.73996199, 16: -12.387289579666666, 17: -7.1468938899999985, 18: -8.937261342333334, 19: -9.640059246}, 1.0: {10: -10.705123841666667, 11: -9.810532697666668, 12: -10.275085574333334, 13: -4.600206953, 14: -12.175011666000001, 15: -16.73387706933333, 16: -12.810268202000001, 17: -11.877756195666668, 18: -14.015969924666669, 19: -15.508105675000001}, 1.09375: {10: -16.581657120333333, 11: -6.896017007333334, 12: -9.13363236, 13: -13.475596872999999, 14: -10.426531990666666, 15: -10.904728128666667, 16: -12.828711340333333, 17: -11.514105521666666, 18: -12.144980765, 19: -15.261559271333333}, 1.1875: {10: -12.862067324, 11: -16.173081163333332, 12: -15.415149793333333, 13: -11.457688621, 14: -8.660287319, 15: -9.270105066666668, 16: -15.023392896999999, 17: -8.480340196333334, 18: -14.145095626666667, 19: -12.427610945666666}, 1.28125: {10: -11.766936814666666, 11: -21.194734984333333, 12: -10.345309202333333, 13: -7.681703819666667, 14: -13.755655400333332, 15: -17.944628193333333, 16: -17.272277723333332, 17: -8.161339372333334, 18: -10.670797133333332, 19: -12.979118558666665}, 1.375: {10: -11.494928219, 11: -12.199866397666668, 12: -8.481351855666666, 13: -6.894900039333333, 14: -11.961671796, 15: -7.942761641000001, 16: -8.324415522333332, 17: -11.530982725666666, 18: -6.2910149639999995, 19: -8.064995104333333}, 1.46875: {10: -10.577388615, 11: -13.306591825333333, 12: -11.588359292333331, 13: -10.320264223666667, 14: -8.411671093, 15: -5.313510444846667, 16: -16.031620636666666, 17: -7.786239069666667, 18: -12.152229916000001, 19: -7.022271641}, 1.5625: {10: -5.684279719, 11: -7.531582228333332, 12: -7.182357839000001, 13: -12.138075229, 14: -11.504234753333334, 15: -15.349515813666665, 16: -9.711972073333333, 17: -13.339627178666667, 18: -12.945036526666664, 19: -9.095784458333334}, 1.65625: {10: -11.491829284666666, 11: -17.984250667, 12: -16.724216560666665, 13: -9.813914897666667, 14: -15.958310573333334, 15: -7.359989160666667, 16: -17.30390600666667, 17: -14.340192103333331, 18: -12.722033525999999, 19: -10.737898509999999}, 1.75: {10: -8.877006695666665, 11: -12.476464333333334, 12: -6.100867861, 13: -6.064286243333334, 14: -14.899171863333335, 15: -12.806968599666668, 16: -14.520087357000001, 17: -13.739184643333333, 18: -11.224332083333332, 19: -13.891491637666666}, 1.84375: {10: -8.235985636333332, 11: -13.094585238333332, 12: -12.785044354666667, 13: -8.752046025333334, 14: -13.306346530999997, 15: -9.726521541333332, 16: -11.718427096666666, 17: -12.594838577666666, 18: -12.431216189666666, 19: -11.566501548}, 1.9375: {10: -10.329353592333334, 11: -13.767832382333333, 12: -8.811655456666667, 13: -11.984970070000001, 14: -10.733173968333332, 15: -10.140684535666667, 16: -16.375876443333336, 17: -8.523170047666666, 18: -8.056204714333333, 19: -14.799034313333335}, 2.03125: {10: -9.235561507666667, 11: -10.539425236, 12: -11.174981497333334, 13: -11.199452111333335, 14: -13.919579003333332, 15: -11.215561543, 16: -10.842932834, 17: -8.555589630333333, 18: -9.661714766000001, 19: -12.127846236666665}, 2.125: {10: -14.033919236000001, 11: -11.993382295666668, 12: -18.868090085000002, 13: -8.976086402, 14: -9.280333733666666, 15: -7.259234044, 16: -12.280932972333332, 17: -10.061490145666667, 18: -13.244496958, 19: -5.241169943666667}, 2.21875: {10: -8.818422846333334, 11: -4.765238308, 12: -8.617015337, 13: -10.046098459666666, 14: -9.818725350333333, 15: -7.480358473333333, 16: -9.959663848, 17: -15.222984755666667, 18: -11.213138859666666, 19: -10.709808719}, 2.3125: {10: -13.518054163, 11: -11.565171843666667, 12: -11.345491456333333, 13: -12.866497429, 14: -9.083261815333332, 15: -10.203266205333334, 16: -12.745718155, 17: -15.406851583333335, 18: -18.38428675, 19: -10.306612616666667}, 2.40625: {10: -8.385154153333334, 11: -9.309159712, 12: -12.474851356666667, 13: -10.644854399, 14: -12.755072403333335, 15: -9.986527637666667, 16: -14.845156369, 17: -24.717348466666667, 18: -11.831958764666666, 19: -16.914595741}, 2.5: {10: -14.717415517333334, 11: -6.605029111666667, 12: -13.443639231, 13: -7.608719323666667, 14: -11.808511121666667, 15: -11.576419503333332, 16: -15.876696395333333, 17: -10.035726393, 18: -12.328605391333333, 19: -8.770937983}, 2.59375: {10: -9.189168950666668, 11: -9.402023455333334, 12: -17.959133866666665, 13: -8.494012523666667, 14: -12.958783361333333, 15: -13.003644937666666, 16: -15.269356052, 17: -11.318293833333334, 18: -9.393084595333333, 19: -9.522978889333332}, 2.6875: {10: -11.744763381333334, 11: -9.713428274, 12: -8.085061595666666, 13: -10.541041562333334, 14: -14.081213603333333, 15: -10.064245009333334, 16: -11.975309599999997, 17: -10.399115708666667, 18: -15.758963896666666, 19: -5.3549115636666675}, 2.78125: {10: -10.119708185666667, 11: -9.143982920333334, 12: -9.243968667999999, 13: -6.915587512999999, 14: -11.279737238333333, 15: -10.370363003, 16: -20.68659081, 17: -14.106964326666668, 18: -11.917771345666665, 19: -8.729645755333333}, 2.875: {10: -16.314007673333332, 11: -14.54596924, 12: -15.756730833333336, 13: -19.118192520666668, 14: -12.120462196333333, 15: -9.835488590666666, 16: -11.984017123000001, 17: -11.340285433333333, 18: -14.957096490000003, 19: -8.46742659}, 2.96875: {10: -6.478149675, 11: -5.795451542333333, 12: -13.614158706666666, 13: -5.8123687293333335, 14: -8.964899231, 15: -12.254301706666668, 16: -10.254931486666667, 17: -9.573815819333333, 18: -11.757976224000002, 19: -10.050352856666667}, 3.0625: {10: -11.538061476333333, 11: -5.593229139666666, 12: -9.210090056, 13: -6.710208032333334, 14: -9.437388648, 15: -11.087905544666668, 16: -10.999014540666666, 17: -8.565805390333333, 18: -10.729675517666665, 19: -13.028465796333334}, 4.1875: {10: -10.224040432666667, 11: -6.67092067, 12: -14.212483473333334, 13: -9.434919823, 14: -10.720525570666666, 15: -7.714470037333332, 16: -11.053425258666666, 17: -22.55595488333333, 18: -13.066293735000002, 19: -9.890513202333333}, 4.28125: {10: -9.151395074333333, 11: -14.047241646333333, 12: -10.698413252999998, 13: -11.939569876, 14: -10.789466796333334, 15: -11.66672045, 16: -9.846376896666667, 17: -7.682721777, 18: -11.749500451000001, 19: -14.194469213333333}, 4.5625: {10: -10.829185821666664, 11: -10.308916472333332, 12: -18.373638836666668, 13: -8.239423032, 14: -17.560257863333334, 15: -8.722235271333332, 16: -11.224216679999998, 17: -13.077690331666666, 18: -13.124639234333335, 19: -8.615284498333333}, 4.65625: {10: -10.299811853333333, 11: -10.004670727666666, 12: -13.628379557666667, 13: -10.519562822333333, 14: -15.186988606666667, 15: -13.567485691666668, 16: -16.646441576666668, 17: -8.339447706666666, 18: -11.714691676666666, 19: -12.879202394333333}, 4.75: {10: -17.94563912, 11: -16.092832332666667, 12: -14.15819166, 13: -11.407326821333333, 14: -5.463215472000001, 15: -9.470556531, 16: -12.525870768333334, 17: -11.808562786333335, 18: -12.307505871333333, 19: -14.013206844666664}, 4.84375: {10: -8.061157286666665, 11: -10.629255029333333, 12: -19.65341029, 13: -8.282926967333333, 14: -12.728118474, 15: -6.271584959666666, 16: -14.789210671333331, 17: -11.392493138666666, 18: -11.535218116000001, 19: -13.5484289}, 4.9375: {10: -8.984629971666665, 11: -5.060828363333333, 12: -6.829752541333334, 13: -9.352594128666667, 14: -19.6511185, 15: -14.386337006666665, 16: -8.726713334666666, 17: -9.418636610333332, 18: -9.520357362333334, 19: -9.758843937333333}, 5.03125: {10: -13.087943757666666, 11: -8.527261721, 12: -11.517045319, 13: -9.086964206333333, 14: -14.802154019, 15: -12.183084227333334, 16: -17.102717922, 17: -8.677298294666667, 18: -10.335037060000001, 19: -15.395233686666666}, 5.125: {10: -7.832857656333334, 11: -7.577225792, 12: -8.787883128666666, 13: -4.646923911666667, 14: -17.8745103, 15: -10.783721653, 16: -18.383523593333333, 17: -11.038283491, 18: -18.438370691666666, 19: -7.3861460506666665}, 5.5: {10: -5.7145302293333335, 11: -9.458350163666665, 12: -15.301577200000002, 13: -4.189076752666667, 14: -12.059234643000002, 15: -8.457202997333333, 16: -12.162127633333332, 17: -9.670650585666666, 18: -11.129773159666668, 19: -9.015953292666666}, 5.59375: {10: -11.226038135000001, 11: -13.806474923333333, 12: -14.123736240333335, 13: -12.721457806666669, 14: -12.044882367333335, 15: -17.400944853, 16: -14.577073626666667, 17: -12.381768772666668, 18: -14.818123893333334, 19: -10.481169219666667}, 5.6875: {10: -7.619503666333332, 11: -11.197559586666666, 12: -14.621719116666668, 13: -14.337163957333333, 14: -11.938650533333332, 15: -9.231272117, 16: -7.857455492333334, 17: -8.011544050333333, 18: -13.194260933333334, 19: -9.262383146}, 5.78125: {10: -12.288396608666666, 11: -11.188218379, 12: -8.841724392666668, 13: -13.631992508666665, 14: -11.339092335333333, 15: -7.329215986666667, 16: -13.609888595666666, 17: -12.015575033333334, 18: -8.077809305666667, 19: -5.007361787333333}, 5.875: {10: -11.689652628, 11: -10.351130324000001, 12: -10.644851505333333, 13: -8.951723311666667, 14: -14.511406940999999, 15: -10.937524850666668, 16: -13.088349317, 17: -16.477545276666664, 18: -18.212097673333336, 19: -9.076797661333332}, 5.96875: {10: -10.971305279, 11: -15.541839279333331, 12: -9.621509660333334, 13: -11.850094766333333, 14: -11.384536059666667, 15: -7.616088681333333, 16: -18.91453393666667, 17: -14.493898420666667, 18: -10.218628192333332, 19: -4.974117972}, 6.0625: {10: -9.742513244000001, 11: -8.379660937999999, 12: -16.53153219, 13: -6.292368855333334, 14: -12.666405205666665, 15: -14.48205653, 16: -14.230015524, 17: -8.104426426000002, 18: -11.070663341666666, 19: -13.159313234333332}, 6.15625: {10: -12.383047943333333, 11: -4.052494099333334, 12: -7.5108849803333335, 13: -7.639055468, 14: -13.26783342, 15: -10.735324480333333, 16: -11.81277796, 17: -16.560429123333332, 18: -11.229202268, 19: -20.003507106666667}, 6.25: {10: -10.300538888, 11: -11.502461094, 12: -7.346868593, 13: -16.888471833333334, 14: -11.666372901666668, 15: -18.63535485, 16: -11.026058176333331, 17: -11.199283534666668, 18: -6.7982851166666665, 19: -9.972705409666666}, 6.34375: {10: -10.150458911333333, 11: -10.337557512, 12: -8.463791055, 13: -7.844430283, 14: -11.866757907666667, 15: -11.626629609, 16: -10.687085384333335, 17: -16.796108972333332, 18: -15.576167757666667, 19: -22.955321803333334}, 6.4375: {10: -11.098465471666666, 11: -10.540329853333333, 12: -11.699220234999999, 13: -12.536637658333333, 14: -10.486070583333333, 15: -12.715660935333332, 16: -14.50027744, 17: -9.861716537333335, 18: -12.022629765333335, 19: -11.672089897666666}, 6.53125: {10: -11.655832458333334, 11: -8.340014794, 12: -9.189203968000001, 13: -7.611403446, 14: -10.661705543666667, 15: -8.003005671333334, 16: -13.390448485, 17: -9.049952256333334, 18: -12.406233991333332, 19: -6.547211469333334}, 6.625: {10: -10.943766176000002, 11: -11.736609526666667, 12: -8.930757265999999, 13: -7.448034286666666, 14: -18.81354155, 15: -10.956634126666666, 16: -17.40003828333333, 17: -12.174375804, 18: -14.100431005333332, 19: -7.078687756333333}, 6.71875: {10: -10.048708184666667, 11: -16.91529614, 12: -8.645414186000002, 13: -16.267920533333335, 14: -21.033665653333333, 15: -12.386003393333334, 16: -9.882685131, 17: -14.726933343666667, 18: -7.327782691333334, 19: -9.419025065333335}, 6.8125: {10: -8.256652619999999, 11: -14.150251765, 12: -17.078638146666666, 13: -12.465545890000001, 14: -12.514183462333333, 15: -9.703585071000001, 16: -11.362052916666668, 17: -8.635387135, 18: -8.785798330666667, 19: -7.365779181000001}, 6.90625: {10: -7.319248099, 11: -13.387611098666667, 12: -9.162562951, 13: -6.857397829333333, 14: -14.012040083333332, 15: -5.868007358, 16: -12.322863151, 17: -12.479699356, 18: -9.022867989333333, 19: -6.588661561333335}, 7.0: {10: -16.66751477, 11: -10.362093246666666, 12: -14.078850038, 13: -6.999129586666666, 14: -15.662491263333331, 15: -10.903957374666668, 16: -16.34353997666667, 17: -18.08608136, 18: -7.715812967333332, 19: -11.096841575333334}, 7.09375: {10: -14.657737456666666, 11: -10.623440725, 12: -8.622083154, 13: -7.6088669929999995, 14: -14.607814902666666, 15: -12.121102917333333, 16: -17.271562659999997, 17: -11.080462224666666, 18: -8.236514754333333, 19: -3.339932729333333}, 7.1875: {10: -7.8134886706666675, 11: -10.787021625666668, 12: -8.336677184666668, 13: -8.744484546, 14: -10.099581325, 15: -9.068872862, 16: -9.871451832333333, 17: -12.109761697333333, 18: -14.469470832333334, 19: -5.118390082}, 7.28125: {10: -10.024417018, 11: -7.899154975666668, 12: -5.576297326333333, 13: -13.642365862333335, 14: -9.919973653333335, 15: -9.759266005999999, 16: -15.230816234666667, 17: -8.805142304, 18: -12.935861229666665, 19: -10.113266048}, 7.375: {10: -15.23866952, 11: -20.27499672, 12: -7.072461246666666, 13: -8.424532700333334, 14: -7.929440553, 15: -9.424477719, 16: -8.721647445333334, 17: -8.117635014333333, 18: -10.808926278666666, 19: -9.802282692333334}, 7.46875: {10: -6.892634259333334, 11: -11.617342627, 12: -15.358785016666666, 13: -10.279569580666667, 14: -10.357438253666666, 15: -9.707403080333334, 16: -17.301786966666665, 17: -11.452565866666667, 18: -8.551367423666667, 19: -13.286045253000003}, 7.65625: {10: -13.295391344, 11: -10.917887938, 12: -12.193923250000003, 13: -4.469245872000001, 14: -15.668208913333332, 15: -12.696450138666668, 16: -13.413396576666665, 17: -9.602130558333334, 18: -9.894133831666666, 19: -9.012439183666666}, 7.75: {10: -9.663626926666666, 11: -13.157480866666667, 12: -10.826083239666668, 13: -7.433745903666666, 14: -8.130360263333333, 15: -11.118179614, 16: -12.776463846666667, 17: -8.630510339333334, 18: -12.766630088, 19: -17.513255563333335}, 7.84375: {10: -13.531761722333334, 11: -11.165649150333332, 12: -12.643982507666665, 13: -13.196117281333331, 14: -14.128259546666667, 15: -9.628704359666665, 16: -13.052873656666668, 17: -12.432972395999998, 18: -7.749326583999999, 19: -8.111075887}, 7.9375: {10: -12.273872845666666, 11: -18.45770007333333, 12: -8.707263479, 13: -5.143712420666667, 14: -13.158035332333332, 15: -11.364388931999999, 16: -14.477426364000001, 17: -13.954333603333334, 18: -12.483265053333334, 19: -11.552043938333334}, 8.03125: {10: -8.377336635666667, 11: -10.164976779666667, 12: -9.135890989666668, 13: -6.2229856438, 14: -12.860956792666665, 15: -11.576552086000001, 16: -10.165942470333333, 17: -11.410350807, 18: -11.411768455, 19: -8.760212623333333}, 8.125: {10: -9.859937631, 11: -14.136224136000001, 12: -11.567867470000001, 13: -16.83221045666667, 14: -10.872150040333333, 15: -8.018841925, 16: -13.16878927, 17: -13.234571486666667, 18: -12.229246243333334, 19: -15.325621032}, 8.21875: {10: -18.1227172, 11: -15.705703657666666, 12: -14.735345489666665, 13: -12.313186593333333, 14: -15.60766399, 15: -8.584688689, 16: -10.359253131666668, 17: -13.732773546999999, 18: -13.373071689, 19: -11.339682583}, 8.3125: {10: -10.236646471666667, 11: -21.293997795, 12: -15.472451403333332, 13: -8.145000538, 14: -11.707036749666665, 15: -6.118994268666666, 16: -18.552213509999998, 17: -10.027424761, 18: -8.666986935, 19: -12.026941944999999}, 8.40625: {10: -13.924623221666666, 11: -2.900917828666666, 12: -15.823755512, 13: -11.007334191333333, 14: -10.039983926, 15: -19.02205757333333, 16: -9.335908804, 17: -9.721588002666666, 18: -10.904112397666665, 19: -15.060888865}, 8.5: {10: -9.557389864000001, 11: -6.3006654866666665, 12: -12.804576823333335, 13: -9.237589384666668, 14: -10.629769176333333, 15: -9.690962102666667, 16: -16.630106760333334, 17: -12.721853670000002, 18: -12.479415039000001, 19: -16.42196254}, 8.59375: {10: -14.809555486666667, 11: -7.623246272, 12: -9.962097780333334, 13: -16.722283404333332, 14: -11.607878485999999, 15: -7.899660075, 16: -12.30174467, 17: -10.370044926333334, 18: -14.177999551666668, 19: -13.594703487333334}, 8.6875: {10: -8.479783502333333, 11: -6.329545731333333, 12: -12.460304526666667, 13: -8.004031196000001, 14: -10.928035881999998, 15: -11.164052088, 16: -14.647357476666668, 17: -7.9222694313333335, 18: -9.141573792666668, 19: -11.141108655666665}, 8.78125: {10: -11.409612911666665, 11: -7.395797542333334, 12: -20.230758016666666, 13: -11.699892511333333, 14: -8.954415626666666, 15: -6.802809526, 16: -16.56771942, 17: -18.486930946666664, 18: -11.148451156, 19: -10.621427604333334}, 8.875: {10: -17.255781073333335, 11: -14.297034233333333, 12: -6.653166078999999, 13: -7.556031246666667, 14: -15.32895192333333, 15: -10.629483790333333, 16: -7.665419968999999, 17: -11.489716491000001, 18: -13.335350553333333, 19: -11.264572323333333}, 8.96875: {10: -12.557617416, 11: -10.914448060333333, 12: -10.550743429666667, 13: -16.335639795333332, 14: -12.284448716333335, 15: -9.852476604333333, 16: -15.357336719666668, 17: -11.662574284, 18: -10.976898016666667, 19: -8.373821172333333}, 9.0625: {10: -16.918881008666666, 11: -13.133926569666665, 12: -14.098298373333334, 13: -9.343561547333332, 14: -10.824729012, 15: -8.207902937999998, 16: -17.896461041, 17: -8.742658306666668, 18: -11.619233097333334, 19: -7.350339700666667}, 9.15625: {10: -11.893999801999998, 11: -9.477163682333334, 12: -6.817576102, 13: -7.017484134, 14: -17.206185066666666, 15: -6.4743080683333325, 16: -12.233096579666666, 17: -9.851030748, 18: -8.421306917333332, 19: -8.342253476333333}, 9.25: {10: -10.036671160333333, 11: -11.942020740666669, 12: -16.251163468666665, 13: -13.29663697, 14: -11.486067888666668, 15: -13.32881441, 16: -14.23715532, 17: -17.128539306666667, 18: -13.172059419333332, 19: -15.321090581333335}, 9.34375: {10: -8.446470813333333, 11: -11.994155528666667, 12: -17.42630463, 13: -6.390033921, 14: -12.186300120666667, 15: -7.126618253666667, 16: -9.208889913666667, 17: -10.843131743333332, 18: -10.889380820333335, 19: -8.412250141666666}, 9.4375: {10: -13.031595919666666, 11: -19.862050209999996, 12: -7.848544439333334, 13: -7.503248843000001, 14: -14.604884056333333, 15: -11.851930586666667, 16: -15.356131923333335, 17: -8.291479099, 18: -16.179213133333334, 19: -13.095980013333334}, 9.53125: {10: -12.165772274333333, 11: -10.365883914666666, 12: -6.723692786666667, 13: -11.251138747333334, 14: -13.481785249666665, 15: -7.634010571333334, 16: -9.879924073333333, 17: -8.323630341666666, 18: -13.551583856666667, 19: -12.084100860333335}, 9.71875: {10: -13.763638145333333, 11: -8.402470751000001, 12: -9.000128665666667, 13: -10.156028229, 14: -7.006398860333333, 15: -12.139257452666667, 16: -14.167697879999999, 17: -9.312193942666667, 18: -14.581635932666666, 19: -12.236279009999999}, 9.8125: {10: -12.565789877666667, 11: -8.968455722, 12: -15.353043079, 13: -11.252326766000001, 14: -16.487010545, 15: -14.342877893333332, 16: -6.844739001, 17: -19.485415040000003, 18: -8.601981462666666, 19: -9.185016927333335}, 9.90625: {10: -8.186018372666666, 11: -12.543635854666666, 12: -11.191001867666666, 13: -14.178262049333334, 14: -14.677672676, 15: -13.527065225666666, 16: -13.672408276999997, 17: -8.53586455, 18: -15.729393426666666, 19: -14.596141683333334}, 10.0: {10: -11.603771508333333, 11: -9.292944799333332, 12: -8.741935834333335, 13: -10.640657787, 14: -18.00584230433333, 15: -19.044706073333334, 16: -21.77957895, 17: -15.837073842333334, 18: -8.411686297, 19: -12.186585463}, 10.09375: {10: -15.364706429333333, 11: -10.551411133666667, 12: -6.052625646, 13: -7.021729470666666, 14: -17.656251976666667, 15: -11.675247531666669, 16: -13.022124936666666, 17: -18.088587546666663, 18: -10.223338901333333, 19: -8.046350173999999}, 10.1875: {10: -25.954734180000003, 11: -11.500941571666667, 12: -10.986188867000001, 13: -6.148731204666667, 14: -17.971457259999998, 15: -13.987845526666666, 16: -10.039559100333333, 17: -13.320310145666667, 18: -11.554594088, 19: -6.398261641333334}, 10.28125: {10: -13.307739505333332, 11: -7.810253822000001, 12: -10.254822296333332, 13: -11.270158127333334, 14: -18.37535338, 15: -16.126076613333336, 16: -11.720519852, 17: -14.061201976333331, 18: -12.692633729, 19: -7.186279642}, 10.9375: {10: -10.496092176333335, 11: -15.451508120333331, 12: -10.377495384666668, 13: -11.374389372333333, 14: -15.965359021333333, 15: -18.560190413333334, 16: -12.709096054333335, 17: -11.543244477000002, 18: -18.368102056666668, 19: -10.862754581666666}, 11.03125: {10: -10.753759569666668, 11: -8.920078482, 12: -13.300814216, 13: -16.602830826666665, 14: -11.448440849999999, 15: -15.17605516466667, 16: -14.398767139999999, 17: -13.477929277666666, 18: -5.042211818666666, 19: -14.552639363333332}, 11.21875: {10: -9.414428418333333, 11: -15.394212269999999, 12: -10.320078261666668, 13: -5.7151857266666655, 14: -12.79284224, 15: -9.792273689333333, 16: -17.474827546666667, 17: -12.320049410000001, 18: -12.827585232666666, 19: -8.051459471333333}, 11.3125: {10: -8.569034948333334, 11: -7.425883124000001, 12: -17.89505528, 13: -9.551965573333334, 14: -7.963345548333333, 15: -8.425878143333334, 16: -14.706443673333334, 17: -10.551729506666666, 18: -13.329099909333332, 19: -16.35411106666667}, 11.40625: {10: -15.067174656, 11: -9.479071578000001, 12: -9.284004692666668, 13: -8.420327614, 14: -18.927752236666667, 15: -14.745325635666667, 16: -10.607269780000001, 17: -8.082709719, 18: -13.773156112, 19: -12.632800979333334}, 11.5: {10: -10.313515131, 11: -14.744087733333332, 12: -11.376607773333333, 13: -7.399148836666666, 14: -12.399746086666667, 15: -19.110088224333335, 16: -13.599856174000001, 17: -10.032714305333332, 18: -17.43630385666667, 19: -11.794050355666664}, 11.59375: {10: -18.102422087333334, 11: -9.667636489666668, 12: -12.039854673333332, 13: -10.345229082000001, 14: -11.382170427666665, 15: -13.362148959999999, 16: -18.454523, 17: -12.44424065, 18: -10.937298757666667, 19: -11.661485457333333}, 11.6875: {10: -9.775036180666667, 11: -18.144624043333334, 12: -16.68375168, 13: -11.459561756666666, 14: -12.395117130666668, 15: -12.042769534, 16: -19.129931348000003, 17: -11.700150667333334, 18: -9.756028399333333, 19: -8.782082829}, 11.78125: {10: -15.428111765666666, 11: -8.222723946, 12: -9.856197887333332, 13: -8.473807097666667, 14: -10.801808181333334, 15: -9.771446457666666, 16: -14.692469220000001, 17: -17.056706103666667, 18: -11.005442498333332, 19: -13.709802599999998}, 11.875: {10: -15.372326811666667, 11: -12.670440809333334, 12: -16.31417425, 13: -8.984579976000001, 14: -19.380963513, 15: -9.289414616666667, 16: -16.58522994, 17: -11.523612016666666, 18: -13.723643531999999, 19: -11.848969340666665}, 12.0625: {10: -14.583363461333334, 11: -7.490285568, 12: -10.866289862, 13: -17.498391186666666, 14: -18.997794196666664, 15: -10.981094121333333, 16: -13.407927412, 17: -14.06236073, 18: -8.107064893333334, 19: -21.250691956666667}, 12.15625: {10: -11.345568092, 11: -14.628615723000001, 12: -8.601067511333333, 13: -11.900959147999998, 14: -12.843819630666667, 15: -9.009771392666666, 16: -11.194785447333333, 17: -22.024068513333333, 18: -16.16986806, 19: -11.340658963666664}, 12.53125: {10: -13.031435965999998, 11: -10.602458401, 12: -13.466831943666667, 13: -10.959798184333332, 14: -11.332970236666668, 15: -13.993558505666668, 16: -8.944534436333333, 17: -11.674216651, 18: -15.112665777333333, 19: -17.651670776666666}, 12.625: {10: -12.631997874333335, 11: -9.529644161333332, 12: -14.895296093333334, 13: -8.156265287666669, 14: -13.658489075333334, 15: -23.01357731, 16: -11.987603962666668, 17: -10.032826879, 18: -11.286038638333332, 19: -10.790441466666666}, 12.71875: {10: -16.960728326666665, 11: -7.195763477666667, 12: -12.172599662000001, 13: -13.004776457333334, 14: -12.862240496666667, 15: -7.841114970666666, 16: -16.46916566, 17: -11.984149981333331, 18: -14.385417057666666, 19: -12.544704916999999}, 12.90625: {10: -18.65629998, 11: -11.09799432, 12: -16.26660418, 13: -14.143342932333333, 14: -16.976095459333333, 15: -11.899704939000001, 16: -14.89738017, 17: -9.330496288666666, 18: -17.04767098666667, 19: -11.170217303666666}, 13.0: {10: -15.214709749999999, 11: -13.094560993333332, 12: -11.034503832333334, 13: -9.196789142999998, 14: -11.196506482333334, 15: -11.619490975333335, 16: -16.120227043333333, 17: -18.779888466666666, 18: -14.791901043333334, 19: -11.326720384333333}, 13.09375: {10: -15.597573429999999, 11: -11.594341351666666, 12: -10.424716945666667, 13: -12.045526787666667, 14: -11.792431866, 15: -13.771023986666668, 16: -13.704448320666666, 17: -9.736174110333334, 18: -10.977516921333333, 19: -9.515432196333334}, 13.28125: {10: -9.411465111666667, 11: -15.271075306666667, 12: -15.987123126666667, 13: -8.819166198, 14: -13.212904123333333, 15: -13.549850035666665, 16: -14.000225903333336, 17: -12.703712229666666, 18: -17.344406590000002, 19: -12.100713053333331}, 13.375: {10: -17.879380943333334, 11: -7.320385329333333, 12: -13.692062583333332, 13: -12.266658456666667, 14: -19.815880853333333, 15: -13.124539711333332, 16: -17.800402543333334, 17: -15.139235782, 18: -15.45106826, 19: -17.70199269}, 13.5625: {10: -10.921878779333333, 11: -14.94527559, 12: -15.478297956666665, 13: -16.478552753333332, 14: -24.255184253333336, 15: -11.677046986666667, 16: -16.622346036666666, 17: -11.235126110000001, 18: -14.867375979666667, 19: -10.020967289666666}, 13.65625: {10: -12.532958526333333, 11: -14.840323857666666, 12: -11.785316309999999, 13: -10.533227842666667, 14: -16.08915161, 15: -10.001248678333335, 16: -16.84371506333333, 17: -11.742156493000001, 18: -18.021163143333332, 19: -13.253859647}, 13.75: {10: -15.12076003, 11: -16.68544855, 12: -17.936901743333333, 13: -19.794334103333338, 14: -12.722597436666668, 15: -22.69357734333333, 16: -15.181534413333333, 17: -16.782358770000002, 18: -18.28850746666667, 19: -19.737373673333334}, 13.84375: {10: -14.57499986, 11: -13.839627183333333, 12: -14.339045396666668, 13: -18.40118165666667, 14: -13.478183946666666, 15: -13.693923173666667, 16: -19.354187103333334, 17: -11.331828678333332, 18: -11.625830256333336, 19: -10.926228266666667}, 13.9375: {10: -12.43092963, 11: -14.457074517999999, 12: -16.09585633233333, 13: -17.786805976666667, 14: -11.471158803666667, 15: -21.650487799999997, 16: -17.929373463333334, 17: -17.828958336666666, 18: -20.061739103333334, 19: -12.787640391000002}, 14.03125: {10: -19.65456371, 11: -12.227388116666667, 12: -16.522786093333334, 13: -14.34097535766667, 14: -14.037066610000002, 15: -18.114091266666666, 16: -14.590319465999999, 17: -13.722643676666666, 18: -14.451057713333332, 19: -14.400331528333334}, 14.125: {10: -25.817325646666664, 11: -20.20975201, 12: -13.548410498, 13: -10.075651391333334, 14: -11.769335087333333, 15: -15.965126858, 16: -14.06457907, 17: -13.373854196666668, 18: -13.846531156666666, 19: -15.070760746666666}, 14.21875: {10: -14.059867820000001, 11: -14.211947793333332, 12: -15.594742289666668, 13: -15.454353208, 14: -28.70797313, 15: -11.519478020333333, 16: -20.334398703333335, 17: -14.763411671666667, 18: -17.440459545, 19: -23.78550115766667}, 14.3125: {10: -13.083620809666664, 11: -16.416997103333333, 12: -16.524239443333332, 13: -17.640847553333334, 14: -20.484104283333334, 15: -14.977784953333334, 16: -22.58055407, 17: -15.552601426666664, 18: -17.939658376666667, 19: -14.44868998}, 14.40625: {10: -11.619942710000002, 11: -19.03368694, 12: -17.671490806666668, 13: -22.662723783333334, 14: -15.73461312, 15: -13.813430906666667, 16: -16.558666103333334, 17: -16.339924606666667, 18: -16.701594123333333, 19: -13.73503788}, 14.5: {10: -17.038016340000002, 11: -16.96318050666667, 12: -12.939638883, 13: -17.189933136666664, 14: -19.886288840000002, 15: -14.637667696666668, 16: -12.895964550333334, 17: -12.615211500000001, 18: -23.539190173333335, 19: -18.676596206666666}, 14.59375: {10: -16.866537656666665, 11: -15.544216416666666, 12: -19.53788346, 13: -15.135731933333332, 14: -31.311813126666667, 15: -22.07856121, 16: -21.566659923333333, 17: -20.320860853333333, 18: -16.552661476666668, 19: -13.470043016666665}, 14.6875: {10: -15.810213323333334, 11: -18.427378486666665, 12: -14.182833523333334, 13: -15.797553440000002, 14: -20.363189976666668, 15: -16.739387833333332, 16: -15.481664989999999, 17: -12.159746299333333, 18: -13.776493936666668, 19: -13.00832955}, 14.78125: {10: -18.852050653333333, 11: -16.571046606666666, 12: -21.017372863333332, 13: -16.59657112, 14: -22.074425183333332, 15: -15.241057896666666, 16: -15.26036664, 17: -19.832751826666666, 18: -23.05094447666667, 19: -20.81181820666667}, 14.875: {10: -16.56245217, 11: -16.379971637666667, 12: -15.545738120000001, 13: -15.416762803333333, 14: -17.490461120000003, 15: -19.016676133333334, 16: -19.500265036666665, 17: -20.698174933333334, 18: -17.71747271, 19: -18.888834493333334}, 14.96875: {10: -17.90586001, 11: -11.945447164, 12: -14.781755693333333, 13: -15.528706309999999, 14: -19.08996277, 15: -14.8392798, 16: -24.43973044666667, 17: -14.12263093, 18: -21.613874106666668, 19: -18.796103961333333}, 15.0625: {10: -17.761930503333332, 11: -15.190218996666667, 12: -15.574740802333332, 13: -18.926516933333332, 14: -19.76523016, 15: -18.74084801, 16: -22.135560986666665, 17: -25.564345000000003, 18: -17.993941333333336, 19: -13.789022746666665}, 15.15625: {10: -14.374872863333332, 11: -17.028924206666666, 12: -25.78185313333334, 13: -18.160306866666666, 14: -22.96787462, 15: -17.24076313333333, 16: -19.94561813, 17: -14.007088363333333, 18: -19.426087193333334, 19: -17.895120796666667}, 15.25: {10: -25.72228767333333, 11: -12.925581119999999, 12: -18.452328706666666, 13: -16.333322616666667, 14: -24.795784093333335, 15: -13.872782176333333, 16: -18.64197190333333, 17: -19.428797813333333, 18: -22.817393906666666, 19: -21.764059506666666}, 15.34375: {10: -16.513389726666666, 11: -21.241617809999997, 12: -19.532062346666667, 13: -18.264692313333335, 14: -20.407034839999998, 15: -14.327414406666668, 16: -18.2201053, 17: -20.499681470000002, 18: -19.18665357, 19: -18.253571073333333}, 15.625: {10: -20.903271923333335, 11: -17.91052429333333, 12: -22.53215026333333, 13: -29.21370899333333, 14: -21.573855996666666, 15: -20.40105906, 16: -25.025071426666667, 17: -20.499065233333333, 18: -29.55437415333333, 19: -19.898482786666666}, 15.71875: {10: -22.582418843333333, 11: -24.662539453333334, 12: -19.58553071, 13: -24.371107576666663, 14: -21.063865500000002, 15: -23.31991442333333, 16: -17.87536367, 17: -25.208343093333337, 18: -18.57922591, 19: -19.888453273333333}, 15.90625: {10: -29.138332513333335, 11: -25.05169361333333, 12: -26.533299106666664, 13: -22.15578693333333, 14: -27.000994146666667, 15: -23.205344363333335, 16: -24.406661576666668, 17: -30.579997239999997, 18: -25.328721006666665, 19: -17.261709826666667}, 16.0: {10: -25.558487396666667, 11: -22.299602856666667, 12: -23.601640650000004, 13: -24.50945385, 14: -24.434811233333335, 15: -24.230537280000004, 16: -25.228394106666666, 17: -23.506571609999998, 18: -23.889524263333332, 19: -29.342532173333336}, 16.09375: {10: -23.929512743333333, 11: -31.91503833, 12: -28.135288653333333, 13: -20.650836026666667, 14: -24.87996244333333, 15: -26.201340236666667, 16: -27.57296407, 17: -25.045049863333332, 18: -27.306629810000004, 19: -26.66529987666667}, 16.1875: {10: -28.415541506666667, 11: -22.644421616666666, 12: -27.738699713333332, 13: -20.71714118, 14: -29.317045706666665, 15: -28.795174623333338, 16: -30.14963901333333, 17: -28.959506236666666, 18: -21.867803176666666, 19: -28.51540894333333}, 16.28125: {10: -29.353392463333336, 11: -24.225964883333333, 12: -28.947796393333334, 13: -28.104514730000002, 14: -35.99377691, 15: -25.615201803333335, 16: -34.593749339999995, 17: -28.481468746666668, 18: -28.5931466, 19: -27.275883316666665}, 16.375: {10: -27.07561577, 11: -26.493322253333332, 12: -28.11309238, 13: -25.170736010000002, 14: -30.061112973333337, 15: -30.48714246, 16: -30.016533456666664, 17: -31.841091483333333, 18: -28.981436470000002, 19: -30.556684046666664}, 16.46875: {10: -31.96780111, 11: -38.639061250000005, 12: -34.69122528, 13: -38.67104690333334, 14: -38.64954856, 15: -24.832828516666666, 16: -32.75900279333333, 17: -32.929045789999996, 18: -30.18225287, 19: -34.39169949666667}, 16.5625: {10: -38.42431186666667, 11: -32.83573943666667, 12: -34.59321747333334, 13: -34.85302624, 14: -32.48054234, 15: -35.69742599, 16: -38.11715542666667, 17: -32.10539418, 18: -33.35620690333334, 19: -33.793756566666666}, 16.65625: {10: -39.802043356666665, 11: -34.04565049333333, 12: -48.315064586666665, 13: -38.94612621, 14: -41.17919761666666, 15: -38.73710140333333, 16: -35.77899803666667, 17: -34.926189990000005, 18: -41.327000606666665, 19: -34.94710187333333}, 16.75: {10: -44.51718736666667, 11: -40.740051763333334, 12: -44.61110783, 13: -37.68510876333334, 14: -39.30165056333333, 15: -43.753411449999994, 16: -39.02480928666667, 17: -39.07122629666667, 18: -35.11553567333333, 19: -39.65490479333334}, 16.84375: {10: -50.97896377, 11: -40.50546077333333, 12: -42.48082798666667, 13: -42.32196176333334, 14: -48.820189273333334, 15: -47.960469796666665, 16: -49.83883104666666, 17: -48.40338431, 18: -48.66869439333333, 19: -40.08451301333333}, 16.9375: {10: -51.32306252666666, 11: -44.091383650000004, 12: -50.291358136666666, 13: -45.533939769999996, 14: -52.62895957333333, 15: -46.134687969999995, 16: -50.561831909999995, 17: -45.90053131, 18: -53.52471940666667, 19: -52.05857923333334}, 17.03125: {10: -49.10590150666667, 11: -48.116185376666664, 12: -51.46120424333333, 13: -53.79378195666666, 14: -47.18368735000001, 15: -53.784701386666676, 16: -54.453729009999996, 17: -55.18727765333333, 18: -50.21454585, 19: -51.79734986333333}, 17.125: {10: -52.65922737333333, 11: -52.55044692333333, 12: -53.694092936666664, 13: -50.62984421666666, 14: -52.67738426, 15: -46.40517999333334, 16: -53.66899883, 17: -49.30190033666667, 18: -50.77541439, 19: -55.127804450000006}, 17.21875: {10: -50.839333333333336, 11: -53.16758784666666, 12: -48.228394699999996, 13: -46.14145445, 14: -49.13626903333333, 15: -46.38874067666666, 16: -54.316092579999996, 17: -48.28018334666666, 18: -48.244880353333336, 19: -53.79623661}, 17.3125: {10: -46.767662449999996, 11: -47.955556133333324, 12: -52.965597040000006, 13: -49.75610351, 14: -53.50548583, 15: -56.8294444, 16: -51.59428696, 17: -49.00620209666666, 18: -57.59872568333333, 19: -48.509780256666666}, 17.40625: {10: -45.293424773333335, 11: -46.06368851333334, 12: -47.76808947666667, 13: -45.39313832666667, 14: -51.98375041333333, 15: -55.628120163333335, 16: -55.37093788000001, 17: -48.2455166, 18: -48.482835849999994, 19: -46.577214303333335}, 17.5: {10: -58.56652806666667, 11: -52.83499035666666, 12: -57.478233886666665, 13: -56.10748751666667, 14: -47.20690887999999, 15: -51.77649151333333, 16: -52.77720086333333, 17: -50.67853047666666, 18: -49.47937987333333, 19: -54.526996309999994}, 17.59375: {10: -63.358144159999995, 11: -54.68401931, 12: -54.297651806666664, 13: -47.084979016666665, 14: -48.436391930000006, 15: -52.970453713333335, 16: -49.70512136, 17: -49.29696805333333, 18: -50.39740339333334, 19: -47.190384859999995}, 17.6875: {10: -54.21380014666667, 11: -53.12097999333334, 12: -51.45719781333333, 13: -46.171594426666665, 14: -51.31300403, 15: -52.47358346000001, 16: -57.16306852666667, 17: -53.070204776666664, 18: -56.27266292666667, 19: -51.778995716666664}, 17.78125: {10: -52.97184966333333, 11: -51.57909268, 12: -51.35248768333333, 13: -52.55098667666667, 14: -50.920641286666665, 15: -58.983500873333334, 16: -59.464133473333334, 17: -52.83726184, 18: -53.121764293333335, 19: -49.212735900000006}, 17.875: {10: -51.71888398666667, 11: -47.32790352000001, 12: -57.708436356666674, 13: -50.74204991333334, 14: -48.86132289666667, 15: -51.75853636333333, 16: -55.558724696666665, 17: -54.749031136666666, 18: -48.57521089333333, 19: -44.27850307333333}, 17.96875: {10: -62.37134135, 11: -47.43208421333333, 12: -52.31906912666667, 13: -52.63333431, 14: -53.612940970000004, 15: -47.96771410333333, 16: -55.740008450000005, 17: -54.055153870000005, 18: -56.999046946666674, 19: -50.17793586}, 18.0625: {10: -49.07024508333333, 11: -49.03063694333334, 12: -53.161750256666664, 13: -50.66218013333333, 14: -50.27730054333333, 15: -51.10510052666666, 16: -62.72734142666667, 17: -51.35712662, 18: -58.72372112333333, 19: -53.63852247666667}, 18.34375: {10: -54.78275493333334, 11: -46.40984024333333, 12: -50.87657865666667, 13: -51.11522817333333, 14: -49.57493956666667, 15: -45.97676294666667, 16: -53.672185256666666, 17: -55.79457544666667, 18: -50.14764200333334, 19: -47.71841803666666}, 18.4375: {10: -49.54054160333333, 11: -55.83878421333333, 12: -50.416675946666665, 13: -50.42583307, 14: -48.40171638, 15: -49.26765279, 16: -47.71047646666667, 17: -50.441462959999996, 18: -54.85503967, 19: -53.76284829}, 18.53125: {10: -48.79830139, 11: -53.17954051666666, 12: -52.150697906666664, 13: -51.12237648999999, 14: -57.41869626333334, 15: -54.111916029999996, 16: -54.71280799666666, 17: -57.193324556666674, 18: -50.313889786666664, 19: -52.50842885666666}, 18.625: {10: -53.23182383666667, 11: -48.67940804666666, 12: -50.99149959333334, 13: -49.06864934666667, 14: -53.02330333333333, 15: -49.95030991000001, 16: -50.91906277333334, 17: -54.79622279, 18: -55.67133315666667, 19: -64.34834917}, 18.71875: {10: -50.15975870666667, 11: -56.65007911666667, 12: -54.71063222666666, 13: -50.11544048, 14: -55.746115653333334, 15: -47.364517750000005, 16: -51.218174186666666, 17: -55.28598123, 18: -60.110386049999995, 19: -48.794300490000005}, 18.8125: {10: -47.60124629333333, 11: -48.82034169, 12: -61.73373307666666, 13: -47.948540663333326, 14: -55.394417216666675, 15: -53.152874356666665, 16: -64.86812138333333, 17: -62.18956142, 18: -52.12372593, 19: -52.736544503333334}, 18.90625: {10: -56.867581429999994, 11: -50.68092009, 12: -51.89431824, 13: -59.26419367666667, 14: -56.82001567, 15: -49.62720476666667, 16: -58.30872109333334, 17: -50.00905965333333, 18: -55.93393644333333, 19: -49.20510902}, 19.0: {10: -53.43080231, 11: -56.38760124666667, 12: -50.21066497999999, 13: -51.06209409666667, 14: -49.474334363333334, 15: -49.95622166333333, 16: -56.61293528000001, 17: -52.310735986666664, 18: -52.93090541, 19: -48.42263479666667}, 19.09375: {10: -49.89835539333333, 11: -51.82201619, 12: -61.51235516333333, 13: -55.925665243333334, 14: -51.644684013333325, 15: -52.648110313333326, 16: -57.81881485, 17: -55.67614441333333, 18: -49.63127007666666, 19: -53.664457889999994}, 19.1875: {10: -54.92809110333334, 11: -54.414878853333335, 12: -53.47530867, 13: -53.25878191666667, 14: -50.16240077333333, 15: -48.295555963333335, 16: -53.54845090333333, 17: -54.00184804, 18: -61.10716315666667, 19: -50.573032786666666}, 19.28125: {10: -50.08791176666667, 11: -51.04663231333333, 12: -57.94219203666666, 13: -49.736122386666665, 14: -52.68069644666667, 15: -58.01947730333333, 16: -53.336355383333334, 17: -57.160710386666665, 18: -53.837423050000005, 19: -51.767625210000006}, 19.375: {10: -51.873704, 11: -52.48924704666666, 12: -56.17479789666667, 13: -51.14199761333333, 14: -64.78676999, 15: -53.46605463666666, 16: -52.01683923666667, 17: -54.96284307666667, 18: -51.53020352666667, 19: -47.842432849999994}, 19.46875: {10: -52.46314928, 11: -52.13785810666666, 12: -58.05071750333334, 13: -51.79388886, 14: -57.948193133333326, 15: -52.29679978666667, 16: -53.66657060666666, 17: -52.156570826666666, 18: -53.27574092, 19: -50.375720493333326}, 19.65625: {10: -51.119036789999996, 11: -54.087645900000005, 12: -56.58540990666666, 13: -53.410767426666666, 14: -54.62259387333333, 15: -51.63573503999999, 16: -56.38096760333334, 17: -54.11212101666666, 18: -58.430323826666665, 19: -57.58942979}, 19.75: {10: -57.43132726333334, 11: -56.333883996666664, 12: -52.99146023333333, 13: -52.25365536666666, 14: -51.73952332666667, 15: -53.37774077666666, 16: -52.32533469333333, 17: -51.03398145666667, 18: -54.34763984, 19: -53.67536783}}], 'Node_3': [{'sampleid': {20: 21, 21: 22, 22: 23, 23: 24, 24: 25, 25: 26, 26: 27, 27: 28, 28: 29, 29: 30}, 'Channels': {20: 1, 21: 1, 22: 1, 23: 1, 24: 1, 25: 1, 26: 1, 27: 1, 28: 1, 29: 1}, 'Distance_km': {20: 200, 21: 200, 22: 200, 23: 200, 24: 200, 25: 200, 26: 200, 27: 200, 28: 200, 29: 200}, 'power_dBm': {20: -2, 21: -2, 22: -2, 23: -2, 24: -2, 25: -2, 26: -2, 27: -2, 28: -2, 29: -2}, '#node': {20: 3, 21: 3, 22: 3, 23: 3, 24: 3, 25: 3, 26: 3, 27: 3, 28: 3, 29: 3}, -20.0: {20: -51.94199627, 21: -64.01003375333333, 22: -52.86495655666667, 23: -49.86343511333333, 24: -54.91398517333334, 25: -56.32371468, 26: -58.795769193333335, 27: -54.38702914, 28: -54.80635947, 29: -51.972934210000005}, -19.90625: {20: -54.56110594, 21: -52.92912693666667, 22: -51.858820390000005, 23: -52.464683246666674, 24: -53.80472002, 25: -52.25228236666667, 26: -53.75809608333333, 27: -58.45519675, 28: -45.969419456666664, 29: -52.929525393333336}, -19.8125: {20: -55.02780915666667, 21: -55.519712340000005, 22: -52.707416566666666, 23: -49.061518543333335, 24: -57.134689709999996, 25: -55.28502790666667, 26: -55.40449278, 27: -52.80011717333334, 28: -56.34713252, 29: -52.99117935666667}, -19.71875: {20: -56.16494142, 21: -56.750969336666664, 22: -52.435556426666665, 23: -54.06625692, 24: -53.44729698, 25: -55.575221423333325, 26: -53.74144933666667, 27: -51.07961655, 28: -50.09490272333333, 29: -49.18067933333333}, -19.625: {20: -49.57263174333334, 21: -48.154699810000004, 22: -53.71760416, 23: -50.73490562, 24: -52.52154982666667, 25: -59.92244492333333, 26: -57.11729066666666, 27: -58.22881155333332, 28: -49.39983530666667, 29: -48.46266484666668}, -19.53125: {20: -56.04015992666667, 21: -49.217963233333336, 22: -48.67139096333333, 23: -55.18962443666666, 24: -53.601519069999995, 25: -47.86331270333333, 26: -54.32447895666667, 27: -48.50788161666666, 28: -54.13255902666666, 29: -56.59710193}, -19.4375: {20: -49.17928192, 21: -49.936797633333335, 22: -46.87910714333333, 23: -51.11525780333333, 24: -56.62898105, 25: -48.567880120000005, 26: -54.724640093333335, 27: -55.26760307666667, 28: -53.111175769999996, 29: -52.466363363333336}, -19.34375: {20: -51.899162249999996, 21: -52.82492416333333, 22: -51.21851772, 23: -52.39815374333333, 24: -50.479249540000005, 25: -48.55723789666666, 26: -54.429411560000005, 27: -51.31934670333334, 28: -53.559097073333334, 29: -50.103331963333325}, -19.25: {20: -48.62367852666667, 21: -46.092599356666675, 22: -51.23756885, 23: -57.60586716333333, 24: -56.52428672333334, 25: -49.31330241, 26: -53.190199396666664, 27: -52.807637983333336, 28: -52.73507877666666, 29: -52.59973773666667}, -19.15625: {20: -57.255009050000005, 21: -57.12112292333333, 22: -56.559840413333326, 23: -53.8803663, 24: -52.35492426333334, 25: -45.806470276666666, 26: -53.90430390666666, 27: -54.54373336333333, 28: -54.67432173, 29: -50.335216970000005}, -19.0625: {20: -49.02242289, 21: -49.350614793333335, 22: -54.07472792666667, 23: -54.85956295, 24: -54.16743809, 25: -56.21204243333333, 26: -54.36117587333334, 27: -58.35477175, 28: -53.67488253333334, 29: -47.55856664}, -18.96875: {20: -54.25283406, 21: -50.33543852666666, 22: -63.84792328333333, 23: -55.05218045666666, 24: -53.46521282333333, 25: -50.621886313333334, 26: -51.23497959, 27: -49.89807489333333, 28: -54.510168639999996, 29: -54.46406532333333}, -18.875: {20: -57.30918700666667, 21: -53.623321440000005, 22: -51.56657289666666, 23: -52.327349950000006, 24: -55.20965283666666, 25: -52.86904085333333, 26: -54.72219098666667, 27: -52.04879548, 28: -52.78493400666667, 29: -52.492064606666666}, -18.78125: {20: -54.11921705333333, 21: -56.779074933333334, 22: -49.27004275666667, 23: -54.73254502666666, 24: -55.65156862, 25: -48.54454435666667, 26: -52.00646002666667, 27: -50.08525013, 28: -51.54125156333333, 29: -50.08643433666666}, -18.6875: {20: -49.50427020333333, 21: -51.40241266333333, 22: -55.01447836666666, 23: -51.54986625666666, 24: -55.23865009666667, 25: -51.35174405666667, 26: -51.284523619999995, 27: -54.69160037, 28: -56.49015157666667, 29: -51.94517672999999}, -18.59375: {20: -54.41056557666667, 21: -54.12415742666667, 22: -48.66038790666667, 23: -50.525087463333335, 24: -57.04083338, 25: -54.74653945666666, 26: -54.45355884666666, 27: -51.98472284333334, 28: -52.602961713333336, 29: -52.557262863333335}, -18.5: {20: -58.27626214666666, 21: -52.79089958, 22: -54.07364204666667, 23: -51.682690296666664, 24: -46.79559024, 25: -51.89431857, 26: -54.95985984, 27: -49.135816213333335, 28: -48.20132541, 29: -51.55860822666667}, -18.40625: {20: -50.17990831666666, 21: -47.030452233333335, 22: -51.72905391666666, 23: -49.29831012, 24: -56.595346166666666, 25: -48.08128837, 26: -51.52210736666667, 27: -50.780959499999994, 28: -50.56083116666667, 29: -61.50613177333333}, -18.3125: {20: -59.85053630666666, 21: -52.02132167333334, 22: -47.97790421333334, 23: -47.58882738666667, 24: -52.003469173333336, 25: -51.532075230000004, 26: -53.98638635, 27: -50.75330682, 28: -51.46859791, 29: -54.32845109666667}, -18.21875: {20: -50.9042691, 21: -54.13192439666667, 22: -50.270523536666666, 23: -47.57996187, 24: -54.02885136, 25: -49.16035026333333, 26: -54.31827571333333, 27: -48.60176689333334, 28: -48.595128906666666, 29: -53.64628258666667}, -18.125: {20: -59.55966660666667, 21: -55.32689722, 22: -50.91208175333333, 23: -49.69416461666666, 24: -48.89611037, 25: -51.76958392333333, 26: -57.156392419999996, 27: -47.300664143333336, 28: -49.55499912, 29: -44.64777687333333}, -18.03125: {20: -48.03744414333334, 21: -54.26515512, 22: -51.190527323333335, 23: -55.018493893333336, 24: -59.45730101, 25: -50.73107116, 26: -50.13034473333334, 27: -52.57834905333333, 28: -59.79259185, 29: -51.70772444333334}, -17.9375: {20: -54.933384036666666, 21: -49.02139964333333, 22: -47.082557423333334, 23: -49.289414126666664, 24: -48.75770827666667, 25: -49.64804700333334, 26: -51.342835443333335, 27: -53.88747537333334, 28: -45.69885175333334, 29: -48.04017355333334}, -17.84375: {20: -54.09383304, 21: -53.06502864666667, 22: -57.446796049999996, 23: -52.29497257666667, 24: -54.761559766666664, 25: -48.911700243333335, 26: -53.88769250666667, 27: -50.868316596666666, 28: -56.033895213333324, 29: -49.52966803666666}, -17.75: {20: -51.95022547, 21: -54.26341420333333, 22: -47.360419439999994, 23: -45.86624332666667, 24: -58.87953705, 25: -49.446400589999996, 26: -55.369790349999995, 27: -52.745328023333336, 28: -53.46710774333334, 29: -46.57117658000001}, -17.65625: {20: -48.13515537666667, 21: -53.24105321666667, 22: -48.027783366666675, 23: -52.58322915333334, 24: -49.03343792333334, 25: -46.56842591333333, 26: -58.749692073333335, 27: -56.12826253, 28: -46.07130721666667, 29: -54.84706418}, -17.5625: {20: -55.53697967666667, 21: -51.70029455333334, 22: -51.299794569999996, 23: -50.27004777, 24: -52.31549014666666, 25: -48.119547579999995, 26: -56.17282776, 27: -52.83809944000001, 28: -53.89238888333333, 29: -47.13588649}, -17.46875: {20: -57.25888758333334, 21: -50.546554173333334, 22: -53.34856359333333, 23: -48.860563113333335, 24: -51.028041613333336, 25: -51.425326886666674, 26: -48.38035774666667, 27: -48.03413583333333, 28: -53.67067557666667, 29: -46.043221323333334}, -17.375: {20: -47.41302437666667, 21: -52.40146582666667, 22: -47.90525201333333, 23: -52.141675383333336, 24: -51.821722279999996, 25: -48.71904823333333, 26: -55.647101596666666, 27: -51.675740346666664, 28: -51.55638949666667, 29: -52.438748409999995}, -17.28125: {20: -53.249398479999996, 21: -53.27512900666667, 22: -53.016619909999996, 23: -47.84481621, 24: -51.911547829999996, 25: -47.13342797666667, 26: -49.9023994, 27: -46.885180283333334, 28: -49.11416179, 29: -46.038452310000004}, -17.1875: {20: -54.068942433333326, 21: -47.319340540000006, 22: -57.312571733333336, 23: -47.83536639333334, 24: -64.12390482, 25: -48.839846763333334, 26: -53.37338519333333, 27: -55.650691126666665, 28: -47.57614277333334, 29: -48.745738666666675}, -17.09375: {20: -46.103810323333335, 21: -45.08989588, 22: -50.547917000000005, 23: -47.031791840000004, 24: -47.70866273666667, 25: -47.24744704, 26: -52.83010295666667, 27: -50.72878836333334, 28: -45.148526059999995, 29: -51.65556049666666}, -17.0: {20: -51.781240516666664, 21: -53.913717606666665, 22: -49.13783098333334, 23: -52.02269446333333, 24: -51.26473776, 25: -49.05238867666666, 26: -51.27517359666667, 27: -55.7274486, 28: -49.42606029666666, 29: -48.403199289999996}, -16.90625: {20: -45.098680636666664, 21: -50.89340738666667, 22: -49.49818360999999, 23: -49.60070480666667, 24: -53.19494695, 25: -47.821737563333336, 26: -46.67946280666666, 27: -55.22422920333333, 28: -48.22317919666667, 29: -44.1923447}, -16.8125: {20: -45.27665645333334, 21: -44.283584543333326, 22: -43.964770646666665, 23: -42.48443498333334, 24: -48.978913760000005, 25: -40.49190040333334, 26: -55.11902369, 27: -43.82562357999999, 28: -43.92651533333333, 29: -45.23402967333334}, -16.71875: {20: -42.81976956666667, 21: -36.65728648333334, 22: -42.45987487666667, 23: -40.46110077666666, 24: -45.10612601333333, 25: -43.07887856333334, 26: -41.457560003333334, 27: -44.81982575333333, 28: -39.672874750000005, 29: -40.031719323333334}, -16.625: {20: -45.13888852, 21: -43.88352719666667, 22: -36.228942933333336, 23: -40.80733043333333, 24: -45.069392576666665, 25: -32.18017201666667, 26: -35.91632117333334, 27: -36.13735703333333, 28: -42.656136589999996, 29: -37.43764645666667}, -16.53125: {20: -34.97187601666666, 21: -38.28833365, 22: -41.824752589999996, 23: -35.28041633333333, 24: -34.97128071666666, 25: -35.29451108333333, 26: -38.13610429, 27: -38.339145210000005, 28: -35.71679199, 29: -31.08292256}, -16.4375: {20: -32.20792144333333, 21: -34.552914140000006, 22: -47.35415669666667, 23: -33.04215046666666, 24: -31.362271133333333, 25: -33.41318675666667, 26: -32.23560895, 27: -35.34714349, 28: -36.78132229999999, 29: -35.23586477999999}, -16.34375: {20: -32.69102547666667, 21: -33.10045921666667, 22: -31.15430437666667, 23: -45.51440244333333, 24: -33.01483249333334, 25: -34.90726761, 26: -34.60644397, 27: -35.28029278666667, 28: -39.805490576666664, 29: -30.95677258666667}, -16.25: {20: -32.65328204, 21: -35.703801950000006, 22: -29.8915822, 23: -30.97250726, 24: -33.14812481333333, 25: -32.99209044333333, 26: -28.230287233333332, 27: -31.782336516666664, 28: -27.441924506666666, 29: -29.97441179}, -16.15625: {20: -33.67372554333333, 21: -27.514304703333334, 22: -25.247964413333335, 23: -31.91832017666667, 24: -31.271023913333334, 25: -30.22597611666667, 26: -31.30433296, 27: -35.92825383666667, 28: -32.36004278666667, 29: -22.55810842}, -16.0625: {20: -30.235128680000003, 21: -31.531425963333334, 22: -37.82972542, 23: -30.071017076666664, 24: -31.952285436666667, 25: -30.081154343333335, 26: -32.072911690000005, 27: -35.524529726666664, 28: -32.53730033, 29: -25.904798683333336}, -15.96875: {20: -27.85027746333333, 21: -30.223244310000002, 22: -26.5953804, 23: -25.43074260666667, 24: -29.64770276666667, 25: -25.754711233333335, 26: -28.43329025, 27: -27.621098613333334, 28: -26.96625842, 29: -32.70117178}, -15.875: {20: -25.635331896666667, 21: -28.16312707, 22: -30.636149876666668, 23: -19.962042603333334, 24: -25.57082714666667, 25: -29.105110523333337, 26: -26.554050526666668, 27: -27.279511323333335, 28: -26.376546666666666, 29: -34.20369236}, -15.78125: {20: -27.619775416666666, 21: -20.611221193333332, 22: -24.971975213333334, 23: -21.519438089999998, 24: -34.28943547, 25: -26.094554650000003, 26: -33.318583096666664, 27: -23.918846513333335, 28: -21.697661006666664, 29: -26.626968963333336}, -15.6875: {20: -24.80830992, 21: -20.768755903333332, 22: -24.626571666666667, 23: -24.248132133333332, 24: -25.383208386666666, 25: -24.642300053333333, 26: -28.588568626666667, 27: -27.797385063333333, 28: -25.91973783666667, 29: -23.594142140000002}, -15.59375: {20: -22.045288596666666, 21: -22.11366786666667, 22: -23.767314733333333, 23: -21.976591799999998, 24: -24.55233358, 25: -20.303103696666668, 26: -26.22829405, 27: -25.86194276, 28: -21.34812375333333, 29: -24.48647817666667}, -15.5: {20: -25.166847966666666, 21: -35.46549757333333, 22: -28.573203773333333, 23: -29.551084043333333, 24: -34.13279876000001, 25: -18.12074502333333, 26: -27.020162586666668, 27: -25.83505540333333, 28: -20.98626502333333, 29: -23.841574480000002}, -15.40625: {20: -25.873021633333334, 21: -20.2936725, 22: -26.41072317, 23: -20.344793873333334, 24: -19.79603089, 25: -25.94455441, 26: -20.5086879, 27: -20.7006554, 28: -25.586372006666668, 29: -26.54290760666667}, -15.3125: {20: -26.927262086666662, 21: -23.191569183333332, 22: -27.05715302333333, 23: -23.834577143333334, 24: -26.515162903333334, 25: -25.775603379999996, 26: -23.357068299999998, 27: -20.201043673333334, 28: -23.064086333333336, 29: -23.032068316666667}, -14.75: {20: -23.04567554666667, 21: -16.962635329999998, 22: -17.24617436, 23: -18.095384453333335, 24: -19.787297906666666, 25: -26.531771646666666, 26: -25.15846073, 27: -20.06031211, 28: -19.64122612, 29: -20.636784236666667}, -14.65625: {20: -20.96188296, 21: -14.208325984999997, 22: -20.90668871, 23: -18.037333250000003, 24: -18.86640779, 25: -24.26087406666667, 26: -18.390543793333332, 27: -15.962975183333333, 28: -17.312469053333334, 29: -17.21765731666667}, -14.5625: {20: -20.496256813333332, 21: -19.54373524, 22: -16.799860463333335, 23: -20.26504435, 24: -24.589994116666663, 25: -16.854692166666666, 26: -20.94733086333333, 27: -18.35779123, 28: -17.604911953333332, 29: -16.412160713333332}, -14.46875: {20: -18.957653233333332, 21: -19.83847072333333, 22: -14.820663703333333, 23: -19.346606436666665, 24: -16.96107081, 25: -17.99733422, 26: -19.82215432, 27: -21.090364813333334, 28: -21.917653936666664, 29: -25.567377186666665}, -14.375: {20: -14.811784179999998, 21: -18.990049969999998, 22: -16.824997523333334, 23: -23.56373021333333, 24: -17.13652439333333, 25: -17.962201046666667, 26: -19.20957847, 27: -20.298771310000003, 28: -16.791294203333333, 29: -15.903127423333332}, -14.28125: {20: -20.69571627, 21: -15.536880526666666, 22: -20.407930656666668, 23: -15.00744008, 24: -24.719802303333335, 25: -19.559869983333332, 26: -18.229218063333334, 27: -19.97632645666667, 28: -18.530489766666665, 29: -19.950306273333336}, -13.53125: {20: -17.95535958666667, 21: -16.457176386666667, 22: -15.257121149999998, 23: -16.25377103, 24: -18.73157451333333, 25: -20.430525810000002, 26: -16.45630329, 27: -11.173826600666667, 28: -12.336944645333332, 29: -19.71409951}, -13.4375: {20: -13.86050004, 21: -17.323028250000004, 22: -12.107404672666668, 23: -11.198469343, 24: -24.153761553333336, 25: -14.471834693666667, 26: -13.74938751, 27: -15.28766249666667, 28: -24.068882773333332, 29: -19.09403423666667}, -13.34375: {20: -15.44592809333333, 21: -16.19491914, 22: -16.118869733333334, 23: -14.171209209666666, 24: -16.96467189, 25: -16.763882746666667, 26: -17.925832736666667, 27: -21.100557873333333, 28: -16.799098599, 29: -13.769591719333334}, -13.25: {20: -16.817118400000002, 21: -16.690203553333333, 22: -17.819585596666666, 23: -10.077536979, 24: -24.038874806666666, 25: -17.863431090000002, 26: -19.83391704, 27: -18.351367139999997, 28: -12.591025453333332, 29: -13.830080476666666}, -13.15625: {20: -15.675497406666665, 21: -19.08380946666667, 22: -12.090079605333335, 23: -12.490984023333333, 24: -16.595220216666664, 25: -18.699654836666667, 26: -13.747123293333331, 27: -14.853079693333333, 28: -22.081821886666663, 29: -15.649527373333333}, -13.0625: {20: -19.19037944, 21: -11.326918734333333, 22: -13.508985426666667, 23: -20.566555140000002, 24: -15.325936732333332, 25: -16.94328043, 26: -15.607582781666666, 27: -15.088081147333334, 28: -13.287548816, 29: -20.998613606666666}, -12.96875: {20: -16.863773143333333, 21: -22.90998589, 22: -13.846806723333335, 23: -8.799528140000001, 24: -13.378677496666667, 25: -14.178086506666666, 26: -21.071607596666666, 27: -19.860548166666664, 28: -16.2547623, 29: -12.519883479}, -12.875: {20: -16.12689344, 21: -12.217936067666665, 22: -11.879026237666666, 23: -15.985097739000002, 24: -16.85060680666667, 25: -15.424371556666665, 26: -16.071002033333333, 27: -24.884801890000002, 28: -12.276026786666668, 29: -14.317292426666668}, -12.78125: {20: -20.673400623333336, 21: -16.26086245666667, 22: -12.148240281333335, 23: -19.103333281999998, 24: -14.095775823333334, 25: -11.917105174, 26: -25.377256650000003, 27: -14.254539332666667, 28: -17.649609106666666, 29: -17.640534333999998}, -12.5: {20: -16.471045033333333, 21: -20.78584349666667, 22: -11.523138226666667, 23: -14.561391377, 24: -12.373663037999998, 25: -11.342455576, 26: -22.738105906666664, 27: -9.009042426666666, 28: -17.345881645000002, 29: -14.122164173333333}, -12.40625: {20: -15.50254568666667, 21: -14.440722163333334, 22: -14.748513330000002, 23: -14.278778179333335, 24: -23.637523783333336, 25: -11.015318459333335, 26: -16.91327674, 27: -10.597526806, 28: -15.412541946666666, 29: -9.530214069}, -12.3125: {20: -17.440337216666666, 21: -12.714608252666666, 22: -15.424687373333333, 23: -11.179550765, 24: -15.986596596666667, 25: -13.116587165333334, 26: -19.242352556666667, 27: -12.867277163333334, 28: -14.39075002, 29: -16.73084191}, -11.75: {20: -14.23661385, 21: -13.259807971666667, 22: -12.485318900000001, 23: -13.892582234, 24: -17.55854523, 25: -14.149179845999997, 26: -16.540819176666666, 27: -17.142425733333333, 28: -9.326392746, 29: -16.253586269}, -11.65625: {20: -16.57361727, 21: -9.387083254666669, 22: -11.260824294666667, 23: -20.778535559999998, 24: -12.426140576999998, 25: -9.023534916666668, 26: -19.932556469999998, 27: -9.054031084, 28: -14.998452492333334, 29: -9.871753382333333}, -11.5625: {20: -16.946630905, 21: -14.399218613333332, 22: -14.634091352, 23: -9.003177878, 24: -10.690341745, 25: -10.318518834, 26: -22.97383701, 27: -13.073097243333335, 28: -7.584523155333334, 29: -8.755576428333333}, -11.46875: {20: -16.14984363, 21: -11.265374842666667, 22: -6.901917110666666, 23: -13.488352963000002, 24: -15.058007776666665, 25: -11.166689278666666, 26: -11.352488396666667, 27: -13.064953961333336, 28: -16.991352263333336, 29: -10.084497392666666}, -11.375: {20: -11.082247190333334, 21: -13.367592968333332, 22: -18.076349673333336, 23: -13.606748103333333, 24: -13.484059416666668, 25: -10.022516453666666, 26: -9.87145689, 27: -7.520523603, 28: -19.280262883333332, 29: -8.079685826333334}, -11.28125: {20: -17.369257553333334, 21: -9.691058371333334, 22: -16.683997423333334, 23: -10.730390090666667, 24: -14.950190372, 25: -11.107169517666668, 26: -16.8841634, 27: -16.002286747333333, 28: -10.870737202333332, 29: -12.613206764}, -11.1875: {20: -12.078714307666667, 21: -11.308241984, 22: -13.641091556666666, 23: -10.406818781666667, 24: -12.791628133333333, 25: -11.519617504333334, 26: -16.77725033666667, 27: -17.782597570000004, 28: -12.063666493, 29: -14.044330623333332}, -11.09375: {20: -15.980185452666667, 21: -10.927684951000002, 22: -9.861365215, 23: -10.080157074, 24: -12.726002933333334, 25: -14.532579276666667, 26: -21.292291289999998, 27: -8.497100304333333, 28: -18.218930243333332, 29: -11.136884797666667}, -11.0: {20: -15.612563844666667, 21: -16.884870456666665, 22: -9.225452906333333, 23: -12.765117646666667, 24: -11.640455857, 25: -21.299763256333335, 26: -9.703487576999999, 27: -14.021651159666668, 28: -9.51305418, 29: -16.853228903333335}, -10.90625: {20: -16.422301739999998, 21: -12.966924783666665, 22: -10.026015526333333, 23: -21.77028083733333, 24: -13.550632189, 25: -10.836976025, 26: -13.101173073333333, 27: -9.893452641000001, 28: -16.315593056666668, 29: -11.556780628333334}, -10.8125: {20: -10.522899758333333, 21: -7.847710486333334, 22: -13.88369984, 23: -5.480800542666667, 24: -12.273010271666665, 25: -15.294509056666667, 26: -13.198092146666667, 27: -11.773819769666666, 28: -10.380431748666668, 29: -7.448557359666666}, -10.71875: {20: -17.728547752333334, 21: -18.203523893333333, 22: -10.698001938666666, 23: -7.110206686999999, 24: -18.151180904, 25: -13.115946566666667, 26: -19.28530933, 27: -11.728073388666665, 28: -10.335534315999999, 29: -12.193301040333333}, -10.625: {20: -8.503590112, 21: -16.466143244333335, 22: -9.497614786000002, 23: -14.567788573333333, 24: -17.156742663333333, 25: -13.808368452000002, 26: -8.618434702666667, 27: -14.081379171999998, 28: -7.211322180000001, 29: -14.275677113}, -10.53125: {20: -12.651180306666665, 21: -12.038555010666668, 22: -11.91527884, 23: -12.020679969, 24: -12.333051130000001, 25: -11.678662144666667, 26: -13.252501421666667, 27: -12.801721212666665, 28: -12.454228113666666, 29: -9.011577303333333}, -10.4375: {20: -6.9701466173333335, 21: -15.507241041, 22: -14.176604984333332, 23: -8.382295655666667, 24: -9.917569967333334, 25: -11.715759821666666, 26: -15.233579704666669, 27: -7.4142483383333335, 28: -10.610508442666665, 29: -6.7892954696666665}, -10.34375: {20: -11.954143236, 21: -10.316947652, 22: -9.37644574, 23: -15.010532323000001, 24: -13.530509228333335, 25: -9.259789811666666, 26: -8.710278543666666, 27: -9.844364793333334, 28: -14.866273531333333, 29: -21.570315563333335}, -10.25: {20: -24.221421496666665, 21: -6.503958551333334, 22: -8.870939763666668, 23: -8.143251404333334, 24: -19.686871780999997, 25: -10.178231217999999, 26: -14.931032523333334, 27: -13.677709376666668, 28: -12.960228049666666, 29: -9.449063728333334}, -10.15625: {20: -15.83052541, 21: -15.508635983333335, 22: -5.935326705666667, 23: -10.549076016, 24: -17.986859513333332, 25: -10.774067638, 26: -10.494671689666667, 27: -6.503961716666667, 28: -7.994333367666667, 29: -13.236510482666668}, -10.0625: {20: -14.752874685666669, 21: -10.449308292666666, 22: -15.090116049333332, 23: -8.738921759, 24: -10.961630421999999, 25: -13.677697730666667, 26: -17.255980903333334, 27: -15.304810636666666, 28: -8.310597710000001, 29: -12.86250819}, -9.6875: {20: -10.447927533, 21: -11.625220917999998, 22: -12.087305146666665, 23: -22.318007806666667, 24: -11.949571473333334, 25: -15.204782776666667, 26: -16.691993613666664, 27: -8.978613740666667, 28: -12.228301412666667, 29: -13.137840973666668}, -9.59375: {20: -18.736232479999998, 21: -13.750276030333334, 22: -9.730379908333333, 23: -11.328409376000002, 24: -12.992139265666665, 25: -10.164289063333333, 26: -11.231482976, 27: -8.396136745333333, 28: -17.502999356666667, 29: -6.137063924333333}, -9.5: {20: -14.015752086666666, 21: -8.292000631333332, 22: -5.5422889326666676, 23: -14.908651996666665, 24: -13.541480484, 25: -6.027486594333333, 26: -14.012227546666667, 27: -16.157456016666668, 28: -12.843124609333332, 29: -10.274769490666666}, -9.125: {20: -14.548629980000001, 21: -9.586931392333334, 22: -7.129327229666667, 23: -11.467598297999999, 24: -16.905409497666668, 25: -10.684739685666665, 26: -13.299497793333336, 27: -12.289104642333335, 28: -13.363204030666667, 29: -14.533678503333334}, -9.03125: {20: -15.925974797, 21: -8.853880643666667, 22: -8.303893967999999, 23: -15.282940520000002, 24: -19.44769487666667, 25: -10.428925412333333, 26: -11.241206575, 27: -25.28112070666667, 28: -6.910247638, 29: -8.847914950333333}, -8.9375: {20: -14.172153833333335, 21: -12.332571496666667, 22: -15.027708040000002, 23: -10.642986455333334, 24: -9.087306587999999, 25: -12.08449432, 26: -13.552809706666666, 27: -14.64399802, 28: -11.222642508333335, 29: -9.435608879}, -8.84375: {20: -17.061939053333333, 21: -8.332904863666668, 22: -14.115194765333333, 23: -8.694022345333332, 24: -11.995438356666666, 25: -9.734005411666667, 26: -9.511869166, 27: -14.368301453333336, 28: -14.638382130333332, 29: -14.20550118233333}, -8.75: {20: -7.729058520333333, 21: -14.039170986666667, 22: -14.306762359333334, 23: -11.301423518666667, 24: -10.492939590666667, 25: -13.693475636666667, 26: -14.119903488, 27: -15.467184796, 28: -14.278211897666667, 29: -13.201798710333335}, -8.65625: {20: -10.880502700333333, 21: -12.680118551000001, 22: -11.671374140333333, 23: -7.672869665666667, 24: -17.056527937000002, 25: -6.1332679610000005, 26: -13.308924288666667, 27: -13.983899006666666, 28: -10.102697911333332, 29: -7.932466445333334}, -8.46875: {20: -11.555187839333334, 21: -17.097324458, 22: -20.947947733333333, 23: -14.896210968, 24: -15.937909061666668, 25: -9.840446078333335, 26: -9.532836596666668, 27: -13.522307166666666, 28: -15.210189506666666, 29: -11.855741953666666}, -8.375: {20: -13.841661369999999, 21: -8.162095776333333, 22: -13.953821016666666, 23: -6.163714764000001, 24: -18.73085381, 25: -14.273325997333332, 26: -14.173713166666667, 27: -6.216312472333333, 28: -10.881385543333336, 29: -14.83488475}, -8.28125: {20: -22.040274776333334, 21: -9.325598958333334, 22: -6.865107296999999, 23: -14.799664479999999, 24: -7.718445167, 25: -15.634743723333335, 26: -10.811851928000001, 27: -6.732622446666667, 28: -12.522200575666666, 29: -10.488482822333333}, -8.1875: {20: -11.878116843666666, 21: -13.924360571333333, 22: -7.364813572666667, 23: -10.684418265, 24: -11.872966232000001, 25: -10.422713249666666, 26: -10.270412606666667, 27: -8.433250346333333, 28: -8.650232627333335, 29: -11.940549470333332}, -8.09375: {20: -12.042201335333333, 21: -7.062062854333333, 22: -8.154157160333334, 23: -13.172995043333335, 24: -9.173053525666667, 25: -10.936219620333333, 26: -13.803207628333332, 27: -12.500510114666668, 28: -8.769768419, 29: -10.882170382333333}, -8.0: {20: -11.631390425333334, 21: -8.184440726666667, 22: -17.987557366666667, 23: -8.285454855333334, 24: -11.529280107333335, 25: -9.817845946, 26: -17.23309666, 27: -9.155014272666666, 28: -16.70430489, 29: -7.9344048670000005}, -7.90625: {20: -13.737588266666668, 21: -17.335545282666665, 22: -11.022977875333332, 23: -12.159964935, 24: -14.035513688333333, 25: -5.928666056, 26: -14.884017053333332, 27: -13.925330023333332, 28: -9.179547115, 29: -11.821578243666666}, -7.8125: {20: -10.775067858666667, 21: -16.119969113333333, 22: -9.691270211333334, 23: -6.706575208, 24: -11.972891229, 25: -8.075959321666668, 26: -13.674549129999997, 27: -11.625412356666667, 28: -7.775235249666667, 29: -10.918954421333334}, -7.53125: {20: -16.289228316666666, 21: -12.424762085000003, 22: -12.75324501, 23: -15.259079626666667, 24: -17.649485822, 25: -9.067629185666666, 26: -9.583595256666667, 27: -8.727761888, 28: -6.507714454666666, 29: -13.392333565333333}, -7.4375: {20: -13.843316729666668, 21: -10.040766246666667, 22: -12.623729671, 23: -9.939739351999998, 24: -7.143045325666667, 25: -5.228170057, 26: -16.720511344, 27: -10.704935235999999, 28: -17.109733974666668, 29: -17.832042314333336}, -7.34375: {20: -13.571349716666667, 21: -10.473434509, 22: -8.685223455666666, 23: -12.178806640333335, 24: -17.29143469, 25: -16.423528089333335, 26: -11.806598851666669, 27: -12.548049166666667, 28: -8.638194301333334, 29: -9.238530132666666}, -7.25: {20: -9.553195095666666, 21: -8.253693653, 22: -6.972510506, 23: -12.440593122666664, 24: -11.00899852, 25: -12.281964754, 26: -12.704816737666667, 27: -10.399845075, 28: -11.920833971, 29: -8.164733456}, -7.15625: {20: -11.364930757000002, 21: -13.49633617, 22: -9.903394441666668, 23: -11.748078034, 24: -12.36040769, 25: -6.500067149, 26: -13.222667093333333, 27: -10.477858788, 28: -14.336429193333336, 29: -12.319992783333333}, -7.0625: {20: -13.946370402333335, 21: -7.932482912666665, 22: -18.142260936666666, 23: -8.419622621333334, 24: -10.821894565, 25: -15.51032188, 26: -8.389839402, 27: -17.637903286666667, 28: -12.969433298, 29: -10.051396914333333}, -6.96875: {20: -9.567962334333332, 21: -8.920427064, 22: -12.581039496, 23: -7.969496175666667, 24: -12.325964454666668, 25: -12.277742279666668, 26: -18.200468793333332, 27: -10.569065201333332, 28: -10.060121118666666, 29: -5.944333226666667}, -6.875: {20: -14.114688431333335, 21: -11.944078692666666, 22: -7.2684170366666665, 23: -10.417428146, 24: -9.50819483, 25: -8.543085829333334, 26: -11.358698447, 27: -12.068795364000001, 28: -8.593467726999998, 29: -12.466590713999999}, -6.59375: {20: -6.611953979, 21: -4.781015036333334, 22: -7.484956563666667, 23: -8.579942099999998, 24: -11.481969027333335, 25: -6.977439277333333, 26: -13.160089051666665, 27: -11.107271184333333, 28: -8.347988041333332, 29: -18.663256756666666}, -6.5: {20: -13.678866522666667, 21: -8.184725410666667, 22: -12.394918843333334, 23: -12.307601689333334, 24: -12.464843543666667, 25: -7.547363969, 26: -9.116594298, 27: -8.729077333, 28: -14.20056311, 29: -7.717243821666667}, -6.40625: {20: -7.847006301666667, 21: -9.722009967666667, 22: -7.563255436333333, 23: -10.574922671333333, 24: -11.975788451333335, 25: -13.099000948666665, 26: -12.27604825, 27: -9.285518073333334, 28: -13.437349831, 29: -10.993163930000001}, -6.3125: {20: -12.450540096333334, 21: -8.485009312666667, 22: -17.82291354666667, 23: -18.667106726666667, 24: -11.293479710333335, 25: -12.982924688333334, 26: -15.184013807666666, 27: -6.8449631423333335, 28: -14.514396263333332, 29: -15.922044516666666}, -6.21875: {20: -13.729331306666666, 21: -9.692875039666667, 22: -13.581991797333332, 23: -9.112131074333334, 24: -9.959708245333333, 25: -13.308871605333332, 26: -16.41558305, 27: -11.513780187, 28: -15.921275468333333, 29: -9.676118522333333}, -6.125: {20: -15.115102826666666, 21: -6.794005606666666, 22: -12.030615583333335, 23: -7.170471511666668, 24: -14.993639396666666, 25: -10.416353045000001, 26: -12.641146180666667, 27: -13.575088343333334, 28: -9.560233674333332, 29: -6.4755761750000005}, -6.03125: {20: -8.743785302, 21: -10.661876881333333, 22: -11.538938836666667, 23: -4.864773651999999, 24: -9.278896725333333, 25: -14.134948128666665, 26: -11.523901467666667, 27: -8.717489218333332, 28: -10.951262503666667, 29: -4.667736272}, -5.9375: {20: -10.638066649333334, 21: -10.165181377666668, 22: -11.302040212666668, 23: -14.707354840999999, 24: -7.894981788666667, 25: -9.410631250333333, 26: -15.367364557666667, 27: -13.923114077333333, 28: -7.788752501333334, 29: -9.900343439666667}, -5.84375: {20: -13.337925182666666, 21: -9.926255184333334, 22: -6.173557938999999, 23: -15.790130520333333, 24: -14.740224123666664, 25: -7.062982131666668, 26: -10.358136743333333, 27: -10.734137974333331, 28: -11.078322922666667, 29: -8.725021479}, -5.75: {20: -6.977711553333333, 21: -7.969888173666667, 22: -6.092174754999999, 23: -7.8063760056666665, 24: -9.616124705666666, 25: -6.388283367, 26: -14.089248653333334, 27: -9.783318492666668, 28: -19.44966901, 29: -7.163499279}, -5.65625: {20: -16.680805604, 21: -5.268548658, 22: -7.452498280666667, 23: -6.476686520333334, 24: -11.244052443666668, 25: -10.979893561333332, 26: -9.986884114, 27: -12.983727683, 28: -10.356222381666667, 29: -13.262303778666668}, -5.5625: {20: -10.594692474666667, 21: -9.264473121, 22: -15.839911483333333, 23: -12.374890485333333, 24: -16.241732286666664, 25: -6.954047829333334, 26: -13.20017716, 27: -18.322045516666666, 28: -10.640306603333334, 29: -11.369289799333336}, -5.46875: {20: -8.728576182666666, 21: -10.810798172333334, 22: -7.083849720333333, 23: -9.369762649, 24: -15.816953533333333, 25: -15.979993110666669, 26: -14.639214146666667, 27: -15.912276766666666, 28: -20.390630056666666, 29: -5.143799469666667}, -5.375: {20: -8.423442882, 21: -11.214563378333333, 22: -8.465102797666667, 23: -8.870161406333333, 24: -13.130050033333333, 25: -10.542641404333333, 26: -13.921726979999997, 27: -13.073632542333334, 28: -4.466604334666667, 29: -7.731515795333333}, -5.28125: {20: -11.041980792333334, 21: -14.032595903333332, 22: -8.141019584666667, 23: -14.644212547666669, 24: -12.832134948999999, 25: -10.313762032666668, 26: -9.661336562666667, 27: -9.187223658999999, 28: -17.04995889, 29: -14.483677033333331}, -5.1875: {20: -12.510342940333333, 21: -6.021404187999999, 22: -9.487405129666667, 23: -9.037559045666667, 24: -9.358066773666668, 25: -11.72918273, 26: -13.493222731666668, 27: -7.367876859666667, 28: -7.28545974, 29: -11.795466607}, -5.09375: {20: -9.157729658666666, 21: -8.363111353333334, 22: -12.587724440666667, 23: -8.984945782, 24: -16.862501013333333, 25: -10.277601889, 26: -11.493720364666666, 27: -10.030771324666667, 28: -18.807544843333332, 29: -7.442784789000001}, -4.25: {20: -8.980527915333333, 21: -10.665396996333333, 22: -10.748871756666666, 23: -16.596887476666666, 24: -6.854860691666667, 25: -20.811054513333335, 26: -18.227320613333333, 27: -13.477237126666665, 28: -13.527485985, 29: -9.318382218}, -4.15625: {20: -24.51109733333333, 21: -12.720495420666666, 22: -5.688242315666667, 23: -11.465495758333333, 24: -15.490981746666668, 25: -7.592636909666666, 26: -11.640575074666666, 27: -9.264296435666667, 28: -15.808064623333332, 29: -9.665729189666665}, -4.0625: {20: -13.309418403666667, 21: -9.621211404999999, 22: -9.708872806, 23: -6.149408326, 24: -7.698909877333334, 25: -12.663766730666666, 26: -10.593999519666665, 27: -9.079917995333334, 28: -11.670954569000001, 29: -9.821543196666667}, -3.96875: {20: -9.179038926, 21: -13.585548505333334, 22: -11.365853449, 23: -13.497071552333333, 24: -8.274428430333332, 25: -7.551457930000001, 26: -10.272274414, 27: -11.140736157666666, 28: -14.240779795333333, 29: -16.292211410666667}, -3.875: {20: -7.120136810999999, 21: -8.872078041333333, 22: -4.974830760000001, 23: -11.887968979999998, 24: -11.008859183666667, 25: -10.051382873666666, 26: -16.433832696666666, 27: -8.556668705666667, 28: -9.559249211, 29: -14.469684623333334}, -3.78125: {20: -12.339574834999999, 21: -14.65817529, 22: -17.760390427999997, 23: -8.936702659, 24: -13.469498223333332, 25: -12.421145044666668, 26: -13.23530695, 27: -7.886361529000001, 28: -10.281361150333334, 29: -6.814383368333334}, -3.6875: {20: -16.471604743, 21: -8.706343738333333, 22: -11.795397419333334, 23: -9.358250201666667, 24: -21.061450816666667, 25: -9.261365610666667, 26: -14.076839227333336, 27: -11.066249575999999, 28: -9.883087618333333, 29: -12.308184343333332}, -3.59375: {20: -7.742560720999999, 21: -9.962914164333334, 22: -8.457284163, 23: -9.651137186333331, 24: -9.718279034333333, 25: -15.595648823333335, 26: -22.475152316666666, 27: -14.267897918333333, 28: -11.275261056666665, 29: -5.763316289}, -3.5: {20: -9.650519617, 21: -8.601870412666667, 22: -13.181098664000002, 23: -9.524341176666667, 24: -16.717115153333335, 25: -13.639799144999998, 26: -11.043021077, 27: -12.747200139666667, 28: -13.76854941, 29: -8.157774700333334}, -3.40625: {20: -12.923328445666664, 21: -18.748747496666667, 22: -14.041358577666665, 23: -10.372257272666666, 24: -8.655664617666666, 25: -9.348558999333333, 26: -15.411073568333334, 27: -9.659855622333334, 28: -11.156720471333335, 29: -6.4711761066666655}, -3.3125: {20: -10.295206810666667, 21: -8.250223865, 22: -20.03509577666667, 23: -7.315038703000002, 24: -15.287747896666668, 25: -11.473625013666664, 26: -12.393325518333333, 27: -9.877987632, 28: -11.288202743333335, 29: -12.955104997}, -3.21875: {20: -18.123293956666668, 21: -13.781565963333334, 22: -14.589381323333333, 23: -15.641333026666667, 24: -20.991960376666665, 25: -12.820267983333332, 26: -13.194970516666666, 27: -18.01967697666667, 28: -21.324655133333334, 29: -6.229234748333333}, -3.125: {20: -14.15390658, 21: -11.427599976666668, 22: -8.562641458, 23: -16.072849065333333, 24: -8.307318703333333, 25: -8.763821113, 26: -14.380247526666667, 27: -13.971997635, 28: -14.091607629999999, 29: -7.364973126}, -2.65625: {20: -15.046348673333334, 21: -10.792115418333333, 22: -9.742170973, 23: -6.407126932000001, 24: -14.927104808333334, 25: -18.16287617, 26: -11.197410563, 27: -10.313241718333332, 28: -16.233524276666667, 29: -6.102405389666667}, -2.5625: {20: -17.541863746666667, 21: -10.379303977, 22: -9.792455079666667, 23: -8.834652228666668, 24: -11.141749659333334, 25: -8.503962013333334, 26: -14.154681152666667, 27: -18.930779426666668, 28: -12.696693836666668, 29: -9.767722480000002}, -2.46875: {20: -8.570069547666668, 21: -8.646644851, 22: -10.751455889333334, 23: -9.457601918, 24: -9.270827738666666, 25: -8.462876689666667, 26: -9.997536230666666, 27: -10.685412697333334, 28: -9.168686518, 29: -8.113290590333333}, -2.375: {20: -21.637157673333334, 21: -9.263715888333333, 22: -14.861722332, 23: -9.15325843, 24: -17.775810413333335, 25: -13.77187999, 26: -8.902232974333332, 27: -11.18009601, 28: -9.585489169666667, 29: -4.6525576456666675}, -2.28125: {20: -9.525967977666667, 21: -11.154786883333335, 22: -21.580317946666668, 23: -11.727628970333333, 24: -11.277689849666666, 25: -14.685810899666668, 26: -9.728482227666667, 27: -12.693757753999998, 28: -21.877437049999997, 29: -12.345405034666667}, -2.1875: {20: -12.6080392, 21: -12.050633821333335, 22: -8.853952338666668, 23: -12.347716946, 24: -12.103303638, 25: -13.30591702, 26: -10.131881574666666, 27: -11.093017352666669, 28: -8.976602549, 29: -16.586940469}, -2.09375: {20: -8.397866298333334, 21: -7.863496018333334, 22: -7.985811058666667, 23: -6.483349280333333, 24: -10.006613512333333, 25: -6.219115527, 26: -11.114847979666665, 27: -12.418836997333335, 28: -11.055998901999999, 29: -19.378851946666668}, -2.0: {20: -13.244936611333335, 21: -10.473399259666667, 22: -16.848174874666665, 23: -17.09317734, 24: -11.221294514333332, 25: -9.577777868333333, 26: -16.450240096666665, 27: -11.885996611000001, 28: -9.911807648666667, 29: -9.269945265333332}, -1.90625: {20: -11.125999591000001, 21: -8.805605869333334, 22: -11.862195397, 23: -9.266187176333332, 24: -12.897015564, 25: -9.54348768, 26: -13.300686383333334, 27: -8.083927834666666, 28: -5.399611727666667, 29: -10.903798123666666}, -1.8125: {20: -13.105632276666668, 21: -7.331280413000001, 22: -13.736948353333332, 23: -5.665924192000001, 24: -8.520662513, 25: -14.218160156666665, 26: -11.181572314666667, 27: -10.781083157666666, 28: -6.7078659793333335, 29: -17.498105853}, -1.71875: {20: -9.763090156333334, 21: -12.75631329, 22: -11.320918671666666, 23: -7.9382002746666664, 24: -13.658239240999999, 25: -9.472198268666666, 26: -13.82313859, 27: -7.459432813666666, 28: -14.021983521666668, 29: -7.788967036999999}, -1.625: {20: -11.427068351333332, 21: -4.4330952366666665, 22: -9.239936041666667, 23: -11.70599146, 24: -9.724461879000001, 25: -8.628800906333334, 26: -14.221908026, 27: -11.637266269666668, 28: -7.806061567333333, 29: -11.854728958}, -1.4375: {20: -12.837371214333333, 21: -20.11550796366667, 22: -9.268927918000001, 23: -10.779508223, 24: -15.554087844666668, 25: -10.699714846666666, 26: -16.69987511, 27: -7.801734098333334, 28: -11.150020912, 29: -12.870143383333334}, -1.34375: {20: -22.065481876666666, 21: -13.425755645333334, 22: -7.799368699666668, 23: -6.426471942333333, 24: -12.088259456666668, 25: -10.727098149999998, 26: -8.700770339333333, 27: -12.659718947, 28: -15.710121056666667, 29: -6.3079208893333325}, -0.96875: {20: -19.11177532, 21: -10.117268821333335, 22: -6.003693151666667, 23: -21.702789383666666, 24: -7.319134412666666, 25: -15.385175257999999, 26: -9.348756219333334, 27: -9.876165031333333, 28: -9.444953281666665, 29: -7.798046120333333}, -0.875: {20: -13.555254488333333, 21: -11.390373743, 22: -16.176756720333334, 23: -8.962432641, 24: -14.768464380000003, 25: -14.061882126666665, 26: -12.251637028666666, 27: -7.563569236333334, 28: -7.540592399333334, 29: -6.824384001666666}, -0.78125: {20: -14.720393364333333, 21: -13.628472755999999, 22: -12.344692416666668, 23: -15.513925978666668, 24: -10.446590156666668, 25: -5.210430994333334, 26: -12.877363621333332, 27: -10.485073851000001, 28: -10.511688573666666, 29: -8.837514721333333}, -0.3125: {20: -12.625041042666666, 21: -14.508197761, 22: -12.022203886666667, 23: -9.725496731666667, 24: -7.383844579999999, 25: -9.489634885333333, 26: -13.055819503333334, 27: -19.938058796666667, 28: -7.368887048, 29: -8.442565414666667}, -0.21875: {20: -15.548082410000001, 21: -12.032883403666668, 22: -9.95989968, 23: -7.373610250333333, 24: -19.223795969333334, 25: -4.998584216666667, 26: -10.412358974333333, 27: -6.169763884333334, 28: -7.880456439666666, 29: -4.489381455666666}, -0.125: {20: -9.568904222666667, 21: -10.384929643666666, 22: -12.826993706666665, 23: -15.807811690000001, 24: -18.187497113333333, 25: -12.669665664666667, 26: -12.132234332000001, 27: -15.790380893333333, 28: -14.104560946666666, 29: -8.836868626666666}, -0.03125: {20: -12.286102802000002, 21: -12.035200017333333, 22: -12.606906033333333, 23: -15.006946343666668, 24: -9.499396386333334, 25: -12.615405939333334, 26: -10.322924573333333, 27: -10.733171921666667, 28: -13.44633064, 29: -7.142746375000001}}, {'sampleid': {20: 21, 21: 22, 22: 23, 23: 24, 24: 25, 25: 26, 26: 27, 27: 28, 28: 29, 29: 30}, 'Channels': {20: 1, 21: 1, 22: 1, 23: 1, 24: 1, 25: 1, 26: 1, 27: 1, 28: 1, 29: 1}, 'Distance_km': {20: 200, 21: 200, 22: 200, 23: 200, 24: 200, 25: 200, 26: 200, 27: 200, 28: 200, 29: 200}, 'power_dBm': {20: -2, 21: -2, 22: -2, 23: -2, 24: -2, 25: -2, 26: -2, 27: -2, 28: -2, 29: -2}, '#node': {20: 3, 21: 3, 22: 3, 23: 3, 24: 3, 25: 3, 26: 3, 27: 3, 28: 3, 29: 3}, 0.0625: {20: -8.805999011333332, 21: -10.706380214, 22: -8.371006041, 23: -13.429858445, 24: -17.246837093333333, 25: -16.359097152, 26: -15.258472368333335, 27: -4.357836239, 28: -21.723954756666668, 29: -4.983943093333334}, 0.15625: {20: -13.053536613666665, 21: -6.797107550333334, 22: -10.312030913666668, 23: -11.190923214, 24: -10.383987753333335, 25: -10.067563107666667, 26: -10.841523127, 27: -10.097698333333332, 28: -13.72407254, 29: -12.102676363333336}, 0.25: {20: -15.483910136666665, 21: -11.230023163666667, 22: -13.44894638, 23: -5.180209120233333, 24: -9.621345621333333, 25: -10.767919404333332, 26: -12.965189313333333, 27: -9.757775660666667, 28: -9.802814322, 29: -13.45893752}, 0.34375: {20: -6.464465924999999, 21: -8.900493681333332, 22: -12.416455493333336, 23: -11.307385346666665, 24: -8.433487135333335, 25: -4.130598824333333, 26: -11.419140497666667, 27: -10.932753590333334, 28: -13.54931738, 29: -12.237423650000002}, 0.4375: {20: -15.225179449, 21: -16.411587808, 22: -10.117799213, 23: -7.6004924743333335, 24: -11.230663392333334, 25: -12.709638404666668, 26: -6.984874384666668, 27: -14.461861986666667, 28: -12.002984813333333, 29: -8.224029383666666}, 0.53125: {20: -11.345857349999998, 21: -7.156870783, 22: -10.48912844, 23: -17.164569863333334, 24: -13.912456036666667, 25: -9.416574082333334, 26: -16.160125446666665, 27: -8.274101773333333, 28: -15.114780563333333, 29: -8.841681412333333}, 0.625: {20: -10.325509657333333, 21: -9.502436085000001, 22: -10.690700904666665, 23: -5.403446514, 24: -11.248610491333332, 25: -7.983865834666666, 26: -13.41045654, 27: -9.552700731333333, 28: -8.476681791333334, 29: -6.269454298666666}, 0.71875: {20: -13.043786519333333, 21: -15.6687558, 22: -19.248446236666666, 23: -13.702845208333335, 24: -6.918251479666668, 25: -16.60638031666667, 26: -14.243583386666666, 27: -9.362684167, 28: -6.6387530969999995, 29: -8.863525641}, 0.8125: {20: -18.341480421333333, 21: -8.393515583333334, 22: -12.635824214333335, 23: -14.384361004333334, 24: -12.163547064, 25: -8.939888136999999, 26: -26.022120623333333, 27: -12.21011083, 28: -11.208433007000002, 29: -14.372319896666667}, 0.90625: {20: -7.504808440000001, 21: -8.131250733666667, 22: -8.734481565000001, 23: -11.784913638, 24: -13.252043126666665, 25: -13.964419288333334, 26: -12.371873450666667, 27: -7.218671371, 28: -8.973336623, 29: -9.592134837666666}, 1.0: {20: -10.691910338999998, 21: -9.947037722, 22: -10.529596577, 23: -4.686937034, 24: -12.232703514333332, 25: -16.367906659, 26: -12.983421686666667, 27: -12.341101827666668, 28: -14.154135640666667, 29: -15.319138683}, 1.09375: {20: -16.86683115, 21: -6.936643697666667, 22: -9.083430828666666, 23: -13.720594059, 24: -10.380945204, 25: -10.816225151, 26: -12.561617896333333, 27: -11.254214288333332, 28: -12.340168273000002, 29: -15.0507528}, 1.1875: {20: -12.632095259666668, 21: -16.009301646666668, 22: -15.394536743333333, 23: -11.434074136333331, 24: -8.472585649333332, 25: -9.199434280333334, 26: -14.985803902999999, 27: -8.599854416333333, 28: -14.195056563333333, 29: -12.845205707}, 1.28125: {20: -11.922940054, 21: -19.616699990666664, 22: -10.186291389666666, 23: -7.5926466533333326, 24: -13.990613258333333, 25: -18.27306730666667, 26: -17.090081576666666, 27: -8.204574753333333, 28: -10.881817492666665, 29: -13.165532071333333}, 1.375: {20: -11.539106949, 21: -12.482475823666666, 22: -8.378583630666666, 23: -7.004887467333333, 24: -12.010140798, 25: -7.811065986, 26: -8.408588554333333, 27: -11.194804200333332, 28: -6.075339871333334, 29: -8.162910571}, 1.46875: {20: -10.606485194666666, 21: -13.265791182333336, 22: -11.561791299, 23: -10.367195167666667, 24: -8.333600499000001, 25: -5.246754366266667, 26: -16.01870655, 27: -7.789228842, 28: -11.970801606666667, 29: -6.890820972}, 1.5625: {20: -5.747978141, 21: -7.58302487, 22: -7.020907568333333, 23: -11.852061217, 24: -11.424854606666665, 25: -15.084989494333334, 26: -9.601776638333334, 27: -13.386590379, 28: -12.851723486666666, 29: -9.165206514}, 1.65625: {20: -11.470554861333332, 21: -18.459732847666668, 22: -16.573021136666668, 23: -9.804179101999999, 24: -15.771988426666667, 25: -7.118251729000001, 26: -16.847024416666667, 27: -14.355874776666667, 28: -12.707510279333334, 29: -10.657240544666667}, 1.75: {20: -8.814789301666666, 21: -12.499911278333334, 22: -6.118338011666666, 23: -6.170459377, 24: -14.642100636666667, 25: -12.716818932, 26: -14.664612109333333, 27: -13.586897966666667, 28: -11.191883510000002, 29: -13.726367584666667}, 1.84375: {20: -8.11943255, 21: -13.051264417333334, 22: -12.897073069666666, 23: -9.110156934, 24: -13.102456389000002, 25: -9.681306674333333, 26: -11.510337923333333, 27: -12.961276007666667, 28: -12.363844877666667, 29: -11.404391692666666}, 1.9375: {20: -10.264174422333333, 21: -14.619765427666666, 22: -8.708120751333333, 23: -12.071804700000001, 24: -10.528334973333335, 25: -10.380055191, 26: -16.115142733333332, 27: -8.644509847333333, 28: -7.918492188666668, 29: -14.52776478}, 2.03125: {20: -9.306068858333333, 21: -10.916423146999998, 22: -11.205613137, 23: -11.256956089666666, 24: -14.089353633333333, 25: -11.216941899666667, 26: -10.790973551, 27: -8.481733049, 28: -9.627097033333333, 29: -11.847796755}, 2.125: {20: -14.046963180666665, 21: -11.930788233000001, 22: -17.66765614866667, 23: -8.906842458666667, 24: -9.170269232666666, 25: -7.273484799666666, 26: -12.216211793, 27: -10.094140824999998, 28: -12.986225522666667, 29: -5.216876391666666}, 2.21875: {20: -8.797434855, 21: -4.949667709, 22: -8.625559335, 23: -10.042325057333334, 24: -9.784562742666667, 25: -7.238234710666667, 26: -9.796588008333332, 27: -15.326760972, 28: -11.383650328666667, 29: -10.853319059333332}, 2.3125: {20: -13.200340193666667, 21: -11.472497689999999, 22: -11.479439136333333, 23: -12.604947159333335, 24: -8.956023916666666, 25: -10.147948274333332, 26: -12.689931255666666, 27: -15.144064890000001, 28: -18.40565111, 29: -10.207971438666666}, 2.40625: {20: -8.49469304, 21: -9.363890457333333, 22: -12.484132766666667, 23: -11.010724506333332, 24: -12.786467613333334, 25: -10.098129976000001, 26: -14.860570526333333, 27: -24.83975476, 28: -12.067431060666669, 29: -16.532740963333335}, 2.5: {20: -15.218047709999999, 21: -6.641036878333334, 22: -13.613169318333334, 23: -7.758495481333334, 24: -12.041558381666666, 25: -11.430719069333335, 26: -15.758701643333334, 27: -10.245090570999999, 28: -12.394036094666667, 29: -8.681170155666667}, 2.59375: {20: -9.200220857, 21: -9.283620091666666, 22: -18.18402066, 23: -8.451806087666666, 24: -13.33687052, 25: -12.962068633333333, 26: -16.100666319, 27: -11.133363853333334, 28: -9.534096755, 29: -9.442846392666667}, 2.6875: {20: -11.507953613666666, 21: -9.356151306666666, 22: -7.996559098333333, 23: -10.218016263566668, 24: -14.164210500000001, 25: -9.972318156666667, 26: -11.983636966666666, 27: -10.498547431666667, 28: -15.17135418, 29: -5.338069475}, 2.875: {20: -16.542512093333333, 21: -14.212558860000001, 22: -15.769525693333334, 23: -21.255679722666667, 24: -12.13194039266667, 25: -9.817633141333333, 26: -11.976664585333333, 27: -11.30536034, 28: -14.760755439999999, 29: -8.364473860333334}, 2.96875: {20: -6.551798800666667, 21: -5.902375691, 22: -13.704951643333333, 23: -5.876325940000001, 24: -8.962086056333334, 25: -12.057448413666668, 26: -10.357399683666666, 27: -9.830346340666667, 28: -11.891931227666667, 29: -9.945791559000002}, 3.0625: {20: -11.505078259333333, 21: -5.528288676, 22: -9.152090989666666, 23: -6.721880503666665, 24: -9.357480688, 25: -11.250523237333333, 26: -11.125151908000001, 27: -8.552222484, 28: -10.639017629, 29: -13.518156280999998}, 4.1875: {20: -10.112865946666668, 21: -6.672479217, 22: -14.195493428333334, 23: -9.460952173999999, 24: -10.707303865333335, 25: -7.690244682333333, 26: -11.020673335666666, 27: -21.606438499999996, 28: -12.371171329, 29: -9.488060138}, 4.28125: {20: -9.264757656666667, 21: -14.632985142333332, 22: -10.919804615333334, 23: -11.954390008333334, 24: -10.731582893, 25: -11.797476438666665, 26: -9.766966538333334, 27: -7.649101597333332, 28: -11.671707497666668, 29: -14.289503636666666}, 4.375: {20: -8.240018469, 21: -11.838971028666668, 22: -11.798593073333334, 23: -10.048493903, 24: -11.356104601666667, 25: -14.107184317666666, 26: -8.312294626000002, 27: -10.761576715666669, 28: -10.470857652, 29: -9.997791740666665}, 4.65625: {20: -10.233565946333334, 21: -9.988018843666667, 22: -14.008263957333334, 23: -10.490086822666667, 24: -15.278998156666665, 25: -13.593506717333334, 26: -15.897755496666667, 27: -8.558509261666666, 28: -11.654032943333334, 29: -12.793954411333333}, 4.75: {20: -17.773683396666666, 21: -15.809491891333332, 22: -14.007365179999999, 23: -11.218280697333334, 24: -5.492180496666666, 25: -9.340699116666668, 26: -12.518015078, 27: -11.837586429, 28: -12.245207235333334, 29: -13.904050828666668}, 4.84375: {20: -8.141188623333333, 21: -10.904339721, 22: -19.841795396666665, 23: -8.332097215666666, 24: -12.81227117, 25: -6.191224151666667, 26: -14.585917522999999, 27: -11.683429011000001, 28: -11.413727898333335, 29: -13.49940537}, 4.9375: {20: -8.846939155666666, 21: -5.042566433666667, 22: -6.787879829333334, 23: -9.385921124000001, 24: -19.57315758, 25: -13.832821091999998, 26: -8.687682265333335, 27: -9.466459239, 28: -9.379531963666667, 29: -9.735431120666666}, 5.03125: {20: -12.870319294333333, 21: -8.578541426666666, 22: -11.526760201666669, 23: -9.084718973333333, 24: -14.406644283333334, 25: -12.298889479666668, 26: -16.966667345, 27: -8.68268498, 28: -10.248157207, 29: -15.096094682}, 5.5: {20: -5.741609431333334, 21: -9.397387723, 22: -14.902732286666668, 23: -4.158279980666666, 24: -12.047936686999998, 25: -8.252871281666666, 26: -12.167867453333335, 27: -9.680453006666667, 28: -11.148132937999998, 29: -8.952586931666668}, 5.59375: {20: -11.384653477999999, 21: -13.781495636666667, 22: -13.484726089666667, 23: -12.491246624333334, 24: -11.950133591666665, 25: -18.775979469666666, 26: -14.58137303, 27: -12.450533155666667, 28: -14.784012918333334, 29: -10.696649815}, 5.6875: {20: -7.603905233666666, 21: -11.109241626666666, 22: -14.376432313333332, 23: -14.03448008, 24: -11.894561323333333, 25: -9.264516805333333, 26: -7.616154313999999, 27: -7.999337483666667, 28: -13.073427326666668, 29: -9.071867965333334}, 5.78125: {20: -12.536231040999999, 21: -11.525707453666667, 22: -8.924891993666668, 23: -13.798838037000001, 24: -11.667356493, 25: -7.313489196333333, 26: -13.336673022, 27: -11.910863083, 28: -8.066539924333332, 29: -4.907407499666667}, 5.875: {20: -11.656033366, 21: -10.334021924333333, 22: -10.855876448999998, 23: -9.017081396, 24: -14.540407784666668, 25: -11.058043204666665, 26: -12.810237129, 27: -17.122930503333333, 28: -18.44509671333333, 29: -8.868703165333333}, 5.96875: {20: -11.038611022, 21: -15.588123135666669, 22: -9.476359608666668, 23: -11.68437932, 24: -11.353373518666666, 25: -7.610048254666666, 26: -19.014105573333335, 27: -14.606640409666667, 28: -9.944132605333333, 29: -4.963340459666667}, 6.15625: {20: -12.499342713333334, 21: -4.0293284756666665, 22: -7.587251722333334, 23: -7.573266766666667, 24: -13.277705343333333, 25: -10.941030105000001, 26: -11.737410543333333, 27: -15.820004849999998, 28: -11.374469988666668, 29: -19.741325976666662}, 6.25: {20: -10.457084508333333, 21: -11.549932824666667, 22: -7.136816349666667, 23: -16.62901913, 24: -11.724065239666666, 25: -18.93696832666667, 26: -10.969949528, 27: -11.302419084, 28: -6.6652046433333325, 29: -9.985006393}, 6.34375: {20: -10.253460533666667, 21: -10.630211688333333, 22: -8.402141907333332, 23: -7.8650831766666665, 24: -11.782602782333333, 25: -11.695596941333333, 26: -10.634039716, 27: -16.926626654, 28: -15.550636371000001, 29: -24.121137156666666}, 6.4375: {20: -10.804016406, 21: -10.871246186333332, 22: -11.602130333333335, 23: -12.516753621, 24: -10.512213656666667, 25: -12.525821982333333, 26: -14.296824456666664, 27: -9.862084286333333, 28: -11.805168181333334, 29: -11.377849181666667}, 7.0: {20: -16.61599397, 21: -10.506007299666667, 22: -13.741098618666664, 23: -6.906763752666667, 24: -15.709212933333333, 25: -10.721227657333335, 26: -16.62035744, 27: -17.99651442, 28: -7.545743538, 29: -11.024527711666666}, 7.09375: {20: -15.158671696666667, 21: -10.815709572666668, 22: -8.443875016, 23: -7.584713725333333, 24: -14.202279368666666, 25: -11.839803235666666, 26: -17.452254953333334, 27: -11.101181912000001, 28: -8.121417562, 29: -3.3753447953333335}, 7.28125: {20: -10.024688492666668, 21: -7.801990100000001, 22: -5.470102951, 23: -13.965963949333334, 24: -10.021373726999999, 25: -9.709726823666665, 26: -15.267512503333336, 27: -8.828532994, 28: -12.867406492, 29: -10.110544432}, 7.375: {20: -15.201728303333333, 21: -19.205339666666664, 22: -6.962464617666668, 23: -8.466977995333332, 24: -7.81739111, 25: -9.419769880333334, 26: -8.635516961666665, 27: -8.103204407, 28: -10.719293447666667, 29: -9.683600700666666}, 7.84375: {20: -13.363160522333333, 21: -11.164456164999999, 22: -12.581558930333335, 23: -13.105625145333333, 24: -14.142911003333333, 25: -9.675688189333334, 26: -12.928308377999999, 27: -12.489586661666666, 28: -7.699757232333334, 29: -8.183558596666666}, 7.9375: {20: -12.332217212333333, 21: -18.599151686666666, 22: -8.655077488333333, 23: -5.065341010333333, 24: -12.874821725333334, 25: -11.164949645666667, 26: -14.529833439999999, 27: -13.537821205, 28: -12.243060283333334, 29: -11.623799446333331}, 8.125: {20: -9.898739006666666, 21: -13.710065345333334, 22: -11.386690030000002, 23: -16.802950386666666, 24: -10.992824102999998, 25: -7.944892882666667, 26: -13.490161663333334, 27: -13.97905383, 28: -12.129545145666667, 29: -15.052542990000001}, 8.21875: {20: -18.276793828333336, 21: -16.411246639999998, 22: -14.705382426999998, 23: -12.550333494666665, 24: -15.688742486666667, 25: -8.590648600666666, 26: -10.416377791666667, 27: -13.550711724333334, 28: -12.960144169000001, 29: -11.254845291}, 8.3125: {20: -10.413179736000002, 21: -20.90256454733333, 22: -15.242502592, 23: -7.891557885666667, 24: -11.690961117666667, 25: -6.131280010333334, 26: -18.548302873333334, 27: -10.198015161999999, 28: -8.717874696, 29: -12.006169783666666}, 8.40625: {20: -13.940604935333335, 21: -2.9996374940000003, 22: -15.916167947666667, 23: -11.1678528, 24: -10.006159426666665, 25: -18.416607393333333, 26: -9.363322859333334, 27: -9.647022229, 28: -10.713586151000001, 29: -15.374345707333333}, 8.5: {20: -9.577743401333334, 21: -6.494430362333333, 22: -12.678999899999999, 23: -9.100346444000001, 24: -10.383505170666668, 25: -9.807495819666668, 26: -17.209487706333334, 27: -12.603797053333333, 28: -12.384260916666667, 29: -15.852682530666664}, 8.59375: {20: -14.97839318, 21: -7.863260122333333, 22: -10.070769258666667, 23: -16.423458264333334, 24: -11.761628654666666, 25: -7.725526062999999, 26: -12.371854694666666, 27: -10.370261023, 28: -14.272508843000002, 29: -13.560853996666665}, 8.6875: {20: -8.708551550000001, 21: -6.3608814963333336, 22: -12.601128606666665, 23: -7.931625920999999, 24: -11.058065256666666, 25: -11.135411597666668, 26: -14.52396924, 27: -7.922334493666667, 28: -9.000002046333334, 29: -10.827573748666666}, 8.78125: {20: -11.557193105333333, 21: -7.430571324, 22: -19.682488293333332, 23: -11.486583471666668, 24: -8.659276846666666, 25: -6.7925747979999995, 26: -16.457776146666664, 27: -18.306299229999997, 28: -11.043636466999999, 29: -10.742156750333335}, 8.875: {20: -17.858025643333335, 21: -14.239538143333334, 22: -6.739696817, 23: -7.638474159999999, 24: -15.260553089999997, 25: -10.559451667666666, 26: -7.707942123666666, 27: -11.552693587666667, 28: -13.800800662666667, 29: -11.131580626666667}, 8.96875: {20: -12.381389889333335, 21: -11.081305775333334, 22: -10.835119381, 23: -16.948209047333332, 24: -12.09222461, 25: -9.744577024333333, 26: -15.271996047333333, 27: -11.440888307666667, 28: -10.939794496666666, 29: -8.298733538}, 9.0625: {20: -16.93802966666667, 21: -12.626199707666666, 22: -13.236083467999999, 23: -9.285815348333331, 24: -10.865728881, 25: -8.203013429333334, 26: -17.605642636333332, 27: -8.784277279, 28: -11.713787205000001, 29: -7.578180515333333}, 9.15625: {20: -12.245273031000002, 21: -9.662848881666667, 22: -6.6579855556666665, 23: -7.204115057, 24: -17.665084433333334, 25: -6.480649917, 26: -12.384801228, 27: -9.897443406333334, 28: -8.318760258333333, 29: -8.453664400666666}, 9.25: {20: -9.912793111000001, 21: -12.116568129333332, 22: -16.632708945666668, 23: -13.283125253333333, 24: -11.416502898666666, 25: -13.460849532666666, 26: -14.041748196666665, 27: -16.965496086666665, 28: -13.070857441666666, 29: -15.227341564666668}, 9.34375: {20: -8.418056943666668, 21: -12.335008004666667, 22: -17.0334154, 23: -6.537556734666666, 24: -12.464820167, 25: -7.165002030666666, 26: -9.305200297333334, 27: -11.046175097666667, 28: -10.833658678666666, 29: -8.566476004333333}, 9.4375: {20: -13.336406535666669, 21: -20.606142390000002, 22: -7.835871414333333, 23: -7.512686001, 24: -14.983362559, 25: -11.900850163333331, 26: -15.640091783333334, 27: -8.566880864, 28: -16.259632563333334, 29: -13.400333467000001}, 9.53125: {20: -12.631904785000001, 21: -10.531952724333332, 22: -6.6271096006666665, 23: -11.486816798, 24: -13.85805351, 25: -7.630279105, 26: -9.558415409333334, 27: -8.516297253333333, 28: -13.430003540000001, 29: -11.945243405333335}, 9.71875: {20: -13.706843803333333, 21: -8.368768209666667, 22: -9.184082481666666, 23: -10.225321084, 24: -7.052602839333333, 25: -12.112037978333333, 26: -14.29752635, 27: -9.48218356, 28: -14.252328422666666, 29: -12.130827849333334}, 9.8125: {20: -12.608748198999999, 21: -9.241807956333334, 22: -14.952652360333333, 23: -11.222037989999999, 24: -16.307543973666668, 25: -14.533716380000001, 26: -6.900028933000001, 27: -19.46152916, 28: -8.363967912, 29: -9.305085199333332}, 9.90625: {20: -8.285055694999999, 21: -12.438707749, 22: -11.120823911333332, 23: -13.661927267666664, 24: -14.74372748666667, 25: -13.668599669, 26: -13.834108534333334, 27: -8.708681048333332, 28: -16.09666874, 29: -15.173939346666666}, 10.0: {20: -11.589274398999999, 21: -9.574536253333333, 22: -8.695274162666667, 23: -10.798578345333333, 24: -17.437197642333334, 25: -19.131933919999998, 26: -19.75623918333333, 27: -15.841636510666667, 28: -8.380368901, 29: -11.998002795666666}, 10.09375: {20: -15.571951838999999, 21: -10.884618968333333, 22: -6.115973587333333, 23: -7.150094054, 24: -18.11500788, 25: -12.000697945666667, 26: -13.342968683333332, 27: -18.116299316666666, 28: -10.358922188, 29: -8.092213363}, 10.1875: {20: -21.428526026666663, 21: -12.091805861, 22: -11.101190897, 23: -6.496455418, 24: -18.37685826666667, 25: -14.28563524, 26: -10.217817748666667, 27: -13.704921245333333, 28: -11.434422172, 29: -6.547125947666667}, 10.28125: {20: -13.314223126666667, 21: -8.153963305666666, 22: -10.301456213333333, 23: -11.583658634, 24: -18.443580576666665, 25: -16.253019946666665, 26: -11.814752653666666, 27: -14.009129184, 28: -12.817577521333334, 29: -7.1807688039999995}, 10.375: {20: -12.268737967666667, 21: -10.164150932, 22: -11.771713103333333, 23: -14.645974936333333, 24: -14.418263956666665, 25: -15.350164683333333, 26: -15.390773093333332, 27: -10.632395853666667, 28: -10.519679556333331, 29: -9.050719768999999}, 10.9375: {20: -10.742966795333333, 21: -15.051206837333332, 22: -10.487427063666667, 23: -11.636633799, 24: -16.149273149666666, 25: -18.194058996666666, 26: -13.250743705333333, 27: -11.896776259000001, 28: -18.32634566666667, 29: -11.073075795666668}, 11.03125: {20: -11.04298154, 21: -9.440474668333332, 22: -13.120779097666665, 23: -17.047616520000002, 24: -11.62816851, 25: -15.220956039333332, 26: -14.63601866, 27: -13.917875373000001, 28: -5.267412928333333, 29: -14.584196596666667}, 11.125: {20: -17.977980313333333, 21: -11.786179589333335, 22: -10.916178708333334, 23: -16.996911323333332, 24: -9.725213872333333, 25: -13.249471911999999, 26: -13.418134267333334, 27: -12.039656146666667, 28: -9.287538301666666, 29: -15.350634789999999}, 11.21875: {20: -9.798563426666668, 21: -15.508823976666667, 22: -10.347534007999998, 23: -6.197923102, 24: -13.115607956666665, 25: -10.074054410666667, 26: -17.65672853, 27: -12.583880848, 28: -13.101106778666667, 29: -8.383715127333334}, 11.3125: {20: -9.109555488666667, 21: -7.837235770333333, 22: -18.313810540000002, 23: -10.035952034666666, 24: -8.459168981333335, 25: -8.786630774666667, 26: -15.13458823, 27: -10.909266331333333, 28: -13.662326997666668, 29: -17.078458780000002}, 11.40625: {20: -15.455315626333332, 21: -9.909717047333334, 22: -9.693031741666667, 23: -8.892208550333335, 24: -19.44916951, 25: -14.714003717999999, 26: -10.949656801333333, 27: -8.576808015, 28: -13.939949800333332, 29: -13.042715655333334}, 11.5: {20: -10.755892973, 21: -15.315743889999998, 22: -11.624534061, 23: -7.838711616666667, 24: -12.979258976666666, 25: -19.935996966999998, 26: -14.233920094333333, 27: -10.659271773, 28: -17.873694396666668, 29: -12.044095449333334}, 11.59375: {20: -18.405088214666666, 21: -10.044136557666667, 22: -12.579380365, 23: -10.677533353333333, 24: -11.808674886, 25: -13.770595133333332, 26: -19.143865273333336, 27: -13.009772676666666, 28: -11.145614963666667, 29: -11.984762147}, 11.6875: {20: -10.256075956333333, 21: -18.769856233333332, 22: -17.340932506666665, 23: -11.861556643333335, 24: -12.825813585333334, 25: -12.511090096666669, 26: -18.62931488, 27: -12.093981821666667, 28: -10.50253777, 29: -9.142575070666666}, 11.78125: {20: -15.712757427333335, 21: -8.747097933, 22: -10.387288025333332, 23: -9.184330555666667, 24: -11.284633281666666, 25: -10.338246757666667, 26: -15.115269370000002, 27: -18.10909246, 28: -11.549309762666667, 29: -14.122650506666666}, 11.875: {20: -15.797957714, 21: -13.319303558666668, 22: -16.798069136666665, 23: -9.576596139000001, 24: -20.381991152, 25: -9.889915581, 26: -17.378605083333333, 27: -12.364572359999999, 28: -14.285870158666667, 29: -12.659434833}, 11.96875: {20: -13.234121288666666, 21: -10.824798524666667, 22: -13.370643088, 23: -9.950916141666667, 24: -16.371010848999997, 25: -13.567421143333334, 26: -20.246627813333333, 27: -12.362046143333332, 28: -12.540924761666666, 29: -10.234541872666666}, 12.0625: {20: -15.062951106666667, 21: -8.169876211, 22: -11.464690566333333, 23: -17.801897266666668, 24: -19.41706324, 25: -11.783000509666666, 26: -14.070734903333332, 27: -14.68399348, 28: -8.710054517333333, 29: -21.967671143333334}, 12.15625: {20: -12.133573607999999, 21: -15.408827213999999, 22: -9.234628053333333, 23: -12.343866924666665, 24: -13.524239498333335, 25: -9.724986591, 26: -11.857521996666668, 27: -23.133512113333335, 28: -16.740331366666666, 29: -12.039985287}, 12.25: {20: -16.66328558933333, 21: -9.337177837333334, 22: -13.564890030666666, 23: -10.619888833333333, 24: -14.744147576666668, 25: -8.821808451, 26: -11.440319167333334, 27: -16.214738940333334, 28: -11.379583833333333, 29: -11.137576885000001}, 12.53125: {20: -13.837318259999998, 21: -11.436293378, 22: -14.605037383333334, 23: -12.021900643, 24: -12.156556029999999, 25: -15.192386750000002, 26: -9.697495473333333, 27: -12.777551420666668, 28: -15.962446756666665, 29: -17.81785246}, 12.625: {20: -13.662908946666667, 21: -10.757657867666666, 22: -15.594212173333334, 23: -9.166795701, 24: -14.869275299666667, 25: -24.243116803333333, 26: -12.973773710000001, 27: -11.153477041333332, 28: -12.158007175333333, 29: -11.856062457666667}, 12.71875: {20: -17.777520903333336, 21: -8.360162574, 22: -13.488884566666668, 23: -13.774196173666667, 24: -13.985444336666667, 25: -8.958470169333333, 26: -16.82612979, 27: -12.872678901999999, 28: -15.230960590666667, 29: -13.442556621666666}, 12.90625: {20: -20.120378373333335, 21: -12.290488079999998, 22: -17.293312346666667, 23: -15.040571833333333, 24: -17.912945533333332, 25: -12.963247168333334, 26: -15.855358716666666, 27: -10.486199399, 28: -18.585844096666666, 29: -12.512521516}, 13.0: {20: -16.275099136666668, 21: -14.373715963333334, 22: -12.339120703666666, 23: -10.448839391999998, 24: -12.455897488333333, 25: -12.691594989999999, 26: -17.185322686666666, 27: -19.908902546666667, 28: -16.129602396666666, 29: -12.72797253533333}, 13.09375: {20: -16.906810376666666, 21: -12.972986686666667, 22: -11.550076919333334, 23: -13.201299033333333, 24: -13.134810026666665, 25: -15.140671900000001, 26: -15.007194256666667, 27: -11.145251087, 28: -12.096494511666664, 29: -10.79550684}, 13.5625: {20: -12.572338371333332, 21: -16.99725465, 22: -16.962182386666665, 23: -18.637481403333336, 24: -26.166792966666662, 25: -13.31351105, 26: -18.308097923333335, 27: -12.83458873, 28: -17.052565403333336, 29: -11.613635940333333}, 13.65625: {20: -14.337183920000001, 21: -16.630661720000003, 22: -13.633654313333333, 23: -12.356262326666666, 24: -17.745405663333333, 25: -11.629479179666667, 26: -18.531014396666666, 27: -13.500762353333334, 28: -20.20622134666667, 29: -15.347210024}, 13.75: {20: -17.02651536, 21: -18.464530686666667, 22: -19.91098035, 23: -21.81378906, 24: -14.548142913333331, 25: -24.8324635, 26: -16.85598177, 27: -18.359008326666668, 28: -20.060088699999998, 29: -21.526967743333334}, 13.84375: {20: -16.536013596666667, 21: -15.998942126666668, 22: -16.458150533333335, 23: -19.978295029999998, 24: -15.314166586666667, 25: -15.46942654, 26: -21.235798523333333, 27: -13.399155946, 28: -13.449596513333333, 29: -12.834700983333333}, 13.9375: {20: -14.483372546666667, 21: -16.62731081, 22: -17.92127893, 23: -19.944767636666665, 24: -13.319346256333333, 25: -24.860134126666665, 26: -20.00578263666667, 27: -20.001157176666666, 28: -21.62543064333333, 29: -14.756030323333334}, 14.03125: {20: -21.98701545, 21: -14.608966801333333, 22: -18.564037546666665, 23: -16.450251446666666, 24: -16.323896163333334, 25: -19.922316593333335, 26: -16.63346313, 27: -16.054710053333334, 28: -16.50481015, 29: -16.52961897333333}, 14.125: {20: -27.587601023333335, 21: -22.660039586666667, 22: -15.773347993666667, 23: -12.332244863333335, 24: -14.053344755666666, 25: -18.086399967666665, 26: -16.462456743333334, 27: -15.56154447, 28: -16.119090476666667, 29: -17.17229213}, 14.21875: {20: -16.552723236666665, 21: -16.544176756666666, 22: -17.636092566666665, 23: -16.958553665, 24: -32.42998265, 25: -13.779931313666667, 26: -22.374661893333336, 27: -17.150927406666668, 28: -19.591746936666667, 29: -24.582347083000002}, 14.3125: {20: -15.601870116666667, 21: -19.006612386666667, 22: -18.69896158, 23: -19.675165336666666, 24: -23.173533133333333, 25: -17.492342176666668, 26: -25.433602696666668, 27: -18.069397386666665, 28: -20.385513473333333, 29: -17.11551184}, 14.40625: {20: -14.073248466666664, 21: -21.74434094333333, 22: -20.073259773333334, 23: -26.5636062, 24: -18.11676636, 25: -16.39600657, 26: -19.023614383333335, 27: -19.05596366, 28: -19.24567608, 29: -16.209407376666665}, 14.5: {20: -19.847762876666668, 21: -19.898934426666667, 22: -15.538033290000001, 23: -19.861832743333334, 24: -23.158836163333334, 25: -17.324479683333333, 26: -15.508945503333335, 27: -15.408612156666669, 28: -25.78039674333333, 29: -21.329000736666668}, 14.59375: {20: -19.169438303333333, 21: -18.70796245, 22: -22.62956678, 23: -17.725593856666666, 24: -30.51169947, 25: -24.493820593333336, 26: -23.81876745, 27: -23.109519246666668, 28: -19.279005123333334, 29: -16.413451706666667}, 14.6875: {20: -19.130007213333332, 21: -21.109265516666667, 22: -17.219021966666666, 23: -18.72284045, 24: -23.30382640666667, 25: -19.366296969999997, 26: -18.64454720666667, 27: -15.082531046666666, 28: -16.557792153333335, 29: -15.93816631}, 14.78125: {20: -22.149231876666665, 21: -19.705284783333337, 22: -23.936393953333333, 23: -19.697201376666666, 24: -25.20297395333333, 25: -18.08565855666667, 26: -18.371692673333335, 27: -23.367921876666667, 28: -26.02373573, 29: -23.39149539}, 15.0625: {20: -21.790945320000002, 21: -18.555253183333335, 22: -19.040214176666666, 23: -22.46527190333333, 24: -23.721728143333337, 25: -22.03419207666667, 26: -26.457657856666668, 27: -28.966459886666666, 28: -21.72138513333333, 29: -17.266622363333333}, 15.15625: {20: -18.168749543333334, 21: -20.684422433333335, 22: -29.219226976666665, 23: -21.787798940000002, 24: -27.167019316666664, 25: -20.597090523333335, 26: -24.45449757333333, 27: -17.722944013333333, 28: -22.602300293333332, 29: -21.780126653333337}, 15.25: {20: -29.201914303333336, 21: -16.83118384, 22: -22.174620909999998, 23: -20.315248606666668, 24: -27.997567810000003, 25: -17.982092233333333, 26: -21.98081007, 27: -22.736420953333333, 28: -26.162490493333333, 29: -26.245480423333333}, 15.34375: {20: -20.399741996666666, 21: -24.733054453333335, 22: -23.41240346666667, 23: -21.877584563333333, 24: -24.22437274666667, 25: -18.617724066666668, 26: -21.755231466666668, 27: -24.572332963333334, 28: -22.611133063333337, 29: -21.51164334666667}, 15.625: {20: -25.51500038, 21: -22.280990406666664, 22: -26.48099738666667, 23: -33.016393120000004, 24: -26.485492313333335, 25: -23.734214226666666, 26: -28.260770500000003, 27: -24.447750773333336, 28: -34.014160866666664, 29: -23.983131526666668}, 15.71875: {20: -26.991886870000002, 21: -29.710512010000002, 22: -24.276530703333332, 23: -29.207769190000004, 24: -26.032229393333335, 25: -27.447212553333333, 26: -22.073116326666668, 27: -29.88350142, 28: -22.59354171, 29: -24.604813059999998}, 15.90625: {20: -33.33717915, 21: -29.663457103333332, 22: -34.33937851666667, 23: -27.063137693333335, 24: -30.255253306666663, 25: -27.043241913333333, 26: -28.992038096666665, 27: -36.018827503333334, 28: -30.440592746666667, 29: -21.925052126666667}, 16.0: {20: -29.933802283333332, 21: -27.262314103333335, 22: -28.736144926666665, 23: -28.765700839999997, 24: -28.640646556666667, 25: -28.742671363333333, 26: -30.364903576666666, 27: -28.568959489999997, 28: -29.439410956666666, 29: -32.97188689}, 16.09375: {20: -30.05938379666667, 21: -37.833983780000004, 22: -32.69339651333333, 23: -25.38064307, 24: -29.73164116, 25: -32.99067759333334, 26: -32.85212322666667, 27: -30.667875393333333, 28: -32.03747666333333, 29: -30.228098016666667}, 16.1875: {20: -34.75386047333333, 21: -27.46481482333333, 22: -32.72587024333333, 23: -26.012504683333333, 24: -34.54444155666666, 25: -32.98492445, 26: -35.44166507, 27: -34.3544796, 28: -27.075025240000002, 29: -34.53531910666667}, 16.28125: {20: -34.27246048333333, 21: -31.01094863, 22: -33.62907367333333, 23: -33.983564046666665, 24: -39.87820321, 25: -30.709790243333334, 26: -43.284884, 27: -34.02826972666667, 28: -33.40552179666667, 29: -32.60314889}, 16.375: {20: -32.609550193333334, 21: -33.14171135666667, 22: -33.58531046666666, 23: -31.200738686666664, 24: -35.04649097, 25: -36.398595476666664, 26: -34.61162332, 27: -36.53538682333333, 28: -34.395324210000005, 29: -35.177240579999996}, 16.46875: {20: -37.95820891333333, 21: -41.04257913, 22: -38.73723052333333, 23: -42.34937476, 24: -44.71393241666667, 25: -29.974659996666663, 26: -38.17869171, 27: -40.00706044333334, 28: -38.071100476666665, 29: -41.3523772}, 16.5625: {20: -45.69432860333333, 21: -36.68051414333333, 22: -40.35758746333334, 23: -39.301036636666666, 24: -39.35273290333333, 25: -46.72603591, 26: -45.90784902666667, 27: -39.64320369, 28: -38.11904306, 29: -40.45904787333334}, 16.65625: {20: -48.946604470000004, 21: -41.36093964333333, 22: -43.35678458333334, 23: -42.39090091333333, 24: -45.90125759, 25: -45.00044248666668, 26: -43.46307963666667, 27: -41.086957113333334, 28: -41.00789254, 29: -42.33110956666667}, 16.75: {20: -45.738767800000005, 21: -51.49889789666667, 22: -44.46420261666666, 23: -39.88353794333333, 24: -48.777150150000004, 25: -48.12264202, 26: -46.475307140000005, 27: -42.825902799999994, 28: -42.139043093333335, 29: -50.41361546666667}, 16.84375: {20: -49.47266588, 21: -42.72776873666666, 22: -50.87811363666666, 23: -47.25666786666667, 24: -48.735922996666666, 25: -49.45485420333333, 26: -50.43815353333333, 27: -46.28333495333334, 28: -51.44595145333333, 29: -44.96236101333333}, 16.9375: {20: -50.167527586666665, 21: -57.92067415333333, 22: -53.82258903333334, 23: -49.95852002666666, 24: -54.308031673333325, 25: -44.98837236, 26: -52.503723900000004, 27: -49.375842363333334, 28: -50.97377525666667, 29: -47.9390996}, 17.03125: {20: -52.51115849333333, 21: -50.21028899666667, 22: -49.774489519999996, 23: -50.77969459, 24: -47.65843085, 25: -51.352552870000004, 26: -49.86738177666667, 27: -52.742020913333334, 28: -49.914658806666665, 29: -52.71223340666668}, 17.125: {20: -57.28041291333333, 21: -47.94472022333333, 22: -53.515463806666666, 23: -44.952613856666666, 24: -53.90130989333334, 25: -48.31833297666666, 26: -53.45575496666667, 27: -51.79092522333334, 28: -46.08521122, 29: -52.153449766666675}, 17.21875: {20: -51.405899680000005, 21: -50.37854374, 22: -44.84380138, 23: -55.00234311, 24: -53.64299787000001, 25: -46.23487305, 26: -49.38305823666667, 27: -47.67120354, 28: -47.291996373333326, 29: -49.45319221333333}, 17.3125: {20: -51.835418159999996, 21: -48.03498105, 22: -58.49210964666667, 23: -58.299582953333335, 24: -52.41630859333333, 25: -50.99857943999999, 26: -48.37332755666666, 27: -50.74355061333333, 28: -57.31368333333333, 29: -44.65820186333334}, 17.40625: {20: -47.55604007666667, 21: -49.03874650666666, 22: -57.56062317333334, 23: -49.73177171333333, 24: -52.11569840333333, 25: -51.250212833333336, 26: -53.01393745666667, 27: -53.14720312, 28: -59.19258826, 29: -50.46881960333334}, 17.5: {20: -50.92302052666667, 21: -51.228549326666666, 22: -50.72433475666667, 23: -59.820864023333336, 24: -53.79877914333334, 25: -45.78275406666666, 26: -55.81641144333333, 27: -55.01732532666667, 28: -51.22732285666667, 29: -52.495058856666674}, 17.59375: {20: -60.63370813666666, 21: -50.10542976, 22: -49.87663580666666, 23: -55.94948631, 24: -46.29968238, 25: -55.12949408, 26: -54.050627326666664, 27: -49.67123024666666, 28: -49.74066714, 29: -46.20506311666667}, 17.6875: {20: -46.198413846666675, 21: -50.80372256333334, 22: -53.05088602000001, 23: -49.00857567666666, 24: -58.48600861666667, 25: -51.21493207666666, 26: -51.47501348, 27: -50.42886567, 28: -54.39605024333334, 29: -47.36907635666666}, 17.78125: {20: -49.980273643333334, 21: -48.98984196333333, 22: -49.195782843333326, 23: -46.73760382333333, 24: -51.59224157333333, 25: -47.97549864333333, 26: -50.05907443666666, 27: -55.35502224333334, 28: -49.11944836, 29: -47.325112880000006}, 17.875: {20: -51.09909974000001, 21: -48.61301228666667, 22: -49.07301392333333, 23: -47.00588283, 24: -56.294867430000004, 25: -57.39652815, 26: -50.833857630000004, 27: -49.92603442666667, 28: -50.09211360333334, 29: -49.68510446}, 17.96875: {20: -55.14709656333334, 21: -55.17069742, 22: -51.71851582, 23: -59.0056502, 24: -49.641197106666674, 25: -48.062521043333334, 26: -54.68203481999999, 27: -49.88563419333334, 28: -48.637116846666665, 29: -51.14031245333334}, 18.0625: {20: -49.90258574333333, 21: -56.75838026, 22: -56.37038196333333, 23: -50.429176573333336, 24: -49.52678780333333, 25: -58.40210952666667, 26: -56.24791499333333, 27: -53.060845349999994, 28: -54.01085874, 29: -48.562351533333334}, 18.15625: {20: -50.93220796, 21: -55.11066224, 22: -48.57637019, 23: -47.39912486333333, 24: -50.27651056666667, 25: -48.12735834, 26: -51.821753046666664, 27: -52.30663749666667, 28: -49.02888863333334, 29: -52.973396869999995}, 18.25: {20: -51.53117922333333, 21: -47.713654983333335, 22: -49.83550165666667, 23: -52.989357456666674, 24: -50.073086319999994, 25: -58.631471823333335, 26: -50.76444803333334, 27: -53.25893676333334, 28: -56.57152361000001, 29: -48.46701229333333}, 18.34375: {20: -59.09420311, 21: -56.536140886666665, 22: -57.20989908333333, 23: -50.14859694999999, 24: -52.286154866666664, 25: -53.592204916666674, 26: -51.15757673666667, 27: -48.799670863333326, 28: -51.67534864666667, 29: -52.44552692333334}, 18.4375: {20: -50.428818619999994, 21: -48.97087509333334, 22: -50.83755039, 23: -50.18478181333333, 24: -51.582130713333335, 25: -48.01833553333333, 26: -54.30678083666667, 27: -45.564514263333336, 28: -52.54867224666666, 29: -51.38659000333333}, 18.53125: {20: -50.000457600000004, 21: -59.87522042, 22: -46.99303846, 23: -59.92970529666667, 24: -52.47352073666667, 25: -49.83033897666667, 26: -58.25082748333333, 27: -54.65327430333334, 28: -52.331414669999994, 29: -53.71181430000001}, 18.625: {20: -51.708452703333336, 21: -50.42494492333333, 22: -53.794397886666665, 23: -54.45241052666666, 24: -59.01322594333334, 25: -52.24415930666667, 26: -52.03127933666667, 27: -50.84879594666666, 28: -51.07539621666666, 29: -48.80318121}, 18.71875: {20: -51.713542053333335, 21: -48.29494408, 22: -51.10487108666666, 23: -51.90021565999999, 24: -54.724296900000006, 25: -54.92709029666667, 26: -60.96720509666667, 27: -59.985002030000004, 28: -54.56913773, 29: -49.593297269999994}, 18.8125: {20: -53.14604100666667, 21: -48.81478374666667, 22: -50.76182322666667, 23: -49.87896841, 24: -51.10373153, 25: -52.68370650333333, 26: -56.340200779999996, 27: -52.68916032333333, 28: -51.77473152666666, 29: -55.46767689000001}, 18.90625: {20: -55.80564266333334, 21: -52.629830653333336, 22: -55.559988913333335, 23: -53.43158999666667, 24: -59.93969078000001, 25: -50.99889673333333, 26: -53.61207033666667, 27: -50.5810847, 28: -49.90206324, 29: -55.78879405}, 19.0: {20: -57.66603715, 21: -48.94620576, 22: -48.286304076666674, 23: -58.34960795666666, 24: -61.747171633333345, 25: -51.09424488, 26: -51.293938903333334, 27: -57.531214330000005, 28: -50.55071293666666, 29: -56.69234169666667}, 19.09375: {20: -56.72640792000001, 21: -54.80873648333333, 22: -48.546114689999996, 23: -51.73541967333333, 24: -53.45227431666667, 25: -51.70727489666666, 26: -52.75815463333333, 27: -53.68090470999999, 28: -57.70570553666667, 29: -50.352608866666664}, 19.1875: {20: -51.18266507333333, 21: -48.17050637666667, 22: -52.59780574333333, 23: -49.36571362666666, 24: -60.48817100666667, 25: -53.146298910000006, 26: -53.77804811666667, 27: -55.060784823333336, 28: -58.22377851666666, 29: -56.83862819000001}, 19.28125: {20: -55.83901113333334, 21: -51.26359760666666, 22: -49.65719504333333, 23: -53.08506910666667, 24: -56.602041613333334, 25: -58.74945632, 26: -51.87335977, 27: -49.417397789999995, 28: -50.62254136666667, 29: -46.766585453333334}, 19.375: {20: -53.48713011, 21: -51.1874556, 22: -54.92404233, 23: -50.929407016666666, 24: -55.11605322, 25: -50.06136269, 26: -53.64837001, 27: -50.330242853333324, 28: -53.42839713, 29: -48.82633465333333}, 19.46875: {20: -53.70232089666666, 21: -60.73495045000001, 22: -51.96451597666667, 23: -52.862284416666675, 24: -52.96884544333333, 25: -51.30554472666666, 26: -50.743624213333334, 27: -51.15666865, 28: -53.41897970666667, 29: -53.915691966666664}, 19.5625: {20: -52.826782200000004, 21: -51.89494146333334, 22: -52.66139857666667, 23: -50.84628649333333, 24: -60.060924193333335, 25: -49.26315266999999, 26: -57.36436236, 27: -53.681809353333335, 28: -52.825290973333324, 29: -50.49552616}, 19.65625: {20: -54.296729199999994, 21: -51.366940199999995, 22: -57.69541400666666, 23: -51.14640874, 24: -50.951177519999995, 25: -54.73406272666667, 26: -54.72830815333333, 27: -50.09379705333333, 28: -54.58047315333334, 29: -57.34744232}, 19.75: {20: -51.17499342666667, 21: -48.128120343333336, 22: -52.13050655666666, 23: -60.32942652333333, 24: -52.02829187, 25: -54.541885013333335, 26: -55.55977633, 27: -51.04897770333333, 28: -56.96420747, 29: -52.208325030000005}, 19.84375: {20: -53.31843701, 21: -56.83607039333333, 22: -51.39123173666667, 23: -53.2581739, 24: -50.86612727666667, 25: -50.74008585666667, 26: -51.74199722333333, 27: -52.25098248333333, 28: -54.15352517333334, 29: -52.27816715}}]}\n"
          ]
        }
      ]
    },
    {
      "cell_type": "code",
      "source": [
        "print(df_store_selcted_columns['Node_1'][0])"
      ],
      "metadata": {
        "id": "b2n8ujtSELCa",
        "outputId": "a569adce-d4df-4442-9e77-95e1d4fad06d",
        "colab": {
          "base_uri": "https://localhost:8080/"
        }
      },
      "execution_count": 339,
      "outputs": [
        {
          "output_type": "stream",
          "name": "stdout",
          "text": [
            "[1, 2, 3, 4, 5, 6, 7, 8, 9, 10, 11, 12, 18, 19, 20, 21, 22, 23, 26, 27, 29, 30, 31, 32, 33, 34, 35, 39, 40, 41, 42, 43, 44, 47, 48, 49, 50, 56, 57, 69, 70, 74, 75, 76, 77, 78, 80, 81, 82, 88, 89, 90, 91, 92, 93, 94, 95, 96, 97, 98, 99, 100, 101, 102, 103, 104, 105, 106, 110, 111, 112, 116, 117, 118, 119, 120, 121, 123, 124, 125, 126, 127, 128, 129, 130, 133, 134, 135, 136, 137, 138, 139, 140, 144, 145, 146, 147, 148, 149, 150, 151, 152, 153, 154, 155, 156, 157, 158, 159, 160, 168, 169, 170, 171, 172, 173, 174, 175, 176, 177, 178, 179, 180, 185, 186, 187, 188, 189, 190, 191, 192, 193, 194, 195, 196, 198, 199, 203, 204, 205, 210, 211, 212, 213]\n"
          ]
        }
      ]
    },
    {
      "cell_type": "code",
      "source": [
        "#Actual values\n",
        "y_actual = df_qpsk['#node'].to_numpy()"
      ],
      "metadata": {
        "id": "57PPxlbzEbZo"
      },
      "execution_count": 331,
      "outputs": []
    },
    {
      "cell_type": "code",
      "source": [
        "\n",
        "for node_sample in df_store_sample.keys():\n",
        "  selected_columns_for_samples = df_store_selcted_columns[node_sample]\n",
        "  \n",
        "  # Get model data\n",
        "  model_node_row_left, model_node_row_right = model_focus_selector(QPSK_dummy_df, selected_columns_for_samples, node_to_be_eval=model_node)"
      ],
      "metadata": {
        "id": "k-zN0dGEG8rJ"
      },
      "execution_count": null,
      "outputs": []
    },
    {
      "cell_type": "code",
      "source": [
        "y_pred = []\n",
        "\n",
        "r_sqr_sample = []\n",
        "for node_sample in df_store_sample.keys():\n",
        "  print(node_sample)\n",
        "  left_sample_df = pd.DataFrame.from_dict(df_store_sample[node_sample][0])\n",
        "  rigth_sample_df = pd.DataFrame.from_dict(df_store_sample[node_sample][1])\n",
        "  \n",
        "  for row in range(left_sample_df.shape[0]):\n",
        "    #Looping each row of df\n",
        "    left_sample_df = left_sample_df.iloc[row].to_numpy()\n",
        "    left_sample_df = left_sample_df[5:]\n",
        "\n",
        "    rigth_sample_df = rigth_sample_df.iloc[row].to_numpy()\n",
        "    rigth_sample_df = rigth_sample_df[5:]\n",
        "\n",
        "    \n",
        "\n",
        "\n",
        "\n"
      ],
      "metadata": {
        "colab": {
          "base_uri": "https://localhost:8080/",
          "height": 677
        },
        "id": "nJLxftKeA7fX",
        "outputId": "2fc4ddfb-5400-4231-d2d8-8fddcb8af45b"
      },
      "execution_count": 328,
      "outputs": [
        {
          "output_type": "stream",
          "name": "stdout",
          "text": [
            "Node_1\n",
            "0\n"
          ]
        },
        {
          "output_type": "display_data",
          "data": {
            "text/plain": [
              "array([-52.30302911, -53.43767923, -50.90120175, -52.72459962,\n",
              "       -55.60573356, -56.92678496, -52.08183054, -59.79122085,\n",
              "       -51.14052998, -53.28293694, -65.17138186, -50.61843905,\n",
              "       -51.46959223, -50.37193311, -65.33102483, -55.43632474,\n",
              "       -52.58985033, -48.19654456, -55.54580931, -53.06106823,\n",
              "       -58.78131445, -49.81608072, -48.7725261 , -54.74268522,\n",
              "       -36.65662819, -34.30167549, -33.08356681, -21.77228871,\n",
              "       -23.55129939, -24.01074921, -20.77485773, -18.26917074,\n",
              "       -16.79971197, -13.54139091, -16.98917354, -17.60622392,\n",
              "       -18.77113341, -17.13246393, -15.03314497, -14.28868277,\n",
              "       -10.55276243, -16.36439289, -13.92484198, -13.39962664,\n",
              "       -17.85655561, -12.8573529 , -13.87863923, -13.11027555,\n",
              "       -15.24708948, -12.55633213, -15.46524918, -15.6620515 ,\n",
              "       -14.90685252,  -9.59406023, -16.23541791, -10.75720481,\n",
              "       -15.37281088, -14.64249218, -15.26007168,  -9.45962065,\n",
              "       -16.25841196,  -7.56213148, -11.69450033,  -6.15504729,\n",
              "       -11.37860937, -23.22378259, -15.05348732, -13.96892642,\n",
              "       -10.19041367, -19.16972761, -13.49301503, -14.18779042,\n",
              "       -14.66819763, -13.69978978, -16.5884989 ,  -7.33436015,\n",
              "       -10.60093938, -11.36030407, -13.76202624, -19.38848389,\n",
              "       -11.86288979, -11.77327025, -11.69938603, -13.3641146 ,\n",
              "       -10.37426283, -16.51035366, -13.83445026, -13.31986306,\n",
              "        -9.53999319, -11.21020487, -13.84621556,  -9.54471376,\n",
              "       -13.94655427, -13.88916108,  -7.75600991, -12.56529065,\n",
              "       -13.41953088, -15.18116433,  -8.69619275, -10.81169882,\n",
              "       -13.42202415,  -6.86567982, -18.01525489, -10.36183541,\n",
              "        -8.80706364,  -8.4811342 , -11.12982655, -12.33211721,\n",
              "        -9.05137055, -17.32341427,  -9.06780692, -25.00176478,\n",
              "       -13.65068668,  -9.20678571,  -7.18051626, -12.13288174,\n",
              "       -16.49914397,  -7.45554901,  -9.86530698, -12.70619106,\n",
              "       -10.22207205, -17.94856296, -13.93991989, -16.45909505,\n",
              "       -17.80674177,  -8.59822146, -21.04189074,  -9.53558537,\n",
              "       -12.39731091,  -8.17948691, -12.885257  , -11.06886944,\n",
              "       -13.17744187,  -9.90451689, -11.53554865, -12.89260783,\n",
              "       -23.25793153, -19.47235062, -14.15335481, -14.46545023,\n",
              "       -12.19652754, -15.18387685,  -9.40358088, -12.34428426])"
            ]
          },
          "metadata": {}
        }
      ]
    },
    {
      "cell_type": "code",
      "source": [
        "df_store_model = {}\n",
        "\n",
        "#Actual values\n",
        "y_actual = df_qpsk['#node'].to_numpy()\n",
        "# Predicition\n",
        "y_pred = []\n",
        "#df = pd.DataFrame.from_dict(df_store_sample['Node_1'])\n",
        "for k_model, df_model in df_store_model.items():\n",
        "  # Model df\n",
        "  left_model_df = pd.DataFrame.from_dict(df_store_model[k_model][0])\n",
        "  rigth_model_df = pd.DataFrame.from_dict(df_store_model[k_model][1]) \n",
        "\n",
        "  for k_sample, df_sample in df_store_sample.items():\n",
        "    # Sample df\n",
        "    \n",
        "    left_sample_df = pd.DataFrame.from_dict(df_store_sample[k][0])\n",
        "    rigth_sample_df = pd.DataFrame.from_dict(df_store_sample[k][1])\n",
        "    \n",
        "    y_actual.append()\n",
        "\n",
        "\n",
        "\n",
        "  # Get linear regresion features\n",
        "  combined_features_dict, r_sqr_val, intercept_val, slope_val = linear_regresion(node_df_left, node_df_right, model_node_row_left, model_node_row_right)\n",
        "\n",
        "\n",
        "  # Get linear regresion features\n",
        "  combined_features_dict, r_sqr_val, intercept_val, slope_val = linear_regresion(node_df_left, node_df_right, model_node_row_left, model_node_row_right)\n",
        "  features_combined_dict['Node_'+str(node)] = combined_features_dict"
      ],
      "metadata": {
        "id": "FbilZuO3D-QF"
      },
      "execution_count": null,
      "outputs": []
    },
    {
      "cell_type": "code",
      "source": [
        "# Sample node\n",
        "sample_node = 1\n",
        "# Model node\n",
        "model_node = 1\n",
        "\n",
        "# Get sample data\n",
        "node_df_left, node_df_right, selected_columns = focus_selector_complete(df_qpsk, node_to_be_eval=sample_node, min_desired_reduction_of_noise=0.15, aggregation = False, min_prime = False)\n",
        "\n",
        "# Get model data\n",
        "model_node_row_left, model_node_row_right = model_focus_selector(QPSK_dummy_df, selected_columns, node_to_be_eval=model_node)\n",
        "\n",
        "print('---Left Side Shape---')\n",
        "print(node_df_left.shape)\n",
        "print(model_node_row_left.shape)\n",
        "\n",
        "print('---right Side Shape---')\n",
        "print(node_df_right.shape)\n",
        "print(model_node_row_right.shape)\n",
        "\n",
        "# Get linear regresion features\n",
        "combined_features_dict, r_sqr_val, intercept_val, slope_val = linear_regresion(node_df_left, node_df_right, model_node_row_left, model_node_row_right)\n",
        "\n",
        "print('---Linear Regresion Features---')\n",
        "print('coefficient of determination:', r_sqr_val)\n",
        "print('intercept:', intercept_val)\n",
        "print('slope:', slope_val)"
      ],
      "metadata": {
        "colab": {
          "base_uri": "https://localhost:8080/"
        },
        "id": "ff5ABgtP_Uoe",
        "outputId": "f5692912-f9de-4fc5-87d5-3efac3e2075c"
      },
      "execution_count": 267,
      "outputs": [
        {
          "output_type": "stream",
          "name": "stdout",
          "text": [
            "Reduced 1281 columns to 1045 columns.\n",
            "18.0% reduced noise using a threshold of 1300%.\n",
            "Columns selected [1, 2, 3, 4, 5, 6, 7, 8, 9, 10, 11, 12, 13, 14, 15, 16, 17, 18, 19, 20, 21, 22, 23, 24, 25, 26, 27, 28, 29, 30, 31, 32, 33, 34, 35, 36, 37, 38, 39, 40, 41, 45, 46, 48, 49, 54, 55, 56, 57, 58, 59, 60, 61, 62, 63, 64, 65, 66, 67, 68, 69, 74, 75, 76, 77, 78, 79, 80, 81, 82, 83, 84, 85, 86, 87, 88, 89, 90, 91, 92, 93, 94, 95, 98, 99, 100, 101, 102, 103, 104, 105, 107, 108, 109, 110, 111, 112, 113, 114, 115, 116, 117, 118, 119, 120, 124, 125, 126, 127, 128, 130, 131, 132, 133, 138, 139, 140, 141, 144, 145, 146, 147, 148, 149, 150, 151, 152, 153, 154, 155, 156, 157, 158, 159, 160, 161, 162, 163, 164, 165, 168, 169, 170, 171, 172, 173, 174, 175, 176, 177, 178, 179, 180, 181, 182, 183, 184, 185, 186, 187, 188, 189, 190, 191, 192, 193, 194, 195, 199, 202, 206, 207, 209, 210, 211, 212, 213, 214, 215, 216, 217, 218, 219, 220, 221, 222, 223, 224, 225, 226, 227, 228, 229, 230, 231, 232, 233, 239, 240, 241, 243, 246, 247, 250, 251, 252, 253, 254, 255, 256, 257, 258, 259, 260, 261, 264, 265, 266, 267, 268, 269, 270, 271, 272, 273, 279, 280, 282, 283, 286, 287, 288, 289, 290, 291, 292, 293, 294, 295, 297, 298, 299, 300, 301, 302, 303, 304, 307, 308, 309, 310, 311, 312, 313, 314, 315, 316, 317, 318, 319, 320, 323, 324, 325, 326, 327, 328, 329, 330, 331, 332, 333, 334, 335, 336, 337, 338, 339, 340, 341, 342, 343, 344, 345, 346, 347, 349, 350, 351, 352, 353, 354, 359, 360, 361, 362, 363, 364, 365, 366, 367, 368, 369, 370, 371, 372, 373, 374, 375, 376, 377, 378, 379, 380, 381, 382, 383, 384, 385, 386, 387, 388, 389, 390, 391, 392, 393, 394, 397, 401, 402, 403, 404, 405, 406, 407, 408, 409, 410, 412, 413, 414, 415, 416, 417, 418, 420, 421, 422, 423, 424, 425, 426, 427, 428, 429, 430, 431, 432, 433, 435, 436, 437, 438, 439, 440, 441, 442, 443, 444, 445, 447, 448, 449, 450, 451, 452, 453, 454, 455, 456, 457, 459, 460, 461, 462, 463, 464, 465, 466, 470, 471, 477, 478, 479, 482, 488, 489, 490, 492, 496, 497, 498, 499, 500, 501, 502, 503, 504, 505, 506, 507, 508, 509, 510, 511, 512, 513, 514, 515, 516, 517, 518, 519, 520, 521, 522, 523, 524, 525, 526, 527, 528, 529, 530, 531, 532, 533, 534, 535, 536, 537, 538, 539, 540, 544, 545, 546, 547, 551, 552, 555, 556, 557, 558, 559, 560, 561, 562, 565, 566, 567, 568, 569, 570, 575, 576, 577, 578, 579, 580, 581, 582, 583, 584, 585, 586, 587, 588, 589, 590, 591, 592, 593, 594, 595, 597, 598, 599, 601, 602, 603, 605, 606, 607, 608, 609, 610, 611, 612, 613, 614, 615, 616, 617, 618, 619, 620, 621, 622, 623, 624, 625, 626, 627, 628, 631, 632, 633, 634, 635, 637, 638, 641, 642, 643, 644, 645, 646, 655, 656, 657, 660, 662, 663, 664, 665, 666, 667, 668, 669, 670, 671, 672, 673, 674, 675, 676, 677, 678, 679, 680, 681, 682, 683, 684, 685, 686, 687, 688, 689, 690, 691, 692, 693, 694, 695, 696, 700, 701, 703, 705, 706, 707, 708, 709, 710, 712, 713, 714, 715, 716, 717, 718, 719, 720, 721, 722, 723, 724, 725, 726, 727, 729, 730, 731, 734, 735, 739, 740, 741, 742, 743, 744, 745, 746, 747, 748, 749, 750, 751, 752, 753, 754, 760, 761, 763, 764, 765, 766, 767, 768, 769, 770, 771, 772, 773, 774, 775, 776, 777, 778, 779, 780, 781, 782, 783, 784, 785, 786, 789, 790, 791, 792, 793, 794, 795, 796, 797, 798, 802, 803, 804, 805, 806, 807, 808, 809, 810, 811, 812, 813, 814, 815, 816, 817, 818, 819, 820, 821, 822, 823, 824, 827, 828, 829, 830, 831, 832, 833, 834, 835, 836, 837, 838, 839, 840, 841, 842, 843, 844, 845, 846, 851, 852, 853, 854, 855, 856, 857, 858, 859, 860, 861, 862, 863, 864, 869, 870, 871, 872, 873, 874, 875, 876, 877, 878, 879, 880, 881, 882, 883, 884, 885, 886, 887, 888, 889, 890, 892, 893, 894, 898, 899, 900, 901, 902, 903, 904, 905, 906, 907, 908, 910, 911, 912, 913, 914, 915, 916, 917, 918, 919, 920, 921, 922, 923, 924, 925, 926, 927, 928, 929, 930, 931, 932, 933, 934, 935, 936, 937, 938, 939, 940, 941, 943, 946, 947, 953, 954, 955, 956, 957, 958, 959, 960, 961, 962, 963, 964, 965, 966, 967, 968, 969, 970, 971, 972, 973, 974, 975, 979, 980, 981, 982, 983, 984, 985, 986, 987, 988, 989, 990, 991, 992, 993, 994, 995, 996, 997, 999, 1002, 1003, 1004, 1005, 1007, 1008, 1009, 1010, 1012, 1013, 1014, 1015, 1016, 1017, 1018, 1019, 1020, 1021, 1022, 1023, 1024, 1025, 1026, 1027, 1028, 1029, 1030, 1031, 1032, 1033, 1034, 1035, 1036, 1037, 1038, 1039, 1040, 1041, 1042, 1043, 1044, 1045, 1046, 1047, 1048, 1054, 1056, 1063, 1064, 1065, 1066, 1067, 1068, 1069, 1070, 1071, 1072, 1073, 1074, 1076, 1077, 1078, 1079, 1080, 1087, 1088, 1089, 1090, 1091, 1092, 1093, 1094, 1095, 1096, 1097, 1098, 1099, 1100, 1101, 1102, 1103, 1104, 1106, 1108, 1109, 1115, 1116, 1117, 1118, 1119, 1120, 1121, 1122, 1123, 1124, 1125, 1126, 1127, 1128, 1129, 1132, 1133, 1134, 1135, 1136, 1137, 1138, 1139, 1140, 1141, 1142, 1143, 1144, 1148, 1149, 1150, 1151, 1152, 1153, 1154, 1155, 1156, 1157, 1158, 1162, 1163, 1164, 1166, 1167, 1168, 1169, 1170, 1171, 1172, 1173, 1174, 1175, 1176, 1178, 1179, 1180, 1181, 1182, 1183, 1184, 1185, 1186, 1187, 1188, 1189, 1190, 1191, 1192, 1193, 1195, 1196, 1197, 1198, 1199, 1200, 1201, 1202, 1203, 1204, 1205, 1206, 1207, 1208, 1209, 1210, 1211, 1214, 1215, 1216, 1220, 1221, 1224, 1228, 1229, 1230, 1233, 1234, 1235, 1236, 1237, 1238, 1240, 1241, 1242, 1243, 1246, 1247, 1248, 1249, 1250, 1251, 1252, 1253, 1254, 1255, 1256, 1257, 1258, 1259, 1260, 1261, 1262, 1263, 1265, 1266, 1267, 1269, 1270, 1271, 1272, 1273, 1274, 1275, 1276, 1277, 1278, 1279, 1280, 1281]\n",
            "---Left Side Shape---\n",
            "(10, 528)\n",
            "(1, 528)\n",
            "---right Side Shape---\n",
            "(10, 526)\n",
            "(1, 526)\n",
            "---Linear Regresion Features---\n",
            "coefficient of determination: 0.8870656881561457\n",
            "intercept: -2.2017675842815763\n",
            "slope: 0.8872517124880088\n"
          ]
        },
        {
          "output_type": "stream",
          "name": "stderr",
          "text": [
            "/usr/local/lib/python3.7/dist-packages/pandas/core/frame.py:4913: SettingWithCopyWarning: \n",
            "A value is trying to be set on a copy of a slice from a DataFrame\n",
            "\n",
            "See the caveats in the documentation: https://pandas.pydata.org/pandas-docs/stable/user_guide/indexing.html#returning-a-view-versus-a-copy\n",
            "  errors=errors,\n"
          ]
        }
      ]
    },
    {
      "cell_type": "code",
      "source": [
        "print(combined_features_dict)"
      ],
      "metadata": {
        "colab": {
          "base_uri": "https://localhost:8080/"
        },
        "id": "oEn4yMw9o2gd",
        "outputId": "f2172d63-4b6d-4ee8-fa5f-6a29bc46dec8"
      },
      "execution_count": 300,
      "outputs": [
        {
          "output_type": "stream",
          "name": "stdout",
          "text": [
            "{'Sample_1': [0.8833863390715191, -1.9461701142247314, 0.8780060144855435], 'Sample_2': [0.884968449209298, -3.004290324874715, 0.8881606313213234], 'Sample_3': [0.8855196537979639, -2.1750212403980953, 0.8894978271839873], 'Sample_4': [0.8916998981010285, -3.051426735850324, 0.8861469488934133], 'Sample_5': [0.8829683396261425, -1.171668580696453, 0.8898245720925081], 'Sample_6': [0.8835023749892577, -2.8324245404233306, 0.8733441416652403], 'Sample_7': [0.8874445808115341, -0.793366885692917, 0.890154005230884], 'Sample_8': [0.900930670326529, -2.0226616321109816, 0.8986698437755491], 'Sample_9': [0.8868361404479461, -2.1726609495037597, 0.8797609115292577], 'Sample_10': [0.8834004351802379, -2.847984839040457, 0.898952228702382]}\n"
          ]
        }
      ]
    }
  ]
}